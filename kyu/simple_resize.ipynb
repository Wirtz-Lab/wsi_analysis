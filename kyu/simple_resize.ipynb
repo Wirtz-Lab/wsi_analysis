{
 "cells": [
  {
   "cell_type": "code",
   "execution_count": 25,
   "metadata": {
    "collapsed": true,
    "ExecuteTime": {
     "start_time": "2023-04-19T12:33:53.068029Z",
     "end_time": "2023-04-19T12:33:53.073030Z"
    }
   },
   "outputs": [],
   "source": [
    "import os\n",
    "from PIL import Image\n",
    "Image.MAX_IMAGE_PIXELS=None"
   ]
  },
  {
   "cell_type": "code",
   "execution_count": 26,
   "outputs": [],
   "source": [
    "src = r'\\\\babyserverdw5\\Digital pathology image lib\\HubMap Skin TMC project\\230418 HS-012-D9\\1um\\classification_v9_combined\\nerve_removed'\n",
    "lutsrc = r'\\\\babyserverdw5\\Digital pathology image lib\\HubMap Skin TMC project\\230418 HS-012-D9\\HESS\\4xr_jpg'\n",
    "dst = r'\\\\babyserverdw5\\digital pathology image lib\\HubMap Skin TMC project\\230418 HS-012-D9\\HESS\\ImAnnotationbyCNN_KH_SKinMDL'\n",
    "ims = [_ for _ in os.listdir(src) if _.endswith('tif')]"
   ],
   "metadata": {
    "collapsed": false,
    "ExecuteTime": {
     "start_time": "2023-04-19T12:33:53.075031Z",
     "end_time": "2023-04-19T12:33:53.104421Z"
    }
   }
  },
  {
   "cell_type": "code",
   "execution_count": null,
   "outputs": [],
   "source": [
    "for im in ims:\n",
    "    lut = os.path.splitext(im)[-2]+'_4xr_'\n",
    "    if os.path.exists(os.path.join(dst,lut+'.png')): continue\n",
    "    print(lut)\n",
    "    Image.open(os.path.join(src,im)).resize(Image.open(os.path.join(lutsrc,lut+'.jpg')).size, resample=Image.Resampling.NEAREST).save(os.path.join(dst,lut+'.png'))"
   ],
   "metadata": {
    "collapsed": false,
    "ExecuteTime": {
     "start_time": "2023-04-19T12:20:59.876074Z",
     "end_time": "2023-04-19T12:20:59.896332Z"
    },
    "pycharm": {
     "is_executing": true
    }
   }
  }
 ],
 "metadata": {
  "kernelspec": {
   "display_name": "Python 3",
   "language": "python",
   "name": "python3"
  },
  "language_info": {
   "codemirror_mode": {
    "name": "ipython",
    "version": 2
   },
   "file_extension": ".py",
   "mimetype": "text/x-python",
   "name": "python",
   "nbconvert_exporter": "python",
   "pygments_lexer": "ipython2",
   "version": "2.7.6"
  }
 },
 "nbformat": 4,
 "nbformat_minor": 0
}
