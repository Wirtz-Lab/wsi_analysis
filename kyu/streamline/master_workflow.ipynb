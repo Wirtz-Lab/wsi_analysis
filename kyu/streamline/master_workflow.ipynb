{
 "cells": [
  {
   "cell_type": "markdown",
   "source": [
    "0. Scan glass slides at 20x\n",
    "1. Create Excel sheet with patient information\n",
    "2. Screen H&E images to select potentially healthy sections\n",
    "3. Annotate the Region of Interest (ROI) (Optional)\n",
    "4. Convert ROI XML to Image (Code: roixml2png.py)\n",
    "5. Convert H&E images to 1um resolution tif to apply DeepLab (Code: rescale_wsi.py)\n",
    "6. Annotate 12 tissue compartments, apply DeepLab, and evaluate performance metrics\n",
    "7. Apply HoVerNet\n",
    "8. Rotate and crop tissue pieces and DLmask (Code)\n",
    "9. Rotate HoVerNet segmented nuclei mask (Code)\n",
    "10. Calculate tissue composition (Code)\n",
    "11. Calculate epidermis thickness, waviness, roughness\n",
    "12. Calculate dermis thickness, waviness\n",
    "13. Calculate ECM anisotropy,Interstitial orientation, Thick gap ratio, Thick gap average\n",
    "14. Calculate tissue morphology\n",
    "15. ECM cell count and morphology + std using Manual Threshold method\n",
    "16. Distance from ECM cell to tissue\n",
    "17. All celltype morphology, orientation, and distance to tissue using HoVerNet\n",
    "18. Further add features such as more detailed cell subtyping"
   ],
   "metadata": {
    "collapsed": false
   }
  },
  {
   "cell_type": "code",
   "execution_count": 1,
   "outputs": [],
   "source": [
    "import os\n",
    "import glob\n",
    "import pandas as pd\n",
    "import numpy as np\n",
    "from natsort import natsorted\n",
    "\n",
    "#utilities\n",
    "from roixml2png import roixml2png\n",
    "from rescale_wsi import rescale_wsi\n",
    "from align_he_dl_cnt import align_he_dl_cnt"
   ],
   "metadata": {
    "collapsed": false
   }
  },
  {
   "cell_type": "code",
   "execution_count": 28,
   "outputs": [],
   "source": [
    "NDPI = r'\\\\fatherserverdw\\kyuex\\clue images'\n",
    "oneum = r'\\\\fatherserverdw\\kyuex\\clue images\\1um'\n",
    "imcrop = r'\\\\fatherserverdw\\kyuex\\clue images\\1um\\imcrop'\n",
    "imcroproi = r'\\\\fatherserverdw\\kyuex\\clue images\\1um\\imcrop_roi'\n",
    "\n",
    "dlmask = r'\\\\fatherserverdw\\kyuex\\clue images\\1um\\classification_v9_combined'\n",
    "dlcrop = r'\\\\fatherserverdw\\kyuex\\clue images\\1um\\classification_v9_combined\\dlcrop'\n",
    "dlcroproi = r'\\\\fatherserverdw\\kyuex\\clue images\\1um\\classification_v9_combined\\dlcrop_roi'\n",
    "\n",
    "roixml = r'\\\\fatherserverdw\\kyuex\\clue images\\annotations\\roi'\n",
    "roimask_small = r'\\\\fatherserverdw\\kyuex\\clue images\\annotations\\roi\\labeledmask_20rsf'\n",
    "tissue_area_small = r'\\\\fatherserverdw\\kyuex\\clue images\\annotations\\roi\\TA_20rsf'\n",
    "\n",
    "twelve_annot = r'\\\\fatherserverdw\\kyuex\\clue images\\annotations\\12class'\n",
    "\n",
    "LUT = r\"\\\\fatherserverdw\\kyuex\\imlist_all.xlsx\""
   ],
   "metadata": {
    "collapsed": false
   }
  },
  {
   "cell_type": "code",
   "execution_count": 29,
   "outputs": [],
   "source": [
    "#Load healthy tissue look up table (LUT)\n",
    "LUT = pd.read_excel(LUT)\n",
    "# xmlist = LUT['filename'][(LUT['student score']>1) & (LUT['Block or Slide?']==\"Both\")]\n",
    "LUThealthy = LUT[(LUT['student score']>1)]\n",
    "LUThealthyback = LUThealthy[LUThealthy['body part 1'].str.lower()==\"back\"]"
   ],
   "metadata": {
    "collapsed": false
   }
  },
  {
   "cell_type": "code",
   "execution_count": 5,
   "outputs": [
    {
     "data": {
      "text/plain": "[None,\n None,\n None,\n None,\n None,\n None,\n None,\n None,\n None,\n None,\n None,\n None,\n None,\n None,\n None,\n None,\n None,\n None,\n None,\n None,\n None,\n None,\n None,\n None,\n None,\n None,\n None,\n None,\n None,\n None,\n None,\n None,\n None,\n None,\n None,\n None,\n None,\n None,\n None,\n None,\n None,\n None,\n None,\n None,\n None,\n None,\n None,\n None,\n None,\n None,\n None,\n None,\n None,\n None,\n None,\n None,\n None,\n None,\n None,\n None,\n None,\n None,\n None,\n None,\n None,\n None]"
     },
     "execution_count": 5,
     "metadata": {},
     "output_type": "execute_result"
    }
   ],
   "source": [
    "#Step 4: ROI XML 2 Image\n",
    "#Saves Image to where XML is in subfolders\n",
    "\n",
    "xmlist = [os.path.join(roixml,xmlpth.replace('ndpi','xml')) for xmlpth in LUThealthyback['filename']]\n",
    "[roixml2png(xmlpth,NDPI) for xmlpth in xmlist]\n",
    "# pd.DataFrame(np.array(roiinfo),columns=['fn','ROIA','TA','ratio']).to_csv(r\"\\\\fatherserverdw\\kyuex\\ROITA_ratio.csv\")"
   ],
   "metadata": {
    "collapsed": false
   }
  },
  {
   "cell_type": "code",
   "execution_count": 6,
   "outputs": [
    {
     "name": "stdout",
     "output_type": "stream",
     "text": [
      "0 / 216\n",
      "1 / 216\n",
      "2 / 216\n",
      "3 / 216\n",
      "4 / 216\n",
      "5 / 216\n",
      "6 / 216\n",
      "7 / 216\n",
      "8 / 216\n",
      "9 / 216\n",
      "10 / 216\n",
      "11 / 216\n",
      "12 / 216\n",
      "13 / 216\n",
      "14 / 216\n",
      "15 / 216\n",
      "16 / 216\n",
      "17 / 216\n",
      "18 / 216\n",
      "19 / 216\n",
      "20 / 216\n",
      "21 / 216\n",
      "22 / 216\n",
      "23 / 216\n",
      "24 / 216\n",
      "25 / 216\n",
      "26 / 216\n",
      "27 / 216\n",
      "28 / 216\n",
      "29 / 216\n",
      "30 / 216\n",
      "31 / 216\n",
      "32 / 216\n",
      "33 / 216\n",
      "34 / 216\n",
      "35 / 216\n",
      "36 / 216\n",
      "37 / 216\n",
      "38 / 216\n",
      "39 / 216\n",
      "40 / 216\n",
      "41 / 216\n",
      "42 / 216\n",
      "43 / 216\n",
      "44 / 216\n",
      "45 / 216\n",
      "46 / 216\n",
      "47 / 216\n",
      "48 / 216\n",
      "49 / 216\n",
      "50 / 216\n",
      "51 / 216\n",
      "52 / 216\n",
      "53 / 216\n",
      "54 / 216\n",
      "55 / 216\n",
      "56 / 216\n",
      "57 / 216\n",
      "58 / 216\n",
      "59 / 216\n",
      "60 / 216\n",
      "61 / 216\n",
      "62 / 216\n",
      "63 / 216\n",
      "64 / 216\n",
      "65 / 216\n",
      "66 / 216\n",
      "67 / 216\n",
      "68 / 216\n",
      "69 / 216\n",
      "70 / 216\n",
      "71 / 216\n",
      "72 / 216\n",
      "73 / 216\n",
      "74 / 216\n",
      "75 / 216\n",
      "76 / 216\n",
      "77 / 216\n",
      "78 / 216\n",
      "79 / 216\n",
      "80 / 216\n",
      "81 / 216\n",
      "82 / 216\n",
      "83 / 216\n",
      "84 / 216\n",
      "85 / 216\n",
      "86 / 216\n",
      "87 / 216\n",
      "88 / 216\n",
      "89 / 216\n",
      "90 / 216\n",
      "91 / 216\n",
      "92 / 216\n",
      "93 / 216\n",
      "94 / 216\n",
      "95 / 216\n",
      "96 / 216\n",
      "97 / 216\n",
      "98 / 216\n",
      "99 / 216\n",
      "100 / 216\n",
      "101 / 216\n",
      "102 / 216\n",
      "103 / 216\n",
      "104 / 216\n",
      "105 / 216\n",
      "106 / 216\n",
      "107 / 216\n",
      "108 / 216\n",
      "109 / 216\n",
      "110 / 216\n",
      "111 / 216\n",
      "112 / 216\n",
      "113 / 216\n",
      "114 / 216\n",
      "115 / 216\n",
      "116 / 216\n",
      "117 / 216\n",
      "118 / 216\n",
      "119 / 216\n",
      "120 / 216\n",
      "121 / 216\n",
      "122 / 216\n",
      "123 / 216\n",
      "124 / 216\n",
      "125 / 216\n",
      "126 / 216\n",
      "127 / 216\n",
      "128 / 216\n",
      "129 / 216\n",
      "130 / 216\n",
      "131 / 216\n",
      "132 / 216\n",
      "133 / 216\n",
      "134 / 216\n",
      "135 / 216\n",
      "136 / 216\n",
      "137 / 216\n",
      "138 / 216\n",
      "139 / 216\n",
      "140 / 216\n",
      "141 / 216\n",
      "142 / 216\n",
      "143 / 216\n",
      "144 / 216\n",
      "145 / 216\n",
      "146 / 216\n",
      "147 / 216\n",
      "148 / 216\n",
      "149 / 216\n",
      "150 / 216\n",
      "151 / 216\n",
      "152 / 216\n",
      "153 / 216\n",
      "154 / 216\n",
      "155 / 216\n",
      "156 / 216\n",
      "157 / 216\n",
      "158 / 216\n",
      "159 / 216\n",
      "160 / 216\n",
      "161 / 216\n",
      "162 / 216\n",
      "163 / 216\n",
      "164 / 216\n",
      "165 / 216\n",
      "166 / 216\n",
      "167 / 216\n",
      "168 / 216\n",
      "169 / 216\n",
      "170 / 216\n",
      "171 / 216\n",
      "172 / 216\n",
      "173 / 216\n",
      "174 / 216\n",
      "175 / 216\n",
      "176 / 216\n",
      "177 / 216\n",
      "178 / 216\n",
      "179 / 216\n",
      "180 / 216\n",
      "181 / 216\n",
      "182 / 216\n",
      "183 / 216\n",
      "184 / 216\n",
      "185 / 216\n",
      "186 / 216\n",
      "187 / 216\n",
      "188 / 216\n",
      "189 / 216\n",
      "190 / 216\n",
      "191 / 216\n",
      "192 / 216\n",
      "193 / 216\n",
      "194 / 216\n",
      "195 / 216\n",
      "196 / 216\n",
      "197 / 216\n",
      "198 / 216\n",
      "199 / 216\n",
      "200 / 216\n",
      "201 / 216\n",
      "202 / 216\n",
      "203 / 216\n",
      "204 / 216\n",
      "205 / 216\n",
      "206 / 216\n",
      "207 / 216\n",
      "208 / 216\n",
      "209 / 216\n",
      "210 / 216\n",
      "211 / 216\n",
      "212 / 216\n",
      "213 / 216\n",
      "214 / 216\n",
      "215 / 216\n"
     ]
    }
   ],
   "source": [
    "#Step 5: rescale wsi to 1um for applying deeplab\n",
    "#Saves Image to where wsi is in subfolder\n",
    "wsis = [os.path.join(NDPI,_) for _ in LUThealthy.filename]\n",
    "wsis = natsorted(wsis)\n",
    "for idx,wsi in enumerate(wsis):\n",
    "    rescale_wsi(wsi,1)\n",
    "    print(idx,'/',len(wsis))"
   ],
   "metadata": {
    "collapsed": false
   }
  },
  {
   "cell_type": "code",
   "execution_count": 3,
   "outputs": [],
   "source": [
    "#8. Rotate and crop tissue pieces and DLmask (Code)\n",
    "#9. Rotate HoVerNet segmented nuclei mask (Code)\n",
    "\n",
    "LUTpth = r\"\\\\fatherserverdw\\kyuex\\datadst\\WSI_rotation_crop_LUT.xlsx\"\n",
    "ClUedegrot_df = pd.read_excel(LUTpth).astype(\"object\")"
   ],
   "metadata": {
    "collapsed": false
   }
  },
  {
   "cell_type": "code",
   "execution_count": 30,
   "outputs": [
    {
     "name": "stderr",
     "output_type": "stream",
     "text": [
      "C:\\Users\\pwu\\AppData\\Local\\Temp\\ipykernel_7376\\2748685258.py:5: SettingWithCopyWarning: \n",
      "A value is trying to be set on a copy of a slice from a DataFrame.\n",
      "Try using .loc[row_indexer,col_indexer] = value instead\n",
      "\n",
      "See the caveats in the documentation: https://pandas.pydata.org/pandas-docs/stable/user_guide/indexing.html#returning-a-view-versus-a-copy\n",
      "  LUThealthyback['hasjson']=LUThealthyback['filename'].apply(lambda row: hasjson(row))\n"
     ]
    }
   ],
   "source": [
    "cntsrc = r'\\\\fatherserverdw\\kyuex\\clue images\\hovernet_out\\json'\n",
    "def hasjson(row):\n",
    "    fn,ext = os.path.splitext(row)\n",
    "    return os.path.exists(os.path.join(cntsrc,fn+'.json'))\n",
    "LUThealthyback['hasjson']=LUThealthyback['filename'].apply(lambda row: hasjson(row))"
   ],
   "metadata": {
    "collapsed": false
   }
  },
  {
   "cell_type": "code",
   "execution_count": 32,
   "outputs": [
    {
     "name": "stderr",
     "output_type": "stream",
     "text": [
      "C:\\Users\\pwu\\AppData\\Local\\Temp\\ipykernel_7376\\55481327.py:4: SettingWithCopyWarning: \n",
      "A value is trying to be set on a copy of a slice from a DataFrame.\n",
      "Try using .loc[row_indexer,col_indexer] = value instead\n",
      "\n",
      "See the caveats in the documentation: https://pandas.pydata.org/pandas-docs/stable/user_guide/indexing.html#returning-a-view-versus-a-copy\n",
      "  LUThealthyback['hasdl']=LUThealthyback['filename'].apply(lambda row: hasdl(row))\n"
     ]
    }
   ],
   "source": [
    "dlsrc = r'\\\\fatherserverdw\\kyuex\\clue images\\1um\\classification_v9_combined'\n",
    "def hasdl(row):\n",
    "    fn,ext = os.path.splitext(row)\n",
    "    return os.path.exists(os.path.join(dlsrc,fn+'.tif'))\n",
    "LUThealthyback['hasdl']=LUThealthyback['filename'].apply(lambda row: hasdl(row))"
   ],
   "metadata": {
    "collapsed": false
   }
  },
  {
   "cell_type": "code",
   "execution_count": 35,
   "outputs": [
    {
     "name": "stderr",
     "output_type": "stream",
     "text": [
      "C:\\Users\\pwu\\AppData\\Local\\Temp\\ipykernel_7376\\556606825.py:5: SettingWithCopyWarning: \n",
      "A value is trying to be set on a copy of a slice from a DataFrame.\n",
      "Try using .loc[row_indexer,col_indexer] = value instead\n",
      "\n",
      "See the caveats in the documentation: https://pandas.pydata.org/pandas-docs/stable/user_guide/indexing.html#returning-a-view-versus-a-copy\n",
      "  LUThealthyback['hasroi']=LUThealthyback['filename'].apply(lambda row: hasroi(row))\n"
     ]
    }
   ],
   "source": [
    "roisrc = r'\\\\fatherserverdw\\kyuex\\clue images\\annotations\\roi\\labeledmask_20rsf'\n",
    "def hasroi(row):\n",
    "    fn,ext = os.path.splitext(row)\n",
    "    return os.path.exists(os.path.join(roisrc,fn+'.png'))\n",
    "LUThealthyback['hasroi']=LUThealthyback['filename'].apply(lambda row: hasroi(row))"
   ],
   "metadata": {
    "collapsed": false
   }
  },
  {
   "cell_type": "code",
   "execution_count": 36,
   "outputs": [
    {
     "data": {
      "text/plain": "      index gender        age  pid  \\\n52     1141      F  85.604454  471   \n53     1142      F  85.604454  471   \n54     1143      F  85.604454  471   \n55     1144      F  85.604454  471   \n105    1173      M  92.435616  484   \n...     ...    ...        ...  ...   \n967     671      F  72.712329  301   \n991    1001      M  63.372603  418   \n1140    390      M  83.120548  177   \n1141    274      F  69.970656  126   \n1155    402      M  87.602740  178   \n\n                                                   path  \\\n52    \\\\fatherserverdw\\Q\\research\\images\\clue_batch2...   \n53    \\\\fatherserverdw\\Q\\research\\images\\clue_batch2...   \n54    \\\\fatherserverdw\\Q\\research\\images\\clue_batch2...   \n55    \\\\fatherserverdw\\Q\\research\\images\\clue_batch2...   \n105   \\\\fatherserverdw\\Q\\research\\images\\clue_batch2...   \n...                                                 ...   \n967   \\\\fatherserverdw\\kyuex\\clue images\\2022-06-28 ...   \n991   \\\\fatherserverdw\\kyuex\\clue images\\2022-06-28 ...   \n1140  \\\\fatherserverdw\\kyuex\\clue images\\2022-07-07 ...   \n1141  \\\\fatherserverdw\\kyuex\\clue images\\2022-07-07 ...   \n1155  \\\\fatherserverdw\\kyuex\\clue images\\2022-07-07 ...   \n\n                      filename  year  sample id label name sub label  ...  \\\n52    2022-06-07 14.27.44.ndpi    10       3702    10-3702         1  ...   \n53    2022-06-07 14.32.24.ndpi    10       3702    10-3702         2  ...   \n54    2022-06-07 14.34.59.ndpi    10       3702    10-3702         3  ...   \n55    2022-06-07 14.37.19.ndpi    10       3702    10-3702         4  ...   \n105   2022-06-07 17.24.15.ndpi    10       6634    10-6634         7  ...   \n...                        ...   ...        ...        ...       ...  ...   \n967   2022-06-28 15.22.44.ndpi     7       6405    07-6405        A4  ...   \n991   2022-06-28 23.56.18.ndpi     9       5630    09-5630         B  ...   \n1140  2022-07-07 17.52.32.ndpi     5       9840    05-9840         2  ...   \n1141  2022-07-07 18.26.18.ndpi     4      13043   04-13043         B  ...   \n1155  2022-07-07 20.21.33.ndpi     5       9867    05-9867        A4  ...   \n\n                                  score note  student score  \\\n52                                       NaN              5   \n53                                       NaN              5   \n54                                       NaN              5   \n55    middle of tissue is physically damaged              3   \n105                               sun damage              2   \n...                                      ...            ...   \n967                                      NaN              2   \n991                                      NaN              5   \n1140                        it’s not focused              3   \n1141        some sun damage, collagen damage              3   \n1155                         some sun damage              2   \n\n     ROI ANNOTATED (0 :not annotated 1.annotated) roi reviewed Nroi  \\\n52                                              1          1.0  NaN   \n53                                              1          1.0  NaN   \n54                                              1          1.0  NaN   \n55                                              1          1.0  NaN   \n105                                             1          1.0  NaN   \n...                                           ...          ...  ...   \n967                                             1          1.0  NaN   \n991                                             1          1.0  NaN   \n1140                                            1          1.0  NaN   \n1141                                            1          1.0  NaN   \n1155                                            1          1.0  NaN   \n\n     Inbal Score                                      Inbal comment hasjson  \\\n52           NaN                                                NaN    True   \n53           NaN                                                NaN    True   \n54           NaN                                                NaN    True   \n55           NaN                                                NaN    True   \n105          NaN                                                NaN    True   \n...          ...                                                ...     ...   \n967          NaN                                                NaN    True   \n991          NaN                                                NaN   False   \n1140         3.0  there is residual bcc, even in the green box, ...    True   \n1141         3.0  middle piece is okay, others have too much sca...    True   \n1155         NaN                                                NaN    True   \n\n     hasdl  hasroi  \n52    True    True  \n53    True    True  \n54    True    True  \n55    True    True  \n105   True    True  \n...    ...     ...  \n967   True    True  \n991   True    True  \n1140  True    True  \n1141  True    True  \n1155  True    True  \n\n[66 rows x 31 columns]",
      "text/html": "<div>\n<style scoped>\n    .dataframe tbody tr th:only-of-type {\n        vertical-align: middle;\n    }\n\n    .dataframe tbody tr th {\n        vertical-align: top;\n    }\n\n    .dataframe thead th {\n        text-align: right;\n    }\n</style>\n<table border=\"1\" class=\"dataframe\">\n  <thead>\n    <tr style=\"text-align: right;\">\n      <th></th>\n      <th>index</th>\n      <th>gender</th>\n      <th>age</th>\n      <th>pid</th>\n      <th>path</th>\n      <th>filename</th>\n      <th>year</th>\n      <th>sample id</th>\n      <th>label name</th>\n      <th>sub label</th>\n      <th>...</th>\n      <th>score note</th>\n      <th>student score</th>\n      <th>ROI ANNOTATED (0 :not annotated 1.annotated)</th>\n      <th>roi reviewed</th>\n      <th>Nroi</th>\n      <th>Inbal Score</th>\n      <th>Inbal comment</th>\n      <th>hasjson</th>\n      <th>hasdl</th>\n      <th>hasroi</th>\n    </tr>\n  </thead>\n  <tbody>\n    <tr>\n      <th>52</th>\n      <td>1141</td>\n      <td>F</td>\n      <td>85.604454</td>\n      <td>471</td>\n      <td>\\\\fatherserverdw\\Q\\research\\images\\clue_batch2...</td>\n      <td>2022-06-07 14.27.44.ndpi</td>\n      <td>10</td>\n      <td>3702</td>\n      <td>10-3702</td>\n      <td>1</td>\n      <td>...</td>\n      <td>NaN</td>\n      <td>5</td>\n      <td>1</td>\n      <td>1.0</td>\n      <td>NaN</td>\n      <td>NaN</td>\n      <td>NaN</td>\n      <td>True</td>\n      <td>True</td>\n      <td>True</td>\n    </tr>\n    <tr>\n      <th>53</th>\n      <td>1142</td>\n      <td>F</td>\n      <td>85.604454</td>\n      <td>471</td>\n      <td>\\\\fatherserverdw\\Q\\research\\images\\clue_batch2...</td>\n      <td>2022-06-07 14.32.24.ndpi</td>\n      <td>10</td>\n      <td>3702</td>\n      <td>10-3702</td>\n      <td>2</td>\n      <td>...</td>\n      <td>NaN</td>\n      <td>5</td>\n      <td>1</td>\n      <td>1.0</td>\n      <td>NaN</td>\n      <td>NaN</td>\n      <td>NaN</td>\n      <td>True</td>\n      <td>True</td>\n      <td>True</td>\n    </tr>\n    <tr>\n      <th>54</th>\n      <td>1143</td>\n      <td>F</td>\n      <td>85.604454</td>\n      <td>471</td>\n      <td>\\\\fatherserverdw\\Q\\research\\images\\clue_batch2...</td>\n      <td>2022-06-07 14.34.59.ndpi</td>\n      <td>10</td>\n      <td>3702</td>\n      <td>10-3702</td>\n      <td>3</td>\n      <td>...</td>\n      <td>NaN</td>\n      <td>5</td>\n      <td>1</td>\n      <td>1.0</td>\n      <td>NaN</td>\n      <td>NaN</td>\n      <td>NaN</td>\n      <td>True</td>\n      <td>True</td>\n      <td>True</td>\n    </tr>\n    <tr>\n      <th>55</th>\n      <td>1144</td>\n      <td>F</td>\n      <td>85.604454</td>\n      <td>471</td>\n      <td>\\\\fatherserverdw\\Q\\research\\images\\clue_batch2...</td>\n      <td>2022-06-07 14.37.19.ndpi</td>\n      <td>10</td>\n      <td>3702</td>\n      <td>10-3702</td>\n      <td>4</td>\n      <td>...</td>\n      <td>middle of tissue is physically damaged</td>\n      <td>3</td>\n      <td>1</td>\n      <td>1.0</td>\n      <td>NaN</td>\n      <td>NaN</td>\n      <td>NaN</td>\n      <td>True</td>\n      <td>True</td>\n      <td>True</td>\n    </tr>\n    <tr>\n      <th>105</th>\n      <td>1173</td>\n      <td>M</td>\n      <td>92.435616</td>\n      <td>484</td>\n      <td>\\\\fatherserverdw\\Q\\research\\images\\clue_batch2...</td>\n      <td>2022-06-07 17.24.15.ndpi</td>\n      <td>10</td>\n      <td>6634</td>\n      <td>10-6634</td>\n      <td>7</td>\n      <td>...</td>\n      <td>sun damage</td>\n      <td>2</td>\n      <td>1</td>\n      <td>1.0</td>\n      <td>NaN</td>\n      <td>NaN</td>\n      <td>NaN</td>\n      <td>True</td>\n      <td>True</td>\n      <td>True</td>\n    </tr>\n    <tr>\n      <th>...</th>\n      <td>...</td>\n      <td>...</td>\n      <td>...</td>\n      <td>...</td>\n      <td>...</td>\n      <td>...</td>\n      <td>...</td>\n      <td>...</td>\n      <td>...</td>\n      <td>...</td>\n      <td>...</td>\n      <td>...</td>\n      <td>...</td>\n      <td>...</td>\n      <td>...</td>\n      <td>...</td>\n      <td>...</td>\n      <td>...</td>\n      <td>...</td>\n      <td>...</td>\n      <td>...</td>\n    </tr>\n    <tr>\n      <th>967</th>\n      <td>671</td>\n      <td>F</td>\n      <td>72.712329</td>\n      <td>301</td>\n      <td>\\\\fatherserverdw\\kyuex\\clue images\\2022-06-28 ...</td>\n      <td>2022-06-28 15.22.44.ndpi</td>\n      <td>7</td>\n      <td>6405</td>\n      <td>07-6405</td>\n      <td>A4</td>\n      <td>...</td>\n      <td>NaN</td>\n      <td>2</td>\n      <td>1</td>\n      <td>1.0</td>\n      <td>NaN</td>\n      <td>NaN</td>\n      <td>NaN</td>\n      <td>True</td>\n      <td>True</td>\n      <td>True</td>\n    </tr>\n    <tr>\n      <th>991</th>\n      <td>1001</td>\n      <td>M</td>\n      <td>63.372603</td>\n      <td>418</td>\n      <td>\\\\fatherserverdw\\kyuex\\clue images\\2022-06-28 ...</td>\n      <td>2022-06-28 23.56.18.ndpi</td>\n      <td>9</td>\n      <td>5630</td>\n      <td>09-5630</td>\n      <td>B</td>\n      <td>...</td>\n      <td>NaN</td>\n      <td>5</td>\n      <td>1</td>\n      <td>1.0</td>\n      <td>NaN</td>\n      <td>NaN</td>\n      <td>NaN</td>\n      <td>False</td>\n      <td>True</td>\n      <td>True</td>\n    </tr>\n    <tr>\n      <th>1140</th>\n      <td>390</td>\n      <td>M</td>\n      <td>83.120548</td>\n      <td>177</td>\n      <td>\\\\fatherserverdw\\kyuex\\clue images\\2022-07-07 ...</td>\n      <td>2022-07-07 17.52.32.ndpi</td>\n      <td>5</td>\n      <td>9840</td>\n      <td>05-9840</td>\n      <td>2</td>\n      <td>...</td>\n      <td>it’s not focused</td>\n      <td>3</td>\n      <td>1</td>\n      <td>1.0</td>\n      <td>NaN</td>\n      <td>3.0</td>\n      <td>there is residual bcc, even in the green box, ...</td>\n      <td>True</td>\n      <td>True</td>\n      <td>True</td>\n    </tr>\n    <tr>\n      <th>1141</th>\n      <td>274</td>\n      <td>F</td>\n      <td>69.970656</td>\n      <td>126</td>\n      <td>\\\\fatherserverdw\\kyuex\\clue images\\2022-07-07 ...</td>\n      <td>2022-07-07 18.26.18.ndpi</td>\n      <td>4</td>\n      <td>13043</td>\n      <td>04-13043</td>\n      <td>B</td>\n      <td>...</td>\n      <td>some sun damage, collagen damage</td>\n      <td>3</td>\n      <td>1</td>\n      <td>1.0</td>\n      <td>NaN</td>\n      <td>3.0</td>\n      <td>middle piece is okay, others have too much sca...</td>\n      <td>True</td>\n      <td>True</td>\n      <td>True</td>\n    </tr>\n    <tr>\n      <th>1155</th>\n      <td>402</td>\n      <td>M</td>\n      <td>87.602740</td>\n      <td>178</td>\n      <td>\\\\fatherserverdw\\kyuex\\clue images\\2022-07-07 ...</td>\n      <td>2022-07-07 20.21.33.ndpi</td>\n      <td>5</td>\n      <td>9867</td>\n      <td>05-9867</td>\n      <td>A4</td>\n      <td>...</td>\n      <td>some sun damage</td>\n      <td>2</td>\n      <td>1</td>\n      <td>1.0</td>\n      <td>NaN</td>\n      <td>NaN</td>\n      <td>NaN</td>\n      <td>True</td>\n      <td>True</td>\n      <td>True</td>\n    </tr>\n  </tbody>\n</table>\n<p>66 rows × 31 columns</p>\n</div>"
     },
     "execution_count": 36,
     "metadata": {},
     "output_type": "execute_result"
    }
   ],
   "source": [
    "LUThealthyback"
   ],
   "metadata": {
    "collapsed": false
   }
  },
  {
   "cell_type": "code",
   "execution_count": 38,
   "outputs": [
    {
     "data": {
      "text/plain": "(53, 53, 66, 66)"
     },
     "execution_count": 38,
     "metadata": {},
     "output_type": "execute_result"
    }
   ],
   "source": [
    "LUThealthyback2 = LUThealthyback[(LUThealthyback['hasjson']==True) & (LUThealthyback['hasdl']==True) & (LUThealthyback['hasroi']==True)]\n",
    "len(LUThealthyback2),len(LUThealthyback[(LUThealthyback['hasjson']==True)]),len(LUThealthyback[(LUThealthyback['hasdl']==True)]),len(LUThealthyback)"
   ],
   "metadata": {
    "collapsed": false
   }
  },
  {
   "cell_type": "code",
   "execution_count": 23,
   "outputs": [],
   "source": [
    "LUThealthyback2 = LUThealthyback2[54:]"
   ],
   "metadata": {
    "collapsed": false
   }
  },
  {
   "cell_type": "code",
   "execution_count": 39,
   "outputs": [
    {
     "data": {
      "text/plain": "53"
     },
     "execution_count": 39,
     "metadata": {},
     "output_type": "execute_result"
    }
   ],
   "source": [
    "len(LUThealthyback2)"
   ],
   "metadata": {
    "collapsed": false
   }
  },
  {
   "cell_type": "code",
   "execution_count": 46,
   "outputs": [],
   "source": [
    "LUThealthyback2=LUThealthyback2.reset_index()"
   ],
   "metadata": {
    "collapsed": false
   }
  },
  {
   "cell_type": "code",
   "execution_count": 47,
   "outputs": [
    {
     "name": "stdout",
     "output_type": "stream",
     "text": [
      "0 / 53\n",
      "section N:  1 / 1\n"
     ]
    },
    {
     "ename": "error",
     "evalue": "OpenCV(4.6.0) D:\\a\\opencv-python\\opencv-python\\opencv\\modules\\imgproc\\src\\imgwarp.cpp:1724: error: (-215:Assertion failed) dst.cols < SHRT_MAX && dst.rows < SHRT_MAX && src.cols < SHRT_MAX && src.rows < SHRT_MAX in function 'cv::remap'\n",
     "output_type": "error",
     "traceback": [
      "\u001B[1;31m---------------------------------------------------------------------------\u001B[0m",
      "\u001B[1;31merror\u001B[0m                                     Traceback (most recent call last)",
      "Cell \u001B[1;32mIn [47], line 10\u001B[0m\n\u001B[0;32m      8\u001B[0m \u001B[38;5;28mprint\u001B[39m(idx,\u001B[38;5;124m'\u001B[39m\u001B[38;5;124m/\u001B[39m\u001B[38;5;124m'\u001B[39m,\u001B[38;5;28mlen\u001B[39m(LUThealthyback2))\n\u001B[0;32m      9\u001B[0m fn,ext \u001B[38;5;241m=\u001B[39m os\u001B[38;5;241m.\u001B[39mpath\u001B[38;5;241m.\u001B[39msplitext(row[\u001B[38;5;124m'\u001B[39m\u001B[38;5;124mfilename\u001B[39m\u001B[38;5;124m'\u001B[39m])\n\u001B[1;32m---> 10\u001B[0m rotationdf \u001B[38;5;241m=\u001B[39m align_he_dl_cnt(dst,fn,wsisrc,dlsrc,cntsrc,roisrc)\n",
      "File \u001B[1;32m~\\PycharmProjects\\wsi_analysis\\kyu\\streamline\\align_he_dl_cnt.py:98\u001B[0m, in \u001B[0;36malign_he_dl_cnt\u001B[1;34m(dst, fn, wsisrc, dlsrc, cntsrc, roisrc)\u001B[0m\n\u001B[0;32m     95\u001B[0m \u001B[38;5;28;01mdel\u001B[39;00m vertices, vc, U, S, Vt, k, mskepi\n\u001B[0;32m     97\u001B[0m \u001B[38;5;66;03m# enlarge DLtmp from roiscale to 20x wsi scale\u001B[39;00m\n\u001B[1;32m---> 98\u001B[0m DLtmplarge \u001B[38;5;241m=\u001B[39m cv2\u001B[38;5;241m.\u001B[39mresize(DLtmp\u001B[38;5;241m.\u001B[39mastype(np\u001B[38;5;241m.\u001B[39muint8), dsize\u001B[38;5;241m=\u001B[39m(w, h), interpolation\u001B[38;5;241m=\u001B[39mcv2\u001B[38;5;241m.\u001B[39mINTER_NEAREST)\n\u001B[0;32m     99\u001B[0m [xt, yt] \u001B[38;5;241m=\u001B[39m np\u001B[38;5;241m.\u001B[39mwhere(DLtmplarge[:, :])\n\u001B[0;32m    100\u001B[0m bbox \u001B[38;5;241m=\u001B[39m [np\u001B[38;5;241m.\u001B[39mmin(xt), np\u001B[38;5;241m.\u001B[39mmax(xt), np\u001B[38;5;241m.\u001B[39mmin(yt), np\u001B[38;5;241m.\u001B[39mmax(yt)]\n",
      "File \u001B[1;32m~\\PycharmProjects\\wsi_analysis\\kyu\\streamline\\rotate_image.py:17\u001B[0m, in \u001B[0;36mrotate_image\u001B[1;34m(mat, angle)\u001B[0m\n\u001B[0;32m     15\u001B[0m rotation_mat[\u001B[38;5;241m1\u001B[39m, \u001B[38;5;241m2\u001B[39m] \u001B[38;5;241m+\u001B[39m\u001B[38;5;241m=\u001B[39m bound_h\u001B[38;5;241m/\u001B[39m\u001B[38;5;241m2\u001B[39m \u001B[38;5;241m-\u001B[39m image_center[\u001B[38;5;241m1\u001B[39m]\n\u001B[0;32m     16\u001B[0m \u001B[38;5;66;03m# rotate image with the new bounds and translated rotation matrix\u001B[39;00m\n\u001B[1;32m---> 17\u001B[0m rotated_mat \u001B[38;5;241m=\u001B[39m \u001B[43mcv2\u001B[49m\u001B[38;5;241;43m.\u001B[39;49m\u001B[43mwarpAffine\u001B[49m\u001B[43m(\u001B[49m\u001B[43mmat\u001B[49m\u001B[43m,\u001B[49m\u001B[43m \u001B[49m\u001B[43mrotation_mat\u001B[49m\u001B[43m,\u001B[49m\u001B[43m \u001B[49m\u001B[43m(\u001B[49m\u001B[43mbound_w\u001B[49m\u001B[43m,\u001B[49m\u001B[43m \u001B[49m\u001B[43mbound_h\u001B[49m\u001B[43m)\u001B[49m\u001B[43m,\u001B[49m\u001B[43m \u001B[49m\u001B[43mflags\u001B[49m\u001B[38;5;241;43m=\u001B[39;49m\u001B[43mcv2\u001B[49m\u001B[38;5;241;43m.\u001B[39;49m\u001B[43mINTER_NEAREST\u001B[49m\u001B[43m)\u001B[49m\n\u001B[0;32m     18\u001B[0m \u001B[38;5;28;01mreturn\u001B[39;00m rotated_mat\n",
      "\u001B[1;31merror\u001B[0m: OpenCV(4.6.0) D:\\a\\opencv-python\\opencv-python\\opencv\\modules\\imgproc\\src\\imgwarp.cpp:1724: error: (-215:Assertion failed) dst.cols < SHRT_MAX && dst.rows < SHRT_MAX && src.cols < SHRT_MAX && src.rows < SHRT_MAX in function 'cv::remap'\n"
     ]
    }
   ],
   "source": [
    "cntsrc = r'\\\\fatherserverdw\\kyuex\\clue images\\hovernet_out\\json'\n",
    "roisrc = r'\\\\fatherserverdw\\kyuex\\clue images\\annotations\\roi\\labeledmask_20rsf'\n",
    "wsisrc = r'\\\\fatherserverdw\\kyuex\\clue images'\n",
    "dlsrc = r'\\\\fatherserverdw\\kyuex\\clue images\\1um\\classification_v9_combined'\n",
    "dst = r'\\\\fatherserverdw\\kyuex\\datadst\\20220929'\n",
    "\n",
    "for idx,row in LUThealthyback2.iterrows():\n",
    "    print(idx,'/',len(LUThealthyback2))\n",
    "    fn,ext = os.path.splitext(row['filename'])\n",
    "    rotationdf = align_he_dl_cnt(dst,fn,wsisrc,dlsrc,cntsrc,roisrc)"
   ],
   "metadata": {
    "collapsed": false
   }
  },
  {
   "cell_type": "code",
   "execution_count": null,
   "outputs": [],
   "source": [
    "# rotationdf.to_csv('54toend.csv')"
   ],
   "metadata": {
    "collapsed": false
   }
  }
 ],
 "metadata": {
  "kernelspec": {
   "display_name": "Python 3",
   "language": "python",
   "name": "python3"
  },
  "language_info": {
   "codemirror_mode": {
    "name": "ipython",
    "version": 2
   },
   "file_extension": ".py",
   "mimetype": "text/x-python",
   "name": "python",
   "nbconvert_exporter": "python",
   "pygments_lexer": "ipython2",
   "version": "2.7.6"
  }
 },
 "nbformat": 4,
 "nbformat_minor": 0
}
