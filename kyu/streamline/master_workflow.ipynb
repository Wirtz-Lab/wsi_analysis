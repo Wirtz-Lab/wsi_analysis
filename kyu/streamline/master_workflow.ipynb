{
 "cells": [
  {
   "cell_type": "markdown",
   "source": [
    "0. Scan glass slides at 20x\n",
    "1. Create Excel sheet with patient information\n",
    "2. Screen H&E images to select potentially healthy sections\n",
    "3. Annotate the Region of Interest (ROI) (Optional)\n",
    "4. Convert ROI XML to Image (Code: roixml2png.py)\n",
    "5. Convert H&E images to 1um resolution tif to apply DeepLab (Code: rescale_wsi.py)\n",
    "6. Annotate 12 tissue compartments, apply DeepLab, and evaluate performance metrics\n",
    "7. Apply HoVerNet\n",
    "8. Rotate and crop tissue pieces and DLmask (Code)\n",
    "9. Rotate HoVerNet segmented nuclei mask (Code)\n",
    "10. Calculate tissue composition (Code)\n",
    "11. Calculate epidermis thickness, waviness, roughness\n",
    "12. Calculate dermis thickness, waviness\n",
    "13. Calculate ECM anisotropy,Interstitial orientation, Thick gap ratio, Thick gap average\n",
    "14. Calculate tissue morphology\n",
    "15. ECM cell count and morphology + std using Manual Threshold method\n",
    "16. Distance from ECM cell to tissue\n",
    "17. All celltype morphology, orientation, and distance to tissue using HoVerNet\n",
    "18. Further add features such as more detailed cell subtyping"
   ],
   "metadata": {
    "collapsed": false,
    "pycharm": {
     "name": "#%% md\n"
    }
   }
  },
  {
   "cell_type": "code",
   "execution_count": 1,
   "outputs": [],
   "source": [
    "import os\n",
    "import glob\n",
    "import pandas as pd\n",
    "import numpy as np\n",
    "from natsort import natsorted\n",
    "\n",
    "#utilities\n",
    "from roixml2png import roixml2png\n",
    "from rescale_wsi import rescale_wsi"
   ],
   "metadata": {
    "collapsed": false,
    "pycharm": {
     "name": "#%%\n"
    }
   }
  },
  {
   "cell_type": "code",
   "execution_count": 2,
   "outputs": [],
   "source": [
    "NDPI = r'\\\\fatherserverdw\\kyuex\\clue images'\n",
    "oneum = r'\\\\fatherserverdw\\kyuex\\clue images\\1um'\n",
    "imcrop = r'\\\\fatherserverdw\\kyuex\\clue images\\1um\\imcrop'\n",
    "imcroproi = r'\\\\fatherserverdw\\kyuex\\clue images\\1um\\imcrop_roi'\n",
    "\n",
    "dlmask = r'\\\\fatherserverdw\\kyuex\\clue images\\1um\\classification_v9_combined'\n",
    "dlcrop = r'\\\\fatherserverdw\\kyuex\\clue images\\1um\\classification_v9_combined\\dlcrop'\n",
    "dlcroproi = r'\\\\fatherserverdw\\kyuex\\clue images\\1um\\classification_v9_combined\\dlcrop_roi'\n",
    "\n",
    "roixml = r'\\\\fatherserverdw\\kyuex\\clue images\\annotations\\roi'\n",
    "roimask_small = r'\\\\fatherserverdw\\kyuex\\clue images\\annotations\\roi\\labeledmask_20rsf'\n",
    "tissue_area_small = r'\\\\fatherserverdw\\kyuex\\clue images\\annotations\\roi\\TA_20rsf'\n",
    "\n",
    "twelve_annot = r'\\\\fatherserverdw\\kyuex\\clue images\\annotations\\12class'\n",
    "\n",
    "LUT = r\"\\\\fatherserverdw\\kyuex\\imlist_all.xlsx\""
   ],
   "metadata": {
    "collapsed": false,
    "pycharm": {
     "name": "#%%\n"
    }
   }
  },
  {
   "cell_type": "code",
   "execution_count": 3,
   "outputs": [],
   "source": [
    "#Load healthy tissue look up table (LUT)\n",
    "LUT = pd.read_excel(LUT)\n",
    "# xmlist = LUT['filename'][(LUT['student score']>1) & (LUT['Block or Slide?']==\"Both\")]\n",
    "LUThealthy = LUT[(LUT['student score']>1)]"
   ],
   "metadata": {
    "collapsed": false,
    "pycharm": {
     "name": "#%%\n"
    }
   }
  },
  {
   "cell_type": "code",
   "execution_count": 5,
   "outputs": [
    {
     "data": {
      "text/plain": "['2022-06-07 13.18.40.ndpi',\n '2022-06-07 13.29.45.ndpi',\n '2022-06-07 13.51.05.ndpi',\n '2022-06-07 14.27.44.ndpi',\n '2022-06-07 14.32.24.ndpi',\n '2022-06-07 14.34.59.ndpi',\n '2022-06-07 14.37.19.ndpi',\n '2022-06-07 14.39.32.ndpi',\n '2022-06-07 14.56.13.ndpi',\n '2022-06-07 16.05.45.ndpi',\n '2022-06-07 16.10.49.ndpi',\n '2022-06-07 17.05.33.ndpi',\n '2022-06-07 17.10.29.ndpi',\n '2022-06-07 17.15.33.ndpi',\n '2022-06-07 17.24.15.ndpi',\n '2022-06-07 17.43.53.ndpi',\n '2022-06-07 17.48.30.ndpi',\n '2022-06-07 18.06.50.ndpi',\n '2022-06-08 16.05.29.ndpi',\n '2022-06-08 16.34.23.ndpi',\n '2022-06-08 16.52.37.ndpi',\n '2022-06-08 17.04.20.ndpi',\n '2022-06-08 17.14.34.ndpi',\n '2022-06-08 17.25.47.ndpi',\n '2022-06-08 17.33.23.ndpi',\n '2022-06-08 17.38.55.ndpi',\n '2022-06-08 17.54.57.ndpi',\n '2022-06-08 18.08.15.ndpi',\n '2022-06-08 18.13.05.ndpi',\n '2022-06-08 18.23.12.ndpi',\n '2022-06-08 18.27.20.ndpi',\n '2022-06-09 11.32.55.ndpi',\n '2022-06-09 11.36.47.ndpi',\n '2022-06-09 11.46.15.ndpi',\n '2022-06-09 11.51.43.ndpi',\n '2022-06-09 12.15.00.ndpi',\n '2022-06-09 12.20.35.ndpi',\n '2022-06-09 12.41.04.ndpi',\n '2022-06-09 12.48.49.ndpi',\n '2022-06-09 15.59.56.ndpi',\n '2022-06-09 16.05.39.ndpi',\n '2022-06-09 16.46.04.ndpi',\n '2022-06-09 16.53.12.ndpi',\n '2022-06-09 16.56.40.ndpi',\n '2022-06-09 17.17.37.ndpi',\n '2022-06-09 17.29.25.ndpi',\n '2022-06-09 17.39.52.ndpi',\n '2022-06-09 17.54.10.ndpi',\n '2022-06-09 18.02.27.ndpi',\n '2022-06-09 18.09.31.ndpi',\n '2022-06-09 18.31.45.ndpi',\n '2022-06-09 18.34.58.ndpi',\n '2022-06-09 18.52.30.ndpi',\n '2022-06-09 19.01.26.ndpi',\n '2022-06-09 19.13.25.ndpi',\n '2022-06-09 19.37.42.ndpi',\n '2022-06-09 19.42.22.ndpi',\n '2022-06-09 19.45.23.ndpi',\n '2022-06-09 19.55.38.ndpi',\n '2022-06-09 20.02.00.ndpi',\n '2022-06-09 20.12.48.ndpi',\n '2022-06-09 20.18.08.ndpi',\n '2022-06-09 20.38.09.ndpi',\n '2022-06-09 20.46.56.ndpi',\n '2022-06-09 20.52.52.ndpi',\n '2022-06-09 21.14.27.ndpi',\n '2022-06-09 21.34.03.ndpi',\n '2022-06-09 21.38.17.ndpi',\n '2022-06-09 21.42.40.ndpi',\n '2022-06-09 22.00.47.ndpi',\n '2022-06-09 22.06.26.ndpi',\n '2022-06-09 22.12.56.ndpi',\n '2022-06-10 15.45.48.ndpi',\n '2022-06-10 15.47.34.ndpi',\n '2022-06-10 16.39.33.ndpi',\n '2022-06-10 16.50.35.ndpi',\n '2022-06-10 18.00.26.ndpi',\n '2022-06-10 18.04.38.ndpi',\n '2022-06-10 18.30.09.ndpi',\n '2022-06-10 19.45.50.ndpi',\n '2022-06-10 20.21.32.ndpi',\n '2022-06-10 20.25.05.ndpi',\n '2022-06-10 20.40.21.ndpi',\n '2022-06-13 11.45.50.ndpi',\n '2022-06-13 11.49.27.ndpi',\n '2022-06-13 11.51.23.ndpi',\n '2022-06-13 11.54.57.ndpi',\n '2022-06-13 11.57.27.ndpi',\n '2022-06-13 12.01.11.ndpi',\n '2022-06-13 12.50.35.ndpi',\n '2022-06-13 13.08.39.ndpi',\n '2022-06-13 13.11.43.ndpi',\n '2022-06-13 13.37.14.ndpi',\n '2022-06-13 13.51.19.ndpi',\n '2022-06-13 13.59.47.ndpi',\n '2022-06-13 14.13.36.ndpi',\n '2022-06-13 14.26.14.ndpi',\n '2022-06-13 14.33.36.ndpi',\n '2022-06-13 14.36.54.ndpi',\n '2022-06-13 15.38.12.ndpi',\n '2022-06-13 15.44.15.ndpi',\n '2022-06-13 15.50.57.ndpi',\n '2022-06-13 15.55.29.ndpi',\n '2022-06-13 16.00.16.ndpi',\n '2022-06-13 16.05.29.ndpi',\n '2022-06-13 17.16.08.ndpi',\n '2022-06-13 17.22.01.ndpi',\n '2022-06-13 17.30.49.ndpi',\n '2022-06-13 17.43.20.ndpi',\n '2022-06-13 17.45.35.ndpi',\n '2022-06-13 17.51.36.ndpi',\n '2022-06-13 18.58.30.ndpi',\n '2022-06-14 13.03.56.ndpi',\n '2022-06-14 13.20.48.ndpi',\n '2022-06-14 13.34.41.ndpi',\n '2022-06-14 13.56.56.ndpi',\n '2022-06-14 14.23.55.ndpi',\n '2022-06-14 14.30.48.ndpi',\n '2022-06-14 14.34.36.ndpi',\n '2022-06-14 14.40.36.ndpi',\n '2022-06-14 14.51.26.ndpi',\n '2022-06-14 15.09.14.ndpi',\n '2022-06-14 15.23.32.ndpi',\n '2022-06-14 15.30.37.ndpi',\n '2022-06-14 15.39.21.ndpi',\n '2022-06-14 15.54.23.ndpi',\n '2022-06-14 16.04.28.ndpi',\n '2022-06-14 16.13.17.ndpi',\n '2022-06-14 16.15.36.ndpi',\n '2022-06-14 16.29.21.ndpi',\n '2022-06-14 16.54.45.ndpi',\n '2022-06-14 17.04.49.ndpi',\n '2022-06-14 17.26.33.ndpi',\n '2022-06-14 17.39.31.ndpi',\n '2022-06-14 18.09.26.ndpi',\n '2022-06-14 19.24.52.ndpi',\n '2022-06-14 19.28.07.ndpi',\n '2022-06-15 16.15.49.ndpi',\n '2022-06-15 16.20.00.ndpi',\n '2022-06-15 16.58.54.ndpi',\n '2022-06-15 17.04.41.ndpi',\n '2022-06-15 17.08.28.ndpi',\n '2022-06-15 17.24.56.ndpi',\n '2022-06-15 17.27.45.ndpi',\n '2022-06-15 17.37.23.ndpi',\n '2022-06-15 18.59.15.ndpi',\n '2022-06-15 19.03.54.ndpi',\n '2022-06-15 19.30.32.ndpi',\n '2022-06-15 21.08.29.ndpi',\n '2022-06-15 21.16.23.ndpi',\n '2022-06-15 21.49.08.ndpi',\n '2022-06-15 21.51.02.ndpi',\n '2022-06-15 21.52.35.ndpi',\n '2022-06-16 00.16.18.ndpi',\n '2022-06-16 13.03.02.ndpi',\n '2022-06-16 14.32.44.ndpi',\n '2022-06-16 16.10.16.ndpi',\n '2022-06-16 17.21.16.ndpi',\n '2022-06-17 13.24.26.ndpi',\n '2022-06-17 16.54.33.ndpi',\n '2022-06-28 14.31.45.ndpi',\n '2022-06-28 15.02.21.ndpi',\n '2022-06-28 15.05.11.ndpi',\n '2022-06-28 15.18.46.ndpi',\n '2022-06-28 15.22.44.ndpi',\n '2022-06-28 15.47.52.ndpi',\n '2022-06-28 17.15.54.ndpi',\n '2022-06-28 23.42.24.ndpi',\n '2022-06-28 23.56.18.ndpi',\n '2022-06-29 00.25.36.ndpi',\n '2022-06-29 00.30.00.ndpi',\n '2022-06-29 00.48.29.ndpi',\n '2022-06-30 11.54.54.ndpi',\n '2022-06-30 12.22.32.ndpi',\n '2022-06-30 15.35.49.ndpi',\n '2022-06-30 15.44.24.ndpi',\n '2022-06-30 15.47.12.ndpi',\n '2022-06-30 15.49.07.ndpi',\n '2022-06-30 17.03.56.ndpi',\n '2022-06-30 18.37.25.ndpi',\n '2022-06-30 18.41.49.ndpi',\n '2022-06-30 19.03.03.ndpi',\n '2022-06-30 19.07.43.ndpi',\n '2022-06-30 19.51.37.ndpi',\n '2022-06-30 20.21.27.ndpi',\n '2022-06-30 23.12.42.ndpi',\n '2022-06-30 23.35.09.ndpi',\n '2022-06-30 23.47.44.ndpi',\n '2022-07-01 00.02.03.ndpi',\n '2022-07-01 00.08.09.ndpi',\n '2022-07-07 11.27.31.ndpi',\n '2022-07-07 12.04.08.ndpi',\n '2022-07-07 12.49.35.ndpi',\n '2022-07-07 12.54.26.ndpi',\n '2022-07-07 12.58.40.ndpi',\n '2022-07-07 14.04.16.ndpi',\n '2022-07-07 14.13.15.ndpi',\n '2022-07-07 14.22.32.ndpi',\n '2022-07-07 14.27.15.ndpi',\n '2022-07-07 15.28.48.ndpi',\n '2022-07-07 15.34.12.ndpi',\n '2022-07-07 17.19.31.ndpi',\n '2022-07-07 17.52.32.ndpi',\n '2022-07-07 18.26.18.ndpi',\n '2022-07-07 18.40.32.ndpi',\n '2022-07-07 19.14.15.ndpi',\n '2022-07-07 19.19.08.ndpi',\n '2022-07-07 19.56.55.ndpi',\n '2022-07-07 20.01.12.ndpi',\n '2022-07-07 20.05.53.ndpi',\n '2022-07-07 20.21.33.ndpi',\n '2022-07-07 20.54.02.ndpi',\n '2022-07-07 21.21.09.ndpi',\n '2022-07-07 21.27.08.ndpi',\n '2022-07-07 22.11.00.ndpi',\n '2022-07-07 22.16.04.ndpi']"
     },
     "execution_count": 5,
     "metadata": {},
     "output_type": "execute_result"
    }
   ],
   "source": [
    "natsorted(LUThealthy.filename)"
   ],
   "metadata": {
    "collapsed": false,
    "pycharm": {
     "name": "#%%\n"
    }
   }
  },
  {
   "cell_type": "code",
   "execution_count": 10,
   "outputs": [
    {
     "name": "stdout",
     "output_type": "stream",
     "text": [
      "2022-06-14 17.39.31.xml\n",
      "2022-06-15 16.15.49.xml\n",
      "2022-06-15 16.20.00.xml\n",
      "2022-06-07 17.24.15.xml\n"
     ]
    },
    {
     "name": "stderr",
     "output_type": "stream",
     "text": [
      "C:\\Users\\NDP\\AppData\\Local\\Temp\\ipykernel_6696\\128553994.py:6: VisibleDeprecationWarning: Creating an ndarray from ragged nested sequences (which is a list-or-tuple of lists-or-tuples-or ndarrays with different lengths or shapes) is deprecated. If you meant to do this, you must specify 'dtype=object' when creating the ndarray.\n",
      "  pd.DataFrame(np.array(roiinfo),columns=['fn','ROIA','TA','ratio']).to_csv(r\"\\\\fatherserverdw\\kyuex\\ROITA_ratio.csv\")\n"
     ]
    },
    {
     "ename": "ValueError",
     "evalue": "Shape of passed values is (66, 1), indices imply (66, 4)",
     "output_type": "error",
     "traceback": [
      "\u001B[1;31m---------------------------------------------------------------------------\u001B[0m",
      "\u001B[1;31mValueError\u001B[0m                                Traceback (most recent call last)",
      "Input \u001B[1;32mIn [10]\u001B[0m, in \u001B[0;36m<cell line: 6>\u001B[1;34m()\u001B[0m\n\u001B[0;32m      4\u001B[0m xmlist \u001B[38;5;241m=\u001B[39m [os\u001B[38;5;241m.\u001B[39mpath\u001B[38;5;241m.\u001B[39mjoin(roixml,xmlpth\u001B[38;5;241m.\u001B[39mreplace(\u001B[38;5;124m'\u001B[39m\u001B[38;5;124mndpi\u001B[39m\u001B[38;5;124m'\u001B[39m,\u001B[38;5;124m'\u001B[39m\u001B[38;5;124mxml\u001B[39m\u001B[38;5;124m'\u001B[39m)) \u001B[38;5;28;01mfor\u001B[39;00m xmlpth \u001B[38;5;129;01min\u001B[39;00m LUThealthyback[\u001B[38;5;124m'\u001B[39m\u001B[38;5;124mfilename\u001B[39m\u001B[38;5;124m'\u001B[39m]]\n\u001B[0;32m      5\u001B[0m roiinfo \u001B[38;5;241m=\u001B[39m [roixml2png(xmlpth,NDPI) \u001B[38;5;28;01mfor\u001B[39;00m xmlpth \u001B[38;5;129;01min\u001B[39;00m xmlist]\n\u001B[1;32m----> 6\u001B[0m \u001B[43mpd\u001B[49m\u001B[38;5;241;43m.\u001B[39;49m\u001B[43mDataFrame\u001B[49m\u001B[43m(\u001B[49m\u001B[43mnp\u001B[49m\u001B[38;5;241;43m.\u001B[39;49m\u001B[43marray\u001B[49m\u001B[43m(\u001B[49m\u001B[43mroiinfo\u001B[49m\u001B[43m)\u001B[49m\u001B[43m,\u001B[49m\u001B[43mcolumns\u001B[49m\u001B[38;5;241;43m=\u001B[39;49m\u001B[43m[\u001B[49m\u001B[38;5;124;43m'\u001B[39;49m\u001B[38;5;124;43mfn\u001B[39;49m\u001B[38;5;124;43m'\u001B[39;49m\u001B[43m,\u001B[49m\u001B[38;5;124;43m'\u001B[39;49m\u001B[38;5;124;43mROIA\u001B[39;49m\u001B[38;5;124;43m'\u001B[39;49m\u001B[43m,\u001B[49m\u001B[38;5;124;43m'\u001B[39;49m\u001B[38;5;124;43mTA\u001B[39;49m\u001B[38;5;124;43m'\u001B[39;49m\u001B[43m,\u001B[49m\u001B[38;5;124;43m'\u001B[39;49m\u001B[38;5;124;43mratio\u001B[39;49m\u001B[38;5;124;43m'\u001B[39;49m\u001B[43m]\u001B[49m\u001B[43m)\u001B[49m\u001B[38;5;241m.\u001B[39mto_csv(\u001B[38;5;124mr\u001B[39m\u001B[38;5;124m\"\u001B[39m\u001B[38;5;130;01m\\\\\u001B[39;00m\u001B[38;5;124mfatherserverdw\u001B[39m\u001B[38;5;124m\\\u001B[39m\u001B[38;5;124mkyuex\u001B[39m\u001B[38;5;124m\\\u001B[39m\u001B[38;5;124mROITA_ratio.csv\u001B[39m\u001B[38;5;124m\"\u001B[39m)\n",
      "File \u001B[1;32m~\\.conda\\envs\\wsi_analysis\\lib\\site-packages\\pandas\\core\\frame.py:694\u001B[0m, in \u001B[0;36mDataFrame.__init__\u001B[1;34m(self, data, index, columns, dtype, copy)\u001B[0m\n\u001B[0;32m    684\u001B[0m         mgr \u001B[38;5;241m=\u001B[39m dict_to_mgr(\n\u001B[0;32m    685\u001B[0m             \u001B[38;5;66;03m# error: Item \"ndarray\" of \"Union[ndarray, Series, Index]\" has no\u001B[39;00m\n\u001B[0;32m    686\u001B[0m             \u001B[38;5;66;03m# attribute \"name\"\u001B[39;00m\n\u001B[1;32m   (...)\u001B[0m\n\u001B[0;32m    691\u001B[0m             typ\u001B[38;5;241m=\u001B[39mmanager,\n\u001B[0;32m    692\u001B[0m         )\n\u001B[0;32m    693\u001B[0m     \u001B[38;5;28;01melse\u001B[39;00m:\n\u001B[1;32m--> 694\u001B[0m         mgr \u001B[38;5;241m=\u001B[39m \u001B[43mndarray_to_mgr\u001B[49m\u001B[43m(\u001B[49m\n\u001B[0;32m    695\u001B[0m \u001B[43m            \u001B[49m\u001B[43mdata\u001B[49m\u001B[43m,\u001B[49m\n\u001B[0;32m    696\u001B[0m \u001B[43m            \u001B[49m\u001B[43mindex\u001B[49m\u001B[43m,\u001B[49m\n\u001B[0;32m    697\u001B[0m \u001B[43m            \u001B[49m\u001B[43mcolumns\u001B[49m\u001B[43m,\u001B[49m\n\u001B[0;32m    698\u001B[0m \u001B[43m            \u001B[49m\u001B[43mdtype\u001B[49m\u001B[38;5;241;43m=\u001B[39;49m\u001B[43mdtype\u001B[49m\u001B[43m,\u001B[49m\n\u001B[0;32m    699\u001B[0m \u001B[43m            \u001B[49m\u001B[43mcopy\u001B[49m\u001B[38;5;241;43m=\u001B[39;49m\u001B[43mcopy\u001B[49m\u001B[43m,\u001B[49m\n\u001B[0;32m    700\u001B[0m \u001B[43m            \u001B[49m\u001B[43mtyp\u001B[49m\u001B[38;5;241;43m=\u001B[39;49m\u001B[43mmanager\u001B[49m\u001B[43m,\u001B[49m\n\u001B[0;32m    701\u001B[0m \u001B[43m        \u001B[49m\u001B[43m)\u001B[49m\n\u001B[0;32m    703\u001B[0m \u001B[38;5;66;03m# For data is list-like, or Iterable (will consume into list)\u001B[39;00m\n\u001B[0;32m    704\u001B[0m \u001B[38;5;28;01melif\u001B[39;00m is_list_like(data):\n",
      "File \u001B[1;32m~\\.conda\\envs\\wsi_analysis\\lib\\site-packages\\pandas\\core\\internals\\construction.py:351\u001B[0m, in \u001B[0;36mndarray_to_mgr\u001B[1;34m(values, index, columns, dtype, copy, typ)\u001B[0m\n\u001B[0;32m    346\u001B[0m \u001B[38;5;66;03m# _prep_ndarray ensures that values.ndim == 2 at this point\u001B[39;00m\n\u001B[0;32m    347\u001B[0m index, columns \u001B[38;5;241m=\u001B[39m _get_axes(\n\u001B[0;32m    348\u001B[0m     values\u001B[38;5;241m.\u001B[39mshape[\u001B[38;5;241m0\u001B[39m], values\u001B[38;5;241m.\u001B[39mshape[\u001B[38;5;241m1\u001B[39m], index\u001B[38;5;241m=\u001B[39mindex, columns\u001B[38;5;241m=\u001B[39mcolumns\n\u001B[0;32m    349\u001B[0m )\n\u001B[1;32m--> 351\u001B[0m \u001B[43m_check_values_indices_shape_match\u001B[49m\u001B[43m(\u001B[49m\u001B[43mvalues\u001B[49m\u001B[43m,\u001B[49m\u001B[43m \u001B[49m\u001B[43mindex\u001B[49m\u001B[43m,\u001B[49m\u001B[43m \u001B[49m\u001B[43mcolumns\u001B[49m\u001B[43m)\u001B[49m\n\u001B[0;32m    353\u001B[0m \u001B[38;5;28;01mif\u001B[39;00m typ \u001B[38;5;241m==\u001B[39m \u001B[38;5;124m\"\u001B[39m\u001B[38;5;124marray\u001B[39m\u001B[38;5;124m\"\u001B[39m:\n\u001B[0;32m    355\u001B[0m     \u001B[38;5;28;01mif\u001B[39;00m \u001B[38;5;28missubclass\u001B[39m(values\u001B[38;5;241m.\u001B[39mdtype\u001B[38;5;241m.\u001B[39mtype, \u001B[38;5;28mstr\u001B[39m):\n",
      "File \u001B[1;32m~\\.conda\\envs\\wsi_analysis\\lib\\site-packages\\pandas\\core\\internals\\construction.py:422\u001B[0m, in \u001B[0;36m_check_values_indices_shape_match\u001B[1;34m(values, index, columns)\u001B[0m\n\u001B[0;32m    420\u001B[0m passed \u001B[38;5;241m=\u001B[39m values\u001B[38;5;241m.\u001B[39mshape\n\u001B[0;32m    421\u001B[0m implied \u001B[38;5;241m=\u001B[39m (\u001B[38;5;28mlen\u001B[39m(index), \u001B[38;5;28mlen\u001B[39m(columns))\n\u001B[1;32m--> 422\u001B[0m \u001B[38;5;28;01mraise\u001B[39;00m \u001B[38;5;167;01mValueError\u001B[39;00m(\u001B[38;5;124mf\u001B[39m\u001B[38;5;124m\"\u001B[39m\u001B[38;5;124mShape of passed values is \u001B[39m\u001B[38;5;132;01m{\u001B[39;00mpassed\u001B[38;5;132;01m}\u001B[39;00m\u001B[38;5;124m, indices imply \u001B[39m\u001B[38;5;132;01m{\u001B[39;00mimplied\u001B[38;5;132;01m}\u001B[39;00m\u001B[38;5;124m\"\u001B[39m)\n",
      "\u001B[1;31mValueError\u001B[0m: Shape of passed values is (66, 1), indices imply (66, 4)"
     ]
    }
   ],
   "source": [
    "#Step 4: ROI XML 2 Image\n",
    "#Saves Image to where XML is in subfolders\n",
    "LUThealthyback = LUThealthy[LUThealthy['body part 1'].str.lower()==\"back\"]\n",
    "xmlist = [os.path.join(roixml,xmlpth.replace('ndpi','xml')) for xmlpth in LUThealthyback['filename']]\n",
    "roiinfo = [roixml2png(xmlpth,NDPI) for xmlpth in xmlist]\n",
    "# pd.DataFrame(np.array(roiinfo),columns=['fn','ROIA','TA','ratio']).to_csv(r\"\\\\fatherserverdw\\kyuex\\ROITA_ratio.csv\")"
   ],
   "metadata": {
    "collapsed": false,
    "pycharm": {
     "name": "#%%\n"
    }
   }
  },
  {
   "cell_type": "code",
   "execution_count": 11,
   "outputs": [
    {
     "data": {
      "text/plain": "[None,\n None,\n None,\n None,\n None,\n None,\n None,\n None,\n None,\n None,\n None,\n None,\n None,\n None,\n None,\n None,\n None,\n None,\n None,\n None,\n None,\n None,\n None,\n None,\n None,\n None,\n None,\n None,\n None,\n None,\n None,\n None,\n None,\n None,\n None,\n None,\n None,\n None,\n None,\n None,\n None,\n None,\n None,\n None,\n None,\n None,\n None,\n None,\n None,\n None,\n None,\n None,\n None,\n None,\n None,\n None,\n None,\n None,\n ['2022-06-14 17.39.31.xml', 478181, 1506182, 32],\n None,\n None,\n None,\n ['2022-06-15 16.15.49.xml', 781666, 3044734, 26],\n ['2022-06-15 16.20.00.xml', 669730, 3474527, 19],\n None,\n ['2022-06-07 17.24.15.xml', 469388, 1986936, 24]]"
     },
     "execution_count": 11,
     "metadata": {},
     "output_type": "execute_result"
    }
   ],
   "source": [
    "roiinfo"
   ],
   "metadata": {
    "collapsed": false,
    "pycharm": {
     "name": "#%%\n"
    }
   }
  },
  {
   "cell_type": "code",
   "execution_count": null,
   "outputs": [],
   "source": [
    "#Step 5: rescale wsi to 1um for applying deeplab\n",
    "#Saves Image to where wsi is in subfolder\n",
    "wsis = [os.path.join(NDPI,_) for _ in LUThealthy.filename]\n",
    "wsis = natsorted(wsis)\n",
    "for idx,wsi in enumerate(wsis):\n",
    "    rescale_wsi(wsi,1)\n",
    "    print(idx,'/',len(wsis))"
   ],
   "metadata": {
    "collapsed": false,
    "pycharm": {
     "name": "#%%\n"
    }
   }
  }
 ],
 "metadata": {
  "kernelspec": {
   "display_name": "Python 3",
   "language": "python",
   "name": "python3"
  },
  "language_info": {
   "codemirror_mode": {
    "name": "ipython",
    "version": 2
   },
   "file_extension": ".py",
   "mimetype": "text/x-python",
   "name": "python",
   "nbconvert_exporter": "python",
   "pygments_lexer": "ipython2",
   "version": "2.7.6"
  }
 },
 "nbformat": 4,
 "nbformat_minor": 0
}