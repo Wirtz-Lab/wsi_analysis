{
 "cells": [
  {
   "cell_type": "markdown",
   "source": [
    "0. Scan glass slides at 20x\n",
    "1. Create Excel sheet with patient information\n",
    "2. Screen H&E images to select potentially healthy sections\n",
    "3. Annotate the Region of Interest (ROI) (Optional)\n",
    "4. Convert ROI XML to Image (Code: roixml2png.py)\n",
    "5. Convert H&E images to 1um resolution tif to apply DeepLab (Code: rescale_wsi.py)\n",
    "6. Annotate 12 tissue compartments, apply DeepLab, and evaluate performance metrics\n",
    "7. Apply HoVerNet\n",
    "8. Rotate and crop tissue pieces and DLmask (Code)\n",
    "9. Rotate HoVerNet segmented nuclei mask (Code)\n",
    "10. Calculate tissue composition (Code)\n",
    "11. Calculate epidermis thickness, waviness, roughness\n",
    "12. Calculate dermis thickness, waviness\n",
    "13. Calculate ECM anisotropy,Interstitial orientation, Thick gap ratio, Thick gap average\n",
    "14. Calculate tissue morphology\n",
    "15. ECM cell count and morphology + std using Manual Threshold method\n",
    "16. Distance from ECM cell to tissue\n",
    "17. All celltype morphology, orientation, and distance to tissue using HoVerNet\n",
    "18. Further add features such as more detailed cell subtyping"
   ],
   "metadata": {
    "collapsed": false
   }
  },
  {
   "cell_type": "code",
   "execution_count": 1,
   "outputs": [],
   "source": [
    "import os\n",
    "import glob\n",
    "import pandas as pd\n",
    "import numpy as np\n",
    "from natsort import natsorted\n",
    "\n",
    "#utilities\n",
    "from roixml2png import roixml2png\n",
    "from rescale_wsi import rescale_wsi\n",
    "from align_he_dl_cnt import align_he_dl_cnt"
   ],
   "metadata": {
    "collapsed": false
   }
  },
  {
   "cell_type": "code",
   "execution_count": 2,
   "outputs": [],
   "source": [
    "NDPI = r'\\\\fatherserverdw\\kyuex\\clue images'\n",
    "oneum = r'\\\\fatherserverdw\\kyuex\\clue images\\1um'\n",
    "imcrop = r'\\\\fatherserverdw\\kyuex\\clue images\\1um\\imcrop'\n",
    "imcroproi = r'\\\\fatherserverdw\\kyuex\\clue images\\1um\\imcrop_roi'\n",
    "\n",
    "dlmask = r'\\\\fatherserverdw\\kyuex\\clue images\\1um\\classification_v9_combined'\n",
    "dlcrop = r'\\\\fatherserverdw\\kyuex\\clue images\\1um\\classification_v9_combined\\dlcrop'\n",
    "dlcroproi = r'\\\\fatherserverdw\\kyuex\\clue images\\1um\\classification_v9_combined\\dlcrop_roi'\n",
    "\n",
    "roixml = r'\\\\fatherserverdw\\kyuex\\clue images\\annotations\\roi'\n",
    "roimask_small = r'\\\\fatherserverdw\\kyuex\\clue images\\annotations\\roi\\labeledmask_20rsf'\n",
    "tissue_area_small = r'\\\\fatherserverdw\\kyuex\\clue images\\annotations\\roi\\TA_20rsf'\n",
    "\n",
    "twelve_annot = r'\\\\fatherserverdw\\kyuex\\clue images\\annotations\\12class'\n",
    "\n",
    "LUT = r\"\\\\fatherserverdw\\kyuex\\imlist_all.xlsx\""
   ],
   "metadata": {
    "collapsed": false
   }
  },
  {
   "cell_type": "code",
   "execution_count": 4,
   "outputs": [],
   "source": [
    "#Load healthy tissue look up table (LUT)\n",
    "LUT = pd.read_excel(LUT)\n",
    "# xmlist = LUT['filename'][(LUT['student score']>1) & (LUT['Block or Slide?']==\"Both\")]\n",
    "LUThealthy = LUT[(LUT['student score']>1)]"
   ],
   "metadata": {
    "collapsed": false
   }
  },
  {
   "cell_type": "code",
   "execution_count": 5,
   "outputs": [
    {
     "data": {
      "text/plain": "[None,\n None,\n None,\n None,\n None,\n None,\n None,\n None,\n None,\n None,\n None,\n None,\n None,\n None,\n None,\n None,\n None,\n None,\n None,\n None,\n None,\n None,\n None,\n None,\n None,\n None,\n None,\n None,\n None,\n None,\n None,\n None,\n None,\n None,\n None,\n None,\n None,\n None,\n None,\n None,\n None,\n None,\n None,\n None,\n None,\n None,\n None,\n None,\n None,\n None,\n None,\n None,\n None,\n None,\n None,\n None,\n None,\n None,\n None,\n None,\n None,\n None,\n None,\n None,\n None,\n None]"
     },
     "execution_count": 5,
     "metadata": {},
     "output_type": "execute_result"
    }
   ],
   "source": [
    "#Step 4: ROI XML 2 Image\n",
    "#Saves Image to where XML is in subfolders\n",
    "LUThealthyback = LUThealthy[LUThealthy['body part 1'].str.lower()==\"back\"]\n",
    "xmlist = [os.path.join(roixml,xmlpth.replace('ndpi','xml')) for xmlpth in LUThealthyback['filename']]\n",
    "[roixml2png(xmlpth,NDPI) for xmlpth in xmlist]\n",
    "# pd.DataFrame(np.array(roiinfo),columns=['fn','ROIA','TA','ratio']).to_csv(r\"\\\\fatherserverdw\\kyuex\\ROITA_ratio.csv\")"
   ],
   "metadata": {
    "collapsed": false
   }
  },
  {
   "cell_type": "code",
   "execution_count": 6,
   "outputs": [
    {
     "name": "stdout",
     "output_type": "stream",
     "text": [
      "0 / 216\n",
      "1 / 216\n",
      "2 / 216\n",
      "3 / 216\n",
      "4 / 216\n",
      "5 / 216\n",
      "6 / 216\n",
      "7 / 216\n",
      "8 / 216\n",
      "9 / 216\n",
      "10 / 216\n",
      "11 / 216\n",
      "12 / 216\n",
      "13 / 216\n",
      "14 / 216\n",
      "15 / 216\n",
      "16 / 216\n",
      "17 / 216\n",
      "18 / 216\n",
      "19 / 216\n",
      "20 / 216\n",
      "21 / 216\n",
      "22 / 216\n",
      "23 / 216\n",
      "24 / 216\n",
      "25 / 216\n",
      "26 / 216\n",
      "27 / 216\n",
      "28 / 216\n",
      "29 / 216\n",
      "30 / 216\n",
      "31 / 216\n",
      "32 / 216\n",
      "33 / 216\n",
      "34 / 216\n",
      "35 / 216\n",
      "36 / 216\n",
      "37 / 216\n",
      "38 / 216\n",
      "39 / 216\n",
      "40 / 216\n",
      "41 / 216\n",
      "42 / 216\n",
      "43 / 216\n",
      "44 / 216\n",
      "45 / 216\n",
      "46 / 216\n",
      "47 / 216\n",
      "48 / 216\n",
      "49 / 216\n",
      "50 / 216\n",
      "51 / 216\n",
      "52 / 216\n",
      "53 / 216\n",
      "54 / 216\n",
      "55 / 216\n",
      "56 / 216\n",
      "57 / 216\n",
      "58 / 216\n",
      "59 / 216\n",
      "60 / 216\n",
      "61 / 216\n",
      "62 / 216\n",
      "63 / 216\n",
      "64 / 216\n",
      "65 / 216\n",
      "66 / 216\n",
      "67 / 216\n",
      "68 / 216\n",
      "69 / 216\n",
      "70 / 216\n",
      "71 / 216\n",
      "72 / 216\n",
      "73 / 216\n",
      "74 / 216\n",
      "75 / 216\n",
      "76 / 216\n",
      "77 / 216\n",
      "78 / 216\n",
      "79 / 216\n",
      "80 / 216\n",
      "81 / 216\n",
      "82 / 216\n",
      "83 / 216\n",
      "84 / 216\n",
      "85 / 216\n",
      "86 / 216\n",
      "87 / 216\n",
      "88 / 216\n",
      "89 / 216\n",
      "90 / 216\n",
      "91 / 216\n",
      "92 / 216\n",
      "93 / 216\n",
      "94 / 216\n",
      "95 / 216\n",
      "96 / 216\n",
      "97 / 216\n",
      "98 / 216\n",
      "99 / 216\n",
      "100 / 216\n",
      "101 / 216\n",
      "102 / 216\n",
      "103 / 216\n",
      "104 / 216\n",
      "105 / 216\n",
      "106 / 216\n",
      "107 / 216\n",
      "108 / 216\n",
      "109 / 216\n",
      "110 / 216\n",
      "111 / 216\n",
      "112 / 216\n",
      "113 / 216\n",
      "114 / 216\n",
      "115 / 216\n",
      "116 / 216\n",
      "117 / 216\n",
      "118 / 216\n",
      "119 / 216\n",
      "120 / 216\n",
      "121 / 216\n",
      "122 / 216\n",
      "123 / 216\n",
      "124 / 216\n",
      "125 / 216\n",
      "126 / 216\n",
      "127 / 216\n",
      "128 / 216\n",
      "129 / 216\n",
      "130 / 216\n",
      "131 / 216\n",
      "132 / 216\n",
      "133 / 216\n",
      "134 / 216\n",
      "135 / 216\n",
      "136 / 216\n",
      "137 / 216\n",
      "138 / 216\n",
      "139 / 216\n",
      "140 / 216\n",
      "141 / 216\n",
      "142 / 216\n",
      "143 / 216\n",
      "144 / 216\n",
      "145 / 216\n",
      "146 / 216\n",
      "147 / 216\n",
      "148 / 216\n",
      "149 / 216\n",
      "150 / 216\n",
      "151 / 216\n",
      "152 / 216\n",
      "153 / 216\n",
      "154 / 216\n",
      "155 / 216\n",
      "156 / 216\n",
      "157 / 216\n",
      "158 / 216\n",
      "159 / 216\n",
      "160 / 216\n",
      "161 / 216\n",
      "162 / 216\n",
      "163 / 216\n",
      "164 / 216\n",
      "165 / 216\n",
      "166 / 216\n",
      "167 / 216\n",
      "168 / 216\n",
      "169 / 216\n",
      "170 / 216\n",
      "171 / 216\n",
      "172 / 216\n",
      "173 / 216\n",
      "174 / 216\n",
      "175 / 216\n",
      "176 / 216\n",
      "177 / 216\n",
      "178 / 216\n",
      "179 / 216\n",
      "180 / 216\n",
      "181 / 216\n",
      "182 / 216\n",
      "183 / 216\n",
      "184 / 216\n",
      "185 / 216\n",
      "186 / 216\n",
      "187 / 216\n",
      "188 / 216\n",
      "189 / 216\n",
      "190 / 216\n",
      "191 / 216\n",
      "192 / 216\n",
      "193 / 216\n",
      "194 / 216\n",
      "195 / 216\n",
      "196 / 216\n",
      "197 / 216\n",
      "198 / 216\n",
      "199 / 216\n",
      "200 / 216\n",
      "201 / 216\n",
      "202 / 216\n",
      "203 / 216\n",
      "204 / 216\n",
      "205 / 216\n",
      "206 / 216\n",
      "207 / 216\n",
      "208 / 216\n",
      "209 / 216\n",
      "210 / 216\n",
      "211 / 216\n",
      "212 / 216\n",
      "213 / 216\n",
      "214 / 216\n",
      "215 / 216\n"
     ]
    }
   ],
   "source": [
    "#Step 5: rescale wsi to 1um for applying deeplab\n",
    "#Saves Image to where wsi is in subfolder\n",
    "wsis = [os.path.join(NDPI,_) for _ in LUThealthy.filename]\n",
    "wsis = natsorted(wsis)\n",
    "for idx,wsi in enumerate(wsis):\n",
    "    rescale_wsi(wsi,1)\n",
    "    print(idx,'/',len(wsis))"
   ],
   "metadata": {
    "collapsed": false
   }
  },
  {
   "cell_type": "code",
   "execution_count": 3,
   "outputs": [],
   "source": [
    "#8. Rotate and crop tissue pieces and DLmask (Code)\n",
    "#9. Rotate HoVerNet segmented nuclei mask (Code)\n",
    "\n",
    "LUTpth = r\"\\\\fatherserverdw\\kyuex\\datadst\\WSI_rotation_crop_LUT.xlsx\"\n",
    "ClUedegrot_df = pd.read_excel(LUTpth).astype(\"object\")"
   ],
   "metadata": {
    "collapsed": false
   }
  },
  {
   "cell_type": "code",
   "execution_count": 4,
   "outputs": [],
   "source": [
    "cntsrc = r'\\\\fatherserverdw\\kyuex\\clue images\\hovernet_out\\json'\n",
    "def hasjson(row):\n",
    "    fn,ext = os.path.splitext(row)\n",
    "    return os.path.exists(os.path.join(cntsrc,fn+'.json'))\n",
    "ClUedegrot_df['hasjson']=ClUedegrot_df['filename'].apply(lambda row: hasjson(row))"
   ],
   "metadata": {
    "collapsed": false
   }
  },
  {
   "cell_type": "code",
   "execution_count": 9,
   "outputs": [],
   "source": [
    "ClUedegrot_df2 = ClUedegrot_df[ClUedegrot_df['hasjson']==True]\n",
    "ClUedegrot_df2 = ClUedegrot_df2[0:1]"
   ],
   "metadata": {
    "collapsed": false
   }
  },
  {
   "cell_type": "code",
   "execution_count": 10,
   "outputs": [
    {
     "data": {
      "text/plain": "72"
     },
     "execution_count": 10,
     "metadata": {},
     "output_type": "execute_result"
    }
   ],
   "source": [
    "len(ClUedegrot_df2)"
   ],
   "metadata": {
    "collapsed": false
   }
  },
  {
   "cell_type": "code",
   "execution_count": 6,
   "outputs": [
    {
     "name": "stdout",
     "output_type": "stream",
     "text": [
      "section N:  1 / 2\n",
      "section N:  2 / 2\n"
     ]
    }
   ],
   "source": [
    "cntsrc = r'\\\\fatherserverdw\\kyuex\\clue images\\hovernet_out\\json'\n",
    "roisrc = r'\\\\fatherserverdw\\kyuex\\clue images\\annotations\\roi\\labeledmask_20rsf'\n",
    "wsisrc = r'\\\\fatherserverdw\\kyuex\\clue images'\n",
    "dlsrc = r'\\\\fatherserverdw\\kyuex\\clue images\\1um\\classification_v9_combined'\n",
    "dst = r'\\\\fatherserverdw\\kyuex\\datadst\\20220929'\n",
    "\n",
    "for idx,row in ClUedegrot_df2.iterrows():\n",
    "    fn,ext = os.path.splitext(row['filename'])\n",
    "    rotationdf = align_he_dl_cnt(dst,fn,wsisrc,dlsrc,cntsrc,roisrc)"
   ],
   "metadata": {
    "collapsed": false
   }
  },
  {
   "cell_type": "code",
   "execution_count": 7,
   "outputs": [
    {
     "data": {
      "text/plain": "                    fn  secN       drot                         bbox  \\\n0  2022-06-09 22.06.26     1  86.695717  [7728, 17087, 32800, 37615]   \n1  2022-06-09 22.06.26     2  78.047899  [8128, 18271, 12528, 18847]   \n\n                      bbox2  \n0    [216, 4933, 227, 9504]  \n1  [1791, 7641, 833, 10187]  ",
      "text/html": "<div>\n<style scoped>\n    .dataframe tbody tr th:only-of-type {\n        vertical-align: middle;\n    }\n\n    .dataframe tbody tr th {\n        vertical-align: top;\n    }\n\n    .dataframe thead th {\n        text-align: right;\n    }\n</style>\n<table border=\"1\" class=\"dataframe\">\n  <thead>\n    <tr style=\"text-align: right;\">\n      <th></th>\n      <th>fn</th>\n      <th>secN</th>\n      <th>drot</th>\n      <th>bbox</th>\n      <th>bbox2</th>\n    </tr>\n  </thead>\n  <tbody>\n    <tr>\n      <th>0</th>\n      <td>2022-06-09 22.06.26</td>\n      <td>1</td>\n      <td>86.695717</td>\n      <td>[7728, 17087, 32800, 37615]</td>\n      <td>[216, 4933, 227, 9504]</td>\n    </tr>\n    <tr>\n      <th>1</th>\n      <td>2022-06-09 22.06.26</td>\n      <td>2</td>\n      <td>78.047899</td>\n      <td>[8128, 18271, 12528, 18847]</td>\n      <td>[1791, 7641, 833, 10187]</td>\n    </tr>\n  </tbody>\n</table>\n</div>"
     },
     "execution_count": 7,
     "metadata": {},
     "output_type": "execute_result"
    }
   ],
   "source": [
    "rotationdf"
   ],
   "metadata": {
    "collapsed": false
   }
  }
 ],
 "metadata": {
  "kernelspec": {
   "display_name": "Python 3",
   "language": "python",
   "name": "python3"
  },
  "language_info": {
   "codemirror_mode": {
    "name": "ipython",
    "version": 2
   },
   "file_extension": ".py",
   "mimetype": "text/x-python",
   "name": "python",
   "nbconvert_exporter": "python",
   "pygments_lexer": "ipython2",
   "version": "2.7.6"
  }
 },
 "nbformat": 4,
 "nbformat_minor": 0
}
