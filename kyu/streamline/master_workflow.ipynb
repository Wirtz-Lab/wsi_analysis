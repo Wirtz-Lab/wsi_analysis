{
 "cells": [
  {
   "cell_type": "markdown",
   "source": [
    "0. Scan glass slides at 20x\n",
    "1. Create Excel sheet with patient information\n",
    "2. Screen H&E images to select potentially healthy sections\n",
    "3. Annotate the Region of Interest (ROI) (Optional)\n",
    "4. Convert ROI XML to Image (Code: roixml2png.py)\n",
    "5. Convert H&E images to 1um resolution tif to apply DeepLab (Code: rescale_wsi.py) (Matlab Code: infer_12class)\n",
    "6. Annotate 12 tissue compartments, apply DeepLab, and evaluate performance metrics\n",
    "7. Apply HoVerNet\n",
    "8. Rotate and crop tissue pieces, DLmask, HoVerNet segmented nuclei mask (Code: align_he_dl_cnt.py)\n",
    "9. Calculate tissue composition (Code: DLcomposition.py)\n",
    "10. Calculate epidermis thickness, waviness, roughness (Matlab Code)\n",
    "12. Calculate dermis thickness, waviness (Matlab Code)\n",
    "13. Calculate ECM anisotropy,Interstitial orientation, Thick gap ratio, Thick gap average (Matlab Code)\n",
    "14. Calculate tissue morphology (Matlab Code)\n",
    "15. ECM cell count and morphology + std using Manual Threshold method\n",
    "16. Distance from ECM cell to tissue\n",
    "17. All celltype morphology, orientation, and distance to tissue using HoVerNet (Code: hovernet_json2df + summarize_nuclei_shape_df ; these codes are unrotated; need update if we want to add orientation  or postprocess DLmask)\n",
    "18. Further add features such as more detailed cell subtyping (TBD)"
   ],
   "metadata": {
    "collapsed": false
   }
  },
  {
   "cell_type": "code",
   "execution_count": 1,
   "outputs": [],
   "source": [
    "import os\n",
    "import pandas as pd\n",
    "from natsort import natsorted\n",
    "from PIL import Image\n",
    "from matplotlib import pyplot as plt\n",
    "\n",
    "#utilities\n",
    "from roixml2png import roixml2png\n",
    "from rescale_wsi import rescale_wsi\n",
    "from align_he_dl_cnt import align_he_dl_cnt\n",
    "from DLcomposition import DLcomposition"
   ],
   "metadata": {
    "collapsed": false
   }
  },
  {
   "cell_type": "code",
   "execution_count": 21,
   "outputs": [],
   "source": [
    "wsisrc = r'\\\\fatherserverdw\\kyuex\\clue images'\n",
    "oneum = r'\\\\fatherserverdw\\kyuex\\clue images\\1um'\n",
    "aligned_images_dst = r'\\\\fatherserverdw\\kyuex\\datadst\\20220929'\n",
    "imcropsrc = os.path.join(aligned_images_dst,'imcrop')\n",
    "imcroproi = os.path.join(aligned_images_dst,'imcrop_roi')\n",
    "dlsrc = r'\\\\fatherserverdw\\kyuex\\clue images\\1um\\classification_v9_combined'\n",
    "dlcropsrc = os.path.join(aligned_images_dst,'dlcrop')\n",
    "dlcroproi = r'\\\\fatherserverdw\\kyuex\\clue images\\1um\\classification_v9_combined\\dlcrop_roi'\n",
    "roixml = r'\\\\fatherserverdw\\kyuex\\clue images\\annotations\\roi'\n",
    "roisrc = r'\\\\fatherserverdw\\kyuex\\clue images\\annotations\\roi\\labeledmask_20rsf'\n",
    "tissue_area_small = r'\\\\fatherserverdw\\kyuex\\clue images\\annotations\\roi\\TA_20rsf'\n",
    "twelve_annot = r'\\\\fatherserverdw\\kyuex\\clue images\\annotations\\12class'\n",
    "LUT = r\"\\\\fatherserverdw\\kyuex\\imlist_all.xlsx\"\n",
    "cntsrc = r'\\\\fatherserverdw\\kyuex\\clue images\\hovernet_out\\json'\n",
    "analysisdst= r'\\\\fatherserverdw\\kyuex\\clue images\\analysis output'"
   ],
   "metadata": {
    "collapsed": false
   }
  },
  {
   "cell_type": "code",
   "execution_count": 3,
   "outputs": [
    {
     "data": {
      "text/plain": "'\\\\\\\\fatherserverdw\\\\kyuex\\\\datadst\\\\20220929\\\\dlcrop'"
     },
     "execution_count": 3,
     "metadata": {},
     "output_type": "execute_result"
    }
   ],
   "source": [
    "dlcropsrc"
   ],
   "metadata": {
    "collapsed": false
   }
  },
  {
   "cell_type": "code",
   "execution_count": 4,
   "outputs": [],
   "source": [
    "run_roixml2png = False\n",
    "run_rescale_wsi = False\n",
    "run_align_he_dl_cnt = False\n",
    "run_DLcomposition = True"
   ],
   "metadata": {
    "collapsed": false
   }
  },
  {
   "cell_type": "code",
   "execution_count": 5,
   "outputs": [],
   "source": [
    "#Load healthy tissue look up table (LUT)\n",
    "LUT = pd.read_excel(LUT)\n",
    "# xmlist = LUT['filename'][(LUT['student score']>1) & (LUT['Block or Slide?']==\"Both\")]\n",
    "LUThealthy = LUT[(LUT['student score']>1)]\n",
    "LUThealthyback = LUThealthy[LUThealthy['body part 1'].str.lower()==\"back\"]"
   ],
   "metadata": {
    "collapsed": false
   }
  },
  {
   "cell_type": "code",
   "execution_count": 6,
   "outputs": [],
   "source": [
    "#Step 4: ROI XML 2 Image\n",
    "#Saves Image to where XML is in subfolders\n",
    "if run_roixml2png:\n",
    "    xmlist = [os.path.join(roixml,xmlpth.replace('ndpi','xml')) for xmlpth in LUThealthyback['filename']]\n",
    "    [roixml2png(xmlpth,wsisrc) for xmlpth in xmlist]\n",
    "    # pd.DataFrame(np.array(roiinfo),columns=['fn','ROIA','TA','ratio']).to_csv(r\"\\\\fatherserverdw\\kyuex\\ROITA_ratio.csv\")"
   ],
   "metadata": {
    "collapsed": false
   }
  },
  {
   "cell_type": "code",
   "execution_count": 7,
   "outputs": [],
   "source": [
    "#Step 5: rescale wsi to 1um for applying deeplab\n",
    "#Saves Image to where wsi is in subfolder\n",
    "if run_rescale_wsi:\n",
    "    wsis = [os.path.join(wsisrc,_) for _ in LUThealthy.filename]\n",
    "    wsis = natsorted(wsis)\n",
    "    for idx,wsi in enumerate(wsis):\n",
    "        rescale_wsi(wsi,1)\n",
    "        print(idx,'/',len(wsis))"
   ],
   "metadata": {
    "collapsed": false
   }
  },
  {
   "cell_type": "code",
   "execution_count": 8,
   "outputs": [
    {
     "name": "stderr",
     "output_type": "stream",
     "text": [
      "C:\\Users\\kyuha\\AppData\\Local\\Temp\\ipykernel_17032\\1105240623.py:14: SettingWithCopyWarning: \n",
      "A value is trying to be set on a copy of a slice from a DataFrame.\n",
      "Try using .loc[row_indexer,col_indexer] = value instead\n",
      "\n",
      "See the caveats in the documentation: https://pandas.pydata.org/pandas-docs/stable/user_guide/indexing.html#returning-a-view-versus-a-copy\n",
      "  LUThealthyback['hasjson']=LUThealthyback['filename'].apply(lambda row: hasjson(row))\n",
      "C:\\Users\\kyuha\\AppData\\Local\\Temp\\ipykernel_17032\\1105240623.py:15: SettingWithCopyWarning: \n",
      "A value is trying to be set on a copy of a slice from a DataFrame.\n",
      "Try using .loc[row_indexer,col_indexer] = value instead\n",
      "\n",
      "See the caveats in the documentation: https://pandas.pydata.org/pandas-docs/stable/user_guide/indexing.html#returning-a-view-versus-a-copy\n",
      "  LUThealthyback['hasdl']=LUThealthyback['filename'].apply(lambda row: hasdl(row))\n",
      "C:\\Users\\kyuha\\AppData\\Local\\Temp\\ipykernel_17032\\1105240623.py:16: SettingWithCopyWarning: \n",
      "A value is trying to be set on a copy of a slice from a DataFrame.\n",
      "Try using .loc[row_indexer,col_indexer] = value instead\n",
      "\n",
      "See the caveats in the documentation: https://pandas.pydata.org/pandas-docs/stable/user_guide/indexing.html#returning-a-view-versus-a-copy\n",
      "  LUThealthyback['hasroi']=LUThealthyback['filename'].apply(lambda row: hasroi(row))\n"
     ]
    },
    {
     "data": {
      "text/plain": "(53, 53, 66, 66)"
     },
     "execution_count": 8,
     "metadata": {},
     "output_type": "execute_result"
    }
   ],
   "source": [
    "# Narrow down LUT to which that has json, dlmask, roi\n",
    "def hasjson(row):\n",
    "    fn,ext = os.path.splitext(row)\n",
    "    return os.path.exists(os.path.join(cntsrc,fn+'.json'))\n",
    "def hasdl(row):\n",
    "    fn,ext = os.path.splitext(row)\n",
    "    return os.path.exists(os.path.join(dlcropsrc,fn+'.tif'))\n",
    "def hasroi(row):\n",
    "    fn,ext = os.path.splitext(row)\n",
    "    return os.path.exists(os.path.join(roisrc,fn+'.png'))\n",
    "LUThealthyback['hasjson']=LUThealthyback['filename'].apply(lambda row: hasjson(row))\n",
    "LUThealthyback['hasdl']=LUThealthyback['filename'].apply(lambda row: hasdl(row))\n",
    "LUThealthyback['hasroi']=LUThealthyback['filename'].apply(lambda row: hasroi(row))\n",
    "LUThealthyback2 = LUThealthyback[(LUThealthyback['hasjson']==True) & (LUThealthyback['hasdl']==True) & (LUThealthyback['hasroi']==True)]\n",
    "LUThealthyback2 = LUThealthyback2.reset_index()\n",
    "len(LUThealthyback2),len(LUThealthyback[(LUThealthyback['hasjson']==True)]),len(LUThealthyback[(LUThealthyback['hasdl']==True)]),len(LUThealthyback)"
   ],
   "metadata": {
    "collapsed": false
   }
  },
  {
   "cell_type": "code",
   "execution_count": 9,
   "outputs": [],
   "source": [
    "# Step 8: Rotate and crop tissue pieces, DLmask, HoVerNet segmented nuclei mask (Code: align_he_dl_cnt.py)\n",
    "if run_align_he_dl_cnt:\n",
    "    for idx,row in LUThealthyback2.iterrows():\n",
    "        print(idx,'/',len(LUThealthyback2))\n",
    "        fn,ext = os.path.splitext(row['filename'])\n",
    "        try:\n",
    "            rotationdf = align_he_dl_cnt(aligned_images_dst,fn,wsisrc,dlsrc,cntsrc,roisrc)\n",
    "        except:\n",
    "            print(fn)"
   ],
   "metadata": {
    "collapsed": false
   }
  },
  {
   "cell_type": "code",
   "execution_count": 10,
   "outputs": [],
   "source": [
    "# Narrow down LUT to which that has rotated image crop and dl crop\n",
    "def hasimcrop(row):\n",
    "    fn,ext = os.path.splitext(row)\n",
    "    fn = fn+'sec1'\n",
    "    return os.path.exists(os.path.join(imcropsrc,fn+'.png'))\n",
    "LUThealthyback2['hasimcrop']=LUThealthyback2['filename'].apply(lambda row: hasimcrop(row))\n",
    "LUThealthyback3=LUThealthyback2[LUThealthyback2['hasimcrop']]\n",
    "LUThealthyback3 = LUThealthyback3.reset_index(drop=True)"
   ],
   "metadata": {
    "collapsed": false
   }
  },
  {
   "cell_type": "code",
   "execution_count": 31,
   "outputs": [
    {
     "name": "stdout",
     "output_type": "stream",
     "text": [
      "1 / 63\n",
      "2 / 63\n",
      "3 / 63\n",
      "4 / 63\n",
      "5 / 63\n",
      "6 / 63\n",
      "7 / 63\n",
      "8 / 63\n",
      "9 / 63\n",
      "10 / 63\n",
      "11 / 63\n",
      "12 / 63\n",
      "13 / 63\n",
      "14 / 63\n",
      "15 / 63\n",
      "16 / 63\n",
      "17 / 63\n",
      "18 / 63\n",
      "19 / 63\n",
      "20 / 63\n",
      "21 / 63\n",
      "22 / 63\n",
      "23 / 63\n",
      "24 / 63\n",
      "25 / 63\n",
      "26 / 63\n",
      "27 / 63\n",
      "28 / 63\n",
      "29 / 63\n",
      "30 / 63\n",
      "31 / 63\n",
      "32 / 63\n",
      "33 / 63\n",
      "34 / 63\n",
      "35 / 63\n",
      "36 / 63\n",
      "37 / 63\n",
      "38 / 63\n",
      "39 / 63\n",
      "40 / 63\n",
      "41 / 63\n",
      "42 / 63\n",
      "43 / 63\n",
      "44 / 63\n",
      "45 / 63\n",
      "46 / 63\n",
      "47 / 63\n",
      "48 / 63\n",
      "49 / 63\n",
      "50 / 63\n",
      "51 / 63\n",
      "52 / 63\n",
      "53 / 63\n",
      "54 / 63\n",
      "55 / 63\n",
      "56 / 63\n",
      "57 / 63\n",
      "58 / 63\n",
      "59 / 63\n",
      "60 / 63\n",
      "61 / 63\n",
      "62 / 63\n",
      "63 / 63\n"
     ]
    }
   ],
   "source": [
    "def hasdlcrop(row):\n",
    "    fn,ext = os.path.splitext(row)\n",
    "    return os.path.exists(os.path.join(dlcropsrc,fn+'sec1.png'))\n",
    "LUThealthy['hasdlcrop']=LUThealthy['filename'].apply(lambda row: hasdlcrop(row))\n",
    "LUThealthy2 = LUThealthy[(LUThealthy['hasdlcrop']==True)].reset_index(drop=True)\n",
    "if run_DLcomposition:\n",
    "    fns = []\n",
    "    comps = []\n",
    "    secs = []\n",
    "    for idx,row in LUThealthy2.iterrows():\n",
    "        print(idx+1,'/',len(LUThealthy2))\n",
    "        fn,ext = os.path.splitext(row['filename'])\n",
    "        sections = [_ for _ in os.listdir(dlcropsrc) if fn in _]\n",
    "        for section in sections:\n",
    "            comp = DLcomposition(os.path.join(dlcropsrc,section))\n",
    "            comps.append(comp)\n",
    "            fn = row['filename']\n",
    "            fns.append(fn)\n",
    "            sec = section[-5]\n",
    "            secs.append(sec)"
   ],
   "metadata": {
    "collapsed": false
   }
  },
  {
   "cell_type": "code",
   "execution_count": 30,
   "outputs": [],
   "source": [
    "pd.DataFrame([fns,secs]).T.to_csv(os.path.join(analysisdst,'composition.csv'))"
   ],
   "metadata": {
    "collapsed": false
   }
  },
  {
   "cell_type": "code",
   "execution_count": 32,
   "outputs": [],
   "source": [
    "pd.concat([pd.DataFrame([fns,secs]).T,pd.DataFrame(comps)],axis=1).to_csv(os.path.join(analysisdst,'composition.csv'))"
   ],
   "metadata": {
    "collapsed": false
   }
  },
  {
   "cell_type": "code",
   "execution_count": 66,
   "outputs": [],
   "source": [
    "a=pd.read_csv(r\"\\\\fatherserverdw\\kyuex\\clue images\\analysis output\\avgdf.csv\")\n",
    "b=pd.read_csv(r\"\\\\fatherserverdw\\kyuex\\clue images\\analysis output\\complete_datasheet\\epidermis_profile.csv\",header=3)\n",
    "def isin2(row):\n",
    "    return b['filename'].str.contains(row+'.ndpi').any()\n",
    "a['isin']=a['imID'].apply(lambda row:isin2(row))\n",
    "a.to_csv(r\"\\\\fatherserverdw\\kyuex\\clue images\\analysis output\\avgdf.csv\")"
   ],
   "metadata": {
    "collapsed": false
   }
  },
  {
   "cell_type": "code",
   "execution_count": 67,
   "outputs": [],
   "source": [
    "a=pd.read_csv(r\"\\\\fatherserverdw\\kyuex\\clue images\\analysis output\\cvdf.csv\")\n",
    "b=pd.read_csv(r\"\\\\fatherserverdw\\kyuex\\clue images\\analysis output\\complete_datasheet\\epidermis_profile.csv\",header=3)\n",
    "def isin2(row):\n",
    "    return b['filename'].str.contains(row+'.ndpi').any()\n",
    "a['isin']=a['imID'].apply(lambda row:isin2(row))\n",
    "a.to_csv(r\"\\\\fatherserverdw\\kyuex\\clue images\\analysis output\\cvdf.csv\")"
   ],
   "metadata": {
    "collapsed": false
   }
  },
  {
   "cell_type": "code",
   "execution_count": 62,
   "outputs": [
    {
     "data": {
      "text/plain": "     index gender        age  pid  sectionID                  filename  year  \\\n0     1143      F  85.604454  471          1  2022-06-07 14.34.59.ndpi    10   \n1     1144      F  85.604454  471          1  2022-06-07 14.37.19.ndpi    10   \n2     1173      M  92.435616  484          1  2022-06-07 17.24.15.ndpi    10   \n3      162      M  74.745205   71          1  2022-06-07 17.43.53.ndpi     3   \n4      394      M  87.602740  178          1  2022-06-08 17.04.20.ndpi     5   \n..     ...    ...        ...  ...        ...                       ...   ...   \n100    293      F  72.603825  133          1  2022-07-07 19.19.08.ndpi     4   \n101    402      M  87.602740  178          1  2022-07-07 20.21.33.ndpi     5   \n102    329      M  55.600000  151          1  2022-07-07 21.21.09.ndpi     5   \n103    328      M  55.600000  151          1  2022-07-07 21.27.08.ndpi     5   \n104    169      F  91.669376   78          1  2022-07-07 22.11.00.ndpi     3   \n\n     sampleId labelName subLabel  ...  stromal_nucleus2follicle_CV  \\\n0        3702   10_3702        3  ...                          NaN   \n1        3702   10_3702        4  ...                          NaN   \n2        6634   10_6634        7  ...                          NaN   \n3       18469   3_18469      NaN  ...                          NaN   \n4        9867    5_9867       A2  ...                          NaN   \n..        ...       ...      ...  ...                          ...   \n100     15023   4_15023        3  ...                          NaN   \n101      9867    5_9867       A4  ...                          NaN   \n102      3647    5_3647       B4  ...                          NaN   \n103      3647    5_3647       B1  ...                          NaN   \n104     19300   3_19300        1  ...                          NaN   \n\n    stromal_nucleus2muscle_CV  stromal_nucleus2oil_CV  \\\n0                         NaN                     NaN   \n1                         NaN                     NaN   \n2                         NaN                     NaN   \n3                         NaN                     NaN   \n4                         NaN                     NaN   \n..                        ...                     ...   \n100                       NaN                     NaN   \n101                       NaN                     NaN   \n102                       NaN                     NaN   \n103                       NaN                     NaN   \n104                       NaN                     NaN   \n\n     stromal_nucleus2sweat_CV  stromal_nucleus2nerve_CV  \\\n0                         NaN                       NaN   \n1                         NaN                       NaN   \n2                         NaN                       NaN   \n3                         NaN                       NaN   \n4                         NaN                       NaN   \n..                        ...                       ...   \n100                       NaN                       NaN   \n101                       NaN                       NaN   \n102                       NaN                       NaN   \n103                       NaN                       NaN   \n104                       NaN                       NaN   \n\n     stromal_nucleus2blood_CV  stromal_nucleus2ecm_CV  stromal_nucleus2fat_CV  \\\n0                         NaN                     NaN                     NaN   \n1                         NaN                     NaN                     NaN   \n2                         NaN                     NaN                     NaN   \n3                         NaN                     NaN                     NaN   \n4                         NaN                     NaN                     NaN   \n..                        ...                     ...                     ...   \n100                       NaN                     NaN                     NaN   \n101                       NaN                     NaN                     NaN   \n102                       NaN                     NaN                     NaN   \n103                       NaN                     NaN                     NaN   \n104                       NaN                     NaN                     NaN   \n\n     stromal_Ncell_CV  stromal_Ncell_CV.1  \n0                 NaN                 NaN  \n1                 NaN                 NaN  \n2                 NaN                 NaN  \n3                 NaN                 NaN  \n4                 NaN                 NaN  \n..                ...                 ...  \n100               NaN                 NaN  \n101               NaN                 NaN  \n102               NaN                 NaN  \n103               NaN                 NaN  \n104               NaN                 NaN  \n\n[105 rows x 1105 columns]",
      "text/html": "<div>\n<style scoped>\n    .dataframe tbody tr th:only-of-type {\n        vertical-align: middle;\n    }\n\n    .dataframe tbody tr th {\n        vertical-align: top;\n    }\n\n    .dataframe thead th {\n        text-align: right;\n    }\n</style>\n<table border=\"1\" class=\"dataframe\">\n  <thead>\n    <tr style=\"text-align: right;\">\n      <th></th>\n      <th>index</th>\n      <th>gender</th>\n      <th>age</th>\n      <th>pid</th>\n      <th>sectionID</th>\n      <th>filename</th>\n      <th>year</th>\n      <th>sampleId</th>\n      <th>labelName</th>\n      <th>subLabel</th>\n      <th>...</th>\n      <th>stromal_nucleus2follicle_CV</th>\n      <th>stromal_nucleus2muscle_CV</th>\n      <th>stromal_nucleus2oil_CV</th>\n      <th>stromal_nucleus2sweat_CV</th>\n      <th>stromal_nucleus2nerve_CV</th>\n      <th>stromal_nucleus2blood_CV</th>\n      <th>stromal_nucleus2ecm_CV</th>\n      <th>stromal_nucleus2fat_CV</th>\n      <th>stromal_Ncell_CV</th>\n      <th>stromal_Ncell_CV.1</th>\n    </tr>\n  </thead>\n  <tbody>\n    <tr>\n      <th>0</th>\n      <td>1143</td>\n      <td>F</td>\n      <td>85.604454</td>\n      <td>471</td>\n      <td>1</td>\n      <td>2022-06-07 14.34.59.ndpi</td>\n      <td>10</td>\n      <td>3702</td>\n      <td>10_3702</td>\n      <td>3</td>\n      <td>...</td>\n      <td>NaN</td>\n      <td>NaN</td>\n      <td>NaN</td>\n      <td>NaN</td>\n      <td>NaN</td>\n      <td>NaN</td>\n      <td>NaN</td>\n      <td>NaN</td>\n      <td>NaN</td>\n      <td>NaN</td>\n    </tr>\n    <tr>\n      <th>1</th>\n      <td>1144</td>\n      <td>F</td>\n      <td>85.604454</td>\n      <td>471</td>\n      <td>1</td>\n      <td>2022-06-07 14.37.19.ndpi</td>\n      <td>10</td>\n      <td>3702</td>\n      <td>10_3702</td>\n      <td>4</td>\n      <td>...</td>\n      <td>NaN</td>\n      <td>NaN</td>\n      <td>NaN</td>\n      <td>NaN</td>\n      <td>NaN</td>\n      <td>NaN</td>\n      <td>NaN</td>\n      <td>NaN</td>\n      <td>NaN</td>\n      <td>NaN</td>\n    </tr>\n    <tr>\n      <th>2</th>\n      <td>1173</td>\n      <td>M</td>\n      <td>92.435616</td>\n      <td>484</td>\n      <td>1</td>\n      <td>2022-06-07 17.24.15.ndpi</td>\n      <td>10</td>\n      <td>6634</td>\n      <td>10_6634</td>\n      <td>7</td>\n      <td>...</td>\n      <td>NaN</td>\n      <td>NaN</td>\n      <td>NaN</td>\n      <td>NaN</td>\n      <td>NaN</td>\n      <td>NaN</td>\n      <td>NaN</td>\n      <td>NaN</td>\n      <td>NaN</td>\n      <td>NaN</td>\n    </tr>\n    <tr>\n      <th>3</th>\n      <td>162</td>\n      <td>M</td>\n      <td>74.745205</td>\n      <td>71</td>\n      <td>1</td>\n      <td>2022-06-07 17.43.53.ndpi</td>\n      <td>3</td>\n      <td>18469</td>\n      <td>3_18469</td>\n      <td>NaN</td>\n      <td>...</td>\n      <td>NaN</td>\n      <td>NaN</td>\n      <td>NaN</td>\n      <td>NaN</td>\n      <td>NaN</td>\n      <td>NaN</td>\n      <td>NaN</td>\n      <td>NaN</td>\n      <td>NaN</td>\n      <td>NaN</td>\n    </tr>\n    <tr>\n      <th>4</th>\n      <td>394</td>\n      <td>M</td>\n      <td>87.602740</td>\n      <td>178</td>\n      <td>1</td>\n      <td>2022-06-08 17.04.20.ndpi</td>\n      <td>5</td>\n      <td>9867</td>\n      <td>5_9867</td>\n      <td>A2</td>\n      <td>...</td>\n      <td>NaN</td>\n      <td>NaN</td>\n      <td>NaN</td>\n      <td>NaN</td>\n      <td>NaN</td>\n      <td>NaN</td>\n      <td>NaN</td>\n      <td>NaN</td>\n      <td>NaN</td>\n      <td>NaN</td>\n    </tr>\n    <tr>\n      <th>...</th>\n      <td>...</td>\n      <td>...</td>\n      <td>...</td>\n      <td>...</td>\n      <td>...</td>\n      <td>...</td>\n      <td>...</td>\n      <td>...</td>\n      <td>...</td>\n      <td>...</td>\n      <td>...</td>\n      <td>...</td>\n      <td>...</td>\n      <td>...</td>\n      <td>...</td>\n      <td>...</td>\n      <td>...</td>\n      <td>...</td>\n      <td>...</td>\n      <td>...</td>\n      <td>...</td>\n    </tr>\n    <tr>\n      <th>100</th>\n      <td>293</td>\n      <td>F</td>\n      <td>72.603825</td>\n      <td>133</td>\n      <td>1</td>\n      <td>2022-07-07 19.19.08.ndpi</td>\n      <td>4</td>\n      <td>15023</td>\n      <td>4_15023</td>\n      <td>3</td>\n      <td>...</td>\n      <td>NaN</td>\n      <td>NaN</td>\n      <td>NaN</td>\n      <td>NaN</td>\n      <td>NaN</td>\n      <td>NaN</td>\n      <td>NaN</td>\n      <td>NaN</td>\n      <td>NaN</td>\n      <td>NaN</td>\n    </tr>\n    <tr>\n      <th>101</th>\n      <td>402</td>\n      <td>M</td>\n      <td>87.602740</td>\n      <td>178</td>\n      <td>1</td>\n      <td>2022-07-07 20.21.33.ndpi</td>\n      <td>5</td>\n      <td>9867</td>\n      <td>5_9867</td>\n      <td>A4</td>\n      <td>...</td>\n      <td>NaN</td>\n      <td>NaN</td>\n      <td>NaN</td>\n      <td>NaN</td>\n      <td>NaN</td>\n      <td>NaN</td>\n      <td>NaN</td>\n      <td>NaN</td>\n      <td>NaN</td>\n      <td>NaN</td>\n    </tr>\n    <tr>\n      <th>102</th>\n      <td>329</td>\n      <td>M</td>\n      <td>55.600000</td>\n      <td>151</td>\n      <td>1</td>\n      <td>2022-07-07 21.21.09.ndpi</td>\n      <td>5</td>\n      <td>3647</td>\n      <td>5_3647</td>\n      <td>B4</td>\n      <td>...</td>\n      <td>NaN</td>\n      <td>NaN</td>\n      <td>NaN</td>\n      <td>NaN</td>\n      <td>NaN</td>\n      <td>NaN</td>\n      <td>NaN</td>\n      <td>NaN</td>\n      <td>NaN</td>\n      <td>NaN</td>\n    </tr>\n    <tr>\n      <th>103</th>\n      <td>328</td>\n      <td>M</td>\n      <td>55.600000</td>\n      <td>151</td>\n      <td>1</td>\n      <td>2022-07-07 21.27.08.ndpi</td>\n      <td>5</td>\n      <td>3647</td>\n      <td>5_3647</td>\n      <td>B1</td>\n      <td>...</td>\n      <td>NaN</td>\n      <td>NaN</td>\n      <td>NaN</td>\n      <td>NaN</td>\n      <td>NaN</td>\n      <td>NaN</td>\n      <td>NaN</td>\n      <td>NaN</td>\n      <td>NaN</td>\n      <td>NaN</td>\n    </tr>\n    <tr>\n      <th>104</th>\n      <td>169</td>\n      <td>F</td>\n      <td>91.669376</td>\n      <td>78</td>\n      <td>1</td>\n      <td>2022-07-07 22.11.00.ndpi</td>\n      <td>3</td>\n      <td>19300</td>\n      <td>3_19300</td>\n      <td>1</td>\n      <td>...</td>\n      <td>NaN</td>\n      <td>NaN</td>\n      <td>NaN</td>\n      <td>NaN</td>\n      <td>NaN</td>\n      <td>NaN</td>\n      <td>NaN</td>\n      <td>NaN</td>\n      <td>NaN</td>\n      <td>NaN</td>\n    </tr>\n  </tbody>\n</table>\n<p>105 rows × 1105 columns</p>\n</div>"
     },
     "execution_count": 62,
     "metadata": {},
     "output_type": "execute_result"
    }
   ],
   "source": [
    "b=pd.read_csv(r\"\\\\fatherserverdw\\kyuex\\clue images\\analysis output\\complete_datasheet\\epidermis_profile.csv\",header=3)\n",
    "b"
   ],
   "metadata": {
    "collapsed": false
   }
  }
 ],
 "metadata": {
  "kernelspec": {
   "display_name": "Python 3",
   "language": "python",
   "name": "python3"
  },
  "language_info": {
   "codemirror_mode": {
    "name": "ipython",
    "version": 2
   },
   "file_extension": ".py",
   "mimetype": "text/x-python",
   "name": "python",
   "nbconvert_exporter": "python",
   "pygments_lexer": "ipython2",
   "version": "2.7.6"
  }
 },
 "nbformat": 4,
 "nbformat_minor": 0
}
