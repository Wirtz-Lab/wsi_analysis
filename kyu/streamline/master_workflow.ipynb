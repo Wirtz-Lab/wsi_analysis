{
 "cells": [
  {
   "cell_type": "markdown",
   "source": [
    "0. Scan glass slides at 20x\n",
    "1. Create Excel sheet with patient information\n",
    "2. Screen H&E images to select potentially healthy sections\n",
    "3. Annotate the Region of Interest (ROI) (Optional)\n",
    "4. Convert ROI XML to Image (Code: roixml2png.py)\n",
    "5. Convert H&E images to 1um resolution tif to apply DeepLab (Code: rescale_wsi.py) (Matlab Code: infer_12class)\n",
    "6. Annotate 12 tissue compartments, apply DeepLab, and evaluate performance metrics\n",
    "7. Apply HoVerNet\n",
    "8. Rotate and crop tissue pieces, DLmask, HoVerNet segmented nuclei mask (Code: align_he_dl_cnt.py)\n",
    "9. Calculate tissue composition (Code: DLcomposition.py)\n",
    "10. Calculate epidermis thickness, waviness, roughness (Matlab Code)\n",
    "12. Calculate dermis thickness, waviness (Matlab Code)\n",
    "13. Calculate ECM anisotropy,Interstitial orientation, Thick gap ratio, Thick gap average (Matlab Code)\n",
    "14. Calculate tissue morphology (Matlab Code)\n",
    "15. ECM cell count and morphology + std using Manual Threshold method\n",
    "16. Distance from ECM cell to tissue\n",
    "17. All celltype morphology, orientation, and distance to tissue using HoVerNet (Code: hovernet_json2df + summarize_nuclei_shape_df ; these codes are unrotated; need update if we want to add orientation  or postprocess DLmask)\n",
    "18. Further add features such as more detailed cell subtyping (TBD)"
   ],
   "metadata": {
    "collapsed": false
   }
  },
  {
   "cell_type": "code",
   "execution_count": null,
   "outputs": [],
   "source": [
    "import os\n",
    "import pandas as pd\n",
    "from natsort import natsorted\n",
    "from PIL import Image\n",
    "from matplotlib import pyplot as plt\n",
    "\n",
    "#utilities\n",
    "from roixml2png import roixml2png\n",
    "from rescale_wsi import rescale_wsi\n",
    "from align_he_dl_cnt import align_he_dl_cnt\n",
    "from DLcomposition import DLcomposition"
   ],
   "metadata": {
    "collapsed": false
   }
  },
  {
   "cell_type": "code",
   "execution_count": null,
   "outputs": [],
   "source": [
    "wsisrc = r'\\\\fatherserverdw\\kyuex\\clue images'\n",
    "oneum = r'\\\\fatherserverdw\\kyuex\\clue images\\1um'\n",
    "aligned_images_dst = r'\\\\fatherserverdw\\kyuex\\datadst\\20220929'\n",
    "imcropsrc = os.path.join(aligned_images_dst,'imcrop')\n",
    "imcroproi = os.path.join(aligned_images_dst,'imcrop_roi')\n",
    "dlsrc = r'\\\\fatherserverdw\\kyuex\\clue images\\1um\\classification_v9_combined'\n",
    "dlcropsrc = os.path.join(aligned_images_dst,'dlcrop')\n",
    "dlcroproi = r'\\\\fatherserverdw\\kyuex\\clue images\\1um\\classification_v9_combined\\dlcrop_roi'\n",
    "roixml = r'\\\\fatherserverdw\\kyuex\\clue images\\annotations\\roi'\n",
    "roisrc = r'\\\\fatherserverdw\\kyuex\\clue images\\annotations\\roi\\labeledmask_20rsf'\n",
    "tissue_area_small = r'\\\\fatherserverdw\\kyuex\\clue images\\annotations\\roi\\TA_20rsf'\n",
    "twelve_annot = r'\\\\fatherserverdw\\kyuex\\clue images\\annotations\\12class'\n",
    "LUT = r\"\\\\fatherserverdw\\kyuex\\imlist_all.xlsx\"\n",
    "cntsrc = r'\\\\fatherserverdw\\kyuex\\clue images\\hovernet_out\\json'\n",
    "analysisdst= r'\\\\fatherserverdw\\kyuex\\clue images\\analysis output'"
   ],
   "metadata": {
    "collapsed": false
   }
  },
  {
   "cell_type": "code",
   "execution_count": null,
   "outputs": [],
   "source": [
    "dlcropsrc"
   ],
   "metadata": {
    "collapsed": false
   }
  },
  {
   "cell_type": "code",
   "execution_count": null,
   "outputs": [],
   "source": [
    "run_roixml2png = False\n",
    "run_rescale_wsi = False\n",
    "run_align_he_dl_cnt = False\n",
    "run_DLcomposition = True"
   ],
   "metadata": {
    "collapsed": false
   }
  },
  {
   "cell_type": "code",
   "execution_count": null,
   "outputs": [],
   "source": [
    "#Load healthy tissue look up table (LUT)\n",
    "LUT = pd.read_excel(LUT)\n",
    "# xmlist = LUT['filename'][(LUT['student score']>1) & (LUT['Block or Slide?']==\"Both\")]\n",
    "LUThealthy = LUT[(LUT['student score']>1)]\n",
    "LUThealthyback = LUThealthy[LUThealthy['body part 1'].str.lower()==\"back\"]"
   ],
   "metadata": {
    "collapsed": false
   }
  },
  {
   "cell_type": "code",
   "execution_count": null,
   "outputs": [],
   "source": [
    "#Step 4: ROI XML 2 Image\n",
    "#Saves Image to where XML is in subfolders\n",
    "if run_roixml2png:\n",
    "    xmlist = [os.path.join(roixml,xmlpth.replace('ndpi','xml')) for xmlpth in LUThealthyback['filename']]\n",
    "    [roixml2png(xmlpth,wsisrc) for xmlpth in xmlist]\n",
    "    # pd.DataFrame(np.array(roiinfo),columns=['fn','ROIA','TA','ratio']).to_csv(r\"\\\\fatherserverdw\\kyuex\\ROITA_ratio.csv\")"
   ],
   "metadata": {
    "collapsed": false
   }
  },
  {
   "cell_type": "code",
   "execution_count": null,
   "outputs": [],
   "source": [
    "#Step 5: rescale wsi to 1um for applying deeplab\n",
    "#Saves Image to where wsi is in subfolder\n",
    "if run_rescale_wsi:\n",
    "    wsis = [os.path.join(wsisrc,_) for _ in LUThealthy.filename]\n",
    "    wsis = natsorted(wsis)\n",
    "    for idx,wsi in enumerate(wsis):\n",
    "        rescale_wsi(wsi,1)\n",
    "        print(idx,'/',len(wsis))"
   ],
   "metadata": {
    "collapsed": false
   }
  },
  {
   "cell_type": "code",
   "execution_count": null,
   "outputs": [],
   "source": [
    "# Narrow down LUT to which that has json, dlmask, roi\n",
    "def hasjson(row):\n",
    "    fn,ext = os.path.splitext(row)\n",
    "    return os.path.exists(os.path.join(cntsrc,fn+'.json'))\n",
    "def hasdl(row):\n",
    "    fn,ext = os.path.splitext(row)\n",
    "    return os.path.exists(os.path.join(dlcropsrc,fn+'.tif'))\n",
    "def hasroi(row):\n",
    "    fn,ext = os.path.splitext(row)\n",
    "    return os.path.exists(os.path.join(roisrc,fn+'.png'))\n",
    "LUThealthyback['hasjson']=LUThealthyback['filename'].apply(lambda row: hasjson(row))\n",
    "LUThealthyback['hasdl']=LUThealthyback['filename'].apply(lambda row: hasdl(row))\n",
    "LUThealthyback['hasroi']=LUThealthyback['filename'].apply(lambda row: hasroi(row))\n",
    "LUThealthyback2 = LUThealthyback[(LUThealthyback['hasjson']==True) & (LUThealthyback['hasdl']==True) & (LUThealthyback['hasroi']==True)]\n",
    "LUThealthyback2 = LUThealthyback2.reset_index()\n",
    "len(LUThealthyback2),len(LUThealthyback[(LUThealthyback['hasjson']==True)]),len(LUThealthyback[(LUThealthyback['hasdl']==True)]),len(LUThealthyback)"
   ],
   "metadata": {
    "collapsed": false
   }
  },
  {
   "cell_type": "code",
   "execution_count": null,
   "outputs": [],
   "source": [
    "# Step 8: Rotate and crop tissue pieces, DLmask, HoVerNet segmented nuclei mask (Code: align_he_dl_cnt.py)\n",
    "if run_align_he_dl_cnt:\n",
    "    for idx,row in LUThealthyback2.iterrows():\n",
    "        print(idx,'/',len(LUThealthyback2))\n",
    "        fn,ext = os.path.splitext(row['filename'])\n",
    "        try:\n",
    "            rotationdf = align_he_dl_cnt(aligned_images_dst,fn,wsisrc,dlsrc,cntsrc,roisrc)\n",
    "        except:\n",
    "            print(fn)"
   ],
   "metadata": {
    "collapsed": false
   }
  },
  {
   "cell_type": "code",
   "execution_count": null,
   "outputs": [],
   "source": [
    "# Narrow down LUT to which that has rotated image crop and dl crop\n",
    "def hasimcrop(row):\n",
    "    fn,ext = os.path.splitext(row)\n",
    "    fn = fn+'sec1'\n",
    "    return os.path.exists(os.path.join(imcropsrc,fn+'.png'))\n",
    "LUThealthyback2['hasimcrop']=LUThealthyback2['filename'].apply(lambda row: hasimcrop(row))\n",
    "LUThealthyback3=LUThealthyback2[LUThealthyback2['hasimcrop']]\n",
    "LUThealthyback3 = LUThealthyback3.reset_index(drop=True)"
   ],
   "metadata": {
    "collapsed": false
   }
  },
  {
   "cell_type": "code",
   "execution_count": null,
   "outputs": [],
   "source": [
    "def hasdlcrop(row):\n",
    "    fn,ext = os.path.splitext(row)\n",
    "    return os.path.exists(os.path.join(dlcropsrc,fn+'sec1.png'))\n",
    "LUThealthy['hasdlcrop']=LUThealthy['filename'].apply(lambda row: hasdlcrop(row))\n",
    "LUThealthy2 = LUThealthy[(LUThealthy['hasdlcrop']==True)].reset_index(drop=True)\n",
    "if run_DLcomposition:\n",
    "    fns = []    #filename\n",
    "    comps = [] #composition data\n",
    "    secs = []   #sectionID\n",
    "    for idx,row in LUThealthy2.iterrows():\n",
    "        print(idx+1,'/',len(LUThealthy2))\n",
    "        fn,ext = os.path.splitext(row['filename'])\n",
    "        sections = [_ for _ in os.listdir(dlcropsrc) if fn in _]\n",
    "        for section in sections:\n",
    "            comp = DLcomposition(os.path.join(dlcropsrc,section))\n",
    "            comps.append(comp)\n",
    "            fn = row['filename']\n",
    "            fns.append(fn)\n",
    "            sec = section[-5]\n",
    "            secs.append(sec)\n",
    "    pd.concat([pd.DataFrame([fns,secs]).T,pd.DataFrame(comps)],axis=1).to_csv(os.path.join(analysisdst,'composition.csv'))"
   ],
   "metadata": {
    "collapsed": false
   }
  },
  {
   "cell_type": "code",
   "execution_count": null,
   "outputs": [],
   "source": [],
   "metadata": {
    "collapsed": false
   }
  },
  {
   "cell_type": "code",
   "execution_count": null,
   "outputs": [],
   "source": [],
   "metadata": {
    "collapsed": false
   }
  },
  {
   "cell_type": "code",
   "execution_count": null,
   "outputs": [],
   "source": [],
   "metadata": {
    "collapsed": false
   }
  },
  {
   "cell_type": "code",
   "execution_count": null,
   "outputs": [],
   "source": [],
   "metadata": {
    "collapsed": false
   }
  },
  {
   "cell_type": "code",
   "execution_count": null,
   "outputs": [],
   "source": [
    "a=pd.read_csv(r\"\\\\fatherserverdw\\kyuex\\clue images\\analysis output\\avgdf.csv\")\n",
    "b=pd.read_csv(r\"\\\\fatherserverdw\\kyuex\\clue images\\analysis output\\complete_datasheet\\epidermis_profile.csv\",header=3)\n",
    "def isin2(row):\n",
    "    return b['filename'].str.contains(row+'.ndpi').any()\n",
    "a['isin']=a['imID'].apply(lambda row:isin2(row))\n",
    "a.to_csv(r\"\\\\fatherserverdw\\kyuex\\clue images\\analysis output\\avgdf.csv\")"
   ],
   "metadata": {
    "collapsed": false
   }
  },
  {
   "cell_type": "code",
   "execution_count": null,
   "outputs": [],
   "source": [
    "a=pd.read_csv(r\"\\\\fatherserverdw\\kyuex\\clue images\\analysis output\\cvdf.csv\")\n",
    "b=pd.read_csv(r\"\\\\fatherserverdw\\kyuex\\clue images\\analysis output\\complete_datasheet\\epidermis_profile.csv\",header=3)\n",
    "def isin2(row):\n",
    "    return b['filename'].str.contains(row+'.ndpi').any()\n",
    "a['isin']=a['imID'].apply(lambda row:isin2(row))\n",
    "a.to_csv(r\"\\\\fatherserverdw\\kyuex\\clue images\\analysis output\\cvdf.csv\")"
   ],
   "metadata": {
    "collapsed": false
   }
  },
  {
   "cell_type": "code",
   "execution_count": null,
   "outputs": [],
   "source": [
    "b=pd.read_csv(r\"\\\\fatherserverdw\\kyuex\\clue images\\analysis output\\complete_datasheet\\epidermis_profile.csv\",header=3)\n",
    "b"
   ],
   "metadata": {
    "collapsed": false
   }
  }
 ],
 "metadata": {
  "kernelspec": {
   "display_name": "Python 3",
   "language": "python",
   "name": "python3"
  },
  "language_info": {
   "codemirror_mode": {
    "name": "ipython",
    "version": 2
   },
   "file_extension": ".py",
   "mimetype": "text/x-python",
   "name": "python",
   "nbconvert_exporter": "python",
   "pygments_lexer": "ipython2",
   "version": "2.7.6"
  }
 },
 "nbformat": 4,
 "nbformat_minor": 0
}
