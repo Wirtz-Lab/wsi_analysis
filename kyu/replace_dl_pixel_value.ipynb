{
 "cells": [
  {
   "cell_type": "code",
   "execution_count": 14,
   "metadata": {
    "collapsed": true,
    "ExecuteTime": {
     "start_time": "2023-04-19T11:38:40.520516Z",
     "end_time": "2023-04-19T11:38:40.550059Z"
    }
   },
   "outputs": [],
   "source": [
    "import os\n",
    "from PIL import Image\n",
    "Image.MAX_IMAGE_PIXELS=None\n",
    "import numpy as np\n",
    "src = r'\\\\babyserverdw5\\Digital pathology image lib\\HubMap Skin TMC project\\230418 HS-012-D9\\1um\\classification_v9_combined'\n",
    "dst = r'\\\\babyserverdw5\\Digital pathology image lib\\HubMap Skin TMC project\\230418 HS-012-D9\\1um\\classification_v9_combined\\nerve_removed'\n",
    "if not os.path.exists(dst): os.mkdir(dst)\n",
    "ims = [_ for _ in os.listdir(src) if _.endswith('tif')]"
   ]
  },
  {
   "cell_type": "code",
   "execution_count": 15,
   "outputs": [
    {
     "name": "stdout",
     "output_type": "stream",
     "text": [
      "z-0076_2023-04-18 13.03.02.tif\n",
      "z-0077_2023-04-18 13.05.01.tif\n",
      "z-0078_2023-04-18 13.07.05.tif\n",
      "z-0079_2023-04-18 13.09.06.tif\n",
      "z-0080_2023-04-18 13.11.10.tif\n",
      "z-0081_2023-04-18 13.13.08.tif\n",
      "z-0082_2023-04-18 13.15.06.tif\n",
      "z-0083_2023-04-18 13.17.05.tif\n",
      "z-0084_2023-04-18 13.19.08.tif\n"
     ]
    }
   ],
   "source": [
    "for im in ims:\n",
    "    if os.path.exists(os.path.join(dst,im)): continue\n",
    "    print(im)\n",
    "    imarr=np.array(Image.open(os.path.join(src,im)))\n",
    "    imarr[imarr==8]=10 #replace 8 with 10\n",
    "    Image.fromarray(imarr).save(os.path.join(dst,im))"
   ],
   "metadata": {
    "collapsed": false,
    "ExecuteTime": {
     "start_time": "2023-04-19T11:38:40.548057Z",
     "end_time": "2023-04-19T11:42:14.140205Z"
    }
   }
  }
 ],
 "metadata": {
  "kernelspec": {
   "display_name": "Python 3",
   "language": "python",
   "name": "python3"
  },
  "language_info": {
   "codemirror_mode": {
    "name": "ipython",
    "version": 2
   },
   "file_extension": ".py",
   "mimetype": "text/x-python",
   "name": "python",
   "nbconvert_exporter": "python",
   "pygments_lexer": "ipython2",
   "version": "2.7.6"
  }
 },
 "nbformat": 4,
 "nbformat_minor": 0
}
