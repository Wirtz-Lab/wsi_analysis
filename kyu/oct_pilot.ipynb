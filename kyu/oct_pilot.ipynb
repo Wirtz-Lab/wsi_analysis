{
 "cells": [
  {
   "cell_type": "code",
   "execution_count": 17,
   "metadata": {
    "collapsed": true
   },
   "outputs": [
    {
     "data": {
      "text/plain": "(pathlib.WindowsPath, WindowsPath('test.OCT'))"
     },
     "execution_count": 17,
     "metadata": {},
     "output_type": "execute_result"
    }
   ],
   "source": [
    "# encoding: utf-8\n",
    "from oct_converter.readers import FDS\n",
    "from pathlib import Path\n",
    "# An example .fds file can be downloaded from the Biobank website:\n",
    "# https://biobank.ndph.ox.ac.uk/showcase/refer.cgi?id=30\n",
    "# filepath = '/home/mark/Downloads/eg_oct_fds.fds'\n",
    "# filepath = r\"\\\\babyserverdw5\\Digital pathology image lib\\NTU\\Da-ching chen\\221222 OCT test raw data\\5855759 OD 20210309 visit-20221222T153905Z-001\\5855759 OD 20210309 visit\\test.OCT\"\n",
    "filepath=Path(\"test.OCT\")\n",
    "type(filepath),filepath\n"
   ]
  },
  {
   "cell_type": "code",
   "execution_count": 18,
   "outputs": [
    {
     "ename": "UnicodeDecodeError",
     "evalue": "'ascii' codec can't decode byte 0xc0 in position 1: ordinal not in range(128)",
     "output_type": "error",
     "traceback": [
      "\u001B[1;31m---------------------------------------------------------------------------\u001B[0m",
      "\u001B[1;31mUnicodeDecodeError\u001B[0m                        Traceback (most recent call last)",
      "Input \u001B[1;32mIn [18]\u001B[0m, in \u001B[0;36m<cell line: 1>\u001B[1;34m()\u001B[0m\n\u001B[1;32m----> 1\u001B[0m fds \u001B[38;5;241m=\u001B[39m \u001B[43mFDS\u001B[49m\u001B[43m(\u001B[49m\u001B[43mfilepath\u001B[49m\u001B[43m)\u001B[49m\n",
      "File \u001B[1;32mC:\\ProgramData\\Anaconda3\\envs\\wsi_analysis\\lib\\site-packages\\oct_converter\\readers\\fds.py:52\u001B[0m, in \u001B[0;36mFDS.__init__\u001B[1;34m(self, filepath)\u001B[0m\n\u001B[0;32m     35\u001B[0m \u001B[38;5;28mself\u001B[39m\u001B[38;5;241m.\u001B[39moct_header \u001B[38;5;241m=\u001B[39m Struct(\n\u001B[0;32m     36\u001B[0m     \u001B[38;5;124m\"\u001B[39m\u001B[38;5;124munknown\u001B[39m\u001B[38;5;124m\"\u001B[39m \u001B[38;5;241m/\u001B[39m PaddedString(\u001B[38;5;241m1\u001B[39m, \u001B[38;5;124m\"\u001B[39m\u001B[38;5;124mascii\u001B[39m\u001B[38;5;124m\"\u001B[39m),\n\u001B[0;32m     37\u001B[0m     \u001B[38;5;124m\"\u001B[39m\u001B[38;5;124mwidth\u001B[39m\u001B[38;5;124m\"\u001B[39m \u001B[38;5;241m/\u001B[39m Int32un,\n\u001B[1;32m   (...)\u001B[0m\n\u001B[0;32m     42\u001B[0m     \u001B[38;5;124m\"\u001B[39m\u001B[38;5;124msize\u001B[39m\u001B[38;5;124m\"\u001B[39m \u001B[38;5;241m/\u001B[39m Int32un,\n\u001B[0;32m     43\u001B[0m )\n\u001B[0;32m     44\u001B[0m \u001B[38;5;28mself\u001B[39m\u001B[38;5;241m.\u001B[39mfundus_header \u001B[38;5;241m=\u001B[39m Struct(\n\u001B[0;32m     45\u001B[0m     \u001B[38;5;124m\"\u001B[39m\u001B[38;5;124mwidth\u001B[39m\u001B[38;5;124m\"\u001B[39m \u001B[38;5;241m/\u001B[39m Int32un,\n\u001B[0;32m     46\u001B[0m     \u001B[38;5;124m\"\u001B[39m\u001B[38;5;124mheight\u001B[39m\u001B[38;5;124m\"\u001B[39m \u001B[38;5;241m/\u001B[39m Int32un,\n\u001B[1;32m   (...)\u001B[0m\n\u001B[0;32m     50\u001B[0m     \u001B[38;5;124m\"\u001B[39m\u001B[38;5;124msize\u001B[39m\u001B[38;5;124m\"\u001B[39m \u001B[38;5;241m/\u001B[39m Int32un,\n\u001B[0;32m     51\u001B[0m )\n\u001B[1;32m---> 52\u001B[0m \u001B[38;5;28mself\u001B[39m\u001B[38;5;241m.\u001B[39mchunk_dict \u001B[38;5;241m=\u001B[39m \u001B[38;5;28;43mself\u001B[39;49m\u001B[38;5;241;43m.\u001B[39;49m\u001B[43mget_list_of_file_chunks\u001B[49m\u001B[43m(\u001B[49m\u001B[43m)\u001B[49m\n",
      "File \u001B[1;32mC:\\ProgramData\\Anaconda3\\envs\\wsi_analysis\\lib\\site-packages\\oct_converter\\readers\\fds.py:64\u001B[0m, in \u001B[0;36mFDS.get_list_of_file_chunks\u001B[1;34m(self)\u001B[0m\n\u001B[0;32m     61\u001B[0m \u001B[38;5;28;01mwith\u001B[39;00m \u001B[38;5;28mopen\u001B[39m(\u001B[38;5;28mself\u001B[39m\u001B[38;5;241m.\u001B[39mfilepath, \u001B[38;5;124m\"\u001B[39m\u001B[38;5;124mrb\u001B[39m\u001B[38;5;124m\"\u001B[39m) \u001B[38;5;28;01mas\u001B[39;00m f:\n\u001B[0;32m     62\u001B[0m     \u001B[38;5;66;03m# skip header\u001B[39;00m\n\u001B[0;32m     63\u001B[0m     raw \u001B[38;5;241m=\u001B[39m f\u001B[38;5;241m.\u001B[39mread(\u001B[38;5;241m15\u001B[39m)\n\u001B[1;32m---> 64\u001B[0m     header \u001B[38;5;241m=\u001B[39m \u001B[38;5;28;43mself\u001B[39;49m\u001B[38;5;241;43m.\u001B[39;49m\u001B[43mheader\u001B[49m\u001B[38;5;241;43m.\u001B[39;49m\u001B[43mparse\u001B[49m\u001B[43m(\u001B[49m\u001B[43mraw\u001B[49m\u001B[43m)\u001B[49m\n\u001B[0;32m     66\u001B[0m     eof \u001B[38;5;241m=\u001B[39m \u001B[38;5;28;01mFalse\u001B[39;00m\n\u001B[0;32m     67\u001B[0m     \u001B[38;5;28;01mwhile\u001B[39;00m \u001B[38;5;129;01mnot\u001B[39;00m eof:\n",
      "File \u001B[1;32mC:\\ProgramData\\Anaconda3\\envs\\wsi_analysis\\lib\\site-packages\\construct\\core.py:288\u001B[0m, in \u001B[0;36mConstruct.parse\u001B[1;34m(self, data, **contextkw)\u001B[0m\n\u001B[0;32m    274\u001B[0m \u001B[38;5;28;01mdef\u001B[39;00m \u001B[38;5;21mparse\u001B[39m(\u001B[38;5;28mself\u001B[39m, data, \u001B[38;5;241m*\u001B[39m\u001B[38;5;241m*\u001B[39mcontextkw):\n\u001B[0;32m    275\u001B[0m     \u001B[38;5;124mr\u001B[39m\u001B[38;5;124;03m\"\"\"\u001B[39;00m\n\u001B[0;32m    276\u001B[0m \u001B[38;5;124;03m    Parse an in-memory buffer (often bytes object). Strings, buffers, memoryviews, and other complete buffers can be parsed with this method.\u001B[39;00m\n\u001B[0;32m    277\u001B[0m \n\u001B[1;32m   (...)\u001B[0m\n\u001B[0;32m    286\u001B[0m \u001B[38;5;124;03m    :raises ConstructError: raised for any reason\u001B[39;00m\n\u001B[0;32m    287\u001B[0m \u001B[38;5;124;03m    \"\"\"\u001B[39;00m\n\u001B[1;32m--> 288\u001B[0m     \u001B[38;5;28;01mreturn\u001B[39;00m \u001B[38;5;28mself\u001B[39m\u001B[38;5;241m.\u001B[39mparse_stream(io\u001B[38;5;241m.\u001B[39mBytesIO(data), \u001B[38;5;241m*\u001B[39m\u001B[38;5;241m*\u001B[39mcontextkw)\n",
      "File \u001B[1;32mC:\\ProgramData\\Anaconda3\\envs\\wsi_analysis\\lib\\site-packages\\construct\\core.py:300\u001B[0m, in \u001B[0;36mConstruct.parse_stream\u001B[1;34m(self, stream, **contextkw)\u001B[0m\n\u001B[0;32m    298\u001B[0m context\u001B[38;5;241m.\u001B[39m_params \u001B[38;5;241m=\u001B[39m context\n\u001B[0;32m    299\u001B[0m \u001B[38;5;28;01mtry\u001B[39;00m:\n\u001B[1;32m--> 300\u001B[0m     \u001B[38;5;28;01mreturn\u001B[39;00m \u001B[38;5;28;43mself\u001B[39;49m\u001B[38;5;241;43m.\u001B[39;49m\u001B[43m_parsereport\u001B[49m\u001B[43m(\u001B[49m\u001B[43mstream\u001B[49m\u001B[43m,\u001B[49m\u001B[43m \u001B[49m\u001B[43mcontext\u001B[49m\u001B[43m,\u001B[49m\u001B[43m \u001B[49m\u001B[38;5;124;43m\"\u001B[39;49m\u001B[38;5;124;43m(parsing)\u001B[39;49m\u001B[38;5;124;43m\"\u001B[39;49m\u001B[43m)\u001B[49m\n\u001B[0;32m    301\u001B[0m \u001B[38;5;28;01mexcept\u001B[39;00m CancelParsing:\n\u001B[0;32m    302\u001B[0m     \u001B[38;5;28;01mpass\u001B[39;00m\n",
      "File \u001B[1;32mC:\\ProgramData\\Anaconda3\\envs\\wsi_analysis\\lib\\site-packages\\construct\\core.py:312\u001B[0m, in \u001B[0;36mConstruct._parsereport\u001B[1;34m(self, stream, context, path)\u001B[0m\n\u001B[0;32m    311\u001B[0m \u001B[38;5;28;01mdef\u001B[39;00m \u001B[38;5;21m_parsereport\u001B[39m(\u001B[38;5;28mself\u001B[39m, stream, context, path):\n\u001B[1;32m--> 312\u001B[0m     obj \u001B[38;5;241m=\u001B[39m \u001B[38;5;28;43mself\u001B[39;49m\u001B[38;5;241;43m.\u001B[39;49m\u001B[43m_parse\u001B[49m\u001B[43m(\u001B[49m\u001B[43mstream\u001B[49m\u001B[43m,\u001B[49m\u001B[43m \u001B[49m\u001B[43mcontext\u001B[49m\u001B[43m,\u001B[49m\u001B[43m \u001B[49m\u001B[43mpath\u001B[49m\u001B[43m)\u001B[49m\n\u001B[0;32m    313\u001B[0m     \u001B[38;5;28;01mif\u001B[39;00m \u001B[38;5;28mself\u001B[39m\u001B[38;5;241m.\u001B[39mparsed \u001B[38;5;129;01mis\u001B[39;00m \u001B[38;5;129;01mnot\u001B[39;00m \u001B[38;5;28;01mNone\u001B[39;00m:\n\u001B[0;32m    314\u001B[0m         \u001B[38;5;28mself\u001B[39m\u001B[38;5;241m.\u001B[39mparsed(obj, context)\n",
      "File \u001B[1;32mC:\\ProgramData\\Anaconda3\\envs\\wsi_analysis\\lib\\site-packages\\construct\\core.py:2120\u001B[0m, in \u001B[0;36mStruct._parse\u001B[1;34m(self, stream, context, path)\u001B[0m\n\u001B[0;32m   2118\u001B[0m \u001B[38;5;28;01mfor\u001B[39;00m sc \u001B[38;5;129;01min\u001B[39;00m \u001B[38;5;28mself\u001B[39m\u001B[38;5;241m.\u001B[39msubcons:\n\u001B[0;32m   2119\u001B[0m     \u001B[38;5;28;01mtry\u001B[39;00m:\n\u001B[1;32m-> 2120\u001B[0m         subobj \u001B[38;5;241m=\u001B[39m \u001B[43msc\u001B[49m\u001B[38;5;241;43m.\u001B[39;49m\u001B[43m_parsereport\u001B[49m\u001B[43m(\u001B[49m\u001B[43mstream\u001B[49m\u001B[43m,\u001B[49m\u001B[43m \u001B[49m\u001B[43mcontext\u001B[49m\u001B[43m,\u001B[49m\u001B[43m \u001B[49m\u001B[43mpath\u001B[49m\u001B[43m)\u001B[49m\n\u001B[0;32m   2121\u001B[0m         \u001B[38;5;28;01mif\u001B[39;00m sc\u001B[38;5;241m.\u001B[39mname:\n\u001B[0;32m   2122\u001B[0m             obj[sc\u001B[38;5;241m.\u001B[39mname] \u001B[38;5;241m=\u001B[39m subobj\n",
      "File \u001B[1;32mC:\\ProgramData\\Anaconda3\\envs\\wsi_analysis\\lib\\site-packages\\construct\\core.py:312\u001B[0m, in \u001B[0;36mConstruct._parsereport\u001B[1;34m(self, stream, context, path)\u001B[0m\n\u001B[0;32m    311\u001B[0m \u001B[38;5;28;01mdef\u001B[39;00m \u001B[38;5;21m_parsereport\u001B[39m(\u001B[38;5;28mself\u001B[39m, stream, context, path):\n\u001B[1;32m--> 312\u001B[0m     obj \u001B[38;5;241m=\u001B[39m \u001B[38;5;28;43mself\u001B[39;49m\u001B[38;5;241;43m.\u001B[39;49m\u001B[43m_parse\u001B[49m\u001B[43m(\u001B[49m\u001B[43mstream\u001B[49m\u001B[43m,\u001B[49m\u001B[43m \u001B[49m\u001B[43mcontext\u001B[49m\u001B[43m,\u001B[49m\u001B[43m \u001B[49m\u001B[43mpath\u001B[49m\u001B[43m)\u001B[49m\n\u001B[0;32m    313\u001B[0m     \u001B[38;5;28;01mif\u001B[39;00m \u001B[38;5;28mself\u001B[39m\u001B[38;5;241m.\u001B[39mparsed \u001B[38;5;129;01mis\u001B[39;00m \u001B[38;5;129;01mnot\u001B[39;00m \u001B[38;5;28;01mNone\u001B[39;00m:\n\u001B[0;32m    314\u001B[0m         \u001B[38;5;28mself\u001B[39m\u001B[38;5;241m.\u001B[39mparsed(obj, context)\n",
      "File \u001B[1;32mC:\\ProgramData\\Anaconda3\\envs\\wsi_analysis\\lib\\site-packages\\construct\\core.py:2653\u001B[0m, in \u001B[0;36mRenamed._parse\u001B[1;34m(self, stream, context, path)\u001B[0m\n\u001B[0;32m   2651\u001B[0m \u001B[38;5;28;01mdef\u001B[39;00m \u001B[38;5;21m_parse\u001B[39m(\u001B[38;5;28mself\u001B[39m, stream, context, path):\n\u001B[0;32m   2652\u001B[0m     path \u001B[38;5;241m+\u001B[39m\u001B[38;5;241m=\u001B[39m \u001B[38;5;124m\"\u001B[39m\u001B[38;5;124m -> \u001B[39m\u001B[38;5;132;01m%s\u001B[39;00m\u001B[38;5;124m\"\u001B[39m \u001B[38;5;241m%\u001B[39m (\u001B[38;5;28mself\u001B[39m\u001B[38;5;241m.\u001B[39mname,)\n\u001B[1;32m-> 2653\u001B[0m     \u001B[38;5;28;01mreturn\u001B[39;00m \u001B[38;5;28;43mself\u001B[39;49m\u001B[38;5;241;43m.\u001B[39;49m\u001B[43msubcon\u001B[49m\u001B[38;5;241;43m.\u001B[39;49m\u001B[43m_parsereport\u001B[49m\u001B[43m(\u001B[49m\u001B[43mstream\u001B[49m\u001B[43m,\u001B[49m\u001B[43m \u001B[49m\u001B[43mcontext\u001B[49m\u001B[43m,\u001B[49m\u001B[43m \u001B[49m\u001B[43mpath\u001B[49m\u001B[43m)\u001B[49m\n",
      "File \u001B[1;32mC:\\ProgramData\\Anaconda3\\envs\\wsi_analysis\\lib\\site-packages\\construct\\core.py:312\u001B[0m, in \u001B[0;36mConstruct._parsereport\u001B[1;34m(self, stream, context, path)\u001B[0m\n\u001B[0;32m    311\u001B[0m \u001B[38;5;28;01mdef\u001B[39;00m \u001B[38;5;21m_parsereport\u001B[39m(\u001B[38;5;28mself\u001B[39m, stream, context, path):\n\u001B[1;32m--> 312\u001B[0m     obj \u001B[38;5;241m=\u001B[39m \u001B[38;5;28;43mself\u001B[39;49m\u001B[38;5;241;43m.\u001B[39;49m\u001B[43m_parse\u001B[49m\u001B[43m(\u001B[49m\u001B[43mstream\u001B[49m\u001B[43m,\u001B[49m\u001B[43m \u001B[49m\u001B[43mcontext\u001B[49m\u001B[43m,\u001B[49m\u001B[43m \u001B[49m\u001B[43mpath\u001B[49m\u001B[43m)\u001B[49m\n\u001B[0;32m    313\u001B[0m     \u001B[38;5;28;01mif\u001B[39;00m \u001B[38;5;28mself\u001B[39m\u001B[38;5;241m.\u001B[39mparsed \u001B[38;5;129;01mis\u001B[39;00m \u001B[38;5;129;01mnot\u001B[39;00m \u001B[38;5;28;01mNone\u001B[39;00m:\n\u001B[0;32m    314\u001B[0m         \u001B[38;5;28mself\u001B[39m\u001B[38;5;241m.\u001B[39mparsed(obj, context)\n",
      "File \u001B[1;32mC:\\ProgramData\\Anaconda3\\envs\\wsi_analysis\\lib\\site-packages\\construct\\core.py:704\u001B[0m, in \u001B[0;36mAdapter._parse\u001B[1;34m(self, stream, context, path)\u001B[0m\n\u001B[0;32m    702\u001B[0m \u001B[38;5;28;01mdef\u001B[39;00m \u001B[38;5;21m_parse\u001B[39m(\u001B[38;5;28mself\u001B[39m, stream, context, path):\n\u001B[0;32m    703\u001B[0m     obj \u001B[38;5;241m=\u001B[39m \u001B[38;5;28mself\u001B[39m\u001B[38;5;241m.\u001B[39msubcon\u001B[38;5;241m.\u001B[39m_parsereport(stream, context, path)\n\u001B[1;32m--> 704\u001B[0m     \u001B[38;5;28;01mreturn\u001B[39;00m \u001B[38;5;28;43mself\u001B[39;49m\u001B[38;5;241;43m.\u001B[39;49m\u001B[43m_decode\u001B[49m\u001B[43m(\u001B[49m\u001B[43mobj\u001B[49m\u001B[43m,\u001B[49m\u001B[43m \u001B[49m\u001B[43mcontext\u001B[49m\u001B[43m,\u001B[49m\u001B[43m \u001B[49m\u001B[43mpath\u001B[49m\u001B[43m)\u001B[49m\n",
      "File \u001B[1;32mC:\\ProgramData\\Anaconda3\\envs\\wsi_analysis\\lib\\site-packages\\construct\\core.py:1610\u001B[0m, in \u001B[0;36mStringEncoded._decode\u001B[1;34m(self, obj, context, path)\u001B[0m\n\u001B[0;32m   1609\u001B[0m \u001B[38;5;28;01mdef\u001B[39;00m \u001B[38;5;21m_decode\u001B[39m(\u001B[38;5;28mself\u001B[39m, obj, context, path):\n\u001B[1;32m-> 1610\u001B[0m     \u001B[38;5;28;01mreturn\u001B[39;00m \u001B[43mobj\u001B[49m\u001B[38;5;241;43m.\u001B[39;49m\u001B[43mdecode\u001B[49m\u001B[43m(\u001B[49m\u001B[38;5;28;43mself\u001B[39;49m\u001B[38;5;241;43m.\u001B[39;49m\u001B[43mencoding\u001B[49m\u001B[43m)\u001B[49m\n",
      "\u001B[1;31mUnicodeDecodeError\u001B[0m: 'ascii' codec can't decode byte 0xc0 in position 1: ordinal not in range(128)"
     ]
    }
   ],
   "source": [
    "fds = FDS(filepath)"
   ],
   "metadata": {
    "collapsed": false
   }
  },
  {
   "cell_type": "code",
   "execution_count": null,
   "outputs": [],
   "source": [
    "oct_volume = fds.read_oct_volume()  # returns an OCT volume with additional metadata if available\n",
    "oct_volume.peek() # plots a montage of the volume\n",
    "oct_volume.save('fds_testing.avi')  # save volume as a movie\n",
    "oct_volume.save('fds_testing.png')  # save volume as a set of sequential images, fds_testing_[1...N].png\n",
    "oct_volume.save_projection('projection.png') # save 2D projection\n",
    "\n"
   ],
   "metadata": {
    "collapsed": false
   }
  },
  {
   "cell_type": "code",
   "execution_count": null,
   "outputs": [],
   "source": [
    "fundus_image = fds.read_fundus_image()  # returns a  Fundus image with additional metadata if available\n",
    "fundus_image.save('fds_testing_fundus.jpg')"
   ],
   "metadata": {
    "collapsed": false
   }
  }
 ],
 "metadata": {
  "kernelspec": {
   "display_name": "Python 3",
   "language": "python",
   "name": "python3"
  },
  "language_info": {
   "codemirror_mode": {
    "name": "ipython",
    "version": 2
   },
   "file_extension": ".py",
   "mimetype": "text/x-python",
   "name": "python",
   "nbconvert_exporter": "python",
   "pygments_lexer": "ipython2",
   "version": "2.7.6"
  }
 },
 "nbformat": 4,
 "nbformat_minor": 0
}
