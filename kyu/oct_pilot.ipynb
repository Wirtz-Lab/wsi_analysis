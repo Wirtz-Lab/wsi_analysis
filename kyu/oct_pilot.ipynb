{
 "cells": [
  {
   "cell_type": "code",
   "execution_count": 7,
   "metadata": {
    "collapsed": true
   },
   "outputs": [],
   "source": [
    "# encoding: utf-8\n",
    "from oct_converter.readers import POCT\n",
    "import os\n",
    "# src = r'\\\\babyserverdw5\\Digital pathology image lib\\NTU\\Da-ching chen\\230227 OCT more patients\\RP with progress'\n",
    "src = '/Volumes/Digital pathology image lib/NTU/Da-ching chen/230227 OCT more patients/RP with progress/'\n",
    "octs = [_ for _ in os.listdir(src) if _.endswith('OCT')]\n",
    "oct = os.path.join(src,octs[0])\n",
    "\n",
    "poct = POCT(oct)\n",
    "oct_volumes = poct.read_oct_volume()\n",
    "dst = os.path.join(src,'oct_png2')\n",
    "if not os.path.exists(dst): os.mkdir(dst)\n",
    "octname = os.path.basename(oct)"
   ]
  },
  {
   "cell_type": "code",
   "execution_count": 13,
   "outputs": [],
   "source": [
    "dst = os.path.join(src,'oct_png')\n"
   ],
   "metadata": {
    "collapsed": false
   }
  },
  {
   "cell_type": "code",
   "execution_count": 14,
   "outputs": [
    {
     "data": {
      "text/plain": "'/Volumes/Digital pathology image lib/NTU/Da-ching chen/230227 OCT more patients/RP with progress/oct_png'"
     },
     "execution_count": 14,
     "metadata": {},
     "output_type": "execute_result"
    }
   ],
   "source": [
    "dst"
   ],
   "metadata": {
    "collapsed": false
   }
  },
  {
   "cell_type": "code",
   "execution_count": 16,
   "outputs": [],
   "source": [
    "if not os.path.exists(dst): os.mkdir(dst)"
   ],
   "metadata": {
    "collapsed": false
   }
  },
  {
   "cell_type": "code",
   "execution_count": 19,
   "outputs": [
    {
     "name": "stdout",
     "output_type": "stream",
     "text": [
      "0\n"
     ]
    }
   ],
   "source": [
    "for idx,volume in enumerate(oct_volumes):\n",
    "    print(idx)\n",
    "    # print(os.path.join(dst,'{}_{:03d}.png'.format(octname,idx)))\n",
    "    # volume.save(os.path.join(dst,'{}_{:03d}.png'.format(octname,idx)))"
   ],
   "metadata": {
    "collapsed": false
   }
  },
  {
   "cell_type": "code",
   "execution_count": 18,
   "outputs": [
    {
     "data": {
      "text/plain": "'6377874, 6377874 _30947_Angio Retina_OS_2018-09-21_10.29.00_1.OCT_000.png'"
     },
     "execution_count": 18,
     "metadata": {},
     "output_type": "execute_result"
    }
   ],
   "source": [
    "'{}_{:03d}.png'.format(octname,idx)"
   ],
   "metadata": {
    "collapsed": false
   }
  },
  {
   "cell_type": "code",
   "execution_count": 3,
   "outputs": [
    {
     "name": "stdout",
     "output_type": "stream",
     "text": [
      "octname_000.png\n",
      "octname_001.png\n",
      "octname_002.png\n",
      "octname_003.png\n",
      "octname_004.png\n",
      "octname_005.png\n",
      "octname_006.png\n",
      "octname_007.png\n",
      "octname_008.png\n",
      "octname_009.png\n"
     ]
    }
   ],
   "source": [
    "for i,elem in enumerate(range(10)):\n",
    "    print('{}_{:03d}.png'.format('octname',i))\n"
   ],
   "metadata": {
    "collapsed": false
   }
  },
  {
   "cell_type": "code",
   "execution_count": 9,
   "outputs": [
    {
     "data": {
      "text/plain": "'/Volumes/Digital pathology image lib/NTU/Da-ching chen/230227 OCT more patients/RP with progress/2333585, 2333585 _24575_Angio Retina_OD_2018-04-16_15.10.12_1.OCT/oct_png/2333585, 2333585 _24575_Angio Retina_OD_2018-04-16_15.10.12_1.OCT_0.png'"
     },
     "execution_count": 9,
     "metadata": {},
     "output_type": "execute_result"
    }
   ],
   "source": [
    "os.path.join(dst,'{}_{}.png'.format(octname,idx))\n"
   ],
   "metadata": {
    "collapsed": false
   }
  },
  {
   "cell_type": "code",
   "execution_count": 1,
   "outputs": [
    {
     "name": "stdout",
     "output_type": "stream",
     "text": [
      "Collecting oct_converter\r\n",
      "  Using cached oct_converter-0.5.5-py3-none-any.whl (28 kB)\r\n",
      "Requirement already satisfied: natsort in /Users/chamisulhuresh/opt/anaconda3/envs/wsi_analysis/lib/python3.9/site-packages (from oct_converter) (8.2.0)\r\n",
      "Collecting h5py\r\n",
      "  Downloading h5py-3.8.0-cp39-cp39-macosx_10_9_x86_64.whl (3.2 MB)\r\n",
      "\u001B[2K     \u001B[90m━━━━━━━━━━━━━━━━━━━━━━━━━━━━━━━━━━━━━━━━\u001B[0m \u001B[32m3.2/3.2 MB\u001B[0m \u001B[31m14.0 MB/s\u001B[0m eta \u001B[36m0:00:00\u001B[0m00:01\u001B[0m00:01\u001B[0m\r\n",
      "\u001B[?25hRequirement already satisfied: imageio in /Users/chamisulhuresh/opt/anaconda3/envs/wsi_analysis/lib/python3.9/site-packages (from oct_converter) (2.25.0)\r\n",
      "Collecting pydicom\r\n",
      "  Using cached pydicom-2.3.1-py3-none-any.whl (2.0 MB)\r\n",
      "Requirement already satisfied: opencv-python in /Users/chamisulhuresh/opt/anaconda3/envs/wsi_analysis/lib/python3.9/site-packages (from oct_converter) (4.7.0.68)\r\n",
      "Requirement already satisfied: numpy in /Users/chamisulhuresh/opt/anaconda3/envs/wsi_analysis/lib/python3.9/site-packages (from oct_converter) (1.24.1)\r\n",
      "Collecting imageio-ffmpeg\r\n",
      "  Using cached imageio_ffmpeg-0.4.8-py3-none-macosx_10_9_intel.macosx_10_9_x86_64.macosx_10_10_intel.macosx_10_10_x86_64.whl (22.5 MB)\r\n",
      "Requirement already satisfied: matplotlib in /Users/chamisulhuresh/opt/anaconda3/envs/wsi_analysis/lib/python3.9/site-packages (from oct_converter) (3.6.3)\r\n",
      "Collecting construct\r\n",
      "  Using cached construct-2.10.68.tar.gz (57 kB)\r\n",
      "  Preparing metadata (setup.py) ... \u001B[?25ldone\r\n",
      "\u001B[?25hRequirement already satisfied: pillow>=8.3.2 in /Users/chamisulhuresh/opt/anaconda3/envs/wsi_analysis/lib/python3.9/site-packages (from imageio->oct_converter) (9.4.0)\r\n",
      "Requirement already satisfied: contourpy>=1.0.1 in /Users/chamisulhuresh/opt/anaconda3/envs/wsi_analysis/lib/python3.9/site-packages (from matplotlib->oct_converter) (1.0.7)\r\n",
      "Requirement already satisfied: fonttools>=4.22.0 in /Users/chamisulhuresh/opt/anaconda3/envs/wsi_analysis/lib/python3.9/site-packages (from matplotlib->oct_converter) (4.38.0)\r\n",
      "Requirement already satisfied: packaging>=20.0 in /Users/chamisulhuresh/opt/anaconda3/envs/wsi_analysis/lib/python3.9/site-packages (from matplotlib->oct_converter) (23.0)\r\n",
      "Requirement already satisfied: cycler>=0.10 in /Users/chamisulhuresh/opt/anaconda3/envs/wsi_analysis/lib/python3.9/site-packages (from matplotlib->oct_converter) (0.11.0)\r\n",
      "Requirement already satisfied: pyparsing>=2.2.1 in /Users/chamisulhuresh/opt/anaconda3/envs/wsi_analysis/lib/python3.9/site-packages (from matplotlib->oct_converter) (3.0.9)\r\n",
      "Requirement already satisfied: python-dateutil>=2.7 in /Users/chamisulhuresh/opt/anaconda3/envs/wsi_analysis/lib/python3.9/site-packages (from matplotlib->oct_converter) (2.8.2)\r\n",
      "Requirement already satisfied: kiwisolver>=1.0.1 in /Users/chamisulhuresh/opt/anaconda3/envs/wsi_analysis/lib/python3.9/site-packages (from matplotlib->oct_converter) (1.4.4)\r\n",
      "Requirement already satisfied: six>=1.5 in /Users/chamisulhuresh/opt/anaconda3/envs/wsi_analysis/lib/python3.9/site-packages (from python-dateutil>=2.7->matplotlib->oct_converter) (1.16.0)\r\n",
      "Building wheels for collected packages: construct\r\n",
      "  Building wheel for construct (setup.py) ... \u001B[?25ldone\r\n",
      "\u001B[?25h  Created wheel for construct: filename=construct-2.10.68-py3-none-any.whl size=59225 sha256=aaeec3f66572c721524ae661afb9914e00d775a8a0c9c05dc5f1e084e10c4c99\r\n",
      "  Stored in directory: /Users/chamisulhuresh/Library/Caches/pip/wheels/9e/01/6c/1a4aa90f9b2bf6506c5e983f20aaf1e70a10650dee8eddc16c\r\n",
      "Successfully built construct\r\n",
      "Installing collected packages: pydicom, imageio-ffmpeg, h5py, construct, oct_converter\r\n",
      "Successfully installed construct-2.10.68 h5py-3.8.0 imageio-ffmpeg-0.4.8 oct_converter-0.5.5 pydicom-2.3.1\r\n"
     ]
    }
   ],
   "source": [
    "!pip install oct_converter\n"
   ],
   "metadata": {
    "collapsed": false
   }
  },
  {
   "cell_type": "code",
   "execution_count": null,
   "outputs": [],
   "source": [],
   "metadata": {
    "collapsed": false
   }
  }
 ],
 "metadata": {
  "kernelspec": {
   "display_name": "Python 3",
   "language": "python",
   "name": "python3"
  },
  "language_info": {
   "codemirror_mode": {
    "name": "ipython",
    "version": 2
   },
   "file_extension": ".py",
   "mimetype": "text/x-python",
   "name": "python",
   "nbconvert_exporter": "python",
   "pygments_lexer": "ipython2",
   "version": "2.7.6"
  }
 },
 "nbformat": 4,
 "nbformat_minor": 0
}
