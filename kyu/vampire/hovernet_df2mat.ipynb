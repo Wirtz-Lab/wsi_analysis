{
 "cells": [
  {
   "cell_type": "code",
   "execution_count": 30,
   "metadata": {
    "collapsed": true,
    "ExecuteTime": {
     "start_time": "2023-10-16T11:04:17.073226Z",
     "end_time": "2023-10-16T11:04:17.095840Z"
    }
   },
   "outputs": [],
   "source": [
    "import pandas as pd\n",
    "import numpy as np\n",
    "from scipy.io import savemat\n",
    "import os"
   ]
  },
  {
   "cell_type": "code",
   "execution_count": 31,
   "outputs": [],
   "source": [
    "src = r\"\\\\10.99.68.178\\andreex\\data\\monkey fetus\\gestational 40\\hovernet_out\\df\"\n",
    "dfs = [_ for _ in os.listdir(src) if _.endswith('pkl')]"
   ],
   "metadata": {
    "collapsed": false,
    "ExecuteTime": {
     "start_time": "2023-10-16T11:04:17.079874Z",
     "end_time": "2023-10-16T11:04:17.148234Z"
    }
   }
  },
  {
   "cell_type": "code",
   "execution_count": 32,
   "outputs": [],
   "source": [
    "for dfnm in dfs:\n",
    "    df = pd.read_pickle(os.path.join(src,dfnm))\n",
    "    df = df.centroid\n",
    "    df = [_ for _ in df.to_numpy()]\n",
    "    df = np.array(df)\n",
    "    dst = os.path.join(*[os.path.dirname(src),'mat',dfnm.replace('pkl','mat')])\n",
    "    savemat(dst, {'centroid':df})"
   ],
   "metadata": {
    "collapsed": false,
    "ExecuteTime": {
     "start_time": "2023-10-16T11:04:17.126287Z",
     "end_time": "2023-10-16T11:13:59.213271Z"
    }
   }
  }
 ],
 "metadata": {
  "kernelspec": {
   "display_name": "Python 3",
   "language": "python",
   "name": "python3"
  },
  "language_info": {
   "codemirror_mode": {
    "name": "ipython",
    "version": 2
   },
   "file_extension": ".py",
   "mimetype": "text/x-python",
   "name": "python",
   "nbconvert_exporter": "python",
   "pygments_lexer": "ipython2",
   "version": "2.7.6"
  }
 },
 "nbformat": 4,
 "nbformat_minor": 0
}
