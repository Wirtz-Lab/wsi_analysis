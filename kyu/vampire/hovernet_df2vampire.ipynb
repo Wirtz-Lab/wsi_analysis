{
 "cells": [
  {
   "cell_type": "code",
   "execution_count": null,
   "metadata": {
    "collapsed": true,
    "pycharm": {
     "name": "#%%\n"
    }
   },
   "outputs": [],
   "source": [
    "from VAMPIRE_backend import bdreg,pca_bdreg,clusterSM"
   ]
  },
  {
   "cell_type": "code",
   "execution_count": null,
   "outputs": [],
   "source": [
    "from __future__ import division\n",
    "import pandas as pd\n",
    "pd.options.mode.chained_assignment = None\n",
    "import os\n",
    "import pickle\n",
    "import numpy as np\n",
    "from matplotlib import pyplot as plt\n",
    "from natsort import natsorted"
   ],
   "metadata": {
    "collapsed": false,
    "pycharm": {
     "name": "#%%\n"
    }
   }
  },
  {
   "cell_type": "code",
   "execution_count": null,
   "outputs": [],
   "source": [
    "from time import time\n",
    "def _time(f):\n",
    "    def wrapper(*args,**kwargs):\n",
    "        start=time()\n",
    "        r=f(*args,**kwargs)\n",
    "        end=time()\n",
    "        print(\"%s timed %.3f\" %(f.__name__,end-start))\n",
    "        return r\n",
    "    return wrapper"
   ],
   "metadata": {
    "collapsed": false,
    "pycharm": {
     "name": "#%%\n"
    }
   }
  },
  {
   "cell_type": "code",
   "execution_count": null,
   "outputs": [],
   "source": [
    "bdreg = _time(bdreg)\n",
    "pca_bdreg = _time(pca_bdreg)\n",
    "clusterSM = _time(clusterSM)"
   ],
   "metadata": {
    "collapsed": false,
    "pycharm": {
     "name": "#%%\n"
    }
   }
  },
  {
   "cell_type": "code",
   "execution_count": null,
   "outputs": [],
   "source": [
    "N=50 #equidistant points along cell boundary\n",
    "clnum = 6\n",
    "\n",
    "dfsrc = r'\\\\fatherserverdw\\Q\\research\\images\\skin_aging\\wsi\\hovernet_out\\df'\n",
    "outpth = os.path.join(os.path.dirname(dfsrc),'vampire_out')"
   ],
   "metadata": {
    "collapsed": false,
    "pycharm": {
     "name": "#%%\n"
    }
   }
  },
  {
   "cell_type": "code",
   "execution_count": null,
   "outputs": [],
   "source": [
    "setpaths = natsorted([_ for _ in os.listdir(dfsrc) if _.endswith('pkl')])\n",
    "setIDs = [os.path.splitext(_)[0] for _ in setpaths] #name of plot?\n",
    "conditions = setIDs #clear definition is needed in terms of how this will be used later\n",
    "setpaths = [os.path.join(dfsrc,_) for _ in setpaths]"
   ],
   "metadata": {
    "collapsed": false,
    "pycharm": {
     "name": "#%%\n"
    }
   }
  },
  {
   "cell_type": "code",
   "execution_count": null,
   "outputs": [],
   "source": [
    "# iterate dfs to compile big df\n",
    "start = time()\n",
    "pkls = []\n",
    "for setpath in setpaths:\n",
    "    pkl = pd.read_pickle(setpath)\n",
    "    pkls.append(pkl)\n",
    "pkls = pd.concat(pkls,ignore_index=True)\n",
    "print(round(time()-start),'seconds')\n",
    "pkls #2.5mil cells"
   ],
   "metadata": {
    "collapsed": false,
    "pycharm": {
     "name": "#%%\n"
    }
   }
  },
  {
   "cell_type": "code",
   "execution_count": null,
   "outputs": [],
   "source": [
    "# visualize cell distribution\n",
    "numclass = 12\n",
    "a=plt.hist(pkls['type'],numclass)\n",
    "a[0]"
   ],
   "metadata": {
    "collapsed": false,
    "pycharm": {
     "name": "#%%\n"
    }
   }
  },
  {
   "cell_type": "code",
   "execution_count": null,
   "outputs": [],
   "source": [
    "#build model by cell type\n",
    "modelname = 'corneum'\n",
    "idx = 0\n",
    "bd1 = pkls[pkls['type']==idx+1].reset_index()\n",
    "B=bd1['contour']\n",
    "VamModel = {\n",
    "            \"N\": [],\n",
    "            \"bdrn\": [],\n",
    "            \"mdd\": [],\n",
    "            \"pc\": [],\n",
    "            \"clnum\": [],\n",
    "            \"pcnum\": [],\n",
    "            \"mincms\": [],\n",
    "            \"testmean\": [],\n",
    "            \"teststd\": [],\n",
    "            \"boxcoxlambda\": [],\n",
    "            \"C\": [],\n",
    "            \"Z\": []\n",
    "        }\n",
    "build_model = True\n",
    "bdpc, VamModel = bdreg(B, N, VamModel, build_model)\n",
    "score, VamModel = pca_bdreg(bdpc, VamModel, True)\n",
    "pcnum = None # none is 20 by default\n",
    "IDX, IDX_dist, VamModel, goodness = clusterSM(outpth, score, bdpc, clnum, pcnum, VamModel, True, None, None,modelname)\n",
    "\n",
    "f = open(os.path.join(*[outpth, modelname, modelname+'.pickle']), 'wb')\n",
    "pickle.dump(VamModel, f)\n",
    "f.close()"
   ],
   "metadata": {
    "collapsed": false,
    "pycharm": {
     "name": "#%%\n"
    }
   }
  },
  {
   "cell_type": "code",
   "execution_count": null,
   "outputs": [],
   "source": [
    "modelpth = os.path.join(*[outpth, modelname, modelname+'.pickle'])"
   ],
   "metadata": {
    "collapsed": false,
    "pycharm": {
     "name": "#%%\n"
    }
   }
  },
  {
   "cell_type": "code",
   "execution_count": null,
   "outputs": [],
   "source": [
    "# load model\n",
    "experimental = False\n",
    "build_model = False\n",
    "try:\n",
    "    f = open(modelpth, 'rb')\n",
    "except:\n",
    "    print('the model does not exist. please replace model name to the one you built')\n",
    "vampire_model = pickle.load(f)\n",
    "N = vampire_model['N']\n",
    "clnum = vampire_model['clnum']\n",
    "pcnum = vampire_model['pcnum']"
   ],
   "metadata": {
    "collapsed": false,
    "pycharm": {
     "name": "#%%\n"
    }
   }
  },
  {
   "cell_type": "code",
   "execution_count": null,
   "outputs": [],
   "source": [
    "idx=0\n",
    "dists=np.zeros((len(setpaths),clnum))\n",
    "for idxA,(setpath,condition,setID) in enumerate(zip(setpaths,conditions,setIDs)):\n",
    "    pkl = pd.read_pickle(setpath)\n",
    "    pkl = pkl[pkl['contour'].map(len) > 5]\n",
    "    pkl = pkl[pkl['type']==idx+1].reset_index(drop=True)\n",
    "    B = pkl['contour']\n",
    "    pkl = pkl.drop(columns=['contour'])\n",
    "    bdpc, vampire_model = bdreg(B, N, vampire_model, build_model) #409sec\n",
    "    score, vampire_model = pca_bdreg(bdpc, vampire_model, build_model)\n",
    "    IDX, IDX_dist, VamModel, goodness = clusterSM(outpth, score, bdpc, clnum, pcnum, vampire_model, False, condition, setID,modelname)\n",
    "    pkl['Shape mode']= pd.Series(IDX)\n",
    "    pkl.to_csv(setpath.replace('pkl','csv'), index=False)\n",
    "    a=plt.hist(pkl['Shape mode'],clnum)\n",
    "    dists[idxA,:] = np.array(a[0])\n"
   ],
   "metadata": {
    "collapsed": false,
    "pycharm": {
     "name": "#%%\n"
    }
   }
  },
  {
   "cell_type": "code",
   "execution_count": null,
   "outputs": [],
   "source": [
    "dists2 = np.around(dists*100/dists.sum(axis=1)[:,None],decimals=2)\n",
    "dists2 = pd.DataFrame(dists2)\n",
    "dists2['setid']=setIDs\n",
    "sumfn = 'vampire summary.csv'\n",
    "sumfn = os.path.join(*[outpth, modelname,sumfn])\n",
    "dists2.to_csv(sumfn)"
   ],
   "metadata": {
    "collapsed": false,
    "pycharm": {
     "name": "#%%\n"
    }
   }
  }
 ],
 "metadata": {
  "kernelspec": {
   "display_name": "Python 3",
   "language": "python",
   "name": "python3"
  },
  "language_info": {
   "codemirror_mode": {
    "name": "ipython",
    "version": 2
   },
   "file_extension": ".py",
   "mimetype": "text/x-python",
   "name": "python",
   "nbconvert_exporter": "python",
   "pygments_lexer": "ipython2",
   "version": "2.7.6"
  }
 },
 "nbformat": 4,
 "nbformat_minor": 0
}