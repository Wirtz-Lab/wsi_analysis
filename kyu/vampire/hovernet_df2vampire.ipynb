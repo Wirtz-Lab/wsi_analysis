{
 "cells": [
  {
   "cell_type": "code",
   "execution_count": 4,
   "metadata": {
    "collapsed": true,
    "pycharm": {
     "name": "#%%\n"
    },
    "ExecuteTime": {
     "end_time": "2023-10-11T22:57:56.863114700Z",
     "start_time": "2023-10-11T22:57:56.125279800Z"
    }
   },
   "outputs": [],
   "source": [
    "from VAMPIRE_backend import bdreg,pca_bdreg,clusterSM"
   ]
  },
  {
   "cell_type": "code",
   "execution_count": 5,
   "outputs": [],
   "source": [
    "from __future__ import division\n",
    "import pandas as pd\n",
    "pd.options.mode.chained_assignment = None\n",
    "import os\n",
    "import pickle\n",
    "import numpy as np\n",
    "from matplotlib import pyplot as plt\n",
    "from natsort import natsorted\n",
    "from time import time"
   ],
   "metadata": {
    "collapsed": false,
    "pycharm": {
     "name": "#%%\n"
    },
    "ExecuteTime": {
     "end_time": "2023-10-11T22:57:56.879073600Z",
     "start_time": "2023-10-11T22:57:56.866106900Z"
    }
   }
  },
  {
   "cell_type": "code",
   "execution_count": 6,
   "outputs": [],
   "source": [
    "from time import time\n",
    "def _time(f):\n",
    "    def wrapper(*args,**kwargs):\n",
    "        start=time()\n",
    "        r=f(*args,**kwargs)\n",
    "        end=time()\n",
    "        print(\"%s timed %.3f\" %(f.__name__,end-start))\n",
    "        return r\n",
    "    return wrapper"
   ],
   "metadata": {
    "collapsed": false,
    "pycharm": {
     "name": "#%%\n"
    },
    "ExecuteTime": {
     "end_time": "2023-10-11T22:57:56.922967600Z",
     "start_time": "2023-10-11T22:57:56.882065400Z"
    }
   }
  },
  {
   "cell_type": "code",
   "execution_count": 7,
   "outputs": [],
   "source": [
    "bdreg = _time(bdreg)\n",
    "pca_bdreg = _time(pca_bdreg)\n",
    "clusterSM = _time(clusterSM)"
   ],
   "metadata": {
    "collapsed": false,
    "pycharm": {
     "name": "#%%\n"
    },
    "ExecuteTime": {
     "end_time": "2023-10-11T22:57:56.932930200Z",
     "start_time": "2023-10-11T22:57:56.897025100Z"
    }
   }
  },
  {
   "cell_type": "code",
   "execution_count": 8,
   "outputs": [],
   "source": [
    "N=50 #equidistant points along cell boundary\n",
    "\n",
    "dfsrc = r'\\\\10.99.68.178\\andreex\\data\\monkey fetus\\gestational 40\\hovernet_out\\df'\n",
    "outpth = os.path.join(os.path.dirname(dfsrc),'vampire_out')"
   ],
   "metadata": {
    "collapsed": false,
    "pycharm": {
     "name": "#%%\n"
    },
    "ExecuteTime": {
     "end_time": "2023-10-11T22:57:56.932930200Z",
     "start_time": "2023-10-11T22:57:56.922967600Z"
    }
   }
  },
  {
   "cell_type": "code",
   "execution_count": 9,
   "outputs": [],
   "source": [
    "setpaths = natsorted([_ for _ in os.listdir(dfsrc) if _.endswith('pkl')])\n",
    "setIDs = [os.path.splitext(_)[0] for _ in setpaths] #name of plot?\n",
    "conditions = setIDs #clear definition is needed in terms of how this will be used later\n",
    "setpaths = [os.path.join(dfsrc,_) for _ in setpaths]"
   ],
   "metadata": {
    "collapsed": false,
    "pycharm": {
     "name": "#%%\n"
    },
    "ExecuteTime": {
     "end_time": "2023-10-11T22:57:56.972132100Z",
     "start_time": "2023-10-11T22:57:56.925949200Z"
    }
   }
  },
  {
   "cell_type": "code",
   "execution_count": 10,
   "outputs": [
    {
     "name": "stdout",
     "output_type": "stream",
     "text": [
      "5 seconds\n"
     ]
    }
   ],
   "source": [
    "# iterate dfs to compile big df\n",
    "# pkls = pd.read_pickle('2d_skin_hovernet.pkl')\n",
    "start = time()\n",
    "pkls = []\n",
    "for setpath in setpaths:\n",
    "    pkl = pd.read_pickle(setpath)\n",
    "    pkls.append(pkl)\n",
    "pkls = pd.concat(pkls,ignore_index=True)\n",
    "print(round(time()-start),'seconds')"
   ],
   "metadata": {
    "collapsed": false,
    "pycharm": {
     "name": "#%%\n"
    },
    "ExecuteTime": {
     "end_time": "2023-10-11T22:58:01.969590Z",
     "start_time": "2023-10-11T22:57:56.973129200Z"
    }
   }
  },
  {
   "cell_type": "code",
   "execution_count": 12,
   "outputs": [
    {
     "data": {
      "text/plain": "0         monkey_fetus_40_0301\n1         monkey_fetus_40_0301\n2         monkey_fetus_40_0301\n3         monkey_fetus_40_0301\n4         monkey_fetus_40_0301\n                  ...         \n207941    monkey_fetus_40_0301\n207942    monkey_fetus_40_0301\n207943    monkey_fetus_40_0301\n207944    monkey_fetus_40_0301\n207945    monkey_fetus_40_0301\nName: imID, Length: 207946, dtype: object"
     },
     "execution_count": 12,
     "metadata": {},
     "output_type": "execute_result"
    }
   ],
   "source": [
    "pkls['imID']"
   ],
   "metadata": {
    "collapsed": false,
    "ExecuteTime": {
     "end_time": "2023-10-11T22:58:20.977369200Z",
     "start_time": "2023-10-11T22:58:20.956360500Z"
    }
   }
  },
  {
   "cell_type": "code",
   "execution_count": 15,
   "outputs": [
    {
     "name": "stdout",
     "output_type": "stream",
     "text": [
      "3 seconds\n"
     ]
    }
   ],
   "source": [
    "start = time()\n",
    "pkls.to_feather(os.path.join(dfsrc,'pickle_stack.ftr'))\n",
    "print(round(time()-start),'seconds')"
   ],
   "metadata": {
    "collapsed": false,
    "pycharm": {
     "name": "#%%\n"
    },
    "ExecuteTime": {
     "end_time": "2023-10-11T22:59:42.720206400Z",
     "start_time": "2023-10-11T22:59:39.929733300Z"
    }
   }
  },
  {
   "cell_type": "code",
   "execution_count": null,
   "outputs": [],
   "source": [
    "comps = []\n",
    "for value in pkls.imID.unique():\n",
    "    numclass = 12\n",
    "    a=plt.hist(pkls.loc[pkls['imID'] == value]['type'],numclass)\n",
    "    comps.append(a[0]/sum(a[0])*100)"
   ],
   "metadata": {
    "collapsed": false,
    "pycharm": {
     "name": "#%%\n"
    }
   }
  },
  {
   "cell_type": "code",
   "execution_count": null,
   "outputs": [],
   "source": [
    "compsdf = pd.DataFrame(comps)\n",
    "compsdf['imID']= pkls.imID.unique()\n",
    "compsdf.to_csv('2d_skin_cell_comp.csv')"
   ],
   "metadata": {
    "collapsed": false,
    "pycharm": {
     "name": "#%%\n"
    }
   }
  },
  {
   "cell_type": "code",
   "execution_count": null,
   "outputs": [],
   "source": [
    "#build model by cell type\n",
    "for clnum in range(2,9):\n",
    "    modelname = 'sweat_cl{}'.format(clnum)\n",
    "    idx = 6\n",
    "    bd1 = pkls[pkls['type']==idx+1].reset_index()\n",
    "    B=bd1['contour']\n",
    "    VamModel = {\n",
    "                \"N\": [],\n",
    "                \"bdrn\": [],\n",
    "                \"mdd\": [],\n",
    "                \"pc\": [],\n",
    "                \"clnum\": [],\n",
    "                \"pcnum\": [],\n",
    "                \"mincms\": [],\n",
    "                \"testmean\": [],\n",
    "                \"teststd\": [],\n",
    "                \"boxcoxlambda\": [],\n",
    "                \"C\": [],\n",
    "                \"Z\": []\n",
    "            }\n",
    "    build_model = True\n",
    "    bdpc, VamModel = bdreg(B, N, VamModel, build_model)\n",
    "    score, VamModel = pca_bdreg(bdpc, VamModel, True)\n",
    "    pcnum = None # none is 20 by default\n",
    "    IDX, IDX_dist, VamModel, goodness = clusterSM(outpth, score, bdpc, clnum, pcnum, VamModel, True, None, None,modelname)\n",
    "\n",
    "    f = open(os.path.join(*[outpth, modelname, modelname+'.pickle']), 'wb')\n",
    "    pickle.dump(VamModel, f)\n",
    "    f.close()"
   ],
   "metadata": {
    "collapsed": false,
    "pycharm": {
     "name": "#%%\n"
    }
   }
  },
  {
   "cell_type": "code",
   "execution_count": null,
   "outputs": [
    {
     "name": "stdout",
     "output_type": "stream",
     "text": [
      "building model\n"
     ]
    }
   ],
   "source": [
    "#build model by cell type\n",
    "tissues = ['corneum','spinosum','shaft','follicle','muscle','oil','sweat','nerve','blood','ecm','fat','white']\n",
    "for clnum in range(2,9):\n",
    "    for idx,tissue in enumerate(tissues):\n",
    "        if tissue=='corneum':continue\n",
    "        modelname = '{}_cl{}'.format(tissue,clnum)\n",
    "        bd1 = pkls[pkls['type']==idx+1].reset_index()\n",
    "        B=bd1['contour']\n",
    "        VamModel = {\n",
    "                    \"N\": [],\n",
    "                    \"bdrn\": [],\n",
    "                    \"mdd\": [],\n",
    "                    \"pc\": [],\n",
    "                    \"clnum\": [],\n",
    "                    \"pcnum\": [],\n",
    "                    \"mincms\": [],\n",
    "                    \"testmean\": [],\n",
    "                    \"teststd\": [],\n",
    "                    \"boxcoxlambda\": [],\n",
    "                    \"C\": [],\n",
    "                    \"Z\": []\n",
    "                }\n",
    "        build_model = True\n",
    "        bdpc, VamModel = bdreg(B, N, VamModel, build_model)\n",
    "        score, VamModel = pca_bdreg(bdpc, VamModel, True)\n",
    "        pcnum = None # none is 20 by default\n",
    "        IDX, IDX_dist, VamModel, goodness = clusterSM(outpth, score, bdpc, clnum, pcnum, VamModel, True, None, None,modelname)\n",
    "\n",
    "        f = open(os.path.join(*[outpth, modelname, modelname+'.pickle']), 'wb')\n",
    "        pickle.dump(VamModel, f)\n",
    "        f.close()"
   ],
   "metadata": {
    "collapsed": false,
    "pycharm": {
     "name": "#%%\n",
     "is_executing": true
    }
   }
  },
  {
   "cell_type": "code",
   "execution_count": null,
   "outputs": [],
   "source": [
    "clnum = 5\n",
    "modelname = 'corneum_cl{}'.format(clnum)\n",
    "modelpth = os.path.join(*[outpth, modelname, modelname+'.pickle'])"
   ],
   "metadata": {
    "collapsed": false,
    "pycharm": {
     "name": "#%%\n"
    }
   }
  },
  {
   "cell_type": "code",
   "execution_count": null,
   "outputs": [],
   "source": [
    "# load model\n",
    "experimental = False\n",
    "build_model = False\n",
    "try:\n",
    "    f = open(modelpth, 'rb')\n",
    "except:\n",
    "    print('the model does not exist. please replace model name to the one you built')\n",
    "vampire_model = pickle.load(f)\n",
    "N = vampire_model['N']\n",
    "clnum = vampire_model['clnum']\n",
    "pcnum = vampire_model['pcnum']"
   ],
   "metadata": {
    "collapsed": false,
    "pycharm": {
     "name": "#%%\n"
    }
   }
  },
  {
   "cell_type": "code",
   "execution_count": null,
   "outputs": [],
   "source": [
    "dists=np.zeros((len(setpaths),clnum))\n",
    "for idxA,(setpath,condition,setID) in enumerate(zip(setpaths,conditions,setIDs)):\n",
    "    pkl = pd.read_pickle(setpath)\n",
    "    pkl = pkl[pkl['contour'].map(len) > 5]\n",
    "    pkl = pkl[pkl['type']==idx+1].reset_index(drop=True)\n",
    "    B = pkl['contour']\n",
    "    pkl = pkl.drop(columns=['contour'])\n",
    "    bdpc, vampire_model = bdreg(B, N, vampire_model, build_model) #409sec\n",
    "    score, vampire_model = pca_bdreg(bdpc, vampire_model, build_model)\n",
    "    IDX, IDX_dist, VamModel, goodness = clusterSM(outpth, score, bdpc, clnum, pcnum, vampire_model, False, condition, setID,modelname)\n",
    "    pkl['Shape mode']= pd.Series(IDX)\n",
    "    pkl.to_csv(setpath.replace('pkl','csv'), index=False)\n",
    "    a=plt.hist(pkl['Shape mode'],clnum)\n",
    "    dists[idxA,:] = np.array(a[0])"
   ],
   "metadata": {
    "collapsed": false,
    "pycharm": {
     "name": "#%%\n"
    }
   }
  },
  {
   "cell_type": "code",
   "execution_count": null,
   "outputs": [],
   "source": [
    "dists2 = np.around(dists*100/dists.sum(axis=1)[:,None],decimals=2)\n",
    "dists2 = pd.DataFrame(dists2)\n",
    "dists2['setid']=setIDs\n",
    "sumfn = 'vampire summary.csv'\n",
    "sumfn = os.path.join(*[outpth, modelname,sumfn])\n",
    "dists2.to_csv(sumfn)"
   ],
   "metadata": {
    "collapsed": false,
    "pycharm": {
     "name": "#%%\n"
    }
   }
  }
 ],
 "metadata": {
  "kernelspec": {
   "display_name": "Python 3",
   "language": "python",
   "name": "python3"
  },
  "language_info": {
   "codemirror_mode": {
    "name": "ipython",
    "version": 2
   },
   "file_extension": ".py",
   "mimetype": "text/x-python",
   "name": "python",
   "nbconvert_exporter": "python",
   "pygments_lexer": "ipython2",
   "version": "2.7.6"
  }
 },
 "nbformat": 4,
 "nbformat_minor": 0
}
