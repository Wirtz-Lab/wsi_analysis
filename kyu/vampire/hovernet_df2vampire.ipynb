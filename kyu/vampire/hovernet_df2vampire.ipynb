{
 "cells": [
  {
   "cell_type": "code",
   "execution_count": 2,
   "metadata": {
    "collapsed": true,
    "pycharm": {
     "name": "#%%\n"
    }
   },
   "outputs": [],
   "source": [
    "from VAMPIRE_backend import bdreg,pca_bdreg,clusterSM"
   ]
  },
  {
   "cell_type": "code",
   "execution_count": 3,
   "outputs": [],
   "source": [
    "from __future__ import division\n",
    "import pandas as pd\n",
    "pd.options.mode.chained_assignment = None\n",
    "import os\n",
    "import pickle\n",
    "import numpy as np\n",
    "from matplotlib import pyplot as plt\n",
    "from natsort import natsorted"
   ],
   "metadata": {
    "collapsed": false,
    "pycharm": {
     "name": "#%%\n"
    }
   }
  },
  {
   "cell_type": "code",
   "execution_count": 4,
   "outputs": [],
   "source": [
    "from time import time\n",
    "def _time(f):\n",
    "    def wrapper(*args,**kwargs):\n",
    "        start=time()\n",
    "        r=f(*args,**kwargs)\n",
    "        end=time()\n",
    "        print(\"%s timed %.3f\" %(f.__name__,end-start))\n",
    "        return r\n",
    "    return wrapper"
   ],
   "metadata": {
    "collapsed": false,
    "pycharm": {
     "name": "#%%\n"
    }
   }
  },
  {
   "cell_type": "code",
   "execution_count": 4,
   "outputs": [],
   "source": [
    "bdreg = _time(bdreg)\n",
    "pca_bdreg = _time(pca_bdreg)\n",
    "clusterSM = _time(clusterSM)"
   ],
   "metadata": {
    "collapsed": false,
    "pycharm": {
     "name": "#%%\n"
    }
   }
  },
  {
   "cell_type": "code",
   "execution_count": 5,
   "outputs": [],
   "source": [
    "N=50 #equidistant points along cell boundary\n",
    "\n",
    "dfsrc = r'\\\\fatherserverdw\\Q\\research\\images\\skin_aging\\wsi\\hovernet_out\\df'\n",
    "outpth = os.path.join(os.path.dirname(dfsrc),'vampire_out')"
   ],
   "metadata": {
    "collapsed": false,
    "pycharm": {
     "name": "#%%\n"
    }
   }
  },
  {
   "cell_type": "code",
   "execution_count": 6,
   "outputs": [],
   "source": [
    "setpaths = natsorted([_ for _ in os.listdir(dfsrc) if _.endswith('pkl')])\n",
    "setIDs = [os.path.splitext(_)[0] for _ in setpaths] #name of plot?\n",
    "conditions = setIDs #clear definition is needed in terms of how this will be used later\n",
    "setpaths = [os.path.join(dfsrc,_) for _ in setpaths]"
   ],
   "metadata": {
    "collapsed": false,
    "pycharm": {
     "name": "#%%\n"
    }
   }
  },
  {
   "cell_type": "code",
   "execution_count": 7,
   "outputs": [],
   "source": [
    "setpaths = [_ for _ in setpaths if not 'duplicate' in _]"
   ],
   "metadata": {
    "collapsed": false,
    "pycharm": {
     "name": "#%%\n"
    }
   }
  },
  {
   "cell_type": "code",
   "execution_count": 8,
   "outputs": [
    {
     "name": "stdout",
     "output_type": "stream",
     "text": [
      "170 seconds\n"
     ]
    }
   ],
   "source": [
    "# iterate dfs to compile big df\n",
    "# pkls = pd.read_pickle('2d_skin_hovernet.pkl')\n",
    "start = time()\n",
    "pkls = []\n",
    "for setpath in setpaths:\n",
    "    pkl = pd.read_pickle(setpath)\n",
    "    pkls.append(pkl)\n",
    "pkls = pd.concat(pkls,ignore_index=True)\n",
    "print(round(time()-start),'seconds')"
   ],
   "metadata": {
    "collapsed": false,
    "pycharm": {
     "name": "#%%\n"
    }
   }
  },
  {
   "cell_type": "code",
   "execution_count": 11,
   "outputs": [],
   "source": [
    "pkls['imID'] = pkls['imID'].astype(int)"
   ],
   "metadata": {
    "collapsed": false,
    "pycharm": {
     "name": "#%%\n"
    }
   }
  },
  {
   "cell_type": "code",
   "execution_count": 12,
   "outputs": [
    {
     "name": "stdout",
     "output_type": "stream",
     "text": [
      "159 seconds\n"
     ]
    }
   ],
   "source": [
    "start = time()\n",
    "pkls.to_feather('2d_skin_hovernet.ftr')\n",
    "print(round(time()-start),'seconds')"
   ],
   "metadata": {
    "collapsed": false,
    "pycharm": {
     "name": "#%%\n"
    }
   }
  },
  {
   "cell_type": "code",
   "execution_count": 13,
   "outputs": [
    {
     "name": "stdout",
     "output_type": "stream",
     "text": [
      "295 seconds\n"
     ]
    }
   ],
   "source": [
    "start = time()\n",
    "pkls.to_pickle('2d_skin_hovernet.pkl')\n",
    "print(round(time()-start),'seconds')"
   ],
   "metadata": {
    "collapsed": false,
    "pycharm": {
     "name": "#%%\n"
    }
   }
  },
  {
   "cell_type": "code",
   "execution_count": 5,
   "outputs": [
    {
     "name": "stdout",
     "output_type": "stream",
     "text": [
      "42 seconds\n"
     ]
    }
   ],
   "source": [
    "start = time()\n",
    "pkls2 =pd.read_feather('2d_skin_hovernet.ftr') #42 sec\n",
    "print(round(time()-start),'seconds')"
   ],
   "metadata": {
    "collapsed": false,
    "pycharm": {
     "name": "#%%\n"
    }
   }
  },
  {
   "cell_type": "code",
   "execution_count": 15,
   "outputs": [
    {
     "ename": "MemoryError",
     "evalue": "",
     "output_type": "error",
     "traceback": [
      "\u001B[1;31m---------------------------------------------------------------------------\u001B[0m",
      "\u001B[1;31mMemoryError\u001B[0m                               Traceback (most recent call last)",
      "Input \u001B[1;32mIn [15]\u001B[0m, in \u001B[0;36m<cell line: 2>\u001B[1;34m()\u001B[0m\n\u001B[0;32m      1\u001B[0m start \u001B[38;5;241m=\u001B[39m time()\n\u001B[1;32m----> 2\u001B[0m pkls2 \u001B[38;5;241m=\u001B[39m \u001B[43mpd\u001B[49m\u001B[38;5;241;43m.\u001B[39;49m\u001B[43mread_pickle\u001B[49m\u001B[43m(\u001B[49m\u001B[38;5;124;43m'\u001B[39;49m\u001B[38;5;124;43m2d_skin_hovernet.pkl\u001B[39;49m\u001B[38;5;124;43m'\u001B[39;49m\u001B[43m)\u001B[49m\n\u001B[0;32m      3\u001B[0m \u001B[38;5;28mprint\u001B[39m(\u001B[38;5;28mround\u001B[39m(time()\u001B[38;5;241m-\u001B[39mstart),\u001B[38;5;124m'\u001B[39m\u001B[38;5;124mseconds\u001B[39m\u001B[38;5;124m'\u001B[39m)\n",
      "File \u001B[1;32mc:\\users\\labuser\\pycharmprojects\\wsi_analysis\\venv\\lib\\site-packages\\pandas\\io\\pickle.py:205\u001B[0m, in \u001B[0;36mread_pickle\u001B[1;34m(filepath_or_buffer, compression, storage_options)\u001B[0m\n\u001B[0;32m    202\u001B[0m     \u001B[38;5;28;01mwith\u001B[39;00m warnings\u001B[38;5;241m.\u001B[39mcatch_warnings(record\u001B[38;5;241m=\u001B[39m\u001B[38;5;28;01mTrue\u001B[39;00m):\n\u001B[0;32m    203\u001B[0m         \u001B[38;5;66;03m# We want to silence any warnings about, e.g. moved modules.\u001B[39;00m\n\u001B[0;32m    204\u001B[0m         warnings\u001B[38;5;241m.\u001B[39msimplefilter(\u001B[38;5;124m\"\u001B[39m\u001B[38;5;124mignore\u001B[39m\u001B[38;5;124m\"\u001B[39m, \u001B[38;5;167;01mWarning\u001B[39;00m)\n\u001B[1;32m--> 205\u001B[0m         \u001B[38;5;28;01mreturn\u001B[39;00m \u001B[43mpickle\u001B[49m\u001B[38;5;241;43m.\u001B[39;49m\u001B[43mload\u001B[49m\u001B[43m(\u001B[49m\u001B[43mhandles\u001B[49m\u001B[38;5;241;43m.\u001B[39;49m\u001B[43mhandle\u001B[49m\u001B[43m)\u001B[49m\n\u001B[0;32m    206\u001B[0m \u001B[38;5;28;01mexcept\u001B[39;00m excs_to_catch:\n\u001B[0;32m    207\u001B[0m     \u001B[38;5;66;03m# e.g.\u001B[39;00m\n\u001B[0;32m    208\u001B[0m     \u001B[38;5;66;03m#  \"No module named 'pandas.core.sparse.series'\"\u001B[39;00m\n\u001B[0;32m    209\u001B[0m     \u001B[38;5;66;03m#  \"Can't get attribute '__nat_unpickle' on <module 'pandas._libs.tslib\"\u001B[39;00m\n\u001B[0;32m    210\u001B[0m     \u001B[38;5;28;01mreturn\u001B[39;00m pc\u001B[38;5;241m.\u001B[39mload(handles\u001B[38;5;241m.\u001B[39mhandle, encoding\u001B[38;5;241m=\u001B[39m\u001B[38;5;28;01mNone\u001B[39;00m)\n",
      "\u001B[1;31mMemoryError\u001B[0m: "
     ]
    }
   ],
   "source": [
    "\n",
    "start = time()\n",
    "pkls2 = pd.read_pickle('2d_skin_hovernet.pkl')\n",
    "print(round(time()-start),'seconds')"
   ],
   "metadata": {
    "collapsed": false,
    "pycharm": {
     "name": "#%%\n"
    }
   }
  },
  {
   "cell_type": "code",
   "execution_count": null,
   "outputs": [],
   "source": [
    "# visualize cell distribution\n",
    "numclass = 12\n",
    "a=plt.hist(pkls['type'],numclass)\n",
    "a[0]"
   ],
   "metadata": {
    "collapsed": false,
    "pycharm": {
     "name": "#%%\n"
    }
   }
  },
  {
   "cell_type": "code",
   "execution_count": 6,
   "outputs": [
    {
     "data": {
      "text/plain": "                             bbox                                 centroid  \\\n0  [[1627, 12118], [1646, 12127]]   [1881.754716981132, 11877.27358490566]   \n1    [[3740, 8056], [3749, 8071]]  [3966.7162162162163, 7840.310810810811]   \n2    [[3747, 8029], [3768, 8047]]  [3941.6615384615384, 7852.626923076923]   \n3    [[3748, 8045], [3760, 8058]]          [3954.541666666667, 7849.21875]   \n4    [[3751, 8061], [3763, 8068]]               [3967.890625, 7852.359375]   \n\n                                             contour  type   Area        AR  \\\n0  [[1886, 11867], [1885, 11868], [1884, 11868], ...     1   84.0  0.481259   \n1  [[3970, 7836], [3969, 7837], [3968, 7837], [39...     2   56.5  0.364545   \n2  [[3940, 7843], [3939, 7844], [3938, 7844], [39...     2  231.5  0.770438   \n3  [[3954, 7844], [3953, 7845], [3952, 7845], [39...     2   79.5  0.662782   \n4  [[3969, 7847], [3968, 7848], [3966, 7848], [39...     2   49.5  0.620038   \n\n        Sol    Extent    EquiDia  imID  \n0  0.796209  0.491228  10.341766     8  \n1  0.824818  0.418519   8.481629     8  \n2  0.920477  0.612434  17.168429     8  \n3  0.893258  0.509615  10.060941     8  \n4  0.916667  0.589286   7.938851     8  ",
      "text/html": "<div>\n<style scoped>\n    .dataframe tbody tr th:only-of-type {\n        vertical-align: middle;\n    }\n\n    .dataframe tbody tr th {\n        vertical-align: top;\n    }\n\n    .dataframe thead th {\n        text-align: right;\n    }\n</style>\n<table border=\"1\" class=\"dataframe\">\n  <thead>\n    <tr style=\"text-align: right;\">\n      <th></th>\n      <th>bbox</th>\n      <th>centroid</th>\n      <th>contour</th>\n      <th>type</th>\n      <th>Area</th>\n      <th>AR</th>\n      <th>Sol</th>\n      <th>Extent</th>\n      <th>EquiDia</th>\n      <th>imID</th>\n    </tr>\n  </thead>\n  <tbody>\n    <tr>\n      <th>0</th>\n      <td>[[1627, 12118], [1646, 12127]]</td>\n      <td>[1881.754716981132, 11877.27358490566]</td>\n      <td>[[1886, 11867], [1885, 11868], [1884, 11868], ...</td>\n      <td>1</td>\n      <td>84.0</td>\n      <td>0.481259</td>\n      <td>0.796209</td>\n      <td>0.491228</td>\n      <td>10.341766</td>\n      <td>8</td>\n    </tr>\n    <tr>\n      <th>1</th>\n      <td>[[3740, 8056], [3749, 8071]]</td>\n      <td>[3966.7162162162163, 7840.310810810811]</td>\n      <td>[[3970, 7836], [3969, 7837], [3968, 7837], [39...</td>\n      <td>2</td>\n      <td>56.5</td>\n      <td>0.364545</td>\n      <td>0.824818</td>\n      <td>0.418519</td>\n      <td>8.481629</td>\n      <td>8</td>\n    </tr>\n    <tr>\n      <th>2</th>\n      <td>[[3747, 8029], [3768, 8047]]</td>\n      <td>[3941.6615384615384, 7852.626923076923]</td>\n      <td>[[3940, 7843], [3939, 7844], [3938, 7844], [39...</td>\n      <td>2</td>\n      <td>231.5</td>\n      <td>0.770438</td>\n      <td>0.920477</td>\n      <td>0.612434</td>\n      <td>17.168429</td>\n      <td>8</td>\n    </tr>\n    <tr>\n      <th>3</th>\n      <td>[[3748, 8045], [3760, 8058]]</td>\n      <td>[3954.541666666667, 7849.21875]</td>\n      <td>[[3954, 7844], [3953, 7845], [3952, 7845], [39...</td>\n      <td>2</td>\n      <td>79.5</td>\n      <td>0.662782</td>\n      <td>0.893258</td>\n      <td>0.509615</td>\n      <td>10.060941</td>\n      <td>8</td>\n    </tr>\n    <tr>\n      <th>4</th>\n      <td>[[3751, 8061], [3763, 8068]]</td>\n      <td>[3967.890625, 7852.359375]</td>\n      <td>[[3969, 7847], [3968, 7848], [3966, 7848], [39...</td>\n      <td>2</td>\n      <td>49.5</td>\n      <td>0.620038</td>\n      <td>0.916667</td>\n      <td>0.589286</td>\n      <td>7.938851</td>\n      <td>8</td>\n    </tr>\n  </tbody>\n</table>\n</div>"
     },
     "execution_count": 6,
     "metadata": {},
     "output_type": "execute_result"
    }
   ],
   "source": [
    "pkls2.head( )"
   ],
   "metadata": {
    "collapsed": false,
    "pycharm": {
     "name": "#%%\n"
    }
   }
  },
  {
   "cell_type": "code",
   "execution_count": null,
   "outputs": [],
   "source": [
    "start = time()\n",
    "pkls2.to_hdf('2d_skin_hovernet.h5', key='df', mode='w')\n",
    "print(round(time()-start),'seconds')"
   ],
   "metadata": {
    "collapsed": false,
    "pycharm": {
     "name": "#%%\n",
     "is_executing": true
    }
   }
  },
  {
   "cell_type": "code",
   "execution_count": null,
   "outputs": [],
   "source": [
    "1+2"
   ],
   "metadata": {
    "collapsed": false,
    "pycharm": {
     "name": "#%%\n",
     "is_executing": true
    }
   }
  },
  {
   "cell_type": "code",
   "execution_count": null,
   "outputs": [],
   "source": [
    "comps = []\n",
    "for value in pkls.imID.unique():\n",
    "    numclass = 12\n",
    "    a=plt.hist(pkls.loc[pkls['imID'] == value]['type'],numclass)\n",
    "    comps.append(a[0]/sum(a[0])*100)"
   ],
   "metadata": {
    "collapsed": false,
    "pycharm": {
     "name": "#%%\n"
    }
   }
  },
  {
   "cell_type": "code",
   "execution_count": null,
   "outputs": [],
   "source": [
    "compsdf = pd.DataFrame(comps)\n",
    "compsdf['imID']= pkls.imID.unique()\n",
    "compsdf.to_csv('2d_skin_cell_comp.csv')"
   ],
   "metadata": {
    "collapsed": false,
    "pycharm": {
     "name": "#%%\n"
    }
   }
  },
  {
   "cell_type": "code",
   "execution_count": null,
   "outputs": [],
   "source": [
    "#build model by cell type\n",
    "for clnum in range(2,9):\n",
    "    modelname = 'sweat_cl{}'.format(clnum)\n",
    "    idx = 6\n",
    "    bd1 = pkls[pkls['type']==idx+1].reset_index()\n",
    "    B=bd1['contour']\n",
    "    VamModel = {\n",
    "                \"N\": [],\n",
    "                \"bdrn\": [],\n",
    "                \"mdd\": [],\n",
    "                \"pc\": [],\n",
    "                \"clnum\": [],\n",
    "                \"pcnum\": [],\n",
    "                \"mincms\": [],\n",
    "                \"testmean\": [],\n",
    "                \"teststd\": [],\n",
    "                \"boxcoxlambda\": [],\n",
    "                \"C\": [],\n",
    "                \"Z\": []\n",
    "            }\n",
    "    build_model = True\n",
    "    bdpc, VamModel = bdreg(B, N, VamModel, build_model)\n",
    "    score, VamModel = pca_bdreg(bdpc, VamModel, True)\n",
    "    pcnum = None # none is 20 by default\n",
    "    IDX, IDX_dist, VamModel, goodness = clusterSM(outpth, score, bdpc, clnum, pcnum, VamModel, True, None, None,modelname)\n",
    "\n",
    "    f = open(os.path.join(*[outpth, modelname, modelname+'.pickle']), 'wb')\n",
    "    pickle.dump(VamModel, f)\n",
    "    f.close()"
   ],
   "metadata": {
    "collapsed": false,
    "pycharm": {
     "name": "#%%\n"
    }
   }
  },
  {
   "cell_type": "code",
   "execution_count": null,
   "outputs": [
    {
     "name": "stdout",
     "output_type": "stream",
     "text": [
      "building model\n"
     ]
    }
   ],
   "source": [
    "#build model by cell type\n",
    "tissues = ['corneum','spinosum','shaft','follicle','muscle','oil','sweat','nerve','blood','ecm','fat','white']\n",
    "for clnum in range(2,9):\n",
    "    for idx,tissue in enumerate(tissues):\n",
    "        if tissue=='corneum':continue\n",
    "        modelname = '{}_cl{}'.format(tissue,clnum)\n",
    "        bd1 = pkls[pkls['type']==idx+1].reset_index()\n",
    "        B=bd1['contour']\n",
    "        VamModel = {\n",
    "                    \"N\": [],\n",
    "                    \"bdrn\": [],\n",
    "                    \"mdd\": [],\n",
    "                    \"pc\": [],\n",
    "                    \"clnum\": [],\n",
    "                    \"pcnum\": [],\n",
    "                    \"mincms\": [],\n",
    "                    \"testmean\": [],\n",
    "                    \"teststd\": [],\n",
    "                    \"boxcoxlambda\": [],\n",
    "                    \"C\": [],\n",
    "                    \"Z\": []\n",
    "                }\n",
    "        build_model = True\n",
    "        bdpc, VamModel = bdreg(B, N, VamModel, build_model)\n",
    "        score, VamModel = pca_bdreg(bdpc, VamModel, True)\n",
    "        pcnum = None # none is 20 by default\n",
    "        IDX, IDX_dist, VamModel, goodness = clusterSM(outpth, score, bdpc, clnum, pcnum, VamModel, True, None, None,modelname)\n",
    "\n",
    "        f = open(os.path.join(*[outpth, modelname, modelname+'.pickle']), 'wb')\n",
    "        pickle.dump(VamModel, f)\n",
    "        f.close()"
   ],
   "metadata": {
    "collapsed": false,
    "pycharm": {
     "name": "#%%\n",
     "is_executing": true
    }
   }
  },
  {
   "cell_type": "code",
   "execution_count": null,
   "outputs": [],
   "source": [
    "clnum = 5\n",
    "modelname = 'corneum_cl{}'.format(clnum)\n",
    "modelpth = os.path.join(*[outpth, modelname, modelname+'.pickle'])"
   ],
   "metadata": {
    "collapsed": false,
    "pycharm": {
     "name": "#%%\n"
    }
   }
  },
  {
   "cell_type": "code",
   "execution_count": null,
   "outputs": [],
   "source": [
    "# load model\n",
    "experimental = False\n",
    "build_model = False\n",
    "try:\n",
    "    f = open(modelpth, 'rb')\n",
    "except:\n",
    "    print('the model does not exist. please replace model name to the one you built')\n",
    "vampire_model = pickle.load(f)\n",
    "N = vampire_model['N']\n",
    "clnum = vampire_model['clnum']\n",
    "pcnum = vampire_model['pcnum']"
   ],
   "metadata": {
    "collapsed": false,
    "pycharm": {
     "name": "#%%\n"
    }
   }
  },
  {
   "cell_type": "code",
   "execution_count": null,
   "outputs": [],
   "source": [
    "dists=np.zeros((len(setpaths),clnum))\n",
    "for idxA,(setpath,condition,setID) in enumerate(zip(setpaths,conditions,setIDs)):\n",
    "    pkl = pd.read_pickle(setpath)\n",
    "    pkl = pkl[pkl['contour'].map(len) > 5]\n",
    "    pkl = pkl[pkl['type']==idx+1].reset_index(drop=True)\n",
    "    B = pkl['contour']\n",
    "    pkl = pkl.drop(columns=['contour'])\n",
    "    bdpc, vampire_model = bdreg(B, N, vampire_model, build_model) #409sec\n",
    "    score, vampire_model = pca_bdreg(bdpc, vampire_model, build_model)\n",
    "    IDX, IDX_dist, VamModel, goodness = clusterSM(outpth, score, bdpc, clnum, pcnum, vampire_model, False, condition, setID,modelname)\n",
    "    pkl['Shape mode']= pd.Series(IDX)\n",
    "    pkl.to_csv(setpath.replace('pkl','csv'), index=False)\n",
    "    a=plt.hist(pkl['Shape mode'],clnum)\n",
    "    dists[idxA,:] = np.array(a[0])"
   ],
   "metadata": {
    "collapsed": false,
    "pycharm": {
     "name": "#%%\n"
    }
   }
  },
  {
   "cell_type": "code",
   "execution_count": null,
   "outputs": [],
   "source": [
    "dists2 = np.around(dists*100/dists.sum(axis=1)[:,None],decimals=2)\n",
    "dists2 = pd.DataFrame(dists2)\n",
    "dists2['setid']=setIDs\n",
    "sumfn = 'vampire summary.csv'\n",
    "sumfn = os.path.join(*[outpth, modelname,sumfn])\n",
    "dists2.to_csv(sumfn)"
   ],
   "metadata": {
    "collapsed": false,
    "pycharm": {
     "name": "#%%\n"
    }
   }
  }
 ],
 "metadata": {
  "kernelspec": {
   "display_name": "Python 3",
   "language": "python",
   "name": "python3"
  },
  "language_info": {
   "codemirror_mode": {
    "name": "ipython",
    "version": 2
   },
   "file_extension": ".py",
   "mimetype": "text/x-python",
   "name": "python",
   "nbconvert_exporter": "python",
   "pygments_lexer": "ipython2",
   "version": "2.7.6"
  }
 },
 "nbformat": 4,
 "nbformat_minor": 0
}