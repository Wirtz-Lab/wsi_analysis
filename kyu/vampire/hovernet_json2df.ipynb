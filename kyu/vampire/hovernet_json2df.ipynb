{
 "cells": [
  {
   "cell_type": "code",
   "execution_count": 10,
   "metadata": {
    "collapsed": true,
    "ExecuteTime": {
     "end_time": "2023-10-11T20:41:51.696061100Z",
     "start_time": "2023-10-11T20:41:51.618251800Z"
    }
   },
   "outputs": [],
   "source": [
    "import os\n",
    "import pandas as pd\n",
    "import numpy as np\n",
    "import cv2"
   ]
  },
  {
   "cell_type": "code",
   "execution_count": 8,
   "outputs": [],
   "source": [
    "# def json2df():\n",
    "def cntarea(cnt):\n",
    "    cnt = np.array(cnt)\n",
    "    area = cv2.contourArea(cnt)\n",
    "    return area\n",
    "\n",
    "def cntperi(cnt):\n",
    "    cnt = np.array(cnt)\n",
    "    perimeter = cv2.arcLength(cnt,True)\n",
    "    return perimeter\n",
    "\n",
    "def cntMA(cnt):\n",
    "    cnt = np.array(cnt)\n",
    "    #Orientation, Aspect_ratio\n",
    "    (x,y),(MA,ma),orientation = cv2.fitEllipse(cnt)\n",
    "    return np.max((MA,ma)),np.min((MA,ma)),orientation"
   ],
   "metadata": {
    "collapsed": false,
    "ExecuteTime": {
     "end_time": "2023-10-11T20:41:12.404482100Z",
     "start_time": "2023-10-11T20:41:12.390242700Z"
    }
   }
  },
  {
   "cell_type": "code",
   "execution_count": 2,
   "outputs": [],
   "source": [
    "#input folder\n",
    "jsonsrc = r'\\\\10.99.68.178\\andreex\\data\\monkey fetus\\gestational 40\\hovernet_out\\json'\n",
    "#output folder creation\n",
    "dst = os.path.join(os.path.dirname(jsonsrc), 'df')\n",
    "if not os.path.exists(dst): os.mkdir(dst)"
   ],
   "metadata": {
    "collapsed": false,
    "ExecuteTime": {
     "end_time": "2023-10-11T20:32:57.613818900Z",
     "start_time": "2023-10-11T20:32:57.601851300Z"
    }
   }
  },
  {
   "cell_type": "code",
   "execution_count": 3,
   "outputs": [
    {
     "data": {
      "text/plain": "'monkey_fetus_40_0301.json'"
     },
     "execution_count": 3,
     "metadata": {},
     "output_type": "execute_result"
    }
   ],
   "source": [
    "jsonnms = [i for i in os.listdir(jsonsrc) if i.endswith('json')]\n",
    "for jsonnm in jsonnms:\n",
    "    jsonpth = os.path.join(jsonsrc,jsonnm)\n",
    "    imID,ext = os.path.splitext(os.path.basename(jsonpth))\n",
    "    dstfn = os.path.join(dst, '{}.pkl'.format(imID))\n",
    "    if os.path.exists(dstfn):\n",
    "        print(\"pkl already exists, skipping the file ID {}\".format(imID))\n",
    "    try:\n",
    "        json = pd.read_json(jsonpth, orient='index')\n",
    "    except:\n",
    "        print('cannot open json')\n",
    "    json = pd.DataFrame(json[0].loc['nuc']).T.drop(columns=['type_prob'])\n",
    "    json = json[json['contour'].map(len) > 5].reset_index(drop=True)\n",
    "    json['Area'] = json['contour'].apply(lambda row: cntarea(row))\n",
    "    json['Perimeter'] = json['contour'].apply(lambda row: cntperi(row))\n",
    "    json['Circularity'] = 4 * np.pi * json['Area'] / json['Perimeter'] ** 2\n",
    "    json['MA'] = json['contour'].apply(lambda row: cntMA(row))\n",
    "    json[['MA', 'ma', 'orientation']] = pd.DataFrame(json.MA.tolist())\n",
    "    json['AspectRatio'] = json['MA'] / json['ma']\n",
    "    json['imID'] = imID\n",
    "    json.to_pickle(dstfn)"
   ],
   "metadata": {
    "collapsed": false
   }
  }
 ],
 "metadata": {
  "kernelspec": {
   "display_name": "Python 3",
   "language": "python",
   "name": "python3"
  },
  "language_info": {
   "codemirror_mode": {
    "name": "ipython",
    "version": 2
   },
   "file_extension": ".py",
   "mimetype": "text/x-python",
   "name": "python",
   "nbconvert_exporter": "python",
   "pygments_lexer": "ipython2",
   "version": "2.7.6"
  }
 },
 "nbformat": 4,
 "nbformat_minor": 0
}
