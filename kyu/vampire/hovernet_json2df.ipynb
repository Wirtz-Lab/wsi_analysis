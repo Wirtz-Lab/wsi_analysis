{
 "cells": [
  {
   "cell_type": "code",
   "execution_count": 10,
   "metadata": {
    "collapsed": true,
    "ExecuteTime": {
     "end_time": "2023-10-11T20:41:51.696061100Z",
     "start_time": "2023-10-11T20:41:51.618251800Z"
    }
   },
   "outputs": [],
   "source": [
    "import os\n",
    "import pandas as pd\n",
    "import numpy as np\n",
    "import cv2"
   ]
  },
  {
   "cell_type": "code",
   "execution_count": 8,
   "outputs": [],
   "source": [
    "# def json2df():\n",
    "def cntarea(cnt):\n",
    "    cnt = np.array(cnt)\n",
    "    area = cv2.contourArea(cnt)\n",
    "    return area\n",
    "\n",
    "def cntperi(cnt):\n",
    "    cnt = np.array(cnt)\n",
    "    perimeter = cv2.arcLength(cnt,True)\n",
    "    return perimeter\n",
    "\n",
    "def cntMA(cnt):\n",
    "    cnt = np.array(cnt)\n",
    "    #Orientation, Aspect_ratio\n",
    "    (x,y),(MA,ma),orientation = cv2.fitEllipse(cnt)\n",
    "    return np.max((MA,ma)),np.min((MA,ma)),orientation"
   ],
   "metadata": {
    "collapsed": false,
    "ExecuteTime": {
     "end_time": "2023-10-11T20:41:12.404482100Z",
     "start_time": "2023-10-11T20:41:12.390242700Z"
    }
   }
  },
  {
   "cell_type": "code",
   "execution_count": 2,
   "outputs": [],
   "source": [
    "jsonsrc = r'\\\\10.99.68.178\\andreex\\data\\monkey fetus\\gestational 40\\hovernet_out\\json'\n",
    "dst = os.path.join(os.path.dirname(jsonsrc), 'df')\n",
    "if not os.path.exists(dst): os.mkdir(dst)"
   ],
   "metadata": {
    "collapsed": false,
    "ExecuteTime": {
     "end_time": "2023-10-11T20:32:57.613818900Z",
     "start_time": "2023-10-11T20:32:57.601851300Z"
    }
   }
  },
  {
   "cell_type": "code",
   "execution_count": 3,
   "outputs": [
    {
     "data": {
      "text/plain": "'monkey_fetus_40_0301.json'"
     },
     "execution_count": 3,
     "metadata": {},
     "output_type": "execute_result"
    }
   ],
   "source": [
    "jsonnm = 'monkey_fetus_40_0301.json'\n",
    "jsonpth = os.path.join(jsonsrc,jsonnm)\n"
   ],
   "metadata": {
    "collapsed": false,
    "ExecuteTime": {
     "end_time": "2023-10-11T20:33:00.156934300Z",
     "start_time": "2023-10-11T20:33:00.148956200Z"
    }
   }
  },
  {
   "cell_type": "code",
   "execution_count": 4,
   "outputs": [],
   "source": [
    "imID,ext = os.path.splitext(os.path.basename(jsonpth))\n",
    "dstfn = os.path.join(dst, '{}.pkl'.format(imID))\n",
    "if os.path.exists(dstfn):\n",
    "    print(\"pkl already exists, skipping the file ID {}\".format(imID))\n",
    "    # return"
   ],
   "metadata": {
    "collapsed": false,
    "ExecuteTime": {
     "end_time": "2023-10-11T20:34:22.941028800Z",
     "start_time": "2023-10-11T20:34:22.913449500Z"
    }
   }
  },
  {
   "cell_type": "code",
   "execution_count": 6,
   "outputs": [],
   "source": [
    "try:\n",
    "    json = pd.read_json(jsonpth, orient='index')\n",
    "except:\n",
    "    print('cannot open json')"
   ],
   "metadata": {
    "collapsed": false,
    "ExecuteTime": {
     "end_time": "2023-10-11T20:35:16.588461200Z",
     "start_time": "2023-10-11T20:35:12.617315600Z"
    }
   }
  },
  {
   "cell_type": "code",
   "execution_count": 7,
   "outputs": [],
   "source": [
    "json = pd.DataFrame(json[0].loc['nuc']).T.drop(columns=['type_prob'])\n",
    "json = json[json['contour'].map(len) > 5].reset_index(drop=True)"
   ],
   "metadata": {
    "collapsed": false,
    "ExecuteTime": {
     "end_time": "2023-10-11T20:35:42.684761200Z",
     "start_time": "2023-10-11T20:35:38.055896800Z"
    }
   }
  },
  {
   "cell_type": "code",
   "execution_count": 11,
   "outputs": [],
   "source": [
    "json['Area'] = json['contour'].apply(lambda row: cntarea(row))\n",
    "json['Perimeter'] = json['contour'].apply(lambda row: cntperi(row))\n",
    "json['Circularity'] = 4 * np.pi * json['Area'] / json['Perimeter'] ** 2\n",
    "json['MA'] = json['contour'].apply(lambda row: cntMA(row))\n",
    "json[['MA', 'ma', 'orientation']] = pd.DataFrame(json.MA.tolist())\n",
    "json['AspectRatio'] = json['MA'] / json['ma']\n",
    "json['imID'] = imID\n",
    "json.to_pickle(dstfn)\n"
   ],
   "metadata": {
    "collapsed": false,
    "ExecuteTime": {
     "end_time": "2023-10-11T20:42:09.590561700Z",
     "start_time": "2023-10-11T20:41:55.552926300Z"
    }
   }
  },
  {
   "cell_type": "code",
   "execution_count": 12,
   "outputs": [
    {
     "data": {
      "text/plain": "                             bbox                                  centroid  \\\n0  [[1057, 12054], [1068, 12066]]              [1819.5, 11301.521739130434]   \n1  [[1088, 12123], [1097, 12134]]  [1887.6029411764705, 11331.970588235294]   \n2  [[1090, 12138], [1107, 12149]]  [1903.1530612244899, 11337.551020408164]   \n3  [[1381, 11969], [1405, 11985]]  [1737.0045662100456, 11632.383561643835]   \n4  [[1532, 12034], [1556, 12045]]  [1799.4916666666666, 11783.208333333334]   \n\n                                             contour  type   Area  Perimeter  \\\n0  [[1817, 11297], [1817, 11298], [1816, 11299], ...  None   75.5  35.556349   \n1  [[1889, 11328], [1888, 11329], [1887, 11329], ...  None   54.0  30.142135   \n2  [[1906, 11330], [1905, 11331], [1904, 11331], ...  None   79.5  42.041630   \n3  [[1730, 11621], [1729, 11622], [1729, 11625], ...  None  191.5  62.526911   \n4  [[1795, 11772], [1795, 11773], [1794, 11774], ...  None   93.5  57.213203   \n\n   Circularity         MA         ma  orientation  AspectRatio  \\\n0     0.750451  13.446315   8.539762    34.649132     1.574554   \n1     0.746888  11.154696   6.898702    62.998440     1.616927   \n2     0.565220  18.602440   6.091478    26.693090     3.053847   \n3     0.615524  25.748045  10.807999   151.067474     2.382314   \n4     0.358946  25.887810   5.386616   161.308823     4.805950   \n\n                   imID  \n0  monkey_fetus_40_0301  \n1  monkey_fetus_40_0301  \n2  monkey_fetus_40_0301  \n3  monkey_fetus_40_0301  \n4  monkey_fetus_40_0301  ",
      "text/html": "<div>\n<style scoped>\n    .dataframe tbody tr th:only-of-type {\n        vertical-align: middle;\n    }\n\n    .dataframe tbody tr th {\n        vertical-align: top;\n    }\n\n    .dataframe thead th {\n        text-align: right;\n    }\n</style>\n<table border=\"1\" class=\"dataframe\">\n  <thead>\n    <tr style=\"text-align: right;\">\n      <th></th>\n      <th>bbox</th>\n      <th>centroid</th>\n      <th>contour</th>\n      <th>type</th>\n      <th>Area</th>\n      <th>Perimeter</th>\n      <th>Circularity</th>\n      <th>MA</th>\n      <th>ma</th>\n      <th>orientation</th>\n      <th>AspectRatio</th>\n      <th>imID</th>\n    </tr>\n  </thead>\n  <tbody>\n    <tr>\n      <th>0</th>\n      <td>[[1057, 12054], [1068, 12066]]</td>\n      <td>[1819.5, 11301.521739130434]</td>\n      <td>[[1817, 11297], [1817, 11298], [1816, 11299], ...</td>\n      <td>None</td>\n      <td>75.5</td>\n      <td>35.556349</td>\n      <td>0.750451</td>\n      <td>13.446315</td>\n      <td>8.539762</td>\n      <td>34.649132</td>\n      <td>1.574554</td>\n      <td>monkey_fetus_40_0301</td>\n    </tr>\n    <tr>\n      <th>1</th>\n      <td>[[1088, 12123], [1097, 12134]]</td>\n      <td>[1887.6029411764705, 11331.970588235294]</td>\n      <td>[[1889, 11328], [1888, 11329], [1887, 11329], ...</td>\n      <td>None</td>\n      <td>54.0</td>\n      <td>30.142135</td>\n      <td>0.746888</td>\n      <td>11.154696</td>\n      <td>6.898702</td>\n      <td>62.998440</td>\n      <td>1.616927</td>\n      <td>monkey_fetus_40_0301</td>\n    </tr>\n    <tr>\n      <th>2</th>\n      <td>[[1090, 12138], [1107, 12149]]</td>\n      <td>[1903.1530612244899, 11337.551020408164]</td>\n      <td>[[1906, 11330], [1905, 11331], [1904, 11331], ...</td>\n      <td>None</td>\n      <td>79.5</td>\n      <td>42.041630</td>\n      <td>0.565220</td>\n      <td>18.602440</td>\n      <td>6.091478</td>\n      <td>26.693090</td>\n      <td>3.053847</td>\n      <td>monkey_fetus_40_0301</td>\n    </tr>\n    <tr>\n      <th>3</th>\n      <td>[[1381, 11969], [1405, 11985]]</td>\n      <td>[1737.0045662100456, 11632.383561643835]</td>\n      <td>[[1730, 11621], [1729, 11622], [1729, 11625], ...</td>\n      <td>None</td>\n      <td>191.5</td>\n      <td>62.526911</td>\n      <td>0.615524</td>\n      <td>25.748045</td>\n      <td>10.807999</td>\n      <td>151.067474</td>\n      <td>2.382314</td>\n      <td>monkey_fetus_40_0301</td>\n    </tr>\n    <tr>\n      <th>4</th>\n      <td>[[1532, 12034], [1556, 12045]]</td>\n      <td>[1799.4916666666666, 11783.208333333334]</td>\n      <td>[[1795, 11772], [1795, 11773], [1794, 11774], ...</td>\n      <td>None</td>\n      <td>93.5</td>\n      <td>57.213203</td>\n      <td>0.358946</td>\n      <td>25.887810</td>\n      <td>5.386616</td>\n      <td>161.308823</td>\n      <td>4.805950</td>\n      <td>monkey_fetus_40_0301</td>\n    </tr>\n  </tbody>\n</table>\n</div>"
     },
     "execution_count": 12,
     "metadata": {},
     "output_type": "execute_result"
    }
   ],
   "source": [
    "json.head()"
   ],
   "metadata": {
    "collapsed": false,
    "ExecuteTime": {
     "end_time": "2023-10-11T20:42:09.667494100Z",
     "start_time": "2023-10-11T20:42:09.608651100Z"
    }
   }
  },
  {
   "cell_type": "code",
   "execution_count": null,
   "outputs": [],
   "source": [],
   "metadata": {
    "collapsed": false
   }
  }
 ],
 "metadata": {
  "kernelspec": {
   "display_name": "Python 3",
   "language": "python",
   "name": "python3"
  },
  "language_info": {
   "codemirror_mode": {
    "name": "ipython",
    "version": 2
   },
   "file_extension": ".py",
   "mimetype": "text/x-python",
   "name": "python",
   "nbconvert_exporter": "python",
   "pygments_lexer": "ipython2",
   "version": "2.7.6"
  }
 },
 "nbformat": 4,
 "nbformat_minor": 0
}
