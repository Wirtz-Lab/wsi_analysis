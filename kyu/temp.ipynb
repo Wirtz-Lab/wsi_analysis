{
 "cells": [
  {
   "cell_type": "code",
   "execution_count": 9,
   "metadata": {
    "collapsed": true
   },
   "outputs": [],
   "source": [
    "from PIL import Image\n",
    "import os"
   ]
  },
  {
   "cell_type": "code",
   "execution_count": 11,
   "outputs": [],
   "source": [
    "src = r'\\\\fatherserverdw\\Kevin\\imageregistration2\\registered_images'\n",
    "dst = os.path.join(src,'dst')\n",
    "if not os.path.exists(dst):os.mkdir(dst)\n",
    "ims = [_ for _ in os.listdir(src) if _.endswith('png')]\n",
    "rsf = 8\n",
    "for im in ims:\n",
    "    imsmall = Image.open(os.path.join(src,im))\n",
    "    imsz = imsmall.size\n",
    "    imsz = [round(_/rsf) for _ in imsz]\n",
    "    imsmall = imsmall.resize(imsz)\n",
    "    imsmall.save(os.path.join(dst,im))"
   ],
   "metadata": {
    "collapsed": false
   }
  }
 ],
 "metadata": {
  "kernelspec": {
   "display_name": "Python 3",
   "language": "python",
   "name": "python3"
  },
  "language_info": {
   "codemirror_mode": {
    "name": "ipython",
    "version": 2
   },
   "file_extension": ".py",
   "mimetype": "text/x-python",
   "name": "python",
   "nbconvert_exporter": "python",
   "pygments_lexer": "ipython2",
   "version": "2.7.6"
  }
 },
 "nbformat": 4,
 "nbformat_minor": 0
}
