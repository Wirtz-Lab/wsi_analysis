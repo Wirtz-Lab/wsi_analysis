{
 "cells": [
  {
   "cell_type": "code",
   "execution_count": null,
   "outputs": [],
   "source": [
    "import os"
   ],
   "metadata": {
    "collapsed": false,
    "pycharm": {
     "name": "#%%\n"
    }
   }
  },
  {
   "cell_type": "code",
   "execution_count": 1,
   "outputs": [
    {
     "ename": "NameError",
     "evalue": "name 'os' is not defined",
     "output_type": "error",
     "traceback": [
      "\u001B[1;31m---------------------------------------------------------------------------\u001B[0m",
      "\u001B[1;31mNameError\u001B[0m                                 Traceback (most recent call last)",
      "Input \u001B[1;32mIn [1]\u001B[0m, in \u001B[0;36m<cell line: 4>\u001B[1;34m()\u001B[0m\n\u001B[0;32m      2\u001B[0m svsres \u001B[38;5;241m=\u001B[39m \u001B[38;5;241m0.454\u001B[39m\n\u001B[0;32m      3\u001B[0m outfd \u001B[38;5;241m=\u001B[39m \u001B[38;5;124mr\u001B[39m\u001B[38;5;124m'\u001B[39m\u001B[38;5;130;01m\\\\\u001B[39;00m\u001B[38;5;124mfatherserverdw\u001B[39m\u001B[38;5;124m\\\u001B[39m\u001B[38;5;124mQ\u001B[39m\u001B[38;5;124m\\\u001B[39m\u001B[38;5;124mresearch\u001B[39m\u001B[38;5;124m\\\u001B[39m\u001B[38;5;124mimages\u001B[39m\u001B[38;5;124m\\\u001B[39m\u001B[38;5;124mskin_aging\u001B[39m\u001B[38;5;124m\\\u001B[39m\u001B[38;5;124mannotation\u001B[39m\u001B[38;5;124m\\\u001B[39m\u001B[38;5;124mroi\u001B[39m\u001B[38;5;124m\\\u001B[39m\u001B[38;5;124mtif\u001B[39m\u001B[38;5;124m'\u001B[39m\n\u001B[1;32m----> 4\u001B[0m imnametmp,etx \u001B[38;5;241m=\u001B[39m \u001B[43mos\u001B[49m\u001B[38;5;241m.\u001B[39mpath\u001B[38;5;241m.\u001B[39msplitext(os\u001B[38;5;241m.\u001B[39mpath\u001B[38;5;241m.\u001B[39mbasename(mat))\n\u001B[0;32m      5\u001B[0m imnametmp\n",
      "\u001B[1;31mNameError\u001B[0m: name 'os' is not defined"
     ]
    }
   ],
   "source": [
    "mat = r'\\\\fatherserverdw\\Q\\research\\images\\skin_aging\\annotation\\roi\\mat\\156.mat'\n",
    "svsres = 0.454\n",
    "outfd = r'\\\\fatherserverdw\\Q\\research\\images\\skin_aging\\annotation\\roi\\tif'\n",
    "imnametmp,etx = os.path.splitext(os.path.basename(mat))\n",
    "imnametmp"
   ],
   "metadata": {
    "collapsed": false,
    "pycharm": {
     "name": "#%%\n"
    }
   }
  },
  {
   "cell_type": "code",
   "execution_count": null,
   "outputs": [],
   "source": [],
   "metadata": {
    "collapsed": false,
    "pycharm": {
     "name": "#%%\n"
    }
   }
  }
 ],
 "metadata": {
  "kernelspec": {
   "display_name": "Python 3",
   "language": "python",
   "name": "python3"
  },
  "language_info": {
   "codemirror_mode": {
    "name": "ipython",
    "version": 2
   },
   "file_extension": ".py",
   "mimetype": "text/x-python",
   "name": "python",
   "nbconvert_exporter": "python",
   "pygments_lexer": "ipython2",
   "version": "2.7.6"
  }
 },
 "nbformat": 4,
 "nbformat_minor": 0
}