{
 "cells": [
  {
   "cell_type": "code",
   "execution_count": 16,
   "outputs": [
    {
     "ename": "OSError",
     "evalue": "cannot load library 'C:\\Users\\labadmin\\Documents\\vips-dev-8.14\\bin\\libvips-42.dll': error 0x7f",
     "output_type": "error",
     "traceback": [
      "\u001B[1;31m---------------------------------------------------------------------------\u001B[0m",
      "\u001B[1;31mModuleNotFoundError\u001B[0m                       Traceback (most recent call last)",
      "File \u001B[1;32m~\\.conda\\envs\\wsi_analysis38\\lib\\site-packages\\pyvips\\__init__.py:19\u001B[0m\n\u001B[0;32m     18\u001B[0m \u001B[38;5;28;01mtry\u001B[39;00m:\n\u001B[1;32m---> 19\u001B[0m     \u001B[38;5;28;01mimport\u001B[39;00m \u001B[38;5;21;01m_libvips\u001B[39;00m\n\u001B[0;32m     21\u001B[0m     logger\u001B[38;5;241m.\u001B[39mdebug(\u001B[38;5;124m'\u001B[39m\u001B[38;5;124mLoaded binary module _libvips\u001B[39m\u001B[38;5;124m'\u001B[39m)\n",
      "\u001B[1;31mModuleNotFoundError\u001B[0m: No module named '_libvips'",
      "\nDuring handling of the above exception, another exception occurred:\n",
      "\u001B[1;31mOSError\u001B[0m                                   Traceback (most recent call last)",
      "Cell \u001B[1;32mIn[16], line 8\u001B[0m\n\u001B[0;32m      6\u001B[0m \u001B[38;5;28;01melse\u001B[39;00m:\n\u001B[0;32m      7\u001B[0m     os\u001B[38;5;241m.\u001B[39menviron[\u001B[38;5;124m'\u001B[39m\u001B[38;5;124mPATH\u001B[39m\u001B[38;5;124m'\u001B[39m] \u001B[38;5;241m=\u001B[39m os\u001B[38;5;241m.\u001B[39mpathsep\u001B[38;5;241m.\u001B[39mjoin((vipsbin, os\u001B[38;5;241m.\u001B[39menviron[\u001B[38;5;124m'\u001B[39m\u001B[38;5;124mPATH\u001B[39m\u001B[38;5;124m'\u001B[39m]))\n\u001B[1;32m----> 8\u001B[0m \u001B[38;5;28;01mimport\u001B[39;00m \u001B[38;5;21;01mpyvips\u001B[39;00m\n\u001B[0;32m      9\u001B[0m \u001B[38;5;28;01mimport\u001B[39;00m \u001B[38;5;21;01mnumpy\u001B[39;00m \u001B[38;5;28;01mas\u001B[39;00m \u001B[38;5;21;01mnp\u001B[39;00m\n\u001B[0;32m     10\u001B[0m \u001B[38;5;28;01mfrom\u001B[39;00m \u001B[38;5;21;01mPIL\u001B[39;00m \u001B[38;5;28;01mimport\u001B[39;00m Image\n",
      "File \u001B[1;32m~\\.conda\\envs\\wsi_analysis38\\lib\\site-packages\\pyvips\\__init__.py:71\u001B[0m\n\u001B[0;32m     69\u001B[0m \u001B[38;5;66;03m# possibly use ctypes.util.find_library() to locate the lib?\u001B[39;00m\n\u001B[0;32m     70\u001B[0m gobject_lib \u001B[38;5;241m=\u001B[39m ffi\u001B[38;5;241m.\u001B[39mdlopen(_gobject_libname)\n\u001B[1;32m---> 71\u001B[0m vips_lib \u001B[38;5;241m=\u001B[39m \u001B[43mffi\u001B[49m\u001B[38;5;241;43m.\u001B[39;49m\u001B[43mdlopen\u001B[49m\u001B[43m(\u001B[49m\u001B[43m_vips_libname\u001B[49m\u001B[43m)\u001B[49m\n\u001B[0;32m     72\u001B[0m \u001B[38;5;28;01mif\u001B[39;00m _glib_libname:\n\u001B[0;32m     73\u001B[0m     glib_lib \u001B[38;5;241m=\u001B[39m ffi\u001B[38;5;241m.\u001B[39mdlopen(_glib_libname)\n",
      "File \u001B[1;32m~\\AppData\\Roaming\\Python\\Python38\\site-packages\\cffi\\api.py:150\u001B[0m, in \u001B[0;36mFFI.dlopen\u001B[1;34m(self, name, flags)\u001B[0m\n\u001B[0;32m    147\u001B[0m     \u001B[38;5;28;01mraise\u001B[39;00m \u001B[38;5;167;01mTypeError\u001B[39;00m(\u001B[38;5;124m\"\u001B[39m\u001B[38;5;124mdlopen(name): name must be a file name, None, \u001B[39m\u001B[38;5;124m\"\u001B[39m\n\u001B[0;32m    148\u001B[0m                     \u001B[38;5;124m\"\u001B[39m\u001B[38;5;124mor an already-opened \u001B[39m\u001B[38;5;124m'\u001B[39m\u001B[38;5;124mvoid *\u001B[39m\u001B[38;5;124m'\u001B[39m\u001B[38;5;124m handle\u001B[39m\u001B[38;5;124m\"\u001B[39m)\n\u001B[0;32m    149\u001B[0m \u001B[38;5;28;01mwith\u001B[39;00m \u001B[38;5;28mself\u001B[39m\u001B[38;5;241m.\u001B[39m_lock:\n\u001B[1;32m--> 150\u001B[0m     lib, function_cache \u001B[38;5;241m=\u001B[39m \u001B[43m_make_ffi_library\u001B[49m\u001B[43m(\u001B[49m\u001B[38;5;28;43mself\u001B[39;49m\u001B[43m,\u001B[49m\u001B[43m \u001B[49m\u001B[43mname\u001B[49m\u001B[43m,\u001B[49m\u001B[43m \u001B[49m\u001B[43mflags\u001B[49m\u001B[43m)\u001B[49m\n\u001B[0;32m    151\u001B[0m     \u001B[38;5;28mself\u001B[39m\u001B[38;5;241m.\u001B[39m_function_caches\u001B[38;5;241m.\u001B[39mappend(function_cache)\n\u001B[0;32m    152\u001B[0m     \u001B[38;5;28mself\u001B[39m\u001B[38;5;241m.\u001B[39m_libraries\u001B[38;5;241m.\u001B[39mappend(lib)\n",
      "File \u001B[1;32m~\\AppData\\Roaming\\Python\\Python38\\site-packages\\cffi\\api.py:832\u001B[0m, in \u001B[0;36m_make_ffi_library\u001B[1;34m(ffi, libname, flags)\u001B[0m\n\u001B[0;32m    830\u001B[0m \u001B[38;5;28;01mdef\u001B[39;00m \u001B[38;5;21m_make_ffi_library\u001B[39m(ffi, libname, flags):\n\u001B[0;32m    831\u001B[0m     backend \u001B[38;5;241m=\u001B[39m ffi\u001B[38;5;241m.\u001B[39m_backend\n\u001B[1;32m--> 832\u001B[0m     backendlib \u001B[38;5;241m=\u001B[39m \u001B[43m_load_backend_lib\u001B[49m\u001B[43m(\u001B[49m\u001B[43mbackend\u001B[49m\u001B[43m,\u001B[49m\u001B[43m \u001B[49m\u001B[43mlibname\u001B[49m\u001B[43m,\u001B[49m\u001B[43m \u001B[49m\u001B[43mflags\u001B[49m\u001B[43m)\u001B[49m\n\u001B[0;32m    833\u001B[0m     \u001B[38;5;66;03m#\u001B[39;00m\n\u001B[0;32m    834\u001B[0m     \u001B[38;5;28;01mdef\u001B[39;00m \u001B[38;5;21maccessor_function\u001B[39m(name):\n",
      "File \u001B[1;32m~\\AppData\\Roaming\\Python\\Python38\\site-packages\\cffi\\api.py:828\u001B[0m, in \u001B[0;36m_load_backend_lib\u001B[1;34m(backend, name, flags)\u001B[0m\n\u001B[0;32m    826\u001B[0m         msg \u001B[38;5;241m=\u001B[39m \u001B[38;5;124m\"\u001B[39m\u001B[38;5;132;01m%s\u001B[39;00m\u001B[38;5;124m.  Additionally, \u001B[39m\u001B[38;5;132;01m%s\u001B[39;00m\u001B[38;5;124m\"\u001B[39m \u001B[38;5;241m%\u001B[39m (first_error, msg)\n\u001B[0;32m    827\u001B[0m     \u001B[38;5;28;01mraise\u001B[39;00m \u001B[38;5;167;01mOSError\u001B[39;00m(msg)\n\u001B[1;32m--> 828\u001B[0m \u001B[38;5;28;01mreturn\u001B[39;00m \u001B[43mbackend\u001B[49m\u001B[38;5;241;43m.\u001B[39;49m\u001B[43mload_library\u001B[49m\u001B[43m(\u001B[49m\u001B[43mpath\u001B[49m\u001B[43m,\u001B[49m\u001B[43m \u001B[49m\u001B[43mflags\u001B[49m\u001B[43m)\u001B[49m\n",
      "\u001B[1;31mOSError\u001B[0m: cannot load library 'C:\\Users\\labadmin\\Documents\\vips-dev-8.14\\bin\\libvips-42.dll': error 0x7f"
     ]
    }
   ],
   "source": [
    "import os\n",
    "vipsbin = r'C:\\Users\\labadmin\\Documents\\vips-dev-8.14\\bin'\n",
    "add_dll_dir = getattr(os, 'add_dll_directory', None)\n",
    "if callable(add_dll_dir):\n",
    "    add_dll_dir(vipsbin)\n",
    "else:\n",
    "    os.environ['PATH'] = os.pathsep.join((vipsbin, os.environ['PATH']))\n",
    "import pyvips\n",
    "import numpy as np\n",
    "from PIL import Image\n",
    "Image.MAX_IMAGE_PIXELS = None\n",
    "import time\n",
    "from tqdm import tqdm"
   ],
   "metadata": {
    "collapsed": false
   }
  },
  {
   "cell_type": "code",
   "execution_count": 15,
   "outputs": [],
   "source": [
    "def return_row_col(image_dir):\n",
    "    imlist = [x for x in os.listdir(image_dir) if x.endswith('.png')]\n",
    "    min_x = float('inf')\n",
    "    min_y = float('inf')\n",
    "    max_x = float('-inf')\n",
    "    max_y = float('-inf')\n",
    "    start = time.time()\n",
    "    for filename in tqdm(imlist, desc=\"Number of images processed\", colour='red'):\n",
    "        x, y = map(int, filename.split('xy')[0].split('.png')[0].split('_'))\n",
    "        if x < min_x:\n",
    "            min_x = x\n",
    "        if y < min_y:\n",
    "            min_y = y\n",
    "        if x > max_x:\n",
    "            max_x = x\n",
    "        if y > max_y:\n",
    "            max_y = y\n",
    "    end = time.time()\n",
    "    max_min_ra = min_x, min_y, max_x, max_y\n",
    "    num_row = int((max_x + 1024 - min_x) / 1024)\n",
    "    num_col = int((max_y + 1024 - min_y) / 1024)\n",
    "    print(\"time it took: {} minutes\".format((round(end - start) / 60), 3))\n",
    "    return max_min_ra, num_row, num_col\n",
    "\n",
    "def generate_5d_array(image_dir, min_x, min_y, num_rows, num_cols):\n",
    "    array_5d = np.zeros((num_cols, num_rows, 1024, 1024, 3), dtype=np.uint8)\n",
    "    imlist = [x for x in os.listdir(image_dir) if x.endswith('.png')]\n",
    "    start = time.time()\n",
    "    for filename in tqdm(imlist, desc=\"Number of images processed\", colour='red'):\n",
    "        x, y = map(int, filename.split('xy')[0].split('.png')[0].split('_'))\n",
    "        x = int((x - min_x) / 1024)\n",
    "        y = int((y - min_y) / 1024)\n",
    "        image = Image.open(os.path.join(image_dir, filename))\n",
    "        image = np.array(image)\n",
    "        array_5d[y, x, :, :, :] = image\n",
    "    end = time.time()\n",
    "    print(\"time it took: {} minutes\".format((round(end - start) / 60), 3))\n",
    "    return array_5d\n"
   ],
   "metadata": {
    "collapsed": false,
    "ExecuteTime": {
     "start_time": "2023-04-21T01:17:05.958054Z",
     "end_time": "2023-04-21T01:17:05.966595Z"
    }
   }
  },
  {
   "cell_type": "code",
   "execution_count": null,
   "outputs": [],
   "source": [
    "tile_src = r'\\\\shelter\\Kyu\\unstain2stain\\tiles\\registrated_tiles\\Syn_HE\\OTS_14684_1_parfor'\n",
    "max_min_ra, num_row, num_col = return_row_col(tile_src)\n",
    "min_x = max_min_ra[0]\n",
    "min_y = max_min_ra[1]\n",
    "print(\"min_x is {}, min_y is {}, num_row is {}, num_col is {}\".format(min_x, min_y, num_row, num_col))\n",
    "tiles = generate_5d_array(image_dir = tile_src,min_x = min_x,min_y = min_y,num_rows = num_row,num_cols = num_col)\n",
    "print(\"shape of tiles is {}\".format(tiles.shape))\n",
    "stitched_wsi = np.reshape(tiles.swapaxes(1,2),(1024*num_col,1024*num_row,3))\n",
    "print(\"shape of reconstructed wsi is {}\".format(stitched_wsi.shape))"
   ],
   "metadata": {
    "collapsed": false
   }
  },
  {
   "cell_type": "code",
   "execution_count": null,
   "outputs": [],
   "source": [
    "start = time.time()\n",
    "im = pyvips.Image.new_from_array(stitched_wsi)\n",
    "image_height = im.height\n",
    "image_bands = im.bands\n",
    "print(\"imheight imwidth\", image_height, im.width)\n",
    "im = im.copy()\n",
    "im.set_type(pyvips.GValue.gint_type, \"page-height\", image_height)\n",
    "im.set_type(pyvips.GValue.gstr_type, \"image-description\",\n",
    "            f\"\"\"<?xml version=\"1.0\" encoding=\"UTF-8\"?>\n",
    "<OME xmlns=\"http://www.openmicroscopy.org/Schemas/OME/2016-06\"\n",
    "    xmlns:xsi=\"http://www.w3.org/2001/XMLSchema-instance\"\n",
    "    xsi:schemaLocation=\"http://www.openmicroscopy.org/Schemas/OME/2016-06 http://www.openmicroscopy.org/Schemas/OME/2016-06/ome.xsd\">\n",
    "    <Image ID=\"Image:0\">\n",
    "        <!-- Minimum required fields about image dimensions -->\n",
    "        <Pixels DimensionOrder=\"XYCZT\"\n",
    "                ID=\"Pixels:0\"\n",
    "                SizeC=\"{image_bands}\"\n",
    "                SizeT=\"1\"\n",
    "                SizeX=\"{im.width}\"\n",
    "                SizeY=\"{image_height}\"\n",
    "                SizeZ=\"1\"\n",
    "                Type=\"uint8\">\n",
    "        </Pixels>\n",
    "    </Image>\n",
    "</OME>\"\"\")\n",
    "end = time.time()\n",
    "print(\"time it took to set ometiff up took {} minutes\".format((round(end - start) / 60), 3))\n",
    "\n",
    "start = time.time()\n",
    "dst = os.path.join(tile_src,'stitched')\n",
    "if not os.path.exists(dst): os.mkdir(dst)\n",
    "im.tiffsave(os.path.join(dst, 'stitched.ome.tiff'), compression=\"jpeg\", tile=True, tile_width=512,\n",
    "            tile_height=512, pyramid=True, subifd=True)\n",
    "end = time.time()\n",
    "print(\"time it took to save ometiff took {} minutes\".format((round(end-start)/60),3))\n"
   ],
   "metadata": {
    "collapsed": false
   }
  }
 ],
 "metadata": {
  "kernelspec": {
   "display_name": "Python 3",
   "language": "python",
   "name": "python3"
  },
  "language_info": {
   "codemirror_mode": {
    "name": "ipython",
    "version": 2
   },
   "file_extension": ".py",
   "mimetype": "text/x-python",
   "name": "python",
   "nbconvert_exporter": "python",
   "pygments_lexer": "ipython2",
   "version": "2.7.6"
  }
 },
 "nbformat": 4,
 "nbformat_minor": 0
}
