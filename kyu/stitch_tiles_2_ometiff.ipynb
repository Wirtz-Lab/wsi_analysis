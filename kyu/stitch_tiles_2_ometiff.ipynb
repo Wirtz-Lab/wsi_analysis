{
 "cells": [
  {
   "cell_type": "code",
   "execution_count": 3,
   "outputs": [],
   "source": [
    "import os\n",
    "vipshome = r'C:\\Users\\labadmin\\Documents\\vips-dev-8.14\\bin'\n",
    "os.environ['PATH'] = vipshome + ';' + os.environ['PATH']\n",
    "import pyvips\n",
    "import numpy as np\n",
    "from PIL import Image\n",
    "Image.MAX_IMAGE_PIXELS = None\n",
    "import time\n",
    "from tqdm import tqdm"
   ],
   "metadata": {
    "collapsed": false
   }
  },
  {
   "cell_type": "code",
   "execution_count": 4,
   "outputs": [],
   "source": [
    "def return_row_col(image_dir):\n",
    "    imlist = [x for x in os.listdir(image_dir) if x.endswith('.png')]\n",
    "    min_x = float('inf')\n",
    "    min_y = float('inf')\n",
    "    max_x = float('-inf')\n",
    "    max_y = float('-inf')\n",
    "    start = time.time()\n",
    "    for filename in tqdm(imlist, desc=\"Number of images processed\", colour='red'):\n",
    "        x, y = map(int, filename.split('xy')[0].split('.png')[0].split('_'))\n",
    "        if x < min_x:\n",
    "            min_x = x\n",
    "        if y < min_y:\n",
    "            min_y = y\n",
    "        if x > max_x:\n",
    "            max_x = x\n",
    "        if y > max_y:\n",
    "            max_y = y\n",
    "    end = time.time()\n",
    "    max_min_ra = min_x, min_y, max_x, max_y\n",
    "    num_row = int((max_x + 1024 - min_x) / 1024)\n",
    "    num_col = int((max_y + 1024 - min_y) / 1024)\n",
    "    print(\"time it took: {} minutes\".format((round(end - start) / 60), 3))\n",
    "    return max_min_ra, num_row, num_col\n",
    "\n",
    "def generate_5d_array(image_dir, min_x, min_y, num_rows, num_cols):\n",
    "    array_5d = np.zeros((num_cols, num_rows, 1024, 1024, 3), dtype=np.uint8)\n",
    "    imlist = [x for x in os.listdir(image_dir) if x.endswith('.png')]\n",
    "    start = time.time()\n",
    "    for filename in tqdm(imlist, desc=\"Number of images processed\", colour='red'):\n",
    "        x, y = map(int, filename.split('xy')[0].split('.png')[0].split('_'))\n",
    "        x = int((x - min_x) / 1024)\n",
    "        y = int((y - min_y) / 1024)\n",
    "        image = Image.open(os.path.join(image_dir, filename))\n",
    "        image = np.array(image)\n",
    "        array_5d[y, x, :, :, :] = image\n",
    "    end = time.time()\n",
    "    print(\"time it took: {} minutes\".format((round(end - start) / 60), 3))\n",
    "    return array_5d\n"
   ],
   "metadata": {
    "collapsed": false,
    "ExecuteTime": {
     "start_time": "2023-04-21T01:17:05.958054Z",
     "end_time": "2023-04-21T01:17:05.966595Z"
    }
   }
  },
  {
   "cell_type": "code",
   "execution_count": 5,
   "outputs": [
    {
     "name": "stderr",
     "output_type": "stream",
     "text": [
      "Number of images processed: 100%|\u001B[31m██████████\u001B[0m| 12905/12905 [00:00<00:00, 1433878.86it/s]\n"
     ]
    },
    {
     "name": "stdout",
     "output_type": "stream",
     "text": [
      "time it took: 0.0 minutes\n",
      "min_x is 8801, min_y is 787, num_row is 145, num_col is 89\n"
     ]
    },
    {
     "name": "stderr",
     "output_type": "stream",
     "text": [
      "Number of images processed: 100%|\u001B[31m██████████\u001B[0m| 12905/12905 [11:45<00:00, 18.30it/s]\n"
     ]
    },
    {
     "name": "stdout",
     "output_type": "stream",
     "text": [
      "time it took: 11.75 minutes\n",
      "shape of tiles is (89, 145, 1024, 1024, 3)\n",
      "shape of reconstructed wsi is (91136, 148480, 3)\n"
     ]
    }
   ],
   "source": [
    "tile_src = r'\\\\shelter\\Kyu\\unstain2stain\\tiles\\registrated_tiles\\Syn_HE\\OTS_14684_1_parfor'\n",
    "max_min_ra, num_row, num_col = return_row_col(tile_src)\n",
    "min_x = max_min_ra[0]\n",
    "min_y = max_min_ra[1]\n",
    "print(\"min_x is {}, min_y is {}, num_row is {}, num_col is {}\".format(min_x, min_y, num_row, num_col))\n",
    "\n",
    "#slow to open image in for 12min\n",
    "tiles = generate_5d_array(image_dir = tile_src,min_x = min_x,min_y = min_y,num_rows = num_row,num_cols = num_col)\n",
    "print(\"shape of tiles is {}\".format(tiles.shape))\n",
    "\n",
    "stitched_wsi = np.reshape(tiles.swapaxes(1,2),(1024*num_col,1024*num_row,3))\n",
    "print(\"shape of reconstructed wsi is {}\".format(stitched_wsi.shape))"
   ],
   "metadata": {
    "collapsed": false
   }
  },
  {
   "cell_type": "code",
   "execution_count": 6,
   "outputs": [
    {
     "name": "stdout",
     "output_type": "stream",
     "text": [
      "imheight imwidth 91136 148480\n",
      "time it took to set ometiff up took 0.0 minutes\n",
      "time it took to save ometiff took 12.15 minutes\n"
     ]
    }
   ],
   "source": [
    "start = time.time()\n",
    "im = pyvips.Image.new_from_array(stitched_wsi)\n",
    "image_height = im.height\n",
    "image_bands = im.bands\n",
    "print(\"imheight imwidth\", image_height, im.width)\n",
    "im = im.copy()\n",
    "im.set_type(pyvips.GValue.gint_type, \"page-height\", image_height)\n",
    "im.set_type(pyvips.GValue.gstr_type, \"image-description\",\n",
    "            f\"\"\"<?xml version=\"1.0\" encoding=\"UTF-8\"?>\n",
    "<OME xmlns=\"http://www.openmicroscopy.org/Schemas/OME/2016-06\"\n",
    "    xmlns:xsi=\"http://www.w3.org/2001/XMLSchema-instance\"\n",
    "    xsi:schemaLocation=\"http://www.openmicroscopy.org/Schemas/OME/2016-06 http://www.openmicroscopy.org/Schemas/OME/2016-06/ome.xsd\">\n",
    "    <Image ID=\"Image:0\">\n",
    "        <!-- Minimum required fields about image dimensions -->\n",
    "        <Pixels DimensionOrder=\"XYCZT\"\n",
    "                ID=\"Pixels:0\"\n",
    "                SizeC=\"{image_bands}\"\n",
    "                SizeT=\"1\"\n",
    "                SizeX=\"{im.width}\"\n",
    "                SizeY=\"{image_height}\"\n",
    "                SizeZ=\"1\"\n",
    "                Type=\"uint8\">\n",
    "        </Pixels>\n",
    "    </Image>\n",
    "</OME>\"\"\")\n",
    "end = time.time()\n",
    "print(\"time it took to set ometiff up took {} minutes\".format((round(end - start) / 60), 3))\n",
    "\n",
    "#12min\n",
    "start = time.time()\n",
    "dst = os.path.join(tile_src,'stitched')\n",
    "if not os.path.exists(dst): os.mkdir(dst)\n",
    "im.tiffsave(os.path.join(dst, 'stitched.ome.tiff'), compression=\"jpeg\", tile=True, tile_width=512,\n",
    "            tile_height=512, pyramid=True, subifd=True)\n",
    "end = time.time()\n",
    "print(\"time it took to save ometiff took {} minutes\".format((round(end-start)/60),3))\n"
   ],
   "metadata": {
    "collapsed": false
   }
  },
  {
   "cell_type": "code",
   "execution_count": null,
   "outputs": [],
   "source": [],
   "metadata": {
    "collapsed": false
   }
  }
 ],
 "metadata": {
  "kernelspec": {
   "display_name": "Python 3",
   "language": "python",
   "name": "python3"
  },
  "language_info": {
   "codemirror_mode": {
    "name": "ipython",
    "version": 2
   },
   "file_extension": ".py",
   "mimetype": "text/x-python",
   "name": "python",
   "nbconvert_exporter": "python",
   "pygments_lexer": "ipython2",
   "version": "2.7.6"
  }
 },
 "nbformat": 4,
 "nbformat_minor": 0
}
