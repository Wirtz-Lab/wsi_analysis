{
 "cells": [
  {
   "cell_type": "code",
   "execution_count": 1,
   "metadata": {
    "collapsed": true
   },
   "outputs": [],
   "source": [
    "import pandas as pd\n",
    "from openslide import OpenSlide\n",
    "from PIL import Image\n",
    "import numpy as np\n",
    "import os\n",
    "from time import time\n",
    "from natsort import natsorted"
   ]
  },
  {
   "cell_type": "code",
   "execution_count": 2,
   "outputs": [],
   "source": [
    "def svs2tiff(svs,rsf):\n",
    "    src,fn = os.path.split(svs)\n",
    "    fn,ext = os.path.splitext(fn)\n",
    "    fn1 = fn + '.tif'\n",
    "    if os.path.exists(os.path.join(wsi_dst,fn1)): return\n",
    "    print(fn)\n",
    "    svs_obj = OpenSlide(svs)\n",
    "    svs_img = svs_obj.read_region(location=(0,0),level=0,size=svs_obj.level_dimensions[0]).convert('RGB')\n",
    "    resize_factorx = rsf/float(svs_obj.properties['openslide.mpp-x']) #8um = 1.25x #4um = 2.5x, #2um=5x, 1um=10x, 0.5um=20x, 0.25um=40x\n",
    "    resize_factory = rsf/float(svs_obj.properties['openslide.mpp-y'])\n",
    "    resize_dimension = tuple([int(np.ceil(svs_obj.dimensions[0]/resize_factorx)),int(np.ceil(svs_obj.dimensions[1]/resize_factory))])\n",
    "    svs_img = svs_img.resize(resize_dimension,resample=Image.NEAREST)\n",
    "    svs_img.save(os.path.join(wsi_dst,fn1),resolution=1,resolution_unit=1,quality=100,compression=None)"
   ],
   "metadata": {
    "collapsed": false
   }
  },
  {
   "cell_type": "code",
   "execution_count": null,
   "outputs": [],
   "source": [
    "# svs_src = r'\\\\fatherserverdw\\Q\\research\\images\\CLUE\\3D study\\he\\c2'\n",
    "# svs_dst = r'\\\\fatherserverdw\\Q\\research\\images\\CLUE\\3D study\\he\\c2\\1um'\n",
    "# if not os.path.exists(svs_dst):\n",
    "#     os.mkdir(svs_dst)\n",
    "# svss = [os.path.join(svs_src,_) for _ in os.listdir(svs_src) if _.endswith(('ndpi','svs')) ]\n",
    "# svss = natsorted(svss)"
   ],
   "metadata": {
    "collapsed": false,
    "pycharm": {
     "name": "#%%\n"
    }
   }
  },
  {
   "cell_type": "code",
   "execution_count": null,
   "outputs": [],
   "source": [
    "lut = pd.read_excel(r\"\\\\fatherserverdw\\kyuex\\imlist_all.xlsx\")\n",
    "healthylut = lut[lut['student score']>1]\n",
    "healthylut"
   ],
   "metadata": {
    "collapsed": false,
    "pycharm": {
     "name": "#%%\n"
    }
   }
  },
  {
   "cell_type": "code",
   "execution_count": null,
   "outputs": [],
   "source": [
    "wsi_src = r'\\\\fatherserverdw\\kyuex\\clue images'\n",
    "wsi_dst = r'\\\\fatherserverdw\\kyuex\\clue images\\1um'\n",
    "wsis = [os.path.join(wsi_src,_) for _ in healthylut.filename]\n",
    "wsis = natsorted(wsis)\n",
    "len(wsis)"
   ],
   "metadata": {
    "collapsed": false,
    "pycharm": {
     "name": "#%%\n"
    }
   }
  },
  {
   "cell_type": "code",
   "execution_count": null,
   "outputs": [],
   "source": [
    "dstlist = [os.path.splitext(_)[0] for _ in os.listdir(r\"\\\\fatherserverdw\\kyuex\\clue images\\1um\") if _.endswith('tif')]\n",
    "srclist = [os.path.splitext(_)[0] for _ in healthylut.filename]\n",
    "s = set(dstlist)\n",
    "temp3 = [x for x in srclist if x not in s]\n",
    "len(temp3)"
   ],
   "metadata": {
    "collapsed": false,
    "pycharm": {
     "name": "#%%\n"
    }
   }
  },
  {
   "cell_type": "code",
   "execution_count": null,
   "outputs": [],
   "source": [
    "wsis = [os.path.join(wsi_src,_+'.ndpi') for _ in temp3]\n",
    "wsis = natsorted(wsis)\n",
    "len(wsis)"
   ],
   "metadata": {
    "collapsed": false,
    "pycharm": {
     "name": "#%%\n"
    }
   }
  },
  {
   "cell_type": "code",
   "execution_count": null,
   "outputs": [],
   "source": [
    "wsis=wsis[:50]\n",
    "len(wsis)"
   ],
   "metadata": {
    "collapsed": false,
    "pycharm": {
     "name": "#%%\n"
    }
   }
  },
  {
   "cell_type": "code",
   "execution_count": null,
   "outputs": [],
   "source": [
    "# wsis=wsis[50:100]\n",
    "# len(wsis),wsis[0]"
   ],
   "metadata": {
    "collapsed": false,
    "pycharm": {
     "name": "#%%\n"
    }
   }
  },
  {
   "cell_type": "code",
   "execution_count": 8,
   "outputs": [
    {
     "data": {
      "text/plain": "50"
     },
     "execution_count": 8,
     "metadata": {},
     "output_type": "execute_result"
    }
   ],
   "source": [
    "wsis=wsis[:50]\n",
    "len(wsis)"
   ],
   "metadata": {
    "collapsed": false
   }
  },
  {
   "cell_type": "code",
   "execution_count": 9,
   "outputs": [],
   "source": [
    "# wsis=wsis[50:100]\n",
    "# len(wsis),wsis[0]"
   ],
   "metadata": {
    "collapsed": false
   }
  },
  {
   "cell_type": "code",
   "execution_count": null,
   "outputs": [
    {
     "name": "stdout",
     "output_type": "stream",
     "text": [
      "2022-06-07 13.18.40\n"
     ]
    },
    {
     "name": "stderr",
     "output_type": "stream",
     "text": [
      "C:\\Users\\labuser\\AppData\\Local\\Temp\\ipykernel_13240\\688211719.py:12: DeprecationWarning: NEAREST is deprecated and will be removed in Pillow 10 (2023-07-01). Use Resampling.NEAREST or Dither.NONE instead.\n",
      "  svs_img = svs_img.resize(resize_dimension,resample=Image.NEAREST)\n"
     ]
    },
    {
     "name": "stdout",
     "output_type": "stream",
     "text": [
      "0 / 50\n",
      "2022-06-07 13.29.45\n",
      "1 / 50\n",
      "2022-06-07 13.51.05\n",
      "2 / 50\n",
      "2022-06-07 14.39.32\n",
      "3 / 50\n",
      "2022-06-07 14.56.13\n",
      "4 / 50\n",
      "2022-06-07 16.05.45\n",
      "5 / 50\n",
      "2022-06-07 16.10.49\n"
     ]
    }
   ],
   "source": [
    "st = time()\n",
    "for idx,wsi in enumerate(wsis):\n",
    "    svs2tiff(wsi,1)\n",
    "    print(idx,'/',len(wsis))\n",
    "print(\"{:.2f} sec elapsed for {:d} images at 10x\".format(time()-st,len(wsis)))"
   ],
   "metadata": {
    "collapsed": false,
    "pycharm": {
     "is_executing": true
    }
   }
  }
 ],
 "metadata": {
  "kernelspec": {
   "display_name": "Python 3",
   "language": "python",
   "name": "python3"
  },
  "language_info": {
   "codemirror_mode": {
    "name": "ipython",
    "version": 2
   },
   "file_extension": ".py",
   "mimetype": "text/x-python",
   "name": "python",
   "nbconvert_exporter": "python",
   "pygments_lexer": "ipython2",
   "version": "2.7.6"
  }
 },
 "nbformat": 4,
 "nbformat_minor": 0
}