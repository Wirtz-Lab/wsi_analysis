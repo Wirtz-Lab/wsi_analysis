{
 "cells": [
  {
   "cell_type": "code",
   "execution_count": 1,
   "metadata": {
    "collapsed": true,
    "pycharm": {
     "name": "#%%\n"
    }
   },
   "outputs": [],
   "source": [
    "import pandas as pd\n",
    "from openslide import OpenSlide\n",
    "from PIL import Image\n",
    "import numpy as np\n",
    "import os\n",
    "from time import time\n",
    "from natsort import natsorted"
   ]
  },
  {
   "cell_type": "code",
   "execution_count": 2,
   "outputs": [],
   "source": [
    "def svs2tiff(svs,rsf):\n",
    "    src,fn = os.path.split(svs)\n",
    "    fn,ext = os.path.splitext(fn)\n",
    "    fn1 = fn + '.tif'\n",
    "    if os.path.exists(os.path.join(wsi_dst,fn1)): return\n",
    "    print(fn)\n",
    "    svs_obj = OpenSlide(svs)\n",
    "    svs_img = svs_obj.read_region(location=(0,0),level=0,size=svs_obj.level_dimensions[0]).convert('RGB')\n",
    "    resize_factorx = rsf/float(svs_obj.properties['openslide.mpp-x']) #8um = 1.25x #4um = 2.5x, #2um=5x, 1um=10x, 0.5um=20x, 0.25um=40x\n",
    "    resize_factory = rsf/float(svs_obj.properties['openslide.mpp-y'])\n",
    "    resize_dimension = tuple([int(np.ceil(svs_obj.dimensions[0]/resize_factorx)),int(np.ceil(svs_obj.dimensions[1]/resize_factory))])\n",
    "    svs_img = svs_img.resize(resize_dimension,resample=Image.NEAREST)\n",
    "    svs_img.save(os.path.join(wsi_dst,fn1),resolution=1,resolution_unit=1,quality=100,compression=None)"
   ],
   "metadata": {
    "collapsed": false,
    "pycharm": {
     "name": "#%%\n"
    }
   }
  },
  {
   "cell_type": "code",
   "execution_count": 3,
   "outputs": [
    {
     "data": {
      "text/plain": "      index gender        age  pid  \\\n4        14      M  63.301370    8   \n13       15      M  63.301370    8   \n14       53      M  64.147945   27   \n52       54      M  64.147945   27   \n53       55      M  64.147945   27   \n...     ...    ...        ...  ...   \n1156   1156      F  79.035616  476   \n1157   1158      F  79.035616  476   \n1171   1172      M  68.202740  483   \n1172   1173      M  92.435616  484   \n1180   1181      F  72.712329  485   \n\n                                                   path  \\\n4     \\\\fatherserverdw\\Q\\research\\images\\clue_batch2...   \n13    \\\\fatherserverdw\\Q\\research\\images\\clue_batch2...   \n14    \\\\fatherserverdw\\Q\\research\\images\\clue_batch2...   \n52    \\\\fatherserverdw\\Q\\research\\images\\clue_batch2...   \n53    \\\\fatherserverdw\\Q\\research\\images\\clue_batch2...   \n...                                                 ...   \n1156  \\\\fatherserverdw\\Q\\research\\images\\clue_batch2...   \n1157  \\\\fatherserverdw\\Q\\research\\images\\clue_batch2...   \n1171  \\\\fatherserverdw\\Q\\research\\images\\clue_batch2...   \n1172  \\\\fatherserverdw\\Q\\research\\images\\clue_batch2...   \n1180  \\\\fatherserverdw\\Q\\research\\images\\clue_batch2...   \n\n                      filename  year  sample id label name sub label  ...  \\\n4     2022-06-07 17.10.29.ndpi     2      17359   02-17359         2  ...   \n13    2022-06-07 17.15.33.ndpi     2      17359   02-17359         1  ...   \n14    2022-06-07 16.05.45.ndpi     3       4359    03-4359         3  ...   \n52    2022-06-09 20.12.48.ndpi     3       4359    03-4359         1  ...   \n53    2022-06-09 20.18.08.ndpi     3       4359    03-4359         2  ...   \n...                        ...   ...        ...        ...       ...  ...   \n1156  2022-06-07 14.56.13.ndpi    10       5202    10-5202        A2  ...   \n1157  2022-06-08 16.34.23.ndpi    10       5202    10-5202        A3  ...   \n1171  2022-06-08 16.05.29.ndpi    10       6524    10-6524         A  ...   \n1172  2022-06-07 17.24.15.ndpi    10       6634    10-6634         7  ...   \n1180  2022-06-07 18.06.50.ndpi    10       6683    10-6683       A15  ...   \n\n     Block or Slide?  hypodermis (1=yes, 0=no)  \\\n4               Both                         1   \n13              Both                         0   \n14              Both                         1   \n52              Both                         1   \n53              Both                         1   \n...              ...                       ...   \n1156           Slide                         1   \n1157           Slide                         1   \n1171           Slide                         1   \n1172           Slide                         0   \n1180           Slide                         1   \n\n     healthy score (0=undecided, 1=cannot use, 2=some parts can be used, 3=one of the section can be used as whole, 4=more than one section, 5=all sections are free of damage)  \\\n4                                                   2.0                                                                                                                           \n13                                                  4.0                                                                                                                           \n14                                                  2.0                                                                                                                           \n52                                                  NaN                                                                                                                           \n53                                                  NaN                                                                                                                           \n...                                                 ...                                                                                                                           \n1156                                                2.0                                                                                                                           \n1157                                                2.0                                                                                                                           \n1171                                                2.0                                                                                                                           \n1172                                                2.0                                                                                                                           \n1180                                                2.0                                                                                                                           \n\n                     score note student score  \\\n4               collagen damage             2   \n13             collagen damage?             4   \n14                inflammation?             2   \n52                          NaN             2   \n53                          NaN             2   \n...                         ...           ...   \n1156  physical damage to dermis             2   \n1157            collagen damage             2   \n1171                inflamation             2   \n1172                 sun damage             2   \n1180            collagen damage             2   \n\n     ROI ANNOTATED (0 :not annotated 1.annotated) roi reviewed Nroi  \\\n4                                               1          1.0  NaN   \n13                                              1          1.0  NaN   \n14                                              1          1.0  NaN   \n52                                              1          1.0  NaN   \n53                                              1          1.0  NaN   \n...                                           ...          ...  ...   \n1156                                            1          1.0  NaN   \n1157                                            1          1.0  NaN   \n1171                                            1          1.0  NaN   \n1172                                            1          1.0  NaN   \n1180                                            1          1.0  NaN   \n\n     Inbal Score                                      Inbal comment  \n4            NaN                                                NaN  \n13           4.0                    left two are good within purple  \n14           2.0  could use the left aspect of the left piece (b...  \n52           NaN                                                NaN  \n53           NaN                                                NaN  \n...          ...                                                ...  \n1156         NaN                                                NaN  \n1157         NaN                                                NaN  \n1171         NaN                                                NaN  \n1172         NaN                                                NaN  \n1180         NaN                                                NaN  \n\n[216 rows x 28 columns]",
      "text/html": "<div>\n<style scoped>\n    .dataframe tbody tr th:only-of-type {\n        vertical-align: middle;\n    }\n\n    .dataframe tbody tr th {\n        vertical-align: top;\n    }\n\n    .dataframe thead th {\n        text-align: right;\n    }\n</style>\n<table border=\"1\" class=\"dataframe\">\n  <thead>\n    <tr style=\"text-align: right;\">\n      <th></th>\n      <th>index</th>\n      <th>gender</th>\n      <th>age</th>\n      <th>pid</th>\n      <th>path</th>\n      <th>filename</th>\n      <th>year</th>\n      <th>sample id</th>\n      <th>label name</th>\n      <th>sub label</th>\n      <th>...</th>\n      <th>Block or Slide?</th>\n      <th>hypodermis (1=yes, 0=no)</th>\n      <th>healthy score (0=undecided, 1=cannot use, 2=some parts can be used, 3=one of the section can be used as whole, 4=more than one section, 5=all sections are free of damage)</th>\n      <th>score note</th>\n      <th>student score</th>\n      <th>ROI ANNOTATED (0 :not annotated 1.annotated)</th>\n      <th>roi reviewed</th>\n      <th>Nroi</th>\n      <th>Inbal Score</th>\n      <th>Inbal comment</th>\n    </tr>\n  </thead>\n  <tbody>\n    <tr>\n      <th>4</th>\n      <td>14</td>\n      <td>M</td>\n      <td>63.301370</td>\n      <td>8</td>\n      <td>\\\\fatherserverdw\\Q\\research\\images\\clue_batch2...</td>\n      <td>2022-06-07 17.10.29.ndpi</td>\n      <td>2</td>\n      <td>17359</td>\n      <td>02-17359</td>\n      <td>2</td>\n      <td>...</td>\n      <td>Both</td>\n      <td>1</td>\n      <td>2.0</td>\n      <td>collagen damage</td>\n      <td>2</td>\n      <td>1</td>\n      <td>1.0</td>\n      <td>NaN</td>\n      <td>NaN</td>\n      <td>NaN</td>\n    </tr>\n    <tr>\n      <th>13</th>\n      <td>15</td>\n      <td>M</td>\n      <td>63.301370</td>\n      <td>8</td>\n      <td>\\\\fatherserverdw\\Q\\research\\images\\clue_batch2...</td>\n      <td>2022-06-07 17.15.33.ndpi</td>\n      <td>2</td>\n      <td>17359</td>\n      <td>02-17359</td>\n      <td>1</td>\n      <td>...</td>\n      <td>Both</td>\n      <td>0</td>\n      <td>4.0</td>\n      <td>collagen damage?</td>\n      <td>4</td>\n      <td>1</td>\n      <td>1.0</td>\n      <td>NaN</td>\n      <td>4.0</td>\n      <td>left two are good within purple</td>\n    </tr>\n    <tr>\n      <th>14</th>\n      <td>53</td>\n      <td>M</td>\n      <td>64.147945</td>\n      <td>27</td>\n      <td>\\\\fatherserverdw\\Q\\research\\images\\clue_batch2...</td>\n      <td>2022-06-07 16.05.45.ndpi</td>\n      <td>3</td>\n      <td>4359</td>\n      <td>03-4359</td>\n      <td>3</td>\n      <td>...</td>\n      <td>Both</td>\n      <td>1</td>\n      <td>2.0</td>\n      <td>inflammation?</td>\n      <td>2</td>\n      <td>1</td>\n      <td>1.0</td>\n      <td>NaN</td>\n      <td>2.0</td>\n      <td>could use the left aspect of the left piece (b...</td>\n    </tr>\n    <tr>\n      <th>52</th>\n      <td>54</td>\n      <td>M</td>\n      <td>64.147945</td>\n      <td>27</td>\n      <td>\\\\fatherserverdw\\Q\\research\\images\\clue_batch2...</td>\n      <td>2022-06-09 20.12.48.ndpi</td>\n      <td>3</td>\n      <td>4359</td>\n      <td>03-4359</td>\n      <td>1</td>\n      <td>...</td>\n      <td>Both</td>\n      <td>1</td>\n      <td>NaN</td>\n      <td>NaN</td>\n      <td>2</td>\n      <td>1</td>\n      <td>1.0</td>\n      <td>NaN</td>\n      <td>NaN</td>\n      <td>NaN</td>\n    </tr>\n    <tr>\n      <th>53</th>\n      <td>55</td>\n      <td>M</td>\n      <td>64.147945</td>\n      <td>27</td>\n      <td>\\\\fatherserverdw\\Q\\research\\images\\clue_batch2...</td>\n      <td>2022-06-09 20.18.08.ndpi</td>\n      <td>3</td>\n      <td>4359</td>\n      <td>03-4359</td>\n      <td>2</td>\n      <td>...</td>\n      <td>Both</td>\n      <td>1</td>\n      <td>NaN</td>\n      <td>NaN</td>\n      <td>2</td>\n      <td>1</td>\n      <td>1.0</td>\n      <td>NaN</td>\n      <td>NaN</td>\n      <td>NaN</td>\n    </tr>\n    <tr>\n      <th>...</th>\n      <td>...</td>\n      <td>...</td>\n      <td>...</td>\n      <td>...</td>\n      <td>...</td>\n      <td>...</td>\n      <td>...</td>\n      <td>...</td>\n      <td>...</td>\n      <td>...</td>\n      <td>...</td>\n      <td>...</td>\n      <td>...</td>\n      <td>...</td>\n      <td>...</td>\n      <td>...</td>\n      <td>...</td>\n      <td>...</td>\n      <td>...</td>\n      <td>...</td>\n      <td>...</td>\n    </tr>\n    <tr>\n      <th>1156</th>\n      <td>1156</td>\n      <td>F</td>\n      <td>79.035616</td>\n      <td>476</td>\n      <td>\\\\fatherserverdw\\Q\\research\\images\\clue_batch2...</td>\n      <td>2022-06-07 14.56.13.ndpi</td>\n      <td>10</td>\n      <td>5202</td>\n      <td>10-5202</td>\n      <td>A2</td>\n      <td>...</td>\n      <td>Slide</td>\n      <td>1</td>\n      <td>2.0</td>\n      <td>physical damage to dermis</td>\n      <td>2</td>\n      <td>1</td>\n      <td>1.0</td>\n      <td>NaN</td>\n      <td>NaN</td>\n      <td>NaN</td>\n    </tr>\n    <tr>\n      <th>1157</th>\n      <td>1158</td>\n      <td>F</td>\n      <td>79.035616</td>\n      <td>476</td>\n      <td>\\\\fatherserverdw\\Q\\research\\images\\clue_batch2...</td>\n      <td>2022-06-08 16.34.23.ndpi</td>\n      <td>10</td>\n      <td>5202</td>\n      <td>10-5202</td>\n      <td>A3</td>\n      <td>...</td>\n      <td>Slide</td>\n      <td>1</td>\n      <td>2.0</td>\n      <td>collagen damage</td>\n      <td>2</td>\n      <td>1</td>\n      <td>1.0</td>\n      <td>NaN</td>\n      <td>NaN</td>\n      <td>NaN</td>\n    </tr>\n    <tr>\n      <th>1171</th>\n      <td>1172</td>\n      <td>M</td>\n      <td>68.202740</td>\n      <td>483</td>\n      <td>\\\\fatherserverdw\\Q\\research\\images\\clue_batch2...</td>\n      <td>2022-06-08 16.05.29.ndpi</td>\n      <td>10</td>\n      <td>6524</td>\n      <td>10-6524</td>\n      <td>A</td>\n      <td>...</td>\n      <td>Slide</td>\n      <td>1</td>\n      <td>2.0</td>\n      <td>inflamation</td>\n      <td>2</td>\n      <td>1</td>\n      <td>1.0</td>\n      <td>NaN</td>\n      <td>NaN</td>\n      <td>NaN</td>\n    </tr>\n    <tr>\n      <th>1172</th>\n      <td>1173</td>\n      <td>M</td>\n      <td>92.435616</td>\n      <td>484</td>\n      <td>\\\\fatherserverdw\\Q\\research\\images\\clue_batch2...</td>\n      <td>2022-06-07 17.24.15.ndpi</td>\n      <td>10</td>\n      <td>6634</td>\n      <td>10-6634</td>\n      <td>7</td>\n      <td>...</td>\n      <td>Slide</td>\n      <td>0</td>\n      <td>2.0</td>\n      <td>sun damage</td>\n      <td>2</td>\n      <td>1</td>\n      <td>1.0</td>\n      <td>NaN</td>\n      <td>NaN</td>\n      <td>NaN</td>\n    </tr>\n    <tr>\n      <th>1180</th>\n      <td>1181</td>\n      <td>F</td>\n      <td>72.712329</td>\n      <td>485</td>\n      <td>\\\\fatherserverdw\\Q\\research\\images\\clue_batch2...</td>\n      <td>2022-06-07 18.06.50.ndpi</td>\n      <td>10</td>\n      <td>6683</td>\n      <td>10-6683</td>\n      <td>A15</td>\n      <td>...</td>\n      <td>Slide</td>\n      <td>1</td>\n      <td>2.0</td>\n      <td>collagen damage</td>\n      <td>2</td>\n      <td>1</td>\n      <td>1.0</td>\n      <td>NaN</td>\n      <td>NaN</td>\n      <td>NaN</td>\n    </tr>\n  </tbody>\n</table>\n<p>216 rows × 28 columns</p>\n</div>"
     },
     "execution_count": 3,
     "metadata": {},
     "output_type": "execute_result"
    }
   ],
   "source": [
    "lut = pd.read_excel(r\"\\\\fatherserverdw\\kyuex\\imlist_all.xlsx\")\n",
    "healthylut = lut[lut['student score']>1]\n",
    "healthylut"
   ],
   "metadata": {
    "collapsed": false,
    "pycharm": {
     "name": "#%%\n"
    }
   }
  },
  {
   "cell_type": "code",
   "execution_count": 4,
   "outputs": [
    {
     "data": {
      "text/plain": "216"
     },
     "execution_count": 4,
     "metadata": {},
     "output_type": "execute_result"
    }
   ],
   "source": [
    "wsi_src = r'\\\\fatherserverdw\\kyuex\\clue images'\n",
    "wsi_dst = r'\\\\fatherserverdw\\kyuex\\clue images\\1um'\n",
    "wsis = [os.path.join(wsi_src,_) for _ in healthylut.filename]\n",
    "wsis = natsorted(wsis)\n",
    "len(wsis)"
   ],
   "metadata": {
    "collapsed": false,
    "pycharm": {
     "name": "#%%\n"
    }
   }
  },
  {
   "cell_type": "code",
   "execution_count": 5,
   "outputs": [
    {
     "data": {
      "text/plain": "162"
     },
     "execution_count": 5,
     "metadata": {},
     "output_type": "execute_result"
    }
   ],
   "source": [
    "dstlist = [os.path.splitext(_)[0] for _ in os.listdir(r\"\\\\fatherserverdw\\kyuex\\clue images\\1um\") if _.endswith('tif')]\n",
    "srclist = [os.path.splitext(_)[0] for _ in healthylut.filename]\n",
    "s = set(dstlist)\n",
    "temp3 = [x for x in srclist if x not in s]\n",
    "len(temp3)"
   ],
   "metadata": {
    "collapsed": false,
    "pycharm": {
     "name": "#%%\n"
    }
   }
  },
  {
   "cell_type": "code",
   "execution_count": 6,
   "outputs": [
    {
     "data": {
      "text/plain": "162"
     },
     "execution_count": 6,
     "metadata": {},
     "output_type": "execute_result"
    }
   ],
   "source": [
    "wsis = [os.path.join(wsi_src,_+'.ndpi') for _ in temp3]\n",
    "wsis = natsorted(wsis)\n",
    "len(wsis)"
   ],
   "metadata": {
    "collapsed": false,
    "pycharm": {
     "name": "#%%\n"
    }
   }
  },
  {
   "cell_type": "code",
   "execution_count": 7,
   "outputs": [
    {
     "data": {
      "text/plain": "50"
     },
     "execution_count": 7,
     "metadata": {},
     "output_type": "execute_result"
    }
   ],
   "source": [
    "wsis=wsis[50:100]\n",
    "len(wsis)"
   ],
   "metadata": {
    "collapsed": false,
    "pycharm": {
     "name": "#%%\n"
    }
   }
  },
  {
   "cell_type": "code",
   "execution_count": null,
   "outputs": [
    {
     "name": "stdout",
     "output_type": "stream",
     "text": [
      "2022-06-09 22.00.47\n"
     ]
    },
    {
     "name": "stderr",
     "output_type": "stream",
     "text": [
      "C:\\Users\\labuser\\AppData\\Local\\Temp\\ipykernel_16532\\688211719.py:12: DeprecationWarning: NEAREST is deprecated and will be removed in Pillow 10 (2023-07-01). Use Resampling.NEAREST or Dither.NONE instead.\n",
      "  svs_img = svs_img.resize(resize_dimension,resample=Image.NEAREST)\n"
     ]
    },
    {
     "name": "stdout",
     "output_type": "stream",
     "text": [
      "0 / 50\n",
      "2022-06-09 22.12.56\n",
      "1 / 50\n",
      "2022-06-10 15.45.48\n",
      "2 / 50\n",
      "2022-06-10 15.47.34\n"
     ]
    }
   ],
   "source": [
    "st = time()\n",
    "for idx,wsi in enumerate(wsis):\n",
    "    svs2tiff(wsi,1)\n",
    "    print(idx,'/',len(wsis))\n",
    "print(\"{:.2f} sec elapsed for {:d} images at 10x\".format(time()-st,len(wsis)))"
   ],
   "metadata": {
    "collapsed": false,
    "pycharm": {
     "name": "#%%\n",
     "is_executing": true
    }
   }
  }
 ],
 "metadata": {
  "kernelspec": {
   "display_name": "Python 3",
   "language": "python",
   "name": "python3"
  },
  "language_info": {
   "codemirror_mode": {
    "name": "ipython",
    "version": 2
   },
   "file_extension": ".py",
   "mimetype": "text/x-python",
   "name": "python",
   "nbconvert_exporter": "python",
   "pygments_lexer": "ipython2",
   "version": "2.7.6"
  }
 },
 "nbformat": 4,
 "nbformat_minor": 0
}