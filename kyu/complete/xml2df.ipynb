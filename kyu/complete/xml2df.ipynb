{
 "cells": [
  {
   "cell_type": "code",
   "execution_count": 4,
   "outputs": [],
   "source": [
    "import xml.etree.ElementTree as ET\n",
    "from time import time\n",
    "import numpy as np\n",
    "from scipy import io\n",
    "import os\n",
    "import pandas as pd"
   ],
   "metadata": {
    "collapsed": false,
    "pycharm": {
     "name": "#%%\n"
    }
   }
  },
  {
   "cell_type": "code",
   "execution_count": 5,
   "outputs": [],
   "source": [
    "# xml_path = absolute filepath of xml\n",
    "# mdict = 2D coordinates of annotation by class and object\n",
    "\n",
    "def xml2mat(xml_path):\n",
    "    print(os.path.basename(xml_path))\n",
    "\n",
    "    # Open XML file\n",
    "    tree = ET.parse(xml_path)\n",
    "    root = tree.getroot()\n",
    "\n",
    "    # Read Class names and put into a list called classlut\n",
    "    classlut = []\n",
    "    for Annotation in root.iter('Annotation'):\n",
    "        for Attrib in Annotation.iter('Attribute'):\n",
    "            classlut.append(Attrib.attrib.get('Name'))\n",
    "    classluts = sorted(classlut)\n",
    "\n",
    "    dfs = []\n",
    "    for idx, Annotation in enumerate(root.iter('Annotation')): #iterate each class\n",
    "        for Region in Annotation.iter('Region'): #iterate each circle\n",
    "            x = np.array([float(Vertex.get('X')) for Vertex in Region.iter('Vertex')]).astype('int') #iterate each vertex\n",
    "            y = np.array([float(Vertex.get('Y')) for Vertex in Region.iter('Vertex')]).astype('int')\n",
    "            objid = np.array([int(Region.get('Id'))])\n",
    "            classname = np.array([classluts[idx]])\n",
    "            df = pd.DataFrame({'classname': classname,\n",
    "                               'objid': objid,\n",
    "                               'x': [x],\n",
    "                               'y': [y], })\n",
    "            dfs.append(df)\n",
    "    dff = pd.concat(dfs).reset_index(drop=True)\n",
    "    #save as MAT file format\n",
    "    mdict = {'x': dff['x'].tolist(), 'y': dff['y'].tolist(), 'objID': dff['objid'].tolist(), 'className': dff['classname'].tolist()}\n",
    "    io.savemat(xml_path.replace('xml', 'mat'), mdict=mdict)\n",
    "    return dff"
   ],
   "metadata": {
    "collapsed": false,
    "pycharm": {
     "name": "#%%\n"
    }
   }
  },
  {
   "cell_type": "code",
   "execution_count": 7,
   "outputs": [
    {
     "name": "stdout",
     "output_type": "stream",
     "text": [
      "167.xml\n",
      "readxml took 0.02 sec\n"
     ]
    }
   ],
   "source": [
    "src = r'\\\\fatherserverdw\\Q\\research\\images\\skin_aging\\annotation\\roi\\xml'\n",
    "start=time()\n",
    "# List Comprehension\n",
    "[xml2mat(os.path.join(src,xmlpth)) for xmlpth in os.listdir(src) if xmlpth.endswith('167.xml')]\n",
    "print('readxml took {:.2f} sec'.format(time() - start))\n",
    "\n"
   ],
   "metadata": {
    "collapsed": false,
    "pycharm": {
     "name": "#%%\n"
    }
   }
  }
 ],
 "metadata": {
  "kernelspec": {
   "name": "python3",
   "language": "python",
   "display_name": "Python 3 (ipykernel)"
  },
  "language_info": {
   "codemirror_mode": {
    "name": "ipython",
    "version": 2
   },
   "file_extension": ".py",
   "mimetype": "text/x-python",
   "name": "python",
   "nbconvert_exporter": "python",
   "pygments_lexer": "ipython2",
   "version": "2.7.6"
  }
 },
 "nbformat": 4,
 "nbformat_minor": 0
}