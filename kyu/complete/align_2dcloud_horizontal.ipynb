{
 "cells": [
  {
   "cell_type": "code",
   "execution_count": null,
   "outputs": [],
   "source": [
    "import numpy as np;\n",
    "import matplotlib.pyplot as plt\n",
    "\n",
    "# xt,yt = np.where(bw)\n",
    "# vertices = np.array([xt[::1000],yt[::1000]]).T\n",
    "\n",
    "vertices = np.random.randn(10000, 2) / 2\n",
    "vertices[:, 0] *= 3\n",
    "vertices[:, 1] += vertices[:, 0] * 0.5;\n",
    "\n",
    "vc = vertices - vertices.mean(axis=0)\n",
    "U, S, Vt = np.linalg.svd(vc)\n",
    "vr = vc @ Vt.T #matrix multiplication\n",
    "\n",
    "plt.figure(figsize=(10, 5))\n",
    "plt.subplot(1,2,1)\n",
    "plt.title('original vertices')\n",
    "plt.scatter(vc[:, 0], vc[:, 1])\n",
    "plt.subplot(1,2,2)\n",
    "plt.title('rotated vertices')\n",
    "plt.scatter(vr[:, 0], vr[:, 1])"
   ],
   "metadata": {
    "collapsed": false,
    "pycharm": {
     "name": "#%%\n"
    }
   }
  }
 ],
 "metadata": {
  "kernelspec": {
   "display_name": "Python 3",
   "language": "python",
   "name": "python3"
  },
  "language_info": {
   "codemirror_mode": {
    "name": "ipython",
    "version": 2
   },
   "file_extension": ".py",
   "mimetype": "text/x-python",
   "name": "python",
   "nbconvert_exporter": "python",
   "pygments_lexer": "ipython2",
   "version": "2.7.6"
  }
 },
 "nbformat": 4,
 "nbformat_minor": 0
}