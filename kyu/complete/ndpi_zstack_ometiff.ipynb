{
 "cells": [
  {
   "cell_type": "code",
   "execution_count": 11,
   "metadata": {
    "collapsed": true
   },
   "outputs": [
    {
     "name": "stdout",
     "output_type": "stream",
     "text": [
      "z stack height : 100\n",
      "writing file\n",
      "/Volumes/Digital pathology image lib/HubMap Skin TMC project/230419 HS-003-D2/raw images/zstack/ndpi_level4_zstack.ome.tiff\n"
     ]
    }
   ],
   "source": [
    "import pyvips  #must use conda to install\n",
    "import os\n",
    "from tqdm import tqdm\n",
    "from natsort import natsorted\n",
    "\n",
    "input_dir = '/Volumes/Digital pathology image lib/HubMap Skin TMC project/230419 HS-003-D2/raw images'\n",
    "output_dir = os.path.join(input_dir, 'zstack')\n",
    "if not os.path.exists(output_dir): os.mkdir(output_dir)\n",
    "\n",
    "ims = [x for x in os.listdir(input_dir) if x.endswith(\".ndpi\")]\n",
    "ims = natsorted(ims)\n",
    "\n",
    "imobjs = []\n",
    "for im in ims:\n",
    "    impth = os.path.join(input_dir, im)\n",
    "    imobj = pyvips.Image.openslideload(impth,level=4)\n",
    "    if imobj.hasalpha(): imobj = imobj[:-1]\n",
    "    imobjs.append(imobj)\n",
    "print('z stack height :',len(imobjs))\n",
    "comp = pyvips.Image.arrayjoin(imobjs, across=1)\n",
    "image_height = imobj.height\n",
    "image_width = imobj.width\n",
    "image_bands = imobj.bands\n",
    "comp = comp.copy()\n",
    "\n",
    "# set minimal OME metadata\n",
    "# before we can modify an image (set metadata in this case), we must take a\n",
    "# private copy\n",
    "comp.set_type(pyvips.GValue.gint_type, \"page-height\", image_height)\n",
    "comp.set_type(pyvips.GValue.gstr_type, \"image-description\",\n",
    "              f\"\"\"<?xml version=\"1.0\" encoding=\"UTF-8\"?>\n",
    "<OME xmlns=\"http://www.openmicroscopy.org/Schemas/OME/2016-06\"\n",
    "    xmlns:xsi=\"http://www.w3.org/2001/XMLSchema-instance\"\n",
    "    xsi:schemaLocation=\"http://www.openmicroscopy.org/Schemas/OME/2016-06 http://www.openmicroscopy.org/Schemas/OME/2016-06/ome.xsd\">\n",
    "    <Image ID=\"Image:0\">\n",
    "        <!-- Minimum required fields about image dimensions -->\n",
    "        <Pixels DimensionOrder=\"XYCZT\"\n",
    "                ID=\"Pixels:0\"\n",
    "                SizeC=\"{image_bands}\"\n",
    "                SizeT=\"1\"\n",
    "                SizeX=\"{image_width}\"\n",
    "                SizeY=\"{image_height}\"\n",
    "                SizeZ=\"{len(imobjs)}\"\n",
    "                Type=\"uint8\">\n",
    "        </Pixels>\n",
    "    </Image>\n",
    "</OME>\"\"\")\n",
    "\n",
    "outfn = 'ndpi_level4_zstack.ome.tiff'\n",
    "#jpeg,jp2k,lzw,\n",
    "print('writing file')\n",
    "# jp2k breaks the format somehow\n",
    "comp.tiffsave(os.path.join(output_dir, outfn), compression=\"jpeg\", tile=True,\n",
    "              tile_width=512, tile_height=512,\n",
    "              pyramid=True, subifd=True)\n",
    "print(os.path.join(output_dir, outfn))"
   ]
  }
 ],
 "metadata": {
  "kernelspec": {
   "display_name": "Python 3",
   "language": "python",
   "name": "python3"
  },
  "language_info": {
   "codemirror_mode": {
    "name": "ipython",
    "version": 2
   },
   "file_extension": ".py",
   "mimetype": "text/x-python",
   "name": "python",
   "nbconvert_exporter": "python",
   "pygments_lexer": "ipython2",
   "version": "2.7.6"
  }
 },
 "nbformat": 4,
 "nbformat_minor": 0
}
