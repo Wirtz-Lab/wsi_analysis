{
 "cells": [
  {
   "cell_type": "code",
   "execution_count": 1,
   "outputs": [
    {
     "name": "stdout",
     "output_type": "stream",
     "text": [
      "0 / 1 2022-06-07 14.27.44.png\n"
     ]
    }
   ],
   "source": [
    "import os\n",
    "from PIL import Image\n",
    "from natsort import natsorted\n",
    "from DLcomposition import DLcomposition\n",
    "import pandas as pd\n",
    "\n",
    "dlsrc = r'\\\\fatherserverdw\\kyuex\\clue images\\1um\\classification_v9_combined'\n",
    "roisrc = r'\\\\fatherserverdw\\kyuex\\clue images\\annotations\\roi\\labeledmask'\n",
    "\n",
    "roilist = [_ for _ in os.listdir(roisrc) if _.endswith('png')]\n",
    "dllist = [_.replace('png','tif') for _ in roilist]\n",
    "roilist = [os.path.join(roisrc,_) for _ in roilist]\n",
    "dllist = [os.path.join(dlsrc,_) for _ in dllist]\n",
    "\n",
    "roilist=natsorted(roilist)[0:1]\n",
    "dllist=natsorted(dllist)[0:1]\n",
    "\n",
    "dfs =[]\n",
    "for idx,(roi,dl) in enumerate(zip(roilist,dllist)):\n",
    "    print(idx,'/',len(roilist),os.path.basename(roi))\n",
    "    roi = Image.open(roi)\n",
    "    dl = Image.open(dl)\n",
    "    df = DLcomposition(roi,dl)\n",
    "    dfs.append(df)\n",
    "\n",
    "df2 = pd.concat(dfs, ignore_index=True)\n",
    "# df2.to_csv('CLUEcomposition2.csv')"
   ],
   "metadata": {
    "collapsed": false,
    "pycharm": {
     "name": "#%%\n"
    }
   }
  },
  {
   "cell_type": "code",
   "execution_count": 2,
   "outputs": [
    {
     "data": {
      "text/plain": "          0       1       2      3      4       5       6       7       8   \\\n0   59902922  472052  290099  11028  33756   85885  117395   71069   94596   \n1  243221074  941976  649235  38061  79533  184034  121100  140723  173137   \n\n       9          10        11  \n0  130509  175733934  66180751  \n1  182782   52980012   4412329  ",
      "text/html": "<div>\n<style scoped>\n    .dataframe tbody tr th:only-of-type {\n        vertical-align: middle;\n    }\n\n    .dataframe tbody tr th {\n        vertical-align: top;\n    }\n\n    .dataframe thead th {\n        text-align: right;\n    }\n</style>\n<table border=\"1\" class=\"dataframe\">\n  <thead>\n    <tr style=\"text-align: right;\">\n      <th></th>\n      <th>0</th>\n      <th>1</th>\n      <th>2</th>\n      <th>3</th>\n      <th>4</th>\n      <th>5</th>\n      <th>6</th>\n      <th>7</th>\n      <th>8</th>\n      <th>9</th>\n      <th>10</th>\n      <th>11</th>\n    </tr>\n  </thead>\n  <tbody>\n    <tr>\n      <th>0</th>\n      <td>59902922</td>\n      <td>472052</td>\n      <td>290099</td>\n      <td>11028</td>\n      <td>33756</td>\n      <td>85885</td>\n      <td>117395</td>\n      <td>71069</td>\n      <td>94596</td>\n      <td>130509</td>\n      <td>175733934</td>\n      <td>66180751</td>\n    </tr>\n    <tr>\n      <th>1</th>\n      <td>243221074</td>\n      <td>941976</td>\n      <td>649235</td>\n      <td>38061</td>\n      <td>79533</td>\n      <td>184034</td>\n      <td>121100</td>\n      <td>140723</td>\n      <td>173137</td>\n      <td>182782</td>\n      <td>52980012</td>\n      <td>4412329</td>\n    </tr>\n  </tbody>\n</table>\n</div>"
     },
     "execution_count": 2,
     "metadata": {},
     "output_type": "execute_result"
    }
   ],
   "source": [
    "df"
   ],
   "metadata": {
    "collapsed": false,
    "pycharm": {
     "name": "#%%\n"
    }
   }
  },
  {
   "cell_type": "code",
   "execution_count": 7,
   "outputs": [
    {
     "data": {
      "text/plain": "           0       1       2      3      4       5       6       7       8  \\\n0   59902922  472052  290099  11028  33756   85885  117395   71069   94596   \n1  243221074  941976  649235  38061  79533  184034  121100  140723  173137   \n\n        9         10        11                imagename  \n0  130509  175733934  66180751  2022-06-07 14.27.44.png  \n1  182782   52980012   4412329  2022-06-07 14.27.44.png  ",
      "text/html": "<div>\n<style scoped>\n    .dataframe tbody tr th:only-of-type {\n        vertical-align: middle;\n    }\n\n    .dataframe tbody tr th {\n        vertical-align: top;\n    }\n\n    .dataframe thead th {\n        text-align: right;\n    }\n</style>\n<table border=\"1\" class=\"dataframe\">\n  <thead>\n    <tr style=\"text-align: right;\">\n      <th></th>\n      <th>0</th>\n      <th>1</th>\n      <th>2</th>\n      <th>3</th>\n      <th>4</th>\n      <th>5</th>\n      <th>6</th>\n      <th>7</th>\n      <th>8</th>\n      <th>9</th>\n      <th>10</th>\n      <th>11</th>\n      <th>imagename</th>\n    </tr>\n  </thead>\n  <tbody>\n    <tr>\n      <th>0</th>\n      <td>59902922</td>\n      <td>472052</td>\n      <td>290099</td>\n      <td>11028</td>\n      <td>33756</td>\n      <td>85885</td>\n      <td>117395</td>\n      <td>71069</td>\n      <td>94596</td>\n      <td>130509</td>\n      <td>175733934</td>\n      <td>66180751</td>\n      <td>2022-06-07 14.27.44.png</td>\n    </tr>\n    <tr>\n      <th>1</th>\n      <td>243221074</td>\n      <td>941976</td>\n      <td>649235</td>\n      <td>38061</td>\n      <td>79533</td>\n      <td>184034</td>\n      <td>121100</td>\n      <td>140723</td>\n      <td>173137</td>\n      <td>182782</td>\n      <td>52980012</td>\n      <td>4412329</td>\n      <td>2022-06-07 14.27.44.png</td>\n    </tr>\n  </tbody>\n</table>\n</div>"
     },
     "execution_count": 7,
     "metadata": {},
     "output_type": "execute_result"
    }
   ],
   "source": [
    "df['imagename'] = os.path.basename(roilist[0])"
   ],
   "metadata": {
    "collapsed": false,
    "pycharm": {
     "name": "#%%\n"
    }
   }
  },
  {
   "cell_type": "code",
   "execution_count": 8,
   "outputs": [
    {
     "data": {
      "text/plain": "   index gender        age  pid  \\\n0    311      M  44.128415  NaN   \n1     92      M  45.616438  NaN   \n2     90      M  45.616438  NaN   \n3     91      M  45.616438  NaN   \n4    472      F  49.445153  NaN   \n\n                                                path  \\\n0  \\\\fatherserverdw\\Q\\research\\images\\clue_batch2...   \n1  \\\\fatherserverdw\\Q\\research\\images\\clue_batch2...   \n2  \\\\fatherserverdw\\Q\\research\\images\\clue_batch2...   \n3  \\\\fatherserverdw\\Q\\research\\images\\clue_batch2...   \n4  \\\\fatherserverdw\\Q\\research\\images\\clue_batch2...   \n\n                   filename  year  sample id label name sub label  ...  \\\n0  2022-06-09 17.17.37.ndpi     4      17773   04-17773         A  ...   \n1  2022-06-10 18.30.09.ndpi     3       9554    03-9554         B  ...   \n2  2022-06-09 18.56.09.ndpi     3       9554    03-9554         C  ...   \n3  2022-06-09 22.00.47.ndpi     3       9554    03-9554         A  ...   \n4  2022-06-08 18.23.12.ndpi     5      15878   05-15878         2  ...   \n\n     note  Block or Slide? hypodermis (1=yes, 0=no)  \\\n0     NaN             Both                        0   \n1     NaN            Slide                        0   \n2     NaN            Slide                        0   \n3     NaN            Slide                        0   \n4  BENIGN             Both                        1   \n\n  healthy score (0=undecided, 1=cannot use, 2=some parts can be used, 3=one of the section can be used as whole, 4=more than one section, 5=all sections are free of damage)  \\\n0                                                NaN                                                                                                                           \n1                                                NaN                                                                                                                           \n2                                                NaN                                                                                                                           \n3                                                NaN                                                                                                                           \n4                                                2.0                                                                                                                           \n\n                     score note student score  \\\n0                           NaN             2   \n1                           NaN             2   \n2                           NaN             4   \n3                           NaN             2   \n4  sun damage,some inflammation             2   \n\n  ROI ANNOTATED (0 :not annotated 1.annotated) roi reviewed Inbal Score  \\\n0                                            1          NaN         NaN   \n1                                            1          NaN         NaN   \n2                                            0          NaN         NaN   \n3                                            1          NaN         NaN   \n4                                            1          NaN         NaN   \n\n   Inbal comment  \n0            NaN  \n1            NaN  \n2            NaN  \n3            NaN  \n4            NaN  \n\n[5 rows x 27 columns]",
      "text/html": "<div>\n<style scoped>\n    .dataframe tbody tr th:only-of-type {\n        vertical-align: middle;\n    }\n\n    .dataframe tbody tr th {\n        vertical-align: top;\n    }\n\n    .dataframe thead th {\n        text-align: right;\n    }\n</style>\n<table border=\"1\" class=\"dataframe\">\n  <thead>\n    <tr style=\"text-align: right;\">\n      <th></th>\n      <th>index</th>\n      <th>gender</th>\n      <th>age</th>\n      <th>pid</th>\n      <th>path</th>\n      <th>filename</th>\n      <th>year</th>\n      <th>sample id</th>\n      <th>label name</th>\n      <th>sub label</th>\n      <th>...</th>\n      <th>note</th>\n      <th>Block or Slide?</th>\n      <th>hypodermis (1=yes, 0=no)</th>\n      <th>healthy score (0=undecided, 1=cannot use, 2=some parts can be used, 3=one of the section can be used as whole, 4=more than one section, 5=all sections are free of damage)</th>\n      <th>score note</th>\n      <th>student score</th>\n      <th>ROI ANNOTATED (0 :not annotated 1.annotated)</th>\n      <th>roi reviewed</th>\n      <th>Inbal Score</th>\n      <th>Inbal comment</th>\n    </tr>\n  </thead>\n  <tbody>\n    <tr>\n      <th>0</th>\n      <td>311</td>\n      <td>M</td>\n      <td>44.128415</td>\n      <td>NaN</td>\n      <td>\\\\fatherserverdw\\Q\\research\\images\\clue_batch2...</td>\n      <td>2022-06-09 17.17.37.ndpi</td>\n      <td>4</td>\n      <td>17773</td>\n      <td>04-17773</td>\n      <td>A</td>\n      <td>...</td>\n      <td>NaN</td>\n      <td>Both</td>\n      <td>0</td>\n      <td>NaN</td>\n      <td>NaN</td>\n      <td>2</td>\n      <td>1</td>\n      <td>NaN</td>\n      <td>NaN</td>\n      <td>NaN</td>\n    </tr>\n    <tr>\n      <th>1</th>\n      <td>92</td>\n      <td>M</td>\n      <td>45.616438</td>\n      <td>NaN</td>\n      <td>\\\\fatherserverdw\\Q\\research\\images\\clue_batch2...</td>\n      <td>2022-06-10 18.30.09.ndpi</td>\n      <td>3</td>\n      <td>9554</td>\n      <td>03-9554</td>\n      <td>B</td>\n      <td>...</td>\n      <td>NaN</td>\n      <td>Slide</td>\n      <td>0</td>\n      <td>NaN</td>\n      <td>NaN</td>\n      <td>2</td>\n      <td>1</td>\n      <td>NaN</td>\n      <td>NaN</td>\n      <td>NaN</td>\n    </tr>\n    <tr>\n      <th>2</th>\n      <td>90</td>\n      <td>M</td>\n      <td>45.616438</td>\n      <td>NaN</td>\n      <td>\\\\fatherserverdw\\Q\\research\\images\\clue_batch2...</td>\n      <td>2022-06-09 18.56.09.ndpi</td>\n      <td>3</td>\n      <td>9554</td>\n      <td>03-9554</td>\n      <td>C</td>\n      <td>...</td>\n      <td>NaN</td>\n      <td>Slide</td>\n      <td>0</td>\n      <td>NaN</td>\n      <td>NaN</td>\n      <td>4</td>\n      <td>0</td>\n      <td>NaN</td>\n      <td>NaN</td>\n      <td>NaN</td>\n    </tr>\n    <tr>\n      <th>3</th>\n      <td>91</td>\n      <td>M</td>\n      <td>45.616438</td>\n      <td>NaN</td>\n      <td>\\\\fatherserverdw\\Q\\research\\images\\clue_batch2...</td>\n      <td>2022-06-09 22.00.47.ndpi</td>\n      <td>3</td>\n      <td>9554</td>\n      <td>03-9554</td>\n      <td>A</td>\n      <td>...</td>\n      <td>NaN</td>\n      <td>Slide</td>\n      <td>0</td>\n      <td>NaN</td>\n      <td>NaN</td>\n      <td>2</td>\n      <td>1</td>\n      <td>NaN</td>\n      <td>NaN</td>\n      <td>NaN</td>\n    </tr>\n    <tr>\n      <th>4</th>\n      <td>472</td>\n      <td>F</td>\n      <td>49.445153</td>\n      <td>NaN</td>\n      <td>\\\\fatherserverdw\\Q\\research\\images\\clue_batch2...</td>\n      <td>2022-06-08 18.23.12.ndpi</td>\n      <td>5</td>\n      <td>15878</td>\n      <td>05-15878</td>\n      <td>2</td>\n      <td>...</td>\n      <td>BENIGN</td>\n      <td>Both</td>\n      <td>1</td>\n      <td>2.0</td>\n      <td>sun damage,some inflammation</td>\n      <td>2</td>\n      <td>1</td>\n      <td>NaN</td>\n      <td>NaN</td>\n      <td>NaN</td>\n    </tr>\n  </tbody>\n</table>\n<p>5 rows × 27 columns</p>\n</div>"
     },
     "execution_count": 8,
     "metadata": {},
     "output_type": "execute_result"
    }
   ],
   "source": [
    "LUT = pd.read_excel(r\"\\\\fatherserverdw\\kyuex\\imlist_all.xlsx\")\n",
    "LUT.head()"
   ],
   "metadata": {
    "collapsed": false,
    "pycharm": {
     "name": "#%%\n"
    }
   }
  }
 ],
 "metadata": {
  "kernelspec": {
   "display_name": "Python 3",
   "language": "python",
   "name": "python3"
  },
  "language_info": {
   "codemirror_mode": {
    "name": "ipython",
    "version": 2
   },
   "file_extension": ".py",
   "mimetype": "text/x-python",
   "name": "python",
   "nbconvert_exporter": "python",
   "pygments_lexer": "ipython2",
   "version": "2.7.6"
  }
 },
 "nbformat": 4,
 "nbformat_minor": 0
}