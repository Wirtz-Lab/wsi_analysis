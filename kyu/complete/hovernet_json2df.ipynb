{
 "cells": [
  {
   "cell_type": "code",
   "execution_count": 1,
   "outputs": [
    {
     "ename": "FileNotFoundError",
     "evalue": "[Errno 2] No such file or directory: '\\\\\\\\fatherserverdw\\\\Q\\\\research\\\\images\\\\skin_aging\\\\1um\\\\classification_v9_combined\\\\47.tif'",
     "output_type": "error",
     "traceback": [
      "\u001B[1;31m---------------------------------------------------------------------------\u001B[0m",
      "\u001B[1;31mFileNotFoundError\u001B[0m                         Traceback (most recent call last)",
      "Input \u001B[1;32mIn [1]\u001B[0m, in \u001B[0;36m<cell line: 5>\u001B[1;34m()\u001B[0m\n\u001B[0;32m      3\u001B[0m dlsrc \u001B[38;5;241m=\u001B[39m \u001B[38;5;124mr\u001B[39m\u001B[38;5;124m'\u001B[39m\u001B[38;5;130;01m\\\\\u001B[39;00m\u001B[38;5;124mfatherserverdw\u001B[39m\u001B[38;5;124m\\\u001B[39m\u001B[38;5;124mQ\u001B[39m\u001B[38;5;124m\\\u001B[39m\u001B[38;5;124mresearch\u001B[39m\u001B[38;5;124m\\\u001B[39m\u001B[38;5;124mimages\u001B[39m\u001B[38;5;124m\\\u001B[39m\u001B[38;5;124mskin_aging\u001B[39m\u001B[38;5;124m\\\u001B[39m\u001B[38;5;124m1um\u001B[39m\u001B[38;5;124m\\\u001B[39m\u001B[38;5;124mclassification_v9_combined\u001B[39m\u001B[38;5;124m'\u001B[39m\n\u001B[0;32m      4\u001B[0m ndpisrc \u001B[38;5;241m=\u001B[39m \u001B[38;5;124mr\u001B[39m\u001B[38;5;124m'\u001B[39m\u001B[38;5;130;01m\\\\\u001B[39;00m\u001B[38;5;124mfatherserverdw\u001B[39m\u001B[38;5;124m\\\u001B[39m\u001B[38;5;124mQ\u001B[39m\u001B[38;5;124m\\\u001B[39m\u001B[38;5;124mresearch\u001B[39m\u001B[38;5;124m\\\u001B[39m\u001B[38;5;124mimages\u001B[39m\u001B[38;5;124m\\\u001B[39m\u001B[38;5;124mskin_aging\u001B[39m\u001B[38;5;124m\\\u001B[39m\u001B[38;5;124mwsi\u001B[39m\u001B[38;5;124m'\u001B[39m\n\u001B[1;32m----> 5\u001B[0m \u001B[43mhovernet_json2df\u001B[49m\u001B[43m(\u001B[49m\u001B[43mjsonsrc\u001B[49m\u001B[43m,\u001B[49m\u001B[43mndpisrc\u001B[49m\u001B[43m,\u001B[49m\u001B[43mdlsrc\u001B[49m\u001B[43m)\u001B[49m\n",
      "File \u001B[1;32m~\\PycharmProjects\\wsi_analysis\\kyu\\under_development\\hovernet_json2df.py:34\u001B[0m, in \u001B[0;36mhovernet_json2df\u001B[1;34m(jsonsrc, ndpisrc, dlsrc)\u001B[0m\n\u001B[0;32m     32\u001B[0m dlnm \u001B[38;5;241m=\u001B[39m jsonnm\u001B[38;5;241m.\u001B[39mreplace(ext, \u001B[38;5;124m'\u001B[39m\u001B[38;5;124m.tif\u001B[39m\u001B[38;5;124m'\u001B[39m)\n\u001B[0;32m     33\u001B[0m dl \u001B[38;5;241m=\u001B[39m os\u001B[38;5;241m.\u001B[39mpath\u001B[38;5;241m.\u001B[39mjoin(dlsrc, dlnm)\n\u001B[1;32m---> 34\u001B[0m dl \u001B[38;5;241m=\u001B[39m \u001B[43mImage\u001B[49m\u001B[38;5;241;43m.\u001B[39;49m\u001B[43mopen\u001B[49m\u001B[43m(\u001B[49m\u001B[43mdl\u001B[49m\u001B[43m)\u001B[49m\n\u001B[0;32m     35\u001B[0m dlw, dlh \u001B[38;5;241m=\u001B[39m dl\u001B[38;5;241m.\u001B[39msize\n\u001B[0;32m     37\u001B[0m rsfw_ndpi2dl \u001B[38;5;241m=\u001B[39m ndpiw \u001B[38;5;241m/\u001B[39m dlw\n",
      "File \u001B[1;32mc:\\users\\labuser\\pycharmprojects\\wsi_analysis\\venv\\lib\\site-packages\\PIL\\Image.py:3068\u001B[0m, in \u001B[0;36mopen\u001B[1;34m(fp, mode, formats)\u001B[0m\n\u001B[0;32m   3065\u001B[0m     filename \u001B[38;5;241m=\u001B[39m fp\n\u001B[0;32m   3067\u001B[0m \u001B[38;5;28;01mif\u001B[39;00m filename:\n\u001B[1;32m-> 3068\u001B[0m     fp \u001B[38;5;241m=\u001B[39m \u001B[43mbuiltins\u001B[49m\u001B[38;5;241;43m.\u001B[39;49m\u001B[43mopen\u001B[49m\u001B[43m(\u001B[49m\u001B[43mfilename\u001B[49m\u001B[43m,\u001B[49m\u001B[43m \u001B[49m\u001B[38;5;124;43m\"\u001B[39;49m\u001B[38;5;124;43mrb\u001B[39;49m\u001B[38;5;124;43m\"\u001B[39;49m\u001B[43m)\u001B[49m\n\u001B[0;32m   3069\u001B[0m     exclusive_fp \u001B[38;5;241m=\u001B[39m \u001B[38;5;28;01mTrue\u001B[39;00m\n\u001B[0;32m   3071\u001B[0m \u001B[38;5;28;01mtry\u001B[39;00m:\n",
      "\u001B[1;31mFileNotFoundError\u001B[0m: [Errno 2] No such file or directory: '\\\\\\\\fatherserverdw\\\\Q\\\\research\\\\images\\\\skin_aging\\\\1um\\\\classification_v9_combined\\\\47.tif'"
     ]
    }
   ],
   "source": [
    "from hovernet_json2df import hovernet_json2df\n",
    "jsonsrc = r'\\\\fatherserverdw\\Q\\research\\images\\skin_aging\\wsi\\hovernet_out\\json'\n",
    "dlsrc = r'\\\\fatherserverdw\\Q\\research\\images\\skin_aging\\1um\\classification_v9_combined'\n",
    "ndpisrc = r'\\\\fatherserverdw\\Q\\research\\images\\skin_aging\\wsi'\n",
    "hovernet_json2df(jsonsrc,ndpisrc,dlsrc)"
   ],
   "metadata": {
    "collapsed": false,
    "pycharm": {
     "name": "#%%\n"
    }
   }
  },
  {
   "cell_type": "code",
   "execution_count": null,
   "outputs": [],
   "source": [
    "import glob,os\n",
    "import pandas as pd\n",
    "from natsort import natsorted\n",
    "from PIL import Image\n",
    "Image.MAX_IMAGE_PIXELS=None\n",
    "import numpy as np\n",
    "from openslide import OpenSlide"
   ],
   "metadata": {
    "collapsed": false,
    "pycharm": {
     "name": "#%%\n"
    }
   }
  },
  {
   "cell_type": "code",
   "execution_count": 62,
   "outputs": [
    {
     "data": {
      "text/plain": "('8.json', '8.tif', '8.ndpi')"
     },
     "execution_count": 62,
     "metadata": {},
     "output_type": "execute_result"
    }
   ],
   "source": [
    "src = r'\\\\fatherserverdw\\Q\\research\\images\\skin_aging\\wsi\\hovernet_out\\json'\n",
    "dlsrc = r'\\\\fatherserverdw\\Q\\research\\images\\skin_aging\\1um\\classification_v9_combined'\n",
    "ndpisrc = r'\\\\fatherserverdw\\Q\\research\\images\\skin_aging\\wsi'\n",
    "dst = os.path.join(os.path.dirname(src),'df')\n",
    "if not os.path.exists(dst): os.mkdir(dst)\n",
    "jsons = natsorted([_ for _ in os.listdir(src) if _.endswith('json')])\n",
    "dls = [_.replace('json','tif') for _ in jsons]\n",
    "ndpis = [_.replace('json','ndpi') for _ in jsons]\n"
   ],
   "metadata": {
    "collapsed": false,
    "pycharm": {
     "name": "#%%\n"
    }
   }
  },
  {
   "cell_type": "code",
   "execution_count": 63,
   "outputs": [
    {
     "data": {
      "text/plain": "                                   bbox  \\\n0        [[1627, 12118], [1646, 12127]]   \n1          [[3740, 8056], [3749, 8071]]   \n2          [[3747, 8029], [3768, 8047]]   \n3          [[3748, 8045], [3760, 8058]]   \n4          [[3751, 8061], [3763, 8068]]   \n...                                 ...   \n83812  [[47028, 18229], [47040, 18238]]   \n83813  [[47040, 18229], [47053, 18239]]   \n83814  [[47097, 18361], [47116, 18373]]   \n83815  [[47124, 18284], [47138, 18300]]   \n83816  [[47325, 18392], [47355, 18406]]   \n\n                                       centroid  \\\n0        [1881.754716981132, 11877.27358490566]   \n1       [3966.7162162162163, 7840.310810810811]   \n2       [3941.6615384615384, 7852.626923076923]   \n3               [3954.541666666667, 7849.21875]   \n4                    [3967.890625, 7852.359375]   \n...                                         ...   \n83812   [46905.51851851852, 18361.962962962964]   \n83813  [46905.030303030304, 18373.555555555555]   \n83814   [47038.33783783784, 18433.391891891893]   \n83815  [46962.931818181816, 18458.234848484848]   \n83816  [47069.282608695656, 18666.678260869565]   \n\n                                                 contour  type  \n0      [[1886, 11867], [1885, 11868], [1884, 11868], ...  None  \n1      [[3970, 7836], [3969, 7837], [3968, 7837], [39...  None  \n2      [[3940, 7843], [3939, 7844], [3938, 7844], [39...  None  \n3      [[3954, 7844], [3953, 7845], [3952, 7845], [39...  None  \n4      [[3969, 7847], [3968, 7848], [3966, 7848], [39...  None  \n...                                                  ...   ...  \n83812  [[46906, 18356], [46905, 18357], [46904, 18357...  None  \n83813  [[46903, 18368], [46903, 18369], [46902, 18370...  None  \n83814  [[47042, 18425], [47041, 18426], [47039, 18426...  None  \n83815  [[46956, 18452], [46956, 18456], [46957, 18457...  None  \n83816  [[47074, 18653], [47073, 18654], [47072, 18654...  None  \n\n[83817 rows x 4 columns]",
      "text/html": "<div>\n<style scoped>\n    .dataframe tbody tr th:only-of-type {\n        vertical-align: middle;\n    }\n\n    .dataframe tbody tr th {\n        vertical-align: top;\n    }\n\n    .dataframe thead th {\n        text-align: right;\n    }\n</style>\n<table border=\"1\" class=\"dataframe\">\n  <thead>\n    <tr style=\"text-align: right;\">\n      <th></th>\n      <th>bbox</th>\n      <th>centroid</th>\n      <th>contour</th>\n      <th>type</th>\n    </tr>\n  </thead>\n  <tbody>\n    <tr>\n      <th>0</th>\n      <td>[[1627, 12118], [1646, 12127]]</td>\n      <td>[1881.754716981132, 11877.27358490566]</td>\n      <td>[[1886, 11867], [1885, 11868], [1884, 11868], ...</td>\n      <td>None</td>\n    </tr>\n    <tr>\n      <th>1</th>\n      <td>[[3740, 8056], [3749, 8071]]</td>\n      <td>[3966.7162162162163, 7840.310810810811]</td>\n      <td>[[3970, 7836], [3969, 7837], [3968, 7837], [39...</td>\n      <td>None</td>\n    </tr>\n    <tr>\n      <th>2</th>\n      <td>[[3747, 8029], [3768, 8047]]</td>\n      <td>[3941.6615384615384, 7852.626923076923]</td>\n      <td>[[3940, 7843], [3939, 7844], [3938, 7844], [39...</td>\n      <td>None</td>\n    </tr>\n    <tr>\n      <th>3</th>\n      <td>[[3748, 8045], [3760, 8058]]</td>\n      <td>[3954.541666666667, 7849.21875]</td>\n      <td>[[3954, 7844], [3953, 7845], [3952, 7845], [39...</td>\n      <td>None</td>\n    </tr>\n    <tr>\n      <th>4</th>\n      <td>[[3751, 8061], [3763, 8068]]</td>\n      <td>[3967.890625, 7852.359375]</td>\n      <td>[[3969, 7847], [3968, 7848], [3966, 7848], [39...</td>\n      <td>None</td>\n    </tr>\n    <tr>\n      <th>...</th>\n      <td>...</td>\n      <td>...</td>\n      <td>...</td>\n      <td>...</td>\n    </tr>\n    <tr>\n      <th>83812</th>\n      <td>[[47028, 18229], [47040, 18238]]</td>\n      <td>[46905.51851851852, 18361.962962962964]</td>\n      <td>[[46906, 18356], [46905, 18357], [46904, 18357...</td>\n      <td>None</td>\n    </tr>\n    <tr>\n      <th>83813</th>\n      <td>[[47040, 18229], [47053, 18239]]</td>\n      <td>[46905.030303030304, 18373.555555555555]</td>\n      <td>[[46903, 18368], [46903, 18369], [46902, 18370...</td>\n      <td>None</td>\n    </tr>\n    <tr>\n      <th>83814</th>\n      <td>[[47097, 18361], [47116, 18373]]</td>\n      <td>[47038.33783783784, 18433.391891891893]</td>\n      <td>[[47042, 18425], [47041, 18426], [47039, 18426...</td>\n      <td>None</td>\n    </tr>\n    <tr>\n      <th>83815</th>\n      <td>[[47124, 18284], [47138, 18300]]</td>\n      <td>[46962.931818181816, 18458.234848484848]</td>\n      <td>[[46956, 18452], [46956, 18456], [46957, 18457...</td>\n      <td>None</td>\n    </tr>\n    <tr>\n      <th>83816</th>\n      <td>[[47325, 18392], [47355, 18406]]</td>\n      <td>[47069.282608695656, 18666.678260869565]</td>\n      <td>[[47074, 18653], [47073, 18654], [47072, 18654...</td>\n      <td>None</td>\n    </tr>\n  </tbody>\n</table>\n<p>83817 rows × 4 columns</p>\n</div>"
     },
     "execution_count": 63,
     "metadata": {},
     "output_type": "execute_result"
    }
   ],
   "source": [
    "json = os.path.join(src,json)\n",
    "json2 = pd.read_json(json,orient='index')\n",
    "json3 = pd.DataFrame(json2[0].loc['nuc']).T.reset_index(drop=True).drop(columns=['type_prob'])\n",
    "json3"
   ],
   "metadata": {
    "collapsed": false,
    "pycharm": {
     "name": "#%%\n"
    }
   }
  },
  {
   "cell_type": "code",
   "execution_count": 64,
   "outputs": [
    {
     "data": {
      "text/plain": "(49152, 28672)"
     },
     "execution_count": 64,
     "metadata": {},
     "output_type": "execute_result"
    }
   ],
   "source": [
    "ndpi = OpenSlide(os.path.join(ndpisrc,ndpi))\n",
    "ndpiw, ndpih = ndpi.dimensions\n",
    "ndpiw, ndpih"
   ],
   "metadata": {
    "collapsed": false,
    "pycharm": {
     "name": "#%%\n"
    }
   }
  },
  {
   "cell_type": "code",
   "execution_count": 65,
   "outputs": [
    {
     "data": {
      "text/plain": "(22330, 13026)"
     },
     "execution_count": 65,
     "metadata": {},
     "output_type": "execute_result"
    }
   ],
   "source": [
    "dl = os.path.join(dlsrc,dl)\n",
    "dl = Image.open(dl)\n",
    "width, height = dl.size\n",
    "width, height"
   ],
   "metadata": {
    "collapsed": false,
    "pycharm": {
     "name": "#%%\n"
    }
   }
  },
  {
   "cell_type": "code",
   "execution_count": 66,
   "outputs": [
    {
     "data": {
      "text/plain": "(2.2011643528884908, 2.2011361891601413)"
     },
     "execution_count": 66,
     "metadata": {},
     "output_type": "execute_result"
    }
   ],
   "source": [
    "rsfw_ndpi2dl = ndpiw/width\n",
    "rsfh_ndpi2dl = ndpih/height\n",
    "rsfw_ndpi2dl,rsfh_ndpi2dl"
   ],
   "metadata": {
    "collapsed": false,
    "pycharm": {
     "name": "#%%\n"
    }
   }
  },
  {
   "cell_type": "code",
   "execution_count": 67,
   "outputs": [
    {
     "data": {
      "text/plain": "(4915, 2867)"
     },
     "execution_count": 67,
     "metadata": {},
     "output_type": "execute_result"
    }
   ],
   "source": [
    "rsf_relative2ndpi = 10\n",
    "rsfw = rsf_relative2ndpi/rsfw_ndpi2dl\n",
    "rsfh = rsf_relative2ndpi/rsfh_ndpi2dl\n",
    "dl = dl.resize((round(width//rsfw),round(height//rsfh)),0)\n",
    "dlw,dlh = dl.size\n",
    "dlw,dlh"
   ],
   "metadata": {
    "collapsed": false,
    "pycharm": {
     "name": "#%%\n"
    }
   }
  },
  {
   "cell_type": "code",
   "execution_count": 68,
   "outputs": [],
   "source": [
    "def cellclass(cnt):\n",
    "    try:\n",
    "        celltype = dl.getpixel((cnt[0]//rsf_relative2ndpi,cnt[1]//rsf_relative2ndpi))\n",
    "    except:\n",
    "        print((cnt[0]//rsf_relative2ndpi,cnt[1]//rsf_relative2ndpi))\n",
    "        return\n",
    "    return celltype"
   ],
   "metadata": {
    "collapsed": false,
    "pycharm": {
     "name": "#%%\n"
    }
   }
  },
  {
   "cell_type": "code",
   "execution_count": 69,
   "outputs": [],
   "source": [
    "json3['type'] = json3['centroid'].apply(lambda row: cellclass(row))"
   ],
   "metadata": {
    "collapsed": false,
    "pycharm": {
     "name": "#%%\n"
    }
   }
  },
  {
   "cell_type": "code",
   "execution_count": 70,
   "outputs": [],
   "source": [
    "json3.to_pickle(os.path.join(dst,'8'+'.pkl'))"
   ],
   "metadata": {
    "collapsed": false,
    "pycharm": {
     "name": "#%%\n"
    }
   }
  },
  {
   "cell_type": "code",
   "execution_count": 80,
   "outputs": [],
   "source": [
    "dlsrc = 'b'\n",
    "ndpisrc = 'a'"
   ],
   "metadata": {
    "collapsed": false,
    "pycharm": {
     "name": "#%%\n"
    }
   }
  },
  {
   "cell_type": "code",
   "execution_count": 81,
   "outputs": [
    {
     "name": "stdout",
     "output_type": "stream",
     "text": [
      "both exist\n"
     ]
    }
   ],
   "source": [
    "if (dlsrc is not None) & (ndpisrc is not None):\n",
    "    print('both exist')"
   ],
   "metadata": {
    "collapsed": false,
    "pycharm": {
     "name": "#%%\n"
    }
   }
  }
 ],
 "metadata": {
  "kernelspec": {
   "display_name": "Python 3",
   "language": "python",
   "name": "python3"
  },
  "language_info": {
   "codemirror_mode": {
    "name": "ipython",
    "version": 2
   },
   "file_extension": ".py",
   "mimetype": "text/x-python",
   "name": "python",
   "nbconvert_exporter": "python",
   "pygments_lexer": "ipython2",
   "version": "2.7.6"
  }
 },
 "nbformat": 4,
 "nbformat_minor": 0
}