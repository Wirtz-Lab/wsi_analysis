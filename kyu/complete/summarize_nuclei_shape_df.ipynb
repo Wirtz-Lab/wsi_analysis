{
 "cells": [
  {
   "cell_type": "code",
   "execution_count": 1,
   "outputs": [],
   "source": [
    "import pandas as pd\n",
    "from time import time\n",
    "import numpy as np\n",
    "import os, glob"
   ],
   "metadata": {
    "collapsed": false,
    "pycharm": {
     "name": "#%%\n"
    }
   }
  },
  {
   "cell_type": "code",
   "execution_count": 2,
   "outputs": [
    {
     "name": "stdout",
     "output_type": "stream",
     "text": [
      "191.0726237297058\n"
     ]
    }
   ],
   "source": [
    "#compile individual df\n",
    "start =time()\n",
    "src = r'\\\\fatherserverdw\\q\\research\\images\\skin_aging\\wsi\\hovernet_out\\df'\n",
    "df = pd.concat([pd.read_pickle(_) for _ in glob.glob(os.path.join(src,'*.pkl')) if ('156' not in _) and ('167' not in _)], ignore_index=True)\n",
    "print(time()-start)"
   ],
   "metadata": {
    "collapsed": false,
    "pycharm": {
     "name": "#%%\n"
    }
   }
  },
  {
   "cell_type": "code",
   "execution_count": 3,
   "outputs": [],
   "source": [
    "df = df.astype({'type': 'int8',\n",
    "           'inroi': 'int8',\n",
    "           'resident_area': 'int32',\n",
    "           'Area': 'float32',\n",
    "           'Perimeter': 'float32',\n",
    "           'Circularity': 'float32',\n",
    "           'MA': 'float32',\n",
    "           'ma': 'float32',\n",
    "           'orientation': 'float32',\n",
    "           'AspectRatio': 'float32',\n",
    "           'Sol': 'float32',\n",
    "           'Extent': 'float32',\n",
    "           'EquiDia': 'float32',\n",
    "           'imID': 'int16',\n",
    "           'dist2nearest': 'float32',\n",
    "           'oriA': 'float32',\n",
    "           'oriB': 'float32',\n",
    "           'local_align': 'float32'})"
   ],
   "metadata": {
    "collapsed": false,
    "pycharm": {
     "name": "#%%\n"
    }
   }
  },
  {
   "cell_type": "code",
   "execution_count": 4,
   "outputs": [],
   "source": [
    "df['c2t_distance_um']=df['c2t_distance'].apply(lambda x:np.multiply(x,4))\n",
    "df[['nucleus2corneum','nucleus2spinosum','nucleus2shaft','nucleus2follicle','nucleus2muscle','nucleus2oil','nucleus2sweat','nucleus2nerve','nucleus2blood','nucleus2ecm','nucleus2fat']] = pd.DataFrame(df.c2t_distance_um.tolist(), index= df.index, dtype=np.float32)\n",
    "df.drop([\"c2t_distance\",\"c2t_distance_um\"],inplace=True, axis=1)"
   ],
   "metadata": {
    "collapsed": false,
    "pycharm": {
     "name": "#%%\n"
    }
   }
  },
  {
   "cell_type": "code",
   "execution_count": 32,
   "outputs": [],
   "source": [
    "df.to_feather(os.path.join(src, '2d_skin_hovernet_nuclei.ftr'))"
   ],
   "metadata": {
    "collapsed": false,
    "pycharm": {
     "name": "#%%\n"
    }
   }
  },
  {
   "cell_type": "code",
   "execution_count": 33,
   "outputs": [],
   "source": [
    "df = pd.read_feather(os.path.join(src, '2d_skin_hovernet_nuclei.ftr'))"
   ],
   "metadata": {
    "collapsed": false,
    "pycharm": {
     "name": "#%%\n"
    }
   }
  },
  {
   "cell_type": "code",
   "execution_count": 5,
   "outputs": [
    {
     "data": {
      "text/plain": "bbox                 object\ncentroid             object\ncontour              object\ntype                   int8\ninroi                  int8\nresident_area         int32\nArea                float32\nPerimeter           float32\nCircularity         float32\nMA                  float32\nma                  float32\norientation         float32\nAspectRatio         float32\nSol                 float32\nExtent              float32\nEquiDia             float32\nimID                  int16\ndist2nearest        float32\noriA                float32\noriB                float32\nlocal_align         float32\nnucleus2corneum     float64\nnucleus2spinosum    float64\nnucleus2shaft       float64\nnucleus2follicle    float64\nnucleus2muscle      float64\nnucleus2oil         float64\nnucleus2sweat       float64\nnucleus2nerve       float64\nnucleus2blood       float64\nnucleus2ecm         float64\nnucleus2fat         float64\ndtype: object"
     },
     "execution_count": 5,
     "metadata": {},
     "output_type": "execute_result"
    }
   ],
   "source": [
    "df.dtypes"
   ],
   "metadata": {
    "collapsed": false,
    "pycharm": {
     "name": "#%%\n"
    }
   }
  },
  {
   "cell_type": "code",
   "execution_count": 6,
   "outputs": [],
   "source": [
    "agelut = pd.read_excel(r'\\\\fatherserverdw\\Q\\research\\source code\\skin_aging_matlab\\skin_samples.xlsx', sheet_name='imlist')"
   ],
   "metadata": {
    "collapsed": false,
    "pycharm": {
     "name": "#%%\n"
    }
   }
  },
  {
   "cell_type": "code",
   "execution_count": 66,
   "outputs": [
    {
     "data": {
      "text/plain": "                                     bbox  \\\n0          [[2704, 42876], [2713, 42885]]   \n1          [[2512, 44562], [2520, 44575]]   \n2          [[4331, 44227], [4340, 44235]]   \n3          [[4589, 44719], [4601, 44731]]   \n4          [[4596, 43456], [4604, 43466]]   \n...                                   ...   \n7842155  [[65636, 12348], [65650, 12358]]   \n7842156  [[65642, 12287], [65656, 12297]]   \n7842157  [[65652, 12302], [65663, 12308]]   \n7842158  [[65668, 12264], [65680, 12273]]   \n7842159  [[65712, 12300], [65724, 12317]]   \n\n                                         centroid  \\\n0         [3968.290909090909, 41619.527272727275]   \n1          [3607.698795180723, 43476.01204819277]   \n2          [5318.245283018868, 43246.64150943396]   \n3        [5812.0084745762715, 43506.338983050846]   \n4                     [4548.5, 43511.55172413793]   \n...                                           ...   \n7842155    [65600.92957746479, 12394.12676056338]   \n7842156                     [65539.975, 12399.55]   \n7842157    [65552.3137254902, 12408.980392156864]   \n7842158              [65516.0, 12425.90909090909]   \n7842159   [65555.67105263157, 12469.552631578947]   \n\n                                                   contour  type  inroi  \\\n0        [[3966, 41616], [3965, 41617], [3965, 41618], ...    10      2   \n1        [[3605, 43472], [3604, 43473], [3603, 43473], ...    10      2   \n2        [[5318, 43243], [5317, 43244], [5316, 43244], ...    10      2   \n3        [[5807, 43501], [5807, 43509], [5808, 43510], ...    10      2   \n4        [[4547, 43508], [4546, 43509], [4544, 43509], ...    10      2   \n...                                                    ...   ...    ...   \n7842155  [[65598, 12388], [65596, 12390], [65597, 12391...     8      1   \n7842156  [[65536, 12394], [65535, 12395], [65535, 12396...     8      1   \n7842157  [[65550, 12404], [65550, 12411], [65551, 12412...     8      1   \n7842158  [[65513, 12420], [65513, 12423], [65512, 12424...     8      1   \n7842159  [[65551, 12464], [65549, 12466], [65548, 12466...     8      1   \n\n         resident_area  Area  Perimeter  Circularity         MA  ...  \\\n0               286900  43.5  25.556349     0.836954   7.145511  ...   \n1               286900  67.0  33.313709     0.758645   8.322485  ...   \n2               286900  41.0  25.313707     0.804048   6.713638  ...   \n3               286900  99.0  39.313709     0.804928  10.807506  ...   \n4               286900  45.0  27.313709     0.757986   6.406620  ...   \n...                ...   ...        ...          ...        ...  ...   \n7842155         292766  55.5  35.213203     0.562460   5.088255  ...   \n7842156         292766  63.5  36.384777     0.602760   6.482882  ...   \n7842157         292766  38.0  26.485281     0.680745   5.819937  ...   \n7842158         292766  62.0  32.142136     0.754140   7.049459  ...   \n7842159         292766  58.0  42.284271     0.407643   4.687659  ...   \n\n         nucleus2spinosum  nucleus2shaft  nucleus2follicle  nucleus2muscle  \\\n0                  2502.0        2802.00            2770.0          1701.0   \n1                  3312.0        3570.00            3626.0          2538.0   \n2                  2924.0        2848.00            3390.0          2252.0   \n3                  2984.0        2598.00            3500.0          2360.0   \n4                  3148.0        3150.00            3550.0          2424.0   \n...                   ...            ...               ...             ...   \n7842155            4732.0         366.25            4220.0          1135.0   \n7842156            4728.0         352.50            4204.0          1113.0   \n7842157            4732.0         350.75            4212.0          1119.0   \n7842158            4736.0         336.25            4208.0          1111.0   \n7842159            4760.0         326.50            4232.0          1136.0   \n\n         nucleus2oil  nucleus2sweat  nucleus2nerve  nucleus2blood  \\\n0             2250.0      1520.0000         1775.0         1668.0   \n1             3100.0      2082.0000         2564.0         2044.0   \n2             2848.0      1463.0000         1914.0         1353.0   \n3             2956.0      1430.0000         1717.0         1100.0   \n4             3012.0      1785.0000         2252.0         1629.0   \n...              ...            ...            ...            ...   \n7842155       3854.0        92.7500            0.0          764.0   \n7842156       3836.0       100.3125            4.0          744.0   \n7842157       3842.0       102.5000            0.0          749.5   \n7842158       3838.0       116.2500            0.0          744.0   \n7842159       3864.0       129.1250            0.0          769.5   \n\n         nucleus2ecm  nucleus2fat  \n0             0.0000   405.000000  \n1             4.0000     5.656250  \n2             0.0000   188.375000  \n3             0.0000   203.625000  \n4             0.0000    28.000000  \n...              ...          ...  \n7842155     131.0000    14.421875  \n7842156     103.8750    33.937500  \n7842157     108.8125    31.234375  \n7842158      96.6875    16.968750  \n7842159     120.0625    14.421875  \n\n[7842160 rows x 32 columns]",
      "text/html": "<div>\n<style scoped>\n    .dataframe tbody tr th:only-of-type {\n        vertical-align: middle;\n    }\n\n    .dataframe tbody tr th {\n        vertical-align: top;\n    }\n\n    .dataframe thead th {\n        text-align: right;\n    }\n</style>\n<table border=\"1\" class=\"dataframe\">\n  <thead>\n    <tr style=\"text-align: right;\">\n      <th></th>\n      <th>bbox</th>\n      <th>centroid</th>\n      <th>contour</th>\n      <th>type</th>\n      <th>inroi</th>\n      <th>resident_area</th>\n      <th>Area</th>\n      <th>Perimeter</th>\n      <th>Circularity</th>\n      <th>MA</th>\n      <th>...</th>\n      <th>nucleus2spinosum</th>\n      <th>nucleus2shaft</th>\n      <th>nucleus2follicle</th>\n      <th>nucleus2muscle</th>\n      <th>nucleus2oil</th>\n      <th>nucleus2sweat</th>\n      <th>nucleus2nerve</th>\n      <th>nucleus2blood</th>\n      <th>nucleus2ecm</th>\n      <th>nucleus2fat</th>\n    </tr>\n  </thead>\n  <tbody>\n    <tr>\n      <th>0</th>\n      <td>[[2704, 42876], [2713, 42885]]</td>\n      <td>[3968.290909090909, 41619.527272727275]</td>\n      <td>[[3966, 41616], [3965, 41617], [3965, 41618], ...</td>\n      <td>10</td>\n      <td>2</td>\n      <td>286900</td>\n      <td>43.5</td>\n      <td>25.556349</td>\n      <td>0.836954</td>\n      <td>7.145511</td>\n      <td>...</td>\n      <td>2502.0</td>\n      <td>2802.00</td>\n      <td>2770.0</td>\n      <td>1701.0</td>\n      <td>2250.0</td>\n      <td>1520.0000</td>\n      <td>1775.0</td>\n      <td>1668.0</td>\n      <td>0.0000</td>\n      <td>405.000000</td>\n    </tr>\n    <tr>\n      <th>1</th>\n      <td>[[2512, 44562], [2520, 44575]]</td>\n      <td>[3607.698795180723, 43476.01204819277]</td>\n      <td>[[3605, 43472], [3604, 43473], [3603, 43473], ...</td>\n      <td>10</td>\n      <td>2</td>\n      <td>286900</td>\n      <td>67.0</td>\n      <td>33.313709</td>\n      <td>0.758645</td>\n      <td>8.322485</td>\n      <td>...</td>\n      <td>3312.0</td>\n      <td>3570.00</td>\n      <td>3626.0</td>\n      <td>2538.0</td>\n      <td>3100.0</td>\n      <td>2082.0000</td>\n      <td>2564.0</td>\n      <td>2044.0</td>\n      <td>4.0000</td>\n      <td>5.656250</td>\n    </tr>\n    <tr>\n      <th>2</th>\n      <td>[[4331, 44227], [4340, 44235]]</td>\n      <td>[5318.245283018868, 43246.64150943396]</td>\n      <td>[[5318, 43243], [5317, 43244], [5316, 43244], ...</td>\n      <td>10</td>\n      <td>2</td>\n      <td>286900</td>\n      <td>41.0</td>\n      <td>25.313707</td>\n      <td>0.804048</td>\n      <td>6.713638</td>\n      <td>...</td>\n      <td>2924.0</td>\n      <td>2848.00</td>\n      <td>3390.0</td>\n      <td>2252.0</td>\n      <td>2848.0</td>\n      <td>1463.0000</td>\n      <td>1914.0</td>\n      <td>1353.0</td>\n      <td>0.0000</td>\n      <td>188.375000</td>\n    </tr>\n    <tr>\n      <th>3</th>\n      <td>[[4589, 44719], [4601, 44731]]</td>\n      <td>[5812.0084745762715, 43506.338983050846]</td>\n      <td>[[5807, 43501], [5807, 43509], [5808, 43510], ...</td>\n      <td>10</td>\n      <td>2</td>\n      <td>286900</td>\n      <td>99.0</td>\n      <td>39.313709</td>\n      <td>0.804928</td>\n      <td>10.807506</td>\n      <td>...</td>\n      <td>2984.0</td>\n      <td>2598.00</td>\n      <td>3500.0</td>\n      <td>2360.0</td>\n      <td>2956.0</td>\n      <td>1430.0000</td>\n      <td>1717.0</td>\n      <td>1100.0</td>\n      <td>0.0000</td>\n      <td>203.625000</td>\n    </tr>\n    <tr>\n      <th>4</th>\n      <td>[[4596, 43456], [4604, 43466]]</td>\n      <td>[4548.5, 43511.55172413793]</td>\n      <td>[[4547, 43508], [4546, 43509], [4544, 43509], ...</td>\n      <td>10</td>\n      <td>2</td>\n      <td>286900</td>\n      <td>45.0</td>\n      <td>27.313709</td>\n      <td>0.757986</td>\n      <td>6.406620</td>\n      <td>...</td>\n      <td>3148.0</td>\n      <td>3150.00</td>\n      <td>3550.0</td>\n      <td>2424.0</td>\n      <td>3012.0</td>\n      <td>1785.0000</td>\n      <td>2252.0</td>\n      <td>1629.0</td>\n      <td>0.0000</td>\n      <td>28.000000</td>\n    </tr>\n    <tr>\n      <th>...</th>\n      <td>...</td>\n      <td>...</td>\n      <td>...</td>\n      <td>...</td>\n      <td>...</td>\n      <td>...</td>\n      <td>...</td>\n      <td>...</td>\n      <td>...</td>\n      <td>...</td>\n      <td>...</td>\n      <td>...</td>\n      <td>...</td>\n      <td>...</td>\n      <td>...</td>\n      <td>...</td>\n      <td>...</td>\n      <td>...</td>\n      <td>...</td>\n      <td>...</td>\n      <td>...</td>\n    </tr>\n    <tr>\n      <th>7842155</th>\n      <td>[[65636, 12348], [65650, 12358]]</td>\n      <td>[65600.92957746479, 12394.12676056338]</td>\n      <td>[[65598, 12388], [65596, 12390], [65597, 12391...</td>\n      <td>8</td>\n      <td>1</td>\n      <td>292766</td>\n      <td>55.5</td>\n      <td>35.213203</td>\n      <td>0.562460</td>\n      <td>5.088255</td>\n      <td>...</td>\n      <td>4732.0</td>\n      <td>366.25</td>\n      <td>4220.0</td>\n      <td>1135.0</td>\n      <td>3854.0</td>\n      <td>92.7500</td>\n      <td>0.0</td>\n      <td>764.0</td>\n      <td>131.0000</td>\n      <td>14.421875</td>\n    </tr>\n    <tr>\n      <th>7842156</th>\n      <td>[[65642, 12287], [65656, 12297]]</td>\n      <td>[65539.975, 12399.55]</td>\n      <td>[[65536, 12394], [65535, 12395], [65535, 12396...</td>\n      <td>8</td>\n      <td>1</td>\n      <td>292766</td>\n      <td>63.5</td>\n      <td>36.384777</td>\n      <td>0.602760</td>\n      <td>6.482882</td>\n      <td>...</td>\n      <td>4728.0</td>\n      <td>352.50</td>\n      <td>4204.0</td>\n      <td>1113.0</td>\n      <td>3836.0</td>\n      <td>100.3125</td>\n      <td>4.0</td>\n      <td>744.0</td>\n      <td>103.8750</td>\n      <td>33.937500</td>\n    </tr>\n    <tr>\n      <th>7842157</th>\n      <td>[[65652, 12302], [65663, 12308]]</td>\n      <td>[65552.3137254902, 12408.980392156864]</td>\n      <td>[[65550, 12404], [65550, 12411], [65551, 12412...</td>\n      <td>8</td>\n      <td>1</td>\n      <td>292766</td>\n      <td>38.0</td>\n      <td>26.485281</td>\n      <td>0.680745</td>\n      <td>5.819937</td>\n      <td>...</td>\n      <td>4732.0</td>\n      <td>350.75</td>\n      <td>4212.0</td>\n      <td>1119.0</td>\n      <td>3842.0</td>\n      <td>102.5000</td>\n      <td>0.0</td>\n      <td>749.5</td>\n      <td>108.8125</td>\n      <td>31.234375</td>\n    </tr>\n    <tr>\n      <th>7842158</th>\n      <td>[[65668, 12264], [65680, 12273]]</td>\n      <td>[65516.0, 12425.90909090909]</td>\n      <td>[[65513, 12420], [65513, 12423], [65512, 12424...</td>\n      <td>8</td>\n      <td>1</td>\n      <td>292766</td>\n      <td>62.0</td>\n      <td>32.142136</td>\n      <td>0.754140</td>\n      <td>7.049459</td>\n      <td>...</td>\n      <td>4736.0</td>\n      <td>336.25</td>\n      <td>4208.0</td>\n      <td>1111.0</td>\n      <td>3838.0</td>\n      <td>116.2500</td>\n      <td>0.0</td>\n      <td>744.0</td>\n      <td>96.6875</td>\n      <td>16.968750</td>\n    </tr>\n    <tr>\n      <th>7842159</th>\n      <td>[[65712, 12300], [65724, 12317]]</td>\n      <td>[65555.67105263157, 12469.552631578947]</td>\n      <td>[[65551, 12464], [65549, 12466], [65548, 12466...</td>\n      <td>8</td>\n      <td>1</td>\n      <td>292766</td>\n      <td>58.0</td>\n      <td>42.284271</td>\n      <td>0.407643</td>\n      <td>4.687659</td>\n      <td>...</td>\n      <td>4760.0</td>\n      <td>326.50</td>\n      <td>4232.0</td>\n      <td>1136.0</td>\n      <td>3864.0</td>\n      <td>129.1250</td>\n      <td>0.0</td>\n      <td>769.5</td>\n      <td>120.0625</td>\n      <td>14.421875</td>\n    </tr>\n  </tbody>\n</table>\n<p>7842160 rows × 32 columns</p>\n</div>"
     },
     "execution_count": 66,
     "metadata": {},
     "output_type": "execute_result"
    }
   ],
   "source": [
    "df"
   ],
   "metadata": {
    "collapsed": false,
    "pycharm": {
     "name": "#%%\n"
    }
   }
  },
  {
   "cell_type": "code",
   "execution_count": null,
   "outputs": [],
   "source": [
    "# create celltype 12 for elongated ecm cells\n",
    "df.loc[(p.AspectRatio.rdiv(1)>3) & (p.Circularity<0.5) & (p.Area>50) & (p.dist2nearest>30),'type'] = 12"
   ],
   "metadata": {
    "collapsed": false,
    "pycharm": {
     "name": "#%%\n"
    }
   }
  },
  {
   "cell_type": "code",
   "execution_count": 7,
   "outputs": [],
   "source": [
    "# %%time\n",
    "avgs = []\n",
    "stds = []\n",
    "cvs = []\n",
    "#patient\n",
    "for imid in df['imID'].unique():\n",
    "    pkl = df[df['imID']==imid]\n",
    "    pkl = pkl.drop(columns=['bbox', 'centroid','contour'])\n",
    "    #section\n",
    "    for secid in pkl['inroi'].unique():\n",
    "        pk = pkl[pkl['inroi']==secid]\n",
    "        #tissue type\n",
    "        for type in range(2,13): #2-12 #12 is fibroblast\n",
    "            p = pk[pk['type']==type]\n",
    "            pkmean = p.mean(axis=0)\n",
    "            pkmean['Ncell'] = len(p)\n",
    "            # In case there is no value, prevent wiping imid, type, inroi, age\n",
    "            pkmean['imID'] = imid\n",
    "            pkmean['type'] = type\n",
    "            pkmean['inroi'] = secid\n",
    "            pkmean['Age'] = agelut['Age'][agelut['redcap']==imid].values[0]\n",
    "            pkstd = p.std(axis=0)\n",
    "            pkstd['Ncell'] = 0\n",
    "            pkstd['imID'] = imid\n",
    "            pkstd['type'] = type\n",
    "            pkstd['inroi'] = secid\n",
    "            pkstd['Age'] = agelut['Age'][agelut['redcap']==imid].values[0]\n",
    "            pkcv = pkstd/pkmean\n",
    "            pkcv['imID'] = imid\n",
    "            pkcv['type'] = type\n",
    "            pkcv['inroi'] = secid\n",
    "            pkcv['Age'] = agelut['Age'][agelut['redcap']==8].values[0]\n",
    "            stds.append(pkstd.replace(np.nan,0))\n",
    "            avgs.append(pkmean.replace(np.nan, 0))\n",
    "            cvs.append(pkcv.replace(np.nan, 0))"
   ],
   "metadata": {
    "collapsed": false,
    "pycharm": {
     "name": "#%%\n"
    }
   }
  },
  {
   "cell_type": "code",
   "execution_count": 3,
   "outputs": [
    {
     "data": {
      "text/plain": "                                   bbox  \\\n25780  [[25551, 28509], [25564, 28542]]   \n25781  [[25558, 28533], [25575, 28553]]   \n25782  [[25573, 28525], [25584, 28543]]   \n25783  [[25587, 28517], [25599, 28539]]   \n25784  [[25603, 28516], [25619, 28534]]   \n...                                 ...   \n69108  [[34690, 30773], [34700, 30784]]   \n69109  [[34847, 30676], [34858, 30689]]   \n69110  [[34875, 30798], [34886, 30813]]   \n69111  [[34780, 32804], [34800, 32813]]   \n69112  [[34913, 32879], [34919, 32889]]   \n\n                                       centroid  \\\n25780  [26478.048979591837, 27604.608163265308]   \n25781          [26494.44921875, 27613.99609375]   \n25782   [26484.805369127516, 27625.68456375839]   \n25783   [26480.21978021978, 27640.214285714286]   \n25784    [26476.16129032258, 27658.00921658986]   \n...                                         ...   \n69108   [34874.256410256414, 30598.21794871795]   \n69109   [34778.03571428572, 30755.535714285714]   \n69110                      [34901.23, 30783.84]   \n69111   [34855.99248120301, 32741.766917293233]   \n69112   [34931.84905660377, 32867.377358490565]   \n\n                                                 contour  type  inroi  \\\n25780  [[26477, 27599], [26476, 27600], [26474, 27600...     2      4   \n25781  [[26490, 27606], [26487, 27609], [26487, 27610...     2      4   \n25782  [[26479, 27621], [26478, 27622], [26478, 27623...     2      4   \n25783  [[26475, 27635], [26474, 27636], [26473, 27636...     2      4   \n25784  [[26471, 27651], [26468, 27654], [26468, 27660...     2      4   \n...                                                  ...   ...    ...   \n69108  [[34875, 30594], [34874, 30595], [34871, 30595...    10      4   \n69109  [[34779, 30751], [34778, 30752], [34777, 30752...    10      4   \n69110  [[34902, 30779], [34900, 30781], [34899, 30781...    10      4   \n69111  [[34856, 32732], [34856, 32733], [34855, 32734...    10      4   \n69112  [[34929, 32865], [34928, 32866], [34927, 32866...    10      4   \n\n       resident_area                                       c2t_distance  \\\n25780         107092  [inf, 1.0, 406.2, inf, 124.06, inf, 20.61, 75....   \n25781         107092  [inf, 0.0, 404.5, inf, 122.06, inf, 18.6, 75.6...   \n25782         107092  [inf, 0.0, 406.0, inf, 121.0, inf, 17.69, 77.9...   \n25783         107092  [inf, 0.0, 407.2, inf, 120.8, inf, 17.69, 79.2...   \n25784         107092  [inf, 0.0, 407.5, inf, 119.2, inf, 16.4, 81.0,...   \n...              ...                                                ...   \n69108         139114  [inf, 952.5, 688.5, inf, 272.8, inf, 243.5, 17...   \n69109         139114  [inf, 950.0, 692.0, inf, 265.5, inf, 235.5, 16...   \n69110         139114  [inf, 964.5, 704.5, inf, 279.8, inf, 249.8, 17...   \n69111         139114  [inf, 983.5, 858.5, inf, 384.0, inf, 305.2, 29...   \n69112         139114  [inf, 995.0, 875.0, inf, 400.2, inf, 318.5, 30...   \n\n        Area  Perimeter  Circularity  ...  orientation  AspectRatio       Sol  \\\n25780  211.0  76.769552     0.449898  ...    78.615036     0.381016  0.855984   \n25781  230.0  58.284271     0.850815  ...    96.673103     0.888287  0.958333   \n25782  127.5  47.213203     0.718775  ...    89.144226     0.614717  0.947955   \n25783  157.5  54.041630     0.677694  ...    99.058861     0.460252  0.934718   \n25784  193.5  52.870057     0.869904  ...   113.324142     0.773367  0.969925   \n...      ...        ...          ...  ...          ...          ...       ...   \n69108   63.5  31.556349     0.801328  ...    64.595528     0.778917  0.933824   \n69109   67.5  37.213203     0.612519  ...    62.090263     0.589189  0.859873   \n69110   83.5  38.041630     0.725067  ...    63.724079     0.481215  0.938202   \n69111  110.5  47.556349     0.613981  ...    13.249051     0.372148  0.952586   \n69112   40.0  25.656854     0.763595  ...    90.073563     0.568466  0.975610   \n\n         Extent    EquiDia  imID  dist2nearest       oriA        oriB  \\\n25780  0.491841  16.390654    33     18.357560  96.673103   89.144226   \n25781  0.676471  17.112717    33     15.620499  89.144226   78.615036   \n25782  0.643939  12.741195    33     15.524175  99.058861   96.673103   \n25783  0.596591  14.161046    33     15.524175  89.144226  113.324142   \n25784  0.671875  15.696237    33     18.439089  99.058861  103.716560   \n...         ...        ...   ...           ...        ...         ...   \n69108  0.577273   8.991702    33    110.679718  48.302525   62.090263   \n69109  0.472028   9.270581    33    126.146740  63.724079   64.595528   \n69110  0.506061  10.310941    33    126.146740  62.090263   64.595528   \n69111  0.613889  11.861407    33    147.146186  90.073563  163.000763   \n69112  0.666667   7.136496    33    147.146186  13.249051  163.000763   \n\n       local_align  \n25780     0.102905  \n25781     0.102905  \n25782     0.054496  \n25783     0.120935  \n25784     0.069039  \n...            ...  \n69108     0.150412  \n69109     0.020038  \n69110     0.020038  \n69111     0.843534  \n69112     0.843534  \n\n[11192 rows x 22 columns]",
      "text/html": "<div>\n<style scoped>\n    .dataframe tbody tr th:only-of-type {\n        vertical-align: middle;\n    }\n\n    .dataframe tbody tr th {\n        vertical-align: top;\n    }\n\n    .dataframe thead th {\n        text-align: right;\n    }\n</style>\n<table border=\"1\" class=\"dataframe\">\n  <thead>\n    <tr style=\"text-align: right;\">\n      <th></th>\n      <th>bbox</th>\n      <th>centroid</th>\n      <th>contour</th>\n      <th>type</th>\n      <th>inroi</th>\n      <th>resident_area</th>\n      <th>c2t_distance</th>\n      <th>Area</th>\n      <th>Perimeter</th>\n      <th>Circularity</th>\n      <th>...</th>\n      <th>orientation</th>\n      <th>AspectRatio</th>\n      <th>Sol</th>\n      <th>Extent</th>\n      <th>EquiDia</th>\n      <th>imID</th>\n      <th>dist2nearest</th>\n      <th>oriA</th>\n      <th>oriB</th>\n      <th>local_align</th>\n    </tr>\n  </thead>\n  <tbody>\n    <tr>\n      <th>25780</th>\n      <td>[[25551, 28509], [25564, 28542]]</td>\n      <td>[26478.048979591837, 27604.608163265308]</td>\n      <td>[[26477, 27599], [26476, 27600], [26474, 27600...</td>\n      <td>2</td>\n      <td>4</td>\n      <td>107092</td>\n      <td>[inf, 1.0, 406.2, inf, 124.06, inf, 20.61, 75....</td>\n      <td>211.0</td>\n      <td>76.769552</td>\n      <td>0.449898</td>\n      <td>...</td>\n      <td>78.615036</td>\n      <td>0.381016</td>\n      <td>0.855984</td>\n      <td>0.491841</td>\n      <td>16.390654</td>\n      <td>33</td>\n      <td>18.357560</td>\n      <td>96.673103</td>\n      <td>89.144226</td>\n      <td>0.102905</td>\n    </tr>\n    <tr>\n      <th>25781</th>\n      <td>[[25558, 28533], [25575, 28553]]</td>\n      <td>[26494.44921875, 27613.99609375]</td>\n      <td>[[26490, 27606], [26487, 27609], [26487, 27610...</td>\n      <td>2</td>\n      <td>4</td>\n      <td>107092</td>\n      <td>[inf, 0.0, 404.5, inf, 122.06, inf, 18.6, 75.6...</td>\n      <td>230.0</td>\n      <td>58.284271</td>\n      <td>0.850815</td>\n      <td>...</td>\n      <td>96.673103</td>\n      <td>0.888287</td>\n      <td>0.958333</td>\n      <td>0.676471</td>\n      <td>17.112717</td>\n      <td>33</td>\n      <td>15.620499</td>\n      <td>89.144226</td>\n      <td>78.615036</td>\n      <td>0.102905</td>\n    </tr>\n    <tr>\n      <th>25782</th>\n      <td>[[25573, 28525], [25584, 28543]]</td>\n      <td>[26484.805369127516, 27625.68456375839]</td>\n      <td>[[26479, 27621], [26478, 27622], [26478, 27623...</td>\n      <td>2</td>\n      <td>4</td>\n      <td>107092</td>\n      <td>[inf, 0.0, 406.0, inf, 121.0, inf, 17.69, 77.9...</td>\n      <td>127.5</td>\n      <td>47.213203</td>\n      <td>0.718775</td>\n      <td>...</td>\n      <td>89.144226</td>\n      <td>0.614717</td>\n      <td>0.947955</td>\n      <td>0.643939</td>\n      <td>12.741195</td>\n      <td>33</td>\n      <td>15.524175</td>\n      <td>99.058861</td>\n      <td>96.673103</td>\n      <td>0.054496</td>\n    </tr>\n    <tr>\n      <th>25783</th>\n      <td>[[25587, 28517], [25599, 28539]]</td>\n      <td>[26480.21978021978, 27640.214285714286]</td>\n      <td>[[26475, 27635], [26474, 27636], [26473, 27636...</td>\n      <td>2</td>\n      <td>4</td>\n      <td>107092</td>\n      <td>[inf, 0.0, 407.2, inf, 120.8, inf, 17.69, 79.2...</td>\n      <td>157.5</td>\n      <td>54.041630</td>\n      <td>0.677694</td>\n      <td>...</td>\n      <td>99.058861</td>\n      <td>0.460252</td>\n      <td>0.934718</td>\n      <td>0.596591</td>\n      <td>14.161046</td>\n      <td>33</td>\n      <td>15.524175</td>\n      <td>89.144226</td>\n      <td>113.324142</td>\n      <td>0.120935</td>\n    </tr>\n    <tr>\n      <th>25784</th>\n      <td>[[25603, 28516], [25619, 28534]]</td>\n      <td>[26476.16129032258, 27658.00921658986]</td>\n      <td>[[26471, 27651], [26468, 27654], [26468, 27660...</td>\n      <td>2</td>\n      <td>4</td>\n      <td>107092</td>\n      <td>[inf, 0.0, 407.5, inf, 119.2, inf, 16.4, 81.0,...</td>\n      <td>193.5</td>\n      <td>52.870057</td>\n      <td>0.869904</td>\n      <td>...</td>\n      <td>113.324142</td>\n      <td>0.773367</td>\n      <td>0.969925</td>\n      <td>0.671875</td>\n      <td>15.696237</td>\n      <td>33</td>\n      <td>18.439089</td>\n      <td>99.058861</td>\n      <td>103.716560</td>\n      <td>0.069039</td>\n    </tr>\n    <tr>\n      <th>...</th>\n      <td>...</td>\n      <td>...</td>\n      <td>...</td>\n      <td>...</td>\n      <td>...</td>\n      <td>...</td>\n      <td>...</td>\n      <td>...</td>\n      <td>...</td>\n      <td>...</td>\n      <td>...</td>\n      <td>...</td>\n      <td>...</td>\n      <td>...</td>\n      <td>...</td>\n      <td>...</td>\n      <td>...</td>\n      <td>...</td>\n      <td>...</td>\n      <td>...</td>\n      <td>...</td>\n    </tr>\n    <tr>\n      <th>69108</th>\n      <td>[[34690, 30773], [34700, 30784]]</td>\n      <td>[34874.256410256414, 30598.21794871795]</td>\n      <td>[[34875, 30594], [34874, 30595], [34871, 30595...</td>\n      <td>10</td>\n      <td>4</td>\n      <td>139114</td>\n      <td>[inf, 952.5, 688.5, inf, 272.8, inf, 243.5, 17...</td>\n      <td>63.5</td>\n      <td>31.556349</td>\n      <td>0.801328</td>\n      <td>...</td>\n      <td>64.595528</td>\n      <td>0.778917</td>\n      <td>0.933824</td>\n      <td>0.577273</td>\n      <td>8.991702</td>\n      <td>33</td>\n      <td>110.679718</td>\n      <td>48.302525</td>\n      <td>62.090263</td>\n      <td>0.150412</td>\n    </tr>\n    <tr>\n      <th>69109</th>\n      <td>[[34847, 30676], [34858, 30689]]</td>\n      <td>[34778.03571428572, 30755.535714285714]</td>\n      <td>[[34779, 30751], [34778, 30752], [34777, 30752...</td>\n      <td>10</td>\n      <td>4</td>\n      <td>139114</td>\n      <td>[inf, 950.0, 692.0, inf, 265.5, inf, 235.5, 16...</td>\n      <td>67.5</td>\n      <td>37.213203</td>\n      <td>0.612519</td>\n      <td>...</td>\n      <td>62.090263</td>\n      <td>0.589189</td>\n      <td>0.859873</td>\n      <td>0.472028</td>\n      <td>9.270581</td>\n      <td>33</td>\n      <td>126.146740</td>\n      <td>63.724079</td>\n      <td>64.595528</td>\n      <td>0.020038</td>\n    </tr>\n    <tr>\n      <th>69110</th>\n      <td>[[34875, 30798], [34886, 30813]]</td>\n      <td>[34901.23, 30783.84]</td>\n      <td>[[34902, 30779], [34900, 30781], [34899, 30781...</td>\n      <td>10</td>\n      <td>4</td>\n      <td>139114</td>\n      <td>[inf, 964.5, 704.5, inf, 279.8, inf, 249.8, 17...</td>\n      <td>83.5</td>\n      <td>38.041630</td>\n      <td>0.725067</td>\n      <td>...</td>\n      <td>63.724079</td>\n      <td>0.481215</td>\n      <td>0.938202</td>\n      <td>0.506061</td>\n      <td>10.310941</td>\n      <td>33</td>\n      <td>126.146740</td>\n      <td>62.090263</td>\n      <td>64.595528</td>\n      <td>0.020038</td>\n    </tr>\n    <tr>\n      <th>69111</th>\n      <td>[[34780, 32804], [34800, 32813]]</td>\n      <td>[34855.99248120301, 32741.766917293233]</td>\n      <td>[[34856, 32732], [34856, 32733], [34855, 32734...</td>\n      <td>10</td>\n      <td>4</td>\n      <td>139114</td>\n      <td>[inf, 983.5, 858.5, inf, 384.0, inf, 305.2, 29...</td>\n      <td>110.5</td>\n      <td>47.556349</td>\n      <td>0.613981</td>\n      <td>...</td>\n      <td>13.249051</td>\n      <td>0.372148</td>\n      <td>0.952586</td>\n      <td>0.613889</td>\n      <td>11.861407</td>\n      <td>33</td>\n      <td>147.146186</td>\n      <td>90.073563</td>\n      <td>163.000763</td>\n      <td>0.843534</td>\n    </tr>\n    <tr>\n      <th>69112</th>\n      <td>[[34913, 32879], [34919, 32889]]</td>\n      <td>[34931.84905660377, 32867.377358490565]</td>\n      <td>[[34929, 32865], [34928, 32866], [34927, 32866...</td>\n      <td>10</td>\n      <td>4</td>\n      <td>139114</td>\n      <td>[inf, 995.0, 875.0, inf, 400.2, inf, 318.5, 30...</td>\n      <td>40.0</td>\n      <td>25.656854</td>\n      <td>0.763595</td>\n      <td>...</td>\n      <td>90.073563</td>\n      <td>0.568466</td>\n      <td>0.975610</td>\n      <td>0.666667</td>\n      <td>7.136496</td>\n      <td>33</td>\n      <td>147.146186</td>\n      <td>13.249051</td>\n      <td>163.000763</td>\n      <td>0.843534</td>\n    </tr>\n  </tbody>\n</table>\n<p>11192 rows × 22 columns</p>\n</div>"
     },
     "execution_count": 3,
     "metadata": {},
     "output_type": "execute_result"
    }
   ],
   "source": [
    "df2 = pd.read_pickle(r'\\\\fatherserverdw\\q\\research\\images\\skin_aging\\wsi\\hovernet_out\\df\\33.pkl')\n",
    "pkl = df2[df2['imID']==33]\n",
    "pk = pkl[pkl['inroi']==4]\n",
    "pk\n",
    "# p = pk[pk['type']==11]\n",
    "# p"
   ],
   "metadata": {
    "collapsed": false,
    "pycharm": {
     "name": "#%%\n"
    }
   }
  },
  {
   "cell_type": "code",
   "execution_count": 84,
   "outputs": [
    {
     "data": {
      "text/plain": "<AxesSubplot:ylabel='Frequency'>"
     },
     "execution_count": 84,
     "metadata": {},
     "output_type": "execute_result"
    },
    {
     "data": {
      "text/plain": "<Figure size 432x288 with 1 Axes>",
      "image/png": "[encoded data removed]"
     },
     "metadata": {
      "needs_background": "light"
     },
     "output_type": "display_data"
    }
   ],
   "source": [
    "p.Circularity.plot.hist(by=None,bins=100)"
   ],
   "metadata": {
    "collapsed": false,
    "pycharm": {
     "name": "#%%\n"
    }
   }
  },
  {
   "cell_type": "code",
   "execution_count": 96,
   "outputs": [
    {
     "data": {
      "text/plain": "218"
     },
     "execution_count": 96,
     "metadata": {},
     "output_type": "execute_result"
    }
   ],
   "source": [
    "len(p.loc[(p.AspectRatio.rdiv(1)>3) & (p.Circularity<0.5) & (p.Area>50) & (p.dist2nearest>30)])"
   ],
   "metadata": {
    "collapsed": false,
    "pycharm": {
     "name": "#%%\n"
    }
   }
  },
  {
   "cell_type": "code",
   "execution_count": 87,
   "outputs": [],
   "source": [
    "p.loc[(p.AspectRatio.rdiv(1)>3) & (p.Circularity<0.5) & (p.Area>50) & (p.dist2nearest>30),'type'] = 12"
   ],
   "metadata": {
    "collapsed": false,
    "pycharm": {
     "name": "#%%\n"
    }
   }
  },
  {
   "cell_type": "code",
   "execution_count": 90,
   "outputs": [
    {
     "data": {
      "text/plain": "(386, 6312)"
     },
     "execution_count": 90,
     "metadata": {},
     "output_type": "execute_result"
    }
   ],
   "source": [
    "len(p[p.type==12]),len(p[p.type==10])"
   ],
   "metadata": {
    "collapsed": false,
    "pycharm": {
     "name": "#%%\n"
    }
   }
  },
  {
   "cell_type": "code",
   "execution_count": 8,
   "outputs": [],
   "source": [
    "avgdf = pd.DataFrame(avgs)\n",
    "stddf = pd.DataFrame(stds)\n",
    "cvdf = pd.DataFrame(cvs)"
   ],
   "metadata": {
    "collapsed": false,
    "pycharm": {
     "name": "#%%\n"
    }
   }
  },
  {
   "cell_type": "code",
   "execution_count": 9,
   "outputs": [],
   "source": [
    "avgdf.to_csv('avgdf.csv')\n",
    "stddf.to_csv('stddf.csv')\n",
    "cvdf.to_csv('cvdf.csv')"
   ],
   "metadata": {
    "collapsed": false,
    "pycharm": {
     "name": "#%%\n"
    }
   }
  },
  {
   "cell_type": "code",
   "execution_count": 19,
   "outputs": [
    {
     "data": {
      "text/plain": "((35356, 23609), (8839, 5903))"
     },
     "execution_count": 19,
     "metadata": {},
     "output_type": "execute_result"
    }
   ],
   "source": [
    "from PIL import Image\n",
    "Image.MAX_IMAGE_PIXELS=None\n",
    "from skimage.morphology import remove_small_objects\n",
    "import numpy as np\n",
    "import cv2\n",
    "from skimage.measure import label\n",
    "from matplotlib import pyplot as plt\n",
    "dlsrc = r'\\\\fatherserverdw\\Q\\research\\images\\skin_aging\\1um\\classification_v9_combined'\n",
    "roisrc = r'\\\\fatherserverdw\\Q\\research\\images\\skin_aging\\annotation\\roi\\tif'\n",
    "dl = Image.open(os.path.join(dlsrc, '41.tif'))\n",
    "roi = Image.open(os.path.join(roisrc, '41_tissue_binary.tif'))\n",
    "dl.size ,roi.size"
   ],
   "metadata": {
    "collapsed": false,
    "pycharm": {
     "name": "#%%\n"
    }
   }
  },
  {
   "cell_type": "code",
   "execution_count": 36,
   "outputs": [],
   "source": [
    "roiarr = np.array(roi)\n",
    "roiimL = label(roiarr)\n",
    "numsec = np.max(roiimL)\n",
    "\n",
    "#we are gonna resize dl to roi size for faster calculations\n",
    "dl = dl.resize(roi.size)\n",
    "dlarr = np.array(dl)\n",
    "\n",
    "minszs = [8000,100000,1000,1000,1000,1000,1000,1000,1000,10000,1000] # 11 elements\n",
    "minszs = [round(_ / 16) for _ in minszs] #downscale by 16 from 0.454um/px to 2um/px\n",
    "roidx = 3\n",
    "dlarrm = np.multiply(dlarr, roiimL == roidx)\n",
    "\n",
    "minsz = minszs[roidx-1]\n",
    "dltmp = dlarrm==roidx\n",
    "dltmp2 = remove_small_objects(dltmp,minsz)"
   ],
   "metadata": {
    "collapsed": false,
    "pycharm": {
     "name": "#%%\n"
    }
   }
  },
  {
   "cell_type": "code",
   "execution_count": 37,
   "outputs": [
    {
     "data": {
      "text/plain": "<matplotlib.image.AxesImage at 0x20c5aa8d6a0>"
     },
     "execution_count": 37,
     "metadata": {},
     "output_type": "execute_result"
    },
    {
     "data": {
      "text/plain": "<Figure size 432x288 with 1 Axes>",
      "image/png": "[encoded data removed]"
     },
     "metadata": {
      "needs_background": "light"
     },
     "output_type": "display_data"
    }
   ],
   "source": [
    "plt.imshow(dlarrm)"
   ],
   "metadata": {
    "collapsed": false,
    "pycharm": {
     "name": "#%%\n"
    }
   }
  },
  {
   "cell_type": "code",
   "execution_count": 25,
   "outputs": [
    {
     "data": {
      "text/plain": "<matplotlib.image.AxesImage at 0x20c59fddaf0>"
     },
     "execution_count": 25,
     "metadata": {},
     "output_type": "execute_result"
    },
    {
     "data": {
      "text/plain": "<Figure size 432x288 with 1 Axes>",
      "image/png": "[encoded data removed]"
     },
     "metadata": {
      "needs_background": "light"
     },
     "output_type": "display_data"
    }
   ],
   "source": [
    "plt.imshow(dltmp)"
   ],
   "metadata": {
    "collapsed": false,
    "pycharm": {
     "name": "#%%\n"
    }
   }
  },
  {
   "cell_type": "code",
   "execution_count": 33,
   "outputs": [
    {
     "data": {
      "text/plain": "12800"
     },
     "execution_count": 33,
     "metadata": {},
     "output_type": "execute_result"
    }
   ],
   "source": [
    "800*16"
   ],
   "metadata": {
    "collapsed": false,
    "pycharm": {
     "name": "#%%\n"
    }
   }
  },
  {
   "cell_type": "code",
   "execution_count": 35,
   "outputs": [
    {
     "data": {
      "text/plain": "<matplotlib.image.AxesImage at 0x20c5a8df310>"
     },
     "execution_count": 35,
     "metadata": {},
     "output_type": "execute_result"
    },
    {
     "data": {
      "text/plain": "<Figure size 432x288 with 1 Axes>",
      "image/png": "[encoded data removed]"
     },
     "metadata": {
      "needs_background": "light"
     },
     "output_type": "display_data"
    }
   ],
   "source": [
    "plt.imshow(remove_small_objects(dltmp,500))"
   ],
   "metadata": {
    "collapsed": false,
    "pycharm": {
     "name": "#%%\n"
    }
   }
  }
 ],
 "metadata": {
  "kernelspec": {
   "display_name": "Python 3",
   "language": "python",
   "name": "python3"
  },
  "language_info": {
   "codemirror_mode": {
    "name": "ipython",
    "version": 2
   },
   "file_extension": ".py",
   "mimetype": "text/x-python",
   "name": "python",
   "nbconvert_exporter": "python",
   "pygments_lexer": "ipython2",
   "version": "2.7.6"
  }
 },
 "nbformat": 4,
 "nbformat_minor": 0
}