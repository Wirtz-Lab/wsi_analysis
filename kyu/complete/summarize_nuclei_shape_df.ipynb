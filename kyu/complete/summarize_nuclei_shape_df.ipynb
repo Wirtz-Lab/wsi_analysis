{
 "cells": [
  {
   "cell_type": "code",
   "execution_count": 3,
   "outputs": [],
   "source": [
    "import pandas as pd\n",
    "from time import time\n",
    "import numpy as np\n",
    "import os, glob"
   ],
   "metadata": {
    "collapsed": false,
    "pycharm": {
     "name": "#%%\n"
    }
   }
  },
  {
   "cell_type": "code",
   "execution_count": 39,
   "outputs": [
    {
     "ename": "EOFError",
     "evalue": "Ran out of input",
     "output_type": "error",
     "traceback": [
      "\u001B[1;31m---------------------------------------------------------------------------\u001B[0m",
      "\u001B[1;31mEOFError\u001B[0m                                  Traceback (most recent call last)",
      "Input \u001B[1;32mIn [39]\u001B[0m, in \u001B[0;36m<cell line: 4>\u001B[1;34m()\u001B[0m\n\u001B[0;32m      2\u001B[0m start \u001B[38;5;241m=\u001B[39mtime()\n\u001B[0;32m      3\u001B[0m src \u001B[38;5;241m=\u001B[39m \u001B[38;5;124mr\u001B[39m\u001B[38;5;124m'\u001B[39m\u001B[38;5;130;01m\\\\\u001B[39;00m\u001B[38;5;124mfatherserverdw\u001B[39m\u001B[38;5;124m\\\u001B[39m\u001B[38;5;124mq\u001B[39m\u001B[38;5;124m\\\u001B[39m\u001B[38;5;124mresearch\u001B[39m\u001B[38;5;124m\\\u001B[39m\u001B[38;5;124mimages\u001B[39m\u001B[38;5;124m\\\u001B[39m\u001B[38;5;124mskin_aging\u001B[39m\u001B[38;5;124m\\\u001B[39m\u001B[38;5;124mwsi\u001B[39m\u001B[38;5;124m\\\u001B[39m\u001B[38;5;124mhovernet_out\u001B[39m\u001B[38;5;124m\\\u001B[39m\u001B[38;5;124mdfv2\u001B[39m\u001B[38;5;124m'\u001B[39m\n\u001B[1;32m----> 4\u001B[0m df \u001B[38;5;241m=\u001B[39m pd\u001B[38;5;241m.\u001B[39mconcat([pd\u001B[38;5;241m.\u001B[39mread_pickle(_) \u001B[38;5;28;01mfor\u001B[39;00m _ \u001B[38;5;129;01min\u001B[39;00m glob\u001B[38;5;241m.\u001B[39mglob(os\u001B[38;5;241m.\u001B[39mpath\u001B[38;5;241m.\u001B[39mjoin(src,\u001B[38;5;124m'\u001B[39m\u001B[38;5;124m*.pkl\u001B[39m\u001B[38;5;124m'\u001B[39m)) \u001B[38;5;28;01mif\u001B[39;00m (\u001B[38;5;124m'\u001B[39m\u001B[38;5;124m156\u001B[39m\u001B[38;5;124m'\u001B[39m \u001B[38;5;129;01mnot\u001B[39;00m \u001B[38;5;129;01min\u001B[39;00m _) \u001B[38;5;129;01mand\u001B[39;00m (\u001B[38;5;124m'\u001B[39m\u001B[38;5;124m167\u001B[39m\u001B[38;5;124m'\u001B[39m \u001B[38;5;129;01mnot\u001B[39;00m \u001B[38;5;129;01min\u001B[39;00m _)], ignore_index\u001B[38;5;241m=\u001B[39m\u001B[38;5;28;01mTrue\u001B[39;00m)\n\u001B[0;32m      5\u001B[0m \u001B[38;5;28mprint\u001B[39m(time()\u001B[38;5;241m-\u001B[39mstart)\n",
      "Input \u001B[1;32mIn [39]\u001B[0m, in \u001B[0;36m<listcomp>\u001B[1;34m(.0)\u001B[0m\n\u001B[0;32m      2\u001B[0m start \u001B[38;5;241m=\u001B[39mtime()\n\u001B[0;32m      3\u001B[0m src \u001B[38;5;241m=\u001B[39m \u001B[38;5;124mr\u001B[39m\u001B[38;5;124m'\u001B[39m\u001B[38;5;130;01m\\\\\u001B[39;00m\u001B[38;5;124mfatherserverdw\u001B[39m\u001B[38;5;124m\\\u001B[39m\u001B[38;5;124mq\u001B[39m\u001B[38;5;124m\\\u001B[39m\u001B[38;5;124mresearch\u001B[39m\u001B[38;5;124m\\\u001B[39m\u001B[38;5;124mimages\u001B[39m\u001B[38;5;124m\\\u001B[39m\u001B[38;5;124mskin_aging\u001B[39m\u001B[38;5;124m\\\u001B[39m\u001B[38;5;124mwsi\u001B[39m\u001B[38;5;124m\\\u001B[39m\u001B[38;5;124mhovernet_out\u001B[39m\u001B[38;5;124m\\\u001B[39m\u001B[38;5;124mdfv2\u001B[39m\u001B[38;5;124m'\u001B[39m\n\u001B[1;32m----> 4\u001B[0m df \u001B[38;5;241m=\u001B[39m pd\u001B[38;5;241m.\u001B[39mconcat([\u001B[43mpd\u001B[49m\u001B[38;5;241;43m.\u001B[39;49m\u001B[43mread_pickle\u001B[49m\u001B[43m(\u001B[49m\u001B[43m_\u001B[49m\u001B[43m)\u001B[49m \u001B[38;5;28;01mfor\u001B[39;00m _ \u001B[38;5;129;01min\u001B[39;00m glob\u001B[38;5;241m.\u001B[39mglob(os\u001B[38;5;241m.\u001B[39mpath\u001B[38;5;241m.\u001B[39mjoin(src,\u001B[38;5;124m'\u001B[39m\u001B[38;5;124m*.pkl\u001B[39m\u001B[38;5;124m'\u001B[39m)) \u001B[38;5;28;01mif\u001B[39;00m (\u001B[38;5;124m'\u001B[39m\u001B[38;5;124m156\u001B[39m\u001B[38;5;124m'\u001B[39m \u001B[38;5;129;01mnot\u001B[39;00m \u001B[38;5;129;01min\u001B[39;00m _) \u001B[38;5;129;01mand\u001B[39;00m (\u001B[38;5;124m'\u001B[39m\u001B[38;5;124m167\u001B[39m\u001B[38;5;124m'\u001B[39m \u001B[38;5;129;01mnot\u001B[39;00m \u001B[38;5;129;01min\u001B[39;00m _)], ignore_index\u001B[38;5;241m=\u001B[39m\u001B[38;5;28;01mTrue\u001B[39;00m)\n\u001B[0;32m      5\u001B[0m \u001B[38;5;28mprint\u001B[39m(time()\u001B[38;5;241m-\u001B[39mstart)\n",
      "File \u001B[1;32m~\\anaconda3\\envs\\wsi_analysis\\lib\\site-packages\\pandas\\io\\pickle.py:205\u001B[0m, in \u001B[0;36mread_pickle\u001B[1;34m(filepath_or_buffer, compression, storage_options)\u001B[0m\n\u001B[0;32m    202\u001B[0m     \u001B[38;5;28;01mwith\u001B[39;00m warnings\u001B[38;5;241m.\u001B[39mcatch_warnings(record\u001B[38;5;241m=\u001B[39m\u001B[38;5;28;01mTrue\u001B[39;00m):\n\u001B[0;32m    203\u001B[0m         \u001B[38;5;66;03m# We want to silence any warnings about, e.g. moved modules.\u001B[39;00m\n\u001B[0;32m    204\u001B[0m         warnings\u001B[38;5;241m.\u001B[39msimplefilter(\u001B[38;5;124m\"\u001B[39m\u001B[38;5;124mignore\u001B[39m\u001B[38;5;124m\"\u001B[39m, \u001B[38;5;167;01mWarning\u001B[39;00m)\n\u001B[1;32m--> 205\u001B[0m         \u001B[38;5;28;01mreturn\u001B[39;00m \u001B[43mpickle\u001B[49m\u001B[38;5;241;43m.\u001B[39;49m\u001B[43mload\u001B[49m\u001B[43m(\u001B[49m\u001B[43mhandles\u001B[49m\u001B[38;5;241;43m.\u001B[39;49m\u001B[43mhandle\u001B[49m\u001B[43m)\u001B[49m\n\u001B[0;32m    206\u001B[0m \u001B[38;5;28;01mexcept\u001B[39;00m excs_to_catch:\n\u001B[0;32m    207\u001B[0m     \u001B[38;5;66;03m# e.g.\u001B[39;00m\n\u001B[0;32m    208\u001B[0m     \u001B[38;5;66;03m#  \"No module named 'pandas.core.sparse.series'\"\u001B[39;00m\n\u001B[0;32m    209\u001B[0m     \u001B[38;5;66;03m#  \"Can't get attribute '__nat_unpickle' on <module 'pandas._libs.tslib\"\u001B[39;00m\n\u001B[0;32m    210\u001B[0m     \u001B[38;5;28;01mreturn\u001B[39;00m pc\u001B[38;5;241m.\u001B[39mload(handles\u001B[38;5;241m.\u001B[39mhandle, encoding\u001B[38;5;241m=\u001B[39m\u001B[38;5;28;01mNone\u001B[39;00m)\n",
      "\u001B[1;31mEOFError\u001B[0m: Ran out of input"
     ]
    }
   ],
   "source": [
    "#compile individual df\n",
    "start =time()\n",
    "src = r'\\\\fatherserverdw\\q\\research\\images\\skin_aging\\wsi\\hovernet_out\\dfv2'\n",
    "df = pd.concat([pd.read_pickle(_) for _ in glob.glob(os.path.join(src,'*.pkl')) if ('156' not in _) and ('167' not in _)], ignore_index=True)\n",
    "print(time()-start)"
   ],
   "metadata": {
    "collapsed": false,
    "pycharm": {
     "name": "#%%\n"
    }
   }
  },
  {
   "cell_type": "code",
   "execution_count": 43,
   "outputs": [],
   "source": [
    "df = df.astype({'type': 'int8',\n",
    "           'inroi': 'int8',\n",
    "           'resident_area': 'int32',\n",
    "           'Area': 'float32',\n",
    "           'Perimeter': 'float32',\n",
    "           'Circularity': 'float32',\n",
    "           'MA': 'float32',\n",
    "           'ma': 'float32',\n",
    "           'orientation': 'float32',\n",
    "           'AspectRatio': 'float32',\n",
    "           'Sol': 'float32',\n",
    "           'Extent': 'float32',\n",
    "           'EquiDia': 'float32',\n",
    "           'imID': 'int16',\n",
    "           'dist2nearest': 'float32',\n",
    "           'oriA': 'float32',\n",
    "           'oriB': 'float32',\n",
    "           'local_align': 'float32'})"
   ],
   "metadata": {
    "collapsed": false,
    "pycharm": {
     "name": "#%%\n"
    }
   }
  },
  {
   "cell_type": "code",
   "execution_count": 48,
   "outputs": [
    {
     "data": {
      "text/plain": "                             bbox                                  centroid  \\\n0  [[2704, 42876], [2713, 42885]]   [3968.290909090909, 41619.527272727275]   \n1  [[2512, 44562], [2520, 44575]]    [3607.698795180723, 43476.01204819277]   \n2  [[4331, 44227], [4340, 44235]]    [5318.245283018868, 43246.64150943396]   \n3  [[4589, 44719], [4601, 44731]]  [5812.0084745762715, 43506.338983050846]   \n4  [[4596, 43456], [4604, 43466]]               [4548.5, 43511.55172413793]   \n\n                                             contour  type  inroi  \\\n0  [[3966, 41616], [3965, 41617], [3965, 41618], ...    10      2   \n1  [[3605, 43472], [3604, 43473], [3603, 43473], ...    10      2   \n2  [[5318, 43243], [5317, 43244], [5316, 43244], ...    10      2   \n3  [[5807, 43501], [5807, 43509], [5808, 43510], ...    10      2   \n4  [[4547, 43508], [4546, 43509], [4544, 43509], ...    10      2   \n\n   resident_area  Area  Perimeter  Circularity         MA  ...  \\\n0         286900  43.5  25.556349     0.836954   8.674428  ...   \n1         286900  67.0  33.313709     0.758645  12.677104  ...   \n2         286900  41.0  25.313707     0.804048   8.834397  ...   \n3         286900  99.0  39.313709     0.804928  13.713907  ...   \n4         286900  45.0  27.313709     0.757986   9.958237  ...   \n\n   nucleus2spinosum  nucleus2shaft  nucleus2follicle  nucleus2muscle  \\\n0            2502.0         2802.0            2770.0          1701.0   \n1            3312.0         3570.0            3626.0          2538.0   \n2            2924.0         2848.0            3390.0          2252.0   \n3            2984.0         2598.0            3500.0          2360.0   \n4            3148.0         3150.0            3550.0          2424.0   \n\n   nucleus2oil  nucleus2sweat  nucleus2nerve  nucleus2blood  nucleus2ecm  \\\n0       2250.0         1520.0         1775.0         1668.0          0.0   \n1       3100.0         2082.0         2564.0         2044.0          4.0   \n2       2848.0         1463.0         1914.0         1353.0          0.0   \n3       2956.0         1430.0         1717.0         1100.0          0.0   \n4       3012.0         1785.0         2252.0         1629.0          0.0   \n\n   nucleus2fat  \n0    405.00000  \n1      5.65625  \n2    188.37500  \n3    203.62500  \n4     28.00000  \n\n[5 rows x 32 columns]",
      "text/html": "<div>\n<style scoped>\n    .dataframe tbody tr th:only-of-type {\n        vertical-align: middle;\n    }\n\n    .dataframe tbody tr th {\n        vertical-align: top;\n    }\n\n    .dataframe thead th {\n        text-align: right;\n    }\n</style>\n<table border=\"1\" class=\"dataframe\">\n  <thead>\n    <tr style=\"text-align: right;\">\n      <th></th>\n      <th>bbox</th>\n      <th>centroid</th>\n      <th>contour</th>\n      <th>type</th>\n      <th>inroi</th>\n      <th>resident_area</th>\n      <th>Area</th>\n      <th>Perimeter</th>\n      <th>Circularity</th>\n      <th>MA</th>\n      <th>...</th>\n      <th>nucleus2spinosum</th>\n      <th>nucleus2shaft</th>\n      <th>nucleus2follicle</th>\n      <th>nucleus2muscle</th>\n      <th>nucleus2oil</th>\n      <th>nucleus2sweat</th>\n      <th>nucleus2nerve</th>\n      <th>nucleus2blood</th>\n      <th>nucleus2ecm</th>\n      <th>nucleus2fat</th>\n    </tr>\n  </thead>\n  <tbody>\n    <tr>\n      <th>0</th>\n      <td>[[2704, 42876], [2713, 42885]]</td>\n      <td>[3968.290909090909, 41619.527272727275]</td>\n      <td>[[3966, 41616], [3965, 41617], [3965, 41618], ...</td>\n      <td>10</td>\n      <td>2</td>\n      <td>286900</td>\n      <td>43.5</td>\n      <td>25.556349</td>\n      <td>0.836954</td>\n      <td>8.674428</td>\n      <td>...</td>\n      <td>2502.0</td>\n      <td>2802.0</td>\n      <td>2770.0</td>\n      <td>1701.0</td>\n      <td>2250.0</td>\n      <td>1520.0</td>\n      <td>1775.0</td>\n      <td>1668.0</td>\n      <td>0.0</td>\n      <td>405.00000</td>\n    </tr>\n    <tr>\n      <th>1</th>\n      <td>[[2512, 44562], [2520, 44575]]</td>\n      <td>[3607.698795180723, 43476.01204819277]</td>\n      <td>[[3605, 43472], [3604, 43473], [3603, 43473], ...</td>\n      <td>10</td>\n      <td>2</td>\n      <td>286900</td>\n      <td>67.0</td>\n      <td>33.313709</td>\n      <td>0.758645</td>\n      <td>12.677104</td>\n      <td>...</td>\n      <td>3312.0</td>\n      <td>3570.0</td>\n      <td>3626.0</td>\n      <td>2538.0</td>\n      <td>3100.0</td>\n      <td>2082.0</td>\n      <td>2564.0</td>\n      <td>2044.0</td>\n      <td>4.0</td>\n      <td>5.65625</td>\n    </tr>\n    <tr>\n      <th>2</th>\n      <td>[[4331, 44227], [4340, 44235]]</td>\n      <td>[5318.245283018868, 43246.64150943396]</td>\n      <td>[[5318, 43243], [5317, 43244], [5316, 43244], ...</td>\n      <td>10</td>\n      <td>2</td>\n      <td>286900</td>\n      <td>41.0</td>\n      <td>25.313707</td>\n      <td>0.804048</td>\n      <td>8.834397</td>\n      <td>...</td>\n      <td>2924.0</td>\n      <td>2848.0</td>\n      <td>3390.0</td>\n      <td>2252.0</td>\n      <td>2848.0</td>\n      <td>1463.0</td>\n      <td>1914.0</td>\n      <td>1353.0</td>\n      <td>0.0</td>\n      <td>188.37500</td>\n    </tr>\n    <tr>\n      <th>3</th>\n      <td>[[4589, 44719], [4601, 44731]]</td>\n      <td>[5812.0084745762715, 43506.338983050846]</td>\n      <td>[[5807, 43501], [5807, 43509], [5808, 43510], ...</td>\n      <td>10</td>\n      <td>2</td>\n      <td>286900</td>\n      <td>99.0</td>\n      <td>39.313709</td>\n      <td>0.804928</td>\n      <td>13.713907</td>\n      <td>...</td>\n      <td>2984.0</td>\n      <td>2598.0</td>\n      <td>3500.0</td>\n      <td>2360.0</td>\n      <td>2956.0</td>\n      <td>1430.0</td>\n      <td>1717.0</td>\n      <td>1100.0</td>\n      <td>0.0</td>\n      <td>203.62500</td>\n    </tr>\n    <tr>\n      <th>4</th>\n      <td>[[4596, 43456], [4604, 43466]]</td>\n      <td>[4548.5, 43511.55172413793]</td>\n      <td>[[4547, 43508], [4546, 43509], [4544, 43509], ...</td>\n      <td>10</td>\n      <td>2</td>\n      <td>286900</td>\n      <td>45.0</td>\n      <td>27.313709</td>\n      <td>0.757986</td>\n      <td>9.958237</td>\n      <td>...</td>\n      <td>3148.0</td>\n      <td>3150.0</td>\n      <td>3550.0</td>\n      <td>2424.0</td>\n      <td>3012.0</td>\n      <td>1785.0</td>\n      <td>2252.0</td>\n      <td>1629.0</td>\n      <td>0.0</td>\n      <td>28.00000</td>\n    </tr>\n  </tbody>\n</table>\n<p>5 rows × 32 columns</p>\n</div>"
     },
     "execution_count": 48,
     "metadata": {},
     "output_type": "execute_result"
    }
   ],
   "source": [
    "df.head()"
   ],
   "metadata": {
    "collapsed": false,
    "pycharm": {
     "name": "#%%\n"
    }
   }
  },
  {
   "cell_type": "code",
   "execution_count": 46,
   "outputs": [],
   "source": [
    "df[['nucleus2corneum','nucleus2spinosum','nucleus2shaft','nucleus2follicle','nucleus2muscle','nucleus2oil','nucleus2sweat','nucleus2nerve','nucleus2blood','nucleus2ecm','nucleus2fat']] = pd.DataFrame(df.c2t_distance.tolist(), index= df.index, dtype=np.float32)\n",
    "df.drop([\"c2t_distance\"],inplace=True, axis=1)"
   ],
   "metadata": {
    "collapsed": false,
    "pycharm": {
     "name": "#%%\n"
    }
   }
  },
  {
   "cell_type": "code",
   "execution_count": 53,
   "outputs": [],
   "source": [
    "df = df.reset_index(drop=True)"
   ],
   "metadata": {
    "collapsed": false,
    "pycharm": {
     "name": "#%%\n"
    }
   }
  },
  {
   "cell_type": "code",
   "execution_count": 54,
   "outputs": [],
   "source": [
    "df.to_feather(os.path.join(src, '2d_skin_hovernet_nuclei.ftr'))"
   ],
   "metadata": {
    "collapsed": false,
    "pycharm": {
     "name": "#%%\n"
    }
   }
  },
  {
   "cell_type": "code",
   "execution_count": 4,
   "outputs": [
    {
     "name": "stdout",
     "output_type": "stream",
     "text": [
      "57\n"
     ]
    }
   ],
   "source": [
    "start =time()\n",
    "src = r'\\\\fatherserverdw\\q\\research\\images\\skin_aging\\wsi\\hovernet_out\\dfv2'\n",
    "df = pd.read_feather(os.path.join(src, '2d_skin_hovernet_nuclei.ftr')) #2.6GB\n",
    "print(round(time()-start))"
   ],
   "metadata": {
    "collapsed": false,
    "pycharm": {
     "name": "#%%\n"
    }
   }
  },
  {
   "cell_type": "code",
   "execution_count": 9,
   "outputs": [],
   "source": [
    "agelut = pd.read_excel(r'\\\\fatherserverdw\\Q\\research\\source code\\skin_aging_matlab\\skin_samples.xlsx', sheet_name='imlist')"
   ],
   "metadata": {
    "collapsed": false,
    "pycharm": {
     "name": "#%%\n"
    }
   }
  },
  {
   "cell_type": "code",
   "execution_count": 5,
   "outputs": [
    {
     "data": {
      "text/plain": "                             bbox                                  centroid  \\\n0  [[2704, 42876], [2713, 42885]]   [3968.290909090909, 41619.527272727275]   \n1  [[2512, 44562], [2520, 44575]]    [3607.698795180723, 43476.01204819277]   \n2  [[4331, 44227], [4340, 44235]]    [5318.245283018868, 43246.64150943396]   \n3  [[4589, 44719], [4601, 44731]]  [5812.0084745762715, 43506.338983050846]   \n4  [[4596, 43456], [4604, 43466]]               [4548.5, 43511.55172413793]   \n\n                                             contour  type  inroi  \\\n0  [[3966, 41616], [3965, 41617], [3965, 41618], ...    10      2   \n1  [[3605, 43472], [3604, 43473], [3603, 43473], ...    10      2   \n2  [[5318, 43243], [5317, 43244], [5316, 43244], ...    10      2   \n3  [[5807, 43501], [5807, 43509], [5808, 43510], ...    10      2   \n4  [[4547, 43508], [4546, 43509], [4544, 43509], ...    10      2   \n\n   resident_area  Area  Perimeter  Circularity         MA  ...  \\\n0         286900  43.5  25.556349     0.836954   8.674428  ...   \n1         286900  67.0  33.313709     0.758645  12.677104  ...   \n2         286900  41.0  25.313707     0.804048   8.834397  ...   \n3         286900  99.0  39.313709     0.804928  13.713907  ...   \n4         286900  45.0  27.313709     0.757986   9.958237  ...   \n\n   nucleus2spinosum  nucleus2shaft  nucleus2follicle  nucleus2muscle  \\\n0            2502.0         2802.0            2770.0          1701.0   \n1            3312.0         3570.0            3626.0          2538.0   \n2            2924.0         2848.0            3390.0          2252.0   \n3            2984.0         2598.0            3500.0          2360.0   \n4            3148.0         3150.0            3550.0          2424.0   \n\n   nucleus2oil  nucleus2sweat  nucleus2nerve  nucleus2blood  nucleus2ecm  \\\n0       2250.0         1520.0         1775.0         1668.0          0.0   \n1       3100.0         2082.0         2564.0         2044.0          4.0   \n2       2848.0         1463.0         1914.0         1353.0          0.0   \n3       2956.0         1430.0         1717.0         1100.0          0.0   \n4       3012.0         1785.0         2252.0         1629.0          0.0   \n\n   nucleus2fat  \n0    405.00000  \n1      5.65625  \n2    188.37500  \n3    203.62500  \n4     28.00000  \n\n[5 rows x 32 columns]",
      "text/html": "<div>\n<style scoped>\n    .dataframe tbody tr th:only-of-type {\n        vertical-align: middle;\n    }\n\n    .dataframe tbody tr th {\n        vertical-align: top;\n    }\n\n    .dataframe thead th {\n        text-align: right;\n    }\n</style>\n<table border=\"1\" class=\"dataframe\">\n  <thead>\n    <tr style=\"text-align: right;\">\n      <th></th>\n      <th>bbox</th>\n      <th>centroid</th>\n      <th>contour</th>\n      <th>type</th>\n      <th>inroi</th>\n      <th>resident_area</th>\n      <th>Area</th>\n      <th>Perimeter</th>\n      <th>Circularity</th>\n      <th>MA</th>\n      <th>...</th>\n      <th>nucleus2spinosum</th>\n      <th>nucleus2shaft</th>\n      <th>nucleus2follicle</th>\n      <th>nucleus2muscle</th>\n      <th>nucleus2oil</th>\n      <th>nucleus2sweat</th>\n      <th>nucleus2nerve</th>\n      <th>nucleus2blood</th>\n      <th>nucleus2ecm</th>\n      <th>nucleus2fat</th>\n    </tr>\n  </thead>\n  <tbody>\n    <tr>\n      <th>0</th>\n      <td>[[2704, 42876], [2713, 42885]]</td>\n      <td>[3968.290909090909, 41619.527272727275]</td>\n      <td>[[3966, 41616], [3965, 41617], [3965, 41618], ...</td>\n      <td>10</td>\n      <td>2</td>\n      <td>286900</td>\n      <td>43.5</td>\n      <td>25.556349</td>\n      <td>0.836954</td>\n      <td>8.674428</td>\n      <td>...</td>\n      <td>2502.0</td>\n      <td>2802.0</td>\n      <td>2770.0</td>\n      <td>1701.0</td>\n      <td>2250.0</td>\n      <td>1520.0</td>\n      <td>1775.0</td>\n      <td>1668.0</td>\n      <td>0.0</td>\n      <td>405.00000</td>\n    </tr>\n    <tr>\n      <th>1</th>\n      <td>[[2512, 44562], [2520, 44575]]</td>\n      <td>[3607.698795180723, 43476.01204819277]</td>\n      <td>[[3605, 43472], [3604, 43473], [3603, 43473], ...</td>\n      <td>10</td>\n      <td>2</td>\n      <td>286900</td>\n      <td>67.0</td>\n      <td>33.313709</td>\n      <td>0.758645</td>\n      <td>12.677104</td>\n      <td>...</td>\n      <td>3312.0</td>\n      <td>3570.0</td>\n      <td>3626.0</td>\n      <td>2538.0</td>\n      <td>3100.0</td>\n      <td>2082.0</td>\n      <td>2564.0</td>\n      <td>2044.0</td>\n      <td>4.0</td>\n      <td>5.65625</td>\n    </tr>\n    <tr>\n      <th>2</th>\n      <td>[[4331, 44227], [4340, 44235]]</td>\n      <td>[5318.245283018868, 43246.64150943396]</td>\n      <td>[[5318, 43243], [5317, 43244], [5316, 43244], ...</td>\n      <td>10</td>\n      <td>2</td>\n      <td>286900</td>\n      <td>41.0</td>\n      <td>25.313707</td>\n      <td>0.804048</td>\n      <td>8.834397</td>\n      <td>...</td>\n      <td>2924.0</td>\n      <td>2848.0</td>\n      <td>3390.0</td>\n      <td>2252.0</td>\n      <td>2848.0</td>\n      <td>1463.0</td>\n      <td>1914.0</td>\n      <td>1353.0</td>\n      <td>0.0</td>\n      <td>188.37500</td>\n    </tr>\n    <tr>\n      <th>3</th>\n      <td>[[4589, 44719], [4601, 44731]]</td>\n      <td>[5812.0084745762715, 43506.338983050846]</td>\n      <td>[[5807, 43501], [5807, 43509], [5808, 43510], ...</td>\n      <td>10</td>\n      <td>2</td>\n      <td>286900</td>\n      <td>99.0</td>\n      <td>39.313709</td>\n      <td>0.804928</td>\n      <td>13.713907</td>\n      <td>...</td>\n      <td>2984.0</td>\n      <td>2598.0</td>\n      <td>3500.0</td>\n      <td>2360.0</td>\n      <td>2956.0</td>\n      <td>1430.0</td>\n      <td>1717.0</td>\n      <td>1100.0</td>\n      <td>0.0</td>\n      <td>203.62500</td>\n    </tr>\n    <tr>\n      <th>4</th>\n      <td>[[4596, 43456], [4604, 43466]]</td>\n      <td>[4548.5, 43511.55172413793]</td>\n      <td>[[4547, 43508], [4546, 43509], [4544, 43509], ...</td>\n      <td>10</td>\n      <td>2</td>\n      <td>286900</td>\n      <td>45.0</td>\n      <td>27.313709</td>\n      <td>0.757986</td>\n      <td>9.958237</td>\n      <td>...</td>\n      <td>3148.0</td>\n      <td>3150.0</td>\n      <td>3550.0</td>\n      <td>2424.0</td>\n      <td>3012.0</td>\n      <td>1785.0</td>\n      <td>2252.0</td>\n      <td>1629.0</td>\n      <td>0.0</td>\n      <td>28.00000</td>\n    </tr>\n  </tbody>\n</table>\n<p>5 rows × 32 columns</p>\n</div>"
     },
     "execution_count": 5,
     "metadata": {},
     "output_type": "execute_result"
    }
   ],
   "source": [
    "df.head()"
   ],
   "metadata": {
    "collapsed": false,
    "pycharm": {
     "name": "#%%\n"
    }
   }
  },
  {
   "cell_type": "code",
   "execution_count": 7,
   "outputs": [
    {
     "data": {
      "text/plain": "array([10, 11,  9,  8,  6,  4,  5,  7,  2,  3], dtype=int8)"
     },
     "execution_count": 7,
     "metadata": {},
     "output_type": "execute_result"
    }
   ],
   "source": [
    "df.type.unique()"
   ],
   "metadata": {
    "collapsed": false,
    "pycharm": {
     "name": "#%%\n"
    }
   }
  },
  {
   "cell_type": "code",
   "execution_count": 5,
   "outputs": [
    {
     "data": {
      "text/plain": "(0.999, 2.0]    2697902\n(2.0, 3.0]        18142\n(3.0, 4.0]       186958\n(4.0, 5.0]       234765\n(5.0, 6.0]       204154\n(6.0, 7.0]       734048\n(7.0, 8.0]       229900\n(8.0, 9.0]      1050275\n(9.0, 10.0]     2443222\n(10.0, 11.0]      42794\n(11.0, 12.0]          0\nName: type, dtype: int64"
     },
     "execution_count": 5,
     "metadata": {},
     "output_type": "execute_result"
    }
   ],
   "source": [
    "histcounts = df.type.value_counts(bins=[1,2,3,4,5,6,7,8,9,10,11,12]).sort_index()\n",
    "histcounts"
   ],
   "metadata": {
    "collapsed": false,
    "pycharm": {
     "name": "#%%\n"
    }
   }
  },
  {
   "cell_type": "code",
   "execution_count": 6,
   "outputs": [
    {
     "data": {
      "text/plain": "(0.999, 2.0]    34.402537\n(2.0, 3.0]       0.231339\n(3.0, 4.0]       2.384012\n(4.0, 5.0]       2.993627\n(5.0, 6.0]       2.603288\n(6.0, 7.0]       9.360278\n(7.0, 8.0]       2.931590\n(8.0, 9.0]      13.392675\n(9.0, 10.0]     31.154962\n(10.0, 11.0]     0.545691\n(11.0, 12.0]     0.000000\nName: type, dtype: float64"
     },
     "execution_count": 6,
     "metadata": {},
     "output_type": "execute_result"
    }
   ],
   "source": [
    "celltype_ratios = histcounts.divide(histcounts.sum()*0.01)\n",
    "celltype_ratios"
   ],
   "metadata": {
    "collapsed": false,
    "pycharm": {
     "name": "#%%\n"
    }
   }
  },
  {
   "cell_type": "code",
   "execution_count": 1,
   "outputs": [],
   "source": [
    "import matplotlib as mpl\n",
    "mpl.rcParams['savefig.format'] = 'svg'\n",
    "from matplotlib import pyplot as plt\n",
    "import matplotlib.font_manager as fm\n",
    "from matplotlib.cm import get_cmap\n",
    "import pywintypes\n",
    "import addcopyfighandler\n",
    "mpl.use('Qt5Agg')\n",
    "plt.plot([1,2,3],[1,2,3])\n",
    "plt.show()"
   ],
   "metadata": {
    "collapsed": false,
    "pycharm": {
     "name": "#%%\n"
    }
   }
  },
  {
   "cell_type": "code",
   "execution_count": 7,
   "outputs": [],
   "source": [
    "celltype_ratios.plot.bar().set_xticks(range(10),['Epidermis','Hair_shaft','Hair_follicle','Muscle','Oil','Sweat','Nerve','Blood','ECM','Fat'],rotation=45)\n",
    "plt.show()"
   ],
   "metadata": {
    "collapsed": false,
    "pycharm": {
     "name": "#%%\n"
    }
   }
  },
  {
   "cell_type": "code",
   "execution_count": 11,
   "outputs": [],
   "source": [
    "plt.show()"
   ],
   "metadata": {
    "collapsed": false,
    "pycharm": {
     "name": "#%%\n"
    }
   }
  },
  {
   "cell_type": "code",
   "execution_count": 67,
   "outputs": [
    {
     "data": {
      "text/plain": "71234"
     },
     "execution_count": 67,
     "metadata": {},
     "output_type": "execute_result"
    }
   ],
   "source": [
    "len(df.loc[(df.type==10) & (df.AspectRatio>3) & (df.Circularity<0.5) & (df.Area>50) & (df.dist2nearest>30)])"
   ],
   "metadata": {
    "collapsed": false,
    "pycharm": {
     "name": "#%%\n"
    }
   }
  },
  {
   "cell_type": "code",
   "execution_count": 10,
   "outputs": [],
   "source": [
    "# %%time\n",
    "avgs = []\n",
    "stds = []\n",
    "cvs = []\n",
    "#patient\n",
    "for imid in df['imID'].unique():\n",
    "    pkl = df[df['imID']==imid]\n",
    "    pkl = pkl.drop(columns=['bbox', 'centroid','contour'])\n",
    "    #section\n",
    "    for secid in pkl['inroi'].unique():\n",
    "        pk = pkl[pkl['inroi']==secid]\n",
    "        #tissue type\n",
    "        for type in range(2,11): #2-13 #12 is fibroblast #13 is inflammatory\n",
    "            p = pk[pk['type']==type]\n",
    "            pkmean = p.mean(axis=0)\n",
    "            pkmean['Ncell'] = len(p)\n",
    "            # In case there is no value, prevent wiping imid, type, inroi, age\n",
    "            pkmean['imID'] = imid\n",
    "            pkmean['type'] = type\n",
    "            pkmean['inroi'] = secid\n",
    "            pkmean['Age'] = agelut['Age'][agelut['redcap']==imid].values[0]\n",
    "            pkstd = p.std(axis=0)\n",
    "            pkstd['Ncell'] = 0\n",
    "            pkstd['imID'] = imid\n",
    "            pkstd['type'] = type\n",
    "            pkstd['inroi'] = secid\n",
    "            pkstd['Age'] = agelut['Age'][agelut['redcap']==imid].values[0]\n",
    "            pkcv = pkstd/pkmean\n",
    "            pkcv['imID'] = imid\n",
    "            pkcv['type'] = type\n",
    "            pkcv['inroi'] = secid\n",
    "            pkcv['Age'] = agelut['Age'][agelut['redcap']==8].values[0]\n",
    "            stds.append(pkstd.replace(np.nan,0))\n",
    "            avgs.append(pkmean.replace(np.nan, 0))\n",
    "            cvs.append(pkcv.replace(np.nan, 0))"
   ],
   "metadata": {
    "collapsed": false,
    "pycharm": {
     "name": "#%%\n"
    }
   }
  },
  {
   "cell_type": "code",
   "execution_count": 11,
   "outputs": [],
   "source": [
    "avgdf = pd.DataFrame(avgs)\n",
    "stddf = pd.DataFrame(stds)\n",
    "cvdf = pd.DataFrame(cvs)"
   ],
   "metadata": {
    "collapsed": false,
    "pycharm": {
     "name": "#%%\n"
    }
   }
  },
  {
   "cell_type": "code",
   "execution_count": 12,
   "outputs": [],
   "source": [
    "avgdf.to_csv('avgdf.csv')\n",
    "stddf.to_csv('stddf.csv')\n",
    "cvdf.to_csv('cvdf.csv')"
   ],
   "metadata": {
    "collapsed": false,
    "pycharm": {
     "name": "#%%\n"
    }
   }
  },
  {
   "cell_type": "code",
   "execution_count": 19,
   "outputs": [
    {
     "data": {
      "text/plain": "((35356, 23609), (8839, 5903))"
     },
     "execution_count": 19,
     "metadata": {},
     "output_type": "execute_result"
    }
   ],
   "source": [
    "from PIL import Image\n",
    "Image.MAX_IMAGE_PIXELS=None\n",
    "from skimage.morphology import remove_small_objects\n",
    "import numpy as np\n",
    "import cv2\n",
    "from skimage.measure import label\n",
    "from matplotlib import pyplot as plt\n",
    "dlsrc = r'\\\\fatherserverdw\\Q\\research\\images\\skin_aging\\1um\\classification_v9_combined'\n",
    "roisrc = r'\\\\fatherserverdw\\Q\\research\\images\\skin_aging\\annotation\\roi\\tif'\n",
    "dl = Image.open(os.path.join(dlsrc, '41.tif'))\n",
    "roi = Image.open(os.path.join(roisrc, '41_tissue_binary.tif'))\n",
    "dl.size ,roi.size"
   ],
   "metadata": {
    "collapsed": false,
    "pycharm": {
     "name": "#%%\n"
    }
   }
  },
  {
   "cell_type": "code",
   "execution_count": 36,
   "outputs": [],
   "source": [
    "roiarr = np.array(roi)\n",
    "roiimL = label(roiarr)\n",
    "numsec = np.max(roiimL)\n",
    "\n",
    "#we are gonna resize dl to roi size for faster calculations\n",
    "dl = dl.resize(roi.size)\n",
    "dlarr = np.array(dl)\n",
    "\n",
    "minszs = [8000,100000,1000,1000,1000,1000,1000,1000,1000,10000,1000] # 11 elements\n",
    "minszs = [round(_ / 16) for _ in minszs] #downscale by 16 from 0.454um/px to 2um/px\n",
    "roidx = 3\n",
    "dlarrm = np.multiply(dlarr, roiimL == roidx)\n",
    "\n",
    "minsz = minszs[roidx-1]\n",
    "dltmp = dlarrm==roidx\n",
    "dltmp2 = remove_small_objects(dltmp,minsz)"
   ],
   "metadata": {
    "collapsed": false,
    "pycharm": {
     "name": "#%%\n"
    }
   }
  },
  {
   "cell_type": "code",
   "execution_count": 37,
   "outputs": [
    {
     "data": {
      "text/plain": "<matplotlib.image.AxesImage at 0x20c5aa8d6a0>"
     },
     "execution_count": 37,
     "metadata": {},
     "output_type": "execute_result"
    },
    {
     "data": {
      "text/plain": "<Figure size 432x288 with 1 Axes>",
      "image/png": "[encoded data removed]"
     },
     "metadata": {
      "needs_background": "light"
     },
     "output_type": "display_data"
    }
   ],
   "source": [
    "plt.imshow(dlarrm)"
   ],
   "metadata": {
    "collapsed": false,
    "pycharm": {
     "name": "#%%\n"
    }
   }
  },
  {
   "cell_type": "code",
   "execution_count": 25,
   "outputs": [
    {
     "data": {
      "text/plain": "<matplotlib.image.AxesImage at 0x20c59fddaf0>"
     },
     "execution_count": 25,
     "metadata": {},
     "output_type": "execute_result"
    },
    {
     "data": {
      "text/plain": "<Figure size 432x288 with 1 Axes>",
      "image/png": "[encoded data removed]"
     },
     "metadata": {
      "needs_background": "light"
     },
     "output_type": "display_data"
    }
   ],
   "source": [
    "plt.imshow(dltmp)"
   ],
   "metadata": {
    "collapsed": false,
    "pycharm": {
     "name": "#%%\n"
    }
   }
  },
  {
   "cell_type": "code",
   "execution_count": 33,
   "outputs": [
    {
     "data": {
      "text/plain": "12800"
     },
     "execution_count": 33,
     "metadata": {},
     "output_type": "execute_result"
    }
   ],
   "source": [
    "800*16"
   ],
   "metadata": {
    "collapsed": false,
    "pycharm": {
     "name": "#%%\n"
    }
   }
  },
  {
   "cell_type": "code",
   "execution_count": 35,
   "outputs": [
    {
     "data": {
      "text/plain": "<matplotlib.image.AxesImage at 0x20c5a8df310>"
     },
     "execution_count": 35,
     "metadata": {},
     "output_type": "execute_result"
    },
    {
     "data": {
      "text/plain": "<Figure size 432x288 with 1 Axes>",
      "image/png": "[encoded data removed]"
     },
     "metadata": {
      "needs_background": "light"
     },
     "output_type": "display_data"
    }
   ],
   "source": [
    "plt.imshow(remove_small_objects(dltmp,500))"
   ],
   "metadata": {
    "collapsed": false,
    "pycharm": {
     "name": "#%%\n"
    }
   }
  }
 ],
 "metadata": {
  "kernelspec": {
   "display_name": "Python 3",
   "language": "python",
   "name": "python3"
  },
  "language_info": {
   "codemirror_mode": {
    "name": "ipython",
    "version": 2
   },
   "file_extension": ".py",
   "mimetype": "text/x-python",
   "name": "python",
   "nbconvert_exporter": "python",
   "pygments_lexer": "ipython2",
   "version": "2.7.6"
  }
 },
 "nbformat": 4,
 "nbformat_minor": 0
}