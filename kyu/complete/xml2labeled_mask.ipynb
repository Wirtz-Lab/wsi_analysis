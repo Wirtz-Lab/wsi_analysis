{
 "cells": [
  {
   "cell_type": "code",
   "execution_count": 36,
   "outputs": [],
   "source": [
    "import xml.etree.ElementTree as ET\n",
    "from time import time\n",
    "import numpy as np\n",
    "import cv2\n",
    "import os\n",
    "import pandas as pd\n",
    "from openslide import OpenSlide\n",
    "from PIL import Image\n",
    "Image.MAX_IMAGE_PIXELS=None"
   ],
   "metadata": {
    "collapsed": false,
    "pycharm": {
     "name": "#%%\n"
    }
   }
  },
  {
   "cell_type": "code",
   "execution_count": 37,
   "outputs": [],
   "source": [
    "# xml_path = absolute filepath of xml\n",
    "# mdict = 2D coordinates of annotation by class and object\n",
    "\n",
    "def xml2mask(xml_path,imsrc):\n",
    "\n",
    "    fol,fn = os.path.split(xml_path)\n",
    "    imfn = fn.replace('xml','ndpi')\n",
    "    mskdst = os.path.join(fol,'labeledmask')\n",
    "    dstfn = os.path.join(mskdst, '{}.png'.format(imfn.replace('.ndpi','')))\n",
    "    if os.path.exists(dstfn):\n",
    "        return\n",
    "\n",
    "    if not imfn.replace('ndpi','tif') in os.listdir(r\"\\\\fatherserverdw\\kyuex\\clue images\\1um\"):\n",
    "        return\n",
    "\n",
    "    print(os.path.basename(xml_path))\n",
    "    # Open XML file\n",
    "    tree = ET.parse(xml_path)\n",
    "    root = tree.getroot()\n",
    "\n",
    "    # Read Class names and put into a list called classlut\n",
    "    # classlut = []\n",
    "    # for Annotation in root.iter('Annotation'):\n",
    "    #     for Attrib in Annotation.iter('Attribute'):\n",
    "    #         classlut.append(Attrib.attrib.get('Name'))\n",
    "    # classluts = sorted(classlut)\n",
    "    classluts = ['tissue']\n",
    "    dfs = []\n",
    "    for idx, Annotation in enumerate(root.iter('Annotation')): #iterate each class\n",
    "        for Region in Annotation.iter('Region'): #iterate each circle\n",
    "            x = np.array([float(Vertex.get('X')) for Vertex in Region.iter('Vertex')]).astype('int') #iterate each vertex\n",
    "            y = np.array([float(Vertex.get('Y')) for Vertex in Region.iter('Vertex')]).astype('int')\n",
    "            objid = np.array([int(Region.get('Id'))])\n",
    "            classname = np.array([classluts[idx]])\n",
    "            df = pd.DataFrame({'classname': classname,\n",
    "                               'objid': objid,\n",
    "                               'x': [x],\n",
    "                               'y': [y], })\n",
    "            dfs.append(df)\n",
    "\n",
    "    dff = pd.concat(dfs).reset_index(drop=True)\n",
    "\n",
    "    if not os.path.exists(mskdst):\n",
    "        os.mkdir(mskdst)\n",
    "\n",
    "\n",
    "\n",
    "    slide = OpenSlide(os.path.join(imsrc,imfn))\n",
    "    rsf = 1  #8um = 1.25x #4um = 2.5x, #2um=5x, 1um=10x, 0.5um=20x, 0.25um=40x\n",
    "    rsf = rsf/float(slide.properties['openslide.mpp-x'])\n",
    "\n",
    "    imdim = slide.dimensions\n",
    "    imdim = [round(np.ceil(_/rsf)) for _ in imdim]\n",
    "\n",
    "    mask = np.zeros(imdim[::-1], dtype = np.uint8) #white\n",
    "    for idx,elem in dff.iterrows():\n",
    "        contours = np.array([elem['x'],elem['y']])\n",
    "        contours2 = (contours/rsf).astype(int)\n",
    "        mask = cv2.fillPoly(mask, pts=[contours2.T], color=idx+1)\n",
    "\n",
    "    Image.fromarray(mask.astype('int8')).save(dstfn)"
   ],
   "metadata": {
    "collapsed": false,
    "pycharm": {
     "name": "#%%\n"
    }
   }
  },
  {
   "cell_type": "code",
   "execution_count": 38,
   "outputs": [
    {
     "name": "stdout",
     "output_type": "stream",
     "text": [
      "2022-07-07 18.26.18.xml\n",
      "readxml took 7.28 sec\n"
     ]
    }
   ],
   "source": [
    "src = r'\\\\fatherserverdw\\kyuex\\clue images\\annotations\\roi'\n",
    "imsrc = r\"\\\\fatherserverdw\\kyuex\\clue images\"\n",
    "start=time()\n",
    "# List Comprehension\n",
    "[xml2mask(os.path.join(src,xmlpth),imsrc) for xmlpth in os.listdir(src) if xmlpth.endswith('.xml')]\n",
    "print('readxml took {:.2f} sec'.format(time() - start))"
   ],
   "metadata": {
    "collapsed": false,
    "pycharm": {
     "name": "#%%\n"
    }
   }
  },
  {
   "cell_type": "code",
   "execution_count": 39,
   "outputs": [
    {
     "data": {
      "text/plain": "['tissue']"
     },
     "execution_count": 39,
     "metadata": {},
     "output_type": "execute_result"
    }
   ],
   "source": [
    "xml_path = r\"\\\\fatherserverdw\\kyuex\\clue images\\annotations\\roi\\2022-06-07 13.29.45.xml\"\n",
    "tree = ET.parse(xml_path)\n",
    "root = tree.getroot()\n",
    "\n",
    "# Read Class names and put into a list called classlut\n",
    "classlut = []\n",
    "for Annotation in root.iter('Annotation'):\n",
    "    for Attrib in Annotation.iter('Attribute'):\n",
    "        classlut.append(Attrib.attrib.get('Name'))\n",
    "classluts = sorted(classlut)\n",
    "classluts"
   ],
   "metadata": {
    "collapsed": false,
    "pycharm": {
     "name": "#%%\n"
    }
   }
  }
 ],
 "metadata": {
  "kernelspec": {
   "name": "python3",
   "language": "python",
   "display_name": "Python 3 (ipykernel)"
  },
  "language_info": {
   "codemirror_mode": {
    "name": "ipython",
    "version": 2
   },
   "file_extension": ".py",
   "mimetype": "text/x-python",
   "name": "python",
   "nbconvert_exporter": "python",
   "pygments_lexer": "ipython2",
   "version": "2.7.6"
  }
 },
 "nbformat": 4,
 "nbformat_minor": 0
}