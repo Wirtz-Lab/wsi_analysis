{
 "cells": [
  {
   "cell_type": "code",
   "execution_count": 1,
   "metadata": {
    "collapsed": true
   },
   "outputs": [],
   "source": [
    "from PIL import Image\n",
    "import os\n",
    "from time import time\n",
    "import multiprocessing\n",
    "from itertools import repeat\n",
    "from opticalflow import opticalflow"
   ]
  },
  {
   "cell_type": "code",
   "execution_count": 2,
   "outputs": [],
   "source": [
    "src = r'\\\\fatherserverdw\\kyuex\\image\\CLUE\\3D study\\he\\CoarseRegIM\\run4_16xr_jpg_rszfc1_padsz1000'\n",
    "dst = os.path.join(src,'opticalflow_registered_image')\n",
    "if not os.path.exists(dst): os.mkdir(dst)\n",
    "ims = [_ for _ in os.listdir(src) if _.endswith('jpg')]\n",
    "ims2 = [os.path.join(src,_) for _ in os.listdir(src) if _.endswith('jpg')]"
   ],
   "metadata": {
    "collapsed": false
   }
  },
  {
   "cell_type": "code",
   "execution_count": 3,
   "outputs": [
    {
     "data": {
      "text/plain": "(['\\\\\\\\fatherserverdw\\\\kyuex\\\\image\\\\CLUE\\\\3D study\\\\he\\\\CoarseRegIM\\\\run4_16xr_jpg_rszfc1_padsz1000\\\\z0001_1C1.jpg',\n  '\\\\\\\\fatherserverdw\\\\kyuex\\\\image\\\\CLUE\\\\3D study\\\\he\\\\CoarseRegIM\\\\run4_16xr_jpg_rszfc1_padsz1000\\\\z0007_7C1.jpg',\n  '\\\\\\\\fatherserverdw\\\\kyuex\\\\image\\\\CLUE\\\\3D study\\\\he\\\\CoarseRegIM\\\\run4_16xr_jpg_rszfc1_padsz1000\\\\z0013_13C1.jpg',\n  '\\\\\\\\fatherserverdw\\\\kyuex\\\\image\\\\CLUE\\\\3D study\\\\he\\\\CoarseRegIM\\\\run4_16xr_jpg_rszfc1_padsz1000\\\\z0019_19C1.jpg'],\n ['\\\\\\\\fatherserverdw\\\\kyuex\\\\image\\\\CLUE\\\\3D study\\\\he\\\\CoarseRegIM\\\\run4_16xr_jpg_rszfc1_padsz1000\\\\z0004_4C1.jpg',\n  '\\\\\\\\fatherserverdw\\\\kyuex\\\\image\\\\CLUE\\\\3D study\\\\he\\\\CoarseRegIM\\\\run4_16xr_jpg_rszfc1_padsz1000\\\\z0010_10C1.jpg',\n  '\\\\\\\\fatherserverdw\\\\kyuex\\\\image\\\\CLUE\\\\3D study\\\\he\\\\CoarseRegIM\\\\run4_16xr_jpg_rszfc1_padsz1000\\\\z0016_16C1.jpg',\n  '\\\\\\\\fatherserverdw\\\\kyuex\\\\image\\\\CLUE\\\\3D study\\\\he\\\\CoarseRegIM\\\\run4_16xr_jpg_rszfc1_padsz1000\\\\z0022_22C1.jpg'])"
     },
     "execution_count": 3,
     "metadata": {},
     "output_type": "execute_result"
    }
   ],
   "source": [
    "inputs1=ims2[::2]\n",
    "inputs2=ims2[1::2]\n",
    "inputs1=inputs1[0:4]\n",
    "inputs2=inputs2[0:4]\n",
    "inputs1,inputs2"
   ],
   "metadata": {
    "collapsed": false
   }
  },
  {
   "cell_type": "code",
   "execution_count": 16,
   "outputs": [
    {
     "name": "stdout",
     "output_type": "stream",
     "text": [
      "271.37 sec elapsed\n"
     ]
    }
   ],
   "source": [
    "start = time()\n",
    "pool = multiprocessing.Pool(processes=2)\n",
    "outputs = pool.starmap_async(opticalflow, zip(inputs1, inputs2))\n",
    "a=[_ for _ in outputs.get()]\n",
    "print(round(time()-start,2),'sec elapsed') #133sec for registering twice; 270 sec for registering 4times; linear beyond N processes"
   ],
   "metadata": {
    "collapsed": false
   }
  },
  {
   "cell_type": "code",
   "execution_count": 4,
   "outputs": [
    {
     "name": "stdout",
     "output_type": "stream",
     "text": [
      "199.17 sec elapsed\n"
     ]
    }
   ],
   "source": [
    "start = time()\n",
    "pool = multiprocessing.Pool(processes=4)\n",
    "outputs = pool.starmap_async(opticalflow, zip(inputs1, inputs2))\n",
    "a=[_ for _ in outputs.get()]\n",
    "print(round(time()-start,2),'sec elapsed') #"
   ],
   "metadata": {
    "collapsed": false
   }
  },
  {
   "cell_type": "code",
   "execution_count": 5,
   "outputs": [
    {
     "name": "stdout",
     "output_type": "stream",
     "text": [
      "115.13 sec elapsed\n"
     ]
    }
   ],
   "source": [
    "start = time()\n",
    "reg = opticalflow(inputs1[0],inputs2[0])\n",
    "print(round(time()-start,2),'sec elapsed')"
   ],
   "metadata": {
    "collapsed": false
   }
  },
  {
   "cell_type": "code",
   "execution_count": 6,
   "outputs": [
    {
     "name": "stdout",
     "output_type": "stream",
     "text": [
      "114.63 sec elapsed\n"
     ]
    }
   ],
   "source": [
    "start = time()\n",
    "reg = opticalflow(inputs1[1],inputs2[1])\n",
    "print(round(time()-start,2),'sec elapsed')"
   ],
   "metadata": {
    "collapsed": false
   }
  },
  {
   "cell_type": "code",
   "execution_count": 18,
   "outputs": [
    {
     "name": "stdout",
     "output_type": "stream",
     "text": [
      "113.76 sec elapsed\n",
      "0.01 sec elapsed\n"
     ]
    }
   ],
   "source": [
    "ref=np.array(Image.open(os.path.join(src,ims[0])))\n",
    "mov=np.array(Image.open(os.path.join(src,ims[1])))\n",
    "refg=rgb2gray(ref)\n",
    "movg=rgb2gray(mov)\n",
    "start = time()\n",
    "v, u = optical_flow_tvl1(refg, movg)\n",
    "print(round(time()-start,2),'sec elapsed')\n",
    "nr, nc = refg.shape\n",
    "row_coords, col_coords = np.meshgrid(np.arange(nr), np.arange(nc),\n",
    "                                     indexing='ij')\n",
    "transmap = np.array([row_coords + v, col_coords + u])\n",
    "# start = time()\n",
    "# mov_img_warp_ra =[]\n",
    "# for i in range(3):\n",
    "#     mov_img_warp = warp(mov[:,:,i],transmap ,mode='edge')\n",
    "#     mov_img_warp_ra.append(mov_img_warp)\n",
    "# print(round(time()-start,2),'sec elapsed') #1.5sec\n",
    "\n",
    "start = time()\n",
    "pool = multiprocessing.Pool(processes=3)\n",
    "inputs = [mov[:,:,0],mov[:,:,1],mov[:,:,2]]\n",
    "outputs = pool.starmap_async(warp, zip(inputs, repeat(transmap)))\n",
    "print(round(time()-start,2),'sec elapsed') #0.08sec\n",
    "Image.fromarray(np.stack([(_*255).astype(np.uint8) for _ in outputs.get()],axis=2)).save(os.path.join(dst,ims[1]))"
   ],
   "metadata": {
    "collapsed": false
   }
  }
 ],
 "metadata": {
  "kernelspec": {
   "display_name": "Python 3",
   "language": "python",
   "name": "python3"
  },
  "language_info": {
   "codemirror_mode": {
    "name": "ipython",
    "version": 2
   },
   "file_extension": ".py",
   "mimetype": "text/x-python",
   "name": "python",
   "nbconvert_exporter": "python",
   "pygments_lexer": "ipython2",
   "version": "2.7.6"
  }
 },
 "nbformat": 4,
 "nbformat_minor": 0
}
