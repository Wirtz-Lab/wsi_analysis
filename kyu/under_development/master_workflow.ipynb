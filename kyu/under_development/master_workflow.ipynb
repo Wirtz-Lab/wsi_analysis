{
 "cells": [
  {
   "cell_type": "markdown",
   "source": [
    "0. Scan glass slides at 20x\n",
    "1. Create Excel sheet with patient information\n",
    "2. Screen H&E images to select potentially healthy sections\n",
    "3. Annotate the Region of Interest (ROI) (Optional)\n",
    "4. Convert ROI XML to Image (Code)\n",
    "5. Annotate 12 tissue compartments, apply DeepLab, and evaluate performance metrics\n",
    "6. Apply HoVerNet\n",
    "7. Rotate and crop tissue pieces and DLmask (Code)\n",
    "8. Rotate HoVerNet segmented nuclei mask (Code)\n",
    "9. Calculate tissue composition (Code)\n",
    "10. Calculate epidermis thickness, waviness, roughness\n",
    "11. Calculate dermis thickness, waviness\n",
    "12. Calculate ECM anisotropy,Interstitial orientation, Thick gap ratio, Thick gap average\n",
    "13. Calculate tissue morphology\n",
    "14. ECM cell count and morphology + std using Manual Threshold method\n",
    "15. Distance from ECM cell to tissue\n",
    "16. All celltype morphology, orientation, and distance to tissue using HoVerNet\n",
    "17. Further add features such as more detailed cell subtyping"
   ],
   "metadata": {
    "collapsed": false,
    "pycharm": {
     "name": "#%% md\n"
    }
   }
  },
  {
   "cell_type": "code",
   "execution_count": null,
   "outputs": [],
   "source": [
    "import os\n",
    "import glob\n",
    "import pandas as pd\n",
    "import numpy as np"
   ],
   "metadata": {
    "collapsed": false,
    "pycharm": {
     "name": "#%%\n"
    }
   }
  },
  {
   "cell_type": "code",
   "execution_count": null,
   "outputs": [],
   "source": [
    "NDPI = r'\\\\fatherserverdw\\kyuex\\clue images'\n",
    "oneum = r'\\\\fatherserverdw\\kyuex\\clue images\\1um'\n",
    "imcrop = r'\\\\fatherserverdw\\kyuex\\clue images\\1um\\imcrop'\n",
    "imcroproi = r'\\\\fatherserverdw\\kyuex\\clue images\\1um\\imcrop_roi'\n",
    "\n",
    "dlmask = r'\\\\fatherserverdw\\kyuex\\clue images\\1um\\classification_v9_combined'\n",
    "dlcrop = r'\\\\fatherserverdw\\kyuex\\clue images\\1um\\classification_v9_combined\\dlcrop'\n",
    "dlcroproi = r'\\\\fatherserverdw\\kyuex\\clue images\\1um\\classification_v9_combined\\dlcrop_roi'\n",
    "\n",
    "roixml = r'\\\\fatherserverdw\\kyuex\\clue images\\annotations\\roi'\n",
    "roimask_small = r'\\\\fatherserverdw\\kyuex\\clue images\\annotations\\roi\\labeledmask_20rsf'\n",
    "tissue_area_small = r'\\\\fatherserverdw\\kyuex\\clue images\\annotations\\roi\\TA_20rsf'\n",
    "\n",
    "twelve_annot = r'\\\\fatherserverdw\\kyuex\\clue images\\annotations\\12class'"
   ],
   "metadata": {
    "collapsed": false,
    "pycharm": {
     "name": "#%%\n"
    }
   }
  },
  {
   "cell_type": "code",
   "execution_count": null,
   "outputs": [],
   "source": [],
   "metadata": {
    "collapsed": false,
    "pycharm": {
     "name": "#%%\n"
    }
   }
  }
 ],
 "metadata": {
  "kernelspec": {
   "display_name": "Python 3",
   "language": "python",
   "name": "python3"
  },
  "language_info": {
   "codemirror_mode": {
    "name": "ipython",
    "version": 2
   },
   "file_extension": ".py",
   "mimetype": "text/x-python",
   "name": "python",
   "nbconvert_exporter": "python",
   "pygments_lexer": "ipython2",
   "version": "2.7.6"
  }
 },
 "nbformat": 4,
 "nbformat_minor": 0
}