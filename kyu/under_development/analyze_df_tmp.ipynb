{
 "cells": [
  {
   "cell_type": "code",
   "execution_count": 2,
   "outputs": [],
   "source": [
    "import pandas as pd\n",
    "from time import time\n",
    "import numpy as np"
   ],
   "metadata": {
    "collapsed": false,
    "pycharm": {
     "name": "#%%\n"
    }
   }
  },
  {
   "cell_type": "code",
   "execution_count": 4,
   "outputs": [],
   "source": [
    "pkl=pd.read_pickle(r'\\\\fatherserverdw\\Q\\research\\images\\skin_aging\\wsi\\hovernet_out\\df\\12.pkl')"
   ],
   "metadata": {
    "collapsed": false,
    "pycharm": {
     "name": "#%%\n"
    }
   }
  },
  {
   "cell_type": "code",
   "execution_count": 5,
   "outputs": [
    {
     "name": "stdout",
     "output_type": "stream",
     "text": [
      "117 seconds\n"
     ]
    }
   ],
   "source": [
    "start = time()\n",
    "pkls =pd.read_feather(r'\\\\fatherserverdw\\q\\research\\images\\skin_aging\\wsi\\hovernet_out\\df\\2d_skin_hovernet.ftr') #42sec local # 90sec network\n",
    "print(round(time()-start),'seconds')"
   ],
   "metadata": {
    "collapsed": false,
    "pycharm": {
     "name": "#%%\n"
    }
   }
  },
  {
   "cell_type": "code",
   "execution_count": 6,
   "outputs": [],
   "source": [
    "pkls=pkls[pkls['inroi']>0].reset_index(drop=True)\n",
    "pkls.to_feather(r'\\\\fatherserverdw\\q\\research\\images\\skin_aging\\wsi\\hovernet_out\\df\\2d_skin_hovernet_inroi.ftr')"
   ],
   "metadata": {
    "collapsed": false,
    "pycharm": {
     "name": "#%%\n"
    }
   }
  },
  {
   "cell_type": "code",
   "execution_count": 33,
   "outputs": [
    {
     "data": {
      "text/plain": "array([1, 3, 4, 2, 5, 6], dtype=int64)"
     },
     "execution_count": 33,
     "metadata": {},
     "output_type": "execute_result"
    }
   ],
   "source": [
    "pkls['inroi'].unique()"
   ],
   "metadata": {
    "collapsed": false,
    "pycharm": {
     "name": "#%%\n"
    }
   }
  },
  {
   "cell_type": "code",
   "execution_count": 7,
   "outputs": [],
   "source": [
    "agelut = pd.read_excel(r'\\\\fatherserverdw\\Q\\research\\source code\\skin_aging_matlab\\skin_samples.xlsx', sheet_name='imlist')"
   ],
   "metadata": {
    "collapsed": false,
    "pycharm": {
     "name": "#%%\n"
    }
   }
  },
  {
   "cell_type": "code",
   "execution_count": 8,
   "outputs": [
    {
     "data": {
      "text/plain": "3101441"
     },
     "execution_count": 8,
     "metadata": {},
     "output_type": "execute_result"
    }
   ],
   "source": [
    "len(pkls)"
   ],
   "metadata": {
    "collapsed": false,
    "pycharm": {
     "name": "#%%\n"
    }
   }
  },
  {
   "cell_type": "code",
   "execution_count": 8,
   "outputs": [],
   "source": [
    "\n",
    "def redcap2age(redcap):\n",
    "    return agelut['Age'][agelut['redcap']==redcap]\n"
   ],
   "metadata": {
    "collapsed": false,
    "pycharm": {
     "name": "#%%\n"
    }
   }
  },
  {
   "cell_type": "code",
   "execution_count": 14,
   "outputs": [
    {
     "name": "stdout",
     "output_type": "stream",
     "text": [
      "CPU times: total: 16 s\n",
      "Wall time: 12.3 s\n"
     ]
    }
   ],
   "source": [
    "%%time\n",
    "avgs = []\n",
    "stds = []\n",
    "for imid in pkls['imID'].unique():\n",
    "    pkl = pkls[pkls['imID']==imid]\n",
    "    pkl = pkl.drop(columns=['bbox', 'centroid','contour'])\n",
    "    for secid in pkl['inroi'].unique():\n",
    "        pk = pkl[pkl['inroi']==secid]\n",
    "        for type in range(1,13):\n",
    "            p = pk[pk['type']==type]\n",
    "            pkmean = p.mean(axis=0)\n",
    "            pkmean['imID'] = imid\n",
    "            pkmean['Age'] = agelut['Age'][agelut['redcap']==imid].values[0]\n",
    "            pkstd = p.std(axis=0)\n",
    "            pkstd['imID'] = imid\n",
    "            pkstd['type'] = type\n",
    "            pkstd['inroi'] = secid\n",
    "            pkstd['Age'] = agelut['Age'][agelut['redcap']==imid].values[0]\n",
    "            stds.append(pkstd.replace(np.nan,0))\n",
    "            avgs.append(pkmean.replace(np.nan, 0))"
   ],
   "metadata": {
    "collapsed": false,
    "pycharm": {
     "name": "#%%\n"
    }
   }
  },
  {
   "cell_type": "code",
   "execution_count": 15,
   "outputs": [],
   "source": [
    "avgdf = pd.DataFrame(avgs)\n",
    "stddf = pd.DataFrame(stds)"
   ],
   "metadata": {
    "collapsed": false,
    "pycharm": {
     "name": "#%%\n"
    }
   }
  },
  {
   "cell_type": "code",
   "execution_count": 16,
   "outputs": [],
   "source": [
    "avgdf.to_csv('avgdf.csv')\n",
    "stddf.to_csv('stddf.csv')"
   ],
   "metadata": {
    "collapsed": false,
    "pycharm": {
     "name": "#%%\n"
    }
   }
  },
  {
   "cell_type": "code",
   "execution_count": null,
   "outputs": [],
   "source": [
    "avg_lvl_corr=[]\n",
    "for type in avgdf['type'].unique():\n",
    "    adf = avgdf[avgdf['type']==type]\n",
    "    corr = adf.corrwith(adf['age'], method='kendall')\n",
    "    avg_lvl_corr.append(corr)"
   ],
   "metadata": {
    "collapsed": false,
    "pycharm": {
     "name": "#%%\n"
    }
   }
  }
 ],
 "metadata": {
  "kernelspec": {
   "display_name": "Python 3",
   "language": "python",
   "name": "python3"
  },
  "language_info": {
   "codemirror_mode": {
    "name": "ipython",
    "version": 2
   },
   "file_extension": ".py",
   "mimetype": "text/x-python",
   "name": "python",
   "nbconvert_exporter": "python",
   "pygments_lexer": "ipython2",
   "version": "2.7.6"
  }
 },
 "nbformat": 4,
 "nbformat_minor": 0
}