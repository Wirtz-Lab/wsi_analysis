{
 "cells": [
  {
   "cell_type": "code",
   "execution_count": 1,
   "outputs": [],
   "source": [
    "import pandas as pd\n",
    "from time import time"
   ],
   "metadata": {
    "collapsed": false,
    "pycharm": {
     "name": "#%%\n"
    }
   }
  },
  {
   "cell_type": "code",
   "execution_count": 4,
   "outputs": [
    {
     "name": "stdout",
     "output_type": "stream",
     "text": [
      "41 seconds\n"
     ]
    }
   ],
   "source": [
    "start = time()\n",
    "pkls2 =pd.read_feather('../vampire/2d_skin_hovernet.ftr') #42 sec\n",
    "print(round(time()-start),'seconds')"
   ],
   "metadata": {
    "collapsed": false,
    "pycharm": {
     "name": "#%%\n"
    }
   }
  },
  {
   "cell_type": "code",
   "execution_count": 7,
   "outputs": [
    {
     "data": {
      "text/plain": "                             bbox                                 centroid  \\\n0  [[1627, 12118], [1646, 12127]]   [1881.754716981132, 11877.27358490566]   \n1    [[3740, 8056], [3749, 8071]]  [3966.7162162162163, 7840.310810810811]   \n2    [[3747, 8029], [3768, 8047]]  [3941.6615384615384, 7852.626923076923]   \n3    [[3748, 8045], [3760, 8058]]          [3954.541666666667, 7849.21875]   \n4    [[3751, 8061], [3763, 8068]]               [3967.890625, 7852.359375]   \n\n                                             contour  type   Area        AR  \\\n0  [[1886, 11867], [1885, 11868], [1884, 11868], ...     1   84.0  0.481259   \n1  [[3970, 7836], [3969, 7837], [3968, 7837], [39...     2   56.5  0.364545   \n2  [[3940, 7843], [3939, 7844], [3938, 7844], [39...     2  231.5  0.770438   \n3  [[3954, 7844], [3953, 7845], [3952, 7845], [39...     2   79.5  0.662782   \n4  [[3969, 7847], [3968, 7848], [3966, 7848], [39...     2   49.5  0.620038   \n\n        Sol    Extent    EquiDia  imID  \n0  0.796209  0.491228  10.341766     8  \n1  0.824818  0.418519   8.481629     8  \n2  0.920477  0.612434  17.168429     8  \n3  0.893258  0.509615  10.060941     8  \n4  0.916667  0.589286   7.938851     8  ",
      "text/html": "<div>\n<style scoped>\n    .dataframe tbody tr th:only-of-type {\n        vertical-align: middle;\n    }\n\n    .dataframe tbody tr th {\n        vertical-align: top;\n    }\n\n    .dataframe thead th {\n        text-align: right;\n    }\n</style>\n<table border=\"1\" class=\"dataframe\">\n  <thead>\n    <tr style=\"text-align: right;\">\n      <th></th>\n      <th>bbox</th>\n      <th>centroid</th>\n      <th>contour</th>\n      <th>type</th>\n      <th>Area</th>\n      <th>AR</th>\n      <th>Sol</th>\n      <th>Extent</th>\n      <th>EquiDia</th>\n      <th>imID</th>\n    </tr>\n  </thead>\n  <tbody>\n    <tr>\n      <th>0</th>\n      <td>[[1627, 12118], [1646, 12127]]</td>\n      <td>[1881.754716981132, 11877.27358490566]</td>\n      <td>[[1886, 11867], [1885, 11868], [1884, 11868], ...</td>\n      <td>1</td>\n      <td>84.0</td>\n      <td>0.481259</td>\n      <td>0.796209</td>\n      <td>0.491228</td>\n      <td>10.341766</td>\n      <td>8</td>\n    </tr>\n    <tr>\n      <th>1</th>\n      <td>[[3740, 8056], [3749, 8071]]</td>\n      <td>[3966.7162162162163, 7840.310810810811]</td>\n      <td>[[3970, 7836], [3969, 7837], [3968, 7837], [39...</td>\n      <td>2</td>\n      <td>56.5</td>\n      <td>0.364545</td>\n      <td>0.824818</td>\n      <td>0.418519</td>\n      <td>8.481629</td>\n      <td>8</td>\n    </tr>\n    <tr>\n      <th>2</th>\n      <td>[[3747, 8029], [3768, 8047]]</td>\n      <td>[3941.6615384615384, 7852.626923076923]</td>\n      <td>[[3940, 7843], [3939, 7844], [3938, 7844], [39...</td>\n      <td>2</td>\n      <td>231.5</td>\n      <td>0.770438</td>\n      <td>0.920477</td>\n      <td>0.612434</td>\n      <td>17.168429</td>\n      <td>8</td>\n    </tr>\n    <tr>\n      <th>3</th>\n      <td>[[3748, 8045], [3760, 8058]]</td>\n      <td>[3954.541666666667, 7849.21875]</td>\n      <td>[[3954, 7844], [3953, 7845], [3952, 7845], [39...</td>\n      <td>2</td>\n      <td>79.5</td>\n      <td>0.662782</td>\n      <td>0.893258</td>\n      <td>0.509615</td>\n      <td>10.060941</td>\n      <td>8</td>\n    </tr>\n    <tr>\n      <th>4</th>\n      <td>[[3751, 8061], [3763, 8068]]</td>\n      <td>[3967.890625, 7852.359375]</td>\n      <td>[[3969, 7847], [3968, 7848], [3966, 7848], [39...</td>\n      <td>2</td>\n      <td>49.5</td>\n      <td>0.620038</td>\n      <td>0.916667</td>\n      <td>0.589286</td>\n      <td>7.938851</td>\n      <td>8</td>\n    </tr>\n  </tbody>\n</table>\n</div>"
     },
     "execution_count": 7,
     "metadata": {},
     "output_type": "execute_result"
    }
   ],
   "source": [
    "pkls2.head()"
   ],
   "metadata": {
    "collapsed": false,
    "pycharm": {
     "name": "#%%\n"
    }
   }
  },
  {
   "cell_type": "code",
   "execution_count": 18,
   "outputs": [],
   "source": [
    "avgs = []\n",
    "for imid in pkls2['imID'].unique():\n",
    "    pkl = pkls2[pkls2['imID']==imid]\n",
    "    pkl = pkl.drop(columns=['bbox', 'centroid','contour'])\n",
    "    for type in pkl['type'].unique():\n",
    "        pk = pkl[pkl['type']==type]\n",
    "        avgs.append(pk.mean(axis=0))\n",
    "avgdf = pd.DataFrame(avgs)"
   ],
   "metadata": {
    "collapsed": false,
    "pycharm": {
     "name": "#%%\n"
    }
   }
  },
  {
   "cell_type": "code",
   "execution_count": 22,
   "outputs": [
    {
     "data": {
      "text/plain": "   type        Area        AR       Sol    Extent    EquiDia  imID\n0   1.0  126.681946  0.509250  0.890276  0.514778  11.964987   8.0\n1   2.0  180.895200  0.557694  0.920396  0.572853  14.675525   8.0\n2   4.0  150.422946  0.582812  0.918679  0.566540  13.300985   8.0\n3  10.0   97.509407  0.546826  0.908446  0.534115  10.790512   8.0\n4   8.0  108.447161  0.506643  0.903722  0.517587  11.354426   8.0",
      "text/html": "<div>\n<style scoped>\n    .dataframe tbody tr th:only-of-type {\n        vertical-align: middle;\n    }\n\n    .dataframe tbody tr th {\n        vertical-align: top;\n    }\n\n    .dataframe thead th {\n        text-align: right;\n    }\n</style>\n<table border=\"1\" class=\"dataframe\">\n  <thead>\n    <tr style=\"text-align: right;\">\n      <th></th>\n      <th>type</th>\n      <th>Area</th>\n      <th>AR</th>\n      <th>Sol</th>\n      <th>Extent</th>\n      <th>EquiDia</th>\n      <th>imID</th>\n    </tr>\n  </thead>\n  <tbody>\n    <tr>\n      <th>0</th>\n      <td>1.0</td>\n      <td>126.681946</td>\n      <td>0.509250</td>\n      <td>0.890276</td>\n      <td>0.514778</td>\n      <td>11.964987</td>\n      <td>8.0</td>\n    </tr>\n    <tr>\n      <th>1</th>\n      <td>2.0</td>\n      <td>180.895200</td>\n      <td>0.557694</td>\n      <td>0.920396</td>\n      <td>0.572853</td>\n      <td>14.675525</td>\n      <td>8.0</td>\n    </tr>\n    <tr>\n      <th>2</th>\n      <td>4.0</td>\n      <td>150.422946</td>\n      <td>0.582812</td>\n      <td>0.918679</td>\n      <td>0.566540</td>\n      <td>13.300985</td>\n      <td>8.0</td>\n    </tr>\n    <tr>\n      <th>3</th>\n      <td>10.0</td>\n      <td>97.509407</td>\n      <td>0.546826</td>\n      <td>0.908446</td>\n      <td>0.534115</td>\n      <td>10.790512</td>\n      <td>8.0</td>\n    </tr>\n    <tr>\n      <th>4</th>\n      <td>8.0</td>\n      <td>108.447161</td>\n      <td>0.506643</td>\n      <td>0.903722</td>\n      <td>0.517587</td>\n      <td>11.354426</td>\n      <td>8.0</td>\n    </tr>\n  </tbody>\n</table>\n</div>"
     },
     "execution_count": 22,
     "metadata": {},
     "output_type": "execute_result"
    }
   ],
   "source": [
    "avgdf.head()"
   ],
   "metadata": {
    "collapsed": false,
    "pycharm": {
     "name": "#%%\n"
    }
   }
  },
  {
   "cell_type": "code",
   "execution_count": null,
   "outputs": [],
   "source": [
    "pkls2.head()\n",
    "avgs = []\n",
    "for imid in pkls2['imID'].unique():\n",
    "    pkl = pkls2[pkls2['imID'] == imid]\n",
    "    pkl = pkl.drop(columns=['bbox', 'centroid', 'contour'])\n",
    "    for type in pkl['type'].unique():\n",
    "        pk = pkl[pkl['type'] == type]\n",
    "        avgs.append(pk.std(axis=0))\n",
    "avgdf = pd.DataFrame(avgs)"
   ],
   "metadata": {
    "collapsed": false,
    "pycharm": {
     "name": "#%%\n"
    }
   }
  },
  {
   "cell_type": "code",
   "execution_count": null,
   "outputs": [],
   "source": [
    "for type in avgdf['type'].unique():\n",
    "    adf = avgdf[avgdf['type']==type]\n",
    "    corr"
   ],
   "metadata": {
    "collapsed": false,
    "pycharm": {
     "name": "#%%\n"
    }
   }
  }
 ],
 "metadata": {
  "kernelspec": {
   "display_name": "Python 3",
   "language": "python",
   "name": "python3"
  },
  "language_info": {
   "codemirror_mode": {
    "name": "ipython",
    "version": 2
   },
   "file_extension": ".py",
   "mimetype": "text/x-python",
   "name": "python",
   "nbconvert_exporter": "python",
   "pygments_lexer": "ipython2",
   "version": "2.7.6"
  }
 },
 "nbformat": 4,
 "nbformat_minor": 0
}