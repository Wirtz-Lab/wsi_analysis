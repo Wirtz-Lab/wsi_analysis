{
 "cells": [
  {
   "cell_type": "code",
   "execution_count": null,
   "outputs": [],
   "source": [
    "import pandas as pd\n",
    "from time import time\n",
    "import numpy as np"
   ],
   "metadata": {
    "collapsed": false,
    "pycharm": {
     "name": "#%%\n"
    }
   }
  },
  {
   "cell_type": "code",
   "execution_count": null,
   "outputs": [],
   "source": [
    "start = time()\n",
    "pkls =pd.read_feather(r'\\\\fatherserverdw\\q\\research\\images\\skin_aging\\wsi\\hovernet_out\\df\\2d_skin_hovernet_inroi.ftr') #42sec local # 90sec network\n",
    "print(round(time()-start),'seconds')"
   ],
   "metadata": {
    "collapsed": false,
    "pycharm": {
     "name": "#%%\n"
    }
   }
  },
  {
   "cell_type": "code",
   "execution_count": null,
   "outputs": [],
   "source": [
    "# pkls=pkls[pkls['inroi']>0].reset_index(drop=True)\n",
    "# pkls.to_feather(r'\\\\fatherserverdw\\q\\research\\images\\skin_aging\\wsi\\hovernet_out\\df\\2d_skin_hovernet_inroi.ftr')"
   ],
   "metadata": {
    "collapsed": false,
    "pycharm": {
     "name": "#%%\n"
    }
   }
  },
  {
   "cell_type": "code",
   "execution_count": null,
   "outputs": [],
   "source": [
    "pkls['inroi'].unique(),pkls['type'].unique()"
   ],
   "metadata": {
    "collapsed": false,
    "pycharm": {
     "name": "#%%\n"
    }
   }
  },
  {
   "cell_type": "code",
   "execution_count": null,
   "outputs": [],
   "source": [
    "agelut = pd.read_excel(r'\\\\fatherserverdw\\Q\\research\\source code\\skin_aging_matlab\\skin_samples.xlsx', sheet_name='imlist')"
   ],
   "metadata": {
    "collapsed": false,
    "pycharm": {
     "name": "#%%\n"
    }
   }
  },
  {
   "cell_type": "code",
   "execution_count": null,
   "outputs": [],
   "source": [
    "len(pkls)"
   ],
   "metadata": {
    "collapsed": false,
    "pycharm": {
     "name": "#%%\n"
    }
   }
  },
  {
   "cell_type": "code",
   "execution_count": null,
   "outputs": [],
   "source": [
    "pkls.head()"
   ],
   "metadata": {
    "collapsed": false,
    "pycharm": {
     "name": "#%%\n"
    }
   }
  },
  {
   "cell_type": "code",
   "execution_count": null,
   "outputs": [],
   "source": [
    "pkls.loc[pkls['type']==12]=10 #replace cells in white to ecm since its just gap\n",
    "pkls.loc[pkls['type']==1]=2 # all corneum cells are spinosum\n",
    "# pkls.loc[pkls['type']==3]=4 # all shaft cells are follicle"
   ],
   "metadata": {
    "collapsed": false,
    "pycharm": {
     "name": "#%%\n"
    }
   }
  },
  {
   "cell_type": "code",
   "execution_count": null,
   "outputs": [],
   "source": [
    "pkl = pkls[pkls['imID']==8]\n",
    "pkl = pkl.drop(columns=['bbox', 'centroid','contour'])\n",
    "pk = pkl[pkl['inroi']==1]\n",
    "p = pk[pk['type']==1]\n",
    "pkmean = p.mean(axis=0)\n",
    "pkmean['Ncell'] = len(p)\n",
    "pkmean['imID'] = 8\n",
    "pkmean['Age'] = agelut['Age'][agelut['redcap']==8].values[0]\n",
    "pkmean"
   ],
   "metadata": {
    "collapsed": false,
    "pycharm": {
     "name": "#%%\n"
    }
   }
  },
  {
   "cell_type": "code",
   "execution_count": null,
   "outputs": [],
   "source": [
    "dl = Image.open(r'\\\\fatherserverdw\\Q\\research\\images\\skin_aging\\annotation\\roi\\tif\\8_tissue_binary.tif')\n",
    "            dlareas = dl.histogram()[1:13]"
   ],
   "metadata": {
    "collapsed": false,
    "pycharm": {
     "name": "#%%\n"
    }
   }
  },
  {
   "cell_type": "code",
   "execution_count": null,
   "outputs": [],
   "source": [
    "%%time\n",
    "avgs = []\n",
    "stds = []\n",
    "for imid in pkls['imID'].unique():\n",
    "    pkl = pkls[pkls['imID']==imid]\n",
    "    pkl = pkl.drop(columns=['bbox', 'centroid','contour'])\n",
    "    for secid in pkl['inroi'].unique():\n",
    "        pk = pkl[pkl['inroi']==secid]\n",
    "        for type in range(2,12):\n",
    "            p = pk[pk['type']==type]\n",
    "            pkmean = p.mean(axis=0)\n",
    "            pkmean['Ncell'] = len(p)\n",
    "            pkmean['imID'] = imid\n",
    "            pkmean['Age'] = agelut['Age'][agelut['redcap']==imid].values[0]\n",
    "            pkstd = p.std(axis=0)\n",
    "            pkstd['imID'] = imid\n",
    "            pkstd['type'] = type\n",
    "            pkstd['inroi'] = secid\n",
    "            pkstd['Age'] = agelut['Age'][agelut['redcap']==imid].values[0]\n",
    "            stds.append(pkstd.replace(np.nan,0))\n",
    "            avgs.append(pkmean.replace(np.nan, 0))"
   ],
   "metadata": {
    "collapsed": false,
    "pycharm": {
     "name": "#%%\n"
    }
   }
  },
  {
   "cell_type": "code",
   "execution_count": null,
   "outputs": [],
   "source": [
    "avgdf = pd.DataFrame(avgs)\n",
    "stddf = pd.DataFrame(stds)"
   ],
   "metadata": {
    "collapsed": false,
    "pycharm": {
     "name": "#%%\n"
    }
   }
  },
  {
   "cell_type": "code",
   "execution_count": null,
   "outputs": [],
   "source": [
    "avgdf.to_csv('avgdf.csv')\n",
    "stddf.to_csv('stddf.csv')"
   ],
   "metadata": {
    "collapsed": false,
    "pycharm": {
     "name": "#%%\n"
    }
   }
  },
  {
   "cell_type": "code",
   "execution_count": null,
   "outputs": [],
   "source": [
    "avg_lvl_corr=[]\n",
    "for type in avgdf['type'].unique():\n",
    "    adf = avgdf[avgdf['type']==type]\n",
    "    corr = adf.corrwith(adf['age'], method='kendall')\n",
    "    avg_lvl_corr.append(corr)"
   ],
   "metadata": {
    "collapsed": false,
    "pycharm": {
     "name": "#%%\n"
    }
   }
  },
  {
   "cell_type": "code",
   "execution_count": 8,
   "outputs": [],
   "source": [
    "pkls.loc[pkls['type']==12]=10 #replace cells in white to ecm since its just gap\n",
    "pkls.loc[pkls['type']==1]=2 # all corneum cells are spinosum\n",
    "# pkls.loc[pkls['type']==3]=4 # all shaft cells are follicle"
   ],
   "metadata": {
    "collapsed": false,
    "pycharm": {
     "name": "#%%\n"
    }
   }
  },
  {
   "cell_type": "code",
   "execution_count": 13,
   "outputs": [
    {
     "data": {
      "text/plain": "type             NaN\ninroi            NaN\nArea             NaN\nPerimeter        NaN\nCircularity      NaN\nMA               NaN\nma               NaN\norientation      NaN\nAspectRatio      NaN\nSol              NaN\nExtent           NaN\nEquiDia          NaN\nimID             8.0\ndist2nearest     NaN\noriA             NaN\noriB             NaN\nlocal_align      NaN\nNcell            0.0\nAge             11.6\ndtype: float64"
     },
     "execution_count": 13,
     "metadata": {},
     "output_type": "execute_result"
    }
   ],
   "source": [
    "pkl = pkls[pkls['imID']==8]\n",
    "pkl = pkl.drop(columns=['bbox', 'centroid','contour'])\n",
    "pk = pkl[pkl['inroi']==1]\n",
    "p = pk[pk['type']==1]\n",
    "pkmean = p.mean(axis=0)\n",
    "pkmean['Ncell'] = len(p)\n",
    "pkmean['imID'] = 8\n",
    "pkmean['Age'] = agelut['Age'][agelut['redcap']==8].values[0]\n",
    "pkmean"
   ],
   "metadata": {
    "collapsed": false,
    "pycharm": {
     "name": "#%%\n"
    }
   }
  },
  {
   "cell_type": "code",
   "execution_count": null,
   "outputs": [],
   "source": [
    "dl = Image.open(r'\\\\fatherserverdw\\Q\\research\\images\\skin_aging\\annotation\\roi\\tif\\8_tissue_binary.tif')\n",
    "            dlareas = dl.histogram()[1:13]"
   ],
   "metadata": {
    "collapsed": false,
    "pycharm": {
     "name": "#%%\n"
    }
   }
  },
  {
   "cell_type": "code",
   "execution_count": 14,
   "outputs": [
    {
     "name": "stdout",
     "output_type": "stream",
     "text": [
      "CPU times: total: 16 s\n",
      "Wall time: 12.3 s\n"
     ]
    }
   ],
   "source": [
    "%%time\n",
    "avgs = []\n",
    "stds = []\n",
    "for imid in pkls['imID'].unique():\n",
    "    pkl = pkls[pkls['imID']==imid]\n",
    "    pkl = pkl.drop(columns=['bbox', 'centroid','contour'])\n",
    "    for secid in pkl['inroi'].unique():\n",
    "        pk = pkl[pkl['inroi']==secid]\n",
    "        for type in range(2,12):\n",
    "            p = pk[pk['type']==type]\n",
    "            pkmean = p.mean(axis=0)\n",
    "            pkmean['Ncell'] = len(p)\n",
    "            pkmean['imID'] = imid\n",
    "            pkmean['Age'] = agelut['Age'][agelut['redcap']==imid].values[0]\n",
    "            pkstd = p.std(axis=0)\n",
    "            pkstd['imID'] = imid\n",
    "            pkstd['type'] = type\n",
    "            pkstd['inroi'] = secid\n",
    "            pkstd['Age'] = agelut['Age'][agelut['redcap']==imid].values[0]\n",
    "            stds.append(pkstd.replace(np.nan,0))\n",
    "            avgs.append(pkmean.replace(np.nan, 0))"
   ],
   "metadata": {
    "collapsed": false,
    "pycharm": {
     "name": "#%%\n"
    }
   }
  },
  {
   "cell_type": "code",
   "execution_count": 15,
   "outputs": [],
   "source": [
    "avgdf = pd.DataFrame(avgs)\n",
    "stddf = pd.DataFrame(stds)"
   ],
   "metadata": {
    "collapsed": false,
    "pycharm": {
     "name": "#%%\n"
    }
   }
  },
  {
   "cell_type": "code",
   "execution_count": 16,
   "outputs": [],
   "source": [
    "avgdf.to_csv('avgdf.csv')\n",
    "stddf.to_csv('stddf.csv')"
   ],
   "metadata": {
    "collapsed": false,
    "pycharm": {
     "name": "#%%\n"
    }
   }
  },
  {
   "cell_type": "code",
   "execution_count": null,
   "outputs": [],
   "source": [
    "avg_lvl_corr=[]\n",
    "for type in avgdf['type'].unique():\n",
    "    adf = avgdf[avgdf['type']==type]\n",
    "    corr = adf.corrwith(adf['age'], method='kendall')\n",
    "    avg_lvl_corr.append(corr)"
   ],
   "metadata": {
    "collapsed": false,
    "pycharm": {
     "name": "#%%\n"
    }
   }
  }
 ],
 "metadata": {
  "kernelspec": {
   "display_name": "Python 3",
   "language": "python",
   "name": "python3"
  },
  "language_info": {
   "codemirror_mode": {
    "name": "ipython",
    "version": 2
   },
   "file_extension": ".py",
   "mimetype": "text/x-python",
   "name": "python",
   "nbconvert_exporter": "python",
   "pygments_lexer": "ipython2",
   "version": "2.7.6"
  }
 },
 "nbformat": 4,
 "nbformat_minor": 0
}