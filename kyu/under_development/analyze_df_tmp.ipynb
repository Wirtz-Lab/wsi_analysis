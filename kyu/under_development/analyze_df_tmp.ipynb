{
 "cells": [
  {
   "cell_type": "code",
   "execution_count": 1,
   "outputs": [],
   "source": [
    "import pandas as pd\n",
    "from time import time\n",
    "import numpy as np"
   ],
   "metadata": {
    "collapsed": false,
    "pycharm": {
     "name": "#%%\n"
    }
   }
  },
  {
   "cell_type": "code",
   "execution_count": 2,
   "outputs": [
    {
     "name": "stdout",
     "output_type": "stream",
     "text": [
      "60 seconds\n"
     ]
    }
   ],
   "source": [
    "start = time()\n",
    "pkls =pd.read_feather(r'\\\\fatherserverdw\\q\\research\\images\\skin_aging\\wsi\\hovernet_out\\df\\2d_skin_hovernet_inroi.ftr') #42sec local # 90sec network\n",
    "print(round(time()-start),'seconds')"
   ],
   "metadata": {
    "collapsed": false,
    "pycharm": {
     "name": "#%%\n"
    }
   }
  },
  {
   "cell_type": "code",
   "execution_count": 6,
   "outputs": [],
   "source": [
    "# pkls=pkls[pkls['inroi']>0].reset_index(drop=True)\n",
    "# pkls.to_feather(r'\\\\fatherserverdw\\q\\research\\images\\skin_aging\\wsi\\hovernet_out\\df\\2d_skin_hovernet_inroi.ftr')"
   ],
   "metadata": {
    "collapsed": false,
    "pycharm": {
     "name": "#%%\n"
    }
   }
  },
  {
   "cell_type": "code",
   "execution_count": 6,
   "outputs": [
    {
     "data": {
      "text/plain": "(array([1, 3, 4, 2, 5, 6], dtype=int64),\n array([10,  9,  8, 12,  2,  1,  7,  5,  4,  6, 11,  3], dtype=int64))"
     },
     "execution_count": 6,
     "metadata": {},
     "output_type": "execute_result"
    }
   ],
   "source": [
    "pkls['inroi'].unique(),pkls['type'].unique()"
   ],
   "metadata": {
    "collapsed": false,
    "pycharm": {
     "name": "#%%\n"
    }
   }
  },
  {
   "cell_type": "code",
   "execution_count": 3,
   "outputs": [],
   "source": [
    "agelut = pd.read_excel(r'\\\\fatherserverdw\\Q\\research\\source code\\skin_aging_matlab\\skin_samples.xlsx', sheet_name='imlist')"
   ],
   "metadata": {
    "collapsed": false,
    "pycharm": {
     "name": "#%%\n"
    }
   }
  },
  {
   "cell_type": "code",
   "execution_count": 4,
   "outputs": [
    {
     "data": {
      "text/plain": "7856729"
     },
     "execution_count": 4,
     "metadata": {},
     "output_type": "execute_result"
    }
   ],
   "source": [
    "len(pkls)"
   ],
   "metadata": {
    "collapsed": false,
    "pycharm": {
     "name": "#%%\n"
    }
   }
  },
  {
   "cell_type": "code",
   "execution_count": 5,
   "outputs": [
    {
     "data": {
      "text/plain": "                               bbox                                 centroid  \\\n0  [[39028, 23927], [39050, 23938]]  [40315.561643835616, 22653.72602739726]   \n1  [[39049, 23898], [39066, 23912]]  [40287.50326797386, 22672.287581699347]   \n2  [[39052, 24088], [39066, 24102]]  [40479.20183486238, 22674.963302752294]   \n3  [[39069, 23255], [39082, 23267]]  [39644.69158878505, 22691.168224299065]   \n4  [[39076, 23171], [39086, 23187]]  [39562.37096774193, 22696.935483870966]   \n\n                                             contour  type  inroi   Area  \\\n0  [[40316, 22644], [40316, 22646], [40315, 22647...    10      1  121.5   \n1  [[40285, 22665], [40285, 22666], [40283, 22668...    10      1  131.5   \n2  [[40481, 22668], [40477, 22672], [40477, 22673...    10      1   90.5   \n3  [[39645, 22685], [39643, 22687], [39643, 22688...    10      1   89.5   \n4  [[39559, 22692], [39558, 22693], [39557, 22693...    10      1  105.0   \n\n   Perimeter  Circularity         MA         ma  orientation  AspectRatio  \\\n0  54.041630     0.522792   7.948583  21.956139    18.977255     0.362021   \n1  48.041630     0.715979  11.356377  17.369274    27.686026     0.653820   \n2  42.041630     0.643427   7.466627  17.245905    46.967815     0.432951   \n3  39.213203     0.731422   8.626031  14.283838    36.164223     0.603901   \n4  40.970562     0.786059   9.389393  15.466069   104.293274     0.607096   \n\n        Sol    Extent    EquiDia  imID  dist2nearest       oriA        oriB  \\\n0  0.886861  0.502066  12.437789     8     33.837849  27.686026   39.083927   \n1  0.929329  0.552521  12.939513     8     33.837849  18.977255   39.083927   \n2  0.932990  0.461735  10.734439     8     52.000000  60.451813   84.023666   \n3  0.937173  0.573718  10.674968     8     72.622311  58.224380  104.293274   \n4  0.967742  0.656250  11.562446     8     35.355339  76.607521   59.920910   \n\n   local_align  \n0     0.352779  \n1     0.352779  \n2     0.293905  \n3     0.524896  \n4     0.279197  ",
      "text/html": "<div>\n<style scoped>\n    .dataframe tbody tr th:only-of-type {\n        vertical-align: middle;\n    }\n\n    .dataframe tbody tr th {\n        vertical-align: top;\n    }\n\n    .dataframe thead th {\n        text-align: right;\n    }\n</style>\n<table border=\"1\" class=\"dataframe\">\n  <thead>\n    <tr style=\"text-align: right;\">\n      <th></th>\n      <th>bbox</th>\n      <th>centroid</th>\n      <th>contour</th>\n      <th>type</th>\n      <th>inroi</th>\n      <th>Area</th>\n      <th>Perimeter</th>\n      <th>Circularity</th>\n      <th>MA</th>\n      <th>ma</th>\n      <th>orientation</th>\n      <th>AspectRatio</th>\n      <th>Sol</th>\n      <th>Extent</th>\n      <th>EquiDia</th>\n      <th>imID</th>\n      <th>dist2nearest</th>\n      <th>oriA</th>\n      <th>oriB</th>\n      <th>local_align</th>\n    </tr>\n  </thead>\n  <tbody>\n    <tr>\n      <th>0</th>\n      <td>[[39028, 23927], [39050, 23938]]</td>\n      <td>[40315.561643835616, 22653.72602739726]</td>\n      <td>[[40316, 22644], [40316, 22646], [40315, 22647...</td>\n      <td>10</td>\n      <td>1</td>\n      <td>121.5</td>\n      <td>54.041630</td>\n      <td>0.522792</td>\n      <td>7.948583</td>\n      <td>21.956139</td>\n      <td>18.977255</td>\n      <td>0.362021</td>\n      <td>0.886861</td>\n      <td>0.502066</td>\n      <td>12.437789</td>\n      <td>8</td>\n      <td>33.837849</td>\n      <td>27.686026</td>\n      <td>39.083927</td>\n      <td>0.352779</td>\n    </tr>\n    <tr>\n      <th>1</th>\n      <td>[[39049, 23898], [39066, 23912]]</td>\n      <td>[40287.50326797386, 22672.287581699347]</td>\n      <td>[[40285, 22665], [40285, 22666], [40283, 22668...</td>\n      <td>10</td>\n      <td>1</td>\n      <td>131.5</td>\n      <td>48.041630</td>\n      <td>0.715979</td>\n      <td>11.356377</td>\n      <td>17.369274</td>\n      <td>27.686026</td>\n      <td>0.653820</td>\n      <td>0.929329</td>\n      <td>0.552521</td>\n      <td>12.939513</td>\n      <td>8</td>\n      <td>33.837849</td>\n      <td>18.977255</td>\n      <td>39.083927</td>\n      <td>0.352779</td>\n    </tr>\n    <tr>\n      <th>2</th>\n      <td>[[39052, 24088], [39066, 24102]]</td>\n      <td>[40479.20183486238, 22674.963302752294]</td>\n      <td>[[40481, 22668], [40477, 22672], [40477, 22673...</td>\n      <td>10</td>\n      <td>1</td>\n      <td>90.5</td>\n      <td>42.041630</td>\n      <td>0.643427</td>\n      <td>7.466627</td>\n      <td>17.245905</td>\n      <td>46.967815</td>\n      <td>0.432951</td>\n      <td>0.932990</td>\n      <td>0.461735</td>\n      <td>10.734439</td>\n      <td>8</td>\n      <td>52.000000</td>\n      <td>60.451813</td>\n      <td>84.023666</td>\n      <td>0.293905</td>\n    </tr>\n    <tr>\n      <th>3</th>\n      <td>[[39069, 23255], [39082, 23267]]</td>\n      <td>[39644.69158878505, 22691.168224299065]</td>\n      <td>[[39645, 22685], [39643, 22687], [39643, 22688...</td>\n      <td>10</td>\n      <td>1</td>\n      <td>89.5</td>\n      <td>39.213203</td>\n      <td>0.731422</td>\n      <td>8.626031</td>\n      <td>14.283838</td>\n      <td>36.164223</td>\n      <td>0.603901</td>\n      <td>0.937173</td>\n      <td>0.573718</td>\n      <td>10.674968</td>\n      <td>8</td>\n      <td>72.622311</td>\n      <td>58.224380</td>\n      <td>104.293274</td>\n      <td>0.524896</td>\n    </tr>\n    <tr>\n      <th>4</th>\n      <td>[[39076, 23171], [39086, 23187]]</td>\n      <td>[39562.37096774193, 22696.935483870966]</td>\n      <td>[[39559, 22692], [39558, 22693], [39557, 22693...</td>\n      <td>10</td>\n      <td>1</td>\n      <td>105.0</td>\n      <td>40.970562</td>\n      <td>0.786059</td>\n      <td>9.389393</td>\n      <td>15.466069</td>\n      <td>104.293274</td>\n      <td>0.607096</td>\n      <td>0.967742</td>\n      <td>0.656250</td>\n      <td>11.562446</td>\n      <td>8</td>\n      <td>35.355339</td>\n      <td>76.607521</td>\n      <td>59.920910</td>\n      <td>0.279197</td>\n    </tr>\n  </tbody>\n</table>\n</div>"
     },
     "execution_count": 5,
     "metadata": {},
     "output_type": "execute_result"
    }
   ],
   "source": [
    "pkls.head()"
   ],
   "metadata": {
    "collapsed": false,
    "pycharm": {
     "name": "#%%\n"
    }
   }
  },
  {
   "cell_type": "code",
   "execution_count": 8,
   "outputs": [],
   "source": [
    "pkls.loc[pkls['type']==12]=10 #replace cells in white to ecm since its just gap\n",
    "pkls.loc[pkls['type']==1]=2 # all corneum cells are spinosum\n",
    "# pkls.loc[pkls['type']==3]=4 # all shaft cells are follicle"
   ],
   "metadata": {
    "collapsed": false,
    "pycharm": {
     "name": "#%%\n"
    }
   }
  },
  {
   "cell_type": "code",
   "execution_count": 13,
   "outputs": [
    {
     "data": {
      "text/plain": "type             NaN\ninroi            NaN\nArea             NaN\nPerimeter        NaN\nCircularity      NaN\nMA               NaN\nma               NaN\norientation      NaN\nAspectRatio      NaN\nSol              NaN\nExtent           NaN\nEquiDia          NaN\nimID             8.0\ndist2nearest     NaN\noriA             NaN\noriB             NaN\nlocal_align      NaN\nNcell            0.0\nAge             11.6\ndtype: float64"
     },
     "execution_count": 13,
     "metadata": {},
     "output_type": "execute_result"
    }
   ],
   "source": [
    "pkl = pkls[pkls['imID']==8]\n",
    "pkl = pkl.drop(columns=['bbox', 'centroid','contour'])\n",
    "pk = pkl[pkl['inroi']==1]\n",
    "p = pk[pk['type']==1]\n",
    "pkmean = p.mean(axis=0)\n",
    "pkmean['Ncell'] = len(p)\n",
    "pkmean['imID'] = 8\n",
    "pkmean['Age'] = agelut['Age'][agelut['redcap']==8].values[0]\n",
    "pkmean"
   ],
   "metadata": {
    "collapsed": false,
    "pycharm": {
     "name": "#%%\n"
    }
   }
  },
  {
   "cell_type": "code",
   "execution_count": null,
   "outputs": [],
   "source": [
    "dl = Image.open(r'\\\\fatherserverdw\\Q\\research\\images\\skin_aging\\annotation\\roi\\tif\\8_tissue_binary.tif')\n",
    "            dlareas = dl.histogram()[1:13]"
   ],
   "metadata": {
    "collapsed": false,
    "pycharm": {
     "name": "#%%\n"
    }
   }
  },
  {
   "cell_type": "code",
   "execution_count": 14,
   "outputs": [
    {
     "name": "stdout",
     "output_type": "stream",
     "text": [
      "CPU times: total: 16 s\n",
      "Wall time: 12.3 s\n"
     ]
    }
   ],
   "source": [
    "%%time\n",
    "avgs = []\n",
    "stds = []\n",
    "for imid in pkls['imID'].unique():\n",
    "    pkl = pkls[pkls['imID']==imid]\n",
    "    pkl = pkl.drop(columns=['bbox', 'centroid','contour'])\n",
    "    for secid in pkl['inroi'].unique():\n",
    "        pk = pkl[pkl['inroi']==secid]\n",
    "        for type in range(2,12):\n",
    "            p = pk[pk['type']==type]\n",
    "            pkmean = p.mean(axis=0)\n",
    "            pkmean['Ncell'] = len(p)\n",
    "            pkmean['imID'] = imid\n",
    "            pkmean['Age'] = agelut['Age'][agelut['redcap']==imid].values[0]\n",
    "            pkstd = p.std(axis=0)\n",
    "            pkstd['imID'] = imid\n",
    "            pkstd['type'] = type\n",
    "            pkstd['inroi'] = secid\n",
    "            pkstd['Age'] = agelut['Age'][agelut['redcap']==imid].values[0]\n",
    "            stds.append(pkstd.replace(np.nan,0))\n",
    "            avgs.append(pkmean.replace(np.nan, 0))"
   ],
   "metadata": {
    "collapsed": false,
    "pycharm": {
     "name": "#%%\n"
    }
   }
  },
  {
   "cell_type": "code",
   "execution_count": 15,
   "outputs": [],
   "source": [
    "avgdf = pd.DataFrame(avgs)\n",
    "stddf = pd.DataFrame(stds)"
   ],
   "metadata": {
    "collapsed": false,
    "pycharm": {
     "name": "#%%\n"
    }
   }
  },
  {
   "cell_type": "code",
   "execution_count": 16,
   "outputs": [],
   "source": [
    "avgdf.to_csv('avgdf.csv')\n",
    "stddf.to_csv('stddf.csv')"
   ],
   "metadata": {
    "collapsed": false,
    "pycharm": {
     "name": "#%%\n"
    }
   }
  },
  {
   "cell_type": "code",
   "execution_count": null,
   "outputs": [],
   "source": [
    "avg_lvl_corr=[]\n",
    "for type in avgdf['type'].unique():\n",
    "    adf = avgdf[avgdf['type']==type]\n",
    "    corr = adf.corrwith(adf['age'], method='kendall')\n",
    "    avg_lvl_corr.append(corr)"
   ],
   "metadata": {
    "collapsed": false,
    "pycharm": {
     "name": "#%%\n"
    }
   }
  }
 ],
 "metadata": {
  "kernelspec": {
   "display_name": "Python 3",
   "language": "python",
   "name": "python3"
  },
  "language_info": {
   "codemirror_mode": {
    "name": "ipython",
    "version": 2
   },
   "file_extension": ".py",
   "mimetype": "text/x-python",
   "name": "python",
   "nbconvert_exporter": "python",
   "pygments_lexer": "ipython2",
   "version": "2.7.6"
  }
 },
 "nbformat": 4,
 "nbformat_minor": 0
}