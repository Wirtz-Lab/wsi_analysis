{
 "cells": [
  {
   "cell_type": "code",
   "execution_count": 1,
   "metadata": {
    "collapsed": true
   },
   "outputs": [],
   "source": [
    "import pyvips\n",
    "import os\n",
    "\n",
    "src = '/Volumes/Digital pathology image lib/JHU/Laura Wood/IF for SenPan001/FWPanc001_207/1st round/well image stitch/1x_'\n",
    "ims = [_ for _ in os.listdir(src) if _.endswith('tif')]"
   ]
  },
  {
   "cell_type": "code",
   "execution_count": 2,
   "outputs": [],
   "source": [
    "im1 = pyvips.Image.new_from_file(os.path.join(src,ims[0]))\n",
    "im2 = pyvips.Image.new_from_file(os.path.join(src,ims[1]))\n",
    "im3 = pyvips.Image.new_from_file(os.path.join(src,ims[2]))\n",
    "im4 = pyvips.Image.new_from_file(os.path.join(src,ims[3]))\n",
    "im = im1.bandjoin([im2,im3,im4])"
   ],
   "metadata": {
    "collapsed": false
   }
  },
  {
   "cell_type": "code",
   "execution_count": 4,
   "outputs": [],
   "source": [
    "image_height = im.height\n",
    "image_bands = im.bands\n",
    "\n",
    "# split to separate image planes and stack vertically ready for OME\n",
    "im = pyvips.Image.arrayjoin(im.bandsplit(), across=1)"
   ],
   "metadata": {
    "collapsed": false
   }
  },
  {
   "cell_type": "code",
   "execution_count": 5,
   "outputs": [],
   "source": [
    "# set minimal OME metadata\n",
    "# before we can modify an image (set metadata in this case), we must take a\n",
    "# private copy\n",
    "im = im.copy()\n",
    "im.set_type(pyvips.GValue.gint_type, \"page-height\", image_height)\n",
    "im.set_type(pyvips.GValue.gstr_type, \"image-description\",\n",
    "            f\"\"\"<?xml version=\"1.0\" encoding=\"UTF-8\"?>\n",
    "<OME xmlns=\"http://www.openmicroscopy.org/Schemas/OME/2016-06\"\n",
    "    xmlns:xsi=\"http://www.w3.org/2001/XMLSchema-instance\"\n",
    "    xsi:schemaLocation=\"http://www.openmicroscopy.org/Schemas/OME/2016-06 http://www.openmicroscopy.org/Schemas/OME/2016-06/ome.xsd\">\n",
    "    <Image ID=\"Image:0\">\n",
    "        <!-- Minimum required fields about image dimensions -->\n",
    "        <Pixels DimensionOrder=\"XYCZT\"\n",
    "                ID=\"Pixels:0\"\n",
    "                SizeC=\"{image_bands}\"\n",
    "                SizeT=\"1\"\n",
    "                SizeX=\"{im.width}\"\n",
    "                SizeY=\"{image_height}\"\n",
    "                SizeZ=\"1\"\n",
    "                Type=\"uint8\">\n",
    "        </Pixels>\n",
    "    </Image>\n",
    "</OME>\"\"\")\n",
    "\n",
    "im.tiffsave(os.path.join(src,'multi_channel_pyramid.ome.tiff'), compression=\"jpeg\", tile=True,tile_width=512, tile_height=512,pyramid=True, subifd=True)"
   ],
   "metadata": {
    "collapsed": false
   }
  }
 ],
 "metadata": {
  "kernelspec": {
   "display_name": "Python 3",
   "language": "python",
   "name": "python3"
  },
  "language_info": {
   "codemirror_mode": {
    "name": "ipython",
    "version": 2
   },
   "file_extension": ".py",
   "mimetype": "text/x-python",
   "name": "python",
   "nbconvert_exporter": "python",
   "pygments_lexer": "ipython2",
   "version": "2.7.6"
  }
 },
 "nbformat": 4,
 "nbformat_minor": 0
}
