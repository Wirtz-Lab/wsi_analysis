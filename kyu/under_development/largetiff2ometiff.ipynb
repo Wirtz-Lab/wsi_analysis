{
 "cells": [
  {
   "cell_type": "code",
   "execution_count": 1,
   "metadata": {
    "collapsed": true
   },
   "outputs": [
    {
     "data": {
      "text/plain": "['/Volumes/Digital pathology image lib/JHU/Laura Wood/IF for SenPan001/FWPanc001_207/align_roi/roi2/',\n '/Volumes/Digital pathology image lib/JHU/Laura Wood/IF for SenPan001/FWPanc001_207/align_roi/roi1/',\n '/Volumes/Digital pathology image lib/JHU/Laura Wood/IF for SenPan001/FWPanc001_207/align_roi/roi3/',\n '/Volumes/Digital pathology image lib/JHU/Laura Wood/IF for SenPan001/FWPanc001_207/align_roi/roi4/',\n '/Volumes/Digital pathology image lib/JHU/Laura Wood/IF for SenPan001/FWPanc001_207/align_roi/roi5/',\n '/Volumes/Digital pathology image lib/JHU/Laura Wood/IF for SenPan001/FWPanc001_207/align_roi/roi6/']"
     },
     "execution_count": 1,
     "metadata": {},
     "output_type": "execute_result"
    }
   ],
   "source": [
    "import pyvips\n",
    "import os\n",
    "import glob\n",
    "\n",
    "src = '/Volumes/Digital pathology image lib/JHU/Laura Wood/IF for SenPan001/FWPanc001_207/align_roi'\n",
    "srcs = glob.glob(os.path.join(src,'*/'))\n",
    "srcs"
   ]
  },
  {
   "cell_type": "code",
   "execution_count": 2,
   "outputs": [],
   "source": [
    "for src in srcs:\n",
    "    ims = [_ for _ in os.listdir(src) if _.endswith('tif')]\n",
    "    # rgbidx = ims.index([_ for _ in ims if 'HE' in _][0])\n",
    "    #load RGB image\n",
    "    imrgb = pyvips.Image.new_from_file(os.path.join(src,ims[-1]))\n",
    "    ims = ims[:-1]\n",
    "    #scaleimage function converts an image to 8bit scale\n",
    "    for im in ims:\n",
    "        imtmp = pyvips.Image.new_from_file(os.path.join(src,im)).scaleimage()\n",
    "        imrgb = imrgb.bandjoin(imtmp)\n",
    "    im = imrgb\n",
    "    image_height = im.height\n",
    "    image_bands = im.bands\n",
    "    # split to separate image planes and stack vertically ready for OME\n",
    "    im = pyvips.Image.arrayjoin(im.bandsplit(), across=1)\n",
    "    # set minimal OME metadata\n",
    "    # before we can modify an image (set metadata in this case), we must take a\n",
    "    # private copy\n",
    "    im = im.copy()\n",
    "    im.set_type(pyvips.GValue.gint_type, \"page-height\", image_height)\n",
    "    im.set_type(pyvips.GValue.gstr_type, \"image-description\",\n",
    "                f\"\"\"<?xml version=\"1.0\" encoding=\"UTF-8\"?>\n",
    "    <OME xmlns=\"http://www.openmicroscopy.org/Schemas/OME/2016-06\"\n",
    "        xmlns:xsi=\"http://www.w3.org/2001/XMLSchema-instance\"\n",
    "        xsi:schemaLocation=\"http://www.openmicroscopy.org/Schemas/OME/2016-06 http://www.openmicroscopy.org/Schemas/OME/2016-06/ome.xsd\">\n",
    "        <Image ID=\"Image:0\">\n",
    "            <!-- Minimum required fields about image dimensions -->\n",
    "            <Pixels DimensionOrder=\"XYCZT\"\n",
    "                    ID=\"Pixels:0\"\n",
    "                    SizeC=\"{image_bands}\"\n",
    "                    SizeT=\"1\"\n",
    "                    SizeX=\"{im.width}\"\n",
    "                    SizeY=\"{image_height}\"\n",
    "                    SizeZ=\"1\"\n",
    "                    Type=\"uint8\">\n",
    "            </Pixels>\n",
    "        </Image>\n",
    "    </OME>\"\"\")\n",
    "    im.tiffsave(os.path.join(src,os.path.split(src[:-1])[1]+'.ome.tiff'), compression=\"jpeg\", tile=True,tile_width=512, tile_height=512,pyramid=True, subifd=True)"
   ],
   "metadata": {
    "collapsed": false
   }
  }
 ],
 "metadata": {
  "kernelspec": {
   "display_name": "Python 3",
   "language": "python",
   "name": "python3"
  },
  "language_info": {
   "codemirror_mode": {
    "name": "ipython",
    "version": 2
   },
   "file_extension": ".py",
   "mimetype": "text/x-python",
   "name": "python",
   "nbconvert_exporter": "python",
   "pygments_lexer": "ipython2",
   "version": "2.7.6"
  }
 },
 "nbformat": 4,
 "nbformat_minor": 0
}
