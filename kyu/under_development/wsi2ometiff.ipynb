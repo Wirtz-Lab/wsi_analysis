{
 "cells": [
  {
   "cell_type": "code",
   "execution_count": null,
   "metadata": {
    "collapsed": true
   },
   "outputs": [],
   "source": [
    "import sys\n",
    "import pyvips\n",
    "\n",
    "im = pyvips.Image.new_from_file('/Users/chamisulhuresh/Desktop/test.ndpi')\n",
    "\n",
    "# openslide will add an alpha ... drop it\n",
    "if im.hasalpha():\n",
    "    im = im[:-1]\n",
    "\n",
    "image_height = im.height\n",
    "image_bands = im.bands\n",
    "\n",
    "# split to separate image planes and stack vertically ready for OME\n",
    "im = pyvips.Image.arrayjoin(im.bandsplit(), across=1)\n",
    "\n",
    "# set minimal OME metadata\n",
    "# before we can modify an image (set metadata in this case), we must take a\n",
    "# private copy\n",
    "im = im.copy()\n",
    "im.set_type(pyvips.GValue.gint_type, \"page-height\", image_height)\n",
    "im.set_type(pyvips.GValue.gstr_type, \"image-description\",\n",
    "            f\"\"\"<?xml version=\"1.0\" encoding=\"UTF-8\"?>\n",
    "<OME xmlns=\"http://www.openmicroscopy.org/Schemas/OME/2016-06\"\n",
    "    xmlns:xsi=\"http://www.w3.org/2001/XMLSchema-instance\"\n",
    "    xsi:schemaLocation=\"http://www.openmicroscopy.org/Schemas/OME/2016-06 http://www.openmicroscopy.org/Schemas/OME/2016-06/ome.xsd\">\n",
    "    <Image ID=\"Image:0\">\n",
    "        <!-- Minimum required fields about image dimensions -->\n",
    "        <Pixels DimensionOrder=\"XYCZT\"\n",
    "                ID=\"Pixels:0\"\n",
    "                SizeC=\"{image_bands}\"\n",
    "                SizeT=\"1\"\n",
    "                SizeX=\"{im.width}\"\n",
    "                SizeY=\"{image_height}\"\n",
    "                SizeZ=\"1\"\n",
    "                Type=\"uint8\">\n",
    "        </Pixels>\n",
    "    </Image>\n",
    "</OME>\"\"\")\n",
    "\n",
    "im.tiffsave('/Users/chamisulhuresh/Desktop/ndpitest.ome.tiff', compression=\"jpeg\", tile=True,\n",
    "            tile_width=512, tile_height=512,\n",
    "            pyramid=True, subifd=True)"
   ]
  },
  {
   "cell_type": "code",
   "execution_count": 1,
   "outputs": [],
   "source": [
    "import os\n",
    "input_dir = '/Volumes/Kyu/unstain2stain/unstain2stain_wsi/HE'\n",
    "output_dir = os.path.join(input_dir,'1um')\n",
    "filenames = [x for x in os.listdir(input_dir) if x.endswith(\".ndpi\")]\n",
    "# filenames = natsorted(filenames)\n",
    "filenames = sorted(filenames, key=lambda x: os.stat(os.path.join(input_dir, x)).st_size)"
   ],
   "metadata": {
    "collapsed": false
   }
  },
  {
   "cell_type": "code",
   "execution_count": 2,
   "outputs": [
    {
     "name": "stdout",
     "output_type": "stream",
     "text": [
      "154330869  --> OTS_11932_2_he.ndpi\n",
      "163152094  --> 01_12379_B_he.ndpi\n",
      "164251114  --> 01_9630_A_he.ndpi\n",
      "172992248  --> 01_9630_B_he.ndpi\n",
      "226408441  --> 02_3421_he.ndpi\n",
      "242094218  --> 01_13304_1_he.ndpi\n",
      "289848190  --> 01_7264_1_he.ndpi\n",
      "293132450  --> 98_12703_he.ndpi\n",
      "308259881  --> 00_15217_2_he.ndpi\n",
      "361631467  --> 98_11441_A_he.ndpi\n",
      "370123234  --> 01_4051_he.ndpi\n",
      "370403715  --> 01_3837_A_he.ndpi\n",
      "370642195  --> OTS_11932_1_he.ndpi\n",
      "385497279  --> 00_14747_he.ndpi\n",
      "387033286  --> 03_17861_B5_he.ndpi\n",
      "422582512  --> 03_17861_A2_he.ndpi\n",
      "426580929  --> 03_17861_B1_he.ndpi\n",
      "435866475  --> 01_11681_1_he.ndpi\n",
      "439389144  --> 02_11727_1_he.ndpi\n",
      "443061922  --> 01_12379_C_he.ndpi\n",
      "473075885  --> 03_17861_A1_he.ndpi\n",
      "500260869  --> 00_4240_B_he.ndpi\n",
      "530770053  --> 02_6514_2_he.ndpi\n",
      "531438689  --> 02_6514_1_he.ndpi\n",
      "534593086  --> 01_12881_A.ndpi\n",
      "545441058  --> 03_17861_B2_he.ndpi\n",
      "553900547  --> 01_17300_A3_he.ndpi\n",
      "554477875  --> 01_17300_A2_he.ndpi\n",
      "556776957  --> 03_17861_B4_he.ndpi\n",
      "570899478  --> 00_2362_he.ndpi\n",
      "574319642  --> 03_17861_B3_he.ndpi\n",
      "578458693  --> 00_4679_he.ndpi\n",
      "597523255  --> 01_11681_2_he.ndpi\n",
      "661578578  --> 05_4105_B_he.ndpi\n",
      "679785632  --> 02_13098_1_he.ndpi\n",
      "689437604  --> 01_2027_he.ndpi\n",
      "698606037  --> 02_13098_2_he.ndpi\n",
      "703411279  --> 01_5915_he.ndpi\n",
      "744120843  --> 01_3837_B_he.ndpi\n",
      "798244170  --> sk244a_he.ndpi\n",
      "882714719  --> 01_15704_A_he.ndpi\n",
      "897547126  --> 01_17300_A1_he.ndpi\n",
      "1107219113  --> OTS_14832_16_he.ndpi\n",
      "1340517606  --> OTS_14684_3_he.ndpi\n",
      "1564143931  --> OTS_14832_12_he.ndpi\n",
      "1586821287  --> sk481_he.ndpi\n",
      "1680816841  --> OTS_14832_7_he.ndpi\n",
      "1711558712  --> OTS_14832_14_he.ndpi\n",
      "1733140986  --> OTS_14684_2_he.ndpi\n",
      "1771158202  --> OTS_14684_4_he.ndpi\n",
      "1772175975  --> OTS_14832_5_he.ndpi\n",
      "1790152558  --> OTS_14832_3_he.ndpi\n",
      "1812494305  --> OTS_14684_5_he.ndpi\n",
      "1814152446  --> OTS_14684_8_he.ndpi\n",
      "1922442611  --> OTS_14684_9_he.ndpi\n",
      "1959994981  --> OTS_14832_9_he.ndpi\n",
      "2021604814  --> OTS_14832_6_he.ndpi\n",
      "2039440248  --> OTS_14832_2_he.ndpi\n",
      "2079451260  --> OTS_14684_6_he.ndpi\n",
      "2090071912  --> OTS_14684_7_he.ndpi\n",
      "2102178786  --> OTS_14832_11_he.ndpi\n",
      "2194219435  --> OTS_14684_1_he.ndpi\n",
      "2202650422  --> OTS_14832_1_he.ndpi\n",
      "2295143725  --> OTS_14832_10_he.ndpi\n",
      "2412713398  --> skn1001_he.ndpi\n",
      "2470441726  --> OTS_14832_13_he.ndpi\n",
      "2561581836  --> OTS_14832_15_he.ndpi\n",
      "2689586648  --> OTS_14832_8_he.ndpi\n",
      "2731404651  --> OTS_14832_4_he.ndpi\n"
     ]
    }
   ],
   "source": [
    "for name_of_file in filenames:\n",
    "    path_of_file = os.path.join(input_dir, name_of_file)\n",
    "    size_of_file  = os.stat(path_of_file).st_size\n",
    "    print(size_of_file, ' -->', name_of_file)"
   ],
   "metadata": {
    "collapsed": false
   }
  },
  {
   "cell_type": "code",
   "execution_count": null,
   "outputs": [],
   "source": [],
   "metadata": {
    "collapsed": false
   }
  }
 ],
 "metadata": {
  "kernelspec": {
   "display_name": "Python 3",
   "language": "python",
   "name": "python3"
  },
  "language_info": {
   "codemirror_mode": {
    "name": "ipython",
    "version": 2
   },
   "file_extension": ".py",
   "mimetype": "text/x-python",
   "name": "python",
   "nbconvert_exporter": "python",
   "pygments_lexer": "ipython2",
   "version": "2.7.6"
  }
 },
 "nbformat": 4,
 "nbformat_minor": 0
}
