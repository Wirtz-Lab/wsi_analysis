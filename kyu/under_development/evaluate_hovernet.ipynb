{
 "cells": [
  {
   "cell_type": "code",
   "execution_count": 345,
   "outputs": [],
   "source": [
    "import pandas as pd\n",
    "import os\n",
    "import numpy as np\n",
    "import cv2\n",
    "import json\n",
    "import glob\n",
    "import matplotlib.pyplot as plt\n",
    "from sklearn.metrics import jaccard_score,average_precision_score,precision_score,recall_score\n",
    "import tqdm"
   ],
   "metadata": {
    "collapsed": false,
    "pycharm": {
     "name": "#%%\n"
    }
   }
  },
  {
   "cell_type": "code",
   "execution_count": 264,
   "outputs": [],
   "source": [
    "#open manual annotated image from geojson (exported qupath image as geojason because paquo installation failed)\n",
    "src = r'\\\\fatherserverdw\\Q\\research\\images\\skin_aging\\hovernet_tile\\hovernet_manual_validation'\n",
    "manual = os.path.join(src,'manual_annotation')\n",
    "predicted = os.path.join(src,'predicted_nuclei_contour')\n",
    "raw_ims = os.path.join(src,'raw_image')"
   ],
   "metadata": {
    "collapsed": false,
    "pycharm": {
     "name": "#%%\n"
    }
   }
  },
  {
   "cell_type": "code",
   "execution_count": 265,
   "outputs": [],
   "source": [
    "#open manual annotations with json.load\n",
    "annotations = glob.glob(os.path.join(manual,'*.geojson'))\n",
    "annotation = annotations[1]\n",
    "with open(annotation) as f:\n",
    "  features = json.load(f)[\"features\"]"
   ],
   "metadata": {
    "collapsed": false,
    "pycharm": {
     "name": "#%%\n"
    }
   }
  },
  {
   "cell_type": "code",
   "execution_count": 266,
   "outputs": [],
   "source": [
    "#create a list of manual contours\n",
    "man_coordinates = [np.squeeze(_['geometry']['coordinates']) for _ in features]"
   ],
   "metadata": {
    "collapsed": false,
    "pycharm": {
     "name": "#%%\n"
    }
   }
  },
  {
   "cell_type": "code",
   "execution_count": 267,
   "outputs": [
    {
     "data": {
      "text/plain": "                                               contour\n0    [[368, 427], [368, 428], [367, 428], [366, 429...\n1    [[242, 339], [241, 340], [239, 340], [238, 341...\n2    [[168, 364], [167, 365], [166, 365], [166, 366...\n3    [[322, 384], [321, 385], [320, 385], [319, 386...\n4    [[387, 334], [387, 335], [386, 335], [386, 336...\n..                                                 ...\n379  [[230.0, 311.0], [230.0, 313.0], [233.0, 313.0...\n380  [[370, 314], [370, 315], [369, 315], [369, 317...\n381  [[959.0, 403.0], [959.0, 404.0], [957.0, 404.0...\n382  [[543, 354], [543, 355], [542, 355], [542, 356...\n383  [[649, 491], [649, 492], [648, 492], [648, 493...\n\n[384 rows x 1 columns]",
      "text/html": "<div>\n<style scoped>\n    .dataframe tbody tr th:only-of-type {\n        vertical-align: middle;\n    }\n\n    .dataframe tbody tr th {\n        vertical-align: top;\n    }\n\n    .dataframe thead th {\n        text-align: right;\n    }\n</style>\n<table border=\"1\" class=\"dataframe\">\n  <thead>\n    <tr style=\"text-align: right;\">\n      <th></th>\n      <th>contour</th>\n    </tr>\n  </thead>\n  <tbody>\n    <tr>\n      <th>0</th>\n      <td>[[368, 427], [368, 428], [367, 428], [366, 429...</td>\n    </tr>\n    <tr>\n      <th>1</th>\n      <td>[[242, 339], [241, 340], [239, 340], [238, 341...</td>\n    </tr>\n    <tr>\n      <th>2</th>\n      <td>[[168, 364], [167, 365], [166, 365], [166, 366...</td>\n    </tr>\n    <tr>\n      <th>3</th>\n      <td>[[322, 384], [321, 385], [320, 385], [319, 386...</td>\n    </tr>\n    <tr>\n      <th>4</th>\n      <td>[[387, 334], [387, 335], [386, 335], [386, 336...</td>\n    </tr>\n    <tr>\n      <th>...</th>\n      <td>...</td>\n    </tr>\n    <tr>\n      <th>379</th>\n      <td>[[230.0, 311.0], [230.0, 313.0], [233.0, 313.0...</td>\n    </tr>\n    <tr>\n      <th>380</th>\n      <td>[[370, 314], [370, 315], [369, 315], [369, 317...</td>\n    </tr>\n    <tr>\n      <th>381</th>\n      <td>[[959.0, 403.0], [959.0, 404.0], [957.0, 404.0...</td>\n    </tr>\n    <tr>\n      <th>382</th>\n      <td>[[543, 354], [543, 355], [542, 355], [542, 356...</td>\n    </tr>\n    <tr>\n      <th>383</th>\n      <td>[[649, 491], [649, 492], [648, 492], [648, 493...</td>\n    </tr>\n  </tbody>\n</table>\n<p>384 rows × 1 columns</p>\n</div>"
     },
     "execution_count": 267,
     "metadata": {},
     "output_type": "execute_result"
    }
   ],
   "source": [
    "manual_df = pd.DataFrame({'contour':man_coordinates})\n",
    "manual_df"
   ],
   "metadata": {
    "collapsed": false,
    "pycharm": {
     "name": "#%%\n"
    }
   }
  },
  {
   "cell_type": "code",
   "execution_count": 268,
   "outputs": [],
   "source": [
    "# def contour2centroid(c):\n",
    "#     M = cv2.moments(c)\n",
    "#     cX = int(M[\"m10\"] / M[\"m00\"])\n",
    "#     cY = int(M[\"m01\"] / M[\"m00\"])\n",
    "#     return np.array([cX,cY])\n",
    "\n",
    "def contour2centroid(arr):\n",
    "    length = arr.shape[0]\n",
    "    sum_x = np.sum(arr[:, 0])\n",
    "    sum_y = np.sum(arr[:, 1])\n",
    "    return sum_x/length, sum_y/length"
   ],
   "metadata": {
    "collapsed": false,
    "pycharm": {
     "name": "#%%\n"
    }
   }
  },
  {
   "cell_type": "code",
   "execution_count": 269,
   "outputs": [
    {
     "data": {
      "text/plain": "                                               contour  \\\n0    [[368, 427], [368, 428], [367, 428], [366, 429...   \n1    [[242, 339], [241, 340], [239, 340], [238, 341...   \n2    [[168, 364], [167, 365], [166, 365], [166, 366...   \n3    [[322, 384], [321, 385], [320, 385], [319, 386...   \n4    [[387, 334], [387, 335], [386, 335], [386, 336...   \n..                                                 ...   \n379  [[230.0, 311.0], [230.0, 313.0], [233.0, 313.0...   \n380  [[370, 314], [370, 315], [369, 315], [369, 317...   \n381  [[959.0, 403.0], [959.0, 404.0], [957.0, 404.0...   \n382  [[543, 354], [543, 355], [542, 355], [542, 356...   \n383  [[649, 491], [649, 492], [648, 492], [648, 493...   \n\n                                     centroid  \n0      (369.93939393939394, 438.969696969697)  \n1     (242.16666666666666, 346.2142857142857)  \n2    (172.02564102564102, 371.64102564102564)  \n3      (325.8695652173913, 392.4130434782609)  \n4      (390.0408163265306, 342.7959183673469)  \n..                                        ...  \n379   (248.45238095238096, 313.3095238095238)  \n380    (390.7014925373134, 322.2089552238806)  \n381               (961.75, 413.4935897435897)  \n382     (547.936170212766, 360.7659574468085)  \n383   (649.7631578947369, 497.42105263157896)  \n\n[384 rows x 2 columns]",
      "text/html": "<div>\n<style scoped>\n    .dataframe tbody tr th:only-of-type {\n        vertical-align: middle;\n    }\n\n    .dataframe tbody tr th {\n        vertical-align: top;\n    }\n\n    .dataframe thead th {\n        text-align: right;\n    }\n</style>\n<table border=\"1\" class=\"dataframe\">\n  <thead>\n    <tr style=\"text-align: right;\">\n      <th></th>\n      <th>contour</th>\n      <th>centroid</th>\n    </tr>\n  </thead>\n  <tbody>\n    <tr>\n      <th>0</th>\n      <td>[[368, 427], [368, 428], [367, 428], [366, 429...</td>\n      <td>(369.93939393939394, 438.969696969697)</td>\n    </tr>\n    <tr>\n      <th>1</th>\n      <td>[[242, 339], [241, 340], [239, 340], [238, 341...</td>\n      <td>(242.16666666666666, 346.2142857142857)</td>\n    </tr>\n    <tr>\n      <th>2</th>\n      <td>[[168, 364], [167, 365], [166, 365], [166, 366...</td>\n      <td>(172.02564102564102, 371.64102564102564)</td>\n    </tr>\n    <tr>\n      <th>3</th>\n      <td>[[322, 384], [321, 385], [320, 385], [319, 386...</td>\n      <td>(325.8695652173913, 392.4130434782609)</td>\n    </tr>\n    <tr>\n      <th>4</th>\n      <td>[[387, 334], [387, 335], [386, 335], [386, 336...</td>\n      <td>(390.0408163265306, 342.7959183673469)</td>\n    </tr>\n    <tr>\n      <th>...</th>\n      <td>...</td>\n      <td>...</td>\n    </tr>\n    <tr>\n      <th>379</th>\n      <td>[[230.0, 311.0], [230.0, 313.0], [233.0, 313.0...</td>\n      <td>(248.45238095238096, 313.3095238095238)</td>\n    </tr>\n    <tr>\n      <th>380</th>\n      <td>[[370, 314], [370, 315], [369, 315], [369, 317...</td>\n      <td>(390.7014925373134, 322.2089552238806)</td>\n    </tr>\n    <tr>\n      <th>381</th>\n      <td>[[959.0, 403.0], [959.0, 404.0], [957.0, 404.0...</td>\n      <td>(961.75, 413.4935897435897)</td>\n    </tr>\n    <tr>\n      <th>382</th>\n      <td>[[543, 354], [543, 355], [542, 355], [542, 356...</td>\n      <td>(547.936170212766, 360.7659574468085)</td>\n    </tr>\n    <tr>\n      <th>383</th>\n      <td>[[649, 491], [649, 492], [648, 492], [648, 493...</td>\n      <td>(649.7631578947369, 497.42105263157896)</td>\n    </tr>\n  </tbody>\n</table>\n<p>384 rows × 2 columns</p>\n</div>"
     },
     "execution_count": 269,
     "metadata": {},
     "output_type": "execute_result"
    }
   ],
   "source": [
    "manual_df['centroid']=manual_df['contour'].apply(lambda row:contour2centroid(row))\n",
    "manual_df"
   ],
   "metadata": {
    "collapsed": false,
    "pycharm": {
     "name": "#%%\n"
    }
   }
  },
  {
   "cell_type": "code",
   "execution_count": 270,
   "outputs": [],
   "source": [
    "#open prediction\n",
    "pd_annotations = glob.glob(os.path.join(predicted,'*.json'))\n",
    "#open tile11\n",
    "pd_annotation = pd_annotations[0]\n",
    "with open(pd_annotation) as pd_f:\n",
    "  #bbox, centroid, contour\n",
    "  pd_features = json.load(pd_f)[\"nuc\"]"
   ],
   "metadata": {
    "collapsed": false,
    "pycharm": {
     "name": "#%%\n"
    }
   }
  },
  {
   "cell_type": "code",
   "execution_count": 271,
   "outputs": [],
   "source": [
    "#create a list of predicted contours\n",
    "pd_contours=[]\n",
    "pd_centroids = []\n",
    "for key in pd_features:\n",
    "    temp = pd_features.get(key)\n",
    "    pd_contours.append(np.array(temp.get('contour')))\n",
    "    pd_centroids.append(np.round(temp.get('centroid'),0).astype('int'))"
   ],
   "metadata": {
    "collapsed": false,
    "pycharm": {
     "name": "#%%\n"
    }
   }
  },
  {
   "cell_type": "code",
   "execution_count": 272,
   "outputs": [
    {
     "data": {
      "text/plain": "                                               contour    centroid\n0    [[667, 300], [666, 301], [666, 302], [667, 301...  [690, 305]\n1    [[615, 306], [614, 307], [611, 307], [610, 308...  [612, 315]\n2    [[517, 309], [516, 310], [513, 310], [513, 311...  [522, 318]\n3    [[675, 310], [674, 311], [673, 311], [672, 312...  [679, 318]\n4    [[503, 311], [501, 313], [499, 313], [497, 315...  [502, 318]\n..                                                 ...         ...\n342  [[310, 921], [310, 922], [309, 923], [307, 923...  [310, 927]\n343  [[698, 930], [698, 931], [697, 932], [698, 933...  [704, 938]\n344  [[206, 942], [205, 943], [204, 943], [203, 944...  [206, 945]\n345  [[331, 951], [327, 955], [327, 956], [326, 957...  [331, 958]\n346  [[599, 967], [598, 968], [596, 968], [595, 969...  [590, 973]\n\n[347 rows x 2 columns]",
      "text/html": "<div>\n<style scoped>\n    .dataframe tbody tr th:only-of-type {\n        vertical-align: middle;\n    }\n\n    .dataframe tbody tr th {\n        vertical-align: top;\n    }\n\n    .dataframe thead th {\n        text-align: right;\n    }\n</style>\n<table border=\"1\" class=\"dataframe\">\n  <thead>\n    <tr style=\"text-align: right;\">\n      <th></th>\n      <th>contour</th>\n      <th>centroid</th>\n    </tr>\n  </thead>\n  <tbody>\n    <tr>\n      <th>0</th>\n      <td>[[667, 300], [666, 301], [666, 302], [667, 301...</td>\n      <td>[690, 305]</td>\n    </tr>\n    <tr>\n      <th>1</th>\n      <td>[[615, 306], [614, 307], [611, 307], [610, 308...</td>\n      <td>[612, 315]</td>\n    </tr>\n    <tr>\n      <th>2</th>\n      <td>[[517, 309], [516, 310], [513, 310], [513, 311...</td>\n      <td>[522, 318]</td>\n    </tr>\n    <tr>\n      <th>3</th>\n      <td>[[675, 310], [674, 311], [673, 311], [672, 312...</td>\n      <td>[679, 318]</td>\n    </tr>\n    <tr>\n      <th>4</th>\n      <td>[[503, 311], [501, 313], [499, 313], [497, 315...</td>\n      <td>[502, 318]</td>\n    </tr>\n    <tr>\n      <th>...</th>\n      <td>...</td>\n      <td>...</td>\n    </tr>\n    <tr>\n      <th>342</th>\n      <td>[[310, 921], [310, 922], [309, 923], [307, 923...</td>\n      <td>[310, 927]</td>\n    </tr>\n    <tr>\n      <th>343</th>\n      <td>[[698, 930], [698, 931], [697, 932], [698, 933...</td>\n      <td>[704, 938]</td>\n    </tr>\n    <tr>\n      <th>344</th>\n      <td>[[206, 942], [205, 943], [204, 943], [203, 944...</td>\n      <td>[206, 945]</td>\n    </tr>\n    <tr>\n      <th>345</th>\n      <td>[[331, 951], [327, 955], [327, 956], [326, 957...</td>\n      <td>[331, 958]</td>\n    </tr>\n    <tr>\n      <th>346</th>\n      <td>[[599, 967], [598, 968], [596, 968], [595, 969...</td>\n      <td>[590, 973]</td>\n    </tr>\n  </tbody>\n</table>\n<p>347 rows × 2 columns</p>\n</div>"
     },
     "execution_count": 272,
     "metadata": {},
     "output_type": "execute_result"
    }
   ],
   "source": [
    "predicted_df = pd.DataFrame({'contour':pd_contours,'centroid':pd_centroids})\n",
    "predicted_df"
   ],
   "metadata": {
    "collapsed": false,
    "pycharm": {
     "name": "#%%\n"
    }
   }
  },
  {
   "cell_type": "code",
   "execution_count": 273,
   "outputs": [],
   "source": [
    "#get size of origianl image\n",
    "raw = glob.glob(os.path.join(raw_ims,'*.tif'))\n",
    "raw_img = cv2.imread(raw[0])\n",
    "dim = raw_img.shape\n",
    "image_size = (dim[0],dim[1])"
   ],
   "metadata": {
    "collapsed": false,
    "pycharm": {
     "name": "#%%\n"
    }
   }
  },
  {
   "cell_type": "code",
   "execution_count": 274,
   "outputs": [],
   "source": [
    "#Link ground truth to predicted nuclei\n",
    "from sklearn.neighbors import NearestNeighbors\n",
    "\n",
    "#create a list of manual centroids, and a list of predicted centroids\n",
    "manual_centroid= np.array(manual_df['centroid'].values.tolist())\n",
    "predicted_centroid= np.array(predicted_df['centroid'].values.tolist())\n",
    "nbrs = NearestNeighbors(n_neighbors=1, metric='euclidean').fit(predicted_centroid) #build model\n",
    "distances, indices = nbrs.kneighbors(manual_centroid) #apply model\n",
    "indices=np.squeeze(indices)"
   ],
   "metadata": {
    "collapsed": false,
    "pycharm": {
     "name": "#%%\n"
    }
   }
  },
  {
   "cell_type": "code",
   "execution_count": 275,
   "outputs": [
    {
     "data": {
      "text/plain": "array([104,  22,  33,  57,  20,  25,  47,  31,  68,  75,  79,  50,  40,\n        38,  69,  70,  97, 122, 127,  90, 105,  73, 146, 132, 108, 131,\n        43,  23,  55,  51,  87, 110, 123, 116, 157, 152, 145, 209, 190,\n       192, 223, 111,  72, 203, 147, 166, 178, 185, 226, 182, 169,  44,\n        16,  14,  24,  17,  12,  52,  35,  45,  56,  44,  76,  88,  83,\n        67,  93,  42,  64, 113,  91,  78, 113,  61,  95, 124, 138, 148,\n       170, 158, 187, 184, 201, 215, 211, 218, 231, 230, 218, 234, 238,\n       252, 240, 241, 251, 242, 245, 247, 248, 250, 254, 216, 191, 207,\n       188, 160, 159, 129, 101,  84,  94,  46, 191,  71,  49,  80, 103,\n        58,  81,  74, 100, 118,  99,  92, 112,  54,  30,  34,  63,  65,\n        59,  39,  28,  37,  27, 139, 161, 179, 193, 221, 227, 220, 196,\n       204, 195, 198, 243, 246, 264, 264, 277, 277, 296, 312, 313, 321,\n       332, 340, 340, 341, 323, 330, 315, 314, 327, 294, 295, 290, 307,\n       302, 273, 278, 262, 266, 281, 268, 274, 289, 288, 276, 288, 300,\n       304, 303, 305, 306, 309, 310, 310, 317, 317, 298, 305, 260, 271,\n       279, 279, 308, 143, 133, 135, 134, 154, 150, 163, 183, 180, 194,\n       237, 210, 241,  41,  51,  87,  21,   1,  13,  15,  85,  74,  62,\n       155, 119, 168, 171, 151, 212, 217, 199, 228, 205, 222, 189, 197,\n       186, 164, 219, 126, 141, 114, 106, 107, 130,  96, 149, 144, 136,\n       239, 232, 233, 236, 121, 174, 165, 208, 202, 175, 200, 128, 121,\n       176, 172, 137, 102, 117, 244, 249, 213, 222, 229, 142, 115, 109,\n       147, 299, 293, 280, 311, 318, 214, 235, 169,  55,  98,  50,  48,\n        82,  82,  86,  86,  89,  89, 153, 181, 255, 156, 162, 256, 263,\n       253, 253, 258, 267, 297, 301, 307, 316, 319, 319, 336, 322, 326,\n       320, 320, 329, 335, 337, 337, 336, 338, 343, 343, 346, 345, 342,\n       328, 324, 325, 325, 333, 334, 344, 337, 338, 335, 339, 339, 339,\n       331, 331, 338, 338, 318, 318, 314, 317, 285, 283, 292, 286, 282,\n       292, 287, 291, 284, 275, 270, 261, 259, 265, 269, 309,  10,  18,\n        58,   2,   7, 177,  36,  80,  49,   8,   5,   1,   0,  10,  19,\n        66,   3,  22,   6,  77,  26, 152], dtype=int64)"
     },
     "execution_count": 275,
     "metadata": {},
     "output_type": "execute_result"
    }
   ],
   "source": [
    "indices"
   ],
   "metadata": {
    "collapsed": false,
    "pycharm": {
     "name": "#%%\n"
    }
   }
  },
  {
   "cell_type": "code",
   "execution_count": 276,
   "outputs": [],
   "source": [
    "#false positive indexes\n",
    "# (but we also need to add the ones with low iou,we don't know if it's a false positive or false negative\n",
    "unpaired_predicted_idx_1 = [_ for _ in np.array(predicted_df.index) if _ not in np.unique(indices)]\n"
   ],
   "metadata": {
    "collapsed": false,
    "pycharm": {
     "name": "#%%\n"
    }
   }
  },
  {
   "cell_type": "code",
   "execution_count": 277,
   "outputs": [],
   "source": [
    "predicted_df2 = predicted_df.iloc[indices]"
   ],
   "metadata": {
    "collapsed": false,
    "pycharm": {
     "name": "#%%\n"
    }
   }
  },
  {
   "cell_type": "code",
   "execution_count": 278,
   "outputs": [],
   "source": [
    "linked_df = manual_df\n",
    "linked_df['pred_contour'] =predicted_df2.contour.reset_index(drop=True)\n",
    "linked_df['pred_centroid'] =predicted_df2.centroid.reset_index(drop=True)\n",
    "linked_df['pred_idx'] = predicted_df2.index\n"
   ],
   "metadata": {
    "collapsed": false,
    "pycharm": {
     "name": "#%%\n"
    }
   }
  },
  {
   "cell_type": "code",
   "execution_count": 279,
   "outputs": [
    {
     "data": {
      "text/plain": "                                               contour  \\\n0    [[368, 427], [368, 428], [367, 428], [366, 429...   \n1    [[242, 339], [241, 340], [239, 340], [238, 341...   \n2    [[168, 364], [167, 365], [166, 365], [166, 366...   \n3    [[322, 384], [321, 385], [320, 385], [319, 386...   \n4    [[387, 334], [387, 335], [386, 335], [386, 336...   \n..                                                 ...   \n379  [[230.0, 311.0], [230.0, 313.0], [233.0, 313.0...   \n380  [[370, 314], [370, 315], [369, 315], [369, 317...   \n381  [[959.0, 403.0], [959.0, 404.0], [957.0, 404.0...   \n382  [[543, 354], [543, 355], [542, 355], [542, 356...   \n383  [[649, 491], [649, 492], [648, 492], [648, 493...   \n\n                                     centroid  \\\n0      (369.93939393939394, 438.969696969697)   \n1     (242.16666666666666, 346.2142857142857)   \n2    (172.02564102564102, 371.64102564102564)   \n3      (325.8695652173913, 392.4130434782609)   \n4      (390.0408163265306, 342.7959183673469)   \n..                                        ...   \n379   (248.45238095238096, 313.3095238095238)   \n380    (390.7014925373134, 322.2089552238806)   \n381               (961.75, 413.4935897435897)   \n382     (547.936170212766, 360.7659574468085)   \n383   (649.7631578947369, 497.42105263157896)   \n\n                                          pred_contour pred_centroid  pred_idx  \n0    [[369, 428], [367, 430], [367, 431], [366, 432...    [370, 439]       104  \n1    [[242, 338], [241, 339], [239, 339], [238, 340...    [242, 346]        22  \n2    [[172, 363], [171, 364], [169, 364], [168, 365...    [173, 372]        33  \n3    [[321, 384], [320, 385], [319, 385], [316, 388...    [325, 392]        57  \n4    [[391, 334], [390, 335], [388, 335], [387, 336...    [390, 343]        20  \n..                                                 ...           ...       ...  \n379  [[242, 338], [241, 339], [239, 339], [238, 340...    [242, 346]        22  \n380  [[360, 314], [359, 315], [357, 315], [356, 316...    [377, 320]         6  \n381  [[957, 405], [956, 406], [954, 406], [952, 408...    [960, 413]        77  \n382  [[545, 354], [544, 355], [542, 355], [540, 357...    [549, 361]        26  \n383  [[628, 461], [627, 462], [626, 462], [625, 463...    [629, 474]       152  \n\n[384 rows x 5 columns]",
      "text/html": "<div>\n<style scoped>\n    .dataframe tbody tr th:only-of-type {\n        vertical-align: middle;\n    }\n\n    .dataframe tbody tr th {\n        vertical-align: top;\n    }\n\n    .dataframe thead th {\n        text-align: right;\n    }\n</style>\n<table border=\"1\" class=\"dataframe\">\n  <thead>\n    <tr style=\"text-align: right;\">\n      <th></th>\n      <th>contour</th>\n      <th>centroid</th>\n      <th>pred_contour</th>\n      <th>pred_centroid</th>\n      <th>pred_idx</th>\n    </tr>\n  </thead>\n  <tbody>\n    <tr>\n      <th>0</th>\n      <td>[[368, 427], [368, 428], [367, 428], [366, 429...</td>\n      <td>(369.93939393939394, 438.969696969697)</td>\n      <td>[[369, 428], [367, 430], [367, 431], [366, 432...</td>\n      <td>[370, 439]</td>\n      <td>104</td>\n    </tr>\n    <tr>\n      <th>1</th>\n      <td>[[242, 339], [241, 340], [239, 340], [238, 341...</td>\n      <td>(242.16666666666666, 346.2142857142857)</td>\n      <td>[[242, 338], [241, 339], [239, 339], [238, 340...</td>\n      <td>[242, 346]</td>\n      <td>22</td>\n    </tr>\n    <tr>\n      <th>2</th>\n      <td>[[168, 364], [167, 365], [166, 365], [166, 366...</td>\n      <td>(172.02564102564102, 371.64102564102564)</td>\n      <td>[[172, 363], [171, 364], [169, 364], [168, 365...</td>\n      <td>[173, 372]</td>\n      <td>33</td>\n    </tr>\n    <tr>\n      <th>3</th>\n      <td>[[322, 384], [321, 385], [320, 385], [319, 386...</td>\n      <td>(325.8695652173913, 392.4130434782609)</td>\n      <td>[[321, 384], [320, 385], [319, 385], [316, 388...</td>\n      <td>[325, 392]</td>\n      <td>57</td>\n    </tr>\n    <tr>\n      <th>4</th>\n      <td>[[387, 334], [387, 335], [386, 335], [386, 336...</td>\n      <td>(390.0408163265306, 342.7959183673469)</td>\n      <td>[[391, 334], [390, 335], [388, 335], [387, 336...</td>\n      <td>[390, 343]</td>\n      <td>20</td>\n    </tr>\n    <tr>\n      <th>...</th>\n      <td>...</td>\n      <td>...</td>\n      <td>...</td>\n      <td>...</td>\n      <td>...</td>\n    </tr>\n    <tr>\n      <th>379</th>\n      <td>[[230.0, 311.0], [230.0, 313.0], [233.0, 313.0...</td>\n      <td>(248.45238095238096, 313.3095238095238)</td>\n      <td>[[242, 338], [241, 339], [239, 339], [238, 340...</td>\n      <td>[242, 346]</td>\n      <td>22</td>\n    </tr>\n    <tr>\n      <th>380</th>\n      <td>[[370, 314], [370, 315], [369, 315], [369, 317...</td>\n      <td>(390.7014925373134, 322.2089552238806)</td>\n      <td>[[360, 314], [359, 315], [357, 315], [356, 316...</td>\n      <td>[377, 320]</td>\n      <td>6</td>\n    </tr>\n    <tr>\n      <th>381</th>\n      <td>[[959.0, 403.0], [959.0, 404.0], [957.0, 404.0...</td>\n      <td>(961.75, 413.4935897435897)</td>\n      <td>[[957, 405], [956, 406], [954, 406], [952, 408...</td>\n      <td>[960, 413]</td>\n      <td>77</td>\n    </tr>\n    <tr>\n      <th>382</th>\n      <td>[[543, 354], [543, 355], [542, 355], [542, 356...</td>\n      <td>(547.936170212766, 360.7659574468085)</td>\n      <td>[[545, 354], [544, 355], [542, 355], [540, 357...</td>\n      <td>[549, 361]</td>\n      <td>26</td>\n    </tr>\n    <tr>\n      <th>383</th>\n      <td>[[649, 491], [649, 492], [648, 492], [648, 493...</td>\n      <td>(649.7631578947369, 497.42105263157896)</td>\n      <td>[[628, 461], [627, 462], [626, 462], [625, 463...</td>\n      <td>[629, 474]</td>\n      <td>152</td>\n    </tr>\n  </tbody>\n</table>\n<p>384 rows × 5 columns</p>\n</div>"
     },
     "execution_count": 279,
     "metadata": {},
     "output_type": "execute_result"
    }
   ],
   "source": [
    "linked_df"
   ],
   "metadata": {
    "collapsed": false,
    "pycharm": {
     "name": "#%%\n"
    }
   }
  },
  {
   "cell_type": "code",
   "execution_count": 281,
   "outputs": [],
   "source": [
    "scores=[]\n",
    "paired_pred_idx = []\n",
    "#label is the pixel value (color) from [1,384]\n",
    "for index, row in linked_df.iterrows():\n",
    "    groundtruth_mask = np.zeros(image_size)\n",
    "    predicted_mask = np.zeros(image_size)\n",
    "    groundtruth_mask = cv2.fillPoly(groundtruth_mask, pts=[np.array(row['contour']).astype(np.int32)],  color=1)\n",
    "    predicted_mask = cv2.fillPoly(predicted_mask, pts=[np.array(row['pred_contour']).astype(np.int32)],  color=1)\n",
    "    score = jaccard_score(groundtruth_mask,predicted_mask, average=\"micro\")\n",
    "    scores.append(score)\n",
    "\n",
    "    #ashley added,if doesn't work, delete\n",
    "    if(score >= 0.5):\n",
    "        #add to paired nuclei idx\n",
    "        paired_pred_idx.append(row['pred_idx'])\n",
    "\n",
    "\n"
   ],
   "metadata": {
    "collapsed": false,
    "pycharm": {
     "name": "#%%\n"
    }
   }
  },
  {
   "cell_type": "code",
   "execution_count": 282,
   "outputs": [
    {
     "data": {
      "text/plain": "306"
     },
     "execution_count": 282,
     "metadata": {},
     "output_type": "execute_result"
    }
   ],
   "source": [
    "len(paired_pred_idx)"
   ],
   "metadata": {
    "collapsed": false,
    "pycharm": {
     "name": "#%%\n"
    }
   }
  },
  {
   "cell_type": "code",
   "execution_count": 283,
   "outputs": [],
   "source": [
    "unpaired_predicted_idx_2 =  set(indices) - set(paired_pred_idx)"
   ],
   "metadata": {
    "collapsed": false,
    "pycharm": {
     "name": "#%%\n"
    }
   }
  },
  {
   "cell_type": "code",
   "execution_count": 284,
   "outputs": [
    {
     "data": {
      "text/plain": "24"
     },
     "execution_count": 284,
     "metadata": {},
     "output_type": "execute_result"
    }
   ],
   "source": [
    "len(unpaired_predicted_idx_2)"
   ],
   "metadata": {
    "collapsed": false,
    "pycharm": {
     "name": "#%%\n"
    }
   }
  },
  {
   "cell_type": "code",
   "execution_count": 285,
   "outputs": [
    {
     "data": {
      "text/plain": "17"
     },
     "execution_count": 285,
     "metadata": {},
     "output_type": "execute_result"
    }
   ],
   "source": [
    "len(unpaired_predicted_idx_1)"
   ],
   "metadata": {
    "collapsed": false,
    "pycharm": {
     "name": "#%%\n"
    }
   }
  },
  {
   "cell_type": "code",
   "execution_count": 286,
   "outputs": [],
   "source": [
    "unpaired_pred_contour = []\n",
    "\n",
    "#iterate through idx list1\n",
    "for idx in unpaired_predicted_idx_1:\n",
    "    unpaired_pred_contour.append(predicted_df.iloc[idx].contour)\n",
    "\n",
    "for idx in unpaired_predicted_idx_2:\n",
    "    unpaired_pred_contour.append(predicted_df.iloc[idx].contour)"
   ],
   "metadata": {
    "collapsed": false,
    "pycharm": {
     "name": "#%%\n"
    }
   }
  },
  {
   "cell_type": "code",
   "execution_count": 287,
   "outputs": [
    {
     "data": {
      "text/plain": "                                               contour  \\\n0    [[368, 427], [368, 428], [367, 428], [366, 429...   \n1    [[242, 339], [241, 340], [239, 340], [238, 341...   \n2    [[168, 364], [167, 365], [166, 365], [166, 366...   \n3    [[322, 384], [321, 385], [320, 385], [319, 386...   \n4    [[387, 334], [387, 335], [386, 335], [386, 336...   \n..                                                 ...   \n379  [[230.0, 311.0], [230.0, 313.0], [233.0, 313.0...   \n380  [[370, 314], [370, 315], [369, 315], [369, 317...   \n381  [[959.0, 403.0], [959.0, 404.0], [957.0, 404.0...   \n382  [[543, 354], [543, 355], [542, 355], [542, 356...   \n383  [[649, 491], [649, 492], [648, 492], [648, 493...   \n\n                                     centroid  \\\n0      (369.93939393939394, 438.969696969697)   \n1     (242.16666666666666, 346.2142857142857)   \n2    (172.02564102564102, 371.64102564102564)   \n3      (325.8695652173913, 392.4130434782609)   \n4      (390.0408163265306, 342.7959183673469)   \n..                                        ...   \n379   (248.45238095238096, 313.3095238095238)   \n380    (390.7014925373134, 322.2089552238806)   \n381               (961.75, 413.4935897435897)   \n382     (547.936170212766, 360.7659574468085)   \n383   (649.7631578947369, 497.42105263157896)   \n\n                                          pred_contour pred_centroid  \\\n0    [[369, 428], [367, 430], [367, 431], [366, 432...    [370, 439]   \n1    [[242, 338], [241, 339], [239, 339], [238, 340...    [242, 346]   \n2    [[172, 363], [171, 364], [169, 364], [168, 365...    [173, 372]   \n3    [[321, 384], [320, 385], [319, 385], [316, 388...    [325, 392]   \n4    [[391, 334], [390, 335], [388, 335], [387, 336...    [390, 343]   \n..                                                 ...           ...   \n379  [[242, 338], [241, 339], [239, 339], [238, 340...    [242, 346]   \n380  [[360, 314], [359, 315], [357, 315], [356, 316...    [377, 320]   \n381  [[957, 405], [956, 406], [954, 406], [952, 408...    [960, 413]   \n382  [[545, 354], [544, 355], [542, 355], [540, 357...    [549, 361]   \n383  [[628, 461], [627, 462], [626, 462], [625, 463...    [629, 474]   \n\n     pred_idx  jaccard_score  \n0         104       0.776923  \n1          22       0.890152  \n2          33       0.854305  \n3          57       0.815873  \n4          20       0.821429  \n..        ...            ...  \n379        22       0.000000  \n380         6       0.541069  \n381        77       0.730627  \n382        26       0.890977  \n383       152       0.000000  \n\n[384 rows x 6 columns]",
      "text/html": "<div>\n<style scoped>\n    .dataframe tbody tr th:only-of-type {\n        vertical-align: middle;\n    }\n\n    .dataframe tbody tr th {\n        vertical-align: top;\n    }\n\n    .dataframe thead th {\n        text-align: right;\n    }\n</style>\n<table border=\"1\" class=\"dataframe\">\n  <thead>\n    <tr style=\"text-align: right;\">\n      <th></th>\n      <th>contour</th>\n      <th>centroid</th>\n      <th>pred_contour</th>\n      <th>pred_centroid</th>\n      <th>pred_idx</th>\n      <th>jaccard_score</th>\n    </tr>\n  </thead>\n  <tbody>\n    <tr>\n      <th>0</th>\n      <td>[[368, 427], [368, 428], [367, 428], [366, 429...</td>\n      <td>(369.93939393939394, 438.969696969697)</td>\n      <td>[[369, 428], [367, 430], [367, 431], [366, 432...</td>\n      <td>[370, 439]</td>\n      <td>104</td>\n      <td>0.776923</td>\n    </tr>\n    <tr>\n      <th>1</th>\n      <td>[[242, 339], [241, 340], [239, 340], [238, 341...</td>\n      <td>(242.16666666666666, 346.2142857142857)</td>\n      <td>[[242, 338], [241, 339], [239, 339], [238, 340...</td>\n      <td>[242, 346]</td>\n      <td>22</td>\n      <td>0.890152</td>\n    </tr>\n    <tr>\n      <th>2</th>\n      <td>[[168, 364], [167, 365], [166, 365], [166, 366...</td>\n      <td>(172.02564102564102, 371.64102564102564)</td>\n      <td>[[172, 363], [171, 364], [169, 364], [168, 365...</td>\n      <td>[173, 372]</td>\n      <td>33</td>\n      <td>0.854305</td>\n    </tr>\n    <tr>\n      <th>3</th>\n      <td>[[322, 384], [321, 385], [320, 385], [319, 386...</td>\n      <td>(325.8695652173913, 392.4130434782609)</td>\n      <td>[[321, 384], [320, 385], [319, 385], [316, 388...</td>\n      <td>[325, 392]</td>\n      <td>57</td>\n      <td>0.815873</td>\n    </tr>\n    <tr>\n      <th>4</th>\n      <td>[[387, 334], [387, 335], [386, 335], [386, 336...</td>\n      <td>(390.0408163265306, 342.7959183673469)</td>\n      <td>[[391, 334], [390, 335], [388, 335], [387, 336...</td>\n      <td>[390, 343]</td>\n      <td>20</td>\n      <td>0.821429</td>\n    </tr>\n    <tr>\n      <th>...</th>\n      <td>...</td>\n      <td>...</td>\n      <td>...</td>\n      <td>...</td>\n      <td>...</td>\n      <td>...</td>\n    </tr>\n    <tr>\n      <th>379</th>\n      <td>[[230.0, 311.0], [230.0, 313.0], [233.0, 313.0...</td>\n      <td>(248.45238095238096, 313.3095238095238)</td>\n      <td>[[242, 338], [241, 339], [239, 339], [238, 340...</td>\n      <td>[242, 346]</td>\n      <td>22</td>\n      <td>0.000000</td>\n    </tr>\n    <tr>\n      <th>380</th>\n      <td>[[370, 314], [370, 315], [369, 315], [369, 317...</td>\n      <td>(390.7014925373134, 322.2089552238806)</td>\n      <td>[[360, 314], [359, 315], [357, 315], [356, 316...</td>\n      <td>[377, 320]</td>\n      <td>6</td>\n      <td>0.541069</td>\n    </tr>\n    <tr>\n      <th>381</th>\n      <td>[[959.0, 403.0], [959.0, 404.0], [957.0, 404.0...</td>\n      <td>(961.75, 413.4935897435897)</td>\n      <td>[[957, 405], [956, 406], [954, 406], [952, 408...</td>\n      <td>[960, 413]</td>\n      <td>77</td>\n      <td>0.730627</td>\n    </tr>\n    <tr>\n      <th>382</th>\n      <td>[[543, 354], [543, 355], [542, 355], [542, 356...</td>\n      <td>(547.936170212766, 360.7659574468085)</td>\n      <td>[[545, 354], [544, 355], [542, 355], [540, 357...</td>\n      <td>[549, 361]</td>\n      <td>26</td>\n      <td>0.890977</td>\n    </tr>\n    <tr>\n      <th>383</th>\n      <td>[[649, 491], [649, 492], [648, 492], [648, 493...</td>\n      <td>(649.7631578947369, 497.42105263157896)</td>\n      <td>[[628, 461], [627, 462], [626, 462], [625, 463...</td>\n      <td>[629, 474]</td>\n      <td>152</td>\n      <td>0.000000</td>\n    </tr>\n  </tbody>\n</table>\n<p>384 rows × 6 columns</p>\n</div>"
     },
     "execution_count": 287,
     "metadata": {},
     "output_type": "execute_result"
    }
   ],
   "source": [
    "linked_df['jaccard_score']=scores\n",
    "linked_df #Look into why some cells have low score when centroids actually match"
   ],
   "metadata": {
    "collapsed": false,
    "pycharm": {
     "name": "#%%\n"
    }
   }
  },
  {
   "cell_type": "code",
   "execution_count": 288,
   "outputs": [
    {
     "data": {
      "text/plain": "(array([52.,  0.,  0.,  0.,  0.,  0.,  0.,  0.,  0.,  0.,  0.,  0.,  0.,\n         0.,  0.,  0.,  0.,  0.,  0.,  0.,  0.,  0.,  1.,  0.,  0.,  0.,\n         0.,  2.,  1.,  0.,  0.,  0.,  0.,  1.,  2.,  1.,  1.,  2.,  2.,\n         1.,  0.,  0.,  0.,  0.,  2.,  1.,  0.,  0.,  2.,  0.,  2.,  1.,\n         0.,  2.,  2.,  3.,  1.,  1.,  1.,  3.,  2.,  1.,  5.,  4.,  3.,\n         6.,  3.,  6.,  7.,  5.,  2.,  4., 11.,  8.,  4.,  5.,  7.,  7.,\n         5.,  6., 12., 11., 11., 12., 14., 10.,  8., 11., 12.,  8., 10.,\n         9., 11., 15.,  7., 10., 10.,  6.,  6.,  3.]),\n array([0.        , 0.0090678 , 0.01813559, 0.02720339, 0.03627119,\n        0.04533898, 0.05440678, 0.06347458, 0.07254237, 0.08161017,\n        0.09067797, 0.09974576, 0.10881356, 0.11788136, 0.12694915,\n        0.13601695, 0.14508475, 0.15415254, 0.16322034, 0.17228814,\n        0.18135593, 0.19042373, 0.19949153, 0.20855932, 0.21762712,\n        0.22669492, 0.23576271, 0.24483051, 0.25389831, 0.2629661 ,\n        0.2720339 , 0.28110169, 0.29016949, 0.29923729, 0.30830508,\n        0.31737288, 0.32644068, 0.33550847, 0.34457627, 0.35364407,\n        0.36271186, 0.37177966, 0.38084746, 0.38991525, 0.39898305,\n        0.40805085, 0.41711864, 0.42618644, 0.43525424, 0.44432203,\n        0.45338983, 0.46245763, 0.47152542, 0.48059322, 0.48966102,\n        0.49872881, 0.50779661, 0.51686441, 0.5259322 , 0.535     ,\n        0.5440678 , 0.55313559, 0.56220339, 0.57127119, 0.58033898,\n        0.58940678, 0.59847458, 0.60754237, 0.61661017, 0.62567797,\n        0.63474576, 0.64381356, 0.65288136, 0.66194915, 0.67101695,\n        0.68008475, 0.68915254, 0.69822034, 0.70728814, 0.71635593,\n        0.72542373, 0.73449153, 0.74355932, 0.75262712, 0.76169492,\n        0.77076271, 0.77983051, 0.78889831, 0.7979661 , 0.8070339 ,\n        0.81610169, 0.82516949, 0.83423729, 0.84330508, 0.85237288,\n        0.86144068, 0.87050847, 0.87957627, 0.88864407, 0.89771186,\n        0.90677966]),\n <BarContainer object of 100 artists>)"
     },
     "execution_count": 288,
     "metadata": {},
     "output_type": "execute_result"
    },
    {
     "data": {
      "text/plain": "<Figure size 432x288 with 1 Axes>",
      "image/png": "[encoded data removed]"
     },
     "metadata": {
      "needs_background": "light"
     },
     "output_type": "display_data"
    }
   ],
   "source": [
    "plt.hist(linked_df['jaccard_score'],100) #groundtruth has roughly 37 more nuclei 384 vs 347"
   ],
   "metadata": {
    "collapsed": false,
    "pycharm": {
     "name": "#%%\n"
    }
   }
  },
  {
   "cell_type": "code",
   "execution_count": 289,
   "outputs": [
    {
     "data": {
      "text/plain": "0.6198674819195928"
     },
     "execution_count": 289,
     "metadata": {},
     "output_type": "execute_result"
    }
   ],
   "source": [
    "np.mean(linked_df['jaccard_score'])"
   ],
   "metadata": {
    "collapsed": false,
    "pycharm": {
     "name": "#%%\n"
    }
   }
  },
  {
   "cell_type": "code",
   "execution_count": 290,
   "outputs": [],
   "source": [
    "from scipy.optimize import linear_sum_assignment\n",
    "\n",
    "def get_fast_aji_plus(true, pred):\n",
    "    \"\"\"AJI+, an AJI version with maximal unique pairing to obtain overall intersecion.\n",
    "    Every prediction instance is paired with at most 1 GT instance (1 to 1) mapping, unlike AJI\n",
    "    where a prediction instance can be paired against many GT instances (1 to many).\n",
    "    Remaining unpaired GT and Prediction instances will be added to the overall union.\n",
    "    The 1 to 1 mapping prevents AJI's over-penalisation from happening.\n",
    "\n",
    "    Fast computation requires instance IDs are in contiguous orderding i.e [1, 2, 3, 4]\n",
    "    not [2, 3, 6, 10]. Please call `remap_label` before hand and `by_size` flag has no\n",
    "    effect on the result.\n",
    "\n",
    "    \"\"\"\n",
    "    true = np.copy(true)  # ? do we need this\n",
    "    pred = np.copy(pred)\n",
    "    true_id_list = list(np.unique(true))\n",
    "    pred_id_list = list(np.unique(pred))\n",
    "\n",
    "    true_masks = [\n",
    "        None,\n",
    "    ]\n",
    "    for t in true_id_list[1:]:\n",
    "        t_mask = np.array(true == t, np.uint8)\n",
    "        true_masks.append(t_mask)\n",
    "\n",
    "    pred_masks = [\n",
    "        None,\n",
    "    ]\n",
    "    for p in pred_id_list[1:]:\n",
    "        p_mask = np.array(pred == p, np.uint8)\n",
    "        pred_masks.append(p_mask)\n",
    "\n",
    "    # prefill with value\n",
    "    pairwise_inter = np.zeros(\n",
    "        [len(true_id_list) - 1, len(pred_id_list) - 1], dtype=np.float64\n",
    "    )\n",
    "    pairwise_union = np.zeros(\n",
    "        [len(true_id_list) - 1, len(pred_id_list) - 1], dtype=np.float64\n",
    "    )\n",
    "\n",
    "    # caching pairwise\n",
    "    for true_id in true_id_list[1:]:  # 0-th is background\n",
    "        t_mask = true_masks[true_id]\n",
    "        pred_true_overlap = pred[t_mask > 0]\n",
    "        pred_true_overlap_id = np.unique(pred_true_overlap)\n",
    "        pred_true_overlap_id = list(pred_true_overlap_id)\n",
    "        for pred_id in pred_true_overlap_id:\n",
    "            if pred_id == 0:  # ignore\n",
    "                continue  # overlaping background\n",
    "\n",
    "            p_mask = pred_masks[pred_id]\n",
    "            total = (t_mask + p_mask).sum()\n",
    "            inter = (t_mask * p_mask).sum()\n",
    "            pairwise_inter[true_id - 1, pred_id - 1] = inter\n",
    "            pairwise_union[true_id - 1, pred_id - 1] = total - inter\n",
    "    #\n",
    "    pairwise_iou = pairwise_inter / (pairwise_union + 1.0e-6)\n",
    "    #### Munkres pairing to find maximal unique pairing\n",
    "    paired_true, paired_pred = linear_sum_assignment(-pairwise_iou)\n",
    "    ### extract the paired cost and remove invalid pair\n",
    "    paired_iou = pairwise_iou[paired_true, paired_pred]\n",
    "    # now select all those paired with iou != 0.0 i.e have intersection\n",
    "    paired_true = paired_true[paired_iou > 0.0]\n",
    "    paired_pred = paired_pred[paired_iou > 0.0]\n",
    "    paired_inter = pairwise_inter[paired_true, paired_pred]\n",
    "    paired_union = pairwise_union[paired_true, paired_pred]\n",
    "    paired_true = list(paired_true + 1)  # index to instance ID\n",
    "    paired_pred = list(paired_pred + 1)\n",
    "    overall_inter = paired_inter.sum()\n",
    "    overall_union = paired_union.sum()\n",
    "\n",
    "\n",
    "    # add all unpaired GT and Prediction into the union\n",
    "    unpaired_true = np.array(\n",
    "        [idx for idx in true_id_list[1:] if idx not in paired_true]\n",
    "    )\n",
    "    unpaired_pred = np.array(\n",
    "        [idx for idx in pred_id_list[1:] if idx not in paired_pred]\n",
    "    )\n",
    "    for true_id in unpaired_true:\n",
    "        overall_union += true_masks[true_id].sum()\n",
    "    for pred_id in unpaired_pred:\n",
    "        overall_union += pred_masks[pred_id].sum()\n",
    "    #\n",
    "    aji_score = overall_inter / overall_union\n",
    "    return aji_score\n"
   ],
   "metadata": {
    "collapsed": false,
    "pycharm": {
     "name": "#%%\n"
    }
   }
  },
  {
   "cell_type": "code",
   "execution_count": null,
   "outputs": [],
   "source": [
    "#test, compute metrics for paried nucleus\n",
    "#add the score for each pair tp dataframe\n",
    "\n",
    "#----metrics for each nuclei-----\n",
    "#dice_1\n",
    "dice1 = []\n",
    "# prediction score\n",
    "precision = []\n",
    "recall=[]\n",
    "\n",
    "#average precision score is for the whole image\n",
    "#pq\n",
    "paired_true=0\n",
    "unpaired_true=0\n",
    "paired_iou = []\n",
    "#threshold for iou\n",
    "match_iou = 0.5\n",
    "\n",
    "#aji\n",
    "paired_inter= []\n",
    "paired_union = []\n",
    "#masks\n",
    "unpaired_true_masks = []\n",
    "paired_pred_masks = []\n",
    "unpaired_pred_masks =[]\n",
    "\n",
    "\n",
    "for index, row in linked_df.iterrows():\n",
    "    groundtruth_mask = np.zeros(image_size)\n",
    "    predicted_mask = np.zeros(image_size)\n",
    "    groundtruth_mask = cv2.fillPoly(groundtruth_mask, pts=[np.array(row['contour']).astype(np.int32)],  color=1)\n",
    "    predicted_mask = cv2.fillPoly(predicted_mask, pts=[np.array(row['pred_contour']).astype(np.int32)],  color=1)\n",
    "\n",
    "    inter1 = groundtruth_mask * predicted_mask\n",
    "    denom = groundtruth_mask + predicted_mask\n",
    "    dice = 2.0 * np.sum(inter1) / np.sum((denom+1.0e-6))\n",
    "    dice1.append(dice)\n",
    "\n",
    "    p = precision_score(groundtruth_mask,predicted_mask, average=\"micro\")\n",
    "    precision.append(p)\n",
    "\n",
    "    r = recall_score(groundtruth_mask,predicted_mask, average=\"micro\")\n",
    "    recall.append(r)\n",
    "\n",
    "    iou = jaccard_score(groundtruth_mask,predicted_mask, average=\"micro\")\n",
    "    if(iou >= 0.5):#different thresholds give different results\n",
    "        total = ( groundtruth_mask + predicted_mask).sum()\n",
    "        inter = ( groundtruth_mask * predicted_mask).sum()\n",
    "        paired_inter.append(inter)\n",
    "        paired_union.append(total-inter)\n",
    "        paired_pred_masks.append(predicted_mask)\n",
    "\n",
    "    else:\n",
    "        unpaired_true_masks.append(groundtruth_mask)\n"
   ],
   "metadata": {
    "collapsed": false,
    "pycharm": {
     "name": "#%%\n"
    }
   }
  },
  {
   "cell_type": "code",
   "execution_count": 348,
   "outputs": [],
   "source": [
    "#add scores to dataframe\n",
    "linked_df['dice1']=dice1\n",
    "linked_df['precision']=precision\n",
    "linked_df['recall'] = recall"
   ],
   "metadata": {
    "collapsed": false,
    "pycharm": {
     "name": "#%%\n"
    }
   }
  },
  {
   "cell_type": "code",
   "execution_count": 349,
   "outputs": [
    {
     "data": {
      "text/plain": "                                               contour  \\\n0    [[368, 427], [368, 428], [367, 428], [366, 429...   \n1    [[242, 339], [241, 340], [239, 340], [238, 341...   \n2    [[168, 364], [167, 365], [166, 365], [166, 366...   \n3    [[322, 384], [321, 385], [320, 385], [319, 386...   \n4    [[387, 334], [387, 335], [386, 335], [386, 336...   \n..                                                 ...   \n379  [[230.0, 311.0], [230.0, 313.0], [233.0, 313.0...   \n380  [[370, 314], [370, 315], [369, 315], [369, 317...   \n381  [[959.0, 403.0], [959.0, 404.0], [957.0, 404.0...   \n382  [[543, 354], [543, 355], [542, 355], [542, 356...   \n383  [[649, 491], [649, 492], [648, 492], [648, 493...   \n\n                                     centroid  \\\n0      (369.93939393939394, 438.969696969697)   \n1     (242.16666666666666, 346.2142857142857)   \n2    (172.02564102564102, 371.64102564102564)   \n3      (325.8695652173913, 392.4130434782609)   \n4      (390.0408163265306, 342.7959183673469)   \n..                                        ...   \n379   (248.45238095238096, 313.3095238095238)   \n380    (390.7014925373134, 322.2089552238806)   \n381               (961.75, 413.4935897435897)   \n382     (547.936170212766, 360.7659574468085)   \n383   (649.7631578947369, 497.42105263157896)   \n\n                                          pred_contour pred_centroid  \\\n0    [[369, 428], [367, 430], [367, 431], [366, 432...    [370, 439]   \n1    [[242, 338], [241, 339], [239, 339], [238, 340...    [242, 346]   \n2    [[172, 363], [171, 364], [169, 364], [168, 365...    [173, 372]   \n3    [[321, 384], [320, 385], [319, 385], [316, 388...    [325, 392]   \n4    [[391, 334], [390, 335], [388, 335], [387, 336...    [390, 343]   \n..                                                 ...           ...   \n379  [[242, 338], [241, 339], [239, 339], [238, 340...    [242, 346]   \n380  [[360, 314], [359, 315], [357, 315], [356, 316...    [377, 320]   \n381  [[957, 405], [956, 406], [954, 406], [952, 408...    [960, 413]   \n382  [[545, 354], [544, 355], [542, 355], [540, 357...    [549, 361]   \n383  [[628, 461], [627, 462], [626, 462], [625, 463...    [629, 474]   \n\n     pred_idx  jaccard_score     dice1  precision    recall  \n0         104       0.776923  0.872570   1.000000  0.776923  \n1          22       0.890152  0.940000   0.955285  0.928854  \n2          33       0.854305  0.919786   0.966292  0.880546  \n3          57       0.815873  0.897033   0.955390  0.848185  \n4          20       0.821429  0.900489   0.992806  0.826347  \n..        ...            ...       ...        ...       ...  \n379        22       0.000000  0.000000   0.000000  0.000000  \n380         6       0.541069  0.701606   0.585331  0.877378  \n381        77       0.730627  0.843450   0.987531  0.737430  \n382        26       0.890977  0.940476   0.987500  0.901141  \n383       152       0.000000  0.000000   0.000000  0.000000  \n\n[384 rows x 9 columns]",
      "text/html": "<div>\n<style scoped>\n    .dataframe tbody tr th:only-of-type {\n        vertical-align: middle;\n    }\n\n    .dataframe tbody tr th {\n        vertical-align: top;\n    }\n\n    .dataframe thead th {\n        text-align: right;\n    }\n</style>\n<table border=\"1\" class=\"dataframe\">\n  <thead>\n    <tr style=\"text-align: right;\">\n      <th></th>\n      <th>contour</th>\n      <th>centroid</th>\n      <th>pred_contour</th>\n      <th>pred_centroid</th>\n      <th>pred_idx</th>\n      <th>jaccard_score</th>\n      <th>dice1</th>\n      <th>precision</th>\n      <th>recall</th>\n    </tr>\n  </thead>\n  <tbody>\n    <tr>\n      <th>0</th>\n      <td>[[368, 427], [368, 428], [367, 428], [366, 429...</td>\n      <td>(369.93939393939394, 438.969696969697)</td>\n      <td>[[369, 428], [367, 430], [367, 431], [366, 432...</td>\n      <td>[370, 439]</td>\n      <td>104</td>\n      <td>0.776923</td>\n      <td>0.872570</td>\n      <td>1.000000</td>\n      <td>0.776923</td>\n    </tr>\n    <tr>\n      <th>1</th>\n      <td>[[242, 339], [241, 340], [239, 340], [238, 341...</td>\n      <td>(242.16666666666666, 346.2142857142857)</td>\n      <td>[[242, 338], [241, 339], [239, 339], [238, 340...</td>\n      <td>[242, 346]</td>\n      <td>22</td>\n      <td>0.890152</td>\n      <td>0.940000</td>\n      <td>0.955285</td>\n      <td>0.928854</td>\n    </tr>\n    <tr>\n      <th>2</th>\n      <td>[[168, 364], [167, 365], [166, 365], [166, 366...</td>\n      <td>(172.02564102564102, 371.64102564102564)</td>\n      <td>[[172, 363], [171, 364], [169, 364], [168, 365...</td>\n      <td>[173, 372]</td>\n      <td>33</td>\n      <td>0.854305</td>\n      <td>0.919786</td>\n      <td>0.966292</td>\n      <td>0.880546</td>\n    </tr>\n    <tr>\n      <th>3</th>\n      <td>[[322, 384], [321, 385], [320, 385], [319, 386...</td>\n      <td>(325.8695652173913, 392.4130434782609)</td>\n      <td>[[321, 384], [320, 385], [319, 385], [316, 388...</td>\n      <td>[325, 392]</td>\n      <td>57</td>\n      <td>0.815873</td>\n      <td>0.897033</td>\n      <td>0.955390</td>\n      <td>0.848185</td>\n    </tr>\n    <tr>\n      <th>4</th>\n      <td>[[387, 334], [387, 335], [386, 335], [386, 336...</td>\n      <td>(390.0408163265306, 342.7959183673469)</td>\n      <td>[[391, 334], [390, 335], [388, 335], [387, 336...</td>\n      <td>[390, 343]</td>\n      <td>20</td>\n      <td>0.821429</td>\n      <td>0.900489</td>\n      <td>0.992806</td>\n      <td>0.826347</td>\n    </tr>\n    <tr>\n      <th>...</th>\n      <td>...</td>\n      <td>...</td>\n      <td>...</td>\n      <td>...</td>\n      <td>...</td>\n      <td>...</td>\n      <td>...</td>\n      <td>...</td>\n      <td>...</td>\n    </tr>\n    <tr>\n      <th>379</th>\n      <td>[[230.0, 311.0], [230.0, 313.0], [233.0, 313.0...</td>\n      <td>(248.45238095238096, 313.3095238095238)</td>\n      <td>[[242, 338], [241, 339], [239, 339], [238, 340...</td>\n      <td>[242, 346]</td>\n      <td>22</td>\n      <td>0.000000</td>\n      <td>0.000000</td>\n      <td>0.000000</td>\n      <td>0.000000</td>\n    </tr>\n    <tr>\n      <th>380</th>\n      <td>[[370, 314], [370, 315], [369, 315], [369, 317...</td>\n      <td>(390.7014925373134, 322.2089552238806)</td>\n      <td>[[360, 314], [359, 315], [357, 315], [356, 316...</td>\n      <td>[377, 320]</td>\n      <td>6</td>\n      <td>0.541069</td>\n      <td>0.701606</td>\n      <td>0.585331</td>\n      <td>0.877378</td>\n    </tr>\n    <tr>\n      <th>381</th>\n      <td>[[959.0, 403.0], [959.0, 404.0], [957.0, 404.0...</td>\n      <td>(961.75, 413.4935897435897)</td>\n      <td>[[957, 405], [956, 406], [954, 406], [952, 408...</td>\n      <td>[960, 413]</td>\n      <td>77</td>\n      <td>0.730627</td>\n      <td>0.843450</td>\n      <td>0.987531</td>\n      <td>0.737430</td>\n    </tr>\n    <tr>\n      <th>382</th>\n      <td>[[543, 354], [543, 355], [542, 355], [542, 356...</td>\n      <td>(547.936170212766, 360.7659574468085)</td>\n      <td>[[545, 354], [544, 355], [542, 355], [540, 357...</td>\n      <td>[549, 361]</td>\n      <td>26</td>\n      <td>0.890977</td>\n      <td>0.940476</td>\n      <td>0.987500</td>\n      <td>0.901141</td>\n    </tr>\n    <tr>\n      <th>383</th>\n      <td>[[649, 491], [649, 492], [648, 492], [648, 493...</td>\n      <td>(649.7631578947369, 497.42105263157896)</td>\n      <td>[[628, 461], [627, 462], [626, 462], [625, 463...</td>\n      <td>[629, 474]</td>\n      <td>152</td>\n      <td>0.000000</td>\n      <td>0.000000</td>\n      <td>0.000000</td>\n      <td>0.000000</td>\n    </tr>\n  </tbody>\n</table>\n<p>384 rows × 9 columns</p>\n</div>"
     },
     "execution_count": 349,
     "metadata": {},
     "output_type": "execute_result"
    }
   ],
   "source": [
    "linked_df"
   ],
   "metadata": {
    "collapsed": false,
    "pycharm": {
     "name": "#%%\n"
    }
   }
  },
  {
   "cell_type": "code",
   "execution_count": 299,
   "outputs": [],
   "source": [
    "\n",
    "#Panoptic Quality (not finished, this is for the whole image)\n",
    "#tp = paired_true\n",
    "#fp = len(predicted_df)-len(np.unique(indices))\n",
    "#fn = unpaired_true\n",
    "    # get the F1-score i.e DQ\n",
    "#dq = tp / (tp + 0.5 * fp + 0.5 * fn)\n",
    "    # get the SQ, no paired has 0 iou so not impact\n",
    "#sq = sum(paired_iou) / (tp + 1.0e-6)\n",
    "\n",
    "#Panoptic Quality and aji is for the whole image\n",
    "#pq = dq * sq\n",
    "\n",
    "#print(dq,sq,pq)\n",
    "\n",
    "#aji\n",
    "overall_inter = sum(paired_inter)\n",
    "overall_union = sum(paired_union)"
   ],
   "metadata": {
    "collapsed": false,
    "pycharm": {
     "name": "#%%\n"
    }
   }
  },
  {
   "cell_type": "code",
   "execution_count": 318,
   "outputs": [],
   "source": [
    "\n",
    "#TODO: add unpaired to overall union\n",
    "#add unpaired true to overall union\n",
    "for up_true in unpaired_true_masks:\n",
    "    overall_union += ( up_true * 1).sum() #?does this work??"
   ],
   "metadata": {
    "collapsed": false,
    "pycharm": {
     "name": "#%%\n"
    }
   }
  },
  {
   "cell_type": "code",
   "execution_count": 320,
   "outputs": [],
   "source": [
    "\n",
    "#add unpaired predicted to overall union\n",
    "for up_pred in unpaired_pred_contour:\n",
    "    predicted_mask = np.zeros(image_size)\n",
    "    predicted_mask = cv2.fillPoly(predicted_mask, pts=[np.array(up_pred).astype(np.int32)],  color=1)\n",
    "    overall_union+= (predicted_mask * 1).sum()"
   ],
   "metadata": {
    "collapsed": false,
    "pycharm": {
     "name": "#%%\n"
    }
   }
  },
  {
   "cell_type": "code",
   "execution_count": 322,
   "outputs": [],
   "source": [
    "\n",
    "#aji score, this is an overall score\n",
    "aji_score = overall_inter / overall_union"
   ],
   "metadata": {
    "collapsed": false,
    "pycharm": {
     "name": "#%%\n"
    }
   }
  },
  {
   "cell_type": "code",
   "execution_count": null,
   "outputs": [],
   "source": [],
   "metadata": {
    "collapsed": false,
    "pycharm": {
     "name": "#%%\n"
    }
   }
  },
  {
   "cell_type": "code",
   "execution_count": null,
   "outputs": [],
   "source": [
    "np.mean(linked_df['jaccard_score'])"
   ],
   "metadata": {
    "collapsed": false,
    "pycharm": {
     "name": "#%%\n"
    }
   }
  },
  {
   "cell_type": "code",
   "execution_count": null,
   "outputs": [],
   "source": [
    "def get_fast_pq(true, pred, match_iou=0.5):\n",
    "    \"\"\"`match_iou` is the IoU threshold level to determine the pairing between\n",
    "    GT instances `p` and prediction instances `g`. `p` and `g` is a pair\n",
    "    if IoU > `match_iou`. However, pair of `p` and `g` must be unique\n",
    "    (1 prediction instance to 1 GT instance mapping).\n",
    "\n",
    "    If `match_iou` < 0.5, Munkres assignment (solving minimum weight matching\n",
    "    in bipartite graphs) is caculated to find the maximal amount of unique pairing.\n",
    "\n",
    "    If `match_iou` >= 0.5, all IoU(p,g) > 0.5 pairing is proven to be unique and\n",
    "    the number of pairs is also maximal.\n",
    "\n",
    "    Returns:\n",
    "        [dq, sq, pq]: measurement statistic\n",
    "\n",
    "        [paired_true, paired_pred, unpaired_true, unpaired_pred]:\n",
    "                      pairing information to perform measurement\n",
    "\n",
    "    \"\"\"\n",
    "    assert match_iou >= 0.0, \"Cant' be negative\"\n",
    "\n",
    "    true = np.copy(true)\n",
    "    pred = np.copy(pred)\n",
    "    true_id_list = list(np.unique(true))\n",
    "    pred_id_list = list(np.unique(pred))\n",
    "\n",
    "    true_masks = [\n",
    "        None,\n",
    "    ]\n",
    "    for t in true_id_list[1:]:\n",
    "        t_mask = np.array(true == t, np.uint8)\n",
    "        true_masks.append(t_mask)\n",
    "\n",
    "    pred_masks = [\n",
    "        None,\n",
    "    ]\n",
    "    for p in pred_id_list[1:]:\n",
    "        p_mask = np.array(pred == p, np.uint8)\n",
    "        pred_masks.append(p_mask)\n",
    "\n",
    "    # prefill with value\n",
    "    pairwise_iou = np.zeros(\n",
    "        [len(true_id_list) - 1, len(pred_id_list) - 1], dtype=np.float64\n",
    "    )\n",
    "\n",
    "    # caching pairwise iou\n",
    "    for true_id in true_id_list[1:]:  # 0-th is background\n",
    "        t_mask = true_masks[true_id]\n",
    "        pred_true_overlap = pred[t_mask > 0]\n",
    "        pred_true_overlap_id = np.unique(pred_true_overlap)\n",
    "        pred_true_overlap_id = list(pred_true_overlap_id)\n",
    "        for pred_id in pred_true_overlap_id:\n",
    "            if pred_id == 0:  # ignore\n",
    "                continue  # overlaping background\n",
    "            p_mask = pred_masks[pred_id]\n",
    "            total = (t_mask + p_mask).sum()\n",
    "            inter = (t_mask * p_mask).sum()\n",
    "            iou = inter / (total - inter)\n",
    "            pairwise_iou[true_id - 1, pred_id - 1] = iou\n",
    "    #\n",
    "    if match_iou >= 0.5:\n",
    "        paired_iou = pairwise_iou[pairwise_iou > match_iou]\n",
    "        pairwise_iou[pairwise_iou <= match_iou] = 0.0\n",
    "        paired_true, paired_pred = np.nonzero(pairwise_iou)\n",
    "        paired_iou = pairwise_iou[paired_true, paired_pred]\n",
    "        paired_true += 1  # index is instance id - 1\n",
    "        paired_pred += 1  # hence return back to original\n",
    "    else:  # * Exhaustive maximal unique pairing\n",
    "        #### Munkres pairing with scipy library\n",
    "        # the algorithm return (row indices, matched column indices)\n",
    "        # if there is multiple same cost in a row, index of first occurence\n",
    "        # is return, thus the unique pairing is ensure\n",
    "        # inverse pair to get high IoU as minimum\n",
    "        paired_true, paired_pred = linear_sum_assignment(-pairwise_iou)\n",
    "        ### extract the paired cost and remove invalid pair\n",
    "        paired_iou = pairwise_iou[paired_true, paired_pred]\n",
    "\n",
    "        # now select those above threshold level\n",
    "        # paired with iou = 0.0 i.e no intersection => FP or FN\n",
    "        paired_true = list(paired_true[paired_iou > match_iou] + 1)\n",
    "        paired_pred = list(paired_pred[paired_iou > match_iou] + 1)\n",
    "        paired_iou = paired_iou[paired_iou > match_iou]\n",
    "\n",
    "    # get the actual FP and FN\n",
    "    unpaired_true = [idx for idx in true_id_list[1:] if idx not in paired_true]\n",
    "    unpaired_pred = [idx for idx in pred_id_list[1:] if idx not in paired_pred]\n",
    "    # print(paired_iou.shape, paired_true.shape, len(unpaired_true), len(unpaired_pred))\n",
    "\n",
    "    #\n",
    "    tp = len(paired_true)\n",
    "    fp = len(unpaired_pred)\n",
    "    fn = len(unpaired_true)\n",
    "    # get the F1-score i.e DQ\n",
    "    dq = tp / (tp + 0.5 * fp + 0.5 * fn)\n",
    "    # get the SQ, no paired has 0 iou so not impact\n",
    "    sq = paired_iou.sum() / (tp + 1.0e-6)\n",
    "\n",
    "    return [dq, sq, dq * sq], [paired_true, paired_pred, unpaired_true, unpaired_pred]"
   ],
   "metadata": {
    "collapsed": false,
    "pycharm": {
     "name": "#%%\n"
    }
   }
  },
  {
   "cell_type": "code",
   "execution_count": null,
   "outputs": [],
   "source": [
    "def get_fast_aji_plus(true, pred):\n",
    "    \"\"\"AJI+, an AJI version with maximal unique pairing to obtain overall intersecion.\n",
    "    Every prediction instance is paired with at most 1 GT instance (1 to 1) mapping, unlike AJI\n",
    "    where a prediction instance can be paired against many GT instances (1 to many).\n",
    "    Remaining unpaired GT and Prediction instances will be added to the overall union.\n",
    "    The 1 to 1 mapping prevents AJI's over-penalisation from happening.\n",
    "\n",
    "    Fast computation requires instance IDs are in contiguous orderding i.e [1, 2, 3, 4]\n",
    "    not [2, 3, 6, 10]. Please call `remap_label` before hand and `by_size` flag has no\n",
    "    effect on the result.\n",
    "\n",
    "    \"\"\"\n",
    "    true = np.copy(true)  # ? do we need this\n",
    "    pred = np.copy(pred)\n",
    "    true_id_list = list(np.unique(true))\n",
    "    pred_id_list = list(np.unique(pred))\n",
    "\n",
    "    true_masks = [\n",
    "        None,\n",
    "    ]\n",
    "    for t in true_id_list[1:]:\n",
    "        t_mask = np.array(true == t, np.uint8)\n",
    "        true_masks.append(t_mask)\n",
    "\n",
    "    pred_masks = [\n",
    "        None,\n",
    "    ]\n",
    "    for p in pred_id_list[1:]:\n",
    "        p_mask = np.array(pred == p, np.uint8)\n",
    "        pred_masks.append(p_mask)\n",
    "\n",
    "    # prefill with value\n",
    "    pairwise_inter = np.zeros(\n",
    "        [len(true_id_list) - 1, len(pred_id_list) - 1], dtype=np.float64\n",
    "    )\n",
    "    pairwise_union = np.zeros(\n",
    "        [len(true_id_list) - 1, len(pred_id_list) - 1], dtype=np.float64\n",
    "    )\n",
    "\n",
    "    # caching pairwise\n",
    "    for true_id in true_id_list[1:]:  # 0-th is background\n",
    "        t_mask = true_masks[true_id]\n",
    "        pred_true_overlap = pred[t_mask > 0]\n",
    "        pred_true_overlap_id = np.unique(pred_true_overlap)\n",
    "        pred_true_overlap_id = list(pred_true_overlap_id)\n",
    "        for pred_id in pred_true_overlap_id:\n",
    "            if pred_id == 0:  # ignore\n",
    "                continue  # overlaping background\n",
    "\n",
    "            p_mask = pred_masks[pred_id]\n",
    "            total = (t_mask + p_mask).sum()\n",
    "            inter = (t_mask * p_mask).sum()\n",
    "            pairwise_inter[true_id - 1, pred_id - 1] = inter\n",
    "            pairwise_union[true_id - 1, pred_id - 1] = total - inter\n",
    "    #\n",
    "    pairwise_iou = pairwise_inter / (pairwise_union + 1.0e-6)\n",
    "    #### Munkres pairing to find maximal unique pairing\n",
    "    paired_true, paired_pred = linear_sum_assignment(-pairwise_iou)\n",
    "    ### extract the paired cost and remove invalid pair\n",
    "    paired_iou = pairwise_iou[paired_true, paired_pred]\n",
    "    # now select all those paired with iou != 0.0 i.e have intersection\n",
    "    paired_true = paired_true[paired_iou > 0.0]\n",
    "    paired_pred = paired_pred[paired_iou > 0.0]\n",
    "    paired_inter = pairwise_inter[paired_true, paired_pred]\n",
    "    paired_union = pairwise_union[paired_true, paired_pred]\n",
    "    paired_true = list(paired_true + 1)  # index to instance ID\n",
    "    paired_pred = list(paired_pred + 1)\n",
    "    overall_inter = paired_inter.sum()\n",
    "    overall_union = paired_union.sum()\n",
    "\n",
    "\n",
    "    # add all unpaired GT and Prediction into the union\n",
    "    unpaired_true = np.array(\n",
    "        [idx for idx in true_id_list[1:] if idx not in paired_true]\n",
    "    )\n",
    "    unpaired_pred = np.array(\n",
    "        [idx for idx in pred_id_list[1:] if idx not in paired_pred]\n",
    "    )\n",
    "    for true_id in unpaired_true:\n",
    "        overall_union += true_masks[true_id].sum()\n",
    "    for pred_id in unpaired_pred:\n",
    "        overall_union += pred_masks[pred_id].sum()\n",
    "    #\n",
    "    aji_score = overall_inter / overall_union\n",
    "    return aji_score\n"
   ],
   "metadata": {
    "collapsed": false,
    "pycharm": {
     "name": "#%%\n"
    }
   }
  },
  {
   "cell_type": "code",
   "execution_count": 98,
   "outputs": [
    {
     "name": "stdout",
     "output_type": "stream",
     "text": [
      "0.8656294200848657 0.7460312648556475\n"
     ]
    }
   ],
   "source": [
    "#test, compute metrics for paried nucleus\n",
    "#add the score for each pair tp dataframe\n",
    "\n",
    "#dice_1\n",
    "dice1 = []\n",
    "\n",
    "#pq\n",
    "paired_true=0\n",
    "unpaired_true=0\n",
    "paired_iou = []\n",
    "#threshold for iou\n",
    "match_iou = 0.5\n",
    "\n",
    "#aji\n",
    "paired_inter= []\n",
    "paired_union = []\n",
    "\n",
    "\n",
    "for index, row in linked_df.iterrows():\n",
    "    groundtruth_mask = np.zeros(image_size)\n",
    "    predicted_mask = np.zeros(image_size)\n",
    "    groundtruth_mask = cv2.fillPoly(groundtruth_mask, pts=[np.array(row['contour']).astype(np.int32)],  color=1)\n",
    "    predicted_mask = cv2.fillPoly(predicted_mask, pts=[np.array(row['pred_contour']).astype(np.int32)],  color=1)\n",
    "\n",
    "    #inter1 = groundtruth_mask * predicted_mask\n",
    "    #denom = groundtruth_mask + predicted_mask\n",
    "    #dice = 2.0 * np.sum(inter1) / np.sum((denom+1.0e-6))\n",
    "    #dice1.append(dice)\n",
    "\n",
    "\n",
    "    iou = jaccard_score(groundtruth_mask,predicted_mask, average=\"micro\")\n",
    "    if(iou>0):\n",
    "        total = ( groundtruth_mask + predicted_mask).sum()\n",
    "        inter = ( groundtruth_mask * predicted_mask).sum()\n",
    "        paired_inter.append(inter)\n",
    "        paired_union.append(total-inter)\n",
    "\n",
    "\n",
    "    #iou is the same  as jaccard_score\n",
    "\n",
    "    #if(iou >= match_iou):\n",
    "        #paired_iou.append(iou)\n",
    "        #paired_true = paired_true+1\n",
    "    #extract unpaired nucleus\n",
    "    #else:\n",
    "        #unpaired_true  = unpaired_true+1\n",
    "\n",
    "\n",
    "\n",
    "\n",
    "\n",
    "\n",
    "#Panoptic Quality\n",
    "tp = paired_true\n",
    "fp = len(predicted_df)-len(np.unique(indices))\n",
    "fn = unpaired_true\n",
    "    # get the F1-score i.e DQ\n",
    "dq = tp / (tp + 0.5 * fp + 0.5 * fn)\n",
    "    # get the SQ, no paired has 0 iou so not impact\n",
    "sq = sum(paired_iou) / (tp + 1.0e-6)\n",
    "\n",
    "#Panoptic Quality and aji is for the whole image\n",
    "pq = dq * sq\n",
    "\n",
    "print(dq,sq,pq)\n",
    "\n",
    "#aji\n",
    "overall_inter = paired_inter.sum()\n",
    "overall_union = paired_union.sum()\n",
    "\n",
    "#add unpaired to overall union"
   ],
   "metadata": {
    "collapsed": false,
    "pycharm": {
     "name": "#%%\n"
    }
   }
  },
  {
   "cell_type": "code",
   "execution_count": 99,
   "outputs": [
    {
     "data": {
      "text/plain": "306"
     },
     "execution_count": 99,
     "metadata": {},
     "output_type": "execute_result"
    }
   ],
   "source": [
    "\n"
   ],
   "metadata": {
    "collapsed": false,
    "pycharm": {
     "name": "#%%\n"
    }
   }
  },
  {
   "cell_type": "code",
   "execution_count": 100,
   "outputs": [
    {
     "data": {
      "text/plain": "78"
     },
     "execution_count": 100,
     "metadata": {},
     "output_type": "execute_result"
    }
   ],
   "source": [],
   "metadata": {
    "collapsed": false,
    "pycharm": {
     "name": "#%%\n"
    }
   }
  },
  {
   "cell_type": "code",
   "execution_count": null,
   "outputs": [],
   "source": [],
   "metadata": {
    "collapsed": false,
    "pycharm": {
     "name": "#%%\n"
    }
   }
  },
  {
   "cell_type": "code",
   "execution_count": 78,
   "outputs": [
    {
     "data": {
      "text/plain": "                                               contour  \\\n0    [[368, 427], [368, 428], [367, 428], [366, 429...   \n1    [[242, 339], [241, 340], [239, 340], [238, 341...   \n2    [[168, 364], [167, 365], [166, 365], [166, 366...   \n3    [[322, 384], [321, 385], [320, 385], [319, 386...   \n4    [[387, 334], [387, 335], [386, 335], [386, 336...   \n..                                                 ...   \n379  [[230.0, 311.0], [230.0, 313.0], [233.0, 313.0...   \n380  [[370, 314], [370, 315], [369, 315], [369, 317...   \n381  [[959.0, 403.0], [959.0, 404.0], [957.0, 404.0...   \n382  [[543, 354], [543, 355], [542, 355], [542, 356...   \n383  [[649, 491], [649, 492], [648, 492], [648, 493...   \n\n                                     centroid  \\\n0      (369.93939393939394, 438.969696969697)   \n1     (242.16666666666666, 346.2142857142857)   \n2    (172.02564102564102, 371.64102564102564)   \n3      (325.8695652173913, 392.4130434782609)   \n4      (390.0408163265306, 342.7959183673469)   \n..                                        ...   \n379   (248.45238095238096, 313.3095238095238)   \n380    (390.7014925373134, 322.2089552238806)   \n381               (961.75, 413.4935897435897)   \n382     (547.936170212766, 360.7659574468085)   \n383   (649.7631578947369, 497.42105263157896)   \n\n                                          pred_contour pred_centroid  \\\n0    [[369, 428], [367, 430], [367, 431], [366, 432...    [370, 439]   \n1    [[242, 338], [241, 339], [239, 339], [238, 340...    [242, 346]   \n2    [[172, 363], [171, 364], [169, 364], [168, 365...    [173, 372]   \n3    [[321, 384], [320, 385], [319, 385], [316, 388...    [325, 392]   \n4    [[391, 334], [390, 335], [388, 335], [387, 336...    [390, 343]   \n..                                                 ...           ...   \n379  [[242, 338], [241, 339], [239, 339], [238, 340...    [242, 346]   \n380  [[360, 314], [359, 315], [357, 315], [356, 316...    [377, 320]   \n381  [[957, 405], [956, 406], [954, 406], [952, 408...    [960, 413]   \n382  [[545, 354], [544, 355], [542, 355], [540, 357...    [549, 361]   \n383  [[628, 461], [627, 462], [626, 462], [625, 463...    [629, 474]   \n\n     jaccard_score       iou     dice1  \n0         0.776923  0.776923  0.872570  \n1         0.890152  0.890152  0.940000  \n2         0.854305  0.854305  0.919786  \n3         0.815873  0.815873  0.897033  \n4         0.821429  0.821429  0.900489  \n..             ...       ...       ...  \n379       0.000000  0.000000  0.000000  \n380       0.541069  0.541069  0.701606  \n381       0.730627  0.730627  0.843450  \n382       0.890977  0.890977  0.940476  \n383       0.000000  0.000000  0.000000  \n\n[384 rows x 7 columns]",
      "text/html": "<div>\n<style scoped>\n    .dataframe tbody tr th:only-of-type {\n        vertical-align: middle;\n    }\n\n    .dataframe tbody tr th {\n        vertical-align: top;\n    }\n\n    .dataframe thead th {\n        text-align: right;\n    }\n</style>\n<table border=\"1\" class=\"dataframe\">\n  <thead>\n    <tr style=\"text-align: right;\">\n      <th></th>\n      <th>contour</th>\n      <th>centroid</th>\n      <th>pred_contour</th>\n      <th>pred_centroid</th>\n      <th>jaccard_score</th>\n      <th>iou</th>\n      <th>dice1</th>\n    </tr>\n  </thead>\n  <tbody>\n    <tr>\n      <th>0</th>\n      <td>[[368, 427], [368, 428], [367, 428], [366, 429...</td>\n      <td>(369.93939393939394, 438.969696969697)</td>\n      <td>[[369, 428], [367, 430], [367, 431], [366, 432...</td>\n      <td>[370, 439]</td>\n      <td>0.776923</td>\n      <td>0.776923</td>\n      <td>0.872570</td>\n    </tr>\n    <tr>\n      <th>1</th>\n      <td>[[242, 339], [241, 340], [239, 340], [238, 341...</td>\n      <td>(242.16666666666666, 346.2142857142857)</td>\n      <td>[[242, 338], [241, 339], [239, 339], [238, 340...</td>\n      <td>[242, 346]</td>\n      <td>0.890152</td>\n      <td>0.890152</td>\n      <td>0.940000</td>\n    </tr>\n    <tr>\n      <th>2</th>\n      <td>[[168, 364], [167, 365], [166, 365], [166, 366...</td>\n      <td>(172.02564102564102, 371.64102564102564)</td>\n      <td>[[172, 363], [171, 364], [169, 364], [168, 365...</td>\n      <td>[173, 372]</td>\n      <td>0.854305</td>\n      <td>0.854305</td>\n      <td>0.919786</td>\n    </tr>\n    <tr>\n      <th>3</th>\n      <td>[[322, 384], [321, 385], [320, 385], [319, 386...</td>\n      <td>(325.8695652173913, 392.4130434782609)</td>\n      <td>[[321, 384], [320, 385], [319, 385], [316, 388...</td>\n      <td>[325, 392]</td>\n      <td>0.815873</td>\n      <td>0.815873</td>\n      <td>0.897033</td>\n    </tr>\n    <tr>\n      <th>4</th>\n      <td>[[387, 334], [387, 335], [386, 335], [386, 336...</td>\n      <td>(390.0408163265306, 342.7959183673469)</td>\n      <td>[[391, 334], [390, 335], [388, 335], [387, 336...</td>\n      <td>[390, 343]</td>\n      <td>0.821429</td>\n      <td>0.821429</td>\n      <td>0.900489</td>\n    </tr>\n    <tr>\n      <th>...</th>\n      <td>...</td>\n      <td>...</td>\n      <td>...</td>\n      <td>...</td>\n      <td>...</td>\n      <td>...</td>\n      <td>...</td>\n    </tr>\n    <tr>\n      <th>379</th>\n      <td>[[230.0, 311.0], [230.0, 313.0], [233.0, 313.0...</td>\n      <td>(248.45238095238096, 313.3095238095238)</td>\n      <td>[[242, 338], [241, 339], [239, 339], [238, 340...</td>\n      <td>[242, 346]</td>\n      <td>0.000000</td>\n      <td>0.000000</td>\n      <td>0.000000</td>\n    </tr>\n    <tr>\n      <th>380</th>\n      <td>[[370, 314], [370, 315], [369, 315], [369, 317...</td>\n      <td>(390.7014925373134, 322.2089552238806)</td>\n      <td>[[360, 314], [359, 315], [357, 315], [356, 316...</td>\n      <td>[377, 320]</td>\n      <td>0.541069</td>\n      <td>0.541069</td>\n      <td>0.701606</td>\n    </tr>\n    <tr>\n      <th>381</th>\n      <td>[[959.0, 403.0], [959.0, 404.0], [957.0, 404.0...</td>\n      <td>(961.75, 413.4935897435897)</td>\n      <td>[[957, 405], [956, 406], [954, 406], [952, 408...</td>\n      <td>[960, 413]</td>\n      <td>0.730627</td>\n      <td>0.730627</td>\n      <td>0.843450</td>\n    </tr>\n    <tr>\n      <th>382</th>\n      <td>[[543, 354], [543, 355], [542, 355], [542, 356...</td>\n      <td>(547.936170212766, 360.7659574468085)</td>\n      <td>[[545, 354], [544, 355], [542, 355], [540, 357...</td>\n      <td>[549, 361]</td>\n      <td>0.890977</td>\n      <td>0.890977</td>\n      <td>0.940476</td>\n    </tr>\n    <tr>\n      <th>383</th>\n      <td>[[649, 491], [649, 492], [648, 492], [648, 493...</td>\n      <td>(649.7631578947369, 497.42105263157896)</td>\n      <td>[[628, 461], [627, 462], [626, 462], [625, 463...</td>\n      <td>[629, 474]</td>\n      <td>0.000000</td>\n      <td>0.000000</td>\n      <td>0.000000</td>\n    </tr>\n  </tbody>\n</table>\n<p>384 rows × 7 columns</p>\n</div>"
     },
     "execution_count": 78,
     "metadata": {},
     "output_type": "execute_result"
    }
   ],
   "source": [
    "#add metrics to dataframe\n",
    "#calculate aji\n",
    "linked_df['dice1']=dice1\n",
    "linked_df\n"
   ],
   "metadata": {
    "collapsed": false,
    "pycharm": {
     "name": "#%%\n"
    }
   }
  },
  {
   "cell_type": "code",
   "execution_count": null,
   "outputs": [],
   "source": [],
   "metadata": {
    "collapsed": false,
    "pycharm": {
     "name": "#%%\n"
    }
   }
  },
  {
   "cell_type": "code",
   "execution_count": 52,
   "outputs": [],
   "source": [
    "#ashley:try out the metrics, inputs are binary masks of groundtruth and predicted nucleus\n",
    "#their functions also convert the true and pred inputs to binary masks.\n",
    "# I think they just take in an integer array of an image\n",
    "\n",
    "#question: do you compute these scores for each nuclei with its pair and take an average, or do you do it on the overall image\n",
    "#i did it on the overall image\n",
    "dc1= get_dice_1(groundtruth_mask,predicted_mask)\n",
    "dc2 = get_fast_dice_2(groundtruth_mask,predicted_mask) #this equals dc1\n",
    "\n",
    "dq, sq, pq = get_fast_pq(groundtruth_mask,predicted_mask)[0]\n",
    "\n",
    "\n",
    "#TODO: need to modify the function because the function is expecting labeled masks\n",
    "aji = get_fast_aji_plus(groundtruth_mask,predicted_mask)\n",
    "\n",
    "#theyalso have a pair-coordinates function"
   ],
   "metadata": {
    "collapsed": false,
    "pycharm": {
     "name": "#%%\n"
    }
   }
  },
  {
   "cell_type": "code",
   "execution_count": 46,
   "outputs": [],
   "source": [
    "#don't know what this does\n",
    "paired_true, paired_pred, unpaired_true, unpaired_pred = get_fast_pq(groundtruth_mask,predicted_mask)[1]"
   ],
   "metadata": {
    "collapsed": false,
    "pycharm": {
     "name": "#%%\n"
    }
   }
  }
 ],
 "metadata": {
  "kernelspec": {
   "display_name": "Python 3",
   "language": "python",
   "name": "python3"
  },
  "language_info": {
   "codemirror_mode": {
    "name": "ipython",
    "version": 2
   },
   "file_extension": ".py",
   "mimetype": "text/x-python",
   "name": "python",
   "nbconvert_exporter": "python",
   "pygments_lexer": "ipython2",
   "version": "2.7.6"
  }
 },
 "nbformat": 4,
 "nbformat_minor": 0
}