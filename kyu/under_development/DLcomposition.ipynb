{
 "cells": [
  {
   "cell_type": "code",
   "execution_count": 12,
   "outputs": [],
   "source": [
    "import os\n",
    "import glob\n",
    "import numpy as np\n",
    "from PIL import Image\n",
    "Image.MAX_IMAGE_PIXELS=None\n",
    "import pandas as pd\n",
    "from natsort import natsorted"
   ],
   "metadata": {
    "collapsed": false,
    "pycharm": {
     "name": "#%%\n"
    }
   }
  },
  {
   "cell_type": "code",
   "execution_count": 13,
   "outputs": [],
   "source": [
    "dlsrc = r'\\\\fatherserverdw\\Q\\research\\images\\skin_aging\\DLCROP\\DLCROP_processed'"
   ],
   "metadata": {
    "collapsed": false,
    "pycharm": {
     "name": "#%%\n"
    }
   }
  },
  {
   "cell_type": "code",
   "execution_count": 14,
   "outputs": [],
   "source": [
    "dls = glob.glob(os.path.join(dlsrc,'*tif'))\n",
    "dls = natsorted(dls)\n",
    "dlims=[]\n",
    "for dl in dls:\n",
    "    dlim = Image.open(dl).histogram()\n",
    "    dlims.append(dlim[1:13])"
   ],
   "metadata": {
    "collapsed": false,
    "pycharm": {
     "name": "#%%\n"
    }
   }
  },
  {
   "cell_type": "code",
   "execution_count": 15,
   "outputs": [
    {
     "data": {
      "text/plain": "     corneum  spinosum  hairshaft  follicle  muscle     oil    sweat   nerve  \\\n0     364716    637864     219195    200614  318563   89280   353425   94043   \n1     323174    807359      46583    118042  255520  130786   211596   81059   \n2     519146   1192651      22621     96131  387649   32599   185552  120884   \n3     288795    726463      36658     62652  202173  138132   162210   80392   \n4     534147   1191371      20840    108531  401223   23105   222895  110684   \n..       ...       ...        ...       ...     ...     ...      ...     ...   \n433   919584   3085129      62017    289628  853070  642917   806378  269173   \n434   106087    484357        143      4682   89112     240   211221   74105   \n435   110869    483239      61963      4195   87513    2846   194353   20738   \n436   138424    356078      21215     41231  100220    1750   194052  197593   \n437   641139   2841944      93983    210792  440090  440883  1031121  400380   \n\n       blood        ecm      fat     white  \n0     268947   13334930  1259017    562589  \n1     149871   13295896  1916390    934971  \n2     189980   16806204  1982845   2327990  \n3     139189   11479179  1478392    715577  \n4     233280   18296022  2488115   1457402  \n..       ...        ...      ...       ...  \n433  1546901   79551746  2920859  11502024  \n434   270460   20695621   636855   3092269  \n435   608652   18614294   563242   3314250  \n436   253230   24767089   529131   4167329  \n437  1304389  132460960  5523047  11508760  \n\n[438 rows x 12 columns]",
      "text/html": "<div>\n<style scoped>\n    .dataframe tbody tr th:only-of-type {\n        vertical-align: middle;\n    }\n\n    .dataframe tbody tr th {\n        vertical-align: top;\n    }\n\n    .dataframe thead th {\n        text-align: right;\n    }\n</style>\n<table border=\"1\" class=\"dataframe\">\n  <thead>\n    <tr style=\"text-align: right;\">\n      <th></th>\n      <th>corneum</th>\n      <th>spinosum</th>\n      <th>hairshaft</th>\n      <th>follicle</th>\n      <th>muscle</th>\n      <th>oil</th>\n      <th>sweat</th>\n      <th>nerve</th>\n      <th>blood</th>\n      <th>ecm</th>\n      <th>fat</th>\n      <th>white</th>\n    </tr>\n  </thead>\n  <tbody>\n    <tr>\n      <th>0</th>\n      <td>364716</td>\n      <td>637864</td>\n      <td>219195</td>\n      <td>200614</td>\n      <td>318563</td>\n      <td>89280</td>\n      <td>353425</td>\n      <td>94043</td>\n      <td>268947</td>\n      <td>13334930</td>\n      <td>1259017</td>\n      <td>562589</td>\n    </tr>\n    <tr>\n      <th>1</th>\n      <td>323174</td>\n      <td>807359</td>\n      <td>46583</td>\n      <td>118042</td>\n      <td>255520</td>\n      <td>130786</td>\n      <td>211596</td>\n      <td>81059</td>\n      <td>149871</td>\n      <td>13295896</td>\n      <td>1916390</td>\n      <td>934971</td>\n    </tr>\n    <tr>\n      <th>2</th>\n      <td>519146</td>\n      <td>1192651</td>\n      <td>22621</td>\n      <td>96131</td>\n      <td>387649</td>\n      <td>32599</td>\n      <td>185552</td>\n      <td>120884</td>\n      <td>189980</td>\n      <td>16806204</td>\n      <td>1982845</td>\n      <td>2327990</td>\n    </tr>\n    <tr>\n      <th>3</th>\n      <td>288795</td>\n      <td>726463</td>\n      <td>36658</td>\n      <td>62652</td>\n      <td>202173</td>\n      <td>138132</td>\n      <td>162210</td>\n      <td>80392</td>\n      <td>139189</td>\n      <td>11479179</td>\n      <td>1478392</td>\n      <td>715577</td>\n    </tr>\n    <tr>\n      <th>4</th>\n      <td>534147</td>\n      <td>1191371</td>\n      <td>20840</td>\n      <td>108531</td>\n      <td>401223</td>\n      <td>23105</td>\n      <td>222895</td>\n      <td>110684</td>\n      <td>233280</td>\n      <td>18296022</td>\n      <td>2488115</td>\n      <td>1457402</td>\n    </tr>\n    <tr>\n      <th>...</th>\n      <td>...</td>\n      <td>...</td>\n      <td>...</td>\n      <td>...</td>\n      <td>...</td>\n      <td>...</td>\n      <td>...</td>\n      <td>...</td>\n      <td>...</td>\n      <td>...</td>\n      <td>...</td>\n      <td>...</td>\n    </tr>\n    <tr>\n      <th>433</th>\n      <td>919584</td>\n      <td>3085129</td>\n      <td>62017</td>\n      <td>289628</td>\n      <td>853070</td>\n      <td>642917</td>\n      <td>806378</td>\n      <td>269173</td>\n      <td>1546901</td>\n      <td>79551746</td>\n      <td>2920859</td>\n      <td>11502024</td>\n    </tr>\n    <tr>\n      <th>434</th>\n      <td>106087</td>\n      <td>484357</td>\n      <td>143</td>\n      <td>4682</td>\n      <td>89112</td>\n      <td>240</td>\n      <td>211221</td>\n      <td>74105</td>\n      <td>270460</td>\n      <td>20695621</td>\n      <td>636855</td>\n      <td>3092269</td>\n    </tr>\n    <tr>\n      <th>435</th>\n      <td>110869</td>\n      <td>483239</td>\n      <td>61963</td>\n      <td>4195</td>\n      <td>87513</td>\n      <td>2846</td>\n      <td>194353</td>\n      <td>20738</td>\n      <td>608652</td>\n      <td>18614294</td>\n      <td>563242</td>\n      <td>3314250</td>\n    </tr>\n    <tr>\n      <th>436</th>\n      <td>138424</td>\n      <td>356078</td>\n      <td>21215</td>\n      <td>41231</td>\n      <td>100220</td>\n      <td>1750</td>\n      <td>194052</td>\n      <td>197593</td>\n      <td>253230</td>\n      <td>24767089</td>\n      <td>529131</td>\n      <td>4167329</td>\n    </tr>\n    <tr>\n      <th>437</th>\n      <td>641139</td>\n      <td>2841944</td>\n      <td>93983</td>\n      <td>210792</td>\n      <td>440090</td>\n      <td>440883</td>\n      <td>1031121</td>\n      <td>400380</td>\n      <td>1304389</td>\n      <td>132460960</td>\n      <td>5523047</td>\n      <td>11508760</td>\n    </tr>\n  </tbody>\n</table>\n<p>438 rows × 12 columns</p>\n</div>"
     },
     "execution_count": 15,
     "metadata": {},
     "output_type": "execute_result"
    }
   ],
   "source": [
    "df = pd.DataFrame(dlims,columns=['corneum','spinosum','hairshaft','follicle','muscle','oil','sweat','nerve','blood','ecm','fat','white'])\n",
    "df"
   ],
   "metadata": {
    "collapsed": false,
    "pycharm": {
     "name": "#%%\n"
    }
   }
  }
 ],
 "metadata": {
  "kernelspec": {
   "display_name": "Python 3",
   "language": "python",
   "name": "python3"
  },
  "language_info": {
   "codemirror_mode": {
    "name": "ipython",
    "version": 2
   },
   "file_extension": ".py",
   "mimetype": "text/x-python",
   "name": "python",
   "nbconvert_exporter": "python",
   "pygments_lexer": "ipython2",
   "version": "2.7.6"
  }
 },
 "nbformat": 4,
 "nbformat_minor": 0
}