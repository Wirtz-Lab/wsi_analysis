{
 "cells": [
  {
   "cell_type": "code",
   "execution_count": 2,
   "outputs": [],
   "source": [
    "import os\n",
    "import glob\n",
    "import numpy as np\n",
    "from PIL import Image\n",
    "Image.MAX_IMAGE_PIXELS=None\n",
    "import pandas as pd\n",
    "from natsort import natsorted"
   ],
   "metadata": {
    "collapsed": false,
    "pycharm": {
     "name": "#%%\n"
    }
   }
  },
  {
   "cell_type": "code",
   "execution_count": 13,
   "outputs": [],
   "source": [
    "dlsrc = r'\\\\fatherserverdw\\Q\\research\\images\\skin_aging\\DLCROP\\DLCROP_processed'"
   ],
   "metadata": {
    "collapsed": false,
    "pycharm": {
     "name": "#%%\n"
    }
   }
  },
  {
   "cell_type": "code",
   "execution_count": 14,
   "outputs": [],
   "source": [
    "dls = glob.glob(os.path.join(dlsrc,'*tif'))\n",
    "dls = natsorted(dls)\n",
    "dlims=[]\n",
    "for dl in dls:\n",
    "    dlim = Image.open(dl).histogram()\n",
    "    dlims.append(dlim[1:13])"
   ],
   "metadata": {
    "collapsed": false,
    "pycharm": {
     "name": "#%%\n"
    }
   }
  },
  {
   "cell_type": "code",
   "execution_count": 15,
   "outputs": [
    {
     "data": {
      "text/plain": "     corneum  spinosum  hairshaft  follicle  muscle     oil    sweat   nerve  \\\n0     364716    637864     219195    200614  318563   89280   353425   94043   \n1     323174    807359      46583    118042  255520  130786   211596   81059   \n2     519146   1192651      22621     96131  387649   32599   185552  120884   \n3     288795    726463      36658     62652  202173  138132   162210   80392   \n4     534147   1191371      20840    108531  401223   23105   222895  110684   \n..       ...       ...        ...       ...     ...     ...      ...     ...   \n433   919584   3085129      62017    289628  853070  642917   806378  269173   \n434   106087    484357        143      4682   89112     240   211221   74105   \n435   110869    483239      61963      4195   87513    2846   194353   20738   \n436   138424    356078      21215     41231  100220    1750   194052  197593   \n437   641139   2841944      93983    210792  440090  440883  1031121  400380   \n\n       blood        ecm      fat     white  \n0     268947   13334930  1259017    562589  \n1     149871   13295896  1916390    934971  \n2     189980   16806204  1982845   2327990  \n3     139189   11479179  1478392    715577  \n4     233280   18296022  2488115   1457402  \n..       ...        ...      ...       ...  \n433  1546901   79551746  2920859  11502024  \n434   270460   20695621   636855   3092269  \n435   608652   18614294   563242   3314250  \n436   253230   24767089   529131   4167329  \n437  1304389  132460960  5523047  11508760  \n\n[438 rows x 12 columns]",
      "text/html": "<div>\n<style scoped>\n    .dataframe tbody tr th:only-of-type {\n        vertical-align: middle;\n    }\n\n    .dataframe tbody tr th {\n        vertical-align: top;\n    }\n\n    .dataframe thead th {\n        text-align: right;\n    }\n</style>\n<table border=\"1\" class=\"dataframe\">\n  <thead>\n    <tr style=\"text-align: right;\">\n      <th></th>\n      <th>corneum</th>\n      <th>spinosum</th>\n      <th>hairshaft</th>\n      <th>follicle</th>\n      <th>muscle</th>\n      <th>oil</th>\n      <th>sweat</th>\n      <th>nerve</th>\n      <th>blood</th>\n      <th>ecm</th>\n      <th>fat</th>\n      <th>white</th>\n    </tr>\n  </thead>\n  <tbody>\n    <tr>\n      <th>0</th>\n      <td>364716</td>\n      <td>637864</td>\n      <td>219195</td>\n      <td>200614</td>\n      <td>318563</td>\n      <td>89280</td>\n      <td>353425</td>\n      <td>94043</td>\n      <td>268947</td>\n      <td>13334930</td>\n      <td>1259017</td>\n      <td>562589</td>\n    </tr>\n    <tr>\n      <th>1</th>\n      <td>323174</td>\n      <td>807359</td>\n      <td>46583</td>\n      <td>118042</td>\n      <td>255520</td>\n      <td>130786</td>\n      <td>211596</td>\n      <td>81059</td>\n      <td>149871</td>\n      <td>13295896</td>\n      <td>1916390</td>\n      <td>934971</td>\n    </tr>\n    <tr>\n      <th>2</th>\n      <td>519146</td>\n      <td>1192651</td>\n      <td>22621</td>\n      <td>96131</td>\n      <td>387649</td>\n      <td>32599</td>\n      <td>185552</td>\n      <td>120884</td>\n      <td>189980</td>\n      <td>16806204</td>\n      <td>1982845</td>\n      <td>2327990</td>\n    </tr>\n    <tr>\n      <th>3</th>\n      <td>288795</td>\n      <td>726463</td>\n      <td>36658</td>\n      <td>62652</td>\n      <td>202173</td>\n      <td>138132</td>\n      <td>162210</td>\n      <td>80392</td>\n      <td>139189</td>\n      <td>11479179</td>\n      <td>1478392</td>\n      <td>715577</td>\n    </tr>\n    <tr>\n      <th>4</th>\n      <td>534147</td>\n      <td>1191371</td>\n      <td>20840</td>\n      <td>108531</td>\n      <td>401223</td>\n      <td>23105</td>\n      <td>222895</td>\n      <td>110684</td>\n      <td>233280</td>\n      <td>18296022</td>\n      <td>2488115</td>\n      <td>1457402</td>\n    </tr>\n    <tr>\n      <th>...</th>\n      <td>...</td>\n      <td>...</td>\n      <td>...</td>\n      <td>...</td>\n      <td>...</td>\n      <td>...</td>\n      <td>...</td>\n      <td>...</td>\n      <td>...</td>\n      <td>...</td>\n      <td>...</td>\n      <td>...</td>\n    </tr>\n    <tr>\n      <th>433</th>\n      <td>919584</td>\n      <td>3085129</td>\n      <td>62017</td>\n      <td>289628</td>\n      <td>853070</td>\n      <td>642917</td>\n      <td>806378</td>\n      <td>269173</td>\n      <td>1546901</td>\n      <td>79551746</td>\n      <td>2920859</td>\n      <td>11502024</td>\n    </tr>\n    <tr>\n      <th>434</th>\n      <td>106087</td>\n      <td>484357</td>\n      <td>143</td>\n      <td>4682</td>\n      <td>89112</td>\n      <td>240</td>\n      <td>211221</td>\n      <td>74105</td>\n      <td>270460</td>\n      <td>20695621</td>\n      <td>636855</td>\n      <td>3092269</td>\n    </tr>\n    <tr>\n      <th>435</th>\n      <td>110869</td>\n      <td>483239</td>\n      <td>61963</td>\n      <td>4195</td>\n      <td>87513</td>\n      <td>2846</td>\n      <td>194353</td>\n      <td>20738</td>\n      <td>608652</td>\n      <td>18614294</td>\n      <td>563242</td>\n      <td>3314250</td>\n    </tr>\n    <tr>\n      <th>436</th>\n      <td>138424</td>\n      <td>356078</td>\n      <td>21215</td>\n      <td>41231</td>\n      <td>100220</td>\n      <td>1750</td>\n      <td>194052</td>\n      <td>197593</td>\n      <td>253230</td>\n      <td>24767089</td>\n      <td>529131</td>\n      <td>4167329</td>\n    </tr>\n    <tr>\n      <th>437</th>\n      <td>641139</td>\n      <td>2841944</td>\n      <td>93983</td>\n      <td>210792</td>\n      <td>440090</td>\n      <td>440883</td>\n      <td>1031121</td>\n      <td>400380</td>\n      <td>1304389</td>\n      <td>132460960</td>\n      <td>5523047</td>\n      <td>11508760</td>\n    </tr>\n  </tbody>\n</table>\n<p>438 rows × 12 columns</p>\n</div>"
     },
     "execution_count": 15,
     "metadata": {},
     "output_type": "execute_result"
    }
   ],
   "source": [
    "df = pd.DataFrame(dlims,columns=['corneum','spinosum','hairshaft','follicle','muscle','oil','sweat','nerve','blood','ecm','fat','white'])\n",
    "df"
   ],
   "metadata": {
    "collapsed": false,
    "pycharm": {
     "name": "#%%\n"
    }
   }
  },
  {
   "cell_type": "code",
   "execution_count": 5,
   "outputs": [],
   "source": [
    "dl = r'\\\\fatherserverdw\\Q\\research\\images\\skin_aging\\1um\\classification_v9_combined\\12.tif'\n",
    "roi = r'\\\\fatherserverdw\\Q\\research\\images\\skin_aging\\annotation\\roi\\tif\\12_tissue_binary.tif'\n",
    "\n",
    "dl = Image.open(dl)\n",
    "roi = Image.open(roi)"
   ],
   "metadata": {
    "collapsed": false,
    "pycharm": {
     "name": "#%%\n"
    }
   }
  },
  {
   "cell_type": "code",
   "execution_count": 6,
   "outputs": [
    {
     "data": {
      "text/plain": "((40938, 13840), (10235, 3460))"
     },
     "execution_count": 6,
     "metadata": {},
     "output_type": "execute_result"
    }
   ],
   "source": [
    "dlw, dlh = dl.size\n",
    "roiw, roih = roi.size\n",
    "dl.size,roi.size"
   ],
   "metadata": {
    "collapsed": false,
    "pycharm": {
     "name": "#%%\n"
    }
   }
  },
  {
   "cell_type": "code",
   "execution_count": 7,
   "outputs": [],
   "source": [
    "roi = roi.resize(dl.size)"
   ],
   "metadata": {
    "collapsed": false,
    "pycharm": {
     "name": "#%%\n"
    }
   }
  },
  {
   "cell_type": "code",
   "execution_count": 8,
   "outputs": [],
   "source": [
    "from skimage.measure import label\n",
    "roiarr = np.array(roi)\n",
    "roiarrL = label(roiarr)"
   ],
   "metadata": {
    "collapsed": false,
    "pycharm": {
     "name": "#%%\n"
    }
   }
  },
  {
   "cell_type": "code",
   "execution_count": 9,
   "outputs": [],
   "source": [
    "dlarr = np.array(dl)"
   ],
   "metadata": {
    "collapsed": false,
    "pycharm": {
     "name": "#%%\n"
    }
   }
  },
  {
   "cell_type": "code",
   "execution_count": 12,
   "outputs": [
    {
     "ename": "NameError",
     "evalue": "name 'plt' is not defined",
     "output_type": "error",
     "traceback": [
      "\u001B[1;31m---------------------------------------------------------------------------\u001B[0m",
      "\u001B[1;31mNameError\u001B[0m                                 Traceback (most recent call last)",
      "Input \u001B[1;32mIn [12]\u001B[0m, in \u001B[0;36m<cell line: 2>\u001B[1;34m()\u001B[0m\n\u001B[0;32m      1\u001B[0m dltmp \u001B[38;5;241m=\u001B[39m dlarr\u001B[38;5;241m*\u001B[39m(roiarrL\u001B[38;5;241m==\u001B[39m\u001B[38;5;241m1\u001B[39m)\n\u001B[1;32m----> 2\u001B[0m \u001B[43mplt\u001B[49m\u001B[38;5;241m.\u001B[39mimshow(dltmp)\n",
      "\u001B[1;31mNameError\u001B[0m: name 'plt' is not defined"
     ]
    }
   ],
   "source": [
    "dltmp = dlarr*(roiarrL==1)"
   ],
   "metadata": {
    "collapsed": false,
    "pycharm": {
     "name": "#%%\n"
    }
   }
  },
  {
   "cell_type": "code",
   "execution_count": 13,
   "outputs": [],
   "source": [
    "dlareas = np.histogram(dltmp,bins=range(14))\n",
    "dlareas = dlareas[0]\n",
    "dlareas = dlareas.tolist()"
   ],
   "metadata": {
    "collapsed": false,
    "pycharm": {
     "name": "#%%\n"
    }
   }
  },
  {
   "cell_type": "code",
   "execution_count": 14,
   "outputs": [],
   "source": [
    "#epidermis, rest, collagen+gap, fat\n",
    "dlareas2 = [dlareas[1]+dlareas[2]]+dlareas[3:10]+[dlareas[10]+dlareas[12]]+[dlareas[11]]"
   ],
   "metadata": {
    "collapsed": false,
    "pycharm": {
     "name": "#%%\n"
    }
   }
  },
  {
   "cell_type": "code",
   "execution_count": 28,
   "outputs": [],
   "source": [
    "df = []\n"
   ],
   "metadata": {
    "collapsed": false,
    "pycharm": {
     "name": "#%%\n"
    }
   }
  },
  {
   "cell_type": "code",
   "execution_count": 50,
   "outputs": [],
   "source": [
    "df.append([dlareas[1:10] + [dlareas[10] + dlareas[12]] + [dlareas[11]]])"
   ],
   "metadata": {
    "collapsed": false,
    "pycharm": {
     "name": "#%%\n"
    }
   }
  },
  {
   "cell_type": "code",
   "execution_count": 55,
   "outputs": [
    {
     "data": {
      "text/plain": "       0       1       2      3       4      5       6      7       8   \\\n0  745301  754987  393315  75937  321645  89022  357141  93829  269182   \n1  745301  754987  393315  75937  321645  89022  357141  93829  269182   \n2  745301  754987  393315  75937  321645  89022  357141  93829  269182   \n3  745301  754987  393315  75937  321645  89022  357141  93829  269182   \n4  745301  754987  393315  75937  321645  89022  357141  93829  269182   \n\n         9        10  \n0  14800956  1259553  \n1  14800956  1259553  \n2  14800956  1259553  \n3  14800956  1259553  \n4  14800956  1259553  ",
      "text/html": "<div>\n<style scoped>\n    .dataframe tbody tr th:only-of-type {\n        vertical-align: middle;\n    }\n\n    .dataframe tbody tr th {\n        vertical-align: top;\n    }\n\n    .dataframe thead th {\n        text-align: right;\n    }\n</style>\n<table border=\"1\" class=\"dataframe\">\n  <thead>\n    <tr style=\"text-align: right;\">\n      <th></th>\n      <th>0</th>\n      <th>1</th>\n      <th>2</th>\n      <th>3</th>\n      <th>4</th>\n      <th>5</th>\n      <th>6</th>\n      <th>7</th>\n      <th>8</th>\n      <th>9</th>\n      <th>10</th>\n    </tr>\n  </thead>\n  <tbody>\n    <tr>\n      <th>0</th>\n      <td>745301</td>\n      <td>754987</td>\n      <td>393315</td>\n      <td>75937</td>\n      <td>321645</td>\n      <td>89022</td>\n      <td>357141</td>\n      <td>93829</td>\n      <td>269182</td>\n      <td>14800956</td>\n      <td>1259553</td>\n    </tr>\n    <tr>\n      <th>1</th>\n      <td>745301</td>\n      <td>754987</td>\n      <td>393315</td>\n      <td>75937</td>\n      <td>321645</td>\n      <td>89022</td>\n      <td>357141</td>\n      <td>93829</td>\n      <td>269182</td>\n      <td>14800956</td>\n      <td>1259553</td>\n    </tr>\n    <tr>\n      <th>2</th>\n      <td>745301</td>\n      <td>754987</td>\n      <td>393315</td>\n      <td>75937</td>\n      <td>321645</td>\n      <td>89022</td>\n      <td>357141</td>\n      <td>93829</td>\n      <td>269182</td>\n      <td>14800956</td>\n      <td>1259553</td>\n    </tr>\n    <tr>\n      <th>3</th>\n      <td>745301</td>\n      <td>754987</td>\n      <td>393315</td>\n      <td>75937</td>\n      <td>321645</td>\n      <td>89022</td>\n      <td>357141</td>\n      <td>93829</td>\n      <td>269182</td>\n      <td>14800956</td>\n      <td>1259553</td>\n    </tr>\n    <tr>\n      <th>4</th>\n      <td>745301</td>\n      <td>754987</td>\n      <td>393315</td>\n      <td>75937</td>\n      <td>321645</td>\n      <td>89022</td>\n      <td>357141</td>\n      <td>93829</td>\n      <td>269182</td>\n      <td>14800956</td>\n      <td>1259553</td>\n    </tr>\n  </tbody>\n</table>\n</div>"
     },
     "execution_count": 55,
     "metadata": {},
     "output_type": "execute_result"
    }
   ],
   "source": [
    "df2 = pd.DataFrame(np.squeeze(df))\n",
    "df2"
   ],
   "metadata": {
    "collapsed": false,
    "pycharm": {
     "name": "#%%\n"
    }
   }
  },
  {
   "cell_type": "code",
   "execution_count": 52,
   "outputs": [],
   "source": [
    "df2.rename(columns={0: 'corneum', 1: 'spinosum', 2: 'shaft', 3: 'follicle', 4: 'muscle'\n",
    "                    , 5: 'oil', 6: 'sweat', 7: 'nerve', 8: 'blood', 9: 'ecm'\n",
    "                    , 10: 'fat'}, inplace=True)"
   ],
   "metadata": {
    "collapsed": false,
    "pycharm": {
     "name": "#%%\n"
    }
   }
  },
  {
   "cell_type": "code",
   "execution_count": 56,
   "outputs": [
    {
     "data": {
      "text/plain": "       0       1       2      3       4      5       6      7       8   \\\n0  745301  754987  393315  75937  321645  89022  357141  93829  269182   \n1  745301  754987  393315  75937  321645  89022  357141  93829  269182   \n2  745301  754987  393315  75937  321645  89022  357141  93829  269182   \n3  745301  754987  393315  75937  321645  89022  357141  93829  269182   \n4  745301  754987  393315  75937  321645  89022  357141  93829  269182   \n\n         9        10  \n0  14800956  1259553  \n1  14800956  1259553  \n2  14800956  1259553  \n3  14800956  1259553  \n4  14800956  1259553  ",
      "text/html": "<div>\n<style scoped>\n    .dataframe tbody tr th:only-of-type {\n        vertical-align: middle;\n    }\n\n    .dataframe tbody tr th {\n        vertical-align: top;\n    }\n\n    .dataframe thead th {\n        text-align: right;\n    }\n</style>\n<table border=\"1\" class=\"dataframe\">\n  <thead>\n    <tr style=\"text-align: right;\">\n      <th></th>\n      <th>0</th>\n      <th>1</th>\n      <th>2</th>\n      <th>3</th>\n      <th>4</th>\n      <th>5</th>\n      <th>6</th>\n      <th>7</th>\n      <th>8</th>\n      <th>9</th>\n      <th>10</th>\n    </tr>\n  </thead>\n  <tbody>\n    <tr>\n      <th>0</th>\n      <td>745301</td>\n      <td>754987</td>\n      <td>393315</td>\n      <td>75937</td>\n      <td>321645</td>\n      <td>89022</td>\n      <td>357141</td>\n      <td>93829</td>\n      <td>269182</td>\n      <td>14800956</td>\n      <td>1259553</td>\n    </tr>\n    <tr>\n      <th>1</th>\n      <td>745301</td>\n      <td>754987</td>\n      <td>393315</td>\n      <td>75937</td>\n      <td>321645</td>\n      <td>89022</td>\n      <td>357141</td>\n      <td>93829</td>\n      <td>269182</td>\n      <td>14800956</td>\n      <td>1259553</td>\n    </tr>\n    <tr>\n      <th>2</th>\n      <td>745301</td>\n      <td>754987</td>\n      <td>393315</td>\n      <td>75937</td>\n      <td>321645</td>\n      <td>89022</td>\n      <td>357141</td>\n      <td>93829</td>\n      <td>269182</td>\n      <td>14800956</td>\n      <td>1259553</td>\n    </tr>\n    <tr>\n      <th>3</th>\n      <td>745301</td>\n      <td>754987</td>\n      <td>393315</td>\n      <td>75937</td>\n      <td>321645</td>\n      <td>89022</td>\n      <td>357141</td>\n      <td>93829</td>\n      <td>269182</td>\n      <td>14800956</td>\n      <td>1259553</td>\n    </tr>\n    <tr>\n      <th>4</th>\n      <td>745301</td>\n      <td>754987</td>\n      <td>393315</td>\n      <td>75937</td>\n      <td>321645</td>\n      <td>89022</td>\n      <td>357141</td>\n      <td>93829</td>\n      <td>269182</td>\n      <td>14800956</td>\n      <td>1259553</td>\n    </tr>\n  </tbody>\n</table>\n</div>"
     },
     "execution_count": 56,
     "metadata": {},
     "output_type": "execute_result"
    }
   ],
   "source": [
    "df2"
   ],
   "metadata": {
    "collapsed": false,
    "pycharm": {
     "name": "#%%\n"
    }
   }
  },
  {
   "cell_type": "code",
   "execution_count": 3,
   "outputs": [],
   "source": [
    "json = pd.read_pickle(r'\\\\fatherserverdw\\Q\\research\\images\\skin_aging\\wsi\\hovernet_out\\df\\12.pkl')"
   ],
   "metadata": {
    "collapsed": false,
    "pycharm": {
     "name": "#%%\n"
    }
   }
  },
  {
   "cell_type": "code",
   "execution_count": 10,
   "outputs": [],
   "source": [
    "from openslide import OpenSlide\n",
    "ndpi =OpenSlide(r'\\\\fatherserverdw\\Q\\research\\images\\skin_aging\\wsi\\12.ndpi')\n",
    "ndpiw, ndpih = ndpi.dimensions\n",
    "rsfw_ndpi2dl = ndpiw / dlw\n",
    "rsfh_ndpi2dl = ndpih / dlh"
   ],
   "metadata": {
    "collapsed": false,
    "pycharm": {
     "name": "#%%\n"
    }
   }
  },
  {
   "cell_type": "code",
   "execution_count": 4,
   "outputs": [
    {
     "data": {
      "text/plain": "                             bbox                                  centroid  \\\n0  [[3835, 14642], [3846, 14654]]               [2360.0, 16128.29292929293]   \n1    [[393, 18165], [401, 18176]]  [1785.5555555555557, 16780.537037037036]   \n2    [[940, 15650], [952, 15660]]   [1318.536842105263, 15281.252631578947]   \n3    [[965, 16018], [978, 16039]]  [1691.7692307692307, 15306.545454545454]   \n4  [[1064, 15453], [1077, 15466]]   [1122.739837398374, 15406.032520325203]   \n\n                                             contour  type  inroi  \\\n0  [[2360, 16123], [2358, 16125], [2357, 16125], ...    11      0   \n1  [[1788, 16777], [1787, 16778], [1784, 16778], ...    11      0   \n2  [[1317, 15276], [1316, 15277], [1315, 15277], ...    11      0   \n3  [[1684, 15301], [1682, 15303], [1682, 15305], ...    11      0   \n4  [[1121, 15400], [1118, 15403], [1118, 15404], ...    11      0   \n\n   resident_area   Area  Perimeter  Circularity         MA  ...  orientation  \\\n0      262892697   82.5  35.556349     0.820030  10.066992  ...    72.903610   \n1      262892697   41.0  28.142135     0.650548   5.635116  ...    65.975677   \n2      262892697   79.0  34.142135     0.851639   9.667659  ...   176.771500   \n3      262892697  119.0  53.455844     0.523319   7.483922  ...   112.582581   \n4      262892697  105.5  39.213203     0.862179  11.485838  ...    28.623020   \n\n   AspectRatio       Sol    Extent    EquiDia  imID  dist2nearest        oriA  \\\n0     0.884939  0.942857  0.625000  10.249013    12    523.003824   40.288479   \n1     0.546084  0.872340  0.465909   7.225152    12    356.265351   53.662609   \n2     0.873265  0.957576  0.658333  10.029253    12    232.467202   28.623020   \n3     0.323593  0.853047  0.435897  12.309163    12    339.954409  107.223679   \n4     0.952999  0.954751  0.624260  11.589943    12    184.382754   57.340168   \n\n         oriB  local_align  \n0  169.040634     0.711506  \n1   22.568596     0.471928  \n2   92.032227     0.749728  \n3   22.030060     0.630231  \n4   71.713966     0.417430  \n\n[5 rows x 21 columns]",
      "text/html": "<div>\n<style scoped>\n    .dataframe tbody tr th:only-of-type {\n        vertical-align: middle;\n    }\n\n    .dataframe tbody tr th {\n        vertical-align: top;\n    }\n\n    .dataframe thead th {\n        text-align: right;\n    }\n</style>\n<table border=\"1\" class=\"dataframe\">\n  <thead>\n    <tr style=\"text-align: right;\">\n      <th></th>\n      <th>bbox</th>\n      <th>centroid</th>\n      <th>contour</th>\n      <th>type</th>\n      <th>inroi</th>\n      <th>resident_area</th>\n      <th>Area</th>\n      <th>Perimeter</th>\n      <th>Circularity</th>\n      <th>MA</th>\n      <th>...</th>\n      <th>orientation</th>\n      <th>AspectRatio</th>\n      <th>Sol</th>\n      <th>Extent</th>\n      <th>EquiDia</th>\n      <th>imID</th>\n      <th>dist2nearest</th>\n      <th>oriA</th>\n      <th>oriB</th>\n      <th>local_align</th>\n    </tr>\n  </thead>\n  <tbody>\n    <tr>\n      <th>0</th>\n      <td>[[3835, 14642], [3846, 14654]]</td>\n      <td>[2360.0, 16128.29292929293]</td>\n      <td>[[2360, 16123], [2358, 16125], [2357, 16125], ...</td>\n      <td>11</td>\n      <td>0</td>\n      <td>262892697</td>\n      <td>82.5</td>\n      <td>35.556349</td>\n      <td>0.820030</td>\n      <td>10.066992</td>\n      <td>...</td>\n      <td>72.903610</td>\n      <td>0.884939</td>\n      <td>0.942857</td>\n      <td>0.625000</td>\n      <td>10.249013</td>\n      <td>12</td>\n      <td>523.003824</td>\n      <td>40.288479</td>\n      <td>169.040634</td>\n      <td>0.711506</td>\n    </tr>\n    <tr>\n      <th>1</th>\n      <td>[[393, 18165], [401, 18176]]</td>\n      <td>[1785.5555555555557, 16780.537037037036]</td>\n      <td>[[1788, 16777], [1787, 16778], [1784, 16778], ...</td>\n      <td>11</td>\n      <td>0</td>\n      <td>262892697</td>\n      <td>41.0</td>\n      <td>28.142135</td>\n      <td>0.650548</td>\n      <td>5.635116</td>\n      <td>...</td>\n      <td>65.975677</td>\n      <td>0.546084</td>\n      <td>0.872340</td>\n      <td>0.465909</td>\n      <td>7.225152</td>\n      <td>12</td>\n      <td>356.265351</td>\n      <td>53.662609</td>\n      <td>22.568596</td>\n      <td>0.471928</td>\n    </tr>\n    <tr>\n      <th>2</th>\n      <td>[[940, 15650], [952, 15660]]</td>\n      <td>[1318.536842105263, 15281.252631578947]</td>\n      <td>[[1317, 15276], [1316, 15277], [1315, 15277], ...</td>\n      <td>11</td>\n      <td>0</td>\n      <td>262892697</td>\n      <td>79.0</td>\n      <td>34.142135</td>\n      <td>0.851639</td>\n      <td>9.667659</td>\n      <td>...</td>\n      <td>176.771500</td>\n      <td>0.873265</td>\n      <td>0.957576</td>\n      <td>0.658333</td>\n      <td>10.029253</td>\n      <td>12</td>\n      <td>232.467202</td>\n      <td>28.623020</td>\n      <td>92.032227</td>\n      <td>0.749728</td>\n    </tr>\n    <tr>\n      <th>3</th>\n      <td>[[965, 16018], [978, 16039]]</td>\n      <td>[1691.7692307692307, 15306.545454545454]</td>\n      <td>[[1684, 15301], [1682, 15303], [1682, 15305], ...</td>\n      <td>11</td>\n      <td>0</td>\n      <td>262892697</td>\n      <td>119.0</td>\n      <td>53.455844</td>\n      <td>0.523319</td>\n      <td>7.483922</td>\n      <td>...</td>\n      <td>112.582581</td>\n      <td>0.323593</td>\n      <td>0.853047</td>\n      <td>0.435897</td>\n      <td>12.309163</td>\n      <td>12</td>\n      <td>339.954409</td>\n      <td>107.223679</td>\n      <td>22.030060</td>\n      <td>0.630231</td>\n    </tr>\n    <tr>\n      <th>4</th>\n      <td>[[1064, 15453], [1077, 15466]]</td>\n      <td>[1122.739837398374, 15406.032520325203]</td>\n      <td>[[1121, 15400], [1118, 15403], [1118, 15404], ...</td>\n      <td>11</td>\n      <td>0</td>\n      <td>262892697</td>\n      <td>105.5</td>\n      <td>39.213203</td>\n      <td>0.862179</td>\n      <td>11.485838</td>\n      <td>...</td>\n      <td>28.623020</td>\n      <td>0.952999</td>\n      <td>0.954751</td>\n      <td>0.624260</td>\n      <td>11.589943</td>\n      <td>12</td>\n      <td>184.382754</td>\n      <td>57.340168</td>\n      <td>71.713966</td>\n      <td>0.417430</td>\n    </tr>\n  </tbody>\n</table>\n<p>5 rows × 21 columns</p>\n</div>"
     },
     "execution_count": 4,
     "metadata": {},
     "output_type": "execute_result"
    }
   ],
   "source": [
    "json.head()"
   ],
   "metadata": {
    "collapsed": false,
    "pycharm": {
     "name": "#%%\n"
    }
   }
  },
  {
   "cell_type": "code",
   "execution_count": 19,
   "outputs": [
    {
     "data": {
      "text/plain": "<matplotlib.image.AxesImage at 0x1bf7ac94190>"
     },
     "execution_count": 19,
     "metadata": {},
     "output_type": "execute_result"
    },
    {
     "data": {
      "text/plain": "<Figure size 432x288 with 1 Axes>",
      "image/png": "[encoded data removed]"
     },
     "metadata": {
      "needs_background": "light"
     },
     "output_type": "display_data"
    }
   ],
   "source": [
    "from skimage.morphology import remove_small_objects\n",
    "from matplotlib import pyplot as plt\n",
    "dltmp = dlarr==10\n",
    "dltmp2 = remove_small_objects(dltmp,100000)\n",
    "plt.imshow(dltmp2)"
   ],
   "metadata": {
    "collapsed": false,
    "pycharm": {
     "name": "#%%\n"
    }
   }
  },
  {
   "cell_type": "code",
   "execution_count": 20,
   "outputs": [],
   "source": [
    "#distance from tissue components\n",
    "import cv2\n",
    "dist = cv2.distanceTransform(np.invert(dltmp2).astype(np.uint8), cv2.DIST_L2, 3)"
   ],
   "metadata": {
    "collapsed": false,
    "pycharm": {
     "name": "#%%\n"
    }
   }
  },
  {
   "cell_type": "code",
   "execution_count": 21,
   "outputs": [
    {
     "data": {
      "text/plain": "<matplotlib.image.AxesImage at 0x1bf7ad023a0>"
     },
     "execution_count": 21,
     "metadata": {},
     "output_type": "execute_result"
    },
    {
     "data": {
      "text/plain": "<Figure size 432x288 with 1 Axes>",
      "image/png": "[encoded data removed]"
     },
     "metadata": {
      "needs_background": "light"
     },
     "output_type": "display_data"
    }
   ],
   "source": [
    "plt.imshow(dist)"
   ],
   "metadata": {
    "collapsed": false,
    "pycharm": {
     "name": "#%%\n"
    }
   }
  },
  {
   "cell_type": "code",
   "execution_count": 18,
   "outputs": [
    {
     "data": {
      "text/plain": "2176.157"
     },
     "execution_count": 18,
     "metadata": {},
     "output_type": "execute_result"
    }
   ],
   "source": [
    "dist[0,0]"
   ],
   "metadata": {
    "collapsed": false,
    "pycharm": {
     "name": "#%%\n"
    }
   }
  },
  {
   "cell_type": "code",
   "execution_count": 47,
   "outputs": [
    {
     "data": {
      "text/plain": "(array([11,  9, 10,  8,  5, 12,  7,  1,  2,  4,  3,  6], dtype=int64),\n array([0, 3, 1, 4, 2], dtype=int64))"
     },
     "execution_count": 47,
     "metadata": {},
     "output_type": "execute_result"
    }
   ],
   "source": [
    "json.type.unique(),json.inroi.unique()"
   ],
   "metadata": {
    "collapsed": false,
    "pycharm": {
     "name": "#%%\n"
    }
   }
  },
  {
   "cell_type": "code",
   "execution_count": 60,
   "outputs": [
    {
     "data": {
      "text/plain": "(11, 0)"
     },
     "execution_count": 60,
     "metadata": {},
     "output_type": "execute_result"
    }
   ],
   "source": [
    "tissueid = json.loc[0].type\n",
    "sectionid = json.loc[0].inroi\n",
    "tissueid,sectionid"
   ],
   "metadata": {
    "collapsed": false,
    "pycharm": {
     "name": "#%%\n"
    }
   }
  },
  {
   "cell_type": "code",
   "execution_count": 85,
   "outputs": [],
   "source": [
    "tissueid = tissueid-1"
   ],
   "metadata": {
    "collapsed": false,
    "pycharm": {
     "name": "#%%\n"
    }
   }
  },
  {
   "cell_type": "code",
   "execution_count": 86,
   "outputs": [
    {
     "data": {
      "text/plain": "1259553"
     },
     "execution_count": 86,
     "metadata": {},
     "output_type": "execute_result"
    }
   ],
   "source": [
    "df2.loc[sectionid][tissueid]"
   ],
   "metadata": {
    "collapsed": false,
    "pycharm": {
     "name": "#%%\n"
    }
   }
  },
  {
   "cell_type": "code",
   "execution_count": 101,
   "outputs": [],
   "source": [
    "def find_resident_area(tissueid,sectionid,dlareas):\n",
    "    if tissueid==12: tissueid = 10\n",
    "    tissueid = tissueid-1\n",
    "    return dlareas.loc[sectionid][tissueid]"
   ],
   "metadata": {
    "collapsed": false,
    "pycharm": {
     "name": "#%%\n"
    }
   }
  },
  {
   "cell_type": "code",
   "execution_count": 102,
   "outputs": [],
   "source": [
    "json['resident_area'] = json.apply(lambda x: find_resident_area(x.type,x.inroi,df2),axis=1)"
   ],
   "metadata": {
    "collapsed": false,
    "pycharm": {
     "name": "#%%\n"
    }
   }
  },
  {
   "cell_type": "code",
   "execution_count": 103,
   "outputs": [
    {
     "data": {
      "text/plain": "                                    bbox  \\\n0         [[3835, 14642], [3846, 14654]]   \n1           [[393, 18165], [401, 18176]]   \n2           [[940, 15650], [952, 15660]]   \n3           [[965, 16018], [978, 16039]]   \n4         [[1064, 15453], [1077, 15466]]   \n...                                  ...   \n106861  [[88288, 16531], [88307, 16542]]   \n106862  [[88292, 16618], [88308, 16635]]   \n106863  [[88292, 16556], [88307, 16570]]   \n106864  [[88297, 16515], [88310, 16523]]   \n106865  [[88302, 16536], [88317, 16553]]   \n\n                                        centroid  \\\n0                    [2360.0, 16128.29292929293]   \n1       [1785.5555555555557, 16780.537037037036]   \n2        [1318.536842105263, 15281.252631578947]   \n3       [1691.7692307692307, 15306.545454545454]   \n4        [1122.739837398374, 15406.032520325203]   \n...                                          ...   \n106861   [88215.72142857143, 16616.614285714284]   \n106862   [88306.23489932886, 16619.187919463086]   \n106863   [88242.78709677419, 16619.348387096776]   \n106864   [88198.01492537314, 16622.671641791043]   \n106865    [88224.45505617978, 16629.52808988764]   \n\n                                                  contour  type  inroi   Area  \\\n0       [[2360, 16123], [2358, 16125], [2357, 16125], ...    11      0   82.5   \n1       [[1788, 16777], [1787, 16778], [1784, 16778], ...    11      0   41.0   \n2       [[1317, 15276], [1316, 15277], [1315, 15277], ...    11      0   79.0   \n3       [[1684, 15301], [1682, 15303], [1682, 15305], ...    11      0  119.0   \n4       [[1121, 15400], [1118, 15403], [1118, 15404], ...    11      0  105.5   \n...                                                   ...   ...    ...    ...   \n106861  [[88216, 16608], [88215, 16609], [88215, 16610...     2      0  118.0   \n106862  [[88308, 16612], [88303, 16617], [88302, 16617...     2      0  127.0   \n106863  [[88244, 16612], [88243, 16613], [88242, 16613...     2      0  134.5   \n106864  [[88199, 16617], [88196, 16620], [88196, 16621...    10      0   52.0   \n106865  [[88226, 16622], [88225, 16623], [88224, 16623...     2      0  155.5   \n\n        Perimeter  Circularity         MA         ma  ...  AspectRatio  \\\n0       35.556349     0.820030  10.066992  11.375920  ...     0.884939   \n1       28.142135     0.650548   5.635116  10.319130  ...     0.546084   \n2       34.142135     0.851639   9.667659  11.070708  ...     0.873265   \n3       53.455844     0.523319   7.483922  23.127594  ...     0.323593   \n4       39.213203     0.862179  11.485838  12.052315  ...     0.952999   \n...           ...          ...        ...        ...  ...          ...   \n106861  47.798990     0.649015   7.665721  21.463095  ...     0.357158   \n106862  50.284271     0.631174   8.912759  20.030390  ...     0.444962   \n106863  45.213203     0.826802  11.504786  16.268103  ...     0.707199   \n106864  32.142135     0.632505   5.374184  14.881341  ...     0.361136   \n106865  50.041630     0.780328  10.762224  20.474709  ...     0.525635   \n\n             Sol    Extent    EquiDia  imID  dist2nearest        oriA  \\\n0       0.942857  0.625000  10.249013    12    523.003824   40.288479   \n1       0.872340  0.465909   7.225152    12    356.265351   53.662609   \n2       0.957576  0.658333  10.029253    12    232.467202   28.623020   \n3       0.853047  0.435897  12.309163    12    339.954409  107.223679   \n4       0.954751  0.624260  11.589943    12    184.382754   57.340168   \n...          ...       ...        ...   ...           ...         ...   \n106861  0.932806  0.564593  12.257335    12     15.811388   44.186386   \n106862  0.900709  0.466912  12.716187    12     15.264338   57.114277   \n106863  0.953901  0.640476  13.086280    12     20.591260   44.186386   \n106864  0.954128  0.500000   8.136858    12     18.027756   18.307768   \n106865  0.981073  0.609804  14.070847    12     15.811388   18.307768   \n\n              oriB  local_align  resident_area  \n0       169.040634     0.711506        1259553  \n1        22.568596     0.471928        1259553  \n2        92.032227     0.749728        1259553  \n3        22.030060     0.630231        1259553  \n4        71.713966     0.417430        1259553  \n...            ...          ...            ...  \n106861   26.518534     0.445695         754987  \n106862   48.256264     0.120804         754987  \n106863   12.256205     0.566185         754987  \n106864   44.186386     0.445695       14800956  \n106865   48.550285     0.441635         754987  \n\n[106866 rows x 21 columns]",
      "text/html": "<div>\n<style scoped>\n    .dataframe tbody tr th:only-of-type {\n        vertical-align: middle;\n    }\n\n    .dataframe tbody tr th {\n        vertical-align: top;\n    }\n\n    .dataframe thead th {\n        text-align: right;\n    }\n</style>\n<table border=\"1\" class=\"dataframe\">\n  <thead>\n    <tr style=\"text-align: right;\">\n      <th></th>\n      <th>bbox</th>\n      <th>centroid</th>\n      <th>contour</th>\n      <th>type</th>\n      <th>inroi</th>\n      <th>Area</th>\n      <th>Perimeter</th>\n      <th>Circularity</th>\n      <th>MA</th>\n      <th>ma</th>\n      <th>...</th>\n      <th>AspectRatio</th>\n      <th>Sol</th>\n      <th>Extent</th>\n      <th>EquiDia</th>\n      <th>imID</th>\n      <th>dist2nearest</th>\n      <th>oriA</th>\n      <th>oriB</th>\n      <th>local_align</th>\n      <th>resident_area</th>\n    </tr>\n  </thead>\n  <tbody>\n    <tr>\n      <th>0</th>\n      <td>[[3835, 14642], [3846, 14654]]</td>\n      <td>[2360.0, 16128.29292929293]</td>\n      <td>[[2360, 16123], [2358, 16125], [2357, 16125], ...</td>\n      <td>11</td>\n      <td>0</td>\n      <td>82.5</td>\n      <td>35.556349</td>\n      <td>0.820030</td>\n      <td>10.066992</td>\n      <td>11.375920</td>\n      <td>...</td>\n      <td>0.884939</td>\n      <td>0.942857</td>\n      <td>0.625000</td>\n      <td>10.249013</td>\n      <td>12</td>\n      <td>523.003824</td>\n      <td>40.288479</td>\n      <td>169.040634</td>\n      <td>0.711506</td>\n      <td>1259553</td>\n    </tr>\n    <tr>\n      <th>1</th>\n      <td>[[393, 18165], [401, 18176]]</td>\n      <td>[1785.5555555555557, 16780.537037037036]</td>\n      <td>[[1788, 16777], [1787, 16778], [1784, 16778], ...</td>\n      <td>11</td>\n      <td>0</td>\n      <td>41.0</td>\n      <td>28.142135</td>\n      <td>0.650548</td>\n      <td>5.635116</td>\n      <td>10.319130</td>\n      <td>...</td>\n      <td>0.546084</td>\n      <td>0.872340</td>\n      <td>0.465909</td>\n      <td>7.225152</td>\n      <td>12</td>\n      <td>356.265351</td>\n      <td>53.662609</td>\n      <td>22.568596</td>\n      <td>0.471928</td>\n      <td>1259553</td>\n    </tr>\n    <tr>\n      <th>2</th>\n      <td>[[940, 15650], [952, 15660]]</td>\n      <td>[1318.536842105263, 15281.252631578947]</td>\n      <td>[[1317, 15276], [1316, 15277], [1315, 15277], ...</td>\n      <td>11</td>\n      <td>0</td>\n      <td>79.0</td>\n      <td>34.142135</td>\n      <td>0.851639</td>\n      <td>9.667659</td>\n      <td>11.070708</td>\n      <td>...</td>\n      <td>0.873265</td>\n      <td>0.957576</td>\n      <td>0.658333</td>\n      <td>10.029253</td>\n      <td>12</td>\n      <td>232.467202</td>\n      <td>28.623020</td>\n      <td>92.032227</td>\n      <td>0.749728</td>\n      <td>1259553</td>\n    </tr>\n    <tr>\n      <th>3</th>\n      <td>[[965, 16018], [978, 16039]]</td>\n      <td>[1691.7692307692307, 15306.545454545454]</td>\n      <td>[[1684, 15301], [1682, 15303], [1682, 15305], ...</td>\n      <td>11</td>\n      <td>0</td>\n      <td>119.0</td>\n      <td>53.455844</td>\n      <td>0.523319</td>\n      <td>7.483922</td>\n      <td>23.127594</td>\n      <td>...</td>\n      <td>0.323593</td>\n      <td>0.853047</td>\n      <td>0.435897</td>\n      <td>12.309163</td>\n      <td>12</td>\n      <td>339.954409</td>\n      <td>107.223679</td>\n      <td>22.030060</td>\n      <td>0.630231</td>\n      <td>1259553</td>\n    </tr>\n    <tr>\n      <th>4</th>\n      <td>[[1064, 15453], [1077, 15466]]</td>\n      <td>[1122.739837398374, 15406.032520325203]</td>\n      <td>[[1121, 15400], [1118, 15403], [1118, 15404], ...</td>\n      <td>11</td>\n      <td>0</td>\n      <td>105.5</td>\n      <td>39.213203</td>\n      <td>0.862179</td>\n      <td>11.485838</td>\n      <td>12.052315</td>\n      <td>...</td>\n      <td>0.952999</td>\n      <td>0.954751</td>\n      <td>0.624260</td>\n      <td>11.589943</td>\n      <td>12</td>\n      <td>184.382754</td>\n      <td>57.340168</td>\n      <td>71.713966</td>\n      <td>0.417430</td>\n      <td>1259553</td>\n    </tr>\n    <tr>\n      <th>...</th>\n      <td>...</td>\n      <td>...</td>\n      <td>...</td>\n      <td>...</td>\n      <td>...</td>\n      <td>...</td>\n      <td>...</td>\n      <td>...</td>\n      <td>...</td>\n      <td>...</td>\n      <td>...</td>\n      <td>...</td>\n      <td>...</td>\n      <td>...</td>\n      <td>...</td>\n      <td>...</td>\n      <td>...</td>\n      <td>...</td>\n      <td>...</td>\n      <td>...</td>\n      <td>...</td>\n    </tr>\n    <tr>\n      <th>106861</th>\n      <td>[[88288, 16531], [88307, 16542]]</td>\n      <td>[88215.72142857143, 16616.614285714284]</td>\n      <td>[[88216, 16608], [88215, 16609], [88215, 16610...</td>\n      <td>2</td>\n      <td>0</td>\n      <td>118.0</td>\n      <td>47.798990</td>\n      <td>0.649015</td>\n      <td>7.665721</td>\n      <td>21.463095</td>\n      <td>...</td>\n      <td>0.357158</td>\n      <td>0.932806</td>\n      <td>0.564593</td>\n      <td>12.257335</td>\n      <td>12</td>\n      <td>15.811388</td>\n      <td>44.186386</td>\n      <td>26.518534</td>\n      <td>0.445695</td>\n      <td>754987</td>\n    </tr>\n    <tr>\n      <th>106862</th>\n      <td>[[88292, 16618], [88308, 16635]]</td>\n      <td>[88306.23489932886, 16619.187919463086]</td>\n      <td>[[88308, 16612], [88303, 16617], [88302, 16617...</td>\n      <td>2</td>\n      <td>0</td>\n      <td>127.0</td>\n      <td>50.284271</td>\n      <td>0.631174</td>\n      <td>8.912759</td>\n      <td>20.030390</td>\n      <td>...</td>\n      <td>0.444962</td>\n      <td>0.900709</td>\n      <td>0.466912</td>\n      <td>12.716187</td>\n      <td>12</td>\n      <td>15.264338</td>\n      <td>57.114277</td>\n      <td>48.256264</td>\n      <td>0.120804</td>\n      <td>754987</td>\n    </tr>\n    <tr>\n      <th>106863</th>\n      <td>[[88292, 16556], [88307, 16570]]</td>\n      <td>[88242.78709677419, 16619.348387096776]</td>\n      <td>[[88244, 16612], [88243, 16613], [88242, 16613...</td>\n      <td>2</td>\n      <td>0</td>\n      <td>134.5</td>\n      <td>45.213203</td>\n      <td>0.826802</td>\n      <td>11.504786</td>\n      <td>16.268103</td>\n      <td>...</td>\n      <td>0.707199</td>\n      <td>0.953901</td>\n      <td>0.640476</td>\n      <td>13.086280</td>\n      <td>12</td>\n      <td>20.591260</td>\n      <td>44.186386</td>\n      <td>12.256205</td>\n      <td>0.566185</td>\n      <td>754987</td>\n    </tr>\n    <tr>\n      <th>106864</th>\n      <td>[[88297, 16515], [88310, 16523]]</td>\n      <td>[88198.01492537314, 16622.671641791043]</td>\n      <td>[[88199, 16617], [88196, 16620], [88196, 16621...</td>\n      <td>10</td>\n      <td>0</td>\n      <td>52.0</td>\n      <td>32.142135</td>\n      <td>0.632505</td>\n      <td>5.374184</td>\n      <td>14.881341</td>\n      <td>...</td>\n      <td>0.361136</td>\n      <td>0.954128</td>\n      <td>0.500000</td>\n      <td>8.136858</td>\n      <td>12</td>\n      <td>18.027756</td>\n      <td>18.307768</td>\n      <td>44.186386</td>\n      <td>0.445695</td>\n      <td>14800956</td>\n    </tr>\n    <tr>\n      <th>106865</th>\n      <td>[[88302, 16536], [88317, 16553]]</td>\n      <td>[88224.45505617978, 16629.52808988764]</td>\n      <td>[[88226, 16622], [88225, 16623], [88224, 16623...</td>\n      <td>2</td>\n      <td>0</td>\n      <td>155.5</td>\n      <td>50.041630</td>\n      <td>0.780328</td>\n      <td>10.762224</td>\n      <td>20.474709</td>\n      <td>...</td>\n      <td>0.525635</td>\n      <td>0.981073</td>\n      <td>0.609804</td>\n      <td>14.070847</td>\n      <td>12</td>\n      <td>15.811388</td>\n      <td>18.307768</td>\n      <td>48.550285</td>\n      <td>0.441635</td>\n      <td>754987</td>\n    </tr>\n  </tbody>\n</table>\n<p>106866 rows × 21 columns</p>\n</div>"
     },
     "execution_count": 103,
     "metadata": {},
     "output_type": "execute_result"
    }
   ],
   "source": [
    "json"
   ],
   "metadata": {
    "collapsed": false,
    "pycharm": {
     "name": "#%%\n"
    }
   }
  }
 ],
 "metadata": {
  "kernelspec": {
   "display_name": "Python 3",
   "language": "python",
   "name": "python3"
  },
  "language_info": {
   "codemirror_mode": {
    "name": "ipython",
    "version": 2
   },
   "file_extension": ".py",
   "mimetype": "text/x-python",
   "name": "python",
   "nbconvert_exporter": "python",
   "pygments_lexer": "ipython2",
   "version": "2.7.6"
  }
 },
 "nbformat": 4,
 "nbformat_minor": 0
}