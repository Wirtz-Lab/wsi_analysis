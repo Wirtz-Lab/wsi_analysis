{
 "cells": [
  {
   "cell_type": "code",
   "execution_count": 46,
   "outputs": [],
   "source": [
    "from os import listdir, makedirs\n",
    "from math import ceil\n",
    "import numpy as np\n",
    "from PIL import Image\n",
    "from os.path import join"
   ],
   "metadata": {
    "collapsed": false,
    "pycharm": {
     "name": "#%%\n"
    }
   }
  },
  {
   "cell_type": "code",
   "execution_count": 45,
   "outputs": [
    {
     "data": {
      "text/plain": "'\\\\\\\\fatherserverdw\\\\Q\\\\research\\\\images\\\\CLUE\\\\3D study\\\\he\\\\1.25x'"
     },
     "execution_count": 45,
     "metadata": {},
     "output_type": "execute_result"
    }
   ],
   "source": [
    "pth = r'\\\\fatherserverdw\\Q\\research\\images\\CLUE\\3D study\\he\\1.25x'\n",
    "pth"
   ],
   "metadata": {
    "collapsed": false,
    "pycharm": {
     "name": "#%%\n"
    }
   }
  },
  {
   "cell_type": "code",
   "execution_count": 22,
   "outputs": [],
   "source": [
    "# set default values\n",
    "sk = 1\n",
    "E = 1\n",
    "IHC = 0\n",
    "tpout = 'tif'"
   ],
   "metadata": {
    "collapsed": false,
    "pycharm": {
     "name": "#%%\n"
    }
   }
  },
  {
   "cell_type": "code",
   "execution_count": 9,
   "outputs": [
    {
     "data": {
      "text/plain": "['100C1.jpg',\n '10C1.jpg',\n '13C1.jpg',\n '16C1.jpg',\n '19C1.jpg',\n '1C1.jpg',\n '22C1.jpg',\n '25C1.jpg',\n '28C1.jpg',\n '31C1.jpg',\n '34C1.jpg',\n '37C1.jpg',\n '40C1.jpg',\n '43C1.jpg',\n '46C1.jpg',\n '49C1.jpg',\n '4C1.jpg',\n '52C1.jpg',\n '55C1.jpg',\n '58C1.jpg',\n '61C1.jpg',\n '64C1.jpg',\n '67C1.jpg',\n '70C1.jpg',\n '73C1.jpg',\n '76C1.jpg',\n '79C1.jpg',\n '7C1.jpg',\n '82C1.jpg',\n '85C1.jpg',\n '88C1.jpg',\n '91C1.jpg',\n '94C1.jpg',\n '97C1.jpg']"
     },
     "execution_count": 9,
     "metadata": {},
     "output_type": "execute_result"
    }
   ],
   "source": [
    "# get image list\n",
    "imlist = []\n",
    "for file in listdir(pth):\n",
    "    if file.endswith(\".jpg\"):\n",
    "        imlist.append(file)\n",
    "imlist"
   ],
   "metadata": {
    "collapsed": false,
    "pycharm": {
     "name": "#%%\n"
    }
   }
  },
  {
   "cell_type": "code",
   "execution_count": 15,
   "outputs": [
    {
     "data": {
      "text/plain": "17"
     },
     "execution_count": 15,
     "metadata": {},
     "output_type": "execute_result"
    }
   ],
   "source": [
    "# set default values\n",
    "zc = ceil(len(imlist)/2);\n",
    "zc"
   ],
   "metadata": {
    "collapsed": false,
    "pycharm": {
     "name": "#%%\n"
    }
   }
  },
  {
   "cell_type": "code",
   "execution_count": 29,
   "outputs": [
    {
     "name": "stdout",
     "output_type": "stream",
     "text": [
      "[17, 16, 15, 14, 13, 12, 11, 10, 9, 8, 7, 6, 5, 4, 3, 2, 17, 18, 19, 20, 21, 22, 23, 24, 25, 26, 27, 28, 29, 30, 31, 32, 33, 0]\n",
      "[16, 15, 14, 13, 12, 11, 10, 9, 8, 7, 6, 5, 4, 3, 2, 18, 19, 20, 21, 22, 23, 24, 25, 26, 27, 28, 29, 30, 31, 32, 33, 34]\n"
     ]
    }
   ],
   "source": [
    "# calculate center image and order\n",
    "rf= np.arange(zc,1,-sk).tolist() + np.arange(zc,len(imlist),sk).tolist() + [0]\n",
    "mv=np.arange(zc-sk,1,-sk).tolist() + np.arange(zc+sk,len(imlist)+1,sk).tolist()"
   ],
   "metadata": {
    "collapsed": false,
    "pycharm": {
     "name": "#%%\n"
    }
   }
  },
  {
   "cell_type": "code",
   "execution_count": 31,
   "outputs": [],
   "source": [
    "# elastic registration settings\n",
    "regE_szE = 551\n",
    "regE_bfE = 100\n",
    "regE_diE = 175"
   ],
   "metadata": {
    "collapsed": false,
    "pycharm": {
     "name": "#%%\n"
    }
   }
  },
  {
   "cell_type": "code",
   "execution_count": 38,
   "outputs": [
    {
     "data": {
      "text/plain": "[2793, 5606]"
     },
     "execution_count": 38,
     "metadata": {},
     "output_type": "execute_result"
    }
   ],
   "source": [
    "# find max size of images in list\n",
    "width = []\n",
    "height = []\n",
    "for kk in range(len(imlist)):\n",
    "    impath = join(pth, imlist[kk])\n",
    "    w,h = Image.open(impath).size\n",
    "    width.append(w)\n",
    "    height.append(h)\n",
    "szz = [max(height),max(width)]"
   ],
   "metadata": {
    "collapsed": false,
    "pycharm": {
     "name": "#%%\n"
    }
   }
  },
  {
   "cell_type": "code",
   "execution_count": 41,
   "outputs": [
    {
     "data": {
      "text/plain": "6"
     },
     "execution_count": 41,
     "metadata": {},
     "output_type": "execute_result"
    }
   ],
   "source": [
    "# global registration settings\n",
    "padall=200 # padding around all images\n",
    "if IHC==1:\n",
    "    rsc=4\n",
    "elif IHC==2:\n",
    "    rsc=10\n",
    "else:\n",
    "    rsc=6\n",
    "\n",
    "iternum=5 # max iterations of registration calculation"
   ],
   "metadata": {
    "collapsed": false,
    "pycharm": {
     "name": "#%%\n"
    }
   }
  },
  {
   "cell_type": "code",
   "execution_count": 43,
   "outputs": [
    {
     "data": {
      "text/plain": "'\\\\\\\\fatherserverdw\\\\Q\\\\research\\\\images\\\\CLUE\\\\3D study\\\\he\\\\1.25x\\\\registered'"
     },
     "execution_count": 43,
     "metadata": {},
     "output_type": "execute_result"
    }
   ],
   "source": [
    "# define outputs\n",
    "outpthG=join(pth, 'registered')\n",
    "outpthE=join(outpthG, 'elastic registration')\n",
    "matpth=join(outpthE,'save_warps')\n",
    "#makedirs(outpthG)\n",
    "#makedirs(matpth)"
   ],
   "metadata": {
    "collapsed": false,
    "pycharm": {
     "name": "#%%\n"
    }
   }
  },
  {
   "cell_type": "code",
   "execution_count": 48,
   "outputs": [
    {
     "data": {
      "text/plain": "'52C1.'"
     },
     "execution_count": 48,
     "metadata": {},
     "output_type": "execute_result"
    }
   ],
   "source": [
    "# set up center image\n",
    "nm=imlist[zc][0:-3]\n",
    "#[imzc,TAzc]=get_ims(pth,nm,tp);\n",
    "#[imzc,imzcg,TAzc]=preprocessing(imzc,TAzc,szz,padall,IHC);\n",
    "#disp(['Reference image: ',nm])\n",
    "nm"
   ],
   "metadata": {
    "collapsed": false,
    "pycharm": {
     "name": "#%%\n"
    }
   }
  },
  {
   "cell_type": "code",
   "execution_count": null,
   "outputs": [],
   "source": [],
   "metadata": {
    "collapsed": false,
    "pycharm": {
     "name": "#%%\n"
    }
   }
  }
 ],
 "metadata": {
  "kernelspec": {
   "display_name": "Python 3",
   "language": "python",
   "name": "python3"
  },
  "language_info": {
   "codemirror_mode": {
    "name": "ipython",
    "version": 2
   },
   "file_extension": ".py",
   "mimetype": "text/x-python",
   "name": "python",
   "nbconvert_exporter": "python",
   "pygments_lexer": "ipython2",
   "version": "2.7.6"
  }
 },
 "nbformat": 4,
 "nbformat_minor": 0
}