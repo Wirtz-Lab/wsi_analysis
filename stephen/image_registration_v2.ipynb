{
 "cells": [
  {
   "cell_type": "code",
   "execution_count": null,
   "metadata": {
    "collapsed": true
   },
   "outputs": [],
   "source": [
    "import cv2\n",
    "import numpy as np\n",
    "from os import listdir\n",
    "from os.path import isfile, join\n",
    "from natsort import os_sorted\n",
    "from PIL import Image\n",
    "\n",
    "path = r'\\\\fatherserverdw\\Q\\research\\images\\CLUE\\3D study\\he\\1.25x\\divided\\TA1\\resize'\n",
    "filenames = listdir(path)\n",
    "filenames = os_sorted(filenames)\n",
    "impath0 = join(path, filenames[0]) # first image (reference)\n",
    "impath1 = join(path, filenames[1]) # second image\n",
    "\n",
    "# Open the image files.\n",
    "img1_color = cv2.imread(impath1)  # Image to be aligned.\n",
    "img2_color = cv2.imread(impath0)    # Reference image.\n",
    "\n",
    "# Convert to grayscale.\n",
    "img1 = cv2.cvtColor(img1_color, cv2.COLOR_BGR2GRAY)\n",
    "img2 = cv2.cvtColor(img2_color, cv2.COLOR_BGR2GRAY)\n",
    "height, width = img2.shape\n",
    "\n",
    "# Create ORB detector with 5000 features.\n",
    "orb_detector = cv2.ORB_create(5000)\n",
    "\n",
    "# Find keypoints and descriptors.\n",
    "# The first arg is the image, second arg is the mask\n",
    "#  (which is not required in this case).\n",
    "kp1, d1 = orb_detector.detectAndCompute(img1, None)\n",
    "kp2, d2 = orb_detector.detectAndCompute(img2, None)\n",
    "\n",
    "# Match features between the two images.\n",
    "# We create a Brute Force matcher with\n",
    "# Hamming distance as measurement mode.\n",
    "matcher = cv2.BFMatcher(cv2.NORM_HAMMING, crossCheck = True)\n",
    "\n",
    "# Match the two sets of descriptors.\n",
    "matches = matcher.match(d1, d2)\n",
    "\n",
    "# Sort matches on the basis of their Hamming distance.\n",
    "matches.sort(key = lambda x: x.distance)\n",
    "\n",
    "# Take the top 90 % matches forward.\n",
    "matches = matches[:int(len(matches)*0.9)]\n",
    "no_of_matches = len(matches)\n",
    "\n",
    "# Define empty matrices of shape no_of_matches * 2.\n",
    "p1 = np.zeros((no_of_matches, 2))\n",
    "p2 = np.zeros((no_of_matches, 2))\n",
    "\n",
    "for i in range(len(matches)):\n",
    "  p1[i, :] = kp1[matches[i].queryIdx].pt\n",
    "  p2[i, :] = kp2[matches[i].trainIdx].pt\n",
    "\n",
    "# Find the homography matrix.\n",
    "homography, mask = cv2.findHomography(p1, p2, cv2.RANSAC)\n",
    "\n",
    "# Use this matrix to transform the\n",
    "# colored image wrt the reference image.\n",
    "transformed_img = cv2.warpPerspective(img1_color,\n",
    "                    homography, (width, height))\n",
    "\n",
    "# Save the output.\n",
    "# cv2.imwrite('output.jpg', transformed_img)"
   ]
  },
  {
   "cell_type": "code",
   "execution_count": null,
   "outputs": [],
   "source": [
    "ax0.imshow(img1_color)\n",
    "ax0.set_title(\"Image to be aligned\")\n",
    "ax0.set_axis_off()\n",
    "\n",
    "ax1.imshow(img2_color)\n",
    "ax1.set_title(\"Reference\")\n",
    "ax1.set_axis_off()\n",
    "\n",
    "ax2.imshow(transformed_img)\n",
    "ax2.set_title(\"Transformed\")\n",
    "ax2.set_axis_off()\n",
    "\n",
    "fig.tight_layout()"
   ],
   "metadata": {
    "collapsed": false,
    "pycharm": {
     "name": "#%%\n"
    }
   }
  }
 ],
 "metadata": {
  "kernelspec": {
   "display_name": "Python 3",
   "language": "python",
   "name": "python3"
  },
  "language_info": {
   "codemirror_mode": {
    "name": "ipython",
    "version": 2
   },
   "file_extension": ".py",
   "mimetype": "text/x-python",
   "name": "python",
   "nbconvert_exporter": "python",
   "pygments_lexer": "ipython2",
   "version": "2.7.6"
  }
 },
 "nbformat": 4,
 "nbformat_minor": 0
}