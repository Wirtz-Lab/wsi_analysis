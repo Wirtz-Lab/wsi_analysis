{
 "cells": [
  {
   "cell_type": "code",
   "execution_count": 1,
   "outputs": [],
   "source": [
    "import pandas as pd\n",
    "import xml.etree.ElementTree as ET\n",
    "import os\n",
    "import numpy as np"
   ],
   "metadata": {
    "collapsed": false,
    "pycharm": {
     "name": "#%%\n"
    }
   }
  },
  {
   "cell_type": "code",
   "execution_count": 2,
   "outputs": [],
   "source": [
    "src = os.path.expanduser('/Users/ashleyliu/PycharmProjects/wirtzlab_imageprocess')  #raw string of path\n",
    "fn = '1C1.xml'\n",
    "pth = os.path.join(src, fn)\n",
    "pth\n",
    "tree = ET.parse(pth)\n",
    "root = tree.getroot()\n",
    "\n",
    "# iterate each class\n",
    "# iterate each \"circle\"\n",
    "# collect XY coordinates into numpy list\n",
    "# construct a dataframe\n",
    "\n",
    "# col1: class-name \"corneum\", \"spinosum\", etc\n",
    "# col2: object ID 1,2,3,4,...\n",
    "# col3: numpy coord list of XY\n",
    "\n",
    "\n",
    "#create two arrays to hold name and idx\n",
    "name_arr,Idx_arr, vertex_arr= [],[],[]\n",
    "\n",
    "df_cols = [\"Name\", \"ID\", \"Coord\"]\n",
    "rows = []"
   ],
   "metadata": {
    "collapsed": false,
    "pycharm": {
     "name": "#%%\n"
    }
   }
  },
  {
   "cell_type": "code",
   "execution_count": 3,
   "outputs": [],
   "source": [
    "# iterate each class\n",
    "for child in root:  #interate through the 12 classes\n",
    "    name_id = child.attrib['Id']\n",
    "\n",
    "    #for neighbor in root.iter('Vertices'):\n",
    "    # Hard-coding\n",
    "    id_to_name = {\n",
    "        '1': 'corneum',\n",
    "        '2': 'spinosum',\n",
    "        '3': 'hairshaft',\n",
    "        '4': 'hairfollicle',\n",
    "        '5': 'smoothmuscle',\n",
    "        '6': 'oil',\n",
    "        '7': 'sweat',\n",
    "        '8': 'nerve',\n",
    "        '9': 'bloodvessel',\n",
    "        '10': 'ecm',\n",
    "        '11': 'fat',\n",
    "        '12': 'white'}\n",
    "\n",
    "    name_str = id_to_name[name_id]  #string name\n",
    "    # iterate each \"circle\"\n",
    "    for region in child.iter('Region'):  #region in child\n",
    "        #TODO:create numpy array of x,y\n",
    "        temp_arr = []\n",
    "        #initialize vertex\n",
    "        vertex_arr = []\n",
    "        idx = region.attrib['Id']  #idx for each region in attribute\n",
    "\n",
    "        # collect XY coordinates into numpy list\n",
    "        for coord in child.iter('Vertex'): #vertex in each region\n",
    "            xy = np.array([[coord.attrib['X'],coord.attrib['Y']]])\n",
    "            vertex_arr.append(xy)\n",
    "\n",
    "        #name_arr.append(name_str)\n",
    "        #Idx_arr.append(idx)\n",
    "\n",
    "        #this is the numpy array of xy coordinates\n",
    "        np_vertex = np.array(vertex_arr)\n",
    "        #append everything to rows\n",
    "        rows.append({\"Name\":name_str, \"ID\": idx,\n",
    "                 \"Coord\": np_vertex})\n",
    "\n",
    "\n",
    "    #name = np.array(name_arr)\n",
    "    #Idx = np.array(Idx_arr)\n"
   ],
   "metadata": {
    "collapsed": false,
    "pycharm": {
     "name": "#%%\n"
    }
   }
  },
  {
   "cell_type": "code",
   "execution_count": 4,
   "outputs": [],
   "source": [
    "#generate data frame\n",
    "\n",
    "out_df = pd.DataFrame(rows, columns = df_cols)\n",
    "out_df.to_pickle('1C1.pkl')"
   ],
   "metadata": {
    "collapsed": false,
    "pycharm": {
     "name": "#%%\n"
    }
   }
  },
  {
   "cell_type": "code",
   "execution_count": 5,
   "outputs": [],
   "source": [
    "out_df.to_csv('1C1.cvs')\n",
    "out_df.to_excel('1C1.xlsx')"
   ],
   "metadata": {
    "collapsed": false,
    "pycharm": {
     "name": "#%%\n"
    }
   }
  },
  {
   "cell_type": "code",
   "execution_count": 5,
   "outputs": [],
   "source": [],
   "metadata": {
    "collapsed": false,
    "pycharm": {
     "name": "#%%\n"
    }
   }
  }
 ],
 "metadata": {
  "kernelspec": {
   "display_name": "Python 3",
   "language": "python",
   "name": "python3"
  },
  "language_info": {
   "codemirror_mode": {
    "name": "ipython",
    "version": 2
   },
   "file_extension": ".py",
   "mimetype": "text/x-python",
   "name": "python",
   "nbconvert_exporter": "python",
   "pygments_lexer": "ipython2",
   "version": "2.7.6"
  }
 },
 "nbformat": 4,
 "nbformat_minor": 0
}