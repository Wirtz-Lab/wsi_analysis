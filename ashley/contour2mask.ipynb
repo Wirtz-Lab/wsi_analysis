{
 "cells": [
  {
   "cell_type": "code",
   "execution_count": 24,
   "outputs": [],
   "source": [
    "import pandas as pd\n",
    "import numpy as np\n",
    "from PIL import Image, ImageDraw\n",
    "Image.MAX_IMAGE_PIXELS = None\n",
    "from openslide import OpenSlide\n",
    "from matplotlib import pyplot as plt\n",
    "import os\n",
    "from skimage import measure\n",
    "from copy import deepcopy\n",
    "import cv2"
   ],
   "metadata": {
    "collapsed": false,
    "pycharm": {
     "name": "#%%\n"
    }
   }
  },
  {
   "cell_type": "code",
   "execution_count": 25,
   "outputs": [],
   "source": [
    "# read annotation\n",
    "csvobj = pd.read_pickle('1C1.pkl')\n",
    "# read image size\n",
    "impth = r'\\\\fatherserverdw\\Q\\research\\images\\CLUE\\3D study\\he\\c1\\1C1.ndpi'\n",
    "imageobj = OpenSlide(impth)\n",
    "image_size = imageobj.dimensions\n",
    "(width,height) = image_size\n",
    "img = Image.new('L', (round(width), round(height)), 0) #0 for default pixel value"
   ],
   "metadata": {
    "collapsed": false,
    "pycharm": {
     "name": "#%%\n"
    }
   }
  },
  {
   "cell_type": "code",
   "execution_count": 26,
   "outputs": [
    {
     "data": {
      "text/plain": "<Figure size 432x288 with 1 Axes>",
      "image/png": "[encoded data removed]"
     },
     "metadata": {
      "needs_background": "light"
     },
     "output_type": "display_data"
    }
   ],
   "source": [
    "iter_order = [2,10,5,4,6,11,7,9,8,12,3,1]\n",
    "for i in iter_order:\n",
    "    row = csvobj.iloc[i - 1]\n",
    "    color = i\n",
    "    xycoord = np.squeeze(row['Coord'].astype('uint32'))\n",
    "    plt.scatter(xycoord[:,0],xycoord[:,1]) #(x,y) this is right because (0,0) is the bottom left of the plot\n",
    "    xycoord = list(zip(xycoord[:,0],xycoord[:,1])) #turn [[,]] into tuples (x,y)\n",
    "    ImageDraw.Draw(img).polygon(xycoord, outline=None, fill=color) #this fill value should be class ID"
   ],
   "metadata": {
    "collapsed": false,
    "pycharm": {
     "name": "#%%\n"
    }
   }
  },
  {
   "cell_type": "markdown",
   "source": [],
   "metadata": {
    "collapsed": false
   }
  },
  {
   "cell_type": "code",
   "execution_count": 27,
   "outputs": [],
   "source": [
    "img2 = img.resize((round(width/10),round(height/10)),resample=0) #nearest method to preserve pixel value, 0=NEAREST\n",
    "dstfn = '1C1.png'\n",
    "img2.save(dstfn)"
   ],
   "metadata": {
    "collapsed": false,
    "pycharm": {
     "name": "#%%\n"
    }
   }
  },
  {
   "cell_type": "code",
   "execution_count": 28,
   "outputs": [],
   "source": [
    "# open both wsi and annotation map\n",
    "wsi_src = os.path.expanduser(r'\\\\fatherserverdw\\Q\\research\\images\\CLUE\\3D study\\he\\c1')\n",
    "wsi_fn = '1C1.ndpi'\n",
    "wsipath = os.path.join(wsi_src, wsi_fn)\n",
    "\n",
    "#anno_src = os.path.expanduser(r'\\\\Users\\kyuha\\PycharmProjects\\wsi_analysis\\ashley')\n",
    "#anno_fn = '1C1temp.png'\n",
    "#annotation_map_path = os.path.join(anno_src, anno_fn)\n",
    "wsi = OpenSlide(wsipath)\n",
    "annotation = Image.open('1C1.png') #convert to greyscale?"
   ],
   "metadata": {
    "collapsed": false,
    "pycharm": {
     "name": "#%%\n"
    }
   }
  },
  {
   "cell_type": "code",
   "execution_count": 42,
   "outputs": [
    {
     "ename": "TypeError",
     "evalue": "'tuple' object is not callable",
     "output_type": "error",
     "traceback": [
      "\u001B[1;31m---------------------------------------------------------------------------\u001B[0m",
      "\u001B[1;31mTypeError\u001B[0m                                 Traceback (most recent call last)",
      "\u001B[1;32m<ipython-input-42-9aa0e962b7c4>\u001B[0m in \u001B[0;36m<module>\u001B[1;34m\u001B[0m\n\u001B[0;32m     47\u001B[0m         \u001B[1;31m#TODO: smooth objmask 3, (try fillConvexPoly method for python (convex hull)???)\u001B[0m\u001B[1;33m\u001B[0m\u001B[1;33m\u001B[0m\u001B[1;33m\u001B[0m\u001B[0m\n\u001B[0;32m     48\u001B[0m         \u001B[1;31m#trying to loop through each pixel and add new pixel in between\u001B[0m\u001B[1;33m\u001B[0m\u001B[1;33m\u001B[0m\u001B[1;33m\u001B[0m\u001B[0m\n\u001B[1;32m---> 49\u001B[1;33m         \u001B[0mlist\u001B[0m\u001B[1;33m(\u001B[0m\u001B[0mobjmask3\u001B[0m\u001B[1;33m.\u001B[0m\u001B[0mshape\u001B[0m\u001B[1;33m(\u001B[0m\u001B[1;33m)\u001B[0m\u001B[1;33m)\u001B[0m\u001B[1;33m\u001B[0m\u001B[1;33m\u001B[0m\u001B[0m\n\u001B[0m\u001B[0;32m     50\u001B[0m         \u001B[1;31m#for pix in objmask3:\u001B[0m\u001B[1;33m\u001B[0m\u001B[1;33m\u001B[0m\u001B[1;33m\u001B[0m\u001B[0m\n\u001B[0;32m     51\u001B[0m \u001B[1;33m\u001B[0m\u001B[0m\n",
      "\u001B[1;31mTypeError\u001B[0m: 'tuple' object is not callable"
     ]
    }
   ],
   "source": [
    "# iterate each class and each annotation object to make a crop\n",
    "for classid in iter_order:\n",
    "    annotation2crop = np.zeros_like(annotation)\n",
    "    #all annotation for the current class id\n",
    "    annotation2crop[np.array(annotation) == classid] = 1\n",
    "    labeled_map = measure.label(annotation2crop)\n",
    "    #regionprops has properties of the label\n",
    "    regionprops = measure.regionprops(labeled_map)\n",
    "    #bounboxes is a tuple, (min_row, min_col, max_row, max_col)\n",
    "    boundboxes = list()\n",
    "    for region in regionprops[0:1]:\n",
    "        boundboxes.append(region.bbox)\n",
    "\n",
    "\n",
    "    for objID, boundbox in enumerate(boundboxes[0:1]):\n",
    "        #crop at the boundaries\n",
    "        objmask =  deepcopy(labeled_map)\n",
    "        objmask[objmask!=objID+1] = 0\n",
    "        objmask[objmask==objID+1] = 1\n",
    "        boundbox = [_*10 for _ in boundbox] #enlarge by 10, og boundbox\n",
    "\n",
    "\n",
    "\n",
    "        #TODO: convert boundbox1 to level 2\n",
    "        #conversion ratio\n",
    "        rsf = int(wsi.level_downsamples[2])\n",
    "        boundbox1 = np.multiply(boundbox,rsf)\n",
    "\n",
    "        objmask = objmask[boundbox[0]:boundbox[2],boundbox[1]:boundbox[3]]\n",
    "        h,w= boundbox[2]-boundbox[0], boundbox[3]-boundbox[1]\n",
    "\n",
    "        #read cropped region\n",
    "        imcrop = wsi.read_region(location=(boundbox[1],boundbox[0]),level=0,size=(w,h)).convert('RGB') #use level 2, more zoomed in\n",
    "        imcrop = np.array(imcrop)\n",
    "\n",
    "        #create mask to crop out the extra space around the annotation\n",
    "        objmask = deepcopy(labeled_map)\n",
    "        objmask[objmask!=1] = 0\n",
    "        objmask[objmask==1] = 1\n",
    "        boundbox = [round(_/10) for _ in boundbox] #downsize by 10\n",
    "        objmask2 = objmask[boundbox[0]:boundbox[2],boundbox[1]:boundbox[3]] #crop out the objmask2, typecast to integer\n",
    "\n",
    "        #enlarge objmask2 by 10 to get objmask3, take transpose of objmask3 to get objmask4\n",
    "        new_shape = list(objmask2.shape)\n",
    "        new_shape = [_*10 for _ in new_shape]\n",
    "        objmask3 = cv2.resize(objmask2.astype(np.float),tuple(new_shape), interpolation = cv2.INTER_NEAREST) #NEAREST preserves pixel value\n",
    "\n",
    "\n",
    "        #TODO: smooth objmask 3, (try fillConvexPoly method for python (convex hull)???)\n",
    "        #trying to loop through each pixel and add new pixel in between\n",
    "        #objmask3 is a binary image array filled with 0 and 1s\n",
    "        for pix in objmask3: \n",
    "\n",
    "\n",
    "\n",
    "\n",
    "\n",
    "\n",
    "\n",
    "\n",
    "        objmask4 = np.dstack([objmask3.transpose()]*3) #change shape of objmask3\n",
    "\n",
    "        objmask3[objmask3==1]=classid #Question: what does this do again?\n",
    "\n",
    "        #crop out the area outside the annotation using multiplication\n",
    "        imcrop_masked = np.multiply(objmask4,imcrop)\n",
    "\n",
    "        #Image.fromarray((imcrop_masked).astype(np.uint8)).save('imcrop/class{}_obj{}.png'.format(classid,objID))\n",
    "        #Image.fromarray(objmask3.astype(np.uint8)).save('mskcrop/class{}_obj{}.png'.format(classid,objID))"
   ],
   "metadata": {
    "collapsed": false,
    "pycharm": {
     "name": "#%%\n"
    }
   }
  },
  {
   "cell_type": "code",
   "execution_count": null,
   "outputs": [],
   "source": [],
   "metadata": {
    "collapsed": false,
    "pycharm": {
     "name": "#%%\n"
    }
   }
  }
 ],
 "metadata": {
  "kernelspec": {
   "display_name": "Python 3",
   "language": "python",
   "name": "python3"
  },
  "language_info": {
   "codemirror_mode": {
    "name": "ipython",
    "version": 2
   },
   "file_extension": ".py",
   "mimetype": "text/x-python",
   "name": "python",
   "nbconvert_exporter": "python",
   "pygments_lexer": "ipython2",
   "version": "2.7.6"
  }
 },
 "nbformat": 4,
 "nbformat_minor": 0
}