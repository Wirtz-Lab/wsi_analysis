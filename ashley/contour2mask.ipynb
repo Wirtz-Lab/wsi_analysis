{
 "cells": [
  {
   "cell_type": "code",
   "execution_count": 12,
   "outputs": [],
   "source": [
    "import pandas as pd\n",
    "import numpy as np\n",
    "from PIL import Image, ImageDraw\n",
    "from openslide import OpenSlide\n",
    "from matplotlib import pyplot as plt"
   ],
   "metadata": {
    "collapsed": false,
    "pycharm": {
     "name": "#%%\n"
    }
   }
  },
  {
   "cell_type": "code",
   "execution_count": 13,
   "outputs": [],
   "source": [
    "# read annotation\n",
    "csvobj = pd.read_pickle('1C1.pkl')\n",
    "# read image size\n",
    "impth = r'\\\\fatherserverdw\\Q\\research\\images\\CLUE\\3D study\\he\\c1\\1C1.ndpi'\n",
    "imageobj = OpenSlide(impth)\n",
    "image_size = imageobj.dimensions\n",
    "(width,height) = image_size\n",
    "img = Image.new('L', (width, height), 0) #0 for default pixel value\n",
    "# convert annotation to binary mask\n",
    "\n",
    "# edit this function in a way\n",
    "# write each annotation with pixel value equal to their class ID"
   ],
   "metadata": {
    "collapsed": false,
    "pycharm": {
     "name": "#%%\n"
    }
   }
  },
  {
   "cell_type": "code",
   "execution_count": 14,
   "outputs": [
    {
     "name": "stdout",
     "output_type": "stream",
     "text": [
      "0\n",
      "1\n",
      "2\n",
      "3\n",
      "4\n",
      "5\n",
      "6\n",
      "7\n",
      "8\n",
      "9\n",
      "10\n",
      "11\n",
      "12\n",
      "13\n",
      "14\n",
      "15\n",
      "16\n",
      "17\n",
      "18\n",
      "19\n",
      "20\n",
      "21\n",
      "22\n",
      "23\n"
     ]
    },
    {
     "data": {
      "text/plain": "<Figure size 432x288 with 1 Axes>",
      "image/png": "[encoded data removed]"
     },
     "metadata": {
      "needs_background": "light"
     },
     "output_type": "display_data"
    }
   ],
   "source": [
    "\n",
    "for index, row in csvobj.iterrows(): #iterate through each annotation circle\\\n",
    "    print(index)\n",
    "    color = (int)(row['Class ID'])\n",
    "    #try to close the polygon by appending the first coordinate to the end\n",
    "\n",
    "    xycoord = np.squeeze(row['Coord'].astype('uint32'))\n",
    "\n",
    "    plt.scatter(xycoord[:,0],xycoord[:,1])\n",
    "\n",
    "    #plt.savefig('ok')\n",
    "\n",
    "    xycoord = list(zip(xycoord[:,0],xycoord[:,1])) #turn [[,]] into tuples (,)\n",
    "\n",
    "\n",
    "    ImageDraw.Draw(img).polygon(xycoord, outline=255, fill=color) #this fill value should be class ID\n",
    "\n",
    "\n",
    "\n"
   ],
   "metadata": {
    "collapsed": false,
    "pycharm": {
     "name": "#%%\n"
    }
   }
  },
  {
   "cell_type": "code",
   "execution_count": 15,
   "outputs": [],
   "source": [
    "\n",
    "img2 = img.resize((round(width/10),round(height/10)))\n",
    "dstfn = '1C1temp.png'\n",
    "img2.save(dstfn)"
   ],
   "metadata": {
    "collapsed": false,
    "pycharm": {
     "name": "#%%\n"
    }
   }
  },
  {
   "cell_type": "code",
   "execution_count": 143,
   "outputs": [],
   "source": [],
   "metadata": {
    "collapsed": false,
    "pycharm": {
     "name": "#%%\n"
    }
   }
  }
 ],
 "metadata": {
  "kernelspec": {
   "display_name": "Python 3",
   "language": "python",
   "name": "python3"
  },
  "language_info": {
   "codemirror_mode": {
    "name": "ipython",
    "version": 2
   },
   "file_extension": ".py",
   "mimetype": "text/x-python",
   "name": "python",
   "nbconvert_exporter": "python",
   "pygments_lexer": "ipython2",
   "version": "2.7.6"
  }
 },
 "nbformat": 4,
 "nbformat_minor": 0
}