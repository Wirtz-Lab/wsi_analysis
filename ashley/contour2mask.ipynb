{
 "cells": [
  {
   "cell_type": "code",
   "execution_count": 1,
   "outputs": [],
   "source": [
    "import pandas as pd\n",
    "import numpy as np\n",
    "from PIL import Image, ImageDraw\n",
    "from openslide import OpenSlide\n",
    "from matplotlib import pyplot as plt\n",
    "import os"
   ],
   "metadata": {
    "collapsed": false,
    "pycharm": {
     "name": "#%%\n"
    }
   }
  },
  {
   "cell_type": "code",
   "execution_count": 2,
   "outputs": [],
   "source": [
    "# read annotation\n",
    "csvobj = pd.read_pickle('1C1.pkl')\n",
    "# read image size\n",
    "impth = r'\\\\fatherserverdw\\Q\\research\\images\\CLUE\\3D study\\he\\c1\\1C1.ndpi'\n",
    "imageobj = OpenSlide(impth)\n",
    "image_size = imageobj.dimensions\n",
    "(width,height) = image_size\n",
    "img = Image.new('L', (width, height), 0) #0 for default pixel value\n",
    "# convert annotation to binary mask\n",
    "\n",
    "\n",
    "# edit this function in a way\n",
    "# write each annotation with pixel value equal to their class ID"
   ],
   "metadata": {
    "collapsed": false,
    "pycharm": {
     "name": "#%%\n"
    }
   }
  },
  {
   "cell_type": "code",
   "execution_count": 3,
   "outputs": [],
   "source": [
    "iter_order = [2,10,5,4,6,11,7,9,8,12,3,1]"
   ],
   "metadata": {
    "collapsed": false,
    "pycharm": {
     "name": "#%%\n"
    }
   }
  },
  {
   "cell_type": "code",
   "execution_count": 4,
   "outputs": [
    {
     "name": "stdout",
     "output_type": "stream",
     "text": [
      "2\n",
      "10\n",
      "5\n",
      "4\n",
      "6\n",
      "11\n",
      "7\n",
      "9\n",
      "8\n",
      "12\n",
      "3\n",
      "1\n"
     ]
    },
    {
     "data": {
      "text/plain": "<Figure size 432x288 with 1 Axes>",
      "image/png": "[encoded data removed]"
     },
     "metadata": {
      "needs_background": "light"
     },
     "output_type": "display_data"
    }
   ],
   "source": [
    "for i in iter_order:\n",
    "#for index, row in csvobj.iterrows(): #iterate through each annotation circle\\\n",
    "    row = csvobj.iloc[i - 1]\n",
    "    #print(row)\n",
    "    color = i\n",
    "    print(color)\n",
    "\n",
    "\n",
    "    xycoord = np.squeeze(row['Coord'].astype('uint32'))\n",
    "\n",
    "    plt.scatter(xycoord[:,0],xycoord[:,1])\n",
    "\n",
    "    #plt.savefig('ok')\n",
    "\n",
    "    xycoord = list(zip(xycoord[:,0],xycoord[:,1])) #turn [[,]] into tuples (,)\n",
    "\n",
    "\n",
    "    ImageDraw.Draw(img).polygon(xycoord, outline=None, fill=color) #this fill value should be class ID\n",
    "\n",
    "\n",
    "\n"
   ],
   "metadata": {
    "collapsed": false,
    "pycharm": {
     "name": "#%%\n"
    }
   }
  },
  {
   "cell_type": "markdown",
   "source": [],
   "metadata": {
    "collapsed": false
   }
  },
  {
   "cell_type": "code",
   "execution_count": 5,
   "outputs": [],
   "source": [
    "\n",
    "img2 = img.resize((round(width/10),round(height/10)))\n",
    "dstfn = '1C1.png'\n",
    "img2.save(dstfn)"
   ],
   "metadata": {
    "collapsed": false,
    "pycharm": {
     "name": "#%%\n"
    }
   }
  },
  {
   "cell_type": "code",
   "execution_count": 6,
   "outputs": [
    {
     "name": "stderr",
     "output_type": "stream",
     "text": [
      "C:\\ProgramData\\Anaconda3\\envs\\digital_pathology\\lib\\site-packages\\PIL\\Image.py:2797: DecompressionBombWarning: Image size (120683520 pixels) exceeds limit of 89478485 pixels, could be decompression bomb DOS attack.\n",
      "  warnings.warn(\n"
     ]
    },
    {
     "ename": "AttributeError",
     "evalue": "'list' object has no attribute 'bbox'",
     "output_type": "error",
     "traceback": [
      "\u001B[1;31m---------------------------------------------------------------------------\u001B[0m",
      "\u001B[1;31mAttributeError\u001B[0m                            Traceback (most recent call last)",
      "\u001B[1;32m<ipython-input-6-e134fee1d142>\u001B[0m in \u001B[0;36m<module>\u001B[1;34m\u001B[0m\n\u001B[0;32m     29\u001B[0m     \u001B[0mregionprops\u001B[0m \u001B[1;33m=\u001B[0m \u001B[0mmeasure\u001B[0m\u001B[1;33m.\u001B[0m\u001B[0mregionprops\u001B[0m\u001B[1;33m(\u001B[0m\u001B[0mlabeled_map\u001B[0m\u001B[1;33m)\u001B[0m\u001B[1;33m\u001B[0m\u001B[1;33m\u001B[0m\u001B[0m\n\u001B[0;32m     30\u001B[0m     \u001B[1;31m#bounboxes is a tuple, (min_row, min_col, max_row, max_col)\u001B[0m\u001B[1;33m\u001B[0m\u001B[1;33m\u001B[0m\u001B[1;33m\u001B[0m\u001B[0m\n\u001B[1;32m---> 31\u001B[1;33m     \u001B[0mboundboxes\u001B[0m \u001B[1;33m=\u001B[0m \u001B[1;33m[\u001B[0m\u001B[0mregionprops\u001B[0m\u001B[1;33m.\u001B[0m\u001B[0mbbox\u001B[0m\u001B[1;33m]\u001B[0m\u001B[1;33m\u001B[0m\u001B[1;33m\u001B[0m\u001B[0m\n\u001B[0m",
      "\u001B[1;31mAttributeError\u001B[0m: 'list' object has no attribute 'bbox'"
     ]
    }
   ],
   "source": [
    "# crop WSI images using annotation map\n",
    "\n",
    "from openslide import OpenSlide\n",
    "from skimage import measure\n",
    "\n",
    "# open both wsi and annotation map\n",
    "wsi_src = os.path.expanduser(r'\\\\fatherserverdw\\Q\\research\\images\\CLUE\\3D study\\he\\c1')\n",
    "wsi_fn = '1C1.ndpi'\n",
    "wsipath = os.path.join(wsi_src, wsi_fn)\n",
    "\n",
    "#anno_src = os.path.expanduser(r'\\\\Users\\kyuha\\PycharmProjects\\wsi_analysis\\ashley')\n",
    "#anno_fn = '1C1temp.png'\n",
    "#annotation_map_path = os.path.join(anno_src, anno_fn)\n",
    "\n",
    "wsi = OpenSlide(wsipath)\n",
    "annotation = Image.open('1C1.png') #convert to greyscale?\n",
    "# this should not be zero\n",
    "\n",
    "# iterate each class and each annotation object to make a crop\n",
    "for classid in iter_order:\n",
    "\n",
    "    annotation2crop = np.zeros_like(annotation)\n",
    "\n",
    "    #all annotation for the current class id\n",
    "    annotation2crop[np.array(annotation) == classid] = 1\n",
    "\n",
    "    labeled_map =  measure.label(annotation2crop)\n",
    "    #regionprops has properties of the label\n",
    "    regionprops = measure.regionprops(labeled_map)\n",
    "    #bounboxes is a tuple, (min_row, min_col, max_row, max_col)\n",
    "    boundboxes = [(regionprops).bbox]"
   ],
   "metadata": {
    "collapsed": false,
    "pycharm": {
     "name": "#%%\n"
    }
   }
  },
  {
   "cell_type": "code",
   "execution_count": 132,
   "outputs": [
    {
     "data": {
      "text/plain": "array([ 0,  1,  2,  3,  4,  5,  6,  7,  8,  9, 10, 11, 12, 13],\n      dtype=uint8)"
     },
     "execution_count": 132,
     "metadata": {},
     "output_type": "execute_result"
    }
   ],
   "source": [
    "np.unique(np.array(annotation))"
   ],
   "metadata": {
    "collapsed": false,
    "pycharm": {
     "name": "#%%\n"
    }
   }
  },
  {
   "cell_type": "code",
   "execution_count": 133,
   "outputs": [],
   "source": [
    "annotation2crop = np.zeros_like(annotation)\n",
    "\n",
    "#all annotation for the current class id\n",
    "annotation2crop[np.array(annotation) == classid] = 1\n"
   ],
   "metadata": {
    "collapsed": false,
    "pycharm": {
     "name": "#%%\n"
    }
   }
  },
  {
   "cell_type": "code",
   "execution_count": 136,
   "outputs": [],
   "source": [
    "Image.fromarray(annotation2crop).save('temp.png')"
   ],
   "metadata": {
    "collapsed": false,
    "pycharm": {
     "name": "#%%\n"
    }
   }
  },
  {
   "cell_type": "code",
   "execution_count": 135,
   "outputs": [
    {
     "data": {
      "text/plain": "[<skimage.measure._regionprops.RegionProperties at 0x1d88c0dcbb0>,\n <skimage.measure._regionprops.RegionProperties at 0x1d88c0dceb0>,\n <skimage.measure._regionprops.RegionProperties at 0x1d88cc8d670>,\n <skimage.measure._regionprops.RegionProperties at 0x1d88cc8dca0>,\n <skimage.measure._regionprops.RegionProperties at 0x1d88cc8dbe0>,\n <skimage.measure._regionprops.RegionProperties at 0x1d88cc8db50>,\n <skimage.measure._regionprops.RegionProperties at 0x1d88cc8db80>,\n <skimage.measure._regionprops.RegionProperties at 0x1d88cc8d640>,\n <skimage.measure._regionprops.RegionProperties at 0x1d88cc8d580>,\n <skimage.measure._regionprops.RegionProperties at 0x1d88cc8d310>,\n <skimage.measure._regionprops.RegionProperties at 0x1d88cc8d490>,\n <skimage.measure._regionprops.RegionProperties at 0x1d88cc8de80>,\n <skimage.measure._regionprops.RegionProperties at 0x1d88cc8ddf0>,\n <skimage.measure._regionprops.RegionProperties at 0x1d88cc8d460>,\n <skimage.measure._regionprops.RegionProperties at 0x1d88cc8d550>,\n <skimage.measure._regionprops.RegionProperties at 0x1d88cc8d370>,\n <skimage.measure._regionprops.RegionProperties at 0x1d88cc8dcd0>,\n <skimage.measure._regionprops.RegionProperties at 0x1d88cc8d100>,\n <skimage.measure._regionprops.RegionProperties at 0x1d88cc8d1c0>,\n <skimage.measure._regionprops.RegionProperties at 0x1d88cc8d430>,\n <skimage.measure._regionprops.RegionProperties at 0x1d88cc8d3a0>,\n <skimage.measure._regionprops.RegionProperties at 0x1d88cc8d4c0>,\n <skimage.measure._regionprops.RegionProperties at 0x1d88cc8d340>,\n <skimage.measure._regionprops.RegionProperties at 0x1d88cc8d3d0>,\n <skimage.measure._regionprops.RegionProperties at 0x1d88cc8d400>,\n <skimage.measure._regionprops.RegionProperties at 0x1d88cc8d190>,\n <skimage.measure._regionprops.RegionProperties at 0x1d88cc8d2b0>,\n <skimage.measure._regionprops.RegionProperties at 0x1d88cc8d2e0>,\n <skimage.measure._regionprops.RegionProperties at 0x1d88cc8d220>,\n <skimage.measure._regionprops.RegionProperties at 0x1d88cc8d5b0>,\n <skimage.measure._regionprops.RegionProperties at 0x1d88cc8d820>,\n <skimage.measure._regionprops.RegionProperties at 0x1d88cc8d0a0>,\n <skimage.measure._regionprops.RegionProperties at 0x1d88cc8d280>,\n <skimage.measure._regionprops.RegionProperties at 0x1d88cc8d790>,\n <skimage.measure._regionprops.RegionProperties at 0x1d88cc8d070>,\n <skimage.measure._regionprops.RegionProperties at 0x1d88cc8d040>,\n <skimage.measure._regionprops.RegionProperties at 0x1d88cc8d0d0>,\n <skimage.measure._regionprops.RegionProperties at 0x1d88cc8d130>,\n <skimage.measure._regionprops.RegionProperties at 0x1d88cc8d880>,\n <skimage.measure._regionprops.RegionProperties at 0x1d88cc8d160>,\n <skimage.measure._regionprops.RegionProperties at 0x1d88cc8d1f0>,\n <skimage.measure._regionprops.RegionProperties at 0x1d88cc8de50>,\n <skimage.measure._regionprops.RegionProperties at 0x1d8aa5b0a60>,\n <skimage.measure._regionprops.RegionProperties at 0x1d8aa5b0640>,\n <skimage.measure._regionprops.RegionProperties at 0x1d8aa5b0550>,\n <skimage.measure._regionprops.RegionProperties at 0x1d8aa5b0490>,\n <skimage.measure._regionprops.RegionProperties at 0x1d8aa5b0520>,\n <skimage.measure._regionprops.RegionProperties at 0x1d8aa5b0940>,\n <skimage.measure._regionprops.RegionProperties at 0x1d8aa5b0a90>,\n <skimage.measure._regionprops.RegionProperties at 0x1d8aa5b0820>,\n <skimage.measure._regionprops.RegionProperties at 0x1d8aa5b0430>,\n <skimage.measure._regionprops.RegionProperties at 0x1d8aa5b04f0>,\n <skimage.measure._regionprops.RegionProperties at 0x1d8aa5b08e0>,\n <skimage.measure._regionprops.RegionProperties at 0x1d8aa5b05b0>,\n <skimage.measure._regionprops.RegionProperties at 0x1d8aa5b0580>,\n <skimage.measure._regionprops.RegionProperties at 0x1d8aa5b07c0>,\n <skimage.measure._regionprops.RegionProperties at 0x1d8aa5b05e0>,\n <skimage.measure._regionprops.RegionProperties at 0x1d8aa5b0610>,\n <skimage.measure._regionprops.RegionProperties at 0x1d8aa5b0730>,\n <skimage.measure._regionprops.RegionProperties at 0x1d8aa5b08b0>,\n <skimage.measure._regionprops.RegionProperties at 0x1d8aa5b0460>,\n <skimage.measure._regionprops.RegionProperties at 0x1d8aa5b0790>,\n <skimage.measure._regionprops.RegionProperties at 0x1d8aa5b04c0>,\n <skimage.measure._regionprops.RegionProperties at 0x1d8aa5b0850>,\n <skimage.measure._regionprops.RegionProperties at 0x1d8aa5b09a0>,\n <skimage.measure._regionprops.RegionProperties at 0x1d8aa5b0670>,\n <skimage.measure._regionprops.RegionProperties at 0x1d8aa5b07f0>,\n <skimage.measure._regionprops.RegionProperties at 0x1d8aa5b0700>,\n <skimage.measure._regionprops.RegionProperties at 0x1d88cc8bc70>,\n <skimage.measure._regionprops.RegionProperties at 0x1d88cc8bdf0>,\n <skimage.measure._regionprops.RegionProperties at 0x1d88cc8b4c0>,\n <skimage.measure._regionprops.RegionProperties at 0x1d88cc8bdc0>,\n <skimage.measure._regionprops.RegionProperties at 0x1d88cc8b7c0>,\n <skimage.measure._regionprops.RegionProperties at 0x1d88cc8b880>,\n <skimage.measure._regionprops.RegionProperties at 0x1d88cc8bee0>,\n <skimage.measure._regionprops.RegionProperties at 0x1d88cc8be50>,\n <skimage.measure._regionprops.RegionProperties at 0x1d88cc8be80>,\n <skimage.measure._regionprops.RegionProperties at 0x1d88cc8baf0>,\n <skimage.measure._regionprops.RegionProperties at 0x1d88cc8beb0>,\n <skimage.measure._regionprops.RegionProperties at 0x1d88cc8be20>,\n <skimage.measure._regionprops.RegionProperties at 0x1d88cc8bfd0>,\n <skimage.measure._regionprops.RegionProperties at 0x1d88cc8bb50>,\n <skimage.measure._regionprops.RegionProperties at 0x1d88cc8bc10>,\n <skimage.measure._regionprops.RegionProperties at 0x1d88cc8bf40>,\n <skimage.measure._regionprops.RegionProperties at 0x1d88cc8ba30>,\n <skimage.measure._regionprops.RegionProperties at 0x1d88cc8b790>,\n <skimage.measure._regionprops.RegionProperties at 0x1d88cc8bd30>,\n <skimage.measure._regionprops.RegionProperties at 0x1d88cc8bd90>,\n <skimage.measure._regionprops.RegionProperties at 0x1d88cc8bb20>,\n <skimage.measure._regionprops.RegionProperties at 0x1d88cc8bac0>,\n <skimage.measure._regionprops.RegionProperties at 0x1d88cc8bca0>,\n <skimage.measure._regionprops.RegionProperties at 0x1d88cc8bfa0>,\n <skimage.measure._regionprops.RegionProperties at 0x1d88cc8bbe0>,\n <skimage.measure._regionprops.RegionProperties at 0x1d88cc8b910>,\n <skimage.measure._regionprops.RegionProperties at 0x1d88cc8bd00>,\n <skimage.measure._regionprops.RegionProperties at 0x1d88cc8bd60>,\n <skimage.measure._regionprops.RegionProperties at 0x1d88cc8bcd0>,\n <skimage.measure._regionprops.RegionProperties at 0x1d88cc8bf10>,\n <skimage.measure._regionprops.RegionProperties at 0x1d88cc8bc40>,\n <skimage.measure._regionprops.RegionProperties at 0x1d88cc8b340>,\n <skimage.measure._regionprops.RegionProperties at 0x1d88cc8bb80>,\n <skimage.measure._regionprops.RegionProperties at 0x1d88cc8bbb0>,\n <skimage.measure._regionprops.RegionProperties at 0x1d88cc8ba60>,\n <skimage.measure._regionprops.RegionProperties at 0x1d88cc8b6a0>,\n <skimage.measure._regionprops.RegionProperties at 0x1d88cc8b9a0>,\n <skimage.measure._regionprops.RegionProperties at 0x1d88cc8ba90>,\n <skimage.measure._regionprops.RegionProperties at 0x1d88cc8ba00>,\n <skimage.measure._regionprops.RegionProperties at 0x1d88cc8b970>,\n <skimage.measure._regionprops.RegionProperties at 0x1d88cc8b820>,\n <skimage.measure._regionprops.RegionProperties at 0x1d88cc8b9d0>,\n <skimage.measure._regionprops.RegionProperties at 0x1d88cc8b940>,\n <skimage.measure._regionprops.RegionProperties at 0x1d88cc8b760>,\n <skimage.measure._regionprops.RegionProperties at 0x1d88cc8b8e0>,\n <skimage.measure._regionprops.RegionProperties at 0x1d88cc8b8b0>,\n <skimage.measure._regionprops.RegionProperties at 0x1d88cc8b640>,\n <skimage.measure._regionprops.RegionProperties at 0x1d88cc8b850>,\n <skimage.measure._regionprops.RegionProperties at 0x1d88cc8b7f0>,\n <skimage.measure._regionprops.RegionProperties at 0x1d88cc8b700>,\n <skimage.measure._regionprops.RegionProperties at 0x1d88cc8b670>,\n <skimage.measure._regionprops.RegionProperties at 0x1d88cc8b5b0>,\n <skimage.measure._regionprops.RegionProperties at 0x1d88cc8b730>,\n <skimage.measure._regionprops.RegionProperties at 0x1d88cc8b6d0>,\n <skimage.measure._regionprops.RegionProperties at 0x1d88cc8b5e0>,\n <skimage.measure._regionprops.RegionProperties at 0x1d88cc8b520>,\n <skimage.measure._regionprops.RegionProperties at 0x1d88cc8b3d0>,\n <skimage.measure._regionprops.RegionProperties at 0x1d88cc8b3a0>,\n <skimage.measure._regionprops.RegionProperties at 0x1d88cc8b550>,\n <skimage.measure._regionprops.RegionProperties at 0x1d88cc8b490>,\n <skimage.measure._regionprops.RegionProperties at 0x1d88cc8b220>,\n <skimage.measure._regionprops.RegionProperties at 0x1d88cc8b580>,\n <skimage.measure._regionprops.RegionProperties at 0x1d88cc8b610>,\n <skimage.measure._regionprops.RegionProperties at 0x1d88cc8b4f0>,\n <skimage.measure._regionprops.RegionProperties at 0x1d88cc8b430>,\n <skimage.measure._regionprops.RegionProperties at 0x1d88cc8b2e0>,\n <skimage.measure._regionprops.RegionProperties at 0x1d88cc8b460>,\n <skimage.measure._regionprops.RegionProperties at 0x1d88cc8b070>,\n <skimage.measure._regionprops.RegionProperties at 0x1d88cc8b370>,\n <skimage.measure._regionprops.RegionProperties at 0x1d88cc8b130>,\n <skimage.measure._regionprops.RegionProperties at 0x1d88cc8b400>,\n <skimage.measure._regionprops.RegionProperties at 0x1d88cc8b280>,\n <skimage.measure._regionprops.RegionProperties at 0x1d88cc8b310>,\n <skimage.measure._regionprops.RegionProperties at 0x1d88cc8b250>,\n <skimage.measure._regionprops.RegionProperties at 0x1d88cc8b1c0>,\n <skimage.measure._regionprops.RegionProperties at 0x1d88cc8b160>,\n <skimage.measure._regionprops.RegionProperties at 0x1d88cc8b1f0>,\n <skimage.measure._regionprops.RegionProperties at 0x1d88cc8b190>,\n <skimage.measure._regionprops.RegionProperties at 0x1d88cc8b2b0>,\n <skimage.measure._regionprops.RegionProperties at 0x1d88cc8b0d0>,\n <skimage.measure._regionprops.RegionProperties at 0x1d88cc8b100>,\n <skimage.measure._regionprops.RegionProperties at 0x1d88cc8b0a0>,\n <skimage.measure._regionprops.RegionProperties at 0x1d88cc8b040>,\n <skimage.measure._regionprops.RegionProperties at 0x1d88cc87550>,\n <skimage.measure._regionprops.RegionProperties at 0x1d88cc87610>,\n <skimage.measure._regionprops.RegionProperties at 0x1d88cc87670>,\n <skimage.measure._regionprops.RegionProperties at 0x1d88cc87490>,\n <skimage.measure._regionprops.RegionProperties at 0x1d88cc87580>,\n <skimage.measure._regionprops.RegionProperties at 0x1d88cc875e0>,\n <skimage.measure._regionprops.RegionProperties at 0x1d88cc87430>,\n <skimage.measure._regionprops.RegionProperties at 0x1d88cc874f0>,\n <skimage.measure._regionprops.RegionProperties at 0x1d88cc87520>,\n <skimage.measure._regionprops.RegionProperties at 0x1d88cc87fd0>,\n <skimage.measure._regionprops.RegionProperties at 0x1d88cc87f10>,\n <skimage.measure._regionprops.RegionProperties at 0x1d88cc87af0>,\n <skimage.measure._regionprops.RegionProperties at 0x1d88cc87340>,\n <skimage.measure._regionprops.RegionProperties at 0x1d88cc87e80>,\n <skimage.measure._regionprops.RegionProperties at 0x1d88cc87eb0>,\n <skimage.measure._regionprops.RegionProperties at 0x1d88cc87f40>,\n <skimage.measure._regionprops.RegionProperties at 0x1d88cc87d90>,\n <skimage.measure._regionprops.RegionProperties at 0x1d88cc87b80>,\n <skimage.measure._regionprops.RegionProperties at 0x1d88cc87df0>,\n <skimage.measure._regionprops.RegionProperties at 0x1d88cc87ca0>,\n <skimage.measure._regionprops.RegionProperties at 0x1d88cc87c10>,\n <skimage.measure._regionprops.RegionProperties at 0x1d88cc87e20>,\n <skimage.measure._regionprops.RegionProperties at 0x1d88cc87d60>,\n <skimage.measure._regionprops.RegionProperties at 0x1d88cc87b20>,\n <skimage.measure._regionprops.RegionProperties at 0x1d88cc87ee0>,\n <skimage.measure._regionprops.RegionProperties at 0x1d88cc87e50>,\n <skimage.measure._regionprops.RegionProperties at 0x1d88cc87dc0>,\n <skimage.measure._regionprops.RegionProperties at 0x1d88cc87b50>,\n <skimage.measure._regionprops.RegionProperties at 0x1d88cc87d00>,\n <skimage.measure._regionprops.RegionProperties at 0x1d88cc87d30>,\n <skimage.measure._regionprops.RegionProperties at 0x1d88cc87c40>,\n <skimage.measure._regionprops.RegionProperties at 0x1d88cc873d0>,\n <skimage.measure._regionprops.RegionProperties at 0x1d88cc87a60>,\n <skimage.measure._regionprops.RegionProperties at 0x1d88cc87c70>,\n <skimage.measure._regionprops.RegionProperties at 0x1d88cc87be0>,\n <skimage.measure._regionprops.RegionProperties at 0x1d88cc87bb0>,\n <skimage.measure._regionprops.RegionProperties at 0x1d88cc879d0>]"
     },
     "execution_count": 135,
     "metadata": {},
     "output_type": "execute_result"
    }
   ],
   "source": [
    "labeled_map =  measure.label(annotation2crop)\n",
    "#regionprops has properties of the label\n",
    "regionprops = measure.regionprops(labeled_map)\n",
    "regionprops"
   ],
   "metadata": {
    "collapsed": false,
    "pycharm": {
     "name": "#%%\n"
    }
   }
  },
  {
   "cell_type": "code",
   "execution_count": 68,
   "outputs": [],
   "source": [
    "for objID, boundbox in enumerate(boundboxes):\n",
    "     #crop at the boundaries\n",
    "    imcrop = wsi.read_region(location=(boundbox[0],boundbox[1]),level=0,size=(boundbox[2],boundbox[3]))\n",
    "    imcrop.save('class%d_obj%d.png'.format(classid,objID))\n"
   ],
   "metadata": {
    "collapsed": false,
    "pycharm": {
     "name": "#%%\n"
    }
   }
  },
  {
   "cell_type": "code",
   "execution_count": 87,
   "outputs": [
    {
     "data": {
      "text/plain": "array([[0, 0, 0, ..., 0, 0, 0],\n       [0, 0, 0, ..., 0, 0, 0],\n       [0, 0, 0, ..., 0, 0, 0],\n       ...,\n       [0, 0, 0, ..., 0, 0, 0],\n       [0, 0, 0, ..., 0, 0, 0],\n       [0, 0, 0, ..., 0, 0, 0]], dtype=uint8)"
     },
     "execution_count": 87,
     "metadata": {},
     "output_type": "execute_result"
    }
   ],
   "source": [
    "annotation2crop"
   ],
   "metadata": {
    "collapsed": false,
    "pycharm": {
     "name": "#%%\n"
    }
   }
  }
 ],
 "metadata": {
  "kernelspec": {
   "display_name": "Python 3",
   "language": "python",
   "name": "python3"
  },
  "language_info": {
   "codemirror_mode": {
    "name": "ipython",
    "version": 2
   },
   "file_extension": ".py",
   "mimetype": "text/x-python",
   "name": "python",
   "nbconvert_exporter": "python",
   "pygments_lexer": "ipython2",
   "version": "2.7.6"
  }
 },
 "nbformat": 4,
 "nbformat_minor": 0
}