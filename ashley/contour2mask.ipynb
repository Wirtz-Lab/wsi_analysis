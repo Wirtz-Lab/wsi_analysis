{
 "cells": [
  {
   "cell_type": "code",
   "execution_count": 16,
   "outputs": [],
   "source": [
    "import pandas as pd\n",
    "import numpy as np\n",
    "from PIL import Image, ImageDraw\n",
    "from openslide import OpenSlide"
   ],
   "metadata": {
    "collapsed": false,
    "pycharm": {
     "name": "#%%\n"
    }
   }
  },
  {
   "cell_type": "code",
   "execution_count": 19,
   "outputs": [],
   "source": [
    "# read annotation\n",
    "csvobj = pd.read_pickle('1C1.pkl')\n",
    "# read image size\n",
    "impth = r'\\\\fatherserverdw\\Q\\research\\images\\CLUE\\3D study\\he\\c1\\1C1.ndpi'\n",
    "imageobj = OpenSlide(impth)\n",
    "image_size = imageobj.dimensions\n",
    "(width,height) = image_size\n",
    "img = Image.new('L', (width, height), 0) #0 for default pixel value\n",
    "# convert annotation to binary mask\n",
    "for index, row in csvobj.iterrows(): #iterate through each annotation circle\\\n",
    "    print(index)\n",
    "    xycoord = np.squeeze(row['Coord'].astype('uint32'))\n",
    "    xycoord = list(zip(xycoord[:,0],xycoord[:,1]))\n",
    "    ImageDraw.Draw(img).polygon(xycoord, outline=255, fill=255) #this fill value should be class ID\n",
    "img2 = img.resize((round(width/10),round(height/10)))\n",
    "dstfn = '1C1.png'\n",
    "img2.save(dstfn)\n",
    "\n",
    "# edit this function in a way\n",
    "# write each annotation with pixel value equal to their class ID"
   ],
   "metadata": {
    "collapsed": false,
    "pycharm": {
     "name": "#%%\n"
    }
   }
  }
 ],
 "metadata": {
  "kernelspec": {
   "display_name": "Python 3",
   "language": "python",
   "name": "python3"
  },
  "language_info": {
   "codemirror_mode": {
    "name": "ipython",
    "version": 2
   },
   "file_extension": ".py",
   "mimetype": "text/x-python",
   "name": "python",
   "nbconvert_exporter": "python",
   "pygments_lexer": "ipython2",
   "version": "2.7.6"
  }
 },
 "nbformat": 4,
 "nbformat_minor": 0
}