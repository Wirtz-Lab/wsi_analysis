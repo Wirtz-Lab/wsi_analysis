{
 "cells": [
  {
   "cell_type": "markdown",
   "source": [
    "# Align_HE_DL_ROI_CNT\n",
    "## This workflow reads HE wsi, DLmask, ROImask, nuclear contour\n",
    "## crop, rotate, and crop each one of them and save as new images"
   ],
   "metadata": {
    "collapsed": false
   }
  },
  {
   "cell_type": "code",
   "execution_count": 1,
   "outputs": [],
   "source": [
    "import pandas as pd\n",
    "from PIL import Image\n",
    "Image.MAX_IMAGE_PIXELS=None\n",
    "import numpy as np\n",
    "from skimage.morphology import closing, square, remove_small_objects, remove_small_holes\n",
    "from math import atan2, degrees\n",
    "import os\n",
    "import cv2\n",
    "from openslide import OpenSlide"
   ],
   "metadata": {
    "collapsed": false
   }
  },
  {
   "cell_type": "code",
   "execution_count": 2,
   "outputs": [],
   "source": [
    "def rotate_image_cv2(mat, angle):\n",
    "    height, width = mat.shape[:2] # image shape has 3 dimensions\n",
    "    image_center = (width/2, height/2) # getRotationMatrix2D needs coordinates in reverse order (width, height) compared to shape\n",
    "    rotation_mat = cv2.getRotationMatrix2D(image_center, angle, 1.)\n",
    "    # rotation calculates the cos and sin, taking absolutes of those.\n",
    "    abs_cos = abs(rotation_mat[0,0])\n",
    "    abs_sin = abs(rotation_mat[0,1])\n",
    "    # find the new width and height bounds\n",
    "    bound_w = int(height * abs_sin + width * abs_cos)\n",
    "    bound_h = int(height * abs_cos + width * abs_sin)\n",
    "    # subtract old image center (bringing image back to origo) and adding the new image center coordinates\n",
    "    rotation_mat[0, 2] += bound_w/2 - image_center[0]\n",
    "    rotation_mat[1, 2] += bound_h/2 - image_center[1]\n",
    "    # rotate image with the new bounds and translated rotation matrix\n",
    "    rotated_mat = cv2.warpAffine(mat, rotation_mat, (bound_w, bound_h), flags=cv2.INTER_NEAREST)\n",
    "    return rotated_mat"
   ],
   "metadata": {
    "collapsed": false
   }
  },
  {
   "cell_type": "code",
   "execution_count": 3,
   "outputs": [],
   "source": [
    "realjsonsrc = r'\\\\fatherserverdw\\kyuex\\clue images\\hovernet_out\\json'\n",
    "roisrc = r'\\\\fatherserverdw\\kyuex\\clue images\\annotations\\roi\\labeledmask_20rsf'\n",
    "ndpisrc = r'\\\\fatherserverdw\\kyuex\\clue images'\n",
    "dlsrc = r'\\\\fatherserverdw\\kyuex\\clue images\\1um\\classification_v9_combined'\n",
    "\n",
    "dst = r'\\\\fatherserverdw\\kyuex\\datadst\\20220929'\n",
    "imcropdst =os.path.join(dst,'imcrop')\n",
    "dlcropdst = os.path.join(dst,'dlcrop')\n",
    "nuccropdst = os.path.join(dst,'nuccrop')\n",
    "if not os.path.exists(dst): os.mkdir(dst)\n",
    "if not os.path.exists(imcropdst): os.mkdir(imcropdst)\n",
    "if not os.path.exists(dlcropdst): os.mkdir(dlcropdst)\n",
    "if not os.path.exists(nuccropdst): os.mkdir(nuccropdst)\n",
    "\n",
    "ClUedegrot_df = pd.read_excel(r\"\\\\fatherserverdw\\kyuex\\datadst\\WSI_rotation_crop_LUT.xlsx\")\n",
    "ClUedegrot_df = ClUedegrot_df.astype(\"object\")"
   ],
   "metadata": {
    "collapsed": false
   }
  },
  {
   "cell_type": "code",
   "execution_count": 4,
   "outputs": [],
   "source": [
    "index = 10\n",
    "row = ClUedegrot_df.iloc[index]\n",
    "\n",
    "fn = os.path.splitext(row['filename'])[0]\n",
    "\n",
    "mask = Image.open(os.path.join(dlsrc,'{}.{}'.format(fn,'tif')))\n",
    "ndpi = OpenSlide(os.path.join(ndpisrc,'{}.{}'.format(fn,'ndpi')))\n",
    "jsdst = os.path.join(realjsonsrc,'{}.{}'.format(fn,'json'))\n",
    "json = pd.read_json(jsdst, orient='index')\n",
    "roi= Image.open(os.path.join(roisrc,'{}.{}'.format(fn,'png'))) #roi is very small"
   ],
   "metadata": {
    "collapsed": false
   }
  },
  {
   "cell_type": "code",
   "execution_count": 6,
   "outputs": [],
   "source": [],
   "metadata": {
    "collapsed": false
   }
  },
  {
   "cell_type": "code",
   "execution_count": 7,
   "outputs": [],
   "source": [
    "[x,y] = roi.size\n",
    "(w,h) = ndpi.level_dimensions[0]\n",
    "rsf = [w/x,h/y]\n",
    "rsf = rsf[0]"
   ],
   "metadata": {
    "collapsed": false
   }
  },
  {
   "cell_type": "code",
   "execution_count": 8,
   "outputs": [],
   "source": [
    "json = pd.DataFrame(json[0].loc['nuc']).T.drop(columns=['type_prob'])\n",
    "json = json[json['contour'].map(len) > 5].reset_index(drop=True)"
   ],
   "metadata": {
    "collapsed": false
   }
  },
  {
   "cell_type": "code",
   "execution_count": 9,
   "outputs": [],
   "source": [
    "roiarr = np.array(roi)\n",
    "def isinroi(row):\n",
    "    newrow = [round(_/16) for _ in row]\n",
    "    return roiarr[newrow[1],newrow[0]]\n",
    "json['inroi'] =  json['centroid'].apply(lambda row: isinroi(row))\n",
    "jsoninroi = json[json['inroi']>0]"
   ],
   "metadata": {
    "collapsed": false
   }
  },
  {
   "cell_type": "code",
   "execution_count": 10,
   "outputs": [],
   "source": [
    "#create binary labeled mask of nuclei inside of roi\n",
    "nuc_image = np.zeros((h,w), dtype=np.int32) #need to flip h and w\n",
    "for idx,ct in enumerate(jsoninroi['contour']):\n",
    "     cv2.fillPoly(nuc_image, pts=[np.array(ct).astype(np.int32)],  color=idx+1)"
   ],
   "metadata": {
    "collapsed": false
   }
  },
  {
   "cell_type": "code",
   "execution_count": 11,
   "outputs": [],
   "source": [
    "#create DLmask inside of roi\n",
    "mask_resized = mask.resize(roi.size, resample=0) #nearest interpolation to rescale\n",
    "DLsmall = np.array(mask_resized)\n",
    "DLinroi = np.multiply(DLsmall,roiarr>0)"
   ],
   "metadata": {
    "collapsed": false
   }
  },
  {
   "cell_type": "code",
   "execution_count": 12,
   "outputs": [],
   "source": [
    "#create H&E\n",
    "targetlevel = ndpi.get_best_level_for_downsample(rsf)"
   ],
   "metadata": {
    "collapsed": false
   }
  },
  {
   "cell_type": "code",
   "execution_count": 13,
   "outputs": [],
   "source": [
    "HE = ndpi.read_region(location=(0,0),level=targetlevel,size=ndpi.level_dimensions[targetlevel])"
   ],
   "metadata": {
    "collapsed": false
   }
  },
  {
   "cell_type": "code",
   "execution_count": 14,
   "outputs": [],
   "source": [
    "minDermhole = 5000\n",
    "minepisize = 1000\n",
    "whitespace=12\n",
    "\n",
    "epi = (DLinroi == 1) | (DLinroi == 2)\n",
    "derm = (2 < DLinroi) & (DLinroi < whitespace)\n",
    "derm = remove_small_holes(derm, area_threshold=minDermhole)\n",
    "\n",
    "epi2 = epi & ~derm\n",
    "epi2 = remove_small_objects(epi2, min_size=minepisize, connectivity=2)\n",
    "numsecmax = np.max(roiarr)"
   ],
   "metadata": {
    "collapsed": false
   }
  },
  {
   "cell_type": "code",
   "execution_count": 15,
   "outputs": [
    {
     "name": "stdout",
     "output_type": "stream",
     "text": [
      "section N:  1 / 4\n"
     ]
    },
    {
     "ename": "TypeError",
     "evalue": "Cannot handle this data type: (1, 1, 3), <u4",
     "output_type": "error",
     "traceback": [
      "\u001B[1;31m---------------------------------------------------------------------------\u001B[0m",
      "\u001B[1;31mKeyError\u001B[0m                                  Traceback (most recent call last)",
      "File \u001B[1;32m~\\.conda\\envs\\wsi_analysis\\lib\\site-packages\\PIL\\Image.py:2953\u001B[0m, in \u001B[0;36mfromarray\u001B[1;34m(obj, mode)\u001B[0m\n\u001B[0;32m   2952\u001B[0m \u001B[38;5;28;01mtry\u001B[39;00m:\n\u001B[1;32m-> 2953\u001B[0m     mode, rawmode \u001B[38;5;241m=\u001B[39m \u001B[43m_fromarray_typemap\u001B[49m\u001B[43m[\u001B[49m\u001B[43mtypekey\u001B[49m\u001B[43m]\u001B[49m\n\u001B[0;32m   2954\u001B[0m \u001B[38;5;28;01mexcept\u001B[39;00m \u001B[38;5;167;01mKeyError\u001B[39;00m \u001B[38;5;28;01mas\u001B[39;00m e:\n",
      "\u001B[1;31mKeyError\u001B[0m: ((1, 1, 3), '<u4')",
      "\nThe above exception was the direct cause of the following exception:\n",
      "\u001B[1;31mTypeError\u001B[0m                                 Traceback (most recent call last)",
      "Cell \u001B[1;32mIn [15], line 59\u001B[0m\n\u001B[0;32m     57\u001B[0m dstfn \u001B[38;5;241m=\u001B[39m fn\u001B[38;5;241m+\u001B[39m\u001B[38;5;124m'\u001B[39m\u001B[38;5;124msec\u001B[39m\u001B[38;5;132;01m{}\u001B[39;00m\u001B[38;5;124m'\u001B[39m\u001B[38;5;241m.\u001B[39mformat(numsec)\u001B[38;5;241m+\u001B[39m\u001B[38;5;124m'\u001B[39m\u001B[38;5;124m.png\u001B[39m\u001B[38;5;124m'\u001B[39m\n\u001B[0;32m     58\u001B[0m \u001B[38;5;66;03m#save images\u001B[39;00m\n\u001B[1;32m---> 59\u001B[0m \u001B[43mImage\u001B[49m\u001B[38;5;241;43m.\u001B[39;49m\u001B[43mfromarray\u001B[49m\u001B[43m(\u001B[49m\u001B[43mHEbig\u001B[49m\u001B[38;5;241;43m.\u001B[39;49m\u001B[43mastype\u001B[49m\u001B[43m(\u001B[49m\u001B[38;5;124;43m'\u001B[39;49m\u001B[38;5;124;43muint32\u001B[39;49m\u001B[38;5;124;43m'\u001B[39;49m\u001B[43m)\u001B[49m\u001B[43m)\u001B[49m\u001B[38;5;241m.\u001B[39msave(\n\u001B[0;32m     60\u001B[0m                 os\u001B[38;5;241m.\u001B[39mpath\u001B[38;5;241m.\u001B[39mjoin(imcropdst, dstfn))\n\u001B[0;32m     61\u001B[0m Image\u001B[38;5;241m.\u001B[39mfromarray(DLrot\u001B[38;5;241m.\u001B[39mastype(\u001B[38;5;124m'\u001B[39m\u001B[38;5;124muint32\u001B[39m\u001B[38;5;124m'\u001B[39m))\u001B[38;5;241m.\u001B[39msave(\n\u001B[0;32m     62\u001B[0m                 os\u001B[38;5;241m.\u001B[39mpath\u001B[38;5;241m.\u001B[39mjoin(dlcropdst, dstfn))\n\u001B[0;32m     63\u001B[0m Image\u001B[38;5;241m.\u001B[39mfromarray(nucrot\u001B[38;5;241m.\u001B[39mastype(\u001B[38;5;124m'\u001B[39m\u001B[38;5;124muint32\u001B[39m\u001B[38;5;124m'\u001B[39m))\u001B[38;5;241m.\u001B[39msave(\n\u001B[0;32m     64\u001B[0m                 os\u001B[38;5;241m.\u001B[39mpath\u001B[38;5;241m.\u001B[39mjoin(nuccropdst, dstfn))\n",
      "File \u001B[1;32m~\\.conda\\envs\\wsi_analysis\\lib\\site-packages\\PIL\\Image.py:2955\u001B[0m, in \u001B[0;36mfromarray\u001B[1;34m(obj, mode)\u001B[0m\n\u001B[0;32m   2953\u001B[0m         mode, rawmode \u001B[38;5;241m=\u001B[39m _fromarray_typemap[typekey]\n\u001B[0;32m   2954\u001B[0m     \u001B[38;5;28;01mexcept\u001B[39;00m \u001B[38;5;167;01mKeyError\u001B[39;00m \u001B[38;5;28;01mas\u001B[39;00m e:\n\u001B[1;32m-> 2955\u001B[0m         \u001B[38;5;28;01mraise\u001B[39;00m \u001B[38;5;167;01mTypeError\u001B[39;00m(\u001B[38;5;124m\"\u001B[39m\u001B[38;5;124mCannot handle this data type: \u001B[39m\u001B[38;5;132;01m%s\u001B[39;00m\u001B[38;5;124m, \u001B[39m\u001B[38;5;132;01m%s\u001B[39;00m\u001B[38;5;124m\"\u001B[39m \u001B[38;5;241m%\u001B[39m typekey) \u001B[38;5;28;01mfrom\u001B[39;00m \u001B[38;5;21;01me\u001B[39;00m\n\u001B[0;32m   2956\u001B[0m \u001B[38;5;28;01melse\u001B[39;00m:\n\u001B[0;32m   2957\u001B[0m     rawmode \u001B[38;5;241m=\u001B[39m mode\n",
      "\u001B[1;31mTypeError\u001B[0m: Cannot handle this data type: (1, 1, 3), <u4"
     ]
    }
   ],
   "source": [
    "for numsec in range(1,numsecmax):\n",
    "    print('section N: ', numsec, '/', numsecmax)\n",
    "    roitmp = roiarr == numsec #roitmp is logical, not greyscale\n",
    "    mskepi = roitmp & epi2\n",
    "    DLtmp = np.multiply(DLinroi,roitmp) #roiscale\n",
    "    HEtmp = np.multiply(np.array(HE)[:,:,:3],np.repeat(roitmp[:,:,np.newaxis],3,axis=2)) #roiscale\n",
    "\n",
    "    # align horizontal\n",
    "    [xt0, yt0] = np.where(mskepi)\n",
    "    vertices = np.array([xt0[::10], yt0[::10]]).T\n",
    "    vc = vertices - vertices.mean(axis=0)\n",
    "\n",
    "    U, S, Vt = np.linalg.svd(vc)\n",
    "    k = Vt.T\n",
    "    d0 = degrees(atan2(k[1, 1], k[1, 0]))\n",
    "    if np.linalg.det(k)<0: d0=-d0\n",
    "    if d0 < 0: d0 = d0 + 360\n",
    "    #clear variables, we just need d0\n",
    "    del vertices, vc, U, S, Vt,k,mskepi\n",
    "\n",
    "    #enlarge DLtmp from roiscale to 20x wsi scale\n",
    "    DLtmplarge = cv2.resize(DLtmp.astype(np.uint8), dsize=(w,h), interpolation=cv2.INTER_NEAREST)\n",
    "    [xt, yt] = np.where(DLtmplarge[:,:])\n",
    "    bbox = [np.min(xt),np.max(xt),np.min(yt),np.max(yt)]\n",
    "    bbox = [round(_) for _ in bbox]\n",
    "    DLrot = DLtmplarge[bbox[0]:bbox[1],bbox[2]:bbox[3]] #crop to save memory for practical rotation\n",
    "    DLrot = rotate_image_cv2(DLrot, d0) #rotate\n",
    "\n",
    "    #check if section is upside-down\n",
    "    [xderm, yderm] = np.where(DLrot)\n",
    "    [xepi, yepi] = np.where((DLrot == 1) | (DLrot == 2))\n",
    "    if np.mean(xderm) - np.mean(xepi) < 0: #if dermis is above epidermis, then flip\n",
    "        DLrot = np.rot90(np.rot90(DLrot))\n",
    "        d0 += 180\n",
    "\n",
    "    #crop again to remove border effect\n",
    "    [xt2, yt2] = np.where(DLrot)\n",
    "    bbox2 = [np.min(xt2),np.max(xt2),np.min(yt2),np.max(yt2)]\n",
    "    bbox2 = [round(_) for _ in bbox2]\n",
    "    DLrot = DLrot[bbox2[0]:bbox2[1],bbox2[2]:bbox2[3]]\n",
    "\n",
    "    #crop nuclei labeled binary image using roi/DLtmplarge\n",
    "    nuctmp = nuc_image[bbox[0]:bbox[1],bbox[2]:bbox[3]] #crop\n",
    "    nucrot = rotate_image_cv2(nuctmp, d0)                           #rotate\n",
    "    nucrot = nucrot[bbox2[0]:bbox2[1],bbox2[2]:bbox2[3]] #crop\n",
    "\n",
    "    #crop HE\n",
    "    bboxsmall = [round(_/rsf) for _ in bbox]\n",
    "    bboxsmall2 = [round(_/rsf) for _ in bbox2]\n",
    "    HEtmp = HEtmp[bboxsmall[0]:bboxsmall[1],bboxsmall[2]:bboxsmall[3]] #crop\n",
    "    HErot = rotate_image_cv2(HEtmp, d0)                           #rotate\n",
    "    HErot = HErot[bboxsmall2[0]:bboxsmall2[1],bboxsmall2[2]:bboxsmall2[3]] #crop\n",
    "    HErot[HErot == 0] = 235\n",
    "    HEbig = cv2.resize(HErot.astype(np.uint8), dsize=[_ for _ in DLrot.shape][::-1], interpolation=cv2.INTER_NEAREST)\n",
    "\n",
    "    dstfn = fn+'sec{}'.format(numsec)+'.png'\n",
    "\n",
    "    #save images\n",
    "    Image.fromarray(HEbig).save(\n",
    "                    os.path.join(imcropdst, dstfn))\n",
    "    Image.fromarray(DLrot.astype('uint32')).save(\n",
    "                    os.path.join(dlcropdst, dstfn))\n",
    "    Image.fromarray(nucrot).save(\n",
    "                    os.path.join(nuccropdst, dstfn))"
   ],
   "metadata": {
    "collapsed": false
   }
  },
  {
   "cell_type": "code",
   "execution_count": 26,
   "outputs": [],
   "source": [
    "Image.fromarray(nucrot).save(\n",
    "                os.path.join(nuccropdst, dstfn))"
   ],
   "metadata": {
    "collapsed": false
   }
  },
  {
   "cell_type": "code",
   "execution_count": 27,
   "outputs": [
    {
     "data": {
      "text/plain": "(2790, 7670)"
     },
     "execution_count": 27,
     "metadata": {},
     "output_type": "execute_result"
    }
   ],
   "source": [
    "imtmp11=np.array(Image.open(r\"\\\\fatherserverdw\\kyuex\\datadst\\20220929\\nuccrop\\2022-06-10 18.30.09sec1.png\"))\n",
    "len(np.unique(imtmp11)),np.max(imtmp11)"
   ],
   "metadata": {
    "collapsed": false
   }
  }
 ],
 "metadata": {
  "kernelspec": {
   "display_name": "Python 3",
   "language": "python",
   "name": "python3"
  },
  "language_info": {
   "codemirror_mode": {
    "name": "ipython",
    "version": 2
   },
   "file_extension": ".py",
   "mimetype": "text/x-python",
   "name": "python",
   "nbconvert_exporter": "python",
   "pygments_lexer": "ipython2",
   "version": "2.7.6"
  }
 },
 "nbformat": 4,
 "nbformat_minor": 0
}
