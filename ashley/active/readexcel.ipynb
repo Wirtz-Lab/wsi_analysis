{
 "cells": [
  {
   "cell_type": "code",
   "execution_count": 36,
   "metadata": {
    "collapsed": true
   },
   "outputs": [],
   "source": [
    "import pandas as pd\n",
    "import numpy as np\n",
    "import pandas as pd\n",
    "import os\n",
    "import cv2\n",
    "from matplotlib import pyplot as plt\n",
    "from copy import deepcopy"
   ]
  },
  {
   "cell_type": "code",
   "execution_count": 41,
   "outputs": [],
   "source": [
    "df_ref = pd.read_excel(r'\\\\fatherserverdw\\kyuex\\clue images\\imlist_all.xlsx')"
   ],
   "metadata": {
    "collapsed": false
   }
  },
  {
   "cell_type": "code",
   "execution_count": 42,
   "outputs": [],
   "source": [
    "df_fill =  pd.read_excel(r'\\\\fatherserverdw\\kyuex\\clue images\\Potential_VISIUM_analysis_samples.xlsx')"
   ],
   "metadata": {
    "collapsed": false
   }
  },
  {
   "cell_type": "code",
   "execution_count": 44,
   "outputs": [],
   "source": [
    "for i,row in df_fill.iterrows():\n",
    "    ln = row['label name']\n",
    "    sub = row['sub label']\n",
    "    target = (df_ref.loc[df_ref['label name'] == ln])\n",
    "    if(target.shape[0] == 1):\n",
    "        df_fill.at[i,'healthy'] = target.iloc[0]['student score']\n",
    "        df_fill.to_excel(r'\\\\fatherserverdw\\kyuex\\clue images\\Potential_VISIUM_analysis_samples4.xlsx')\n",
    "    else:\n",
    "        t2 = target.loc[ target['sub label'] == sub]\n",
    "        if(t2.shape[0] == 1):\n",
    "            df_fill.at[i,'healthy'] = np.squeeze(t2['student score'])\n",
    "            df_fill.to_excel(r'\\\\fatherserverdw\\kyuex\\clue images\\Potential_VISIUM_analysis_samples4.xlsx')\n",
    "        else:\n",
    "\n",
    "            df_fill.at[i,'healthy'] = 0\n",
    "            df_fill.to_excel(r'\\\\fatherserverdw\\kyuex\\clue images\\Potential_VISIUM_analysis_samples4.xlsx')\n",
    "\n",
    "\n",
    "\n"
   ],
   "metadata": {
    "collapsed": false
   }
  },
  {
   "cell_type": "code",
   "execution_count": null,
   "outputs": [],
   "source": [],
   "metadata": {
    "collapsed": false
   }
  }
 ],
 "metadata": {
  "kernelspec": {
   "display_name": "Python 3",
   "language": "python",
   "name": "python3"
  },
  "language_info": {
   "codemirror_mode": {
    "name": "ipython",
    "version": 2
   },
   "file_extension": ".py",
   "mimetype": "text/x-python",
   "name": "python",
   "nbconvert_exporter": "python",
   "pygments_lexer": "ipython2",
   "version": "2.7.6"
  }
 },
 "nbformat": 4,
 "nbformat_minor": 0
}
