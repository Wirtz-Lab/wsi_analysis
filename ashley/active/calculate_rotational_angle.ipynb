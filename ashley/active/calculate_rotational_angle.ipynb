{
 "cells": [
  {
   "cell_type": "code",
   "execution_count": 1,
   "outputs": [],
   "source": [
    "import pandas as pd\n",
    "from PIL import Image\n",
    "Image.MAX_IMAGE_PIXELS=None\n",
    "import numpy as np\n",
    "from skimage.measure import label\n",
    "from skimage.morphology import closing, square, remove_small_objects, remove_small_holes\n",
    "from math import atan2, degrees\n",
    "import glob,os\n",
    "from natsort import natsorted\n",
    "import cv2\n",
    "from matplotlib import pyplot as plt"
   ],
   "metadata": {
    "collapsed": false,
    "pycharm": {
     "name": "#%%\n"
    }
   }
  },
  {
   "cell_type": "code",
   "execution_count": 2,
   "outputs": [],
   "source": [
    "src = r'\\\\fatherserverdw\\kyuex\\clue images\\1um\\classification_v9_combined'\n",
    "dst = os.path.join(src, 'crop_TA/tmp')\n",
    "if not os.path.exists(dst): os.mkdir(dst)\n",
    "imlist = glob.glob(os.path.join(src,'*.tif'))\n",
    "imlist = natsorted(imlist)\n",
    "minTA = 60000\n",
    "minTAhole = 100\n",
    "minDermhole = 5000\n",
    "minepisize=1000\n",
    "whitespace=12"
   ],
   "metadata": {
    "collapsed": false,
    "pycharm": {
     "name": "#%%\n"
    }
   }
  },
  {
   "cell_type": "code",
   "execution_count": 3,
   "outputs": [
    {
     "name": "stdout",
     "output_type": "stream",
     "text": [
      "section N:  1 / 1\n",
      "section N:  1 / 1\n",
      "section N:  1 / 1\n",
      "section N:  1 / 1\n",
      "section N:  1 / 4\n",
      "section N:  2 / 4\n",
      "section N:  3 / 4\n",
      "section N:  4 / 4\n",
      "section N:  1 / 2\n",
      "section N:  2 / 2\n",
      "section N:  1 / 5\n",
      "section N:  2 / 5\n",
      "section N:  3 / 5\n",
      "section N:  4 / 5\n",
      "section N:  5 / 5\n",
      "section N:  1 / 1\n",
      "section N:  1 / 2\n",
      "section N:  2 / 2\n",
      "section N:  1 / 2\n",
      "section N:  2 / 2\n",
      "section N:  1 / 2\n",
      "section N:  2 / 2\n",
      "section N:  1 / 2\n",
      "section N:  2 / 2\n",
      "section N:  1 / 4\n",
      "section N:  2 / 4\n",
      "section N:  3 / 4\n",
      "section N:  4 / 4\n",
      "section N:  1 / 4\n",
      "section N:  2 / 4\n",
      "section N:  3 / 4\n",
      "section N:  4 / 4\n",
      "section N:  1 / 4\n",
      "section N:  2 / 4\n",
      "section N:  3 / 4\n",
      "section N:  4 / 4\n",
      "section N:  1 / 4\n",
      "section N:  2 / 4\n",
      "section N:  3 / 4\n",
      "section N:  4 / 4\n",
      "section N:  1 / 3\n",
      "section N:  2 / 3\n",
      "section N:  3 / 3\n",
      "section N:  1 / 3\n",
      "section N:  2 / 3\n",
      "section N:  3 / 3\n",
      "section N:  1 / 4\n",
      "section N:  2 / 4\n",
      "section N:  3 / 4\n",
      "section N:  4 / 4\n",
      "section N:  1 / 5\n",
      "section N:  2 / 5\n",
      "section N:  3 / 5\n",
      "section N:  4 / 5\n",
      "section N:  5 / 5\n",
      "section N:  1 / 4\n",
      "section N:  2 / 4\n",
      "section N:  3 / 4\n",
      "section N:  4 / 4\n",
      "section N:  1 / 3\n",
      "section N:  2 / 3\n",
      "section N:  3 / 3\n",
      "section N:  1 / 4\n",
      "section N:  2 / 4\n",
      "section N:  3 / 4\n",
      "section N:  4 / 4\n",
      "section N:  1 / 6\n",
      "section N:  2 / 6\n",
      "section N:  3 / 6\n",
      "section N:  4 / 6\n",
      "section N:  5 / 6\n",
      "section N:  6 / 6\n",
      "section N:  1 / 1\n",
      "section N:  1 / 1\n",
      "section N:  1 / 1\n",
      "section N:  1 / 1\n",
      "section N:  1 / 1\n",
      "section N:  1 / 1\n",
      "section N:  1 / 6\n",
      "section N:  2 / 6\n",
      "section N:  3 / 6\n",
      "section N:  4 / 6\n",
      "section N:  5 / 6\n",
      "section N:  6 / 6\n",
      "section N:  1 / 2\n",
      "31 1\n",
      "section N:  2 / 2\n"
     ]
    },
    {
     "name": "stderr",
     "output_type": "stream",
     "text": [
      "C:\\Users\\kyuha\\AppData\\Local\\Temp\\ipykernel_8524\\1348606784.py:47: RuntimeWarning: Mean of empty slice.\n",
      "  vc = vertices - vertices.mean(axis=0)\n",
      "C:\\Users\\kyuha\\anaconda3\\envs\\wsi_analysis\\lib\\site-packages\\numpy\\core\\_methods.py:181: RuntimeWarning: invalid value encountered in true_divide\n",
      "  ret = um.true_divide(\n"
     ]
    },
    {
     "name": "stdout",
     "output_type": "stream",
     "text": [
      "section N:  1 / 4\n",
      "section N:  2 / 4\n",
      "section N:  3 / 4\n",
      "section N:  4 / 4\n",
      "section N:  1 / 1\n",
      "section N:  1 / 2\n",
      "section N:  2 / 2\n",
      "section N:  1 / 2\n",
      "section N:  2 / 2\n",
      "section N:  1 / 5\n",
      "section N:  2 / 5\n",
      "section N:  3 / 5\n",
      "section N:  4 / 5\n",
      "section N:  5 / 5\n",
      "section N:  1 / 4\n",
      "section N:  2 / 4\n",
      "section N:  3 / 4\n",
      "section N:  4 / 4\n",
      "section N:  1 / 4\n",
      "section N:  2 / 4\n",
      "section N:  3 / 4\n",
      "section N:  4 / 4\n",
      "section N:  1 / 2\n",
      "section N:  2 / 2\n",
      "section N:  1 / 4\n",
      "section N:  2 / 4\n",
      "section N:  3 / 4\n",
      "section N:  4 / 4\n",
      "section N:  1 / 4\n",
      "section N:  2 / 4\n",
      "section N:  3 / 4\n",
      "section N:  4 / 4\n",
      "section N:  1 / 2\n",
      "section N:  2 / 2\n",
      "section N:  1 / 4\n",
      "43 1\n",
      "section N:  2 / 4\n",
      "section N:  3 / 4\n"
     ]
    },
    {
     "name": "stderr",
     "output_type": "stream",
     "text": [
      "C:\\Users\\kyuha\\AppData\\Local\\Temp\\ipykernel_8524\\1348606784.py:47: RuntimeWarning: Mean of empty slice.\n",
      "  vc = vertices - vertices.mean(axis=0)\n",
      "C:\\Users\\kyuha\\anaconda3\\envs\\wsi_analysis\\lib\\site-packages\\numpy\\core\\_methods.py:181: RuntimeWarning: invalid value encountered in true_divide\n",
      "  ret = um.true_divide(\n"
     ]
    },
    {
     "name": "stdout",
     "output_type": "stream",
     "text": [
      "section N:  4 / 4\n",
      "section N:  1 / 4\n",
      "section N:  2 / 4\n",
      "section N:  3 / 4\n",
      "section N:  4 / 4\n",
      "section N:  1 / 4\n",
      "section N:  2 / 4\n",
      "section N:  3 / 4\n",
      "section N:  4 / 4\n",
      "section N:  1 / 4\n",
      "section N:  2 / 4\n",
      "section N:  3 / 4\n",
      "section N:  4 / 4\n",
      "section N:  1 / 4\n",
      "section N:  2 / 4\n",
      "section N:  3 / 4\n",
      "section N:  4 / 4\n",
      "section N:  1 / 6\n",
      "section N:  2 / 6\n",
      "section N:  3 / 6\n",
      "section N:  4 / 6\n",
      "section N:  5 / 6\n",
      "section N:  6 / 6\n",
      "48 6\n"
     ]
    },
    {
     "name": "stderr",
     "output_type": "stream",
     "text": [
      "C:\\Users\\kyuha\\AppData\\Local\\Temp\\ipykernel_8524\\1348606784.py:47: RuntimeWarning: Mean of empty slice.\n",
      "  vc = vertices - vertices.mean(axis=0)\n",
      "C:\\Users\\kyuha\\anaconda3\\envs\\wsi_analysis\\lib\\site-packages\\numpy\\core\\_methods.py:181: RuntimeWarning: invalid value encountered in true_divide\n",
      "  ret = um.true_divide(\n"
     ]
    },
    {
     "name": "stdout",
     "output_type": "stream",
     "text": [
      "section N:  1 / 3\n",
      "section N:  2 / 3\n",
      "section N:  3 / 3\n",
      "section N:  1 / 5\n",
      "section N:  2 / 5\n",
      "section N:  3 / 5\n",
      "section N:  4 / 5\n",
      "section N:  5 / 5\n",
      "section N:  1 / 4\n",
      "section N:  2 / 4\n",
      "section N:  3 / 4\n",
      "section N:  4 / 4\n",
      "section N:  1 / 2\n",
      "section N:  2 / 2\n",
      "section N:  1 / 1\n",
      "section N:  1 / 1\n",
      "section N:  1 / 2\n",
      "section N:  2 / 2\n",
      "section N:  1 / 1\n",
      "section N:  1 / 1\n",
      "section N:  1 / 4\n",
      "section N:  2 / 4\n",
      "section N:  3 / 4\n",
      "section N:  4 / 4\n",
      "section N:  1 / 1\n"
     ]
    }
   ],
   "source": [
    "df=[]\n",
    "for imidx,imname in enumerate(imlist):\n",
    "    fn, ext = os.path.splitext(os.path.basename(imname))\n",
    "    if os.path.exists(os.path.join(dst, '{}_sec{:02d}.png'.format(fn, 1))):\n",
    "        print('continue')\n",
    "        continue\n",
    "    # open image\n",
    "    im = Image.open(imname)\n",
    "    TAbig = np.array(im)\n",
    "    # downsize to expedite\n",
    "    (width, height) = (im.width // 10, im.height // 10)\n",
    "    im_resized = im.resize((width, height), resample=0)\n",
    "    TA = np.array(im_resized)\n",
    "    sure_fg = closing((2 < TA) & (TA < whitespace - 1), square(3))  # 13sec\n",
    "    sure_fg = remove_small_objects(sure_fg, min_size=minTA, connectivity=2)  # 6sec\n",
    "    sure_fg = remove_small_holes(sure_fg, area_threshold=minTAhole).astype(np.uint8)  # 7sec\n",
    "    # define background\n",
    "    bw = closing(TA < whitespace, square(3))  # 12 is background\n",
    "    bw = remove_small_objects(bw, min_size=minTA, connectivity=2)\n",
    "    bw = remove_small_holes(bw, area_threshold=minTAhole)\n",
    "    kernel = np.ones((3, 3), np.uint8)\n",
    "    opening = cv2.morphologyEx(bw.astype(np.uint8), cv2.MORPH_OPEN, kernel, iterations=2)  # 2sec\n",
    "    sure_bg = cv2.dilate(opening, kernel, iterations=3)\n",
    "    # define middleground\n",
    "    unknown = cv2.subtract(sure_bg, sure_fg).astype('bool')\n",
    "    # label that background is 1 and objects are 2~N and middleground is zero\n",
    "    sure_fg_label = label(sure_fg).astype(np.int32)\n",
    "    sure_fg_label = sure_fg_label + 1\n",
    "    sure_fg_label[unknown] = 0\n",
    "    # perform watershed based on the marker\n",
    "    TAbgr = cv2.cvtColor(TA, cv2.COLOR_GRAY2BGR)\n",
    "    label_image = cv2.watershed(TAbgr, sure_fg_label)\n",
    "    # iterate each section\n",
    "    epi = (TA == 1) | (TA == 2)\n",
    "    derm = (2 < TA) & (TA < whitespace)\n",
    "    derm = remove_small_holes(derm, area_threshold=minDermhole)\n",
    "    epi2 = epi & ~derm\n",
    "    epi2 = remove_small_objects(epi2, min_size=minepisize, connectivity=2)\n",
    "    numsecmax = np.max(label_image)\n",
    "    for numsec in range(1,numsecmax):\n",
    "        print('section N: ', numsec, '/', numsecmax-1)\n",
    "        msktmp = label_image == numsec+1\n",
    "        mskepi = msktmp & epi2\n",
    "        # align horizontal\n",
    "        [xt2, yt2] = np.where(mskepi)\n",
    "        vertices = np.array([xt2[::10], yt2[::10]]).T\n",
    "        vc = vertices - vertices.mean(axis=0)\n",
    "        if not vertices.any():\n",
    "            print(imidx,numsec)\n",
    "            # raise Exception(\"tissue is erased unintentionally\")\n",
    "        U, S, Vt = np.linalg.svd(vc)\n",
    "        k = Vt.T\n",
    "        d0 = degrees(atan2(k[1, 1], k[1, 0]))\n",
    "        if np.linalg.det(k)<0: d0=-d0\n",
    "        if d0<0: d0=d0+360\n",
    "        k=k.flatten()\n",
    "        #add to dataframes\n",
    "        df.append({'imID':imidx,'imname': fn, 'secN': numsec,'k':k.flatten(),'degrot': round(d0,2)})\n",
    "        df2 = pd.DataFrame(df)\n",
    "        df2.to_csv(os.path.join(dst,'CLUEdegrot.csv'))"
   ],
   "metadata": {
    "collapsed": false,
    "pycharm": {
     "name": "#%%\n"
    }
   }
  },
  {
   "cell_type": "code",
   "execution_count": 4,
   "outputs": [
    {
     "name": "stdout",
     "output_type": "stream",
     "text": [
      "section N:  4 / 4\n",
      "-165.04876239436328\n"
     ]
    }
   ],
   "source": [
    "imname=imlist[4]\n",
    "fn, ext = os.path.splitext(os.path.basename(imname))\n",
    "# open image\n",
    "im = Image.open(imname)\n",
    "TAbig = np.array(im)\n",
    "# downsize to expedite\n",
    "(width, height) = (im.width // 10, im.height // 10)\n",
    "im_resized = im.resize((width, height), resample=0)\n",
    "TA = np.array(im_resized)\n",
    "sure_fg = closing((2 < TA) & (TA < whitespace - 1), square(3))  # 13sec\n",
    "sure_fg = remove_small_objects(sure_fg, min_size=minTA, connectivity=2)  # 6sec\n",
    "sure_fg = remove_small_holes(sure_fg, area_threshold=minTAhole).astype(np.uint8)  # 7sec\n",
    "# define background\n",
    "bw = closing(TA < whitespace, square(3))  # 12 is background\n",
    "bw = remove_small_objects(bw, min_size=minTA, connectivity=2)\n",
    "bw = remove_small_holes(bw, area_threshold=minTAhole)\n",
    "kernel = np.ones((3, 3), np.uint8)\n",
    "opening = cv2.morphologyEx(bw.astype(np.uint8), cv2.MORPH_OPEN, kernel, iterations=2)  # 2sec\n",
    "sure_bg = cv2.dilate(opening, kernel, iterations=3)\n",
    "# define middleground\n",
    "unknown = cv2.subtract(sure_bg, sure_fg).astype('bool')\n",
    "# label that background is 1 and objects are 2~N and middleground is zero\n",
    "sure_fg_label = label(sure_fg).astype(np.int32)\n",
    "sure_fg_label = sure_fg_label + 1\n",
    "sure_fg_label[unknown] = 0\n",
    "# perform watershed based on the marker\n",
    "TAbgr = cv2.cvtColor(TA, cv2.COLOR_GRAY2BGR)\n",
    "label_image = cv2.watershed(TAbgr, sure_fg_label)\n",
    "# iterate each section\n",
    "epi = (TA == 1) | (TA == 2)\n",
    "derm = (2 < TA) & (TA < whitespace)\n",
    "derm = remove_small_holes(derm, area_threshold=minDermhole)\n",
    "epi2 = epi & ~derm\n",
    "epi2 = remove_small_objects(epi2, min_size=minepisize, connectivity=2)\n",
    "numsecmax = np.max(label_image)\n",
    "numsec=4\n",
    "print('section N: ', numsec, '/', numsecmax-1)\n",
    "msktmp = label_image == numsec+1\n",
    "mskepi = msktmp & epi2\n",
    "# align horizontal\n",
    "[xt2, yt2] = np.where(mskepi)\n",
    "vertices = np.array([xt2[::10], yt2[::10]]).T\n",
    "vc = vertices - vertices.mean(axis=0)\n",
    "if not vertices.any():\n",
    "    print(imidx,numsec)\n",
    "    # raise Exception(\"tissue is erased unintentionally\")\n",
    "U, S, Vt = np.linalg.svd(vc)\n",
    "k = Vt.T\n",
    "d0 = degrees(atan2(k[1, 1], k[1, 0]))\n",
    "if np.linalg.det(k)<0: d0=-d0\n",
    "print(d0)"
   ],
   "metadata": {
    "collapsed": false,
    "pycharm": {
     "name": "#%%\n"
    }
   }
  },
  {
   "cell_type": "code",
   "execution_count": 9,
   "outputs": [
    {
     "data": {
      "text/plain": "<matplotlib.image.AxesImage at 0x1ce5b5d24f0>"
     },
     "execution_count": 9,
     "metadata": {},
     "output_type": "execute_result"
    },
    {
     "data": {
      "text/plain": "<Figure size 432x288 with 1 Axes>",
      "image/png": "[encoded data removed]"
     },
     "metadata": {
      "needs_background": "light"
     },
     "output_type": "display_data"
    }
   ],
   "source": [
    "sure_fg = closing((2 < TA) & (TA < whitespace - 1), square(3))  # 13sec\n",
    "sure_fg = remove_small_objects(sure_fg, min_size=60000, connectivity=2)  # 6sec\n",
    "sure_fg = remove_small_holes(sure_fg, area_threshold=minTAhole).astype(np.uint8)  # 7sec\n",
    "plt.imshow(sure_fg)"
   ],
   "metadata": {
    "collapsed": false,
    "pycharm": {
     "name": "#%%\n"
    }
   }
  }
 ],
 "metadata": {
  "kernelspec": {
   "display_name": "Python 3",
   "language": "python",
   "name": "python3"
  },
  "language_info": {
   "codemirror_mode": {
    "name": "ipython",
    "version": 2
   },
   "file_extension": ".py",
   "mimetype": "text/x-python",
   "name": "python",
   "nbconvert_exporter": "python",
   "pygments_lexer": "ipython2",
   "version": "2.7.6"
  }
 },
 "nbformat": 4,
 "nbformat_minor": 0
}
