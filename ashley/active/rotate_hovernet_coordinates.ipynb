{
 "cells": [
  {
   "cell_type": "code",
   "execution_count": 99,
   "metadata": {
    "collapsed": true,
    "pycharm": {
     "name": "#%%\n"
    }
   },
   "outputs": [],
   "source": [
    "#rotate and crop each tissue section in DL mask\n",
    "#save rotational angle\n",
    "#save bounding box coordinate and crop"
   ]
  },
  {
   "cell_type": "code",
   "execution_count": 100,
   "outputs": [],
   "source": [
    "#read json for centroid of each cell\n",
    "#adjust centroid coordinates from WSI-space to crop/rotated-space\n",
    "#assign cell type to each nuclei-object based on the pixel value of crop/rotated DL mask"
   ],
   "metadata": {
    "collapsed": false,
    "pycharm": {
     "name": "#%%\n"
    }
   }
  },
  {
   "cell_type": "code",
   "execution_count": 2,
   "outputs": [],
   "source": [
    "import json\n",
    "import pandas as pd\n",
    "import pandas as pd\n",
    "from PIL import Image\n",
    "Image.MAX_IMAGE_PIXELS=None\n",
    "import numpy as np\n",
    "from skimage.measure import label\n",
    "from skimage.morphology import closing, square, remove_small_objects, remove_small_holes\n",
    "from skimage.transform import rotate\n",
    "from math import atan2, degrees\n",
    "import glob,os\n",
    "from natsort import natsorted\n",
    "from copy import deepcopy\n",
    "import cv2\n",
    "from time import time\n",
    "from skimage.measure import regionprops\n",
    "from matplotlib import pyplot as plt\n",
    "import time"
   ],
   "metadata": {
    "collapsed": false,
    "pycharm": {
     "name": "#%%\n"
    }
   }
  },
  {
   "cell_type": "code",
   "execution_count": 3,
   "outputs": [],
   "source": [
    "def rotate_image_cv2(mat, angle):\n",
    "    \"\"\"\n",
    "    Rotates an image (angle in degrees) and expands image to avoid cropping\n",
    "    \"\"\"\n",
    "\n",
    "\n",
    "    height, width = mat.shape[:2] # image shape has 3 dimensions\n",
    "\n",
    "\n",
    "    image_center = (width/2, height/2) # getRotationMatrix2D needs coordinates in reverse order (width, height) compared to shape\n",
    "\n",
    "    rotation_mat = cv2.getRotationMatrix2D(image_center, angle, 1.)\n",
    "\n",
    "    # rotation calculates the cos and sin, taking absolutes of those.\n",
    "    abs_cos = abs(rotation_mat[0,0])\n",
    "    abs_sin = abs(rotation_mat[0,1])\n",
    "\n",
    "    # find the new width and height bounds\n",
    "    bound_w = int(height * abs_sin + width * abs_cos)\n",
    "    bound_h = int(height * abs_cos + width * abs_sin)\n",
    "\n",
    "    # subtract old image center (bringing image back to origo) and adding the new image center coordinates\n",
    "    rotation_mat[0, 2] += bound_w/2 - image_center[0]\n",
    "    rotation_mat[1, 2] += bound_h/2 - image_center[1]\n",
    "\n",
    "    # rotate image with the new bounds and translated rotation matrix\n",
    "    rotated_mat = cv2.warpAffine(mat, rotation_mat, (bound_w, bound_h), flags=cv2.INTER_NEAREST)\n",
    "    return rotated_mat"
   ],
   "metadata": {
    "collapsed": false,
    "pycharm": {
     "name": "#%%\n"
    }
   }
  },
  {
   "cell_type": "code",
   "execution_count": null,
   "outputs": [],
   "source": [
    "\n",
    "# Opening JSON file\n",
    "json = r\"C:\\Users\\kyuha\\Desktop\\hovernet_rotate\\21.json\"\n",
    "json = pd.read_json(json, orient='index')\n",
    "json = pd.DataFrame(json[0].loc['nuc']).T.drop(columns=['type_prob'])\n",
    "json = json[json['contour'].map(len) > 5].reset_index(drop=True)"
   ],
   "metadata": {
    "collapsed": false,
    "pycharm": {
     "name": "#%%\n"
    }
   }
  },
  {
   "cell_type": "code",
   "execution_count": null,
   "outputs": [],
   "source": [
    "msk_pth = r\"C:\\Users\\kyuha\\Desktop\\hovernet_rotate\\21dl.tif\"\n",
    "im_msk = Image.open(msk_pth)\n",
    "\n",
    "im_pth = r\"C:\\Users\\kyuha\\Desktop\\hovernet_rotate\\21im.tif\"\n",
    "im = Image.open(im_pth)"
   ],
   "metadata": {
    "collapsed": false,
    "pycharm": {
     "name": "#%%\n"
    }
   }
  },
  {
   "cell_type": "code",
   "execution_count": null,
   "outputs": [],
   "source": [
    "#need the original dimension of the wsi image, because the json file coordinates are based on it\n",
    "from openslide import OpenSlide\n",
    "ndpi = OpenSlide(r\"\\\\fatherserverdw\\Q\\research\\images\\skin_aging\\wsi\\21.ndpi\")\n",
    "(w,h) = ndpi.level_dimensions[0]"
   ],
   "metadata": {
    "collapsed": false,
    "pycharm": {
     "name": "#%%\n"
    }
   }
  },
  {
   "cell_type": "code",
   "execution_count": null,
   "outputs": [],
   "source": [
    "(w,h)"
   ],
   "metadata": {
    "collapsed": false,
    "pycharm": {
     "name": "#%%\n"
    }
   }
  },
  {
   "cell_type": "code",
   "execution_count": null,
   "outputs": [],
   "source": [
    "#create mask for all nuclei, record time\n",
    "start_time = time.time()\n",
    "nuc_image = np.zeros((h,w)) #need to flip h and w\n",
    "for idx,ct in enumerate(json['contour']):\n",
    "     cv2.fillPoly(nuc_image, pts=[np.array(ct).astype(np.int32)],  color=idx+1)\n",
    "\n",
    "print(\"--- %s seconds ---\" % (time.time() - start_time))"
   ],
   "metadata": {
    "collapsed": false,
    "pycharm": {
     "name": "#%%\n"
    }
   }
  },
  {
   "cell_type": "code",
   "execution_count": null,
   "outputs": [],
   "source": [
    "# Define minimum sizes of tissue objects at 1um resolution\n",
    "minTA = 20000\n",
    "minTAhole = 100\n",
    "minDermhole = 5000\n",
    "minepisize=1000\n",
    "whitespace=12 #define background pixel value\n",
    "\n",
    "\n",
    "msk_pth = r\"C:\\Users\\kyuha\\Desktop\\hovernet_rotate\\21dl.tif\"\n",
    "mask = Image.open(msk_pth)\n",
    "\n",
    "im_pth = r\"C:\\Users\\kyuha\\Desktop\\hovernet_rotate\\21im.tif\"\n",
    "im = Image.open(im_pth)\n",
    "\n",
    "dst = r\"C:\\Users\\kyuha\\Desktop\\hovernet_rotate\"\n",
    "\n",
    "\n",
    "degrot =[47.61, 184.13]\n",
    "TAbig = np.array(mask)\n",
    "\n",
    "#label mask\n",
    "(width, height) = (mask.width // 10, mask.height // 10) #downsize by 10\n",
    "mask_resized = mask.resize((width, height), resample=0) #nearest interpolation to rescale\n",
    "TA = np.array(mask_resized) # convert DL mask to numpy array\n",
    "# separate touching tissue sections using WATERSHED segmentation\n",
    "sure_foreground = (2 < TA) & (TA < whitespace - 1) #define tissue section conservatively by removing corneum==1, and removing fat==12, so this foreground does not touch adjacent tissue section for sure.\n",
    "\n",
    "sure_fg = closing(sure_foreground, square(3))  # 13sec\n",
    "# remove small objects not connected to the tissue section\n",
    "sure_fg = remove_small_objects(sure_fg, min_size=minTA, connectivity=2)  # 6sec\n",
    "\n",
    "sure_fg = remove_small_holes(sure_fg, area_threshold=minTAhole).astype(np.uint8)\n",
    "\n",
    "bw = closing(TA < whitespace, square(3))  # 12 is background\n",
    "bw = remove_small_objects(bw, min_size=minTA, connectivity=2)\n",
    "bw = remove_small_holes(bw, area_threshold=minTAhole)\n",
    "# morphological opening : erosion followed by an dilation to remove small objects\n",
    "kernel = np.ones((3, 3), np.uint8)\n",
    "opening = cv2.morphologyEx(bw.astype(np.uint8), cv2.MORPH_OPEN, kernel, iterations=2)  # 2sec\n",
    "# dilate to be more lenient in defining tissue section area\n",
    "sure_bg = cv2.dilate(opening, kernel, iterations=3)\n",
    "\n",
    "unknown = cv2.subtract(sure_bg, sure_fg).astype(np.bool)\n",
    "\n",
    "sure_fg_label = label(sure_fg).astype(np.int32)\n",
    "sure_fg_label = sure_fg_label + 1 #objects are 2~N\n",
    "sure_fg_label[unknown] = 0 #middle ground is 0\n",
    "\n",
    "#get labeled image\n",
    "TAbgr = cv2.cvtColor(TA, cv2.COLOR_GRAY2BGR) #convert downsized DL mask to BGR color channel\n",
    "label_image = cv2.watershed(TAbgr, sure_fg_label) #apply watershed using fg,bg,mg, defined mask\n",
    "\n",
    "# iterate each section\n",
    "epi = (TA == 1) | (TA == 2)\n",
    "derm = (2 < TA) & (TA < whitespace)\n",
    "derm = remove_small_holes(derm, area_threshold=minDermhole)\n",
    "\n",
    "epi2 = epi & ~derm\n",
    "epi2 = remove_small_objects(epi2, min_size=minepisize, connectivity=2)"
   ],
   "metadata": {
    "collapsed": false,
    "pycharm": {
     "name": "#%%\n"
    }
   }
  },
  {
   "cell_type": "code",
   "execution_count": null,
   "outputs": [],
   "source": [
    "\n",
    "numsecmax = np.max(label_image)"
   ],
   "metadata": {
    "collapsed": false,
    "pycharm": {
     "name": "#%%\n"
    }
   }
  },
  {
   "cell_type": "code",
   "execution_count": null,
   "outputs": [],
   "source": [
    "tmp_json = deepcopy(json)"
   ],
   "metadata": {
    "collapsed": false,
    "pycharm": {
     "name": "#%%\n"
    }
   }
  },
  {
   "cell_type": "code",
   "execution_count": null,
   "outputs": [],
   "source": [
    "#Test with just section 2\n",
    "\n",
    "for numsec in range(1,numsecmax):\n",
    "    print('section N: ', numsec, '/', numsecmax-1)\n",
    "\n",
    "    msktmp = label_image == numsec+1\n",
    "    mskepi = msktmp & epi2\n",
    "    # align horizontal\n",
    "    [xt2, yt2] = np.where(mskepi)\n",
    "    vertices = np.array([xt2[::10], yt2[::10]]).T\n",
    "    vc = vertices - vertices.mean(axis=0)\n",
    "\n",
    "    U, S, Vt = np.linalg.svd(vc)\n",
    "    k = Vt.T\n",
    "    d0 = degrees(atan2(k[1, 1], k[1, 0]))\n",
    "    if np.linalg.det(k)<0: d0=-d0\n",
    "\n",
    "\n",
    "    TAtmp = deepcopy(TAbig)\n",
    "    #resize TAtmp to size (73728, 17920), same as nuclei image\n",
    "    TAtmp = cv2.resize(TAtmp.astype(\"uint8\"), dsize=(w,h), interpolation=cv2.INTER_NEAREST)\n",
    "    mskbig = cv2.resize(msktmp.astype(np.uint8), TAtmp.shape[::-1], interpolation=cv2.INTER_NEAREST)\n",
    "    im_resized =cv2.resize(np.array(im), dsize=(w,h), interpolation=cv2.INTER_NEAREST)\n",
    "\n",
    "    # delete non-ROI from scaled up ROI\n",
    "    kernel = np.ones((20, 20), np.uint8)\n",
    "    mskbig = cv2.dilate(mskbig, kernel, iterations=3)\n",
    "    TAtmp[mskbig == 0] = 0  #1sec\n",
    "\n",
    "    #crop, rotate, crop\n",
    "    [xt, yt] = np.where(TAtmp[:,:])\n",
    "    mskrot =TAtmp[np.min(xt):np.max(xt), np.min(yt):np.max(yt)]\n",
    "    mskrot2 = rotate_image_cv2(mskrot, d0)\n",
    "    imrot = im_resized[np.min(xt):np.max(xt), np.min(yt):np.max(yt)]\n",
    "    imrot2 = rotate_image_cv2(imrot, d0)\n",
    "\n",
    "    [xt2, yt2] = np.where(mskrot2)\n",
    "    mskrot3 = mskrot2[np.min(xt2):np.max(xt2), np.min(yt2):np.max(yt2)]\n",
    "    imrot3 = imrot2[np.min(xt2):np.max(xt2), np.min(yt2):np.max(yt2)]\n",
    "\n",
    "    # if dermis is above epidermis, flip it\n",
    "    [xt3, yt3] = np.where(mskrot3)\n",
    "    [xt4, yt4] = np.where((mskrot3 == 1) | (mskrot3 == 2))\n",
    "    if np.mean(xt3) - np.mean(xt4) < 0:\n",
    "        mskrot3 = np.rot90(np.rot90(mskrot3))\n",
    "        imrot3 = np.rot90(np.rot90(imrot3))\n",
    "        d0 += 180\n",
    "\n",
    "    mskrot3[mskrot3 == 0] = whitespace\n",
    "    imrot3[imrot3 == 0] = 235\n",
    "\n",
    "    #TODO: can we assume that all parts of the nuclei are in the tissue?\n",
    "    nuc_sec_mask = deepcopy(nuc_image)\n",
    "    nuc_sec_mask[mskbig != 1] = 0\n",
    "\n",
    "    #we use the same xt,yt for mskbig\n",
    "    nuc_sec_rot =nuc_sec_mask[np.min(xt):np.max(xt), np.min(yt):np.max(yt)]\n",
    "    #rot nuclei\n",
    "    nuc_sec_rot = rotate_image_cv2(nuc_sec_rot, d0)\n",
    "\n",
    "    #crop again\n",
    "    nuc_sec_rot2 =nuc_sec_rot[np.min(xt2):np.max(xt2), np.min(yt2):np.max(yt2)]\n",
    "\n",
    "    #save images\n",
    "    Image.fromarray(nuc_sec_rot2.astype('uint32')).save(\n",
    "        os.path.join(dst, '{}nuc_sec{:02d}.png'.format(\"21\", numsec)))\n",
    "\n",
    "    Image.fromarray(mskrot3.astype('int8')).save(\n",
    "        os.path.join(dst, '{}msk_sec{:02d}.png'.format(\"21\", numsec)))\n",
    "\n"
   ],
   "metadata": {
    "collapsed": false,
    "pycharm": {
     "name": "#%%\n"
    }
   }
  },
  {
   "cell_type": "code",
   "execution_count": null,
   "outputs": [],
   "source": [
    "#---------test work with section 2 for now------\n",
    "#note: nuclei idx in df = color - 1"
   ],
   "metadata": {
    "collapsed": false,
    "pycharm": {
     "name": "#%%\n"
    }
   }
  },
  {
   "cell_type": "code",
   "execution_count": null,
   "outputs": [],
   "source": [
    "nuc2_df = pd.DataFrame(columns=['id','tissue_id','centroid','contour'])\n"
   ],
   "metadata": {
    "collapsed": false,
    "pycharm": {
     "name": "#%%\n"
    }
   }
  },
  {
   "cell_type": "code",
   "execution_count": null,
   "outputs": [],
   "source": [
    "stats = regionprops(nuc_sec_rot2.astype(np.uint32))"
   ],
   "metadata": {
    "collapsed": false,
    "pycharm": {
     "name": "#%%\n"
    }
   }
  },
  {
   "cell_type": "code",
   "execution_count": null,
   "outputs": [],
   "source": [
    "ids = []\n",
    "cell_types = []\n",
    "contours = []\n",
    "centroids = []\n",
    "\n",
    "for idx, stat in enumerate(stats):\n",
    "    ids.append((stat.label - 1))\n",
    "    cent = stat.centroid\n",
    "    centroids.append(cent)\n",
    "    contours.append(stat.coords)\n",
    "    tissue_id = mskrot3[np.round(cent[0]).astype('uint32'),np.round(cent[1]).astype('uint32')] #row,col\n",
    "    cell_types.append(tissue_id)\n",
    "\n"
   ],
   "metadata": {
    "collapsed": false,
    "pycharm": {
     "name": "#%%\n"
    }
   }
  },
  {
   "cell_type": "code",
   "execution_count": null,
   "outputs": [],
   "source": [
    "nuc2_df['id'] = ids\n",
    "nuc2_df['tissue_id'] = cell_types\n",
    "nuc2_df['centroid'] = centroids\n",
    "nuc2_df['contour'] = contours"
   ],
   "metadata": {
    "collapsed": false,
    "pycharm": {
     "name": "#%%\n"
    }
   }
  },
  {
   "cell_type": "code",
   "execution_count": null,
   "outputs": [],
   "source": [
    "#nuc2_df.to_feather(r\"C:\\Users\\kyuha\\Desktop\\hovernet_rotate\\nuc_sec2.ftr\")\n",
    "nuc2_df.to_csv(os.path.join(dst, 'nuc_sec2.csv'))"
   ],
   "metadata": {
    "collapsed": false,
    "pycharm": {
     "name": "#%%\n"
    }
   }
  },
  {
   "cell_type": "code",
   "execution_count": null,
   "outputs": [],
   "source": [
    "#draw nuclei centroids on the tissue image and visually verify my assignment of section id\n"
   ],
   "metadata": {
    "collapsed": false,
    "pycharm": {
     "name": "#%%\n"
    }
   }
  },
  {
   "cell_type": "code",
   "execution_count": null,
   "outputs": [],
   "source": [
    "#must enlarge image to the size of nuclei image\n",
    "#need to input the rotated & cropped tissue section of im"
   ],
   "metadata": {
    "collapsed": false,
    "pycharm": {
     "name": "#%%\n"
    }
   }
  },
  {
   "cell_type": "code",
   "execution_count": null,
   "outputs": [],
   "source": [
    "#add nuclei centroid in the image\n",
    "for cnt in nuc2_df['centroid']:\n",
    "    imrot3[np.round(cnt[0]).astype(\"uint32\"),np.round(cnt[1]).astype(\"uint32\")] = [0,255,0]"
   ],
   "metadata": {
    "collapsed": false,
    "pycharm": {
     "name": "#%%\n"
    }
   }
  },
  {
   "cell_type": "code",
   "execution_count": null,
   "outputs": [],
   "source": [
    "#resize im_resized back to original size to make saving faster"
   ],
   "metadata": {
    "collapsed": false,
    "pycharm": {
     "name": "#%%\n"
    }
   }
  },
  {
   "cell_type": "code",
   "execution_count": null,
   "outputs": [],
   "source": [
    "Image.fromarray(im_resized).save(os.path.join(dst,\"verify_nuclei_centroid.png\"))"
   ],
   "metadata": {
    "collapsed": false,
    "pycharm": {
     "name": "#%%\n"
    }
   }
  },
  {
   "cell_type": "code",
   "execution_count": null,
   "outputs": [],
   "source": [
    "#image2 = cv2.circle(image, (30,10), radius=0, color=(0, 0, 255), thickness=-1)\n",
    "for cnt in nuc2_df['centroid']:\n",
    "    cv2.circle(imrot3, (np.round(cnt[0]).astype(\"uint32\"),np.round(cnt[1]).astype(\"uint32\")), radius=5, color=(0, 255, 0), thickness=50)\n"
   ],
   "metadata": {
    "collapsed": false,
    "pycharm": {
     "name": "#%%\n"
    }
   }
  },
  {
   "cell_type": "markdown",
   "source": [],
   "metadata": {
    "collapsed": false,
    "pycharm": {
     "name": "#%% md\n"
    }
   }
  },
  {
   "cell_type": "code",
   "execution_count": null,
   "outputs": [],
   "source": [
    "Image.fromarray(imrot3).save(os.path.join(dst,\"verify_nuclei_centroid.png\"))"
   ],
   "metadata": {
    "collapsed": false,
    "pycharm": {
     "name": "#%%\n"
    }
   }
  },
  {
   "cell_type": "code",
   "execution_count": null,
   "outputs": [],
   "source": [],
   "metadata": {
    "collapsed": false,
    "pycharm": {
     "name": "#%%\n"
    }
   }
  }
 ],
 "metadata": {
  "kernelspec": {
   "display_name": "Python 3",
   "language": "python",
   "name": "python3"
  },
  "language_info": {
   "codemirror_mode": {
    "name": "ipython",
    "version": 2
   },
   "file_extension": ".py",
   "mimetype": "text/x-python",
   "name": "python",
   "nbconvert_exporter": "python",
   "pygments_lexer": "ipython2",
   "version": "2.7.6"
  }
 },
 "nbformat": 4,
 "nbformat_minor": 0
}