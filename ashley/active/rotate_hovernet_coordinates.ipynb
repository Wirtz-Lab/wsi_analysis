{
 "cells": [
  {
   "cell_type": "code",
   "execution_count": 99,
   "metadata": {
    "collapsed": true,
    "pycharm": {
     "name": "#%%\n"
    }
   },
   "outputs": [],
   "source": [
    "#rotate and crop each tissue section in DL mask\n",
    "#save rotational angle\n",
    "#save bounding box coordinate and crop"
   ]
  },
  {
   "cell_type": "code",
   "execution_count": 100,
   "outputs": [],
   "source": [
    "#read json for centroid of each cell\n",
    "#adjust centroid coordinates from WSI-space to crop/rotated-space\n",
    "#assign cell type to each nuclei-object based on the pixel value of crop/rotated DL mask"
   ],
   "metadata": {
    "collapsed": false,
    "pycharm": {
     "name": "#%%\n"
    }
   }
  },
  {
   "cell_type": "code",
   "execution_count": 127,
   "outputs": [],
   "source": [
    "import json\n",
    "import pandas as pd\n",
    "import pandas as pd\n",
    "from PIL import Image\n",
    "Image.MAX_IMAGE_PIXELS=None\n",
    "import numpy as np\n",
    "from skimage.measure import label\n",
    "from skimage.morphology import closing, square, remove_small_objects, remove_small_holes\n",
    "from skimage.transform import rotate\n",
    "from math import atan2, degrees\n",
    "import glob,os\n",
    "from natsort import natsorted\n",
    "from copy import deepcopy\n",
    "import cv2\n",
    "from time import time\n",
    "from skimage.measure import regionprops\n",
    "from matplotlib import pyplot as plt\n",
    "import time"
   ],
   "metadata": {
    "collapsed": false,
    "pycharm": {
     "name": "#%%\n"
    }
   }
  },
  {
   "cell_type": "code",
   "execution_count": 128,
   "outputs": [],
   "source": [
    "def rotate_image_cv2(mat, angle):\n",
    "    \"\"\"\n",
    "    Rotates an image (angle in degrees) and expands image to avoid cropping\n",
    "    \"\"\"\n",
    "\n",
    "    height, width = mat.shape[:2] # image shape has 3 dimensions\n",
    "    image_center = (width/2, height/2) # getRotationMatrix2D needs coordinates in reverse order (width, height) compared to shape\n",
    "\n",
    "    rotation_mat = cv2.getRotationMatrix2D(image_center, angle, 1.)\n",
    "\n",
    "    # rotation calculates the cos and sin, taking absolutes of those.\n",
    "    abs_cos = abs(rotation_mat[0,0])\n",
    "    abs_sin = abs(rotation_mat[0,1])\n",
    "\n",
    "    # find the new width and height bounds\n",
    "    bound_w = int(height * abs_sin + width * abs_cos)\n",
    "    bound_h = int(height * abs_cos + width * abs_sin)\n",
    "\n",
    "    # subtract old image center (bringing image back to origo) and adding the new image center coordinates\n",
    "    rotation_mat[0, 2] += bound_w/2 - image_center[0]\n",
    "    rotation_mat[1, 2] += bound_h/2 - image_center[1]\n",
    "\n",
    "    # rotate image with the new bounds and translated rotation matrix\n",
    "    rotated_mat = cv2.warpAffine(mat, rotation_mat, (bound_w, bound_h))\n",
    "    return rotated_mat"
   ],
   "metadata": {
    "collapsed": false,
    "pycharm": {
     "name": "#%%\n"
    }
   }
  },
  {
   "cell_type": "code",
   "execution_count": 137,
   "outputs": [],
   "source": [
    "\n",
    "# Opening JSON file\n",
    "json = r\"C:\\Users\\kyuha\\Desktop\\hovernet_rotate\\21.json\"\n",
    "json = pd.read_json(json, orient='index')\n",
    "json = pd.DataFrame(json[0].loc['nuc']).T.drop(columns=['type_prob'])\n",
    "json = json[json['contour'].map(len) > 5].reset_index(drop=True)"
   ],
   "metadata": {
    "collapsed": false,
    "pycharm": {
     "name": "#%%\n"
    }
   }
  },
  {
   "cell_type": "code",
   "execution_count": 138,
   "outputs": [],
   "source": [
    "msk_pth = r\"C:\\Users\\kyuha\\Desktop\\hovernet_rotate\\21dl.tif\"\n",
    "im_msk = Image.open(msk_pth)\n",
    "\n",
    "im_pth = r\"C:\\Users\\kyuha\\Desktop\\hovernet_rotate\\21im.tif\"\n",
    "im = Image.open(im_pth)"
   ],
   "metadata": {
    "collapsed": false,
    "pycharm": {
     "name": "#%%\n"
    }
   }
  },
  {
   "cell_type": "code",
   "execution_count": 139,
   "outputs": [],
   "source": [
    "#need the original dimension of the wsi image, because the json file coordinates are based on it\n",
    "from openslide import OpenSlide\n",
    "ndpi = OpenSlide(r\"\\\\fatherserverdw\\Q\\research\\images\\skin_aging\\wsi\\21.ndpi\")\n",
    "(w,h) = ndpi.level_dimensions[0]"
   ],
   "metadata": {
    "collapsed": false,
    "pycharm": {
     "name": "#%%\n"
    }
   }
  },
  {
   "cell_type": "code",
   "execution_count": 140,
   "outputs": [
    {
     "name": "stdout",
     "output_type": "stream",
     "text": [
      "--- 0.9521300792694092 seconds ---\n"
     ]
    }
   ],
   "source": [
    "#create mask for all nuclei, record time\n",
    "start_time = time.time()\n",
    "nuc_image = np.zeros((h,w)) #need to flip h and w\n",
    "for idx,ct in enumerate(json['contour']):\n",
    "     cv2.fillPoly(nuc_image, pts=[np.array(ct).astype(np.int32)],  color=idx)\n",
    "\n",
    "print(\"--- %s seconds ---\" % (time.time() - start_time))"
   ],
   "metadata": {
    "collapsed": false,
    "pycharm": {
     "name": "#%%\n"
    }
   }
  },
  {
   "cell_type": "code",
   "execution_count": 141,
   "outputs": [],
   "source": [
    "degrot  = [47.61, 184.13] #47.61 is wrong"
   ],
   "metadata": {
    "collapsed": false,
    "pycharm": {
     "name": "#%%\n"
    }
   }
  },
  {
   "cell_type": "code",
   "execution_count": 142,
   "outputs": [
    {
     "data": {
      "text/plain": "                                 bbox  \\\n0        [[3519, 9945], [3536, 9954]]   \n1        [[3878, 9852], [3894, 9861]]   \n2      [[1347, 16198], [1363, 16209]]   \n3      [[1361, 16173], [1380, 16184]]   \n4      [[1392, 16165], [1408, 16180]]   \n...                               ...   \n47462  [[71915, 8231], [71933, 8248]]   \n47463  [[71915, 8330], [71929, 8336]]   \n47464  [[71918, 8254], [71931, 8267]]   \n47465  [[71919, 7974], [71930, 7990]]   \n47466  [[71922, 8029], [71933, 8045]]   \n\n                                       centroid  \\\n0        [3805.1009174311926, 9671.37614678899]   \n1      [3712.0582524271845, 10029.563106796117]   \n2      [1866.5174825174824, 15690.237762237763]   \n3      [1842.2777777777778, 15706.145833333334]   \n4       [1835.235294117647, 15736.025210084033]   \n...                                         ...   \n47462     [71726.9574468085, 8435.685106382978]   \n47463     [71820.5294117647, 8433.558823529413]   \n47464    [71748.14634146342, 8435.796747967479]   \n47465     [71469.80952380953, 8436.07142857143]   \n47466    [71523.99159663866, 8439.226890756303]   \n\n                                                 contour  type  \n0      [[3804, 9663], [3803, 9664], [3803, 9669], [38...  None  \n1      [[3711, 10022], [3711, 10023], [3710, 10024], ...  None  \n2      [[1864, 15683], [1863, 15684], [1863, 15685], ...  None  \n3      [[1841, 15697], [1840, 15698], [1839, 15698], ...  None  \n4      [[1841, 15728], [1839, 15730], [1838, 15730], ...  None  \n...                                                  ...   ...  \n47462  [[71721, 8427], [71720, 8428], [71720, 8430], ...  None  \n47463  [[71821, 8427], [71819, 8429], [71819, 8430], ...  None  \n47464  [[71746, 8430], [71745, 8431], [71744, 8431], ...  None  \n47465  [[71464, 8431], [71463, 8432], [71462, 8432], ...  None  \n47466  [[71526, 8434], [71525, 8435], [71522, 8435], ...  None  \n\n[47467 rows x 4 columns]",
      "text/html": "<div>\n<style scoped>\n    .dataframe tbody tr th:only-of-type {\n        vertical-align: middle;\n    }\n\n    .dataframe tbody tr th {\n        vertical-align: top;\n    }\n\n    .dataframe thead th {\n        text-align: right;\n    }\n</style>\n<table border=\"1\" class=\"dataframe\">\n  <thead>\n    <tr style=\"text-align: right;\">\n      <th></th>\n      <th>bbox</th>\n      <th>centroid</th>\n      <th>contour</th>\n      <th>type</th>\n    </tr>\n  </thead>\n  <tbody>\n    <tr>\n      <th>0</th>\n      <td>[[3519, 9945], [3536, 9954]]</td>\n      <td>[3805.1009174311926, 9671.37614678899]</td>\n      <td>[[3804, 9663], [3803, 9664], [3803, 9669], [38...</td>\n      <td>None</td>\n    </tr>\n    <tr>\n      <th>1</th>\n      <td>[[3878, 9852], [3894, 9861]]</td>\n      <td>[3712.0582524271845, 10029.563106796117]</td>\n      <td>[[3711, 10022], [3711, 10023], [3710, 10024], ...</td>\n      <td>None</td>\n    </tr>\n    <tr>\n      <th>2</th>\n      <td>[[1347, 16198], [1363, 16209]]</td>\n      <td>[1866.5174825174824, 15690.237762237763]</td>\n      <td>[[1864, 15683], [1863, 15684], [1863, 15685], ...</td>\n      <td>None</td>\n    </tr>\n    <tr>\n      <th>3</th>\n      <td>[[1361, 16173], [1380, 16184]]</td>\n      <td>[1842.2777777777778, 15706.145833333334]</td>\n      <td>[[1841, 15697], [1840, 15698], [1839, 15698], ...</td>\n      <td>None</td>\n    </tr>\n    <tr>\n      <th>4</th>\n      <td>[[1392, 16165], [1408, 16180]]</td>\n      <td>[1835.235294117647, 15736.025210084033]</td>\n      <td>[[1841, 15728], [1839, 15730], [1838, 15730], ...</td>\n      <td>None</td>\n    </tr>\n    <tr>\n      <th>...</th>\n      <td>...</td>\n      <td>...</td>\n      <td>...</td>\n      <td>...</td>\n    </tr>\n    <tr>\n      <th>47462</th>\n      <td>[[71915, 8231], [71933, 8248]]</td>\n      <td>[71726.9574468085, 8435.685106382978]</td>\n      <td>[[71721, 8427], [71720, 8428], [71720, 8430], ...</td>\n      <td>None</td>\n    </tr>\n    <tr>\n      <th>47463</th>\n      <td>[[71915, 8330], [71929, 8336]]</td>\n      <td>[71820.5294117647, 8433.558823529413]</td>\n      <td>[[71821, 8427], [71819, 8429], [71819, 8430], ...</td>\n      <td>None</td>\n    </tr>\n    <tr>\n      <th>47464</th>\n      <td>[[71918, 8254], [71931, 8267]]</td>\n      <td>[71748.14634146342, 8435.796747967479]</td>\n      <td>[[71746, 8430], [71745, 8431], [71744, 8431], ...</td>\n      <td>None</td>\n    </tr>\n    <tr>\n      <th>47465</th>\n      <td>[[71919, 7974], [71930, 7990]]</td>\n      <td>[71469.80952380953, 8436.07142857143]</td>\n      <td>[[71464, 8431], [71463, 8432], [71462, 8432], ...</td>\n      <td>None</td>\n    </tr>\n    <tr>\n      <th>47466</th>\n      <td>[[71922, 8029], [71933, 8045]]</td>\n      <td>[71523.99159663866, 8439.226890756303]</td>\n      <td>[[71526, 8434], [71525, 8435], [71522, 8435], ...</td>\n      <td>None</td>\n    </tr>\n  </tbody>\n</table>\n<p>47467 rows × 4 columns</p>\n</div>"
     },
     "execution_count": 142,
     "metadata": {},
     "output_type": "execute_result"
    }
   ],
   "source": [
    "json"
   ],
   "metadata": {
    "collapsed": false,
    "pycharm": {
     "name": "#%%\n"
    }
   }
  },
  {
   "cell_type": "code",
   "execution_count": null,
   "outputs": [],
   "source": [
    "# Define minimum sizes of tissue objects at 1um resolution\n",
    "minTA = 20000\n",
    "minTAhole = 100\n",
    "minDermhole = 5000\n",
    "minepisize=1000\n",
    "whitespace=12 #define background pixel value\n",
    "\n",
    "\n",
    "msk_pth = r\"C:\\Users\\kyuha\\Desktop\\hovernet_rotate\\21dl.tif\"\n",
    "mask = Image.open(msk_pth)\n",
    "\n",
    "im_pth = r\"C:\\Users\\kyuha\\Desktop\\hovernet_rotate\\21im.tif\"\n",
    "im = Image.open(im_pth)\n",
    "\n",
    "dst = r\"C:\\Users\\kyuha\\Desktop\\hovernet_rotate\"\n",
    "\n",
    "\n",
    "degrot =[47.61, 184.13]\n",
    "TAbig = np.array(mask)\n",
    "\n",
    "#label mask\n",
    "(width, height) = (mask.width // 10, mask.height // 10) #downsize by 10\n",
    "mask_resized = mask.resize((width, height), resample=0) #nearest interpolation to rescale\n",
    "TA = np.array(mask_resized) # convert DL mask to numpy array\n",
    "# separate touching tissue sections using WATERSHED segmentation\n",
    "sure_foreground = (2 < TA) & (TA < whitespace - 1) #define tissue section conservatively by removing corneum==1, and removing fat==12, so this foreground does not touch adjacent tissue section for sure.\n",
    "\n",
    "sure_fg = closing(sure_foreground, square(3))  # 13sec\n",
    "# remove small objects not connected to the tissue section\n",
    "sure_fg = remove_small_objects(sure_fg, min_size=minTA, connectivity=2)  # 6sec\n",
    "\n",
    "sure_fg = remove_small_holes(sure_fg, area_threshold=minTAhole).astype(np.uint8)\n",
    "\n",
    "bw = closing(TA < whitespace, square(3))  # 12 is background\n",
    "bw = remove_small_objects(bw, min_size=minTA, connectivity=2)\n",
    "bw = remove_small_holes(bw, area_threshold=minTAhole)\n",
    "# morphological opening : erosion followed by an dilation to remove small objects\n",
    "kernel = np.ones((3, 3), np.uint8)\n",
    "opening = cv2.morphologyEx(bw.astype(np.uint8), cv2.MORPH_OPEN, kernel, iterations=2)  # 2sec\n",
    "# dilate to be more lenient in defining tissue section area\n",
    "sure_bg = cv2.dilate(opening, kernel, iterations=3)\n",
    "\n",
    "unknown = cv2.subtract(sure_bg, sure_fg).astype(np.bool)\n",
    "\n",
    "sure_fg_label = label(sure_fg).astype(np.int32)\n",
    "sure_fg_label = sure_fg_label + 1 #objects are 2~N\n",
    "sure_fg_label[unknown] = 0 #middle ground is 0\n",
    "\n",
    "#get labeled image\n",
    "TAbgr = cv2.cvtColor(TA, cv2.COLOR_GRAY2BGR) #convert downsized DL mask to BGR color channel\n",
    "label_image = cv2.watershed(TAbgr, sure_fg_label) #apply watershed using fg,bg,mg, defined mask\n",
    "\n",
    "# iterate each section\n",
    "epi = (TA == 1) | (TA == 2)\n",
    "derm = (2 < TA) & (TA < whitespace)\n",
    "derm = remove_small_holes(derm, area_threshold=minDermhole)\n",
    "\n",
    "epi2 = epi & ~derm\n",
    "epi2 = remove_small_objects(epi2, min_size=minepisize, connectivity=2)"
   ],
   "metadata": {
    "collapsed": false,
    "pycharm": {
     "name": "#%%\n"
    }
   }
  },
  {
   "cell_type": "code",
   "execution_count": null,
   "outputs": [],
   "source": [
    "sec = []\n",
    "numsecmax = np.max(label_image)"
   ],
   "metadata": {
    "collapsed": false,
    "pycharm": {
     "name": "#%%\n"
    }
   }
  },
  {
   "cell_type": "code",
   "execution_count": 151,
   "outputs": [
    {
     "data": {
      "text/plain": "(33495, 8142)"
     },
     "execution_count": 151,
     "metadata": {},
     "output_type": "execute_result"
    }
   ],
   "source": [
    "im_msk.size"
   ],
   "metadata": {
    "collapsed": false,
    "pycharm": {
     "name": "#%%\n"
    }
   }
  },
  {
   "cell_type": "code",
   "execution_count": 152,
   "outputs": [
    {
     "data": {
      "text/plain": "(73728, 17920)"
     },
     "execution_count": 152,
     "metadata": {},
     "output_type": "execute_result"
    }
   ],
   "source": [
    "ndpi.level_dimensions[0]"
   ],
   "metadata": {
    "collapsed": false,
    "pycharm": {
     "name": "#%%\n"
    }
   }
  },
  {
   "cell_type": "code",
   "execution_count": 155,
   "outputs": [],
   "source": [
    "enlarge_label_image =  cv2.resize(label_image.astype(\"uint8\"), dsize=(73728, 17920), interpolation=cv2.INTER_CUBIC)\n",
    "\n",
    "#for cent in (json['centroid']):\n",
    "    #if(cent)"
   ],
   "metadata": {
    "collapsed": false,
    "pycharm": {
     "name": "#%%\n"
    }
   }
  },
  {
   "cell_type": "code",
   "execution_count": 156,
   "outputs": [
    {
     "data": {
      "text/plain": "<matplotlib.image.AxesImage at 0x1eb2dc469d0>"
     },
     "execution_count": 156,
     "metadata": {},
     "output_type": "execute_result"
    },
    {
     "data": {
      "text/plain": "<Figure size 432x288 with 1 Axes>",
      "image/png": "[encoded data removed]"
     },
     "metadata": {
      "needs_background": "light"
     },
     "output_type": "display_data"
    }
   ],
   "source": [
    "plt.imshow(enlarge_label_image)"
   ],
   "metadata": {
    "collapsed": false,
    "pycharm": {
     "name": "#%%\n"
    }
   }
  },
  {
   "cell_type": "code",
   "execution_count": null,
   "outputs": [],
   "source": [
    "for numsec in range(1,numsecmax):\n",
    "    msktmp = label_image == numsec+1\n",
    "    plt.imshow(msktmp)"
   ],
   "metadata": {
    "collapsed": false,
    "pycharm": {
     "name": "#%%\n"
    }
   }
  },
  {
   "cell_type": "code",
   "execution_count": 147,
   "outputs": [
    {
     "data": {
      "text/plain": "<matplotlib.image.AxesImage at 0x1eb29ca6370>"
     },
     "execution_count": 147,
     "metadata": {},
     "output_type": "execute_result"
    },
    {
     "data": {
      "text/plain": "<Figure size 432x288 with 1 Axes>",
      "image/png": "[encoded data removed]"
     },
     "metadata": {
      "needs_background": "light"
     },
     "output_type": "display_data"
    }
   ],
   "source": [
    "plt.imshow(label_image)"
   ],
   "metadata": {
    "collapsed": false,
    "pycharm": {
     "name": "#%%\n"
    }
   }
  },
  {
   "cell_type": "code",
   "execution_count": null,
   "outputs": [],
   "source": [
    "\n",
    "#\n",
    "for numsec in range(1,numsecmax):\n",
    "    print('section N: ', numsec, '/', numsecmax-1)\n",
    "    #find out which nuclei belongs to which section\n",
    "\n",
    "    deg = degrot[numsec-1]\n",
    "    msktmp = label_image == numsec+1\n",
    "    stats = regionprops(msktmp.astype(np.uint8))\n",
    "    centroid = stats[0].centroid #NOTE:this returns (y,x)!!\n",
    "    cent = (10*centroid[1],10*centroid[0])\n",
    "\n",
    "    TAtmp = deepcopy(TAbig)\n",
    "    mskbig = cv2.resize(msktmp.astype(np.uint8), TAtmp.shape[::-1], interpolation=cv2.INTER_NEAREST)\n",
    "    # delete non-ROI from scaled up ROI\n",
    "    kernel = np.ones((20, 20), np.uint8)\n",
    "    mskbig = cv2.dilate(mskbig, kernel, iterations=3)\n",
    "    TAtmp[mskbig == 0] = 0  #1sec\n",
    "\n",
    "    imcrop = np.multiply(np.array(im),TAtmp[..., None].astype('bool'))\n",
    "\n",
    "    #crop it, rotate it, and then crop it again (or else the matrix is too big for cv2 to process)\n",
    "    [xt, yt] = np.where(imcrop[:,:,0]) #tissue mask to point clouds,don't know why there are three arrays\n",
    "    imrot = imcrop[np.min(xt):np.max(xt), np.min(yt):np.max(yt)]\n",
    "    imrot2 = rotate_image_cv2(imrot, deg)\n",
    "\n",
    "    [xt, yt] = np.where(imrot2[:,:,0]) #tissue mask to point clouds,don't know why there are three arrays\n",
    "    imrot3 = imrot2[np.min(xt):np.max(xt), np.min(yt):np.max(yt)]\n",
    "    imrot3[imrot3==0] = 235\n",
    "\n",
    "    #repeat the step above for the mask\n",
    "    [xt, yt] = np.where(TAtmp[:,:])\n",
    "    mskrot =TAtmp[np.min(xt):np.max(xt), np.min(yt):np.max(yt)]\n",
    "    mskrot2 = rotate_image_cv2(mskrot, deg)\n",
    "\n",
    "    [xt, yt] = np.where(mskrot2)\n",
    "    mskrot3 = mskrot2[np.min(xt):np.max(xt), np.min(yt):np.max(yt)]\n",
    "\n",
    "    # if dermis is above epidermis, flip it\n",
    "    [xt, yt] = np.where(mskrot3)\n",
    "    [xt2, yt2] = np.where((mskrot3 == 1) | (mskrot3 == 2))\n",
    "    if np.mean(xt) - np.mean(xt2) < 0:\n",
    "        imrot3 = np.rot90(np.rot90(imrot3))\n",
    "        mskrot3 = np.rot90(np.rot90(mskrot3))\n",
    "\n",
    "\n",
    "    imrot3[imrot3 == 0] = 235  # assign whitespace value to background\n",
    "    mskrot3[mskrot3 == 0] = whitespace\n",
    "\n",
    "    #Image.fromarray(imrot3.astype('int8')).save(\n",
    "            #os.path.join(dst, '{}im_sec{:02d}.png'.format(\"21\", numsec)))\n",
    "\n",
    "    #Image.fromarray(mskrot3.astype('int8')).save(\n",
    "            #os.path.join(dst, '{}msk_sec{:02d}.png'.format(\"21\", numsec)))\n"
   ],
   "metadata": {
    "collapsed": false,
    "pycharm": {
     "name": "#%%\n"
    }
   }
  }
 ],
 "metadata": {
  "kernelspec": {
   "display_name": "Python 3",
   "language": "python",
   "name": "python3"
  },
  "language_info": {
   "codemirror_mode": {
    "name": "ipython",
    "version": 2
   },
   "file_extension": ".py",
   "mimetype": "text/x-python",
   "name": "python",
   "nbconvert_exporter": "python",
   "pygments_lexer": "ipython2",
   "version": "2.7.6"
  }
 },
 "nbformat": 4,
 "nbformat_minor": 0
}