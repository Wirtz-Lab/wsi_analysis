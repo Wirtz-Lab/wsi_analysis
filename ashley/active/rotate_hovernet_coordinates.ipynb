{
 "cells": [
  {
   "cell_type": "code",
   "execution_count": 99,
   "metadata": {
    "collapsed": true,
    "pycharm": {
     "name": "#%%\n"
    }
   },
   "outputs": [],
   "source": [
    "#rotate and crop each tissue section in DL mask\n",
    "#save rotational angle\n",
    "#save bounding box coordinate and crop"
   ]
  },
  {
   "cell_type": "code",
   "execution_count": 100,
   "outputs": [],
   "source": [
    "#read json for centroid of each cell\n",
    "#adjust centroid coordinates from WSI-space to crop/rotated-space\n",
    "#assign cell type to each nuclei-object based on the pixel value of crop/rotated DL mask"
   ],
   "metadata": {
    "collapsed": false,
    "pycharm": {
     "name": "#%%\n"
    }
   }
  },
  {
   "cell_type": "code",
   "execution_count": 1,
   "outputs": [],
   "source": [
    "import json\n",
    "import pandas as pd\n",
    "import pandas as pd\n",
    "from PIL import Image\n",
    "Image.MAX_IMAGE_PIXELS=None\n",
    "import numpy as np\n",
    "from skimage.measure import label\n",
    "from skimage.morphology import closing, square, remove_small_objects, remove_small_holes\n",
    "from skimage.transform import rotate\n",
    "from math import atan2, degrees\n",
    "import glob,os\n",
    "from natsort import natsorted\n",
    "from copy import deepcopy\n",
    "import cv2\n",
    "from time import time\n",
    "from skimage.measure import regionprops\n",
    "from matplotlib import pyplot as plt\n",
    "import time"
   ],
   "metadata": {
    "collapsed": false,
    "pycharm": {
     "name": "#%%\n"
    }
   }
  },
  {
   "cell_type": "code",
   "execution_count": 189,
   "outputs": [],
   "source": [
    "def rotate_image_cv2(mat, angle):\n",
    "    \"\"\"\n",
    "    Rotates an image (angle in degrees) and expands image to avoid cropping\n",
    "    \"\"\"\n",
    "\n",
    "\n",
    "    height, width = mat.shape[:2] # image shape has 3 dimensions\n",
    "\n",
    "\n",
    "    image_center = (width/2, height/2) # getRotationMatrix2D needs coordinates in reverse order (width, height) compared to shape\n",
    "\n",
    "    rotation_mat = cv2.getRotationMatrix2D(image_center, angle, 1.)\n",
    "\n",
    "    # rotation calculates the cos and sin, taking absolutes of those.\n",
    "    abs_cos = abs(rotation_mat[0,0])\n",
    "    abs_sin = abs(rotation_mat[0,1])\n",
    "\n",
    "    # find the new width and height bounds\n",
    "    bound_w = int(height * abs_sin + width * abs_cos)\n",
    "    bound_h = int(height * abs_cos + width * abs_sin)\n",
    "\n",
    "    # subtract old image center (bringing image back to origo) and adding the new image center coordinates\n",
    "    rotation_mat[0, 2] += bound_w/2 - image_center[0]\n",
    "    rotation_mat[1, 2] += bound_h/2 - image_center[1]\n",
    "\n",
    "    # rotate image with the new bounds and translated rotation matrix\n",
    "    rotated_mat = cv2.warpAffine(mat, rotation_mat, (bound_w, bound_h), flags=cv2.INTER_NEAREST)\n",
    "    return rotated_mat"
   ],
   "metadata": {
    "collapsed": false,
    "pycharm": {
     "name": "#%%\n"
    }
   }
  },
  {
   "cell_type": "code",
   "execution_count": 136,
   "outputs": [],
   "source": [
    "\n",
    "# Opening JSON file\n",
    "json = r\"C:\\Users\\kyuha\\Desktop\\hovernet_rotate\\21.json\"\n",
    "json = pd.read_json(json, orient='index')\n",
    "json = pd.DataFrame(json[0].loc['nuc']).T.drop(columns=['type_prob'])\n",
    "json = json[json['contour'].map(len) > 5].reset_index(drop=True)"
   ],
   "metadata": {
    "collapsed": false,
    "pycharm": {
     "name": "#%%\n"
    }
   }
  },
  {
   "cell_type": "code",
   "execution_count": 137,
   "outputs": [],
   "source": [
    "msk_pth = r\"C:\\Users\\kyuha\\Desktop\\hovernet_rotate\\21dl.tif\"\n",
    "im_msk = Image.open(msk_pth)\n",
    "\n",
    "im_pth = r\"C:\\Users\\kyuha\\Desktop\\hovernet_rotate\\21im.tif\"\n",
    "im = Image.open(im_pth)"
   ],
   "metadata": {
    "collapsed": false,
    "pycharm": {
     "name": "#%%\n"
    }
   }
  },
  {
   "cell_type": "code",
   "execution_count": 138,
   "outputs": [],
   "source": [
    "#need the original dimension of the wsi image, because the json file coordinates are based on it\n",
    "from openslide import OpenSlide\n",
    "ndpi = OpenSlide(r\"\\\\fatherserverdw\\Q\\research\\images\\skin_aging\\wsi\\21.ndpi\")\n",
    "(w,h) = ndpi.level_dimensions[0]"
   ],
   "metadata": {
    "collapsed": false,
    "pycharm": {
     "name": "#%%\n"
    }
   }
  },
  {
   "cell_type": "code",
   "execution_count": 139,
   "outputs": [
    {
     "name": "stdout",
     "output_type": "stream",
     "text": [
      "--- 1.6695077419281006 seconds ---\n"
     ]
    }
   ],
   "source": [
    "#create mask for all nuclei, record time\n",
    "start_time = time.time()\n",
    "nuc_image = np.zeros((h,w)) #need to flip h and w\n",
    "for idx,ct in enumerate(json['contour']):\n",
    "     cv2.fillPoly(nuc_image, pts=[np.array(ct).astype(np.int32)],  color=idx+1)\n",
    "\n",
    "print(\"--- %s seconds ---\" % (time.time() - start_time))"
   ],
   "metadata": {
    "collapsed": false,
    "pycharm": {
     "name": "#%%\n"
    }
   }
  },
  {
   "cell_type": "code",
   "execution_count": 140,
   "outputs": [],
   "source": [
    "degrot  = [47.61, 184.13] #47.61 is wrong"
   ],
   "metadata": {
    "collapsed": false,
    "pycharm": {
     "name": "#%%\n"
    }
   }
  },
  {
   "cell_type": "code",
   "execution_count": 166,
   "outputs": [
    {
     "name": "stderr",
     "output_type": "stream",
     "text": [
      "C:\\Users\\kyuha\\AppData\\Local\\Temp\\ipykernel_23304\\1192647477.py:43: DeprecationWarning: `np.bool` is a deprecated alias for the builtin `bool`. To silence this warning, use `bool` by itself. Doing this will not modify any behavior and is safe. If you specifically wanted the numpy scalar type, use `np.bool_` here.\n",
      "Deprecated in NumPy 1.20; for more details and guidance: https://numpy.org/devdocs/release/1.20.0-notes.html#deprecations\n",
      "  unknown = cv2.subtract(sure_bg, sure_fg).astype(np.bool)\n"
     ]
    }
   ],
   "source": [
    "# Define minimum sizes of tissue objects at 1um resolution\n",
    "minTA = 20000\n",
    "minTAhole = 100\n",
    "minDermhole = 5000\n",
    "minepisize=1000\n",
    "whitespace=12 #define background pixel value\n",
    "\n",
    "\n",
    "msk_pth = r\"C:\\Users\\kyuha\\Desktop\\hovernet_rotate\\21dl.tif\"\n",
    "mask = Image.open(msk_pth)\n",
    "\n",
    "im_pth = r\"C:\\Users\\kyuha\\Desktop\\hovernet_rotate\\21im.tif\"\n",
    "im = Image.open(im_pth)\n",
    "\n",
    "dst = r\"C:\\Users\\kyuha\\Desktop\\hovernet_rotate\"\n",
    "\n",
    "\n",
    "degrot =[47.61, 184.13]\n",
    "TAbig = np.array(mask)\n",
    "\n",
    "#label mask\n",
    "(width, height) = (mask.width // 10, mask.height // 10) #downsize by 10\n",
    "mask_resized = mask.resize((width, height), resample=0) #nearest interpolation to rescale\n",
    "TA = np.array(mask_resized) # convert DL mask to numpy array\n",
    "# separate touching tissue sections using WATERSHED segmentation\n",
    "sure_foreground = (2 < TA) & (TA < whitespace - 1) #define tissue section conservatively by removing corneum==1, and removing fat==12, so this foreground does not touch adjacent tissue section for sure.\n",
    "\n",
    "sure_fg = closing(sure_foreground, square(3))  # 13sec\n",
    "# remove small objects not connected to the tissue section\n",
    "sure_fg = remove_small_objects(sure_fg, min_size=minTA, connectivity=2)  # 6sec\n",
    "\n",
    "sure_fg = remove_small_holes(sure_fg, area_threshold=minTAhole).astype(np.uint8)\n",
    "\n",
    "bw = closing(TA < whitespace, square(3))  # 12 is background\n",
    "bw = remove_small_objects(bw, min_size=minTA, connectivity=2)\n",
    "bw = remove_small_holes(bw, area_threshold=minTAhole)\n",
    "# morphological opening : erosion followed by an dilation to remove small objects\n",
    "kernel = np.ones((3, 3), np.uint8)\n",
    "opening = cv2.morphologyEx(bw.astype(np.uint8), cv2.MORPH_OPEN, kernel, iterations=2)  # 2sec\n",
    "# dilate to be more lenient in defining tissue section area\n",
    "sure_bg = cv2.dilate(opening, kernel, iterations=3)\n",
    "\n",
    "unknown = cv2.subtract(sure_bg, sure_fg).astype(np.bool)\n",
    "\n",
    "sure_fg_label = label(sure_fg).astype(np.int32)\n",
    "sure_fg_label = sure_fg_label + 1 #objects are 2~N\n",
    "sure_fg_label[unknown] = 0 #middle ground is 0\n",
    "\n",
    "#get labeled image\n",
    "TAbgr = cv2.cvtColor(TA, cv2.COLOR_GRAY2BGR) #convert downsized DL mask to BGR color channel\n",
    "label_image = cv2.watershed(TAbgr, sure_fg_label) #apply watershed using fg,bg,mg, defined mask\n",
    "\n",
    "# iterate each section\n",
    "epi = (TA == 1) | (TA == 2)\n",
    "derm = (2 < TA) & (TA < whitespace)\n",
    "derm = remove_small_holes(derm, area_threshold=minDermhole)\n",
    "\n",
    "epi2 = epi & ~derm\n",
    "epi2 = remove_small_objects(epi2, min_size=minepisize, connectivity=2)"
   ],
   "metadata": {
    "collapsed": false,
    "pycharm": {
     "name": "#%%\n"
    }
   }
  },
  {
   "cell_type": "code",
   "execution_count": 168,
   "outputs": [],
   "source": [
    "\n",
    "numsecmax = np.max(label_image)"
   ],
   "metadata": {
    "collapsed": false,
    "pycharm": {
     "name": "#%%\n"
    }
   }
  },
  {
   "cell_type": "code",
   "execution_count": 169,
   "outputs": [],
   "source": [
    "tmp_json = deepcopy(json)"
   ],
   "metadata": {
    "collapsed": false,
    "pycharm": {
     "name": "#%%\n"
    }
   }
  },
  {
   "cell_type": "code",
   "execution_count": 171,
   "outputs": [
    {
     "name": "stdout",
     "output_type": "stream",
     "text": [
      "section N:  1 / 2\n",
      "section N:  2 / 2\n"
     ]
    }
   ],
   "source": [
    "\n",
    "#\n",
    "for numsec in range(1,numsecmax):\n",
    "    print('section N: ', numsec, '/', numsecmax-1)\n",
    "    #find out which nuclei belongs to which section\n",
    "\n",
    "    msktmp = label_image == numsec+1\n",
    "    mskepi = msktmp & epi2\n",
    "     # align horizontal\n",
    "    [xt2, yt2] = np.where(mskepi)\n",
    "    vertices = np.array([xt2[::10], yt2[::10]]).T\n",
    "    vc = vertices - vertices.mean(axis=0)\n",
    "\n",
    "    U, S, Vt = np.linalg.svd(vc)\n",
    "    k = Vt.T\n",
    "    d0 = degrees(atan2(k[1, 1], k[1, 0]))\n",
    "    if np.linalg.det(k)<0: d0=-d0\n",
    "\n",
    "    deg = d0\n",
    "\n",
    "    TAtmp = deepcopy(TAbig)\n",
    "    mskbig = cv2.resize(msktmp.astype(np.uint8), TAtmp.shape[::-1], interpolation=cv2.INTER_NEAREST)\n",
    "    # delete non-ROI from scaled up ROI\n",
    "    kernel = np.ones((20, 20), np.uint8)\n",
    "    mskbig = cv2.dilate(mskbig, kernel, iterations=3)\n",
    "    TAtmp[mskbig == 0] = 0  #1sec\n",
    "\n",
    "    imcrop = np.multiply(np.array(im),TAtmp[..., None].astype('bool'))\n",
    "\n",
    "    #crop it, rotate it, and then crop it again (or else the matrix is too big for cv2 to process)\n",
    "    [xt, yt] = np.where(imcrop[:,:,0]) #tissue mask to point clouds,don't know why there are three arrays\n",
    "    imrot = imcrop[np.min(xt):np.max(xt), np.min(yt):np.max(yt)]\n",
    "    imrot2 = rotate_image_cv2(imrot, deg)\n",
    "\n",
    "    [xt, yt] = np.where(imrot2[:,:,0]) #tissue mask to point clouds,don't know why there are three arrays\n",
    "    imrot3 = imrot2[np.min(xt):np.max(xt), np.min(yt):np.max(yt)]\n",
    "    imrot3[imrot3==0] = 235\n",
    "\n",
    "    #repeat the step above for the mask\n",
    "    [xt, yt] = np.where(TAtmp[:,:])\n",
    "    mskrot =TAtmp[np.min(xt):np.max(xt), np.min(yt):np.max(yt)]\n",
    "    mskrot2 = rotate_image_cv2(mskrot, deg)\n",
    "\n",
    "    [xt, yt] = np.where(mskrot2)\n",
    "    mskrot3 = mskrot2[np.min(xt):np.max(xt), np.min(yt):np.max(yt)]\n",
    "\n",
    "    # if dermis is above epidermis, flip it\n",
    "    [xt, yt] = np.where(mskrot3)\n",
    "    [xt2, yt2] = np.where((mskrot3 == 1) | (mskrot3 == 2))\n",
    "    if np.mean(xt) - np.mean(xt2) < 0:\n",
    "        imrot3 = np.rot90(np.rot90(imrot3))\n",
    "        mskrot3 = np.rot90(np.rot90(mskrot3))\n",
    "        deg += 180\n",
    "\n",
    "\n",
    "    imrot3[imrot3 == 0] = 235  # assign whitespace value to background\n",
    "    mskrot3[mskrot3 == 0] = whitespace\n",
    "\n",
    "\n",
    "    enlarge_msktmp =  cv2.resize(msktmp.astype(\"uint8\"), dsize=(73728, 17920), interpolation=cv2.INTER_CUBIC)\n",
    "\n",
    "\n",
    "    #TODO: can we assume that all parts of the nuclei are in the tissue?\n",
    "    nuc_sec_mask = deepcopy(nuc_image)\n",
    "    nuc_sec_mask[enlarge_msktmp != 1] = 0\n",
    "\n",
    "    #-------rotate nuclei-----\n",
    "    #crop then rotate\n",
    "    [xt, yt] = np.where(nuc_sec_mask[:,:])\n",
    "    nuc_sec_rot =nuc_sec_mask[np.min(xt):np.max(xt), np.min(yt):np.max(yt)]\n",
    "\n",
    "    nuc_sec_rot = rotate_image_cv2(nuc_sec_rot, deg)\n",
    "    Image.fromarray(nuc_sec_rot.astype('uint32')).save(\n",
    "            os.path.join(dst, '{}nuc_sec{:02d}.png'.format(\"21\", numsec)))\n",
    "\n",
    "    #Image.fromarray(imrot3.astype('int8')).save(\n",
    "            #os.path.join(dst, '{}im_sec{:02d}.png'.format(\"21\", numsec)))\n",
    "\n",
    "    #Image.fromarray(mskrot3.astype('int8')).save(\n",
    "            #os.path.join(dst, '{}msk_sec{:02d}.png'.format(\"21\", numsec)))\n"
   ],
   "metadata": {
    "collapsed": false,
    "pycharm": {
     "name": "#%%\n"
    }
   }
  },
  {
   "cell_type": "code",
   "execution_count": null,
   "outputs": [],
   "source": [
    "#run region props\n"
   ],
   "metadata": {
    "collapsed": false,
    "pycharm": {
     "name": "#%%\n"
    }
   }
  },
  {
   "cell_type": "code",
   "execution_count": 190,
   "outputs": [],
   "source": [
    "nuc_sec_mask = deepcopy(nuc_image)\n",
    "nuc_sec_mask[enlarge_msktmp != 1] = 0\n"
   ],
   "metadata": {
    "collapsed": false,
    "pycharm": {
     "name": "#%%\n"
    }
   }
  },
  {
   "cell_type": "code",
   "execution_count": 191,
   "outputs": [],
   "source": [
    "\n",
    "#-------rotate nuclei-----\n",
    "#crop then rotate\n",
    "[xt, yt] = np.where(nuc_sec_mask[:,:])\n",
    "nuc_sec_rot =nuc_sec_mask[np.min(xt):np.max(xt), np.min(yt):np.max(yt)]"
   ],
   "metadata": {
    "collapsed": false,
    "pycharm": {
     "name": "#%%\n"
    }
   }
  },
  {
   "cell_type": "code",
   "execution_count": 192,
   "outputs": [],
   "source": [
    "\n",
    "nuc_sec_rot2 = rotate_image_cv2(nuc_sec_rot, deg)"
   ],
   "metadata": {
    "collapsed": false,
    "pycharm": {
     "name": "#%%\n"
    }
   }
  },
  {
   "cell_type": "code",
   "execution_count": 193,
   "outputs": [
    {
     "data": {
      "text/plain": "array([    0., 14548., 14549., ..., 47465., 47466., 47467.])"
     },
     "execution_count": 193,
     "metadata": {},
     "output_type": "execute_result"
    }
   ],
   "source": [
    "np.unique(nuc_sec_rot2)"
   ],
   "metadata": {
    "collapsed": false,
    "pycharm": {
     "name": "#%%\n"
    }
   }
  },
  {
   "cell_type": "code",
   "execution_count": 196,
   "outputs": [],
   "source": [
    "\n",
    "Image.fromarray(nuc_sec_rot2.astype('uint32')).save(\n",
    "        os.path.join(dst, '{}nuc_sec{:02d}.png'.format(\"21\", numsec)))\n"
   ],
   "metadata": {
    "collapsed": false,
    "pycharm": {
     "name": "#%%\n"
    }
   }
  },
  {
   "cell_type": "code",
   "execution_count": 144,
   "outputs": [
    {
     "ename": "error",
     "evalue": "OpenCV(4.5.5) D:\\a\\opencv-python\\opencv-python\\opencv\\modules\\imgproc\\src\\imgwarp.cpp:1724: error: (-215:Assertion failed) dst.cols < SHRT_MAX && dst.rows < SHRT_MAX && src.cols < SHRT_MAX && src.rows < SHRT_MAX in function 'cv::remap'\n",
     "output_type": "error",
     "traceback": [
      "\u001B[1;31m---------------------------------------------------------------------------\u001B[0m",
      "\u001B[1;31merror\u001B[0m                                     Traceback (most recent call last)",
      "Input \u001B[1;32mIn [144]\u001B[0m, in \u001B[0;36m<cell line: 2>\u001B[1;34m()\u001B[0m\n\u001B[0;32m      8\u001B[0m nuc_sec_mask[enlarge_msktmp \u001B[38;5;241m!=\u001B[39m \u001B[38;5;241m1\u001B[39m] \u001B[38;5;241m=\u001B[39m \u001B[38;5;241m0\u001B[39m\n\u001B[0;32m     10\u001B[0m \u001B[38;5;66;03m#rotate nuc_sec_mask\u001B[39;00m\n\u001B[1;32m---> 11\u001B[0m \u001B[43mrotate_image_cv2\u001B[49m\u001B[43m(\u001B[49m\u001B[43mnuc_sec_mask\u001B[49m\u001B[43m,\u001B[49m\u001B[43m \u001B[49m\u001B[43mdegrot\u001B[49m\u001B[43m[\u001B[49m\u001B[43mnumsec\u001B[49m\u001B[43m \u001B[49m\u001B[38;5;241;43m-\u001B[39;49m\u001B[43m \u001B[49m\u001B[38;5;241;43m1\u001B[39;49m\u001B[43m]\u001B[49m\u001B[43m)\u001B[49m\n",
      "Input \u001B[1;32mIn [135]\u001B[0m, in \u001B[0;36mrotate_image_cv2\u001B[1;34m(mat, angle)\u001B[0m\n\u001B[0;32m     24\u001B[0m rotation_mat[\u001B[38;5;241m1\u001B[39m, \u001B[38;5;241m2\u001B[39m] \u001B[38;5;241m+\u001B[39m\u001B[38;5;241m=\u001B[39m bound_h\u001B[38;5;241m/\u001B[39m\u001B[38;5;241m2\u001B[39m \u001B[38;5;241m-\u001B[39m image_center[\u001B[38;5;241m1\u001B[39m]\n\u001B[0;32m     26\u001B[0m \u001B[38;5;66;03m# rotate image with the new bounds and translated rotation matrix\u001B[39;00m\n\u001B[1;32m---> 27\u001B[0m rotated_mat \u001B[38;5;241m=\u001B[39m \u001B[43mcv2\u001B[49m\u001B[38;5;241;43m.\u001B[39;49m\u001B[43mwarpAffine\u001B[49m\u001B[43m(\u001B[49m\u001B[43mmat\u001B[49m\u001B[43m,\u001B[49m\u001B[43m \u001B[49m\u001B[43mrotation_mat\u001B[49m\u001B[43m,\u001B[49m\u001B[43m \u001B[49m\u001B[43m(\u001B[49m\u001B[43mbound_w\u001B[49m\u001B[43m,\u001B[49m\u001B[43m \u001B[49m\u001B[43mbound_h\u001B[49m\u001B[43m)\u001B[49m\u001B[43m)\u001B[49m\n\u001B[0;32m     28\u001B[0m \u001B[38;5;28;01mreturn\u001B[39;00m rotated_mat\n",
      "\u001B[1;31merror\u001B[0m: OpenCV(4.5.5) D:\\a\\opencv-python\\opencv-python\\opencv\\modules\\imgproc\\src\\imgwarp.cpp:1724: error: (-215:Assertion failed) dst.cols < SHRT_MAX && dst.rows < SHRT_MAX && src.cols < SHRT_MAX && src.rows < SHRT_MAX in function 'cv::remap'\n"
     ]
    }
   ],
   "source": [
    "\n",
    "#just rotating the nuclei\n",
    "for numsec in range(1,numsecmax):\n",
    "    msktmp = label_image == numsec+1\n",
    "    enlarge_msktmp =  cv2.resize(msktmp.astype(\"uint8\"), dsize=(73728, 17920), interpolation=cv2.INTER_CUBIC)\n",
    "\n",
    "    #TODO: can we assume that all parts of the nuclei are in the tissue?\n",
    "    nuc_sec_mask = deepcopy(nuc_image)\n",
    "    nuc_sec_mask[enlarge_msktmp != 1] = 0\n",
    "\n",
    "    #crop then rotate\n",
    "    [xt, yt] = np.where(nuc_sec_mask[:,:])\n",
    "    nuc_sec_rot =nuc_sec_mask[np.min(xt):np.max(xt), np.min(yt):np.max(yt)]\n",
    "\n",
    "    nuc_sec_rot = rotate_image_cv2(nuc_sec_rot, degrot[numsec - 1])\n"
   ],
   "metadata": {
    "collapsed": false,
    "pycharm": {
     "name": "#%%\n"
    }
   }
  },
  {
   "cell_type": "code",
   "execution_count": 162,
   "outputs": [],
   "source": [
    "#9.9 i want to find which nucei belongs to which section\n",
    "#but the mask and the nucei are different sizes\n",
    "msktmp = label_image == numsec+1\n",
    "enlarge_msktmp =  cv2.resize(msktmp.astype(\"uint8\"), dsize=(73728, 17920), interpolation=cv2.INTER_CUBIC)\n",
    "\n",
    "#TODO: can we assume that all parts of the nuclei are in the tissue?\n",
    "nuc_sec_mask = deepcopy(nuc_image)\n",
    "nuc_sec_mask[enlarge_msktmp != 1] = 0\n",
    "\n",
    "#crop then rotate\n",
    "[xt, yt] = np.where(nuc_sec_mask[:,:])\n",
    "nuc_sec_rot =nuc_sec_mask[np.min(xt):np.max(xt), np.min(yt):np.max(yt)]\n",
    "\n",
    "nuc_sec_rot = rotate_image_cv2(nuc_sec_rot, degrot[1])"
   ],
   "metadata": {
    "collapsed": false,
    "pycharm": {
     "name": "#%%\n"
    }
   }
  }
 ],
 "metadata": {
  "kernelspec": {
   "display_name": "Python 3",
   "language": "python",
   "name": "python3"
  },
  "language_info": {
   "codemirror_mode": {
    "name": "ipython",
    "version": 2
   },
   "file_extension": ".py",
   "mimetype": "text/x-python",
   "name": "python",
   "nbconvert_exporter": "python",
   "pygments_lexer": "ipython2",
   "version": "2.7.6"
  }
 },
 "nbformat": 4,
 "nbformat_minor": 0
}