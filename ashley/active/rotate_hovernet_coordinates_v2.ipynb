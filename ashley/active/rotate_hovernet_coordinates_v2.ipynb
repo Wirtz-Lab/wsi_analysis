{
 "cells": [
  {
   "cell_type": "code",
   "execution_count": 1,
   "metadata": {
    "collapsed": true,
    "pycharm": {
     "name": "#%%\n"
    }
   },
   "outputs": [],
   "source": [
    "#rotate and crop each tissue section in DL mask\n",
    "#save rotational angle\n",
    "#save bounding box coordinate and crop"
   ]
  },
  {
   "cell_type": "code",
   "execution_count": 2,
   "outputs": [],
   "source": [
    "#read json for centroid of each cell\n",
    "#adjust centroid coordinates from WSI-space to crop/rotated-space\n",
    "#assign cell type to each nuclei-object based on the pixel value of crop/rotated DL mask"
   ],
   "metadata": {
    "collapsed": false,
    "pycharm": {
     "name": "#%%\n"
    }
   }
  },
  {
   "cell_type": "code",
   "execution_count": 3,
   "outputs": [],
   "source": [
    "import json\n",
    "import pandas as pd\n",
    "import pandas as pd\n",
    "from PIL import Image\n",
    "Image.MAX_IMAGE_PIXELS=None\n",
    "import numpy as np\n",
    "from skimage.measure import label\n",
    "from skimage.morphology import closing, square, remove_small_objects, remove_small_holes\n",
    "from skimage.transform import rotate\n",
    "from math import atan2, degrees\n",
    "import glob,os\n",
    "from natsort import natsorted\n",
    "from copy import deepcopy\n",
    "import cv2\n",
    "from time import time\n",
    "from skimage.measure import regionprops\n",
    "from matplotlib import pyplot as plt\n",
    "import time\n",
    "\n",
    "from openslide import OpenSlide"
   ],
   "metadata": {
    "collapsed": false,
    "pycharm": {
     "name": "#%%\n"
    }
   }
  },
  {
   "cell_type": "code",
   "execution_count": 4,
   "outputs": [],
   "source": [
    "def rotate_image_cv2(mat, angle):\n",
    "    \"\"\"\n",
    "    Rotates an image (angle in degrees) and expands image to avoid cropping\n",
    "    \"\"\"\n",
    "\n",
    "\n",
    "    height, width = mat.shape[:2] # image shape has 3 dimensions\n",
    "\n",
    "\n",
    "    image_center = (width/2, height/2) # getRotationMatrix2D needs coordinates in reverse order (width, height) compared to shape\n",
    "\n",
    "    rotation_mat = cv2.getRotationMatrix2D(image_center, angle, 1.)\n",
    "\n",
    "    # rotation calculates the cos and sin, taking absolutes of those.\n",
    "    abs_cos = abs(rotation_mat[0,0])\n",
    "    abs_sin = abs(rotation_mat[0,1])\n",
    "\n",
    "    # find the new width and height bounds\n",
    "    bound_w = int(height * abs_sin + width * abs_cos)\n",
    "    bound_h = int(height * abs_cos + width * abs_sin)\n",
    "\n",
    "    # subtract old image center (bringing image back to origo) and adding the new image center coordinates\n",
    "    rotation_mat[0, 2] += bound_w/2 - image_center[0]\n",
    "    rotation_mat[1, 2] += bound_h/2 - image_center[1]\n",
    "\n",
    "    # rotate image with the new bounds and translated rotation matrix\n",
    "    rotated_mat = cv2.warpAffine(mat, rotation_mat, (bound_w, bound_h), flags=cv2.INTER_NEAREST)\n",
    "    return rotated_mat"
   ],
   "metadata": {
    "collapsed": false,
    "pycharm": {
     "name": "#%%\n"
    }
   }
  },
  {
   "cell_type": "code",
   "execution_count": 5,
   "outputs": [],
   "source": [
    "#inputs:\n",
    "#outputs: corrected mask, image, nuclei, and nuclei centroid csv"
   ],
   "metadata": {
    "collapsed": false,
    "pycharm": {
     "name": "#%%\n"
    }
   }
  },
  {
   "cell_type": "code",
   "execution_count": 6,
   "outputs": [],
   "source": [
    "\n",
    "# Opening JSON file\n",
    "realjsonsrc = r'\\\\fatherserverdw\\kyuex\\clue images\\hovernet_out\\json'\n",
    "roisrc = r'\\\\fatherserverdw\\kyuex\\clue images\\annotations\\roi\\labeledmask_20rsf'\n",
    "ndpisrc = r'\\\\fatherserverdw\\kyuex\\clue images'\n",
    "dlsrc = r'\\\\fatherserverdw\\kyuex\\clue images\\1um\\classification_v9_combined'\n",
    "ClUedegrot_df =pd.read_excel(r'\\\\fatherserverdw\\kyuex\\datadst\\WSI_rotation_crop_LUT.xlsx')\n",
    "src = r'\\\\fatherserverdw\\kyuex\\datadst'\n",
    "\n",
    "filename = ClUedegrot_df[\"filename\"]\n",
    "\n",
    "ClUedegrot_df = pd.read_excel(r\"\\\\fatherserverdw\\kyuex\\datadst\\WSI_rotation_crop_LUT.xlsx\")\n",
    "ClUedegrot_df = ClUedegrot_df.astype(\"object\")"
   ],
   "metadata": {
    "collapsed": false,
    "pycharm": {
     "name": "#%%\n"
    }
   }
  },
  {
   "cell_type": "code",
   "execution_count": 8,
   "outputs": [],
   "source": [
    "_#mask: the Dl mask\n",
    "#im: corresponding image\n",
    "#ndpi: corresponding whole-slide image\n",
    "#json: json file with nuclei coordinates\n",
    "#src: destination to save output\n",
    "#im_name: the name to save the images\n",
    "\n",
    "#note: all outputs are in the dimension of the nuclei coordinates in wsi image\n",
    "#outputs: corrected mask, image, nuclei, and nuclei centroid csv,verification image\n",
    "\n",
    "def rotate_hovernet_dl_im(mask,ndpi, json,src,im_name,im_id,roi,ClUedegrot_df):\n",
    "    count_roi = 0\n",
    "\n",
    "    start_time = time.time()\n",
    "    json = pd.DataFrame(json[0].loc['nuc']).T.drop(columns=['type_prob'])\n",
    "    json = json[json['contour'].map(len) > 5].reset_index(drop=True)\n",
    "\n",
    "    nuc_df = pd.DataFrame(columns=['id','tissue_id','centroid','contour','section_id'])\n",
    "\n",
    "\n",
    "\n",
    "    #need the original dimension of the wsi image, because the json file coordinates are based on it\n",
    "    (w,h) = ndpi.level_dimensions[0]\n",
    "\n",
    "    #create mask for all nuclei, record time\n",
    "    nuc_image = np.zeros((h,w), dtype=np.int32) #need to flip h and w\n",
    "    for idx,ct in enumerate(json['contour']):\n",
    "         cv2.fillPoly(nuc_image, pts=[np.array(ct).astype(np.int32)],  color=idx+1)\n",
    "\n",
    "\n",
    "    roi_resized = cv2.resize(np.array(roi).astype(np.uint8), dsize=(w,h), interpolation=cv2.INTER_NEAREST)\n",
    "    nuc_image[roi_resized ==0 ] = 0\n",
    "\n",
    "    # Define minimum sizes of tissue objects at 1um resolution\n",
    "    minTA = 20000\n",
    "    minTAhole = 100\n",
    "    minDermhole = 5000\n",
    "    minepisize=1000\n",
    "    whitespace=12 #define background pixel value\n",
    "\n",
    "    print(\"--- %s seconds initializing ---\" % (time.time() - start_time))\n",
    "    #---------calculate rotation angle d0-------\n",
    "    TAbig = np.array(mask)\n",
    "    #label mask\n",
    "    (width, height) = (mask.width // 10, mask.height // 10) #downsize by 10\n",
    "    mask_resized = mask.resize((width, height), resample=0) #nearest interpolation to rescale\n",
    "    TA = np.array(mask_resized) # convert DL mask to numpy array\n",
    "    TAnew = TA*roi>0\n",
    "    # separate touching tissue sections using WATERSHED segmentation\n",
    "    # sure_foreground = (2 < TA) & (TA < whitespace - 1) #define tissue section conservatively by removing corneum==1, and removing fat==12, so this foreground does not touch adjacent tissue section for sure.\n",
    "    #\n",
    "    # sure_fg = closing(sure_foreground, square(3))  # 13sec\n",
    "    # # remove small objects not connected to the tissue section\n",
    "    # sure_fg = remove_small_objects(sure_fg, min_size=minTA, connectivity=2)  # 6sec\n",
    "    #\n",
    "    # sure_fg = remove_small_holes(sure_fg, area_threshold=minTAhole).astype(np.uint8)\n",
    "    #\n",
    "    # bw = closing(TA < whitespace, square(3))  # 12 is background\n",
    "    # bw = remove_small_objects(bw, min_size=minTA, connectivity=2)\n",
    "    # bw = remove_small_holes(bw, area_threshold=minTAhole)\n",
    "    # # morphological opening : erosion followed by an dilation to remove small objects\n",
    "    # kernel = np.ones((3, 3), np.uint8)\n",
    "    # opening = cv2.morphologyEx(bw.astype(np.uint8), cv2.MORPH_OPEN, kernel, iterations=2)  # 2sec\n",
    "    # # dilate to be more lenient in defining tissue section area\n",
    "    # sure_bg = cv2.dilate(opening, kernel, iterations=3)\n",
    "    #\n",
    "    # unknown = cv2.subtract(sure_bg, sure_fg).astype(np.bool)\n",
    "    #\n",
    "    # sure_fg_label = label(sure_fg).astype(np.int32)\n",
    "    # sure_fg_label = sure_fg_label + 1 #objects are 2~N\n",
    "    # sure_fg_label[unknown] = 0 #middle ground is 0\n",
    "    #\n",
    "    # #get labeled image\n",
    "    # TAbgr = cv2.cvtColor(TA, cv2.COLOR_GRAY2BGR) #convert downsized DL mask to BGR color channel\n",
    "    # label_image = cv2.watershed(TAbgr, sure_fg_label) #apply watershed using fg,bg,mg, defined mask\n",
    "\n",
    "    # iterate each section\n",
    "    epi = (TA == 1) | (TA == 2)\n",
    "    derm = (2 < TA) & (TA < whitespace)\n",
    "    derm = remove_small_holes(derm, area_threshold=minDermhole)\n",
    "\n",
    "    epi2 = epi & ~derm\n",
    "    epi2 = remove_small_objects(epi2, min_size=minepisize, connectivity=2)\n",
    "\n",
    "    print(\"--- %s seconds sectioning ---\" % (time.time() - start_time))\n",
    "\n",
    "    #tmpClU_df = pd.DataFrame(columns=['imID','imname','secN','bbox1','degrot','bbox2'])\n",
    "\n",
    "\n",
    "    #--------iterate through sections------\n",
    "    numsecmax = np.max(label_image)\n",
    "    for numsec in range(1,numsecmax):\n",
    "        print('section N: ', numsec, '/', numsecmax-1)\n",
    "\n",
    "        msktmp = label_image == numsec+1\n",
    "        mskepi = msktmp & epi2\n",
    "        # align horizontal\n",
    "        [xt0, yt0] = np.where(mskepi)\n",
    "        vertices = np.array([xt0[::10], yt0[::10]]).T\n",
    "        vc = vertices - vertices.mean(axis=0)\n",
    "\n",
    "        U, S, Vt = np.linalg.svd(vc)\n",
    "        k = Vt.T\n",
    "        d0 = degrees(atan2(k[1, 1], k[1, 0]))\n",
    "        if np.linalg.det(k)<0: d0=-d0\n",
    "\n",
    "        #clear variables, we just need d0\n",
    "        del vertices, vc, U, S, Vt,k,mskepi\n",
    "\n",
    "        #resize TAtmp to size (73728, 17920), same as nuclei image\n",
    "        TAtmp = cv2.resize(TAbig.astype(np.uint8), dsize=(w,h), interpolation=cv2.INTER_NEAREST)\n",
    "        mskbig = cv2.resize(msktmp.astype(np.uint8), TAtmp.shape[::-1], interpolation=cv2.INTER_NEAREST)\n",
    "\n",
    "        #im_resized =cv2.resize(np.array(im), dsize=(w,h), interpolation=cv2.INTER_NEAREST)\n",
    "\n",
    "        # delete non-ROI from scaled up ROI\n",
    "        kernel = np.ones((20, 20), np.uint8)\n",
    "        mskbig = cv2.dilate(mskbig, kernel, iterations=3)\n",
    "        TAtmp[mskbig == 0] = 0  #1sec\n",
    "\n",
    "        #clear variables\n",
    "        del kernel\n",
    "\n",
    "        #crop, rotate, crop\n",
    "        [xt, yt] = np.where(TAtmp[:,:])\n",
    "        mskrot =TAtmp[np.min(xt):np.max(xt), np.min(yt):np.max(yt)]\n",
    "        mskrot2 = rotate_image_cv2(mskrot, d0)\n",
    "        #imrot = im_resized[np.min(xt):np.max(xt), np.min(yt):np.max(yt)]\n",
    "        #imrot2 = rotate_image_cv2(imrot, d0)\n",
    "\n",
    "        #clear variables\n",
    "        del mskrot\n",
    "\n",
    "\n",
    "                # if dermis is above epidermis, flip it\n",
    "        [xt3, yt3] = np.where(mskrot2)\n",
    "        [xt4, yt4] = np.where((mskrot2 == 1) | (mskrot2 == 2))\n",
    "        if np.mean(xt3) - np.mean(xt4) < 0:\n",
    "            mskrot2 = np.rot90(np.rot90(mskrot2))\n",
    "            #imrot2 = np.rot90(np.rot90(imrot2))\n",
    "            d0 += 180\n",
    "\n",
    "\n",
    "\n",
    "        [xt2, yt2] = np.where(mskrot2)\n",
    "        mskrot3 = mskrot2[np.min(xt2):np.max(xt2), np.min(yt2):np.max(yt2)]\n",
    "        #imrot3 = imrot2[np.min(xt2):np.max(xt2), np.min(yt2):np.max(yt2)]\n",
    "\n",
    "        del mskrot2\n",
    "\n",
    "\n",
    "\n",
    "        mskrot3[mskrot3 == 0] = whitespace\n",
    "        #imrot3[imrot3 == 0] = 235\n",
    "        Image.fromarray(mskrot3.astype('int8')).save(\n",
    "            os.path.join(src, '{}msk_sec{:02d}.png'.format(im_name, numsec)))\n",
    "        del xt3, yt3,xt4, yt4,TAtmp\n",
    "\n",
    "\n",
    "        nuc_sec_mask = deepcopy(nuc_image)\n",
    "        nuc_sec_mask[mskbig != 1] = 0\n",
    "        del mskbig\n",
    "\n",
    "        if(np.sum(nuc_sec_mask) != 0):\n",
    "        #TODO: can we assume that all parts of the nuclei are in the tissue?\n",
    "\n",
    "\n",
    "            #we use the same xt,yt for mskbig\n",
    "            nuc_sec_rot =nuc_sec_mask[np.min(xt):np.max(xt), np.min(yt):np.max(yt)]\n",
    "            #rot nuclei\n",
    "            nuc_sec_rot = rotate_image_cv2(nuc_sec_rot, d0)\n",
    "\n",
    "            #crop again\n",
    "            nuc_sec_rot2 =nuc_sec_rot[np.min(xt2):np.max(xt2), np.min(yt2):np.max(yt2)]\n",
    "\n",
    "            #save images\n",
    "            Image.fromarray(nuc_sec_rot2.astype('uint32')).save(\n",
    "                os.path.join(src, '{}nuc_sec{:02d}.png'.format(im_name, numsec)))\n",
    "\n",
    "\n",
    "\n",
    "            #Image.fromarray(imrot3).save(\n",
    "                #os.path.join(src, '{}im_sec{:02d}.png'.format(im_name, numsec)))\n",
    "\n",
    "            #--------------------create csv for each tissue section-----------------------------\n",
    "            nuc2_df = pd.DataFrame(columns=['id','tissue_id','centroid','contour','section_id'])\n",
    "            stats = regionprops(nuc_sec_rot2.astype(np.uint32))\n",
    "            ids = []\n",
    "            cell_types = []\n",
    "            contours = []\n",
    "            centroids = []\n",
    "            section_ids = np.full((len(stats),1),numsec)\n",
    "\n",
    "            for idx, stat in enumerate(stats):\n",
    "                ids.append((stat.label - 1))\n",
    "                cent = np.round(stat.centroid).astype(\"uint32\")\n",
    "                centroids.append(cent)\n",
    "                contours.append(stat.coords)\n",
    "                tissue_id = mskrot3[cent[0],cent[1]] #row,col\n",
    "                cell_types.append(tissue_id)\n",
    "\n",
    "            nuc2_df['id']= ids\n",
    "            nuc2_df['tissue_id']= cell_types\n",
    "            nuc2_df['centroid']= centroids\n",
    "            nuc2_df['contour'] = contours\n",
    "            nuc2_df['section_id']=section_ids\n",
    "\n",
    "            nuc_df = pd.concat([nuc_df, nuc2_df])\n",
    "            nuc_df.to_csv(os.path.join(src, '{}_nuc_df.csv'.format(im_name)))\n",
    "\n",
    "            #clu = {'imID':im_id,'imname':im_name,'secN':numsec,'bbox1':[np.min(xt),np.max(xt), np.min(yt),np.max(yt)],'degrot':d0,\n",
    "                  # 'bbox2':[np.min(xt2),np.max(xt2), np.min(yt2),np.max(yt2)]}\n",
    "\n",
    "            count_roi = count_roi + 1\n",
    "            ClUedegrot_df.at[index,'bbox{}rot'.format(count_roi)] = d0\n",
    "            ClUedegrot_df.at[index,'bbox{}A'.format(count_roi)] = [np.min(xt),np.max(xt), np.min(yt),np.max(yt)]\n",
    "            ClUedegrot_df.at[index,'bbox{}B'.format(count_roi)] = [np.min(xt2),np.max(xt2), np.min(yt2),np.max(yt2)]\n",
    "\n",
    "            #tmpClU_df =  tmpClU_df.append(clu, ignore_index=True)\n",
    "\n",
    "            print(\"--- %s seconds creatng csv---\" % (time.time() - start_time))\n",
    "\n",
    "            #---------create an image to visualize the nuclei centroids on the RGB tissue image\n",
    "            #tmp_imrot3 = deepcopy(imrot3)\n",
    "            #for cnt in nuc2_df['centroid']:\n",
    "                #tmp_imrot3[cnt[0],cnt[1]] = [0,255,0]\n",
    "\n",
    "            #Image.fromarray(tmp_imrot3).save(os.path.join(src,'{}_verify_nuclei_centroid_sec{:02d}.png'.format(im_name, numsec)))\n",
    "\n",
    "    return ClUedegrot_df\n",
    "    #return tmpClU_df\n",
    "    print(\"--- %s seconds ---\" % (time.time() - start_time))"
   ],
   "metadata": {
    "collapsed": false,
    "pycharm": {
     "name": "#%%\n"
    }
   }
  },
  {
   "cell_type": "code",
   "execution_count": 9,
   "outputs": [
    {
     "name": "stdout",
     "output_type": "stream",
     "text": [
      "--- 8.566534042358398 seconds initializing ---\n"
     ]
    },
    {
     "name": "stderr",
     "output_type": "stream",
     "text": [
      "C:\\Users\\kyuha\\AppData\\Local\\Temp\\ipykernel_14192\\3953088297.py:66: DeprecationWarning: `np.bool` is a deprecated alias for the builtin `bool`. To silence this warning, use `bool` by itself. Doing this will not modify any behavior and is safe. If you specifically wanted the numpy scalar type, use `np.bool_` here.\n",
      "Deprecated in NumPy 1.20; for more details and guidance: https://numpy.org/devdocs/release/1.20.0-notes.html#deprecations\n",
      "  unknown = cv2.subtract(sure_bg, sure_fg).astype(np.bool)\n"
     ]
    },
    {
     "name": "stdout",
     "output_type": "stream",
     "text": [
      "--- 10.020375728607178 seconds sectioning ---\n",
      "section N:  1 / 8\n",
      "section N:  2 / 8\n",
      "section N:  3 / 8\n",
      "--- 91.3026008605957 seconds creatng csv---\n",
      "section N:  4 / 8\n",
      "--- 118.52181625366211 seconds creatng csv---\n",
      "section N:  5 / 8\n",
      "section N:  6 / 8\n",
      "section N:  7 / 8\n",
      "--- 202.56516432762146 seconds creatng csv---\n",
      "section N:  8 / 8\n",
      "--- 235.1898763179779 seconds creatng csv---\n"
     ]
    }
   ],
   "source": [
    "row = ClUedegrot_df.iloc[10]\n",
    "index = 10\n",
    "fn = os.path.splitext(row['filename'])[0]\n",
    "mask = Image.open(os.path.join(dlsrc,'{}.{}'.format(fn,'tif')))\n",
    "ndpi = OpenSlide(os.path.join(ndpisrc,'{}.{}'.format(fn,'ndpi')))\n",
    "\n",
    "jsdst = os.path.join(realjsonsrc,'{}.{}'.format(fn,'json'))\n",
    "json = pd.read_json(jsdst, orient='index')\n",
    "roi= Image.open(os.path.join(roisrc,'{}.{}'.format(fn,'png')))\n",
    "\n",
    "ClUedegrot_df = rotate_hovernet_dl_im(mask,ndpi, json,src,fn,10,roi,ClUedegrot_df)"
   ],
   "metadata": {
    "collapsed": false,
    "pycharm": {
     "name": "#%%\n"
    }
   }
  },
  {
   "cell_type": "code",
   "execution_count": 10,
   "outputs": [
    {
     "data": {
      "text/plain": "     pid index gender        age                  filename body part 1  \\\n0      8    14      M   63.30137  2022-06-07 17.10.29.ndpi    SHOULDER   \n1      8    15      M   63.30137  2022-06-07 17.15.33.ndpi    SHOULDER   \n2     27    53      M  64.147945  2022-06-07 16.05.45.ndpi    SHOULDER   \n3     27    54      M  64.147945  2022-06-09 20.12.48.ndpi    SHOULDER   \n4     27    55      M  64.147945  2022-06-09 20.18.08.ndpi    SHOULDER   \n..   ...   ...    ...        ...                       ...         ...   \n173  472  1147      F  76.775342  2022-06-10 16.39.33.ndpi         LEG   \n174  474  1151      F  54.547945  2022-06-10 16.50.35.ndpi       CHEST   \n175  483  1172      M   68.20274  2022-06-08 16.05.29.ndpi    SHOULDER   \n176  484  1173      M  92.435616  2022-06-07 17.24.15.ndpi        BACK   \n177  485  1181      F  72.712329  2022-06-07 18.06.50.ndpi       CHEST   \n\n    bbox1rot bbox1A bbox1B bbox2rot  ... bbox3B bbox4rot bbox4A bbox4B  \\\n0        NaN    NaN    NaN      NaN  ...    NaN      NaN    NaN    NaN   \n1        NaN    NaN    NaN      NaN  ...    NaN      NaN    NaN    NaN   \n2        NaN    NaN    NaN      NaN  ...    NaN      NaN    NaN    NaN   \n3        NaN    NaN    NaN      NaN  ...    NaN      NaN    NaN    NaN   \n4        NaN    NaN    NaN      NaN  ...    NaN      NaN    NaN    NaN   \n..       ...    ...    ...      ...  ...    ...      ...    ...    ...   \n173      NaN    NaN    NaN      NaN  ...    NaN      NaN    NaN    NaN   \n174      NaN    NaN    NaN      NaN  ...    NaN      NaN    NaN    NaN   \n175      NaN    NaN    NaN      NaN  ...    NaN      NaN    NaN    NaN   \n176      NaN    NaN    NaN      NaN  ...    NaN      NaN    NaN    NaN   \n177      NaN    NaN    NaN      NaN  ...    NaN      NaN    NaN    NaN   \n\n    bbox5rot bbox5A bbox5B bbox6rot bbox6A bbox6B  \n0        NaN    NaN    NaN      NaN    NaN    NaN  \n1        NaN    NaN    NaN      NaN    NaN    NaN  \n2        NaN    NaN    NaN      NaN    NaN    NaN  \n3        NaN    NaN    NaN      NaN    NaN    NaN  \n4        NaN    NaN    NaN      NaN    NaN    NaN  \n..       ...    ...    ...      ...    ...    ...  \n173      NaN    NaN    NaN      NaN    NaN    NaN  \n174      NaN    NaN    NaN      NaN    NaN    NaN  \n175      NaN    NaN    NaN      NaN    NaN    NaN  \n176      NaN    NaN    NaN      NaN    NaN    NaN  \n177      NaN    NaN    NaN      NaN    NaN    NaN  \n\n[178 rows x 24 columns]",
      "text/html": "<div>\n<style scoped>\n    .dataframe tbody tr th:only-of-type {\n        vertical-align: middle;\n    }\n\n    .dataframe tbody tr th {\n        vertical-align: top;\n    }\n\n    .dataframe thead th {\n        text-align: right;\n    }\n</style>\n<table border=\"1\" class=\"dataframe\">\n  <thead>\n    <tr style=\"text-align: right;\">\n      <th></th>\n      <th>pid</th>\n      <th>index</th>\n      <th>gender</th>\n      <th>age</th>\n      <th>filename</th>\n      <th>body part 1</th>\n      <th>bbox1rot</th>\n      <th>bbox1A</th>\n      <th>bbox1B</th>\n      <th>bbox2rot</th>\n      <th>...</th>\n      <th>bbox3B</th>\n      <th>bbox4rot</th>\n      <th>bbox4A</th>\n      <th>bbox4B</th>\n      <th>bbox5rot</th>\n      <th>bbox5A</th>\n      <th>bbox5B</th>\n      <th>bbox6rot</th>\n      <th>bbox6A</th>\n      <th>bbox6B</th>\n    </tr>\n  </thead>\n  <tbody>\n    <tr>\n      <th>0</th>\n      <td>8</td>\n      <td>14</td>\n      <td>M</td>\n      <td>63.30137</td>\n      <td>2022-06-07 17.10.29.ndpi</td>\n      <td>SHOULDER</td>\n      <td>NaN</td>\n      <td>NaN</td>\n      <td>NaN</td>\n      <td>NaN</td>\n      <td>...</td>\n      <td>NaN</td>\n      <td>NaN</td>\n      <td>NaN</td>\n      <td>NaN</td>\n      <td>NaN</td>\n      <td>NaN</td>\n      <td>NaN</td>\n      <td>NaN</td>\n      <td>NaN</td>\n      <td>NaN</td>\n    </tr>\n    <tr>\n      <th>1</th>\n      <td>8</td>\n      <td>15</td>\n      <td>M</td>\n      <td>63.30137</td>\n      <td>2022-06-07 17.15.33.ndpi</td>\n      <td>SHOULDER</td>\n      <td>NaN</td>\n      <td>NaN</td>\n      <td>NaN</td>\n      <td>NaN</td>\n      <td>...</td>\n      <td>NaN</td>\n      <td>NaN</td>\n      <td>NaN</td>\n      <td>NaN</td>\n      <td>NaN</td>\n      <td>NaN</td>\n      <td>NaN</td>\n      <td>NaN</td>\n      <td>NaN</td>\n      <td>NaN</td>\n    </tr>\n    <tr>\n      <th>2</th>\n      <td>27</td>\n      <td>53</td>\n      <td>M</td>\n      <td>64.147945</td>\n      <td>2022-06-07 16.05.45.ndpi</td>\n      <td>SHOULDER</td>\n      <td>NaN</td>\n      <td>NaN</td>\n      <td>NaN</td>\n      <td>NaN</td>\n      <td>...</td>\n      <td>NaN</td>\n      <td>NaN</td>\n      <td>NaN</td>\n      <td>NaN</td>\n      <td>NaN</td>\n      <td>NaN</td>\n      <td>NaN</td>\n      <td>NaN</td>\n      <td>NaN</td>\n      <td>NaN</td>\n    </tr>\n    <tr>\n      <th>3</th>\n      <td>27</td>\n      <td>54</td>\n      <td>M</td>\n      <td>64.147945</td>\n      <td>2022-06-09 20.12.48.ndpi</td>\n      <td>SHOULDER</td>\n      <td>NaN</td>\n      <td>NaN</td>\n      <td>NaN</td>\n      <td>NaN</td>\n      <td>...</td>\n      <td>NaN</td>\n      <td>NaN</td>\n      <td>NaN</td>\n      <td>NaN</td>\n      <td>NaN</td>\n      <td>NaN</td>\n      <td>NaN</td>\n      <td>NaN</td>\n      <td>NaN</td>\n      <td>NaN</td>\n    </tr>\n    <tr>\n      <th>4</th>\n      <td>27</td>\n      <td>55</td>\n      <td>M</td>\n      <td>64.147945</td>\n      <td>2022-06-09 20.18.08.ndpi</td>\n      <td>SHOULDER</td>\n      <td>NaN</td>\n      <td>NaN</td>\n      <td>NaN</td>\n      <td>NaN</td>\n      <td>...</td>\n      <td>NaN</td>\n      <td>NaN</td>\n      <td>NaN</td>\n      <td>NaN</td>\n      <td>NaN</td>\n      <td>NaN</td>\n      <td>NaN</td>\n      <td>NaN</td>\n      <td>NaN</td>\n      <td>NaN</td>\n    </tr>\n    <tr>\n      <th>...</th>\n      <td>...</td>\n      <td>...</td>\n      <td>...</td>\n      <td>...</td>\n      <td>...</td>\n      <td>...</td>\n      <td>...</td>\n      <td>...</td>\n      <td>...</td>\n      <td>...</td>\n      <td>...</td>\n      <td>...</td>\n      <td>...</td>\n      <td>...</td>\n      <td>...</td>\n      <td>...</td>\n      <td>...</td>\n      <td>...</td>\n      <td>...</td>\n      <td>...</td>\n      <td>...</td>\n    </tr>\n    <tr>\n      <th>173</th>\n      <td>472</td>\n      <td>1147</td>\n      <td>F</td>\n      <td>76.775342</td>\n      <td>2022-06-10 16.39.33.ndpi</td>\n      <td>LEG</td>\n      <td>NaN</td>\n      <td>NaN</td>\n      <td>NaN</td>\n      <td>NaN</td>\n      <td>...</td>\n      <td>NaN</td>\n      <td>NaN</td>\n      <td>NaN</td>\n      <td>NaN</td>\n      <td>NaN</td>\n      <td>NaN</td>\n      <td>NaN</td>\n      <td>NaN</td>\n      <td>NaN</td>\n      <td>NaN</td>\n    </tr>\n    <tr>\n      <th>174</th>\n      <td>474</td>\n      <td>1151</td>\n      <td>F</td>\n      <td>54.547945</td>\n      <td>2022-06-10 16.50.35.ndpi</td>\n      <td>CHEST</td>\n      <td>NaN</td>\n      <td>NaN</td>\n      <td>NaN</td>\n      <td>NaN</td>\n      <td>...</td>\n      <td>NaN</td>\n      <td>NaN</td>\n      <td>NaN</td>\n      <td>NaN</td>\n      <td>NaN</td>\n      <td>NaN</td>\n      <td>NaN</td>\n      <td>NaN</td>\n      <td>NaN</td>\n      <td>NaN</td>\n    </tr>\n    <tr>\n      <th>175</th>\n      <td>483</td>\n      <td>1172</td>\n      <td>M</td>\n      <td>68.20274</td>\n      <td>2022-06-08 16.05.29.ndpi</td>\n      <td>SHOULDER</td>\n      <td>NaN</td>\n      <td>NaN</td>\n      <td>NaN</td>\n      <td>NaN</td>\n      <td>...</td>\n      <td>NaN</td>\n      <td>NaN</td>\n      <td>NaN</td>\n      <td>NaN</td>\n      <td>NaN</td>\n      <td>NaN</td>\n      <td>NaN</td>\n      <td>NaN</td>\n      <td>NaN</td>\n      <td>NaN</td>\n    </tr>\n    <tr>\n      <th>176</th>\n      <td>484</td>\n      <td>1173</td>\n      <td>M</td>\n      <td>92.435616</td>\n      <td>2022-06-07 17.24.15.ndpi</td>\n      <td>BACK</td>\n      <td>NaN</td>\n      <td>NaN</td>\n      <td>NaN</td>\n      <td>NaN</td>\n      <td>...</td>\n      <td>NaN</td>\n      <td>NaN</td>\n      <td>NaN</td>\n      <td>NaN</td>\n      <td>NaN</td>\n      <td>NaN</td>\n      <td>NaN</td>\n      <td>NaN</td>\n      <td>NaN</td>\n      <td>NaN</td>\n    </tr>\n    <tr>\n      <th>177</th>\n      <td>485</td>\n      <td>1181</td>\n      <td>F</td>\n      <td>72.712329</td>\n      <td>2022-06-07 18.06.50.ndpi</td>\n      <td>CHEST</td>\n      <td>NaN</td>\n      <td>NaN</td>\n      <td>NaN</td>\n      <td>NaN</td>\n      <td>...</td>\n      <td>NaN</td>\n      <td>NaN</td>\n      <td>NaN</td>\n      <td>NaN</td>\n      <td>NaN</td>\n      <td>NaN</td>\n      <td>NaN</td>\n      <td>NaN</td>\n      <td>NaN</td>\n      <td>NaN</td>\n    </tr>\n  </tbody>\n</table>\n<p>178 rows × 24 columns</p>\n</div>"
     },
     "execution_count": 10,
     "metadata": {},
     "output_type": "execute_result"
    }
   ],
   "source": [
    "ClUedegrot_df"
   ],
   "metadata": {
    "collapsed": false,
    "pycharm": {
     "name": "#%%\n"
    }
   }
  },
  {
   "cell_type": "code",
   "execution_count": null,
   "outputs": [],
   "source": [],
   "metadata": {
    "collapsed": false,
    "pycharm": {
     "name": "#%%\n"
    }
   }
  },
  {
   "cell_type": "code",
   "execution_count": null,
   "outputs": [],
   "source": [],
   "metadata": {
    "collapsed": false,
    "pycharm": {
     "name": "#%%\n"
    }
   }
  },
  {
   "cell_type": "code",
   "execution_count": null,
   "outputs": [],
   "source": [],
   "metadata": {
    "collapsed": false,
    "pycharm": {
     "name": "#%%\n"
    }
   }
  },
  {
   "cell_type": "code",
   "execution_count": null,
   "outputs": [],
   "source": [
    "for index, row in ClUedegrot_df.iterrows():\n",
    "    try:\n",
    "        fn = os.path.splitext(row['filename'])[0]\n",
    "        #mask = Image.open(os.path.join(dlsrc,'{}.{}'.format(fn,'tif')))\n",
    "        #ndpi = OpenSlide(os.path.join(ndpisrc,'{}.{}'.format(fn,'.ndpi')))\n",
    "\n",
    "        #jsdst = os.path.join(realjsonsrc,'{}.{}'.format(fn,'json'))\n",
    "        #json = pd.read_json(jsdst, orient='index')\n",
    "        roi= Image.open(os.path.join(roisrc,'{}.{}'.format(fn,'png')))\n",
    "\n",
    "        #rotate_hovernet_dl_im(mask,ndpi,json,src,fn,0,roi)\n",
    "    except:#if files doesn't exist\n",
    "        print(\"jere\")\n",
    "        continue\n",
    "        #i will fill the values with zero later"
   ],
   "metadata": {
    "collapsed": false,
    "pycharm": {
     "name": "#%%\n"
    }
   }
  },
  {
   "cell_type": "code",
   "execution_count": 27,
   "outputs": [
    {
     "data": {
      "text/plain": "1"
     },
     "execution_count": 27,
     "metadata": {},
     "output_type": "execute_result"
    }
   ],
   "source": [
    "t = [0,0,1]\n",
    "np.sum(t)\n"
   ],
   "metadata": {
    "collapsed": false,
    "pycharm": {
     "name": "#%%\n"
    }
   }
  },
  {
   "cell_type": "code",
   "execution_count": null,
   "outputs": [],
   "source": [],
   "metadata": {
    "collapsed": false,
    "pycharm": {
     "name": "#%%\n"
    }
   }
  }
 ],
 "metadata": {
  "kernelspec": {
   "display_name": "Python 3",
   "language": "python",
   "name": "python3"
  },
  "language_info": {
   "codemirror_mode": {
    "name": "ipython",
    "version": 2
   },
   "file_extension": ".py",
   "mimetype": "text/x-python",
   "name": "python",
   "nbconvert_exporter": "python",
   "pygments_lexer": "ipython2",
   "version": "2.7.6"
  }
 },
 "nbformat": 4,
 "nbformat_minor": 0
}
