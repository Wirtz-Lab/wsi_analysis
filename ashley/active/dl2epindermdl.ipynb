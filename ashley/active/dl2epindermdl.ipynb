{
 "cells": [
  {
   "cell_type": "code",
   "execution_count": 1,
   "outputs": [],
   "source": [
    "import math\n",
    "\n",
    "import pandas as pd\n",
    "from PIL import Image\n",
    "Image.MAX_IMAGE_PIXELS=None\n",
    "import numpy as np\n",
    "from skimage.morphology import closing, square, remove_small_objects, remove_small_holes\n",
    "import os\n",
    "import cv2\n",
    "from matplotlib import pyplot as plt\n",
    "from copy import deepcopy\n",
    "\n",
    "from scipy import ndimage\n",
    "from skimage.measure import label, regionprops, regionprops_table\n",
    "import scipy"
   ],
   "metadata": {
    "collapsed": false
   }
  },
  {
   "cell_type": "code",
   "execution_count": 2,
   "outputs": [],
   "source": [
    "\n",
    "def replace_dermis_pixel_with_ring(obj): #obj is a boolean object\n",
    "        obj_dilate = ndimage.binary_dilation(obj).astype('int')\n",
    "        ring = obj_dilate - np.array(obj).astype('int')\n",
    "\n",
    "        labeled_ring = derm * ring\n",
    "        if not (np.sum(labeled_ring) == 0):\n",
    "            count = np.bincount(np.ndarray.flatten(labeled_ring))\n",
    "            replace_val = np.argmax(count[1:] ) + 1\n",
    "            [x,y] = np.where(obj)\n",
    "            derm[x,y] = replace_val\n",
    "\n"
   ],
   "metadata": {
    "collapsed": false
   }
  },
  {
   "cell_type": "code",
   "execution_count": 3,
   "outputs": [],
   "source": [
    "#use collagen to define dermis\n",
    "# 1. extract collagen(class=10) from DLmask\n",
    "# 2. remove small object and fill holes in collagen to make it a single connected body\n",
    "# 3. find epidermal-dermis junction using maximum of the binary in y-axis\n",
    "# 4. remove any pixels that are not epidermis above the epidermal-dermis junction\n",
    "# 5. iterate each class to replace any potentially wrong pixel to correct class\n",
    "    #RULES:\n",
    "    #hair foliical:\n"
   ],
   "metadata": {
    "collapsed": false
   }
  },
  {
   "cell_type": "code",
   "execution_count": 4,
   "outputs": [],
   "source": [
    "#end goal after processing:\n",
    "#1.only 1&2 above epidermis-dermis junction\n",
    "#2. no 1&2 below epidermis-dermis junction\n",
    "#3. 3 should have nothing else in it,should be touching 4\n",
    "#4. 4 should be big enough, should only have 3 and 6 inside\n",
    "#5. 5 should not have anything inside it, 5 should only touch 12 , 10\n",
    "\n",
    "#note: sometimes tissue sections get misclassified, but it's not consistent each time"
   ],
   "metadata": {
    "collapsed": false
   }
  },
  {
   "cell_type": "code",
   "execution_count": 5,
   "outputs": [],
   "source": [
    "#read deeplab crop\n",
    "dlcropsrc = r'\\\\fatherserverdw\\kyuex\\analysis output\\datadst\\20220929\\dlcrop'"
   ],
   "metadata": {
    "collapsed": false
   }
  },
  {
   "cell_type": "code",
   "execution_count": 6,
   "outputs": [],
   "source": [
    "img_name = '2022-06-08 18.13.05sec2.png'\n",
    "#\"2022-06-07 14.34.59sec1.png\""
   ],
   "metadata": {
    "collapsed": false
   }
  },
  {
   "cell_type": "code",
   "execution_count": 7,
   "outputs": [],
   "source": [
    "#1. remove small object and fill holes in collagen to make it a single connected body\n",
    "#10x\n",
    "dl = Image.open(os.path.join(dlcropsrc, img_name))"
   ],
   "metadata": {
    "collapsed": false
   }
  },
  {
   "cell_type": "code",
   "execution_count": 8,
   "outputs": [],
   "source": [
    "\n",
    "dl_arr = np.array(dl)\n",
    "dl_arr[dl_arr == 12] = 0\n",
    "col = (dl_arr == 10) #collagen"
   ],
   "metadata": {
    "collapsed": false
   }
  },
  {
   "cell_type": "code",
   "execution_count": 9,
   "outputs": [],
   "source": [
    "#2.remove small object and fill holes in collagen to make it a single connected body\n",
    "\n",
    "minTA = 60000\n",
    "minTAhole = 10000 #is this too much?\n",
    "\n",
    "#resize to expedite\n",
    "(width, height) = (dl.width // 10, dl.height // 10)\n",
    "collagen = Image.fromarray(col).resize((width, height), resample=0)\n",
    "\n",
    "collagen= closing(collagen, square(3))  # 13sec\n",
    "collagen= remove_small_objects(collagen, min_size=minTA, connectivity=2)  # 6sec\n",
    "collagen = remove_small_holes(collagen , area_threshold=minTAhole).astype(np.uint8)\n",
    "\n",
    "kernel = np.ones((3, 3), np.uint8)\n",
    "opening = cv2.morphologyEx(collagen .astype(np.uint8), cv2.MORPH_OPEN, kernel, iterations=2)  # 2sec\n",
    "collagen = cv2.dilate(opening, kernel, iterations=3)\n",
    "collagen = cv2.dilate(opening, kernel, iterations=3)\n",
    "\n",
    "#resize back\n",
    "collagen = Image.fromarray(collagen).resize((dl.width, dl.height),resample=0)\n",
    "collagen_arr = np.array(collagen)"
   ],
   "metadata": {
    "collapsed": false
   }
  },
  {
   "cell_type": "code",
   "execution_count": 10,
   "outputs": [],
   "source": [
    "#3. find epidermal-dermis junction\n",
    "\n",
    "\n",
    "[xt,yt] = np.where(collagen_arr)\n",
    "\n",
    "#we actually want to find the minimum x-coordinate (because this image is weirdly oriented)\n",
    "unique_y = np.unique(yt)\n",
    "min_x = [np.amin(np.where(collagen_arr[:,y])) for y in unique_y]\n",
    "thresh = 800 #i'm not sure that this will work with every image. TODO: change\n",
    "hist, bins = np.histogram(min_x)\n",
    "#get the value range to remove (note: this doesnt contain last element in bins\n",
    "remove_bins = [b for h,b in zip(hist,bins) if h < thresh ]\n",
    "\n",
    "#new junction, remove parts with low frequency in histogram,use remove_bins[0] because it represents where the junction begins to drop\n",
    "#TODO: need to change this to be more robust, what if the junction drops in the middle,\n",
    "new_junction_x  = [x for x in min_x if x < np.round(remove_bins[0].astype(\"uint32\"))]\n",
    "new_junction_y = list(range(len(new_junction_x)))"
   ],
   "metadata": {
    "collapsed": false
   }
  },
  {
   "cell_type": "code",
   "execution_count": 11,
   "outputs": [],
   "source": [
    "#2: correct anything that is miss classified in epi\n",
    "#get new contour\n",
    "import cv2\n",
    "\n",
    "collagen_tmp = deepcopy(collagen_arr)\n",
    "junction_offset = 750\n",
    "\n",
    "for x,y in zip( new_junction_x, new_junction_y):\n",
    "    collagen_tmp[np.max(new_junction_x) + junction_offset:, y] = 0\n",
    "\n",
    "collagen_tmp[:, np.max(new_junction_y):] = 0\n",
    "\n",
    "max_cx = max(new_junction_x)\n",
    "max_cy = max(new_junction_y)\n",
    "\n",
    "collagen_tmp = ndimage.binary_fill_holes(collagen_tmp).astype(collagen_tmp.dtype)\n",
    "\n",
    "contours, hierarchy = cv2.findContours(collagen_tmp, cv2.RETR_TREE, cv2.CHAIN_APPROX_SIMPLE)"
   ],
   "metadata": {
    "collapsed": false
   }
  },
  {
   "cell_type": "code",
   "execution_count": 12,
   "outputs": [],
   "source": [
    "\n",
    "img = np.zeros((9746, 11162))\n",
    "dontPrint = cv2.drawContours(img, contours, -1, (255,0,0), 1) #100\n",
    "cv2.fillPoly(img,contours,(255,0,0))\n",
    "junction_mask = np.array(img)\n",
    "img1= img.astype(bool)\n",
    "img1[max_cx + 1:, :] = 0\n",
    "[cx,cy] = np.where(img1)\n",
    "\n",
    " # epidermis-dermisjunction is not accurate, extend the junction by 750 pix\n",
    "\n",
    "\n",
    "epi = deepcopy(dl_arr)\n",
    "epi[:,np.max(y)+1:] = 0\n",
    "epi[np.max(x)+1:,:] = 0\n",
    "[x,y] = np.where(junction_mask)\n",
    "epi[x+junction_offset,y] = 0"
   ],
   "metadata": {
    "collapsed": false
   }
  },
  {
   "cell_type": "markdown",
   "source": [],
   "metadata": {
    "collapsed": false
   }
  },
  {
   "cell_type": "code",
   "execution_count": 13,
   "outputs": [],
   "source": [
    "#iterate through epi and replace value with 1 or 2, ignore 0 and 12\n",
    "window_size = 20\n",
    "\n",
    "for x in range(np.max(cx)):\n",
    "    for y in range(np.max(cy)):\n",
    "        if not (epi[x,y] == 0 or epi[x,y] == 1 or epi[x,y] == 2 or epi[x,y] == 12 or epi[x,y] == 10 ): #it can have some 10 collagen in junction??????\n",
    "\n",
    "            #question: is it better to do a window search or dilate and use the ring to calculate\n",
    "            #replace pixel value with 1 or 2\n",
    "            window_shape = [(x -  window_size) if (x -  window_size) >= 0 else 0,\n",
    "                      (x + window_size) , y +  window_size,(y -  window_size) if (y - window_size) >=0 else 0] #L,R,T,B\n",
    "\n",
    "            window = epi[window_shape[0]:window_shape[1], window_shape[3]:window_shape[2]]\n",
    "            #check pixel values in window\n",
    "            count1 = np.sum([window == 1])\n",
    "            count2 = np.sum([window == 2])\n",
    "\n",
    "            if(count1 >= count2):\n",
    "                epi[x,y] = 1\n",
    "            else:\n",
    "                epi[x,y] = 2\n",
    "\n",
    "\n",
    "\n"
   ],
   "metadata": {
    "collapsed": false
   }
  },
  {
   "cell_type": "code",
   "execution_count": 14,
   "outputs": [],
   "source": [
    "#initialize new_dl_arr and make changes to it, do not modify dl_arr\n",
    "new_dl_arr = deepcopy(dl_arr)"
   ],
   "metadata": {
    "collapsed": false
   }
  },
  {
   "cell_type": "code",
   "execution_count": 15,
   "outputs": [
    {
     "data": {
      "text/plain": "<matplotlib.image.AxesImage at 0x1abb24461f0>"
     },
     "execution_count": 15,
     "metadata": {},
     "output_type": "execute_result"
    },
    {
     "data": {
      "text/plain": "<Figure size 1280x960 with 1 Axes>",
      "image/png": "[encoded data removed]"
     },
     "metadata": {},
     "output_type": "display_data"
    }
   ],
   "source": [
    "#checkpoint1: check if epi only has 1&2\n",
    "\n",
    "figure_size = plt.gcf().get_size_inches()\n",
    "factor = 2\n",
    "plt.gcf().set_size_inches(factor * figure_size)\n",
    "\n",
    "plt.imshow(epi)"
   ],
   "metadata": {
    "collapsed": false
   }
  },
  {
   "cell_type": "code",
   "execution_count": 16,
   "outputs": [],
   "source": [
    "#change new_dl_arr based on new epi\n",
    "[xt,yt] = np.where(epi ==1)\n",
    "new_dl_arr[xt,yt] = 1\n",
    "\n",
    "[xt,yt] = np.where(epi ==2)\n",
    "new_dl_arr[xt,yt] = 2\n"
   ],
   "metadata": {
    "collapsed": false
   }
  },
  {
   "cell_type": "code",
   "execution_count": 17,
   "outputs": [],
   "source": [
    "#initialize mask for dermis\n",
    "derm= deepcopy(new_dl_arr)"
   ],
   "metadata": {
    "collapsed": false
   }
  },
  {
   "cell_type": "code",
   "execution_count": 18,
   "outputs": [],
   "source": [
    "[x,y] = np.where(epi)\n",
    "derm[x,y] = 0"
   ],
   "metadata": {
    "collapsed": false
   }
  },
  {
   "cell_type": "code",
   "execution_count": 19,
   "outputs": [],
   "source": [
    "#seperate out dermis based on epidermis and dermis junction\n",
    "#for x,y in zip(cx,cy):\n",
    "    #derm[0:x + junction_offset, y] = 0 #add 7000 because some parts below the junction is actually still epidermis\n",
    "    #TODO: do we need to readdress the epidermis as well?"
   ],
   "metadata": {
    "collapsed": false
   }
  },
  {
   "cell_type": "code",
   "execution_count": 20,
   "outputs": [],
   "source": [
    "#used for comparison, DO NOT MODIFY derm_original\n",
    "derm_original = deepcopy(derm)"
   ],
   "metadata": {
    "collapsed": false
   }
  },
  {
   "cell_type": "code",
   "execution_count": 21,
   "outputs": [],
   "source": [
    "#replace any 1, 2 in dermis\n",
    "derm1 = (derm == 1)  #replace by 3\n",
    "derm2 = (derm == 2)  #replace by 4"
   ],
   "metadata": {
    "collapsed": false
   }
  },
  {
   "cell_type": "code",
   "execution_count": 22,
   "outputs": [],
   "source": [
    "if(np.sum(derm1) !=0):\n",
    "    #replace with 3\n",
    "    [x,y] = np.where(derm1)\n",
    "    derm[x,y] = 3\n",
    "\n",
    "if(np.sum(derm2) !=0):\n",
    "    #replace with 4\n",
    "    [x,y] = np.where(derm2)\n",
    "    derm[x,y] = 4"
   ],
   "metadata": {
    "collapsed": false
   }
  },
  {
   "cell_type": "code",
   "execution_count": 23,
   "outputs": [
    {
     "data": {
      "text/plain": "1031705"
     },
     "execution_count": 23,
     "metadata": {},
     "output_type": "execute_result"
    }
   ],
   "source": [
    "derm3 = (derm == 3)\n",
    "np.sum(derm3)"
   ],
   "metadata": {
    "collapsed": false
   }
  },
  {
   "cell_type": "code",
   "execution_count": 24,
   "outputs": [],
   "source": [
    "label_derm = label(derm3)"
   ],
   "metadata": {
    "collapsed": false
   }
  },
  {
   "cell_type": "code",
   "execution_count": 25,
   "outputs": [
    {
     "data": {
      "text/plain": "range(1, 240)"
     },
     "execution_count": 25,
     "metadata": {},
     "output_type": "execute_result"
    }
   ],
   "source": [
    "range(1,np.max(label_derm))"
   ],
   "metadata": {
    "collapsed": false
   }
  },
  {
   "cell_type": "code",
   "execution_count": 28,
   "outputs": [],
   "source": [
    "i=1\n",
    "ring =  ndimage.binary_dilation(label_derm == i).astype('bool')\n",
    "ring = ring * derm\n",
    "tmp = (ring) & (derm == 4)"
   ],
   "metadata": {
    "collapsed": false
   }
  },
  {
   "cell_type": "code",
   "execution_count": 29,
   "outputs": [
    {
     "data": {
      "text/plain": "0"
     },
     "execution_count": 29,
     "metadata": {},
     "output_type": "execute_result"
    }
   ],
   "source": [
    "np.sum(tmp)"
   ],
   "metadata": {
    "collapsed": false
   }
  },
  {
   "cell_type": "code",
   "execution_count": 30,
   "outputs": [],
   "source": [
    "replace_dermis_pixel_with_ring(label_derm == i)"
   ],
   "metadata": {
    "collapsed": false
   }
  },
  {
   "cell_type": "code",
   "execution_count": 31,
   "outputs": [],
   "source": [
    "[x,y] = np.where(label_derm == i)\n",
    "derm[x,y] = 3"
   ],
   "metadata": {
    "collapsed": false
   }
  },
  {
   "cell_type": "code",
   "execution_count": 33,
   "outputs": [],
   "source": [
    "from time import time"
   ],
   "metadata": {
    "collapsed": false
   }
  },
  {
   "cell_type": "code",
   "execution_count": 55,
   "outputs": [
    {
     "data": {
      "text/plain": "<matplotlib.image.AxesImage at 0x1ab499e36d0>"
     },
     "execution_count": 55,
     "metadata": {},
     "output_type": "execute_result"
    },
    {
     "data": {
      "text/plain": "<Figure size 640x480 with 1 Axes>",
      "image/png": "[encoded data removed]"
     },
     "metadata": {},
     "output_type": "display_data"
    }
   ],
   "source": [
    "plt.imshow(derm3)"
   ],
   "metadata": {
    "collapsed": false
   }
  },
  {
   "cell_type": "code",
   "execution_count": 56,
   "outputs": [],
   "source": [
    "props = regionprops(label(derm3))"
   ],
   "metadata": {
    "collapsed": false
   }
  },
  {
   "cell_type": "code",
   "execution_count": 57,
   "outputs": [
    {
     "data": {
      "text/plain": "220"
     },
     "execution_count": 57,
     "metadata": {},
     "output_type": "execute_result"
    }
   ],
   "source": [
    "len(props)"
   ],
   "metadata": {
    "collapsed": false
   }
  },
  {
   "cell_type": "code",
   "execution_count": 59,
   "outputs": [],
   "source": [
    "areas = [_.area for _ in props]"
   ],
   "metadata": {
    "collapsed": false
   }
  },
  {
   "cell_type": "markdown",
   "source": [],
   "metadata": {
    "collapsed": false
   }
  },
  {
   "cell_type": "code",
   "execution_count": 66,
   "outputs": [
    {
     "data": {
      "text/plain": "(array([ 2.,  0., 68.,  0.,  0., 26.,  0., 21.,  0.,  0., 16.,  0., 15.,\n         0.,  0.,  7.,  0.,  8.,  0.,  0.,  4.,  0.,  1.,  5.,  0.,  4.,\n         0.,  0.,  6.,  0.,  2.,  0.,  0.,  3.,  0.,  0.,  0.,  0.,  0.,\n         0.,  3.,  0.,  0.,  2.,  0.,  0.,  0.,  0.,  0.,  0.,  0.,  1.,\n         0.,  0.,  0.,  0.,  1.,  0.,  0.,  0.,  0.,  2.,  0.,  1.,  1.,\n         0.,  1.,  0.,  0.,  0.,  0.,  0.,  0.,  0.,  0.,  0.,  1.,  0.,\n         0.,  0.,  0.,  2.,  0.,  0.,  2.,  0.,  0.,  1.,  0.,  0.,  0.,\n         0.,  0.,  0.,  1.,  0.,  0.,  0.,  0.]),\n array([   0.,  100.,  200.,  300.,  400.,  500.,  600.,  700.,  800.,\n         900., 1000., 1100., 1200., 1300., 1400., 1500., 1600., 1700.,\n        1800., 1900., 2000., 2100., 2200., 2300., 2400., 2500., 2600.,\n        2700., 2800., 2900., 3000., 3100., 3200., 3300., 3400., 3500.,\n        3600., 3700., 3800., 3900., 4000., 4100., 4200., 4300., 4400.,\n        4500., 4600., 4700., 4800., 4900., 5000., 5100., 5200., 5300.,\n        5400., 5500., 5600., 5700., 5800., 5900., 6000., 6100., 6200.,\n        6300., 6400., 6500., 6600., 6700., 6800., 6900., 7000., 7100.,\n        7200., 7300., 7400., 7500., 7600., 7700., 7800., 7900., 8000.,\n        8100., 8200., 8300., 8400., 8500., 8600., 8700., 8800., 8900.,\n        9000., 9100., 9200., 9300., 9400., 9500., 9600., 9700., 9800.,\n        9900.]),\n <BarContainer object of 99 artists>)"
     },
     "execution_count": 66,
     "metadata": {},
     "output_type": "execute_result"
    },
    {
     "data": {
      "text/plain": "<Figure size 640x480 with 1 Axes>",
      "image/png": "[encoded data removed]"
     },
     "metadata": {},
     "output_type": "display_data"
    }
   ],
   "source": [
    "plt.hist(areas,range(0,10000,100))"
   ],
   "metadata": {
    "collapsed": false
   }
  },
  {
   "cell_type": "code",
   "execution_count": 70,
   "outputs": [
    {
     "name": "stderr",
     "output_type": "stream",
     "text": [
      "C:\\Users\\kyuha\\.conda\\envs\\wsi_analysis\\lib\\site-packages\\skimage\\_shared\\utils.py:157: UserWarning: Only one label was provided to `remove_small_objects`. Did you mean to use a boolean array?\n",
      "  return func(*args, **kwargs)\n"
     ]
    },
    {
     "data": {
      "text/plain": "(array([ 2.,  0., 68.,  0.,  0., 26.,  0., 21.,  0.]),\n array([  0., 100., 200., 300., 400., 500., 600., 700., 800., 900.]),\n <BarContainer object of 9 artists>)"
     },
     "execution_count": 70,
     "metadata": {},
     "output_type": "execute_result"
    },
    {
     "data": {
      "text/plain": "<Figure size 640x480 with 1 Axes>",
      "image/png": "[encoded data removed]"
     },
     "metadata": {},
     "output_type": "display_data"
    }
   ],
   "source": [
    "derm4 = remove_small_objects(derm3,1000)\n",
    "props = regionprops(label(derm4))\n",
    "areas = [_.area for _ in props]\n",
    "plt.hist(areas,range(0,1000,100))"
   ],
   "metadata": {
    "collapsed": false
   }
  },
  {
   "cell_type": "code",
   "execution_count": 69,
   "outputs": [
    {
     "data": {
      "text/plain": "220"
     },
     "execution_count": 69,
     "metadata": {},
     "output_type": "execute_result"
    }
   ],
   "source": [
    "np.max(label(derm4))"
   ],
   "metadata": {
    "collapsed": false
   }
  },
  {
   "cell_type": "code",
   "execution_count": 74,
   "outputs": [
    {
     "name": "stderr",
     "output_type": "stream",
     "text": [
      "C:\\Users\\kyuha\\.conda\\envs\\wsi_analysis\\lib\\site-packages\\skimage\\_shared\\utils.py:157: UserWarning: Only one label was provided to `remove_small_objects`. Did you mean to use a boolean array?\n",
      "  return func(*args, **kwargs)\n"
     ]
    },
    {
     "name": "stdout",
     "output_type": "stream",
     "text": [
      "1\n",
      "elapsed 0.5620059967041016\n",
      "elapsed 0.8500056266784668\n",
      "elapsed 1.8667123317718506\n",
      "2\n",
      "elapsed 0.5794367790222168\n",
      "elapsed 0.8769469261169434\n",
      "elapsed 1.8860409259796143\n",
      "3\n",
      "elapsed 0.5981979370117188\n",
      "elapsed 0.9002878665924072\n",
      "elapsed 1.9146902561187744\n",
      "4\n",
      "elapsed 0.595881462097168\n",
      "elapsed 0.9054791927337646\n",
      "elapsed 2.5500988960266113\n",
      "5\n",
      "elapsed 0.5560133457183838\n",
      "elapsed 0.927020788192749\n",
      "elapsed 2.5450680255889893\n",
      "6\n",
      "elapsed 0.6730546951293945\n",
      "elapsed 0.9821958541870117\n",
      "elapsed 2.6295406818389893\n",
      "7\n",
      "elapsed 0.5926902294158936\n",
      "elapsed 0.9042184352874756\n",
      "elapsed 2.54311203956604\n",
      "8\n",
      "elapsed 0.5611162185668945\n",
      "elapsed 0.9726321697235107\n",
      "elapsed 2.5852162837982178\n",
      "9\n",
      "elapsed 0.558114767074585\n",
      "elapsed 0.8951356410980225\n",
      "elapsed 2.5290372371673584\n",
      "10\n",
      "elapsed 0.5909810066223145\n",
      "elapsed 0.914980411529541\n",
      "elapsed 2.538996696472168\n",
      "11\n",
      "elapsed 0.5585999488830566\n",
      "elapsed 0.9656486511230469\n",
      "elapsed 2.5681447982788086\n",
      "12\n",
      "elapsed 0.5470061302185059\n",
      "elapsed 0.867011308670044\n",
      "elapsed 2.500256299972534\n",
      "13\n",
      "elapsed 0.5870082378387451\n",
      "elapsed 0.9009108543395996\n",
      "elapsed 2.5285301208496094\n",
      "14\n",
      "elapsed 0.566802978515625\n",
      "elapsed 0.9548051357269287\n"
     ]
    },
    {
     "ename": "KeyboardInterrupt",
     "evalue": "",
     "output_type": "error",
     "traceback": [
      "\u001B[1;31m---------------------------------------------------------------------------\u001B[0m",
      "\u001B[1;31mKeyboardInterrupt\u001B[0m                         Traceback (most recent call last)",
      "Cell \u001B[1;32mIn[74], line 42\u001B[0m\n\u001B[0;32m     38\u001B[0m \u001B[38;5;28mprint\u001B[39m(\u001B[38;5;124m'\u001B[39m\u001B[38;5;124melapsed \u001B[39m\u001B[38;5;132;01m{}\u001B[39;00m\u001B[38;5;124m'\u001B[39m\u001B[38;5;241m.\u001B[39mformat(time()\u001B[38;5;241m-\u001B[39mstart))\n\u001B[0;32m     40\u001B[0m \u001B[38;5;28;01mif\u001B[39;00m np\u001B[38;5;241m.\u001B[39msum(tmp) \u001B[38;5;241m==\u001B[39m \u001B[38;5;241m0\u001B[39m:\n\u001B[0;32m     41\u001B[0m     \u001B[38;5;66;03m#TODO: change pixel value to the majority of the ring\u001B[39;00m\n\u001B[1;32m---> 42\u001B[0m     \u001B[43mreplace_dermis_pixel_with_ring\u001B[49m\u001B[43m(\u001B[49m\u001B[43mlabel_derm\u001B[49m\u001B[43m \u001B[49m\u001B[38;5;241;43m==\u001B[39;49m\u001B[43m \u001B[49m\u001B[43mi\u001B[49m\u001B[43m)\u001B[49m\n\u001B[0;32m     43\u001B[0m \u001B[38;5;28;01melse\u001B[39;00m:\n\u001B[0;32m     44\u001B[0m     [x,y] \u001B[38;5;241m=\u001B[39m np\u001B[38;5;241m.\u001B[39mwhere(label_derm \u001B[38;5;241m==\u001B[39m i)\n",
      "Cell \u001B[1;32mIn[2], line 2\u001B[0m, in \u001B[0;36mreplace_dermis_pixel_with_ring\u001B[1;34m(obj)\u001B[0m\n\u001B[0;32m      1\u001B[0m \u001B[38;5;28;01mdef\u001B[39;00m \u001B[38;5;21mreplace_dermis_pixel_with_ring\u001B[39m(obj): \u001B[38;5;66;03m#obj is a boolean object\u001B[39;00m\n\u001B[1;32m----> 2\u001B[0m         obj_dilate \u001B[38;5;241m=\u001B[39m \u001B[43mndimage\u001B[49m\u001B[38;5;241;43m.\u001B[39;49m\u001B[43mbinary_dilation\u001B[49m\u001B[43m(\u001B[49m\u001B[43mobj\u001B[49m\u001B[43m)\u001B[49m\u001B[38;5;241m.\u001B[39mastype(\u001B[38;5;124m'\u001B[39m\u001B[38;5;124mint\u001B[39m\u001B[38;5;124m'\u001B[39m)\n\u001B[0;32m      3\u001B[0m         ring \u001B[38;5;241m=\u001B[39m obj_dilate \u001B[38;5;241m-\u001B[39m np\u001B[38;5;241m.\u001B[39marray(obj)\u001B[38;5;241m.\u001B[39mastype(\u001B[38;5;124m'\u001B[39m\u001B[38;5;124mint\u001B[39m\u001B[38;5;124m'\u001B[39m)\n\u001B[0;32m      5\u001B[0m         labeled_ring \u001B[38;5;241m=\u001B[39m derm \u001B[38;5;241m*\u001B[39m ring\n",
      "File \u001B[1;32mC:\\Users\\kyuha\\.conda\\envs\\wsi_analysis\\lib\\site-packages\\scipy\\ndimage\\_morphology.py:520\u001B[0m, in \u001B[0;36mbinary_dilation\u001B[1;34m(input, structure, iterations, mask, output, border_value, origin, brute_force)\u001B[0m\n\u001B[0;32m    517\u001B[0m     \u001B[38;5;28;01mif\u001B[39;00m \u001B[38;5;129;01mnot\u001B[39;00m structure\u001B[38;5;241m.\u001B[39mshape[ii] \u001B[38;5;241m&\u001B[39m \u001B[38;5;241m1\u001B[39m:\n\u001B[0;32m    518\u001B[0m         origin[ii] \u001B[38;5;241m-\u001B[39m\u001B[38;5;241m=\u001B[39m \u001B[38;5;241m1\u001B[39m\n\u001B[1;32m--> 520\u001B[0m \u001B[38;5;28;01mreturn\u001B[39;00m \u001B[43m_binary_erosion\u001B[49m\u001B[43m(\u001B[49m\u001B[38;5;28;43minput\u001B[39;49m\u001B[43m,\u001B[49m\u001B[43m \u001B[49m\u001B[43mstructure\u001B[49m\u001B[43m,\u001B[49m\u001B[43m \u001B[49m\u001B[43miterations\u001B[49m\u001B[43m,\u001B[49m\u001B[43m \u001B[49m\u001B[43mmask\u001B[49m\u001B[43m,\u001B[49m\n\u001B[0;32m    521\u001B[0m \u001B[43m                       \u001B[49m\u001B[43moutput\u001B[49m\u001B[43m,\u001B[49m\u001B[43m \u001B[49m\u001B[43mborder_value\u001B[49m\u001B[43m,\u001B[49m\u001B[43m \u001B[49m\u001B[43morigin\u001B[49m\u001B[43m,\u001B[49m\u001B[43m \u001B[49m\u001B[38;5;241;43m1\u001B[39;49m\u001B[43m,\u001B[49m\u001B[43m \u001B[49m\u001B[43mbrute_force\u001B[49m\u001B[43m)\u001B[49m\n",
      "File \u001B[1;32mC:\\Users\\kyuha\\.conda\\envs\\wsi_analysis\\lib\\site-packages\\scipy\\ndimage\\_morphology.py:254\u001B[0m, in \u001B[0;36m_binary_erosion\u001B[1;34m(input, structure, iterations, mask, output, border_value, origin, invert, brute_force)\u001B[0m\n\u001B[0;32m    252\u001B[0m     output \u001B[38;5;241m=\u001B[39m _ni_support\u001B[38;5;241m.\u001B[39m_get_output(output\u001B[38;5;241m.\u001B[39mdtype, \u001B[38;5;28minput\u001B[39m)\n\u001B[0;32m    253\u001B[0m \u001B[38;5;28;01mif\u001B[39;00m iterations \u001B[38;5;241m==\u001B[39m \u001B[38;5;241m1\u001B[39m:\n\u001B[1;32m--> 254\u001B[0m     \u001B[43m_nd_image\u001B[49m\u001B[38;5;241;43m.\u001B[39;49m\u001B[43mbinary_erosion\u001B[49m\u001B[43m(\u001B[49m\u001B[38;5;28;43minput\u001B[39;49m\u001B[43m,\u001B[49m\u001B[43m \u001B[49m\u001B[43mstructure\u001B[49m\u001B[43m,\u001B[49m\u001B[43m \u001B[49m\u001B[43mmask\u001B[49m\u001B[43m,\u001B[49m\u001B[43m \u001B[49m\u001B[43moutput\u001B[49m\u001B[43m,\u001B[49m\n\u001B[0;32m    255\u001B[0m \u001B[43m                             \u001B[49m\u001B[43mborder_value\u001B[49m\u001B[43m,\u001B[49m\u001B[43m \u001B[49m\u001B[43morigin\u001B[49m\u001B[43m,\u001B[49m\u001B[43m \u001B[49m\u001B[43minvert\u001B[49m\u001B[43m,\u001B[49m\u001B[43m \u001B[49m\u001B[43mcit\u001B[49m\u001B[43m,\u001B[49m\u001B[43m \u001B[49m\u001B[38;5;241;43m0\u001B[39;49m\u001B[43m)\u001B[49m\n\u001B[0;32m    256\u001B[0m \u001B[38;5;28;01melif\u001B[39;00m cit \u001B[38;5;129;01mand\u001B[39;00m \u001B[38;5;129;01mnot\u001B[39;00m brute_force:\n\u001B[0;32m    257\u001B[0m     changed, coordinate_list \u001B[38;5;241m=\u001B[39m _nd_image\u001B[38;5;241m.\u001B[39mbinary_erosion(\n\u001B[0;32m    258\u001B[0m         \u001B[38;5;28minput\u001B[39m, structure, mask, output,\n\u001B[0;32m    259\u001B[0m         border_value, origin, invert, cit, \u001B[38;5;241m1\u001B[39m)\n",
      "\u001B[1;31mKeyboardInterrupt\u001B[0m: "
     ]
    }
   ],
   "source": [
    "#3 should have nothing else in it,should be touching four\n",
    "#todo: take another look at this\n",
    "\n",
    "#1.31 TODO: need to remove id3 less than 120, replace with id10\n",
    "\n",
    " #takes tooo long\n",
    "derm3 = (derm == 3)\n",
    "thres = 120\n",
    "\n",
    "if not np.sum(derm3) == 0:\n",
    "    derm3 = ndimage.binary_fill_holes(derm3).astype(int)\n",
    "    derm3 = remove_small_objects(derm3,100)\n",
    "    #dilate derm3 to create a ring around derm3, check if the rings contain 4\n",
    "    #if not, remove everything in that ring\n",
    "\n",
    "    label_derm = label(derm3)\n",
    "\n",
    "\n",
    "    #this step eliminates any 3 not touching 4\n",
    "    # for i in np.unique(label_derm)[1:]: #0 is background\n",
    "    for i in range(1,np.max(label_derm)):\n",
    "\n",
    "        #if too small, replace with collagen\n",
    "        if(np.sum(label_derm == i) < thres):\n",
    "            start1 = time();\n",
    "            [x,y] = np.where(label_derm == i)\n",
    "            derm[x,y] = 10\n",
    "            print(i)\n",
    "            print('elapsed 1 {}'.format(time()-start1))\n",
    "\n",
    "        else:\n",
    "            start = time();\n",
    "            print(i)\n",
    "            ring =  ndimage.binary_dilation(label_derm == i).astype('bool')\n",
    "            print('elapsed {}'.format(time()-start))\n",
    "            ring = ring * derm\n",
    "            tmp = (ring) & (derm == 4) #check if 3 is touching 4\n",
    "            print('elapsed {}'.format(time()-start))\n",
    "\n",
    "            if np.sum(tmp) == 0:\n",
    "                #TODO: change pixel value to the majority of the ring\n",
    "                replace_dermis_pixel_with_ring(label_derm == i)\n",
    "            else:\n",
    "                [x,y] = np.where(label_derm == i)\n",
    "                derm[x,y] = 3\n",
    "            print('elapsed {}'.format(time()-start))\n",
    "\n",
    "\n",
    "\n"
   ],
   "metadata": {
    "collapsed": false
   }
  },
  {
   "cell_type": "code",
   "execution_count": 24,
   "outputs": [],
   "source": [
    "# pass in individual follicle object, not the entire mask\n",
    "def is_follicle(obj,id):\n",
    "    #too small\n",
    "    #not round\n",
    "    if(np.sum(obj.area) < thres_derm4_area):\n",
    "        return False\n",
    "\n",
    "    #if it's not too small,check shape\n",
    "    x,y,w,h = cv2.boundingRect(props[id].coords)\n",
    "    rect_area = w*h\n",
    "    extent = obj.area / rect_area\n",
    "    if(extent > round_threshold):\n",
    "        return False\n",
    "\n",
    "\n",
    "    return True"
   ],
   "metadata": {
    "collapsed": false
   }
  },
  {
   "cell_type": "code",
   "execution_count": 25,
   "outputs": [],
   "source": [
    "#4 should be big enough, should only have 3 and 6 inside\n",
    "#how big: above 2000px (above 20 cells)\n",
    "thres_derm4_area = 2000\n",
    "round_threshold = 0.9\n",
    "\n",
    "#smooth derm4\n",
    "derm4 = (derm == 4)\n",
    "derm4 = cv2.morphologyEx(derm4.astype(np.uint8), cv2.MORPH_OPEN, kernel, iterations=2)  # use the same kernel as collagen\n"
   ],
   "metadata": {
    "collapsed": false
   }
  },
  {
   "cell_type": "code",
   "execution_count": null,
   "outputs": [],
   "source": [
    "\n",
    "if not np.sum(derm4) == 0:\n",
    "    labels = label(derm4)\n",
    "    props = regionprops(labels)\n",
    "    # fill hair follicle to create query points\n",
    "    # query ogDLmask to see if non3|6 exists\n",
    "\n",
    "    for id, prop in enumerate(props): #id must +1\n",
    "        if not is_follicle(prop,id):\n",
    "            #replace using ring\n",
    "            prop_dilate = ndimage.binary_dilation(labels == (id+1)).astype('bool')\n",
    "            ring = prop_dilate ^ (labels == (id+1))\n",
    "            labeled_ring = ring * derm\n",
    "            count = np.bincount(np.ndarray.flatten(labeled_ring))\n",
    "            replace_val = np.argmax(count[:])  # could replace with zero??\n",
    "            [x,y] = np.where(labels == (id+1)) #error\n",
    "            derm[x,y] = replace_val\n",
    "\n",
    "        else: #check if 4 only has 3 and 6 inside\n",
    "            filled_prob = ndimage.binary_fill_holes(labels == (id+1)).astype(int)\n",
    "            valuesinhair = derm * filled_prob\n",
    "\n",
    "            thingstoremove = (valuesinhair!=3) | (valuesinhair!=6) | (valuesinhair!=4)\n",
    "\n",
    "            if(np.sum(thingstoremove.astype('int')) != 0): #TODO: fix!!!!!!this doesn't work\n",
    "                replace_dermis_pixel_with_ring(thingstoremove)"
   ],
   "metadata": {
    "collapsed": false,
    "pycharm": {
     "is_executing": true
    }
   }
  },
  {
   "cell_type": "code",
   "execution_count": null,
   "outputs": [],
   "source": [
    "#write a logic that determines if an object is follicle\n",
    "#logic includes (size, shape)\n",
    "# first determine the minimum size of hair follicle\n",
    "#shape can be measured using scikit.measure.regionprops or cv2 contour properties\n",
    "# https://scikit-image.org/docs/stable/api/skimage.measure.html#skimage.measure.regionprops\n",
    "# https://docs.opencv.org/4.x/d1/d32/tutorial_py_contour_properties.html\n",
    "#write function that replace a selected object with adjacent pixels"
   ],
   "metadata": {
    "collapsed": false,
    "pycharm": {
     "is_executing": true
    }
   }
  },
  {
   "cell_type": "code",
   "execution_count": null,
   "outputs": [],
   "source": [
    "#5 should not have anything inside it, 5 should only touch 12 , 10\n",
    "thres_derm5_area = 2000\n",
    "derm5 = (derm == 5)\n",
    "\n",
    "derm5 = ndimage.binary_fill_holes(derm5).astype(int) #fill 5, don't forget to update derm\n",
    "\n",
    "labels = label(derm5)\n",
    "props = regionprops(labels)\n",
    "\n",
    "#update derm with filled derm5\n",
    "[x,y] = np.where(derm5)\n",
    "derm[x,y] = 5"
   ],
   "metadata": {
    "collapsed": false,
    "pycharm": {
     "is_executing": true
    }
   }
  },
  {
   "cell_type": "code",
   "execution_count": null,
   "outputs": [],
   "source": [
    "\n",
    "for id, prop in enumerate(props): #id must +1\n",
    "    if prop.area < thres_derm5_area:\n",
    "        #replace using ring\n",
    "        replace_dermis_pixel_with_ring(labels == (id+1))\n",
    "\n",
    "\n",
    "\n",
    "    else: # 5 must not have anything inside, 5 should only touch 12 (which is 0) ,10\n",
    "        #TODO: how to replace entire tissue section around 5 ?\n",
    "        prop_dilate = ndimage.binary_dilation(labels == (id+1)).astype('bool')\n",
    "        ring = prop_dilate ^ (labels == (id+1))\n",
    "        labeled_ring = ring * derm\n",
    "\n",
    "\n",
    "        replace_dict = {8:5, 11:0, 9:10} #replace pixel 8 with 5, ...\n",
    "\n",
    "         #change 8 to 5, 11 to 0 (12), and 9 to 10\n",
    "        for key in replace_dict:\n",
    "            label_key = label(derm == key)\n",
    "            [xk,yk] = np.where(labeled_ring == key)\n",
    "            if not (len(xk) == 0): #i.e. if xk is not empty list\n",
    "                [x,y] = [xk[0],yk[0]]\n",
    "                to_change_lb = label_key[x,y]\n",
    "                to_change_area = (label_key==to_change_lb)\n",
    "                [cx,cy] = np.where(to_change_area)\n",
    "                derm[cx,cy] = replace_dict[key]"
   ],
   "metadata": {
    "collapsed": false,
    "pycharm": {
     "is_executing": true
    }
   }
  },
  {
   "cell_type": "code",
   "execution_count": null,
   "outputs": [],
   "source": [
    "#6 oilgland, 7 sweatgland, 8 nerve, 9 bloodvessel should not contain  any other class within it\n",
    "to_fill_id = [6,7,8,9]\n",
    "for id in to_fill_id:\n",
    "    if(np.sum(derm==id) != 0):\n",
    "        tmp_derm =  ndimage.binary_fill_holes((derm == id)).astype(int)\n",
    "        [x,y] = np.where(tmp_derm)\n",
    "        derm[x,y] = id"
   ],
   "metadata": {
    "collapsed": false,
    "pycharm": {
     "is_executing": true
    }
   }
  },
  {
   "cell_type": "code",
   "execution_count": null,
   "outputs": [],
   "source": [
    "[x,y] = np.where(derm==0)\n",
    "derm[x,y] = 12 #12 is white\n",
    "\n",
    "[x,y] = np.where(epi == 0)\n",
    "epi[x,y] = 12 #12 is white"
   ],
   "metadata": {
    "collapsed": false,
    "pycharm": {
     "is_executing": true
    }
   }
  },
  {
   "cell_type": "code",
   "execution_count": null,
   "outputs": [],
   "source": [
    "#put dermis on top of epi\n",
    "final_img = deepcopy(epi)\n",
    "\n",
    "#3-12\n",
    "for i in range(3,12):\n",
    "    [x,y] = np.where(derm == i)\n",
    "    final_img[x,y] = i"
   ],
   "metadata": {
    "collapsed": false,
    "pycharm": {
     "is_executing": true
    }
   }
  },
  {
   "cell_type": "code",
   "execution_count": null,
   "outputs": [],
   "source": [
    "#Image.fromarray(final_img).save(\"corrected \"+ img_name)"
   ],
   "metadata": {
    "collapsed": false,
    "pycharm": {
     "is_executing": true
    }
   }
  },
  {
   "cell_type": "code",
   "execution_count": null,
   "outputs": [],
   "source": [
    "#end goal after processing:\n",
    "#1.only 1&2 above epidermis-dermis junction\n",
    "#2. no 1&2 below epidermis-dermis junction\n",
    "#3. 3 should have nothing else in it,should be touching 4\n",
    "#4. 4 should be big enough, should only have 3 and 6 inside\n",
    "#5. 5 should not have anything inside it, 5 should only touch 12 , 10"
   ],
   "metadata": {
    "collapsed": false,
    "pycharm": {
     "is_executing": true
    }
   }
  },
  {
   "cell_type": "code",
   "execution_count": null,
   "outputs": [],
   "source": [
    "#problems:\n",
    "#1.because the junction is a bit short, there are still other ids above the junction (like off on the side)"
   ],
   "metadata": {
    "collapsed": false,
    "pycharm": {
     "is_executing": true
    }
   }
  },
  {
   "cell_type": "code",
   "execution_count": null,
   "outputs": [],
   "source": [
    "figure_size = plt.gcf().get_size_inches()\n",
    "factor = 2\n",
    "plt.gcf().set_size_inches(factor * figure_size)\n",
    "\n",
    "plt.imshow(final_img)"
   ],
   "metadata": {
    "collapsed": false,
    "pycharm": {
     "is_executing": true
    }
   }
  },
  {
   "cell_type": "code",
   "execution_count": null,
   "outputs": [],
   "source": [
    "#back from break TODO:\n",
    "#still something wrong with id4\n",
    "#some parts of id4 are misclassified as id2\n",
    "#double check epidermis-dermis junction and how to classify id3 and id4 (or change id1 and id2 into those)\n",
    "#double check other classes as well"
   ],
   "metadata": {
    "collapsed": false,
    "pycharm": {
     "is_executing": true
    }
   }
  },
  {
   "cell_type": "code",
   "execution_count": null,
   "outputs": [],
   "source": [],
   "metadata": {
    "collapsed": false
   }
  },
  {
   "cell_type": "code",
   "execution_count": 353,
   "outputs": [],
   "source": [],
   "metadata": {
    "collapsed": false
   }
  },
  {
   "cell_type": "code",
   "execution_count": null,
   "outputs": [],
   "source": [],
   "metadata": {
    "collapsed": false
   }
  }
 ],
 "metadata": {
  "kernelspec": {
   "display_name": "Python 3",
   "language": "python",
   "name": "python3"
  },
  "language_info": {
   "codemirror_mode": {
    "name": "ipython",
    "version": 2
   },
   "file_extension": ".py",
   "mimetype": "text/x-python",
   "name": "python",
   "nbconvert_exporter": "python",
   "pygments_lexer": "ipython2",
   "version": "2.7.6"
  }
 },
 "nbformat": 4,
 "nbformat_minor": 0
}
