{
 "cells": [
  {
   "cell_type": "code",
   "execution_count": 1,
   "outputs": [],
   "source": [
    "import pandas as pd\n",
    "from PIL import Image\n",
    "Image.MAX_IMAGE_PIXELS=None\n",
    "import numpy as np\n",
    "from skimage.morphology import closing, square, remove_small_objects, remove_small_holes\n",
    "import os\n",
    "import cv2\n",
    "from matplotlib import pyplot as plt\n",
    "from copy import deepcopy"
   ],
   "metadata": {
    "collapsed": false
   }
  },
  {
   "cell_type": "code",
   "execution_count": 2,
   "outputs": [],
   "source": [
    "#use collagen to define dermis\n",
    "# 1. extract collagen(class=10) from DLmask\n",
    "# 2. remove small object and fill holes in collagen to make it a single connected body\n",
    "# 3. find epidermal-dermis junction using maximum of the binary in y-axis\n",
    "# 4. remove any pixels that are not epidermis above the epidermal-dermis junction\n",
    "# 5. iterate each class to replace any potentially wrong pixel to correct class\n",
    "    #hair foliical:adj pixel look at window"
   ],
   "metadata": {
    "collapsed": false
   }
  },
  {
   "cell_type": "code",
   "execution_count": 7,
   "outputs": [],
   "source": [
    "#read deeplab crop\n",
    "dlcropsrc = r'\\\\fatherserverdw\\kyuex\\analysis output\\datadst\\20220929\\dlcrop'"
   ],
   "metadata": {
    "collapsed": false
   }
  },
  {
   "cell_type": "code",
   "execution_count": 8,
   "outputs": [],
   "source": [
    "#1. remove small object and fill holes in collagen to make it a single connected body\n",
    "dl = Image.open(os.path.join(dlcropsrc, \"2022-06-07 14.34.59sec1.png\"))"
   ],
   "metadata": {
    "collapsed": false
   }
  },
  {
   "cell_type": "code",
   "execution_count": 9,
   "outputs": [],
   "source": [
    "\n",
    "dl_arr = np.array(dl)\n",
    "col = (dl_arr == 10) #collagen"
   ],
   "metadata": {
    "collapsed": false
   }
  },
  {
   "cell_type": "code",
   "execution_count": 10,
   "outputs": [],
   "source": [
    "#2.remove small object and fill holes in collagen to make it a single connected body\n",
    "\n",
    "minTA = 60000\n",
    "minTAhole = 10000 #is this too much?\n",
    "\n",
    "#resize to expedite\n",
    "(width, height) = (dl.width // 10, dl.height // 10)\n",
    "collagen = Image.fromarray(col).resize((width, height), resample=0)\n",
    "\n",
    "collagen= closing(collagen, square(3))  # 13sec\n",
    "collagen= remove_small_objects(collagen, min_size=minTA, connectivity=2)  # 6sec\n",
    "collagen = remove_small_holes(collagen , area_threshold=minTAhole).astype(np.uint8)\n",
    "\n",
    "kernel = np.ones((3, 3), np.uint8)\n",
    "opening = cv2.morphologyEx(collagen .astype(np.uint8), cv2.MORPH_OPEN, kernel, iterations=2)  # 2sec\n",
    "collagen = cv2.dilate(opening, kernel, iterations=3)\n",
    "\n",
    "#resize back\n",
    "collagen = Image.fromarray(collagen).resize((dl.width, dl.height),resample=0)\n",
    "collagen_arr = np.array(collagen)"
   ],
   "metadata": {
    "collapsed": false
   }
  },
  {
   "cell_type": "code",
   "execution_count": 37,
   "outputs": [],
   "source": [
    "#3. find epidermal-dermis junction\n",
    "[xt,yt] = np.where(collagen_arr)\n"
   ],
   "metadata": {
    "collapsed": false
   }
  },
  {
   "cell_type": "code",
   "execution_count": 40,
   "outputs": [],
   "source": [
    "#we actually want to find the minimum x-coordinate (because this image is weirdly oriented)\n",
    "unique_y = np.unique(yt)\n"
   ],
   "metadata": {
    "collapsed": false
   }
  },
  {
   "cell_type": "code",
   "execution_count": 41,
   "outputs": [],
   "source": [
    "\n",
    "min_x = [np.amin(np.where(collagen_arr[:,y])) for y in unique_y]"
   ],
   "metadata": {
    "collapsed": false
   }
  },
  {
   "cell_type": "code",
   "execution_count": 57,
   "outputs": [],
   "source": [
    "thresh = 800 #i'm not sure that this will work with every image. TODO: change"
   ],
   "metadata": {
    "collapsed": false
   }
  },
  {
   "cell_type": "code",
   "execution_count": 58,
   "outputs": [],
   "source": [
    "hist, bins = np.histogram(min_x)"
   ],
   "metadata": {
    "collapsed": false
   }
  },
  {
   "cell_type": "code",
   "execution_count": 99,
   "outputs": [],
   "source": [
    "#get the value range to remove (note: this doesnt contain last element in bins\n",
    "remove_bins = [b for h,b in zip(hist,bins) if h < thresh ]"
   ],
   "metadata": {
    "collapsed": false
   }
  },
  {
   "cell_type": "code",
   "execution_count": 100,
   "outputs": [],
   "source": [
    "#new junction, remove parts with low frequency in histogram,use remove_bins[0] because it represents where the junction begins to drop\n",
    "#TODO: need to change this to be more robust, what if the junction drops in the middle,\n",
    "new_junction_x  = [x for x in min_x if x < np.round(remove_bins[0].astype(\"uint32\"))]\n",
    "new_junction_y = list(range(len(new_junction_x)))"
   ],
   "metadata": {
    "collapsed": false
   }
  },
  {
   "cell_type": "code",
   "execution_count": 180,
   "outputs": [],
   "source": [
    "epi = deepcopy(dl_arr)"
   ],
   "metadata": {
    "collapsed": false
   }
  },
  {
   "cell_type": "code",
   "execution_count": 184,
   "outputs": [
    {
     "data": {
      "text/plain": "<matplotlib.image.AxesImage at 0x17627290340>"
     },
     "execution_count": 184,
     "metadata": {},
     "output_type": "execute_result"
    },
    {
     "data": {
      "text/plain": "<Figure size 432x288 with 1 Axes>",
      "image/png": "[encoded data removed]"
     },
     "metadata": {
      "needs_background": "light"
     },
     "output_type": "display_data"
    }
   ],
   "source": [
    "\n",
    "#epi should only have class 1 and 2\n",
    "for x,y in zip( new_junction_x,new_junction_y):\n",
    "    epi[x:, y] = 0\n",
    "\n",
    "epi[collagen == 1] = 0\n",
    "epi[:,max(new_junction_y):] = 0\n",
    "plt.imshow(epi)"
   ],
   "metadata": {
    "collapsed": false
   }
  },
  {
   "cell_type": "code",
   "execution_count": 185,
   "outputs": [],
   "source": [
    "#?????\n",
    "epi[epi == 0] = 12"
   ],
   "metadata": {
    "collapsed": false
   }
  },
  {
   "cell_type": "code",
   "execution_count": null,
   "outputs": [],
   "source": [
    "#question: what is class 12?? background"
   ],
   "metadata": {
    "collapsed": false
   }
  },
  {
   "cell_type": "code",
   "execution_count": 186,
   "outputs": [],
   "source": [
    "#iterate through epi and replace value with 1 or 2, ignore 0\n",
    "window_size = 3\n",
    "\n",
    "for x in range(max(new_junction_x)):\n",
    "    for y in range(max(new_junction_y)):\n",
    "        if not (epi[x,y] == 0 or epi[x,y] == 1 or epi[x,y] == 2 or epi[x,y] == 12):\n",
    "\n",
    "            #replace pixel value with 1 or 2\n",
    "            window_shape = [(x -  window_size) if (x -  window_size) >=0 else 0,\n",
    "                      (x + window_size) , y +  window_size,(y -  window_size) if (y - window_size) >=0 else 0] #L,R,T,B\n",
    "\n",
    "            window = epi[window_shape[0]:window_shape[1], window_shape[3]:window_shape[2]]\n",
    "            #check pixel values in window\n",
    "            count1 = np.sum([window == 1])\n",
    "            count2 = np.sum([window == 2])\n",
    "\n",
    "\n",
    "            if(count1 > count2):\n",
    "                epi[x,y] = 1\n",
    "            elif (count1 < count2):\n",
    "                epi[x,y] = 2\n",
    "            else:\n",
    "                 epi[x,y] = 0\n",
    "\n"
   ],
   "metadata": {
    "collapsed": false
   }
  },
  {
   "cell_type": "code",
   "execution_count": 187,
   "outputs": [
    {
     "data": {
      "text/plain": "<matplotlib.image.AxesImage at 0x17626fed460>"
     },
     "execution_count": 187,
     "metadata": {},
     "output_type": "execute_result"
    },
    {
     "data": {
      "text/plain": "<Figure size 432x288 with 1 Axes>",
      "image/png": "[encoded data removed]"
     },
     "metadata": {
      "needs_background": "light"
     },
     "output_type": "display_data"
    }
   ],
   "source": [
    "plt.imshow(epi)"
   ],
   "metadata": {
    "collapsed": false
   }
  },
  {
   "cell_type": "code",
   "execution_count": 188,
   "outputs": [
    {
     "data": {
      "text/plain": "array([ 1,  2, 12])"
     },
     "execution_count": 188,
     "metadata": {},
     "output_type": "execute_result"
    }
   ],
   "source": [
    "np.unique(epi)"
   ],
   "metadata": {
    "collapsed": false
   }
  },
  {
   "cell_type": "code",
   "execution_count": 507,
   "outputs": [],
   "source": [
    "#generate new classification map\n",
    "new_dl = np.zeros((dl.height,  dl.width))"
   ],
   "metadata": {
    "collapsed": false
   }
  },
  {
   "cell_type": "code",
   "execution_count": null,
   "outputs": [],
   "source": [
    "# 5. iterate each class to replace any potentially wrong pixel to correct class"
   ],
   "metadata": {
    "collapsed": false
   }
  }
 ],
 "metadata": {
  "kernelspec": {
   "display_name": "Python 3",
   "language": "python",
   "name": "python3"
  },
  "language_info": {
   "codemirror_mode": {
    "name": "ipython",
    "version": 2
   },
   "file_extension": ".py",
   "mimetype": "text/x-python",
   "name": "python",
   "nbconvert_exporter": "python",
   "pygments_lexer": "ipython2",
   "version": "2.7.6"
  }
 },
 "nbformat": 4,
 "nbformat_minor": 0
}
