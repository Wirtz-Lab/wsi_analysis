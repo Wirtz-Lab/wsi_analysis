{
 "cells": [
  {
   "cell_type": "code",
   "execution_count": 361,
   "outputs": [],
   "source": [
    "import math\n",
    "\n",
    "import pandas as pd\n",
    "from PIL import Image\n",
    "Image.MAX_IMAGE_PIXELS=None\n",
    "import numpy as np\n",
    "from skimage.morphology import closing, square, remove_small_objects, remove_small_holes\n",
    "import os\n",
    "import cv2\n",
    "from matplotlib import pyplot as plt\n",
    "from copy import deepcopy\n",
    "\n",
    "from scipy import ndimage\n",
    "from skimage.measure import label, regionprops, regionprops_table\n",
    "import scipy"
   ],
   "metadata": {
    "collapsed": false
   }
  },
  {
   "cell_type": "code",
   "execution_count": 363,
   "outputs": [],
   "source": [
    "\n",
    "def replace_dermis_pixel_with_ring(obj): #obj is a boolean object\n",
    "        obj_dilate = ndimage.binary_dilation(obj).astype('int')\n",
    "        ring = obj_dilate - np.array(obj).astype('int')\n",
    "\n",
    "        labeled_ring = derm * ring\n",
    "        if not (np.sum(labeled_ring) == 0):\n",
    "            count = np.bincount(np.ndarray.flatten(labeled_ring))\n",
    "            replace_val = np.argmax(count[1:] ) + 1\n",
    "            [x,y] = np.where(obj)\n",
    "            derm[x,y] = replace_val\n",
    "\n"
   ],
   "metadata": {
    "collapsed": false
   }
  },
  {
   "cell_type": "code",
   "execution_count": 364,
   "outputs": [],
   "source": [
    "#use collagen to define dermis\n",
    "# 1. extract collagen(class=10) from DLmask\n",
    "# 2. remove small object and fill holes in collagen to make it a single connected body\n",
    "# 3. find epidermal-dermis junction using maximum of the binary in y-axis\n",
    "# 4. remove any pixels that are not epidermis above the epidermal-dermis junction\n",
    "# 5. iterate each class to replace any potentially wrong pixel to correct class\n",
    "    #hair foliical: adj pixel look at window"
   ],
   "metadata": {
    "collapsed": false
   }
  },
  {
   "cell_type": "code",
   "execution_count": 365,
   "outputs": [],
   "source": [
    "#read deeplab crop\n",
    "dlcropsrc = r'\\\\fatherserverdw\\kyuex\\analysis output\\datadst\\20220929\\dlcrop'"
   ],
   "metadata": {
    "collapsed": false
   }
  },
  {
   "cell_type": "code",
   "execution_count": 366,
   "outputs": [],
   "source": [
    "img_name = '2022-06-07 14.37.19sec1.png'\n",
    "#\"2022-06-07 14.34.59sec1.png\""
   ],
   "metadata": {
    "collapsed": false
   }
  },
  {
   "cell_type": "code",
   "execution_count": 367,
   "outputs": [],
   "source": [
    "#1. remove small object and fill holes in collagen to make it a single connected body\n",
    "#10x\n",
    "dl = Image.open(os.path.join(dlcropsrc, img_name))"
   ],
   "metadata": {
    "collapsed": false
   }
  },
  {
   "cell_type": "code",
   "execution_count": 368,
   "outputs": [],
   "source": [
    "\n",
    "dl_arr = np.array(dl)\n",
    "dl_arr[dl_arr == 12] = 0\n",
    "col = (dl_arr == 10) #collagen"
   ],
   "metadata": {
    "collapsed": false
   }
  },
  {
   "cell_type": "code",
   "execution_count": 369,
   "outputs": [],
   "source": [
    "#2.remove small object and fill holes in collagen to make it a single connected body\n",
    "\n",
    "minTA = 60000\n",
    "minTAhole = 10000 #is this too much?\n",
    "\n",
    "#resize to expedite\n",
    "(width, height) = (dl.width // 10, dl.height // 10)\n",
    "collagen = Image.fromarray(col).resize((width, height), resample=0)\n",
    "\n",
    "collagen= closing(collagen, square(3))  # 13sec\n",
    "collagen= remove_small_objects(collagen, min_size=minTA, connectivity=2)  # 6sec\n",
    "collagen = remove_small_holes(collagen , area_threshold=minTAhole).astype(np.uint8)\n",
    "\n",
    "kernel = np.ones((3, 3), np.uint8)\n",
    "opening = cv2.morphologyEx(collagen .astype(np.uint8), cv2.MORPH_OPEN, kernel, iterations=2)  # 2sec\n",
    "collagen = cv2.dilate(opening, kernel, iterations=3)\n",
    "collagen = cv2.dilate(opening, kernel, iterations=3)\n",
    "\n",
    "#resize back\n",
    "collagen = Image.fromarray(collagen).resize((dl.width, dl.height),resample=0)\n",
    "collagen_arr = np.array(collagen)"
   ],
   "metadata": {
    "collapsed": false
   }
  },
  {
   "cell_type": "code",
   "execution_count": 370,
   "outputs": [],
   "source": [
    "#3. find epidermal-dermis junction\n",
    "[xt,yt] = np.where(collagen_arr)\n",
    "\n",
    "#we actually want to find the minimum x-coordinate (because this image is weirdly oriented)\n",
    "unique_y = np.unique(yt)\n",
    "min_x = [np.amin(np.where(collagen_arr[:,y])) for y in unique_y]\n",
    "thresh = 800 #i'm not sure that this will work with every image. TODO: change\n",
    "hist, bins = np.histogram(min_x)\n",
    "#get the value range to remove (note: this doesnt contain last element in bins\n",
    "remove_bins = [b for h,b in zip(hist,bins) if h < thresh ]\n",
    "\n",
    "#new junction, remove parts with low frequency in histogram,use remove_bins[0] because it represents where the junction begins to drop\n",
    "#TODO: need to change this to be more robust, what if the junction drops in the middle,\n",
    "new_junction_x  = [x for x in min_x if x < np.round(remove_bins[0].astype(\"uint32\"))]\n",
    "new_junction_y = list(range(len(new_junction_x)))"
   ],
   "metadata": {
    "collapsed": false
   }
  },
  {
   "cell_type": "code",
   "execution_count": 393,
   "outputs": [],
   "source": [
    "#2: correct anything that is miss classified in epi\n",
    "#get new contour\n",
    "import cv2\n",
    "\n",
    "collagen_tmp = deepcopy(collagen_arr)\n",
    "junction_offset = 750\n",
    "\n",
    "for x,y in zip( new_junction_x, new_junction_y):\n",
    "    collagen_tmp[np.max(new_junction_x) + junction_offset:, y] = 0\n",
    "\n",
    "collagen_tmp[:, np.max(new_junction_y):] = 0\n",
    "\n",
    "max_cx = max(new_junction_x)\n",
    "max_cy = max(new_junction_y)\n",
    "\n",
    "collagen_tmp = ndimage.binary_fill_holes(collagen_tmp).astype(collagen_tmp.dtype)\n",
    "\n",
    "contours, hierarchy = cv2.findContours(collagen_tmp, cv2.RETR_TREE, cv2.CHAIN_APPROX_SIMPLE)"
   ],
   "metadata": {
    "collapsed": false
   }
  },
  {
   "cell_type": "code",
   "execution_count": 395,
   "outputs": [
    {
     "data": {
      "text/plain": "array([[0., 0., 0., ..., 0., 0., 0.],\n       [0., 0., 0., ..., 0., 0., 0.],\n       [0., 0., 0., ..., 0., 0., 0.],\n       ...,\n       [0., 0., 0., ..., 0., 0., 0.],\n       [0., 0., 0., ..., 0., 0., 0.],\n       [0., 0., 0., ..., 0., 0., 0.]])"
     },
     "execution_count": 395,
     "metadata": {},
     "output_type": "execute_result"
    }
   ],
   "source": [
    "\n",
    "img = np.zeros((9746, 11162))\n",
    "cv2.drawContours(img, contours, -1, (255,0,0), 1) #100"
   ],
   "metadata": {
    "collapsed": false
   }
  },
  {
   "cell_type": "code",
   "execution_count": 397,
   "outputs": [],
   "source": [
    "\n",
    "#(x1,y1) = (contours[0][0][0][0], contours[0][0][0][1])\n",
    "#(x2,y2) = (contours[0][-1][0][0], contours[0][-1][0][1])\n",
    "#cv2.line(img,(x1,y1),(x2,y2),(255,0,0), 1)\n",
    "cv2.fillPoly(img,contours,(255,0,0))\n",
    "junction_mask = np.array(img)"
   ],
   "metadata": {
    "collapsed": false
   }
  },
  {
   "cell_type": "code",
   "execution_count": 401,
   "outputs": [],
   "source": [
    "\n",
    "img1= img.astype(bool)\n",
    "img1[max_cx + 1:, :] = 0\n",
    "[cx,cy] = np.where(img1)\n"
   ],
   "metadata": {
    "collapsed": false
   }
  },
  {
   "cell_type": "code",
   "execution_count": 403,
   "outputs": [],
   "source": [
    " # epidermis-dermisjunction is not accurate, extend the junction by 750 pix\n",
    "#epi = deepcopy(dl_arr)\n",
    "#for x,y in zip(cx,cy):\n",
    "    #epi[x + junction_offset:, y] = 0\n",
    "\n",
    "#epi[:,np.max(y)+1:] = 0\n",
    "\n",
    "epi = deepcopy(dl_arr)\n",
    "epi[:,np.max(y)+1:] = 0\n",
    "epi[np.max(x)+1:,:] = 0\n",
    "[x,y] = np.where(junction_mask)\n",
    "epi[x+junction_offset,y] = 0"
   ],
   "metadata": {
    "collapsed": false
   }
  },
  {
   "cell_type": "code",
   "execution_count": 404,
   "outputs": [],
   "source": [
    "#iterate through epi and replace value with 1 or 2, ignore 0 and 12\n",
    "window_size = 20\n",
    "\n",
    "for x in range(np.max(cx)):\n",
    "    for y in range(np.max(cy)):\n",
    "        if not (epi[x,y] == 0 or epi[x,y] == 1 or epi[x,y] == 2 or epi[x,y] == 12 or epi[x,y] == 10 ): #it can have some 10 collagen in junction??????\n",
    "\n",
    "            #question: is it better to do a window search or dilate and use the ring to calculate\n",
    "            #replace pixel value with 1 or 2\n",
    "            window_shape = [(x -  window_size) if (x -  window_size) >= 0 else 0,\n",
    "                      (x + window_size) , y +  window_size,(y -  window_size) if (y - window_size) >=0 else 0] #L,R,T,B\n",
    "\n",
    "            window = epi[window_shape[0]:window_shape[1], window_shape[3]:window_shape[2]]\n",
    "            #check pixel values in window\n",
    "            count1 = np.sum([window == 1])\n",
    "            count2 = np.sum([window == 2])\n",
    "\n",
    "            if(count1 >= count2):\n",
    "                epi[x,y] = 1\n",
    "            elif (count1 < count2):\n",
    "                epi[x,y] = 2\n",
    "\n",
    "\n",
    "\n"
   ],
   "metadata": {
    "collapsed": false
   }
  },
  {
   "cell_type": "code",
   "execution_count": 405,
   "outputs": [],
   "source": [
    "#initialize new_dl_arr and make changes to it, do not modify dl_arr\n",
    "new_dl_arr = deepcopy(dl_arr)"
   ],
   "metadata": {
    "collapsed": false
   }
  },
  {
   "cell_type": "code",
   "execution_count": 406,
   "outputs": [],
   "source": [
    "#change new_dl_arr based on new epi\n",
    "[xt,yt] = np.where(epi ==1)\n",
    "new_dl_arr[xt,yt] = 1\n",
    "\n",
    "[xt,yt] = np.where(epi ==2)\n",
    "new_dl_arr[xt,yt] = 2\n"
   ],
   "metadata": {
    "collapsed": false
   }
  },
  {
   "cell_type": "code",
   "execution_count": 407,
   "outputs": [],
   "source": [
    "#initialize mask for dermis\n",
    "derm= deepcopy(new_dl_arr)"
   ],
   "metadata": {
    "collapsed": false
   }
  },
  {
   "cell_type": "code",
   "execution_count": 408,
   "outputs": [],
   "source": [
    "[x,y] = np.where(epi)\n",
    "derm[x,y] = 0"
   ],
   "metadata": {
    "collapsed": false
   }
  },
  {
   "cell_type": "code",
   "execution_count": 409,
   "outputs": [],
   "source": [
    "#seperate out dermis based on epidermis and dermis junction\n",
    "#for x,y in zip(cx,cy):\n",
    "    #derm[0:x + junction_offset, y] = 0 #add 7000 because some parts below the junction is actually still epidermis\n",
    "    #TODO: do we need to readdress the epidermis as well?"
   ],
   "metadata": {
    "collapsed": false
   }
  },
  {
   "cell_type": "code",
   "execution_count": 410,
   "outputs": [],
   "source": [
    "#used for comparison, DO NOT MODIFY derm_original\n",
    "derm_original = deepcopy(derm)"
   ],
   "metadata": {
    "collapsed": false
   }
  },
  {
   "cell_type": "code",
   "execution_count": 413,
   "outputs": [],
   "source": [
    "#replace any 1, 2 in dermis\n",
    "derm1 = (derm == 1)  #replace by 3\n",
    "derm2 = (derm == 2)  #replace by 4"
   ],
   "metadata": {
    "collapsed": false
   }
  },
  {
   "cell_type": "code",
   "execution_count": 414,
   "outputs": [],
   "source": [
    "if(np.sum(derm1) !=0):\n",
    "    #replace with 3\n",
    "    [x,y] = np.where(derm1)\n",
    "    derm[x,y] = 3\n",
    "\n",
    "if(np.sum(derm2) !=0):\n",
    "    #replace with 4\n",
    "    [x,y] = np.where(derm2)\n",
    "    derm[x,y] = 4"
   ],
   "metadata": {
    "collapsed": false
   }
  },
  {
   "cell_type": "code",
   "execution_count": 415,
   "outputs": [],
   "source": [
    "#3 should have nothing else in it,should be touching four\n",
    "#todo: take another look at this\n",
    "derm3 = (derm == 3)\n",
    "\n",
    "if not np.sum(derm3) == 0:\n",
    "    derm3 = ndimage.binary_fill_holes(derm3).astype(int)\n",
    "\n",
    "    #dilate derm3 to create a ring around derm3, check if the rings contain 4\n",
    "    #if not, remove everything in that ring\n",
    "\n",
    "    label_derm = label(derm3)\n",
    "\n",
    "\n",
    "    #this step eliminates any 3 not touching 4\n",
    "    for i in np.unique(label_derm)[1:]: #0 is background\n",
    "        ring =  ndimage.binary_dilation(label_derm == i).astype('bool')\n",
    "        ring = ring * derm\n",
    "\n",
    "        tmp = (ring) & (derm == 4) #check if 3 is touching 4\n",
    "\n",
    "        if np.sum(tmp) == 0:\n",
    "            #TODO: change pixel value to the majority of the ring\n",
    "            replace_dermis_pixel_with_ring(label_derm == i)\n",
    "\n",
    "        else:\n",
    "            [x,y] = np.where(label_derm == i)\n",
    "            derm[x,y] = 3\n",
    "\n",
    "\n"
   ],
   "metadata": {
    "collapsed": false
   }
  },
  {
   "cell_type": "code",
   "execution_count": 416,
   "outputs": [],
   "source": [
    "# pass in individual follicle object, not the entire mask\n",
    "def is_follicle(obj,id):\n",
    "    #too small\n",
    "    #not round\n",
    "    if(np.sum(obj.area) < thres_derm4_area):\n",
    "        return False\n",
    "\n",
    "    #if it's not too small,check shape\n",
    "    x,y,w,h = cv2.boundingRect(props[id].coords)\n",
    "    rect_area = w*h\n",
    "    extent = obj.area / rect_area\n",
    "    if(extent > round_threshold):\n",
    "        return False\n",
    "\n",
    "\n",
    "    return True"
   ],
   "metadata": {
    "collapsed": false
   }
  },
  {
   "cell_type": "code",
   "execution_count": 417,
   "outputs": [],
   "source": [
    "#4 should be big enough, should only have 3 and 6 inside\n",
    "#how big: above 2000px (above 20 cells)\n",
    "thres_derm4_area = 2000\n",
    "round_threshold = 0.9\n",
    "\n",
    "#smooth derm4\n",
    "derm4 = (derm == 4)\n",
    "derm4 = cv2.morphologyEx(derm4.astype(np.uint8), cv2.MORPH_OPEN, kernel, iterations=2)  # use the same kernel as collagen\n"
   ],
   "metadata": {
    "collapsed": false
   }
  },
  {
   "cell_type": "code",
   "execution_count": 418,
   "outputs": [],
   "source": [
    "\n",
    "if not np.sum(derm4) == 0:\n",
    "    labels = label(derm4)\n",
    "    props = regionprops(labels)\n",
    "    # fill hair follicle to create query points\n",
    "    # query ogDLmask to see if non3|6 exists\n",
    "\n",
    "    for id, prop in enumerate(props): #id must +1\n",
    "        if not is_follicle(prop,id):\n",
    "            #replace using ring\n",
    "            prop_dilate = ndimage.binary_dilation(labels == (id+1)).astype('bool')\n",
    "            ring = prop_dilate ^ (labels == (id+1))\n",
    "            labeled_ring = ring * derm\n",
    "            count = np.bincount(np.ndarray.flatten(labeled_ring))\n",
    "            replace_val = np.argmax(count[:])  # could replace with zero??\n",
    "            [x,y] = np.where(labels == (id+1)) #error\n",
    "            derm[x,y] = replace_val\n",
    "\n",
    "        else: #check if 4 only has 3 and 6 inside\n",
    "            filled_prob = ndimage.binary_fill_holes(labels == (id+1)).astype(int)\n",
    "            valuesinhair = derm * filled_prob\n",
    "\n",
    "            thingstoremove = (valuesinhair!=3) | (valuesinhair!=6) | (valuesinhair!=4)\n",
    "\n",
    "            if(np.sum(thingstoremove.astype('int')) != 0): #TODO: fix!!!!!!this doesn't work\n",
    "                replace_dermis_pixel_with_ring(thingstoremove)"
   ],
   "metadata": {
    "collapsed": false
   }
  },
  {
   "cell_type": "code",
   "execution_count": 419,
   "outputs": [],
   "source": [
    "#write a logic that determines if an object is follicle\n",
    "#logic includes (size, shape)\n",
    "# first determine the minimum size of hair follicle\n",
    "#shape can be measured using scikit.measure.regionprops or cv2 contour properties\n",
    "# https://scikit-image.org/docs/stable/api/skimage.measure.html#skimage.measure.regionprops\n",
    "# https://docs.opencv.org/4.x/d1/d32/tutorial_py_contour_properties.html\n",
    "#write function that replace a selected object with adjacent pixels"
   ],
   "metadata": {
    "collapsed": false
   }
  },
  {
   "cell_type": "code",
   "execution_count": 420,
   "outputs": [],
   "source": [
    "#5 should not have anything inside it, 5 should only touch 12 , 10\n",
    "thres_derm5_area = 2000\n",
    "derm5 = (derm == 5)\n",
    "\n",
    "derm5 = ndimage.binary_fill_holes(derm5).astype(int) #fill 5, don't forget to update derm\n",
    "\n",
    "labels = label(derm5)\n",
    "props = regionprops(labels)"
   ],
   "metadata": {
    "collapsed": false
   }
  },
  {
   "cell_type": "code",
   "execution_count": 425,
   "outputs": [],
   "source": [
    "\n",
    "for id, prop in enumerate(props): #id must +1\n",
    "    if prop.area < thres_derm5_area:\n",
    "        #replace using ring\n",
    "        replace_dermis_pixel_with_ring(labels == (id+1))\n",
    "\n",
    "\n",
    "\n",
    "    else: # 5 must not have anything inside, 5 should only touch 12 (which is 0) ,10\n",
    "        prop_dilate = ndimage.binary_dilation(labels == (id+1)).astype('bool')\n",
    "        ring = prop_dilate ^ (labels == (id+1))\n",
    "        labeled_ring = ring * derm\n",
    "\n",
    "\n",
    "        replace_dict = {8:5, 11:0, 9:10} #replace pixel 8 with 5, ...\n",
    "\n",
    "         #change 8 to 5, 11 to 0 (12), and 9 to 10\n",
    "        for key in replace_dict:\n",
    "            label_key = label(derm == key)\n",
    "            [xk,yk] = np.where(labeled_ring == key)\n",
    "            if not (len(xk) == 0): #i.e. if xk is not empty list\n",
    "                [x,y] = [xk[0],yk[0]]\n",
    "                to_change_lb = label_key[x,y]\n",
    "                to_change_area = (label_key==to_change_lb)\n",
    "                [cx,cy] = np.where(to_change_area)\n",
    "                derm[cx,cy] = replace_dict[key]"
   ],
   "metadata": {
    "collapsed": false
   }
  },
  {
   "cell_type": "code",
   "execution_count": 426,
   "outputs": [],
   "source": [
    "#6 oilgland, 7 sweatgland, 8 nerve, 9 bloodvessel should not contain  any other class within it\n",
    "to_fill_id = [6,7,8,9]\n",
    "for id in to_fill_id:\n",
    "    if(np.sum(derm==id) != 0):\n",
    "        tmp_derm =  ndimage.binary_fill_holes((derm == id)).astype(int)\n",
    "        [x,y] = np.where(tmp_derm)\n",
    "        derm[x,y] = id"
   ],
   "metadata": {
    "collapsed": false
   }
  },
  {
   "cell_type": "code",
   "execution_count": 427,
   "outputs": [],
   "source": [
    "[x,y] = np.where(derm==0)\n",
    "derm[x,y] = 12 #12 is white\n",
    "\n",
    "[x,y] = np.where(epi == 0)\n",
    "epi[x,y] = 12 #12 is white"
   ],
   "metadata": {
    "collapsed": false
   }
  },
  {
   "cell_type": "code",
   "execution_count": 428,
   "outputs": [],
   "source": [
    "#put dermis on top of epi\n",
    "final_img = deepcopy(epi)\n",
    "\n",
    "#3-12\n",
    "for i in range(3,12):\n",
    "    [x,y] = np.where(derm == i)\n",
    "    final_img[x,y] = i"
   ],
   "metadata": {
    "collapsed": false
   }
  },
  {
   "cell_type": "code",
   "execution_count": 429,
   "outputs": [],
   "source": [
    "#Image.fromarray(final_img).save(\"corrected \"+ img_name)"
   ],
   "metadata": {
    "collapsed": false
   }
  },
  {
   "cell_type": "code",
   "execution_count": 438,
   "outputs": [
    {
     "data": {
      "text/plain": "<matplotlib.image.AxesImage at 0x1e3d230ea30>"
     },
     "execution_count": 438,
     "metadata": {},
     "output_type": "execute_result"
    },
    {
     "data": {
      "text/plain": "<Figure size 864x576 with 1 Axes>",
      "image/png": "[encoded data removed]"
     },
     "metadata": {
      "needs_background": "light"
     },
     "output_type": "display_data"
    }
   ],
   "source": [
    "figure_size = plt.gcf().get_size_inches()\n",
    "factor = 2\n",
    "plt.gcf().set_size_inches(factor * figure_size)\n",
    "\n",
    "plt.imshow(final_img==6)"
   ],
   "metadata": {
    "collapsed": false
   }
  },
  {
   "cell_type": "code",
   "execution_count": 439,
   "outputs": [
    {
     "data": {
      "text/plain": "<matplotlib.image.AxesImage at 0x1e3d7e71790>"
     },
     "execution_count": 439,
     "metadata": {},
     "output_type": "execute_result"
    },
    {
     "data": {
      "text/plain": "<Figure size 864x576 with 1 Axes>",
      "image/png": "[encoded data removed]"
     },
     "metadata": {
      "needs_background": "light"
     },
     "output_type": "display_data"
    }
   ],
   "source": [
    "\n",
    "figure_size = plt.gcf().get_size_inches()\n",
    "factor = 2\n",
    "plt.gcf().set_size_inches(factor * figure_size)\n",
    "\n",
    "plt.imshow(dl_arr==6)"
   ],
   "metadata": {
    "collapsed": false
   }
  },
  {
   "cell_type": "code",
   "execution_count": null,
   "outputs": [],
   "source": [
    "#back from break TODO:\n",
    "#still something wrong with id4\n",
    "#some parts of id4 are misclassified as id2\n",
    "#double check epidermis-dermis junction and how to classify id3 and id4 (or change id1 and id2 into those)\n",
    "#double check other classes as well"
   ],
   "metadata": {
    "collapsed": false
   }
  },
  {
   "cell_type": "code",
   "execution_count": 353,
   "outputs": [],
   "source": [],
   "metadata": {
    "collapsed": false
   }
  },
  {
   "cell_type": "code",
   "execution_count": 353,
   "outputs": [],
   "source": [],
   "metadata": {
    "collapsed": false
   }
  },
  {
   "cell_type": "code",
   "execution_count": null,
   "outputs": [],
   "source": [],
   "metadata": {
    "collapsed": false
   }
  }
 ],
 "metadata": {
  "kernelspec": {
   "display_name": "Python 3",
   "language": "python",
   "name": "python3"
  },
  "language_info": {
   "codemirror_mode": {
    "name": "ipython",
    "version": 2
   },
   "file_extension": ".py",
   "mimetype": "text/x-python",
   "name": "python",
   "nbconvert_exporter": "python",
   "pygments_lexer": "ipython2",
   "version": "2.7.6"
  }
 },
 "nbformat": 4,
 "nbformat_minor": 0
}
