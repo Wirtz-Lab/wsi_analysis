{
 "cells": [
  {
   "cell_type": "code",
   "execution_count": 2,
   "outputs": [],
   "source": [
    "import math\n",
    "\n",
    "import pandas as pd\n",
    "from PIL import Image\n",
    "Image.MAX_IMAGE_PIXELS=None\n",
    "import numpy as np\n",
    "from skimage.morphology import closing, square, remove_small_objects, remove_small_holes\n",
    "import os\n",
    "import cv2\n",
    "from matplotlib import pyplot as plt\n",
    "from copy import deepcopy\n",
    "\n",
    "from scipy import ndimage\n",
    "from skimage.measure import label, regionprops, regionprops_table\n",
    "import scipy"
   ],
   "metadata": {
    "collapsed": false
   }
  },
  {
   "cell_type": "code",
   "execution_count": 3,
   "outputs": [],
   "source": [
    "#use collagen to define dermis\n",
    "# 1. extract collagen(class=10) from DLmask\n",
    "# 2. remove small object and fill holes in collagen to make it a single connected body\n",
    "# 3. find epidermal-dermis junction using maximum of the binary in y-axis\n",
    "# 4. remove any pixels that are not epidermis above the epidermal-dermis junction\n",
    "# 5. iterate each class to replace any potentially wrong pixel to correct class\n",
    "    #hair foliical: adj pixel look at window"
   ],
   "metadata": {
    "collapsed": false
   }
  },
  {
   "cell_type": "code",
   "execution_count": 4,
   "outputs": [],
   "source": [
    "#read deeplab crop\n",
    "dlcropsrc = r'\\\\fatherserverdw\\kyuex\\analysis output\\datadst\\20220929\\dlcrop'"
   ],
   "metadata": {
    "collapsed": false
   }
  },
  {
   "cell_type": "code",
   "execution_count": 5,
   "outputs": [],
   "source": [
    "#1. remove small object and fill holes in collagen to make it a single connected body\n",
    "#10x\n",
    "dl = Image.open(os.path.join(dlcropsrc, \"2022-06-07 14.34.59sec1.png\"))"
   ],
   "metadata": {
    "collapsed": false
   }
  },
  {
   "cell_type": "code",
   "execution_count": 6,
   "outputs": [],
   "source": [
    "\n",
    "dl_arr = np.array(dl)\n",
    "dl_arr[dl_arr == 12] = 0\n",
    "col = (dl_arr == 10) #collagen"
   ],
   "metadata": {
    "collapsed": false
   }
  },
  {
   "cell_type": "code",
   "execution_count": 7,
   "outputs": [],
   "source": [
    "#2.remove small object and fill holes in collagen to make it a single connected body\n",
    "\n",
    "minTA = 60000\n",
    "minTAhole = 10000 #is this too much?\n",
    "\n",
    "#resize to expedite\n",
    "(width, height) = (dl.width // 10, dl.height // 10)\n",
    "collagen = Image.fromarray(col).resize((width, height), resample=0)\n",
    "\n",
    "collagen= closing(collagen, square(3))  # 13sec\n",
    "collagen= remove_small_objects(collagen, min_size=minTA, connectivity=2)  # 6sec\n",
    "collagen = remove_small_holes(collagen , area_threshold=minTAhole).astype(np.uint8)\n",
    "\n",
    "kernel = np.ones((3, 3), np.uint8)\n",
    "opening = cv2.morphologyEx(collagen .astype(np.uint8), cv2.MORPH_OPEN, kernel, iterations=2)  # 2sec\n",
    "collagen = cv2.dilate(opening, kernel, iterations=3)\n",
    "collagen = cv2.dilate(opening, kernel, iterations=3)\n",
    "\n",
    "#resize back\n",
    "collagen = Image.fromarray(collagen).resize((dl.width, dl.height),resample=0)\n",
    "collagen_arr = np.array(collagen)"
   ],
   "metadata": {
    "collapsed": false
   }
  },
  {
   "cell_type": "code",
   "execution_count": 8,
   "outputs": [],
   "source": [
    "#3. find epidermal-dermis junction\n",
    "[xt,yt] = np.where(collagen_arr)\n",
    "\n",
    "#we actually want to find the minimum x-coordinate (because this image is weirdly oriented)\n",
    "unique_y = np.unique(yt)\n",
    "min_x = [np.amin(np.where(collagen_arr[:,y])) for y in unique_y]\n",
    "thresh = 800 #i'm not sure that this will work with every image. TODO: change\n",
    "hist, bins = np.histogram(min_x)\n",
    "#get the value range to remove (note: this doesnt contain last element in bins\n",
    "remove_bins = [b for h,b in zip(hist,bins) if h < thresh ]\n",
    "\n",
    "#new junction, remove parts with low frequency in histogram,use remove_bins[0] because it represents where the junction begins to drop\n",
    "#TODO: need to change this to be more robust, what if the junction drops in the middle,\n",
    "new_junction_x  = [x for x in min_x if x < np.round(remove_bins[0].astype(\"uint32\"))]\n",
    "new_junction_y = list(range(len(new_junction_x)))"
   ],
   "metadata": {
    "collapsed": false
   }
  },
  {
   "cell_type": "code",
   "execution_count": 9,
   "outputs": [],
   "source": [
    "#2: correct anything that is miss classified in epi"
   ],
   "metadata": {
    "collapsed": false
   }
  },
  {
   "cell_type": "code",
   "execution_count": 10,
   "outputs": [],
   "source": [
    "#get new contour\n",
    "import cv2\n",
    "\n",
    "collagen_tmp = deepcopy(collagen_arr)\n",
    "\n",
    "for x,y in zip( new_junction_x, new_junction_y):\n",
    "    collagen_tmp[np.max(new_junction_x) + 100:, y] = 0\n",
    "\n",
    "collagen_tmp[:, np.max(new_junction_y):] = 0\n",
    "\n",
    "max_cx = max(new_junction_x)\n",
    "max_cy = max(new_junction_y)\n",
    "\n",
    "contours, hierarchy = cv2.findContours(collagen_tmp, cv2.RETR_TREE, cv2.CHAIN_APPROX_SIMPLE)\n",
    "\n",
    "\n",
    "img = np.zeros((9746, 11162))\n",
    "cv2.drawContours(img, contours, -1, (255,0,0), 1) #100\n",
    "img[max_cx + 1:, :] = 0\n",
    "img= img.astype(bool)\n",
    "min_x_zero = min((np.where(img[:,0]))[0])\n",
    "\n",
    "[cx,cy] = np.where(img)"
   ],
   "metadata": {
    "collapsed": false
   }
  },
  {
   "cell_type": "code",
   "execution_count": 11,
   "outputs": [],
   "source": [
    "junction_offset = 750 # epidermis-dermisjunction is not accurate, extend the junction by 750 pix\n",
    "epi = deepcopy(dl_arr)\n",
    "#epi is anything above epidermis-dermis junction\n",
    "for x,y in zip( cx,cy):\n",
    "    epi[x + junction_offset:, y] = 0\n",
    "\n",
    "\n",
    "\n",
    "epi[:,np.max(y)+1:] = 0"
   ],
   "metadata": {
    "collapsed": false
   }
  },
  {
   "cell_type": "code",
   "execution_count": 12,
   "outputs": [
    {
     "data": {
      "text/plain": "<Figure size 2560x1920 with 0 Axes>"
     },
     "metadata": {},
     "output_type": "display_data"
    }
   ],
   "source": [
    "figure_size = plt.gcf().get_size_inches()\n",
    "factor = 4\n",
    "plt.gcf().set_size_inches(factor * figure_size)\n",
    "#plt.scatter(cy,cx, color=\"white\", linewidth=1)"
   ],
   "metadata": {
    "collapsed": false
   }
  },
  {
   "cell_type": "code",
   "execution_count": 13,
   "outputs": [],
   "source": [
    "#iterate through epi and replace value with 1 or 2, ignore 0 and 12\n",
    "window_size = 20\n",
    "\n",
    "for x in range(np.max(cx)):\n",
    "    for y in range(np.max(cy)):\n",
    "        if not (epi[x,y] == 0 or epi[x,y] == 1 or epi[x,y] == 2 or epi[x,y] == 12 or epi[x,y] == 10 ): #it can have some 10 collagen in junction??????\n",
    "\n",
    "            #question: is it better to do a window search or dilate and use the ring to calculate\n",
    "            #replace pixel value with 1 or 2\n",
    "            window_shape = [(x -  window_size) if (x -  window_size) >= 0 else 0,\n",
    "                      (x + window_size) , y +  window_size,(y -  window_size) if (y - window_size) >=0 else 0] #L,R,T,B\n",
    "\n",
    "            window = epi[window_shape[0]:window_shape[1], window_shape[3]:window_shape[2]]\n",
    "            #check pixel values in window\n",
    "            count1 = np.sum([window == 1])\n",
    "            count2 = np.sum([window == 2])\n",
    "\n",
    "            if(count1 >= count2):\n",
    "                epi[x,y] = 1\n",
    "            elif (count1 < count2):\n",
    "                epi[x,y] = 2\n",
    "\n",
    "\n",
    "\n"
   ],
   "metadata": {
    "collapsed": false
   }
  },
  {
   "cell_type": "code",
   "execution_count": 14,
   "outputs": [],
   "source": [
    "#initialize new_dl_arr and make changes to it, do not modify dl_arr\n",
    "new_dl_arr = deepcopy(dl_arr)"
   ],
   "metadata": {
    "collapsed": false
   }
  },
  {
   "cell_type": "code",
   "execution_count": 15,
   "outputs": [],
   "source": [
    "#change new_dl_arr based on new epi\n",
    "[xt,yt] = np.where(epi ==1)\n",
    "new_dl_arr[xt,yt] = 1\n",
    "\n",
    "[xt,yt] = np.where(epi ==2)\n",
    "new_dl_arr[xt,yt] = 2\n",
    "\n",
    "\n"
   ],
   "metadata": {
    "collapsed": false
   }
  },
  {
   "cell_type": "code",
   "execution_count": 109,
   "outputs": [],
   "source": [
    "#initialize mask for dermis\n",
    "derm= deepcopy(new_dl_arr)"
   ],
   "metadata": {
    "collapsed": false
   }
  },
  {
   "cell_type": "code",
   "execution_count": 110,
   "outputs": [],
   "source": [
    "#seperate out dermis based on epidermis and dermis junction\n",
    "for x,y in zip(cx,cy):\n",
    "    derm[0:x + junction_offset, y] = 0 #add 7000 because some parts below the junction is actually still epidermis\n",
    "    #TODO: do we need to readdress the epidermis as well?"
   ],
   "metadata": {
    "collapsed": false
   }
  },
  {
   "cell_type": "code",
   "execution_count": 111,
   "outputs": [],
   "source": [
    "#used for comparison, DO NOT MODIFY derm_original\n",
    "derm_original = deepcopy(derm)"
   ],
   "metadata": {
    "collapsed": false
   }
  },
  {
   "cell_type": "code",
   "execution_count": 112,
   "outputs": [],
   "source": [
    "#replace any 1, 2 in dermis\n",
    "derm1 = (derm == 1)  #replace by 3\n",
    "derm2 = (derm == 2)  #replace by 4"
   ],
   "metadata": {
    "collapsed": false
   }
  },
  {
   "cell_type": "code",
   "execution_count": 113,
   "outputs": [],
   "source": [
    "if(np.sum(derm1) !=0):\n",
    "    #replace with 3\n",
    "    [x,y] = np.where(derm1)\n",
    "    derm[x,y] = 3\n",
    "\n",
    "if(np.sum(derm2) !=0):\n",
    "    #replace with 4\n",
    "    [x,y] = np.where(derm2)\n",
    "    derm[x,y] = 4"
   ],
   "metadata": {
    "collapsed": false
   }
  },
  {
   "cell_type": "code",
   "execution_count": 114,
   "outputs": [],
   "source": [
    "#3 should have nothing else in it,should be touching four\n",
    "derm3 = (derm == 3)\n",
    "\n",
    "if not np.sum(derm3) == 0:\n",
    "    derm3 = ndimage.binary_fill_holes(derm3).astype(int)\n",
    "\n",
    "    #dilate derm3 to create a ring around derm3, check if the rings contain 4\n",
    "    #if not, remove everything in that ring\n",
    "    dilate3 = ndimage.binary_dilation(derm3).astype(derm3.dtype)\n",
    "\n",
    "\n",
    "    ring3 = dilate3 - derm3\n",
    "    nonbin_ring = ring3 * derm #ring with tissue section ids\n",
    "    label_ring = label(ring3)\n",
    "\n",
    "    dilate3[dilate3 == 1] = 3\n",
    "    ring3[ring3 == 1] = 3\n",
    "\n",
    "    #this step eliminates any 3 not touching 4\n",
    "    for i in np.unique(label_ring)[1:]: #0 is background\n",
    "        tmp = (label_ring == i) & (derm == 4) #check if 3 is touching 4\n",
    "\n",
    "        if np.sum(tmp) == 0:\n",
    "            #TODO: change pixel value to the majority of the ring\n",
    "            select_ring = (label_ring == i) * nonbin_ring\n",
    "            count = np.bincount(np.ndarray.flatten(select_ring))\n",
    "\n",
    "            idx = np.argmax(count[1:] ) + 1\n",
    "            tmp2 = (label_ring == i)\n",
    "            tmp3 = ndimage.binary_fill_holes(tmp2).astype(int)\n",
    "            #final_region = tmp3 - tmp2\n",
    "            dilate3[tmp3 == 1] = idx #when you subtract you get the inside\n",
    "\n",
    "\n",
    "    #get new derm3\n",
    "    derm3 = dilate3 - ring3\n",
    "    #TODO: update derm!!!\n",
    "\n"
   ],
   "metadata": {
    "collapsed": false
   }
  },
  {
   "cell_type": "code",
   "execution_count": 115,
   "outputs": [],
   "source": [
    "# pass in individual follicle object, not the entire mask\n",
    "def is_follicle(obj):\n",
    "    #too small\n",
    "    #not round\n",
    "    if(np.sum(obj.area) < thres_derm4_area):\n",
    "        return False\n",
    "\n",
    "    #if it's not too small,check shape\n",
    "    x,y,w,h = cv2.boundingRect(props[1].coords)\n",
    "    rect_area = w*h\n",
    "    extent = obj.area / rect_area\n",
    "    if(extent > round_threshold):\n",
    "        return False\n",
    "\n",
    "\n",
    "    return True"
   ],
   "metadata": {
    "collapsed": false
   }
  },
  {
   "cell_type": "code",
   "execution_count": 116,
   "outputs": [],
   "source": [
    "#delete maybe\n",
    "def replace_pixel(x,y):\n",
    "\n",
    "    window_shape = [(x -  window_size) if (x -  window_size) >= 0 else 0,\n",
    "                      (x + window_size) , y +  window_size,(y -  window_size) if (y - window_size) >=0 else 0] #L,R,T,B, 20 by 20\n",
    "\n",
    "    window = derm[window_shape[0]:window_shape[1], window_shape[3]:window_shape[2]]\n",
    "\n",
    "    #check pixel values in window\n",
    "    count = np.bincount(np.ndarray.flatten(window))\n",
    "    replace_val = np.argmax(count[1:] ) + 1\n",
    "\n",
    "    #what if there is a large blob of another id, and the 20x20 window is full of that other id\n",
    "    derm[x,y] = replace_val\n"
   ],
   "metadata": {
    "collapsed": false
   }
  },
  {
   "cell_type": "code",
   "execution_count": 117,
   "outputs": [],
   "source": [
    "\n",
    "def replace_dermis_pixel_with_ring(obj): #obj is a boolean object\n",
    "        obj_dilate = ndimage.binary_dilation(obj).astype('int')\n",
    "        ring = obj_dilate - np.array(obj).astype('int')\n",
    "\n",
    "        labeled_ring = derm * ring\n",
    "        if not (np.sum(labeled_ring) == 0):\n",
    "            count = np.bincount(np.ndarray.flatten(labeled_ring))\n",
    "            replace_val = np.argmax(count[1:] ) + 1\n",
    "            [x,y] = np.where(obj)\n",
    "            derm[x,y] = replace_val\n",
    "\n"
   ],
   "metadata": {
    "collapsed": false
   }
  },
  {
   "cell_type": "code",
   "execution_count": 118,
   "outputs": [],
   "source": [
    "#4 should be big enough, should only have 3 and 6 inside\n",
    "#how big: above 2000px (above 20 cells)\n",
    "thres_derm4_area = 2000\n",
    "round_threshold = 0.9\n",
    "\n",
    "#smooth derm4\n",
    "derm4 = (derm == 4)\n",
    "derm4 = cv2.morphologyEx(derm4.astype(np.uint8), cv2.MORPH_OPEN, kernel, iterations=2)  # use the same kernel as collagen\n",
    "\n",
    "\n",
    "#if not np.sum(derm4) == 0:\n",
    "labels = label(derm4)\n",
    "props = regionprops(labels)\n",
    "\n",
    "# fill hair follicle to create query points\n",
    "# query ogDLmask to see if non3|6 exists\n",
    "\n",
    "for id, prop in enumerate(props): #id must +1\n",
    "    if not is_follicle(prop):\n",
    "        #replace using ring\n",
    "        prop_dilate = ndimage.binary_dilation(labels == (id+1)).astype('bool')\n",
    "        ring = prop_dilate ^ (labels == (id+1))\n",
    "        labeled_ring = ring * derm\n",
    "        count = np.bincount(np.ndarray.flatten(labeled_ring))\n",
    "        replace_val = np.argmax(count[:])  # could replace with zero??\n",
    "        [x,y] = np.where(labels == (id+1)) #error\n",
    "        derm[x,y] = replace_val\n",
    "\n",
    "    else: #check if 4 only has 3 and 6 inside\n",
    "        filled_prob = ndimage.binary_fill_holes(labels == (id+1)).astype(int)\n",
    "        valuesinhair = derm * filled_prob\n",
    "\n",
    "        thingstoremove = (valuesinhair!=3) | (valuesinhair!=6) | (valuesinhair!=4)\n",
    "\n",
    "        if(np.sum(thingstoremove.astype('int')) != 0): #TODO: fix!!!!!!this doesn't work\n",
    "            replace_dermis_pixel_with_ring(thingstoremove)"
   ],
   "metadata": {
    "collapsed": false
   }
  },
  {
   "cell_type": "code",
   "execution_count": 119,
   "outputs": [],
   "source": [
    "#write a logic that determines if an object is follicle\n",
    "#logic includes (size, shape)\n",
    "# first determine the minimum size of hair follicle\n",
    "#shape can be measured using scikit.measure.regionprops or cv2 contour properties\n",
    "# https://scikit-image.org/docs/stable/api/skimage.measure.html#skimage.measure.regionprops\n",
    "# https://docs.opencv.org/4.x/d1/d32/tutorial_py_contour_properties.html\n",
    "#write function that replace a selected object with adjacent pixels"
   ],
   "metadata": {
    "collapsed": false
   }
  },
  {
   "cell_type": "code",
   "execution_count": 138,
   "outputs": [],
   "source": [
    "#5 should not have anything inside it, 5 should only touch 12 , 10\n",
    "thres_derm5_area = 2000\n",
    "derm5 = (derm == 5)\n",
    "\n",
    "derm5 = ndimage.binary_fill_holes(derm5).astype(int) #fill 5, don't forget to update derm\n",
    "labels = label(derm5)\n",
    "props = regionprops(labels)"
   ],
   "metadata": {
    "collapsed": false
   }
  },
  {
   "cell_type": "code",
   "execution_count": 140,
   "outputs": [
    {
     "name": "stdout",
     "output_type": "stream",
     "text": [
      "0\n"
     ]
    }
   ],
   "source": [
    "for id, prop in enumerate(props): #id must +1\n",
    "    if prop.area < thres_derm5_area:\n",
    "        #replace using ring\n",
    "        prop_dilate = ndimage.binary_dilation(labels == (id+1)).astype('bool')\n",
    "        ring = prop_dilate ^ (labels == (id+1))\n",
    "        labeled_ring = ring * derm\n",
    "        count = np.bincount(np.ndarray.flatten(labeled_ring))\n",
    "        replace_val = np.argmax(count[:])  # could replace with zero??\n",
    "        [x,y] = np.where(labels == (id+1)) #error\n",
    "        derm[x,y] = replace_val\n",
    "\n",
    "\n",
    "    else: # 5 must not have anything inside, 5 should only touch 12 (which is 0) ,10\n",
    "        print(id)\n",
    "        prop_dilate = ndimage.binary_dilation(labels == (id+1)).astype('bool')\n",
    "        ring = prop_dilate ^ (labels == (id+1))\n",
    "        labeled_ring = ring * derm\n",
    "\n",
    "\n",
    "\n",
    "        #label everything touching 5 in the derm\n",
    "        #1.update the ring each time you change 8 to 5, create new ring around changed pixels and keep doing while loop\n",
    "        #2.start from a 8 pixel and find all connected pixels ourselves\n",
    "\n",
    "\n",
    "\n",
    "        #change 8 to 5, 11 to 0 (12), and 9 to 10\n",
    "\n",
    "        #but here we need to change the entire object rather than just the pixels in the ring\n",
    "\n",
    "        #\n",
    "\n",
    "\n",
    "\n",
    "\n"
   ],
   "metadata": {
    "collapsed": false
   }
  },
  {
   "cell_type": "code",
   "execution_count": null,
   "outputs": [],
   "source": [
    "id = 0\n",
    "prop_dilate = ndimage.binary_dilation(labels == (id+1)).astype('bool')\n",
    "ring = prop_dilate ^ (labels == (id+1))\n",
    "labeled_ring = ring * derm\n",
    "\n",
    "\n",
    "#label everything touching 5 in the derm\n",
    "msk = (derm =="
   ],
   "metadata": {
    "collapsed": false
   }
  },
  {
   "cell_type": "code",
   "execution_count": null,
   "outputs": [],
   "source": [
    "#what if 5 is touching 10, but also touching something else????"
   ],
   "metadata": {
    "collapsed": false
   }
  },
  {
   "cell_type": "code",
   "execution_count": 136,
   "outputs": [
    {
     "data": {
      "text/plain": "<matplotlib.image.AxesImage at 0x248008a1cd0>"
     },
     "execution_count": 136,
     "metadata": {},
     "output_type": "execute_result"
    },
    {
     "data": {
      "text/plain": "<Figure size 1280x960 with 1 Axes>",
      "image/png": "[encoded data removed]"
     },
     "metadata": {},
     "output_type": "display_data"
    }
   ],
   "source": [
    "figure_size = plt.gcf().get_size_inches()\n",
    "factor = 2\n",
    "plt.gcf().set_size_inches(factor * figure_size)\n",
    "plt.imshow(derm == 9)"
   ],
   "metadata": {
    "collapsed": false
   }
  },
  {
   "cell_type": "code",
   "execution_count": null,
   "outputs": [],
   "source": [
    "derm5 = ndimage.binary_fill_holes(derm5).astype(int) #fill 5"
   ],
   "metadata": {
    "collapsed": false
   }
  },
  {
   "cell_type": "code",
   "execution_count": null,
   "outputs": [],
   "source": [
    "#if 5 is npt touching 12 and 10, is 5 wrong?\n",
    "dilate5 = ndimage.binary_dilation(derm5).astype(derm5.dtype)\n",
    "ring5 = dilate5 - derm5\n"
   ],
   "metadata": {
    "collapsed": false
   }
  },
  {
   "cell_type": "code",
   "execution_count": null,
   "outputs": [],
   "source": [
    "figure_size = plt.gcf().get_size_inches()\n",
    "factor = 2\n",
    "plt.gcf().set_size_inches(factor * figure_size)\n",
    "plt.imshow(ring5)"
   ],
   "metadata": {
    "collapsed": false
   }
  },
  {
   "cell_type": "code",
   "execution_count": null,
   "outputs": [],
   "source": [],
   "metadata": {
    "collapsed": false
   }
  },
  {
   "cell_type": "code",
   "execution_count": null,
   "outputs": [],
   "source": [],
   "metadata": {
    "collapsed": false
   }
  },
  {
   "cell_type": "code",
   "execution_count": null,
   "outputs": [],
   "source": [],
   "metadata": {
    "collapsed": false
   }
  },
  {
   "cell_type": "code",
   "execution_count": null,
   "outputs": [],
   "source": [
    "# 5. iterate each class to replace any potentially wrong pixel to correct class"
   ],
   "metadata": {
    "collapsed": false
   }
  }
 ],
 "metadata": {
  "kernelspec": {
   "display_name": "Python 3",
   "language": "python",
   "name": "python3"
  },
  "language_info": {
   "codemirror_mode": {
    "name": "ipython",
    "version": 2
   },
   "file_extension": ".py",
   "mimetype": "text/x-python",
   "name": "python",
   "nbconvert_exporter": "python",
   "pygments_lexer": "ipython2",
   "version": "2.7.6"
  }
 },
 "nbformat": 4,
 "nbformat_minor": 0
}
