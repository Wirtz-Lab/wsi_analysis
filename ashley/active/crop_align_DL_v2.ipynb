{
 "cells": [
  {
   "cell_type": "code",
   "execution_count": 21,
   "outputs": [],
   "source": [
    "import pandas as pd\n",
    "from PIL import Image\n",
    "Image.MAX_IMAGE_PIXELS=None\n",
    "import numpy as np\n",
    "from skimage.measure import label\n",
    "from skimage.morphology import closing, square, remove_small_objects, remove_small_holes\n",
    "from skimage.transform import rotate\n",
    "from math import atan2, degrees\n",
    "import glob,os\n",
    "from natsort import natsorted\n",
    "from copy import deepcopy\n",
    "import cv2\n",
    "from time import time\n",
    "from skimage.measure import regionprops\n",
    "from matplotlib import pyplot as plt"
   ],
   "metadata": {
    "collapsed": false,
    "pycharm": {
     "name": "#%%\n"
    }
   }
  },
  {
   "cell_type": "code",
   "execution_count": 22,
   "outputs": [],
   "source": [
    "src = r'\\\\fatherserverdw\\kyuex\\clue images\\1um\\classification_v9_combined'\n",
    "imlist = glob.glob(os.path.join(src,'*.tif'))\n",
    "imlist = natsorted(imlist)\n",
    "imlist=imlist[0:5]"
   ],
   "metadata": {
    "collapsed": false,
    "pycharm": {
     "name": "#%%\n"
    }
   }
  },
  {
   "cell_type": "code",
   "execution_count": null,
   "outputs": [],
   "source": [
    "df=[]\n",
    "for imname in imlist:\n",
    "    minTA = 20000\n",
    "    minTAhole = 100\n",
    "    minDermhole = 5000\n",
    "    minepisize=1000\n",
    "    whitespace=12\n",
    "    src = os.path.dirname(imname)\n",
    "    dst = os.path.join(src, 'crop_TA/tmp')\n",
    "    if not os.path.exists(dst): os.mkdir(dst)\n",
    "    fn, ext = os.path.splitext(os.path.basename(imname))\n",
    "    if os.path.exists(os.path.join(dst, '{}_sec{:02d}.png'.format(fn, 4))):\n",
    "        print('continue')\n",
    "        continue\n",
    "    # open image\n",
    "    im = Image.open(imname)\n",
    "    TAbig = np.array(im)\n",
    "    # downsize to expedite\n",
    "    (width, height) = (im.width // 10, im.height // 10)\n",
    "    im_resized = im.resize((width, height), resample=0)\n",
    "    TA = np.array(im_resized)\n",
    "    sure_fg = closing((2 < TA) & (TA < whitespace - 1), square(3))  # 13sec\n",
    "    sure_fg = remove_small_objects(sure_fg, min_size=minTA, connectivity=2)  # 6sec\n",
    "    sure_fg = remove_small_holes(sure_fg, area_threshold=minTAhole / 100).astype(np.uint8)  # 7sec\n",
    "    # define background\n",
    "    bw = closing(TA < whitespace, square(3))  # 12 is background\n",
    "    bw = remove_small_objects(bw, min_size=minTA, connectivity=2)\n",
    "    bw = remove_small_holes(bw, area_threshold=minTAhole)\n",
    "    kernel = np.ones((3, 3), np.uint8)\n",
    "    opening = cv2.morphologyEx(bw.astype(np.uint8), cv2.MORPH_OPEN, kernel, iterations=2)  # 2sec\n",
    "    sure_bg = cv2.dilate(opening, kernel, iterations=3)\n",
    "    # define middleground\n",
    "    unknown = cv2.subtract(sure_bg, sure_fg).astype(np.bool)\n",
    "    # label that background is 1 and objects are 2~N and middleground is zero\n",
    "    sure_fg_label = label(sure_fg).astype(np.int32)\n",
    "    sure_fg_label = sure_fg_label + 1\n",
    "    sure_fg_label[unknown] = 0\n",
    "    # perform watershed based on the marker\n",
    "    TAbgr = cv2.cvtColor(TA, cv2.COLOR_GRAY2BGR)\n",
    "    label_image = cv2.watershed(TAbgr, sure_fg_label)\n",
    "    # iterate each section\n",
    "    epi = (TA == 1) | (TA == 2)\n",
    "    derm = (2 < TA) & (TA < whitespace)\n",
    "    derm = remove_small_holes(derm, area_threshold=minDermhole)\n",
    "    epi2 = epi & ~derm\n",
    "    epi2 = remove_small_objects(epi2, min_size=minepisize, connectivity=2)\n",
    "    numsecmax = np.max(label_image)\n",
    "    for numsec in range(1,numsecmax):\n",
    "        print('section N: ', numsec, '/', numsecmax-1)\n",
    "        msktmp = label_image == numsec+1\n",
    "\n",
    "        #find centroid\n",
    "        stats = regionprops(msktmp.astype(np.uint8))\n",
    "        centroid = stats[0].centroid #NOTE:this returns (y,x)!!\n",
    "        cent = (round(10*centroid[1]),round(10*centroid[0])) #resize back to the origin image size, flip to (x,y)\n",
    "\n",
    "        # mskderm = msktmp & derm\n",
    "        mskepi = msktmp & epi2\n",
    "        # align horizontal\n",
    "        [xt2, yt2] = np.where(mskepi)\n",
    "        vertices = np.array([xt2[::10], yt2[::10]]).T\n",
    "        vc = vertices - vertices.mean(axis=0)\n",
    "        U, S, Vt = np.linalg.svd(vc)\n",
    "        k = Vt.T\n",
    "        d0 = -degrees(atan2(k[0, 1], k[0, 0])) #from radians to degrees?\n",
    "        TAtmp = deepcopy(TAbig).astype('float32') #float64 is too big, could we use float32 instead?\n",
    "        mskbig = cv2.resize(msktmp.astype(np.uint8), TAtmp.shape[::-1], interpolation=cv2.INTER_NEAREST)\n",
    "        kernel = np.ones((20, 20), np.uint8)\n",
    "        mskbig = cv2.dilate(mskbig, kernel, iterations=3)\n",
    "        TAtmp[mskbig == 0] = 0 #scale back up to perform rotation #1sec\n",
    "\n",
    "        start = time() # 10sec\n",
    "        # degrot = np.abs(d0 - 90) # TO-DO: confirm if this is true.\n",
    "        degrot = round(d0) #\n",
    "\n",
    "        mskrot = rotate(TAtmp, degrot, resize=True, preserve_range=True, order=0)  # this is slow\n",
    "        #can I expedite by not preserving range and recovering original pixel later?\n",
    "        print(round(time() - start), 'sec elapsed for part A')\n",
    "\n",
    "        start = time() #\n",
    "        [xt, yt] = np.where(mskrot) # mskrot is sometimes not detected\n",
    "        [xt2, yt2] = np.where((mskrot == 1) | (mskrot == 2))\n",
    "        mskrot2 = mskrot[np.min(xt):np.max(xt), np.min(yt):np.max(yt)]\n",
    "        print(round(time() - start), 'sec elapsed for part B')\n",
    "        start = time()  #\n",
    "        if np.mean(xt) - np.mean(xt2) < 0:  # if dermis is above epidermis, flip it\n",
    "            mskrot2 = np.rot90(np.rot90(mskrot2))\n",
    "        print(round(time() - start), 'sec elapsed for part C')\n",
    "        start = time()  #\n",
    "        mskrot2[mskrot2 == 0] = whitespace  # assign whitespace value to background\n",
    "        print(round(time() - start), 'sec elapsed for part D')\n",
    "\n",
    "        plt.imshow(mskrot2)\n",
    "\n",
    "\n",
    "        #save\n",
    "        Image.fromarray(mskrot2.astype('int8')).save(\n",
    "            os.path.join(dst, '{}_sec{:02d}.png'.format(fn, numsec)))\n",
    "\n",
    "        #add to dataframe\n",
    "        df.append({'imname': fn, 'secN': numsec, 'secCent': cent,'degrot': degrot}) #?\n",
    "        df2 = pd.DataFrame(df)\n",
    "        df2.to_csv('CLUEdegrot.csv')"
   ],
   "metadata": {
    "collapsed": false,
    "pycharm": {
     "name": "#%%\n"
    }
   }
  }
 ],
 "metadata": {
  "kernelspec": {
   "display_name": "Python 3",
   "language": "python",
   "name": "python3"
  },
  "language_info": {
   "codemirror_mode": {
    "name": "ipython",
    "version": 2
   },
   "file_extension": ".py",
   "mimetype": "text/x-python",
   "name": "python",
   "nbconvert_exporter": "python",
   "pygments_lexer": "ipython2",
   "version": "2.7.6"
  }
 },
 "nbformat": 4,
 "nbformat_minor": 0
}