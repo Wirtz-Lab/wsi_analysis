{
 "cells": [
  {
   "cell_type": "code",
   "execution_count": 75,
   "metadata": {
    "collapsed": true,
    "pycharm": {
     "name": "#%%\n"
    }
   },
   "outputs": [],
   "source": [
    "#save degree of rotation into CSV\n",
    "    # construct dataframe : columnA filename, columnB: section#, columnC: centroid of section, columnD: degree of rotation\n",
    "\n",
    "#read degree of rotation\n",
    "#read H&E image\n",
    "#mask each section\n",
    "    #read_DL_mask\n",
    "    #label_DL_mask\n",
    "    #label == numsec\n",
    "#rotate H&E image\n",
    "#crop H&E image"
   ]
  },
  {
   "cell_type": "code",
   "execution_count": 76,
   "outputs": [],
   "source": [
    "#this is crop_align HE and DL"
   ],
   "metadata": {
    "collapsed": false,
    "pycharm": {
     "name": "#%%\n"
    }
   }
  },
  {
   "cell_type": "code",
   "execution_count": 77,
   "outputs": [],
   "source": [
    "# imcrop_masked = np.multiply(np.array(imcrop),objmask[..., None].astype(np.bool))"
   ],
   "metadata": {
    "collapsed": false,
    "pycharm": {
     "name": "#%%\n"
    }
   }
  },
  {
   "cell_type": "code",
   "execution_count": 1,
   "outputs": [],
   "source": [
    "import pandas as pd\n",
    "from PIL import Image\n",
    "Image.MAX_IMAGE_PIXELS=None\n",
    "import numpy as np\n",
    "from skimage import util\n",
    "from skimage.measure import label\n",
    "from skimage.morphology import closing, square, remove_small_objects, remove_small_holes\n",
    "from skimage.transform import rotate\n",
    "from math import atan2, degrees\n",
    "import glob,os\n",
    "from natsort import natsorted\n",
    "from copy import deepcopy\n",
    "import cv2\n",
    "from time import time\n",
    "from skimage.measure import regionprops\n",
    "from matplotlib import pyplot as plt"
   ],
   "metadata": {
    "collapsed": false,
    "pycharm": {
     "name": "#%%\n"
    }
   }
  },
  {
   "cell_type": "code",
   "execution_count": 2,
   "outputs": [],
   "source": [
    "def rotate_image_cv2(mat, angle):\n",
    "    \"\"\"\n",
    "    Rotates an image (angle in degrees) and expands image to avoid cropping\n",
    "    \"\"\"\n",
    "\n",
    "    height, width = mat.shape[:2] # image shape has 3 dimensions\n",
    "    image_center = (width/2, height/2) # getRotationMatrix2D needs coordinates in reverse order (width, height) compared to shape\n",
    "\n",
    "    rotation_mat = cv2.getRotationMatrix2D(image_center, angle, 1.)\n",
    "\n",
    "    # rotation calculates the cos and sin, taking absolutes of those.\n",
    "    abs_cos = abs(rotation_mat[0,0])\n",
    "    abs_sin = abs(rotation_mat[0,1])\n",
    "\n",
    "    # find the new width and height bounds\n",
    "    bound_w = int(height * abs_sin + width * abs_cos)\n",
    "    bound_h = int(height * abs_cos + width * abs_sin)\n",
    "\n",
    "    # subtract old image center (bringing image back to origo) and adding the new image center coordinates\n",
    "    rotation_mat[0, 2] += bound_w/2 - image_center[0]\n",
    "    rotation_mat[1, 2] += bound_h/2 - image_center[1]\n",
    "\n",
    "    # rotate image with the new bounds and translated rotation matrix\n",
    "    rotated_mat = cv2.warpAffine(mat, rotation_mat, (bound_w, bound_h))\n",
    "    return rotated_mat"
   ],
   "metadata": {
    "collapsed": false,
    "pycharm": {
     "name": "#%%\n"
    }
   }
  },
  {
   "cell_type": "code",
   "execution_count": 3,
   "outputs": [],
   "source": [
    "# Define minimum sizes of tissue objects at 1um resolution\n",
    "minTA = 60000\n",
    "minTAhole = 100\n",
    "minDermhole = 5000\n",
    "minepisize=1000\n",
    "whitespace=12 #define background pixel value"
   ],
   "metadata": {
    "collapsed": false,
    "pycharm": {
     "name": "#%%\n"
    }
   }
  },
  {
   "cell_type": "code",
   "execution_count": 4,
   "outputs": [],
   "source": [
    "src = r\"\\\\fatherserverdw\\kyuex\\clue images\\1um\"\n",
    "dst = os.path.join(src, 'classification_v9_combined\\crop_TA\\crop_HE_DL')"
   ],
   "metadata": {
    "collapsed": false,
    "pycharm": {
     "name": "#%%\n"
    }
   }
  },
  {
   "cell_type": "code",
   "execution_count": 5,
   "outputs": [],
   "source": [
    "degrot_LUT = pd.read_csv(r\"\\\\fatherserverdw\\kyuex\\clue images\\1um\\classification_v9_combined\\crop_TA\\tmp\\CLUEdegrot.csv\")"
   ],
   "metadata": {
    "collapsed": false,
    "pycharm": {
     "name": "#%%\n"
    }
   }
  },
  {
   "cell_type": "code",
   "execution_count": 6,
   "outputs": [],
   "source": [
    "old_id = -1"
   ],
   "metadata": {
    "collapsed": false,
    "pycharm": {
     "name": "#%%\n"
    }
   }
  },
  {
   "cell_type": "code",
   "execution_count": 7,
   "outputs": [
    {
     "name": "stderr",
     "output_type": "stream",
     "text": [
      "C:\\Users\\kyuha\\AppData\\Local\\Temp\\ipykernel_24520\\2198503193.py:41: DeprecationWarning: `np.bool` is a deprecated alias for the builtin `bool`. To silence this warning, use `bool` by itself. Doing this will not modify any behavior and is safe. If you specifically wanted the numpy scalar type, use `np.bool_` here.\n",
      "Deprecated in NumPy 1.20; for more details and guidance: https://numpy.org/devdocs/release/1.20.0-notes.html#deprecations\n",
      "  unknown = cv2.subtract(sure_bg, sure_fg).astype(np.bool)\n"
     ]
    },
    {
     "name": "stdout",
     "output_type": "stream",
     "text": [
      "section N:  1 / 1\n",
      "section N:  1 / 1\n",
      "section N:  1 / 1\n",
      "section N:  1 / 1\n",
      "section N:  1 / 4\n",
      "section N:  2 / 4\n",
      "section N:  3 / 4\n",
      "section N:  4 / 4\n",
      "section N:  1 / 2\n",
      "section N:  2 / 2\n",
      "section N:  1 / 5\n",
      "section N:  2 / 5\n",
      "section N:  3 / 5\n",
      "section N:  4 / 5\n",
      "section N:  5 / 5\n",
      "section N:  1 / 1\n",
      "section N:  1 / 2\n",
      "section N:  2 / 2\n",
      "section N:  1 / 2\n",
      "section N:  2 / 2\n",
      "section N:  1 / 2\n",
      "section N:  2 / 2\n",
      "section N:  1 / 2\n",
      "section N:  2 / 2\n",
      "section N:  1 / 4\n",
      "section N:  2 / 4\n",
      "section N:  3 / 4\n",
      "section N:  4 / 4\n",
      "section N:  1 / 4\n"
     ]
    },
    {
     "ename": "RuntimeError",
     "evalue": "number of non-zero array elements changed during function execution.",
     "output_type": "error",
     "traceback": [
      "\u001B[1;31m---------------------------------------------------------------------------\u001B[0m",
      "\u001B[1;31mRuntimeError\u001B[0m                              Traceback (most recent call last)",
      "Input \u001B[1;32mIn [7]\u001B[0m, in \u001B[0;36m<cell line: 2>\u001B[1;34m()\u001B[0m\n\u001B[0;32m     89\u001B[0m imrot3 \u001B[38;5;241m=\u001B[39m imrot2[np\u001B[38;5;241m.\u001B[39mmin(xt):np\u001B[38;5;241m.\u001B[39mmax(xt), np\u001B[38;5;241m.\u001B[39mmin(yt):np\u001B[38;5;241m.\u001B[39mmax(yt)]\n\u001B[0;32m     92\u001B[0m \u001B[38;5;66;03m#repeat the step above for the mask\u001B[39;00m\n\u001B[1;32m---> 93\u001B[0m [xt, yt] \u001B[38;5;241m=\u001B[39m \u001B[43mnp\u001B[49m\u001B[38;5;241;43m.\u001B[39;49m\u001B[43mwhere\u001B[49m\u001B[43m(\u001B[49m\u001B[43mTAtmp\u001B[49m\u001B[43m[\u001B[49m\u001B[43m:\u001B[49m\u001B[43m,\u001B[49m\u001B[43m:\u001B[49m\u001B[43m]\u001B[49m\u001B[43m)\u001B[49m\n\u001B[0;32m     94\u001B[0m mskrot \u001B[38;5;241m=\u001B[39mTAtmp[np\u001B[38;5;241m.\u001B[39mmin(xt):np\u001B[38;5;241m.\u001B[39mmax(xt), np\u001B[38;5;241m.\u001B[39mmin(yt):np\u001B[38;5;241m.\u001B[39mmax(yt)]\n\u001B[0;32m     95\u001B[0m mskrot2 \u001B[38;5;241m=\u001B[39m rotate_image_cv2(mskrot, degrot)\n",
      "File \u001B[1;32m<__array_function__ internals>:180\u001B[0m, in \u001B[0;36mwhere\u001B[1;34m(*args, **kwargs)\u001B[0m\n",
      "\u001B[1;31mRuntimeError\u001B[0m: number of non-zero array elements changed during function execution."
     ]
    }
   ],
   "source": [
    "#TODO: iterate through image instead of dataframes,so it's faster\n",
    "for idx, LUT in degrot_LUT.iterrows():\n",
    "    imname = LUT['imname']\n",
    "    imID = LUT['imID']\n",
    "    #if it's the same image but different sections, skip\n",
    "    if(imID == old_id): continue\n",
    "\n",
    "    degrot =  LUT['degrot']\n",
    "    sec = LUT['secN']\n",
    "\n",
    "\n",
    "    im_path =  r\"\\\\fatherserverdw\\kyuex\\clue images\\1um\\{}.tif\".format(imname)\n",
    "    mask_path = r\"\\\\fatherserverdw\\kyuex\\clue images\\1um\\classification_v9_combined\\{}.tif\".format(imname)\n",
    "    im = Image.open(im_path)\n",
    "    mask = Image.open(mask_path)\n",
    "    TAbig = np.array(mask)\n",
    "\n",
    "\n",
    "    #label mask\n",
    "    (width, height) = (mask.width // 10, mask.height // 10) #downsize by 10\n",
    "    mask_resized = mask.resize((width, height), resample=0) #nearest interpolation to rescale\n",
    "    TA = np.array(mask_resized) # convert DL mask to numpy array\n",
    "    # separate touching tissue sections using WATERSHED segmentation\n",
    "    sure_foreground = (2 < TA) & (TA < whitespace - 1) #define tissue section conservatively by removing corneum==1, and removing fat==12, so this foreground does not touch adjacent tissue section for sure.\n",
    "\n",
    "    sure_fg = closing(sure_foreground, square(3))  # 13sec\n",
    "    # remove small objects not connected to the tissue section\n",
    "    sure_fg = remove_small_objects(sure_fg, min_size=minTA, connectivity=2)  # 6sec\n",
    "\n",
    "    sure_fg = remove_small_holes(sure_fg, area_threshold=minTAhole).astype(np.uint8)\n",
    "\n",
    "    bw = closing(TA < whitespace, square(3))  # 12 is background\n",
    "    bw = remove_small_objects(bw, min_size=minTA, connectivity=2)\n",
    "    bw = remove_small_holes(bw, area_threshold=minTAhole)\n",
    "    # morphological opening : erosion followed by an dilation to remove small objects\n",
    "    kernel = np.ones((3, 3), np.uint8)\n",
    "    opening = cv2.morphologyEx(bw.astype(np.uint8), cv2.MORPH_OPEN, kernel, iterations=2)  # 2sec\n",
    "    # dilate to be more lenient in defining tissue section area\n",
    "    sure_bg = cv2.dilate(opening, kernel, iterations=3)\n",
    "\n",
    "    unknown = cv2.subtract(sure_bg, sure_fg).astype(np.bool)\n",
    "\n",
    "    sure_fg_label = label(sure_fg).astype(np.int32)\n",
    "    sure_fg_label = sure_fg_label + 1 #objects are 2~N\n",
    "    sure_fg_label[unknown] = 0 #middle ground is 0\n",
    "\n",
    "    #get labeled image\n",
    "    TAbgr = cv2.cvtColor(TA, cv2.COLOR_GRAY2BGR) #convert downsized DL mask to BGR color channel\n",
    "    label_image = cv2.watershed(TAbgr, sure_fg_label) #apply watershed using fg,bg,mg, defined mask\n",
    "\n",
    "    # iterate each section\n",
    "    epi = (TA == 1) | (TA == 2)\n",
    "    derm = (2 < TA) & (TA < whitespace)\n",
    "    derm = remove_small_holes(derm, area_threshold=minDermhole)\n",
    "\n",
    "    epi2 = epi & ~derm\n",
    "    epi2 = remove_small_objects(epi2, min_size=minepisize, connectivity=2)\n",
    "\n",
    "    numsecmax = np.max(label_image)\n",
    "\n",
    "    #TODO: for each section of the same image, you need to reopen the image each time, which takes up time\n",
    "    for num, numsec in enumerate(range(1,numsecmax)):\n",
    "        #this step updates the degrot of each section\n",
    "        if num > 0:\n",
    "            row = degrot_LUT.iloc[idx+num]\n",
    "            degrot = row['degrot']\n",
    "\n",
    "        print('section N: ', numsec, '/', numsecmax-1)\n",
    "        msktmp = label_image == numsec+1\n",
    "        stats = regionprops(msktmp.astype(np.uint8))\n",
    "        centroid = stats[0].centroid #NOTE:this returns (y,x)!!\n",
    "        cent = (10*centroid[1],10*centroid[0])\n",
    "\n",
    "        TAtmp = deepcopy(TAbig)\n",
    "        mskbig = cv2.resize(msktmp.astype(np.uint8), TAtmp.shape[::-1], interpolation=cv2.INTER_NEAREST)\n",
    "        # delete non-ROI from scaled up ROI\n",
    "        kernel = np.ones((20, 20), np.uint8)\n",
    "        mskbig = cv2.dilate(mskbig, kernel, iterations=3)\n",
    "        TAtmp[mskbig == 0] = 0  #1sec\n",
    "\n",
    "        imcrop = np.multiply(np.array(im),TAtmp[..., None].astype('bool'))\n",
    "\n",
    "        #crop it, rotate it, and then crop it again (or else the matrix is too big for cv2 to process)\n",
    "        [xt, yt] = np.where(imcrop[:,:,0]) #tissue mask to point clouds,don't know why there are three arrays\n",
    "        imrot = imcrop[np.min(xt):np.max(xt), np.min(yt):np.max(yt)]\n",
    "        imrot2 = rotate_image_cv2(imrot, degrot)\n",
    "\n",
    "        [xt, yt] = np.where(imrot2[:,:,0]) #tissue mask to point clouds,don't know why there are three arrays\n",
    "        imrot3 = imrot2[np.min(xt):np.max(xt), np.min(yt):np.max(yt)]\n",
    "\n",
    "\n",
    "        #repeat the step above for the mask\n",
    "        [xt, yt] = np.where(TAtmp[:,:])\n",
    "        mskrot =TAtmp[np.min(xt):np.max(xt), np.min(yt):np.max(yt)]\n",
    "        mskrot2 = rotate_image_cv2(mskrot, degrot)\n",
    "\n",
    "        [xt, yt] = np.where(mskrot2)\n",
    "        mskrot3 = mskrot2[np.min(xt):np.max(xt), np.min(yt):np.max(yt)]\n",
    "\n",
    "        # if dermis is above epidermis, flip it\n",
    "        [xt, yt] = np.where(mskrot3)\n",
    "        [xt2, yt2] = np.where((mskrot3 == 1) | (mskrot3 == 2))\n",
    "        if np.mean(xt) - np.mean(xt2) < 0:\n",
    "            imrot3 = np.rot90(np.rot90(imrot3))\n",
    "            mskrot3 = np.rot90(np.rot90(mskrot3))\n",
    "\n",
    "        imrot3[imrot3 == 0] = 235  # assign whitespace value to background\n",
    "        mskrot3[mskrot3 == 0] = whitespace\n",
    "\n",
    "        Image.fromarray(imrot3).save(\n",
    "            os.path.join(*[dst, 'im','{}_sec{:02d}.png'.format(imname, numsec)]))\n",
    "\n",
    "        Image.fromarray(mskrot3).save(\n",
    "            os.path.join(*[dst, 'mask','{}_sec{:02d}.png'.format(imname, numsec)]))\n",
    "\n",
    "    old_id = imID"
   ],
   "metadata": {
    "collapsed": false,
    "pycharm": {
     "name": "#%%\n"
    }
   }
  },
  {
   "cell_type": "code",
   "execution_count": null,
   "outputs": [],
   "source": [],
   "metadata": {
    "collapsed": false,
    "pycharm": {
     "name": "#%%\n"
    }
   }
  }
 ],
 "metadata": {
  "kernelspec": {
   "display_name": "Python 3",
   "language": "python",
   "name": "python3"
  },
  "language_info": {
   "codemirror_mode": {
    "name": "ipython",
    "version": 2
   },
   "file_extension": ".py",
   "mimetype": "text/x-python",
   "name": "python",
   "nbconvert_exporter": "python",
   "pygments_lexer": "ipython2",
   "version": "2.7.6"
  }
 },
 "nbformat": 4,
 "nbformat_minor": 0
}