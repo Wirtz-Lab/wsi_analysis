{
 "cells": [
  {
   "cell_type": "code",
   "execution_count": null,
   "outputs": [],
   "source": [
    "#track top left corner of the DL mask and see how it rotates\n",
    "#revert the DL crop back to the original DL mask (size, orientation...)\n",
    "#1.rotate DL mask\n",
    "#we want to paste the crop back on the dl mask\n",
    "#"
   ],
   "metadata": {
    "collapsed": false,
    "pycharm": {
     "name": "#%%\n"
    }
   }
  },
  {
   "cell_type": "code",
   "execution_count": null,
   "outputs": [],
   "source": [
    "#cv2 bitwise_or\n",
    "#only works on images with the same dimension, it overlaps the images\n",
    "\n",
    "# paste image by centroid\n",
    "# might need the mask again.\n",
    "# we can try to calculate the difference between the new centroid and the original centroid"
   ],
   "metadata": {
    "collapsed": false,
    "pycharm": {
     "name": "#%%\n"
    }
   }
  },
  {
   "cell_type": "code",
   "execution_count": null,
   "outputs": [],
   "source": [
    "import pandas as pd\n",
    "from PIL import Image\n",
    "Image.MAX_IMAGE_PIXELS=None\n",
    "import numpy as np\n",
    "from skimage.measure import label\n",
    "from skimage.morphology import closing, square, remove_small_objects, remove_small_holes\n",
    "from skimage.transform import rotate\n",
    "from math import atan2, degrees\n",
    "import glob,os\n",
    "from natsort import natsorted\n",
    "from copy import deepcopy\n",
    "import cv2\n",
    "from time import time\n",
    "from skimage.measure import regionprops\n",
    "from matplotlib import pyplot as plt"
   ],
   "metadata": {
    "collapsed": false,
    "pycharm": {
     "name": "#%%\n"
    }
   }
  },
  {
   "cell_type": "code",
   "execution_count": null,
   "outputs": [],
   "source": [
    "def rotate_image_cv2(mat, angle,is_mask):\n",
    "    \"\"\"\n",
    "    Rotates an image (angle in degrees) and expands image to avoid cropping\n",
    "    \"\"\"\n",
    "\n",
    "    height, width = mat.shape[:2] # image shape has 3 dimensions\n",
    "    image_center = (width/2, height/2) # getRotationMatrix2D needs coordinates in reverse order (width, height) compared to shape\n",
    "\n",
    "    rotation_mat = cv2.getRotationMatrix2D(image_center, angle, 1.)\n",
    "\n",
    "    # rotation calculates the cos and sin, taking absolutes of those.\n",
    "    abs_cos = abs(rotation_mat[0,0])\n",
    "    abs_sin = abs(rotation_mat[0,1])\n",
    "\n",
    "    # find the new width and height bounds\n",
    "    bound_w = int(height * abs_sin + width * abs_cos)\n",
    "    bound_h = int(height * abs_cos + width * abs_sin)\n",
    "\n",
    "    # subtract old image center (bringing image back to origo) and adding the new image center coordinates\n",
    "    rotation_mat[0, 2] += bound_w/2 - image_center[0]\n",
    "    rotation_mat[1, 2] += bound_h/2 - image_center[1]\n",
    "\n",
    "    rotated_mat = cv2.warpAffine(mat, rotation_mat, (bound_w, bound_h))\n",
    "\n",
    "    return rotated_mat"
   ],
   "metadata": {
    "collapsed": false,
    "pycharm": {
     "name": "#%%\n"
    }
   }
  },
  {
   "cell_type": "code",
   "execution_count": null,
   "outputs": [],
   "source": [
    "src = r\"\\\\fatherserverdw\\kyuex\\clue images\\1um\"\n",
    "dst = os.path.join(src, 'classification_v9_combined\\crop_TA\\crop_HE_DL')"
   ],
   "metadata": {
    "collapsed": false,
    "pycharm": {
     "name": "#%%\n"
    }
   }
  },
  {
   "cell_type": "code",
   "execution_count": null,
   "outputs": [],
   "source": [
    "\n",
    "degrot_LUT = pd.read_csv(r\"\\\\fatherserverdw\\kyuex\\clue images\\1um\\classification_v9_combined\\crop_TA\\crop_HE_DL\\new_CLUEdegrot.csv\")"
   ],
   "metadata": {
    "collapsed": false,
    "pycharm": {
     "name": "#%%\n"
    }
   }
  },
  {
   "cell_type": "code",
   "execution_count": null,
   "outputs": [],
   "source": [
    "degrot_LUT"
   ],
   "metadata": {
    "collapsed": false,
    "pycharm": {
     "name": "#%%\n"
    }
   }
  },
  {
   "cell_type": "code",
   "execution_count": null,
   "outputs": [],
   "source": [
    "LUT = degrot_LUT.iloc[0]\n",
    "\n",
    "imname = LUT['imname']\n",
    "imID = LUT['imID']\n",
    "degrot =  LUT['degrot']\n",
    "sec = LUT['secN']\n",
    "cent = LUT['centroid']\n"
   ],
   "metadata": {
    "collapsed": false,
    "pycharm": {
     "name": "#%%\n"
    }
   }
  },
  {
   "cell_type": "code",
   "execution_count": null,
   "outputs": [],
   "source": [
    "\n",
    "\n",
    "mask_path = r\"\\\\fatherserverdw\\kyuex\\clue images\\1um\\classification_v9_combined\\{}.tif\".format(imname)\n",
    "mask = Image.open(mask_path)\n",
    "im_path =  r\"\\\\fatherserverdw\\kyuex\\clue images\\1um\\{}.tif\".format(imname)\n",
    "im = Image.open(im_path)"
   ],
   "metadata": {
    "collapsed": false,
    "pycharm": {
     "name": "#%%\n"
    }
   }
  },
  {
   "cell_type": "code",
   "execution_count": null,
   "outputs": [],
   "source": [
    "DLcrop_pth = r\"\\\\fatherserverdw\\kyuex\\clue images\\1um\\classification_v9_combined\\crop_TA\\crop_HE_DL\\im\\{}.png\".format(imname + '_sec01')\n",
    "DLcrop = Image.open(DLcrop_pth)\n",
    "\n",
    "#the mask and the image are not the same size\n",
    "DLmask_pth =  r\"\\\\fatherserverdw\\kyuex\\clue images\\1um\\classification_v9_combined\\crop_TA\\crop_HE_DL\\mask\\{}.png\".format(imname + '_sec01')\n",
    "DLmask = Image.open(DLmask_pth)\n",
    "\n",
    "DLmsk_arr = np.array(DLmask)\n"
   ],
   "metadata": {
    "collapsed": false,
    "pycharm": {
     "name": "#%%\n"
    }
   }
  },
  {
   "cell_type": "code",
   "execution_count": null,
   "outputs": [],
   "source": [
    "if(DLmask.size != DLcrop.size):\n",
    "    new_msk = np.zeros((DLcrop.size[1],DLcrop.size[0]))\n",
    "\n",
    "    #change this to be more efficient (copy larger image onto a smaller image\n",
    "    for i in range(0,DLmsk_arr.shape[0]):\n",
    "         for k in range(0,DLmsk_arr.shape[1]):\n",
    "           new_msk[i,k] = DLmsk_arr[i,k]\n"
   ],
   "metadata": {
    "collapsed": false,
    "pycharm": {
     "name": "#%%\n"
    }
   }
  },
  {
   "cell_type": "code",
   "execution_count": null,
   "outputs": [],
   "source": [
    "#size of original whole-slide image\n",
    "h,w = im.size\n"
   ],
   "metadata": {
    "collapsed": false,
    "pycharm": {
     "name": "#%%\n"
    }
   }
  },
  {
   "cell_type": "code",
   "execution_count": null,
   "outputs": [],
   "source": [
    "#the section ids  don't matter because i just want ones and zeros\n",
    "new_msk[new_msk == 0] = 1\n",
    "new_msk[new_msk == 12] = 0"
   ],
   "metadata": {
    "collapsed": false,
    "pycharm": {
     "name": "#%%\n"
    }
   }
  },
  {
   "cell_type": "code",
   "execution_count": null,
   "outputs": [],
   "source": [
    "#rotate crop back to original orientation\n",
    "im_rot = rotate_image_cv2(np.array(DLcrop), -degrot,False)\n",
    "\n",
    "#weird line on the image\n",
    "msk_rot = rotate_image_cv2(new_msk.astype('uint8'), -degrot,True)"
   ],
   "metadata": {
    "collapsed": false,
    "pycharm": {
     "name": "#%%\n"
    }
   }
  },
  {
   "cell_type": "code",
   "execution_count": null,
   "outputs": [],
   "source": [
    "plt.imshow(msk_rot)"
   ],
   "metadata": {
    "collapsed": false,
    "pycharm": {
     "name": "#%%\n"
    }
   }
  },
  {
   "cell_type": "code",
   "execution_count": null,
   "outputs": [],
   "source": [
    "\n",
    "[xt, yt] = np.where(msk_rot != 0) #tissue mask to point clouds,don't know why there are three arrays\n",
    "mskcrop = msk_rot[np.min(xt):np.max(xt), np.min(yt):np.max(yt)]"
   ],
   "metadata": {
    "collapsed": false,
    "pycharm": {
     "name": "#%%\n"
    }
   }
  },
  {
   "cell_type": "code",
   "execution_count": null,
   "outputs": [],
   "source": [
    "msk_rot"
   ],
   "metadata": {
    "collapsed": false,
    "pycharm": {
     "name": "#%%\n"
    }
   }
  },
  {
   "cell_type": "code",
   "execution_count": null,
   "outputs": [],
   "source": [
    "np.min(yt)"
   ],
   "metadata": {
    "collapsed": false,
    "pycharm": {
     "name": "#%%\n"
    }
   }
  },
  {
   "cell_type": "code",
   "execution_count": null,
   "outputs": [],
   "source": [
    "mskcrop.shape"
   ],
   "metadata": {
    "collapsed": false,
    "pycharm": {
     "name": "#%%\n"
    }
   }
  },
  {
   "cell_type": "code",
   "execution_count": null,
   "outputs": [],
   "source": [
    "msk_rot.shape"
   ],
   "metadata": {
    "collapsed": false,
    "pycharm": {
     "name": "#%%\n"
    }
   }
  },
  {
   "cell_type": "code",
   "execution_count": null,
   "outputs": [],
   "source": [
    "(w,h)"
   ],
   "metadata": {
    "collapsed": false,
    "pycharm": {
     "name": "#%%\n"
    }
   }
  },
  {
   "cell_type": "code",
   "execution_count": null,
   "outputs": [],
   "source": [
    "plt.imshow(mskcrop)"
   ],
   "metadata": {
    "collapsed": false,
    "pycharm": {
     "name": "#%%\n"
    }
   }
  },
  {
   "cell_type": "code",
   "execution_count": null,
   "outputs": [],
   "source": [
    "msk_rot[msk_rot == 0] = 1\n",
    "msk_rot[msk_rot == 12] = 0\n",
    "msk_rot[msk_rot != 0] = 1"
   ],
   "metadata": {
    "collapsed": false,
    "pycharm": {
     "name": "#%%\n"
    }
   }
  },
  {
   "cell_type": "code",
   "execution_count": null,
   "outputs": [],
   "source": [
    "empty = np.zeros((w,h)).astype('bool')"
   ],
   "metadata": {
    "collapsed": false,
    "pycharm": {
     "name": "#%%\n"
    }
   }
  },
  {
   "cell_type": "code",
   "execution_count": null,
   "outputs": [],
   "source": [
    "msk_crop ="
   ],
   "metadata": {
    "collapsed": false,
    "pycharm": {
     "name": "#%%\n"
    }
   }
  },
  {
   "cell_type": "code",
   "execution_count": null,
   "outputs": [],
   "source": [],
   "metadata": {
    "collapsed": false,
    "pycharm": {
     "name": "#%%\n"
    }
   }
  },
  {
   "cell_type": "code",
   "execution_count": 3,
   "outputs": [],
   "source": [
    "#cv2 bitwise_or\n",
    "#only works on images with the same dimension, it overlaps the images\n",
    "\n",
    "# paste image by centroid\n",
    "# might need the mask again.\n",
    "# we can try to calculate the difference between the new centroid and the original centroid"
   ],
   "metadata": {
    "collapsed": false,
    "pycharm": {
     "name": "#%%\n"
    }
   }
  },
  {
   "cell_type": "code",
   "execution_count": 4,
   "outputs": [],
   "source": [
    "import pandas as pd\n",
    "from PIL import Image\n",
    "Image.MAX_IMAGE_PIXELS=None\n",
    "import numpy as np\n",
    "from skimage.measure import label\n",
    "from skimage.morphology import closing, square, remove_small_objects, remove_small_holes\n",
    "from skimage.transform import rotate\n",
    "from math import atan2, degrees\n",
    "import glob,os\n",
    "from natsort import natsorted\n",
    "from copy import deepcopy\n",
    "import cv2\n",
    "from time import time\n",
    "from skimage.measure import regionprops\n",
    "from matplotlib import pyplot as plt"
   ],
   "metadata": {
    "collapsed": false,
    "pycharm": {
     "name": "#%%\n"
    }
   }
  },
  {
   "cell_type": "code",
   "execution_count": 251,
   "outputs": [],
   "source": [
    "def rotate_image_cv2(mat, angle,is_mask):\n",
    "    \"\"\"\n",
    "    Rotates an image (angle in degrees) and expands image to avoid cropping\n",
    "    \"\"\"\n",
    "\n",
    "    height, width = mat.shape[:2] # image shape has 3 dimensions\n",
    "    image_center = (width/2, height/2) # getRotationMatrix2D needs coordinates in reverse order (width, height) compared to shape\n",
    "\n",
    "    rotation_mat = cv2.getRotationMatrix2D(image_center, angle, 1.)\n",
    "\n",
    "    # rotation calculates the cos and sin, taking absolutes of those.\n",
    "    abs_cos = abs(rotation_mat[0,0])\n",
    "    abs_sin = abs(rotation_mat[0,1])\n",
    "\n",
    "    # find the new width and height bounds\n",
    "    bound_w = int(height * abs_sin + width * abs_cos)\n",
    "    bound_h = int(height * abs_cos + width * abs_sin)\n",
    "\n",
    "    # subtract old image center (bringing image back to origo) and adding the new image center coordinates\n",
    "    rotation_mat[0, 2] += bound_w/2 - image_center[0]\n",
    "    rotation_mat[1, 2] += bound_h/2 - image_center[1]\n",
    "\n",
    "    rotated_mat = cv2.warpAffine(mat, rotation_mat, (bound_w, bound_h))\n",
    "\n",
    "    return rotated_mat"
   ],
   "metadata": {
    "collapsed": false,
    "pycharm": {
     "name": "#%%\n"
    }
   }
  },
  {
   "cell_type": "code",
   "execution_count": 252,
   "outputs": [],
   "source": [
    "src = r\"\\\\fatherserverdw\\kyuex\\clue images\\1um\"\n",
    "dst = os.path.join(src, 'classification_v9_combined\\crop_TA\\crop_HE_DL')"
   ],
   "metadata": {
    "collapsed": false,
    "pycharm": {
     "name": "#%%\n"
    }
   }
  },
  {
   "cell_type": "code",
   "execution_count": 253,
   "outputs": [],
   "source": [
    "\n",
    "degrot_LUT = pd.read_csv(r\"\\\\fatherserverdw\\kyuex\\clue images\\1um\\classification_v9_combined\\crop_TA\\crop_HE_DL\\new_CLUEdegrot.csv\")"
   ],
   "metadata": {
    "collapsed": false,
    "pycharm": {
     "name": "#%%\n"
    }
   }
  },
  {
   "cell_type": "code",
   "execution_count": 254,
   "outputs": [
    {
     "data": {
      "text/plain": "    Unnamed: 0.1  Unnamed: 0  imID               imname  secN  \\\n0              0           0     0  2022-06-07 14.27.44     1   \n1              1           1     1  2022-06-07 14.32.24     1   \n2              2           2     2  2022-06-07 14.34.59     1   \n3              3           3     3  2022-06-07 14.37.19     1   \n4              4           4     4  2022-06-07 16.13.52     1   \n5              5           5     4  2022-06-07 16.13.52     2   \n6              6           6     4  2022-06-07 16.13.52     3   \n7              7           7     4  2022-06-07 16.13.52     4   \n8              8           8     5  2022-06-07 17.24.15     1   \n9              9           9     5  2022-06-07 17.24.15     2   \n10            10          10     6  2022-06-07 17.43.53     1   \n11            11          11     6  2022-06-07 17.43.53     2   \n12            12          12     6  2022-06-07 17.43.53     3   \n13            13          13     6  2022-06-07 17.43.53     4   \n14            14          14     6  2022-06-07 17.43.53     5   \n\n                                                    k  degrot  \\\n0   [ 0.33982065  0.94049026 -0.94049026  0.33982065]  160.13   \n1   [-0.13191004 -0.99126169  0.99126169 -0.13191004]  352.42   \n2   [ 0.31836081  0.94796962 -0.94796962  0.31836081]  161.44   \n3   [-0.53153658 -0.84703534  0.84703534 -0.53153658]  327.89   \n4   [ 0.38013247  0.92493205  0.92493205 -0.38013247]   22.34   \n5   [ 0.4366632   0.89962506  0.89962506 -0.4366632 ]   25.89   \n6   [ 0.38595748  0.92251657  0.92251657 -0.38595748]   22.70   \n7   [-0.25799689 -0.96614575 -0.96614575  0.25799689]  194.95   \n8   [ 0.44819642  0.8939351   0.8939351  -0.44819642]   26.63   \n9   [ 0.48687151  0.8734736   0.8734736  -0.48687151]   29.14   \n10  [ 0.98335286  0.18170623 -0.18170623  0.98335286]  100.47   \n11  [ 0.99666952  0.08154669  0.08154669 -0.99666952]   85.32   \n12  [ 0.39242607 -0.91978355 -0.91978355 -0.39242607]  156.89   \n13  [ 0.76951054  0.63863411 -0.63863411  0.76951054]  129.69   \n14  [-0.09344734 -0.99562422  0.99562422 -0.09344734]  354.64   \n\n                                    centroid  \n0     (9319.690124103598, 8086.429334669696)  \n1    (14333.236200958356, 5900.067819168355)  \n2      (9890.519811487757, 5622.40267381882)  \n3     (8653.761477488122, 4747.436996898308)  \n4    (11372.527128647533, 5030.097351796957)  \n5     (25698.40520889134, 6008.134870711241)  \n6    (9569.144164100746, 12781.550714150342)  \n7   (25412.454828099595, 14437.731346141207)  \n8     (12316.50920598856, 4217.289909522457)  \n9   (6811.3017028114955, 10162.077581167496)  \n10  (16690.285347096353, 3466.6932915527427)  \n11   (11575.393859157797, 6965.653841309318)  \n12   (4708.625362647848, 7151.3460102965055)  \n13  (24341.026274045136, 10469.868313617033)  \n14   (20279.122692239267, 8272.141188758616)  ",
      "text/html": "<div>\n<style scoped>\n    .dataframe tbody tr th:only-of-type {\n        vertical-align: middle;\n    }\n\n    .dataframe tbody tr th {\n        vertical-align: top;\n    }\n\n    .dataframe thead th {\n        text-align: right;\n    }\n</style>\n<table border=\"1\" class=\"dataframe\">\n  <thead>\n    <tr style=\"text-align: right;\">\n      <th></th>\n      <th>Unnamed: 0.1</th>\n      <th>Unnamed: 0</th>\n      <th>imID</th>\n      <th>imname</th>\n      <th>secN</th>\n      <th>k</th>\n      <th>degrot</th>\n      <th>centroid</th>\n    </tr>\n  </thead>\n  <tbody>\n    <tr>\n      <th>0</th>\n      <td>0</td>\n      <td>0</td>\n      <td>0</td>\n      <td>2022-06-07 14.27.44</td>\n      <td>1</td>\n      <td>[ 0.33982065  0.94049026 -0.94049026  0.33982065]</td>\n      <td>160.13</td>\n      <td>(9319.690124103598, 8086.429334669696)</td>\n    </tr>\n    <tr>\n      <th>1</th>\n      <td>1</td>\n      <td>1</td>\n      <td>1</td>\n      <td>2022-06-07 14.32.24</td>\n      <td>1</td>\n      <td>[-0.13191004 -0.99126169  0.99126169 -0.13191004]</td>\n      <td>352.42</td>\n      <td>(14333.236200958356, 5900.067819168355)</td>\n    </tr>\n    <tr>\n      <th>2</th>\n      <td>2</td>\n      <td>2</td>\n      <td>2</td>\n      <td>2022-06-07 14.34.59</td>\n      <td>1</td>\n      <td>[ 0.31836081  0.94796962 -0.94796962  0.31836081]</td>\n      <td>161.44</td>\n      <td>(9890.519811487757, 5622.40267381882)</td>\n    </tr>\n    <tr>\n      <th>3</th>\n      <td>3</td>\n      <td>3</td>\n      <td>3</td>\n      <td>2022-06-07 14.37.19</td>\n      <td>1</td>\n      <td>[-0.53153658 -0.84703534  0.84703534 -0.53153658]</td>\n      <td>327.89</td>\n      <td>(8653.761477488122, 4747.436996898308)</td>\n    </tr>\n    <tr>\n      <th>4</th>\n      <td>4</td>\n      <td>4</td>\n      <td>4</td>\n      <td>2022-06-07 16.13.52</td>\n      <td>1</td>\n      <td>[ 0.38013247  0.92493205  0.92493205 -0.38013247]</td>\n      <td>22.34</td>\n      <td>(11372.527128647533, 5030.097351796957)</td>\n    </tr>\n    <tr>\n      <th>5</th>\n      <td>5</td>\n      <td>5</td>\n      <td>4</td>\n      <td>2022-06-07 16.13.52</td>\n      <td>2</td>\n      <td>[ 0.4366632   0.89962506  0.89962506 -0.4366632 ]</td>\n      <td>25.89</td>\n      <td>(25698.40520889134, 6008.134870711241)</td>\n    </tr>\n    <tr>\n      <th>6</th>\n      <td>6</td>\n      <td>6</td>\n      <td>4</td>\n      <td>2022-06-07 16.13.52</td>\n      <td>3</td>\n      <td>[ 0.38595748  0.92251657  0.92251657 -0.38595748]</td>\n      <td>22.70</td>\n      <td>(9569.144164100746, 12781.550714150342)</td>\n    </tr>\n    <tr>\n      <th>7</th>\n      <td>7</td>\n      <td>7</td>\n      <td>4</td>\n      <td>2022-06-07 16.13.52</td>\n      <td>4</td>\n      <td>[-0.25799689 -0.96614575 -0.96614575  0.25799689]</td>\n      <td>194.95</td>\n      <td>(25412.454828099595, 14437.731346141207)</td>\n    </tr>\n    <tr>\n      <th>8</th>\n      <td>8</td>\n      <td>8</td>\n      <td>5</td>\n      <td>2022-06-07 17.24.15</td>\n      <td>1</td>\n      <td>[ 0.44819642  0.8939351   0.8939351  -0.44819642]</td>\n      <td>26.63</td>\n      <td>(12316.50920598856, 4217.289909522457)</td>\n    </tr>\n    <tr>\n      <th>9</th>\n      <td>9</td>\n      <td>9</td>\n      <td>5</td>\n      <td>2022-06-07 17.24.15</td>\n      <td>2</td>\n      <td>[ 0.48687151  0.8734736   0.8734736  -0.48687151]</td>\n      <td>29.14</td>\n      <td>(6811.3017028114955, 10162.077581167496)</td>\n    </tr>\n    <tr>\n      <th>10</th>\n      <td>10</td>\n      <td>10</td>\n      <td>6</td>\n      <td>2022-06-07 17.43.53</td>\n      <td>1</td>\n      <td>[ 0.98335286  0.18170623 -0.18170623  0.98335286]</td>\n      <td>100.47</td>\n      <td>(16690.285347096353, 3466.6932915527427)</td>\n    </tr>\n    <tr>\n      <th>11</th>\n      <td>11</td>\n      <td>11</td>\n      <td>6</td>\n      <td>2022-06-07 17.43.53</td>\n      <td>2</td>\n      <td>[ 0.99666952  0.08154669  0.08154669 -0.99666952]</td>\n      <td>85.32</td>\n      <td>(11575.393859157797, 6965.653841309318)</td>\n    </tr>\n    <tr>\n      <th>12</th>\n      <td>12</td>\n      <td>12</td>\n      <td>6</td>\n      <td>2022-06-07 17.43.53</td>\n      <td>3</td>\n      <td>[ 0.39242607 -0.91978355 -0.91978355 -0.39242607]</td>\n      <td>156.89</td>\n      <td>(4708.625362647848, 7151.3460102965055)</td>\n    </tr>\n    <tr>\n      <th>13</th>\n      <td>13</td>\n      <td>13</td>\n      <td>6</td>\n      <td>2022-06-07 17.43.53</td>\n      <td>4</td>\n      <td>[ 0.76951054  0.63863411 -0.63863411  0.76951054]</td>\n      <td>129.69</td>\n      <td>(24341.026274045136, 10469.868313617033)</td>\n    </tr>\n    <tr>\n      <th>14</th>\n      <td>14</td>\n      <td>14</td>\n      <td>6</td>\n      <td>2022-06-07 17.43.53</td>\n      <td>5</td>\n      <td>[-0.09344734 -0.99562422  0.99562422 -0.09344734]</td>\n      <td>354.64</td>\n      <td>(20279.122692239267, 8272.141188758616)</td>\n    </tr>\n  </tbody>\n</table>\n</div>"
     },
     "execution_count": 254,
     "metadata": {},
     "output_type": "execute_result"
    }
   ],
   "source": [
    "degrot_LUT"
   ],
   "metadata": {
    "collapsed": false,
    "pycharm": {
     "name": "#%%\n"
    }
   }
  },
  {
   "cell_type": "code",
   "execution_count": 255,
   "outputs": [],
   "source": [
    "LUT = degrot_LUT.iloc[0]\n",
    "\n",
    "imname = LUT['imname']\n",
    "imID = LUT['imID']\n",
    "degrot =  LUT['degrot']\n",
    "sec = LUT['secN']\n",
    "cent = LUT['centroid']\n"
   ],
   "metadata": {
    "collapsed": false,
    "pycharm": {
     "name": "#%%\n"
    }
   }
  },
  {
   "cell_type": "code",
   "execution_count": 256,
   "outputs": [],
   "source": [
    "\n",
    "\n",
    "mask_path = r\"\\\\fatherserverdw\\kyuex\\clue images\\1um\\classification_v9_combined\\{}.tif\".format(imname)\n",
    "mask = Image.open(mask_path)\n",
    "im_path =  r\"\\\\fatherserverdw\\kyuex\\clue images\\1um\\{}.tif\".format(imname)\n",
    "im = Image.open(im_path)"
   ],
   "metadata": {
    "collapsed": false,
    "pycharm": {
     "name": "#%%\n"
    }
   }
  },
  {
   "cell_type": "code",
   "execution_count": 260,
   "outputs": [],
   "source": [
    "DLcrop_pth = r\"\\\\fatherserverdw\\kyuex\\clue images\\1um\\classification_v9_combined\\crop_TA\\crop_HE_DL\\im\\{}.png\".format(imname + '_sec01')\n",
    "DLcrop = Image.open(DLcrop_pth)\n",
    "\n",
    "#the mask and the image are not the same size\n",
    "DLmask_pth =  r\"\\\\fatherserverdw\\kyuex\\clue images\\1um\\classification_v9_combined\\crop_TA\\crop_HE_DL\\mask\\{}.png\".format(imname + '_sec01')\n",
    "DLmask = Image.open(DLmask_pth)\n",
    "\n",
    "DLmsk_arr = np.array(DLmask)\n"
   ],
   "metadata": {
    "collapsed": false,
    "pycharm": {
     "name": "#%%\n"
    }
   }
  },
  {
   "cell_type": "code",
   "execution_count": 261,
   "outputs": [],
   "source": [
    "if(DLmask.size != DLcrop.size):\n",
    "    new_msk = np.zeros((DLcrop.size[1],DLcrop.size[0]))\n",
    "\n",
    "    #change this to be more efficient (copy larger image onto a smaller image\n",
    "    for i in range(0,DLmsk_arr.shape[0]):\n",
    "         for k in range(0,DLmsk_arr.shape[1]):\n",
    "           new_msk[i,k] = DLmsk_arr[i,k]\n"
   ],
   "metadata": {
    "collapsed": false,
    "pycharm": {
     "name": "#%%\n"
    }
   }
  },
  {
   "cell_type": "code",
   "execution_count": 262,
   "outputs": [],
   "source": [
    "#size of original whole-slide image\n",
    "h,w = im.size\n"
   ],
   "metadata": {
    "collapsed": false,
    "pycharm": {
     "name": "#%%\n"
    }
   }
  },
  {
   "cell_type": "code",
   "execution_count": 263,
   "outputs": [],
   "source": [
    "#the section ids  don't matter because i just want ones and zeros\n",
    "new_msk[new_msk == 0] = 1\n",
    "new_msk[new_msk == 12] = 0"
   ],
   "metadata": {
    "collapsed": false,
    "pycharm": {
     "name": "#%%\n"
    }
   }
  },
  {
   "cell_type": "code",
   "execution_count": 264,
   "outputs": [],
   "source": [
    "#rotate crop back to original orientation\n",
    "im_rot = rotate_image_cv2(np.array(DLcrop), -degrot,False)\n",
    "\n",
    "#weird line on the image\n",
    "msk_rot = rotate_image_cv2(new_msk.astype('uint8'), -degrot,True)"
   ],
   "metadata": {
    "collapsed": false,
    "pycharm": {
     "name": "#%%\n"
    }
   }
  },
  {
   "cell_type": "code",
   "execution_count": 268,
   "outputs": [
    {
     "data": {
      "text/plain": "<matplotlib.image.AxesImage at 0x172ba0f8d60>"
     },
     "execution_count": 268,
     "metadata": {},
     "output_type": "execute_result"
    },
    {
     "data": {
      "text/plain": "<Figure size 432x288 with 1 Axes>",
      "image/png": "[encoded data removed]"
     },
     "metadata": {
      "needs_background": "light"
     },
     "output_type": "display_data"
    }
   ],
   "source": [
    "plt.imshow(msk_rot)"
   ],
   "metadata": {
    "collapsed": false,
    "pycharm": {
     "name": "#%%\n"
    }
   }
  },
  {
   "cell_type": "code",
   "execution_count": 283,
   "outputs": [],
   "source": [
    "\n",
    "[xt, yt] = np.where(msk_rot != 0) #tissue mask to point clouds,don't know why there are three arrays\n",
    "mskcrop = msk_rot[np.min(xt):np.max(xt), np.min(yt):np.max(yt)]"
   ],
   "metadata": {
    "collapsed": false,
    "pycharm": {
     "name": "#%%\n"
    }
   }
  },
  {
   "cell_type": "code",
   "execution_count": 277,
   "outputs": [
    {
     "data": {
      "text/plain": "array([[0, 0, 0, ..., 0, 0, 0],\n       [0, 0, 0, ..., 0, 0, 0],\n       [0, 0, 0, ..., 0, 0, 0],\n       ...,\n       [0, 0, 0, ..., 0, 0, 0],\n       [0, 0, 0, ..., 0, 0, 0],\n       [0, 0, 0, ..., 0, 0, 0]], dtype=uint8)"
     },
     "execution_count": 277,
     "metadata": {},
     "output_type": "execute_result"
    }
   ],
   "source": [
    "msk_rot"
   ],
   "metadata": {
    "collapsed": false,
    "pycharm": {
     "name": "#%%\n"
    }
   }
  },
  {
   "cell_type": "code",
   "execution_count": 272,
   "outputs": [
    {
     "data": {
      "text/plain": "1"
     },
     "execution_count": 272,
     "metadata": {},
     "output_type": "execute_result"
    }
   ],
   "source": [
    "np.min(yt)"
   ],
   "metadata": {
    "collapsed": false,
    "pycharm": {
     "name": "#%%\n"
    }
   }
  },
  {
   "cell_type": "code",
   "execution_count": 269,
   "outputs": [
    {
     "data": {
      "text/plain": "(14336, 21948)"
     },
     "execution_count": 269,
     "metadata": {},
     "output_type": "execute_result"
    }
   ],
   "source": [
    "mskcrop.shape"
   ],
   "metadata": {
    "collapsed": false,
    "pycharm": {
     "name": "#%%\n"
    }
   }
  },
  {
   "cell_type": "code",
   "execution_count": 270,
   "outputs": [
    {
     "data": {
      "text/plain": "(15766, 22721)"
     },
     "execution_count": 270,
     "metadata": {},
     "output_type": "execute_result"
    }
   ],
   "source": [
    "msk_rot.shape"
   ],
   "metadata": {
    "collapsed": false,
    "pycharm": {
     "name": "#%%\n"
    }
   }
  },
  {
   "cell_type": "code",
   "execution_count": 271,
   "outputs": [
    {
     "data": {
      "text/plain": "(14301, 21196)"
     },
     "execution_count": 271,
     "metadata": {},
     "output_type": "execute_result"
    }
   ],
   "source": [
    "(w,h)"
   ],
   "metadata": {
    "collapsed": false,
    "pycharm": {
     "name": "#%%\n"
    }
   }
  },
  {
   "cell_type": "code",
   "execution_count": 284,
   "outputs": [
    {
     "data": {
      "text/plain": "<matplotlib.image.AxesImage at 0x172ba250970>"
     },
     "execution_count": 284,
     "metadata": {},
     "output_type": "execute_result"
    },
    {
     "data": {
      "text/plain": "<Figure size 432x288 with 1 Axes>",
      "image/png": "[encoded data removed]"
     },
     "metadata": {
      "needs_background": "light"
     },
     "output_type": "display_data"
    }
   ],
   "source": [
    "plt.imshow(mskcrop)"
   ],
   "metadata": {
    "collapsed": false,
    "pycharm": {
     "name": "#%%\n"
    }
   }
  },
  {
   "cell_type": "code",
   "execution_count": 229,
   "outputs": [],
   "source": [
    "msk_rot[msk_rot == 0] = 1\n",
    "msk_rot[msk_rot == 12] = 0\n",
    "msk_rot[msk_rot != 0] = 1"
   ],
   "metadata": {
    "collapsed": false,
    "pycharm": {
     "name": "#%%\n"
    }
   }
  },
  {
   "cell_type": "code",
   "execution_count": 237,
   "outputs": [],
   "source": [
    "empty = np.zeros((w,h)).astype('bool')"
   ],
   "metadata": {
    "collapsed": false,
    "pycharm": {
     "name": "#%%\n"
    }
   }
  },
  {
   "cell_type": "code",
   "execution_count": null,
   "outputs": [],
   "source": [
    "msk_crop ="
   ],
   "metadata": {
    "collapsed": false,
    "pycharm": {
     "name": "#%%\n"
    }
   }
  },
  {
   "cell_type": "code",
   "execution_count": null,
   "outputs": [],
   "source": [],
   "metadata": {
    "collapsed": false,
    "pycharm": {
     "name": "#%%\n"
    }
   }
  }
 ],
 "metadata": {
  "kernelspec": {
   "display_name": "Python 3",
   "language": "python",
   "name": "python3"
  },
  "language_info": {
   "codemirror_mode": {
    "name": "ipython",
    "version": 2
   },
   "file_extension": ".py",
   "mimetype": "text/x-python",
   "name": "python",
   "nbconvert_exporter": "python",
   "pygments_lexer": "ipython2",
   "version": "2.7.6"
  }
 },
 "nbformat": 4,
 "nbformat_minor": 0
}