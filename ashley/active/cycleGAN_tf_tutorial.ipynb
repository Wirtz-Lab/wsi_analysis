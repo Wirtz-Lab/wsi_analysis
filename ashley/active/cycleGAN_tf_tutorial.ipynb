{
 "cells": [
  {
   "cell_type": "code",
   "execution_count": null,
   "metadata": {
    "collapsed": true,
    "ExecuteTime": {
     "start_time": "2023-04-14T16:28:05.768607Z",
     "end_time": "2023-04-14T16:28:07.534155Z"
    }
   },
   "outputs": [],
   "source": [
    "import tensorflow as tf\n",
    "# import tensorflow_datasets as tfds\n",
    "from tensorflow_examples.models.pix2pix import pix2pix\n",
    "\n",
    "import os\n",
    "import glob\n",
    "import time\n",
    "import matplotlib.pyplot as plt\n",
    "from IPython.display import clear_output\n",
    "\n",
    "AUTOTUNE = tf.data.AUTOTUNE"
   ]
  },
  {
   "cell_type": "code",
   "execution_count": 44,
   "outputs": [],
   "source": [
    "BUFFER_SIZE = 1000\n",
    "BATCH_SIZE = 1\n",
    "IMG_WIDTH = 1024\n",
    "IMG_HEIGHT = 1024"
   ],
   "metadata": {
    "collapsed": false,
    "ExecuteTime": {
     "start_time": "2023-04-14T16:45:45.636846Z",
     "end_time": "2023-04-14T16:45:45.647809Z"
    }
   }
  },
  {
   "cell_type": "code",
   "execution_count": 45,
   "outputs": [],
   "source": [
    "def read_image(image_path):\n",
    "    image = tf.io.read_file(image_path)\n",
    "    image = tf.image.decode_png(image, channels=3)\n",
    "    image.set_shape([None, None, 3])\n",
    "    # image = tf.image.resize(image, [1024, 1024],\n",
    "    #                       method=tf.image.ResizeMethod.NEAREST_NEIGHBOR)\n",
    "    # randomly cropping to 256 x 256 x 3\n",
    "    # image = tf.image.random_crop(image, size=[IMG_HEIGHT, IMG_WIDTH, 3])\n",
    "    # random mirroring\n",
    "    image = tf.image.random_flip_left_right(image)\n",
    "    image = tf.cast(image, tf.float32)\n",
    "    image = (image / 127.5) - 1\n",
    "    # image = tf.image.resize(images=image, size=[IMG_WIDTH, IMG_WIDTH])\n",
    "    # image = image/255 #[0 1]\n",
    "    return image\n",
    "\n",
    "def data_generator(image_list,train=False):\n",
    "    dataset = tf.data.Dataset.from_tensor_slices(image_list)\n",
    "    dataset = dataset.map(read_image, num_parallel_calls=tf.data.AUTOTUNE)\n",
    "    dataset = dataset.shuffle(BUFFER_SIZE)\n",
    "    dataset = dataset.batch(BATCH_SIZE, drop_remainder=True)\n",
    "    return dataset"
   ],
   "metadata": {
    "collapsed": false,
    "ExecuteTime": {
     "start_time": "2023-04-14T16:45:47.206760Z",
     "end_time": "2023-04-14T16:45:47.222707Z"
    }
   }
  },
  {
   "cell_type": "code",
   "execution_count": null,
   "outputs": [],
   "source": [
    "# dataset, metadata = tfds.load('cycle_gan/horse2zebra',\n",
    "#                               with_info=True, as_supervised=True)\n",
    "#\n",
    "# train_horses, train_zebras = dataset['trainA'], dataset['trainB']\n",
    "# test_horses, test_zebras = dataset['testA'], dataset['testB']"
   ],
   "metadata": {
    "collapsed": false,
    "ExecuteTime": {
     "start_time": "2023-04-14T15:58:55.853608Z",
     "end_time": "2023-04-14T15:58:56.146875Z"
    }
   }
  },
  {
   "cell_type": "code",
   "execution_count": null,
   "outputs": [],
   "source": [
    "DATA_DIR = r\"\\\\shelter\\Kyu\\unstain2stain\\tiles\\registrated_tiles\""
   ],
   "metadata": {
    "collapsed": false,
    "ExecuteTime": {
     "start_time": "2023-04-14T15:58:56.130245Z",
     "end_time": "2023-04-14T15:58:56.175112Z"
    }
   }
  },
  {
   "cell_type": "code",
   "execution_count": null,
   "outputs": [],
   "source": [
    "\n",
    "train_he = sorted(glob.glob(os.path.join(*[DATA_DIR, 'HE\\*\\*.png'])))\n",
    "train_unstained = sorted(glob.glob(os.path.join(*[DATA_DIR,'Unstained\\*\\*.png'])))\n",
    "val_he = sorted(glob.glob(os.path.join(*[DATA_DIR, 'HE\\OTS_14684_3_he\\*.png'])))\n",
    "val_unstained = sorted(glob.glob(os.path.join(*[DATA_DIR, 'Unstained\\OTS_14684_3\\*.png'])))"
   ],
   "metadata": {
    "collapsed": false,
    "ExecuteTime": {
     "start_time": "2023-04-14T15:58:56.690510Z",
     "end_time": "2023-04-14T15:58:56.784207Z"
    }
   }
  },
  {
   "cell_type": "code",
   "execution_count": null,
   "outputs": [],
   "source": [
    "train_horses = data_generator(train_unstained) #unstained\n",
    "train_zebras = data_generator(train_he) #he"
   ],
   "metadata": {
    "collapsed": false,
    "ExecuteTime": {
     "start_time": "2023-04-07T15:11:27.167594Z",
     "end_time": "2023-04-07T15:11:28.120886Z"
    }
   }
  },
  {
   "cell_type": "code",
   "execution_count": null,
   "outputs": [],
   "source": [
    "\n",
    "\n",
    "#\n",
    "# # normalizing the images to [-1, 1]\n",
    "# def normalize(image):\n",
    "#   image = tf.cast(image, tf.float32)\n",
    "#   image = (image / 127.5) - 1\n",
    "#   return image\n",
    "#\n",
    "# def random_jitter(image):\n",
    "#   # resizing to 286 x 286 x 3\n",
    "#   image = tf.image.resize(image, [286, 286],\n",
    "#                           method=tf.image.ResizeMethod.NEAREST_NEIGHBOR)\n",
    "#   # randomly cropping to 256 x 256 x 3\n",
    "#   image = random_crop(image)\n",
    "#   # random mirroring\n",
    "#   image = tf.image.random_flip_left_right(image)\n",
    "#   return image\n",
    "#\n",
    "# def preprocess_image_train(image,label):\n",
    "#   image = random_jitter(image)\n",
    "#   image = normalize(image)\n",
    "#   return image\n",
    "#\n",
    "# def preprocess_image_test(image,label):\n",
    "#   image = normalize(image)\n",
    "#   return image"
   ],
   "metadata": {
    "collapsed": false,
    "ExecuteTime": {
     "start_time": "2023-04-07T15:11:28.120886Z",
     "end_time": "2023-04-07T15:11:28.136314Z"
    }
   }
  },
  {
   "cell_type": "code",
   "execution_count": null,
   "outputs": [],
   "source": [
    "# train_horses = train_horses.cache().map(\n",
    "#     preprocess_image_train, num_parallel_calls=AUTOTUNE).shuffle(\n",
    "#     BUFFER_SIZE).batch(BATCH_SIZE)\n",
    "#\n",
    "# train_zebras = train_zebras.cache().map(\n",
    "#     preprocess_image_train, num_parallel_calls=AUTOTUNE).shuffle(\n",
    "#     BUFFER_SIZE).batch(BATCH_SIZE)\n",
    "\n",
    "# test_horses = test_horses.map(\n",
    "#     preprocess_image_test, num_parallel_calls=AUTOTUNE).cache().shuffle(\n",
    "#     BUFFER_SIZE).batch(BATCH_SIZE)\n",
    "#\n",
    "# test_zebras = test_zebras.map(\n",
    "#     preprocess_image_test, num_parallel_calls=AUTOTUNE).cache().shuffle(\n",
    "#     BUFFER_SIZE).batch(BATCH_SIZE)"
   ],
   "metadata": {
    "collapsed": false,
    "ExecuteTime": {
     "start_time": "2023-04-07T15:11:28.136314Z",
     "end_time": "2023-04-07T15:11:28.151940Z"
    }
   }
  },
  {
   "cell_type": "code",
   "execution_count": null,
   "outputs": [],
   "source": [
    "sample_horse = next(iter(train_horses))\n",
    "# sample_zebra = next(iter(train_zebras))"
   ],
   "metadata": {
    "collapsed": false,
    "ExecuteTime": {
     "start_time": "2023-04-07T15:11:28.151940Z",
     "end_time": "2023-04-07T15:11:42.949016Z"
    }
   }
  },
  {
   "cell_type": "code",
   "execution_count": null,
   "outputs": [],
   "source": [
    "# plt.subplot(121)\n",
    "# plt.title('Horse')\n",
    "# plt.imshow(sample_horse[0] * 0.5 + 0.5)\n",
    "#\n",
    "# plt.subplot(122)\n",
    "# plt.title('Horse with random jitter')\n",
    "# plt.imshow(random_jitter(sample_horse[0]) * 0.5 + 0.5)"
   ],
   "metadata": {
    "collapsed": false,
    "ExecuteTime": {
     "start_time": "2023-04-07T15:11:42.954191Z",
     "end_time": "2023-04-07T15:11:42.970896Z"
    }
   }
  },
  {
   "cell_type": "code",
   "execution_count": null,
   "outputs": [],
   "source": [
    "# plt.subplot(121)\n",
    "# plt.title('Zebra')\n",
    "# plt.imshow(sample_zebra[0] * 0.5 + 0.5)\n",
    "#\n",
    "# plt.subplot(122)\n",
    "# plt.title('Zebra with random jitter')\n",
    "# plt.imshow(random_jitter(sample_zebra[0]) * 0.5 + 0.5)"
   ],
   "metadata": {
    "collapsed": false,
    "ExecuteTime": {
     "start_time": "2023-04-07T15:11:42.970896Z",
     "end_time": "2023-04-07T15:11:42.995708Z"
    }
   }
  },
  {
   "cell_type": "code",
   "execution_count": null,
   "outputs": [],
   "source": [
    "OUTPUT_CHANNELS = 3\n",
    "\n",
    "generator_g = pix2pix.unet_generator(OUTPUT_CHANNELS, norm_type='instancenorm')\n",
    "generator_f = pix2pix.unet_generator(OUTPUT_CHANNELS, norm_type='instancenorm')\n",
    "\n",
    "discriminator_x = pix2pix.discriminator(norm_type='instancenorm', target=False)\n",
    "discriminator_y = pix2pix.discriminator(norm_type='instancenorm', target=False)"
   ],
   "metadata": {
    "collapsed": false,
    "ExecuteTime": {
     "start_time": "2023-04-14T16:28:38.839747Z",
     "end_time": "2023-04-14T16:28:40.425185Z"
    }
   }
  },
  {
   "cell_type": "code",
   "execution_count": null,
   "outputs": [],
   "source": [
    "# to_zebra = generator_g(sample_horse)\n",
    "# to_horse = generator_f(sample_zebra)\n",
    "# plt.figure(figsize=(8, 8))\n",
    "# contrast = 8\n",
    "#\n",
    "# imgs = [sample_horse, to_zebra, sample_zebra, to_horse]\n",
    "# title = ['Horse', 'To Zebra', 'Zebra', 'To Horse']\n",
    "#\n",
    "# for i in range(len(imgs)):\n",
    "#   plt.subplot(2, 2, i+1)\n",
    "#   plt.title(title[i])\n",
    "#   if i % 2 == 0:\n",
    "#     plt.imshow(imgs[i][0] * 0.5 + 0.5)\n",
    "#   else:\n",
    "#     plt.imshow(imgs[i][0] * 0.5 * contrast + 0.5)\n",
    "# plt.show()"
   ],
   "metadata": {
    "collapsed": false,
    "ExecuteTime": {
     "start_time": "2023-04-07T15:11:43.620629Z",
     "end_time": "2023-04-07T15:11:43.636496Z"
    }
   }
  },
  {
   "cell_type": "code",
   "execution_count": null,
   "outputs": [],
   "source": [
    "# plt.figure(figsize=(8, 8))\n",
    "#\n",
    "# plt.subplot(121)\n",
    "# plt.title('Is a real zebra?')\n",
    "# plt.imshow(discriminator_y(sample_zebra)[0, ..., -1], cmap='RdBu_r')\n",
    "#\n",
    "# plt.subplot(122)\n",
    "# plt.title('Is a real horse?')\n",
    "# plt.imshow(discriminator_x(sample_horse)[0, ..., -1], cmap='RdBu_r')\n",
    "#\n",
    "# plt.show()"
   ],
   "metadata": {
    "collapsed": false,
    "ExecuteTime": {
     "start_time": "2023-04-07T15:11:43.636496Z",
     "end_time": "2023-04-07T15:11:43.652122Z"
    }
   }
  },
  {
   "cell_type": "code",
   "execution_count": null,
   "outputs": [],
   "source": [
    "LAMBDA = 10 #1 to 10.\n",
    "loss_obj = tf.keras.losses.BinaryCrossentropy(from_logits=True)\n",
    "\n",
    "def discriminator_loss(real, generated):\n",
    "  real_loss = loss_obj(tf.ones_like(real), real)\n",
    "\n",
    "  generated_loss = loss_obj(tf.zeros_like(generated), generated)\n",
    "\n",
    "  total_disc_loss = real_loss + generated_loss\n",
    "\n",
    "  return total_disc_loss * 0.5\n",
    "\n",
    "def generator_loss(generated):\n",
    "  return loss_obj(tf.ones_like(generated), generated)\n",
    "\n",
    "def calc_cycle_loss(real_image, cycled_image):\n",
    "  loss1 = tf.reduce_mean(tf.abs(real_image - cycled_image))\n",
    "\n",
    "  return LAMBDA * loss1\n",
    "\n",
    "def identity_loss(real_image, same_image):\n",
    "  loss = tf.reduce_mean(tf.abs(real_image - same_image))\n",
    "  return LAMBDA * 0.5 * loss\n",
    "\n",
    "lr_gg = 2e-4\n",
    "lr_gf = 2e-4\n",
    "lr_dx = 2e-4\n",
    "lr_dy = 2e-4\n",
    "\n",
    "generator_g_optimizer = tf.keras.optimizers.Adam(lr_gg, beta_1=0.5)\n",
    "generator_f_optimizer = tf.keras.optimizers.Adam(lr_gf, beta_1=0.5)\n",
    "\n",
    "discriminator_x_optimizer = tf.keras.optimizers.Adam(lr_dx, beta_1=0.5)\n",
    "discriminator_y_optimizer = tf.keras.optimizers.Adam(lr_dy, beta_1=0.5)"
   ],
   "metadata": {
    "collapsed": false,
    "ExecuteTime": {
     "start_time": "2023-04-14T16:28:59.550533Z",
     "end_time": "2023-04-14T16:28:59.563489Z"
    }
   }
  },
  {
   "cell_type": "code",
   "execution_count": null,
   "outputs": [],
   "source": [
    "checkpoint_path = \"./checkpoints/train\"\n",
    "\n",
    "ckpt = tf.train.Checkpoint(generator_g=generator_g,\n",
    "                           generator_f=generator_f,\n",
    "                           discriminator_x=discriminator_x,\n",
    "                           discriminator_y=discriminator_y,\n",
    "                           generator_g_optimizer=generator_g_optimizer,\n",
    "                           generator_f_optimizer=generator_f_optimizer,\n",
    "                           discriminator_x_optimizer=discriminator_x_optimizer,\n",
    "                           discriminator_y_optimizer=discriminator_y_optimizer)\n",
    "\n",
    "ckpt_manager = tf.train.CheckpointManager(ckpt, checkpoint_path, max_to_keep=5)\n",
    "\n",
    "# if a checkpoint exists, restore the latest checkpoint.\n",
    "if ckpt_manager.latest_checkpoint:\n",
    "  ckpt.restore(ckpt_manager.latest_checkpoint)\n",
    "  print ('Latest checkpoint restored!!')"
   ],
   "metadata": {
    "collapsed": false,
    "ExecuteTime": {
     "start_time": "2023-04-14T16:29:01.756760Z",
     "end_time": "2023-04-14T16:29:04.159235Z"
    }
   }
  },
  {
   "cell_type": "code",
   "execution_count": null,
   "outputs": [],
   "source": [
    "# This block trains new CycleGAN model\n",
    "import PIL\n",
    "EPOCHS = 100\n",
    "\n",
    "\n"
   ],
   "metadata": {
    "collapsed": false,
    "ExecuteTime": {
     "start_time": "2023-04-14T16:29:19.081067Z",
     "end_time": "2023-04-14T16:29:19.190733Z"
    }
   }
  },
  {
   "cell_type": "code",
   "execution_count": null,
   "outputs": [],
   "source": [
    "def tensor_to_image(tensor):\n",
    "    # tensor = tensor*255\n",
    "    tensor = np.array(tensor, dtype=np.uint8)\n",
    "    if np.ndim(tensor)>3:\n",
    "        assert tensor.shape[0] == 1\n",
    "        tensor = tensor[0]\n",
    "    return PIL.Image.fromarray(tensor)\n",
    "\n",
    "\n",
    "def generate_images(model, test_input):\n",
    "  prediction = model(test_input)\n",
    "\n",
    "  #fn = test_unstained[it][-8:]\n",
    "  #it = it+1\n",
    "  #Image.save(tensor_to_image(prediction[0]),r'\\\\shelter\\Kyu\\unstain2stain\\ashley_pilot\\dataset\\syn_he\\{}'.format(fn))\n",
    "\n",
    "  plt.figure(figsize=(12, 12))\n",
    "\n",
    "  display_list = [test_input[0], prediction[0]]\n",
    "  title = ['Input Image', 'Predicted Image']\n",
    "\n",
    "  for i in range(2):\n",
    "    plt.subplot(1, 2, i+1)\n",
    "    plt.title(title[i])\n",
    "    # getting the pixel values between [0, 1] to plot it.\n",
    "    plt.imshow(display_list[i] * 0.5 + 0.5)\n",
    "    plt.axis('off')\n",
    "  plt.show()\n",
    "  return"
   ],
   "metadata": {
    "collapsed": false,
    "ExecuteTime": {
     "start_time": "2023-04-14T16:36:39.976940Z",
     "end_time": "2023-04-14T16:36:40.018832Z"
    }
   }
  },
  {
   "cell_type": "code",
   "execution_count": null,
   "outputs": [],
   "source": [
    "\n",
    "@tf.function\n",
    "def train_step(real_x, real_y):\n",
    "  # persistent is set to True because the tape is used more than\n",
    "  # once to calculate the gradients.\n",
    "  with tf.GradientTape(persistent=True) as tape:\n",
    "    # Generator G translates X -> Y\n",
    "    # Generator F translates Y -> X.\n",
    "\n",
    "    fake_y = generator_g(real_x, training=True)\n",
    "    cycled_x = generator_f(fake_y, training=True)\n",
    "\n",
    "    fake_x = generator_f(real_y, training=True)\n",
    "    cycled_y = generator_g(fake_x, training=True)\n",
    "\n",
    "    # same_x and same_y are used for identity loss.\n",
    "    same_x = generator_f(real_x, training=True)\n",
    "    same_y = generator_g(real_y, training=True)\n",
    "\n",
    "    disc_real_x = discriminator_x(real_x, training=True)\n",
    "    disc_real_y = discriminator_y(real_y, training=True)\n",
    "\n",
    "    disc_fake_x = discriminator_x(fake_x, training=True)\n",
    "    disc_fake_y = discriminator_y(fake_y, training=True)\n",
    "\n",
    "    # calculate the loss\n",
    "    gen_g_loss = generator_loss(disc_fake_y)\n",
    "    gen_f_loss = generator_loss(disc_fake_x)\n",
    "\n",
    "    total_cycle_loss = calc_cycle_loss(real_x, cycled_x) + calc_cycle_loss(real_y, cycled_y)\n",
    "\n",
    "    # Total generator loss = adversarial loss + cycle loss\n",
    "    total_gen_g_loss = gen_g_loss + total_cycle_loss + identity_loss(real_y, same_y)\n",
    "    total_gen_f_loss = gen_f_loss + total_cycle_loss + identity_loss(real_x, same_x)\n",
    "\n",
    "    disc_x_loss = discriminator_loss(disc_real_x, disc_fake_x)\n",
    "    disc_y_loss = discriminator_loss(disc_real_y, disc_fake_y)\n",
    "\n",
    "  # Calculate the gradients for generator and discriminator\n",
    "  generator_g_gradients = tape.gradient(total_gen_g_loss,\n",
    "                                        generator_g.trainable_variables)\n",
    "  generator_f_gradients = tape.gradient(total_gen_f_loss,\n",
    "                                        generator_f.trainable_variables)\n",
    "\n",
    "  discriminator_x_gradients = tape.gradient(disc_x_loss,\n",
    "                                            discriminator_x.trainable_variables)\n",
    "  discriminator_y_gradients = tape.gradient(disc_y_loss,\n",
    "                                            discriminator_y.trainable_variables)\n",
    "\n",
    "  # Apply the gradients to the optimizer\n",
    "  generator_g_optimizer.apply_gradients(zip(generator_g_gradients,\n",
    "                                            generator_g.trainable_variables))\n",
    "\n",
    "  generator_f_optimizer.apply_gradients(zip(generator_f_gradients,\n",
    "                                            generator_f.trainable_variables))\n",
    "\n",
    "  discriminator_x_optimizer.apply_gradients(zip(discriminator_x_gradients,\n",
    "                                                discriminator_x.trainable_variables))\n",
    "\n",
    "  discriminator_y_optimizer.apply_gradients(zip(discriminator_y_gradients,\n",
    "                                                discriminator_y.trainable_variables))\n",
    "\n",
    "for epoch in range(EPOCHS):\n",
    "  start = time.time()\n",
    "\n",
    "  n = 0\n",
    "  for image_x, image_y in tf.data.Dataset.zip((train_horses, train_zebras)):\n",
    "    train_step(image_x, image_y)\n",
    "    if n % 10 == 0:\n",
    "      print ('.', end='')\n",
    "    n += 1\n",
    "\n",
    "  clear_output(wait=True)\n",
    "  # Using a consistent image (sample_horse) so that the progress of the model\n",
    "  # is clearly visible.\n",
    "  generate_images(generator_g, sample_horse)\n",
    "\n",
    "  if (((epoch + 1) % 5 == 0) or (epoch == EPOCHS)):\n",
    "    ckpt_save_path = ckpt_manager.save()\n",
    "    print ('Saving checkpoint for epoch {} at {}'.format(epoch+1,\n",
    "                                                         ckpt_save_path))\n",
    "\n",
    "    print ('Time taken for epoch {} is {} sec\\n'.format(epoch + 1,\n",
    "                                                      time.time()-start))"
   ],
   "metadata": {
    "collapsed": false
   }
  },
  {
   "cell_type": "code",
   "execution_count": null,
   "outputs": [],
   "source": [
    "#load checkpoint, predict another set of image, evaluate performance"
   ],
   "metadata": {
    "collapsed": false
   }
  },
  {
   "cell_type": "code",
   "execution_count": null,
   "outputs": [],
   "source": [],
   "metadata": {
    "collapsed": false
   }
  },
  {
   "cell_type": "code",
   "execution_count": 46,
   "outputs": [],
   "source": [
    "#load new data\n",
    "new_dir = r'\\\\shelter\\Kyu\\unstain2stain\\ashley_pilot\\dataset'\n",
    "test_unstained = sorted(glob.glob(os.path.join(*[new_dir, 'us\\*.png'])))\n",
    "val_he = sorted(glob.glob(os.path.join(*[new_dir, 'he\\*.png'])))"
   ],
   "metadata": {
    "collapsed": false,
    "ExecuteTime": {
     "start_time": "2023-04-14T16:46:06.146017Z",
     "end_time": "2023-04-14T16:46:06.173923Z"
    }
   }
  },
  {
   "cell_type": "code",
   "execution_count": 43,
   "outputs": [
    {
     "data": {
      "text/plain": "'\\\\\\\\shelter\\\\Kyu\\\\unstain2stain\\\\ashley_pilot\\\\dataset\\\\us\\\\85481_45916xy0317.png'"
     },
     "execution_count": 43,
     "metadata": {},
     "output_type": "execute_result"
    }
   ],
   "source": [
    "test_unstained[0]"
   ],
   "metadata": {
    "collapsed": false,
    "ExecuteTime": {
     "start_time": "2023-04-14T16:42:34.649621Z",
     "end_time": "2023-04-14T16:42:34.652612Z"
    }
   }
  },
  {
   "cell_type": "code",
   "execution_count": 47,
   "outputs": [],
   "source": [
    "#load test set and validation set\n",
    "test_set = data_generator(test_unstained)"
   ],
   "metadata": {
    "collapsed": false,
    "ExecuteTime": {
     "start_time": "2023-04-14T16:46:08.645645Z",
     "end_time": "2023-04-14T16:46:08.696475Z"
    }
   }
  },
  {
   "cell_type": "code",
   "execution_count": null,
   "outputs": [],
   "source": [
    "#load test_set into model\n",
    "it = 0\n",
    "for inp in test_set.take(21):\n",
    "  generate_images(generator_g, inp)\n"
   ],
   "metadata": {
    "collapsed": false
   }
  },
  {
   "cell_type": "code",
   "execution_count": 48,
   "outputs": [],
   "source": [
    "for inp in test_set.take(1):\n",
    "    prediction = generator_g(inp)"
   ],
   "metadata": {
    "collapsed": false,
    "ExecuteTime": {
     "start_time": "2023-04-14T16:46:17.612331Z",
     "end_time": "2023-04-14T16:46:19.370944Z"
    }
   }
  },
  {
   "cell_type": "code",
   "execution_count": 49,
   "outputs": [],
   "source": [
    "import numpy as np\n",
    "image1_numpy = prediction.numpy()"
   ],
   "metadata": {
    "collapsed": false,
    "ExecuteTime": {
     "start_time": "2023-04-14T16:46:19.372936Z",
     "end_time": "2023-04-14T16:46:19.385894Z"
    }
   }
  },
  {
   "cell_type": "code",
   "execution_count": 50,
   "outputs": [],
   "source": [
    "import cv2\n",
    "im=cv2.normalize(image1_numpy[0],None,0,255,cv2.NORM_MINMAX, dtype=cv2.CV_8U)"
   ],
   "metadata": {
    "collapsed": false,
    "ExecuteTime": {
     "start_time": "2023-04-14T16:46:19.556115Z",
     "end_time": "2023-04-14T16:46:19.577044Z"
    }
   }
  },
  {
   "cell_type": "code",
   "execution_count": 51,
   "outputs": [],
   "source": [
    "from PIL import Image\n",
    "dst = r'\\\\shelter\\Kyu\\unstain2stain\\ashley_pilot\\dataset\\syn_he'\n",
    "fn = '1.png'\n",
    "Image.fromarray(im).save(os.path.join(dst,fn))"
   ],
   "metadata": {
    "collapsed": false,
    "ExecuteTime": {
     "start_time": "2023-04-14T16:46:22.194767Z",
     "end_time": "2023-04-14T16:46:22.355230Z"
    }
   }
  },
  {
   "cell_type": "code",
   "execution_count": null,
   "outputs": [],
   "source": [
    "#save generated data in new"
   ],
   "metadata": {
    "collapsed": false
   }
  },
  {
   "cell_type": "code",
   "execution_count": null,
   "outputs": [],
   "source": [
    "#image metrics"
   ],
   "metadata": {
    "collapsed": false
   }
  },
  {
   "cell_type": "code",
   "execution_count": null,
   "outputs": [],
   "source": [
    "import math\n",
    "import numpy as np\n",
    "def calculate_psnr(img1, img2):\n",
    "    # img1 and img2 have range [0, 255]\n",
    "    img1 = img1.astype(np.float64)\n",
    "    img2 = img2.astype(np.float64)\n",
    "    mse = np.mean((img1 - img2)**2)\n",
    "    if mse == 0:\n",
    "        return float('inf')\n",
    "    return 20 * math.log10(255.0 / math.sqrt(mse))"
   ],
   "metadata": {
    "collapsed": false
   }
  },
  {
   "cell_type": "code",
   "execution_count": null,
   "outputs": [],
   "source": [
    "import cv2\n",
    "\n",
    "def ssim(img1, img2):\n",
    "    C1 = (0.01 * 255)**2\n",
    "    C2 = (0.03 * 255)**2\n",
    "\n",
    "    img1 = img1.astype(np.float64)\n",
    "    img2 = img2.astype(np.float64)\n",
    "    kernel = cv2.getGaussianKernel(11, 1.5)\n",
    "    window = np.outer(kernel, kernel.transpose())\n",
    "\n",
    "    mu1 = cv2.filter2D(img1, -1, window)[5:-5, 5:-5]  # valid\n",
    "    mu2 = cv2.filter2D(img2, -1, window)[5:-5, 5:-5]\n",
    "    mu1_sq = mu1**2\n",
    "    mu2_sq = mu2**2\n",
    "    mu1_mu2 = mu1 * mu2\n",
    "    sigma1_sq = cv2.filter2D(img1**2, -1, window)[5:-5, 5:-5] - mu1_sq\n",
    "    sigma2_sq = cv2.filter2D(img2**2, -1, window)[5:-5, 5:-5] - mu2_sq\n",
    "    sigma12 = cv2.filter2D(img1 * img2, -1, window)[5:-5, 5:-5] - mu1_mu2\n",
    "\n",
    "    ssim_map = ((2 * mu1_mu2 + C1) * (2 * sigma12 + C2)) / ((mu1_sq + mu2_sq + C1) *\n",
    "                                                            (sigma1_sq + sigma2_sq + C2))\n",
    "    return ssim_map.mean()\n",
    "\n",
    "\n",
    "def calculate_ssim(img1, img2):\n",
    "    '''calculate SSIM\n",
    "    the same outputs as MATLAB's\n",
    "    img1, img2: [0, 255]\n",
    "    '''\n",
    "    if not img1.shape == img2.shape:\n",
    "        raise ValueError('Input images must have the same dimensions.')\n",
    "    if img1.ndim == 2:\n",
    "        return ssim(img1, img2)\n",
    "    elif img1.ndim == 3:\n",
    "        if img1.shape[2] == 3:\n",
    "            ssims = []\n",
    "            for i in range(3):\n",
    "                ssims.append(ssim(img1, img2))\n",
    "            return np.array(ssims).mean()\n",
    "        elif img1.shape[2] == 1:\n",
    "            return ssim(np.squeeze(img1), np.squeeze(img2))\n",
    "    else:\n",
    "        raise ValueError('Wrong input image dimensions.')"
   ],
   "metadata": {
    "collapsed": false
   }
  },
  {
   "cell_type": "code",
   "execution_count": null,
   "outputs": [],
   "source": [],
   "metadata": {
    "collapsed": false
   }
  },
  {
   "cell_type": "code",
   "execution_count": null,
   "outputs": [],
   "source": [
    "#from vif_utils import vif\n",
    "#print(vif(img_ref, img_dist))"
   ],
   "metadata": {
    "collapsed": false
   }
  },
  {
   "cell_type": "code",
   "execution_count": null,
   "outputs": [],
   "source": [],
   "metadata": {
    "collapsed": false
   }
  },
  {
   "cell_type": "code",
   "execution_count": null,
   "outputs": [],
   "source": [],
   "metadata": {
    "collapsed": false
   }
  }
 ],
 "metadata": {
  "kernelspec": {
   "display_name": "Python 3",
   "language": "python",
   "name": "python3"
  },
  "language_info": {
   "codemirror_mode": {
    "name": "ipython",
    "version": 2
   },
   "file_extension": ".py",
   "mimetype": "text/x-python",
   "name": "python",
   "nbconvert_exporter": "python",
   "pygments_lexer": "ipython2",
   "version": "2.7.6"
  }
 },
 "nbformat": 4,
 "nbformat_minor": 0
}
