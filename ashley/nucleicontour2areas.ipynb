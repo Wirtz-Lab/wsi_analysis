{
 "cells": [
  {
   "cell_type": "code",
   "execution_count": 487,
   "outputs": [],
   "source": [
    "import pandas\n",
    "import pandas as pd\n",
    "import os\n",
    "import numpy as np\n",
    "import cv2\n",
    "import imutils\n",
    "from shapely.geometry import shape, GeometryCollection,Polygon,mapping\n",
    "import json\n",
    "import glob\n",
    "import matplotlib.pyplot as plt\n",
    "from sklearn.metrics import jaccard_score\n",
    "from PIL import Image\n"
   ],
   "metadata": {
    "collapsed": false,
    "pycharm": {
     "name": "#%%\n"
    }
   }
  },
  {
   "cell_type": "code",
   "execution_count": 497,
   "outputs": [],
   "source": [
    "#open manual annotated image from geojson (exported qupath image as geojason because paquo installation failed)\n",
    "src = r'\\\\fatherserverdw\\Q\\research\\images\\skin_aging\\hovernet_tile\\hovernet_manual_validation'\n",
    "manual = os.path.join(src,'manual_annotation')\n",
    "predicted = os.path.join(src,'predicted_nuclei_contour')\n",
    "raw_ims = os.path.join(src,'raw_image')\n",
    "\n",
    "#open manual annotations with json.load\n",
    "annotations = glob.glob(os.path.join(manual,'*.geojson'))\n",
    "#load ashley_test to try\n",
    "annotation = annotations[1]\n",
    "with open(annotation) as f:\n",
    "  features = json.load(f)[\"features\"]\n"
   ],
   "metadata": {
    "collapsed": false,
    "pycharm": {
     "name": "#%%\n"
    }
   }
  },
  {
   "cell_type": "code",
   "execution_count": 501,
   "outputs": [],
   "source": [
    "#get size of origianl image\n",
    "raw = glob.glob(os.path.join(raw_ims,'*.tif'))\n",
    "raw_img = cv2.imread(raw[0])\n",
    "dim = raw_img.shape\n",
    "image_size = (dim[0],dim[1])"
   ],
   "metadata": {
    "collapsed": false,
    "pycharm": {
     "name": "#%%\n"
    }
   }
  },
  {
   "cell_type": "code",
   "execution_count": 502,
   "outputs": [],
   "source": [
    "#open predicted annotations\n",
    "pd_annotations = glob.glob(os.path.join(predicted,'*.json'))\n",
    "#open tile11\n",
    "pd_annotation = pd_annotations[0]\n",
    "with open(pd_annotation) as pd_f:\n",
    "  #bbox, centroid, contour\n",
    "  pd_features = json.load(pd_f)[\"nuc\"]"
   ],
   "metadata": {
    "collapsed": false,
    "pycharm": {
     "name": "#%%\n"
    }
   }
  },
  {
   "cell_type": "code",
   "execution_count": 503,
   "outputs": [],
   "source": [
    "#create a list of predicted contours\n",
    "pd_contours=[]\n",
    "for key in pd_features:\n",
    "    contour = []\n",
    "    temp = pd_features.get(key)\n",
    "    #for c in temp.get('contour'):#turn list to tuple\n",
    "        #contour.append(tuple(c))\n",
    "    pd_contours.append(temp.get('contour'))"
   ],
   "metadata": {
    "collapsed": false,
    "pycharm": {
     "name": "#%%\n"
    }
   }
  },
  {
   "cell_type": "code",
   "execution_count": null,
   "outputs": [],
   "source": [],
   "metadata": {
    "collapsed": false,
    "pycharm": {
     "name": "#%%\n"
    }
   }
  },
  {
   "cell_type": "code",
   "execution_count": 376,
   "outputs": [],
   "source": [
    "#TODO:\n",
    "#convert predicted contours to shapely polygons, then from polygons to coordinates\n",
    "\n",
    "#create a list of predicted shapely polygons\n",
    "#pd_poly = [Polygon(x) for x in pd_contours]"
   ],
   "metadata": {
    "collapsed": false,
    "pycharm": {
     "name": "#%%\n"
    }
   }
  },
  {
   "cell_type": "code",
   "execution_count": 519,
   "outputs": [],
   "source": [
    "#create a list of predicted binary masks\n",
    "pd_masks = []\n",
    "for contour in pd_contours:\n",
    "    image = np.zeros(image_size)\n",
    "    binary = cv2.fillPoly(image, pts=[np.array(contour)],  color=(1, 0, 0))\n",
    "    pd_masks.append(binary)"
   ],
   "metadata": {
    "collapsed": false,
    "pycharm": {
     "name": "#%%\n"
    }
   }
  },
  {
   "cell_type": "code",
   "execution_count": 520,
   "outputs": [],
   "source": [
    "#is this the contour of manual coordinates?\n",
    "#something/wrong with the manual data: 1.some idx are in float64, 2.some have multiple obj in one idx ([101])\n",
    "man_coordinates = [np.squeeze(_['geometry']['coordinates']) for _ in features]"
   ],
   "metadata": {
    "collapsed": false,
    "pycharm": {
     "name": "#%%\n"
    }
   }
  },
  {
   "cell_type": "code",
   "execution_count": 521,
   "outputs": [],
   "source": [
    "#create a list of manually annotated binary masks\n",
    "man_masks=[]\n",
    "for coord in man_coordinates:\n",
    "    image = np.zeros(image_size)\n",
    "    binary = cv2.fillPoly(image, pts=[np.array(coord).astype(np.int32)],  color=(1, 0, 0))\n",
    "    man_masks.append(binary)"
   ],
   "metadata": {
    "collapsed": false,
    "pycharm": {
     "name": "#%%\n"
    }
   }
  },
  {
   "cell_type": "code",
   "execution_count": 541,
   "outputs": [
    {
     "ename": "ValueError",
     "evalue": "Classification metrics can't handle a mix of multilabel-indicator and continuous-multioutput targets",
     "output_type": "error",
     "traceback": [
      "\u001B[1;31m---------------------------------------------------------------------------\u001B[0m",
      "\u001B[1;31mValueError\u001B[0m                                Traceback (most recent call last)",
      "Input \u001B[1;32mIn [541]\u001B[0m, in \u001B[0;36m<cell line: 8>\u001B[1;34m()\u001B[0m\n\u001B[0;32m      8\u001B[0m \u001B[38;5;28;01mfor\u001B[39;00m m_mask \u001B[38;5;129;01min\u001B[39;00m man_masks:\n\u001B[0;32m      9\u001B[0m     \u001B[38;5;66;03m#loop through predicted masks\u001B[39;00m\n\u001B[0;32m     10\u001B[0m     \u001B[38;5;28;01mfor\u001B[39;00m pd_mask \u001B[38;5;129;01min\u001B[39;00m pd_masks:\n\u001B[0;32m     11\u001B[0m         \u001B[38;5;66;03m#ERORR: something went wrong on thye pd_masks[109],\u001B[39;00m\n\u001B[0;32m     12\u001B[0m         \u001B[38;5;66;03m#Error msg: Classification metrics can't handle a mix of multilabel-indicator and continuous-multioutput targets\u001B[39;00m\n\u001B[1;32m---> 13\u001B[0m         score \u001B[38;5;241m=\u001B[39m \u001B[43mjaccard_score\u001B[49m\u001B[43m(\u001B[49m\u001B[43mm_mask\u001B[49m\u001B[43m,\u001B[49m\u001B[43m \u001B[49m\u001B[43mpd_mask\u001B[49m\u001B[43m,\u001B[49m\u001B[43maverage\u001B[49m\u001B[38;5;241;43m=\u001B[39;49m\u001B[38;5;124;43m'\u001B[39;49m\u001B[38;5;124;43mmicro\u001B[39;49m\u001B[38;5;124;43m'\u001B[39;49m\u001B[43m)\u001B[49m\n",
      "File \u001B[1;32mC:\\ProgramData\\Anaconda3\\envs\\wsi_analysis\\lib\\site-packages\\sklearn\\metrics\\_classification.py:795\u001B[0m, in \u001B[0;36mjaccard_score\u001B[1;34m(y_true, y_pred, labels, pos_label, average, sample_weight, zero_division)\u001B[0m\n\u001B[0;32m    667\u001B[0m \u001B[38;5;28;01mdef\u001B[39;00m \u001B[38;5;21mjaccard_score\u001B[39m(\n\u001B[0;32m    668\u001B[0m     y_true,\n\u001B[0;32m    669\u001B[0m     y_pred,\n\u001B[1;32m   (...)\u001B[0m\n\u001B[0;32m    675\u001B[0m     zero_division\u001B[38;5;241m=\u001B[39m\u001B[38;5;124m\"\u001B[39m\u001B[38;5;124mwarn\u001B[39m\u001B[38;5;124m\"\u001B[39m,\n\u001B[0;32m    676\u001B[0m ):\n\u001B[0;32m    677\u001B[0m     \u001B[38;5;124;03m\"\"\"Jaccard similarity coefficient score.\u001B[39;00m\n\u001B[0;32m    678\u001B[0m \n\u001B[0;32m    679\u001B[0m \u001B[38;5;124;03m    The Jaccard index [1], or Jaccard similarity coefficient, defined as\u001B[39;00m\n\u001B[1;32m   (...)\u001B[0m\n\u001B[0;32m    793\u001B[0m \u001B[38;5;124;03m    array([1. , 0. , 0.33...])\u001B[39;00m\n\u001B[0;32m    794\u001B[0m \u001B[38;5;124;03m    \"\"\"\u001B[39;00m\n\u001B[1;32m--> 795\u001B[0m     labels \u001B[38;5;241m=\u001B[39m \u001B[43m_check_set_wise_labels\u001B[49m\u001B[43m(\u001B[49m\u001B[43my_true\u001B[49m\u001B[43m,\u001B[49m\u001B[43m \u001B[49m\u001B[43my_pred\u001B[49m\u001B[43m,\u001B[49m\u001B[43m \u001B[49m\u001B[43maverage\u001B[49m\u001B[43m,\u001B[49m\u001B[43m \u001B[49m\u001B[43mlabels\u001B[49m\u001B[43m,\u001B[49m\u001B[43m \u001B[49m\u001B[43mpos_label\u001B[49m\u001B[43m)\u001B[49m\n\u001B[0;32m    796\u001B[0m     samplewise \u001B[38;5;241m=\u001B[39m average \u001B[38;5;241m==\u001B[39m \u001B[38;5;124m\"\u001B[39m\u001B[38;5;124msamples\u001B[39m\u001B[38;5;124m\"\u001B[39m\n\u001B[0;32m    797\u001B[0m     MCM \u001B[38;5;241m=\u001B[39m multilabel_confusion_matrix(\n\u001B[0;32m    798\u001B[0m         y_true,\n\u001B[0;32m    799\u001B[0m         y_pred,\n\u001B[1;32m   (...)\u001B[0m\n\u001B[0;32m    802\u001B[0m         samplewise\u001B[38;5;241m=\u001B[39msamplewise,\n\u001B[0;32m    803\u001B[0m     )\n",
      "File \u001B[1;32mC:\\ProgramData\\Anaconda3\\envs\\wsi_analysis\\lib\\site-packages\\sklearn\\metrics\\_classification.py:1357\u001B[0m, in \u001B[0;36m_check_set_wise_labels\u001B[1;34m(y_true, y_pred, average, labels, pos_label)\u001B[0m\n\u001B[0;32m   1354\u001B[0m \u001B[38;5;28;01mif\u001B[39;00m average \u001B[38;5;129;01mnot\u001B[39;00m \u001B[38;5;129;01min\u001B[39;00m average_options \u001B[38;5;129;01mand\u001B[39;00m average \u001B[38;5;241m!=\u001B[39m \u001B[38;5;124m\"\u001B[39m\u001B[38;5;124mbinary\u001B[39m\u001B[38;5;124m\"\u001B[39m:\n\u001B[0;32m   1355\u001B[0m     \u001B[38;5;28;01mraise\u001B[39;00m \u001B[38;5;167;01mValueError\u001B[39;00m(\u001B[38;5;124m\"\u001B[39m\u001B[38;5;124maverage has to be one of \u001B[39m\u001B[38;5;124m\"\u001B[39m \u001B[38;5;241m+\u001B[39m \u001B[38;5;28mstr\u001B[39m(average_options))\n\u001B[1;32m-> 1357\u001B[0m y_type, y_true, y_pred \u001B[38;5;241m=\u001B[39m \u001B[43m_check_targets\u001B[49m\u001B[43m(\u001B[49m\u001B[43my_true\u001B[49m\u001B[43m,\u001B[49m\u001B[43m \u001B[49m\u001B[43my_pred\u001B[49m\u001B[43m)\u001B[49m\n\u001B[0;32m   1358\u001B[0m \u001B[38;5;66;03m# Convert to Python primitive type to avoid NumPy type / Python str\u001B[39;00m\n\u001B[0;32m   1359\u001B[0m \u001B[38;5;66;03m# comparison. See https://github.com/numpy/numpy/issues/6784\u001B[39;00m\n\u001B[0;32m   1360\u001B[0m present_labels \u001B[38;5;241m=\u001B[39m unique_labels(y_true, y_pred)\u001B[38;5;241m.\u001B[39mtolist()\n",
      "File \u001B[1;32mC:\\ProgramData\\Anaconda3\\envs\\wsi_analysis\\lib\\site-packages\\sklearn\\metrics\\_classification.py:93\u001B[0m, in \u001B[0;36m_check_targets\u001B[1;34m(y_true, y_pred)\u001B[0m\n\u001B[0;32m     90\u001B[0m     y_type \u001B[38;5;241m=\u001B[39m {\u001B[38;5;124m\"\u001B[39m\u001B[38;5;124mmulticlass\u001B[39m\u001B[38;5;124m\"\u001B[39m}\n\u001B[0;32m     92\u001B[0m \u001B[38;5;28;01mif\u001B[39;00m \u001B[38;5;28mlen\u001B[39m(y_type) \u001B[38;5;241m>\u001B[39m \u001B[38;5;241m1\u001B[39m:\n\u001B[1;32m---> 93\u001B[0m     \u001B[38;5;28;01mraise\u001B[39;00m \u001B[38;5;167;01mValueError\u001B[39;00m(\n\u001B[0;32m     94\u001B[0m         \u001B[38;5;124m\"\u001B[39m\u001B[38;5;124mClassification metrics can\u001B[39m\u001B[38;5;124m'\u001B[39m\u001B[38;5;124mt handle a mix of \u001B[39m\u001B[38;5;132;01m{0}\u001B[39;00m\u001B[38;5;124m and \u001B[39m\u001B[38;5;132;01m{1}\u001B[39;00m\u001B[38;5;124m targets\u001B[39m\u001B[38;5;124m\"\u001B[39m\u001B[38;5;241m.\u001B[39mformat(\n\u001B[0;32m     95\u001B[0m             type_true, type_pred\n\u001B[0;32m     96\u001B[0m         )\n\u001B[0;32m     97\u001B[0m     )\n\u001B[0;32m     99\u001B[0m \u001B[38;5;66;03m# We can't have more than one value on y_type => The set is no more needed\u001B[39;00m\n\u001B[0;32m    100\u001B[0m y_type \u001B[38;5;241m=\u001B[39m y_type\u001B[38;5;241m.\u001B[39mpop()\n",
      "\u001B[1;31mValueError\u001B[0m: Classification metrics can't handle a mix of multilabel-indicator and continuous-multioutput targets"
     ]
    }
   ],
   "source": [
    "#use a dict to map, key is manual, value is predicted?\n",
    "nuc_map = dict()\n",
    "#use jaccard_score to match\n",
    "#TODO: it will not be a one-to-one mapping because the numbers of detected nuclei are different, address this??\n",
    "\n",
    "#loop through manual masks\n",
    "\n",
    "for m_mask in man_masks:\n",
    "    #loop through predicted masks\n",
    "    for pd_mask in pd_masks:\n",
    "        #ERORR: something went wrong on thye pd_masks[109],\n",
    "        #Error msg: Classification metrics can't handle a mix of multilabel-indicator and continuous-multioutput targets\n",
    "        score = jaccard_score(m_mask, pd_mask,average='micro')\n"
   ],
   "metadata": {
    "collapsed": false,
    "pycharm": {
     "name": "#%%\n"
    }
   }
  },
  {
   "cell_type": "code",
   "execution_count": 529,
   "outputs": [
    {
     "data": {
      "text/plain": "array([[0., 0., 0., ..., 0., 0., 0.],\n       [0., 0., 0., ..., 0., 0., 0.],\n       [0., 0., 0., ..., 0., 0., 0.],\n       ...,\n       [0., 0., 0., ..., 0., 0., 0.],\n       [0., 0., 0., ..., 0., 0., 0.],\n       [0., 0., 0., ..., 0., 0., 0.]])"
     },
     "execution_count": 529,
     "metadata": {},
     "output_type": "execute_result"
    }
   ],
   "source": [
    "pd_masks[109]"
   ],
   "metadata": {
    "collapsed": false,
    "pycharm": {
     "name": "#%%\n"
    }
   }
  },
  {
   "cell_type": "code",
   "execution_count": 530,
   "outputs": [
    {
     "data": {
      "text/plain": "array([[0., 0., 0., ..., 0., 0., 0.],\n       [0., 0., 0., ..., 0., 0., 0.],\n       [0., 0., 0., ..., 0., 0., 0.],\n       ...,\n       [0., 0., 0., ..., 0., 0., 0.],\n       [0., 0., 0., ..., 0., 0., 0.],\n       [0., 0., 0., ..., 0., 0., 0.]])"
     },
     "execution_count": 530,
     "metadata": {},
     "output_type": "execute_result"
    }
   ],
   "source": [
    "pd_masks[108]"
   ],
   "metadata": {
    "collapsed": false,
    "pycharm": {
     "name": "#%%\n"
    }
   }
  },
  {
   "cell_type": "code",
   "execution_count": null,
   "outputs": [],
   "source": [
    "match = pd_contours[0]\n",
    "for coord in pd_contours:\n",
    "    score = jaccard_score(test, coord, average=\"micro\")\n",
    "    if(jaccard_score(test, coord, average=\"micro\") > score):\n",
    "        match = coord"
   ],
   "metadata": {
    "collapsed": false,
    "pycharm": {
     "name": "#%%\n"
    }
   }
  },
  {
   "cell_type": "code",
   "execution_count": null,
   "outputs": [],
   "source": [],
   "metadata": {
    "collapsed": false,
    "pycharm": {
     "name": "#%%\n"
    }
   }
  },
  {
   "cell_type": "code",
   "execution_count": null,
   "outputs": [],
   "source": [],
   "metadata": {
    "collapsed": false,
    "pycharm": {
     "name": "#%%\n"
    }
   }
  },
  {
   "cell_type": "code",
   "execution_count": null,
   "outputs": [],
   "source": [
    "#----old code-----"
   ],
   "metadata": {
    "collapsed": false,
    "pycharm": {
     "name": "#%%\n"
    }
   }
  },
  {
   "cell_type": "code",
   "execution_count": 45,
   "outputs": [],
   "source": [
    "#calculate centroid through contour\n",
    "def cntcent(cnt):\n",
    "    M = cv2.moments(cnt)\n",
    "    cX = int(M[\"m10\"] / M[\"m00\"])\n",
    "    cY = int(M[\"m01\"] / M[\"m00\"])\n",
    "    return [cX,cY]\n",
    "\n",
    "#function that calculates area based on contour\n",
    "#parameter cnt: contour\n",
    "#return: area\n",
    "def cntarea(cnt):\n",
    "    cnt = np.array(cnt)\n",
    "    try:\n",
    "        area = cv2.contourArea(cnt)\n",
    "    except:\n",
    "        area = cv2.contourArea(cnt+1)\n",
    "    return area"
   ],
   "metadata": {
    "collapsed": false,
    "pycharm": {
     "name": "#%%\n"
    }
   }
  },
  {
   "cell_type": "code",
   "execution_count": 48,
   "outputs": [
    {
     "ename": "error",
     "evalue": "OpenCV(4.6.0) D:\\a\\opencv-python\\opencv-python\\opencv\\modules\\imgproc\\src\\shapedescr.cpp:315: error: (-215:Assertion failed) npoints >= 0 && (depth == CV_32F || depth == CV_32S) in function 'cv::contourArea'\n",
     "output_type": "error",
     "traceback": [
      "\u001B[1;31m---------------------------------------------------------------------------\u001B[0m",
      "\u001B[1;31merror\u001B[0m                                     Traceback (most recent call last)",
      "Input \u001B[1;32mIn [45]\u001B[0m, in \u001B[0;36mcntarea\u001B[1;34m(cnt)\u001B[0m\n\u001B[0;32m     13\u001B[0m \u001B[38;5;28;01mtry\u001B[39;00m:\n\u001B[1;32m---> 14\u001B[0m     area \u001B[38;5;241m=\u001B[39m \u001B[43mcv2\u001B[49m\u001B[38;5;241;43m.\u001B[39;49m\u001B[43mcontourArea\u001B[49m\u001B[43m(\u001B[49m\u001B[43mcnt\u001B[49m\u001B[43m)\u001B[49m\n\u001B[0;32m     15\u001B[0m \u001B[38;5;28;01mexcept\u001B[39;00m:\n",
      "\u001B[1;31merror\u001B[0m: OpenCV(4.6.0) D:\\a\\opencv-python\\opencv-python\\opencv\\modules\\imgproc\\src\\shapedescr.cpp:315: error: (-215:Assertion failed) npoints >= 0 && (depth == CV_32F || depth == CV_32S) in function 'cv::contourArea'\n",
      "\nDuring handling of the above exception, another exception occurred:\n",
      "\u001B[1;31merror\u001B[0m                                     Traceback (most recent call last)",
      "Input \u001B[1;32mIn [48]\u001B[0m, in \u001B[0;36m<cell line: 3>\u001B[1;34m()\u001B[0m\n\u001B[0;32m      4\u001B[0m [cx,cy]\u001B[38;5;241m=\u001B[39mcntcent(arr)\n\u001B[0;32m      5\u001B[0m contours \u001B[38;5;241m=\u001B[39m arr[\u001B[38;5;241m0\u001B[39m] \u001B[38;5;28;01mif\u001B[39;00m imutils\u001B[38;5;241m.\u001B[39mis_cv2() \u001B[38;5;28;01melse\u001B[39;00m arr[\u001B[38;5;241m1\u001B[39m]\n\u001B[1;32m----> 6\u001B[0m areas[idx] \u001B[38;5;241m=\u001B[39m \u001B[43mcntarea\u001B[49m\u001B[43m(\u001B[49m\u001B[43marr\u001B[49m\u001B[43m)\u001B[49m\n\u001B[0;32m      7\u001B[0m cent[idx,:] \u001B[38;5;241m=\u001B[39m cx,cy\n",
      "Input \u001B[1;32mIn [45]\u001B[0m, in \u001B[0;36mcntarea\u001B[1;34m(cnt)\u001B[0m\n\u001B[0;32m     14\u001B[0m     area \u001B[38;5;241m=\u001B[39m cv2\u001B[38;5;241m.\u001B[39mcontourArea(cnt)\n\u001B[0;32m     15\u001B[0m \u001B[38;5;28;01mexcept\u001B[39;00m:\n\u001B[1;32m---> 16\u001B[0m     area \u001B[38;5;241m=\u001B[39m \u001B[43mcv2\u001B[49m\u001B[38;5;241;43m.\u001B[39;49m\u001B[43mcontourArea\u001B[49m\u001B[43m(\u001B[49m\u001B[43mcnt\u001B[49m\u001B[38;5;241;43m+\u001B[39;49m\u001B[38;5;241;43m1\u001B[39;49m\u001B[43m)\u001B[49m\n\u001B[0;32m     17\u001B[0m \u001B[38;5;28;01mreturn\u001B[39;00m area\n",
      "\u001B[1;31merror\u001B[0m: OpenCV(4.6.0) D:\\a\\opencv-python\\opencv-python\\opencv\\modules\\imgproc\\src\\shapedescr.cpp:315: error: (-215:Assertion failed) npoints >= 0 && (depth == CV_32F || depth == CV_32S) in function 'cv::contourArea'\n"
     ]
    }
   ],
   "source": [
    "cent = np.zeros((len(man_coordinates_arr),2))\n",
    "areas = np.zeros((len(man_coordinates_arr),1))\n",
    "for idx,arr in enumerate(man_coordinates_arr):\n",
    "    [cx,cy]=cntcent(arr)\n",
    "    contours = arr[0] if imutils.is_cv2() else arr[1]\n",
    "    areas[idx] = cntarea(arr)\n",
    "    cent[idx,:] = cx,cy"
   ],
   "metadata": {
    "collapsed": false,
    "pycharm": {
     "name": "#%%\n"
    }
   }
  },
  {
   "cell_type": "code",
   "execution_count": 42,
   "outputs": [],
   "source": [
    "from sklearn.neighbors import NearestNeighbors\n",
    "nbrs = NearestNeighbors(n_neighbors=2, metric='euclidean').fit(cent) #build model\n",
    "distances, indices = nbrs.kneighbors(cent) #query point"
   ],
   "metadata": {
    "collapsed": false,
    "pycharm": {
     "name": "#%%\n"
    }
   }
  },
  {
   "cell_type": "code",
   "execution_count": 45,
   "outputs": [
    {
     "data": {
      "text/plain": "array([19.02629759, 28.46049894, 23.43074903, 29.41088234, 21.02379604,\n       24.20743687, 28.01785145, 28.65309756, 21.1896201 , 21.02379604,\n       21.02379604, 22.47220505, 22.47220505, 24.75883681, 18.68154169,\n       18.68154169, 21.84032967, 13.41640786, 13.41640786, 17.69180601,\n       17.69180601, 25.17935662, 16.4924225 , 22.09072203, 17.08800749,\n       22.09072203, 24.04163056, 24.75883681, 21.09502311, 21.09502311,\n       20.61552813, 18.02775638, 21.58703314, 19.72308292, 14.        ,\n       14.        , 25.61249695, 17.02938637, 15.23154621, 20.51828453,\n       17.02938637, 17.4642492 , 16.64331698, 26.2488095 , 18.86796226,\n       19.92485885, 16.2788206 , 15.        , 24.04163056, 15.        ,\n       12.20655562, 21.26029163, 21.9544984 , 18.60107524, 27.73084925,\n       31.82766093, 20.61552813, 23.32380758, 26.17250466, 18.86796226,\n       18.86796226, 21.26029163, 22.02271555, 19.6977156 , 19.6977156 ,\n       16.64331698, 17.4642492 , 24.69817807, 24.69817807, 26.47640459,\n       21.40093456, 21.40093456, 26.47640459, 27.78488798, 27.80287755,\n       22.8035085 , 16.76305461, 16.76305461, 18.68154169, 18.68154169,\n       22.20360331, 18.86796226, 14.31782106, 19.84943324, 14.31782106,\n       13.60147051, 15.23154621, 16.76305461, 13.60147051, 22.13594362,\n       15.29705854, 27.16615541, 15.29705854, 16.03121954, 29.12043956,\n       16.76305461, 13.60147051, 13.60147051, 16.2788206 , 16.2788206 ,\n       21.26029163, 29.83286778, 18.02775638, 18.02775638, 18.38477631,\n       23.60084744, 25.45584412, 26.87005769, 33.9705755 , 28.46049894,\n       25.        , 30.52867504, 25.05992817, 63.50590524, 20.24845673,\n       27.01851217, 27.01851217, 20.24845673, 25.        , 25.05992817,\n       22.09072203, 22.02271555, 19.72308292, 22.627417  , 19.72308292,\n       23.43074903, 21.58703314, 18.11077028, 29.01723626, 23.40939982,\n       23.40939982, 15.8113883 , 15.8113883 , 23.70653918, 23.70653918,\n       18.86796226, 18.86796226, 21.9544984 , 21.9544984 , 27.01851217,\n       22.20360331, 21.21320344, 12.        , 12.        , 13.03840481,\n       16.03121954, 15.23154621, 15.23154621, 34.92849839,  0.        ,\n       14.4222051 , 14.4222051 , 26.07680962, 79.00632886, 53.23532662,\n       26.40075756, 26.40075756,  1.        , 49.1934955 , 27.51363298,\n       32.75667871, 19.6977156 ,  1.        , 23.34523506, 49.1934955 ,\n       15.03329638, 15.03329638, 18.78829423, 27.78488798, 18.11077028,\n       16.55294536, 16.55294536,  1.        , 27.51363298, 15.8113883 ,\n       20.59126028, 20.59126028, 16.03121954,  9.48683298, 15.8113883 ,\n        9.48683298, 31.82766093,  0.        ,  2.        , 24.33105012,\n       17.        , 17.        , 15.26433752, 15.26433752, 24.20743687,\n       24.20743687, 50.44799302, 39.84971769, 27.16615541, 33.42154993,\n        0.        ,  0.        , 49.24428901, 14.03566885, 12.04159458,\n       12.04159458, 14.56021978, 17.02938637, 17.02938637, 17.4642492 ,\n       12.64911064, 12.64911064, 15.        , 15.23154621, 15.8113883 ,\n       17.4642492 , 23.32380758, 23.76972865, 18.78829423, 18.60107524,\n       21.9544984 ,  1.        , 17.20465053,  0.        , 34.0147027 ,\n       26.92582404, 18.78829423, 13.15294644, 15.29705854, 15.29705854,\n       20.61552813, 14.03566885, 14.03566885, 16.2788206 , 17.69180601,\n       18.43908891, 13.89244399, 15.29705854, 14.76482306, 14.76482306,\n       15.62049935, 28.65309756, 16.40121947, 16.40121947, 17.49285568,\n       17.02938637, 17.02938637, 19.23538406,  1.        , 12.64911064,\n       13.34166406, 13.34166406, 16.76305461, 16.76305461, 27.        ,\n       30.        , 16.55294536, 15.8113883 , 21.1896201 , 17.11724277,\n       17.11724277, 16.1245155 , 22.02271555, 23.70653918, 16.55294536,\n       13.34166406, 13.34166406, 23.40939982, 14.14213562, 13.15294644,\n        0.        , 40.60788101, 14.76482306, 16.55294536, 13.89244399,\n       12.52996409, 24.73863375, 14.14213562, 18.86796226, 45.31004304,\n       29.42787794, 45.31004304, 36.89173349, 11.40175425, 35.84689666,\n       47.01063709, 12.20655562, 21.37755833, 17.08800749, 22.56102835,\n       21.1896201 , 19.41648784, 13.92838828, 13.92838828, 16.03121954,\n       16.76305461, 16.76305461, 12.64911064, 15.8113883 , 25.29822128,\n       12.52996409, 24.16609195, 31.144823  , 22.47220505, 31.57530681,\n       14.31782106, 14.31782106, 64.00781202, 10.        , 10.        ,\n       29.        , 53.22593353, 21.1896201 , 21.1896201 , 73.55270219,\n       73.00684899,  1.        , 15.29705854, 15.29705854, 23.08679276,\n       15.        , 15.        ,  0.        ,  4.        , 68.44705983,\n       42.20189569, 42.20189569, 88.20430828, 36.35931793, 36.35931793,\n       20.51828453, 20.51828453, 19.6977156 ,  1.        , 21.02379604,\n       21.02379604, 27.51363298, 32.14031736, 25.61249695, 26.07680962,\n       11.04536102, 11.04536102, 32.        , 25.96150997, 28.65309756,\n       25.61249695, 48.83646179, 11.40175425, 24.20743687, 23.34523506,\n       20.1246118 , 18.78829423, 18.78829423, 15.26433752, 10.44030651,\n       10.44030651, 15.26433752, 14.31782106, 14.31782106, 15.        ,\n       15.        , 22.36067977, 13.34166406, 21.54065923, 31.01612484,\n       13.34166406, 41.0487515 ,  0.        , 38.62641583,  2.        ,\n       38.32753579, 17.20465053, 46.57252409,  8.        , 29.83286778,\n        2.        ,  1.        , 19.72308292,  0.        , 16.2788206 ,\n       36.05551275, 34.0147027 , 25.        , 16.2788206 ,  0.        ,\n       21.02379604,  4.        , 26.17250466, 29.06888371])"
     },
     "execution_count": 45,
     "metadata": {},
     "output_type": "execute_result"
    }
   ],
   "source": [
    "distance = distances[:, 1]\n",
    "distance"
   ],
   "metadata": {
    "collapsed": false,
    "pycharm": {
     "name": "#%%\n"
    }
   }
  },
  {
   "cell_type": "code",
   "execution_count": 28,
   "outputs": [],
   "source": [
    "#open hovernet image\n",
    "src = r'\\\\fatherserverdw\\Q\\research\\images\\skin_aging\\hovernet_tile\\TILE\\imID_8_sec_1\\out\\json'\n",
    "fn = '11.json'"
   ],
   "metadata": {
    "collapsed": false,
    "pycharm": {
     "name": "#%%\n"
    }
   }
  },
  {
   "cell_type": "code",
   "execution_count": 29,
   "outputs": [],
   "source": [
    "json = pd.read_json(os.path.join(src,fn),orient='records')"
   ],
   "metadata": {
    "collapsed": false,
    "pycharm": {
     "name": "#%%\n"
    }
   }
  },
  {
   "cell_type": "code",
   "execution_count": 30,
   "outputs": [],
   "source": [
    "centroid = [_['centroid'] for _ in json.nuc]\n",
    "contour = [_['contour'] for _ in json.nuc]\n",
    "bbox = [_['bbox'] for _ in json.nuc]"
   ],
   "metadata": {
    "collapsed": false,
    "pycharm": {
     "name": "#%%\n"
    }
   }
  },
  {
   "cell_type": "code",
   "execution_count": 17,
   "outputs": [],
   "source": [
    "#hovernet image dataframe\n",
    "df = pd.DataFrame({'centroid':centroid,'contour':contour,'bbox':bbox})"
   ],
   "metadata": {
    "collapsed": false,
    "pycharm": {
     "name": "#%%\n"
    }
   }
  },
  {
   "cell_type": "code",
   "execution_count": 18,
   "outputs": [],
   "source": [
    "#add area to hovernet dataframe\n",
    "df['Area'] = df['contour'].apply(lambda row: cntarea(row))"
   ],
   "metadata": {
    "collapsed": false,
    "pycharm": {
     "name": "#%%\n"
    }
   }
  },
  {
   "cell_type": "code",
   "execution_count": 35,
   "outputs": [],
   "source": [
    "#calculate centroid for manual annotation\n",
    "\n",
    "#for each centroid from manual annotation, find nearest centroid in hovernet"
   ],
   "metadata": {
    "collapsed": false,
    "pycharm": {
     "name": "#%%\n"
    }
   }
  },
  {
   "cell_type": "code",
   "execution_count": null,
   "outputs": [],
   "source": [
    "#compare hovernet contour (df) and manual annotation coordinates\n",
    "#i.e. compare the centriods from hovernet and manual\n",
    "#does order matter? training vs.target?\n",
    "X = [[0], [1], [2], [3]] #training set\n",
    "y = [0, 0, 1, 1] #target set\n",
    "from sklearn.neighbors import KNeighborsClassifier\n",
    "neigh = KNeighborsClassifier(n_neighbors=1)\n",
    "neigh.fit(X, y)\n",
    "# all above is to create a map of centroid using X,y which is centroid in manual annotation\n",
    "\n",
    "centroid_ID = []\n",
    "for x,y in hovernet_centroids:\n",
    "    centroid_ID.append(neigh.predict([x,y])) # predict function requires query point which is centroid in hovernet predict contour's centroid\n"
   ],
   "metadata": {
    "collapsed": false,
    "pycharm": {
     "name": "#%%\n"
    }
   }
  },
  {
   "cell_type": "code",
   "execution_count": null,
   "outputs": [],
   "source": [
    "#IoU: area of overlap/area of union"
   ],
   "metadata": {
    "collapsed": false,
    "pycharm": {
     "name": "#%%\n"
    }
   }
  }
 ],
 "metadata": {
  "kernelspec": {
   "display_name": "Python 3",
   "language": "python",
   "name": "python3"
  },
  "language_info": {
   "codemirror_mode": {
    "name": "ipython",
    "version": 2
   },
   "file_extension": ".py",
   "mimetype": "text/x-python",
   "name": "python",
   "nbconvert_exporter": "python",
   "pygments_lexer": "ipython2",
   "version": "2.7.6"
  }
 },
 "nbformat": 4,
 "nbformat_minor": 0
}