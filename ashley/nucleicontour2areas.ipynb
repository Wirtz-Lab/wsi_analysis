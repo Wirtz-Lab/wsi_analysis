{
 "cells": [
  {
   "cell_type": "code",
   "execution_count": 25,
   "outputs": [],
   "source": [
    "import pandas\n",
    "import pandas as pd\n",
    "import os\n",
    "import numpy as np\n",
    "import cv2\n",
    "import imutils\n",
    "from shapely.geometry import shape, GeometryCollection,Polygon,mapping\n",
    "import json\n",
    "import glob\n",
    "import matplotlib.pyplot as plt\n",
    "from sklearn.metrics import jaccard_score\n",
    "from PIL import Image\n",
    "from sklearn.utils.multiclass import type_of_target\n",
    "\n",
    "from tqdm import tqdm\n"
   ],
   "metadata": {
    "collapsed": false,
    "pycharm": {
     "name": "#%%\n"
    }
   }
  },
  {
   "cell_type": "code",
   "execution_count": 3,
   "outputs": [],
   "source": [
    "#open manual annotated image from geojson (exported qupath image as geojason because paquo installation failed)\n",
    "src = r'\\\\fatherserverdw\\Q\\research\\images\\skin_aging\\hovernet_tile\\hovernet_manual_validation'\n",
    "manual = os.path.join(src,'manual_annotation')\n",
    "predicted = os.path.join(src,'predicted_nuclei_contour')\n",
    "raw_ims = os.path.join(src,'raw_image')\n",
    "\n",
    "#open manual annotations with json.load\n",
    "annotations = glob.glob(os.path.join(manual,'*.geojson'))\n",
    "#load ashley_test to try\n",
    "annotation = annotations[1]\n",
    "with open(annotation) as f:\n",
    "  features = json.load(f)[\"features\"]\n"
   ],
   "metadata": {
    "collapsed": false,
    "pycharm": {
     "name": "#%%\n"
    }
   }
  },
  {
   "cell_type": "code",
   "execution_count": 4,
   "outputs": [],
   "source": [
    "#get size of origianl image\n",
    "raw = glob.glob(os.path.join(raw_ims,'*.tif'))\n",
    "raw_img = cv2.imread(raw[0])\n",
    "dim = raw_img.shape\n",
    "image_size = (dim[0],dim[1])"
   ],
   "metadata": {
    "collapsed": false,
    "pycharm": {
     "name": "#%%\n"
    }
   }
  },
  {
   "cell_type": "code",
   "execution_count": 5,
   "outputs": [],
   "source": [
    "#open predicted annotations\n",
    "pd_annotations = glob.glob(os.path.join(predicted,'*.json'))\n",
    "#open tile11\n",
    "pd_annotation = pd_annotations[0]\n",
    "with open(pd_annotation) as pd_f:\n",
    "  #bbox, centroid, contour\n",
    "  pd_features = json.load(pd_f)[\"nuc\"]"
   ],
   "metadata": {
    "collapsed": false,
    "pycharm": {
     "name": "#%%\n"
    }
   }
  },
  {
   "cell_type": "code",
   "execution_count": 6,
   "outputs": [],
   "source": [
    "#create a list of predicted contours\n",
    "pd_contours=[]\n",
    "for key in pd_features:\n",
    "    contour = []\n",
    "    temp = pd_features.get(key)\n",
    "    #for c in temp.get('contour'):#turn list to tuple\n",
    "        #contour.append(tuple(c))\n",
    "    pd_contours.append(temp.get('contour'))"
   ],
   "metadata": {
    "collapsed": false,
    "pycharm": {
     "name": "#%%\n"
    }
   }
  },
  {
   "cell_type": "code",
   "execution_count": 7,
   "outputs": [],
   "source": [
    "#TODO:\n",
    "#convert predicted contours to shapely polygons, then from polygons to coordinates\n",
    "\n",
    "#create a list of predicted shapely polygons\n",
    "#pd_poly = [Polygon(x) for x in pd_contours]"
   ],
   "metadata": {
    "collapsed": false,
    "pycharm": {
     "name": "#%%\n"
    }
   }
  },
  {
   "cell_type": "code",
   "execution_count": 8,
   "outputs": [],
   "source": [
    "#create a list of predicted binary masks\n",
    "pd_masks = []\n",
    "for contour in pd_contours:\n",
    "    image = np.zeros(image_size)\n",
    "    binary = cv2.fillPoly(image, pts=[np.array(contour)],  color=(1, 0, 0))\n",
    "    pd_masks.append(binary)"
   ],
   "metadata": {
    "collapsed": false,
    "pycharm": {
     "name": "#%%\n"
    }
   }
  },
  {
   "cell_type": "code",
   "execution_count": 9,
   "outputs": [],
   "source": [
    "#is this the contour of manual coordinates?\n",
    "#something/wrong with the manual data: 1.some idx are in float64, 2.some have multiple obj in one idx ([101])\n",
    "man_coordinates = [np.squeeze(_['geometry']['coordinates']) for _ in features]"
   ],
   "metadata": {
    "collapsed": false,
    "pycharm": {
     "name": "#%%\n"
    }
   }
  },
  {
   "cell_type": "code",
   "execution_count": 10,
   "outputs": [],
   "source": [
    "#create a list of manually annotated binary masks\n",
    "man_masks=[]\n",
    "for coord in man_coordinates:\n",
    "    image = np.zeros(image_size)\n",
    "    binary = cv2.fillPoly(image, pts=[np.array(coord).astype(np.int32)],  color=(1, 0, 0))\n",
    "    man_masks.append(binary)"
   ],
   "metadata": {
    "collapsed": false,
    "pycharm": {
     "name": "#%%\n"
    }
   }
  },
  {
   "cell_type": "code",
   "execution_count": 18,
   "outputs": [
    {
     "data": {
      "text/plain": "'multilabel-indicator'"
     },
     "execution_count": 18,
     "metadata": {},
     "output_type": "execute_result"
    }
   ],
   "source": [
    "#type check\n",
    "#continous-multi output is a 2d array of floats that are not all integers, and both dimensions are of size > 1.\n",
    "type_of_target(pd_masks[109])"
   ],
   "metadata": {
    "collapsed": false,
    "pycharm": {
     "name": "#%%\n"
    }
   }
  },
  {
   "cell_type": "code",
   "execution_count": 20,
   "outputs": [
    {
     "data": {
      "text/plain": "'multilabel-indicator'"
     },
     "execution_count": 20,
     "metadata": {},
     "output_type": "execute_result"
    }
   ],
   "source": [
    "#'multilabel-indicator': is a label indicator matrix, an array of two dimensions with at least two columns, and at most 2 unique values.\n",
    "type_of_target(pd_masks[108])"
   ],
   "metadata": {
    "collapsed": false,
    "pycharm": {
     "name": "#%%\n"
    }
   }
  },
  {
   "cell_type": "code",
   "execution_count": 28,
   "outputs": [
    {
     "name": "stderr",
     "output_type": "stream",
     "text": [
      "100%|██████████| 347/347 [00:30<00:00, 11.23it/s]\n"
     ]
    }
   ],
   "source": [
    "#test for just one manual, works\n",
    "match = pd_masks[0]\n",
    "score = jaccard_score(man_masks[0], pd_masks[0], average=\"micro\")\n",
    "for pd in tqdm(pd_masks):\n",
    "    if(jaccard_score(man_masks[0], pd, average=\"micro\") > score):\n",
    "        match = pd\n",
    "        score = jaccard_score(man_masks[0], pd, average=\"micro\")"
   ],
   "metadata": {
    "collapsed": false,
    "pycharm": {
     "name": "#%%\n"
    }
   }
  },
  {
   "cell_type": "code",
   "execution_count": 30,
   "outputs": [
    {
     "data": {
      "text/plain": "<matplotlib.image.AxesImage at 0x23598d5da90>"
     },
     "execution_count": 30,
     "metadata": {},
     "output_type": "execute_result"
    },
    {
     "data": {
      "text/plain": "<Figure size 432x288 with 1 Axes>",
      "image/png": "[encoded data removed]"
     },
     "metadata": {
      "needs_background": "light"
     },
     "output_type": "display_data"
    }
   ],
   "source": [
    "plt.imshow(match)"
   ],
   "metadata": {
    "collapsed": false,
    "pycharm": {
     "name": "#%%\n"
    }
   }
  },
  {
   "cell_type": "code",
   "execution_count": 32,
   "outputs": [
    {
     "data": {
      "text/plain": "<matplotlib.image.AxesImage at 0x23598cf5f40>"
     },
     "execution_count": 32,
     "metadata": {},
     "output_type": "execute_result"
    },
    {
     "data": {
      "text/plain": "<Figure size 432x288 with 1 Axes>",
      "image/png": "[encoded data removed]"
     },
     "metadata": {
      "needs_background": "light"
     },
     "output_type": "display_data"
    }
   ],
   "source": [
    "plt.imshow(man_masks[0])"
   ],
   "metadata": {
    "collapsed": false,
    "pycharm": {
     "name": "#%%\n"
    }
   }
  },
  {
   "cell_type": "code",
   "execution_count": 43,
   "outputs": [],
   "source": [
    "#create a empty dataframe to store nuclei mappings\n",
    "col_names = [\"manual\",\"predicted\",\"score\"]\n",
    "nuc_map = pd.DataFrame(columns=col_names)\n"
   ],
   "metadata": {
    "collapsed": false,
    "pycharm": {
     "name": "#%%\n"
    }
   }
  },
  {
   "cell_type": "code",
   "execution_count": 49,
   "outputs": [
    {
     "name": "stderr",
     "output_type": "stream",
     "text": [
      "  0%|          | 0/384 [00:30<?, ?it/s]\n"
     ]
    },
    {
     "ename": "AttributeError",
     "evalue": "'DataFrame' object has no attribute 'concat'",
     "output_type": "error",
     "traceback": [
      "\u001B[1;31m---------------------------------------------------------------------------\u001B[0m",
      "\u001B[1;31mAttributeError\u001B[0m                            Traceback (most recent call last)",
      "Input \u001B[1;32mIn [49]\u001B[0m, in \u001B[0;36m<cell line: 6>\u001B[1;34m()\u001B[0m\n\u001B[0;32m     18\u001B[0m \u001B[38;5;28;01mif\u001B[39;00m(score \u001B[38;5;241m>\u001B[39m thres):\n\u001B[0;32m     19\u001B[0m     df2 \u001B[38;5;241m=\u001B[39m {\u001B[38;5;124m'\u001B[39m\u001B[38;5;124mmanual\u001B[39m\u001B[38;5;124m'\u001B[39m: man, \u001B[38;5;124m'\u001B[39m\u001B[38;5;124mpredicted\u001B[39m\u001B[38;5;124m'\u001B[39m: pd, \u001B[38;5;124m'\u001B[39m\u001B[38;5;124mscore\u001B[39m\u001B[38;5;124m'\u001B[39m: score}\n\u001B[1;32m---> 20\u001B[0m     nuc_map \u001B[38;5;241m=\u001B[39m \u001B[43mnuc_map\u001B[49m\u001B[38;5;241;43m.\u001B[39;49m\u001B[43mconcat\u001B[49m(df2, ignore_index \u001B[38;5;241m=\u001B[39m \u001B[38;5;28;01mTrue\u001B[39;00m)\n\u001B[0;32m     21\u001B[0m \u001B[38;5;28;01melse\u001B[39;00m:\n\u001B[0;32m     22\u001B[0m      df2 \u001B[38;5;241m=\u001B[39m {\u001B[38;5;124m'\u001B[39m\u001B[38;5;124mmanual\u001B[39m\u001B[38;5;124m'\u001B[39m: man, \u001B[38;5;124m'\u001B[39m\u001B[38;5;124mpredicted\u001B[39m\u001B[38;5;124m'\u001B[39m: \u001B[38;5;28;01mNone\u001B[39;00m, \u001B[38;5;124m'\u001B[39m\u001B[38;5;124mscore\u001B[39m\u001B[38;5;124m'\u001B[39m: score}\n",
      "File \u001B[1;32mC:\\ProgramData\\Anaconda3\\envs\\wsi_analysis\\lib\\site-packages\\pandas\\core\\generic.py:5575\u001B[0m, in \u001B[0;36mNDFrame.__getattr__\u001B[1;34m(self, name)\u001B[0m\n\u001B[0;32m   5568\u001B[0m \u001B[38;5;28;01mif\u001B[39;00m (\n\u001B[0;32m   5569\u001B[0m     name \u001B[38;5;129;01mnot\u001B[39;00m \u001B[38;5;129;01min\u001B[39;00m \u001B[38;5;28mself\u001B[39m\u001B[38;5;241m.\u001B[39m_internal_names_set\n\u001B[0;32m   5570\u001B[0m     \u001B[38;5;129;01mand\u001B[39;00m name \u001B[38;5;129;01mnot\u001B[39;00m \u001B[38;5;129;01min\u001B[39;00m \u001B[38;5;28mself\u001B[39m\u001B[38;5;241m.\u001B[39m_metadata\n\u001B[0;32m   5571\u001B[0m     \u001B[38;5;129;01mand\u001B[39;00m name \u001B[38;5;129;01mnot\u001B[39;00m \u001B[38;5;129;01min\u001B[39;00m \u001B[38;5;28mself\u001B[39m\u001B[38;5;241m.\u001B[39m_accessors\n\u001B[0;32m   5572\u001B[0m     \u001B[38;5;129;01mand\u001B[39;00m \u001B[38;5;28mself\u001B[39m\u001B[38;5;241m.\u001B[39m_info_axis\u001B[38;5;241m.\u001B[39m_can_hold_identifiers_and_holds_name(name)\n\u001B[0;32m   5573\u001B[0m ):\n\u001B[0;32m   5574\u001B[0m     \u001B[38;5;28;01mreturn\u001B[39;00m \u001B[38;5;28mself\u001B[39m[name]\n\u001B[1;32m-> 5575\u001B[0m \u001B[38;5;28;01mreturn\u001B[39;00m \u001B[38;5;28;43mobject\u001B[39;49m\u001B[38;5;241;43m.\u001B[39;49m\u001B[38;5;21;43m__getattribute__\u001B[39;49m\u001B[43m(\u001B[49m\u001B[38;5;28;43mself\u001B[39;49m\u001B[43m,\u001B[49m\u001B[43m \u001B[49m\u001B[43mname\u001B[49m\u001B[43m)\u001B[49m\n",
      "\u001B[1;31mAttributeError\u001B[0m: 'DataFrame' object has no attribute 'concat'"
     ]
    }
   ],
   "source": [
    "\n",
    "#question: is micro the right average?\n",
    "#also, since it's not a one-one mapping, we need to consider cases where there is no match\n",
    "#what's more, are we mapping predicted masks to manual masks? does the order matter?\n",
    "thres = 0.7\n",
    "#loop through manual masks\n",
    "for man in tqdm(man_masks):\n",
    "    #initialize variables\n",
    "    match = None\n",
    "    score = jaccard_score(man_masks[0], pd_masks[0], average=\"micro\")\n",
    "\n",
    "    #loop through predicted masks\n",
    "    for pd in pd_masks:\n",
    "        if(jaccard_score(man, pd, average=\"micro\") > score):\n",
    "            match = pd\n",
    "            score = jaccard_score(man, pd, average=\"micro\")\n",
    "    #add match and score to df\n",
    "    #thres probaly is not the best way to solve the no match situation, i don;t know how to\n",
    "    if(score > thres):\n",
    "        df2 = {'manual': man, 'predicted': pd, 'score': score}\n",
    "        nuc_map = nuc_map.concat(df2, ignore_index = True)\n",
    "    else:\n",
    "         df2 = {'manual': man, 'predicted': None, 'score': score}\n",
    "         nuc_map= nuc_map.concat(df2, ignore_index = True)"
   ],
   "metadata": {
    "collapsed": false,
    "pycharm": {
     "name": "#%%\n"
    }
   }
  },
  {
   "cell_type": "code",
   "execution_count": null,
   "outputs": [],
   "source": [],
   "metadata": {
    "collapsed": false,
    "pycharm": {
     "name": "#%%\n"
    }
   }
  },
  {
   "cell_type": "code",
   "execution_count": null,
   "outputs": [],
   "source": [],
   "metadata": {
    "collapsed": false,
    "pycharm": {
     "name": "#%%\n"
    }
   }
  },
  {
   "cell_type": "code",
   "execution_count": null,
   "outputs": [],
   "source": [
    "#----old code-----"
   ],
   "metadata": {
    "collapsed": false,
    "pycharm": {
     "name": "#%%\n"
    }
   }
  },
  {
   "cell_type": "code",
   "execution_count": 45,
   "outputs": [],
   "source": [
    "#calculate centroid through contour\n",
    "def cntcent(cnt):\n",
    "    M = cv2.moments(cnt)\n",
    "    cX = int(M[\"m10\"] / M[\"m00\"])\n",
    "    cY = int(M[\"m01\"] / M[\"m00\"])\n",
    "    return [cX,cY]\n",
    "\n",
    "#function that calculates area based on contour\n",
    "#parameter cnt: contour\n",
    "#return: area\n",
    "def cntarea(cnt):\n",
    "    cnt = np.array(cnt)\n",
    "    try:\n",
    "        area = cv2.contourArea(cnt)\n",
    "    except:\n",
    "        area = cv2.contourArea(cnt+1)\n",
    "    return area"
   ],
   "metadata": {
    "collapsed": false,
    "pycharm": {
     "name": "#%%\n"
    }
   }
  },
  {
   "cell_type": "code",
   "execution_count": 48,
   "outputs": [
    {
     "ename": "error",
     "evalue": "OpenCV(4.6.0) D:\\a\\opencv-python\\opencv-python\\opencv\\modules\\imgproc\\src\\shapedescr.cpp:315: error: (-215:Assertion failed) npoints >= 0 && (depth == CV_32F || depth == CV_32S) in function 'cv::contourArea'\n",
     "output_type": "error",
     "traceback": [
      "\u001B[1;31m---------------------------------------------------------------------------\u001B[0m",
      "\u001B[1;31merror\u001B[0m                                     Traceback (most recent call last)",
      "Input \u001B[1;32mIn [45]\u001B[0m, in \u001B[0;36mcntarea\u001B[1;34m(cnt)\u001B[0m\n\u001B[0;32m     13\u001B[0m \u001B[38;5;28;01mtry\u001B[39;00m:\n\u001B[1;32m---> 14\u001B[0m     area \u001B[38;5;241m=\u001B[39m \u001B[43mcv2\u001B[49m\u001B[38;5;241;43m.\u001B[39;49m\u001B[43mcontourArea\u001B[49m\u001B[43m(\u001B[49m\u001B[43mcnt\u001B[49m\u001B[43m)\u001B[49m\n\u001B[0;32m     15\u001B[0m \u001B[38;5;28;01mexcept\u001B[39;00m:\n",
      "\u001B[1;31merror\u001B[0m: OpenCV(4.6.0) D:\\a\\opencv-python\\opencv-python\\opencv\\modules\\imgproc\\src\\shapedescr.cpp:315: error: (-215:Assertion failed) npoints >= 0 && (depth == CV_32F || depth == CV_32S) in function 'cv::contourArea'\n",
      "\nDuring handling of the above exception, another exception occurred:\n",
      "\u001B[1;31merror\u001B[0m                                     Traceback (most recent call last)",
      "Input \u001B[1;32mIn [48]\u001B[0m, in \u001B[0;36m<cell line: 3>\u001B[1;34m()\u001B[0m\n\u001B[0;32m      4\u001B[0m [cx,cy]\u001B[38;5;241m=\u001B[39mcntcent(arr)\n\u001B[0;32m      5\u001B[0m contours \u001B[38;5;241m=\u001B[39m arr[\u001B[38;5;241m0\u001B[39m] \u001B[38;5;28;01mif\u001B[39;00m imutils\u001B[38;5;241m.\u001B[39mis_cv2() \u001B[38;5;28;01melse\u001B[39;00m arr[\u001B[38;5;241m1\u001B[39m]\n\u001B[1;32m----> 6\u001B[0m areas[idx] \u001B[38;5;241m=\u001B[39m \u001B[43mcntarea\u001B[49m\u001B[43m(\u001B[49m\u001B[43marr\u001B[49m\u001B[43m)\u001B[49m\n\u001B[0;32m      7\u001B[0m cent[idx,:] \u001B[38;5;241m=\u001B[39m cx,cy\n",
      "Input \u001B[1;32mIn [45]\u001B[0m, in \u001B[0;36mcntarea\u001B[1;34m(cnt)\u001B[0m\n\u001B[0;32m     14\u001B[0m     area \u001B[38;5;241m=\u001B[39m cv2\u001B[38;5;241m.\u001B[39mcontourArea(cnt)\n\u001B[0;32m     15\u001B[0m \u001B[38;5;28;01mexcept\u001B[39;00m:\n\u001B[1;32m---> 16\u001B[0m     area \u001B[38;5;241m=\u001B[39m \u001B[43mcv2\u001B[49m\u001B[38;5;241;43m.\u001B[39;49m\u001B[43mcontourArea\u001B[49m\u001B[43m(\u001B[49m\u001B[43mcnt\u001B[49m\u001B[38;5;241;43m+\u001B[39;49m\u001B[38;5;241;43m1\u001B[39;49m\u001B[43m)\u001B[49m\n\u001B[0;32m     17\u001B[0m \u001B[38;5;28;01mreturn\u001B[39;00m area\n",
      "\u001B[1;31merror\u001B[0m: OpenCV(4.6.0) D:\\a\\opencv-python\\opencv-python\\opencv\\modules\\imgproc\\src\\shapedescr.cpp:315: error: (-215:Assertion failed) npoints >= 0 && (depth == CV_32F || depth == CV_32S) in function 'cv::contourArea'\n"
     ]
    }
   ],
   "source": [
    "cent = np.zeros((len(man_coordinates_arr),2))\n",
    "areas = np.zeros((len(man_coordinates_arr),1))\n",
    "for idx,arr in enumerate(man_coordinates_arr):\n",
    "    [cx,cy]=cntcent(arr)\n",
    "    contours = arr[0] if imutils.is_cv2() else arr[1]\n",
    "    areas[idx] = cntarea(arr)\n",
    "    cent[idx,:] = cx,cy"
   ],
   "metadata": {
    "collapsed": false,
    "pycharm": {
     "name": "#%%\n"
    }
   }
  },
  {
   "cell_type": "code",
   "execution_count": 42,
   "outputs": [],
   "source": [
    "from sklearn.neighbors import NearestNeighbors\n",
    "nbrs = NearestNeighbors(n_neighbors=2, metric='euclidean').fit(cent) #build model\n",
    "distances, indices = nbrs.kneighbors(cent) #query point"
   ],
   "metadata": {
    "collapsed": false,
    "pycharm": {
     "name": "#%%\n"
    }
   }
  },
  {
   "cell_type": "code",
   "execution_count": 45,
   "outputs": [
    {
     "data": {
      "text/plain": "array([19.02629759, 28.46049894, 23.43074903, 29.41088234, 21.02379604,\n       24.20743687, 28.01785145, 28.65309756, 21.1896201 , 21.02379604,\n       21.02379604, 22.47220505, 22.47220505, 24.75883681, 18.68154169,\n       18.68154169, 21.84032967, 13.41640786, 13.41640786, 17.69180601,\n       17.69180601, 25.17935662, 16.4924225 , 22.09072203, 17.08800749,\n       22.09072203, 24.04163056, 24.75883681, 21.09502311, 21.09502311,\n       20.61552813, 18.02775638, 21.58703314, 19.72308292, 14.        ,\n       14.        , 25.61249695, 17.02938637, 15.23154621, 20.51828453,\n       17.02938637, 17.4642492 , 16.64331698, 26.2488095 , 18.86796226,\n       19.92485885, 16.2788206 , 15.        , 24.04163056, 15.        ,\n       12.20655562, 21.26029163, 21.9544984 , 18.60107524, 27.73084925,\n       31.82766093, 20.61552813, 23.32380758, 26.17250466, 18.86796226,\n       18.86796226, 21.26029163, 22.02271555, 19.6977156 , 19.6977156 ,\n       16.64331698, 17.4642492 , 24.69817807, 24.69817807, 26.47640459,\n       21.40093456, 21.40093456, 26.47640459, 27.78488798, 27.80287755,\n       22.8035085 , 16.76305461, 16.76305461, 18.68154169, 18.68154169,\n       22.20360331, 18.86796226, 14.31782106, 19.84943324, 14.31782106,\n       13.60147051, 15.23154621, 16.76305461, 13.60147051, 22.13594362,\n       15.29705854, 27.16615541, 15.29705854, 16.03121954, 29.12043956,\n       16.76305461, 13.60147051, 13.60147051, 16.2788206 , 16.2788206 ,\n       21.26029163, 29.83286778, 18.02775638, 18.02775638, 18.38477631,\n       23.60084744, 25.45584412, 26.87005769, 33.9705755 , 28.46049894,\n       25.        , 30.52867504, 25.05992817, 63.50590524, 20.24845673,\n       27.01851217, 27.01851217, 20.24845673, 25.        , 25.05992817,\n       22.09072203, 22.02271555, 19.72308292, 22.627417  , 19.72308292,\n       23.43074903, 21.58703314, 18.11077028, 29.01723626, 23.40939982,\n       23.40939982, 15.8113883 , 15.8113883 , 23.70653918, 23.70653918,\n       18.86796226, 18.86796226, 21.9544984 , 21.9544984 , 27.01851217,\n       22.20360331, 21.21320344, 12.        , 12.        , 13.03840481,\n       16.03121954, 15.23154621, 15.23154621, 34.92849839,  0.        ,\n       14.4222051 , 14.4222051 , 26.07680962, 79.00632886, 53.23532662,\n       26.40075756, 26.40075756,  1.        , 49.1934955 , 27.51363298,\n       32.75667871, 19.6977156 ,  1.        , 23.34523506, 49.1934955 ,\n       15.03329638, 15.03329638, 18.78829423, 27.78488798, 18.11077028,\n       16.55294536, 16.55294536,  1.        , 27.51363298, 15.8113883 ,\n       20.59126028, 20.59126028, 16.03121954,  9.48683298, 15.8113883 ,\n        9.48683298, 31.82766093,  0.        ,  2.        , 24.33105012,\n       17.        , 17.        , 15.26433752, 15.26433752, 24.20743687,\n       24.20743687, 50.44799302, 39.84971769, 27.16615541, 33.42154993,\n        0.        ,  0.        , 49.24428901, 14.03566885, 12.04159458,\n       12.04159458, 14.56021978, 17.02938637, 17.02938637, 17.4642492 ,\n       12.64911064, 12.64911064, 15.        , 15.23154621, 15.8113883 ,\n       17.4642492 , 23.32380758, 23.76972865, 18.78829423, 18.60107524,\n       21.9544984 ,  1.        , 17.20465053,  0.        , 34.0147027 ,\n       26.92582404, 18.78829423, 13.15294644, 15.29705854, 15.29705854,\n       20.61552813, 14.03566885, 14.03566885, 16.2788206 , 17.69180601,\n       18.43908891, 13.89244399, 15.29705854, 14.76482306, 14.76482306,\n       15.62049935, 28.65309756, 16.40121947, 16.40121947, 17.49285568,\n       17.02938637, 17.02938637, 19.23538406,  1.        , 12.64911064,\n       13.34166406, 13.34166406, 16.76305461, 16.76305461, 27.        ,\n       30.        , 16.55294536, 15.8113883 , 21.1896201 , 17.11724277,\n       17.11724277, 16.1245155 , 22.02271555, 23.70653918, 16.55294536,\n       13.34166406, 13.34166406, 23.40939982, 14.14213562, 13.15294644,\n        0.        , 40.60788101, 14.76482306, 16.55294536, 13.89244399,\n       12.52996409, 24.73863375, 14.14213562, 18.86796226, 45.31004304,\n       29.42787794, 45.31004304, 36.89173349, 11.40175425, 35.84689666,\n       47.01063709, 12.20655562, 21.37755833, 17.08800749, 22.56102835,\n       21.1896201 , 19.41648784, 13.92838828, 13.92838828, 16.03121954,\n       16.76305461, 16.76305461, 12.64911064, 15.8113883 , 25.29822128,\n       12.52996409, 24.16609195, 31.144823  , 22.47220505, 31.57530681,\n       14.31782106, 14.31782106, 64.00781202, 10.        , 10.        ,\n       29.        , 53.22593353, 21.1896201 , 21.1896201 , 73.55270219,\n       73.00684899,  1.        , 15.29705854, 15.29705854, 23.08679276,\n       15.        , 15.        ,  0.        ,  4.        , 68.44705983,\n       42.20189569, 42.20189569, 88.20430828, 36.35931793, 36.35931793,\n       20.51828453, 20.51828453, 19.6977156 ,  1.        , 21.02379604,\n       21.02379604, 27.51363298, 32.14031736, 25.61249695, 26.07680962,\n       11.04536102, 11.04536102, 32.        , 25.96150997, 28.65309756,\n       25.61249695, 48.83646179, 11.40175425, 24.20743687, 23.34523506,\n       20.1246118 , 18.78829423, 18.78829423, 15.26433752, 10.44030651,\n       10.44030651, 15.26433752, 14.31782106, 14.31782106, 15.        ,\n       15.        , 22.36067977, 13.34166406, 21.54065923, 31.01612484,\n       13.34166406, 41.0487515 ,  0.        , 38.62641583,  2.        ,\n       38.32753579, 17.20465053, 46.57252409,  8.        , 29.83286778,\n        2.        ,  1.        , 19.72308292,  0.        , 16.2788206 ,\n       36.05551275, 34.0147027 , 25.        , 16.2788206 ,  0.        ,\n       21.02379604,  4.        , 26.17250466, 29.06888371])"
     },
     "execution_count": 45,
     "metadata": {},
     "output_type": "execute_result"
    }
   ],
   "source": [
    "distance = distances[:, 1]\n",
    "distance"
   ],
   "metadata": {
    "collapsed": false,
    "pycharm": {
     "name": "#%%\n"
    }
   }
  },
  {
   "cell_type": "code",
   "execution_count": 28,
   "outputs": [],
   "source": [
    "#open hovernet image\n",
    "src = r'\\\\fatherserverdw\\Q\\research\\images\\skin_aging\\hovernet_tile\\TILE\\imID_8_sec_1\\out\\json'\n",
    "fn = '11.json'"
   ],
   "metadata": {
    "collapsed": false,
    "pycharm": {
     "name": "#%%\n"
    }
   }
  },
  {
   "cell_type": "code",
   "execution_count": 29,
   "outputs": [],
   "source": [
    "json = pd.read_json(os.path.join(src,fn),orient='records')"
   ],
   "metadata": {
    "collapsed": false,
    "pycharm": {
     "name": "#%%\n"
    }
   }
  },
  {
   "cell_type": "code",
   "execution_count": 30,
   "outputs": [],
   "source": [
    "centroid = [_['centroid'] for _ in json.nuc]\n",
    "contour = [_['contour'] for _ in json.nuc]\n",
    "bbox = [_['bbox'] for _ in json.nuc]"
   ],
   "metadata": {
    "collapsed": false,
    "pycharm": {
     "name": "#%%\n"
    }
   }
  },
  {
   "cell_type": "code",
   "execution_count": 17,
   "outputs": [],
   "source": [
    "#hovernet image dataframe\n",
    "df = pd.DataFrame({'centroid':centroid,'contour':contour,'bbox':bbox})"
   ],
   "metadata": {
    "collapsed": false,
    "pycharm": {
     "name": "#%%\n"
    }
   }
  },
  {
   "cell_type": "code",
   "execution_count": 18,
   "outputs": [],
   "source": [
    "#add area to hovernet dataframe\n",
    "df['Area'] = df['contour'].apply(lambda row: cntarea(row))"
   ],
   "metadata": {
    "collapsed": false,
    "pycharm": {
     "name": "#%%\n"
    }
   }
  },
  {
   "cell_type": "code",
   "execution_count": 35,
   "outputs": [],
   "source": [
    "#calculate centroid for manual annotation\n",
    "\n",
    "#for each centroid from manual annotation, find nearest centroid in hovernet"
   ],
   "metadata": {
    "collapsed": false,
    "pycharm": {
     "name": "#%%\n"
    }
   }
  },
  {
   "cell_type": "code",
   "execution_count": null,
   "outputs": [],
   "source": [
    "#compare hovernet contour (df) and manual annotation coordinates\n",
    "#i.e. compare the centriods from hovernet and manual\n",
    "#does order matter? training vs.target?\n",
    "X = [[0], [1], [2], [3]] #training set\n",
    "y = [0, 0, 1, 1] #target set\n",
    "from sklearn.neighbors import KNeighborsClassifier\n",
    "neigh = KNeighborsClassifier(n_neighbors=1)\n",
    "neigh.fit(X, y)\n",
    "# all above is to create a map of centroid using X,y which is centroid in manual annotation\n",
    "\n",
    "centroid_ID = []\n",
    "for x,y in hovernet_centroids:\n",
    "    centroid_ID.append(neigh.predict([x,y])) # predict function requires query point which is centroid in hovernet predict contour's centroid\n"
   ],
   "metadata": {
    "collapsed": false,
    "pycharm": {
     "name": "#%%\n"
    }
   }
  },
  {
   "cell_type": "code",
   "execution_count": null,
   "outputs": [],
   "source": [
    "#IoU: area of overlap/area of union\n",
    "#python compute_stats.py --mode=instance --pred_dir='pred_dir' --true_dir='true_dir'"
   ],
   "metadata": {
    "collapsed": false,
    "pycharm": {
     "name": "#%%\n"
    }
   }
  }
 ],
 "metadata": {
  "kernelspec": {
   "display_name": "Python 3",
   "language": "python",
   "name": "python3"
  },
  "language_info": {
   "codemirror_mode": {
    "name": "ipython",
    "version": 2
   },
   "file_extension": ".py",
   "mimetype": "text/x-python",
   "name": "python",
   "nbconvert_exporter": "python",
   "pygments_lexer": "ipython2",
   "version": "2.7.6"
  }
 },
 "nbformat": 4,
 "nbformat_minor": 0
}