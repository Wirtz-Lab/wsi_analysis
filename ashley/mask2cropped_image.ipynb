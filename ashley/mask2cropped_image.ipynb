{
 "cells": [
  {
   "cell_type": "code",
   "execution_count": null,
   "outputs": [],
   "source": [
    "import os\n",
    "from openslide import OpenSlide\n",
    "from PIL import Image\n",
    "Image.MAX_IMAGE_PIXELS=None\n",
    "import numpy as np\n",
    "from skimage import measure\n",
    "from copy import deepcopy\n",
    "import cv2\n",
    "from matplotlib import pyplot as plt"
   ],
   "metadata": {
    "collapsed": false,
    "pycharm": {
     "name": "#%%\n"
    }
   }
  },
  {
   "cell_type": "code",
   "execution_count": null,
   "outputs": [],
   "source": [
    "# open both wsi and annotation map\n",
    "wsi_src = os.path.expanduser(r'\\\\fatherserverdw\\Q\\research\\images\\CLUE\\3D study\\he\\c1')\n",
    "wsi_fn = '1C1.ndpi'\n",
    "wsipath = os.path.join(wsi_src, wsi_fn)\n",
    "\n",
    "#anno_src = os.path.expanduser(r'\\\\Users\\kyuha\\PycharmProjects\\wsi_analysis\\ashley')\n",
    "#anno_fn = '1C1temp.png'\n",
    "#annotation_map_path = os.path.join(anno_src, anno_fn)\n",
    "wsi = OpenSlide(wsipath)\n",
    "annotation = Image.open('1C1.png')  #40X resolution\n",
    "iter_order = [2,10,5,4,6,11,7,9,8,12,3,1]"
   ],
   "metadata": {
    "collapsed": false,
    "pycharm": {
     "name": "#%%\n"
    }
   }
  },
  {
   "cell_type": "code",
   "execution_count": null,
   "outputs": [],
   "source": [
    "target_level = 2"
   ],
   "metadata": {
    "collapsed": false,
    "pycharm": {
     "name": "#%%\n"
    }
   }
  },
  {
   "cell_type": "code",
   "execution_count": null,
   "outputs": [],
   "source": [
    "rsf = wsi.level_downsamples[target_level]"
   ],
   "metadata": {
    "collapsed": false,
    "pycharm": {
     "name": "#%%\n"
    }
   }
  },
  {
   "cell_type": "code",
   "execution_count": null,
   "outputs": [],
   "source": [
    "target_dim = wsi.level_dimensions[target_level]\n",
    "target_dim"
   ],
   "metadata": {
    "collapsed": false,
    "pycharm": {
     "name": "#%%\n"
    }
   }
  },
  {
   "cell_type": "code",
   "execution_count": null,
   "outputs": [],
   "source": [
    "annotation_resized = annotation.resize(target_dim,resample=0) #this step is a bottleneck\n",
    "annotation_resized"
   ],
   "metadata": {
    "collapsed": false,
    "pycharm": {
     "name": "#%%\n"
    }
   }
  },
  {
   "cell_type": "code",
   "execution_count": null,
   "outputs": [],
   "source": [
    "classid = iter_order[0]\n",
    "annotation2crop = np.zeros_like(annotation_resized)\n",
    "#all annotation for the current class id\n",
    "annotation2crop[np.array(annotation_resized) == classid] = 1\n",
    "labeled_map = measure.label(annotation2crop)\n",
    "#regionprops has properties of the label\n",
    "regionprops = measure.regionprops(labeled_map)\n",
    "#bounboxes is a tuple, (min_row, min_col, max_row, max_col)\n",
    "boundboxes = [_.bbox for _ in regionprops]"
   ],
   "metadata": {
    "collapsed": false,
    "pycharm": {
     "name": "#%%\n"
    }
   }
  },
  {
   "cell_type": "code",
   "execution_count": null,
   "outputs": [],
   "source": [
    "boundboxes"
   ],
   "metadata": {
    "collapsed": false,
    "pycharm": {
     "name": "#%%\n"
    }
   }
  },
  {
   "cell_type": "code",
   "execution_count": null,
   "outputs": [],
   "source": [
    "boundbox = boundboxes[0]\n",
    "objID = 0\n",
    "objmask = labeled_map == objID+1\n",
    "objmask = objmask[boundbox[0]:boundbox[2], boundbox[1]:boundbox[3]]\n",
    "h, w = boundbox[2] - boundbox[0], boundbox[3] - boundbox[1]"
   ],
   "metadata": {
    "collapsed": false,
    "pycharm": {
     "name": "#%%\n"
    }
   }
  },
  {
   "cell_type": "code",
   "execution_count": null,
   "outputs": [],
   "source": [
    "plt.imshow(labeled_map)"
   ],
   "metadata": {
    "collapsed": false,
    "pycharm": {
     "name": "#%%\n"
    }
   }
  },
  {
   "cell_type": "code",
   "execution_count": null,
   "outputs": [],
   "source": [
    "plt.imshow(objmask)"
   ],
   "metadata": {
    "collapsed": false,
    "pycharm": {
     "name": "#%%\n"
    }
   }
  },
  {
   "cell_type": "code",
   "execution_count": null,
   "outputs": [],
   "source": [
    "(boundbox[1], boundbox[0]),(w, h)"
   ],
   "metadata": {
    "collapsed": false,
    "pycharm": {
     "name": "#%%\n"
    }
   }
  },
  {
   "cell_type": "code",
   "execution_count": null,
   "outputs": [],
   "source": [
    "imcrop1 = wsi.read_region(location=(boundbox[1], boundbox[0]), level=target_level, size=target_dim).convert('RGB')  #use level 2, more zoomed in\n",
    "imcrop1"
   ],
   "metadata": {
    "collapsed": false,
    "pycharm": {
     "name": "#%%\n"
    }
   }
  },
  {
   "cell_type": "code",
   "execution_count": null,
   "outputs": [],
   "source": [
    "imcrop2 = wsi.read_region(location=(boundbox[1], boundbox[0]), level=2, size=(w, h)).convert('RGB')  #use level 2, more zoomed in\n",
    "imcrop2"
   ],
   "metadata": {
    "collapsed": false,
    "pycharm": {
     "name": "#%%\n"
    }
   }
  },
  {
   "cell_type": "code",
   "execution_count": null,
   "outputs": [],
   "source": [
    "for objID, boundbox in enumerate(boundboxes[0:1]):\n",
    "    #crop at the boundaries\n",
    "    objmask = deepcopy(labeled_map)\n",
    "    objmask[objmask != objID + 1] = 0\n",
    "    objmask[objmask == objID + 1] = 1\n",
    "    objmask = objmask[boundbox[0]:boundbox[2], boundbox[1]:boundbox[3]]\n",
    "    h, w = boundbox[2] - boundbox[0], boundbox[3] - boundbox[1]\n",
    "    #read cropped region\n",
    "    imcrop = wsi.read_region(location=(boundbox[1], boundbox[0]), level=2, size=(w, h)).convert('RGB')  #use level 2, more zoomed in\n",
    "\n",
    "\n"
   ],
   "metadata": {
    "collapsed": false,
    "pycharm": {
     "name": "#%%\n"
    }
   }
  },
  {
   "cell_type": "code",
   "execution_count": null,
   "outputs": [],
   "source": [
    "imcrop"
   ],
   "metadata": {
    "collapsed": false,
    "pycharm": {
     "name": "#%%\n"
    }
   }
  },
  {
   "cell_type": "code",
   "execution_count": null,
   "outputs": [],
   "source": [
    "\n",
    "# iterate each class and each annotation object to make a crop\n",
    "for classid in iter_order:\n",
    "    annotation2crop = np.zeros_like(annotation)\n",
    "    #all annotation for the current class id\n",
    "    annotation2crop[np.array(annotation) == classid] = 1\n",
    "    labeled_map = measure.label(annotation2crop)\n",
    "    #regionprops has properties of the label\n",
    "    regionprops = measure.regionprops(labeled_map)\n",
    "    #bounboxes is a tuple, (min_row, min_col, max_row, max_col)\n",
    "    boundboxes = list()\n",
    "    for region in regionprops[0:1]:\n",
    "        boundboxes.append(region.bbox)\n",
    "\n",
    "    for objID, boundbox in enumerate(boundboxes[0:1]):\n",
    "        #crop at the boundaries\n",
    "        objmask = deepcopy(labeled_map)\n",
    "        objmask[objmask != objID + 1] = 0\n",
    "        objmask[objmask == objID + 1] = 1\n",
    "\n",
    "        objmask = objmask[boundbox[0]:boundbox[2], boundbox[1]:boundbox[3]]\n",
    "        h, w = boundbox[2] - boundbox[0], boundbox[3] - boundbox[1]\n",
    "\n",
    "        #read cropped region\n",
    "        imcrop = wsi.read_region(location=(boundbox[1], boundbox[0]), level=target_level, size=(w, h)).convert(\n",
    "            'RGB')  #use level 2, more zoomed in\n",
    "        imcrop = np.array(imcrop)\n",
    "\n",
    "        #create mask to crop out the extra space around the annotation\n",
    "        objmask = deepcopy(labeled_map)\n",
    "        objmask[objmask != 1] = 0\n",
    "        objmask[objmask == 1] = 1\n",
    "        #boundbox = [round(_/10) for _ in boundbox] #downsize by 10\n",
    "        objmask2 = objmask[boundbox[0]:boundbox[2],\n",
    "                   boundbox[1]:boundbox[3]]  #crop out the objmask2, typecast to integer\n",
    "\n",
    "        #enlarge objmask2 by 10 to get objmask3, take transpose of objmask3 to get objmask4\n",
    "        #new_shape = list(objmask2.shape)\n",
    "        #new_shape = [_*10 for _ in new_shape]\n",
    "        #objmask3 = cv2.resize(objmask2.astype(np.float),tuple(new_shape), interpolation = cv2.INTER_NEAREST)#NEAREST preserves pixel value\n",
    "\n",
    "        #find boundary of objmask3, use cv2 contour\n",
    "        #this gives you a list of bounding pixels\\\n",
    "        #objmask3_img = Image.fromarray(objmask3.astype(np.uint8))\n",
    "\n",
    "        #objmask3_array = np.asarray(objmask3_img)\n",
    "\n",
    "        #this gives me a list of tuples\n",
    "        #contour, hierarchy = cv2.findContours(objmask3_array, cv2.RETR_EXTERNAL, cv2.CHAIN_APPROX_NONE)\n",
    "\n",
    "        #loop through each pixel in bound_objmask3\n",
    "        #contour = np.array(contour)\n",
    "        #contour = contour.squeeze()\n",
    "\n",
    "        #for count,pix1 in enumerate(contour):\n",
    "        # while(count < len(contour) - 2): #is this right??\n",
    "        # for i in range(1, 5): #set n = 2 (split into two equal parts)\n",
    "        #   a = float((i) / 5)        # rescale 0 < i < n --> 0 < a < 1\n",
    "        #  x3 = (1 - a) * pix1[0] + a * contour[count+1][0]    # interpolate x coordinate\n",
    "        #   y3= (1 - a) * pix1[1] + a * contour[count+1][1]   # interpolate y coordinate\n",
    "        #   objmask3[int(x3),int(y3)] = 1 #add equidistant pixel to objmask3\n",
    "\n",
    "        objmask4 = np.dstack([objmask2.transpose()] * 3)  #change shape of objmask3\n",
    "\n",
    "        objmask2[objmask2 == 1] = classid  #Question: what does this do again?\n",
    "\n",
    "        #crop out the area outside the annotation using multiplication\n",
    "        imcrop_masked = np.multiply(objmask4, imcrop)\n",
    "\n",
    "        Image.fromarray((imcrop_masked).astype(np.uint8)).save('imcrop/class{}_obj{}.png'.format(classid, objID))\n",
    "        Image.fromarray(objmask2.astype(np.uint8)).save('mskcrop/classnew{}_obj{}.png'.format(classid, objID))\n",
    "\n",
    "        #equidistant point\n",
    "        #find bounding pixels, find point between neighboring pixels, add that pixel"
   ],
   "metadata": {
    "collapsed": false,
    "pycharm": {
     "name": "#%%\n"
    }
   }
  },
  {
   "cell_type": "code",
   "execution_count": null,
   "outputs": [],
   "source": [],
   "metadata": {
    "collapsed": false,
    "pycharm": {
     "name": "#%%\n"
    }
   }
  }
 ],
 "metadata": {
  "kernelspec": {
   "display_name": "Python 3",
   "language": "python",
   "name": "python3"
  },
  "language_info": {
   "codemirror_mode": {
    "name": "ipython",
    "version": 2
   },
   "file_extension": ".py",
   "mimetype": "text/x-python",
   "name": "python",
   "nbconvert_exporter": "python",
   "pygments_lexer": "ipython2",
   "version": "2.7.6"
  }
 },
 "nbformat": 4,
 "nbformat_minor": 0
}