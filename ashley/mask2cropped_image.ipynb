{
 "cells": [
  {
   "cell_type": "code",
   "execution_count": 50,
   "outputs": [],
   "source": [
    "import os\n",
    "\n",
    "from PIL import Image\n",
    "Image.MAX_IMAGE_PIXELS=None\n",
    "import numpy as np\n",
    "from skimage import measure\n",
    "from copy import deepcopy\n",
    "import cv2\n",
    "from matplotlib import pyplot as plt\n",
    "from PIL import Image\n",
    "from glob import glob"
   ],
   "metadata": {
    "collapsed": false,
    "pycharm": {
     "name": "#%%\n"
    }
   }
  },
  {
   "cell_type": "code",
   "execution_count": 51,
   "outputs": [],
   "source": [
    "from ctypes.util import *\n",
    "from ctypes import *\n",
    "find_library(\"libopenslide-0.dll\")\n",
    "lib = cdll.LoadLibrary(find_library(\"libopenslide-0.dll\"))\n",
    "import openslide"
   ],
   "metadata": {
    "collapsed": false,
    "pycharm": {
     "name": "#%%\n"
    }
   }
  },
  {
   "cell_type": "code",
   "execution_count": 52,
   "outputs": [],
   "source": [
    "# open both wsi and annotation map\n",
    "wsi_src = r'\\\\fatherserverdw\\kyuex\\great'\n",
    "wsipaths = glob(os.path.join(wsi_src,'*ndpi'))\n"
   ],
   "metadata": {
    "collapsed": false,
    "pycharm": {
     "name": "#%%\n"
    }
   }
  },
  {
   "cell_type": "code",
   "execution_count": 58,
   "outputs": [],
   "source": [
    "wsipath = wsipaths[0]\n",
    "#anno_src = os.path.expanduser(r'\\\\Users\\kyuha\\PycharmProjects\\wsi_analysis\\ashley')\n",
    "#anno_fn = '1C1temp.png'\n",
    "#annotation_map_path = os.path.join(anno_src, anno_fn)\n",
    "wsi = openslide.OpenSlide(wsipath)\n",
    "annotation_pth = wsipath.replace('ndpi','png')\n",
    "annotation = Image.open(annotation_pth)  #40X resolution\n",
    "iter_order = [2,10,5,4,6,11,7,9,8,12,3,1]"
   ],
   "metadata": {
    "collapsed": false,
    "pycharm": {
     "name": "#%%\n"
    }
   }
  },
  {
   "cell_type": "code",
   "execution_count": 60,
   "outputs": [
    {
     "name": "stderr",
     "output_type": "stream",
     "text": [
      "C:\\Users\\kyuha\\AppData\\Local\\Temp\\ipykernel_17612\\814778268.py:6: DeprecationWarning: `np.bool` is a deprecated alias for the builtin `bool`. To silence this warning, use `bool` by itself. Doing this will not modify any behavior and is safe. If you specifically wanted the numpy scalar type, use `np.bool_` here.\n",
      "Deprecated in NumPy 1.20; for more details and guidance: https://numpy.org/devdocs/release/1.20.0-notes.html#deprecations\n",
      "  labeled_map = measure.label(annotation_resized_arr.astype(np.bool))\n"
     ]
    }
   ],
   "source": [
    "target_level = 2\n",
    "rsf = wsi.level_downsamples[target_level]\n",
    "target_dim = wsi.level_dimensions[target_level]\n",
    "annotation_resized = annotation.resize(target_dim,resample=0) #this step is a bottleneck\n",
    "annotation_resized_arr = np.array(annotation_resized)\n",
    "labeled_map = measure.label(annotation_resized_arr.astype(np.bool))"
   ],
   "metadata": {
    "collapsed": false,
    "pycharm": {
     "name": "#%%\n"
    }
   }
  },
  {
   "cell_type": "code",
   "execution_count": 61,
   "outputs": [],
   "source": [
    "#---unedited---"
   ],
   "metadata": {
    "collapsed": false,
    "pycharm": {
     "name": "#%%\n"
    }
   }
  },
  {
   "cell_type": "code",
   "execution_count": 62,
   "outputs": [
    {
     "name": "stderr",
     "output_type": "stream",
     "text": [
      "C:\\Users\\kyuha\\AppData\\Local\\Temp\\ipykernel_17612\\2391945365.py:9: DeprecationWarning: `np.bool` is a deprecated alias for the builtin `bool`. To silence this warning, use `bool` by itself. Doing this will not modify any behavior and is safe. If you specifically wanted the numpy scalar type, use `np.bool_` here.\n",
      "Deprecated in NumPy 1.20; for more details and guidance: https://numpy.org/devdocs/release/1.20.0-notes.html#deprecations\n",
      "  imcrop_masked = np.multiply(np.array(imcrop),dlmask[..., None].astype(np.bool))\n"
     ]
    }
   ],
   "source": [
    "regionprops = measure.regionprops(labeled_map)\n",
    "boundboxes = [_.bbox for _ in regionprops]\n",
    "for objID, boundbox in enumerate(boundboxes): #iterate each connected object on deeplab mask\n",
    "    connected_obj_mask = labeled_map == objID +1\n",
    "    dlmask = np.multiply(annotation_resized_arr,connected_obj_mask)\n",
    "    dlmask = dlmask[boundbox[0]:boundbox[2], boundbox[1]:boundbox[3]]\n",
    "    h, w = boundbox[2] - boundbox[0], boundbox[3] - boundbox[1]\n",
    "    imcrop = wsi.read_region(location=(round(boundbox[1]*rsf), round(boundbox[0]*rsf)), level=target_level, size=(w, h))\n",
    "    imcrop_masked = np.multiply(np.array(imcrop),dlmask[..., None].astype(np.bool))\n",
    "    Image.fromarray((imcrop_masked).astype(np.uint8)).save('imcrop/obj{}.png'.format(objID))\n",
    "    Image.fromarray(dlmask.astype(np.uint8)).save('mskcrop/obj{}.png'.format(objID))"
   ],
   "metadata": {
    "collapsed": false,
    "pycharm": {
     "name": "#%%\n"
    }
   }
  },
  {
   "cell_type": "code",
   "execution_count": 63,
   "outputs": [
    {
     "ename": "AttributeError",
     "evalue": "'bool' object has no attribute 'dtype'",
     "output_type": "error",
     "traceback": [
      "\u001B[1;31m---------------------------------------------------------------------------\u001B[0m",
      "\u001B[1;31mAttributeError\u001B[0m                            Traceback (most recent call last)",
      "Input \u001B[1;32mIn [63]\u001B[0m, in \u001B[0;36m<cell line: 4>\u001B[1;34m()\u001B[0m\n\u001B[0;32m      6\u001B[0m annotation2crop \u001B[38;5;241m=\u001B[39m annotation_resized \u001B[38;5;241m==\u001B[39m classid\n\u001B[0;32m      7\u001B[0m \u001B[38;5;66;03m#label this class object\u001B[39;00m\n\u001B[1;32m----> 8\u001B[0m labeled_map \u001B[38;5;241m=\u001B[39m \u001B[43mmeasure\u001B[49m\u001B[38;5;241;43m.\u001B[39;49m\u001B[43mlabel\u001B[49m\u001B[43m(\u001B[49m\u001B[43mannotation2crop\u001B[49m\u001B[43m)\u001B[49m\n\u001B[0;32m      9\u001B[0m \u001B[38;5;66;03m#regionprops has properties of the label\u001B[39;00m\n\u001B[0;32m     10\u001B[0m regionprops \u001B[38;5;241m=\u001B[39m measure\u001B[38;5;241m.\u001B[39mregionprops(labeled_map)\n",
      "File \u001B[1;32mC:\\ProgramData\\Anaconda3\\envs\\wsi_analysis\\lib\\site-packages\\skimage\\_shared\\utils.py:282\u001B[0m, in \u001B[0;36mdeprecate_kwarg.__call__.<locals>.fixed_func\u001B[1;34m(*args, **kwargs)\u001B[0m\n\u001B[0;32m    279\u001B[0m         kwargs[new_arg] \u001B[38;5;241m=\u001B[39m kwargs\u001B[38;5;241m.\u001B[39mpop(old_arg)\n\u001B[0;32m    281\u001B[0m \u001B[38;5;66;03m# Call the function with the fixed arguments\u001B[39;00m\n\u001B[1;32m--> 282\u001B[0m \u001B[38;5;28;01mreturn\u001B[39;00m func(\u001B[38;5;241m*\u001B[39margs, \u001B[38;5;241m*\u001B[39m\u001B[38;5;241m*\u001B[39mkwargs)\n",
      "File \u001B[1;32mC:\\ProgramData\\Anaconda3\\envs\\wsi_analysis\\lib\\site-packages\\skimage\\measure\\_label.py:120\u001B[0m, in \u001B[0;36mlabel\u001B[1;34m(label_image, background, return_num, connectivity)\u001B[0m\n\u001B[0;32m     33\u001B[0m \u001B[38;5;129m@deprecate_kwarg\u001B[39m({\u001B[38;5;124m'\u001B[39m\u001B[38;5;124minput\u001B[39m\u001B[38;5;124m'\u001B[39m: \u001B[38;5;124m'\u001B[39m\u001B[38;5;124mlabel_image\u001B[39m\u001B[38;5;124m'\u001B[39m},\n\u001B[0;32m     34\u001B[0m                  deprecated_version\u001B[38;5;241m=\u001B[39m\u001B[38;5;124m'\u001B[39m\u001B[38;5;124m0.19\u001B[39m\u001B[38;5;124m'\u001B[39m,\n\u001B[0;32m     35\u001B[0m                  removed_version\u001B[38;5;241m=\u001B[39m\u001B[38;5;124m'\u001B[39m\u001B[38;5;124m1.0\u001B[39m\u001B[38;5;124m'\u001B[39m)\n\u001B[0;32m     36\u001B[0m \u001B[38;5;28;01mdef\u001B[39;00m \u001B[38;5;21mlabel\u001B[39m(label_image, background\u001B[38;5;241m=\u001B[39m\u001B[38;5;28;01mNone\u001B[39;00m, return_num\u001B[38;5;241m=\u001B[39m\u001B[38;5;28;01mFalse\u001B[39;00m, connectivity\u001B[38;5;241m=\u001B[39m\u001B[38;5;28;01mNone\u001B[39;00m):\n\u001B[0;32m     37\u001B[0m     \u001B[38;5;124mr\u001B[39m\u001B[38;5;124;03m\"\"\"Label connected regions of an integer array.\u001B[39;00m\n\u001B[0;32m     38\u001B[0m \n\u001B[0;32m     39\u001B[0m \u001B[38;5;124;03m    Two pixels are connected when they are neighbors and have the same value.\u001B[39;00m\n\u001B[1;32m   (...)\u001B[0m\n\u001B[0;32m    118\u001B[0m \u001B[38;5;124;03m     [0 0 0]]\u001B[39;00m\n\u001B[0;32m    119\u001B[0m \u001B[38;5;124;03m    \"\"\"\u001B[39;00m\n\u001B[1;32m--> 120\u001B[0m     \u001B[38;5;28;01mif\u001B[39;00m \u001B[43mlabel_image\u001B[49m\u001B[38;5;241;43m.\u001B[39;49m\u001B[43mdtype\u001B[49m \u001B[38;5;241m==\u001B[39m \u001B[38;5;28mbool\u001B[39m:\n\u001B[0;32m    121\u001B[0m         \u001B[38;5;28;01mreturn\u001B[39;00m _label_bool(label_image, background\u001B[38;5;241m=\u001B[39mbackground,\n\u001B[0;32m    122\u001B[0m                            return_num\u001B[38;5;241m=\u001B[39mreturn_num, connectivity\u001B[38;5;241m=\u001B[39mconnectivity)\n\u001B[0;32m    123\u001B[0m     \u001B[38;5;28;01melse\u001B[39;00m:\n",
      "\u001B[1;31mAttributeError\u001B[0m: 'bool' object has no attribute 'dtype'"
     ]
    }
   ],
   "source": [
    "#labeled connected objects in deeplab mask\n",
    "#iterate each connected object and make the deeplab mask\n",
    "\n",
    "for classid in iter_order:\n",
    "    #all annotation for the current class id\n",
    "    annotation2crop = annotation_resized == classid\n",
    "    #label this class object\n",
    "    labeled_map = measure.label(annotation2crop)\n",
    "    #regionprops has properties of the label\n",
    "    regionprops = measure.regionprops(labeled_map)\n",
    "    #bounboxes is a tuple, (min_row, min_col, max_row, max_col)\n",
    "    boundboxes = [_.bbox for _ in regionprops]\n",
    "    for objID, boundbox in enumerate(boundboxes):\n",
    "        #crop at the boundaries\n",
    "        objmask =  deepcopy(labeled_map)\n",
    "        objmask[objmask != objID + 1] = 0\n",
    "        objmask[objmask == objID + 1]= classid#this field was class id\n",
    "        objmask = objmask[boundbox[0]:boundbox[2], boundbox[1]:boundbox[3]]\n",
    "        h, w = boundbox[2] - boundbox[0], boundbox[3] - boundbox[1]\n",
    "        #read cropped region\n",
    "        imcrop = wsi.read_region(location=(round(boundbox[1]*rsf), round(boundbox[0]*rsf)), level=target_level, size=(w, h))\n",
    "        imcrop_masked = np.multiply(np.array(imcrop),objmask[..., None].astype(np.bool))\n",
    "        #TODO: this is not printing the class id for some reason\n",
    "        Image.fromarray((imcrop_masked).astype(np.uint8)).save('imcrop/class{}_obj{}.png'.format(classid, objID))\n",
    "        Image.fromarray(objmask.astype(np.uint8)).save('mskcrop/classnew{}_obj{}.png'.format(classid, objID))"
   ],
   "metadata": {
    "collapsed": false,
    "pycharm": {
     "name": "#%%\n"
    }
   }
  },
  {
   "cell_type": "code",
   "execution_count": null,
   "outputs": [],
   "source": [
    "\n",
    "# iterate each class and each annotation object to make a crop\n",
    "# for classid in iter_order:\n",
    "#     annotation2crop = np.zeros_like(annotation)\n",
    "#     #all annotation for the current class id\n",
    "#     annotation2crop[np.array(annotation) == classid] = 1\n",
    "#     labeled_map = measure.label(annotation2crop)\n",
    "#     #regionprops has properties of the label\n",
    "#     regionprops = measure.regionprops(labeled_map)\n",
    "#     #bounboxes is a tuple, (min_row, min_col, max_row, max_col)\n",
    "#     boundboxes = list()\n",
    "#     for region in regionprops:\n",
    "#         boundboxes.append(region.bbox)\n",
    "#\n",
    "#     for objID, boundbox in enumerate(boundboxes):\n",
    "#         #crop at the boundaries\n",
    "#         objmask = deepcopy(labeled_map)\n",
    "#         objmask[objmask != objID + 1] = 0\n",
    "#         objmask[objmask == objID + 1] = 1\n",
    "#\n",
    "#         objmask = objmask[boundbox[0]:boundbox[2], boundbox[1]:boundbox[3]]\n",
    "#         h, w = boundbox[2] - boundbox[0], boundbox[3] - boundbox[1]\n",
    "#\n",
    "#         #read cropped region\n",
    "#         imcrop = wsi.read_region(location=(boundbox[1], boundbox[0]), level=target_level, size=(w, h)).convert(\n",
    "#             'RGB')  #use level 2, more zoomed in\n",
    "#         imcrop = np.array(imcrop)\n",
    "#\n",
    "#         #create mask to crop out the extra space around the annotation\n",
    "#         objmask = deepcopy(labeled_map)\n",
    "#         objmask[objmask != 1] = 0\n",
    "#         objmask[objmask == 1] = 1\n",
    "#         #boundbox = [round(_/10) for _ in boundbox] #downsize by 10\n",
    "#         objmask2 = objmask[boundbox[0]:boundbox[2],\n",
    "#                    boundbox[1]:boundbox[3]]  #crop out the objmask2, typecast to integer\n",
    "#\n",
    "#         #enlarge objmask2 by 10 to get objmask3, take transpose of objmask3 to get objmask4\n",
    "#         #new_shape = list(objmask2.shape)\n",
    "#         #new_shape = [_*10 for _ in new_shape]\n",
    "#         #objmask3 = cv2.resize(objmask2.astype(np.float),tuple(new_shape), interpolation = cv2.INTER_NEAREST)#NEAREST preserves pixel value\n",
    "#\n",
    "#         #find boundary of objmask3, use cv2 contour\n",
    "#         #this gives you a list of bounding pixels\\\n",
    "#         #objmask3_img = Image.fromarray(objmask3.astype(np.uint8))\n",
    "#\n",
    "#         #objmask3_array = np.asarray(objmask3_img)\n",
    "#\n",
    "#         #this gives me a list of tuples\n",
    "#         #contour, hierarchy = cv2.findContours(objmask3_array, cv2.RETR_EXTERNAL, cv2.CHAIN_APPROX_NONE)\n",
    "#\n",
    "#         #loop through each pixel in bound_objmask3\n",
    "#         #contour = np.array(contour)\n",
    "#         #contour = contour.squeeze()\n",
    "#\n",
    "#         #for count,pix1 in enumerate(contour):\n",
    "#         # while(count < len(contour) - 2): #is this right??\n",
    "#         # for i in range(1, 5): #set n = 2 (split into two equal parts)\n",
    "#         #   a = float((i) / 5)        # rescale 0 < i < n --> 0 < a < 1\n",
    "#         #  x3 = (1 - a) * pix1[0] + a * contour[count+1][0]    # interpolate x coordinate\n",
    "#         #   y3= (1 - a) * pix1[1] + a * contour[count+1][1]   # interpolate y coordinate\n",
    "#         #   objmask3[int(x3),int(y3)] = 1 #add equidistant pixel to objmask3\n",
    "#\n",
    "#         objmask4 = np.dstack([objmask2.transpose()] * 3)  #change shape of objmask3\n",
    "#\n",
    "#         objmask2[objmask2 == 1] = classid  #Question: what does this do again?\n",
    "#\n",
    "#         #crop out the area outside the annotation using multiplication\n",
    "#         imcrop_masked = np.multiply(objmask4, imcrop)\n",
    "#\n",
    "#         Image.fromarray((imcrop_masked).astype(np.uint8)).save('imcrop/class{}_obj{}.png'.format(classid, objID))\n",
    "#         Image.fromarray(objmask2.astype(np.uint8)).save('mskcrop/classnew{}_obj{}.png'.format(classid, objID))\n",
    "\n",
    "        #equidistant point\n",
    "        #find bounding pixels, find point between neighboring pixels, add that pixel"
   ],
   "metadata": {
    "collapsed": false,
    "pycharm": {
     "name": "#%%\n"
    }
   }
  }
 ],
 "metadata": {
  "kernelspec": {
   "display_name": "Python 3",
   "language": "python",
   "name": "python3"
  },
  "language_info": {
   "codemirror_mode": {
    "name": "ipython",
    "version": 2
   },
   "file_extension": ".py",
   "mimetype": "text/x-python",
   "name": "python",
   "nbconvert_exporter": "python",
   "pygments_lexer": "ipython2",
   "version": "2.7.6"
  }
 },
 "nbformat": 4,
 "nbformat_minor": 0
}