{
 "cells": [
  {
   "cell_type": "code",
   "execution_count": 48,
   "outputs": [],
   "source": [
    "import pandas as pd\n",
    "import xml.etree.ElementTree as ET\n",
    "import os\n",
    "import numpy as np"
   ],
   "metadata": {
    "collapsed": false,
    "pycharm": {
     "name": "#%%\n"
    }
   }
  },
  {
   "cell_type": "code",
   "execution_count": 49,
   "outputs": [],
   "source": [
    "src = os.path.expanduser(r'\\\\fatherserverdw\\Q\\research\\images\\CLUE\\3D study\\he\\c1')  #raw string of path\n",
    "src\n",
    "# Open XML file\n",
    "fn = '1C1.xml'\n",
    "pth = os.path.join(src, fn)\n",
    "pth\n",
    "tree = ET.parse(pth)\n",
    "root = tree.getroot()\n",
    "\n",
    "rows = []\n",
    "df_cols = [\"Name\",'Class ID',\"ID\", 'Coord']\n",
    "\n"
   ],
   "metadata": {
    "collapsed": false,
    "pycharm": {
     "name": "#%%\n"
    }
   }
  },
  {
   "cell_type": "code",
   "execution_count": 50,
   "outputs": [
    {
     "name": "stdout",
     "output_type": "stream",
     "text": [
      "1\n",
      "2\n",
      "3\n",
      "4\n",
      "5\n",
      "6\n",
      "7\n",
      "8\n",
      "9\n",
      "10\n",
      "11\n",
      "12\n"
     ]
    }
   ],
   "source": [
    "# iterate each class\n",
    "for child in root:  #interate through the 12 classes\n",
    "    class_id = child.attrib['Id']\n",
    "    for Attrib in child.iter('Attribute'):\n",
    "        name_str = Attrib.attrib['Name']\n",
    "\n",
    "        print(class_id)\n",
    "        # iterate each \"circle\"\n",
    "        for region in child.iter('Region'):  #region in child\n",
    "            #TODO:create numpy array of x,y\n",
    "            temp_arr = []\n",
    "            #initialize vertex\n",
    "            vertex_arr = []\n",
    "            idx = region.attrib['Id']  #idx for each region in attribute\n",
    "\n",
    "            # collect XY coordinates into numpy list\n",
    "            for coord in region.iter('Vertex'): #vertex in each region\n",
    "                xy = np.array([[coord.attrib['X'], coord.attrib['Y']]])\n",
    "                vertex_arr.append(xy)\n",
    "\n",
    "            py_vertex_arr = np.array(vertex_arr)\n",
    "\n",
    "            #this is the numpy array of xy coordinates\n",
    "            #append everything to rows\n",
    "            rows.append({\"Name\":name_str,'Class ID': class_id , \"ID\": idx,\n",
    "                     \"Coord\":  py_vertex_arr})\n",
    "\n",
    "\n"
   ],
   "metadata": {
    "collapsed": false,
    "pycharm": {
     "name": "#%%\n"
    }
   }
  },
  {
   "cell_type": "code",
   "execution_count": 51,
   "outputs": [
    {
     "name": "stdout",
     "output_type": "stream",
     "text": [
      "        Name Class ID ID                                              Coord\n",
      "0    corneum        1  1  [[[120233, 59176]], [[120231, 59177]], [[12023...\n",
      "1   spinosum        2  1  [[[120269, 59135]], [[120267, 59134]], [[12026...\n",
      "2      shaft        3  1  [[[121571, 44243]], [[121570, 44243]], [[12156...\n",
      "3      shaft        3  2  [[[122363, 44463]], [[122361, 44461]], [[12236...\n",
      "4   follicle        4  1  [[[121519, 44022]], [[121514, 44021]], [[12151...\n",
      "5   follicle        4  2  [[[122648, 44068]], [[122646, 44067]], [[12264...\n",
      "6   follicle        4  3  [[[120221, 43545]], [[120221, 43546]], [[12022...\n",
      "7     muscle        5  1  [[[126280, 39558]], [[126279, 39558]], [[12627...\n",
      "8     muscle        5  2  [[[108736, 64985]], [[108734, 64985]], [[10873...\n",
      "9        oil        6  1  [[[120275, 43590]], [[120274, 43590]], [[12027...\n",
      "10     sweat        7  1  [[[107665, 59453]], [[107664, 59453]], [[10766...\n",
      "11     nerve        8  1  [[[112883, 69037]], [[112882, 69040]], [[11288...\n",
      "12     nerve        8  2  [[[100580, 67353]], [[100580, 67354]], [[10058...\n",
      "13     nerve        8  3  [[[110606, 56184]], [[110607, 56184]], [[11060...\n",
      "14     blood        9  1  [[[107060, 45316]], [[107059, 45316]], [[10705...\n",
      "15     blood        9  2  [[[107100, 45146]], [[107100, 45144]], [[10710...\n",
      "16     blood        9  3  [[[107396, 45260]], [[107396, 45259]], [[10739...\n",
      "17     blood        9  4  [[[107603, 44786]], [[107601, 44786]], [[10759...\n",
      "18     blood        9  5  [[[107597, 45017]], [[107594, 45017]], [[10759...\n",
      "19     blood        9  6  [[[113674, 68920]], [[113676, 68920]], [[11367...\n",
      "20       ecm       10  1  [[[119855, 59063]], [[119857, 59063]], [[11985...\n",
      "21       fat       11  1  [[[99367, 57812]], [[99350, 57821]], [[99332, ...\n",
      "22       fat       11  2  [[[106976, 45102]], [[106974, 45102]], [[10697...\n",
      "23     white       12  1  [[[120818, 59642]], [[120817, 59642]], [[12081...\n"
     ]
    }
   ],
   "source": [
    "#generate data frame\n",
    "\n",
    "out_df = pd.DataFrame(rows, columns = df_cols)\n",
    "print(out_df)\n",
    "out_df.to_pickle('1C1.pkl')\n",
    "out_df.to_csv('1C1.csv')\n"
   ],
   "metadata": {
    "collapsed": false,
    "pycharm": {
     "name": "#%%\n"
    }
   }
  },
  {
   "cell_type": "code",
   "execution_count": 5,
   "outputs": [],
   "source": [],
   "metadata": {
    "collapsed": false,
    "pycharm": {
     "name": "#%%\n"
    }
   }
  },
  {
   "cell_type": "code",
   "execution_count": 5,
   "outputs": [],
   "source": [],
   "metadata": {
    "collapsed": false,
    "pycharm": {
     "name": "#%%\n"
    }
   }
  }
 ],
 "metadata": {
  "kernelspec": {
   "display_name": "Python 3",
   "language": "python",
   "name": "python3"
  },
  "language_info": {
   "codemirror_mode": {
    "name": "ipython",
    "version": 2
   },
   "file_extension": ".py",
   "mimetype": "text/x-python",
   "name": "python",
   "nbconvert_exporter": "python",
   "pygments_lexer": "ipython2",
   "version": "2.7.6"
  }
 },
 "nbformat": 4,
 "nbformat_minor": 0
}