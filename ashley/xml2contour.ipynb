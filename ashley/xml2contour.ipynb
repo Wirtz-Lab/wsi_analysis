{
 "cells": [
  {
   "cell_type": "code",
   "execution_count": 2,
   "outputs": [],
   "source": [
    "import pandas as pd\n",
    "import xml.etree.ElementTree as ET\n",
    "import os\n",
    "import numpy as np"
   ],
   "metadata": {
    "collapsed": false,
    "pycharm": {
     "name": "#%%\n"
    }
   }
  },
  {
   "cell_type": "code",
   "execution_count": 9,
   "outputs": [],
   "source": [
    "src = os.path.expanduser('/Users/ashleyliu/PycharmProjects/wirtzlab_imageprocess')  #raw string of path\n",
    "fn = '1C1.xml'\n",
    "pth = os.path.join(src, fn)\n",
    "pth\n",
    "tree = ET.parse(pth)\n",
    "root = tree.getroot()\n",
    "\n",
    "# iterate each class\n",
    "# iterate each \"circle\"\n",
    "# collect XY coordinates into numpy list\n",
    "# construct a dataframe\n",
    "\n",
    "# col1: class-name \"corneum\", \"spinosum\", etc\n",
    "# col2: object ID 1,2,3,4,...\n",
    "# col3: numpy coord list of XY\n",
    "\n",
    "\n",
    "#create two arrays to hold name and idx\n",
    "name_arr,Idx_arr, vertex_arr= [],[],[]\n",
    "\n",
    "df_cols = [\"Name\", \"ID\", \"Coord\"]\n",
    "rows = []"
   ],
   "metadata": {
    "collapsed": false,
    "pycharm": {
     "name": "#%%\n"
    }
   }
  },
  {
   "cell_type": "code",
   "execution_count": 15,
   "outputs": [],
   "source": [
    "# iterate each class\n",
    "for child in root:  #interate through the 12 classes\n",
    "    for Attrib in child.iter('Attribute'):\n",
    "        name_str = Attrib.attrib['Name']\n",
    "\n",
    "        # iterate each \"circle\"\n",
    "        for region in child.iter('Region'):  #region in child\n",
    "            #TODO:create numpy array of x,y\n",
    "            temp_arr = []\n",
    "            #initialize vertex\n",
    "            vertex_arr = []\n",
    "            idx = region.attrib['Id']  #idx for each region in attribute\n",
    "\n",
    "            # collect XY coordinates into numpy list\n",
    "            for coord in child.iter('Vertex'): #vertex in each region\n",
    "                xy = np.array([[coord.attrib['X'], coord.attrib['Y']]])\n",
    "                vertex_arr.append(xy)\n",
    "\n",
    "            py_vertex_arr = np.array(vertex_arr)\n",
    "\n",
    "            #this is the numpy array of xy coordinates\n",
    "            #append everything to rows\n",
    "            rows.append({\"Name\":name_str, \"ID\": idx,\n",
    "                     \"Coord\":  py_vertex_arr})\n",
    "\n",
    "\n"
   ],
   "metadata": {
    "collapsed": false,
    "pycharm": {
     "name": "#%%\n"
    }
   }
  },
  {
   "cell_type": "code",
   "execution_count": 17,
   "outputs": [
    {
     "name": "stdout",
     "output_type": "stream",
     "text": [
      "        Name ID                                              Coord\n",
      "0    corneum  1  [[[120233, 59176]], [[120231, 59177]], [[12023...\n",
      "1   spinosum  1  [[[120269, 59135]], [[120267, 59134]], [[12026...\n",
      "2      shaft  1  [[[121571, 44243]], [[121570, 44243]], [[12156...\n",
      "3      shaft  2  [[[121571, 44243]], [[121570, 44243]], [[12156...\n",
      "4   follicle  1  [[[121519, 44022]], [[121514, 44021]], [[12151...\n",
      "..       ... ..                                                ...\n",
      "91     blood  6  [[[107060, 45316]], [[107059, 45316]], [[10705...\n",
      "92       ecm  1  [[[119855, 59063]], [[119857, 59063]], [[11985...\n",
      "93       fat  1  [[[99367, 57812]], [[99350, 57821]], [[99332, ...\n",
      "94       fat  2  [[[99367, 57812]], [[99350, 57821]], [[99332, ...\n",
      "95     white  1  [[[120818, 59642]], [[120817, 59642]], [[12081...\n",
      "\n",
      "[96 rows x 3 columns]\n"
     ]
    }
   ],
   "source": [
    "#generate data frame\n",
    "\n",
    "out_df = pd.DataFrame(rows, columns = df_cols)\n",
    "print(out_df)\n",
    "#out_df.to_pickle('1C1.pkl')"
   ],
   "metadata": {
    "collapsed": false,
    "pycharm": {
     "name": "#%%\n"
    }
   }
  },
  {
   "cell_type": "code",
   "execution_count": 5,
   "outputs": [],
   "source": [],
   "metadata": {
    "collapsed": false,
    "pycharm": {
     "name": "#%%\n"
    }
   }
  },
  {
   "cell_type": "code",
   "execution_count": 5,
   "outputs": [],
   "source": [],
   "metadata": {
    "collapsed": false,
    "pycharm": {
     "name": "#%%\n"
    }
   }
  }
 ],
 "metadata": {
  "kernelspec": {
   "display_name": "Python 3",
   "language": "python",
   "name": "python3"
  },
  "language_info": {
   "codemirror_mode": {
    "name": "ipython",
    "version": 2
   },
   "file_extension": ".py",
   "mimetype": "text/x-python",
   "name": "python",
   "nbconvert_exporter": "python",
   "pygments_lexer": "ipython2",
   "version": "2.7.6"
  }
 },
 "nbformat": 4,
 "nbformat_minor": 0
}