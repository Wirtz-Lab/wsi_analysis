{
 "cells": [
  {
   "cell_type": "code",
   "execution_count": 8,
   "outputs": [],
   "source": [
    "import pandas as pd\n",
    "import numpy as np\n",
    "from PIL import Image, ImageDraw\n",
    "Image.MAX_IMAGE_PIXELS = None\n",
    "import os\n",
    "from openslide import OpenSlide\n",
    "from matplotlib import pyplot as plt\n",
    "\n",
    "from skimage import measure\n",
    "from copy import deepcopy\n",
    "import cv2\n"
   ],
   "metadata": {
    "collapsed": false,
    "pycharm": {
     "name": "#%%\n"
    }
   }
  },
  {
   "cell_type": "code",
   "execution_count": 9,
   "outputs": [],
   "source": [
    "# read annotation\n",
    "csvobj = pd.read_pickle('1C1.pkl')\n",
    "# read image size\n",
    "impth = r'\\\\fatherserverdw\\Q\\research\\images\\CLUE\\3D study\\he\\c1\\1C1.ndpi'\n",
    "imageobj = OpenSlide(impth)\n",
    "image_size = imageobj.dimensions\n",
    "(width,height) = image_size\n",
    "img = Image.new('L', (round(width), round(height)), 0) #0 for default pixel value"
   ],
   "metadata": {
    "collapsed": false,
    "pycharm": {
     "name": "#%%\n"
    }
   }
  },
  {
   "cell_type": "code",
   "execution_count": 10,
   "outputs": [
    {
     "data": {
      "text/plain": "<Figure size 432x288 with 1 Axes>",
      "image/png": "[encoded data removed]"
     },
     "metadata": {
      "needs_background": "light"
     },
     "output_type": "display_data"
    }
   ],
   "source": [
    "iter_order = [2,10,5,4,6,11,7,9,8,12,3,1]\n",
    "for i in iter_order:\n",
    "    row = csvobj.iloc[i - 1]\n",
    "    color = i\n",
    "    xycoord = np.squeeze(row['Coord'].astype('uint32'))\n",
    "    plt.scatter(xycoord[:,0],xycoord[:,1]) #(x,y) this is right because (0,0) is the bottom left of the plot\n",
    "    xycoord = list(zip(xycoord[:,0],xycoord[:,1])) #turn [[,]] into tuples (x,y)\n",
    "    ImageDraw.Draw(img).polygon(xycoord, outline=None, fill=color) #this fill value should be class ID"
   ],
   "metadata": {
    "collapsed": false,
    "pycharm": {
     "name": "#%%\n"
    }
   }
  },
  {
   "cell_type": "markdown",
   "source": [],
   "metadata": {
    "collapsed": false,
    "pycharm": {
     "name": "#%% md\n"
    }
   }
  },
  {
   "cell_type": "code",
   "execution_count": 11,
   "outputs": [],
   "source": [
    "#img2 = img.resize((width,height),resample=0) #nearest method to preserve pixel value, 0=NEAREST\n",
    "dstfn = '1C1.png'\n",
    "img.save(dstfn)"
   ],
   "metadata": {
    "collapsed": false,
    "pycharm": {
     "name": "#%%\n"
    }
   }
  }
 ],
 "metadata": {
  "kernelspec": {
   "display_name": "Python 3",
   "language": "python",
   "name": "python3"
  },
  "language_info": {
   "codemirror_mode": {
    "name": "ipython",
    "version": 2
   },
   "file_extension": ".py",
   "mimetype": "text/x-python",
   "name": "python",
   "nbconvert_exporter": "python",
   "pygments_lexer": "ipython2",
   "version": "2.7.6"
  }
 },
 "nbformat": 4,
 "nbformat_minor": 0
}