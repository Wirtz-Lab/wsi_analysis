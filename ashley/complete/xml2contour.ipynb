{
 "cells": [
  {
   "cell_type": "code",
   "execution_count": 13,
   "outputs": [],
   "source": [
    "import pandas as pd\n",
    "import xml.etree.ElementTree as ET\n",
    "import os\n",
    "import numpy as np\n",
    "from glob import glob"
   ],
   "metadata": {
    "collapsed": false,
    "pycharm": {
     "name": "#%%\n"
    }
   }
  },
  {
   "cell_type": "code",
   "execution_count": 14,
   "outputs": [
    {
     "data": {
      "text/plain": "['\\\\\\\\fatherserverdw\\\\kyuex\\\\great\\\\2022-06-07 13.18.40.xml',\n '\\\\\\\\fatherserverdw\\\\kyuex\\\\great\\\\2022-06-07 13.29.45.xml',\n '\\\\\\\\fatherserverdw\\\\kyuex\\\\great\\\\2022-06-07 13.51.05.xml',\n '\\\\\\\\fatherserverdw\\\\kyuex\\\\great\\\\2022-06-07 14.09.08.xml',\n '\\\\\\\\fatherserverdw\\\\kyuex\\\\great\\\\2022-06-07 14.27.44.xml',\n '\\\\\\\\fatherserverdw\\\\kyuex\\\\great\\\\2022-06-07 14.32.24.xml',\n '\\\\\\\\fatherserverdw\\\\kyuex\\\\great\\\\2022-06-07 14.34.59.xml',\n '\\\\\\\\fatherserverdw\\\\kyuex\\\\great\\\\2022-06-07 14.37.19.xml',\n '\\\\\\\\fatherserverdw\\\\kyuex\\\\great\\\\2022-06-07 14.39.32.xml',\n '\\\\\\\\fatherserverdw\\\\kyuex\\\\great\\\\2022-06-07 14.53.36.xml',\n '\\\\\\\\fatherserverdw\\\\kyuex\\\\great\\\\2022-06-07 14.56.13.xml',\n '\\\\\\\\fatherserverdw\\\\kyuex\\\\great\\\\2022-06-07 15.55.47.xml',\n '\\\\\\\\fatherserverdw\\\\kyuex\\\\great\\\\2022-06-07 16.00.14.xml',\n '\\\\\\\\fatherserverdw\\\\kyuex\\\\great\\\\2022-06-07 16.05.45.xml']"
     },
     "execution_count": 14,
     "metadata": {},
     "output_type": "execute_result"
    }
   ],
   "source": [
    "src = r'\\\\fatherserverdw\\kyuex\\great'  #raw string of path\n",
    "xmls = glob(os.path.join(src,'*xml'))\n",
    "xmls"
   ],
   "metadata": {
    "collapsed": false,
    "pycharm": {
     "name": "#%%\n"
    }
   }
  },
  {
   "cell_type": "code",
   "execution_count": 15,
   "outputs": [],
   "source": [
    "#pth = xmls[0]\n",
    "for pth in xmls:\n",
    "\n",
    "    tree = ET.parse(pth)\n",
    "    root = tree.getroot()\n",
    "    rows = []\n",
    "    df_cols = [\"Name\",'Class ID',\"ID\", 'Coord']\n",
    "    for child in root:  #interate through the 12 classes\n",
    "        class_id = child.attrib['Id']\n",
    "        for Attrib in child.iter('Attribute'):\n",
    "            name_str = Attrib.attrib['Name']\n",
    "            # iterate each \"circle\"\n",
    "            for region in child.iter('Region'):  #region in child\n",
    "                #TODO:create numpy array of x,y\n",
    "                temp_arr = []\n",
    "                #initialize vertex\n",
    "                vertex_arr = []\n",
    "                idx = region.attrib['Id']  #idx for each region in attribute\n",
    "\n",
    "                # collect XY coordinates into numpy list\n",
    "                for coord in region.iter('Vertex'): #vertex in each region\n",
    "                    xy = np.array([[coord.attrib['X'], coord.attrib['Y']]])\n",
    "                    vertex_arr.append(xy)\n",
    "\n",
    "                py_vertex_arr = np.array(vertex_arr)\n",
    "\n",
    "                #this is the numpy array of xy coordinates\n",
    "                #append everything to rows\n",
    "                rows.append({\"Name\":name_str,'Class ID': class_id, \"ID\": idx,\n",
    "                         \"Coord\":  py_vertex_arr})\n",
    "\n",
    "    out_df = pd.DataFrame(rows, columns = df_cols)\n",
    "    out_df.to_pickle(pth.replace('xml','pkl'))\n"
   ],
   "metadata": {
    "collapsed": false,
    "pycharm": {
     "name": "#%%\n"
    }
   }
  },
  {
   "cell_type": "code",
   "execution_count": 16,
   "outputs": [
    {
     "data": {
      "text/plain": "            Name Class ID  ID  \\\n0        corneum        1   1   \n1        corneum        1   2   \n2        corneum        1   3   \n3      hairshaft        3   1   \n4   hairfollicle        4   1   \n5   smoothmuscle        5   1   \n6   smoothmuscle        5   2   \n7   smoothmuscle        5   3   \n8   smoothmuscle        5   4   \n9   smoothmuscle        5   5   \n10  smoothmuscle        5   6   \n11  smoothmuscle        5   7   \n12  smoothmuscle        5   8   \n13  smoothmuscle        5   9   \n14  smoothmuscle        5  10   \n15  smoothmuscle        5  11   \n16  smoothmuscle        5  12   \n17  smoothmuscle        5  13   \n\n                                                Coord  \n0   [[[17661, 30739]], [[17661, 30741]], [[17661, ...  \n1   [[[20357, 32830]], [[20357, 32832]], [[20355, ...  \n2   [[[15774, 27939]], [[15776, 27939]], [[15778, ...  \n3   [[[48282, 15483]], [[48281, 15483]], [[48281, ...  \n4   [[[48275, 15791]], [[48278, 15791]], [[48278, ...  \n5   [[[11132, 20555]], [[11132, 20557]], [[11135, ...  \n6   [[[10723, 20269]], [[10723, 20270]], [[10723, ...  \n7   [[[10599, 19548]], [[10597, 19548]], [[10597, ...  \n8   [[[4311, 15045]], [[4311, 15047]], [[4311, 150...  \n9   [[[3587, 14369]], [[3585, 14369]], [[3584, 143...  \n10  [[[19357, 26272]], [[19357, 26271]], [[19357, ...  \n11  [[[19740, 26518]], [[19739, 26516]], [[19737, ...  \n12  [[[19790, 26634]], [[19790, 26633]], [[19789, ...  \n13  [[[19523, 29194]], [[19522, 29194]], [[19522, ...  \n14  [[[22603, 30950]], [[22601, 30950]], [[22601, ...  \n15  [[[48027, 14009]], [[48026, 14009]], [[48025, ...  \n16  [[[49434, 14157]], [[49439, 14157]], [[49441, ...  \n17  [[[59357, 24648]], [[59357, 24646]], [[59357, ...  ",
      "text/html": "<div>\n<style scoped>\n    .dataframe tbody tr th:only-of-type {\n        vertical-align: middle;\n    }\n\n    .dataframe tbody tr th {\n        vertical-align: top;\n    }\n\n    .dataframe thead th {\n        text-align: right;\n    }\n</style>\n<table border=\"1\" class=\"dataframe\">\n  <thead>\n    <tr style=\"text-align: right;\">\n      <th></th>\n      <th>Name</th>\n      <th>Class ID</th>\n      <th>ID</th>\n      <th>Coord</th>\n    </tr>\n  </thead>\n  <tbody>\n    <tr>\n      <th>0</th>\n      <td>corneum</td>\n      <td>1</td>\n      <td>1</td>\n      <td>[[[17661, 30739]], [[17661, 30741]], [[17661, ...</td>\n    </tr>\n    <tr>\n      <th>1</th>\n      <td>corneum</td>\n      <td>1</td>\n      <td>2</td>\n      <td>[[[20357, 32830]], [[20357, 32832]], [[20355, ...</td>\n    </tr>\n    <tr>\n      <th>2</th>\n      <td>corneum</td>\n      <td>1</td>\n      <td>3</td>\n      <td>[[[15774, 27939]], [[15776, 27939]], [[15778, ...</td>\n    </tr>\n    <tr>\n      <th>3</th>\n      <td>hairshaft</td>\n      <td>3</td>\n      <td>1</td>\n      <td>[[[48282, 15483]], [[48281, 15483]], [[48281, ...</td>\n    </tr>\n    <tr>\n      <th>4</th>\n      <td>hairfollicle</td>\n      <td>4</td>\n      <td>1</td>\n      <td>[[[48275, 15791]], [[48278, 15791]], [[48278, ...</td>\n    </tr>\n    <tr>\n      <th>5</th>\n      <td>smoothmuscle</td>\n      <td>5</td>\n      <td>1</td>\n      <td>[[[11132, 20555]], [[11132, 20557]], [[11135, ...</td>\n    </tr>\n    <tr>\n      <th>6</th>\n      <td>smoothmuscle</td>\n      <td>5</td>\n      <td>2</td>\n      <td>[[[10723, 20269]], [[10723, 20270]], [[10723, ...</td>\n    </tr>\n    <tr>\n      <th>7</th>\n      <td>smoothmuscle</td>\n      <td>5</td>\n      <td>3</td>\n      <td>[[[10599, 19548]], [[10597, 19548]], [[10597, ...</td>\n    </tr>\n    <tr>\n      <th>8</th>\n      <td>smoothmuscle</td>\n      <td>5</td>\n      <td>4</td>\n      <td>[[[4311, 15045]], [[4311, 15047]], [[4311, 150...</td>\n    </tr>\n    <tr>\n      <th>9</th>\n      <td>smoothmuscle</td>\n      <td>5</td>\n      <td>5</td>\n      <td>[[[3587, 14369]], [[3585, 14369]], [[3584, 143...</td>\n    </tr>\n    <tr>\n      <th>10</th>\n      <td>smoothmuscle</td>\n      <td>5</td>\n      <td>6</td>\n      <td>[[[19357, 26272]], [[19357, 26271]], [[19357, ...</td>\n    </tr>\n    <tr>\n      <th>11</th>\n      <td>smoothmuscle</td>\n      <td>5</td>\n      <td>7</td>\n      <td>[[[19740, 26518]], [[19739, 26516]], [[19737, ...</td>\n    </tr>\n    <tr>\n      <th>12</th>\n      <td>smoothmuscle</td>\n      <td>5</td>\n      <td>8</td>\n      <td>[[[19790, 26634]], [[19790, 26633]], [[19789, ...</td>\n    </tr>\n    <tr>\n      <th>13</th>\n      <td>smoothmuscle</td>\n      <td>5</td>\n      <td>9</td>\n      <td>[[[19523, 29194]], [[19522, 29194]], [[19522, ...</td>\n    </tr>\n    <tr>\n      <th>14</th>\n      <td>smoothmuscle</td>\n      <td>5</td>\n      <td>10</td>\n      <td>[[[22603, 30950]], [[22601, 30950]], [[22601, ...</td>\n    </tr>\n    <tr>\n      <th>15</th>\n      <td>smoothmuscle</td>\n      <td>5</td>\n      <td>11</td>\n      <td>[[[48027, 14009]], [[48026, 14009]], [[48025, ...</td>\n    </tr>\n    <tr>\n      <th>16</th>\n      <td>smoothmuscle</td>\n      <td>5</td>\n      <td>12</td>\n      <td>[[[49434, 14157]], [[49439, 14157]], [[49441, ...</td>\n    </tr>\n    <tr>\n      <th>17</th>\n      <td>smoothmuscle</td>\n      <td>5</td>\n      <td>13</td>\n      <td>[[[59357, 24648]], [[59357, 24646]], [[59357, ...</td>\n    </tr>\n  </tbody>\n</table>\n</div>"
     },
     "execution_count": 16,
     "metadata": {},
     "output_type": "execute_result"
    }
   ],
   "source": [
    "out_df"
   ],
   "metadata": {
    "collapsed": false,
    "pycharm": {
     "name": "#%%\n"
    }
   }
  },
  {
   "cell_type": "code",
   "execution_count": null,
   "outputs": [],
   "source": [],
   "metadata": {
    "collapsed": false,
    "pycharm": {
     "name": "#%%\n"
    }
   }
  }
 ],
 "metadata": {
  "kernelspec": {
   "display_name": "Python 3",
   "language": "python",
   "name": "python3"
  },
  "language_info": {
   "codemirror_mode": {
    "name": "ipython",
    "version": 2
   },
   "file_extension": ".py",
   "mimetype": "text/x-python",
   "name": "python",
   "nbconvert_exporter": "python",
   "pygments_lexer": "ipython2",
   "version": "2.7.6"
  }
 },
 "nbformat": 4,
 "nbformat_minor": 0
}