{
 "cells": [
  {
   "cell_type": "code",
   "execution_count": 1,
   "outputs": [],
   "source": [
    "import pandas as pd\n",
    "import xml.etree.ElementTree as ET\n",
    "import os\n",
    "import numpy as np"
   ],
   "metadata": {
    "collapsed": false,
    "pycharm": {
     "name": "#%%\n"
    }
   }
  },
  {
   "cell_type": "code",
   "execution_count": 2,
   "outputs": [],
   "source": [
    "src = os.path.expanduser(r'\\\\fatherserverdw\\Q\\research\\images\\CLUE\\3D study\\he\\c1')  #raw string of path\n",
    "src\n",
    "# Open XML file\n",
    "fn = '1C1.xml'\n",
    "pth = os.path.join(src, fn)\n",
    "pth\n",
    "tree = ET.parse(pth)\n",
    "root = tree.getroot()\n",
    "\n",
    "rows = []\n",
    "df_cols = [\"Name\",'Class ID',\"ID\", 'Coord']\n",
    "\n"
   ],
   "metadata": {
    "collapsed": false,
    "pycharm": {
     "name": "#%%\n"
    }
   }
  },
  {
   "cell_type": "code",
   "execution_count": 3,
   "outputs": [],
   "source": [
    "# iterate each class\n",
    "for child in root:  #interate through the 12 classes\n",
    "    class_id = child.attrib['Id']\n",
    "    for Attrib in child.iter('Attribute'):\n",
    "        name_str = Attrib.attrib['Name']\n",
    "\n",
    "\n",
    "        # iterate each \"circle\"\n",
    "        for region in child.iter('Region'):  #region in child\n",
    "            #TODO:create numpy array of x,y\n",
    "            temp_arr = []\n",
    "            #initialize vertex\n",
    "            vertex_arr = []\n",
    "            idx = region.attrib['Id']  #idx for each region in attribute\n",
    "\n",
    "            # collect XY coordinates into numpy list\n",
    "            for coord in region.iter('Vertex'): #vertex in each region\n",
    "                xy = np.array([[coord.attrib['X'], coord.attrib['Y']]])\n",
    "                vertex_arr.append(xy)\n",
    "\n",
    "            py_vertex_arr = np.array(vertex_arr)\n",
    "\n",
    "            #this is the numpy array of xy coordinates\n",
    "            #append everything to rows\n",
    "            rows.append({\"Name\":name_str,'Class ID': class_id, \"ID\": idx,\n",
    "                     \"Coord\":  py_vertex_arr})\n",
    "\n",
    "\n"
   ],
   "metadata": {
    "collapsed": false,
    "pycharm": {
     "name": "#%%\n"
    }
   }
  },
  {
   "cell_type": "code",
   "execution_count": 4,
   "outputs": [
    {
     "name": "stdout",
     "output_type": "stream",
     "text": [
      "        Name Class ID ID                                              Coord\n",
      "0    corneum        1  1  [[[120233, 59176]], [[120231, 59177]], [[12023...\n",
      "1    corneum        1  2  [[[121845, 57763]], [[121845, 57761]], [[12184...\n",
      "2    corneum        1  3  [[[128962, 41591]], [[128965, 41591]], [[12896...\n",
      "3    corneum        1  4  [[[118018, 12420]], [[118018, 12422]], [[11801...\n",
      "4    corneum        1  5  [[[116962, 30224]], [[116962, 30225]], [[11696...\n",
      "..       ...      ... ..                                                ...\n",
      "124    white       12  4  [[[118290, 12239]], [[118291, 12239]], [[11829...\n",
      "125    white       12  5  [[[117041, 30284]], [[117041, 30285]], [[11704...\n",
      "126    white       12  6  [[[67993, 74680]], [[67994, 74680]], [[67997, ...\n",
      "127    white       12  7  [[[93917, 34499]], [[93917, 34500]], [[93917, ...\n",
      "128    white       12  8  [[[22189, 68628]], [[22189, 68630]], [[22189, ...\n",
      "\n",
      "[129 rows x 4 columns]\n"
     ]
    }
   ],
   "source": [
    "#generate data frame\n",
    "\n",
    "out_df = pd.DataFrame(rows, columns = df_cols)\n",
    "print(out_df)\n",
    "out_df.to_pickle('1C1.pkl')\n",
    "out_df.to_csv('1C1.csv')\n"
   ],
   "metadata": {
    "collapsed": false,
    "pycharm": {
     "name": "#%%\n"
    }
   }
  },
  {
   "cell_type": "code",
   "execution_count": 4,
   "outputs": [],
   "source": [],
   "metadata": {
    "collapsed": false,
    "pycharm": {
     "name": "#%%\n"
    }
   }
  },
  {
   "cell_type": "code",
   "execution_count": 4,
   "outputs": [],
   "source": [],
   "metadata": {
    "collapsed": false,
    "pycharm": {
     "name": "#%%\n"
    }
   }
  }
 ],
 "metadata": {
  "kernelspec": {
   "display_name": "Python 3",
   "language": "python",
   "name": "python3"
  },
  "language_info": {
   "codemirror_mode": {
    "name": "ipython",
    "version": 2
   },
   "file_extension": ".py",
   "mimetype": "text/x-python",
   "name": "python",
   "nbconvert_exporter": "python",
   "pygments_lexer": "ipython2",
   "version": "2.7.6"
  }
 },
 "nbformat": 4,
 "nbformat_minor": 0
}