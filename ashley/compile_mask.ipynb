{
 "cells": [
  {
   "cell_type": "code",
   "execution_count": 62,
   "outputs": [],
   "source": [
    "from PIL import Image\n",
    "from pathlib import Path\n",
    "from skimage import measure\n",
    "import numpy as np\n",
    "import re\n",
    "import ntpath\n",
    "import random"
   ],
   "metadata": {
    "collapsed": false,
    "pycharm": {
     "name": "#%%\n"
    }
   }
  },
  {
   "cell_type": "code",
   "execution_count": 63,
   "outputs": [],
   "source": [
    "#a class with image and its area (minus black background)\n",
    "class im:\n",
    "    def __init__(self, img_arr,area,classid,obj, total_area):\n",
    "        self.img_arr = img_arr\n",
    "        self.area = area\n",
    "        self.classid= classid\n",
    "        self.obj =  obj\n",
    "        self.total_area = total_area #0, total area of that class (the sum of individual obj area)"
   ],
   "metadata": {
    "collapsed": false,
    "pycharm": {
     "name": "#%%\n"
    }
   }
  },
  {
   "cell_type": "code",
   "execution_count": 64,
   "outputs": [],
   "source": [
    "#create blank image for collage\n",
    "DLinputsz = (1024,1024) #dimension of collage\n",
    "imgblank= Image.new(mode=\"RGB\",size=DLinputsz)\n",
    "\n",
    "#create random generator\n",
    "random.seed()\n",
    "#random.randint(0, 1024)"
   ],
   "metadata": {
    "collapsed": false,
    "pycharm": {
     "name": "#%%\n"
    }
   }
  },
  {
   "cell_type": "code",
   "execution_count": 65,
   "outputs": [],
   "source": [
    "#read crops\n",
    "# place ontop of the empty collage\n",
    "# need to normalize area occupied  by each class\n",
    "\n",
    "#functions: paste()\n",
    "\n"
   ],
   "metadata": {
    "collapsed": false,
    "pycharm": {
     "name": "#%%\n"
    }
   }
  },
  {
   "cell_type": "code",
   "execution_count": 66,
   "outputs": [],
   "source": [
    "#Need: 1.a variable that determines how much overlapping is allowed\n",
    "#2.a variable that determines how much background space\n",
    "background_ratio = 0.5\n",
    "collage_area = DLinputsz[0]* DLinputsz[1] * background_ratio #this is a float\n",
    "filled_area = 0 #initialize area already filled to 0\n",
    "max_overlapping_area= 50 #maximum overlapping between annotations\n",
    "\n",
    "num_class = 12 #there are 12 classes\n",
    "class_area = collage_area /num_class #float: the area each class should occupy\n",
    "class_threshold = 20; # you can exceed class area by 20\n"
   ],
   "metadata": {
    "collapsed": false,
    "pycharm": {
     "name": "#%%\n"
    }
   }
  },
  {
   "cell_type": "code",
   "execution_count": 67,
   "outputs": [],
   "source": [
    "#read crops from folder\n",
    "folder_dir = 'imcrop'\n",
    "pathes = Path(folder_dir).glob('*.png')\n"
   ],
   "metadata": {
    "collapsed": false,
    "pycharm": {
     "name": "#%%\n"
    }
   }
  },
  {
   "cell_type": "code",
   "execution_count": 50,
   "outputs": [],
   "source": [
    "#create a list of im class to store: (image array, area, classid, objid)\n",
    "im_list=list()\n",
    "\n",
    "for path in pathes:\n",
    "    image = Image.open(path)\n",
    "    ids_list= re.findall(\"class(\\d+)_obj(\\d).png\", ntpath.basename(path))\n",
    "    ids = ids_list[0] #there is only one element in ids_list\n",
    "    classid = ids[0]\n",
    "    objid = ids[1]\n",
    "\n",
    "    image_arr = np.array(image) #change image into a numpy array?\n",
    "    area = np.sum(image_arr[image_arr>0]) #get the area of image minus black background\n",
    "\n",
    "    im_list.append(im(image_arr,area,classid,objid, 0)) #add to the list of im classes\n",
    "\n"
   ],
   "metadata": {
    "collapsed": false,
    "pycharm": {
     "name": "#%%\n"
    }
   }
  },
  {
   "cell_type": "code",
   "execution_count": 69,
   "outputs": [
    {
     "ename": "KeyboardInterrupt",
     "evalue": "",
     "output_type": "error",
     "traceback": [
      "\u001B[1;31m---------------------------------------------------------------------------\u001B[0m",
      "\u001B[1;31mKeyboardInterrupt\u001B[0m                         Traceback (most recent call last)",
      "Input \u001B[1;32mIn [69]\u001B[0m, in \u001B[0;36m<cell line: 6>\u001B[1;34m()\u001B[0m\n\u001B[0;32m      1\u001B[0m \u001B[38;5;66;03m#add collage to image, need to track filled_area\u001B[39;00m\n\u001B[0;32m      2\u001B[0m \u001B[38;5;66;03m#need to track each class' area (need to loop through entire list, find same class ID and update total_area)\u001B[39;00m\n\u001B[0;32m      3\u001B[0m \n\u001B[0;32m      4\u001B[0m \u001B[38;5;66;03m#Question: change the x,y coord of image to the center? (so that it could cut off the edge) ??\u001B[39;00m\n\u001B[0;32m      6\u001B[0m \u001B[38;5;28;01mwhile\u001B[39;00m(filled_area \u001B[38;5;241m<\u001B[39m collage_area):\n\u001B[0;32m      7\u001B[0m     \u001B[38;5;66;03m#loop through im_list\u001B[39;00m\n\u001B[1;32m----> 8\u001B[0m     \u001B[38;5;28;01mfor\u001B[39;00m im \u001B[38;5;129;01min\u001B[39;00m im_list:\n\u001B[0;32m      9\u001B[0m         \u001B[38;5;66;03m#if total_area hasn't exceeded designated area for each class\u001B[39;00m\n\u001B[0;32m     10\u001B[0m         \u001B[38;5;28;01mwhile\u001B[39;00m(im\u001B[38;5;241m.\u001B[39mtotal_area \u001B[38;5;241m<\u001B[39m\u001B[38;5;241m=\u001B[39m (class_area \u001B[38;5;241m+\u001B[39m class_threshold)):\n\u001B[0;32m     11\u001B[0m             xycoord \u001B[38;5;241m=\u001B[39m (random\u001B[38;5;241m.\u001B[39mrandint(\u001B[38;5;241m0\u001B[39m, \u001B[38;5;241m1024\u001B[39m), random\u001B[38;5;241m.\u001B[39mrandint(\u001B[38;5;241m0\u001B[39m, \u001B[38;5;241m1024\u001B[39m)) \u001B[38;5;66;03m#create tuple of x,y coordinates to place on collage\u001B[39;00m\n",
      "\u001B[1;31mKeyboardInterrupt\u001B[0m: "
     ]
    }
   ],
   "source": [
    "#add collage to image, need to track filled_area\n",
    "#need to track each class' area (need to loop through entire list, find same class ID and update total_area)\n",
    "\n",
    "#Question: change the x,y coord of image to the center? (so that it could cut off the edge) ??\n",
    "\n",
    "while(filled_area <= collage_area):\n",
    "    #loop through im_list\n",
    "    #TODO: check overlapping (need to keep track of which pixels are set)\n",
    "    for im in im_list:\n",
    "        #if total_area hasn't exceeded designated area for each class\n",
    "        while(im.total_area <= (class_area + class_threshold)):\n",
    "            xycoord = (random.randint(0, 1024), random.randint(0, 1024)) #create tuple of x,y coordinates to place on collage\n",
    "            imgblank.paste(im, xycoord) #paste im onto imgblank, xy coord is the upper left corner of im\n",
    "            #update areas\n",
    "            filled_area = filled_area + im.area\n",
    "            im.total_area = im.total_area + im.area\n",
    "            #update im_list : update total_area (is this changing the original im_list?? QUESTION\n",
    "            for image in im_list:\n",
    "                if(image.classid == im.classid):\n",
    "                    image.total_area = im.total_area\n",
    "\n"
   ],
   "metadata": {
    "collapsed": false,
    "pycharm": {
     "name": "#%%\n"
    }
   }
  },
  {
   "cell_type": "code",
   "execution_count": null,
   "outputs": [],
   "source": [],
   "metadata": {
    "collapsed": false,
    "pycharm": {
     "name": "#%%\n"
    }
   }
  }
 ],
 "metadata": {
  "kernelspec": {
   "display_name": "Python 3",
   "language": "python",
   "name": "python3"
  },
  "language_info": {
   "codemirror_mode": {
    "name": "ipython",
    "version": 2
   },
   "file_extension": ".py",
   "mimetype": "text/x-python",
   "name": "python",
   "nbconvert_exporter": "python",
   "pygments_lexer": "ipython2",
   "version": "2.7.6"
  }
 },
 "nbformat": 4,
 "nbformat_minor": 0
}