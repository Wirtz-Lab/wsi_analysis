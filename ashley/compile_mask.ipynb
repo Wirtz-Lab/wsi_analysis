{
 "cells": [
  {
   "cell_type": "code",
   "execution_count": 10,
   "outputs": [],
   "source": [
    "from PIL import Image\n",
    "from pathlib import Path\n",
    "from skimage import measure\n",
    "import numpy as np\n",
    "import re\n",
    "import ntpath\n",
    "import random\n",
    "from copy import deepcopy"
   ],
   "metadata": {
    "collapsed": false,
    "pycharm": {
     "name": "#%%\n"
    }
   }
  },
  {
   "cell_type": "code",
   "execution_count": 11,
   "outputs": [],
   "source": [
    "#a class with image and its area (minus black background)\n",
    "class im:\n",
    "    def __init__(self,img,area,obj, total_area):\n",
    "        self.img= img\n",
    "        self.area = area\n",
    "        self.obj =  obj\n",
    "        self.total_area = total_area #0, total area of that object (the sum of individual obj area)"
   ],
   "metadata": {
    "collapsed": false,
    "pycharm": {
     "name": "#%%\n"
    }
   }
  },
  {
   "cell_type": "code",
   "execution_count": 12,
   "outputs": [],
   "source": [
    "#create blank image for collage\n",
    "DLinputsz = (1024,1024) #dimension of collage\n",
    "imgblank= Image.new(mode=\"RGB\",size=DLinputsz)\n",
    "\n",
    "#create random generator\n",
    "random.seed()\n",
    "#random.randint(0, 1024)"
   ],
   "metadata": {
    "collapsed": false,
    "pycharm": {
     "name": "#%%\n"
    }
   }
  },
  {
   "cell_type": "code",
   "execution_count": 13,
   "outputs": [
    {
     "name": "stdout",
     "output_type": "stream",
     "text": [
      "1048576\n"
     ]
    }
   ],
   "source": [
    "#Need: 1.a variable that determines how much overlapping is allowed\n",
    "#2.a variable that determines how much background space\n",
    "\n",
    "#80% of the image will be filled\n",
    "background_ratio = 0.8\n",
    "collage_area = DLinputsz[0]* DLinputsz[1] * background_ratio #this is a float\n",
    "filled_area = 0 #initialize area already filled to 0\n",
    "\n",
    "#maximum overlapping between annotations, TODO\n",
    "max_overlapping_area= 50\n",
    "\n",
    "print(1024*1024)\n",
    "#num_class = 12 #there are 12 classes\n",
    "#class_area = collage_area /num_class #float: the area each class should occupy\n",
    "#class_threshold = 20; # you can exceed class area by 20\n"
   ],
   "metadata": {
    "collapsed": false,
    "pycharm": {
     "name": "#%%\n"
    }
   }
  },
  {
   "cell_type": "code",
   "execution_count": 14,
   "outputs": [],
   "source": [
    "#read crops from folder\n",
    "folder_dir = 'imcrop'\n",
    "pathes = Path(folder_dir).glob('*.png')\n",
    "\n",
    "folder_mask_dir = 'mskcrop'\n",
    "mask_pathes = Path(folder_mask_dir).glob('*.png')\n"
   ],
   "metadata": {
    "collapsed": false,
    "pycharm": {
     "name": "#%%\n"
    }
   }
  },
  {
   "cell_type": "code",
   "execution_count": 15,
   "outputs": [],
   "source": [
    "#create a list of im class to store: (image array, area, classid, objid)\n",
    "im_list=list()\n",
    "obj_num = 0 #number of objects in the class\n",
    "\n",
    "for path in pathes:\n",
    "    obj_num = obj_num + 1 #increment number of objects\n",
    "    image = Image.open(path)\n",
    "    objid= re.findall(\"obj(\\d+).png\", ntpath.basename(path))\n",
    "\n",
    "    image_arr = np.array(image) #change image into a numpy array?\n",
    "    area = np.sum(image_arr>0) #get the area of image minus black background\\\n",
    "\n",
    "    im_list.append(im(image,area,objid, 0)) #add to the list of im classes\n",
    "\n",
    "\n",
    "#the maximum area each object type could occupy\n",
    "max_obj_area = collage_area / obj_num\n",
    "\n",
    "\n"
   ],
   "metadata": {
    "collapsed": false,
    "pycharm": {
     "name": "#%%\n"
    }
   }
  },
  {
   "cell_type": "code",
   "execution_count": 16,
   "outputs": [],
   "source": [
    "#create a list of masks\n",
    "mask_list = list()\n",
    "for path in mask_pathes:\n",
    "    image = Image.open(path)\n",
    "    objid= re.findall(\"obj(\\d+).png\", ntpath.basename(path))\n",
    "    image_arr = np.array(image)\n",
    "    mask_list.append(im(image,0,objid, 0)) #don't need area\n"
   ],
   "metadata": {
    "collapsed": false,
    "pycharm": {
     "name": "#%%\n"
    }
   }
  },
  {
   "cell_type": "code",
   "execution_count": 17,
   "outputs": [],
   "source": [
    "#add collage to image, need to track filled_area\n",
    "#need to track each class' area (need to loop through entire list, find same class ID and update total_area)\n",
    "\n",
    "#Question: change the x,y coord of image to the center? (so that it could cut off the edge) ??\n",
    "\n",
    "while(filled_area <= collage_area):\n",
    "    #loop through im_list\n",
    "    #TODO: check overlapping (need to keep track of which pixels are set)\n",
    "    for im,mask in zip(im_list,mask_list):\n",
    "        #if total_area hasn't exceeded designated area for each class\n",
    "        while(im.total_area <= max_obj_area):\n",
    "            xycoord = (random.randint(0, DLinputsz[0]), random.randint(0, DLinputsz[1])) #create tuple of x,y coordinates to place on collage\n",
    "            imgblank.paste(im.img, xycoord, mask=Image.fromarray((np.array(mask.img).astype('bool')*255)).convert('L')) #paste im onto imgblank, xy coord is the upper left corner of im\n",
    "\n",
    "            #----update areas here----\n",
    "\n",
    "            #TODO: exclude area that is out of bounds\n",
    "            #which row and colum to delete\n",
    "\n",
    "            max_x = (DLinputsz[0] - xycoord[0])\n",
    "            max_y= DLinputsz[1] - xycoord[1]\n",
    "\n",
    "            #find max row and column of arr_copy\n",
    "            copy_img = deepcopy(im.img)\n",
    "            arr_copy = np.array(copy_img)\n",
    "            num_rows = arr_copy.shape[1]\n",
    "            num_cols = arr_copy.shape[0]\n",
    "\n",
    "\n",
    "            #NOTE: i am not sure if this works, i am making pixels that are out of bounds zero\n",
    "            #then cropped_area is the sum of pixels in arr_copy that is greater than zero\n",
    "\n",
    "            if(max_x <  num_cols): #check if part of the img is out of bounds\n",
    "                for i in range (max_x,num_cols-1): #clear columns (x)\n",
    "                    arr_copy[i] = 0\n",
    "\n",
    "            if(max_y <  num_rows):\n",
    "                for i in range (max_y,num_rows-1): #clear rows (y)\n",
    "                    arr_copy[:i] = 0\n",
    "\n",
    "            cropped_area = np.sum(arr_copy>0)\n",
    "\n",
    "\n",
    "\n",
    "            #update filled_area and image total area\n",
    "            filled_area = filled_area + cropped_area\n",
    "\n",
    "            #TODO: if there is more than one object in a class, need to loop through all the objects in that class\n",
    "            #and update the total_area\n",
    "            im.total_area = im.total_area + cropped_area  #used to be img.area\n",
    "\n",
    "\n",
    "#display collage\n",
    "imgblank.show()\n"
   ],
   "metadata": {
    "collapsed": false,
    "pycharm": {
     "name": "#%%\n"
    }
   }
  },
  {
   "cell_type": "code",
   "execution_count": 18,
   "outputs": [
    {
     "data": {
      "text/plain": "<matplotlib.collections.PathCollection at 0x22cb81e5e50>"
     },
     "execution_count": 18,
     "metadata": {},
     "output_type": "execute_result"
    },
    {
     "data": {
      "text/plain": "<Figure size 432x288 with 1 Axes>",
      "image/png": "[encoded data removed]"
     },
     "metadata": {
      "needs_background": "light"
     },
     "output_type": "display_data"
    }
   ],
   "source": [
    "from matplotlib import pyplot as plt\n",
    "plt.scatter([1,3,5,7],[1,3,5,7])"
   ],
   "metadata": {
    "collapsed": false,
    "pycharm": {
     "name": "#%%\n"
    }
   }
  },
  {
   "cell_type": "code",
   "execution_count": 20,
   "outputs": [
    {
     "data": {
      "text/plain": "<matplotlib.collections.PathCollection at 0x22cb82a5c40>"
     },
     "execution_count": 20,
     "metadata": {},
     "output_type": "execute_result"
    },
    {
     "data": {
      "text/plain": "<Figure size 432x288 with 1 Axes>",
      "image/png": "[encoded data removed]"
     },
     "metadata": {
      "needs_background": "light"
     },
     "output_type": "display_data"
    }
   ],
   "source": [
    "plt.scatter([1,2,3,4,5,6,7],[1,2,3,4,5,6,7])"
   ],
   "metadata": {
    "collapsed": false,
    "pycharm": {
     "name": "#%%\n"
    }
   }
  }
 ],
 "metadata": {
  "kernelspec": {
   "display_name": "Python 3",
   "language": "python",
   "name": "python3"
  },
  "language_info": {
   "codemirror_mode": {
    "name": "ipython",
    "version": 2
   },
   "file_extension": ".py",
   "mimetype": "text/x-python",
   "name": "python",
   "nbconvert_exporter": "python",
   "pygments_lexer": "ipython2",
   "version": "2.7.6"
  }
 },
 "nbformat": 4,
 "nbformat_minor": 0
}