{
 "cells": [
  {
   "cell_type": "code",
   "execution_count": 80,
   "outputs": [],
   "source": [
    "from PIL import Image\n",
    "from pathlib import Path\n",
    "from skimage import measure\n",
    "import numpy as np\n",
    "import re\n",
    "import ntpath"
   ],
   "metadata": {
    "collapsed": false,
    "pycharm": {
     "name": "#%%\n"
    }
   }
  },
  {
   "cell_type": "code",
   "execution_count": 81,
   "outputs": [],
   "source": [
    "#a class with image and its area (minus black background)\n",
    "class im:\n",
    "    def __init__(self, img_arr,area,classid,obj):\n",
    "        self.img_arr = img_arr\n",
    "        self.area = area\n",
    "        self.classid= classid\n",
    "        self.obj =  obj"
   ],
   "metadata": {
    "collapsed": false,
    "pycharm": {
     "name": "#%%\n"
    }
   }
  },
  {
   "cell_type": "code",
   "execution_count": 82,
   "outputs": [],
   "source": [
    "#create blank image for collage\n",
    "DLinputsz = (1024,1024) #dimension of collage\n",
    "imgblank= Image.new(mode=\"RGB\",size=DLinputsz)"
   ],
   "metadata": {
    "collapsed": false,
    "pycharm": {
     "name": "#%%\n"
    }
   }
  },
  {
   "cell_type": "code",
   "execution_count": 83,
   "outputs": [],
   "source": [
    "#read crops\n",
    "# place ontop of the empty collage\n",
    "# need to normalize area occupied  by each class\n",
    "\n",
    "#functions: paste()\n",
    "#loop through images, make note of their class ID (to normalize)\n"
   ],
   "metadata": {
    "collapsed": false,
    "pycharm": {
     "name": "#%%\n"
    }
   }
  },
  {
   "cell_type": "code",
   "execution_count": 84,
   "outputs": [],
   "source": [
    "#Need: 1.a variable that determines how much overlapping is allowed\n",
    "#2.a variable that determines how much background space\n",
    "background_ratio = 0.5\n",
    "max_overlapping_area= 50"
   ],
   "metadata": {
    "collapsed": false,
    "pycharm": {
     "name": "#%%\n"
    }
   }
  },
  {
   "cell_type": "code",
   "execution_count": 85,
   "outputs": [],
   "source": [
    "#read crops from folder\n",
    "folder_dir = 'imcrop'\n",
    "pathes = Path(folder_dir).glob('*.png')\n"
   ],
   "metadata": {
    "collapsed": false,
    "pycharm": {
     "name": "#%%\n"
    }
   }
  },
  {
   "cell_type": "code",
   "execution_count": 96,
   "outputs": [
    {
     "name": "stdout",
     "output_type": "stream",
     "text": [
      "8\n",
      "0\n",
      "9\n",
      "0\n"
     ]
    }
   ],
   "source": [
    "#create a list of im class to store: (image array, area, classid, objid)\n",
    "im_list=list()\n",
    "\n",
    "for path in pathes:\n",
    "    image = Image.open(path)\n",
    "    ids_list= re.findall(\"class(\\d+)_obj(\\d).png\", ntpath.basename(path))\n",
    "    ids = ids_list[0] #there is only one element in ids_list\n",
    "    classid = ids[0]\n",
    "    objid = ids[1]\n",
    "\n",
    "    image_arr = np.array(image) #change image into a numpy array?\n",
    "    image = Image.fromarray(image_arr)\n",
    "    area = np.sum(image_arr[image_arr>0]) #get the area of image minus black background\n",
    "\n",
    "    im_list.append(im(image_arr,area,classid,objid)) #add to the list of im classes"
   ],
   "metadata": {
    "collapsed": false,
    "pycharm": {
     "name": "#%%\n"
    }
   }
  },
  {
   "cell_type": "code",
   "execution_count": null,
   "outputs": [],
   "source": [],
   "metadata": {
    "collapsed": false,
    "pycharm": {
     "name": "#%%\n"
    }
   }
  }
 ],
 "metadata": {
  "kernelspec": {
   "display_name": "Python 3",
   "language": "python",
   "name": "python3"
  },
  "language_info": {
   "codemirror_mode": {
    "name": "ipython",
    "version": 2
   },
   "file_extension": ".py",
   "mimetype": "text/x-python",
   "name": "python",
   "nbconvert_exporter": "python",
   "pygments_lexer": "ipython2",
   "version": "2.7.6"
  }
 },
 "nbformat": 4,
 "nbformat_minor": 0
}