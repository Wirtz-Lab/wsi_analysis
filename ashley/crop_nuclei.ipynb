{
 "cells": [
  {
   "cell_type": "code",
   "execution_count": 293,
   "metadata": {
    "collapsed": true,
    "pycharm": {
     "name": "#%%\n"
    }
   },
   "outputs": [],
   "source": [
    "#load dataframe (pkl)\n",
    "#summarize some examples, crop them using contours\n",
    "#high score/ low score/ one high one low\n",
    "#anything that stands out\n",
    "\n",
    "#a window that is bigger than nuclei (square window 100 by 100), all crops have the same size\n",
    "#just crop raw imgae, and draw with python for GT and Predicted (different color)"
   ]
  },
  {
   "cell_type": "code",
   "execution_count": 294,
   "outputs": [],
   "source": [
    "import pandas as pd\n",
    "import os\n",
    "import numpy as np\n",
    "import cv2\n",
    "import json\n",
    "import glob\n",
    "import matplotlib.pyplot as plt\n",
    "import tqdm\n",
    "from PIL import Image\n",
    "from matplotlib.patches import Polygon"
   ],
   "metadata": {
    "collapsed": false,
    "pycharm": {
     "name": "#%%\n"
    }
   }
  },
  {
   "cell_type": "code",
   "execution_count": 295,
   "outputs": [],
   "source": [
    "#path_idx = 1\n",
    "src = r'\\\\fatherserverdw\\Q\\research\\images\\skin_aging\\hovernet_tile\\hovernet_manual_validation'\n",
    "#manual = os.path.join(src,'manual_annotation')\n",
    "#predicted = os.path.join(src,'predicted_nuclei_contour')\n",
    "raw_ims = os.path.join(src,'raw_image')\n",
    "raw_path = glob.glob(os.path.join(raw_ims,'*.tif'))\n",
    "\n",
    "img_names = os.listdir(raw_ims)"
   ],
   "metadata": {
    "collapsed": false,
    "pycharm": {
     "name": "#%%\n"
    }
   }
  },
  {
   "cell_type": "code",
   "execution_count": 296,
   "outputs": [],
   "source": [
    "#load dataframe\n",
    "pth = r'C:\\Users\\kyuha\\PycharmProjects\\wsi_analysis\\kyu\\under_development'\n",
    "df_paths = glob.glob(os.path.join(pth,'*.pkl'))\n",
    "scores = pd.DataFrame(index =img_names,columns={'l_dice1','s_dice1','h_dice1','l_jaccard_score','h_jaccard_score','s_jaccard_score'})\n"
   ],
   "metadata": {
    "collapsed": false,
    "pycharm": {
     "name": "#%%\n"
    }
   }
  },
  {
   "cell_type": "code",
   "execution_count": 299,
   "outputs": [
    {
     "data": {
      "text/plain": "<Figure size 432x288 with 1 Axes>",
      "image/png": "[encoded data removed]"
     },
     "metadata": {
      "needs_background": "light"
     },
     "output_type": "display_data"
    },
    {
     "data": {
      "text/plain": "<Figure size 432x288 with 1 Axes>",
      "image/png": "[encoded data removed]"
     },
     "metadata": {
      "needs_background": "light"
     },
     "output_type": "display_data"
    },
    {
     "data": {
      "text/plain": "<Figure size 432x288 with 1 Axes>",
      "image/png": "[encoded data removed]"
     },
     "metadata": {
      "needs_background": "light"
     },
     "output_type": "display_data"
    }
   ],
   "source": [
    "folder_dir = r'C:\\Users\\kyuha\\Desktop\\nuclei_crop_temp'\n",
    "path_idx=2\n",
    "df = pd.read_pickle(df_paths[path_idx])\n",
    "raw_img = Image.open(raw_path[path_idx])\n",
    "\n",
    "df2 = df.sort_values('jaccard_score',ascending=False,ignore_index=True)\n",
    "strange = []\n",
    "for idx,row in df2.iterrows():\n",
    "    if abs(row['jaccard_score'] - row['dice1']) > 0.17:\n",
    "\n",
    "        strange.append(row)\n",
    "#pick one high and one low\n",
    "col = df2.iloc[0]\n",
    "h_man_ct = col['contour']\n",
    "h_pred_ct = col['pred_contour']\n",
    "h_ja_score = col['jaccard_score']\n",
    "h_dice1 = col['dice1']\n",
    "h_cent = col['centroid']\n",
    "\n",
    "l_col = df2.iloc[len(df2.index)-1]\n",
    "l_man_ct = l_col['contour']\n",
    "l_pred_ct = l_col['pred_contour']\n",
    "l_ja_score = l_col['jaccard_score']\n",
    "l_dice1 = l_col['dice1']\n",
    "l_cent = l_col['centroid']\n",
    "\n",
    "if(len(strange)!= 0 ):\n",
    "    s_col = strange[0]\n",
    "    s_man_ct = s_col['contour']\n",
    "    s_pred_ct = s_col['pred_contour']\n",
    "    s_ja_score = s_col['jaccard_score']\n",
    "    s_dice1 = s_col['dice1']\n",
    "    s_cent = s_col['centroid']\n",
    "\n",
    "#crop raw img 100x100 l,t,r,b\n",
    "h_bbox = [h_cent[0]-50,h_cent[1]-50,h_cent[0]+ 50,h_cent[1]+50]\n",
    "l_bbox = [l_cent[0]-50,l_cent[1]-50,l_cent[0]+ 50,l_cent[1]+50]\n",
    "s_bbox = [s_cent[0]-50,s_cent[1]-50,s_cent[0]+ 50,s_cent[1]+50]\n",
    "\n",
    "\n",
    "p = Polygon(np.array(h_man_ct).astype(np.int32), fill=False,color=[0, 1, 0])\n",
    "p2 = Polygon(np.array(h_pred_ct).astype(np.int32), fill=False,color=[1, 0, 0])\n",
    "fig,ax = plt.subplots()\n",
    "ax.add_patch(p)\n",
    "ax.add_patch(p2)\n",
    "x0 = h_bbox[0]\n",
    "y0 = h_bbox[1]\n",
    "x1 = h_bbox[2]\n",
    "y1 = h_bbox[3]\n",
    "ax.set_xlim([x0,x1])\n",
    "ax.set_ylim([y0,y1]) #but the image size is not 100x100\n",
    "plt.gca().set_aspect('equal', adjustable='box')\n",
    "plt.axis('off')\n",
    "ct_filename = os.path.join(folder_dir,os.path.basename(raw_path[path_idx]).split(('.'))[0]+'contour_high.svg')\n",
    "plt.savefig(ct_filename,bbox_inches='tight',pad_inches=0)\n",
    "\n",
    "h_crop = raw_img.crop(h_bbox)\n",
    "\n",
    "#low score\n",
    "l_crop =raw_img.crop(l_bbox)\n",
    "\n",
    "p = Polygon(np.array(l_man_ct).astype(np.int32), fill=False,color=[0, 1, 0])\n",
    "p2 = Polygon(np.array(l_pred_ct).astype(np.int32), fill=False,color=[1, 0, 0])\n",
    "fig,ax = plt.subplots()\n",
    "ax.add_patch(p)\n",
    "ax.add_patch(p2)\n",
    "x0 = l_bbox[0]\n",
    "y0 = l_bbox[1]\n",
    "x1 = l_bbox[2]\n",
    "y1 = l_bbox[3]\n",
    "ax.set_xlim([x0,x1])\n",
    "ax.set_ylim([y0,y1]) #but the image size is not 100x100\n",
    "plt.gca().set_aspect('equal', adjustable='box')\n",
    "plt.axis('off')\n",
    "ct_filename = os.path.join(folder_dir,os.path.basename(raw_path[path_idx]).split(('.'))[0]+'contour_low.svg')\n",
    "plt.savefig(ct_filename,bbox_inches='tight',pad_inches=0)\n",
    "\n",
    "#strange\n",
    "\n",
    "p = Polygon(np.array(s_man_ct).astype(np.int32), fill=False,color=[0, 1, 0])\n",
    "p2 = Polygon(np.array(s_pred_ct).astype(np.int32), fill=False,color=[1, 0, 0])\n",
    "fig,ax = plt.subplots()\n",
    "ax.add_patch(p)\n",
    "ax.add_patch(p2)\n",
    "x0 = s_bbox[0]\n",
    "y0 = s_bbox[1]\n",
    "x1 = s_bbox[2]\n",
    "y1 = s_bbox[3]\n",
    "ax.set_xlim([x0,x1])\n",
    "ax.set_ylim([y0,y1]) #but the image size is not 100x100\n",
    "plt.gca().set_aspect('equal', adjustable='box')\n",
    "plt.axis('off')\n",
    "ct_filename = os.path.join(folder_dir,os.path.basename(raw_path[path_idx]).split(('.'))[0]+'contour_strange.svg')\n",
    "plt.savefig(ct_filename,bbox_inches='tight',pad_inches=0)\n",
    "\n",
    "s_crop = raw_img.crop(s_bbox)\n",
    "\n",
    "h_crop.save(os.path.join(folder_dir,os.path.basename(raw_path[path_idx]).split(('.'))[0]+'_high.png'))\n",
    "l_crop.save(os.path.join(folder_dir,os.path.basename(raw_path[path_idx]).split(('.'))[0]+'_low.png'))\n",
    "s_crop.save(os.path.join(folder_dir,os.path.basename(raw_path[path_idx]).split(('.'))[0]+'_strange.png'))\n",
    "\n",
    "#ToDo: this column is not outputed in order, something is wrong, need to fix!\n",
    "scores.loc[img_names[path_idx]] = [l_dice1,s_dice1,h_dice1,l_ja_score,h_ja_score,s_ja_score]\n",
    "scores.to_excel(os.path.join(folder_dir,'scores_idx2.xlsx'))"
   ],
   "metadata": {
    "collapsed": false,
    "pycharm": {
     "name": "#%%\n"
    }
   }
  },
  {
   "cell_type": "code",
   "execution_count": 291,
   "outputs": [
    {
     "ename": "UnidentifiedImageError",
     "evalue": "cannot identify image file '\\\\\\\\fatherserverdw\\\\Q\\\\research\\\\images\\\\skin_aging\\\\hovernet_tile\\\\hovernet_manual_validation\\\\raw_image\\\\imID008_sec1_tile12.tif'",
     "output_type": "error",
     "traceback": [
      "\u001B[1;31m---------------------------------------------------------------------------\u001B[0m",
      "\u001B[1;31mUnidentifiedImageError\u001B[0m                    Traceback (most recent call last)",
      "Input \u001B[1;32mIn [291]\u001B[0m, in \u001B[0;36m<cell line: 1>\u001B[1;34m()\u001B[0m\n\u001B[0;32m      1\u001B[0m \u001B[38;5;28;01mfor\u001B[39;00m path_idx \u001B[38;5;129;01min\u001B[39;00m \u001B[38;5;28mrange\u001B[39m (\u001B[38;5;241m0\u001B[39m,\u001B[38;5;241m6\u001B[39m):\n\u001B[0;32m      2\u001B[0m     df \u001B[38;5;241m=\u001B[39m pd\u001B[38;5;241m.\u001B[39mread_pickle(df_paths[path_idx])\n\u001B[1;32m----> 3\u001B[0m     raw_img \u001B[38;5;241m=\u001B[39m \u001B[43mImage\u001B[49m\u001B[38;5;241;43m.\u001B[39;49m\u001B[43mopen\u001B[49m\u001B[43m(\u001B[49m\u001B[43mraw_path\u001B[49m\u001B[43m[\u001B[49m\u001B[43mpath_idx\u001B[49m\u001B[43m]\u001B[49m\u001B[43m)\u001B[49m\n\u001B[0;32m      5\u001B[0m     df2 \u001B[38;5;241m=\u001B[39m df\u001B[38;5;241m.\u001B[39msort_values(\u001B[38;5;124m'\u001B[39m\u001B[38;5;124mjaccard_score\u001B[39m\u001B[38;5;124m'\u001B[39m,ascending\u001B[38;5;241m=\u001B[39m\u001B[38;5;28;01mFalse\u001B[39;00m,ignore_index\u001B[38;5;241m=\u001B[39m\u001B[38;5;28;01mTrue\u001B[39;00m)\n\u001B[0;32m      6\u001B[0m     strange \u001B[38;5;241m=\u001B[39m []\n",
      "File \u001B[1;32mC:\\ProgramData\\Anaconda3\\envs\\wsi_analysis\\lib\\site-packages\\PIL\\Image.py:3123\u001B[0m, in \u001B[0;36mopen\u001B[1;34m(fp, mode, formats)\u001B[0m\n\u001B[0;32m   3121\u001B[0m \u001B[38;5;28;01mfor\u001B[39;00m message \u001B[38;5;129;01min\u001B[39;00m accept_warnings:\n\u001B[0;32m   3122\u001B[0m     warnings\u001B[38;5;241m.\u001B[39mwarn(message)\n\u001B[1;32m-> 3123\u001B[0m \u001B[38;5;28;01mraise\u001B[39;00m UnidentifiedImageError(\n\u001B[0;32m   3124\u001B[0m     \u001B[38;5;124m\"\u001B[39m\u001B[38;5;124mcannot identify image file \u001B[39m\u001B[38;5;132;01m%r\u001B[39;00m\u001B[38;5;124m\"\u001B[39m \u001B[38;5;241m%\u001B[39m (filename \u001B[38;5;28;01mif\u001B[39;00m filename \u001B[38;5;28;01melse\u001B[39;00m fp)\n\u001B[0;32m   3125\u001B[0m )\n",
      "\u001B[1;31mUnidentifiedImageError\u001B[0m: cannot identify image file '\\\\\\\\fatherserverdw\\\\Q\\\\research\\\\images\\\\skin_aging\\\\hovernet_tile\\\\hovernet_manual_validation\\\\raw_image\\\\imID008_sec1_tile12.tif'"
     ]
    },
    {
     "data": {
      "text/plain": "<Figure size 432x288 with 1 Axes>",
      "image/png": "[encoded data removed]"
     },
     "metadata": {
      "needs_background": "light"
     },
     "output_type": "display_data"
    },
    {
     "data": {
      "text/plain": "<Figure size 432x288 with 1 Axes>",
      "image/png": "[encoded data removed]"
     },
     "metadata": {
      "needs_background": "light"
     },
     "output_type": "display_data"
    },
    {
     "data": {
      "text/plain": "<Figure size 432x288 with 1 Axes>",
      "image/png": "[encoded data removed]"
     },
     "metadata": {
      "needs_background": "light"
     },
     "output_type": "display_data"
    }
   ],
   "source": [
    "folder_dir = r'C:\\Users\\kyuha\\Desktop\\nuclei_crop_temp'\n",
    "for path_idx in range (0,6):\n",
    "    df = pd.read_pickle(df_paths[path_idx])\n",
    "    raw_img = Image.open(raw_path[path_idx])\n",
    "\n",
    "    df2 = df.sort_values('jaccard_score',ascending=False,ignore_index=True)\n",
    "    strange = []\n",
    "    for idx,row in df2.iterrows():\n",
    "        if abs(row['jaccard_score'] - row['dice1']) > 0.17:\n",
    "\n",
    "            strange.append(row)\n",
    "    #pick one high and one low\n",
    "    col = df2.iloc[0]\n",
    "    h_man_ct = col['contour']\n",
    "    h_pred_ct = col['pred_contour']\n",
    "    h_ja_score = col['jaccard_score']\n",
    "    h_dice1 = col['dice1']\n",
    "    h_cent = col['centroid']\n",
    "\n",
    "    l_col = df2.iloc[len(df2.index)-1]\n",
    "    l_man_ct = l_col['contour']\n",
    "    l_pred_ct = l_col['pred_contour']\n",
    "    l_ja_score = l_col['jaccard_score']\n",
    "    l_dice1 = l_col['dice1']\n",
    "    l_cent = l_col['centroid']\n",
    "\n",
    "    if(len(strange)!= 0 ):\n",
    "        s_col = strange[0]\n",
    "        s_man_ct = s_col['contour']\n",
    "        s_pred_ct = s_col['pred_contour']\n",
    "        s_ja_score = s_col['jaccard_score']\n",
    "        s_dice1 = s_col['dice1']\n",
    "        s_cent = s_col['centroid']\n",
    "\n",
    "    #crop raw img 100x100 l,t,r,b\n",
    "    h_bbox = [h_cent[0]-50,h_cent[1]-50,h_cent[0]+ 50,h_cent[1]+50]\n",
    "    l_bbox = [l_cent[0]-50,l_cent[1]-50,l_cent[0]+ 50,l_cent[1]+50]\n",
    "    s_bbox = [s_cent[0]-50,s_cent[1]-50,s_cent[0]+ 50,s_cent[1]+50]\n",
    "\n",
    "\n",
    "    p = Polygon(np.array(h_man_ct).astype(np.int32), fill=False,color=[0, 1, 0])\n",
    "    p2 = Polygon(np.array(h_pred_ct).astype(np.int32), fill=False,color=[1, 0, 0])\n",
    "    fig,ax = plt.subplots()\n",
    "    ax.add_patch(p)\n",
    "    ax.add_patch(p2)\n",
    "    x0 = h_bbox[0]\n",
    "    y0 = h_bbox[1]\n",
    "    x1 = h_bbox[2]\n",
    "    y1 = h_bbox[3]\n",
    "    ax.set_xlim([x0,x1])\n",
    "    ax.set_ylim([y0,y1]) #but the image size is not 100x100\n",
    "    plt.gca().set_aspect('equal', adjustable='box')\n",
    "    plt.axis('off')\n",
    "    ct_filename = os.path.join(folder_dir,os.path.basename(raw_path[path_idx]).split(('.'))[0]+'contour_high.svg')\n",
    "    plt.savefig(ct_filename,bbox_inches='tight',pad_inches=0)\n",
    "\n",
    "    h_crop = raw_img.crop(h_bbox)\n",
    "\n",
    "    #low score\n",
    "    l_crop =raw_img.crop(l_bbox)\n",
    "\n",
    "    p = Polygon(np.array(l_man_ct).astype(np.int32), fill=False,color=[0, 1, 0])\n",
    "    p2 = Polygon(np.array(l_pred_ct).astype(np.int32), fill=False,color=[1, 0, 0])\n",
    "    fig,ax = plt.subplots()\n",
    "    ax.add_patch(p)\n",
    "    ax.add_patch(p2)\n",
    "    x0 = l_bbox[0]\n",
    "    y0 = l_bbox[1]\n",
    "    x1 = l_bbox[2]\n",
    "    y1 = l_bbox[3]\n",
    "    ax.set_xlim([x0,x1])\n",
    "    ax.set_ylim([y0,y1]) #but the image size is not 100x100\n",
    "    plt.gca().set_aspect('equal', adjustable='box')\n",
    "    plt.axis('off')\n",
    "    ct_filename = os.path.join(folder_dir,os.path.basename(raw_path[path_idx]).split(('.'))[0]+'contour_low.svg')\n",
    "    plt.savefig(ct_filename,bbox_inches='tight',pad_inches=0)\n",
    "\n",
    "    #strange\n",
    "\n",
    "    p = Polygon(np.array(s_man_ct).astype(np.int32), fill=False,color=[0, 1, 0])\n",
    "    p2 = Polygon(np.array(s_pred_ct).astype(np.int32), fill=False,color=[1, 0, 0])\n",
    "    fig,ax = plt.subplots()\n",
    "    ax.add_patch(p)\n",
    "    ax.add_patch(p2)\n",
    "    x0 = s_bbox[0]\n",
    "    y0 = s_bbox[1]\n",
    "    x1 = s_bbox[2]\n",
    "    y1 = s_bbox[3]\n",
    "    ax.set_xlim([x0,x1])\n",
    "    ax.set_ylim([y0,y1]) #but the image size is not 100x100\n",
    "    plt.gca().set_aspect('equal', adjustable='box')\n",
    "    plt.axis('off')\n",
    "    ct_filename = os.path.join(folder_dir,os.path.basename(raw_path[path_idx]).split(('.'))[0]+'contour_strange.svg')\n",
    "    plt.savefig(ct_filename,bbox_inches='tight',pad_inches=0)\n",
    "\n",
    "    s_crop = raw_img.crop(s_bbox)\n",
    "\n",
    "    h_crop.save(os.path.join(folder_dir,os.path.basename(raw_path[path_idx]).split(('.'))[0]+'_high.png'))\n",
    "    l_crop.save(os.path.join(folder_dir,os.path.basename(raw_path[path_idx]).split(('.'))[0]+'_low.png'))\n",
    "    s_crop.save(os.path.join(folder_dir,os.path.basename(raw_path[path_idx]).split(('.'))[0]+'_strange.png'))\n",
    "\n",
    "#ToDo: this column is not outputed in order, something is wrong, need to fix!\n",
    "    scores.loc[img_names[path_idx]] = [l_dice1,s_dice1,h_dice1,l_ja_score,h_ja_score,s_ja_score]"
   ],
   "metadata": {
    "collapsed": false,
    "pycharm": {
     "name": "#%%\n"
    }
   }
  },
  {
   "cell_type": "code",
   "execution_count": 313,
   "outputs": [],
   "source": [
    "scores.to_excel(os.path.join(folder_dir,'scores.xlsx'))"
   ],
   "metadata": {
    "collapsed": false,
    "pycharm": {
     "name": "#%%\n"
    }
   }
  },
  {
   "cell_type": "code",
   "execution_count": null,
   "outputs": [],
   "source": [],
   "metadata": {
    "collapsed": false,
    "pycharm": {
     "name": "#%%\n"
    }
   }
  }
 ],
 "metadata": {
  "kernelspec": {
   "display_name": "Python 3",
   "language": "python",
   "name": "python3"
  },
  "language_info": {
   "codemirror_mode": {
    "name": "ipython",
    "version": 2
   },
   "file_extension": ".py",
   "mimetype": "text/x-python",
   "name": "python",
   "nbconvert_exporter": "python",
   "pygments_lexer": "ipython2",
   "version": "2.7.6"
  }
 },
 "nbformat": 4,
 "nbformat_minor": 0
}