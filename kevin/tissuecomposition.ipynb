{
 "cells": [
  {
   "cell_type": "code",
   "execution_count": 1,
   "metadata": {
    "collapsed": true
   },
   "outputs": [],
   "source": [
    "from PIL import Image\n",
    "Image.MAX_IMAGE_PIXELS = None\n",
    "from glob import glob\n",
    "import numpy as np\n",
    "import pandas as pd\n",
    "import cv2\n",
    "import os\n",
    "from matplotlib import pyplot as plt"
   ]
  },
  {
   "cell_type": "code",
   "execution_count": 2,
   "outputs": [],
   "source": [
    "mask_files_path =  [_ for _ in os.listdir(r'\\\\fatherserverdw\\Kevin\\imageregistration2\\padded_masks') if _.endswith(\".png\")]\n",
    "mask_files_path_complete = [os.path.join(r'\\\\fatherserverdw\\Kevin\\imageregistration2\\padded_masks', x) for x in mask_files_path]\n",
    "mask_files_path_1 = [x.replace('.png','') for x in mask_files_path]"
   ],
   "metadata": {
    "collapsed": false
   }
  },
  {
   "cell_type": "code",
   "execution_count": 3,
   "outputs": [
    {
     "data": {
      "text/plain": "['\\\\\\\\fatherserverdw\\\\Kevin\\\\imageregistration2\\\\padded_masks\\\\z0001_1C1.png',\n '\\\\\\\\fatherserverdw\\\\Kevin\\\\imageregistration2\\\\padded_masks\\\\z0004_4C1.png',\n '\\\\\\\\fatherserverdw\\\\Kevin\\\\imageregistration2\\\\padded_masks\\\\z0007_7C1.png',\n '\\\\\\\\fatherserverdw\\\\Kevin\\\\imageregistration2\\\\padded_masks\\\\z0010_10C1.png',\n '\\\\\\\\fatherserverdw\\\\Kevin\\\\imageregistration2\\\\padded_masks\\\\z0013_13C1.png',\n '\\\\\\\\fatherserverdw\\\\Kevin\\\\imageregistration2\\\\padded_masks\\\\z0016_16C1.png',\n '\\\\\\\\fatherserverdw\\\\Kevin\\\\imageregistration2\\\\padded_masks\\\\z0019_19C1.png',\n '\\\\\\\\fatherserverdw\\\\Kevin\\\\imageregistration2\\\\padded_masks\\\\z0022_22C1.png',\n '\\\\\\\\fatherserverdw\\\\Kevin\\\\imageregistration2\\\\padded_masks\\\\z0025_25C1.png',\n '\\\\\\\\fatherserverdw\\\\Kevin\\\\imageregistration2\\\\padded_masks\\\\z0028_28C1.png',\n '\\\\\\\\fatherserverdw\\\\Kevin\\\\imageregistration2\\\\padded_masks\\\\z0031_31C1.png',\n '\\\\\\\\fatherserverdw\\\\Kevin\\\\imageregistration2\\\\padded_masks\\\\z0034_34C1.png',\n '\\\\\\\\fatherserverdw\\\\Kevin\\\\imageregistration2\\\\padded_masks\\\\z0037_37C1.png',\n '\\\\\\\\fatherserverdw\\\\Kevin\\\\imageregistration2\\\\padded_masks\\\\z0040_40C1.png',\n '\\\\\\\\fatherserverdw\\\\Kevin\\\\imageregistration2\\\\padded_masks\\\\z0043_43C1.png',\n '\\\\\\\\fatherserverdw\\\\Kevin\\\\imageregistration2\\\\padded_masks\\\\z0046_46C1.png',\n '\\\\\\\\fatherserverdw\\\\Kevin\\\\imageregistration2\\\\padded_masks\\\\z0049_49C1.png',\n '\\\\\\\\fatherserverdw\\\\Kevin\\\\imageregistration2\\\\padded_masks\\\\z0052_52C1.png',\n '\\\\\\\\fatherserverdw\\\\Kevin\\\\imageregistration2\\\\padded_masks\\\\z0055_55C1.png',\n '\\\\\\\\fatherserverdw\\\\Kevin\\\\imageregistration2\\\\padded_masks\\\\z0058_58C1.png',\n '\\\\\\\\fatherserverdw\\\\Kevin\\\\imageregistration2\\\\padded_masks\\\\z0061_61C1.png',\n '\\\\\\\\fatherserverdw\\\\Kevin\\\\imageregistration2\\\\padded_masks\\\\z0064_64C1.png',\n '\\\\\\\\fatherserverdw\\\\Kevin\\\\imageregistration2\\\\padded_masks\\\\z0067_67C1.png',\n '\\\\\\\\fatherserverdw\\\\Kevin\\\\imageregistration2\\\\padded_masks\\\\z0070_70C1.png',\n '\\\\\\\\fatherserverdw\\\\Kevin\\\\imageregistration2\\\\padded_masks\\\\z0073_73C1.png',\n '\\\\\\\\fatherserverdw\\\\Kevin\\\\imageregistration2\\\\padded_masks\\\\z0076_76C1.png',\n '\\\\\\\\fatherserverdw\\\\Kevin\\\\imageregistration2\\\\padded_masks\\\\z0079_79C1.png',\n '\\\\\\\\fatherserverdw\\\\Kevin\\\\imageregistration2\\\\padded_masks\\\\z0082_82C1.png',\n '\\\\\\\\fatherserverdw\\\\Kevin\\\\imageregistration2\\\\padded_masks\\\\z0085_85C1.png',\n '\\\\\\\\fatherserverdw\\\\Kevin\\\\imageregistration2\\\\padded_masks\\\\z0088_88C1.png',\n '\\\\\\\\fatherserverdw\\\\Kevin\\\\imageregistration2\\\\padded_masks\\\\z0091_91C1.png',\n '\\\\\\\\fatherserverdw\\\\Kevin\\\\imageregistration2\\\\padded_masks\\\\z0094_94C1.png',\n '\\\\\\\\fatherserverdw\\\\Kevin\\\\imageregistration2\\\\padded_masks\\\\z0097_97C1.png',\n '\\\\\\\\fatherserverdw\\\\Kevin\\\\imageregistration2\\\\padded_masks\\\\z0100_100C1.png']"
     },
     "execution_count": 3,
     "metadata": {},
     "output_type": "execute_result"
    }
   ],
   "source": [
    "mask_files_path_complete\n"
   ],
   "metadata": {
    "collapsed": false
   }
  },
  {
   "cell_type": "code",
   "execution_count": 8,
   "outputs": [],
   "source": [
    "mask_img = Image.open(mask_files_path_complete[0])\n",
    "mask_ra = np.array(mask_img).flatten()\n",
    "count_list = list(np.bincount(mask_ra))\n",
    "del(count_list[0])\n",
    "total = sum(count_list)\n",
    "ratio_list = [x/total for x in count_list]\n",
    "ratio_list = [round(x*100,3) for x in ratio_list]\n",
    "class_list = list(['corneum','spinosum','hairshaft','hairfollicle','smoothmuscle','oil','sweat','nerve','bloodvessel','ecm','fat','white'])\n",
    "ratio_class_dict = dict(zip(class_list,ratio_list))\n",
    "ratio_df = pd.DataFrame.from_dict(ratio_class_dict,orient='index')"
   ],
   "metadata": {
    "collapsed": false
   }
  },
  {
   "cell_type": "markdown",
   "source": [],
   "metadata": {
    "collapsed": false
   }
  },
  {
   "cell_type": "code",
   "execution_count": 12,
   "outputs": [
    {
     "data": {
      "text/plain": "              z0001_1C1.png  z0004_4C1.png  z0007_7C1.png  z0010_10C1.png  \\\ncorneum               0.521          0.647          0.686           0.677   \nspinosum              0.778          1.215          1.404           1.079   \nhairshaft             0.197          0.124          0.168           0.187   \nhairfollicle          0.172          0.090          0.121           0.133   \nsmoothmuscle          0.293          0.097          0.164           0.201   \noil                   0.627          0.247          0.323           0.237   \nsweat                 0.249          0.202          0.253           0.274   \nnerve                 0.136          0.156          0.169           0.150   \nbloodvessel           0.835          0.893          1.153           1.450   \necm                  17.887         22.276         23.676          24.092   \nfat                   2.032          4.898          5.125           4.947   \nwhite                76.274         69.157         66.759          66.573   \n\n              z0013_13C1.png  z0016_16C1.png  z0019_19C1.png  z0022_22C1.png  \\\ncorneum                0.671           0.803           0.694           0.615   \nspinosum               0.808           1.355           1.272           0.884   \nhairshaft              0.090           0.094           0.103           0.105   \nhairfollicle           0.082           0.089           0.112           0.091   \nsmoothmuscle           0.147           0.141           0.109           0.136   \noil                    0.262           0.123           0.268           0.249   \nsweat                  0.224           0.220           0.245           0.249   \nnerve                  0.141           0.178           0.188           0.116   \nbloodvessel            1.096           1.040           1.151           1.049   \necm                   23.313          25.088          23.897          23.569   \nfat                    4.856           4.710           4.592           4.845   \nwhite                 68.309          66.161          67.369          68.090   \n\n              z0025_25C1.png  z0028_28C1.png  ...  z0073_73C1.png  \\\ncorneum                0.651           0.576  ...           0.488   \nspinosum               0.863           0.723  ...           0.543   \nhairshaft              0.095           0.074  ...           0.064   \nhairfollicle           0.072           0.065  ...           0.070   \nsmoothmuscle           0.110           0.130  ...           0.215   \noil                    0.272           0.272  ...           0.150   \nsweat                  0.223           0.232  ...           0.238   \nnerve                  0.116           0.105  ...           0.105   \nbloodvessel            1.087           1.065  ...           1.195   \necm                   23.771          22.594  ...          21.602   \nfat                    4.987           4.677  ...           3.354   \nwhite                 67.752          69.487  ...          71.976   \n\n              z0076_76C1.png  z0079_79C1.png  z0082_82C1.png  z0085_85C1.png  \\\ncorneum                0.609           0.440           0.628           0.459   \nspinosum               0.588           0.547           0.915           0.538   \nhairshaft              0.039           0.068           0.121           0.067   \nhairfollicle           0.041           0.076           0.110           0.062   \nsmoothmuscle           0.141           0.128           0.182           0.164   \noil                    0.214           0.350           0.204           0.572   \nsweat                  0.171           0.217           0.214           0.210   \nnerve                  0.094           0.112           0.127           0.109   \nbloodvessel            0.856           1.043           1.133           0.945   \necm                   20.728          22.349          24.621          20.744   \nfat                    3.942           3.094           4.153           3.153   \nwhite                 72.577          71.577          67.592          72.977   \n\n              z0088_88C1.png  z0091_91C1.png  z0094_94C1.png  z0097_97C1.png  \\\ncorneum                0.434           0.435           0.427           0.482   \nspinosum               0.548           0.556           0.786           1.240   \nhairshaft              0.051           0.060           0.137           0.110   \nhairfollicle           0.073           0.075           0.113           0.121   \nsmoothmuscle           0.185           0.237           0.330           0.902   \noil                    0.672           0.733           0.641           0.630   \nsweat                  0.251           0.255           0.242           0.304   \nnerve                  0.108           0.096           0.097           0.145   \nbloodvessel            1.020           0.895           0.922           1.108   \necm                   20.270          20.587          17.841          17.157   \nfat                    2.321           2.535           1.516           1.590   \nwhite                 74.068          73.535          76.949          76.211   \n\n              z0100_100C1.png  \ncorneum                 0.468  \nspinosum                0.877  \nhairshaft               0.089  \nhairfollicle            0.123  \nsmoothmuscle            0.465  \noil                     0.592  \nsweat                   0.267  \nnerve                   0.127  \nbloodvessel             0.826  \necm                    17.115  \nfat                     1.713  \nwhite                  77.339  \n\n[12 rows x 34 columns]",
      "text/html": "<div>\n<style scoped>\n    .dataframe tbody tr th:only-of-type {\n        vertical-align: middle;\n    }\n\n    .dataframe tbody tr th {\n        vertical-align: top;\n    }\n\n    .dataframe thead th {\n        text-align: right;\n    }\n</style>\n<table border=\"1\" class=\"dataframe\">\n  <thead>\n    <tr style=\"text-align: right;\">\n      <th></th>\n      <th>z0001_1C1.png</th>\n      <th>z0004_4C1.png</th>\n      <th>z0007_7C1.png</th>\n      <th>z0010_10C1.png</th>\n      <th>z0013_13C1.png</th>\n      <th>z0016_16C1.png</th>\n      <th>z0019_19C1.png</th>\n      <th>z0022_22C1.png</th>\n      <th>z0025_25C1.png</th>\n      <th>z0028_28C1.png</th>\n      <th>...</th>\n      <th>z0073_73C1.png</th>\n      <th>z0076_76C1.png</th>\n      <th>z0079_79C1.png</th>\n      <th>z0082_82C1.png</th>\n      <th>z0085_85C1.png</th>\n      <th>z0088_88C1.png</th>\n      <th>z0091_91C1.png</th>\n      <th>z0094_94C1.png</th>\n      <th>z0097_97C1.png</th>\n      <th>z0100_100C1.png</th>\n    </tr>\n  </thead>\n  <tbody>\n    <tr>\n      <th>corneum</th>\n      <td>0.521</td>\n      <td>0.647</td>\n      <td>0.686</td>\n      <td>0.677</td>\n      <td>0.671</td>\n      <td>0.803</td>\n      <td>0.694</td>\n      <td>0.615</td>\n      <td>0.651</td>\n      <td>0.576</td>\n      <td>...</td>\n      <td>0.488</td>\n      <td>0.609</td>\n      <td>0.440</td>\n      <td>0.628</td>\n      <td>0.459</td>\n      <td>0.434</td>\n      <td>0.435</td>\n      <td>0.427</td>\n      <td>0.482</td>\n      <td>0.468</td>\n    </tr>\n    <tr>\n      <th>spinosum</th>\n      <td>0.778</td>\n      <td>1.215</td>\n      <td>1.404</td>\n      <td>1.079</td>\n      <td>0.808</td>\n      <td>1.355</td>\n      <td>1.272</td>\n      <td>0.884</td>\n      <td>0.863</td>\n      <td>0.723</td>\n      <td>...</td>\n      <td>0.543</td>\n      <td>0.588</td>\n      <td>0.547</td>\n      <td>0.915</td>\n      <td>0.538</td>\n      <td>0.548</td>\n      <td>0.556</td>\n      <td>0.786</td>\n      <td>1.240</td>\n      <td>0.877</td>\n    </tr>\n    <tr>\n      <th>hairshaft</th>\n      <td>0.197</td>\n      <td>0.124</td>\n      <td>0.168</td>\n      <td>0.187</td>\n      <td>0.090</td>\n      <td>0.094</td>\n      <td>0.103</td>\n      <td>0.105</td>\n      <td>0.095</td>\n      <td>0.074</td>\n      <td>...</td>\n      <td>0.064</td>\n      <td>0.039</td>\n      <td>0.068</td>\n      <td>0.121</td>\n      <td>0.067</td>\n      <td>0.051</td>\n      <td>0.060</td>\n      <td>0.137</td>\n      <td>0.110</td>\n      <td>0.089</td>\n    </tr>\n    <tr>\n      <th>hairfollicle</th>\n      <td>0.172</td>\n      <td>0.090</td>\n      <td>0.121</td>\n      <td>0.133</td>\n      <td>0.082</td>\n      <td>0.089</td>\n      <td>0.112</td>\n      <td>0.091</td>\n      <td>0.072</td>\n      <td>0.065</td>\n      <td>...</td>\n      <td>0.070</td>\n      <td>0.041</td>\n      <td>0.076</td>\n      <td>0.110</td>\n      <td>0.062</td>\n      <td>0.073</td>\n      <td>0.075</td>\n      <td>0.113</td>\n      <td>0.121</td>\n      <td>0.123</td>\n    </tr>\n    <tr>\n      <th>smoothmuscle</th>\n      <td>0.293</td>\n      <td>0.097</td>\n      <td>0.164</td>\n      <td>0.201</td>\n      <td>0.147</td>\n      <td>0.141</td>\n      <td>0.109</td>\n      <td>0.136</td>\n      <td>0.110</td>\n      <td>0.130</td>\n      <td>...</td>\n      <td>0.215</td>\n      <td>0.141</td>\n      <td>0.128</td>\n      <td>0.182</td>\n      <td>0.164</td>\n      <td>0.185</td>\n      <td>0.237</td>\n      <td>0.330</td>\n      <td>0.902</td>\n      <td>0.465</td>\n    </tr>\n    <tr>\n      <th>oil</th>\n      <td>0.627</td>\n      <td>0.247</td>\n      <td>0.323</td>\n      <td>0.237</td>\n      <td>0.262</td>\n      <td>0.123</td>\n      <td>0.268</td>\n      <td>0.249</td>\n      <td>0.272</td>\n      <td>0.272</td>\n      <td>...</td>\n      <td>0.150</td>\n      <td>0.214</td>\n      <td>0.350</td>\n      <td>0.204</td>\n      <td>0.572</td>\n      <td>0.672</td>\n      <td>0.733</td>\n      <td>0.641</td>\n      <td>0.630</td>\n      <td>0.592</td>\n    </tr>\n    <tr>\n      <th>sweat</th>\n      <td>0.249</td>\n      <td>0.202</td>\n      <td>0.253</td>\n      <td>0.274</td>\n      <td>0.224</td>\n      <td>0.220</td>\n      <td>0.245</td>\n      <td>0.249</td>\n      <td>0.223</td>\n      <td>0.232</td>\n      <td>...</td>\n      <td>0.238</td>\n      <td>0.171</td>\n      <td>0.217</td>\n      <td>0.214</td>\n      <td>0.210</td>\n      <td>0.251</td>\n      <td>0.255</td>\n      <td>0.242</td>\n      <td>0.304</td>\n      <td>0.267</td>\n    </tr>\n    <tr>\n      <th>nerve</th>\n      <td>0.136</td>\n      <td>0.156</td>\n      <td>0.169</td>\n      <td>0.150</td>\n      <td>0.141</td>\n      <td>0.178</td>\n      <td>0.188</td>\n      <td>0.116</td>\n      <td>0.116</td>\n      <td>0.105</td>\n      <td>...</td>\n      <td>0.105</td>\n      <td>0.094</td>\n      <td>0.112</td>\n      <td>0.127</td>\n      <td>0.109</td>\n      <td>0.108</td>\n      <td>0.096</td>\n      <td>0.097</td>\n      <td>0.145</td>\n      <td>0.127</td>\n    </tr>\n    <tr>\n      <th>bloodvessel</th>\n      <td>0.835</td>\n      <td>0.893</td>\n      <td>1.153</td>\n      <td>1.450</td>\n      <td>1.096</td>\n      <td>1.040</td>\n      <td>1.151</td>\n      <td>1.049</td>\n      <td>1.087</td>\n      <td>1.065</td>\n      <td>...</td>\n      <td>1.195</td>\n      <td>0.856</td>\n      <td>1.043</td>\n      <td>1.133</td>\n      <td>0.945</td>\n      <td>1.020</td>\n      <td>0.895</td>\n      <td>0.922</td>\n      <td>1.108</td>\n      <td>0.826</td>\n    </tr>\n    <tr>\n      <th>ecm</th>\n      <td>17.887</td>\n      <td>22.276</td>\n      <td>23.676</td>\n      <td>24.092</td>\n      <td>23.313</td>\n      <td>25.088</td>\n      <td>23.897</td>\n      <td>23.569</td>\n      <td>23.771</td>\n      <td>22.594</td>\n      <td>...</td>\n      <td>21.602</td>\n      <td>20.728</td>\n      <td>22.349</td>\n      <td>24.621</td>\n      <td>20.744</td>\n      <td>20.270</td>\n      <td>20.587</td>\n      <td>17.841</td>\n      <td>17.157</td>\n      <td>17.115</td>\n    </tr>\n    <tr>\n      <th>fat</th>\n      <td>2.032</td>\n      <td>4.898</td>\n      <td>5.125</td>\n      <td>4.947</td>\n      <td>4.856</td>\n      <td>4.710</td>\n      <td>4.592</td>\n      <td>4.845</td>\n      <td>4.987</td>\n      <td>4.677</td>\n      <td>...</td>\n      <td>3.354</td>\n      <td>3.942</td>\n      <td>3.094</td>\n      <td>4.153</td>\n      <td>3.153</td>\n      <td>2.321</td>\n      <td>2.535</td>\n      <td>1.516</td>\n      <td>1.590</td>\n      <td>1.713</td>\n    </tr>\n    <tr>\n      <th>white</th>\n      <td>76.274</td>\n      <td>69.157</td>\n      <td>66.759</td>\n      <td>66.573</td>\n      <td>68.309</td>\n      <td>66.161</td>\n      <td>67.369</td>\n      <td>68.090</td>\n      <td>67.752</td>\n      <td>69.487</td>\n      <td>...</td>\n      <td>71.976</td>\n      <td>72.577</td>\n      <td>71.577</td>\n      <td>67.592</td>\n      <td>72.977</td>\n      <td>74.068</td>\n      <td>73.535</td>\n      <td>76.949</td>\n      <td>76.211</td>\n      <td>77.339</td>\n    </tr>\n  </tbody>\n</table>\n<p>12 rows × 34 columns</p>\n</div>"
     },
     "execution_count": 12,
     "metadata": {},
     "output_type": "execute_result"
    }
   ],
   "source": [
    "class_list = list(['corneum','spinosum','hairshaft','hairfollicle','smoothmuscle','oil','sweat','nerve','bloodvessel','ecm','fat','white'])\n",
    "for idx in range(1,len(mask_files_path_complete)):\n",
    "    mask_img = Image.open(mask_files_path_complete[idx])\n",
    "    mask_ra = np.array(mask_img).flatten()\n",
    "    count_list = list(np.bincount(mask_ra))\n",
    "    del(count_list[0])\n",
    "    total = sum(count_list)\n",
    "    ratio_list = [x/total for x in count_list]\n",
    "    ratio_list = [round(x*100,3) for x in ratio_list]\n",
    "    ratio_class_dict = dict(zip(class_list,ratio_list))\n",
    "    tmp_df = pd.DataFrame.from_dict(ratio_class_dict,orient='index')\n",
    "    ratio_df = pd.concat([ratio_df,pd.DataFrame.from_dict(tmp_df)],axis=1)\n",
    "\n",
    "ratio_df.columns = mask_files_path\n",
    "ratio_df"
   ],
   "metadata": {
    "collapsed": false
   }
  }
 ],
 "metadata": {
  "kernelspec": {
   "display_name": "Python 3",
   "language": "python",
   "name": "python3"
  },
  "language_info": {
   "codemirror_mode": {
    "name": "ipython",
    "version": 2
   },
   "file_extension": ".py",
   "mimetype": "text/x-python",
   "name": "python",
   "nbconvert_exporter": "python",
   "pygments_lexer": "ipython2",
   "version": "2.7.6"
  }
 },
 "nbformat": 4,
 "nbformat_minor": 0
}
