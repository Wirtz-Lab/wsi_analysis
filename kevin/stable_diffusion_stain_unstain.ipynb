{
 "cells": [
  {
   "cell_type": "code",
   "execution_count": 9,
   "outputs": [],
   "source": [
    "import torch\n",
    "import numpy as np\n",
    "from diffusers import StableDiffusionImageVariationPipeline\n",
    "from PIL import Image\n",
    "import pandas as pd\n",
    "from torchvision import transforms\n",
    "import cv2"
   ],
   "metadata": {
    "collapsed": false
   }
  },
  {
   "cell_type": "code",
   "execution_count": 7,
   "outputs": [
    {
     "data": {
      "text/plain": "True"
     },
     "execution_count": 7,
     "metadata": {},
     "output_type": "execute_result"
    }
   ],
   "source": [
    "torch.cuda.is_available()"
   ],
   "metadata": {
    "collapsed": false
   }
  },
  {
   "cell_type": "code",
   "execution_count": 13,
   "outputs": [
    {
     "data": {
      "text/plain": "(7968, 7568, 3)"
     },
     "execution_count": 13,
     "metadata": {},
     "output_type": "execute_result"
    }
   ],
   "source": [
    "im = Image.open(r'\\\\shelter\\Kyu\\unstain2stain\\biomax_images\\unstained\\padded_images\\sk244a\\sk244a0.png')\n",
    "im = cv2.cvtColor(np.array(im),cv2.COLOR_RGBA2RGB)\n",
    "im_ra = np.array(im)\n",
    "im.shape"
   ],
   "metadata": {
    "collapsed": false
   }
  },
  {
   "cell_type": "code",
   "execution_count": 16,
   "metadata": {
    "collapsed": true
   },
   "outputs": [
    {
     "data": {
      "text/plain": "Fetching 11 files:   0%|          | 0/11 [00:00<?, ?it/s]",
      "application/vnd.jupyter.widget-view+json": {
       "version_major": 2,
       "version_minor": 0,
       "model_id": "d04107484d044c48a32c71b2c8ca8718"
      }
     },
     "metadata": {},
     "output_type": "display_data"
    },
    {
     "data": {
      "text/plain": "  0%|          | 0/50 [00:00<?, ?it/s]",
      "application/vnd.jupyter.widget-view+json": {
       "version_major": 2,
       "version_minor": 0,
       "model_id": "4620ce644f9b47b2aea5ed20fab688f9"
      }
     },
     "metadata": {},
     "output_type": "display_data"
    }
   ],
   "source": [
    "# device = \"cuda:0\"\n",
    "# sd_pipe = StableDiffusionImageVariationPipeline.from_pretrained(\n",
    "#   \"lambdalabs/sd-image-variations-diffusers\",\n",
    "#   revision=\"v2.0\",\n",
    "#   )\n",
    "# sd_pipe = sd_pipe.to(device)\n",
    "#\n",
    "# im = Image.open(r'\\\\shelter\\Kyu\\unstain2stain\\biomax_images\\stained\\padded_images\\sk244a\\sk244ahe0.png')\n",
    "# im = cv2.cvtColor(np.array(im),cv2.COLOR_RGBA2RGB)\n",
    "# tform = transforms.Compose([\n",
    "#     transforms.ToTensor(),\n",
    "#     transforms.Resize(\n",
    "#         (224, 224),\n",
    "#         interpolation=transforms.InterpolationMode.BICUBIC,\n",
    "#         antialias=False,\n",
    "#         ),\n",
    "#     transforms.Normalize(\n",
    "#       [0.48145466, 0.4578275, 0.40821073],\n",
    "#       [0.26862954, 0.26130258, 0.27577711]),\n",
    "# ])\n",
    "# inp = tform(im).to(device).unsqueeze(0)\n",
    "#\n",
    "# out = sd_pipe(inp, guidance_scale=3)\n",
    "# out[\"images\"][0].save(r'\\\\shelter\\Kyu\\unstain2stain\\biomax_images\\unstained\\example.png')"
   ]
  },
  {
   "cell_type": "code",
   "execution_count": 2,
   "outputs": [
    {
     "ename": "ModuleNotFoundError",
     "evalue": "No module named 'models'",
     "output_type": "error",
     "traceback": [
      "\u001B[1;31m---------------------------------------------------------------------------\u001B[0m",
      "\u001B[1;31mModuleNotFoundError\u001B[0m                       Traceback (most recent call last)",
      "Cell \u001B[1;32mIn[2], line 11\u001B[0m\n\u001B[0;32m      8\u001B[0m \u001B[38;5;28;01mfrom\u001B[39;00m \u001B[38;5;21;01mtransformers\u001B[39;00m \u001B[38;5;28;01mimport\u001B[39;00m CLIPFeatureExtractor, CLIPVisionModelWithProjection\n\u001B[0;32m     10\u001B[0m \u001B[38;5;66;03m# from configuration_utils import FrozenDict\u001B[39;00m\n\u001B[1;32m---> 11\u001B[0m \u001B[38;5;28;01mfrom\u001B[39;00m \u001B[38;5;21;01mmodels\u001B[39;00m \u001B[38;5;28;01mimport\u001B[39;00m AutoencoderKL, UNet2DConditionModel\n\u001B[0;32m     12\u001B[0m \u001B[38;5;28;01mfrom\u001B[39;00m \u001B[38;5;21;01mschedulers\u001B[39;00m \u001B[38;5;28;01mimport\u001B[39;00m KarrasDiffusionSchedulers\n\u001B[0;32m     13\u001B[0m \u001B[38;5;28;01mfrom\u001B[39;00m \u001B[38;5;21;01mutils\u001B[39;00m \u001B[38;5;28;01mimport\u001B[39;00m deprecate, is_accelerate_available, logging, randn_tensor\n",
      "\u001B[1;31mModuleNotFoundError\u001B[0m: No module named 'models'"
     ]
    }
   ],
   "source": [
    "import inspect\n",
    "from typing import Callable, List, Optional, Union\n",
    "\n",
    "import torch\n",
    "\n",
    "import PIL\n",
    "from packaging import version\n",
    "from transformers import CLIPFeatureExtractor, CLIPVisionModelWithProjection\n",
    "\n",
    "from configuration_utils import FrozenDict\n",
    "from models import AutoencoderKL, UNet2DConditionModel\n",
    "from schedulers import KarrasDiffusionSchedulers\n",
    "from utils import deprecate, is_accelerate_available, logging, randn_tensor\n",
    "from pipeline_utils import DiffusionPipeline\n",
    "from . import StableDiffusionPipelineOutput\n",
    "from .safety_checker import StableDiffusionSafetyChecker"
   ],
   "metadata": {
    "collapsed": false
   }
  },
  {
   "cell_type": "markdown",
   "source": [],
   "metadata": {
    "collapsed": false
   }
  },
  {
   "cell_type": "markdown",
   "source": [],
   "metadata": {
    "collapsed": false
   }
  }
 ],
 "metadata": {
  "kernelspec": {
   "display_name": "Python 3",
   "language": "python",
   "name": "python3"
  },
  "language_info": {
   "codemirror_mode": {
    "name": "ipython",
    "version": 2
   },
   "file_extension": ".py",
   "mimetype": "text/x-python",
   "name": "python",
   "nbconvert_exporter": "python",
   "pygments_lexer": "ipython2",
   "version": "2.7.6"
  }
 },
 "nbformat": 4,
 "nbformat_minor": 0
}
