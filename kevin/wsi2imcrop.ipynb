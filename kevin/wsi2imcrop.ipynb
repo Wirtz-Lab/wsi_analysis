{
 "cells": [
  {
   "cell_type": "code",
   "execution_count": 6,
   "metadata": {
    "collapsed": true
   },
   "outputs": [],
   "source": [
    "from PIL import Image\n",
    "Image.MAX_IMAGE_PIXELS = None\n",
    "from glob import glob\n",
    "import os\n",
    "import cv2\n",
    "from openslide import OpenSlide\n",
    "from skimage.measure import label\n",
    "import numpy as np\n",
    "from matplotlib import pyplot as plt"
   ]
  },
  {
   "cell_type": "code",
   "execution_count": 2,
   "outputs": [],
   "source": [
    "img_files_path = [_ for _ in os.listdir(r'\\\\fatherserverdw\\kyuex\\image\\CLUE\\3D study\\he\\4xr_jpg') if _.endswith(\".jpg\")]\n",
    "img_files_path_png = [x.replace('.jpg','.png') for x in img_files_path]"
   ],
   "metadata": {
    "collapsed": false
   }
  },
  {
   "cell_type": "code",
   "execution_count": 3,
   "outputs": [],
   "source": [
    "ndpi = r'\\\\fatherserverdw\\kyuex\\image\\CLUE\\3D study\\he\\c1'\n",
    "ndpis = glob(os.path.join(ndpi,'*.ndpi'))\n",
    "\n",
    "mask = r'\\\\fatherserverdw\\kyuex\\image\\CLUE\\3D study\\he\\c1\\1um\\classification_v9_combined'\n",
    "masks = glob(os.path.join(mask,'*.tif'))\n",
    "\n",
    "binary_mask = r'\\\\fatherserverdw\\kyuex\\image\\CLUE\\3D study\\he\\c1\\TA'\n",
    "binary_masks = glob(os.path.join(binary_mask,'*.png'))"
   ],
   "metadata": {
    "collapsed": false
   }
  },
  {
   "cell_type": "markdown",
   "source": [
    "### Crop whole slide image, its respective whole slide mask, and then also crop the binary mask together: (note they all have different sizes so you have to use the ratios)"
   ],
   "metadata": {
    "collapsed": false
   }
  },
  {
   "cell_type": "code",
   "execution_count": null,
   "outputs": [],
   "source": [
    "# for i in range(len(ndpis)):\n",
    "#     wsi = OpenSlide(ndpis[i])\n",
    "#     target_level = 4\n",
    "#     wsi_im = wsi.read_region(location=(0,0),level=target_level,size=wsi.level_dimensions[target_level])\n",
    "#\n",
    "#     fn = os.path.basename(ndpis[i])\n",
    "#     fn,ext = os.path.splitext(fn)\n",
    "#     TAsrc = r'\\\\fatherserverdw\\kyuex\\image\\CLUE\\3D study\\he\\c1\\TA'\n",
    "#     TA = os.path.join(TAsrc,fn+'.png')\n",
    "#     bw = Image.open(TA)\n",
    "#     labeledbw = label(np.array(bw))\n",
    "#\n",
    "#     target_tissue = 4\n",
    "#     bwtarget = labeledbw == target_tissue\n",
    "#\n",
    "#     ind = np.argwhere(bwtarget)\n",
    "#     margin = 30\n",
    "#     bbox = [np.min(ind[:,0]),np.min(ind[:,1]),np.max(ind[:,0]),np.max(ind[:,1])] #[miny,minx,maxy,maxx]\n",
    "#     bboxm = [bbox[0]-margin,bbox[1]-margin,bbox[2]+margin,bbox[3]+margin]\n",
    "#     bwcropm = bwtarget[bboxm[0]:bboxm[2],bboxm[1]:bboxm[3]]\n",
    "#\n",
    "#     wsi_arr = np.array(wsi_im)\n",
    "#     wsisz = wsi_arr.shape\n",
    "#     bwsz = bwtarget.shape\n",
    "#     rsf = wsisz[0]/bwsz[0]\n",
    "#     bboxm2 = [round(_*rsf) for _ in bboxm]\n",
    "#     imcropm = wsi_arr[bboxm2[0]:bboxm2[2],bboxm2[1]:bboxm2[3]]\n",
    "#\n",
    "#     im_mask = np.array(Image.open(masks[i]))\n",
    "#     ratio = im_mask.shape[0]/wsi_arr.shape[0]\n",
    "#     immaskm = im_mask[round(bboxm2[0]*ratio):round(bboxm2[2]*ratio),round(bboxm2[1]*ratio):round(bboxm2[3]*ratio)]\n",
    "#\n",
    "#     im_binary_mask = np.array(Image.open(binary_masks[i]))\n",
    "#     ratio = im_binary_mask.shape[0]/wsi_arr.shape[0]\n",
    "#     im_binary_mask_m = im_binary_mask[round(bboxm2[0]*ratio):round(bboxm2[2]*ratio),round(bboxm2[1]*ratio):round(bboxm2[3]*ratio)]\n",
    "#\n",
    "#     imcropm_src = r'\\\\fatherserverdw\\Kevin\\imageregistration2\\images'\n",
    "#     immaskm_src = r'\\\\fatherserverdw\\Kevin\\imageregistration2\\masks'\n",
    "#     im_binary_mask_src = r'\\\\fatherserverdw\\Kevin\\imageregistration2\\binary_mask_wsi'\n",
    "#\n",
    "#     Image.fromarray(imcropm).save(os.path.join(imcropm_src,img_files_path_png[i]))\n",
    "#     Image.fromarray(immaskm).save(os.path.join(immaskm_src,img_files_path_png[i]))\n",
    "#     Image.fromarray(im_binary_mask_m).save(os.path.join(im_binary_mask_src,img_files_path_png[i]))\n",
    "#     #save imcropm,immaskm,im_binary_mask_m"
   ],
   "metadata": {
    "collapsed": false,
    "pycharm": {
     "is_executing": true
    }
   }
  },
  {
   "cell_type": "markdown",
   "source": [
    "### Now, Resize binary masks in binary_mask_wsi to the same size of the padded masks, which is all 5352 x 6328. Then maybe use sci-kit label to only label the actual tissue (exclude the other tissue bits in the edges), and then multiply this binary mask to the padded masks to only find the arrays of the tissue itself.\n",
    "### Also, compare tissue composition before registration and after registration and see  how much they differ from each other."
   ],
   "metadata": {
    "collapsed": false
   }
  },
  {
   "cell_type": "code",
   "execution_count": 14,
   "outputs": [],
   "source": [
    "binary_mask_files_name = [_ for _ in os.listdir(r'\\\\fatherserverdw\\Kevin\\imageregistration2\\binary_mask_wsi') if _.endswith(\".png\")]\n",
    "bin_mask = r'\\\\fatherserverdw\\Kevin\\imageregistration2\\binary_mask_wsi'\n",
    "bin_masks = glob(os.path.join(bin_mask,'*.png'))\n",
    "im_binary_mask_resized_src = r'\\\\fatherserverdw\\Kevin\\imageregistration2\\binary_mask_wsi\\resized'\n",
    "padded_mask_ex = Image.open(r'\\\\fatherserverdw\\Kevin\\imageregistration2\\padded_masks\\z0001_1C1.png')\n",
    "dim_padded_masks = padded_mask_ex.size"
   ],
   "metadata": {
    "collapsed": false
   }
  },
  {
   "cell_type": "code",
   "execution_count": 28,
   "outputs": [
    {
     "name": "stdout",
     "output_type": "stream",
     "text": [
      "(348, 288)\n",
      "(6328, 5352)\n",
      "(405, 330)\n",
      "(6328, 5352)\n",
      "(400, 341)\n",
      "(6328, 5352)\n",
      "(401, 344)\n",
      "(6328, 5352)\n",
      "(400, 315)\n",
      "(6328, 5352)\n",
      "(394, 329)\n",
      "(6328, 5352)\n",
      "(382, 342)\n",
      "(6328, 5352)\n",
      "(392, 331)\n",
      "(6328, 5352)\n",
      "(394, 337)\n",
      "(6328, 5352)\n",
      "(388, 322)\n",
      "(6328, 5352)\n",
      "(387, 331)\n",
      "(6328, 5352)\n",
      "(380, 342)\n",
      "(6328, 5352)\n",
      "(384, 332)\n",
      "(6328, 5352)\n",
      "(377, 340)\n",
      "(6328, 5352)\n",
      "(382, 327)\n",
      "(6328, 5352)\n",
      "(382, 324)\n",
      "(6328, 5352)\n",
      "(399, 343)\n",
      "(6328, 5352)\n",
      "(361, 324)\n",
      "(6328, 5352)\n",
      "(391, 322)\n",
      "(6328, 5352)\n",
      "(387, 316)\n",
      "(6328, 5352)\n",
      "(385, 323)\n",
      "(6328, 5352)\n",
      "(392, 312)\n",
      "(6328, 5352)\n",
      "(371, 333)\n",
      "(6328, 5352)\n",
      "(374, 322)\n",
      "(6328, 5352)\n",
      "(382, 309)\n",
      "(6328, 5352)\n",
      "(376, 339)\n",
      "(6328, 5352)\n",
      "(391, 299)\n",
      "(6328, 5352)\n",
      "(393, 310)\n",
      "(6328, 5352)\n",
      "(377, 303)\n",
      "(6328, 5352)\n",
      "(370, 292)\n",
      "(6328, 5352)\n",
      "(367, 299)\n",
      "(6328, 5352)\n",
      "(375, 240)\n",
      "(6328, 5352)\n",
      "(350, 268)\n",
      "(6328, 5352)\n",
      "(360, 233)\n",
      "(6328, 5352)\n"
     ]
    }
   ],
   "source": [
    "for i in range(len(binary_mask_files_name)):\n",
    "    temp = cv2.imread(bin_masks[i],cv2.IMREAD_GRAYSCALE)\n",
    "    print(temp.shape)\n",
    "    resize_bin_mask = cv2.resize(temp,dim_padded_masks,interpolation=cv2.INTER_CUBIC)\n",
    "    print(resize_bin_mask.shape)\n",
    "    tmp_src = os.path.join(im_binary_mask_resized_src,binary_mask_files_name[i])\n",
    "    cv2.imwrite(tmp_src,resize_bin_mask)"
   ],
   "metadata": {
    "collapsed": false
   }
  },
  {
   "cell_type": "code",
   "execution_count": 32,
   "outputs": [
    {
     "data": {
      "text/plain": "<matplotlib.image.AxesImage at 0x203b0f01580>"
     },
     "execution_count": 32,
     "metadata": {},
     "output_type": "execute_result"
    },
    {
     "data": {
      "text/plain": "<Figure size 640x480 with 1 Axes>",
      "image/png": "[encoded data removed]"
     },
     "metadata": {},
     "output_type": "display_data"
    }
   ],
   "source": [
    "bw = Image.open(os.path.join(im_binary_mask_resized_src,binary_mask_files_name[0]))\n",
    "labeledbw = label(np.array(bw))\n",
    "plt.imshow(labeledbw)\n",
    "# target_tissue = 3\n",
    "# bwtarget = labeledbw == target_tissue\n",
    "#\n",
    "# ind = np.argwhere(bwtarget)"
   ],
   "metadata": {
    "collapsed": false
   }
  },
  {
   "cell_type": "code",
   "execution_count": 34,
   "outputs": [
    {
     "data": {
      "text/plain": "array([[1, 1, 1, ..., 0, 0, 0],\n       [1, 1, 1, ..., 0, 0, 0],\n       [1, 1, 1, ..., 0, 0, 0],\n       ...,\n       [0, 0, 0, ..., 0, 0, 0],\n       [0, 0, 0, ..., 0, 0, 0],\n       [0, 0, 0, ..., 0, 0, 0]], dtype=int64)"
     },
     "execution_count": 34,
     "metadata": {},
     "output_type": "execute_result"
    }
   ],
   "source": [
    "labeledbw"
   ],
   "metadata": {
    "collapsed": false
   }
  },
  {
   "cell_type": "code",
   "execution_count": null,
   "outputs": [],
   "source": [],
   "metadata": {
    "collapsed": false
   }
  }
 ],
 "metadata": {
  "kernelspec": {
   "display_name": "Python 3",
   "language": "python",
   "name": "python3"
  },
  "language_info": {
   "codemirror_mode": {
    "name": "ipython",
    "version": 2
   },
   "file_extension": ".py",
   "mimetype": "text/x-python",
   "name": "python",
   "nbconvert_exporter": "python",
   "pygments_lexer": "ipython2",
   "version": "2.7.6"
  }
 },
 "nbformat": 4,
 "nbformat_minor": 0
}
