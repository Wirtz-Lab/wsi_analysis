{
 "cells": [
  {
   "cell_type": "code",
   "execution_count": 1,
   "outputs": [],
   "source": [
    "#importing openslide:\n",
    "OPENSLIDE_PATH = r'C:\\Users\\Kevin\\Desktop\\openslide-win64-20221217\\bin'\n",
    "\n",
    "import os\n",
    "if hasattr(os, 'add_dll_directory'):\n",
    "    # Python >= 3.8 on Windows\n",
    "    with os.add_dll_directory(OPENSLIDE_PATH):\n",
    "        import openslide\n",
    "else:\n",
    "    import openslide"
   ],
   "metadata": {
    "collapsed": false
   }
  },
  {
   "cell_type": "code",
   "execution_count": 2,
   "metadata": {
    "collapsed": true
   },
   "outputs": [],
   "source": [
    "import numpy as np\n",
    "import time\n",
    "from PIL import Image\n",
    "Image.MAX_IMAGE_PIXELS = None\n",
    "import cv2\n",
    "import os\n",
    "from matplotlib import pyplot as plt\n",
    "from skimage.morphology import remove_small_objects, remove_small_holes\n",
    "from skimage.color import rgb2gray\n",
    "from skimage.transform import warp\n",
    "from skimage.registration import optical_flow_tvl1, optical_flow_ilk\n",
    "import os\n",
    "import cv2\n",
    "import xml.etree.ElementTree as ET\n",
    "import numpy as np\n",
    "import pandas as pd\n",
    "import skimage.measure\n",
    "import scipy.stats as stats\n",
    "from time import time\n",
    "from skimage.measure import label, regionprops_table\n"
   ]
  },
  {
   "cell_type": "code",
   "execution_count": 6,
   "outputs": [
    {
     "name": "stdout",
     "output_type": "stream",
     "text": [
      "(192000, 104192)\n",
      "Dimension of level 0 of the image is:  (192000, 104192)\n",
      "Number of levels in this image are: 8\n",
      "(48000, 26048)\n"
     ]
    }
   ],
   "source": [
    "example_wsi_src = r'\\\\shelter\\Kyu\\unstain2stain\\unstain2stain_wsi\\Unstained\\OTS_14684_7.ndpi'\n",
    "slide = openslide.open_slide(example_wsi_src)\n",
    "rgb_dim = slide.dimensions\n",
    "print(rgb_dim)\n",
    "print(\"Dimension of level 0 of the image is: \",rgb_dim)\n",
    "slide_level_dim = slide.level_dimensions\n",
    "target_dim = slide.level_dimensions[2] # target level = 4\n",
    "# rsf = [x/y for x,y in zip(rgb_dim,target_dim)]\n",
    "num_levels = len(slide_level_dim)\n",
    "print(\"Number of levels in this image are:\",num_levels)\n",
    "print(target_dim)"
   ],
   "metadata": {
    "collapsed": false
   }
  },
  {
   "cell_type": "code",
   "execution_count": null,
   "outputs": [],
   "source": [
    "# convert the image to grayscale\n",
    "img = slide.read_region((0,0),2,(target_dim))\n",
    "print(img.shape)\n",
    "# gray_image = skimage.color.rgb2gray(img)\n",
    "# Image.fromarray(gray_image).show()\n",
    "\n",
    "# # blur the image to denoise\n",
    "# blurred_image = skimage.filters.gaussian(gray_image, sigma=1.0)\n",
    "# fig, ax = plt.subplots()\n",
    "# plt.imshow(blurred_image, cmap=\"gray\")"
   ],
   "metadata": {
    "collapsed": false,
    "pycharm": {
     "is_executing": true
    }
   }
  },
  {
   "cell_type": "code",
   "execution_count": 8,
   "outputs": [
    {
     "ename": "AttributeError",
     "evalue": "'OpenSlide' object has no attribute 'shape'",
     "output_type": "error",
     "traceback": [
      "\u001B[1;31m---------------------------------------------------------------------------\u001B[0m",
      "\u001B[1;31mAttributeError\u001B[0m                            Traceback (most recent call last)",
      "Cell \u001B[1;32mIn[8], line 1\u001B[0m\n\u001B[1;32m----> 1\u001B[0m \u001B[43mslide\u001B[49m\u001B[38;5;241;43m.\u001B[39;49m\u001B[43mshape\u001B[49m()\n",
      "\u001B[1;31mAttributeError\u001B[0m: 'OpenSlide' object has no attribute 'shape'"
     ]
    }
   ],
   "source": [
    "slide.shape()\n"
   ],
   "metadata": {
    "collapsed": false
   }
  },
  {
   "cell_type": "code",
   "execution_count": null,
   "outputs": [],
   "source": [],
   "metadata": {
    "collapsed": false
   }
  }
 ],
 "metadata": {
  "kernelspec": {
   "display_name": "Python 3",
   "language": "python",
   "name": "python3"
  },
  "language_info": {
   "codemirror_mode": {
    "name": "ipython",
    "version": 2
   },
   "file_extension": ".py",
   "mimetype": "text/x-python",
   "name": "python",
   "nbconvert_exporter": "python",
   "pygments_lexer": "ipython2",
   "version": "2.7.6"
  }
 },
 "nbformat": 4,
 "nbformat_minor": 0
}
