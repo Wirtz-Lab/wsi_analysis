{
 "cells": [
  {
   "cell_type": "code",
   "execution_count": 2,
   "metadata": {
    "collapsed": true
   },
   "outputs": [],
   "source": [
    "import os\n",
    "import shutil\n",
    "import random\n",
    "import math\n",
    "from PIL import Image"
   ]
  },
  {
   "cell_type": "code",
   "execution_count": 3,
   "outputs": [],
   "source": [
    "def resize_image(input_dir, output_dir):\n",
    "    if not os.path.exists(output_dir):\n",
    "        os.makedirs(output_dir)\n",
    "    input_files = [x for x in os.listdir(input_dir) if x.endswith(\".png\")]\n",
    "    for input_file in input_files:\n",
    "        input_file_path = os.path.join(input_dir, input_file)\n",
    "        image = Image.open(input_file_path)\n",
    "        for i in range(4):\n",
    "            for j in range(4):\n",
    "                x_offset = i * 256\n",
    "                y_offset = j * 256\n",
    "                tile = image.crop((x_offset, y_offset, x_offset + 256, y_offset + 256))\n",
    "                output_file = input_file.replace(\".png\", f\"_{i + 1}{j + 1}.png\")\n",
    "                new_save_path = os.path.join(output_dir, output_file)\n",
    "                tile.save(new_save_path)\n",
    "\n",
    "    print(\"All images processed.\")"
   ],
   "metadata": {
    "collapsed": false
   }
  },
  {
   "cell_type": "code",
   "execution_count": 4,
   "outputs": [
    {
     "name": "stdout",
     "output_type": "stream",
     "text": [
      "All images processed.\n"
     ]
    }
   ],
   "source": [
    "resize_image(r\"\\\\shelter\\Kyu\\unstain2stain\\tiles\\registered_tiles\\HE_train_val_test_split\\fold_B\\test\",\n",
    "             r\"\\\\shelter\\Kyu\\unstain2stain\\tiles\\registered_tiles\\I2SB\\test\\HE\")"
   ],
   "metadata": {
    "collapsed": false
   }
  },
  {
   "cell_type": "code",
   "execution_count": 5,
   "outputs": [
    {
     "name": "stdout",
     "output_type": "stream",
     "text": [
      "All images processed.\n"
     ]
    }
   ],
   "source": [
    "resize_image(r\"\\\\shelter\\Kyu\\unstain2stain\\tiles\\registered_tiles\\HE_train_val_test_split\\fold_A\\test\",\n",
    "             r\"\\\\shelter\\Kyu\\unstain2stain\\tiles\\registered_tiles\\I2SB\\test\\NS\")"
   ],
   "metadata": {
    "collapsed": false
   }
  },
  {
   "cell_type": "code",
   "execution_count": 6,
   "outputs": [
    {
     "name": "stdout",
     "output_type": "stream",
     "text": [
      "All images processed.\n"
     ]
    }
   ],
   "source": [
    "resize_image(r\"\\\\shelter\\Kyu\\unstain2stain\\tiles\\registered_tiles\\HE_train_val_test_split\\fold_B\\val\",\n",
    "             r\"\\\\shelter\\Kyu\\unstain2stain\\tiles\\registered_tiles\\I2SB\\val\\HE\")"
   ],
   "metadata": {
    "collapsed": false
   }
  },
  {
   "cell_type": "code",
   "execution_count": 7,
   "outputs": [
    {
     "name": "stdout",
     "output_type": "stream",
     "text": [
      "All images processed.\n"
     ]
    }
   ],
   "source": [
    "resize_image(r\"\\\\shelter\\Kyu\\unstain2stain\\tiles\\registered_tiles\\HE_train_val_test_split\\fold_A\\val\",\n",
    "             r\"\\\\shelter\\Kyu\\unstain2stain\\tiles\\registered_tiles\\I2SB\\val\\NS\")"
   ],
   "metadata": {
    "collapsed": false
   }
  },
  {
   "cell_type": "code",
   "execution_count": 8,
   "outputs": [
    {
     "name": "stdout",
     "output_type": "stream",
     "text": [
      "All images processed.\n"
     ]
    }
   ],
   "source": [
    "resize_image(r\"\\\\shelter\\Kyu\\unstain2stain\\tiles\\registered_tiles\\HE_train_val_test_split\\fold_B\\train\",\n",
    "             r\"\\\\shelter\\Kyu\\unstain2stain\\tiles\\registered_tiles\\I2SB\\train\\HE\")"
   ],
   "metadata": {
    "collapsed": false
   }
  },
  {
   "cell_type": "code",
   "execution_count": 9,
   "outputs": [
    {
     "name": "stdout",
     "output_type": "stream",
     "text": [
      "All images processed.\n"
     ]
    }
   ],
   "source": [
    "resize_image(r\"\\\\shelter\\Kyu\\unstain2stain\\tiles\\registered_tiles\\HE_train_val_test_split\\fold_A\\train\",\n",
    "             r\"\\\\shelter\\Kyu\\unstain2stain\\tiles\\registered_tiles\\I2SB\\train\\NS\")"
   ],
   "metadata": {
    "collapsed": false
   }
  },
  {
   "cell_type": "code",
   "execution_count": null,
   "outputs": [],
   "source": [],
   "metadata": {
    "collapsed": false
   }
  }
 ],
 "metadata": {
  "kernelspec": {
   "display_name": "Python 3",
   "language": "python",
   "name": "python3"
  },
  "language_info": {
   "codemirror_mode": {
    "name": "ipython",
    "version": 2
   },
   "file_extension": ".py",
   "mimetype": "text/x-python",
   "name": "python",
   "nbconvert_exporter": "python",
   "pygments_lexer": "ipython2",
   "version": "2.7.6"
  }
 },
 "nbformat": 4,
 "nbformat_minor": 0
}
