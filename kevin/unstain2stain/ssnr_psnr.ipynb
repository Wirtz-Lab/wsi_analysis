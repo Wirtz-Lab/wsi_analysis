{
 "cells": [
  {
   "cell_type": "code",
   "execution_count": 1,
   "metadata": {
    "collapsed": true
   },
   "outputs": [],
   "source": [
    "from PIL import Image\n",
    "import numpy as np\n",
    "from sewar.full_ref import *\n",
    "from tqdm import tqdm\n",
    "from copy import deepcopy\n",
    "import os"
   ]
  },
  {
   "cell_type": "code",
   "execution_count": 2,
   "outputs": [],
   "source": [
    "img1 = Image.open(r\"\\\\fatherserverdw\\Saurabh\\Saurabh\\Kidney\\cropped\\tif2png\\wsi_inf_072\\Synthetic_072.png\")\n",
    "img2 = Image.open(r\"\\\\fatherserverdw\\Saurabh\\Saurabh\\Kidney\\cropped\\tif2png\\wsi_inf_072\\Authentic_072.png\")\n"
   ],
   "metadata": {
    "collapsed": false
   }
  },
  {
   "cell_type": "code",
   "execution_count": 3,
   "outputs": [],
   "source": [
    "img1_gray = img1.convert('L')\n",
    "img2_gray = img2.convert('L')\n"
   ],
   "metadata": {
    "collapsed": false
   }
  },
  {
   "cell_type": "code",
   "execution_count": 4,
   "outputs": [],
   "source": [
    "img1_gray_arr = np.asarray(img1_gray)\n",
    "img2_gray_arr = np.asarray(img2_gray)\n"
   ],
   "metadata": {
    "collapsed": false
   }
  },
  {
   "cell_type": "code",
   "execution_count": 5,
   "outputs": [],
   "source": [
    "img1_norm = img1_gray_arr.astype(np.float32) / 255.0\n",
    "img2_norm = img2_gray_arr.astype(np.float32) / 255.0\n"
   ],
   "metadata": {
    "collapsed": false
   }
  },
  {
   "cell_type": "code",
   "execution_count": 6,
   "outputs": [],
   "source": [
    "img1_uint8 = np.clip(img1_norm * 255.0, 0, 255).astype(np.uint8)\n",
    "img2_uint8 = np.clip(img2_norm * 255.0, 0, 255).astype(np.uint8)\n"
   ],
   "metadata": {
    "collapsed": false
   }
  },
  {
   "cell_type": "code",
   "execution_count": 7,
   "outputs": [],
   "source": [
    "mse_val = mse(img1_norm, img2_norm)\n",
    "# psnr_val = psnr(img1_uint8, img2_uint8)\n",
    "# ssim_val = ssim(img1_uint8, img2_uint8)\n",
    "# ergas_val = ergas(img1_norm, img2_norm)\n",
    "# rmse_val = rmse(img1_norm, img2_norm)\n",
    "uqi_val = uqi(img1_norm, img2_norm)\n",
    "# scc_val = scc(img1_norm, img2_norm)\n"
   ],
   "metadata": {
    "collapsed": false
   }
  },
  {
   "cell_type": "code",
   "execution_count": 8,
   "outputs": [
    {
     "name": "stdout",
     "output_type": "stream",
     "text": [
      "MSE: 0.040322301047420406\n",
      "UQI 0.941581877041107\n"
     ]
    }
   ],
   "source": [
    "print('MSE:', mse_val)\n",
    "# print('PSNR:', psnr_val)\n",
    "# print('SSIM:', ssim_val)\n",
    "# print('ERGAS:', ergas_val)\n",
    "# print('RMSE:', rmse_val)\n",
    "print('UQI', uqi_val)\n",
    "# print('SCC:', scc_val)"
   ],
   "metadata": {
    "collapsed": false
   }
  },
  {
   "cell_type": "code",
   "execution_count": null,
   "outputs": [],
   "source": [],
   "metadata": {
    "collapsed": false
   }
  }
 ],
 "metadata": {
  "kernelspec": {
   "display_name": "Python 3",
   "language": "python",
   "name": "python3"
  },
  "language_info": {
   "codemirror_mode": {
    "name": "ipython",
    "version": 2
   },
   "file_extension": ".py",
   "mimetype": "text/x-python",
   "name": "python",
   "nbconvert_exporter": "python",
   "pygments_lexer": "ipython2",
   "version": "2.7.6"
  }
 },
 "nbformat": 4,
 "nbformat_minor": 0
}
