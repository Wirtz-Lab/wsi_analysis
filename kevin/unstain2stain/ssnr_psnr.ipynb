{
 "cells": [
  {
   "cell_type": "markdown",
   "source": [
    "# Image registration metrics for the unstain2stain images:\n",
    "-Mutual Information with both stained and unstained in grayscale, which is done in a custom function defined below, which is from the MI_and_FID.ipynb. Also done between synHE and unstained.\n",
    "# Using Sewar Library:\n",
    "-MSE, RMSE, PSNR, SSIM, MS-SSIM comparison between stained and unstained, and also synHE and unstained."
   ],
   "metadata": {
    "collapsed": false
   }
  },
  {
   "cell_type": "code",
   "execution_count": 1,
   "metadata": {
    "collapsed": true
   },
   "outputs": [],
   "source": [
    "from PIL import Image\n",
    "import numpy as np\n",
    "from sewar.full_ref import *\n",
    "from tqdm import tqdm\n",
    "from copy import deepcopy\n",
    "import os\n",
    "import pandas as pd\n",
    "import cv2\n",
    "from matplotlib import pyplot as plt\n",
    "from glob import glob"
   ]
  },
  {
   "cell_type": "markdown",
   "source": [
    "### MI function:"
   ],
   "metadata": {
    "collapsed": false
   }
  },
  {
   "cell_type": "code",
   "execution_count": null,
   "outputs": [],
   "source": [
    "# from skin_2D_workflow\\image_registration_evaluation to calculate mutual information:\n",
    "# Function to calculate MI:\n",
    "def calculate_mutual_information(img_path_1,img_path_2): #order doesn't matter, MI(A,B) = MI(B,A)\n",
    "    img1 = np.array(cv2.imread(img_path_1))\n",
    "    img2 = np.array(cv2.imread(img_path_2))\n",
    "    img1_g = cv2.cvtColor(img1,cv2.COLOR_BGR2GRAY)\n",
    "    img2_g = cv2.cvtColor(img2,cv2.COLOR_BGR2GRAY)\n",
    "    hist2d, x_edges, y_edges = np.histogram2d(img1_g.ravel(),img2_g.ravel(),bins=20)\n",
    "    pxy = hist2d / float(np.sum(hist2d))\n",
    "    px = np.sum(pxy, axis=1)  # marginal x over y\n",
    "    py = np.sum(pxy, axis=0)  # marginal y over x\n",
    "    px_py = px[:, None] * py[None, :]  # broadcast to multiply marginals\n",
    "    # now we can do the calculation using the pxy, px_py 2D arrays\n",
    "    nonzeros = pxy > 0  # filer out the zero values\n",
    "    mi = np.sum(pxy[nonzeros] * np.log(pxy[nonzeros] / px_py[nonzeros]))\n",
    "    return mi"
   ],
   "metadata": {
    "collapsed": false
   }
  },
  {
   "cell_type": "code",
   "execution_count": null,
   "outputs": [],
   "source": [],
   "metadata": {
    "collapsed": false
   }
  },
  {
   "cell_type": "markdown",
   "source": [
    "### Sewar Library:"
   ],
   "metadata": {
    "collapsed": false
   }
  },
  {
   "cell_type": "code",
   "execution_count": 2,
   "outputs": [],
   "source": [
    "img1 = Image.open(r\"\\\\fatherserverdw\\Saurabh\\Saurabh\\Kidney\\cropped\\tif2png\\wsi_inf_072\\Synthetic_072.png\")\n",
    "img2 = Image.open(r\"\\\\fatherserverdw\\Saurabh\\Saurabh\\Kidney\\cropped\\tif2png\\wsi_inf_072\\Authentic_072.png\")\n",
    "img1_gray = img1.convert('L')\n",
    "img2_gray = img2.convert('L')\n",
    "img1_gray_arr = np.asarray(img1_gray)\n",
    "img2_gray_arr = np.asarray(img2_gray)\n",
    "img1_norm = img1_gray_arr.astype(np.float32) / 255.0\n",
    "img2_norm = img2_gray_arr.astype(np.float32) / 255.0\n",
    "img1_uint8 = np.clip(img1_norm * 255.0, 0, 255).astype(np.uint8)\n",
    "img2_uint8 = np.clip(img2_norm * 255.0, 0, 255).astype(np.uint8)\n",
    "mse_val = mse(img1_norm, img2_norm)\n",
    "# psnr_val = psnr(img1_uint8, img2_uint8)\n",
    "# ssim_val = ssim(img1_uint8, img2_uint8)\n",
    "# ergas_val = ergas(img1_norm, img2_norm)\n",
    "# rmse_val = rmse(img1_norm, img2_norm)\n",
    "uqi_val = uqi(img1_norm, img2_norm)\n",
    "# scc_val = scc(img1_norm, img2_norm)\n",
    "print('MSE:', mse_val)\n",
    "# print('PSNR:', psnr_val)\n",
    "# print('SSIM:', ssim_val)\n",
    "# print('ERGAS:', ergas_val)\n",
    "# print('RMSE:', rmse_val)\n",
    "print('UQI', uqi_val)\n",
    "# print('SCC:', scc_val)"
   ],
   "metadata": {
    "collapsed": false
   }
  },
  {
   "cell_type": "code",
   "execution_count": 3,
   "outputs": [],
   "source": [
    "\n"
   ],
   "metadata": {
    "collapsed": false
   }
  },
  {
   "cell_type": "code",
   "execution_count": 4,
   "outputs": [],
   "source": [
    "\n"
   ],
   "metadata": {
    "collapsed": false
   }
  },
  {
   "cell_type": "code",
   "execution_count": 5,
   "outputs": [],
   "source": [
    "\n"
   ],
   "metadata": {
    "collapsed": false
   }
  },
  {
   "cell_type": "code",
   "execution_count": 6,
   "outputs": [],
   "source": [
    "\n"
   ],
   "metadata": {
    "collapsed": false
   }
  },
  {
   "cell_type": "code",
   "execution_count": 7,
   "outputs": [],
   "source": [],
   "metadata": {
    "collapsed": false
   }
  },
  {
   "cell_type": "code",
   "execution_count": null,
   "outputs": [],
   "source": [],
   "metadata": {
    "collapsed": false
   }
  }
 ],
 "metadata": {
  "kernelspec": {
   "display_name": "Python 3",
   "language": "python",
   "name": "python3"
  },
  "language_info": {
   "codemirror_mode": {
    "name": "ipython",
    "version": 2
   },
   "file_extension": ".py",
   "mimetype": "text/x-python",
   "name": "python",
   "nbconvert_exporter": "python",
   "pygments_lexer": "ipython2",
   "version": "2.7.6"
  }
 },
 "nbformat": 4,
 "nbformat_minor": 0
}
