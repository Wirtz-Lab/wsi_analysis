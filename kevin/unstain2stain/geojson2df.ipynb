{
 "cells": [
  {
   "cell_type": "code",
   "execution_count": 31,
   "outputs": [],
   "source": [
    "import numpy as np\n",
    "import pandas as pd\n",
    "import json"
   ],
   "metadata": {
    "collapsed": false
   }
  },
  {
   "cell_type": "code",
   "execution_count": 32,
   "outputs": [],
   "source": [
    "annotations = r\"\\\\shelter\\Kyu\\unstain2stain\\tiles\\registered_stitched\\OTS_14684_3_he.geojson\""
   ],
   "metadata": {
    "collapsed": false
   }
  },
  {
   "cell_type": "code",
   "execution_count": 33,
   "outputs": [],
   "source": [
    "with open(annotations) as f:\n",
    "      features = json.load(f)[\"features\"]"
   ],
   "metadata": {
    "collapsed": false
   }
  },
  {
   "cell_type": "code",
   "execution_count": 34,
   "outputs": [
    {
     "name": "stderr",
     "output_type": "stream",
     "text": [
      "C:\\Users\\Kevin\\.conda\\envs\\wsi_analysis1\\lib\\site-packages\\numpy\\core\\fromnumeric.py:43: VisibleDeprecationWarning: Creating an ndarray from ragged nested sequences (which is a list-or-tuple of lists-or-tuples-or ndarrays with different lengths or shapes) is deprecated. If you meant to do this, you must specify 'dtype=object' when creating the ndarray.\n",
      "  result = getattr(asarray(obj), method)(*args, **kwds)\n"
     ]
    }
   ],
   "source": [
    "contour_df = pd.DataFrame({'contour':[np.squeeze(_['geometry']['coordinates']) for _ in features]})"
   ],
   "metadata": {
    "collapsed": false
   }
  },
  {
   "cell_type": "code",
   "execution_count": 35,
   "outputs": [],
   "source": [
    "classlabel_list = []\n",
    "for idx in range(len(features)):\n",
    "      contour = features[idx]\n",
    "      classlabel = contour[\"properties\"][\"classification\"][\"name\"]\n",
    "      classlabel_list.append(classlabel)"
   ],
   "metadata": {
    "collapsed": false
   }
  },
  {
   "cell_type": "code",
   "execution_count": 36,
   "outputs": [],
   "source": [
    "label_df = pd.DataFrame(classlabel_list,columns=[\"label\"])"
   ],
   "metadata": {
    "collapsed": false
   }
  },
  {
   "cell_type": "code",
   "execution_count": 38,
   "outputs": [],
   "source": [
    "final_df = pd.concat([contour_df,label_df],axis=1)"
   ],
   "metadata": {
    "collapsed": false
   }
  },
  {
   "cell_type": "code",
   "execution_count": 39,
   "outputs": [
    {
     "data": {
      "text/plain": "                                               contour         label\n0    [[38297.0, 67349.0], [38295.0, 67350.0], [3829...       corneum\n1    [[38070.0, 67032.0], [38056.0, 67033.0], [3804...      spinosum\n2    [[38305.5, 67369.0], [38304.0, 67370.0], [3830...         white\n3    [[38023.0, 66903.0], [38014.0, 66904.0], [3800...           ecm\n4    [[38089.0, 58716.0], [38089.0, 58719.0], [3809...  hairfollicle\n..                                                 ...           ...\n98   [[46352, 66260], [46350, 66262], [46348, 66262...      spinosum\n99   [[67227, 54067], [67227, 54069], [67225, 54069...         sweat\n100  [[58940, 56662], [58940, 56663], [58939, 56663...         sweat\n101  [[19400.0, 55087.0], [19400.0, 55091.0], [1939...         white\n102  [[32699.0, 67186.0], [32699.0, 67187.0], [3269...         white\n\n[103 rows x 2 columns]",
      "text/html": "<div>\n<style scoped>\n    .dataframe tbody tr th:only-of-type {\n        vertical-align: middle;\n    }\n\n    .dataframe tbody tr th {\n        vertical-align: top;\n    }\n\n    .dataframe thead th {\n        text-align: right;\n    }\n</style>\n<table border=\"1\" class=\"dataframe\">\n  <thead>\n    <tr style=\"text-align: right;\">\n      <th></th>\n      <th>contour</th>\n      <th>label</th>\n    </tr>\n  </thead>\n  <tbody>\n    <tr>\n      <th>0</th>\n      <td>[[38297.0, 67349.0], [38295.0, 67350.0], [3829...</td>\n      <td>corneum</td>\n    </tr>\n    <tr>\n      <th>1</th>\n      <td>[[38070.0, 67032.0], [38056.0, 67033.0], [3804...</td>\n      <td>spinosum</td>\n    </tr>\n    <tr>\n      <th>2</th>\n      <td>[[38305.5, 67369.0], [38304.0, 67370.0], [3830...</td>\n      <td>white</td>\n    </tr>\n    <tr>\n      <th>3</th>\n      <td>[[38023.0, 66903.0], [38014.0, 66904.0], [3800...</td>\n      <td>ecm</td>\n    </tr>\n    <tr>\n      <th>4</th>\n      <td>[[38089.0, 58716.0], [38089.0, 58719.0], [3809...</td>\n      <td>hairfollicle</td>\n    </tr>\n    <tr>\n      <th>...</th>\n      <td>...</td>\n      <td>...</td>\n    </tr>\n    <tr>\n      <th>98</th>\n      <td>[[46352, 66260], [46350, 66262], [46348, 66262...</td>\n      <td>spinosum</td>\n    </tr>\n    <tr>\n      <th>99</th>\n      <td>[[67227, 54067], [67227, 54069], [67225, 54069...</td>\n      <td>sweat</td>\n    </tr>\n    <tr>\n      <th>100</th>\n      <td>[[58940, 56662], [58940, 56663], [58939, 56663...</td>\n      <td>sweat</td>\n    </tr>\n    <tr>\n      <th>101</th>\n      <td>[[19400.0, 55087.0], [19400.0, 55091.0], [1939...</td>\n      <td>white</td>\n    </tr>\n    <tr>\n      <th>102</th>\n      <td>[[32699.0, 67186.0], [32699.0, 67187.0], [3269...</td>\n      <td>white</td>\n    </tr>\n  </tbody>\n</table>\n<p>103 rows × 2 columns</p>\n</div>"
     },
     "execution_count": 39,
     "metadata": {},
     "output_type": "execute_result"
    }
   ],
   "source": [
    "final_df"
   ],
   "metadata": {
    "collapsed": false
   }
  },
  {
   "cell_type": "code",
   "execution_count": 37,
   "outputs": [],
   "source": [],
   "metadata": {
    "collapsed": false
   }
  }
 ],
 "metadata": {
  "kernelspec": {
   "display_name": "Python 3",
   "language": "python",
   "name": "python3"
  },
  "language_info": {
   "codemirror_mode": {
    "name": "ipython",
    "version": 2
   },
   "file_extension": ".py",
   "mimetype": "text/x-python",
   "name": "python",
   "nbconvert_exporter": "python",
   "pygments_lexer": "ipython2",
   "version": "2.7.6"
  }
 },
 "nbformat": 4,
 "nbformat_minor": 0
}
