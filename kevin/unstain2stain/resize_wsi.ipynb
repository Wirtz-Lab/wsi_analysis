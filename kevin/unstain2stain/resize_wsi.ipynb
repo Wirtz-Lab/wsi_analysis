{
 "cells": [
  {
   "cell_type": "code",
   "execution_count": 1,
   "outputs": [],
   "source": [
    "# import os\n",
    "# vipshome = r'C:\\Users\\Kevin\\Downloads\\vips-dev-8.14\\bin'\n",
    "# os.environ['PATH'] = vipshome + ';' + os.environ['PATH']\n",
    "# import pyvips"
   ],
   "metadata": {
    "collapsed": false
   }
  },
  {
   "cell_type": "code",
   "execution_count": 14,
   "outputs": [
    {
     "ename": "OSError",
     "evalue": "cannot load library 'C:\\Users\\Kevin\\Downloads\\vips-dev-8.14\\bin\\libvips-42.dll': error 0x7f",
     "output_type": "error",
     "traceback": [
      "\u001B[1;31m---------------------------------------------------------------------------\u001B[0m",
      "\u001B[1;31mModuleNotFoundError\u001B[0m                       Traceback (most recent call last)",
      "File \u001B[1;32m~\\.conda\\envs\\wsi_analysis1\\lib\\site-packages\\pyvips\\__init__.py:19\u001B[0m\n\u001B[0;32m     18\u001B[0m \u001B[38;5;28;01mtry\u001B[39;00m:\n\u001B[1;32m---> 19\u001B[0m     \u001B[38;5;28;01mimport\u001B[39;00m \u001B[38;5;21;01m_libvips\u001B[39;00m\n\u001B[0;32m     21\u001B[0m     logger\u001B[38;5;241m.\u001B[39mdebug(\u001B[38;5;124m'\u001B[39m\u001B[38;5;124mLoaded binary module _libvips\u001B[39m\u001B[38;5;124m'\u001B[39m)\n",
      "\u001B[1;31mModuleNotFoundError\u001B[0m: No module named '_libvips'",
      "\nDuring handling of the above exception, another exception occurred:\n",
      "\u001B[1;31mOSError\u001B[0m                                   Traceback (most recent call last)",
      "Cell \u001B[1;32mIn[14], line 9\u001B[0m\n\u001B[0;32m      6\u001B[0m \u001B[38;5;28;01melse\u001B[39;00m:\n\u001B[0;32m      7\u001B[0m     os\u001B[38;5;241m.\u001B[39menviron[\u001B[38;5;124m\"\u001B[39m\u001B[38;5;124mPATH\u001B[39m\u001B[38;5;124m\"\u001B[39m] \u001B[38;5;241m=\u001B[39m os\u001B[38;5;241m.\u001B[39mpathsep\u001B[38;5;241m.\u001B[39mjoin((vipsbin, os\u001B[38;5;241m.\u001B[39menviron[\u001B[38;5;124m\"\u001B[39m\u001B[38;5;124mPATH\u001B[39m\u001B[38;5;124m\"\u001B[39m]))\n\u001B[1;32m----> 9\u001B[0m \u001B[38;5;28;01mimport\u001B[39;00m \u001B[38;5;21;01mpyvips\u001B[39;00m\n",
      "File \u001B[1;32m~\\.conda\\envs\\wsi_analysis1\\lib\\site-packages\\pyvips\\__init__.py:71\u001B[0m\n\u001B[0;32m     69\u001B[0m \u001B[38;5;66;03m# possibly use ctypes.util.find_library() to locate the lib?\u001B[39;00m\n\u001B[0;32m     70\u001B[0m gobject_lib \u001B[38;5;241m=\u001B[39m ffi\u001B[38;5;241m.\u001B[39mdlopen(_gobject_libname)\n\u001B[1;32m---> 71\u001B[0m vips_lib \u001B[38;5;241m=\u001B[39m \u001B[43mffi\u001B[49m\u001B[38;5;241;43m.\u001B[39;49m\u001B[43mdlopen\u001B[49m\u001B[43m(\u001B[49m\u001B[43m_vips_libname\u001B[49m\u001B[43m)\u001B[49m\n\u001B[0;32m     72\u001B[0m \u001B[38;5;28;01mif\u001B[39;00m _glib_libname:\n\u001B[0;32m     73\u001B[0m     glib_lib \u001B[38;5;241m=\u001B[39m ffi\u001B[38;5;241m.\u001B[39mdlopen(_glib_libname)\n",
      "File \u001B[1;32m~\\.conda\\envs\\wsi_analysis1\\lib\\site-packages\\cffi\\api.py:150\u001B[0m, in \u001B[0;36mFFI.dlopen\u001B[1;34m(self, name, flags)\u001B[0m\n\u001B[0;32m    147\u001B[0m     \u001B[38;5;28;01mraise\u001B[39;00m \u001B[38;5;167;01mTypeError\u001B[39;00m(\u001B[38;5;124m\"\u001B[39m\u001B[38;5;124mdlopen(name): name must be a file name, None, \u001B[39m\u001B[38;5;124m\"\u001B[39m\n\u001B[0;32m    148\u001B[0m                     \u001B[38;5;124m\"\u001B[39m\u001B[38;5;124mor an already-opened \u001B[39m\u001B[38;5;124m'\u001B[39m\u001B[38;5;124mvoid *\u001B[39m\u001B[38;5;124m'\u001B[39m\u001B[38;5;124m handle\u001B[39m\u001B[38;5;124m\"\u001B[39m)\n\u001B[0;32m    149\u001B[0m \u001B[38;5;28;01mwith\u001B[39;00m \u001B[38;5;28mself\u001B[39m\u001B[38;5;241m.\u001B[39m_lock:\n\u001B[1;32m--> 150\u001B[0m     lib, function_cache \u001B[38;5;241m=\u001B[39m \u001B[43m_make_ffi_library\u001B[49m\u001B[43m(\u001B[49m\u001B[38;5;28;43mself\u001B[39;49m\u001B[43m,\u001B[49m\u001B[43m \u001B[49m\u001B[43mname\u001B[49m\u001B[43m,\u001B[49m\u001B[43m \u001B[49m\u001B[43mflags\u001B[49m\u001B[43m)\u001B[49m\n\u001B[0;32m    151\u001B[0m     \u001B[38;5;28mself\u001B[39m\u001B[38;5;241m.\u001B[39m_function_caches\u001B[38;5;241m.\u001B[39mappend(function_cache)\n\u001B[0;32m    152\u001B[0m     \u001B[38;5;28mself\u001B[39m\u001B[38;5;241m.\u001B[39m_libraries\u001B[38;5;241m.\u001B[39mappend(lib)\n",
      "File \u001B[1;32m~\\.conda\\envs\\wsi_analysis1\\lib\\site-packages\\cffi\\api.py:832\u001B[0m, in \u001B[0;36m_make_ffi_library\u001B[1;34m(ffi, libname, flags)\u001B[0m\n\u001B[0;32m    830\u001B[0m \u001B[38;5;28;01mdef\u001B[39;00m \u001B[38;5;21m_make_ffi_library\u001B[39m(ffi, libname, flags):\n\u001B[0;32m    831\u001B[0m     backend \u001B[38;5;241m=\u001B[39m ffi\u001B[38;5;241m.\u001B[39m_backend\n\u001B[1;32m--> 832\u001B[0m     backendlib \u001B[38;5;241m=\u001B[39m \u001B[43m_load_backend_lib\u001B[49m\u001B[43m(\u001B[49m\u001B[43mbackend\u001B[49m\u001B[43m,\u001B[49m\u001B[43m \u001B[49m\u001B[43mlibname\u001B[49m\u001B[43m,\u001B[49m\u001B[43m \u001B[49m\u001B[43mflags\u001B[49m\u001B[43m)\u001B[49m\n\u001B[0;32m    833\u001B[0m     \u001B[38;5;66;03m#\u001B[39;00m\n\u001B[0;32m    834\u001B[0m     \u001B[38;5;28;01mdef\u001B[39;00m \u001B[38;5;21maccessor_function\u001B[39m(name):\n",
      "File \u001B[1;32m~\\.conda\\envs\\wsi_analysis1\\lib\\site-packages\\cffi\\api.py:828\u001B[0m, in \u001B[0;36m_load_backend_lib\u001B[1;34m(backend, name, flags)\u001B[0m\n\u001B[0;32m    826\u001B[0m         msg \u001B[38;5;241m=\u001B[39m \u001B[38;5;124m\"\u001B[39m\u001B[38;5;132;01m%s\u001B[39;00m\u001B[38;5;124m.  Additionally, \u001B[39m\u001B[38;5;132;01m%s\u001B[39;00m\u001B[38;5;124m\"\u001B[39m \u001B[38;5;241m%\u001B[39m (first_error, msg)\n\u001B[0;32m    827\u001B[0m     \u001B[38;5;28;01mraise\u001B[39;00m \u001B[38;5;167;01mOSError\u001B[39;00m(msg)\n\u001B[1;32m--> 828\u001B[0m \u001B[38;5;28;01mreturn\u001B[39;00m \u001B[43mbackend\u001B[49m\u001B[38;5;241;43m.\u001B[39;49m\u001B[43mload_library\u001B[49m\u001B[43m(\u001B[49m\u001B[43mpath\u001B[49m\u001B[43m,\u001B[49m\u001B[43m \u001B[49m\u001B[43mflags\u001B[49m\u001B[43m)\u001B[49m\n",
      "\u001B[1;31mOSError\u001B[0m: cannot load library 'C:\\Users\\Kevin\\Downloads\\vips-dev-8.14\\bin\\libvips-42.dll': error 0x7f"
     ]
    }
   ],
   "source": [
    "# import os\n",
    "# add_dll_dir = getattr(os, \"add_dll_directory\", None)\n",
    "# vipsbin = r'C:\\Users\\Kevin\\Downloads\\vips-dev-8.14\\bin'  # LibVIPS binary dir\n",
    "# if callable(add_dll_dir):\n",
    "#     add_dll_dir(vipsbin)\n",
    "# else:\n",
    "#     os.environ[\"PATH\"] = os.pathsep.join((vipsbin, os.environ[\"PATH\"]))\n",
    "#\n",
    "# import pyvips"
   ],
   "metadata": {
    "collapsed": false
   }
  },
  {
   "cell_type": "code",
   "execution_count": 1,
   "outputs": [],
   "source": [
    "# #importing openslide:\n",
    "# OPENSLIDE_PATH = r'C:\\Users\\Kevin\\Downloads\\openslide-win64-20221217\\bin'\n",
    "#\n",
    "# import os\n",
    "#\n",
    "# if hasattr(os, 'add_dll_directory'):\n",
    "#     # Python >= 3.8 on Windows\n",
    "#     with os.add_dll_directory(OPENSLIDE_PATH):\n",
    "#         import openslide\n",
    "# else:\n",
    "#     import openslide"
   ],
   "metadata": {
    "collapsed": false
   }
  },
  {
   "cell_type": "code",
   "execution_count": 9,
   "outputs": [
    {
     "ename": "OSError",
     "evalue": "cannot load library 'libvips-42.dll': error 0x7e.  Additionally, ctypes.util.find_library() did not manage to locate a library called 'libvips-42.dll'",
     "output_type": "error",
     "traceback": [
      "\u001B[1;31m---------------------------------------------------------------------------\u001B[0m",
      "\u001B[1;31mModuleNotFoundError\u001B[0m                       Traceback (most recent call last)",
      "File \u001B[1;32m~\\.conda\\envs\\wsi_analysis1\\lib\\site-packages\\pyvips\\__init__.py:19\u001B[0m\n\u001B[0;32m     18\u001B[0m \u001B[38;5;28;01mtry\u001B[39;00m:\n\u001B[1;32m---> 19\u001B[0m     \u001B[38;5;28;01mimport\u001B[39;00m \u001B[38;5;21;01m_libvips\u001B[39;00m\n\u001B[0;32m     21\u001B[0m     logger\u001B[38;5;241m.\u001B[39mdebug(\u001B[38;5;124m'\u001B[39m\u001B[38;5;124mLoaded binary module _libvips\u001B[39m\u001B[38;5;124m'\u001B[39m)\n",
      "\u001B[1;31mModuleNotFoundError\u001B[0m: No module named '_libvips'",
      "\nDuring handling of the above exception, another exception occurred:\n",
      "\u001B[1;31mOSError\u001B[0m                                   Traceback (most recent call last)",
      "Cell \u001B[1;32mIn[9], line 1\u001B[0m\n\u001B[1;32m----> 1\u001B[0m \u001B[38;5;28;01mimport\u001B[39;00m \u001B[38;5;21;01mpyvips\u001B[39;00m\n\u001B[0;32m      2\u001B[0m \u001B[38;5;28;01mfrom\u001B[39;00m \u001B[38;5;21;01mPIL\u001B[39;00m \u001B[38;5;28;01mimport\u001B[39;00m Image\n\u001B[0;32m      3\u001B[0m \u001B[38;5;28;01mimport\u001B[39;00m \u001B[38;5;21;01mnumpy\u001B[39;00m \u001B[38;5;28;01mas\u001B[39;00m \u001B[38;5;21;01mnp\u001B[39;00m\n",
      "File \u001B[1;32m~\\.conda\\envs\\wsi_analysis1\\lib\\site-packages\\pyvips\\__init__.py:71\u001B[0m\n\u001B[0;32m     69\u001B[0m \u001B[38;5;66;03m# possibly use ctypes.util.find_library() to locate the lib?\u001B[39;00m\n\u001B[0;32m     70\u001B[0m gobject_lib \u001B[38;5;241m=\u001B[39m ffi\u001B[38;5;241m.\u001B[39mdlopen(_gobject_libname)\n\u001B[1;32m---> 71\u001B[0m vips_lib \u001B[38;5;241m=\u001B[39m \u001B[43mffi\u001B[49m\u001B[38;5;241;43m.\u001B[39;49m\u001B[43mdlopen\u001B[49m\u001B[43m(\u001B[49m\u001B[43m_vips_libname\u001B[49m\u001B[43m)\u001B[49m\n\u001B[0;32m     72\u001B[0m \u001B[38;5;28;01mif\u001B[39;00m _glib_libname:\n\u001B[0;32m     73\u001B[0m     glib_lib \u001B[38;5;241m=\u001B[39m ffi\u001B[38;5;241m.\u001B[39mdlopen(_glib_libname)\n",
      "File \u001B[1;32m~\\.conda\\envs\\wsi_analysis1\\lib\\site-packages\\cffi\\api.py:150\u001B[0m, in \u001B[0;36mFFI.dlopen\u001B[1;34m(self, name, flags)\u001B[0m\n\u001B[0;32m    147\u001B[0m     \u001B[38;5;28;01mraise\u001B[39;00m \u001B[38;5;167;01mTypeError\u001B[39;00m(\u001B[38;5;124m\"\u001B[39m\u001B[38;5;124mdlopen(name): name must be a file name, None, \u001B[39m\u001B[38;5;124m\"\u001B[39m\n\u001B[0;32m    148\u001B[0m                     \u001B[38;5;124m\"\u001B[39m\u001B[38;5;124mor an already-opened \u001B[39m\u001B[38;5;124m'\u001B[39m\u001B[38;5;124mvoid *\u001B[39m\u001B[38;5;124m'\u001B[39m\u001B[38;5;124m handle\u001B[39m\u001B[38;5;124m\"\u001B[39m)\n\u001B[0;32m    149\u001B[0m \u001B[38;5;28;01mwith\u001B[39;00m \u001B[38;5;28mself\u001B[39m\u001B[38;5;241m.\u001B[39m_lock:\n\u001B[1;32m--> 150\u001B[0m     lib, function_cache \u001B[38;5;241m=\u001B[39m \u001B[43m_make_ffi_library\u001B[49m\u001B[43m(\u001B[49m\u001B[38;5;28;43mself\u001B[39;49m\u001B[43m,\u001B[49m\u001B[43m \u001B[49m\u001B[43mname\u001B[49m\u001B[43m,\u001B[49m\u001B[43m \u001B[49m\u001B[43mflags\u001B[49m\u001B[43m)\u001B[49m\n\u001B[0;32m    151\u001B[0m     \u001B[38;5;28mself\u001B[39m\u001B[38;5;241m.\u001B[39m_function_caches\u001B[38;5;241m.\u001B[39mappend(function_cache)\n\u001B[0;32m    152\u001B[0m     \u001B[38;5;28mself\u001B[39m\u001B[38;5;241m.\u001B[39m_libraries\u001B[38;5;241m.\u001B[39mappend(lib)\n",
      "File \u001B[1;32m~\\.conda\\envs\\wsi_analysis1\\lib\\site-packages\\cffi\\api.py:832\u001B[0m, in \u001B[0;36m_make_ffi_library\u001B[1;34m(ffi, libname, flags)\u001B[0m\n\u001B[0;32m    830\u001B[0m \u001B[38;5;28;01mdef\u001B[39;00m \u001B[38;5;21m_make_ffi_library\u001B[39m(ffi, libname, flags):\n\u001B[0;32m    831\u001B[0m     backend \u001B[38;5;241m=\u001B[39m ffi\u001B[38;5;241m.\u001B[39m_backend\n\u001B[1;32m--> 832\u001B[0m     backendlib \u001B[38;5;241m=\u001B[39m \u001B[43m_load_backend_lib\u001B[49m\u001B[43m(\u001B[49m\u001B[43mbackend\u001B[49m\u001B[43m,\u001B[49m\u001B[43m \u001B[49m\u001B[43mlibname\u001B[49m\u001B[43m,\u001B[49m\u001B[43m \u001B[49m\u001B[43mflags\u001B[49m\u001B[43m)\u001B[49m\n\u001B[0;32m    833\u001B[0m     \u001B[38;5;66;03m#\u001B[39;00m\n\u001B[0;32m    834\u001B[0m     \u001B[38;5;28;01mdef\u001B[39;00m \u001B[38;5;21maccessor_function\u001B[39m(name):\n",
      "File \u001B[1;32m~\\.conda\\envs\\wsi_analysis1\\lib\\site-packages\\cffi\\api.py:827\u001B[0m, in \u001B[0;36m_load_backend_lib\u001B[1;34m(backend, name, flags)\u001B[0m\n\u001B[0;32m    825\u001B[0m     \u001B[38;5;28;01mif\u001B[39;00m first_error \u001B[38;5;129;01mis\u001B[39;00m \u001B[38;5;129;01mnot\u001B[39;00m \u001B[38;5;28;01mNone\u001B[39;00m:\n\u001B[0;32m    826\u001B[0m         msg \u001B[38;5;241m=\u001B[39m \u001B[38;5;124m\"\u001B[39m\u001B[38;5;132;01m%s\u001B[39;00m\u001B[38;5;124m.  Additionally, \u001B[39m\u001B[38;5;132;01m%s\u001B[39;00m\u001B[38;5;124m\"\u001B[39m \u001B[38;5;241m%\u001B[39m (first_error, msg)\n\u001B[1;32m--> 827\u001B[0m     \u001B[38;5;28;01mraise\u001B[39;00m \u001B[38;5;167;01mOSError\u001B[39;00m(msg)\n\u001B[0;32m    828\u001B[0m \u001B[38;5;28;01mreturn\u001B[39;00m backend\u001B[38;5;241m.\u001B[39mload_library(path, flags)\n",
      "\u001B[1;31mOSError\u001B[0m: cannot load library 'libvips-42.dll': error 0x7e.  Additionally, ctypes.util.find_library() did not manage to locate a library called 'libvips-42.dll'"
     ]
    }
   ],
   "source": [
    "import pyvips\n",
    "from PIL import Image\n",
    "import numpy as np\n",
    "import os\n",
    "from time import time\n",
    "from natsort import natsorted\n",
    "import pandas as pd\n",
    "import time\n",
    "\n",
    "\n",
    "def svs2tiff(svs,rsf,svs_dst):\n",
    "    start = time.time()\n",
    "    if not os.path.exists(svs_dst): os.mkdir(svs_dst)\n",
    "    src,fn = os.path.split(svs)\n",
    "    fn,ext = os.path.splitext(fn)\n",
    "    fn1 = fn + '.ome.tiff'\n",
    "    if os.path.exists(os.path.join(svs_dst,fn1)): return\n",
    "    print(fn)\n",
    "\n",
    "    svs_obj = openslide.OpenSlide(svs)\n",
    "    svs_img = svs_obj.read_region(location=(0,0),level=0,size=svs_obj.level_dimensions[0]).convert('RGB')\n",
    "        # openslide will add an alpha ... drop it\n",
    "\n",
    "    resize_factorx = rsf/float(svs_obj.properties['openslide.mpp-x']) #8um = 1.25x #4um = 2.5x, #2um=5x, 1um=10x, 0.5um=20x, 0.25um=40x\n",
    "    resize_factory = rsf/float(svs_obj.properties['openslide.mpp-y'])\n",
    "\n",
    "    resize_dimension = tuple([int(np.ceil(svs_obj.dimensions[0]/resize_factorx)),int(np.ceil(svs_obj.dimensions[1]/resize_factory))])\n",
    "    svs_img = svs_img.resize(resize_dimension,resample=Image.NEAREST)\n",
    "\n",
    "\n",
    "    # pyvips\n",
    "    svs_img = pyvips.Image.new_from_array(obj = svs_img)\n",
    "    if svs_img.hasalpha():\n",
    "        svs_img = svs_img[:-1]\n",
    "    image_height = svs_img.height\n",
    "    image_bands = svs_img.bands\n",
    "\n",
    "    # split to separate image planes and stack vertically ready for OME\n",
    "    svs_img = pyvips.Image.arrayjoin(svs_img.bandsplit(), across=1)\n",
    "\n",
    "    # set minimal OME metadata\n",
    "    # before we can modify an image (set metadata in this case), we must take a\n",
    "    # private copy\n",
    "    svs_img = svs_img.copy()\n",
    "    svs_img.set_type(pyvips.GValue.gint_type, \"page-height\", image_height)\n",
    "    svs_img.set_type(pyvips.GValue.gstr_type, \"image-description\",\n",
    "                f\"\"\"<?xml version=\"1.0\" encoding=\"UTF-8\"?>\n",
    "    <OME xmlns=\"http://www.openmicroscopy.org/Schemas/OME/2016-06\"\n",
    "        xmlns:xsi=\"http://www.w3.org/2001/XMLSchema-instance\"\n",
    "        xsi:schemaLocation=\"http://www.openmicroscopy.org/Schemas/OME/2016-06 http://www.openmicroscopy.org/Schemas/OME/2016-06/ome.xsd\">\n",
    "        <Image ID=\"Image:0\">\n",
    "            <!-- Minimum required fields about image dimensions -->\n",
    "            <Pixels DimensionOrder=\"XYCZT\"\n",
    "                    ID=\"Pixels:0\"\n",
    "                    SizeC=\"{image_bands}\"\n",
    "                    SizeT=\"1\"\n",
    "                    SizeX=\"{im.width}\"\n",
    "                    SizeY=\"{image_height}\"\n",
    "                    SizeZ=\"1\"\n",
    "                    Type=\"uint8\">\n",
    "            </Pixels>\n",
    "        </Image>\n",
    "    </OME>\"\"\")\n",
    "\n",
    "    svs_img.tiffsave(os.path.join(svs_dst,fn1), compression=\"jpeg\", tile=True,\n",
    "                tile_width=512, tile_height=512,\n",
    "                pyramid=True, subifd=True)\n",
    "    print(\"Image sucessfully saved!\")\n",
    "    end = time.time()\n",
    "    print(\"Time it took to generate one ometiff from one ndpi: {} minutes\".format(round((end-start)/60)))"
   ],
   "metadata": {
    "collapsed": false
   }
  },
  {
   "cell_type": "code",
   "execution_count": null,
   "outputs": [],
   "source": [
    "import os\n",
    "from tqdm import tqdm\n",
    "# Define the input and output directories\n",
    "input_dir = r'\\\\shelter\\Kyu\\unstain2stain\\unstain2stain_wsi\\HE'\n",
    "output_dir = r'\\\\shelter\\Kyu\\unstain2stain\\unstain2stain_wsi\\HE\\1um'\n",
    "\n",
    "filenames = [x for x in os.listdir(input_dir) if x.endswith(\".ndpi\")]\n",
    "# Loop through all the files in the input directory\n",
    "for filename in tqdm(filenames,total=len(filenames),desc='Processed ndpis:',colour='red')\n",
    "    input_filepath = os.path.join(input_dir, filename)\n",
    "    output_filename = filename.split(\".\")[0] + \".ome.tiff\"\n",
    "    output_filepath = os.path.join(output_dir, output_filename)\n",
    "    svs2tiff(input_filepath, 1, output_filepath)\n"
   ],
   "metadata": {
    "collapsed": false
   }
  }
 ],
 "metadata": {
  "kernelspec": {
   "display_name": "Python 3",
   "language": "python",
   "name": "python3"
  },
  "language_info": {
   "codemirror_mode": {
    "name": "ipython",
    "version": 2
   },
   "file_extension": ".py",
   "mimetype": "text/x-python",
   "name": "python",
   "nbconvert_exporter": "python",
   "pygments_lexer": "ipython2",
   "version": "2.7.6"
  }
 },
 "nbformat": 4,
 "nbformat_minor": 0
}
