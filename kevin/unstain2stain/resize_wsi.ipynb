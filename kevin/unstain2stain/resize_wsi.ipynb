{
 "cells": [
  {
   "cell_type": "code",
   "execution_count": 1,
   "outputs": [],
   "source": [
    "import pyvips\n",
    "import openslide"
   ],
   "metadata": {
    "collapsed": false
   }
  },
  {
   "cell_type": "code",
   "execution_count": 2,
   "outputs": [],
   "source": [
    "from PIL import Image\n",
    "import numpy as np\n",
    "import os\n",
    "from tqdm import tqdm\n",
    "from natsort import natsorted\n",
    "\n",
    "def svs2tiff(svs,rsf,svs_dst):\n",
    "    if not os.path.exists(svs_dst): os.mkdir(svs_dst)\n",
    "    src,fn = os.path.split(svs)\n",
    "    fn,ext = os.path.splitext(fn)\n",
    "    fn1 = fn + '.ome.tiff'\n",
    "    if os.path.exists(os.path.join(svs_dst,fn1)): return\n",
    "    print('processing: ',fn)\n",
    "\n",
    "    svs_obj = openslide.OpenSlide(svs)\n",
    "    svs_img = svs_obj.read_region(location=(0,0),level=0,size=svs_obj.level_dimensions[0]).convert('RGB')\n",
    "    print('opened image: ',fn)\n",
    "\n",
    "    resize_factorx = rsf/float(svs_obj.properties['openslide.mpp-x']) #8um = 1.25x #4um = 2.5x, #2um=5x, 1um=10x, 0.5um=20x, 0.25um=40x\n",
    "    resize_factory = rsf/float(svs_obj.properties['openslide.mpp-y'])\n",
    "\n",
    "    resize_dimension = tuple([int(np.ceil(svs_obj.dimensions[0]/resize_factorx)),int(np.ceil(svs_obj.dimensions[1]/resize_factory))])\n",
    "    svs_img = svs_img.resize(resize_dimension,resample=Image.Resampling.NEAREST)\n",
    "    print('resized image: ',fn)\n",
    "\n",
    "    # pyvips\n",
    "    svs_img = pyvips.Image.new_from_array(obj = svs_img)\n",
    "    if svs_img.hasalpha():\n",
    "        svs_img = svs_img[:-1]\n",
    "    image_height = svs_img.height\n",
    "    image_width = svs_img.width\n",
    "    image_bands = svs_img.bands\n",
    "\n",
    "    # split to separate image planes and stack vertically ready for OME\n",
    "    svs_img = pyvips.Image.arrayjoin(svs_img.bandsplit(), across=1)\n",
    "\n",
    "    # set minimal OME metadata\n",
    "    # before we can modify an image (set metadata in this case), we must take a\n",
    "    # private copy\n",
    "    svs_img = svs_img.copy()\n",
    "    svs_img.set_type(pyvips.GValue.gint_type, \"page-height\", image_height)\n",
    "    svs_img.set_type(pyvips.GValue.gstr_type, \"image-description\",\n",
    "                f\"\"\"<?xml version=\"1.0\" encoding=\"UTF-8\"?>\n",
    "    <OME xmlns=\"http://www.openmicroscopy.org/Schemas/OME/2016-06\"\n",
    "        xmlns:xsi=\"http://www.w3.org/2001/XMLSchema-instance\"\n",
    "        xsi:schemaLocation=\"http://www.openmicroscopy.org/Schemas/OME/2016-06 http://www.openmicroscopy.org/Schemas/OME/2016-06/ome.xsd\">\n",
    "        <Image ID=\"Image:0\">\n",
    "            <!-- Minimum required fields about image dimensions -->\n",
    "            <Pixels DimensionOrder=\"XYCZT\"\n",
    "                    ID=\"Pixels:0\"\n",
    "                    SizeC=\"{image_bands}\"\n",
    "                    SizeT=\"1\"\n",
    "                    SizeX=\"{image_width}\"\n",
    "                    SizeY=\"{image_height}\"\n",
    "                    SizeZ=\"1\"\n",
    "                    Type=\"uint8\">\n",
    "            </Pixels>\n",
    "        </Image>\n",
    "    </OME>\"\"\")\n",
    "\n",
    "    #JPEG,JP2K,LZW,\n",
    "    svs_img.tiffsave(os.path.join(svs_dst,fn1), compression=\"jp2k\", tile=True,\n",
    "                tile_width=512, tile_height=512,\n",
    "                pyramid=True, subifd=True)\n",
    "    print(\"Image sucessfully saved!\")"
   ],
   "metadata": {
    "collapsed": false
   }
  },
  {
   "cell_type": "code",
   "execution_count": null,
   "outputs": [
    {
     "name": "stderr",
     "output_type": "stream",
     "text": [
      "Processed ndpis::   0%|\u001B[31m          \u001B[0m| 0/69 [00:00<?, ?it/s]"
     ]
    }
   ],
   "source": [
    "input_dir = '/Volumes/Kyu/unstain2stain/unstain2stain_wsi/HE'\n",
    "output_dir = os.path.join(input_dir,'1um')\n",
    "filenames = [x for x in os.listdir(input_dir) if x.endswith(\".ndpi\")]\n",
    "filenames = natsorted(filenames)\n",
    "# Loop through all the files in the input directory\n",
    "for filename in tqdm(filenames,total=len(filenames),desc='Processed ndpis:',colour='red'):\n",
    "    input_filepath = os.path.join(input_dir, filename)\n",
    "    svs2tiff(input_filepath, 1, output_dir)"
   ],
   "metadata": {
    "collapsed": false,
    "pycharm": {
     "is_executing": true
    }
   }
  },
  {
   "cell_type": "code",
   "execution_count": null,
   "outputs": [],
   "source": [
    "# test one image\n",
    "# input_dir = '/Volumes/Kyu/unstain2stain/unstain2stain_wsi/HE'\n",
    "# output_dir = os.path.join(input_dir,'1um')\n",
    "# svs2tiff('/Volumes/Kyu/unstain2stain/unstain2stain_wsi/HE/00_2362_he.ndpi', 1, output_dir)"
   ],
   "metadata": {
    "collapsed": false,
    "pycharm": {
     "is_executing": true
    }
   }
  }
 ],
 "metadata": {
  "kernelspec": {
   "display_name": "Python 3",
   "language": "python",
   "name": "python3"
  },
  "language_info": {
   "codemirror_mode": {
    "name": "ipython",
    "version": 2
   },
   "file_extension": ".py",
   "mimetype": "text/x-python",
   "name": "python",
   "nbconvert_exporter": "python",
   "pygments_lexer": "ipython2",
   "version": "2.7.6"
  }
 },
 "nbformat": 4,
 "nbformat_minor": 0
}
