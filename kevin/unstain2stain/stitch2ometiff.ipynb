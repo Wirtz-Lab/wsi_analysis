{
 "cells": [
  {
   "cell_type": "code",
   "execution_count": 2,
   "outputs": [],
   "source": [
    "#importing openslide:\n",
    "OPENSLIDE_PATH = r'C:\\Users\\Kevin\\Documents\\openslide-win64-20221217\\bin'\n",
    "\n",
    "import os\n",
    "\n",
    "if hasattr(os, 'add_dll_directory'):\n",
    "    # Python >= 3.8 on Windows\n",
    "    with os.add_dll_directory(OPENSLIDE_PATH):\n",
    "        import openslide\n",
    "else:\n",
    "    import openslide"
   ],
   "metadata": {
    "collapsed": false
   }
  },
  {
   "cell_type": "code",
   "execution_count": 4,
   "outputs": [],
   "source": [
    "import os\n",
    "vipshome = r'C:\\Users\\Kevin\\Documents\\vips-dev-8.14\\bin'\n",
    "os.environ['PATH'] = vipshome + ';' + os.environ['PATH']\n",
    "import pyvips"
   ],
   "metadata": {
    "collapsed": false
   }
  },
  {
   "cell_type": "code",
   "execution_count": 1,
   "outputs": [],
   "source": [
    "import numpy as np\n",
    "import os\n",
    "from PIL import Image\n",
    "Image.MAX_IMAGE_PIXELS = None\n",
    "import cv2\n",
    "import os\n",
    "from matplotlib import pyplot as plt\n",
    "from skimage.morphology import remove_small_objects, remove_small_holes\n",
    "from skimage.color import rgb2gray\n",
    "from skimage.transform import warp\n",
    "from skimage.registration import optical_flow_tvl1, optical_flow_ilk\n",
    "import xml.etree.ElementTree as ET\n",
    "import pandas as pd\n",
    "import skimage.measure\n",
    "import scipy.stats as stats\n",
    "import time\n",
    "import shutil\n",
    "from tqdm import tqdm\n",
    "from skimage.measure import label, regionprops_table"
   ],
   "metadata": {
    "collapsed": false
   }
  },
  {
   "cell_type": "code",
   "execution_count": 3,
   "outputs": [],
   "source": [
    "# src = r'\\\\shelter\\Kyu\\unstain2stain\\unstain2stain_wsi\\Unstained'\n",
    "# imnm = 'OTS_14684_3.ndpi'\n",
    "# imobj = openslide.open_slide(os.path.join(src,imnm))\n",
    "# imobj = imobj.read_region(location=(0,0),level=1,size=imobj.level_dimensions[1])\n",
    "# imobj.level_dimensions[1]"
   ],
   "metadata": {
    "collapsed": false
   }
  },
  {
   "cell_type": "code",
   "execution_count": 3,
   "outputs": [],
   "source": [
    "#wsi to tiles\n",
    "def reshape_split(image:np.ndarray,kernel_size:tuple):\n",
    "    img_height,img_width,channels=image.shape\n",
    "    tile_height,tile_width = kernel_size\n",
    "    tiled_array = image.reshape(img_height//tile_height,\n",
    "                                tile_height,\n",
    "                                img_width//tile_width,\n",
    "                                tile_width,\n",
    "                                channels)\n",
    "    tiled_array = tiled_array.swapaxes(1,2)\n",
    "    return tiled_array"
   ],
   "metadata": {
    "collapsed": false
   }
  },
  {
   "cell_type": "code",
   "execution_count": null,
   "outputs": [],
   "source": [
    "src = r'\\\\shelter\\Kyu\\unstain2stain\\unstain2stain_wsi\\Unstained'\n",
    "imnm = 'OTS_14832_3.ndpi'\n",
    "imobj = openslide.open_slide(os.path.join(src,imnm))\n",
    "imobj = imobj.read_region(location=(0,0),level=1,size=imobj.level_dimensions[1])\n",
    "\n",
    "# Image to Array\n",
    "imnp = np.array(imobj)\n",
    "imobj.close()\n",
    "h,w,_=imnp.shape\n",
    "tile_height, tile_width = (1024,1024)\n",
    "# Padding (so that it's in multiples of 1024)\n",
    "imnpr = np.pad(imnp, pad_width=[(0, tile_height-h%tile_height),(0, tile_width-w%tile_width),(0, 0)], mode='constant', constant_values=0)\n",
    "# imnpr = imnpr / 127.5 - 1 #normalize [-1 1]\n",
    "# imnpr = imnpr / 255 #normalize [0 1]\n",
    "img_height2,img_width2,channels=imnpr.shape\n",
    "# Tile\n",
    "tiles = reshape_split(imnpr, (1024,1024))"
   ],
   "metadata": {
    "collapsed": false
   }
  },
  {
   "cell_type": "code",
   "execution_count": 87,
   "outputs": [
    {
     "name": "stdout",
     "output_type": "stream",
     "text": [
      "(54, 111, 1024, 1024, 4)\n"
     ]
    }
   ],
   "source": [
    "print(tiles.shape)\n",
    "nrows = tiles.shape[0]\n",
    "ncols = tiles.shape[1]"
   ],
   "metadata": {
    "collapsed": false
   }
  },
  {
   "cell_type": "code",
   "execution_count": 88,
   "outputs": [
    {
     "data": {
      "text/plain": "(54912, 113280, 4)"
     },
     "execution_count": 88,
     "metadata": {},
     "output_type": "execute_result"
    }
   ],
   "source": [
    "imnp.shape"
   ],
   "metadata": {
    "collapsed": false
   }
  },
  {
   "cell_type": "code",
   "execution_count": 89,
   "outputs": [
    {
     "data": {
      "text/plain": "(55296, 113664, 4)"
     },
     "execution_count": 89,
     "metadata": {},
     "output_type": "execute_result"
    }
   ],
   "source": [
    "imnpr.shape"
   ],
   "metadata": {
    "collapsed": false
   }
  },
  {
   "cell_type": "code",
   "execution_count": 15,
   "outputs": [],
   "source": [
    "# save_src = r'\\\\shelter\\Kyu\\unstain2stain\\tiles\\not_registrated\\Unstained'\n",
    "# for idx in range(0,tiles.shape[0]):\n",
    "#     for idx1 in range(0,tiles.shape[1]):\n",
    "#         tmp_tile = tiles[idx][idx1]\n",
    "#         save_path = os.path.join(save_src,str(idx)+str(idx1)+'tile'+'.png')\n",
    "#         Image.fromarray(tmp_tile).save(save_path)"
   ],
   "metadata": {
    "collapsed": false
   }
  },
  {
   "cell_type": "code",
   "execution_count": 16,
   "outputs": [],
   "source": [
    "src = r'\\\\shelter\\Kyu\\unstain2stain\\unstain2stain_wsi\\HE'\n",
    "imnm = 'OTS_14832_3_he.ndpi'\n",
    "imobj = openslide.open_slide(os.path.join(src,imnm))\n",
    "imobj = imobj.read_region(location=(0,0),level=1,size=imobj.level_dimensions[1])\n",
    "# Image to Array\n",
    "imnp = np.array(imobj)\n",
    "imobj.close()\n",
    "h,w,_=imnp.shape\n",
    "tile_height, tile_width = (1024,1024)\n",
    "# Padding\n",
    "imnpr = np.pad(imnp, pad_width=[(0, tile_height-h%tile_height),(0, tile_width-w%tile_width),(0, 0)], mode='constant', constant_values=0)\n",
    "# imnpr = imnpr / 127.5 - 1 #normalize [-1 1]\n",
    "# imnpr = imnpr / 255 #normalize [0 1]\n",
    "img_height2,img_width2,channels=imnpr.shape\n",
    "# Tile\n",
    "tiles = reshape_split(imnpr, (1024,1024))"
   ],
   "metadata": {
    "collapsed": false
   }
  },
  {
   "cell_type": "code",
   "execution_count": 18,
   "outputs": [],
   "source": [
    "# save_src = r'\\\\shelter\\Kyu\\unstain2stain\\tiles\\not_registrated\\HE'\n",
    "# for idx in range(0,tiles.shape[0]):\n",
    "#     for idx1 in range(0,tiles.shape[1]):\n",
    "#         tmp_tile = tiles[idx][idx1]\n",
    "#         save_path = os.path.join(save_src,str(idx)+str(idx1)+'tile'+'.png')\n",
    "#         Image.fromarray(tmp_tile).save(save_path)"
   ],
   "metadata": {
    "collapsed": false
   }
  },
  {
   "cell_type": "markdown",
   "source": [
    "### The tile generation code above is unregistered, I ran a code in matlab to generate the registered tiles, which have almost the same # of tiles, except that there are some missing images. Find the difference:"
   ],
   "metadata": {
    "collapsed": false
   }
  },
  {
   "cell_type": "code",
   "execution_count": 90,
   "outputs": [],
   "source": [
    "stain_tile_src = r'\\\\shelter\\Kyu\\unstain2stain\\tiles\\registrated_tiles\\HE\\OTS_14832_3_he'\n",
    "unstain_tile_src = r'\\\\shelter\\Kyu\\unstain2stain\\tiles\\registrated_tiles\\Unstained\\OTS_14832_3'"
   ],
   "metadata": {
    "collapsed": false
   }
  },
  {
   "cell_type": "code",
   "execution_count": 91,
   "outputs": [],
   "source": [
    "unstain_tile_name = os.listdir(unstain_tile_src)\n",
    "stain_tile_name = os.listdir(stain_tile_src)"
   ],
   "metadata": {
    "collapsed": false
   }
  },
  {
   "cell_type": "code",
   "execution_count": 92,
   "outputs": [
    {
     "name": "stdout",
     "output_type": "stream",
     "text": [
      "10996\n",
      "10996\n"
     ]
    }
   ],
   "source": [
    "print(len(stain_tile_name))\n",
    "print(len(unstain_tile_name))"
   ],
   "metadata": {
    "collapsed": false
   }
  },
  {
   "cell_type": "code",
   "execution_count": 93,
   "outputs": [],
   "source": [
    "unstain_tile_base = [os.path.basename(x) for x in unstain_tile_name]\n",
    "stain_tile_base = [os.path.basename(x) for x in stain_tile_name]\n",
    "unstain_list = [ x[-10:-4] for x in unstain_tile_base]\n",
    "stain_list = [ x[-10:-4] for x in stain_tile_base]"
   ],
   "metadata": {
    "collapsed": false
   }
  },
  {
   "cell_type": "code",
   "execution_count": 94,
   "outputs": [
    {
     "data": {
      "text/plain": "[]"
     },
     "execution_count": 94,
     "metadata": {},
     "output_type": "execute_result"
    }
   ],
   "source": [
    "not_in_stain = [x for x in unstain_list if x not in stain_list]\n",
    "not_in_stain"
   ],
   "metadata": {
    "collapsed": false
   }
  },
  {
   "cell_type": "markdown",
   "source": [
    "### Found the three differences- delete them from unstained, and run inference on pix2pix project."
   ],
   "metadata": {
    "collapsed": false
   }
  },
  {
   "cell_type": "markdown",
   "source": [
    "# After inference on pix2pix, first select only wanted tiles (only fake) and save these inferred tiles to the server:"
   ],
   "metadata": {
    "collapsed": false
   }
  },
  {
   "cell_type": "code",
   "execution_count": 3,
   "outputs": [
    {
     "name": "stdout",
     "output_type": "stream",
     "text": [
      "9890\n"
     ]
    }
   ],
   "source": [
    "inferred_src = r'C:\\Users\\Kevin\\PycharmProjects\\pix2pix\\pytorch-CycleGAN-and-pix2pix\\results\\unstain2stain_cyclegan\\test_pix2pix_latest\\images' # always output inference is this filepath\n",
    "inferred_list = os.listdir(inferred_src)\n",
    "inferred_name = [os.path.basename(x) for x in inferred_list]\n",
    "real_inferred2 = [x for x in inferred_name if x[-8:-4]  == 'fake']\n",
    "real_inferred_src = [os.path.join(inferred_src,x) for x in real_inferred2]\n",
    "print(len(real_inferred_src)) #check expected value"
   ],
   "metadata": {
    "collapsed": false
   }
  },
  {
   "cell_type": "code",
   "execution_count": 4,
   "outputs": [
    {
     "data": {
      "text/plain": "'C:\\\\Users\\\\Kevin\\\\PycharmProjects\\\\pix2pix\\\\pytorch-CycleGAN-and-pix2pix\\\\results\\\\unstain2stain_cyclegan\\\\test_pix2pix_latest\\\\images\\\\100879_10382xy5425_fake.png'"
     },
     "execution_count": 4,
     "metadata": {},
     "output_type": "execute_result"
    }
   ],
   "source": [
    "real_inferred_src[0]"
   ],
   "metadata": {
    "collapsed": false
   }
  },
  {
   "cell_type": "code",
   "execution_count": 5,
   "outputs": [
    {
     "name": "stderr",
     "output_type": "stream",
     "text": [
      "Number of images processed: 100%|\u001B[31m██████████\u001B[0m| 9890/9890 [26:36<00:00,  6.20it/s]\n"
     ]
    }
   ],
   "source": [
    "# move the list of inferred_src to server:\n",
    "destination = r'\\\\shelter\\Kyu\\unstain2stain\\generated_fake_images\\inferred_tiles\\fake_OTS_14832_4he'\n",
    "\n",
    "for idx in tqdm(real_inferred_src,desc=\"Number of images processed\", colour = 'red'):\n",
    "    shutil.copy(idx, destination)"
   ],
   "metadata": {
    "collapsed": false
   }
  },
  {
   "cell_type": "code",
   "execution_count": 6,
   "outputs": [
    {
     "data": {
      "text/plain": "9890"
     },
     "execution_count": 6,
     "metadata": {},
     "output_type": "execute_result"
    }
   ],
   "source": [
    "len(os.listdir(destination))"
   ],
   "metadata": {
    "collapsed": false
   }
  },
  {
   "cell_type": "markdown",
   "source": [
    "# ENTIRE WORKFLOW TO STITCH TILES TO WHOLE SLIDE IMAGE:"
   ],
   "metadata": {
    "collapsed": false
   }
  },
  {
   "cell_type": "code",
   "execution_count": 1,
   "outputs": [],
   "source": [
    "import os\n",
    "\n",
    "vipshome = r'C:\\Users\\Kevin\\Downloads\\vips-dev-8.14\\bin' #download libvips for windows, this is the bin path\n",
    "os.environ['PATH'] = vipshome + ';' + os.environ['PATH']\n",
    "import pyvips\n",
    "import numpy as np\n",
    "import os\n",
    "from PIL import Image\n",
    "\n",
    "Image.MAX_IMAGE_PIXELS = None\n",
    "import cv2\n",
    "import os\n",
    "from skimage.transform import warp\n",
    "from skimage.registration import optical_flow_tvl1, optical_flow_ilk\n",
    "import xml.etree.ElementTree as ET\n",
    "import pandas as pd\n",
    "import time\n",
    "import shutil\n",
    "from tqdm import tqdm"
   ],
   "metadata": {
    "collapsed": false
   }
  },
  {
   "cell_type": "code",
   "execution_count": 2,
   "outputs": [],
   "source": [
    "def return_row_col(image_dir):\n",
    "    imlist = [x for x in os.listdir(image_dir) if x.endswith('.png')]\n",
    "    min_x = float('inf')\n",
    "    min_y = float('inf')\n",
    "    max_x = float('-inf')\n",
    "    max_y = float('-inf')\n",
    "    start = time.time()\n",
    "    for filename in tqdm(imlist, desc=\"Number of images processed\", colour = 'red'):\n",
    "        x, y = map(int, filename.split('xy')[0].split('.png')[0].split('_'))\n",
    "        if x < min_x:\n",
    "            min_x = x\n",
    "        if y < min_y:\n",
    "            min_y = y\n",
    "        if x > max_x:\n",
    "            max_x = x\n",
    "        if y > max_y:\n",
    "            max_y = y\n",
    "    end = time.time()\n",
    "    max_min_ra = min_x, min_y, max_x, max_y\n",
    "    num_row = int((max_x + 1024 - min_x)/1024)\n",
    "    num_col = int((max_y + 1024 - min_y)/1024)\n",
    "    print(\"time it took: {} minutes\".format((round(end-start)/60),3))\n",
    "    return max_min_ra, num_row, num_col"
   ],
   "metadata": {
    "collapsed": false
   }
  },
  {
   "cell_type": "code",
   "execution_count": 8,
   "outputs": [
    {
     "name": "stderr",
     "output_type": "stream",
     "text": [
      "Number of images processed: 100%|\u001B[31m██████████\u001B[0m| 9890/9890 [00:00<00:00, 1648321.81it/s]"
     ]
    },
    {
     "name": "stdout",
     "output_type": "stream",
     "text": [
      "time it took: 0.0 minutes\n",
      "min_x is 36367, min_y is 4238, num_row is 115, num_col is 86\n"
     ]
    },
    {
     "name": "stderr",
     "output_type": "stream",
     "text": [
      "\n"
     ]
    }
   ],
   "source": [
    "# destination = r'\\\\shelter\\Kyu\\unstain2stain\\generated_fake_images\\inferred_tiles\\fake_OTS_14832_4he'\n",
    "# tile_src = destination\n",
    "# max_min_ra, num_row, num_col = return_row_col(tile_src)\n",
    "# min_x = max_min_ra[0]\n",
    "# min_y = max_min_ra[1]\n",
    "# print(\"min_x is {}, min_y is {}, num_row is {}, num_col is {}\".format(min_x, min_y, num_row, num_col))"
   ],
   "metadata": {
    "collapsed": false
   }
  },
  {
   "cell_type": "code",
   "execution_count": 3,
   "outputs": [],
   "source": [
    "def generate_5d_array(image_dir, min_x, min_y, num_rows, num_cols):\n",
    "    array_5d = np.zeros((num_cols,num_rows, 1024, 1024, 3), dtype=np.uint8)\n",
    "    imlist = [x for x in os.listdir(image_dir) if x.endswith('.png')]\n",
    "    start = time.time()\n",
    "    for filename in tqdm(imlist, desc=\"Number of images processed\", colour = 'red'):\n",
    "        x, y = map(int, filename.split('xy')[0].split('.png')[0].split('_'))\n",
    "        x = int((x-min_x)/1024)\n",
    "        y = int((y-min_y)/1024)\n",
    "        image = Image.open(os.path.join(image_dir, filename))\n",
    "        image = np.array(image)\n",
    "        array_5d[y,x, :, :, :] = image\n",
    "    end = time.time()\n",
    "    print(\"time it took: {} minutes\".format((round(end-start)/60),3))\n",
    "    return array_5d"
   ],
   "metadata": {
    "collapsed": false
   }
  },
  {
   "cell_type": "code",
   "execution_count": 10,
   "outputs": [
    {
     "name": "stderr",
     "output_type": "stream",
     "text": [
      "Number of images processed: 100%|\u001B[31m██████████\u001B[0m| 9890/9890 [34:40<00:00,  4.75it/s]  "
     ]
    },
    {
     "name": "stdout",
     "output_type": "stream",
     "text": [
      "time it took: 34.666666666666664 minutes\n",
      "shape of tiles is (86, 115, 1024, 1024, 3)\n"
     ]
    },
    {
     "name": "stderr",
     "output_type": "stream",
     "text": [
      "\n"
     ]
    }
   ],
   "source": [
    "# tiles = generate_5d_array(image_dir = tile_src,min_x = min_x,min_y = min_y,num_rows = num_row,num_cols = num_col)\n",
    "# print(\"shape of tiles is {}\".format(tiles.shape))"
   ],
   "metadata": {
    "collapsed": false
   }
  },
  {
   "cell_type": "code",
   "execution_count": 11,
   "outputs": [
    {
     "name": "stdout",
     "output_type": "stream",
     "text": [
      "shape of reconstructed wsi is (88064, 117760, 3)\n"
     ]
    }
   ],
   "source": [
    "# stitched_wsi = np.reshape(tiles.swapaxes(1,2),(1024*num_col,1024*num_row,3))\n",
    "# print(\"shape of reconstructed wsi is {}\".format(stitched_wsi.shape))"
   ],
   "metadata": {
    "collapsed": false
   }
  },
  {
   "cell_type": "code",
   "execution_count": 12,
   "outputs": [
    {
     "name": "stdout",
     "output_type": "stream",
     "text": [
      "imheight imwidth 88064 117760\n",
      "time it took to set ometiff up took 0.0 minutes\n",
      "time it took to save ometiff took 7.55 minutes\n"
     ]
    }
   ],
   "source": [
    "# start = time.time()\n",
    "# im = pyvips.Image.new_from_array(stitched_wsi)\n",
    "# image_height = im.height\n",
    "# image_bands = im.bands\n",
    "# print(\"imheight imwidth\",image_height, im.width)\n",
    "# im = im.copy()\n",
    "# im.set_type(pyvips.GValue.gint_type, \"page-height\", image_height)\n",
    "# im.set_type(pyvips.GValue.gstr_type, \"image-description\",\n",
    "#             f\"\"\"<?xml version=\"1.0\" encoding=\"UTF-8\"?>\n",
    "# <OME xmlns=\"http://www.openmicroscopy.org/Schemas/OME/2016-06\"\n",
    "#     xmlns:xsi=\"http://www.w3.org/2001/XMLSchema-instance\"\n",
    "#     xsi:schemaLocation=\"http://www.openmicroscopy.org/Schemas/OME/2016-06 http://www.openmicroscopy.org/Schemas/OME/2016-06/ome.xsd\">\n",
    "#     <Image ID=\"Image:0\">\n",
    "#         <!-- Minimum required fields about image dimensions -->\n",
    "#         <Pixels DimensionOrder=\"XYCZT\"\n",
    "#                 ID=\"Pixels:0\"\n",
    "#                 SizeC=\"{image_bands}\"\n",
    "#                 SizeT=\"1\"\n",
    "#                 SizeX=\"{im.width}\"\n",
    "#                 SizeY=\"{image_height}\"\n",
    "#                 SizeZ=\"1\"\n",
    "#                 Type=\"uint8\">\n",
    "#         </Pixels>\n",
    "#     </Image>\n",
    "# </OME>\"\"\")\n",
    "# src = r'\\\\shelter\\Kyu\\unstain2stain\\generated_fake_images\\fake_images'\n",
    "# end = time.time()\n",
    "# print(\"time it took to set ometiff up took {} minutes\".format((round(end-start)/60),3))\n",
    "#\n",
    "# start = time.time()\n",
    "# im.tiffsave(os.path.join(src, 'cyclegan_OTS_14832_4_fake_HE.ome.tiff'), compression=\"jpeg\", tile=True, tile_width=512,\n",
    "#             tile_height=512, pyramid=True, subifd=True)\n",
    "# end = time.time()\n",
    "# print(\"time it took to save ometiff took {} minutes\".format((round(end-start)/60),3))"
   ],
   "metadata": {
    "collapsed": false
   }
  },
  {
   "cell_type": "code",
   "execution_count": null,
   "outputs": [],
   "source": [],
   "metadata": {
    "collapsed": false
   }
  },
  {
   "cell_type": "code",
   "execution_count": 4,
   "outputs": [
    {
     "name": "stderr",
     "output_type": "stream",
     "text": [
      "Number of images processed: 100%|\u001B[31m██████████\u001B[0m| 13774/13774 [00:00<00:00, 1967789.89it/s]\n"
     ]
    },
    {
     "name": "stdout",
     "output_type": "stream",
     "text": [
      "time it took: 0.0 minutes\n",
      "min_x is 1126, min_y is 1126, num_row is 145, num_col is 95\n"
     ]
    },
    {
     "name": "stderr",
     "output_type": "stream",
     "text": [
      "Number of images processed: 100%|\u001B[31m██████████\u001B[0m| 13774/13774 [10:54<00:00, 21.04it/s]\n"
     ]
    },
    {
     "name": "stdout",
     "output_type": "stream",
     "text": [
      "time it took: 10.916666666666666 minutes\n",
      "shape of tiles is (95, 145, 1024, 1024, 3)\n",
      "shape of reconstructed wsi is (97280, 148480, 3)\n"
     ]
    }
   ],
   "source": [
    "### Applying above stitch workflow to create a reconstructed ometiff from registered tiles (not inferred tiles):\n",
    "tile_src = r'\\\\shelter\\Kyu\\unstain2stain\\tiles\\registrated_tiles\\HE\\OTS_14832_10_he'\n",
    "max_min_ra, num_row, num_col = return_row_col(tile_src)\n",
    "min_x = max_min_ra[0]\n",
    "min_y = max_min_ra[1]\n",
    "print(\"min_x is {}, min_y is {}, num_row is {}, num_col is {}\".format(min_x, min_y, num_row, num_col))\n",
    "\n",
    "tiles = generate_5d_array(image_dir = tile_src,min_x = min_x,min_y = min_y,num_rows = num_row,num_cols = num_col)\n",
    "print(\"shape of tiles is {}\".format(tiles.shape))\n",
    "\n",
    "stitched_wsi = np.reshape(tiles.swapaxes(1,2),(1024*num_col,1024*num_row,3))\n",
    "print(\"shape of reconstructed wsi is {}\".format(stitched_wsi.shape))"
   ],
   "metadata": {
    "collapsed": false
   }
  },
  {
   "cell_type": "code",
   "execution_count": 5,
   "outputs": [
    {
     "name": "stdout",
     "output_type": "stream",
     "text": [
      "imheight imwidth 97280 148480\n",
      "time it took to set ometiff up took 0.0 minutes\n",
      "time it took to save ometiff took 9.333333333333334 minutes\n"
     ]
    }
   ],
   "source": [
    "start = time.time()\n",
    "im = pyvips.Image.new_from_array(stitched_wsi)\n",
    "image_height = im.height\n",
    "image_bands = im.bands\n",
    "print(\"imheight imwidth\",image_height, im.width)\n",
    "im = im.copy()\n",
    "im.set_type(pyvips.GValue.gint_type, \"page-height\", image_height)\n",
    "im.set_type(pyvips.GValue.gstr_type, \"image-description\",\n",
    "            f\"\"\"<?xml version=\"1.0\" encoding=\"UTF-8\"?>\n",
    "<OME xmlns=\"http://www.openmicroscopy.org/Schemas/OME/2016-06\"\n",
    "    xmlns:xsi=\"http://www.w3.org/2001/XMLSchema-instance\"\n",
    "    xsi:schemaLocation=\"http://www.openmicroscopy.org/Schemas/OME/2016-06 http://www.openmicroscopy.org/Schemas/OME/2016-06/ome.xsd\">\n",
    "    <Image ID=\"Image:0\">\n",
    "        <!-- Minimum required fields about image dimensions -->\n",
    "        <Pixels DimensionOrder=\"XYCZT\"\n",
    "                ID=\"Pixels:0\"\n",
    "                SizeC=\"{image_bands}\"\n",
    "                SizeT=\"1\"\n",
    "                SizeX=\"{im.width}\"\n",
    "                SizeY=\"{image_height}\"\n",
    "                SizeZ=\"1\"\n",
    "                Type=\"uint8\">\n",
    "        </Pixels>\n",
    "    </Image>\n",
    "</OME>\"\"\")\n",
    "savesrc = r'\\\\shelter\\Kyu\\unstain2stain\\tiles\\registered_stitched'\n",
    "end = time.time()\n",
    "print(\"time it took to set ometiff up took {} minutes\".format((round(end-start)/60),3))\n",
    "\n",
    "start = time.time()\n",
    "im.tiffsave(os.path.join(savesrc, 'OTS_14832_10_he.ome.tiff'), compression=\"jpeg\", tile=True, tile_width=512,\n",
    "            tile_height=512, pyramid=True, subifd=True)\n",
    "end = time.time()\n",
    "print(\"time it took to save ometiff took {} minutes\".format((round(end-start)/60),3))"
   ],
   "metadata": {
    "collapsed": false
   }
  },
  {
   "cell_type": "markdown",
   "source": [
    "# STITCH WORKFLOW IN ONE FUNCTION:"
   ],
   "metadata": {
    "collapsed": false
   }
  },
  {
   "cell_type": "code",
   "execution_count": 1,
   "outputs": [],
   "source": [
    "import os\n",
    "vipshome = r'C:\\Users\\Kevin\\Documents\\vips-dev-8.14\\bin' #download libvips for windows, this is the bin path\n",
    "os.environ['PATH'] = vipshome + ';' + os.environ['PATH']\n",
    "import pyvips\n",
    "import numpy as np\n",
    "from PIL import Image\n",
    "Image.MAX_IMAGE_PIXELS = None\n",
    "import time\n",
    "import shutil\n",
    "from tqdm import tqdm\n",
    "\n",
    "def stitch_tiles_to_ometiff(tile_dir,ometiff_save_dir, ometiff_name):\n",
    "    imlist = [x for x in os.listdir(tile_dir) if x.endswith('.png')]\n",
    "    min_x = float('inf')\n",
    "    min_y = float('inf')\n",
    "    max_x = float('-inf')\n",
    "    max_y = float('-inf')\n",
    "    start = time.time()\n",
    "    print(\"counting number of rows and columns to stitch\")\n",
    "    for filename in tqdm(imlist, desc=\"Number of images processed\", colour = 'red'):\n",
    "        x, y = map(int, filename.split('xy')[0].split('.png')[0].split('_'))\n",
    "        if x < min_x:\n",
    "            min_x = x\n",
    "        if y < min_y:\n",
    "            min_y = y\n",
    "        if x > max_x:\n",
    "            max_x = x\n",
    "        if y > max_y:\n",
    "            max_y = y\n",
    "    num_row = int((max_x + 1024 - min_x)/1024)\n",
    "    num_col = int((max_y + 1024 - min_y)/1024)\n",
    "    array_5d = np.zeros((num_col,num_row, 1024, 1024, 3), dtype=np.uint8)\n",
    "    print(\"stitching images\")\n",
    "    for filename in tqdm(imlist, desc=\"Number of images processed\", colour = 'red'):\n",
    "        x, y = map(int, filename.split('xy')[0].split('.png')[0].split('_'))\n",
    "        x = int((x-min_x)/1024)\n",
    "        y = int((y-min_y)/1024)\n",
    "        image = Image.open(os.path.join(tile_dir, filename))\n",
    "        image = np.array(image)\n",
    "        array_5d[y,x, :, :, :] = image\n",
    "    stitched_wsi = np.reshape(array_5d.swapaxes(1,2),(1024*num_col,1024*num_row,3))\n",
    "    print(\"shape of reconstructed wsi is {}\".format(stitched_wsi.shape))\n",
    "    end = time.time()\n",
    "    print(\"time it took to create reconstructed wsi is: {} minutes\".format((round(end-start)/60),3))\n",
    "    print(\"--- saving as ometiff ---\")\n",
    "    start = time.time()\n",
    "    im = pyvips.Image.new_from_array(stitched_wsi)\n",
    "    image_height = im.height\n",
    "    image_bands = im.bands\n",
    "    im = im.copy()\n",
    "    im.set_type(pyvips.GValue.gint_type, \"page-height\", image_height)\n",
    "    im.set_type(pyvips.GValue.gstr_type, \"image-description\",\n",
    "                f\"\"\"<?xml version=\"1.0\" encoding=\"UTF-8\"?>\n",
    "    <OME xmlns=\"http://www.openmicroscopy.org/Schemas/OME/2016-06\"\n",
    "        xmlns:xsi=\"http://www.w3.org/2001/XMLSchema-instance\"\n",
    "        xsi:schemaLocation=\"http://www.openmicroscopy.org/Schemas/OME/2016-06 http://www.openmicroscopy.org/Schemas/OME/2016-06/ome.xsd\">\n",
    "        <Image ID=\"Image:0\">\n",
    "            <!-- Minimum required fields about image dimensions -->\n",
    "            <Pixels DimensionOrder=\"XYCZT\"\n",
    "                    ID=\"Pixels:0\"\n",
    "                    SizeC=\"{image_bands}\"\n",
    "                    SizeT=\"1\"\n",
    "                    SizeX=\"{im.width}\"\n",
    "                    SizeY=\"{image_height}\"\n",
    "                    SizeZ=\"1\"\n",
    "                    Type=\"uint8\">\n",
    "            </Pixels>\n",
    "        </Image>\n",
    "    </OME>\"\"\")\n",
    "\n",
    "    im.tiffsave(os.path.join(ometiff_save_dir, ometiff_name), compression=\"jpeg\", tile=True, tile_width=512,\n",
    "                tile_height=512, pyramid=True, subifd=True)\n",
    "    end = time.time()\n",
    "    print(\"time it took to save ometiff took {} minutes\".format((round(end-start)/60),3))\n",
    "    print(\"ometiff saved successfully!\")"
   ],
   "metadata": {
    "collapsed": false
   }
  },
  {
   "cell_type": "code",
   "execution_count": 4,
   "outputs": [
    {
     "name": "stdout",
     "output_type": "stream",
     "text": [
      "counting number of rows and columns to stitch\n"
     ]
    },
    {
     "name": "stderr",
     "output_type": "stream",
     "text": [
      "Number of images processed: 100%|\u001B[31m██████████\u001B[0m| 10545/10545 [00:00<00:00, 1763232.96it/s]\n"
     ]
    },
    {
     "name": "stdout",
     "output_type": "stream",
     "text": [
      "stitching images\n"
     ]
    },
    {
     "name": "stderr",
     "output_type": "stream",
     "text": [
      "Number of images processed: 100%|\u001B[31m██████████\u001B[0m| 10545/10545 [09:48<00:00, 17.92it/s]\n"
     ]
    },
    {
     "name": "stdout",
     "output_type": "stream",
     "text": [
      "shape of reconstructed wsi is (97280, 113664, 3)\n",
      "time it took to create reconstructed wsi is: 9.983333333333333 minutes\n",
      "--- saving as ometiff ---\n",
      "time it took to save ometiff took 7.166666666666667 minutes\n",
      "ometiff saved successfully!\n"
     ]
    }
   ],
   "source": [
    "stitch_tiles_to_ometiff(tile_dir = r'\\\\shelter\\Kyu\\unstain2stain\\tiles\\registered_tiles\\US\\OTS_14684_7', ometiff_save_dir = r'\\\\shelter\\Kyu\\unstain2stain\\tiles\\registered_stitched\\US',ometiff_name = 'OTS_14684_7.ome.tiff')# os.path.join ometiff_save_dir, ometiff_name = full save path"
   ],
   "metadata": {
    "collapsed": false
   }
  },
  {
   "cell_type": "markdown",
   "source": [
    "### Try registering the two tiles with optical flow to compare with matlab rigid registration:\n"
   ],
   "metadata": {
    "collapsed": false
   }
  },
  {
   "cell_type": "code",
   "execution_count": 11,
   "outputs": [],
   "source": [
    "def registrate_two_images(reference_image_path, moving_image_path, save_path):\n",
    "    \"\"\"\n",
    "    Note: The order of the files saved in the ref_img_path and mov_img_path must be the same so that you are registering the same images!\n",
    "    \"\"\"\n",
    "    ref_img_path = [_ for _ in os.listdir(reference_image_path) if _.endswith(\".png\")]\n",
    "    ref_img_path_complete = [os.path.join(reference_image_path, x) for x in ref_img_path]\n",
    "    mov_img_path = [_ for _ in os.listdir(moving_image_path) if _.endswith(\".png\")]\n",
    "    mov_img_path_complete = [os.path.join(moving_image_path, x) for x in mov_img_path]\n",
    "    mov_img_name = [x.replace('.png','') for x in mov_img_path]\n",
    "    if int(len(ref_img_path)) != int(len(mov_img_path)):\n",
    "        print(\"Number of images in reference and moving file paths are not equal, please fix and try again!\")\n",
    "        return\n",
    "\n",
    "    start = time()\n",
    "    for idx in range(0,len(ref_img_path_complete)):\n",
    "        ref_img = Image.open(ref_img_path_complete[idx])\n",
    "        mov_img = Image.open(mov_img_path_complete[idx])\n",
    "        ref_img = np.array(ref_img)\n",
    "        mov_img = np.array(mov_img)\n",
    "        ref_img_g = cv2.cvtColor(ref_img,cv2.COLOR_RGBA2GRAY)\n",
    "        mov_img_g = cv2.cvtColor(mov_img,cv2.COLOR_RGBA2GRAY)\n",
    "        v, u = optical_flow_tvl1(ref_img_g, mov_img_g)\n",
    "        nr, nc = ref_img_g.shape\n",
    "        row_coords, col_coords = np.meshgrid(np.arange(nr), np.arange(nc),\n",
    "                                             indexing='ij')\n",
    "        mov_img_warp_ra =[]\n",
    "        for i in range(3):\n",
    "            mov_img_warp = warp(mov_img[:,:,i], np.array([row_coords + v, col_coords + u]),mode='edge')\n",
    "            mov_img_warp_ra.append(mov_img_warp)\n",
    "        r = np.array(mov_img_warp_ra[0]*255).astype('uint8')\n",
    "        g = np.array(mov_img_warp_ra[1]*255).astype('uint8')\n",
    "        b = np.array(mov_img_warp_ra[2]*255).astype('uint8')\n",
    "        rgb = np.stack([r,g,b],axis=2)\n",
    "        reg_img = Image.fromarray(rgb)\n",
    "        print(idx)\n",
    "        reg_img.save(os.path.join(save_path,str(mov_img_name[idx]) + '.png'))\n",
    "\n",
    "    end = time()\n",
    "    print(\"time it took to register: \"+  str((end-start)/60) + \" minutes\")\n"
   ],
   "metadata": {
    "collapsed": false
   }
  },
  {
   "cell_type": "markdown",
   "source": [
    "### Possible dummy code to recognize H&E images and discard images that are not H&E:"
   ],
   "metadata": {
    "collapsed": false
   },
   "execution_count": 7
  },
  {
   "cell_type": "code",
   "execution_count": 32,
   "outputs": [
    {
     "name": "stderr",
     "output_type": "stream",
     "text": [
      "C:\\Users\\Kevin\\AppData\\Local\\Temp\\ipykernel_24640\\2577889262.py:22: RuntimeWarning: invalid value encountered in divide\n",
      "  bgr = (blue - (red + green) / 2) / (blue + green + red)\n"
     ]
    },
    {
     "name": "stdout",
     "output_type": "stream",
     "text": [
      "54\n"
     ]
    }
   ],
   "source": [
    "import os\n",
    "import cv2\n",
    "\n",
    "# Define the directory where the image tiles are stored\n",
    "img_dir = r'\\\\shelter\\Kyu\\unstain2stain\\unstain2stain_tile\\train\\HE\\OTS_14684_3_he - Copy'\n",
    "\n",
    "# Define the threshold value for identifying empty tiles\n",
    "threshold_value = 200\n",
    "removed_name = []\n",
    "# Loop through all the image files in the directory\n",
    "for filename in os.listdir(img_dir):\n",
    "    # Load the image\n",
    "    img = cv2.imread(os.path.join(img_dir, filename))\n",
    "\n",
    "    # Convert the image to grayscale\n",
    "    gray = cv2.cvtColor(img, cv2.COLOR_BGR2GRAY)\n",
    "\n",
    "    # Calculate the mean pixel value of the grayscale image\n",
    "    mean_pixel_value = cv2.mean(gray)[0]\n",
    "    #maybe put median?\n",
    "\n",
    "    # If the mean pixel value is below the threshold, assume the tile is empty and discard it\n",
    "    if mean_pixel_value < threshold_value:\n",
    "        os.remove(os.path.join(img_dir, filename))\n",
    "        print('Removed:', filename)\n",
    "        removed_name.append(filename)\n",
    "    else:\n",
    "        print('Kept:', filename)\n"
   ],
   "metadata": {
    "collapsed": false
   }
  },
  {
   "cell_type": "code",
   "execution_count": null,
   "outputs": [],
   "source": [
    "### Code to drop out low MI tiles:"
   ],
   "metadata": {
    "collapsed": false
   }
  },
  {
   "cell_type": "code",
   "execution_count": null,
   "outputs": [],
   "source": [],
   "metadata": {
    "collapsed": false
   }
  }
 ],
 "metadata": {
  "kernelspec": {
   "display_name": "Python 3",
   "language": "python",
   "name": "python3"
  },
  "language_info": {
   "codemirror_mode": {
    "name": "ipython",
    "version": 2
   },
   "file_extension": ".py",
   "mimetype": "text/x-python",
   "name": "python",
   "nbconvert_exporter": "python",
   "pygments_lexer": "ipython2",
   "version": "2.7.6"
  }
 },
 "nbformat": 4,
 "nbformat_minor": 0
}
