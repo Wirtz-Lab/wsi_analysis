{
 "cells": [
  {
   "cell_type": "markdown",
   "source": [
    "### This is after QC, below pipeline is for acquiring the binary ROI (from ImageJ manually by drawing manual ROI on HE raw images) of the artifact and using the raw image to save the modified ROI images by filling in the ROI with the background pixel:"
   ],
   "metadata": {
    "collapsed": false
   }
  },
  {
   "cell_type": "code",
   "execution_count": 1,
   "metadata": {
    "collapsed": true
   },
   "outputs": [],
   "source": [
    "from PIL import Image\n",
    "import os\n",
    "import numpy as np\n",
    "import pandas as pd\n",
    "import cv2"
   ]
  },
  {
   "cell_type": "code",
   "execution_count": 2,
   "outputs": [],
   "source": [
    "artifacthe = r\"\\\\shelter\\Kyu\\unstain2stain\\curated_tiles\\raw_images\\HE\\21606_27750xy1867.png\"\n",
    "artifactns = r\"\\\\shelter\\Kyu\\unstain2stain\\curated_tiles\\raw_images\\US\\29281_24339xy1867.png\"\n",
    "artifactroi = r\"\\\\shelter\\Kyu\\unstain2stain\\curated_tiles\\artifact_binary_roi\\21606_27750xy1867.png\"\n",
    "he = np.array(Image.open(artifacthe))\n",
    "ns = np.array(Image.open(artifactns))\n",
    "roi = np.array(Image.open(artifactroi))\n",
    "roi = np.repeat(roi[:,:,np.newaxis],3,axis=2)\n",
    "roi = ~roi\n",
    "roi_color = np.ones_like(he) * 235 #background color is 235 ish\n",
    "heroi = np.where(roi, he, roi_color)\n",
    "nsroi = np.where(roi, ns, roi_color)\n",
    "dst = r\"\\\\shelter\\Kyu\\unstain2stain\\curated_tiles\\modified_images\"\n",
    "Image.fromarray(heroi).save(os.path.join(dst,'examplehe.png'))\n",
    "Image.fromarray(nsroi).save(os.path.join(dst,'examplens.png'))"
   ],
   "metadata": {
    "collapsed": false
   }
  },
  {
   "cell_type": "code",
   "execution_count": null,
   "outputs": [],
   "source": [],
   "metadata": {
    "collapsed": false
   }
  }
 ],
 "metadata": {
  "kernelspec": {
   "display_name": "Python 3",
   "language": "python",
   "name": "python3"
  },
  "language_info": {
   "codemirror_mode": {
    "name": "ipython",
    "version": 2
   },
   "file_extension": ".py",
   "mimetype": "text/x-python",
   "name": "python",
   "nbconvert_exporter": "python",
   "pygments_lexer": "ipython2",
   "version": "2.7.6"
  }
 },
 "nbformat": 4,
 "nbformat_minor": 0
}
