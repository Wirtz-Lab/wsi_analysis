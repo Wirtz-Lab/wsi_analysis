{
 "cells": [
  {
   "cell_type": "markdown",
   "source": [
    "# Image registration metrics for the unstain2stain images:\n",
    "-Mutual Information with both stain and unstain in grayscale\n",
    "-Target Registration Error (TRE)\n"
   ],
   "metadata": {
    "collapsed": false
   }
  },
  {
   "cell_type": "code",
   "execution_count": 1,
   "outputs": [],
   "source": [
    "import os\n",
    "import pandas as pd\n",
    "import numpy as np\n",
    "from PIL import Image\n",
    "import cv2\n",
    "from matplotlib import pyplot as plt\n",
    "from glob import glob\n",
    "from skimage.registration import optical_flow_tvl1\n",
    "from time import time\n",
    "from skimage.transform import warp\n",
    "import matplotlib\n",
    "import seaborn as sns"
   ],
   "metadata": {
    "collapsed": false
   }
  },
  {
   "cell_type": "markdown",
   "source": [
    "### Mutual Information (MI):"
   ],
   "metadata": {
    "collapsed": false
   }
  },
  {
   "cell_type": "code",
   "execution_count": 2,
   "outputs": [],
   "source": [
    "# from skin_2D_workflow\\image_registration_evaluation to calculate mutual information:\n",
    "# Function to calculate MI:\n",
    "def calculate_mutual_information(img_path_1,img_path_2): #order doesn't matter, MI(A,B) = MI(B,A)\n",
    "    img1 = np.array(cv2.imread(img_path_1))\n",
    "    img2 = np.array(cv2.imread(img_path_2))\n",
    "    img1_g = cv2.cvtColor(img1,cv2.COLOR_BGR2GRAY)\n",
    "    img2_g = cv2.cvtColor(img2,cv2.COLOR_BGR2GRAY)\n",
    "    hist2d, x_edges, y_edges = np.histogram2d(img1_g.ravel(),img2_g.ravel(),bins=20)\n",
    "    pxy = hist2d / float(np.sum(hist2d))\n",
    "    px = np.sum(pxy, axis=1)  # marginal x over y\n",
    "    py = np.sum(pxy, axis=0)  # marginal y over x\n",
    "    px_py = px[:, None] * py[None, :]  # broadcast to multiply marginals\n",
    "    # now we can do the calculation using the pxy, px_py 2D arrays\n",
    "    nonzeros = pxy > 0  # filer out the zero values\n",
    "    mi = np.sum(pxy[nonzeros] * np.log(pxy[nonzeros] / px_py[nonzeros]))\n",
    "    return mi"
   ],
   "metadata": {
    "collapsed": false
   }
  },
  {
   "cell_type": "code",
   "execution_count": 14,
   "outputs": [],
   "source": [
    "# img_path_1 = glob(os.path.join(r\"\\\\shelter\\Kyu\\unstain2stain\\biomax_images\\registrated_images\",\"**\",\"**.png\"),recursive=True) #unstained, 174 images same order\n",
    "# img_path_2 = glob(os.path.join(r\"\\\\shelter\\Kyu\\unstain2stain\\biomax_images\\stained\\padded_images\",\"**\",\"**.png\"),recursive=True) #stained, 174 images same order\n",
    "img_path_1 = glob(os.path.join(r'\\\\shelter\\Kyu\\unstain2stain\\unstain2stain_tile\\cyclegan(matlab)\\train\\HE\\OTS_14684_3_he',\"**.png\"),recursive=True) #unstained, 503 images same order\n",
    "img_path_2 = glob(os.path.join(r'\\\\shelter\\Kyu\\unstain2stain\\unstain2stain_tile\\cyclegan(matlab)\\train\\Unstained\\OTS_14684_3',\"**.png\"),recursive=True) #stained, 503 images same order"
   ],
   "metadata": {
    "collapsed": false
   }
  },
  {
   "cell_type": "markdown",
   "source": [
    "### TODO: Create excel file or MI values for all files:"
   ],
   "metadata": {
    "collapsed": false
   }
  },
  {
   "cell_type": "code",
   "execution_count": 16,
   "outputs": [
    {
     "name": "stdout",
     "output_type": "stream",
     "text": [
      "[0.3680207347756098, 0.3863792026750146, 0.3486229989674943, 0.37796195349547473, 0.3429490276289727, 0.2699525795011519, 0.4223023494711829, 0.45293873120050976, 0.3976530587703127, 0.41791243289626223, 0.4200109103352637, 0.3778279273195168, 0.24320567778165142, 0.3578063771107999, 0.3731781219960698, 0.1707067987821535, 0.3515023576136908, 0.3327430896986511, 0.3145152184936518, 0.17829054558224705, 0.1658965468796515, 0.1943594932000115, 0.3782347103099781, 0.3067898624312263, 0.281439193703071, 0.267017531662309, 0.22176236836769636, 0.29140093952410934, 0.2559785037700864, 0.3568955044147358, 0.2861107879969284, 0.29323395397767127, 0.4135507816531908, 0.3388320017086665, 0.29284963460748836, 0.2956719514676222, 0.2946161291534203, 0.2888518619992587, 0.25891847928713424, 0.3463085486003298, 0.3951622988993406, 0.4393129844255049, 0.301873726554128, 0.33296994101435795, 0.32442092382468124, 0.3451069867390978, 0.33143081218950676, 0.19389571768274616, 0.31461768287435854, 0.4354635760335275, 0.43144139789087027, 0.0816690537260424, 0.41023193397524804, 0.2629816657461459, 0.24065460373801284, 0.16534572862818664, 0.24978325770422827, 0.242605799293864, 0.3240686403105545, 0.34654831762744265, 0.3266987011910136, 0.4715725559525277, 0.21898381404648407, 0.3926825597062239, 0.047675636071493985, 0.40031604478098953, 0.3180812504465254, 0.48377640474942707, 0.24569647738127368, 0.24345568111994306, 0.22247826915505128, 0.2333086390449549, 0.19611923180802632, 0.3407332112990542, 0.24433996329223992, 0.21108646241737447, 0.29861528352572103, 0.24831286596240731, 0.30945142235387985, 0.33950681922076387, 0.2810291077831517, 0.2003869865982537, 0.21238817883326483, 0.3267302008129899, 0.2642002100557032, 0.25698440943042344, 0.2648721419208236, 0.23744002759252947, 0.24252467142747736, 0.20095836519746665, 0.18098007545017597, 0.13801091400062465, 0.20444099288131473, 0.34843810519082585, 0.3226255184041389, 0.21781597767171212, 0.2549921398561735, 0.1936659994425477, 0.13897108611411751, 0.24836863152880595, 0.3608093811656366, 0.38542756679362766, 0.3768957986971763, 0.307976538793672, 0.34834723083012664, 0.29484287659595715, 0.3081806414790619, 0.3222035653296516, 0.21327806658950713, 0.23276892735198784, 0.17450543339143232, 0.2465417615118748, 0.17569543031335508, 0.28642268361553985, 0.23201299241581666, 0.2372397088217339, 0.21200482873212712, 0.1396017748831953, 0.1330209809695559, 0.12562406433450973, 0.10321843862741195, 0.11196674050062919, 0.12491490923740059, 0.10292951296357683, 0.07164345116445288, 0.2670669215737486, 0.1958296493623927, 0.1821234885333363, 0.13224603291212614, 0.16798437356860638, 0.15449951375627569, 0.06238159438950101, 0.04397594342861724, 0.05447269783568781, 0.04432470220081298, 0.09269100632773469, 0.3568263896537279, 0.2753382677364883, 0.15919126522592897, 0.13409269245927447, 0.12671050603415226, 0.04046189768312629, 0.08299048127667821, 0.06453659741716569, 0.12307167085124117, 0.17203664440601255, 0.08162378270006176, 0.09427836843045476, 0.19290824311730087, 0.1871002388974837, 0.1893001550285004, 0.1507917393009986, 0.13165278881202724, 0.2690804457342316, 0.19740252723939172, 0.26005095706246606, 0.20344820084757098, 0.2213477602904625, 0.09565895827533694, 0.17821035075574626, 0.24572982126720655, 0.1516544453615195, 0.22239315005776125, 0.183808855323118, 0.18742273857828484, 0.15801900246438827, 0.152967918255619, 0.16078573172013627, 0.1031480683448986, 0.10245070903861524, 0.09098246062129342, 0.09177515688096495, 0.11674574615431366, 0.05054825928177365, 0.26316248621487626, 0.22030226538905862, 0.20921194661266054, 0.17732497234040923, 0.14976909378003816, 0.19638137976314238, 0.1571624399965325, 0.14218664689760802, 0.1494944976027948, 0.14569518943308712, 0.08882881880765417, 0.04943186425259295, 0.06690746754397964, 0.2954348367554202, 0.21948813054754818, 0.21587219155744883, 0.2401915847285231, 0.24894622567062324, 0.2533050351065571, 0.26154356738785484, 0.11102309176034822, 0.08318947053009584, 0.033159425906175544, 0.18418491453327698, 0.2305396205001653, 0.2824049736750418, 0.12795798090738109, 0.16983737491209366, 0.17927646419261414, 0.14955114766239885, 0.21849980006829417, 0.1668936867881154, 0.10263688579042132, 0.06432129881025078, 0.06463396062570562, 0.026442242571946932, 0.11035127786309923, 0.044538862202726986, 0.030806964869662626, 0.04333110345252904, 0.03258426203265319, 0.1336405139544425, 0.16261688113454134, 0.07221309887067291, 0.24896278757998921, 0.17808675776146576, 0.06346351477953399, 0.05096406356978889, 0.053207837794831445, 0.057337226818379404, 0.0719614251651869, 0.22980575607316767, 0.21013495077957436, 0.14281729664855997, 0.05528709624954664, 0.02219481156796237, 0.10339802515710733, 0.152471285630294, 0.07575645794941786, 0.0839178652303911, 0.16626011262140847, 0.1804051223264222, 0.10256115542155975, 0.12542418592299398, 0.11131994465674191, 0.05291793517127335, 0.06393306523271639, 0.07604167333290002, 0.07227107389011542, 0.038663079987231716, 0.08677697824970095, 0.09362852428254675, 0.17633781156246128, 0.1836291876783609, 0.18512910967901888, 0.17414053850787514, 0.14175554568409257, 0.11753880985811291, 0.08236100249136968, 0.09940594242896947, 0.07612435686179168, 0.0780960978338785, 0.10232779012477101, 0.10326187647467965, 0.12473181950855938, 0.16955269697835348, 0.1822127942435791, 0.17248498413127963, 0.1308348684356558, 0.17534089380540563, 0.13948956579399396, 0.10874112809401715, 0.11634482420335115, 0.10412429129827203, 0.07938034827153968, 0.08598269838317957, 0.029040056156163938, 0.10412035613964894, 0.09417075147110128, 0.23548862108535565, 0.22575257761746115, 0.2072048634514986, 0.15886983513490882, 0.17846569521156985, 0.14259802894690654, 0.11623296907761031, 0.15893765668005722, 0.11425214517875873, 0.06264966658966704, 0.1626107220877938, 0.17855958680961068, 0.17016641383134185, 0.12094600108565376, 0.11375684953007775, 0.08833295706144514, 0.10039240125984741, 0.08384813202022275, 0.026395292391805263, 0.16312023244910906, 0.0780002899089825, 0.15400880230949995, 0.1120787043727984, 0.08587941872221742, 0.020379276123480325, 0.022014158257357558, 0.04433278595472692, 0.024705755592787912, 0.11574141841716326, 0.09861369107750675, 0.08692057461979166, 0.03401893641945462, 0.02792914594557747, 0.034890153558844714, 0.038153073220234424, 0.10671469350483254, 0.21504574136841842, 0.13647148338267318, 0.10948591641919092, 0.13617793169242998, 0.08612707330239094, 0.130182524206317, 0.10437318610602386, 0.11504032010908206, 0.10269032987743296, 0.10460521438682542, 0.09389691590463058, 0.1078942575563084, 0.112740822408843, 0.10946421910776069, 0.19854219579142948, 0.12759004310755548, 0.035898927449167665, 0.12926243994653214, 0.11863183347480045, 0.11991474312138467, 0.12575714795749277, 0.11528775289506368, 0.08584574113822135, 0.14206814721215236, 0.16625780178873734, 0.14991159058916348, 0.12743896502038585, 0.11108117271962836, 0.11910260025878039, 0.10329904876545667, 0.10287478595250926, 0.06457437339300583, 0.11000718793107812, 0.16308224918154346, 0.07968202307557781, 0.04468140843897114, 0.07791506813134474, 0.11698351230537747, 0.09723606874919113, 0.0807418695929118, 0.10898461243179904, 0.08535148349141182, 0.10637595045568388, 0.08535605207665153, 0.12500919259884666, 0.07185835595884607, 0.10299469265772493, 0.07598080080449647, 0.06767600018004685, 0.07151785611045183, 0.06982546159211456, 0.0864075457329789, 0.04518830222182699, 0.025888798120420022, 0.15472324243322608, 0.08228932338214434, 0.09398325619846766, 0.04766177762762776, 0.051065706497699793, 0.044793341605435556, 0.12251527315330032, 0.0854690375381851, 0.07222849194516323, 0.07580860733679519, 0.07197115567329546, 0.06838865078366957, 0.12043515676209246, 0.11511732175865083, 0.07696883879510137, 0.06497012494910201, 0.07167277377430796, 0.07897707135580617, 0.05458522754532111, 0.053346980024845045, 0.12016123086103694, 0.08852376141824132, 0.12364840848161729, 0.10158435959719667, 0.11145157767883937, 0.09380481973186304, 0.09300872030949607, 0.09149644969534379, 0.08650788219785797, 0.10248988777159079, 0.13866404372989652, 0.1248325597583104, 0.11488103069773445, 0.12639910537279897, 0.130926740543295, 0.1223338977863996, 0.10492763599733518, 0.11179410625405432, 0.1205412564716903, 0.1278104856617081, 0.15675919913488698, 0.13404815907140116, 0.13136481330642008, 0.12990778922413776, 0.13112483130392186, 0.10233336919422714, 0.11581007092535882, 0.09395632879519292, 0.1320843339223133, 0.11682306232887427, 0.07787026592500182, 0.11985188979392795, 0.12966825639023208, 0.13538975795423866, 0.14395195407182348, 0.16090958132583497, 0.09285593939451436, 0.11046740797208433, 0.11508542613772538, 0.12019089693060914, 0.1029634239623228, 0.13340708758729303, 0.13739230418764148, 0.10544979887158817, 0.15839794497448814, 0.12123052911094101, 0.13957734008200115, 0.1011038278661588, 0.14720772335915042, 0.10809059928907627, 0.09680531288948946, 0.1097054682600191, 0.09948635556842524, 0.09575108429110833, 0.12582251402898137, 0.11507951043220843, 0.1643599187670338, 0.10495989264648325, 0.10423948474506739, 0.10399617915527093, 0.10451902953453777, 0.12875913779694842, 0.10471032176184043, 0.1407022817439352, 0.12740866299724368, 0.1119343128896989, 0.11448118810031521, 0.11705068508718276, 0.12831104201822605, 0.14965743493196307, 0.14518765053934768, 0.12206214348848266, 0.11445511006075515, 0.13524863048300323, 0.0955000990897399, 0.10894755548024582, 0.11323517409038972, 0.0795990346827031, 0.1050141613572897, 0.11892714284029629, 0.10976783069785354, 0.1349648986620616, 0.11358601250555178, 0.12532131729401108, 0.12695628382554106, 0.09184043261439873, 0.09747338288104165, 0.09738205364781233, 0.08983355609297161, 0.08255367645550954, 0.08744815966574805, 0.102557283608705, 0.16006411397448012, 0.11443363967681447, 0.13681688666810302, 0.0855624180896697, 0.1273018935472831, 0.09668666061383323, 0.14658715980616618, 0.08781216001538564, 0.12674860587376358, 0.11433712045075617, 0.14500951193778605, 0.10674759991362595, 0.09848311560752696, 0.06580613451618546, 0.057801573648937815, 0.11916713234946612, 0.09023870103348133, 0.09693723023685448, 0.08206925878245513, 0.13052876491392407, 0.12032913252265143, 0.13274360099346671, 0.10690375674583838, 0.0896302403782611, 0.1556468624123183, 0.11174941471141264, 0.09919739675888556, 0.07185380987849375]\n"
     ]
    }
   ],
   "source": [
    "# MI for each pair of image:\n",
    "mi_ra = []\n",
    "for idx in range(0,len(img_path_1)):\n",
    "    img1 = img_path_1[idx]\n",
    "    img2 = img_path_2[idx]\n",
    "    mi = calculate_mutual_information(img1,img2)\n",
    "    mi_ra.append(mi)\n",
    "print(mi_ra)"
   ],
   "metadata": {
    "collapsed": false
   }
  },
  {
   "cell_type": "code",
   "execution_count": 5,
   "outputs": [
    {
     "name": "stdout",
     "output_type": "stream",
     "text": [
      "0.020379276123480325\n",
      "297\n"
     ]
    }
   ],
   "source": [
    "print(min(mi_ra))\n",
    "print(np.argmin(mi_ra))"
   ],
   "metadata": {
    "collapsed": false
   }
  },
  {
   "cell_type": "code",
   "execution_count": 6,
   "outputs": [
    {
     "name": "stdout",
     "output_type": "stream",
     "text": [
      "0.48377640474942707\n",
      "67\n"
     ]
    }
   ],
   "source": [
    "print(max(mi_ra))\n",
    "print(np.argmax(mi_ra))"
   ],
   "metadata": {
    "collapsed": false
   }
  },
  {
   "cell_type": "markdown",
   "source": [
    "### Look at pictures with minimum and maximum values in grayscale and RGB, compare in powerpoint!\n"
   ],
   "metadata": {
    "collapsed": false
   }
  },
  {
   "cell_type": "code",
   "execution_count": 37,
   "outputs": [
    {
     "name": "stdout",
     "output_type": "stream",
     "text": [
      "\\\\shelter\\Kyu\\unstain2stain\\unstain2stain_tile\\cyclegan(matlab)\\train\\HE\\OTS_14684_3_he\\xy3273.png\n",
      "\\\\shelter\\Kyu\\unstain2stain\\unstain2stain_tile\\cyclegan(matlab)\\train\\Unstained\\OTS_14684_3\\xy3273.png\n"
     ]
    }
   ],
   "source": [
    "# minimum value:\n",
    "img1 = np.array(cv2.imread(img_path_1[np.argmin(mi_ra)]))\n",
    "img2 = np.array(cv2.imread(img_path_2[np.argmin(mi_ra)]))\n",
    "img1_g = cv2.cvtColor(img1,cv2.COLOR_BGR2GRAY)\n",
    "img2_g = cv2.cvtColor(img2,cv2.COLOR_BGR2GRAY)\n",
    "hist2d, x_edges, y_edges = np.histogram2d(img1_g.ravel(),img2_g.ravel(),bins=20)\n",
    "print(img_path_1[np.argmin(mi_ra)])\n",
    "print(img_path_2[np.argmin(mi_ra)])"
   ],
   "metadata": {
    "collapsed": false
   }
  },
  {
   "cell_type": "code",
   "execution_count": 36,
   "outputs": [
    {
     "name": "stdout",
     "output_type": "stream",
     "text": [
      "max path \\\\shelter\\Kyu\\unstain2stain\\unstain2stain_tile\\cyclegan(matlab)\\train\\HE\\OTS_14684_3_he\\xy1782.png\n",
      "min path \\\\shelter\\Kyu\\unstain2stain\\unstain2stain_tile\\cyclegan(matlab)\\train\\Unstained\\OTS_14684_3\\xy1782.png\n"
     ]
    }
   ],
   "source": [
    "# maximum value:\n",
    "img1 = np.array(cv2.imread(img_path_1[np.argmax(mi_ra)]))\n",
    "img2 = np.array(cv2.imread(img_path_2[np.argmax(mi_ra)]))\n",
    "img1_g = cv2.cvtColor(img1,cv2.COLOR_BGR2GRAY)\n",
    "img2_g = cv2.cvtColor(img2,cv2.COLOR_BGR2GRAY)\n",
    "hist2d, x_edges, y_edges = np.histogram2d(img1_g.ravel(),img2_g.ravel(),bins=20)\n",
    "print(img_path_1[np.argmax(mi_ra)])\n",
    "print(img_path_2[np.argmax(mi_ra)])"
   ],
   "metadata": {
    "collapsed": false
   }
  },
  {
   "cell_type": "markdown",
   "source": [
    "### Seems like for min, it's images with oil gland/hair shaft. Seems like for max, it's images with red blood cells and fat. TODO: Maybe check top 5 images instead of doing just one image for max/min to see?"
   ],
   "metadata": {
    "collapsed": false
   }
  },
  {
   "cell_type": "code",
   "execution_count": 35,
   "outputs": [
    {
     "name": "stdout",
     "output_type": "stream",
     "text": [
      "min img path \\\\shelter\\Kyu\\unstain2stain\\unstain2stain_tile\\cyclegan(matlab)\\train\\HE\\OTS_14684_3_he\\xy3273.png\n",
      "max img path \\\\shelter\\Kyu\\unstain2stain\\unstain2stain_tile\\cyclegan(matlab)\\train\\HE\\OTS_14684_3_he\\xy1274.png\n",
      "min img path \\\\shelter\\Kyu\\unstain2stain\\unstain2stain_tile\\cyclegan(matlab)\\train\\HE\\OTS_14684_3_he\\xy3274.png\n",
      "max img path \\\\shelter\\Kyu\\unstain2stain\\unstain2stain_tile\\cyclegan(matlab)\\train\\HE\\OTS_14684_3_he\\xy1187.png\n",
      "min img path \\\\shelter\\Kyu\\unstain2stain\\unstain2stain_tile\\cyclegan(matlab)\\train\\HE\\OTS_14684_3_he\\xy2895.png\n",
      "max img path \\\\shelter\\Kyu\\unstain2stain\\unstain2stain_tile\\cyclegan(matlab)\\train\\HE\\OTS_14684_3_he\\xy0751.png\n",
      "min img path \\\\shelter\\Kyu\\unstain2stain\\unstain2stain_tile\\cyclegan(matlab)\\train\\HE\\OTS_14684_3_he\\xy3276.png\n",
      "max img path \\\\shelter\\Kyu\\unstain2stain\\unstain2stain_tile\\cyclegan(matlab)\\train\\HE\\OTS_14684_3_he\\xy1656.png\n",
      "min img path \\\\shelter\\Kyu\\unstain2stain\\unstain2stain_tile\\cyclegan(matlab)\\train\\HE\\OTS_14684_3_he\\xy3843.png\n",
      "max img path \\\\shelter\\Kyu\\unstain2stain\\unstain2stain_tile\\cyclegan(matlab)\\train\\HE\\OTS_14684_3_he\\xy1782.png\n"
     ]
    }
   ],
   "source": [
    "sorted_list = np.argsort(mi_ra)\n",
    "top_five_min_idx = sorted_list[0:5] # 0th is lowest\n",
    "top_five_max_idx = sorted_list[-5:] # 4th is highest\n",
    "for idx in range(0,5):\n",
    "    min_idx = mi_ra.index([mi_ra[top_five_min_idx[idx]]])\n",
    "    max_idx = mi_ra.index([mi_ra[top_five_max_idx[idx]]])\n",
    "    print(\"min img path\",img_path_1[min_idx])\n",
    "    print(\"max img path\",img_path_1[max_idx])"
   ],
   "metadata": {
    "collapsed": false
   }
  },
  {
   "cell_type": "markdown",
   "source": [
    "### Then do a mi_ra analysis of the photo with min and max mi value with all the other photos, compare MI to see the magnitude difference (if MI can be trustworthy!)"
   ],
   "metadata": {
    "collapsed": false
   }
  },
  {
   "cell_type": "code",
   "execution_count": 19,
   "outputs": [],
   "source": [
    "def calculate_mutual_information_v2(img_path_src,img_list_path): #order doesn't matter, MI(A,B) = MI(B,A)\n",
    "    img1 = np.array(cv2.imread(img_path_src)) # find one image\n",
    "    img1_g = cv2.cvtColor(img1,cv2.COLOR_BGR2GRAY)\n",
    "    mi_ra = [];\n",
    "    for idx in range(0,len(img_list_path)):\n",
    "        img2 = np.array(cv2.imread(img_list_path[idx])) # all the other images\n",
    "        img2_g = cv2.cvtColor(img2,cv2.COLOR_BGR2GRAY)\n",
    "        hist2d, x_edges, y_edges = np.histogram2d(img1_g.ravel(),img2_g.ravel(),bins=20)\n",
    "        pxy = hist2d / float(np.sum(hist2d))\n",
    "        px = np.sum(pxy, axis=1)  # marginal x over y\n",
    "        py = np.sum(pxy, axis=0)  # marginal y over x\n",
    "        px_py = px[:, None] * py[None, :]  # broadcast to multiply marginals\n",
    "        # now we can do the calculation using the pxy, px_py 2D arrays\n",
    "        nonzeros = pxy > 0  # filer out the zero values\n",
    "        mi = np.sum(pxy[nonzeros] * np.log(pxy[nonzeros] / px_py[nonzeros]))\n",
    "        mi_ra.append(mi)\n",
    "    return mi_ra"
   ],
   "metadata": {
    "collapsed": false
   }
  },
  {
   "cell_type": "code",
   "execution_count": 26,
   "outputs": [
    {
     "name": "stdout",
     "output_type": "stream",
     "text": [
      "\\\\shelter\\Kyu\\unstain2stain\\unstain2stain_tile\\train\\HE\\OTS_14684_3_he\\xy3273.png\n"
     ]
    }
   ],
   "source": [
    "# min:\n",
    "mi_list_1 = calculate_mutual_information_v2(img_path_1[np.argmin(mi_ra)],img_path_2)\n",
    "print(img_path_1[np.argmax(mi_list_1)]) # max since we expect it still to be max"
   ],
   "metadata": {
    "collapsed": false
   }
  },
  {
   "cell_type": "code",
   "execution_count": 27,
   "outputs": [
    {
     "name": "stdout",
     "output_type": "stream",
     "text": [
      "503\n",
      "502\n",
      "mean is 0.0012111883689702536\n"
     ]
    }
   ],
   "source": [
    "print(len(mi_list_1))\n",
    "del(mi_list_1[np.argmax(mi_list_1)])\n",
    "print(len(mi_list_1)) #deleted\n",
    "print(\"mean is\",np.mean(mi_list_1))"
   ],
   "metadata": {
    "collapsed": false
   }
  },
  {
   "cell_type": "code",
   "execution_count": 28,
   "outputs": [
    {
     "data": {
      "text/plain": "0.010166226985892254"
     },
     "execution_count": 28,
     "metadata": {},
     "output_type": "execute_result"
    }
   ],
   "source": [
    "np.max(mi_list_1)"
   ],
   "metadata": {
    "collapsed": false
   }
  },
  {
   "cell_type": "markdown",
   "source": [
    "### Recall that the matching image had a MI value of 0.02 (minimum). But for this image, MI amongst other has an average of 0.0012, with the max value being 0.01, so half of 0.02. So the average magnitude difference is about 10 fold. Let's see this for the max as well:"
   ],
   "metadata": {
    "collapsed": false
   }
  },
  {
   "cell_type": "code",
   "execution_count": 25,
   "outputs": [
    {
     "name": "stdout",
     "output_type": "stream",
     "text": [
      "\\\\shelter\\Kyu\\unstain2stain\\unstain2stain_tile\\train\\HE\\OTS_14684_3_he\\xy1782.png\n"
     ]
    }
   ],
   "source": [
    "# max:\n",
    "mi_list_2 = calculate_mutual_information_v2(img_path_1[np.argmax(mi_ra)],img_path_2)\n",
    "print(img_path_1[np.argmax(mi_list_2)])"
   ],
   "metadata": {
    "collapsed": false
   }
  },
  {
   "cell_type": "code",
   "execution_count": 29,
   "outputs": [
    {
     "name": "stdout",
     "output_type": "stream",
     "text": [
      "503\n",
      "502\n",
      "mean is 0.00267233332965388\n"
     ]
    }
   ],
   "source": [
    "print(len(mi_list_2))\n",
    "del(mi_list_2[np.argmax(mi_list_2)])\n",
    "print(len(mi_list_2)) #deleted\n",
    "print(\"mean is\",np.mean(mi_list_2))"
   ],
   "metadata": {
    "collapsed": false
   }
  },
  {
   "cell_type": "code",
   "execution_count": 30,
   "outputs": [
    {
     "data": {
      "text/plain": "0.02300343978090489"
     },
     "execution_count": 30,
     "metadata": {},
     "output_type": "execute_result"
    }
   ],
   "source": [
    "np.max(mi_list_2)"
   ],
   "metadata": {
    "collapsed": false
   }
  },
  {
   "cell_type": "markdown",
   "source": [
    "## For this, the difference is bigger. Recall our value for MI was 0.48. The average is 0.0026, and the max is 0.023. Magnitude difference is huge. Seems like MI is a trustworthy enough metric for this case! TODO: Maybe draw a histogram to see the distributed values?"
   ],
   "metadata": {
    "collapsed": false
   }
  },
  {
   "cell_type": "code",
   "execution_count": null,
   "outputs": [],
   "source": [],
   "metadata": {
    "collapsed": false
   }
  },
  {
   "cell_type": "markdown",
   "source": [
    "### Now try to see how MI changes with pixel offset from -10 to 10. Crop the photo by x amount (x>10) and offset NS and HE, see difference in MI. Plot the difference."
   ],
   "metadata": {
    "collapsed": false
   }
  },
  {
   "cell_type": "code",
   "execution_count": 4,
   "outputs": [],
   "source": [
    "def calculate_mutual_information_v3(img1ra,img2ra): #order doesn't matter, MI(A,B) = MI(B,A)\n",
    "    img1_g = cv2.cvtColor(img1ra,cv2.COLOR_BGR2GRAY)\n",
    "    img2_g = cv2.cvtColor(img2ra,cv2.COLOR_BGR2GRAY)\n",
    "    hist2d, x_edges, y_edges = np.histogram2d(img1_g.ravel(),img2_g.ravel(),bins=20)\n",
    "    pxy = hist2d / float(np.sum(hist2d))\n",
    "    px = np.sum(pxy, axis=1)  # marginal x over y\n",
    "    py = np.sum(pxy, axis=0)  # marginal y over x\n",
    "    px_py = px[:, None] * py[None, :]  # broadcast to multiply marginals\n",
    "    # now we can do the calculation using the pxy, px_py 2D arrays\n",
    "    nonzeros = pxy > 0  # filer out the zero values\n",
    "    mi = np.sum(pxy[nonzeros] * np.log(pxy[nonzeros] / px_py[nonzeros]))\n",
    "    return mi"
   ],
   "metadata": {
    "collapsed": false
   }
  },
  {
   "cell_type": "code",
   "execution_count": 5,
   "outputs": [],
   "source": [
    "# Try it with the minimum image\n",
    "hesrc = r'\\\\shelter\\Kyu\\unstain2stain\\unstain2stain_tile\\train\\HE\\OTS_14684_3_he\\xy1782.png'\n",
    "nssrc = r'\\\\shelter\\Kyu\\unstain2stain\\unstain2stain_tile\\train\\Unstained\\OTS_14684_3\\xy1782.png'\n",
    "img1 = Image.open(hesrc)\n",
    "img2 = Image.open(nssrc)\n",
    "img1ra = np.array(img1)\n",
    "img2ra = np.array(img2)\n",
    "# First crop both img1 and img2 by 20 pixels.\n",
    "x1 = 50\n",
    "x2 = 974\n",
    "croppedhe = img1.crop(box = (x1,x1,x2,x2)) #924 x 924\n",
    "croppedhe = np.array(croppedhe)\n",
    "croppedns = img2.crop(box = (x1,x1,x2,x2)) #924 x 924"
   ],
   "metadata": {
    "collapsed": false
   }
  },
  {
   "cell_type": "code",
   "execution_count": 12,
   "outputs": [
    {
     "data": {
      "text/plain": "[0.47427731636736725,\n 0.38951439662347964,\n 0.32219628559239194,\n 0.27583064302537247,\n 0.2458637059512731,\n 0.22695703438466186,\n 0.2148303701398396,\n 0.20630027790217947,\n 0.1995937216795915,\n 0.19440811713508332]"
     },
     "execution_count": 12,
     "metadata": {},
     "output_type": "execute_result"
    }
   ],
   "source": [
    "# Try mismatching the he with normal image ns, with positive offset\n",
    "all_mi_list = [];\n",
    "for idx in range(0, 11):  # 0~10\n",
    "    mismatch_crop_he = img1.crop(box=(x1 + idx, x1, x2 + idx, x2))\n",
    "    mismatch_crop_he = np.array(mismatch_crop_he)\n",
    "    normal_ns = np.array(croppedns)\n",
    "    tmp_mi = calculate_mutual_information_v3(mismatch_crop_he, normal_ns)\n",
    "    all_mi_list.append(tmp_mi)\n",
    "del(all_mi_list[0])\n",
    "all_mi_list = all_mi_list\n",
    "all_mi_list"
   ],
   "metadata": {
    "collapsed": false
   }
  },
  {
   "cell_type": "code",
   "execution_count": 13,
   "outputs": [
    {
     "data": {
      "text/plain": "[0.20122516764271367,\n 0.2064838752486673,\n 0.2125963624160035,\n 0.22099605974191183,\n 0.23295582478523752,\n 0.25275703405606803,\n 0.28848965741586013,\n 0.3474604183598314,\n 0.43023631334396906,\n 0.515301980860861,\n 0.5391774632371988]"
     },
     "execution_count": 13,
     "metadata": {},
     "output_type": "execute_result"
    }
   ],
   "source": [
    "all_mi_list1 = [];\n",
    "for idx in range(0,11): # 0~10\n",
    "    mismatch_crop_he = img1.crop(box = (x1-idx,x1, x2-idx,x2))\n",
    "    mismatch_crop_he = np.array(mismatch_crop_he)\n",
    "    normal_ns = np.array(croppedns)\n",
    "    tmp_mi1 = calculate_mutual_information_v3(mismatch_crop_he,normal_ns)\n",
    "    all_mi_list1.append(tmp_mi1)\n",
    "all_mi_list1 = all_mi_list1[::-1]\n",
    "all_mi_list1"
   ],
   "metadata": {
    "collapsed": false
   }
  },
  {
   "cell_type": "code",
   "execution_count": 14,
   "outputs": [],
   "source": [
    "complete_mi_list = all_mi_list1 + all_mi_list\n",
    "x = complete_mi_list\n",
    "y = list(range(-10,11))"
   ],
   "metadata": {
    "collapsed": false
   }
  },
  {
   "cell_type": "code",
   "execution_count": 15,
   "outputs": [
    {
     "data": {
      "text/plain": "[0.20122516764271367,\n 0.2064838752486673,\n 0.2125963624160035,\n 0.22099605974191183,\n 0.23295582478523752,\n 0.25275703405606803,\n 0.28848965741586013,\n 0.3474604183598314,\n 0.43023631334396906,\n 0.515301980860861,\n 0.5391774632371988,\n 0.47427731636736725,\n 0.38951439662347964,\n 0.32219628559239194,\n 0.27583064302537247,\n 0.2458637059512731,\n 0.22695703438466186,\n 0.2148303701398396,\n 0.20630027790217947,\n 0.1995937216795915,\n 0.19440811713508332]"
     },
     "execution_count": 15,
     "metadata": {},
     "output_type": "execute_result"
    }
   ],
   "source": [
    "complete_mi_list"
   ],
   "metadata": {
    "collapsed": false
   }
  },
  {
   "cell_type": "code",
   "execution_count": 16,
   "outputs": [],
   "source": [
    "pd.DataFrame({'x':x,'y':y}).to_csv(r'C:\\Users\\Kevin\\Desktop\\tmp3.csv')"
   ],
   "metadata": {
    "collapsed": false
   }
  },
  {
   "cell_type": "markdown",
   "source": [
    "### Use MI to compare between real,raw HE tiles and inferred HE tiles and compare the two, generate heatmap:"
   ],
   "metadata": {
    "collapsed": false
   }
  },
  {
   "cell_type": "code",
   "execution_count": 2,
   "outputs": [],
   "source": [
    "import os\n",
    "import cv2\n",
    "import numpy as np\n",
    "import seaborn as sns\n",
    "import matplotlib.pyplot as plt\n",
    "from tqdm import tqdm\n",
    "from natsort import natsorted\n",
    "\n",
    "def calculate_mutual_information_v3(img1ra,img2ra):\n",
    "    img1_g = cv2.cvtColor(img1ra,cv2.COLOR_BGR2GRAY)\n",
    "    img2_g = cv2.cvtColor(img2ra,cv2.COLOR_BGR2GRAY)\n",
    "    hist2d, x_edges, y_edges = np.histogram2d(img1_g.ravel(),img2_g.ravel(),bins=20)\n",
    "    pxy = hist2d / float(np.sum(hist2d))\n",
    "    px = np.sum(pxy, axis=1)  # marginal x over y\n",
    "    py = np.sum(pxy, axis=0)  # marginal y over x\n",
    "    px_py = px[:, None] * py[None, :]  # broadcast to multiply marginals\n",
    "    # now we can do the calculation using the pxy, px_py 2D arrays\n",
    "    nonzeros = pxy > 0  # filer out the zero values\n",
    "    mi = np.sum(pxy[nonzeros] * np.log(pxy[nonzeros] / px_py[nonzeros]))\n",
    "    return mi"
   ],
   "metadata": {
    "collapsed": false
   }
  },
  {
   "cell_type": "code",
   "execution_count": null,
   "outputs": [],
   "source": [
    "inferred_he_tiles_src = r'\\\\shelter\\Kyu\\unstain2stain\\generated_fake_images\\inferred_tiles\\fake_OTS_14832_5he'\n",
    "real_he_tiles_src = r'\\\\shelter\\Kyu\\unstain2stain\\tiles\\registrated_tiles\\HE\\OTS_14832_5_he'\n",
    "\n",
    "# rows and cols from the return_row_col function in predict_v1.ipynb\n",
    "heatmap_rows = 115\n",
    "heatmap_cols = 86\n",
    "heatmap = np.zeros(shape=((heatmap_rows), (heatmap_cols)))\n",
    "inferred_files = natsorted(os.listdir(inferred_he_tiles_src))\n",
    "real_files = natsorted(os.listdir(real_he_tiles_src))\n",
    "inferred_files = [x for x in inferred_files if x.endswith(\".png\")]\n",
    "print(\"inferred_tiles len before\",len(inferred_files))\n",
    "del(inferred_files[-1])\n",
    "real_files = [x for x in real_files if x.endswith(\".png\")]\n",
    "print(\"inferreid tiles afteR\", len(inferred_files))\n",
    "print(\"real file len after\",len(real_files))\n",
    "for i in tqdm(range(len(real_files)),desc=\"Images calculated\",colour='red'):\n",
    "    inferred_file_path = os.path.join(inferred_he_tiles_src, inferred_files[i])\n",
    "    real_file_path = os.path.join(real_he_tiles_src, real_files[i])\n",
    "\n",
    "    inferred_image = cv2.imread(inferred_file_path)\n",
    "    real_image = cv2.imread(real_file_path)\n",
    "\n",
    "    mi_score = calculate_mutual_information_v3(inferred_image, real_image)\n",
    "    print(mi_score,inferred_files[i],real_files[i])\n",
    "    y , x = map(int, real_files[i].split('xy')[0].split('.png')[0].split('_'))\n",
    "    x = (x - 1126)/1024\n",
    "    y = (y - 1126)/1024\n",
    "    np.put(heatmap, y + x, mi_score)\n",
    "    # if x >= 0 and x < heatmap.shape[1] and y >= 0 and y < heatmap.shape[0]:\n",
    "    #     heatmap[y,x] = mi_score\n",
    "\n",
    "fig = plt.figure(figsize=(20, 20))\n",
    "sns.heatmap(heatmap, cmap='viridis', xticklabels=False, yticklabels=False)\n",
    "plt.axis('off')\n",
    "save_src = r'\\\\shelter\\Kyu\\unstain2stain\\generated_fake_images\\MI_heatmap_real_vs_infer'\n",
    "plt.savefig(save_src, dpi=300, bbox_inches='tight')\n",
    "plt.close(fig)\n"
   ],
   "metadata": {
    "collapsed": false
   }
  },
  {
   "cell_type": "code",
   "execution_count": null,
   "outputs": [],
   "source": [
    "heatmap"
   ],
   "metadata": {
    "collapsed": false
   }
  },
  {
   "cell_type": "markdown",
   "source": [
    "### Now, the code to generate the FID score can just be done using pytorch-fid in the command prompt, but I want to generate imagtes with gaussian noise and gaussian blur to see how it increases the original inferred image"
   ],
   "metadata": {
    "collapsed": false
   }
  },
  {
   "cell_type": "code",
   "execution_count": 5,
   "outputs": [],
   "source": [
    "# create gaussian noise: (from: https://www.kaggle.com/code/chanduanilkumar/adding-and-removing-image-noise-in-python/notebook)"
   ],
   "metadata": {
    "collapsed": false
   }
  },
  {
   "cell_type": "code",
   "execution_count": null,
   "outputs": [
    {
     "name": "stderr",
     "output_type": "stream",
     "text": [
      "Files processed: 0it [00:00, ?it/s]\n",
      "Files processed:  20%|\u001B[31m█▉        \u001B[0m| 2163/10996 [25:31<1:41:13,  1.45it/s]"
     ]
    }
   ],
   "source": [
    "import os\n",
    "from PIL import Image\n",
    "import cv2\n",
    "import numpy as np\n",
    "from tqdm import tqdm\n",
    "\n",
    "def apply_gaussian_noise(image_src, save_dir):\n",
    "    gauss_noise=np.zeros((1024,1024,3),dtype=np.uint8)\n",
    "    cv2.randn(gauss_noise,128,20)\n",
    "    gauss_noise=(gauss_noise*0.5).astype(np.uint8)\n",
    "    img = np.array(Image.open(image_src))\n",
    "    gn_img=cv2.add(img,gauss_noise)\n",
    "    Image.fromarray(gn_img).save(save_dir)\n",
    "\n",
    "# define the source and target directories\n",
    "src_dir = r'\\\\shelter\\Kyu\\unstain2stain\\generated_fake_images\\inferred_tiles'\n",
    "target_dir = r'\\\\shelter\\Kyu\\unstain2stain\\generated_fake_images\\noised_tiles'\n",
    "\n",
    "# iterate over all directories and files in the source directory\n",
    "for root, dirs, files in os.walk(src_dir):\n",
    "    # create the corresponding directories in the target directory\n",
    "    target_root = root.replace(src_dir, target_dir)\n",
    "    os.makedirs(target_root, exist_ok=True)\n",
    "\n",
    "    # iterate over all files in the current directory\n",
    "    for file in tqdm(files,desc=\"Files processed\",colour='red'):\n",
    "        # check if the file is a PNG image\n",
    "        if file.lower().endswith('.png'):\n",
    "            # construct the paths to the source and target files\n",
    "            src_path = os.path.join(root, file)\n",
    "            target_path = os.path.join(target_root, file)\n",
    "\n",
    "            # apply the gaussian noise and save the image\n",
    "            apply_gaussian_noise(src_path, target_path)\n"
   ],
   "metadata": {
    "collapsed": false,
    "pycharm": {
     "is_executing": true
    }
   }
  },
  {
   "cell_type": "markdown",
   "source": [
    "### Now try Target Registration Error (TRE):\n",
    "### paper using tre and optical flow: https://www.ncbi.nlm.nih.gov/pmc/articles/PMC9099354/"
   ],
   "metadata": {
    "collapsed": false
   }
  },
  {
   "cell_type": "code",
   "execution_count": 2,
   "outputs": [
    {
     "ename": "NameError",
     "evalue": "name 'apply_gaussian_noise' is not defined",
     "output_type": "error",
     "traceback": [
      "\u001B[1;31m---------------------------------------------------------------------------\u001B[0m",
      "\u001B[1;31mNameError\u001B[0m                                 Traceback (most recent call last)",
      "Cell \u001B[1;32mIn[2], line 1\u001B[0m\n\u001B[1;32m----> 1\u001B[0m \u001B[43mapply_gaussian_noise\u001B[49m(orig_im_dir\u001B[38;5;241m=\u001B[39m \u001B[38;5;124mr\u001B[39m\u001B[38;5;124m'\u001B[39m\u001B[38;5;130;01m\\\\\u001B[39;00m\u001B[38;5;124mshelter\u001B[39m\u001B[38;5;124m\\\u001B[39m\u001B[38;5;124mKyu\u001B[39m\u001B[38;5;124m\\\u001B[39m\u001B[38;5;124munstain2stain\u001B[39m\u001B[38;5;124m\\\u001B[39m\u001B[38;5;124mgenerated_fake_images\u001B[39m\u001B[38;5;124m\\\u001B[39m\u001B[38;5;124minferred_tiles\u001B[39m\u001B[38;5;124m'\u001B[39m,savesrc \u001B[38;5;241m=\u001B[39m \u001B[38;5;124mr\u001B[39m\u001B[38;5;124m'\u001B[39m\u001B[38;5;130;01m\\\\\u001B[39;00m\u001B[38;5;124mshelter\u001B[39m\u001B[38;5;124m\\\u001B[39m\u001B[38;5;124mKyu\u001B[39m\u001B[38;5;124m\\\u001B[39m\u001B[38;5;124munstain2stain\u001B[39m\u001B[38;5;124m\\\u001B[39m\u001B[38;5;124mgenerated_fake_images\u001B[39m\u001B[38;5;124m\\\u001B[39m\u001B[38;5;124mnoised_tiles\u001B[39m\u001B[38;5;124m'\u001B[39m)\n",
      "\u001B[1;31mNameError\u001B[0m: name 'apply_gaussian_noise' is not defined"
     ]
    }
   ],
   "source": [
    "def registrate_two_images(reference_image_path, moving_image_path, save_path):\n",
    "    \"\"\"\n",
    "    Note: The order of the files saved in the ref_img_path and mov_img_path must be the same so that you are registering the same images!\n",
    "    \"\"\"\n",
    "    ref_img_path = [_ for _ in os.listdir(reference_image_path) if _.endswith(\".png\")]\n",
    "    ref_img_path_complete = [os.path.join(reference_image_path, x) for x in ref_img_path]\n",
    "    mov_img_path = [_ for _ in os.listdir(moving_image_path) if _.endswith(\".png\")]\n",
    "    mov_img_path_complete = [os.path.join(moving_image_path, x) for x in mov_img_path]\n",
    "    mov_img_name = [x.replace('.png','') for x in mov_img_path]\n",
    "    if int(len(ref_img_path)) != int(len(mov_img_path)):\n",
    "        print(\"Number of images in reference and moving file paths are not equal, please fix and try again!\")\n",
    "        return\n",
    "\n",
    "    start = time()\n",
    "    for idx in range(0,len(ref_img_path_complete)):\n",
    "        ref_img = Image.open(ref_img_path_complete[idx])\n",
    "        mov_img = Image.open(mov_img_path_complete[idx])\n",
    "        ref_img = np.array(ref_img)\n",
    "        mov_img = np.array(mov_img)\n",
    "        ref_img_g = cv2.cvtColor(ref_img,cv2.COLOR_RGBA2GRAY)\n",
    "        mov_img_g = cv2.cvtColor(mov_img,cv2.COLOR_RGBA2GRAY)\n",
    "        v, u = optical_flow_tvl1(ref_img_g, mov_img_g)\n",
    "        print(\"v\",v.shape)\n",
    "        print(\"u\",u.shape)\n",
    "        nr, nc = ref_img_g.shape\n",
    "        row_coords, col_coords = np.meshgrid(np.arange(nr), np.arange(nc),\n",
    "                                             indexing='ij')\n",
    "\n",
    "        mov_img_warp_ra =[]\n",
    "        for i in range(3):\n",
    "            #mov_img warped (2d array) = mov img (before warped) (2d array since each channel) warped by optical flow components v u of each axis (2 makes 2d), which is added to row_coords and col_coords of the ref img (fixed image).\n",
    "            mov_img_warp = warp(mov_img[:,:,i], np.array([row_coords + v, col_coords + u]),mode='edge')\n",
    "            print(mov_img[:,:,i])\n",
    "            print(mov_img[:,:,i].shape)\n",
    "            print(np.array([row_coords + v, col_coords + u]))\n",
    "            print(np.array([row_coords + v, col_coords + u]).shape)\n",
    "            print(mov_img_warp)\n",
    "            print(mov_img_warp.shape)\n",
    "            mov_img_warp_ra.append(mov_img_warp)\n",
    "        r = np.array(mov_img_warp_ra[0]*255).astype('uint8')\n",
    "        g = np.array(mov_img_warp_ra[1]*255).astype('uint8')\n",
    "        b = np.array(mov_img_warp_ra[2]*255).astype('uint8')\n",
    "        rgb = np.stack([r,g,b],axis=2)\n",
    "        reg_img = Image.fromarray(rgb)\n",
    "        print(idx)\n",
    "        # reg_img.save(os.path.join(save_path,str(mov_img_name[idx]) + '.png'))\n",
    "\n",
    "    end = time()\n",
    "    print(\"time it took to register: \"+  str((end-start)/60) + \" minutes\")\n"
   ],
   "metadata": {
    "collapsed": false
   }
  },
  {
   "cell_type": "code",
   "execution_count": 40,
   "outputs": [
    {
     "name": "stdout",
     "output_type": "stream",
     "text": [
      "v (6328, 5352)\n",
      "u (6328, 5352)\n",
      "[[255 255 255 ... 255 255 255]\n",
      " [255 255 255 ... 255 255 255]\n",
      " [255 255 255 ... 255 255 255]\n",
      " ...\n",
      " [255 255 255 ... 237 237 247]\n",
      " [255 255 255 ... 237 237 247]\n",
      " [255 255 255 ... 237 237 246]]\n",
      "(6328, 5352)\n",
      "[[[  93.27698517   93.27725983   93.2778244  ...   54.83100891\n",
      "     54.83141327   54.83161163]\n",
      "  [  94.27669525   94.27696228   94.27754211 ...   55.83059311\n",
      "     55.83098602   55.83118439]\n",
      "  [  95.27610016   95.27638245   95.27693939 ...   56.82975769\n",
      "     56.83015442   56.83033752]\n",
      "  ...\n",
      "  [6393.63539124 6393.63536835 6393.63533783 ... 6397.95688629\n",
      "   6397.95678711 6397.95672607]\n",
      "  [6394.63547516 6394.6354599  6394.63542175 ... 6398.95691681\n",
      "   6398.95679474 6398.95674133]\n",
      "  [6395.63552094 6395.63549805 6395.63546753 ... 6399.95692444\n",
      "   6399.95681    6399.95674896]]\n",
      "\n",
      " [[  54.94009399   55.94036102   56.94089508 ... 5369.51122856\n",
      "   5370.51117706 5371.51115227]\n",
      "  [  54.93984604   55.94010925   56.94064331 ... 5369.51142502\n",
      "   5370.51137352 5371.51134872]\n",
      "  [  54.93933487   55.93959808   56.94012451 ... 5369.51181221\n",
      "   5370.51176834 5371.51174355]\n",
      "  ...\n",
      "  [ 149.01367188  150.01361084  151.01351929 ... 5439.23193359\n",
      "   5440.23259735 5441.23294067]\n",
      "  [ 149.01370239  150.01365662  151.01351929 ... 5439.23192596\n",
      "   5440.23260498 5441.23293304]\n",
      "  [ 149.01370239  150.01365662  151.0135498  ... 5439.23191833\n",
      "   5440.23259735 5441.23293304]]]\n",
      "(2, 6328, 5352)\n",
      "[[1.         1.         1.         ... 1.         1.         1.        ]\n",
      " [1.         1.         1.         ... 1.         1.         1.        ]\n",
      " [1.         1.         1.         ... 1.         1.         1.        ]\n",
      " ...\n",
      " [1.         1.         1.         ... 0.96470588 0.96470588 0.96470588]\n",
      " [1.         1.         1.         ... 0.96470588 0.96470588 0.96470588]\n",
      " [1.         1.         1.         ... 0.96470588 0.96470588 0.96470588]]\n",
      "(6328, 5352)\n",
      "[[255 255 255 ... 255 255 255]\n",
      " [255 255 255 ... 255 255 255]\n",
      " [255 255 255 ... 255 255 255]\n",
      " ...\n",
      " [255 255 255 ... 231 231 244]\n",
      " [255 255 255 ... 230 231 244]\n",
      " [255 255 255 ... 231 230 244]]\n",
      "(6328, 5352)\n",
      "[[[  93.27698517   93.27725983   93.2778244  ...   54.83100891\n",
      "     54.83141327   54.83161163]\n",
      "  [  94.27669525   94.27696228   94.27754211 ...   55.83059311\n",
      "     55.83098602   55.83118439]\n",
      "  [  95.27610016   95.27638245   95.27693939 ...   56.82975769\n",
      "     56.83015442   56.83033752]\n",
      "  ...\n",
      "  [6393.63539124 6393.63536835 6393.63533783 ... 6397.95688629\n",
      "   6397.95678711 6397.95672607]\n",
      "  [6394.63547516 6394.6354599  6394.63542175 ... 6398.95691681\n",
      "   6398.95679474 6398.95674133]\n",
      "  [6395.63552094 6395.63549805 6395.63546753 ... 6399.95692444\n",
      "   6399.95681    6399.95674896]]\n",
      "\n",
      " [[  54.94009399   55.94036102   56.94089508 ... 5369.51122856\n",
      "   5370.51117706 5371.51115227]\n",
      "  [  54.93984604   55.94010925   56.94064331 ... 5369.51142502\n",
      "   5370.51137352 5371.51134872]\n",
      "  [  54.93933487   55.93959808   56.94012451 ... 5369.51181221\n",
      "   5370.51176834 5371.51174355]\n",
      "  ...\n",
      "  [ 149.01367188  150.01361084  151.01351929 ... 5439.23193359\n",
      "   5440.23259735 5441.23294067]\n",
      "  [ 149.01370239  150.01365662  151.01351929 ... 5439.23192596\n",
      "   5440.23260498 5441.23293304]\n",
      "  [ 149.01370239  150.01365662  151.0135498  ... 5439.23191833\n",
      "   5440.23259735 5441.23293304]]]\n",
      "(2, 6328, 5352)\n",
      "[[1.         1.         1.         ... 1.         1.         1.        ]\n",
      " [1.         1.         1.         ... 1.         1.         1.        ]\n",
      " [1.         1.         1.         ... 1.         1.         1.        ]\n",
      " ...\n",
      " [1.         1.         1.         ... 0.95686275 0.95686275 0.95686275]\n",
      " [1.         1.         1.         ... 0.95686275 0.95686275 0.95686275]\n",
      " [1.         1.         1.         ... 0.95686275 0.95686275 0.95686275]]\n",
      "(6328, 5352)\n",
      "[[255 255 255 ... 255 255 255]\n",
      " [255 255 255 ... 255 255 255]\n",
      " [255 255 255 ... 255 255 255]\n",
      " ...\n",
      " [255 255 255 ... 233 233 245]\n",
      " [255 255 255 ... 233 233 245]\n",
      " [255 255 255 ... 233 233 245]]\n",
      "(6328, 5352)\n",
      "[[[  93.27698517   93.27725983   93.2778244  ...   54.83100891\n",
      "     54.83141327   54.83161163]\n",
      "  [  94.27669525   94.27696228   94.27754211 ...   55.83059311\n",
      "     55.83098602   55.83118439]\n",
      "  [  95.27610016   95.27638245   95.27693939 ...   56.82975769\n",
      "     56.83015442   56.83033752]\n",
      "  ...\n",
      "  [6393.63539124 6393.63536835 6393.63533783 ... 6397.95688629\n",
      "   6397.95678711 6397.95672607]\n",
      "  [6394.63547516 6394.6354599  6394.63542175 ... 6398.95691681\n",
      "   6398.95679474 6398.95674133]\n",
      "  [6395.63552094 6395.63549805 6395.63546753 ... 6399.95692444\n",
      "   6399.95681    6399.95674896]]\n",
      "\n",
      " [[  54.94009399   55.94036102   56.94089508 ... 5369.51122856\n",
      "   5370.51117706 5371.51115227]\n",
      "  [  54.93984604   55.94010925   56.94064331 ... 5369.51142502\n",
      "   5370.51137352 5371.51134872]\n",
      "  [  54.93933487   55.93959808   56.94012451 ... 5369.51181221\n",
      "   5370.51176834 5371.51174355]\n",
      "  ...\n",
      "  [ 149.01367188  150.01361084  151.01351929 ... 5439.23193359\n",
      "   5440.23259735 5441.23294067]\n",
      "  [ 149.01370239  150.01365662  151.01351929 ... 5439.23192596\n",
      "   5440.23260498 5441.23293304]\n",
      "  [ 149.01370239  150.01365662  151.0135498  ... 5439.23191833\n",
      "   5440.23259735 5441.23293304]]]\n",
      "(2, 6328, 5352)\n",
      "[[1.         1.         1.         ... 1.         1.         1.        ]\n",
      " [1.         1.         1.         ... 1.         1.         1.        ]\n",
      " [1.         1.         1.         ... 1.         1.         1.        ]\n",
      " ...\n",
      " [1.         1.         1.         ... 0.96078431 0.96078431 0.96078431]\n",
      " [1.         1.         1.         ... 0.96078431 0.96078431 0.96078431]\n",
      " [1.         1.         1.         ... 0.96078431 0.96078431 0.96078431]]\n",
      "(6328, 5352)\n",
      "0\n",
      "v (6328, 5352)\n",
      "u (6328, 5352)\n",
      "[[255 255 255 ... 255 255 255]\n",
      " [255 255 255 ... 255 255 255]\n",
      " [255 255 255 ... 255 255 255]\n",
      " ...\n",
      " [255 255 255 ... 237 237 237]\n",
      " [255 255 255 ... 237 237 237]\n",
      " [255 255 255 ... 237 237 237]]\n",
      "(6328, 5352)\n",
      "[[[ 222.27493286  222.27351379  222.27072144 ...   77.32824707\n",
      "     77.32722473   77.32671356]\n",
      "  [ 223.27514648  223.27372742  223.27093506 ...   78.32774353\n",
      "     78.32674408   78.32624054]\n",
      "  [ 224.27555847  224.2741394   224.27133179 ...   79.32688904\n",
      "     79.32590485   79.32540894]\n",
      "  ...\n",
      "  [6369.56668854 6369.56684113 6369.56714249 ... 6380.47059631\n",
      "   6380.47061157 6380.47061157]\n",
      "  [6370.56682968 6370.56698227 6370.56727982 ... 6381.47094727\n",
      "   6381.4709549  6381.47096252]\n",
      "  [6371.56690216 6371.56704712 6371.56735229 ... 6382.47111511\n",
      "   6382.47113419 6382.47113419]]\n",
      "\n",
      " [[  84.93728638   85.9371109    86.93672943 ... 5297.52230453\n",
      "   5298.52214813 5299.52206802]\n",
      "  [  84.93722534   85.93703461   86.93667603 ... 5297.52235413\n",
      "   5298.52219772 5299.52212143]\n",
      "  [  84.93708801   85.9369278    86.93656158 ... 5297.52244949\n",
      "   5298.52228928 5299.52221298]\n",
      "  ...\n",
      "  [ 331.67819214  332.67904663  333.68060303 ... 5508.40583801\n",
      "   5509.40579224 5510.40577698]\n",
      "  [ 331.67825317  332.67907715  333.68066406 ... 5508.40588379\n",
      "   5509.40582275 5510.4058075 ]\n",
      "  [ 331.67828369  332.67907715  333.68063354 ... 5508.40588379\n",
      "   5509.40585327 5510.40582275]]]\n",
      "(2, 6328, 5352)\n",
      "[[1.         1.         1.         ... 1.         1.         1.        ]\n",
      " [1.         1.         1.         ... 1.         1.         1.        ]\n",
      " [1.         1.         1.         ... 1.         1.         1.        ]\n",
      " ...\n",
      " [1.         1.         1.         ... 0.92941176 0.92941176 0.92941176]\n",
      " [1.         1.         1.         ... 0.92941176 0.92941176 0.92941176]\n",
      " [1.         1.         1.         ... 0.92941176 0.92941176 0.92941176]]\n",
      "(6328, 5352)\n",
      "[[255 255 255 ... 255 255 255]\n",
      " [255 255 255 ... 255 255 255]\n",
      " [255 255 255 ... 255 255 255]\n",
      " ...\n",
      " [255 255 255 ... 231 231 231]\n",
      " [255 255 255 ... 230 231 231]\n",
      " [255 255 255 ... 230 230 231]]\n",
      "(6328, 5352)\n",
      "[[[ 222.27493286  222.27351379  222.27072144 ...   77.32824707\n",
      "     77.32722473   77.32671356]\n",
      "  [ 223.27514648  223.27372742  223.27093506 ...   78.32774353\n",
      "     78.32674408   78.32624054]\n",
      "  [ 224.27555847  224.2741394   224.27133179 ...   79.32688904\n",
      "     79.32590485   79.32540894]\n",
      "  ...\n",
      "  [6369.56668854 6369.56684113 6369.56714249 ... 6380.47059631\n",
      "   6380.47061157 6380.47061157]\n",
      "  [6370.56682968 6370.56698227 6370.56727982 ... 6381.47094727\n",
      "   6381.4709549  6381.47096252]\n",
      "  [6371.56690216 6371.56704712 6371.56735229 ... 6382.47111511\n",
      "   6382.47113419 6382.47113419]]\n",
      "\n",
      " [[  84.93728638   85.9371109    86.93672943 ... 5297.52230453\n",
      "   5298.52214813 5299.52206802]\n",
      "  [  84.93722534   85.93703461   86.93667603 ... 5297.52235413\n",
      "   5298.52219772 5299.52212143]\n",
      "  [  84.93708801   85.9369278    86.93656158 ... 5297.52244949\n",
      "   5298.52228928 5299.52221298]\n",
      "  ...\n",
      "  [ 331.67819214  332.67904663  333.68060303 ... 5508.40583801\n",
      "   5509.40579224 5510.40577698]\n",
      "  [ 331.67825317  332.67907715  333.68066406 ... 5508.40588379\n",
      "   5509.40582275 5510.4058075 ]\n",
      "  [ 331.67828369  332.67907715  333.68063354 ... 5508.40588379\n",
      "   5509.40585327 5510.40582275]]]\n",
      "(2, 6328, 5352)\n",
      "[[1.         1.         1.         ... 1.         1.         1.        ]\n",
      " [1.         1.         1.         ... 1.         1.         1.        ]\n",
      " [1.         1.         1.         ... 1.         1.         1.        ]\n",
      " ...\n",
      " [1.         1.         1.         ... 0.90588235 0.90588235 0.90588235]\n",
      " [1.         1.         1.         ... 0.90588235 0.90588235 0.90588235]\n",
      " [1.         1.         1.         ... 0.90588235 0.90588235 0.90588235]]\n",
      "(6328, 5352)\n"
     ]
    },
    {
     "name": "stderr",
     "output_type": "stream",
     "text": [
      "\n",
      "KeyboardInterrupt\n",
      "\n"
     ]
    }
   ],
   "source": [
    "registrate_two_images(reference_image_path=r'\\\\fatherserverdw\\Kevin\\imageregistration2\\padded_images',moving_image_path=r'\\\\fatherserverdw\\Kevin\\imageregistration2\\registered_images',save_path = None)"
   ],
   "metadata": {
    "collapsed": false
   }
  },
  {
   "cell_type": "code",
   "execution_count": 38,
   "outputs": [
    {
     "data": {
      "text/plain": "(6328, 5352)"
     },
     "execution_count": 38,
     "metadata": {},
     "output_type": "execute_result"
    }
   ],
   "source": [
    "b = np.meshgrid(np.arange(6328),np.arange(5352), indexing='ij')\n",
    "b[1].shape"
   ],
   "metadata": {
    "collapsed": false
   }
  },
  {
   "cell_type": "code",
   "execution_count": 32,
   "outputs": [
    {
     "ename": "SyntaxError",
     "evalue": "invalid syntax (2329407227.py, line 13)",
     "output_type": "error",
     "traceback": [
      "\u001B[1;36m  Cell \u001B[1;32mIn[32], line 13\u001B[1;36m\u001B[0m\n\u001B[1;33m    points_ra = #2d array of some points from fixed image (np.meshgrid)\u001B[0m\n\u001B[1;37m                ^\u001B[0m\n\u001B[1;31mSyntaxError\u001B[0m\u001B[1;31m:\u001B[0m invalid syntax\n"
     ]
    }
   ],
   "source": [
    "def target_registration_error(reference_image,moving_image, display_errors = False, min_err = None, max_err = None, figure_size=(8,6)):\n",
    "    \"\"\"\n",
    "    Edited from: https://github.com/SimpleITK/SPIE2018_COURSE/blob/master/utilities.py\n",
    "    \"\"\"\n",
    "    start = time()\n",
    "    ref_img = Image.open(reference_image)\n",
    "    mov_img = Image.open(moving_image)\n",
    "    ref_img = np.array(ref_img)\n",
    "    mov_img = np.array(mov_img)\n",
    "    ref_img_g = cv2.cvtColor(ref_img,cv2.COLOR_RGBA2GRAY)\n",
    "    mov_img_g = cv2.cvtColor(mov_img,cv2.COLOR_RGBA2GRAY)\n",
    "    v, u = optical_flow_tvl1(ref_img_g, mov_img_g)\n",
    "    points_ra = #2d array of some points from fixed image (np.meshgrid)\n",
    "    points_list = # list of points_ra\n",
    "    transformed_points_ra = warp(points,np.array([v, u]),mode='edge')\n",
    "    transformed_points_list =\n",
    "      errors = [np.linalg.norm(np.array(p_fixed) -  np.array(p_moving)) # TRE = transformed point of fixed image - ref point of the moving image (the original point of fixed image and original point of moving image should be the \"same\" point of the image\n",
    "            for p_fixed,p_moving in zip(transformed_point_list, reference_point_list)]\n",
    "    if display_errors:\n",
    "        fig = plt.figure(figsize=figure_size)\n",
    "        ax = fig.add_subplot(111, projection='3d')\n",
    "    if not min_err:\n",
    "        min_err = np.min(errors)\n",
    "    if not max_err:\n",
    "        max_err = np.max(errors)\n",
    "\n",
    "    collection = ax.scatter(list(np.array(point_list).T)[0],\n",
    "                            list(np.array(point_list).T)[1],\n",
    "                            list(np.array(point_list).T)[2],\n",
    "                            marker = 'o',\n",
    "                            c = errors,\n",
    "                            vmin = min_err,\n",
    "                            vmax = max_err,\n",
    "                            cmap = matplotlib.cm.hot,\n",
    "                            label = 'original points')\n",
    "    plt.colorbar(collection, shrink=0.8)\n",
    "    plt.title('registration errors in mm', x=0.7, y=1.05)\n",
    "    ax.set_xlabel('X')\n",
    "    ax.set_ylabel('Y')\n",
    "    ax.set_zlabel('Z')\n",
    "    plt.show()\n",
    "\n",
    "return errors"
   ],
   "metadata": {
    "collapsed": false
   }
  },
  {
   "cell_type": "code",
   "execution_count": 3,
   "outputs": [],
   "source": [
    "def target_registration_errors(tx, point_list, reference_point_list,\n",
    "                               display_errors = False, min_err= None, max_err=None, figure_size=(8,6)):\n",
    "  \"\"\"\n",
    "  Distances between points transformed by the given transformation and their\n",
    "  location in another coordinate system. When the points are only used to\n",
    "  evaluate registration accuracy (not used in the registration) this is the\n",
    "  Target Registration Error (TRE).\n",
    "  Args:\n",
    "      tx (SimpleITK.Transform): The transform we want to evaluate.\n",
    "      point_list (list(tuple-like)): Points in fixed image\n",
    "                                     coordinate system.\n",
    "      reference_point_list (list(tuple-like)): Points in moving image\n",
    "                                               cooredinate system.\n",
    "      display_errors (boolean): Display a 3D figure with the points from\n",
    "                                point_list color corresponding to the error.\n",
    "      min_err, max_err (float): color range is linearly stretched between min_err\n",
    "                                and max_err. If these values are not given then\n",
    "                                the range of errors computed from the data is used.\n",
    "      figure_size (tuple): Figure size in inches.\n",
    "  Returns:\n",
    "   (errors) [float]: list of TRE values.\n",
    "  \"\"\"\n",
    "  transformed_point_list = [tx.TransformPoint(p) for p in point_list] # transform the fixed point from fixed image\n",
    "\n",
    "  errors = [np.linalg.norm(np.array(p_fixed) -  np.array(p_moving)) # TRE = transformed point of fixed image - ref point of the moving image (the original point of fixed image and original point of moving image should be the \"same\" point of the image\n",
    "            for p_fixed,p_moving in zip(transformed_point_list, reference_point_list)]\n",
    "  if display_errors:\n",
    "      from mpl_toolkits.mplot3d import Axes3D\n",
    "      import matplotlib.pyplot as plt\n",
    "      import matplotlib\n",
    "      fig = plt.figure(figsize=figure_size)\n",
    "      ax = fig.add_subplot(111, projection='3d')\n",
    "      if not min_err:\n",
    "          min_err = np.min(errors)\n",
    "      if not max_err:\n",
    "          max_err = np.max(errors)\n",
    "\n",
    "      collection = ax.scatter(list(np.array(point_list).T)[0],\n",
    "                              list(np.array(point_list).T)[1],\n",
    "                              list(np.array(point_list).T)[2],\n",
    "                              marker = 'o',\n",
    "                              c = errors,\n",
    "                              vmin = min_err,\n",
    "                              vmax = max_err,\n",
    "                              cmap = matplotlib.cm.hot,\n",
    "                              label = 'original points')\n",
    "      plt.colorbar(collection, shrink=0.8)\n",
    "      plt.title('registration errors in mm', x=0.7, y=1.05)\n",
    "      ax.set_xlabel('X')\n",
    "      ax.set_ylabel('Y')\n",
    "      ax.set_zlabel('Z')\n",
    "      plt.show()\n",
    "\n",
    "  return errors"
   ],
   "metadata": {
    "collapsed": false
   }
  },
  {
   "cell_type": "code",
   "execution_count": 50,
   "outputs": [],
   "source": [
    "# maybe new image registration method? maybe use vedo as suggested in one solution in this link for 3d registration: https://forum.image.sc/t/measuring-registration-accuracy/62651/6"
   ],
   "metadata": {
    "collapsed": false
   }
  },
  {
   "cell_type": "code",
   "execution_count": null,
   "outputs": [],
   "source": [],
   "metadata": {
    "collapsed": false
   }
  }
 ],
 "metadata": {
  "kernelspec": {
   "display_name": "Python 3",
   "language": "python",
   "name": "python3"
  },
  "language_info": {
   "codemirror_mode": {
    "name": "ipython",
    "version": 2
   },
   "file_extension": ".py",
   "mimetype": "text/x-python",
   "name": "python",
   "nbconvert_exporter": "python",
   "pygments_lexer": "ipython2",
   "version": "2.7.6"
  }
 },
 "nbformat": 4,
 "nbformat_minor": 0
}
