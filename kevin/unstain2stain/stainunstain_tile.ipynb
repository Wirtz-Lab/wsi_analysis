{
 "cells": [
  {
   "cell_type": "markdown",
   "source": [
    "# Workflow to tile the stainunstain images to 1024 x 1024 size"
   ],
   "metadata": {
    "collapsed": false
   }
  },
  {
   "cell_type": "code",
   "execution_count": 2,
   "outputs": [],
   "source": [
    "import numpy as np\n",
    "import time\n",
    "from PIL import Image\n",
    "Image.MAX_IMAGE_PIXELS = None\n",
    "from natsort import natsorted\n",
    "import cv2\n",
    "import os\n",
    "from matplotlib import pyplot as plt\n",
    "from skimage.morphology import remove_small_objects, remove_small_holes\n",
    "from skimage.color import rgb2gray\n",
    "from skimage.transform import warp\n",
    "from skimage.registration import optical_flow_tvl1, optical_flow_ilk\n",
    "import os\n",
    "import cv2\n",
    "os.environ[\"OPENCV_IO_MAX_IMAGE_PIXELS\"] = pow(2,40).__str__()\n",
    "import xml.etree.ElementTree as ET\n",
    "import numpy as np\n",
    "import pandas as pd\n",
    "import skimage.measure\n",
    "import scipy.stats as stats\n",
    "from glob import glob\n",
    "from time import time\n",
    "from skimage.measure import label, regionprops_table"
   ],
   "metadata": {
    "collapsed": false
   }
  },
  {
   "cell_type": "code",
   "execution_count": 10,
   "outputs": [
    {
     "data": {
      "text/plain": "['\\\\\\\\shelter\\\\Kyu\\\\unstain2stain\\\\biomax_images\\\\registrated_images\\\\sk244a\\\\sk244a0.png',\n '\\\\\\\\shelter\\\\Kyu\\\\unstain2stain\\\\biomax_images\\\\registrated_images\\\\sk244a\\\\sk244a1.png',\n '\\\\\\\\shelter\\\\Kyu\\\\unstain2stain\\\\biomax_images\\\\registrated_images\\\\sk244a\\\\sk244a10.png',\n '\\\\\\\\shelter\\\\Kyu\\\\unstain2stain\\\\biomax_images\\\\registrated_images\\\\sk244a\\\\sk244a11.png',\n '\\\\\\\\shelter\\\\Kyu\\\\unstain2stain\\\\biomax_images\\\\registrated_images\\\\sk244a\\\\sk244a12.png',\n '\\\\\\\\shelter\\\\Kyu\\\\unstain2stain\\\\biomax_images\\\\registrated_images\\\\sk244a\\\\sk244a13.png',\n '\\\\\\\\shelter\\\\Kyu\\\\unstain2stain\\\\biomax_images\\\\registrated_images\\\\sk244a\\\\sk244a14.png',\n '\\\\\\\\shelter\\\\Kyu\\\\unstain2stain\\\\biomax_images\\\\registrated_images\\\\sk244a\\\\sk244a15.png',\n '\\\\\\\\shelter\\\\Kyu\\\\unstain2stain\\\\biomax_images\\\\registrated_images\\\\sk244a\\\\sk244a16.png',\n '\\\\\\\\shelter\\\\Kyu\\\\unstain2stain\\\\biomax_images\\\\registrated_images\\\\sk244a\\\\sk244a17.png',\n '\\\\\\\\shelter\\\\Kyu\\\\unstain2stain\\\\biomax_images\\\\registrated_images\\\\sk244a\\\\sk244a18.png',\n '\\\\\\\\shelter\\\\Kyu\\\\unstain2stain\\\\biomax_images\\\\registrated_images\\\\sk244a\\\\sk244a19.png',\n '\\\\\\\\shelter\\\\Kyu\\\\unstain2stain\\\\biomax_images\\\\registrated_images\\\\sk244a\\\\sk244a2.png',\n '\\\\\\\\shelter\\\\Kyu\\\\unstain2stain\\\\biomax_images\\\\registrated_images\\\\sk244a\\\\sk244a20.png',\n '\\\\\\\\shelter\\\\Kyu\\\\unstain2stain\\\\biomax_images\\\\registrated_images\\\\sk244a\\\\sk244a21.png',\n '\\\\\\\\shelter\\\\Kyu\\\\unstain2stain\\\\biomax_images\\\\registrated_images\\\\sk244a\\\\sk244a22.png',\n '\\\\\\\\shelter\\\\Kyu\\\\unstain2stain\\\\biomax_images\\\\registrated_images\\\\sk244a\\\\sk244a23.png',\n '\\\\\\\\shelter\\\\Kyu\\\\unstain2stain\\\\biomax_images\\\\registrated_images\\\\sk244a\\\\sk244a24.png',\n '\\\\\\\\shelter\\\\Kyu\\\\unstain2stain\\\\biomax_images\\\\registrated_images\\\\sk244a\\\\sk244a3.png',\n '\\\\\\\\shelter\\\\Kyu\\\\unstain2stain\\\\biomax_images\\\\registrated_images\\\\sk244a\\\\sk244a4.png',\n '\\\\\\\\shelter\\\\Kyu\\\\unstain2stain\\\\biomax_images\\\\registrated_images\\\\sk244a\\\\sk244a5.png',\n '\\\\\\\\shelter\\\\Kyu\\\\unstain2stain\\\\biomax_images\\\\registrated_images\\\\sk244a\\\\sk244a6.png',\n '\\\\\\\\shelter\\\\Kyu\\\\unstain2stain\\\\biomax_images\\\\registrated_images\\\\sk244a\\\\sk244a7.png',\n '\\\\\\\\shelter\\\\Kyu\\\\unstain2stain\\\\biomax_images\\\\registrated_images\\\\sk244a\\\\sk244a8.png',\n '\\\\\\\\shelter\\\\Kyu\\\\unstain2stain\\\\biomax_images\\\\registrated_images\\\\sk244a\\\\sk244a9.png']"
     },
     "execution_count": 10,
     "metadata": {},
     "output_type": "execute_result"
    }
   ],
   "source": [
    "stainsrc = r'\\\\shelter\\Kyu\\unstain2stain\\biomax_images\\stained\\padded_images\\sk244a'\n",
    "stainlist = [_ for _ in os.listdir(stainsrc) if _.endswith('png')]\n",
    "stainlist_name = [x.replace(\".png\", \"\") for x in stainlist]\n",
    "stainlist_path = [os.path.join(stainsrc,x) for x in stainlist]\n",
    "unstainsrc = r'\\\\shelter\\Kyu\\unstain2stain\\biomax_images\\registrated_images\\sk244a'\n",
    "unstainlist = [_ for _ in os.listdir(unstainsrc) if _.endswith('png')]\n",
    "unstainlist_name = [x.replace(\".png\", \"\") for x in unstainlist]\n",
    "unstainlist_path = [os.path.join(unstainsrc,x) for x in unstainlist]"
   ],
   "metadata": {
    "collapsed": false
   }
  },
  {
   "cell_type": "code",
   "execution_count": null,
   "outputs": [],
   "source": [],
   "metadata": {
    "collapsed": false
   }
  }
 ],
 "metadata": {
  "kernelspec": {
   "display_name": "Python 3",
   "language": "python",
   "name": "python3"
  },
  "language_info": {
   "codemirror_mode": {
    "name": "ipython",
    "version": 2
   },
   "file_extension": ".py",
   "mimetype": "text/x-python",
   "name": "python",
   "nbconvert_exporter": "python",
   "pygments_lexer": "ipython2",
   "version": "2.7.6"
  }
 },
 "nbformat": 4,
 "nbformat_minor": 0
}
