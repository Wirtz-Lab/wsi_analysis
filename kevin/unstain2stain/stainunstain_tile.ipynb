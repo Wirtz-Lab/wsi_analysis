{
 "cells": [
  {
   "cell_type": "markdown",
   "source": [
    "# Workflow to tile the stainunstain images to 1024 x 1024 size"
   ],
   "metadata": {
    "collapsed": false
   }
  },
  {
   "cell_type": "code",
   "execution_count": 1,
   "outputs": [],
   "source": [
    "import numpy as np\n",
    "import time\n",
    "from PIL import Image\n",
    "Image.MAX_IMAGE_PIXELS = None\n",
    "from natsort import natsorted\n",
    "import cv2\n",
    "import os\n",
    "from matplotlib import pyplot as plt\n",
    "from skimage.morphology import remove_small_objects, remove_small_holes\n",
    "from skimage.color import rgb2gray\n",
    "from skimage.transform import warp\n",
    "from skimage.registration import optical_flow_tvl1, optical_flow_ilk\n",
    "import os\n",
    "import cv2\n",
    "os.environ[\"OPENCV_IO_MAX_IMAGE_PIXELS\"] = pow(2,40).__str__()\n",
    "import xml.etree.ElementTree as ET\n",
    "import numpy as np\n",
    "import pandas as pd\n",
    "import skimage.measure\n",
    "import scipy.stats as stats\n",
    "from glob import glob\n",
    "from time import time\n",
    "from skimage.measure import label, regionprops_table"
   ],
   "metadata": {
    "collapsed": false
   }
  },
  {
   "cell_type": "code",
   "execution_count": 2,
   "outputs": [],
   "source": [
    "stainsrc = r'\\\\shelter\\Kyu\\unstain2stain\\biomax_images\\stained\\padded_images\\sk244a'\n",
    "stainlist = [_ for _ in os.listdir(stainsrc) if _.endswith('png')]\n",
    "stainlist_name = [x.replace(\".png\", \"\") for x in stainlist]\n",
    "stainlist_path = [os.path.join(stainsrc,x) for x in stainlist]\n",
    "unstainsrc = r'\\\\shelter\\Kyu\\unstain2stain\\biomax_images\\registrated_images\\sk244a'\n",
    "unstainlist = [_ for _ in os.listdir(unstainsrc) if _.endswith('png')]\n",
    "unstainlist_name = [x.replace(\".png\", \"\") for x in unstainlist]\n",
    "unstainlist_path = [os.path.join(unstainsrc,x) for x in unstainlist]"
   ],
   "metadata": {
    "collapsed": false
   }
  },
  {
   "cell_type": "code",
   "execution_count": 3,
   "outputs": [],
   "source": [
    "# unstain_img = Image.open(unstainlist_path[0])\n",
    "# stain_img = Image.open(stainlist_path[0])\n",
    "# stain_img_ra = np.array(stain_img) # shape H X W x 4 RGBA\n",
    "# unstain_img_ra = np.array(unstain_img) # shape H X W x 3 RGB"
   ],
   "metadata": {
    "collapsed": false
   }
  },
  {
   "cell_type": "code",
   "execution_count": 4,
   "outputs": [],
   "source": [
    "# workflow of removing small objects and making a \"clean mask\". Then make square tiles of 1024 x 1024, so that there isn't any whitespace in the image. Do the stain img and unstain image at the same time. ChatGPT?\n",
    "#\n",
    "# mask_img = Image.open(mask_files_path_complete[0])\n",
    "# mask_ra = np.array(mask_img)\n",
    "# ta = np.array(mask_ra)\n",
    "# ta2 = (0<ta) &  (ta<12)\n",
    "# ta3 = remove_small_objects(ta2,1000000)\n",
    "# ta4 = remove_small_holes(ta3,100000)"
   ],
   "metadata": {
    "collapsed": false
   }
  },
  {
   "cell_type": "code",
   "execution_count": 7,
   "outputs": [],
   "source": [
    "from PIL import Image\n",
    "import numpy as np\n",
    "import os\n",
    "\n",
    "def tile_image(img, tile_size, output_dir):\n",
    "    \"\"\"\n",
    "    Takes an input image and tiles it into smaller images of size tile_size.\n",
    "    Saves the resulting images to the output_dir directory.\n",
    "    \"\"\"\n",
    "    # Get the width and height of the input image\n",
    "    width, height = img.size\n",
    "\n",
    "    # Compute the number of rows and columns of tiles\n",
    "    num_cols = int(np.ceil(width / tile_size))\n",
    "    num_rows = int(np.ceil(height / tile_size))\n",
    "\n",
    "    # Loop over each tile\n",
    "    for row in range(num_rows):\n",
    "        for col in range(num_cols):\n",
    "            # Compute the bounding box for this tile\n",
    "            left = col * tile_size\n",
    "            upper = row * tile_size\n",
    "            right = min((col + 1) * tile_size, width)\n",
    "            lower = min((row + 1) * tile_size, height)\n",
    "\n",
    "            # Crop the image to the bounding box\n",
    "            tile = img.crop((left, upper, right, lower))\n",
    "\n",
    "            # Check if the tile has enough non-white pixels\n",
    "            nonwhite_pixels = np.sum(np.array(tile) != 255 * np.ones((tile_size, tile_size, 3), dtype=np.uint8))\n",
    "            if nonwhite_pixels < 0.1 * tile_size * tile_size * 3:\n",
    "                continue\n",
    "\n",
    "            # Save the tile to a file\n",
    "            filename = os.path.join(output_dir, f\"{row}_{col}.png\")\n",
    "            tile.save(filename)\n",
    "\n",
    "# # Example usage\n",
    "# if __name__ == '__main__':\n",
    "#     # Load the images\n",
    "#     unstained_img = Image.open(\"unstained_img.png\")\n",
    "#     stained_img = Image.open(\"stained_img.png\")\n",
    "#\n",
    "#     # Convert the RGBA image to RGB\n",
    "#     if stained_img.mode == \"RGBA\":\n",
    "#         stained_img = stained_img.convert(\"RGB\")\n",
    "#\n",
    "#     # Set the tile size\n",
    "#     tile_size = 1024\n",
    "#\n",
    "#     # Create the output directories\n",
    "#     os.makedirs(\"unstained_tiles\", exist_ok=True)\n",
    "#     os.makedirs(\"stained_tiles\", exist_ok=True)\n",
    "#\n",
    "#     # Tile the images\n",
    "#     tile_image(unstained_img, tile_size, \"unstained_tiles\")\n",
    "#     tile_image(stained_img, tile_size, \"stained_tiles\")\n"
   ],
   "metadata": {
    "collapsed": false
   }
  },
  {
   "cell_type": "code",
   "execution_count": 10,
   "outputs": [
    {
     "name": "stderr",
     "output_type": "stream",
     "text": [
      "C:\\Users\\labuser\\AppData\\Local\\Temp\\ipykernel_6740\\3823649124.py:30: DeprecationWarning: elementwise comparison failed; this will raise an error in the future.\n",
      "  nonwhite_pixels = np.sum(np.array(tile) != 255 * np.ones((tile_size, tile_size, 3), dtype=np.uint8))\n"
     ]
    }
   ],
   "source": [
    "img1 = Image.open(unstainlist_path[0])\n",
    "tile_image(img1, 1024, r'\\\\shelter\\Kyu\\unstain2stain\\biomax_images\\tiled_images')"
   ],
   "metadata": {
    "collapsed": false
   }
  },
  {
   "cell_type": "code",
   "execution_count": null,
   "outputs": [],
   "source": [],
   "metadata": {
    "collapsed": false
   }
  }
 ],
 "metadata": {
  "kernelspec": {
   "display_name": "Python 3",
   "language": "python",
   "name": "python3"
  },
  "language_info": {
   "codemirror_mode": {
    "name": "ipython",
    "version": 2
   },
   "file_extension": ".py",
   "mimetype": "text/x-python",
   "name": "python",
   "nbconvert_exporter": "python",
   "pygments_lexer": "ipython2",
   "version": "2.7.6"
  }
 },
 "nbformat": 4,
 "nbformat_minor": 0
}
