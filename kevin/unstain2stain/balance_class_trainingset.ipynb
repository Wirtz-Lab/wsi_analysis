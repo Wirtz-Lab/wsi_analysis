{
 "cells": [
  {
   "cell_type": "code",
   "execution_count": 2,
   "metadata": {
    "collapsed": true
   },
   "outputs": [],
   "source": [
    "import os\n",
    "vipshome = r'C:\\Users\\Kevin\\Downloads\\vips-dev-8.14\\bin'\n",
    "os.environ['PATH'] = vipshome + ';' + os.environ['PATH']\n",
    "import pyvips"
   ]
  },
  {
   "cell_type": "code",
   "execution_count": 3,
   "outputs": [],
   "source": [
    "import numpy as np\n",
    "import os\n",
    "from PIL import Image\n",
    "Image.MAX_IMAGE_PIXELS = None\n",
    "import cv2\n",
    "import os\n",
    "from matplotlib import pyplot as plt\n",
    "from skimage.morphology import remove_small_objects, remove_small_holes\n",
    "from skimage.color import rgb2gray\n",
    "from skimage.transform import warp\n",
    "from skimage.registration import optical_flow_tvl1, optical_flow_ilk\n",
    "import xml.etree.ElementTree as ET\n",
    "import pandas as pd\n",
    "import skimage.measure\n",
    "import scipy.stats as stats\n",
    "import time\n",
    "import shutil\n",
    "from tqdm import tqdm\n",
    "from skimage.measure import label, regionprops_table"
   ],
   "metadata": {
    "collapsed": false
   }
  },
  {
   "cell_type": "code",
   "execution_count": null,
   "outputs": [],
   "source": [
    "### Find tissue composition of all the label/classes defined by the mask that was created by using the MATLAB deeplabv3 segmentation model:\n",
    "\n",
    "# First get list of all deparafinized and student_score >2 and CLUE:\n",
    "all_df_src = r'\\\\shelter\\Kyu\\unstain2stain\\unstain2stain_wsi\\wsi_list_230314.xlsx'\n",
    "all_df = pd.read_excel(all_df_src)\n",
    "desired_df_name = all_df[all_df.scan_batch == 3]\n",
    "desired_df_name1 = all_df[all_df.scan_batch == 4]\n",
    "desired_name = list(desired_df_name.wsi_name)\n",
    "desired_name1 = list(desired_df_name1.wsi_name)\n",
    "desired_names = desired_name + desired_name1\n",
    "desired_names = [x for x in desired_names if x[-3:] == \"_he\"]\n",
    "desired_names = [x+\".png\" for x in desired_names]"
   ],
   "metadata": {
    "collapsed": false,
    "pycharm": {
     "is_executing": true
    }
   }
  },
  {
   "cell_type": "code",
   "execution_count": null,
   "outputs": [],
   "source": [
    "# save xlsx for individual masks:\n",
    "masksrc = r'\\\\shelter\\Kyu\\unstain2stain\\unstain2stain_wsi\\HE\\1um\\classification_v9_combined'\n",
    "desired_mask_src = [os.path.join(masksrc,x) for x in desired_names]\n",
    "desired_mask_names = [os.listdir(x) for x in desired_mask_src]\n",
    "save_src = r'\\\\shelter\\Kyu\\unstain2stain\\unstain2stain_wsi\\HE\\1um\\classification_v9_combined\\composition'\n",
    "class_list = list(['corneum','spinosum','hairshaft','hairfollicle','smoothmuscle','oil','sweat','nerve','bloodvessel','ecm','fat','white'])\n",
    "comps_df = pd.DataFrame(index = class_list)\n",
    "\n",
    "for idx in tqdm(range(0,len(desired_mask_src)),total = len(desired_mask_src),desc=\"Image processed\",colour='red'):\n",
    "    print(\"processing image: {}\".format(desired_mask_src[idx]))\n",
    "    fn, _ = os.path.splitext(desired_mask_names[idx])\n",
    "    # check if xlsx exists in destination\n",
    "    save_src_xlsx = os.path.join(save_src, fn + \".xlsx\")\n",
    "    if os.path.exists(save_src_xlsx):\n",
    "        print(\"xlsx for image {} already exists, skipping to next\".format(desired_mask_src[idx]))\n",
    "        continue\n",
    "    DLarr = Image.open(desired_mask_src[idx])\n",
    "    DLarr = np.array(DLarr)\n",
    "    DLarr = DLarr[DLarr < 12] #background 12 shouldn't count in the composition\n",
    "    DLarr_flatten = DLarr.flatten()\n",
    "    hist = np.bincount(DLarr_flatten) #dl mask\n",
    "    hist = hist/np.sum(hist)*100\n",
    "    count_list = list(hist)\n",
    "    del(count_list[0])\n",
    "    count_list = [np.round(x,3) for x in count_list]\n",
    "    ratio_class_dict = dict(zip(class_list,count_list))\n",
    "    tmp_df = pd.DataFrame.from_dict(ratio_class_dict,orient='index')\n",
    "    comps_df = pd.concat([comps_df,pd.DataFrame.from_dict(tmp_df)],axis=1)\n",
    "    comps_df.dropna()\n",
    "    comps_df.rename(columns = {0:'composition'}, inplace=True)\n",
    "    comps_df.to_excel(save_src_xlsx)"
   ],
   "metadata": {
    "collapsed": false,
    "pycharm": {
     "is_executing": true
    }
   }
  },
  {
   "cell_type": "code",
   "execution_count": 81,
   "outputs": [],
   "source": [
    "# src = r'\\\\shelter\\Kyu\\unstain2stain\\unstain2stain_wsi\\HE\\1um\\classification_v9_combined\\OTS_11932_2_he.png'\n",
    "# class_list = list(['corneum','spinosum','hairshaft','hairfollicle','smoothmuscle','oil','sweat','nerve','bloodvessel','ecm','fat','white'])\n",
    "# comps_df = pd.DataFrame(index = class_list)\n",
    "# DLarr = Image.open(src)\n",
    "# DLarr = np.array(DLarr)\n",
    "# DLarr = DLarr[DLarr < 12] #background 12 shouldn't count in the composition\n",
    "# DLarr_flatten = DLarr.flatten()\n",
    "# hist = np.bincount(DLarr_flatten) #dl mask\n",
    "# hist = hist/np.sum(hist)*100\n",
    "# count_list = list(hist)\n",
    "# del(count_list[0])\n",
    "# count_list = [np.round(x,3) for x in count_list]\n",
    "# ratio_class_dict = dict(zip(class_list,count_list))\n",
    "# tmp_df = pd.DataFrame.from_dict(ratio_class_dict,orient='index')\n",
    "# comps_df = pd.concat([comps_df,pd.DataFrame.from_dict(tmp_df)],axis=1)\n",
    "# comps_df.dropna()\n",
    "# comps_df.rename(columns = {0:'composition'}, inplace=True)"
   ],
   "metadata": {
    "collapsed": false
   }
  },
  {
   "cell_type": "code",
   "execution_count": 82,
   "outputs": [
    {
     "data": {
      "text/plain": "              composition\ncorneum             1.641\nspinosum            8.653\nhairshaft           0.426\nhairfollicle        1.084\nsmoothmuscle        4.234\noil                 0.038\nsweat               0.036\nnerve               2.214\nbloodvessel         2.044\necm                78.321\nfat                 1.308\nwhite                 NaN",
      "text/html": "<div>\n<style scoped>\n    .dataframe tbody tr th:only-of-type {\n        vertical-align: middle;\n    }\n\n    .dataframe tbody tr th {\n        vertical-align: top;\n    }\n\n    .dataframe thead th {\n        text-align: right;\n    }\n</style>\n<table border=\"1\" class=\"dataframe\">\n  <thead>\n    <tr style=\"text-align: right;\">\n      <th></th>\n      <th>composition</th>\n    </tr>\n  </thead>\n  <tbody>\n    <tr>\n      <th>corneum</th>\n      <td>1.641</td>\n    </tr>\n    <tr>\n      <th>spinosum</th>\n      <td>8.653</td>\n    </tr>\n    <tr>\n      <th>hairshaft</th>\n      <td>0.426</td>\n    </tr>\n    <tr>\n      <th>hairfollicle</th>\n      <td>1.084</td>\n    </tr>\n    <tr>\n      <th>smoothmuscle</th>\n      <td>4.234</td>\n    </tr>\n    <tr>\n      <th>oil</th>\n      <td>0.038</td>\n    </tr>\n    <tr>\n      <th>sweat</th>\n      <td>0.036</td>\n    </tr>\n    <tr>\n      <th>nerve</th>\n      <td>2.214</td>\n    </tr>\n    <tr>\n      <th>bloodvessel</th>\n      <td>2.044</td>\n    </tr>\n    <tr>\n      <th>ecm</th>\n      <td>78.321</td>\n    </tr>\n    <tr>\n      <th>fat</th>\n      <td>1.308</td>\n    </tr>\n    <tr>\n      <th>white</th>\n      <td>NaN</td>\n    </tr>\n  </tbody>\n</table>\n</div>"
     },
     "execution_count": 82,
     "metadata": {},
     "output_type": "execute_result"
    }
   ],
   "source": [
    "comps_df"
   ],
   "metadata": {
    "collapsed": false
   }
  },
  {
   "cell_type": "code",
   "execution_count": null,
   "outputs": [],
   "source": [],
   "metadata": {
    "collapsed": false
   }
  }
 ],
 "metadata": {
  "kernelspec": {
   "display_name": "Python 3",
   "language": "python",
   "name": "python3"
  },
  "language_info": {
   "codemirror_mode": {
    "name": "ipython",
    "version": 2
   },
   "file_extension": ".py",
   "mimetype": "text/x-python",
   "name": "python",
   "nbconvert_exporter": "python",
   "pygments_lexer": "ipython2",
   "version": "2.7.6"
  }
 },
 "nbformat": 4,
 "nbformat_minor": 0
}
