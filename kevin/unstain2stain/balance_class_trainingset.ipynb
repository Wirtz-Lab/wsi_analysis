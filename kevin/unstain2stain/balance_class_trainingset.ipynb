{
 "cells": [
  {
   "cell_type": "code",
   "execution_count": 13,
   "metadata": {
    "collapsed": true
   },
   "outputs": [
    {
     "ename": "OSError",
     "evalue": "cannot load library 'C:\\Users\\Kevin\\Documents\\openslide-win64-20221217\\bin\\libgobject-2.0-0.dll': error 0x7f",
     "output_type": "error",
     "traceback": [
      "\u001B[1;31m---------------------------------------------------------------------------\u001B[0m",
      "\u001B[1;31mModuleNotFoundError\u001B[0m                       Traceback (most recent call last)",
      "File \u001B[1;32m~\\.conda\\envs\\wsi_analysis1\\lib\\site-packages\\pyvips\\__init__.py:19\u001B[0m\n\u001B[0;32m     18\u001B[0m \u001B[38;5;28;01mtry\u001B[39;00m:\n\u001B[1;32m---> 19\u001B[0m     \u001B[38;5;28;01mimport\u001B[39;00m \u001B[38;5;21;01m_libvips\u001B[39;00m\n\u001B[0;32m     21\u001B[0m     logger\u001B[38;5;241m.\u001B[39mdebug(\u001B[38;5;124m'\u001B[39m\u001B[38;5;124mLoaded binary module _libvips\u001B[39m\u001B[38;5;124m'\u001B[39m)\n",
      "\u001B[1;31mModuleNotFoundError\u001B[0m: No module named '_libvips'",
      "\nDuring handling of the above exception, another exception occurred:\n",
      "\u001B[1;31mOSError\u001B[0m                                   Traceback (most recent call last)",
      "Cell \u001B[1;32mIn[13], line 4\u001B[0m\n\u001B[0;32m      2\u001B[0m vipshome \u001B[38;5;241m=\u001B[39m \u001B[38;5;124mr\u001B[39m\u001B[38;5;124m'\u001B[39m\u001B[38;5;124mC:\u001B[39m\u001B[38;5;124m\\\u001B[39m\u001B[38;5;124mUsers\u001B[39m\u001B[38;5;124m\\\u001B[39m\u001B[38;5;124mKevin\u001B[39m\u001B[38;5;124m\\\u001B[39m\u001B[38;5;124mDownloads\u001B[39m\u001B[38;5;124m\\\u001B[39m\u001B[38;5;124mvips-dev-8.14\u001B[39m\u001B[38;5;124m\\\u001B[39m\u001B[38;5;124mbin\u001B[39m\u001B[38;5;124m'\u001B[39m\n\u001B[0;32m      3\u001B[0m os\u001B[38;5;241m.\u001B[39menviron[\u001B[38;5;124m'\u001B[39m\u001B[38;5;124mPATH\u001B[39m\u001B[38;5;124m'\u001B[39m] \u001B[38;5;241m=\u001B[39m vipshome \u001B[38;5;241m+\u001B[39m \u001B[38;5;124m'\u001B[39m\u001B[38;5;124m;\u001B[39m\u001B[38;5;124m'\u001B[39m \u001B[38;5;241m+\u001B[39m os\u001B[38;5;241m.\u001B[39menviron[\u001B[38;5;124m'\u001B[39m\u001B[38;5;124mPATH\u001B[39m\u001B[38;5;124m'\u001B[39m]\n\u001B[1;32m----> 4\u001B[0m \u001B[38;5;28;01mimport\u001B[39;00m \u001B[38;5;21;01mpyvips\u001B[39;00m\n",
      "File \u001B[1;32m~\\.conda\\envs\\wsi_analysis1\\lib\\site-packages\\pyvips\\__init__.py:70\u001B[0m\n\u001B[0;32m     67\u001B[0m     _gobject_libname \u001B[38;5;241m=\u001B[39m \u001B[38;5;124m'\u001B[39m\u001B[38;5;124mlibgobject-2.0.so.0\u001B[39m\u001B[38;5;124m'\u001B[39m\n\u001B[0;32m     69\u001B[0m \u001B[38;5;66;03m# possibly use ctypes.util.find_library() to locate the lib?\u001B[39;00m\n\u001B[1;32m---> 70\u001B[0m gobject_lib \u001B[38;5;241m=\u001B[39m \u001B[43mffi\u001B[49m\u001B[38;5;241;43m.\u001B[39;49m\u001B[43mdlopen\u001B[49m\u001B[43m(\u001B[49m\u001B[43m_gobject_libname\u001B[49m\u001B[43m)\u001B[49m\n\u001B[0;32m     71\u001B[0m vips_lib \u001B[38;5;241m=\u001B[39m ffi\u001B[38;5;241m.\u001B[39mdlopen(_vips_libname)\n\u001B[0;32m     72\u001B[0m \u001B[38;5;28;01mif\u001B[39;00m _glib_libname:\n",
      "File \u001B[1;32m~\\.conda\\envs\\wsi_analysis1\\lib\\site-packages\\cffi\\api.py:150\u001B[0m, in \u001B[0;36mFFI.dlopen\u001B[1;34m(self, name, flags)\u001B[0m\n\u001B[0;32m    147\u001B[0m     \u001B[38;5;28;01mraise\u001B[39;00m \u001B[38;5;167;01mTypeError\u001B[39;00m(\u001B[38;5;124m\"\u001B[39m\u001B[38;5;124mdlopen(name): name must be a file name, None, \u001B[39m\u001B[38;5;124m\"\u001B[39m\n\u001B[0;32m    148\u001B[0m                     \u001B[38;5;124m\"\u001B[39m\u001B[38;5;124mor an already-opened \u001B[39m\u001B[38;5;124m'\u001B[39m\u001B[38;5;124mvoid *\u001B[39m\u001B[38;5;124m'\u001B[39m\u001B[38;5;124m handle\u001B[39m\u001B[38;5;124m\"\u001B[39m)\n\u001B[0;32m    149\u001B[0m \u001B[38;5;28;01mwith\u001B[39;00m \u001B[38;5;28mself\u001B[39m\u001B[38;5;241m.\u001B[39m_lock:\n\u001B[1;32m--> 150\u001B[0m     lib, function_cache \u001B[38;5;241m=\u001B[39m \u001B[43m_make_ffi_library\u001B[49m\u001B[43m(\u001B[49m\u001B[38;5;28;43mself\u001B[39;49m\u001B[43m,\u001B[49m\u001B[43m \u001B[49m\u001B[43mname\u001B[49m\u001B[43m,\u001B[49m\u001B[43m \u001B[49m\u001B[43mflags\u001B[49m\u001B[43m)\u001B[49m\n\u001B[0;32m    151\u001B[0m     \u001B[38;5;28mself\u001B[39m\u001B[38;5;241m.\u001B[39m_function_caches\u001B[38;5;241m.\u001B[39mappend(function_cache)\n\u001B[0;32m    152\u001B[0m     \u001B[38;5;28mself\u001B[39m\u001B[38;5;241m.\u001B[39m_libraries\u001B[38;5;241m.\u001B[39mappend(lib)\n",
      "File \u001B[1;32m~\\.conda\\envs\\wsi_analysis1\\lib\\site-packages\\cffi\\api.py:832\u001B[0m, in \u001B[0;36m_make_ffi_library\u001B[1;34m(ffi, libname, flags)\u001B[0m\n\u001B[0;32m    830\u001B[0m \u001B[38;5;28;01mdef\u001B[39;00m \u001B[38;5;21m_make_ffi_library\u001B[39m(ffi, libname, flags):\n\u001B[0;32m    831\u001B[0m     backend \u001B[38;5;241m=\u001B[39m ffi\u001B[38;5;241m.\u001B[39m_backend\n\u001B[1;32m--> 832\u001B[0m     backendlib \u001B[38;5;241m=\u001B[39m \u001B[43m_load_backend_lib\u001B[49m\u001B[43m(\u001B[49m\u001B[43mbackend\u001B[49m\u001B[43m,\u001B[49m\u001B[43m \u001B[49m\u001B[43mlibname\u001B[49m\u001B[43m,\u001B[49m\u001B[43m \u001B[49m\u001B[43mflags\u001B[49m\u001B[43m)\u001B[49m\n\u001B[0;32m    833\u001B[0m     \u001B[38;5;66;03m#\u001B[39;00m\n\u001B[0;32m    834\u001B[0m     \u001B[38;5;28;01mdef\u001B[39;00m \u001B[38;5;21maccessor_function\u001B[39m(name):\n",
      "File \u001B[1;32m~\\.conda\\envs\\wsi_analysis1\\lib\\site-packages\\cffi\\api.py:828\u001B[0m, in \u001B[0;36m_load_backend_lib\u001B[1;34m(backend, name, flags)\u001B[0m\n\u001B[0;32m    826\u001B[0m         msg \u001B[38;5;241m=\u001B[39m \u001B[38;5;124m\"\u001B[39m\u001B[38;5;132;01m%s\u001B[39;00m\u001B[38;5;124m.  Additionally, \u001B[39m\u001B[38;5;132;01m%s\u001B[39;00m\u001B[38;5;124m\"\u001B[39m \u001B[38;5;241m%\u001B[39m (first_error, msg)\n\u001B[0;32m    827\u001B[0m     \u001B[38;5;28;01mraise\u001B[39;00m \u001B[38;5;167;01mOSError\u001B[39;00m(msg)\n\u001B[1;32m--> 828\u001B[0m \u001B[38;5;28;01mreturn\u001B[39;00m \u001B[43mbackend\u001B[49m\u001B[38;5;241;43m.\u001B[39;49m\u001B[43mload_library\u001B[49m\u001B[43m(\u001B[49m\u001B[43mpath\u001B[49m\u001B[43m,\u001B[49m\u001B[43m \u001B[49m\u001B[43mflags\u001B[49m\u001B[43m)\u001B[49m\n",
      "\u001B[1;31mOSError\u001B[0m: cannot load library 'C:\\Users\\Kevin\\Documents\\openslide-win64-20221217\\bin\\libgobject-2.0-0.dll': error 0x7f"
     ]
    }
   ],
   "source": [
    "import os\n",
    "vipshome = r'C:\\Users\\Kevin\\Downloads\\vips-dev-8.14\\bin'\n",
    "os.environ['PATH'] = vipshome + ';' + os.environ['PATH']\n",
    "import pyvips"
   ]
  },
  {
   "cell_type": "code",
   "execution_count": null,
   "outputs": [],
   "source": [
    "import numpy as np\n",
    "import os\n",
    "from PIL import Image\n",
    "Image.MAX_IMAGE_PIXELS = None\n",
    "import cv2\n",
    "import os\n",
    "from matplotlib import pyplot as plt\n",
    "from skimage.morphology import remove_small_objects, remove_small_holes\n",
    "from skimage.color import rgb2gray\n",
    "from skimage.transform import warp\n",
    "from skimage.registration import optical_flow_tvl1, optical_flow_ilk\n",
    "import xml.etree.ElementTree as ET\n",
    "import pandas as pd\n",
    "import skimage.measure\n",
    "import scipy.stats as stats\n",
    "import time\n",
    "import shutil\n",
    "from tqdm import tqdm\n",
    "from skimage.measure import label, regionprops_table"
   ],
   "metadata": {
    "collapsed": false
   }
  },
  {
   "cell_type": "code",
   "execution_count": 14,
   "outputs": [],
   "source": [
    "### Find tissue composition of all the label/classes defined by the mask that was created by using the MATLAB deeplabv3 segmentation model:\n",
    "\n",
    "# First get list of all deparafinized and student_score >2 and CLUE:\n",
    "all_df_src = r'\\\\shelter\\Kyu\\unstain2stain\\unstain2stain_wsi\\wsi_list_230314.xlsx'\n",
    "all_df = pd.read_excel(all_df_src)\n",
    "desired_df_name = all_df[all_df.scan_batch == 3] # CLUE\n",
    "desired_df_name1 = all_df[all_df.scan_batch == 4] # CLUE\n",
    "desired_name = list(desired_df_name.wsi_name)\n",
    "desired_name1 = list(desired_df_name1.wsi_name)\n",
    "desired_names = desired_name + desired_name1\n",
    "desired_names = [x for x in desired_names if x[-3:] == \"_he\"]\n",
    "desired_names = [x+\".png\" for x in desired_names]"
   ],
   "metadata": {
    "collapsed": false
   }
  },
  {
   "cell_type": "code",
   "execution_count": 17,
   "outputs": [
    {
     "name": "stderr",
     "output_type": "stream",
     "text": [
      "Image processed:   0%|\u001B[31m          \u001B[0m| 0/25 [00:00<?, ?it/s]"
     ]
    },
    {
     "name": "stdout",
     "output_type": "stream",
     "text": [
      "processing image: \\\\shelter\\Kyu\\unstain2stain\\unstain2stain_wsi\\HE\\1um\\classification_v9_combined\\OTS_14684_1_he.png\n",
      "Image \\\\shelter\\Kyu\\unstain2stain\\unstain2stain_wsi\\HE\\1um\\classification_v9_combined\\OTS_14684_1_he.png available, analyzing tissue composition:\n"
     ]
    },
    {
     "name": "stderr",
     "output_type": "stream",
     "text": [
      "Image processed:   4%|\u001B[31m▍         \u001B[0m| 1/25 [00:01<00:38,  1.62s/it]"
     ]
    },
    {
     "name": "stdout",
     "output_type": "stream",
     "text": [
      "[0.0, 0.5566447839554887, 0.5125837828440344, 0.033352017312364896, 0.031451211474119056, 0.12958060017794942, 0.041987812639752035, 0.04972032296782768, 0.22298900316018738, 0.36801853494849884, 13.50711421979057, 2.9352636786596484, 81.61129403206957]\n",
      "processing image: \\\\shelter\\Kyu\\unstain2stain\\unstain2stain_wsi\\HE\\1um\\classification_v9_combined\\OTS_14684_2_he.png\n",
      "Image \\\\shelter\\Kyu\\unstain2stain\\unstain2stain_wsi\\HE\\1um\\classification_v9_combined\\OTS_14684_2_he.png available, analyzing tissue composition:\n"
     ]
    },
    {
     "name": "stderr",
     "output_type": "stream",
     "text": [
      "Image processed:   8%|\u001B[31m▊         \u001B[0m| 2/25 [00:02<00:31,  1.38s/it]"
     ]
    },
    {
     "name": "stdout",
     "output_type": "stream",
     "text": [
      "[0.0, 0.7198964729622697, 0.6946312731467565, 0.07058614128158108, 0.05875318647930027, 0.18478860924109772, 0.08896565349104511, 0.0985315154440789, 0.2355453446656403, 0.45444492423980754, 14.234473932271724, 4.154495826636881, 79.00488712013981]\n",
      "processing image: \\\\shelter\\Kyu\\unstain2stain\\unstain2stain_wsi\\HE\\1um\\classification_v9_combined\\OTS_14684_3_he.png\n",
      "Image \\\\shelter\\Kyu\\unstain2stain\\unstain2stain_wsi\\HE\\1um\\classification_v9_combined\\OTS_14684_3_he.png available, analyzing tissue composition:\n"
     ]
    },
    {
     "name": "stderr",
     "output_type": "stream",
     "text": [
      "Image processed:  12%|\u001B[31m█▏        \u001B[0m| 3/25 [00:03<00:26,  1.20s/it]"
     ]
    },
    {
     "name": "stdout",
     "output_type": "stream",
     "text": [
      "[0.0, 0.08464408994850595, 0.45460247948072086, 0.054498084126299536, 0.13563190801704683, 0.11573935376546103, 0.30623774592441, 0.14585396185906493, 0.18909282050851073, 0.18432873848855919, 21.05977213852012, 17.826111697021798, 59.4434869823395]\n",
      "processing image: \\\\shelter\\Kyu\\unstain2stain\\unstain2stain_wsi\\HE\\1um\\classification_v9_combined\\OTS_14684_4_he.png\n",
      "Image \\\\shelter\\Kyu\\unstain2stain\\unstain2stain_wsi\\HE\\1um\\classification_v9_combined\\OTS_14684_4_he.png not available, since corrupted.\n",
      "processing image: \\\\shelter\\Kyu\\unstain2stain\\unstain2stain_wsi\\HE\\1um\\classification_v9_combined\\OTS_14684_5_he.png\n",
      "Image \\\\shelter\\Kyu\\unstain2stain\\unstain2stain_wsi\\HE\\1um\\classification_v9_combined\\OTS_14684_5_he.png available, analyzing tissue composition:\n"
     ]
    },
    {
     "name": "stderr",
     "output_type": "stream",
     "text": [
      "Image processed:  20%|\u001B[31m██        \u001B[0m| 5/25 [00:05<00:17,  1.15it/s]"
     ]
    },
    {
     "name": "stdout",
     "output_type": "stream",
     "text": [
      "[0.0, 0.04940401739027126, 0.1301818059745041, 0.043051885229733265, 0.0735280725314449, 0.047394572284014114, 0.08776739577699874, 0.040877565628679544, 0.0500599440807616, 0.2753576675389738, 4.949606140426167, 17.672557229603743, 76.58021370353471]\n",
      "processing image: \\\\shelter\\Kyu\\unstain2stain\\unstain2stain_wsi\\HE\\1um\\classification_v9_combined\\OTS_14684_6_he.png\n",
      "Image \\\\shelter\\Kyu\\unstain2stain\\unstain2stain_wsi\\HE\\1um\\classification_v9_combined\\OTS_14684_6_he.png available, analyzing tissue composition:\n"
     ]
    },
    {
     "name": "stderr",
     "output_type": "stream",
     "text": [
      "Image processed:  24%|\u001B[31m██▍       \u001B[0m| 6/25 [00:06<00:18,  1.03it/s]"
     ]
    },
    {
     "name": "stdout",
     "output_type": "stream",
     "text": [
      "[0.0, 0.04338514295775812, 0.10291209522456869, 0.031417107956233155, 0.027802040648324037, 0.0922755278254321, 0.029562699272727685, 0.03203488291216426, 0.05853255135090393, 0.15974143018381348, 6.606833283570839, 14.640816672046638, 78.1746865660506]\n",
      "processing image: \\\\shelter\\Kyu\\unstain2stain\\unstain2stain_wsi\\HE\\1um\\classification_v9_combined\\OTS_14684_7_he.png\n",
      "Image \\\\shelter\\Kyu\\unstain2stain\\unstain2stain_wsi\\HE\\1um\\classification_v9_combined\\OTS_14684_7_he.png available, analyzing tissue composition:\n"
     ]
    },
    {
     "name": "stderr",
     "output_type": "stream",
     "text": [
      "Image processed:  28%|\u001B[31m██▊       \u001B[0m| 7/25 [00:07<00:17,  1.02it/s]"
     ]
    },
    {
     "name": "stdout",
     "output_type": "stream",
     "text": [
      "[0.0, 0.19142987837832756, 0.21753298552802006, 0.09979856884961857, 0.08261087739194171, 0.2273070650918282, 0.1062992926943395, 0.14338725724144671, 0.3975764730437063, 0.18129476188681137, 21.801626708847493, 23.74078213008328, 52.81035400096319]\n",
      "processing image: \\\\shelter\\Kyu\\unstain2stain\\unstain2stain_wsi\\HE\\1um\\classification_v9_combined\\OTS_14684_8_he.png\n",
      "Image \\\\shelter\\Kyu\\unstain2stain\\unstain2stain_wsi\\HE\\1um\\classification_v9_combined\\OTS_14684_8_he.png available, analyzing tissue composition:\n"
     ]
    },
    {
     "name": "stderr",
     "output_type": "stream",
     "text": [
      "Image processed:  32%|\u001B[31m███▏      \u001B[0m| 8/25 [00:08<00:17,  1.02s/it]"
     ]
    },
    {
     "name": "stdout",
     "output_type": "stream",
     "text": [
      "[0.0, 0.1686137335531918, 0.23097254984074125, 0.016768600395759586, 0.09554270298992458, 0.1298985765968811, 0.098697879972048, 0.11481363361535118, 0.37901712890607026, 0.1528602575700046, 18.36673787327447, 18.960031407157544, 61.28604565612802]\n",
      "processing image: \\\\shelter\\Kyu\\unstain2stain\\unstain2stain_wsi\\HE\\1um\\classification_v9_combined\\OTS_14684_9_he.png\n",
      "Image \\\\shelter\\Kyu\\unstain2stain\\unstain2stain_wsi\\HE\\1um\\classification_v9_combined\\OTS_14684_9_he.png available, analyzing tissue composition:\n"
     ]
    },
    {
     "name": "stderr",
     "output_type": "stream",
     "text": [
      "Image processed:  36%|\u001B[31m███▌      \u001B[0m| 9/25 [00:09<00:16,  1.02s/it]"
     ]
    },
    {
     "name": "stdout",
     "output_type": "stream",
     "text": [
      "[0.0, 0.18100493026807368, 0.2693371343775648, 0.010590547853196266, 0.019666123132624842, 0.11728712591381843, 0.013399799999174268, 0.17625697498533785, 0.3804183730875899, 0.09401521866344081, 16.01760673827206, 14.765126420556712, 67.95529061289041]\n",
      "processing image: \\\\shelter\\Kyu\\unstain2stain\\unstain2stain_wsi\\HE\\1um\\classification_v9_combined\\OTS_14832_1_he.png\n",
      "Image \\\\shelter\\Kyu\\unstain2stain\\unstain2stain_wsi\\HE\\1um\\classification_v9_combined\\OTS_14832_1_he.png available, analyzing tissue composition:\n"
     ]
    },
    {
     "name": "stderr",
     "output_type": "stream",
     "text": [
      "Image processed:  40%|\u001B[31m████      \u001B[0m| 10/25 [00:10<00:16,  1.08s/it]"
     ]
    },
    {
     "name": "stdout",
     "output_type": "stream",
     "text": [
      "[0.0, 0.3659390018870812, 1.325982990474373, 0.2687967133959879, 0.3014746529955975, 0.6395684738029419, 0.3839936302666738, 0.17381389495635646, 1.3925039154884493, 0.7937100915233031, 19.62069611871662, 11.681791954818781, 63.05172856167383]\n",
      "processing image: \\\\shelter\\Kyu\\unstain2stain\\unstain2stain_wsi\\HE\\1um\\classification_v9_combined\\OTS_14832_2_he.png\n",
      "Image \\\\shelter\\Kyu\\unstain2stain\\unstain2stain_wsi\\HE\\1um\\classification_v9_combined\\OTS_14832_2_he.png available, analyzing tissue composition:\n"
     ]
    },
    {
     "name": "stderr",
     "output_type": "stream",
     "text": [
      "Image processed:  44%|\u001B[31m████▍     \u001B[0m| 11/25 [00:11<00:15,  1.11s/it]"
     ]
    },
    {
     "name": "stdout",
     "output_type": "stream",
     "text": [
      "[0.0, 0.5956990778527415, 1.121529177542083, 0.0404632337961707, 0.1068162597808149, 0.6254497252887504, 0.006060439637131379, 0.14118154848887818, 0.7320122717247273, 0.29898021796314894, 28.596830477582497, 0.7052958888127814, 67.02968168153028]\n",
      "processing image: \\\\shelter\\Kyu\\unstain2stain\\unstain2stain_wsi\\HE\\1um\\classification_v9_combined\\OTS_14832_3_he.png\n",
      "Image \\\\shelter\\Kyu\\unstain2stain\\unstain2stain_wsi\\HE\\1um\\classification_v9_combined\\OTS_14832_3_he.png not available, since corrupted.\n",
      "processing image: \\\\shelter\\Kyu\\unstain2stain\\unstain2stain_wsi\\HE\\1um\\classification_v9_combined\\OTS_14832_4_he.png\n",
      "Image \\\\shelter\\Kyu\\unstain2stain\\unstain2stain_wsi\\HE\\1um\\classification_v9_combined\\OTS_14832_4_he.png not available, since corrupted.\n",
      "processing image: \\\\shelter\\Kyu\\unstain2stain\\unstain2stain_wsi\\HE\\1um\\classification_v9_combined\\OTS_14832_5_he.png\n",
      "Image \\\\shelter\\Kyu\\unstain2stain\\unstain2stain_wsi\\HE\\1um\\classification_v9_combined\\OTS_14832_5_he.png available, analyzing tissue composition:\n"
     ]
    },
    {
     "name": "stderr",
     "output_type": "stream",
     "text": [
      "Image processed:  56%|\u001B[31m█████▌    \u001B[0m| 14/25 [00:12<00:07,  1.52it/s]"
     ]
    },
    {
     "name": "stdout",
     "output_type": "stream",
     "text": [
      "[0.0, 0.7172580436558395, 2.6209939163962996, 0.4690416058526461, 0.26916559426114306, 1.4662166915554862, 0.2565340447408916, 0.23843192142403574, 0.5935407446001604, 0.7389168463566731, 14.81676918648428, 8.590673282249044, 69.2224581224235]\n",
      "processing image: \\\\shelter\\Kyu\\unstain2stain\\unstain2stain_wsi\\HE\\1um\\classification_v9_combined\\OTS_14832_6_he.png\n",
      "Image \\\\shelter\\Kyu\\unstain2stain\\unstain2stain_wsi\\HE\\1um\\classification_v9_combined\\OTS_14832_6_he.png not available, since corrupted.\n",
      "processing image: \\\\shelter\\Kyu\\unstain2stain\\unstain2stain_wsi\\HE\\1um\\classification_v9_combined\\OTS_14832_7_he.png\n",
      "Image \\\\shelter\\Kyu\\unstain2stain\\unstain2stain_wsi\\HE\\1um\\classification_v9_combined\\OTS_14832_7_he.png not available, since corrupted.\n",
      "processing image: \\\\shelter\\Kyu\\unstain2stain\\unstain2stain_wsi\\HE\\1um\\classification_v9_combined\\OTS_14832_8_he.png\n",
      "Image \\\\shelter\\Kyu\\unstain2stain\\unstain2stain_wsi\\HE\\1um\\classification_v9_combined\\OTS_14832_8_he.png available, analyzing tissue composition:\n"
     ]
    },
    {
     "name": "stderr",
     "output_type": "stream",
     "text": [
      "Image processed:  68%|\u001B[31m██████▊   \u001B[0m| 17/25 [00:14<00:04,  1.77it/s]"
     ]
    },
    {
     "name": "stdout",
     "output_type": "stream",
     "text": [
      "[0.0, 0.5317322958589331, 1.6966735918947289, 0.18837447721790945, 0.16041246001018442, 0.3832690379510864, 0.14260279173606508, 0.3002348849546893, 0.3260972316785512, 1.061409649767817, 14.012386955635685, 30.8498435305916, 50.346963092702744]\n",
      "processing image: \\\\shelter\\Kyu\\unstain2stain\\unstain2stain_wsi\\HE\\1um\\classification_v9_combined\\OTS_14832_9_he.png\n",
      "Image \\\\shelter\\Kyu\\unstain2stain\\unstain2stain_wsi\\HE\\1um\\classification_v9_combined\\OTS_14832_9_he.png available, analyzing tissue composition:\n"
     ]
    },
    {
     "name": "stderr",
     "output_type": "stream",
     "text": [
      "Image processed:  72%|\u001B[31m███████▏  \u001B[0m| 18/25 [00:15<00:04,  1.59it/s]"
     ]
    },
    {
     "name": "stdout",
     "output_type": "stream",
     "text": [
      "[0.0, 0.32808261676473816, 1.0464486338651007, 0.13091792549446124, 0.12960654684659262, 1.7498407635769782, 0.15581610429878553, 0.5006186111623364, 1.230887622664103, 0.7351572185738448, 20.557959111694174, 10.862282204646545, 62.572382640412336]\n",
      "processing image: \\\\shelter\\Kyu\\unstain2stain\\unstain2stain_wsi\\HE\\1um\\classification_v9_combined\\OTS_14832_10_he.png\n",
      "Image \\\\shelter\\Kyu\\unstain2stain\\unstain2stain_wsi\\HE\\1um\\classification_v9_combined\\OTS_14832_10_he.png available, analyzing tissue composition:\n"
     ]
    },
    {
     "name": "stderr",
     "output_type": "stream",
     "text": [
      "Image processed:  76%|\u001B[31m███████▌  \u001B[0m| 19/25 [00:16<00:04,  1.34it/s]"
     ]
    },
    {
     "name": "stdout",
     "output_type": "stream",
     "text": [
      "[0.0, 0.38273277467510297, 0.3549476382248857, 0.022108207052541493, 0.09011302068676422, 0.07224939290068552, 0.111681444973568, 0.22022243716529494, 0.10017073100016857, 0.26095566155145, 17.439169301228937, 1.9138263105883686, 79.03182307995223]\n",
      "processing image: \\\\shelter\\Kyu\\unstain2stain\\unstain2stain_wsi\\HE\\1um\\classification_v9_combined\\OTS_14832_11_he.png\n",
      "Image \\\\shelter\\Kyu\\unstain2stain\\unstain2stain_wsi\\HE\\1um\\classification_v9_combined\\OTS_14832_11_he.png available, analyzing tissue composition:\n"
     ]
    },
    {
     "name": "stderr",
     "output_type": "stream",
     "text": [
      "Image processed:  80%|\u001B[31m████████  \u001B[0m| 20/25 [00:17<00:04,  1.22it/s]"
     ]
    },
    {
     "name": "stdout",
     "output_type": "stream",
     "text": [
      "[0.0, 0.28249036554922563, 0.44862056443691833, 0.2564241329651082, 0.11731577965311446, 0.23610668424031298, 0.38729779508229073, 0.18493837018660858, 0.2913010516537392, 0.30794316683840334, 19.397383222943066, 13.735697412600652, 64.35448145385055]\n",
      "processing image: \\\\shelter\\Kyu\\unstain2stain\\unstain2stain_wsi\\HE\\1um\\classification_v9_combined\\OTS_14832_12_he.png\n",
      "Image \\\\shelter\\Kyu\\unstain2stain\\unstain2stain_wsi\\HE\\1um\\classification_v9_combined\\OTS_14832_12_he.png available, analyzing tissue composition:\n"
     ]
    },
    {
     "name": "stderr",
     "output_type": "stream",
     "text": [
      "Image processed:  84%|\u001B[31m████████▍ \u001B[0m| 21/25 [00:18<00:03,  1.20it/s]"
     ]
    },
    {
     "name": "stdout",
     "output_type": "stream",
     "text": [
      "[0.0, 0.21234317102017175, 0.3477900384709314, 0.05906446539144663, 0.12019853111554693, 0.2263949953674228, 0.021430703670021804, 0.0824232715501916, 0.3476236618852109, 0.3149073389707111, 12.038046468949293, 17.572121217813166, 68.65765613579589]\n",
      "processing image: \\\\shelter\\Kyu\\unstain2stain\\unstain2stain_wsi\\HE\\1um\\classification_v9_combined\\OTS_14832_13_he.png\n",
      "Image \\\\shelter\\Kyu\\unstain2stain\\unstain2stain_wsi\\HE\\1um\\classification_v9_combined\\OTS_14832_13_he.png available, analyzing tissue composition:\n"
     ]
    },
    {
     "name": "stderr",
     "output_type": "stream",
     "text": [
      "Image processed:  88%|\u001B[31m████████▊ \u001B[0m| 22/25 [00:19<00:02,  1.09it/s]"
     ]
    },
    {
     "name": "stdout",
     "output_type": "stream",
     "text": [
      "[0.0, 0.2752860052331213, 0.49966207713088556, 0.020434328053543397, 0.1048639952613637, 0.36267457458288643, 0.012485960730043353, 0.20532595864868763, 0.2024311193406685, 0.7135524358900198, 21.868670881577867, 0.925777160967085, 74.80883550258383]\n",
      "processing image: \\\\shelter\\Kyu\\unstain2stain\\unstain2stain_wsi\\HE\\1um\\classification_v9_combined\\OTS_14832_14_he.png\n",
      "Image \\\\shelter\\Kyu\\unstain2stain\\unstain2stain_wsi\\HE\\1um\\classification_v9_combined\\OTS_14832_14_he.png available, analyzing tissue composition:\n"
     ]
    },
    {
     "name": "stderr",
     "output_type": "stream",
     "text": [
      "Image processed:  92%|\u001B[31m█████████▏\u001B[0m| 23/25 [00:20<00:01,  1.06it/s]"
     ]
    },
    {
     "name": "stdout",
     "output_type": "stream",
     "text": [
      "[0.0, 0.9469857804143069, 0.44603988757454016, 0.09869043866621637, 0.08897933072833632, 0.09454987505909368, 0.06392576819183757, 0.08071696966531973, 0.12853312299630518, 0.28396264457977743, 16.983678380175483, 0.4979643267325348, 80.28597347521624]\n",
      "processing image: \\\\shelter\\Kyu\\unstain2stain\\unstain2stain_wsi\\HE\\1um\\classification_v9_combined\\OTS_14832_15_he.png\n",
      "Image \\\\shelter\\Kyu\\unstain2stain\\unstain2stain_wsi\\HE\\1um\\classification_v9_combined\\OTS_14832_15_he.png available, analyzing tissue composition:\n"
     ]
    },
    {
     "name": "stderr",
     "output_type": "stream",
     "text": [
      "Image processed:  96%|\u001B[31m█████████▌\u001B[0m| 24/25 [00:21<00:01,  1.05s/it]"
     ]
    },
    {
     "name": "stdout",
     "output_type": "stream",
     "text": [
      "[0.0, 0.1991639993901792, 1.4975637851944141, 0.3677093954258337, 0.1984957293811466, 0.25930025568022036, 0.6138488116504366, 0.20453831529257138, 0.3278510829180463, 0.9751070743235539, 23.628150847123884, 3.5377898243358907, 68.19048087928383]\n",
      "processing image: \\\\shelter\\Kyu\\unstain2stain\\unstain2stain_wsi\\HE\\1um\\classification_v9_combined\\OTS_14832_16_he.png\n",
      "Image \\\\shelter\\Kyu\\unstain2stain\\unstain2stain_wsi\\HE\\1um\\classification_v9_combined\\OTS_14832_16_he.png available, analyzing tissue composition:\n"
     ]
    },
    {
     "name": "stderr",
     "output_type": "stream",
     "text": [
      "Image processed: 100%|\u001B[31m██████████\u001B[0m| 25/25 [00:22<00:00,  1.12it/s]"
     ]
    },
    {
     "name": "stdout",
     "output_type": "stream",
     "text": [
      "[0.0, 0.26905538401741214, 0.38333433913764353, 0.08647615188041476, 0.17198668480516527, 0.13324488185669633, 0.2516227431378201, 0.2148320757034025, 0.15093853246612246, 0.24427584594423887, 17.101569349676584, 2.5828750369217572, 78.40978897445274]\n",
      "[   7.10179157   14.40234075    2.36856403    2.38441471    7.29313678\n",
      "    3.18021852    3.34875437    7.73712273    8.59893973  342.60508134\n",
      "  218.15112321 1382.82851227]\n",
      "2\n"
     ]
    },
    {
     "name": "stderr",
     "output_type": "stream",
     "text": [
      "\n"
     ]
    }
   ],
   "source": [
    "# save xlsx for individual masks:\n",
    "include_white = True\n",
    "masksrc = r'\\\\shelter\\Kyu\\unstain2stain\\unstain2stain_wsi\\HE\\1um\\classification_v9_combined'\n",
    "desired_mask_src = [os.path.join(masksrc,x) for x in desired_names]\n",
    "desired_mask_names = [os.path.basename(x) for x in desired_mask_src]\n",
    "save_src = r'\\\\shelter\\Kyu\\unstain2stain\\unstain2stain_wsi\\HE\\1um\\classification_v9_combined\\composition_including_white'\n",
    "class_list = list(['corneum','spinosum','hairshaft','hairfollicle','smoothmuscle','oil','sweat','nerve','bloodvessel','ecm','fat','white'])\n",
    "if not include_white:\n",
    "    count_list_ra = np.zeros(shape=11)\n",
    "count_list_ra = np.zeros(shape=12)\n",
    "for idx in tqdm(range(0,len(desired_mask_src)),total = len(desired_mask_src),desc=\"Image processed\",colour='red'):\n",
    "    comps_df = pd.DataFrame(index = class_list)\n",
    "    print(\"processing image: {}\".format(desired_mask_src[idx]))\n",
    "    fn, _ = os.path.splitext(desired_mask_names[idx])\n",
    "    # check if xlsx exists in destination\n",
    "    if not include_white:\n",
    "        save_src_xlsx = os.path.join(save_src, fn + \".xlsx\")\n",
    "    save_src_xlsx = os.path.join(save_src, fn + \".xlsx\")\n",
    "    if os.path.exists(save_src_xlsx):\n",
    "        print(\"xlsx for image {} already exists, skipping to next\".format(desired_mask_src[idx]))\n",
    "        continue\n",
    "    try:\n",
    "        DLarr = Image.open(desired_mask_src[idx])\n",
    "    except:\n",
    "        print(\"Image {} not available, since corrupted.\".format(desired_mask_src[idx]))\n",
    "        continue\n",
    "    else:\n",
    "        print(\"Image {} available, analyzing tissue composition:\".format(desired_mask_src[idx]))\n",
    "    DLarr = np.array(DLarr)\n",
    "    if not include_white:\n",
    "        DLarr = DLarr[DLarr < 12] #background 12 shouldn't count in the composition\n",
    "    DLarr_flatten = DLarr.flatten()\n",
    "    hist = np.bincount(DLarr_flatten) #dl mask\n",
    "    hist = hist/np.sum(hist)*100\n",
    "    count_list = list(hist)\n",
    "    print(count_list)\n",
    "    del(count_list[0])\n",
    "    count_list_ra = count_list_ra + np.array(count_list)\n",
    "    count_list = [np.round(x,3) for x in count_list]\n",
    "    ratio_class_dict = dict(zip(class_list,count_list))\n",
    "    tmp_df = pd.DataFrame.from_dict(ratio_class_dict,orient='index')\n",
    "    comps_df = pd.concat([comps_df,pd.DataFrame.from_dict(tmp_df)],axis=1)\n",
    "    comps_df.dropna()\n",
    "    comps_df.rename(columns = {0:'composition'}, inplace=True)\n",
    "    if not include_white:\n",
    "        comps_df = comps_df[:-1]\n",
    "    comps_df.to_excel(save_src_xlsx)\n",
    "print(count_list_ra)\n",
    "print(np.argmin(count_list_ra))"
   ],
   "metadata": {
    "collapsed": false
   }
  },
  {
   "cell_type": "markdown",
   "source": [
    "### As we see above, for non-white space, most common class is ECM by a big margin, and then fat, and then spinosum, and then blood vessel. Hair shaft is the rarest, 155x fewer area than ecm. But with white space, white space is 4x more common that ECM."
   ],
   "metadata": {
    "collapsed": false
   }
  },
  {
   "cell_type": "code",
   "execution_count": null,
   "outputs": [],
   "source": [],
   "metadata": {
    "collapsed": false
   }
  }
 ],
 "metadata": {
  "kernelspec": {
   "display_name": "Python 3",
   "language": "python",
   "name": "python3"
  },
  "language_info": {
   "codemirror_mode": {
    "name": "ipython",
    "version": 2
   },
   "file_extension": ".py",
   "mimetype": "text/x-python",
   "name": "python",
   "nbconvert_exporter": "python",
   "pygments_lexer": "ipython2",
   "version": "2.7.6"
  }
 },
 "nbformat": 4,
 "nbformat_minor": 0
}
