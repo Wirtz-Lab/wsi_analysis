{
 "cells": [
  {
   "cell_type": "code",
   "execution_count": 1,
   "metadata": {
    "collapsed": true
   },
   "outputs": [],
   "source": [
    "import os\n",
    "vipshome = r'C:\\Users\\Kevin\\Downloads\\vips-dev-8.14\\bin'\n",
    "os.environ['PATH'] = vipshome + ';' + os.environ['PATH']\n",
    "import pyvips"
   ]
  },
  {
   "cell_type": "code",
   "execution_count": 2,
   "outputs": [],
   "source": [
    "import numpy as np\n",
    "import os\n",
    "from PIL import Image\n",
    "Image.MAX_IMAGE_PIXELS = None\n",
    "import cv2\n",
    "import os\n",
    "from matplotlib import pyplot as plt\n",
    "from skimage.morphology import remove_small_objects, remove_small_holes\n",
    "from skimage.color import rgb2gray\n",
    "from skimage.transform import warp\n",
    "from skimage.registration import optical_flow_tvl1, optical_flow_ilk\n",
    "import xml.etree.ElementTree as ET\n",
    "import pandas as pd\n",
    "import skimage.measure\n",
    "import scipy.stats as stats\n",
    "import time\n",
    "import shutil\n",
    "from tqdm import tqdm\n",
    "from skimage.measure import label, regionprops_table\n",
    "from natsort import natsorted"
   ],
   "metadata": {
    "collapsed": false
   }
  },
  {
   "cell_type": "code",
   "execution_count": 14,
   "outputs": [],
   "source": [
    "### Find tissue composition of all the label/classes defined by the mask that was created by using the MATLAB deeplabv3 segmentation model:\n",
    "\n",
    "# First get list of all deparafinized and student_score >2 and CLUE:\n",
    "all_df_src = r'\\\\shelter\\Kyu\\unstain2stain\\unstain2stain_wsi\\wsi_list_230314.xlsx'\n",
    "all_df = pd.read_excel(all_df_src)\n",
    "desired_df_name = all_df[all_df.scan_batch == 3] # CLUE\n",
    "desired_df_name1 = all_df[all_df.scan_batch == 4] # CLUE\n",
    "desired_name = list(desired_df_name.wsi_name)\n",
    "desired_name1 = list(desired_df_name1.wsi_name)\n",
    "desired_names = desired_name + desired_name1\n",
    "desired_names = [x for x in desired_names if x[-3:] == \"_he\"]\n",
    "desired_names = [x+\".png\" for x in desired_names]"
   ],
   "metadata": {
    "collapsed": false
   }
  },
  {
   "cell_type": "code",
   "execution_count": 17,
   "outputs": [
    {
     "name": "stderr",
     "output_type": "stream",
     "text": [
      "Image processed:   0%|\u001B[31m          \u001B[0m| 0/25 [00:00<?, ?it/s]"
     ]
    },
    {
     "name": "stdout",
     "output_type": "stream",
     "text": [
      "processing image: \\\\shelter\\Kyu\\unstain2stain\\unstain2stain_wsi\\HE\\1um\\classification_v9_combined\\OTS_14684_1_he.png\n",
      "Image \\\\shelter\\Kyu\\unstain2stain\\unstain2stain_wsi\\HE\\1um\\classification_v9_combined\\OTS_14684_1_he.png available, analyzing tissue composition:\n"
     ]
    },
    {
     "name": "stderr",
     "output_type": "stream",
     "text": [
      "Image processed:   4%|\u001B[31m▍         \u001B[0m| 1/25 [00:01<00:38,  1.62s/it]"
     ]
    },
    {
     "name": "stdout",
     "output_type": "stream",
     "text": [
      "[0.0, 0.5566447839554887, 0.5125837828440344, 0.033352017312364896, 0.031451211474119056, 0.12958060017794942, 0.041987812639752035, 0.04972032296782768, 0.22298900316018738, 0.36801853494849884, 13.50711421979057, 2.9352636786596484, 81.61129403206957]\n",
      "processing image: \\\\shelter\\Kyu\\unstain2stain\\unstain2stain_wsi\\HE\\1um\\classification_v9_combined\\OTS_14684_2_he.png\n",
      "Image \\\\shelter\\Kyu\\unstain2stain\\unstain2stain_wsi\\HE\\1um\\classification_v9_combined\\OTS_14684_2_he.png available, analyzing tissue composition:\n"
     ]
    },
    {
     "name": "stderr",
     "output_type": "stream",
     "text": [
      "Image processed:   8%|\u001B[31m▊         \u001B[0m| 2/25 [00:02<00:31,  1.38s/it]"
     ]
    },
    {
     "name": "stdout",
     "output_type": "stream",
     "text": [
      "[0.0, 0.7198964729622697, 0.6946312731467565, 0.07058614128158108, 0.05875318647930027, 0.18478860924109772, 0.08896565349104511, 0.0985315154440789, 0.2355453446656403, 0.45444492423980754, 14.234473932271724, 4.154495826636881, 79.00488712013981]\n",
      "processing image: \\\\shelter\\Kyu\\unstain2stain\\unstain2stain_wsi\\HE\\1um\\classification_v9_combined\\OTS_14684_3_he.png\n",
      "Image \\\\shelter\\Kyu\\unstain2stain\\unstain2stain_wsi\\HE\\1um\\classification_v9_combined\\OTS_14684_3_he.png available, analyzing tissue composition:\n"
     ]
    },
    {
     "name": "stderr",
     "output_type": "stream",
     "text": [
      "Image processed:  12%|\u001B[31m█▏        \u001B[0m| 3/25 [00:03<00:26,  1.20s/it]"
     ]
    },
    {
     "name": "stdout",
     "output_type": "stream",
     "text": [
      "[0.0, 0.08464408994850595, 0.45460247948072086, 0.054498084126299536, 0.13563190801704683, 0.11573935376546103, 0.30623774592441, 0.14585396185906493, 0.18909282050851073, 0.18432873848855919, 21.05977213852012, 17.826111697021798, 59.4434869823395]\n",
      "processing image: \\\\shelter\\Kyu\\unstain2stain\\unstain2stain_wsi\\HE\\1um\\classification_v9_combined\\OTS_14684_4_he.png\n",
      "Image \\\\shelter\\Kyu\\unstain2stain\\unstain2stain_wsi\\HE\\1um\\classification_v9_combined\\OTS_14684_4_he.png not available, since corrupted.\n",
      "processing image: \\\\shelter\\Kyu\\unstain2stain\\unstain2stain_wsi\\HE\\1um\\classification_v9_combined\\OTS_14684_5_he.png\n",
      "Image \\\\shelter\\Kyu\\unstain2stain\\unstain2stain_wsi\\HE\\1um\\classification_v9_combined\\OTS_14684_5_he.png available, analyzing tissue composition:\n"
     ]
    },
    {
     "name": "stderr",
     "output_type": "stream",
     "text": [
      "Image processed:  20%|\u001B[31m██        \u001B[0m| 5/25 [00:05<00:17,  1.15it/s]"
     ]
    },
    {
     "name": "stdout",
     "output_type": "stream",
     "text": [
      "[0.0, 0.04940401739027126, 0.1301818059745041, 0.043051885229733265, 0.0735280725314449, 0.047394572284014114, 0.08776739577699874, 0.040877565628679544, 0.0500599440807616, 0.2753576675389738, 4.949606140426167, 17.672557229603743, 76.58021370353471]\n",
      "processing image: \\\\shelter\\Kyu\\unstain2stain\\unstain2stain_wsi\\HE\\1um\\classification_v9_combined\\OTS_14684_6_he.png\n",
      "Image \\\\shelter\\Kyu\\unstain2stain\\unstain2stain_wsi\\HE\\1um\\classification_v9_combined\\OTS_14684_6_he.png available, analyzing tissue composition:\n"
     ]
    },
    {
     "name": "stderr",
     "output_type": "stream",
     "text": [
      "Image processed:  24%|\u001B[31m██▍       \u001B[0m| 6/25 [00:06<00:18,  1.03it/s]"
     ]
    },
    {
     "name": "stdout",
     "output_type": "stream",
     "text": [
      "[0.0, 0.04338514295775812, 0.10291209522456869, 0.031417107956233155, 0.027802040648324037, 0.0922755278254321, 0.029562699272727685, 0.03203488291216426, 0.05853255135090393, 0.15974143018381348, 6.606833283570839, 14.640816672046638, 78.1746865660506]\n",
      "processing image: \\\\shelter\\Kyu\\unstain2stain\\unstain2stain_wsi\\HE\\1um\\classification_v9_combined\\OTS_14684_7_he.png\n",
      "Image \\\\shelter\\Kyu\\unstain2stain\\unstain2stain_wsi\\HE\\1um\\classification_v9_combined\\OTS_14684_7_he.png available, analyzing tissue composition:\n"
     ]
    },
    {
     "name": "stderr",
     "output_type": "stream",
     "text": [
      "Image processed:  28%|\u001B[31m██▊       \u001B[0m| 7/25 [00:07<00:17,  1.02it/s]"
     ]
    },
    {
     "name": "stdout",
     "output_type": "stream",
     "text": [
      "[0.0, 0.19142987837832756, 0.21753298552802006, 0.09979856884961857, 0.08261087739194171, 0.2273070650918282, 0.1062992926943395, 0.14338725724144671, 0.3975764730437063, 0.18129476188681137, 21.801626708847493, 23.74078213008328, 52.81035400096319]\n",
      "processing image: \\\\shelter\\Kyu\\unstain2stain\\unstain2stain_wsi\\HE\\1um\\classification_v9_combined\\OTS_14684_8_he.png\n",
      "Image \\\\shelter\\Kyu\\unstain2stain\\unstain2stain_wsi\\HE\\1um\\classification_v9_combined\\OTS_14684_8_he.png available, analyzing tissue composition:\n"
     ]
    },
    {
     "name": "stderr",
     "output_type": "stream",
     "text": [
      "Image processed:  32%|\u001B[31m███▏      \u001B[0m| 8/25 [00:08<00:17,  1.02s/it]"
     ]
    },
    {
     "name": "stdout",
     "output_type": "stream",
     "text": [
      "[0.0, 0.1686137335531918, 0.23097254984074125, 0.016768600395759586, 0.09554270298992458, 0.1298985765968811, 0.098697879972048, 0.11481363361535118, 0.37901712890607026, 0.1528602575700046, 18.36673787327447, 18.960031407157544, 61.28604565612802]\n",
      "processing image: \\\\shelter\\Kyu\\unstain2stain\\unstain2stain_wsi\\HE\\1um\\classification_v9_combined\\OTS_14684_9_he.png\n",
      "Image \\\\shelter\\Kyu\\unstain2stain\\unstain2stain_wsi\\HE\\1um\\classification_v9_combined\\OTS_14684_9_he.png available, analyzing tissue composition:\n"
     ]
    },
    {
     "name": "stderr",
     "output_type": "stream",
     "text": [
      "Image processed:  36%|\u001B[31m███▌      \u001B[0m| 9/25 [00:09<00:16,  1.02s/it]"
     ]
    },
    {
     "name": "stdout",
     "output_type": "stream",
     "text": [
      "[0.0, 0.18100493026807368, 0.2693371343775648, 0.010590547853196266, 0.019666123132624842, 0.11728712591381843, 0.013399799999174268, 0.17625697498533785, 0.3804183730875899, 0.09401521866344081, 16.01760673827206, 14.765126420556712, 67.95529061289041]\n",
      "processing image: \\\\shelter\\Kyu\\unstain2stain\\unstain2stain_wsi\\HE\\1um\\classification_v9_combined\\OTS_14832_1_he.png\n",
      "Image \\\\shelter\\Kyu\\unstain2stain\\unstain2stain_wsi\\HE\\1um\\classification_v9_combined\\OTS_14832_1_he.png available, analyzing tissue composition:\n"
     ]
    },
    {
     "name": "stderr",
     "output_type": "stream",
     "text": [
      "Image processed:  40%|\u001B[31m████      \u001B[0m| 10/25 [00:10<00:16,  1.08s/it]"
     ]
    },
    {
     "name": "stdout",
     "output_type": "stream",
     "text": [
      "[0.0, 0.3659390018870812, 1.325982990474373, 0.2687967133959879, 0.3014746529955975, 0.6395684738029419, 0.3839936302666738, 0.17381389495635646, 1.3925039154884493, 0.7937100915233031, 19.62069611871662, 11.681791954818781, 63.05172856167383]\n",
      "processing image: \\\\shelter\\Kyu\\unstain2stain\\unstain2stain_wsi\\HE\\1um\\classification_v9_combined\\OTS_14832_2_he.png\n",
      "Image \\\\shelter\\Kyu\\unstain2stain\\unstain2stain_wsi\\HE\\1um\\classification_v9_combined\\OTS_14832_2_he.png available, analyzing tissue composition:\n"
     ]
    },
    {
     "name": "stderr",
     "output_type": "stream",
     "text": [
      "Image processed:  44%|\u001B[31m████▍     \u001B[0m| 11/25 [00:11<00:15,  1.11s/it]"
     ]
    },
    {
     "name": "stdout",
     "output_type": "stream",
     "text": [
      "[0.0, 0.5956990778527415, 1.121529177542083, 0.0404632337961707, 0.1068162597808149, 0.6254497252887504, 0.006060439637131379, 0.14118154848887818, 0.7320122717247273, 0.29898021796314894, 28.596830477582497, 0.7052958888127814, 67.02968168153028]\n",
      "processing image: \\\\shelter\\Kyu\\unstain2stain\\unstain2stain_wsi\\HE\\1um\\classification_v9_combined\\OTS_14832_3_he.png\n",
      "Image \\\\shelter\\Kyu\\unstain2stain\\unstain2stain_wsi\\HE\\1um\\classification_v9_combined\\OTS_14832_3_he.png not available, since corrupted.\n",
      "processing image: \\\\shelter\\Kyu\\unstain2stain\\unstain2stain_wsi\\HE\\1um\\classification_v9_combined\\OTS_14832_4_he.png\n",
      "Image \\\\shelter\\Kyu\\unstain2stain\\unstain2stain_wsi\\HE\\1um\\classification_v9_combined\\OTS_14832_4_he.png not available, since corrupted.\n",
      "processing image: \\\\shelter\\Kyu\\unstain2stain\\unstain2stain_wsi\\HE\\1um\\classification_v9_combined\\OTS_14832_5_he.png\n",
      "Image \\\\shelter\\Kyu\\unstain2stain\\unstain2stain_wsi\\HE\\1um\\classification_v9_combined\\OTS_14832_5_he.png available, analyzing tissue composition:\n"
     ]
    },
    {
     "name": "stderr",
     "output_type": "stream",
     "text": [
      "Image processed:  56%|\u001B[31m█████▌    \u001B[0m| 14/25 [00:12<00:07,  1.52it/s]"
     ]
    },
    {
     "name": "stdout",
     "output_type": "stream",
     "text": [
      "[0.0, 0.7172580436558395, 2.6209939163962996, 0.4690416058526461, 0.26916559426114306, 1.4662166915554862, 0.2565340447408916, 0.23843192142403574, 0.5935407446001604, 0.7389168463566731, 14.81676918648428, 8.590673282249044, 69.2224581224235]\n",
      "processing image: \\\\shelter\\Kyu\\unstain2stain\\unstain2stain_wsi\\HE\\1um\\classification_v9_combined\\OTS_14832_6_he.png\n",
      "Image \\\\shelter\\Kyu\\unstain2stain\\unstain2stain_wsi\\HE\\1um\\classification_v9_combined\\OTS_14832_6_he.png not available, since corrupted.\n",
      "processing image: \\\\shelter\\Kyu\\unstain2stain\\unstain2stain_wsi\\HE\\1um\\classification_v9_combined\\OTS_14832_7_he.png\n",
      "Image \\\\shelter\\Kyu\\unstain2stain\\unstain2stain_wsi\\HE\\1um\\classification_v9_combined\\OTS_14832_7_he.png not available, since corrupted.\n",
      "processing image: \\\\shelter\\Kyu\\unstain2stain\\unstain2stain_wsi\\HE\\1um\\classification_v9_combined\\OTS_14832_8_he.png\n",
      "Image \\\\shelter\\Kyu\\unstain2stain\\unstain2stain_wsi\\HE\\1um\\classification_v9_combined\\OTS_14832_8_he.png available, analyzing tissue composition:\n"
     ]
    },
    {
     "name": "stderr",
     "output_type": "stream",
     "text": [
      "Image processed:  68%|\u001B[31m██████▊   \u001B[0m| 17/25 [00:14<00:04,  1.77it/s]"
     ]
    },
    {
     "name": "stdout",
     "output_type": "stream",
     "text": [
      "[0.0, 0.5317322958589331, 1.6966735918947289, 0.18837447721790945, 0.16041246001018442, 0.3832690379510864, 0.14260279173606508, 0.3002348849546893, 0.3260972316785512, 1.061409649767817, 14.012386955635685, 30.8498435305916, 50.346963092702744]\n",
      "processing image: \\\\shelter\\Kyu\\unstain2stain\\unstain2stain_wsi\\HE\\1um\\classification_v9_combined\\OTS_14832_9_he.png\n",
      "Image \\\\shelter\\Kyu\\unstain2stain\\unstain2stain_wsi\\HE\\1um\\classification_v9_combined\\OTS_14832_9_he.png available, analyzing tissue composition:\n"
     ]
    },
    {
     "name": "stderr",
     "output_type": "stream",
     "text": [
      "Image processed:  72%|\u001B[31m███████▏  \u001B[0m| 18/25 [00:15<00:04,  1.59it/s]"
     ]
    },
    {
     "name": "stdout",
     "output_type": "stream",
     "text": [
      "[0.0, 0.32808261676473816, 1.0464486338651007, 0.13091792549446124, 0.12960654684659262, 1.7498407635769782, 0.15581610429878553, 0.5006186111623364, 1.230887622664103, 0.7351572185738448, 20.557959111694174, 10.862282204646545, 62.572382640412336]\n",
      "processing image: \\\\shelter\\Kyu\\unstain2stain\\unstain2stain_wsi\\HE\\1um\\classification_v9_combined\\OTS_14832_10_he.png\n",
      "Image \\\\shelter\\Kyu\\unstain2stain\\unstain2stain_wsi\\HE\\1um\\classification_v9_combined\\OTS_14832_10_he.png available, analyzing tissue composition:\n"
     ]
    },
    {
     "name": "stderr",
     "output_type": "stream",
     "text": [
      "Image processed:  76%|\u001B[31m███████▌  \u001B[0m| 19/25 [00:16<00:04,  1.34it/s]"
     ]
    },
    {
     "name": "stdout",
     "output_type": "stream",
     "text": [
      "[0.0, 0.38273277467510297, 0.3549476382248857, 0.022108207052541493, 0.09011302068676422, 0.07224939290068552, 0.111681444973568, 0.22022243716529494, 0.10017073100016857, 0.26095566155145, 17.439169301228937, 1.9138263105883686, 79.03182307995223]\n",
      "processing image: \\\\shelter\\Kyu\\unstain2stain\\unstain2stain_wsi\\HE\\1um\\classification_v9_combined\\OTS_14832_11_he.png\n",
      "Image \\\\shelter\\Kyu\\unstain2stain\\unstain2stain_wsi\\HE\\1um\\classification_v9_combined\\OTS_14832_11_he.png available, analyzing tissue composition:\n"
     ]
    },
    {
     "name": "stderr",
     "output_type": "stream",
     "text": [
      "Image processed:  80%|\u001B[31m████████  \u001B[0m| 20/25 [00:17<00:04,  1.22it/s]"
     ]
    },
    {
     "name": "stdout",
     "output_type": "stream",
     "text": [
      "[0.0, 0.28249036554922563, 0.44862056443691833, 0.2564241329651082, 0.11731577965311446, 0.23610668424031298, 0.38729779508229073, 0.18493837018660858, 0.2913010516537392, 0.30794316683840334, 19.397383222943066, 13.735697412600652, 64.35448145385055]\n",
      "processing image: \\\\shelter\\Kyu\\unstain2stain\\unstain2stain_wsi\\HE\\1um\\classification_v9_combined\\OTS_14832_12_he.png\n",
      "Image \\\\shelter\\Kyu\\unstain2stain\\unstain2stain_wsi\\HE\\1um\\classification_v9_combined\\OTS_14832_12_he.png available, analyzing tissue composition:\n"
     ]
    },
    {
     "name": "stderr",
     "output_type": "stream",
     "text": [
      "Image processed:  84%|\u001B[31m████████▍ \u001B[0m| 21/25 [00:18<00:03,  1.20it/s]"
     ]
    },
    {
     "name": "stdout",
     "output_type": "stream",
     "text": [
      "[0.0, 0.21234317102017175, 0.3477900384709314, 0.05906446539144663, 0.12019853111554693, 0.2263949953674228, 0.021430703670021804, 0.0824232715501916, 0.3476236618852109, 0.3149073389707111, 12.038046468949293, 17.572121217813166, 68.65765613579589]\n",
      "processing image: \\\\shelter\\Kyu\\unstain2stain\\unstain2stain_wsi\\HE\\1um\\classification_v9_combined\\OTS_14832_13_he.png\n",
      "Image \\\\shelter\\Kyu\\unstain2stain\\unstain2stain_wsi\\HE\\1um\\classification_v9_combined\\OTS_14832_13_he.png available, analyzing tissue composition:\n"
     ]
    },
    {
     "name": "stderr",
     "output_type": "stream",
     "text": [
      "Image processed:  88%|\u001B[31m████████▊ \u001B[0m| 22/25 [00:19<00:02,  1.09it/s]"
     ]
    },
    {
     "name": "stdout",
     "output_type": "stream",
     "text": [
      "[0.0, 0.2752860052331213, 0.49966207713088556, 0.020434328053543397, 0.1048639952613637, 0.36267457458288643, 0.012485960730043353, 0.20532595864868763, 0.2024311193406685, 0.7135524358900198, 21.868670881577867, 0.925777160967085, 74.80883550258383]\n",
      "processing image: \\\\shelter\\Kyu\\unstain2stain\\unstain2stain_wsi\\HE\\1um\\classification_v9_combined\\OTS_14832_14_he.png\n",
      "Image \\\\shelter\\Kyu\\unstain2stain\\unstain2stain_wsi\\HE\\1um\\classification_v9_combined\\OTS_14832_14_he.png available, analyzing tissue composition:\n"
     ]
    },
    {
     "name": "stderr",
     "output_type": "stream",
     "text": [
      "Image processed:  92%|\u001B[31m█████████▏\u001B[0m| 23/25 [00:20<00:01,  1.06it/s]"
     ]
    },
    {
     "name": "stdout",
     "output_type": "stream",
     "text": [
      "[0.0, 0.9469857804143069, 0.44603988757454016, 0.09869043866621637, 0.08897933072833632, 0.09454987505909368, 0.06392576819183757, 0.08071696966531973, 0.12853312299630518, 0.28396264457977743, 16.983678380175483, 0.4979643267325348, 80.28597347521624]\n",
      "processing image: \\\\shelter\\Kyu\\unstain2stain\\unstain2stain_wsi\\HE\\1um\\classification_v9_combined\\OTS_14832_15_he.png\n",
      "Image \\\\shelter\\Kyu\\unstain2stain\\unstain2stain_wsi\\HE\\1um\\classification_v9_combined\\OTS_14832_15_he.png available, analyzing tissue composition:\n"
     ]
    },
    {
     "name": "stderr",
     "output_type": "stream",
     "text": [
      "Image processed:  96%|\u001B[31m█████████▌\u001B[0m| 24/25 [00:21<00:01,  1.05s/it]"
     ]
    },
    {
     "name": "stdout",
     "output_type": "stream",
     "text": [
      "[0.0, 0.1991639993901792, 1.4975637851944141, 0.3677093954258337, 0.1984957293811466, 0.25930025568022036, 0.6138488116504366, 0.20453831529257138, 0.3278510829180463, 0.9751070743235539, 23.628150847123884, 3.5377898243358907, 68.19048087928383]\n",
      "processing image: \\\\shelter\\Kyu\\unstain2stain\\unstain2stain_wsi\\HE\\1um\\classification_v9_combined\\OTS_14832_16_he.png\n",
      "Image \\\\shelter\\Kyu\\unstain2stain\\unstain2stain_wsi\\HE\\1um\\classification_v9_combined\\OTS_14832_16_he.png available, analyzing tissue composition:\n"
     ]
    },
    {
     "name": "stderr",
     "output_type": "stream",
     "text": [
      "Image processed: 100%|\u001B[31m██████████\u001B[0m| 25/25 [00:22<00:00,  1.12it/s]"
     ]
    },
    {
     "name": "stdout",
     "output_type": "stream",
     "text": [
      "[0.0, 0.26905538401741214, 0.38333433913764353, 0.08647615188041476, 0.17198668480516527, 0.13324488185669633, 0.2516227431378201, 0.2148320757034025, 0.15093853246612246, 0.24427584594423887, 17.101569349676584, 2.5828750369217572, 78.40978897445274]\n",
      "[   7.10179157   14.40234075    2.36856403    2.38441471    7.29313678\n",
      "    3.18021852    3.34875437    7.73712273    8.59893973  342.60508134\n",
      "  218.15112321 1382.82851227]\n",
      "2\n"
     ]
    },
    {
     "name": "stderr",
     "output_type": "stream",
     "text": [
      "\n"
     ]
    }
   ],
   "source": [
    "# save xlsx for individual masks:\n",
    "include_white = True # we want white space included in this case\n",
    "masksrc = r'\\\\shelter\\Kyu\\unstain2stain\\unstain2stain_wsi\\HE\\1um\\classification_v9_combined'\n",
    "desired_mask_src = [os.path.join(masksrc,x) for x in desired_names]\n",
    "desired_mask_names = [os.path.basename(x) for x in desired_mask_src]\n",
    "save_src = r'\\\\shelter\\Kyu\\unstain2stain\\unstain2stain_wsi\\HE\\1um\\classification_v9_combined\\composition_including_white'\n",
    "class_list = list(['corneum','spinosum','hairshaft','hairfollicle','smoothmuscle','oil','sweat','nerve','bloodvessel','ecm','fat','white'])\n",
    "if not include_white:\n",
    "    count_list_ra = np.zeros(shape=11)\n",
    "count_list_ra = np.zeros(shape=12)\n",
    "for idx in tqdm(range(0,len(desired_mask_src)),total = len(desired_mask_src),desc=\"Image processed\",colour='red'):\n",
    "    comps_df = pd.DataFrame(index = class_list)\n",
    "    print(\"processing image: {}\".format(desired_mask_src[idx]))\n",
    "    fn, _ = os.path.splitext(desired_mask_names[idx])\n",
    "    # check if xlsx exists in destination\n",
    "    if not include_white:\n",
    "        save_src_xlsx = os.path.join(save_src, fn + \".xlsx\")\n",
    "    save_src_xlsx = os.path.join(save_src, fn + \".xlsx\")\n",
    "    if os.path.exists(save_src_xlsx):\n",
    "        print(\"xlsx for image {} already exists, skipping to next\".format(desired_mask_src[idx]))\n",
    "        continue\n",
    "    try:\n",
    "        DLarr = Image.open(desired_mask_src[idx])\n",
    "    except:\n",
    "        print(\"Image {} not available, since corrupted.\".format(desired_mask_src[idx]))\n",
    "        continue\n",
    "    else:\n",
    "        print(\"Image {} available, analyzing tissue composition:\".format(desired_mask_src[idx]))\n",
    "    DLarr = np.array(DLarr)\n",
    "    if not include_white:\n",
    "        DLarr = DLarr[DLarr < 12] # background 12 shouldn't count in the composition\n",
    "    DLarr_flatten = DLarr.flatten()\n",
    "    hist = np.bincount(DLarr_flatten) #dl mask\n",
    "    hist = hist/np.sum(hist)*100\n",
    "    count_list = list(hist)\n",
    "    print(count_list)\n",
    "    del(count_list[0])\n",
    "    count_list_ra = count_list_ra + np.array(count_list)\n",
    "    count_list = [np.round(x,3) for x in count_list]\n",
    "    ratio_class_dict = dict(zip(class_list,count_list))\n",
    "    tmp_df = pd.DataFrame.from_dict(ratio_class_dict,orient='index')\n",
    "    comps_df = pd.concat([comps_df,pd.DataFrame.from_dict(tmp_df)],axis=1)\n",
    "    comps_df.dropna()\n",
    "    comps_df.rename(columns = {0:'composition'}, inplace=True)\n",
    "    if not include_white:\n",
    "        comps_df = comps_df[:-1]\n",
    "    comps_df.to_excel(save_src_xlsx)\n",
    "print(count_list_ra)\n",
    "print(np.argmin(count_list_ra))"
   ],
   "metadata": {
    "collapsed": false
   }
  },
  {
   "cell_type": "markdown",
   "source": [],
   "metadata": {
    "collapsed": false
   }
  },
  {
   "cell_type": "markdown",
   "source": [
    "### As we see above, for non-white space, most common class is ECM by a big margin, and then fat, and then spinosum, and then blood vessel. Hair shaft is the rarest, 155x fewer area than ecm. But with white space, white space is 4x more common that ECM."
   ],
   "metadata": {
    "collapsed": false
   }
  },
  {
   "cell_type": "markdown",
   "source": [
    "### First, we want to trim the number of ECM that we load into training set. To do that, we should calculate and save as pickle each tile and their respective tissue compositions as a pkl file. Code to do this is below:"
   ],
   "metadata": {
    "collapsed": false
   }
  },
  {
   "cell_type": "code",
   "execution_count": 1,
   "outputs": [],
   "source": [
    "# Load all the masks in, adjust the coordinates of the mask to real resolution (mask resolution is 1 um), and then match with coordinate of the tile (in their name). Do both for HE and unstained (note the coordinate diff b/w HE and unstained however). For each image opened, calculate tissue composition and save tissue composition as excel file with the name of the image as well."
   ],
   "metadata": {
    "collapsed": false
   }
  },
  {
   "cell_type": "code",
   "execution_count": 22,
   "outputs": [
    {
     "name": "stderr",
     "output_type": "stream",
     "text": [
      "Files processed:   0%|\u001B[31m          \u001B[0m| 0/25 [00:00<?, ?it/s]"
     ]
    },
    {
     "name": "stdout",
     "output_type": "stream",
     "text": [
      "Processing mask \\\\shelter\\Kyu\\unstain2stain\\unstain2stain_wsi\\HE\\1um\\classification_v9_combined\\OTS_14684_1_he.png and image ['\\\\\\\\shelter\\\\Kyu\\\\unstain2stain\\\\unstain2stain_tile\\\\train\\\\HE\\\\OTS_14684_1_he\\\\1xy0114.png', '\\\\\\\\shelter\\\\Kyu\\\\unstain2stain\\\\unstain2stain_tile\\\\train\\\\HE\\\\OTS_14684_1_he\\\\1xy0115.png', '\\\\\\\\shelter\\\\Kyu\\\\unstain2stain\\\\unstain2stain_tile\\\\train\\\\HE\\\\OTS_14684_1_he\\\\1xy0404.png', '\\\\\\\\shelter\\\\Kyu\\\\unstain2stain\\\\unstain2stain_tile\\\\train\\\\HE\\\\OTS_14684_1_he\\\\1xy0405.png', '\\\\\\\\shelter\\\\Kyu\\\\unstain2stain\\\\unstain2stain_tile\\\\train\\\\HE\\\\OTS_14684_1_he\\\\1xy0447.png', '\\\\\\\\shelter\\\\Kyu\\\\unstain2stain\\\\unstain2stain_tile\\\\train\\\\HE\\\\OTS_14684_1_he\\\\1xy0448.png', '\\\\\\\\shelter\\\\Kyu\\\\unstain2stain\\\\unstain2stain_tile\\\\train\\\\HE\\\\OTS_14684_1_he\\\\1xy0489.png', '\\\\\\\\shelter\\\\Kyu\\\\unstain2stain\\\\unstain2stain_tile\\\\train\\\\HE\\\\OTS_14684_1_he\\\\1xy0490.png', '\\\\\\\\shelter\\\\Kyu\\\\unstain2stain\\\\unstain2stain_tile\\\\train\\\\HE\\\\OTS_14684_1_he\\\\1xy0491.png', '\\\\\\\\shelter\\\\Kyu\\\\unstain2stain\\\\unstain2stain_tile\\\\train\\\\HE\\\\OTS_14684_1_he\\\\1xy0492.png', '\\\\\\\\shelter\\\\Kyu\\\\unstain2stain\\\\unstain2stain_tile\\\\train\\\\HE\\\\OTS_14684_1_he\\\\1xy0534.png', '\\\\\\\\shelter\\\\Kyu\\\\unstain2stain\\\\unstain2stain_tile\\\\train\\\\HE\\\\OTS_14684_1_he\\\\1xy0577.png', '\\\\\\\\shelter\\\\Kyu\\\\unstain2stain\\\\unstain2stain_tile\\\\train\\\\HE\\\\OTS_14684_1_he\\\\1xy0578.png', '\\\\\\\\shelter\\\\Kyu\\\\unstain2stain\\\\unstain2stain_tile\\\\train\\\\HE\\\\OTS_14684_1_he\\\\1xy0620.png', '\\\\\\\\shelter\\\\Kyu\\\\unstain2stain\\\\unstain2stain_tile\\\\train\\\\HE\\\\OTS_14684_1_he\\\\1xy0621.png', '\\\\\\\\shelter\\\\Kyu\\\\unstain2stain\\\\unstain2stain_tile\\\\train\\\\HE\\\\OTS_14684_1_he\\\\1xy0622.png', '\\\\\\\\shelter\\\\Kyu\\\\unstain2stain\\\\unstain2stain_tile\\\\train\\\\HE\\\\OTS_14684_1_he\\\\1xy0665.png', '\\\\\\\\shelter\\\\Kyu\\\\unstain2stain\\\\unstain2stain_tile\\\\train\\\\HE\\\\OTS_14684_1_he\\\\1xy0667.png', '\\\\\\\\shelter\\\\Kyu\\\\unstain2stain\\\\unstain2stain_tile\\\\train\\\\HE\\\\OTS_14684_1_he\\\\1xy0708.png', '\\\\\\\\shelter\\\\Kyu\\\\unstain2stain\\\\unstain2stain_tile\\\\train\\\\HE\\\\OTS_14684_1_he\\\\1xy0709.png', '\\\\\\\\shelter\\\\Kyu\\\\unstain2stain\\\\unstain2stain_tile\\\\train\\\\HE\\\\OTS_14684_1_he\\\\1xy0710.png', '\\\\\\\\shelter\\\\Kyu\\\\unstain2stain\\\\unstain2stain_tile\\\\train\\\\HE\\\\OTS_14684_1_he\\\\1xy0752.png', '\\\\\\\\shelter\\\\Kyu\\\\unstain2stain\\\\unstain2stain_tile\\\\train\\\\HE\\\\OTS_14684_1_he\\\\1xy0753.png', '\\\\\\\\shelter\\\\Kyu\\\\unstain2stain\\\\unstain2stain_tile\\\\train\\\\HE\\\\OTS_14684_1_he\\\\1xy0754.png', '\\\\\\\\shelter\\\\Kyu\\\\unstain2stain\\\\unstain2stain_tile\\\\train\\\\HE\\\\OTS_14684_1_he\\\\1xy0795.png', '\\\\\\\\shelter\\\\Kyu\\\\unstain2stain\\\\unstain2stain_tile\\\\train\\\\HE\\\\OTS_14684_1_he\\\\1xy0796.png', '\\\\\\\\shelter\\\\Kyu\\\\unstain2stain\\\\unstain2stain_tile\\\\train\\\\HE\\\\OTS_14684_1_he\\\\1xy0797.png', '\\\\\\\\shelter\\\\Kyu\\\\unstain2stain\\\\unstain2stain_tile\\\\train\\\\HE\\\\OTS_14684_1_he\\\\1xy0840.png', '\\\\\\\\shelter\\\\Kyu\\\\unstain2stain\\\\unstain2stain_tile\\\\train\\\\HE\\\\OTS_14684_1_he\\\\1xy0841.png', '\\\\\\\\shelter\\\\Kyu\\\\unstain2stain\\\\unstain2stain_tile\\\\train\\\\HE\\\\OTS_14684_1_he\\\\1xy0842.png', '\\\\\\\\shelter\\\\Kyu\\\\unstain2stain\\\\unstain2stain_tile\\\\train\\\\HE\\\\OTS_14684_1_he\\\\1xy0885.png', '\\\\\\\\shelter\\\\Kyu\\\\unstain2stain\\\\unstain2stain_tile\\\\train\\\\HE\\\\OTS_14684_1_he\\\\1xy0927.png', '\\\\\\\\shelter\\\\Kyu\\\\unstain2stain\\\\unstain2stain_tile\\\\train\\\\HE\\\\OTS_14684_1_he\\\\1xy0928.png', '\\\\\\\\shelter\\\\Kyu\\\\unstain2stain\\\\unstain2stain_tile\\\\train\\\\HE\\\\OTS_14684_1_he\\\\1xy0971.png', '\\\\\\\\shelter\\\\Kyu\\\\unstain2stain\\\\unstain2stain_tile\\\\train\\\\HE\\\\OTS_14684_1_he\\\\1xy0972.png', '\\\\\\\\shelter\\\\Kyu\\\\unstain2stain\\\\unstain2stain_tile\\\\train\\\\HE\\\\OTS_14684_1_he\\\\1xy1016.png', '\\\\\\\\shelter\\\\Kyu\\\\unstain2stain\\\\unstain2stain_tile\\\\train\\\\HE\\\\OTS_14684_1_he\\\\1xy1017.png', '\\\\\\\\shelter\\\\Kyu\\\\unstain2stain\\\\unstain2stain_tile\\\\train\\\\HE\\\\OTS_14684_1_he\\\\1xy1020.png', '\\\\\\\\shelter\\\\Kyu\\\\unstain2stain\\\\unstain2stain_tile\\\\train\\\\HE\\\\OTS_14684_1_he\\\\1xy1021.png', '\\\\\\\\shelter\\\\Kyu\\\\unstain2stain\\\\unstain2stain_tile\\\\train\\\\HE\\\\OTS_14684_1_he\\\\1xy1060.png', '\\\\\\\\shelter\\\\Kyu\\\\unstain2stain\\\\unstain2stain_tile\\\\train\\\\HE\\\\OTS_14684_1_he\\\\1xy1061.png', '\\\\\\\\shelter\\\\Kyu\\\\unstain2stain\\\\unstain2stain_tile\\\\train\\\\HE\\\\OTS_14684_1_he\\\\1xy1064.png', '\\\\\\\\shelter\\\\Kyu\\\\unstain2stain\\\\unstain2stain_tile\\\\train\\\\HE\\\\OTS_14684_1_he\\\\1xy1065.png', '\\\\\\\\shelter\\\\Kyu\\\\unstain2stain\\\\unstain2stain_tile\\\\train\\\\HE\\\\OTS_14684_1_he\\\\1xy1067.png', '\\\\\\\\shelter\\\\Kyu\\\\unstain2stain\\\\unstain2stain_tile\\\\train\\\\HE\\\\OTS_14684_1_he\\\\1xy1068.png', '\\\\\\\\shelter\\\\Kyu\\\\unstain2stain\\\\unstain2stain_tile\\\\train\\\\HE\\\\OTS_14684_1_he\\\\1xy1104.png', '\\\\\\\\shelter\\\\Kyu\\\\unstain2stain\\\\unstain2stain_tile\\\\train\\\\HE\\\\OTS_14684_1_he\\\\1xy1108.png', '\\\\\\\\shelter\\\\Kyu\\\\unstain2stain\\\\unstain2stain_tile\\\\train\\\\HE\\\\OTS_14684_1_he\\\\1xy1109.png', '\\\\\\\\shelter\\\\Kyu\\\\unstain2stain\\\\unstain2stain_tile\\\\train\\\\HE\\\\OTS_14684_1_he\\\\1xy1110.png', '\\\\\\\\shelter\\\\Kyu\\\\unstain2stain\\\\unstain2stain_tile\\\\train\\\\HE\\\\OTS_14684_1_he\\\\1xy1111.png', '\\\\\\\\shelter\\\\Kyu\\\\unstain2stain\\\\unstain2stain_tile\\\\train\\\\HE\\\\OTS_14684_1_he\\\\1xy1148.png', '\\\\\\\\shelter\\\\Kyu\\\\unstain2stain\\\\unstain2stain_tile\\\\train\\\\HE\\\\OTS_14684_1_he\\\\1xy1149.png', '\\\\\\\\shelter\\\\Kyu\\\\unstain2stain\\\\unstain2stain_tile\\\\train\\\\HE\\\\OTS_14684_1_he\\\\1xy1153.png', '\\\\\\\\shelter\\\\Kyu\\\\unstain2stain\\\\unstain2stain_tile\\\\train\\\\HE\\\\OTS_14684_1_he\\\\1xy1193.png', '\\\\\\\\shelter\\\\Kyu\\\\unstain2stain\\\\unstain2stain_tile\\\\train\\\\HE\\\\OTS_14684_1_he\\\\1xy1195.png', '\\\\\\\\shelter\\\\Kyu\\\\unstain2stain\\\\unstain2stain_tile\\\\train\\\\HE\\\\OTS_14684_1_he\\\\1xy1197.png', '\\\\\\\\shelter\\\\Kyu\\\\unstain2stain\\\\unstain2stain_tile\\\\train\\\\HE\\\\OTS_14684_1_he\\\\1xy1198.png', '\\\\\\\\shelter\\\\Kyu\\\\unstain2stain\\\\unstain2stain_tile\\\\train\\\\HE\\\\OTS_14684_1_he\\\\1xy1237.png', '\\\\\\\\shelter\\\\Kyu\\\\unstain2stain\\\\unstain2stain_tile\\\\train\\\\HE\\\\OTS_14684_1_he\\\\1xy1241.png', '\\\\\\\\shelter\\\\Kyu\\\\unstain2stain\\\\unstain2stain_tile\\\\train\\\\HE\\\\OTS_14684_1_he\\\\1xy1242.png', '\\\\\\\\shelter\\\\Kyu\\\\unstain2stain\\\\unstain2stain_tile\\\\train\\\\HE\\\\OTS_14684_1_he\\\\1xy1243.png', '\\\\\\\\shelter\\\\Kyu\\\\unstain2stain\\\\unstain2stain_tile\\\\train\\\\HE\\\\OTS_14684_1_he\\\\1xy1280.png', '\\\\\\\\shelter\\\\Kyu\\\\unstain2stain\\\\unstain2stain_tile\\\\train\\\\HE\\\\OTS_14684_1_he\\\\1xy1284.png', '\\\\\\\\shelter\\\\Kyu\\\\unstain2stain\\\\unstain2stain_tile\\\\train\\\\HE\\\\OTS_14684_1_he\\\\1xy1285.png', '\\\\\\\\shelter\\\\Kyu\\\\unstain2stain\\\\unstain2stain_tile\\\\train\\\\HE\\\\OTS_14684_1_he\\\\1xy1286.png', '\\\\\\\\shelter\\\\Kyu\\\\unstain2stain\\\\unstain2stain_tile\\\\train\\\\HE\\\\OTS_14684_1_he\\\\1xy1329.png', '\\\\\\\\shelter\\\\Kyu\\\\unstain2stain\\\\unstain2stain_tile\\\\train\\\\HE\\\\OTS_14684_1_he\\\\1xy1330.png', '\\\\\\\\shelter\\\\Kyu\\\\unstain2stain\\\\unstain2stain_tile\\\\train\\\\HE\\\\OTS_14684_1_he\\\\1xy1372.png', '\\\\\\\\shelter\\\\Kyu\\\\unstain2stain\\\\unstain2stain_tile\\\\train\\\\HE\\\\OTS_14684_1_he\\\\1xy1373.png', '\\\\\\\\shelter\\\\Kyu\\\\unstain2stain\\\\unstain2stain_tile\\\\train\\\\HE\\\\OTS_14684_1_he\\\\1xy1374.png', '\\\\\\\\shelter\\\\Kyu\\\\unstain2stain\\\\unstain2stain_tile\\\\train\\\\HE\\\\OTS_14684_1_he\\\\1xy1375.png', '\\\\\\\\shelter\\\\Kyu\\\\unstain2stain\\\\unstain2stain_tile\\\\train\\\\HE\\\\OTS_14684_1_he\\\\1xy1412.png', '\\\\\\\\shelter\\\\Kyu\\\\unstain2stain\\\\unstain2stain_tile\\\\train\\\\HE\\\\OTS_14684_1_he\\\\1xy1417.png', '\\\\\\\\shelter\\\\Kyu\\\\unstain2stain\\\\unstain2stain_tile\\\\train\\\\HE\\\\OTS_14684_1_he\\\\1xy1418.png', '\\\\\\\\shelter\\\\Kyu\\\\unstain2stain\\\\unstain2stain_tile\\\\train\\\\HE\\\\OTS_14684_1_he\\\\1xy1419.png', '\\\\\\\\shelter\\\\Kyu\\\\unstain2stain\\\\unstain2stain_tile\\\\train\\\\HE\\\\OTS_14684_1_he\\\\1xy1420.png', '\\\\\\\\shelter\\\\Kyu\\\\unstain2stain\\\\unstain2stain_tile\\\\train\\\\HE\\\\OTS_14684_1_he\\\\1xy1457.png', '\\\\\\\\shelter\\\\Kyu\\\\unstain2stain\\\\unstain2stain_tile\\\\train\\\\HE\\\\OTS_14684_1_he\\\\1xy1461.png', '\\\\\\\\shelter\\\\Kyu\\\\unstain2stain\\\\unstain2stain_tile\\\\train\\\\HE\\\\OTS_14684_1_he\\\\1xy1462.png', '\\\\\\\\shelter\\\\Kyu\\\\unstain2stain\\\\unstain2stain_tile\\\\train\\\\HE\\\\OTS_14684_1_he\\\\1xy1464.png', '\\\\\\\\shelter\\\\Kyu\\\\unstain2stain\\\\unstain2stain_tile\\\\train\\\\HE\\\\OTS_14684_1_he\\\\1xy1465.png', '\\\\\\\\shelter\\\\Kyu\\\\unstain2stain\\\\unstain2stain_tile\\\\train\\\\HE\\\\OTS_14684_1_he\\\\1xy1505.png', '\\\\\\\\shelter\\\\Kyu\\\\unstain2stain\\\\unstain2stain_tile\\\\train\\\\HE\\\\OTS_14684_1_he\\\\1xy1506.png', '\\\\\\\\shelter\\\\Kyu\\\\unstain2stain\\\\unstain2stain_tile\\\\train\\\\HE\\\\OTS_14684_1_he\\\\1xy1507.png', '\\\\\\\\shelter\\\\Kyu\\\\unstain2stain\\\\unstain2stain_tile\\\\train\\\\HE\\\\OTS_14684_1_he\\\\1xy1545.png', '\\\\\\\\shelter\\\\Kyu\\\\unstain2stain\\\\unstain2stain_tile\\\\train\\\\HE\\\\OTS_14684_1_he\\\\1xy1546.png', '\\\\\\\\shelter\\\\Kyu\\\\unstain2stain\\\\unstain2stain_tile\\\\train\\\\HE\\\\OTS_14684_1_he\\\\1xy1549.png', '\\\\\\\\shelter\\\\Kyu\\\\unstain2stain\\\\unstain2stain_tile\\\\train\\\\HE\\\\OTS_14684_1_he\\\\1xy1550.png', '\\\\\\\\shelter\\\\Kyu\\\\unstain2stain\\\\unstain2stain_tile\\\\train\\\\HE\\\\OTS_14684_1_he\\\\1xy1551.png', '\\\\\\\\shelter\\\\Kyu\\\\unstain2stain\\\\unstain2stain_tile\\\\train\\\\HE\\\\OTS_14684_1_he\\\\1xy1589.png', '\\\\\\\\shelter\\\\Kyu\\\\unstain2stain\\\\unstain2stain_tile\\\\train\\\\HE\\\\OTS_14684_1_he\\\\1xy1590.png', '\\\\\\\\shelter\\\\Kyu\\\\unstain2stain\\\\unstain2stain_tile\\\\train\\\\HE\\\\OTS_14684_1_he\\\\1xy1594.png', '\\\\\\\\shelter\\\\Kyu\\\\unstain2stain\\\\unstain2stain_tile\\\\train\\\\HE\\\\OTS_14684_1_he\\\\1xy1595.png', '\\\\\\\\shelter\\\\Kyu\\\\unstain2stain\\\\unstain2stain_tile\\\\train\\\\HE\\\\OTS_14684_1_he\\\\1xy1633.png', '\\\\\\\\shelter\\\\Kyu\\\\unstain2stain\\\\unstain2stain_tile\\\\train\\\\HE\\\\OTS_14684_1_he\\\\1xy1634.png', '\\\\\\\\shelter\\\\Kyu\\\\unstain2stain\\\\unstain2stain_tile\\\\train\\\\HE\\\\OTS_14684_1_he\\\\1xy1635.png', '\\\\\\\\shelter\\\\Kyu\\\\unstain2stain\\\\unstain2stain_tile\\\\train\\\\HE\\\\OTS_14684_1_he\\\\1xy1637.png', '\\\\\\\\shelter\\\\Kyu\\\\unstain2stain\\\\unstain2stain_tile\\\\train\\\\HE\\\\OTS_14684_1_he\\\\1xy1638.png', '\\\\\\\\shelter\\\\Kyu\\\\unstain2stain\\\\unstain2stain_tile\\\\train\\\\HE\\\\OTS_14684_1_he\\\\1xy1639.png', '\\\\\\\\shelter\\\\Kyu\\\\unstain2stain\\\\unstain2stain_tile\\\\train\\\\HE\\\\OTS_14684_1_he\\\\1xy1640.png', '\\\\\\\\shelter\\\\Kyu\\\\unstain2stain\\\\unstain2stain_tile\\\\train\\\\HE\\\\OTS_14684_1_he\\\\1xy1678.png', '\\\\\\\\shelter\\\\Kyu\\\\unstain2stain\\\\unstain2stain_tile\\\\train\\\\HE\\\\OTS_14684_1_he\\\\1xy1683.png', '\\\\\\\\shelter\\\\Kyu\\\\unstain2stain\\\\unstain2stain_tile\\\\train\\\\HE\\\\OTS_14684_1_he\\\\1xy1684.png', '\\\\\\\\shelter\\\\Kyu\\\\unstain2stain\\\\unstain2stain_tile\\\\train\\\\HE\\\\OTS_14684_1_he\\\\1xy1685.png', '\\\\\\\\shelter\\\\Kyu\\\\unstain2stain\\\\unstain2stain_tile\\\\train\\\\HE\\\\OTS_14684_1_he\\\\1xy1722.png', '\\\\\\\\shelter\\\\Kyu\\\\unstain2stain\\\\unstain2stain_tile\\\\train\\\\HE\\\\OTS_14684_1_he\\\\1xy1723.png', '\\\\\\\\shelter\\\\Kyu\\\\unstain2stain\\\\unstain2stain_tile\\\\train\\\\HE\\\\OTS_14684_1_he\\\\1xy1727.png', '\\\\\\\\shelter\\\\Kyu\\\\unstain2stain\\\\unstain2stain_tile\\\\train\\\\HE\\\\OTS_14684_1_he\\\\1xy1728.png', '\\\\\\\\shelter\\\\Kyu\\\\unstain2stain\\\\unstain2stain_tile\\\\train\\\\HE\\\\OTS_14684_1_he\\\\1xy1767.png', '\\\\\\\\shelter\\\\Kyu\\\\unstain2stain\\\\unstain2stain_tile\\\\train\\\\HE\\\\OTS_14684_1_he\\\\1xy1768.png', '\\\\\\\\shelter\\\\Kyu\\\\unstain2stain\\\\unstain2stain_tile\\\\train\\\\HE\\\\OTS_14684_1_he\\\\1xy1771.png', '\\\\\\\\shelter\\\\Kyu\\\\unstain2stain\\\\unstain2stain_tile\\\\train\\\\HE\\\\OTS_14684_1_he\\\\1xy1772.png', '\\\\\\\\shelter\\\\Kyu\\\\unstain2stain\\\\unstain2stain_tile\\\\train\\\\HE\\\\OTS_14684_1_he\\\\1xy1811.png', '\\\\\\\\shelter\\\\Kyu\\\\unstain2stain\\\\unstain2stain_tile\\\\train\\\\HE\\\\OTS_14684_1_he\\\\1xy1812.png', '\\\\\\\\shelter\\\\Kyu\\\\unstain2stain\\\\unstain2stain_tile\\\\train\\\\HE\\\\OTS_14684_1_he\\\\1xy1815.png', '\\\\\\\\shelter\\\\Kyu\\\\unstain2stain\\\\unstain2stain_tile\\\\train\\\\HE\\\\OTS_14684_1_he\\\\1xy1855.png', '\\\\\\\\shelter\\\\Kyu\\\\unstain2stain\\\\unstain2stain_tile\\\\train\\\\HE\\\\OTS_14684_1_he\\\\1xy1856.png', '\\\\\\\\shelter\\\\Kyu\\\\unstain2stain\\\\unstain2stain_tile\\\\train\\\\HE\\\\OTS_14684_1_he\\\\1xy1900.png', '\\\\\\\\shelter\\\\Kyu\\\\unstain2stain\\\\unstain2stain_tile\\\\train\\\\HE\\\\OTS_14684_1_he\\\\1xy1901.png', '\\\\\\\\shelter\\\\Kyu\\\\unstain2stain\\\\unstain2stain_tile\\\\train\\\\HE\\\\OTS_14684_1_he\\\\1xy1945.png', '\\\\\\\\shelter\\\\Kyu\\\\unstain2stain\\\\unstain2stain_tile\\\\train\\\\HE\\\\OTS_14684_1_he\\\\1xy1990.png', '\\\\\\\\shelter\\\\Kyu\\\\unstain2stain\\\\unstain2stain_tile\\\\train\\\\HE\\\\OTS_14684_1_he\\\\1xy1991.png', '\\\\\\\\shelter\\\\Kyu\\\\unstain2stain\\\\unstain2stain_tile\\\\train\\\\HE\\\\OTS_14684_1_he\\\\1xy2034.png', '\\\\\\\\shelter\\\\Kyu\\\\unstain2stain\\\\unstain2stain_tile\\\\train\\\\HE\\\\OTS_14684_1_he\\\\1xy2035.png', '\\\\\\\\shelter\\\\Kyu\\\\unstain2stain\\\\unstain2stain_tile\\\\train\\\\HE\\\\OTS_14684_1_he\\\\1xy2079.png', '\\\\\\\\shelter\\\\Kyu\\\\unstain2stain\\\\unstain2stain_tile\\\\train\\\\HE\\\\OTS_14684_1_he\\\\1xy2123.png', '\\\\\\\\shelter\\\\Kyu\\\\unstain2stain\\\\unstain2stain_tile\\\\train\\\\HE\\\\OTS_14684_1_he\\\\1xy2124.png', '\\\\\\\\shelter\\\\Kyu\\\\unstain2stain\\\\unstain2stain_tile\\\\train\\\\HE\\\\OTS_14684_1_he\\\\2xy0106.png', '\\\\\\\\shelter\\\\Kyu\\\\unstain2stain\\\\unstain2stain_tile\\\\train\\\\HE\\\\OTS_14684_1_he\\\\2xy0107.png', '\\\\\\\\shelter\\\\Kyu\\\\unstain2stain\\\\unstain2stain_tile\\\\train\\\\HE\\\\OTS_14684_1_he\\\\2xy0449.png', '\\\\\\\\shelter\\\\Kyu\\\\unstain2stain\\\\unstain2stain_tile\\\\train\\\\HE\\\\OTS_14684_1_he\\\\2xy0450.png', '\\\\\\\\shelter\\\\Kyu\\\\unstain2stain\\\\unstain2stain_tile\\\\train\\\\HE\\\\OTS_14684_1_he\\\\2xy0451.png', '\\\\\\\\shelter\\\\Kyu\\\\unstain2stain\\\\unstain2stain_tile\\\\train\\\\HE\\\\OTS_14684_1_he\\\\2xy0490.png', '\\\\\\\\shelter\\\\Kyu\\\\unstain2stain\\\\unstain2stain_tile\\\\train\\\\HE\\\\OTS_14684_1_he\\\\2xy0529.png', '\\\\\\\\shelter\\\\Kyu\\\\unstain2stain\\\\unstain2stain_tile\\\\train\\\\HE\\\\OTS_14684_1_he\\\\2xy0530.png', '\\\\\\\\shelter\\\\Kyu\\\\unstain2stain\\\\unstain2stain_tile\\\\train\\\\HE\\\\OTS_14684_1_he\\\\2xy0568.png', '\\\\\\\\shelter\\\\Kyu\\\\unstain2stain\\\\unstain2stain_tile\\\\train\\\\HE\\\\OTS_14684_1_he\\\\2xy0569.png', '\\\\\\\\shelter\\\\Kyu\\\\unstain2stain\\\\unstain2stain_tile\\\\train\\\\HE\\\\OTS_14684_1_he\\\\2xy0570.png', '\\\\\\\\shelter\\\\Kyu\\\\unstain2stain\\\\unstain2stain_tile\\\\train\\\\HE\\\\OTS_14684_1_he\\\\2xy0609.png', '\\\\\\\\shelter\\\\Kyu\\\\unstain2stain\\\\unstain2stain_tile\\\\train\\\\HE\\\\OTS_14684_1_he\\\\2xy0611.png', '\\\\\\\\shelter\\\\Kyu\\\\unstain2stain\\\\unstain2stain_tile\\\\train\\\\HE\\\\OTS_14684_1_he\\\\2xy0648.png', '\\\\\\\\shelter\\\\Kyu\\\\unstain2stain\\\\unstain2stain_tile\\\\train\\\\HE\\\\OTS_14684_1_he\\\\2xy0649.png', '\\\\\\\\shelter\\\\Kyu\\\\unstain2stain\\\\unstain2stain_tile\\\\train\\\\HE\\\\OTS_14684_1_he\\\\2xy0650.png', '\\\\\\\\shelter\\\\Kyu\\\\unstain2stain\\\\unstain2stain_tile\\\\train\\\\HE\\\\OTS_14684_1_he\\\\2xy0688.png', '\\\\\\\\shelter\\\\Kyu\\\\unstain2stain\\\\unstain2stain_tile\\\\train\\\\HE\\\\OTS_14684_1_he\\\\2xy0689.png', '\\\\\\\\shelter\\\\Kyu\\\\unstain2stain\\\\unstain2stain_tile\\\\train\\\\HE\\\\OTS_14684_1_he\\\\2xy0690.png', '\\\\\\\\shelter\\\\Kyu\\\\unstain2stain\\\\unstain2stain_tile\\\\train\\\\HE\\\\OTS_14684_1_he\\\\2xy0727.png', '\\\\\\\\shelter\\\\Kyu\\\\unstain2stain\\\\unstain2stain_tile\\\\train\\\\HE\\\\OTS_14684_1_he\\\\2xy0728.png', '\\\\\\\\shelter\\\\Kyu\\\\unstain2stain\\\\unstain2stain_tile\\\\train\\\\HE\\\\OTS_14684_1_he\\\\2xy0729.png', '\\\\\\\\shelter\\\\Kyu\\\\unstain2stain\\\\unstain2stain_tile\\\\train\\\\HE\\\\OTS_14684_1_he\\\\2xy0768.png', '\\\\\\\\shelter\\\\Kyu\\\\unstain2stain\\\\unstain2stain_tile\\\\train\\\\HE\\\\OTS_14684_1_he\\\\2xy0769.png', '\\\\\\\\shelter\\\\Kyu\\\\unstain2stain\\\\unstain2stain_tile\\\\train\\\\HE\\\\OTS_14684_1_he\\\\2xy0770.png', '\\\\\\\\shelter\\\\Kyu\\\\unstain2stain\\\\unstain2stain_tile\\\\train\\\\HE\\\\OTS_14684_1_he\\\\2xy0809.png', '\\\\\\\\shelter\\\\Kyu\\\\unstain2stain\\\\unstain2stain_tile\\\\train\\\\HE\\\\OTS_14684_1_he\\\\2xy0847.png', '\\\\\\\\shelter\\\\Kyu\\\\unstain2stain\\\\unstain2stain_tile\\\\train\\\\HE\\\\OTS_14684_1_he\\\\2xy0848.png', '\\\\\\\\shelter\\\\Kyu\\\\unstain2stain\\\\unstain2stain_tile\\\\train\\\\HE\\\\OTS_14684_1_he\\\\2xy0887.png', '\\\\\\\\shelter\\\\Kyu\\\\unstain2stain\\\\unstain2stain_tile\\\\train\\\\HE\\\\OTS_14684_1_he\\\\2xy0888.png', '\\\\\\\\shelter\\\\Kyu\\\\unstain2stain\\\\unstain2stain_tile\\\\train\\\\HE\\\\OTS_14684_1_he\\\\2xy0928.png', '\\\\\\\\shelter\\\\Kyu\\\\unstain2stain\\\\unstain2stain_tile\\\\train\\\\HE\\\\OTS_14684_1_he\\\\2xy0929.png', '\\\\\\\\shelter\\\\Kyu\\\\unstain2stain\\\\unstain2stain_tile\\\\train\\\\HE\\\\OTS_14684_1_he\\\\2xy0932.png', '\\\\\\\\shelter\\\\Kyu\\\\unstain2stain\\\\unstain2stain_tile\\\\train\\\\HE\\\\OTS_14684_1_he\\\\2xy0933.png', '\\\\\\\\shelter\\\\Kyu\\\\unstain2stain\\\\unstain2stain_tile\\\\train\\\\HE\\\\OTS_14684_1_he\\\\2xy0968.png', '\\\\\\\\shelter\\\\Kyu\\\\unstain2stain\\\\unstain2stain_tile\\\\train\\\\HE\\\\OTS_14684_1_he\\\\2xy0969.png', '\\\\\\\\shelter\\\\Kyu\\\\unstain2stain\\\\unstain2stain_tile\\\\train\\\\HE\\\\OTS_14684_1_he\\\\2xy0972.png', '\\\\\\\\shelter\\\\Kyu\\\\unstain2stain\\\\unstain2stain_tile\\\\train\\\\HE\\\\OTS_14684_1_he\\\\2xy0973.png', '\\\\\\\\shelter\\\\Kyu\\\\unstain2stain\\\\unstain2stain_tile\\\\train\\\\HE\\\\OTS_14684_1_he\\\\2xy0975.png', '\\\\\\\\shelter\\\\Kyu\\\\unstain2stain\\\\unstain2stain_tile\\\\train\\\\HE\\\\OTS_14684_1_he\\\\2xy0976.png', '\\\\\\\\shelter\\\\Kyu\\\\unstain2stain\\\\unstain2stain_tile\\\\train\\\\HE\\\\OTS_14684_1_he\\\\2xy1008.png', '\\\\\\\\shelter\\\\Kyu\\\\unstain2stain\\\\unstain2stain_tile\\\\train\\\\HE\\\\OTS_14684_1_he\\\\2xy1012.png', '\\\\\\\\shelter\\\\Kyu\\\\unstain2stain\\\\unstain2stain_tile\\\\train\\\\HE\\\\OTS_14684_1_he\\\\2xy1013.png', '\\\\\\\\shelter\\\\Kyu\\\\unstain2stain\\\\unstain2stain_tile\\\\train\\\\HE\\\\OTS_14684_1_he\\\\2xy1014.png', '\\\\\\\\shelter\\\\Kyu\\\\unstain2stain\\\\unstain2stain_tile\\\\train\\\\HE\\\\OTS_14684_1_he\\\\2xy1015.png', '\\\\\\\\shelter\\\\Kyu\\\\unstain2stain\\\\unstain2stain_tile\\\\train\\\\HE\\\\OTS_14684_1_he\\\\2xy1048.png', '\\\\\\\\shelter\\\\Kyu\\\\unstain2stain\\\\unstain2stain_tile\\\\train\\\\HE\\\\OTS_14684_1_he\\\\2xy1049.png', '\\\\\\\\shelter\\\\Kyu\\\\unstain2stain\\\\unstain2stain_tile\\\\train\\\\HE\\\\OTS_14684_1_he\\\\2xy1053.png', '\\\\\\\\shelter\\\\Kyu\\\\unstain2stain\\\\unstain2stain_tile\\\\train\\\\HE\\\\OTS_14684_1_he\\\\2xy1089.png', '\\\\\\\\shelter\\\\Kyu\\\\unstain2stain\\\\unstain2stain_tile\\\\train\\\\HE\\\\OTS_14684_1_he\\\\2xy1091.png', '\\\\\\\\shelter\\\\Kyu\\\\unstain2stain\\\\unstain2stain_tile\\\\train\\\\HE\\\\OTS_14684_1_he\\\\2xy1093.png', '\\\\\\\\shelter\\\\Kyu\\\\unstain2stain\\\\unstain2stain_tile\\\\train\\\\HE\\\\OTS_14684_1_he\\\\2xy1094.png', '\\\\\\\\shelter\\\\Kyu\\\\unstain2stain\\\\unstain2stain_tile\\\\train\\\\HE\\\\OTS_14684_1_he\\\\2xy1129.png', '\\\\\\\\shelter\\\\Kyu\\\\unstain2stain\\\\unstain2stain_tile\\\\train\\\\HE\\\\OTS_14684_1_he\\\\2xy1133.png', '\\\\\\\\shelter\\\\Kyu\\\\unstain2stain\\\\unstain2stain_tile\\\\train\\\\HE\\\\OTS_14684_1_he\\\\2xy1134.png', '\\\\\\\\shelter\\\\Kyu\\\\unstain2stain\\\\unstain2stain_tile\\\\train\\\\HE\\\\OTS_14684_1_he\\\\2xy1135.png', '\\\\\\\\shelter\\\\Kyu\\\\unstain2stain\\\\unstain2stain_tile\\\\train\\\\HE\\\\OTS_14684_1_he\\\\2xy1168.png', '\\\\\\\\shelter\\\\Kyu\\\\unstain2stain\\\\unstain2stain_tile\\\\train\\\\HE\\\\OTS_14684_1_he\\\\2xy1172.png', '\\\\\\\\shelter\\\\Kyu\\\\unstain2stain\\\\unstain2stain_tile\\\\train\\\\HE\\\\OTS_14684_1_he\\\\2xy1173.png', '\\\\\\\\shelter\\\\Kyu\\\\unstain2stain\\\\unstain2stain_tile\\\\train\\\\HE\\\\OTS_14684_1_he\\\\2xy1174.png', '\\\\\\\\shelter\\\\Kyu\\\\unstain2stain\\\\unstain2stain_tile\\\\train\\\\HE\\\\OTS_14684_1_he\\\\2xy1213.png', '\\\\\\\\shelter\\\\Kyu\\\\unstain2stain\\\\unstain2stain_tile\\\\train\\\\HE\\\\OTS_14684_1_he\\\\2xy1214.png', '\\\\\\\\shelter\\\\Kyu\\\\unstain2stain\\\\unstain2stain_tile\\\\train\\\\HE\\\\OTS_14684_1_he\\\\2xy1252.png', '\\\\\\\\shelter\\\\Kyu\\\\unstain2stain\\\\unstain2stain_tile\\\\train\\\\HE\\\\OTS_14684_1_he\\\\2xy1253.png', '\\\\\\\\shelter\\\\Kyu\\\\unstain2stain\\\\unstain2stain_tile\\\\train\\\\HE\\\\OTS_14684_1_he\\\\2xy1254.png', '\\\\\\\\shelter\\\\Kyu\\\\unstain2stain\\\\unstain2stain_tile\\\\train\\\\HE\\\\OTS_14684_1_he\\\\2xy1255.png', '\\\\\\\\shelter\\\\Kyu\\\\unstain2stain\\\\unstain2stain_tile\\\\train\\\\HE\\\\OTS_14684_1_he\\\\2xy1288.png', '\\\\\\\\shelter\\\\Kyu\\\\unstain2stain\\\\unstain2stain_tile\\\\train\\\\HE\\\\OTS_14684_1_he\\\\2xy1293.png', '\\\\\\\\shelter\\\\Kyu\\\\unstain2stain\\\\unstain2stain_tile\\\\train\\\\HE\\\\OTS_14684_1_he\\\\2xy1294.png', '\\\\\\\\shelter\\\\Kyu\\\\unstain2stain\\\\unstain2stain_tile\\\\train\\\\HE\\\\OTS_14684_1_he\\\\2xy1295.png', '\\\\\\\\shelter\\\\Kyu\\\\unstain2stain\\\\unstain2stain_tile\\\\train\\\\HE\\\\OTS_14684_1_he\\\\2xy1296.png', '\\\\\\\\shelter\\\\Kyu\\\\unstain2stain\\\\unstain2stain_tile\\\\train\\\\HE\\\\OTS_14684_1_he\\\\2xy1329.png', '\\\\\\\\shelter\\\\Kyu\\\\unstain2stain\\\\unstain2stain_tile\\\\train\\\\HE\\\\OTS_14684_1_he\\\\2xy1333.png', '\\\\\\\\shelter\\\\Kyu\\\\unstain2stain\\\\unstain2stain_tile\\\\train\\\\HE\\\\OTS_14684_1_he\\\\2xy1334.png', '\\\\\\\\shelter\\\\Kyu\\\\unstain2stain\\\\unstain2stain_tile\\\\train\\\\HE\\\\OTS_14684_1_he\\\\2xy1336.png', '\\\\\\\\shelter\\\\Kyu\\\\unstain2stain\\\\unstain2stain_tile\\\\train\\\\HE\\\\OTS_14684_1_he\\\\2xy1337.png', '\\\\\\\\shelter\\\\Kyu\\\\unstain2stain\\\\unstain2stain_tile\\\\train\\\\HE\\\\OTS_14684_1_he\\\\2xy1373.png', '\\\\\\\\shelter\\\\Kyu\\\\unstain2stain\\\\unstain2stain_tile\\\\train\\\\HE\\\\OTS_14684_1_he\\\\2xy1374.png', '\\\\\\\\shelter\\\\Kyu\\\\unstain2stain\\\\unstain2stain_tile\\\\train\\\\HE\\\\OTS_14684_1_he\\\\2xy1375.png', '\\\\\\\\shelter\\\\Kyu\\\\unstain2stain\\\\unstain2stain_tile\\\\train\\\\HE\\\\OTS_14684_1_he\\\\2xy1409.png', '\\\\\\\\shelter\\\\Kyu\\\\unstain2stain\\\\unstain2stain_tile\\\\train\\\\HE\\\\OTS_14684_1_he\\\\2xy1410.png', '\\\\\\\\shelter\\\\Kyu\\\\unstain2stain\\\\unstain2stain_tile\\\\train\\\\HE\\\\OTS_14684_1_he\\\\2xy1413.png', '\\\\\\\\shelter\\\\Kyu\\\\unstain2stain\\\\unstain2stain_tile\\\\train\\\\HE\\\\OTS_14684_1_he\\\\2xy1414.png', '\\\\\\\\shelter\\\\Kyu\\\\unstain2stain\\\\unstain2stain_tile\\\\train\\\\HE\\\\OTS_14684_1_he\\\\2xy1415.png', '\\\\\\\\shelter\\\\Kyu\\\\unstain2stain\\\\unstain2stain_tile\\\\train\\\\HE\\\\OTS_14684_1_he\\\\2xy1449.png', '\\\\\\\\shelter\\\\Kyu\\\\unstain2stain\\\\unstain2stain_tile\\\\train\\\\HE\\\\OTS_14684_1_he\\\\2xy1450.png', '\\\\\\\\shelter\\\\Kyu\\\\unstain2stain\\\\unstain2stain_tile\\\\train\\\\HE\\\\OTS_14684_1_he\\\\2xy1454.png', '\\\\\\\\shelter\\\\Kyu\\\\unstain2stain\\\\unstain2stain_tile\\\\train\\\\HE\\\\OTS_14684_1_he\\\\2xy1455.png', '\\\\\\\\shelter\\\\Kyu\\\\unstain2stain\\\\unstain2stain_tile\\\\train\\\\HE\\\\OTS_14684_1_he\\\\2xy1489.png', '\\\\\\\\shelter\\\\Kyu\\\\unstain2stain\\\\unstain2stain_tile\\\\train\\\\HE\\\\OTS_14684_1_he\\\\2xy1490.png', '\\\\\\\\shelter\\\\Kyu\\\\unstain2stain\\\\unstain2stain_tile\\\\train\\\\HE\\\\OTS_14684_1_he\\\\2xy1491.png', '\\\\\\\\shelter\\\\Kyu\\\\unstain2stain\\\\unstain2stain_tile\\\\train\\\\HE\\\\OTS_14684_1_he\\\\2xy1493.png', '\\\\\\\\shelter\\\\Kyu\\\\unstain2stain\\\\unstain2stain_tile\\\\train\\\\HE\\\\OTS_14684_1_he\\\\2xy1494.png', '\\\\\\\\shelter\\\\Kyu\\\\unstain2stain\\\\unstain2stain_tile\\\\train\\\\HE\\\\OTS_14684_1_he\\\\2xy1495.png', '\\\\\\\\shelter\\\\Kyu\\\\unstain2stain\\\\unstain2stain_tile\\\\train\\\\HE\\\\OTS_14684_1_he\\\\2xy1496.png', '\\\\\\\\shelter\\\\Kyu\\\\unstain2stain\\\\unstain2stain_tile\\\\train\\\\HE\\\\OTS_14684_1_he\\\\2xy1530.png', '\\\\\\\\shelter\\\\Kyu\\\\unstain2stain\\\\unstain2stain_tile\\\\train\\\\HE\\\\OTS_14684_1_he\\\\2xy1535.png', '\\\\\\\\shelter\\\\Kyu\\\\unstain2stain\\\\unstain2stain_tile\\\\train\\\\HE\\\\OTS_14684_1_he\\\\2xy1536.png', '\\\\\\\\shelter\\\\Kyu\\\\unstain2stain\\\\unstain2stain_tile\\\\train\\\\HE\\\\OTS_14684_1_he\\\\2xy1537.png', '\\\\\\\\shelter\\\\Kyu\\\\unstain2stain\\\\unstain2stain_tile\\\\train\\\\HE\\\\OTS_14684_1_he\\\\3xy0082.png', '\\\\\\\\shelter\\\\Kyu\\\\unstain2stain\\\\unstain2stain_tile\\\\train\\\\HE\\\\OTS_14684_1_he\\\\3xy0083.png', '\\\\\\\\shelter\\\\Kyu\\\\unstain2stain\\\\unstain2stain_tile\\\\train\\\\HE\\\\OTS_14684_1_he\\\\3xy0607.png', '\\\\\\\\shelter\\\\Kyu\\\\unstain2stain\\\\unstain2stain_tile\\\\train\\\\HE\\\\OTS_14684_1_he\\\\3xy0608.png', '\\\\\\\\shelter\\\\Kyu\\\\unstain2stain\\\\unstain2stain_tile\\\\train\\\\HE\\\\OTS_14684_1_he\\\\3xy0635.png', '\\\\\\\\shelter\\\\Kyu\\\\unstain2stain\\\\unstain2stain_tile\\\\train\\\\HE\\\\OTS_14684_1_he\\\\3xy0636.png', '\\\\\\\\shelter\\\\Kyu\\\\unstain2stain\\\\unstain2stain_tile\\\\train\\\\HE\\\\OTS_14684_1_he\\\\3xy0664.png', '\\\\\\\\shelter\\\\Kyu\\\\unstain2stain\\\\unstain2stain_tile\\\\train\\\\HE\\\\OTS_14684_1_he\\\\3xy0665.png', '\\\\\\\\shelter\\\\Kyu\\\\unstain2stain\\\\unstain2stain_tile\\\\train\\\\HE\\\\OTS_14684_1_he\\\\3xy0692.png', '\\\\\\\\shelter\\\\Kyu\\\\unstain2stain\\\\unstain2stain_tile\\\\train\\\\HE\\\\OTS_14684_1_he\\\\3xy0693.png', '\\\\\\\\shelter\\\\Kyu\\\\unstain2stain\\\\unstain2stain_tile\\\\train\\\\HE\\\\OTS_14684_1_he\\\\3xy0696.png', '\\\\\\\\shelter\\\\Kyu\\\\unstain2stain\\\\unstain2stain_tile\\\\train\\\\HE\\\\OTS_14684_1_he\\\\3xy0720.png', '\\\\\\\\shelter\\\\Kyu\\\\unstain2stain\\\\unstain2stain_tile\\\\train\\\\HE\\\\OTS_14684_1_he\\\\3xy0724.png', '\\\\\\\\shelter\\\\Kyu\\\\unstain2stain\\\\unstain2stain_tile\\\\train\\\\HE\\\\OTS_14684_1_he\\\\3xy0725.png', '\\\\\\\\shelter\\\\Kyu\\\\unstain2stain\\\\unstain2stain_tile\\\\train\\\\HE\\\\OTS_14684_1_he\\\\3xy0748.png', '\\\\\\\\shelter\\\\Kyu\\\\unstain2stain\\\\unstain2stain_tile\\\\train\\\\HE\\\\OTS_14684_1_he\\\\3xy0749.png', '\\\\\\\\shelter\\\\Kyu\\\\unstain2stain\\\\unstain2stain_tile\\\\train\\\\HE\\\\OTS_14684_1_he\\\\3xy0753.png', '\\\\\\\\shelter\\\\Kyu\\\\unstain2stain\\\\unstain2stain_tile\\\\train\\\\HE\\\\OTS_14684_1_he\\\\3xy0777.png', '\\\\\\\\shelter\\\\Kyu\\\\unstain2stain\\\\unstain2stain_tile\\\\train\\\\HE\\\\OTS_14684_1_he\\\\3xy0779.png', '\\\\\\\\shelter\\\\Kyu\\\\unstain2stain\\\\unstain2stain_tile\\\\train\\\\HE\\\\OTS_14684_1_he\\\\3xy0781.png', '\\\\\\\\shelter\\\\Kyu\\\\unstain2stain\\\\unstain2stain_tile\\\\train\\\\HE\\\\OTS_14684_1_he\\\\3xy0782.png', '\\\\\\\\shelter\\\\Kyu\\\\unstain2stain\\\\unstain2stain_tile\\\\train\\\\HE\\\\OTS_14684_1_he\\\\3xy0805.png', '\\\\\\\\shelter\\\\Kyu\\\\unstain2stain\\\\unstain2stain_tile\\\\train\\\\HE\\\\OTS_14684_1_he\\\\3xy0809.png', '\\\\\\\\shelter\\\\Kyu\\\\unstain2stain\\\\unstain2stain_tile\\\\train\\\\HE\\\\OTS_14684_1_he\\\\3xy0810.png', '\\\\\\\\shelter\\\\Kyu\\\\unstain2stain\\\\unstain2stain_tile\\\\train\\\\HE\\\\OTS_14684_1_he\\\\3xy0811.png', '\\\\\\\\shelter\\\\Kyu\\\\unstain2stain\\\\unstain2stain_tile\\\\train\\\\HE\\\\OTS_14684_1_he\\\\3xy0832.png', '\\\\\\\\shelter\\\\Kyu\\\\unstain2stain\\\\unstain2stain_tile\\\\train\\\\HE\\\\OTS_14684_1_he\\\\3xy0836.png', '\\\\\\\\shelter\\\\Kyu\\\\unstain2stain\\\\unstain2stain_tile\\\\train\\\\HE\\\\OTS_14684_1_he\\\\3xy0837.png', '\\\\\\\\shelter\\\\Kyu\\\\unstain2stain\\\\unstain2stain_tile\\\\train\\\\HE\\\\OTS_14684_1_he\\\\3xy0838.png', '\\\\\\\\shelter\\\\Kyu\\\\unstain2stain\\\\unstain2stain_tile\\\\train\\\\HE\\\\OTS_14684_1_he\\\\3xy0865.png', '\\\\\\\\shelter\\\\Kyu\\\\unstain2stain\\\\unstain2stain_tile\\\\train\\\\HE\\\\OTS_14684_1_he\\\\3xy0866.png', '\\\\\\\\shelter\\\\Kyu\\\\unstain2stain\\\\unstain2stain_tile\\\\train\\\\HE\\\\OTS_14684_1_he\\\\3xy0892.png', '\\\\\\\\shelter\\\\Kyu\\\\unstain2stain\\\\unstain2stain_tile\\\\train\\\\HE\\\\OTS_14684_1_he\\\\3xy0893.png', '\\\\\\\\shelter\\\\Kyu\\\\unstain2stain\\\\unstain2stain_tile\\\\train\\\\HE\\\\OTS_14684_1_he\\\\3xy0894.png', '\\\\\\\\shelter\\\\Kyu\\\\unstain2stain\\\\unstain2stain_tile\\\\train\\\\HE\\\\OTS_14684_1_he\\\\3xy0895.png', '\\\\\\\\shelter\\\\Kyu\\\\unstain2stain\\\\unstain2stain_tile\\\\train\\\\HE\\\\OTS_14684_1_he\\\\4xy0084.png', '\\\\\\\\shelter\\\\Kyu\\\\unstain2stain\\\\unstain2stain_tile\\\\train\\\\HE\\\\OTS_14684_1_he\\\\4xy0085.png', '\\\\\\\\shelter\\\\Kyu\\\\unstain2stain\\\\unstain2stain_tile\\\\train\\\\HE\\\\OTS_14684_1_he\\\\4xy0540.png', '\\\\\\\\shelter\\\\Kyu\\\\unstain2stain\\\\unstain2stain_tile\\\\train\\\\HE\\\\OTS_14684_1_he\\\\4xy0570.png', '\\\\\\\\shelter\\\\Kyu\\\\unstain2stain\\\\unstain2stain_tile\\\\train\\\\HE\\\\OTS_14684_1_he\\\\4xy0600.png', '\\\\\\\\shelter\\\\Kyu\\\\unstain2stain\\\\unstain2stain_tile\\\\train\\\\HE\\\\OTS_14684_1_he\\\\4xy0627.png', '\\\\\\\\shelter\\\\Kyu\\\\unstain2stain\\\\unstain2stain_tile\\\\train\\\\HE\\\\OTS_14684_1_he\\\\4xy0628.png', '\\\\\\\\shelter\\\\Kyu\\\\unstain2stain\\\\unstain2stain_tile\\\\train\\\\HE\\\\OTS_14684_1_he\\\\4xy0656.png', '\\\\\\\\shelter\\\\Kyu\\\\unstain2stain\\\\unstain2stain_tile\\\\train\\\\HE\\\\OTS_14684_1_he\\\\4xy0657.png', '\\\\\\\\shelter\\\\Kyu\\\\unstain2stain\\\\unstain2stain_tile\\\\train\\\\HE\\\\OTS_14684_1_he\\\\4xy0686.png', '\\\\\\\\shelter\\\\Kyu\\\\unstain2stain\\\\unstain2stain_tile\\\\train\\\\HE\\\\OTS_14684_1_he\\\\4xy0687.png', '\\\\\\\\shelter\\\\Kyu\\\\unstain2stain\\\\unstain2stain_tile\\\\train\\\\HE\\\\OTS_14684_1_he\\\\4xy0690.png', '\\\\\\\\shelter\\\\Kyu\\\\unstain2stain\\\\unstain2stain_tile\\\\train\\\\HE\\\\OTS_14684_1_he\\\\4xy0715.png', '\\\\\\\\shelter\\\\Kyu\\\\unstain2stain\\\\unstain2stain_tile\\\\train\\\\HE\\\\OTS_14684_1_he\\\\4xy0716.png', '\\\\\\\\shelter\\\\Kyu\\\\unstain2stain\\\\unstain2stain_tile\\\\train\\\\HE\\\\OTS_14684_1_he\\\\4xy0719.png', '\\\\\\\\shelter\\\\Kyu\\\\unstain2stain\\\\unstain2stain_tile\\\\train\\\\HE\\\\OTS_14684_1_he\\\\4xy0720.png', '\\\\\\\\shelter\\\\Kyu\\\\unstain2stain\\\\unstain2stain_tile\\\\train\\\\HE\\\\OTS_14684_1_he\\\\4xy0744.png', '\\\\\\\\shelter\\\\Kyu\\\\unstain2stain\\\\unstain2stain_tile\\\\train\\\\HE\\\\OTS_14684_1_he\\\\4xy0748.png', '\\\\\\\\shelter\\\\Kyu\\\\unstain2stain\\\\unstain2stain_tile\\\\train\\\\HE\\\\OTS_14684_1_he\\\\4xy0749.png', '\\\\\\\\shelter\\\\Kyu\\\\unstain2stain\\\\unstain2stain_tile\\\\train\\\\HE\\\\OTS_14684_1_he\\\\4xy0750.png', '\\\\\\\\shelter\\\\Kyu\\\\unstain2stain\\\\unstain2stain_tile\\\\train\\\\HE\\\\OTS_14684_1_he\\\\4xy0773.png', '\\\\\\\\shelter\\\\Kyu\\\\unstain2stain\\\\unstain2stain_tile\\\\train\\\\HE\\\\OTS_14684_1_he\\\\4xy0774.png', '\\\\\\\\shelter\\\\Kyu\\\\unstain2stain\\\\unstain2stain_tile\\\\train\\\\HE\\\\OTS_14684_1_he\\\\4xy0778.png', '\\\\\\\\shelter\\\\Kyu\\\\unstain2stain\\\\unstain2stain_tile\\\\train\\\\HE\\\\OTS_14684_1_he\\\\4xy0803.png', '\\\\\\\\shelter\\\\Kyu\\\\unstain2stain\\\\unstain2stain_tile\\\\train\\\\HE\\\\OTS_14684_1_he\\\\4xy0805.png', '\\\\\\\\shelter\\\\Kyu\\\\unstain2stain\\\\unstain2stain_tile\\\\train\\\\HE\\\\OTS_14684_1_he\\\\4xy0807.png', '\\\\\\\\shelter\\\\Kyu\\\\unstain2stain\\\\unstain2stain_tile\\\\train\\\\HE\\\\OTS_14684_1_he\\\\4xy0808.png', '\\\\\\\\shelter\\\\Kyu\\\\unstain2stain\\\\unstain2stain_tile\\\\train\\\\HE\\\\OTS_14684_1_he\\\\4xy0832.png', '\\\\\\\\shelter\\\\Kyu\\\\unstain2stain\\\\unstain2stain_tile\\\\train\\\\HE\\\\OTS_14684_1_he\\\\4xy0836.png', '\\\\\\\\shelter\\\\Kyu\\\\unstain2stain\\\\unstain2stain_tile\\\\train\\\\HE\\\\OTS_14684_1_he\\\\4xy0837.png', '\\\\\\\\shelter\\\\Kyu\\\\unstain2stain\\\\unstain2stain_tile\\\\train\\\\HE\\\\OTS_14684_1_he\\\\4xy0838.png', '\\\\\\\\shelter\\\\Kyu\\\\unstain2stain\\\\unstain2stain_tile\\\\train\\\\HE\\\\OTS_14684_1_he\\\\4xy0860.png', '\\\\\\\\shelter\\\\Kyu\\\\unstain2stain\\\\unstain2stain_tile\\\\train\\\\HE\\\\OTS_14684_1_he\\\\4xy0864.png', '\\\\\\\\shelter\\\\Kyu\\\\unstain2stain\\\\unstain2stain_tile\\\\train\\\\HE\\\\OTS_14684_1_he\\\\4xy0865.png', '\\\\\\\\shelter\\\\Kyu\\\\unstain2stain\\\\unstain2stain_tile\\\\train\\\\HE\\\\OTS_14684_1_he\\\\4xy0866.png', '\\\\\\\\shelter\\\\Kyu\\\\unstain2stain\\\\unstain2stain_tile\\\\train\\\\HE\\\\OTS_14684_1_he\\\\4xy0894.png', '\\\\\\\\shelter\\\\Kyu\\\\unstain2stain\\\\unstain2stain_tile\\\\train\\\\HE\\\\OTS_14684_1_he\\\\4xy0895.png', '\\\\\\\\shelter\\\\Kyu\\\\unstain2stain\\\\unstain2stain_tile\\\\train\\\\HE\\\\OTS_14684_1_he\\\\4xy0922.png', '\\\\\\\\shelter\\\\Kyu\\\\unstain2stain\\\\unstain2stain_tile\\\\train\\\\HE\\\\OTS_14684_1_he\\\\4xy0923.png', '\\\\\\\\shelter\\\\Kyu\\\\unstain2stain\\\\unstain2stain_tile\\\\train\\\\HE\\\\OTS_14684_1_he\\\\4xy0924.png', '\\\\\\\\shelter\\\\Kyu\\\\unstain2stain\\\\unstain2stain_tile\\\\train\\\\HE\\\\OTS_14684_1_he\\\\4xy0925.png', '\\\\\\\\shelter\\\\Kyu\\\\unstain2stain\\\\unstain2stain_tile\\\\train\\\\HE\\\\OTS_14684_1_he\\\\4xy0947.png', '\\\\\\\\shelter\\\\Kyu\\\\unstain2stain\\\\unstain2stain_tile\\\\train\\\\HE\\\\OTS_14684_1_he\\\\4xy0952.png', '\\\\\\\\shelter\\\\Kyu\\\\unstain2stain\\\\unstain2stain_tile\\\\train\\\\HE\\\\OTS_14684_1_he\\\\4xy0953.png', '\\\\\\\\shelter\\\\Kyu\\\\unstain2stain\\\\unstain2stain_tile\\\\train\\\\HE\\\\OTS_14684_1_he\\\\4xy0954.png', '\\\\\\\\shelter\\\\Kyu\\\\unstain2stain\\\\unstain2stain_tile\\\\train\\\\HE\\\\OTS_14684_1_he\\\\4xy0955.png', '\\\\\\\\shelter\\\\Kyu\\\\unstain2stain\\\\unstain2stain_tile\\\\train\\\\HE\\\\OTS_14684_1_he\\\\4xy0977.png', '\\\\\\\\shelter\\\\Kyu\\\\unstain2stain\\\\unstain2stain_tile\\\\train\\\\HE\\\\OTS_14684_1_he\\\\4xy0981.png', '\\\\\\\\shelter\\\\Kyu\\\\unstain2stain\\\\unstain2stain_tile\\\\train\\\\HE\\\\OTS_14684_1_he\\\\4xy0982.png', '\\\\\\\\shelter\\\\Kyu\\\\unstain2stain\\\\unstain2stain_tile\\\\train\\\\HE\\\\OTS_14684_1_he\\\\4xy0984.png', '\\\\\\\\shelter\\\\Kyu\\\\unstain2stain\\\\unstain2stain_tile\\\\train\\\\HE\\\\OTS_14684_1_he\\\\4xy0985.png', '\\\\\\\\shelter\\\\Kyu\\\\unstain2stain\\\\unstain2stain_tile\\\\train\\\\HE\\\\OTS_14684_1_he\\\\4xy1010.png', '\\\\\\\\shelter\\\\Kyu\\\\unstain2stain\\\\unstain2stain_tile\\\\train\\\\HE\\\\OTS_14684_1_he\\\\4xy1011.png', '\\\\\\\\shelter\\\\Kyu\\\\unstain2stain\\\\unstain2stain_tile\\\\train\\\\HE\\\\OTS_14684_1_he\\\\4xy1012.png', '\\\\\\\\shelter\\\\Kyu\\\\unstain2stain\\\\unstain2stain_tile\\\\train\\\\HE\\\\OTS_14684_1_he\\\\4xy1035.png', '\\\\\\\\shelter\\\\Kyu\\\\unstain2stain\\\\unstain2stain_tile\\\\train\\\\HE\\\\OTS_14684_1_he\\\\4xy1036.png', '\\\\\\\\shelter\\\\Kyu\\\\unstain2stain\\\\unstain2stain_tile\\\\train\\\\HE\\\\OTS_14684_1_he\\\\4xy1039.png', '\\\\\\\\shelter\\\\Kyu\\\\unstain2stain\\\\unstain2stain_tile\\\\train\\\\HE\\\\OTS_14684_1_he\\\\4xy1040.png', '\\\\\\\\shelter\\\\Kyu\\\\unstain2stain\\\\unstain2stain_tile\\\\train\\\\HE\\\\OTS_14684_1_he\\\\4xy1041.png']\n"
     ]
    },
    {
     "name": "stderr",
     "output_type": "stream",
     "text": [
      "\n",
      "Images processed:   0%|\u001B[31m          \u001B[0m| 0/320 [00:00<?, ?it/s]\u001B[A\n",
      "Images processed:   1%|\u001B[31m          \u001B[0m| 2/320 [00:00<00:16, 18.95it/s]\u001B[A\n",
      "Images processed:   1%|\u001B[31m▏         \u001B[0m| 4/320 [00:00<00:16, 18.79it/s]\u001B[A\n",
      "Images processed:   2%|\u001B[31m▏         \u001B[0m| 6/320 [00:00<00:16, 18.72it/s]\u001B[A\n",
      "Images processed:   2%|\u001B[31m▎         \u001B[0m| 8/320 [00:00<00:16, 18.58it/s]\u001B[A\n",
      "Images processed:   3%|\u001B[31m▎         \u001B[0m| 10/320 [00:00<00:17, 18.09it/s]\u001B[A\n",
      "Images processed:   4%|\u001B[31m▍         \u001B[0m| 12/320 [00:00<00:16, 18.50it/s]\u001B[A\n",
      "Images processed:   4%|\u001B[31m▍         \u001B[0m| 14/320 [00:00<00:16, 18.67it/s]\u001B[A\n",
      "Images processed:   5%|\u001B[31m▌         \u001B[0m| 16/320 [00:00<00:16, 18.90it/s]\u001B[A\n",
      "Images processed:   6%|\u001B[31m▌         \u001B[0m| 18/320 [00:00<00:16, 18.76it/s]\u001B[A\n",
      "Images processed:   6%|\u001B[31m▋         \u001B[0m| 20/320 [00:01<00:16, 18.18it/s]\u001B[A\n",
      "Images processed:   7%|\u001B[31m▋         \u001B[0m| 22/320 [00:01<00:16, 17.63it/s]\u001B[A\n",
      "Images processed:   8%|\u001B[31m▊         \u001B[0m| 24/320 [00:01<00:17, 16.54it/s]\u001B[A\n",
      "Images processed:   8%|\u001B[31m▊         \u001B[0m| 26/320 [00:01<00:17, 16.37it/s]\u001B[A\n",
      "Images processed:   9%|\u001B[31m▉         \u001B[0m| 28/320 [00:01<00:18, 15.92it/s]\u001B[A\n",
      "Images processed:   9%|\u001B[31m▉         \u001B[0m| 30/320 [00:01<00:18, 15.90it/s]\u001B[A\n",
      "Images processed:  10%|\u001B[31m█         \u001B[0m| 32/320 [00:01<00:18, 15.59it/s]\u001B[A\n",
      "Images processed:  11%|\u001B[31m█         \u001B[0m| 34/320 [00:01<00:18, 15.52it/s]\u001B[A\n",
      "Images processed:  11%|\u001B[31m█▏        \u001B[0m| 36/320 [00:02<00:18, 15.70it/s]\u001B[A\n",
      "Images processed:  12%|\u001B[31m█▏        \u001B[0m| 38/320 [00:02<00:18, 15.47it/s]\u001B[A\n",
      "Images processed:  12%|\u001B[31m█▎        \u001B[0m| 40/320 [00:02<00:17, 15.71it/s]\u001B[A\n",
      "Images processed:  13%|\u001B[31m█▎        \u001B[0m| 42/320 [00:02<00:17, 15.65it/s]\u001B[A\n",
      "Images processed:  14%|\u001B[31m█▍        \u001B[0m| 44/320 [00:02<00:17, 15.56it/s]\u001B[A\n",
      "Images processed:  14%|\u001B[31m█▍        \u001B[0m| 46/320 [00:02<00:17, 15.49it/s]\u001B[A\n",
      "Images processed:  15%|\u001B[31m█▌        \u001B[0m| 48/320 [00:02<00:17, 15.46it/s]\u001B[A\n",
      "Images processed:  16%|\u001B[31m█▌        \u001B[0m| 50/320 [00:03<00:17, 15.47it/s]\u001B[A\n",
      "Images processed:  16%|\u001B[31m█▋        \u001B[0m| 52/320 [00:03<00:16, 15.83it/s]\u001B[A\n",
      "Images processed:  17%|\u001B[31m█▋        \u001B[0m| 54/320 [00:03<00:16, 16.01it/s]\u001B[A\n",
      "Images processed:  18%|\u001B[31m█▊        \u001B[0m| 56/320 [00:03<00:15, 16.75it/s]\u001B[A\n",
      "Images processed:  18%|\u001B[31m█▊        \u001B[0m| 58/320 [00:03<00:15, 17.18it/s]\u001B[A\n",
      "Images processed:  19%|\u001B[31m█▉        \u001B[0m| 60/320 [00:03<00:14, 17.44it/s]\u001B[A\n",
      "Images processed:  19%|\u001B[31m█▉        \u001B[0m| 62/320 [00:03<00:14, 17.61it/s]\u001B[A\n",
      "Images processed:  20%|\u001B[31m██        \u001B[0m| 64/320 [00:03<00:14, 17.66it/s]\u001B[A\n",
      "Images processed:  21%|\u001B[31m██        \u001B[0m| 66/320 [00:03<00:14, 17.86it/s]\u001B[A\n",
      "Images processed:  21%|\u001B[31m██▏       \u001B[0m| 68/320 [00:04<00:13, 18.02it/s]\u001B[A\n",
      "Images processed:  22%|\u001B[31m██▏       \u001B[0m| 70/320 [00:04<00:14, 17.73it/s]\u001B[A\n",
      "Images processed:  22%|\u001B[31m██▎       \u001B[0m| 72/320 [00:04<00:13, 18.00it/s]\u001B[A\n",
      "Images processed:  23%|\u001B[31m██▎       \u001B[0m| 74/320 [00:04<00:13, 17.82it/s]\u001B[A\n",
      "Images processed:  24%|\u001B[31m██▍       \u001B[0m| 76/320 [00:04<00:13, 17.65it/s]\u001B[A\n",
      "Images processed:  24%|\u001B[31m██▍       \u001B[0m| 78/320 [00:04<00:13, 17.36it/s]\u001B[A\n",
      "Images processed:  25%|\u001B[31m██▌       \u001B[0m| 80/320 [00:04<00:13, 17.49it/s]\u001B[A\n",
      "Images processed:  26%|\u001B[31m██▌       \u001B[0m| 82/320 [00:04<00:13, 17.33it/s]\u001B[A\n",
      "Images processed:  26%|\u001B[31m██▋       \u001B[0m| 84/320 [00:04<00:13, 17.66it/s]\u001B[A\n",
      "Images processed:  27%|\u001B[31m██▋       \u001B[0m| 86/320 [00:05<00:13, 17.77it/s]\u001B[A\n",
      "Images processed:  28%|\u001B[31m██▊       \u001B[0m| 88/320 [00:05<00:12, 17.90it/s]\u001B[A\n",
      "Images processed:  28%|\u001B[31m██▊       \u001B[0m| 90/320 [00:05<00:12, 17.97it/s]\u001B[A\n",
      "Images processed:  29%|\u001B[31m██▉       \u001B[0m| 92/320 [00:05<00:12, 17.90it/s]\u001B[A\n",
      "Images processed:  29%|\u001B[31m██▉       \u001B[0m| 94/320 [00:05<00:12, 17.90it/s]\u001B[A\n",
      "Images processed:  30%|\u001B[31m███       \u001B[0m| 96/320 [00:05<00:12, 17.88it/s]\u001B[A\n",
      "Images processed:  31%|\u001B[31m███       \u001B[0m| 98/320 [00:05<00:12, 17.72it/s]\u001B[A\n",
      "Images processed:  31%|\u001B[31m███▏      \u001B[0m| 100/320 [00:05<00:12, 17.36it/s]\u001B[A\n",
      "Images processed:  32%|\u001B[31m███▏      \u001B[0m| 102/320 [00:05<00:12, 17.52it/s]\u001B[A\n",
      "Images processed:  32%|\u001B[31m███▎      \u001B[0m| 104/320 [00:06<00:12, 17.64it/s]\u001B[A\n",
      "Images processed:  33%|\u001B[31m███▎      \u001B[0m| 106/320 [00:06<00:12, 17.80it/s]\u001B[A\n",
      "Images processed:  34%|\u001B[31m███▍      \u001B[0m| 108/320 [00:06<00:11, 17.69it/s]\u001B[A\n",
      "Images processed:  34%|\u001B[31m███▍      \u001B[0m| 110/320 [00:06<00:11, 17.84it/s]\u001B[A\n",
      "Images processed:  35%|\u001B[31m███▌      \u001B[0m| 112/320 [00:06<00:11, 17.62it/s]\u001B[A\n",
      "Images processed:  36%|\u001B[31m███▌      \u001B[0m| 114/320 [00:06<00:11, 17.88it/s]\u001B[A\n",
      "Images processed:  36%|\u001B[31m███▋      \u001B[0m| 116/320 [00:06<00:11, 18.04it/s]\u001B[A\n",
      "Images processed:  37%|\u001B[31m███▋      \u001B[0m| 118/320 [00:06<00:11, 18.13it/s]\u001B[A\n",
      "Images processed:  38%|\u001B[31m███▊      \u001B[0m| 120/320 [00:06<00:11, 17.95it/s]\u001B[A\n",
      "Images processed:  38%|\u001B[31m███▊      \u001B[0m| 122/320 [00:07<00:11, 17.60it/s]\u001B[A\n",
      "Images processed:  39%|\u001B[31m███▉      \u001B[0m| 124/320 [00:07<00:10, 17.92it/s]\u001B[A\n",
      "Images processed:  39%|\u001B[31m███▉      \u001B[0m| 126/320 [00:07<00:10, 17.83it/s]\u001B[A\n",
      "Images processed:  40%|\u001B[31m████      \u001B[0m| 128/320 [00:07<00:10, 17.93it/s]\u001B[A\n",
      "Images processed:  41%|\u001B[31m████      \u001B[0m| 130/320 [00:07<00:10, 17.95it/s]\u001B[A\n",
      "Images processed:  41%|\u001B[31m████▏     \u001B[0m| 132/320 [00:07<00:10, 18.12it/s]\u001B[A\n",
      "Images processed:  42%|\u001B[31m████▏     \u001B[0m| 134/320 [00:07<00:10, 17.79it/s]\u001B[A\n",
      "Images processed:  42%|\u001B[31m████▎     \u001B[0m| 136/320 [00:07<00:10, 17.99it/s]\u001B[A\n",
      "Images processed:  43%|\u001B[31m████▎     \u001B[0m| 138/320 [00:07<00:10, 18.11it/s]\u001B[A\n",
      "Images processed:  44%|\u001B[31m████▍     \u001B[0m| 140/320 [00:08<00:09, 18.08it/s]\u001B[A\n",
      "Images processed:  44%|\u001B[31m████▍     \u001B[0m| 142/320 [00:08<00:09, 18.35it/s]\u001B[A\n",
      "Images processed:  45%|\u001B[31m████▌     \u001B[0m| 144/320 [00:08<00:09, 17.92it/s]\u001B[A\n",
      "Images processed:  46%|\u001B[31m████▌     \u001B[0m| 146/320 [00:08<00:09, 17.89it/s]\u001B[A\n",
      "Images processed:  46%|\u001B[31m████▋     \u001B[0m| 148/320 [00:08<00:09, 17.90it/s]\u001B[A\n",
      "Images processed:  47%|\u001B[31m████▋     \u001B[0m| 150/320 [00:08<00:09, 18.00it/s]\u001B[A\n",
      "Images processed:  48%|\u001B[31m████▊     \u001B[0m| 152/320 [00:08<00:09, 17.88it/s]\u001B[A\n",
      "Images processed:  48%|\u001B[31m████▊     \u001B[0m| 154/320 [00:08<00:09, 18.05it/s]\u001B[A\n",
      "Images processed:  49%|\u001B[31m████▉     \u001B[0m| 156/320 [00:08<00:09, 17.69it/s]\u001B[A\n",
      "Images processed:  49%|\u001B[31m████▉     \u001B[0m| 158/320 [00:09<00:09, 17.74it/s]\u001B[A\n",
      "Images processed:  50%|\u001B[31m█████     \u001B[0m| 160/320 [00:09<00:08, 17.86it/s]\u001B[A\n",
      "Images processed:  51%|\u001B[31m█████     \u001B[0m| 162/320 [00:09<00:08, 17.91it/s]\u001B[A\n",
      "Images processed:  51%|\u001B[31m█████▏    \u001B[0m| 164/320 [00:09<00:09, 17.13it/s]\u001B[A\n",
      "Images processed:  52%|\u001B[31m█████▏    \u001B[0m| 166/320 [00:09<00:09, 16.92it/s]\u001B[A\n",
      "Images processed:  52%|\u001B[31m█████▎    \u001B[0m| 168/320 [00:09<00:09, 16.41it/s]\u001B[A\n",
      "Images processed:  53%|\u001B[31m█████▎    \u001B[0m| 170/320 [00:09<00:09, 16.35it/s]\u001B[A\n",
      "Images processed:  54%|\u001B[31m█████▍    \u001B[0m| 172/320 [00:09<00:09, 15.98it/s]\u001B[A\n",
      "Images processed:  54%|\u001B[31m█████▍    \u001B[0m| 174/320 [00:10<00:09, 16.18it/s]\u001B[A\n",
      "Images processed:  55%|\u001B[31m█████▌    \u001B[0m| 176/320 [00:10<00:08, 16.05it/s]\u001B[A\n",
      "Images processed:  56%|\u001B[31m█████▌    \u001B[0m| 178/320 [00:10<00:08, 15.92it/s]\u001B[A\n",
      "Images processed:  56%|\u001B[31m█████▋    \u001B[0m| 180/320 [00:10<00:08, 15.80it/s]\u001B[A\n",
      "Images processed:  57%|\u001B[31m█████▋    \u001B[0m| 182/320 [00:10<00:08, 15.55it/s]\u001B[A\n",
      "Images processed:  57%|\u001B[31m█████▊    \u001B[0m| 184/320 [00:10<00:08, 15.58it/s]\u001B[A\n",
      "Images processed:  58%|\u001B[31m█████▊    \u001B[0m| 186/320 [00:10<00:08, 15.65it/s]\u001B[A\n",
      "Images processed:  59%|\u001B[31m█████▉    \u001B[0m| 188/320 [00:10<00:08, 15.72it/s]\u001B[A\n",
      "Images processed:  59%|\u001B[31m█████▉    \u001B[0m| 190/320 [00:11<00:08, 15.64it/s]\u001B[A\n",
      "Images processed:  60%|\u001B[31m██████    \u001B[0m| 192/320 [00:11<00:08, 15.36it/s]\u001B[A\n",
      "Images processed:  61%|\u001B[31m██████    \u001B[0m| 194/320 [00:11<00:08, 15.50it/s]\u001B[A\n",
      "Images processed:  61%|\u001B[31m██████▏   \u001B[0m| 196/320 [00:11<00:07, 15.60it/s]\u001B[A\n",
      "Images processed:  62%|\u001B[31m██████▏   \u001B[0m| 198/320 [00:11<00:07, 15.44it/s]\u001B[A\n",
      "Images processed:  62%|\u001B[31m██████▎   \u001B[0m| 200/320 [00:11<00:07, 16.21it/s]\u001B[A\n",
      "Images processed:  63%|\u001B[31m██████▎   \u001B[0m| 202/320 [00:11<00:07, 16.82it/s]\u001B[A\n",
      "Images processed:  64%|\u001B[31m██████▍   \u001B[0m| 204/320 [00:11<00:06, 17.39it/s]\u001B[A\n",
      "Images processed:  64%|\u001B[31m██████▍   \u001B[0m| 206/320 [00:12<00:06, 17.48it/s]\u001B[A\n",
      "Images processed:  65%|\u001B[31m██████▌   \u001B[0m| 208/320 [00:12<00:06, 17.87it/s]\u001B[A\n",
      "Images processed:  66%|\u001B[31m██████▌   \u001B[0m| 210/320 [00:12<00:06, 18.20it/s]\u001B[A\n",
      "Images processed:  66%|\u001B[31m██████▋   \u001B[0m| 212/320 [00:12<00:05, 18.34it/s]\u001B[A\n",
      "Images processed:  67%|\u001B[31m██████▋   \u001B[0m| 214/320 [00:12<00:05, 17.88it/s]\u001B[A\n",
      "Images processed:  68%|\u001B[31m██████▊   \u001B[0m| 216/320 [00:12<00:05, 17.78it/s]\u001B[A\n",
      "Images processed:  68%|\u001B[31m██████▊   \u001B[0m| 218/320 [00:12<00:05, 18.04it/s]\u001B[A\n",
      "Images processed:  69%|\u001B[31m██████▉   \u001B[0m| 220/320 [00:12<00:05, 17.36it/s]\u001B[A\n",
      "Images processed:  69%|\u001B[31m██████▉   \u001B[0m| 222/320 [00:12<00:05, 17.00it/s]\u001B[A\n",
      "Images processed:  70%|\u001B[31m███████   \u001B[0m| 224/320 [00:13<00:05, 17.39it/s]\u001B[A\n",
      "Images processed:  71%|\u001B[31m███████   \u001B[0m| 226/320 [00:13<00:05, 17.56it/s]\u001B[A\n",
      "Images processed:  71%|\u001B[31m███████▏  \u001B[0m| 228/320 [00:13<00:05, 18.01it/s]\u001B[A\n",
      "Images processed:  72%|\u001B[31m███████▏  \u001B[0m| 230/320 [00:13<00:05, 17.99it/s]\u001B[A\n",
      "Images processed:  72%|\u001B[31m███████▎  \u001B[0m| 232/320 [00:13<00:04, 18.03it/s]\u001B[A\n",
      "Images processed:  73%|\u001B[31m███████▎  \u001B[0m| 234/320 [00:13<00:04, 17.97it/s]\u001B[A\n",
      "Images processed:  74%|\u001B[31m███████▍  \u001B[0m| 236/320 [00:13<00:04, 18.10it/s]\u001B[A\n",
      "Images processed:  74%|\u001B[31m███████▍  \u001B[0m| 238/320 [00:13<00:04, 18.17it/s]\u001B[A\n",
      "Images processed:  75%|\u001B[31m███████▌  \u001B[0m| 240/320 [00:13<00:04, 18.05it/s]\u001B[A\n",
      "Images processed:  76%|\u001B[31m███████▌  \u001B[0m| 242/320 [00:14<00:04, 18.26it/s]\u001B[A\n",
      "Images processed:  76%|\u001B[31m███████▋  \u001B[0m| 244/320 [00:14<00:04, 18.43it/s]\u001B[A\n",
      "Images processed:  77%|\u001B[31m███████▋  \u001B[0m| 246/320 [00:14<00:03, 18.51it/s]\u001B[A\n",
      "Images processed:  78%|\u001B[31m███████▊  \u001B[0m| 248/320 [00:14<00:03, 18.52it/s]\u001B[A\n",
      "Images processed:  78%|\u001B[31m███████▊  \u001B[0m| 250/320 [00:14<00:03, 18.67it/s]\u001B[A\n",
      "Images processed:  79%|\u001B[31m███████▉  \u001B[0m| 252/320 [00:14<00:03, 18.49it/s]\u001B[A\n",
      "Images processed:  79%|\u001B[31m███████▉  \u001B[0m| 254/320 [00:14<00:03, 18.52it/s]\u001B[A\n",
      "Images processed:  80%|\u001B[31m████████  \u001B[0m| 256/320 [00:14<00:03, 18.58it/s]\u001B[A\n",
      "Images processed:  81%|\u001B[31m████████  \u001B[0m| 258/320 [00:14<00:03, 18.47it/s]\u001B[A\n",
      "Images processed:  81%|\u001B[31m████████▏ \u001B[0m| 260/320 [00:15<00:04, 13.71it/s]\u001B[A\n",
      "Images processed:  82%|\u001B[31m████████▏ \u001B[0m| 262/320 [00:15<00:05, 11.10it/s]\u001B[A\n",
      "Images processed:  82%|\u001B[31m████████▎ \u001B[0m| 264/320 [00:15<00:05,  9.99it/s]\u001B[A\n",
      "Images processed:  83%|\u001B[31m████████▎ \u001B[0m| 266/320 [00:15<00:06,  8.72it/s]\u001B[A\n",
      "Images processed:  84%|\u001B[31m████████▍ \u001B[0m| 268/320 [00:16<00:06,  8.42it/s]\u001B[A\n",
      "Images processed:  84%|\u001B[31m████████▍ \u001B[0m| 269/320 [00:16<00:06,  7.94it/s]\u001B[A\n",
      "Images processed:  84%|\u001B[31m████████▍ \u001B[0m| 270/320 [00:16<00:06,  7.97it/s]\u001B[A\n",
      "Images processed:  85%|\u001B[31m████████▍ \u001B[0m| 271/320 [00:16<00:06,  8.04it/s]\u001B[A\n",
      "Images processed:  85%|\u001B[31m████████▌ \u001B[0m| 273/320 [00:16<00:04,  9.66it/s]\u001B[A\n",
      "Images processed:  86%|\u001B[31m████████▌ \u001B[0m| 275/320 [00:16<00:03, 11.73it/s]\u001B[A\n",
      "Images processed:  87%|\u001B[31m████████▋ \u001B[0m| 277/320 [00:16<00:03, 13.45it/s]\u001B[A\n",
      "Images processed:  87%|\u001B[31m████████▋ \u001B[0m| 279/320 [00:17<00:02, 14.69it/s]\u001B[A\n",
      "Images processed:  88%|\u001B[31m████████▊ \u001B[0m| 281/320 [00:17<00:02, 15.79it/s]\u001B[A\n",
      "Images processed:  88%|\u001B[31m████████▊ \u001B[0m| 283/320 [00:17<00:02, 16.69it/s]\u001B[A\n",
      "Images processed:  89%|\u001B[31m████████▉ \u001B[0m| 285/320 [00:17<00:02, 17.22it/s]\u001B[A\n",
      "Images processed:  90%|\u001B[31m████████▉ \u001B[0m| 287/320 [00:17<00:01, 17.65it/s]\u001B[A\n",
      "Images processed:  90%|\u001B[31m█████████ \u001B[0m| 289/320 [00:17<00:01, 17.05it/s]\u001B[A\n",
      "Images processed:  91%|\u001B[31m█████████ \u001B[0m| 291/320 [00:17<00:01, 16.74it/s]\u001B[A\n",
      "Images processed:  92%|\u001B[31m█████████▏\u001B[0m| 293/320 [00:17<00:01, 16.37it/s]\u001B[A\n",
      "Images processed:  92%|\u001B[31m█████████▏\u001B[0m| 295/320 [00:18<00:01, 15.31it/s]\u001B[A\n",
      "Images processed:  93%|\u001B[31m█████████▎\u001B[0m| 297/320 [00:18<00:01, 15.56it/s]\u001B[A\n",
      "Images processed:  93%|\u001B[31m█████████▎\u001B[0m| 299/320 [00:18<00:01, 15.14it/s]\u001B[A\n",
      "Images processed:  94%|\u001B[31m█████████▍\u001B[0m| 301/320 [00:18<00:01, 15.40it/s]\u001B[A\n",
      "Images processed:  95%|\u001B[31m█████████▍\u001B[0m| 303/320 [00:18<00:01, 15.47it/s]\u001B[A\n",
      "Images processed:  95%|\u001B[31m█████████▌\u001B[0m| 305/320 [00:18<00:00, 15.41it/s]\u001B[A\n",
      "Images processed:  96%|\u001B[31m█████████▌\u001B[0m| 307/320 [00:18<00:00, 15.27it/s]\u001B[A\n",
      "Images processed:  97%|\u001B[31m█████████▋\u001B[0m| 309/320 [00:18<00:00, 15.34it/s]\u001B[A\n",
      "Images processed:  97%|\u001B[31m█████████▋\u001B[0m| 311/320 [00:19<00:00, 15.37it/s]\u001B[A\n",
      "Images processed:  98%|\u001B[31m█████████▊\u001B[0m| 313/320 [00:19<00:00, 15.49it/s]\u001B[A\n",
      "Images processed:  98%|\u001B[31m█████████▊\u001B[0m| 315/320 [00:19<00:00, 15.66it/s]\u001B[A\n",
      "Images processed:  99%|\u001B[31m█████████▉\u001B[0m| 317/320 [00:19<00:00, 15.74it/s]\u001B[A\n",
      "Images processed: 100%|\u001B[31m██████████\u001B[0m| 320/320 [00:19<00:00, 16.30it/s]\u001B[A\n",
      "Files processed:   4%|\u001B[31m▍         \u001B[0m| 1/25 [00:19<07:51, 19.64s/it]"
     ]
    },
    {
     "name": "stdout",
     "output_type": "stream",
     "text": [
      "Processing mask \\\\shelter\\Kyu\\unstain2stain\\unstain2stain_wsi\\HE\\1um\\classification_v9_combined\\OTS_14684_2_he.png and image ['\\\\\\\\shelter\\\\Kyu\\\\unstain2stain\\\\unstain2stain_tile\\\\train\\\\HE\\\\OTS_14684_2_he\\\\1xy0304.png', '\\\\\\\\shelter\\\\Kyu\\\\unstain2stain\\\\unstain2stain_tile\\\\train\\\\HE\\\\OTS_14684_2_he\\\\1xy0340.png', '\\\\\\\\shelter\\\\Kyu\\\\unstain2stain\\\\unstain2stain_tile\\\\train\\\\HE\\\\OTS_14684_2_he\\\\1xy0341.png', '\\\\\\\\shelter\\\\Kyu\\\\unstain2stain\\\\unstain2stain_tile\\\\train\\\\HE\\\\OTS_14684_2_he\\\\1xy0342.png', '\\\\\\\\shelter\\\\Kyu\\\\unstain2stain\\\\unstain2stain_tile\\\\train\\\\HE\\\\OTS_14684_2_he\\\\1xy0375.png', '\\\\\\\\shelter\\\\Kyu\\\\unstain2stain\\\\unstain2stain_tile\\\\train\\\\HE\\\\OTS_14684_2_he\\\\1xy0376.png', '\\\\\\\\shelter\\\\Kyu\\\\unstain2stain\\\\unstain2stain_tile\\\\train\\\\HE\\\\OTS_14684_2_he\\\\1xy0378.png', '\\\\\\\\shelter\\\\Kyu\\\\unstain2stain\\\\unstain2stain_tile\\\\train\\\\HE\\\\OTS_14684_2_he\\\\1xy0412.png', '\\\\\\\\shelter\\\\Kyu\\\\unstain2stain\\\\unstain2stain_tile\\\\train\\\\HE\\\\OTS_14684_2_he\\\\1xy0413.png', '\\\\\\\\shelter\\\\Kyu\\\\unstain2stain\\\\unstain2stain_tile\\\\train\\\\HE\\\\OTS_14684_2_he\\\\1xy0414.png', '\\\\\\\\shelter\\\\Kyu\\\\unstain2stain\\\\unstain2stain_tile\\\\train\\\\HE\\\\OTS_14684_2_he\\\\1xy0415.png', '\\\\\\\\shelter\\\\Kyu\\\\unstain2stain\\\\unstain2stain_tile\\\\train\\\\HE\\\\OTS_14684_2_he\\\\1xy0449.png', '\\\\\\\\shelter\\\\Kyu\\\\unstain2stain\\\\unstain2stain_tile\\\\train\\\\HE\\\\OTS_14684_2_he\\\\1xy0450.png', '\\\\\\\\shelter\\\\Kyu\\\\unstain2stain\\\\unstain2stain_tile\\\\train\\\\HE\\\\OTS_14684_2_he\\\\1xy0451.png', '\\\\\\\\shelter\\\\Kyu\\\\unstain2stain\\\\unstain2stain_tile\\\\train\\\\HE\\\\OTS_14684_2_he\\\\1xy0452.png', '\\\\\\\\shelter\\\\Kyu\\\\unstain2stain\\\\unstain2stain_tile\\\\train\\\\HE\\\\OTS_14684_2_he\\\\1xy0453.png', '\\\\\\\\shelter\\\\Kyu\\\\unstain2stain\\\\unstain2stain_tile\\\\train\\\\HE\\\\OTS_14684_2_he\\\\1xy0485.png', '\\\\\\\\shelter\\\\Kyu\\\\unstain2stain\\\\unstain2stain_tile\\\\train\\\\HE\\\\OTS_14684_2_he\\\\1xy0486.png', '\\\\\\\\shelter\\\\Kyu\\\\unstain2stain\\\\unstain2stain_tile\\\\train\\\\HE\\\\OTS_14684_2_he\\\\1xy0487.png', '\\\\\\\\shelter\\\\Kyu\\\\unstain2stain\\\\unstain2stain_tile\\\\train\\\\HE\\\\OTS_14684_2_he\\\\1xy0488.png', '\\\\\\\\shelter\\\\Kyu\\\\unstain2stain\\\\unstain2stain_tile\\\\train\\\\HE\\\\OTS_14684_2_he\\\\1xy0491.png', '\\\\\\\\shelter\\\\Kyu\\\\unstain2stain\\\\unstain2stain_tile\\\\train\\\\HE\\\\OTS_14684_2_he\\\\1xy0522.png', '\\\\\\\\shelter\\\\Kyu\\\\unstain2stain\\\\unstain2stain_tile\\\\train\\\\HE\\\\OTS_14684_2_he\\\\1xy0523.png', '\\\\\\\\shelter\\\\Kyu\\\\unstain2stain\\\\unstain2stain_tile\\\\train\\\\HE\\\\OTS_14684_2_he\\\\1xy0524.png', '\\\\\\\\shelter\\\\Kyu\\\\unstain2stain\\\\unstain2stain_tile\\\\train\\\\HE\\\\OTS_14684_2_he\\\\1xy0559.png', '\\\\\\\\shelter\\\\Kyu\\\\unstain2stain\\\\unstain2stain_tile\\\\train\\\\HE\\\\OTS_14684_2_he\\\\1xy0560.png', '\\\\\\\\shelter\\\\Kyu\\\\unstain2stain\\\\unstain2stain_tile\\\\train\\\\HE\\\\OTS_14684_2_he\\\\1xy0561.png', '\\\\\\\\shelter\\\\Kyu\\\\unstain2stain\\\\unstain2stain_tile\\\\train\\\\HE\\\\OTS_14684_2_he\\\\1xy0597.png', '\\\\\\\\shelter\\\\Kyu\\\\unstain2stain\\\\unstain2stain_tile\\\\train\\\\HE\\\\OTS_14684_2_he\\\\1xy0598.png', '\\\\\\\\shelter\\\\Kyu\\\\unstain2stain\\\\unstain2stain_tile\\\\train\\\\HE\\\\OTS_14684_2_he\\\\1xy0633.png', '\\\\\\\\shelter\\\\Kyu\\\\unstain2stain\\\\unstain2stain_tile\\\\train\\\\HE\\\\OTS_14684_2_he\\\\1xy0634.png', '\\\\\\\\shelter\\\\Kyu\\\\unstain2stain\\\\unstain2stain_tile\\\\train\\\\HE\\\\OTS_14684_2_he\\\\1xy0635.png', '\\\\\\\\shelter\\\\Kyu\\\\unstain2stain\\\\unstain2stain_tile\\\\train\\\\HE\\\\OTS_14684_2_he\\\\1xy0637.png', '\\\\\\\\shelter\\\\Kyu\\\\unstain2stain\\\\unstain2stain_tile\\\\train\\\\HE\\\\OTS_14684_2_he\\\\1xy0670.png', '\\\\\\\\shelter\\\\Kyu\\\\unstain2stain\\\\unstain2stain_tile\\\\train\\\\HE\\\\OTS_14684_2_he\\\\1xy0671.png', '\\\\\\\\shelter\\\\Kyu\\\\unstain2stain\\\\unstain2stain_tile\\\\train\\\\HE\\\\OTS_14684_2_he\\\\1xy0672.png', '\\\\\\\\shelter\\\\Kyu\\\\unstain2stain\\\\unstain2stain_tile\\\\train\\\\HE\\\\OTS_14684_2_he\\\\1xy0675.png', '\\\\\\\\shelter\\\\Kyu\\\\unstain2stain\\\\unstain2stain_tile\\\\train\\\\HE\\\\OTS_14684_2_he\\\\1xy0676.png', '\\\\\\\\shelter\\\\Kyu\\\\unstain2stain\\\\unstain2stain_tile\\\\train\\\\HE\\\\OTS_14684_2_he\\\\1xy0708.png', '\\\\\\\\shelter\\\\Kyu\\\\unstain2stain\\\\unstain2stain_tile\\\\train\\\\HE\\\\OTS_14684_2_he\\\\1xy0709.png', '\\\\\\\\shelter\\\\Kyu\\\\unstain2stain\\\\unstain2stain_tile\\\\train\\\\HE\\\\OTS_14684_2_he\\\\1xy0713.png', '\\\\\\\\shelter\\\\Kyu\\\\unstain2stain\\\\unstain2stain_tile\\\\train\\\\HE\\\\OTS_14684_2_he\\\\1xy0714.png', '\\\\\\\\shelter\\\\Kyu\\\\unstain2stain\\\\unstain2stain_tile\\\\train\\\\HE\\\\OTS_14684_2_he\\\\1xy0745.png', '\\\\\\\\shelter\\\\Kyu\\\\unstain2stain\\\\unstain2stain_tile\\\\train\\\\HE\\\\OTS_14684_2_he\\\\1xy0781.png', '\\\\\\\\shelter\\\\Kyu\\\\unstain2stain\\\\unstain2stain_tile\\\\train\\\\HE\\\\OTS_14684_2_he\\\\1xy0782.png', '\\\\\\\\shelter\\\\Kyu\\\\unstain2stain\\\\unstain2stain_tile\\\\train\\\\HE\\\\OTS_14684_2_he\\\\1xy0818.png', '\\\\\\\\shelter\\\\Kyu\\\\unstain2stain\\\\unstain2stain_tile\\\\train\\\\HE\\\\OTS_14684_2_he\\\\1xy0819.png', '\\\\\\\\shelter\\\\Kyu\\\\unstain2stain\\\\unstain2stain_tile\\\\train\\\\HE\\\\OTS_14684_2_he\\\\1xy0856.png', '\\\\\\\\shelter\\\\Kyu\\\\unstain2stain\\\\unstain2stain_tile\\\\train\\\\HE\\\\OTS_14684_2_he\\\\1xy0857.png', '\\\\\\\\shelter\\\\Kyu\\\\unstain2stain\\\\unstain2stain_tile\\\\train\\\\HE\\\\OTS_14684_2_he\\\\1xy0894.png', '\\\\\\\\shelter\\\\Kyu\\\\unstain2stain\\\\unstain2stain_tile\\\\train\\\\HE\\\\OTS_14684_2_he\\\\1xy0895.png', '\\\\\\\\shelter\\\\Kyu\\\\unstain2stain\\\\unstain2stain_tile\\\\train\\\\HE\\\\OTS_14684_2_he\\\\1xy0896.png', '\\\\\\\\shelter\\\\Kyu\\\\unstain2stain\\\\unstain2stain_tile\\\\train\\\\HE\\\\OTS_14684_2_he\\\\1xy0897.png', '\\\\\\\\shelter\\\\Kyu\\\\unstain2stain\\\\unstain2stain_tile\\\\train\\\\HE\\\\OTS_14684_2_he\\\\1xy0931.png', '\\\\\\\\shelter\\\\Kyu\\\\unstain2stain\\\\unstain2stain_tile\\\\train\\\\HE\\\\OTS_14684_2_he\\\\1xy0932.png', '\\\\\\\\shelter\\\\Kyu\\\\unstain2stain\\\\unstain2stain_tile\\\\train\\\\HE\\\\OTS_14684_2_he\\\\1xy0969.png', '\\\\\\\\shelter\\\\Kyu\\\\unstain2stain\\\\unstain2stain_tile\\\\train\\\\HE\\\\OTS_14684_2_he\\\\1xy1007.png', '\\\\\\\\shelter\\\\Kyu\\\\unstain2stain\\\\unstain2stain_tile\\\\train\\\\HE\\\\OTS_14684_2_he\\\\1xy1043.png', '\\\\\\\\shelter\\\\Kyu\\\\unstain2stain\\\\unstain2stain_tile\\\\train\\\\HE\\\\OTS_14684_2_he\\\\1xy1044.png', '\\\\\\\\shelter\\\\Kyu\\\\unstain2stain\\\\unstain2stain_tile\\\\train\\\\HE\\\\OTS_14684_2_he\\\\1xy1079.png', '\\\\\\\\shelter\\\\Kyu\\\\unstain2stain\\\\unstain2stain_tile\\\\train\\\\HE\\\\OTS_14684_2_he\\\\1xy1080.png', '\\\\\\\\shelter\\\\Kyu\\\\unstain2stain\\\\unstain2stain_tile\\\\train\\\\HE\\\\OTS_14684_2_he\\\\1xy1081.png', '\\\\\\\\shelter\\\\Kyu\\\\unstain2stain\\\\unstain2stain_tile\\\\train\\\\HE\\\\OTS_14684_2_he\\\\1xy1082.png', '\\\\\\\\shelter\\\\Kyu\\\\unstain2stain\\\\unstain2stain_tile\\\\train\\\\HE\\\\OTS_14684_2_he\\\\1xy1117.png', '\\\\\\\\shelter\\\\Kyu\\\\unstain2stain\\\\unstain2stain_tile\\\\train\\\\HE\\\\OTS_14684_2_he\\\\1xy1118.png', '\\\\\\\\shelter\\\\Kyu\\\\unstain2stain\\\\unstain2stain_tile\\\\train\\\\HE\\\\OTS_14684_2_he\\\\1xy1119.png', '\\\\\\\\shelter\\\\Kyu\\\\unstain2stain\\\\unstain2stain_tile\\\\train\\\\HE\\\\OTS_14684_2_he\\\\1xy1155.png', '\\\\\\\\shelter\\\\Kyu\\\\unstain2stain\\\\unstain2stain_tile\\\\train\\\\HE\\\\OTS_14684_2_he\\\\1xy1191.png', '\\\\\\\\shelter\\\\Kyu\\\\unstain2stain\\\\unstain2stain_tile\\\\train\\\\HE\\\\OTS_14684_2_he\\\\1xy1192.png', '\\\\\\\\shelter\\\\Kyu\\\\unstain2stain\\\\unstain2stain_tile\\\\train\\\\HE\\\\OTS_14684_2_he\\\\1xy1193.png', '\\\\\\\\shelter\\\\Kyu\\\\unstain2stain\\\\unstain2stain_tile\\\\train\\\\HE\\\\OTS_14684_2_he\\\\1xy1229.png', '\\\\\\\\shelter\\\\Kyu\\\\unstain2stain\\\\unstain2stain_tile\\\\train\\\\HE\\\\OTS_14684_2_he\\\\1xy1266.png', '\\\\\\\\shelter\\\\Kyu\\\\unstain2stain\\\\unstain2stain_tile\\\\train\\\\HE\\\\OTS_14684_2_he\\\\1xy1267.png', '\\\\\\\\shelter\\\\Kyu\\\\unstain2stain\\\\unstain2stain_tile\\\\train\\\\HE\\\\OTS_14684_2_he\\\\1xy1304.png', '\\\\\\\\shelter\\\\Kyu\\\\unstain2stain\\\\unstain2stain_tile\\\\train\\\\HE\\\\OTS_14684_2_he\\\\1xy1342.png', '\\\\\\\\shelter\\\\Kyu\\\\unstain2stain\\\\unstain2stain_tile\\\\train\\\\HE\\\\OTS_14684_2_he\\\\1xy1379.png', '\\\\\\\\shelter\\\\Kyu\\\\unstain2stain\\\\unstain2stain_tile\\\\train\\\\HE\\\\OTS_14684_2_he\\\\1xy1380.png', '\\\\\\\\shelter\\\\Kyu\\\\unstain2stain\\\\unstain2stain_tile\\\\train\\\\HE\\\\OTS_14684_2_he\\\\1xy1417.png', '\\\\\\\\shelter\\\\Kyu\\\\unstain2stain\\\\unstain2stain_tile\\\\train\\\\HE\\\\OTS_14684_2_he\\\\1xy1454.png', '\\\\\\\\shelter\\\\Kyu\\\\unstain2stain\\\\unstain2stain_tile\\\\train\\\\HE\\\\OTS_14684_2_he\\\\1xy1455.png', '\\\\\\\\shelter\\\\Kyu\\\\unstain2stain\\\\unstain2stain_tile\\\\train\\\\HE\\\\OTS_14684_2_he\\\\1xy1469.png', '\\\\\\\\shelter\\\\Kyu\\\\unstain2stain\\\\unstain2stain_tile\\\\train\\\\HE\\\\OTS_14684_2_he\\\\1xy1491.png', '\\\\\\\\shelter\\\\Kyu\\\\unstain2stain\\\\unstain2stain_tile\\\\train\\\\HE\\\\OTS_14684_2_he\\\\1xy1492.png', '\\\\\\\\shelter\\\\Kyu\\\\unstain2stain\\\\unstain2stain_tile\\\\train\\\\HE\\\\OTS_14684_2_he\\\\1xy1493.png', '\\\\\\\\shelter\\\\Kyu\\\\unstain2stain\\\\unstain2stain_tile\\\\train\\\\HE\\\\OTS_14684_2_he\\\\2xy0304.png', '\\\\\\\\shelter\\\\Kyu\\\\unstain2stain\\\\unstain2stain_tile\\\\train\\\\HE\\\\OTS_14684_2_he\\\\2xy0340.png', '\\\\\\\\shelter\\\\Kyu\\\\unstain2stain\\\\unstain2stain_tile\\\\train\\\\HE\\\\OTS_14684_2_he\\\\2xy0341.png', '\\\\\\\\shelter\\\\Kyu\\\\unstain2stain\\\\unstain2stain_tile\\\\train\\\\HE\\\\OTS_14684_2_he\\\\2xy0342.png', '\\\\\\\\shelter\\\\Kyu\\\\unstain2stain\\\\unstain2stain_tile\\\\train\\\\HE\\\\OTS_14684_2_he\\\\2xy0375.png', '\\\\\\\\shelter\\\\Kyu\\\\unstain2stain\\\\unstain2stain_tile\\\\train\\\\HE\\\\OTS_14684_2_he\\\\2xy0376.png', '\\\\\\\\shelter\\\\Kyu\\\\unstain2stain\\\\unstain2stain_tile\\\\train\\\\HE\\\\OTS_14684_2_he\\\\2xy0378.png', '\\\\\\\\shelter\\\\Kyu\\\\unstain2stain\\\\unstain2stain_tile\\\\train\\\\HE\\\\OTS_14684_2_he\\\\2xy0412.png', '\\\\\\\\shelter\\\\Kyu\\\\unstain2stain\\\\unstain2stain_tile\\\\train\\\\HE\\\\OTS_14684_2_he\\\\2xy0413.png', '\\\\\\\\shelter\\\\Kyu\\\\unstain2stain\\\\unstain2stain_tile\\\\train\\\\HE\\\\OTS_14684_2_he\\\\2xy0414.png', '\\\\\\\\shelter\\\\Kyu\\\\unstain2stain\\\\unstain2stain_tile\\\\train\\\\HE\\\\OTS_14684_2_he\\\\2xy0415.png', '\\\\\\\\shelter\\\\Kyu\\\\unstain2stain\\\\unstain2stain_tile\\\\train\\\\HE\\\\OTS_14684_2_he\\\\2xy0449.png', '\\\\\\\\shelter\\\\Kyu\\\\unstain2stain\\\\unstain2stain_tile\\\\train\\\\HE\\\\OTS_14684_2_he\\\\2xy0450.png', '\\\\\\\\shelter\\\\Kyu\\\\unstain2stain\\\\unstain2stain_tile\\\\train\\\\HE\\\\OTS_14684_2_he\\\\2xy0451.png', '\\\\\\\\shelter\\\\Kyu\\\\unstain2stain\\\\unstain2stain_tile\\\\train\\\\HE\\\\OTS_14684_2_he\\\\2xy0452.png', '\\\\\\\\shelter\\\\Kyu\\\\unstain2stain\\\\unstain2stain_tile\\\\train\\\\HE\\\\OTS_14684_2_he\\\\2xy0453.png', '\\\\\\\\shelter\\\\Kyu\\\\unstain2stain\\\\unstain2stain_tile\\\\train\\\\HE\\\\OTS_14684_2_he\\\\2xy0485.png', '\\\\\\\\shelter\\\\Kyu\\\\unstain2stain\\\\unstain2stain_tile\\\\train\\\\HE\\\\OTS_14684_2_he\\\\2xy0486.png', '\\\\\\\\shelter\\\\Kyu\\\\unstain2stain\\\\unstain2stain_tile\\\\train\\\\HE\\\\OTS_14684_2_he\\\\2xy0487.png', '\\\\\\\\shelter\\\\Kyu\\\\unstain2stain\\\\unstain2stain_tile\\\\train\\\\HE\\\\OTS_14684_2_he\\\\2xy0488.png', '\\\\\\\\shelter\\\\Kyu\\\\unstain2stain\\\\unstain2stain_tile\\\\train\\\\HE\\\\OTS_14684_2_he\\\\2xy0491.png', '\\\\\\\\shelter\\\\Kyu\\\\unstain2stain\\\\unstain2stain_tile\\\\train\\\\HE\\\\OTS_14684_2_he\\\\2xy0522.png', '\\\\\\\\shelter\\\\Kyu\\\\unstain2stain\\\\unstain2stain_tile\\\\train\\\\HE\\\\OTS_14684_2_he\\\\2xy0523.png', '\\\\\\\\shelter\\\\Kyu\\\\unstain2stain\\\\unstain2stain_tile\\\\train\\\\HE\\\\OTS_14684_2_he\\\\2xy0524.png', '\\\\\\\\shelter\\\\Kyu\\\\unstain2stain\\\\unstain2stain_tile\\\\train\\\\HE\\\\OTS_14684_2_he\\\\2xy0559.png', '\\\\\\\\shelter\\\\Kyu\\\\unstain2stain\\\\unstain2stain_tile\\\\train\\\\HE\\\\OTS_14684_2_he\\\\2xy0560.png', '\\\\\\\\shelter\\\\Kyu\\\\unstain2stain\\\\unstain2stain_tile\\\\train\\\\HE\\\\OTS_14684_2_he\\\\2xy0561.png', '\\\\\\\\shelter\\\\Kyu\\\\unstain2stain\\\\unstain2stain_tile\\\\train\\\\HE\\\\OTS_14684_2_he\\\\2xy0597.png', '\\\\\\\\shelter\\\\Kyu\\\\unstain2stain\\\\unstain2stain_tile\\\\train\\\\HE\\\\OTS_14684_2_he\\\\2xy0598.png', '\\\\\\\\shelter\\\\Kyu\\\\unstain2stain\\\\unstain2stain_tile\\\\train\\\\HE\\\\OTS_14684_2_he\\\\2xy0633.png', '\\\\\\\\shelter\\\\Kyu\\\\unstain2stain\\\\unstain2stain_tile\\\\train\\\\HE\\\\OTS_14684_2_he\\\\2xy0634.png', '\\\\\\\\shelter\\\\Kyu\\\\unstain2stain\\\\unstain2stain_tile\\\\train\\\\HE\\\\OTS_14684_2_he\\\\2xy0635.png', '\\\\\\\\shelter\\\\Kyu\\\\unstain2stain\\\\unstain2stain_tile\\\\train\\\\HE\\\\OTS_14684_2_he\\\\2xy0637.png', '\\\\\\\\shelter\\\\Kyu\\\\unstain2stain\\\\unstain2stain_tile\\\\train\\\\HE\\\\OTS_14684_2_he\\\\2xy0670.png', '\\\\\\\\shelter\\\\Kyu\\\\unstain2stain\\\\unstain2stain_tile\\\\train\\\\HE\\\\OTS_14684_2_he\\\\2xy0671.png', '\\\\\\\\shelter\\\\Kyu\\\\unstain2stain\\\\unstain2stain_tile\\\\train\\\\HE\\\\OTS_14684_2_he\\\\2xy0672.png', '\\\\\\\\shelter\\\\Kyu\\\\unstain2stain\\\\unstain2stain_tile\\\\train\\\\HE\\\\OTS_14684_2_he\\\\2xy0675.png', '\\\\\\\\shelter\\\\Kyu\\\\unstain2stain\\\\unstain2stain_tile\\\\train\\\\HE\\\\OTS_14684_2_he\\\\2xy0676.png', '\\\\\\\\shelter\\\\Kyu\\\\unstain2stain\\\\unstain2stain_tile\\\\train\\\\HE\\\\OTS_14684_2_he\\\\2xy0708.png', '\\\\\\\\shelter\\\\Kyu\\\\unstain2stain\\\\unstain2stain_tile\\\\train\\\\HE\\\\OTS_14684_2_he\\\\2xy0709.png', '\\\\\\\\shelter\\\\Kyu\\\\unstain2stain\\\\unstain2stain_tile\\\\train\\\\HE\\\\OTS_14684_2_he\\\\2xy0713.png', '\\\\\\\\shelter\\\\Kyu\\\\unstain2stain\\\\unstain2stain_tile\\\\train\\\\HE\\\\OTS_14684_2_he\\\\2xy0714.png', '\\\\\\\\shelter\\\\Kyu\\\\unstain2stain\\\\unstain2stain_tile\\\\train\\\\HE\\\\OTS_14684_2_he\\\\2xy0745.png', '\\\\\\\\shelter\\\\Kyu\\\\unstain2stain\\\\unstain2stain_tile\\\\train\\\\HE\\\\OTS_14684_2_he\\\\2xy0781.png', '\\\\\\\\shelter\\\\Kyu\\\\unstain2stain\\\\unstain2stain_tile\\\\train\\\\HE\\\\OTS_14684_2_he\\\\2xy0782.png', '\\\\\\\\shelter\\\\Kyu\\\\unstain2stain\\\\unstain2stain_tile\\\\train\\\\HE\\\\OTS_14684_2_he\\\\2xy0818.png', '\\\\\\\\shelter\\\\Kyu\\\\unstain2stain\\\\unstain2stain_tile\\\\train\\\\HE\\\\OTS_14684_2_he\\\\2xy0819.png', '\\\\\\\\shelter\\\\Kyu\\\\unstain2stain\\\\unstain2stain_tile\\\\train\\\\HE\\\\OTS_14684_2_he\\\\2xy0856.png', '\\\\\\\\shelter\\\\Kyu\\\\unstain2stain\\\\unstain2stain_tile\\\\train\\\\HE\\\\OTS_14684_2_he\\\\2xy0857.png', '\\\\\\\\shelter\\\\Kyu\\\\unstain2stain\\\\unstain2stain_tile\\\\train\\\\HE\\\\OTS_14684_2_he\\\\2xy0894.png', '\\\\\\\\shelter\\\\Kyu\\\\unstain2stain\\\\unstain2stain_tile\\\\train\\\\HE\\\\OTS_14684_2_he\\\\2xy0895.png', '\\\\\\\\shelter\\\\Kyu\\\\unstain2stain\\\\unstain2stain_tile\\\\train\\\\HE\\\\OTS_14684_2_he\\\\2xy0896.png', '\\\\\\\\shelter\\\\Kyu\\\\unstain2stain\\\\unstain2stain_tile\\\\train\\\\HE\\\\OTS_14684_2_he\\\\2xy0897.png', '\\\\\\\\shelter\\\\Kyu\\\\unstain2stain\\\\unstain2stain_tile\\\\train\\\\HE\\\\OTS_14684_2_he\\\\2xy0931.png', '\\\\\\\\shelter\\\\Kyu\\\\unstain2stain\\\\unstain2stain_tile\\\\train\\\\HE\\\\OTS_14684_2_he\\\\2xy0932.png', '\\\\\\\\shelter\\\\Kyu\\\\unstain2stain\\\\unstain2stain_tile\\\\train\\\\HE\\\\OTS_14684_2_he\\\\2xy0969.png', '\\\\\\\\shelter\\\\Kyu\\\\unstain2stain\\\\unstain2stain_tile\\\\train\\\\HE\\\\OTS_14684_2_he\\\\2xy1007.png', '\\\\\\\\shelter\\\\Kyu\\\\unstain2stain\\\\unstain2stain_tile\\\\train\\\\HE\\\\OTS_14684_2_he\\\\2xy1043.png', '\\\\\\\\shelter\\\\Kyu\\\\unstain2stain\\\\unstain2stain_tile\\\\train\\\\HE\\\\OTS_14684_2_he\\\\2xy1044.png', '\\\\\\\\shelter\\\\Kyu\\\\unstain2stain\\\\unstain2stain_tile\\\\train\\\\HE\\\\OTS_14684_2_he\\\\2xy1079.png', '\\\\\\\\shelter\\\\Kyu\\\\unstain2stain\\\\unstain2stain_tile\\\\train\\\\HE\\\\OTS_14684_2_he\\\\2xy1080.png', '\\\\\\\\shelter\\\\Kyu\\\\unstain2stain\\\\unstain2stain_tile\\\\train\\\\HE\\\\OTS_14684_2_he\\\\2xy1081.png', '\\\\\\\\shelter\\\\Kyu\\\\unstain2stain\\\\unstain2stain_tile\\\\train\\\\HE\\\\OTS_14684_2_he\\\\2xy1082.png', '\\\\\\\\shelter\\\\Kyu\\\\unstain2stain\\\\unstain2stain_tile\\\\train\\\\HE\\\\OTS_14684_2_he\\\\2xy1117.png', '\\\\\\\\shelter\\\\Kyu\\\\unstain2stain\\\\unstain2stain_tile\\\\train\\\\HE\\\\OTS_14684_2_he\\\\2xy1118.png', '\\\\\\\\shelter\\\\Kyu\\\\unstain2stain\\\\unstain2stain_tile\\\\train\\\\HE\\\\OTS_14684_2_he\\\\2xy1119.png', '\\\\\\\\shelter\\\\Kyu\\\\unstain2stain\\\\unstain2stain_tile\\\\train\\\\HE\\\\OTS_14684_2_he\\\\2xy1155.png', '\\\\\\\\shelter\\\\Kyu\\\\unstain2stain\\\\unstain2stain_tile\\\\train\\\\HE\\\\OTS_14684_2_he\\\\2xy1191.png', '\\\\\\\\shelter\\\\Kyu\\\\unstain2stain\\\\unstain2stain_tile\\\\train\\\\HE\\\\OTS_14684_2_he\\\\2xy1192.png', '\\\\\\\\shelter\\\\Kyu\\\\unstain2stain\\\\unstain2stain_tile\\\\train\\\\HE\\\\OTS_14684_2_he\\\\2xy1193.png', '\\\\\\\\shelter\\\\Kyu\\\\unstain2stain\\\\unstain2stain_tile\\\\train\\\\HE\\\\OTS_14684_2_he\\\\2xy1229.png', '\\\\\\\\shelter\\\\Kyu\\\\unstain2stain\\\\unstain2stain_tile\\\\train\\\\HE\\\\OTS_14684_2_he\\\\2xy1266.png', '\\\\\\\\shelter\\\\Kyu\\\\unstain2stain\\\\unstain2stain_tile\\\\train\\\\HE\\\\OTS_14684_2_he\\\\2xy1267.png', '\\\\\\\\shelter\\\\Kyu\\\\unstain2stain\\\\unstain2stain_tile\\\\train\\\\HE\\\\OTS_14684_2_he\\\\2xy1304.png', '\\\\\\\\shelter\\\\Kyu\\\\unstain2stain\\\\unstain2stain_tile\\\\train\\\\HE\\\\OTS_14684_2_he\\\\2xy1342.png', '\\\\\\\\shelter\\\\Kyu\\\\unstain2stain\\\\unstain2stain_tile\\\\train\\\\HE\\\\OTS_14684_2_he\\\\2xy1379.png', '\\\\\\\\shelter\\\\Kyu\\\\unstain2stain\\\\unstain2stain_tile\\\\train\\\\HE\\\\OTS_14684_2_he\\\\2xy1380.png', '\\\\\\\\shelter\\\\Kyu\\\\unstain2stain\\\\unstain2stain_tile\\\\train\\\\HE\\\\OTS_14684_2_he\\\\2xy1417.png', '\\\\\\\\shelter\\\\Kyu\\\\unstain2stain\\\\unstain2stain_tile\\\\train\\\\HE\\\\OTS_14684_2_he\\\\2xy1454.png', '\\\\\\\\shelter\\\\Kyu\\\\unstain2stain\\\\unstain2stain_tile\\\\train\\\\HE\\\\OTS_14684_2_he\\\\2xy1455.png', '\\\\\\\\shelter\\\\Kyu\\\\unstain2stain\\\\unstain2stain_tile\\\\train\\\\HE\\\\OTS_14684_2_he\\\\2xy1469.png', '\\\\\\\\shelter\\\\Kyu\\\\unstain2stain\\\\unstain2stain_tile\\\\train\\\\HE\\\\OTS_14684_2_he\\\\2xy1491.png', '\\\\\\\\shelter\\\\Kyu\\\\unstain2stain\\\\unstain2stain_tile\\\\train\\\\HE\\\\OTS_14684_2_he\\\\2xy1492.png', '\\\\\\\\shelter\\\\Kyu\\\\unstain2stain\\\\unstain2stain_tile\\\\train\\\\HE\\\\OTS_14684_2_he\\\\2xy1493.png', '\\\\\\\\shelter\\\\Kyu\\\\unstain2stain\\\\unstain2stain_tile\\\\train\\\\HE\\\\OTS_14684_2_he\\\\2xy1529.png', '\\\\\\\\shelter\\\\Kyu\\\\unstain2stain\\\\unstain2stain_tile\\\\train\\\\HE\\\\OTS_14684_2_he\\\\2xy1530.png', '\\\\\\\\shelter\\\\Kyu\\\\unstain2stain\\\\unstain2stain_tile\\\\train\\\\HE\\\\OTS_14684_2_he\\\\2xy1558.png', '\\\\\\\\shelter\\\\Kyu\\\\unstain2stain\\\\unstain2stain_tile\\\\train\\\\HE\\\\OTS_14684_2_he\\\\2xy1568.png', '\\\\\\\\shelter\\\\Kyu\\\\unstain2stain\\\\unstain2stain_tile\\\\train\\\\HE\\\\OTS_14684_2_he\\\\2xy1578.png', '\\\\\\\\shelter\\\\Kyu\\\\unstain2stain\\\\unstain2stain_tile\\\\train\\\\HE\\\\OTS_14684_2_he\\\\2xy1595.png', '\\\\\\\\shelter\\\\Kyu\\\\unstain2stain\\\\unstain2stain_tile\\\\train\\\\HE\\\\OTS_14684_2_he\\\\2xy1596.png', '\\\\\\\\shelter\\\\Kyu\\\\unstain2stain\\\\unstain2stain_tile\\\\train\\\\HE\\\\OTS_14684_2_he\\\\2xy1606.png', '\\\\\\\\shelter\\\\Kyu\\\\unstain2stain\\\\unstain2stain_tile\\\\train\\\\HE\\\\OTS_14684_2_he\\\\2xy1632.png', '\\\\\\\\shelter\\\\Kyu\\\\unstain2stain\\\\unstain2stain_tile\\\\train\\\\HE\\\\OTS_14684_2_he\\\\2xy1633.png', '\\\\\\\\shelter\\\\Kyu\\\\unstain2stain\\\\unstain2stain_tile\\\\train\\\\HE\\\\OTS_14684_2_he\\\\2xy1634.png', '\\\\\\\\shelter\\\\Kyu\\\\unstain2stain\\\\unstain2stain_tile\\\\train\\\\HE\\\\OTS_14684_2_he\\\\2xy1644.png', '\\\\\\\\shelter\\\\Kyu\\\\unstain2stain\\\\unstain2stain_tile\\\\train\\\\HE\\\\OTS_14684_2_he\\\\2xy1669.png', '\\\\\\\\shelter\\\\Kyu\\\\unstain2stain\\\\unstain2stain_tile\\\\train\\\\HE\\\\OTS_14684_2_he\\\\2xy1670.png', '\\\\\\\\shelter\\\\Kyu\\\\unstain2stain\\\\unstain2stain_tile\\\\train\\\\HE\\\\OTS_14684_2_he\\\\2xy1671.png', '\\\\\\\\shelter\\\\Kyu\\\\unstain2stain\\\\unstain2stain_tile\\\\train\\\\HE\\\\OTS_14684_2_he\\\\2xy1672.png', '\\\\\\\\shelter\\\\Kyu\\\\unstain2stain\\\\unstain2stain_tile\\\\train\\\\HE\\\\OTS_14684_2_he\\\\2xy1682.png', '\\\\\\\\shelter\\\\Kyu\\\\unstain2stain\\\\unstain2stain_tile\\\\train\\\\HE\\\\OTS_14684_2_he\\\\2xy1706.png', '\\\\\\\\shelter\\\\Kyu\\\\unstain2stain\\\\unstain2stain_tile\\\\train\\\\HE\\\\OTS_14684_2_he\\\\2xy1707.png', '\\\\\\\\shelter\\\\Kyu\\\\unstain2stain\\\\unstain2stain_tile\\\\train\\\\HE\\\\OTS_14684_2_he\\\\2xy1708.png', '\\\\\\\\shelter\\\\Kyu\\\\unstain2stain\\\\unstain2stain_tile\\\\train\\\\HE\\\\OTS_14684_2_he\\\\2xy1709.png', '\\\\\\\\shelter\\\\Kyu\\\\unstain2stain\\\\unstain2stain_tile\\\\train\\\\HE\\\\OTS_14684_2_he\\\\2xy1720.png', '\\\\\\\\shelter\\\\Kyu\\\\unstain2stain\\\\unstain2stain_tile\\\\train\\\\HE\\\\OTS_14684_2_he\\\\2xy1724.png', '\\\\\\\\shelter\\\\Kyu\\\\unstain2stain\\\\unstain2stain_tile\\\\train\\\\HE\\\\OTS_14684_2_he\\\\2xy1743.png', '\\\\\\\\shelter\\\\Kyu\\\\unstain2stain\\\\unstain2stain_tile\\\\train\\\\HE\\\\OTS_14684_2_he\\\\2xy1744.png', '\\\\\\\\shelter\\\\Kyu\\\\unstain2stain\\\\unstain2stain_tile\\\\train\\\\HE\\\\OTS_14684_2_he\\\\2xy1745.png', '\\\\\\\\shelter\\\\Kyu\\\\unstain2stain\\\\unstain2stain_tile\\\\train\\\\HE\\\\OTS_14684_2_he\\\\3xy0324.png', '\\\\\\\\shelter\\\\Kyu\\\\unstain2stain\\\\unstain2stain_tile\\\\train\\\\HE\\\\OTS_14684_2_he\\\\3xy0357.png', '\\\\\\\\shelter\\\\Kyu\\\\unstain2stain\\\\unstain2stain_tile\\\\train\\\\HE\\\\OTS_14684_2_he\\\\3xy0358.png', '\\\\\\\\shelter\\\\Kyu\\\\unstain2stain\\\\unstain2stain_tile\\\\train\\\\HE\\\\OTS_14684_2_he\\\\3xy0360.png', '\\\\\\\\shelter\\\\Kyu\\\\unstain2stain\\\\unstain2stain_tile\\\\train\\\\HE\\\\OTS_14684_2_he\\\\3xy0392.png', '\\\\\\\\shelter\\\\Kyu\\\\unstain2stain\\\\unstain2stain_tile\\\\train\\\\HE\\\\OTS_14684_2_he\\\\3xy0393.png', '\\\\\\\\shelter\\\\Kyu\\\\unstain2stain\\\\unstain2stain_tile\\\\train\\\\HE\\\\OTS_14684_2_he\\\\3xy0394.png', '\\\\\\\\shelter\\\\Kyu\\\\unstain2stain\\\\unstain2stain_tile\\\\train\\\\HE\\\\OTS_14684_2_he\\\\3xy0395.png', '\\\\\\\\shelter\\\\Kyu\\\\unstain2stain\\\\unstain2stain_tile\\\\train\\\\HE\\\\OTS_14684_2_he\\\\3xy0427.png', '\\\\\\\\shelter\\\\Kyu\\\\unstain2stain\\\\unstain2stain_tile\\\\train\\\\HE\\\\OTS_14684_2_he\\\\3xy0428.png', '\\\\\\\\shelter\\\\Kyu\\\\unstain2stain\\\\unstain2stain_tile\\\\train\\\\HE\\\\OTS_14684_2_he\\\\3xy0429.png', '\\\\\\\\shelter\\\\Kyu\\\\unstain2stain\\\\unstain2stain_tile\\\\train\\\\HE\\\\OTS_14684_2_he\\\\3xy0430.png', '\\\\\\\\shelter\\\\Kyu\\\\unstain2stain\\\\unstain2stain_tile\\\\train\\\\HE\\\\OTS_14684_2_he\\\\3xy0431.png', '\\\\\\\\shelter\\\\Kyu\\\\unstain2stain\\\\unstain2stain_tile\\\\train\\\\HE\\\\OTS_14684_2_he\\\\3xy0461.png', '\\\\\\\\shelter\\\\Kyu\\\\unstain2stain\\\\unstain2stain_tile\\\\train\\\\HE\\\\OTS_14684_2_he\\\\3xy0462.png', '\\\\\\\\shelter\\\\Kyu\\\\unstain2stain\\\\unstain2stain_tile\\\\train\\\\HE\\\\OTS_14684_2_he\\\\3xy0463.png', '\\\\\\\\shelter\\\\Kyu\\\\unstain2stain\\\\unstain2stain_tile\\\\train\\\\HE\\\\OTS_14684_2_he\\\\3xy0464.png', '\\\\\\\\shelter\\\\Kyu\\\\unstain2stain\\\\unstain2stain_tile\\\\train\\\\HE\\\\OTS_14684_2_he\\\\3xy0467.png', '\\\\\\\\shelter\\\\Kyu\\\\unstain2stain\\\\unstain2stain_tile\\\\train\\\\HE\\\\OTS_14684_2_he\\\\3xy0496.png', '\\\\\\\\shelter\\\\Kyu\\\\unstain2stain\\\\unstain2stain_tile\\\\train\\\\HE\\\\OTS_14684_2_he\\\\3xy0497.png', '\\\\\\\\shelter\\\\Kyu\\\\unstain2stain\\\\unstain2stain_tile\\\\train\\\\HE\\\\OTS_14684_2_he\\\\3xy0498.png', '\\\\\\\\shelter\\\\Kyu\\\\unstain2stain\\\\unstain2stain_tile\\\\train\\\\HE\\\\OTS_14684_2_he\\\\3xy0531.png', '\\\\\\\\shelter\\\\Kyu\\\\unstain2stain\\\\unstain2stain_tile\\\\train\\\\HE\\\\OTS_14684_2_he\\\\3xy0532.png', '\\\\\\\\shelter\\\\Kyu\\\\unstain2stain\\\\unstain2stain_tile\\\\train\\\\HE\\\\OTS_14684_2_he\\\\3xy0533.png', '\\\\\\\\shelter\\\\Kyu\\\\unstain2stain\\\\unstain2stain_tile\\\\train\\\\HE\\\\OTS_14684_2_he\\\\3xy0567.png', '\\\\\\\\shelter\\\\Kyu\\\\unstain2stain\\\\unstain2stain_tile\\\\train\\\\HE\\\\OTS_14684_2_he\\\\3xy0568.png', '\\\\\\\\shelter\\\\Kyu\\\\unstain2stain\\\\unstain2stain_tile\\\\train\\\\HE\\\\OTS_14684_2_he\\\\3xy0601.png', '\\\\\\\\shelter\\\\Kyu\\\\unstain2stain\\\\unstain2stain_tile\\\\train\\\\HE\\\\OTS_14684_2_he\\\\3xy0602.png', '\\\\\\\\shelter\\\\Kyu\\\\unstain2stain\\\\unstain2stain_tile\\\\train\\\\HE\\\\OTS_14684_2_he\\\\3xy0603.png', '\\\\\\\\shelter\\\\Kyu\\\\unstain2stain\\\\unstain2stain_tile\\\\train\\\\HE\\\\OTS_14684_2_he\\\\3xy0605.png', '\\\\\\\\shelter\\\\Kyu\\\\unstain2stain\\\\unstain2stain_tile\\\\train\\\\HE\\\\OTS_14684_2_he\\\\3xy0636.png', '\\\\\\\\shelter\\\\Kyu\\\\unstain2stain\\\\unstain2stain_tile\\\\train\\\\HE\\\\OTS_14684_2_he\\\\3xy0637.png', '\\\\\\\\shelter\\\\Kyu\\\\unstain2stain\\\\unstain2stain_tile\\\\train\\\\HE\\\\OTS_14684_2_he\\\\3xy0638.png', '\\\\\\\\shelter\\\\Kyu\\\\unstain2stain\\\\unstain2stain_tile\\\\train\\\\HE\\\\OTS_14684_2_he\\\\3xy0641.png', '\\\\\\\\shelter\\\\Kyu\\\\unstain2stain\\\\unstain2stain_tile\\\\train\\\\HE\\\\OTS_14684_2_he\\\\3xy0642.png', '\\\\\\\\shelter\\\\Kyu\\\\unstain2stain\\\\unstain2stain_tile\\\\train\\\\HE\\\\OTS_14684_2_he\\\\3xy0672.png', '\\\\\\\\shelter\\\\Kyu\\\\unstain2stain\\\\unstain2stain_tile\\\\train\\\\HE\\\\OTS_14684_2_he\\\\3xy0673.png', '\\\\\\\\shelter\\\\Kyu\\\\unstain2stain\\\\unstain2stain_tile\\\\train\\\\HE\\\\OTS_14684_2_he\\\\3xy0677.png', '\\\\\\\\shelter\\\\Kyu\\\\unstain2stain\\\\unstain2stain_tile\\\\train\\\\HE\\\\OTS_14684_2_he\\\\3xy0678.png', '\\\\\\\\shelter\\\\Kyu\\\\unstain2stain\\\\unstain2stain_tile\\\\train\\\\HE\\\\OTS_14684_2_he\\\\3xy0707.png', '\\\\\\\\shelter\\\\Kyu\\\\unstain2stain\\\\unstain2stain_tile\\\\train\\\\HE\\\\OTS_14684_2_he\\\\3xy0741.png', '\\\\\\\\shelter\\\\Kyu\\\\unstain2stain\\\\unstain2stain_tile\\\\train\\\\HE\\\\OTS_14684_2_he\\\\3xy0742.png', '\\\\\\\\shelter\\\\Kyu\\\\unstain2stain\\\\unstain2stain_tile\\\\train\\\\HE\\\\OTS_14684_2_he\\\\3xy0776.png', '\\\\\\\\shelter\\\\Kyu\\\\unstain2stain\\\\unstain2stain_tile\\\\train\\\\HE\\\\OTS_14684_2_he\\\\3xy0777.png', '\\\\\\\\shelter\\\\Kyu\\\\unstain2stain\\\\unstain2stain_tile\\\\train\\\\HE\\\\OTS_14684_2_he\\\\3xy0812.png', '\\\\\\\\shelter\\\\Kyu\\\\unstain2stain\\\\unstain2stain_tile\\\\train\\\\HE\\\\OTS_14684_2_he\\\\3xy0813.png', '\\\\\\\\shelter\\\\Kyu\\\\unstain2stain\\\\unstain2stain_tile\\\\train\\\\HE\\\\OTS_14684_2_he\\\\3xy0848.png', '\\\\\\\\shelter\\\\Kyu\\\\unstain2stain\\\\unstain2stain_tile\\\\train\\\\HE\\\\OTS_14684_2_he\\\\3xy0849.png', '\\\\\\\\shelter\\\\Kyu\\\\unstain2stain\\\\unstain2stain_tile\\\\train\\\\HE\\\\OTS_14684_2_he\\\\3xy0850.png', '\\\\\\\\shelter\\\\Kyu\\\\unstain2stain\\\\unstain2stain_tile\\\\train\\\\HE\\\\OTS_14684_2_he\\\\3xy0851.png', '\\\\\\\\shelter\\\\Kyu\\\\unstain2stain\\\\unstain2stain_tile\\\\train\\\\HE\\\\OTS_14684_2_he\\\\3xy0883.png', '\\\\\\\\shelter\\\\Kyu\\\\unstain2stain\\\\unstain2stain_tile\\\\train\\\\HE\\\\OTS_14684_2_he\\\\3xy0884.png', '\\\\\\\\shelter\\\\Kyu\\\\unstain2stain\\\\unstain2stain_tile\\\\train\\\\HE\\\\OTS_14684_2_he\\\\3xy0919.png', '\\\\\\\\shelter\\\\Kyu\\\\unstain2stain\\\\unstain2stain_tile\\\\train\\\\HE\\\\OTS_14684_2_he\\\\3xy0955.png', '\\\\\\\\shelter\\\\Kyu\\\\unstain2stain\\\\unstain2stain_tile\\\\train\\\\HE\\\\OTS_14684_2_he\\\\3xy0989.png', '\\\\\\\\shelter\\\\Kyu\\\\unstain2stain\\\\unstain2stain_tile\\\\train\\\\HE\\\\OTS_14684_2_he\\\\3xy0990.png', '\\\\\\\\shelter\\\\Kyu\\\\unstain2stain\\\\unstain2stain_tile\\\\train\\\\HE\\\\OTS_14684_2_he\\\\3xy1023.png', '\\\\\\\\shelter\\\\Kyu\\\\unstain2stain\\\\unstain2stain_tile\\\\train\\\\HE\\\\OTS_14684_2_he\\\\3xy1024.png', '\\\\\\\\shelter\\\\Kyu\\\\unstain2stain\\\\unstain2stain_tile\\\\train\\\\HE\\\\OTS_14684_2_he\\\\3xy1025.png', '\\\\\\\\shelter\\\\Kyu\\\\unstain2stain\\\\unstain2stain_tile\\\\train\\\\HE\\\\OTS_14684_2_he\\\\3xy1026.png', '\\\\\\\\shelter\\\\Kyu\\\\unstain2stain\\\\unstain2stain_tile\\\\train\\\\HE\\\\OTS_14684_2_he\\\\3xy1059.png', '\\\\\\\\shelter\\\\Kyu\\\\unstain2stain\\\\unstain2stain_tile\\\\train\\\\HE\\\\OTS_14684_2_he\\\\3xy1060.png', '\\\\\\\\shelter\\\\Kyu\\\\unstain2stain\\\\unstain2stain_tile\\\\train\\\\HE\\\\OTS_14684_2_he\\\\3xy1061.png', '\\\\\\\\shelter\\\\Kyu\\\\unstain2stain\\\\unstain2stain_tile\\\\train\\\\HE\\\\OTS_14684_2_he\\\\3xy1095.png', '\\\\\\\\shelter\\\\Kyu\\\\unstain2stain\\\\unstain2stain_tile\\\\train\\\\HE\\\\OTS_14684_2_he\\\\3xy1129.png', '\\\\\\\\shelter\\\\Kyu\\\\unstain2stain\\\\unstain2stain_tile\\\\train\\\\HE\\\\OTS_14684_2_he\\\\3xy1130.png', '\\\\\\\\shelter\\\\Kyu\\\\unstain2stain\\\\unstain2stain_tile\\\\train\\\\HE\\\\OTS_14684_2_he\\\\3xy1131.png', '\\\\\\\\shelter\\\\Kyu\\\\unstain2stain\\\\unstain2stain_tile\\\\train\\\\HE\\\\OTS_14684_2_he\\\\3xy1165.png', '\\\\\\\\shelter\\\\Kyu\\\\unstain2stain\\\\unstain2stain_tile\\\\train\\\\HE\\\\OTS_14684_2_he\\\\3xy1200.png', '\\\\\\\\shelter\\\\Kyu\\\\unstain2stain\\\\unstain2stain_tile\\\\train\\\\HE\\\\OTS_14684_2_he\\\\3xy1201.png', '\\\\\\\\shelter\\\\Kyu\\\\unstain2stain\\\\unstain2stain_tile\\\\train\\\\HE\\\\OTS_14684_2_he\\\\3xy1236.png', '\\\\\\\\shelter\\\\Kyu\\\\unstain2stain\\\\unstain2stain_tile\\\\train\\\\HE\\\\OTS_14684_2_he\\\\3xy1272.png', '\\\\\\\\shelter\\\\Kyu\\\\unstain2stain\\\\unstain2stain_tile\\\\train\\\\HE\\\\OTS_14684_2_he\\\\3xy1307.png', '\\\\\\\\shelter\\\\Kyu\\\\unstain2stain\\\\unstain2stain_tile\\\\train\\\\HE\\\\OTS_14684_2_he\\\\3xy1308.png', '\\\\\\\\shelter\\\\Kyu\\\\unstain2stain\\\\unstain2stain_tile\\\\train\\\\HE\\\\OTS_14684_2_he\\\\3xy1343.png', '\\\\\\\\shelter\\\\Kyu\\\\unstain2stain\\\\unstain2stain_tile\\\\train\\\\HE\\\\OTS_14684_2_he\\\\3xy1378.png', '\\\\\\\\shelter\\\\Kyu\\\\unstain2stain\\\\unstain2stain_tile\\\\train\\\\HE\\\\OTS_14684_2_he\\\\3xy1379.png', '\\\\\\\\shelter\\\\Kyu\\\\unstain2stain\\\\unstain2stain_tile\\\\train\\\\HE\\\\OTS_14684_2_he\\\\3xy1393.png', '\\\\\\\\shelter\\\\Kyu\\\\unstain2stain\\\\unstain2stain_tile\\\\train\\\\HE\\\\OTS_14684_2_he\\\\3xy1413.png', '\\\\\\\\shelter\\\\Kyu\\\\unstain2stain\\\\unstain2stain_tile\\\\train\\\\HE\\\\OTS_14684_2_he\\\\3xy1414.png', '\\\\\\\\shelter\\\\Kyu\\\\unstain2stain\\\\unstain2stain_tile\\\\train\\\\HE\\\\OTS_14684_2_he\\\\3xy1415.png', '\\\\\\\\shelter\\\\Kyu\\\\unstain2stain\\\\unstain2stain_tile\\\\train\\\\HE\\\\OTS_14684_2_he\\\\4xy0425.png', '\\\\\\\\shelter\\\\Kyu\\\\unstain2stain\\\\unstain2stain_tile\\\\train\\\\HE\\\\OTS_14684_2_he\\\\4xy0449.png', '\\\\\\\\shelter\\\\Kyu\\\\unstain2stain\\\\unstain2stain_tile\\\\train\\\\HE\\\\OTS_14684_2_he\\\\4xy0450.png', '\\\\\\\\shelter\\\\Kyu\\\\unstain2stain\\\\unstain2stain_tile\\\\train\\\\HE\\\\OTS_14684_2_he\\\\4xy0474.png', '\\\\\\\\shelter\\\\Kyu\\\\unstain2stain\\\\unstain2stain_tile\\\\train\\\\HE\\\\OTS_14684_2_he\\\\4xy0475.png', '\\\\\\\\shelter\\\\Kyu\\\\unstain2stain\\\\unstain2stain_tile\\\\train\\\\HE\\\\OTS_14684_2_he\\\\4xy0498.png', '\\\\\\\\shelter\\\\Kyu\\\\unstain2stain\\\\unstain2stain_tile\\\\train\\\\HE\\\\OTS_14684_2_he\\\\4xy0521.png', '\\\\\\\\shelter\\\\Kyu\\\\unstain2stain\\\\unstain2stain_tile\\\\train\\\\HE\\\\OTS_14684_2_he\\\\4xy0522.png', '\\\\\\\\shelter\\\\Kyu\\\\unstain2stain\\\\unstain2stain_tile\\\\train\\\\HE\\\\OTS_14684_2_he\\\\4xy0545.png', '\\\\\\\\shelter\\\\Kyu\\\\unstain2stain\\\\unstain2stain_tile\\\\train\\\\HE\\\\OTS_14684_2_he\\\\4xy0546.png', '\\\\\\\\shelter\\\\Kyu\\\\unstain2stain\\\\unstain2stain_tile\\\\train\\\\HE\\\\OTS_14684_2_he\\\\4xy0570.png', '\\\\\\\\shelter\\\\Kyu\\\\unstain2stain\\\\unstain2stain_tile\\\\train\\\\HE\\\\OTS_14684_2_he\\\\4xy0571.png', '\\\\\\\\shelter\\\\Kyu\\\\unstain2stain\\\\unstain2stain_tile\\\\train\\\\HE\\\\OTS_14684_2_he\\\\4xy0595.png', '\\\\\\\\shelter\\\\Kyu\\\\unstain2stain\\\\unstain2stain_tile\\\\train\\\\HE\\\\OTS_14684_2_he\\\\4xy0596.png', '\\\\\\\\shelter\\\\Kyu\\\\unstain2stain\\\\unstain2stain_tile\\\\train\\\\HE\\\\OTS_14684_2_he\\\\4xy0597.png', '\\\\\\\\shelter\\\\Kyu\\\\unstain2stain\\\\unstain2stain_tile\\\\train\\\\HE\\\\OTS_14684_2_he\\\\4xy0598.png', '\\\\\\\\shelter\\\\Kyu\\\\unstain2stain\\\\unstain2stain_tile\\\\train\\\\HE\\\\OTS_14684_2_he\\\\4xy0619.png', '\\\\\\\\shelter\\\\Kyu\\\\unstain2stain\\\\unstain2stain_tile\\\\train\\\\HE\\\\OTS_14684_2_he\\\\4xy0620.png', '\\\\\\\\shelter\\\\Kyu\\\\unstain2stain\\\\unstain2stain_tile\\\\train\\\\HE\\\\OTS_14684_2_he\\\\4xy0644.png', '\\\\\\\\shelter\\\\Kyu\\\\unstain2stain\\\\unstain2stain_tile\\\\train\\\\HE\\\\OTS_14684_2_he\\\\4xy0669.png']\n"
     ]
    },
    {
     "name": "stderr",
     "output_type": "stream",
     "text": [
      "\n",
      "Images processed:   0%|\u001B[31m          \u001B[0m| 0/295 [00:00<?, ?it/s]\u001B[A\n",
      "Images processed:   1%|\u001B[31m          \u001B[0m| 2/295 [00:00<00:22, 12.78it/s]\u001B[A\n",
      "Images processed:   1%|\u001B[31m▏         \u001B[0m| 4/295 [00:00<00:26, 11.15it/s]\u001B[A\n",
      "Images processed:   2%|\u001B[31m▏         \u001B[0m| 6/295 [00:00<00:22, 12.58it/s]\u001B[A\n",
      "Images processed:   3%|\u001B[31m▎         \u001B[0m| 8/295 [00:00<00:21, 13.37it/s]\u001B[A\n",
      "Images processed:   3%|\u001B[31m▎         \u001B[0m| 10/295 [00:00<00:20, 14.13it/s]\u001B[A\n",
      "Images processed:   4%|\u001B[31m▍         \u001B[0m| 12/295 [00:00<00:19, 14.71it/s]\u001B[A\n",
      "Images processed:   5%|\u001B[31m▍         \u001B[0m| 14/295 [00:01<00:19, 14.63it/s]\u001B[A\n",
      "Images processed:   5%|\u001B[31m▌         \u001B[0m| 16/295 [00:01<00:19, 14.24it/s]\u001B[A\n",
      "Images processed:   6%|\u001B[31m▌         \u001B[0m| 18/295 [00:01<00:19, 14.09it/s]\u001B[A\n",
      "Images processed:   7%|\u001B[31m▋         \u001B[0m| 20/295 [00:01<00:19, 14.13it/s]\u001B[A\n",
      "Images processed:   7%|\u001B[31m▋         \u001B[0m| 22/295 [00:01<00:19, 14.22it/s]\u001B[A\n",
      "Images processed:   8%|\u001B[31m▊         \u001B[0m| 24/295 [00:01<00:19, 14.19it/s]\u001B[A\n",
      "Images processed:   9%|\u001B[31m▉         \u001B[0m| 26/295 [00:01<00:20, 13.38it/s]\u001B[A\n",
      "Images processed:   9%|\u001B[31m▉         \u001B[0m| 28/295 [00:02<00:19, 13.48it/s]\u001B[A\n",
      "Images processed:  10%|\u001B[31m█         \u001B[0m| 30/295 [00:02<00:19, 13.71it/s]\u001B[A\n",
      "Images processed:  11%|\u001B[31m█         \u001B[0m| 32/295 [00:02<00:18, 13.84it/s]\u001B[A\n",
      "Images processed:  12%|\u001B[31m█▏        \u001B[0m| 34/295 [00:02<00:18, 14.24it/s]\u001B[A\n",
      "Images processed:  12%|\u001B[31m█▏        \u001B[0m| 36/295 [00:02<00:18, 14.32it/s]\u001B[A\n",
      "Images processed:  13%|\u001B[31m█▎        \u001B[0m| 38/295 [00:02<00:18, 14.09it/s]\u001B[A\n",
      "Images processed:  14%|\u001B[31m█▎        \u001B[0m| 40/295 [00:02<00:18, 14.10it/s]\u001B[A\n",
      "Images processed:  14%|\u001B[31m█▍        \u001B[0m| 42/295 [00:03<00:18, 13.77it/s]\u001B[A\n",
      "Images processed:  15%|\u001B[31m█▍        \u001B[0m| 44/295 [00:03<00:18, 13.75it/s]\u001B[A\n",
      "Images processed:  16%|\u001B[31m█▌        \u001B[0m| 46/295 [00:03<00:18, 13.49it/s]\u001B[A\n",
      "Images processed:  16%|\u001B[31m█▋        \u001B[0m| 48/295 [00:03<00:18, 13.46it/s]\u001B[A\n",
      "Images processed:  17%|\u001B[31m█▋        \u001B[0m| 50/295 [00:03<00:17, 13.64it/s]\u001B[A\n",
      "Images processed:  18%|\u001B[31m█▊        \u001B[0m| 52/295 [00:03<00:17, 13.74it/s]\u001B[A\n",
      "Images processed:  18%|\u001B[31m█▊        \u001B[0m| 54/295 [00:03<00:17, 14.16it/s]\u001B[A\n",
      "Images processed:  19%|\u001B[31m█▉        \u001B[0m| 56/295 [00:04<00:17, 14.03it/s]\u001B[A\n",
      "Images processed:  20%|\u001B[31m█▉        \u001B[0m| 58/295 [00:04<00:16, 14.09it/s]\u001B[A\n",
      "Images processed:  20%|\u001B[31m██        \u001B[0m| 60/295 [00:04<00:17, 13.75it/s]\u001B[A\n",
      "Images processed:  21%|\u001B[31m██        \u001B[0m| 62/295 [00:04<00:16, 14.10it/s]\u001B[A\n",
      "Images processed:  22%|\u001B[31m██▏       \u001B[0m| 64/295 [00:04<00:16, 13.79it/s]\u001B[A\n",
      "Images processed:  22%|\u001B[31m██▏       \u001B[0m| 66/295 [00:04<00:16, 13.60it/s]\u001B[A\n",
      "Images processed:  23%|\u001B[31m██▎       \u001B[0m| 68/295 [00:04<00:16, 13.77it/s]\u001B[A\n",
      "Images processed:  24%|\u001B[31m██▎       \u001B[0m| 70/295 [00:05<00:16, 13.97it/s]\u001B[A\n",
      "Images processed:  24%|\u001B[31m██▍       \u001B[0m| 72/295 [00:05<00:15, 13.95it/s]\u001B[A\n",
      "Images processed:  25%|\u001B[31m██▌       \u001B[0m| 74/295 [00:05<00:16, 13.77it/s]\u001B[A\n",
      "Images processed:  26%|\u001B[31m██▌       \u001B[0m| 76/295 [00:05<00:15, 14.15it/s]\u001B[A\n",
      "Images processed:  26%|\u001B[31m██▋       \u001B[0m| 78/295 [00:05<00:15, 14.25it/s]\u001B[A\n",
      "Images processed:  27%|\u001B[31m██▋       \u001B[0m| 80/295 [00:05<00:15, 14.12it/s]\u001B[A\n",
      "Images processed:  28%|\u001B[31m██▊       \u001B[0m| 82/295 [00:05<00:15, 13.88it/s]\u001B[A\n",
      "Images processed:  28%|\u001B[31m██▊       \u001B[0m| 84/295 [00:06<00:15, 13.74it/s]\u001B[A\n",
      "Images processed:  29%|\u001B[31m██▉       \u001B[0m| 86/295 [00:06<00:15, 13.79it/s]\u001B[A\n",
      "Images processed:  30%|\u001B[31m██▉       \u001B[0m| 88/295 [00:06<00:15, 13.28it/s]\u001B[A\n",
      "Images processed:  31%|\u001B[31m███       \u001B[0m| 90/295 [00:06<00:15, 13.37it/s]\u001B[A\n",
      "Images processed:  31%|\u001B[31m███       \u001B[0m| 92/295 [00:06<00:15, 13.11it/s]\u001B[A\n",
      "Images processed:  32%|\u001B[31m███▏      \u001B[0m| 94/295 [00:06<00:15, 12.62it/s]\u001B[A\n",
      "Images processed:  33%|\u001B[31m███▎      \u001B[0m| 96/295 [00:07<00:15, 12.84it/s]\u001B[A\n",
      "Images processed:  33%|\u001B[31m███▎      \u001B[0m| 98/295 [00:07<00:15, 12.81it/s]\u001B[A\n",
      "Images processed:  34%|\u001B[31m███▍      \u001B[0m| 100/295 [00:07<00:15, 12.98it/s]\u001B[A\n",
      "Images processed:  35%|\u001B[31m███▍      \u001B[0m| 102/295 [00:07<00:14, 13.56it/s]\u001B[A\n",
      "Files processed:   4%|\u001B[31m▍         \u001B[0m| 1/25 [00:27<10:52, 27.18s/it]\n"
     ]
    },
    {
     "ename": "KeyboardInterrupt",
     "evalue": "",
     "output_type": "error",
     "traceback": [
      "\u001B[1;31m---------------------------------------------------------------------------\u001B[0m",
      "\u001B[1;31mKeyboardInterrupt\u001B[0m                         Traceback (most recent call last)",
      "Cell \u001B[1;32mIn[22], line 34\u001B[0m\n\u001B[0;32m     32\u001B[0m imgfn, _ \u001B[38;5;241m=\u001B[39m os\u001B[38;5;241m.\u001B[39mpath\u001B[38;5;241m.\u001B[39msplitext(os\u001B[38;5;241m.\u001B[39mpath\u001B[38;5;241m.\u001B[39mbasename(heimgsrc[idx1]))\n\u001B[0;32m     33\u001B[0m save_src_pkl1 \u001B[38;5;241m=\u001B[39m os\u001B[38;5;241m.\u001B[39mpath\u001B[38;5;241m.\u001B[39mjoin(save_src_pkl, imgfn \u001B[38;5;241m+\u001B[39m \u001B[38;5;124m\"\u001B[39m\u001B[38;5;124m.pkl\u001B[39m\u001B[38;5;124m\"\u001B[39m)\n\u001B[1;32m---> 34\u001B[0m DLarr \u001B[38;5;241m=\u001B[39m \u001B[43mnp\u001B[49m\u001B[38;5;241;43m.\u001B[39;49m\u001B[43marray\u001B[49m\u001B[43m(\u001B[49m\u001B[43mDLarr\u001B[49m\u001B[43m)\u001B[49m\n\u001B[0;32m     35\u001B[0m DLarr_flatten \u001B[38;5;241m=\u001B[39m DLarr\u001B[38;5;241m.\u001B[39mflatten()\n\u001B[0;32m     36\u001B[0m hist \u001B[38;5;241m=\u001B[39m np\u001B[38;5;241m.\u001B[39mbincount(DLarr_flatten) \u001B[38;5;66;03m#dl mask\u001B[39;00m\n",
      "File \u001B[1;32m~\\.conda\\envs\\wsi_analysis1\\lib\\site-packages\\PIL\\Image.py:688\u001B[0m, in \u001B[0;36mImage.__array_interface__\u001B[1;34m(self)\u001B[0m\n\u001B[0;32m    686\u001B[0m         new[\u001B[38;5;124m\"\u001B[39m\u001B[38;5;124mdata\u001B[39m\u001B[38;5;124m\"\u001B[39m] \u001B[38;5;241m=\u001B[39m \u001B[38;5;28mself\u001B[39m\u001B[38;5;241m.\u001B[39mtobytes(\u001B[38;5;124m\"\u001B[39m\u001B[38;5;124mraw\u001B[39m\u001B[38;5;124m\"\u001B[39m, \u001B[38;5;124m\"\u001B[39m\u001B[38;5;124mL\u001B[39m\u001B[38;5;124m\"\u001B[39m)\n\u001B[0;32m    687\u001B[0m     \u001B[38;5;28;01melse\u001B[39;00m:\n\u001B[1;32m--> 688\u001B[0m         new[\u001B[38;5;124m\"\u001B[39m\u001B[38;5;124mdata\u001B[39m\u001B[38;5;124m\"\u001B[39m] \u001B[38;5;241m=\u001B[39m \u001B[38;5;28;43mself\u001B[39;49m\u001B[38;5;241;43m.\u001B[39;49m\u001B[43mtobytes\u001B[49m\u001B[43m(\u001B[49m\u001B[43m)\u001B[49m\n\u001B[0;32m    689\u001B[0m \u001B[38;5;28;01mexcept\u001B[39;00m \u001B[38;5;167;01mException\u001B[39;00m \u001B[38;5;28;01mas\u001B[39;00m e:\n\u001B[0;32m    690\u001B[0m     \u001B[38;5;28;01mif\u001B[39;00m \u001B[38;5;129;01mnot\u001B[39;00m \u001B[38;5;28misinstance\u001B[39m(e, (\u001B[38;5;167;01mMemoryError\u001B[39;00m, \u001B[38;5;167;01mRecursionError\u001B[39;00m)):\n",
      "File \u001B[1;32m~\\.conda\\envs\\wsi_analysis1\\lib\\site-packages\\PIL\\Image.py:746\u001B[0m, in \u001B[0;36mImage.tobytes\u001B[1;34m(self, encoder_name, *args)\u001B[0m\n\u001B[0;32m    743\u001B[0m \u001B[38;5;28;01mif\u001B[39;00m encoder_name \u001B[38;5;241m==\u001B[39m \u001B[38;5;124m\"\u001B[39m\u001B[38;5;124mraw\u001B[39m\u001B[38;5;124m\"\u001B[39m \u001B[38;5;129;01mand\u001B[39;00m args \u001B[38;5;241m==\u001B[39m ():\n\u001B[0;32m    744\u001B[0m     args \u001B[38;5;241m=\u001B[39m \u001B[38;5;28mself\u001B[39m\u001B[38;5;241m.\u001B[39mmode\n\u001B[1;32m--> 746\u001B[0m \u001B[38;5;28;43mself\u001B[39;49m\u001B[38;5;241;43m.\u001B[39;49m\u001B[43mload\u001B[49m\u001B[43m(\u001B[49m\u001B[43m)\u001B[49m\n\u001B[0;32m    748\u001B[0m \u001B[38;5;28;01mif\u001B[39;00m \u001B[38;5;28mself\u001B[39m\u001B[38;5;241m.\u001B[39mwidth \u001B[38;5;241m==\u001B[39m \u001B[38;5;241m0\u001B[39m \u001B[38;5;129;01mor\u001B[39;00m \u001B[38;5;28mself\u001B[39m\u001B[38;5;241m.\u001B[39mheight \u001B[38;5;241m==\u001B[39m \u001B[38;5;241m0\u001B[39m:\n\u001B[0;32m    749\u001B[0m     \u001B[38;5;28;01mreturn\u001B[39;00m \u001B[38;5;124mb\u001B[39m\u001B[38;5;124m\"\u001B[39m\u001B[38;5;124m\"\u001B[39m\n",
      "File \u001B[1;32m~\\.conda\\envs\\wsi_analysis1\\lib\\site-packages\\PIL\\ImageFile.py:260\u001B[0m, in \u001B[0;36mImageFile.load\u001B[1;34m(self)\u001B[0m\n\u001B[0;32m    254\u001B[0m         \u001B[38;5;28;01mraise\u001B[39;00m \u001B[38;5;167;01mOSError\u001B[39;00m(\n\u001B[0;32m    255\u001B[0m             \u001B[38;5;124m\"\u001B[39m\u001B[38;5;124mimage file is truncated \u001B[39m\u001B[38;5;124m\"\u001B[39m\n\u001B[0;32m    256\u001B[0m             \u001B[38;5;124mf\u001B[39m\u001B[38;5;124m\"\u001B[39m\u001B[38;5;124m(\u001B[39m\u001B[38;5;132;01m{\u001B[39;00m\u001B[38;5;28mlen\u001B[39m(b)\u001B[38;5;132;01m}\u001B[39;00m\u001B[38;5;124m bytes not processed)\u001B[39m\u001B[38;5;124m\"\u001B[39m\n\u001B[0;32m    257\u001B[0m         )\n\u001B[0;32m    259\u001B[0m b \u001B[38;5;241m=\u001B[39m b \u001B[38;5;241m+\u001B[39m s\n\u001B[1;32m--> 260\u001B[0m n, err_code \u001B[38;5;241m=\u001B[39m \u001B[43mdecoder\u001B[49m\u001B[38;5;241;43m.\u001B[39;49m\u001B[43mdecode\u001B[49m\u001B[43m(\u001B[49m\u001B[43mb\u001B[49m\u001B[43m)\u001B[49m\n\u001B[0;32m    261\u001B[0m \u001B[38;5;28;01mif\u001B[39;00m n \u001B[38;5;241m<\u001B[39m \u001B[38;5;241m0\u001B[39m:\n\u001B[0;32m    262\u001B[0m     \u001B[38;5;28;01mbreak\u001B[39;00m\n",
      "\u001B[1;31mKeyboardInterrupt\u001B[0m: "
     ]
    }
   ],
   "source": [
    "all_df_src = r'\\\\shelter\\Kyu\\unstain2stain\\unstain2stain_wsi\\wsi_list_230314.xlsx'\n",
    "all_df = pd.read_excel(all_df_src)\n",
    "desired_df_name = all_df[all_df.scan_batch == 3] # CLUE\n",
    "desired_df_name1 = all_df[all_df.scan_batch == 4] # CLUE\n",
    "desired_name = list(desired_df_name.wsi_name)\n",
    "desired_name1 = list(desired_df_name1.wsi_name)\n",
    "desired_names = desired_name + desired_name1\n",
    "desired_names = [x for x in desired_names if x[-3:] == \"_he\"]\n",
    "desired_names = [x+\".png\" for x in desired_names]\n",
    "masksrc = r'\\\\shelter\\Kyu\\unstain2stain\\unstain2stain_wsi\\HE\\1um\\classification_v9_combined'\n",
    "desired_mask_src = [os.path.join(masksrc,x) for x in desired_names]\n",
    "desired_mask_src = natsorted(desired_mask_src)\n",
    "desired_mask_names = [os.path.splitext(os.path.basename(x))[0] for x in desired_mask_src]\n",
    "\n",
    "pkl_save_path = r'\\\\shelter\\Kyu\\unstain2stain\\unstain2stain_tile\\train\\tile_composition'\n",
    "class_list = list(['corneum','spinosum','hairshaft','hairfollicle','smoothmuscle','oil','sweat','nerve','bloodvessel','ecm','fat','white'])\n",
    "desired_train_src = r'\\\\shelter\\Kyu\\unstain2stain\\unstain2stain_tile\\train\\HE'\n",
    "desired_train_path = [os.path.join(desired_train_src,x) for x in os.listdir(desired_train_src)]\n",
    "desired_train_path = natsorted(desired_train_path)\n",
    "\n",
    "for idx in tqdm(range(len(desired_mask_src)),total=len(desired_mask_src),desc = 'Masks/Folders processed',colour='red'): # len and idx of mask and he img folder is the same\n",
    "    masksrc = desired_mask_src[idx]\n",
    "    mask = Image.open(masksrc)\n",
    "    save_src_pkl = os.path.join(pkl_save_path,desired_mask_names[idx])\n",
    "    if not os.path.exists(save_src_pkl):\n",
    "        os.makedirs(save_src_pkl)\n",
    "    heimgsrc = [x for x in os.listdir(desired_train_path[idx])]\n",
    "    heimgsrc = [os.path.join(desired_train_path[idx],x) for x in heimgsrc] # list of all wsi folders in registrated HE\n",
    "    print(\"Processing mask {} and image {}\".format(masksrc,heimgsrc))\n",
    "    heimg_folder = heimgsrc[idx]\n",
    "    heimg_list = [x for x in os.listdir(heimg_folder) if x.endswith(\".png\")]\n",
    "    for idx1 in tqdm(range(len(heimg_list)),total = len(heimgsrc), colour='red',desc='Images processed'):\n",
    "        imgfn, _ = os.path.splitext(os.path.basename(heimgsrc[idx1]))\n",
    "        tmp = os.path.splitext('1126_1126xy0001.png')[0]\n",
    "        x = tmp.split(\"_\")[0]\n",
    "        tmp1 = tmp.split(\"_\")[1]\n",
    "        y = tmp1.split(\"xy\")[0]\n",
    "\n",
    "\n",
    "\n",
    "\n",
    "\n",
    "\n",
    "        save_src_pkl1 = os.path.join(save_src_pkl, imgfn + \".pkl\")\n",
    "        DLarr = np.array(DLarr)\n",
    "        DLarr_flatten = DLarr.flatten()\n",
    "        hist = np.bincount(DLarr_flatten) #dl mask\n",
    "        hist = hist/np.sum(hist)*100\n",
    "        count_list = list(hist)\n",
    "        del(count_list[0])\n",
    "        count_list = [np.round(x,3) for x in count_list]\n",
    "        ratio_class_dict = dict(zip(class_list,count_list))\n",
    "        tmp_df = pd.DataFrame.from_dict(ratio_class_dict,orient='index')\n",
    "        comps_df = pd.concat([comps_df,pd.DataFrame.from_dict(tmp_df)],axis=1)\n",
    "        comps_df.dropna()\n",
    "        comps_df.rename(columns = {0:'composition'}, inplace=True)\n",
    "        comps_df.to_pickle(save_src_pkl1)"
   ],
   "metadata": {
    "collapsed": false
   }
  },
  {
   "cell_type": "code",
   "execution_count": 17,
   "outputs": [
    {
     "data": {
      "text/plain": "'1126'"
     },
     "execution_count": 17,
     "metadata": {},
     "output_type": "execute_result"
    }
   ],
   "source": [
    "a = os.path.splitext('1126_1126xy0001.png')\n",
    "b = a[0].split(\"_\")[1]\n",
    "b.split(\"xy\")[0]"
   ],
   "metadata": {
    "collapsed": false
   }
  },
  {
   "cell_type": "code",
   "execution_count": null,
   "outputs": [],
   "source": [
    "    try:\n",
    "        DLarr = Image.open(desired_mask_src[idx])\n",
    "    except:\n",
    "        print(\"Image {} not available, since corrupted.\".format(desired_mask_src[idx]))\n",
    "        continue\n",
    "    else:\n",
    "        print(\"Image {} available, analyzing tissue composition:\".format(desired_mask_src[idx]))"
   ],
   "metadata": {
    "collapsed": false
   }
  }
 ],
 "metadata": {
  "kernelspec": {
   "display_name": "Python 3",
   "language": "python",
   "name": "python3"
  },
  "language_info": {
   "codemirror_mode": {
    "name": "ipython",
    "version": 2
   },
   "file_extension": ".py",
   "mimetype": "text/x-python",
   "name": "python",
   "nbconvert_exporter": "python",
   "pygments_lexer": "ipython2",
   "version": "2.7.6"
  }
 },
 "nbformat": 4,
 "nbformat_minor": 0
}
