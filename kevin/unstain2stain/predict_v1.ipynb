{
 "cells": [
  {
   "cell_type": "code",
   "execution_count": 3,
   "outputs": [],
   "source": [
    "#importing openslide:\n",
    "OPENSLIDE_PATH = r'C:\\Users\\Kevin\\Desktop\\openslide-win64-20221217\\bin'\n",
    "\n",
    "import os\n",
    "\n",
    "if hasattr(os, 'add_dll_directory'):\n",
    "    # Python >= 3.8 on Windows\n",
    "    with os.add_dll_directory(OPENSLIDE_PATH):\n",
    "        import openslide\n",
    "else:\n",
    "    import openslide"
   ],
   "metadata": {
    "collapsed": false
   }
  },
  {
   "cell_type": "code",
   "execution_count": 4,
   "outputs": [],
   "source": [
    "import numpy as np\n",
    "import os\n",
    "from PIL import Image\n",
    "Image.MAX_IMAGE_PIXELS = None\n",
    "import cv2\n",
    "import os\n",
    "from matplotlib import pyplot as plt\n",
    "from skimage.morphology import remove_small_objects, remove_small_holes\n",
    "from skimage.color import rgb2gray\n",
    "from skimage.transform import warp\n",
    "from skimage.registration import optical_flow_tvl1, optical_flow_ilk\n",
    "import xml.etree.ElementTree as ET\n",
    "import pandas as pd\n",
    "import skimage.measure\n",
    "import scipy.stats as stats\n",
    "from time import time\n",
    "from skimage.measure import label, regionprops_table"
   ],
   "metadata": {
    "collapsed": false
   }
  },
  {
   "cell_type": "code",
   "execution_count": 5,
   "outputs": [],
   "source": [
    "#stitch tiles into wsi\n",
    "def stitch(tiles,img_height,img_width,img_height2,img_width2,channels):\n",
    "    wsi = tiles.swapaxes(1,2)\n",
    "    wsi = wsi.reshape(img_height2,img_width2,channels) #tiles are padded, so use padded image size to stitch\n",
    "    wsi = wsi[:img_height,:img_width,:] #remove pad\n",
    "    return np.squeeze(wsi)"
   ],
   "metadata": {
    "collapsed": false
   }
  },
  {
   "cell_type": "code",
   "execution_count": null,
   "outputs": [],
   "source": [
    "# src = r'\\\\shelter\\Kyu\\unstain2stain\\unstain2stain_wsi\\Unstained'\n",
    "# imnm = 'OTS_14684_3.ndpi'\n",
    "# imobj = openslide.open_slide(os.path.join(src,imnm))\n",
    "# imobj = imobj.read_region(location=(0,0),level=1,size=imobj.level_dimensions[1])\n",
    "# imobj.level_dimensions[1]"
   ],
   "metadata": {
    "collapsed": false,
    "pycharm": {
     "is_executing": true
    }
   }
  },
  {
   "cell_type": "code",
   "execution_count": 6,
   "outputs": [],
   "source": [
    "#wsi to tiles\n",
    "def reshape_split(image:np.ndarray,kernel_size:tuple):\n",
    "    img_height,img_width,channels=image.shape\n",
    "    tile_height,tile_width = kernel_size\n",
    "    tiled_array = image.reshape(img_height//tile_height,\n",
    "                                tile_height,\n",
    "                                img_width//tile_width,\n",
    "                                tile_width,\n",
    "                                channels)\n",
    "    tiled_array = tiled_array.swapaxes(1,2)\n",
    "    return tiled_array"
   ],
   "metadata": {
    "collapsed": false
   }
  },
  {
   "cell_type": "code",
   "execution_count": 14,
   "outputs": [],
   "source": [
    "src = r'\\\\shelter\\Kyu\\unstain2stain\\unstain2stain_wsi\\Unstained'\n",
    "imnm = 'OTS_14684_3.ndpi'\n",
    "imobj = openslide.open_slide(os.path.join(src,imnm))\n",
    "imobj = imobj.read_region(location=(0,0),level=1,size=imobj.level_dimensions[1])\n",
    "\n",
    "# Image to Array\n",
    "imnp = np.array(imobj)\n",
    "imobj.close()\n",
    "h,w,_=imnp.shape\n",
    "tile_height, tile_width = (1024,1024)\n",
    "# Padding\n",
    "imnpr = np.pad(imnp, pad_width=[(0, tile_height-h%tile_height),(0, tile_width-w%tile_width),(0, 0)], mode='constant', constant_values=0)\n",
    "# imnpr = imnpr / 127.5 - 1 #normalize [-1 1]\n",
    "# imnpr = imnpr / 255 #normalize [0 1]\n",
    "img_height2,img_width2,channels=imnpr.shape\n",
    "# Tile\n",
    "tiles = reshape_split(imnpr, (1024,1024))"
   ],
   "metadata": {
    "collapsed": false
   }
  },
  {
   "cell_type": "code",
   "execution_count": 15,
   "outputs": [],
   "source": [
    "save_src = r'\\\\shelter\\Kyu\\unstain2stain\\tiles\\not_registrated\\Unstained'\n",
    "for idx in range(0,tiles.shape[0]):\n",
    "    for idx1 in range(0,tiles.shape[1]):\n",
    "        tmp_tile = tiles[idx][idx1]\n",
    "        save_path = os.path.join(save_src,str(idx)+str(idx1)+'tile'+'.png')\n",
    "        Image.fromarray(tmp_tile).save(save_path)"
   ],
   "metadata": {
    "collapsed": false
   }
  },
  {
   "cell_type": "code",
   "execution_count": 16,
   "outputs": [],
   "source": [
    "src = r'\\\\shelter\\Kyu\\unstain2stain\\unstain2stain_wsi\\HE'\n",
    "imnm = 'OTS_14684_3_he.ndpi'\n",
    "imobj = openslide.open_slide(os.path.join(src,imnm))\n",
    "imobj = imobj.read_region(location=(0,0),level=1,size=imobj.level_dimensions[1])\n",
    "\n",
    "# Image to Array\n",
    "imnp = np.array(imobj)\n",
    "imobj.close()\n",
    "h,w,_=imnp.shape\n",
    "tile_height, tile_width = (1024,1024)\n",
    "# Padding\n",
    "imnpr = np.pad(imnp, pad_width=[(0, tile_height-h%tile_height),(0, tile_width-w%tile_width),(0, 0)], mode='constant', constant_values=0)\n",
    "# imnpr = imnpr / 127.5 - 1 #normalize [-1 1]\n",
    "# imnpr = imnpr / 255 #normalize [0 1]\n",
    "img_height2,img_width2,channels=imnpr.shape\n",
    "# Tile\n",
    "tiles = reshape_split(imnpr, (1024,1024))"
   ],
   "metadata": {
    "collapsed": false
   }
  },
  {
   "cell_type": "code",
   "execution_count": 18,
   "outputs": [],
   "source": [
    "save_src = r'\\\\shelter\\Kyu\\unstain2stain\\tiles\\not_registrated\\HE'\n",
    "for idx in range(0,tiles.shape[0]):\n",
    "    for idx1 in range(0,tiles.shape[1]):\n",
    "        tmp_tile = tiles[idx][idx1]\n",
    "        save_path = os.path.join(save_src,str(idx)+str(idx1)+'tile'+'.png')\n",
    "        Image.fromarray(tmp_tile).save(save_path)"
   ],
   "metadata": {
    "collapsed": false
   }
  },
  {
   "cell_type": "markdown",
   "source": [
    "### The tile generation code above is unregistered, I ran a code in matlab to generate the registered tiles, which have almost the same # of tiles, except that there are some missing images. Find the difference:"
   ],
   "metadata": {
    "collapsed": false
   }
  },
  {
   "cell_type": "code",
   "execution_count": 23,
   "outputs": [],
   "source": [
    "unstain_tile_src = r'\\\\shelter\\Kyu\\unstain2stain\\tiles\\registrated_tiles\\HE\\OTS_14832_3_he'\n",
    "stain_tile_src = r'\\\\shelter\\Kyu\\unstain2stain\\tiles\\registrated_tiles\\Unstained\\OTS_14832_3'"
   ],
   "metadata": {
    "collapsed": false
   }
  },
  {
   "cell_type": "code",
   "execution_count": 27,
   "outputs": [],
   "source": [
    "unstain_tile_name = os.listdir(unstain_tile_src)\n",
    "stain_tile_name = os.listdir(stain_tile_src)"
   ],
   "metadata": {
    "collapsed": false
   }
  },
  {
   "cell_type": "code",
   "execution_count": 31,
   "outputs": [
    {
     "name": "stdout",
     "output_type": "stream",
     "text": [
      "10996\n",
      "10999\n"
     ]
    }
   ],
   "source": [
    "print(len(stain_tile_name))\n",
    "print(len(unstain_tile_name))"
   ],
   "metadata": {
    "collapsed": false
   }
  },
  {
   "cell_type": "code",
   "execution_count": 43,
   "outputs": [],
   "source": [
    "unstain_tile_base = [os.path.basename(x) for x in unstain_tile_name]\n",
    "stain_tile_base = [os.path.basename(x) for x in stain_tile_name]\n",
    "unstain_list = [ x[-10:-4] for x in unstain_tile_base]\n",
    "stain_list = [ x[-10:-4] for x in stain_tile_base]"
   ],
   "metadata": {
    "collapsed": false
   }
  },
  {
   "cell_type": "code",
   "execution_count": 44,
   "outputs": [
    {
     "data": {
      "text/plain": "['xy0143', 'xy0718', 'xy1118']"
     },
     "execution_count": 44,
     "metadata": {},
     "output_type": "execute_result"
    }
   ],
   "source": [
    "not_in_stain = [x for x in unstain_list if x not in stain_list]\n",
    "not_in_stain"
   ],
   "metadata": {
    "collapsed": false
   }
  },
  {
   "cell_type": "markdown",
   "source": [
    "### Found the three differences- delete them from unstained, and run inference on pix2pix project. After inference, stitch back image:"
   ],
   "metadata": {
    "collapsed": false
   }
  },
  {
   "cell_type": "code",
   "execution_count": 7,
   "outputs": [
    {
     "name": "stdout",
     "output_type": "stream",
     "text": [
      "10995\n"
     ]
    }
   ],
   "source": [
    "inferred_src = r'C:\\Users\\Kevin\\PycharmProjects\\pix2pix\\pytorch-CycleGAN-and-pix2pix\\results\\unstain2stain_pix2pix\\test_pix2pix_latest\\images'\n",
    "inferred_list = os.listdir(inferred_src)\n",
    "inferred_name = [os.path.basename(x) for x in inferred_list]\n",
    "real_inferred2 = [x for x in inferred_name if x[-10:-4]  == 'real_B']\n",
    "real_inferred_src = [os.path.join(inferred_src,x) for x in real_inferred2]\n",
    "print(len(real_inferred_src)) #10995"
   ],
   "metadata": {
    "collapsed": false
   }
  },
  {
   "cell_type": "code",
   "execution_count": null,
   "outputs": [],
   "source": [
    "all_tile_ra = np.array(Image.open(real_inferred_src[0]))\n",
    "for idx in range(1,len(real_inferred_src)):\n",
    "    tile_img = Image.open(real_inferred_src[idx])\n",
    "    tile_ra = np.array(tile_img)\n",
    "    all_tile_ra = np.concatenate((all_tile_ra,tile_ra),axis=0)\n",
    "all_tile_ra"
   ],
   "metadata": {
    "collapsed": false,
    "pycharm": {
     "is_executing": true
    }
   }
  },
  {
   "cell_type": "code",
   "execution_count": null,
   "outputs": [],
   "source": [
    "all_tile_ra.shape"
   ],
   "metadata": {
    "collapsed": false,
    "pycharm": {
     "is_executing": true
    }
   }
  },
  {
   "cell_type": "code",
   "execution_count": null,
   "outputs": [],
   "source": [
    "stitch(all_tile_ra,78848,99840,1024,1024,3)"
   ],
   "metadata": {
    "collapsed": false,
    "pycharm": {
     "is_executing": true
    }
   }
  },
  {
   "cell_type": "code",
   "execution_count": 11,
   "outputs": [],
   "source": [
    "### Try registering the two tiles with optical flow to compare with matlab rigid registration:\n",
    "def registrate_two_images(reference_image_path, moving_image_path, save_path):\n",
    "    \"\"\"\n",
    "    Note: The order of the files saved in the ref_img_path and mov_img_path must be the same so that you are registering the same images!\n",
    "    \"\"\"\n",
    "    ref_img_path = [_ for _ in os.listdir(reference_image_path) if _.endswith(\".png\")]\n",
    "    ref_img_path_complete = [os.path.join(reference_image_path, x) for x in ref_img_path]\n",
    "    mov_img_path = [_ for _ in os.listdir(moving_image_path) if _.endswith(\".png\")]\n",
    "    mov_img_path_complete = [os.path.join(moving_image_path, x) for x in mov_img_path]\n",
    "    mov_img_name = [x.replace('.png','') for x in mov_img_path]\n",
    "    if int(len(ref_img_path)) != int(len(mov_img_path)):\n",
    "        print(\"Number of images in reference and moving file paths are not equal, please fix and try again!\")\n",
    "        return\n",
    "\n",
    "    start = time()\n",
    "    for idx in range(0,len(ref_img_path_complete)):\n",
    "        ref_img = Image.open(ref_img_path_complete[idx])\n",
    "        mov_img = Image.open(mov_img_path_complete[idx])\n",
    "        ref_img = np.array(ref_img)\n",
    "        mov_img = np.array(mov_img)\n",
    "        ref_img_g = cv2.cvtColor(ref_img,cv2.COLOR_RGBA2GRAY)\n",
    "        mov_img_g = cv2.cvtColor(mov_img,cv2.COLOR_RGBA2GRAY)\n",
    "        v, u = optical_flow_tvl1(ref_img_g, mov_img_g)\n",
    "        nr, nc = ref_img_g.shape\n",
    "        row_coords, col_coords = np.meshgrid(np.arange(nr), np.arange(nc),\n",
    "                                             indexing='ij')\n",
    "        mov_img_warp_ra =[]\n",
    "        for i in range(3):\n",
    "            mov_img_warp = warp(mov_img[:,:,i], np.array([row_coords + v, col_coords + u]),mode='edge')\n",
    "            mov_img_warp_ra.append(mov_img_warp)\n",
    "        r = np.array(mov_img_warp_ra[0]*255).astype('uint8')\n",
    "        g = np.array(mov_img_warp_ra[1]*255).astype('uint8')\n",
    "        b = np.array(mov_img_warp_ra[2]*255).astype('uint8')\n",
    "        rgb = np.stack([r,g,b],axis=2)\n",
    "        reg_img = Image.fromarray(rgb)\n",
    "        print(idx)\n",
    "        reg_img.save(os.path.join(save_path,str(mov_img_name[idx]) + '.png'))\n",
    "\n",
    "    end = time()\n",
    "    print(\"time it took to register: \"+  str((end-start)/60) + \" minutes\")\n"
   ],
   "metadata": {
    "collapsed": false
   }
  },
  {
   "cell_type": "code",
   "execution_count": null,
   "outputs": [],
   "source": [
    "### Possible dummy code to recognize H&E images and discard images that are not H&E:"
   ],
   "metadata": {
    "collapsed": false
   }
  },
  {
   "cell_type": "code",
   "execution_count": null,
   "outputs": [],
   "source": [
    "import cv2\n",
    "import os\n",
    "\n",
    "# Set path to the folder containing the images\n",
    "image_folder = 'path/to/folder'\n",
    "\n",
    "# Set threshold for H&E stained images (adjust as needed)\n",
    "threshold = 0.1\n",
    "\n",
    "# Loop through each image in the folder\n",
    "for image_file in os.listdir(image_folder):\n",
    "    # Read the image\n",
    "    image = cv2.imread(os.path.join(image_folder, image_file))\n",
    "\n",
    "    # Convert the image to grayscale\n",
    "    gray = cv2.cvtColor(image, cv2.COLOR_BGR2GRAY)\n",
    "\n",
    "    # Calculate the blue-green ratio (BGR) using the H&E staining method\n",
    "    blue = image[:, :, 0].astype(float)\n",
    "    green = image[:, :, 1].astype(float)\n",
    "    red = image[:, :, 2].astype(float)\n",
    "    bgr = (blue - (red + green) / 2) / (blue + green + red)\n",
    "    bgr_mean = bgr.mean()\n",
    "\n",
    "    # If the BGR ratio is below the threshold, delete the image\n",
    "    if bgr_mean < threshold:\n",
    "        os.remove(os.path.join(image_folder, image_file))\n"
   ],
   "metadata": {
    "collapsed": false
   }
  },
  {
   "cell_type": "code",
   "execution_count": null,
   "outputs": [],
   "source": [
    "### Code to drop out low MI tiles:"
   ],
   "metadata": {
    "collapsed": false
   }
  }
 ],
 "metadata": {
  "kernelspec": {
   "display_name": "Python 3",
   "language": "python",
   "name": "python3"
  },
  "language_info": {
   "codemirror_mode": {
    "name": "ipython",
    "version": 2
   },
   "file_extension": ".py",
   "mimetype": "text/x-python",
   "name": "python",
   "nbconvert_exporter": "python",
   "pygments_lexer": "ipython2",
   "version": "2.7.6"
  }
 },
 "nbformat": 4,
 "nbformat_minor": 0
}
