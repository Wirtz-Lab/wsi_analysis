{
 "cells": [
  {
   "cell_type": "code",
   "execution_count": 9,
   "outputs": [],
   "source": [
    "# #importing openslide:\n",
    "# OPENSLIDE_PATH = r'C:\\Users\\Kevin\\Desktop\\openslide-win64-20221217\\bin'\n",
    "#\n",
    "# import os\n",
    "#\n",
    "# if hasattr(os, 'add_dll_directory'):\n",
    "#     # Python >= 3.8 on Windows\n",
    "#     with os.add_dll_directory(OPENSLIDE_PATH):\n",
    "#         import openslide\n",
    "# else:\n",
    "#     import openslide"
   ],
   "metadata": {
    "collapsed": false
   }
  },
  {
   "cell_type": "code",
   "execution_count": 1,
   "outputs": [
    {
     "ename": "FileNotFoundError",
     "evalue": "[WinError 3] The system cannot find the path specified: 'C:\\\\Users\\\\Kevin\\\\Downloads\\\\vips-dev-w64-web-8.14.1-static.zip\\\\vips-dev-8.14\\\\bin'",
     "output_type": "error",
     "traceback": [
      "\u001B[1;31m---------------------------------------------------------------------------\u001B[0m",
      "\u001B[1;31mFileNotFoundError\u001B[0m                         Traceback (most recent call last)",
      "Cell \u001B[1;32mIn[1], line 6\u001B[0m\n\u001B[0;32m      4\u001B[0m \u001B[38;5;66;03m# vipsbin = 'c:\\vips-dev-8.14\\bin' # LibVIPS binary dir\u001B[39;00m\n\u001B[0;32m      5\u001B[0m \u001B[38;5;28;01mif\u001B[39;00m callable(add_dll_dir):\n\u001B[1;32m----> 6\u001B[0m     \u001B[43madd_dll_dir\u001B[49m\u001B[43m(\u001B[49m\u001B[43mvipsbin\u001B[49m\u001B[43m)\u001B[49m\n\u001B[0;32m      7\u001B[0m \u001B[38;5;28;01melse\u001B[39;00m:\n\u001B[0;32m      8\u001B[0m     os\u001B[38;5;241m.\u001B[39menviron[\u001B[38;5;124m\"\u001B[39m\u001B[38;5;124mPATH\u001B[39m\u001B[38;5;124m\"\u001B[39m] \u001B[38;5;241m=\u001B[39m os\u001B[38;5;241m.\u001B[39mpathsep\u001B[38;5;241m.\u001B[39mjoin((vipsbin, os\u001B[38;5;241m.\u001B[39menviron[\u001B[38;5;124m\"\u001B[39m\u001B[38;5;124mPATH\u001B[39m\u001B[38;5;124m\"\u001B[39m]))\n",
      "File \u001B[1;32m~\\.conda\\envs\\wsi_analysis1\\lib\\os.py:1111\u001B[0m, in \u001B[0;36madd_dll_directory\u001B[1;34m(path)\u001B[0m\n\u001B[0;32m   1101\u001B[0m \u001B[38;5;250m\u001B[39m\u001B[38;5;124;03m\"\"\"Add a path to the DLL search path.\u001B[39;00m\n\u001B[0;32m   1102\u001B[0m \n\u001B[0;32m   1103\u001B[0m \u001B[38;5;124;03mThis search path is used when resolving dependencies for imported\u001B[39;00m\n\u001B[1;32m   (...)\u001B[0m\n\u001B[0;32m   1108\u001B[0m \u001B[38;5;124;03musing it in a with statement.\u001B[39;00m\n\u001B[0;32m   1109\u001B[0m \u001B[38;5;124;03m\"\"\"\u001B[39;00m\n\u001B[0;32m   1110\u001B[0m \u001B[38;5;28;01mimport\u001B[39;00m \u001B[38;5;21;01mnt\u001B[39;00m\n\u001B[1;32m-> 1111\u001B[0m cookie \u001B[38;5;241m=\u001B[39m \u001B[43mnt\u001B[49m\u001B[38;5;241;43m.\u001B[39;49m\u001B[43m_add_dll_directory\u001B[49m\u001B[43m(\u001B[49m\u001B[43mpath\u001B[49m\u001B[43m)\u001B[49m\n\u001B[0;32m   1112\u001B[0m \u001B[38;5;28;01mreturn\u001B[39;00m _AddedDllDirectory(\n\u001B[0;32m   1113\u001B[0m     path,\n\u001B[0;32m   1114\u001B[0m     cookie,\n\u001B[0;32m   1115\u001B[0m     nt\u001B[38;5;241m.\u001B[39m_remove_dll_directory\n\u001B[0;32m   1116\u001B[0m )\n",
      "\u001B[1;31mFileNotFoundError\u001B[0m: [WinError 3] The system cannot find the path specified: 'C:\\\\Users\\\\Kevin\\\\Downloads\\\\vips-dev-w64-web-8.14.1-static.zip\\\\vips-dev-8.14\\\\bin'"
     ]
    }
   ],
   "source": [
    "import os\n",
    "add_dll_dir = getattr(os, \"add_dll_directory\", None)\n",
    "vipsbin = r'C:\\Users\\Kevin\\Downloads\\vips-dev-w64-web-8.14.1-static.zip\\vips-dev-8.14\\bin'\n",
    "# vipsbin = 'c:\\vips-dev-8.14\\bin' # LibVIPS binary dir\n",
    "if callable(add_dll_dir):\n",
    "    add_dll_dir(vipsbin)\n",
    "else:\n",
    "    os.environ[\"PATH\"] = os.pathsep.join((vipsbin, os.environ[\"PATH\"]))\n",
    "\n",
    "import pyvips"
   ],
   "metadata": {
    "collapsed": false
   }
  },
  {
   "cell_type": "code",
   "execution_count": 5,
   "outputs": [
    {
     "ename": "OSError",
     "evalue": "cannot load library 'libgobject-2.0-0.dll': error 0x7e.  Additionally, ctypes.util.find_library() did not manage to locate a library called 'libgobject-2.0-0.dll'",
     "output_type": "error",
     "traceback": [
      "\u001B[1;31m---------------------------------------------------------------------------\u001B[0m",
      "\u001B[1;31mModuleNotFoundError\u001B[0m                       Traceback (most recent call last)",
      "File \u001B[1;32m~\\.conda\\envs\\wsi_analysis1\\lib\\site-packages\\pyvips\\__init__.py:19\u001B[0m\n\u001B[0;32m     18\u001B[0m \u001B[38;5;28;01mtry\u001B[39;00m:\n\u001B[1;32m---> 19\u001B[0m     \u001B[38;5;28;01mimport\u001B[39;00m \u001B[38;5;21;01m_libvips\u001B[39;00m\n\u001B[0;32m     21\u001B[0m     logger\u001B[38;5;241m.\u001B[39mdebug(\u001B[38;5;124m'\u001B[39m\u001B[38;5;124mLoaded binary module _libvips\u001B[39m\u001B[38;5;124m'\u001B[39m)\n",
      "\u001B[1;31mModuleNotFoundError\u001B[0m: No module named '_libvips'",
      "\nDuring handling of the above exception, another exception occurred:\n",
      "\u001B[1;31mOSError\u001B[0m                                   Traceback (most recent call last)",
      "Cell \u001B[1;32mIn[5], line 4\u001B[0m\n\u001B[0;32m      2\u001B[0m vipshome \u001B[38;5;241m=\u001B[39m \u001B[38;5;124mr\u001B[39m\u001B[38;5;124m'\u001B[39m\u001B[38;5;124mC:\u001B[39m\u001B[38;5;124m\\\u001B[39m\u001B[38;5;124mUsers\u001B[39m\u001B[38;5;124m\\\u001B[39m\u001B[38;5;124mKevin\u001B[39m\u001B[38;5;124m\\\u001B[39m\u001B[38;5;124mDownloads\u001B[39m\u001B[38;5;124m\\\u001B[39m\u001B[38;5;124mvips-dev-w64-web-8.14.1-static.zip\u001B[39m\u001B[38;5;124m\\\u001B[39m\u001B[38;5;124mvips-dev-8.14\u001B[39m\u001B[38;5;124m\\\u001B[39m\u001B[38;5;124mbin\u001B[39m\u001B[38;5;124m'\u001B[39m\n\u001B[0;32m      3\u001B[0m os\u001B[38;5;241m.\u001B[39menviron[\u001B[38;5;124m'\u001B[39m\u001B[38;5;124mPATH\u001B[39m\u001B[38;5;124m'\u001B[39m] \u001B[38;5;241m=\u001B[39m vipshome \u001B[38;5;241m+\u001B[39m \u001B[38;5;124m'\u001B[39m\u001B[38;5;124m;\u001B[39m\u001B[38;5;124m'\u001B[39m \u001B[38;5;241m+\u001B[39m os\u001B[38;5;241m.\u001B[39menviron[\u001B[38;5;124m'\u001B[39m\u001B[38;5;124mPATH\u001B[39m\u001B[38;5;124m'\u001B[39m]\n\u001B[1;32m----> 4\u001B[0m \u001B[38;5;28;01mimport\u001B[39;00m \u001B[38;5;21;01mpyvips\u001B[39;00m\n",
      "File \u001B[1;32m~\\.conda\\envs\\wsi_analysis1\\lib\\site-packages\\pyvips\\__init__.py:70\u001B[0m\n\u001B[0;32m     67\u001B[0m     _gobject_libname \u001B[38;5;241m=\u001B[39m \u001B[38;5;124m'\u001B[39m\u001B[38;5;124mlibgobject-2.0.so.0\u001B[39m\u001B[38;5;124m'\u001B[39m\n\u001B[0;32m     69\u001B[0m \u001B[38;5;66;03m# possibly use ctypes.util.find_library() to locate the lib?\u001B[39;00m\n\u001B[1;32m---> 70\u001B[0m gobject_lib \u001B[38;5;241m=\u001B[39m \u001B[43mffi\u001B[49m\u001B[38;5;241;43m.\u001B[39;49m\u001B[43mdlopen\u001B[49m\u001B[43m(\u001B[49m\u001B[43m_gobject_libname\u001B[49m\u001B[43m)\u001B[49m\n\u001B[0;32m     71\u001B[0m vips_lib \u001B[38;5;241m=\u001B[39m ffi\u001B[38;5;241m.\u001B[39mdlopen(_vips_libname)\n\u001B[0;32m     72\u001B[0m \u001B[38;5;28;01mif\u001B[39;00m _glib_libname:\n",
      "File \u001B[1;32m~\\.conda\\envs\\wsi_analysis1\\lib\\site-packages\\cffi\\api.py:150\u001B[0m, in \u001B[0;36mFFI.dlopen\u001B[1;34m(self, name, flags)\u001B[0m\n\u001B[0;32m    147\u001B[0m     \u001B[38;5;28;01mraise\u001B[39;00m \u001B[38;5;167;01mTypeError\u001B[39;00m(\u001B[38;5;124m\"\u001B[39m\u001B[38;5;124mdlopen(name): name must be a file name, None, \u001B[39m\u001B[38;5;124m\"\u001B[39m\n\u001B[0;32m    148\u001B[0m                     \u001B[38;5;124m\"\u001B[39m\u001B[38;5;124mor an already-opened \u001B[39m\u001B[38;5;124m'\u001B[39m\u001B[38;5;124mvoid *\u001B[39m\u001B[38;5;124m'\u001B[39m\u001B[38;5;124m handle\u001B[39m\u001B[38;5;124m\"\u001B[39m)\n\u001B[0;32m    149\u001B[0m \u001B[38;5;28;01mwith\u001B[39;00m \u001B[38;5;28mself\u001B[39m\u001B[38;5;241m.\u001B[39m_lock:\n\u001B[1;32m--> 150\u001B[0m     lib, function_cache \u001B[38;5;241m=\u001B[39m \u001B[43m_make_ffi_library\u001B[49m\u001B[43m(\u001B[49m\u001B[38;5;28;43mself\u001B[39;49m\u001B[43m,\u001B[49m\u001B[43m \u001B[49m\u001B[43mname\u001B[49m\u001B[43m,\u001B[49m\u001B[43m \u001B[49m\u001B[43mflags\u001B[49m\u001B[43m)\u001B[49m\n\u001B[0;32m    151\u001B[0m     \u001B[38;5;28mself\u001B[39m\u001B[38;5;241m.\u001B[39m_function_caches\u001B[38;5;241m.\u001B[39mappend(function_cache)\n\u001B[0;32m    152\u001B[0m     \u001B[38;5;28mself\u001B[39m\u001B[38;5;241m.\u001B[39m_libraries\u001B[38;5;241m.\u001B[39mappend(lib)\n",
      "File \u001B[1;32m~\\.conda\\envs\\wsi_analysis1\\lib\\site-packages\\cffi\\api.py:832\u001B[0m, in \u001B[0;36m_make_ffi_library\u001B[1;34m(ffi, libname, flags)\u001B[0m\n\u001B[0;32m    830\u001B[0m \u001B[38;5;28;01mdef\u001B[39;00m \u001B[38;5;21m_make_ffi_library\u001B[39m(ffi, libname, flags):\n\u001B[0;32m    831\u001B[0m     backend \u001B[38;5;241m=\u001B[39m ffi\u001B[38;5;241m.\u001B[39m_backend\n\u001B[1;32m--> 832\u001B[0m     backendlib \u001B[38;5;241m=\u001B[39m \u001B[43m_load_backend_lib\u001B[49m\u001B[43m(\u001B[49m\u001B[43mbackend\u001B[49m\u001B[43m,\u001B[49m\u001B[43m \u001B[49m\u001B[43mlibname\u001B[49m\u001B[43m,\u001B[49m\u001B[43m \u001B[49m\u001B[43mflags\u001B[49m\u001B[43m)\u001B[49m\n\u001B[0;32m    833\u001B[0m     \u001B[38;5;66;03m#\u001B[39;00m\n\u001B[0;32m    834\u001B[0m     \u001B[38;5;28;01mdef\u001B[39;00m \u001B[38;5;21maccessor_function\u001B[39m(name):\n",
      "File \u001B[1;32m~\\.conda\\envs\\wsi_analysis1\\lib\\site-packages\\cffi\\api.py:827\u001B[0m, in \u001B[0;36m_load_backend_lib\u001B[1;34m(backend, name, flags)\u001B[0m\n\u001B[0;32m    825\u001B[0m     \u001B[38;5;28;01mif\u001B[39;00m first_error \u001B[38;5;129;01mis\u001B[39;00m \u001B[38;5;129;01mnot\u001B[39;00m \u001B[38;5;28;01mNone\u001B[39;00m:\n\u001B[0;32m    826\u001B[0m         msg \u001B[38;5;241m=\u001B[39m \u001B[38;5;124m\"\u001B[39m\u001B[38;5;132;01m%s\u001B[39;00m\u001B[38;5;124m.  Additionally, \u001B[39m\u001B[38;5;132;01m%s\u001B[39;00m\u001B[38;5;124m\"\u001B[39m \u001B[38;5;241m%\u001B[39m (first_error, msg)\n\u001B[1;32m--> 827\u001B[0m     \u001B[38;5;28;01mraise\u001B[39;00m \u001B[38;5;167;01mOSError\u001B[39;00m(msg)\n\u001B[0;32m    828\u001B[0m \u001B[38;5;28;01mreturn\u001B[39;00m backend\u001B[38;5;241m.\u001B[39mload_library(path, flags)\n",
      "\u001B[1;31mOSError\u001B[0m: cannot load library 'libgobject-2.0-0.dll': error 0x7e.  Additionally, ctypes.util.find_library() did not manage to locate a library called 'libgobject-2.0-0.dll'"
     ]
    }
   ],
   "source": [
    "import os\n",
    "vipshome = r'C:\\Users\\Kevin\\Downloads\\vips-dev-w64-web-8.14.1-static.zip\\vips-dev-8.14\\bin'\n",
    "os.environ['PATH'] = vipshome + ';' + os.environ['PATH']\n",
    "import pyvips"
   ],
   "metadata": {
    "collapsed": false
   }
  },
  {
   "cell_type": "code",
   "execution_count": 2,
   "outputs": [
    {
     "ename": "OSError",
     "evalue": "cannot load library 'libgobject-2.0-0.dll': error 0x7e.  Additionally, ctypes.util.find_library() did not manage to locate a library called 'libgobject-2.0-0.dll'",
     "output_type": "error",
     "traceback": [
      "\u001B[1;31m---------------------------------------------------------------------------\u001B[0m",
      "\u001B[1;31mModuleNotFoundError\u001B[0m                       Traceback (most recent call last)",
      "File \u001B[1;32m~\\.conda\\envs\\wsi_analysis1\\lib\\site-packages\\pyvips\\__init__.py:19\u001B[0m\n\u001B[0;32m     18\u001B[0m \u001B[38;5;28;01mtry\u001B[39;00m:\n\u001B[1;32m---> 19\u001B[0m     \u001B[38;5;28;01mimport\u001B[39;00m \u001B[38;5;21;01m_libvips\u001B[39;00m\n\u001B[0;32m     21\u001B[0m     logger\u001B[38;5;241m.\u001B[39mdebug(\u001B[38;5;124m'\u001B[39m\u001B[38;5;124mLoaded binary module _libvips\u001B[39m\u001B[38;5;124m'\u001B[39m)\n",
      "\u001B[1;31mModuleNotFoundError\u001B[0m: No module named '_libvips'",
      "\nDuring handling of the above exception, another exception occurred:\n",
      "\u001B[1;31mOSError\u001B[0m                                   Traceback (most recent call last)",
      "Cell \u001B[1;32mIn[2], line 1\u001B[0m\n\u001B[1;32m----> 1\u001B[0m \u001B[38;5;28;01mimport\u001B[39;00m \u001B[38;5;21;01mpyvips\u001B[39;00m\n",
      "File \u001B[1;32m~\\.conda\\envs\\wsi_analysis1\\lib\\site-packages\\pyvips\\__init__.py:70\u001B[0m\n\u001B[0;32m     67\u001B[0m     _gobject_libname \u001B[38;5;241m=\u001B[39m \u001B[38;5;124m'\u001B[39m\u001B[38;5;124mlibgobject-2.0.so.0\u001B[39m\u001B[38;5;124m'\u001B[39m\n\u001B[0;32m     69\u001B[0m \u001B[38;5;66;03m# possibly use ctypes.util.find_library() to locate the lib?\u001B[39;00m\n\u001B[1;32m---> 70\u001B[0m gobject_lib \u001B[38;5;241m=\u001B[39m \u001B[43mffi\u001B[49m\u001B[38;5;241;43m.\u001B[39;49m\u001B[43mdlopen\u001B[49m\u001B[43m(\u001B[49m\u001B[43m_gobject_libname\u001B[49m\u001B[43m)\u001B[49m\n\u001B[0;32m     71\u001B[0m vips_lib \u001B[38;5;241m=\u001B[39m ffi\u001B[38;5;241m.\u001B[39mdlopen(_vips_libname)\n\u001B[0;32m     72\u001B[0m \u001B[38;5;28;01mif\u001B[39;00m _glib_libname:\n",
      "File \u001B[1;32m~\\.conda\\envs\\wsi_analysis1\\lib\\site-packages\\cffi\\api.py:150\u001B[0m, in \u001B[0;36mFFI.dlopen\u001B[1;34m(self, name, flags)\u001B[0m\n\u001B[0;32m    147\u001B[0m     \u001B[38;5;28;01mraise\u001B[39;00m \u001B[38;5;167;01mTypeError\u001B[39;00m(\u001B[38;5;124m\"\u001B[39m\u001B[38;5;124mdlopen(name): name must be a file name, None, \u001B[39m\u001B[38;5;124m\"\u001B[39m\n\u001B[0;32m    148\u001B[0m                     \u001B[38;5;124m\"\u001B[39m\u001B[38;5;124mor an already-opened \u001B[39m\u001B[38;5;124m'\u001B[39m\u001B[38;5;124mvoid *\u001B[39m\u001B[38;5;124m'\u001B[39m\u001B[38;5;124m handle\u001B[39m\u001B[38;5;124m\"\u001B[39m)\n\u001B[0;32m    149\u001B[0m \u001B[38;5;28;01mwith\u001B[39;00m \u001B[38;5;28mself\u001B[39m\u001B[38;5;241m.\u001B[39m_lock:\n\u001B[1;32m--> 150\u001B[0m     lib, function_cache \u001B[38;5;241m=\u001B[39m \u001B[43m_make_ffi_library\u001B[49m\u001B[43m(\u001B[49m\u001B[38;5;28;43mself\u001B[39;49m\u001B[43m,\u001B[49m\u001B[43m \u001B[49m\u001B[43mname\u001B[49m\u001B[43m,\u001B[49m\u001B[43m \u001B[49m\u001B[43mflags\u001B[49m\u001B[43m)\u001B[49m\n\u001B[0;32m    151\u001B[0m     \u001B[38;5;28mself\u001B[39m\u001B[38;5;241m.\u001B[39m_function_caches\u001B[38;5;241m.\u001B[39mappend(function_cache)\n\u001B[0;32m    152\u001B[0m     \u001B[38;5;28mself\u001B[39m\u001B[38;5;241m.\u001B[39m_libraries\u001B[38;5;241m.\u001B[39mappend(lib)\n",
      "File \u001B[1;32m~\\.conda\\envs\\wsi_analysis1\\lib\\site-packages\\cffi\\api.py:832\u001B[0m, in \u001B[0;36m_make_ffi_library\u001B[1;34m(ffi, libname, flags)\u001B[0m\n\u001B[0;32m    830\u001B[0m \u001B[38;5;28;01mdef\u001B[39;00m \u001B[38;5;21m_make_ffi_library\u001B[39m(ffi, libname, flags):\n\u001B[0;32m    831\u001B[0m     backend \u001B[38;5;241m=\u001B[39m ffi\u001B[38;5;241m.\u001B[39m_backend\n\u001B[1;32m--> 832\u001B[0m     backendlib \u001B[38;5;241m=\u001B[39m \u001B[43m_load_backend_lib\u001B[49m\u001B[43m(\u001B[49m\u001B[43mbackend\u001B[49m\u001B[43m,\u001B[49m\u001B[43m \u001B[49m\u001B[43mlibname\u001B[49m\u001B[43m,\u001B[49m\u001B[43m \u001B[49m\u001B[43mflags\u001B[49m\u001B[43m)\u001B[49m\n\u001B[0;32m    833\u001B[0m     \u001B[38;5;66;03m#\u001B[39;00m\n\u001B[0;32m    834\u001B[0m     \u001B[38;5;28;01mdef\u001B[39;00m \u001B[38;5;21maccessor_function\u001B[39m(name):\n",
      "File \u001B[1;32m~\\.conda\\envs\\wsi_analysis1\\lib\\site-packages\\cffi\\api.py:827\u001B[0m, in \u001B[0;36m_load_backend_lib\u001B[1;34m(backend, name, flags)\u001B[0m\n\u001B[0;32m    825\u001B[0m     \u001B[38;5;28;01mif\u001B[39;00m first_error \u001B[38;5;129;01mis\u001B[39;00m \u001B[38;5;129;01mnot\u001B[39;00m \u001B[38;5;28;01mNone\u001B[39;00m:\n\u001B[0;32m    826\u001B[0m         msg \u001B[38;5;241m=\u001B[39m \u001B[38;5;124m\"\u001B[39m\u001B[38;5;132;01m%s\u001B[39;00m\u001B[38;5;124m.  Additionally, \u001B[39m\u001B[38;5;132;01m%s\u001B[39;00m\u001B[38;5;124m\"\u001B[39m \u001B[38;5;241m%\u001B[39m (first_error, msg)\n\u001B[1;32m--> 827\u001B[0m     \u001B[38;5;28;01mraise\u001B[39;00m \u001B[38;5;167;01mOSError\u001B[39;00m(msg)\n\u001B[0;32m    828\u001B[0m \u001B[38;5;28;01mreturn\u001B[39;00m backend\u001B[38;5;241m.\u001B[39mload_library(path, flags)\n",
      "\u001B[1;31mOSError\u001B[0m: cannot load library 'libgobject-2.0-0.dll': error 0x7e.  Additionally, ctypes.util.find_library() did not manage to locate a library called 'libgobject-2.0-0.dll'"
     ]
    }
   ],
   "source": [
    "import numpy as np\n",
    "import os\n",
    "from PIL import Image\n",
    "Image.MAX_IMAGE_PIXELS = None\n",
    "import cv2\n",
    "import os\n",
    "from matplotlib import pyplot as plt\n",
    "from skimage.morphology import remove_small_objects, remove_small_holes\n",
    "from skimage.color import rgb2gray\n",
    "from skimage.transform import warp\n",
    "from skimage.registration import optical_flow_tvl1, optical_flow_ilk\n",
    "import xml.etree.ElementTree as ET\n",
    "import pandas as pd\n",
    "import skimage.measure\n",
    "import scipy.stats as stats\n",
    "from time import time\n",
    "from skimage.measure import label, regionprops_table\n",
    "import pyvips"
   ],
   "metadata": {
    "collapsed": false
   }
  },
  {
   "cell_type": "code",
   "execution_count": 7,
   "outputs": [],
   "source": [
    "#stitch tiles into wsi\n",
    "def stitch(tiles,img_height,img_width,img_height2,img_width2,channels):\n",
    "    wsi = tiles.swapaxes(1,2)\n",
    "    wsi = wsi.reshape(img_height2,img_width2,channels) #tiles are padded, so use padded image size to stitch\n",
    "    wsi = wsi[:img_height,:img_width,:] #remove pad\n",
    "    return np.squeeze(wsi)"
   ],
   "metadata": {
    "collapsed": false
   }
  },
  {
   "cell_type": "code",
   "execution_count": 4,
   "outputs": [],
   "source": [
    "# src = r'\\\\shelter\\Kyu\\unstain2stain\\unstain2stain_wsi\\Unstained'\n",
    "# imnm = 'OTS_14684_3.ndpi'\n",
    "# imobj = openslide.open_slide(os.path.join(src,imnm))\n",
    "# imobj = imobj.read_region(location=(0,0),level=1,size=imobj.level_dimensions[1])\n",
    "# imobj.level_dimensions[1]"
   ],
   "metadata": {
    "collapsed": false
   }
  },
  {
   "cell_type": "code",
   "execution_count": 5,
   "outputs": [],
   "source": [
    "#wsi to tiles\n",
    "def reshape_split(image:np.ndarray,kernel_size:tuple):\n",
    "    img_height,img_width,channels=image.shape\n",
    "    tile_height,tile_width = kernel_size\n",
    "    tiled_array = image.reshape(img_height//tile_height,\n",
    "                                tile_height,\n",
    "                                img_width//tile_width,\n",
    "                                tile_width,\n",
    "                                channels)\n",
    "    tiled_array = tiled_array.swapaxes(1,2)\n",
    "    return tiled_array"
   ],
   "metadata": {
    "collapsed": false
   }
  },
  {
   "cell_type": "code",
   "execution_count": 85,
   "outputs": [],
   "source": [
    "src = r'\\\\shelter\\Kyu\\unstain2stain\\unstain2stain_wsi\\Unstained'\n",
    "imnm = 'OTS_14832_3.ndpi'\n",
    "imobj = openslide.open_slide(os.path.join(src,imnm))\n",
    "imobj = imobj.read_region(location=(0,0),level=1,size=imobj.level_dimensions[1])\n",
    "\n",
    "# Image to Array\n",
    "imnp = np.array(imobj)\n",
    "imobj.close()\n",
    "h,w,_=imnp.shape\n",
    "tile_height, tile_width = (1024,1024)\n",
    "# Padding (so that it's in multiples of 1024)\n",
    "imnpr = np.pad(imnp, pad_width=[(0, tile_height-h%tile_height),(0, tile_width-w%tile_width),(0, 0)], mode='constant', constant_values=0)\n",
    "# imnpr = imnpr / 127.5 - 1 #normalize [-1 1]\n",
    "# imnpr = imnpr / 255 #normalize [0 1]\n",
    "img_height2,img_width2,channels=imnpr.shape\n",
    "# Tile\n",
    "tiles = reshape_split(imnpr, (1024,1024))"
   ],
   "metadata": {
    "collapsed": false
   }
  },
  {
   "cell_type": "code",
   "execution_count": 86,
   "outputs": [
    {
     "data": {
      "text/plain": "113664"
     },
     "execution_count": 86,
     "metadata": {},
     "output_type": "execute_result"
    }
   ],
   "source": [
    "img_width2"
   ],
   "metadata": {
    "collapsed": false
   }
  },
  {
   "cell_type": "code",
   "execution_count": 87,
   "outputs": [
    {
     "name": "stdout",
     "output_type": "stream",
     "text": [
      "(54, 111, 1024, 1024, 4)\n"
     ]
    }
   ],
   "source": [
    "print(tiles.shape)\n",
    "nrows = tiles.shape[0]\n",
    "ncols = tiles.shape[1]"
   ],
   "metadata": {
    "collapsed": false
   }
  },
  {
   "cell_type": "code",
   "execution_count": 88,
   "outputs": [
    {
     "data": {
      "text/plain": "(54912, 113280, 4)"
     },
     "execution_count": 88,
     "metadata": {},
     "output_type": "execute_result"
    }
   ],
   "source": [
    "imnp.shape"
   ],
   "metadata": {
    "collapsed": false
   }
  },
  {
   "cell_type": "code",
   "execution_count": 89,
   "outputs": [
    {
     "data": {
      "text/plain": "(55296, 113664, 4)"
     },
     "execution_count": 89,
     "metadata": {},
     "output_type": "execute_result"
    }
   ],
   "source": [
    "imnpr.shape"
   ],
   "metadata": {
    "collapsed": false
   }
  },
  {
   "cell_type": "code",
   "execution_count": 15,
   "outputs": [],
   "source": [
    "# save_src = r'\\\\shelter\\Kyu\\unstain2stain\\tiles\\not_registrated\\Unstained'\n",
    "# for idx in range(0,tiles.shape[0]):\n",
    "#     for idx1 in range(0,tiles.shape[1]):\n",
    "#         tmp_tile = tiles[idx][idx1]\n",
    "#         save_path = os.path.join(save_src,str(idx)+str(idx1)+'tile'+'.png')\n",
    "#         Image.fromarray(tmp_tile).save(save_path)"
   ],
   "metadata": {
    "collapsed": false
   }
  },
  {
   "cell_type": "code",
   "execution_count": 16,
   "outputs": [],
   "source": [
    "src = r'\\\\shelter\\Kyu\\unstain2stain\\unstain2stain_wsi\\HE'\n",
    "imnm = 'OTS_14832_3_he.ndpi'\n",
    "imobj = openslide.open_slide(os.path.join(src,imnm))\n",
    "imobj = imobj.read_region(location=(0,0),level=1,size=imobj.level_dimensions[1])\n",
    "\n",
    "# Image to Array\n",
    "imnp = np.array(imobj)\n",
    "imobj.close()\n",
    "h,w,_=imnp.shape\n",
    "tile_height, tile_width = (1024,1024)\n",
    "# Padding\n",
    "imnpr = np.pad(imnp, pad_width=[(0, tile_height-h%tile_height),(0, tile_width-w%tile_width),(0, 0)], mode='constant', constant_values=0)\n",
    "# imnpr = imnpr / 127.5 - 1 #normalize [-1 1]\n",
    "# imnpr = imnpr / 255 #normalize [0 1]\n",
    "img_height2,img_width2,channels=imnpr.shape\n",
    "# Tile\n",
    "tiles = reshape_split(imnpr, (1024,1024))"
   ],
   "metadata": {
    "collapsed": false
   }
  },
  {
   "cell_type": "code",
   "execution_count": 18,
   "outputs": [],
   "source": [
    "# save_src = r'\\\\shelter\\Kyu\\unstain2stain\\tiles\\not_registrated\\HE'\n",
    "# for idx in range(0,tiles.shape[0]):\n",
    "#     for idx1 in range(0,tiles.shape[1]):\n",
    "#         tmp_tile = tiles[idx][idx1]\n",
    "#         save_path = os.path.join(save_src,str(idx)+str(idx1)+'tile'+'.png')\n",
    "#         Image.fromarray(tmp_tile).save(save_path)"
   ],
   "metadata": {
    "collapsed": false
   }
  },
  {
   "cell_type": "markdown",
   "source": [
    "### The tile generation code above is unregistered, I ran a code in matlab to generate the registered tiles, which have almost the same # of tiles, except that there are some missing images. Find the difference:"
   ],
   "metadata": {
    "collapsed": false
   }
  },
  {
   "cell_type": "code",
   "execution_count": 90,
   "outputs": [],
   "source": [
    "stain_tile_src = r'\\\\shelter\\Kyu\\unstain2stain\\tiles\\registrated_tiles\\HE\\OTS_14832_3_he'\n",
    "unstain_tile_src = r'\\\\shelter\\Kyu\\unstain2stain\\tiles\\registrated_tiles\\Unstained\\OTS_14832_3'"
   ],
   "metadata": {
    "collapsed": false
   }
  },
  {
   "cell_type": "code",
   "execution_count": 91,
   "outputs": [],
   "source": [
    "unstain_tile_name = os.listdir(unstain_tile_src)\n",
    "stain_tile_name = os.listdir(stain_tile_src)"
   ],
   "metadata": {
    "collapsed": false
   }
  },
  {
   "cell_type": "code",
   "execution_count": 92,
   "outputs": [
    {
     "name": "stdout",
     "output_type": "stream",
     "text": [
      "10996\n",
      "10996\n"
     ]
    }
   ],
   "source": [
    "print(len(stain_tile_name))\n",
    "print(len(unstain_tile_name))"
   ],
   "metadata": {
    "collapsed": false
   }
  },
  {
   "cell_type": "code",
   "execution_count": 93,
   "outputs": [],
   "source": [
    "unstain_tile_base = [os.path.basename(x) for x in unstain_tile_name]\n",
    "stain_tile_base = [os.path.basename(x) for x in stain_tile_name]\n",
    "unstain_list = [ x[-10:-4] for x in unstain_tile_base]\n",
    "stain_list = [ x[-10:-4] for x in stain_tile_base]"
   ],
   "metadata": {
    "collapsed": false
   }
  },
  {
   "cell_type": "code",
   "execution_count": 94,
   "outputs": [
    {
     "data": {
      "text/plain": "[]"
     },
     "execution_count": 94,
     "metadata": {},
     "output_type": "execute_result"
    }
   ],
   "source": [
    "not_in_stain = [x for x in unstain_list if x not in stain_list]\n",
    "not_in_stain"
   ],
   "metadata": {
    "collapsed": false
   }
  },
  {
   "cell_type": "markdown",
   "source": [
    "### Found the three differences- delete them from unstained, and run inference on pix2pix project. After inference, stitch back image:"
   ],
   "metadata": {
    "collapsed": false
   }
  },
  {
   "cell_type": "code",
   "execution_count": 95,
   "outputs": [
    {
     "name": "stdout",
     "output_type": "stream",
     "text": [
      "10995\n"
     ]
    }
   ],
   "source": [
    "inferred_src = r'C:\\Users\\Kevin\\PycharmProjects\\pix2pix\\pytorch-CycleGAN-and-pix2pix\\results\\unstain2stain_pix2pix\\test_pix2pix_latest\\images'\n",
    "inferred_list = os.listdir(inferred_src)\n",
    "inferred_name = [os.path.basename(x) for x in inferred_list]\n",
    "real_inferred2 = [x for x in inferred_name if x[-10:-4]  == 'real_B']\n",
    "real_inferred_src = [os.path.join(inferred_src,x) for x in real_inferred2]\n",
    "print(len(real_inferred_src)) #10995"
   ],
   "metadata": {
    "collapsed": false
   }
  },
  {
   "cell_type": "code",
   "execution_count": 3,
   "outputs": [
    {
     "name": "stdout",
     "output_type": "stream",
     "text": [
      "10995\n"
     ]
    }
   ],
   "source": [
    "real_inferred_src[0]"
   ],
   "metadata": {
    "collapsed": false
   }
  },
  {
   "cell_type": "code",
   "execution_count": 4,
   "outputs": [
    {
     "data": {
      "text/plain": "'C:\\\\Users\\\\Kevin\\\\PycharmProjects\\\\pix2pix\\\\pytorch-CycleGAN-and-pix2pix\\\\results\\\\unstain2stain_pix2pix\\\\test_pix2pix_latest\\\\images\\\\100482_13135xy4369_fake_B.png'"
     },
     "execution_count": 4,
     "metadata": {},
     "output_type": "execute_result"
    }
   ],
   "source": [
    "import shutil\n",
    "destination = r'C:\\Users\\Kevin\\PycharmProjects\\pix2pix\\pytorch-CycleGAN-and-pix2pix\\results\\unstain2stain_pix2pix\\test_pix2pix_latest\\images\\realB'\n",
    "\n",
    "for idx in real_inferred_src:\n",
    "    shutil.copy(idx, destination)"
   ],
   "metadata": {
    "collapsed": false
   }
  },
  {
   "cell_type": "code",
   "execution_count": 6,
   "outputs": [],
   "source": [
    "import os\n",
    "import shutil\n",
    "\n",
    "src_dir = r'C:\\Users\\Kevin\\PycharmProjects\\pix2pix\\pytorch-CycleGAN-and-pix2pix\\results\\unstain2stain_pix2pix\\test_pix2pix_latest\\images'\n",
    "# Destination directory to copy the images\n",
    "dst_dir = r'C:\\Users\\Kevin\\PycharmProjects\\pix2pix\\pytorch-CycleGAN-and-pix2pix\\results\\unstain2stain_pix2pix\\test_pix2pix_latest\\images\\realB'\n",
    "\n",
    "\n",
    "# Iterate over all files in the source directory\n",
    "for file_name in os.listdir(src_dir):\n",
    "\n",
    "    # Check if the file is an image file\n",
    "    if file_name.endswith(\".png\") and file_name[-10:-4]  == 'real_B':\n",
    "\n",
    "        # Create the full path of the source file\n",
    "        src_file = os.path.join(src_dir, file_name)\n",
    "\n",
    "        # Create a unique destination file name by appending a timestamp to the original file name\n",
    "        timestamp = str(int(os.path.getmtime(src_file)))\n",
    "        dst_file = os.path.join(dst_dir, file_name[:-4] + '_' + timestamp + '.png')\n",
    "\n",
    "        # Copy the file from the source directory to the destination directory\n",
    "        shutil.copyfile(src_file, dst_file)\n",
    "\n",
    "print(\"All images copied successfully!\")\n"
   ],
   "metadata": {
    "collapsed": false
   }
  },
  {
   "cell_type": "code",
   "execution_count": 4,
   "outputs": [
    {
     "ename": "NameError",
     "evalue": "name 'pyvips' is not defined",
     "output_type": "error",
     "traceback": [
      "\u001B[1;31m---------------------------------------------------------------------------\u001B[0m",
      "\u001B[1;31mNameError\u001B[0m                                 Traceback (most recent call last)",
      "Cell \u001B[1;32mIn[4], line 21\u001B[0m\n\u001B[0;32m     18\u001B[0m         tile_image \u001B[38;5;241m=\u001B[39m Image\u001B[38;5;241m.\u001B[39mopen(os\u001B[38;5;241m.\u001B[39mpath\u001B[38;5;241m.\u001B[39mjoin(directory, filename))\n\u001B[0;32m     19\u001B[0m         final_image\u001B[38;5;241m.\u001B[39mpaste(tile_image, (x, y))\n\u001B[1;32m---> 21\u001B[0m im \u001B[38;5;241m=\u001B[39m \u001B[43mpyvips\u001B[49m\u001B[38;5;241m.\u001B[39mImage\u001B[38;5;241m.\u001B[39mnew_from_buffer(final_image)\n\u001B[0;32m     22\u001B[0m image_height \u001B[38;5;241m=\u001B[39m im\u001B[38;5;241m.\u001B[39mheight\n\u001B[0;32m     23\u001B[0m image_bands \u001B[38;5;241m=\u001B[39m im\u001B[38;5;241m.\u001B[39mbands\n",
      "\u001B[1;31mNameError\u001B[0m: name 'pyvips' is not defined"
     ]
    }
   ],
   "source": [
    "# Set the directory containing the image tiles\n",
    "directory = r'C:\\Users\\Kevin\\PycharmProjects\\pix2pix\\pytorch-CycleGAN-and-pix2pix\\results\\unstain2stain_pix2pix\\test_pix2pix_latest\\images\\realB'\n",
    "\n",
    "# Set the size of the final image (size of Unstained image OTS_14832_3)\n",
    "x1 = 200000\n",
    "y1 = 100000\n",
    "\n",
    "# Create a blank, black image with the specified size\n",
    "final_image = Image.new('RGB', (x1, y1), color='black')\n",
    "\n",
    "# Loop over all of the image tiles in the directory\n",
    "for filename in os.listdir(directory):\n",
    "    if filename.endswith('.png'):\n",
    "        # Extract the x and y coordinates from the filename\n",
    "        x, y = map(int, filename.split('xy')[0].split('.png')[0].split('_'))\n",
    "\n",
    "        # Open the image tile and paste it onto the final image at the specified coordinates\n",
    "        tile_image = Image.open(os.path.join(directory, filename))\n",
    "        final_image.paste(tile_image, (x, y))\n",
    "\n",
    "im = pyvips.Image.new_from_buffer(final_image)\n",
    "image_height = im.height\n",
    "image_bands = im.bands\n",
    "im = im.copy()\n",
    "im.set_type(pyvips.GValue.gint_type, \"page-height\", image_height)\n",
    "im.set_type(pyvips.GValue.gstr_type, \"image-description\",\n",
    "            f\"\"\"<?xml version=\"1.0\" encoding=\"UTF-8\"?>\n",
    "<OME xmlns=\"http://www.openmicroscopy.org/Schemas/OME/2016-06\"\n",
    "    xmlns:xsi=\"http://www.w3.org/2001/XMLSchema-instance\"\n",
    "    xsi:schemaLocation=\"http://www.openmicroscopy.org/Schemas/OME/2016-06 http://www.openmicroscopy.org/Schemas/OME/2016-06/ome.xsd\">\n",
    "    <Image ID=\"Image:0\">\n",
    "        <!-- Minimum required fields about image dimensions -->\n",
    "        <Pixels DimensionOrder=\"XYCZT\"\n",
    "                ID=\"Pixels:0\"\n",
    "                SizeC=\"{image_bands}\"\n",
    "                SizeT=\"1\"\n",
    "                SizeX=\"{im.width}\"\n",
    "                SizeY=\"{image_height}\"\n",
    "                SizeZ=\"1\"\n",
    "                Type=\"uint8\">\n",
    "        </Pixels>\n",
    "    </Image>\n",
    "</OME>\"\"\")\n",
    "src = r'\\\\shelter\\Kyu\\unstain2stain'\n",
    "im.tiffsave(os.path.join(src, 'final_image.ome.tiff'), compression=\"jpeg\", tile=True, tile_width=512,\n",
    "            tile_height=512, pyramid=True, subifd=True)"
   ],
   "metadata": {
    "collapsed": false
   }
  },
  {
   "cell_type": "code",
   "execution_count": null,
   "outputs": [],
   "source": [
    "\n",
    "src = r'\\\\shelter\\Kyu\\unstain2stain'\n",
    "ims = [_ for _ in os.listdir(src) if _.endswith('tif')]\n",
    "im1 = pyvips.Image.new_from_file(os.path.join(src, ims[0]))\n",
    "im = im1\n",
    "image_height = im.height\n",
    "image_bands = im.bands\n",
    "\n",
    "# split to separate image planes and stack vertically ready for OME\n",
    "# im = pyvips.Image.arrayjoin(im.bandsplit(), across=1)\n",
    "# set minimal OME metadata\n",
    "# before we can modify an image (set metadata in this case), we must take a\n",
    "# private copy\n",
    "im = im.copy()\n",
    "im.set_type(pyvips.GValue.gint_type, \"page-height\", image_height)\n",
    "im.set_type(pyvips.GValue.gstr_type, \"image-description\",\n",
    "            f\"\"\"<?xml version=\"1.0\" encoding=\"UTF-8\"?>\n",
    "<OME xmlns=\"http://www.openmicroscopy.org/Schemas/OME/2016-06\"\n",
    "    xmlns:xsi=\"http://www.w3.org/2001/XMLSchema-instance\"\n",
    "    xsi:schemaLocation=\"http://www.openmicroscopy.org/Schemas/OME/2016-06 http://www.openmicroscopy.org/Schemas/OME/2016-06/ome.xsd\">\n",
    "    <Image ID=\"Image:0\">\n",
    "        <!-- Minimum required fields about image dimensions -->\n",
    "        <Pixels DimensionOrder=\"XYCZT\"\n",
    "                ID=\"Pixels:0\"\n",
    "                SizeC=\"{image_bands}\"\n",
    "                SizeT=\"1\"\n",
    "                SizeX=\"{im.width}\"\n",
    "                SizeY=\"{image_height}\"\n",
    "                SizeZ=\"1\"\n",
    "                Type=\"uint8\">\n",
    "        </Pixels>\n",
    "    </Image>\n",
    "</OME>\"\"\")\n",
    "\n",
    "im.tiffsave(os.path.join(src, 'multi_channel_pyramid.ome.tiff'), compression=\"jpeg\", tile=True, tile_width=512,\n",
    "            tile_height=512, pyramid=True, subifd=True)"
   ],
   "metadata": {
    "collapsed": false
   }
  },
  {
   "cell_type": "code",
   "execution_count": 3,
   "outputs": [],
   "source": [
    "from PIL import Image\n",
    "\n",
    "with Image.open(r'\\\\shelter\\Kyu\\unstain2stain\\test_final_image.png') as img:\n",
    "    # do something with the image, such as display or process it\n",
    "    img.show()\n"
   ],
   "metadata": {
    "collapsed": false
   }
  },
  {
   "cell_type": "code",
   "execution_count": null,
   "outputs": [],
   "source": [
    "import sys\n",
    "import pyvips\n",
    "\n",
    "im = pyvips.Image.new_from_file('/Users/chamisulhuresh/Desktop/test.ndpi')\n",
    "\n",
    "# openslide will add an alpha ... drop it\n",
    "if im.hasalpha():\n",
    "    im = im[:-1]\n",
    "\n",
    "image_height = im.height\n",
    "image_bands = im.bands\n",
    "\n",
    "# split to separate image planes and stack vertically ready for OME\n",
    "im = pyvips.Image.arrayjoin(im.bandsplit(), across=1)\n",
    "\n",
    "# set minimal OME metadata\n",
    "# before we can modify an image (set metadata in this case), we must take a\n",
    "# private copy\n",
    "im = im.copy()\n",
    "im.set_type(pyvips.GValue.gint_type, \"page-height\", image_height)\n",
    "im.set_type(pyvips.GValue.gstr_type, \"image-description\",\n",
    "            f\"\"\"<?xml version=\"1.0\" encoding=\"UTF-8\"?>\n",
    "<OME xmlns=\"http://www.openmicroscopy.org/Schemas/OME/2016-06\"\n",
    "    xmlns:xsi=\"http://www.w3.org/2001/XMLSchema-instance\"\n",
    "    xsi:schemaLocation=\"http://www.openmicroscopy.org/Schemas/OME/2016-06 http://www.openmicroscopy.org/Schemas/OME/2016-06/ome.xsd\">\n",
    "    <Image ID=\"Image:0\">\n",
    "        <!-- Minimum required fields about image dimensions -->\n",
    "        <Pixels DimensionOrder=\"XYCZT\"\n",
    "                ID=\"Pixels:0\"\n",
    "                SizeC=\"{image_bands}\"\n",
    "                SizeT=\"1\"\n",
    "                SizeX=\"{im.width}\"\n",
    "                SizeY=\"{image_height}\"\n",
    "                SizeZ=\"1\"\n",
    "                Type=\"uint8\">\n",
    "        </Pixels>\n",
    "    </Image>\n",
    "</OME>\"\"\")\n",
    "\n",
    "im.tiffsave('/Users/chamisulhuresh/Desktop/ndpitest.ome.tiff', compression=\"jpeg\", tile=True,\n",
    "            tile_width=512, tile_height=512,\n",
    "            pyramid=True, subifd=True)"
   ],
   "metadata": {
    "collapsed": false
   }
  },
  {
   "cell_type": "code",
   "execution_count": 3,
   "outputs": [
    {
     "ename": "MemoryError",
     "evalue": "",
     "output_type": "error",
     "traceback": [
      "\u001B[1;31m---------------------------------------------------------------------------\u001B[0m",
      "\u001B[1;31mMemoryError\u001B[0m                               Traceback (most recent call last)",
      "Cell \u001B[1;32mIn[3], line 2\u001B[0m\n\u001B[0;32m      1\u001B[0m img \u001B[38;5;241m=\u001B[39m Image\u001B[38;5;241m.\u001B[39mopen(\u001B[38;5;124mr\u001B[39m\u001B[38;5;124m'\u001B[39m\u001B[38;5;130;01m\\\\\u001B[39;00m\u001B[38;5;124mshelter\u001B[39m\u001B[38;5;124m\\\u001B[39m\u001B[38;5;124mKyu\u001B[39m\u001B[38;5;124m\\\u001B[39m\u001B[38;5;124munstain2stain\u001B[39m\u001B[38;5;124m\\\u001B[39m\u001B[38;5;124mtest_final_image.png\u001B[39m\u001B[38;5;124m'\u001B[39m)\n\u001B[1;32m----> 2\u001B[0m imgra \u001B[38;5;241m=\u001B[39m \u001B[43mnp\u001B[49m\u001B[38;5;241;43m.\u001B[39;49m\u001B[43marray\u001B[49m\u001B[43m(\u001B[49m\u001B[43mimg\u001B[49m\u001B[43m)\u001B[49m\n\u001B[0;32m      3\u001B[0m imgra2 \u001B[38;5;241m=\u001B[39m cv2\u001B[38;5;241m.\u001B[39mresize(imgra,(imgra\u001B[38;5;241m.\u001B[39mshape[\u001B[38;5;241m0\u001B[39m]\u001B[38;5;241m/\u001B[39m\u001B[38;5;241m/\u001B[39m\u001B[38;5;241m32\u001B[39m, imgra\u001B[38;5;241m.\u001B[39mshape[\u001B[38;5;241m1\u001B[39m]\u001B[38;5;241m/\u001B[39m\u001B[38;5;241m/\u001B[39m\u001B[38;5;241m32\u001B[39m), interpolation\u001B[38;5;241m=\u001B[39mcv2\u001B[38;5;241m.\u001B[39mINTER_AREA)\n\u001B[0;32m      4\u001B[0m imgra2\u001B[38;5;241m.\u001B[39mshape\n",
      "File \u001B[1;32m~\\.conda\\envs\\wsi_analysis1\\lib\\site-packages\\PIL\\Image.py:688\u001B[0m, in \u001B[0;36mImage.__array_interface__\u001B[1;34m(self)\u001B[0m\n\u001B[0;32m    686\u001B[0m         new[\u001B[38;5;124m\"\u001B[39m\u001B[38;5;124mdata\u001B[39m\u001B[38;5;124m\"\u001B[39m] \u001B[38;5;241m=\u001B[39m \u001B[38;5;28mself\u001B[39m\u001B[38;5;241m.\u001B[39mtobytes(\u001B[38;5;124m\"\u001B[39m\u001B[38;5;124mraw\u001B[39m\u001B[38;5;124m\"\u001B[39m, \u001B[38;5;124m\"\u001B[39m\u001B[38;5;124mL\u001B[39m\u001B[38;5;124m\"\u001B[39m)\n\u001B[0;32m    687\u001B[0m     \u001B[38;5;28;01melse\u001B[39;00m:\n\u001B[1;32m--> 688\u001B[0m         new[\u001B[38;5;124m\"\u001B[39m\u001B[38;5;124mdata\u001B[39m\u001B[38;5;124m\"\u001B[39m] \u001B[38;5;241m=\u001B[39m \u001B[38;5;28;43mself\u001B[39;49m\u001B[38;5;241;43m.\u001B[39;49m\u001B[43mtobytes\u001B[49m\u001B[43m(\u001B[49m\u001B[43m)\u001B[49m\n\u001B[0;32m    689\u001B[0m \u001B[38;5;28;01mexcept\u001B[39;00m \u001B[38;5;167;01mException\u001B[39;00m \u001B[38;5;28;01mas\u001B[39;00m e:\n\u001B[0;32m    690\u001B[0m     \u001B[38;5;28;01mif\u001B[39;00m \u001B[38;5;129;01mnot\u001B[39;00m \u001B[38;5;28misinstance\u001B[39m(e, (\u001B[38;5;167;01mMemoryError\u001B[39;00m, \u001B[38;5;167;01mRecursionError\u001B[39;00m)):\n",
      "File \u001B[1;32m~\\.conda\\envs\\wsi_analysis1\\lib\\site-packages\\PIL\\Image.py:766\u001B[0m, in \u001B[0;36mImage.tobytes\u001B[1;34m(self, encoder_name, *args)\u001B[0m\n\u001B[0;32m    763\u001B[0m \u001B[38;5;28;01mif\u001B[39;00m s \u001B[38;5;241m<\u001B[39m \u001B[38;5;241m0\u001B[39m:\n\u001B[0;32m    764\u001B[0m     \u001B[38;5;28;01mraise\u001B[39;00m \u001B[38;5;167;01mRuntimeError\u001B[39;00m(\u001B[38;5;124mf\u001B[39m\u001B[38;5;124m\"\u001B[39m\u001B[38;5;124mencoder error \u001B[39m\u001B[38;5;132;01m{\u001B[39;00ms\u001B[38;5;132;01m}\u001B[39;00m\u001B[38;5;124m in tobytes\u001B[39m\u001B[38;5;124m\"\u001B[39m)\n\u001B[1;32m--> 766\u001B[0m \u001B[38;5;28;01mreturn\u001B[39;00m \u001B[38;5;124;43mb\u001B[39;49m\u001B[38;5;124;43m\"\u001B[39;49m\u001B[38;5;124;43m\"\u001B[39;49m\u001B[38;5;241;43m.\u001B[39;49m\u001B[43mjoin\u001B[49m\u001B[43m(\u001B[49m\u001B[43mdata\u001B[49m\u001B[43m)\u001B[49m\n",
      "\u001B[1;31mMemoryError\u001B[0m: "
     ]
    }
   ],
   "source": [
    "img = Image.open(r'\\\\shelter\\Kyu\\unstain2stain\\test_final_image.png')\n",
    "imgra = np.array(img)\n",
    "imgra2 = cv2.resize(imgra,(imgra.shape[0]//1000, imgra.shape[1]//1000), interpolation=cv2.INTER_AREA)\n",
    "imgra2.shape\n",
    "# Image.fromarray(imgra2).show()"
   ],
   "metadata": {
    "collapsed": false
   }
  },
  {
   "cell_type": "markdown",
   "source": [
    "### Try registering the two tiles with optical flow to compare with matlab rigid registration:\n"
   ],
   "metadata": {
    "collapsed": false
   }
  },
  {
   "cell_type": "code",
   "execution_count": 11,
   "outputs": [],
   "source": [
    "def registrate_two_images(reference_image_path, moving_image_path, save_path):\n",
    "    \"\"\"\n",
    "    Note: The order of the files saved in the ref_img_path and mov_img_path must be the same so that you are registering the same images!\n",
    "    \"\"\"\n",
    "    ref_img_path = [_ for _ in os.listdir(reference_image_path) if _.endswith(\".png\")]\n",
    "    ref_img_path_complete = [os.path.join(reference_image_path, x) for x in ref_img_path]\n",
    "    mov_img_path = [_ for _ in os.listdir(moving_image_path) if _.endswith(\".png\")]\n",
    "    mov_img_path_complete = [os.path.join(moving_image_path, x) for x in mov_img_path]\n",
    "    mov_img_name = [x.replace('.png','') for x in mov_img_path]\n",
    "    if int(len(ref_img_path)) != int(len(mov_img_path)):\n",
    "        print(\"Number of images in reference and moving file paths are not equal, please fix and try again!\")\n",
    "        return\n",
    "\n",
    "    start = time()\n",
    "    for idx in range(0,len(ref_img_path_complete)):\n",
    "        ref_img = Image.open(ref_img_path_complete[idx])\n",
    "        mov_img = Image.open(mov_img_path_complete[idx])\n",
    "        ref_img = np.array(ref_img)\n",
    "        mov_img = np.array(mov_img)\n",
    "        ref_img_g = cv2.cvtColor(ref_img,cv2.COLOR_RGBA2GRAY)\n",
    "        mov_img_g = cv2.cvtColor(mov_img,cv2.COLOR_RGBA2GRAY)\n",
    "        v, u = optical_flow_tvl1(ref_img_g, mov_img_g)\n",
    "        nr, nc = ref_img_g.shape\n",
    "        row_coords, col_coords = np.meshgrid(np.arange(nr), np.arange(nc),\n",
    "                                             indexing='ij')\n",
    "        mov_img_warp_ra =[]\n",
    "        for i in range(3):\n",
    "            mov_img_warp = warp(mov_img[:,:,i], np.array([row_coords + v, col_coords + u]),mode='edge')\n",
    "            mov_img_warp_ra.append(mov_img_warp)\n",
    "        r = np.array(mov_img_warp_ra[0]*255).astype('uint8')\n",
    "        g = np.array(mov_img_warp_ra[1]*255).astype('uint8')\n",
    "        b = np.array(mov_img_warp_ra[2]*255).astype('uint8')\n",
    "        rgb = np.stack([r,g,b],axis=2)\n",
    "        reg_img = Image.fromarray(rgb)\n",
    "        print(idx)\n",
    "        reg_img.save(os.path.join(save_path,str(mov_img_name[idx]) + '.png'))\n",
    "\n",
    "    end = time()\n",
    "    print(\"time it took to register: \"+  str((end-start)/60) + \" minutes\")\n"
   ],
   "metadata": {
    "collapsed": false
   }
  },
  {
   "cell_type": "markdown",
   "source": [
    "### Possible dummy code to recognize H&E images and discard images that are not H&E:"
   ],
   "metadata": {
    "collapsed": false
   },
   "execution_count": 7
  },
  {
   "cell_type": "code",
   "execution_count": null,
   "outputs": [],
   "source": [
    "import cv2\n",
    "import os\n",
    "\n",
    "# Set path to the folder containing the images\n",
    "image_folder = 'path/to/folder'\n",
    "\n",
    "# Set threshold for H&E stained images (adjust as needed)\n",
    "threshold = 0.1\n",
    "\n",
    "# Loop through each image in the folder\n",
    "for image_file in os.listdir(image_folder):\n",
    "    # Read the image\n",
    "    image = cv2.imread(os.path.join(image_folder, image_file))\n",
    "\n",
    "    # Convert the image to grayscale\n",
    "    gray = cv2.cvtColor(image, cv2.COLOR_BGR2GRAY)\n",
    "\n",
    "    # Calculate the blue-green ratio (BGR) using the H&E staining method\n",
    "    blue = image[:, :, 0].astype(float)\n",
    "    green = image[:, :, 1].astype(float)\n",
    "    red = image[:, :, 2].astype(float)\n",
    "    bgr = (blue - (red + green) / 2) / (blue + green + red)\n",
    "    bgr_mean = bgr.mean()\n",
    "\n",
    "    # If the BGR ratio is below the threshold, delete the image\n",
    "    if bgr_mean < threshold:\n",
    "        os.remove(os.path.join(image_folder, image_file))\n"
   ],
   "metadata": {
    "collapsed": false
   }
  },
  {
   "cell_type": "code",
   "execution_count": 32,
   "outputs": [
    {
     "name": "stderr",
     "output_type": "stream",
     "text": [
      "C:\\Users\\Kevin\\AppData\\Local\\Temp\\ipykernel_24640\\2577889262.py:22: RuntimeWarning: invalid value encountered in divide\n",
      "  bgr = (blue - (red + green) / 2) / (blue + green + red)\n"
     ]
    },
    {
     "name": "stdout",
     "output_type": "stream",
     "text": [
      "54\n"
     ]
    }
   ],
   "source": [
    "import os\n",
    "import cv2\n",
    "\n",
    "# Define the directory where the image tiles are stored\n",
    "img_dir = r'\"\\\\shelter\\Kyu\\unstain2stain\\unstain2stain_tile\\train\\HE\\OTS_14684_3_he - Copy'\n",
    "\n",
    "# Define the threshold value for identifying empty tiles\n",
    "threshold_value = 200\n",
    "removed_name = []\n",
    "# Loop through all the image files in the directory\n",
    "for filename in os.listdir(img_dir):\n",
    "    # Load the image\n",
    "    img = cv2.imread(os.path.join(img_dir, filename))\n",
    "\n",
    "    # Convert the image to grayscale\n",
    "    gray = cv2.cvtColor(img, cv2.COLOR_BGR2GRAY)\n",
    "\n",
    "    # Calculate the mean pixel value of the grayscale image\n",
    "    mean_pixel_value = cv2.mean(gray)[0]\n",
    "\n",
    "    # If the mean pixel value is below the threshold, assume the tile is empty and discard it\n",
    "    if mean_pixel_value < threshold_value:\n",
    "        os.remove(os.path.join(img_dir, filename))\n",
    "        print('Removed:', filename)\n",
    "        removed_name.append(filename)\n",
    "    else:\n",
    "        print('Kept:', filename)\n"
   ],
   "metadata": {
    "collapsed": false
   }
  },
  {
   "cell_type": "code",
   "execution_count": 34,
   "outputs": [
    {
     "data": {
      "text/plain": "['1126_1126xy0001.png',\n '1126_8294xy0008.png',\n '52326_73830xy3972.png',\n '53350_18534xy3996.png',\n '53350_25702xy4003.png',\n '53350_27750xy4005.png',\n '53350_32870xy4010.png',\n '53350_33894xy4011.png',\n '53350_37990xy4015.png',\n '53350_40038xy4017.png',\n '53350_41062xy4018.png',\n '53350_42086xy4019.png',\n '53350_47206xy4024.png',\n '53350_48230xy4025.png',\n '53350_61542xy4038.png',\n '53350_62566xy4039.png',\n '53350_63590xy4040.png',\n '53350_64614xy4041.png',\n '53350_65638xy4042.png',\n '53350_66662xy4043.png',\n '54374_26726xy4082.png',\n '54374_27750xy4083.png',\n '54374_32870xy4088.png',\n '54374_33894xy4089.png',\n '54374_36966xy4092.png',\n '54374_39014xy4094.png',\n '54374_40038xy4095.png',\n '54374_41062xy4096.png',\n '54374_43110xy4098.png',\n '54374_62566xy4117.png',\n '54374_63590xy4118.png',\n '54374_64614xy4119.png',\n '54374_65638xy4120.png',\n '55398_23654xy4157.png',\n '55398_24678xy4158.png',\n '55398_25702xy4159.png',\n '55398_26726xy4160.png',\n '55398_27750xy4161.png',\n '55398_28774xy4162.png',\n '55398_30822xy4164.png',\n '55398_31846xy4165.png',\n '55398_32870xy4166.png',\n '55398_33894xy4167.png',\n '55398_34918xy4168.png',\n '55398_35942xy4169.png',\n '55398_36966xy4170.png',\n '55398_37990xy4171.png',\n '55398_39014xy4172.png',\n '55398_40038xy4173.png',\n '55398_41062xy4174.png',\n '55398_42086xy4175.png',\n '55398_43110xy4176.png',\n '55398_44134xy4177.png',\n '55398_63590xy4196.png']"
     },
     "execution_count": 34,
     "metadata": {},
     "output_type": "execute_result"
    }
   ],
   "source": [
    "### Code to drop out low MI tiles:"
   ],
   "metadata": {
    "collapsed": false
   }
  }
 ],
 "metadata": {
  "kernelspec": {
   "display_name": "Python 3",
   "language": "python",
   "name": "python3"
  },
  "language_info": {
   "codemirror_mode": {
    "name": "ipython",
    "version": 2
   },
   "file_extension": ".py",
   "mimetype": "text/x-python",
   "name": "python",
   "nbconvert_exporter": "python",
   "pygments_lexer": "ipython2",
   "version": "2.7.6"
  }
 },
 "nbformat": 4,
 "nbformat_minor": 0
}
