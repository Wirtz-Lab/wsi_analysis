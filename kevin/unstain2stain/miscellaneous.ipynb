{
 "cells": [
  {
   "cell_type": "code",
   "execution_count": 1,
   "outputs": [],
   "source": [
    "import os\n",
    "import shutil"
   ],
   "metadata": {
    "collapsed": false
   }
  },
  {
   "cell_type": "code",
   "execution_count": 6,
   "outputs": [
    {
     "data": {
      "text/plain": "['\\\\\\\\shelter\\\\Kyu\\\\unstain2stain\\\\unstain2stain_tile\\\\train\\\\HE\\\\other',\n '\\\\\\\\shelter\\\\Kyu\\\\unstain2stain\\\\unstain2stain_tile\\\\train\\\\HE\\\\OTS_14684_3_he',\n '\\\\\\\\shelter\\\\Kyu\\\\unstain2stain\\\\unstain2stain_tile\\\\train\\\\HE\\\\OTS_14684_4_he',\n '\\\\\\\\shelter\\\\Kyu\\\\unstain2stain\\\\unstain2stain_tile\\\\train\\\\HE\\\\OTS_14684_7_he',\n '\\\\\\\\shelter\\\\Kyu\\\\unstain2stain\\\\unstain2stain_tile\\\\train\\\\HE\\\\OTS_14684_8_he',\n '\\\\\\\\shelter\\\\Kyu\\\\unstain2stain\\\\unstain2stain_tile\\\\train\\\\HE\\\\OTS_14684_9_he']"
     },
     "execution_count": 6,
     "metadata": {},
     "output_type": "execute_result"
    }
   ],
   "source": [
    "src = r'\\\\shelter\\Kyu\\unstain2stain\\unstain2stain_tile\\train\\HE'\n",
    "file_list = os.listdir(src)\n",
    "train_file_list = file_list[0:6]\n",
    "train_file_list = [os.path.join(src,x) for x in train_file_list]\n",
    "train_file_list"
   ],
   "metadata": {
    "collapsed": false
   }
  },
  {
   "cell_type": "code",
   "execution_count": 7,
   "metadata": {
    "collapsed": true
   },
   "outputs": [],
   "source": [
    "import os\n",
    "import shutil\n",
    "\n",
    "# define the paths to the folders containing the image files\n",
    "folder_paths = [train_file_list[1], train_file_list[2], train_file_list[3], train_file_list[4],train_file_list[5]]\n",
    "\n",
    "# define the path to the folder where you want to consolidate the image files\n",
    "consolidated_folder_path = train_file_list[0]\n",
    "\n",
    "# create the consolidated folder if it doesn't already exist\n",
    "if not os.path.exists(consolidated_folder_path):\n",
    "    os.makedirs(consolidated_folder_path)\n",
    "\n",
    "# loop through each folder containing the image files\n",
    "for folder_path in folder_paths:\n",
    "    # loop through each file in the folder\n",
    "    for filename in os.listdir(folder_path):\n",
    "        # get the full path to the file\n",
    "        file_path = os.path.join(folder_path, filename)\n",
    "        # generate a new file name with a unique suffix\n",
    "        new_filename = filename\n",
    "        suffix = 1\n",
    "        while os.path.exists(os.path.join(consolidated_folder_path, new_filename)):\n",
    "            suffix += 1\n",
    "            new_filename = f\"{os.path.splitext(filename)[0]}_{suffix}{os.path.splitext(filename)[1]}\"\n",
    "        # copy the file to the consolidated folder with the new name\n",
    "        shutil.copy(file_path, os.path.join(consolidated_folder_path, new_filename))\n"
   ]
  },
  {
   "cell_type": "code",
   "execution_count": 10,
   "outputs": [
    {
     "data": {
      "text/plain": "['\\\\\\\\shelter\\\\Kyu\\\\unstain2stain\\\\unstain2stain_tile\\\\train\\\\Unstained\\\\other',\n '\\\\\\\\shelter\\\\Kyu\\\\unstain2stain\\\\unstain2stain_tile\\\\train\\\\Unstained\\\\OTS_14684_3',\n '\\\\\\\\shelter\\\\Kyu\\\\unstain2stain\\\\unstain2stain_tile\\\\train\\\\Unstained\\\\OTS_14684_4',\n '\\\\\\\\shelter\\\\Kyu\\\\unstain2stain\\\\unstain2stain_tile\\\\train\\\\Unstained\\\\OTS_14684_7',\n '\\\\\\\\shelter\\\\Kyu\\\\unstain2stain\\\\unstain2stain_tile\\\\train\\\\Unstained\\\\OTS_14684_8',\n '\\\\\\\\shelter\\\\Kyu\\\\unstain2stain\\\\unstain2stain_tile\\\\train\\\\Unstained\\\\OTS_14684_9']"
     },
     "execution_count": 10,
     "metadata": {},
     "output_type": "execute_result"
    }
   ],
   "source": [
    "src = r'\\\\shelter\\Kyu\\unstain2stain\\unstain2stain_tile\\train\\Unstained'\n",
    "file_list = os.listdir(src)\n",
    "test_file_list = file_list[0:6]\n",
    "test_file_list = [os.path.join(src,x) for x in test_file_list]\n",
    "test_file_list"
   ],
   "metadata": {
    "collapsed": false
   }
  },
  {
   "cell_type": "code",
   "execution_count": 11,
   "outputs": [],
   "source": [
    "import os\n",
    "import shutil\n",
    "\n",
    "# define the paths to the folders containing the image files\n",
    "folder_paths = [test_file_list[1], test_file_list[2], test_file_list[3], test_file_list[4],test_file_list[5]]\n",
    "\n",
    "# define the path to the folder where you want to consolidate the image files\n",
    "consolidated_folder_path = test_file_list[0]\n",
    "\n",
    "# create the consolidated folder if it doesn't already exist\n",
    "if not os.path.exists(consolidated_folder_path):\n",
    "    os.makedirs(consolidated_folder_path)\n",
    "\n",
    "# loop through each folder containing the image files\n",
    "for folder_path in folder_paths:\n",
    "    # loop through each file in the folder\n",
    "    for filename in os.listdir(folder_path):\n",
    "        # get the full path to the file\n",
    "        file_path = os.path.join(folder_path, filename)\n",
    "        # generate a new file name with a unique suffix\n",
    "        new_filename = filename\n",
    "        suffix = 1\n",
    "        while os.path.exists(os.path.join(consolidated_folder_path, new_filename)):\n",
    "            suffix += 1\n",
    "            new_filename = f\"{os.path.splitext(filename)[0]}_{suffix}{os.path.splitext(filename)[1]}\"\n",
    "        # copy the file to the consolidated folder with the new name\n",
    "        shutil.copy(file_path, os.path.join(consolidated_folder_path, new_filename))\n"
   ],
   "metadata": {
    "collapsed": false
   }
  },
  {
   "cell_type": "code",
   "execution_count": null,
   "outputs": [],
   "source": [],
   "metadata": {
    "collapsed": false
   }
  }
 ],
 "metadata": {
  "kernelspec": {
   "display_name": "Python 3",
   "language": "python",
   "name": "python3"
  },
  "language_info": {
   "codemirror_mode": {
    "name": "ipython",
    "version": 2
   },
   "file_extension": ".py",
   "mimetype": "text/x-python",
   "name": "python",
   "nbconvert_exporter": "python",
   "pygments_lexer": "ipython2",
   "version": "2.7.6"
  }
 },
 "nbformat": 4,
 "nbformat_minor": 0
}
