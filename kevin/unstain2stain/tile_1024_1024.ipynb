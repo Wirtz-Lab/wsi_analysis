{
 "cells": [
  {
   "cell_type": "code",
   "execution_count": 2,
   "outputs": [],
   "source": [
    "#importing openslide:\n",
    "OPENSLIDE_PATH = r\"C:\\Users\\Kevin\\Downloads\\openslide-win64-20221217\\bin\"\n",
    "\n",
    "import os\n",
    "if hasattr(os, 'add_dll_directory'):\n",
    "    # Python >= 3.8 on Windows\n",
    "    with os.add_dll_directory(OPENSLIDE_PATH):\n",
    "        import openslide\n",
    "else:\n",
    "    import openslide"
   ],
   "metadata": {
    "collapsed": false
   }
  },
  {
   "cell_type": "code",
   "execution_count": 2,
   "outputs": [],
   "source": [
    "import numpy as np\n",
    "from PIL import Image\n",
    "import math\n",
    "import os\n",
    "import pandas as pd\n",
    "from tqdm import tqdm"
   ],
   "metadata": {
    "collapsed": false,
    "ExecuteTime": {
     "start_time": "2023-04-28T09:59:20.811863Z",
     "end_time": "2023-04-28T09:59:20.850070Z"
    }
   }
  },
  {
   "cell_type": "code",
   "execution_count": 3,
   "outputs": [],
   "source": [
    "# First get list of all deparafinized and student_score >2 and CLUE:\n",
    "all_df_src = r'\\\\shelter\\Kyu\\unstain2stain\\unstain2stain_wsi\\wsi_list_230314.xlsx'\n",
    "all_df = pd.read_excel(all_df_src)\n",
    "desired_df_name = all_df[all_df.scan_batch == 3] # CLUE\n",
    "desired_df_name1 = all_df[all_df.scan_batch == 4] # CLUE\n",
    "desired_name = list(desired_df_name.wsi_name)\n",
    "desired_name1 = list(desired_df_name1.wsi_name)\n",
    "desired_names = desired_name + desired_name1\n",
    "he_desired_names = [x for x in desired_names if x[-3:] == \"_he\"]\n",
    "he_desired_names_src = [x+\".ndpi\" for x in he_desired_names]\n",
    "us_desired_names = [x for x in desired_names if not x[-3:] == \"_he\"]\n",
    "us_desired_names_src = [x+\".ndpi\" for x in us_desired_names]\n",
    "US_dst_src = r'\\\\shelter\\Kyu\\unstain2stain\\tiles\\unregistered_tiles\\US'\n",
    "US_ndpi_src = r'\\\\shelter\\Kyu\\unstain2stain\\unstain2stain_wsi\\Unstained'\n",
    "US_desired_src = [os.path.join(US_ndpi_src,x) for x in us_desired_names_src]\n",
    "US_desired_src"
   ],
   "metadata": {
    "collapsed": false,
    "ExecuteTime": {
     "start_time": "2023-04-28T09:59:31.018871Z",
     "end_time": "2023-04-28T09:59:31.405128Z"
    }
   }
  },
  {
   "cell_type": "code",
   "execution_count": null,
   "outputs": [],
   "source": [
    "for idx, src in tqdm(enumerate(US_desired_src),total=len(US_desired_src),colour='red',desc='WSI Processed'):\n",
    "    wsi_name = us_desired_names[idx]\n",
    "    save_src = os.path.join(US_dst_src,wsi_name)\n",
    "    if not os.path.exists(save_src):\n",
    "        os.makedirs(save_src)\n",
    "    slide = openslide.open_slide(src)\n",
    "    target_level = 0\n",
    "    target_dim = slide.level_dimensions[target_level]\n",
    "    width, height = target_dim\n",
    "    # unpad since it's white background anyways\n",
    "    tiles_x_unpad = int((width % 1024) / 2)\n",
    "    tiles_y_unpad = int((height % 1024) / 2)\n",
    "    # read from 0+tiles_x_unpad/y_pad and max-tiles_x_unpad/ypad:\n",
    "    num_rows= ((width - tiles_x_unpad) - (0 + tiles_x_unpad)) / 1024\n",
    "    num_cols= ((height - tiles_y_unpad) - (0 + tiles_y_unpad)) / 1024\n",
    "    num_rows = int(num_rows)\n",
    "    num_cols = int(num_cols)\n",
    "    print(num_rows)\n",
    "    print(num_cols)\n",
    "        # tile to 1024 x 1024\n",
    "    for row_idx in range(num_rows): # 0~num_rows-1\n",
    "        for col_idx in range(num_cols): # 0~num_cols-1\n",
    "            xcoord= tiles_x_unpad + 1024 * row_idx\n",
    "            ycoord= tiles_y_unpad + 1024 * col_idx\n",
    "            nsimage = slide.read_region(location=(xcoord,ycoord),level=target_level,size=(1024,1024))\n",
    "            nsimage = np.array(nsimage)\n",
    "            imgidx = row_idx * num_cols + (col_idx + 1)\n",
    "            imgidx = f\"{imgidx:04d}\"\n",
    "            imgcoord = str(xcoord) + \"_\" + str(ycoord) + \"xy\"\n",
    "            imgname = imgcoord + imgidx + \".png\"\n",
    "            tile_save_src = os.path.join(save_src,imgname)\n",
    "            Image.fromarray(nsimage).save(tile_save_src)"
   ],
   "metadata": {
    "collapsed": false
   }
  },
  {
   "cell_type": "markdown",
   "source": [
    "### Parallel processing:"
   ],
   "metadata": {
    "collapsed": false
   }
  },
  {
   "cell_type": "code",
   "execution_count": 1,
   "outputs": [],
   "source": [
    "import numpy as np\n",
    "from PIL import Image\n",
    "import math\n",
    "import os\n",
    "import pandas as pd\n",
    "from tqdm import tqdm\n",
    "import pathos\n",
    "from pathos.multiprocessing import ProcessPool\n",
    "num_nodes = pathos.helpers.cpu_count()"
   ],
   "metadata": {
    "collapsed": false,
    "ExecuteTime": {
     "start_time": "2023-04-30T14:51:24.481083Z",
     "end_time": "2023-04-30T14:51:24.802932Z"
    }
   }
  },
  {
   "cell_type": "code",
   "execution_count": 3,
   "outputs": [
    {
     "data": {
      "text/plain": "['\\\\\\\\shelter\\\\Kyu\\\\unstain2stain\\\\unstain2stain_wsi\\\\Unstained\\\\OTS_14684_1.ndpi',\n '\\\\\\\\shelter\\\\Kyu\\\\unstain2stain\\\\unstain2stain_wsi\\\\Unstained\\\\OTS_14684_2.ndpi',\n '\\\\\\\\shelter\\\\Kyu\\\\unstain2stain\\\\unstain2stain_wsi\\\\Unstained\\\\OTS_14684_3.ndpi',\n '\\\\\\\\shelter\\\\Kyu\\\\unstain2stain\\\\unstain2stain_wsi\\\\Unstained\\\\OTS_14684_4.ndpi',\n '\\\\\\\\shelter\\\\Kyu\\\\unstain2stain\\\\unstain2stain_wsi\\\\Unstained\\\\OTS_14684_5.ndpi',\n '\\\\\\\\shelter\\\\Kyu\\\\unstain2stain\\\\unstain2stain_wsi\\\\Unstained\\\\OTS_14684_6.ndpi',\n '\\\\\\\\shelter\\\\Kyu\\\\unstain2stain\\\\unstain2stain_wsi\\\\Unstained\\\\OTS_14684_7.ndpi',\n '\\\\\\\\shelter\\\\Kyu\\\\unstain2stain\\\\unstain2stain_wsi\\\\Unstained\\\\OTS_14684_8.ndpi',\n '\\\\\\\\shelter\\\\Kyu\\\\unstain2stain\\\\unstain2stain_wsi\\\\Unstained\\\\OTS_14684_9.ndpi',\n '\\\\\\\\shelter\\\\Kyu\\\\unstain2stain\\\\unstain2stain_wsi\\\\Unstained\\\\OTS_14832_1.ndpi',\n '\\\\\\\\shelter\\\\Kyu\\\\unstain2stain\\\\unstain2stain_wsi\\\\Unstained\\\\OTS_14832_2.ndpi',\n '\\\\\\\\shelter\\\\Kyu\\\\unstain2stain\\\\unstain2stain_wsi\\\\Unstained\\\\OTS_14832_3.ndpi',\n '\\\\\\\\shelter\\\\Kyu\\\\unstain2stain\\\\unstain2stain_wsi\\\\Unstained\\\\OTS_14832_4.ndpi',\n '\\\\\\\\shelter\\\\Kyu\\\\unstain2stain\\\\unstain2stain_wsi\\\\Unstained\\\\OTS_14832_5.ndpi',\n '\\\\\\\\shelter\\\\Kyu\\\\unstain2stain\\\\unstain2stain_wsi\\\\Unstained\\\\OTS_14832_6.ndpi',\n '\\\\\\\\shelter\\\\Kyu\\\\unstain2stain\\\\unstain2stain_wsi\\\\Unstained\\\\OTS_14832_7.ndpi',\n '\\\\\\\\shelter\\\\Kyu\\\\unstain2stain\\\\unstain2stain_wsi\\\\Unstained\\\\OTS_14832_8.ndpi',\n '\\\\\\\\shelter\\\\Kyu\\\\unstain2stain\\\\unstain2stain_wsi\\\\Unstained\\\\OTS_14832_9.ndpi',\n '\\\\\\\\shelter\\\\Kyu\\\\unstain2stain\\\\unstain2stain_wsi\\\\Unstained\\\\OTS_14832_10.ndpi',\n '\\\\\\\\shelter\\\\Kyu\\\\unstain2stain\\\\unstain2stain_wsi\\\\Unstained\\\\OTS_14832_11.ndpi',\n '\\\\\\\\shelter\\\\Kyu\\\\unstain2stain\\\\unstain2stain_wsi\\\\Unstained\\\\OTS_14832_12.ndpi',\n '\\\\\\\\shelter\\\\Kyu\\\\unstain2stain\\\\unstain2stain_wsi\\\\Unstained\\\\OTS_14832_13.ndpi',\n '\\\\\\\\shelter\\\\Kyu\\\\unstain2stain\\\\unstain2stain_wsi\\\\Unstained\\\\OTS_14832_14.ndpi',\n '\\\\\\\\shelter\\\\Kyu\\\\unstain2stain\\\\unstain2stain_wsi\\\\Unstained\\\\OTS_14832_15.ndpi',\n '\\\\\\\\shelter\\\\Kyu\\\\unstain2stain\\\\unstain2stain_wsi\\\\Unstained\\\\OTS_14832_16.ndpi']"
     },
     "execution_count": 3,
     "metadata": {},
     "output_type": "execute_result"
    }
   ],
   "source": [
    "# First get list of all deparafinized and student_score >2 and CLUE:\n",
    "all_df_src = r'\\\\shelter\\Kyu\\unstain2stain\\unstain2stain_wsi\\wsi_list_230314.xlsx'\n",
    "all_df = pd.read_excel(all_df_src)\n",
    "desired_df_name = all_df[all_df.scan_batch == 3] # CLUE\n",
    "desired_df_name1 = all_df[all_df.scan_batch == 4] # CLUE\n",
    "desired_name = list(desired_df_name.wsi_name)\n",
    "desired_name1 = list(desired_df_name1.wsi_name)\n",
    "desired_names = desired_name + desired_name1\n",
    "he_desired_names = [x for x in desired_names if x[-3:] == \"_he\"]\n",
    "he_desired_names_src = [x+\".ndpi\" for x in he_desired_names]\n",
    "us_desired_names = [x for x in desired_names if not x[-3:] == \"_he\"]\n",
    "US_dst_src = r'\\\\shelter\\Kyu\\unstain2stain\\tiles\\unregistered_tiles\\US2'\n",
    "US_ndpi_src = r'\\\\shelter\\Kyu\\unstain2stain\\unstain2stain_wsi\\Unstained'\n",
    "US_desired_src = [os.path.join(US_ndpi_src,x) for x in us_desired_names_src]\n",
    "US_desired_src"
   ],
   "metadata": {
    "collapsed": false,
    "ExecuteTime": {
     "start_time": "2023-04-30T14:51:35.256142Z",
     "end_time": "2023-04-30T14:51:35.537354Z"
    }
   }
  },
  {
   "cell_type": "code",
   "execution_count": 4,
   "outputs": [],
   "source": [
    "#importing openslide:\n",
    "OPENSLIDE_PATH = r\"C:\\Users\\labuser1\\Downloads\\openslide-win64-20230414\\bin\"\n",
    "\n",
    "import os\n",
    "if hasattr(os, 'add_dll_directory'):\n",
    "    # Python >= 3.8 on Windows\n",
    "    with os.add_dll_directory(OPENSLIDE_PATH):\n",
    "        import openslide\n",
    "else:\n",
    "    import openslide"
   ],
   "metadata": {
    "collapsed": false
   }
  },
  {
   "cell_type": "code",
   "execution_count": 4,
   "outputs": [],
   "source": [
    "def tile_wsi(src, wsi_name, save_src):\n",
    "    import os\n",
    "    import numpy as np\n",
    "    from PIL import Image\n",
    "    import math\n",
    "    import pandas as pd\n",
    "    from tqdm import tqdm\n",
    "    from pathos.multiprocessing import ProcessPool\n",
    "    OPENSLIDE_PATH = r\"C:\\Users\\labuser1\\Downloads\\openslide-win64-20230414\\bin\"\n",
    "    if hasattr(os, 'add_dll_directory'):\n",
    "        # Python >= 3.8 on Windows\n",
    "        with os.add_dll_directory(OPENSLIDE_PATH):\n",
    "            import openslide\n",
    "    else:\n",
    "        import openslide\n",
    "    if not os.path.exists(save_src):\n",
    "        os.makedirs(save_src)\n",
    "    slide = openslide.open_slide(src)\n",
    "    target_level = 0\n",
    "    target_dim = slide.level_dimensions[target_level]\n",
    "    width, height = target_dim\n",
    "    # unpad since it's white background anyways\n",
    "    tiles_x_unpad = int((width % 1024) / 2)\n",
    "    tiles_y_unpad = int((height % 1024) / 2)\n",
    "    # read from 0+tiles_x_unpad/y_pad and max-tiles_x_unpad/ypad:\n",
    "    num_rows= ((width - tiles_x_unpad) - (0 + tiles_x_unpad)) / 1024\n",
    "    num_cols= ((height - tiles_y_unpad) - (0 + tiles_y_unpad)) / 1024\n",
    "    num_rows = int(num_rows)\n",
    "    num_cols = int(num_cols)\n",
    "    # tile to 1024 x 1024\n",
    "    for row_idx in range(num_rows): # 0~num_rows-1\n",
    "        for col_idx in range(num_cols): # 0~num_cols-1\n",
    "            xcoord= tiles_x_unpad + 1024 * row_idx\n",
    "            ycoord= tiles_y_unpad + 1024 * col_idx\n",
    "            nsimage = slide.read_region(location=(xcoord,ycoord),level=target_level,size=(1024,1024))\n",
    "            nsimage = np.array(nsimage)\n",
    "            imgidx = row_idx * num_cols + (col_idx + 1)\n",
    "            imgidx = f\"{imgidx:04d}\"\n",
    "            imgcoord = str(xcoord) + \"_\" + str(ycoord) + \"xy\"\n",
    "            imgname = imgcoord + imgidx + \".png\"\n",
    "            tile_save_src = os.path.join(save_src, imgname)\n",
    "            Image.fromarray(nsimage).save(tile_save_src)"
   ],
   "metadata": {
    "collapsed": false,
    "ExecuteTime": {
     "start_time": "2023-04-30T14:51:53.945553Z",
     "end_time": "2023-04-30T14:51:53.974774Z"
    }
   }
  },
  {
   "cell_type": "code",
   "execution_count": null,
   "outputs": [
    {
     "name": "stderr",
     "output_type": "stream",
     "text": [
      "WSI Processed: 100%|\u001B[31m██████████\u001B[0m| 25/25 [00:00<?, ?it/s]\n"
     ]
    }
   ],
   "source": [
    "# started running this on 2:50 PM 4/30/23\n",
    "# for US:\n",
    "pool = ProcessPool(nodes=num_nodes)\n",
    "results = []\n",
    "\n",
    "for idx, src in tqdm(enumerate(US_desired_src), total=len(US_desired_src), colour='red', desc='WSI Processed'):\n",
    "    wsi_name = us_desired_names[idx]\n",
    "    save_src = os.path.join(US_dst_src, wsi_name)\n",
    "    results.append(pool.apipe(tile_wsi, src, wsi_name, save_src))\n",
    "\n",
    "# Get the results\n",
    "for result in results:\n",
    "    import os\n",
    "    result.get()\n",
    "\n",
    "# Close the process pool\n",
    "pool.close()"
   ],
   "metadata": {
    "collapsed": false
   }
  },
  {
   "cell_type": "markdown",
   "source": [
    "### Same code for HE:"
   ],
   "metadata": {
    "collapsed": false
   }
  },
  {
   "cell_type": "code",
   "execution_count": 1,
   "outputs": [],
   "source": [
    "import numpy as np\n",
    "from PIL import Image\n",
    "import math\n",
    "import os\n",
    "import pandas as pd\n",
    "from tqdm import tqdm\n",
    "import pathos\n",
    "from pathos.multiprocessing import ProcessPool\n",
    "num_nodes = pathos.helpers.cpu_count()"
   ],
   "metadata": {
    "collapsed": false,
    "ExecuteTime": {
     "start_time": "2023-04-30T15:14:15.842090Z",
     "end_time": "2023-04-30T15:14:15.857715Z"
    }
   }
  },
  {
   "cell_type": "code",
   "execution_count": 2,
   "outputs": [
    {
     "data": {
      "text/plain": "['\\\\\\\\shelter\\\\Kyu\\\\unstain2stain\\\\unstain2stain_wsi\\\\HE\\\\OTS_14684_1_he.ndpi',\n '\\\\\\\\shelter\\\\Kyu\\\\unstain2stain\\\\unstain2stain_wsi\\\\HE\\\\OTS_14684_2_he.ndpi',\n '\\\\\\\\shelter\\\\Kyu\\\\unstain2stain\\\\unstain2stain_wsi\\\\HE\\\\OTS_14684_3_he.ndpi',\n '\\\\\\\\shelter\\\\Kyu\\\\unstain2stain\\\\unstain2stain_wsi\\\\HE\\\\OTS_14684_4_he.ndpi',\n '\\\\\\\\shelter\\\\Kyu\\\\unstain2stain\\\\unstain2stain_wsi\\\\HE\\\\OTS_14684_5_he.ndpi',\n '\\\\\\\\shelter\\\\Kyu\\\\unstain2stain\\\\unstain2stain_wsi\\\\HE\\\\OTS_14684_6_he.ndpi',\n '\\\\\\\\shelter\\\\Kyu\\\\unstain2stain\\\\unstain2stain_wsi\\\\HE\\\\OTS_14684_7_he.ndpi',\n '\\\\\\\\shelter\\\\Kyu\\\\unstain2stain\\\\unstain2stain_wsi\\\\HE\\\\OTS_14684_8_he.ndpi',\n '\\\\\\\\shelter\\\\Kyu\\\\unstain2stain\\\\unstain2stain_wsi\\\\HE\\\\OTS_14684_9_he.ndpi',\n '\\\\\\\\shelter\\\\Kyu\\\\unstain2stain\\\\unstain2stain_wsi\\\\HE\\\\OTS_14832_1_he.ndpi',\n '\\\\\\\\shelter\\\\Kyu\\\\unstain2stain\\\\unstain2stain_wsi\\\\HE\\\\OTS_14832_2_he.ndpi',\n '\\\\\\\\shelter\\\\Kyu\\\\unstain2stain\\\\unstain2stain_wsi\\\\HE\\\\OTS_14832_3_he.ndpi',\n '\\\\\\\\shelter\\\\Kyu\\\\unstain2stain\\\\unstain2stain_wsi\\\\HE\\\\OTS_14832_4_he.ndpi',\n '\\\\\\\\shelter\\\\Kyu\\\\unstain2stain\\\\unstain2stain_wsi\\\\HE\\\\OTS_14832_5_he.ndpi',\n '\\\\\\\\shelter\\\\Kyu\\\\unstain2stain\\\\unstain2stain_wsi\\\\HE\\\\OTS_14832_6_he.ndpi',\n '\\\\\\\\shelter\\\\Kyu\\\\unstain2stain\\\\unstain2stain_wsi\\\\HE\\\\OTS_14832_7_he.ndpi',\n '\\\\\\\\shelter\\\\Kyu\\\\unstain2stain\\\\unstain2stain_wsi\\\\HE\\\\OTS_14832_8_he.ndpi',\n '\\\\\\\\shelter\\\\Kyu\\\\unstain2stain\\\\unstain2stain_wsi\\\\HE\\\\OTS_14832_9_he.ndpi',\n '\\\\\\\\shelter\\\\Kyu\\\\unstain2stain\\\\unstain2stain_wsi\\\\HE\\\\OTS_14832_10_he.ndpi',\n '\\\\\\\\shelter\\\\Kyu\\\\unstain2stain\\\\unstain2stain_wsi\\\\HE\\\\OTS_14832_11_he.ndpi',\n '\\\\\\\\shelter\\\\Kyu\\\\unstain2stain\\\\unstain2stain_wsi\\\\HE\\\\OTS_14832_12_he.ndpi',\n '\\\\\\\\shelter\\\\Kyu\\\\unstain2stain\\\\unstain2stain_wsi\\\\HE\\\\OTS_14832_13_he.ndpi',\n '\\\\\\\\shelter\\\\Kyu\\\\unstain2stain\\\\unstain2stain_wsi\\\\HE\\\\OTS_14832_14_he.ndpi',\n '\\\\\\\\shelter\\\\Kyu\\\\unstain2stain\\\\unstain2stain_wsi\\\\HE\\\\OTS_14832_15_he.ndpi',\n '\\\\\\\\shelter\\\\Kyu\\\\unstain2stain\\\\unstain2stain_wsi\\\\HE\\\\OTS_14832_16_he.ndpi']"
     },
     "execution_count": 2,
     "metadata": {},
     "output_type": "execute_result"
    }
   ],
   "source": [
    "# First get list of all deparafinized and student_score >2 and CLUE:\n",
    "all_df_src = r'\\\\shelter\\Kyu\\unstain2stain\\unstain2stain_wsi\\wsi_list_230314.xlsx'\n",
    "all_df = pd.read_excel(all_df_src)\n",
    "desired_df_name = all_df[all_df.scan_batch == 3] # CLUE\n",
    "desired_df_name1 = all_df[all_df.scan_batch == 4] # CLUE\n",
    "desired_name = list(desired_df_name.wsi_name)\n",
    "desired_name1 = list(desired_df_name1.wsi_name)\n",
    "desired_names = desired_name + desired_name1\n",
    "he_desired_names = [x for x in desired_names if x[-3:] == \"_he\"]\n",
    "he_desired_names_src = [x+\".ndpi\" for x in he_desired_names]\n",
    "us_desired_names = [x for x in desired_names if not x[-3:] == \"_he\"]\n",
    "us_desired_names_src = [x+\".ndpi\" for x in us_desired_names]\n",
    "\n",
    "HE_dst_src = r'\\\\shelter\\Kyu\\unstain2stain\\tiles\\unregistered_tiles\\HE'\n",
    "HE_ndpi_src = r'\\\\shelter\\Kyu\\unstain2stain\\unstain2stain_wsi\\HE'\n",
    "HE_desired_src = [os.path.join(HE_ndpi_src,x) for x in he_desired_names_src]\n",
    "HE_desired_src"
   ],
   "metadata": {
    "collapsed": false,
    "ExecuteTime": {
     "start_time": "2023-04-30T15:14:36.366662Z",
     "end_time": "2023-04-30T15:14:36.585008Z"
    }
   }
  },
  {
   "cell_type": "code",
   "execution_count": 3,
   "outputs": [],
   "source": [
    "def tile_wsi(src, wsi_name, save_src):\n",
    "    import os\n",
    "    import numpy as np\n",
    "    from PIL import Image\n",
    "    import math\n",
    "    import pandas as pd\n",
    "    from tqdm import tqdm\n",
    "    from pathos.multiprocessing import ProcessPool\n",
    "    OPENSLIDE_PATH = r\"C:\\Users\\labadmin\\Downloads\\openslide-win64-20230414\\bin\" # this will change\n",
    "    if hasattr(os, 'add_dll_directory'):\n",
    "        # Python >= 3.8 on Windows\n",
    "        with os.add_dll_directory(OPENSLIDE_PATH):\n",
    "            import openslide\n",
    "    else:\n",
    "        import openslide\n",
    "    if not os.path.exists(save_src):\n",
    "        os.makedirs(save_src)\n",
    "    slide = openslide.open_slide(src)\n",
    "    target_level = 0\n",
    "    target_dim = slide.level_dimensions[target_level]\n",
    "    width, height = target_dim\n",
    "    # unpad since it's white background anyways\n",
    "    tiles_x_unpad = int((width % 1024) / 2)\n",
    "    tiles_y_unpad = int((height % 1024) / 2)\n",
    "    # read from 0+tiles_x_unpad/y_pad and max-tiles_x_unpad/ypad:\n",
    "    num_rows= ((width - tiles_x_unpad) - (0 + tiles_x_unpad)) / 1024\n",
    "    num_cols= ((height - tiles_y_unpad) - (0 + tiles_y_unpad)) / 1024\n",
    "    num_rows = int(num_rows)\n",
    "    num_cols = int(num_cols)\n",
    "    # tile to 1024 x 1024\n",
    "    for row_idx in range(num_rows): # 0~num_rows-1\n",
    "        for col_idx in range(num_cols): # 0~num_cols-1\n",
    "            xcoord= tiles_x_unpad + 1024 * row_idx\n",
    "            ycoord= tiles_y_unpad + 1024 * col_idx\n",
    "            heimage = slide.read_region(location=(xcoord,ycoord),level=target_level,size=(1024,1024))\n",
    "            heimage = np.array(heimage)\n",
    "            imgidx = row_idx * num_cols + (col_idx + 1)\n",
    "            imgidx = f\"{imgidx:04d}\"\n",
    "            imgcoord = str(xcoord) + \"_\" + str(ycoord) + \"xy\"\n",
    "            imgname = imgcoord + imgidx + \".png\"\n",
    "            tile_save_src = os.path.join(save_src, imgname)\n",
    "            Image.fromarray(heimage).save(tile_save_src)"
   ],
   "metadata": {
    "collapsed": false,
    "ExecuteTime": {
     "start_time": "2023-04-30T15:17:11.272524Z",
     "end_time": "2023-04-30T15:17:11.319398Z"
    }
   }
  },
  {
   "cell_type": "code",
   "execution_count": null,
   "outputs": [
    {
     "name": "stderr",
     "output_type": "stream",
     "text": [
      "WSI Processed: 100%|\u001B[31m██████████\u001B[0m| 25/25 [00:00<00:00, 1587.26it/s]\n",
      "Exception in thread Thread-7:\n",
      "Traceback (most recent call last):\n",
      "  File \"C:\\Users\\labadmin\\PycharmProjects\\wsi_analysis\\venv\\lib\\site-packages\\openslide\\lowlevel.py\", line 54, in <module>\n",
      "    _lib = cdll.LoadLibrary('libopenslide-0.dll')\n",
      "  File \"C:\\Users\\labadmin\\AppData\\Local\\Programs\\Python\\Python39\\lib\\ctypes\\__init__.py\", line 452, in LoadLibrary\n",
      "    return self._dlltype(name)\n",
      "  File \"C:\\Users\\labadmin\\AppData\\Local\\Programs\\Python\\Python39\\lib\\ctypes\\__init__.py\", line 374, in __init__\n",
      "    self._handle = _dlopen(self._name, mode)\n",
      "FileNotFoundError: Could not find module 'libopenslide-0.dll' (or one of its dependencies). Try using the full path with constructor syntax.\n",
      "\n",
      "During handling of the above exception, another exception occurred:\n",
      "\n",
      "Traceback (most recent call last):\n",
      "  File \"C:\\Users\\labadmin\\AppData\\Local\\Programs\\Python\\Python39\\lib\\threading.py\", line 980, in _bootstrap_inner\n",
      "    self.run()\n",
      "  File \"C:\\Users\\labadmin\\AppData\\Local\\Programs\\Python\\Python39\\lib\\threading.py\", line 917, in run\n",
      "    self._target(*self._args, **self._kwargs)\n",
      "  File \"C:\\Users\\labadmin\\PycharmProjects\\wsi_analysis\\venv\\lib\\site-packages\\multiprocess\\pool.py\", line 576, in _handle_results\n",
      "    task = get()\n",
      "  File \"C:\\Users\\labadmin\\PycharmProjects\\wsi_analysis\\venv\\lib\\site-packages\\multiprocess\\connection.py\", line 259, in recv\n",
      "    return _ForkingPickler.loads(buf.getbuffer())\n",
      "  File \"C:\\Users\\labadmin\\PycharmProjects\\wsi_analysis\\venv\\lib\\site-packages\\dill\\_dill.py\", line 286, in loads\n",
      "    return load(file, ignore, **kwds)\n",
      "  File \"C:\\Users\\labadmin\\PycharmProjects\\wsi_analysis\\venv\\lib\\site-packages\\dill\\_dill.py\", line 272, in load\n",
      "    return Unpickler(file, ignore=ignore, **kwds).load()\n",
      "  File \"C:\\Users\\labadmin\\PycharmProjects\\wsi_analysis\\venv\\lib\\site-packages\\dill\\_dill.py\", line 419, in load\n",
      "    obj = StockUnpickler.load(self)\n",
      "  File \"C:\\Users\\labadmin\\PycharmProjects\\wsi_analysis\\venv\\lib\\site-packages\\dill\\_dill.py\", line 409, in find_class\n",
      "    return StockUnpickler.find_class(self, module, name)\n",
      "  File \"C:\\Users\\labadmin\\PycharmProjects\\wsi_analysis\\venv\\lib\\site-packages\\openslide\\__init__.py\", line 30, in <module>\n",
      "    from openslide import lowlevel\n",
      "  File \"C:\\Users\\labadmin\\PycharmProjects\\wsi_analysis\\venv\\lib\\site-packages\\openslide\\lowlevel.py\", line 63, in <module>\n",
      "    raise ModuleNotFoundError(\n",
      "ModuleNotFoundError: Couldn't locate OpenSlide DLL.  Did you call os.add_dll_directory()?  https://openslide.org/api/python/#installing\n"
     ]
    }
   ],
   "source": [
    "# for HE:\n",
    "pool = ProcessPool(nodes=num_nodes) #pathos.helpers.cpu_count()\n",
    "results = []\n",
    "\n",
    "for idx, src in tqdm(enumerate(HE_desired_src), total=len(HE_desired_src), colour='red', desc='WSI Processed'):\n",
    "    wsi_name = he_desired_names[idx]\n",
    "    save_src = os.path.join(HE_dst_src, wsi_name)\n",
    "    results.append(pool.apipe(tile_wsi, src, wsi_name, save_src))\n",
    "\n",
    "# Get the results\n",
    "for result in results:\n",
    "    import os\n",
    "    result.get()\n",
    "\n",
    "# Close the process pool\n",
    "pool.close()"
   ],
   "metadata": {
    "collapsed": false
   }
  },
  {
   "cell_type": "code",
   "execution_count": null,
   "outputs": [],
   "source": [],
   "metadata": {
    "collapsed": false
   }
  }
 ],
 "metadata": {
  "kernelspec": {
   "display_name": "Python 3",
   "language": "python",
   "name": "python3"
  },
  "language_info": {
   "codemirror_mode": {
    "name": "ipython",
    "version": 2
   },
   "file_extension": ".py",
   "mimetype": "text/x-python",
   "name": "python",
   "nbconvert_exporter": "python",
   "pygments_lexer": "ipython2",
   "version": "2.7.6"
  }
 },
 "nbformat": 4,
 "nbformat_minor": 0
}
