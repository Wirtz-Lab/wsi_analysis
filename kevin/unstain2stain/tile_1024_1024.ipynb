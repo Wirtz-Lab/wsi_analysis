{
 "cells": [
  {
   "cell_type": "code",
   "execution_count": 2,
   "outputs": [],
   "source": [
    "#importing openslide:\n",
    "OPENSLIDE_PATH = r\"C:\\Users\\Kevin\\Downloads\\openslide-win64-20221217\\bin\"\n",
    "\n",
    "import os\n",
    "if hasattr(os, 'add_dll_directory'):\n",
    "    # Python >= 3.8 on Windows\n",
    "    with os.add_dll_directory(OPENSLIDE_PATH):\n",
    "        import openslide\n",
    "else:\n",
    "    import openslide"
   ],
   "metadata": {
    "collapsed": false
   }
  },
  {
   "cell_type": "code",
   "execution_count": 2,
   "outputs": [],
   "source": [
    "import numpy as np\n",
    "from PIL import Image\n",
    "import math\n",
    "import os\n",
    "import pandas as pd\n",
    "from tqdm import tqdm"
   ],
   "metadata": {
    "collapsed": false,
    "ExecuteTime": {
     "start_time": "2023-04-28T09:59:20.811863Z",
     "end_time": "2023-04-28T09:59:20.850070Z"
    }
   }
  },
  {
   "cell_type": "code",
   "execution_count": 3,
   "outputs": [],
   "source": [
    "# First get list of all deparafinized and student_score >2 and CLUE:\n",
    "all_df_src = r'\\\\shelter\\Kyu\\unstain2stain\\unstain2stain_wsi\\wsi_list_230314.xlsx'\n",
    "all_df = pd.read_excel(all_df_src)\n",
    "desired_df_name = all_df[all_df.scan_batch == 3] # CLUE\n",
    "desired_df_name1 = all_df[all_df.scan_batch == 4] # CLUE\n",
    "desired_name = list(desired_df_name.wsi_name)\n",
    "desired_name1 = list(desired_df_name1.wsi_name)\n",
    "desired_names = desired_name + desired_name1\n",
    "he_desired_names = [x for x in desired_names if x[-3:] == \"_he\"]\n",
    "he_desired_names_src = [x+\".ndpi\" for x in he_desired_names]\n",
    "us_desired_names = [x for x in desired_names if not x[-3:] == \"_he\"]\n",
    "us_desired_names_src = [x+\".ndpi\" for x in us_desired_names]\n",
    "US_dst_src = r'\\\\shelter\\Kyu\\unstain2stain\\tiles\\unregistered_tiles\\US'\n",
    "US_ndpi_src = r'\\\\shelter\\Kyu\\unstain2stain\\unstain2stain_wsi\\Unstained'\n",
    "US_desired_src = [os.path.join(US_ndpi_src,x) for x in us_desired_names_src]\n",
    "US_desired_src"
   ],
   "metadata": {
    "collapsed": false,
    "ExecuteTime": {
     "start_time": "2023-04-28T09:59:31.018871Z",
     "end_time": "2023-04-28T09:59:31.405128Z"
    }
   }
  },
  {
   "cell_type": "code",
   "execution_count": null,
   "outputs": [],
   "source": [
    "for idx, src in tqdm(enumerate(US_desired_src),total=len(US_desired_src),colour='red',desc='WSI Processed'):\n",
    "    wsi_name = us_desired_names[idx]\n",
    "    save_src = os.path.join(US_dst_src,wsi_name)\n",
    "    if not os.path.exists(save_src):\n",
    "        os.makedirs(save_src)\n",
    "    slide = openslide.open_slide(src)\n",
    "    target_level = 0\n",
    "    target_dim = slide.level_dimensions[target_level]\n",
    "    width, height = target_dim\n",
    "    # unpad since it's white background anyways\n",
    "    tiles_x_unpad = int((width % 1024) / 2)\n",
    "    tiles_y_unpad = int((height % 1024) / 2)\n",
    "    # read from 0+tiles_x_unpad/y_pad and max-tiles_x_unpad/ypad:\n",
    "    num_rows= ((width - tiles_x_unpad) - (0 + tiles_x_unpad)) / 1024\n",
    "    num_cols= ((height - tiles_y_unpad) - (0 + tiles_y_unpad)) / 1024\n",
    "    num_rows = int(num_rows)\n",
    "    num_cols = int(num_cols)\n",
    "    print(num_rows)\n",
    "    print(num_cols)\n",
    "        # tile to 1024 x 1024\n",
    "    for row_idx in range(num_rows): # 0~num_rows-1\n",
    "        for col_idx in range(num_cols): # 0~num_cols-1\n",
    "            xcoord= tiles_x_unpad + 1024 * row_idx\n",
    "            ycoord= tiles_y_unpad + 1024 * col_idx\n",
    "            nsimage = slide.read_region(location=(xcoord,ycoord),level=target_level,size=(1024,1024))\n",
    "            nsimage = np.array(nsimage)\n",
    "            imgidx = row_idx * num_cols + (col_idx + 1)\n",
    "            imgidx = f\"{imgidx:04d}\"\n",
    "            imgcoord = str(xcoord) + \"_\" + str(ycoord) + \"xy\"\n",
    "            imgname = imgcoord + imgidx + \".png\"\n",
    "            tile_save_src = os.path.join(save_src,imgname)\n",
    "            Image.fromarray(nsimage).save(tile_save_src)"
   ],
   "metadata": {
    "collapsed": false
   }
  },
  {
   "cell_type": "markdown",
   "source": [
    "### Parallel processing:"
   ],
   "metadata": {
    "collapsed": false
   }
  },
  {
   "cell_type": "code",
   "execution_count": null,
   "outputs": [],
   "source": [
    "import numpy as np\n",
    "from PIL import Image\n",
    "import math\n",
    "import os\n",
    "import pandas as pd\n",
    "from tqdm import tqdm\n",
    "import pathos\n",
    "from pathos.multiprocessing import ProcessPool"
   ],
   "metadata": {
    "collapsed": false,
    "ExecuteTime": {
     "start_time": "2023-04-30T14:34:30.396715Z",
     "end_time": "2023-04-30T14:34:30.412343Z"
    },
    "pycharm": {
     "is_executing": true
    }
   }
  },
  {
   "cell_type": "code",
   "execution_count": null,
   "outputs": [],
   "source": [
    "pathos.helpers.cpu_count()"
   ],
   "metadata": {
    "collapsed": false
   }
  },
  {
   "cell_type": "code",
   "execution_count": 10,
   "outputs": [
    {
     "data": {
      "text/plain": "['\\\\\\\\shelter\\\\Kyu\\\\unstain2stain\\\\unstain2stain_wsi\\\\Unstained\\\\OTS_14684_1.ndpi',\n '\\\\\\\\shelter\\\\Kyu\\\\unstain2stain\\\\unstain2stain_wsi\\\\Unstained\\\\OTS_14684_2.ndpi',\n '\\\\\\\\shelter\\\\Kyu\\\\unstain2stain\\\\unstain2stain_wsi\\\\Unstained\\\\OTS_14684_3.ndpi',\n '\\\\\\\\shelter\\\\Kyu\\\\unstain2stain\\\\unstain2stain_wsi\\\\Unstained\\\\OTS_14684_4.ndpi',\n '\\\\\\\\shelter\\\\Kyu\\\\unstain2stain\\\\unstain2stain_wsi\\\\Unstained\\\\OTS_14684_5.ndpi',\n '\\\\\\\\shelter\\\\Kyu\\\\unstain2stain\\\\unstain2stain_wsi\\\\Unstained\\\\OTS_14684_6.ndpi',\n '\\\\\\\\shelter\\\\Kyu\\\\unstain2stain\\\\unstain2stain_wsi\\\\Unstained\\\\OTS_14684_7.ndpi',\n '\\\\\\\\shelter\\\\Kyu\\\\unstain2stain\\\\unstain2stain_wsi\\\\Unstained\\\\OTS_14684_8.ndpi',\n '\\\\\\\\shelter\\\\Kyu\\\\unstain2stain\\\\unstain2stain_wsi\\\\Unstained\\\\OTS_14684_9.ndpi',\n '\\\\\\\\shelter\\\\Kyu\\\\unstain2stain\\\\unstain2stain_wsi\\\\Unstained\\\\OTS_14832_1.ndpi',\n '\\\\\\\\shelter\\\\Kyu\\\\unstain2stain\\\\unstain2stain_wsi\\\\Unstained\\\\OTS_14832_2.ndpi',\n '\\\\\\\\shelter\\\\Kyu\\\\unstain2stain\\\\unstain2stain_wsi\\\\Unstained\\\\OTS_14832_3.ndpi',\n '\\\\\\\\shelter\\\\Kyu\\\\unstain2stain\\\\unstain2stain_wsi\\\\Unstained\\\\OTS_14832_4.ndpi',\n '\\\\\\\\shelter\\\\Kyu\\\\unstain2stain\\\\unstain2stain_wsi\\\\Unstained\\\\OTS_14832_5.ndpi',\n '\\\\\\\\shelter\\\\Kyu\\\\unstain2stain\\\\unstain2stain_wsi\\\\Unstained\\\\OTS_14832_6.ndpi',\n '\\\\\\\\shelter\\\\Kyu\\\\unstain2stain\\\\unstain2stain_wsi\\\\Unstained\\\\OTS_14832_7.ndpi',\n '\\\\\\\\shelter\\\\Kyu\\\\unstain2stain\\\\unstain2stain_wsi\\\\Unstained\\\\OTS_14832_8.ndpi',\n '\\\\\\\\shelter\\\\Kyu\\\\unstain2stain\\\\unstain2stain_wsi\\\\Unstained\\\\OTS_14832_9.ndpi',\n '\\\\\\\\shelter\\\\Kyu\\\\unstain2stain\\\\unstain2stain_wsi\\\\Unstained\\\\OTS_14832_10.ndpi',\n '\\\\\\\\shelter\\\\Kyu\\\\unstain2stain\\\\unstain2stain_wsi\\\\Unstained\\\\OTS_14832_11.ndpi',\n '\\\\\\\\shelter\\\\Kyu\\\\unstain2stain\\\\unstain2stain_wsi\\\\Unstained\\\\OTS_14832_12.ndpi',\n '\\\\\\\\shelter\\\\Kyu\\\\unstain2stain\\\\unstain2stain_wsi\\\\Unstained\\\\OTS_14832_13.ndpi',\n '\\\\\\\\shelter\\\\Kyu\\\\unstain2stain\\\\unstain2stain_wsi\\\\Unstained\\\\OTS_14832_14.ndpi',\n '\\\\\\\\shelter\\\\Kyu\\\\unstain2stain\\\\unstain2stain_wsi\\\\Unstained\\\\OTS_14832_15.ndpi',\n '\\\\\\\\shelter\\\\Kyu\\\\unstain2stain\\\\unstain2stain_wsi\\\\Unstained\\\\OTS_14832_16.ndpi']"
     },
     "execution_count": 10,
     "metadata": {},
     "output_type": "execute_result"
    }
   ],
   "source": [
    "# First get list of all deparafinized and student_score >2 and CLUE:\n",
    "all_df_src = r'\\\\shelter\\Kyu\\unstain2stain\\unstain2stain_wsi\\wsi_list_230314.xlsx'\n",
    "all_df = pd.read_excel(all_df_src)\n",
    "desired_df_name = all_df[all_df.scan_batch == 3] # CLUE\n",
    "desired_df_name1 = all_df[all_df.scan_batch == 4] # CLUE\n",
    "desired_name = list(desired_df_name.wsi_name)\n",
    "desired_name1 = list(desired_df_name1.wsi_name)\n",
    "desired_names = desired_name + desired_name1\n",
    "he_desired_names = [x for x in desired_names if x[-3:] == \"_he\"]\n",
    "he_desired_names_src = [x+\".ndpi\" for x in he_desired_names]\n",
    "us_desired_names = [x for x in desired_names if not x[-3:] == \"_he\"]\n",
    "us_desired_names_src = [x+\".ndpi\" for x in us_desired_names]\n",
    "US_dst_src = r'\\\\shelter\\Kyu\\unstain2stain\\tiles\\unregistered_tiles\\US'\n",
    "US_ndpi_src = r'\\\\shelter\\Kyu\\unstain2stain\\unstain2stain_wsi\\Unstained'\n",
    "US_desired_src = [os.path.join(US_ndpi_src,x) for x in us_desired_names_src]\n",
    "US_desired_src"
   ],
   "metadata": {
    "collapsed": false,
    "ExecuteTime": {
     "start_time": "2023-04-30T14:45:25.909015Z",
     "end_time": "2023-04-30T14:45:25.975140Z"
    }
   }
  },
  {
   "cell_type": "code",
   "execution_count": 4,
   "outputs": [],
   "source": [
    "#importing openslide:\n",
    "OPENSLIDE_PATH = r\"C:\\Users\\labuser1\\Downloads\\openslide-win64-20230414\\bin\"\n",
    "\n",
    "import os\n",
    "if hasattr(os, 'add_dll_directory'):\n",
    "    # Python >= 3.8 on Windows\n",
    "    with os.add_dll_directory(OPENSLIDE_PATH):\n",
    "        import openslide\n",
    "else:\n",
    "    import openslide"
   ],
   "metadata": {
    "collapsed": false
   }
  },
  {
   "cell_type": "code",
   "execution_count": 20,
   "outputs": [],
   "source": [
    "def tile_wsi(src, wsi_name, save_src):\n",
    "    import os\n",
    "    import numpy as np\n",
    "    from PIL import Image\n",
    "    import math\n",
    "    import pandas as pd\n",
    "    from tqdm import tqdm\n",
    "    from pathos.multiprocessing import ProcessPool\n",
    "    OPENSLIDE_PATH = r\"C:\\Users\\labuser1\\Downloads\\openslide-win64-20230414\\bin\"\n",
    "    if hasattr(os, 'add_dll_directory'):\n",
    "        # Python >= 3.8 on Windows\n",
    "        with os.add_dll_directory(OPENSLIDE_PATH):\n",
    "            import openslide\n",
    "    else:\n",
    "        import openslide\n",
    "    if not os.path.exists(save_src):\n",
    "        os.makedirs(save_src)\n",
    "    slide = openslide.open_slide(src)\n",
    "    target_level = 0\n",
    "    target_dim = slide.level_dimensions[target_level]\n",
    "    width, height = target_dim\n",
    "    # unpad since it's white background anyways\n",
    "    tiles_x_unpad = int((width % 1024) / 2)\n",
    "    tiles_y_unpad = int((height % 1024) / 2)\n",
    "    # read from 0+tiles_x_unpad/y_pad and max-tiles_x_unpad/ypad:\n",
    "    num_rows= ((width - tiles_x_unpad) - (0 + tiles_x_unpad)) / 1024\n",
    "    num_cols= ((height - tiles_y_unpad) - (0 + tiles_y_unpad)) / 1024\n",
    "    num_rows = int(num_rows)\n",
    "    num_cols = int(num_cols)\n",
    "    # tile to 1024 x 1024\n",
    "    for row_idx in range(num_rows): # 0~num_rows-1\n",
    "        for col_idx in range(num_cols): # 0~num_cols-1\n",
    "            xcoord= tiles_x_unpad + 1024 * row_idx\n",
    "            ycoord= tiles_y_unpad + 1024 * col_idx\n",
    "            nsimage = slide.read_region(location=(xcoord,ycoord),level=target_level,size=(1024,1024))\n",
    "            nsimage = np.array(nsimage)\n",
    "            imgidx = row_idx * num_cols + (col_idx + 1)\n",
    "            imgidx = f\"{imgidx:04d}\"\n",
    "            imgcoord = str(xcoord) + \"_\" + str(ycoord) + \"xy\"\n",
    "            imgname = imgcoord + imgidx + \".png\"\n",
    "            tile_save_src = os.path.join(save_src, imgname)\n",
    "            Image.fromarray(nsimage).save(tile_save_src)"
   ],
   "metadata": {
    "collapsed": false,
    "ExecuteTime": {
     "start_time": "2023-04-30T14:48:00.740681Z",
     "end_time": "2023-04-30T14:48:00.756309Z"
    }
   }
  },
  {
   "cell_type": "code",
   "execution_count": null,
   "outputs": [],
   "source": [
    "pool = ProcessPool(nodes=8)\n",
    "results = []\n",
    "\n",
    "for idx, src in tqdm(enumerate(US_desired_src), total=len(US_desired_src), colour='red', desc='WSI Processed'):\n",
    "    wsi_name = us_desired_names[idx]\n",
    "    save_src = os.path.join(US_dst_src, wsi_name)\n",
    "    results.append(pool.apipe(tile_wsi, src, wsi_name, save_src))\n",
    "\n",
    "# Get the results\n",
    "for result in results:\n",
    "    import os\n",
    "    result.get()\n",
    "\n",
    "# Close the process pool\n",
    "pool.close()"
   ],
   "metadata": {
    "collapsed": false
   }
  },
  {
   "cell_type": "code",
   "execution_count": null,
   "outputs": [],
   "source": [],
   "metadata": {
    "collapsed": false
   }
  },
  {
   "cell_type": "markdown",
   "source": [
    "### BELOW IS WORKFLOW TO CREATE UNSTAINED TILES MUCH FASTER, BUT ONLY WORKS ON >128GB RAM. MUCH FASTER THAN THE METHOD ABOVE WHICH TAKES >6 HRS TO GENERATE TILE FOR ONE IMAGE!"
   ],
   "metadata": {
    "collapsed": false
   }
  },
  {
   "cell_type": "markdown",
   "source": [
    "### Setup:"
   ],
   "metadata": {
    "collapsed": false
   }
  },
  {
   "cell_type": "code",
   "execution_count": 7,
   "outputs": [],
   "source": [
    "#importing openslide:\n",
    "OPENSLIDE_PATH = r\"C:\\Users\\labuser1\\Downloads\\openslide-win64-20230414\\bin\"\n",
    "\n",
    "import os\n",
    "if hasattr(os, 'add_dll_directory'):\n",
    "    # Python >= 3.8 on Windows\n",
    "    with os.add_dll_directory(OPENSLIDE_PATH):\n",
    "        import openslide\n",
    "else:\n",
    "    import openslide"
   ],
   "metadata": {
    "collapsed": false,
    "ExecuteTime": {
     "start_time": "2023-04-28T10:17:10.722480Z",
     "end_time": "2023-04-28T10:17:10.784584Z"
    }
   }
  },
  {
   "cell_type": "code",
   "execution_count": null,
   "outputs": [],
   "source": [
    "import numpy as np\n",
    "from PIL import Image\n",
    "import math\n",
    "import os\n",
    "import pandas as pd\n",
    "from tqdm import tqdm\n",
    "import time"
   ],
   "metadata": {
    "collapsed": false,
    "ExecuteTime": {
     "start_time": "2023-04-26T19:42:52.519591Z",
     "end_time": "2023-04-26T19:42:54.285226Z"
    }
   }
  },
  {
   "cell_type": "code",
   "execution_count": 3,
   "outputs": [],
   "source": [
    "def de_pad_ndpi(ndpi_src, tile_size):\n",
    "    slide = openslide.open_slide(ndpi_src)\n",
    "    dim = slide.dimensions\n",
    "    width = dim[0]\n",
    "    height = dim[1]\n",
    "    de_pad_width = int(round((width % tile_size)/2))\n",
    "    de_pad_height = int(round((height % tile_size)/2))\n",
    "    de_pad_img = slide.read_region(location = (de_pad_width,de_pad_height),level=0, size=(width-2*de_pad_width,height-2*de_pad_height))\n",
    "    return de_pad_img"
   ],
   "metadata": {
    "collapsed": false,
    "ExecuteTime": {
     "start_time": "2023-04-26T19:42:54.285226Z",
     "end_time": "2023-04-26T19:42:54.300851Z"
    }
   }
  },
  {
   "cell_type": "code",
   "execution_count": 4,
   "outputs": [],
   "source": [
    "def reshape_split(ndpi_src,tile_size):\n",
    "    \"\"\"\n",
    "\n",
    "    Args:\n",
    "        image: nparray of image\n",
    "        kernel_size: desired tile size, 1024 x 1024 for example\n",
    "    Requires the nparray height and width to be divisible by kernel_size tuple to be reshaped. De-pad to remove some white background (assuming ndpi has white background) if not divisible so that nparray becomes divisible using above function.\n",
    "    Returns:\n",
    "    Array of tiles that can be saved all at once.\n",
    "    \"\"\"\n",
    "    slide = openslide.open_slide(ndpi_src)\n",
    "    dim = slide.dimensions\n",
    "    width = dim[0]\n",
    "    height = dim[1]\n",
    "    de_pad_width = int(round((width % tile_size)/2))\n",
    "    de_pad_height = int(round((height % tile_size)/2))\n",
    "    print(\"Using Openslide to read in image\")\n",
    "    if not(de_pad_width==0 and de_pad_height ==0): # if both width and height not divisible\n",
    "        image = de_pad_ndpi(ndpi_src,tile_size)\n",
    "    else:\n",
    "        image = slide.read_region(location=(0,0),level=0,size=dim)\n",
    "    image = np.array(image)\n",
    "    image = Image.fromarray(image).convert(mode='RGB')\n",
    "    image = np.array(image)\n",
    "    img_height,img_width,channels=image.shape\n",
    "    tiled_array = image.reshape(int(img_height/tile_size),\n",
    "                                int(img_width/tile_size), tile_size,\n",
    "                                tile_size,\n",
    "                                channels)\n",
    "    print(\"Tiled array shape is {}:\".format(tiled_array.shape))\n",
    "    return tiled_array, (de_pad_width,de_pad_height)"
   ],
   "metadata": {
    "collapsed": false,
    "ExecuteTime": {
     "start_time": "2023-04-26T19:42:54.300851Z",
     "end_time": "2023-04-26T19:42:54.316762Z"
    }
   }
  },
  {
   "cell_type": "markdown",
   "source": [
    "### Run the workflow:"
   ],
   "metadata": {
    "collapsed": false
   }
  },
  {
   "cell_type": "code",
   "execution_count": 5,
   "outputs": [],
   "source": [
    "# First get list of all deparafinized and student_score >2 and CLUE:\n",
    "all_df_src = r'\\\\shelter\\Kyu\\unstain2stain\\unstain2stain_wsi\\wsi_list_230314.xlsx'\n",
    "all_df = pd.read_excel(all_df_src)\n",
    "desired_df_name = all_df[all_df.scan_batch == 3] # CLUE\n",
    "desired_df_name1 = all_df[all_df.scan_batch == 4] # CLUE\n",
    "desired_name = list(desired_df_name.wsi_name)\n",
    "desired_name1 = list(desired_df_name1.wsi_name)\n",
    "desired_names = desired_name + desired_name1\n",
    "he_desired_names = [x for x in desired_names if x[-3:] == \"_he\"]\n",
    "he_desired_names_src = [x+\".ndpi\" for x in he_desired_names]\n",
    "us_desired_names = [x for x in desired_names if not x[-3:] == \"_he\"]\n",
    "us_desired_names_src = [x+\".ndpi\" for x in us_desired_names]"
   ],
   "metadata": {
    "collapsed": false,
    "ExecuteTime": {
     "start_time": "2023-04-26T19:42:54.316762Z",
     "end_time": "2023-04-26T19:42:55.003899Z"
    }
   }
  },
  {
   "cell_type": "code",
   "execution_count": null,
   "outputs": [],
   "source": [
    "### Tile unstained images:\n",
    "US_dst_src = r'\\\\shelter\\Kyu\\unstain2stain\\tiles\\unregistered_tiles\\US'\n",
    "US_ndpi_src = r'\\\\shelter\\Kyu\\unstain2stain\\unstain2stain_wsi\\Unstained'\n",
    "US_desired_src = [os.path.join(US_ndpi_src,x) for x in us_desired_names_src]\n",
    "for idx, src in tqdm(enumerate(US_desired_src),total=len(US_desired_src),colour='red',desc='WSI Processed'):\n",
    "    wsi_name = us_desired_names[idx]\n",
    "    save_src = os.path.join(US_dst_src,wsi_name)\n",
    "    if not os.path.exists(save_src):\n",
    "        os.makedirs(save_src)\n",
    "    tiled_array, (de_pad_width,de_pad_height) = reshape_split(src,1024)\n",
    "    start = time.time()\n",
    "    print(\"Saving tiles from 5d Array\")\n",
    "    for row_idx in range(tiled_array.shape[1]):\n",
    "        for col_idx in range(tiled_array.shape[0]):\n",
    "            x_coord = row_idx*1024 + de_pad_width\n",
    "            y_coord = col_idx*1024 + de_pad_height\n",
    "            label= row_idx * tiled_array.shape[0] + (col_idx + 1)\n",
    "            label = f\"{label:04d}\"\n",
    "            tile_save_src = os.path.join(save_src,f'{x_coord}_{y_coord}xy{label}.png')\n",
    "            tile = tiled_array[col_idx][row_idx]\n",
    "            Image.fromarray(tile).save(tile_save_src)\n",
    "    end = time.time()\n",
    "    print(\"time it took to save all tiles: {} minutes\".format((end-start)/60))"
   ],
   "metadata": {
    "collapsed": false,
    "ExecuteTime": {
     "start_time": "2023-04-26T15:36:46.662250Z",
     "end_time": "2023-04-26T15:36:46.687673Z"
    }
   }
  },
  {
   "cell_type": "code",
   "execution_count": null,
   "outputs": [],
   "source": [
    "### CHANGE ABOVE TO MULTIPROCESSING, AND SAVE THE 5D ARRAY TO FEATHER (5D ARRAY -> DF -> FEATHER)"
   ],
   "metadata": {
    "collapsed": false
   }
  },
  {
   "cell_type": "code",
   "execution_count": 11,
   "outputs": [
    {
     "name": "stdout",
     "output_type": "stream",
     "text": [
      "Using Openslide to read in image\n",
      "Tiled array shape is (96, 161, 1024, 1024, 3):\n",
      "(96, 161, 1024, 1024, 3)\n",
      "time it took to save all tiles: 12.830497594674428 minutes\n"
     ]
    }
   ],
   "source": [
    "start = time.time()\n",
    "US_dst_src = r'\\\\shelter\\Kyu\\unstain2stain\\tiles\\unregistered_tiles\\US'\n",
    "US_ndpi_src = r'\\\\shelter\\Kyu\\unstain2stain\\unstain2stain_wsi\\Unstained'\n",
    "wsi_name = us_desired_names[0]\n",
    "US_desired_src = os.path.join(US_ndpi_src,wsi_name + \".ndpi\")\n",
    "save_src = os.path.join(US_dst_src,wsi_name)\n",
    "if not os.path.exists(save_src):\n",
    "    os.makedirs(save_src)\n",
    "tiled_array, (de_pad_width,de_pad_height) = reshape_split(US_desired_src,1024)\n",
    "print(tiled_array.shape)\n",
    "end = time.time()\n",
    "print(\"time it took to save all tiles: {} minutes\".format((end-start)/60))"
   ],
   "metadata": {
    "collapsed": false,
    "ExecuteTime": {
     "start_time": "2023-04-26T19:44:42.503952Z",
     "end_time": "2023-04-26T19:57:32.349643Z"
    }
   }
  },
  {
   "cell_type": "code",
   "execution_count": 12,
   "outputs": [
    {
     "ename": "KeyboardInterrupt",
     "evalue": "",
     "output_type": "error",
     "traceback": [
      "\u001B[1;31m---------------------------------------------------------------------------\u001B[0m",
      "\u001B[1;31mKeyboardInterrupt\u001B[0m                         Traceback (most recent call last)",
      "Cell \u001B[1;32mIn[12], line 10\u001B[0m\n\u001B[0;32m      8\u001B[0m         tile_save_src \u001B[38;5;241m=\u001B[39m os\u001B[38;5;241m.\u001B[39mpath\u001B[38;5;241m.\u001B[39mjoin(save_src,\u001B[38;5;124mf\u001B[39m\u001B[38;5;124m'\u001B[39m\u001B[38;5;132;01m{\u001B[39;00mx_coord\u001B[38;5;132;01m}\u001B[39;00m\u001B[38;5;124m_\u001B[39m\u001B[38;5;132;01m{\u001B[39;00my_coord\u001B[38;5;132;01m}\u001B[39;00m\u001B[38;5;124mxy\u001B[39m\u001B[38;5;132;01m{\u001B[39;00mlabel\u001B[38;5;132;01m}\u001B[39;00m\u001B[38;5;124m.png\u001B[39m\u001B[38;5;124m'\u001B[39m)\n\u001B[0;32m      9\u001B[0m         tile \u001B[38;5;241m=\u001B[39m tiled_array[col_idx][row_idx]\n\u001B[1;32m---> 10\u001B[0m         \u001B[43mImage\u001B[49m\u001B[38;5;241;43m.\u001B[39;49m\u001B[43mfromarray\u001B[49m\u001B[43m(\u001B[49m\u001B[43mtile\u001B[49m\u001B[43m)\u001B[49m\u001B[38;5;241;43m.\u001B[39;49m\u001B[43msave\u001B[49m\u001B[43m(\u001B[49m\u001B[43mtile_save_src\u001B[49m\u001B[43m)\u001B[49m\n\u001B[0;32m     11\u001B[0m end \u001B[38;5;241m=\u001B[39m time\u001B[38;5;241m.\u001B[39mtime()\n\u001B[0;32m     12\u001B[0m \u001B[38;5;28mprint\u001B[39m(\u001B[38;5;124m\"\u001B[39m\u001B[38;5;124mtime it took to save all tiles: \u001B[39m\u001B[38;5;132;01m{}\u001B[39;00m\u001B[38;5;124m minutes\u001B[39m\u001B[38;5;124m\"\u001B[39m\u001B[38;5;241m.\u001B[39mformat((end\u001B[38;5;241m-\u001B[39mstart)\u001B[38;5;241m/\u001B[39m\u001B[38;5;241m60\u001B[39m))\n",
      "File \u001B[1;32m~\\.conda\\envs\\wsi_analysis\\lib\\site-packages\\PIL\\Image.py:2443\u001B[0m, in \u001B[0;36mImage.save\u001B[1;34m(self, fp, format, **params)\u001B[0m\n\u001B[0;32m   2441\u001B[0m     \u001B[38;5;28;01mraise\u001B[39;00m\n\u001B[0;32m   2442\u001B[0m \u001B[38;5;28;01mif\u001B[39;00m open_fp:\n\u001B[1;32m-> 2443\u001B[0m     \u001B[43mfp\u001B[49m\u001B[38;5;241;43m.\u001B[39;49m\u001B[43mclose\u001B[49m\u001B[43m(\u001B[49m\u001B[43m)\u001B[49m\n",
      "\u001B[1;31mKeyboardInterrupt\u001B[0m: "
     ]
    }
   ],
   "source": [
    "start = time.time()\n",
    "for row_idx in range(tiled_array.shape[1]):\n",
    "    for col_idx in range(tiled_array.shape[0]):\n",
    "        x_coord = row_idx*1024 + de_pad_width\n",
    "        y_coord = col_idx*1024 + de_pad_height\n",
    "        label= row_idx * tiled_array.shape[0] + (col_idx + 1)\n",
    "        label = f\"{label:04d}\"\n",
    "        tile_save_src = os.path.join(save_src,f'{x_coord}_{y_coord}xy{label}.png')\n",
    "        tile = tiled_array[col_idx][row_idx]\n",
    "        Image.fromarray(tile).save(tile_save_src)\n",
    "end = time.time()\n",
    "print(\"time it took to save all tiles: {} minutes\".format((end-start)/60))"
   ],
   "metadata": {
    "collapsed": false
   }
  },
  {
   "cell_type": "code",
   "execution_count": null,
   "outputs": [],
   "source": [],
   "metadata": {
    "collapsed": false
   }
  },
  {
   "cell_type": "code",
   "execution_count": null,
   "outputs": [],
   "source": [
    "### Tile HE images:\n",
    "HE_dst_src = r'\\\\shelter\\Kyu\\unstain2stain\\tiles\\unregistered_tiles\\HE'\n",
    "HE_ndpi_src = r'\\\\shelter\\Kyu\\unstain2stain\\unstain2stain_wsi\\HE'\n",
    "HE_desired_src = [os.path.join(HE_ndpi_src,x) for x in he_desired_names_src]\n",
    "for idx, src in tqdm(enumerate(HE_desired_src),total=len(HE_desired_src),colour='red',desc='WSI Processed'):\n",
    "    wsi_name = he_desired_names[idx]\n",
    "    save_src = os.path.join(HE_dst_src,wsi_name)\n",
    "    if not os.path.exists(save_src):\n",
    "        os.makedirs(save_src)\n",
    "    tiled_array, (de_pad_width,de_pad_height) = reshape_split(src,1024)\n",
    "    start = time.time()\n",
    "    for row_idx in range(tiled_array.shape[1]):\n",
    "        for col_idx in range(tiled_array.shape[0]):\n",
    "            print(\"Saving tiles from 5d Array\")\n",
    "            x_coord = row_idx*1024 + de_pad_width\n",
    "            y_coord = col_idx*1024 + de_pad_height\n",
    "            label= row_idx * tiled_array.shape[0] + (col_idx + 1)\n",
    "            label = f\"{label:04d}\"\n",
    "            tile_save_src = os.path.join(save_src,f'{x_coord}_{y_coord}xy{label}.png')\n",
    "            tile = tiled_array[col_idx][row_idx]\n",
    "            Image.fromarray(tile).save(tile_save_src)\n",
    "    end = time.time()\n",
    "    print(\"time it took to save all tiles: {} minutes\".format((end-start)/60))"
   ],
   "metadata": {
    "collapsed": false
   }
  },
  {
   "cell_type": "markdown",
   "source": [
    "### Now run inference on these tiles and then stitch the resulting tiles using stitch notebook\n"
   ],
   "metadata": {
    "collapsed": false
   }
  },
  {
   "cell_type": "code",
   "execution_count": null,
   "outputs": [],
   "source": [],
   "metadata": {
    "collapsed": false
   }
  }
 ],
 "metadata": {
  "kernelspec": {
   "display_name": "Python 3",
   "language": "python",
   "name": "python3"
  },
  "language_info": {
   "codemirror_mode": {
    "name": "ipython",
    "version": 2
   },
   "file_extension": ".py",
   "mimetype": "text/x-python",
   "name": "python",
   "nbconvert_exporter": "python",
   "pygments_lexer": "ipython2",
   "version": "2.7.6"
  }
 },
 "nbformat": 4,
 "nbformat_minor": 0
}
