{
 "cells": [
  {
   "cell_type": "code",
   "execution_count": 2,
   "outputs": [],
   "source": [
    "#importing openslide:\n",
    "OPENSLIDE_PATH = r\"C:\\Users\\Kevin\\Downloads\\openslide-win64-20221217\\bin\"\n",
    "\n",
    "import os\n",
    "if hasattr(os, 'add_dll_directory'):\n",
    "    # Python >= 3.8 on Windows\n",
    "    with os.add_dll_directory(OPENSLIDE_PATH):\n",
    "        import openslide\n",
    "else:\n",
    "    import openslide"
   ],
   "metadata": {
    "collapsed": false
   }
  },
  {
   "cell_type": "code",
   "execution_count": 3,
   "outputs": [],
   "source": [
    "import numpy as np\n",
    "from PIL import Image\n",
    "import math\n",
    "import os"
   ],
   "metadata": {
    "collapsed": false
   }
  },
  {
   "cell_type": "code",
   "execution_count": 4,
   "metadata": {
    "collapsed": true
   },
   "outputs": [
    {
     "name": "stdout",
     "output_type": "stream",
     "text": [
      "142\n",
      "93\n"
     ]
    }
   ],
   "source": [
    "nssrc = r\"\\\\shelter\\Kyu\\unstain2stain\\unstain2stain_wsi\\Unstained\"\n",
    "imgname = 'OTS_14684_2.ndpi'\n",
    "ns_ndpi_src = os.path.join(nssrc,imgname)\n",
    "slide = openslide.open_slide(ns_ndpi_src)\n",
    "target_level = 0\n",
    "target_dim = slide.level_dimensions[target_level]\n",
    "width, height = target_dim\n",
    "# unpad since it's white background anyways\n",
    "tiles_x_unpad = int((width % 1024) / 2)\n",
    "tiles_y_unpad = int((height % 1024) / 2)\n",
    "# read from 0+tiles_x_unpad/y_pad and max-tiles_x_unpad/ypad:\n",
    "num_rows= ((width - tiles_x_unpad) - (0 + tiles_x_unpad)) / 1024\n",
    "num_cols= ((height - tiles_y_unpad) - (0 + tiles_y_unpad)) / 1024\n",
    "num_rows = int(num_rows)\n",
    "num_cols = int(num_cols)\n",
    "print(num_rows)\n",
    "print(num_cols)"
   ]
  },
  {
   "cell_type": "code",
   "execution_count": null,
   "outputs": [],
   "source": [
    "# def reshape_split(image:np.ndarray,kernel_size:tuple):\n",
    "#     img_height,img_width,channels=image.shape\n",
    "#     tile_height,tile_width = kernel_size\n",
    "#     tiled_array = image.reshape(img_height//tile_height,\n",
    "#                                 tile_height,\n",
    "#                                 img_width//tile_width,\n",
    "#                                 tile_width,\n",
    "#                                 channels)\n",
    "#     tiled_array = tiled_array.swapaxes(1,2)\n",
    "#     return tiled_array"
   ],
   "metadata": {
    "collapsed": false
   }
  },
  {
   "cell_type": "code",
   "execution_count": 7,
   "outputs": [],
   "source": [
    "# tile to 1024 x 1024\n",
    "tile_dstsrc = r'\\\\shelter\\Kyu\\unstain2stain\\tiles\\not_registrated\\Unstained\\OTS_14684_2'\n",
    "target_level = 0\n",
    "for row_idx in range(num_rows): # 0~num_rows-1\n",
    "    for col_idx in range(num_cols): # 0~num_cols-1\n",
    "        xcoord= tiles_x_unpad + 1024 * row_idx\n",
    "        ycoord= tiles_y_unpad + 1024 * col_idx\n",
    "        nsimage = slide.read_region(location=(xcoord,ycoord),level=target_level,size=(1024,1024))\n",
    "        nsimage = np.array(nsimage)\n",
    "        imgidx = row_idx * num_cols + (col_idx + 1)\n",
    "        imgidx = f\"{imgidx:04d}\"\n",
    "        imgcoord = str(xcoord) + \"_\" + str(ycoord) + \"xy\"\n",
    "        imgname = imgcoord + imgidx + \".png\"\n",
    "        Image.fromarray(nsimage).save(os.path.join(tile_dstsrc,imgname))"
   ],
   "metadata": {
    "collapsed": false
   }
  },
  {
   "cell_type": "markdown",
   "source": [
    "### Now run inference on these tiles and then stitch the resulting tiles using stitch notebook"
   ],
   "metadata": {
    "collapsed": false
   }
  },
  {
   "cell_type": "code",
   "execution_count": null,
   "outputs": [],
   "source": [],
   "metadata": {
    "collapsed": false,
    "pycharm": {
     "is_executing": true
    }
   }
  },
  {
   "cell_type": "code",
   "execution_count": null,
   "outputs": [],
   "source": [],
   "metadata": {
    "collapsed": false
   }
  }
 ],
 "metadata": {
  "kernelspec": {
   "display_name": "Python 3",
   "language": "python",
   "name": "python3"
  },
  "language_info": {
   "codemirror_mode": {
    "name": "ipython",
    "version": 2
   },
   "file_extension": ".py",
   "mimetype": "text/x-python",
   "name": "python",
   "nbconvert_exporter": "python",
   "pygments_lexer": "ipython2",
   "version": "2.7.6"
  }
 },
 "nbformat": 4,
 "nbformat_minor": 0
}
