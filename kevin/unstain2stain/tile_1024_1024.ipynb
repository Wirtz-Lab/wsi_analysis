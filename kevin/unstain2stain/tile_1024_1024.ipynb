{
 "cells": [
  {
   "cell_type": "code",
   "execution_count": 2,
   "outputs": [],
   "source": [
    "#importing openslide:\n",
    "OPENSLIDE_PATH = r\"C:\\Users\\Kevin\\Downloads\\openslide-win64-20221217\\bin\"\n",
    "\n",
    "import os\n",
    "if hasattr(os, 'add_dll_directory'):\n",
    "    # Python >= 3.8 on Windows\n",
    "    with os.add_dll_directory(OPENSLIDE_PATH):\n",
    "        import openslide\n",
    "else:\n",
    "    import openslide"
   ],
   "metadata": {
    "collapsed": false
   }
  },
  {
   "cell_type": "code",
   "execution_count": 2,
   "outputs": [],
   "source": [
    "import numpy as np\n",
    "from PIL import Image\n",
    "import math\n",
    "import os\n",
    "import pandas as pd\n",
    "from tqdm import tqdm"
   ],
   "metadata": {
    "collapsed": false,
    "ExecuteTime": {
     "start_time": "2023-04-28T09:59:20.811863Z",
     "end_time": "2023-04-28T09:59:20.850070Z"
    }
   }
  },
  {
   "cell_type": "code",
   "execution_count": 3,
   "outputs": [],
   "source": [
    "# First get list of all deparafinized and student_score >2 and CLUE:\n",
    "all_df_src = r'\\\\shelter\\Kyu\\unstain2stain\\unstain2stain_wsi\\wsi_list_230314.xlsx'\n",
    "all_df = pd.read_excel(all_df_src)\n",
    "desired_df_name = all_df[all_df.scan_batch == 3] # CLUE\n",
    "desired_df_name1 = all_df[all_df.scan_batch == 4] # CLUE\n",
    "desired_name = list(desired_df_name.wsi_name)\n",
    "desired_name1 = list(desired_df_name1.wsi_name)\n",
    "desired_names = desired_name + desired_name1\n",
    "he_desired_names = [x for x in desired_names if x[-3:] == \"_he\"]\n",
    "he_desired_names_src = [x+\".ndpi\" for x in he_desired_names]\n",
    "us_desired_names = [x for x in desired_names if not x[-3:] == \"_he\"]\n",
    "us_desired_names_src = [x+\".ndpi\" for x in us_desired_names]\n",
    "US_dst_src = r'\\\\shelter\\Kyu\\unstain2stain\\tiles\\unregistered_tiles\\US'\n",
    "US_ndpi_src = r'\\\\shelter\\Kyu\\unstain2stain\\unstain2stain_wsi\\Unstained'\n",
    "US_desired_src = [os.path.join(US_ndpi_src,x) for x in us_desired_names_src]\n",
    "US_desired_src"
   ],
   "metadata": {
    "collapsed": false,
    "ExecuteTime": {
     "start_time": "2023-04-28T09:59:31.018871Z",
     "end_time": "2023-04-28T09:59:31.405128Z"
    }
   }
  },
  {
   "cell_type": "code",
   "execution_count": null,
   "outputs": [],
   "source": [
    "for idx, src in tqdm(enumerate(US_desired_src),total=len(US_desired_src),colour='red',desc='WSI Processed'):\n",
    "    wsi_name = us_desired_names[idx]\n",
    "    save_src = os.path.join(US_dst_src,wsi_name)\n",
    "    if not os.path.exists(save_src):\n",
    "        os.makedirs(save_src)\n",
    "    slide = openslide.open_slide(src)\n",
    "    target_level = 0\n",
    "    target_dim = slide.level_dimensions[target_level]\n",
    "    width, height = target_dim\n",
    "    # unpad since it's white background anyways\n",
    "    tiles_x_unpad = int((width % 1024) / 2)\n",
    "    tiles_y_unpad = int((height % 1024) / 2)\n",
    "    # read from 0+tiles_x_unpad/y_pad and max-tiles_x_unpad/ypad:\n",
    "    num_rows= ((width - tiles_x_unpad) - (0 + tiles_x_unpad)) / 1024\n",
    "    num_cols= ((height - tiles_y_unpad) - (0 + tiles_y_unpad)) / 1024\n",
    "    num_rows = int(num_rows)\n",
    "    num_cols = int(num_cols)\n",
    "    print(num_rows)\n",
    "    print(num_cols)\n",
    "        # tile to 1024 x 1024\n",
    "    for row_idx in range(num_rows): # 0~num_rows-1\n",
    "        for col_idx in range(num_cols): # 0~num_cols-1\n",
    "            xcoord= tiles_x_unpad + 1024 * row_idx\n",
    "            ycoord= tiles_y_unpad + 1024 * col_idx\n",
    "            nsimage = slide.read_region(location=(xcoord,ycoord),level=target_level,size=(1024,1024))\n",
    "            nsimage = np.array(nsimage)\n",
    "            imgidx = row_idx * num_cols + (col_idx + 1)\n",
    "            imgidx = f\"{imgidx:04d}\"\n",
    "            imgcoord = str(xcoord) + \"_\" + str(ycoord) + \"xy\"\n",
    "            imgname = imgcoord + imgidx + \".png\"\n",
    "            tile_save_src = os.path.join(save_src,imgname)\n",
    "            Image.fromarray(nsimage).save(tile_save_src)"
   ],
   "metadata": {
    "collapsed": false
   }
  },
  {
   "cell_type": "markdown",
   "source": [
    "### Parallel processing:"
   ],
   "metadata": {
    "collapsed": false
   }
  },
  {
   "cell_type": "code",
   "execution_count": 1,
   "outputs": [],
   "source": [
    "import numpy as np\n",
    "from PIL import Image\n",
    "import math\n",
    "import os\n",
    "import pandas as pd\n",
    "from tqdm import tqdm\n",
    "import pathos\n",
    "from pathos.multiprocessing import ProcessPool\n",
    "num_nodes = pathos.helpers.cpu_count()"
   ],
   "metadata": {
    "collapsed": false,
    "ExecuteTime": {
     "start_time": "2023-05-02T18:10:19.357938Z",
     "end_time": "2023-05-02T18:10:20.381571Z"
    }
   }
  },
  {
   "cell_type": "code",
   "execution_count": 2,
   "outputs": [
    {
     "data": {
      "text/plain": "['\\\\\\\\shelter\\\\Kyu\\\\unstain2stain\\\\unstain2stain_wsi\\\\Unstained\\\\OTS_14684_1.ndpi',\n '\\\\\\\\shelter\\\\Kyu\\\\unstain2stain\\\\unstain2stain_wsi\\\\Unstained\\\\OTS_14684_2.ndpi',\n '\\\\\\\\shelter\\\\Kyu\\\\unstain2stain\\\\unstain2stain_wsi\\\\Unstained\\\\OTS_14684_3.ndpi',\n '\\\\\\\\shelter\\\\Kyu\\\\unstain2stain\\\\unstain2stain_wsi\\\\Unstained\\\\OTS_14684_4.ndpi',\n '\\\\\\\\shelter\\\\Kyu\\\\unstain2stain\\\\unstain2stain_wsi\\\\Unstained\\\\OTS_14684_5.ndpi',\n '\\\\\\\\shelter\\\\Kyu\\\\unstain2stain\\\\unstain2stain_wsi\\\\Unstained\\\\OTS_14684_6.ndpi',\n '\\\\\\\\shelter\\\\Kyu\\\\unstain2stain\\\\unstain2stain_wsi\\\\Unstained\\\\OTS_14684_7.ndpi',\n '\\\\\\\\shelter\\\\Kyu\\\\unstain2stain\\\\unstain2stain_wsi\\\\Unstained\\\\OTS_14684_8.ndpi',\n '\\\\\\\\shelter\\\\Kyu\\\\unstain2stain\\\\unstain2stain_wsi\\\\Unstained\\\\OTS_14684_9.ndpi',\n '\\\\\\\\shelter\\\\Kyu\\\\unstain2stain\\\\unstain2stain_wsi\\\\Unstained\\\\OTS_14832_1.ndpi',\n '\\\\\\\\shelter\\\\Kyu\\\\unstain2stain\\\\unstain2stain_wsi\\\\Unstained\\\\OTS_14832_2.ndpi',\n '\\\\\\\\shelter\\\\Kyu\\\\unstain2stain\\\\unstain2stain_wsi\\\\Unstained\\\\OTS_14832_3.ndpi',\n '\\\\\\\\shelter\\\\Kyu\\\\unstain2stain\\\\unstain2stain_wsi\\\\Unstained\\\\OTS_14832_4.ndpi',\n '\\\\\\\\shelter\\\\Kyu\\\\unstain2stain\\\\unstain2stain_wsi\\\\Unstained\\\\OTS_14832_5.ndpi',\n '\\\\\\\\shelter\\\\Kyu\\\\unstain2stain\\\\unstain2stain_wsi\\\\Unstained\\\\OTS_14832_6.ndpi',\n '\\\\\\\\shelter\\\\Kyu\\\\unstain2stain\\\\unstain2stain_wsi\\\\Unstained\\\\OTS_14832_7.ndpi',\n '\\\\\\\\shelter\\\\Kyu\\\\unstain2stain\\\\unstain2stain_wsi\\\\Unstained\\\\OTS_14832_8.ndpi',\n '\\\\\\\\shelter\\\\Kyu\\\\unstain2stain\\\\unstain2stain_wsi\\\\Unstained\\\\OTS_14832_9.ndpi',\n '\\\\\\\\shelter\\\\Kyu\\\\unstain2stain\\\\unstain2stain_wsi\\\\Unstained\\\\OTS_14832_10.ndpi',\n '\\\\\\\\shelter\\\\Kyu\\\\unstain2stain\\\\unstain2stain_wsi\\\\Unstained\\\\OTS_14832_11.ndpi',\n '\\\\\\\\shelter\\\\Kyu\\\\unstain2stain\\\\unstain2stain_wsi\\\\Unstained\\\\OTS_14832_12.ndpi',\n '\\\\\\\\shelter\\\\Kyu\\\\unstain2stain\\\\unstain2stain_wsi\\\\Unstained\\\\OTS_14832_13.ndpi',\n '\\\\\\\\shelter\\\\Kyu\\\\unstain2stain\\\\unstain2stain_wsi\\\\Unstained\\\\OTS_14832_14.ndpi',\n '\\\\\\\\shelter\\\\Kyu\\\\unstain2stain\\\\unstain2stain_wsi\\\\Unstained\\\\OTS_14832_15.ndpi',\n '\\\\\\\\shelter\\\\Kyu\\\\unstain2stain\\\\unstain2stain_wsi\\\\Unstained\\\\OTS_14832_16.ndpi']"
     },
     "execution_count": 2,
     "metadata": {},
     "output_type": "execute_result"
    }
   ],
   "source": [
    "# First get list of all deparafinized and student_score >2 and CLUE:\n",
    "all_df_src = r'\\\\shelter\\Kyu\\unstain2stain\\unstain2stain_wsi\\wsi_list_230314.xlsx'\n",
    "all_df = pd.read_excel(all_df_src)\n",
    "desired_df_name = all_df[all_df.scan_batch == 3] # CLUE\n",
    "desired_df_name1 = all_df[all_df.scan_batch == 4] # CLUE\n",
    "desired_name = list(desired_df_name.wsi_name)\n",
    "desired_name1 = list(desired_df_name1.wsi_name)\n",
    "desired_names = desired_name + desired_name1\n",
    "he_desired_names = [x for x in desired_names if x[-3:] == \"_he\"]\n",
    "he_desired_names_src = [x+\".ndpi\" for x in he_desired_names]\n",
    "us_desired_names = [x for x in desired_names if not x[-3:] == \"_he\"]\n",
    "us_desired_names_src = [x+\".ndpi\" for x in us_desired_names]\n",
    "\n",
    "US_dst_src = r'\\\\shelter\\Kyu\\unstain2stain\\tiles\\unregistered_tiles\\US'\n",
    "US_ndpi_src = r'\\\\shelter\\Kyu\\unstain2stain\\unstain2stain_wsi\\Unstained'\n",
    "US_desired_src = [os.path.join(US_ndpi_src,x) for x in us_desired_names_src]\n",
    "US_desired_src"
   ],
   "metadata": {
    "collapsed": false,
    "ExecuteTime": {
     "start_time": "2023-05-02T18:10:20.382571Z",
     "end_time": "2023-05-02T18:10:20.739729Z"
    }
   }
  },
  {
   "cell_type": "code",
   "execution_count": 4,
   "outputs": [
    {
     "data": {
      "text/plain": "['\\\\\\\\shelter\\\\Kyu\\\\unstain2stain\\\\unstain2stain_wsi\\\\Unstained\\\\OTS_14832_2.ndpi',\n '\\\\\\\\shelter\\\\Kyu\\\\unstain2stain\\\\unstain2stain_wsi\\\\Unstained\\\\OTS_14832_3.ndpi',\n '\\\\\\\\shelter\\\\Kyu\\\\unstain2stain\\\\unstain2stain_wsi\\\\Unstained\\\\OTS_14832_4.ndpi',\n '\\\\\\\\shelter\\\\Kyu\\\\unstain2stain\\\\unstain2stain_wsi\\\\Unstained\\\\OTS_14832_5.ndpi',\n '\\\\\\\\shelter\\\\Kyu\\\\unstain2stain\\\\unstain2stain_wsi\\\\Unstained\\\\OTS_14832_6.ndpi',\n '\\\\\\\\shelter\\\\Kyu\\\\unstain2stain\\\\unstain2stain_wsi\\\\Unstained\\\\OTS_14832_7.ndpi',\n '\\\\\\\\shelter\\\\Kyu\\\\unstain2stain\\\\unstain2stain_wsi\\\\Unstained\\\\OTS_14832_8.ndpi',\n '\\\\\\\\shelter\\\\Kyu\\\\unstain2stain\\\\unstain2stain_wsi\\\\Unstained\\\\OTS_14832_9.ndpi',\n '\\\\\\\\shelter\\\\Kyu\\\\unstain2stain\\\\unstain2stain_wsi\\\\Unstained\\\\OTS_14832_10.ndpi',\n '\\\\\\\\shelter\\\\Kyu\\\\unstain2stain\\\\unstain2stain_wsi\\\\Unstained\\\\OTS_14832_11.ndpi',\n '\\\\\\\\shelter\\\\Kyu\\\\unstain2stain\\\\unstain2stain_wsi\\\\Unstained\\\\OTS_14832_12.ndpi',\n '\\\\\\\\shelter\\\\Kyu\\\\unstain2stain\\\\unstain2stain_wsi\\\\Unstained\\\\OTS_14832_13.ndpi',\n '\\\\\\\\shelter\\\\Kyu\\\\unstain2stain\\\\unstain2stain_wsi\\\\Unstained\\\\OTS_14832_14.ndpi',\n '\\\\\\\\shelter\\\\Kyu\\\\unstain2stain\\\\unstain2stain_wsi\\\\Unstained\\\\OTS_14832_15.ndpi',\n '\\\\\\\\shelter\\\\Kyu\\\\unstain2stain\\\\unstain2stain_wsi\\\\Unstained\\\\OTS_14832_16.ndpi']"
     },
     "execution_count": 4,
     "metadata": {},
     "output_type": "execute_result"
    }
   ],
   "source": [
    "# code to select only the US_desired_src of the ones that were somehow not generated properly:\n",
    "# Unregistered tiles:\n",
    "# Problems with, so retile:\n",
    "# HE: OTS_14684_4_he, OTS_14832_3_he, OTS_14832_4_he, OTS_14832_7_he\n",
    "# US: OTS_14832_2, OTS_14832_3, OTS_14832_4,  all the way to 16.\n",
    "US_desired_src = US_desired_src[-15:]\n",
    "US_desired_src"
   ],
   "metadata": {
    "collapsed": false,
    "ExecuteTime": {
     "start_time": "2023-05-02T18:13:22.475412Z",
     "end_time": "2023-05-02T18:13:22.506657Z"
    }
   }
  },
  {
   "cell_type": "code",
   "execution_count": 5,
   "outputs": [],
   "source": [
    "#importing openslide:\n",
    "OPENSLIDE_PATH = r\"C:\\Users\\labuser1\\Downloads\\openslide-win64-20230414\\bin\"\n",
    "\n",
    "import os\n",
    "if hasattr(os, 'add_dll_directory'):\n",
    "    # Python >= 3.8 on Windows\n",
    "    with os.add_dll_directory(OPENSLIDE_PATH):\n",
    "        import openslide\n",
    "else:\n",
    "    import openslide"
   ],
   "metadata": {
    "collapsed": false,
    "ExecuteTime": {
     "start_time": "2023-05-02T18:13:36.553989Z",
     "end_time": "2023-05-02T18:13:36.569589Z"
    }
   }
  },
  {
   "cell_type": "code",
   "execution_count": 6,
   "outputs": [],
   "source": [
    "def tile_wsi(src, wsi_name, save_src):\n",
    "    import os\n",
    "    import numpy as np\n",
    "    from PIL import Image\n",
    "    import math\n",
    "    import pandas as pd\n",
    "    from tqdm import tqdm\n",
    "    import time\n",
    "    from pathos.multiprocessing import ProcessPool\n",
    "    OPENSLIDE_PATH = r\"C:\\Users\\labuser1\\Downloads\\openslide-win64-20230414\\bin\"\n",
    "    if hasattr(os, 'add_dll_directory'):\n",
    "        # Python >= 3.8 on Windows\n",
    "        with os.add_dll_directory(OPENSLIDE_PATH):\n",
    "            import openslide\n",
    "    else:\n",
    "        import openslide\n",
    "    if not os.path.exists(save_src):\n",
    "        os.makedirs(save_src)\n",
    "    slide = openslide.open_slide(src)\n",
    "    target_level = 0\n",
    "    target_dim = slide.level_dimensions[target_level]\n",
    "    width, height = target_dim\n",
    "    # unpad since it's white background anyways\n",
    "    tiles_x_unpad = int((width % 1024) / 2)\n",
    "    tiles_y_unpad = int((height % 1024) / 2)\n",
    "    # read from 0+tiles_x_unpad/y_pad and max-tiles_x_unpad/ypad:\n",
    "    num_rows= ((width - tiles_x_unpad) - (0 + tiles_x_unpad)) / 1024\n",
    "    num_cols= ((height - tiles_y_unpad) - (0 + tiles_y_unpad)) / 1024\n",
    "    num_rows = int(num_rows)\n",
    "    num_cols = int(num_cols)\n",
    "    # tile to 1024 x 1024\n",
    "    for row_idx in range(num_rows): # 0~num_rows-1\n",
    "        for col_idx in range(num_cols): # 0~num_cols-1\n",
    "            xcoord= tiles_x_unpad + 1024 * row_idx\n",
    "            ycoord= tiles_y_unpad + 1024 * col_idx\n",
    "            nsimage = slide.read_region(location=(xcoord,ycoord),level=target_level,size=(1024,1024))\n",
    "            nsimage = np.array(nsimage)\n",
    "            imgidx = row_idx * num_cols + (col_idx + 1)\n",
    "            imgidx = f\"{imgidx:04d}\"\n",
    "            imgcoord = str(xcoord) + \"_\" + str(ycoord) + \"xy\"\n",
    "            imgname = imgcoord + imgidx + \".png\"\n",
    "            tile_save_src = os.path.join(save_src, imgname)\n",
    "            Image.fromarray(nsimage).save(tile_save_src)"
   ],
   "metadata": {
    "collapsed": false,
    "ExecuteTime": {
     "start_time": "2023-05-02T18:13:41.162927Z",
     "end_time": "2023-05-02T18:13:41.178554Z"
    }
   }
  },
  {
   "cell_type": "code",
   "execution_count": null,
   "outputs": [
    {
     "name": "stderr",
     "output_type": "stream",
     "text": [
      "WSI Processed: 100%|\u001B[31m██████████\u001B[0m| 15/15 [00:00<?, ?it/s]\n"
     ]
    }
   ],
   "source": [
    "# for US:\n",
    "import time\n",
    "start = time.time()\n",
    "pool = ProcessPool(nodes=num_nodes)\n",
    "results = []\n",
    "\n",
    "for idx, src in tqdm(enumerate(US_desired_src), total=len(US_desired_src), colour='red', desc='WSI Processed'):\n",
    "    wsi_name = us_desired_names[idx]\n",
    "    save_src = os.path.join(US_dst_src, wsi_name)\n",
    "    results.append(pool.apipe(tile_wsi, src, wsi_name, save_src))\n",
    "\n",
    "# Get the results\n",
    "for result in results:\n",
    "    import os\n",
    "    result.get()\n",
    "\n",
    "# Close the process pool\n",
    "pool.close()\n",
    "\n",
    "end = time.time()\n",
    "print(\"time it took to tile all US images: {} hours\".format((start-end)/3600))"
   ],
   "metadata": {
    "collapsed": false
   }
  },
  {
   "cell_type": "markdown",
   "source": [
    "### Same code for HE:"
   ],
   "metadata": {
    "collapsed": false
   }
  },
  {
   "cell_type": "code",
   "execution_count": 9,
   "outputs": [],
   "source": [
    "import numpy as np\n",
    "from PIL import Image\n",
    "import math\n",
    "import os\n",
    "import pandas as pd\n",
    "from tqdm import tqdm\n",
    "import pathos\n",
    "from pathos.multiprocessing import ProcessPool\n",
    "num_nodes = pathos.helpers.cpu_count()\n",
    "OPENSLIDE_PATH = r\"C:\\Users\\labuser1\\Downloads\\openslide-win64-20230414\\bin\" # this will change\n",
    "if hasattr(os, 'add_dll_directory'):\n",
    "    # Python >= 3.8 on Windows\n",
    "    with os.add_dll_directory(OPENSLIDE_PATH):\n",
    "        import openslide\n",
    "else:\n",
    "    import openslide"
   ],
   "metadata": {
    "collapsed": false,
    "ExecuteTime": {
     "start_time": "2023-05-02T23:27:46.523967Z",
     "end_time": "2023-05-02T23:27:46.555381Z"
    }
   }
  },
  {
   "cell_type": "code",
   "execution_count": 10,
   "outputs": [
    {
     "data": {
      "text/plain": "['\\\\\\\\shelter\\\\Kyu\\\\unstain2stain\\\\unstain2stain_wsi\\\\HE\\\\OTS_14684_1_he.ndpi',\n '\\\\\\\\shelter\\\\Kyu\\\\unstain2stain\\\\unstain2stain_wsi\\\\HE\\\\OTS_14684_2_he.ndpi',\n '\\\\\\\\shelter\\\\Kyu\\\\unstain2stain\\\\unstain2stain_wsi\\\\HE\\\\OTS_14684_3_he.ndpi',\n '\\\\\\\\shelter\\\\Kyu\\\\unstain2stain\\\\unstain2stain_wsi\\\\HE\\\\OTS_14684_4_he.ndpi',\n '\\\\\\\\shelter\\\\Kyu\\\\unstain2stain\\\\unstain2stain_wsi\\\\HE\\\\OTS_14684_5_he.ndpi',\n '\\\\\\\\shelter\\\\Kyu\\\\unstain2stain\\\\unstain2stain_wsi\\\\HE\\\\OTS_14684_6_he.ndpi',\n '\\\\\\\\shelter\\\\Kyu\\\\unstain2stain\\\\unstain2stain_wsi\\\\HE\\\\OTS_14684_7_he.ndpi',\n '\\\\\\\\shelter\\\\Kyu\\\\unstain2stain\\\\unstain2stain_wsi\\\\HE\\\\OTS_14684_8_he.ndpi',\n '\\\\\\\\shelter\\\\Kyu\\\\unstain2stain\\\\unstain2stain_wsi\\\\HE\\\\OTS_14684_9_he.ndpi',\n '\\\\\\\\shelter\\\\Kyu\\\\unstain2stain\\\\unstain2stain_wsi\\\\HE\\\\OTS_14832_1_he.ndpi',\n '\\\\\\\\shelter\\\\Kyu\\\\unstain2stain\\\\unstain2stain_wsi\\\\HE\\\\OTS_14832_2_he.ndpi',\n '\\\\\\\\shelter\\\\Kyu\\\\unstain2stain\\\\unstain2stain_wsi\\\\HE\\\\OTS_14832_3_he.ndpi',\n '\\\\\\\\shelter\\\\Kyu\\\\unstain2stain\\\\unstain2stain_wsi\\\\HE\\\\OTS_14832_4_he.ndpi',\n '\\\\\\\\shelter\\\\Kyu\\\\unstain2stain\\\\unstain2stain_wsi\\\\HE\\\\OTS_14832_5_he.ndpi',\n '\\\\\\\\shelter\\\\Kyu\\\\unstain2stain\\\\unstain2stain_wsi\\\\HE\\\\OTS_14832_6_he.ndpi',\n '\\\\\\\\shelter\\\\Kyu\\\\unstain2stain\\\\unstain2stain_wsi\\\\HE\\\\OTS_14832_7_he.ndpi',\n '\\\\\\\\shelter\\\\Kyu\\\\unstain2stain\\\\unstain2stain_wsi\\\\HE\\\\OTS_14832_8_he.ndpi',\n '\\\\\\\\shelter\\\\Kyu\\\\unstain2stain\\\\unstain2stain_wsi\\\\HE\\\\OTS_14832_9_he.ndpi',\n '\\\\\\\\shelter\\\\Kyu\\\\unstain2stain\\\\unstain2stain_wsi\\\\HE\\\\OTS_14832_10_he.ndpi',\n '\\\\\\\\shelter\\\\Kyu\\\\unstain2stain\\\\unstain2stain_wsi\\\\HE\\\\OTS_14832_11_he.ndpi',\n '\\\\\\\\shelter\\\\Kyu\\\\unstain2stain\\\\unstain2stain_wsi\\\\HE\\\\OTS_14832_12_he.ndpi',\n '\\\\\\\\shelter\\\\Kyu\\\\unstain2stain\\\\unstain2stain_wsi\\\\HE\\\\OTS_14832_13_he.ndpi',\n '\\\\\\\\shelter\\\\Kyu\\\\unstain2stain\\\\unstain2stain_wsi\\\\HE\\\\OTS_14832_14_he.ndpi',\n '\\\\\\\\shelter\\\\Kyu\\\\unstain2stain\\\\unstain2stain_wsi\\\\HE\\\\OTS_14832_15_he.ndpi',\n '\\\\\\\\shelter\\\\Kyu\\\\unstain2stain\\\\unstain2stain_wsi\\\\HE\\\\OTS_14832_16_he.ndpi']"
     },
     "execution_count": 10,
     "metadata": {},
     "output_type": "execute_result"
    }
   ],
   "source": [
    "# First get list of all deparafinized and student_score >2 and CLUE:\n",
    "all_df_src = r'\\\\shelter\\Kyu\\unstain2stain\\unstain2stain_wsi\\wsi_list_230314.xlsx'\n",
    "all_df = pd.read_excel(all_df_src)\n",
    "desired_df_name = all_df[all_df.scan_batch == 3] # CLUE\n",
    "desired_df_name1 = all_df[all_df.scan_batch == 4] # CLUE\n",
    "desired_name = list(desired_df_name.wsi_name)\n",
    "desired_name1 = list(desired_df_name1.wsi_name)\n",
    "desired_names = desired_name + desired_name1\n",
    "he_desired_names = [x for x in desired_names if x[-3:] == \"_he\"]\n",
    "he_desired_names_src = [x+\".ndpi\" for x in he_desired_names]\n",
    "us_desired_names = [x for x in desired_names if not x[-3:] == \"_he\"]\n",
    "us_desired_names_src = [x+\".ndpi\" for x in us_desired_names]\n",
    "\n",
    "HE_dst_src = r'\\\\shelter\\Kyu\\unstain2stain\\tiles\\unregistered_tiles\\HE'\n",
    "HE_ndpi_src = r'\\\\shelter\\Kyu\\unstain2stain\\unstain2stain_wsi\\HE'\n",
    "HE_desired_src = [os.path.join(HE_ndpi_src,x) for x in he_desired_names_src]\n",
    "HE_desired_src"
   ],
   "metadata": {
    "collapsed": false,
    "ExecuteTime": {
     "start_time": "2023-05-02T23:27:47.333297Z",
     "end_time": "2023-05-02T23:27:47.445066Z"
    }
   }
  },
  {
   "cell_type": "code",
   "execution_count": 11,
   "outputs": [],
   "source": [
    "# code to select only the US_desired_src of the ones that were somehow not generated properly:\n",
    "# Unregistered tiles:\n",
    "# Problems with, so retile:\n",
    "# HE: OTS_14684_4_he, OTS_14832_3_he, OTS_14832_4_he, OTS_14832_7_he\n",
    "# US: OTS_14832_2, OTS_14832_3, OTS_14832_4,  all the way to 16.\n",
    "tmp = []\n",
    "tmp.append(HE_desired_src[15])\n",
    "tmp.append(HE_desired_src[12])\n",
    "tmp.append(HE_desired_src[11])\n",
    "tmp.append(HE_desired_src[3])\n",
    "HE_desired_src = tmp"
   ],
   "metadata": {
    "collapsed": false,
    "ExecuteTime": {
     "start_time": "2023-05-02T23:27:53.583313Z",
     "end_time": "2023-05-02T23:27:53.598941Z"
    }
   }
  },
  {
   "cell_type": "code",
   "execution_count": 12,
   "outputs": [
    {
     "data": {
      "text/plain": "['\\\\\\\\shelter\\\\Kyu\\\\unstain2stain\\\\unstain2stain_wsi\\\\HE\\\\OTS_14832_7_he.ndpi',\n '\\\\\\\\shelter\\\\Kyu\\\\unstain2stain\\\\unstain2stain_wsi\\\\HE\\\\OTS_14832_4_he.ndpi',\n '\\\\\\\\shelter\\\\Kyu\\\\unstain2stain\\\\unstain2stain_wsi\\\\HE\\\\OTS_14832_3_he.ndpi',\n '\\\\\\\\shelter\\\\Kyu\\\\unstain2stain\\\\unstain2stain_wsi\\\\HE\\\\OTS_14684_4_he.ndpi']"
     },
     "execution_count": 12,
     "metadata": {},
     "output_type": "execute_result"
    }
   ],
   "source": [
    "HE_desired_src"
   ],
   "metadata": {
    "collapsed": false,
    "ExecuteTime": {
     "start_time": "2023-05-02T23:27:54.019160Z",
     "end_time": "2023-05-02T23:27:54.034788Z"
    }
   }
  },
  {
   "cell_type": "code",
   "execution_count": 15,
   "outputs": [],
   "source": [
    "def tile_wsi(src, wsi_name, save_src):\n",
    "    import os\n",
    "    import numpy as np\n",
    "    from PIL import Image\n",
    "    import time\n",
    "    import math\n",
    "    import pandas as pd\n",
    "    import time\n",
    "    from tqdm import tqdm\n",
    "    from pathos.multiprocessing import ProcessPool\n",
    "    OPENSLIDE_PATH = r\"C:\\Users\\labuser1\\Downloads\\openslide-win64-20230414\\bin\" # this will change\n",
    "    if hasattr(os, 'add_dll_directory'):\n",
    "        # Python >= 3.8 on Windows\n",
    "        with os.add_dll_directory(OPENSLIDE_PATH):\n",
    "            import openslide\n",
    "    else:\n",
    "        import openslide\n",
    "    if not os.path.exists(save_src):\n",
    "        os.makedirs(save_src)\n",
    "    slide = openslide.open_slide(src)\n",
    "    target_level = 0\n",
    "    target_dim = slide.level_dimensions[target_level]\n",
    "    width, height = target_dim\n",
    "    # unpad since it's white background anyways\n",
    "    tiles_x_unpad = int((width % 1024) / 2)\n",
    "    tiles_y_unpad = int((height % 1024) / 2)\n",
    "    # read from 0+tiles_x_unpad/y_pad and max-tiles_x_unpad/ypad:\n",
    "    num_rows= ((width - tiles_x_unpad) - (0 + tiles_x_unpad)) / 1024\n",
    "    num_cols= ((height - tiles_y_unpad) - (0 + tiles_y_unpad)) / 1024\n",
    "    num_rows = int(num_rows)\n",
    "    num_cols = int(num_cols)\n",
    "    # tile to 1024 x 1024\n",
    "    for row_idx in range(num_rows): # 0~num_rows-1\n",
    "        for col_idx in range(num_cols): # 0~num_cols-1\n",
    "            xcoord= tiles_x_unpad + 1024 * row_idx\n",
    "            ycoord= tiles_y_unpad + 1024 * col_idx\n",
    "            try:\n",
    "                heimage = slide.read_region(location=(xcoord,ycoord),level=target_level,size=(1024,1024))\n",
    "            except:\n",
    "                print(\"Corrupted Data, cannot tile image for coordinates {} {}\".format(xcoord,ycoord))\n",
    "                continue\n",
    "            heimage = np.array(heimage)\n",
    "            imgidx = row_idx * num_cols + (col_idx + 1)\n",
    "            imgidx = f\"{imgidx:04d}\"\n",
    "            imgcoord = str(xcoord) + \"_\" + str(ycoord) + \"xy\"\n",
    "            imgname = imgcoord + imgidx + \".png\"\n",
    "            tile_save_src = os.path.join(save_src, imgname)\n",
    "            Image.fromarray(heimage).save(tile_save_src)"
   ],
   "metadata": {
    "collapsed": false,
    "ExecuteTime": {
     "start_time": "2023-05-03T08:38:16.257565Z",
     "end_time": "2023-05-03T08:38:16.273193Z"
    }
   }
  },
  {
   "cell_type": "code",
   "execution_count": 16,
   "outputs": [
    {
     "name": "stderr",
     "output_type": "stream",
     "text": [
      "WSI Processed: 100%|\u001B[31m██████████\u001B[0m| 4/4 [00:00<?, ?it/s]\n"
     ]
    },
    {
     "name": "stdout",
     "output_type": "stream",
     "text": [
      "time it took to tile all US images: -3.1104557132720947 hours\n"
     ]
    }
   ],
   "source": [
    "# for HE:\n",
    "import time\n",
    "OPENSLIDE_PATH = r\"C:\\Users\\labuser1\\Downloads\\openslide-win64-20230414\\bin\" # this will change\n",
    "if hasattr(os, 'add_dll_directory'):\n",
    "    # Python >= 3.8 on Windows\n",
    "    with os.add_dll_directory(OPENSLIDE_PATH):\n",
    "        import openslide\n",
    "else:\n",
    "    import openslide\n",
    "start = time.time()\n",
    "pool = ProcessPool(nodes=num_nodes) #pathos.helpers.cpu_count()\n",
    "results = []\n",
    "\n",
    "for idx, src in tqdm(enumerate(HE_desired_src), total=len(HE_desired_src), colour='red', desc='WSI Processed'):\n",
    "    OPENSLIDE_PATH = r\"C:\\Users\\labuser1\\Downloads\\openslide-win64-20230414\\bin\" # this will change\n",
    "    if hasattr(os, 'add_dll_directory'):\n",
    "        # Python >= 3.8 on Windows\n",
    "        with os.add_dll_directory(OPENSLIDE_PATH):\n",
    "            import openslide\n",
    "    else:\n",
    "        import openslide\n",
    "    wsi_name = HE_desired_src[idx].split('HE')[1].split('\\\\')[1].split('.ndpi')[0]\n",
    "    save_src = os.path.join(HE_dst_src, wsi_name)\n",
    "    results.append(pool.apipe(tile_wsi, src, wsi_name, save_src))\n",
    "\n",
    "# Get the results\n",
    "for result in results:\n",
    "    import os\n",
    "    if hasattr(os, 'add_dll_directory'):\n",
    "    # Python >= 3.8 on Windows\n",
    "        with os.add_dll_directory(OPENSLIDE_PATH):\n",
    "            import openslide\n",
    "    else:\n",
    "        import openslide\n",
    "    result.get()\n",
    "\n",
    "# Close the process pool\n",
    "pool.close()\n",
    "end = time.time()\n",
    "print(\"time it took to tile all US images: {} hours\".format((end-start)/3600))"
   ],
   "metadata": {
    "collapsed": false,
    "ExecuteTime": {
     "start_time": "2023-05-03T08:38:17.172523Z",
     "end_time": "2023-05-03T11:44:54.876097Z"
    }
   }
  },
  {
   "cell_type": "markdown",
   "source": [
    "### Still some corrupted images with openslide, maybe try tiling with no parallel processing? For HE (only unfinished corrupted images during parallel processing:)\n"
   ],
   "metadata": {
    "collapsed": false
   }
  },
  {
   "cell_type": "code",
   "execution_count": 1,
   "outputs": [
    {
     "data": {
      "text/plain": "['\\\\\\\\shelter\\\\Kyu\\\\unstain2stain\\\\unstain2stain_wsi\\\\HE\\\\OTS_14832_7_he.ndpi',\n '\\\\\\\\shelter\\\\Kyu\\\\unstain2stain\\\\unstain2stain_wsi\\\\HE\\\\OTS_14832_4_he.ndpi',\n '\\\\\\\\shelter\\\\Kyu\\\\unstain2stain\\\\unstain2stain_wsi\\\\HE\\\\OTS_14832_3_he.ndpi',\n '\\\\\\\\shelter\\\\Kyu\\\\unstain2stain\\\\unstain2stain_wsi\\\\HE\\\\OTS_14684_4_he.ndpi']"
     },
     "execution_count": 1,
     "metadata": {},
     "output_type": "execute_result"
    }
   ],
   "source": [
    "import numpy as np\n",
    "from PIL import Image\n",
    "import math\n",
    "import os\n",
    "import pandas as pd\n",
    "from tqdm import tqdm\n",
    "\n",
    "OPENSLIDE_PATH = r\"C:\\Users\\labuser1\\Downloads\\openslide-win64-20230414\\bin\"  # this will change\n",
    "if hasattr(os, 'add_dll_directory'):\n",
    "    # Python >= 3.8 on Windows\n",
    "    with os.add_dll_directory(OPENSLIDE_PATH):\n",
    "        import openslide\n",
    "else:\n",
    "    import openslide\n",
    "# First get list of all deparafinized and student_score >2 and CLUE:\n",
    "all_df_src = r'\\\\shelter\\Kyu\\unstain2stain\\unstain2stain_wsi\\wsi_list_230314.xlsx'\n",
    "all_df = pd.read_excel(all_df_src)\n",
    "desired_df_name = all_df[all_df.scan_batch == 3]  # CLUE\n",
    "desired_df_name1 = all_df[all_df.scan_batch == 4]  # CLUE\n",
    "desired_name = list(desired_df_name.wsi_name)\n",
    "desired_name1 = list(desired_df_name1.wsi_name)\n",
    "desired_names = desired_name + desired_name1\n",
    "he_desired_names = [x for x in desired_names if x[-3:] == \"_he\"]\n",
    "he_desired_names_src = [x + \".ndpi\" for x in he_desired_names]\n",
    "us_desired_names = [x for x in desired_names if not x[-3:] == \"_he\"]\n",
    "us_desired_names_src = [x + \".ndpi\" for x in us_desired_names]\n",
    "\n",
    "HE_dst_src = r'\\\\shelter\\Kyu\\unstain2stain\\tiles\\unregistered_tiles\\HE'\n",
    "HE_ndpi_src = r'\\\\shelter\\Kyu\\unstain2stain\\unstain2stain_wsi\\HE'\n",
    "HE_desired_src = [os.path.join(HE_ndpi_src, x) for x in he_desired_names_src]\n",
    "HE_desired_src\n",
    "# code to select only the US_desired_src of the ones that were somehow not generated properly:\n",
    "# Unregistered tiles:\n",
    "# Problems with, so retile:\n",
    "# HE: OTS_14684_4_he, OTS_14832_3_he, OTS_14832_4_he, OTS_14832_7_he\n",
    "# US: OTS_14832_2, OTS_14832_3, OTS_14832_4,  all the way to 16.\n",
    "tmp = []\n",
    "tmp.append(HE_desired_src[15])\n",
    "tmp.append(HE_desired_src[12])\n",
    "tmp.append(HE_desired_src[11])\n",
    "tmp.append(HE_desired_src[3])\n",
    "HE_desired_src = tmp\n",
    "HE_desired_src"
   ],
   "metadata": {
    "collapsed": false,
    "ExecuteTime": {
     "start_time": "2023-05-03T12:12:30.079161Z",
     "end_time": "2023-05-03T12:12:30.617092Z"
    }
   }
  },
  {
   "cell_type": "code",
   "execution_count": null,
   "outputs": [
    {
     "name": "stderr",
     "output_type": "stream",
     "text": [
      "WSI Processed:   0%|\u001B[31m          \u001B[0m| 0/4 [00:00<?, ?it/s]"
     ]
    },
    {
     "name": "stdout",
     "output_type": "stream",
     "text": [
      "num rows is 135\n",
      "num cols is 77\n"
     ]
    },
    {
     "name": "stderr",
     "output_type": "stream",
     "text": [
      "\n",
      "numrows:   0%|\u001B[31m          \u001B[0m| 0/135 [00:00<?, ?it/s]\u001B[A\n",
      "\n",
      "numcols:   0%|\u001B[31m          \u001B[0m| 0/77 [00:00<?, ?it/s]\u001B[A\u001B[A\n",
      "\n",
      "numcols:   1%|\u001B[31m▏         \u001B[0m| 1/77 [00:01<02:11,  1.73s/it]\u001B[A\u001B[A\n",
      "\n",
      "numcols:   3%|\u001B[31m▎         \u001B[0m| 2/77 [00:02<01:42,  1.36s/it]\u001B[A\u001B[A\n",
      "\n",
      "numcols:   4%|\u001B[31m▍         \u001B[0m| 3/77 [00:03<01:30,  1.23s/it]\u001B[A\u001B[A\n",
      "\n",
      "numcols:   5%|\u001B[31m▌         \u001B[0m| 4/77 [00:04<01:24,  1.16s/it]\u001B[A\u001B[A\n",
      "\n",
      "numcols:   6%|\u001B[31m▋         \u001B[0m| 5/77 [00:06<01:35,  1.32s/it]\u001B[A\u001B[A\n",
      "\n",
      "numcols:   8%|\u001B[31m▊         \u001B[0m| 6/77 [00:07<01:27,  1.23s/it]\u001B[A\u001B[A\n",
      "\n",
      "numcols:   9%|\u001B[31m▉         \u001B[0m| 7/77 [00:08<01:22,  1.18s/it]\u001B[A\u001B[A\n",
      "\n",
      "numcols:  10%|\u001B[31m█         \u001B[0m| 8/77 [00:09<01:18,  1.14s/it]\u001B[A\u001B[A\n",
      "\n",
      "numcols:  12%|\u001B[31m█▏        \u001B[0m| 9/77 [00:10<01:15,  1.12s/it]\u001B[A\u001B[A\n",
      "\n",
      "numcols:  13%|\u001B[31m█▎        \u001B[0m| 10/77 [00:12<01:21,  1.21s/it]\u001B[A\u001B[A\n",
      "\n",
      "numcols:  14%|\u001B[31m█▍        \u001B[0m| 11/77 [00:13<01:17,  1.17s/it]\u001B[A\u001B[A\n",
      "\n",
      "numcols:  16%|\u001B[31m█▌        \u001B[0m| 12/77 [00:14<01:13,  1.14s/it]\u001B[A\u001B[A\n",
      "\n",
      "numcols:  17%|\u001B[31m█▋        \u001B[0m| 13/77 [00:15<01:12,  1.13s/it]\u001B[A\u001B[A\n",
      "\n",
      "numcols:  18%|\u001B[31m█▊        \u001B[0m| 14/77 [00:16<01:09,  1.11s/it]\u001B[A\u001B[A\n",
      "\n",
      "numcols:  19%|\u001B[31m█▉        \u001B[0m| 15/77 [00:17<01:14,  1.20s/it]\u001B[A\u001B[A\n",
      "\n",
      "numcols:  21%|\u001B[31m██        \u001B[0m| 16/77 [00:18<01:05,  1.08s/it]\u001B[A\u001B[A\n",
      "\n",
      "numcols:  22%|\u001B[31m██▏       \u001B[0m| 17/77 [00:20<01:11,  1.19s/it]\u001B[A\u001B[A\n",
      "\n",
      "numcols:  23%|\u001B[31m██▎       \u001B[0m| 18/77 [00:22<01:23,  1.42s/it]\u001B[A\u001B[A\n",
      "\n",
      "numcols:  25%|\u001B[31m██▍       \u001B[0m| 19/77 [00:23<01:27,  1.51s/it]\u001B[A\u001B[A\n",
      "\n",
      "numcols:  26%|\u001B[31m██▌       \u001B[0m| 20/77 [00:25<01:33,  1.64s/it]\u001B[A\u001B[A\n",
      "\n",
      "numcols:  27%|\u001B[31m██▋       \u001B[0m| 21/77 [00:27<01:27,  1.57s/it]\u001B[A\u001B[A\n",
      "\n",
      "numcols:  29%|\u001B[31m██▊       \u001B[0m| 22/77 [00:28<01:28,  1.62s/it]\u001B[A\u001B[A\n",
      "\n",
      "numcols:  30%|\u001B[31m██▉       \u001B[0m| 23/77 [00:30<01:19,  1.47s/it]\u001B[A\u001B[A\n",
      "\n",
      "numcols:  31%|\u001B[31m███       \u001B[0m| 24/77 [00:31<01:11,  1.35s/it]\u001B[A\u001B[A\n",
      "\n",
      "numcols:  32%|\u001B[31m███▏      \u001B[0m| 25/77 [00:32<01:05,  1.27s/it]\u001B[A\u001B[A\n",
      "\n",
      "numcols:  34%|\u001B[31m███▍      \u001B[0m| 26/77 [00:33<01:01,  1.21s/it]\u001B[A\u001B[A\n",
      "\n",
      "numcols:  35%|\u001B[31m███▌      \u001B[0m| 27/77 [00:34<00:59,  1.18s/it]\u001B[A\u001B[A\n",
      "\n",
      "numcols:  36%|\u001B[31m███▋      \u001B[0m| 28/77 [00:35<01:01,  1.26s/it]\u001B[A\u001B[A\n",
      "\n",
      "numcols:  38%|\u001B[31m███▊      \u001B[0m| 29/77 [00:36<00:57,  1.21s/it]\u001B[A\u001B[A\n",
      "\n",
      "numcols:  39%|\u001B[31m███▉      \u001B[0m| 30/77 [00:38<01:03,  1.34s/it]\u001B[A\u001B[A\n",
      "\n",
      "numcols:  40%|\u001B[31m████      \u001B[0m| 31/77 [00:41<01:18,  1.70s/it]\u001B[A\u001B[A\n",
      "\n",
      "numcols:  42%|\u001B[31m████▏     \u001B[0m| 32/77 [00:45<01:57,  2.62s/it]\u001B[A\u001B[A\n",
      "\n",
      "numcols:  43%|\u001B[31m████▎     \u001B[0m| 33/77 [00:51<02:31,  3.44s/it]\u001B[A\u001B[A\n",
      "\n",
      "numcols:  44%|\u001B[31m████▍     \u001B[0m| 34/77 [00:54<02:22,  3.31s/it]\u001B[A\u001B[A\n",
      "\n",
      "numcols:  45%|\u001B[31m████▌     \u001B[0m| 35/77 [00:58<02:35,  3.71s/it]\u001B[A\u001B[A\n",
      "\n",
      "numcols:  47%|\u001B[31m████▋     \u001B[0m| 36/77 [01:03<02:43,  3.98s/it]\u001B[A\u001B[A\n",
      "\n",
      "numcols:  48%|\u001B[31m████▊     \u001B[0m| 37/77 [01:09<03:02,  4.57s/it]\u001B[A\u001B[A\n",
      "\n",
      "numcols:  49%|\u001B[31m████▉     \u001B[0m| 38/77 [01:13<02:46,  4.27s/it]\u001B[A\u001B[A\n",
      "\n",
      "numcols:  51%|\u001B[31m█████     \u001B[0m| 39/77 [01:15<02:22,  3.76s/it]\u001B[A\u001B[A\n",
      "\n",
      "numcols:  52%|\u001B[31m█████▏    \u001B[0m| 40/77 [01:17<01:58,  3.21s/it]\u001B[A\u001B[A\n",
      "\n",
      "numcols:  53%|\u001B[31m█████▎    \u001B[0m| 41/77 [01:19<01:40,  2.80s/it]\u001B[A\u001B[A\n",
      "\n",
      "numcols:  55%|\u001B[31m█████▍    \u001B[0m| 42/77 [01:20<01:20,  2.29s/it]\u001B[A\u001B[A\n",
      "\n",
      "numcols:  56%|\u001B[31m█████▌    \u001B[0m| 43/77 [01:22<01:11,  2.11s/it]\u001B[A\u001B[A\n",
      "\n",
      "numcols:  57%|\u001B[31m█████▋    \u001B[0m| 44/77 [01:23<01:05,  2.00s/it]\u001B[A\u001B[A\n",
      "\n",
      "numcols:  58%|\u001B[31m█████▊    \u001B[0m| 45/77 [01:25<00:58,  1.82s/it]\u001B[A\u001B[A\n",
      "\n",
      "numcols:  60%|\u001B[31m█████▉    \u001B[0m| 46/77 [01:27<00:55,  1.80s/it]\u001B[A\u001B[A\n",
      "\n",
      "numcols:  61%|\u001B[31m██████    \u001B[0m| 47/77 [01:28<00:50,  1.69s/it]\u001B[A\u001B[A\n",
      "\n",
      "numcols:  62%|\u001B[31m██████▏   \u001B[0m| 48/77 [01:30<00:49,  1.71s/it]\u001B[A\u001B[A\n",
      "\n",
      "numcols:  64%|\u001B[31m██████▎   \u001B[0m| 49/77 [01:31<00:45,  1.63s/it]\u001B[A\u001B[A\n",
      "\n",
      "numcols:  65%|\u001B[31m██████▍   \u001B[0m| 50/77 [01:33<00:42,  1.57s/it]\u001B[A\u001B[A\n",
      "\n",
      "numcols:  66%|\u001B[31m██████▌   \u001B[0m| 51/77 [01:34<00:39,  1.53s/it]\u001B[A\u001B[A\n",
      "\n",
      "numcols:  68%|\u001B[31m██████▊   \u001B[0m| 52/77 [01:36<00:41,  1.66s/it]\u001B[A\u001B[A\n",
      "\n",
      "numcols:  69%|\u001B[31m██████▉   \u001B[0m| 53/77 [01:37<00:35,  1.48s/it]\u001B[A\u001B[A\n",
      "\n",
      "numcols:  70%|\u001B[31m███████   \u001B[0m| 54/77 [01:39<00:35,  1.56s/it]\u001B[A\u001B[A\n",
      "\n",
      "numcols:  71%|\u001B[31m███████▏  \u001B[0m| 55/77 [01:40<00:33,  1.53s/it]\u001B[A\u001B[A\n",
      "\n",
      "numcols:  73%|\u001B[31m███████▎  \u001B[0m| 56/77 [01:42<00:31,  1.50s/it]\u001B[A\u001B[A\n",
      "\n",
      "numcols:  74%|\u001B[31m███████▍  \u001B[0m| 57/77 [01:43<00:29,  1.48s/it]\u001B[A\u001B[A\n",
      "\n",
      "numcols:  75%|\u001B[31m███████▌  \u001B[0m| 58/77 [01:45<00:29,  1.57s/it]\u001B[A\u001B[A\n",
      "\n",
      "numcols:  77%|\u001B[31m███████▋  \u001B[0m| 59/77 [01:46<00:27,  1.53s/it]\u001B[A\u001B[A\n",
      "\n",
      "numcols:  78%|\u001B[31m███████▊  \u001B[0m| 60/77 [01:48<00:25,  1.50s/it]\u001B[A\u001B[A\n",
      "\n",
      "numcols:  79%|\u001B[31m███████▉  \u001B[0m| 61/77 [01:49<00:23,  1.48s/it]\u001B[A\u001B[A\n",
      "\n",
      "numcols:  81%|\u001B[31m████████  \u001B[0m| 62/77 [01:51<00:21,  1.46s/it]\u001B[A\u001B[A\n",
      "\n",
      "numcols:  82%|\u001B[31m████████▏ \u001B[0m| 63/77 [01:52<00:20,  1.44s/it]\u001B[A\u001B[A\n",
      "\n",
      "numcols:  83%|\u001B[31m████████▎ \u001B[0m| 64/77 [01:53<00:18,  1.43s/it]\u001B[A\u001B[A\n",
      "\n",
      "numcols:  84%|\u001B[31m████████▍ \u001B[0m| 65/77 [01:55<00:15,  1.33s/it]\u001B[A\u001B[A\n",
      "\n",
      "numcols:  86%|\u001B[31m████████▌ \u001B[0m| 66/77 [01:56<00:15,  1.37s/it]\u001B[A\u001B[A\n",
      "\n",
      "numcols:  87%|\u001B[31m████████▋ \u001B[0m| 67/77 [01:57<00:13,  1.39s/it]\u001B[A\u001B[A\n",
      "\n",
      "numcols:  88%|\u001B[31m████████▊ \u001B[0m| 68/77 [01:59<00:13,  1.49s/it]\u001B[A\u001B[A\n",
      "\n",
      "numcols:  90%|\u001B[31m████████▉ \u001B[0m| 69/77 [02:01<00:11,  1.47s/it]\u001B[A\u001B[A\n",
      "\n",
      "numcols:  91%|\u001B[31m█████████ \u001B[0m| 70/77 [02:02<00:10,  1.46s/it]\u001B[A\u001B[A\n",
      "\n",
      "numcols:  92%|\u001B[31m█████████▏\u001B[0m| 71/77 [02:04<00:09,  1.54s/it]\u001B[A\u001B[A\n",
      "\n",
      "numcols:  94%|\u001B[31m█████████▎\u001B[0m| 72/77 [02:06<00:07,  1.60s/it]\u001B[A\u001B[A\n",
      "\n",
      "numcols:  95%|\u001B[31m█████████▍\u001B[0m| 73/77 [02:08<00:06,  1.74s/it]\u001B[A\u001B[A\n",
      "\n",
      "numcols:  96%|\u001B[31m█████████▌\u001B[0m| 74/77 [02:09<00:04,  1.65s/it]\u001B[A\u001B[A\n",
      "\n",
      "numcols:  97%|\u001B[31m█████████▋\u001B[0m| 75/77 [02:10<00:03,  1.58s/it]\u001B[A\u001B[A\n",
      "\n",
      "numcols:  99%|\u001B[31m█████████▊\u001B[0m| 76/77 [02:12<00:01,  1.54s/it]\u001B[A\u001B[A\n",
      "\n",
      "numcols: 100%|\u001B[31m██████████\u001B[0m| 77/77 [02:14<00:00,  1.74s/it]\u001B[A\u001B[A\n",
      "\n",
      "numrows:   1%|\u001B[31m          \u001B[0m| 1/135 [02:14<4:59:30, 134.11s/it]\u001B[A\n",
      "\n",
      "numcols:   0%|\u001B[31m          \u001B[0m| 0/77 [00:00<?, ?it/s]\u001B[A\u001B[A\n",
      "\n",
      "numcols:   1%|\u001B[31m▏         \u001B[0m| 1/77 [00:01<01:58,  1.56s/it]\u001B[A\u001B[A\n",
      "\n",
      "numcols:   3%|\u001B[31m▎         \u001B[0m| 2/77 [00:03<01:57,  1.57s/it]\u001B[A\u001B[A\n",
      "\n",
      "numcols:   4%|\u001B[31m▍         \u001B[0m| 3/77 [00:04<01:46,  1.44s/it]\u001B[A\u001B[A\n",
      "\n",
      "numcols:   5%|\u001B[31m▌         \u001B[0m| 4/77 [00:05<01:39,  1.37s/it]\u001B[A\u001B[A\n",
      "\n",
      "numcols:   6%|\u001B[31m▋         \u001B[0m| 5/77 [00:06<01:28,  1.23s/it]\u001B[A\u001B[A\n",
      "\n",
      "numcols:   8%|\u001B[31m▊         \u001B[0m| 6/77 [00:07<01:13,  1.03s/it]\u001B[A\u001B[A\n",
      "\n",
      "numcols:   9%|\u001B[31m▉         \u001B[0m| 7/77 [00:08<01:24,  1.21s/it]\u001B[A\u001B[A\n",
      "\n",
      "numcols:  10%|\u001B[31m█         \u001B[0m| 8/77 [00:10<01:24,  1.23s/it]\u001B[A\u001B[A\n",
      "\n",
      "numcols:  12%|\u001B[31m█▏        \u001B[0m| 9/77 [00:11<01:30,  1.33s/it]\u001B[A\u001B[A\n",
      "\n",
      "numcols:  13%|\u001B[31m█▎        \u001B[0m| 10/77 [00:13<01:34,  1.41s/it]\u001B[A\u001B[A\n",
      "\n",
      "numcols:  14%|\u001B[31m█▍        \u001B[0m| 11/77 [00:14<01:30,  1.37s/it]\u001B[A\u001B[A\n",
      "\n",
      "numcols:  16%|\u001B[31m█▌        \u001B[0m| 12/77 [00:15<01:27,  1.35s/it]\u001B[A\u001B[A\n",
      "\n",
      "numcols:  17%|\u001B[31m█▋        \u001B[0m| 13/77 [00:17<01:30,  1.42s/it]\u001B[A\u001B[A\n",
      "\n",
      "numcols:  18%|\u001B[31m█▊        \u001B[0m| 14/77 [00:19<01:32,  1.46s/it]\u001B[A\u001B[A\n",
      "\n",
      "numcols:  19%|\u001B[31m█▉        \u001B[0m| 15/77 [00:20<01:32,  1.49s/it]\u001B[A\u001B[A\n",
      "\n",
      "numcols:  21%|\u001B[31m██        \u001B[0m| 16/77 [00:21<01:20,  1.32s/it]\u001B[A\u001B[A\n",
      "\n",
      "numcols:  22%|\u001B[31m██▏       \u001B[0m| 17/77 [00:23<01:23,  1.40s/it]\u001B[A\u001B[A\n",
      "\n",
      "numcols:  23%|\u001B[31m██▎       \u001B[0m| 18/77 [00:24<01:25,  1.45s/it]\u001B[A\u001B[A\n",
      "\n",
      "numcols:  25%|\u001B[31m██▍       \u001B[0m| 19/77 [00:25<01:21,  1.40s/it]\u001B[A\u001B[A\n",
      "\n",
      "numcols:  26%|\u001B[31m██▌       \u001B[0m| 20/77 [00:27<01:22,  1.46s/it]\u001B[A\u001B[A\n",
      "\n",
      "numcols:  27%|\u001B[31m██▋       \u001B[0m| 21/77 [00:28<01:13,  1.31s/it]\u001B[A\u001B[A\n",
      "\n",
      "numcols:  29%|\u001B[31m██▊       \u001B[0m| 22/77 [00:30<01:16,  1.40s/it]\u001B[A\u001B[A\n",
      "\n",
      "numcols:  30%|\u001B[31m██▉       \u001B[0m| 23/77 [00:31<01:13,  1.36s/it]\u001B[A\u001B[A\n",
      "\n",
      "numcols:  31%|\u001B[31m███       \u001B[0m| 24/77 [00:32<01:11,  1.35s/it]\u001B[A\u001B[A\n",
      "\n",
      "numcols:  32%|\u001B[31m███▏      \u001B[0m| 25/77 [00:33<01:03,  1.21s/it]\u001B[A\u001B[A\n",
      "\n",
      "numcols:  34%|\u001B[31m███▍      \u001B[0m| 26/77 [00:35<01:07,  1.32s/it]\u001B[A\u001B[A\n",
      "\n",
      "numcols:  35%|\u001B[31m███▌      \u001B[0m| 27/77 [00:36<01:10,  1.40s/it]\u001B[A\u001B[A\n",
      "\n",
      "numcols:  36%|\u001B[31m███▋      \u001B[0m| 28/77 [00:38<01:11,  1.46s/it]\u001B[A\u001B[A\n",
      "\n",
      "numcols:  38%|\u001B[31m███▊      \u001B[0m| 29/77 [00:39<01:11,  1.49s/it]\u001B[A\u001B[A\n",
      "\n",
      "numcols:  39%|\u001B[31m███▉      \u001B[0m| 30/77 [00:41<01:11,  1.52s/it]\u001B[A\u001B[A\n",
      "\n",
      "numcols:  40%|\u001B[31m████      \u001B[0m| 31/77 [00:42<01:02,  1.35s/it]\u001B[A\u001B[A\n",
      "\n",
      "numcols:  42%|\u001B[31m████▏     \u001B[0m| 32/77 [00:44<01:04,  1.44s/it]\u001B[A\u001B[A\n",
      "\n",
      "numcols:  43%|\u001B[31m████▎     \u001B[0m| 33/77 [00:45<01:01,  1.39s/it]\u001B[A\u001B[A\n",
      "\n",
      "numcols:  44%|\u001B[31m████▍     \u001B[0m| 34/77 [00:46<01:02,  1.44s/it]\u001B[A\u001B[A\n",
      "\n",
      "numcols:  45%|\u001B[31m████▌     \u001B[0m| 35/77 [00:48<01:02,  1.48s/it]\u001B[A\u001B[A\n",
      "\n",
      "numcols:  47%|\u001B[31m████▋     \u001B[0m| 36/77 [00:50<01:01,  1.51s/it]\u001B[A\u001B[A\n",
      "\n",
      "numcols:  48%|\u001B[31m████▊     \u001B[0m| 37/77 [00:51<01:01,  1.53s/it]\u001B[A\u001B[A\n",
      "\n",
      "numcols:  49%|\u001B[31m████▉     \u001B[0m| 38/77 [00:52<00:53,  1.36s/it]\u001B[A\u001B[A\n",
      "\n",
      "numcols:  51%|\u001B[31m█████     \u001B[0m| 39/77 [00:54<00:54,  1.43s/it]\u001B[A\u001B[A\n",
      "\n",
      "numcols:  52%|\u001B[31m█████▏    \u001B[0m| 40/77 [00:55<00:47,  1.28s/it]\u001B[A\u001B[A\n",
      "\n",
      "numcols:  53%|\u001B[31m█████▎    \u001B[0m| 41/77 [00:56<00:49,  1.38s/it]\u001B[A\u001B[A\n",
      "\n",
      "numcols:  55%|\u001B[31m█████▍    \u001B[0m| 42/77 [00:58<00:50,  1.44s/it]\u001B[A\u001B[A\n",
      "\n",
      "numcols:  56%|\u001B[31m█████▌    \u001B[0m| 43/77 [00:59<00:50,  1.49s/it]\u001B[A\u001B[A\n",
      "\n",
      "numcols:  57%|\u001B[31m█████▋    \u001B[0m| 44/77 [01:01<00:46,  1.42s/it]\u001B[A\u001B[A\n",
      "\n",
      "numcols:  58%|\u001B[31m█████▊    \u001B[0m| 45/77 [01:02<00:44,  1.38s/it]\u001B[A\u001B[A\n",
      "\n",
      "numcols:  60%|\u001B[31m█████▉    \u001B[0m| 46/77 [01:03<00:41,  1.34s/it]\u001B[A\u001B[A\n",
      "\n",
      "numcols:  61%|\u001B[31m██████    \u001B[0m| 47/77 [01:05<00:39,  1.33s/it]\u001B[A\u001B[A\n",
      "\n",
      "numcols:  62%|\u001B[31m██████▏   \u001B[0m| 48/77 [01:06<00:40,  1.40s/it]\u001B[A\u001B[A"
     ]
    }
   ],
   "source": [
    "for idx, src in tqdm(enumerate(HE_desired_src),total=len(HE_desired_src),colour='red',desc='WSI Processed'):\n",
    "    wsi_name = src.split('HE')[1].split('\\\\')[1].split('.ndpi')[0]\n",
    "    save_src = os.path.join(HE_dst_src,wsi_name)\n",
    "    if not os.path.exists(save_src):\n",
    "        os.makedirs(save_src)\n",
    "    slide = openslide.open_slide(src)\n",
    "    target_level = 0\n",
    "    target_dim = slide.level_dimensions[target_level]\n",
    "    width, height = target_dim\n",
    "    # unpad since it's white background anyways\n",
    "    tiles_x_unpad = int((width % 1024) / 2)\n",
    "    tiles_y_unpad = int((height % 1024) / 2)\n",
    "    # read from 0+tiles_x_unpad/y_pad and max-tiles_x_unpad/ypad:\n",
    "    num_rows= ((width - tiles_x_unpad) - tiles_x_unpad) / 1024\n",
    "    num_cols= ((height - tiles_y_unpad) - tiles_y_unpad) / 1024\n",
    "    num_rows = int(num_rows)\n",
    "    num_cols = int(num_cols)\n",
    "    print(\"num rows is {}\".format(num_rows))\n",
    "    print(\"num cols is {}\".format(num_cols))\n",
    "    # tile to 1024 x 1024\n",
    "    for row_idx in tqdm(range(num_rows),colour='red',desc='numrows'): # 0~num_rows-1\n",
    "        for col_idx in tqdm(range(num_cols),colour='red',desc='numcols'): # 0~num_cols-1\n",
    "            xcoord= tiles_x_unpad + 1024 * row_idx\n",
    "            ycoord= tiles_y_unpad + 1024 * col_idx\n",
    "            heimage = slide.read_region(location=(xcoord,ycoord),level=target_level,size=(1024,1024))\n",
    "            heimage = np.array(heimage)\n",
    "            imgidx = row_idx * num_cols + (col_idx + 1)\n",
    "            imgidx = f\"{imgidx:04d}\"\n",
    "            imgcoord = str(xcoord) + \"_\" + str(ycoord) + \"xy\"\n",
    "            imgname = imgcoord + imgidx + \".png\"\n",
    "            tile_save_src = os.path.join(save_src,imgname)\n",
    "            Image.fromarray(heimage).save(tile_save_src)"
   ],
   "metadata": {
    "collapsed": false,
    "pycharm": {
     "is_executing": true
    }
   }
  },
  {
   "cell_type": "markdown",
   "source": [
    "### Still some corrupted images with openslide, maybe try tiling with no parallel processing? For HE (only unfinished corrupted images during parallel processing:)\n",
    "### For US:"
   ],
   "metadata": {
    "collapsed": false
   }
  },
  {
   "cell_type": "code",
   "execution_count": null,
   "outputs": [],
   "source": [
    "import numpy as np\n",
    "from PIL import Image\n",
    "import math\n",
    "import os\n",
    "import pandas as pd\n",
    "from tqdm import tqdm\n",
    "OPENSLIDE_PATH = r\"C:\\Users\\labuser1\\Downloads\\openslide-win64-20230414\\bin\"\n",
    "if hasattr(os, 'add_dll_directory'):\n",
    "    # Python >= 3.8 on Windows\n",
    "    with os.add_dll_directory(OPENSLIDE_PATH):\n",
    "        import openslide\n",
    "else:\n",
    "    import openslide\n",
    "\n",
    "# First get list of all deparafinized and student_score >2 and CLUE:\n",
    "all_df_src = r'\\\\shelter\\Kyu\\unstain2stain\\unstain2stain_wsi\\wsi_list_230314.xlsx'\n",
    "all_df = pd.read_excel(all_df_src)\n",
    "desired_df_name = all_df[all_df.scan_batch == 3]  # CLUE\n",
    "desired_df_name1 = all_df[all_df.scan_batch == 4]  # CLUE\n",
    "desired_name = list(desired_df_name.wsi_name)\n",
    "desired_name1 = list(desired_df_name1.wsi_name)\n",
    "desired_names = desired_name + desired_name1\n",
    "us_desired_names = [x for x in desired_names if not x[-3:] == \"_he\"]\n",
    "us_desired_names_src = [x + \".ndpi\" for x in us_desired_names]\n",
    "\n",
    "US_dst_src = r'\\\\shelter\\Kyu\\unstain2stain\\tiles\\unregistered_tiles\\US'\n",
    "US_ndpi_src = r'\\\\shelter\\Kyu\\unstain2stain\\unstain2stain_wsi\\Unstained'\n",
    "US_desired_src = [os.path.join(US_ndpi_src, x) for x in us_desired_names_src]\n",
    "US_desired_src\n",
    "# code to select only the US_desired_src of the ones that were somehow not generated properly:\n",
    "# Unregistered tiles:\n",
    "# Problems with, so retile:\n",
    "# HE: OTS_14684_4_he, OTS_14832_3_he, OTS_14832_4_he, OTS_14832_7_he\n",
    "# US: OTS_14832_2, OTS_14832_3, OTS_14832_4,  all the way to 16.\n",
    "US_desired_src = US_desired_src[-15:]\n",
    "US_desired_src"
   ],
   "metadata": {
    "collapsed": false
   }
  },
  {
   "cell_type": "code",
   "execution_count": null,
   "outputs": [],
   "source": [
    "for idx, src in tqdm(enumerate(US_desired_src),total=len(US_desired_src),colour='red',desc='WSI Processed'):\n",
    "    wsi_name = src.split('US')[1].split('\\\\')[1].split('.ndpi')[0]\n",
    "    save_src = os.path.join(US_dst_src,wsi_name)\n",
    "    if not os.path.exists(save_src):\n",
    "        os.makedirs(save_src)\n",
    "    slide = openslide.open_slide(src)\n",
    "    target_level = 0\n",
    "    target_dim = slide.level_dimensions[target_level]\n",
    "    width, height = target_dim\n",
    "    # unpad since it's white background anyways\n",
    "    tiles_x_unpad = int((width % 1024) / 2)\n",
    "    tiles_y_unpad = int((height % 1024) / 2)\n",
    "    # read from 0+tiles_x_unpad/y_pad and max-tiles_x_unpad/ypad:\n",
    "    num_rows= ((width - tiles_x_unpad) - tiles_x_unpad) / 1024\n",
    "    num_cols= ((height - tiles_y_unpad) - tiles_y_unpad) / 1024\n",
    "    num_rows = int(num_rows)\n",
    "    num_cols = int(num_cols)\n",
    "    print(\"num rows is {}\".format(num_rows))\n",
    "    print(\"num cols is {}\".format(num_cols))\n",
    "    # tile to 1024 x 1024\n",
    "    for row_idx in tqdm(range(num_rows),colour='red',desc='numrows'): # 0~num_rows-1\n",
    "        for col_idx in tqdm(range(num_cols),colour='red',desc='numcols'): # 0~num_cols-1\n",
    "            xcoord= tiles_x_unpad + 1024 * row_idx\n",
    "            ycoord= tiles_y_unpad + 1024 * col_idx\n",
    "            nsimage = slide.read_region(location=(xcoord,ycoord),level=target_level,size=(1024,1024))\n",
    "            nsimage = np.array(nsimage)\n",
    "            imgidx = row_idx * num_cols + (col_idx + 1)\n",
    "            imgidx = f\"{imgidx:04d}\"\n",
    "            imgcoord = str(xcoord) + \"_\" + str(ycoord) + \"xy\"\n",
    "            imgname = imgcoord + imgidx + \".png\"\n",
    "            tile_save_src = os.path.join(save_src,imgname)\n",
    "            Image.fromarray(nsimage).save(tile_save_src)"
   ],
   "metadata": {
    "collapsed": false
   }
  }
 ],
 "metadata": {
  "kernelspec": {
   "display_name": "Python 3",
   "language": "python",
   "name": "python3"
  },
  "language_info": {
   "codemirror_mode": {
    "name": "ipython",
    "version": 2
   },
   "file_extension": ".py",
   "mimetype": "text/x-python",
   "name": "python",
   "nbconvert_exporter": "python",
   "pygments_lexer": "ipython2",
   "version": "2.7.6"
  }
 },
 "nbformat": 4,
 "nbformat_minor": 0
}
