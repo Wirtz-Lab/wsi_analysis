{
 "cells": [
  {
   "cell_type": "markdown",
   "source": [
    "# Parse XML annotation file with X,Y coordinates and instance ID into a DataFrame"
   ],
   "metadata": {
    "collapsed": false,
    "pycharm": {
     "name": "#%% md\n"
    }
   }
  },
  {
   "cell_type": "code",
   "execution_count": 1,
   "outputs": [],
   "source": [
    "# def xml_to_df(xml_filepath):\n",
    "#\n",
    "#     tree = ET.parse(xml_filepath)\n",
    "#     root = tree.getroot()\n",
    "#     append_df = []\n",
    "#     for index, Annotation in enumerate(root.iter(\"Annotation\")):\n",
    "#         for Region in Annotation.iter('Region'):\n",
    "#             x = np.array([Vertex.get('X') for Vertex in Region.iter('Vertex')])\n",
    "#             y = np.array([Vertex.get('Y') for Vertex in Region.iter('Vertex')])\n",
    "#             id = np.array([int(Region.get('Id'))])\n",
    "#             classnames = index + 1\n",
    "#             coord_dict = {\"ClassNames\": [classnames], \"X\": [x], \"Y\": [y], \"ID\": [id]}\n",
    "#             df = pd.DataFrame(data = coord_dict)\n",
    "#             df.ID = df.ID.astype(int)\n",
    "#             append_df.append(df)\n",
    "#     coord_df = pd.concat(append_df).reset_index(drop=True)\n",
    "#     return(coord_df)"
   ],
   "metadata": {
    "collapsed": false,
    "pycharm": {
     "name": "#%%\n"
    }
   }
  },
  {
   "cell_type": "code",
   "execution_count": 2,
   "outputs": [],
   "source": [
    "# coord_df = xml_to_df(r'\\\\fatherserverdw\\kyuex\\clue images\\annotations\\roi\\2022-06-07 13.18.40.xml')\n",
    "# coord_df"
   ],
   "metadata": {
    "collapsed": false,
    "pycharm": {
     "name": "#%%\n"
    }
   }
  },
  {
   "cell_type": "markdown",
   "source": [
    "# Convert X,Y Coordinates to Binary Mask and Read and Resize Image (for ROI):"
   ],
   "metadata": {
    "collapsed": false,
    "pycharm": {
     "name": "#%% md\n"
    }
   }
  },
  {
   "cell_type": "markdown",
   "source": [],
   "metadata": {
    "collapsed": false,
    "pycharm": {
     "name": "#%% md\n"
    }
   }
  },
  {
   "cell_type": "code",
   "execution_count": 3,
   "outputs": [],
   "source": [
    "# import openslide\n",
    "# import os\n",
    "# os.environ[\"OPENCV_IO_MAX_IMAGE_PIXELS\"] = pow(2,40).__str__()\n",
    "\n",
    "# def df_to_image_mask(xml_filepath, ndpi_filepath,downsample_factor):\n",
    "#     coord_df = xml_to_df(xml_filepath)\n",
    "#     slide = openslide.open_slide(ndpi_filepath)\n",
    "#     rgb_dim = slide.dimensions\n",
    "#     print(\"Dimension of level 0 of the image is: \",rgb_dim)\n",
    "#     slide_level_dim = slide.level_dimensions\n",
    "#     num_levels = len(slide_level_dim)\n",
    "#     print(\"Number of levels in this image are:\",num_levels)\n",
    "#     factors = slide.level_downsamples\n",
    "#     print(\"Each level is downsampled by:\",factors)\n",
    "#     blank = np.zeros(rgb_dim, dtype = np.uint8) #white\n",
    "#     for idx, row in coord_df.iterrows():\n",
    "#         xx = row.X.astype('int')\n",
    "#         yy = row.Y.astype('int')\n",
    "#         xy = list(zip(xx,yy))\n",
    "#         contours = np.array(xy)\n",
    "#         mask = cv2.fillPoly(blank, pts=[contours.astype(int)], color=idx+125)\n",
    "#     target_level = slide.get_best_level_for_downsample(downsample_factor)\n",
    "#     target_dim = slide.level_dimensions[target_level]\n",
    "#     rsf = [x/y for x,y in zip(rgb_dim,target_dim)]\n",
    "#     image_resized = slide.read_region(location=(0,0),level=target_level,size=target_dim)\n",
    "#     mask_resized = cv2.resize(mask,[_//round(rsf[0]) for _ in mask.shape],interpolation=cv2.INTER_NEAREST)\n",
    "#     #cv2.imwrite(r\"\\\\fatherserverdw\\Kevin\\\\binarymask.jpg\",mask_resized) #save binary mask\n",
    "#     return image_resized,mask_resized"
   ],
   "metadata": {
    "collapsed": false,
    "pycharm": {
     "name": "#%%\n"
    }
   }
  },
  {
   "cell_type": "markdown",
   "source": [
    "# Cropping RGB Image with Mask (for ROI):"
   ],
   "metadata": {
    "collapsed": false,
    "pycharm": {
     "name": "#%% md\n"
    }
   }
  },
  {
   "cell_type": "code",
   "execution_count": 4,
   "outputs": [],
   "source": [
    "# image,mask = df_to_image_mask(r'\\\\fatherserverdw\\kyuex\\clue images\\annotations\\roi\\2022-06-07 13.18.40.xml',r'\\\\fatherserverdw\\kyuex\\clue images\\2022-06-07 13.18.40.ndpi',10)"
   ],
   "metadata": {
    "collapsed": false,
    "pycharm": {
     "name": "#%%\n"
    }
   }
  },
  {
   "cell_type": "code",
   "execution_count": 5,
   "outputs": [],
   "source": [
    "# def crop_final_mask(image,mask):\n",
    "#     imagearr = np.array(image)\n",
    "#     imagearr = imagearr[:,:,:3]\n",
    "#     maskarr = np.array(mask)\n",
    "#     maskrgb = np.repeat(maskarr[:,:,np.newaxis],3,axis=2)\n",
    "#     for tissueID in range(1,np.max(maskrgb[:])): #from first tissue id to end\n",
    "#         #masking\n",
    "#         masktmp = mask==tissueID #boolean\n",
    "#         masktmp = np.repeat(masktmp[:,:,np.newaxis],3,axis=2) #change shape to match shape of imagearr\n",
    "#         final_image = np.multiply(imagearr,masktmp)\n",
    "#         #crop\n",
    "#         [x_crop,y_crop] = np.where(final_image[:,:,0]>0)\n",
    "#         cropped_final_image = final_image[np.min(x_crop):np.max(x_crop),np.min(y_crop):np.max(y_crop)]\n",
    "#         cropped_final_image = cropped_final_image[:,:,::-1]\n",
    "#         return cropped_final_image"
   ],
   "metadata": {
    "collapsed": false,
    "pycharm": {
     "name": "#%%\n"
    }
   }
  },
  {
   "cell_type": "code",
   "execution_count": 6,
   "outputs": [],
   "source": [
    "# crop_final_mask(image,mask)"
   ],
   "metadata": {
    "collapsed": false,
    "pycharm": {
     "name": "#%%\n"
    }
   }
  },
  {
   "cell_type": "markdown",
   "source": [
    "# Workflow for Creating Cropped Mask and Image of Annotations (for multiple classes):\n",
    "1. Convert XML file path to X,Y coordinate of contours.\n",
    "2. Construct a mask with multiple annotation for the entire image, one mask with the same size of the image, with annotations # 1 to 12.\n",
    "3. Label the binary version of constructed mask from #2 with unique pixel value for each annotation circle.\n",
    "4. Iterate through the labeled binary mask to crop connected objects\n",
    "5. Use the cropped coordinates from above #4 to simulataneously crop the constructed mask and the image.\n",
    "6. Done!"
   ],
   "metadata": {
    "collapsed": false,
    "pycharm": {
     "name": "#%% md\n"
    }
   }
  },
  {
   "cell_type": "code",
   "execution_count": 7,
   "outputs": [],
   "source": [
    "# import all necessary modules required for the entire workflow:\n",
    "import xml.etree.ElementTree as ET\n",
    "import numpy as np\n",
    "import pandas as pd\n",
    "import openslide\n",
    "from PIL import Image\n",
    "import cv2\n",
    "from matplotlib import pyplot as plt\n",
    "import skimage.measure\n",
    "import os\n",
    "os.environ[\"OPENCV_IO_MAX_IMAGE_PIXELS\"] = pow(2,40).__str__()"
   ],
   "metadata": {
    "collapsed": false,
    "pycharm": {
     "name": "#%%\n"
    }
   }
  },
  {
   "cell_type": "code",
   "execution_count": 8,
   "outputs": [],
   "source": [
    "# First, input xml_filepath and output a dataframe of X,Y coordinates in general. (can be used for ROI as well)\n",
    "def xml_to_df(xml_path):\n",
    "    tree = ET.parse(xml_path)\n",
    "    root = tree.getroot()\n",
    "    append_df = []\n",
    "    for index, Annotation in enumerate(root.iter(\"Annotation\")):\n",
    "        for Region in Annotation.iter('Region'):\n",
    "            x = np.array([Vertex.get('X') for Vertex in Region.iter('Vertex')])\n",
    "            y = np.array([Vertex.get('Y') for Vertex in Region.iter('Vertex')])\n",
    "            id = np.array([int(Region.get('Id'))])\n",
    "            classnames = index + 1\n",
    "            coord_dict = {\"ClassNames\": [classnames], \"X\": [x], \"Y\": [y], \"ID\": [id]}\n",
    "            df = pd.DataFrame(data = coord_dict)\n",
    "            df.ID = df.ID.astype(int)\n",
    "            append_df.append(df)\n",
    "    coord_df = pd.concat(append_df).reset_index(drop=True)\n",
    "    return(coord_df)"
   ],
   "metadata": {
    "collapsed": false,
    "pycharm": {
     "name": "#%%\n"
    }
   }
  },
  {
   "cell_type": "code",
   "execution_count": 9,
   "outputs": [],
   "source": [
    "# # Then, input xml_path to use xml_to_df function to output X,Y coordinates for each annotation per class:\n",
    "# def coord_to_multiclass_df(xml_path):\n",
    "#     coord_df = xml_to_df(xml_path)\n",
    "#     coord_df = coord_df.drop(columns = [\"ID\"])\n",
    "#     dict = {\"corneum\" : 1,\"spinosum\": 2,\"hairshaft\":3,\"hairfollicle\":4,\"smoothmuscle\":5,\"oil\":6,\"sweat\":7,\"nerve\":8,\"bloodvessel\":9,\"ecm\":10,\"fat\":11,\"white\":12}\n",
    "#     coord_df = coord_df.replace({\"ClassNames\": dict})\n",
    "#     coord_df.to_pickle(r'\\\\fatherserverdw\\Kevin\\coord_df.pkl') #save pkl\n",
    "#     return coord_df"
   ],
   "metadata": {
    "collapsed": false,
    "pycharm": {
     "name": "#%%\n"
    }
   }
  },
  {
   "cell_type": "code",
   "execution_count": 10,
   "outputs": [],
   "source": [
    "# # Then input original image and the coord_df to output the mask with unique annotations (1..N, N = 12 in this case):\n",
    "# def create_mask_multi_annot(xml_path, image_path, downsample_factor = 10):\n",
    "#     slide = openslide.open_slide(image_path)\n",
    "#     target_level = slide.get_best_level_for_downsample(downsample_factor)\n",
    "#     target_dim = slide.level_dimensions[target_level]\n",
    "#     rsf = [x/y for x,y in zip(slide.dimensions,target_dim)] #resize factor\n",
    "#     mask = np.zeros(target_dim, dtype = np.uint8)\n",
    "#     iter_order = [2,10,5,4,6,11,7,9,8,12,3,1]\n",
    "#     coord_df = coord_to_multiclass_df(xml_path) #use function above\n",
    "#\n",
    "#     for i in iter_order:\n",
    "#         coord_df_tmp = coord_df[coord_df.ClassNames == i]\n",
    "#         for idx, row in coord_df_tmp.iterrows():\n",
    "#             xx = row.X.astype('int32')\n",
    "#             yy = row.Y.astype('int32')\n",
    "#             contours = np.array(list(zip(xx,yy)))\n",
    "#             contours = contours/rsf[0]\n",
    "#             class_number = row.ClassNames\n",
    "#             mask = cv2.fillPoly(mask, pts=[contours.astype(int)], color=(int(class_number)))\n",
    "#\n",
    "#     maskimg = Image.fromarray(mask)\n",
    "#     #maskimg.save(r'\\\\fatherserverdw\\Kevin\\binarymask_12class.jpg')\n",
    "#     return mask"
   ],
   "metadata": {
    "collapsed": false,
    "pycharm": {
     "name": "#%%\n"
    }
   }
  },
  {
   "cell_type": "code",
   "execution_count": 11,
   "outputs": [],
   "source": [
    "# # Input mask and create binary mask and then output label of connected regions:\n",
    "# def create_binary_mask_label(xml_path, image_path):\n",
    "#     mask = create_mask_multi_annot(xml_path, image_path, downsample_factor = 10)\n",
    "#     binary_mask = mask > 0\n",
    "#     binary_mask = binary_mask * 255 #255 if labeled (any class from 1 to 12), 0 if unlabeled\n",
    "#     binary_mask_label = skimage.measure.label(binary_mask,connectivity = 2) #find connected regions, marked from 0 to 128 in the original image\n",
    "#     return binary_mask_label #returns label of connected regions"
   ],
   "metadata": {
    "collapsed": false,
    "pycharm": {
     "name": "#%%\n"
    }
   }
  },
  {
   "cell_type": "code",
   "execution_count": 12,
   "outputs": [],
   "source": [
    "# # Input label of connected regions and then output the final images and masks:\n",
    "# def create_final_mask_image(xml_path, image_path, dstpath_mask, dstpath_image, downsample_factor = 10):\n",
    "#     slide = openslide.open_slide(image_path)\n",
    "#     target_level = slide.get_best_level_for_downsample(downsample_factor)\n",
    "#     target_dim = slide.level_dimensions[target_level]\n",
    "#     image = slide.read_region(location=(0,0),level=target_level,size=target_dim)\n",
    "#     imagearr = np.array(image)\n",
    "#     imagearr = imagearr[:,:,:3]\n",
    "#     binary_mask_label = create_binary_mask_label(xml_path, image_path)\n",
    "#     mask = create_mask_multi_annot(xml_path, image_path, downsample_factor = 10)\n",
    "#     for idx,label in enumerate(range(1,np.max(binary_mask_label)+1)):\n",
    "#         boo = binary_mask_label == label\n",
    "#         boolabel = boo * label\n",
    "#         loca = np.where(boolabel == label)\n",
    "#         x = loca[0]\n",
    "#         y = loca[1]\n",
    "#         targetmask = mask[min(x):max(x),min(y):max(y)]\n",
    "#         dstpth = dstpath_mask + str(idx)+'.png'\n",
    "#         Image.fromarray(targetmask).save(dstpth)\n",
    "#         targetim = imagearr[min(x):max(x),min(y):max(y),:]\n",
    "#         dstpth1 = dstpath_image + str(idx)+'.png'\n",
    "#         Image.fromarray(targetim).save(dstpth1)"
   ],
   "metadata": {
    "collapsed": false,
    "pycharm": {
     "name": "#%%\n"
    }
   }
  },
  {
   "cell_type": "code",
   "execution_count": 13,
   "outputs": [],
   "source": [
    "# create_final_mask_image(xml_path = r'\\\\fatherserverdw\\kyuex\\clue images\\annotations\\12class\\unhealthy_wrongbody\\2022-06-07 13.18.40.xml', image_path = r'\\\\fatherserverdw\\kyuex\\clue images\\2022-06-07 13.18.40.ndpi', downsample_factor = 10, dstpath_mask = r'\\\\fatherserverdw\\Kevin\\targetmask\\\\', dstpath_image = r'\\\\fatherserverdw\\Kevin\\targetimage\\\\')"
   ],
   "metadata": {
    "collapsed": false,
    "pycharm": {
     "name": "#%%\n"
    }
   }
  },
  {
   "cell_type": "code",
   "execution_count": 14,
   "outputs": [],
   "source": [
    "# # Now use this function to create final mask images of other XML's:\n",
    "# create_final_mask_image(xml_path = r'\\\\fatherserverdw\\kyuex\\clue images\\annotations\\12class\\2022-06-07 14.34.59.xml', image_path = r'\\\\fatherserverdw\\kyuex\\clue images\\2022-06-07 14.34.59.ndpi', dstpath_mask = r'\\\\fatherserverdw\\kyuex\\clue images\\annotations\\12class\\DLtrainingset_clue\\2022-06-07 14.34.59\\mask\\\\', dstpath_image = r'\\\\fatherserverdw\\kyuex\\clue images\\annotations\\12class\\DLtrainingset_clue\\2022-06-07 14.34.59\\image\\\\', downsample_factor = 10)"
   ],
   "metadata": {
    "collapsed": false,
    "pycharm": {
     "name": "#%%\n"
    }
   }
  },
  {
   "cell_type": "code",
   "execution_count": 15,
   "outputs": [],
   "source": [
    "# create_final_mask_image(xml_path = r'\\\\fatherserverdw\\kyuex\\clue images\\annotations\\12class\\2022-06-07 14.32.24.xml', image_path = r'\\\\fatherserverdw\\kyuex\\clue images\\2022-06-07 14.32.24.ndpi', dstpath_mask = r'\\\\fatherserverdw\\kyuex\\clue images\\annotations\\12class\\DLtrainingset_clue\\2022-06-07 14.32.24\\mask\\\\', dstpath_image = r'\\\\fatherserverdw\\kyuex\\clue images\\annotations\\12class\\DLtrainingset_clue\\2022-06-07 14.32.24\\image\\\\', downsample_factor = 10)"
   ],
   "metadata": {
    "collapsed": false,
    "pycharm": {
     "name": "#%%\n"
    }
   }
  },
  {
   "cell_type": "code",
   "execution_count": 16,
   "outputs": [],
   "source": [
    "# create_final_mask_image(xml_path = r'\\\\fatherserverdw\\kyuex\\clue images\\annotations\\12class\\2022-06-07 14.37.19.xml', image_path = r'\\\\fatherserverdw\\kyuex\\clue images\\2022-06-07 14.37.19.ndpi', dstpath_mask = r'\\\\fatherserverdw\\kyuex\\clue images\\annotations\\12class\\DLtrainingset_clue\\2022-06-07 14.37.19\\mask\\\\', dstpath_image = r'\\\\fatherserverdw\\kyuex\\clue images\\annotations\\12class\\DLtrainingset_clue\\2022-06-07 14.37.19\\image\\\\', downsample_factor = 10)"
   ],
   "metadata": {
    "collapsed": false,
    "pycharm": {
     "name": "#%%\n"
    }
   }
  },
  {
   "cell_type": "code",
   "execution_count": 17,
   "outputs": [],
   "source": [
    "# create_final_mask_image(xml_path = r'\\\\fatherserverdw\\kyuex\\clue images\\annotations\\12class\\2022-06-07 14.27.44.xml', image_path = r'\\\\fatherserverdw\\kyuex\\clue images\\2022-06-07 14.27.44.ndpi', dstpath_mask = r'\\\\fatherserverdw\\kyuex\\clue images\\annotations\\12class\\DLtrainingset_clue\\2022-06-07 14.27.44\\mask\\\\', dstpath_image = r'\\\\fatherserverdw\\kyuex\\clue images\\annotations\\12class\\DLtrainingset_clue\\2022-06-07 14.27.44\\image\\\\', downsample_factor = 10)"
   ],
   "metadata": {
    "collapsed": false,
    "pycharm": {
     "name": "#%%\n"
    }
   }
  },
  {
   "cell_type": "code",
   "execution_count": 18,
   "outputs": [],
   "source": [
    "coord_df_1 = xml_to_df(r\"\\\\fatherserverdw\\kyuex\\clue images\\annotations\\12class\\2022-06-07 14.34.59.xml\")\n",
    "coord_df_1 = coord_df_1.drop(columns = [\"ID\"])\n",
    "dict = {\"corneum\" : 1,\"spinosum\": 2,\"hairshaft\":3,\"hairfollicle\":4,\"smoothmuscle\":5,\"oil\":6,\"sweat\":7,\"nerve\":8,\"bloodvessel\":9,\"ecm\":10,\"fat\":11,\"white\":12}\n",
    "coord_df_1 = coord_df_1.replace({\"ClassNames\": dict})\n",
    "coord_df_1.to_pickle(r'\\\\fatherserverdw\\Kevin\\coord_df.pkl')"
   ],
   "metadata": {
    "collapsed": false,
    "pycharm": {
     "name": "#%%\n"
    }
   }
  },
  {
   "cell_type": "code",
   "execution_count": 19,
   "outputs": [
    {
     "data": {
      "text/plain": "    ClassNames                                                  X  \\\n0            1  [19495, 19513, 19517, 19521, 19526, 19526, 195...   \n1            1  [26109, 26104, 26100, 26096, 26096, 26091, 260...   \n2            1  [8366, 8367, 8371, 8373, 8374, 8379, 8380, 838...   \n3            1  [18519, 18518, 18518, 18517, 18517, 18516, 185...   \n4            1  [15897, 15897, 15897, 15897, 15897, 15897, 158...   \n..         ...                                                ...   \n71          12  [10559, 10558, 10556, 10553, 10549, 10544, 105...   \n72          12  [9814, 9814, 9813, 9813, 9812, 9812, 9811, 980...   \n73          12  [17721, 17720, 17720, 17719, 17719, 17719, 177...   \n74          12  [8673, 8671, 8669, 8667, 8665, 8662, 8660, 865...   \n75          12  [9532, 9530, 9529, 9528, 9527, 9525, 9524, 952...   \n\n                                                    Y  \n0   [22413, 22409, 22409, 22405, 22405, 22400, 223...  \n1   [19866, 19866, 19861, 19861, 19857, 19857, 198...  \n2   [24856, 24856, 24857, 24858, 24860, 24861, 248...  \n3   [21348, 21348, 21349, 21349, 21350, 21351, 213...  \n4   [22538, 22540, 22541, 22542, 22543, 22544, 225...  \n..                                                ...  \n71  [24644, 24644, 24642, 24641, 24635, 24630, 246...  \n72  [19642, 19643, 19643, 19644, 19644, 19645, 196...  \n73  [18463, 18463, 18464, 18464, 18465, 18467, 184...  \n74  [25096, 25096, 25096, 25096, 25096, 25096, 250...  \n75  [19120, 19120, 19120, 19120, 19120, 19121, 191...  \n\n[76 rows x 3 columns]",
      "text/html": "<div>\n<style scoped>\n    .dataframe tbody tr th:only-of-type {\n        vertical-align: middle;\n    }\n\n    .dataframe tbody tr th {\n        vertical-align: top;\n    }\n\n    .dataframe thead th {\n        text-align: right;\n    }\n</style>\n<table border=\"1\" class=\"dataframe\">\n  <thead>\n    <tr style=\"text-align: right;\">\n      <th></th>\n      <th>ClassNames</th>\n      <th>X</th>\n      <th>Y</th>\n    </tr>\n  </thead>\n  <tbody>\n    <tr>\n      <th>0</th>\n      <td>1</td>\n      <td>[19495, 19513, 19517, 19521, 19526, 19526, 195...</td>\n      <td>[22413, 22409, 22409, 22405, 22405, 22400, 223...</td>\n    </tr>\n    <tr>\n      <th>1</th>\n      <td>1</td>\n      <td>[26109, 26104, 26100, 26096, 26096, 26091, 260...</td>\n      <td>[19866, 19866, 19861, 19861, 19857, 19857, 198...</td>\n    </tr>\n    <tr>\n      <th>2</th>\n      <td>1</td>\n      <td>[8366, 8367, 8371, 8373, 8374, 8379, 8380, 838...</td>\n      <td>[24856, 24856, 24857, 24858, 24860, 24861, 248...</td>\n    </tr>\n    <tr>\n      <th>3</th>\n      <td>1</td>\n      <td>[18519, 18518, 18518, 18517, 18517, 18516, 185...</td>\n      <td>[21348, 21348, 21349, 21349, 21350, 21351, 213...</td>\n    </tr>\n    <tr>\n      <th>4</th>\n      <td>1</td>\n      <td>[15897, 15897, 15897, 15897, 15897, 15897, 158...</td>\n      <td>[22538, 22540, 22541, 22542, 22543, 22544, 225...</td>\n    </tr>\n    <tr>\n      <th>...</th>\n      <td>...</td>\n      <td>...</td>\n      <td>...</td>\n    </tr>\n    <tr>\n      <th>71</th>\n      <td>12</td>\n      <td>[10559, 10558, 10556, 10553, 10549, 10544, 105...</td>\n      <td>[24644, 24644, 24642, 24641, 24635, 24630, 246...</td>\n    </tr>\n    <tr>\n      <th>72</th>\n      <td>12</td>\n      <td>[9814, 9814, 9813, 9813, 9812, 9812, 9811, 980...</td>\n      <td>[19642, 19643, 19643, 19644, 19644, 19645, 196...</td>\n    </tr>\n    <tr>\n      <th>73</th>\n      <td>12</td>\n      <td>[17721, 17720, 17720, 17719, 17719, 17719, 177...</td>\n      <td>[18463, 18463, 18464, 18464, 18465, 18467, 184...</td>\n    </tr>\n    <tr>\n      <th>74</th>\n      <td>12</td>\n      <td>[8673, 8671, 8669, 8667, 8665, 8662, 8660, 865...</td>\n      <td>[25096, 25096, 25096, 25096, 25096, 25096, 250...</td>\n    </tr>\n    <tr>\n      <th>75</th>\n      <td>12</td>\n      <td>[9532, 9530, 9529, 9528, 9527, 9525, 9524, 952...</td>\n      <td>[19120, 19120, 19120, 19120, 19120, 19121, 191...</td>\n    </tr>\n  </tbody>\n</table>\n<p>76 rows × 3 columns</p>\n</div>"
     },
     "execution_count": 19,
     "metadata": {},
     "output_type": "execute_result"
    }
   ],
   "source": [
    "coord_df_1 = pd.read_pickle(r'\\\\fatherserverdw\\Kevin\\coord_df.pkl')\n",
    "coord_df_1"
   ],
   "metadata": {
    "collapsed": false,
    "pycharm": {
     "name": "#%%\n"
    }
   }
  },
  {
   "cell_type": "markdown",
   "source": [],
   "metadata": {
    "collapsed": false,
    "pycharm": {
     "name": "#%% md\n"
    }
   }
  },
  {
   "cell_type": "code",
   "execution_count": 20,
   "outputs": [],
   "source": [
    "# slide = openslide.open_slide(r\"\\\\fatherserverdw\\kyuex\\clue images\\2022-06-07 14.34.59.ndpi\")\n",
    "# target_level = slide.get_best_level_for_downsample(10)\n",
    "# target_dim = slide.level_dimensions[target_level]\n",
    "# rsf = [x/y for x,y in zip(slide.dimensions,target_dim)] #resize factor\n",
    "# image = slide.read_region(location=(0,0),level=target_level,size=target_dim)\n",
    "# imagearr = np.array(image)\n",
    "# imagearr = imagearr[:,:,:3]\n",
    "# mask = np.zeros((target_dim[1],target_dim[0]), dtype = np.uint8)\n",
    "#\n",
    "# iter_order = [2,10,5,4,6,11,7,9,8,12,3,1]\n",
    "# for i in iter_order:\n",
    "#     coord_df_1tmp = coord_df_1[coord_df_1.ClassNames == i]\n",
    "#     for idx, row in coord_df_1tmp.iterrows():\n",
    "#         xx = row.X.astype('int32')\n",
    "#         yy = row.Y.astype('int32')\n",
    "#         contours = np.array(list(zip(xx,yy)))\n",
    "#         contours = contours/rsf[0]\n",
    "#         class_number = row.ClassNames\n",
    "#         mask = cv2.fillPoly(mask, pts=[contours.astype(int)], color=(int(class_number)))\n",
    "#\n",
    "# # maskimg = Image.fromarray(mask)\n",
    "# # maskimg.show()\n",
    "# # maskimg.save(r'\\\\fatherserverdw\\Kevin\\binarymask_12class.jpg') <- binary mask"
   ],
   "metadata": {
    "collapsed": false,
    "pycharm": {
     "name": "#%%\n"
    }
   }
  },
  {
   "cell_type": "code",
   "execution_count": 21,
   "outputs": [],
   "source": [
    "# slide = openslide.open_slide(r\"\\\\fatherserverdw\\kyuex\\clue images\\2022-06-07 14.34.59.ndpi\")\n",
    "# target_level = slide.get_best_level_for_downsample(10)\n",
    "# target_dim = slide.level_dimensions[target_level]\n",
    "# rsf = [x/y for x,y in zip(slide.dimensions,target_dim)] #resize factor\n",
    "# image = slide.read_region(location=(0,0),level=target_level,size=target_dim)\n",
    "# imagearr = np.array(image)\n",
    "# imagearr = imagearr[:,:,:3]\n",
    "#\n",
    "# binary_mask = mask > 0\n",
    "# binary_mask_label = skimage.measure.label(binary_mask,connectivity = 2) #find connected regions, marked from 0 to 128 in the original image\n",
    "#\n",
    "# for idx,label in enumerate(range(1,np.max(binary_mask_label)+1)):\n",
    "#     boo = binary_mask_label == label\n",
    "#     boolabel = boo * label\n",
    "#     loca = np.where(boolabel == label)\n",
    "#     x = loca[0]\n",
    "#     y = loca[1]\n",
    "#     targetmask = mask[min(x):max(x),min(y):max(y)]\n",
    "#     dstpth = r'\\\\fatherserverdw\\Kevin\\targetmask\\\\' + str(idx)+'.png'\n",
    "#     Image.fromarray(targetmask).save(dstpth)\n",
    "#\n",
    "#     targetim = imagearr[min(x):max(x),min(y):max(y),:]\n",
    "#     dstpth1 = r'\\\\fatherserverdw\\Kevin\\targetimage\\\\' + str(idx)+'.png'\n",
    "#     Image.fromarray(targetim).save(dstpth1)\n",
    "#\n",
    "#     target_mask_1 = targetmask > 0\n",
    "#     target_mask_1 = np.repeat(target_mask_1[:,:,np.newaxis],3,axis=2)\n",
    "#\n",
    "#     final_image = np.multiply(targetim,target_mask_1)\n",
    "#     dstpth2 = r'\\\\fatherserverdw\\Kevin\\finaltargetimage\\\\' + str(idx)+'.png'\n",
    "#     Image.fromarray(final_image).save(dstpth2)"
   ],
   "metadata": {
    "collapsed": false,
    "pycharm": {
     "name": "#%%\n"
    }
   }
  },
  {
   "cell_type": "code",
   "execution_count": 22,
   "outputs": [],
   "source": [
    "# imsrc = r\"\\\\fatherserverdw\\Kevin\\targetimage\"\n",
    "# imdst = os.path.join(imsrc,'immasked')\n",
    "# if not os.path.exists(imdst):\n",
    "#     os.mkdir(imdst)\n",
    "# msksrc = r\"\\\\fatherserverdw\\Kevin\\targetmask\"\n",
    "# imlist = [_ for _ in os.listdir(imsrc) if _.endswith('.png')]\n",
    "# for im in imlist:\n",
    "#     imarr = np.array(Image.open(os.path.join(imsrc,im)))\n",
    "#     mskarr = np.array(Image.open(os.path.join(msksrc,im)))\n",
    "#     mskarr = mskarr>0\n",
    "#     mskarr3d = np.repeat(mskarr[:,:,np.newaxis],3,axis=2)\n",
    "#     immasked = np.multiply(imarr,mskarr3d)\n",
    "#     Image.fromarray((immasked)).save(os.path.join(imdst,im))\n"
   ],
   "metadata": {
    "collapsed": false,
    "pycharm": {
     "name": "#%%\n"
    }
   }
  },
  {
   "cell_type": "markdown",
   "source": [
    "# Randomly (from a gaussian distribution) place all images from the output images on top of a 5000 x 5000 image tile. Do the same for the mask:\n",
    "It looks like the files in the path: fatherserverdw\\Q\\research\\images\\skin_aging\\deeplab_trainingset\\v11\\training\\big_tiles\n"
   ],
   "metadata": {
    "collapsed": false,
    "pycharm": {
     "name": "#%% md\n"
    }
   }
  },
  {
   "cell_type": "code",
   "execution_count": 24,
   "outputs": [],
   "source": [
    "import matplotlib.pyplot as plt\n",
    "import scipy.stats as stats\n",
    "\n",
    "image_tile = np.zeros((5000,5000)) #black image tile\n",
    "image_tile = Image.fromarray(image_tile)\n",
    "# pick one file to work with first:\n",
    "number_of_files = len(os.listdir(r'\\\\fatherserverdw\\Kevin\\targetimage\\immasked'))\n",
    "rand_file_num = np.random.randint(1,number_of_files,size = number_of_files+1)\n",
    "lower = 0\n",
    "upper = 5000\n",
    "mu = 2500\n",
    "sigma = 1250\n",
    "rand_coord = stats.truncnorm((lower - mu) / sigma, (upper - mu) / sigma, loc = mu, scale = sigma)\n",
    "# plt.hist(rand_coord_pair.rvs(10000))\n",
    "# plt.show()\n",
    "rand_coord_x = np.round(rand_coord.rvs(10000))\n",
    "rand_coord_x = [int(x) for x in rand_coord_x]\n",
    "rand_coord_y = np.round(rand_coord.rvs(10000))\n",
    "rand_coord_y = [int(y) for y in rand_coord_y]\n",
    "\n",
    "for idx in np.nditer(rand_file_num):\n",
    "    image = Image.open(r'\\\\fatherserverdw\\Kevin\\targetimage\\immasked\\\\' + str(rand_file_num[idx]) + '.png')\n",
    "    x = rand_coord_x[idx]\n",
    "    y = rand_coord_y[idx]\n",
    "    image_tile.paste(image,(x,y))\n",
    "image_tile.show() #change to rgb\n",
    "\n",
    "# for each file number from the random distribution\n",
    "    # for each x,y coordinate pair, place image on the black image tile\n",
    "        # if overlap, try next coordinates"
   ],
   "metadata": {
    "collapsed": false,
    "pycharm": {
     "name": "#%%\n"
    }
   }
  },
  {
   "cell_type": "code",
   "execution_count": null,
   "outputs": [],
   "source": [
    "ra = np.array(image)\n",
    "ra"
   ],
   "metadata": {
    "collapsed": false,
    "pycharm": {
     "name": "#%%\n"
    }
   }
  },
  {
   "cell_type": "markdown",
   "source": [
    "# Image Registration of Two Images:"
   ],
   "metadata": {
    "collapsed": false,
    "pycharm": {
     "name": "#%% md\n"
    }
   }
  },
  {
   "cell_type": "code",
   "execution_count": null,
   "outputs": [],
   "source": [
    "# import pyelastix as pe\n",
    "# import imageio.v2 as imageio\n",
    "# import os\n",
    "# import time\n",
    "#\n",
    "# path = r'\\\\fatherserverdw\\Q\\research\\images\\CLUE\\3D study\\he\\4xr_jpg'\n",
    "# image_files_path = [os.path.join(path, file) for file in os.listdir(path) if file.endswith('.jpg')]\n",
    "#\n",
    "# image1 = imageio.imread(image_files_path[0])\n",
    "# image2 = imageio.imread(image_files_path[1])\n",
    "# image1 = image1[:,:,1].astype('float32')\n",
    "# image2 = image2[:,:,1].astype('float32')\n",
    "# print(image1.shape == image2.shape)"
   ],
   "metadata": {
    "collapsed": false,
    "pycharm": {
     "name": "#%%\n"
    }
   }
  },
  {
   "cell_type": "code",
   "execution_count": null,
   "outputs": [],
   "source": [
    "# def pad_images_to_same_size(images):\n",
    "#     width_max = 0\n",
    "#     height_max = 0\n",
    "#     for img in images: #pad image to the largest image\n",
    "#         h, w = img.shape[:2]\n",
    "#         width_max = max(width_max, w)\n",
    "#         height_max = max(height_max, h)\n",
    "#\n",
    "#     images_padded = []\n",
    "#     for img in images:\n",
    "#         h, w = img.shape[:2]\n",
    "#         diff_vert = height_max - h\n",
    "#         pad_top = diff_vert//2\n",
    "#         pad_bottom = diff_vert - pad_top\n",
    "#         diff_hori = width_max - w\n",
    "#         pad_left = diff_hori//2\n",
    "#         pad_right = diff_hori - pad_left\n",
    "#         img_padded = cv2.copyMakeBorder(img, pad_top, pad_bottom, pad_left, pad_right, cv2.BORDER_CONSTANT, value=255)\n",
    "#         assert img_padded.shape[:2] == (height_max, width_max)\n",
    "#         images_padded.append(img_padded)\n",
    "#\n",
    "#     return images_padded\n",
    "\n",
    "# image1, image2 = pad_images_to_same_size([image1,image2])\n",
    "# print(image1.shape == image2.shape)\n",
    "#\n",
    "# padded_image1 = Image.fromarray(image1)\n",
    "# padded_image1 = padded_image1.convert(\"L\")\n",
    "# #padded_image1.save(r'\\\\fatherserverdw\\Kevin\\paddedimage1.jpg')\n",
    "#\n",
    "# padded_image2 = Image.fromarray(image2)\n",
    "# padded_image2 = padded_image2.convert(\"L\")\n",
    "# #padded_image2.save(r'\\\\fatherserverdw\\Kevin\\paddedimage2.jpg')"
   ],
   "metadata": {
    "collapsed": false,
    "pycharm": {
     "name": "#%%\n"
    }
   }
  },
  {
   "cell_type": "code",
   "execution_count": null,
   "outputs": [],
   "source": [
    "# params = pe.get_default_params()\n",
    "# params.MaximumNumberOfIterations = 200\n",
    "# params.NumberOfResolutions = 3\n",
    "#\n",
    "# start = time.time()\n",
    "# image3, field = pe.register(image1,image2,params)\n",
    "# end = time.time()\n",
    "# print(\"time it took to register: \"+  str(end-start) + \" seconds\")\n",
    "#\n",
    "# img3 = Image.fromarray(image3)\n",
    "# img3.show()\n",
    "# img3 = img3.convert(\"L\")\n",
    "# img3.save(r'\\\\fatherserverdw\\Kevin\\image3.jpg')"
   ],
   "metadata": {
    "collapsed": false,
    "pycharm": {
     "name": "#%%\n"
    }
   }
  },
  {
   "cell_type": "code",
   "execution_count": null,
   "outputs": [],
   "source": [
    "# overlay image 3 on top of image 1 and image 2 to see how well the image 2 is rotated in reference to image 1:\n",
    "# alpha, beta = 0.5, 0.5\n",
    "# overlay_img1_img3 = cv2.addWeighted(image1,alpha,image3,beta,0.0)\n",
    "# img_overlay = Image.fromarray(overlay_img1_img3)\n",
    "# img_overlay.show()\n",
    "# img_overlay = img_overlay.convert(\"L\")\n",
    "# img_overlay.save(r'\\\\fatherserverdw\\Kevin\\overlay.jpg')\n",
    "#\n",
    "# another method:\n",
    "# difference = image1 - image3\n",
    "# difference = difference.astype(np.int)\n",
    "# difference_df = pd.DataFrame(difference)\n",
    "# difference_df = difference_df[difference_df>0]\n",
    "# difference_df = difference_df.fillna(0)\n",
    "# diff_counts = np.unique(difference_df,return_counts=True)[1]\n",
    "# sum_diff = np.sum(diff_counts) - diff_counts[0]\n",
    "# print(\"{} pixel values out of {} total pixel values are different\".format(sum_diff,image1.shape[0]*image1.shape[1]))\n",
    "# print(\"{}% pixel values are different\".format(sum_diff*100/(image1.shape[0]*image1.shape[1])))"
   ],
   "metadata": {
    "collapsed": false,
    "pycharm": {
     "name": "#%%\n"
    }
   }
  },
  {
   "cell_type": "code",
   "execution_count": null,
   "outputs": [],
   "source": [
    "# # stack three x,y values (2d image) to 1 2d Image (x,y,3)\n",
    "# ig1 = imageio.imread(r'\\\\fatherserverdw\\Q\\research\\images\\CLUE\\3D study\\he\\4xr_jpg\\z0001_1C1.jpg')\n",
    "# ig2 = imageio.imread(r'\\\\fatherserverdw\\Q\\research\\images\\CLUE\\3D study\\he\\4xr_jpg\\z0004_4C1.jpg')\n",
    "# ig3 = imageio.imread(r'\\\\fatherserverdw\\Q\\research\\images\\CLUE\\3D study\\he\\4xr_jpg\\z0007_7C1.jpg')\n",
    "# #pad before:\n",
    "# ig1, ig2, ig3 = pad_images_to_same_size([ig1,ig2,ig3])\n",
    "# ig1 = cv2.cvtColor(ig1,cv2.COLOR_RGB2GRAY)\n",
    "# ig2 = cv2.cvtColor(ig2,cv2.COLOR_RGB2GRAY)\n",
    "# ig3 = cv2.cvtColor(ig3,cv2.COLOR_RGB2GRAY)\n",
    "# # all img shape is (6264, 5352)\n",
    "# rgb = np.stack([ig1,ig2,ig3],axis=2)\n",
    "# rgbimg = Image.fromarray(rgb)\n",
    "# rgbimg.show()\n",
    "# rgbimg.save(r'\\\\fatherserverdw\\Kevin\\rgbimg.jpg')"
   ],
   "metadata": {
    "collapsed": false,
    "pycharm": {
     "name": "#%%\n"
    }
   }
  },
  {
   "cell_type": "code",
   "execution_count": null,
   "outputs": [],
   "source": [
    "# grayimg = cv2.cvtColor(np.array(rgbimg),cv2.COLOR_RGB2GRAY)\n",
    "# grayimg = grayimg.astype(np.uint8)\n",
    "# plt.imshow(grayimg)\n",
    "#\n",
    "# params = pe.get_default_params()\n",
    "# params.MaximumNumberOfIterations = 200\n",
    "# params.NumberOfResolutions = 3\n",
    "#\n",
    "# start = time.time()\n",
    "# fin_img, field = pe.register(grayimg,ig1,params)\n",
    "# end = time.time()\n",
    "# print(\"time it took to register: \"+  str(end-start) + \" seconds\")\n",
    "#\n",
    "# finimg = Image.fromarray(fin_img)\n",
    "# finimg.show()\n",
    "# img3 = img3.convert(\"L\")\n",
    "# img3.save(r'\\\\fatherserverdw\\Kevin\\image3.jpg')"
   ],
   "metadata": {
    "collapsed": false,
    "pycharm": {
     "name": "#%%\n"
    }
   }
  },
  {
   "cell_type": "code",
   "execution_count": null,
   "outputs": [],
   "source": [
    "# import SimpleITK as sitk\n",
    "#\n",
    "# elastixImageFilter = sitk.ElastixImageFilter()\n",
    "# elastixImageFilter.SetFixedImage(sitk.ReadImage(r'\\\\fatherserverdw\\Kevin\\rgbimg.jpg'))\n",
    "# elastixImageFilter.SetMovingImage(sitk.ReadImage(r'\\\\fatherserverdw\\Q\\research\\images\\CLUE\\3D study\\he\\4xr_jpg\\z0001_1C1.jpg'))\n",
    "#\n",
    "# parameterMapVector = sitk.VectorOfParameterMap()\n",
    "# parameterMapVector.append(sitk.GetDefaultParameterMap(\"affine\"))\n",
    "# parameterMapVector.append(sitk.GetDefaultParameterMap(\"bspline\"))\n",
    "# elastixImageFilter.SetParameterMap(parameterMapVector)\n",
    "#\n",
    "# elastixImageFilter.Execute()\n",
    "# sitk.WriteImage(elastixImageFilter.GetResultImage())"
   ],
   "metadata": {
    "collapsed": false,
    "pycharm": {
     "name": "#%%\n"
    }
   }
  }
 ],
 "metadata": {
  "kernelspec": {
   "display_name": "Python 3",
   "language": "python",
   "name": "python3"
  },
  "language_info": {
   "codemirror_mode": {
    "name": "ipython",
    "version": 2
   },
   "file_extension": ".py",
   "mimetype": "text/x-python",
   "name": "python",
   "nbconvert_exporter": "python",
   "pygments_lexer": "ipython2",
   "version": "2.7.6"
  }
 },
 "nbformat": 4,
 "nbformat_minor": 0
}