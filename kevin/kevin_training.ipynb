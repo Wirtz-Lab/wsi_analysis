{
 "cells": [
  {
   "cell_type": "markdown",
   "source": [
    "# Parse XML annotation file with X,Y coordinates and instance ID into a DataFrame"
   ],
   "metadata": {
    "collapsed": false,
    "pycharm": {
     "name": "#%% md\n"
    }
   }
  },
  {
   "cell_type": "code",
   "execution_count": 1,
   "outputs": [],
   "source": [
    "import xml.etree.ElementTree as ET\n",
    "import numpy as np\n",
    "import pandas as pd"
   ],
   "metadata": {
    "collapsed": false,
    "pycharm": {
     "name": "#%%\n"
    }
   }
  },
  {
   "cell_type": "code",
   "execution_count": 2,
   "outputs": [],
   "source": [
    "def xml_to_df(xml_filepath):\n",
    "    append_df = []\n",
    "    tree = ET.parse(xml_filepath)\n",
    "    root = tree.getroot()\n",
    "    for Annotation in root.iter(\"Annotation\"):\n",
    "        for Region in Annotation.iter('Region'): #iterate over the Region so we can iterate over id 1 and 2 (two circles):\n",
    "            x = np.array([Vertex.get('X') for Vertex in Region.iter('Vertex')])\n",
    "            y = np.array([Vertex.get('Y') for Vertex in Region.iter('Vertex')])\n",
    "            id = np.array([Region.get('Id')])\n",
    "            coord_dict = {\"X\": [x], \"Y\": [y], \"ID\": [id]}\n",
    "            df = pd.DataFrame(data = coord_dict)\n",
    "            df.ID = df.ID.astype(int)\n",
    "            append_df.append(df)\n",
    "    coord_df = pd.concat(append_df).reset_index(drop=True)\n",
    "    return(coord_df)"
   ],
   "metadata": {
    "collapsed": false,
    "pycharm": {
     "name": "#%%\n"
    }
   }
  },
  {
   "cell_type": "code",
   "execution_count": 3,
   "outputs": [
    {
     "data": {
      "text/plain": "                                                   X  \\\n0  [5615, 5725, 5810, 5865, 5900, 5915, 5930, 594...   \n1  [24299, 24364, 24483, 24537, 24613, 24624, 246...   \n\n                                                   Y  ID  \n0  [10850, 10890, 10930, 10950, 10960, 10970, 109...   1  \n1  [20025, 20068, 20133, 20176, 20209, 20231, 202...   2  ",
      "text/html": "<div>\n<style scoped>\n    .dataframe tbody tr th:only-of-type {\n        vertical-align: middle;\n    }\n\n    .dataframe tbody tr th {\n        vertical-align: top;\n    }\n\n    .dataframe thead th {\n        text-align: right;\n    }\n</style>\n<table border=\"1\" class=\"dataframe\">\n  <thead>\n    <tr style=\"text-align: right;\">\n      <th></th>\n      <th>X</th>\n      <th>Y</th>\n      <th>ID</th>\n    </tr>\n  </thead>\n  <tbody>\n    <tr>\n      <th>0</th>\n      <td>[5615, 5725, 5810, 5865, 5900, 5915, 5930, 594...</td>\n      <td>[10850, 10890, 10930, 10950, 10960, 10970, 109...</td>\n      <td>1</td>\n    </tr>\n    <tr>\n      <th>1</th>\n      <td>[24299, 24364, 24483, 24537, 24613, 24624, 246...</td>\n      <td>[20025, 20068, 20133, 20176, 20209, 20231, 202...</td>\n      <td>2</td>\n    </tr>\n  </tbody>\n</table>\n</div>"
     },
     "execution_count": 3,
     "metadata": {},
     "output_type": "execute_result"
    }
   ],
   "source": [
    "# # for pc:\n",
    "coord_df = xml_to_df(r'\\\\fatherserverdw\\kyuex\\clue images\\annotations\\roi\\2022-06-07 13.18.40.xml')\n",
    "coord_df\n",
    "# # for mac:\n",
    "# coord_df = xml_to_df('//Volumes/kyuex/clue images/2022-06-07 13.18.40.xml')\n",
    "#coord_df"
   ],
   "metadata": {
    "collapsed": false,
    "pycharm": {
     "name": "#%%\n"
    }
   }
  },
  {
   "cell_type": "markdown",
   "source": [
    "# Convert X,Y Coordinates to Binary Mask and Read and Resize Image:"
   ],
   "metadata": {
    "collapsed": false,
    "pycharm": {
     "name": "#%% md\n"
    }
   }
  },
  {
   "cell_type": "markdown",
   "source": [],
   "metadata": {
    "collapsed": false,
    "pycharm": {
     "name": "#%% md\n"
    }
   }
  },
  {
   "cell_type": "code",
   "execution_count": 4,
   "outputs": [],
   "source": [
    "import openslide\n",
    "import os\n",
    "os.environ[\"OPENCV_IO_MAX_IMAGE_PIXELS\"] = pow(2,40).__str__()\n",
    "import cv2\n",
    "from matplotlib import pyplot as plt\n",
    "def df_to_image_mask(xml_filepath, ndpi_filepath,downsample_factor):\n",
    "    global mask\n",
    "    coord_df = xml_to_df(xml_filepath)\n",
    "    slide = openslide.open_slide(ndpi_filepath)\n",
    "    rgb_dim = slide.dimensions\n",
    "    print(\"Dimension of level 0 of the image is: \",rgb_dim)\n",
    "    slide_level_dim = slide.level_dimensions\n",
    "    num_levels = len(slide_level_dim)\n",
    "    print(\"Number of levels in this image are:\",num_levels)\n",
    "    factors = slide.level_downsamples\n",
    "    print(\"Each level is downsampled by:\",factors)\n",
    "    blank = np.zeros(rgb_dim, dtype = np.uint8) #white\n",
    "    for idx, row in coord_df.iterrows():\n",
    "        xx = row.X\n",
    "        yy = row.Y\n",
    "        xy = list(zip(xx,yy))\n",
    "        contours = np.array(xy)\n",
    "        mask = cv2.fillPoly(blank, pts=[contours.astype(int)], color=idx+1)\n",
    "    target_level = slide.get_best_level_for_downsample(downsample_factor)\n",
    "    target_dim = slide.level_dimensions[target_level]\n",
    "    rsf = [x/y for x,y in zip(rgb_dim,target_dim)]\n",
    "    image_resized = slide.read_region(location=(0,0),level=target_level,size=target_dim)\n",
    "    mask_resized = cv2.resize(mask,[_//round(rsf[0]) for _ in mask.shape],interpolation=cv2.INTER_NEAREST)\n",
    "    return image_resized,mask_resized"
   ],
   "metadata": {
    "collapsed": false,
    "pycharm": {
     "name": "#%%\n"
    }
   }
  },
  {
   "cell_type": "markdown",
   "source": [
    "# Cropping RGB Image with Mask:"
   ],
   "metadata": {
    "collapsed": false,
    "pycharm": {
     "name": "#%% md\n"
    }
   }
  },
  {
   "cell_type": "code",
   "execution_count": 5,
   "outputs": [
    {
     "name": "stdout",
     "output_type": "stream",
     "text": [
      "Dimension of level 0 of the image is:  (48000, 47872)\n",
      "Number of levels in this image are: 8\n",
      "Each level is downsampled by: (1.0, 2.0, 4.0, 8.0, 16.0, 32.0, 64.0, 128.0)\n"
     ]
    }
   ],
   "source": [
    "image,mask = df_to_image_mask(r'\\\\fatherserverdw\\kyuex\\clue images\\annotations\\roi\\2022-06-07 13.18.40.xml',r'\\\\fatherserverdw\\kyuex\\clue images\\2022-06-07 13.18.40.ndpi',10)"
   ],
   "metadata": {
    "collapsed": false,
    "pycharm": {
     "name": "#%%\n"
    }
   }
  },
  {
   "cell_type": "code",
   "execution_count": 13,
   "outputs": [],
   "source": [
    "def crop_final_mask(image,mask):\n",
    "    imagearr = np.array(image)\n",
    "    imagearr = imagearr[:,:,:3]\n",
    "    maskarr = np.array(mask)\n",
    "    maskrgb = np.repeat(maskarr[:,:,np.newaxis],3,axis=2)\n",
    "    for tissueID in range(1,np.max(maskrgb[:])): #from first tissue id to end\n",
    "        #masking\n",
    "        print(tissueID)\n",
    "        masktmp = mask==tissueID #boolean\n",
    "        masktmp = np.repeat(masktmp[:,:,np.newaxis],3,axis=2) #change shape to match shape of imagearr\n",
    "        final_image = np.multiply(imagearr,masktmp)\n",
    "        #crop\n",
    "        print(final_image[:,:,0])\n",
    "        [x_crop,y_crop] = np.where(final_image[:,:,0]>0)\n",
    "        cropped_final_image = final_image[np.min(y_crop):np.max(y_crop),np.min(x_crop):np.max(x_crop)]\n",
    "        cropped_final_image = cropped_final_image[:,:,::-1]\n",
    "        cv2.imwrite(r\"\\\\fatherserverdw\\Kevin\\\\\" + \"final_image\" + str(tissueID) + \".jpg\",cropped_final_image)"
   ],
   "metadata": {
    "collapsed": false,
    "pycharm": {
     "name": "#%%\n"
    }
   }
  },
  {
   "cell_type": "code",
   "execution_count": 14,
   "outputs": [
    {
     "name": "stdout",
     "output_type": "stream",
     "text": [
      "1\n",
      "[[0 0 0 ... 0 0 0]\n",
      " [0 0 0 ... 0 0 0]\n",
      " [0 0 0 ... 0 0 0]\n",
      " ...\n",
      " [0 0 0 ... 0 0 0]\n",
      " [0 0 0 ... 0 0 0]\n",
      " [0 0 0 ... 0 0 0]]\n"
     ]
    }
   ],
   "source": [
    "crop_final_mask(image,mask)"
   ],
   "metadata": {
    "collapsed": false,
    "pycharm": {
     "name": "#%%\n"
    }
   }
  },
  {
   "cell_type": "markdown",
   "source": [
    "### Apply annotation to different xml file:"
   ],
   "metadata": {
    "collapsed": false,
    "pycharm": {
     "name": "#%% md\n"
    }
   }
  },
  {
   "cell_type": "code",
   "execution_count": 15,
   "outputs": [
    {
     "data": {
      "text/plain": "                                                     X  \\\n0    [7833, 7833, 7833, 7834, 7834, 7835, 7835, 783...   \n1    [8596, 8597, 8597, 8598, 8598, 8600, 8600, 860...   \n2    [10214, 10215, 10215, 10215, 10216, 10216, 102...   \n3    [8993, 8992, 8991, 8990, 8990, 8989, 8988, 898...   \n4    [7521, 7521, 7521, 7521, 7521, 7522, 7522, 752...   \n..                                                 ...   \n144  [33402, 33404, 33405, 33406, 33406, 33407, 334...   \n145  [39948, 39955, 39959, 39970, 39981, 39989, 400...   \n146  [39193, 39189, 39185, 39181, 39178, 39178, 391...   \n147  [39767, 39769, 39770, 39772, 39773, 39774, 397...   \n148  [42828, 42828, 42829, 42830, 42830, 42832, 428...   \n\n                                                     Y  ID  \n0    [6594, 6593, 6592, 6592, 6591, 6591, 6589, 658...   1  \n1    [6019, 6019, 6018, 6015, 6014, 6014, 6013, 601...   2  \n2    [4918, 4918, 4915, 4914, 4914, 4913, 4913, 491...   3  \n3    [5313, 5313, 5313, 5313, 5315, 5315, 5315, 531...   4  \n4    [7007, 7006, 7004, 7003, 7002, 7002, 7001, 700...   5  \n..                                                 ...  ..  \n144  [20590, 20590, 20590, 20590, 20591, 20591, 205...  17  \n145  [39749, 39749, 39749, 39749, 39749, 39752, 397...  18  \n146  [37963, 37963, 37974, 37978, 37982, 37986, 379...  19  \n147  [38084, 38084, 38084, 38085, 38085, 38086, 380...  20  \n148  [38263, 38262, 38262, 38262, 38261, 38261, 382...  21  \n\n[149 rows x 3 columns]",
      "text/html": "<div>\n<style scoped>\n    .dataframe tbody tr th:only-of-type {\n        vertical-align: middle;\n    }\n\n    .dataframe tbody tr th {\n        vertical-align: top;\n    }\n\n    .dataframe thead th {\n        text-align: right;\n    }\n</style>\n<table border=\"1\" class=\"dataframe\">\n  <thead>\n    <tr style=\"text-align: right;\">\n      <th></th>\n      <th>X</th>\n      <th>Y</th>\n      <th>ID</th>\n    </tr>\n  </thead>\n  <tbody>\n    <tr>\n      <th>0</th>\n      <td>[7833, 7833, 7833, 7834, 7834, 7835, 7835, 783...</td>\n      <td>[6594, 6593, 6592, 6592, 6591, 6591, 6589, 658...</td>\n      <td>1</td>\n    </tr>\n    <tr>\n      <th>1</th>\n      <td>[8596, 8597, 8597, 8598, 8598, 8600, 8600, 860...</td>\n      <td>[6019, 6019, 6018, 6015, 6014, 6014, 6013, 601...</td>\n      <td>2</td>\n    </tr>\n    <tr>\n      <th>2</th>\n      <td>[10214, 10215, 10215, 10215, 10216, 10216, 102...</td>\n      <td>[4918, 4918, 4915, 4914, 4914, 4913, 4913, 491...</td>\n      <td>3</td>\n    </tr>\n    <tr>\n      <th>3</th>\n      <td>[8993, 8992, 8991, 8990, 8990, 8989, 8988, 898...</td>\n      <td>[5313, 5313, 5313, 5313, 5315, 5315, 5315, 531...</td>\n      <td>4</td>\n    </tr>\n    <tr>\n      <th>4</th>\n      <td>[7521, 7521, 7521, 7521, 7521, 7522, 7522, 752...</td>\n      <td>[7007, 7006, 7004, 7003, 7002, 7002, 7001, 700...</td>\n      <td>5</td>\n    </tr>\n    <tr>\n      <th>...</th>\n      <td>...</td>\n      <td>...</td>\n      <td>...</td>\n    </tr>\n    <tr>\n      <th>144</th>\n      <td>[33402, 33404, 33405, 33406, 33406, 33407, 334...</td>\n      <td>[20590, 20590, 20590, 20590, 20591, 20591, 205...</td>\n      <td>17</td>\n    </tr>\n    <tr>\n      <th>145</th>\n      <td>[39948, 39955, 39959, 39970, 39981, 39989, 400...</td>\n      <td>[39749, 39749, 39749, 39749, 39749, 39752, 397...</td>\n      <td>18</td>\n    </tr>\n    <tr>\n      <th>146</th>\n      <td>[39193, 39189, 39185, 39181, 39178, 39178, 391...</td>\n      <td>[37963, 37963, 37974, 37978, 37982, 37986, 379...</td>\n      <td>19</td>\n    </tr>\n    <tr>\n      <th>147</th>\n      <td>[39767, 39769, 39770, 39772, 39773, 39774, 397...</td>\n      <td>[38084, 38084, 38084, 38085, 38085, 38086, 380...</td>\n      <td>20</td>\n    </tr>\n    <tr>\n      <th>148</th>\n      <td>[42828, 42828, 42829, 42830, 42830, 42832, 428...</td>\n      <td>[38263, 38262, 38262, 38262, 38261, 38261, 382...</td>\n      <td>21</td>\n    </tr>\n  </tbody>\n</table>\n<p>149 rows × 3 columns</p>\n</div>"
     },
     "execution_count": 15,
     "metadata": {},
     "output_type": "execute_result"
    }
   ],
   "source": [
    "#xml_to_df(r'\\\\fatherserverdw\\kyuex\\clue images\\annotations\\12class\\2022-06-07 13.18.40.xml')"
   ],
   "metadata": {
    "collapsed": false,
    "pycharm": {
     "name": "#%%\n"
    }
   }
  },
  {
   "cell_type": "code",
   "execution_count": 17,
   "outputs": [
    {
     "name": "stdout",
     "output_type": "stream",
     "text": [
      "Dimension of level 0 of the image is:  (48000, 47872)\n",
      "Number of levels in this image are: 8\n",
      "Each level is downsampled by: (1.0, 2.0, 4.0, 8.0, 16.0, 32.0, 64.0, 128.0)\n"
     ]
    }
   ],
   "source": [
    "#image1, mask1 = df_to_image_mask(r'\\\\fatherserverdw\\kyuex\\clue images\\annotations\\12class\\2022-06-07 13.18.40.xml',r'\\\\fatherserverdw\\kyuex\\clue images\\2022-06-07 13.18.40.ndpi',10)"
   ],
   "metadata": {
    "collapsed": false,
    "pycharm": {
     "name": "#%%\n"
    }
   }
  },
  {
   "cell_type": "code",
   "execution_count": 19,
   "outputs": [
    {
     "data": {
      "text/plain": "<matplotlib.image.AxesImage at 0x172b2209e80>"
     },
     "execution_count": 19,
     "metadata": {},
     "output_type": "execute_result"
    },
    {
     "data": {
      "text/plain": "<Figure size 640x480 with 1 Axes>",
      "image/png": "[encoded data removed]"
     },
     "metadata": {},
     "output_type": "display_data"
    }
   ],
   "source": [
    "#plt.imshow(mask1)"
   ],
   "metadata": {
    "collapsed": false,
    "pycharm": {
     "name": "#%%\n"
    }
   }
  },
  {
   "cell_type": "code",
   "execution_count": null,
   "outputs": [],
   "source": [],
   "metadata": {
    "collapsed": false,
    "pycharm": {
     "name": "#%%\n"
    }
   }
  }
 ],
 "metadata": {
  "kernelspec": {
   "display_name": "Python 3",
   "language": "python",
   "name": "python3"
  },
  "language_info": {
   "codemirror_mode": {
    "name": "ipython",
    "version": 2
   },
   "file_extension": ".py",
   "mimetype": "text/x-python",
   "name": "python",
   "nbconvert_exporter": "python",
   "pygments_lexer": "ipython2",
   "version": "2.7.6"
  }
 },
 "nbformat": 4,
 "nbformat_minor": 0
}