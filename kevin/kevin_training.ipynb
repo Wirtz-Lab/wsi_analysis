{
 "cells": [
  {
   "cell_type": "markdown",
   "source": [
    "# Parse XML annotation file with X,Y coordinates and instance ID into a DataFrame"
   ],
   "metadata": {
    "collapsed": false,
    "pycharm": {
     "name": "#%% md\n"
    }
   }
  },
  {
   "cell_type": "code",
   "execution_count": 1,
   "outputs": [],
   "source": [
    "import xml.etree.ElementTree as ET\n",
    "import numpy as np\n",
    "import pandas as pd\n",
    "import matplotlib.pyplot as plt"
   ],
   "metadata": {
    "collapsed": false,
    "pycharm": {
     "name": "#%%\n"
    }
   }
  },
  {
   "cell_type": "code",
   "execution_count": 2,
   "outputs": [],
   "source": [
    "def xml_to_df(xml_filepath):\n",
    "\n",
    "    tree = ET.parse(xml_filepath)\n",
    "    root = tree.getroot()\n",
    "    classlist = []\n",
    "    for Annotation in root.iter(\"Annotation\"):\n",
    "        for Attribute in Annotation.iter(\"Attribute\"):\n",
    "            classlist.append(Attribute.attrib.get('Name'))\n",
    "    classlists = sorted(classlist)\n",
    "    append_df = []\n",
    "    for index, Annotation in enumerate(root.iter(\"Annotation\")):\n",
    "        for Region in Annotation.iter('Region'): #iterate over the Region so we can iterate over id 1 and 2 (two circles):\n",
    "            x = np.array([Vertex.get('X') for Vertex in Region.iter('Vertex')])\n",
    "            y = np.array([Vertex.get('Y') for Vertex in Region.iter('Vertex')])\n",
    "            id = np.array([int(Region.get('Id'))])\n",
    "            classnames = classlists[index]\n",
    "            coord_dict = {\"ClassNames\": [classnames], \"X\": [x], \"Y\": [y], \"ID\": [id]}\n",
    "            df = pd.DataFrame(data = coord_dict)\n",
    "            df.ID = df.ID.astype(int)\n",
    "            append_df.append(df)\n",
    "    coord_df = pd.concat(append_df).reset_index(drop=True)\n",
    "    return(coord_df)"
   ],
   "metadata": {
    "collapsed": false,
    "pycharm": {
     "name": "#%%\n"
    }
   }
  },
  {
   "cell_type": "code",
   "execution_count": 3,
   "outputs": [
    {
     "data": {
      "text/plain": "  ClassNames                                                  X  \\\n0     tissue  [5615, 5725, 5810, 5865, 5900, 5915, 5930, 594...   \n1     tissue  [24299, 24364, 24483, 24537, 24613, 24624, 246...   \n\n                                                   Y  ID  \n0  [10850, 10890, 10930, 10950, 10960, 10970, 109...   1  \n1  [20025, 20068, 20133, 20176, 20209, 20231, 202...   2  ",
      "text/html": "<div>\n<style scoped>\n    .dataframe tbody tr th:only-of-type {\n        vertical-align: middle;\n    }\n\n    .dataframe tbody tr th {\n        vertical-align: top;\n    }\n\n    .dataframe thead th {\n        text-align: right;\n    }\n</style>\n<table border=\"1\" class=\"dataframe\">\n  <thead>\n    <tr style=\"text-align: right;\">\n      <th></th>\n      <th>ClassNames</th>\n      <th>X</th>\n      <th>Y</th>\n      <th>ID</th>\n    </tr>\n  </thead>\n  <tbody>\n    <tr>\n      <th>0</th>\n      <td>tissue</td>\n      <td>[5615, 5725, 5810, 5865, 5900, 5915, 5930, 594...</td>\n      <td>[10850, 10890, 10930, 10950, 10960, 10970, 109...</td>\n      <td>1</td>\n    </tr>\n    <tr>\n      <th>1</th>\n      <td>tissue</td>\n      <td>[24299, 24364, 24483, 24537, 24613, 24624, 246...</td>\n      <td>[20025, 20068, 20133, 20176, 20209, 20231, 202...</td>\n      <td>2</td>\n    </tr>\n  </tbody>\n</table>\n</div>"
     },
     "execution_count": 3,
     "metadata": {},
     "output_type": "execute_result"
    }
   ],
   "source": [
    "coord_df = xml_to_df(r'\\\\fatherserverdw\\kyuex\\clue images\\annotations\\roi\\2022-06-07 13.18.40.xml')\n",
    "coord_df"
   ],
   "metadata": {
    "collapsed": false,
    "pycharm": {
     "name": "#%%\n"
    }
   }
  },
  {
   "cell_type": "markdown",
   "source": [
    "# Convert X,Y Coordinates to Binary Mask and Read and Resize Image:"
   ],
   "metadata": {
    "collapsed": false,
    "pycharm": {
     "name": "#%% md\n"
    }
   }
  },
  {
   "cell_type": "markdown",
   "source": [],
   "metadata": {
    "collapsed": false,
    "pycharm": {
     "name": "#%% md\n"
    }
   }
  },
  {
   "cell_type": "code",
   "execution_count": 4,
   "outputs": [],
   "source": [
    "import openslide\n",
    "import os\n",
    "os.environ[\"OPENCV_IO_MAX_IMAGE_PIXELS\"] = pow(2,40).__str__()\n",
    "import cv2\n",
    "\n",
    "def df_to_image_mask(xml_filepath, ndpi_filepath,downsample_factor):\n",
    "    coord_df = xml_to_df(xml_filepath)\n",
    "    slide = openslide.open_slide(ndpi_filepath)\n",
    "    rgb_dim = slide.dimensions\n",
    "    print(\"Dimension of level 0 of the image is: \",rgb_dim)\n",
    "    slide_level_dim = slide.level_dimensions\n",
    "    num_levels = len(slide_level_dim)\n",
    "    print(\"Number of levels in this image are:\",num_levels)\n",
    "    factors = slide.level_downsamples\n",
    "    print(\"Each level is downsampled by:\",factors)\n",
    "    blank = np.zeros(rgb_dim, dtype = np.uint8) #white\n",
    "    for idx, row in coord_df.iterrows():\n",
    "        xx = row.X.astype('int')\n",
    "        yy = row.Y.astype('int')\n",
    "        xy = list(zip(xx,yy))\n",
    "        contours = np.array(xy)\n",
    "        mask = cv2.fillPoly(blank, pts=[contours.astype(int)], color=idx+125)\n",
    "    target_level = slide.get_best_level_for_downsample(downsample_factor)\n",
    "    target_dim = slide.level_dimensions[target_level]\n",
    "    rsf = [x/y for x,y in zip(rgb_dim,target_dim)]\n",
    "    image_resized = slide.read_region(location=(0,0),level=target_level,size=target_dim)\n",
    "    mask_resized = cv2.resize(mask,[_//round(rsf[0]) for _ in mask.shape],interpolation=cv2.INTER_NEAREST)\n",
    "    #cv2.imwrite(r\"\\\\fatherserverdw\\Kevin\\\\binarymask.jpg\",mask_resized) #save binary mask\n",
    "    return image_resized,mask_resized"
   ],
   "metadata": {
    "collapsed": false,
    "pycharm": {
     "name": "#%%\n"
    }
   }
  },
  {
   "cell_type": "markdown",
   "source": [
    "# Cropping RGB Image with Mask:"
   ],
   "metadata": {
    "collapsed": false,
    "pycharm": {
     "name": "#%% md\n"
    }
   }
  },
  {
   "cell_type": "code",
   "execution_count": 5,
   "outputs": [],
   "source": [
    "# image,mask = df_to_image_mask(r'\\\\fatherserverdw\\kyuex\\clue images\\annotations\\roi\\2022-06-07 13.18.40.xml',r'\\\\fatherserverdw\\kyuex\\clue images\\2022-06-07 13.18.40.ndpi',10)"
   ],
   "metadata": {
    "collapsed": false,
    "pycharm": {
     "name": "#%%\n"
    }
   }
  },
  {
   "cell_type": "code",
   "execution_count": 6,
   "outputs": [],
   "source": [
    "# def crop_final_mask(image,mask):\n",
    "#     imagearr = np.array(image)\n",
    "#     imagearr = imagearr[:,:,:3]\n",
    "#     maskarr = np.array(mask)\n",
    "#     maskrgb = np.repeat(maskarr[:,:,np.newaxis],3,axis=2)\n",
    "#     for tissueID in range(1,np.max(maskrgb[:])): #from first tissue id to end\n",
    "#         #masking\n",
    "#         masktmp = mask==tissueID #boolean\n",
    "#         masktmp = np.repeat(masktmp[:,:,np.newaxis],3,axis=2) #change shape to match shape of imagearr\n",
    "#         final_image = np.multiply(imagearr,masktmp)\n",
    "#         #crop\n",
    "#         [x_crop,y_crop] = np.where(final_image[:,:,0]>0)\n",
    "#         cropped_final_image = final_image[np.min(x_crop):np.max(x_crop),np.min(y_crop):np.max(y_crop)]\n",
    "#         cropped_final_image = cropped_final_image[:,:,::-1]\n",
    "#         return cropped_final_image"
   ],
   "metadata": {
    "collapsed": false,
    "pycharm": {
     "name": "#%%\n"
    }
   }
  },
  {
   "cell_type": "code",
   "execution_count": 7,
   "outputs": [],
   "source": [
    "# crop_final_mask(image,mask)"
   ],
   "metadata": {
    "collapsed": false,
    "pycharm": {
     "name": "#%%\n"
    }
   }
  },
  {
   "cell_type": "markdown",
   "source": [
    "# Now create mask for multiple classes:"
   ],
   "metadata": {
    "collapsed": false,
    "pycharm": {
     "name": "#%% md\n"
    }
   }
  },
  {
   "cell_type": "code",
   "execution_count": 8,
   "outputs": [
    {
     "data": {
      "text/plain": "     ClassNames                                                  X  \\\n0             9  [7833, 7833, 7833, 7834, 7834, 7835, 7835, 783...   \n1             9  [8596, 8597, 8597, 8598, 8598, 8600, 8600, 860...   \n2             9  [10214, 10215, 10215, 10215, 10216, 10216, 102...   \n3             9  [8993, 8992, 8991, 8990, 8990, 8989, 8988, 898...   \n4             9  [7521, 7521, 7521, 7521, 7521, 7522, 7522, 752...   \n..          ...                                                ...   \n144          12  [33402, 33404, 33405, 33406, 33406, 33407, 334...   \n145          12  [39948, 39955, 39959, 39970, 39981, 39989, 400...   \n146          12  [39193, 39189, 39185, 39181, 39178, 39178, 391...   \n147          12  [39767, 39769, 39770, 39772, 39773, 39774, 397...   \n148          12  [42828, 42828, 42829, 42830, 42830, 42832, 428...   \n\n                                                     Y  \n0    [6594, 6593, 6592, 6592, 6591, 6591, 6589, 658...  \n1    [6019, 6019, 6018, 6015, 6014, 6014, 6013, 601...  \n2    [4918, 4918, 4915, 4914, 4914, 4913, 4913, 491...  \n3    [5313, 5313, 5313, 5313, 5315, 5315, 5315, 531...  \n4    [7007, 7006, 7004, 7003, 7002, 7002, 7001, 700...  \n..                                                 ...  \n144  [20590, 20590, 20590, 20590, 20591, 20591, 205...  \n145  [39749, 39749, 39749, 39749, 39749, 39752, 397...  \n146  [37963, 37963, 37974, 37978, 37982, 37986, 379...  \n147  [38084, 38084, 38084, 38085, 38085, 38086, 380...  \n148  [38263, 38262, 38262, 38262, 38261, 38261, 382...  \n\n[149 rows x 3 columns]",
      "text/html": "<div>\n<style scoped>\n    .dataframe tbody tr th:only-of-type {\n        vertical-align: middle;\n    }\n\n    .dataframe tbody tr th {\n        vertical-align: top;\n    }\n\n    .dataframe thead th {\n        text-align: right;\n    }\n</style>\n<table border=\"1\" class=\"dataframe\">\n  <thead>\n    <tr style=\"text-align: right;\">\n      <th></th>\n      <th>ClassNames</th>\n      <th>X</th>\n      <th>Y</th>\n    </tr>\n  </thead>\n  <tbody>\n    <tr>\n      <th>0</th>\n      <td>9</td>\n      <td>[7833, 7833, 7833, 7834, 7834, 7835, 7835, 783...</td>\n      <td>[6594, 6593, 6592, 6592, 6591, 6591, 6589, 658...</td>\n    </tr>\n    <tr>\n      <th>1</th>\n      <td>9</td>\n      <td>[8596, 8597, 8597, 8598, 8598, 8600, 8600, 860...</td>\n      <td>[6019, 6019, 6018, 6015, 6014, 6014, 6013, 601...</td>\n    </tr>\n    <tr>\n      <th>2</th>\n      <td>9</td>\n      <td>[10214, 10215, 10215, 10215, 10216, 10216, 102...</td>\n      <td>[4918, 4918, 4915, 4914, 4914, 4913, 4913, 491...</td>\n    </tr>\n    <tr>\n      <th>3</th>\n      <td>9</td>\n      <td>[8993, 8992, 8991, 8990, 8990, 8989, 8988, 898...</td>\n      <td>[5313, 5313, 5313, 5313, 5315, 5315, 5315, 531...</td>\n    </tr>\n    <tr>\n      <th>4</th>\n      <td>9</td>\n      <td>[7521, 7521, 7521, 7521, 7521, 7522, 7522, 752...</td>\n      <td>[7007, 7006, 7004, 7003, 7002, 7002, 7001, 700...</td>\n    </tr>\n    <tr>\n      <th>...</th>\n      <td>...</td>\n      <td>...</td>\n      <td>...</td>\n    </tr>\n    <tr>\n      <th>144</th>\n      <td>12</td>\n      <td>[33402, 33404, 33405, 33406, 33406, 33407, 334...</td>\n      <td>[20590, 20590, 20590, 20590, 20591, 20591, 205...</td>\n    </tr>\n    <tr>\n      <th>145</th>\n      <td>12</td>\n      <td>[39948, 39955, 39959, 39970, 39981, 39989, 400...</td>\n      <td>[39749, 39749, 39749, 39749, 39749, 39752, 397...</td>\n    </tr>\n    <tr>\n      <th>146</th>\n      <td>12</td>\n      <td>[39193, 39189, 39185, 39181, 39178, 39178, 391...</td>\n      <td>[37963, 37963, 37974, 37978, 37982, 37986, 379...</td>\n    </tr>\n    <tr>\n      <th>147</th>\n      <td>12</td>\n      <td>[39767, 39769, 39770, 39772, 39773, 39774, 397...</td>\n      <td>[38084, 38084, 38084, 38085, 38085, 38086, 380...</td>\n    </tr>\n    <tr>\n      <th>148</th>\n      <td>12</td>\n      <td>[42828, 42828, 42829, 42830, 42830, 42832, 428...</td>\n      <td>[38263, 38262, 38262, 38262, 38261, 38261, 382...</td>\n    </tr>\n  </tbody>\n</table>\n<p>149 rows × 3 columns</p>\n</div>"
     },
     "execution_count": 8,
     "metadata": {},
     "output_type": "execute_result"
    }
   ],
   "source": [
    "# coord_df_1 = xml_to_df(r'\\\\fatherserverdw\\kyuex\\clue images\\annotations\\12class\\unhealthy_wrongbody\\2022-06-07 13.18.40.xml')\n",
    "# coord_df_1 = coord_df_1.drop(columns = [\"ID\"])\n",
    "# dict = {\"corneum\" : 1,\"spinosum\": 2,\"hairshaft\":3,\"hairfollicle\":4,\"smoothmuscle\":5,\"oil\":6,\"sweat\":7,\"nerve\":8,\"bloodvessel\":9,\"ecm\":10,\"fat\":11,\"white\":12}\n",
    "# coord_df_1 = coord_df_1.replace({\"ClassNames\": dict})\n",
    "# coord_df_1.to_pxxckle(r'\\\\fatherserverdw\\Kevin\\coord_df.pkl')\n",
    "\n",
    "coord_df_1 = pd.read_pickle(r'\\\\fatherserverdw\\Kevin\\coord_df.pkl')\n",
    "coord_df_1"
   ],
   "metadata": {
    "collapsed": false,
    "pycharm": {
     "name": "#%%\n"
    }
   }
  },
  {
   "cell_type": "code",
   "execution_count": 9,
   "outputs": [],
   "source": [
    "# for loop:\n",
    "\n",
    "# slide = openslide.open_slide(r'\\\\fatherserverdw\\kyuex\\clue images\\2022-06-07 13.18.40.ndpi')\n",
    "# target_level = slide.get_best_level_for_downsample(10)\n",
    "# target_dim = slide.level_dimensions[target_level]\n",
    "# rsf = [x/y for x,y in zip(slide.dimensions,target_dim)]\n",
    "# image = slide.read_region(location=(0,0),level=target_level,size=target_dim)\n",
    "# imagearr = np.array(image)\n",
    "# imagearr = imagearr[:,:,:3]\n",
    "# blank = np.zeros(target_dim, dtype = np.uint8)\n",
    "#\n",
    "# iter_order = [2,10,5,4,6,11,7,9,8,12,3,1]\n",
    "# for i in iter_order:\n",
    "#     coord_df_1tmp = coord_df_1[coord_df_1.ClassNames == i]\n",
    "#     for idx, row in coord_df_1tmp.iterrows():\n",
    "#         xx = row.X.astype('int32')\n",
    "#         yy = row.Y.astype('int32')\n",
    "#         # rgb_dim = (int(max(yy)),int(max(xx)))\n",
    "#         # xy = list(zip(xx-min(xx),yy-min(yy)))\n",
    "#         contours = np.array(list(zip(xx,yy)))\n",
    "#         contours = contours/rsf[0]\n",
    "#         class_number = coord_df_1.ClassNames.values[idx]\n",
    "#         mask = cv2.fillPoly(mask, pts=[contours.astype(int)], color=(int(class_number)))\n",
    "\n",
    "\n",
    "\n",
    "        # maskarr = np.array(mask)\n",
    "        # masktmp = maskarr == class_number #boolean\n",
    "        # masktmp = np.repeat(masktmp[:,:,np.newaxis],3,axis=2)\n",
    "        # masktmp = masktmp.astype(np.uint8)\n",
    "        # imagearr = cv2.resize(imagearr,np.array([int(masktmp.shape[1]),int(masktmp.shape[0])]),interpolation=cv2.INTER_NEAREST)\n",
    "        # final_image = np.multiply(imagearr,masktmp) # both 8265x6605x3\n",
    "        # [x_crop,y_crop] = np.where(final_image[:,:,0]>0)\n",
    "        # cropped_final_image = final_image[np.min(y_crop):np.max(y_crop),np.min(x_crop):800] #np.max(x_crop) is not working for some reason\n",
    "        # aaa\n",
    "        #cv2.imwrite(r\"\\\\fatherserverdw\\Kevin\\multiple_class\\\\\" + \"final_image\" + str(idx) + \".jpg\",cropped_final_image)"
   ],
   "metadata": {
    "collapsed": false,
    "pycharm": {
     "name": "#%%\n"
    }
   }
  },
  {
   "cell_type": "code",
   "execution_count": 10,
   "outputs": [],
   "source": [
    "#label the binary version of constructed mask with unique pixel value for each annotation circle\n",
    "#iterate thru the labeled binary mask to crop connected objects\n",
    "#use the coordinate for the crop above to crop the constructed mask\n",
    "#also crop the rgb image\n",
    "#save both constructed mask and rgb image\n"
   ],
   "metadata": {
    "collapsed": false,
    "pycharm": {
     "name": "#%%\n"
    }
   }
  },
  {
   "cell_type": "code",
   "execution_count": 11,
   "outputs": [],
   "source": [
    "# mask_of_unique_annotations #differnet annotation has differnet pixel values 1....N annotations\n",
    "# binary_mask = mask_of_unique_annotations>0\n",
    "# binary_mask_label = skimage.measure.label(binary_mask)\n",
    "#\n",
    "# for idx,label in enumerate(range(1,np.max(binary_mask_label))):\n",
    "#     labeltmp = binary_mask_label[binary_mask_label==label]\n",
    "#     [x,y] = np.where(labeltmp)\n",
    "#     targetmask = mask_of_unique_annotations[min(x):max(x),min(y):max(y)]\n",
    "#     dstpth = idx+'.png'\n",
    "#     Image.fromarray(targetmask).save(dstpth)\n",
    "#     targetim = rgbim[min(x):max(x),min(y):max(y),:]\n",
    "#\n",
    "#\n",
    "#\n"
   ],
   "metadata": {
    "collapsed": false,
    "pycharm": {
     "name": "#%%\n"
    }
   }
  },
  {
   "cell_type": "markdown",
   "source": [
    "# Image Registration of Two Images:"
   ],
   "metadata": {
    "collapsed": false,
    "pycharm": {
     "name": "#%% md\n"
    }
   }
  },
  {
   "cell_type": "code",
   "execution_count": 12,
   "outputs": [
    {
     "name": "stdout",
     "output_type": "stream",
     "text": [
      "False\n"
     ]
    }
   ],
   "source": [
    "import pyelastix as pe\n",
    "import imageio.v2 as imageio\n",
    "import os\n",
    "from PIL import Image\n",
    "import time\n",
    "\n",
    "path = r'\\\\fatherserverdw\\Q\\research\\images\\CLUE\\3D study\\he\\4xr_jpg'\n",
    "image_files_path = [os.path.join(path, file) for file in os.listdir(path) if file.endswith('.jpg')]\n",
    "\n",
    "image1 = imageio.imread(image_files_path[0])\n",
    "image2 = imageio.imread(image_files_path[1])\n",
    "image1 = image1[:,:,1].astype('float32')\n",
    "image2 = image2[:,:,1].astype('float32')\n",
    "print(image1.shape == image2.shape)"
   ],
   "metadata": {
    "collapsed": false,
    "pycharm": {
     "name": "#%%\n"
    }
   }
  },
  {
   "cell_type": "code",
   "execution_count": 13,
   "outputs": [
    {
     "name": "stdout",
     "output_type": "stream",
     "text": [
      "True\n"
     ]
    }
   ],
   "source": [
    "def pad_images_to_same_size(images):\n",
    "    width_max = 0\n",
    "    height_max = 0\n",
    "    for img in images: #pad image to the largest image\n",
    "        h, w = img.shape[:2]\n",
    "        width_max = max(width_max, w)\n",
    "        height_max = max(height_max, h)\n",
    "\n",
    "    images_padded = []\n",
    "    for img in images:\n",
    "        h, w = img.shape[:2]\n",
    "        diff_vert = height_max - h\n",
    "        pad_top = diff_vert//2\n",
    "        pad_bottom = diff_vert - pad_top\n",
    "        diff_hori = width_max - w\n",
    "        pad_left = diff_hori//2\n",
    "        pad_right = diff_hori - pad_left\n",
    "        img_padded = cv2.copyMakeBorder(img, pad_top, pad_bottom, pad_left, pad_right, cv2.BORDER_CONSTANT, value=255)\n",
    "        assert img_padded.shape[:2] == (height_max, width_max)\n",
    "        images_padded.append(img_padded)\n",
    "\n",
    "    return images_padded\n",
    "\n",
    "image1, image2 = pad_images_to_same_size([image1,image2])\n",
    "print(image1.shape == image2.shape)\n",
    "\n",
    "padded_image1 = Image.fromarray(image1)\n",
    "padded_image1 = padded_image1.convert(\"L\")\n",
    "#padded_image1.save(r'\\\\fatherserverdw\\Kevin\\paddedimage1.jpg')\n",
    "\n",
    "padded_image2 = Image.fromarray(image2)\n",
    "padded_image2 = padded_image2.convert(\"L\")\n",
    "#padded_image2.save(r'\\\\fatherserverdw\\Kevin\\paddedimage2.jpg')"
   ],
   "metadata": {
    "collapsed": false,
    "pycharm": {
     "name": "#%%\n"
    }
   }
  },
  {
   "cell_type": "code",
   "execution_count": 14,
   "outputs": [],
   "source": [
    "# params = pe.get_default_params()\n",
    "# params.MaximumNumberOfIterations = 200\n",
    "# params.NumberOfResolutions = 3\n",
    "#\n",
    "# start = time.time()\n",
    "# image3, field = pe.register(image1,image2,params)\n",
    "# end = time.time()\n",
    "# print(\"time it took to register: \"+  str(end-start) + \" seconds\")\n",
    "#\n",
    "# img3 = Image.fromarray(image3)\n",
    "# img3.show()\n",
    "# img3 = img3.convert(\"L\")\n",
    "#img3.save(r'\\\\fatherserverdw\\Kevin\\image3.jpg')"
   ],
   "metadata": {
    "collapsed": false,
    "pycharm": {
     "name": "#%%\n"
    }
   }
  },
  {
   "cell_type": "code",
   "execution_count": 17,
   "outputs": [],
   "source": [
    "#overlay image 3 on top of image 1 and image 2 to see how well the image 2 is rotated in reference to image 1:\n",
    "# alpha, beta = 0.5, 0.5\n",
    "# overlay_img1_img3 = cv2.addWeighted(image1,alpha,image3,beta,0.0)\n",
    "# img_overlay = Image.fromarray(overlay_img1_img3)\n",
    "# img_overlay.show()\n",
    "# img_overlay = img_overlay.convert(\"L\")\n",
    "#img_overlay.save(r'\\\\fatherserverdw\\Kevin\\overlay.jpg')\n",
    "\n",
    "# another method:\n",
    "# difference = image1 - image3\n",
    "# difference = difference.astype(np.int)\n",
    "# difference_df = pd.DataFrame(difference)\n",
    "# difference_df = difference_df[difference_df>0]\n",
    "# difference_df = difference_df.fillna(0)\n",
    "# diff_counts = np.unique(difference_df,return_counts=True)[1]\n",
    "# sum_diff = np.sum(diff_counts) - diff_counts[0]\n",
    "# print(\"{} pixel values out of {} total pixel values are different\".format(sum_diff,image1.shape[0]*image1.shape[1]))\n",
    "# print(\"{}% pixel values are different\".format(sum_diff*100/(image1.shape[0]*image1.shape[1])))"
   ],
   "metadata": {
    "collapsed": false,
    "pycharm": {
     "name": "#%%\n"
    }
   }
  },
  {
   "cell_type": "code",
   "execution_count": 62,
   "outputs": [
    {
     "name": "stdout",
     "output_type": "stream",
     "text": [
      "(6264, 5352, 3)\n"
     ]
    }
   ],
   "source": [
    "# stack three x,y values (2d image) to 1 2d Image (x,y,3)\n",
    "ig1 = imageio.imread(r'\\\\fatherserverdw\\Q\\research\\images\\CLUE\\3D study\\he\\4xr_jpg\\z0001_1C1.jpg')\n",
    "ig2 = imageio.imread(r'\\\\fatherserverdw\\Q\\research\\images\\CLUE\\3D study\\he\\4xr_jpg\\z0004_4C1.jpg')\n",
    "ig3 = imageio.imread(r'\\\\fatherserverdw\\Q\\research\\images\\CLUE\\3D study\\he\\4xr_jpg\\z0007_7C1.jpg')\n",
    "#pad before:\n",
    "ig1, ig2, ig3 = pad_images_to_same_size([ig1,ig2,ig3])\n",
    "ig1 = cv2.cvtColor(ig1,cv2.COLOR_RGB2GRAY)\n",
    "ig2 = cv2.cvtColor(ig2,cv2.COLOR_RGB2GRAY)\n",
    "ig3 = cv2.cvtColor(ig3,cv2.COLOR_RGB2GRAY)\n",
    "# all img shape is (6264, 5352)\n",
    "rgb = np.stack([ig1,ig2,ig3],axis=2)\n",
    "rgbimg = Image.fromarray(rgb)\n",
    "rgbimg.show()\n",
    "rgbimg.save(r'\\\\fatherserverdw\\Kevin\\rgbimg.jpg')"
   ],
   "metadata": {
    "collapsed": false,
    "pycharm": {
     "name": "#%%\n"
    }
   }
  },
  {
   "cell_type": "code",
   "execution_count": null,
   "outputs": [],
   "source": [],
   "metadata": {
    "collapsed": false,
    "pycharm": {
     "name": "#%%\n"
    }
   }
  },
  {
   "cell_type": "code",
   "execution_count": null,
   "outputs": [],
   "source": [],
   "metadata": {
    "collapsed": false,
    "pycharm": {
     "name": "#%%\n",
     "is_executing": true
    }
   }
  },
  {
   "cell_type": "code",
   "execution_count": null,
   "outputs": [],
   "source": [],
   "metadata": {
    "collapsed": false,
    "pycharm": {
     "name": "#%%\n",
     "is_executing": true
    }
   }
  },
  {
   "cell_type": "code",
   "execution_count": null,
   "outputs": [],
   "source": [],
   "metadata": {
    "collapsed": false,
    "pycharm": {
     "name": "#%%\n",
     "is_executing": true
    }
   }
  },
  {
   "cell_type": "code",
   "execution_count": 40,
   "outputs": [],
   "source": [],
   "metadata": {
    "collapsed": false,
    "pycharm": {
     "name": "#%%\n"
    }
   }
  }
 ],
 "metadata": {
  "kernelspec": {
   "display_name": "Python 3",
   "language": "python",
   "name": "python3"
  },
  "language_info": {
   "codemirror_mode": {
    "name": "ipython",
    "version": 2
   },
   "file_extension": ".py",
   "mimetype": "text/x-python",
   "name": "python",
   "nbconvert_exporter": "python",
   "pygments_lexer": "ipython2",
   "version": "2.7.6"
  }
 },
 "nbformat": 4,
 "nbformat_minor": 0
}