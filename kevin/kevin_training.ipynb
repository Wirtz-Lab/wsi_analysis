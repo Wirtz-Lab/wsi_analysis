{
 "cells": [
  {
   "cell_type": "markdown",
   "source": [
    "# Parse XML annotation file with X,Y coordinates and instance ID into a DataFrame"
   ],
   "metadata": {
    "collapsed": false,
    "pycharm": {
     "name": "#%% md\n"
    }
   }
  },
  {
   "cell_type": "code",
   "execution_count": 1,
   "outputs": [],
   "source": [
    "import xml.etree.ElementTree as ET\n",
    "import numpy as np\n",
    "import pandas as pd\n",
    "#import os"
   ],
   "metadata": {
    "collapsed": false,
    "pycharm": {
     "name": "#%%\n"
    }
   }
  },
  {
   "cell_type": "code",
   "execution_count": 2,
   "outputs": [],
   "source": [
    "def xml_to_df(xml_filepath):\n",
    "    append_df = []\n",
    "    tree = ET.parse(xml_filepath)\n",
    "    root = tree.getroot()\n",
    "    for Annotation in root.iter(\"Annotation\"):\n",
    "        for Region in Annotation.iter('Region'): #iterate over the Region so we can iterate over id 1 and 2 (two circles):\n",
    "            x = np.array([Vertex.get('X') for Vertex in Region.iter('Vertex')])\n",
    "            y = np.array([Vertex.get('Y') for Vertex in Region.iter('Vertex')])\n",
    "            id = np.array([Region.get('Id')])\n",
    "            coord_dict = {\"X\": [x], \"Y\": [y], \"ID\": [id]}\n",
    "            df = pd.DataFrame(data = coord_dict)\n",
    "            df.ID = df.ID.astype(int)\n",
    "            append_df.append(df)\n",
    "    coord_df = pd.concat(append_df)\n",
    "    return(coord_df)"
   ],
   "metadata": {
    "collapsed": false,
    "pycharm": {
     "name": "#%%\n"
    }
   }
  },
  {
   "cell_type": "code",
   "execution_count": 3,
   "outputs": [
    {
     "data": {
      "text/plain": "                                                   X  \\\n0  [5615, 5725, 5810, 5865, 5900, 5915, 5930, 594...   \n0  [24299, 24364, 24483, 24537, 24613, 24624, 246...   \n\n                                                   Y  ID  \n0  [10850, 10890, 10930, 10950, 10960, 10970, 109...   1  \n0  [20025, 20068, 20133, 20176, 20209, 20231, 202...   2  ",
      "text/html": "<div>\n<style scoped>\n    .dataframe tbody tr th:only-of-type {\n        vertical-align: middle;\n    }\n\n    .dataframe tbody tr th {\n        vertical-align: top;\n    }\n\n    .dataframe thead th {\n        text-align: right;\n    }\n</style>\n<table border=\"1\" class=\"dataframe\">\n  <thead>\n    <tr style=\"text-align: right;\">\n      <th></th>\n      <th>X</th>\n      <th>Y</th>\n      <th>ID</th>\n    </tr>\n  </thead>\n  <tbody>\n    <tr>\n      <th>0</th>\n      <td>[5615, 5725, 5810, 5865, 5900, 5915, 5930, 594...</td>\n      <td>[10850, 10890, 10930, 10950, 10960, 10970, 109...</td>\n      <td>1</td>\n    </tr>\n    <tr>\n      <th>0</th>\n      <td>[24299, 24364, 24483, 24537, 24613, 24624, 246...</td>\n      <td>[20025, 20068, 20133, 20176, 20209, 20231, 202...</td>\n      <td>2</td>\n    </tr>\n  </tbody>\n</table>\n</div>"
     },
     "execution_count": 3,
     "metadata": {},
     "output_type": "execute_result"
    }
   ],
   "source": [
    "# # for pc:\n",
    "# # src = r'\\\\fatherserverdw\\kyuex\\clue images'\n",
    "# # for mac:\n",
    "# src = r'//Volumes/kyuex/clue images'\n",
    "# xml = [_ for _ in os.listdir(src) if _.endswith('xml')]\n",
    "# xml\n",
    "\n",
    "coord_df = xml_to_df('//Volumes/kyuex/clue images/2022-06-07 13.18.40.xml')\n",
    "coord_df"
   ],
   "metadata": {
    "collapsed": false,
    "pycharm": {
     "name": "#%%\n"
    }
   }
  },
  {
   "cell_type": "markdown",
   "source": [
    "# Convert X,Y Coordinates to Binary Mask"
   ],
   "metadata": {
    "collapsed": false,
    "pycharm": {
     "name": "#%% md\n"
    }
   }
  },
  {
   "cell_type": "markdown",
   "source": [],
   "metadata": {
    "collapsed": false,
    "pycharm": {
     "name": "#%% md\n"
    }
   }
  },
  {
   "cell_type": "code",
   "execution_count": 6,
   "outputs": [
    {
     "ename": "ValueError",
     "evalue": "could not broadcast input array from shape (3) into shape (500,500)",
     "output_type": "error",
     "traceback": [
      "\u001B[0;31m---------------------------------------------------------------------------\u001B[0m",
      "\u001B[0;31mValueError\u001B[0m                                Traceback (most recent call last)",
      "Input \u001B[0;32mIn [6]\u001B[0m, in \u001B[0;36m<cell line: 17>\u001B[0;34m()\u001B[0m\n\u001B[1;32m     14\u001B[0m     dfs \u001B[38;5;241m=\u001B[39m pd\u001B[38;5;241m.\u001B[39mconcat(dfs)\n\u001B[1;32m     15\u001B[0m     \u001B[38;5;28;01mreturn\u001B[39;00m dfs\n\u001B[0;32m---> 17\u001B[0m mask \u001B[38;5;241m=\u001B[39m \u001B[43mdf_to_mask\u001B[49m\u001B[43m(\u001B[49m\u001B[43mcoord_df\u001B[49m\u001B[43m)\u001B[49m\n\u001B[1;32m     18\u001B[0m mask\n",
      "Input \u001B[0;32mIn [6]\u001B[0m, in \u001B[0;36mdf_to_mask\u001B[0;34m(coord_df)\u001B[0m\n\u001B[1;32m      9\u001B[0m contours \u001B[38;5;241m=\u001B[39m np\u001B[38;5;241m.\u001B[39marray(xy)\n\u001B[1;32m     10\u001B[0m image \u001B[38;5;241m=\u001B[39m np\u001B[38;5;241m.\u001B[39mfull((\u001B[38;5;241m500\u001B[39m, \u001B[38;5;241m500\u001B[39m), \u001B[38;5;241m255\u001B[39m, dtype \u001B[38;5;241m=\u001B[39m np\u001B[38;5;241m.\u001B[39muint8)\n\u001B[0;32m---> 11\u001B[0m image[:,:] \u001B[38;5;241m=\u001B[39m [\u001B[38;5;241m255\u001B[39m, \u001B[38;5;241m255\u001B[39m, \u001B[38;5;241m255\u001B[39m]\n\u001B[1;32m     12\u001B[0m df \u001B[38;5;241m=\u001B[39m pd\u001B[38;5;241m.\u001B[39mDataFrame(cv2\u001B[38;5;241m.\u001B[39mdrawContours(image,[contours\u001B[38;5;241m.\u001B[39mastype(\u001B[38;5;28mint\u001B[39m)],\u001B[38;5;241m-\u001B[39m\u001B[38;5;241m1\u001B[39m,(\u001B[38;5;241m0\u001B[39m,\u001B[38;5;241m255\u001B[39m,\u001B[38;5;241m0\u001B[39m),\u001B[38;5;241m3\u001B[39m)) \u001B[38;5;66;03m#contourIdx = -1, draw all contours\u001B[39;00m\n\u001B[1;32m     13\u001B[0m dfs\u001B[38;5;241m.\u001B[39mappend(df)\n",
      "\u001B[0;31mValueError\u001B[0m: could not broadcast input array from shape (3) into shape (500,500)"
     ]
    }
   ],
   "source": [
    "import cv2\n",
    "\n",
    "def df_to_mask(coord_df):\n",
    "    dfs = []\n",
    "    for i in np.arange(len(coord_df)):\n",
    "        xx = coord_df.iloc[i].X\n",
    "        yy = coord_df.iloc[i].Y\n",
    "        xy = list(zip(xx,yy))\n",
    "        contours = np.array(xy)\n",
    "        image = np.full((500, 500), 255, dtype = np.uint8)\n",
    "        image[:,:] = [255, 255, 255]\n",
    "        df = pd.DataFrame(cv2.drawContours(image,[contours.astype(int)],-1,(0,255,0),3)) #contourIdx = -1, draw all contours\n",
    "        dfs.append(df)\n",
    "    dfs = pd.concat(dfs)\n",
    "    return dfs\n",
    "\n",
    "mask = df_to_mask(coord_df)\n",
    "mask\n"
   ],
   "metadata": {
    "collapsed": false,
    "pycharm": {
     "name": "#%%\n"
    }
   }
  },
  {
   "cell_type": "code",
   "execution_count": null,
   "outputs": [],
   "source": [],
   "metadata": {
    "collapsed": false,
    "pycharm": {
     "name": "#%%\n"
    }
   }
  }
 ],
 "metadata": {
  "kernelspec": {
   "display_name": "Python 3",
   "language": "python",
   "name": "python3"
  },
  "language_info": {
   "codemirror_mode": {
    "name": "ipython",
    "version": 2
   },
   "file_extension": ".py",
   "mimetype": "text/x-python",
   "name": "python",
   "nbconvert_exporter": "python",
   "pygments_lexer": "ipython2",
   "version": "2.7.6"
  }
 },
 "nbformat": 4,
 "nbformat_minor": 0
}