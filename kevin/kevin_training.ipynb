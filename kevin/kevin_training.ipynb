{
 "cells": [
  {
   "cell_type": "markdown",
   "source": [
    "# Parse XML annotation file with X,Y coordinates and instance ID into a DataFrame"
   ],
   "metadata": {
    "collapsed": false,
    "pycharm": {
     "name": "#%% md\n"
    }
   }
  },
  {
   "cell_type": "code",
   "execution_count": 1,
   "outputs": [],
   "source": [
    "import xml.etree.ElementTree as ET\n",
    "import numpy as np\n",
    "import pandas as pd\n",
    "import matplotlib.pyplot as plt"
   ],
   "metadata": {
    "collapsed": false,
    "pycharm": {
     "name": "#%%\n"
    }
   }
  },
  {
   "cell_type": "code",
   "execution_count": 2,
   "outputs": [],
   "source": [
    "def xml_to_df(xml_filepath):\n",
    "\n",
    "    tree = ET.parse(xml_filepath)\n",
    "    root = tree.getroot()\n",
    "    classlist = []\n",
    "    for Annotation in root.iter(\"Annotation\"):\n",
    "        for Attribute in Annotation.iter(\"Attribute\"):\n",
    "            classlist.append(Attribute.attrib.get('Name'))\n",
    "    classlists = sorted(classlist)\n",
    "    append_df = []\n",
    "    for index, Annotation in enumerate(root.iter(\"Annotation\")):\n",
    "        for Region in Annotation.iter('Region'): #iterate over the Region so we can iterate over id 1 and 2 (two circles):\n",
    "            x = np.array([Vertex.get('X') for Vertex in Region.iter('Vertex')])\n",
    "            y = np.array([Vertex.get('Y') for Vertex in Region.iter('Vertex')])\n",
    "            id = np.array([int(Region.get('Id'))])\n",
    "            classnames = classlists[index]\n",
    "            coord_dict = {\"ClassNames\": [classnames], \"X\": [x], \"Y\": [y], \"ID\": [id]}\n",
    "            df = pd.DataFrame(data = coord_dict)\n",
    "            df.ID = df.ID.astype(int)\n",
    "            append_df.append(df)\n",
    "    coord_df = pd.concat(append_df).reset_index(drop=True)\n",
    "    return(coord_df)"
   ],
   "metadata": {
    "collapsed": false,
    "pycharm": {
     "name": "#%%\n"
    }
   }
  },
  {
   "cell_type": "code",
   "execution_count": 3,
   "outputs": [],
   "source": [
    "# coord_df = xml_to_df(r'\\\\fatherserverdw\\kyuex\\clue images\\annotations\\roi\\labeledmask\\2022-06-07 13.18.40.xml')\n",
    "# coord_df"
   ],
   "metadata": {
    "collapsed": false,
    "pycharm": {
     "name": "#%%\n"
    }
   }
  },
  {
   "cell_type": "markdown",
   "source": [
    "# Convert X,Y Coordinates to Binary Mask and Read and Resize Image:"
   ],
   "metadata": {
    "collapsed": false,
    "pycharm": {
     "name": "#%% md\n"
    }
   }
  },
  {
   "cell_type": "markdown",
   "source": [],
   "metadata": {
    "collapsed": false,
    "pycharm": {
     "name": "#%% md\n"
    }
   }
  },
  {
   "cell_type": "code",
   "execution_count": 4,
   "outputs": [],
   "source": [
    "import openslide\n",
    "import os\n",
    "os.environ[\"OPENCV_IO_MAX_IMAGE_PIXELS\"] = pow(2,40).__str__()\n",
    "import cv2\n",
    "\n",
    "def df_to_image_mask(xml_filepath, ndpi_filepath,downsample_factor):\n",
    "    coord_df = xml_to_df(xml_filepath)\n",
    "    slide = openslide.open_slide(ndpi_filepath)\n",
    "    rgb_dim = slide.dimensions\n",
    "    print(\"Dimension of level 0 of the image is: \",rgb_dim)\n",
    "    slide_level_dim = slide.level_dimensions\n",
    "    num_levels = len(slide_level_dim)\n",
    "    print(\"Number of levels in this image are:\",num_levels)\n",
    "    factors = slide.level_downsamples\n",
    "    print(\"Each level is downsampled by:\",factors)\n",
    "    blank = np.zeros(rgb_dim, dtype = np.uint8) #white\n",
    "    for idx, row in coord_df.iterrows():\n",
    "        xx = row.X.astype('int')\n",
    "        yy = row.Y.astype('int')\n",
    "        xy = list(zip(xx,yy))\n",
    "        contours = np.array(xy)\n",
    "        mask = cv2.fillPoly(blank, pts=[contours.astype(int)], color=idx+1)\n",
    "    target_level = slide.get_best_level_for_downsample(downsample_factor)\n",
    "    target_dim = slide.level_dimensions[target_level]\n",
    "    rsf = [x/y for x,y in zip(rgb_dim,target_dim)]\n",
    "    image_resized = slide.read_region(location=(0,0),level=target_level,size=target_dim)\n",
    "    mask_resized = cv2.resize(mask,[_//round(rsf[0]) for _ in mask.shape],interpolation=cv2.INTER_NEAREST)\n",
    "    return image_resized,mask_resized"
   ],
   "metadata": {
    "collapsed": false,
    "pycharm": {
     "name": "#%%\n"
    }
   }
  },
  {
   "cell_type": "markdown",
   "source": [
    "# Cropping RGB Image with Mask:"
   ],
   "metadata": {
    "collapsed": false,
    "pycharm": {
     "name": "#%% md\n"
    }
   }
  },
  {
   "cell_type": "code",
   "execution_count": 5,
   "outputs": [],
   "source": [
    "# image,mask = df_to_image_mask(r'\\\\fatherserverdw\\kyuex\\clue images\\annotations\\roi\\2022-06-07 13.18.40.xml',r'\\\\fatherserverdw\\kyuex\\clue images\\2022-06-07 13.18.40.ndpi',10)"
   ],
   "metadata": {
    "collapsed": false,
    "pycharm": {
     "name": "#%%\n"
    }
   }
  },
  {
   "cell_type": "code",
   "execution_count": 6,
   "outputs": [],
   "source": [
    "def crop_final_mask(image,mask):\n",
    "    imagearr = np.array(image)\n",
    "    imagearr = imagearr[:,:,:3]\n",
    "    maskarr = np.array(mask)\n",
    "    maskrgb = np.repeat(maskarr[:,:,np.newaxis],3,axis=2)\n",
    "    for tissueID in range(1,np.max(maskrgb[:])): #from first tissue id to end\n",
    "        #masking\n",
    "        masktmp = mask==tissueID #boolean\n",
    "        masktmp = np.repeat(masktmp[:,:,np.newaxis],3,axis=2) #change shape to match shape of imagearr\n",
    "        final_image = np.multiply(imagearr,masktmp)\n",
    "        #crop\n",
    "        [x_crop,y_crop] = np.where(final_image[:,:,0]>0)\n",
    "        cropped_final_image = final_image[np.min(y_crop):np.max(y_crop),np.min(x_crop):np.max(x_crop)]\n",
    "        cropped_final_image = cropped_final_image[:,:,::-1]\n",
    "        return cropped_final_image\n",
    "        #cv2.imwrite(r\"\\\\fatherserverdw\\Kevin\\\\\" + \"final_image\" + str(tissueID) + \".jpg\",cropped_final_image)"
   ],
   "metadata": {
    "collapsed": false,
    "pycharm": {
     "name": "#%%\n"
    }
   }
  },
  {
   "cell_type": "code",
   "execution_count": 7,
   "outputs": [],
   "source": [
    "# crop_final_mask(image,mask)"
   ],
   "metadata": {
    "collapsed": false,
    "pycharm": {
     "name": "#%%\n"
    }
   }
  },
  {
   "cell_type": "markdown",
   "source": [
    "# Now create mask for multiple classes:"
   ],
   "metadata": {
    "collapsed": false,
    "pycharm": {
     "name": "#%% md\n"
    }
   }
  },
  {
   "cell_type": "code",
   "execution_count": 8,
   "outputs": [
    {
     "data": {
      "text/plain": "     ClassNames                                                  X  \\\n0             9  [7833, 7833, 7833, 7834, 7834, 7835, 7835, 783...   \n1             9  [8596, 8597, 8597, 8598, 8598, 8600, 8600, 860...   \n2             9  [10214, 10215, 10215, 10215, 10216, 10216, 102...   \n3             9  [8993, 8992, 8991, 8990, 8990, 8989, 8988, 898...   \n4             9  [7521, 7521, 7521, 7521, 7521, 7522, 7522, 752...   \n..          ...                                                ...   \n144          12  [33402, 33404, 33405, 33406, 33406, 33407, 334...   \n145          12  [39948, 39955, 39959, 39970, 39981, 39989, 400...   \n146          12  [39193, 39189, 39185, 39181, 39178, 39178, 391...   \n147          12  [39767, 39769, 39770, 39772, 39773, 39774, 397...   \n148          12  [42828, 42828, 42829, 42830, 42830, 42832, 428...   \n\n                                                     Y  \n0    [6594, 6593, 6592, 6592, 6591, 6591, 6589, 658...  \n1    [6019, 6019, 6018, 6015, 6014, 6014, 6013, 601...  \n2    [4918, 4918, 4915, 4914, 4914, 4913, 4913, 491...  \n3    [5313, 5313, 5313, 5313, 5315, 5315, 5315, 531...  \n4    [7007, 7006, 7004, 7003, 7002, 7002, 7001, 700...  \n..                                                 ...  \n144  [20590, 20590, 20590, 20590, 20591, 20591, 205...  \n145  [39749, 39749, 39749, 39749, 39749, 39752, 397...  \n146  [37963, 37963, 37974, 37978, 37982, 37986, 379...  \n147  [38084, 38084, 38084, 38085, 38085, 38086, 380...  \n148  [38263, 38262, 38262, 38262, 38261, 38261, 382...  \n\n[149 rows x 3 columns]",
      "text/html": "<div>\n<style scoped>\n    .dataframe tbody tr th:only-of-type {\n        vertical-align: middle;\n    }\n\n    .dataframe tbody tr th {\n        vertical-align: top;\n    }\n\n    .dataframe thead th {\n        text-align: right;\n    }\n</style>\n<table border=\"1\" class=\"dataframe\">\n  <thead>\n    <tr style=\"text-align: right;\">\n      <th></th>\n      <th>ClassNames</th>\n      <th>X</th>\n      <th>Y</th>\n    </tr>\n  </thead>\n  <tbody>\n    <tr>\n      <th>0</th>\n      <td>9</td>\n      <td>[7833, 7833, 7833, 7834, 7834, 7835, 7835, 783...</td>\n      <td>[6594, 6593, 6592, 6592, 6591, 6591, 6589, 658...</td>\n    </tr>\n    <tr>\n      <th>1</th>\n      <td>9</td>\n      <td>[8596, 8597, 8597, 8598, 8598, 8600, 8600, 860...</td>\n      <td>[6019, 6019, 6018, 6015, 6014, 6014, 6013, 601...</td>\n    </tr>\n    <tr>\n      <th>2</th>\n      <td>9</td>\n      <td>[10214, 10215, 10215, 10215, 10216, 10216, 102...</td>\n      <td>[4918, 4918, 4915, 4914, 4914, 4913, 4913, 491...</td>\n    </tr>\n    <tr>\n      <th>3</th>\n      <td>9</td>\n      <td>[8993, 8992, 8991, 8990, 8990, 8989, 8988, 898...</td>\n      <td>[5313, 5313, 5313, 5313, 5315, 5315, 5315, 531...</td>\n    </tr>\n    <tr>\n      <th>4</th>\n      <td>9</td>\n      <td>[7521, 7521, 7521, 7521, 7521, 7522, 7522, 752...</td>\n      <td>[7007, 7006, 7004, 7003, 7002, 7002, 7001, 700...</td>\n    </tr>\n    <tr>\n      <th>...</th>\n      <td>...</td>\n      <td>...</td>\n      <td>...</td>\n    </tr>\n    <tr>\n      <th>144</th>\n      <td>12</td>\n      <td>[33402, 33404, 33405, 33406, 33406, 33407, 334...</td>\n      <td>[20590, 20590, 20590, 20590, 20591, 20591, 205...</td>\n    </tr>\n    <tr>\n      <th>145</th>\n      <td>12</td>\n      <td>[39948, 39955, 39959, 39970, 39981, 39989, 400...</td>\n      <td>[39749, 39749, 39749, 39749, 39749, 39752, 397...</td>\n    </tr>\n    <tr>\n      <th>146</th>\n      <td>12</td>\n      <td>[39193, 39189, 39185, 39181, 39178, 39178, 391...</td>\n      <td>[37963, 37963, 37974, 37978, 37982, 37986, 379...</td>\n    </tr>\n    <tr>\n      <th>147</th>\n      <td>12</td>\n      <td>[39767, 39769, 39770, 39772, 39773, 39774, 397...</td>\n      <td>[38084, 38084, 38084, 38085, 38085, 38086, 380...</td>\n    </tr>\n    <tr>\n      <th>148</th>\n      <td>12</td>\n      <td>[42828, 42828, 42829, 42830, 42830, 42832, 428...</td>\n      <td>[38263, 38262, 38262, 38262, 38261, 38261, 382...</td>\n    </tr>\n  </tbody>\n</table>\n<p>149 rows × 3 columns</p>\n</div>"
     },
     "execution_count": 8,
     "metadata": {},
     "output_type": "execute_result"
    }
   ],
   "source": [
    "# coord_df_1 = xml_to_df(r'\\\\fatherserverdw\\kyuex\\clue images\\annotations\\12class\\unhealthy_wrongbody\\2022-06-07 13.18.40.xml')\n",
    "# coord_df_1 = coord_df_1.drop(columns = [\"ID\"])\n",
    "# dict = {\"corneum\" : 1,\"spinosum\": 2,\"hairshaft\":3,\"hairfollicle\":4,\"smoothmuscle\":5,\"oil\":6,\"sweat\":7,\"nerve\":8,\"bloodvessel\":9,\"ecm\":10,\"fat\":11,\"white\":12}\n",
    "# coord_df_1 = coord_df_1.replace({\"ClassNames\": dict})\n",
    "# coord_df_1.to_pickle(r'\\\\fatherserverdw\\Kevin\\coord_df.pkl')\n",
    "\n",
    "coord_df_1 = pd.read_pickle(r'\\\\fatherserverdw\\Kevin\\coord_df.pkl')\n",
    "coord_df_1"
   ],
   "metadata": {
    "collapsed": false,
    "pycharm": {
     "name": "#%%\n"
    }
   }
  },
  {
   "cell_type": "code",
   "execution_count": null,
   "outputs": [
    {
     "ename": "KeyboardInterrupt",
     "evalue": "",
     "output_type": "error",
     "traceback": [
      "\u001B[1;31m---------------------------------------------------------------------------\u001B[0m",
      "\u001B[1;31mKeyboardInterrupt\u001B[0m                         Traceback (most recent call last)",
      "Input \u001B[1;32mIn [9]\u001B[0m, in \u001B[0;36m<cell line: 38>\u001B[1;34m()\u001B[0m\n\u001B[0;32m     48\u001B[0m masktmp \u001B[38;5;241m=\u001B[39m maskarr\u001B[38;5;241m==\u001B[39m class_number \u001B[38;5;66;03m#boolean\u001B[39;00m\n\u001B[0;32m     49\u001B[0m masktmp \u001B[38;5;241m=\u001B[39m np\u001B[38;5;241m.\u001B[39mrepeat(masktmp[:,:,np\u001B[38;5;241m.\u001B[39mnewaxis],\u001B[38;5;241m3\u001B[39m,axis\u001B[38;5;241m=\u001B[39m\u001B[38;5;241m2\u001B[39m)\n\u001B[1;32m---> 50\u001B[0m masktmp \u001B[38;5;241m=\u001B[39m \u001B[43mmasktmp\u001B[49m\u001B[38;5;241;43m.\u001B[39;49m\u001B[43mastype\u001B[49m\u001B[43m(\u001B[49m\u001B[43mnp\u001B[49m\u001B[38;5;241;43m.\u001B[39;49m\u001B[43muint8\u001B[49m\u001B[43m)\u001B[49m\n\u001B[0;32m     51\u001B[0m plt\u001B[38;5;241m.\u001B[39mimshow(masktmp)\n\u001B[0;32m     52\u001B[0m imagearr \u001B[38;5;241m=\u001B[39m cv2\u001B[38;5;241m.\u001B[39mresize(imagearr,np\u001B[38;5;241m.\u001B[39marray([\u001B[38;5;28mint\u001B[39m(masktmp\u001B[38;5;241m.\u001B[39mshape[\u001B[38;5;241m1\u001B[39m]),\u001B[38;5;28mint\u001B[39m(masktmp\u001B[38;5;241m.\u001B[39mshape[\u001B[38;5;241m0\u001B[39m])]),interpolation\u001B[38;5;241m=\u001B[39mcv2\u001B[38;5;241m.\u001B[39mINTER_NEAREST)\n",
      "\u001B[1;31mKeyboardInterrupt\u001B[0m: "
     ]
    }
   ],
   "source": [
    "#for image:\n",
    "# slide = openslide.open_slide(r'\\\\fatherserverdw\\kyuex\\clue images\\2022-06-07 13.18.40.ndpi')\n",
    "# target_level = slide.get_best_level_for_downsample(10)\n",
    "# target_dim = slide.level_dimensions[target_level]\n",
    "# image = slide.read_region(location=(0,0),level=target_level,size=target_dim)\n",
    "# imagearr = np.array(image)\n",
    "# imagearr = imagearr[:,:,:3]\n",
    "#\n",
    "# xx = coord_df_1.iloc[0,1].astype(\"int\")\n",
    "# yy = coord_df_1.iloc[0,2].astype(\"int\")\n",
    "# xy = list(zip(xx,yy))\n",
    "# contours = np.array(xy)\n",
    "# rgb_dim = (max(xx),max(yy))\n",
    "# blank = np.zeros(rgb_dim, dtype = np.uint8)\n",
    "# class_number = coord_df_1.ClassNames.values[0]\n",
    "# contours = contours.astype('uint8')\n",
    "# mask = cv2.fillPoly(blank, pts=[contours.astype(int)], color=(int(class_number)+1))\n",
    "# maskarr = np.array(mask)\n",
    "# masktmp = maskarr== class_number+1\n",
    "# masktmp = masktmp.astype(np.uint8) #boolean\n",
    "# masktmp = np.repeat(masktmp[:,:,np.newaxis],3,axis=2)\n",
    "# imagearr = cv2.resize(imagearr,np.array([int(masktmp.shape[1]),int(masktmp.shape[0])]),interpolation=cv2.INTER_NEAREST)\n",
    "# final_mask = np.multiply(imagearr,masktmp)\n",
    "# [x_crop,y_crop] = np.where(final_mask[:,:,0]>0)\n",
    "# cropped_final_mask = final_mask[np.min(y_crop):np.max(y_crop),np.min(x_crop):np.max(x_crop)]\n",
    "# plt.imshow(cropped_final_mask)\n",
    "# cv2.imwrite(r\"\\\\fatherserverdw\\Kevin\\multiple_class\\\\\" + \"final_mask\" + str(idx) + \".jpg\",cropped_final_mask)\n",
    "\n",
    "\n",
    "# for loop:\n",
    "\n",
    "slide = openslide.open_slide(r'\\\\fatherserverdw\\kyuex\\clue images\\2022-06-07 13.18.40.ndpi')\n",
    "target_level = slide.get_best_level_for_downsample(10)\n",
    "target_dim = slide.level_dimensions[target_level]\n",
    "image = slide.read_region(location=(0,0),level=target_level,size=target_dim)\n",
    "imagearr = np.array(image)\n",
    "imagearr = imagearr[:,:,:3]\n",
    "for idx, row in coord_df_1.iterrows():\n",
    "    xx = row.X.astype('int')\n",
    "    yy = row.Y.astype('int')\n",
    "    rgb_dim = (int(max(xx)),int(max(yy)))\n",
    "    blank = np.zeros(rgb_dim, dtype = np.uint8)\n",
    "    xy = list(zip(xx-min(xx),yy-min(yy)))\n",
    "    contours = np.array(xy)\n",
    "    class_number = coord_df_1.ClassNames.values[idx]\n",
    "    mask = cv2.fillPoly(blank, pts=[contours.astype(int)], color=(int(class_number)))\n",
    "    maskarr = np.array(mask)\n",
    "    masktmp = maskarr== class_number #boolean\n",
    "    masktmp = np.repeat(masktmp[:,:,np.newaxis],3,axis=2)\n",
    "    masktmp = masktmp.astype(np.uint8)\n",
    "    plt.imshow(masktmp)\n",
    "    imagearr = cv2.resize(imagearr,np.array([int(masktmp.shape[1]),int(masktmp.shape[0])]),interpolation=cv2.INTER_NEAREST)\n",
    "    final_image = np.multiply(imagearr,masktmp) # both 8265x6605x3\n",
    "    [x_crop,y_crop] = np.where(final_image[:,:,0]>0)\n",
    "    cropped_final_image = final_image[np.min(y_crop):np.max(y_crop),np.min(x_crop):800] #np.max(x_crop) is not working for some reason\n",
    "    aaa\n",
    "    #cv2.imwrite(r\"\\\\fatherserverdw\\Kevin\\multiple_class\\\\\" + \"final_image\" + str(idx) + \".jpg\",cropped_final_image)"
   ],
   "metadata": {
    "collapsed": false,
    "pycharm": {
     "name": "#%%\n",
     "is_executing": true
    }
   }
  },
  {
   "cell_type": "code",
   "execution_count": null,
   "outputs": [],
   "source": [
    "plt.imshow(cropped_final_image)"
   ],
   "metadata": {
    "collapsed": false,
    "pycharm": {
     "name": "#%%\n",
     "is_executing": true
    }
   }
  },
  {
   "cell_type": "code",
   "execution_count": null,
   "outputs": [],
   "source": [
    "plt.scatter(xx,yy)\n",
    "#plt.scatter(coord_df_1.iloc[0,1].astype('int'),coord_df_1.iloc[0,2].astype('int'))\n"
   ],
   "metadata": {
    "collapsed": false,
    "pycharm": {
     "name": "#%%\n",
     "is_executing": true
    }
   }
  },
  {
   "cell_type": "markdown",
   "source": [],
   "metadata": {
    "collapsed": false,
    "pycharm": {
     "name": "#%% md\n"
    }
   }
  }
 ],
 "metadata": {
  "kernelspec": {
   "display_name": "Python 3",
   "language": "python",
   "name": "python3"
  },
  "language_info": {
   "codemirror_mode": {
    "name": "ipython",
    "version": 2
   },
   "file_extension": ".py",
   "mimetype": "text/x-python",
   "name": "python",
   "nbconvert_exporter": "python",
   "pygments_lexer": "ipython2",
   "version": "2.7.6"
  }
 },
 "nbformat": 4,
 "nbformat_minor": 0
}