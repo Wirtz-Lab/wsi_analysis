{
 "cells": [
  {
   "cell_type": "code",
   "execution_count": 1,
   "metadata": {
    "collapsed": true
   },
   "outputs": [],
   "source": [
    "from PIL import Image\n",
    "Image.MAX_IMAGE_PIXELS = None\n",
    "from glob import glob\n",
    "import numpy as np\n",
    "import pandas as pd\n",
    "import cv2\n",
    "import os\n",
    "from matplotlib import pyplot as plt\n",
    "from skimage.morphology import remove_small_objects, remove_small_holes\n",
    "import seaborn as sns\n",
    "import re"
   ]
  },
  {
   "cell_type": "code",
   "execution_count": 2,
   "outputs": [],
   "source": [
    "import matplotlib as mpl\n",
    "mpl.rcParams['savefig.format'] = 'svg'\n",
    "from matplotlib import pyplot as plt\n",
    "import matplotlib.font_manager as fm\n",
    "from matplotlib.cm import get_cmap\n",
    "import pywintypes\n",
    "# import addcopyfighandler\n",
    "mpl.use('Qt5Agg')"
   ],
   "metadata": {
    "collapsed": false
   }
  },
  {
   "cell_type": "code",
   "execution_count": 3,
   "outputs": [],
   "source": [
    "mask_files_path =  [_ for _ in os.listdir(r'\\\\fatherserverdw\\Kevin\\imageregistration2\\padded_masks') if _.endswith(\".png\")]\n",
    "mask_files_path_complete = [os.path.join(r'\\\\fatherserverdw\\Kevin\\imageregistration2\\padded_masks', x) for x in mask_files_path]\n",
    "mask_files_path_1 = [x.replace('.png','') for x in mask_files_path]\n",
    "\n",
    "mask_img = Image.open(mask_files_path_complete[0])\n",
    "mask_ra = np.array(mask_img)\n",
    "ta = np.array(mask_ra)\n",
    "ta2 = (0<ta) &  (ta<12)\n",
    "ta3 = remove_small_objects(ta2,1000000)\n",
    "ta4 = remove_small_holes(ta3,100000)\n",
    "composition = ta[ta4]\n",
    "hist = np.bincount(composition,)\n",
    "hist = hist/np.sum(hist)*100\n",
    "count_list = list(hist)\n",
    "del(count_list[0])\n",
    "count_list = [np.round(x,3) for x in count_list]\n",
    "class_list = list(['corneum','spinosum','hairshaft','hairfollicle','smoothmuscle','oil','sweat','nerve','bloodvessel','ecm','fat','white'])\n",
    "ratio_class_dict = dict(zip(class_list,count_list))\n",
    "ratio_df = pd.DataFrame.from_dict(ratio_class_dict,orient='index')"
   ],
   "metadata": {
    "collapsed": false
   }
  },
  {
   "cell_type": "code",
   "execution_count": 4,
   "outputs": [
    {
     "data": {
      "text/plain": "                   1       4       7      10      13      16      19      22  \\\ncorneum        1.798   1.339   1.273   1.348   1.462   1.368   1.374   1.262   \nspinosum       2.752   1.973   1.797   1.718   1.811   1.847   1.744   1.702   \nhairshaft      0.721   0.278   0.252   0.375   0.174   0.156   0.190   0.189   \nhairfollicle   0.630   0.225   0.231   0.269   0.193   0.195   0.236   0.197   \nsmoothmuscle   1.073   0.236   0.340   0.444   0.364   0.300   0.252   0.329   \noil            2.299   0.671   0.741   0.546   0.651   0.266   0.591   0.597   \nsweat          0.911   0.561   0.586   0.625   0.559   0.515   0.593   0.606   \nnerve          0.495   0.331   0.327   0.309   0.346   0.324   0.338   0.277   \nbloodvessel    3.054   2.265   2.658   3.216   2.728   2.394   2.759   2.546   \necm           65.367  55.928  55.828  54.573  57.832  59.642  58.802  57.464   \nfat            7.351  12.851  12.146  11.336  12.073  11.326  11.415  11.883   \nwhite         13.549  23.342  23.821  25.241  21.806  21.668  21.706  22.949   \n\n                  25      28  ...      73      76      79      82      85  \\\ncorneum        1.306   1.349  ...   1.410   1.575   1.273   1.320   1.406   \nspinosum       1.649   1.726  ...   1.569   1.475   1.587   1.893   1.649   \nhairshaft      0.163   0.187  ...   0.186   0.101   0.197   0.270   0.205   \nhairfollicle   0.142   0.164  ...   0.202   0.105   0.221   0.261   0.189   \nsmoothmuscle   0.260   0.333  ...   0.620   0.381   0.371   0.462   0.504   \noil            0.645   0.698  ...   0.432   0.588   1.015   0.521   1.753   \nsweat          0.532   0.597  ...   0.687   0.484   0.628   0.544   0.644   \nnerve          0.265   0.263  ...   0.301   0.258   0.326   0.291   0.334   \nbloodvessel    2.540   2.665  ...   3.419   2.347   3.023   2.857   2.884   \necm           56.655  57.635  ...  62.322  58.420  64.773  63.196  63.454   \nfat           11.953  11.899  ...   9.658  11.157   8.942  10.663   9.621   \nwhite         23.889  22.483  ...  19.192  23.108  17.644  17.722  17.356   \n\n                  88      91      94      97     100  \ncorneum        1.430   1.318   1.410   1.552   1.555  \nspinosum       1.808   1.696   2.109   2.575   2.756  \nhairshaft      0.167   0.190   0.486   0.363   0.340  \nhairfollicle   0.241   0.240   0.429   0.460   0.468  \nsmoothmuscle   0.609   0.757   1.286   2.898   1.804  \noil            2.217   2.340   2.508   2.533   2.301  \nsweat          0.828   0.816   0.942   1.182   1.035  \nnerve          0.355   0.307   0.361   0.530   0.473  \nbloodvessel    3.361   2.857   3.551   3.725   3.178  \necm           66.784  65.766  68.933  64.358  65.777  \nfat            7.570   8.020   5.794   6.211   6.539  \nwhite         14.629  15.692  12.192  13.614  13.775  \n\n[12 rows x 34 columns]",
      "text/html": "<div>\n<style scoped>\n    .dataframe tbody tr th:only-of-type {\n        vertical-align: middle;\n    }\n\n    .dataframe tbody tr th {\n        vertical-align: top;\n    }\n\n    .dataframe thead th {\n        text-align: right;\n    }\n</style>\n<table border=\"1\" class=\"dataframe\">\n  <thead>\n    <tr style=\"text-align: right;\">\n      <th></th>\n      <th>1</th>\n      <th>4</th>\n      <th>7</th>\n      <th>10</th>\n      <th>13</th>\n      <th>16</th>\n      <th>19</th>\n      <th>22</th>\n      <th>25</th>\n      <th>28</th>\n      <th>...</th>\n      <th>73</th>\n      <th>76</th>\n      <th>79</th>\n      <th>82</th>\n      <th>85</th>\n      <th>88</th>\n      <th>91</th>\n      <th>94</th>\n      <th>97</th>\n      <th>100</th>\n    </tr>\n  </thead>\n  <tbody>\n    <tr>\n      <th>corneum</th>\n      <td>1.798</td>\n      <td>1.339</td>\n      <td>1.273</td>\n      <td>1.348</td>\n      <td>1.462</td>\n      <td>1.368</td>\n      <td>1.374</td>\n      <td>1.262</td>\n      <td>1.306</td>\n      <td>1.349</td>\n      <td>...</td>\n      <td>1.410</td>\n      <td>1.575</td>\n      <td>1.273</td>\n      <td>1.320</td>\n      <td>1.406</td>\n      <td>1.430</td>\n      <td>1.318</td>\n      <td>1.410</td>\n      <td>1.552</td>\n      <td>1.555</td>\n    </tr>\n    <tr>\n      <th>spinosum</th>\n      <td>2.752</td>\n      <td>1.973</td>\n      <td>1.797</td>\n      <td>1.718</td>\n      <td>1.811</td>\n      <td>1.847</td>\n      <td>1.744</td>\n      <td>1.702</td>\n      <td>1.649</td>\n      <td>1.726</td>\n      <td>...</td>\n      <td>1.569</td>\n      <td>1.475</td>\n      <td>1.587</td>\n      <td>1.893</td>\n      <td>1.649</td>\n      <td>1.808</td>\n      <td>1.696</td>\n      <td>2.109</td>\n      <td>2.575</td>\n      <td>2.756</td>\n    </tr>\n    <tr>\n      <th>hairshaft</th>\n      <td>0.721</td>\n      <td>0.278</td>\n      <td>0.252</td>\n      <td>0.375</td>\n      <td>0.174</td>\n      <td>0.156</td>\n      <td>0.190</td>\n      <td>0.189</td>\n      <td>0.163</td>\n      <td>0.187</td>\n      <td>...</td>\n      <td>0.186</td>\n      <td>0.101</td>\n      <td>0.197</td>\n      <td>0.270</td>\n      <td>0.205</td>\n      <td>0.167</td>\n      <td>0.190</td>\n      <td>0.486</td>\n      <td>0.363</td>\n      <td>0.340</td>\n    </tr>\n    <tr>\n      <th>hairfollicle</th>\n      <td>0.630</td>\n      <td>0.225</td>\n      <td>0.231</td>\n      <td>0.269</td>\n      <td>0.193</td>\n      <td>0.195</td>\n      <td>0.236</td>\n      <td>0.197</td>\n      <td>0.142</td>\n      <td>0.164</td>\n      <td>...</td>\n      <td>0.202</td>\n      <td>0.105</td>\n      <td>0.221</td>\n      <td>0.261</td>\n      <td>0.189</td>\n      <td>0.241</td>\n      <td>0.240</td>\n      <td>0.429</td>\n      <td>0.460</td>\n      <td>0.468</td>\n    </tr>\n    <tr>\n      <th>smoothmuscle</th>\n      <td>1.073</td>\n      <td>0.236</td>\n      <td>0.340</td>\n      <td>0.444</td>\n      <td>0.364</td>\n      <td>0.300</td>\n      <td>0.252</td>\n      <td>0.329</td>\n      <td>0.260</td>\n      <td>0.333</td>\n      <td>...</td>\n      <td>0.620</td>\n      <td>0.381</td>\n      <td>0.371</td>\n      <td>0.462</td>\n      <td>0.504</td>\n      <td>0.609</td>\n      <td>0.757</td>\n      <td>1.286</td>\n      <td>2.898</td>\n      <td>1.804</td>\n    </tr>\n    <tr>\n      <th>oil</th>\n      <td>2.299</td>\n      <td>0.671</td>\n      <td>0.741</td>\n      <td>0.546</td>\n      <td>0.651</td>\n      <td>0.266</td>\n      <td>0.591</td>\n      <td>0.597</td>\n      <td>0.645</td>\n      <td>0.698</td>\n      <td>...</td>\n      <td>0.432</td>\n      <td>0.588</td>\n      <td>1.015</td>\n      <td>0.521</td>\n      <td>1.753</td>\n      <td>2.217</td>\n      <td>2.340</td>\n      <td>2.508</td>\n      <td>2.533</td>\n      <td>2.301</td>\n    </tr>\n    <tr>\n      <th>sweat</th>\n      <td>0.911</td>\n      <td>0.561</td>\n      <td>0.586</td>\n      <td>0.625</td>\n      <td>0.559</td>\n      <td>0.515</td>\n      <td>0.593</td>\n      <td>0.606</td>\n      <td>0.532</td>\n      <td>0.597</td>\n      <td>...</td>\n      <td>0.687</td>\n      <td>0.484</td>\n      <td>0.628</td>\n      <td>0.544</td>\n      <td>0.644</td>\n      <td>0.828</td>\n      <td>0.816</td>\n      <td>0.942</td>\n      <td>1.182</td>\n      <td>1.035</td>\n    </tr>\n    <tr>\n      <th>nerve</th>\n      <td>0.495</td>\n      <td>0.331</td>\n      <td>0.327</td>\n      <td>0.309</td>\n      <td>0.346</td>\n      <td>0.324</td>\n      <td>0.338</td>\n      <td>0.277</td>\n      <td>0.265</td>\n      <td>0.263</td>\n      <td>...</td>\n      <td>0.301</td>\n      <td>0.258</td>\n      <td>0.326</td>\n      <td>0.291</td>\n      <td>0.334</td>\n      <td>0.355</td>\n      <td>0.307</td>\n      <td>0.361</td>\n      <td>0.530</td>\n      <td>0.473</td>\n    </tr>\n    <tr>\n      <th>bloodvessel</th>\n      <td>3.054</td>\n      <td>2.265</td>\n      <td>2.658</td>\n      <td>3.216</td>\n      <td>2.728</td>\n      <td>2.394</td>\n      <td>2.759</td>\n      <td>2.546</td>\n      <td>2.540</td>\n      <td>2.665</td>\n      <td>...</td>\n      <td>3.419</td>\n      <td>2.347</td>\n      <td>3.023</td>\n      <td>2.857</td>\n      <td>2.884</td>\n      <td>3.361</td>\n      <td>2.857</td>\n      <td>3.551</td>\n      <td>3.725</td>\n      <td>3.178</td>\n    </tr>\n    <tr>\n      <th>ecm</th>\n      <td>65.367</td>\n      <td>55.928</td>\n      <td>55.828</td>\n      <td>54.573</td>\n      <td>57.832</td>\n      <td>59.642</td>\n      <td>58.802</td>\n      <td>57.464</td>\n      <td>56.655</td>\n      <td>57.635</td>\n      <td>...</td>\n      <td>62.322</td>\n      <td>58.420</td>\n      <td>64.773</td>\n      <td>63.196</td>\n      <td>63.454</td>\n      <td>66.784</td>\n      <td>65.766</td>\n      <td>68.933</td>\n      <td>64.358</td>\n      <td>65.777</td>\n    </tr>\n    <tr>\n      <th>fat</th>\n      <td>7.351</td>\n      <td>12.851</td>\n      <td>12.146</td>\n      <td>11.336</td>\n      <td>12.073</td>\n      <td>11.326</td>\n      <td>11.415</td>\n      <td>11.883</td>\n      <td>11.953</td>\n      <td>11.899</td>\n      <td>...</td>\n      <td>9.658</td>\n      <td>11.157</td>\n      <td>8.942</td>\n      <td>10.663</td>\n      <td>9.621</td>\n      <td>7.570</td>\n      <td>8.020</td>\n      <td>5.794</td>\n      <td>6.211</td>\n      <td>6.539</td>\n    </tr>\n    <tr>\n      <th>white</th>\n      <td>13.549</td>\n      <td>23.342</td>\n      <td>23.821</td>\n      <td>25.241</td>\n      <td>21.806</td>\n      <td>21.668</td>\n      <td>21.706</td>\n      <td>22.949</td>\n      <td>23.889</td>\n      <td>22.483</td>\n      <td>...</td>\n      <td>19.192</td>\n      <td>23.108</td>\n      <td>17.644</td>\n      <td>17.722</td>\n      <td>17.356</td>\n      <td>14.629</td>\n      <td>15.692</td>\n      <td>12.192</td>\n      <td>13.614</td>\n      <td>13.775</td>\n    </tr>\n  </tbody>\n</table>\n<p>12 rows × 34 columns</p>\n</div>"
     },
     "execution_count": 4,
     "metadata": {},
     "output_type": "execute_result"
    }
   ],
   "source": [
    "# class_list = list(['corneum','spinosum','hairshaft','hairfollicle','smoothmuscle','oil','sweat','nerve','bloodvessel','ecm','fat','white'])\n",
    "for idx in range(1,len(mask_files_path_complete)):\n",
    "    mask_img = Image.open(mask_files_path_complete[idx])\n",
    "    mask_ra = np.array(mask_img)\n",
    "    ta = np.array(mask_ra)\n",
    "    ta2 = (0<ta) &  (ta<12)\n",
    "    ta3 = remove_small_objects(ta2,1000000)\n",
    "    ta4 = remove_small_holes(ta3,100000)\n",
    "    composition = ta[ta4]\n",
    "    hist = np.bincount(composition,)\n",
    "    hist = hist/np.sum(hist)*100\n",
    "    count_list = list(hist)\n",
    "    del(count_list[0])\n",
    "    count_list = [np.round(x,3) for x in count_list]\n",
    "    ratio_class_dict = dict(zip(class_list,count_list))\n",
    "    tmp_df = pd.DataFrame.from_dict(ratio_class_dict,orient='index')\n",
    "    ratio_df = pd.concat([ratio_df,pd.DataFrame.from_dict(tmp_df)],axis=1)\n",
    "\n",
    "ratio_df.columns = mask_files_path_1\n",
    "col_names = ratio_df.columns\n",
    "new_col_names = [re.findall(r'\\d+',x)[1] for x in col_names]\n",
    "ratio_df.columns = new_col_names\n",
    "ratio_df\n"
   ],
   "metadata": {
    "collapsed": false
   }
  },
  {
   "cell_type": "code",
   "execution_count": 5,
   "outputs": [
    {
     "data": {
      "text/plain": "     corneum  spinosum  hairshaft  hairfollicle  smoothmuscle    oil  sweat  \\\n1      1.798     2.752      0.721         0.630         1.073  2.299  0.911   \n4      1.339     1.973      0.278         0.225         0.236  0.671  0.561   \n7      1.273     1.797      0.252         0.231         0.340  0.741  0.586   \n10     1.348     1.718      0.375         0.269         0.444  0.546  0.625   \n13     1.462     1.811      0.174         0.193         0.364  0.651  0.559   \n16     1.368     1.847      0.156         0.195         0.300  0.266  0.515   \n19     1.374     1.744      0.190         0.236         0.252  0.591  0.593   \n22     1.262     1.702      0.189         0.197         0.329  0.597  0.606   \n25     1.306     1.649      0.163         0.142         0.260  0.645  0.532   \n28     1.349     1.726      0.187         0.164         0.333  0.698  0.597   \n31     1.326     1.728      0.191         0.165         0.240  0.794  0.574   \n34     1.246     1.521      0.232         0.176         0.201  0.855  0.582   \n37     1.525     1.709      0.291         0.233         0.277  0.954  0.572   \n40     1.814     1.694      0.192         0.173         0.190  1.003  0.474   \n43     1.525     1.845      0.175         0.209         0.252  0.961  0.656   \n46     1.638     2.067      0.245         0.239         0.386  0.706  0.612   \n49     1.241     1.652      0.158         0.180         0.262  0.480  0.446   \n52     1.274     1.820      0.262         0.295         0.269  0.697  0.735   \n55     1.189     2.355      0.226         0.264         0.876  0.890  0.944   \n58     1.147     1.623      0.089         0.137         0.248  0.871  0.711   \n61     1.290     1.558      0.145         0.174         0.298  1.042  0.715   \n64     1.327     1.654      0.218         0.182         0.439  0.758  0.988   \n67     1.159     1.530      0.157         0.136         0.469  0.374  0.863   \n70     1.290     1.509      0.142         0.108         0.378  0.317  0.694   \n73     1.410     1.569      0.186         0.202         0.620  0.432  0.687   \n76     1.575     1.475      0.101         0.105         0.381  0.588  0.484   \n79     1.273     1.587      0.197         0.221         0.371  1.015  0.628   \n82     1.320     1.893      0.270         0.261         0.462  0.521  0.544   \n85     1.406     1.649      0.205         0.189         0.504  1.753  0.644   \n88     1.430     1.808      0.167         0.241         0.609  2.217  0.828   \n91     1.318     1.696      0.190         0.240         0.757  2.340  0.816   \n94     1.410     2.109      0.486         0.429         1.286  2.508  0.942   \n97     1.552     2.575      0.363         0.460         2.898  2.533  1.182   \n100    1.555     2.756      0.340         0.468         1.804  2.301  1.035   \n\n     nerve  bloodvessel     ecm     fat   white  \n1    0.495        3.054  65.367   7.351  13.549  \n4    0.331        2.265  55.928  12.851  23.342  \n7    0.327        2.658  55.828  12.146  23.821  \n10   0.309        3.216  54.573  11.336  25.241  \n13   0.346        2.728  57.832  12.073  21.806  \n16   0.324        2.394  59.642  11.326  21.668  \n19   0.338        2.759  58.802  11.415  21.706  \n22   0.277        2.546  57.464  11.883  22.949  \n25   0.265        2.540  56.655  11.953  23.889  \n28   0.263        2.665  57.635  11.899  22.483  \n31   0.321        2.537  58.444  11.429  22.248  \n34   0.300        1.875  57.233  11.487  24.293  \n37   0.317        2.756  57.569  12.175  21.622  \n40   0.252        1.860  56.928  12.715  22.704  \n43   0.244        2.177  56.192  12.725  23.040  \n46   0.252        2.366  54.918  13.647  22.924  \n49   0.283        2.201  62.167  10.857  20.071  \n52   0.326        2.284  62.481  11.898  17.659  \n55   0.271        2.774  52.461  16.750  21.000  \n58   0.392        2.442  59.192  11.555  21.593  \n61   0.276        2.772  55.039  14.187  22.504  \n64   0.328        3.108  55.850  13.567  21.580  \n67   0.257        2.823  59.736  10.773  21.724  \n70   0.229        2.342  60.963  11.196  20.831  \n73   0.301        3.419  62.322   9.658  19.192  \n76   0.258        2.347  58.420  11.157  23.108  \n79   0.326        3.023  64.773   8.942  17.644  \n82   0.291        2.857  63.196  10.663  17.722  \n85   0.334        2.884  63.454   9.621  17.356  \n88   0.355        3.361  66.784   7.570  14.629  \n91   0.307        2.857  65.766   8.020  15.692  \n94   0.361        3.551  68.933   5.794  12.192  \n97   0.530        3.725  64.358   6.211  13.614  \n100  0.473        3.178  65.777   6.539  13.775  ",
      "text/html": "<div>\n<style scoped>\n    .dataframe tbody tr th:only-of-type {\n        vertical-align: middle;\n    }\n\n    .dataframe tbody tr th {\n        vertical-align: top;\n    }\n\n    .dataframe thead th {\n        text-align: right;\n    }\n</style>\n<table border=\"1\" class=\"dataframe\">\n  <thead>\n    <tr style=\"text-align: right;\">\n      <th></th>\n      <th>corneum</th>\n      <th>spinosum</th>\n      <th>hairshaft</th>\n      <th>hairfollicle</th>\n      <th>smoothmuscle</th>\n      <th>oil</th>\n      <th>sweat</th>\n      <th>nerve</th>\n      <th>bloodvessel</th>\n      <th>ecm</th>\n      <th>fat</th>\n      <th>white</th>\n    </tr>\n  </thead>\n  <tbody>\n    <tr>\n      <th>1</th>\n      <td>1.798</td>\n      <td>2.752</td>\n      <td>0.721</td>\n      <td>0.630</td>\n      <td>1.073</td>\n      <td>2.299</td>\n      <td>0.911</td>\n      <td>0.495</td>\n      <td>3.054</td>\n      <td>65.367</td>\n      <td>7.351</td>\n      <td>13.549</td>\n    </tr>\n    <tr>\n      <th>4</th>\n      <td>1.339</td>\n      <td>1.973</td>\n      <td>0.278</td>\n      <td>0.225</td>\n      <td>0.236</td>\n      <td>0.671</td>\n      <td>0.561</td>\n      <td>0.331</td>\n      <td>2.265</td>\n      <td>55.928</td>\n      <td>12.851</td>\n      <td>23.342</td>\n    </tr>\n    <tr>\n      <th>7</th>\n      <td>1.273</td>\n      <td>1.797</td>\n      <td>0.252</td>\n      <td>0.231</td>\n      <td>0.340</td>\n      <td>0.741</td>\n      <td>0.586</td>\n      <td>0.327</td>\n      <td>2.658</td>\n      <td>55.828</td>\n      <td>12.146</td>\n      <td>23.821</td>\n    </tr>\n    <tr>\n      <th>10</th>\n      <td>1.348</td>\n      <td>1.718</td>\n      <td>0.375</td>\n      <td>0.269</td>\n      <td>0.444</td>\n      <td>0.546</td>\n      <td>0.625</td>\n      <td>0.309</td>\n      <td>3.216</td>\n      <td>54.573</td>\n      <td>11.336</td>\n      <td>25.241</td>\n    </tr>\n    <tr>\n      <th>13</th>\n      <td>1.462</td>\n      <td>1.811</td>\n      <td>0.174</td>\n      <td>0.193</td>\n      <td>0.364</td>\n      <td>0.651</td>\n      <td>0.559</td>\n      <td>0.346</td>\n      <td>2.728</td>\n      <td>57.832</td>\n      <td>12.073</td>\n      <td>21.806</td>\n    </tr>\n    <tr>\n      <th>16</th>\n      <td>1.368</td>\n      <td>1.847</td>\n      <td>0.156</td>\n      <td>0.195</td>\n      <td>0.300</td>\n      <td>0.266</td>\n      <td>0.515</td>\n      <td>0.324</td>\n      <td>2.394</td>\n      <td>59.642</td>\n      <td>11.326</td>\n      <td>21.668</td>\n    </tr>\n    <tr>\n      <th>19</th>\n      <td>1.374</td>\n      <td>1.744</td>\n      <td>0.190</td>\n      <td>0.236</td>\n      <td>0.252</td>\n      <td>0.591</td>\n      <td>0.593</td>\n      <td>0.338</td>\n      <td>2.759</td>\n      <td>58.802</td>\n      <td>11.415</td>\n      <td>21.706</td>\n    </tr>\n    <tr>\n      <th>22</th>\n      <td>1.262</td>\n      <td>1.702</td>\n      <td>0.189</td>\n      <td>0.197</td>\n      <td>0.329</td>\n      <td>0.597</td>\n      <td>0.606</td>\n      <td>0.277</td>\n      <td>2.546</td>\n      <td>57.464</td>\n      <td>11.883</td>\n      <td>22.949</td>\n    </tr>\n    <tr>\n      <th>25</th>\n      <td>1.306</td>\n      <td>1.649</td>\n      <td>0.163</td>\n      <td>0.142</td>\n      <td>0.260</td>\n      <td>0.645</td>\n      <td>0.532</td>\n      <td>0.265</td>\n      <td>2.540</td>\n      <td>56.655</td>\n      <td>11.953</td>\n      <td>23.889</td>\n    </tr>\n    <tr>\n      <th>28</th>\n      <td>1.349</td>\n      <td>1.726</td>\n      <td>0.187</td>\n      <td>0.164</td>\n      <td>0.333</td>\n      <td>0.698</td>\n      <td>0.597</td>\n      <td>0.263</td>\n      <td>2.665</td>\n      <td>57.635</td>\n      <td>11.899</td>\n      <td>22.483</td>\n    </tr>\n    <tr>\n      <th>31</th>\n      <td>1.326</td>\n      <td>1.728</td>\n      <td>0.191</td>\n      <td>0.165</td>\n      <td>0.240</td>\n      <td>0.794</td>\n      <td>0.574</td>\n      <td>0.321</td>\n      <td>2.537</td>\n      <td>58.444</td>\n      <td>11.429</td>\n      <td>22.248</td>\n    </tr>\n    <tr>\n      <th>34</th>\n      <td>1.246</td>\n      <td>1.521</td>\n      <td>0.232</td>\n      <td>0.176</td>\n      <td>0.201</td>\n      <td>0.855</td>\n      <td>0.582</td>\n      <td>0.300</td>\n      <td>1.875</td>\n      <td>57.233</td>\n      <td>11.487</td>\n      <td>24.293</td>\n    </tr>\n    <tr>\n      <th>37</th>\n      <td>1.525</td>\n      <td>1.709</td>\n      <td>0.291</td>\n      <td>0.233</td>\n      <td>0.277</td>\n      <td>0.954</td>\n      <td>0.572</td>\n      <td>0.317</td>\n      <td>2.756</td>\n      <td>57.569</td>\n      <td>12.175</td>\n      <td>21.622</td>\n    </tr>\n    <tr>\n      <th>40</th>\n      <td>1.814</td>\n      <td>1.694</td>\n      <td>0.192</td>\n      <td>0.173</td>\n      <td>0.190</td>\n      <td>1.003</td>\n      <td>0.474</td>\n      <td>0.252</td>\n      <td>1.860</td>\n      <td>56.928</td>\n      <td>12.715</td>\n      <td>22.704</td>\n    </tr>\n    <tr>\n      <th>43</th>\n      <td>1.525</td>\n      <td>1.845</td>\n      <td>0.175</td>\n      <td>0.209</td>\n      <td>0.252</td>\n      <td>0.961</td>\n      <td>0.656</td>\n      <td>0.244</td>\n      <td>2.177</td>\n      <td>56.192</td>\n      <td>12.725</td>\n      <td>23.040</td>\n    </tr>\n    <tr>\n      <th>46</th>\n      <td>1.638</td>\n      <td>2.067</td>\n      <td>0.245</td>\n      <td>0.239</td>\n      <td>0.386</td>\n      <td>0.706</td>\n      <td>0.612</td>\n      <td>0.252</td>\n      <td>2.366</td>\n      <td>54.918</td>\n      <td>13.647</td>\n      <td>22.924</td>\n    </tr>\n    <tr>\n      <th>49</th>\n      <td>1.241</td>\n      <td>1.652</td>\n      <td>0.158</td>\n      <td>0.180</td>\n      <td>0.262</td>\n      <td>0.480</td>\n      <td>0.446</td>\n      <td>0.283</td>\n      <td>2.201</td>\n      <td>62.167</td>\n      <td>10.857</td>\n      <td>20.071</td>\n    </tr>\n    <tr>\n      <th>52</th>\n      <td>1.274</td>\n      <td>1.820</td>\n      <td>0.262</td>\n      <td>0.295</td>\n      <td>0.269</td>\n      <td>0.697</td>\n      <td>0.735</td>\n      <td>0.326</td>\n      <td>2.284</td>\n      <td>62.481</td>\n      <td>11.898</td>\n      <td>17.659</td>\n    </tr>\n    <tr>\n      <th>55</th>\n      <td>1.189</td>\n      <td>2.355</td>\n      <td>0.226</td>\n      <td>0.264</td>\n      <td>0.876</td>\n      <td>0.890</td>\n      <td>0.944</td>\n      <td>0.271</td>\n      <td>2.774</td>\n      <td>52.461</td>\n      <td>16.750</td>\n      <td>21.000</td>\n    </tr>\n    <tr>\n      <th>58</th>\n      <td>1.147</td>\n      <td>1.623</td>\n      <td>0.089</td>\n      <td>0.137</td>\n      <td>0.248</td>\n      <td>0.871</td>\n      <td>0.711</td>\n      <td>0.392</td>\n      <td>2.442</td>\n      <td>59.192</td>\n      <td>11.555</td>\n      <td>21.593</td>\n    </tr>\n    <tr>\n      <th>61</th>\n      <td>1.290</td>\n      <td>1.558</td>\n      <td>0.145</td>\n      <td>0.174</td>\n      <td>0.298</td>\n      <td>1.042</td>\n      <td>0.715</td>\n      <td>0.276</td>\n      <td>2.772</td>\n      <td>55.039</td>\n      <td>14.187</td>\n      <td>22.504</td>\n    </tr>\n    <tr>\n      <th>64</th>\n      <td>1.327</td>\n      <td>1.654</td>\n      <td>0.218</td>\n      <td>0.182</td>\n      <td>0.439</td>\n      <td>0.758</td>\n      <td>0.988</td>\n      <td>0.328</td>\n      <td>3.108</td>\n      <td>55.850</td>\n      <td>13.567</td>\n      <td>21.580</td>\n    </tr>\n    <tr>\n      <th>67</th>\n      <td>1.159</td>\n      <td>1.530</td>\n      <td>0.157</td>\n      <td>0.136</td>\n      <td>0.469</td>\n      <td>0.374</td>\n      <td>0.863</td>\n      <td>0.257</td>\n      <td>2.823</td>\n      <td>59.736</td>\n      <td>10.773</td>\n      <td>21.724</td>\n    </tr>\n    <tr>\n      <th>70</th>\n      <td>1.290</td>\n      <td>1.509</td>\n      <td>0.142</td>\n      <td>0.108</td>\n      <td>0.378</td>\n      <td>0.317</td>\n      <td>0.694</td>\n      <td>0.229</td>\n      <td>2.342</td>\n      <td>60.963</td>\n      <td>11.196</td>\n      <td>20.831</td>\n    </tr>\n    <tr>\n      <th>73</th>\n      <td>1.410</td>\n      <td>1.569</td>\n      <td>0.186</td>\n      <td>0.202</td>\n      <td>0.620</td>\n      <td>0.432</td>\n      <td>0.687</td>\n      <td>0.301</td>\n      <td>3.419</td>\n      <td>62.322</td>\n      <td>9.658</td>\n      <td>19.192</td>\n    </tr>\n    <tr>\n      <th>76</th>\n      <td>1.575</td>\n      <td>1.475</td>\n      <td>0.101</td>\n      <td>0.105</td>\n      <td>0.381</td>\n      <td>0.588</td>\n      <td>0.484</td>\n      <td>0.258</td>\n      <td>2.347</td>\n      <td>58.420</td>\n      <td>11.157</td>\n      <td>23.108</td>\n    </tr>\n    <tr>\n      <th>79</th>\n      <td>1.273</td>\n      <td>1.587</td>\n      <td>0.197</td>\n      <td>0.221</td>\n      <td>0.371</td>\n      <td>1.015</td>\n      <td>0.628</td>\n      <td>0.326</td>\n      <td>3.023</td>\n      <td>64.773</td>\n      <td>8.942</td>\n      <td>17.644</td>\n    </tr>\n    <tr>\n      <th>82</th>\n      <td>1.320</td>\n      <td>1.893</td>\n      <td>0.270</td>\n      <td>0.261</td>\n      <td>0.462</td>\n      <td>0.521</td>\n      <td>0.544</td>\n      <td>0.291</td>\n      <td>2.857</td>\n      <td>63.196</td>\n      <td>10.663</td>\n      <td>17.722</td>\n    </tr>\n    <tr>\n      <th>85</th>\n      <td>1.406</td>\n      <td>1.649</td>\n      <td>0.205</td>\n      <td>0.189</td>\n      <td>0.504</td>\n      <td>1.753</td>\n      <td>0.644</td>\n      <td>0.334</td>\n      <td>2.884</td>\n      <td>63.454</td>\n      <td>9.621</td>\n      <td>17.356</td>\n    </tr>\n    <tr>\n      <th>88</th>\n      <td>1.430</td>\n      <td>1.808</td>\n      <td>0.167</td>\n      <td>0.241</td>\n      <td>0.609</td>\n      <td>2.217</td>\n      <td>0.828</td>\n      <td>0.355</td>\n      <td>3.361</td>\n      <td>66.784</td>\n      <td>7.570</td>\n      <td>14.629</td>\n    </tr>\n    <tr>\n      <th>91</th>\n      <td>1.318</td>\n      <td>1.696</td>\n      <td>0.190</td>\n      <td>0.240</td>\n      <td>0.757</td>\n      <td>2.340</td>\n      <td>0.816</td>\n      <td>0.307</td>\n      <td>2.857</td>\n      <td>65.766</td>\n      <td>8.020</td>\n      <td>15.692</td>\n    </tr>\n    <tr>\n      <th>94</th>\n      <td>1.410</td>\n      <td>2.109</td>\n      <td>0.486</td>\n      <td>0.429</td>\n      <td>1.286</td>\n      <td>2.508</td>\n      <td>0.942</td>\n      <td>0.361</td>\n      <td>3.551</td>\n      <td>68.933</td>\n      <td>5.794</td>\n      <td>12.192</td>\n    </tr>\n    <tr>\n      <th>97</th>\n      <td>1.552</td>\n      <td>2.575</td>\n      <td>0.363</td>\n      <td>0.460</td>\n      <td>2.898</td>\n      <td>2.533</td>\n      <td>1.182</td>\n      <td>0.530</td>\n      <td>3.725</td>\n      <td>64.358</td>\n      <td>6.211</td>\n      <td>13.614</td>\n    </tr>\n    <tr>\n      <th>100</th>\n      <td>1.555</td>\n      <td>2.756</td>\n      <td>0.340</td>\n      <td>0.468</td>\n      <td>1.804</td>\n      <td>2.301</td>\n      <td>1.035</td>\n      <td>0.473</td>\n      <td>3.178</td>\n      <td>65.777</td>\n      <td>6.539</td>\n      <td>13.775</td>\n    </tr>\n  </tbody>\n</table>\n</div>"
     },
     "execution_count": 5,
     "metadata": {},
     "output_type": "execute_result"
    }
   ],
   "source": [
    "ratio_df.T"
   ],
   "metadata": {
    "collapsed": false
   }
  },
  {
   "cell_type": "code",
   "execution_count": null,
   "outputs": [],
   "source": [
    "ratio_df_T = ratio_df.T\n",
    "plt.figure(figsize=(10,5))\n",
    "plt.ylim(0,27)\n",
    "plt.ylabel(\"[%]\")\n",
    "plt.xlabel(\"Z-Axis\")\n",
    "plt.title(\"Tissue composition along serial section of human skin before registration\")\n",
    "sns.lineplot(data = ratio_df_T)\n",
    "plt.show()"
   ],
   "metadata": {
    "collapsed": false
   }
  },
  {
   "cell_type": "code",
   "execution_count": null,
   "outputs": [],
   "source": [
    "mask_files_path =  [_ for _ in os.listdir(r'\\\\fatherserverdw\\Kevin\\imageregistration2\\registered_masks') if _.endswith(\".png\")]\n",
    "mask_files_path_complete = [os.path.join(r'\\\\fatherserverdw\\Kevin\\imageregistration2\\registered_masks', x) for x in mask_files_path]\n",
    "mask_files_path_1 = [x.replace('.png','') for x in mask_files_path]\n",
    "\n",
    "mask_img = Image.open(mask_files_path_complete[0])\n",
    "mask_ra = np.array(mask_img)\n",
    "ta = np.array(mask_ra)\n",
    "ta2 = (0<ta) &  (ta<12)\n",
    "ta3 = remove_small_objects(ta2,1000000)\n",
    "ta4 = remove_small_holes(ta3,100000)\n",
    "composition = ta[ta4]\n",
    "hist = np.bincount(composition,)\n",
    "hist = hist/np.sum(hist)*100\n",
    "count_list = list(hist)\n",
    "del(count_list[0])\n",
    "count_list = [np.round(x,3) for x in count_list]\n",
    "class_list = list(['corneum','spinosum','hairshaft','hairfollicle','smoothmuscle','oil','sweat','nerve','bloodvessel','ecm','fat','white'])\n",
    "ratio_class_dict = dict(zip(class_list,count_list))\n",
    "ratio_df1 = pd.DataFrame.from_dict(ratio_class_dict,orient='index')"
   ],
   "metadata": {
    "collapsed": false
   }
  },
  {
   "cell_type": "code",
   "execution_count": null,
   "outputs": [],
   "source": [
    "# class_list = list(['corneum','spinosum','hairshaft','hairfollicle','smoothmuscle','oil','sweat','nerve','bloodvessel','ecm','fat','white'])\n",
    "for idx in range(1,len(mask_files_path_complete)):\n",
    "    mask_img = Image.open(mask_files_path_complete[idx])\n",
    "    mask_ra = np.array(mask_img)\n",
    "    ta = np.array(mask_ra)\n",
    "    ta2 = (0<ta) &  (ta<12)\n",
    "    ta3 = remove_small_objects(ta2,1000000)\n",
    "    ta4 = remove_small_holes(ta3,100000)\n",
    "    composition = ta[ta4]\n",
    "    hist = np.bincount(composition,)\n",
    "    hist = hist/np.sum(hist)*100\n",
    "    count_list = list(hist)\n",
    "    del(count_list[0])\n",
    "    count_list = [np.round(x,3) for x in count_list]\n",
    "    ratio_class_dict = dict(zip(class_list,count_list))\n",
    "    tmp_df = pd.DataFrame.from_dict(ratio_class_dict,orient='index')\n",
    "    ratio_df1 = pd.concat([ratio_df1,pd.DataFrame.from_dict(tmp_df)],axis=1)\n",
    "\n",
    "ratio_df1.columns = mask_files_path_1\n",
    "col_names = ratio_df1.columns\n",
    "new_col_names = [re.findall(r'\\d+',x)[1] for x in col_names]\n",
    "ratio_df1.columns = new_col_names\n",
    "ratio_df1"
   ],
   "metadata": {
    "collapsed": false
   }
  },
  {
   "cell_type": "code",
   "execution_count": null,
   "outputs": [],
   "source": [
    "ratio_df1_T = ratio_df1.T\n",
    "plt.figure(figsize=(10,5))\n",
    "plt.ylim(0,27)\n",
    "plt.ylabel(\"[%]\")\n",
    "plt.xlabel(\"Z-Axis\")\n",
    "plt.title(\"Tissue composition along serial section of human skin after registration\")\n",
    "sns.lineplot(data = ratio_df1_T)\n",
    "plt.show()"
   ],
   "metadata": {
    "collapsed": false
   }
  },
  {
   "cell_type": "code",
   "execution_count": null,
   "outputs": [],
   "source": [
    "diff_df = ratio_df1 - ratio_df\n",
    "diff_df"
   ],
   "metadata": {
    "collapsed": false
   }
  },
  {
   "cell_type": "markdown",
   "source": [
    "### Now do the same, but plot the moving average before/after registration (tells us how many slices we need for the each parts to \"converge\":"
   ],
   "metadata": {
    "collapsed": false
   }
  },
  {
   "cell_type": "code",
   "execution_count": null,
   "outputs": [],
   "source": [
    "running_avg_df = ratio_df.iloc[:,0]\n",
    "for idx in range(2,len(mask_files_path_complete)+1):\n",
    "    sliced_df = ratio_df.iloc[:,0:idx]\n",
    "    avg_df = sliced_df.mean(axis=1)\n",
    "    running_avg_df = pd.concat([running_avg_df,avg_df],axis=1)\n",
    "running_avg_df.columns = ratio_df.columns\n",
    "running_avg_df"
   ],
   "metadata": {
    "collapsed": false
   }
  },
  {
   "cell_type": "code",
   "execution_count": null,
   "outputs": [],
   "source": [
    "running_avg_df_T = running_avg_df.T\n",
    "plt.figure(figsize=(10,5))\n",
    "plt.ylim(0,27)\n",
    "plt.ylabel(\"[%]\")\n",
    "plt.xlabel(\"Z-Axis\")\n",
    "plt.title(\"Running average of tissue composition along serial section of human skin before registration\")\n",
    "sns.lineplot(data = running_avg_df_T)\n",
    "plt.show()"
   ],
   "metadata": {
    "collapsed": false
   }
  },
  {
   "cell_type": "code",
   "execution_count": null,
   "outputs": [],
   "source": [
    "running_avg_df1 = ratio_df1.iloc[:,0]\n",
    "for idx in range(2,len(mask_files_path_complete)+1):\n",
    "    sliced_df1 = ratio_df1.iloc[:,0:idx]\n",
    "    avg_df1 = sliced_df1.mean(axis=1)\n",
    "    running_avg_df1 = pd.concat([running_avg_df1,avg_df1],axis=1)\n",
    "running_avg_df1.columns = ratio_df1.columns\n",
    "running_avg_df1"
   ],
   "metadata": {
    "collapsed": false
   }
  },
  {
   "cell_type": "code",
   "execution_count": null,
   "outputs": [],
   "source": [
    "running_avg_df1_T = running_avg_df1.T\n",
    "plt.figure(figsize=(10,5))\n",
    "plt.ylim(0,27)\n",
    "plt.ylabel(\"[%]\")\n",
    "plt.xlabel(\"Z-Axis\")\n",
    "plt.title(\"Running average of tissue composition along serial section of human skin after registration\")\n",
    "sns.lineplot(data = running_avg_df1_T)\n",
    "plt.show()"
   ],
   "metadata": {
    "collapsed": false
   }
  },
  {
   "cell_type": "code",
   "execution_count": null,
   "outputs": [],
   "source": [
    "diff_df1 = running_avg_df1 - running_avg_df\n",
    "diff_df1"
   ],
   "metadata": {
    "collapsed": false
   }
  },
  {
   "cell_type": "markdown",
   "source": [
    "## Can see that after registration, we see increase of fat, blood vessel and decrease of ecm and white compared to before registration.\n",
    "## Find two examples that have the highest differences so that we can compare by image:"
   ],
   "metadata": {
    "collapsed": false
   }
  },
  {
   "cell_type": "code",
   "execution_count": null,
   "outputs": [],
   "source": [
    "diff_df"
   ],
   "metadata": {
    "collapsed": false
   }
  },
  {
   "cell_type": "code",
   "execution_count": null,
   "outputs": [],
   "source": [
    "temp_df = diff_df.iloc[-4:,]\n",
    "for idx in range(4):\n",
    "    temp_df.iloc[idx:,] = temp_df.iloc[idx:,].abs()\n",
    "temp_df_sum = temp_df.mean(axis=0)\n",
    "print(np.argmax(temp_df_sum))\n",
    "mask_files_path_complete[11]  #11, 34th slide"
   ],
   "metadata": {
    "collapsed": false
   }
  },
  {
   "cell_type": "code",
   "execution_count": null,
   "outputs": [],
   "source": [],
   "metadata": {
    "collapsed": false
   }
  }
 ],
 "metadata": {
  "kernelspec": {
   "display_name": "Python 3",
   "language": "python",
   "name": "python3"
  },
  "language_info": {
   "codemirror_mode": {
    "name": "ipython",
    "version": 2
   },
   "file_extension": ".py",
   "mimetype": "text/x-python",
   "name": "python",
   "nbconvert_exporter": "python",
   "pygments_lexer": "ipython2",
   "version": "2.7.6"
  }
 },
 "nbformat": 4,
 "nbformat_minor": 0
}
