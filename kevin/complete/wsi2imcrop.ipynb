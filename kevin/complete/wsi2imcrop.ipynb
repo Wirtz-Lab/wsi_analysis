{
 "cells": [
  {
   "cell_type": "code",
   "execution_count": 6,
   "metadata": {
    "collapsed": true
   },
   "outputs": [],
   "source": [
    "from PIL import Image\n",
    "Image.MAX_IMAGE_PIXELS = None\n",
    "from glob import glob\n",
    "import os\n",
    "import cv2\n",
    "from openslide import OpenSlide\n",
    "from skimage.measure import label\n",
    "import numpy as np\n",
    "from matplotlib import pyplot as plt"
   ]
  },
  {
   "cell_type": "code",
   "execution_count": 2,
   "outputs": [],
   "source": [
    "img_files_path = [_ for _ in os.listdir(r'\\\\fatherserverdw\\kyuex\\image\\CLUE\\3D study\\he\\4xr_jpg') if _.endswith(\".jpg\")]\n",
    "img_files_path_png = [x.replace('.jpg','.png') for x in img_files_path]"
   ],
   "metadata": {
    "collapsed": false
   }
  },
  {
   "cell_type": "code",
   "execution_count": 3,
   "outputs": [],
   "source": [
    "ndpi = r'\\\\fatherserverdw\\kyuex\\image\\CLUE\\3D study\\he\\c1'\n",
    "ndpis = glob(os.path.join(ndpi,'*.ndpi'))\n",
    "\n",
    "mask = r'\\\\fatherserverdw\\kyuex\\image\\CLUE\\3D study\\he\\c1\\1um\\classification_v9_combined'\n",
    "masks = glob(os.path.join(mask,'*.tif'))\n",
    "\n",
    "binary_mask = r'\\\\fatherserverdw\\kyuex\\image\\CLUE\\3D study\\he\\c1\\TA'\n",
    "binary_masks = glob(os.path.join(binary_mask,'*.png'))"
   ],
   "metadata": {
    "collapsed": false
   }
  },
  {
   "cell_type": "markdown",
   "source": [
    "### Crop whole slide image, its respective whole slide mask, and then also crop the binary mask together: (note they all have different sizes so you have to use the ratios)"
   ],
   "metadata": {
    "collapsed": false
   }
  },
  {
   "cell_type": "code",
   "execution_count": null,
   "outputs": [],
   "source": [
    "# for i in range(len(ndpis)):\n",
    "#     wsi = OpenSlide(ndpis[i])\n",
    "#     target_level = 4\n",
    "#     wsi_im = wsi.read_region(location=(0,0),level=target_level,size=wsi.level_dimensions[target_level])\n",
    "#\n",
    "#     fn = os.path.basename(ndpis[i])\n",
    "#     fn,ext = os.path.splitext(fn)\n",
    "#     TAsrc = r'\\\\fatherserverdw\\kyuex\\image\\CLUE\\3D study\\he\\c1\\TA'\n",
    "#     TA = os.path.join(TAsrc,fn+'.png')\n",
    "#     bw = Image.open(TA)\n",
    "#     labeledbw = label(np.array(bw))\n",
    "#\n",
    "#     target_tissue = 4\n",
    "#     bwtarget = labeledbw == target_tissue\n",
    "#\n",
    "#     ind = np.argwhere(bwtarget)\n",
    "#     margin = 30\n",
    "#     bbox = [np.min(ind[:,0]),np.min(ind[:,1]),np.max(ind[:,0]),np.max(ind[:,1])] #[miny,minx,maxy,maxx]\n",
    "#     bboxm = [bbox[0]-margin,bbox[1]-margin,bbox[2]+margin,bbox[3]+margin]\n",
    "#     bwcropm = bwtarget[bboxm[0]:bboxm[2],bboxm[1]:bboxm[3]]\n",
    "#\n",
    "#     wsi_arr = np.array(wsi_im)\n",
    "#     wsisz = wsi_arr.shape\n",
    "#     bwsz = bwtarget.shape\n",
    "#     rsf = wsisz[0]/bwsz[0]\n",
    "#     bboxm2 = [round(_*rsf) for _ in bboxm]\n",
    "#     imcropm = wsi_arr[bboxm2[0]:bboxm2[2],bboxm2[1]:bboxm2[3]]\n",
    "#\n",
    "#     im_mask = np.array(Image.open(masks[i]))\n",
    "#     ratio = im_mask.shape[0]/wsi_arr.shape[0]\n",
    "#     immaskm = im_mask[round(bboxm2[0]*ratio):round(bboxm2[2]*ratio),round(bboxm2[1]*ratio):round(bboxm2[3]*ratio)]\n",
    "#\n",
    "#     im_binary_mask = np.array(Image.open(binary_masks[i]))\n",
    "#     ratio = im_binary_mask.shape[0]/wsi_arr.shape[0]\n",
    "#     im_binary_mask_m = im_binary_mask[round(bboxm2[0]*ratio):round(bboxm2[2]*ratio),round(bboxm2[1]*ratio):round(bboxm2[3]*ratio)]\n",
    "#\n",
    "#     imcropm_src = r'\\\\fatherserverdw\\Kevin\\imageregistration2\\images'\n",
    "#     immaskm_src = r'\\\\fatherserverdw\\Kevin\\imageregistration2\\masks'\n",
    "#     im_binary_mask_src = r'\\\\fatherserverdw\\Kevin\\imageregistration2\\binary_mask_wsi'\n",
    "#\n",
    "#     Image.fromarray(imcropm).save(os.path.join(imcropm_src,img_files_path_png[i]))\n",
    "#     Image.fromarray(immaskm).save(os.path.join(immaskm_src,img_files_path_png[i]))\n",
    "#     Image.fromarray(im_binary_mask_m).save(os.path.join(im_binary_mask_src,img_files_path_png[i]))\n",
    "#     #save imcropm,immaskm,im_binary_mask_m"
   ],
   "metadata": {
    "collapsed": false,
    "pycharm": {
     "is_executing": true
    }
   }
  },
  {
   "cell_type": "markdown",
   "source": [
    "### Now, Resize binary masks in binary_mask_wsi to the same size of the padded masks, which is all 5352 x 6328."
   ],
   "metadata": {
    "collapsed": false
   }
  },
  {
   "cell_type": "code",
   "execution_count": 14,
   "outputs": [],
   "source": [
    "binary_mask_files_name = [_ for _ in os.listdir(r'\\\\fatherserverdw\\Kevin\\imageregistration2\\binary_mask_wsi') if _.endswith(\".png\")]\n",
    "bin_mask = r'\\\\fatherserverdw\\Kevin\\imageregistration2\\binary_mask_wsi'\n",
    "bin_masks = glob(os.path.join(bin_mask,'*.png'))\n",
    "im_binary_mask_resized_src = r'\\\\fatherserverdw\\Kevin\\imageregistration2\\binary_mask_wsi\\resized'\n",
    "padded_mask_ex = Image.open(r'\\\\fatherserverdw\\Kevin\\imageregistration2\\padded_masks\\z0001_1C1.png')\n",
    "dim_padded_masks = padded_mask_ex.size"
   ],
   "metadata": {
    "collapsed": false
   }
  },
  {
   "cell_type": "code",
   "execution_count": null,
   "outputs": [],
   "source": [
    "for i in range(len(binary_mask_files_name)):\n",
    "    temp = cv2.imread(bin_masks[i])\n",
    "    resize_bin_mask = cv2.resize(temp,dim_padded_masks,interpolation=cv2.INTER_CUBIC)\n",
    "    resize_bin_mask = cv2.cvtColor(resize_bin_mask, cv2.COLOR_BGR2GRAY)\n",
    "    tmp_src = os.path.join(im_binary_mask_resized_src,binary_mask_files_name[i])\n",
    "    cv2.imwrite(tmp_src,resize_bin_mask)"
   ],
   "metadata": {
    "collapsed": false,
    "pycharm": {
     "is_executing": true
    }
   }
  },
  {
   "cell_type": "markdown",
   "source": [],
   "metadata": {
    "collapsed": false
   }
  }
 ],
 "metadata": {
  "kernelspec": {
   "display_name": "Python 3",
   "language": "python",
   "name": "python3"
  },
  "language_info": {
   "codemirror_mode": {
    "name": "ipython",
    "version": 2
   },
   "file_extension": ".py",
   "mimetype": "text/x-python",
   "name": "python",
   "nbconvert_exporter": "python",
   "pygments_lexer": "ipython2",
   "version": "2.7.6"
  }
 },
 "nbformat": 4,
 "nbformat_minor": 0
}
