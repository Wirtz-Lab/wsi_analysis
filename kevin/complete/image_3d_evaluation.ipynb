{
 "cells": [
  {
   "cell_type": "markdown",
   "source": [
    "### Optical flow algorithm explained in: https://www.ipol.im/pub/art/2013/26/article.pdf"
   ],
   "metadata": {
    "collapsed": false
   }
  },
  {
   "cell_type": "code",
   "execution_count": 2,
   "metadata": {
    "collapsed": true
   },
   "outputs": [],
   "source": [
    "import numpy as np\n",
    "import os\n",
    "from matplotlib import pyplot as plt\n",
    "from PIL import Image\n",
    "from mpl_toolkits.mplot3d import Axes3D\n",
    "import cv2\n",
    "import skimage.io as io\n",
    "from copy import deepcopy, copy\n",
    "import time"
   ]
  },
  {
   "cell_type": "code",
   "execution_count": 3,
   "outputs": [],
   "source": [
    "#downsize all images by factor of 100 (already done):\n",
    "# img_files_path = [_ for _ in os.listdir(r'\\\\fatherserverdw\\Kevin\\imageregistration\\registered_images') if _.endswith(\".png\")]\n",
    "# img_files_path_complete = [os.path.join(r'\\\\fatherserverdw\\Kevin\\imageregistration\\registered_images', x) for x in img_files_path]\n",
    "\n",
    "# ex_img = Image.open(img_files_path_complete[0])\n",
    "# scale_percent = 1\n",
    "# width = int(ex_img.size[1] * scale_percent / 100)\n",
    "# height = int(ex_img.size[0] * scale_percent / 100)\n",
    "# dim = (width, height)\n",
    "# for idx in range(len(img_files_path_complete)):\n",
    "#     img = Image.open(img_files_path_complete[idx])\n",
    "#     img_ra = np.array(img)\n",
    "#     resize_img = cv2.resize(img_ra,dim,interpolation = cv2.INTER_AREA)\n",
    "#     resize_img = cv2.cvtColor(resize_img, cv2.COLOR_BGR2RGB)\n",
    "#     dstpth = os.path.join(r'\\\\fatherserverdw\\Kevin\\imageregistration\\registered_images\\downsized',img_files_path[idx])\n",
    "#     cv2.imwrite(dstpth,resize_img)"
   ],
   "metadata": {
    "collapsed": false
   }
  },
  {
   "cell_type": "code",
   "execution_count": 4,
   "outputs": [],
   "source": [
    "resize_img_files_path = [_ for _ in os.listdir(r'\\\\fatherserverdw\\Kevin\\imageregistration\\registered_images\\downsized') if _.endswith(\".png\")]\n",
    "resize_img_files_path_complete = [os.path.join(r'\\\\fatherserverdw\\Kevin\\imageregistration\\registered_images\\downsized', x) for x in resize_img_files_path]"
   ],
   "metadata": {
    "collapsed": false
   }
  },
  {
   "cell_type": "code",
   "execution_count": 5,
   "outputs": [],
   "source": [
    "# sample_ig = cv2.imread(r'C:\\Users\\choke\\Desktop\\z0004_4c1.png')\n",
    "# sample_ig1 = cv2.imread(r'C:\\Users\\choke\\Desktop\\z0007_7c1.png')\n",
    "# sample_ig_path = r'C:\\Users\\choke\\Desktop\\z0004_4c1.png'\n",
    "# sample_ig1_path = r'C:\\Users\\choke\\Desktop\\z0007_7c1.png'\n",
    "# cv2.imwrite(r'C:\\Users\\choke\\Desktop\\z0004_4c1.tif',sample_ig)\n",
    "# tif_pic = Image.open(r'C:\\Users\\choke\\Desktop\\z0004_4c1.tif')\n",
    "im_list = io.imread_collection(resize_img_files_path_complete)\n",
    "im_3d = im_list.concatenate()"
   ],
   "metadata": {
    "collapsed": false
   }
  },
  {
   "cell_type": "code",
   "execution_count": 12,
   "outputs": [],
   "source": [
    "#downsize all images by factor of 10 (already done) with renamed for 3DSlicer:\n",
    "img_files_path = [_ for _ in os.listdir(r'\\\\fatherserverdw\\Kevin\\imageregistration\\registered_images') if _.endswith(\".png\")]\n",
    "img_files_path_complete = [os.path.join(r'\\\\fatherserverdw\\Kevin\\imageregistration\\registered_images', x) for x in img_files_path]\n",
    "\n",
    "ex_img = Image.open(img_files_path_complete[0])\n",
    "scale_percent = 10\n",
    "width = int(ex_img.size[1] * scale_percent / 100)\n",
    "height = int(ex_img.size[0] * scale_percent / 100)\n",
    "dim = (width, height)\n",
    "for idx in range(len(img_files_path_complete)):\n",
    "    img = Image.open(img_files_path_complete[idx])\n",
    "    img_ra = np.array(img)\n",
    "    resize_img = cv2.resize(img_ra,dim,interpolation = cv2.INTER_AREA)\n",
    "    resize_img = cv2.cvtColor(resize_img, cv2.COLOR_BGR2RGB)\n",
    "    dstpth = os.path.join(r'\\\\fatherserverdw\\Kevin\\imageregistration\\registered_images\\downsized_3Dslicer','img' + str(idx)+'.png')\n",
    "    cv2.imwrite(dstpth,resize_img)"
   ],
   "metadata": {
    "collapsed": false
   }
  },
  {
   "cell_type": "code",
   "execution_count": 6,
   "outputs": [],
   "source": [
    "#downsize all images by factor of 10 (already done) with renamed for 3DSlicer:\n",
    "mask_files_path = [_ for _ in os.listdir(r'\\\\fatherserverdw\\Kevin\\imageregistration2\\registered_masks') if _.endswith(\".png\")]\n",
    "mask_files_path_complete = [os.path.join(r'\\\\fatherserverdw\\Kevin\\imageregistration2\\registered_masks', x) for x in mask_files_path]\n",
    "\n",
    "ex_mask = Image.open(mask_files_path_complete[0])\n",
    "scale_percent = 10\n",
    "width = int(ex_mask.size[1] * scale_percent / 100)\n",
    "height = int(ex_mask.size[0] * scale_percent / 100)\n",
    "dim = (width, height)\n",
    "for idx in range(len(mask_files_path_complete)):\n",
    "    img = Image.open(mask_files_path_complete[idx])\n",
    "    img_ra = np.array(img)\n",
    "    resize_img = cv2.resize(img_ra,dim,interpolation = cv2.INTER_AREA)\n",
    "    # resize_img = cv2.cvtColor(resize_img, cv2.COLOR_BGR2RGB)\n",
    "    dstpth = os.path.join(r'\\\\fatherserverdw\\Kevin\\imageregistration2\\registered_masks\\downsized_registered_masks','img' + str(idx)+'.png')\n",
    "    cv2.imwrite(dstpth,resize_img)"
   ],
   "metadata": {
    "collapsed": false
   }
  },
  {
   "cell_type": "code",
   "execution_count": null,
   "outputs": [],
   "source": [
    "# im_list = io.imread_collection(resize_img_files_path_complete)\n",
    "# im_3d = im_list.concatenate()\n",
    "# im_3d.shape\n",
    "# # im_3d_new = im_3d.transpose(1,2,0,3)\n",
    "#\n",
    "# imlist = im_3d\n",
    "# binaries = []\n",
    "# colors = []\n",
    "#\n",
    "# start = time.time()\n",
    "#\n",
    "# for im in imlist:\n",
    "#     binary = im[:,:,1]>5 #230\n",
    "#     binaries.append(binary)\n",
    "#     color = deepcopy(im)\n",
    "#     color[~binary] = [0,0,0]\n",
    "#     color = color/255\n",
    "#     color = color.astype(np.object)\n",
    "#     colors.append(color)\n",
    "# binaries = np.array(binaries)\n",
    "# colors = np.array(colors)\n",
    "#\n",
    "# ax = plt.figure().add_subplot(projection='3d')\n",
    "# ax.voxels(binaries, facecolors=colors, edgecolors = colors, shade=None)\n",
    "# end = time.time()\n",
    "# print(\"time it took to register: \"+  str(end-start) + \" seconds\")\n",
    "#\n",
    "# plt.show()"
   ],
   "metadata": {
    "collapsed": false,
    "pycharm": {
     "is_executing": true
    }
   }
  },
  {
   "cell_type": "code",
   "execution_count": null,
   "outputs": [],
   "source": [
    "# # plot one image first:\n",
    "# test_im_list = resize_img_files_path_complete\n",
    "# test_im_list = io.imread_collection(test_im_list)\n",
    "# test_im_3d = test_im_list.concatenate()\n",
    "#\n",
    "# #compile tissue binary masks and their rgb values\n",
    "# imlist = test_im_3d\n",
    "# binaries = []\n",
    "# colors = []\n",
    "# for im in imlist[0:4]:\n",
    "#     binary = (150 < im[:, :, 0]) & (im[:, :, 1] < 210)\n",
    "#     binaries.append(binary)\n",
    "#     color = copy(im)\n",
    "#     color[~binary] = [0,0,0]\n",
    "#     color = color/255\n",
    "#     # a_ra = np.ones(color.shape) * 0.5\n",
    "#     # color = np.dstack((color,a_ra[:,:,1])) #rgba\n",
    "#     colors.append(color)"
   ],
   "metadata": {
    "collapsed": false,
    "pycharm": {
     "is_executing": true
    }
   }
  },
  {
   "cell_type": "code",
   "execution_count": null,
   "outputs": [],
   "source": [
    "# binaries = np.array(binaries)\n",
    "# colors = np.array(colors)\n",
    "# binaries.shape,colors.shape #N,X,Y,C"
   ],
   "metadata": {
    "collapsed": false,
    "pycharm": {
     "is_executing": true
    }
   }
  },
  {
   "cell_type": "code",
   "execution_count": null,
   "outputs": [],
   "source": [
    "# ax = plt.figure().add_subplot(projection='3d')\n",
    "# voxel_obj = ax.voxels(binaries, facecolors=colors, edgecolors = 'k', shade=False)\n",
    "# # plt.show()"
   ],
   "metadata": {
    "collapsed": false,
    "pycharm": {
     "is_executing": true
    }
   }
  },
  {
   "cell_type": "code",
   "execution_count": null,
   "outputs": [],
   "source": [
    "# from skimage.morphology import closing, square, remove_small_objects, remove_small_holes\n",
    "# from skimage.segmentation import clear_border"
   ],
   "metadata": {
    "collapsed": false,
    "pycharm": {
     "is_executing": true
    }
   }
  },
  {
   "cell_type": "code",
   "execution_count": null,
   "outputs": [],
   "source": [
    "# bw = (150 < im[:, :, 0]) & (im[:, :, 1] < 210)\n",
    "# bw = closing(bw, square(3))\n",
    "# ## below lines could be useful to post process tissue binary mask\n",
    "# # minTA = 900 #resolution sensitive\n",
    "# # bw = remove_small_objects(bw, min_size=minTA, connectivity=2)\n",
    "# # minTAhole = 40 #resolution sensitive\n",
    "# # bw = remove_small_holes(bw, area_threshold=minTAhole)\n",
    "# # bw = clear_border(bw)\n",
    "# Image.fromarray(bw)"
   ],
   "metadata": {
    "collapsed": false,
    "pycharm": {
     "is_executing": true
    }
   }
  },
  {
   "cell_type": "code",
   "execution_count": null,
   "outputs": [],
   "source": [
    "# start = time.time()\n",
    "#\n",
    "#\n",
    "# imlist = []\n",
    "# binaries = []\n",
    "# colors = []\n",
    "# for im in imlist:\n",
    "#     binary = im[:,:,1]>230\n",
    "#     binaries.append(binary)\n",
    "#     color = deepcopy(im)\n",
    "#     color[~binary] = [0,0,0]\n",
    "#     color = color.astype(np.object)\n",
    "#     colors.append(color)\n",
    "# binaries = np.array(binaries)\n",
    "# colors = np.array(colors)\n",
    "#\n",
    "# ax = plt.figure().add_subplot(projection='3d')\n",
    "# ax.voxels(binaries, facecolors=colors, edgecolor='k')\n",
    "#\n",
    "#\n",
    "# end = time.time()\n",
    "# print(\"time it took to register: \"+  str(end-start) + \" seconds\")"
   ],
   "metadata": {
    "collapsed": false,
    "pycharm": {
     "is_executing": true
    }
   }
  },
  {
   "cell_type": "code",
   "execution_count": null,
   "outputs": [],
   "source": [
    "\n",
    "# start = time.time()\n",
    "#\n",
    "# X, Y= np.mgrid[-3164:3164:1, -2676:2676:1]\n",
    "# fig = plt.figure()\n",
    "# ax = fig.gca(projection='3d')\n",
    "# for i in np.linspace(0,33, num=34):\n",
    "#     Z = np.zeros(X.shape)+i\n",
    "#     idx = int(i)\n",
    "#     ig = Image.open(img_files_path_complete[idx])\n",
    "#     ig = np.array(ig).astype(np.float32)\n",
    "#     ig = ig / 255\n",
    "#     T = ig\n",
    "#     final_fig = ax.plot_surface(X, Y, Z, facecolors=T, linewidth=0, alpha = 0.5, cstride\n",
    "#         = 10, rstride = 10)\n",
    "# plt.show()\n",
    "#\n",
    "# end = time.time()\n",
    "# print(\"time it took to register: \"+  str(end-start) + \" seconds\")\n",
    "# #save finalfig"
   ],
   "metadata": {
    "collapsed": false,
    "pycharm": {
     "is_executing": true
    }
   }
  },
  {
   "cell_type": "code",
   "execution_count": null,
   "outputs": [],
   "source": [
    "# from mayavi import mlab\n",
    "# from mayavi.mlab import surf\n",
    "# start = time.time()\n",
    "#\n",
    "# X, Y = np.mgrid[-3164:3164:1, -2676:2676:1]\n",
    "#\n",
    "# for i in np.linspace(0,33, num=34):\n",
    "#     Z = np.zeros(X.shape)+i\n",
    "#     idx = int(i)\n",
    "#     ig = Image.open(img_files_path_complete[idx])\n",
    "#     ig = np.array(ig).astype(np.float32)\n",
    "#     ig = ig / 255\n",
    "#     ig = tuple(map(tuple, ig))\n",
    "#     clr = ig\n",
    "# surf(X,Y,Z,color = clr,warp_scale = \"auto\")\n",
    "# mlab.show()\n",
    "#\n",
    "# end = time.time()\n",
    "# print(\"time it took to register: \"+  str(end-start) + \" seconds\")"
   ],
   "metadata": {
    "collapsed": false,
    "pycharm": {
     "is_executing": true
    }
   }
  }
 ],
 "metadata": {
  "kernelspec": {
   "display_name": "Python 3",
   "language": "python",
   "name": "python3"
  },
  "language_info": {
   "codemirror_mode": {
    "name": "ipython",
    "version": 2
   },
   "file_extension": ".py",
   "mimetype": "text/x-python",
   "name": "python",
   "nbconvert_exporter": "python",
   "pygments_lexer": "ipython2",
   "version": "2.7.6"
  }
 },
 "nbformat": 4,
 "nbformat_minor": 0
}
