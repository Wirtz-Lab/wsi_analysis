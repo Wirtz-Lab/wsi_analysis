{
 "cells": [
  {
   "cell_type": "code",
   "execution_count": 12,
   "metadata": {
    "collapsed": true
   },
   "outputs": [],
   "source": [
    "from PIL import Image\n",
    "Image.MAX_IMAGE_PIXELS = None\n",
    "from glob import glob\n",
    "import numpy as np\n",
    "import pandas as pd\n",
    "import cv2\n",
    "import os\n",
    "from matplotlib import pyplot as plt\n",
    "from skimage.morphology import remove_small_objects, remove_small_holes\n",
    "import seaborn as sns\n",
    "import re"
   ]
  },
  {
   "cell_type": "code",
   "execution_count": 13,
   "outputs": [],
   "source": [
    "import matplotlib as mpl\n",
    "mpl.rcParams['savefig.format'] = 'svg'\n",
    "from matplotlib import pyplot as plt\n",
    "import matplotlib.font_manager as fm\n",
    "from matplotlib.cm import get_cmap\n",
    "import pywintypes\n",
    "import addcopyfighandler\n",
    "mpl.use('Qt5Agg')"
   ],
   "metadata": {
    "collapsed": false
   }
  },
  {
   "cell_type": "code",
   "execution_count": 14,
   "outputs": [],
   "source": [
    "mask_files_path =  [_ for _ in os.listdir(r'\\\\fatherserverdw\\Kevin\\imageregistration2\\padded_masks') if _.endswith(\".png\")]\n",
    "mask_files_path_complete = [os.path.join(r'\\\\fatherserverdw\\Kevin\\imageregistration2\\padded_masks', x) for x in mask_files_path]\n",
    "mask_files_path_1 = [x.replace('.png','') for x in mask_files_path]\n",
    "\n",
    "mask_img = Image.open(mask_files_path_complete[0])\n",
    "mask_ra = np.array(mask_img)\n",
    "ta = np.array(mask_ra)\n",
    "ta2 = (0<ta) &  (ta<12)\n",
    "ta3 = remove_small_objects(ta2,1000000)\n",
    "ta4 = remove_small_holes(ta3,100000)\n",
    "composition = ta[ta4]\n",
    "hist = np.bincount(composition,)\n",
    "hist = hist/np.sum(hist)*100\n",
    "count_list = list(hist)\n",
    "del(count_list[0])\n",
    "count_list = [np.round(x,3) for x in count_list]\n",
    "class_list = list(['corneum','spinosum','hairshaft','hairfollicle','smoothmuscle','oil','sweat','nerve','bloodvessel','ecm','fat','white'])\n",
    "ratio_class_dict = dict(zip(class_list,count_list))\n",
    "ratio_df = pd.DataFrame.from_dict(ratio_class_dict,orient='index')"
   ],
   "metadata": {
    "collapsed": false
   }
  },
  {
   "cell_type": "code",
   "execution_count": 15,
   "outputs": [
    {
     "data": {
      "text/plain": "                   1       4       7      10      13      16      19      22  \\\ncorneum        1.798   1.339   1.273   1.348   1.462   1.368   1.374   1.262   \nspinosum       2.752   1.973   1.797   1.718   1.811   1.847   1.744   1.702   \nhairshaft      0.721   0.278   0.252   0.375   0.174   0.156   0.190   0.189   \nhairfollicle   0.630   0.225   0.231   0.269   0.193   0.195   0.236   0.197   \nsmoothmuscle   1.073   0.236   0.340   0.444   0.364   0.300   0.252   0.329   \noil            2.299   0.671   0.741   0.546   0.651   0.266   0.591   0.597   \nsweat          0.911   0.561   0.586   0.625   0.559   0.515   0.593   0.606   \nnerve          0.495   0.331   0.327   0.309   0.346   0.324   0.338   0.277   \nbloodvessel    3.054   2.265   2.658   3.216   2.728   2.394   2.759   2.546   \necm           65.367  55.928  55.828  54.573  57.832  59.642  58.802  57.464   \nfat            7.351  12.851  12.146  11.336  12.073  11.326  11.415  11.883   \nwhite         13.549  23.342  23.821  25.241  21.806  21.668  21.706  22.949   \n\n                  25      28  ...      73      76      79      82      85  \\\ncorneum        1.306   1.349  ...   1.410   1.575   1.273   1.320   1.406   \nspinosum       1.649   1.726  ...   1.569   1.475   1.587   1.893   1.649   \nhairshaft      0.163   0.187  ...   0.186   0.101   0.197   0.270   0.205   \nhairfollicle   0.142   0.164  ...   0.202   0.105   0.221   0.261   0.189   \nsmoothmuscle   0.260   0.333  ...   0.620   0.381   0.371   0.462   0.504   \noil            0.645   0.698  ...   0.432   0.588   1.015   0.521   1.753   \nsweat          0.532   0.597  ...   0.687   0.484   0.628   0.544   0.644   \nnerve          0.265   0.263  ...   0.301   0.258   0.326   0.291   0.334   \nbloodvessel    2.540   2.665  ...   3.419   2.347   3.023   2.857   2.884   \necm           56.655  57.635  ...  62.322  58.420  64.773  63.196  63.454   \nfat           11.953  11.899  ...   9.658  11.157   8.942  10.663   9.621   \nwhite         23.889  22.483  ...  19.192  23.108  17.644  17.722  17.356   \n\n                  88      91      94      97     100  \ncorneum        1.430   1.318   1.410   1.552   1.555  \nspinosum       1.808   1.696   2.109   2.575   2.756  \nhairshaft      0.167   0.190   0.486   0.363   0.340  \nhairfollicle   0.241   0.240   0.429   0.460   0.468  \nsmoothmuscle   0.609   0.757   1.286   2.898   1.804  \noil            2.217   2.340   2.508   2.533   2.301  \nsweat          0.828   0.816   0.942   1.182   1.035  \nnerve          0.355   0.307   0.361   0.530   0.473  \nbloodvessel    3.361   2.857   3.551   3.725   3.178  \necm           66.784  65.766  68.933  64.358  65.777  \nfat            7.570   8.020   5.794   6.211   6.539  \nwhite         14.629  15.692  12.192  13.614  13.775  \n\n[12 rows x 34 columns]",
      "text/html": "<div>\n<style scoped>\n    .dataframe tbody tr th:only-of-type {\n        vertical-align: middle;\n    }\n\n    .dataframe tbody tr th {\n        vertical-align: top;\n    }\n\n    .dataframe thead th {\n        text-align: right;\n    }\n</style>\n<table border=\"1\" class=\"dataframe\">\n  <thead>\n    <tr style=\"text-align: right;\">\n      <th></th>\n      <th>1</th>\n      <th>4</th>\n      <th>7</th>\n      <th>10</th>\n      <th>13</th>\n      <th>16</th>\n      <th>19</th>\n      <th>22</th>\n      <th>25</th>\n      <th>28</th>\n      <th>...</th>\n      <th>73</th>\n      <th>76</th>\n      <th>79</th>\n      <th>82</th>\n      <th>85</th>\n      <th>88</th>\n      <th>91</th>\n      <th>94</th>\n      <th>97</th>\n      <th>100</th>\n    </tr>\n  </thead>\n  <tbody>\n    <tr>\n      <th>corneum</th>\n      <td>1.798</td>\n      <td>1.339</td>\n      <td>1.273</td>\n      <td>1.348</td>\n      <td>1.462</td>\n      <td>1.368</td>\n      <td>1.374</td>\n      <td>1.262</td>\n      <td>1.306</td>\n      <td>1.349</td>\n      <td>...</td>\n      <td>1.410</td>\n      <td>1.575</td>\n      <td>1.273</td>\n      <td>1.320</td>\n      <td>1.406</td>\n      <td>1.430</td>\n      <td>1.318</td>\n      <td>1.410</td>\n      <td>1.552</td>\n      <td>1.555</td>\n    </tr>\n    <tr>\n      <th>spinosum</th>\n      <td>2.752</td>\n      <td>1.973</td>\n      <td>1.797</td>\n      <td>1.718</td>\n      <td>1.811</td>\n      <td>1.847</td>\n      <td>1.744</td>\n      <td>1.702</td>\n      <td>1.649</td>\n      <td>1.726</td>\n      <td>...</td>\n      <td>1.569</td>\n      <td>1.475</td>\n      <td>1.587</td>\n      <td>1.893</td>\n      <td>1.649</td>\n      <td>1.808</td>\n      <td>1.696</td>\n      <td>2.109</td>\n      <td>2.575</td>\n      <td>2.756</td>\n    </tr>\n    <tr>\n      <th>hairshaft</th>\n      <td>0.721</td>\n      <td>0.278</td>\n      <td>0.252</td>\n      <td>0.375</td>\n      <td>0.174</td>\n      <td>0.156</td>\n      <td>0.190</td>\n      <td>0.189</td>\n      <td>0.163</td>\n      <td>0.187</td>\n      <td>...</td>\n      <td>0.186</td>\n      <td>0.101</td>\n      <td>0.197</td>\n      <td>0.270</td>\n      <td>0.205</td>\n      <td>0.167</td>\n      <td>0.190</td>\n      <td>0.486</td>\n      <td>0.363</td>\n      <td>0.340</td>\n    </tr>\n    <tr>\n      <th>hairfollicle</th>\n      <td>0.630</td>\n      <td>0.225</td>\n      <td>0.231</td>\n      <td>0.269</td>\n      <td>0.193</td>\n      <td>0.195</td>\n      <td>0.236</td>\n      <td>0.197</td>\n      <td>0.142</td>\n      <td>0.164</td>\n      <td>...</td>\n      <td>0.202</td>\n      <td>0.105</td>\n      <td>0.221</td>\n      <td>0.261</td>\n      <td>0.189</td>\n      <td>0.241</td>\n      <td>0.240</td>\n      <td>0.429</td>\n      <td>0.460</td>\n      <td>0.468</td>\n    </tr>\n    <tr>\n      <th>smoothmuscle</th>\n      <td>1.073</td>\n      <td>0.236</td>\n      <td>0.340</td>\n      <td>0.444</td>\n      <td>0.364</td>\n      <td>0.300</td>\n      <td>0.252</td>\n      <td>0.329</td>\n      <td>0.260</td>\n      <td>0.333</td>\n      <td>...</td>\n      <td>0.620</td>\n      <td>0.381</td>\n      <td>0.371</td>\n      <td>0.462</td>\n      <td>0.504</td>\n      <td>0.609</td>\n      <td>0.757</td>\n      <td>1.286</td>\n      <td>2.898</td>\n      <td>1.804</td>\n    </tr>\n    <tr>\n      <th>oil</th>\n      <td>2.299</td>\n      <td>0.671</td>\n      <td>0.741</td>\n      <td>0.546</td>\n      <td>0.651</td>\n      <td>0.266</td>\n      <td>0.591</td>\n      <td>0.597</td>\n      <td>0.645</td>\n      <td>0.698</td>\n      <td>...</td>\n      <td>0.432</td>\n      <td>0.588</td>\n      <td>1.015</td>\n      <td>0.521</td>\n      <td>1.753</td>\n      <td>2.217</td>\n      <td>2.340</td>\n      <td>2.508</td>\n      <td>2.533</td>\n      <td>2.301</td>\n    </tr>\n    <tr>\n      <th>sweat</th>\n      <td>0.911</td>\n      <td>0.561</td>\n      <td>0.586</td>\n      <td>0.625</td>\n      <td>0.559</td>\n      <td>0.515</td>\n      <td>0.593</td>\n      <td>0.606</td>\n      <td>0.532</td>\n      <td>0.597</td>\n      <td>...</td>\n      <td>0.687</td>\n      <td>0.484</td>\n      <td>0.628</td>\n      <td>0.544</td>\n      <td>0.644</td>\n      <td>0.828</td>\n      <td>0.816</td>\n      <td>0.942</td>\n      <td>1.182</td>\n      <td>1.035</td>\n    </tr>\n    <tr>\n      <th>nerve</th>\n      <td>0.495</td>\n      <td>0.331</td>\n      <td>0.327</td>\n      <td>0.309</td>\n      <td>0.346</td>\n      <td>0.324</td>\n      <td>0.338</td>\n      <td>0.277</td>\n      <td>0.265</td>\n      <td>0.263</td>\n      <td>...</td>\n      <td>0.301</td>\n      <td>0.258</td>\n      <td>0.326</td>\n      <td>0.291</td>\n      <td>0.334</td>\n      <td>0.355</td>\n      <td>0.307</td>\n      <td>0.361</td>\n      <td>0.530</td>\n      <td>0.473</td>\n    </tr>\n    <tr>\n      <th>bloodvessel</th>\n      <td>3.054</td>\n      <td>2.265</td>\n      <td>2.658</td>\n      <td>3.216</td>\n      <td>2.728</td>\n      <td>2.394</td>\n      <td>2.759</td>\n      <td>2.546</td>\n      <td>2.540</td>\n      <td>2.665</td>\n      <td>...</td>\n      <td>3.419</td>\n      <td>2.347</td>\n      <td>3.023</td>\n      <td>2.857</td>\n      <td>2.884</td>\n      <td>3.361</td>\n      <td>2.857</td>\n      <td>3.551</td>\n      <td>3.725</td>\n      <td>3.178</td>\n    </tr>\n    <tr>\n      <th>ecm</th>\n      <td>65.367</td>\n      <td>55.928</td>\n      <td>55.828</td>\n      <td>54.573</td>\n      <td>57.832</td>\n      <td>59.642</td>\n      <td>58.802</td>\n      <td>57.464</td>\n      <td>56.655</td>\n      <td>57.635</td>\n      <td>...</td>\n      <td>62.322</td>\n      <td>58.420</td>\n      <td>64.773</td>\n      <td>63.196</td>\n      <td>63.454</td>\n      <td>66.784</td>\n      <td>65.766</td>\n      <td>68.933</td>\n      <td>64.358</td>\n      <td>65.777</td>\n    </tr>\n    <tr>\n      <th>fat</th>\n      <td>7.351</td>\n      <td>12.851</td>\n      <td>12.146</td>\n      <td>11.336</td>\n      <td>12.073</td>\n      <td>11.326</td>\n      <td>11.415</td>\n      <td>11.883</td>\n      <td>11.953</td>\n      <td>11.899</td>\n      <td>...</td>\n      <td>9.658</td>\n      <td>11.157</td>\n      <td>8.942</td>\n      <td>10.663</td>\n      <td>9.621</td>\n      <td>7.570</td>\n      <td>8.020</td>\n      <td>5.794</td>\n      <td>6.211</td>\n      <td>6.539</td>\n    </tr>\n    <tr>\n      <th>white</th>\n      <td>13.549</td>\n      <td>23.342</td>\n      <td>23.821</td>\n      <td>25.241</td>\n      <td>21.806</td>\n      <td>21.668</td>\n      <td>21.706</td>\n      <td>22.949</td>\n      <td>23.889</td>\n      <td>22.483</td>\n      <td>...</td>\n      <td>19.192</td>\n      <td>23.108</td>\n      <td>17.644</td>\n      <td>17.722</td>\n      <td>17.356</td>\n      <td>14.629</td>\n      <td>15.692</td>\n      <td>12.192</td>\n      <td>13.614</td>\n      <td>13.775</td>\n    </tr>\n  </tbody>\n</table>\n<p>12 rows × 34 columns</p>\n</div>"
     },
     "execution_count": 15,
     "metadata": {},
     "output_type": "execute_result"
    }
   ],
   "source": [
    "# class_list = list(['corneum','spinosum','hairshaft','hairfollicle','smoothmuscle','oil','sweat','nerve','bloodvessel','ecm','fat','white'])\n",
    "for idx in range(1,len(mask_files_path_complete)):\n",
    "    mask_img = Image.open(mask_files_path_complete[idx])\n",
    "    mask_ra = np.array(mask_img)\n",
    "    ta = np.array(mask_ra)\n",
    "    ta2 = (0<ta) &  (ta<12)\n",
    "    ta3 = remove_small_objects(ta2,1000000)\n",
    "    ta4 = remove_small_holes(ta3,100000)\n",
    "    composition = ta[ta4]\n",
    "    hist = np.bincount(composition,)\n",
    "    hist = hist/np.sum(hist)*100\n",
    "    count_list = list(hist)\n",
    "    del(count_list[0])\n",
    "    count_list = [np.round(x,3) for x in count_list]\n",
    "    ratio_class_dict = dict(zip(class_list,count_list))\n",
    "    tmp_df = pd.DataFrame.from_dict(ratio_class_dict,orient='index')\n",
    "    ratio_df = pd.concat([ratio_df,pd.DataFrame.from_dict(tmp_df)],axis=1)\n",
    "\n",
    "ratio_df.columns = mask_files_path_1\n",
    "col_names = ratio_df.columns\n",
    "new_col_names = [re.findall(r'\\d+',x)[1] for x in col_names]\n",
    "ratio_df.columns = new_col_names\n",
    "ratio_df\n"
   ],
   "metadata": {
    "collapsed": false
   }
  },
  {
   "cell_type": "code",
   "execution_count": 16,
   "outputs": [],
   "source": [
    "ratio_df_T = ratio_df.T\n",
    "plt.figure(figsize=(10,5))\n",
    "plt.ylim(0,27)\n",
    "plt.ylabel(\"[%]\")\n",
    "plt.xlabel(\"Z-Axis\")\n",
    "plt.title(\"Tissue composition along serial section of human skin before registration\")\n",
    "sns.lineplot(data = ratio_df_T)\n",
    "plt.show()"
   ],
   "metadata": {
    "collapsed": false
   }
  },
  {
   "cell_type": "code",
   "execution_count": 10,
   "outputs": [],
   "source": [
    "mask_files_path =  [_ for _ in os.listdir(r'\\\\fatherserverdw\\Kevin\\imageregistration2\\registered_masks') if _.endswith(\".png\")]\n",
    "mask_files_path_complete = [os.path.join(r'\\\\fatherserverdw\\Kevin\\imageregistration2\\registered_masks', x) for x in mask_files_path]\n",
    "mask_files_path_1 = [x.replace('.png','') for x in mask_files_path]\n",
    "\n",
    "mask_img = Image.open(mask_files_path_complete[0])\n",
    "mask_ra = np.array(mask_img)\n",
    "ta = np.array(mask_ra)\n",
    "ta2 = (0<ta) &  (ta<12)\n",
    "ta3 = remove_small_objects(ta2,1000000)\n",
    "ta4 = remove_small_holes(ta3,100000)\n",
    "composition = ta[ta4]\n",
    "hist = np.bincount(composition,)\n",
    "hist = hist/np.sum(hist)*100\n",
    "count_list = list(hist)\n",
    "del(count_list[0])\n",
    "count_list = [np.round(x,3) for x in count_list]\n",
    "class_list = list(['corneum','spinosum','hairshaft','hairfollicle','smoothmuscle','oil','sweat','nerve','bloodvessel','ecm','fat','white'])\n",
    "ratio_class_dict = dict(zip(class_list,count_list))\n",
    "ratio_df1 = pd.DataFrame.from_dict(ratio_class_dict,orient='index')"
   ],
   "metadata": {
    "collapsed": false
   }
  },
  {
   "cell_type": "code",
   "execution_count": 11,
   "outputs": [
    {
     "data": {
      "text/plain": "                   1       4       7      10      13      16      19      22  \\\ncorneum        1.775   1.121   1.238   1.446   1.422   1.155   1.437   1.122   \nspinosum       2.714   1.601   1.594   1.855   1.658   1.523   1.700   1.419   \nhairshaft      0.762   0.249   0.220   0.383   0.182   0.169   0.201   0.173   \nhairfollicle   0.679   0.192   0.222   0.266   0.214   0.202   0.237   0.201   \nsmoothmuscle   1.193   0.251   0.362   0.466   0.397   0.328   0.296   0.355   \noil            2.231   0.580   0.683   0.545   0.670   0.308   0.625   0.587   \nsweat          0.925   0.458   0.543   0.604   0.532   0.525   0.589   0.583   \nnerve          0.725   0.399   0.462   0.495   0.506   0.461   0.510   0.406   \nbloodvessel    6.906   4.814   5.557   5.936   5.913   5.717   5.981   5.650   \necm           63.055  52.551  53.873  52.953  57.038  59.224  58.187  56.920   \nfat            9.962  16.181  15.943  15.091  15.281  15.059  14.841  15.621   \nwhite          9.072  21.601  19.305  19.959  16.186  15.330  15.396  16.964   \n\n                  25      28  ...      73      76      79      82      85  \\\ncorneum        1.362   1.423  ...   1.267   1.596   1.197   1.275   1.606   \nspinosum       1.432   1.839  ...   1.400   1.524   1.524   1.780   1.915   \nhairshaft      0.159   0.182  ...   0.186   0.119   0.203   0.295   0.218   \nhairfollicle   0.156   0.170  ...   0.213   0.138   0.245   0.299   0.222   \nsmoothmuscle   0.301   0.365  ...   0.622   0.403   0.400   0.486   0.611   \noil            0.663   0.716  ...   0.472   0.569   0.982   0.549   1.626   \nsweat          0.514   0.588  ...   0.674   0.484   0.619   0.538   0.626   \nnerve          0.401   0.411  ...   0.512   0.407   0.510   0.462   0.549   \nbloodvessel    5.605   5.779  ...   6.876   5.474   6.598   6.526   6.525   \necm           56.042  56.143  ...  61.849  57.606  63.889  62.081  62.099   \nfat           15.959  15.616  ...  12.482  14.447  11.724  13.367  12.332   \nwhite         17.406  16.768  ...  13.448  17.233  12.108  12.341  11.672   \n\n                  88      91      94      97     100  \ncorneum        1.629   1.339   1.427   1.595   1.514  \nspinosum       1.980   1.793   2.013   2.516   2.427  \nhairshaft      0.189   0.193   0.559   0.408   0.346  \nhairfollicle   0.279   0.271   0.467   0.616   0.535  \nsmoothmuscle   0.732   0.943   1.364   3.009   1.917  \noil            2.077   1.988   2.198   2.420   2.141  \nsweat          0.821   0.777   0.859   1.160   1.052  \nnerve          0.600   0.512   0.609   0.816   0.718  \nbloodvessel    7.372   6.658   7.842   7.668   7.298  \necm           64.507  64.347  66.555  61.970  63.522  \nfat           10.146  10.687   8.076   8.739   9.296  \nwhite          9.666  10.492   8.030   9.084   9.234  \n\n[12 rows x 34 columns]",
      "text/html": "<div>\n<style scoped>\n    .dataframe tbody tr th:only-of-type {\n        vertical-align: middle;\n    }\n\n    .dataframe tbody tr th {\n        vertical-align: top;\n    }\n\n    .dataframe thead th {\n        text-align: right;\n    }\n</style>\n<table border=\"1\" class=\"dataframe\">\n  <thead>\n    <tr style=\"text-align: right;\">\n      <th></th>\n      <th>1</th>\n      <th>4</th>\n      <th>7</th>\n      <th>10</th>\n      <th>13</th>\n      <th>16</th>\n      <th>19</th>\n      <th>22</th>\n      <th>25</th>\n      <th>28</th>\n      <th>...</th>\n      <th>73</th>\n      <th>76</th>\n      <th>79</th>\n      <th>82</th>\n      <th>85</th>\n      <th>88</th>\n      <th>91</th>\n      <th>94</th>\n      <th>97</th>\n      <th>100</th>\n    </tr>\n  </thead>\n  <tbody>\n    <tr>\n      <th>corneum</th>\n      <td>1.775</td>\n      <td>1.121</td>\n      <td>1.238</td>\n      <td>1.446</td>\n      <td>1.422</td>\n      <td>1.155</td>\n      <td>1.437</td>\n      <td>1.122</td>\n      <td>1.362</td>\n      <td>1.423</td>\n      <td>...</td>\n      <td>1.267</td>\n      <td>1.596</td>\n      <td>1.197</td>\n      <td>1.275</td>\n      <td>1.606</td>\n      <td>1.629</td>\n      <td>1.339</td>\n      <td>1.427</td>\n      <td>1.595</td>\n      <td>1.514</td>\n    </tr>\n    <tr>\n      <th>spinosum</th>\n      <td>2.714</td>\n      <td>1.601</td>\n      <td>1.594</td>\n      <td>1.855</td>\n      <td>1.658</td>\n      <td>1.523</td>\n      <td>1.700</td>\n      <td>1.419</td>\n      <td>1.432</td>\n      <td>1.839</td>\n      <td>...</td>\n      <td>1.400</td>\n      <td>1.524</td>\n      <td>1.524</td>\n      <td>1.780</td>\n      <td>1.915</td>\n      <td>1.980</td>\n      <td>1.793</td>\n      <td>2.013</td>\n      <td>2.516</td>\n      <td>2.427</td>\n    </tr>\n    <tr>\n      <th>hairshaft</th>\n      <td>0.762</td>\n      <td>0.249</td>\n      <td>0.220</td>\n      <td>0.383</td>\n      <td>0.182</td>\n      <td>0.169</td>\n      <td>0.201</td>\n      <td>0.173</td>\n      <td>0.159</td>\n      <td>0.182</td>\n      <td>...</td>\n      <td>0.186</td>\n      <td>0.119</td>\n      <td>0.203</td>\n      <td>0.295</td>\n      <td>0.218</td>\n      <td>0.189</td>\n      <td>0.193</td>\n      <td>0.559</td>\n      <td>0.408</td>\n      <td>0.346</td>\n    </tr>\n    <tr>\n      <th>hairfollicle</th>\n      <td>0.679</td>\n      <td>0.192</td>\n      <td>0.222</td>\n      <td>0.266</td>\n      <td>0.214</td>\n      <td>0.202</td>\n      <td>0.237</td>\n      <td>0.201</td>\n      <td>0.156</td>\n      <td>0.170</td>\n      <td>...</td>\n      <td>0.213</td>\n      <td>0.138</td>\n      <td>0.245</td>\n      <td>0.299</td>\n      <td>0.222</td>\n      <td>0.279</td>\n      <td>0.271</td>\n      <td>0.467</td>\n      <td>0.616</td>\n      <td>0.535</td>\n    </tr>\n    <tr>\n      <th>smoothmuscle</th>\n      <td>1.193</td>\n      <td>0.251</td>\n      <td>0.362</td>\n      <td>0.466</td>\n      <td>0.397</td>\n      <td>0.328</td>\n      <td>0.296</td>\n      <td>0.355</td>\n      <td>0.301</td>\n      <td>0.365</td>\n      <td>...</td>\n      <td>0.622</td>\n      <td>0.403</td>\n      <td>0.400</td>\n      <td>0.486</td>\n      <td>0.611</td>\n      <td>0.732</td>\n      <td>0.943</td>\n      <td>1.364</td>\n      <td>3.009</td>\n      <td>1.917</td>\n    </tr>\n    <tr>\n      <th>oil</th>\n      <td>2.231</td>\n      <td>0.580</td>\n      <td>0.683</td>\n      <td>0.545</td>\n      <td>0.670</td>\n      <td>0.308</td>\n      <td>0.625</td>\n      <td>0.587</td>\n      <td>0.663</td>\n      <td>0.716</td>\n      <td>...</td>\n      <td>0.472</td>\n      <td>0.569</td>\n      <td>0.982</td>\n      <td>0.549</td>\n      <td>1.626</td>\n      <td>2.077</td>\n      <td>1.988</td>\n      <td>2.198</td>\n      <td>2.420</td>\n      <td>2.141</td>\n    </tr>\n    <tr>\n      <th>sweat</th>\n      <td>0.925</td>\n      <td>0.458</td>\n      <td>0.543</td>\n      <td>0.604</td>\n      <td>0.532</td>\n      <td>0.525</td>\n      <td>0.589</td>\n      <td>0.583</td>\n      <td>0.514</td>\n      <td>0.588</td>\n      <td>...</td>\n      <td>0.674</td>\n      <td>0.484</td>\n      <td>0.619</td>\n      <td>0.538</td>\n      <td>0.626</td>\n      <td>0.821</td>\n      <td>0.777</td>\n      <td>0.859</td>\n      <td>1.160</td>\n      <td>1.052</td>\n    </tr>\n    <tr>\n      <th>nerve</th>\n      <td>0.725</td>\n      <td>0.399</td>\n      <td>0.462</td>\n      <td>0.495</td>\n      <td>0.506</td>\n      <td>0.461</td>\n      <td>0.510</td>\n      <td>0.406</td>\n      <td>0.401</td>\n      <td>0.411</td>\n      <td>...</td>\n      <td>0.512</td>\n      <td>0.407</td>\n      <td>0.510</td>\n      <td>0.462</td>\n      <td>0.549</td>\n      <td>0.600</td>\n      <td>0.512</td>\n      <td>0.609</td>\n      <td>0.816</td>\n      <td>0.718</td>\n    </tr>\n    <tr>\n      <th>bloodvessel</th>\n      <td>6.906</td>\n      <td>4.814</td>\n      <td>5.557</td>\n      <td>5.936</td>\n      <td>5.913</td>\n      <td>5.717</td>\n      <td>5.981</td>\n      <td>5.650</td>\n      <td>5.605</td>\n      <td>5.779</td>\n      <td>...</td>\n      <td>6.876</td>\n      <td>5.474</td>\n      <td>6.598</td>\n      <td>6.526</td>\n      <td>6.525</td>\n      <td>7.372</td>\n      <td>6.658</td>\n      <td>7.842</td>\n      <td>7.668</td>\n      <td>7.298</td>\n    </tr>\n    <tr>\n      <th>ecm</th>\n      <td>63.055</td>\n      <td>52.551</td>\n      <td>53.873</td>\n      <td>52.953</td>\n      <td>57.038</td>\n      <td>59.224</td>\n      <td>58.187</td>\n      <td>56.920</td>\n      <td>56.042</td>\n      <td>56.143</td>\n      <td>...</td>\n      <td>61.849</td>\n      <td>57.606</td>\n      <td>63.889</td>\n      <td>62.081</td>\n      <td>62.099</td>\n      <td>64.507</td>\n      <td>64.347</td>\n      <td>66.555</td>\n      <td>61.970</td>\n      <td>63.522</td>\n    </tr>\n    <tr>\n      <th>fat</th>\n      <td>9.962</td>\n      <td>16.181</td>\n      <td>15.943</td>\n      <td>15.091</td>\n      <td>15.281</td>\n      <td>15.059</td>\n      <td>14.841</td>\n      <td>15.621</td>\n      <td>15.959</td>\n      <td>15.616</td>\n      <td>...</td>\n      <td>12.482</td>\n      <td>14.447</td>\n      <td>11.724</td>\n      <td>13.367</td>\n      <td>12.332</td>\n      <td>10.146</td>\n      <td>10.687</td>\n      <td>8.076</td>\n      <td>8.739</td>\n      <td>9.296</td>\n    </tr>\n    <tr>\n      <th>white</th>\n      <td>9.072</td>\n      <td>21.601</td>\n      <td>19.305</td>\n      <td>19.959</td>\n      <td>16.186</td>\n      <td>15.330</td>\n      <td>15.396</td>\n      <td>16.964</td>\n      <td>17.406</td>\n      <td>16.768</td>\n      <td>...</td>\n      <td>13.448</td>\n      <td>17.233</td>\n      <td>12.108</td>\n      <td>12.341</td>\n      <td>11.672</td>\n      <td>9.666</td>\n      <td>10.492</td>\n      <td>8.030</td>\n      <td>9.084</td>\n      <td>9.234</td>\n    </tr>\n  </tbody>\n</table>\n<p>12 rows × 34 columns</p>\n</div>"
     },
     "execution_count": 11,
     "metadata": {},
     "output_type": "execute_result"
    }
   ],
   "source": [
    "# class_list = list(['corneum','spinosum','hairshaft','hairfollicle','smoothmuscle','oil','sweat','nerve','bloodvessel','ecm','fat','white'])\n",
    "for idx in range(1,len(mask_files_path_complete)):\n",
    "    mask_img = Image.open(mask_files_path_complete[idx])\n",
    "    mask_ra = np.array(mask_img)\n",
    "    ta = np.array(mask_ra)\n",
    "    ta2 = (0<ta) &  (ta<12)\n",
    "    ta3 = remove_small_objects(ta2,1000000)\n",
    "    ta4 = remove_small_holes(ta3,100000)\n",
    "    composition = ta[ta4]\n",
    "    hist = np.bincount(composition,)\n",
    "    hist = hist/np.sum(hist)*100\n",
    "    count_list = list(hist)\n",
    "    del(count_list[0])\n",
    "    count_list = [np.round(x,3) for x in count_list]\n",
    "    ratio_class_dict = dict(zip(class_list,count_list))\n",
    "    tmp_df = pd.DataFrame.from_dict(ratio_class_dict,orient='index')\n",
    "    ratio_df1 = pd.concat([ratio_df1,pd.DataFrame.from_dict(tmp_df)],axis=1)\n",
    "\n",
    "ratio_df1.columns = mask_files_path_1\n",
    "col_names = ratio_df1.columns\n",
    "new_col_names = [re.findall(r'\\d+',x)[1] for x in col_names]\n",
    "ratio_df1.columns = new_col_names\n",
    "ratio_df1"
   ],
   "metadata": {
    "collapsed": false
   }
  },
  {
   "cell_type": "code",
   "execution_count": 8,
   "outputs": [],
   "source": [
    "ratio_df1_T = ratio_df1.T\n",
    "plt.figure(figsize=(10,5))\n",
    "plt.ylim(0,27)\n",
    "plt.ylabel(\"[%]\")\n",
    "plt.xlabel(\"Z-Axis\")\n",
    "plt.title(\"Tissue composition along serial section of human skin after registration\")\n",
    "sns.lineplot(data = ratio_df1_T)\n",
    "plt.show()"
   ],
   "metadata": {
    "collapsed": false
   }
  },
  {
   "cell_type": "code",
   "execution_count": 9,
   "outputs": [
    {
     "data": {
      "text/plain": "                  1      4      7     10     13     16     19     22     25  \\\ncorneum      -0.023 -0.218 -0.035  0.098 -0.040 -0.213  0.063 -0.140  0.056   \nspinosum     -0.038 -0.372 -0.203  0.137 -0.153 -0.324 -0.044 -0.283 -0.217   \nhairshaft     0.041 -0.029 -0.032  0.008  0.008  0.013  0.011 -0.016 -0.004   \nhairfollicle  0.049 -0.033 -0.009 -0.003  0.021  0.007  0.001  0.004  0.014   \nsmoothmuscle  0.120  0.015  0.022  0.022  0.033  0.028  0.044  0.026  0.041   \noil          -0.068 -0.091 -0.058 -0.001  0.019  0.042  0.034 -0.010  0.018   \nsweat         0.014 -0.103 -0.043 -0.021 -0.027  0.010 -0.004 -0.023 -0.018   \nnerve         0.230  0.068  0.135  0.186  0.160  0.137  0.172  0.129  0.136   \nbloodvessel   3.852  2.549  2.899  2.720  3.185  3.323  3.222  3.104  3.065   \necm          -2.312 -3.377 -1.955 -1.620 -0.794 -0.418 -0.615 -0.544 -0.613   \nfat           2.611  3.330  3.797  3.755  3.208  3.733  3.426  3.738  4.006   \nwhite        -4.477 -1.741 -4.516 -5.282 -5.620 -6.338 -6.310 -5.985 -6.483   \n\n                 28  ...     73     76     79     82     85     88     91  \\\ncorneum       0.074  ... -0.143  0.021 -0.076 -0.045  0.200  0.199  0.021   \nspinosum      0.113  ... -0.169  0.049 -0.063 -0.113  0.266  0.172  0.097   \nhairshaft    -0.005  ...  0.000  0.018  0.006  0.025  0.013  0.022  0.003   \nhairfollicle  0.006  ...  0.011  0.033  0.024  0.038  0.033  0.038  0.031   \nsmoothmuscle  0.032  ...  0.002  0.022  0.029  0.024  0.107  0.123  0.186   \noil           0.018  ...  0.040 -0.019 -0.033  0.028 -0.127 -0.140 -0.352   \nsweat        -0.009  ... -0.013  0.000 -0.009 -0.006 -0.018 -0.007 -0.039   \nnerve         0.148  ...  0.211  0.149  0.184  0.171  0.215  0.245  0.205   \nbloodvessel   3.114  ...  3.457  3.127  3.575  3.669  3.641  4.011  3.801   \necm          -1.492  ... -0.473 -0.814 -0.884 -1.115 -1.355 -2.277 -1.419   \nfat           3.717  ...  2.824  3.290  2.782  2.704  2.711  2.576  2.667   \nwhite        -5.715  ... -5.744 -5.875 -5.536 -5.381 -5.684 -4.963 -5.200   \n\n                 94     97    100  \ncorneum       0.017  0.043 -0.041  \nspinosum     -0.096 -0.059 -0.329  \nhairshaft     0.073  0.045  0.006  \nhairfollicle  0.038  0.156  0.067  \nsmoothmuscle  0.078  0.111  0.113  \noil          -0.310 -0.113 -0.160  \nsweat        -0.083 -0.022  0.017  \nnerve         0.248  0.286  0.245  \nbloodvessel   4.291  3.943  4.120  \necm          -2.378 -2.388 -2.255  \nfat           2.282  2.528  2.757  \nwhite        -4.162 -4.530 -4.541  \n\n[12 rows x 34 columns]",
      "text/html": "<div>\n<style scoped>\n    .dataframe tbody tr th:only-of-type {\n        vertical-align: middle;\n    }\n\n    .dataframe tbody tr th {\n        vertical-align: top;\n    }\n\n    .dataframe thead th {\n        text-align: right;\n    }\n</style>\n<table border=\"1\" class=\"dataframe\">\n  <thead>\n    <tr style=\"text-align: right;\">\n      <th></th>\n      <th>1</th>\n      <th>4</th>\n      <th>7</th>\n      <th>10</th>\n      <th>13</th>\n      <th>16</th>\n      <th>19</th>\n      <th>22</th>\n      <th>25</th>\n      <th>28</th>\n      <th>...</th>\n      <th>73</th>\n      <th>76</th>\n      <th>79</th>\n      <th>82</th>\n      <th>85</th>\n      <th>88</th>\n      <th>91</th>\n      <th>94</th>\n      <th>97</th>\n      <th>100</th>\n    </tr>\n  </thead>\n  <tbody>\n    <tr>\n      <th>corneum</th>\n      <td>-0.023</td>\n      <td>-0.218</td>\n      <td>-0.035</td>\n      <td>0.098</td>\n      <td>-0.040</td>\n      <td>-0.213</td>\n      <td>0.063</td>\n      <td>-0.140</td>\n      <td>0.056</td>\n      <td>0.074</td>\n      <td>...</td>\n      <td>-0.143</td>\n      <td>0.021</td>\n      <td>-0.076</td>\n      <td>-0.045</td>\n      <td>0.200</td>\n      <td>0.199</td>\n      <td>0.021</td>\n      <td>0.017</td>\n      <td>0.043</td>\n      <td>-0.041</td>\n    </tr>\n    <tr>\n      <th>spinosum</th>\n      <td>-0.038</td>\n      <td>-0.372</td>\n      <td>-0.203</td>\n      <td>0.137</td>\n      <td>-0.153</td>\n      <td>-0.324</td>\n      <td>-0.044</td>\n      <td>-0.283</td>\n      <td>-0.217</td>\n      <td>0.113</td>\n      <td>...</td>\n      <td>-0.169</td>\n      <td>0.049</td>\n      <td>-0.063</td>\n      <td>-0.113</td>\n      <td>0.266</td>\n      <td>0.172</td>\n      <td>0.097</td>\n      <td>-0.096</td>\n      <td>-0.059</td>\n      <td>-0.329</td>\n    </tr>\n    <tr>\n      <th>hairshaft</th>\n      <td>0.041</td>\n      <td>-0.029</td>\n      <td>-0.032</td>\n      <td>0.008</td>\n      <td>0.008</td>\n      <td>0.013</td>\n      <td>0.011</td>\n      <td>-0.016</td>\n      <td>-0.004</td>\n      <td>-0.005</td>\n      <td>...</td>\n      <td>0.000</td>\n      <td>0.018</td>\n      <td>0.006</td>\n      <td>0.025</td>\n      <td>0.013</td>\n      <td>0.022</td>\n      <td>0.003</td>\n      <td>0.073</td>\n      <td>0.045</td>\n      <td>0.006</td>\n    </tr>\n    <tr>\n      <th>hairfollicle</th>\n      <td>0.049</td>\n      <td>-0.033</td>\n      <td>-0.009</td>\n      <td>-0.003</td>\n      <td>0.021</td>\n      <td>0.007</td>\n      <td>0.001</td>\n      <td>0.004</td>\n      <td>0.014</td>\n      <td>0.006</td>\n      <td>...</td>\n      <td>0.011</td>\n      <td>0.033</td>\n      <td>0.024</td>\n      <td>0.038</td>\n      <td>0.033</td>\n      <td>0.038</td>\n      <td>0.031</td>\n      <td>0.038</td>\n      <td>0.156</td>\n      <td>0.067</td>\n    </tr>\n    <tr>\n      <th>smoothmuscle</th>\n      <td>0.120</td>\n      <td>0.015</td>\n      <td>0.022</td>\n      <td>0.022</td>\n      <td>0.033</td>\n      <td>0.028</td>\n      <td>0.044</td>\n      <td>0.026</td>\n      <td>0.041</td>\n      <td>0.032</td>\n      <td>...</td>\n      <td>0.002</td>\n      <td>0.022</td>\n      <td>0.029</td>\n      <td>0.024</td>\n      <td>0.107</td>\n      <td>0.123</td>\n      <td>0.186</td>\n      <td>0.078</td>\n      <td>0.111</td>\n      <td>0.113</td>\n    </tr>\n    <tr>\n      <th>oil</th>\n      <td>-0.068</td>\n      <td>-0.091</td>\n      <td>-0.058</td>\n      <td>-0.001</td>\n      <td>0.019</td>\n      <td>0.042</td>\n      <td>0.034</td>\n      <td>-0.010</td>\n      <td>0.018</td>\n      <td>0.018</td>\n      <td>...</td>\n      <td>0.040</td>\n      <td>-0.019</td>\n      <td>-0.033</td>\n      <td>0.028</td>\n      <td>-0.127</td>\n      <td>-0.140</td>\n      <td>-0.352</td>\n      <td>-0.310</td>\n      <td>-0.113</td>\n      <td>-0.160</td>\n    </tr>\n    <tr>\n      <th>sweat</th>\n      <td>0.014</td>\n      <td>-0.103</td>\n      <td>-0.043</td>\n      <td>-0.021</td>\n      <td>-0.027</td>\n      <td>0.010</td>\n      <td>-0.004</td>\n      <td>-0.023</td>\n      <td>-0.018</td>\n      <td>-0.009</td>\n      <td>...</td>\n      <td>-0.013</td>\n      <td>0.000</td>\n      <td>-0.009</td>\n      <td>-0.006</td>\n      <td>-0.018</td>\n      <td>-0.007</td>\n      <td>-0.039</td>\n      <td>-0.083</td>\n      <td>-0.022</td>\n      <td>0.017</td>\n    </tr>\n    <tr>\n      <th>nerve</th>\n      <td>0.230</td>\n      <td>0.068</td>\n      <td>0.135</td>\n      <td>0.186</td>\n      <td>0.160</td>\n      <td>0.137</td>\n      <td>0.172</td>\n      <td>0.129</td>\n      <td>0.136</td>\n      <td>0.148</td>\n      <td>...</td>\n      <td>0.211</td>\n      <td>0.149</td>\n      <td>0.184</td>\n      <td>0.171</td>\n      <td>0.215</td>\n      <td>0.245</td>\n      <td>0.205</td>\n      <td>0.248</td>\n      <td>0.286</td>\n      <td>0.245</td>\n    </tr>\n    <tr>\n      <th>bloodvessel</th>\n      <td>3.852</td>\n      <td>2.549</td>\n      <td>2.899</td>\n      <td>2.720</td>\n      <td>3.185</td>\n      <td>3.323</td>\n      <td>3.222</td>\n      <td>3.104</td>\n      <td>3.065</td>\n      <td>3.114</td>\n      <td>...</td>\n      <td>3.457</td>\n      <td>3.127</td>\n      <td>3.575</td>\n      <td>3.669</td>\n      <td>3.641</td>\n      <td>4.011</td>\n      <td>3.801</td>\n      <td>4.291</td>\n      <td>3.943</td>\n      <td>4.120</td>\n    </tr>\n    <tr>\n      <th>ecm</th>\n      <td>-2.312</td>\n      <td>-3.377</td>\n      <td>-1.955</td>\n      <td>-1.620</td>\n      <td>-0.794</td>\n      <td>-0.418</td>\n      <td>-0.615</td>\n      <td>-0.544</td>\n      <td>-0.613</td>\n      <td>-1.492</td>\n      <td>...</td>\n      <td>-0.473</td>\n      <td>-0.814</td>\n      <td>-0.884</td>\n      <td>-1.115</td>\n      <td>-1.355</td>\n      <td>-2.277</td>\n      <td>-1.419</td>\n      <td>-2.378</td>\n      <td>-2.388</td>\n      <td>-2.255</td>\n    </tr>\n    <tr>\n      <th>fat</th>\n      <td>2.611</td>\n      <td>3.330</td>\n      <td>3.797</td>\n      <td>3.755</td>\n      <td>3.208</td>\n      <td>3.733</td>\n      <td>3.426</td>\n      <td>3.738</td>\n      <td>4.006</td>\n      <td>3.717</td>\n      <td>...</td>\n      <td>2.824</td>\n      <td>3.290</td>\n      <td>2.782</td>\n      <td>2.704</td>\n      <td>2.711</td>\n      <td>2.576</td>\n      <td>2.667</td>\n      <td>2.282</td>\n      <td>2.528</td>\n      <td>2.757</td>\n    </tr>\n    <tr>\n      <th>white</th>\n      <td>-4.477</td>\n      <td>-1.741</td>\n      <td>-4.516</td>\n      <td>-5.282</td>\n      <td>-5.620</td>\n      <td>-6.338</td>\n      <td>-6.310</td>\n      <td>-5.985</td>\n      <td>-6.483</td>\n      <td>-5.715</td>\n      <td>...</td>\n      <td>-5.744</td>\n      <td>-5.875</td>\n      <td>-5.536</td>\n      <td>-5.381</td>\n      <td>-5.684</td>\n      <td>-4.963</td>\n      <td>-5.200</td>\n      <td>-4.162</td>\n      <td>-4.530</td>\n      <td>-4.541</td>\n    </tr>\n  </tbody>\n</table>\n<p>12 rows × 34 columns</p>\n</div>"
     },
     "execution_count": 9,
     "metadata": {},
     "output_type": "execute_result"
    }
   ],
   "source": [
    "diff_df = ratio_df1 - ratio_df\n",
    "diff_df"
   ],
   "metadata": {
    "collapsed": false
   }
  },
  {
   "cell_type": "markdown",
   "source": [
    "### Now do the same, but plot the moving average before/after registration (tells us how many slices we need for the each parts to \"converge\":"
   ],
   "metadata": {
    "collapsed": false
   }
  },
  {
   "cell_type": "code",
   "execution_count": 10,
   "outputs": [
    {
     "data": {
      "text/plain": "                   1        4          7        10       13         16  \\\ncorneum        1.798   1.5685   1.470000   1.43950   1.4440   1.431333   \nspinosum       2.752   2.3625   2.174000   2.06000   2.0102   1.983000   \nhairshaft      0.721   0.4995   0.417000   0.40650   0.3600   0.326000   \nhairfollicle   0.630   0.4275   0.362000   0.33875   0.3096   0.290500   \nsmoothmuscle   1.073   0.6545   0.549667   0.52325   0.4914   0.459500   \noil            2.299   1.4850   1.237000   1.06425   0.9816   0.862333   \nsweat          0.911   0.7360   0.686000   0.67075   0.6484   0.626167   \nnerve          0.495   0.4130   0.384333   0.36550   0.3616   0.355333   \nbloodvessel    3.054   2.6595   2.659000   2.79825   2.7842   2.719167   \necm           65.367  60.6475  59.041000  57.92400  57.9056  58.195000   \nfat            7.351  10.1010  10.782667  10.92100  11.1514  11.180500   \nwhite         13.549  18.4455  20.237333  21.48825  21.5518  21.571167   \n\n                     19         22         25       28  ...        73  \\\ncorneum        1.423143   1.403000   1.392222   1.3879  ...   1.37120   \nspinosum       1.948857   1.918000   1.888111   1.8719  ...   1.78212   \nhairshaft      0.306571   0.291875   0.277556   0.2685  ...   0.22376   \nhairfollicle   0.282714   0.272000   0.257556   0.2482  ...   0.21420   \nsmoothmuscle   0.429857   0.417250   0.399778   0.3931  ...   0.37344   \noil            0.823571   0.795250   0.778556   0.7705  ...   0.75356   \nsweat          0.621429   0.619500   0.609778   0.6085  ...   0.65352   \nnerve          0.352857   0.343375   0.334667   0.3275  ...   0.30496   \nbloodvessel    2.724857   2.702500   2.684444   2.6825  ...   2.58244   \necm           58.281714  58.179500  58.010111  57.9726  ...  58.04884   \nfat           11.214000  11.297625  11.370444  11.4233  ...  11.95408   \nwhite         21.590429  21.760250  21.996778  22.0454  ...  21.73756   \n\n                     76         79         82         85         88  \\\ncorneum        1.379038   1.375111   1.373143   1.374276   1.376133   \nspinosum       1.770308   1.763519   1.768143   1.764034   1.765500   \nhairshaft      0.219038   0.218222   0.220071   0.219552   0.217800   \nhairfollicle   0.210000   0.210407   0.212214   0.211414   0.212400   \nsmoothmuscle   0.373731   0.373630   0.376786   0.381172   0.388767   \noil            0.747192   0.757111   0.748679   0.783310   0.831100   \nsweat          0.647000   0.646296   0.642643   0.642690   0.648867   \nnerve          0.303154   0.304000   0.303536   0.304586   0.306267   \nbloodvessel    2.573385   2.590037   2.599571   2.609379   2.634433   \necm           58.063115  58.311630  58.486071  58.657379  58.928267   \nfat           11.923423  11.813000  11.771929  11.697759  11.560167   \nwhite         21.790269  21.636704  21.496893  21.354103  21.129933   \n\n                     91         94         97        100  \ncorneum        1.374258   1.375375   1.380727   1.385853  \nspinosum       1.763258   1.774063   1.798333   1.826500  \nhairshaft      0.216903   0.225312   0.229485   0.232735  \nhairfollicle   0.213290   0.220031   0.227303   0.234382  \nsmoothmuscle   0.400645   0.428312   0.503152   0.541412  \noil            0.879774   0.930656   0.979212   1.018088  \nsweat          0.654258   0.663250   0.678970   0.689441  \nnerve          0.306290   0.308000   0.314727   0.319382  \nbloodvessel    2.641613   2.670031   2.702000   2.716000  \necm           59.148839  59.454594  59.603182  59.784765  \nfat           11.445968  11.269344  11.116061  10.981441  \nwhite         20.954516  20.680688  20.466545  20.269735  \n\n[12 rows x 34 columns]",
      "text/html": "<div>\n<style scoped>\n    .dataframe tbody tr th:only-of-type {\n        vertical-align: middle;\n    }\n\n    .dataframe tbody tr th {\n        vertical-align: top;\n    }\n\n    .dataframe thead th {\n        text-align: right;\n    }\n</style>\n<table border=\"1\" class=\"dataframe\">\n  <thead>\n    <tr style=\"text-align: right;\">\n      <th></th>\n      <th>1</th>\n      <th>4</th>\n      <th>7</th>\n      <th>10</th>\n      <th>13</th>\n      <th>16</th>\n      <th>19</th>\n      <th>22</th>\n      <th>25</th>\n      <th>28</th>\n      <th>...</th>\n      <th>73</th>\n      <th>76</th>\n      <th>79</th>\n      <th>82</th>\n      <th>85</th>\n      <th>88</th>\n      <th>91</th>\n      <th>94</th>\n      <th>97</th>\n      <th>100</th>\n    </tr>\n  </thead>\n  <tbody>\n    <tr>\n      <th>corneum</th>\n      <td>1.798</td>\n      <td>1.5685</td>\n      <td>1.470000</td>\n      <td>1.43950</td>\n      <td>1.4440</td>\n      <td>1.431333</td>\n      <td>1.423143</td>\n      <td>1.403000</td>\n      <td>1.392222</td>\n      <td>1.3879</td>\n      <td>...</td>\n      <td>1.37120</td>\n      <td>1.379038</td>\n      <td>1.375111</td>\n      <td>1.373143</td>\n      <td>1.374276</td>\n      <td>1.376133</td>\n      <td>1.374258</td>\n      <td>1.375375</td>\n      <td>1.380727</td>\n      <td>1.385853</td>\n    </tr>\n    <tr>\n      <th>spinosum</th>\n      <td>2.752</td>\n      <td>2.3625</td>\n      <td>2.174000</td>\n      <td>2.06000</td>\n      <td>2.0102</td>\n      <td>1.983000</td>\n      <td>1.948857</td>\n      <td>1.918000</td>\n      <td>1.888111</td>\n      <td>1.8719</td>\n      <td>...</td>\n      <td>1.78212</td>\n      <td>1.770308</td>\n      <td>1.763519</td>\n      <td>1.768143</td>\n      <td>1.764034</td>\n      <td>1.765500</td>\n      <td>1.763258</td>\n      <td>1.774063</td>\n      <td>1.798333</td>\n      <td>1.826500</td>\n    </tr>\n    <tr>\n      <th>hairshaft</th>\n      <td>0.721</td>\n      <td>0.4995</td>\n      <td>0.417000</td>\n      <td>0.40650</td>\n      <td>0.3600</td>\n      <td>0.326000</td>\n      <td>0.306571</td>\n      <td>0.291875</td>\n      <td>0.277556</td>\n      <td>0.2685</td>\n      <td>...</td>\n      <td>0.22376</td>\n      <td>0.219038</td>\n      <td>0.218222</td>\n      <td>0.220071</td>\n      <td>0.219552</td>\n      <td>0.217800</td>\n      <td>0.216903</td>\n      <td>0.225312</td>\n      <td>0.229485</td>\n      <td>0.232735</td>\n    </tr>\n    <tr>\n      <th>hairfollicle</th>\n      <td>0.630</td>\n      <td>0.4275</td>\n      <td>0.362000</td>\n      <td>0.33875</td>\n      <td>0.3096</td>\n      <td>0.290500</td>\n      <td>0.282714</td>\n      <td>0.272000</td>\n      <td>0.257556</td>\n      <td>0.2482</td>\n      <td>...</td>\n      <td>0.21420</td>\n      <td>0.210000</td>\n      <td>0.210407</td>\n      <td>0.212214</td>\n      <td>0.211414</td>\n      <td>0.212400</td>\n      <td>0.213290</td>\n      <td>0.220031</td>\n      <td>0.227303</td>\n      <td>0.234382</td>\n    </tr>\n    <tr>\n      <th>smoothmuscle</th>\n      <td>1.073</td>\n      <td>0.6545</td>\n      <td>0.549667</td>\n      <td>0.52325</td>\n      <td>0.4914</td>\n      <td>0.459500</td>\n      <td>0.429857</td>\n      <td>0.417250</td>\n      <td>0.399778</td>\n      <td>0.3931</td>\n      <td>...</td>\n      <td>0.37344</td>\n      <td>0.373731</td>\n      <td>0.373630</td>\n      <td>0.376786</td>\n      <td>0.381172</td>\n      <td>0.388767</td>\n      <td>0.400645</td>\n      <td>0.428312</td>\n      <td>0.503152</td>\n      <td>0.541412</td>\n    </tr>\n    <tr>\n      <th>oil</th>\n      <td>2.299</td>\n      <td>1.4850</td>\n      <td>1.237000</td>\n      <td>1.06425</td>\n      <td>0.9816</td>\n      <td>0.862333</td>\n      <td>0.823571</td>\n      <td>0.795250</td>\n      <td>0.778556</td>\n      <td>0.7705</td>\n      <td>...</td>\n      <td>0.75356</td>\n      <td>0.747192</td>\n      <td>0.757111</td>\n      <td>0.748679</td>\n      <td>0.783310</td>\n      <td>0.831100</td>\n      <td>0.879774</td>\n      <td>0.930656</td>\n      <td>0.979212</td>\n      <td>1.018088</td>\n    </tr>\n    <tr>\n      <th>sweat</th>\n      <td>0.911</td>\n      <td>0.7360</td>\n      <td>0.686000</td>\n      <td>0.67075</td>\n      <td>0.6484</td>\n      <td>0.626167</td>\n      <td>0.621429</td>\n      <td>0.619500</td>\n      <td>0.609778</td>\n      <td>0.6085</td>\n      <td>...</td>\n      <td>0.65352</td>\n      <td>0.647000</td>\n      <td>0.646296</td>\n      <td>0.642643</td>\n      <td>0.642690</td>\n      <td>0.648867</td>\n      <td>0.654258</td>\n      <td>0.663250</td>\n      <td>0.678970</td>\n      <td>0.689441</td>\n    </tr>\n    <tr>\n      <th>nerve</th>\n      <td>0.495</td>\n      <td>0.4130</td>\n      <td>0.384333</td>\n      <td>0.36550</td>\n      <td>0.3616</td>\n      <td>0.355333</td>\n      <td>0.352857</td>\n      <td>0.343375</td>\n      <td>0.334667</td>\n      <td>0.3275</td>\n      <td>...</td>\n      <td>0.30496</td>\n      <td>0.303154</td>\n      <td>0.304000</td>\n      <td>0.303536</td>\n      <td>0.304586</td>\n      <td>0.306267</td>\n      <td>0.306290</td>\n      <td>0.308000</td>\n      <td>0.314727</td>\n      <td>0.319382</td>\n    </tr>\n    <tr>\n      <th>bloodvessel</th>\n      <td>3.054</td>\n      <td>2.6595</td>\n      <td>2.659000</td>\n      <td>2.79825</td>\n      <td>2.7842</td>\n      <td>2.719167</td>\n      <td>2.724857</td>\n      <td>2.702500</td>\n      <td>2.684444</td>\n      <td>2.6825</td>\n      <td>...</td>\n      <td>2.58244</td>\n      <td>2.573385</td>\n      <td>2.590037</td>\n      <td>2.599571</td>\n      <td>2.609379</td>\n      <td>2.634433</td>\n      <td>2.641613</td>\n      <td>2.670031</td>\n      <td>2.702000</td>\n      <td>2.716000</td>\n    </tr>\n    <tr>\n      <th>ecm</th>\n      <td>65.367</td>\n      <td>60.6475</td>\n      <td>59.041000</td>\n      <td>57.92400</td>\n      <td>57.9056</td>\n      <td>58.195000</td>\n      <td>58.281714</td>\n      <td>58.179500</td>\n      <td>58.010111</td>\n      <td>57.9726</td>\n      <td>...</td>\n      <td>58.04884</td>\n      <td>58.063115</td>\n      <td>58.311630</td>\n      <td>58.486071</td>\n      <td>58.657379</td>\n      <td>58.928267</td>\n      <td>59.148839</td>\n      <td>59.454594</td>\n      <td>59.603182</td>\n      <td>59.784765</td>\n    </tr>\n    <tr>\n      <th>fat</th>\n      <td>7.351</td>\n      <td>10.1010</td>\n      <td>10.782667</td>\n      <td>10.92100</td>\n      <td>11.1514</td>\n      <td>11.180500</td>\n      <td>11.214000</td>\n      <td>11.297625</td>\n      <td>11.370444</td>\n      <td>11.4233</td>\n      <td>...</td>\n      <td>11.95408</td>\n      <td>11.923423</td>\n      <td>11.813000</td>\n      <td>11.771929</td>\n      <td>11.697759</td>\n      <td>11.560167</td>\n      <td>11.445968</td>\n      <td>11.269344</td>\n      <td>11.116061</td>\n      <td>10.981441</td>\n    </tr>\n    <tr>\n      <th>white</th>\n      <td>13.549</td>\n      <td>18.4455</td>\n      <td>20.237333</td>\n      <td>21.48825</td>\n      <td>21.5518</td>\n      <td>21.571167</td>\n      <td>21.590429</td>\n      <td>21.760250</td>\n      <td>21.996778</td>\n      <td>22.0454</td>\n      <td>...</td>\n      <td>21.73756</td>\n      <td>21.790269</td>\n      <td>21.636704</td>\n      <td>21.496893</td>\n      <td>21.354103</td>\n      <td>21.129933</td>\n      <td>20.954516</td>\n      <td>20.680688</td>\n      <td>20.466545</td>\n      <td>20.269735</td>\n    </tr>\n  </tbody>\n</table>\n<p>12 rows × 34 columns</p>\n</div>"
     },
     "execution_count": 10,
     "metadata": {},
     "output_type": "execute_result"
    }
   ],
   "source": [
    "running_avg_df = ratio_df.iloc[:,0]\n",
    "for idx in range(2,len(mask_files_path_complete)+1):\n",
    "    sliced_df = ratio_df.iloc[:,0:idx]\n",
    "    avg_df = sliced_df.mean(axis=1)\n",
    "    running_avg_df = pd.concat([running_avg_df,avg_df],axis=1)\n",
    "running_avg_df.columns = ratio_df.columns\n",
    "running_avg_df"
   ],
   "metadata": {
    "collapsed": false
   }
  },
  {
   "cell_type": "code",
   "execution_count": 11,
   "outputs": [],
   "source": [
    "running_avg_df_T = running_avg_df.T\n",
    "plt.figure(figsize=(10,5))\n",
    "plt.ylim(0,27)\n",
    "plt.ylabel(\"[%]\")\n",
    "plt.xlabel(\"Z-Axis\")\n",
    "plt.title(\"Running average of tissue composition along serial section of human skin before registration\")\n",
    "sns.lineplot(data = running_avg_df_T)\n",
    "plt.show()"
   ],
   "metadata": {
    "collapsed": false
   }
  },
  {
   "cell_type": "code",
   "execution_count": 12,
   "outputs": [
    {
     "data": {
      "text/plain": "                   1        4          7        10       13         16  \\\ncorneum        1.775   1.4480   1.378000   1.39500   1.4004   1.359500   \nspinosum       2.714   2.1575   1.969667   1.94100   1.8844   1.824167   \nhairshaft      0.762   0.5055   0.410333   0.40350   0.3592   0.327500   \nhairfollicle   0.679   0.4355   0.364333   0.33975   0.3146   0.295833   \nsmoothmuscle   1.193   0.7220   0.602000   0.56800   0.5338   0.499500   \noil            2.231   1.4055   1.164667   1.00975   0.9418   0.836167   \nsweat          0.925   0.6915   0.642000   0.63250   0.6124   0.597833   \nnerve          0.725   0.5620   0.528667   0.52025   0.5174   0.508000   \nbloodvessel    6.906   5.8600   5.759000   5.80325   5.8252   5.807167   \necm           63.055  57.8030  56.493000  55.60800  55.8940  56.449000   \nfat            9.962  13.0715  14.028667  14.29425  14.4916  14.586167   \nwhite          9.072  15.3365  16.659333  17.48425  17.2246  16.908833   \n\n                     19         22         25       28  ...        73  \\\ncorneum        1.370571   1.339500   1.342000   1.3501  ...   1.34372   \nspinosum       1.806429   1.758000   1.721778   1.7335  ...   1.65668   \nhairshaft      0.309429   0.292375   0.277556   0.2680  ...   0.22724   \nhairfollicle   0.287429   0.276625   0.263222   0.2539  ...   0.22396   \nsmoothmuscle   0.470429   0.456000   0.438778   0.4314  ...   0.40976   \noil            0.806000   0.778625   0.765778   0.7608  ...   0.74284   \nsweat          0.596571   0.594875   0.585889   0.5861  ...   0.61988   \nnerve          0.508286   0.495500   0.485000   0.4776  ...   0.44540   \nbloodvessel    5.832000   5.809250   5.786556   5.7858  ...   5.53620   \necm           56.697286  56.725125  56.649222  56.5986  ...  56.96984   \nfat           14.622571  14.747375  14.882000  14.9554  ...  15.15964   \nwhite         16.692714  16.726625  16.802111  16.7987  ...  16.66492   \n\n                     76         79         82         85         88  \\\ncorneum        1.353423   1.347630   1.345036   1.354034   1.363200   \nspinosum       1.651577   1.646852   1.651607   1.660690   1.671333   \nhairshaft      0.223077   0.222333   0.224929   0.224690   0.223500   \nhairfollicle   0.220654   0.221556   0.224321   0.224241   0.226067   \nsmoothmuscle   0.409500   0.409148   0.411893   0.418759   0.429200   \noil            0.736154   0.745259   0.738250   0.768862   0.812467   \nsweat          0.614654   0.614815   0.612071   0.612552   0.619500   \nnerve          0.443923   0.446370   0.446929   0.450448   0.455433   \nbloodvessel    5.533808   5.573222   5.607250   5.638897   5.696667   \necm           56.994308  57.249667  57.422214  57.583483  57.814267   \nfat           15.132231  15.006000  14.947464  14.857276  14.700233   \nwhite         16.686769  16.517185  16.368036  16.206103  15.988100   \n\n                     91         94         97        100  \ncorneum        1.362419   1.364438   1.371424   1.375618  \nspinosum       1.675258   1.685812   1.710970   1.732029  \nhairshaft      0.222516   0.233031   0.238333   0.241500  \nhairfollicle   0.227516   0.235000   0.246545   0.255029  \nsmoothmuscle   0.445774   0.474469   0.551273   0.591441  \noil            0.850387   0.892500   0.938788   0.974147  \nsweat          0.624581   0.631906   0.647909   0.659794  \nnerve          0.457258   0.462000   0.472727   0.479941  \nbloodvessel    5.727677   5.793750   5.850545   5.893118  \necm           58.025000  58.291562  58.403030  58.553588  \nfat           14.570774  14.367812  14.197242  14.053088  \nwhite         15.810806  15.567656  15.371182  15.190676  \n\n[12 rows x 34 columns]",
      "text/html": "<div>\n<style scoped>\n    .dataframe tbody tr th:only-of-type {\n        vertical-align: middle;\n    }\n\n    .dataframe tbody tr th {\n        vertical-align: top;\n    }\n\n    .dataframe thead th {\n        text-align: right;\n    }\n</style>\n<table border=\"1\" class=\"dataframe\">\n  <thead>\n    <tr style=\"text-align: right;\">\n      <th></th>\n      <th>1</th>\n      <th>4</th>\n      <th>7</th>\n      <th>10</th>\n      <th>13</th>\n      <th>16</th>\n      <th>19</th>\n      <th>22</th>\n      <th>25</th>\n      <th>28</th>\n      <th>...</th>\n      <th>73</th>\n      <th>76</th>\n      <th>79</th>\n      <th>82</th>\n      <th>85</th>\n      <th>88</th>\n      <th>91</th>\n      <th>94</th>\n      <th>97</th>\n      <th>100</th>\n    </tr>\n  </thead>\n  <tbody>\n    <tr>\n      <th>corneum</th>\n      <td>1.775</td>\n      <td>1.4480</td>\n      <td>1.378000</td>\n      <td>1.39500</td>\n      <td>1.4004</td>\n      <td>1.359500</td>\n      <td>1.370571</td>\n      <td>1.339500</td>\n      <td>1.342000</td>\n      <td>1.3501</td>\n      <td>...</td>\n      <td>1.34372</td>\n      <td>1.353423</td>\n      <td>1.347630</td>\n      <td>1.345036</td>\n      <td>1.354034</td>\n      <td>1.363200</td>\n      <td>1.362419</td>\n      <td>1.364438</td>\n      <td>1.371424</td>\n      <td>1.375618</td>\n    </tr>\n    <tr>\n      <th>spinosum</th>\n      <td>2.714</td>\n      <td>2.1575</td>\n      <td>1.969667</td>\n      <td>1.94100</td>\n      <td>1.8844</td>\n      <td>1.824167</td>\n      <td>1.806429</td>\n      <td>1.758000</td>\n      <td>1.721778</td>\n      <td>1.7335</td>\n      <td>...</td>\n      <td>1.65668</td>\n      <td>1.651577</td>\n      <td>1.646852</td>\n      <td>1.651607</td>\n      <td>1.660690</td>\n      <td>1.671333</td>\n      <td>1.675258</td>\n      <td>1.685812</td>\n      <td>1.710970</td>\n      <td>1.732029</td>\n    </tr>\n    <tr>\n      <th>hairshaft</th>\n      <td>0.762</td>\n      <td>0.5055</td>\n      <td>0.410333</td>\n      <td>0.40350</td>\n      <td>0.3592</td>\n      <td>0.327500</td>\n      <td>0.309429</td>\n      <td>0.292375</td>\n      <td>0.277556</td>\n      <td>0.2680</td>\n      <td>...</td>\n      <td>0.22724</td>\n      <td>0.223077</td>\n      <td>0.222333</td>\n      <td>0.224929</td>\n      <td>0.224690</td>\n      <td>0.223500</td>\n      <td>0.222516</td>\n      <td>0.233031</td>\n      <td>0.238333</td>\n      <td>0.241500</td>\n    </tr>\n    <tr>\n      <th>hairfollicle</th>\n      <td>0.679</td>\n      <td>0.4355</td>\n      <td>0.364333</td>\n      <td>0.33975</td>\n      <td>0.3146</td>\n      <td>0.295833</td>\n      <td>0.287429</td>\n      <td>0.276625</td>\n      <td>0.263222</td>\n      <td>0.2539</td>\n      <td>...</td>\n      <td>0.22396</td>\n      <td>0.220654</td>\n      <td>0.221556</td>\n      <td>0.224321</td>\n      <td>0.224241</td>\n      <td>0.226067</td>\n      <td>0.227516</td>\n      <td>0.235000</td>\n      <td>0.246545</td>\n      <td>0.255029</td>\n    </tr>\n    <tr>\n      <th>smoothmuscle</th>\n      <td>1.193</td>\n      <td>0.7220</td>\n      <td>0.602000</td>\n      <td>0.56800</td>\n      <td>0.5338</td>\n      <td>0.499500</td>\n      <td>0.470429</td>\n      <td>0.456000</td>\n      <td>0.438778</td>\n      <td>0.4314</td>\n      <td>...</td>\n      <td>0.40976</td>\n      <td>0.409500</td>\n      <td>0.409148</td>\n      <td>0.411893</td>\n      <td>0.418759</td>\n      <td>0.429200</td>\n      <td>0.445774</td>\n      <td>0.474469</td>\n      <td>0.551273</td>\n      <td>0.591441</td>\n    </tr>\n    <tr>\n      <th>oil</th>\n      <td>2.231</td>\n      <td>1.4055</td>\n      <td>1.164667</td>\n      <td>1.00975</td>\n      <td>0.9418</td>\n      <td>0.836167</td>\n      <td>0.806000</td>\n      <td>0.778625</td>\n      <td>0.765778</td>\n      <td>0.7608</td>\n      <td>...</td>\n      <td>0.74284</td>\n      <td>0.736154</td>\n      <td>0.745259</td>\n      <td>0.738250</td>\n      <td>0.768862</td>\n      <td>0.812467</td>\n      <td>0.850387</td>\n      <td>0.892500</td>\n      <td>0.938788</td>\n      <td>0.974147</td>\n    </tr>\n    <tr>\n      <th>sweat</th>\n      <td>0.925</td>\n      <td>0.6915</td>\n      <td>0.642000</td>\n      <td>0.63250</td>\n      <td>0.6124</td>\n      <td>0.597833</td>\n      <td>0.596571</td>\n      <td>0.594875</td>\n      <td>0.585889</td>\n      <td>0.5861</td>\n      <td>...</td>\n      <td>0.61988</td>\n      <td>0.614654</td>\n      <td>0.614815</td>\n      <td>0.612071</td>\n      <td>0.612552</td>\n      <td>0.619500</td>\n      <td>0.624581</td>\n      <td>0.631906</td>\n      <td>0.647909</td>\n      <td>0.659794</td>\n    </tr>\n    <tr>\n      <th>nerve</th>\n      <td>0.725</td>\n      <td>0.5620</td>\n      <td>0.528667</td>\n      <td>0.52025</td>\n      <td>0.5174</td>\n      <td>0.508000</td>\n      <td>0.508286</td>\n      <td>0.495500</td>\n      <td>0.485000</td>\n      <td>0.4776</td>\n      <td>...</td>\n      <td>0.44540</td>\n      <td>0.443923</td>\n      <td>0.446370</td>\n      <td>0.446929</td>\n      <td>0.450448</td>\n      <td>0.455433</td>\n      <td>0.457258</td>\n      <td>0.462000</td>\n      <td>0.472727</td>\n      <td>0.479941</td>\n    </tr>\n    <tr>\n      <th>bloodvessel</th>\n      <td>6.906</td>\n      <td>5.8600</td>\n      <td>5.759000</td>\n      <td>5.80325</td>\n      <td>5.8252</td>\n      <td>5.807167</td>\n      <td>5.832000</td>\n      <td>5.809250</td>\n      <td>5.786556</td>\n      <td>5.7858</td>\n      <td>...</td>\n      <td>5.53620</td>\n      <td>5.533808</td>\n      <td>5.573222</td>\n      <td>5.607250</td>\n      <td>5.638897</td>\n      <td>5.696667</td>\n      <td>5.727677</td>\n      <td>5.793750</td>\n      <td>5.850545</td>\n      <td>5.893118</td>\n    </tr>\n    <tr>\n      <th>ecm</th>\n      <td>63.055</td>\n      <td>57.8030</td>\n      <td>56.493000</td>\n      <td>55.60800</td>\n      <td>55.8940</td>\n      <td>56.449000</td>\n      <td>56.697286</td>\n      <td>56.725125</td>\n      <td>56.649222</td>\n      <td>56.5986</td>\n      <td>...</td>\n      <td>56.96984</td>\n      <td>56.994308</td>\n      <td>57.249667</td>\n      <td>57.422214</td>\n      <td>57.583483</td>\n      <td>57.814267</td>\n      <td>58.025000</td>\n      <td>58.291562</td>\n      <td>58.403030</td>\n      <td>58.553588</td>\n    </tr>\n    <tr>\n      <th>fat</th>\n      <td>9.962</td>\n      <td>13.0715</td>\n      <td>14.028667</td>\n      <td>14.29425</td>\n      <td>14.4916</td>\n      <td>14.586167</td>\n      <td>14.622571</td>\n      <td>14.747375</td>\n      <td>14.882000</td>\n      <td>14.9554</td>\n      <td>...</td>\n      <td>15.15964</td>\n      <td>15.132231</td>\n      <td>15.006000</td>\n      <td>14.947464</td>\n      <td>14.857276</td>\n      <td>14.700233</td>\n      <td>14.570774</td>\n      <td>14.367812</td>\n      <td>14.197242</td>\n      <td>14.053088</td>\n    </tr>\n    <tr>\n      <th>white</th>\n      <td>9.072</td>\n      <td>15.3365</td>\n      <td>16.659333</td>\n      <td>17.48425</td>\n      <td>17.2246</td>\n      <td>16.908833</td>\n      <td>16.692714</td>\n      <td>16.726625</td>\n      <td>16.802111</td>\n      <td>16.7987</td>\n      <td>...</td>\n      <td>16.66492</td>\n      <td>16.686769</td>\n      <td>16.517185</td>\n      <td>16.368036</td>\n      <td>16.206103</td>\n      <td>15.988100</td>\n      <td>15.810806</td>\n      <td>15.567656</td>\n      <td>15.371182</td>\n      <td>15.190676</td>\n    </tr>\n  </tbody>\n</table>\n<p>12 rows × 34 columns</p>\n</div>"
     },
     "execution_count": 12,
     "metadata": {},
     "output_type": "execute_result"
    }
   ],
   "source": [
    "running_avg_df1 = ratio_df1.iloc[:,0]\n",
    "for idx in range(2,len(mask_files_path_complete)+1):\n",
    "    sliced_df1 = ratio_df1.iloc[:,0:idx]\n",
    "    avg_df1 = sliced_df1.mean(axis=1)\n",
    "    running_avg_df1 = pd.concat([running_avg_df1,avg_df1],axis=1)\n",
    "running_avg_df1.columns = ratio_df1.columns\n",
    "running_avg_df1"
   ],
   "metadata": {
    "collapsed": false
   }
  },
  {
   "cell_type": "code",
   "execution_count": 13,
   "outputs": [],
   "source": [
    "running_avg_df1_T = running_avg_df1.T\n",
    "plt.figure(figsize=(10,5))\n",
    "plt.ylim(0,27)\n",
    "plt.ylabel(\"[%]\")\n",
    "plt.xlabel(\"Z-Axis\")\n",
    "plt.title(\"Running average of tissue composition along serial section of human skin after registration\")\n",
    "sns.lineplot(data = running_avg_df1_T)\n",
    "plt.show()"
   ],
   "metadata": {
    "collapsed": false
   }
  },
  {
   "cell_type": "code",
   "execution_count": 14,
   "outputs": [
    {
     "data": {
      "text/plain": "                  1       4         7       10      13        16        19  \\\ncorneum      -0.023 -0.1205 -0.092000 -0.04450 -0.0436 -0.071833 -0.052571   \nspinosum     -0.038 -0.2050 -0.204333 -0.11900 -0.1258 -0.158833 -0.142429   \nhairshaft     0.041  0.0060 -0.006667 -0.00300 -0.0008  0.001500  0.002857   \nhairfollicle  0.049  0.0080  0.002333  0.00100  0.0050  0.005333  0.004714   \nsmoothmuscle  0.120  0.0675  0.052333  0.04475  0.0424  0.040000  0.040571   \noil          -0.068 -0.0795 -0.072333 -0.05450 -0.0398 -0.026167 -0.017571   \nsweat         0.014 -0.0445 -0.044000 -0.03825 -0.0360 -0.028333 -0.024857   \nnerve         0.230  0.1490  0.144333  0.15475  0.1558  0.152667  0.155429   \nbloodvessel   3.852  3.2005  3.100000  3.00500  3.0410  3.088000  3.107143   \necm          -2.312 -2.8445 -2.548000 -2.31600 -2.0116 -1.746000 -1.584429   \nfat           2.611  2.9705  3.246000  3.37325  3.3402  3.405667  3.408571   \nwhite        -4.477 -3.1090 -3.578000 -4.00400 -4.3272 -4.662333 -4.897714   \n\n                    22        25      28  ...       73        76        79  \\\ncorneum      -0.063500 -0.050222 -0.0378  ... -0.02748 -0.025615 -0.027481   \nspinosum     -0.160000 -0.166333 -0.1384  ... -0.12544 -0.118731 -0.116667   \nhairshaft     0.000500  0.000000 -0.0005  ...  0.00348  0.004038  0.004111   \nhairfollicle  0.004625  0.005667  0.0057  ...  0.00976  0.010654  0.011148   \nsmoothmuscle  0.038750  0.039000  0.0383  ...  0.03632  0.035769  0.035519   \noil          -0.016625 -0.012778 -0.0097  ... -0.01072 -0.011038 -0.011852   \nsweat        -0.024625 -0.023889 -0.0224  ... -0.03364 -0.032346 -0.031481   \nnerve         0.152125  0.150333  0.1501  ...  0.14044  0.140769  0.142370   \nbloodvessel   3.106750  3.102111  3.1033  ...  2.95376  2.960423  2.983185   \necm          -1.454375 -1.360889 -1.3740  ... -1.07900 -1.068808 -1.061963   \nfat           3.449750  3.511556  3.5321  ...  3.20556  3.208808  3.193000   \nwhite        -5.033625 -5.194667 -5.2467  ... -5.07264 -5.103500 -5.119519   \n\n                    82        85        88        91        94        97  \\\ncorneum      -0.028107 -0.020241 -0.012933 -0.011839 -0.010937 -0.009303   \nspinosum     -0.116536 -0.103345 -0.094167 -0.088000 -0.088250 -0.087364   \nhairshaft     0.004857  0.005138  0.005700  0.005613  0.007719  0.008848   \nhairfollicle  0.012107  0.012828  0.013667  0.014226  0.014969  0.019242   \nsmoothmuscle  0.035107  0.037586  0.040433  0.045129  0.046156  0.048121   \noil          -0.010429 -0.014448 -0.018633 -0.029387 -0.038156 -0.040424   \nsweat        -0.030571 -0.030138 -0.029367 -0.029677 -0.031344 -0.031061   \nnerve         0.143393  0.145862  0.149167  0.150968  0.154000  0.158000   \nbloodvessel   3.007679  3.029517  3.062233  3.086065  3.123719  3.148545   \necm          -1.063857 -1.073897 -1.114000 -1.123839 -1.163031 -1.200152   \nfat           3.175536  3.159517  3.140067  3.124806  3.098469  3.081182   \nwhite        -5.128857 -5.148000 -5.141833 -5.143710 -5.113031 -5.095364   \n\n                   100  \ncorneum      -0.010235  \nspinosum     -0.094471  \nhairshaft     0.008765  \nhairfollicle  0.020647  \nsmoothmuscle  0.050029  \noil          -0.043941  \nsweat        -0.029647  \nnerve         0.160559  \nbloodvessel   3.177118  \necm          -1.231176  \nfat           3.071647  \nwhite        -5.079059  \n\n[12 rows x 34 columns]",
      "text/html": "<div>\n<style scoped>\n    .dataframe tbody tr th:only-of-type {\n        vertical-align: middle;\n    }\n\n    .dataframe tbody tr th {\n        vertical-align: top;\n    }\n\n    .dataframe thead th {\n        text-align: right;\n    }\n</style>\n<table border=\"1\" class=\"dataframe\">\n  <thead>\n    <tr style=\"text-align: right;\">\n      <th></th>\n      <th>1</th>\n      <th>4</th>\n      <th>7</th>\n      <th>10</th>\n      <th>13</th>\n      <th>16</th>\n      <th>19</th>\n      <th>22</th>\n      <th>25</th>\n      <th>28</th>\n      <th>...</th>\n      <th>73</th>\n      <th>76</th>\n      <th>79</th>\n      <th>82</th>\n      <th>85</th>\n      <th>88</th>\n      <th>91</th>\n      <th>94</th>\n      <th>97</th>\n      <th>100</th>\n    </tr>\n  </thead>\n  <tbody>\n    <tr>\n      <th>corneum</th>\n      <td>-0.023</td>\n      <td>-0.1205</td>\n      <td>-0.092000</td>\n      <td>-0.04450</td>\n      <td>-0.0436</td>\n      <td>-0.071833</td>\n      <td>-0.052571</td>\n      <td>-0.063500</td>\n      <td>-0.050222</td>\n      <td>-0.0378</td>\n      <td>...</td>\n      <td>-0.02748</td>\n      <td>-0.025615</td>\n      <td>-0.027481</td>\n      <td>-0.028107</td>\n      <td>-0.020241</td>\n      <td>-0.012933</td>\n      <td>-0.011839</td>\n      <td>-0.010937</td>\n      <td>-0.009303</td>\n      <td>-0.010235</td>\n    </tr>\n    <tr>\n      <th>spinosum</th>\n      <td>-0.038</td>\n      <td>-0.2050</td>\n      <td>-0.204333</td>\n      <td>-0.11900</td>\n      <td>-0.1258</td>\n      <td>-0.158833</td>\n      <td>-0.142429</td>\n      <td>-0.160000</td>\n      <td>-0.166333</td>\n      <td>-0.1384</td>\n      <td>...</td>\n      <td>-0.12544</td>\n      <td>-0.118731</td>\n      <td>-0.116667</td>\n      <td>-0.116536</td>\n      <td>-0.103345</td>\n      <td>-0.094167</td>\n      <td>-0.088000</td>\n      <td>-0.088250</td>\n      <td>-0.087364</td>\n      <td>-0.094471</td>\n    </tr>\n    <tr>\n      <th>hairshaft</th>\n      <td>0.041</td>\n      <td>0.0060</td>\n      <td>-0.006667</td>\n      <td>-0.00300</td>\n      <td>-0.0008</td>\n      <td>0.001500</td>\n      <td>0.002857</td>\n      <td>0.000500</td>\n      <td>0.000000</td>\n      <td>-0.0005</td>\n      <td>...</td>\n      <td>0.00348</td>\n      <td>0.004038</td>\n      <td>0.004111</td>\n      <td>0.004857</td>\n      <td>0.005138</td>\n      <td>0.005700</td>\n      <td>0.005613</td>\n      <td>0.007719</td>\n      <td>0.008848</td>\n      <td>0.008765</td>\n    </tr>\n    <tr>\n      <th>hairfollicle</th>\n      <td>0.049</td>\n      <td>0.0080</td>\n      <td>0.002333</td>\n      <td>0.00100</td>\n      <td>0.0050</td>\n      <td>0.005333</td>\n      <td>0.004714</td>\n      <td>0.004625</td>\n      <td>0.005667</td>\n      <td>0.0057</td>\n      <td>...</td>\n      <td>0.00976</td>\n      <td>0.010654</td>\n      <td>0.011148</td>\n      <td>0.012107</td>\n      <td>0.012828</td>\n      <td>0.013667</td>\n      <td>0.014226</td>\n      <td>0.014969</td>\n      <td>0.019242</td>\n      <td>0.020647</td>\n    </tr>\n    <tr>\n      <th>smoothmuscle</th>\n      <td>0.120</td>\n      <td>0.0675</td>\n      <td>0.052333</td>\n      <td>0.04475</td>\n      <td>0.0424</td>\n      <td>0.040000</td>\n      <td>0.040571</td>\n      <td>0.038750</td>\n      <td>0.039000</td>\n      <td>0.0383</td>\n      <td>...</td>\n      <td>0.03632</td>\n      <td>0.035769</td>\n      <td>0.035519</td>\n      <td>0.035107</td>\n      <td>0.037586</td>\n      <td>0.040433</td>\n      <td>0.045129</td>\n      <td>0.046156</td>\n      <td>0.048121</td>\n      <td>0.050029</td>\n    </tr>\n    <tr>\n      <th>oil</th>\n      <td>-0.068</td>\n      <td>-0.0795</td>\n      <td>-0.072333</td>\n      <td>-0.05450</td>\n      <td>-0.0398</td>\n      <td>-0.026167</td>\n      <td>-0.017571</td>\n      <td>-0.016625</td>\n      <td>-0.012778</td>\n      <td>-0.0097</td>\n      <td>...</td>\n      <td>-0.01072</td>\n      <td>-0.011038</td>\n      <td>-0.011852</td>\n      <td>-0.010429</td>\n      <td>-0.014448</td>\n      <td>-0.018633</td>\n      <td>-0.029387</td>\n      <td>-0.038156</td>\n      <td>-0.040424</td>\n      <td>-0.043941</td>\n    </tr>\n    <tr>\n      <th>sweat</th>\n      <td>0.014</td>\n      <td>-0.0445</td>\n      <td>-0.044000</td>\n      <td>-0.03825</td>\n      <td>-0.0360</td>\n      <td>-0.028333</td>\n      <td>-0.024857</td>\n      <td>-0.024625</td>\n      <td>-0.023889</td>\n      <td>-0.0224</td>\n      <td>...</td>\n      <td>-0.03364</td>\n      <td>-0.032346</td>\n      <td>-0.031481</td>\n      <td>-0.030571</td>\n      <td>-0.030138</td>\n      <td>-0.029367</td>\n      <td>-0.029677</td>\n      <td>-0.031344</td>\n      <td>-0.031061</td>\n      <td>-0.029647</td>\n    </tr>\n    <tr>\n      <th>nerve</th>\n      <td>0.230</td>\n      <td>0.1490</td>\n      <td>0.144333</td>\n      <td>0.15475</td>\n      <td>0.1558</td>\n      <td>0.152667</td>\n      <td>0.155429</td>\n      <td>0.152125</td>\n      <td>0.150333</td>\n      <td>0.1501</td>\n      <td>...</td>\n      <td>0.14044</td>\n      <td>0.140769</td>\n      <td>0.142370</td>\n      <td>0.143393</td>\n      <td>0.145862</td>\n      <td>0.149167</td>\n      <td>0.150968</td>\n      <td>0.154000</td>\n      <td>0.158000</td>\n      <td>0.160559</td>\n    </tr>\n    <tr>\n      <th>bloodvessel</th>\n      <td>3.852</td>\n      <td>3.2005</td>\n      <td>3.100000</td>\n      <td>3.00500</td>\n      <td>3.0410</td>\n      <td>3.088000</td>\n      <td>3.107143</td>\n      <td>3.106750</td>\n      <td>3.102111</td>\n      <td>3.1033</td>\n      <td>...</td>\n      <td>2.95376</td>\n      <td>2.960423</td>\n      <td>2.983185</td>\n      <td>3.007679</td>\n      <td>3.029517</td>\n      <td>3.062233</td>\n      <td>3.086065</td>\n      <td>3.123719</td>\n      <td>3.148545</td>\n      <td>3.177118</td>\n    </tr>\n    <tr>\n      <th>ecm</th>\n      <td>-2.312</td>\n      <td>-2.8445</td>\n      <td>-2.548000</td>\n      <td>-2.31600</td>\n      <td>-2.0116</td>\n      <td>-1.746000</td>\n      <td>-1.584429</td>\n      <td>-1.454375</td>\n      <td>-1.360889</td>\n      <td>-1.3740</td>\n      <td>...</td>\n      <td>-1.07900</td>\n      <td>-1.068808</td>\n      <td>-1.061963</td>\n      <td>-1.063857</td>\n      <td>-1.073897</td>\n      <td>-1.114000</td>\n      <td>-1.123839</td>\n      <td>-1.163031</td>\n      <td>-1.200152</td>\n      <td>-1.231176</td>\n    </tr>\n    <tr>\n      <th>fat</th>\n      <td>2.611</td>\n      <td>2.9705</td>\n      <td>3.246000</td>\n      <td>3.37325</td>\n      <td>3.3402</td>\n      <td>3.405667</td>\n      <td>3.408571</td>\n      <td>3.449750</td>\n      <td>3.511556</td>\n      <td>3.5321</td>\n      <td>...</td>\n      <td>3.20556</td>\n      <td>3.208808</td>\n      <td>3.193000</td>\n      <td>3.175536</td>\n      <td>3.159517</td>\n      <td>3.140067</td>\n      <td>3.124806</td>\n      <td>3.098469</td>\n      <td>3.081182</td>\n      <td>3.071647</td>\n    </tr>\n    <tr>\n      <th>white</th>\n      <td>-4.477</td>\n      <td>-3.1090</td>\n      <td>-3.578000</td>\n      <td>-4.00400</td>\n      <td>-4.3272</td>\n      <td>-4.662333</td>\n      <td>-4.897714</td>\n      <td>-5.033625</td>\n      <td>-5.194667</td>\n      <td>-5.2467</td>\n      <td>...</td>\n      <td>-5.07264</td>\n      <td>-5.103500</td>\n      <td>-5.119519</td>\n      <td>-5.128857</td>\n      <td>-5.148000</td>\n      <td>-5.141833</td>\n      <td>-5.143710</td>\n      <td>-5.113031</td>\n      <td>-5.095364</td>\n      <td>-5.079059</td>\n    </tr>\n  </tbody>\n</table>\n<p>12 rows × 34 columns</p>\n</div>"
     },
     "execution_count": 14,
     "metadata": {},
     "output_type": "execute_result"
    }
   ],
   "source": [
    "diff_df1 = running_avg_df1 - running_avg_df\n",
    "diff_df1"
   ],
   "metadata": {
    "collapsed": false
   }
  },
  {
   "cell_type": "markdown",
   "source": [
    "## Can see that after registration, we see increase of fat, blood vessel and decrease of ecm and white compared to before registration.\n",
    "## Find two examples that have the highest differences so that we can compare by image:"
   ],
   "metadata": {
    "collapsed": false
   }
  },
  {
   "cell_type": "code",
   "execution_count": 15,
   "outputs": [
    {
     "data": {
      "text/plain": "                  1      4      7     10     13     16     19     22     25  \\\ncorneum      -0.023 -0.218 -0.035  0.098 -0.040 -0.213  0.063 -0.140  0.056   \nspinosum     -0.038 -0.372 -0.203  0.137 -0.153 -0.324 -0.044 -0.283 -0.217   \nhairshaft     0.041 -0.029 -0.032  0.008  0.008  0.013  0.011 -0.016 -0.004   \nhairfollicle  0.049 -0.033 -0.009 -0.003  0.021  0.007  0.001  0.004  0.014   \nsmoothmuscle  0.120  0.015  0.022  0.022  0.033  0.028  0.044  0.026  0.041   \noil          -0.068 -0.091 -0.058 -0.001  0.019  0.042  0.034 -0.010  0.018   \nsweat         0.014 -0.103 -0.043 -0.021 -0.027  0.010 -0.004 -0.023 -0.018   \nnerve         0.230  0.068  0.135  0.186  0.160  0.137  0.172  0.129  0.136   \nbloodvessel   3.852  2.549  2.899  2.720  3.185  3.323  3.222  3.104  3.065   \necm          -2.312 -3.377 -1.955 -1.620 -0.794 -0.418 -0.615 -0.544 -0.613   \nfat           2.611  3.330  3.797  3.755  3.208  3.733  3.426  3.738  4.006   \nwhite        -4.477 -1.741 -4.516 -5.282 -5.620 -6.338 -6.310 -5.985 -6.483   \n\n                 28  ...     73     76     79     82     85     88     91  \\\ncorneum       0.074  ... -0.143  0.021 -0.076 -0.045  0.200  0.199  0.021   \nspinosum      0.113  ... -0.169  0.049 -0.063 -0.113  0.266  0.172  0.097   \nhairshaft    -0.005  ...  0.000  0.018  0.006  0.025  0.013  0.022  0.003   \nhairfollicle  0.006  ...  0.011  0.033  0.024  0.038  0.033  0.038  0.031   \nsmoothmuscle  0.032  ...  0.002  0.022  0.029  0.024  0.107  0.123  0.186   \noil           0.018  ...  0.040 -0.019 -0.033  0.028 -0.127 -0.140 -0.352   \nsweat        -0.009  ... -0.013  0.000 -0.009 -0.006 -0.018 -0.007 -0.039   \nnerve         0.148  ...  0.211  0.149  0.184  0.171  0.215  0.245  0.205   \nbloodvessel   3.114  ...  3.457  3.127  3.575  3.669  3.641  4.011  3.801   \necm          -1.492  ... -0.473 -0.814 -0.884 -1.115 -1.355 -2.277 -1.419   \nfat           3.717  ...  2.824  3.290  2.782  2.704  2.711  2.576  2.667   \nwhite        -5.715  ... -5.744 -5.875 -5.536 -5.381 -5.684 -4.963 -5.200   \n\n                 94     97    100  \ncorneum       0.017  0.043 -0.041  \nspinosum     -0.096 -0.059 -0.329  \nhairshaft     0.073  0.045  0.006  \nhairfollicle  0.038  0.156  0.067  \nsmoothmuscle  0.078  0.111  0.113  \noil          -0.310 -0.113 -0.160  \nsweat        -0.083 -0.022  0.017  \nnerve         0.248  0.286  0.245  \nbloodvessel   4.291  3.943  4.120  \necm          -2.378 -2.388 -2.255  \nfat           2.282  2.528  2.757  \nwhite        -4.162 -4.530 -4.541  \n\n[12 rows x 34 columns]",
      "text/html": "<div>\n<style scoped>\n    .dataframe tbody tr th:only-of-type {\n        vertical-align: middle;\n    }\n\n    .dataframe tbody tr th {\n        vertical-align: top;\n    }\n\n    .dataframe thead th {\n        text-align: right;\n    }\n</style>\n<table border=\"1\" class=\"dataframe\">\n  <thead>\n    <tr style=\"text-align: right;\">\n      <th></th>\n      <th>1</th>\n      <th>4</th>\n      <th>7</th>\n      <th>10</th>\n      <th>13</th>\n      <th>16</th>\n      <th>19</th>\n      <th>22</th>\n      <th>25</th>\n      <th>28</th>\n      <th>...</th>\n      <th>73</th>\n      <th>76</th>\n      <th>79</th>\n      <th>82</th>\n      <th>85</th>\n      <th>88</th>\n      <th>91</th>\n      <th>94</th>\n      <th>97</th>\n      <th>100</th>\n    </tr>\n  </thead>\n  <tbody>\n    <tr>\n      <th>corneum</th>\n      <td>-0.023</td>\n      <td>-0.218</td>\n      <td>-0.035</td>\n      <td>0.098</td>\n      <td>-0.040</td>\n      <td>-0.213</td>\n      <td>0.063</td>\n      <td>-0.140</td>\n      <td>0.056</td>\n      <td>0.074</td>\n      <td>...</td>\n      <td>-0.143</td>\n      <td>0.021</td>\n      <td>-0.076</td>\n      <td>-0.045</td>\n      <td>0.200</td>\n      <td>0.199</td>\n      <td>0.021</td>\n      <td>0.017</td>\n      <td>0.043</td>\n      <td>-0.041</td>\n    </tr>\n    <tr>\n      <th>spinosum</th>\n      <td>-0.038</td>\n      <td>-0.372</td>\n      <td>-0.203</td>\n      <td>0.137</td>\n      <td>-0.153</td>\n      <td>-0.324</td>\n      <td>-0.044</td>\n      <td>-0.283</td>\n      <td>-0.217</td>\n      <td>0.113</td>\n      <td>...</td>\n      <td>-0.169</td>\n      <td>0.049</td>\n      <td>-0.063</td>\n      <td>-0.113</td>\n      <td>0.266</td>\n      <td>0.172</td>\n      <td>0.097</td>\n      <td>-0.096</td>\n      <td>-0.059</td>\n      <td>-0.329</td>\n    </tr>\n    <tr>\n      <th>hairshaft</th>\n      <td>0.041</td>\n      <td>-0.029</td>\n      <td>-0.032</td>\n      <td>0.008</td>\n      <td>0.008</td>\n      <td>0.013</td>\n      <td>0.011</td>\n      <td>-0.016</td>\n      <td>-0.004</td>\n      <td>-0.005</td>\n      <td>...</td>\n      <td>0.000</td>\n      <td>0.018</td>\n      <td>0.006</td>\n      <td>0.025</td>\n      <td>0.013</td>\n      <td>0.022</td>\n      <td>0.003</td>\n      <td>0.073</td>\n      <td>0.045</td>\n      <td>0.006</td>\n    </tr>\n    <tr>\n      <th>hairfollicle</th>\n      <td>0.049</td>\n      <td>-0.033</td>\n      <td>-0.009</td>\n      <td>-0.003</td>\n      <td>0.021</td>\n      <td>0.007</td>\n      <td>0.001</td>\n      <td>0.004</td>\n      <td>0.014</td>\n      <td>0.006</td>\n      <td>...</td>\n      <td>0.011</td>\n      <td>0.033</td>\n      <td>0.024</td>\n      <td>0.038</td>\n      <td>0.033</td>\n      <td>0.038</td>\n      <td>0.031</td>\n      <td>0.038</td>\n      <td>0.156</td>\n      <td>0.067</td>\n    </tr>\n    <tr>\n      <th>smoothmuscle</th>\n      <td>0.120</td>\n      <td>0.015</td>\n      <td>0.022</td>\n      <td>0.022</td>\n      <td>0.033</td>\n      <td>0.028</td>\n      <td>0.044</td>\n      <td>0.026</td>\n      <td>0.041</td>\n      <td>0.032</td>\n      <td>...</td>\n      <td>0.002</td>\n      <td>0.022</td>\n      <td>0.029</td>\n      <td>0.024</td>\n      <td>0.107</td>\n      <td>0.123</td>\n      <td>0.186</td>\n      <td>0.078</td>\n      <td>0.111</td>\n      <td>0.113</td>\n    </tr>\n    <tr>\n      <th>oil</th>\n      <td>-0.068</td>\n      <td>-0.091</td>\n      <td>-0.058</td>\n      <td>-0.001</td>\n      <td>0.019</td>\n      <td>0.042</td>\n      <td>0.034</td>\n      <td>-0.010</td>\n      <td>0.018</td>\n      <td>0.018</td>\n      <td>...</td>\n      <td>0.040</td>\n      <td>-0.019</td>\n      <td>-0.033</td>\n      <td>0.028</td>\n      <td>-0.127</td>\n      <td>-0.140</td>\n      <td>-0.352</td>\n      <td>-0.310</td>\n      <td>-0.113</td>\n      <td>-0.160</td>\n    </tr>\n    <tr>\n      <th>sweat</th>\n      <td>0.014</td>\n      <td>-0.103</td>\n      <td>-0.043</td>\n      <td>-0.021</td>\n      <td>-0.027</td>\n      <td>0.010</td>\n      <td>-0.004</td>\n      <td>-0.023</td>\n      <td>-0.018</td>\n      <td>-0.009</td>\n      <td>...</td>\n      <td>-0.013</td>\n      <td>0.000</td>\n      <td>-0.009</td>\n      <td>-0.006</td>\n      <td>-0.018</td>\n      <td>-0.007</td>\n      <td>-0.039</td>\n      <td>-0.083</td>\n      <td>-0.022</td>\n      <td>0.017</td>\n    </tr>\n    <tr>\n      <th>nerve</th>\n      <td>0.230</td>\n      <td>0.068</td>\n      <td>0.135</td>\n      <td>0.186</td>\n      <td>0.160</td>\n      <td>0.137</td>\n      <td>0.172</td>\n      <td>0.129</td>\n      <td>0.136</td>\n      <td>0.148</td>\n      <td>...</td>\n      <td>0.211</td>\n      <td>0.149</td>\n      <td>0.184</td>\n      <td>0.171</td>\n      <td>0.215</td>\n      <td>0.245</td>\n      <td>0.205</td>\n      <td>0.248</td>\n      <td>0.286</td>\n      <td>0.245</td>\n    </tr>\n    <tr>\n      <th>bloodvessel</th>\n      <td>3.852</td>\n      <td>2.549</td>\n      <td>2.899</td>\n      <td>2.720</td>\n      <td>3.185</td>\n      <td>3.323</td>\n      <td>3.222</td>\n      <td>3.104</td>\n      <td>3.065</td>\n      <td>3.114</td>\n      <td>...</td>\n      <td>3.457</td>\n      <td>3.127</td>\n      <td>3.575</td>\n      <td>3.669</td>\n      <td>3.641</td>\n      <td>4.011</td>\n      <td>3.801</td>\n      <td>4.291</td>\n      <td>3.943</td>\n      <td>4.120</td>\n    </tr>\n    <tr>\n      <th>ecm</th>\n      <td>-2.312</td>\n      <td>-3.377</td>\n      <td>-1.955</td>\n      <td>-1.620</td>\n      <td>-0.794</td>\n      <td>-0.418</td>\n      <td>-0.615</td>\n      <td>-0.544</td>\n      <td>-0.613</td>\n      <td>-1.492</td>\n      <td>...</td>\n      <td>-0.473</td>\n      <td>-0.814</td>\n      <td>-0.884</td>\n      <td>-1.115</td>\n      <td>-1.355</td>\n      <td>-2.277</td>\n      <td>-1.419</td>\n      <td>-2.378</td>\n      <td>-2.388</td>\n      <td>-2.255</td>\n    </tr>\n    <tr>\n      <th>fat</th>\n      <td>2.611</td>\n      <td>3.330</td>\n      <td>3.797</td>\n      <td>3.755</td>\n      <td>3.208</td>\n      <td>3.733</td>\n      <td>3.426</td>\n      <td>3.738</td>\n      <td>4.006</td>\n      <td>3.717</td>\n      <td>...</td>\n      <td>2.824</td>\n      <td>3.290</td>\n      <td>2.782</td>\n      <td>2.704</td>\n      <td>2.711</td>\n      <td>2.576</td>\n      <td>2.667</td>\n      <td>2.282</td>\n      <td>2.528</td>\n      <td>2.757</td>\n    </tr>\n    <tr>\n      <th>white</th>\n      <td>-4.477</td>\n      <td>-1.741</td>\n      <td>-4.516</td>\n      <td>-5.282</td>\n      <td>-5.620</td>\n      <td>-6.338</td>\n      <td>-6.310</td>\n      <td>-5.985</td>\n      <td>-6.483</td>\n      <td>-5.715</td>\n      <td>...</td>\n      <td>-5.744</td>\n      <td>-5.875</td>\n      <td>-5.536</td>\n      <td>-5.381</td>\n      <td>-5.684</td>\n      <td>-4.963</td>\n      <td>-5.200</td>\n      <td>-4.162</td>\n      <td>-4.530</td>\n      <td>-4.541</td>\n    </tr>\n  </tbody>\n</table>\n<p>12 rows × 34 columns</p>\n</div>"
     },
     "execution_count": 15,
     "metadata": {},
     "output_type": "execute_result"
    }
   ],
   "source": [
    "diff_df"
   ],
   "metadata": {
    "collapsed": false
   }
  },
  {
   "cell_type": "code",
   "execution_count": 16,
   "outputs": [
    {
     "name": "stdout",
     "output_type": "stream",
     "text": [
      "11\n"
     ]
    },
    {
     "name": "stderr",
     "output_type": "stream",
     "text": [
      "C:\\Users\\choke\\AppData\\Local\\Temp\\ipykernel_33380\\1753022480.py:3: SettingWithCopyWarning: \n",
      "A value is trying to be set on a copy of a slice from a DataFrame\n",
      "\n",
      "See the caveats in the documentation: https://pandas.pydata.org/pandas-docs/stable/user_guide/indexing.html#returning-a-view-versus-a-copy\n",
      "  temp_df.iloc[idx:,] = temp_df.iloc[idx:,].abs()\n"
     ]
    },
    {
     "data": {
      "text/plain": "'\\\\\\\\fatherserverdw\\\\Kevin\\\\imageregistration2\\\\registered_masks\\\\z0034_34C1.png'"
     },
     "execution_count": 16,
     "metadata": {},
     "output_type": "execute_result"
    }
   ],
   "source": [
    "temp_df = diff_df.iloc[-4:,]\n",
    "for idx in range(4):\n",
    "    temp_df.iloc[idx:,] = temp_df.iloc[idx:,].abs()\n",
    "temp_df_sum = temp_df.mean(axis=0)\n",
    "print(np.argmax(temp_df_sum))\n",
    "mask_files_path_complete[11]  #11, 34th slide"
   ],
   "metadata": {
    "collapsed": false
   }
  },
  {
   "cell_type": "code",
   "execution_count": 16,
   "outputs": [],
   "source": [],
   "metadata": {
    "collapsed": false
   }
  }
 ],
 "metadata": {
  "kernelspec": {
   "display_name": "Python 3",
   "language": "python",
   "name": "python3"
  },
  "language_info": {
   "codemirror_mode": {
    "name": "ipython",
    "version": 2
   },
   "file_extension": ".py",
   "mimetype": "text/x-python",
   "name": "python",
   "nbconvert_exporter": "python",
   "pygments_lexer": "ipython2",
   "version": "2.7.6"
  }
 },
 "nbformat": 4,
 "nbformat_minor": 0
}
