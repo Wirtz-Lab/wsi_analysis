{
 "cells": [
  {
   "cell_type": "code",
   "execution_count": 4,
   "outputs": [],
   "source": [
    "import os\n",
    "img_files_path = [_ for _ in os.listdir(r'\\\\fatherserverdw\\Kevin\\imageregistration\\registered_images') if _.endswith(\".png\")]\n",
    "img_files_path_complete = [os.path.join(r'\\\\fatherserverdw\\Kevin\\imageregistration\\registered_images', x) for x in img_files_path]"
   ],
   "metadata": {
    "collapsed": false
   }
  },
  {
   "cell_type": "code",
   "execution_count": 2,
   "outputs": [],
   "source": [
    "# from time import time\n",
    "# def _time(f):\n",
    "#     def wrapper(*args,**kwargs):\n",
    "#         start=time()\n",
    "#         r=f(*args,**kwargs)\n",
    "#         end=time()\n",
    "#         print(\"%s timed %f\" %(f.__name__,end-start))\n",
    "#         return r\n",
    "#     return wrapper\n",
    "\n",
    "# surf = _time(surf)"
   ],
   "metadata": {
    "collapsed": false
   }
  },
  {
   "cell_type": "code",
   "execution_count": 3,
   "metadata": {
    "collapsed": true
   },
   "outputs": [],
   "source": [
    "# from mayavi import mlab\n",
    "# from mayavi.mlab import surf\n",
    "# import time\n",
    "# from PIL import Image\n",
    "# import numpy as np\n",
    "#\n",
    "# start = time.time()\n",
    "#\n",
    "# X, Y = np.mgrid[-3164:3164:1000, -2676:2676:1000]\n",
    "#\n",
    "# for i in np.linspace(0,33, num=34):\n",
    "#     Z = np.zeros(X.shape)+i\n",
    "#     idx = int(i)\n",
    "#     ig = Image.open(img_files_path_complete[idx])\n",
    "#     ig = np.array(ig).astype(np.float32)\n",
    "#     ig = ig / 255\n",
    "#     ig = tuple(map(tuple, ig))\n",
    "#     clr = ig\n",
    "#     start = time()\n",
    "#     surf(X,Y,Z,color = clr,warp_scale = \"auto\")\n",
    "# mlab.show()\n",
    "#\n",
    "# end = time.time()\n",
    "# print(\"time it took to register: \"+  str(end-start) + \" seconds\")"
   ]
  },
  {
   "cell_type": "code",
   "execution_count": 11,
   "outputs": [
    {
     "name": "stdout",
     "output_type": "stream",
     "text": [
      "time it took to register: 19.587917804718018 seconds\n"
     ]
    }
   ],
   "source": [
    "from mayavi import mlab\n",
    "from mayavi.mlab import surf\n",
    "import time\n",
    "from PIL import Image\n",
    "import numpy as np\n",
    "\n",
    "start = time.time()\n",
    "\n",
    "X, Y = np.mgrid[-3164:3164:1000, -2676:2676:1000]\n",
    "\n",
    "for i in np.linspace(0,2, num=3):\n",
    "    Z = np.zeros(X.shape)+i\n",
    "    # idx = int(i)\n",
    "    # ig = Image.open(img_files_path_complete[idx])\n",
    "    # ig = np.array(ig).astype(np.float32)\n",
    "    # ig = ig / 255\n",
    "    # ig = tuple(map(tuple, ig))\n",
    "    # clr = ig\n",
    "surf = surf(X,Y,Z,colormap = 'Blues',warp_scale = \"auto\")\n",
    "lut = surf.module_manager.scalar_lut_manager.lut.table.to_array()\n",
    "mlab.show()\n",
    "\n",
    "end = time.time()\n",
    "print(\"time it took to register: \"+  str(end-start) + \" seconds\")"
   ],
   "metadata": {
    "collapsed": false
   }
  },
  {
   "cell_type": "code",
   "execution_count": 7,
   "outputs": [],
   "source": [
    "from PIL import Image\n",
    "import numpy as np\n",
    "ig = Image.open(img_files_path_complete[0])\n",
    "ig = np.array(ig).astype(np.float32)\n",
    "ig = ig / 255"
   ],
   "metadata": {
    "collapsed": false
   }
  },
  {
   "cell_type": "code",
   "execution_count": 17,
   "outputs": [
    {
     "data": {
      "text/plain": "array([[[1.        , 1.        , 1.        ],\n        [1.        , 1.        , 1.        ],\n        [1.        , 1.        , 1.        ],\n        ...,\n        [1.        , 1.        , 1.        ],\n        [1.        , 1.        , 1.        ],\n        [1.        , 1.        , 1.        ]],\n\n       [[1.        , 1.        , 1.        ],\n        [1.        , 1.        , 1.        ],\n        [1.        , 1.        , 1.        ],\n        ...,\n        [1.        , 1.        , 1.        ],\n        [1.        , 1.        , 1.        ],\n        [1.        , 1.        , 1.        ]],\n\n       [[1.        , 1.        , 1.        ],\n        [1.        , 1.        , 1.        ],\n        [1.        , 1.        , 1.        ],\n        ...,\n        [1.        , 1.        , 1.        ],\n        [1.        , 1.        , 1.        ],\n        [1.        , 1.        , 1.        ]],\n\n       ...,\n\n       [[0.9137255 , 0.88235295, 0.8745098 ],\n        [0.90588236, 0.8745098 , 0.8666667 ],\n        [0.9137255 , 0.88235295, 0.8745098 ],\n        ...,\n        [0.92941177, 0.90588236, 0.9137255 ],\n        [0.92941177, 0.90588236, 0.9137255 ],\n        [0.9254902 , 0.9019608 , 0.9098039 ]],\n\n       [[0.92156863, 0.8901961 , 0.88235295],\n        [0.9137255 , 0.88235295, 0.8745098 ],\n        [0.92156863, 0.8901961 , 0.88235295],\n        ...,\n        [0.92941177, 0.90588236, 0.9137255 ],\n        [0.9254902 , 0.9019608 , 0.9098039 ],\n        [0.9254902 , 0.9019608 , 0.9098039 ]],\n\n       [[0.9372549 , 0.90588236, 0.8980392 ],\n        [0.9372549 , 0.90588236, 0.8980392 ],\n        [0.9372549 , 0.90588236, 0.8980392 ],\n        ...,\n        [0.9254902 , 0.9019608 , 0.9098039 ],\n        [0.9254902 , 0.9019608 , 0.9098039 ],\n        [0.9254902 , 0.8980392 , 0.90588236]]], dtype=float32)"
     },
     "execution_count": 17,
     "metadata": {},
     "output_type": "execute_result"
    }
   ],
   "source": [
    "ig"
   ],
   "metadata": {
    "collapsed": false
   }
  },
  {
   "cell_type": "code",
   "execution_count": 8,
   "outputs": [
    {
     "data": {
      "text/plain": "(6328, 5352, 3)"
     },
     "execution_count": 8,
     "metadata": {},
     "output_type": "execute_result"
    }
   ],
   "source": [
    "ig.shape"
   ],
   "metadata": {
    "collapsed": false
   }
  },
  {
   "cell_type": "code",
   "execution_count": 14,
   "outputs": [
    {
     "data": {
      "text/plain": "array([[247, 251, 255, 255],\n       [246, 250, 255, 255],\n       [245, 250, 254, 255],\n       ...,\n       [  8,  50, 110, 255],\n       [  8,  49, 109, 255],\n       [  8,  48, 107, 255]], dtype=uint8)"
     },
     "execution_count": 14,
     "metadata": {},
     "output_type": "execute_result"
    }
   ],
   "source": [
    "lut"
   ],
   "metadata": {
    "collapsed": false
   }
  },
  {
   "cell_type": "code",
   "execution_count": 16,
   "outputs": [
    {
     "data": {
      "text/plain": "(256, 4)"
     },
     "execution_count": 16,
     "metadata": {},
     "output_type": "execute_result"
    }
   ],
   "source": [
    "lut.shape"
   ],
   "metadata": {
    "collapsed": false
   }
  },
  {
   "cell_type": "code",
   "execution_count": null,
   "outputs": [],
   "source": [],
   "metadata": {
    "collapsed": false
   }
  }
 ],
 "metadata": {
  "kernelspec": {
   "display_name": "Python 3",
   "language": "python",
   "name": "python3"
  },
  "language_info": {
   "codemirror_mode": {
    "name": "ipython",
    "version": 2
   },
   "file_extension": ".py",
   "mimetype": "text/x-python",
   "name": "python",
   "nbconvert_exporter": "python",
   "pygments_lexer": "ipython2",
   "version": "2.7.6"
  }
 },
 "nbformat": 4,
 "nbformat_minor": 0
}
