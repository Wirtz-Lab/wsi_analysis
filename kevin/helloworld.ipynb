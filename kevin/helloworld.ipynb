{
 "cells": [
  {
   "cell_type": "markdown",
   "source": [
    "# Parse XML annotation file with X,Y coordinates and instance ID into a DataFrame"
   ],
   "metadata": {
    "collapsed": false,
    "pycharm": {
     "name": "#%% md\n"
    }
   }
  },
  {
   "cell_type": "code",
   "execution_count": 81,
   "outputs": [],
   "source": [
    "import xml.etree.ElementTree as ET\n",
    "import numpy as np\n",
    "import pandas as pd\n",
    "import os"
   ],
   "metadata": {
    "collapsed": false,
    "pycharm": {
     "name": "#%%\n"
    }
   }
  },
  {
   "cell_type": "code",
   "execution_count": 101,
   "outputs": [
    {
     "data": {
      "text/plain": "['2022-06-07 13.18.40.xml']"
     },
     "execution_count": 101,
     "metadata": {},
     "output_type": "execute_result"
    }
   ],
   "source": [
    "# for pc:\n",
    "# src = r'\\\\fatherserverdw\\kyuex\\clue images'\n",
    "# for mac:\n",
    "src = r'//Volumes/kyuex/clue images'\n",
    "xml = [_ for _ in os.listdir(src) if _.endswith('xml')]\n",
    "xml"
   ],
   "metadata": {
    "collapsed": false,
    "pycharm": {
     "name": "#%%\n"
    }
   }
  },
  {
   "cell_type": "code",
   "execution_count": 83,
   "outputs": [
    {
     "data": {
      "text/plain": "<Element 'Annotations' at 0x7f8d807d8f90>"
     },
     "execution_count": 83,
     "metadata": {},
     "output_type": "execute_result"
    }
   ],
   "source": [
    "xml_path = os.path.join(src,xml[0])\n",
    "tree = ET.parse(xml_path)\n",
    "root = tree.getroot()\n",
    "root"
   ],
   "metadata": {
    "collapsed": false,
    "pycharm": {
     "name": "#%%\n"
    }
   }
  },
  {
   "cell_type": "code",
   "execution_count": 216,
   "outputs": [
    {
     "name": "stdout",
     "output_type": "stream",
     "text": [
      "         X      Y  ID\n",
      "0     5615  10850   1\n",
      "1     5725  10890   1\n",
      "2     5810  10930   1\n",
      "3     5865  10950   1\n",
      "4     5900  10960   1\n",
      "...    ...    ...  ..\n",
      "996   5425  10785   1\n",
      "997   5530  10825   1\n",
      "998   5595  10855   1\n",
      "999   5610  10855   1\n",
      "1000  5615  10850   1\n",
      "\n",
      "[1001 rows x 3 columns]\n",
      "         X      Y  ID\n",
      "0    24299  20025   2\n",
      "1    24364  20068   2\n",
      "2    24483  20133   2\n",
      "3    24537  20176   2\n",
      "4    24613  20209   2\n",
      "..     ...    ...  ..\n",
      "822  24244  20025   2\n",
      "823  24266  20046   2\n",
      "824  24288  20079   2\n",
      "825  24288  20090   2\n",
      "826  24299  20025   2\n",
      "\n",
      "[827 rows x 3 columns]\n"
     ]
    }
   ],
   "source": [
    "for Region in Annotation.iter('Region'): #iterate over the Region so we can iterate over id 1 and 2 (two circles):\n",
    "    x = np.array([Vertex.get('X') for Vertex in Region.iter('Vertex')])\n",
    "    y = np.array([Vertex.get('Y') for Vertex in Region.iter('Vertex')])\n",
    "    id = np.array([Region.get('Id')])\n",
    "    id = [id for a in range(len(x))]\n",
    "    coord_dict = {\"X\": x, \"Y\": y, \"ID\": id}\n",
    "    df = pd.DataFrame(data = coord_dict)\n",
    "    df.ID = df.ID.astype(int)\n",
    "    print(df)"
   ],
   "metadata": {
    "collapsed": false,
    "pycharm": {
     "name": "#%%\n"
    }
   }
  },
  {
   "cell_type": "code",
   "execution_count": null,
   "outputs": [],
   "source": [],
   "metadata": {
    "collapsed": false,
    "pycharm": {
     "name": "#%%\n"
    }
   }
  }
 ],
 "metadata": {
  "kernelspec": {
   "display_name": "Python 3",
   "language": "python",
   "name": "python3"
  },
  "language_info": {
   "codemirror_mode": {
    "name": "ipython",
    "version": 2
   },
   "file_extension": ".py",
   "mimetype": "text/x-python",
   "name": "python",
   "nbconvert_exporter": "python",
   "pygments_lexer": "ipython2",
   "version": "2.7.6"
  }
 },
 "nbformat": 4,
 "nbformat_minor": 0
}