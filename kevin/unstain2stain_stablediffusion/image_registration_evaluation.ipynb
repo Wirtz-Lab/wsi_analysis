{
 "cells": [
  {
   "cell_type": "markdown",
   "source": [
    "# Image registration metrics for the unstain2stain images:\n",
    "-Mutual Information\n",
    "-Target Registration Error (SITK)"
   ],
   "metadata": {
    "collapsed": false
   }
  },
  {
   "cell_type": "code",
   "execution_count": 16,
   "outputs": [],
   "source": [
    "import os\n",
    "import pandas as pd\n",
    "import numpy as np\n",
    "from PIL import Image\n",
    "import cv2\n",
    "from matplotlib import pyplot as plt\n",
    "from glob import glob\n",
    "from skimage.registration import optical_flow_tvl1\n",
    "from time import time\n",
    "from skimage.transform import warp\n",
    "import matplotlib"
   ],
   "metadata": {
    "collapsed": false
   }
  },
  {
   "cell_type": "markdown",
   "source": [
    "### Mutual Information (MI):"
   ],
   "metadata": {
    "collapsed": false
   }
  },
  {
   "cell_type": "code",
   "execution_count": 22,
   "outputs": [],
   "source": [
    "# from skin_2D_workflow\\image_registration_evaluation to calculate mutual information:\n",
    "# Function to calculate MI:\n",
    "def calculate_mutual_information(img_path_1,img_path_2): #order doesn't matter, MI(A,B) = MI(B,A)\n",
    "    img1 = np.array(cv2.imread(img_path_1))\n",
    "    img2 = np.array(cv2.imread(img_path_2))\n",
    "    img1_g = cv2.cvtColor(img1,cv2.COLOR_BGR2GRAY)\n",
    "    img2_g = cv2.cvtColor(img2,cv2.COLOR_BGR2GRAY)\n",
    "    hist2d, x_edges, y_edges = np.histogram2d(img1_g.ravel(),img2_g.ravel(),bins=20)\n",
    "    pxy = hist2d / float(np.sum(hist2d))\n",
    "    px = np.sum(pxy, axis=1)  # marginal x over y\n",
    "    py = np.sum(pxy, axis=0)  # marginal y over x\n",
    "    px_py = px[:, None] * py[None, :]  # broadcast to multiply marginals\n",
    "    # now we can do the calculation using the pxy, px_py 2D arrays\n",
    "    nonzeros = pxy > 0  # filer out the zero values\n",
    "    mi = np.sum(pxy[nonzeros] * np.log(pxy[nonzeros] / px_py[nonzeros]))\n",
    "    return mi"
   ],
   "metadata": {
    "collapsed": false
   }
  },
  {
   "cell_type": "code",
   "execution_count": 23,
   "outputs": [],
   "source": [
    "img_path_1 = glob(os.path.join(r\"\\\\shelter\\Kyu\\unstain2stain\\biomax_images\\registrated_images\",\"**\",\"**.png\"),recursive=True) #unstained, 174 images same order\n",
    "img_path_2 = glob(os.path.join(r\"\\\\shelter\\Kyu\\unstain2stain\\biomax_images\\stained\\padded_images\",\"**\",\"**.png\"),recursive=True) #stained, 174 images same order"
   ],
   "metadata": {
    "collapsed": false
   }
  },
  {
   "cell_type": "code",
   "execution_count": 24,
   "outputs": [
    {
     "name": "stdout",
     "output_type": "stream",
     "text": [
      "[0.06960824587047423, 0.11743108445857318, 0.14049127955630492, 0.04516067106990143, 0.07190700019514393, 0.1026032203130491, 0.03944753233642199, 0.12487647436827311, 0.08166988417207607, 0.07407601452823742, 0.08675877265733534, 0.026672960834480484, 0.03882193563466624, 0.08350645432596476, 0.047932620308268954, 0.1557985326446766, 0.10315432003633795, 0.037578114212290056, 0.06191071062390437, 0.04281327678146191, 0.05740118990975115, 0.11081469698863479, 0.12363178346856792, 0.1531894553591467, 0.06883738548188653, 0.039376671331586136, 0.1283598570718828, 0.08570480086665128, 0.06703886482233695, 0.06059291555478167, 0.07624198946936489, 0.03936230216049576, 0.03796931610627313, 0.08174288018862663, 0.062358578765578675, 0.10845610990246536, 0.047642168106918764, 0.15492445500665886, 0.049275052229929325, 0.009416651217994598, 0.08069333541634434, 0.07923558485749368, 0.01876567784599072, 0.046131298466690014, 0.05467380562964635, 0.05526217760977068, 0.08458265097445196, 0.04745036456735235, 0.04116550493720512, 0.1371435313130492, 0.15505859089391683, 0.10566948697005464, 0.0797585110430006, 0.035472029425832004, 0.05531780424337739, 0.0810318468588147, 0.05554997668700886, 0.05742836149341754, 0.08829248420271574, 0.021954764178545465, 0.12967609448441567, 0.0228254128053209, 0.07692086436838497, 0.04698316624625171, 0.07409130180634374, 0.10325086907935206, 0.06214702068202777, 0.09555601030845898, 0.16652861515605347, 0.09464279301841541, 0.17745517128751737, 0.12045940018960842, 0.030414028848908165, 0.038924663097232456, 0.010716060292202264, 0.05282712687438577, 0.09474609912463355, 0.07624917361393208, 0.07513513037258111, 0.1258176550428957, 0.08314865939062645, 0.04178797095728735, 0.09914804414994918, 0.06813229352300224, 0.08537189694334592, 0.14372836660580326, 0.037729311785275096, 0.03772052665621718, 0.07675939753740114, 0.11911430051375341, 0.054848856112955986, 0.07764272781026335, 0.13766720160160073, 0.17626432649810975, 0.07759401183826838, 0.08438971508258919, 0.09622838399624414, 0.07761114507084552, 0.07588011109577174, 0.13199212844935712, 0.06304968197975112, 0.1407284834123678, 0.09983640133152714, 0.1150689407258052, 0.08522714119775393, 0.05686753470432656, 0.1178467974620476, 0.16767032327902223, 0.06588002280291287, 0.08504140419048509, 0.10959377524470885, 0.09028361512078378, 0.06146877178914071, 0.07999628482832834, 0.14670102866381737, 0.10216862575886132, 0.10972627048742783, 0.08297196010450716, 0.1173581500710151, 0.10160702837107255, 0.07059750493093056, 0.14095812914415334, 0.10165961282859518, 0.09754080994342368, 0.1619555928788989, 0.16370231653407674, 0.1734559071053437, 0.18594794498210065, 0.11868781949000555, 0.1571327284882833, 0.16163859082184523, 0.20375482278293106, 0.12183897189215544, 0.11938297729876209, 0.09606022421539002, 0.12789973133721888, 0.1442371088968398, 0.17755820202328845, 0.08439067336267154, 0.07793318903209741, 0.14950364728307225, 0.07474551217111844, 0.08471937792516313, 0.20068034841743562, 0.16559843065553462, 0.12574427201169563, 0.03686716036854541, 0.07700192259538943, 0.13266392901439025, 0.1239184748810043, 0.059769855599485, 0.1254364582543502, 0.07761241038630744, 0.10498806357978718, 0.12729641848457823, 0.13757971480161899, 0.11551792068593854, 0.0886502126143183, 0.10547149513808643, 0.14779950709149522, 0.09998992239416964, 0.1575811966719477, 0.1557423997995423, 0.0779658543638258, 0.18340533985808294, 0.0655639157118122, 0.11401289680093432, 0.12635795409640366, 0.10336922638021852, 0.11429263150488357, 0.08283548211205574, 0.1875151480987141, 0.06283066866499709, 0.111029112131103]\n"
     ]
    }
   ],
   "source": [
    "# MI for each pair of image:\n",
    "mi_ra = []\n",
    "for idx in range(0,len(img_path_1)):\n",
    "    img1 = img_path_1[idx]\n",
    "    img2 = img_path_2[idx]\n",
    "    mi = calculate_mutual_information(img1,img2)\n",
    "    mi_ra.append(mi)\n",
    "print(mi_ra)"
   ],
   "metadata": {
    "collapsed": false
   }
  },
  {
   "cell_type": "markdown",
   "source": [
    "# Because stained vs unstained image different modality, mutual information doesn't perform as well, as seen in the low scores above for all 174 images."
   ],
   "metadata": {
    "collapsed": false
   }
  },
  {
   "cell_type": "markdown",
   "source": [
    "### Now try Target Registration Error (TRE):\n",
    "### paper using tre and optical flow: https://www.ncbi.nlm.nih.gov/pmc/articles/PMC9099354/"
   ],
   "metadata": {
    "collapsed": false
   }
  },
  {
   "cell_type": "code",
   "execution_count": 2,
   "outputs": [],
   "source": [
    "def registrate_two_images(reference_image_path, moving_image_path, save_path):\n",
    "    \"\"\"\n",
    "    Note: The order of the files saved in the ref_img_path and mov_img_path must be the same so that you are registering the same images!\n",
    "    \"\"\"\n",
    "    ref_img_path = [_ for _ in os.listdir(reference_image_path) if _.endswith(\".png\")]\n",
    "    ref_img_path_complete = [os.path.join(reference_image_path, x) for x in ref_img_path]\n",
    "    mov_img_path = [_ for _ in os.listdir(moving_image_path) if _.endswith(\".png\")]\n",
    "    mov_img_path_complete = [os.path.join(moving_image_path, x) for x in mov_img_path]\n",
    "    mov_img_name = [x.replace('.png','') for x in mov_img_path]\n",
    "    if int(len(ref_img_path)) != int(len(mov_img_path)):\n",
    "        print(\"Number of images in reference and moving file paths are not equal, please fix and try again!\")\n",
    "        return\n",
    "\n",
    "    start = time()\n",
    "    for idx in range(0,len(ref_img_path_complete)):\n",
    "        ref_img = Image.open(ref_img_path_complete[idx])\n",
    "        mov_img = Image.open(mov_img_path_complete[idx])\n",
    "        ref_img = np.array(ref_img)\n",
    "        mov_img = np.array(mov_img)\n",
    "        ref_img_g = cv2.cvtColor(ref_img,cv2.COLOR_RGBA2GRAY)\n",
    "        mov_img_g = cv2.cvtColor(mov_img,cv2.COLOR_RGBA2GRAY)\n",
    "        v, u = optical_flow_tvl1(ref_img_g, mov_img_g)\n",
    "        nr, nc = ref_img_g.shape\n",
    "        row_coords, col_coords = np.meshgrid(np.arange(nr), np.arange(nc),\n",
    "                                             indexing='ij')\n",
    "\n",
    "        mov_img_warp_ra =[]\n",
    "        for i in range(3):\n",
    "            #mov_img warped (2d array) = mov img (before warped) (2d array since each channel) warped by optical flow components v u of each axis (2 makes 2d), which is added to row_coords and col_coords of the ref img (fixed image).\n",
    "            mov_img_warp = warp(mov_img[:,:,i], np.array([row_coords + v, col_coords + u]),mode='edge')\n",
    "            mov_img_warp_ra.append(mov_img_warp)\n",
    "        r = np.array(mov_img_warp_ra[0]*255).astype('uint8')\n",
    "        g = np.array(mov_img_warp_ra[1]*255).astype('uint8')\n",
    "        b = np.array(mov_img_warp_ra[2]*255).astype('uint8')\n",
    "        rgb = np.stack([r,g,b],axis=2)\n",
    "        reg_img = Image.fromarray(rgb)\n",
    "        print(idx)\n",
    "        reg_img.save(os.path.join(save_path,str(mov_img_name[idx]) + '.png'))\n",
    "\n",
    "    end = time()\n",
    "    print(\"time it took to register: \"+  str((end-start)/60) + \" minutes\")\n"
   ],
   "metadata": {
    "collapsed": false
   }
  },
  {
   "cell_type": "code",
   "execution_count": 22,
   "outputs": [
    {
     "data": {
      "text/plain": "array([[  39.70017 ,   39.700134,   39.700073, ..., -106.271645,\n        -106.27186 , -106.27196 ],\n       [  39.700184,   39.70015 ,   39.700085, ..., -106.2719  ,\n        -106.2721  , -106.27221 ],\n       [  39.700214,   39.700184,   39.700123, ..., -106.272385,\n        -106.2726  , -106.272705],\n       ...,\n       [ 116.44678 ,  116.446785,  116.44678 , ..., -146.92422 ,\n        -147.25272 , -147.42929 ],\n       [ 116.44665 ,  116.44664 ,  116.44663 , ..., -147.00293 ,\n        -147.26627 , -147.43987 ],\n       [ 116.44658 ,  116.44658 ,  116.446556, ..., -147.03467 ,\n        -147.27574 , -147.44449 ]], dtype=float32)"
     },
     "execution_count": 22,
     "metadata": {},
     "output_type": "execute_result"
    }
   ],
   "source": [
    "a = np.load(r'\\\\fatherserverdw\\Kevin\\imageregistration2\\warp_arrays\\u\\z0001_1C1.npy')\n",
    "a"
   ],
   "metadata": {
    "collapsed": false
   }
  },
  {
   "cell_type": "code",
   "execution_count": 14,
   "outputs": [
    {
     "data": {
      "text/plain": "array([[0, 0, 0, 0, 0, 0, 0, 0, 0, 0],\n       [1, 1, 1, 1, 1, 1, 1, 1, 1, 1],\n       [2, 2, 2, 2, 2, 2, 2, 2, 2, 2],\n       [3, 3, 3, 3, 3, 3, 3, 3, 3, 3],\n       [4, 4, 4, 4, 4, 4, 4, 4, 4, 4],\n       [5, 5, 5, 5, 5, 5, 5, 5, 5, 5],\n       [6, 6, 6, 6, 6, 6, 6, 6, 6, 6],\n       [7, 7, 7, 7, 7, 7, 7, 7, 7, 7],\n       [8, 8, 8, 8, 8, 8, 8, 8, 8, 8],\n       [9, 9, 9, 9, 9, 9, 9, 9, 9, 9]])"
     },
     "execution_count": 14,
     "metadata": {},
     "output_type": "execute_result"
    }
   ],
   "source": [
    "ra, ra1 = np.meshgrid(np.arange(10),np.arange(10),indexing=\"ij\")\n",
    "ra"
   ],
   "metadata": {
    "collapsed": false
   }
  },
  {
   "cell_type": "code",
   "execution_count": null,
   "outputs": [],
   "source": [
    "def target_registration_error(reference_image,moving_image, display_errors = False, min_err = None, max_err = None, figure_size=(8,6)):\n",
    "    \"\"\"\n",
    "    Edited from: https://github.com/SimpleITK/SPIE2018_COURSE/blob/master/utilities.py\n",
    "    \"\"\"\n",
    "    start = time()\n",
    "    ref_img = Image.open(reference_image)\n",
    "    mov_img = Image.open(moving_image)\n",
    "    ref_img = np.array(ref_img)\n",
    "    mov_img = np.array(mov_img)\n",
    "    ref_img_g = cv2.cvtColor(ref_img,cv2.COLOR_RGBA2GRAY)\n",
    "    mov_img_g = cv2.cvtColor(mov_img,cv2.COLOR_RGBA2GRAY)\n",
    "    v, u = optical_flow_tvl1(ref_img_g, mov_img_g)\n",
    "    points_ra = 2d array of some points from fixed image (np.meshgrid)\n",
    "    points_list =\n",
    "    transformed_points_ra = warp(points,np.array([v, u]),mode='edge')\n",
    "    transformed_points_list =\n",
    "    errors = #some list\n",
    "    if display_errors:\n",
    "        fig = plt.figure(figsize=figure_size)\n",
    "        ax = fig.add_subplot(111, projection='3d')\n",
    "    if not min_err:\n",
    "        min_err = np.min(errors)\n",
    "    if not max_err:\n",
    "        max_err = np.max(errors)\n",
    "\n",
    "    collection = ax.scatter(list(np.array(point_list).T)[0],\n",
    "                            list(np.array(point_list).T)[1],\n",
    "                            list(np.array(point_list).T)[2],\n",
    "                            marker = 'o',\n",
    "                            c = errors,\n",
    "                            vmin = min_err,\n",
    "                            vmax = max_err,\n",
    "                            cmap = matplotlib.cm.hot,\n",
    "                            label = 'original points')\n",
    "    plt.colorbar(collection, shrink=0.8)\n",
    "    plt.title('registration errors in mm', x=0.7, y=1.05)\n",
    "    ax.set_xlabel('X')\n",
    "    ax.set_ylabel('Y')\n",
    "    ax.set_zlabel('Z')\n",
    "    plt.show()\n",
    "\n",
    "return errors"
   ],
   "metadata": {
    "collapsed": false
   }
  },
  {
   "cell_type": "code",
   "execution_count": 20,
   "outputs": [
    {
     "data": {
      "text/plain": "array([0., 0.])"
     },
     "execution_count": 20,
     "metadata": {},
     "output_type": "execute_result"
    }
   ],
   "source": [
    "A = np.array([[2,2],[2,2]])\n",
    "B = np.array([[1,1],[1,1]])\n",
    "C = np.array([[3,3],[3,3]])\n",
    "D = warp(A,A+B)\n",
    "D"
   ],
   "metadata": {
    "collapsed": false
   }
  },
  {
   "cell_type": "code",
   "execution_count": 3,
   "outputs": [],
   "source": [
    "def target_registration_errors(tx, point_list, reference_point_list,\n",
    "                               display_errors = False, min_err= None, max_err=None, figure_size=(8,6)):\n",
    "  \"\"\"\n",
    "  Distances between points transformed by the given transformation and their\n",
    "  location in another coordinate system. When the points are only used to\n",
    "  evaluate registration accuracy (not used in the registration) this is the\n",
    "  Target Registration Error (TRE).\n",
    "  Args:\n",
    "      tx (SimpleITK.Transform): The transform we want to evaluate.\n",
    "      point_list (list(tuple-like)): Points in fixed image\n",
    "                                     coordinate system.\n",
    "      reference_point_list (list(tuple-like)): Points in moving image\n",
    "                                               cooredinate system.\n",
    "      display_errors (boolean): Display a 3D figure with the points from\n",
    "                                point_list color corresponding to the error.\n",
    "      min_err, max_err (float): color range is linearly stretched between min_err\n",
    "                                and max_err. If these values are not given then\n",
    "                                the range of errors computed from the data is used.\n",
    "      figure_size (tuple): Figure size in inches.\n",
    "  Returns:\n",
    "   (errors) [float]: list of TRE values.\n",
    "  \"\"\"\n",
    "  transformed_point_list = [tx.TransformPoint(p) for p in point_list] # transform the fixed point from fixed image\n",
    "\n",
    "  errors = [np.linalg.norm(np.array(p_fixed) -  np.array(p_moving)) # TRE = transformed point of fixed image - ref point of the moving image (the original point of fixed image and original point of moving image should be the \"same\" point of the image\n",
    "            for p_fixed,p_moving in zip(transformed_point_list, reference_point_list)]\n",
    "  if display_errors:\n",
    "      from mpl_toolkits.mplot3d import Axes3D\n",
    "      import matplotlib.pyplot as plt\n",
    "      import matplotlib\n",
    "      fig = plt.figure(figsize=figure_size)\n",
    "      ax = fig.add_subplot(111, projection='3d')\n",
    "      if not min_err:\n",
    "          min_err = np.min(errors)\n",
    "      if not max_err:\n",
    "          max_err = np.max(errors)\n",
    "\n",
    "      collection = ax.scatter(list(np.array(point_list).T)[0],\n",
    "                              list(np.array(point_list).T)[1],\n",
    "                              list(np.array(point_list).T)[2],\n",
    "                              marker = 'o',\n",
    "                              c = errors,\n",
    "                              vmin = min_err,\n",
    "                              vmax = max_err,\n",
    "                              cmap = matplotlib.cm.hot,\n",
    "                              label = 'original points')\n",
    "      plt.colorbar(collection, shrink=0.8)\n",
    "      plt.title('registration errors in mm', x=0.7, y=1.05)\n",
    "      ax.set_xlabel('X')\n",
    "      ax.set_ylabel('Y')\n",
    "      ax.set_zlabel('Z')\n",
    "      plt.show()\n",
    "\n",
    "  return errors"
   ],
   "metadata": {
    "collapsed": false
   }
  },
  {
   "cell_type": "code",
   "execution_count": null,
   "outputs": [],
   "source": [],
   "metadata": {
    "collapsed": false
   }
  }
 ],
 "metadata": {
  "kernelspec": {
   "display_name": "Python 3",
   "language": "python",
   "name": "python3"
  },
  "language_info": {
   "codemirror_mode": {
    "name": "ipython",
    "version": 2
   },
   "file_extension": ".py",
   "mimetype": "text/x-python",
   "name": "python",
   "nbconvert_exporter": "python",
   "pygments_lexer": "ipython2",
   "version": "2.7.6"
  }
 },
 "nbformat": 4,
 "nbformat_minor": 0
}
