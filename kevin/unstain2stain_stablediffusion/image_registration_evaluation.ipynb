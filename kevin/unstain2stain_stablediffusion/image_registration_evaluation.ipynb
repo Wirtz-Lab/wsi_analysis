{
 "cells": [
  {
   "cell_type": "markdown",
   "source": [
    "# Image registration metrics for the unstain2stain images:\n",
    "-Mutual Information\n",
    "-Target Registration Error (SITK)"
   ],
   "metadata": {
    "collapsed": false
   }
  },
  {
   "cell_type": "code",
   "execution_count": 3,
   "outputs": [],
   "source": [
    "import os\n",
    "import pandas as pd\n",
    "import numpy as np\n",
    "from PIL import Image\n",
    "import cv2\n",
    "from matplotlib import pyplot as plt\n",
    "from glob import glob"
   ],
   "metadata": {
    "collapsed": false
   }
  },
  {
   "cell_type": "markdown",
   "source": [
    "### Mutual Information (MI):"
   ],
   "metadata": {
    "collapsed": false
   }
  },
  {
   "cell_type": "code",
   "execution_count": 22,
   "outputs": [],
   "source": [
    "# from skin_2D_workflow\\image_registration_evaluation to calculate mutual information:\n",
    "# Function to calculate MI:\n",
    "def calculate_mutual_information(img_path_1,img_path_2): #order doesn't matter, MI(A,B) = MI(B,A)\n",
    "    img1 = np.array(cv2.imread(img_path_1))\n",
    "    img2 = np.array(cv2.imread(img_path_2))\n",
    "    img1_g = cv2.cvtColor(img1,cv2.COLOR_BGR2GRAY)\n",
    "    img2_g = cv2.cvtColor(img2,cv2.COLOR_BGR2GRAY)\n",
    "    hist2d, x_edges, y_edges = np.histogram2d(img1_g.ravel(),img2_g.ravel(),bins=20)\n",
    "    pxy = hist2d / float(np.sum(hist2d))\n",
    "    px = np.sum(pxy, axis=1)  # marginal x over y\n",
    "    py = np.sum(pxy, axis=0)  # marginal y over x\n",
    "    px_py = px[:, None] * py[None, :]  # broadcast to multiply marginals\n",
    "    # now we can do the calculation using the pxy, px_py 2D arrays\n",
    "    nonzeros = pxy > 0  # filer out the zero values\n",
    "    mi = np.sum(pxy[nonzeros] * np.log(pxy[nonzeros] / px_py[nonzeros]))\n",
    "    return mi"
   ],
   "metadata": {
    "collapsed": false
   }
  },
  {
   "cell_type": "code",
   "execution_count": 23,
   "outputs": [],
   "source": [
    "img_path_1 = glob(os.path.join(r\"\\\\shelter\\Kyu\\unstain2stain\\biomax_images\\registrated_images\",\"**\",\"**.png\"),recursive=True) #unstained, 174 images same order\n",
    "img_path_2 = glob(os.path.join(r\"\\\\shelter\\Kyu\\unstain2stain\\biomax_images\\stained\\padded_images\",\"**\",\"**.png\"),recursive=True) #stained, 174 images same order"
   ],
   "metadata": {
    "collapsed": false
   }
  },
  {
   "cell_type": "code",
   "execution_count": 24,
   "outputs": [
    {
     "name": "stdout",
     "output_type": "stream",
     "text": [
      "[0.06960824587047423, 0.11743108445857318, 0.14049127955630492, 0.04516067106990143, 0.07190700019514393, 0.1026032203130491, 0.03944753233642199, 0.12487647436827311, 0.08166988417207607, 0.07407601452823742, 0.08675877265733534, 0.026672960834480484, 0.03882193563466624, 0.08350645432596476, 0.047932620308268954, 0.1557985326446766, 0.10315432003633795, 0.037578114212290056, 0.06191071062390437, 0.04281327678146191, 0.05740118990975115, 0.11081469698863479, 0.12363178346856792, 0.1531894553591467, 0.06883738548188653, 0.039376671331586136, 0.1283598570718828, 0.08570480086665128, 0.06703886482233695, 0.06059291555478167, 0.07624198946936489, 0.03936230216049576, 0.03796931610627313, 0.08174288018862663, 0.062358578765578675, 0.10845610990246536, 0.047642168106918764, 0.15492445500665886, 0.049275052229929325, 0.009416651217994598, 0.08069333541634434, 0.07923558485749368, 0.01876567784599072, 0.046131298466690014, 0.05467380562964635, 0.05526217760977068, 0.08458265097445196, 0.04745036456735235, 0.04116550493720512, 0.1371435313130492, 0.15505859089391683, 0.10566948697005464, 0.0797585110430006, 0.035472029425832004, 0.05531780424337739, 0.0810318468588147, 0.05554997668700886, 0.05742836149341754, 0.08829248420271574, 0.021954764178545465, 0.12967609448441567, 0.0228254128053209, 0.07692086436838497, 0.04698316624625171, 0.07409130180634374, 0.10325086907935206, 0.06214702068202777, 0.09555601030845898, 0.16652861515605347, 0.09464279301841541, 0.17745517128751737, 0.12045940018960842, 0.030414028848908165, 0.038924663097232456, 0.010716060292202264, 0.05282712687438577, 0.09474609912463355, 0.07624917361393208, 0.07513513037258111, 0.1258176550428957, 0.08314865939062645, 0.04178797095728735, 0.09914804414994918, 0.06813229352300224, 0.08537189694334592, 0.14372836660580326, 0.037729311785275096, 0.03772052665621718, 0.07675939753740114, 0.11911430051375341, 0.054848856112955986, 0.07764272781026335, 0.13766720160160073, 0.17626432649810975, 0.07759401183826838, 0.08438971508258919, 0.09622838399624414, 0.07761114507084552, 0.07588011109577174, 0.13199212844935712, 0.06304968197975112, 0.1407284834123678, 0.09983640133152714, 0.1150689407258052, 0.08522714119775393, 0.05686753470432656, 0.1178467974620476, 0.16767032327902223, 0.06588002280291287, 0.08504140419048509, 0.10959377524470885, 0.09028361512078378, 0.06146877178914071, 0.07999628482832834, 0.14670102866381737, 0.10216862575886132, 0.10972627048742783, 0.08297196010450716, 0.1173581500710151, 0.10160702837107255, 0.07059750493093056, 0.14095812914415334, 0.10165961282859518, 0.09754080994342368, 0.1619555928788989, 0.16370231653407674, 0.1734559071053437, 0.18594794498210065, 0.11868781949000555, 0.1571327284882833, 0.16163859082184523, 0.20375482278293106, 0.12183897189215544, 0.11938297729876209, 0.09606022421539002, 0.12789973133721888, 0.1442371088968398, 0.17755820202328845, 0.08439067336267154, 0.07793318903209741, 0.14950364728307225, 0.07474551217111844, 0.08471937792516313, 0.20068034841743562, 0.16559843065553462, 0.12574427201169563, 0.03686716036854541, 0.07700192259538943, 0.13266392901439025, 0.1239184748810043, 0.059769855599485, 0.1254364582543502, 0.07761241038630744, 0.10498806357978718, 0.12729641848457823, 0.13757971480161899, 0.11551792068593854, 0.0886502126143183, 0.10547149513808643, 0.14779950709149522, 0.09998992239416964, 0.1575811966719477, 0.1557423997995423, 0.0779658543638258, 0.18340533985808294, 0.0655639157118122, 0.11401289680093432, 0.12635795409640366, 0.10336922638021852, 0.11429263150488357, 0.08283548211205574, 0.1875151480987141, 0.06283066866499709, 0.111029112131103]\n"
     ]
    }
   ],
   "source": [
    "# MI for each pair of image:\n",
    "mi_ra = []\n",
    "for idx in range(0,len(img_path_1)):\n",
    "    img1 = img_path_1[idx]\n",
    "    img2 = img_path_2[idx]\n",
    "    mi = calculate_mutual_information(img1,img2)\n",
    "    mi_ra.append(mi)\n",
    "print(mi_ra)"
   ],
   "metadata": {
    "collapsed": false
   }
  },
  {
   "cell_type": "markdown",
   "source": [
    "b/c stained vs unstained image different modality, mutual information doesn't perform as well, as seen in the low scores above for all 174 images."
   ],
   "metadata": {
    "collapsed": false
   }
  },
  {
   "cell_type": "markdown",
   "source": [
    "### Target Registration Error (TRE):"
   ],
   "metadata": {
    "collapsed": false
   }
  },
  {
   "cell_type": "code",
   "execution_count": null,
   "outputs": [],
   "source": [],
   "metadata": {
    "collapsed": false
   }
  }
 ],
 "metadata": {
  "kernelspec": {
   "display_name": "Python 3",
   "language": "python",
   "name": "python3"
  },
  "language_info": {
   "codemirror_mode": {
    "name": "ipython",
    "version": 2
   },
   "file_extension": ".py",
   "mimetype": "text/x-python",
   "name": "python",
   "nbconvert_exporter": "python",
   "pygments_lexer": "ipython2",
   "version": "2.7.6"
  }
 },
 "nbformat": 4,
 "nbformat_minor": 0
}
