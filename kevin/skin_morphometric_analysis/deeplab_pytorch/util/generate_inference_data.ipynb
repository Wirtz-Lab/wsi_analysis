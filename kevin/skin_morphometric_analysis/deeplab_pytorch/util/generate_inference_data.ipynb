{
 "cells": [
  {
   "cell_type": "markdown",
   "source": [
    "### Code to generate inference data tiles to test pytorch deeplab model.  This code reads in xml and WSI pair and then locates the region with annotations, then creates 1024 x 1024 tiles of the raw WSI, the mask (0~12 as label), and the binary mask (tells you where annotation is) **only** when there is an annotation in the tile field-of-view.\n",
    "\n",
    "(Some funtions from xml2trainingdata.ipynb, but some functions edited for specific use.)"
   ],
   "metadata": {
    "collapsed": false
   }
  },
  {
   "cell_type": "code",
   "execution_count": 1,
   "metadata": {
    "collapsed": true
   },
   "outputs": [],
   "source": [
    "OPENSLIDE_PATH = r'C:\\Users\\Kevin\\Downloads\\openslide-win64-20230414\\bin'\n",
    "\n",
    "import os\n",
    "if hasattr(os, 'add_dll_directory'):\n",
    "    # Python >= 3.8 on Windows\n",
    "    with os.add_dll_directory(OPENSLIDE_PATH):\n",
    "        import openslide\n",
    "else:\n",
    "    import openslide\n",
    "\n",
    "import os\n",
    "import cv2\n",
    "import xml.etree.ElementTree as ET\n",
    "import numpy as np\n",
    "import pandas as pd\n",
    "import openslide\n",
    "from PIL import Image\n",
    "Image.MAX_IMAGE_PIXELS = None\n",
    "from matplotlib import pyplot as plt\n",
    "import skimage.measure\n",
    "import matplotlib.pyplot as plt\n",
    "import scipy.stats as stats\n",
    "import torchvision.transforms as transforms\n",
    "from glob import glob\n",
    "from time import time\n",
    "from skimage.measure import label"
   ]
  },
  {
   "cell_type": "code",
   "execution_count": 2,
   "outputs": [],
   "source": [
    "# First, input xml_filepath and output a dataframe of X,Y coordinates in general. (can be used for ROI as well)\n",
    "def xml_to_df(xml_path):\n",
    "    tree = ET.parse(xml_path)\n",
    "    root = tree.getroot()\n",
    "    append_df = []\n",
    "    for index, Annotation in enumerate(root.iter(\"Annotation\")):\n",
    "        for Region in Annotation.iter('Region'):\n",
    "            x = np.array([Vertex.get('X') for Vertex in Region.iter('Vertex')])\n",
    "            y = np.array([Vertex.get('Y') for Vertex in Region.iter('Vertex')])\n",
    "            id = np.array([int(Region.get('Id'))])\n",
    "            classnames = index + 1\n",
    "            coord_dict = {\"ClassNames\": [classnames], \"X\": [x], \"Y\": [y], \"ID\": [id]}\n",
    "            df = pd.DataFrame(data = coord_dict)\n",
    "            df.ID = df.ID.astype(int)\n",
    "            append_df.append(df)\n",
    "    coord_df = pd.concat(append_df).reset_index(drop=True)\n",
    "    return(coord_df)"
   ],
   "metadata": {
    "collapsed": false
   }
  },
  {
   "cell_type": "code",
   "execution_count": 3,
   "outputs": [],
   "source": [
    "# Then, input xml_path to use xml_to_df function to output X,Y coordinates for each annotation per class:\n",
    "def coord_to_multiclass_df(xml_path):\n",
    "    coord_df = xml_to_df(xml_path)\n",
    "    coord_df = coord_df.drop(columns = [\"ID\"])\n",
    "    dict = {\"corneum\" : 1,\"spinosum\": 2,\"hairshaft\":3,\"hairfollicle\":4,\"smoothmuscle\":5,\"oil\":6,\"sweat\":7,\"nerve\":8,\"bloodvessel\":9,\"ecm\":10,\"fat\":11,\"white\":12}\n",
    "    coord_df = coord_df.replace({\"ClassNames\": dict})\n",
    "    return coord_df"
   ],
   "metadata": {
    "collapsed": false
   }
  },
  {
   "cell_type": "code",
   "execution_count": 4,
   "outputs": [],
   "source": [
    "# Then input original image and the coord_df to output the mask with unique annotations (1..N, N = 12 in this case):\n",
    "def create_mask_multi_annot(xml_path, image_path):\n",
    "    slide = openslide.open_slide(image_path)\n",
    "    target_level = slide.get_best_level_for_downsample(1) #downsample factor = 1 for this case all the time\n",
    "    target_dim = slide.level_dimensions[target_level]\n",
    "    target_dim = (target_dim[1],target_dim[0])\n",
    "    mask = np.zeros(target_dim, dtype = np.uint8)\n",
    "    iter_order = [2,10,5,4,6,11,7,9,8,12,3,1]\n",
    "    coord_df = coord_to_multiclass_df(xml_path) #use function above\n",
    "\n",
    "    for i in iter_order:\n",
    "        coord_df_tmp = coord_df[coord_df.ClassNames == i]\n",
    "        for idx, row in coord_df_tmp.iterrows():\n",
    "            xx = row.X.astype(float).astype('int32')\n",
    "            yy = row.Y.astype(float).astype('int32')\n",
    "            contours = np.array(list(zip(xx,yy)))\n",
    "            class_number = row.ClassNames\n",
    "            mask = cv2.fillPoly(mask, pts=[contours.astype(int)], color=(int(class_number)))\n",
    "    return mask"
   ],
   "metadata": {
    "collapsed": false
   }
  },
  {
   "cell_type": "code",
   "execution_count": 5,
   "outputs": [],
   "source": [
    "# cv2 method:\n",
    "# Input xml and image path and output mask and image with only the regions with annotations in it:\n",
    "def create_binary_mask_label(xml_path, image_path):\n",
    "    mask = create_mask_multi_annot(xml_path, image_path)\n",
    "    binary_mask = mask > 0 # np.unique(mask) gives 0~12\n",
    "    rows, cols = np.where(binary_mask)\n",
    "    min_row, max_row = np.min(rows), np.max(rows)\n",
    "    min_col, max_col = np.min(cols), np.max(cols)\n",
    "    min_row -= 1024\n",
    "    min_col -= 1024\n",
    "    max_row += 1024\n",
    "    max_col += 1024\n",
    "    bbox_size = (max_col-min_col,max_row-min_row)\n",
    "    max_col -= bbox_size[0] % 1024 # divisible by 1024\n",
    "    max_row -= bbox_size[1] % 1024 # divisible by 1024\n",
    "    bbox_size = (max_col-min_col,max_row-min_row)\n",
    "    print(f\"Min Row: {min_row}\")\n",
    "    print(f\"Max Row: {max_row}\")\n",
    "    print(f\"Min Column: {min_col}\")\n",
    "    print(f\"Max Column: {max_col}\")\n",
    "    binary_mask_bbox = binary_mask[min_row:max_row, min_col:max_col]\n",
    "    slide = openslide.OpenSlide(image_path)\n",
    "    image_bbox = slide.read_region(location = (min_col,min_row),level=0,size=bbox_size)\n",
    "    image_bbox = np.array(image_bbox)\n",
    "    image_bbox = image_bbox[:,:,:3]\n",
    "    mask_bbox = mask[min_row:max_row, min_col:max_col]\n",
    "    return binary_mask_bbox, image_bbox, mask_bbox, bbox_size #returns binary roi mask bbox (0 or 1), H&E image bbox, and mask bbox (0~12) of same size."
   ],
   "metadata": {
    "collapsed": false
   }
  },
  {
   "cell_type": "code",
   "execution_count": 6,
   "outputs": [],
   "source": [
    "def generate_inference_data(xml_src,img_src, image_save_path = r\"\\\\10.99.68.178\\Kevin\\pytorch_deeplab_test_set\\he_tiles\",   mask_save_path = r\"\\\\10.99.68.178\\Kevin\\pytorch_deeplab_test_set\\mask_tiles\", binary_mask_save_path = r\"\\\\10.99.68.178\\Kevin\\pytorch_deeplab_test_set\\bin_mask_tiles\"):\n",
    "\n",
    "    binary_mask_bbox, image_bbox, mask_bbox, bbox_size = create_binary_mask_label(xml_src,img_src)\n",
    "    wsi_name = os.path.basename(img_src).replace(\".ndpi\",\"\")\n",
    "    plt.imshow(mask_bbox)\n",
    "    plt.show()\n",
    "    cols, rows = bbox_size\n",
    "    count = 0\n",
    "    for i in range(0, rows, 1024):\n",
    "        for j in range(0, cols, 1024):\n",
    "            binary_mask_tile = binary_mask_bbox[i:i+1024, j:j+1024]\n",
    "            if np.sum(binary_mask_tile) > 50:\n",
    "                count += 1\n",
    "                image_tile = image_bbox[i:i+1024, j:j+1024,:]\n",
    "                mask_tile = mask_bbox[i:i+1024, j:j+1024]\n",
    "                image_tile_save_path = os.path.join(image_save_path,wsi_name)\n",
    "                mask_tile_save_path = os.path.join(mask_save_path,wsi_name)\n",
    "                bin_mask_tile_save_path = os.path.join(binary_mask_save_path,wsi_name)\n",
    "                Image.fromarray(image_tile).save(image_tile_save_path + \"_\" + str(count) + \".png\")\n",
    "                Image.fromarray(mask_tile).save(mask_tile_save_path + \"_\" + str(count) + \".png\")\n",
    "                Image.fromarray(binary_mask_tile.astype(np.uint8)).save(bin_mask_tile_save_path + \"_\" + str(count) + \".png\")\n",
    "            else: # no annotations in this tile\n",
    "                continue"
   ],
   "metadata": {
    "collapsed": false
   }
  },
  {
   "cell_type": "code",
   "execution_count": 7,
   "outputs": [
    {
     "name": "stdout",
     "output_type": "stream",
     "text": [
      "Min Row: 25058\n",
      "Max Row: 41442\n",
      "Min Column: 35203\n",
      "Max Column: 47491\n"
     ]
    },
    {
     "data": {
      "text/plain": "<Figure size 640x480 with 1 Axes>",
      "image/png": "[encoded data removed]"
     },
     "metadata": {},
     "output_type": "display_data"
    }
   ],
   "source": [
    "xml_src = r\"\\\\shelter\\Kyu\\skin_aging\\clue_cohort\\wsi\\2022-06-14 15.39.21.xml\"\n",
    "img_src = r\"\\\\shelter\\Kyu\\skin_aging\\clue_cohort\\wsi\\2022-06-14 15.39.21.ndpi\"\n",
    "generate_inference_data(xml_src,img_src,image_save_path = r\"\\\\10.99.68.178\\Kevin\\pytorch_deeplab_test_set\\he_tiles\",   mask_save_path = r\"\\\\10.99.68.178\\Kevin\\pytorch_deeplab_test_set\\mask_tiles\", binary_mask_save_path = r\"\\\\10.99.68.178\\Kevin\\pytorch_deeplab_test_set\\bin_mask_tiles\")"
   ],
   "metadata": {
    "collapsed": false
   }
  },
  {
   "cell_type": "code",
   "execution_count": 7,
   "outputs": [],
   "source": [],
   "metadata": {
    "collapsed": false
   }
  }
 ],
 "metadata": {
  "kernelspec": {
   "display_name": "Python 3",
   "language": "python",
   "name": "python3"
  },
  "language_info": {
   "codemirror_mode": {
    "name": "ipython",
    "version": 2
   },
   "file_extension": ".py",
   "mimetype": "text/x-python",
   "name": "python",
   "nbconvert_exporter": "python",
   "pygments_lexer": "ipython2",
   "version": "2.7.6"
  }
 },
 "nbformat": 4,
 "nbformat_minor": 0
}
