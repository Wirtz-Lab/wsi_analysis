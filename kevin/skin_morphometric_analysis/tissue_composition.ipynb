{
 "cells": [
  {
   "cell_type": "markdown",
   "source": [
    "### Workflow for getting composition for each roi annotation for each DLmask (DLmask generated from entire mask of ndpi):"
   ],
   "metadata": {
    "collapsed": false
   }
  },
  {
   "cell_type": "code",
   "execution_count": 5,
   "outputs": [],
   "source": [
    "OPENSLIDE_PATH = r'C:\\Users\\Kevin\\Desktop\\openslide-win64-20221217\\bin'\n",
    "\n",
    "import os\n",
    "if hasattr(os, 'add_dll_directory'):\n",
    "    # Python >= 3.8 on Windows\n",
    "    with os.add_dll_directory(OPENSLIDE_PATH):\n",
    "        import openslide\n",
    "else:\n",
    "    import openslide"
   ],
   "metadata": {
    "collapsed": false
   }
  },
  {
   "cell_type": "code",
   "execution_count": 6,
   "outputs": [],
   "source": [
    "# import pandas as pd\n",
    "import numpy as np\n",
    "import os\n",
    "from PIL import Image\n",
    "import os\n",
    "import cv2\n",
    "Image.MAX_IMAGE_PIXELS = 1000000000000000000\n",
    "import xml.etree.ElementTree as ET\n",
    "import numpy as np\n",
    "import pandas as pd\n",
    "import openslide\n",
    "from PIL import Image\n",
    "from matplotlib import pyplot as plt\n",
    "import skimage.measure\n",
    "import matplotlib.pyplot as plt\n",
    "import scipy.stats as stats\n",
    "import torchvision.transforms as transforms\n",
    "from glob import glob\n",
    "from time import time\n",
    "from skimage.measure import label\n",
    "import math"
   ],
   "metadata": {
    "collapsed": false
   }
  },
  {
   "cell_type": "code",
   "execution_count": 7,
   "outputs": [],
   "source": [
    "# # quick pandas work to see if ndpi's in image list have the DL segmented masks!\n",
    "# read xml files for roi annotations\n",
    "roi_src = r'\\\\shelter\\Kyu\\skin_aging\\clue_cohort\\annotations\\roi'\n",
    "# read DL mask files for DL segmented masks\n",
    "dl_src = r'\\\\shelter\\Kyu\\skin_aging\\clue_cohort\\DLmask1um'\n",
    "# read image list and fill in DL_segmented column (0=DLmask missing, 1=DLmask exists)\n",
    "# im_list = r'\\\\shelter\\Kyu\\skin_aging\\clue_cohort\\CLUE_image_list_230207.xlsx'"
   ],
   "metadata": {
    "collapsed": false
   }
  },
  {
   "cell_type": "code",
   "execution_count": 22,
   "outputs": [],
   "source": [
    "roi_list = [x for x in os.listdir(roi_src) if x.endswith('.xml')] #301 rows\n",
    "dl_list = [x for x in os.listdir(dl_src) if x.endswith('.tif')] #301 rows\n",
    "roi_complete_path = [os.path.join(roi_src,x) for x in roi_list]\n",
    "dl_complete_path = [os.path.join(dl_src,x) for x in dl_list]\n",
    "roi_raw = [x.replace(\".xml\",\"\") for x in roi_list]\n",
    "dl_raw = [x.replace(\".tif\",\"\") for x in dl_list]"
   ],
   "metadata": {
    "collapsed": false
   }
  },
  {
   "cell_type": "code",
   "execution_count": 23,
   "outputs": [],
   "source": [
    "# # image_list_csv_raw = pd.read_excel(r'\\\\shelter\\Kyu\\skin_aging\\clue_cohort\\CLUE_image_list_230207.xlsx')"
   ],
   "metadata": {
    "collapsed": false
   }
  },
  {
   "cell_type": "code",
   "execution_count": 24,
   "outputs": [],
   "source": [
    "# # dl_list = [x.replace(\".tif\",\"\") for x in dl_list]"
   ],
   "metadata": {
    "collapsed": false
   }
  },
  {
   "cell_type": "code",
   "execution_count": 25,
   "outputs": [],
   "source": [
    "# # def check_DLexist(row):\n",
    "#     row = row.replace('.ndpi','')\n",
    "#     return row in dl_list"
   ],
   "metadata": {
    "collapsed": false
   }
  },
  {
   "cell_type": "code",
   "execution_count": 26,
   "outputs": [],
   "source": [
    "# # image_list_csv_raw['DL_segmented'] = image_list_csv_raw.apply(lambda row : check_DLexist(row['filename']), axis = 1)"
   ],
   "metadata": {
    "collapsed": false
   }
  },
  {
   "cell_type": "code",
   "execution_count": 27,
   "outputs": [],
   "source": [
    "# # image_list_csv_raw.head()"
   ],
   "metadata": {
    "collapsed": false
   }
  },
  {
   "cell_type": "code",
   "execution_count": 28,
   "outputs": [],
   "source": [
    "# # image_list_csv_raw.to_excel(r'\\\\shelter\\Kyu\\skin_aging\\clue_cohort\\CLUE_image_list_230207_v2.xlsx')"
   ],
   "metadata": {
    "collapsed": false
   }
  },
  {
   "cell_type": "code",
   "execution_count": 29,
   "outputs": [],
   "source": [
    "# # First, input xml_filepath and output a dataframe of X,Y coordinates in general. (can be used for ROI as well)\n",
    "def xml_to_df(xml_path):\n",
    "    tree = ET.parse(xml_path)\n",
    "    root = tree.getroot()\n",
    "    append_df = []\n",
    "    for index, Annotation in enumerate(root.iter(\"Annotation\")):\n",
    "        for Region in Annotation.iter('Region'):\n",
    "            x = np.array([Vertex.get('X') for Vertex in Region.iter('Vertex')])\n",
    "            y = np.array([Vertex.get('Y') for Vertex in Region.iter('Vertex')])\n",
    "            id = np.array([int(Region.get('Id'))])\n",
    "            classnames = index + 1\n",
    "            coord_dict = {\"ClassNames\": [classnames], \"X\": [x], \"Y\": [y], \"ID\": [id]}\n",
    "            df = pd.DataFrame(data = coord_dict)\n",
    "            df.ID = df.ID.astype(int)\n",
    "            append_df.append(df)\n",
    "    coord_df = pd.concat(append_df).reset_index(drop=True)\n",
    "    return(coord_df)"
   ],
   "metadata": {
    "collapsed": false
   }
  },
  {
   "cell_type": "code",
   "execution_count": null,
   "outputs": [],
   "source": [
    "roi= readim(roipath)\n",
    "szdl = size(dlmask)\n",
    "roi2 = resize(roi,szdl)"
   ],
   "metadata": {
    "collapsed": false
   }
  },
  {
   "cell_type": "code",
   "execution_count": 30,
   "outputs": [],
   "source": [
    "# # Then input original image and the coord_df to output the mask with unique annotations (1..N, N = 12 in this case):\n",
    "def create_mask_multi_annot(xml_path, image_path):\n",
    "    slide = openslide.open_slide(image_path)\n",
    "    target_dim = [math.ceil(x / 2.26459) for x in slide.dimensions]\n",
    "    # target_level = slide.get_best_level_for_downsample(downsample_factor)\n",
    "    # target_dim = slide.level_dimensions[target_level]\n",
    "    # rsf = [x/y for x,y in zip(slide.dimensions,target_dim)] #resize factor\n",
    "    mask = np.zeros((target_dim), dtype = np.uint8)\n",
    "    coord_df = xml_to_df(xml_path) #use function above\n",
    "    for idx, row in coord_df.iterrows():\n",
    "        yy = row.X.astype(float).astype('int32')\n",
    "        yy = [math.ceil(n / 2.26459) for n in yy]\n",
    "        xx = row.Y.astype(float).astype('int32')\n",
    "        xx = [math.ceil(m / 2.26459) for m in xx]\n",
    "        contours = np.array(list(zip(xx,yy)))\n",
    "        mask = cv2.fillPoly(mask, pts=[contours.astype(int)], color=(int(coord_df.index.values[idx]) + 1))\n",
    "    mask = mask.T\n",
    "    return mask"
   ],
   "metadata": {
    "collapsed": false
   }
  },
  {
   "cell_type": "code",
   "execution_count": 31,
   "outputs": [],
   "source": [
    "# find intersection of ndpi, roi, and dl -> A ∩ B ∩ C = (A ∩ B) ∩ (B ∩ C), roi = A, dl = B, ndpi = C\n",
    "\n",
    "ndpi_src = r'\\\\shelter\\Kyu\\skin_aging\\clue_cohort\\wsi'\n",
    "ndpi_list = [x for x in os.listdir(ndpi_src) if x.endswith('.ndpi')] #301 rows\n",
    "ndpi_raw = [x.replace(\".ndpi\",\"\") for x in ndpi_list]\n",
    "\n",
    "roi_dl_overlap = set(roi_raw).intersection(set(dl_raw)) #216\n",
    "dl_ndpi_overlap = set(dl_raw).intersection(set(ndpi_raw)) #222\n",
    "all_overlap = set(roi_dl_overlap).intersection(set(dl_ndpi_overlap)) #216\n",
    "\n",
    "dl_complete_path_new = [os.path.join(dl_src,x) for x in all_overlap]\n",
    "roi_complete_path_new = [os.path.join(roi_src,x) for x in all_overlap]\n",
    "ndpi_complete_path_new = [os.path.join(ndpi_src,x) for x in all_overlap]\n",
    "dl_complete_path_new = [x + \".tif\" for x in dl_complete_path_new]\n",
    "roi_complete_path_new = [x + \".xml\" for x in roi_complete_path_new]\n",
    "ndpi_complete_path_new = [x + \".ndpi\" for x in ndpi_complete_path_new]\n",
    "save_name = [os.path.basename(x) for x in ndpi_complete_path_new]"
   ],
   "metadata": {
    "collapsed": false
   }
  },
  {
   "cell_type": "code",
   "execution_count": 32,
   "outputs": [
    {
     "data": {
      "text/plain": "216"
     },
     "execution_count": 32,
     "metadata": {},
     "output_type": "execute_result"
    }
   ],
   "source": [
    "len(save_name)"
   ],
   "metadata": {
    "collapsed": false
   }
  },
  {
   "cell_type": "code",
   "execution_count": 33,
   "outputs": [
    {
     "name": "stdout",
     "output_type": "stream",
     "text": [
      "\\\\shelter\\Kyu\\skin_aging\\clue_cohort\\DLmask1um\\2022-07-07 17.19.31.tif\n"
     ]
    },
    {
     "name": "stderr",
     "output_type": "stream",
     "text": [
      "\n",
      "KeyboardInterrupt\n",
      "\n"
     ]
    }
   ],
   "source": [
    "# # read a first DLmask and its corresponding roi xml file\n",
    "roi_png_dst = os.path.join(roi_src,'roi_png_1x') # destination to save grayscale labeled mask\n",
    "class_list = list(['corneum','spinosum','hairshaft','hairfollicle','smoothmuscle','oil','sweat','nerve','bloodvessel','ecm','fat','white'])\n",
    "comps_df = pd.DataFrame(index = class_list)\n",
    "for idx in range(0,len(dl_complete_path_new)):\n",
    "    print(dl_complete_path_new[idx])\n",
    "    DLarr = Image.open(dl_complete_path_new[idx])\n",
    "    DLarr = np.array(DLarr)\n",
    "    mask = create_mask_multi_annot(roi_complete_path_new[idx], ndpi_complete_path_new[idx]) #, downsample_factor= 2.264596)\n",
    "    roi_png = Image.fromarray(mask)\n",
    "    roi_png.save(os.path.join(roi_png_dst,save_name[idx].replace(\"ndpi\",\"png\"))) # save labeled mask\n",
    "#for example of roi_png: \"\\\\shelter\\Kyu\\skin_aging\\clue_cohort\\annotations\\roi\\labeledmask_20rsf\", roi_png is an image with grayscale labeled mask, save this.\n",
    "    for sectionID in range(1,np.max(roi_png)+1):\n",
    "        roi_png = np.array(roi_png)\n",
    "        roi_shape = roi_png.shape\n",
    "        DLarr = np.array(DLarr)\n",
    "        DLarr_shape = DLarr.shape\n",
    "        if roi_shape != DLarr_shape:\n",
    "            #resize DLarr to roi_shape\n",
    "            roi_png_changed = cv2.resize(roi_png,(DLarr_shape[1],DLarr_shape[0]),interpolation = cv2.INTER_LINEAR)\n",
    "            sectionID_ra = np.array([sectionID])\n",
    "            bool = np.isin(roi_png_changed, sectionID_ra)\n",
    "            DL_roi = np.multiply(DLarr, bool)\n",
    "            Image.fromarray(DL_roi).save(os.path.join(r'\\\\shelter\\Kyu\\skin_aging\\clue_cohort\\annotations\\roi\\labeled_mask_per_roi',str(save_name[idx].replace(\".ndpi\",\"\"))) + \"_\" + str(sectionID) + \".png\") #save labeled mask per roi (dl_crop_roi)\n",
    "            DL_roi = DL_roi[DL_roi > 0] #background 0 shouldn't count in the composition\n",
    "            DL_roi_flatten = DL_roi.flatten()\n",
    "            hist = np.bincount(DL_roi_flatten) #dl mask\n",
    "            hist = hist/np.sum(hist)*100\n",
    "            count_list = list(hist)\n",
    "            del(count_list[0])\n",
    "            count_list = [np.round(x,3) for x in count_list]\n",
    "\n",
    "            ratio_class_dict = dict(zip(class_list,count_list))\n",
    "            tmp_df = pd.DataFrame.from_dict(ratio_class_dict,orient='index')\n",
    "            comps_df = pd.concat([comps_df,pd.DataFrame.from_dict(tmp_df)],axis=1)\n",
    "\n",
    "        else:\n",
    "            sectionID_ra = np.array([sectionID])\n",
    "            bool = np.isin(roi_png, sectionID_ra)\n",
    "            DL_roi = np.multiply(DLarr, bool)\n",
    "            Image.fromarray(DL_roi).save(os.path.join(r'\\\\shelter\\Kyu\\skin_aging\\clue_cohort\\annotations\\roi\\labeled_mask_per_roi',str(save_name[idx].replace(\".ndpi\",\"\"))) + \"_\" + str(sectionID) + \".png\") #save labeled mask per roi (dl_crop_roi)\n",
    "            DL_roi = DL_roi[DL_roi > 0] #background 0 shouldn't count in the composition\n",
    "            DL_roi_flatten = DL_roi.flatten()\n",
    "            hist = np.bincount(DL_roi_flatten) #dl mask\n",
    "            hist = hist/np.sum(hist)*100\n",
    "            count_list = list(hist)\n",
    "            del(count_list[0])\n",
    "            count_list = [np.round(x,3) for x in count_list]\n",
    "\n",
    "            ratio_class_dict = dict(zip(class_list,count_list))\n",
    "            tmp_df = pd.DataFrame.from_dict(ratio_class_dict,orient='index')\n",
    "            comps_df = pd.concat([comps_df,pd.DataFrame.from_dict(tmp_df)],axis=1)"
   ],
   "metadata": {
    "collapsed": false
   }
  },
  {
   "cell_type": "code",
   "execution_count": null,
   "outputs": [],
   "source": [
    "comps_df\n",
    "comps_df_T = comps_df.T\n",
    "import glob\n",
    "order_src = r'\\\\shelter\\Kyu\\skin_aging\\clue_cohort\\annotations\\roi\\labeled_mask_per_roi'\n",
    "order_files = list(filter(os.path.isfile, glob.glob(order_src + \"\\*\")))\n",
    "order_files.sort(key=os.path.getctime)\n",
    "\n",
    "index_list = [x[-6:] for x in order_files]\n",
    "index_list = [x[1] for x in index_list]\n",
    "index_list = [int(x) for x in index_list]\n",
    "full_path_list = [x[:-6] for x in order_files]\n",
    "full_path_list = [x + \".png\" for x in full_path_list]\n",
    "\n",
    "comps_df_T[\"filepath\"] = full_path_list\n",
    "comps_df_T[\"index\"] = index_list\n",
    "comps_df_T.to_excel(r'\\\\shelter\\Kyu\\skin_aging\\clue_cohort\\CLUE_roi_composition.xlsx')"
   ],
   "metadata": {
    "collapsed": false
   }
  },
  {
   "cell_type": "code",
   "execution_count": null,
   "outputs": [],
   "source": [],
   "metadata": {
    "collapsed": false
   }
  }
 ],
 "metadata": {
  "kernelspec": {
   "display_name": "Python 3",
   "language": "python",
   "name": "python3"
  },
  "language_info": {
   "codemirror_mode": {
    "name": "ipython",
    "version": 2
   },
   "file_extension": ".py",
   "mimetype": "text/x-python",
   "name": "python",
   "nbconvert_exporter": "python",
   "pygments_lexer": "ipython2",
   "version": "2.7.6"
  }
 },
 "nbformat": 4,
 "nbformat_minor": 0
}
