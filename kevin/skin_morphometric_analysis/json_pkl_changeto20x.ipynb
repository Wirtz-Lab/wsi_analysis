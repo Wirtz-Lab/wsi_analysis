{
 "cells": [
  {
   "cell_type": "code",
   "execution_count": 1,
   "outputs": [],
   "source": [
    "import pandas as pd\n",
    "import numpy as np"
   ],
   "metadata": {
    "collapsed": false
   }
  },
  {
   "cell_type": "code",
   "execution_count": 2,
   "outputs": [
    {
     "data": {
      "text/plain": "                                   bbox  \\\n0        [[9746, 53047], [9767, 53058]]   \n1        [[9774, 53087], [9813, 53106]]   \n2        [[9779, 53057], [9806, 53074]]   \n3        [[9787, 53031], [9813, 53043]]   \n4        [[9805, 53057], [9820, 53066]]   \n...                                 ...   \n78467  [[84060, 75784], [84074, 75799]]   \n78468  [[84194, 75960], [84212, 75975]]   \n78469  [[83998, 81884], [84009, 81893]]   \n78470  [[86190, 79657], [86203, 79676]]   \n78471  [[85962, 81914], [85978, 81933]]   \n\n                                       centroid  \\\n0        [10043.722222222223, 52763.5873015873]   \n1       [10087.926315789473, 52803.10736842105]   \n2      [10056.087336244542, 52798.615720524016]   \n3        [10027.71978021978, 52805.32967032967]   \n4                          [10052.82, 52820.29]   \n...                                         ...   \n78467     [83983.33870967742, 75874.3870967742]   \n78468    [84158.90816326531, 76009.63775510204]   \n78469    [83936.75862068965, 81955.39655172414]   \n78470    [85811.52795031056, 80052.32298136647]   \n78471    [86019.72881355933, 81872.94915254238]   \n\n                                                 contour  type  \n0      [[10046, 52754], [10045, 52755], [10044, 52755...  None  \n1      [[10084, 52782], [10083, 52783], [10082, 52783...  None  \n2      [[10056, 52787], [10055, 52788], [10055, 52789...  None  \n3      [[10031, 52795], [10030, 52796], [10026, 52796...  None  \n4      [[10053, 52813], [10052, 52814], [10051, 52814...  None  \n...                                                  ...   ...  \n78467  [[83980, 75868], [83979, 75869], [83977, 75869...  None  \n78468  [[84156, 76002], [84155, 76003], [84154, 76003...  None  \n78469  [[83938, 81950], [83937, 81951], [83937, 81952...  None  \n78470  [[85812, 80046], [85810, 80048], [85809, 80048...  None  \n78471  [[86017, 81866], [86016, 81867], [86015, 81867...  None  \n\n[78472 rows x 4 columns]",
      "text/html": "<div>\n<style scoped>\n    .dataframe tbody tr th:only-of-type {\n        vertical-align: middle;\n    }\n\n    .dataframe tbody tr th {\n        vertical-align: top;\n    }\n\n    .dataframe thead th {\n        text-align: right;\n    }\n</style>\n<table border=\"1\" class=\"dataframe\">\n  <thead>\n    <tr style=\"text-align: right;\">\n      <th></th>\n      <th>bbox</th>\n      <th>centroid</th>\n      <th>contour</th>\n      <th>type</th>\n    </tr>\n  </thead>\n  <tbody>\n    <tr>\n      <th>0</th>\n      <td>[[9746, 53047], [9767, 53058]]</td>\n      <td>[10043.722222222223, 52763.5873015873]</td>\n      <td>[[10046, 52754], [10045, 52755], [10044, 52755...</td>\n      <td>None</td>\n    </tr>\n    <tr>\n      <th>1</th>\n      <td>[[9774, 53087], [9813, 53106]]</td>\n      <td>[10087.926315789473, 52803.10736842105]</td>\n      <td>[[10084, 52782], [10083, 52783], [10082, 52783...</td>\n      <td>None</td>\n    </tr>\n    <tr>\n      <th>2</th>\n      <td>[[9779, 53057], [9806, 53074]]</td>\n      <td>[10056.087336244542, 52798.615720524016]</td>\n      <td>[[10056, 52787], [10055, 52788], [10055, 52789...</td>\n      <td>None</td>\n    </tr>\n    <tr>\n      <th>3</th>\n      <td>[[9787, 53031], [9813, 53043]]</td>\n      <td>[10027.71978021978, 52805.32967032967]</td>\n      <td>[[10031, 52795], [10030, 52796], [10026, 52796...</td>\n      <td>None</td>\n    </tr>\n    <tr>\n      <th>4</th>\n      <td>[[9805, 53057], [9820, 53066]]</td>\n      <td>[10052.82, 52820.29]</td>\n      <td>[[10053, 52813], [10052, 52814], [10051, 52814...</td>\n      <td>None</td>\n    </tr>\n    <tr>\n      <th>...</th>\n      <td>...</td>\n      <td>...</td>\n      <td>...</td>\n      <td>...</td>\n    </tr>\n    <tr>\n      <th>78467</th>\n      <td>[[84060, 75784], [84074, 75799]]</td>\n      <td>[83983.33870967742, 75874.3870967742]</td>\n      <td>[[83980, 75868], [83979, 75869], [83977, 75869...</td>\n      <td>None</td>\n    </tr>\n    <tr>\n      <th>78468</th>\n      <td>[[84194, 75960], [84212, 75975]]</td>\n      <td>[84158.90816326531, 76009.63775510204]</td>\n      <td>[[84156, 76002], [84155, 76003], [84154, 76003...</td>\n      <td>None</td>\n    </tr>\n    <tr>\n      <th>78469</th>\n      <td>[[83998, 81884], [84009, 81893]]</td>\n      <td>[83936.75862068965, 81955.39655172414]</td>\n      <td>[[83938, 81950], [83937, 81951], [83937, 81952...</td>\n      <td>None</td>\n    </tr>\n    <tr>\n      <th>78470</th>\n      <td>[[86190, 79657], [86203, 79676]]</td>\n      <td>[85811.52795031056, 80052.32298136647]</td>\n      <td>[[85812, 80046], [85810, 80048], [85809, 80048...</td>\n      <td>None</td>\n    </tr>\n    <tr>\n      <th>78471</th>\n      <td>[[85962, 81914], [85978, 81933]]</td>\n      <td>[86019.72881355933, 81872.94915254238]</td>\n      <td>[[86017, 81866], [86016, 81867], [86015, 81867...</td>\n      <td>None</td>\n    </tr>\n  </tbody>\n</table>\n<p>78472 rows × 4 columns</p>\n</div>"
     },
     "execution_count": 2,
     "metadata": {},
     "output_type": "execute_result"
    }
   ],
   "source": [
    "json = pd.read_json(r\"\\\\shelter\\Kyu\\skin_aging\\clue_cohort\\wsi\\hovernet_out\\json\\2022-06-07 13.18.40.json\", orient='index')\n",
    "json = pd.DataFrame(json[0].loc['nuc']).T.drop(columns=['type_prob'])\n",
    "json = json[json['contour'].map(len) > 5].reset_index(drop=True)\n",
    "json"
   ],
   "metadata": {
    "collapsed": false
   }
  },
  {
   "cell_type": "code",
   "execution_count": 136,
   "outputs": [],
   "source": [
    "bbox_tmp = json[\"bbox\"].tolist()\n",
    "for idx in range(len(bbox_tmp)):\n",
    "    bbox_tmp[idx] = [[int(x/2),int(y/2)] for (x,y) in bbox_tmp[idx]]\n",
    "json[\"bbox\"] = bbox_tmp"
   ],
   "metadata": {
    "collapsed": false
   }
  },
  {
   "cell_type": "code",
   "execution_count": 137,
   "outputs": [],
   "source": [
    "contour_tmp = json[\"centroid\"].tolist()\n",
    "contour_x1 = [contour_tmp[i][0]/2 for i in range(len(contour_tmp))]\n",
    "contour_y1 = [contour_tmp[i][1]/2 for i in range(len(contour_tmp))]\n",
    "new_contour_xy = list(zip(contour_x1,contour_y1))\n",
    "new_contour_xy = [[new_contour_xy[i][0],new_contour_xy[i][1]] for i in range(len(new_contour_xy))] #,int(new_contour_xy[i][1])\n",
    "json[\"centroid\"] = new_contour_xy"
   ],
   "metadata": {
    "collapsed": false
   }
  },
  {
   "cell_type": "markdown",
   "source": [],
   "metadata": {
    "collapsed": false
   }
  },
  {
   "cell_type": "code",
   "execution_count": 138,
   "outputs": [],
   "source": [
    "contour_tmp = json[\"contour\"].tolist()\n",
    "for idx in range(len(contour_tmp)):\n",
    "    contour_tmp[idx] = [[int(x/2),int(y/2)] for (x,y) in contour_tmp[idx]]\n",
    "json[\"contour\"] = contour_tmp"
   ],
   "metadata": {
    "collapsed": false
   }
  },
  {
   "cell_type": "code",
   "execution_count": 139,
   "outputs": [
    {
     "data": {
      "text/plain": "                                   bbox  \\\n0        [[4873, 26523], [4883, 26529]]   \n1        [[4887, 26543], [4906, 26553]]   \n2        [[4889, 26528], [4903, 26537]]   \n3        [[4893, 26515], [4906, 26521]]   \n4        [[4902, 26528], [4910, 26533]]   \n...                                 ...   \n78467  [[42030, 37892], [42037, 37899]]   \n78468  [[42097, 37980], [42106, 37987]]   \n78469  [[41999, 40942], [42004, 40946]]   \n78470  [[43095, 39828], [43101, 39838]]   \n78471  [[42981, 40957], [42989, 40966]]   \n\n                                       centroid  \\\n0        [5021.861111111111, 26381.79365079365]   \n1      [5043.9631578947365, 26401.553684210525]   \n2       [5028.043668122271, 26399.307860262008]   \n3        [5013.85989010989, 26402.664835164836]   \n4                          [5026.41, 26410.145]   \n...                                         ...   \n78467     [41991.66935483871, 37937.1935483871]   \n78468   [42079.454081632655, 38004.81887755102]   \n78469   [41968.379310344826, 40977.69827586207]   \n78470    [42905.76397515528, 40026.16149068323]   \n78471    [43009.86440677966, 40936.47457627119]   \n\n                                                 contour  type  \n0      [[5023, 26377], [5022, 26377], [5022, 26377], ...  None  \n1      [[5042, 26391], [5041, 26391], [5041, 26391], ...  None  \n2      [[5028, 26393], [5027, 26394], [5027, 26394], ...  None  \n3      [[5015, 26397], [5015, 26398], [5013, 26398], ...  None  \n4      [[5026, 26406], [5026, 26407], [5025, 26407], ...  None  \n...                                                  ...   ...  \n78467  [[41990, 37934], [41989, 37934], [41988, 37934...  None  \n78468  [[42078, 38001], [42077, 38001], [42077, 38001...  None  \n78469  [[41969, 40975], [41968, 40975], [41968, 40976...  None  \n78470  [[42906, 40023], [42905, 40024], [42904, 40024...  None  \n78471  [[43008, 40933], [43008, 40933], [43007, 40933...  None  \n\n[78472 rows x 4 columns]",
      "text/html": "<div>\n<style scoped>\n    .dataframe tbody tr th:only-of-type {\n        vertical-align: middle;\n    }\n\n    .dataframe tbody tr th {\n        vertical-align: top;\n    }\n\n    .dataframe thead th {\n        text-align: right;\n    }\n</style>\n<table border=\"1\" class=\"dataframe\">\n  <thead>\n    <tr style=\"text-align: right;\">\n      <th></th>\n      <th>bbox</th>\n      <th>centroid</th>\n      <th>contour</th>\n      <th>type</th>\n    </tr>\n  </thead>\n  <tbody>\n    <tr>\n      <th>0</th>\n      <td>[[4873, 26523], [4883, 26529]]</td>\n      <td>[5021.861111111111, 26381.79365079365]</td>\n      <td>[[5023, 26377], [5022, 26377], [5022, 26377], ...</td>\n      <td>None</td>\n    </tr>\n    <tr>\n      <th>1</th>\n      <td>[[4887, 26543], [4906, 26553]]</td>\n      <td>[5043.9631578947365, 26401.553684210525]</td>\n      <td>[[5042, 26391], [5041, 26391], [5041, 26391], ...</td>\n      <td>None</td>\n    </tr>\n    <tr>\n      <th>2</th>\n      <td>[[4889, 26528], [4903, 26537]]</td>\n      <td>[5028.043668122271, 26399.307860262008]</td>\n      <td>[[5028, 26393], [5027, 26394], [5027, 26394], ...</td>\n      <td>None</td>\n    </tr>\n    <tr>\n      <th>3</th>\n      <td>[[4893, 26515], [4906, 26521]]</td>\n      <td>[5013.85989010989, 26402.664835164836]</td>\n      <td>[[5015, 26397], [5015, 26398], [5013, 26398], ...</td>\n      <td>None</td>\n    </tr>\n    <tr>\n      <th>4</th>\n      <td>[[4902, 26528], [4910, 26533]]</td>\n      <td>[5026.41, 26410.145]</td>\n      <td>[[5026, 26406], [5026, 26407], [5025, 26407], ...</td>\n      <td>None</td>\n    </tr>\n    <tr>\n      <th>...</th>\n      <td>...</td>\n      <td>...</td>\n      <td>...</td>\n      <td>...</td>\n    </tr>\n    <tr>\n      <th>78467</th>\n      <td>[[42030, 37892], [42037, 37899]]</td>\n      <td>[41991.66935483871, 37937.1935483871]</td>\n      <td>[[41990, 37934], [41989, 37934], [41988, 37934...</td>\n      <td>None</td>\n    </tr>\n    <tr>\n      <th>78468</th>\n      <td>[[42097, 37980], [42106, 37987]]</td>\n      <td>[42079.454081632655, 38004.81887755102]</td>\n      <td>[[42078, 38001], [42077, 38001], [42077, 38001...</td>\n      <td>None</td>\n    </tr>\n    <tr>\n      <th>78469</th>\n      <td>[[41999, 40942], [42004, 40946]]</td>\n      <td>[41968.379310344826, 40977.69827586207]</td>\n      <td>[[41969, 40975], [41968, 40975], [41968, 40976...</td>\n      <td>None</td>\n    </tr>\n    <tr>\n      <th>78470</th>\n      <td>[[43095, 39828], [43101, 39838]]</td>\n      <td>[42905.76397515528, 40026.16149068323]</td>\n      <td>[[42906, 40023], [42905, 40024], [42904, 40024...</td>\n      <td>None</td>\n    </tr>\n    <tr>\n      <th>78471</th>\n      <td>[[42981, 40957], [42989, 40966]]</td>\n      <td>[43009.86440677966, 40936.47457627119]</td>\n      <td>[[43008, 40933], [43008, 40933], [43007, 40933...</td>\n      <td>None</td>\n    </tr>\n  </tbody>\n</table>\n<p>78472 rows × 4 columns</p>\n</div>"
     },
     "execution_count": 139,
     "metadata": {},
     "output_type": "execute_result"
    }
   ],
   "source": [
    "json"
   ],
   "metadata": {
    "collapsed": false
   }
  },
  {
   "cell_type": "code",
   "execution_count": 21,
   "outputs": [],
   "source": [
    "import pandas as pd\n",
    "\n",
    "pkl = pd.read_pickle(r'\\\\shelter\\Kyu\\skin_aging\\clue_cohort\\wsi\\hovernet_out\\df\\2022-06-07 13.18.40.pkl')"
   ],
   "metadata": {
    "collapsed": false
   }
  },
  {
   "cell_type": "code",
   "execution_count": 22,
   "outputs": [
    {
     "data": {
      "text/plain": "                                   bbox  \\\n0      [[25653, 15178], [25669, 15196]]   \n1      [[25662, 15203], [25673, 15216]]   \n2      [[25679, 15150], [25688, 15158]]   \n3      [[25680, 15188], [25690, 15197]]   \n4      [[25683, 15182], [25695, 15188]]   \n...                                 ...   \n11332  [[37935, 14241], [37945, 14246]]   \n11333  [[37998, 14268], [38002, 14275]]   \n11334  [[38003, 14398], [38013, 14403]]   \n11335  [[37900, 15378], [37904, 15383]]   \n11336  [[38956, 16346], [38966, 16359]]   \n\n                                       centroid  \\\n0       [26450.82645089286, 14396.988839285714]   \n1      [26473.506097560974, 14403.181402439024]   \n2       [26417.97076023392, 14419.269005847953]   \n3       [26456.96712802768, 14421.084775086505]   \n4      [26449.018292682926, 14424.881097560976]   \n...                                         ...   \n11332  [37795.515923566876, 14388.210191082802]   \n11333   [37823.27611940299, 14448.059701492537]   \n11334            [37952.200892857145, 14456.25]   \n11335                       [37908.6, 15373.86]   \n11336  [38880.571180555555, 16433.409722222223]   \n\n                                                 contour  type  inroi  \\\n0      [[26450, 14389], [26450, 14389], [26448, 14389...     2      1   \n1      [[26474, 14398], [26473, 14399], [26473, 14399...     2      1   \n2      [[26417, 14415], [26416, 14416], [26415, 14416...     2      1   \n3      [[26456, 14416], [26456, 14417], [26455, 14417...     2      1   \n4      [[26448, 14419], [26447, 14420], [26447, 14422...     2      1   \n...                                                  ...   ...    ...   \n11332  [[37795, 14383], [37794, 14385], [37794, 14385...    10      1   \n11333  [[37822, 14446], [37822, 14446], [37821, 14446...    10      1   \n11334  [[37951, 14451], [37951, 14452], [37950, 14452...    10      1   \n11335  [[37909, 15372], [37908, 15373], [37907, 15373...    10      1   \n11336  [[38883, 16428], [38883, 16429], [38882, 16429...    10      1   \n\n       resident_area                                       c2t_distance  \\\n0              95599  [78.875, 8.0, 2604.0, 469.25, 452.25, 1801.0, ...   \n1              95599  [114.5625, 0.0, 2584.0, 427.5, 412.0, 1764.0, ...   \n2              95599  [50.125, 4.0, 2674.0, 516.5, 513.0, 1868.0, 71...   \n3              95599  [111.125, 0.0, 2630.0, 449.25, 445.25, 1802.0,...   \n4              95599  [103.25, 4.0, 2640.0, 460.0, 457.5, 1815.0, 65...   \n...              ...                                                ...   \n11332         304870  [6400.0, 13576.0, 1420.0, 8832.0, 978.5, 9072....   \n11333         304870  [6392.0, 13624.0, 1307.0, 8808.0, 863.0, 8968....   \n11334         304870  [6588.0, 13848.0, 1145.0, 8992.0, 710.0, 8976....   \n11335         304870  [5932.0, 13768.0, 999.0, 8112.0, 1090.0, 7348....   \n11336         304870  [5708.0, 15688.0, 2612.0, 9192.0, 1122.0, 5956...   \n\n        Area  Perimeter  Circularity  ...  orientation  AspectRatio       Sol  \\\n0      216.5  57.213203     0.831142  ...    61.602367     1.125654  0.968680   \n1       74.0  44.970562     0.459817  ...    54.641518     1.931048  0.855491   \n2       40.0  28.485281     0.619482  ...    21.086744     1.112633  0.879121   \n3       66.5  33.676619     0.736842  ...    24.636820     1.116650  0.930070   \n4       31.5  29.899495     0.442785  ...   167.598145     3.052977  0.828947   \n...      ...        ...          ...  ...          ...          ...       ...   \n11332   31.5  24.714777     0.648048  ...     1.917912     2.060053  0.887324   \n11333   15.0  16.892922     0.660529  ...   111.816551     1.985380  0.882353   \n11334   23.5  24.242641     0.502479  ...   166.449829     2.625816  0.870370   \n11335    9.0  13.656854     0.606389  ...    48.186665     1.388362  0.857143   \n11336   65.5  39.899495     0.517031  ...    62.018143     2.009275  0.867550   \n\n         Extent    EquiDia                      imID  dist2nearest  \\\n0      0.707516  16.602902  2022-06-07 13.18.4011337     11.597414   \n1      0.440476   9.706685  2022-06-07 13.18.4011337     10.630146   \n2      0.555556   7.136496  2022-06-07 13.18.4011337     11.800424   \n3      0.604545   9.201654  2022-06-07 13.18.4011337      3.807887   \n4      0.403846   6.333012  2022-06-07 13.18.4011337      3.807887   \n...         ...        ...                       ...           ...   \n11332  0.525000   6.333012  2022-06-07 13.18.4011337     33.105891   \n11333  0.428571   4.370194  2022-06-07 13.18.4011337     31.148836   \n11334  0.470000   5.470021  2022-06-07 13.18.4011337     60.170591   \n11335  0.360000   3.385138  2022-06-07 13.18.4011337    102.753345   \n11336  0.458042   9.132206  2022-06-07 13.18.4011337    107.681243   \n\n             oriA        oriB  local_align  \n0       47.785965   54.641518     0.126348  \n1       70.961960   61.602367     0.131239  \n2       59.775425   47.785965     0.461839  \n3      167.598145   54.641518     0.916066  \n4       24.636820   61.602367     0.877015  \n...           ...         ...          ...  \n11332  111.816551   17.896618     1.353266  \n11333   17.896618    1.917912     1.353266  \n11334   17.896618  111.816551     0.761109  \n11335   84.098717  110.888710     0.388135  \n11336   92.559387   14.282620     0.700909  \n\n[11337 rows x 22 columns]",
      "text/html": "<div>\n<style scoped>\n    .dataframe tbody tr th:only-of-type {\n        vertical-align: middle;\n    }\n\n    .dataframe tbody tr th {\n        vertical-align: top;\n    }\n\n    .dataframe thead th {\n        text-align: right;\n    }\n</style>\n<table border=\"1\" class=\"dataframe\">\n  <thead>\n    <tr style=\"text-align: right;\">\n      <th></th>\n      <th>bbox</th>\n      <th>centroid</th>\n      <th>contour</th>\n      <th>type</th>\n      <th>inroi</th>\n      <th>resident_area</th>\n      <th>c2t_distance</th>\n      <th>Area</th>\n      <th>Perimeter</th>\n      <th>Circularity</th>\n      <th>...</th>\n      <th>orientation</th>\n      <th>AspectRatio</th>\n      <th>Sol</th>\n      <th>Extent</th>\n      <th>EquiDia</th>\n      <th>imID</th>\n      <th>dist2nearest</th>\n      <th>oriA</th>\n      <th>oriB</th>\n      <th>local_align</th>\n    </tr>\n  </thead>\n  <tbody>\n    <tr>\n      <th>0</th>\n      <td>[[25653, 15178], [25669, 15196]]</td>\n      <td>[26450.82645089286, 14396.988839285714]</td>\n      <td>[[26450, 14389], [26450, 14389], [26448, 14389...</td>\n      <td>2</td>\n      <td>1</td>\n      <td>95599</td>\n      <td>[78.875, 8.0, 2604.0, 469.25, 452.25, 1801.0, ...</td>\n      <td>216.5</td>\n      <td>57.213203</td>\n      <td>0.831142</td>\n      <td>...</td>\n      <td>61.602367</td>\n      <td>1.125654</td>\n      <td>0.968680</td>\n      <td>0.707516</td>\n      <td>16.602902</td>\n      <td>2022-06-07 13.18.4011337</td>\n      <td>11.597414</td>\n      <td>47.785965</td>\n      <td>54.641518</td>\n      <td>0.126348</td>\n    </tr>\n    <tr>\n      <th>1</th>\n      <td>[[25662, 15203], [25673, 15216]]</td>\n      <td>[26473.506097560974, 14403.181402439024]</td>\n      <td>[[26474, 14398], [26473, 14399], [26473, 14399...</td>\n      <td>2</td>\n      <td>1</td>\n      <td>95599</td>\n      <td>[114.5625, 0.0, 2584.0, 427.5, 412.0, 1764.0, ...</td>\n      <td>74.0</td>\n      <td>44.970562</td>\n      <td>0.459817</td>\n      <td>...</td>\n      <td>54.641518</td>\n      <td>1.931048</td>\n      <td>0.855491</td>\n      <td>0.440476</td>\n      <td>9.706685</td>\n      <td>2022-06-07 13.18.4011337</td>\n      <td>10.630146</td>\n      <td>70.961960</td>\n      <td>61.602367</td>\n      <td>0.131239</td>\n    </tr>\n    <tr>\n      <th>2</th>\n      <td>[[25679, 15150], [25688, 15158]]</td>\n      <td>[26417.97076023392, 14419.269005847953]</td>\n      <td>[[26417, 14415], [26416, 14416], [26415, 14416...</td>\n      <td>2</td>\n      <td>1</td>\n      <td>95599</td>\n      <td>[50.125, 4.0, 2674.0, 516.5, 513.0, 1868.0, 71...</td>\n      <td>40.0</td>\n      <td>28.485281</td>\n      <td>0.619482</td>\n      <td>...</td>\n      <td>21.086744</td>\n      <td>1.112633</td>\n      <td>0.879121</td>\n      <td>0.555556</td>\n      <td>7.136496</td>\n      <td>2022-06-07 13.18.4011337</td>\n      <td>11.800424</td>\n      <td>59.775425</td>\n      <td>47.785965</td>\n      <td>0.461839</td>\n    </tr>\n    <tr>\n      <th>3</th>\n      <td>[[25680, 15188], [25690, 15197]]</td>\n      <td>[26456.96712802768, 14421.084775086505]</td>\n      <td>[[26456, 14416], [26456, 14417], [26455, 14417...</td>\n      <td>2</td>\n      <td>1</td>\n      <td>95599</td>\n      <td>[111.125, 0.0, 2630.0, 449.25, 445.25, 1802.0,...</td>\n      <td>66.5</td>\n      <td>33.676619</td>\n      <td>0.736842</td>\n      <td>...</td>\n      <td>24.636820</td>\n      <td>1.116650</td>\n      <td>0.930070</td>\n      <td>0.604545</td>\n      <td>9.201654</td>\n      <td>2022-06-07 13.18.4011337</td>\n      <td>3.807887</td>\n      <td>167.598145</td>\n      <td>54.641518</td>\n      <td>0.916066</td>\n    </tr>\n    <tr>\n      <th>4</th>\n      <td>[[25683, 15182], [25695, 15188]]</td>\n      <td>[26449.018292682926, 14424.881097560976]</td>\n      <td>[[26448, 14419], [26447, 14420], [26447, 14422...</td>\n      <td>2</td>\n      <td>1</td>\n      <td>95599</td>\n      <td>[103.25, 4.0, 2640.0, 460.0, 457.5, 1815.0, 65...</td>\n      <td>31.5</td>\n      <td>29.899495</td>\n      <td>0.442785</td>\n      <td>...</td>\n      <td>167.598145</td>\n      <td>3.052977</td>\n      <td>0.828947</td>\n      <td>0.403846</td>\n      <td>6.333012</td>\n      <td>2022-06-07 13.18.4011337</td>\n      <td>3.807887</td>\n      <td>24.636820</td>\n      <td>61.602367</td>\n      <td>0.877015</td>\n    </tr>\n    <tr>\n      <th>...</th>\n      <td>...</td>\n      <td>...</td>\n      <td>...</td>\n      <td>...</td>\n      <td>...</td>\n      <td>...</td>\n      <td>...</td>\n      <td>...</td>\n      <td>...</td>\n      <td>...</td>\n      <td>...</td>\n      <td>...</td>\n      <td>...</td>\n      <td>...</td>\n      <td>...</td>\n      <td>...</td>\n      <td>...</td>\n      <td>...</td>\n      <td>...</td>\n      <td>...</td>\n      <td>...</td>\n    </tr>\n    <tr>\n      <th>11332</th>\n      <td>[[37935, 14241], [37945, 14246]]</td>\n      <td>[37795.515923566876, 14388.210191082802]</td>\n      <td>[[37795, 14383], [37794, 14385], [37794, 14385...</td>\n      <td>10</td>\n      <td>1</td>\n      <td>304870</td>\n      <td>[6400.0, 13576.0, 1420.0, 8832.0, 978.5, 9072....</td>\n      <td>31.5</td>\n      <td>24.714777</td>\n      <td>0.648048</td>\n      <td>...</td>\n      <td>1.917912</td>\n      <td>2.060053</td>\n      <td>0.887324</td>\n      <td>0.525000</td>\n      <td>6.333012</td>\n      <td>2022-06-07 13.18.4011337</td>\n      <td>33.105891</td>\n      <td>111.816551</td>\n      <td>17.896618</td>\n      <td>1.353266</td>\n    </tr>\n    <tr>\n      <th>11333</th>\n      <td>[[37998, 14268], [38002, 14275]]</td>\n      <td>[37823.27611940299, 14448.059701492537]</td>\n      <td>[[37822, 14446], [37822, 14446], [37821, 14446...</td>\n      <td>10</td>\n      <td>1</td>\n      <td>304870</td>\n      <td>[6392.0, 13624.0, 1307.0, 8808.0, 863.0, 8968....</td>\n      <td>15.0</td>\n      <td>16.892922</td>\n      <td>0.660529</td>\n      <td>...</td>\n      <td>111.816551</td>\n      <td>1.985380</td>\n      <td>0.882353</td>\n      <td>0.428571</td>\n      <td>4.370194</td>\n      <td>2022-06-07 13.18.4011337</td>\n      <td>31.148836</td>\n      <td>17.896618</td>\n      <td>1.917912</td>\n      <td>1.353266</td>\n    </tr>\n    <tr>\n      <th>11334</th>\n      <td>[[38003, 14398], [38013, 14403]]</td>\n      <td>[37952.200892857145, 14456.25]</td>\n      <td>[[37951, 14451], [37951, 14452], [37950, 14452...</td>\n      <td>10</td>\n      <td>1</td>\n      <td>304870</td>\n      <td>[6588.0, 13848.0, 1145.0, 8992.0, 710.0, 8976....</td>\n      <td>23.5</td>\n      <td>24.242641</td>\n      <td>0.502479</td>\n      <td>...</td>\n      <td>166.449829</td>\n      <td>2.625816</td>\n      <td>0.870370</td>\n      <td>0.470000</td>\n      <td>5.470021</td>\n      <td>2022-06-07 13.18.4011337</td>\n      <td>60.170591</td>\n      <td>17.896618</td>\n      <td>111.816551</td>\n      <td>0.761109</td>\n    </tr>\n    <tr>\n      <th>11335</th>\n      <td>[[37900, 15378], [37904, 15383]]</td>\n      <td>[37908.6, 15373.86]</td>\n      <td>[[37909, 15372], [37908, 15373], [37907, 15373...</td>\n      <td>10</td>\n      <td>1</td>\n      <td>304870</td>\n      <td>[5932.0, 13768.0, 999.0, 8112.0, 1090.0, 7348....</td>\n      <td>9.0</td>\n      <td>13.656854</td>\n      <td>0.606389</td>\n      <td>...</td>\n      <td>48.186665</td>\n      <td>1.388362</td>\n      <td>0.857143</td>\n      <td>0.360000</td>\n      <td>3.385138</td>\n      <td>2022-06-07 13.18.4011337</td>\n      <td>102.753345</td>\n      <td>84.098717</td>\n      <td>110.888710</td>\n      <td>0.388135</td>\n    </tr>\n    <tr>\n      <th>11336</th>\n      <td>[[38956, 16346], [38966, 16359]]</td>\n      <td>[38880.571180555555, 16433.409722222223]</td>\n      <td>[[38883, 16428], [38883, 16429], [38882, 16429...</td>\n      <td>10</td>\n      <td>1</td>\n      <td>304870</td>\n      <td>[5708.0, 15688.0, 2612.0, 9192.0, 1122.0, 5956...</td>\n      <td>65.5</td>\n      <td>39.899495</td>\n      <td>0.517031</td>\n      <td>...</td>\n      <td>62.018143</td>\n      <td>2.009275</td>\n      <td>0.867550</td>\n      <td>0.458042</td>\n      <td>9.132206</td>\n      <td>2022-06-07 13.18.4011337</td>\n      <td>107.681243</td>\n      <td>92.559387</td>\n      <td>14.282620</td>\n      <td>0.700909</td>\n    </tr>\n  </tbody>\n</table>\n<p>11337 rows × 22 columns</p>\n</div>"
     },
     "execution_count": 22,
     "metadata": {},
     "output_type": "execute_result"
    }
   ],
   "source": [
    "pkl"
   ],
   "metadata": {
    "collapsed": false
   }
  },
  {
   "cell_type": "code",
   "execution_count": 11,
   "outputs": [],
   "source": [
    "bbox_tmp = pkl[\"bbox\"].tolist()\n",
    "for idx in range(len(bbox_tmp)):\n",
    "    bbox_tmp[idx] = [[int(x/2),int(y/2)] for (x,y) in bbox_tmp[idx]]\n",
    "pkl[\"bbox_20x\"] = bbox_tmp\n",
    "pkl['centroid_20x'] = pkl['centroid'].apply(lambda row: [_/2 for _ in row])\n",
    "contour_tmp = pkl[\"contour\"].tolist()\n",
    "for idx in range(len(contour_tmp)):\n",
    "    contour_tmp[idx] = [[int(x/2),int(y/2)] for (x,y) in contour_tmp[idx]]\n",
    "pkl[\"contour_20x\"] = contour_tmp"
   ],
   "metadata": {
    "collapsed": false
   }
  },
  {
   "cell_type": "code",
   "execution_count": 1,
   "outputs": [],
   "source": [
    "import os\n",
    "import pickle\n",
    "from tqdm import tqdm\n",
    "import pandas as pd\n",
    "import numpy as np"
   ],
   "metadata": {
    "collapsed": false
   }
  },
  {
   "cell_type": "code",
   "execution_count": 38,
   "outputs": [
    {
     "name": "stderr",
     "output_type": "stream",
     "text": [
      "Pickle File Processed:   1%|\u001B[31m          \u001B[0m| 2/214 [02:41<4:44:29, 80.52s/it]\n"
     ]
    },
    {
     "ename": "PermissionError",
     "evalue": "[Errno 13] Permission denied: '\\\\\\\\shelter\\\\Kyu\\\\skin_aging\\\\2022-06-07 13.51.05.xlsx'",
     "output_type": "error",
     "traceback": [
      "\u001B[1;31m---------------------------------------------------------------------------\u001B[0m",
      "\u001B[1;31mPermissionError\u001B[0m                           Traceback (most recent call last)",
      "Input \u001B[1;32mIn [38]\u001B[0m, in \u001B[0;36m<cell line: 6>\u001B[1;34m()\u001B[0m\n\u001B[0;32m     31\u001B[0m output_pth \u001B[38;5;241m=\u001B[39m os\u001B[38;5;241m.\u001B[39mpath\u001B[38;5;241m.\u001B[39mjoin(output_src,imID \u001B[38;5;241m+\u001B[39m \u001B[38;5;124m\"\u001B[39m\u001B[38;5;124m.xlsx\u001B[39m\u001B[38;5;124m\"\u001B[39m)\n\u001B[0;32m     32\u001B[0m \u001B[38;5;66;03m# save original df\u001B[39;00m\n\u001B[1;32m---> 33\u001B[0m \u001B[43mexpanded_df\u001B[49m\u001B[38;5;241;43m.\u001B[39;49m\u001B[43mto_excel\u001B[49m\u001B[43m(\u001B[49m\u001B[43moutput_pth\u001B[49m\u001B[43m,\u001B[49m\u001B[43m \u001B[49m\u001B[43mindex\u001B[49m\u001B[38;5;241;43m=\u001B[39;49m\u001B[38;5;28;43;01mFalse\u001B[39;49;00m\u001B[43m)\u001B[49m\n\u001B[0;32m     35\u001B[0m \u001B[38;5;66;03m# save average df\u001B[39;00m\n\u001B[0;32m     36\u001B[0m \u001B[38;5;28;01mfor\u001B[39;00m col \u001B[38;5;129;01min\u001B[39;00m expanded_df\u001B[38;5;241m.\u001B[39mcolumns:\n",
      "File \u001B[1;32mC:\\ProgramData\\Anaconda3\\lib\\site-packages\\pandas\\core\\generic.py:2345\u001B[0m, in \u001B[0;36mNDFrame.to_excel\u001B[1;34m(self, excel_writer, sheet_name, na_rep, float_format, columns, header, index, index_label, startrow, startcol, engine, merge_cells, encoding, inf_rep, verbose, freeze_panes, storage_options)\u001B[0m\n\u001B[0;32m   2332\u001B[0m \u001B[38;5;28;01mfrom\u001B[39;00m \u001B[38;5;21;01mpandas\u001B[39;00m\u001B[38;5;21;01m.\u001B[39;00m\u001B[38;5;21;01mio\u001B[39;00m\u001B[38;5;21;01m.\u001B[39;00m\u001B[38;5;21;01mformats\u001B[39;00m\u001B[38;5;21;01m.\u001B[39;00m\u001B[38;5;21;01mexcel\u001B[39;00m \u001B[38;5;28;01mimport\u001B[39;00m ExcelFormatter\n\u001B[0;32m   2334\u001B[0m formatter \u001B[38;5;241m=\u001B[39m ExcelFormatter(\n\u001B[0;32m   2335\u001B[0m     df,\n\u001B[0;32m   2336\u001B[0m     na_rep\u001B[38;5;241m=\u001B[39mna_rep,\n\u001B[1;32m   (...)\u001B[0m\n\u001B[0;32m   2343\u001B[0m     inf_rep\u001B[38;5;241m=\u001B[39minf_rep,\n\u001B[0;32m   2344\u001B[0m )\n\u001B[1;32m-> 2345\u001B[0m \u001B[43mformatter\u001B[49m\u001B[38;5;241;43m.\u001B[39;49m\u001B[43mwrite\u001B[49m\u001B[43m(\u001B[49m\n\u001B[0;32m   2346\u001B[0m \u001B[43m    \u001B[49m\u001B[43mexcel_writer\u001B[49m\u001B[43m,\u001B[49m\n\u001B[0;32m   2347\u001B[0m \u001B[43m    \u001B[49m\u001B[43msheet_name\u001B[49m\u001B[38;5;241;43m=\u001B[39;49m\u001B[43msheet_name\u001B[49m\u001B[43m,\u001B[49m\n\u001B[0;32m   2348\u001B[0m \u001B[43m    \u001B[49m\u001B[43mstartrow\u001B[49m\u001B[38;5;241;43m=\u001B[39;49m\u001B[43mstartrow\u001B[49m\u001B[43m,\u001B[49m\n\u001B[0;32m   2349\u001B[0m \u001B[43m    \u001B[49m\u001B[43mstartcol\u001B[49m\u001B[38;5;241;43m=\u001B[39;49m\u001B[43mstartcol\u001B[49m\u001B[43m,\u001B[49m\n\u001B[0;32m   2350\u001B[0m \u001B[43m    \u001B[49m\u001B[43mfreeze_panes\u001B[49m\u001B[38;5;241;43m=\u001B[39;49m\u001B[43mfreeze_panes\u001B[49m\u001B[43m,\u001B[49m\n\u001B[0;32m   2351\u001B[0m \u001B[43m    \u001B[49m\u001B[43mengine\u001B[49m\u001B[38;5;241;43m=\u001B[39;49m\u001B[43mengine\u001B[49m\u001B[43m,\u001B[49m\n\u001B[0;32m   2352\u001B[0m \u001B[43m    \u001B[49m\u001B[43mstorage_options\u001B[49m\u001B[38;5;241;43m=\u001B[39;49m\u001B[43mstorage_options\u001B[49m\u001B[43m,\u001B[49m\n\u001B[0;32m   2353\u001B[0m \u001B[43m\u001B[49m\u001B[43m)\u001B[49m\n",
      "File \u001B[1;32mC:\\ProgramData\\Anaconda3\\lib\\site-packages\\pandas\\io\\formats\\excel.py:888\u001B[0m, in \u001B[0;36mExcelFormatter.write\u001B[1;34m(self, writer, sheet_name, startrow, startcol, freeze_panes, engine, storage_options)\u001B[0m\n\u001B[0;32m    884\u001B[0m     need_save \u001B[38;5;241m=\u001B[39m \u001B[38;5;28;01mFalse\u001B[39;00m\n\u001B[0;32m    885\u001B[0m \u001B[38;5;28;01melse\u001B[39;00m:\n\u001B[0;32m    886\u001B[0m     \u001B[38;5;66;03m# error: Cannot instantiate abstract class 'ExcelWriter' with abstract\u001B[39;00m\n\u001B[0;32m    887\u001B[0m     \u001B[38;5;66;03m# attributes 'engine', 'save', 'supported_extensions' and 'write_cells'\u001B[39;00m\n\u001B[1;32m--> 888\u001B[0m     writer \u001B[38;5;241m=\u001B[39m \u001B[43mExcelWriter\u001B[49m\u001B[43m(\u001B[49m\u001B[43m  \u001B[49m\u001B[38;5;66;43;03m# type: ignore[abstract]\u001B[39;49;00m\n\u001B[0;32m    889\u001B[0m \u001B[43m        \u001B[49m\u001B[43mwriter\u001B[49m\u001B[43m,\u001B[49m\u001B[43m \u001B[49m\u001B[43mengine\u001B[49m\u001B[38;5;241;43m=\u001B[39;49m\u001B[43mengine\u001B[49m\u001B[43m,\u001B[49m\u001B[43m \u001B[49m\u001B[43mstorage_options\u001B[49m\u001B[38;5;241;43m=\u001B[39;49m\u001B[43mstorage_options\u001B[49m\n\u001B[0;32m    890\u001B[0m \u001B[43m    \u001B[49m\u001B[43m)\u001B[49m\n\u001B[0;32m    891\u001B[0m     need_save \u001B[38;5;241m=\u001B[39m \u001B[38;5;28;01mTrue\u001B[39;00m\n\u001B[0;32m    893\u001B[0m \u001B[38;5;28;01mtry\u001B[39;00m:\n",
      "File \u001B[1;32mC:\\ProgramData\\Anaconda3\\lib\\site-packages\\pandas\\io\\excel\\_xlsxwriter.py:191\u001B[0m, in \u001B[0;36mXlsxWriter.__init__\u001B[1;34m(self, path, engine, date_format, datetime_format, mode, storage_options, if_sheet_exists, engine_kwargs, **kwargs)\u001B[0m\n\u001B[0;32m    188\u001B[0m \u001B[38;5;28;01mif\u001B[39;00m mode \u001B[38;5;241m==\u001B[39m \u001B[38;5;124m\"\u001B[39m\u001B[38;5;124ma\u001B[39m\u001B[38;5;124m\"\u001B[39m:\n\u001B[0;32m    189\u001B[0m     \u001B[38;5;28;01mraise\u001B[39;00m \u001B[38;5;167;01mValueError\u001B[39;00m(\u001B[38;5;124m\"\u001B[39m\u001B[38;5;124mAppend mode is not supported with xlsxwriter!\u001B[39m\u001B[38;5;124m\"\u001B[39m)\n\u001B[1;32m--> 191\u001B[0m \u001B[38;5;28;43msuper\u001B[39;49m\u001B[43m(\u001B[49m\u001B[43m)\u001B[49m\u001B[38;5;241;43m.\u001B[39;49m\u001B[38;5;21;43m__init__\u001B[39;49m\u001B[43m(\u001B[49m\n\u001B[0;32m    192\u001B[0m \u001B[43m    \u001B[49m\u001B[43mpath\u001B[49m\u001B[43m,\u001B[49m\n\u001B[0;32m    193\u001B[0m \u001B[43m    \u001B[49m\u001B[43mengine\u001B[49m\u001B[38;5;241;43m=\u001B[39;49m\u001B[43mengine\u001B[49m\u001B[43m,\u001B[49m\n\u001B[0;32m    194\u001B[0m \u001B[43m    \u001B[49m\u001B[43mdate_format\u001B[49m\u001B[38;5;241;43m=\u001B[39;49m\u001B[43mdate_format\u001B[49m\u001B[43m,\u001B[49m\n\u001B[0;32m    195\u001B[0m \u001B[43m    \u001B[49m\u001B[43mdatetime_format\u001B[49m\u001B[38;5;241;43m=\u001B[39;49m\u001B[43mdatetime_format\u001B[49m\u001B[43m,\u001B[49m\n\u001B[0;32m    196\u001B[0m \u001B[43m    \u001B[49m\u001B[43mmode\u001B[49m\u001B[38;5;241;43m=\u001B[39;49m\u001B[43mmode\u001B[49m\u001B[43m,\u001B[49m\n\u001B[0;32m    197\u001B[0m \u001B[43m    \u001B[49m\u001B[43mstorage_options\u001B[49m\u001B[38;5;241;43m=\u001B[39;49m\u001B[43mstorage_options\u001B[49m\u001B[43m,\u001B[49m\n\u001B[0;32m    198\u001B[0m \u001B[43m    \u001B[49m\u001B[43mif_sheet_exists\u001B[49m\u001B[38;5;241;43m=\u001B[39;49m\u001B[43mif_sheet_exists\u001B[49m\u001B[43m,\u001B[49m\n\u001B[0;32m    199\u001B[0m \u001B[43m    \u001B[49m\u001B[43mengine_kwargs\u001B[49m\u001B[38;5;241;43m=\u001B[39;49m\u001B[43mengine_kwargs\u001B[49m\u001B[43m,\u001B[49m\n\u001B[0;32m    200\u001B[0m \u001B[43m\u001B[49m\u001B[43m)\u001B[49m\n\u001B[0;32m    202\u001B[0m \u001B[38;5;28mself\u001B[39m\u001B[38;5;241m.\u001B[39mbook \u001B[38;5;241m=\u001B[39m Workbook(\u001B[38;5;28mself\u001B[39m\u001B[38;5;241m.\u001B[39mhandles\u001B[38;5;241m.\u001B[39mhandle, \u001B[38;5;241m*\u001B[39m\u001B[38;5;241m*\u001B[39mengine_kwargs)\n",
      "File \u001B[1;32mC:\\ProgramData\\Anaconda3\\lib\\site-packages\\pandas\\io\\excel\\_base.py:1106\u001B[0m, in \u001B[0;36mExcelWriter.__init__\u001B[1;34m(self, path, engine, date_format, datetime_format, mode, storage_options, if_sheet_exists, engine_kwargs, **kwargs)\u001B[0m\n\u001B[0;32m   1102\u001B[0m \u001B[38;5;28mself\u001B[39m\u001B[38;5;241m.\u001B[39mhandles \u001B[38;5;241m=\u001B[39m IOHandles(\n\u001B[0;32m   1103\u001B[0m     cast(IO[\u001B[38;5;28mbytes\u001B[39m], path), compression\u001B[38;5;241m=\u001B[39m{\u001B[38;5;124m\"\u001B[39m\u001B[38;5;124mcompression\u001B[39m\u001B[38;5;124m\"\u001B[39m: \u001B[38;5;28;01mNone\u001B[39;00m}\n\u001B[0;32m   1104\u001B[0m )\n\u001B[0;32m   1105\u001B[0m \u001B[38;5;28;01mif\u001B[39;00m \u001B[38;5;129;01mnot\u001B[39;00m \u001B[38;5;28misinstance\u001B[39m(path, ExcelWriter):\n\u001B[1;32m-> 1106\u001B[0m     \u001B[38;5;28mself\u001B[39m\u001B[38;5;241m.\u001B[39mhandles \u001B[38;5;241m=\u001B[39m \u001B[43mget_handle\u001B[49m\u001B[43m(\u001B[49m\n\u001B[0;32m   1107\u001B[0m \u001B[43m        \u001B[49m\u001B[43mpath\u001B[49m\u001B[43m,\u001B[49m\u001B[43m \u001B[49m\u001B[43mmode\u001B[49m\u001B[43m,\u001B[49m\u001B[43m \u001B[49m\u001B[43mstorage_options\u001B[49m\u001B[38;5;241;43m=\u001B[39;49m\u001B[43mstorage_options\u001B[49m\u001B[43m,\u001B[49m\u001B[43m \u001B[49m\u001B[43mis_text\u001B[49m\u001B[38;5;241;43m=\u001B[39;49m\u001B[38;5;28;43;01mFalse\u001B[39;49;00m\n\u001B[0;32m   1108\u001B[0m \u001B[43m    \u001B[49m\u001B[43m)\u001B[49m\n\u001B[0;32m   1109\u001B[0m \u001B[38;5;28mself\u001B[39m\u001B[38;5;241m.\u001B[39msheets: \u001B[38;5;28mdict\u001B[39m[\u001B[38;5;28mstr\u001B[39m, Any] \u001B[38;5;241m=\u001B[39m {}\n\u001B[0;32m   1110\u001B[0m \u001B[38;5;28mself\u001B[39m\u001B[38;5;241m.\u001B[39mcur_sheet \u001B[38;5;241m=\u001B[39m \u001B[38;5;28;01mNone\u001B[39;00m\n",
      "File \u001B[1;32mC:\\ProgramData\\Anaconda3\\lib\\site-packages\\pandas\\io\\common.py:798\u001B[0m, in \u001B[0;36mget_handle\u001B[1;34m(path_or_buf, mode, encoding, compression, memory_map, is_text, errors, storage_options)\u001B[0m\n\u001B[0;32m    789\u001B[0m         handle \u001B[38;5;241m=\u001B[39m \u001B[38;5;28mopen\u001B[39m(\n\u001B[0;32m    790\u001B[0m             handle,\n\u001B[0;32m    791\u001B[0m             ioargs\u001B[38;5;241m.\u001B[39mmode,\n\u001B[1;32m   (...)\u001B[0m\n\u001B[0;32m    794\u001B[0m             newline\u001B[38;5;241m=\u001B[39m\u001B[38;5;124m\"\u001B[39m\u001B[38;5;124m\"\u001B[39m,\n\u001B[0;32m    795\u001B[0m         )\n\u001B[0;32m    796\u001B[0m     \u001B[38;5;28;01melse\u001B[39;00m:\n\u001B[0;32m    797\u001B[0m         \u001B[38;5;66;03m# Binary mode\u001B[39;00m\n\u001B[1;32m--> 798\u001B[0m         handle \u001B[38;5;241m=\u001B[39m \u001B[38;5;28;43mopen\u001B[39;49m\u001B[43m(\u001B[49m\u001B[43mhandle\u001B[49m\u001B[43m,\u001B[49m\u001B[43m \u001B[49m\u001B[43mioargs\u001B[49m\u001B[38;5;241;43m.\u001B[39;49m\u001B[43mmode\u001B[49m\u001B[43m)\u001B[49m\n\u001B[0;32m    799\u001B[0m     handles\u001B[38;5;241m.\u001B[39mappend(handle)\n\u001B[0;32m    801\u001B[0m \u001B[38;5;66;03m# Convert BytesIO or file objects passed with an encoding\u001B[39;00m\n",
      "\u001B[1;31mPermissionError\u001B[0m: [Errno 13] Permission denied: '\\\\\\\\shelter\\\\Kyu\\\\skin_aging\\\\2022-06-07 13.51.05.xlsx'"
     ]
    }
   ],
   "source": [
    "pkl_src=r'\\\\shelter\\Kyu\\skin_aging\\clue_cohort\\wsi\\hovernet_out\\df'\n",
    "output_src=r'\\\\shelter\\Kyu\\skin_aging'\n",
    "pkl_list = [x for x in os.listdir(pkl_src) if x.endswith(\".pkl\")]\n",
    "pkl_full_list = [os.path.join(pkl_src,x) for x in pkl_list]\n",
    "\n",
    "for idx, pkl in tqdm(enumerate(range(len(pkl_list))),desc=\"Pickle File Processed\",colour='red',total = len(pkl_list)):\n",
    "    with open(pkl_full_list[idx], 'rb') as f:\n",
    "        df = pickle.load(f)\n",
    "        bbox_tmp = df[\"bbox\"].tolist()\n",
    "        for idx1 in range(len(bbox_tmp)):\n",
    "            bbox_tmp[idx1] = [[int(x/2),int(y/2)] for (x,y) in bbox_tmp[idx1]]\n",
    "        df[\"bbox_20x\"] = bbox_tmp\n",
    "        df['centroid_20x'] = df['centroid'].apply(lambda row: [_/2 for _ in row])\n",
    "\n",
    "        contour_tmp = df[\"contour\"].tolist()\n",
    "        for idx2 in range(len(contour_tmp)):\n",
    "            contour_tmp[idx2] = [[int(x/2),int(y/2)] for (x,y) in contour_tmp[idx2]]\n",
    "        df[\"contour_20x\"] = contour_tmp\n",
    "    # df dict, key is the type and the value is a DataFrame with the relevant rows\n",
    "    dfs_by_type = {}\n",
    "    for t in range(2, 12):\n",
    "        dfs_by_type[t] = df[df['type'] == t].reset_index(drop=True)\n",
    "\n",
    "    expanded_dfs = []\n",
    "    for t, df_t in dfs_by_type.items():\n",
    "        new_cols = {f\"{col}_type{t}\": df_t[col] for col in df_t.columns if col != 'type'}\n",
    "        expanded_dfs.append(pd.DataFrame(new_cols))\n",
    "\n",
    "    expanded_df = pd.concat(expanded_dfs, axis=1)\n",
    "    imID,_ = os.path.splitext(pkl_list[idx])\n",
    "    output_pth = os.path.join(output_src,imID + \".xlsx\")\n",
    "    # save original df\n",
    "    expanded_df.to_excel(output_pth, index=False)\n",
    "\n",
    "    # save average df\n",
    "    for col in expanded_df.columns:\n",
    "        if expanded_df[col].dtype not in [int, float]:\n",
    "            expanded_df.drop(columns=col)\n",
    "    avg_df = expanded_df.groupby('inroi_type2',as_index=False, dropna = True).mean()\n",
    "\n",
    "    # drop all columns with inroi:\n",
    "    # save average df\n",
    "    with pd.ExcelWriter(output_pth, engine='openpyxl', mode='a') as writer:\n",
    "        avg_df.to_excel(writer, sheet_name='averages', index=False)"
   ],
   "metadata": {
    "collapsed": false
   }
  },
  {
   "cell_type": "code",
   "execution_count": 39,
   "outputs": [
    {
     "data": {
      "text/plain": "                            bbox_type2  \\\n0     [[22650, 22433], [22664, 22438]]   \n1     [[22663, 22438], [22681, 22447]]   \n2     [[22684, 22446], [22698, 22454]]   \n3     [[22689, 22432], [22703, 22442]]   \n4     [[24167, 20716], [24174, 20723]]   \n...                                ...   \n8339                               NaN   \n8340                               NaN   \n8341                               NaN   \n8342                               NaN   \n8343                               NaN   \n\n                                centroid_type2  \\\n0     [23459.532967032967, 21634.101648351647]   \n1     [23466.240610328638, 21647.962441314554]   \n2      [23474.14381270903, 21666.877926421406]   \n3       [23460.78078817734, 21672.31280788177]   \n4     [23791.057553956834, 21098.622302158274]   \n...                                        ...   \n8339                                       NaN   \n8340                                       NaN   \n8341                                       NaN   \n8342                                       NaN   \n8343                                       NaN   \n\n                                          contour_type2  inroi_type2  \\\n0     [[23458, 21626], [23458, 21628], [23458, 21629...          3.0   \n1     [[23467, 21639], [23465, 21641], [23465, 21642...          3.0   \n2     [[23473, 21660], [23472, 21660], [23472, 21660...          3.0   \n3     [[23460, 21665], [23460, 21666], [23459, 21666...          3.0   \n4     [[23791, 21095], [23790, 21096], [23789, 21096...          3.0   \n...                                                 ...          ...   \n8339                                                NaN          NaN   \n8340                                                NaN          NaN   \n8341                                                NaN          NaN   \n8342                                                NaN          NaN   \n8343                                                NaN          NaN   \n\n      resident_area_type2                                 c2t_distance_type2  \\\n0                 40564.0  [213.0, 4.0, 80.375, 25.296875, 473.0, 3966.0,...   \n1                 40564.0  [215.25, 0.0, 68.0, 12.0, 482.0, 3940.0, 2366....   \n2                 40564.0  [229.125, 4.0, 60.9375, 12.0, 492.0, 3906.0, 2...   \n3                 40564.0  [249.125, 0.0, 82.4375, 32.25, 472.0, 3912.0, ...   \n4                 40564.0  [79.6875, 4.0, 930.5, 209.875, 1452.0, 4432.0,...   \n...                   ...                                                ...   \n8339                  NaN                                                NaN   \n8340                  NaN                                                NaN   \n8341                  NaN                                                NaN   \n8342                  NaN                                                NaN   \n8343                  NaN                                                NaN   \n\n      Area_type2  Perimeter_type2  Circularity_type2   MA_type2  ...  \\\n0           39.5        35.414214           0.395778  15.018906  ...   \n1           99.0        46.485281           0.575724  19.124428  ...   \n2           68.0        37.656854           0.602602  13.641723  ...   \n3           91.0        41.656854           0.658989  13.542336  ...   \n4           31.5        27.071068           0.540144   8.052619  ...   \n...          ...              ...                ...        ...  ...   \n8339         NaN              NaN                NaN        NaN  ...   \n8340         NaN              NaN                NaN        NaN  ...   \n8341         NaN              NaN                NaN        NaN  ...   \n8342         NaN              NaN                NaN        NaN  ...   \n8343         NaN              NaN                NaN        NaN  ...   \n\n      Extent_type11  EquiDia_type11               imID_type11  \\\n0          0.340476        9.541312  2022-06-07 13.51.0521740   \n1          0.619444       11.914957  2022-06-07 13.51.0521740   \n2          0.555556        7.569398  2022-06-07 13.51.0521740   \n3          0.354251       10.555021  2022-06-07 13.51.0521740   \n4          0.392857        5.292567  2022-06-07 13.51.0521740   \n...             ...             ...                       ...   \n8339            NaN             NaN                       NaN   \n8340            NaN             NaN                       NaN   \n8341            NaN             NaN                       NaN   \n8342            NaN             NaN                       NaN   \n8343            NaN             NaN                       NaN   \n\n      dist2nearest_type11  oriA_type11  oriB_type11 local_align_type11  \\\n0              216.431282    63.323124    44.589409           0.179907   \n1               71.149491    47.980709   157.980652           1.030138   \n2              127.561750    35.709862    13.634857           0.662892   \n3               93.884237   129.063782   112.947632           0.154641   \n4               15.402922   123.370636     0.384224           0.870108   \n...                   ...          ...          ...                ...   \n8339                  NaN          NaN          NaN                NaN   \n8340                  NaN          NaN          NaN                NaN   \n8341                  NaN          NaN          NaN                NaN   \n8342                  NaN          NaN          NaN                NaN   \n8343                  NaN          NaN          NaN                NaN   \n\n                     bbox_20x_type11                      centroid_20x_type11  \\\n0     [[9277, 12495], [9284, 12503]]   [9427.073863636364, 12352.36525974026]   \n1     [[9332, 12725], [9340, 12731]]   [9656.18710691824, 12408.164570230609]   \n2     [[9434, 12646], [9438, 12650]]  [9576.608418367347, 12508.744897959185]   \n3     [[9549, 12556], [9558, 12562]]   [9487.06347150259, 12626.029792746114]   \n4     [[9824, 12576], [9828, 12579]]                    [10017.61, 12386.185]   \n...                              ...                                      ...   \n8339                             NaN                                      NaN   \n8340                             NaN                                      NaN   \n8341                             NaN                                      NaN   \n8342                             NaN                                      NaN   \n8343                             NaN                                      NaN   \n\n                                     contour_20x_type11  \n0     [[9430, 12349], [9429, 12349], [9429, 12349], ...  \n1     [[9655, 12404], [9654, 12405], [9654, 12406], ...  \n2     [[9576, 12506], [9576, 12507], [9576, 12507], ...  \n3     [[9484, 12621], [9484, 12622], [9484, 12622], ...  \n4     [[10016, 12384], [10016, 12385], [10016, 12385...  \n...                                                 ...  \n8339                                                NaN  \n8340                                                NaN  \n8341                                                NaN  \n8342                                                NaN  \n8343                                                NaN  \n\n[8344 rows x 240 columns]",
      "text/html": "<div>\n<style scoped>\n    .dataframe tbody tr th:only-of-type {\n        vertical-align: middle;\n    }\n\n    .dataframe tbody tr th {\n        vertical-align: top;\n    }\n\n    .dataframe thead th {\n        text-align: right;\n    }\n</style>\n<table border=\"1\" class=\"dataframe\">\n  <thead>\n    <tr style=\"text-align: right;\">\n      <th></th>\n      <th>bbox_type2</th>\n      <th>centroid_type2</th>\n      <th>contour_type2</th>\n      <th>inroi_type2</th>\n      <th>resident_area_type2</th>\n      <th>c2t_distance_type2</th>\n      <th>Area_type2</th>\n      <th>Perimeter_type2</th>\n      <th>Circularity_type2</th>\n      <th>MA_type2</th>\n      <th>...</th>\n      <th>Extent_type11</th>\n      <th>EquiDia_type11</th>\n      <th>imID_type11</th>\n      <th>dist2nearest_type11</th>\n      <th>oriA_type11</th>\n      <th>oriB_type11</th>\n      <th>local_align_type11</th>\n      <th>bbox_20x_type11</th>\n      <th>centroid_20x_type11</th>\n      <th>contour_20x_type11</th>\n    </tr>\n  </thead>\n  <tbody>\n    <tr>\n      <th>0</th>\n      <td>[[22650, 22433], [22664, 22438]]</td>\n      <td>[23459.532967032967, 21634.101648351647]</td>\n      <td>[[23458, 21626], [23458, 21628], [23458, 21629...</td>\n      <td>3.0</td>\n      <td>40564.0</td>\n      <td>[213.0, 4.0, 80.375, 25.296875, 473.0, 3966.0,...</td>\n      <td>39.5</td>\n      <td>35.414214</td>\n      <td>0.395778</td>\n      <td>15.018906</td>\n      <td>...</td>\n      <td>0.340476</td>\n      <td>9.541312</td>\n      <td>2022-06-07 13.51.0521740</td>\n      <td>216.431282</td>\n      <td>63.323124</td>\n      <td>44.589409</td>\n      <td>0.179907</td>\n      <td>[[9277, 12495], [9284, 12503]]</td>\n      <td>[9427.073863636364, 12352.36525974026]</td>\n      <td>[[9430, 12349], [9429, 12349], [9429, 12349], ...</td>\n    </tr>\n    <tr>\n      <th>1</th>\n      <td>[[22663, 22438], [22681, 22447]]</td>\n      <td>[23466.240610328638, 21647.962441314554]</td>\n      <td>[[23467, 21639], [23465, 21641], [23465, 21642...</td>\n      <td>3.0</td>\n      <td>40564.0</td>\n      <td>[215.25, 0.0, 68.0, 12.0, 482.0, 3940.0, 2366....</td>\n      <td>99.0</td>\n      <td>46.485281</td>\n      <td>0.575724</td>\n      <td>19.124428</td>\n      <td>...</td>\n      <td>0.619444</td>\n      <td>11.914957</td>\n      <td>2022-06-07 13.51.0521740</td>\n      <td>71.149491</td>\n      <td>47.980709</td>\n      <td>157.980652</td>\n      <td>1.030138</td>\n      <td>[[9332, 12725], [9340, 12731]]</td>\n      <td>[9656.18710691824, 12408.164570230609]</td>\n      <td>[[9655, 12404], [9654, 12405], [9654, 12406], ...</td>\n    </tr>\n    <tr>\n      <th>2</th>\n      <td>[[22684, 22446], [22698, 22454]]</td>\n      <td>[23474.14381270903, 21666.877926421406]</td>\n      <td>[[23473, 21660], [23472, 21660], [23472, 21660...</td>\n      <td>3.0</td>\n      <td>40564.0</td>\n      <td>[229.125, 4.0, 60.9375, 12.0, 492.0, 3906.0, 2...</td>\n      <td>68.0</td>\n      <td>37.656854</td>\n      <td>0.602602</td>\n      <td>13.641723</td>\n      <td>...</td>\n      <td>0.555556</td>\n      <td>7.569398</td>\n      <td>2022-06-07 13.51.0521740</td>\n      <td>127.561750</td>\n      <td>35.709862</td>\n      <td>13.634857</td>\n      <td>0.662892</td>\n      <td>[[9434, 12646], [9438, 12650]]</td>\n      <td>[9576.608418367347, 12508.744897959185]</td>\n      <td>[[9576, 12506], [9576, 12507], [9576, 12507], ...</td>\n    </tr>\n    <tr>\n      <th>3</th>\n      <td>[[22689, 22432], [22703, 22442]]</td>\n      <td>[23460.78078817734, 21672.31280788177]</td>\n      <td>[[23460, 21665], [23460, 21666], [23459, 21666...</td>\n      <td>3.0</td>\n      <td>40564.0</td>\n      <td>[249.125, 0.0, 82.4375, 32.25, 472.0, 3912.0, ...</td>\n      <td>91.0</td>\n      <td>41.656854</td>\n      <td>0.658989</td>\n      <td>13.542336</td>\n      <td>...</td>\n      <td>0.354251</td>\n      <td>10.555021</td>\n      <td>2022-06-07 13.51.0521740</td>\n      <td>93.884237</td>\n      <td>129.063782</td>\n      <td>112.947632</td>\n      <td>0.154641</td>\n      <td>[[9549, 12556], [9558, 12562]]</td>\n      <td>[9487.06347150259, 12626.029792746114]</td>\n      <td>[[9484, 12621], [9484, 12622], [9484, 12622], ...</td>\n    </tr>\n    <tr>\n      <th>4</th>\n      <td>[[24167, 20716], [24174, 20723]]</td>\n      <td>[23791.057553956834, 21098.622302158274]</td>\n      <td>[[23791, 21095], [23790, 21096], [23789, 21096...</td>\n      <td>3.0</td>\n      <td>40564.0</td>\n      <td>[79.6875, 4.0, 930.5, 209.875, 1452.0, 4432.0,...</td>\n      <td>31.5</td>\n      <td>27.071068</td>\n      <td>0.540144</td>\n      <td>8.052619</td>\n      <td>...</td>\n      <td>0.392857</td>\n      <td>5.292567</td>\n      <td>2022-06-07 13.51.0521740</td>\n      <td>15.402922</td>\n      <td>123.370636</td>\n      <td>0.384224</td>\n      <td>0.870108</td>\n      <td>[[9824, 12576], [9828, 12579]]</td>\n      <td>[10017.61, 12386.185]</td>\n      <td>[[10016, 12384], [10016, 12385], [10016, 12385...</td>\n    </tr>\n    <tr>\n      <th>...</th>\n      <td>...</td>\n      <td>...</td>\n      <td>...</td>\n      <td>...</td>\n      <td>...</td>\n      <td>...</td>\n      <td>...</td>\n      <td>...</td>\n      <td>...</td>\n      <td>...</td>\n      <td>...</td>\n      <td>...</td>\n      <td>...</td>\n      <td>...</td>\n      <td>...</td>\n      <td>...</td>\n      <td>...</td>\n      <td>...</td>\n      <td>...</td>\n      <td>...</td>\n      <td>...</td>\n    </tr>\n    <tr>\n      <th>8339</th>\n      <td>NaN</td>\n      <td>NaN</td>\n      <td>NaN</td>\n      <td>NaN</td>\n      <td>NaN</td>\n      <td>NaN</td>\n      <td>NaN</td>\n      <td>NaN</td>\n      <td>NaN</td>\n      <td>NaN</td>\n      <td>...</td>\n      <td>NaN</td>\n      <td>NaN</td>\n      <td>NaN</td>\n      <td>NaN</td>\n      <td>NaN</td>\n      <td>NaN</td>\n      <td>NaN</td>\n      <td>NaN</td>\n      <td>NaN</td>\n      <td>NaN</td>\n    </tr>\n    <tr>\n      <th>8340</th>\n      <td>NaN</td>\n      <td>NaN</td>\n      <td>NaN</td>\n      <td>NaN</td>\n      <td>NaN</td>\n      <td>NaN</td>\n      <td>NaN</td>\n      <td>NaN</td>\n      <td>NaN</td>\n      <td>NaN</td>\n      <td>...</td>\n      <td>NaN</td>\n      <td>NaN</td>\n      <td>NaN</td>\n      <td>NaN</td>\n      <td>NaN</td>\n      <td>NaN</td>\n      <td>NaN</td>\n      <td>NaN</td>\n      <td>NaN</td>\n      <td>NaN</td>\n    </tr>\n    <tr>\n      <th>8341</th>\n      <td>NaN</td>\n      <td>NaN</td>\n      <td>NaN</td>\n      <td>NaN</td>\n      <td>NaN</td>\n      <td>NaN</td>\n      <td>NaN</td>\n      <td>NaN</td>\n      <td>NaN</td>\n      <td>NaN</td>\n      <td>...</td>\n      <td>NaN</td>\n      <td>NaN</td>\n      <td>NaN</td>\n      <td>NaN</td>\n      <td>NaN</td>\n      <td>NaN</td>\n      <td>NaN</td>\n      <td>NaN</td>\n      <td>NaN</td>\n      <td>NaN</td>\n    </tr>\n    <tr>\n      <th>8342</th>\n      <td>NaN</td>\n      <td>NaN</td>\n      <td>NaN</td>\n      <td>NaN</td>\n      <td>NaN</td>\n      <td>NaN</td>\n      <td>NaN</td>\n      <td>NaN</td>\n      <td>NaN</td>\n      <td>NaN</td>\n      <td>...</td>\n      <td>NaN</td>\n      <td>NaN</td>\n      <td>NaN</td>\n      <td>NaN</td>\n      <td>NaN</td>\n      <td>NaN</td>\n      <td>NaN</td>\n      <td>NaN</td>\n      <td>NaN</td>\n      <td>NaN</td>\n    </tr>\n    <tr>\n      <th>8343</th>\n      <td>NaN</td>\n      <td>NaN</td>\n      <td>NaN</td>\n      <td>NaN</td>\n      <td>NaN</td>\n      <td>NaN</td>\n      <td>NaN</td>\n      <td>NaN</td>\n      <td>NaN</td>\n      <td>NaN</td>\n      <td>...</td>\n      <td>NaN</td>\n      <td>NaN</td>\n      <td>NaN</td>\n      <td>NaN</td>\n      <td>NaN</td>\n      <td>NaN</td>\n      <td>NaN</td>\n      <td>NaN</td>\n      <td>NaN</td>\n      <td>NaN</td>\n    </tr>\n  </tbody>\n</table>\n<p>8344 rows × 240 columns</p>\n</div>"
     },
     "execution_count": 39,
     "metadata": {},
     "output_type": "execute_result"
    }
   ],
   "source": [
    "expanded_df"
   ],
   "metadata": {
    "collapsed": false
   }
  },
  {
   "cell_type": "code",
   "execution_count": 40,
   "outputs": [
    {
     "data": {
      "text/plain": "   inroi_type2  resident_area_type2  Area_type2  Perimeter_type2  \\\n0            1              57577.0   99.260162        42.120448   \n1            2              77023.0  113.067589        44.645803   \n2            3             141027.0   93.863338        40.925345   \n3            4              57357.0   95.136030        41.377414   \n\n   Circularity_type2   MA_type2  ma_type2  orientation_type2  \\\n0           0.624957  14.441516  8.678352          84.277042   \n1           0.640851  15.413815  9.276190          88.769904   \n2           0.630528  14.159123  8.401501          88.732494   \n3           0.627045  14.382602  8.489854          83.227556   \n\n   AspectRatio_type2  Sol_type2  ...  ma_type11  orientation_type11  \\\n0       1.788061e+00   0.897881  ...        NaN                 NaN   \n1                NaN   0.909245  ...        NaN                 NaN   \n2       1.816786e+00   0.901948  ...        NaN                 NaN   \n3       7.246266e+13   0.899878  ...    5.18609           67.357913   \n\n   AspectRatio_type11  Sol_type11  Extent_type11  EquiDia_type11  \\\n0                 NaN         NaN            NaN             NaN   \n1                 NaN         NaN            NaN             NaN   \n2                 NaN         NaN            NaN             NaN   \n3             2.39642     0.88724       0.457025        7.638986   \n\n   dist2nearest_type11  oriA_type11  oriB_type11  local_align_type11  \n0                  NaN          NaN          NaN                 NaN  \n1                  NaN          NaN          NaN                 NaN  \n2                  NaN          NaN          NaN                 NaN  \n3            30.939292    84.665055    83.519375            0.312465  \n\n[4 rows x 160 columns]",
      "text/html": "<div>\n<style scoped>\n    .dataframe tbody tr th:only-of-type {\n        vertical-align: middle;\n    }\n\n    .dataframe tbody tr th {\n        vertical-align: top;\n    }\n\n    .dataframe thead th {\n        text-align: right;\n    }\n</style>\n<table border=\"1\" class=\"dataframe\">\n  <thead>\n    <tr style=\"text-align: right;\">\n      <th></th>\n      <th>inroi_type2</th>\n      <th>resident_area_type2</th>\n      <th>Area_type2</th>\n      <th>Perimeter_type2</th>\n      <th>Circularity_type2</th>\n      <th>MA_type2</th>\n      <th>ma_type2</th>\n      <th>orientation_type2</th>\n      <th>AspectRatio_type2</th>\n      <th>Sol_type2</th>\n      <th>...</th>\n      <th>ma_type11</th>\n      <th>orientation_type11</th>\n      <th>AspectRatio_type11</th>\n      <th>Sol_type11</th>\n      <th>Extent_type11</th>\n      <th>EquiDia_type11</th>\n      <th>dist2nearest_type11</th>\n      <th>oriA_type11</th>\n      <th>oriB_type11</th>\n      <th>local_align_type11</th>\n    </tr>\n  </thead>\n  <tbody>\n    <tr>\n      <th>0</th>\n      <td>1</td>\n      <td>57577.0</td>\n      <td>99.260162</td>\n      <td>42.120448</td>\n      <td>0.624957</td>\n      <td>14.441516</td>\n      <td>8.678352</td>\n      <td>84.277042</td>\n      <td>1.788061e+00</td>\n      <td>0.897881</td>\n      <td>...</td>\n      <td>NaN</td>\n      <td>NaN</td>\n      <td>NaN</td>\n      <td>NaN</td>\n      <td>NaN</td>\n      <td>NaN</td>\n      <td>NaN</td>\n      <td>NaN</td>\n      <td>NaN</td>\n      <td>NaN</td>\n    </tr>\n    <tr>\n      <th>1</th>\n      <td>2</td>\n      <td>77023.0</td>\n      <td>113.067589</td>\n      <td>44.645803</td>\n      <td>0.640851</td>\n      <td>15.413815</td>\n      <td>9.276190</td>\n      <td>88.769904</td>\n      <td>NaN</td>\n      <td>0.909245</td>\n      <td>...</td>\n      <td>NaN</td>\n      <td>NaN</td>\n      <td>NaN</td>\n      <td>NaN</td>\n      <td>NaN</td>\n      <td>NaN</td>\n      <td>NaN</td>\n      <td>NaN</td>\n      <td>NaN</td>\n      <td>NaN</td>\n    </tr>\n    <tr>\n      <th>2</th>\n      <td>3</td>\n      <td>141027.0</td>\n      <td>93.863338</td>\n      <td>40.925345</td>\n      <td>0.630528</td>\n      <td>14.159123</td>\n      <td>8.401501</td>\n      <td>88.732494</td>\n      <td>1.816786e+00</td>\n      <td>0.901948</td>\n      <td>...</td>\n      <td>NaN</td>\n      <td>NaN</td>\n      <td>NaN</td>\n      <td>NaN</td>\n      <td>NaN</td>\n      <td>NaN</td>\n      <td>NaN</td>\n      <td>NaN</td>\n      <td>NaN</td>\n      <td>NaN</td>\n    </tr>\n    <tr>\n      <th>3</th>\n      <td>4</td>\n      <td>57357.0</td>\n      <td>95.136030</td>\n      <td>41.377414</td>\n      <td>0.627045</td>\n      <td>14.382602</td>\n      <td>8.489854</td>\n      <td>83.227556</td>\n      <td>7.246266e+13</td>\n      <td>0.899878</td>\n      <td>...</td>\n      <td>5.18609</td>\n      <td>67.357913</td>\n      <td>2.39642</td>\n      <td>0.88724</td>\n      <td>0.457025</td>\n      <td>7.638986</td>\n      <td>30.939292</td>\n      <td>84.665055</td>\n      <td>83.519375</td>\n      <td>0.312465</td>\n    </tr>\n  </tbody>\n</table>\n<p>4 rows × 160 columns</p>\n</div>"
     },
     "execution_count": 40,
     "metadata": {},
     "output_type": "execute_result"
    }
   ],
   "source": [
    "avg_df"
   ],
   "metadata": {
    "collapsed": false
   }
  },
  {
   "cell_type": "code",
   "execution_count": null,
   "outputs": [],
   "source": [],
   "metadata": {
    "collapsed": false
   }
  }
 ],
 "metadata": {
  "kernelspec": {
   "display_name": "Python 3",
   "language": "python",
   "name": "python3"
  },
  "language_info": {
   "codemirror_mode": {
    "name": "ipython",
    "version": 2
   },
   "file_extension": ".py",
   "mimetype": "text/x-python",
   "name": "python",
   "nbconvert_exporter": "python",
   "pygments_lexer": "ipython2",
   "version": "2.7.6"
  }
 },
 "nbformat": 4,
 "nbformat_minor": 0
}
