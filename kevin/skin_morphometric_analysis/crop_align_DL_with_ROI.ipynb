{
 "cells": [
  {
   "cell_type": "markdown",
   "source": [
    "# Create imcrop and dlcrop from h&e image (imsrc), roi image (roi mask 1-12), and"
   ],
   "metadata": {
    "collapsed": false
   }
  },
  {
   "cell_type": "code",
   "execution_count": 2,
   "outputs": [],
   "source": [
    "OPENSLIDE_PATH = r'C:\\Users\\Kevin\\Desktop\\openslide-win64-20221217\\bin'\n",
    "\n",
    "import os\n",
    "if hasattr(os, 'add_dll_directory'):\n",
    "    # Python >= 3.8 on Windows\n",
    "    with os.add_dll_directory(OPENSLIDE_PATH):\n",
    "        import openslide\n",
    "else:\n",
    "    import openslide"
   ],
   "metadata": {
    "collapsed": false
   }
  },
  {
   "cell_type": "code",
   "execution_count": null,
   "outputs": [],
   "source": [
    "# import pandas as pd\n",
    "import numpy as np\n",
    "import os\n",
    "from PIL import Image\n",
    "import os\n",
    "import cv2\n",
    "Image.MAX_IMAGE_PIXELS = None\n",
    "import xml.etree.ElementTree as ET\n",
    "import numpy as np\n",
    "import pandas as pd\n",
    "from PIL import Image\n",
    "import matplotlib.pyplot as plt\n",
    "import scipy.stats as stats\n",
    "import torchvision.transforms as transforms\n",
    "from glob import glob\n",
    "from time import time\n",
    "from skimage.measure import label\n",
    "import math\n",
    "from skimage.morphology import closing, square, remove_small_objects, remove_small_holes\n",
    "from math import atan2, degrees\n",
    "from copy import deepcopy\n",
    "from time import time\n",
    "from natsort import natsorted"
   ],
   "metadata": {
    "collapsed": false
   }
  },
  {
   "cell_type": "code",
   "execution_count": null,
   "outputs": [],
   "source": [
    "def rotate_image_cv2(mat, angle):\n",
    "    \"\"\"\n",
    "    Helper function used in pipeline:\n",
    "    Rotates an image (angle in degrees) and expands image to avoid cropping\n",
    "    Image has to be uint8\n",
    "    \"\"\"\n",
    "\n",
    "    height, width = mat.shape[:2] # image shape has 3 dimensions\n",
    "    image_center = (width/2, height/2) # getRotationMatrix2D needs coordinates in reverse order (width, height) compared to shape\n",
    "\n",
    "    rotation_mat = cv2.getRotationMatrix2D(image_center, angle, 1.)\n",
    "\n",
    "    # rotation calculates the cos and sin, taking absolutes of those.\n",
    "    abs_cos = abs(rotation_mat[0,0])\n",
    "    abs_sin = abs(rotation_mat[0,1])\n",
    "\n",
    "    # find the new width and height bounds\n",
    "    bound_w = int(height * abs_sin + width * abs_cos)\n",
    "    bound_h = int(height * abs_cos + width * abs_sin)\n",
    "\n",
    "    # subtract old image center (bringing image back to origo) and adding the new image center coordinates\n",
    "    rotation_mat[0, 2] += bound_w/2 - image_center[0]\n",
    "    rotation_mat[1, 2] += bound_h/2 - image_center[1]\n",
    "\n",
    "    # rotate image with the new bounds and translated rotation matrix\n",
    "    rotated_mat = cv2.warpAffine(mat, rotation_mat, (bound_w, bound_h),\tflags = cv2.INTER_NEAREST)\n",
    "    return rotated_mat"
   ],
   "metadata": {
    "collapsed": false
   }
  },
  {
   "cell_type": "code",
   "execution_count": null,
   "outputs": [],
   "source": [
    "imsrc = r'\\\\shelter\\Kyu\\skin_aging\\clue_cohort\\HE1um'\n",
    "dlsrc = r'\\\\shelter\\Kyu\\skin_aging\\clue_cohort\\DLmask1um'\n",
    "roisrc = r'\\\\shelter\\Kyu\\skin_aging\\clue_cohort\\annotations\\roi\\labeledmask_20rsf'"
   ],
   "metadata": {
    "collapsed": false
   }
  },
  {
   "cell_type": "code",
   "execution_count": null,
   "outputs": [],
   "source": [
    "roiflag = True\n",
    "\n",
    "minTA = 20000\n",
    "minTAhole = 100\n",
    "minDermhole = 5000\n",
    "minepisize = 1000\n",
    "whitespace = 12\n",
    "\n",
    "if roiflag:\n",
    "    imdst = os.path.join(imsrc, 'imcrop_roiv2')\n",
    "    if not os.path.exists(imdst): os.mkdir(imdst)\n",
    "    imdst2 = os.path.join(imdst, 'imcrop_roi_10umv2')\n",
    "    if not os.path.exists(imdst2): os.mkdir(imdst2)\n",
    "    dldst = os.path.join(dlsrc, 'dlcrop_roiv2')\n",
    "    if not os.path.exists(dldst): os.mkdir(dldst)\n",
    "else:\n",
    "    imdst = os.path.join(imsrc, 'imcropv2')\n",
    "    if not os.path.exists(imdst): os.mkdir(imdst)\n",
    "    imdst2 = os.path.join(imdst, 'imcrop_10umv2')\n",
    "    if not os.path.exists(imdst2): os.mkdir(imdst2)\n",
    "    dldst = os.path.join(dlsrc, 'dlcropv2')\n",
    "    if not os.path.exists(dldst): os.mkdir(dldst)\n",
    "\n",
    "imlist = [os.path.join(imsrc, _) for _ in os.listdir(imsrc) if _.endswith('tif')]\n",
    "dllist = [os.path.join(dlsrc, _) for _ in os.listdir(dlsrc) if _.endswith('tif')]\n",
    "imlist = natsorted(imlist)\n",
    "dllist = natsorted(dllist)\n",
    "\n",
    "df = []\n",
    "\n",
    "idx=0\n",
    "imname = imlist[0]\n",
    "dlname = dllist[0]\n",
    "start = time()\n",
    "\n",
    "\n",
    "imfn, ext = os.path.splitext(os.path.basename(imname))\n",
    "dlfn, ext = os.path.splitext(os.path.basename(dlname))\n",
    "roiname = os.path.join(roisrc, imfn+'.png')\n",
    "\n",
    "isim = os.path.exists(os.path.join(imdst, '{}_sec{:02d}.png'.format(imfn, 1)))\n",
    "isdl = os.path.exists(os.path.join(imdst, '{}_sec{:02d}.png'.format(dlfn, 1)))\n",
    "if isim and isdl:\n",
    "    print('continue')\n",
    "\n",
    "print(imfn)\n",
    "print('idx:',idx)\n",
    "\n",
    "# open image\n",
    "dl = Image.open(dlname)\n",
    "im = Image.open(imname)\n",
    "\n",
    "if not im.size == dl.size:\n",
    "    raise Exception(\"im and dl dimensions do not match\")\n",
    "\n",
    "TAbig = np.array(dl)\n",
    "\n",
    "if roiflag:\n",
    "    roi = np.array(Image.open(roiname))\n",
    "\n",
    "# downsize to expedite (downsize deeplab mask)\n",
    "(width, height) = (dl.width // 10, dl.height // 10)\n",
    "# dl_resized = dl.resize((width, height), resample=0)\n",
    "# TA = np.array(dl_resized)\n",
    "# print(TA.shape)\n",
    "TA = cv2.resize(TAbig, dsize=(width,height), interpolation=cv2.INTER_NEAREST)\n",
    "# print(TA.shape)\n",
    "# raise\n",
    "sure_fg = closing((2 < TA) & (TA < whitespace - 1), square(3))  # 13sec # close small holes in DLmask\n",
    "sure_fg = remove_small_objects(sure_fg, min_size=minTA, connectivity=2)  # 6sec\n",
    "sure_fg = remove_small_holes(sure_fg, area_threshold=minTAhole).astype(np.uint8)  # 7sec\n",
    "# define background\n",
    "bw = closing(TA < whitespace, square(3))  # 12 is background\n",
    "bw = remove_small_objects(bw, min_size=minTA, connectivity=2)\n",
    "bw = remove_small_holes(bw, area_threshold=minTAhole)\n",
    "kernel = np.ones((3, 3), np.uint8)\n",
    "opening = cv2.morphologyEx(bw.astype(np.uint8), cv2.MORPH_OPEN, kernel, iterations=2)  # 2sec #difference between erosion and dilation, gives outline of object\n",
    "sure_bg = cv2.dilate(opening, kernel, iterations=3)"
   ],
   "metadata": {
    "collapsed": false
   }
  },
  {
   "cell_type": "code",
   "execution_count": null,
   "outputs": [],
   "source": [
    "plt.imshow(sure_fg)"
   ],
   "metadata": {
    "collapsed": false
   }
  },
  {
   "cell_type": "code",
   "execution_count": null,
   "outputs": [],
   "source": [
    "# define middleground\n",
    "unknown = cv2.subtract(sure_bg, sure_fg).astype('bool') # foreground - background = middleground\n",
    "# label that background is 1 and objects are 2~N and middleground is zero\n",
    "sure_fg_label = label(sure_fg).astype(np.int32)\n",
    "sure_fg_label = sure_fg_label + 1\n",
    "sure_fg_label[unknown] = 0\n",
    "# perform watershed based on the marker\n",
    "TAbgr = cv2.cvtColor(TA, cv2.COLOR_GRAY2BGR)\n",
    "label_image = cv2.watershed(TAbgr, sure_fg_label)\n",
    "# iterate each section\n",
    "epi = (TA == 1) | (TA == 2)\n",
    "derm = (2 < TA) & (TA < whitespace)\n",
    "derm = remove_small_holes(derm, area_threshold=minDermhole)\n",
    "epi2 = epi & ~derm\n",
    "epi2 = remove_small_objects(epi2, min_size=minepisize, connectivity=2)\n",
    "numsecmax = np.max(label_image)\n",
    "print(round(time() - start), 'sec elapsed for overhead')"
   ],
   "metadata": {
    "collapsed": false
   }
  }
 ],
 "metadata": {
  "kernelspec": {
   "display_name": "Python 3",
   "language": "python",
   "name": "python3"
  },
  "language_info": {
   "codemirror_mode": {
    "name": "ipython",
    "version": 2
   },
   "file_extension": ".py",
   "mimetype": "text/x-python",
   "name": "python",
   "nbconvert_exporter": "python",
   "pygments_lexer": "ipython2",
   "version": "2.7.6"
  }
 },
 "nbformat": 4,
 "nbformat_minor": 0
}
