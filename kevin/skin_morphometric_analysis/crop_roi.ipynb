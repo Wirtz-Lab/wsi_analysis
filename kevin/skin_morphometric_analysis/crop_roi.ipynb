{
 "cells": [
  {
   "cell_type": "markdown",
   "source": [
    "# Create imcrop and dlcrop from h&e image (imsrc), roi image (roi mask 1-12), and"
   ],
   "metadata": {
    "collapsed": false
   }
  },
  {
   "cell_type": "code",
   "execution_count": 2,
   "outputs": [],
   "source": [
    "OPENSLIDE_PATH = r'C:\\Users\\Kevin\\Desktop\\openslide-win64-20221217\\bin'\n",
    "\n",
    "import os\n",
    "if hasattr(os, 'add_dll_directory'):\n",
    "    # Python >= 3.8 on Windows\n",
    "    with os.add_dll_directory(OPENSLIDE_PATH):\n",
    "        import openslide\n",
    "else:\n",
    "    import openslide"
   ],
   "metadata": {
    "collapsed": false
   }
  },
  {
   "cell_type": "code",
   "execution_count": 3,
   "outputs": [],
   "source": [
    "# import pandas as pd\n",
    "import numpy as np\n",
    "import os\n",
    "from PIL import Image\n",
    "import os\n",
    "import cv2\n",
    "Image.MAX_IMAGE_PIXELS = None\n",
    "import xml.etree.ElementTree as ET\n",
    "import numpy as np\n",
    "import pandas as pd\n",
    "import openslide\n",
    "from PIL import Image\n",
    "from matplotlib import pyplot as plt\n",
    "import skimage.measure\n",
    "import matplotlib.pyplot as plt\n",
    "import scipy.stats as stats\n",
    "import torchvision.transforms as transforms\n",
    "from glob import glob\n",
    "from time import time\n",
    "from skimage.measure import label\n",
    "import math"
   ],
   "metadata": {
    "collapsed": false
   }
  },
  {
   "cell_type": "code",
   "execution_count": 80,
   "outputs": [],
   "source": [
    "# generate imcrop and dlcrop. just simply resize roi image from roisrc in to the size of imcrop and dlcrop (imcrop and dlcrop have same size, raise error if not in the code), and then make the resized roi image binary (it's from 0-12 right now), and simply multiply binary image to im and dl to create imcrop and dlcrop!\n",
    "def generate_imcrop_dlcrop(imsrc, dlsrc, roisrc, imcrop_save_pth, dlcrop_save_pth):\n",
    "    roi_image_list = [x for x in os.listdir(roisrc) if x.endswith(\".png\")]\n",
    "    dl_image_list = [x for x in os.listdir(dlsrc) if x.endswith(\".tif\")]\n",
    "    im_image_list = [x for x in os.listdir(imsrc) if x.endswith(\".tif\")]\n",
    "    roi_complete_list = [os.path.join(roisrc,x) for x in roi_image_list]\n",
    "    dl_complete_list = [os.path.join(dlsrc,x) for x in dl_image_list]\n",
    "    im_complete_list = [os.path.join(imsrc,x) for x in im_image_list]\n",
    "    roi_unique_list = [x[:-6] for x in roi_image_list]\n",
    "    roi_unique_list1 = list(np.unique(roi_unique_list))\n",
    "\n",
    "    try:\n",
    "        len(dl_image_list) == len(im_image_list) == len(roi_unique_list1)\n",
    "    except ValueError:\n",
    "        print(\"ROI image, DL image, and H&E image must have the same number of images.\")\n",
    "    for idx in range(0,len(dl_image_list)): #first iterate over 216\n",
    "        dl_image = Image.open(dl_complete_list[idx])\n",
    "        im_image = Image.open(im_complete_list[idx])\n",
    "        dl_array = np.array(dl_image)\n",
    "        im_array = np.array(im_image)\n",
    "        print(\"dl file path\",dl_complete_list[idx])\n",
    "        if not dl_array.shape == (im_array.shape[0],im_array.shape[1]): # height and width must be same\n",
    "            raise Exception(\"Size of the H&E and DL image must be the same with each other.\")\n",
    "        repeats = sum(f in roi_unique_list1[idx] for f in roi_unique_list)\n",
    "        print(\"repeat rois\",repeats)\n",
    "        for id in range(0,repeats): #iterate over repeats (rois) in each 216 unique images\n",
    "            roi_image= Image.open(roi_complete_list[idx + id])\n",
    "            print(\"roi file path\",roi_complete_list[idx + id])\n",
    "\n",
    "            roi_array = np.array(roi_image)\n",
    "            print(\"roi shape before resize\",roi_array.shape)\n",
    "            resized_roi = cv2.resize(roi_array,(dl_array.shape[1],dl_array.shape[0]),interpolation = cv2.INTER_AREA)\n",
    "            if not resized_roi.shape == dl_array.shape == (im_array.shape[0],im_array.shape[1]):\n",
    "                print(\"im shape\", im_array.shape)\n",
    "                print(\"dl shape\", dl_array.shape)\n",
    "                print(\"roi shape after resize\",resized_roi.shape)\n",
    "                raise Exception(\"All three images aren't of same size after resizing, please check.\")\n",
    "\n",
    "            binary_resized_roi = resized_roi > 0 # binary roi\n",
    "            binary_resized_roi_rgb = np.repeat(binary_resized_roi[:,:,np.newaxis],3,axis=2) #match binary roi to rgb channel\n",
    "            imcrop = np.multiply(im_array,binary_resized_roi_rgb)\n",
    "            dlcrop = np.multiply(dl_array,binary_resized_roi)\n",
    "            save_name = roi_image_list[idx + id].replace(\".png\",\"\")\n",
    "            imcrop_save_path = os.path.join(imcrop_save_pth, save_name + \".png\")\n",
    "            dlcrop_save_path = os.path.join(dlcrop_save_pth, save_name + \".png\")\n",
    "            Image.fromarray(imcrop).save(imcrop_save_path)\n",
    "            Image.fromarray(dlcrop).save(dlcrop_save_path)\n",
    "    return print(\"Saved successfully!\")"
   ],
   "metadata": {
    "collapsed": false
   }
  },
  {
   "cell_type": "code",
   "execution_count": null,
   "outputs": [
    {
     "name": "stdout",
     "output_type": "stream",
     "text": [
      "dl file path \\\\shelter\\Kyu\\skin_aging\\clue_cohort\\DLmask1um\\2022-06-07 13.18.40.tif\n",
      "repeat rois 1\n",
      "roi file path \\\\shelter\\Kyu\\skin_aging\\clue_cohort\\annotations\\roi\\labeled_mask_per_roi\\2022-06-07 13.18.40_1.png\n",
      "roi shape before resize (21140, 21196)\n",
      "dl file path \\\\shelter\\Kyu\\skin_aging\\clue_cohort\\DLmask1um\\2022-06-07 13.29.45.tif\n",
      "repeat rois 4\n",
      "roi file path \\\\shelter\\Kyu\\skin_aging\\clue_cohort\\annotations\\roi\\labeled_mask_per_roi\\2022-06-07 13.29.45_1.png\n",
      "roi shape before resize (25492, 44088)\n",
      "roi file path \\\\shelter\\Kyu\\skin_aging\\clue_cohort\\annotations\\roi\\labeled_mask_per_roi\\2022-06-07 13.29.45_2.png\n",
      "roi shape before resize (25492, 44088)\n",
      "roi file path \\\\shelter\\Kyu\\skin_aging\\clue_cohort\\annotations\\roi\\labeled_mask_per_roi\\2022-06-07 13.29.45_3.png\n",
      "roi shape before resize (25492, 44088)\n",
      "roi file path \\\\shelter\\Kyu\\skin_aging\\clue_cohort\\annotations\\roi\\labeled_mask_per_roi\\2022-06-07 13.29.45_4.png\n",
      "roi shape before resize (25492, 44088)\n",
      "dl file path \\\\shelter\\Kyu\\skin_aging\\clue_cohort\\DLmask1um\\2022-06-07 13.51.05.tif\n",
      "repeat rois 2\n",
      "roi file path \\\\shelter\\Kyu\\skin_aging\\clue_cohort\\annotations\\roi\\labeled_mask_per_roi\\2022-06-07 13.29.45_2.png\n",
      "roi shape before resize (25492, 44088)\n",
      "roi file path \\\\shelter\\Kyu\\skin_aging\\clue_cohort\\annotations\\roi\\labeled_mask_per_roi\\2022-06-07 13.29.45_3.png\n",
      "roi shape before resize (25492, 44088)\n",
      "dl file path \\\\shelter\\Kyu\\skin_aging\\clue_cohort\\DLmask1um\\2022-06-07 14.27.44.tif\n",
      "repeat rois 1\n",
      "roi file path \\\\shelter\\Kyu\\skin_aging\\clue_cohort\\annotations\\roi\\labeled_mask_per_roi\\2022-06-07 13.29.45_3.png\n",
      "roi shape before resize (25492, 44088)\n",
      "dl file path \\\\shelter\\Kyu\\skin_aging\\clue_cohort\\DLmask1um\\2022-06-07 14.32.24.tif\n",
      "repeat rois 1\n",
      "roi file path \\\\shelter\\Kyu\\skin_aging\\clue_cohort\\annotations\\roi\\labeled_mask_per_roi\\2022-06-07 13.29.45_4.png\n",
      "roi shape before resize (25492, 44088)\n",
      "dl file path \\\\shelter\\Kyu\\skin_aging\\clue_cohort\\DLmask1um\\2022-06-07 14.34.59.tif\n",
      "repeat rois 1\n",
      "roi file path \\\\shelter\\Kyu\\skin_aging\\clue_cohort\\annotations\\roi\\labeled_mask_per_roi\\2022-06-07 13.51.05_1.png\n",
      "roi shape before resize (19275, 40696)\n",
      "dl file path \\\\shelter\\Kyu\\skin_aging\\clue_cohort\\DLmask1um\\2022-06-07 14.37.19.tif\n",
      "repeat rois 1\n",
      "roi file path \\\\shelter\\Kyu\\skin_aging\\clue_cohort\\annotations\\roi\\labeled_mask_per_roi\\2022-06-07 13.51.05_2.png\n",
      "roi shape before resize (19275, 40696)\n",
      "dl file path \\\\shelter\\Kyu\\skin_aging\\clue_cohort\\DLmask1um\\2022-06-07 14.39.32.tif\n",
      "repeat rois 3\n",
      "roi file path \\\\shelter\\Kyu\\skin_aging\\clue_cohort\\annotations\\roi\\labeled_mask_per_roi\\2022-06-07 14.27.44_1.png\n",
      "roi shape before resize (14301, 21196)\n"
     ]
    }
   ],
   "source": [
    "generate_imcrop_dlcrop(imsrc = r'\\\\shelter\\Kyu\\skin_aging\\clue_cohort\\HE1um', dlsrc = r'\\\\shelter\\Kyu\\skin_aging\\clue_cohort\\DLmask1um',roisrc = r'\\\\shelter\\Kyu\\skin_aging\\clue_cohort\\annotations\\roi\\labeled_mask_per_roi',imcrop_save_pth = r'\\\\shelter\\Kyu\\skin_aging\\clue_cohort\\imcrop1um', dlcrop_save_pth= r'\\\\shelter\\Kyu\\skin_aging\\clue_cohort\\dlcrop1um')"
   ],
   "metadata": {
    "collapsed": false,
    "pycharm": {
     "is_executing": true
    }
   }
  },
  {
   "cell_type": "code",
   "execution_count": 62,
   "outputs": [
    {
     "data": {
      "text/plain": "2"
     },
     "execution_count": 62,
     "metadata": {},
     "output_type": "execute_result"
    }
   ],
   "source": [
    "# roisrc = r'\\\\shelter\\Kyu\\skin_aging\\clue_cohort\\annotations\\roi\\labeled_mask_per_roi'\n",
    "# roi_image_list = [x for x in os.listdir(roisrc) if x.endswith(\".png\")]\n",
    "# roi_unique_list = [x[:-6] for x in roi_image_list]\n",
    "# roi_unique_list1 = list(np.unique(roi_unique_list))\n",
    "# repeats = sum(f in roi_unique_list1[11] for f in roi_unique_list)\n",
    "# repeats"
   ],
   "metadata": {
    "collapsed": false
   }
  },
  {
   "cell_type": "code",
   "execution_count": null,
   "outputs": [],
   "source": [],
   "metadata": {
    "collapsed": false
   }
  }
 ],
 "metadata": {
  "kernelspec": {
   "display_name": "Python 3",
   "language": "python",
   "name": "python3"
  },
  "language_info": {
   "codemirror_mode": {
    "name": "ipython",
    "version": 2
   },
   "file_extension": ".py",
   "mimetype": "text/x-python",
   "name": "python",
   "nbconvert_exporter": "python",
   "pygments_lexer": "ipython2",
   "version": "2.7.6"
  }
 },
 "nbformat": 4,
 "nbformat_minor": 0
}
