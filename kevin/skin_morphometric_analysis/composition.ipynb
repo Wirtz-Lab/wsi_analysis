{
 "cells": [
  {
   "cell_type": "markdown",
   "source": [
    "### Workflow for getting composition for each roi annotation for each DLmask (DLmask generated from entire mask of ndpi):"
   ],
   "metadata": {
    "collapsed": false
   }
  },
  {
   "cell_type": "code",
   "execution_count": 1,
   "outputs": [],
   "source": [
    "OPENSLIDE_PATH = r'C:\\Users\\Kevin\\Desktop\\openslide-win64-20221217\\bin'\n",
    "\n",
    "import os\n",
    "if hasattr(os, 'add_dll_directory'):\n",
    "    # Python >= 3.8 on Windows\n",
    "    with os.add_dll_directory(OPENSLIDE_PATH):\n",
    "        import openslide\n",
    "else:\n",
    "    import openslide"
   ],
   "metadata": {
    "collapsed": false
   }
  },
  {
   "cell_type": "code",
   "execution_count": 2,
   "outputs": [],
   "source": [
    "import pandas as pd\n",
    "import numpy as np\n",
    "import os\n",
    "from PIL import Image\n",
    "import os\n",
    "import cv2\n",
    "Image.MAX_IMAGE_PIXELS = 1000000000000000000\n",
    "import xml.etree.ElementTree as ET\n",
    "import numpy as np\n",
    "import pandas as pd\n",
    "import openslide\n",
    "from PIL import Image\n",
    "from matplotlib import pyplot as plt\n",
    "import skimage.measure\n",
    "import matplotlib.pyplot as plt\n",
    "import scipy.stats as stats\n",
    "import torchvision.transforms as transforms\n",
    "from glob import glob\n",
    "from time import time\n",
    "from skimage.measure import label\n",
    "import math"
   ],
   "metadata": {
    "collapsed": false
   }
  },
  {
   "cell_type": "code",
   "execution_count": 3,
   "outputs": [],
   "source": [
    "# quick pandas work to see if ndpi's in image list have the DL segmented masks!\n",
    "# read xml files for roi annotations\n",
    "roi_src = r'\\\\shelter\\Kyu\\skin_aging\\clue_cohort\\annotations\\roi'\n",
    "# read DL mask files for DL segmented masks\n",
    "dl_src = r'\\\\shelter\\Kyu\\skin_aging\\clue_cohort\\DLmask1um'\n",
    "# read image list and fill in DL_segmented column (0=DLmask missing, 1=DLmask exists)\n",
    "im_list = r'\\\\shelter\\Kyu\\skin_aging\\clue_cohort\\CLUE_image_list_230207.xlsx'"
   ],
   "metadata": {
    "collapsed": false
   }
  },
  {
   "cell_type": "code",
   "execution_count": 4,
   "outputs": [],
   "source": [
    "roi_list = [x for x in os.listdir(roi_src) if x.endswith('.xml')] #301 rows\n",
    "dl_list = [x for x in os.listdir(dl_src) if x.endswith('.tif')] #301 rows\n",
    "roi_complete_path = [os.path.join(roi_src,x) for x in roi_list]\n",
    "dl_complete_path = [os.path.join(dl_src,x) for x in dl_list]\n",
    "roi_raw = [x.replace(\".xml\",\"\") for x in roi_list]\n",
    "dl_raw = [x.replace(\".tif\",\"\") for x in dl_list]"
   ],
   "metadata": {
    "collapsed": false
   }
  },
  {
   "cell_type": "code",
   "execution_count": 5,
   "outputs": [],
   "source": [
    "# image_list_csv_raw = pd.read_excel(r'\\\\shelter\\Kyu\\skin_aging\\clue_cohort\\CLUE_image_list_230207.xlsx')"
   ],
   "metadata": {
    "collapsed": false
   }
  },
  {
   "cell_type": "code",
   "execution_count": 6,
   "outputs": [],
   "source": [
    "# dl_list = [x.replace(\".tif\",\"\") for x in dl_list]"
   ],
   "metadata": {
    "collapsed": false
   }
  },
  {
   "cell_type": "code",
   "execution_count": 7,
   "outputs": [],
   "source": [
    "# def check_DLexist(row):\n",
    "#     row = row.replace('.ndpi','')\n",
    "#     return row in dl_list"
   ],
   "metadata": {
    "collapsed": false
   }
  },
  {
   "cell_type": "code",
   "execution_count": 8,
   "outputs": [],
   "source": [
    "# image_list_csv_raw['DL_segmented'] = image_list_csv_raw.apply(lambda row : check_DLexist(row['filename']), axis = 1)"
   ],
   "metadata": {
    "collapsed": false
   }
  },
  {
   "cell_type": "code",
   "execution_count": 9,
   "outputs": [],
   "source": [
    "# image_list_csv_raw.head()"
   ],
   "metadata": {
    "collapsed": false
   }
  },
  {
   "cell_type": "code",
   "execution_count": 10,
   "outputs": [],
   "source": [
    "# image_list_csv_raw.to_excel(r'\\\\shelter\\Kyu\\skin_aging\\clue_cohort\\CLUE_image_list_230207_v2.xlsx')"
   ],
   "metadata": {
    "collapsed": false
   }
  },
  {
   "cell_type": "code",
   "execution_count": 11,
   "outputs": [],
   "source": [
    "# First, input xml_filepath and output a dataframe of X,Y coordinates in general. (can be used for ROI as well)\n",
    "def xml_to_df(xml_path):\n",
    "    tree = ET.parse(xml_path)\n",
    "    root = tree.getroot()\n",
    "    append_df = []\n",
    "    for index, Annotation in enumerate(root.iter(\"Annotation\")):\n",
    "        for Region in Annotation.iter('Region'):\n",
    "            x = np.array([Vertex.get('X') for Vertex in Region.iter('Vertex')])\n",
    "            y = np.array([Vertex.get('Y') for Vertex in Region.iter('Vertex')])\n",
    "            id = np.array([int(Region.get('Id'))])\n",
    "            classnames = index + 1\n",
    "            coord_dict = {\"ClassNames\": [classnames], \"X\": [x], \"Y\": [y], \"ID\": [id]}\n",
    "            df = pd.DataFrame(data = coord_dict)\n",
    "            df.ID = df.ID.astype(int)\n",
    "            append_df.append(df)\n",
    "    coord_df = pd.concat(append_df).reset_index(drop=True)\n",
    "    return(coord_df)"
   ],
   "metadata": {
    "collapsed": false
   }
  },
  {
   "cell_type": "code",
   "execution_count": 12,
   "outputs": [],
   "source": [
    "# Then input original image and the coord_df to output the mask with unique annotations (1..N, N = 12 in this case):\n",
    "def create_mask_multi_annot(xml_path, image_path): #choose downsample factor\n",
    "    slide = openslide.open_slide(image_path)\n",
    "    target_dim = [math.ceil(x / 2.26459) for x in slide.dimensions]\n",
    "    # target_level = slide.get_best_level_for_downsample(downsample_factor)\n",
    "    # target_dim = slide.level_dimensions[target_level]\n",
    "    # rsf = [x/y for x,y in zip(slide.dimensions,target_dim)] #resize factor\n",
    "    mask = np.zeros((target_dim), dtype = np.uint8)\n",
    "    coord_df = xml_to_df(xml_path) #use function above\n",
    "    for idx, row in coord_df.iterrows():\n",
    "        xx = row.X.astype(float).astype('int32')\n",
    "        xx = [math.ceil(x / 2.26459) for x in xx]\n",
    "        yy = row.Y.astype(float).astype('int32')\n",
    "        yy = [math.ceil(x / 2.26459) for x in yy]\n",
    "        contours = np.array(list(zip(xx,yy)))\n",
    "        mask = cv2.fillPoly(mask, pts=[contours.astype(int)], color=(int(coord_df.index.values[idx]) + 1))\n",
    "    return mask"
   ],
   "metadata": {
    "collapsed": false
   }
  },
  {
   "cell_type": "code",
   "execution_count": 16,
   "outputs": [],
   "source": [],
   "metadata": {
    "collapsed": false
   }
  },
  {
   "cell_type": "code",
   "execution_count": 17,
   "outputs": [
    {
     "name": "stdout",
     "output_type": "stream",
     "text": [
      "ClassNames                                                    1\n",
      "X             [79364, 79407, 79449, 79481, 79524, 79556, 795...\n",
      "Y             [11110, 11121, 11142, 11153, 11153, 11174, 111...\n",
      "ID                                                            3\n",
      "Name: 0, dtype: object\n",
      "ClassNames                                                    1\n",
      "X             [66929, 66951, 66983, 67015, 67057, 67100, 671...\n",
      "Y             [9027, 9048, 9059, 9091, 9102, 9134, 9145, 916...\n",
      "ID                                                            4\n",
      "Name: 1, dtype: object\n",
      "ClassNames                                                    1\n",
      "X             [42154, 42165, 42176, 42197, 42197, 42208, 422...\n",
      "Y             [17392, 17413, 17413, 17413, 17424, 17434, 174...\n",
      "ID                                                            5\n",
      "Name: 2, dtype: object\n",
      "ClassNames                                                    1\n",
      "X             [9225, 9240, 9240, 9254, 9269, 9269, 9284, 929...\n",
      "Y             [15325, 15340, 15355, 15370, 15370, 15385, 153...\n",
      "ID                                                            7\n",
      "Name: 3, dtype: object\n",
      "ClassNames                                                    1\n",
      "X             [1279, 1279, 1294, 1309, 1369, 1458, 1488, 159...\n",
      "Y             [6457, 6472, 6502, 6531, 6636, 6725, 6755, 685...\n",
      "ID                                                            8\n",
      "Name: 4, dtype: object\n",
      "ClassNames                                                    1\n",
      "X             [40367, 40383, 40388, 40408, 40417, 40429, 404...\n",
      "Y             [4671, 4696, 4713, 4746, 4771, 4792, 4834, 486...\n",
      "ID                                                            9\n",
      "Name: 5, dtype: object\n"
     ]
    },
    {
     "data": {
      "text/plain": "<Figure size 640x480 with 1 Axes>",
      "image/png": "[encoded data removed]"
     },
     "metadata": {},
     "output_type": "display_data"
    }
   ],
   "source": [
    "# coord_df = xml_to_df(r'\\\\shelter\\Kyu\\skin_aging\\clue_cohort\\annotations\\roi\\2022-06-10 16.39.33.xml')\n",
    "# mask = np.zeros((9948,37305), dtype = np.uint8)\n",
    "# for idx, row in coord_df.iterrows():\n",
    "#     print(row)\n",
    "#     xx = row.X.astype(float).astype('int32')\n",
    "#     xx = [math.ceil(x / 2.26459) for x in xx]\n",
    "#     yy = row.Y.astype(float).astype('int32')\n",
    "#     yy = [math.ceil(x / 2.26459) for x in yy]\n",
    "#     contours = np.array(list(zip(xx,yy)))\n",
    "#     mask = cv2.fillPoly(mask, pts=[contours.astype(int)], color=(int(coord_df.index.values[idx] + 1)))\n",
    "#     plt.imshow(mask)"
   ],
   "metadata": {
    "collapsed": false
   }
  },
  {
   "cell_type": "code",
   "execution_count": 13,
   "outputs": [],
   "source": [
    "# find intersection of ndpi, roi, and dl -> A ∩ B ∩ C = (A ∩ B) ∩ (B ∩ C), roi = A, dl = B, ndpi = C\n",
    "\n",
    "ndpi_src = r'\\\\shelter\\Kyu\\skin_aging\\clue_cohort\\wsi'\n",
    "ndpi_list = [x for x in os.listdir(ndpi_src) if x.endswith('.ndpi')] #301 rows\n",
    "ndpi_raw = [x.replace(\".ndpi\",\"\") for x in ndpi_list]\n",
    "\n",
    "roi_dl_overlap = set(roi_raw).intersection(set(dl_raw)) #216\n",
    "dl_ndpi_overlap = set(dl_raw).intersection(set(ndpi_raw)) #222\n",
    "all_overlap = set(roi_dl_overlap).intersection(set(dl_ndpi_overlap)) #216\n",
    "\n",
    "dl_complete_path_new = [os.path.join(dl_src,x) for x in all_overlap]\n",
    "roi_complete_path_new = [os.path.join(roi_src,x) for x in all_overlap]\n",
    "ndpi_complete_path_new = [os.path.join(ndpi_src,x) for x in all_overlap]\n",
    "dl_complete_path_new = [x + \".tif\" for x in dl_complete_path_new]\n",
    "roi_complete_path_new = [x + \".xml\" for x in roi_complete_path_new]\n",
    "ndpi_complete_path_new = [x + \".ndpi\" for x in ndpi_complete_path_new]\n",
    "save_name = [os.path.basename(x) for x in ndpi_complete_path_new]"
   ],
   "metadata": {
    "collapsed": false
   }
  },
  {
   "cell_type": "code",
   "execution_count": 13,
   "outputs": [],
   "source": [],
   "metadata": {
    "collapsed": false
   }
  },
  {
   "cell_type": "code",
   "execution_count": 15,
   "outputs": [
    {
     "name": "stdout",
     "output_type": "stream",
     "text": [
      "\\\\shelter\\Kyu\\skin_aging\\clue_cohort\\DLmask1um\\2022-06-15 18.59.15.tif\n",
      "max roi png is 4\n",
      "roi shape is (16788, 25436)\n",
      "DLarr shape is (16788, 25435)\n",
      "sectionID is 1\n",
      "[]\n",
      "max roi png is 4\n",
      "sectionID is 2\n",
      "[0.0, 0.355, 0.166, 0.004, 0.003, 0.004, 0.003, 0.013, 0.028, 0.146, 2.866, 0.327, 96.085]\n",
      "max roi png is 4\n",
      "sectionID is 3\n",
      "[0.0, 0.442, 0.93, 0.038, 0.027, 0.396, 0.028, 0.354, 0.29, 0.896, 38.996, 2.641, 54.963]\n",
      "max roi png is 4\n",
      "sectionID is 4\n",
      "[0.0, 1.203, 1.611, 0.11, 0.118, 0.418, 0.456, 0.334, 0.427, 1.297, 44.837, 7.528, 41.662]\n",
      "\\\\shelter\\Kyu\\skin_aging\\clue_cohort\\DLmask1um\\2022-07-07 15.34.12.tif\n",
      "\\\\shelter\\Kyu\\skin_aging\\clue_cohort\\DLmask1um\\2022-06-09 19.01.26.tif\n",
      "max roi png is 2\n",
      "sectionID is 1\n",
      "[0.0, 5.673, 2.244, 0.505, 0.535, 0.447, 0.921, 0.835, 0.763, 2.672, 47.112, 5.674, 32.619]\n",
      "max roi png is 2\n",
      "sectionID is 2\n",
      "[0.0, 0.0, 0.0, 0.0, 0.0, 0.0, 0.0, 0.0, 0.0, 0.0, 0.0, 0.0, 100.0]\n",
      "\\\\shelter\\Kyu\\skin_aging\\clue_cohort\\DLmask1um\\2022-06-09 20.18.08.tif\n",
      "max roi png is 1\n",
      "sectionID is 1\n",
      "[0.0, 1.278, 2.985, 0.207, 0.19, 1.679, 0.095, 0.202, 0.866, 3.187, 43.173, 12.012, 34.127]\n",
      "\\\\shelter\\Kyu\\skin_aging\\clue_cohort\\DLmask1um\\2022-06-08 17.14.34.tif\n",
      "max roi png is 1\n",
      "sectionID is 1\n",
      "[0.0, 0.0, 0.0, 0.0, 0.0, 0.0, 0.0, 0.0, 0.0, 0.0, 0.0, 0.0, 100.0]\n",
      "\\\\shelter\\Kyu\\skin_aging\\clue_cohort\\DLmask1um\\2022-06-30 19.07.43.tif\n",
      "max roi png is 1\n",
      "roi shape is (20518, 20349)\n",
      "DLarr shape is (20518, 20348)\n",
      "sectionID is 1\n",
      "[0.0, 1.56, 11.391, 2.349, 1.207, 3.532, 4.445, 1.625, 5.491, 6.089, 50.166, 1.53, 10.615]\n",
      "\\\\shelter\\Kyu\\skin_aging\\clue_cohort\\DLmask1um\\2022-06-13 15.50.57.tif\n",
      "\\\\shelter\\Kyu\\skin_aging\\clue_cohort\\DLmask1um\\2022-06-15 21.52.35.tif\n"
     ]
    },
    {
     "name": "stderr",
     "output_type": "stream",
     "text": [
      "\n",
      "KeyboardInterrupt\n",
      "\n"
     ]
    }
   ],
   "source": [
    "# read a first DLmask and its corresponding roi xml file\n",
    "roi_png_dst = os.path.join(roi_src,'roi_png_1x') # destination to save grayscale labeled mask\n",
    "comps_df = pd.DataFrame()\n",
    "for idx in range(0,len(dl_complete_path_new)):\n",
    "    print(dl_complete_path_new[idx])\n",
    "    DLarr = Image.open(dl_complete_path_new[idx])\n",
    "    mask = create_mask_multi_annot(roi_complete_path_new[idx], ndpi_complete_path_new[idx]) #, downsample_factor= 2.264596)\n",
    "    mask = mask.T\n",
    "    roi_png = Image.fromarray(mask)\n",
    "    roi_png.save(os.path.join(roi_png_dst,save_name[idx].replace(\"ndpi\",\"png\"))) # save labeled mask\n",
    "#for example of roi_png: \"\\\\shelter\\Kyu\\skin_aging\\clue_cohort\\annotations\\roi\\labeledmask_20rsf\", roi_png is an image with grayscale labeled mask, save this.\n",
    "    for sectionID in range(1,np.max(roi_png)+1):\n",
    "        print(\"max roi png is\", np.max(roi_png))\n",
    "        roi_png = np.array(roi_png)\n",
    "        roi_shape = roi_png.shape\n",
    "        DLarr = np.array(DLarr)\n",
    "        DLarr_shape = DLarr.shape\n",
    "\n",
    "        if roi_shape != DLarr_shape:\n",
    "            #resize DLarr to roi_shape\n",
    "            DLarr = cv2.resize(DLarr,roi_shape,interpolation = cv2.INTER_LINEAR)\n",
    "            DLarr = DLarr.T\n",
    "            print(\"roi shape is\", roi_shape)\n",
    "            print(\"DLarr shape is\", DLarr_shape)\n",
    "        print(\"sectionID is\",sectionID)\n",
    "        DL_roi = DLarr[roi_png==sectionID] # for each roi in the image\n",
    "        hist = np.bincount(DL_roi) #dl mask\n",
    "        hist = hist/np.sum(hist)*100\n",
    "        count_list = list(hist)\n",
    "        count_list = [np.round(x,3) for x in count_list]\n",
    "        print(count_list)\n",
    "        # if idx == 0 and sectionID == 1: # first time, create xml_to_df\n",
    "        #\n",
    "        # else: # just concat df\n",
    "\n",
    "#\n",
    "# output composition data by roi\n",
    "# comp_excel =\n",
    "# xl_dst = r\"\\\\shelter\\Kyu\\skin_aging\\clue_cohort\\CLUE_morphometrics_230207.xlsx\""
   ],
   "metadata": {
    "collapsed": false
   }
  },
  {
   "cell_type": "code",
   "execution_count": null,
   "outputs": [],
   "source": [],
   "metadata": {
    "collapsed": false
   }
  },
  {
   "cell_type": "code",
   "execution_count": null,
   "outputs": [],
   "source": [],
   "metadata": {
    "collapsed": false
   }
  },
  {
   "cell_type": "code",
   "execution_count": null,
   "outputs": [],
   "source": [],
   "metadata": {
    "collapsed": false
   }
  }
 ],
 "metadata": {
  "kernelspec": {
   "display_name": "Python 3",
   "language": "python",
   "name": "python3"
  },
  "language_info": {
   "codemirror_mode": {
    "name": "ipython",
    "version": 2
   },
   "file_extension": ".py",
   "mimetype": "text/x-python",
   "name": "python",
   "nbconvert_exporter": "python",
   "pygments_lexer": "ipython2",
   "version": "2.7.6"
  }
 },
 "nbformat": 4,
 "nbformat_minor": 0
}
