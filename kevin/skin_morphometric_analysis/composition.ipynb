{
 "cells": [
  {
   "cell_type": "markdown",
   "source": [
    "### Workflow for getting composition for each roi annotation for each DLmask (DLmask generated from entire mask of ndpi):"
   ],
   "metadata": {
    "collapsed": false
   }
  },
  {
   "cell_type": "code",
   "execution_count": 1,
   "outputs": [],
   "source": [
    "import pandas as pd\n",
    "import numpy as np\n",
    "import os"
   ],
   "metadata": {
    "collapsed": false
   }
  },
  {
   "cell_type": "code",
   "execution_count": 2,
   "outputs": [],
   "source": [
    "# quick pandas work to see if ndpi's in image list have the DL segmented masks!\n",
    "# read xml files for roi annotations\n",
    "roi_src = r'\\\\shelter\\Kyu\\skin_aging\\clue_cohort\\annotations\\roi'\n",
    "# read DL mask files for DL segmented masks\n",
    "dl_src = r'\\\\shelter\\Kyu\\skin_aging\\clue_cohort\\DLmask1um'\n",
    "# read image list and fill in DL_segmented column (0=DLmask missing, 1=DLmask exists)\n",
    "im_list = r'\\\\shelter\\Kyu\\skin_aging\\clue_cohort\\CLUE_image_list_230207.xlsx'"
   ],
   "metadata": {
    "collapsed": false
   }
  },
  {
   "cell_type": "code",
   "execution_count": 3,
   "outputs": [],
   "source": [
    "roi_list = [x for x in os.listdir(roi_src) if x.endswith('.xml')] #301 rows\n",
    "dl_list = [x for x in os.listdir(dl_src) if x.endswith('.tif')] #301 rows\n",
    "roi_list = [x.replace(\".xml\",\"\") for x in roi_list]\n",
    "dl_list = [x.replace(\".tif\",\"\") for x in dl_list]"
   ],
   "metadata": {
    "collapsed": false
   }
  },
  {
   "cell_type": "code",
   "execution_count": 4,
   "outputs": [],
   "source": [
    "image_list_csv_raw = pd.read_excel(r'\\\\shelter\\Kyu\\skin_aging\\clue_cohort\\CLUE_image_list_230207.xlsx')"
   ],
   "metadata": {
    "collapsed": false
   }
  },
  {
   "cell_type": "code",
   "execution_count": 5,
   "outputs": [],
   "source": [
    "def check_DLexist(row):\n",
    "    row = row.replace('.ndpi','')\n",
    "    return row in dl_list"
   ],
   "metadata": {
    "collapsed": false
   }
  },
  {
   "cell_type": "code",
   "execution_count": 6,
   "outputs": [],
   "source": [
    "image_list_csv_raw['DL_segmented'] = image_list_csv_raw.apply(lambda row : check_DLexist(row['filename']), axis = 1)"
   ],
   "metadata": {
    "collapsed": false
   }
  },
  {
   "cell_type": "code",
   "execution_count": 8,
   "outputs": [
    {
     "data": {
      "text/plain": "   index gender        age  pid  \\\n0      1    NaN        NaN    1   \n1      2    NaN        NaN    1   \n2      3    NaN        NaN    2   \n3      4    NaN        NaN    2   \n4      5      M  55.646575    3   \n\n                                                path  \\\n0  \\\\fatherserverdw\\Q\\research\\images\\clue_batch2...   \n1  \\\\fatherserverdw\\Q\\research\\images\\clue_batch2...   \n2  \\\\fatherserverdw\\Q\\research\\images\\clue_batch2...   \n3  \\\\fatherserverdw\\Q\\research\\images\\clue_batch2...   \n4  \\\\fatherserverdw\\kyuex\\clue images\\2022-06-30 ...   \n\n                   filename  year  sample id label name sub label  ...  \\\n0  2022-06-10 17.43.31.ndpi     2      15926   02-15926         1  ...   \n1  2022-06-10 20.49.53.ndpi     2      15926   02-15926         2  ...   \n2  2022-06-10 17.55.47.ndpi     2      16107   02-16107        FS  ...   \n3  2022-06-08 15.45.22.ndpi     2      16107   02-16107        FS  ...   \n4  2022-06-30 17.54.56.ndpi     2      16145   02-16145        A2  ...   \n\n  Inbal comment  ROI ANNOTATED (0 :not annotated 1.annotated) roi reviewed  \\\n0           NaN                                           NaN          NaN   \n1           NaN                                           NaN          NaN   \n2           NaN                                           NaN          NaN   \n3           NaN                                           NaN          NaN   \n4           NaN                                             1          1.0   \n\n  Nroi hypodermis (1=yes, 0=no) has hair DV200 use_visium DL_annotated  \\\n0  NaN                        1      NaN   NaN        NaN          NaN   \n1  NaN                        1      NaN   NaN        NaN          NaN   \n2  NaN                        0      NaN   NaN        NaN          NaN   \n3  NaN                        1      NaN   NaN        NaN          NaN   \n4  NaN                        1      NaN   NaN        NaN          NaN   \n\n   DL_segmented  \n0         False  \n1         False  \n2         False  \n3         False  \n4         False  \n\n[5 rows x 33 columns]",
      "text/html": "<div>\n<style scoped>\n    .dataframe tbody tr th:only-of-type {\n        vertical-align: middle;\n    }\n\n    .dataframe tbody tr th {\n        vertical-align: top;\n    }\n\n    .dataframe thead th {\n        text-align: right;\n    }\n</style>\n<table border=\"1\" class=\"dataframe\">\n  <thead>\n    <tr style=\"text-align: right;\">\n      <th></th>\n      <th>index</th>\n      <th>gender</th>\n      <th>age</th>\n      <th>pid</th>\n      <th>path</th>\n      <th>filename</th>\n      <th>year</th>\n      <th>sample id</th>\n      <th>label name</th>\n      <th>sub label</th>\n      <th>...</th>\n      <th>Inbal comment</th>\n      <th>ROI ANNOTATED (0 :not annotated 1.annotated)</th>\n      <th>roi reviewed</th>\n      <th>Nroi</th>\n      <th>hypodermis (1=yes, 0=no)</th>\n      <th>has hair</th>\n      <th>DV200</th>\n      <th>use_visium</th>\n      <th>DL_annotated</th>\n      <th>DL_segmented</th>\n    </tr>\n  </thead>\n  <tbody>\n    <tr>\n      <th>0</th>\n      <td>1</td>\n      <td>NaN</td>\n      <td>NaN</td>\n      <td>1</td>\n      <td>\\\\fatherserverdw\\Q\\research\\images\\clue_batch2...</td>\n      <td>2022-06-10 17.43.31.ndpi</td>\n      <td>2</td>\n      <td>15926</td>\n      <td>02-15926</td>\n      <td>1</td>\n      <td>...</td>\n      <td>NaN</td>\n      <td>NaN</td>\n      <td>NaN</td>\n      <td>NaN</td>\n      <td>1</td>\n      <td>NaN</td>\n      <td>NaN</td>\n      <td>NaN</td>\n      <td>NaN</td>\n      <td>False</td>\n    </tr>\n    <tr>\n      <th>1</th>\n      <td>2</td>\n      <td>NaN</td>\n      <td>NaN</td>\n      <td>1</td>\n      <td>\\\\fatherserverdw\\Q\\research\\images\\clue_batch2...</td>\n      <td>2022-06-10 20.49.53.ndpi</td>\n      <td>2</td>\n      <td>15926</td>\n      <td>02-15926</td>\n      <td>2</td>\n      <td>...</td>\n      <td>NaN</td>\n      <td>NaN</td>\n      <td>NaN</td>\n      <td>NaN</td>\n      <td>1</td>\n      <td>NaN</td>\n      <td>NaN</td>\n      <td>NaN</td>\n      <td>NaN</td>\n      <td>False</td>\n    </tr>\n    <tr>\n      <th>2</th>\n      <td>3</td>\n      <td>NaN</td>\n      <td>NaN</td>\n      <td>2</td>\n      <td>\\\\fatherserverdw\\Q\\research\\images\\clue_batch2...</td>\n      <td>2022-06-10 17.55.47.ndpi</td>\n      <td>2</td>\n      <td>16107</td>\n      <td>02-16107</td>\n      <td>FS</td>\n      <td>...</td>\n      <td>NaN</td>\n      <td>NaN</td>\n      <td>NaN</td>\n      <td>NaN</td>\n      <td>0</td>\n      <td>NaN</td>\n      <td>NaN</td>\n      <td>NaN</td>\n      <td>NaN</td>\n      <td>False</td>\n    </tr>\n    <tr>\n      <th>3</th>\n      <td>4</td>\n      <td>NaN</td>\n      <td>NaN</td>\n      <td>2</td>\n      <td>\\\\fatherserverdw\\Q\\research\\images\\clue_batch2...</td>\n      <td>2022-06-08 15.45.22.ndpi</td>\n      <td>2</td>\n      <td>16107</td>\n      <td>02-16107</td>\n      <td>FS</td>\n      <td>...</td>\n      <td>NaN</td>\n      <td>NaN</td>\n      <td>NaN</td>\n      <td>NaN</td>\n      <td>1</td>\n      <td>NaN</td>\n      <td>NaN</td>\n      <td>NaN</td>\n      <td>NaN</td>\n      <td>False</td>\n    </tr>\n    <tr>\n      <th>4</th>\n      <td>5</td>\n      <td>M</td>\n      <td>55.646575</td>\n      <td>3</td>\n      <td>\\\\fatherserverdw\\kyuex\\clue images\\2022-06-30 ...</td>\n      <td>2022-06-30 17.54.56.ndpi</td>\n      <td>2</td>\n      <td>16145</td>\n      <td>02-16145</td>\n      <td>A2</td>\n      <td>...</td>\n      <td>NaN</td>\n      <td>1</td>\n      <td>1.0</td>\n      <td>NaN</td>\n      <td>1</td>\n      <td>NaN</td>\n      <td>NaN</td>\n      <td>NaN</td>\n      <td>NaN</td>\n      <td>False</td>\n    </tr>\n  </tbody>\n</table>\n<p>5 rows × 33 columns</p>\n</div>"
     },
     "execution_count": 8,
     "metadata": {},
     "output_type": "execute_result"
    }
   ],
   "source": [
    "image_list_csv_raw.head()"
   ],
   "metadata": {
    "collapsed": false
   }
  },
  {
   "cell_type": "code",
   "execution_count": 15,
   "outputs": [
    {
     "data": {
      "text/plain": "      index gender        age  pid  \\\n0         1    NaN        NaN    1   \n1         2    NaN        NaN    1   \n2         3    NaN        NaN    2   \n3         4    NaN        NaN    2   \n4         5      M  55.646575    3   \n...     ...    ...        ...  ...   \n1178   1179    NaN        NaN  484   \n1179   1180    NaN        NaN  485   \n1180   1181      F  72.712329  485   \n1181   1182    NaN        NaN  486   \n1182   1183    NaN        NaN  487   \n\n                                                   path  \\\n0     \\\\fatherserverdw\\Q\\research\\images\\clue_batch2...   \n1     \\\\fatherserverdw\\Q\\research\\images\\clue_batch2...   \n2     \\\\fatherserverdw\\Q\\research\\images\\clue_batch2...   \n3     \\\\fatherserverdw\\Q\\research\\images\\clue_batch2...   \n4     \\\\fatherserverdw\\kyuex\\clue images\\2022-06-30 ...   \n...                                                 ...   \n1178  \\\\fatherserverdw\\kyuex\\clue images\\2022-06-30 ...   \n1179  \\\\fatherserverdw\\Q\\research\\images\\clue_batch2...   \n1180  \\\\fatherserverdw\\Q\\research\\images\\clue_batch2...   \n1181  \\\\fatherserverdw\\Q\\research\\images\\clue_batch2...   \n1182  \\\\fatherserverdw\\Q\\research\\images\\clue_batch2...   \n\n                      filename  year  sample id label name sub label  ...  \\\n0     2022-06-10 17.43.31.ndpi     2      15926   02-15926         1  ...   \n1     2022-06-10 20.49.53.ndpi     2      15926   02-15926         2  ...   \n2     2022-06-10 17.55.47.ndpi     2      16107   02-16107        FS  ...   \n3     2022-06-08 15.45.22.ndpi     2      16107   02-16107        FS  ...   \n4     2022-06-30 17.54.56.ndpi     2      16145   02-16145        A2  ...   \n...                        ...   ...        ...        ...       ...  ...   \n1178  2022-06-30 17.20.35.ndpi    10       6634    10-6634         4  ...   \n1179  2022-06-07 16.37.50.ndpi    10       6683    10-6683       A14  ...   \n1180  2022-06-07 18.06.50.ndpi    10       6683    10-6683       A15  ...   \n1181  2022-06-07 17.57.57.ndpi    10       6795    10-6795       NaN  ...   \n1182  2022-06-07 17.54.06.ndpi    10       7018    10-7018       NaN  ...   \n\n     Inbal comment  ROI ANNOTATED (0 :not annotated 1.annotated) roi reviewed  \\\n0              NaN                                           NaN          NaN   \n1              NaN                                           NaN          NaN   \n2              NaN                                           NaN          NaN   \n3              NaN                                           NaN          NaN   \n4              NaN                                             1          1.0   \n...            ...                                           ...          ...   \n1178           NaN                                           NaN          NaN   \n1179           NaN                                             0          NaN   \n1180           NaN                                             1          1.0   \n1181           NaN                                           NaN          NaN   \n1182           NaN                                           NaN          NaN   \n\n     Nroi hypodermis (1=yes, 0=no) has hair DV200 use_visium DL_annotated  \\\n0     NaN                        1      NaN   NaN        NaN          NaN   \n1     NaN                        1      NaN   NaN        NaN          NaN   \n2     NaN                        0      NaN   NaN        NaN          NaN   \n3     NaN                        1      NaN   NaN        NaN          NaN   \n4     NaN                        1      NaN   NaN        NaN          NaN   \n...   ...                      ...      ...   ...        ...          ...   \n1178  NaN                        0      NaN   NaN        NaN          NaN   \n1179  NaN                        1      NaN   NaN        NaN          NaN   \n1180  NaN                        1      NaN   NaN        NaN          NaN   \n1181  NaN                        1      NaN   NaN        NaN          NaN   \n1182  NaN                        1      NaN   NaN        NaN          NaN   \n\n      DL_segmented  \n0            False  \n1            False  \n2            False  \n3            False  \n4            False  \n...            ...  \n1178         False  \n1179         False  \n1180          True  \n1181         False  \n1182         False  \n\n[1183 rows x 33 columns]",
      "text/html": "<div>\n<style scoped>\n    .dataframe tbody tr th:only-of-type {\n        vertical-align: middle;\n    }\n\n    .dataframe tbody tr th {\n        vertical-align: top;\n    }\n\n    .dataframe thead th {\n        text-align: right;\n    }\n</style>\n<table border=\"1\" class=\"dataframe\">\n  <thead>\n    <tr style=\"text-align: right;\">\n      <th></th>\n      <th>index</th>\n      <th>gender</th>\n      <th>age</th>\n      <th>pid</th>\n      <th>path</th>\n      <th>filename</th>\n      <th>year</th>\n      <th>sample id</th>\n      <th>label name</th>\n      <th>sub label</th>\n      <th>...</th>\n      <th>Inbal comment</th>\n      <th>ROI ANNOTATED (0 :not annotated 1.annotated)</th>\n      <th>roi reviewed</th>\n      <th>Nroi</th>\n      <th>hypodermis (1=yes, 0=no)</th>\n      <th>has hair</th>\n      <th>DV200</th>\n      <th>use_visium</th>\n      <th>DL_annotated</th>\n      <th>DL_segmented</th>\n    </tr>\n  </thead>\n  <tbody>\n    <tr>\n      <th>0</th>\n      <td>1</td>\n      <td>NaN</td>\n      <td>NaN</td>\n      <td>1</td>\n      <td>\\\\fatherserverdw\\Q\\research\\images\\clue_batch2...</td>\n      <td>2022-06-10 17.43.31.ndpi</td>\n      <td>2</td>\n      <td>15926</td>\n      <td>02-15926</td>\n      <td>1</td>\n      <td>...</td>\n      <td>NaN</td>\n      <td>NaN</td>\n      <td>NaN</td>\n      <td>NaN</td>\n      <td>1</td>\n      <td>NaN</td>\n      <td>NaN</td>\n      <td>NaN</td>\n      <td>NaN</td>\n      <td>False</td>\n    </tr>\n    <tr>\n      <th>1</th>\n      <td>2</td>\n      <td>NaN</td>\n      <td>NaN</td>\n      <td>1</td>\n      <td>\\\\fatherserverdw\\Q\\research\\images\\clue_batch2...</td>\n      <td>2022-06-10 20.49.53.ndpi</td>\n      <td>2</td>\n      <td>15926</td>\n      <td>02-15926</td>\n      <td>2</td>\n      <td>...</td>\n      <td>NaN</td>\n      <td>NaN</td>\n      <td>NaN</td>\n      <td>NaN</td>\n      <td>1</td>\n      <td>NaN</td>\n      <td>NaN</td>\n      <td>NaN</td>\n      <td>NaN</td>\n      <td>False</td>\n    </tr>\n    <tr>\n      <th>2</th>\n      <td>3</td>\n      <td>NaN</td>\n      <td>NaN</td>\n      <td>2</td>\n      <td>\\\\fatherserverdw\\Q\\research\\images\\clue_batch2...</td>\n      <td>2022-06-10 17.55.47.ndpi</td>\n      <td>2</td>\n      <td>16107</td>\n      <td>02-16107</td>\n      <td>FS</td>\n      <td>...</td>\n      <td>NaN</td>\n      <td>NaN</td>\n      <td>NaN</td>\n      <td>NaN</td>\n      <td>0</td>\n      <td>NaN</td>\n      <td>NaN</td>\n      <td>NaN</td>\n      <td>NaN</td>\n      <td>False</td>\n    </tr>\n    <tr>\n      <th>3</th>\n      <td>4</td>\n      <td>NaN</td>\n      <td>NaN</td>\n      <td>2</td>\n      <td>\\\\fatherserverdw\\Q\\research\\images\\clue_batch2...</td>\n      <td>2022-06-08 15.45.22.ndpi</td>\n      <td>2</td>\n      <td>16107</td>\n      <td>02-16107</td>\n      <td>FS</td>\n      <td>...</td>\n      <td>NaN</td>\n      <td>NaN</td>\n      <td>NaN</td>\n      <td>NaN</td>\n      <td>1</td>\n      <td>NaN</td>\n      <td>NaN</td>\n      <td>NaN</td>\n      <td>NaN</td>\n      <td>False</td>\n    </tr>\n    <tr>\n      <th>4</th>\n      <td>5</td>\n      <td>M</td>\n      <td>55.646575</td>\n      <td>3</td>\n      <td>\\\\fatherserverdw\\kyuex\\clue images\\2022-06-30 ...</td>\n      <td>2022-06-30 17.54.56.ndpi</td>\n      <td>2</td>\n      <td>16145</td>\n      <td>02-16145</td>\n      <td>A2</td>\n      <td>...</td>\n      <td>NaN</td>\n      <td>1</td>\n      <td>1.0</td>\n      <td>NaN</td>\n      <td>1</td>\n      <td>NaN</td>\n      <td>NaN</td>\n      <td>NaN</td>\n      <td>NaN</td>\n      <td>False</td>\n    </tr>\n    <tr>\n      <th>...</th>\n      <td>...</td>\n      <td>...</td>\n      <td>...</td>\n      <td>...</td>\n      <td>...</td>\n      <td>...</td>\n      <td>...</td>\n      <td>...</td>\n      <td>...</td>\n      <td>...</td>\n      <td>...</td>\n      <td>...</td>\n      <td>...</td>\n      <td>...</td>\n      <td>...</td>\n      <td>...</td>\n      <td>...</td>\n      <td>...</td>\n      <td>...</td>\n      <td>...</td>\n      <td>...</td>\n    </tr>\n    <tr>\n      <th>1178</th>\n      <td>1179</td>\n      <td>NaN</td>\n      <td>NaN</td>\n      <td>484</td>\n      <td>\\\\fatherserverdw\\kyuex\\clue images\\2022-06-30 ...</td>\n      <td>2022-06-30 17.20.35.ndpi</td>\n      <td>10</td>\n      <td>6634</td>\n      <td>10-6634</td>\n      <td>4</td>\n      <td>...</td>\n      <td>NaN</td>\n      <td>NaN</td>\n      <td>NaN</td>\n      <td>NaN</td>\n      <td>0</td>\n      <td>NaN</td>\n      <td>NaN</td>\n      <td>NaN</td>\n      <td>NaN</td>\n      <td>False</td>\n    </tr>\n    <tr>\n      <th>1179</th>\n      <td>1180</td>\n      <td>NaN</td>\n      <td>NaN</td>\n      <td>485</td>\n      <td>\\\\fatherserverdw\\Q\\research\\images\\clue_batch2...</td>\n      <td>2022-06-07 16.37.50.ndpi</td>\n      <td>10</td>\n      <td>6683</td>\n      <td>10-6683</td>\n      <td>A14</td>\n      <td>...</td>\n      <td>NaN</td>\n      <td>0</td>\n      <td>NaN</td>\n      <td>NaN</td>\n      <td>1</td>\n      <td>NaN</td>\n      <td>NaN</td>\n      <td>NaN</td>\n      <td>NaN</td>\n      <td>False</td>\n    </tr>\n    <tr>\n      <th>1180</th>\n      <td>1181</td>\n      <td>F</td>\n      <td>72.712329</td>\n      <td>485</td>\n      <td>\\\\fatherserverdw\\Q\\research\\images\\clue_batch2...</td>\n      <td>2022-06-07 18.06.50.ndpi</td>\n      <td>10</td>\n      <td>6683</td>\n      <td>10-6683</td>\n      <td>A15</td>\n      <td>...</td>\n      <td>NaN</td>\n      <td>1</td>\n      <td>1.0</td>\n      <td>NaN</td>\n      <td>1</td>\n      <td>NaN</td>\n      <td>NaN</td>\n      <td>NaN</td>\n      <td>NaN</td>\n      <td>True</td>\n    </tr>\n    <tr>\n      <th>1181</th>\n      <td>1182</td>\n      <td>NaN</td>\n      <td>NaN</td>\n      <td>486</td>\n      <td>\\\\fatherserverdw\\Q\\research\\images\\clue_batch2...</td>\n      <td>2022-06-07 17.57.57.ndpi</td>\n      <td>10</td>\n      <td>6795</td>\n      <td>10-6795</td>\n      <td>NaN</td>\n      <td>...</td>\n      <td>NaN</td>\n      <td>NaN</td>\n      <td>NaN</td>\n      <td>NaN</td>\n      <td>1</td>\n      <td>NaN</td>\n      <td>NaN</td>\n      <td>NaN</td>\n      <td>NaN</td>\n      <td>False</td>\n    </tr>\n    <tr>\n      <th>1182</th>\n      <td>1183</td>\n      <td>NaN</td>\n      <td>NaN</td>\n      <td>487</td>\n      <td>\\\\fatherserverdw\\Q\\research\\images\\clue_batch2...</td>\n      <td>2022-06-07 17.54.06.ndpi</td>\n      <td>10</td>\n      <td>7018</td>\n      <td>10-7018</td>\n      <td>NaN</td>\n      <td>...</td>\n      <td>NaN</td>\n      <td>NaN</td>\n      <td>NaN</td>\n      <td>NaN</td>\n      <td>1</td>\n      <td>NaN</td>\n      <td>NaN</td>\n      <td>NaN</td>\n      <td>NaN</td>\n      <td>False</td>\n    </tr>\n  </tbody>\n</table>\n<p>1183 rows × 33 columns</p>\n</div>"
     },
     "execution_count": 15,
     "metadata": {},
     "output_type": "execute_result"
    }
   ],
   "source": [
    "image_list_csv_raw"
   ],
   "metadata": {
    "collapsed": false
   }
  },
  {
   "cell_type": "code",
   "execution_count": 16,
   "outputs": [],
   "source": [
    "image_list_csv_raw.to_excel(r'\\\\shelter\\Kyu\\skin_aging\\clue_cohort\\CLUE_image_list_230207_v2.xlsx')"
   ],
   "metadata": {
    "collapsed": false
   }
  },
  {
   "cell_type": "code",
   "execution_count": null,
   "outputs": [],
   "source": [],
   "metadata": {
    "collapsed": false
   }
  },
  {
   "cell_type": "code",
   "execution_count": null,
   "outputs": [],
   "source": [
    "# read a first DLmask and its corresponding roi xml file\n",
    "roi_png_dst = os.path.join(roi_src,'roi_png_1x')\n",
    "\n",
    "for DLmask in DLmasks:\n",
    "    DLarr = Image.open(DLmask)\n",
    "    roi_fn = DLmask.replace(\"png\",\"xml\")\n",
    "    roi_xml = xml2df(os.path.join(roi_src,roi_fn))\n",
    "    roi_arr = df2png(roi_xml) #for example: \"\\\\shelter\\Kyu\\skin_aging\\clue_cohort\\annotations\\roi\\labeledmask_20rsf\"\n",
    "    # roi_png is an image with grayscale labeled mask, save this.\n",
    "    roi_png = Image.fromarray(roi_arr)\n",
    "    roi_png.save(os.path.join(roi_png_dst,roi_fn.replace(\"xml\",\"png\")))\n",
    "    for sectionID in range(1,np.max(roi_png)):\n",
    "        DL_roi = DLarr[roi_png==sectionID]\n",
    "        composition = dl2comp(DL_roi)\n",
    "        comps.append(compositions)\n",
    "\n",
    "\n",
    "# output composition data by roi\n",
    "xl_dst = r\"\\\\shelter\\Kyu\\skin_aging\\clue_cohort\\CLUE_morphometrics_230207.xlsx\""
   ],
   "metadata": {
    "collapsed": false
   }
  },
  {
   "cell_type": "code",
   "execution_count": null,
   "outputs": [],
   "source": [],
   "metadata": {
    "collapsed": false
   }
  }
 ],
 "metadata": {
  "kernelspec": {
   "display_name": "Python 3",
   "language": "python",
   "name": "python3"
  },
  "language_info": {
   "codemirror_mode": {
    "name": "ipython",
    "version": 2
   },
   "file_extension": ".py",
   "mimetype": "text/x-python",
   "name": "python",
   "nbconvert_exporter": "python",
   "pygments_lexer": "ipython2",
   "version": "2.7.6"
  }
 },
 "nbformat": 4,
 "nbformat_minor": 0
}
