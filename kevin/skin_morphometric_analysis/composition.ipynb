{
 "cells": [
  {
   "cell_type": "markdown",
   "source": [
    "### Workflow for getting composition for each roi annotation for each DLmask (DLmask generated from entire mask of ndpi):"
   ],
   "metadata": {
    "collapsed": false
   }
  },
  {
   "cell_type": "code",
   "execution_count": 1,
   "outputs": [],
   "source": [
    "import pandas as pd\n",
    "import numpy as np\n",
    "import os"
   ],
   "metadata": {
    "collapsed": false
   }
  },
  {
   "cell_type": "code",
   "execution_count": 2,
   "outputs": [],
   "source": [
    "# quick pandas work to see if ndpi's in image list have the DL segmented masks!\n",
    "# read xml files for roi annotations\n",
    "roi_src = r'\\\\shelter\\Kyu\\skin_aging\\clue_cohort\\annotations\\roi'\n",
    "# read DL mask files for DL segmented masks\n",
    "dl_src = r'\\\\shelter\\Kyu\\skin_aging\\clue_cohort\\DLmask1um'\n",
    "# read image list and fill in DL_segmented column (0=DLmask missing, 1=DLmask exists)\n",
    "im_list = r'\\\\shelter\\Kyu\\skin_aging\\clue_cohort\\CLUE_image_list_230207.xlsx'"
   ],
   "metadata": {
    "collapsed": false
   }
  },
  {
   "cell_type": "code",
   "execution_count": 3,
   "outputs": [],
   "source": [
    "roi_list = [x for x in os.listdir(roi_src) if x.endswith('.xml')] #301 rows\n",
    "dl_list = [x for x in os.listdir(dl_src) if x.endswith('.tif')] #301 rows\n",
    "roi_list = [x.replace(\".xml\",\"\") for x in roi_list]\n",
    "dl_list = [x.replace(\".tif\",\"\") for x in roi_list]"
   ],
   "metadata": {
    "collapsed": false
   }
  },
  {
   "cell_type": "code",
   "execution_count": 4,
   "outputs": [
    {
     "data": {
      "text/plain": "      index gender        age  pid  \\\n13       14      M  63.301370    8   \n14       15      M  63.301370    8   \n52       53      M  64.147945   27   \n53       54      M  64.147945   27   \n54       55      M  64.147945   27   \n...     ...    ...        ...  ...   \n1155   1156      F  79.035616  476   \n1157   1158      F  79.035616  476   \n1171   1172      M  68.202740  483   \n1172   1173      M  92.435616  484   \n1180   1181      F  72.712329  485   \n\n                                                   path  \\\n13    \\\\fatherserverdw\\Q\\research\\images\\clue_batch2...   \n14    \\\\fatherserverdw\\Q\\research\\images\\clue_batch2...   \n52    \\\\fatherserverdw\\Q\\research\\images\\clue_batch2...   \n53    \\\\fatherserverdw\\Q\\research\\images\\clue_batch2...   \n54    \\\\fatherserverdw\\Q\\research\\images\\clue_batch2...   \n...                                                 ...   \n1155  \\\\fatherserverdw\\Q\\research\\images\\clue_batch2...   \n1157  \\\\fatherserverdw\\Q\\research\\images\\clue_batch2...   \n1171  \\\\fatherserverdw\\Q\\research\\images\\clue_batch2...   \n1172  \\\\fatherserverdw\\Q\\research\\images\\clue_batch2...   \n1180  \\\\fatherserverdw\\Q\\research\\images\\clue_batch2...   \n\n                      filename  year  sample id label name sub label  ...  \\\n13    2022-06-07 17.10.29.ndpi     2      17359   02-17359         2  ...   \n14    2022-06-07 17.15.33.ndpi     2      17359   02-17359         1  ...   \n52    2022-06-07 16.05.45.ndpi     3       4359    03-4359         3  ...   \n53    2022-06-09 20.12.48.ndpi     3       4359    03-4359         1  ...   \n54    2022-06-09 20.18.08.ndpi     3       4359    03-4359         2  ...   \n...                        ...   ...        ...        ...       ...  ...   \n1155  2022-06-07 14.56.13.ndpi    10       5202    10-5202        A2  ...   \n1157  2022-06-08 16.34.23.ndpi    10       5202    10-5202        A3  ...   \n1171  2022-06-08 16.05.29.ndpi    10       6524    10-6524         A  ...   \n1172  2022-06-07 17.24.15.ndpi    10       6634    10-6634         7  ...   \n1180  2022-06-07 18.06.50.ndpi    10       6683    10-6683       A15  ...   \n\n                                          Inbal comment  \\\n13                                                  NaN   \n14                      left two are good within purple   \n52    could use the left aspect of the left piece (b...   \n53                                                  NaN   \n54                                                  NaN   \n...                                                 ...   \n1155                                                NaN   \n1157                                                NaN   \n1171                                                NaN   \n1172                                                NaN   \n1180                                                NaN   \n\n      ROI ANNOTATED (0 :not annotated 1.annotated) roi reviewed Nroi  \\\n13                                               1          1.0  NaN   \n14                                               1          1.0  NaN   \n52                                               1          1.0  NaN   \n53                                               1          1.0  NaN   \n54                                               1          1.0  NaN   \n...                                            ...          ...  ...   \n1155                                             1          1.0  NaN   \n1157                                             1          1.0  NaN   \n1171                                             1          1.0  NaN   \n1172                                             1          1.0  NaN   \n1180                                             1          1.0  NaN   \n\n     hypodermis (1=yes, 0=no) has hair DV200 use_visium DL_annotated  \\\n13                          1      NaN   NaN        NaN          NaN   \n14                          0      NaN   NaN        NaN          NaN   \n52                          1      NaN   NaN        NaN          NaN   \n53                          1      NaN   NaN        NaN          NaN   \n54                          1      NaN   NaN        NaN          NaN   \n...                       ...      ...   ...        ...          ...   \n1155                        1      NaN   NaN        NaN          NaN   \n1157                        1      NaN   NaN        NaN          NaN   \n1171                        1      NaN   NaN        NaN          NaN   \n1172                        0      NaN   NaN        NaN          NaN   \n1180                        1      NaN   NaN        NaN          NaN   \n\n      DL_segmented  \n13             NaN  \n14             NaN  \n52             NaN  \n53             NaN  \n54             NaN  \n...            ...  \n1155           NaN  \n1157           NaN  \n1171           NaN  \n1172           NaN  \n1180           NaN  \n\n[215 rows x 33 columns]",
      "text/html": "<div>\n<style scoped>\n    .dataframe tbody tr th:only-of-type {\n        vertical-align: middle;\n    }\n\n    .dataframe tbody tr th {\n        vertical-align: top;\n    }\n\n    .dataframe thead th {\n        text-align: right;\n    }\n</style>\n<table border=\"1\" class=\"dataframe\">\n  <thead>\n    <tr style=\"text-align: right;\">\n      <th></th>\n      <th>index</th>\n      <th>gender</th>\n      <th>age</th>\n      <th>pid</th>\n      <th>path</th>\n      <th>filename</th>\n      <th>year</th>\n      <th>sample id</th>\n      <th>label name</th>\n      <th>sub label</th>\n      <th>...</th>\n      <th>Inbal comment</th>\n      <th>ROI ANNOTATED (0 :not annotated 1.annotated)</th>\n      <th>roi reviewed</th>\n      <th>Nroi</th>\n      <th>hypodermis (1=yes, 0=no)</th>\n      <th>has hair</th>\n      <th>DV200</th>\n      <th>use_visium</th>\n      <th>DL_annotated</th>\n      <th>DL_segmented</th>\n    </tr>\n  </thead>\n  <tbody>\n    <tr>\n      <th>13</th>\n      <td>14</td>\n      <td>M</td>\n      <td>63.301370</td>\n      <td>8</td>\n      <td>\\\\fatherserverdw\\Q\\research\\images\\clue_batch2...</td>\n      <td>2022-06-07 17.10.29.ndpi</td>\n      <td>2</td>\n      <td>17359</td>\n      <td>02-17359</td>\n      <td>2</td>\n      <td>...</td>\n      <td>NaN</td>\n      <td>1</td>\n      <td>1.0</td>\n      <td>NaN</td>\n      <td>1</td>\n      <td>NaN</td>\n      <td>NaN</td>\n      <td>NaN</td>\n      <td>NaN</td>\n      <td>NaN</td>\n    </tr>\n    <tr>\n      <th>14</th>\n      <td>15</td>\n      <td>M</td>\n      <td>63.301370</td>\n      <td>8</td>\n      <td>\\\\fatherserverdw\\Q\\research\\images\\clue_batch2...</td>\n      <td>2022-06-07 17.15.33.ndpi</td>\n      <td>2</td>\n      <td>17359</td>\n      <td>02-17359</td>\n      <td>1</td>\n      <td>...</td>\n      <td>left two are good within purple</td>\n      <td>1</td>\n      <td>1.0</td>\n      <td>NaN</td>\n      <td>0</td>\n      <td>NaN</td>\n      <td>NaN</td>\n      <td>NaN</td>\n      <td>NaN</td>\n      <td>NaN</td>\n    </tr>\n    <tr>\n      <th>52</th>\n      <td>53</td>\n      <td>M</td>\n      <td>64.147945</td>\n      <td>27</td>\n      <td>\\\\fatherserverdw\\Q\\research\\images\\clue_batch2...</td>\n      <td>2022-06-07 16.05.45.ndpi</td>\n      <td>3</td>\n      <td>4359</td>\n      <td>03-4359</td>\n      <td>3</td>\n      <td>...</td>\n      <td>could use the left aspect of the left piece (b...</td>\n      <td>1</td>\n      <td>1.0</td>\n      <td>NaN</td>\n      <td>1</td>\n      <td>NaN</td>\n      <td>NaN</td>\n      <td>NaN</td>\n      <td>NaN</td>\n      <td>NaN</td>\n    </tr>\n    <tr>\n      <th>53</th>\n      <td>54</td>\n      <td>M</td>\n      <td>64.147945</td>\n      <td>27</td>\n      <td>\\\\fatherserverdw\\Q\\research\\images\\clue_batch2...</td>\n      <td>2022-06-09 20.12.48.ndpi</td>\n      <td>3</td>\n      <td>4359</td>\n      <td>03-4359</td>\n      <td>1</td>\n      <td>...</td>\n      <td>NaN</td>\n      <td>1</td>\n      <td>1.0</td>\n      <td>NaN</td>\n      <td>1</td>\n      <td>NaN</td>\n      <td>NaN</td>\n      <td>NaN</td>\n      <td>NaN</td>\n      <td>NaN</td>\n    </tr>\n    <tr>\n      <th>54</th>\n      <td>55</td>\n      <td>M</td>\n      <td>64.147945</td>\n      <td>27</td>\n      <td>\\\\fatherserverdw\\Q\\research\\images\\clue_batch2...</td>\n      <td>2022-06-09 20.18.08.ndpi</td>\n      <td>3</td>\n      <td>4359</td>\n      <td>03-4359</td>\n      <td>2</td>\n      <td>...</td>\n      <td>NaN</td>\n      <td>1</td>\n      <td>1.0</td>\n      <td>NaN</td>\n      <td>1</td>\n      <td>NaN</td>\n      <td>NaN</td>\n      <td>NaN</td>\n      <td>NaN</td>\n      <td>NaN</td>\n    </tr>\n    <tr>\n      <th>...</th>\n      <td>...</td>\n      <td>...</td>\n      <td>...</td>\n      <td>...</td>\n      <td>...</td>\n      <td>...</td>\n      <td>...</td>\n      <td>...</td>\n      <td>...</td>\n      <td>...</td>\n      <td>...</td>\n      <td>...</td>\n      <td>...</td>\n      <td>...</td>\n      <td>...</td>\n      <td>...</td>\n      <td>...</td>\n      <td>...</td>\n      <td>...</td>\n      <td>...</td>\n      <td>...</td>\n    </tr>\n    <tr>\n      <th>1155</th>\n      <td>1156</td>\n      <td>F</td>\n      <td>79.035616</td>\n      <td>476</td>\n      <td>\\\\fatherserverdw\\Q\\research\\images\\clue_batch2...</td>\n      <td>2022-06-07 14.56.13.ndpi</td>\n      <td>10</td>\n      <td>5202</td>\n      <td>10-5202</td>\n      <td>A2</td>\n      <td>...</td>\n      <td>NaN</td>\n      <td>1</td>\n      <td>1.0</td>\n      <td>NaN</td>\n      <td>1</td>\n      <td>NaN</td>\n      <td>NaN</td>\n      <td>NaN</td>\n      <td>NaN</td>\n      <td>NaN</td>\n    </tr>\n    <tr>\n      <th>1157</th>\n      <td>1158</td>\n      <td>F</td>\n      <td>79.035616</td>\n      <td>476</td>\n      <td>\\\\fatherserverdw\\Q\\research\\images\\clue_batch2...</td>\n      <td>2022-06-08 16.34.23.ndpi</td>\n      <td>10</td>\n      <td>5202</td>\n      <td>10-5202</td>\n      <td>A3</td>\n      <td>...</td>\n      <td>NaN</td>\n      <td>1</td>\n      <td>1.0</td>\n      <td>NaN</td>\n      <td>1</td>\n      <td>NaN</td>\n      <td>NaN</td>\n      <td>NaN</td>\n      <td>NaN</td>\n      <td>NaN</td>\n    </tr>\n    <tr>\n      <th>1171</th>\n      <td>1172</td>\n      <td>M</td>\n      <td>68.202740</td>\n      <td>483</td>\n      <td>\\\\fatherserverdw\\Q\\research\\images\\clue_batch2...</td>\n      <td>2022-06-08 16.05.29.ndpi</td>\n      <td>10</td>\n      <td>6524</td>\n      <td>10-6524</td>\n      <td>A</td>\n      <td>...</td>\n      <td>NaN</td>\n      <td>1</td>\n      <td>1.0</td>\n      <td>NaN</td>\n      <td>1</td>\n      <td>NaN</td>\n      <td>NaN</td>\n      <td>NaN</td>\n      <td>NaN</td>\n      <td>NaN</td>\n    </tr>\n    <tr>\n      <th>1172</th>\n      <td>1173</td>\n      <td>M</td>\n      <td>92.435616</td>\n      <td>484</td>\n      <td>\\\\fatherserverdw\\Q\\research\\images\\clue_batch2...</td>\n      <td>2022-06-07 17.24.15.ndpi</td>\n      <td>10</td>\n      <td>6634</td>\n      <td>10-6634</td>\n      <td>7</td>\n      <td>...</td>\n      <td>NaN</td>\n      <td>1</td>\n      <td>1.0</td>\n      <td>NaN</td>\n      <td>0</td>\n      <td>NaN</td>\n      <td>NaN</td>\n      <td>NaN</td>\n      <td>NaN</td>\n      <td>NaN</td>\n    </tr>\n    <tr>\n      <th>1180</th>\n      <td>1181</td>\n      <td>F</td>\n      <td>72.712329</td>\n      <td>485</td>\n      <td>\\\\fatherserverdw\\Q\\research\\images\\clue_batch2...</td>\n      <td>2022-06-07 18.06.50.ndpi</td>\n      <td>10</td>\n      <td>6683</td>\n      <td>10-6683</td>\n      <td>A15</td>\n      <td>...</td>\n      <td>NaN</td>\n      <td>1</td>\n      <td>1.0</td>\n      <td>NaN</td>\n      <td>1</td>\n      <td>NaN</td>\n      <td>NaN</td>\n      <td>NaN</td>\n      <td>NaN</td>\n      <td>NaN</td>\n    </tr>\n  </tbody>\n</table>\n<p>215 rows × 33 columns</p>\n</div>"
     },
     "execution_count": 4,
     "metadata": {},
     "output_type": "execute_result"
    }
   ],
   "source": [
    "image_list_csv_raw = pd.read_excel(r'\\\\shelter\\Kyu\\skin_aging\\clue_cohort\\CLUE_image_list_230207.xlsx')\n",
    "image_list_csv = image_list_csv_raw[image_list_csv_raw[\"student score\"]>1]\n",
    "image_list_raw = image_list_csv_raw.filename\n",
    "image_list_csv_raw = image_list_csv_raw[\"filename_raw\"] = image_list_raw\n",
    "image_list_csv_raw = image_list_csv_raw.drop(columns=[\"DL_segmented\"])\n",
    "image_list_csv #215 rows, filtered by student score > 1 (2,3,4,5 used, 0,1 unused)"
   ],
   "metadata": {
    "collapsed": false
   }
  },
  {
   "cell_type": "code",
   "execution_count": null,
   "outputs": [],
   "source": [
    "image_list_csv_raw"
   ],
   "metadata": {
    "collapsed": false,
    "pycharm": {
     "is_executing": true
    }
   }
  },
  {
   "cell_type": "code",
   "execution_count": null,
   "outputs": [],
   "source": [
    "image_list = image_list_csv.filename\n",
    "image_list = [x.replace(\".ndpi\",\"\") for x in image_list]\n",
    "#note: all im_list images have roi annotated"
   ],
   "metadata": {
    "collapsed": false,
    "pycharm": {
     "is_executing": true
    }
   }
  },
  {
   "cell_type": "code",
   "execution_count": null,
   "outputs": [],
   "source": [
    "common = set(roi_list).intersection(dl_list)\n",
    "len(common)"
   ],
   "metadata": {
    "collapsed": false,
    "pycharm": {
     "is_executing": true
    }
   }
  },
  {
   "cell_type": "code",
   "execution_count": null,
   "outputs": [],
   "source": [
    "no_segmask = set(common).difference(set(image_list)) # this is labeled 0, no segmented_mask for these 86 images\n",
    "len(no_segmask) #86"
   ],
   "metadata": {
    "collapsed": false,
    "pycharm": {
     "is_executing": true
    }
   }
  },
  {
   "cell_type": "code",
   "execution_count": null,
   "outputs": [],
   "source": [
    "yes_segmask = set(common).difference(set(no_segmask))\n",
    "len(yes_segmask) #215, 215+86 = 301 (total len)"
   ],
   "metadata": {
    "collapsed": false,
    "pycharm": {
     "is_executing": true
    }
   }
  },
  {
   "cell_type": "code",
   "execution_count": null,
   "outputs": [],
   "source": [],
   "metadata": {
    "collapsed": false,
    "pycharm": {
     "is_executing": true
    }
   }
  },
  {
   "cell_type": "code",
   "execution_count": null,
   "outputs": [],
   "source": [
    "no_segmask"
   ],
   "metadata": {
    "collapsed": false,
    "pycharm": {
     "is_executing": true
    }
   }
  },
  {
   "cell_type": "code",
   "execution_count": null,
   "outputs": [],
   "source": [
    "index_no_segmask ="
   ],
   "metadata": {
    "collapsed": false
   }
  },
  {
   "cell_type": "code",
   "execution_count": null,
   "outputs": [],
   "source": [],
   "metadata": {
    "collapsed": false
   }
  },
  {
   "cell_type": "code",
   "execution_count": null,
   "outputs": [],
   "source": [
    "# now write 0 or 1 accordingly in DL_segmented:\n",
    "for range(0,len())\n",
    "    image_list_csv_raw.at[13, 'DL_segmented'] = 1"
   ],
   "metadata": {
    "collapsed": false
   }
  },
  {
   "cell_type": "code",
   "execution_count": null,
   "outputs": [],
   "source": [],
   "metadata": {
    "collapsed": false
   }
  },
  {
   "cell_type": "code",
   "execution_count": 14,
   "outputs": [
    {
     "ename": "NameError",
     "evalue": "name 'DLmasks' is not defined",
     "output_type": "error",
     "traceback": [
      "\u001B[1;31m---------------------------------------------------------------------------\u001B[0m",
      "\u001B[1;31mNameError\u001B[0m                                 Traceback (most recent call last)",
      "Cell \u001B[1;32mIn[14], line 5\u001B[0m\n\u001B[0;32m      2\u001B[0m \u001B[38;5;66;03m# read a first DLmask and its corresponding roi xml file\u001B[39;00m\n\u001B[0;32m      3\u001B[0m roi_png_dst \u001B[38;5;241m=\u001B[39m os\u001B[38;5;241m.\u001B[39mpath\u001B[38;5;241m.\u001B[39mjoin(roi_src,\u001B[38;5;124m'\u001B[39m\u001B[38;5;124mroi_png_1x\u001B[39m\u001B[38;5;124m'\u001B[39m)\n\u001B[1;32m----> 5\u001B[0m \u001B[38;5;28;01mfor\u001B[39;00m DLmask \u001B[38;5;129;01min\u001B[39;00m \u001B[43mDLmasks\u001B[49m:\n\u001B[0;32m      6\u001B[0m     DLarr \u001B[38;5;241m=\u001B[39m Image\u001B[38;5;241m.\u001B[39mopen(DLmask)\n\u001B[0;32m      7\u001B[0m     roi_fn \u001B[38;5;241m=\u001B[39m DLmask\u001B[38;5;241m.\u001B[39mreplace(\u001B[38;5;124m\"\u001B[39m\u001B[38;5;124mpng\u001B[39m\u001B[38;5;124m\"\u001B[39m,\u001B[38;5;124m\"\u001B[39m\u001B[38;5;124mxml\u001B[39m\u001B[38;5;124m\"\u001B[39m)\n",
      "\u001B[1;31mNameError\u001B[0m: name 'DLmasks' is not defined"
     ]
    }
   ],
   "source": [
    "\n",
    "# read a first DLmask and its corresponding roi xml file\n",
    "roi_png_dst = os.path.join(roi_src,'roi_png_1x')\n",
    "\n",
    "for DLmask in DLmasks:\n",
    "    DLarr = Image.open(DLmask)\n",
    "    roi_fn = DLmask.replace(\"png\",\"xml\")\n",
    "    roi_xml = xml2df(os.path.join(roi_src,roi_fn))\n",
    "    roi_arr = df2png(roi_xml) #for example: \"\\\\shelter\\Kyu\\skin_aging\\clue_cohort\\annotations\\roi\\labeledmask_20rsf\"\n",
    "    # roi_png is an image with grayscale labeled mask, save this.\n",
    "    roi_png = Image.fromarray(roi_arr)\n",
    "    roi_png.save(os.path.join(roi_png_dst,roi_fn.replace(\"xml\",\"png\")))\n",
    "    for sectionID in range(1,np.max(roi_png)):\n",
    "        DL_roi = DLarr[roi_png==sectionID]\n",
    "        composition = dl2comp(DL_roi)\n",
    "        comps.append(compositions)\n",
    "\n",
    "\n",
    "# output composition data by roi\n",
    "xl_dst = r\"\\\\shelter\\Kyu\\skin_aging\\clue_cohort\\CLUE_morphometrics_230207.xlsx\""
   ],
   "metadata": {
    "collapsed": false
   }
  },
  {
   "cell_type": "code",
   "execution_count": null,
   "outputs": [],
   "source": [],
   "metadata": {
    "collapsed": false
   }
  }
 ],
 "metadata": {
  "kernelspec": {
   "display_name": "Python 3",
   "language": "python",
   "name": "python3"
  },
  "language_info": {
   "codemirror_mode": {
    "name": "ipython",
    "version": 2
   },
   "file_extension": ".py",
   "mimetype": "text/x-python",
   "name": "python",
   "nbconvert_exporter": "python",
   "pygments_lexer": "ipython2",
   "version": "2.7.6"
  }
 },
 "nbformat": 4,
 "nbformat_minor": 0
}
