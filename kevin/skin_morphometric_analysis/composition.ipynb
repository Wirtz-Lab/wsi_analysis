{
 "cells": [
  {
   "cell_type": "markdown",
   "source": [
    "### Workflow for getting composition for each roi annotation for each DLmask (DLmask generated from entire mask of ndpi):"
   ],
   "metadata": {
    "collapsed": false
   }
  },
  {
   "cell_type": "code",
   "execution_count": 2,
   "outputs": [],
   "source": [
    "OPENSLIDE_PATH = r'C:\\Users\\Kevin\\Desktop\\openslide-win64-20221217\\bin'\n",
    "\n",
    "import os\n",
    "if hasattr(os, 'add_dll_directory'):\n",
    "    # Python >= 3.8 on Windows\n",
    "    with os.add_dll_directory(OPENSLIDE_PATH):\n",
    "        import openslide\n",
    "else:\n",
    "    import openslide"
   ],
   "metadata": {
    "collapsed": false
   }
  },
  {
   "cell_type": "code",
   "execution_count": 3,
   "outputs": [],
   "source": [
    "import pandas as pd\n",
    "import numpy as np\n",
    "import os\n",
    "from PIL import Image\n",
    "import os\n",
    "import cv2\n",
    "os.environ[\"OPENCV_IO_MAX_IMAGE_PIXELS\"] = pow(2,40).__str__()\n",
    "import xml.etree.ElementTree as ET\n",
    "import numpy as np\n",
    "import pandas as pd\n",
    "import openslide\n",
    "from PIL import Image\n",
    "from matplotlib import pyplot as plt\n",
    "import skimage.measure\n",
    "import matplotlib.pyplot as plt\n",
    "import scipy.stats as stats\n",
    "import torchvision.transforms as transforms\n",
    "from glob import glob\n",
    "from time import time\n",
    "from skimage.measure import label"
   ],
   "metadata": {
    "collapsed": false
   }
  },
  {
   "cell_type": "code",
   "execution_count": 5,
   "outputs": [],
   "source": [
    "# quick pandas work to see if ndpi's in image list have the DL segmented masks!\n",
    "# read xml files for roi annotations\n",
    "roi_src = r'\\\\shelter\\Kyu\\skin_aging\\clue_cohort\\annotations\\roi'\n",
    "# read DL mask files for DL segmented masks\n",
    "dl_src = r'\\\\shelter\\Kyu\\skin_aging\\clue_cohort\\DLmask1um'\n",
    "# read image list and fill in DL_segmented column (0=DLmask missing, 1=DLmask exists)\n",
    "im_list = r'\\\\shelter\\Kyu\\skin_aging\\clue_cohort\\CLUE_image_list_230207.xlsx'"
   ],
   "metadata": {
    "collapsed": false
   }
  },
  {
   "cell_type": "code",
   "execution_count": 7,
   "outputs": [],
   "source": [
    "roi_list = [x for x in os.listdir(roi_src) if x.endswith('.xml')] #301 rows\n",
    "dl_list = [x for x in os.listdir(dl_src) if x.endswith('.tif')] #301 rows\n",
    "roi_complete_path = [os.path.join(x,roi_src) for x in roi_list]\n",
    "dl_complete_path = [os.path.join(x,dl_src) for x in dl_list]\n",
    "roi_raw = [x.replace(\".xml\",\"\") for x in roi_list]\n",
    "dl_raw = [x.replace(\".tif\",\"\") for x in dl_list]"
   ],
   "metadata": {
    "collapsed": false
   }
  },
  {
   "cell_type": "code",
   "execution_count": 4,
   "outputs": [],
   "source": [
    "# image_list_csv_raw = pd.read_excel(r'\\\\shelter\\Kyu\\skin_aging\\clue_cohort\\CLUE_image_list_230207.xlsx')"
   ],
   "metadata": {
    "collapsed": false
   }
  },
  {
   "cell_type": "code",
   "execution_count": null,
   "outputs": [],
   "source": [
    "# dl_list = [x.replace(\".tif\",\"\") for x in dl_list]"
   ],
   "metadata": {
    "collapsed": false
   }
  },
  {
   "cell_type": "code",
   "execution_count": 5,
   "outputs": [],
   "source": [
    "# def check_DLexist(row):\n",
    "#     row = row.replace('.ndpi','')\n",
    "#     return row in dl_list"
   ],
   "metadata": {
    "collapsed": false
   }
  },
  {
   "cell_type": "code",
   "execution_count": 6,
   "outputs": [],
   "source": [
    "# image_list_csv_raw['DL_segmented'] = image_list_csv_raw.apply(lambda row : check_DLexist(row['filename']), axis = 1)"
   ],
   "metadata": {
    "collapsed": false
   }
  },
  {
   "cell_type": "code",
   "execution_count": 8,
   "outputs": [
    {
     "data": {
      "text/plain": "   index gender        age  pid  \\\n0      1    NaN        NaN    1   \n1      2    NaN        NaN    1   \n2      3    NaN        NaN    2   \n3      4    NaN        NaN    2   \n4      5      M  55.646575    3   \n\n                                                path  \\\n0  \\\\fatherserverdw\\Q\\research\\images\\clue_batch2...   \n1  \\\\fatherserverdw\\Q\\research\\images\\clue_batch2...   \n2  \\\\fatherserverdw\\Q\\research\\images\\clue_batch2...   \n3  \\\\fatherserverdw\\Q\\research\\images\\clue_batch2...   \n4  \\\\fatherserverdw\\kyuex\\clue images\\2022-06-30 ...   \n\n                   filename  year  sample id label name sub label  ...  \\\n0  2022-06-10 17.43.31.ndpi     2      15926   02-15926         1  ...   \n1  2022-06-10 20.49.53.ndpi     2      15926   02-15926         2  ...   \n2  2022-06-10 17.55.47.ndpi     2      16107   02-16107        FS  ...   \n3  2022-06-08 15.45.22.ndpi     2      16107   02-16107        FS  ...   \n4  2022-06-30 17.54.56.ndpi     2      16145   02-16145        A2  ...   \n\n  Inbal comment  ROI ANNOTATED (0 :not annotated 1.annotated) roi reviewed  \\\n0           NaN                                           NaN          NaN   \n1           NaN                                           NaN          NaN   \n2           NaN                                           NaN          NaN   \n3           NaN                                           NaN          NaN   \n4           NaN                                             1          1.0   \n\n  Nroi hypodermis (1=yes, 0=no) has hair DV200 use_visium DL_annotated  \\\n0  NaN                        1      NaN   NaN        NaN          NaN   \n1  NaN                        1      NaN   NaN        NaN          NaN   \n2  NaN                        0      NaN   NaN        NaN          NaN   \n3  NaN                        1      NaN   NaN        NaN          NaN   \n4  NaN                        1      NaN   NaN        NaN          NaN   \n\n   DL_segmented  \n0         False  \n1         False  \n2         False  \n3         False  \n4         False  \n\n[5 rows x 33 columns]",
      "text/html": "<div>\n<style scoped>\n    .dataframe tbody tr th:only-of-type {\n        vertical-align: middle;\n    }\n\n    .dataframe tbody tr th {\n        vertical-align: top;\n    }\n\n    .dataframe thead th {\n        text-align: right;\n    }\n</style>\n<table border=\"1\" class=\"dataframe\">\n  <thead>\n    <tr style=\"text-align: right;\">\n      <th></th>\n      <th>index</th>\n      <th>gender</th>\n      <th>age</th>\n      <th>pid</th>\n      <th>path</th>\n      <th>filename</th>\n      <th>year</th>\n      <th>sample id</th>\n      <th>label name</th>\n      <th>sub label</th>\n      <th>...</th>\n      <th>Inbal comment</th>\n      <th>ROI ANNOTATED (0 :not annotated 1.annotated)</th>\n      <th>roi reviewed</th>\n      <th>Nroi</th>\n      <th>hypodermis (1=yes, 0=no)</th>\n      <th>has hair</th>\n      <th>DV200</th>\n      <th>use_visium</th>\n      <th>DL_annotated</th>\n      <th>DL_segmented</th>\n    </tr>\n  </thead>\n  <tbody>\n    <tr>\n      <th>0</th>\n      <td>1</td>\n      <td>NaN</td>\n      <td>NaN</td>\n      <td>1</td>\n      <td>\\\\fatherserverdw\\Q\\research\\images\\clue_batch2...</td>\n      <td>2022-06-10 17.43.31.ndpi</td>\n      <td>2</td>\n      <td>15926</td>\n      <td>02-15926</td>\n      <td>1</td>\n      <td>...</td>\n      <td>NaN</td>\n      <td>NaN</td>\n      <td>NaN</td>\n      <td>NaN</td>\n      <td>1</td>\n      <td>NaN</td>\n      <td>NaN</td>\n      <td>NaN</td>\n      <td>NaN</td>\n      <td>False</td>\n    </tr>\n    <tr>\n      <th>1</th>\n      <td>2</td>\n      <td>NaN</td>\n      <td>NaN</td>\n      <td>1</td>\n      <td>\\\\fatherserverdw\\Q\\research\\images\\clue_batch2...</td>\n      <td>2022-06-10 20.49.53.ndpi</td>\n      <td>2</td>\n      <td>15926</td>\n      <td>02-15926</td>\n      <td>2</td>\n      <td>...</td>\n      <td>NaN</td>\n      <td>NaN</td>\n      <td>NaN</td>\n      <td>NaN</td>\n      <td>1</td>\n      <td>NaN</td>\n      <td>NaN</td>\n      <td>NaN</td>\n      <td>NaN</td>\n      <td>False</td>\n    </tr>\n    <tr>\n      <th>2</th>\n      <td>3</td>\n      <td>NaN</td>\n      <td>NaN</td>\n      <td>2</td>\n      <td>\\\\fatherserverdw\\Q\\research\\images\\clue_batch2...</td>\n      <td>2022-06-10 17.55.47.ndpi</td>\n      <td>2</td>\n      <td>16107</td>\n      <td>02-16107</td>\n      <td>FS</td>\n      <td>...</td>\n      <td>NaN</td>\n      <td>NaN</td>\n      <td>NaN</td>\n      <td>NaN</td>\n      <td>0</td>\n      <td>NaN</td>\n      <td>NaN</td>\n      <td>NaN</td>\n      <td>NaN</td>\n      <td>False</td>\n    </tr>\n    <tr>\n      <th>3</th>\n      <td>4</td>\n      <td>NaN</td>\n      <td>NaN</td>\n      <td>2</td>\n      <td>\\\\fatherserverdw\\Q\\research\\images\\clue_batch2...</td>\n      <td>2022-06-08 15.45.22.ndpi</td>\n      <td>2</td>\n      <td>16107</td>\n      <td>02-16107</td>\n      <td>FS</td>\n      <td>...</td>\n      <td>NaN</td>\n      <td>NaN</td>\n      <td>NaN</td>\n      <td>NaN</td>\n      <td>1</td>\n      <td>NaN</td>\n      <td>NaN</td>\n      <td>NaN</td>\n      <td>NaN</td>\n      <td>False</td>\n    </tr>\n    <tr>\n      <th>4</th>\n      <td>5</td>\n      <td>M</td>\n      <td>55.646575</td>\n      <td>3</td>\n      <td>\\\\fatherserverdw\\kyuex\\clue images\\2022-06-30 ...</td>\n      <td>2022-06-30 17.54.56.ndpi</td>\n      <td>2</td>\n      <td>16145</td>\n      <td>02-16145</td>\n      <td>A2</td>\n      <td>...</td>\n      <td>NaN</td>\n      <td>1</td>\n      <td>1.0</td>\n      <td>NaN</td>\n      <td>1</td>\n      <td>NaN</td>\n      <td>NaN</td>\n      <td>NaN</td>\n      <td>NaN</td>\n      <td>False</td>\n    </tr>\n  </tbody>\n</table>\n<p>5 rows × 33 columns</p>\n</div>"
     },
     "execution_count": 8,
     "metadata": {},
     "output_type": "execute_result"
    }
   ],
   "source": [
    "# image_list_csv_raw.head()"
   ],
   "metadata": {
    "collapsed": false
   }
  },
  {
   "cell_type": "code",
   "execution_count": 16,
   "outputs": [],
   "source": [
    "# image_list_csv_raw.to_excel(r'\\\\shelter\\Kyu\\skin_aging\\clue_cohort\\CLUE_image_list_230207_v2.xlsx')"
   ],
   "metadata": {
    "collapsed": false
   }
  },
  {
   "cell_type": "code",
   "execution_count": null,
   "outputs": [],
   "source": [
    "# First, input xml_filepath and output a dataframe of X,Y coordinates in general. (can be used for ROI as well)\n",
    "def xml_to_df(xml_filepath):\n",
    "    tree = ET.parse(xml_filepath)\n",
    "    root = tree.getroot()\n",
    "    append_df = []\n",
    "    for index, Annotation in enumerate(root.iter(\"Annotation\")):\n",
    "        for Region in Annotation.iter('Region'):\n",
    "            x = np.array([Vertex.get('X') for Vertex in Region.iter('Vertex')])\n",
    "            y = np.array([Vertex.get('Y') for Vertex in Region.iter('Vertex')])\n",
    "            id = np.array([int(Region.get('Id'))])\n",
    "            classnames = index + 1\n",
    "            coord_dict = {\"ClassNames\": [classnames], \"X\": [x], \"Y\": [y], \"ID\": [id]}\n",
    "            df = pd.DataFrame(data = coord_dict)\n",
    "            df.ID = df.ID.astype(int)\n",
    "            append_df.append(df)\n",
    "    coord_df = pd.concat(append_df).reset_index(drop=True)\n",
    "    return(coord_df)"
   ],
   "metadata": {
    "collapsed": false
   }
  },
  {
   "cell_type": "code",
   "execution_count": null,
   "outputs": [],
   "source": [
    "# read a first DLmask and its corresponding roi xml file\n",
    "\n",
    "roi_png_dst = os.path.join(roi_src,'roi_png_1x')\n",
    "DLmasks =\n",
    "for DLmask in DLmasks:\n",
    "    DLarr = Image.open(DLmask)\n",
    "    roi_fn = DLmask.replace(\"png\",\"xml\")\n",
    "    roi_xml = xml_to_df(os.path.join(roi_src,roi_fn))\n",
    "    roi_arr = df2png(roi_xml) #for example: \"\\\\shelter\\Kyu\\skin_aging\\clue_cohort\\annotations\\roi\\labeledmask_20rsf\"\n",
    "    # roi_png is an image with grayscale labeled mask, save this.\n",
    "    roi_png = Image.fromarray(roi_arr)\n",
    "    roi_png.save(os.path.join(roi_png_dst,roi_fn.replace(\"xml\",\"png\")))\n",
    "    for sectionID in range(1,np.max(roi_png)):\n",
    "        DL_roi = DLarr[roi_png==sectionID]\n",
    "        composition = dl2comp(DL_roi)\n",
    "        comps.append(compositions)\n",
    "\n",
    "\n",
    "# output composition data by roi\n",
    "xl_dst = r\"\\\\shelter\\Kyu\\skin_aging\\clue_cohort\\CLUE_morphometrics_230207.xlsx\""
   ],
   "metadata": {
    "collapsed": false
   }
  },
  {
   "cell_type": "code",
   "execution_count": null,
   "outputs": [],
   "source": [],
   "metadata": {
    "collapsed": false
   }
  }
 ],
 "metadata": {
  "kernelspec": {
   "display_name": "Python 3",
   "language": "python",
   "name": "python3"
  },
  "language_info": {
   "codemirror_mode": {
    "name": "ipython",
    "version": 2
   },
   "file_extension": ".py",
   "mimetype": "text/x-python",
   "name": "python",
   "nbconvert_exporter": "python",
   "pygments_lexer": "ipython2",
   "version": "2.7.6"
  }
 },
 "nbformat": 4,
 "nbformat_minor": 0
}
