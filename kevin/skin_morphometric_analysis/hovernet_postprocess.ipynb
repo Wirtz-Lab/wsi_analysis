{
 "cells": [
  {
   "cell_type": "markdown",
   "source": [
    "### This part is hovernet preprocess: After MATLAB part of analysis finished on the MATLAB code, this is for modifying some of the wsi(ndpi)src, roisrc, and ndpisrc so that we're only using the 214 image files that we want to use. The MATLAB all_output_concat was manually made by just copy and pasting contents of the each of the excel output files from the MATLAB workflow. After running hovernet workflow, manually add hovernet result to all_output_concat to match 1090 features.\n",
    "### These src's are used in the hovernet_json2df.py, just making sure all the src's are correct so that hovernet_json2df.py runs properly!"
   ],
   "metadata": {
    "collapsed": false
   }
  },
  {
   "cell_type": "code",
   "execution_count": 1,
   "outputs": [],
   "source": [
    "import pandas as pd\n",
    "import numpy as np\n",
    "import seaborn as sns\n",
    "import matplotlib.pyplot as plt\n",
    "import os\n",
    "import shutil\n",
    "import pickle\n",
    "from tqdm import tqdm"
   ],
   "metadata": {
    "collapsed": false
   }
  },
  {
   "cell_type": "code",
   "execution_count": null,
   "outputs": [],
   "source": [
    "xlsrc = r'\\\\shelter\\Kyu\\skin_aging\\clue_cohort\\CLUE_image_list_230207_v2.xlsx'\n",
    "ndpisrc = r'\\\\shelter\\Kyu\\skin_aging\\clue_cohort\\wsi'\n",
    "xl = pd.read_excel(xlsrc)\n",
    "xl_tmp = xl[xl[\"student score\"] > 1]\n",
    "wsi_list = xl_tmp.filename\n",
    "# create ndpi path:\n",
    "wsi_ndpi_list = [os.path.join(ndpisrc, x) for x in wsi_list]\n",
    "dst_src = r'\\\\shelter\\Kyu\\skin_aging\\clue_cohort\\wsi\\desired_wsi'\n",
    "for filename in wsi_ndpi_list:\n",
    "    shutil.copy(filename, dst_src)\n",
    "# create dl path:\n",
    "dlsrc = r'\\\\shelter\\Kyu\\skin_aging\\clue_cohort\\DLmask1um'\n",
    "wsi_list = [x.replace(\".ndpi\", \".tif\") for x in wsi_list]\n",
    "wsi_dl_list = [os.path.join(dlsrc, x) for x in wsi_list]\n",
    "dst_src1 = r'\\\\shelter\\Kyu\\skin_aging\\clue_cohort\\DLmask1um\\desired_DLmask'\n",
    "for filename in wsi_dl_list:\n",
    "    shutil.copy(filename, dst_src1)\n",
    "# create roi path:\n",
    "roisrc = r'\\\\shelter\\Kyu\\skin_aging\\clue_cohort\\annotations\\roi\\labeledmask_v2_021723'\n",
    "wsi_list = [x.replace(\".tif\", \".png\") for x in wsi_list]\n",
    "wsi_roi_list = [os.path.join(roisrc, x) for x in wsi_list]\n",
    "dst_src2 = r'\\\\shelter\\Kyu\\skin_aging\\clue_cohort\\annotations\\roi\\labeledmask_v2_021723\\desired_roi'\n",
    "for filename in wsi_roi_list:\n",
    "    shutil.copy(filename, dst_src2)"
   ],
   "metadata": {
    "collapsed": false
   }
  },
  {
   "cell_type": "markdown",
   "source": [],
   "metadata": {
    "collapsed": false
   }
  },
  {
   "cell_type": "markdown",
   "source": [
    "### This part is hovernet postprocess: This code belows processes the generated .pkl file from hovernet_json2df.py to the .xlsx file in a form that we desire (the average and std values over each patient's roi):"
   ],
   "metadata": {
    "collapsed": false
   }
  },
  {
   "cell_type": "code",
   "execution_count": 1,
   "outputs": [],
   "source": [
    "import os\n",
    "import pickle\n",
    "from tqdm import tqdm\n",
    "import pandas as pd\n",
    "import numpy as np"
   ],
   "metadata": {
    "collapsed": false
   }
  },
  {
   "cell_type": "code",
   "execution_count": 2,
   "outputs": [],
   "source": [
    "pkl_src=r'\\\\shelter\\Kyu\\skin_aging\\clue_cohort\\wsi\\hovernet_out\\df'\n",
    "output_src=r'\\\\shelter\\Kyu\\skin_aging\\clue_cohort\\wsi\\hovernet_out\\df\\output_excel'\n",
    "pkl_list = [x for x in os.listdir(pkl_src) if x.endswith(\".pkl\")]\n",
    "pkl_full_list = [os.path.join(pkl_src,x) for x in pkl_list] # natsorted"
   ],
   "metadata": {
    "collapsed": false
   }
  },
  {
   "cell_type": "code",
   "execution_count": 3,
   "outputs": [],
   "source": [
    "# # code to test one excel:\n",
    "# total_avg_df = pd.DataFrame()\n",
    "# total_std_df = pd.DataFrame()\n",
    "#\n",
    "# with open(pkl_full_list[2], 'rb') as f:\n",
    "#     print(\"converting pkl to df:\")\n",
    "#     df = pickle.load(f)\n",
    "#     df[\"Ncell\"] = 0\n",
    "#     all_ncell = []\n",
    "#     for kk in range(df.shape[0]):\n",
    "#         contour = df[\"contour\"][kk]\n",
    "#         ncell = len(contour)\n",
    "#         all_ncell.append(ncell)\n",
    "#     df[\"Ncell\"] = all_ncell\n",
    "#\n",
    "#     ecm_df = df[df.type==10]\n",
    "#     ecm_df1 = ecm_df.copy()\n",
    "#     ecm_df2 = ecm_df.copy()\n",
    "#     ecm_df3 = ecm_df.copy()\n",
    "#     # aspect ratio > 3, circularity < 0.5, size > 50um2, far from other cells = stromal fibroblast\n",
    "#     ecm_df1.loc[(ecm_df1.AspectRatio>3) & (ecm_df1.Circularity<0.5) & (ecm_df1.Area>50) & (ecm_df1.dist2nearest>30),'type'] = 12 #spindle-like cell / fibroblasts\n",
    "#     # #  size < 50um2, far from other cells = stromal immune\n",
    "#     ecm_df2.loc[(ecm_df2.Area<1000) & (ecm_df2.dist2nearest>30),'type'] = 13 #resident immune cells\n",
    "#     # # aspect ratio < 1.5?, circulartiy > 0.5, size < 50um2, close to other cells = inflammatory cells\n",
    "#     ecm_df3.loc[(ecm_df3.AspectRatio<3) & (ecm_df3.Circularity>0.5) & (ecm_df3.Area<100) & (ecm_df3.dist2nearest<30),'type'] = 14\n",
    "#     ecm_df1 = ecm_df1[ecm_df1.type==12]\n",
    "#     ecm_df2 = ecm_df2[ecm_df2.type==13]\n",
    "#     ecm_df3 = ecm_df3[ecm_df3.type==14]\n",
    "#     df = pd.concat([df,ecm_df1],axis=0)\n",
    "#     df = pd.concat([df,ecm_df2],axis=0)\n",
    "#     df = pd.concat([df,ecm_df3],axis=0)\n",
    "#     dfs_by_type = {}\n",
    "#     for t in range(2, 15):\n",
    "#         dfs_by_type[t] = df[df['type'] == t].reset_index(drop=True)\n",
    "#     expanded_dfs = []\n",
    "#     for tt, df_t in dfs_by_type.items():\n",
    "#         new_cols = {f\"{col}_type{tt}\": df_t[col] for col in df_t.columns if col != 'type'}\n",
    "#         expanded_dfs.append(pd.DataFrame(new_cols))\n",
    "#\n",
    "#     all_set = set(np.unique(df[\"inroi\"]))\n",
    "#     # apply threshold of 12 to aspect ratio and extract distance and drop non float/int columns and calculate avg:\n",
    "#     for idx in range(len(expanded_dfs)):\n",
    "#         type_df = expanded_dfs[idx]\n",
    "#         roi_col = 'inroi_type' + str(idx+2)\n",
    "#         type_set = set(np.unique(expanded_dfs[idx][roi_col]))\n",
    "#         diff = all_set - type_set\n",
    "#         if len(diff) > 0:\n",
    "#             print(\"rois {} not included in type {}\".format(diff,idx+2))\n",
    "#\n",
    "#         ar_col = 'AspectRatio_type' + str(idx+2)\n",
    "#         type_df[ar_col] = np.where(type_df[ar_col] > 12, np.nan, type_df[ar_col])\n",
    "#\n",
    "#\n",
    "#         # extract distance:\n",
    "#         dist_col = 'c2t_distance_type' + str(idx+2)\n",
    "#         distdf = type_df[dist_col]\n",
    "#         new_df_cols = [dist_col + \"_\" + str(kk) for kk in range(2,13)]\n",
    "#         new_df = pd.DataFrame(columns=new_df_cols)\n",
    "#         new_df = new_df.reindex(range(distdf.shape[0]))\n",
    "#\n",
    "#         for idx1 in range(distdf.shape[0]):\n",
    "#             row = distdf[idx1]\n",
    "#             if np.any(pd.isnull(row)):\n",
    "#                 continue\n",
    "#             for idx2, value in enumerate(row):\n",
    "#                 new_df.loc[idx1,new_df_cols[idx2]] = value\n",
    "#\n",
    "#         type_df = pd.concat([type_df,new_df],axis=1) # concat the extracted distance to original type_df\n",
    "#\n",
    "#         # drop non float/int columns:\n",
    "#         dropped_cols = []\n",
    "#         for col2 in type_df.columns:\n",
    "#             if type_df[col2].dtype not in [int, float, \"int64\",\"float64\"]:\n",
    "#                 dropped_cols.append(col2)\n",
    "#                 if col2 == roi_col:\n",
    "#                     continue\n",
    "#                 if \"c2t_distance_type\" in col2 and len(col2.split(str(idx+2))[1]):\n",
    "#                     continue\n",
    "#                 type_df.drop(columns=col2,inplace=True)\n",
    "#         # replace inf's and nan's with nan's and take mean/std and concatenate\n",
    "#         type_df = type_df.replace([np.inf, -np.inf, np.nan], np.nan)\n",
    "#         avg_type_df = type_df.groupby(roi_col).mean()\n",
    "#         std_type_df = type_df.groupby(roi_col).std()\n",
    "#         total_avg_df = pd.concat([total_avg_df,avg_type_df],axis=1)\n",
    "#         total_std_df = pd.concat([total_std_df,std_type_df],axis=1)\n",
    "#         # save\n"
   ],
   "metadata": {
    "collapsed": false
   }
  },
  {
   "cell_type": "code",
   "execution_count": 4,
   "outputs": [],
   "source": [
    "pkl_src=r'\\\\shelter\\Kyu\\skin_aging\\clue_cohort\\wsi\\hovernet_out\\df'\n",
    "output_src=r'\\\\shelter\\Kyu\\skin_aging\\clue_cohort\\wsi\\hovernet_out\\df\\output_excel'\n",
    "pkl_list = [x for x in os.listdir(pkl_src) if x.endswith(\".pkl\")]\n",
    "pkl_full_list = [os.path.join(pkl_src,x) for x in pkl_list]"
   ],
   "metadata": {
    "collapsed": false
   }
  },
  {
   "cell_type": "code",
   "execution_count": 6,
   "outputs": [
    {
     "name": "stderr",
     "output_type": "stream",
     "text": [
      "Pickle File Processed:   0%|\u001B[31m          \u001B[0m| 0/214 [00:00<?, ?it/s]"
     ]
    },
    {
     "name": "stdout",
     "output_type": "stream",
     "text": [
      "converting pkl to df:\n"
     ]
    },
    {
     "name": "stderr",
     "output_type": "stream",
     "text": [
      "C:\\Users\\Kevin\\AppData\\Local\\Temp\\ipykernel_12976\\3288184646.py:84: FutureWarning: The default value of numeric_only in DataFrameGroupBy.mean is deprecated. In a future version, numeric_only will default to False. Either specify numeric_only or select only columns which should be valid for the function.\n",
      "  avg_type_df = type_df.groupby(roi_col).mean()\n",
      "C:\\Users\\Kevin\\AppData\\Local\\Temp\\ipykernel_12976\\3288184646.py:85: FutureWarning: The default value of numeric_only in DataFrameGroupBy.std is deprecated. In a future version, numeric_only will default to False. Either specify numeric_only or select only columns which should be valid for the function.\n",
      "  std_type_df = type_df.groupby(roi_col).std()\n",
      "Pickle File Processed:   0%|\u001B[31m          \u001B[0m| 1/214 [00:05<18:41,  5.26s/it]"
     ]
    },
    {
     "name": "stdout",
     "output_type": "stream",
     "text": [
      "saving excel\n",
      "converting pkl to df:\n"
     ]
    },
    {
     "name": "stderr",
     "output_type": "stream",
     "text": [
      "C:\\Users\\Kevin\\AppData\\Local\\Temp\\ipykernel_12976\\3288184646.py:84: FutureWarning: The default value of numeric_only in DataFrameGroupBy.mean is deprecated. In a future version, numeric_only will default to False. Either specify numeric_only or select only columns which should be valid for the function.\n",
      "  avg_type_df = type_df.groupby(roi_col).mean()\n",
      "C:\\Users\\Kevin\\AppData\\Local\\Temp\\ipykernel_12976\\3288184646.py:85: FutureWarning: The default value of numeric_only in DataFrameGroupBy.std is deprecated. In a future version, numeric_only will default to False. Either specify numeric_only or select only columns which should be valid for the function.\n",
      "  std_type_df = type_df.groupby(roi_col).std()\n"
     ]
    },
    {
     "name": "stdout",
     "output_type": "stream",
     "text": [
      "rois {3} not included out of all rois {1, 2, 3, 4} for type 11\n"
     ]
    },
    {
     "name": "stderr",
     "output_type": "stream",
     "text": [
      "Pickle File Processed:   1%|\u001B[31m          \u001B[0m| 2/214 [01:08<2:19:00, 39.34s/it]"
     ]
    },
    {
     "name": "stdout",
     "output_type": "stream",
     "text": [
      "saving excel\n",
      "converting pkl to df:\n"
     ]
    },
    {
     "name": "stderr",
     "output_type": "stream",
     "text": [
      "C:\\Users\\Kevin\\AppData\\Local\\Temp\\ipykernel_12976\\3288184646.py:84: FutureWarning: The default value of numeric_only in DataFrameGroupBy.mean is deprecated. In a future version, numeric_only will default to False. Either specify numeric_only or select only columns which should be valid for the function.\n",
      "  avg_type_df = type_df.groupby(roi_col).mean()\n",
      "C:\\Users\\Kevin\\AppData\\Local\\Temp\\ipykernel_12976\\3288184646.py:85: FutureWarning: The default value of numeric_only in DataFrameGroupBy.std is deprecated. In a future version, numeric_only will default to False. Either specify numeric_only or select only columns which should be valid for the function.\n",
      "  std_type_df = type_df.groupby(roi_col).std()\n"
     ]
    },
    {
     "name": "stdout",
     "output_type": "stream",
     "text": [
      "rois {3, 4} not included out of all rois {1, 2, 3, 4} for type 3\n"
     ]
    },
    {
     "name": "stderr",
     "output_type": "stream",
     "text": [
      "Pickle File Processed:   1%|\u001B[31m▏         \u001B[0m| 3/214 [01:17<1:30:10, 25.64s/it]"
     ]
    },
    {
     "name": "stdout",
     "output_type": "stream",
     "text": [
      "saving excel\n",
      "converting pkl to df:\n"
     ]
    },
    {
     "name": "stderr",
     "output_type": "stream",
     "text": [
      "C:\\Users\\Kevin\\AppData\\Local\\Temp\\ipykernel_12976\\3288184646.py:84: FutureWarning: The default value of numeric_only in DataFrameGroupBy.mean is deprecated. In a future version, numeric_only will default to False. Either specify numeric_only or select only columns which should be valid for the function.\n",
      "  avg_type_df = type_df.groupby(roi_col).mean()\n",
      "C:\\Users\\Kevin\\AppData\\Local\\Temp\\ipykernel_12976\\3288184646.py:85: FutureWarning: The default value of numeric_only in DataFrameGroupBy.std is deprecated. In a future version, numeric_only will default to False. Either specify numeric_only or select only columns which should be valid for the function.\n",
      "  std_type_df = type_df.groupby(roi_col).std()\n",
      "Pickle File Processed:   2%|\u001B[31m▏         \u001B[0m| 4/214 [01:26<1:06:21, 18.96s/it]"
     ]
    },
    {
     "name": "stdout",
     "output_type": "stream",
     "text": [
      "saving excel\n",
      "converting pkl to df:\n"
     ]
    },
    {
     "name": "stderr",
     "output_type": "stream",
     "text": [
      "C:\\Users\\Kevin\\AppData\\Local\\Temp\\ipykernel_12976\\3288184646.py:84: FutureWarning: The default value of numeric_only in DataFrameGroupBy.mean is deprecated. In a future version, numeric_only will default to False. Either specify numeric_only or select only columns which should be valid for the function.\n",
      "  avg_type_df = type_df.groupby(roi_col).mean()\n",
      "C:\\Users\\Kevin\\AppData\\Local\\Temp\\ipykernel_12976\\3288184646.py:85: FutureWarning: The default value of numeric_only in DataFrameGroupBy.std is deprecated. In a future version, numeric_only will default to False. Either specify numeric_only or select only columns which should be valid for the function.\n",
      "  std_type_df = type_df.groupby(roi_col).std()\n",
      "Pickle File Processed:   2%|\u001B[31m▏         \u001B[0m| 5/214 [01:32<50:01, 14.36s/it]  "
     ]
    },
    {
     "name": "stdout",
     "output_type": "stream",
     "text": [
      "saving excel\n",
      "converting pkl to df:\n"
     ]
    },
    {
     "name": "stderr",
     "output_type": "stream",
     "text": [
      "C:\\Users\\Kevin\\AppData\\Local\\Temp\\ipykernel_12976\\3288184646.py:84: FutureWarning: The default value of numeric_only in DataFrameGroupBy.mean is deprecated. In a future version, numeric_only will default to False. Either specify numeric_only or select only columns which should be valid for the function.\n",
      "  avg_type_df = type_df.groupby(roi_col).mean()\n",
      "C:\\Users\\Kevin\\AppData\\Local\\Temp\\ipykernel_12976\\3288184646.py:85: FutureWarning: The default value of numeric_only in DataFrameGroupBy.std is deprecated. In a future version, numeric_only will default to False. Either specify numeric_only or select only columns which should be valid for the function.\n",
      "  std_type_df = type_df.groupby(roi_col).std()\n",
      "C:\\Users\\Kevin\\AppData\\Local\\Temp\\ipykernel_12976\\3288184646.py:84: FutureWarning: The default value of numeric_only in DataFrameGroupBy.mean is deprecated. In a future version, numeric_only will default to False. Either specify numeric_only or select only columns which should be valid for the function.\n",
      "  avg_type_df = type_df.groupby(roi_col).mean()\n",
      "C:\\Users\\Kevin\\AppData\\Local\\Temp\\ipykernel_12976\\3288184646.py:85: FutureWarning: The default value of numeric_only in DataFrameGroupBy.std is deprecated. In a future version, numeric_only will default to False. Either specify numeric_only or select only columns which should be valid for the function.\n",
      "  std_type_df = type_df.groupby(roi_col).std()\n",
      "C:\\Users\\Kevin\\AppData\\Local\\Temp\\ipykernel_12976\\3288184646.py:84: FutureWarning: The default value of numeric_only in DataFrameGroupBy.mean is deprecated. In a future version, numeric_only will default to False. Either specify numeric_only or select only columns which should be valid for the function.\n",
      "  avg_type_df = type_df.groupby(roi_col).mean()\n",
      "C:\\Users\\Kevin\\AppData\\Local\\Temp\\ipykernel_12976\\3288184646.py:85: FutureWarning: The default value of numeric_only in DataFrameGroupBy.std is deprecated. In a future version, numeric_only will default to False. Either specify numeric_only or select only columns which should be valid for the function.\n",
      "  std_type_df = type_df.groupby(roi_col).std()\n"
     ]
    },
    {
     "name": "stdout",
     "output_type": "stream",
     "text": [
      "rois {1} not included out of all rois {1} for type 3\n",
      "rois {1} not included out of all rois {1} for type 6\n"
     ]
    },
    {
     "name": "stderr",
     "output_type": "stream",
     "text": [
      "Pickle File Processed:   3%|\u001B[31m▎         \u001B[0m| 6/214 [01:36<37:05, 10.70s/it]"
     ]
    },
    {
     "name": "stdout",
     "output_type": "stream",
     "text": [
      "saving excel\n",
      "converting pkl to df:\n"
     ]
    },
    {
     "name": "stderr",
     "output_type": "stream",
     "text": [
      "C:\\Users\\Kevin\\AppData\\Local\\Temp\\ipykernel_12976\\3288184646.py:84: FutureWarning: The default value of numeric_only in DataFrameGroupBy.mean is deprecated. In a future version, numeric_only will default to False. Either specify numeric_only or select only columns which should be valid for the function.\n",
      "  avg_type_df = type_df.groupby(roi_col).mean()\n",
      "C:\\Users\\Kevin\\AppData\\Local\\Temp\\ipykernel_12976\\3288184646.py:85: FutureWarning: The default value of numeric_only in DataFrameGroupBy.std is deprecated. In a future version, numeric_only will default to False. Either specify numeric_only or select only columns which should be valid for the function.\n",
      "  std_type_df = type_df.groupby(roi_col).std()\n",
      "Pickle File Processed:   3%|\u001B[31m▎         \u001B[0m| 7/214 [01:39<28:26,  8.25s/it]"
     ]
    },
    {
     "name": "stdout",
     "output_type": "stream",
     "text": [
      "saving excel\n",
      "converting pkl to df:\n"
     ]
    },
    {
     "name": "stderr",
     "output_type": "stream",
     "text": [
      "C:\\Users\\Kevin\\AppData\\Local\\Temp\\ipykernel_12976\\3288184646.py:84: FutureWarning: The default value of numeric_only in DataFrameGroupBy.mean is deprecated. In a future version, numeric_only will default to False. Either specify numeric_only or select only columns which should be valid for the function.\n",
      "  avg_type_df = type_df.groupby(roi_col).mean()\n",
      "C:\\Users\\Kevin\\AppData\\Local\\Temp\\ipykernel_12976\\3288184646.py:85: FutureWarning: The default value of numeric_only in DataFrameGroupBy.std is deprecated. In a future version, numeric_only will default to False. Either specify numeric_only or select only columns which should be valid for the function.\n",
      "  std_type_df = type_df.groupby(roi_col).std()\n"
     ]
    },
    {
     "name": "stdout",
     "output_type": "stream",
     "text": [
      "rois {1} not included out of all rois {1, 2, 3} for type 6\n"
     ]
    },
    {
     "name": "stderr",
     "output_type": "stream",
     "text": [
      "Pickle File Processed:   4%|\u001B[31m▎         \u001B[0m| 8/214 [01:47<27:48,  8.10s/it]"
     ]
    },
    {
     "name": "stdout",
     "output_type": "stream",
     "text": [
      "saving excel\n",
      "converting pkl to df:\n"
     ]
    },
    {
     "name": "stderr",
     "output_type": "stream",
     "text": [
      "C:\\Users\\Kevin\\AppData\\Local\\Temp\\ipykernel_12976\\3288184646.py:84: FutureWarning: The default value of numeric_only in DataFrameGroupBy.mean is deprecated. In a future version, numeric_only will default to False. Either specify numeric_only or select only columns which should be valid for the function.\n",
      "  avg_type_df = type_df.groupby(roi_col).mean()\n",
      "C:\\Users\\Kevin\\AppData\\Local\\Temp\\ipykernel_12976\\3288184646.py:85: FutureWarning: The default value of numeric_only in DataFrameGroupBy.std is deprecated. In a future version, numeric_only will default to False. Either specify numeric_only or select only columns which should be valid for the function.\n",
      "  std_type_df = type_df.groupby(roi_col).std()\n",
      "Pickle File Processed:   4%|\u001B[31m▍         \u001B[0m| 9/214 [01:53<25:27,  7.45s/it]"
     ]
    },
    {
     "name": "stdout",
     "output_type": "stream",
     "text": [
      "saving excel\n",
      "converting pkl to df:\n"
     ]
    },
    {
     "name": "stderr",
     "output_type": "stream",
     "text": [
      "C:\\Users\\Kevin\\AppData\\Local\\Temp\\ipykernel_12976\\3288184646.py:84: FutureWarning: The default value of numeric_only in DataFrameGroupBy.mean is deprecated. In a future version, numeric_only will default to False. Either specify numeric_only or select only columns which should be valid for the function.\n",
      "  avg_type_df = type_df.groupby(roi_col).mean()\n",
      "C:\\Users\\Kevin\\AppData\\Local\\Temp\\ipykernel_12976\\3288184646.py:85: FutureWarning: The default value of numeric_only in DataFrameGroupBy.std is deprecated. In a future version, numeric_only will default to False. Either specify numeric_only or select only columns which should be valid for the function.\n",
      "  std_type_df = type_df.groupby(roi_col).std()\n",
      "Pickle File Processed:   5%|\u001B[31m▍         \u001B[0m| 10/214 [02:13<38:41, 11.38s/it]"
     ]
    },
    {
     "name": "stdout",
     "output_type": "stream",
     "text": [
      "saving excel\n",
      "converting pkl to df:\n"
     ]
    },
    {
     "name": "stderr",
     "output_type": "stream",
     "text": [
      "C:\\Users\\Kevin\\AppData\\Local\\Temp\\ipykernel_12976\\3288184646.py:84: FutureWarning: The default value of numeric_only in DataFrameGroupBy.mean is deprecated. In a future version, numeric_only will default to False. Either specify numeric_only or select only columns which should be valid for the function.\n",
      "  avg_type_df = type_df.groupby(roi_col).mean()\n",
      "C:\\Users\\Kevin\\AppData\\Local\\Temp\\ipykernel_12976\\3288184646.py:85: FutureWarning: The default value of numeric_only in DataFrameGroupBy.std is deprecated. In a future version, numeric_only will default to False. Either specify numeric_only or select only columns which should be valid for the function.\n",
      "  std_type_df = type_df.groupby(roi_col).std()\n",
      "Pickle File Processed:   5%|\u001B[31m▌         \u001B[0m| 11/214 [02:18<31:39,  9.36s/it]"
     ]
    },
    {
     "name": "stdout",
     "output_type": "stream",
     "text": [
      "saving excel\n",
      "converting pkl to df:\n"
     ]
    },
    {
     "name": "stderr",
     "output_type": "stream",
     "text": [
      "C:\\Users\\Kevin\\AppData\\Local\\Temp\\ipykernel_12976\\3288184646.py:84: FutureWarning: The default value of numeric_only in DataFrameGroupBy.mean is deprecated. In a future version, numeric_only will default to False. Either specify numeric_only or select only columns which should be valid for the function.\n",
      "  avg_type_df = type_df.groupby(roi_col).mean()\n",
      "C:\\Users\\Kevin\\AppData\\Local\\Temp\\ipykernel_12976\\3288184646.py:85: FutureWarning: The default value of numeric_only in DataFrameGroupBy.std is deprecated. In a future version, numeric_only will default to False. Either specify numeric_only or select only columns which should be valid for the function.\n",
      "  std_type_df = type_df.groupby(roi_col).std()\n"
     ]
    },
    {
     "name": "stdout",
     "output_type": "stream",
     "text": [
      "rois {2} not included out of all rois {1, 2} for type 11\n"
     ]
    },
    {
     "name": "stderr",
     "output_type": "stream",
     "text": [
      "Pickle File Processed:   6%|\u001B[31m▌         \u001B[0m| 12/214 [02:20<24:38,  7.32s/it]"
     ]
    },
    {
     "name": "stdout",
     "output_type": "stream",
     "text": [
      "saving excel\n",
      "converting pkl to df:\n"
     ]
    },
    {
     "name": "stderr",
     "output_type": "stream",
     "text": [
      "C:\\Users\\Kevin\\AppData\\Local\\Temp\\ipykernel_12976\\3288184646.py:84: FutureWarning: The default value of numeric_only in DataFrameGroupBy.mean is deprecated. In a future version, numeric_only will default to False. Either specify numeric_only or select only columns which should be valid for the function.\n",
      "  avg_type_df = type_df.groupby(roi_col).mean()\n",
      "C:\\Users\\Kevin\\AppData\\Local\\Temp\\ipykernel_12976\\3288184646.py:85: FutureWarning: The default value of numeric_only in DataFrameGroupBy.std is deprecated. In a future version, numeric_only will default to False. Either specify numeric_only or select only columns which should be valid for the function.\n",
      "  std_type_df = type_df.groupby(roi_col).std()\n"
     ]
    },
    {
     "name": "stdout",
     "output_type": "stream",
     "text": [
      "saving excel\n"
     ]
    },
    {
     "name": "stderr",
     "output_type": "stream",
     "text": [
      "Pickle File Processed:   6%|\u001B[31m▌         \u001B[0m| 13/214 [02:26<22:22,  6.68s/it]"
     ]
    },
    {
     "name": "stdout",
     "output_type": "stream",
     "text": [
      "converting pkl to df:\n"
     ]
    },
    {
     "name": "stderr",
     "output_type": "stream",
     "text": [
      "C:\\Users\\Kevin\\AppData\\Local\\Temp\\ipykernel_12976\\3288184646.py:84: FutureWarning: The default value of numeric_only in DataFrameGroupBy.mean is deprecated. In a future version, numeric_only will default to False. Either specify numeric_only or select only columns which should be valid for the function.\n",
      "  avg_type_df = type_df.groupby(roi_col).mean()\n",
      "C:\\Users\\Kevin\\AppData\\Local\\Temp\\ipykernel_12976\\3288184646.py:85: FutureWarning: The default value of numeric_only in DataFrameGroupBy.std is deprecated. In a future version, numeric_only will default to False. Either specify numeric_only or select only columns which should be valid for the function.\n",
      "  std_type_df = type_df.groupby(roi_col).std()\n"
     ]
    },
    {
     "name": "stdout",
     "output_type": "stream",
     "text": [
      "saving excel\n"
     ]
    },
    {
     "name": "stderr",
     "output_type": "stream",
     "text": [
      "Pickle File Processed:   7%|\u001B[31m▋         \u001B[0m| 14/214 [02:55<44:50, 13.45s/it]"
     ]
    },
    {
     "name": "stdout",
     "output_type": "stream",
     "text": [
      "converting pkl to df:\n"
     ]
    },
    {
     "name": "stderr",
     "output_type": "stream",
     "text": [
      "C:\\Users\\Kevin\\AppData\\Local\\Temp\\ipykernel_12976\\3288184646.py:84: FutureWarning: The default value of numeric_only in DataFrameGroupBy.mean is deprecated. In a future version, numeric_only will default to False. Either specify numeric_only or select only columns which should be valid for the function.\n",
      "  avg_type_df = type_df.groupby(roi_col).mean()\n",
      "C:\\Users\\Kevin\\AppData\\Local\\Temp\\ipykernel_12976\\3288184646.py:85: FutureWarning: The default value of numeric_only in DataFrameGroupBy.std is deprecated. In a future version, numeric_only will default to False. Either specify numeric_only or select only columns which should be valid for the function.\n",
      "  std_type_df = type_df.groupby(roi_col).std()\n"
     ]
    },
    {
     "name": "stdout",
     "output_type": "stream",
     "text": [
      "saving excel\n"
     ]
    },
    {
     "name": "stderr",
     "output_type": "stream",
     "text": [
      "Pickle File Processed:   7%|\u001B[31m▋         \u001B[0m| 15/214 [03:10<46:36, 14.05s/it]"
     ]
    },
    {
     "name": "stdout",
     "output_type": "stream",
     "text": [
      "converting pkl to df:\n"
     ]
    },
    {
     "name": "stderr",
     "output_type": "stream",
     "text": [
      "C:\\Users\\Kevin\\AppData\\Local\\Temp\\ipykernel_12976\\3288184646.py:84: FutureWarning: The default value of numeric_only in DataFrameGroupBy.mean is deprecated. In a future version, numeric_only will default to False. Either specify numeric_only or select only columns which should be valid for the function.\n",
      "  avg_type_df = type_df.groupby(roi_col).mean()\n",
      "C:\\Users\\Kevin\\AppData\\Local\\Temp\\ipykernel_12976\\3288184646.py:85: FutureWarning: The default value of numeric_only in DataFrameGroupBy.std is deprecated. In a future version, numeric_only will default to False. Either specify numeric_only or select only columns which should be valid for the function.\n",
      "  std_type_df = type_df.groupby(roi_col).std()\n",
      "C:\\Users\\Kevin\\AppData\\Local\\Temp\\ipykernel_12976\\3288184646.py:84: FutureWarning: The default value of numeric_only in DataFrameGroupBy.mean is deprecated. In a future version, numeric_only will default to False. Either specify numeric_only or select only columns which should be valid for the function.\n",
      "  avg_type_df = type_df.groupby(roi_col).mean()\n",
      "C:\\Users\\Kevin\\AppData\\Local\\Temp\\ipykernel_12976\\3288184646.py:85: FutureWarning: The default value of numeric_only in DataFrameGroupBy.std is deprecated. In a future version, numeric_only will default to False. Either specify numeric_only or select only columns which should be valid for the function.\n",
      "  std_type_df = type_df.groupby(roi_col).std()\n"
     ]
    },
    {
     "name": "stdout",
     "output_type": "stream",
     "text": [
      "rois {1} not included out of all rois {1} for type 3\n",
      "saving excel\n"
     ]
    },
    {
     "name": "stderr",
     "output_type": "stream",
     "text": [
      "Pickle File Processed:   7%|\u001B[31m▋         \u001B[0m| 16/214 [03:15<37:06, 11.25s/it]"
     ]
    },
    {
     "name": "stdout",
     "output_type": "stream",
     "text": [
      "converting pkl to df:\n"
     ]
    },
    {
     "name": "stderr",
     "output_type": "stream",
     "text": [
      "C:\\Users\\Kevin\\AppData\\Local\\Temp\\ipykernel_12976\\3288184646.py:84: FutureWarning: The default value of numeric_only in DataFrameGroupBy.mean is deprecated. In a future version, numeric_only will default to False. Either specify numeric_only or select only columns which should be valid for the function.\n",
      "  avg_type_df = type_df.groupby(roi_col).mean()\n",
      "C:\\Users\\Kevin\\AppData\\Local\\Temp\\ipykernel_12976\\3288184646.py:85: FutureWarning: The default value of numeric_only in DataFrameGroupBy.std is deprecated. In a future version, numeric_only will default to False. Either specify numeric_only or select only columns which should be valid for the function.\n",
      "  std_type_df = type_df.groupby(roi_col).std()\n"
     ]
    },
    {
     "name": "stdout",
     "output_type": "stream",
     "text": [
      "rois {1} not included out of all rois {1, 2} for type 3\n",
      "rois {2} not included out of all rois {1, 2} for type 11\n",
      "saving excel\n"
     ]
    },
    {
     "name": "stderr",
     "output_type": "stream",
     "text": [
      "Pickle File Processed:   8%|\u001B[31m▊         \u001B[0m| 17/214 [03:24<34:42, 10.57s/it]"
     ]
    },
    {
     "name": "stdout",
     "output_type": "stream",
     "text": [
      "converting pkl to df:\n"
     ]
    },
    {
     "name": "stderr",
     "output_type": "stream",
     "text": [
      "C:\\Users\\Kevin\\AppData\\Local\\Temp\\ipykernel_12976\\3288184646.py:84: FutureWarning: The default value of numeric_only in DataFrameGroupBy.mean is deprecated. In a future version, numeric_only will default to False. Either specify numeric_only or select only columns which should be valid for the function.\n",
      "  avg_type_df = type_df.groupby(roi_col).mean()\n",
      "C:\\Users\\Kevin\\AppData\\Local\\Temp\\ipykernel_12976\\3288184646.py:85: FutureWarning: The default value of numeric_only in DataFrameGroupBy.std is deprecated. In a future version, numeric_only will default to False. Either specify numeric_only or select only columns which should be valid for the function.\n",
      "  std_type_df = type_df.groupby(roi_col).std()\n",
      "C:\\Users\\Kevin\\AppData\\Local\\Temp\\ipykernel_12976\\3288184646.py:84: FutureWarning: The default value of numeric_only in DataFrameGroupBy.mean is deprecated. In a future version, numeric_only will default to False. Either specify numeric_only or select only columns which should be valid for the function.\n",
      "  avg_type_df = type_df.groupby(roi_col).mean()\n",
      "C:\\Users\\Kevin\\AppData\\Local\\Temp\\ipykernel_12976\\3288184646.py:85: FutureWarning: The default value of numeric_only in DataFrameGroupBy.std is deprecated. In a future version, numeric_only will default to False. Either specify numeric_only or select only columns which should be valid for the function.\n",
      "  std_type_df = type_df.groupby(roi_col).std()\n"
     ]
    },
    {
     "name": "stdout",
     "output_type": "stream",
     "text": [
      "rois {1} not included out of all rois {1} for type 3\n",
      "rois {1} not included out of all rois {1} for type 11\n"
     ]
    },
    {
     "name": "stderr",
     "output_type": "stream",
     "text": [
      "C:\\Users\\Kevin\\AppData\\Local\\Temp\\ipykernel_12976\\3288184646.py:84: FutureWarning: The default value of numeric_only in DataFrameGroupBy.mean is deprecated. In a future version, numeric_only will default to False. Either specify numeric_only or select only columns which should be valid for the function.\n",
      "  avg_type_df = type_df.groupby(roi_col).mean()\n",
      "C:\\Users\\Kevin\\AppData\\Local\\Temp\\ipykernel_12976\\3288184646.py:85: FutureWarning: The default value of numeric_only in DataFrameGroupBy.std is deprecated. In a future version, numeric_only will default to False. Either specify numeric_only or select only columns which should be valid for the function.\n",
      "  std_type_df = type_df.groupby(roi_col).std()\n"
     ]
    },
    {
     "name": "stdout",
     "output_type": "stream",
     "text": [
      "saving excel\n"
     ]
    },
    {
     "name": "stderr",
     "output_type": "stream",
     "text": [
      "Pickle File Processed:   8%|\u001B[31m▊         \u001B[0m| 18/214 [03:28<28:35,  8.75s/it]"
     ]
    },
    {
     "name": "stdout",
     "output_type": "stream",
     "text": [
      "converting pkl to df:\n"
     ]
    },
    {
     "name": "stderr",
     "output_type": "stream",
     "text": [
      "C:\\Users\\Kevin\\AppData\\Local\\Temp\\ipykernel_12976\\3288184646.py:84: FutureWarning: The default value of numeric_only in DataFrameGroupBy.mean is deprecated. In a future version, numeric_only will default to False. Either specify numeric_only or select only columns which should be valid for the function.\n",
      "  avg_type_df = type_df.groupby(roi_col).mean()\n",
      "C:\\Users\\Kevin\\AppData\\Local\\Temp\\ipykernel_12976\\3288184646.py:85: FutureWarning: The default value of numeric_only in DataFrameGroupBy.std is deprecated. In a future version, numeric_only will default to False. Either specify numeric_only or select only columns which should be valid for the function.\n",
      "  std_type_df = type_df.groupby(roi_col).std()\n",
      "C:\\Users\\Kevin\\AppData\\Local\\Temp\\ipykernel_12976\\3288184646.py:84: FutureWarning: The default value of numeric_only in DataFrameGroupBy.mean is deprecated. In a future version, numeric_only will default to False. Either specify numeric_only or select only columns which should be valid for the function.\n",
      "  avg_type_df = type_df.groupby(roi_col).mean()\n",
      "C:\\Users\\Kevin\\AppData\\Local\\Temp\\ipykernel_12976\\3288184646.py:85: FutureWarning: The default value of numeric_only in DataFrameGroupBy.std is deprecated. In a future version, numeric_only will default to False. Either specify numeric_only or select only columns which should be valid for the function.\n",
      "  std_type_df = type_df.groupby(roi_col).std()\n"
     ]
    },
    {
     "name": "stdout",
     "output_type": "stream",
     "text": [
      "rois {1} not included out of all rois {1} for type 3\n",
      "saving excel\n"
     ]
    },
    {
     "name": "stderr",
     "output_type": "stream",
     "text": [
      "Pickle File Processed:   9%|\u001B[31m▉         \u001B[0m| 19/214 [03:38<29:18,  9.02s/it]"
     ]
    },
    {
     "name": "stdout",
     "output_type": "stream",
     "text": [
      "converting pkl to df:\n"
     ]
    },
    {
     "name": "stderr",
     "output_type": "stream",
     "text": [
      "C:\\Users\\Kevin\\AppData\\Local\\Temp\\ipykernel_12976\\3288184646.py:84: FutureWarning: The default value of numeric_only in DataFrameGroupBy.mean is deprecated. In a future version, numeric_only will default to False. Either specify numeric_only or select only columns which should be valid for the function.\n",
      "  avg_type_df = type_df.groupby(roi_col).mean()\n",
      "C:\\Users\\Kevin\\AppData\\Local\\Temp\\ipykernel_12976\\3288184646.py:85: FutureWarning: The default value of numeric_only in DataFrameGroupBy.std is deprecated. In a future version, numeric_only will default to False. Either specify numeric_only or select only columns which should be valid for the function.\n",
      "  std_type_df = type_df.groupby(roi_col).std()\n"
     ]
    },
    {
     "name": "stdout",
     "output_type": "stream",
     "text": [
      "rois {1} not included out of all rois {1} for type 11\n"
     ]
    },
    {
     "name": "stderr",
     "output_type": "stream",
     "text": [
      "C:\\Users\\Kevin\\AppData\\Local\\Temp\\ipykernel_12976\\3288184646.py:84: FutureWarning: The default value of numeric_only in DataFrameGroupBy.mean is deprecated. In a future version, numeric_only will default to False. Either specify numeric_only or select only columns which should be valid for the function.\n",
      "  avg_type_df = type_df.groupby(roi_col).mean()\n",
      "C:\\Users\\Kevin\\AppData\\Local\\Temp\\ipykernel_12976\\3288184646.py:85: FutureWarning: The default value of numeric_only in DataFrameGroupBy.std is deprecated. In a future version, numeric_only will default to False. Either specify numeric_only or select only columns which should be valid for the function.\n",
      "  std_type_df = type_df.groupby(roi_col).std()\n"
     ]
    },
    {
     "name": "stdout",
     "output_type": "stream",
     "text": [
      "saving excel\n"
     ]
    },
    {
     "name": "stderr",
     "output_type": "stream",
     "text": [
      "Pickle File Processed:   9%|\u001B[31m▉         \u001B[0m| 20/214 [03:44<26:06,  8.07s/it]"
     ]
    },
    {
     "name": "stdout",
     "output_type": "stream",
     "text": [
      "converting pkl to df:\n"
     ]
    },
    {
     "name": "stderr",
     "output_type": "stream",
     "text": [
      "C:\\Users\\Kevin\\AppData\\Local\\Temp\\ipykernel_12976\\3288184646.py:84: FutureWarning: The default value of numeric_only in DataFrameGroupBy.mean is deprecated. In a future version, numeric_only will default to False. Either specify numeric_only or select only columns which should be valid for the function.\n",
      "  avg_type_df = type_df.groupby(roi_col).mean()\n",
      "C:\\Users\\Kevin\\AppData\\Local\\Temp\\ipykernel_12976\\3288184646.py:85: FutureWarning: The default value of numeric_only in DataFrameGroupBy.std is deprecated. In a future version, numeric_only will default to False. Either specify numeric_only or select only columns which should be valid for the function.\n",
      "  std_type_df = type_df.groupby(roi_col).std()\n"
     ]
    },
    {
     "name": "stdout",
     "output_type": "stream",
     "text": [
      "saving excel\n"
     ]
    },
    {
     "name": "stderr",
     "output_type": "stream",
     "text": [
      "Pickle File Processed:  10%|\u001B[31m▉         \u001B[0m| 21/214 [03:57<30:22,  9.44s/it]"
     ]
    },
    {
     "name": "stdout",
     "output_type": "stream",
     "text": [
      "converting pkl to df:\n"
     ]
    },
    {
     "name": "stderr",
     "output_type": "stream",
     "text": [
      "C:\\Users\\Kevin\\AppData\\Local\\Temp\\ipykernel_12976\\3288184646.py:84: FutureWarning: The default value of numeric_only in DataFrameGroupBy.mean is deprecated. In a future version, numeric_only will default to False. Either specify numeric_only or select only columns which should be valid for the function.\n",
      "  avg_type_df = type_df.groupby(roi_col).mean()\n",
      "C:\\Users\\Kevin\\AppData\\Local\\Temp\\ipykernel_12976\\3288184646.py:85: FutureWarning: The default value of numeric_only in DataFrameGroupBy.std is deprecated. In a future version, numeric_only will default to False. Either specify numeric_only or select only columns which should be valid for the function.\n",
      "  std_type_df = type_df.groupby(roi_col).std()\n"
     ]
    },
    {
     "name": "stdout",
     "output_type": "stream",
     "text": [
      "saving excel\n"
     ]
    },
    {
     "name": "stderr",
     "output_type": "stream",
     "text": [
      "Pickle File Processed:  10%|\u001B[31m█         \u001B[0m| 22/214 [04:06<30:12,  9.44s/it]"
     ]
    },
    {
     "name": "stdout",
     "output_type": "stream",
     "text": [
      "converting pkl to df:\n"
     ]
    },
    {
     "name": "stderr",
     "output_type": "stream",
     "text": [
      "C:\\Users\\Kevin\\AppData\\Local\\Temp\\ipykernel_12976\\3288184646.py:84: FutureWarning: The default value of numeric_only in DataFrameGroupBy.mean is deprecated. In a future version, numeric_only will default to False. Either specify numeric_only or select only columns which should be valid for the function.\n",
      "  avg_type_df = type_df.groupby(roi_col).mean()\n",
      "C:\\Users\\Kevin\\AppData\\Local\\Temp\\ipykernel_12976\\3288184646.py:85: FutureWarning: The default value of numeric_only in DataFrameGroupBy.std is deprecated. In a future version, numeric_only will default to False. Either specify numeric_only or select only columns which should be valid for the function.\n",
      "  std_type_df = type_df.groupby(roi_col).std()\n"
     ]
    },
    {
     "name": "stdout",
     "output_type": "stream",
     "text": [
      "rois {2} not included out of all rois {1, 2} for type 6\n",
      "saving excel\n"
     ]
    },
    {
     "name": "stderr",
     "output_type": "stream",
     "text": [
      "Pickle File Processed:  11%|\u001B[31m█         \u001B[0m| 23/214 [04:29<43:02, 13.52s/it]"
     ]
    },
    {
     "name": "stdout",
     "output_type": "stream",
     "text": [
      "converting pkl to df:\n"
     ]
    },
    {
     "name": "stderr",
     "output_type": "stream",
     "text": [
      "C:\\Users\\Kevin\\AppData\\Local\\Temp\\ipykernel_12976\\3288184646.py:84: FutureWarning: The default value of numeric_only in DataFrameGroupBy.mean is deprecated. In a future version, numeric_only will default to False. Either specify numeric_only or select only columns which should be valid for the function.\n",
      "  avg_type_df = type_df.groupby(roi_col).mean()\n",
      "C:\\Users\\Kevin\\AppData\\Local\\Temp\\ipykernel_12976\\3288184646.py:85: FutureWarning: The default value of numeric_only in DataFrameGroupBy.std is deprecated. In a future version, numeric_only will default to False. Either specify numeric_only or select only columns which should be valid for the function.\n",
      "  std_type_df = type_df.groupby(roi_col).std()\n",
      "C:\\Users\\Kevin\\AppData\\Local\\Temp\\ipykernel_12976\\3288184646.py:84: FutureWarning: The default value of numeric_only in DataFrameGroupBy.mean is deprecated. In a future version, numeric_only will default to False. Either specify numeric_only or select only columns which should be valid for the function.\n",
      "  avg_type_df = type_df.groupby(roi_col).mean()\n",
      "C:\\Users\\Kevin\\AppData\\Local\\Temp\\ipykernel_12976\\3288184646.py:85: FutureWarning: The default value of numeric_only in DataFrameGroupBy.std is deprecated. In a future version, numeric_only will default to False. Either specify numeric_only or select only columns which should be valid for the function.\n",
      "  std_type_df = type_df.groupby(roi_col).std()\n"
     ]
    },
    {
     "name": "stdout",
     "output_type": "stream",
     "text": [
      "rois {1, 2, 3} not included out of all rois {1, 2, 3} for type 3\n",
      "rois {1, 2} not included out of all rois {1, 2, 3} for type 4\n",
      "rois {1, 2, 3} not included out of all rois {1, 2, 3} for type 11\n"
     ]
    },
    {
     "name": "stderr",
     "output_type": "stream",
     "text": [
      "C:\\Users\\Kevin\\AppData\\Local\\Temp\\ipykernel_12976\\3288184646.py:84: FutureWarning: The default value of numeric_only in DataFrameGroupBy.mean is deprecated. In a future version, numeric_only will default to False. Either specify numeric_only or select only columns which should be valid for the function.\n",
      "  avg_type_df = type_df.groupby(roi_col).mean()\n",
      "C:\\Users\\Kevin\\AppData\\Local\\Temp\\ipykernel_12976\\3288184646.py:85: FutureWarning: The default value of numeric_only in DataFrameGroupBy.std is deprecated. In a future version, numeric_only will default to False. Either specify numeric_only or select only columns which should be valid for the function.\n",
      "  std_type_df = type_df.groupby(roi_col).std()\n"
     ]
    },
    {
     "name": "stdout",
     "output_type": "stream",
     "text": [
      "saving excel\n"
     ]
    },
    {
     "name": "stderr",
     "output_type": "stream",
     "text": [
      "Pickle File Processed:  11%|\u001B[31m█         \u001B[0m| 24/214 [04:35<35:22, 11.17s/it]"
     ]
    },
    {
     "name": "stdout",
     "output_type": "stream",
     "text": [
      "converting pkl to df:\n"
     ]
    },
    {
     "name": "stderr",
     "output_type": "stream",
     "text": [
      "C:\\Users\\Kevin\\AppData\\Local\\Temp\\ipykernel_12976\\3288184646.py:84: FutureWarning: The default value of numeric_only in DataFrameGroupBy.mean is deprecated. In a future version, numeric_only will default to False. Either specify numeric_only or select only columns which should be valid for the function.\n",
      "  avg_type_df = type_df.groupby(roi_col).mean()\n",
      "C:\\Users\\Kevin\\AppData\\Local\\Temp\\ipykernel_12976\\3288184646.py:85: FutureWarning: The default value of numeric_only in DataFrameGroupBy.std is deprecated. In a future version, numeric_only will default to False. Either specify numeric_only or select only columns which should be valid for the function.\n",
      "  std_type_df = type_df.groupby(roi_col).std()\n"
     ]
    },
    {
     "name": "stdout",
     "output_type": "stream",
     "text": [
      "saving excel\n"
     ]
    },
    {
     "name": "stderr",
     "output_type": "stream",
     "text": [
      "Pickle File Processed:  12%|\u001B[31m█▏        \u001B[0m| 25/214 [04:42<31:44, 10.08s/it]"
     ]
    },
    {
     "name": "stdout",
     "output_type": "stream",
     "text": [
      "converting pkl to df:\n"
     ]
    },
    {
     "name": "stderr",
     "output_type": "stream",
     "text": [
      "C:\\Users\\Kevin\\AppData\\Local\\Temp\\ipykernel_12976\\3288184646.py:84: FutureWarning: The default value of numeric_only in DataFrameGroupBy.mean is deprecated. In a future version, numeric_only will default to False. Either specify numeric_only or select only columns which should be valid for the function.\n",
      "  avg_type_df = type_df.groupby(roi_col).mean()\n",
      "C:\\Users\\Kevin\\AppData\\Local\\Temp\\ipykernel_12976\\3288184646.py:85: FutureWarning: The default value of numeric_only in DataFrameGroupBy.std is deprecated. In a future version, numeric_only will default to False. Either specify numeric_only or select only columns which should be valid for the function.\n",
      "  std_type_df = type_df.groupby(roi_col).std()\n"
     ]
    },
    {
     "name": "stdout",
     "output_type": "stream",
     "text": [
      "rois {1} not included out of all rois {1, 2} for type 3\n",
      "rois {1} not included out of all rois {1, 2} for type 4\n",
      "saving excel\n"
     ]
    },
    {
     "name": "stderr",
     "output_type": "stream",
     "text": [
      "Pickle File Processed:  12%|\u001B[31m█▏        \u001B[0m| 26/214 [04:49<27:58,  8.93s/it]"
     ]
    },
    {
     "name": "stdout",
     "output_type": "stream",
     "text": [
      "converting pkl to df:\n"
     ]
    },
    {
     "name": "stderr",
     "output_type": "stream",
     "text": [
      "C:\\Users\\Kevin\\AppData\\Local\\Temp\\ipykernel_12976\\3288184646.py:84: FutureWarning: The default value of numeric_only in DataFrameGroupBy.mean is deprecated. In a future version, numeric_only will default to False. Either specify numeric_only or select only columns which should be valid for the function.\n",
      "  avg_type_df = type_df.groupby(roi_col).mean()\n",
      "C:\\Users\\Kevin\\AppData\\Local\\Temp\\ipykernel_12976\\3288184646.py:85: FutureWarning: The default value of numeric_only in DataFrameGroupBy.std is deprecated. In a future version, numeric_only will default to False. Either specify numeric_only or select only columns which should be valid for the function.\n",
      "  std_type_df = type_df.groupby(roi_col).std()\n"
     ]
    },
    {
     "name": "stdout",
     "output_type": "stream",
     "text": [
      "saving excel\n"
     ]
    },
    {
     "name": "stderr",
     "output_type": "stream",
     "text": [
      "Pickle File Processed:  13%|\u001B[31m█▎        \u001B[0m| 27/214 [05:14<42:56, 13.78s/it]"
     ]
    },
    {
     "name": "stdout",
     "output_type": "stream",
     "text": [
      "converting pkl to df:\n"
     ]
    },
    {
     "name": "stderr",
     "output_type": "stream",
     "text": [
      "C:\\Users\\Kevin\\AppData\\Local\\Temp\\ipykernel_12976\\3288184646.py:84: FutureWarning: The default value of numeric_only in DataFrameGroupBy.mean is deprecated. In a future version, numeric_only will default to False. Either specify numeric_only or select only columns which should be valid for the function.\n",
      "  avg_type_df = type_df.groupby(roi_col).mean()\n",
      "C:\\Users\\Kevin\\AppData\\Local\\Temp\\ipykernel_12976\\3288184646.py:85: FutureWarning: The default value of numeric_only in DataFrameGroupBy.std is deprecated. In a future version, numeric_only will default to False. Either specify numeric_only or select only columns which should be valid for the function.\n",
      "  std_type_df = type_df.groupby(roi_col).std()\n"
     ]
    },
    {
     "name": "stdout",
     "output_type": "stream",
     "text": [
      "rois {1} not included out of all rois {1, 2, 3} for type 3\n",
      "saving excel\n"
     ]
    },
    {
     "name": "stderr",
     "output_type": "stream",
     "text": [
      "Pickle File Processed:  13%|\u001B[31m█▎        \u001B[0m| 28/214 [05:33<48:13, 15.56s/it]"
     ]
    },
    {
     "name": "stdout",
     "output_type": "stream",
     "text": [
      "converting pkl to df:\n"
     ]
    },
    {
     "name": "stderr",
     "output_type": "stream",
     "text": [
      "C:\\Users\\Kevin\\AppData\\Local\\Temp\\ipykernel_12976\\3288184646.py:84: FutureWarning: The default value of numeric_only in DataFrameGroupBy.mean is deprecated. In a future version, numeric_only will default to False. Either specify numeric_only or select only columns which should be valid for the function.\n",
      "  avg_type_df = type_df.groupby(roi_col).mean()\n",
      "C:\\Users\\Kevin\\AppData\\Local\\Temp\\ipykernel_12976\\3288184646.py:85: FutureWarning: The default value of numeric_only in DataFrameGroupBy.std is deprecated. In a future version, numeric_only will default to False. Either specify numeric_only or select only columns which should be valid for the function.\n",
      "  std_type_df = type_df.groupby(roi_col).std()\n"
     ]
    },
    {
     "name": "stdout",
     "output_type": "stream",
     "text": [
      "saving excel\n"
     ]
    },
    {
     "name": "stderr",
     "output_type": "stream",
     "text": [
      "Pickle File Processed:  14%|\u001B[31m█▎        \u001B[0m| 29/214 [05:48<47:16, 15.33s/it]"
     ]
    },
    {
     "name": "stdout",
     "output_type": "stream",
     "text": [
      "converting pkl to df:\n"
     ]
    },
    {
     "name": "stderr",
     "output_type": "stream",
     "text": [
      "C:\\Users\\Kevin\\AppData\\Local\\Temp\\ipykernel_12976\\3288184646.py:84: FutureWarning: The default value of numeric_only in DataFrameGroupBy.mean is deprecated. In a future version, numeric_only will default to False. Either specify numeric_only or select only columns which should be valid for the function.\n",
      "  avg_type_df = type_df.groupby(roi_col).mean()\n",
      "C:\\Users\\Kevin\\AppData\\Local\\Temp\\ipykernel_12976\\3288184646.py:85: FutureWarning: The default value of numeric_only in DataFrameGroupBy.std is deprecated. In a future version, numeric_only will default to False. Either specify numeric_only or select only columns which should be valid for the function.\n",
      "  std_type_df = type_df.groupby(roi_col).std()\n"
     ]
    },
    {
     "name": "stdout",
     "output_type": "stream",
     "text": [
      "saving excel\n"
     ]
    },
    {
     "name": "stderr",
     "output_type": "stream",
     "text": [
      "Pickle File Processed:  14%|\u001B[31m█▍        \u001B[0m| 30/214 [06:04<47:20, 15.44s/it]"
     ]
    },
    {
     "name": "stdout",
     "output_type": "stream",
     "text": [
      "converting pkl to df:\n"
     ]
    },
    {
     "name": "stderr",
     "output_type": "stream",
     "text": [
      "C:\\Users\\Kevin\\AppData\\Local\\Temp\\ipykernel_12976\\3288184646.py:84: FutureWarning: The default value of numeric_only in DataFrameGroupBy.mean is deprecated. In a future version, numeric_only will default to False. Either specify numeric_only or select only columns which should be valid for the function.\n",
      "  avg_type_df = type_df.groupby(roi_col).mean()\n",
      "C:\\Users\\Kevin\\AppData\\Local\\Temp\\ipykernel_12976\\3288184646.py:85: FutureWarning: The default value of numeric_only in DataFrameGroupBy.std is deprecated. In a future version, numeric_only will default to False. Either specify numeric_only or select only columns which should be valid for the function.\n",
      "  std_type_df = type_df.groupby(roi_col).std()\n"
     ]
    },
    {
     "name": "stdout",
     "output_type": "stream",
     "text": [
      "saving excel\n"
     ]
    },
    {
     "name": "stderr",
     "output_type": "stream",
     "text": [
      "Pickle File Processed:  14%|\u001B[31m█▍        \u001B[0m| 31/214 [06:07<35:51, 11.76s/it]"
     ]
    },
    {
     "name": "stdout",
     "output_type": "stream",
     "text": [
      "converting pkl to df:\n"
     ]
    },
    {
     "name": "stderr",
     "output_type": "stream",
     "text": [
      "C:\\Users\\Kevin\\AppData\\Local\\Temp\\ipykernel_12976\\3288184646.py:84: FutureWarning: The default value of numeric_only in DataFrameGroupBy.mean is deprecated. In a future version, numeric_only will default to False. Either specify numeric_only or select only columns which should be valid for the function.\n",
      "  avg_type_df = type_df.groupby(roi_col).mean()\n",
      "C:\\Users\\Kevin\\AppData\\Local\\Temp\\ipykernel_12976\\3288184646.py:85: FutureWarning: The default value of numeric_only in DataFrameGroupBy.std is deprecated. In a future version, numeric_only will default to False. Either specify numeric_only or select only columns which should be valid for the function.\n",
      "  std_type_df = type_df.groupby(roi_col).std()\n"
     ]
    },
    {
     "name": "stdout",
     "output_type": "stream",
     "text": [
      "rois {2} not included out of all rois {1, 2, 3} for type 3\n",
      "rois {1} not included out of all rois {1, 2, 3} for type 6\n",
      "saving excel\n"
     ]
    },
    {
     "name": "stderr",
     "output_type": "stream",
     "text": [
      "Pickle File Processed:  15%|\u001B[31m█▍        \u001B[0m| 32/214 [06:28<44:14, 14.59s/it]"
     ]
    },
    {
     "name": "stdout",
     "output_type": "stream",
     "text": [
      "converting pkl to df:\n"
     ]
    },
    {
     "name": "stderr",
     "output_type": "stream",
     "text": [
      "C:\\Users\\Kevin\\AppData\\Local\\Temp\\ipykernel_12976\\3288184646.py:84: FutureWarning: The default value of numeric_only in DataFrameGroupBy.mean is deprecated. In a future version, numeric_only will default to False. Either specify numeric_only or select only columns which should be valid for the function.\n",
      "  avg_type_df = type_df.groupby(roi_col).mean()\n",
      "C:\\Users\\Kevin\\AppData\\Local\\Temp\\ipykernel_12976\\3288184646.py:85: FutureWarning: The default value of numeric_only in DataFrameGroupBy.std is deprecated. In a future version, numeric_only will default to False. Either specify numeric_only or select only columns which should be valid for the function.\n",
      "  std_type_df = type_df.groupby(roi_col).std()\n"
     ]
    },
    {
     "name": "stdout",
     "output_type": "stream",
     "text": [
      "rois {1} not included out of all rois {1, 2, 3} for type 3\n",
      "rois {3} not included out of all rois {1, 2, 3} for type 6\n",
      "saving excel\n"
     ]
    },
    {
     "name": "stderr",
     "output_type": "stream",
     "text": [
      "Pickle File Processed:  15%|\u001B[31m█▌        \u001B[0m| 33/214 [06:42<43:25, 14.39s/it]"
     ]
    },
    {
     "name": "stdout",
     "output_type": "stream",
     "text": [
      "converting pkl to df:\n"
     ]
    },
    {
     "name": "stderr",
     "output_type": "stream",
     "text": [
      "C:\\Users\\Kevin\\AppData\\Local\\Temp\\ipykernel_12976\\3288184646.py:84: FutureWarning: The default value of numeric_only in DataFrameGroupBy.mean is deprecated. In a future version, numeric_only will default to False. Either specify numeric_only or select only columns which should be valid for the function.\n",
      "  avg_type_df = type_df.groupby(roi_col).mean()\n",
      "C:\\Users\\Kevin\\AppData\\Local\\Temp\\ipykernel_12976\\3288184646.py:85: FutureWarning: The default value of numeric_only in DataFrameGroupBy.std is deprecated. In a future version, numeric_only will default to False. Either specify numeric_only or select only columns which should be valid for the function.\n",
      "  std_type_df = type_df.groupby(roi_col).std()\n"
     ]
    },
    {
     "name": "stdout",
     "output_type": "stream",
     "text": [
      "saving excel\n"
     ]
    },
    {
     "name": "stderr",
     "output_type": "stream",
     "text": [
      "Pickle File Processed:  16%|\u001B[31m█▌        \u001B[0m| 34/214 [06:50<37:02, 12.34s/it]"
     ]
    },
    {
     "name": "stdout",
     "output_type": "stream",
     "text": [
      "converting pkl to df:\n"
     ]
    },
    {
     "name": "stderr",
     "output_type": "stream",
     "text": [
      "C:\\Users\\Kevin\\AppData\\Local\\Temp\\ipykernel_12976\\3288184646.py:84: FutureWarning: The default value of numeric_only in DataFrameGroupBy.mean is deprecated. In a future version, numeric_only will default to False. Either specify numeric_only or select only columns which should be valid for the function.\n",
      "  avg_type_df = type_df.groupby(roi_col).mean()\n",
      "C:\\Users\\Kevin\\AppData\\Local\\Temp\\ipykernel_12976\\3288184646.py:85: FutureWarning: The default value of numeric_only in DataFrameGroupBy.std is deprecated. In a future version, numeric_only will default to False. Either specify numeric_only or select only columns which should be valid for the function.\n",
      "  std_type_df = type_df.groupby(roi_col).std()\n"
     ]
    },
    {
     "name": "stdout",
     "output_type": "stream",
     "text": [
      "saving excel\n"
     ]
    },
    {
     "name": "stderr",
     "output_type": "stream",
     "text": [
      "Pickle File Processed:  16%|\u001B[31m█▋        \u001B[0m| 35/214 [06:55<30:31, 10.23s/it]"
     ]
    },
    {
     "name": "stdout",
     "output_type": "stream",
     "text": [
      "converting pkl to df:\n"
     ]
    },
    {
     "name": "stderr",
     "output_type": "stream",
     "text": [
      "C:\\Users\\Kevin\\AppData\\Local\\Temp\\ipykernel_12976\\3288184646.py:84: FutureWarning: The default value of numeric_only in DataFrameGroupBy.mean is deprecated. In a future version, numeric_only will default to False. Either specify numeric_only or select only columns which should be valid for the function.\n",
      "  avg_type_df = type_df.groupby(roi_col).mean()\n",
      "C:\\Users\\Kevin\\AppData\\Local\\Temp\\ipykernel_12976\\3288184646.py:85: FutureWarning: The default value of numeric_only in DataFrameGroupBy.std is deprecated. In a future version, numeric_only will default to False. Either specify numeric_only or select only columns which should be valid for the function.\n",
      "  std_type_df = type_df.groupby(roi_col).std()\n"
     ]
    },
    {
     "name": "stdout",
     "output_type": "stream",
     "text": [
      "rois {2} not included out of all rois {1, 2, 3, 4} for type 3\n",
      "rois {4} not included out of all rois {1, 2, 3, 4} for type 11\n",
      "saving excel\n"
     ]
    },
    {
     "name": "stderr",
     "output_type": "stream",
     "text": [
      "Pickle File Processed:  17%|\u001B[31m█▋        \u001B[0m| 36/214 [07:11<35:26, 11.95s/it]"
     ]
    },
    {
     "name": "stdout",
     "output_type": "stream",
     "text": [
      "converting pkl to df:\n"
     ]
    },
    {
     "name": "stderr",
     "output_type": "stream",
     "text": [
      "C:\\Users\\Kevin\\AppData\\Local\\Temp\\ipykernel_12976\\3288184646.py:84: FutureWarning: The default value of numeric_only in DataFrameGroupBy.mean is deprecated. In a future version, numeric_only will default to False. Either specify numeric_only or select only columns which should be valid for the function.\n",
      "  avg_type_df = type_df.groupby(roi_col).mean()\n",
      "C:\\Users\\Kevin\\AppData\\Local\\Temp\\ipykernel_12976\\3288184646.py:85: FutureWarning: The default value of numeric_only in DataFrameGroupBy.std is deprecated. In a future version, numeric_only will default to False. Either specify numeric_only or select only columns which should be valid for the function.\n",
      "  std_type_df = type_df.groupby(roi_col).std()\n"
     ]
    },
    {
     "name": "stdout",
     "output_type": "stream",
     "text": [
      "saving excel\n"
     ]
    },
    {
     "name": "stderr",
     "output_type": "stream",
     "text": [
      "Pickle File Processed:  17%|\u001B[31m█▋        \u001B[0m| 37/214 [07:21<33:57, 11.51s/it]"
     ]
    },
    {
     "name": "stdout",
     "output_type": "stream",
     "text": [
      "converting pkl to df:\n"
     ]
    },
    {
     "name": "stderr",
     "output_type": "stream",
     "text": [
      "C:\\Users\\Kevin\\AppData\\Local\\Temp\\ipykernel_12976\\3288184646.py:84: FutureWarning: The default value of numeric_only in DataFrameGroupBy.mean is deprecated. In a future version, numeric_only will default to False. Either specify numeric_only or select only columns which should be valid for the function.\n",
      "  avg_type_df = type_df.groupby(roi_col).mean()\n",
      "C:\\Users\\Kevin\\AppData\\Local\\Temp\\ipykernel_12976\\3288184646.py:85: FutureWarning: The default value of numeric_only in DataFrameGroupBy.std is deprecated. In a future version, numeric_only will default to False. Either specify numeric_only or select only columns which should be valid for the function.\n",
      "  std_type_df = type_df.groupby(roi_col).std()\n",
      "C:\\Users\\Kevin\\AppData\\Local\\Temp\\ipykernel_12976\\3288184646.py:84: FutureWarning: The default value of numeric_only in DataFrameGroupBy.mean is deprecated. In a future version, numeric_only will default to False. Either specify numeric_only or select only columns which should be valid for the function.\n",
      "  avg_type_df = type_df.groupby(roi_col).mean()\n",
      "C:\\Users\\Kevin\\AppData\\Local\\Temp\\ipykernel_12976\\3288184646.py:85: FutureWarning: The default value of numeric_only in DataFrameGroupBy.std is deprecated. In a future version, numeric_only will default to False. Either specify numeric_only or select only columns which should be valid for the function.\n",
      "  std_type_df = type_df.groupby(roi_col).std()\n",
      "C:\\Users\\Kevin\\AppData\\Local\\Temp\\ipykernel_12976\\3288184646.py:84: FutureWarning: The default value of numeric_only in DataFrameGroupBy.mean is deprecated. In a future version, numeric_only will default to False. Either specify numeric_only or select only columns which should be valid for the function.\n",
      "  avg_type_df = type_df.groupby(roi_col).mean()\n",
      "C:\\Users\\Kevin\\AppData\\Local\\Temp\\ipykernel_12976\\3288184646.py:85: FutureWarning: The default value of numeric_only in DataFrameGroupBy.std is deprecated. In a future version, numeric_only will default to False. Either specify numeric_only or select only columns which should be valid for the function.\n",
      "  std_type_df = type_df.groupby(roi_col).std()\n"
     ]
    },
    {
     "name": "stdout",
     "output_type": "stream",
     "text": [
      "rois {1} not included out of all rois {1} for type 3\n",
      "rois {1} not included out of all rois {1} for type 4\n",
      "saving excel\n"
     ]
    },
    {
     "name": "stderr",
     "output_type": "stream",
     "text": [
      "Pickle File Processed:  18%|\u001B[31m█▊        \u001B[0m| 38/214 [07:25<26:54,  9.17s/it]"
     ]
    },
    {
     "name": "stdout",
     "output_type": "stream",
     "text": [
      "converting pkl to df:\n"
     ]
    },
    {
     "name": "stderr",
     "output_type": "stream",
     "text": [
      "C:\\Users\\Kevin\\AppData\\Local\\Temp\\ipykernel_12976\\3288184646.py:84: FutureWarning: The default value of numeric_only in DataFrameGroupBy.mean is deprecated. In a future version, numeric_only will default to False. Either specify numeric_only or select only columns which should be valid for the function.\n",
      "  avg_type_df = type_df.groupby(roi_col).mean()\n",
      "C:\\Users\\Kevin\\AppData\\Local\\Temp\\ipykernel_12976\\3288184646.py:85: FutureWarning: The default value of numeric_only in DataFrameGroupBy.std is deprecated. In a future version, numeric_only will default to False. Either specify numeric_only or select only columns which should be valid for the function.\n",
      "  std_type_df = type_df.groupby(roi_col).std()\n"
     ]
    },
    {
     "name": "stdout",
     "output_type": "stream",
     "text": [
      "rois {3} not included out of all rois {1, 2, 3, 4} for type 3\n",
      "saving excel\n"
     ]
    },
    {
     "name": "stderr",
     "output_type": "stream",
     "text": [
      "Pickle File Processed:  18%|\u001B[31m█▊        \u001B[0m| 39/214 [07:58<47:28, 16.28s/it]"
     ]
    },
    {
     "name": "stdout",
     "output_type": "stream",
     "text": [
      "converting pkl to df:\n"
     ]
    },
    {
     "name": "stderr",
     "output_type": "stream",
     "text": [
      "C:\\Users\\Kevin\\AppData\\Local\\Temp\\ipykernel_12976\\3288184646.py:84: FutureWarning: The default value of numeric_only in DataFrameGroupBy.mean is deprecated. In a future version, numeric_only will default to False. Either specify numeric_only or select only columns which should be valid for the function.\n",
      "  avg_type_df = type_df.groupby(roi_col).mean()\n",
      "C:\\Users\\Kevin\\AppData\\Local\\Temp\\ipykernel_12976\\3288184646.py:85: FutureWarning: The default value of numeric_only in DataFrameGroupBy.std is deprecated. In a future version, numeric_only will default to False. Either specify numeric_only or select only columns which should be valid for the function.\n",
      "  std_type_df = type_df.groupby(roi_col).std()\n",
      "C:\\Users\\Kevin\\AppData\\Local\\Temp\\ipykernel_12976\\3288184646.py:84: FutureWarning: The default value of numeric_only in DataFrameGroupBy.mean is deprecated. In a future version, numeric_only will default to False. Either specify numeric_only or select only columns which should be valid for the function.\n",
      "  avg_type_df = type_df.groupby(roi_col).mean()\n",
      "C:\\Users\\Kevin\\AppData\\Local\\Temp\\ipykernel_12976\\3288184646.py:85: FutureWarning: The default value of numeric_only in DataFrameGroupBy.std is deprecated. In a future version, numeric_only will default to False. Either specify numeric_only or select only columns which should be valid for the function.\n",
      "  std_type_df = type_df.groupby(roi_col).std()\n"
     ]
    },
    {
     "name": "stdout",
     "output_type": "stream",
     "text": [
      "rois {1} not included out of all rois {1} for type 3\n",
      "saving excel\n"
     ]
    },
    {
     "name": "stderr",
     "output_type": "stream",
     "text": [
      "Pickle File Processed:  19%|\u001B[31m█▊        \u001B[0m| 40/214 [08:02<36:11, 12.48s/it]"
     ]
    },
    {
     "name": "stdout",
     "output_type": "stream",
     "text": [
      "converting pkl to df:\n"
     ]
    },
    {
     "name": "stderr",
     "output_type": "stream",
     "text": [
      "C:\\Users\\Kevin\\AppData\\Local\\Temp\\ipykernel_12976\\3288184646.py:84: FutureWarning: The default value of numeric_only in DataFrameGroupBy.mean is deprecated. In a future version, numeric_only will default to False. Either specify numeric_only or select only columns which should be valid for the function.\n",
      "  avg_type_df = type_df.groupby(roi_col).mean()\n",
      "C:\\Users\\Kevin\\AppData\\Local\\Temp\\ipykernel_12976\\3288184646.py:85: FutureWarning: The default value of numeric_only in DataFrameGroupBy.std is deprecated. In a future version, numeric_only will default to False. Either specify numeric_only or select only columns which should be valid for the function.\n",
      "  std_type_df = type_df.groupby(roi_col).std()\n"
     ]
    },
    {
     "name": "stdout",
     "output_type": "stream",
     "text": [
      "rois {2} not included out of all rois {1, 2} for type 3\n",
      "rois {2} not included out of all rois {1, 2} for type 11\n",
      "saving excel\n"
     ]
    },
    {
     "name": "stderr",
     "output_type": "stream",
     "text": [
      "Pickle File Processed:  19%|\u001B[31m█▉        \u001B[0m| 41/214 [08:12<34:16, 11.88s/it]"
     ]
    },
    {
     "name": "stdout",
     "output_type": "stream",
     "text": [
      "converting pkl to df:\n"
     ]
    },
    {
     "name": "stderr",
     "output_type": "stream",
     "text": [
      "C:\\Users\\Kevin\\AppData\\Local\\Temp\\ipykernel_12976\\3288184646.py:84: FutureWarning: The default value of numeric_only in DataFrameGroupBy.mean is deprecated. In a future version, numeric_only will default to False. Either specify numeric_only or select only columns which should be valid for the function.\n",
      "  avg_type_df = type_df.groupby(roi_col).mean()\n",
      "C:\\Users\\Kevin\\AppData\\Local\\Temp\\ipykernel_12976\\3288184646.py:85: FutureWarning: The default value of numeric_only in DataFrameGroupBy.std is deprecated. In a future version, numeric_only will default to False. Either specify numeric_only or select only columns which should be valid for the function.\n",
      "  std_type_df = type_df.groupby(roi_col).std()\n",
      "C:\\Users\\Kevin\\AppData\\Local\\Temp\\ipykernel_12976\\3288184646.py:84: FutureWarning: The default value of numeric_only in DataFrameGroupBy.mean is deprecated. In a future version, numeric_only will default to False. Either specify numeric_only or select only columns which should be valid for the function.\n",
      "  avg_type_df = type_df.groupby(roi_col).mean()\n",
      "C:\\Users\\Kevin\\AppData\\Local\\Temp\\ipykernel_12976\\3288184646.py:85: FutureWarning: The default value of numeric_only in DataFrameGroupBy.std is deprecated. In a future version, numeric_only will default to False. Either specify numeric_only or select only columns which should be valid for the function.\n",
      "  std_type_df = type_df.groupby(roi_col).std()\n"
     ]
    },
    {
     "name": "stdout",
     "output_type": "stream",
     "text": [
      "rois {1, 2} not included out of all rois {1, 2} for type 3\n",
      "rois {1} not included out of all rois {1, 2} for type 4\n",
      "rois {1, 2} not included out of all rois {1, 2} for type 11\n"
     ]
    },
    {
     "name": "stderr",
     "output_type": "stream",
     "text": [
      "C:\\Users\\Kevin\\AppData\\Local\\Temp\\ipykernel_12976\\3288184646.py:84: FutureWarning: The default value of numeric_only in DataFrameGroupBy.mean is deprecated. In a future version, numeric_only will default to False. Either specify numeric_only or select only columns which should be valid for the function.\n",
      "  avg_type_df = type_df.groupby(roi_col).mean()\n",
      "C:\\Users\\Kevin\\AppData\\Local\\Temp\\ipykernel_12976\\3288184646.py:85: FutureWarning: The default value of numeric_only in DataFrameGroupBy.std is deprecated. In a future version, numeric_only will default to False. Either specify numeric_only or select only columns which should be valid for the function.\n",
      "  std_type_df = type_df.groupby(roi_col).std()\n"
     ]
    },
    {
     "name": "stdout",
     "output_type": "stream",
     "text": [
      "saving excel\n"
     ]
    },
    {
     "name": "stderr",
     "output_type": "stream",
     "text": [
      "Pickle File Processed:  20%|\u001B[31m█▉        \u001B[0m| 42/214 [08:14<25:40,  8.96s/it]"
     ]
    },
    {
     "name": "stdout",
     "output_type": "stream",
     "text": [
      "converting pkl to df:\n"
     ]
    },
    {
     "name": "stderr",
     "output_type": "stream",
     "text": [
      "C:\\Users\\Kevin\\AppData\\Local\\Temp\\ipykernel_12976\\3288184646.py:84: FutureWarning: The default value of numeric_only in DataFrameGroupBy.mean is deprecated. In a future version, numeric_only will default to False. Either specify numeric_only or select only columns which should be valid for the function.\n",
      "  avg_type_df = type_df.groupby(roi_col).mean()\n",
      "C:\\Users\\Kevin\\AppData\\Local\\Temp\\ipykernel_12976\\3288184646.py:85: FutureWarning: The default value of numeric_only in DataFrameGroupBy.std is deprecated. In a future version, numeric_only will default to False. Either specify numeric_only or select only columns which should be valid for the function.\n",
      "  std_type_df = type_df.groupby(roi_col).std()\n"
     ]
    },
    {
     "name": "stdout",
     "output_type": "stream",
     "text": [
      "rois {1} not included out of all rois {1} for type 11\n",
      "saving excel\n"
     ]
    },
    {
     "name": "stderr",
     "output_type": "stream",
     "text": [
      "C:\\Users\\Kevin\\AppData\\Local\\Temp\\ipykernel_12976\\3288184646.py:84: FutureWarning: The default value of numeric_only in DataFrameGroupBy.mean is deprecated. In a future version, numeric_only will default to False. Either specify numeric_only or select only columns which should be valid for the function.\n",
      "  avg_type_df = type_df.groupby(roi_col).mean()\n",
      "C:\\Users\\Kevin\\AppData\\Local\\Temp\\ipykernel_12976\\3288184646.py:85: FutureWarning: The default value of numeric_only in DataFrameGroupBy.std is deprecated. In a future version, numeric_only will default to False. Either specify numeric_only or select only columns which should be valid for the function.\n",
      "  std_type_df = type_df.groupby(roi_col).std()\n",
      "Pickle File Processed:  20%|\u001B[31m██        \u001B[0m| 43/214 [08:16<19:08,  6.72s/it]"
     ]
    },
    {
     "name": "stdout",
     "output_type": "stream",
     "text": [
      "converting pkl to df:\n"
     ]
    },
    {
     "name": "stderr",
     "output_type": "stream",
     "text": [
      "C:\\Users\\Kevin\\AppData\\Local\\Temp\\ipykernel_12976\\3288184646.py:84: FutureWarning: The default value of numeric_only in DataFrameGroupBy.mean is deprecated. In a future version, numeric_only will default to False. Either specify numeric_only or select only columns which should be valid for the function.\n",
      "  avg_type_df = type_df.groupby(roi_col).mean()\n",
      "C:\\Users\\Kevin\\AppData\\Local\\Temp\\ipykernel_12976\\3288184646.py:85: FutureWarning: The default value of numeric_only in DataFrameGroupBy.std is deprecated. In a future version, numeric_only will default to False. Either specify numeric_only or select only columns which should be valid for the function.\n",
      "  std_type_df = type_df.groupby(roi_col).std()\n",
      "Pickle File Processed:  21%|\u001B[31m██        \u001B[0m| 44/214 [08:21<18:13,  6.43s/it]"
     ]
    },
    {
     "name": "stdout",
     "output_type": "stream",
     "text": [
      "saving excel\n",
      "converting pkl to df:\n"
     ]
    },
    {
     "name": "stderr",
     "output_type": "stream",
     "text": [
      "C:\\Users\\Kevin\\AppData\\Local\\Temp\\ipykernel_12976\\3288184646.py:84: FutureWarning: The default value of numeric_only in DataFrameGroupBy.mean is deprecated. In a future version, numeric_only will default to False. Either specify numeric_only or select only columns which should be valid for the function.\n",
      "  avg_type_df = type_df.groupby(roi_col).mean()\n",
      "C:\\Users\\Kevin\\AppData\\Local\\Temp\\ipykernel_12976\\3288184646.py:85: FutureWarning: The default value of numeric_only in DataFrameGroupBy.std is deprecated. In a future version, numeric_only will default to False. Either specify numeric_only or select only columns which should be valid for the function.\n",
      "  std_type_df = type_df.groupby(roi_col).std()\n"
     ]
    },
    {
     "name": "stdout",
     "output_type": "stream",
     "text": [
      "saving excel\n"
     ]
    },
    {
     "name": "stderr",
     "output_type": "stream",
     "text": [
      "Pickle File Processed:  21%|\u001B[31m██        \u001B[0m| 45/214 [08:31<20:49,  7.39s/it]"
     ]
    },
    {
     "name": "stdout",
     "output_type": "stream",
     "text": [
      "converting pkl to df:\n"
     ]
    },
    {
     "name": "stderr",
     "output_type": "stream",
     "text": [
      "C:\\Users\\Kevin\\AppData\\Local\\Temp\\ipykernel_12976\\3288184646.py:84: FutureWarning: The default value of numeric_only in DataFrameGroupBy.mean is deprecated. In a future version, numeric_only will default to False. Either specify numeric_only or select only columns which should be valid for the function.\n",
      "  avg_type_df = type_df.groupby(roi_col).mean()\n",
      "C:\\Users\\Kevin\\AppData\\Local\\Temp\\ipykernel_12976\\3288184646.py:85: FutureWarning: The default value of numeric_only in DataFrameGroupBy.std is deprecated. In a future version, numeric_only will default to False. Either specify numeric_only or select only columns which should be valid for the function.\n",
      "  std_type_df = type_df.groupby(roi_col).std()\n"
     ]
    },
    {
     "name": "stdout",
     "output_type": "stream",
     "text": [
      "saving excel\n"
     ]
    },
    {
     "name": "stderr",
     "output_type": "stream",
     "text": [
      "Pickle File Processed:  21%|\u001B[31m██▏       \u001B[0m| 46/214 [08:49<29:25, 10.51s/it]"
     ]
    },
    {
     "name": "stdout",
     "output_type": "stream",
     "text": [
      "converting pkl to df:\n"
     ]
    },
    {
     "name": "stderr",
     "output_type": "stream",
     "text": [
      "C:\\Users\\Kevin\\AppData\\Local\\Temp\\ipykernel_12976\\3288184646.py:84: FutureWarning: The default value of numeric_only in DataFrameGroupBy.mean is deprecated. In a future version, numeric_only will default to False. Either specify numeric_only or select only columns which should be valid for the function.\n",
      "  avg_type_df = type_df.groupby(roi_col).mean()\n",
      "C:\\Users\\Kevin\\AppData\\Local\\Temp\\ipykernel_12976\\3288184646.py:85: FutureWarning: The default value of numeric_only in DataFrameGroupBy.std is deprecated. In a future version, numeric_only will default to False. Either specify numeric_only or select only columns which should be valid for the function.\n",
      "  std_type_df = type_df.groupby(roi_col).std()\n"
     ]
    },
    {
     "name": "stdout",
     "output_type": "stream",
     "text": [
      "rois {1, 3} not included out of all rois {1, 2, 3} for type 11\n",
      "saving excel\n"
     ]
    },
    {
     "name": "stderr",
     "output_type": "stream",
     "text": [
      "Pickle File Processed:  22%|\u001B[31m██▏       \u001B[0m| 47/214 [08:59<28:42, 10.31s/it]"
     ]
    },
    {
     "name": "stdout",
     "output_type": "stream",
     "text": [
      "converting pkl to df:\n"
     ]
    },
    {
     "name": "stderr",
     "output_type": "stream",
     "text": [
      "C:\\Users\\Kevin\\AppData\\Local\\Temp\\ipykernel_12976\\3288184646.py:84: FutureWarning: The default value of numeric_only in DataFrameGroupBy.mean is deprecated. In a future version, numeric_only will default to False. Either specify numeric_only or select only columns which should be valid for the function.\n",
      "  avg_type_df = type_df.groupby(roi_col).mean()\n",
      "C:\\Users\\Kevin\\AppData\\Local\\Temp\\ipykernel_12976\\3288184646.py:85: FutureWarning: The default value of numeric_only in DataFrameGroupBy.std is deprecated. In a future version, numeric_only will default to False. Either specify numeric_only or select only columns which should be valid for the function.\n",
      "  std_type_df = type_df.groupby(roi_col).std()\n",
      "Pickle File Processed:  22%|\u001B[31m██▏       \u001B[0m| 48/214 [09:02<22:35,  8.17s/it]"
     ]
    },
    {
     "name": "stdout",
     "output_type": "stream",
     "text": [
      "saving excel\n",
      "converting pkl to df:\n"
     ]
    },
    {
     "name": "stderr",
     "output_type": "stream",
     "text": [
      "C:\\Users\\Kevin\\AppData\\Local\\Temp\\ipykernel_12976\\3288184646.py:84: FutureWarning: The default value of numeric_only in DataFrameGroupBy.mean is deprecated. In a future version, numeric_only will default to False. Either specify numeric_only or select only columns which should be valid for the function.\n",
      "  avg_type_df = type_df.groupby(roi_col).mean()\n",
      "C:\\Users\\Kevin\\AppData\\Local\\Temp\\ipykernel_12976\\3288184646.py:85: FutureWarning: The default value of numeric_only in DataFrameGroupBy.std is deprecated. In a future version, numeric_only will default to False. Either specify numeric_only or select only columns which should be valid for the function.\n",
      "  std_type_df = type_df.groupby(roi_col).std()\n",
      "Pickle File Processed:  23%|\u001B[31m██▎       \u001B[0m| 49/214 [09:06<19:06,  6.95s/it]"
     ]
    },
    {
     "name": "stdout",
     "output_type": "stream",
     "text": [
      "saving excel\n",
      "converting pkl to df:\n"
     ]
    },
    {
     "name": "stderr",
     "output_type": "stream",
     "text": [
      "C:\\Users\\Kevin\\AppData\\Local\\Temp\\ipykernel_12976\\3288184646.py:84: FutureWarning: The default value of numeric_only in DataFrameGroupBy.mean is deprecated. In a future version, numeric_only will default to False. Either specify numeric_only or select only columns which should be valid for the function.\n",
      "  avg_type_df = type_df.groupby(roi_col).mean()\n",
      "C:\\Users\\Kevin\\AppData\\Local\\Temp\\ipykernel_12976\\3288184646.py:85: FutureWarning: The default value of numeric_only in DataFrameGroupBy.std is deprecated. In a future version, numeric_only will default to False. Either specify numeric_only or select only columns which should be valid for the function.\n",
      "  std_type_df = type_df.groupby(roi_col).std()\n",
      "Pickle File Processed:  23%|\u001B[31m██▎       \u001B[0m| 50/214 [09:17<22:04,  8.07s/it]"
     ]
    },
    {
     "name": "stdout",
     "output_type": "stream",
     "text": [
      "saving excel\n",
      "converting pkl to df:\n"
     ]
    },
    {
     "name": "stderr",
     "output_type": "stream",
     "text": [
      "C:\\Users\\Kevin\\AppData\\Local\\Temp\\ipykernel_12976\\3288184646.py:84: FutureWarning: The default value of numeric_only in DataFrameGroupBy.mean is deprecated. In a future version, numeric_only will default to False. Either specify numeric_only or select only columns which should be valid for the function.\n",
      "  avg_type_df = type_df.groupby(roi_col).mean()\n",
      "C:\\Users\\Kevin\\AppData\\Local\\Temp\\ipykernel_12976\\3288184646.py:85: FutureWarning: The default value of numeric_only in DataFrameGroupBy.std is deprecated. In a future version, numeric_only will default to False. Either specify numeric_only or select only columns which should be valid for the function.\n",
      "  std_type_df = type_df.groupby(roi_col).std()\n",
      "Pickle File Processed:  24%|\u001B[31m██▍       \u001B[0m| 51/214 [09:22<19:57,  7.35s/it]"
     ]
    },
    {
     "name": "stdout",
     "output_type": "stream",
     "text": [
      "saving excel\n",
      "converting pkl to df:\n"
     ]
    },
    {
     "name": "stderr",
     "output_type": "stream",
     "text": [
      "C:\\Users\\Kevin\\AppData\\Local\\Temp\\ipykernel_12976\\3288184646.py:84: FutureWarning: The default value of numeric_only in DataFrameGroupBy.mean is deprecated. In a future version, numeric_only will default to False. Either specify numeric_only or select only columns which should be valid for the function.\n",
      "  avg_type_df = type_df.groupby(roi_col).mean()\n",
      "C:\\Users\\Kevin\\AppData\\Local\\Temp\\ipykernel_12976\\3288184646.py:85: FutureWarning: The default value of numeric_only in DataFrameGroupBy.std is deprecated. In a future version, numeric_only will default to False. Either specify numeric_only or select only columns which should be valid for the function.\n",
      "  std_type_df = type_df.groupby(roi_col).std()\n"
     ]
    },
    {
     "name": "stdout",
     "output_type": "stream",
     "text": [
      "saving excel\n"
     ]
    },
    {
     "name": "stderr",
     "output_type": "stream",
     "text": [
      "Pickle File Processed:  24%|\u001B[31m██▍       \u001B[0m| 52/214 [09:33<22:27,  8.32s/it]"
     ]
    },
    {
     "name": "stdout",
     "output_type": "stream",
     "text": [
      "converting pkl to df:\n"
     ]
    },
    {
     "name": "stderr",
     "output_type": "stream",
     "text": [
      "C:\\Users\\Kevin\\AppData\\Local\\Temp\\ipykernel_12976\\3288184646.py:84: FutureWarning: The default value of numeric_only in DataFrameGroupBy.mean is deprecated. In a future version, numeric_only will default to False. Either specify numeric_only or select only columns which should be valid for the function.\n",
      "  avg_type_df = type_df.groupby(roi_col).mean()\n",
      "C:\\Users\\Kevin\\AppData\\Local\\Temp\\ipykernel_12976\\3288184646.py:85: FutureWarning: The default value of numeric_only in DataFrameGroupBy.std is deprecated. In a future version, numeric_only will default to False. Either specify numeric_only or select only columns which should be valid for the function.\n",
      "  std_type_df = type_df.groupby(roi_col).std()\n",
      "C:\\Users\\Kevin\\AppData\\Local\\Temp\\ipykernel_12976\\3288184646.py:84: FutureWarning: The default value of numeric_only in DataFrameGroupBy.mean is deprecated. In a future version, numeric_only will default to False. Either specify numeric_only or select only columns which should be valid for the function.\n",
      "  avg_type_df = type_df.groupby(roi_col).mean()\n",
      "C:\\Users\\Kevin\\AppData\\Local\\Temp\\ipykernel_12976\\3288184646.py:85: FutureWarning: The default value of numeric_only in DataFrameGroupBy.std is deprecated. In a future version, numeric_only will default to False. Either specify numeric_only or select only columns which should be valid for the function.\n",
      "  std_type_df = type_df.groupby(roi_col).std()\n"
     ]
    },
    {
     "name": "stdout",
     "output_type": "stream",
     "text": [
      "rois {1, 2} not included out of all rois {1, 2} for type 3\n"
     ]
    },
    {
     "name": "stderr",
     "output_type": "stream",
     "text": [
      "Pickle File Processed:  25%|\u001B[31m██▍       \u001B[0m| 53/214 [09:35<17:38,  6.57s/it]"
     ]
    },
    {
     "name": "stdout",
     "output_type": "stream",
     "text": [
      "saving excel\n",
      "converting pkl to df:\n"
     ]
    },
    {
     "name": "stderr",
     "output_type": "stream",
     "text": [
      "C:\\Users\\Kevin\\AppData\\Local\\Temp\\ipykernel_12976\\3288184646.py:84: FutureWarning: The default value of numeric_only in DataFrameGroupBy.mean is deprecated. In a future version, numeric_only will default to False. Either specify numeric_only or select only columns which should be valid for the function.\n",
      "  avg_type_df = type_df.groupby(roi_col).mean()\n",
      "C:\\Users\\Kevin\\AppData\\Local\\Temp\\ipykernel_12976\\3288184646.py:85: FutureWarning: The default value of numeric_only in DataFrameGroupBy.std is deprecated. In a future version, numeric_only will default to False. Either specify numeric_only or select only columns which should be valid for the function.\n",
      "  std_type_df = type_df.groupby(roi_col).std()\n"
     ]
    },
    {
     "name": "stdout",
     "output_type": "stream",
     "text": [
      "rois {2} not included out of all rois {1, 2} for type 3\n",
      "rois {2} not included out of all rois {1, 2} for type 4\n",
      "rois {2} not included out of all rois {1, 2} for type 11\n"
     ]
    },
    {
     "name": "stderr",
     "output_type": "stream",
     "text": [
      "Pickle File Processed:  25%|\u001B[31m██▌       \u001B[0m| 54/214 [09:38<14:06,  5.29s/it]"
     ]
    },
    {
     "name": "stdout",
     "output_type": "stream",
     "text": [
      "saving excel\n",
      "converting pkl to df:\n"
     ]
    },
    {
     "name": "stderr",
     "output_type": "stream",
     "text": [
      "C:\\Users\\Kevin\\AppData\\Local\\Temp\\ipykernel_12976\\3288184646.py:84: FutureWarning: The default value of numeric_only in DataFrameGroupBy.mean is deprecated. In a future version, numeric_only will default to False. Either specify numeric_only or select only columns which should be valid for the function.\n",
      "  avg_type_df = type_df.groupby(roi_col).mean()\n",
      "C:\\Users\\Kevin\\AppData\\Local\\Temp\\ipykernel_12976\\3288184646.py:85: FutureWarning: The default value of numeric_only in DataFrameGroupBy.std is deprecated. In a future version, numeric_only will default to False. Either specify numeric_only or select only columns which should be valid for the function.\n",
      "  std_type_df = type_df.groupby(roi_col).std()\n"
     ]
    },
    {
     "name": "stdout",
     "output_type": "stream",
     "text": [
      "rois {2} not included out of all rois {1, 2} for type 3\n",
      "rois {2} not included out of all rois {1, 2} for type 11\n"
     ]
    },
    {
     "name": "stderr",
     "output_type": "stream",
     "text": [
      "Pickle File Processed:  26%|\u001B[31m██▌       \u001B[0m| 55/214 [09:39<11:05,  4.19s/it]"
     ]
    },
    {
     "name": "stdout",
     "output_type": "stream",
     "text": [
      "saving excel\n",
      "converting pkl to df:\n",
      "rois {1} not included out of all rois {1} for type 3\n",
      "rois {1} not included out of all rois {1} for type 5\n"
     ]
    },
    {
     "name": "stderr",
     "output_type": "stream",
     "text": [
      "C:\\Users\\Kevin\\AppData\\Local\\Temp\\ipykernel_12976\\3288184646.py:84: FutureWarning: The default value of numeric_only in DataFrameGroupBy.mean is deprecated. In a future version, numeric_only will default to False. Either specify numeric_only or select only columns which should be valid for the function.\n",
      "  avg_type_df = type_df.groupby(roi_col).mean()\n",
      "C:\\Users\\Kevin\\AppData\\Local\\Temp\\ipykernel_12976\\3288184646.py:85: FutureWarning: The default value of numeric_only in DataFrameGroupBy.std is deprecated. In a future version, numeric_only will default to False. Either specify numeric_only or select only columns which should be valid for the function.\n",
      "  std_type_df = type_df.groupby(roi_col).std()\n",
      "C:\\Users\\Kevin\\AppData\\Local\\Temp\\ipykernel_12976\\3288184646.py:84: FutureWarning: The default value of numeric_only in DataFrameGroupBy.mean is deprecated. In a future version, numeric_only will default to False. Either specify numeric_only or select only columns which should be valid for the function.\n",
      "  avg_type_df = type_df.groupby(roi_col).mean()\n",
      "C:\\Users\\Kevin\\AppData\\Local\\Temp\\ipykernel_12976\\3288184646.py:85: FutureWarning: The default value of numeric_only in DataFrameGroupBy.std is deprecated. In a future version, numeric_only will default to False. Either specify numeric_only or select only columns which should be valid for the function.\n",
      "  std_type_df = type_df.groupby(roi_col).std()\n",
      "C:\\Users\\Kevin\\AppData\\Local\\Temp\\ipykernel_12976\\3288184646.py:84: FutureWarning: The default value of numeric_only in DataFrameGroupBy.mean is deprecated. In a future version, numeric_only will default to False. Either specify numeric_only or select only columns which should be valid for the function.\n",
      "  avg_type_df = type_df.groupby(roi_col).mean()\n",
      "C:\\Users\\Kevin\\AppData\\Local\\Temp\\ipykernel_12976\\3288184646.py:85: FutureWarning: The default value of numeric_only in DataFrameGroupBy.std is deprecated. In a future version, numeric_only will default to False. Either specify numeric_only or select only columns which should be valid for the function.\n",
      "  std_type_df = type_df.groupby(roi_col).std()\n",
      "Pickle File Processed:  26%|\u001B[31m██▌       \u001B[0m| 56/214 [09:40<08:15,  3.14s/it]"
     ]
    },
    {
     "name": "stdout",
     "output_type": "stream",
     "text": [
      "saving excel\n",
      "converting pkl to df:\n"
     ]
    },
    {
     "name": "stderr",
     "output_type": "stream",
     "text": [
      "C:\\Users\\Kevin\\AppData\\Local\\Temp\\ipykernel_12976\\3288184646.py:84: FutureWarning: The default value of numeric_only in DataFrameGroupBy.mean is deprecated. In a future version, numeric_only will default to False. Either specify numeric_only or select only columns which should be valid for the function.\n",
      "  avg_type_df = type_df.groupby(roi_col).mean()\n",
      "C:\\Users\\Kevin\\AppData\\Local\\Temp\\ipykernel_12976\\3288184646.py:85: FutureWarning: The default value of numeric_only in DataFrameGroupBy.std is deprecated. In a future version, numeric_only will default to False. Either specify numeric_only or select only columns which should be valid for the function.\n",
      "  std_type_df = type_df.groupby(roi_col).std()\n",
      "Pickle File Processed:  27%|\u001B[31m██▋       \u001B[0m| 57/214 [09:52<14:50,  5.67s/it]"
     ]
    },
    {
     "name": "stdout",
     "output_type": "stream",
     "text": [
      "saving excel\n",
      "converting pkl to df:\n"
     ]
    },
    {
     "name": "stderr",
     "output_type": "stream",
     "text": [
      "C:\\Users\\Kevin\\AppData\\Local\\Temp\\ipykernel_12976\\3288184646.py:84: FutureWarning: The default value of numeric_only in DataFrameGroupBy.mean is deprecated. In a future version, numeric_only will default to False. Either specify numeric_only or select only columns which should be valid for the function.\n",
      "  avg_type_df = type_df.groupby(roi_col).mean()\n",
      "C:\\Users\\Kevin\\AppData\\Local\\Temp\\ipykernel_12976\\3288184646.py:85: FutureWarning: The default value of numeric_only in DataFrameGroupBy.std is deprecated. In a future version, numeric_only will default to False. Either specify numeric_only or select only columns which should be valid for the function.\n",
      "  std_type_df = type_df.groupby(roi_col).std()\n",
      "Pickle File Processed:  27%|\u001B[31m██▋       \u001B[0m| 58/214 [10:05<20:59,  8.07s/it]"
     ]
    },
    {
     "name": "stdout",
     "output_type": "stream",
     "text": [
      "saving excel\n",
      "converting pkl to df:\n"
     ]
    },
    {
     "name": "stderr",
     "output_type": "stream",
     "text": [
      "C:\\Users\\Kevin\\AppData\\Local\\Temp\\ipykernel_12976\\3288184646.py:84: FutureWarning: The default value of numeric_only in DataFrameGroupBy.mean is deprecated. In a future version, numeric_only will default to False. Either specify numeric_only or select only columns which should be valid for the function.\n",
      "  avg_type_df = type_df.groupby(roi_col).mean()\n",
      "C:\\Users\\Kevin\\AppData\\Local\\Temp\\ipykernel_12976\\3288184646.py:85: FutureWarning: The default value of numeric_only in DataFrameGroupBy.std is deprecated. In a future version, numeric_only will default to False. Either specify numeric_only or select only columns which should be valid for the function.\n",
      "  std_type_df = type_df.groupby(roi_col).std()\n",
      "Pickle File Processed:  28%|\u001B[31m██▊       \u001B[0m| 59/214 [10:10<18:22,  7.11s/it]"
     ]
    },
    {
     "name": "stdout",
     "output_type": "stream",
     "text": [
      "saving excel\n",
      "converting pkl to df:\n"
     ]
    },
    {
     "name": "stderr",
     "output_type": "stream",
     "text": [
      "C:\\Users\\Kevin\\AppData\\Local\\Temp\\ipykernel_12976\\3288184646.py:84: FutureWarning: The default value of numeric_only in DataFrameGroupBy.mean is deprecated. In a future version, numeric_only will default to False. Either specify numeric_only or select only columns which should be valid for the function.\n",
      "  avg_type_df = type_df.groupby(roi_col).mean()\n",
      "C:\\Users\\Kevin\\AppData\\Local\\Temp\\ipykernel_12976\\3288184646.py:85: FutureWarning: The default value of numeric_only in DataFrameGroupBy.std is deprecated. In a future version, numeric_only will default to False. Either specify numeric_only or select only columns which should be valid for the function.\n",
      "  std_type_df = type_df.groupby(roi_col).std()\n",
      "Pickle File Processed:  28%|\u001B[31m██▊       \u001B[0m| 60/214 [10:20<20:31,  8.00s/it]"
     ]
    },
    {
     "name": "stdout",
     "output_type": "stream",
     "text": [
      "saving excel\n",
      "converting pkl to df:\n"
     ]
    },
    {
     "name": "stderr",
     "output_type": "stream",
     "text": [
      "C:\\Users\\Kevin\\AppData\\Local\\Temp\\ipykernel_12976\\3288184646.py:84: FutureWarning: The default value of numeric_only in DataFrameGroupBy.mean is deprecated. In a future version, numeric_only will default to False. Either specify numeric_only or select only columns which should be valid for the function.\n",
      "  avg_type_df = type_df.groupby(roi_col).mean()\n",
      "C:\\Users\\Kevin\\AppData\\Local\\Temp\\ipykernel_12976\\3288184646.py:85: FutureWarning: The default value of numeric_only in DataFrameGroupBy.std is deprecated. In a future version, numeric_only will default to False. Either specify numeric_only or select only columns which should be valid for the function.\n",
      "  std_type_df = type_df.groupby(roi_col).std()\n",
      "Pickle File Processed:  29%|\u001B[31m██▊       \u001B[0m| 61/214 [10:26<18:51,  7.40s/it]"
     ]
    },
    {
     "name": "stdout",
     "output_type": "stream",
     "text": [
      "saving excel\n",
      "converting pkl to df:\n"
     ]
    },
    {
     "name": "stderr",
     "output_type": "stream",
     "text": [
      "C:\\Users\\Kevin\\AppData\\Local\\Temp\\ipykernel_12976\\3288184646.py:84: FutureWarning: The default value of numeric_only in DataFrameGroupBy.mean is deprecated. In a future version, numeric_only will default to False. Either specify numeric_only or select only columns which should be valid for the function.\n",
      "  avg_type_df = type_df.groupby(roi_col).mean()\n",
      "C:\\Users\\Kevin\\AppData\\Local\\Temp\\ipykernel_12976\\3288184646.py:85: FutureWarning: The default value of numeric_only in DataFrameGroupBy.std is deprecated. In a future version, numeric_only will default to False. Either specify numeric_only or select only columns which should be valid for the function.\n",
      "  std_type_df = type_df.groupby(roi_col).std()\n"
     ]
    },
    {
     "name": "stdout",
     "output_type": "stream",
     "text": [
      "rois {2, 3} not included out of all rois {1, 2, 3} for type 3\n",
      "rois {2} not included out of all rois {1, 2, 3} for type 4\n",
      "rois {2, 3} not included out of all rois {1, 2, 3} for type 6\n",
      "rois {2, 3} not included out of all rois {1, 2, 3} for type 11\n",
      "saving excel\n"
     ]
    },
    {
     "name": "stderr",
     "output_type": "stream",
     "text": [
      "Pickle File Processed:  29%|\u001B[31m██▉       \u001B[0m| 62/214 [10:33<18:21,  7.25s/it]"
     ]
    },
    {
     "name": "stdout",
     "output_type": "stream",
     "text": [
      "converting pkl to df:\n"
     ]
    },
    {
     "name": "stderr",
     "output_type": "stream",
     "text": [
      "C:\\Users\\Kevin\\AppData\\Local\\Temp\\ipykernel_12976\\3288184646.py:84: FutureWarning: The default value of numeric_only in DataFrameGroupBy.mean is deprecated. In a future version, numeric_only will default to False. Either specify numeric_only or select only columns which should be valid for the function.\n",
      "  avg_type_df = type_df.groupby(roi_col).mean()\n",
      "C:\\Users\\Kevin\\AppData\\Local\\Temp\\ipykernel_12976\\3288184646.py:85: FutureWarning: The default value of numeric_only in DataFrameGroupBy.std is deprecated. In a future version, numeric_only will default to False. Either specify numeric_only or select only columns which should be valid for the function.\n",
      "  std_type_df = type_df.groupby(roi_col).std()\n"
     ]
    },
    {
     "name": "stdout",
     "output_type": "stream",
     "text": [
      "rois {1, 3} not included out of all rois {1, 2, 3} for type 3\n",
      "rois {1} not included out of all rois {1, 2, 3} for type 4\n",
      "rois {1} not included out of all rois {1, 2, 3} for type 6\n"
     ]
    },
    {
     "name": "stderr",
     "output_type": "stream",
     "text": [
      "Pickle File Processed:  29%|\u001B[31m██▉       \u001B[0m| 63/214 [10:39<17:16,  6.86s/it]"
     ]
    },
    {
     "name": "stdout",
     "output_type": "stream",
     "text": [
      "saving excel\n",
      "converting pkl to df:\n"
     ]
    },
    {
     "name": "stderr",
     "output_type": "stream",
     "text": [
      "C:\\Users\\Kevin\\AppData\\Local\\Temp\\ipykernel_12976\\3288184646.py:84: FutureWarning: The default value of numeric_only in DataFrameGroupBy.mean is deprecated. In a future version, numeric_only will default to False. Either specify numeric_only or select only columns which should be valid for the function.\n",
      "  avg_type_df = type_df.groupby(roi_col).mean()\n",
      "C:\\Users\\Kevin\\AppData\\Local\\Temp\\ipykernel_12976\\3288184646.py:85: FutureWarning: The default value of numeric_only in DataFrameGroupBy.std is deprecated. In a future version, numeric_only will default to False. Either specify numeric_only or select only columns which should be valid for the function.\n",
      "  std_type_df = type_df.groupby(roi_col).std()\n",
      "Pickle File Processed:  30%|\u001B[31m██▉       \u001B[0m| 64/214 [10:44<15:18,  6.12s/it]"
     ]
    },
    {
     "name": "stdout",
     "output_type": "stream",
     "text": [
      "saving excel\n",
      "converting pkl to df:\n"
     ]
    },
    {
     "name": "stderr",
     "output_type": "stream",
     "text": [
      "C:\\Users\\Kevin\\AppData\\Local\\Temp\\ipykernel_12976\\3288184646.py:84: FutureWarning: The default value of numeric_only in DataFrameGroupBy.mean is deprecated. In a future version, numeric_only will default to False. Either specify numeric_only or select only columns which should be valid for the function.\n",
      "  avg_type_df = type_df.groupby(roi_col).mean()\n",
      "C:\\Users\\Kevin\\AppData\\Local\\Temp\\ipykernel_12976\\3288184646.py:85: FutureWarning: The default value of numeric_only in DataFrameGroupBy.std is deprecated. In a future version, numeric_only will default to False. Either specify numeric_only or select only columns which should be valid for the function.\n",
      "  std_type_df = type_df.groupby(roi_col).std()\n",
      "Pickle File Processed:  30%|\u001B[31m███       \u001B[0m| 65/214 [10:50<15:32,  6.26s/it]"
     ]
    },
    {
     "name": "stdout",
     "output_type": "stream",
     "text": [
      "saving excel\n",
      "converting pkl to df:\n"
     ]
    },
    {
     "name": "stderr",
     "output_type": "stream",
     "text": [
      "C:\\Users\\Kevin\\AppData\\Local\\Temp\\ipykernel_12976\\3288184646.py:84: FutureWarning: The default value of numeric_only in DataFrameGroupBy.mean is deprecated. In a future version, numeric_only will default to False. Either specify numeric_only or select only columns which should be valid for the function.\n",
      "  avg_type_df = type_df.groupby(roi_col).mean()\n",
      "C:\\Users\\Kevin\\AppData\\Local\\Temp\\ipykernel_12976\\3288184646.py:85: FutureWarning: The default value of numeric_only in DataFrameGroupBy.std is deprecated. In a future version, numeric_only will default to False. Either specify numeric_only or select only columns which should be valid for the function.\n",
      "  std_type_df = type_df.groupby(roi_col).std()\n",
      "Pickle File Processed:  31%|\u001B[31m███       \u001B[0m| 66/214 [10:51<11:36,  4.70s/it]"
     ]
    },
    {
     "name": "stdout",
     "output_type": "stream",
     "text": [
      "saving excel\n",
      "converting pkl to df:\n"
     ]
    },
    {
     "name": "stderr",
     "output_type": "stream",
     "text": [
      "C:\\Users\\Kevin\\AppData\\Local\\Temp\\ipykernel_12976\\3288184646.py:84: FutureWarning: The default value of numeric_only in DataFrameGroupBy.mean is deprecated. In a future version, numeric_only will default to False. Either specify numeric_only or select only columns which should be valid for the function.\n",
      "  avg_type_df = type_df.groupby(roi_col).mean()\n",
      "C:\\Users\\Kevin\\AppData\\Local\\Temp\\ipykernel_12976\\3288184646.py:85: FutureWarning: The default value of numeric_only in DataFrameGroupBy.std is deprecated. In a future version, numeric_only will default to False. Either specify numeric_only or select only columns which should be valid for the function.\n",
      "  std_type_df = type_df.groupby(roi_col).std()\n",
      "Pickle File Processed:  31%|\u001B[31m███▏      \u001B[0m| 67/214 [10:57<12:23,  5.06s/it]"
     ]
    },
    {
     "name": "stdout",
     "output_type": "stream",
     "text": [
      "saving excel\n",
      "converting pkl to df:\n"
     ]
    },
    {
     "name": "stderr",
     "output_type": "stream",
     "text": [
      "C:\\Users\\Kevin\\AppData\\Local\\Temp\\ipykernel_12976\\3288184646.py:84: FutureWarning: The default value of numeric_only in DataFrameGroupBy.mean is deprecated. In a future version, numeric_only will default to False. Either specify numeric_only or select only columns which should be valid for the function.\n",
      "  avg_type_df = type_df.groupby(roi_col).mean()\n",
      "C:\\Users\\Kevin\\AppData\\Local\\Temp\\ipykernel_12976\\3288184646.py:85: FutureWarning: The default value of numeric_only in DataFrameGroupBy.std is deprecated. In a future version, numeric_only will default to False. Either specify numeric_only or select only columns which should be valid for the function.\n",
      "  std_type_df = type_df.groupby(roi_col).std()\n",
      "Pickle File Processed:  32%|\u001B[31m███▏      \u001B[0m| 68/214 [11:03<12:35,  5.18s/it]"
     ]
    },
    {
     "name": "stdout",
     "output_type": "stream",
     "text": [
      "saving excel\n",
      "converting pkl to df:\n"
     ]
    },
    {
     "name": "stderr",
     "output_type": "stream",
     "text": [
      "C:\\Users\\Kevin\\AppData\\Local\\Temp\\ipykernel_12976\\3288184646.py:84: FutureWarning: The default value of numeric_only in DataFrameGroupBy.mean is deprecated. In a future version, numeric_only will default to False. Either specify numeric_only or select only columns which should be valid for the function.\n",
      "  avg_type_df = type_df.groupby(roi_col).mean()\n",
      "C:\\Users\\Kevin\\AppData\\Local\\Temp\\ipykernel_12976\\3288184646.py:85: FutureWarning: The default value of numeric_only in DataFrameGroupBy.std is deprecated. In a future version, numeric_only will default to False. Either specify numeric_only or select only columns which should be valid for the function.\n",
      "  std_type_df = type_df.groupby(roi_col).std()\n"
     ]
    },
    {
     "name": "stdout",
     "output_type": "stream",
     "text": [
      "rois {5} not included out of all rois {1, 2, 3, 4, 5, 6} for type 3\n",
      "rois {5, 6} not included out of all rois {1, 2, 3, 4, 5, 6} for type 11\n",
      "saving excel\n"
     ]
    },
    {
     "name": "stderr",
     "output_type": "stream",
     "text": [
      "Pickle File Processed:  32%|\u001B[31m███▏      \u001B[0m| 69/214 [11:17<19:13,  7.95s/it]"
     ]
    },
    {
     "name": "stdout",
     "output_type": "stream",
     "text": [
      "converting pkl to df:\n"
     ]
    },
    {
     "name": "stderr",
     "output_type": "stream",
     "text": [
      "C:\\Users\\Kevin\\AppData\\Local\\Temp\\ipykernel_12976\\3288184646.py:84: FutureWarning: The default value of numeric_only in DataFrameGroupBy.mean is deprecated. In a future version, numeric_only will default to False. Either specify numeric_only or select only columns which should be valid for the function.\n",
      "  avg_type_df = type_df.groupby(roi_col).mean()\n",
      "C:\\Users\\Kevin\\AppData\\Local\\Temp\\ipykernel_12976\\3288184646.py:85: FutureWarning: The default value of numeric_only in DataFrameGroupBy.std is deprecated. In a future version, numeric_only will default to False. Either specify numeric_only or select only columns which should be valid for the function.\n",
      "  std_type_df = type_df.groupby(roi_col).std()\n"
     ]
    },
    {
     "name": "stdout",
     "output_type": "stream",
     "text": [
      "rois {1} not included out of all rois {1, 2} for type 3\n",
      "rois {1, 2} not included out of all rois {1, 2} for type 11\n"
     ]
    },
    {
     "name": "stderr",
     "output_type": "stream",
     "text": [
      "C:\\Users\\Kevin\\AppData\\Local\\Temp\\ipykernel_12976\\3288184646.py:84: FutureWarning: The default value of numeric_only in DataFrameGroupBy.mean is deprecated. In a future version, numeric_only will default to False. Either specify numeric_only or select only columns which should be valid for the function.\n",
      "  avg_type_df = type_df.groupby(roi_col).mean()\n",
      "C:\\Users\\Kevin\\AppData\\Local\\Temp\\ipykernel_12976\\3288184646.py:85: FutureWarning: The default value of numeric_only in DataFrameGroupBy.std is deprecated. In a future version, numeric_only will default to False. Either specify numeric_only or select only columns which should be valid for the function.\n",
      "  std_type_df = type_df.groupby(roi_col).std()\n",
      "Pickle File Processed:  33%|\u001B[31m███▎      \u001B[0m| 70/214 [11:20<15:36,  6.50s/it]"
     ]
    },
    {
     "name": "stdout",
     "output_type": "stream",
     "text": [
      "saving excel\n",
      "converting pkl to df:\n"
     ]
    },
    {
     "name": "stderr",
     "output_type": "stream",
     "text": [
      "C:\\Users\\Kevin\\AppData\\Local\\Temp\\ipykernel_12976\\3288184646.py:84: FutureWarning: The default value of numeric_only in DataFrameGroupBy.mean is deprecated. In a future version, numeric_only will default to False. Either specify numeric_only or select only columns which should be valid for the function.\n",
      "  avg_type_df = type_df.groupby(roi_col).mean()\n",
      "C:\\Users\\Kevin\\AppData\\Local\\Temp\\ipykernel_12976\\3288184646.py:85: FutureWarning: The default value of numeric_only in DataFrameGroupBy.std is deprecated. In a future version, numeric_only will default to False. Either specify numeric_only or select only columns which should be valid for the function.\n",
      "  std_type_df = type_df.groupby(roi_col).std()\n",
      "Pickle File Processed:  33%|\u001B[31m███▎      \u001B[0m| 71/214 [11:23<13:13,  5.55s/it]"
     ]
    },
    {
     "name": "stdout",
     "output_type": "stream",
     "text": [
      "saving excel\n",
      "converting pkl to df:\n"
     ]
    },
    {
     "name": "stderr",
     "output_type": "stream",
     "text": [
      "C:\\Users\\Kevin\\AppData\\Local\\Temp\\ipykernel_12976\\3288184646.py:84: FutureWarning: The default value of numeric_only in DataFrameGroupBy.mean is deprecated. In a future version, numeric_only will default to False. Either specify numeric_only or select only columns which should be valid for the function.\n",
      "  avg_type_df = type_df.groupby(roi_col).mean()\n",
      "C:\\Users\\Kevin\\AppData\\Local\\Temp\\ipykernel_12976\\3288184646.py:85: FutureWarning: The default value of numeric_only in DataFrameGroupBy.std is deprecated. In a future version, numeric_only will default to False. Either specify numeric_only or select only columns which should be valid for the function.\n",
      "  std_type_df = type_df.groupby(roi_col).std()\n",
      "Pickle File Processed:  34%|\u001B[31m███▎      \u001B[0m| 72/214 [11:30<13:32,  5.72s/it]"
     ]
    },
    {
     "name": "stdout",
     "output_type": "stream",
     "text": [
      "saving excel\n",
      "converting pkl to df:\n"
     ]
    },
    {
     "name": "stderr",
     "output_type": "stream",
     "text": [
      "C:\\Users\\Kevin\\AppData\\Local\\Temp\\ipykernel_12976\\3288184646.py:84: FutureWarning: The default value of numeric_only in DataFrameGroupBy.mean is deprecated. In a future version, numeric_only will default to False. Either specify numeric_only or select only columns which should be valid for the function.\n",
      "  avg_type_df = type_df.groupby(roi_col).mean()\n",
      "C:\\Users\\Kevin\\AppData\\Local\\Temp\\ipykernel_12976\\3288184646.py:85: FutureWarning: The default value of numeric_only in DataFrameGroupBy.std is deprecated. In a future version, numeric_only will default to False. Either specify numeric_only or select only columns which should be valid for the function.\n",
      "  std_type_df = type_df.groupby(roi_col).std()\n"
     ]
    },
    {
     "name": "stdout",
     "output_type": "stream",
     "text": [
      "rois {1} not included out of all rois {1, 2} for type 11\n",
      "saving excel\n"
     ]
    },
    {
     "name": "stderr",
     "output_type": "stream",
     "text": [
      "Pickle File Processed:  34%|\u001B[31m███▍      \u001B[0m| 73/214 [11:38<15:21,  6.54s/it]"
     ]
    },
    {
     "name": "stdout",
     "output_type": "stream",
     "text": [
      "converting pkl to df:\n"
     ]
    },
    {
     "name": "stderr",
     "output_type": "stream",
     "text": [
      "C:\\Users\\Kevin\\AppData\\Local\\Temp\\ipykernel_12976\\3288184646.py:84: FutureWarning: The default value of numeric_only in DataFrameGroupBy.mean is deprecated. In a future version, numeric_only will default to False. Either specify numeric_only or select only columns which should be valid for the function.\n",
      "  avg_type_df = type_df.groupby(roi_col).mean()\n",
      "C:\\Users\\Kevin\\AppData\\Local\\Temp\\ipykernel_12976\\3288184646.py:85: FutureWarning: The default value of numeric_only in DataFrameGroupBy.std is deprecated. In a future version, numeric_only will default to False. Either specify numeric_only or select only columns which should be valid for the function.\n",
      "  std_type_df = type_df.groupby(roi_col).std()\n"
     ]
    },
    {
     "name": "stdout",
     "output_type": "stream",
     "text": [
      "rois {2, 4, 5} not included out of all rois {1, 2, 3, 4, 5, 6} for type 3\n",
      "rois {4} not included out of all rois {1, 2, 3, 4, 5, 6} for type 6\n",
      "rois {3} not included out of all rois {1, 2, 3, 4, 5, 6} for type 11\n"
     ]
    },
    {
     "name": "stderr",
     "output_type": "stream",
     "text": [
      "Pickle File Processed:  35%|\u001B[31m███▍      \u001B[0m| 74/214 [11:47<17:18,  7.42s/it]"
     ]
    },
    {
     "name": "stdout",
     "output_type": "stream",
     "text": [
      "saving excel\n",
      "converting pkl to df:\n"
     ]
    },
    {
     "name": "stderr",
     "output_type": "stream",
     "text": [
      "C:\\Users\\Kevin\\AppData\\Local\\Temp\\ipykernel_12976\\3288184646.py:84: FutureWarning: The default value of numeric_only in DataFrameGroupBy.mean is deprecated. In a future version, numeric_only will default to False. Either specify numeric_only or select only columns which should be valid for the function.\n",
      "  avg_type_df = type_df.groupby(roi_col).mean()\n",
      "C:\\Users\\Kevin\\AppData\\Local\\Temp\\ipykernel_12976\\3288184646.py:85: FutureWarning: The default value of numeric_only in DataFrameGroupBy.std is deprecated. In a future version, numeric_only will default to False. Either specify numeric_only or select only columns which should be valid for the function.\n",
      "  std_type_df = type_df.groupby(roi_col).std()\n",
      "C:\\Users\\Kevin\\AppData\\Local\\Temp\\ipykernel_12976\\3288184646.py:84: FutureWarning: The default value of numeric_only in DataFrameGroupBy.mean is deprecated. In a future version, numeric_only will default to False. Either specify numeric_only or select only columns which should be valid for the function.\n",
      "  avg_type_df = type_df.groupby(roi_col).mean()\n",
      "C:\\Users\\Kevin\\AppData\\Local\\Temp\\ipykernel_12976\\3288184646.py:85: FutureWarning: The default value of numeric_only in DataFrameGroupBy.std is deprecated. In a future version, numeric_only will default to False. Either specify numeric_only or select only columns which should be valid for the function.\n",
      "  std_type_df = type_df.groupby(roi_col).std()\n",
      "C:\\Users\\Kevin\\AppData\\Local\\Temp\\ipykernel_12976\\3288184646.py:84: FutureWarning: The default value of numeric_only in DataFrameGroupBy.mean is deprecated. In a future version, numeric_only will default to False. Either specify numeric_only or select only columns which should be valid for the function.\n",
      "  avg_type_df = type_df.groupby(roi_col).mean()\n",
      "C:\\Users\\Kevin\\AppData\\Local\\Temp\\ipykernel_12976\\3288184646.py:85: FutureWarning: The default value of numeric_only in DataFrameGroupBy.std is deprecated. In a future version, numeric_only will default to False. Either specify numeric_only or select only columns which should be valid for the function.\n",
      "  std_type_df = type_df.groupby(roi_col).std()\n"
     ]
    },
    {
     "name": "stdout",
     "output_type": "stream",
     "text": [
      "rois {1} not included out of all rois {1} for type 3\n",
      "rois {1} not included out of all rois {1} for type 6\n",
      "rois {1} not included out of all rois {1} for type 11\n"
     ]
    },
    {
     "name": "stderr",
     "output_type": "stream",
     "text": [
      "C:\\Users\\Kevin\\AppData\\Local\\Temp\\ipykernel_12976\\3288184646.py:84: FutureWarning: The default value of numeric_only in DataFrameGroupBy.mean is deprecated. In a future version, numeric_only will default to False. Either specify numeric_only or select only columns which should be valid for the function.\n",
      "  avg_type_df = type_df.groupby(roi_col).mean()\n",
      "C:\\Users\\Kevin\\AppData\\Local\\Temp\\ipykernel_12976\\3288184646.py:85: FutureWarning: The default value of numeric_only in DataFrameGroupBy.std is deprecated. In a future version, numeric_only will default to False. Either specify numeric_only or select only columns which should be valid for the function.\n",
      "  std_type_df = type_df.groupby(roi_col).std()\n",
      "Pickle File Processed:  35%|\u001B[31m███▌      \u001B[0m| 75/214 [11:50<13:44,  5.93s/it]"
     ]
    },
    {
     "name": "stdout",
     "output_type": "stream",
     "text": [
      "saving excel\n",
      "converting pkl to df:\n"
     ]
    },
    {
     "name": "stderr",
     "output_type": "stream",
     "text": [
      "C:\\Users\\Kevin\\AppData\\Local\\Temp\\ipykernel_12976\\3288184646.py:84: FutureWarning: The default value of numeric_only in DataFrameGroupBy.mean is deprecated. In a future version, numeric_only will default to False. Either specify numeric_only or select only columns which should be valid for the function.\n",
      "  avg_type_df = type_df.groupby(roi_col).mean()\n",
      "C:\\Users\\Kevin\\AppData\\Local\\Temp\\ipykernel_12976\\3288184646.py:85: FutureWarning: The default value of numeric_only in DataFrameGroupBy.std is deprecated. In a future version, numeric_only will default to False. Either specify numeric_only or select only columns which should be valid for the function.\n",
      "  std_type_df = type_df.groupby(roi_col).std()\n",
      "C:\\Users\\Kevin\\AppData\\Local\\Temp\\ipykernel_12976\\3288184646.py:84: FutureWarning: The default value of numeric_only in DataFrameGroupBy.mean is deprecated. In a future version, numeric_only will default to False. Either specify numeric_only or select only columns which should be valid for the function.\n",
      "  avg_type_df = type_df.groupby(roi_col).mean()\n",
      "C:\\Users\\Kevin\\AppData\\Local\\Temp\\ipykernel_12976\\3288184646.py:85: FutureWarning: The default value of numeric_only in DataFrameGroupBy.std is deprecated. In a future version, numeric_only will default to False. Either specify numeric_only or select only columns which should be valid for the function.\n",
      "  std_type_df = type_df.groupby(roi_col).std()\n"
     ]
    },
    {
     "name": "stdout",
     "output_type": "stream",
     "text": [
      "rois {1} not included out of all rois {1} for type 6\n"
     ]
    },
    {
     "name": "stderr",
     "output_type": "stream",
     "text": [
      "Pickle File Processed:  36%|\u001B[31m███▌      \u001B[0m| 76/214 [11:52<10:42,  4.66s/it]"
     ]
    },
    {
     "name": "stdout",
     "output_type": "stream",
     "text": [
      "saving excel\n",
      "converting pkl to df:\n"
     ]
    },
    {
     "name": "stderr",
     "output_type": "stream",
     "text": [
      "C:\\Users\\Kevin\\AppData\\Local\\Temp\\ipykernel_12976\\3288184646.py:84: FutureWarning: The default value of numeric_only in DataFrameGroupBy.mean is deprecated. In a future version, numeric_only will default to False. Either specify numeric_only or select only columns which should be valid for the function.\n",
      "  avg_type_df = type_df.groupby(roi_col).mean()\n",
      "C:\\Users\\Kevin\\AppData\\Local\\Temp\\ipykernel_12976\\3288184646.py:85: FutureWarning: The default value of numeric_only in DataFrameGroupBy.std is deprecated. In a future version, numeric_only will default to False. Either specify numeric_only or select only columns which should be valid for the function.\n",
      "  std_type_df = type_df.groupby(roi_col).std()\n"
     ]
    },
    {
     "name": "stdout",
     "output_type": "stream",
     "text": [
      "rois {1} not included out of all rois {1, 2, 3} for type 3\n",
      "rois {1, 2} not included out of all rois {1, 2, 3} for type 6\n"
     ]
    },
    {
     "name": "stderr",
     "output_type": "stream",
     "text": [
      "Pickle File Processed:  36%|\u001B[31m███▌      \u001B[0m| 77/214 [11:58<11:38,  5.10s/it]"
     ]
    },
    {
     "name": "stdout",
     "output_type": "stream",
     "text": [
      "saving excel\n",
      "converting pkl to df:\n"
     ]
    },
    {
     "name": "stderr",
     "output_type": "stream",
     "text": [
      "C:\\Users\\Kevin\\AppData\\Local\\Temp\\ipykernel_12976\\3288184646.py:84: FutureWarning: The default value of numeric_only in DataFrameGroupBy.mean is deprecated. In a future version, numeric_only will default to False. Either specify numeric_only or select only columns which should be valid for the function.\n",
      "  avg_type_df = type_df.groupby(roi_col).mean()\n",
      "C:\\Users\\Kevin\\AppData\\Local\\Temp\\ipykernel_12976\\3288184646.py:85: FutureWarning: The default value of numeric_only in DataFrameGroupBy.std is deprecated. In a future version, numeric_only will default to False. Either specify numeric_only or select only columns which should be valid for the function.\n",
      "  std_type_df = type_df.groupby(roi_col).std()\n"
     ]
    },
    {
     "name": "stdout",
     "output_type": "stream",
     "text": [
      "rois {1, 2} not included out of all rois {1, 2, 3, 4} for type 3\n",
      "rois {1} not included out of all rois {1, 2, 3, 4} for type 4\n",
      "rois {1, 2, 3, 4} not included out of all rois {1, 2, 3, 4} for type 11\n"
     ]
    },
    {
     "name": "stderr",
     "output_type": "stream",
     "text": [
      "C:\\Users\\Kevin\\AppData\\Local\\Temp\\ipykernel_12976\\3288184646.py:84: FutureWarning: The default value of numeric_only in DataFrameGroupBy.mean is deprecated. In a future version, numeric_only will default to False. Either specify numeric_only or select only columns which should be valid for the function.\n",
      "  avg_type_df = type_df.groupby(roi_col).mean()\n",
      "C:\\Users\\Kevin\\AppData\\Local\\Temp\\ipykernel_12976\\3288184646.py:85: FutureWarning: The default value of numeric_only in DataFrameGroupBy.std is deprecated. In a future version, numeric_only will default to False. Either specify numeric_only or select only columns which should be valid for the function.\n",
      "  std_type_df = type_df.groupby(roi_col).std()\n"
     ]
    },
    {
     "name": "stdout",
     "output_type": "stream",
     "text": [
      "saving excel\n"
     ]
    },
    {
     "name": "stderr",
     "output_type": "stream",
     "text": [
      "Pickle File Processed:  36%|\u001B[31m███▋      \u001B[0m| 78/214 [12:00<09:58,  4.40s/it]"
     ]
    },
    {
     "name": "stdout",
     "output_type": "stream",
     "text": [
      "converting pkl to df:\n"
     ]
    },
    {
     "name": "stderr",
     "output_type": "stream",
     "text": [
      "C:\\Users\\Kevin\\AppData\\Local\\Temp\\ipykernel_12976\\3288184646.py:84: FutureWarning: The default value of numeric_only in DataFrameGroupBy.mean is deprecated. In a future version, numeric_only will default to False. Either specify numeric_only or select only columns which should be valid for the function.\n",
      "  avg_type_df = type_df.groupby(roi_col).mean()\n",
      "C:\\Users\\Kevin\\AppData\\Local\\Temp\\ipykernel_12976\\3288184646.py:85: FutureWarning: The default value of numeric_only in DataFrameGroupBy.std is deprecated. In a future version, numeric_only will default to False. Either specify numeric_only or select only columns which should be valid for the function.\n",
      "  std_type_df = type_df.groupby(roi_col).std()\n",
      "C:\\Users\\Kevin\\AppData\\Local\\Temp\\ipykernel_12976\\3288184646.py:84: FutureWarning: The default value of numeric_only in DataFrameGroupBy.mean is deprecated. In a future version, numeric_only will default to False. Either specify numeric_only or select only columns which should be valid for the function.\n",
      "  avg_type_df = type_df.groupby(roi_col).mean()\n",
      "C:\\Users\\Kevin\\AppData\\Local\\Temp\\ipykernel_12976\\3288184646.py:85: FutureWarning: The default value of numeric_only in DataFrameGroupBy.std is deprecated. In a future version, numeric_only will default to False. Either specify numeric_only or select only columns which should be valid for the function.\n",
      "  std_type_df = type_df.groupby(roi_col).std()\n"
     ]
    },
    {
     "name": "stdout",
     "output_type": "stream",
     "text": [
      "rois {1} not included out of all rois {1} for type 3\n"
     ]
    },
    {
     "name": "stderr",
     "output_type": "stream",
     "text": [
      "Pickle File Processed:  37%|\u001B[31m███▋      \u001B[0m| 79/214 [12:02<08:09,  3.63s/it]"
     ]
    },
    {
     "name": "stdout",
     "output_type": "stream",
     "text": [
      "saving excel\n",
      "converting pkl to df:\n"
     ]
    },
    {
     "name": "stderr",
     "output_type": "stream",
     "text": [
      "C:\\Users\\Kevin\\AppData\\Local\\Temp\\ipykernel_12976\\3288184646.py:84: FutureWarning: The default value of numeric_only in DataFrameGroupBy.mean is deprecated. In a future version, numeric_only will default to False. Either specify numeric_only or select only columns which should be valid for the function.\n",
      "  avg_type_df = type_df.groupby(roi_col).mean()\n",
      "C:\\Users\\Kevin\\AppData\\Local\\Temp\\ipykernel_12976\\3288184646.py:85: FutureWarning: The default value of numeric_only in DataFrameGroupBy.std is deprecated. In a future version, numeric_only will default to False. Either specify numeric_only or select only columns which should be valid for the function.\n",
      "  std_type_df = type_df.groupby(roi_col).std()\n"
     ]
    },
    {
     "name": "stdout",
     "output_type": "stream",
     "text": [
      "rois {1} not included out of all rois {1} for type 11\n"
     ]
    },
    {
     "name": "stderr",
     "output_type": "stream",
     "text": [
      "C:\\Users\\Kevin\\AppData\\Local\\Temp\\ipykernel_12976\\3288184646.py:84: FutureWarning: The default value of numeric_only in DataFrameGroupBy.mean is deprecated. In a future version, numeric_only will default to False. Either specify numeric_only or select only columns which should be valid for the function.\n",
      "  avg_type_df = type_df.groupby(roi_col).mean()\n",
      "C:\\Users\\Kevin\\AppData\\Local\\Temp\\ipykernel_12976\\3288184646.py:85: FutureWarning: The default value of numeric_only in DataFrameGroupBy.std is deprecated. In a future version, numeric_only will default to False. Either specify numeric_only or select only columns which should be valid for the function.\n",
      "  std_type_df = type_df.groupby(roi_col).std()\n",
      "Pickle File Processed:  37%|\u001B[31m███▋      \u001B[0m| 80/214 [12:15<13:57,  6.25s/it]"
     ]
    },
    {
     "name": "stdout",
     "output_type": "stream",
     "text": [
      "saving excel\n",
      "converting pkl to df:\n"
     ]
    },
    {
     "name": "stderr",
     "output_type": "stream",
     "text": [
      "C:\\Users\\Kevin\\AppData\\Local\\Temp\\ipykernel_12976\\3288184646.py:84: FutureWarning: The default value of numeric_only in DataFrameGroupBy.mean is deprecated. In a future version, numeric_only will default to False. Either specify numeric_only or select only columns which should be valid for the function.\n",
      "  avg_type_df = type_df.groupby(roi_col).mean()\n",
      "C:\\Users\\Kevin\\AppData\\Local\\Temp\\ipykernel_12976\\3288184646.py:85: FutureWarning: The default value of numeric_only in DataFrameGroupBy.std is deprecated. In a future version, numeric_only will default to False. Either specify numeric_only or select only columns which should be valid for the function.\n",
      "  std_type_df = type_df.groupby(roi_col).std()\n",
      "Pickle File Processed:  38%|\u001B[31m███▊      \u001B[0m| 81/214 [12:16<10:30,  4.74s/it]"
     ]
    },
    {
     "name": "stdout",
     "output_type": "stream",
     "text": [
      "saving excel\n",
      "converting pkl to df:\n"
     ]
    },
    {
     "name": "stderr",
     "output_type": "stream",
     "text": [
      "C:\\Users\\Kevin\\AppData\\Local\\Temp\\ipykernel_12976\\3288184646.py:84: FutureWarning: The default value of numeric_only in DataFrameGroupBy.mean is deprecated. In a future version, numeric_only will default to False. Either specify numeric_only or select only columns which should be valid for the function.\n",
      "  avg_type_df = type_df.groupby(roi_col).mean()\n",
      "C:\\Users\\Kevin\\AppData\\Local\\Temp\\ipykernel_12976\\3288184646.py:85: FutureWarning: The default value of numeric_only in DataFrameGroupBy.std is deprecated. In a future version, numeric_only will default to False. Either specify numeric_only or select only columns which should be valid for the function.\n",
      "  std_type_df = type_df.groupby(roi_col).std()\n",
      "Pickle File Processed:  38%|\u001B[31m███▊      \u001B[0m| 82/214 [12:18<08:50,  4.02s/it]"
     ]
    },
    {
     "name": "stdout",
     "output_type": "stream",
     "text": [
      "saving excel\n",
      "converting pkl to df:\n"
     ]
    },
    {
     "name": "stderr",
     "output_type": "stream",
     "text": [
      "C:\\Users\\Kevin\\AppData\\Local\\Temp\\ipykernel_12976\\3288184646.py:84: FutureWarning: The default value of numeric_only in DataFrameGroupBy.mean is deprecated. In a future version, numeric_only will default to False. Either specify numeric_only or select only columns which should be valid for the function.\n",
      "  avg_type_df = type_df.groupby(roi_col).mean()\n",
      "C:\\Users\\Kevin\\AppData\\Local\\Temp\\ipykernel_12976\\3288184646.py:85: FutureWarning: The default value of numeric_only in DataFrameGroupBy.std is deprecated. In a future version, numeric_only will default to False. Either specify numeric_only or select only columns which should be valid for the function.\n",
      "  std_type_df = type_df.groupby(roi_col).std()\n",
      "Pickle File Processed:  39%|\u001B[31m███▉      \u001B[0m| 83/214 [12:34<16:19,  7.47s/it]"
     ]
    },
    {
     "name": "stdout",
     "output_type": "stream",
     "text": [
      "saving excel\n",
      "converting pkl to df:\n"
     ]
    },
    {
     "name": "stderr",
     "output_type": "stream",
     "text": [
      "C:\\Users\\Kevin\\AppData\\Local\\Temp\\ipykernel_12976\\3288184646.py:84: FutureWarning: The default value of numeric_only in DataFrameGroupBy.mean is deprecated. In a future version, numeric_only will default to False. Either specify numeric_only or select only columns which should be valid for the function.\n",
      "  avg_type_df = type_df.groupby(roi_col).mean()\n",
      "C:\\Users\\Kevin\\AppData\\Local\\Temp\\ipykernel_12976\\3288184646.py:85: FutureWarning: The default value of numeric_only in DataFrameGroupBy.std is deprecated. In a future version, numeric_only will default to False. Either specify numeric_only or select only columns which should be valid for the function.\n",
      "  std_type_df = type_df.groupby(roi_col).std()\n",
      "Pickle File Processed:  39%|\u001B[31m███▉      \u001B[0m| 84/214 [12:40<15:42,  7.25s/it]"
     ]
    },
    {
     "name": "stdout",
     "output_type": "stream",
     "text": [
      "saving excel\n",
      "converting pkl to df:\n"
     ]
    },
    {
     "name": "stderr",
     "output_type": "stream",
     "text": [
      "C:\\Users\\Kevin\\AppData\\Local\\Temp\\ipykernel_12976\\3288184646.py:84: FutureWarning: The default value of numeric_only in DataFrameGroupBy.mean is deprecated. In a future version, numeric_only will default to False. Either specify numeric_only or select only columns which should be valid for the function.\n",
      "  avg_type_df = type_df.groupby(roi_col).mean()\n",
      "C:\\Users\\Kevin\\AppData\\Local\\Temp\\ipykernel_12976\\3288184646.py:85: FutureWarning: The default value of numeric_only in DataFrameGroupBy.std is deprecated. In a future version, numeric_only will default to False. Either specify numeric_only or select only columns which should be valid for the function.\n",
      "  std_type_df = type_df.groupby(roi_col).std()\n",
      "Pickle File Processed:  40%|\u001B[31m███▉      \u001B[0m| 85/214 [12:51<17:53,  8.32s/it]"
     ]
    },
    {
     "name": "stdout",
     "output_type": "stream",
     "text": [
      "saving excel\n",
      "converting pkl to df:\n"
     ]
    },
    {
     "name": "stderr",
     "output_type": "stream",
     "text": [
      "C:\\Users\\Kevin\\AppData\\Local\\Temp\\ipykernel_12976\\3288184646.py:84: FutureWarning: The default value of numeric_only in DataFrameGroupBy.mean is deprecated. In a future version, numeric_only will default to False. Either specify numeric_only or select only columns which should be valid for the function.\n",
      "  avg_type_df = type_df.groupby(roi_col).mean()\n",
      "C:\\Users\\Kevin\\AppData\\Local\\Temp\\ipykernel_12976\\3288184646.py:85: FutureWarning: The default value of numeric_only in DataFrameGroupBy.std is deprecated. In a future version, numeric_only will default to False. Either specify numeric_only or select only columns which should be valid for the function.\n",
      "  std_type_df = type_df.groupby(roi_col).std()\n",
      "Pickle File Processed:  40%|\u001B[31m████      \u001B[0m| 86/214 [12:57<15:57,  7.48s/it]"
     ]
    },
    {
     "name": "stdout",
     "output_type": "stream",
     "text": [
      "saving excel\n",
      "converting pkl to df:\n"
     ]
    },
    {
     "name": "stderr",
     "output_type": "stream",
     "text": [
      "C:\\Users\\Kevin\\AppData\\Local\\Temp\\ipykernel_12976\\3288184646.py:84: FutureWarning: The default value of numeric_only in DataFrameGroupBy.mean is deprecated. In a future version, numeric_only will default to False. Either specify numeric_only or select only columns which should be valid for the function.\n",
      "  avg_type_df = type_df.groupby(roi_col).mean()\n",
      "C:\\Users\\Kevin\\AppData\\Local\\Temp\\ipykernel_12976\\3288184646.py:85: FutureWarning: The default value of numeric_only in DataFrameGroupBy.std is deprecated. In a future version, numeric_only will default to False. Either specify numeric_only or select only columns which should be valid for the function.\n",
      "  std_type_df = type_df.groupby(roi_col).std()\n",
      "Pickle File Processed:  41%|\u001B[31m████      \u001B[0m| 87/214 [13:06<16:58,  8.02s/it]"
     ]
    },
    {
     "name": "stdout",
     "output_type": "stream",
     "text": [
      "saving excel\n",
      "converting pkl to df:\n"
     ]
    },
    {
     "name": "stderr",
     "output_type": "stream",
     "text": [
      "C:\\Users\\Kevin\\AppData\\Local\\Temp\\ipykernel_12976\\3288184646.py:84: FutureWarning: The default value of numeric_only in DataFrameGroupBy.mean is deprecated. In a future version, numeric_only will default to False. Either specify numeric_only or select only columns which should be valid for the function.\n",
      "  avg_type_df = type_df.groupby(roi_col).mean()\n",
      "C:\\Users\\Kevin\\AppData\\Local\\Temp\\ipykernel_12976\\3288184646.py:85: FutureWarning: The default value of numeric_only in DataFrameGroupBy.std is deprecated. In a future version, numeric_only will default to False. Either specify numeric_only or select only columns which should be valid for the function.\n",
      "  std_type_df = type_df.groupby(roi_col).std()\n",
      "Pickle File Processed:  41%|\u001B[31m████      \u001B[0m| 88/214 [13:22<21:37, 10.30s/it]"
     ]
    },
    {
     "name": "stdout",
     "output_type": "stream",
     "text": [
      "saving excel\n",
      "converting pkl to df:\n"
     ]
    },
    {
     "name": "stderr",
     "output_type": "stream",
     "text": [
      "C:\\Users\\Kevin\\AppData\\Local\\Temp\\ipykernel_12976\\3288184646.py:84: FutureWarning: The default value of numeric_only in DataFrameGroupBy.mean is deprecated. In a future version, numeric_only will default to False. Either specify numeric_only or select only columns which should be valid for the function.\n",
      "  avg_type_df = type_df.groupby(roi_col).mean()\n",
      "C:\\Users\\Kevin\\AppData\\Local\\Temp\\ipykernel_12976\\3288184646.py:85: FutureWarning: The default value of numeric_only in DataFrameGroupBy.std is deprecated. In a future version, numeric_only will default to False. Either specify numeric_only or select only columns which should be valid for the function.\n",
      "  std_type_df = type_df.groupby(roi_col).std()\n",
      "Pickle File Processed:  42%|\u001B[31m████▏     \u001B[0m| 89/214 [13:23<15:57,  7.66s/it]"
     ]
    },
    {
     "name": "stdout",
     "output_type": "stream",
     "text": [
      "saving excel\n",
      "converting pkl to df:\n"
     ]
    },
    {
     "name": "stderr",
     "output_type": "stream",
     "text": [
      "C:\\Users\\Kevin\\AppData\\Local\\Temp\\ipykernel_12976\\3288184646.py:84: FutureWarning: The default value of numeric_only in DataFrameGroupBy.mean is deprecated. In a future version, numeric_only will default to False. Either specify numeric_only or select only columns which should be valid for the function.\n",
      "  avg_type_df = type_df.groupby(roi_col).mean()\n",
      "C:\\Users\\Kevin\\AppData\\Local\\Temp\\ipykernel_12976\\3288184646.py:85: FutureWarning: The default value of numeric_only in DataFrameGroupBy.std is deprecated. In a future version, numeric_only will default to False. Either specify numeric_only or select only columns which should be valid for the function.\n",
      "  std_type_df = type_df.groupby(roi_col).std()\n"
     ]
    },
    {
     "name": "stdout",
     "output_type": "stream",
     "text": [
      "rois {1, 2} not included out of all rois {1, 2} for type 11\n"
     ]
    },
    {
     "name": "stderr",
     "output_type": "stream",
     "text": [
      "C:\\Users\\Kevin\\AppData\\Local\\Temp\\ipykernel_12976\\3288184646.py:84: FutureWarning: The default value of numeric_only in DataFrameGroupBy.mean is deprecated. In a future version, numeric_only will default to False. Either specify numeric_only or select only columns which should be valid for the function.\n",
      "  avg_type_df = type_df.groupby(roi_col).mean()\n",
      "C:\\Users\\Kevin\\AppData\\Local\\Temp\\ipykernel_12976\\3288184646.py:85: FutureWarning: The default value of numeric_only in DataFrameGroupBy.std is deprecated. In a future version, numeric_only will default to False. Either specify numeric_only or select only columns which should be valid for the function.\n",
      "  std_type_df = type_df.groupby(roi_col).std()\n"
     ]
    },
    {
     "name": "stdout",
     "output_type": "stream",
     "text": [
      "saving excel\n"
     ]
    },
    {
     "name": "stderr",
     "output_type": "stream",
     "text": [
      "Pickle File Processed:  42%|\u001B[31m████▏     \u001B[0m| 90/214 [13:32<16:23,  7.93s/it]"
     ]
    },
    {
     "name": "stdout",
     "output_type": "stream",
     "text": [
      "converting pkl to df:\n"
     ]
    },
    {
     "name": "stderr",
     "output_type": "stream",
     "text": [
      "C:\\Users\\Kevin\\AppData\\Local\\Temp\\ipykernel_12976\\3288184646.py:84: FutureWarning: The default value of numeric_only in DataFrameGroupBy.mean is deprecated. In a future version, numeric_only will default to False. Either specify numeric_only or select only columns which should be valid for the function.\n",
      "  avg_type_df = type_df.groupby(roi_col).mean()\n",
      "C:\\Users\\Kevin\\AppData\\Local\\Temp\\ipykernel_12976\\3288184646.py:85: FutureWarning: The default value of numeric_only in DataFrameGroupBy.std is deprecated. In a future version, numeric_only will default to False. Either specify numeric_only or select only columns which should be valid for the function.\n",
      "  std_type_df = type_df.groupby(roi_col).std()\n",
      "C:\\Users\\Kevin\\AppData\\Local\\Temp\\ipykernel_12976\\3288184646.py:84: FutureWarning: The default value of numeric_only in DataFrameGroupBy.mean is deprecated. In a future version, numeric_only will default to False. Either specify numeric_only or select only columns which should be valid for the function.\n",
      "  avg_type_df = type_df.groupby(roi_col).mean()\n",
      "C:\\Users\\Kevin\\AppData\\Local\\Temp\\ipykernel_12976\\3288184646.py:85: FutureWarning: The default value of numeric_only in DataFrameGroupBy.std is deprecated. In a future version, numeric_only will default to False. Either specify numeric_only or select only columns which should be valid for the function.\n",
      "  std_type_df = type_df.groupby(roi_col).std()\n",
      "C:\\Users\\Kevin\\AppData\\Local\\Temp\\ipykernel_12976\\3288184646.py:84: FutureWarning: The default value of numeric_only in DataFrameGroupBy.mean is deprecated. In a future version, numeric_only will default to False. Either specify numeric_only or select only columns which should be valid for the function.\n",
      "  avg_type_df = type_df.groupby(roi_col).mean()\n",
      "C:\\Users\\Kevin\\AppData\\Local\\Temp\\ipykernel_12976\\3288184646.py:85: FutureWarning: The default value of numeric_only in DataFrameGroupBy.std is deprecated. In a future version, numeric_only will default to False. Either specify numeric_only or select only columns which should be valid for the function.\n",
      "  std_type_df = type_df.groupby(roi_col).std()\n"
     ]
    },
    {
     "name": "stdout",
     "output_type": "stream",
     "text": [
      "rois {1} not included out of all rois {1} for type 3\n",
      "rois {1} not included out of all rois {1} for type 11\n",
      "saving excel\n"
     ]
    },
    {
     "name": "stderr",
     "output_type": "stream",
     "text": [
      "Pickle File Processed:  43%|\u001B[31m████▎     \u001B[0m| 91/214 [13:32<11:43,  5.72s/it]"
     ]
    },
    {
     "name": "stdout",
     "output_type": "stream",
     "text": [
      "converting pkl to df:\n"
     ]
    },
    {
     "name": "stderr",
     "output_type": "stream",
     "text": [
      "C:\\Users\\Kevin\\AppData\\Local\\Temp\\ipykernel_12976\\3288184646.py:84: FutureWarning: The default value of numeric_only in DataFrameGroupBy.mean is deprecated. In a future version, numeric_only will default to False. Either specify numeric_only or select only columns which should be valid for the function.\n",
      "  avg_type_df = type_df.groupby(roi_col).mean()\n",
      "C:\\Users\\Kevin\\AppData\\Local\\Temp\\ipykernel_12976\\3288184646.py:85: FutureWarning: The default value of numeric_only in DataFrameGroupBy.std is deprecated. In a future version, numeric_only will default to False. Either specify numeric_only or select only columns which should be valid for the function.\n",
      "  std_type_df = type_df.groupby(roi_col).std()\n"
     ]
    },
    {
     "name": "stdout",
     "output_type": "stream",
     "text": [
      "saving excel\n"
     ]
    },
    {
     "name": "stderr",
     "output_type": "stream",
     "text": [
      "Pickle File Processed:  43%|\u001B[31m████▎     \u001B[0m| 92/214 [13:40<12:36,  6.20s/it]"
     ]
    },
    {
     "name": "stdout",
     "output_type": "stream",
     "text": [
      "converting pkl to df:\n"
     ]
    },
    {
     "name": "stderr",
     "output_type": "stream",
     "text": [
      "C:\\Users\\Kevin\\AppData\\Local\\Temp\\ipykernel_12976\\3288184646.py:84: FutureWarning: The default value of numeric_only in DataFrameGroupBy.mean is deprecated. In a future version, numeric_only will default to False. Either specify numeric_only or select only columns which should be valid for the function.\n",
      "  avg_type_df = type_df.groupby(roi_col).mean()\n",
      "C:\\Users\\Kevin\\AppData\\Local\\Temp\\ipykernel_12976\\3288184646.py:85: FutureWarning: The default value of numeric_only in DataFrameGroupBy.std is deprecated. In a future version, numeric_only will default to False. Either specify numeric_only or select only columns which should be valid for the function.\n",
      "  std_type_df = type_df.groupby(roi_col).std()\n"
     ]
    },
    {
     "name": "stdout",
     "output_type": "stream",
     "text": [
      "rois {2} not included out of all rois {1, 2} for type 3\n"
     ]
    },
    {
     "name": "stderr",
     "output_type": "stream",
     "text": [
      "Pickle File Processed:  43%|\u001B[31m████▎     \u001B[0m| 93/214 [13:42<10:13,  5.07s/it]"
     ]
    },
    {
     "name": "stdout",
     "output_type": "stream",
     "text": [
      "saving excel\n",
      "converting pkl to df:\n"
     ]
    },
    {
     "name": "stderr",
     "output_type": "stream",
     "text": [
      "C:\\Users\\Kevin\\AppData\\Local\\Temp\\ipykernel_12976\\3288184646.py:84: FutureWarning: The default value of numeric_only in DataFrameGroupBy.mean is deprecated. In a future version, numeric_only will default to False. Either specify numeric_only or select only columns which should be valid for the function.\n",
      "  avg_type_df = type_df.groupby(roi_col).mean()\n",
      "C:\\Users\\Kevin\\AppData\\Local\\Temp\\ipykernel_12976\\3288184646.py:85: FutureWarning: The default value of numeric_only in DataFrameGroupBy.std is deprecated. In a future version, numeric_only will default to False. Either specify numeric_only or select only columns which should be valid for the function.\n",
      "  std_type_df = type_df.groupby(roi_col).std()\n",
      "Pickle File Processed:  44%|\u001B[31m████▍     \u001B[0m| 94/214 [13:45<08:46,  4.38s/it]"
     ]
    },
    {
     "name": "stdout",
     "output_type": "stream",
     "text": [
      "saving excel\n",
      "converting pkl to df:\n"
     ]
    },
    {
     "name": "stderr",
     "output_type": "stream",
     "text": [
      "C:\\Users\\Kevin\\AppData\\Local\\Temp\\ipykernel_12976\\3288184646.py:84: FutureWarning: The default value of numeric_only in DataFrameGroupBy.mean is deprecated. In a future version, numeric_only will default to False. Either specify numeric_only or select only columns which should be valid for the function.\n",
      "  avg_type_df = type_df.groupby(roi_col).mean()\n",
      "C:\\Users\\Kevin\\AppData\\Local\\Temp\\ipykernel_12976\\3288184646.py:85: FutureWarning: The default value of numeric_only in DataFrameGroupBy.std is deprecated. In a future version, numeric_only will default to False. Either specify numeric_only or select only columns which should be valid for the function.\n",
      "  std_type_df = type_df.groupby(roi_col).std()\n",
      "C:\\Users\\Kevin\\AppData\\Local\\Temp\\ipykernel_12976\\3288184646.py:84: FutureWarning: The default value of numeric_only in DataFrameGroupBy.mean is deprecated. In a future version, numeric_only will default to False. Either specify numeric_only or select only columns which should be valid for the function.\n",
      "  avg_type_df = type_df.groupby(roi_col).mean()\n",
      "C:\\Users\\Kevin\\AppData\\Local\\Temp\\ipykernel_12976\\3288184646.py:85: FutureWarning: The default value of numeric_only in DataFrameGroupBy.std is deprecated. In a future version, numeric_only will default to False. Either specify numeric_only or select only columns which should be valid for the function.\n",
      "  std_type_df = type_df.groupby(roi_col).std()\n"
     ]
    },
    {
     "name": "stdout",
     "output_type": "stream",
     "text": [
      "rois {1, 2} not included out of all rois {1, 2} for type 3\n"
     ]
    },
    {
     "name": "stderr",
     "output_type": "stream",
     "text": [
      "Pickle File Processed:  44%|\u001B[31m████▍     \u001B[0m| 95/214 [13:48<08:11,  4.13s/it]"
     ]
    },
    {
     "name": "stdout",
     "output_type": "stream",
     "text": [
      "saving excel\n",
      "converting pkl to df:\n"
     ]
    },
    {
     "name": "stderr",
     "output_type": "stream",
     "text": [
      "C:\\Users\\Kevin\\AppData\\Local\\Temp\\ipykernel_12976\\3288184646.py:84: FutureWarning: The default value of numeric_only in DataFrameGroupBy.mean is deprecated. In a future version, numeric_only will default to False. Either specify numeric_only or select only columns which should be valid for the function.\n",
      "  avg_type_df = type_df.groupby(roi_col).mean()\n",
      "C:\\Users\\Kevin\\AppData\\Local\\Temp\\ipykernel_12976\\3288184646.py:85: FutureWarning: The default value of numeric_only in DataFrameGroupBy.std is deprecated. In a future version, numeric_only will default to False. Either specify numeric_only or select only columns which should be valid for the function.\n",
      "  std_type_df = type_df.groupby(roi_col).std()\n"
     ]
    },
    {
     "name": "stdout",
     "output_type": "stream",
     "text": [
      "rois {1} not included out of all rois {1} for type 11\n"
     ]
    },
    {
     "name": "stderr",
     "output_type": "stream",
     "text": [
      "C:\\Users\\Kevin\\AppData\\Local\\Temp\\ipykernel_12976\\3288184646.py:84: FutureWarning: The default value of numeric_only in DataFrameGroupBy.mean is deprecated. In a future version, numeric_only will default to False. Either specify numeric_only or select only columns which should be valid for the function.\n",
      "  avg_type_df = type_df.groupby(roi_col).mean()\n",
      "C:\\Users\\Kevin\\AppData\\Local\\Temp\\ipykernel_12976\\3288184646.py:85: FutureWarning: The default value of numeric_only in DataFrameGroupBy.std is deprecated. In a future version, numeric_only will default to False. Either specify numeric_only or select only columns which should be valid for the function.\n",
      "  std_type_df = type_df.groupby(roi_col).std()\n",
      "Pickle File Processed:  45%|\u001B[31m████▍     \u001B[0m| 96/214 [13:50<06:47,  3.45s/it]"
     ]
    },
    {
     "name": "stdout",
     "output_type": "stream",
     "text": [
      "saving excel\n",
      "converting pkl to df:\n"
     ]
    },
    {
     "name": "stderr",
     "output_type": "stream",
     "text": [
      "C:\\Users\\Kevin\\AppData\\Local\\Temp\\ipykernel_12976\\3288184646.py:84: FutureWarning: The default value of numeric_only in DataFrameGroupBy.mean is deprecated. In a future version, numeric_only will default to False. Either specify numeric_only or select only columns which should be valid for the function.\n",
      "  avg_type_df = type_df.groupby(roi_col).mean()\n",
      "C:\\Users\\Kevin\\AppData\\Local\\Temp\\ipykernel_12976\\3288184646.py:85: FutureWarning: The default value of numeric_only in DataFrameGroupBy.std is deprecated. In a future version, numeric_only will default to False. Either specify numeric_only or select only columns which should be valid for the function.\n",
      "  std_type_df = type_df.groupby(roi_col).std()\n",
      "C:\\Users\\Kevin\\AppData\\Local\\Temp\\ipykernel_12976\\3288184646.py:84: FutureWarning: The default value of numeric_only in DataFrameGroupBy.mean is deprecated. In a future version, numeric_only will default to False. Either specify numeric_only or select only columns which should be valid for the function.\n",
      "  avg_type_df = type_df.groupby(roi_col).mean()\n",
      "C:\\Users\\Kevin\\AppData\\Local\\Temp\\ipykernel_12976\\3288184646.py:85: FutureWarning: The default value of numeric_only in DataFrameGroupBy.std is deprecated. In a future version, numeric_only will default to False. Either specify numeric_only or select only columns which should be valid for the function.\n",
      "  std_type_df = type_df.groupby(roi_col).std()\n"
     ]
    },
    {
     "name": "stdout",
     "output_type": "stream",
     "text": [
      "rois {2} not included out of all rois {1, 2} for type 3\n",
      "rois {1, 2} not included out of all rois {1, 2} for type 4\n"
     ]
    },
    {
     "name": "stderr",
     "output_type": "stream",
     "text": [
      "Pickle File Processed:  45%|\u001B[31m████▌     \u001B[0m| 97/214 [13:51<05:07,  2.63s/it]"
     ]
    },
    {
     "name": "stdout",
     "output_type": "stream",
     "text": [
      "saving excel\n",
      "converting pkl to df:\n"
     ]
    },
    {
     "name": "stderr",
     "output_type": "stream",
     "text": [
      "C:\\Users\\Kevin\\AppData\\Local\\Temp\\ipykernel_12976\\3288184646.py:84: FutureWarning: The default value of numeric_only in DataFrameGroupBy.mean is deprecated. In a future version, numeric_only will default to False. Either specify numeric_only or select only columns which should be valid for the function.\n",
      "  avg_type_df = type_df.groupby(roi_col).mean()\n",
      "C:\\Users\\Kevin\\AppData\\Local\\Temp\\ipykernel_12976\\3288184646.py:85: FutureWarning: The default value of numeric_only in DataFrameGroupBy.std is deprecated. In a future version, numeric_only will default to False. Either specify numeric_only or select only columns which should be valid for the function.\n",
      "  std_type_df = type_df.groupby(roi_col).std()\n",
      "Pickle File Processed:  46%|\u001B[31m████▌     \u001B[0m| 98/214 [13:59<07:59,  4.13s/it]"
     ]
    },
    {
     "name": "stdout",
     "output_type": "stream",
     "text": [
      "saving excel\n",
      "converting pkl to df:\n"
     ]
    },
    {
     "name": "stderr",
     "output_type": "stream",
     "text": [
      "C:\\Users\\Kevin\\AppData\\Local\\Temp\\ipykernel_12976\\3288184646.py:84: FutureWarning: The default value of numeric_only in DataFrameGroupBy.mean is deprecated. In a future version, numeric_only will default to False. Either specify numeric_only or select only columns which should be valid for the function.\n",
      "  avg_type_df = type_df.groupby(roi_col).mean()\n",
      "C:\\Users\\Kevin\\AppData\\Local\\Temp\\ipykernel_12976\\3288184646.py:85: FutureWarning: The default value of numeric_only in DataFrameGroupBy.std is deprecated. In a future version, numeric_only will default to False. Either specify numeric_only or select only columns which should be valid for the function.\n",
      "  std_type_df = type_df.groupby(roi_col).std()\n",
      "Pickle File Processed:  46%|\u001B[31m████▋     \u001B[0m| 99/214 [14:03<07:52,  4.11s/it]"
     ]
    },
    {
     "name": "stdout",
     "output_type": "stream",
     "text": [
      "saving excel\n",
      "converting pkl to df:\n"
     ]
    },
    {
     "name": "stderr",
     "output_type": "stream",
     "text": [
      "C:\\Users\\Kevin\\AppData\\Local\\Temp\\ipykernel_12976\\3288184646.py:84: FutureWarning: The default value of numeric_only in DataFrameGroupBy.mean is deprecated. In a future version, numeric_only will default to False. Either specify numeric_only or select only columns which should be valid for the function.\n",
      "  avg_type_df = type_df.groupby(roi_col).mean()\n",
      "C:\\Users\\Kevin\\AppData\\Local\\Temp\\ipykernel_12976\\3288184646.py:85: FutureWarning: The default value of numeric_only in DataFrameGroupBy.std is deprecated. In a future version, numeric_only will default to False. Either specify numeric_only or select only columns which should be valid for the function.\n",
      "  std_type_df = type_df.groupby(roi_col).std()\n"
     ]
    },
    {
     "name": "stdout",
     "output_type": "stream",
     "text": [
      "rois {3, 4} not included out of all rois {1, 2, 3, 4} for type 6\n",
      "saving excel\n"
     ]
    },
    {
     "name": "stderr",
     "output_type": "stream",
     "text": [
      "Pickle File Processed:  47%|\u001B[31m████▋     \u001B[0m| 100/214 [14:31<21:46, 11.46s/it]"
     ]
    },
    {
     "name": "stdout",
     "output_type": "stream",
     "text": [
      "converting pkl to df:\n"
     ]
    },
    {
     "name": "stderr",
     "output_type": "stream",
     "text": [
      "C:\\Users\\Kevin\\AppData\\Local\\Temp\\ipykernel_12976\\3288184646.py:84: FutureWarning: The default value of numeric_only in DataFrameGroupBy.mean is deprecated. In a future version, numeric_only will default to False. Either specify numeric_only or select only columns which should be valid for the function.\n",
      "  avg_type_df = type_df.groupby(roi_col).mean()\n",
      "C:\\Users\\Kevin\\AppData\\Local\\Temp\\ipykernel_12976\\3288184646.py:85: FutureWarning: The default value of numeric_only in DataFrameGroupBy.std is deprecated. In a future version, numeric_only will default to False. Either specify numeric_only or select only columns which should be valid for the function.\n",
      "  std_type_df = type_df.groupby(roi_col).std()\n"
     ]
    },
    {
     "name": "stdout",
     "output_type": "stream",
     "text": [
      "rois {1} not included out of all rois {1} for type 11\n"
     ]
    },
    {
     "name": "stderr",
     "output_type": "stream",
     "text": [
      "C:\\Users\\Kevin\\AppData\\Local\\Temp\\ipykernel_12976\\3288184646.py:84: FutureWarning: The default value of numeric_only in DataFrameGroupBy.mean is deprecated. In a future version, numeric_only will default to False. Either specify numeric_only or select only columns which should be valid for the function.\n",
      "  avg_type_df = type_df.groupby(roi_col).mean()\n",
      "C:\\Users\\Kevin\\AppData\\Local\\Temp\\ipykernel_12976\\3288184646.py:85: FutureWarning: The default value of numeric_only in DataFrameGroupBy.std is deprecated. In a future version, numeric_only will default to False. Either specify numeric_only or select only columns which should be valid for the function.\n",
      "  std_type_df = type_df.groupby(roi_col).std()\n",
      "Pickle File Processed:  47%|\u001B[31m████▋     \u001B[0m| 101/214 [14:34<16:27,  8.74s/it]"
     ]
    },
    {
     "name": "stdout",
     "output_type": "stream",
     "text": [
      "saving excel\n",
      "converting pkl to df:\n"
     ]
    },
    {
     "name": "stderr",
     "output_type": "stream",
     "text": [
      "C:\\Users\\Kevin\\AppData\\Local\\Temp\\ipykernel_12976\\3288184646.py:84: FutureWarning: The default value of numeric_only in DataFrameGroupBy.mean is deprecated. In a future version, numeric_only will default to False. Either specify numeric_only or select only columns which should be valid for the function.\n",
      "  avg_type_df = type_df.groupby(roi_col).mean()\n",
      "C:\\Users\\Kevin\\AppData\\Local\\Temp\\ipykernel_12976\\3288184646.py:85: FutureWarning: The default value of numeric_only in DataFrameGroupBy.std is deprecated. In a future version, numeric_only will default to False. Either specify numeric_only or select only columns which should be valid for the function.\n",
      "  std_type_df = type_df.groupby(roi_col).std()\n",
      "C:\\Users\\Kevin\\AppData\\Local\\Temp\\ipykernel_12976\\3288184646.py:84: FutureWarning: The default value of numeric_only in DataFrameGroupBy.mean is deprecated. In a future version, numeric_only will default to False. Either specify numeric_only or select only columns which should be valid for the function.\n",
      "  avg_type_df = type_df.groupby(roi_col).mean()\n",
      "C:\\Users\\Kevin\\AppData\\Local\\Temp\\ipykernel_12976\\3288184646.py:85: FutureWarning: The default value of numeric_only in DataFrameGroupBy.std is deprecated. In a future version, numeric_only will default to False. Either specify numeric_only or select only columns which should be valid for the function.\n",
      "  std_type_df = type_df.groupby(roi_col).std()\n"
     ]
    },
    {
     "name": "stdout",
     "output_type": "stream",
     "text": [
      "rois {1, 2, 3, 4} not included out of all rois {1, 2, 3, 4} for type 3\n",
      "rois {1, 3, 4} not included out of all rois {1, 2, 3, 4} for type 6\n",
      "rois {1, 3, 4} not included out of all rois {1, 2, 3, 4} for type 11\n"
     ]
    },
    {
     "name": "stderr",
     "output_type": "stream",
     "text": [
      "Pickle File Processed:  48%|\u001B[31m████▊     \u001B[0m| 102/214 [14:40<14:46,  7.92s/it]"
     ]
    },
    {
     "name": "stdout",
     "output_type": "stream",
     "text": [
      "saving excel\n",
      "converting pkl to df:\n"
     ]
    },
    {
     "name": "stderr",
     "output_type": "stream",
     "text": [
      "C:\\Users\\Kevin\\AppData\\Local\\Temp\\ipykernel_12976\\3288184646.py:84: FutureWarning: The default value of numeric_only in DataFrameGroupBy.mean is deprecated. In a future version, numeric_only will default to False. Either specify numeric_only or select only columns which should be valid for the function.\n",
      "  avg_type_df = type_df.groupby(roi_col).mean()\n",
      "C:\\Users\\Kevin\\AppData\\Local\\Temp\\ipykernel_12976\\3288184646.py:85: FutureWarning: The default value of numeric_only in DataFrameGroupBy.std is deprecated. In a future version, numeric_only will default to False. Either specify numeric_only or select only columns which should be valid for the function.\n",
      "  std_type_df = type_df.groupby(roi_col).std()\n",
      "Pickle File Processed:  48%|\u001B[31m████▊     \u001B[0m| 103/214 [14:46<13:48,  7.46s/it]"
     ]
    },
    {
     "name": "stdout",
     "output_type": "stream",
     "text": [
      "saving excel\n",
      "converting pkl to df:\n"
     ]
    },
    {
     "name": "stderr",
     "output_type": "stream",
     "text": [
      "C:\\Users\\Kevin\\AppData\\Local\\Temp\\ipykernel_12976\\3288184646.py:84: FutureWarning: The default value of numeric_only in DataFrameGroupBy.mean is deprecated. In a future version, numeric_only will default to False. Either specify numeric_only or select only columns which should be valid for the function.\n",
      "  avg_type_df = type_df.groupby(roi_col).mean()\n",
      "C:\\Users\\Kevin\\AppData\\Local\\Temp\\ipykernel_12976\\3288184646.py:85: FutureWarning: The default value of numeric_only in DataFrameGroupBy.std is deprecated. In a future version, numeric_only will default to False. Either specify numeric_only or select only columns which should be valid for the function.\n",
      "  std_type_df = type_df.groupby(roi_col).std()\n"
     ]
    },
    {
     "name": "stdout",
     "output_type": "stream",
     "text": [
      "rois {1} not included out of all rois {1, 2} for type 3\n"
     ]
    },
    {
     "name": "stderr",
     "output_type": "stream",
     "text": [
      "Pickle File Processed:  49%|\u001B[31m████▊     \u001B[0m| 104/214 [14:51<12:32,  6.84s/it]"
     ]
    },
    {
     "name": "stdout",
     "output_type": "stream",
     "text": [
      "saving excel\n",
      "converting pkl to df:\n"
     ]
    },
    {
     "name": "stderr",
     "output_type": "stream",
     "text": [
      "C:\\Users\\Kevin\\AppData\\Local\\Temp\\ipykernel_12976\\3288184646.py:84: FutureWarning: The default value of numeric_only in DataFrameGroupBy.mean is deprecated. In a future version, numeric_only will default to False. Either specify numeric_only or select only columns which should be valid for the function.\n",
      "  avg_type_df = type_df.groupby(roi_col).mean()\n",
      "C:\\Users\\Kevin\\AppData\\Local\\Temp\\ipykernel_12976\\3288184646.py:85: FutureWarning: The default value of numeric_only in DataFrameGroupBy.std is deprecated. In a future version, numeric_only will default to False. Either specify numeric_only or select only columns which should be valid for the function.\n",
      "  std_type_df = type_df.groupby(roi_col).std()\n",
      "Pickle File Processed:  49%|\u001B[31m████▉     \u001B[0m| 105/214 [15:12<19:39, 10.82s/it]"
     ]
    },
    {
     "name": "stdout",
     "output_type": "stream",
     "text": [
      "saving excel\n",
      "converting pkl to df:\n"
     ]
    },
    {
     "name": "stderr",
     "output_type": "stream",
     "text": [
      "C:\\Users\\Kevin\\AppData\\Local\\Temp\\ipykernel_12976\\3288184646.py:84: FutureWarning: The default value of numeric_only in DataFrameGroupBy.mean is deprecated. In a future version, numeric_only will default to False. Either specify numeric_only or select only columns which should be valid for the function.\n",
      "  avg_type_df = type_df.groupby(roi_col).mean()\n",
      "C:\\Users\\Kevin\\AppData\\Local\\Temp\\ipykernel_12976\\3288184646.py:85: FutureWarning: The default value of numeric_only in DataFrameGroupBy.std is deprecated. In a future version, numeric_only will default to False. Either specify numeric_only or select only columns which should be valid for the function.\n",
      "  std_type_df = type_df.groupby(roi_col).std()\n"
     ]
    },
    {
     "name": "stdout",
     "output_type": "stream",
     "text": [
      "saving excel\n"
     ]
    },
    {
     "name": "stderr",
     "output_type": "stream",
     "text": [
      "Pickle File Processed:  50%|\u001B[31m████▉     \u001B[0m| 106/214 [15:23<19:34, 10.88s/it]"
     ]
    },
    {
     "name": "stdout",
     "output_type": "stream",
     "text": [
      "converting pkl to df:\n"
     ]
    },
    {
     "name": "stderr",
     "output_type": "stream",
     "text": [
      "C:\\Users\\Kevin\\AppData\\Local\\Temp\\ipykernel_12976\\3288184646.py:84: FutureWarning: The default value of numeric_only in DataFrameGroupBy.mean is deprecated. In a future version, numeric_only will default to False. Either specify numeric_only or select only columns which should be valid for the function.\n",
      "  avg_type_df = type_df.groupby(roi_col).mean()\n",
      "C:\\Users\\Kevin\\AppData\\Local\\Temp\\ipykernel_12976\\3288184646.py:85: FutureWarning: The default value of numeric_only in DataFrameGroupBy.std is deprecated. In a future version, numeric_only will default to False. Either specify numeric_only or select only columns which should be valid for the function.\n",
      "  std_type_df = type_df.groupby(roi_col).std()\n",
      "Pickle File Processed:  50%|\u001B[31m█████     \u001B[0m| 107/214 [15:29<17:11,  9.64s/it]"
     ]
    },
    {
     "name": "stdout",
     "output_type": "stream",
     "text": [
      "saving excel\n",
      "converting pkl to df:\n"
     ]
    },
    {
     "name": "stderr",
     "output_type": "stream",
     "text": [
      "C:\\Users\\Kevin\\AppData\\Local\\Temp\\ipykernel_12976\\3288184646.py:84: FutureWarning: The default value of numeric_only in DataFrameGroupBy.mean is deprecated. In a future version, numeric_only will default to False. Either specify numeric_only or select only columns which should be valid for the function.\n",
      "  avg_type_df = type_df.groupby(roi_col).mean()\n",
      "C:\\Users\\Kevin\\AppData\\Local\\Temp\\ipykernel_12976\\3288184646.py:85: FutureWarning: The default value of numeric_only in DataFrameGroupBy.std is deprecated. In a future version, numeric_only will default to False. Either specify numeric_only or select only columns which should be valid for the function.\n",
      "  std_type_df = type_df.groupby(roi_col).std()\n",
      "Pickle File Processed:  50%|\u001B[31m█████     \u001B[0m| 108/214 [15:32<13:28,  7.63s/it]"
     ]
    },
    {
     "name": "stdout",
     "output_type": "stream",
     "text": [
      "saving excel\n",
      "converting pkl to df:\n"
     ]
    },
    {
     "name": "stderr",
     "output_type": "stream",
     "text": [
      "C:\\Users\\Kevin\\AppData\\Local\\Temp\\ipykernel_12976\\3288184646.py:84: FutureWarning: The default value of numeric_only in DataFrameGroupBy.mean is deprecated. In a future version, numeric_only will default to False. Either specify numeric_only or select only columns which should be valid for the function.\n",
      "  avg_type_df = type_df.groupby(roi_col).mean()\n",
      "C:\\Users\\Kevin\\AppData\\Local\\Temp\\ipykernel_12976\\3288184646.py:85: FutureWarning: The default value of numeric_only in DataFrameGroupBy.std is deprecated. In a future version, numeric_only will default to False. Either specify numeric_only or select only columns which should be valid for the function.\n",
      "  std_type_df = type_df.groupby(roi_col).std()\n",
      "Pickle File Processed:  51%|\u001B[31m█████     \u001B[0m| 109/214 [15:35<10:52,  6.21s/it]"
     ]
    },
    {
     "name": "stdout",
     "output_type": "stream",
     "text": [
      "saving excel\n",
      "converting pkl to df:\n"
     ]
    },
    {
     "name": "stderr",
     "output_type": "stream",
     "text": [
      "C:\\Users\\Kevin\\AppData\\Local\\Temp\\ipykernel_12976\\3288184646.py:84: FutureWarning: The default value of numeric_only in DataFrameGroupBy.mean is deprecated. In a future version, numeric_only will default to False. Either specify numeric_only or select only columns which should be valid for the function.\n",
      "  avg_type_df = type_df.groupby(roi_col).mean()\n",
      "C:\\Users\\Kevin\\AppData\\Local\\Temp\\ipykernel_12976\\3288184646.py:85: FutureWarning: The default value of numeric_only in DataFrameGroupBy.std is deprecated. In a future version, numeric_only will default to False. Either specify numeric_only or select only columns which should be valid for the function.\n",
      "  std_type_df = type_df.groupby(roi_col).std()\n",
      "Pickle File Processed:  51%|\u001B[31m█████▏    \u001B[0m| 110/214 [15:38<09:10,  5.30s/it]"
     ]
    },
    {
     "name": "stdout",
     "output_type": "stream",
     "text": [
      "saving excel\n",
      "converting pkl to df:\n"
     ]
    },
    {
     "name": "stderr",
     "output_type": "stream",
     "text": [
      "C:\\Users\\Kevin\\AppData\\Local\\Temp\\ipykernel_12976\\3288184646.py:84: FutureWarning: The default value of numeric_only in DataFrameGroupBy.mean is deprecated. In a future version, numeric_only will default to False. Either specify numeric_only or select only columns which should be valid for the function.\n",
      "  avg_type_df = type_df.groupby(roi_col).mean()\n",
      "C:\\Users\\Kevin\\AppData\\Local\\Temp\\ipykernel_12976\\3288184646.py:85: FutureWarning: The default value of numeric_only in DataFrameGroupBy.std is deprecated. In a future version, numeric_only will default to False. Either specify numeric_only or select only columns which should be valid for the function.\n",
      "  std_type_df = type_df.groupby(roi_col).std()\n",
      "C:\\Users\\Kevin\\AppData\\Local\\Temp\\ipykernel_12976\\3288184646.py:84: FutureWarning: The default value of numeric_only in DataFrameGroupBy.mean is deprecated. In a future version, numeric_only will default to False. Either specify numeric_only or select only columns which should be valid for the function.\n",
      "  avg_type_df = type_df.groupby(roi_col).mean()\n",
      "C:\\Users\\Kevin\\AppData\\Local\\Temp\\ipykernel_12976\\3288184646.py:85: FutureWarning: The default value of numeric_only in DataFrameGroupBy.std is deprecated. In a future version, numeric_only will default to False. Either specify numeric_only or select only columns which should be valid for the function.\n",
      "  std_type_df = type_df.groupby(roi_col).std()\n",
      "C:\\Users\\Kevin\\AppData\\Local\\Temp\\ipykernel_12976\\3288184646.py:84: FutureWarning: The default value of numeric_only in DataFrameGroupBy.mean is deprecated. In a future version, numeric_only will default to False. Either specify numeric_only or select only columns which should be valid for the function.\n",
      "  avg_type_df = type_df.groupby(roi_col).mean()\n",
      "C:\\Users\\Kevin\\AppData\\Local\\Temp\\ipykernel_12976\\3288184646.py:85: FutureWarning: The default value of numeric_only in DataFrameGroupBy.std is deprecated. In a future version, numeric_only will default to False. Either specify numeric_only or select only columns which should be valid for the function.\n",
      "  std_type_df = type_df.groupby(roi_col).std()\n"
     ]
    },
    {
     "name": "stdout",
     "output_type": "stream",
     "text": [
      "rois {1} not included out of all rois {1} for type 3\n",
      "rois {1} not included out of all rois {1} for type 6\n"
     ]
    },
    {
     "name": "stderr",
     "output_type": "stream",
     "text": [
      "Pickle File Processed:  52%|\u001B[31m█████▏    \u001B[0m| 111/214 [15:39<06:52,  4.00s/it]"
     ]
    },
    {
     "name": "stdout",
     "output_type": "stream",
     "text": [
      "saving excel\n",
      "converting pkl to df:\n"
     ]
    },
    {
     "name": "stderr",
     "output_type": "stream",
     "text": [
      "C:\\Users\\Kevin\\AppData\\Local\\Temp\\ipykernel_12976\\3288184646.py:84: FutureWarning: The default value of numeric_only in DataFrameGroupBy.mean is deprecated. In a future version, numeric_only will default to False. Either specify numeric_only or select only columns which should be valid for the function.\n",
      "  avg_type_df = type_df.groupby(roi_col).mean()\n",
      "C:\\Users\\Kevin\\AppData\\Local\\Temp\\ipykernel_12976\\3288184646.py:85: FutureWarning: The default value of numeric_only in DataFrameGroupBy.std is deprecated. In a future version, numeric_only will default to False. Either specify numeric_only or select only columns which should be valid for the function.\n",
      "  std_type_df = type_df.groupby(roi_col).std()\n"
     ]
    },
    {
     "name": "stdout",
     "output_type": "stream",
     "text": [
      "rois {1} not included out of all rois {1, 2, 3} for type 3\n",
      "rois {1} not included out of all rois {1, 2, 3} for type 11\n"
     ]
    },
    {
     "name": "stderr",
     "output_type": "stream",
     "text": [
      "Pickle File Processed:  52%|\u001B[31m█████▏    \u001B[0m| 112/214 [15:51<10:39,  6.27s/it]"
     ]
    },
    {
     "name": "stdout",
     "output_type": "stream",
     "text": [
      "saving excel\n",
      "converting pkl to df:\n"
     ]
    },
    {
     "name": "stderr",
     "output_type": "stream",
     "text": [
      "C:\\Users\\Kevin\\AppData\\Local\\Temp\\ipykernel_12976\\3288184646.py:84: FutureWarning: The default value of numeric_only in DataFrameGroupBy.mean is deprecated. In a future version, numeric_only will default to False. Either specify numeric_only or select only columns which should be valid for the function.\n",
      "  avg_type_df = type_df.groupby(roi_col).mean()\n",
      "C:\\Users\\Kevin\\AppData\\Local\\Temp\\ipykernel_12976\\3288184646.py:85: FutureWarning: The default value of numeric_only in DataFrameGroupBy.std is deprecated. In a future version, numeric_only will default to False. Either specify numeric_only or select only columns which should be valid for the function.\n",
      "  std_type_df = type_df.groupby(roi_col).std()\n",
      "C:\\Users\\Kevin\\AppData\\Local\\Temp\\ipykernel_12976\\3288184646.py:84: FutureWarning: The default value of numeric_only in DataFrameGroupBy.mean is deprecated. In a future version, numeric_only will default to False. Either specify numeric_only or select only columns which should be valid for the function.\n",
      "  avg_type_df = type_df.groupby(roi_col).mean()\n",
      "C:\\Users\\Kevin\\AppData\\Local\\Temp\\ipykernel_12976\\3288184646.py:85: FutureWarning: The default value of numeric_only in DataFrameGroupBy.std is deprecated. In a future version, numeric_only will default to False. Either specify numeric_only or select only columns which should be valid for the function.\n",
      "  std_type_df = type_df.groupby(roi_col).std()\n"
     ]
    },
    {
     "name": "stdout",
     "output_type": "stream",
     "text": [
      "rois {1} not included out of all rois {1} for type 6\n"
     ]
    },
    {
     "name": "stderr",
     "output_type": "stream",
     "text": [
      "Pickle File Processed:  53%|\u001B[31m█████▎    \u001B[0m| 113/214 [15:53<08:29,  5.05s/it]"
     ]
    },
    {
     "name": "stdout",
     "output_type": "stream",
     "text": [
      "saving excel\n",
      "converting pkl to df:\n"
     ]
    },
    {
     "name": "stderr",
     "output_type": "stream",
     "text": [
      "C:\\Users\\Kevin\\AppData\\Local\\Temp\\ipykernel_12976\\3288184646.py:84: FutureWarning: The default value of numeric_only in DataFrameGroupBy.mean is deprecated. In a future version, numeric_only will default to False. Either specify numeric_only or select only columns which should be valid for the function.\n",
      "  avg_type_df = type_df.groupby(roi_col).mean()\n",
      "C:\\Users\\Kevin\\AppData\\Local\\Temp\\ipykernel_12976\\3288184646.py:85: FutureWarning: The default value of numeric_only in DataFrameGroupBy.std is deprecated. In a future version, numeric_only will default to False. Either specify numeric_only or select only columns which should be valid for the function.\n",
      "  std_type_df = type_df.groupby(roi_col).std()\n",
      "Pickle File Processed:  53%|\u001B[31m█████▎    \u001B[0m| 114/214 [15:59<08:46,  5.27s/it]"
     ]
    },
    {
     "name": "stdout",
     "output_type": "stream",
     "text": [
      "saving excel\n",
      "converting pkl to df:\n"
     ]
    },
    {
     "name": "stderr",
     "output_type": "stream",
     "text": [
      "C:\\Users\\Kevin\\AppData\\Local\\Temp\\ipykernel_12976\\3288184646.py:84: FutureWarning: The default value of numeric_only in DataFrameGroupBy.mean is deprecated. In a future version, numeric_only will default to False. Either specify numeric_only or select only columns which should be valid for the function.\n",
      "  avg_type_df = type_df.groupby(roi_col).mean()\n",
      "C:\\Users\\Kevin\\AppData\\Local\\Temp\\ipykernel_12976\\3288184646.py:85: FutureWarning: The default value of numeric_only in DataFrameGroupBy.std is deprecated. In a future version, numeric_only will default to False. Either specify numeric_only or select only columns which should be valid for the function.\n",
      "  std_type_df = type_df.groupby(roi_col).std()\n"
     ]
    },
    {
     "name": "stdout",
     "output_type": "stream",
     "text": [
      "rois {1} not included out of all rois {1, 2} for type 3\n"
     ]
    },
    {
     "name": "stderr",
     "output_type": "stream",
     "text": [
      "Pickle File Processed:  54%|\u001B[31m█████▎    \u001B[0m| 115/214 [16:07<10:14,  6.21s/it]"
     ]
    },
    {
     "name": "stdout",
     "output_type": "stream",
     "text": [
      "saving excel\n",
      "converting pkl to df:\n"
     ]
    },
    {
     "name": "stderr",
     "output_type": "stream",
     "text": [
      "C:\\Users\\Kevin\\AppData\\Local\\Temp\\ipykernel_12976\\3288184646.py:84: FutureWarning: The default value of numeric_only in DataFrameGroupBy.mean is deprecated. In a future version, numeric_only will default to False. Either specify numeric_only or select only columns which should be valid for the function.\n",
      "  avg_type_df = type_df.groupby(roi_col).mean()\n",
      "C:\\Users\\Kevin\\AppData\\Local\\Temp\\ipykernel_12976\\3288184646.py:85: FutureWarning: The default value of numeric_only in DataFrameGroupBy.std is deprecated. In a future version, numeric_only will default to False. Either specify numeric_only or select only columns which should be valid for the function.\n",
      "  std_type_df = type_df.groupby(roi_col).std()\n"
     ]
    },
    {
     "name": "stdout",
     "output_type": "stream",
     "text": [
      "rois {1} not included out of all rois {1, 2} for type 3\n"
     ]
    },
    {
     "name": "stderr",
     "output_type": "stream",
     "text": [
      "Pickle File Processed:  54%|\u001B[31m█████▍    \u001B[0m| 116/214 [16:09<08:09,  5.00s/it]"
     ]
    },
    {
     "name": "stdout",
     "output_type": "stream",
     "text": [
      "saving excel\n",
      "converting pkl to df:\n"
     ]
    },
    {
     "name": "stderr",
     "output_type": "stream",
     "text": [
      "C:\\Users\\Kevin\\AppData\\Local\\Temp\\ipykernel_12976\\3288184646.py:84: FutureWarning: The default value of numeric_only in DataFrameGroupBy.mean is deprecated. In a future version, numeric_only will default to False. Either specify numeric_only or select only columns which should be valid for the function.\n",
      "  avg_type_df = type_df.groupby(roi_col).mean()\n",
      "C:\\Users\\Kevin\\AppData\\Local\\Temp\\ipykernel_12976\\3288184646.py:85: FutureWarning: The default value of numeric_only in DataFrameGroupBy.std is deprecated. In a future version, numeric_only will default to False. Either specify numeric_only or select only columns which should be valid for the function.\n",
      "  std_type_df = type_df.groupby(roi_col).std()\n",
      "C:\\Users\\Kevin\\AppData\\Local\\Temp\\ipykernel_12976\\3288184646.py:84: FutureWarning: The default value of numeric_only in DataFrameGroupBy.mean is deprecated. In a future version, numeric_only will default to False. Either specify numeric_only or select only columns which should be valid for the function.\n",
      "  avg_type_df = type_df.groupby(roi_col).mean()\n",
      "C:\\Users\\Kevin\\AppData\\Local\\Temp\\ipykernel_12976\\3288184646.py:85: FutureWarning: The default value of numeric_only in DataFrameGroupBy.std is deprecated. In a future version, numeric_only will default to False. Either specify numeric_only or select only columns which should be valid for the function.\n",
      "  std_type_df = type_df.groupby(roi_col).std()\n",
      "C:\\Users\\Kevin\\AppData\\Local\\Temp\\ipykernel_12976\\3288184646.py:84: FutureWarning: The default value of numeric_only in DataFrameGroupBy.mean is deprecated. In a future version, numeric_only will default to False. Either specify numeric_only or select only columns which should be valid for the function.\n",
      "  avg_type_df = type_df.groupby(roi_col).mean()\n",
      "C:\\Users\\Kevin\\AppData\\Local\\Temp\\ipykernel_12976\\3288184646.py:85: FutureWarning: The default value of numeric_only in DataFrameGroupBy.std is deprecated. In a future version, numeric_only will default to False. Either specify numeric_only or select only columns which should be valid for the function.\n",
      "  std_type_df = type_df.groupby(roi_col).std()\n"
     ]
    },
    {
     "name": "stdout",
     "output_type": "stream",
     "text": [
      "rois {1} not included out of all rois {1} for type 3\n",
      "rois {1} not included out of all rois {1} for type 6\n"
     ]
    },
    {
     "name": "stderr",
     "output_type": "stream",
     "text": [
      "Pickle File Processed:  55%|\u001B[31m█████▍    \u001B[0m| 117/214 [16:13<07:10,  4.44s/it]"
     ]
    },
    {
     "name": "stdout",
     "output_type": "stream",
     "text": [
      "saving excel\n",
      "converting pkl to df:\n"
     ]
    },
    {
     "name": "stderr",
     "output_type": "stream",
     "text": [
      "C:\\Users\\Kevin\\AppData\\Local\\Temp\\ipykernel_12976\\3288184646.py:84: FutureWarning: The default value of numeric_only in DataFrameGroupBy.mean is deprecated. In a future version, numeric_only will default to False. Either specify numeric_only or select only columns which should be valid for the function.\n",
      "  avg_type_df = type_df.groupby(roi_col).mean()\n",
      "C:\\Users\\Kevin\\AppData\\Local\\Temp\\ipykernel_12976\\3288184646.py:85: FutureWarning: The default value of numeric_only in DataFrameGroupBy.std is deprecated. In a future version, numeric_only will default to False. Either specify numeric_only or select only columns which should be valid for the function.\n",
      "  std_type_df = type_df.groupby(roi_col).std()\n",
      "Pickle File Processed:  55%|\u001B[31m█████▌    \u001B[0m| 118/214 [16:22<09:19,  5.83s/it]"
     ]
    },
    {
     "name": "stdout",
     "output_type": "stream",
     "text": [
      "saving excel\n",
      "converting pkl to df:\n"
     ]
    },
    {
     "name": "stderr",
     "output_type": "stream",
     "text": [
      "C:\\Users\\Kevin\\AppData\\Local\\Temp\\ipykernel_12976\\3288184646.py:84: FutureWarning: The default value of numeric_only in DataFrameGroupBy.mean is deprecated. In a future version, numeric_only will default to False. Either specify numeric_only or select only columns which should be valid for the function.\n",
      "  avg_type_df = type_df.groupby(roi_col).mean()\n",
      "C:\\Users\\Kevin\\AppData\\Local\\Temp\\ipykernel_12976\\3288184646.py:85: FutureWarning: The default value of numeric_only in DataFrameGroupBy.std is deprecated. In a future version, numeric_only will default to False. Either specify numeric_only or select only columns which should be valid for the function.\n",
      "  std_type_df = type_df.groupby(roi_col).std()\n",
      "Pickle File Processed:  56%|\u001B[31m█████▌    \u001B[0m| 119/214 [16:44<17:08, 10.83s/it]"
     ]
    },
    {
     "name": "stdout",
     "output_type": "stream",
     "text": [
      "saving excel\n",
      "converting pkl to df:\n"
     ]
    },
    {
     "name": "stderr",
     "output_type": "stream",
     "text": [
      "C:\\Users\\Kevin\\AppData\\Local\\Temp\\ipykernel_12976\\3288184646.py:84: FutureWarning: The default value of numeric_only in DataFrameGroupBy.mean is deprecated. In a future version, numeric_only will default to False. Either specify numeric_only or select only columns which should be valid for the function.\n",
      "  avg_type_df = type_df.groupby(roi_col).mean()\n",
      "C:\\Users\\Kevin\\AppData\\Local\\Temp\\ipykernel_12976\\3288184646.py:85: FutureWarning: The default value of numeric_only in DataFrameGroupBy.std is deprecated. In a future version, numeric_only will default to False. Either specify numeric_only or select only columns which should be valid for the function.\n",
      "  std_type_df = type_df.groupby(roi_col).std()\n"
     ]
    },
    {
     "name": "stdout",
     "output_type": "stream",
     "text": [
      "rois {1} not included out of all rois {1, 2, 3} for type 6\n"
     ]
    },
    {
     "name": "stderr",
     "output_type": "stream",
     "text": [
      "Pickle File Processed:  56%|\u001B[31m█████▌    \u001B[0m| 120/214 [16:51<15:05,  9.63s/it]"
     ]
    },
    {
     "name": "stdout",
     "output_type": "stream",
     "text": [
      "saving excel\n",
      "converting pkl to df:\n"
     ]
    },
    {
     "name": "stderr",
     "output_type": "stream",
     "text": [
      "C:\\Users\\Kevin\\AppData\\Local\\Temp\\ipykernel_12976\\3288184646.py:84: FutureWarning: The default value of numeric_only in DataFrameGroupBy.mean is deprecated. In a future version, numeric_only will default to False. Either specify numeric_only or select only columns which should be valid for the function.\n",
      "  avg_type_df = type_df.groupby(roi_col).mean()\n",
      "C:\\Users\\Kevin\\AppData\\Local\\Temp\\ipykernel_12976\\3288184646.py:85: FutureWarning: The default value of numeric_only in DataFrameGroupBy.std is deprecated. In a future version, numeric_only will default to False. Either specify numeric_only or select only columns which should be valid for the function.\n",
      "  std_type_df = type_df.groupby(roi_col).std()\n",
      "Pickle File Processed:  57%|\u001B[31m█████▋    \u001B[0m| 121/214 [16:57<13:15,  8.55s/it]"
     ]
    },
    {
     "name": "stdout",
     "output_type": "stream",
     "text": [
      "saving excel\n",
      "converting pkl to df:\n"
     ]
    },
    {
     "name": "stderr",
     "output_type": "stream",
     "text": [
      "C:\\Users\\Kevin\\AppData\\Local\\Temp\\ipykernel_12976\\3288184646.py:84: FutureWarning: The default value of numeric_only in DataFrameGroupBy.mean is deprecated. In a future version, numeric_only will default to False. Either specify numeric_only or select only columns which should be valid for the function.\n",
      "  avg_type_df = type_df.groupby(roi_col).mean()\n",
      "C:\\Users\\Kevin\\AppData\\Local\\Temp\\ipykernel_12976\\3288184646.py:85: FutureWarning: The default value of numeric_only in DataFrameGroupBy.std is deprecated. In a future version, numeric_only will default to False. Either specify numeric_only or select only columns which should be valid for the function.\n",
      "  std_type_df = type_df.groupby(roi_col).std()\n",
      "Pickle File Processed:  57%|\u001B[31m█████▋    \u001B[0m| 122/214 [17:00<10:42,  6.98s/it]"
     ]
    },
    {
     "name": "stdout",
     "output_type": "stream",
     "text": [
      "saving excel\n",
      "converting pkl to df:\n"
     ]
    },
    {
     "name": "stderr",
     "output_type": "stream",
     "text": [
      "C:\\Users\\Kevin\\AppData\\Local\\Temp\\ipykernel_12976\\3288184646.py:84: FutureWarning: The default value of numeric_only in DataFrameGroupBy.mean is deprecated. In a future version, numeric_only will default to False. Either specify numeric_only or select only columns which should be valid for the function.\n",
      "  avg_type_df = type_df.groupby(roi_col).mean()\n",
      "C:\\Users\\Kevin\\AppData\\Local\\Temp\\ipykernel_12976\\3288184646.py:85: FutureWarning: The default value of numeric_only in DataFrameGroupBy.std is deprecated. In a future version, numeric_only will default to False. Either specify numeric_only or select only columns which should be valid for the function.\n",
      "  std_type_df = type_df.groupby(roi_col).std()\n",
      "Pickle File Processed:  57%|\u001B[31m█████▋    \u001B[0m| 123/214 [17:11<12:16,  8.09s/it]"
     ]
    },
    {
     "name": "stdout",
     "output_type": "stream",
     "text": [
      "saving excel\n",
      "converting pkl to df:\n"
     ]
    },
    {
     "name": "stderr",
     "output_type": "stream",
     "text": [
      "C:\\Users\\Kevin\\AppData\\Local\\Temp\\ipykernel_12976\\3288184646.py:84: FutureWarning: The default value of numeric_only in DataFrameGroupBy.mean is deprecated. In a future version, numeric_only will default to False. Either specify numeric_only or select only columns which should be valid for the function.\n",
      "  avg_type_df = type_df.groupby(roi_col).mean()\n",
      "C:\\Users\\Kevin\\AppData\\Local\\Temp\\ipykernel_12976\\3288184646.py:85: FutureWarning: The default value of numeric_only in DataFrameGroupBy.std is deprecated. In a future version, numeric_only will default to False. Either specify numeric_only or select only columns which should be valid for the function.\n",
      "  std_type_df = type_df.groupby(roi_col).std()\n",
      "C:\\Users\\Kevin\\AppData\\Local\\Temp\\ipykernel_12976\\3288184646.py:84: FutureWarning: The default value of numeric_only in DataFrameGroupBy.mean is deprecated. In a future version, numeric_only will default to False. Either specify numeric_only or select only columns which should be valid for the function.\n",
      "  avg_type_df = type_df.groupby(roi_col).mean()\n",
      "C:\\Users\\Kevin\\AppData\\Local\\Temp\\ipykernel_12976\\3288184646.py:85: FutureWarning: The default value of numeric_only in DataFrameGroupBy.std is deprecated. In a future version, numeric_only will default to False. Either specify numeric_only or select only columns which should be valid for the function.\n",
      "  std_type_df = type_df.groupby(roi_col).std()\n"
     ]
    },
    {
     "name": "stdout",
     "output_type": "stream",
     "text": [
      "rois {1} not included out of all rois {1} for type 6\n"
     ]
    },
    {
     "name": "stderr",
     "output_type": "stream",
     "text": [
      "Pickle File Processed:  58%|\u001B[31m█████▊    \u001B[0m| 124/214 [17:14<09:45,  6.50s/it]"
     ]
    },
    {
     "name": "stdout",
     "output_type": "stream",
     "text": [
      "saving excel\n",
      "converting pkl to df:\n"
     ]
    },
    {
     "name": "stderr",
     "output_type": "stream",
     "text": [
      "C:\\Users\\Kevin\\AppData\\Local\\Temp\\ipykernel_12976\\3288184646.py:84: FutureWarning: The default value of numeric_only in DataFrameGroupBy.mean is deprecated. In a future version, numeric_only will default to False. Either specify numeric_only or select only columns which should be valid for the function.\n",
      "  avg_type_df = type_df.groupby(roi_col).mean()\n",
      "C:\\Users\\Kevin\\AppData\\Local\\Temp\\ipykernel_12976\\3288184646.py:85: FutureWarning: The default value of numeric_only in DataFrameGroupBy.std is deprecated. In a future version, numeric_only will default to False. Either specify numeric_only or select only columns which should be valid for the function.\n",
      "  std_type_df = type_df.groupby(roi_col).std()\n",
      "Pickle File Processed:  58%|\u001B[31m█████▊    \u001B[0m| 125/214 [17:27<12:41,  8.56s/it]"
     ]
    },
    {
     "name": "stdout",
     "output_type": "stream",
     "text": [
      "saving excel\n",
      "converting pkl to df:\n"
     ]
    },
    {
     "name": "stderr",
     "output_type": "stream",
     "text": [
      "C:\\Users\\Kevin\\AppData\\Local\\Temp\\ipykernel_12976\\3288184646.py:84: FutureWarning: The default value of numeric_only in DataFrameGroupBy.mean is deprecated. In a future version, numeric_only will default to False. Either specify numeric_only or select only columns which should be valid for the function.\n",
      "  avg_type_df = type_df.groupby(roi_col).mean()\n",
      "C:\\Users\\Kevin\\AppData\\Local\\Temp\\ipykernel_12976\\3288184646.py:85: FutureWarning: The default value of numeric_only in DataFrameGroupBy.std is deprecated. In a future version, numeric_only will default to False. Either specify numeric_only or select only columns which should be valid for the function.\n",
      "  std_type_df = type_df.groupby(roi_col).std()\n",
      "C:\\Users\\Kevin\\AppData\\Local\\Temp\\ipykernel_12976\\3288184646.py:84: FutureWarning: The default value of numeric_only in DataFrameGroupBy.mean is deprecated. In a future version, numeric_only will default to False. Either specify numeric_only or select only columns which should be valid for the function.\n",
      "  avg_type_df = type_df.groupby(roi_col).mean()\n",
      "C:\\Users\\Kevin\\AppData\\Local\\Temp\\ipykernel_12976\\3288184646.py:85: FutureWarning: The default value of numeric_only in DataFrameGroupBy.std is deprecated. In a future version, numeric_only will default to False. Either specify numeric_only or select only columns which should be valid for the function.\n",
      "  std_type_df = type_df.groupby(roi_col).std()\n",
      "C:\\Users\\Kevin\\AppData\\Local\\Temp\\ipykernel_12976\\3288184646.py:84: FutureWarning: The default value of numeric_only in DataFrameGroupBy.mean is deprecated. In a future version, numeric_only will default to False. Either specify numeric_only or select only columns which should be valid for the function.\n",
      "  avg_type_df = type_df.groupby(roi_col).mean()\n",
      "C:\\Users\\Kevin\\AppData\\Local\\Temp\\ipykernel_12976\\3288184646.py:85: FutureWarning: The default value of numeric_only in DataFrameGroupBy.std is deprecated. In a future version, numeric_only will default to False. Either specify numeric_only or select only columns which should be valid for the function.\n",
      "  std_type_df = type_df.groupby(roi_col).std()\n"
     ]
    },
    {
     "name": "stdout",
     "output_type": "stream",
     "text": [
      "rois {1, 2} not included out of all rois {1, 2} for type 3\n",
      "rois {1, 2} not included out of all rois {1, 2} for type 6\n"
     ]
    },
    {
     "name": "stderr",
     "output_type": "stream",
     "text": [
      "Pickle File Processed:  59%|\u001B[31m█████▉    \u001B[0m| 126/214 [17:33<11:23,  7.76s/it]"
     ]
    },
    {
     "name": "stdout",
     "output_type": "stream",
     "text": [
      "saving excel\n",
      "converting pkl to df:\n"
     ]
    },
    {
     "name": "stderr",
     "output_type": "stream",
     "text": [
      "C:\\Users\\Kevin\\AppData\\Local\\Temp\\ipykernel_12976\\3288184646.py:84: FutureWarning: The default value of numeric_only in DataFrameGroupBy.mean is deprecated. In a future version, numeric_only will default to False. Either specify numeric_only or select only columns which should be valid for the function.\n",
      "  avg_type_df = type_df.groupby(roi_col).mean()\n",
      "C:\\Users\\Kevin\\AppData\\Local\\Temp\\ipykernel_12976\\3288184646.py:85: FutureWarning: The default value of numeric_only in DataFrameGroupBy.std is deprecated. In a future version, numeric_only will default to False. Either specify numeric_only or select only columns which should be valid for the function.\n",
      "  std_type_df = type_df.groupby(roi_col).std()\n"
     ]
    },
    {
     "name": "stdout",
     "output_type": "stream",
     "text": [
      "rois {3} not included out of all rois {1, 2, 3} for type 5\n"
     ]
    },
    {
     "name": "stderr",
     "output_type": "stream",
     "text": [
      "Pickle File Processed:  59%|\u001B[31m█████▉    \u001B[0m| 127/214 [17:38<10:11,  7.03s/it]"
     ]
    },
    {
     "name": "stdout",
     "output_type": "stream",
     "text": [
      "saving excel\n",
      "converting pkl to df:\n"
     ]
    },
    {
     "name": "stderr",
     "output_type": "stream",
     "text": [
      "C:\\Users\\Kevin\\AppData\\Local\\Temp\\ipykernel_12976\\3288184646.py:84: FutureWarning: The default value of numeric_only in DataFrameGroupBy.mean is deprecated. In a future version, numeric_only will default to False. Either specify numeric_only or select only columns which should be valid for the function.\n",
      "  avg_type_df = type_df.groupby(roi_col).mean()\n",
      "C:\\Users\\Kevin\\AppData\\Local\\Temp\\ipykernel_12976\\3288184646.py:85: FutureWarning: The default value of numeric_only in DataFrameGroupBy.std is deprecated. In a future version, numeric_only will default to False. Either specify numeric_only or select only columns which should be valid for the function.\n",
      "  std_type_df = type_df.groupby(roi_col).std()\n",
      "Pickle File Processed:  60%|\u001B[31m█████▉    \u001B[0m| 128/214 [17:42<08:25,  5.87s/it]"
     ]
    },
    {
     "name": "stdout",
     "output_type": "stream",
     "text": [
      "saving excel\n",
      "converting pkl to df:\n"
     ]
    },
    {
     "name": "stderr",
     "output_type": "stream",
     "text": [
      "C:\\Users\\Kevin\\AppData\\Local\\Temp\\ipykernel_12976\\3288184646.py:84: FutureWarning: The default value of numeric_only in DataFrameGroupBy.mean is deprecated. In a future version, numeric_only will default to False. Either specify numeric_only or select only columns which should be valid for the function.\n",
      "  avg_type_df = type_df.groupby(roi_col).mean()\n",
      "C:\\Users\\Kevin\\AppData\\Local\\Temp\\ipykernel_12976\\3288184646.py:85: FutureWarning: The default value of numeric_only in DataFrameGroupBy.std is deprecated. In a future version, numeric_only will default to False. Either specify numeric_only or select only columns which should be valid for the function.\n",
      "  std_type_df = type_df.groupby(roi_col).std()\n",
      "C:\\Users\\Kevin\\AppData\\Local\\Temp\\ipykernel_12976\\3288184646.py:84: FutureWarning: The default value of numeric_only in DataFrameGroupBy.mean is deprecated. In a future version, numeric_only will default to False. Either specify numeric_only or select only columns which should be valid for the function.\n",
      "  avg_type_df = type_df.groupby(roi_col).mean()\n",
      "C:\\Users\\Kevin\\AppData\\Local\\Temp\\ipykernel_12976\\3288184646.py:85: FutureWarning: The default value of numeric_only in DataFrameGroupBy.std is deprecated. In a future version, numeric_only will default to False. Either specify numeric_only or select only columns which should be valid for the function.\n",
      "  std_type_df = type_df.groupby(roi_col).std()\n",
      "C:\\Users\\Kevin\\AppData\\Local\\Temp\\ipykernel_12976\\3288184646.py:84: FutureWarning: The default value of numeric_only in DataFrameGroupBy.mean is deprecated. In a future version, numeric_only will default to False. Either specify numeric_only or select only columns which should be valid for the function.\n",
      "  avg_type_df = type_df.groupby(roi_col).mean()\n",
      "C:\\Users\\Kevin\\AppData\\Local\\Temp\\ipykernel_12976\\3288184646.py:85: FutureWarning: The default value of numeric_only in DataFrameGroupBy.std is deprecated. In a future version, numeric_only will default to False. Either specify numeric_only or select only columns which should be valid for the function.\n",
      "  std_type_df = type_df.groupby(roi_col).std()\n",
      "C:\\Users\\Kevin\\AppData\\Local\\Temp\\ipykernel_12976\\3288184646.py:84: FutureWarning: The default value of numeric_only in DataFrameGroupBy.mean is deprecated. In a future version, numeric_only will default to False. Either specify numeric_only or select only columns which should be valid for the function.\n",
      "  avg_type_df = type_df.groupby(roi_col).mean()\n",
      "C:\\Users\\Kevin\\AppData\\Local\\Temp\\ipykernel_12976\\3288184646.py:85: FutureWarning: The default value of numeric_only in DataFrameGroupBy.std is deprecated. In a future version, numeric_only will default to False. Either specify numeric_only or select only columns which should be valid for the function.\n",
      "  std_type_df = type_df.groupby(roi_col).std()\n"
     ]
    },
    {
     "name": "stdout",
     "output_type": "stream",
     "text": [
      "rois {1} not included out of all rois {1} for type 3\n",
      "rois {1} not included out of all rois {1} for type 4\n",
      "rois {1} not included out of all rois {1} for type 6\n"
     ]
    },
    {
     "name": "stderr",
     "output_type": "stream",
     "text": [
      "Pickle File Processed:  60%|\u001B[31m██████    \u001B[0m| 129/214 [17:48<08:28,  5.98s/it]"
     ]
    },
    {
     "name": "stdout",
     "output_type": "stream",
     "text": [
      "saving excel\n",
      "converting pkl to df:\n"
     ]
    },
    {
     "name": "stderr",
     "output_type": "stream",
     "text": [
      "C:\\Users\\Kevin\\AppData\\Local\\Temp\\ipykernel_12976\\3288184646.py:84: FutureWarning: The default value of numeric_only in DataFrameGroupBy.mean is deprecated. In a future version, numeric_only will default to False. Either specify numeric_only or select only columns which should be valid for the function.\n",
      "  avg_type_df = type_df.groupby(roi_col).mean()\n",
      "C:\\Users\\Kevin\\AppData\\Local\\Temp\\ipykernel_12976\\3288184646.py:85: FutureWarning: The default value of numeric_only in DataFrameGroupBy.std is deprecated. In a future version, numeric_only will default to False. Either specify numeric_only or select only columns which should be valid for the function.\n",
      "  std_type_df = type_df.groupby(roi_col).std()\n",
      "Pickle File Processed:  61%|\u001B[31m██████    \u001B[0m| 130/214 [17:50<06:44,  4.81s/it]"
     ]
    },
    {
     "name": "stdout",
     "output_type": "stream",
     "text": [
      "saving excel\n",
      "converting pkl to df:\n"
     ]
    },
    {
     "name": "stderr",
     "output_type": "stream",
     "text": [
      "C:\\Users\\Kevin\\AppData\\Local\\Temp\\ipykernel_12976\\3288184646.py:84: FutureWarning: The default value of numeric_only in DataFrameGroupBy.mean is deprecated. In a future version, numeric_only will default to False. Either specify numeric_only or select only columns which should be valid for the function.\n",
      "  avg_type_df = type_df.groupby(roi_col).mean()\n",
      "C:\\Users\\Kevin\\AppData\\Local\\Temp\\ipykernel_12976\\3288184646.py:85: FutureWarning: The default value of numeric_only in DataFrameGroupBy.std is deprecated. In a future version, numeric_only will default to False. Either specify numeric_only or select only columns which should be valid for the function.\n",
      "  std_type_df = type_df.groupby(roi_col).std()\n"
     ]
    },
    {
     "name": "stdout",
     "output_type": "stream",
     "text": [
      "rois {2} not included out of all rois {1, 2} for type 11\n",
      "saving excel\n"
     ]
    },
    {
     "name": "stderr",
     "output_type": "stream",
     "text": [
      "Pickle File Processed:  61%|\u001B[31m██████    \u001B[0m| 131/214 [17:57<07:35,  5.49s/it]"
     ]
    },
    {
     "name": "stdout",
     "output_type": "stream",
     "text": [
      "converting pkl to df:\n"
     ]
    },
    {
     "name": "stderr",
     "output_type": "stream",
     "text": [
      "C:\\Users\\Kevin\\AppData\\Local\\Temp\\ipykernel_12976\\3288184646.py:84: FutureWarning: The default value of numeric_only in DataFrameGroupBy.mean is deprecated. In a future version, numeric_only will default to False. Either specify numeric_only or select only columns which should be valid for the function.\n",
      "  avg_type_df = type_df.groupby(roi_col).mean()\n",
      "C:\\Users\\Kevin\\AppData\\Local\\Temp\\ipykernel_12976\\3288184646.py:85: FutureWarning: The default value of numeric_only in DataFrameGroupBy.std is deprecated. In a future version, numeric_only will default to False. Either specify numeric_only or select only columns which should be valid for the function.\n",
      "  std_type_df = type_df.groupby(roi_col).std()\n",
      "C:\\Users\\Kevin\\AppData\\Local\\Temp\\ipykernel_12976\\3288184646.py:84: FutureWarning: The default value of numeric_only in DataFrameGroupBy.mean is deprecated. In a future version, numeric_only will default to False. Either specify numeric_only or select only columns which should be valid for the function.\n",
      "  avg_type_df = type_df.groupby(roi_col).mean()\n",
      "C:\\Users\\Kevin\\AppData\\Local\\Temp\\ipykernel_12976\\3288184646.py:85: FutureWarning: The default value of numeric_only in DataFrameGroupBy.std is deprecated. In a future version, numeric_only will default to False. Either specify numeric_only or select only columns which should be valid for the function.\n",
      "  std_type_df = type_df.groupby(roi_col).std()\n"
     ]
    },
    {
     "name": "stdout",
     "output_type": "stream",
     "text": [
      "rois {1} not included out of all rois {1} for type 3\n",
      "rois {1} not included out of all rois {1} for type 11\n"
     ]
    },
    {
     "name": "stderr",
     "output_type": "stream",
     "text": [
      "C:\\Users\\Kevin\\AppData\\Local\\Temp\\ipykernel_12976\\3288184646.py:84: FutureWarning: The default value of numeric_only in DataFrameGroupBy.mean is deprecated. In a future version, numeric_only will default to False. Either specify numeric_only or select only columns which should be valid for the function.\n",
      "  avg_type_df = type_df.groupby(roi_col).mean()\n",
      "C:\\Users\\Kevin\\AppData\\Local\\Temp\\ipykernel_12976\\3288184646.py:85: FutureWarning: The default value of numeric_only in DataFrameGroupBy.std is deprecated. In a future version, numeric_only will default to False. Either specify numeric_only or select only columns which should be valid for the function.\n",
      "  std_type_df = type_df.groupby(roi_col).std()\n",
      "Pickle File Processed:  62%|\u001B[31m██████▏   \u001B[0m| 132/214 [17:59<05:56,  4.35s/it]"
     ]
    },
    {
     "name": "stdout",
     "output_type": "stream",
     "text": [
      "saving excel\n",
      "converting pkl to df:\n"
     ]
    },
    {
     "name": "stderr",
     "output_type": "stream",
     "text": [
      "C:\\Users\\Kevin\\AppData\\Local\\Temp\\ipykernel_12976\\3288184646.py:84: FutureWarning: The default value of numeric_only in DataFrameGroupBy.mean is deprecated. In a future version, numeric_only will default to False. Either specify numeric_only or select only columns which should be valid for the function.\n",
      "  avg_type_df = type_df.groupby(roi_col).mean()\n",
      "C:\\Users\\Kevin\\AppData\\Local\\Temp\\ipykernel_12976\\3288184646.py:85: FutureWarning: The default value of numeric_only in DataFrameGroupBy.std is deprecated. In a future version, numeric_only will default to False. Either specify numeric_only or select only columns which should be valid for the function.\n",
      "  std_type_df = type_df.groupby(roi_col).std()\n",
      "Pickle File Processed:  62%|\u001B[31m██████▏   \u001B[0m| 133/214 [18:09<08:10,  6.05s/it]"
     ]
    },
    {
     "name": "stdout",
     "output_type": "stream",
     "text": [
      "saving excel\n",
      "converting pkl to df:\n"
     ]
    },
    {
     "name": "stderr",
     "output_type": "stream",
     "text": [
      "C:\\Users\\Kevin\\AppData\\Local\\Temp\\ipykernel_12976\\3288184646.py:84: FutureWarning: The default value of numeric_only in DataFrameGroupBy.mean is deprecated. In a future version, numeric_only will default to False. Either specify numeric_only or select only columns which should be valid for the function.\n",
      "  avg_type_df = type_df.groupby(roi_col).mean()\n",
      "C:\\Users\\Kevin\\AppData\\Local\\Temp\\ipykernel_12976\\3288184646.py:85: FutureWarning: The default value of numeric_only in DataFrameGroupBy.std is deprecated. In a future version, numeric_only will default to False. Either specify numeric_only or select only columns which should be valid for the function.\n",
      "  std_type_df = type_df.groupby(roi_col).std()\n",
      "Pickle File Processed:  63%|\u001B[31m██████▎   \u001B[0m| 134/214 [18:21<10:25,  7.82s/it]"
     ]
    },
    {
     "name": "stdout",
     "output_type": "stream",
     "text": [
      "saving excel\n",
      "converting pkl to df:\n"
     ]
    },
    {
     "name": "stderr",
     "output_type": "stream",
     "text": [
      "C:\\Users\\Kevin\\AppData\\Local\\Temp\\ipykernel_12976\\3288184646.py:84: FutureWarning: The default value of numeric_only in DataFrameGroupBy.mean is deprecated. In a future version, numeric_only will default to False. Either specify numeric_only or select only columns which should be valid for the function.\n",
      "  avg_type_df = type_df.groupby(roi_col).mean()\n",
      "C:\\Users\\Kevin\\AppData\\Local\\Temp\\ipykernel_12976\\3288184646.py:85: FutureWarning: The default value of numeric_only in DataFrameGroupBy.std is deprecated. In a future version, numeric_only will default to False. Either specify numeric_only or select only columns which should be valid for the function.\n",
      "  std_type_df = type_df.groupby(roi_col).std()\n"
     ]
    },
    {
     "name": "stdout",
     "output_type": "stream",
     "text": [
      "rois {2} not included out of all rois {1, 2} for type 3\n",
      "rois {2} not included out of all rois {1, 2} for type 11\n"
     ]
    },
    {
     "name": "stderr",
     "output_type": "stream",
     "text": [
      "Pickle File Processed:  63%|\u001B[31m██████▎   \u001B[0m| 135/214 [18:29<10:22,  7.88s/it]"
     ]
    },
    {
     "name": "stdout",
     "output_type": "stream",
     "text": [
      "saving excel\n",
      "converting pkl to df:\n"
     ]
    },
    {
     "name": "stderr",
     "output_type": "stream",
     "text": [
      "C:\\Users\\Kevin\\AppData\\Local\\Temp\\ipykernel_12976\\3288184646.py:84: FutureWarning: The default value of numeric_only in DataFrameGroupBy.mean is deprecated. In a future version, numeric_only will default to False. Either specify numeric_only or select only columns which should be valid for the function.\n",
      "  avg_type_df = type_df.groupby(roi_col).mean()\n",
      "C:\\Users\\Kevin\\AppData\\Local\\Temp\\ipykernel_12976\\3288184646.py:85: FutureWarning: The default value of numeric_only in DataFrameGroupBy.std is deprecated. In a future version, numeric_only will default to False. Either specify numeric_only or select only columns which should be valid for the function.\n",
      "  std_type_df = type_df.groupby(roi_col).std()\n"
     ]
    },
    {
     "name": "stdout",
     "output_type": "stream",
     "text": [
      "saving excel\n"
     ]
    },
    {
     "name": "stderr",
     "output_type": "stream",
     "text": [
      "Pickle File Processed:  64%|\u001B[31m██████▎   \u001B[0m| 136/214 [18:39<11:16,  8.67s/it]"
     ]
    },
    {
     "name": "stdout",
     "output_type": "stream",
     "text": [
      "converting pkl to df:\n"
     ]
    },
    {
     "name": "stderr",
     "output_type": "stream",
     "text": [
      "C:\\Users\\Kevin\\AppData\\Local\\Temp\\ipykernel_12976\\3288184646.py:84: FutureWarning: The default value of numeric_only in DataFrameGroupBy.mean is deprecated. In a future version, numeric_only will default to False. Either specify numeric_only or select only columns which should be valid for the function.\n",
      "  avg_type_df = type_df.groupby(roi_col).mean()\n",
      "C:\\Users\\Kevin\\AppData\\Local\\Temp\\ipykernel_12976\\3288184646.py:85: FutureWarning: The default value of numeric_only in DataFrameGroupBy.std is deprecated. In a future version, numeric_only will default to False. Either specify numeric_only or select only columns which should be valid for the function.\n",
      "  std_type_df = type_df.groupby(roi_col).std()\n",
      "Pickle File Processed:  64%|\u001B[31m██████▍   \u001B[0m| 137/214 [18:48<11:09,  8.70s/it]"
     ]
    },
    {
     "name": "stdout",
     "output_type": "stream",
     "text": [
      "saving excel\n",
      "converting pkl to df:\n"
     ]
    },
    {
     "name": "stderr",
     "output_type": "stream",
     "text": [
      "C:\\Users\\Kevin\\AppData\\Local\\Temp\\ipykernel_12976\\3288184646.py:84: FutureWarning: The default value of numeric_only in DataFrameGroupBy.mean is deprecated. In a future version, numeric_only will default to False. Either specify numeric_only or select only columns which should be valid for the function.\n",
      "  avg_type_df = type_df.groupby(roi_col).mean()\n",
      "C:\\Users\\Kevin\\AppData\\Local\\Temp\\ipykernel_12976\\3288184646.py:85: FutureWarning: The default value of numeric_only in DataFrameGroupBy.std is deprecated. In a future version, numeric_only will default to False. Either specify numeric_only or select only columns which should be valid for the function.\n",
      "  std_type_df = type_df.groupby(roi_col).std()\n"
     ]
    },
    {
     "name": "stdout",
     "output_type": "stream",
     "text": [
      "rois {3} not included out of all rois {1, 2, 3} for type 3\n",
      "rois {2} not included out of all rois {1, 2, 3} for type 11\n"
     ]
    },
    {
     "name": "stderr",
     "output_type": "stream",
     "text": [
      "Pickle File Processed:  64%|\u001B[31m██████▍   \u001B[0m| 138/214 [19:02<13:13, 10.44s/it]"
     ]
    },
    {
     "name": "stdout",
     "output_type": "stream",
     "text": [
      "saving excel\n",
      "converting pkl to df:\n"
     ]
    },
    {
     "name": "stderr",
     "output_type": "stream",
     "text": [
      "C:\\Users\\Kevin\\AppData\\Local\\Temp\\ipykernel_12976\\3288184646.py:84: FutureWarning: The default value of numeric_only in DataFrameGroupBy.mean is deprecated. In a future version, numeric_only will default to False. Either specify numeric_only or select only columns which should be valid for the function.\n",
      "  avg_type_df = type_df.groupby(roi_col).mean()\n",
      "C:\\Users\\Kevin\\AppData\\Local\\Temp\\ipykernel_12976\\3288184646.py:85: FutureWarning: The default value of numeric_only in DataFrameGroupBy.std is deprecated. In a future version, numeric_only will default to False. Either specify numeric_only or select only columns which should be valid for the function.\n",
      "  std_type_df = type_df.groupby(roi_col).std()\n"
     ]
    },
    {
     "name": "stdout",
     "output_type": "stream",
     "text": [
      "rois {3} not included out of all rois {1, 2, 3} for type 3\n",
      "rois {3} not included out of all rois {1, 2, 3} for type 6\n",
      "rois {2} not included out of all rois {1, 2, 3} for type 11\n",
      "saving excel\n"
     ]
    },
    {
     "name": "stderr",
     "output_type": "stream",
     "text": [
      "Pickle File Processed:  65%|\u001B[31m██████▍   \u001B[0m| 139/214 [19:12<12:40, 10.13s/it]"
     ]
    },
    {
     "name": "stdout",
     "output_type": "stream",
     "text": [
      "converting pkl to df:\n"
     ]
    },
    {
     "name": "stderr",
     "output_type": "stream",
     "text": [
      "C:\\Users\\Kevin\\AppData\\Local\\Temp\\ipykernel_12976\\3288184646.py:84: FutureWarning: The default value of numeric_only in DataFrameGroupBy.mean is deprecated. In a future version, numeric_only will default to False. Either specify numeric_only or select only columns which should be valid for the function.\n",
      "  avg_type_df = type_df.groupby(roi_col).mean()\n",
      "C:\\Users\\Kevin\\AppData\\Local\\Temp\\ipykernel_12976\\3288184646.py:85: FutureWarning: The default value of numeric_only in DataFrameGroupBy.std is deprecated. In a future version, numeric_only will default to False. Either specify numeric_only or select only columns which should be valid for the function.\n",
      "  std_type_df = type_df.groupby(roi_col).std()\n",
      "C:\\Users\\Kevin\\AppData\\Local\\Temp\\ipykernel_12976\\3288184646.py:84: FutureWarning: The default value of numeric_only in DataFrameGroupBy.mean is deprecated. In a future version, numeric_only will default to False. Either specify numeric_only or select only columns which should be valid for the function.\n",
      "  avg_type_df = type_df.groupby(roi_col).mean()\n",
      "C:\\Users\\Kevin\\AppData\\Local\\Temp\\ipykernel_12976\\3288184646.py:85: FutureWarning: The default value of numeric_only in DataFrameGroupBy.std is deprecated. In a future version, numeric_only will default to False. Either specify numeric_only or select only columns which should be valid for the function.\n",
      "  std_type_df = type_df.groupby(roi_col).std()\n",
      "C:\\Users\\Kevin\\AppData\\Local\\Temp\\ipykernel_12976\\3288184646.py:84: FutureWarning: The default value of numeric_only in DataFrameGroupBy.mean is deprecated. In a future version, numeric_only will default to False. Either specify numeric_only or select only columns which should be valid for the function.\n",
      "  avg_type_df = type_df.groupby(roi_col).mean()\n",
      "C:\\Users\\Kevin\\AppData\\Local\\Temp\\ipykernel_12976\\3288184646.py:85: FutureWarning: The default value of numeric_only in DataFrameGroupBy.std is deprecated. In a future version, numeric_only will default to False. Either specify numeric_only or select only columns which should be valid for the function.\n",
      "  std_type_df = type_df.groupby(roi_col).std()\n"
     ]
    },
    {
     "name": "stdout",
     "output_type": "stream",
     "text": [
      "rois {1, 2} not included out of all rois {1, 2} for type 3\n",
      "rois {2} not included out of all rois {1, 2} for type 4\n",
      "rois {1, 2} not included out of all rois {1, 2} for type 6\n",
      "rois {1, 2} not included out of all rois {1, 2} for type 11\n"
     ]
    },
    {
     "name": "stderr",
     "output_type": "stream",
     "text": [
      "C:\\Users\\Kevin\\AppData\\Local\\Temp\\ipykernel_12976\\3288184646.py:84: FutureWarning: The default value of numeric_only in DataFrameGroupBy.mean is deprecated. In a future version, numeric_only will default to False. Either specify numeric_only or select only columns which should be valid for the function.\n",
      "  avg_type_df = type_df.groupby(roi_col).mean()\n",
      "C:\\Users\\Kevin\\AppData\\Local\\Temp\\ipykernel_12976\\3288184646.py:85: FutureWarning: The default value of numeric_only in DataFrameGroupBy.std is deprecated. In a future version, numeric_only will default to False. Either specify numeric_only or select only columns which should be valid for the function.\n",
      "  std_type_df = type_df.groupby(roi_col).std()\n",
      "Pickle File Processed:  65%|\u001B[31m██████▌   \u001B[0m| 140/214 [19:17<10:32,  8.54s/it]"
     ]
    },
    {
     "name": "stdout",
     "output_type": "stream",
     "text": [
      "saving excel\n",
      "converting pkl to df:\n"
     ]
    },
    {
     "name": "stderr",
     "output_type": "stream",
     "text": [
      "C:\\Users\\Kevin\\AppData\\Local\\Temp\\ipykernel_12976\\3288184646.py:84: FutureWarning: The default value of numeric_only in DataFrameGroupBy.mean is deprecated. In a future version, numeric_only will default to False. Either specify numeric_only or select only columns which should be valid for the function.\n",
      "  avg_type_df = type_df.groupby(roi_col).mean()\n",
      "C:\\Users\\Kevin\\AppData\\Local\\Temp\\ipykernel_12976\\3288184646.py:85: FutureWarning: The default value of numeric_only in DataFrameGroupBy.std is deprecated. In a future version, numeric_only will default to False. Either specify numeric_only or select only columns which should be valid for the function.\n",
      "  std_type_df = type_df.groupby(roi_col).std()\n"
     ]
    },
    {
     "name": "stdout",
     "output_type": "stream",
     "text": [
      "rois {1} not included out of all rois {1, 2} for type 3\n",
      "rois {1} not included out of all rois {1, 2} for type 6\n"
     ]
    },
    {
     "name": "stderr",
     "output_type": "stream",
     "text": [
      "Pickle File Processed:  66%|\u001B[31m██████▌   \u001B[0m| 141/214 [19:25<10:12,  8.39s/it]"
     ]
    },
    {
     "name": "stdout",
     "output_type": "stream",
     "text": [
      "saving excel\n",
      "converting pkl to df:\n"
     ]
    },
    {
     "name": "stderr",
     "output_type": "stream",
     "text": [
      "C:\\Users\\Kevin\\AppData\\Local\\Temp\\ipykernel_12976\\3288184646.py:84: FutureWarning: The default value of numeric_only in DataFrameGroupBy.mean is deprecated. In a future version, numeric_only will default to False. Either specify numeric_only or select only columns which should be valid for the function.\n",
      "  avg_type_df = type_df.groupby(roi_col).mean()\n",
      "C:\\Users\\Kevin\\AppData\\Local\\Temp\\ipykernel_12976\\3288184646.py:85: FutureWarning: The default value of numeric_only in DataFrameGroupBy.std is deprecated. In a future version, numeric_only will default to False. Either specify numeric_only or select only columns which should be valid for the function.\n",
      "  std_type_df = type_df.groupby(roi_col).std()\n",
      "Pickle File Processed:  66%|\u001B[31m██████▋   \u001B[0m| 142/214 [19:29<08:27,  7.05s/it]"
     ]
    },
    {
     "name": "stdout",
     "output_type": "stream",
     "text": [
      "saving excel\n",
      "converting pkl to df:\n"
     ]
    },
    {
     "name": "stderr",
     "output_type": "stream",
     "text": [
      "C:\\Users\\Kevin\\AppData\\Local\\Temp\\ipykernel_12976\\3288184646.py:84: FutureWarning: The default value of numeric_only in DataFrameGroupBy.mean is deprecated. In a future version, numeric_only will default to False. Either specify numeric_only or select only columns which should be valid for the function.\n",
      "  avg_type_df = type_df.groupby(roi_col).mean()\n",
      "C:\\Users\\Kevin\\AppData\\Local\\Temp\\ipykernel_12976\\3288184646.py:85: FutureWarning: The default value of numeric_only in DataFrameGroupBy.std is deprecated. In a future version, numeric_only will default to False. Either specify numeric_only or select only columns which should be valid for the function.\n",
      "  std_type_df = type_df.groupby(roi_col).std()\n",
      "Pickle File Processed:  67%|\u001B[31m██████▋   \u001B[0m| 143/214 [19:32<07:09,  6.05s/it]"
     ]
    },
    {
     "name": "stdout",
     "output_type": "stream",
     "text": [
      "saving excel\n",
      "converting pkl to df:\n"
     ]
    },
    {
     "name": "stderr",
     "output_type": "stream",
     "text": [
      "C:\\Users\\Kevin\\AppData\\Local\\Temp\\ipykernel_12976\\3288184646.py:84: FutureWarning: The default value of numeric_only in DataFrameGroupBy.mean is deprecated. In a future version, numeric_only will default to False. Either specify numeric_only or select only columns which should be valid for the function.\n",
      "  avg_type_df = type_df.groupby(roi_col).mean()\n",
      "C:\\Users\\Kevin\\AppData\\Local\\Temp\\ipykernel_12976\\3288184646.py:85: FutureWarning: The default value of numeric_only in DataFrameGroupBy.std is deprecated. In a future version, numeric_only will default to False. Either specify numeric_only or select only columns which should be valid for the function.\n",
      "  std_type_df = type_df.groupby(roi_col).std()\n",
      "Pickle File Processed:  67%|\u001B[31m██████▋   \u001B[0m| 144/214 [19:45<09:31,  8.17s/it]"
     ]
    },
    {
     "name": "stdout",
     "output_type": "stream",
     "text": [
      "saving excel\n",
      "converting pkl to df:\n"
     ]
    },
    {
     "name": "stderr",
     "output_type": "stream",
     "text": [
      "C:\\Users\\Kevin\\AppData\\Local\\Temp\\ipykernel_12976\\3288184646.py:84: FutureWarning: The default value of numeric_only in DataFrameGroupBy.mean is deprecated. In a future version, numeric_only will default to False. Either specify numeric_only or select only columns which should be valid for the function.\n",
      "  avg_type_df = type_df.groupby(roi_col).mean()\n",
      "C:\\Users\\Kevin\\AppData\\Local\\Temp\\ipykernel_12976\\3288184646.py:85: FutureWarning: The default value of numeric_only in DataFrameGroupBy.std is deprecated. In a future version, numeric_only will default to False. Either specify numeric_only or select only columns which should be valid for the function.\n",
      "  std_type_df = type_df.groupby(roi_col).std()\n"
     ]
    },
    {
     "name": "stdout",
     "output_type": "stream",
     "text": [
      "rois {2} not included out of all rois {1, 2, 3} for type 3\n",
      "rois {2} not included out of all rois {1, 2, 3} for type 6\n"
     ]
    },
    {
     "name": "stderr",
     "output_type": "stream",
     "text": [
      "Pickle File Processed:  68%|\u001B[31m██████▊   \u001B[0m| 145/214 [19:56<10:09,  8.84s/it]"
     ]
    },
    {
     "name": "stdout",
     "output_type": "stream",
     "text": [
      "saving excel\n",
      "converting pkl to df:\n"
     ]
    },
    {
     "name": "stderr",
     "output_type": "stream",
     "text": [
      "C:\\Users\\Kevin\\AppData\\Local\\Temp\\ipykernel_12976\\3288184646.py:84: FutureWarning: The default value of numeric_only in DataFrameGroupBy.mean is deprecated. In a future version, numeric_only will default to False. Either specify numeric_only or select only columns which should be valid for the function.\n",
      "  avg_type_df = type_df.groupby(roi_col).mean()\n",
      "C:\\Users\\Kevin\\AppData\\Local\\Temp\\ipykernel_12976\\3288184646.py:85: FutureWarning: The default value of numeric_only in DataFrameGroupBy.std is deprecated. In a future version, numeric_only will default to False. Either specify numeric_only or select only columns which should be valid for the function.\n",
      "  std_type_df = type_df.groupby(roi_col).std()\n"
     ]
    },
    {
     "name": "stdout",
     "output_type": "stream",
     "text": [
      "rois {5} not included out of all rois {1, 2, 3, 4, 5} for type 3\n",
      "rois {5} not included out of all rois {1, 2, 3, 4, 5} for type 4\n",
      "rois {3, 5} not included out of all rois {1, 2, 3, 4, 5} for type 6\n"
     ]
    },
    {
     "name": "stderr",
     "output_type": "stream",
     "text": [
      "Pickle File Processed:  68%|\u001B[31m██████▊   \u001B[0m| 146/214 [20:11<12:17, 10.85s/it]"
     ]
    },
    {
     "name": "stdout",
     "output_type": "stream",
     "text": [
      "saving excel\n",
      "converting pkl to df:\n"
     ]
    },
    {
     "name": "stderr",
     "output_type": "stream",
     "text": [
      "C:\\Users\\Kevin\\AppData\\Local\\Temp\\ipykernel_12976\\3288184646.py:84: FutureWarning: The default value of numeric_only in DataFrameGroupBy.mean is deprecated. In a future version, numeric_only will default to False. Either specify numeric_only or select only columns which should be valid for the function.\n",
      "  avg_type_df = type_df.groupby(roi_col).mean()\n",
      "C:\\Users\\Kevin\\AppData\\Local\\Temp\\ipykernel_12976\\3288184646.py:85: FutureWarning: The default value of numeric_only in DataFrameGroupBy.std is deprecated. In a future version, numeric_only will default to False. Either specify numeric_only or select only columns which should be valid for the function.\n",
      "  std_type_df = type_df.groupby(roi_col).std()\n"
     ]
    },
    {
     "name": "stdout",
     "output_type": "stream",
     "text": [
      "rois {1} not included out of all rois {1, 2} for type 3\n",
      "rois {1} not included out of all rois {1, 2} for type 6\n"
     ]
    },
    {
     "name": "stderr",
     "output_type": "stream",
     "text": [
      "Pickle File Processed:  69%|\u001B[31m██████▊   \u001B[0m| 147/214 [20:18<10:46,  9.66s/it]"
     ]
    },
    {
     "name": "stdout",
     "output_type": "stream",
     "text": [
      "saving excel\n",
      "converting pkl to df:\n"
     ]
    },
    {
     "name": "stderr",
     "output_type": "stream",
     "text": [
      "C:\\Users\\Kevin\\AppData\\Local\\Temp\\ipykernel_12976\\3288184646.py:84: FutureWarning: The default value of numeric_only in DataFrameGroupBy.mean is deprecated. In a future version, numeric_only will default to False. Either specify numeric_only or select only columns which should be valid for the function.\n",
      "  avg_type_df = type_df.groupby(roi_col).mean()\n",
      "C:\\Users\\Kevin\\AppData\\Local\\Temp\\ipykernel_12976\\3288184646.py:85: FutureWarning: The default value of numeric_only in DataFrameGroupBy.std is deprecated. In a future version, numeric_only will default to False. Either specify numeric_only or select only columns which should be valid for the function.\n",
      "  std_type_df = type_df.groupby(roi_col).std()\n"
     ]
    },
    {
     "name": "stdout",
     "output_type": "stream",
     "text": [
      "rois {1, 2} not included out of all rois {1, 2} for type 11\n"
     ]
    },
    {
     "name": "stderr",
     "output_type": "stream",
     "text": [
      "C:\\Users\\Kevin\\AppData\\Local\\Temp\\ipykernel_12976\\3288184646.py:84: FutureWarning: The default value of numeric_only in DataFrameGroupBy.mean is deprecated. In a future version, numeric_only will default to False. Either specify numeric_only or select only columns which should be valid for the function.\n",
      "  avg_type_df = type_df.groupby(roi_col).mean()\n",
      "C:\\Users\\Kevin\\AppData\\Local\\Temp\\ipykernel_12976\\3288184646.py:85: FutureWarning: The default value of numeric_only in DataFrameGroupBy.std is deprecated. In a future version, numeric_only will default to False. Either specify numeric_only or select only columns which should be valid for the function.\n",
      "  std_type_df = type_df.groupby(roi_col).std()\n",
      "Pickle File Processed:  69%|\u001B[31m██████▉   \u001B[0m| 148/214 [20:21<08:17,  7.53s/it]"
     ]
    },
    {
     "name": "stdout",
     "output_type": "stream",
     "text": [
      "saving excel\n",
      "converting pkl to df:\n"
     ]
    },
    {
     "name": "stderr",
     "output_type": "stream",
     "text": [
      "C:\\Users\\Kevin\\AppData\\Local\\Temp\\ipykernel_12976\\3288184646.py:84: FutureWarning: The default value of numeric_only in DataFrameGroupBy.mean is deprecated. In a future version, numeric_only will default to False. Either specify numeric_only or select only columns which should be valid for the function.\n",
      "  avg_type_df = type_df.groupby(roi_col).mean()\n",
      "C:\\Users\\Kevin\\AppData\\Local\\Temp\\ipykernel_12976\\3288184646.py:85: FutureWarning: The default value of numeric_only in DataFrameGroupBy.std is deprecated. In a future version, numeric_only will default to False. Either specify numeric_only or select only columns which should be valid for the function.\n",
      "  std_type_df = type_df.groupby(roi_col).std()\n",
      "Pickle File Processed:  70%|\u001B[31m██████▉   \u001B[0m| 149/214 [20:28<07:52,  7.27s/it]"
     ]
    },
    {
     "name": "stdout",
     "output_type": "stream",
     "text": [
      "saving excel\n",
      "converting pkl to df:\n"
     ]
    },
    {
     "name": "stderr",
     "output_type": "stream",
     "text": [
      "C:\\Users\\Kevin\\AppData\\Local\\Temp\\ipykernel_12976\\3288184646.py:84: FutureWarning: The default value of numeric_only in DataFrameGroupBy.mean is deprecated. In a future version, numeric_only will default to False. Either specify numeric_only or select only columns which should be valid for the function.\n",
      "  avg_type_df = type_df.groupby(roi_col).mean()\n",
      "C:\\Users\\Kevin\\AppData\\Local\\Temp\\ipykernel_12976\\3288184646.py:85: FutureWarning: The default value of numeric_only in DataFrameGroupBy.std is deprecated. In a future version, numeric_only will default to False. Either specify numeric_only or select only columns which should be valid for the function.\n",
      "  std_type_df = type_df.groupby(roi_col).std()\n",
      "C:\\Users\\Kevin\\AppData\\Local\\Temp\\ipykernel_12976\\3288184646.py:84: FutureWarning: The default value of numeric_only in DataFrameGroupBy.mean is deprecated. In a future version, numeric_only will default to False. Either specify numeric_only or select only columns which should be valid for the function.\n",
      "  avg_type_df = type_df.groupby(roi_col).mean()\n",
      "C:\\Users\\Kevin\\AppData\\Local\\Temp\\ipykernel_12976\\3288184646.py:85: FutureWarning: The default value of numeric_only in DataFrameGroupBy.std is deprecated. In a future version, numeric_only will default to False. Either specify numeric_only or select only columns which should be valid for the function.\n",
      "  std_type_df = type_df.groupby(roi_col).std()\n"
     ]
    },
    {
     "name": "stdout",
     "output_type": "stream",
     "text": [
      "rois {1} not included out of all rois {1} for type 6\n",
      "rois {1} not included out of all rois {1} for type 11\n"
     ]
    },
    {
     "name": "stderr",
     "output_type": "stream",
     "text": [
      "C:\\Users\\Kevin\\AppData\\Local\\Temp\\ipykernel_12976\\3288184646.py:84: FutureWarning: The default value of numeric_only in DataFrameGroupBy.mean is deprecated. In a future version, numeric_only will default to False. Either specify numeric_only or select only columns which should be valid for the function.\n",
      "  avg_type_df = type_df.groupby(roi_col).mean()\n",
      "C:\\Users\\Kevin\\AppData\\Local\\Temp\\ipykernel_12976\\3288184646.py:85: FutureWarning: The default value of numeric_only in DataFrameGroupBy.std is deprecated. In a future version, numeric_only will default to False. Either specify numeric_only or select only columns which should be valid for the function.\n",
      "  std_type_df = type_df.groupby(roi_col).std()\n",
      "Pickle File Processed:  70%|\u001B[31m███████   \u001B[0m| 150/214 [20:29<06:02,  5.67s/it]"
     ]
    },
    {
     "name": "stdout",
     "output_type": "stream",
     "text": [
      "saving excel\n",
      "converting pkl to df:\n"
     ]
    },
    {
     "name": "stderr",
     "output_type": "stream",
     "text": [
      "C:\\Users\\Kevin\\AppData\\Local\\Temp\\ipykernel_12976\\3288184646.py:84: FutureWarning: The default value of numeric_only in DataFrameGroupBy.mean is deprecated. In a future version, numeric_only will default to False. Either specify numeric_only or select only columns which should be valid for the function.\n",
      "  avg_type_df = type_df.groupby(roi_col).mean()\n",
      "C:\\Users\\Kevin\\AppData\\Local\\Temp\\ipykernel_12976\\3288184646.py:85: FutureWarning: The default value of numeric_only in DataFrameGroupBy.std is deprecated. In a future version, numeric_only will default to False. Either specify numeric_only or select only columns which should be valid for the function.\n",
      "  std_type_df = type_df.groupby(roi_col).std()\n",
      "C:\\Users\\Kevin\\AppData\\Local\\Temp\\ipykernel_12976\\3288184646.py:84: FutureWarning: The default value of numeric_only in DataFrameGroupBy.mean is deprecated. In a future version, numeric_only will default to False. Either specify numeric_only or select only columns which should be valid for the function.\n",
      "  avg_type_df = type_df.groupby(roi_col).mean()\n",
      "C:\\Users\\Kevin\\AppData\\Local\\Temp\\ipykernel_12976\\3288184646.py:85: FutureWarning: The default value of numeric_only in DataFrameGroupBy.std is deprecated. In a future version, numeric_only will default to False. Either specify numeric_only or select only columns which should be valid for the function.\n",
      "  std_type_df = type_df.groupby(roi_col).std()\n"
     ]
    },
    {
     "name": "stdout",
     "output_type": "stream",
     "text": [
      "rois {1} not included out of all rois {1, 2} for type 3\n",
      "rois {1, 2} not included out of all rois {1, 2} for type 6\n"
     ]
    },
    {
     "name": "stderr",
     "output_type": "stream",
     "text": [
      "Pickle File Processed:  71%|\u001B[31m███████   \u001B[0m| 151/214 [20:35<05:49,  5.55s/it]"
     ]
    },
    {
     "name": "stdout",
     "output_type": "stream",
     "text": [
      "saving excel\n",
      "converting pkl to df:\n"
     ]
    },
    {
     "name": "stderr",
     "output_type": "stream",
     "text": [
      "C:\\Users\\Kevin\\AppData\\Local\\Temp\\ipykernel_12976\\3288184646.py:84: FutureWarning: The default value of numeric_only in DataFrameGroupBy.mean is deprecated. In a future version, numeric_only will default to False. Either specify numeric_only or select only columns which should be valid for the function.\n",
      "  avg_type_df = type_df.groupby(roi_col).mean()\n",
      "C:\\Users\\Kevin\\AppData\\Local\\Temp\\ipykernel_12976\\3288184646.py:85: FutureWarning: The default value of numeric_only in DataFrameGroupBy.std is deprecated. In a future version, numeric_only will default to False. Either specify numeric_only or select only columns which should be valid for the function.\n",
      "  std_type_df = type_df.groupby(roi_col).std()\n",
      "C:\\Users\\Kevin\\AppData\\Local\\Temp\\ipykernel_12976\\3288184646.py:84: FutureWarning: The default value of numeric_only in DataFrameGroupBy.mean is deprecated. In a future version, numeric_only will default to False. Either specify numeric_only or select only columns which should be valid for the function.\n",
      "  avg_type_df = type_df.groupby(roi_col).mean()\n",
      "C:\\Users\\Kevin\\AppData\\Local\\Temp\\ipykernel_12976\\3288184646.py:85: FutureWarning: The default value of numeric_only in DataFrameGroupBy.std is deprecated. In a future version, numeric_only will default to False. Either specify numeric_only or select only columns which should be valid for the function.\n",
      "  std_type_df = type_df.groupby(roi_col).std()\n",
      "C:\\Users\\Kevin\\AppData\\Local\\Temp\\ipykernel_12976\\3288184646.py:84: FutureWarning: The default value of numeric_only in DataFrameGroupBy.mean is deprecated. In a future version, numeric_only will default to False. Either specify numeric_only or select only columns which should be valid for the function.\n",
      "  avg_type_df = type_df.groupby(roi_col).mean()\n",
      "C:\\Users\\Kevin\\AppData\\Local\\Temp\\ipykernel_12976\\3288184646.py:85: FutureWarning: The default value of numeric_only in DataFrameGroupBy.std is deprecated. In a future version, numeric_only will default to False. Either specify numeric_only or select only columns which should be valid for the function.\n",
      "  std_type_df = type_df.groupby(roi_col).std()\n"
     ]
    },
    {
     "name": "stdout",
     "output_type": "stream",
     "text": [
      "rois {1, 2} not included out of all rois {1, 2} for type 3\n",
      "rois {1, 2} not included out of all rois {1, 2} for type 4\n",
      "rois {2} not included out of all rois {1, 2} for type 6\n",
      "rois {1, 2} not included out of all rois {1, 2} for type 11\n",
      "saving excel\n"
     ]
    },
    {
     "name": "stderr",
     "output_type": "stream",
     "text": [
      "C:\\Users\\Kevin\\AppData\\Local\\Temp\\ipykernel_12976\\3288184646.py:84: FutureWarning: The default value of numeric_only in DataFrameGroupBy.mean is deprecated. In a future version, numeric_only will default to False. Either specify numeric_only or select only columns which should be valid for the function.\n",
      "  avg_type_df = type_df.groupby(roi_col).mean()\n",
      "C:\\Users\\Kevin\\AppData\\Local\\Temp\\ipykernel_12976\\3288184646.py:85: FutureWarning: The default value of numeric_only in DataFrameGroupBy.std is deprecated. In a future version, numeric_only will default to False. Either specify numeric_only or select only columns which should be valid for the function.\n",
      "  std_type_df = type_df.groupby(roi_col).std()\n",
      "Pickle File Processed:  71%|\u001B[31m███████   \u001B[0m| 152/214 [20:36<04:19,  4.19s/it]"
     ]
    },
    {
     "name": "stdout",
     "output_type": "stream",
     "text": [
      "converting pkl to df:\n"
     ]
    },
    {
     "name": "stderr",
     "output_type": "stream",
     "text": [
      "C:\\Users\\Kevin\\AppData\\Local\\Temp\\ipykernel_12976\\3288184646.py:84: FutureWarning: The default value of numeric_only in DataFrameGroupBy.mean is deprecated. In a future version, numeric_only will default to False. Either specify numeric_only or select only columns which should be valid for the function.\n",
      "  avg_type_df = type_df.groupby(roi_col).mean()\n",
      "C:\\Users\\Kevin\\AppData\\Local\\Temp\\ipykernel_12976\\3288184646.py:85: FutureWarning: The default value of numeric_only in DataFrameGroupBy.std is deprecated. In a future version, numeric_only will default to False. Either specify numeric_only or select only columns which should be valid for the function.\n",
      "  std_type_df = type_df.groupby(roi_col).std()\n",
      "C:\\Users\\Kevin\\AppData\\Local\\Temp\\ipykernel_12976\\3288184646.py:84: FutureWarning: The default value of numeric_only in DataFrameGroupBy.mean is deprecated. In a future version, numeric_only will default to False. Either specify numeric_only or select only columns which should be valid for the function.\n",
      "  avg_type_df = type_df.groupby(roi_col).mean()\n",
      "C:\\Users\\Kevin\\AppData\\Local\\Temp\\ipykernel_12976\\3288184646.py:85: FutureWarning: The default value of numeric_only in DataFrameGroupBy.std is deprecated. In a future version, numeric_only will default to False. Either specify numeric_only or select only columns which should be valid for the function.\n",
      "  std_type_df = type_df.groupby(roi_col).std()\n"
     ]
    },
    {
     "name": "stdout",
     "output_type": "stream",
     "text": [
      "rois {1} not included out of all rois {1} for type 3\n"
     ]
    },
    {
     "name": "stderr",
     "output_type": "stream",
     "text": [
      "Pickle File Processed:  71%|\u001B[31m███████▏  \u001B[0m| 153/214 [20:44<05:33,  5.46s/it]"
     ]
    },
    {
     "name": "stdout",
     "output_type": "stream",
     "text": [
      "saving excel\n",
      "converting pkl to df:\n"
     ]
    },
    {
     "name": "stderr",
     "output_type": "stream",
     "text": [
      "C:\\Users\\Kevin\\AppData\\Local\\Temp\\ipykernel_12976\\3288184646.py:84: FutureWarning: The default value of numeric_only in DataFrameGroupBy.mean is deprecated. In a future version, numeric_only will default to False. Either specify numeric_only or select only columns which should be valid for the function.\n",
      "  avg_type_df = type_df.groupby(roi_col).mean()\n",
      "C:\\Users\\Kevin\\AppData\\Local\\Temp\\ipykernel_12976\\3288184646.py:85: FutureWarning: The default value of numeric_only in DataFrameGroupBy.std is deprecated. In a future version, numeric_only will default to False. Either specify numeric_only or select only columns which should be valid for the function.\n",
      "  std_type_df = type_df.groupby(roi_col).std()\n"
     ]
    },
    {
     "name": "stdout",
     "output_type": "stream",
     "text": [
      "rois {2, 4} not included out of all rois {1, 2, 3, 4} for type 3\n",
      "rois {2, 4} not included out of all rois {1, 2, 3, 4} for type 4\n",
      "rois {4} not included out of all rois {1, 2, 3, 4} for type 6\n",
      "saving excel\n"
     ]
    },
    {
     "name": "stderr",
     "output_type": "stream",
     "text": [
      "Pickle File Processed:  72%|\u001B[31m███████▏  \u001B[0m| 154/214 [20:54<06:50,  6.85s/it]"
     ]
    },
    {
     "name": "stdout",
     "output_type": "stream",
     "text": [
      "converting pkl to df:\n"
     ]
    },
    {
     "name": "stderr",
     "output_type": "stream",
     "text": [
      "C:\\Users\\Kevin\\AppData\\Local\\Temp\\ipykernel_12976\\3288184646.py:84: FutureWarning: The default value of numeric_only in DataFrameGroupBy.mean is deprecated. In a future version, numeric_only will default to False. Either specify numeric_only or select only columns which should be valid for the function.\n",
      "  avg_type_df = type_df.groupby(roi_col).mean()\n",
      "C:\\Users\\Kevin\\AppData\\Local\\Temp\\ipykernel_12976\\3288184646.py:85: FutureWarning: The default value of numeric_only in DataFrameGroupBy.std is deprecated. In a future version, numeric_only will default to False. Either specify numeric_only or select only columns which should be valid for the function.\n",
      "  std_type_df = type_df.groupby(roi_col).std()\n",
      "Pickle File Processed:  72%|\u001B[31m███████▏  \u001B[0m| 155/214 [21:06<08:17,  8.43s/it]"
     ]
    },
    {
     "name": "stdout",
     "output_type": "stream",
     "text": [
      "saving excel\n",
      "converting pkl to df:\n"
     ]
    },
    {
     "name": "stderr",
     "output_type": "stream",
     "text": [
      "C:\\Users\\Kevin\\AppData\\Local\\Temp\\ipykernel_12976\\3288184646.py:84: FutureWarning: The default value of numeric_only in DataFrameGroupBy.mean is deprecated. In a future version, numeric_only will default to False. Either specify numeric_only or select only columns which should be valid for the function.\n",
      "  avg_type_df = type_df.groupby(roi_col).mean()\n",
      "C:\\Users\\Kevin\\AppData\\Local\\Temp\\ipykernel_12976\\3288184646.py:85: FutureWarning: The default value of numeric_only in DataFrameGroupBy.std is deprecated. In a future version, numeric_only will default to False. Either specify numeric_only or select only columns which should be valid for the function.\n",
      "  std_type_df = type_df.groupby(roi_col).std()\n"
     ]
    },
    {
     "name": "stdout",
     "output_type": "stream",
     "text": [
      "saving excel\n"
     ]
    },
    {
     "name": "stderr",
     "output_type": "stream",
     "text": [
      "Pickle File Processed:  73%|\u001B[31m███████▎  \u001B[0m| 156/214 [21:12<07:21,  7.60s/it]"
     ]
    },
    {
     "name": "stdout",
     "output_type": "stream",
     "text": [
      "converting pkl to df:\n"
     ]
    },
    {
     "name": "stderr",
     "output_type": "stream",
     "text": [
      "C:\\Users\\Kevin\\AppData\\Local\\Temp\\ipykernel_12976\\3288184646.py:84: FutureWarning: The default value of numeric_only in DataFrameGroupBy.mean is deprecated. In a future version, numeric_only will default to False. Either specify numeric_only or select only columns which should be valid for the function.\n",
      "  avg_type_df = type_df.groupby(roi_col).mean()\n",
      "C:\\Users\\Kevin\\AppData\\Local\\Temp\\ipykernel_12976\\3288184646.py:85: FutureWarning: The default value of numeric_only in DataFrameGroupBy.std is deprecated. In a future version, numeric_only will default to False. Either specify numeric_only or select only columns which should be valid for the function.\n",
      "  std_type_df = type_df.groupby(roi_col).std()\n"
     ]
    },
    {
     "name": "stdout",
     "output_type": "stream",
     "text": [
      "rois {1, 2} not included out of all rois {1, 2, 3, 4} for type 3\n",
      "rois {1, 2, 3, 4} not included out of all rois {1, 2, 3, 4} for type 11\n"
     ]
    },
    {
     "name": "stderr",
     "output_type": "stream",
     "text": [
      "C:\\Users\\Kevin\\AppData\\Local\\Temp\\ipykernel_12976\\3288184646.py:84: FutureWarning: The default value of numeric_only in DataFrameGroupBy.mean is deprecated. In a future version, numeric_only will default to False. Either specify numeric_only or select only columns which should be valid for the function.\n",
      "  avg_type_df = type_df.groupby(roi_col).mean()\n",
      "C:\\Users\\Kevin\\AppData\\Local\\Temp\\ipykernel_12976\\3288184646.py:85: FutureWarning: The default value of numeric_only in DataFrameGroupBy.std is deprecated. In a future version, numeric_only will default to False. Either specify numeric_only or select only columns which should be valid for the function.\n",
      "  std_type_df = type_df.groupby(roi_col).std()\n"
     ]
    },
    {
     "name": "stdout",
     "output_type": "stream",
     "text": [
      "saving excel\n"
     ]
    },
    {
     "name": "stderr",
     "output_type": "stream",
     "text": [
      "Pickle File Processed:  73%|\u001B[31m███████▎  \u001B[0m| 157/214 [21:17<06:26,  6.78s/it]"
     ]
    },
    {
     "name": "stdout",
     "output_type": "stream",
     "text": [
      "converting pkl to df:\n"
     ]
    },
    {
     "name": "stderr",
     "output_type": "stream",
     "text": [
      "C:\\Users\\Kevin\\AppData\\Local\\Temp\\ipykernel_12976\\3288184646.py:84: FutureWarning: The default value of numeric_only in DataFrameGroupBy.mean is deprecated. In a future version, numeric_only will default to False. Either specify numeric_only or select only columns which should be valid for the function.\n",
      "  avg_type_df = type_df.groupby(roi_col).mean()\n",
      "C:\\Users\\Kevin\\AppData\\Local\\Temp\\ipykernel_12976\\3288184646.py:85: FutureWarning: The default value of numeric_only in DataFrameGroupBy.std is deprecated. In a future version, numeric_only will default to False. Either specify numeric_only or select only columns which should be valid for the function.\n",
      "  std_type_df = type_df.groupby(roi_col).std()\n",
      "Pickle File Processed:  74%|\u001B[31m███████▍  \u001B[0m| 158/214 [21:21<05:40,  6.08s/it]"
     ]
    },
    {
     "name": "stdout",
     "output_type": "stream",
     "text": [
      "saving excel\n",
      "converting pkl to df:\n"
     ]
    },
    {
     "name": "stderr",
     "output_type": "stream",
     "text": [
      "C:\\Users\\Kevin\\AppData\\Local\\Temp\\ipykernel_12976\\3288184646.py:84: FutureWarning: The default value of numeric_only in DataFrameGroupBy.mean is deprecated. In a future version, numeric_only will default to False. Either specify numeric_only or select only columns which should be valid for the function.\n",
      "  avg_type_df = type_df.groupby(roi_col).mean()\n",
      "C:\\Users\\Kevin\\AppData\\Local\\Temp\\ipykernel_12976\\3288184646.py:85: FutureWarning: The default value of numeric_only in DataFrameGroupBy.std is deprecated. In a future version, numeric_only will default to False. Either specify numeric_only or select only columns which should be valid for the function.\n",
      "  std_type_df = type_df.groupby(roi_col).std()\n"
     ]
    },
    {
     "name": "stdout",
     "output_type": "stream",
     "text": [
      "rois {2, 3} not included out of all rois {1, 2, 3} for type 3\n",
      "rois {3} not included out of all rois {1, 2, 3} for type 6\n"
     ]
    },
    {
     "name": "stderr",
     "output_type": "stream",
     "text": [
      "Pickle File Processed:  74%|\u001B[31m███████▍  \u001B[0m| 159/214 [21:30<06:17,  6.87s/it]"
     ]
    },
    {
     "name": "stdout",
     "output_type": "stream",
     "text": [
      "saving excel\n",
      "converting pkl to df:\n"
     ]
    },
    {
     "name": "stderr",
     "output_type": "stream",
     "text": [
      "C:\\Users\\Kevin\\AppData\\Local\\Temp\\ipykernel_12976\\3288184646.py:84: FutureWarning: The default value of numeric_only in DataFrameGroupBy.mean is deprecated. In a future version, numeric_only will default to False. Either specify numeric_only or select only columns which should be valid for the function.\n",
      "  avg_type_df = type_df.groupby(roi_col).mean()\n",
      "C:\\Users\\Kevin\\AppData\\Local\\Temp\\ipykernel_12976\\3288184646.py:85: FutureWarning: The default value of numeric_only in DataFrameGroupBy.std is deprecated. In a future version, numeric_only will default to False. Either specify numeric_only or select only columns which should be valid for the function.\n",
      "  std_type_df = type_df.groupby(roi_col).std()\n",
      "Pickle File Processed:  75%|\u001B[31m███████▍  \u001B[0m| 160/214 [21:35<05:46,  6.41s/it]"
     ]
    },
    {
     "name": "stdout",
     "output_type": "stream",
     "text": [
      "saving excel\n",
      "converting pkl to df:\n"
     ]
    },
    {
     "name": "stderr",
     "output_type": "stream",
     "text": [
      "C:\\Users\\Kevin\\AppData\\Local\\Temp\\ipykernel_12976\\3288184646.py:84: FutureWarning: The default value of numeric_only in DataFrameGroupBy.mean is deprecated. In a future version, numeric_only will default to False. Either specify numeric_only or select only columns which should be valid for the function.\n",
      "  avg_type_df = type_df.groupby(roi_col).mean()\n",
      "C:\\Users\\Kevin\\AppData\\Local\\Temp\\ipykernel_12976\\3288184646.py:85: FutureWarning: The default value of numeric_only in DataFrameGroupBy.std is deprecated. In a future version, numeric_only will default to False. Either specify numeric_only or select only columns which should be valid for the function.\n",
      "  std_type_df = type_df.groupby(roi_col).std()\n",
      "Pickle File Processed:  75%|\u001B[31m███████▌  \u001B[0m| 161/214 [21:42<05:46,  6.54s/it]"
     ]
    },
    {
     "name": "stdout",
     "output_type": "stream",
     "text": [
      "saving excel\n",
      "converting pkl to df:\n"
     ]
    },
    {
     "name": "stderr",
     "output_type": "stream",
     "text": [
      "C:\\Users\\Kevin\\AppData\\Local\\Temp\\ipykernel_12976\\3288184646.py:84: FutureWarning: The default value of numeric_only in DataFrameGroupBy.mean is deprecated. In a future version, numeric_only will default to False. Either specify numeric_only or select only columns which should be valid for the function.\n",
      "  avg_type_df = type_df.groupby(roi_col).mean()\n",
      "C:\\Users\\Kevin\\AppData\\Local\\Temp\\ipykernel_12976\\3288184646.py:85: FutureWarning: The default value of numeric_only in DataFrameGroupBy.std is deprecated. In a future version, numeric_only will default to False. Either specify numeric_only or select only columns which should be valid for the function.\n",
      "  std_type_df = type_df.groupby(roi_col).std()\n"
     ]
    },
    {
     "name": "stdout",
     "output_type": "stream",
     "text": [
      "rois {1} not included out of all rois {1, 2} for type 3\n",
      "rois {1} not included out of all rois {1, 2} for type 6\n"
     ]
    },
    {
     "name": "stderr",
     "output_type": "stream",
     "text": [
      "Pickle File Processed:  76%|\u001B[31m███████▌  \u001B[0m| 162/214 [21:51<06:15,  7.23s/it]"
     ]
    },
    {
     "name": "stdout",
     "output_type": "stream",
     "text": [
      "saving excel\n",
      "converting pkl to df:\n"
     ]
    },
    {
     "name": "stderr",
     "output_type": "stream",
     "text": [
      "C:\\Users\\Kevin\\AppData\\Local\\Temp\\ipykernel_12976\\3288184646.py:84: FutureWarning: The default value of numeric_only in DataFrameGroupBy.mean is deprecated. In a future version, numeric_only will default to False. Either specify numeric_only or select only columns which should be valid for the function.\n",
      "  avg_type_df = type_df.groupby(roi_col).mean()\n",
      "C:\\Users\\Kevin\\AppData\\Local\\Temp\\ipykernel_12976\\3288184646.py:85: FutureWarning: The default value of numeric_only in DataFrameGroupBy.std is deprecated. In a future version, numeric_only will default to False. Either specify numeric_only or select only columns which should be valid for the function.\n",
      "  std_type_df = type_df.groupby(roi_col).std()\n",
      "C:\\Users\\Kevin\\AppData\\Local\\Temp\\ipykernel_12976\\3288184646.py:84: FutureWarning: The default value of numeric_only in DataFrameGroupBy.mean is deprecated. In a future version, numeric_only will default to False. Either specify numeric_only or select only columns which should be valid for the function.\n",
      "  avg_type_df = type_df.groupby(roi_col).mean()\n",
      "C:\\Users\\Kevin\\AppData\\Local\\Temp\\ipykernel_12976\\3288184646.py:85: FutureWarning: The default value of numeric_only in DataFrameGroupBy.std is deprecated. In a future version, numeric_only will default to False. Either specify numeric_only or select only columns which should be valid for the function.\n",
      "  std_type_df = type_df.groupby(roi_col).std()\n",
      "C:\\Users\\Kevin\\AppData\\Local\\Temp\\ipykernel_12976\\3288184646.py:84: FutureWarning: The default value of numeric_only in DataFrameGroupBy.mean is deprecated. In a future version, numeric_only will default to False. Either specify numeric_only or select only columns which should be valid for the function.\n",
      "  avg_type_df = type_df.groupby(roi_col).mean()\n",
      "C:\\Users\\Kevin\\AppData\\Local\\Temp\\ipykernel_12976\\3288184646.py:85: FutureWarning: The default value of numeric_only in DataFrameGroupBy.std is deprecated. In a future version, numeric_only will default to False. Either specify numeric_only or select only columns which should be valid for the function.\n",
      "  std_type_df = type_df.groupby(roi_col).std()\n"
     ]
    },
    {
     "name": "stdout",
     "output_type": "stream",
     "text": [
      "rois {1} not included out of all rois {1} for type 3\n",
      "rois {1} not included out of all rois {1} for type 6\n"
     ]
    },
    {
     "name": "stderr",
     "output_type": "stream",
     "text": [
      "Pickle File Processed:  76%|\u001B[31m███████▌  \u001B[0m| 163/214 [21:54<05:04,  5.97s/it]"
     ]
    },
    {
     "name": "stdout",
     "output_type": "stream",
     "text": [
      "saving excel\n",
      "converting pkl to df:\n"
     ]
    },
    {
     "name": "stderr",
     "output_type": "stream",
     "text": [
      "C:\\Users\\Kevin\\AppData\\Local\\Temp\\ipykernel_12976\\3288184646.py:84: FutureWarning: The default value of numeric_only in DataFrameGroupBy.mean is deprecated. In a future version, numeric_only will default to False. Either specify numeric_only or select only columns which should be valid for the function.\n",
      "  avg_type_df = type_df.groupby(roi_col).mean()\n",
      "C:\\Users\\Kevin\\AppData\\Local\\Temp\\ipykernel_12976\\3288184646.py:85: FutureWarning: The default value of numeric_only in DataFrameGroupBy.std is deprecated. In a future version, numeric_only will default to False. Either specify numeric_only or select only columns which should be valid for the function.\n",
      "  std_type_df = type_df.groupby(roi_col).std()\n",
      "C:\\Users\\Kevin\\AppData\\Local\\Temp\\ipykernel_12976\\3288184646.py:84: FutureWarning: The default value of numeric_only in DataFrameGroupBy.mean is deprecated. In a future version, numeric_only will default to False. Either specify numeric_only or select only columns which should be valid for the function.\n",
      "  avg_type_df = type_df.groupby(roi_col).mean()\n",
      "C:\\Users\\Kevin\\AppData\\Local\\Temp\\ipykernel_12976\\3288184646.py:85: FutureWarning: The default value of numeric_only in DataFrameGroupBy.std is deprecated. In a future version, numeric_only will default to False. Either specify numeric_only or select only columns which should be valid for the function.\n",
      "  std_type_df = type_df.groupby(roi_col).std()\n",
      "C:\\Users\\Kevin\\AppData\\Local\\Temp\\ipykernel_12976\\3288184646.py:84: FutureWarning: The default value of numeric_only in DataFrameGroupBy.mean is deprecated. In a future version, numeric_only will default to False. Either specify numeric_only or select only columns which should be valid for the function.\n",
      "  avg_type_df = type_df.groupby(roi_col).mean()\n",
      "C:\\Users\\Kevin\\AppData\\Local\\Temp\\ipykernel_12976\\3288184646.py:85: FutureWarning: The default value of numeric_only in DataFrameGroupBy.std is deprecated. In a future version, numeric_only will default to False. Either specify numeric_only or select only columns which should be valid for the function.\n",
      "  std_type_df = type_df.groupby(roi_col).std()\n"
     ]
    },
    {
     "name": "stdout",
     "output_type": "stream",
     "text": [
      "rois {1} not included out of all rois {1} for type 3\n",
      "rois {1} not included out of all rois {1} for type 4\n"
     ]
    },
    {
     "name": "stderr",
     "output_type": "stream",
     "text": [
      "Pickle File Processed:  77%|\u001B[31m███████▋  \u001B[0m| 164/214 [21:56<03:54,  4.68s/it]"
     ]
    },
    {
     "name": "stdout",
     "output_type": "stream",
     "text": [
      "saving excel\n",
      "converting pkl to df:\n"
     ]
    },
    {
     "name": "stderr",
     "output_type": "stream",
     "text": [
      "C:\\Users\\Kevin\\AppData\\Local\\Temp\\ipykernel_12976\\3288184646.py:84: FutureWarning: The default value of numeric_only in DataFrameGroupBy.mean is deprecated. In a future version, numeric_only will default to False. Either specify numeric_only or select only columns which should be valid for the function.\n",
      "  avg_type_df = type_df.groupby(roi_col).mean()\n",
      "C:\\Users\\Kevin\\AppData\\Local\\Temp\\ipykernel_12976\\3288184646.py:85: FutureWarning: The default value of numeric_only in DataFrameGroupBy.std is deprecated. In a future version, numeric_only will default to False. Either specify numeric_only or select only columns which should be valid for the function.\n",
      "  std_type_df = type_df.groupby(roi_col).std()\n",
      "C:\\Users\\Kevin\\AppData\\Local\\Temp\\ipykernel_12976\\3288184646.py:84: FutureWarning: The default value of numeric_only in DataFrameGroupBy.mean is deprecated. In a future version, numeric_only will default to False. Either specify numeric_only or select only columns which should be valid for the function.\n",
      "  avg_type_df = type_df.groupby(roi_col).mean()\n",
      "C:\\Users\\Kevin\\AppData\\Local\\Temp\\ipykernel_12976\\3288184646.py:85: FutureWarning: The default value of numeric_only in DataFrameGroupBy.std is deprecated. In a future version, numeric_only will default to False. Either specify numeric_only or select only columns which should be valid for the function.\n",
      "  std_type_df = type_df.groupby(roi_col).std()\n",
      "C:\\Users\\Kevin\\AppData\\Local\\Temp\\ipykernel_12976\\3288184646.py:84: FutureWarning: The default value of numeric_only in DataFrameGroupBy.mean is deprecated. In a future version, numeric_only will default to False. Either specify numeric_only or select only columns which should be valid for the function.\n",
      "  avg_type_df = type_df.groupby(roi_col).mean()\n",
      "C:\\Users\\Kevin\\AppData\\Local\\Temp\\ipykernel_12976\\3288184646.py:85: FutureWarning: The default value of numeric_only in DataFrameGroupBy.std is deprecated. In a future version, numeric_only will default to False. Either specify numeric_only or select only columns which should be valid for the function.\n",
      "  std_type_df = type_df.groupby(roi_col).std()\n"
     ]
    },
    {
     "name": "stdout",
     "output_type": "stream",
     "text": [
      "rois {1} not included out of all rois {1} for type 3\n",
      "rois {1} not included out of all rois {1} for type 6\n",
      "rois {1} not included out of all rois {1} for type 11\n",
      "saving excel\n"
     ]
    },
    {
     "name": "stderr",
     "output_type": "stream",
     "text": [
      "C:\\Users\\Kevin\\AppData\\Local\\Temp\\ipykernel_12976\\3288184646.py:84: FutureWarning: The default value of numeric_only in DataFrameGroupBy.mean is deprecated. In a future version, numeric_only will default to False. Either specify numeric_only or select only columns which should be valid for the function.\n",
      "  avg_type_df = type_df.groupby(roi_col).mean()\n",
      "C:\\Users\\Kevin\\AppData\\Local\\Temp\\ipykernel_12976\\3288184646.py:85: FutureWarning: The default value of numeric_only in DataFrameGroupBy.std is deprecated. In a future version, numeric_only will default to False. Either specify numeric_only or select only columns which should be valid for the function.\n",
      "  std_type_df = type_df.groupby(roi_col).std()\n",
      "Pickle File Processed:  77%|\u001B[31m███████▋  \u001B[0m| 165/214 [21:57<02:55,  3.58s/it]"
     ]
    },
    {
     "name": "stdout",
     "output_type": "stream",
     "text": [
      "converting pkl to df:\n"
     ]
    },
    {
     "name": "stderr",
     "output_type": "stream",
     "text": [
      "C:\\Users\\Kevin\\AppData\\Local\\Temp\\ipykernel_12976\\3288184646.py:84: FutureWarning: The default value of numeric_only in DataFrameGroupBy.mean is deprecated. In a future version, numeric_only will default to False. Either specify numeric_only or select only columns which should be valid for the function.\n",
      "  avg_type_df = type_df.groupby(roi_col).mean()\n",
      "C:\\Users\\Kevin\\AppData\\Local\\Temp\\ipykernel_12976\\3288184646.py:85: FutureWarning: The default value of numeric_only in DataFrameGroupBy.std is deprecated. In a future version, numeric_only will default to False. Either specify numeric_only or select only columns which should be valid for the function.\n",
      "  std_type_df = type_df.groupby(roi_col).std()\n",
      "C:\\Users\\Kevin\\AppData\\Local\\Temp\\ipykernel_12976\\3288184646.py:84: FutureWarning: The default value of numeric_only in DataFrameGroupBy.mean is deprecated. In a future version, numeric_only will default to False. Either specify numeric_only or select only columns which should be valid for the function.\n",
      "  avg_type_df = type_df.groupby(roi_col).mean()\n",
      "C:\\Users\\Kevin\\AppData\\Local\\Temp\\ipykernel_12976\\3288184646.py:85: FutureWarning: The default value of numeric_only in DataFrameGroupBy.std is deprecated. In a future version, numeric_only will default to False. Either specify numeric_only or select only columns which should be valid for the function.\n",
      "  std_type_df = type_df.groupby(roi_col).std()\n"
     ]
    },
    {
     "name": "stdout",
     "output_type": "stream",
     "text": [
      "rois {1, 2} not included out of all rois {1, 2} for type 3\n",
      "rois {2} not included out of all rois {1, 2} for type 6\n",
      "rois {1, 2} not included out of all rois {1, 2} for type 11\n"
     ]
    },
    {
     "name": "stderr",
     "output_type": "stream",
     "text": [
      "C:\\Users\\Kevin\\AppData\\Local\\Temp\\ipykernel_12976\\3288184646.py:84: FutureWarning: The default value of numeric_only in DataFrameGroupBy.mean is deprecated. In a future version, numeric_only will default to False. Either specify numeric_only or select only columns which should be valid for the function.\n",
      "  avg_type_df = type_df.groupby(roi_col).mean()\n",
      "C:\\Users\\Kevin\\AppData\\Local\\Temp\\ipykernel_12976\\3288184646.py:85: FutureWarning: The default value of numeric_only in DataFrameGroupBy.std is deprecated. In a future version, numeric_only will default to False. Either specify numeric_only or select only columns which should be valid for the function.\n",
      "  std_type_df = type_df.groupby(roi_col).std()\n",
      "Pickle File Processed:  78%|\u001B[31m███████▊  \u001B[0m| 166/214 [22:00<02:43,  3.40s/it]"
     ]
    },
    {
     "name": "stdout",
     "output_type": "stream",
     "text": [
      "saving excel\n",
      "converting pkl to df:\n"
     ]
    },
    {
     "name": "stderr",
     "output_type": "stream",
     "text": [
      "C:\\Users\\Kevin\\AppData\\Local\\Temp\\ipykernel_12976\\3288184646.py:84: FutureWarning: The default value of numeric_only in DataFrameGroupBy.mean is deprecated. In a future version, numeric_only will default to False. Either specify numeric_only or select only columns which should be valid for the function.\n",
      "  avg_type_df = type_df.groupby(roi_col).mean()\n",
      "C:\\Users\\Kevin\\AppData\\Local\\Temp\\ipykernel_12976\\3288184646.py:85: FutureWarning: The default value of numeric_only in DataFrameGroupBy.std is deprecated. In a future version, numeric_only will default to False. Either specify numeric_only or select only columns which should be valid for the function.\n",
      "  std_type_df = type_df.groupby(roi_col).std()\n",
      "C:\\Users\\Kevin\\AppData\\Local\\Temp\\ipykernel_12976\\3288184646.py:84: FutureWarning: The default value of numeric_only in DataFrameGroupBy.mean is deprecated. In a future version, numeric_only will default to False. Either specify numeric_only or select only columns which should be valid for the function.\n",
      "  avg_type_df = type_df.groupby(roi_col).mean()\n",
      "C:\\Users\\Kevin\\AppData\\Local\\Temp\\ipykernel_12976\\3288184646.py:85: FutureWarning: The default value of numeric_only in DataFrameGroupBy.std is deprecated. In a future version, numeric_only will default to False. Either specify numeric_only or select only columns which should be valid for the function.\n",
      "  std_type_df = type_df.groupby(roi_col).std()\n"
     ]
    },
    {
     "name": "stdout",
     "output_type": "stream",
     "text": [
      "rois {4, 5, 6} not included out of all rois {1, 2, 3, 4, 5, 6} for type 3\n",
      "rois {4, 5} not included out of all rois {1, 2, 3, 4, 5, 6} for type 4\n",
      "rois {1, 2, 3, 4, 5, 6} not included out of all rois {1, 2, 3, 4, 5, 6} for type 6\n",
      "rois {1, 2, 3, 5, 6} not included out of all rois {1, 2, 3, 4, 5, 6} for type 11\n",
      "saving excel\n"
     ]
    },
    {
     "name": "stderr",
     "output_type": "stream",
     "text": [
      "Pickle File Processed:  78%|\u001B[31m███████▊  \u001B[0m| 167/214 [22:07<03:36,  4.61s/it]"
     ]
    },
    {
     "name": "stdout",
     "output_type": "stream",
     "text": [
      "converting pkl to df:\n"
     ]
    },
    {
     "name": "stderr",
     "output_type": "stream",
     "text": [
      "C:\\Users\\Kevin\\AppData\\Local\\Temp\\ipykernel_12976\\3288184646.py:84: FutureWarning: The default value of numeric_only in DataFrameGroupBy.mean is deprecated. In a future version, numeric_only will default to False. Either specify numeric_only or select only columns which should be valid for the function.\n",
      "  avg_type_df = type_df.groupby(roi_col).mean()\n",
      "C:\\Users\\Kevin\\AppData\\Local\\Temp\\ipykernel_12976\\3288184646.py:85: FutureWarning: The default value of numeric_only in DataFrameGroupBy.std is deprecated. In a future version, numeric_only will default to False. Either specify numeric_only or select only columns which should be valid for the function.\n",
      "  std_type_df = type_df.groupby(roi_col).std()\n",
      "Pickle File Processed:  79%|\u001B[31m███████▊  \u001B[0m| 168/214 [22:18<04:57,  6.47s/it]"
     ]
    },
    {
     "name": "stdout",
     "output_type": "stream",
     "text": [
      "saving excel\n",
      "converting pkl to df:\n"
     ]
    },
    {
     "name": "stderr",
     "output_type": "stream",
     "text": [
      "C:\\Users\\Kevin\\AppData\\Local\\Temp\\ipykernel_12976\\3288184646.py:84: FutureWarning: The default value of numeric_only in DataFrameGroupBy.mean is deprecated. In a future version, numeric_only will default to False. Either specify numeric_only or select only columns which should be valid for the function.\n",
      "  avg_type_df = type_df.groupby(roi_col).mean()\n",
      "C:\\Users\\Kevin\\AppData\\Local\\Temp\\ipykernel_12976\\3288184646.py:85: FutureWarning: The default value of numeric_only in DataFrameGroupBy.std is deprecated. In a future version, numeric_only will default to False. Either specify numeric_only or select only columns which should be valid for the function.\n",
      "  std_type_df = type_df.groupby(roi_col).std()\n",
      "C:\\Users\\Kevin\\AppData\\Local\\Temp\\ipykernel_12976\\3288184646.py:84: FutureWarning: The default value of numeric_only in DataFrameGroupBy.mean is deprecated. In a future version, numeric_only will default to False. Either specify numeric_only or select only columns which should be valid for the function.\n",
      "  avg_type_df = type_df.groupby(roi_col).mean()\n",
      "C:\\Users\\Kevin\\AppData\\Local\\Temp\\ipykernel_12976\\3288184646.py:85: FutureWarning: The default value of numeric_only in DataFrameGroupBy.std is deprecated. In a future version, numeric_only will default to False. Either specify numeric_only or select only columns which should be valid for the function.\n",
      "  std_type_df = type_df.groupby(roi_col).std()\n"
     ]
    },
    {
     "name": "stdout",
     "output_type": "stream",
     "text": [
      "rois {1} not included out of all rois {1} for type 6\n"
     ]
    },
    {
     "name": "stderr",
     "output_type": "stream",
     "text": [
      "Pickle File Processed:  79%|\u001B[31m███████▉  \u001B[0m| 169/214 [22:21<04:06,  5.49s/it]"
     ]
    },
    {
     "name": "stdout",
     "output_type": "stream",
     "text": [
      "saving excel\n",
      "converting pkl to df:\n"
     ]
    },
    {
     "name": "stderr",
     "output_type": "stream",
     "text": [
      "C:\\Users\\Kevin\\AppData\\Local\\Temp\\ipykernel_12976\\3288184646.py:84: FutureWarning: The default value of numeric_only in DataFrameGroupBy.mean is deprecated. In a future version, numeric_only will default to False. Either specify numeric_only or select only columns which should be valid for the function.\n",
      "  avg_type_df = type_df.groupby(roi_col).mean()\n",
      "C:\\Users\\Kevin\\AppData\\Local\\Temp\\ipykernel_12976\\3288184646.py:85: FutureWarning: The default value of numeric_only in DataFrameGroupBy.std is deprecated. In a future version, numeric_only will default to False. Either specify numeric_only or select only columns which should be valid for the function.\n",
      "  std_type_df = type_df.groupby(roi_col).std()\n",
      "C:\\Users\\Kevin\\AppData\\Local\\Temp\\ipykernel_12976\\3288184646.py:84: FutureWarning: The default value of numeric_only in DataFrameGroupBy.mean is deprecated. In a future version, numeric_only will default to False. Either specify numeric_only or select only columns which should be valid for the function.\n",
      "  avg_type_df = type_df.groupby(roi_col).mean()\n",
      "C:\\Users\\Kevin\\AppData\\Local\\Temp\\ipykernel_12976\\3288184646.py:85: FutureWarning: The default value of numeric_only in DataFrameGroupBy.std is deprecated. In a future version, numeric_only will default to False. Either specify numeric_only or select only columns which should be valid for the function.\n",
      "  std_type_df = type_df.groupby(roi_col).std()\n",
      "C:\\Users\\Kevin\\AppData\\Local\\Temp\\ipykernel_12976\\3288184646.py:84: FutureWarning: The default value of numeric_only in DataFrameGroupBy.mean is deprecated. In a future version, numeric_only will default to False. Either specify numeric_only or select only columns which should be valid for the function.\n",
      "  avg_type_df = type_df.groupby(roi_col).mean()\n",
      "C:\\Users\\Kevin\\AppData\\Local\\Temp\\ipykernel_12976\\3288184646.py:85: FutureWarning: The default value of numeric_only in DataFrameGroupBy.std is deprecated. In a future version, numeric_only will default to False. Either specify numeric_only or select only columns which should be valid for the function.\n",
      "  std_type_df = type_df.groupby(roi_col).std()\n"
     ]
    },
    {
     "name": "stdout",
     "output_type": "stream",
     "text": [
      "rois {1} not included out of all rois {1} for type 3\n",
      "rois {1} not included out of all rois {1} for type 6\n"
     ]
    },
    {
     "name": "stderr",
     "output_type": "stream",
     "text": [
      "Pickle File Processed:  79%|\u001B[31m███████▉  \u001B[0m| 170/214 [22:23<03:10,  4.34s/it]"
     ]
    },
    {
     "name": "stdout",
     "output_type": "stream",
     "text": [
      "saving excel\n",
      "converting pkl to df:\n"
     ]
    },
    {
     "name": "stderr",
     "output_type": "stream",
     "text": [
      "C:\\Users\\Kevin\\AppData\\Local\\Temp\\ipykernel_12976\\3288184646.py:84: FutureWarning: The default value of numeric_only in DataFrameGroupBy.mean is deprecated. In a future version, numeric_only will default to False. Either specify numeric_only or select only columns which should be valid for the function.\n",
      "  avg_type_df = type_df.groupby(roi_col).mean()\n",
      "C:\\Users\\Kevin\\AppData\\Local\\Temp\\ipykernel_12976\\3288184646.py:85: FutureWarning: The default value of numeric_only in DataFrameGroupBy.std is deprecated. In a future version, numeric_only will default to False. Either specify numeric_only or select only columns which should be valid for the function.\n",
      "  std_type_df = type_df.groupby(roi_col).std()\n",
      "Pickle File Processed:  80%|\u001B[31m███████▉  \u001B[0m| 171/214 [22:32<04:05,  5.70s/it]"
     ]
    },
    {
     "name": "stdout",
     "output_type": "stream",
     "text": [
      "saving excel\n",
      "converting pkl to df:\n"
     ]
    },
    {
     "name": "stderr",
     "output_type": "stream",
     "text": [
      "C:\\Users\\Kevin\\AppData\\Local\\Temp\\ipykernel_12976\\3288184646.py:84: FutureWarning: The default value of numeric_only in DataFrameGroupBy.mean is deprecated. In a future version, numeric_only will default to False. Either specify numeric_only or select only columns which should be valid for the function.\n",
      "  avg_type_df = type_df.groupby(roi_col).mean()\n",
      "C:\\Users\\Kevin\\AppData\\Local\\Temp\\ipykernel_12976\\3288184646.py:85: FutureWarning: The default value of numeric_only in DataFrameGroupBy.std is deprecated. In a future version, numeric_only will default to False. Either specify numeric_only or select only columns which should be valid for the function.\n",
      "  std_type_df = type_df.groupby(roi_col).std()\n"
     ]
    },
    {
     "name": "stdout",
     "output_type": "stream",
     "text": [
      "rois {2} not included out of all rois {1, 2} for type 3\n",
      "rois {2} not included out of all rois {1, 2} for type 6\n",
      "rois {2} not included out of all rois {1, 2} for type 11\n"
     ]
    },
    {
     "name": "stderr",
     "output_type": "stream",
     "text": [
      "Pickle File Processed:  80%|\u001B[31m████████  \u001B[0m| 172/214 [22:48<06:10,  8.82s/it]"
     ]
    },
    {
     "name": "stdout",
     "output_type": "stream",
     "text": [
      "saving excel\n",
      "converting pkl to df:\n"
     ]
    },
    {
     "name": "stderr",
     "output_type": "stream",
     "text": [
      "C:\\Users\\Kevin\\AppData\\Local\\Temp\\ipykernel_12976\\3288184646.py:84: FutureWarning: The default value of numeric_only in DataFrameGroupBy.mean is deprecated. In a future version, numeric_only will default to False. Either specify numeric_only or select only columns which should be valid for the function.\n",
      "  avg_type_df = type_df.groupby(roi_col).mean()\n",
      "C:\\Users\\Kevin\\AppData\\Local\\Temp\\ipykernel_12976\\3288184646.py:85: FutureWarning: The default value of numeric_only in DataFrameGroupBy.std is deprecated. In a future version, numeric_only will default to False. Either specify numeric_only or select only columns which should be valid for the function.\n",
      "  std_type_df = type_df.groupby(roi_col).std()\n",
      "C:\\Users\\Kevin\\AppData\\Local\\Temp\\ipykernel_12976\\3288184646.py:84: FutureWarning: The default value of numeric_only in DataFrameGroupBy.mean is deprecated. In a future version, numeric_only will default to False. Either specify numeric_only or select only columns which should be valid for the function.\n",
      "  avg_type_df = type_df.groupby(roi_col).mean()\n",
      "C:\\Users\\Kevin\\AppData\\Local\\Temp\\ipykernel_12976\\3288184646.py:85: FutureWarning: The default value of numeric_only in DataFrameGroupBy.std is deprecated. In a future version, numeric_only will default to False. Either specify numeric_only or select only columns which should be valid for the function.\n",
      "  std_type_df = type_df.groupby(roi_col).std()\n"
     ]
    },
    {
     "name": "stdout",
     "output_type": "stream",
     "text": [
      "rois {1} not included out of all rois {1} for type 6\n"
     ]
    },
    {
     "name": "stderr",
     "output_type": "stream",
     "text": [
      "Pickle File Processed:  81%|\u001B[31m████████  \u001B[0m| 173/214 [22:49<04:30,  6.59s/it]"
     ]
    },
    {
     "name": "stdout",
     "output_type": "stream",
     "text": [
      "saving excel\n",
      "converting pkl to df:\n"
     ]
    },
    {
     "name": "stderr",
     "output_type": "stream",
     "text": [
      "C:\\Users\\Kevin\\AppData\\Local\\Temp\\ipykernel_12976\\3288184646.py:84: FutureWarning: The default value of numeric_only in DataFrameGroupBy.mean is deprecated. In a future version, numeric_only will default to False. Either specify numeric_only or select only columns which should be valid for the function.\n",
      "  avg_type_df = type_df.groupby(roi_col).mean()\n",
      "C:\\Users\\Kevin\\AppData\\Local\\Temp\\ipykernel_12976\\3288184646.py:85: FutureWarning: The default value of numeric_only in DataFrameGroupBy.std is deprecated. In a future version, numeric_only will default to False. Either specify numeric_only or select only columns which should be valid for the function.\n",
      "  std_type_df = type_df.groupby(roi_col).std()\n",
      "C:\\Users\\Kevin\\AppData\\Local\\Temp\\ipykernel_12976\\3288184646.py:84: FutureWarning: The default value of numeric_only in DataFrameGroupBy.mean is deprecated. In a future version, numeric_only will default to False. Either specify numeric_only or select only columns which should be valid for the function.\n",
      "  avg_type_df = type_df.groupby(roi_col).mean()\n",
      "C:\\Users\\Kevin\\AppData\\Local\\Temp\\ipykernel_12976\\3288184646.py:85: FutureWarning: The default value of numeric_only in DataFrameGroupBy.std is deprecated. In a future version, numeric_only will default to False. Either specify numeric_only or select only columns which should be valid for the function.\n",
      "  std_type_df = type_df.groupby(roi_col).std()\n"
     ]
    },
    {
     "name": "stdout",
     "output_type": "stream",
     "text": [
      "rois {1} not included out of all rois {1} for type 6\n",
      "rois {1} not included out of all rois {1} for type 11\n"
     ]
    },
    {
     "name": "stderr",
     "output_type": "stream",
     "text": [
      "C:\\Users\\Kevin\\AppData\\Local\\Temp\\ipykernel_12976\\3288184646.py:84: FutureWarning: The default value of numeric_only in DataFrameGroupBy.mean is deprecated. In a future version, numeric_only will default to False. Either specify numeric_only or select only columns which should be valid for the function.\n",
      "  avg_type_df = type_df.groupby(roi_col).mean()\n",
      "C:\\Users\\Kevin\\AppData\\Local\\Temp\\ipykernel_12976\\3288184646.py:85: FutureWarning: The default value of numeric_only in DataFrameGroupBy.std is deprecated. In a future version, numeric_only will default to False. Either specify numeric_only or select only columns which should be valid for the function.\n",
      "  std_type_df = type_df.groupby(roi_col).std()\n",
      "Pickle File Processed:  81%|\u001B[31m████████▏ \u001B[0m| 174/214 [22:51<03:29,  5.24s/it]"
     ]
    },
    {
     "name": "stdout",
     "output_type": "stream",
     "text": [
      "saving excel\n",
      "converting pkl to df:\n"
     ]
    },
    {
     "name": "stderr",
     "output_type": "stream",
     "text": [
      "C:\\Users\\Kevin\\AppData\\Local\\Temp\\ipykernel_12976\\3288184646.py:84: FutureWarning: The default value of numeric_only in DataFrameGroupBy.mean is deprecated. In a future version, numeric_only will default to False. Either specify numeric_only or select only columns which should be valid for the function.\n",
      "  avg_type_df = type_df.groupby(roi_col).mean()\n",
      "C:\\Users\\Kevin\\AppData\\Local\\Temp\\ipykernel_12976\\3288184646.py:85: FutureWarning: The default value of numeric_only in DataFrameGroupBy.std is deprecated. In a future version, numeric_only will default to False. Either specify numeric_only or select only columns which should be valid for the function.\n",
      "  std_type_df = type_df.groupby(roi_col).std()\n",
      "C:\\Users\\Kevin\\AppData\\Local\\Temp\\ipykernel_12976\\3288184646.py:84: FutureWarning: The default value of numeric_only in DataFrameGroupBy.mean is deprecated. In a future version, numeric_only will default to False. Either specify numeric_only or select only columns which should be valid for the function.\n",
      "  avg_type_df = type_df.groupby(roi_col).mean()\n",
      "C:\\Users\\Kevin\\AppData\\Local\\Temp\\ipykernel_12976\\3288184646.py:85: FutureWarning: The default value of numeric_only in DataFrameGroupBy.std is deprecated. In a future version, numeric_only will default to False. Either specify numeric_only or select only columns which should be valid for the function.\n",
      "  std_type_df = type_df.groupby(roi_col).std()\n",
      "C:\\Users\\Kevin\\AppData\\Local\\Temp\\ipykernel_12976\\3288184646.py:84: FutureWarning: The default value of numeric_only in DataFrameGroupBy.mean is deprecated. In a future version, numeric_only will default to False. Either specify numeric_only or select only columns which should be valid for the function.\n",
      "  avg_type_df = type_df.groupby(roi_col).mean()\n",
      "C:\\Users\\Kevin\\AppData\\Local\\Temp\\ipykernel_12976\\3288184646.py:85: FutureWarning: The default value of numeric_only in DataFrameGroupBy.std is deprecated. In a future version, numeric_only will default to False. Either specify numeric_only or select only columns which should be valid for the function.\n",
      "  std_type_df = type_df.groupby(roi_col).std()\n",
      "C:\\Users\\Kevin\\AppData\\Local\\Temp\\ipykernel_12976\\3288184646.py:84: FutureWarning: The default value of numeric_only in DataFrameGroupBy.mean is deprecated. In a future version, numeric_only will default to False. Either specify numeric_only or select only columns which should be valid for the function.\n",
      "  avg_type_df = type_df.groupby(roi_col).mean()\n",
      "C:\\Users\\Kevin\\AppData\\Local\\Temp\\ipykernel_12976\\3288184646.py:85: FutureWarning: The default value of numeric_only in DataFrameGroupBy.std is deprecated. In a future version, numeric_only will default to False. Either specify numeric_only or select only columns which should be valid for the function.\n",
      "  std_type_df = type_df.groupby(roi_col).std()\n"
     ]
    },
    {
     "name": "stdout",
     "output_type": "stream",
     "text": [
      "rois {1} not included out of all rois {1} for type 3\n",
      "rois {1} not included out of all rois {1} for type 4\n",
      "rois {1} not included out of all rois {1} for type 6\n",
      "rois {1} not included out of all rois {1} for type 11\n",
      "saving excel\n"
     ]
    },
    {
     "name": "stderr",
     "output_type": "stream",
     "text": [
      "C:\\Users\\Kevin\\AppData\\Local\\Temp\\ipykernel_12976\\3288184646.py:84: FutureWarning: The default value of numeric_only in DataFrameGroupBy.mean is deprecated. In a future version, numeric_only will default to False. Either specify numeric_only or select only columns which should be valid for the function.\n",
      "  avg_type_df = type_df.groupby(roi_col).mean()\n",
      "C:\\Users\\Kevin\\AppData\\Local\\Temp\\ipykernel_12976\\3288184646.py:85: FutureWarning: The default value of numeric_only in DataFrameGroupBy.std is deprecated. In a future version, numeric_only will default to False. Either specify numeric_only or select only columns which should be valid for the function.\n",
      "  std_type_df = type_df.groupby(roi_col).std()\n",
      "Pickle File Processed:  82%|\u001B[31m████████▏ \u001B[0m| 175/214 [22:52<02:35,  3.98s/it]"
     ]
    },
    {
     "name": "stdout",
     "output_type": "stream",
     "text": [
      "converting pkl to df:\n"
     ]
    },
    {
     "name": "stderr",
     "output_type": "stream",
     "text": [
      "C:\\Users\\Kevin\\AppData\\Local\\Temp\\ipykernel_12976\\3288184646.py:84: FutureWarning: The default value of numeric_only in DataFrameGroupBy.mean is deprecated. In a future version, numeric_only will default to False. Either specify numeric_only or select only columns which should be valid for the function.\n",
      "  avg_type_df = type_df.groupby(roi_col).mean()\n",
      "C:\\Users\\Kevin\\AppData\\Local\\Temp\\ipykernel_12976\\3288184646.py:85: FutureWarning: The default value of numeric_only in DataFrameGroupBy.std is deprecated. In a future version, numeric_only will default to False. Either specify numeric_only or select only columns which should be valid for the function.\n",
      "  std_type_df = type_df.groupby(roi_col).std()\n",
      "C:\\Users\\Kevin\\AppData\\Local\\Temp\\ipykernel_12976\\3288184646.py:84: FutureWarning: The default value of numeric_only in DataFrameGroupBy.mean is deprecated. In a future version, numeric_only will default to False. Either specify numeric_only or select only columns which should be valid for the function.\n",
      "  avg_type_df = type_df.groupby(roi_col).mean()\n",
      "C:\\Users\\Kevin\\AppData\\Local\\Temp\\ipykernel_12976\\3288184646.py:85: FutureWarning: The default value of numeric_only in DataFrameGroupBy.std is deprecated. In a future version, numeric_only will default to False. Either specify numeric_only or select only columns which should be valid for the function.\n",
      "  std_type_df = type_df.groupby(roi_col).std()\n"
     ]
    },
    {
     "name": "stdout",
     "output_type": "stream",
     "text": [
      "rois {1} not included out of all rois {1} for type 6\n"
     ]
    },
    {
     "name": "stderr",
     "output_type": "stream",
     "text": [
      "Pickle File Processed:  82%|\u001B[31m████████▏ \u001B[0m| 176/214 [22:54<02:07,  3.37s/it]"
     ]
    },
    {
     "name": "stdout",
     "output_type": "stream",
     "text": [
      "saving excel\n",
      "converting pkl to df:\n"
     ]
    },
    {
     "name": "stderr",
     "output_type": "stream",
     "text": [
      "C:\\Users\\Kevin\\AppData\\Local\\Temp\\ipykernel_12976\\3288184646.py:84: FutureWarning: The default value of numeric_only in DataFrameGroupBy.mean is deprecated. In a future version, numeric_only will default to False. Either specify numeric_only or select only columns which should be valid for the function.\n",
      "  avg_type_df = type_df.groupby(roi_col).mean()\n",
      "C:\\Users\\Kevin\\AppData\\Local\\Temp\\ipykernel_12976\\3288184646.py:85: FutureWarning: The default value of numeric_only in DataFrameGroupBy.std is deprecated. In a future version, numeric_only will default to False. Either specify numeric_only or select only columns which should be valid for the function.\n",
      "  std_type_df = type_df.groupby(roi_col).std()\n",
      "Pickle File Processed:  83%|\u001B[31m████████▎ \u001B[0m| 177/214 [22:58<02:07,  3.45s/it]"
     ]
    },
    {
     "name": "stdout",
     "output_type": "stream",
     "text": [
      "saving excel\n",
      "converting pkl to df:\n"
     ]
    },
    {
     "name": "stderr",
     "output_type": "stream",
     "text": [
      "C:\\Users\\Kevin\\AppData\\Local\\Temp\\ipykernel_12976\\3288184646.py:84: FutureWarning: The default value of numeric_only in DataFrameGroupBy.mean is deprecated. In a future version, numeric_only will default to False. Either specify numeric_only or select only columns which should be valid for the function.\n",
      "  avg_type_df = type_df.groupby(roi_col).mean()\n",
      "C:\\Users\\Kevin\\AppData\\Local\\Temp\\ipykernel_12976\\3288184646.py:85: FutureWarning: The default value of numeric_only in DataFrameGroupBy.std is deprecated. In a future version, numeric_only will default to False. Either specify numeric_only or select only columns which should be valid for the function.\n",
      "  std_type_df = type_df.groupby(roi_col).std()\n",
      "Pickle File Processed:  83%|\u001B[31m████████▎ \u001B[0m| 178/214 [23:04<02:28,  4.13s/it]"
     ]
    },
    {
     "name": "stdout",
     "output_type": "stream",
     "text": [
      "saving excel\n",
      "converting pkl to df:\n"
     ]
    },
    {
     "name": "stderr",
     "output_type": "stream",
     "text": [
      "C:\\Users\\Kevin\\AppData\\Local\\Temp\\ipykernel_12976\\3288184646.py:84: FutureWarning: The default value of numeric_only in DataFrameGroupBy.mean is deprecated. In a future version, numeric_only will default to False. Either specify numeric_only or select only columns which should be valid for the function.\n",
      "  avg_type_df = type_df.groupby(roi_col).mean()\n",
      "C:\\Users\\Kevin\\AppData\\Local\\Temp\\ipykernel_12976\\3288184646.py:85: FutureWarning: The default value of numeric_only in DataFrameGroupBy.std is deprecated. In a future version, numeric_only will default to False. Either specify numeric_only or select only columns which should be valid for the function.\n",
      "  std_type_df = type_df.groupby(roi_col).std()\n",
      "Pickle File Processed:  84%|\u001B[31m████████▎ \u001B[0m| 179/214 [23:09<02:37,  4.49s/it]"
     ]
    },
    {
     "name": "stdout",
     "output_type": "stream",
     "text": [
      "saving excel\n",
      "converting pkl to df:\n"
     ]
    },
    {
     "name": "stderr",
     "output_type": "stream",
     "text": [
      "C:\\Users\\Kevin\\AppData\\Local\\Temp\\ipykernel_12976\\3288184646.py:84: FutureWarning: The default value of numeric_only in DataFrameGroupBy.mean is deprecated. In a future version, numeric_only will default to False. Either specify numeric_only or select only columns which should be valid for the function.\n",
      "  avg_type_df = type_df.groupby(roi_col).mean()\n",
      "C:\\Users\\Kevin\\AppData\\Local\\Temp\\ipykernel_12976\\3288184646.py:85: FutureWarning: The default value of numeric_only in DataFrameGroupBy.std is deprecated. In a future version, numeric_only will default to False. Either specify numeric_only or select only columns which should be valid for the function.\n",
      "  std_type_df = type_df.groupby(roi_col).std()\n",
      "C:\\Users\\Kevin\\AppData\\Local\\Temp\\ipykernel_12976\\3288184646.py:84: FutureWarning: The default value of numeric_only in DataFrameGroupBy.mean is deprecated. In a future version, numeric_only will default to False. Either specify numeric_only or select only columns which should be valid for the function.\n",
      "  avg_type_df = type_df.groupby(roi_col).mean()\n",
      "C:\\Users\\Kevin\\AppData\\Local\\Temp\\ipykernel_12976\\3288184646.py:85: FutureWarning: The default value of numeric_only in DataFrameGroupBy.std is deprecated. In a future version, numeric_only will default to False. Either specify numeric_only or select only columns which should be valid for the function.\n",
      "  std_type_df = type_df.groupby(roi_col).std()\n"
     ]
    },
    {
     "name": "stdout",
     "output_type": "stream",
     "text": [
      "rois {1} not included out of all rois {1} for type 3\n"
     ]
    },
    {
     "name": "stderr",
     "output_type": "stream",
     "text": [
      "Pickle File Processed:  84%|\u001B[31m████████▍ \u001B[0m| 180/214 [23:13<02:26,  4.30s/it]"
     ]
    },
    {
     "name": "stdout",
     "output_type": "stream",
     "text": [
      "saving excel\n",
      "converting pkl to df:\n"
     ]
    },
    {
     "name": "stderr",
     "output_type": "stream",
     "text": [
      "C:\\Users\\Kevin\\AppData\\Local\\Temp\\ipykernel_12976\\3288184646.py:84: FutureWarning: The default value of numeric_only in DataFrameGroupBy.mean is deprecated. In a future version, numeric_only will default to False. Either specify numeric_only or select only columns which should be valid for the function.\n",
      "  avg_type_df = type_df.groupby(roi_col).mean()\n",
      "C:\\Users\\Kevin\\AppData\\Local\\Temp\\ipykernel_12976\\3288184646.py:85: FutureWarning: The default value of numeric_only in DataFrameGroupBy.std is deprecated. In a future version, numeric_only will default to False. Either specify numeric_only or select only columns which should be valid for the function.\n",
      "  std_type_df = type_df.groupby(roi_col).std()\n",
      "Pickle File Processed:  85%|\u001B[31m████████▍ \u001B[0m| 181/214 [23:19<02:37,  4.76s/it]"
     ]
    },
    {
     "name": "stdout",
     "output_type": "stream",
     "text": [
      "saving excel\n",
      "converting pkl to df:\n"
     ]
    },
    {
     "name": "stderr",
     "output_type": "stream",
     "text": [
      "C:\\Users\\Kevin\\AppData\\Local\\Temp\\ipykernel_12976\\3288184646.py:84: FutureWarning: The default value of numeric_only in DataFrameGroupBy.mean is deprecated. In a future version, numeric_only will default to False. Either specify numeric_only or select only columns which should be valid for the function.\n",
      "  avg_type_df = type_df.groupby(roi_col).mean()\n",
      "C:\\Users\\Kevin\\AppData\\Local\\Temp\\ipykernel_12976\\3288184646.py:85: FutureWarning: The default value of numeric_only in DataFrameGroupBy.std is deprecated. In a future version, numeric_only will default to False. Either specify numeric_only or select only columns which should be valid for the function.\n",
      "  std_type_df = type_df.groupby(roi_col).std()\n"
     ]
    },
    {
     "name": "stdout",
     "output_type": "stream",
     "text": [
      "rois {1, 3} not included out of all rois {1, 2, 3} for type 3\n",
      "rois {3} not included out of all rois {1, 2, 3} for type 6\n"
     ]
    },
    {
     "name": "stderr",
     "output_type": "stream",
     "text": [
      "Pickle File Processed:  85%|\u001B[31m████████▌ \u001B[0m| 182/214 [23:25<02:49,  5.29s/it]"
     ]
    },
    {
     "name": "stdout",
     "output_type": "stream",
     "text": [
      "saving excel\n",
      "converting pkl to df:\n"
     ]
    },
    {
     "name": "stderr",
     "output_type": "stream",
     "text": [
      "C:\\Users\\Kevin\\AppData\\Local\\Temp\\ipykernel_12976\\3288184646.py:84: FutureWarning: The default value of numeric_only in DataFrameGroupBy.mean is deprecated. In a future version, numeric_only will default to False. Either specify numeric_only or select only columns which should be valid for the function.\n",
      "  avg_type_df = type_df.groupby(roi_col).mean()\n",
      "C:\\Users\\Kevin\\AppData\\Local\\Temp\\ipykernel_12976\\3288184646.py:85: FutureWarning: The default value of numeric_only in DataFrameGroupBy.std is deprecated. In a future version, numeric_only will default to False. Either specify numeric_only or select only columns which should be valid for the function.\n",
      "  std_type_df = type_df.groupby(roi_col).std()\n"
     ]
    },
    {
     "name": "stdout",
     "output_type": "stream",
     "text": [
      "rois {1} not included out of all rois {1, 2} for type 11\n",
      "saving excel\n"
     ]
    },
    {
     "name": "stderr",
     "output_type": "stream",
     "text": [
      "Pickle File Processed:  86%|\u001B[31m████████▌ \u001B[0m| 183/214 [23:27<02:13,  4.29s/it]"
     ]
    },
    {
     "name": "stdout",
     "output_type": "stream",
     "text": [
      "converting pkl to df:\n"
     ]
    },
    {
     "name": "stderr",
     "output_type": "stream",
     "text": [
      "C:\\Users\\Kevin\\AppData\\Local\\Temp\\ipykernel_12976\\3288184646.py:84: FutureWarning: The default value of numeric_only in DataFrameGroupBy.mean is deprecated. In a future version, numeric_only will default to False. Either specify numeric_only or select only columns which should be valid for the function.\n",
      "  avg_type_df = type_df.groupby(roi_col).mean()\n",
      "C:\\Users\\Kevin\\AppData\\Local\\Temp\\ipykernel_12976\\3288184646.py:85: FutureWarning: The default value of numeric_only in DataFrameGroupBy.std is deprecated. In a future version, numeric_only will default to False. Either specify numeric_only or select only columns which should be valid for the function.\n",
      "  std_type_df = type_df.groupby(roi_col).std()\n",
      "Pickle File Processed:  86%|\u001B[31m████████▌ \u001B[0m| 184/214 [23:33<02:22,  4.74s/it]"
     ]
    },
    {
     "name": "stdout",
     "output_type": "stream",
     "text": [
      "saving excel\n",
      "converting pkl to df:\n"
     ]
    },
    {
     "name": "stderr",
     "output_type": "stream",
     "text": [
      "C:\\Users\\Kevin\\AppData\\Local\\Temp\\ipykernel_12976\\3288184646.py:84: FutureWarning: The default value of numeric_only in DataFrameGroupBy.mean is deprecated. In a future version, numeric_only will default to False. Either specify numeric_only or select only columns which should be valid for the function.\n",
      "  avg_type_df = type_df.groupby(roi_col).mean()\n",
      "C:\\Users\\Kevin\\AppData\\Local\\Temp\\ipykernel_12976\\3288184646.py:85: FutureWarning: The default value of numeric_only in DataFrameGroupBy.std is deprecated. In a future version, numeric_only will default to False. Either specify numeric_only or select only columns which should be valid for the function.\n",
      "  std_type_df = type_df.groupby(roi_col).std()\n",
      "Pickle File Processed:  86%|\u001B[31m████████▋ \u001B[0m| 185/214 [23:47<03:40,  7.60s/it]"
     ]
    },
    {
     "name": "stdout",
     "output_type": "stream",
     "text": [
      "saving excel\n",
      "converting pkl to df:\n"
     ]
    },
    {
     "name": "stderr",
     "output_type": "stream",
     "text": [
      "C:\\Users\\Kevin\\AppData\\Local\\Temp\\ipykernel_12976\\3288184646.py:84: FutureWarning: The default value of numeric_only in DataFrameGroupBy.mean is deprecated. In a future version, numeric_only will default to False. Either specify numeric_only or select only columns which should be valid for the function.\n",
      "  avg_type_df = type_df.groupby(roi_col).mean()\n",
      "C:\\Users\\Kevin\\AppData\\Local\\Temp\\ipykernel_12976\\3288184646.py:85: FutureWarning: The default value of numeric_only in DataFrameGroupBy.std is deprecated. In a future version, numeric_only will default to False. Either specify numeric_only or select only columns which should be valid for the function.\n",
      "  std_type_df = type_df.groupby(roi_col).std()\n",
      "Pickle File Processed:  87%|\u001B[31m████████▋ \u001B[0m| 186/214 [23:53<03:14,  6.96s/it]"
     ]
    },
    {
     "name": "stdout",
     "output_type": "stream",
     "text": [
      "saving excel\n",
      "converting pkl to df:\n"
     ]
    },
    {
     "name": "stderr",
     "output_type": "stream",
     "text": [
      "C:\\Users\\Kevin\\AppData\\Local\\Temp\\ipykernel_12976\\3288184646.py:84: FutureWarning: The default value of numeric_only in DataFrameGroupBy.mean is deprecated. In a future version, numeric_only will default to False. Either specify numeric_only or select only columns which should be valid for the function.\n",
      "  avg_type_df = type_df.groupby(roi_col).mean()\n",
      "C:\\Users\\Kevin\\AppData\\Local\\Temp\\ipykernel_12976\\3288184646.py:85: FutureWarning: The default value of numeric_only in DataFrameGroupBy.std is deprecated. In a future version, numeric_only will default to False. Either specify numeric_only or select only columns which should be valid for the function.\n",
      "  std_type_df = type_df.groupby(roi_col).std()\n",
      "Pickle File Processed:  87%|\u001B[31m████████▋ \u001B[0m| 187/214 [24:07<04:07,  9.18s/it]"
     ]
    },
    {
     "name": "stdout",
     "output_type": "stream",
     "text": [
      "saving excel\n",
      "converting pkl to df:\n"
     ]
    },
    {
     "name": "stderr",
     "output_type": "stream",
     "text": [
      "C:\\Users\\Kevin\\AppData\\Local\\Temp\\ipykernel_12976\\3288184646.py:84: FutureWarning: The default value of numeric_only in DataFrameGroupBy.mean is deprecated. In a future version, numeric_only will default to False. Either specify numeric_only or select only columns which should be valid for the function.\n",
      "  avg_type_df = type_df.groupby(roi_col).mean()\n",
      "C:\\Users\\Kevin\\AppData\\Local\\Temp\\ipykernel_12976\\3288184646.py:85: FutureWarning: The default value of numeric_only in DataFrameGroupBy.std is deprecated. In a future version, numeric_only will default to False. Either specify numeric_only or select only columns which should be valid for the function.\n",
      "  std_type_df = type_df.groupby(roi_col).std()\n"
     ]
    },
    {
     "name": "stdout",
     "output_type": "stream",
     "text": [
      "rois {2} not included out of all rois {1, 2, 3} for type 3\n",
      "rois {3} not included out of all rois {1, 2, 3} for type 4\n"
     ]
    },
    {
     "name": "stderr",
     "output_type": "stream",
     "text": [
      "Pickle File Processed:  88%|\u001B[31m████████▊ \u001B[0m| 188/214 [24:16<03:57,  9.15s/it]"
     ]
    },
    {
     "name": "stdout",
     "output_type": "stream",
     "text": [
      "saving excel\n",
      "converting pkl to df:\n"
     ]
    },
    {
     "name": "stderr",
     "output_type": "stream",
     "text": [
      "C:\\Users\\Kevin\\AppData\\Local\\Temp\\ipykernel_12976\\3288184646.py:84: FutureWarning: The default value of numeric_only in DataFrameGroupBy.mean is deprecated. In a future version, numeric_only will default to False. Either specify numeric_only or select only columns which should be valid for the function.\n",
      "  avg_type_df = type_df.groupby(roi_col).mean()\n",
      "C:\\Users\\Kevin\\AppData\\Local\\Temp\\ipykernel_12976\\3288184646.py:85: FutureWarning: The default value of numeric_only in DataFrameGroupBy.std is deprecated. In a future version, numeric_only will default to False. Either specify numeric_only or select only columns which should be valid for the function.\n",
      "  std_type_df = type_df.groupby(roi_col).std()\n"
     ]
    },
    {
     "name": "stdout",
     "output_type": "stream",
     "text": [
      "saving excel\n"
     ]
    },
    {
     "name": "stderr",
     "output_type": "stream",
     "text": [
      "Pickle File Processed:  88%|\u001B[31m████████▊ \u001B[0m| 189/214 [24:30<04:27, 10.68s/it]"
     ]
    },
    {
     "name": "stdout",
     "output_type": "stream",
     "text": [
      "converting pkl to df:\n"
     ]
    },
    {
     "name": "stderr",
     "output_type": "stream",
     "text": [
      "C:\\Users\\Kevin\\AppData\\Local\\Temp\\ipykernel_12976\\3288184646.py:84: FutureWarning: The default value of numeric_only in DataFrameGroupBy.mean is deprecated. In a future version, numeric_only will default to False. Either specify numeric_only or select only columns which should be valid for the function.\n",
      "  avg_type_df = type_df.groupby(roi_col).mean()\n",
      "C:\\Users\\Kevin\\AppData\\Local\\Temp\\ipykernel_12976\\3288184646.py:85: FutureWarning: The default value of numeric_only in DataFrameGroupBy.std is deprecated. In a future version, numeric_only will default to False. Either specify numeric_only or select only columns which should be valid for the function.\n",
      "  std_type_df = type_df.groupby(roi_col).std()\n",
      "Pickle File Processed:  89%|\u001B[31m████████▉ \u001B[0m| 190/214 [24:33<03:17,  8.24s/it]"
     ]
    },
    {
     "name": "stdout",
     "output_type": "stream",
     "text": [
      "saving excel\n",
      "converting pkl to df:\n"
     ]
    },
    {
     "name": "stderr",
     "output_type": "stream",
     "text": [
      "C:\\Users\\Kevin\\AppData\\Local\\Temp\\ipykernel_12976\\3288184646.py:84: FutureWarning: The default value of numeric_only in DataFrameGroupBy.mean is deprecated. In a future version, numeric_only will default to False. Either specify numeric_only or select only columns which should be valid for the function.\n",
      "  avg_type_df = type_df.groupby(roi_col).mean()\n",
      "C:\\Users\\Kevin\\AppData\\Local\\Temp\\ipykernel_12976\\3288184646.py:85: FutureWarning: The default value of numeric_only in DataFrameGroupBy.std is deprecated. In a future version, numeric_only will default to False. Either specify numeric_only or select only columns which should be valid for the function.\n",
      "  std_type_df = type_df.groupby(roi_col).std()\n"
     ]
    },
    {
     "name": "stdout",
     "output_type": "stream",
     "text": [
      "rois {1} not included out of all rois {1, 2} for type 3\n",
      "rois {1} not included out of all rois {1, 2} for type 6\n"
     ]
    },
    {
     "name": "stderr",
     "output_type": "stream",
     "text": [
      "Pickle File Processed:  89%|\u001B[31m████████▉ \u001B[0m| 191/214 [24:36<02:33,  6.68s/it]"
     ]
    },
    {
     "name": "stdout",
     "output_type": "stream",
     "text": [
      "saving excel\n",
      "converting pkl to df:\n"
     ]
    },
    {
     "name": "stderr",
     "output_type": "stream",
     "text": [
      "C:\\Users\\Kevin\\AppData\\Local\\Temp\\ipykernel_12976\\3288184646.py:84: FutureWarning: The default value of numeric_only in DataFrameGroupBy.mean is deprecated. In a future version, numeric_only will default to False. Either specify numeric_only or select only columns which should be valid for the function.\n",
      "  avg_type_df = type_df.groupby(roi_col).mean()\n",
      "C:\\Users\\Kevin\\AppData\\Local\\Temp\\ipykernel_12976\\3288184646.py:85: FutureWarning: The default value of numeric_only in DataFrameGroupBy.std is deprecated. In a future version, numeric_only will default to False. Either specify numeric_only or select only columns which should be valid for the function.\n",
      "  std_type_df = type_df.groupby(roi_col).std()\n",
      "C:\\Users\\Kevin\\AppData\\Local\\Temp\\ipykernel_12976\\3288184646.py:84: FutureWarning: The default value of numeric_only in DataFrameGroupBy.mean is deprecated. In a future version, numeric_only will default to False. Either specify numeric_only or select only columns which should be valid for the function.\n",
      "  avg_type_df = type_df.groupby(roi_col).mean()\n",
      "C:\\Users\\Kevin\\AppData\\Local\\Temp\\ipykernel_12976\\3288184646.py:85: FutureWarning: The default value of numeric_only in DataFrameGroupBy.std is deprecated. In a future version, numeric_only will default to False. Either specify numeric_only or select only columns which should be valid for the function.\n",
      "  std_type_df = type_df.groupby(roi_col).std()\n"
     ]
    },
    {
     "name": "stdout",
     "output_type": "stream",
     "text": [
      "rois {1} not included out of all rois {1, 2} for type 3\n",
      "rois {1, 2} not included out of all rois {1, 2} for type 6\n",
      "rois {2} not included out of all rois {1, 2} for type 11\n",
      "saving excel\n"
     ]
    },
    {
     "name": "stderr",
     "output_type": "stream",
     "text": [
      "Pickle File Processed:  90%|\u001B[31m████████▉ \u001B[0m| 192/214 [24:37<01:52,  5.13s/it]"
     ]
    },
    {
     "name": "stdout",
     "output_type": "stream",
     "text": [
      "converting pkl to df:\n"
     ]
    },
    {
     "name": "stderr",
     "output_type": "stream",
     "text": [
      "C:\\Users\\Kevin\\AppData\\Local\\Temp\\ipykernel_12976\\3288184646.py:84: FutureWarning: The default value of numeric_only in DataFrameGroupBy.mean is deprecated. In a future version, numeric_only will default to False. Either specify numeric_only or select only columns which should be valid for the function.\n",
      "  avg_type_df = type_df.groupby(roi_col).mean()\n",
      "C:\\Users\\Kevin\\AppData\\Local\\Temp\\ipykernel_12976\\3288184646.py:85: FutureWarning: The default value of numeric_only in DataFrameGroupBy.std is deprecated. In a future version, numeric_only will default to False. Either specify numeric_only or select only columns which should be valid for the function.\n",
      "  std_type_df = type_df.groupby(roi_col).std()\n",
      "Pickle File Processed:  90%|\u001B[31m█████████ \u001B[0m| 193/214 [24:43<01:48,  5.16s/it]"
     ]
    },
    {
     "name": "stdout",
     "output_type": "stream",
     "text": [
      "saving excel\n",
      "converting pkl to df:\n"
     ]
    },
    {
     "name": "stderr",
     "output_type": "stream",
     "text": [
      "C:\\Users\\Kevin\\AppData\\Local\\Temp\\ipykernel_12976\\3288184646.py:84: FutureWarning: The default value of numeric_only in DataFrameGroupBy.mean is deprecated. In a future version, numeric_only will default to False. Either specify numeric_only or select only columns which should be valid for the function.\n",
      "  avg_type_df = type_df.groupby(roi_col).mean()\n",
      "C:\\Users\\Kevin\\AppData\\Local\\Temp\\ipykernel_12976\\3288184646.py:85: FutureWarning: The default value of numeric_only in DataFrameGroupBy.std is deprecated. In a future version, numeric_only will default to False. Either specify numeric_only or select only columns which should be valid for the function.\n",
      "  std_type_df = type_df.groupby(roi_col).std()\n",
      "Pickle File Processed:  91%|\u001B[31m█████████ \u001B[0m| 194/214 [24:44<01:19,  3.99s/it]"
     ]
    },
    {
     "name": "stdout",
     "output_type": "stream",
     "text": [
      "saving excel\n",
      "converting pkl to df:\n"
     ]
    },
    {
     "name": "stderr",
     "output_type": "stream",
     "text": [
      "C:\\Users\\Kevin\\AppData\\Local\\Temp\\ipykernel_12976\\3288184646.py:84: FutureWarning: The default value of numeric_only in DataFrameGroupBy.mean is deprecated. In a future version, numeric_only will default to False. Either specify numeric_only or select only columns which should be valid for the function.\n",
      "  avg_type_df = type_df.groupby(roi_col).mean()\n",
      "C:\\Users\\Kevin\\AppData\\Local\\Temp\\ipykernel_12976\\3288184646.py:85: FutureWarning: The default value of numeric_only in DataFrameGroupBy.std is deprecated. In a future version, numeric_only will default to False. Either specify numeric_only or select only columns which should be valid for the function.\n",
      "  std_type_df = type_df.groupby(roi_col).std()\n",
      "Pickle File Processed:  91%|\u001B[31m█████████ \u001B[0m| 195/214 [24:45<00:59,  3.13s/it]"
     ]
    },
    {
     "name": "stdout",
     "output_type": "stream",
     "text": [
      "saving excel\n",
      "converting pkl to df:\n"
     ]
    },
    {
     "name": "stderr",
     "output_type": "stream",
     "text": [
      "C:\\Users\\Kevin\\AppData\\Local\\Temp\\ipykernel_12976\\3288184646.py:84: FutureWarning: The default value of numeric_only in DataFrameGroupBy.mean is deprecated. In a future version, numeric_only will default to False. Either specify numeric_only or select only columns which should be valid for the function.\n",
      "  avg_type_df = type_df.groupby(roi_col).mean()\n",
      "C:\\Users\\Kevin\\AppData\\Local\\Temp\\ipykernel_12976\\3288184646.py:85: FutureWarning: The default value of numeric_only in DataFrameGroupBy.std is deprecated. In a future version, numeric_only will default to False. Either specify numeric_only or select only columns which should be valid for the function.\n",
      "  std_type_df = type_df.groupby(roi_col).std()\n",
      "C:\\Users\\Kevin\\AppData\\Local\\Temp\\ipykernel_12976\\3288184646.py:84: FutureWarning: The default value of numeric_only in DataFrameGroupBy.mean is deprecated. In a future version, numeric_only will default to False. Either specify numeric_only or select only columns which should be valid for the function.\n",
      "  avg_type_df = type_df.groupby(roi_col).mean()\n",
      "C:\\Users\\Kevin\\AppData\\Local\\Temp\\ipykernel_12976\\3288184646.py:85: FutureWarning: The default value of numeric_only in DataFrameGroupBy.std is deprecated. In a future version, numeric_only will default to False. Either specify numeric_only or select only columns which should be valid for the function.\n",
      "  std_type_df = type_df.groupby(roi_col).std()\n"
     ]
    },
    {
     "name": "stdout",
     "output_type": "stream",
     "text": [
      "rois {1} not included out of all rois {1} for type 3\n",
      "rois {1} not included out of all rois {1} for type 11\n"
     ]
    },
    {
     "name": "stderr",
     "output_type": "stream",
     "text": [
      "C:\\Users\\Kevin\\AppData\\Local\\Temp\\ipykernel_12976\\3288184646.py:84: FutureWarning: The default value of numeric_only in DataFrameGroupBy.mean is deprecated. In a future version, numeric_only will default to False. Either specify numeric_only or select only columns which should be valid for the function.\n",
      "  avg_type_df = type_df.groupby(roi_col).mean()\n",
      "C:\\Users\\Kevin\\AppData\\Local\\Temp\\ipykernel_12976\\3288184646.py:85: FutureWarning: The default value of numeric_only in DataFrameGroupBy.std is deprecated. In a future version, numeric_only will default to False. Either specify numeric_only or select only columns which should be valid for the function.\n",
      "  std_type_df = type_df.groupby(roi_col).std()\n",
      "Pickle File Processed:  92%|\u001B[31m█████████▏\u001B[0m| 196/214 [24:46<00:46,  2.58s/it]"
     ]
    },
    {
     "name": "stdout",
     "output_type": "stream",
     "text": [
      "saving excel\n",
      "converting pkl to df:\n"
     ]
    },
    {
     "name": "stderr",
     "output_type": "stream",
     "text": [
      "C:\\Users\\Kevin\\AppData\\Local\\Temp\\ipykernel_12976\\3288184646.py:84: FutureWarning: The default value of numeric_only in DataFrameGroupBy.mean is deprecated. In a future version, numeric_only will default to False. Either specify numeric_only or select only columns which should be valid for the function.\n",
      "  avg_type_df = type_df.groupby(roi_col).mean()\n",
      "C:\\Users\\Kevin\\AppData\\Local\\Temp\\ipykernel_12976\\3288184646.py:85: FutureWarning: The default value of numeric_only in DataFrameGroupBy.std is deprecated. In a future version, numeric_only will default to False. Either specify numeric_only or select only columns which should be valid for the function.\n",
      "  std_type_df = type_df.groupby(roi_col).std()\n",
      "Pickle File Processed:  92%|\u001B[31m█████████▏\u001B[0m| 197/214 [24:53<01:05,  3.85s/it]"
     ]
    },
    {
     "name": "stdout",
     "output_type": "stream",
     "text": [
      "saving excel\n"
     ]
    },
    {
     "name": "stderr",
     "output_type": "stream",
     "text": [
      "C:\\Users\\Kevin\\AppData\\Local\\Temp\\ipykernel_12976\\3288184646.py:84: FutureWarning: The default value of numeric_only in DataFrameGroupBy.mean is deprecated. In a future version, numeric_only will default to False. Either specify numeric_only or select only columns which should be valid for the function.\n",
      "  avg_type_df = type_df.groupby(roi_col).mean()\n",
      "C:\\Users\\Kevin\\AppData\\Local\\Temp\\ipykernel_12976\\3288184646.py:85: FutureWarning: The default value of numeric_only in DataFrameGroupBy.std is deprecated. In a future version, numeric_only will default to False. Either specify numeric_only or select only columns which should be valid for the function.\n",
      "  std_type_df = type_df.groupby(roi_col).std()\n",
      "C:\\Users\\Kevin\\AppData\\Local\\Temp\\ipykernel_12976\\3288184646.py:84: FutureWarning: The default value of numeric_only in DataFrameGroupBy.mean is deprecated. In a future version, numeric_only will default to False. Either specify numeric_only or select only columns which should be valid for the function.\n",
      "  avg_type_df = type_df.groupby(roi_col).mean()\n",
      "C:\\Users\\Kevin\\AppData\\Local\\Temp\\ipykernel_12976\\3288184646.py:85: FutureWarning: The default value of numeric_only in DataFrameGroupBy.std is deprecated. In a future version, numeric_only will default to False. Either specify numeric_only or select only columns which should be valid for the function.\n",
      "  std_type_df = type_df.groupby(roi_col).std()\n",
      "C:\\Users\\Kevin\\AppData\\Local\\Temp\\ipykernel_12976\\3288184646.py:84: FutureWarning: The default value of numeric_only in DataFrameGroupBy.mean is deprecated. In a future version, numeric_only will default to False. Either specify numeric_only or select only columns which should be valid for the function.\n",
      "  avg_type_df = type_df.groupby(roi_col).mean()\n",
      "C:\\Users\\Kevin\\AppData\\Local\\Temp\\ipykernel_12976\\3288184646.py:85: FutureWarning: The default value of numeric_only in DataFrameGroupBy.std is deprecated. In a future version, numeric_only will default to False. Either specify numeric_only or select only columns which should be valid for the function.\n",
      "  std_type_df = type_df.groupby(roi_col).std()\n",
      "C:\\Users\\Kevin\\AppData\\Local\\Temp\\ipykernel_12976\\3288184646.py:84: FutureWarning: The default value of numeric_only in DataFrameGroupBy.mean is deprecated. In a future version, numeric_only will default to False. Either specify numeric_only or select only columns which should be valid for the function.\n",
      "  avg_type_df = type_df.groupby(roi_col).mean()\n",
      "C:\\Users\\Kevin\\AppData\\Local\\Temp\\ipykernel_12976\\3288184646.py:85: FutureWarning: The default value of numeric_only in DataFrameGroupBy.std is deprecated. In a future version, numeric_only will default to False. Either specify numeric_only or select only columns which should be valid for the function.\n",
      "  std_type_df = type_df.groupby(roi_col).std()\n",
      "C:\\Users\\Kevin\\AppData\\Local\\Temp\\ipykernel_12976\\3288184646.py:84: FutureWarning: The default value of numeric_only in DataFrameGroupBy.mean is deprecated. In a future version, numeric_only will default to False. Either specify numeric_only or select only columns which should be valid for the function.\n",
      "  avg_type_df = type_df.groupby(roi_col).mean()\n",
      "C:\\Users\\Kevin\\AppData\\Local\\Temp\\ipykernel_12976\\3288184646.py:85: FutureWarning: The default value of numeric_only in DataFrameGroupBy.std is deprecated. In a future version, numeric_only will default to False. Either specify numeric_only or select only columns which should be valid for the function.\n",
      "  std_type_df = type_df.groupby(roi_col).std()\n"
     ]
    },
    {
     "name": "stdout",
     "output_type": "stream",
     "text": [
      "converting pkl to df:\n",
      "rois {1} not included out of all rois {1} for type 3\n",
      "rois {1} not included out of all rois {1} for type 4\n",
      "rois {1} not included out of all rois {1} for type 5\n",
      "rois {1} not included out of all rois {1} for type 7\n"
     ]
    },
    {
     "name": "stderr",
     "output_type": "stream",
     "text": [
      "C:\\Users\\Kevin\\AppData\\Local\\Temp\\ipykernel_12976\\3288184646.py:84: FutureWarning: The default value of numeric_only in DataFrameGroupBy.mean is deprecated. In a future version, numeric_only will default to False. Either specify numeric_only or select only columns which should be valid for the function.\n",
      "  avg_type_df = type_df.groupby(roi_col).mean()\n",
      "C:\\Users\\Kevin\\AppData\\Local\\Temp\\ipykernel_12976\\3288184646.py:85: FutureWarning: The default value of numeric_only in DataFrameGroupBy.std is deprecated. In a future version, numeric_only will default to False. Either specify numeric_only or select only columns which should be valid for the function.\n",
      "  std_type_df = type_df.groupby(roi_col).std()\n",
      "Pickle File Processed:  93%|\u001B[31m█████████▎\u001B[0m| 198/214 [24:54<00:44,  2.81s/it]"
     ]
    },
    {
     "name": "stdout",
     "output_type": "stream",
     "text": [
      "rois {1} not included out of all rois {1} for type 11\n",
      "saving excel\n",
      "converting pkl to df:\n"
     ]
    },
    {
     "name": "stderr",
     "output_type": "stream",
     "text": [
      "C:\\Users\\Kevin\\AppData\\Local\\Temp\\ipykernel_12976\\3288184646.py:84: FutureWarning: The default value of numeric_only in DataFrameGroupBy.mean is deprecated. In a future version, numeric_only will default to False. Either specify numeric_only or select only columns which should be valid for the function.\n",
      "  avg_type_df = type_df.groupby(roi_col).mean()\n",
      "C:\\Users\\Kevin\\AppData\\Local\\Temp\\ipykernel_12976\\3288184646.py:85: FutureWarning: The default value of numeric_only in DataFrameGroupBy.std is deprecated. In a future version, numeric_only will default to False. Either specify numeric_only or select only columns which should be valid for the function.\n",
      "  std_type_df = type_df.groupby(roi_col).std()\n",
      "C:\\Users\\Kevin\\AppData\\Local\\Temp\\ipykernel_12976\\3288184646.py:84: FutureWarning: The default value of numeric_only in DataFrameGroupBy.mean is deprecated. In a future version, numeric_only will default to False. Either specify numeric_only or select only columns which should be valid for the function.\n",
      "  avg_type_df = type_df.groupby(roi_col).mean()\n",
      "C:\\Users\\Kevin\\AppData\\Local\\Temp\\ipykernel_12976\\3288184646.py:85: FutureWarning: The default value of numeric_only in DataFrameGroupBy.std is deprecated. In a future version, numeric_only will default to False. Either specify numeric_only or select only columns which should be valid for the function.\n",
      "  std_type_df = type_df.groupby(roi_col).std()\n"
     ]
    },
    {
     "name": "stdout",
     "output_type": "stream",
     "text": [
      "rois {1} not included out of all rois {1} for type 3\n",
      "rois {1} not included out of all rois {1} for type 11\n",
      "saving excel\n"
     ]
    },
    {
     "name": "stderr",
     "output_type": "stream",
     "text": [
      "C:\\Users\\Kevin\\AppData\\Local\\Temp\\ipykernel_12976\\3288184646.py:84: FutureWarning: The default value of numeric_only in DataFrameGroupBy.mean is deprecated. In a future version, numeric_only will default to False. Either specify numeric_only or select only columns which should be valid for the function.\n",
      "  avg_type_df = type_df.groupby(roi_col).mean()\n",
      "C:\\Users\\Kevin\\AppData\\Local\\Temp\\ipykernel_12976\\3288184646.py:85: FutureWarning: The default value of numeric_only in DataFrameGroupBy.std is deprecated. In a future version, numeric_only will default to False. Either specify numeric_only or select only columns which should be valid for the function.\n",
      "  std_type_df = type_df.groupby(roi_col).std()\n",
      "Pickle File Processed:  93%|\u001B[31m█████████▎\u001B[0m| 199/214 [24:55<00:36,  2.43s/it]"
     ]
    },
    {
     "name": "stdout",
     "output_type": "stream",
     "text": [
      "converting pkl to df:\n"
     ]
    },
    {
     "name": "stderr",
     "output_type": "stream",
     "text": [
      "C:\\Users\\Kevin\\AppData\\Local\\Temp\\ipykernel_12976\\3288184646.py:84: FutureWarning: The default value of numeric_only in DataFrameGroupBy.mean is deprecated. In a future version, numeric_only will default to False. Either specify numeric_only or select only columns which should be valid for the function.\n",
      "  avg_type_df = type_df.groupby(roi_col).mean()\n",
      "C:\\Users\\Kevin\\AppData\\Local\\Temp\\ipykernel_12976\\3288184646.py:85: FutureWarning: The default value of numeric_only in DataFrameGroupBy.std is deprecated. In a future version, numeric_only will default to False. Either specify numeric_only or select only columns which should be valid for the function.\n",
      "  std_type_df = type_df.groupby(roi_col).std()\n"
     ]
    },
    {
     "name": "stdout",
     "output_type": "stream",
     "text": [
      "rois {1} not included out of all rois {1} for type 11\n",
      "saving excel\n"
     ]
    },
    {
     "name": "stderr",
     "output_type": "stream",
     "text": [
      "C:\\Users\\Kevin\\AppData\\Local\\Temp\\ipykernel_12976\\3288184646.py:84: FutureWarning: The default value of numeric_only in DataFrameGroupBy.mean is deprecated. In a future version, numeric_only will default to False. Either specify numeric_only or select only columns which should be valid for the function.\n",
      "  avg_type_df = type_df.groupby(roi_col).mean()\n",
      "C:\\Users\\Kevin\\AppData\\Local\\Temp\\ipykernel_12976\\3288184646.py:85: FutureWarning: The default value of numeric_only in DataFrameGroupBy.std is deprecated. In a future version, numeric_only will default to False. Either specify numeric_only or select only columns which should be valid for the function.\n",
      "  std_type_df = type_df.groupby(roi_col).std()\n",
      "Pickle File Processed:  93%|\u001B[31m█████████▎\u001B[0m| 200/214 [24:58<00:34,  2.45s/it]"
     ]
    },
    {
     "name": "stdout",
     "output_type": "stream",
     "text": [
      "converting pkl to df:\n"
     ]
    },
    {
     "name": "stderr",
     "output_type": "stream",
     "text": [
      "C:\\Users\\Kevin\\AppData\\Local\\Temp\\ipykernel_12976\\3288184646.py:84: FutureWarning: The default value of numeric_only in DataFrameGroupBy.mean is deprecated. In a future version, numeric_only will default to False. Either specify numeric_only or select only columns which should be valid for the function.\n",
      "  avg_type_df = type_df.groupby(roi_col).mean()\n",
      "C:\\Users\\Kevin\\AppData\\Local\\Temp\\ipykernel_12976\\3288184646.py:85: FutureWarning: The default value of numeric_only in DataFrameGroupBy.std is deprecated. In a future version, numeric_only will default to False. Either specify numeric_only or select only columns which should be valid for the function.\n",
      "  std_type_df = type_df.groupby(roi_col).std()\n",
      "Pickle File Processed:  94%|\u001B[31m█████████▍\u001B[0m| 201/214 [25:01<00:35,  2.72s/it]"
     ]
    },
    {
     "name": "stdout",
     "output_type": "stream",
     "text": [
      "saving excel\n",
      "converting pkl to df:\n"
     ]
    },
    {
     "name": "stderr",
     "output_type": "stream",
     "text": [
      "C:\\Users\\Kevin\\AppData\\Local\\Temp\\ipykernel_12976\\3288184646.py:84: FutureWarning: The default value of numeric_only in DataFrameGroupBy.mean is deprecated. In a future version, numeric_only will default to False. Either specify numeric_only or select only columns which should be valid for the function.\n",
      "  avg_type_df = type_df.groupby(roi_col).mean()\n",
      "C:\\Users\\Kevin\\AppData\\Local\\Temp\\ipykernel_12976\\3288184646.py:85: FutureWarning: The default value of numeric_only in DataFrameGroupBy.std is deprecated. In a future version, numeric_only will default to False. Either specify numeric_only or select only columns which should be valid for the function.\n",
      "  std_type_df = type_df.groupby(roi_col).std()\n",
      "C:\\Users\\Kevin\\AppData\\Local\\Temp\\ipykernel_12976\\3288184646.py:84: FutureWarning: The default value of numeric_only in DataFrameGroupBy.mean is deprecated. In a future version, numeric_only will default to False. Either specify numeric_only or select only columns which should be valid for the function.\n",
      "  avg_type_df = type_df.groupby(roi_col).mean()\n",
      "C:\\Users\\Kevin\\AppData\\Local\\Temp\\ipykernel_12976\\3288184646.py:85: FutureWarning: The default value of numeric_only in DataFrameGroupBy.std is deprecated. In a future version, numeric_only will default to False. Either specify numeric_only or select only columns which should be valid for the function.\n",
      "  std_type_df = type_df.groupby(roi_col).std()\n",
      "C:\\Users\\Kevin\\AppData\\Local\\Temp\\ipykernel_12976\\3288184646.py:84: FutureWarning: The default value of numeric_only in DataFrameGroupBy.mean is deprecated. In a future version, numeric_only will default to False. Either specify numeric_only or select only columns which should be valid for the function.\n",
      "  avg_type_df = type_df.groupby(roi_col).mean()\n",
      "C:\\Users\\Kevin\\AppData\\Local\\Temp\\ipykernel_12976\\3288184646.py:85: FutureWarning: The default value of numeric_only in DataFrameGroupBy.std is deprecated. In a future version, numeric_only will default to False. Either specify numeric_only or select only columns which should be valid for the function.\n",
      "  std_type_df = type_df.groupby(roi_col).std()\n"
     ]
    },
    {
     "name": "stdout",
     "output_type": "stream",
     "text": [
      "rois {1, 2} not included out of all rois {1, 2} for type 3\n",
      "rois {1, 2} not included out of all rois {1, 2} for type 4\n",
      "rois {1, 2} not included out of all rois {1, 2} for type 11\n"
     ]
    },
    {
     "name": "stderr",
     "output_type": "stream",
     "text": [
      "C:\\Users\\Kevin\\AppData\\Local\\Temp\\ipykernel_12976\\3288184646.py:84: FutureWarning: The default value of numeric_only in DataFrameGroupBy.mean is deprecated. In a future version, numeric_only will default to False. Either specify numeric_only or select only columns which should be valid for the function.\n",
      "  avg_type_df = type_df.groupby(roi_col).mean()\n",
      "C:\\Users\\Kevin\\AppData\\Local\\Temp\\ipykernel_12976\\3288184646.py:85: FutureWarning: The default value of numeric_only in DataFrameGroupBy.std is deprecated. In a future version, numeric_only will default to False. Either specify numeric_only or select only columns which should be valid for the function.\n",
      "  std_type_df = type_df.groupby(roi_col).std()\n",
      "Pickle File Processed:  94%|\u001B[31m█████████▍\u001B[0m| 202/214 [25:03<00:29,  2.47s/it]"
     ]
    },
    {
     "name": "stdout",
     "output_type": "stream",
     "text": [
      "saving excel\n",
      "converting pkl to df:\n"
     ]
    },
    {
     "name": "stderr",
     "output_type": "stream",
     "text": [
      "C:\\Users\\Kevin\\AppData\\Local\\Temp\\ipykernel_12976\\3288184646.py:84: FutureWarning: The default value of numeric_only in DataFrameGroupBy.mean is deprecated. In a future version, numeric_only will default to False. Either specify numeric_only or select only columns which should be valid for the function.\n",
      "  avg_type_df = type_df.groupby(roi_col).mean()\n",
      "C:\\Users\\Kevin\\AppData\\Local\\Temp\\ipykernel_12976\\3288184646.py:85: FutureWarning: The default value of numeric_only in DataFrameGroupBy.std is deprecated. In a future version, numeric_only will default to False. Either specify numeric_only or select only columns which should be valid for the function.\n",
      "  std_type_df = type_df.groupby(roi_col).std()\n",
      "C:\\Users\\Kevin\\AppData\\Local\\Temp\\ipykernel_12976\\3288184646.py:84: FutureWarning: The default value of numeric_only in DataFrameGroupBy.mean is deprecated. In a future version, numeric_only will default to False. Either specify numeric_only or select only columns which should be valid for the function.\n",
      "  avg_type_df = type_df.groupby(roi_col).mean()\n",
      "C:\\Users\\Kevin\\AppData\\Local\\Temp\\ipykernel_12976\\3288184646.py:85: FutureWarning: The default value of numeric_only in DataFrameGroupBy.std is deprecated. In a future version, numeric_only will default to False. Either specify numeric_only or select only columns which should be valid for the function.\n",
      "  std_type_df = type_df.groupby(roi_col).std()\n",
      "C:\\Users\\Kevin\\AppData\\Local\\Temp\\ipykernel_12976\\3288184646.py:84: FutureWarning: The default value of numeric_only in DataFrameGroupBy.mean is deprecated. In a future version, numeric_only will default to False. Either specify numeric_only or select only columns which should be valid for the function.\n",
      "  avg_type_df = type_df.groupby(roi_col).mean()\n",
      "C:\\Users\\Kevin\\AppData\\Local\\Temp\\ipykernel_12976\\3288184646.py:85: FutureWarning: The default value of numeric_only in DataFrameGroupBy.std is deprecated. In a future version, numeric_only will default to False. Either specify numeric_only or select only columns which should be valid for the function.\n",
      "  std_type_df = type_df.groupby(roi_col).std()\n",
      "C:\\Users\\Kevin\\AppData\\Local\\Temp\\ipykernel_12976\\3288184646.py:84: FutureWarning: The default value of numeric_only in DataFrameGroupBy.mean is deprecated. In a future version, numeric_only will default to False. Either specify numeric_only or select only columns which should be valid for the function.\n",
      "  avg_type_df = type_df.groupby(roi_col).mean()\n",
      "C:\\Users\\Kevin\\AppData\\Local\\Temp\\ipykernel_12976\\3288184646.py:85: FutureWarning: The default value of numeric_only in DataFrameGroupBy.std is deprecated. In a future version, numeric_only will default to False. Either specify numeric_only or select only columns which should be valid for the function.\n",
      "  std_type_df = type_df.groupby(roi_col).std()\n"
     ]
    },
    {
     "name": "stdout",
     "output_type": "stream",
     "text": [
      "rois {1} not included out of all rois {1} for type 3\n",
      "rois {1} not included out of all rois {1} for type 4\n",
      "rois {1} not included out of all rois {1} for type 6\n"
     ]
    },
    {
     "name": "stderr",
     "output_type": "stream",
     "text": [
      "Pickle File Processed:  95%|\u001B[31m█████████▍\u001B[0m| 203/214 [25:04<00:24,  2.20s/it]"
     ]
    },
    {
     "name": "stdout",
     "output_type": "stream",
     "text": [
      "saving excel\n",
      "converting pkl to df:\n"
     ]
    },
    {
     "name": "stderr",
     "output_type": "stream",
     "text": [
      "C:\\Users\\Kevin\\AppData\\Local\\Temp\\ipykernel_12976\\3288184646.py:84: FutureWarning: The default value of numeric_only in DataFrameGroupBy.mean is deprecated. In a future version, numeric_only will default to False. Either specify numeric_only or select only columns which should be valid for the function.\n",
      "  avg_type_df = type_df.groupby(roi_col).mean()\n",
      "C:\\Users\\Kevin\\AppData\\Local\\Temp\\ipykernel_12976\\3288184646.py:85: FutureWarning: The default value of numeric_only in DataFrameGroupBy.std is deprecated. In a future version, numeric_only will default to False. Either specify numeric_only or select only columns which should be valid for the function.\n",
      "  std_type_df = type_df.groupby(roi_col).std()\n",
      "C:\\Users\\Kevin\\AppData\\Local\\Temp\\ipykernel_12976\\3288184646.py:84: FutureWarning: The default value of numeric_only in DataFrameGroupBy.mean is deprecated. In a future version, numeric_only will default to False. Either specify numeric_only or select only columns which should be valid for the function.\n",
      "  avg_type_df = type_df.groupby(roi_col).mean()\n",
      "C:\\Users\\Kevin\\AppData\\Local\\Temp\\ipykernel_12976\\3288184646.py:85: FutureWarning: The default value of numeric_only in DataFrameGroupBy.std is deprecated. In a future version, numeric_only will default to False. Either specify numeric_only or select only columns which should be valid for the function.\n",
      "  std_type_df = type_df.groupby(roi_col).std()\n"
     ]
    },
    {
     "name": "stdout",
     "output_type": "stream",
     "text": [
      "rois {1, 2, 3} not included out of all rois {1, 2, 3} for type 3\n",
      "rois {1, 3} not included out of all rois {1, 2, 3} for type 4\n",
      "rois {3} not included out of all rois {1, 2, 3} for type 6\n",
      "rois {3} not included out of all rois {1, 2, 3} for type 7\n",
      "rois {1, 2, 3} not included out of all rois {1, 2, 3} for type 11\n"
     ]
    },
    {
     "name": "stderr",
     "output_type": "stream",
     "text": [
      "C:\\Users\\Kevin\\AppData\\Local\\Temp\\ipykernel_12976\\3288184646.py:84: FutureWarning: The default value of numeric_only in DataFrameGroupBy.mean is deprecated. In a future version, numeric_only will default to False. Either specify numeric_only or select only columns which should be valid for the function.\n",
      "  avg_type_df = type_df.groupby(roi_col).mean()\n",
      "C:\\Users\\Kevin\\AppData\\Local\\Temp\\ipykernel_12976\\3288184646.py:85: FutureWarning: The default value of numeric_only in DataFrameGroupBy.std is deprecated. In a future version, numeric_only will default to False. Either specify numeric_only or select only columns which should be valid for the function.\n",
      "  std_type_df = type_df.groupby(roi_col).std()\n",
      "Pickle File Processed:  95%|\u001B[31m█████████▌\u001B[0m| 204/214 [25:09<00:28,  2.84s/it]"
     ]
    },
    {
     "name": "stdout",
     "output_type": "stream",
     "text": [
      "saving excel\n",
      "converting pkl to df:\n"
     ]
    },
    {
     "name": "stderr",
     "output_type": "stream",
     "text": [
      "C:\\Users\\Kevin\\AppData\\Local\\Temp\\ipykernel_12976\\3288184646.py:84: FutureWarning: The default value of numeric_only in DataFrameGroupBy.mean is deprecated. In a future version, numeric_only will default to False. Either specify numeric_only or select only columns which should be valid for the function.\n",
      "  avg_type_df = type_df.groupby(roi_col).mean()\n",
      "C:\\Users\\Kevin\\AppData\\Local\\Temp\\ipykernel_12976\\3288184646.py:85: FutureWarning: The default value of numeric_only in DataFrameGroupBy.std is deprecated. In a future version, numeric_only will default to False. Either specify numeric_only or select only columns which should be valid for the function.\n",
      "  std_type_df = type_df.groupby(roi_col).std()\n",
      "Pickle File Processed:  96%|\u001B[31m█████████▌\u001B[0m| 205/214 [25:11<00:24,  2.73s/it]"
     ]
    },
    {
     "name": "stdout",
     "output_type": "stream",
     "text": [
      "saving excel\n",
      "converting pkl to df:\n"
     ]
    },
    {
     "name": "stderr",
     "output_type": "stream",
     "text": [
      "C:\\Users\\Kevin\\AppData\\Local\\Temp\\ipykernel_12976\\3288184646.py:84: FutureWarning: The default value of numeric_only in DataFrameGroupBy.mean is deprecated. In a future version, numeric_only will default to False. Either specify numeric_only or select only columns which should be valid for the function.\n",
      "  avg_type_df = type_df.groupby(roi_col).mean()\n",
      "C:\\Users\\Kevin\\AppData\\Local\\Temp\\ipykernel_12976\\3288184646.py:85: FutureWarning: The default value of numeric_only in DataFrameGroupBy.std is deprecated. In a future version, numeric_only will default to False. Either specify numeric_only or select only columns which should be valid for the function.\n",
      "  std_type_df = type_df.groupby(roi_col).std()\n",
      "Pickle File Processed:  96%|\u001B[31m█████████▋\u001B[0m| 206/214 [25:19<00:34,  4.33s/it]"
     ]
    },
    {
     "name": "stdout",
     "output_type": "stream",
     "text": [
      "saving excel\n",
      "converting pkl to df:\n"
     ]
    },
    {
     "name": "stderr",
     "output_type": "stream",
     "text": [
      "C:\\Users\\Kevin\\AppData\\Local\\Temp\\ipykernel_12976\\3288184646.py:84: FutureWarning: The default value of numeric_only in DataFrameGroupBy.mean is deprecated. In a future version, numeric_only will default to False. Either specify numeric_only or select only columns which should be valid for the function.\n",
      "  avg_type_df = type_df.groupby(roi_col).mean()\n",
      "C:\\Users\\Kevin\\AppData\\Local\\Temp\\ipykernel_12976\\3288184646.py:85: FutureWarning: The default value of numeric_only in DataFrameGroupBy.std is deprecated. In a future version, numeric_only will default to False. Either specify numeric_only or select only columns which should be valid for the function.\n",
      "  std_type_df = type_df.groupby(roi_col).std()\n",
      "Pickle File Processed:  97%|\u001B[31m█████████▋\u001B[0m| 207/214 [25:27<00:38,  5.48s/it]"
     ]
    },
    {
     "name": "stdout",
     "output_type": "stream",
     "text": [
      "saving excel\n",
      "converting pkl to df:\n"
     ]
    },
    {
     "name": "stderr",
     "output_type": "stream",
     "text": [
      "C:\\Users\\Kevin\\AppData\\Local\\Temp\\ipykernel_12976\\3288184646.py:84: FutureWarning: The default value of numeric_only in DataFrameGroupBy.mean is deprecated. In a future version, numeric_only will default to False. Either specify numeric_only or select only columns which should be valid for the function.\n",
      "  avg_type_df = type_df.groupby(roi_col).mean()\n",
      "C:\\Users\\Kevin\\AppData\\Local\\Temp\\ipykernel_12976\\3288184646.py:85: FutureWarning: The default value of numeric_only in DataFrameGroupBy.std is deprecated. In a future version, numeric_only will default to False. Either specify numeric_only or select only columns which should be valid for the function.\n",
      "  std_type_df = type_df.groupby(roi_col).std()\n"
     ]
    },
    {
     "name": "stdout",
     "output_type": "stream",
     "text": [
      "rois {1} not included out of all rois {1, 2} for type 5\n",
      "rois {1} not included out of all rois {1, 2} for type 11\n"
     ]
    },
    {
     "name": "stderr",
     "output_type": "stream",
     "text": [
      "Pickle File Processed:  97%|\u001B[31m█████████▋\u001B[0m| 208/214 [25:31<00:29,  4.88s/it]"
     ]
    },
    {
     "name": "stdout",
     "output_type": "stream",
     "text": [
      "saving excel\n",
      "converting pkl to df:\n"
     ]
    },
    {
     "name": "stderr",
     "output_type": "stream",
     "text": [
      "C:\\Users\\Kevin\\AppData\\Local\\Temp\\ipykernel_12976\\3288184646.py:84: FutureWarning: The default value of numeric_only in DataFrameGroupBy.mean is deprecated. In a future version, numeric_only will default to False. Either specify numeric_only or select only columns which should be valid for the function.\n",
      "  avg_type_df = type_df.groupby(roi_col).mean()\n",
      "C:\\Users\\Kevin\\AppData\\Local\\Temp\\ipykernel_12976\\3288184646.py:85: FutureWarning: The default value of numeric_only in DataFrameGroupBy.std is deprecated. In a future version, numeric_only will default to False. Either specify numeric_only or select only columns which should be valid for the function.\n",
      "  std_type_df = type_df.groupby(roi_col).std()\n",
      "Pickle File Processed:  98%|\u001B[31m█████████▊\u001B[0m| 209/214 [25:38<00:27,  5.44s/it]"
     ]
    },
    {
     "name": "stdout",
     "output_type": "stream",
     "text": [
      "saving excel\n",
      "converting pkl to df:\n"
     ]
    },
    {
     "name": "stderr",
     "output_type": "stream",
     "text": [
      "C:\\Users\\Kevin\\AppData\\Local\\Temp\\ipykernel_12976\\3288184646.py:84: FutureWarning: The default value of numeric_only in DataFrameGroupBy.mean is deprecated. In a future version, numeric_only will default to False. Either specify numeric_only or select only columns which should be valid for the function.\n",
      "  avg_type_df = type_df.groupby(roi_col).mean()\n",
      "C:\\Users\\Kevin\\AppData\\Local\\Temp\\ipykernel_12976\\3288184646.py:85: FutureWarning: The default value of numeric_only in DataFrameGroupBy.std is deprecated. In a future version, numeric_only will default to False. Either specify numeric_only or select only columns which should be valid for the function.\n",
      "  std_type_df = type_df.groupby(roi_col).std()\n",
      "Pickle File Processed:  98%|\u001B[31m█████████▊\u001B[0m| 210/214 [25:57<00:38,  9.65s/it]"
     ]
    },
    {
     "name": "stdout",
     "output_type": "stream",
     "text": [
      "saving excel\n",
      "converting pkl to df:\n"
     ]
    },
    {
     "name": "stderr",
     "output_type": "stream",
     "text": [
      "C:\\Users\\Kevin\\AppData\\Local\\Temp\\ipykernel_12976\\3288184646.py:84: FutureWarning: The default value of numeric_only in DataFrameGroupBy.mean is deprecated. In a future version, numeric_only will default to False. Either specify numeric_only or select only columns which should be valid for the function.\n",
      "  avg_type_df = type_df.groupby(roi_col).mean()\n",
      "C:\\Users\\Kevin\\AppData\\Local\\Temp\\ipykernel_12976\\3288184646.py:85: FutureWarning: The default value of numeric_only in DataFrameGroupBy.std is deprecated. In a future version, numeric_only will default to False. Either specify numeric_only or select only columns which should be valid for the function.\n",
      "  std_type_df = type_df.groupby(roi_col).std()\n"
     ]
    },
    {
     "name": "stdout",
     "output_type": "stream",
     "text": [
      "rois {1} not included out of all rois {1} for type 11\n",
      "saving excel\n"
     ]
    },
    {
     "name": "stderr",
     "output_type": "stream",
     "text": [
      "C:\\Users\\Kevin\\AppData\\Local\\Temp\\ipykernel_12976\\3288184646.py:84: FutureWarning: The default value of numeric_only in DataFrameGroupBy.mean is deprecated. In a future version, numeric_only will default to False. Either specify numeric_only or select only columns which should be valid for the function.\n",
      "  avg_type_df = type_df.groupby(roi_col).mean()\n",
      "C:\\Users\\Kevin\\AppData\\Local\\Temp\\ipykernel_12976\\3288184646.py:85: FutureWarning: The default value of numeric_only in DataFrameGroupBy.std is deprecated. In a future version, numeric_only will default to False. Either specify numeric_only or select only columns which should be valid for the function.\n",
      "  std_type_df = type_df.groupby(roi_col).std()\n",
      "Pickle File Processed:  99%|\u001B[31m█████████▊\u001B[0m| 211/214 [25:59<00:21,  7.30s/it]"
     ]
    },
    {
     "name": "stdout",
     "output_type": "stream",
     "text": [
      "converting pkl to df:\n"
     ]
    },
    {
     "name": "stderr",
     "output_type": "stream",
     "text": [
      "C:\\Users\\Kevin\\AppData\\Local\\Temp\\ipykernel_12976\\3288184646.py:84: FutureWarning: The default value of numeric_only in DataFrameGroupBy.mean is deprecated. In a future version, numeric_only will default to False. Either specify numeric_only or select only columns which should be valid for the function.\n",
      "  avg_type_df = type_df.groupby(roi_col).mean()\n",
      "C:\\Users\\Kevin\\AppData\\Local\\Temp\\ipykernel_12976\\3288184646.py:85: FutureWarning: The default value of numeric_only in DataFrameGroupBy.std is deprecated. In a future version, numeric_only will default to False. Either specify numeric_only or select only columns which should be valid for the function.\n",
      "  std_type_df = type_df.groupby(roi_col).std()\n",
      "Pickle File Processed:  99%|\u001B[31m█████████▉\u001B[0m| 212/214 [26:03<00:12,  6.23s/it]"
     ]
    },
    {
     "name": "stdout",
     "output_type": "stream",
     "text": [
      "saving excel\n",
      "converting pkl to df:\n"
     ]
    },
    {
     "name": "stderr",
     "output_type": "stream",
     "text": [
      "C:\\Users\\Kevin\\AppData\\Local\\Temp\\ipykernel_12976\\3288184646.py:84: FutureWarning: The default value of numeric_only in DataFrameGroupBy.mean is deprecated. In a future version, numeric_only will default to False. Either specify numeric_only or select only columns which should be valid for the function.\n",
      "  avg_type_df = type_df.groupby(roi_col).mean()\n",
      "C:\\Users\\Kevin\\AppData\\Local\\Temp\\ipykernel_12976\\3288184646.py:85: FutureWarning: The default value of numeric_only in DataFrameGroupBy.std is deprecated. In a future version, numeric_only will default to False. Either specify numeric_only or select only columns which should be valid for the function.\n",
      "  std_type_df = type_df.groupby(roi_col).std()\n",
      "Pickle File Processed: 100%|\u001B[31m█████████▉\u001B[0m| 213/214 [26:04<00:04,  4.78s/it]"
     ]
    },
    {
     "name": "stdout",
     "output_type": "stream",
     "text": [
      "saving excel\n",
      "converting pkl to df:\n"
     ]
    },
    {
     "name": "stderr",
     "output_type": "stream",
     "text": [
      "C:\\Users\\Kevin\\AppData\\Local\\Temp\\ipykernel_12976\\3288184646.py:84: FutureWarning: The default value of numeric_only in DataFrameGroupBy.mean is deprecated. In a future version, numeric_only will default to False. Either specify numeric_only or select only columns which should be valid for the function.\n",
      "  avg_type_df = type_df.groupby(roi_col).mean()\n",
      "C:\\Users\\Kevin\\AppData\\Local\\Temp\\ipykernel_12976\\3288184646.py:85: FutureWarning: The default value of numeric_only in DataFrameGroupBy.std is deprecated. In a future version, numeric_only will default to False. Either specify numeric_only or select only columns which should be valid for the function.\n",
      "  std_type_df = type_df.groupby(roi_col).std()\n",
      "C:\\Users\\Kevin\\AppData\\Local\\Temp\\ipykernel_12976\\3288184646.py:84: FutureWarning: The default value of numeric_only in DataFrameGroupBy.mean is deprecated. In a future version, numeric_only will default to False. Either specify numeric_only or select only columns which should be valid for the function.\n",
      "  avg_type_df = type_df.groupby(roi_col).mean()\n",
      "C:\\Users\\Kevin\\AppData\\Local\\Temp\\ipykernel_12976\\3288184646.py:85: FutureWarning: The default value of numeric_only in DataFrameGroupBy.std is deprecated. In a future version, numeric_only will default to False. Either specify numeric_only or select only columns which should be valid for the function.\n",
      "  std_type_df = type_df.groupby(roi_col).std()\n"
     ]
    },
    {
     "name": "stdout",
     "output_type": "stream",
     "text": [
      "rois {1} not included out of all rois {1} for type 3\n",
      "saving excel\n"
     ]
    },
    {
     "name": "stderr",
     "output_type": "stream",
     "text": [
      "Pickle File Processed: 100%|\u001B[31m██████████\u001B[0m| 214/214 [26:14<00:00,  7.36s/it]\n"
     ]
    }
   ],
   "source": [
    "for i, pkl in tqdm(enumerate(range(len(pkl_list))),desc=\"Pickle File Processed\",colour='red',total = len(pkl_list)):\n",
    "    total_avg_df = pd.DataFrame()\n",
    "    total_std_df = pd.DataFrame()\n",
    "    imID,_ = os.path.splitext(pkl_list[i])\n",
    "    output_pth = os.path.join(output_src,imID + \".xlsx\")\n",
    "    with open(pkl_full_list[i], 'rb') as f:\n",
    "        print(\"converting pkl to df:\")\n",
    "        df = pickle.load(f)\n",
    "        df[\"Ncell\"] = 0\n",
    "        all_ncell = []\n",
    "        for kk in range(df.shape[0]):\n",
    "            contour = df[\"contour\"][kk]\n",
    "            ncell = len(contour)\n",
    "            all_ncell.append(ncell)\n",
    "        df[\"Ncell\"] = all_ncell\n",
    "\n",
    "        ecm_df = df[df.type==10]\n",
    "        ecm_df1 = ecm_df.copy()\n",
    "        ecm_df2 = ecm_df.copy()\n",
    "        ecm_df3 = ecm_df.copy()\n",
    "        # aspect ratio > 3, circularity < 0.5, size > 50um2, far from other cells = stromal fibroblast\n",
    "        ecm_df1.loc[(ecm_df1.AspectRatio>3) & (ecm_df1.Circularity<0.5) & (ecm_df1.Area>50) & (ecm_df1.dist2nearest>30),'type'] = 12 #spindle-like cell / fibroblasts\n",
    "        # #  size < 50um2, far from other cells = stromal immune\n",
    "        ecm_df2.loc[(ecm_df2.Area<1000) & (ecm_df2.dist2nearest>30),'type'] = 13 #resident immune cells\n",
    "        # # aspect ratio < 1.5?, circulartiy > 0.5, size < 50um2, close to other cells = inflammatory cells\n",
    "        ecm_df3.loc[(ecm_df3.AspectRatio<3) & (ecm_df3.Circularity>0.5) & (ecm_df3.Area<100) & (ecm_df3.dist2nearest<30),'type'] = 14\n",
    "        ecm_df1 = ecm_df1[ecm_df1.type==12]\n",
    "        ecm_df2 = ecm_df2[ecm_df2.type==13]\n",
    "        ecm_df3 = ecm_df3[ecm_df3.type==14]\n",
    "        df = pd.concat([df,ecm_df1],axis=0)\n",
    "        df = pd.concat([df,ecm_df2],axis=0)\n",
    "        df = pd.concat([df,ecm_df3],axis=0)\n",
    "\n",
    "        dfs_by_type = {}\n",
    "        for t in range(2, 15):\n",
    "            dfs_by_type[t] = df[df['type'] == t].reset_index(drop=True)\n",
    "        expanded_dfs = []\n",
    "        for tt, df_t in dfs_by_type.items():\n",
    "            new_cols = {f\"{col}_type{tt}\": df_t[col] for col in df_t.columns if col != 'type'}\n",
    "            expanded_dfs.append(pd.DataFrame(new_cols))\n",
    "\n",
    "        all_set = set(np.unique(df[\"inroi\"]))\n",
    "        # apply threshold of 12 to aspect ratio and extract distance and drop non float/int columns and calculate avg:\n",
    "        for idx in range(len(expanded_dfs)):\n",
    "            type_df = expanded_dfs[idx]\n",
    "            roi_col = 'inroi_type' + str(idx+2)\n",
    "            type_set = set(np.unique(expanded_dfs[idx][roi_col]))\n",
    "            diff = all_set - type_set\n",
    "            if len(diff) > 0:\n",
    "                print(\"rois {} not included out of all rois {} for type {}\".format(diff,all_set,idx+2))\n",
    "\n",
    "            ar_col = 'AspectRatio_type' + str(idx+2)\n",
    "            type_df[ar_col] = np.where(type_df[ar_col] > 12, np.nan, type_df[ar_col])\n",
    "\n",
    "\n",
    "            # extract distance:\n",
    "            dist_col = 'c2t_distance_type' + str(idx+2)\n",
    "            distdf = type_df[dist_col]\n",
    "            new_df_cols = [dist_col + \"_\" + str(kk) for kk in range(2,13)]\n",
    "            new_df = pd.DataFrame(columns=new_df_cols)\n",
    "            new_df = new_df.reindex(range(distdf.shape[0]))\n",
    "\n",
    "            for idx1 in range(distdf.shape[0]):\n",
    "                row = distdf[idx1]\n",
    "                if np.any(pd.isnull(row)):\n",
    "                    continue\n",
    "                for idx2, value in enumerate(row):\n",
    "                    new_df.loc[idx1,new_df_cols[idx2]] = value\n",
    "\n",
    "            type_df = pd.concat([type_df,new_df],axis=1) # concat the extracted distance to original type_df\n",
    "\n",
    "            # drop non float/int columns:\n",
    "            dropped_cols = []\n",
    "            for col2 in type_df.columns:\n",
    "                if type_df[col2].dtype not in [int, float, \"int64\",\"float64\"]:\n",
    "                    dropped_cols.append(col2)\n",
    "                    if col2 == roi_col:\n",
    "                        continue\n",
    "                    if \"c2t_distance_type\" in col2 and len(col2.split(str(idx+2))[1]):\n",
    "                        continue\n",
    "                    type_df.drop(columns=col2,inplace=True)\n",
    "            # replace inf's and nan's with nan's and take mean/std and concatenate\n",
    "            type_df = type_df.replace([np.inf, -np.inf, np.nan], np.nan)\n",
    "            avg_type_df = type_df.groupby(roi_col).mean()\n",
    "            std_type_df = type_df.groupby(roi_col).std()\n",
    "            total_avg_df = pd.concat([total_avg_df,avg_type_df],axis=1)\n",
    "            total_std_df = pd.concat([total_std_df,std_type_df],axis=1)\n",
    "            # save\n",
    "        print(\"saving excel\")\n",
    "\n",
    "    total_avg_df.to_excel(output_pth, sheet_name = 'averages', index=False)\n",
    "    with pd.ExcelWriter(output_pth, engine='openpyxl', mode='a') as writer:\n",
    "        # total_avg_df.to_excel(writer, sheet_name='averages', index=False)\n",
    "        total_std_df.to_excel(writer, sheet_name='std', index=False)"
   ],
   "metadata": {
    "collapsed": false
   }
  },
  {
   "cell_type": "markdown",
   "source": [
    "### Now merge all 214 excel sheets of average together to create a one, large dataframe that we can use to concatenate to the overall clue data df. Note that not all of the excel sheets have the same # of columns, since columns with all NAN's get dropped. Just merge by row!"
   ],
   "metadata": {
    "collapsed": false
   }
  },
  {
   "cell_type": "code",
   "execution_count": 7,
   "outputs": [
    {
     "name": "stderr",
     "output_type": "stream",
     "text": [
      "Excel File Processed: 100%|\u001B[31m██████████\u001B[0m| 214/214 [00:09<00:00, 22.72it/s]\n"
     ]
    }
   ],
   "source": [
    "ind_xl_src = r'\\\\shelter\\Kyu\\skin_aging\\clue_cohort\\wsi\\hovernet_out\\df\\output_excel'\n",
    "ind_xl_name = [x for x in os.listdir(ind_xl_src) if x.endswith(\".xlsx\")]\n",
    "ind_xl_path = [os.path.join(ind_xl_src,y) for y in ind_xl_name]\n",
    "total_df = pd.DataFrame()\n",
    "for _, xlpth in tqdm(enumerate(ind_xl_path),desc=\"Excel File Processed\",colour='red',total = len(ind_xl_path)):\n",
    "    ind_df = pd.read_excel(xlpth,sheet_name='averages')\n",
    "    total_df = pd.concat([total_df,ind_df],axis=0)\n",
    "total_df = total_df.reset_index(drop=True)\n",
    "save_path = r'\\\\shelter\\Kyu\\skin_aging\\clue_cohort\\wsi\\hovernet_out\\df\\output_excel\\total_df'\n",
    "total_df.to_excel(os.path.join(save_path,\"total_avg\" + \".xlsx\"))"
   ],
   "metadata": {
    "collapsed": false
   }
  },
  {
   "cell_type": "markdown",
   "source": [
    "### Then merge all 214 excel sheets of std together to create one, large dataframe we can use to concatenate to th eoverall clue data df."
   ],
   "metadata": {
    "collapsed": false
   }
  },
  {
   "cell_type": "code",
   "execution_count": 8,
   "outputs": [
    {
     "name": "stderr",
     "output_type": "stream",
     "text": [
      "Excel File Processed: 100%|\u001B[31m██████████\u001B[0m| 214/214 [00:05<00:00, 40.58it/s]\n"
     ]
    }
   ],
   "source": [
    "ind_xl_src = r'\\\\shelter\\Kyu\\skin_aging\\clue_cohort\\wsi\\hovernet_out\\df\\output_excel'\n",
    "ind_xl_name = [x for x in os.listdir(ind_xl_src) if x.endswith(\".xlsx\")]\n",
    "ind_xl_path = [os.path.join(ind_xl_src,y) for y in ind_xl_name]\n",
    "total_df = pd.DataFrame()\n",
    "for _, xlpth1 in tqdm(enumerate(ind_xl_path),desc=\"Excel File Processed\",colour='red',total = len(ind_xl_path)):\n",
    "    ind_df = pd.read_excel(xlpth1,sheet_name='std')\n",
    "    total_df = pd.concat([total_df,ind_df],axis=0)\n",
    "total_df = total_df.reset_index(drop=True)\n",
    "save_path = r'\\\\shelter\\Kyu\\skin_aging\\clue_cohort\\wsi\\hovernet_out\\df\\output_excel\\total_df'\n",
    "total_df.to_excel(os.path.join(save_path, \"total_std\" + \".xlsx\"))"
   ],
   "metadata": {
    "collapsed": false
   }
  },
  {
   "cell_type": "markdown",
   "source": [
    "### Lastly, calculate CV:"
   ],
   "metadata": {
    "collapsed": false
   }
  },
  {
   "cell_type": "code",
   "execution_count": 10,
   "outputs": [],
   "source": [
    "avg_df_src = r'\\\\shelter\\Kyu\\skin_aging\\clue_cohort\\wsi\\hovernet_out\\df\\output_excel\\total_df\\total_avg.xlsx'\n",
    "std_df_src = r'\\\\shelter\\Kyu\\skin_aging\\clue_cohort\\wsi\\hovernet_out\\df\\output_excel\\total_df\\total_std.xlsx'\n",
    "avg_df = pd.read_excel(avg_df_src)\n",
    "std_df = pd.read_excel(std_df_src)\n",
    "avg_df = avg_df.drop(columns=\"Unnamed: 0\")\n",
    "std_df = std_df.drop(columns=\"Unnamed: 0\")\n",
    "cv_df = std_df.div(avg_df)\n",
    "cv_df.to_excel(r'\\\\shelter\\Kyu\\skin_aging\\clue_cohort\\wsi\\hovernet_out\\df\\output_excel\\total_df\\total_cv.xlsx')"
   ],
   "metadata": {
    "collapsed": false
   }
  },
  {
   "cell_type": "markdown",
   "source": [
    "### Then manually copy paste these to the overall clue data df!"
   ],
   "metadata": {
    "collapsed": false
   }
  },
  {
   "cell_type": "code",
   "execution_count": 24,
   "outputs": [],
   "source": [
    "# some extra code, this is to get labelid for the clue data df:\n",
    "def repeat_objects(objects, numbers):\n",
    "    repeated_objects = [obj for obj, num in zip(objects, numbers) for _ in range(int(num))]\n",
    "    return repeated_objects\n",
    "\n",
    "labelidsrc = r\"\\\\shelter\\Kyu\\skin_aging\\clue_cohort\\CLUE_image_list_230329.xlsx\"\n",
    "labeliddf = pd.read_excel(labelidsrc)\n",
    "labeliddf = labeliddf[labeliddf[\"student score\"] > 1]\n",
    "labelid = labeliddf[\"label name\"]\n",
    "repeat = labeliddf[\"Nroi\"]\n",
    "labelid = list(labelid)\n",
    "repeat = list(repeat)\n",
    "\n",
    "repeat_labelid = repeat_objects(labelid,repeat)"
   ],
   "metadata": {
    "collapsed": false
   }
  },
  {
   "cell_type": "code",
   "execution_count": 27,
   "outputs": [
    {
     "data": {
      "text/plain": "['10-2135',\n '10-163',\n '10-163',\n '10-163',\n '10-163',\n '10-2924',\n '10-2924',\n '10-2924',\n '10-2924',\n '10-3702',\n '10-3702',\n '10-3702',\n '10-3702',\n '10-4775',\n '10-4775',\n '10-4775',\n '10-5202',\n '03-4359',\n '03-4359',\n '05-14314',\n '03-5872',\n '03-5872',\n '02-17359',\n '02-17359',\n '02-17359',\n '02-17359',\n '10-6634',\n '03-18469',\n '03-18775',\n '03-18775',\n '10-6524',\n '10-5202',\n '05-7318',\n '05:9867',\n '05:9840',\n '05:9840',\n '05:9840',\n '05:7839',\n '05:7839',\n '05:7839',\n '05:7839',\n '05:7839',\n '05-6865',\n '05-6865',\n '05:12047',\n '05:12047',\n '05:12047',\n '05:12047',\n '05:12047',\n '05-15878',\n '05-15878',\n '05-15878',\n '05-15878',\n '05:15205',\n '05-368',\n '05-368',\n '05-368',\n '05:2509',\n '05:2509',\n '05:2509',\n '05-3647',\n '04-1652',\n '05:5386',\n '05:5386',\n '05:5386',\n '05:5386',\n '05:7933',\n '05-9193',\n '05:5386',\n '05:5386',\n '05:5386',\n '05:5386',\n '05:12676',\n '04:537',\n '04:537',\n '04-795',\n '04-795',\n '04-795',\n '04-17773',\n '04-8337',\n '05:368',\n '05:368',\n '05:1085',\n '05:1085',\n '05:1085',\n '04-3440',\n '04-6247',\n '03-11785',\n '03-11785',\n '03-11785',\n '04-6742',\n '04-6742',\n '04-7071',\n '04-7071',\n '04-5064',\n '04-5064',\n '04-5064',\n '04-6742',\n '04-6742',\n '04-6742',\n '03-11785',\n '03-11785',\n '03-4359',\n '03-4359',\n '03-4359',\n '04-8709',\n '04-8709',\n '04-8709',\n '04-8709',\n '04-8709',\n '04-8709',\n '03-4359',\n '03-5872',\n '03-5872',\n '03-11785',\n '03-12008',\n '03-11621',\n '03-11621',\n '03-9554',\n '03-9554',\n '03-9554',\n '03-9554',\n '03-9554',\n '03-9554',\n '03-9410',\n '03-9410',\n '03-11785',\n '10-2165',\n '10-2135',\n '10-2135',\n '10-4775',\n '10-4775',\n '10-4775',\n '10-4775',\n '10-4775',\n '10-4775',\n '10-4910',\n '03-18379',\n '04-10048',\n '04-10048',\n '04-10048',\n '03-9554',\n '03-9554',\n '03-9554',\n '03-9554',\n '04-9602',\n '03-15148',\n '03-12991',\n '03-5815',\n '05-10972',\n '05-10972',\n '05-10972',\n '05-10972',\n '05-10972',\n '05-10972',\n '05-9887',\n '06-4769',\n '06-4769',\n '06-4777',\n '05-9867',\n '06-13614',\n '06-13614',\n '04-12143',\n '04-11737',\n '04-11737',\n '04-11737',\n '04-11737',\n '04-11737',\n '04-11737',\n '04-11737',\n '05-10972',\n '05-10972',\n '05-10972',\n '05-10972',\n '05-10972',\n '03-9410',\n '06-13614',\n '06-13614',\n '06-13614',\n '06-13614',\n '06-13614',\n '06-13674',\n '06-13674',\n '05-10972',\n '05-10972',\n '05-10972',\n '06-123',\n '06-123',\n '06-123',\n '06-123',\n '06-123',\n '06-8421',\n '09-4005',\n '09-4005',\n '09-4005',\n '09-3872_he',\n '09-11905',\n '09-11905',\n '09-11905',\n '09-11905',\n '09-11905',\n '09-10440',\n '09-5154',\n '09-5154',\n '09-13064',\n '09-13064',\n '09-10440',\n '09-10440',\n '09-10440',\n '09-5004',\n '09-5004',\n '09-10135',\n '09-10135',\n '09-5004',\n '09-10135',\n '09-10135',\n '09-10135',\n '09-5654',\n '09-5654',\n '09-5654',\n '09-5654',\n '09-5654',\n '09-5701',\n '09-5701',\n '09-10135',\n '09-10135',\n '09-10135',\n '06-11823',\n '09-8836',\n '09-13069',\n '09-13069',\n '09-13069',\n '09-13069',\n '09-13817',\n '09-13817',\n '07-10496',\n '07-10496',\n '07-10496',\n '07-10496',\n '07-10496',\n '07-10496',\n '07-10496',\n '07-10496',\n '07-10496',\n '07-10496',\n '07-10496',\n '08-657',\n '08-10011',\n '08-10011',\n '08-10011',\n '08-10011',\n '08-10011',\n '08-10011',\n '08-10011',\n '08-11908',\n '08-11908',\n '08-11908',\n '08-11908',\n '08-11908',\n '08-16538',\n '08-16538',\n '08-16538',\n '08-16538',\n '08-6025',\n '08-6025',\n '08-6025',\n '08-6025',\n '08-7305',\n '08-7305',\n '08-5316',\n '07-13973',\n '07-13973',\n '07-13973',\n '07-13973',\n '07-3707',\n '08-1049',\n '06-15242',\n '06-15242',\n '06-15242',\n '06-15242',\n '07-6405',\n '07-9263',\n '07-9263',\n '07-9263',\n '07-6746',\n '07-6405',\n '07-6405',\n '07-6405',\n '07-6405',\n '07-5382',\n '07-13436',\n '09-5154',\n '09-5154',\n '09-5630',\n '09-5630',\n '09-5630',\n '09-5630',\n '09-5630',\n '09-5630',\n '09-8457',\n '09-9085',\n '09-15306',\n '08-3921',\n '08-3921',\n '08-50',\n '08-50',\n '09-2332',\n '09-2332',\n '09-2332',\n '09-1921',\n '09-5933',\n '07-6405',\n '07-6746',\n '09-6714',\n '07-8163',\n '07-9263',\n '07-9263',\n '07-9263',\n '03-17773',\n '03-17773',\n '03-10314',\n '03-15519',\n '03-15519',\n '03-13174',\n '03-15825',\n '03-15825',\n '03-12008',\n '03-12008',\n '03-12008',\n '05-14314',\n '05-14314',\n '04-3748',\n '04-3748',\n '04-5668',\n '04-5668',\n '04-6247',\n '04-6247',\n '04-6548',\n '04-12143',\n '04-12143',\n '04-12143',\n '04-12088',\n '04-14178',\n '04-14178',\n '05-9342',\n '05-9840',\n '04-13043',\n '04-13043',\n '06-13674',\n '05-10140',\n '05-10140',\n '04-15023',\n '06-7323',\n '06-7323',\n '06-7182',\n '06-7182',\n '05-9867',\n '05-16314',\n '05-16314',\n '05-16314',\n '05-3647',\n '05-3647',\n '03-19300',\n '04-1550']"
     },
     "execution_count": 27,
     "metadata": {},
     "output_type": "execute_result"
    }
   ],
   "source": [
    "repeat_labelid # len = 364"
   ],
   "metadata": {
    "collapsed": false
   }
  },
  {
   "cell_type": "code",
   "execution_count": 30,
   "outputs": [],
   "source": [
    "repeat_labelid = pd.DataFrame(repeat_labelid)\n",
    "repeat_labelid.to_excel(r\"C:\\Users\\Kevin\\Desktop\\tmp4.xlsx\")"
   ],
   "metadata": {
    "collapsed": false
   }
  },
  {
   "cell_type": "markdown",
   "source": [
    "### For now, replace -inf inf nan's in the entire cell with zeros:"
   ],
   "metadata": {
    "collapsed": false
   }
  },
  {
   "cell_type": "code",
   "execution_count": 32,
   "outputs": [],
   "source": [
    "dfsrc = r'\\\\fatherserverdw\\Kevin\\skin_morphometric_source_code\\2D_CLUE_data_220423.xlsx'\n",
    "df = pd.read_excel(dfsrc)\n",
    "df = df.replace([np.inf, -np.inf, np.nan], 0)\n",
    "df.to_excel(dfsrc)"
   ],
   "metadata": {
    "collapsed": false
   }
  },
  {
   "cell_type": "markdown",
   "source": [
    "### Code to find Top 5 cohen's d in the top 4 body parts (chest, back, shoulder, leg):"
   ],
   "metadata": {
    "collapsed": false
   }
  },
  {
   "cell_type": "code",
   "execution_count": 2,
   "outputs": [],
   "source": [
    "import pandas as pd\n",
    "import numpy as np"
   ],
   "metadata": {
    "collapsed": false
   }
  },
  {
   "cell_type": "code",
   "execution_count": 123,
   "outputs": [],
   "source": [
    "cohensdsrc = r'\\\\fatherserverdw\\Kevin\\skin_morphometric_source_code\\Feature Age correlation metrics230412_t1.xlsx'\n",
    "cohensd_df = pd.read_excel(cohensdsrc,sheet_name = \"correlation\",header=0)\n",
    "cohensd_df.columns = cohensd_df.iloc[0]\n",
    "cohensd_df= cohensd_df.drop(0)\n",
    "cohensd_df = cohensd_df.replace([np.inf, -np.inf, np.nan], 0)\n",
    "cohensd_df = cohensd_df.iloc[2:]\n",
    "cohensd_df = cohensd_df[:-1]\n",
    "corresp_feature = cohensd_df.iloc[:,3]\n",
    "corresp_feature_type = cohensd_df.iloc[:,1]\n",
    "cohensd_df.reset_index(drop=True, inplace=True)\n",
    "cohensd_df\n",
    "def top_five_argmax(numbers):\n",
    "    numbers = np.array(numbers)\n",
    "    numbers = numbers[~np.isnan(numbers)]\n",
    "    top_five_indices = np.argsort(numbers)[-5:][::-1]\n",
    "    return top_five_indices"
   ],
   "metadata": {
    "collapsed": false
   }
  },
  {
   "cell_type": "code",
   "execution_count": 124,
   "outputs": [
    {
     "data": {
      "text/plain": "0        NaN            NaN NaN                   NaN  N-all  N-male  \\\n0        3.0        corneum  S1   corneum composition    214     130   \n1        4.0       spinosum  S1  spinosum composition    214     130   \n2        5.0     hair shaft  S1     shaft composition    214     130   \n3        6.0  hair follicle  S1  follicle composition    214     130   \n4        7.0         muscle  S1    muscle composition    214     130   \n...      ...            ...  ..                   ...    ...     ...   \n1085  1088.0        stromal  S5      nucleus2nerve_CV    214     130   \n1086  1089.0        stromal  S5      nucleus2blood_CV    214     130   \n1087  1090.0        stromal  S5        nucleus2ecm_CV    214     130   \n1088  1091.0        stromal  S5        nucleus2fat_CV    214     130   \n1089  1092.0        stromal  S5              Ncell_CV    214     130   \n\n0     N-female   rho-all  rho-male  rho-female  ...  cohendlegmiscf  \\\n0           84 -0.111345 -0.112377   -0.145393  ...        0.892281   \n1           84  0.078967  0.067140    0.108776  ...        1.003508   \n2           84 -0.031598  0.015974   -0.099298  ...        1.101092   \n3           84 -0.003457  0.018266   -0.021236  ...        0.744535   \n4           84 -0.022528 -0.051448    0.021459  ...        1.131033   \n...        ...       ...       ...         ...  ...             ...   \n1085        84  0.074158  0.029094    0.143185  ...        1.462919   \n1086        84 -0.000130 -0.030747    0.045480  ...        1.526433   \n1087        84  0.074461  0.014368    0.161519  ...        0.001539   \n1088        84  0.038031  0.017857    0.088964  ...        1.974458   \n1089        84 -0.012989  0.107493   -0.156292  ...        0.066377   \n\n0     cohendshouldermiscf  cohendbackscalpf  cohendabdomenscalpf  \\\n0                0.355492          0.705361             1.321938   \n1                0.413449          0.880740             1.344348   \n2                0.637299          0.400995             1.540982   \n3                0.406963          0.346069             0.813839   \n4                1.077009          0.317200             0.785400   \n...                   ...               ...                  ...   \n1085             0.779447          0.567444             0.355291   \n1086             1.174105          0.559900             0.150282   \n1087             0.310153          1.245933             0.981313   \n1088             1.684412          0.536668             0.347621   \n1089             0.895523          0.840878             0.795213   \n\n0     cohendarmscalpf  cohendchestscalpf  cohendfootscalpf  cohendlegscalpf  \\\n0            0.592415           0.385392          0.504881         0.818205   \n1            0.875675           0.820038          0.588353         1.026533   \n2            1.123119           0.253474          0.786163         0.396901   \n3            0.983857           0.276840          0.438549         0.074187   \n4            0.323835           0.519840          0.282867         0.176244   \n...               ...                ...               ...              ...   \n1085         0.216478           0.884643          0.082765         1.121311   \n1086         0.567785           1.063283          0.398601         1.037710   \n1087         0.587052           0.410757          0.287301         0.619306   \n1088         0.819835           1.154440          0.497937         1.100147   \n1089         0.376624           0.320590          1.240614         0.116227   \n\n0     cohendscalpshoulderf  cohendscalpmiscf  \n0                 0.186155          0.529914  \n1                 0.527439          0.575171  \n2                 0.015954          2.942765  \n3                 0.533472          1.750471  \n4                 0.066785          1.504887  \n...                    ...               ...  \n1085              0.349574          1.474590  \n1086              0.491202          2.664468  \n1087              0.542393          1.409639  \n1088              0.620183          1.703069  \n1089              1.294035          0.203955  \n\n[1090 rows x 568 columns]",
      "text/html": "<div>\n<style scoped>\n    .dataframe tbody tr th:only-of-type {\n        vertical-align: middle;\n    }\n\n    .dataframe tbody tr th {\n        vertical-align: top;\n    }\n\n    .dataframe thead th {\n        text-align: right;\n    }\n</style>\n<table border=\"1\" class=\"dataframe\">\n  <thead>\n    <tr style=\"text-align: right;\">\n      <th></th>\n      <th>NaN</th>\n      <th>NaN</th>\n      <th>NaN</th>\n      <th>NaN</th>\n      <th>N-all</th>\n      <th>N-male</th>\n      <th>N-female</th>\n      <th>rho-all</th>\n      <th>rho-male</th>\n      <th>rho-female</th>\n      <th>...</th>\n      <th>cohendlegmiscf</th>\n      <th>cohendshouldermiscf</th>\n      <th>cohendbackscalpf</th>\n      <th>cohendabdomenscalpf</th>\n      <th>cohendarmscalpf</th>\n      <th>cohendchestscalpf</th>\n      <th>cohendfootscalpf</th>\n      <th>cohendlegscalpf</th>\n      <th>cohendscalpshoulderf</th>\n      <th>cohendscalpmiscf</th>\n    </tr>\n  </thead>\n  <tbody>\n    <tr>\n      <th>0</th>\n      <td>3.0</td>\n      <td>corneum</td>\n      <td>S1</td>\n      <td>corneum composition</td>\n      <td>214</td>\n      <td>130</td>\n      <td>84</td>\n      <td>-0.111345</td>\n      <td>-0.112377</td>\n      <td>-0.145393</td>\n      <td>...</td>\n      <td>0.892281</td>\n      <td>0.355492</td>\n      <td>0.705361</td>\n      <td>1.321938</td>\n      <td>0.592415</td>\n      <td>0.385392</td>\n      <td>0.504881</td>\n      <td>0.818205</td>\n      <td>0.186155</td>\n      <td>0.529914</td>\n    </tr>\n    <tr>\n      <th>1</th>\n      <td>4.0</td>\n      <td>spinosum</td>\n      <td>S1</td>\n      <td>spinosum composition</td>\n      <td>214</td>\n      <td>130</td>\n      <td>84</td>\n      <td>0.078967</td>\n      <td>0.067140</td>\n      <td>0.108776</td>\n      <td>...</td>\n      <td>1.003508</td>\n      <td>0.413449</td>\n      <td>0.880740</td>\n      <td>1.344348</td>\n      <td>0.875675</td>\n      <td>0.820038</td>\n      <td>0.588353</td>\n      <td>1.026533</td>\n      <td>0.527439</td>\n      <td>0.575171</td>\n    </tr>\n    <tr>\n      <th>2</th>\n      <td>5.0</td>\n      <td>hair shaft</td>\n      <td>S1</td>\n      <td>shaft composition</td>\n      <td>214</td>\n      <td>130</td>\n      <td>84</td>\n      <td>-0.031598</td>\n      <td>0.015974</td>\n      <td>-0.099298</td>\n      <td>...</td>\n      <td>1.101092</td>\n      <td>0.637299</td>\n      <td>0.400995</td>\n      <td>1.540982</td>\n      <td>1.123119</td>\n      <td>0.253474</td>\n      <td>0.786163</td>\n      <td>0.396901</td>\n      <td>0.015954</td>\n      <td>2.942765</td>\n    </tr>\n    <tr>\n      <th>3</th>\n      <td>6.0</td>\n      <td>hair follicle</td>\n      <td>S1</td>\n      <td>follicle composition</td>\n      <td>214</td>\n      <td>130</td>\n      <td>84</td>\n      <td>-0.003457</td>\n      <td>0.018266</td>\n      <td>-0.021236</td>\n      <td>...</td>\n      <td>0.744535</td>\n      <td>0.406963</td>\n      <td>0.346069</td>\n      <td>0.813839</td>\n      <td>0.983857</td>\n      <td>0.276840</td>\n      <td>0.438549</td>\n      <td>0.074187</td>\n      <td>0.533472</td>\n      <td>1.750471</td>\n    </tr>\n    <tr>\n      <th>4</th>\n      <td>7.0</td>\n      <td>muscle</td>\n      <td>S1</td>\n      <td>muscle composition</td>\n      <td>214</td>\n      <td>130</td>\n      <td>84</td>\n      <td>-0.022528</td>\n      <td>-0.051448</td>\n      <td>0.021459</td>\n      <td>...</td>\n      <td>1.131033</td>\n      <td>1.077009</td>\n      <td>0.317200</td>\n      <td>0.785400</td>\n      <td>0.323835</td>\n      <td>0.519840</td>\n      <td>0.282867</td>\n      <td>0.176244</td>\n      <td>0.066785</td>\n      <td>1.504887</td>\n    </tr>\n    <tr>\n      <th>...</th>\n      <td>...</td>\n      <td>...</td>\n      <td>...</td>\n      <td>...</td>\n      <td>...</td>\n      <td>...</td>\n      <td>...</td>\n      <td>...</td>\n      <td>...</td>\n      <td>...</td>\n      <td>...</td>\n      <td>...</td>\n      <td>...</td>\n      <td>...</td>\n      <td>...</td>\n      <td>...</td>\n      <td>...</td>\n      <td>...</td>\n      <td>...</td>\n      <td>...</td>\n      <td>...</td>\n    </tr>\n    <tr>\n      <th>1085</th>\n      <td>1088.0</td>\n      <td>stromal</td>\n      <td>S5</td>\n      <td>nucleus2nerve_CV</td>\n      <td>214</td>\n      <td>130</td>\n      <td>84</td>\n      <td>0.074158</td>\n      <td>0.029094</td>\n      <td>0.143185</td>\n      <td>...</td>\n      <td>1.462919</td>\n      <td>0.779447</td>\n      <td>0.567444</td>\n      <td>0.355291</td>\n      <td>0.216478</td>\n      <td>0.884643</td>\n      <td>0.082765</td>\n      <td>1.121311</td>\n      <td>0.349574</td>\n      <td>1.474590</td>\n    </tr>\n    <tr>\n      <th>1086</th>\n      <td>1089.0</td>\n      <td>stromal</td>\n      <td>S5</td>\n      <td>nucleus2blood_CV</td>\n      <td>214</td>\n      <td>130</td>\n      <td>84</td>\n      <td>-0.000130</td>\n      <td>-0.030747</td>\n      <td>0.045480</td>\n      <td>...</td>\n      <td>1.526433</td>\n      <td>1.174105</td>\n      <td>0.559900</td>\n      <td>0.150282</td>\n      <td>0.567785</td>\n      <td>1.063283</td>\n      <td>0.398601</td>\n      <td>1.037710</td>\n      <td>0.491202</td>\n      <td>2.664468</td>\n    </tr>\n    <tr>\n      <th>1087</th>\n      <td>1090.0</td>\n      <td>stromal</td>\n      <td>S5</td>\n      <td>nucleus2ecm_CV</td>\n      <td>214</td>\n      <td>130</td>\n      <td>84</td>\n      <td>0.074461</td>\n      <td>0.014368</td>\n      <td>0.161519</td>\n      <td>...</td>\n      <td>0.001539</td>\n      <td>0.310153</td>\n      <td>1.245933</td>\n      <td>0.981313</td>\n      <td>0.587052</td>\n      <td>0.410757</td>\n      <td>0.287301</td>\n      <td>0.619306</td>\n      <td>0.542393</td>\n      <td>1.409639</td>\n    </tr>\n    <tr>\n      <th>1088</th>\n      <td>1091.0</td>\n      <td>stromal</td>\n      <td>S5</td>\n      <td>nucleus2fat_CV</td>\n      <td>214</td>\n      <td>130</td>\n      <td>84</td>\n      <td>0.038031</td>\n      <td>0.017857</td>\n      <td>0.088964</td>\n      <td>...</td>\n      <td>1.974458</td>\n      <td>1.684412</td>\n      <td>0.536668</td>\n      <td>0.347621</td>\n      <td>0.819835</td>\n      <td>1.154440</td>\n      <td>0.497937</td>\n      <td>1.100147</td>\n      <td>0.620183</td>\n      <td>1.703069</td>\n    </tr>\n    <tr>\n      <th>1089</th>\n      <td>1092.0</td>\n      <td>stromal</td>\n      <td>S5</td>\n      <td>Ncell_CV</td>\n      <td>214</td>\n      <td>130</td>\n      <td>84</td>\n      <td>-0.012989</td>\n      <td>0.107493</td>\n      <td>-0.156292</td>\n      <td>...</td>\n      <td>0.066377</td>\n      <td>0.895523</td>\n      <td>0.840878</td>\n      <td>0.795213</td>\n      <td>0.376624</td>\n      <td>0.320590</td>\n      <td>1.240614</td>\n      <td>0.116227</td>\n      <td>1.294035</td>\n      <td>0.203955</td>\n    </tr>\n  </tbody>\n</table>\n<p>1090 rows × 568 columns</p>\n</div>"
     },
     "execution_count": 124,
     "metadata": {},
     "output_type": "execute_result"
    }
   ],
   "source": [
    "cohensd_df"
   ],
   "metadata": {
    "collapsed": false
   }
  },
  {
   "cell_type": "code",
   "execution_count": 125,
   "outputs": [
    {
     "data": {
      "text/plain": "       cohendbackchest                             cohendbackleg  \\\n0  absolute total area                              dist2nearest   \n1        resident_area                              dist2nearest   \n2          dermis area    std distance from fibroblast to sweat    \n3        collagen area  std distance from stromal cell to sweat    \n4            mean size                         mean aspect ratio   \n\n  cohendbackshoulder                            cohendchestleg  \\\n0       dist2nearest  mean distance from stromal cell to sweat   \n1       dist2nearest                       absolute total area   \n2                 ma               occurrence per length scale   \n3          mean size                                     MA_CV   \n4     local_align_CV                             resident_area   \n\n        cohendchestshoulder                       cohendlegshoulder  \n0       absolute total area                       mean aspect ratio  \n1  content per length scale  std distance from fibroblast to sweat   \n2              Perimeter_CV                               thickness  \n3                  std size                            Perimeter_CV  \n4                   Area_CV                                   MA_CV  ",
      "text/html": "<div>\n<style scoped>\n    .dataframe tbody tr th:only-of-type {\n        vertical-align: middle;\n    }\n\n    .dataframe tbody tr th {\n        vertical-align: top;\n    }\n\n    .dataframe thead th {\n        text-align: right;\n    }\n</style>\n<table border=\"1\" class=\"dataframe\">\n  <thead>\n    <tr style=\"text-align: right;\">\n      <th></th>\n      <th>cohendbackchest</th>\n      <th>cohendbackleg</th>\n      <th>cohendbackshoulder</th>\n      <th>cohendchestleg</th>\n      <th>cohendchestshoulder</th>\n      <th>cohendlegshoulder</th>\n    </tr>\n  </thead>\n  <tbody>\n    <tr>\n      <th>0</th>\n      <td>absolute total area</td>\n      <td>dist2nearest</td>\n      <td>dist2nearest</td>\n      <td>mean distance from stromal cell to sweat</td>\n      <td>absolute total area</td>\n      <td>mean aspect ratio</td>\n    </tr>\n    <tr>\n      <th>1</th>\n      <td>resident_area</td>\n      <td>dist2nearest</td>\n      <td>dist2nearest</td>\n      <td>absolute total area</td>\n      <td>content per length scale</td>\n      <td>std distance from fibroblast to sweat</td>\n    </tr>\n    <tr>\n      <th>2</th>\n      <td>dermis area</td>\n      <td>std distance from fibroblast to sweat</td>\n      <td>ma</td>\n      <td>occurrence per length scale</td>\n      <td>Perimeter_CV</td>\n      <td>thickness</td>\n    </tr>\n    <tr>\n      <th>3</th>\n      <td>collagen area</td>\n      <td>std distance from stromal cell to sweat</td>\n      <td>mean size</td>\n      <td>MA_CV</td>\n      <td>std size</td>\n      <td>Perimeter_CV</td>\n    </tr>\n    <tr>\n      <th>4</th>\n      <td>mean size</td>\n      <td>mean aspect ratio</td>\n      <td>local_align_CV</td>\n      <td>resident_area</td>\n      <td>Area_CV</td>\n      <td>MA_CV</td>\n    </tr>\n  </tbody>\n</table>\n</div>"
     },
     "execution_count": 125,
     "metadata": {},
     "output_type": "execute_result"
    }
   ],
   "source": [
    "colnames = [\"cohendbackchest\",\"cohendbackleg\",\"cohendbackshoulder\",\"cohendchestleg\",\"cohendchestshoulder\",\"cohendlegshoulder\"]\n",
    "concat_df = pd.DataFrame()\n",
    "concat_type_df = pd.DataFrame()\n",
    "concat_value_df = pd.DataFrame()\n",
    "for idx, colname in enumerate(colnames):\n",
    "    cohensdlist = cohensd_df[colname].iloc[:,0].tolist()\n",
    "    top_five_idx = top_five_argmax(cohensdlist)\n",
    "    features = []\n",
    "    types= []\n",
    "    cohendvalues = []\n",
    "    for ids in top_five_idx:\n",
    "        feature = corresp_feature[ids+3] # 3 headers cut off\n",
    "        typez = corresp_feature_type[ids+3]\n",
    "        cohendvalue = cohensdlist[ids]\n",
    "        features.append(feature)\n",
    "        types.append(typez)\n",
    "        cohendvalues.append(cohendvalue)\n",
    "    feat_df = pd.DataFrame(features,columns=[colname])\n",
    "    type_df = pd.DataFrame(types,columns=[colname])\n",
    "    cd_df = pd.DataFrame(cohendvalues,columns=[colname])\n",
    "    concat_df = pd.concat([concat_df,feat_df],axis=1)\n",
    "    concat_type_df = pd.concat([concat_type_df,type_df],axis=1)\n",
    "    concat_value_df = pd.concat([concat_value_df,cd_df],axis=1)\n",
    "concat_df"
   ],
   "metadata": {
    "collapsed": false
   }
  },
  {
   "cell_type": "code",
   "execution_count": 126,
   "outputs": [
    {
     "data": {
      "text/plain": "  cohendbackchest    cohendbackleg cohendbackshoulder cohendchestleg  \\\n0             fat     spindle-like       spindle-like            ecm   \n1             fat  resident immune    resident immune          sweat   \n2          dermis              ecm          epidermis          sweat   \n3             ecm              ecm                fat            fat   \n4             ecm            blood          epidermis          nerve   \n\n  cohendchestshoulder cohendlegshoulder  \n0                 fat             blood  \n1                 fat               ecm  \n2                 fat         epidermis  \n3                 fat      spindle-like  \n4                 fat           stromal  ",
      "text/html": "<div>\n<style scoped>\n    .dataframe tbody tr th:only-of-type {\n        vertical-align: middle;\n    }\n\n    .dataframe tbody tr th {\n        vertical-align: top;\n    }\n\n    .dataframe thead th {\n        text-align: right;\n    }\n</style>\n<table border=\"1\" class=\"dataframe\">\n  <thead>\n    <tr style=\"text-align: right;\">\n      <th></th>\n      <th>cohendbackchest</th>\n      <th>cohendbackleg</th>\n      <th>cohendbackshoulder</th>\n      <th>cohendchestleg</th>\n      <th>cohendchestshoulder</th>\n      <th>cohendlegshoulder</th>\n    </tr>\n  </thead>\n  <tbody>\n    <tr>\n      <th>0</th>\n      <td>fat</td>\n      <td>spindle-like</td>\n      <td>spindle-like</td>\n      <td>ecm</td>\n      <td>fat</td>\n      <td>blood</td>\n    </tr>\n    <tr>\n      <th>1</th>\n      <td>fat</td>\n      <td>resident immune</td>\n      <td>resident immune</td>\n      <td>sweat</td>\n      <td>fat</td>\n      <td>ecm</td>\n    </tr>\n    <tr>\n      <th>2</th>\n      <td>dermis</td>\n      <td>ecm</td>\n      <td>epidermis</td>\n      <td>sweat</td>\n      <td>fat</td>\n      <td>epidermis</td>\n    </tr>\n    <tr>\n      <th>3</th>\n      <td>ecm</td>\n      <td>ecm</td>\n      <td>fat</td>\n      <td>fat</td>\n      <td>fat</td>\n      <td>spindle-like</td>\n    </tr>\n    <tr>\n      <th>4</th>\n      <td>ecm</td>\n      <td>blood</td>\n      <td>epidermis</td>\n      <td>nerve</td>\n      <td>fat</td>\n      <td>stromal</td>\n    </tr>\n  </tbody>\n</table>\n</div>"
     },
     "execution_count": 126,
     "metadata": {},
     "output_type": "execute_result"
    }
   ],
   "source": [
    "concat_type_df"
   ],
   "metadata": {
    "collapsed": false
   }
  },
  {
   "cell_type": "code",
   "execution_count": 127,
   "outputs": [
    {
     "data": {
      "text/plain": "   cohendbackchest  cohendbackleg  cohendbackshoulder  cohendchestleg  \\\n0         1.199596       1.413352            0.800197        1.194931   \n1         1.046386       1.335253            0.786534        1.137965   \n2         1.030288       1.331048            0.707429        1.127317   \n3         1.004109       1.275885            0.706584        1.114359   \n4         1.003277       1.201469            0.656920        1.084366   \n\n   cohendchestshoulder  cohendlegshoulder  \n0             1.359500           1.530267  \n1             1.337644           1.376368  \n2             1.259324           1.357472  \n3             1.235020           1.336240  \n4             1.234803           1.290153  ",
      "text/html": "<div>\n<style scoped>\n    .dataframe tbody tr th:only-of-type {\n        vertical-align: middle;\n    }\n\n    .dataframe tbody tr th {\n        vertical-align: top;\n    }\n\n    .dataframe thead th {\n        text-align: right;\n    }\n</style>\n<table border=\"1\" class=\"dataframe\">\n  <thead>\n    <tr style=\"text-align: right;\">\n      <th></th>\n      <th>cohendbackchest</th>\n      <th>cohendbackleg</th>\n      <th>cohendbackshoulder</th>\n      <th>cohendchestleg</th>\n      <th>cohendchestshoulder</th>\n      <th>cohendlegshoulder</th>\n    </tr>\n  </thead>\n  <tbody>\n    <tr>\n      <th>0</th>\n      <td>1.199596</td>\n      <td>1.413352</td>\n      <td>0.800197</td>\n      <td>1.194931</td>\n      <td>1.359500</td>\n      <td>1.530267</td>\n    </tr>\n    <tr>\n      <th>1</th>\n      <td>1.046386</td>\n      <td>1.335253</td>\n      <td>0.786534</td>\n      <td>1.137965</td>\n      <td>1.337644</td>\n      <td>1.376368</td>\n    </tr>\n    <tr>\n      <th>2</th>\n      <td>1.030288</td>\n      <td>1.331048</td>\n      <td>0.707429</td>\n      <td>1.127317</td>\n      <td>1.259324</td>\n      <td>1.357472</td>\n    </tr>\n    <tr>\n      <th>3</th>\n      <td>1.004109</td>\n      <td>1.275885</td>\n      <td>0.706584</td>\n      <td>1.114359</td>\n      <td>1.235020</td>\n      <td>1.336240</td>\n    </tr>\n    <tr>\n      <th>4</th>\n      <td>1.003277</td>\n      <td>1.201469</td>\n      <td>0.656920</td>\n      <td>1.084366</td>\n      <td>1.234803</td>\n      <td>1.290153</td>\n    </tr>\n  </tbody>\n</table>\n</div>"
     },
     "execution_count": 127,
     "metadata": {},
     "output_type": "execute_result"
    }
   ],
   "source": [
    "concat_value_df"
   ],
   "metadata": {
    "collapsed": false
   }
  },
  {
   "cell_type": "markdown",
   "source": [],
   "metadata": {
    "collapsed": false
   }
  },
  {
   "cell_type": "code",
   "execution_count": 122,
   "outputs": [
    {
     "data": {
      "text/plain": "[0.4755150669261206,\n 0.3208372461781037,\n 0.1985819520759775,\n 0.34745799363530905,\n 0.08818906919499744,\n 0.7179165345031143,\n 0.24124347376564903,\n 0.09694077063513278,\n 0.17293310016752694,\n 0.18015865295467773,\n 0.37070757582396346,\n 0.245269306642587,\n 1.3574720788093928,\n 0.18706276419375328,\n 0.3830410480215653,\n 0.27198439474105707,\n 0.6269103027896918,\n 0.8367876364125645,\n 0.8605828973677071,\n 0.860000226336717,\n 0.8534828779623217,\n 0.08037715904532093,\n 0.3858081370346802,\n 0.36319081978847917,\n 0.15292869633743497,\n 0.6729539986426071,\n 0.8098490185426702,\n 0.8112786098576351,\n 0.8026050721511582,\n 0.7931806711450238,\n 0.9874045197722038,\n 0.3680827092386827,\n 0.01883932529622711,\n 0.11497175486671309,\n 0.06543180619187702,\n 0.11579587988886342,\n 0.11926727620385487,\n 0.01090979095390867,\n 0.07731775972168346,\n 0.1594813818213749,\n 0.3831368617380217,\n 0.06153917050011153,\n 0.03949112501462418,\n 0.0846497420511844,\n 0.10085572875836785,\n 0.11585542803902388,\n 0.13074478345935805,\n 0.14783829885706232,\n 0.17621408956616869,\n 0.21061414388258343,\n 0.24975495854982355,\n 0.6210727832264866,\n 0.0,\n 0.6210727832264866,\n 0.06904065274016745,\n 1.0752748068223932,\n 0.4726191490017875,\n 0.02833271646316011,\n 0.0,\n 0.0,\n 0.08707421553242939,\n 0.5361882668104432,\n 0.0,\n 0.19801318718903513,\n 0.0,\n 0.724672301218678,\n 0.0,\n 0.36353063299647975,\n 0.0,\n 0.32663110144176555,\n 0.0,\n 0.5650393549019203,\n 0.0,\n 0.5650393549019203,\n 0.06904065274016745,\n 0.7132755660298102,\n 0.13551679672470793,\n 0.8222361334956658,\n 0.0,\n 0.0,\n 0.08707421553242939,\n 0.10939013098161206,\n 0.0,\n 0.6922173747516005,\n 0.0,\n 0.7553605486769054,\n 0.0,\n 0.2738160154404492,\n 0.0,\n 0.09723819398013046,\n 0.0,\n 0.011836716452567295,\n 0.28016729718927286,\n 0.3982600733792281,\n 0.06904065274016745,\n 0.3150729554585639,\n 0.06834414486385586,\n 0.3018960431044025,\n 0.1686733810342171,\n 0.12938744720623116,\n 0.02523604699425803,\n 0.16911565708377674,\n 0.15130136208577846,\n 0.38230298039381966,\n 0.06340985577811521,\n 0.15139695865565805,\n 0.29071527827807103,\n 0.04465671235431374,\n 0.35157083635606273,\n 0.057209915688724945,\n 0.08432912504731131,\n 0.34690841974034714,\n 0.1557036904691135,\n 0.24192469874158015,\n 0.06904065274016745,\n 0.22260566622015815,\n 0.18483691713883135,\n 0.36618789668891016,\n 0.037651415165158096,\n 0.26382481003198804,\n 0.455155071847636,\n 0.31476415717562084,\n 0.2650287823197527,\n 0.24243976806358244,\n 0.0749543648565173,\n 0.127109086108034,\n 0.055608099109496295,\n 0.754021101035957,\n 0.012844156943129187,\n 0.32268373549698964,\n 0.14464694899268654,\n 0.04631014761164607,\n 0.16926259923269824,\n 0.44047914786450093,\n 0.06904065274016745,\n 0.39950306304132166,\n 0.1406181359265268,\n 0.07305715022074395,\n 0.2720659442229089,\n 0.05088619516410539,\n 0.17375428744819743,\n 0.19628745683213314,\n 0.2714608133114584,\n 0.10763247536245515,\n 0.10987312241327456,\n 1.2197191562480691,\n 1.1659568050605453,\n 0.468108184094025,\n 0.1596343583775136,\n 0.07124894334168784,\n 0.07781906388743226,\n 0.7935643603660677,\n 0.877455690850742,\n 0.6149620113237826,\n 0.06904065274016745,\n 0.6376960210411081,\n 0.9028768086985277,\n 0.7249708490389561,\n 0.9595786605779192,\n 0.7214213923364018,\n 0.26752839271990264,\n 0.7614676946233581,\n 0.7742543962487631,\n 0.9458070790065022,\n 0.9870775476181477,\n 0.4842313177877345,\n 0.24364938489449206,\n 0.007952916433248742,\n 0.31956396893189576,\n 0.8411824135213892,\n 0.8822211420581973,\n 0.638149498301657,\n 0.7806386316312625,\n 0.3745635145764405,\n 0.06904065274016745,\n 0.42767830870806184,\n 0.11292411935239793,\n 0.4376605844617262,\n 0.4593325818652759,\n 0.830788265122626,\n 0.8972625986208146,\n 0.22898973865193034,\n 0.620786121711144,\n 0.2741009157693977,\n 0.8321390987398749,\n 0.3680646164641091,\n 0.27957108987475776,\n 0.34156508484786274,\n 0.49617533407751474,\n 0.38465033296099865,\n 0.7270565765852501,\n 1.1391960995171693,\n 0.9515037312164409,\n 0.47077679479604284,\n 0.06904065274016745,\n 0.6592436472613291,\n 1.1184401066449339,\n 0.9559889867148998,\n 1.0763078720896484,\n 0.9306759141613197,\n 0.14746793837728783,\n 1.0748767258773957,\n 0.9992300231864918,\n 1.0343360973777052,\n 1.2034339778914762,\n 0.7262200414254959,\n 0.20099506238226134,\n 0.17724968857581946,\n 0.004579168964966806,\n 1.0777283817426577,\n 0.8842812626855544,\n 0.6562927931347318,\n 0.7335175930764422,\n 0.2614425251088436,\n 0.06904065274016745,\n 0.24982607196572754,\n 0.6328549253889216,\n 0.32757148986359164,\n 0.6854146867225474,\n 0.4243627797502004,\n 0.05409387408324892,\n 0.6059412351672713,\n 0.5293003164195915,\n 0.19465499562741873,\n 0.6166866070757836,\n 1.530266881525948,\n 0.48784065720812764,\n 0.007450931074525274,\n 0.36263629797349384,\n 0.6287273127930929,\n 0.7084128487676093,\n 0.4974986681855329,\n 0.0,\n 0.4974986681855329,\n 0.06904065274016745,\n 0.7974510676197397,\n 0.05913690841846036,\n 0.8472620490129539,\n 0.0,\n 0.0,\n 0.08707421553242939,\n 0.03544021746767746,\n 0.0,\n 0.8765685512252264,\n 0.0,\n 0.6798167099970618,\n 0.0,\n 0.521090906422119,\n 0.0,\n 0.47630786789612667,\n 0.0,\n 0.8492346825146926,\n 0.8917266920014795,\n 0.770313461446468,\n 0.06904065274016745,\n 0.7213140848432553,\n 0.2838391187835098,\n 0.7724491308155745,\n 0.6820699989767421,\n 1.028083998277978,\n 0.1483526115924309,\n 0.5552528313318165,\n 1.0180012191503438,\n 0.44969327319856145,\n 0.593477881632599,\n 0.8400587684042004,\n 0.6642691034370293,\n 0.0061162538795639845,\n 0.34981409146224873,\n 0.6263456702259929,\n 0.8729054272722505,\n 0.10340792993771972,\n 0.21049860062561992,\n 0.4821355905143895,\n 0.6230057440430834,\n 0.6241501623117259,\n 0.5832406276917678,\n 0.4669613345781822,\n 0.15062790299317821,\n 0.32738838261034403,\n 0.17530458054344766,\n 0.0023952206518828784,\n 0.021826846486822954,\n 0.12396257720502835,\n 0.39620679715282103,\n 0.15459634196482133,\n 0.2558498207639272,\n 0.2590382217369223,\n 0.005429426310371703,\n 0.09899487599211138,\n 0.4319892788028596,\n 0.45690860416249485,\n 0.23067649684261404,\n 0.41262427541980345,\n 0.28014114777543325,\n 0.06886869925631033,\n 0.12361736976716124,\n 0.27782571123523797,\n 0.09197444702983633,\n 0.5927828390301598,\n 0.4021973054165704,\n 0.21561141090466093,\n 0.5639514569332905,\n 0.6009395511633406,\n 0.19358165163499297,\n 0.8024482848810034,\n 0.06400621955791888,\n 0.32803053186308667,\n 0.20198764781203657,\n 0.10342031435005902,\n 0.8683677991229212,\n 1.0100269771156594,\n 0.8256209217541709,\n 0.7991277329305767,\n 0.23413942381348823,\n 0.12259490604467554,\n 0.8670278169466353,\n 0.10548886104966401,\n 0.743187056686676,\n 0.7439807566977956,\n 0.5679290702742488,\n 0.6076741101106049,\n 0.35335908189240234,\n 0.5386278041325716,\n 0.4028153973082417,\n 0.5633623405296297,\n 0.6287036136527393,\n 0.5445963572657455,\n 0.1103030067516794,\n 1.1349854065551197,\n 0.3779582092711302,\n 0.42665900953717356,\n 0.2635613313372523,\n 0.06063016379593426,\n 0.45104885693221286,\n 0.726247652549334,\n 0.14458974101191235,\n 0.4269010686980189,\n 0.11681277661812432,\n 0.022382557904293252,\n 0.18749804706884163,\n 0.19939016072860785,\n 0.41025038725169805,\n 0.1078173910107718,\n 0.41888868757214864,\n 0.39267438107185576,\n 1.265443010363771,\n 0.4934024860638208,\n 0.23767156657957664,\n 0.05256664535540964,\n 0.6289013881399813,\n 0.45224402870619096,\n 0.27140858611877716,\n 0.3103909906482149,\n 0.4684005026383127,\n 0.322089317337964,\n 0.1957010835684161,\n 0.5904222093351927,\n 1.2835837975326103,\n 0.5048775032055639,\n 0.33126133134498,\n 0.17881604804808127,\n 0.5047112349158538,\n 0.2990083602635864,\n 0.21785767670883516,\n 0.315876974917638,\n 0.4968389675442711,\n 0.17233021135895266,\n 0.018485568599449397,\n 0.5586647913087851,\n 1.1976689637793432,\n 0.4434661204277787,\n 0.22766777938933563,\n 0.25755515288413655,\n 0.1128846999333501,\n 0.31378461829234655,\n 0.25864932318617245,\n 0.3465350461174956,\n 0.44032266405997106,\n 0.34228821228591483,\n 0.08433053184157953,\n 0.6273729532203355,\n 1.3763683346969167,\n 0.5402102746335755,\n 0.27656303094579837,\n 0.251726494891067,\n 0.2918130612328316,\n 0.34948818461993847,\n 0.4613899463077696,\n 0.504119691553516,\n 0.5199802775979001,\n 0.07479326607917748,\n 0.20852066102395797,\n 0.5086965335335197,\n 0.5153529236202506,\n 0.29141822220890956,\n 0.08064728016489124,\n 0.09343768280528814,\n 0.3903016182898448,\n 0.5060885550920526,\n 0.44999728927613963,\n 0.45269042504138773,\n 0.6975863827527006,\n 0.7745080958903139,\n 0.8120303889485709,\n 0.7875953461164114,\n 0.6800094259148345,\n 0.7836411093750053,\n 0.8520038051873063,\n 0.7979798236455969,\n 0.8038620328122198,\n 0.8015836906481171,\n 0.798261346733337,\n 0.7963857551152937,\n 0.7356690819822269,\n 0.4072511815040504,\n 0.2452914141319433,\n 0.3002840157838685,\n 0.0371868370912936,\n 0.2671256203011597,\n 0.21843655740780263,\n 0.19920505713785916,\n 0.08637555245754058,\n 0.03096350110729386,\n 0.04867950577603208,\n 0.18908482410682315,\n 0.24562781454751695,\n 0.22329925720923394,\n 0.17442563687578774,\n 0.07004858762668781,\n 0.49511559090908536,\n 0.5579498815756656,\n 0.4955268227000189,\n 0.5591953543686228,\n 0.5058264677853681,\n 0.5583444127229213,\n 0.5220741678569232,\n 0.5040960874989591,\n 0.5204644869353844,\n 0.5217713345062459,\n 0.510872754087137,\n 0.33621110216971917,\n 0.4721641961125863,\n 0.12952459978819636,\n 0.3252646166645623,\n 0.4071892787108724,\n 0.3521990979096499,\n 0.1212762140675675,\n 0.31175937887387023,\n 0.5901696397047205,\n 0.5335227124044444,\n 0.3299079233236553,\n 0.29390130331246916,\n 0.013674733946577405,\n 0.31956340141295314,\n 0.2495233416408407,\n 0.20008004653653624,\n 0.6221164711944834,\n 0.6765758646903508,\n 0.612699068592595,\n 0.6432980360824403,\n 0.6357240716614383,\n 0.6509845915932435,\n 0.6461641343132245,\n 0.650331247489419,\n 0.6585085469176225,\n 0.6590701268234681,\n 0.6408008559417159,\n 0.2809792859642326,\n 0.5466565854260337,\n 0.1374006399554267,\n 0.2960222907652376,\n 0.7832383704467789,\n 0.5507795086362872,\n 0.7458066519957689,\n 0.21554698834143585,\n 0.8830119025340292,\n 0.4217603418176869,\n 0.7962193044829378,\n 0.09813167527883246,\n 1.2801827046473566,\n 0.30642823601852415,\n 0.059274729217534836,\n 0.34728573189619066,\n 0.8146183324718782,\n 0.8085849251295694,\n 0.8006540634216373,\n 0.7153223359918496,\n 0.854180836299427,\n 0.8463175564585304,\n 0.83207337270299,\n 0.8475480197325197,\n 0.847783763918783,\n 0.8464029634346371,\n 0.8455707506992475,\n 0.16966182856628015,\n 0.4715462146794566,\n 0.2696257947262803,\n 0.3553679535600139,\n 0.1841257785434163,\n 0.4864047818293364,\n 0.12945015388608125,\n 0.482382439901708,\n 0.7453419126068301,\n 0.3282346988812174,\n 0.19866487430767532,\n 0.2971498445536145,\n 0.4344071550279676,\n 0.5798352411827091,\n 0.21606000288458715,\n 0.1743981800211989,\n 0.48582314484218114,\n 0.5391625361881623,\n 0.46383039488901984,\n 0.48573321396502217,\n 0.47845985632617277,\n 0.49082110137102697,\n 0.474042250758669,\n 0.49124717860002204,\n 0.4874284204296371,\n 0.48625754062723336,\n 0.46930654195772864,\n 0.30916686688373435,\n 0.6127131732756562,\n 0.028464671418572375,\n 0.13779685602611177,\n 0.3409042608655615,\n 0.22190360353274816,\n 0.039878552511891596,\n 0.3332584205205932,\n 0.5374892575813269,\n 0.39135092399254995,\n 0.24597937365417702,\n 0.11149395711885213,\n 0.3782047143287048,\n 0.2796262233841061,\n 0.33142016413737385,\n 0.3376865959294474,\n 0.6555534981602932,\n 0.6249051450468656,\n 0.603853612813359,\n 0.6570179938185131,\n 0.6767875007735296,\n 0.6800690119063295,\n 0.6713671682077933,\n 0.6793410149001918,\n 0.6796035945094582,\n 0.6768801471513743,\n 0.6711665406551733,\n 0.1387540113047268,\n 0.22624476239324648,\n 0.016087420045064815,\n 0.34347022024586893,\n 0.5416214502723509,\n 0.6417427758893792,\n 0.42744490784955924,\n 0.0042401886345760096,\n 0.9463000960839554,\n 0.1939784537271401,\n 0.49258063524333434,\n 0.014057545932773266,\n 0.27651860395138134,\n 0.057009663694353334,\n 0.19443676157610718,\n 0.3909767325346886,\n 0.7822106003301291,\n 0.8286426199789648,\n 0.7732691354828134,\n 0.6706756589909856,\n 0.7929631338074774,\n 0.8194397604970088,\n 0.7899142279201314,\n 0.7975239664063215,\n 0.7989659101795487,\n 0.7968863247579306,\n 0.7825211628513262,\n 0.38620984026631255,\n 0.3879063636826942,\n 0.4889024676276064,\n 0.2057775154558361,\n 0.7235962034778625,\n 0.18618377418256654,\n 0.8398635800475047,\n 0.05006887657104901,\n 0.9827397707377041,\n 0.3292896700488247,\n 0.7550928202932061,\n 0.49722063972539166,\n 0.5346133000019637,\n 0.11180519255370301,\n 0.13912683352934802,\n 0.11788520794448662,\n 0.7887215712642496,\n 0.8145579800424099,\n 0.7753791903160799,\n 0.6786849942484414,\n 0.804159592607988,\n 0.8228702808166283,\n 0.8004887050050025,\n 0.810430114133087,\n 0.8097731746573008,\n 0.8084834545210476,\n 0.7983656387190582,\n 0.2634674941301476,\n 0.2965284151728548,\n 0.500258984171401,\n 0.35265169043756217,\n 0.06435686552900437,\n 0.020401126270203206,\n 0.7792224376103625,\n 0.1931564408048459,\n 0.5741527305204737,\n 0.5248514655201778,\n 0.3521791729901845,\n 0.4763785143756724,\n 0.7328869047394924,\n 0.2053603738116425,\n 0.21885512472588534,\n 0.08479841241489465,\n 0.7795194924027119,\n 0.745827213271081,\n 0.7588410113816537,\n 0.6727560050340906,\n 0.8063656516530995,\n 0.8021192539291054,\n 0.7920540378524882,\n 0.8090989173173306,\n 0.8146621789893977,\n 0.8085901143544838,\n 0.8054588718464173,\n 0.46568068567809995,\n 0.47726091336026794,\n 0.08614725323195677,\n 0.08167551534585972,\n 0.1842223940476347,\n 0.2570815282023025,\n 0.04465104258810033,\n 0.2188636794471994,\n 0.12528102218012585,\n 0.1388986801962963,\n 0.07788800964027269,\n 0.08124436566433486,\n 0.5415926572838787,\n 0.27180712026250486,\n 0.12692958498217893,\n 0.17866233640471885,\n 0.5813288179834399,\n 0.44701383279159285,\n 0.5541635995455925,\n 0.6176006271686278,\n 0.6332315529163153,\n 0.5754302980187411,\n 0.5863334484416908,\n 0.6362868959964287,\n 0.644408392030607,\n 0.6431229257806284,\n 0.6375117083813754,\n 0.1171667509499553,\n 0.2965284151728548,\n 0.28513278997343827,\n 0.24787855158593247,\n 0.12760878841395382,\n 0.6934063067873136,\n 0.41996509537054294,\n 0.15420628240329998,\n 0.9495215519034611,\n 0.38099083892693286,\n 0.18217874505323015,\n 0.27192938420320883,\n 0.8079567858901866,\n 0.11262376349627068,\n 0.31889888406882816,\n 0.25633225870816845,\n 0.7829943063418398,\n 0.7464697792825541,\n 0.7657851398833476,\n 0.6801431714002122,\n 0.8132154321001371,\n 0.8114114236299165,\n 0.7944237986487591,\n 0.815198927308055,\n 0.8186293332904241,\n 0.8110757222624793,\n 0.8063996166641988,\n 0.10127311538585806,\n 0.2965284151728548,\n 0.7721416777791409,\n 0.764087750341003,\n 0.034618748197224714,\n 0.6169918015095937,\n 0.8485940093240404,\n 0.12629758316529907,\n 0.5459994729474285,\n 0.25504562708317646,\n 0.8275558717177648,\n 0.766374553082807,\n 0.3103526219838225,\n 0.0805624917240072,\n 0.13899138726011784,\n 0.09744615877179952,\n 0.7851251216655399,\n 0.8061179268107236,\n 0.774403432136381,\n 0.6750353543870568,\n 0.8055175722707529,\n 0.826616955424561,\n 0.7966766589397529,\n 0.8104908290255567,\n 0.8100129433284164,\n 0.8080429933849248,\n 0.7996572052065404,\n 0.8973226971337519,\n 0.2965284151728548,\n 0.7100734335623908,\n 0.4870444104991552,\n 0.21648221790696875,\n 0.05827141849696199,\n 0.953231981004325,\n 0.1665704738563916,\n 0.7336450167656974,\n 0.18210192582775026,\n 0.6466782792416989,\n 0.6887209909364311,\n 0.8038666701954928,\n 0.1529937877062374,\n 0.2243735000133562,\n 0.10306774447314741,\n 0.7814300937040537,\n 0.7810427736037873,\n 0.7679267612920193,\n 0.6736625839877934,\n 0.8087249526133043,\n 0.818782507128403,\n 0.7958180384804399,\n 0.8119686896582649,\n 0.812491200598679,\n 0.8103055043929077,\n 0.8029919585792039,\n 0.6188427463433913,\n 0.0,\n 0.4529906258881504,\n 0.47192399854824735,\n 0.21433293850751245,\n 0.5015015677913898,\n 0.376933427481449,\n 0.27888091078482535,\n 0.7312318108465816,\n 0.24590545022064833,\n 0.020359274859692356,\n 0.7167112705050751,\n 0.11615670846635598,\n 0.5402769479416724,\n 0.2893005194464165,\n 0.8947321283753715,\n 0.624993972296078,\n 0.23926799184990644,\n 0.6651983412243199,\n 0.7122450367543913,\n 0.38587735275330576,\n 0.586614818908043,\n 0.4662346094357257,\n 0.4786876851832892,\n 0.5343678107025635,\n 0.4570847882130647,\n 0.2621848350044969,\n 0.2404654554237719,\n 0.0,\n 0.02719529938745685,\n 0.1002586181349023,\n 0.12128653379867253,\n 0.09662129112340254,\n 0.11005893507722495,\n 0.16420502698673367,\n 0.23743161210391792,\n 0.052872332506543336,\n 0.21147723383679354,\n 0.03224478043513564,\n 0.06740783847434492,\n 0.03330497513848744,\n 0.0016397750613573322,\n 0.12248116145838762,\n 0.21908948054012006,\n 0.37079790848093086,\n 0.4615095789870153,\n 0.055124202691134126,\n 0.3973914290622895,\n 0.24492736116862193,\n 0.10246389711602374,\n 0.08040229757185871,\n 0.3085468256064225,\n 0.016615561900713654,\n 0.054253146755540556,\n 0.030934685490262574,\n 0.0,\n 0.03721882066398596,\n 0.06922370652811498,\n 0.21430376576342255,\n 0.4450225082519506,\n 0.1012361289633399,\n 0.2593634486091879,\n 0.016336539922065966,\n 0.09080114579982243,\n 0.20296516736947676,\n 0.08053510370756257,\n 0.04760426706997625,\n 0.11811832432281057,\n 0.19710775088983137,\n 0.3043877154198005,\n 0.11901619173552848,\n 0.4627220250668442,\n 0.04016422268873241,\n 0.3386568785146415,\n 0.293124373603649,\n 0.5520600782615772,\n 0.2342989044649198,\n 0.37717862162061544,\n 0.35550909140718945,\n 0.222344443876093,\n 0.009060786018305792,\n 0.06899310233514284,\n 0.0,\n 0.7449180596811608,\n 0.05681211601542055,\n 0.42648674439842604,\n 0.3154368299568546,\n 0.5248178334495412,\n 0.12554635218088087,\n 0.22504410661219112,\n 0.13679372569283402,\n 0.5012545884747209,\n 0.6340081689711208,\n 0.5212598423931292,\n 0.3533030295671912,\n 0.5368072164482495,\n 0.08308291754183202,\n 0.40955181816685626,\n 0.26237339421071565,\n 0.4064531314064585,\n 0.39688633650568034,\n 0.06943617867765137,\n 0.4378648957781401,\n 0.47872729729775454,\n 0.2971114158431521,\n 0.45856729378807365,\n 0.3979844986242942,\n 0.6842074125629507,\n 0.016953929035799457,\n 0.0,\n 0.376330432741644,\n 0.395604515578656,\n 0.33659535826493137,\n 0.4871406890255511,\n 0.3620456719662629,\n 0.26908661848611565,\n 0.5865956500071569,\n 0.13454273249378546,\n 0.30340861475061337,\n 0.34366419702265893,\n 0.44359772135262765,\n 0.12913365783887615,\n 0.49196699448568026,\n 0.4887488539917288,\n 0.3034267703483255,\n 0.18142275062986166,\n 0.0011420584173072038,\n 0.23820519965144402,\n 0.5675860024209575,\n 0.5182665745147486,\n 0.46317653969463574,\n 0.45971238605926257,\n 0.6014660847956919,\n 0.5402589370772464,\n 0.14723944942759312,\n 0.37814913632759417,\n 0.0,\n 0.04540104249508317,\n 0.19120201186927407,\n 0.3759995766356201,\n 0.28079546844621545,\n 0.1044790949029208,\n 0.33555876757582376,\n 0.5863716762440709,\n 0.1395264532735257,\n 0.4474817013362466,\n 0.10054634508870479,\n 0.17782659897496708,\n 0.25549266449187363,\n 0.3501820978629736,\n 0.23512328513322847,\n 0.21271374840313403,\n 0.14300680080023007,\n 0.0890315012888168,\n 0.24731301177209897,\n 0.21430733876130484,\n 0.30628197037396804,\n 0.1403240584004455,\n 0.4350838453644063,\n 0.48675879467857947,\n 0.44891227444629117,\n 0.6699385443336489,\n 0.1759751862251224,\n 0.0,\n 0.02594296177659742,\n 0.61125505146248,\n 0.7386683014551259,\n 0.7014685228457779,\n 0.21733434262088525,\n 0.2506837519430576,\n 0.9152732584667832,\n 0.10706685285648565,\n 0.8207948194969773,\n 0.029477851408962807,\n 0.21437258668708864,\n 0.28655272994638964,\n 0.17405651399963717,\n 0.35339211669911896,\n 0.6206619930246832,\n 0.812798696730762,\n 0.5877931002441986,\n 0.7086555129965626,\n 0.13921924270235914,\n 0.7974815410800498,\n 0.617451765399228,\n 0.3124689158201668,\n 0.47348213926575844,\n 0.47334623923938035,\n 0.3621389304413463,\n 0.5955436237878132,\n 0.0,\n 0.030241176218524422,\n 0.8582072255888546,\n 0.7393322335762168,\n 0.9511732259740671,\n 0.2457385185424097,\n 0.19708836596025642,\n 1.0098815580742193,\n 0.03551941201498554,\n 0.6624621704749454,\n 0.06682544754432652,\n 0.48035473622012376,\n 0.1377683688107773,\n 0.1681596052610291,\n 0.25577755948046865,\n 0.43982725690330515,\n 0.7036635101098194,\n 0.6101628779963473,\n 0.788547809869482,\n 0.03856203301957582,\n 0.7101420264467724,\n 0.5904059002395599,\n 0.5452372407897119,\n 0.45790347704689016,\n 0.500810409339584,\n 0.45311264373557564,\n 0.9171481987644329,\n 0.0,\n 0.014377034094401175,\n 1.096242091795578,\n 0.1617389274451613,\n 0.8542395691380511,\n 0.5737634069115708,\n 0.010552843844873427,\n 0.8744588581294886,\n 0.8245155543606821,\n 0.04598588203426005,\n 0.35234967885329427,\n 0.2658752251402595,\n 0.09098149353681269,\n 0.04804172730290481,\n 0.30991868424392066,\n 0.3574126771148137,\n 0.6032554479928217,\n 0.633053755421201,\n 0.8165939385994487,\n 0.5941341211484611,\n 0.5339712047157273,\n 0.7034337016625648,\n 0.7170852227164164,\n 0.5831278951805671,\n 0.17015918314575446,\n 0.6517093561447183,\n 1.0179152477448832,\n 0.0,\n 0.13938133733465172,\n 0.2125488674730903,\n 0.07852664634069356,\n 0.38533052173493426,\n 0.15293550645354287,\n 0.07796427908062149,\n 0.3126119156489794,\n 0.07315593633403782,\n 0.03097839542622369,\n 0.0028662315997974763,\n 0.23310566725560727,\n 0.3174583476782276,\n 0.11134621098066073,\n 0.3931570817259397,\n 0.29801737168178066,\n 0.019146509532785932,\n 0.23596326179763222,\n ...]"
     },
     "execution_count": 122,
     "metadata": {},
     "output_type": "execute_result"
    }
   ],
   "source": [
    "cohensdlist"
   ],
   "metadata": {
    "collapsed": false
   }
  },
  {
   "cell_type": "code",
   "execution_count": 49,
   "outputs": [
    {
     "data": {
      "text/plain": "0        NaN         NaN  NaN                   NaN N-all N-male N-female  \\\n0        1.0           0    1                     2   214    130       84   \n1        2.0           0    1                     2   214    130       84   \n2        3.0     corneum   S1   corneum composition   214    130       84   \n3        4.0    spinosum   S1  spinosum composition   214    130       84   \n4        5.0  hair shaft   S1     shaft composition   214    130       84   \n...      ...         ...  ...                   ...   ...    ...      ...   \n1088  1089.0     stromal   S5      nucleus2blood_CV   214    130       84   \n1089  1090.0     stromal   S5        nucleus2ecm_CV   214    130       84   \n1090  1091.0     stromal   S5        nucleus2fat_CV   214    130       84   \n1091  1092.0     stromal   S5              Ncell_CV   214    130       84   \n1092     NaN         NaN  NaN                   NaN   NaN    NaN      NaN   \n\n0      rho-all  rho-male rho-female  ... cohendlegmiscf cohendshouldermiscf  \\\n0      0.08681  0.142901  -0.017746  ...       1.565801            1.559447   \n1      0.08681  0.142901  -0.017746  ...       1.565801            1.559447   \n2    -0.111345 -0.112377  -0.145393  ...       0.892281            0.355492   \n3     0.078967   0.06714   0.108776  ...       1.003508            0.413449   \n4    -0.031598  0.015974  -0.099298  ...       1.101092            0.637299   \n...        ...       ...        ...  ...            ...                 ...   \n1088  -0.00013 -0.030747    0.04548  ...       1.526433            1.174105   \n1089  0.074461  0.014368   0.161519  ...       0.001539            0.310153   \n1090  0.038031  0.017857   0.088964  ...       1.974458            1.684412   \n1091 -0.012989  0.107493  -0.156292  ...       0.066377            0.895523   \n1092       NaN       NaN        NaN  ...            NaN                 NaN   \n\n0    cohendbackscalpf cohendabdomenscalpf cohendarmscalpf cohendchestscalpf  \\\n0            0.094862            0.320903        0.312772          0.742582   \n1            0.094862            0.320903        0.312772          0.742582   \n2            0.705361            1.321938        0.592415          0.385392   \n3             0.88074            1.344348        0.875675          0.820038   \n4            0.400995            1.540982        1.123119          0.253474   \n...               ...                 ...             ...               ...   \n1088           0.5599            0.150282        0.567785          1.063283   \n1089         1.245933            0.981313        0.587052          0.410757   \n1090         0.536668            0.347621        0.819835           1.15444   \n1091         0.840878            0.795213        0.376624           0.32059   \n1092              NaN                 NaN             NaN               NaN   \n\n0    cohendfootscalpf cohendlegscalpf cohendscalpshoulderf cohendscalpmiscf  \n0            1.489539        0.210713             0.064469         1.263541  \n1            1.489539        0.210713             0.064469         1.263541  \n2            0.504881        0.818205             0.186155         0.529914  \n3            0.588353        1.026533             0.527439         0.575171  \n4            0.786163        0.396901             0.015954         2.942765  \n...               ...             ...                  ...              ...  \n1088         0.398601         1.03771             0.491202         2.664468  \n1089         0.287301        0.619306             0.542393         1.409639  \n1090         0.497937        1.100147             0.620183         1.703069  \n1091         1.240614        0.116227             1.294035         0.203955  \n1092              NaN             NaN                  NaN              NaN  \n\n[1093 rows x 568 columns]",
      "text/html": "<div>\n<style scoped>\n    .dataframe tbody tr th:only-of-type {\n        vertical-align: middle;\n    }\n\n    .dataframe tbody tr th {\n        vertical-align: top;\n    }\n\n    .dataframe thead th {\n        text-align: right;\n    }\n</style>\n<table border=\"1\" class=\"dataframe\">\n  <thead>\n    <tr style=\"text-align: right;\">\n      <th></th>\n      <th>NaN</th>\n      <th>NaN</th>\n      <th>NaN</th>\n      <th>NaN</th>\n      <th>N-all</th>\n      <th>N-male</th>\n      <th>N-female</th>\n      <th>rho-all</th>\n      <th>rho-male</th>\n      <th>rho-female</th>\n      <th>...</th>\n      <th>cohendlegmiscf</th>\n      <th>cohendshouldermiscf</th>\n      <th>cohendbackscalpf</th>\n      <th>cohendabdomenscalpf</th>\n      <th>cohendarmscalpf</th>\n      <th>cohendchestscalpf</th>\n      <th>cohendfootscalpf</th>\n      <th>cohendlegscalpf</th>\n      <th>cohendscalpshoulderf</th>\n      <th>cohendscalpmiscf</th>\n    </tr>\n  </thead>\n  <tbody>\n    <tr>\n      <th>0</th>\n      <td>1.0</td>\n      <td>0</td>\n      <td>1</td>\n      <td>2</td>\n      <td>214</td>\n      <td>130</td>\n      <td>84</td>\n      <td>0.08681</td>\n      <td>0.142901</td>\n      <td>-0.017746</td>\n      <td>...</td>\n      <td>1.565801</td>\n      <td>1.559447</td>\n      <td>0.094862</td>\n      <td>0.320903</td>\n      <td>0.312772</td>\n      <td>0.742582</td>\n      <td>1.489539</td>\n      <td>0.210713</td>\n      <td>0.064469</td>\n      <td>1.263541</td>\n    </tr>\n    <tr>\n      <th>1</th>\n      <td>2.0</td>\n      <td>0</td>\n      <td>1</td>\n      <td>2</td>\n      <td>214</td>\n      <td>130</td>\n      <td>84</td>\n      <td>0.08681</td>\n      <td>0.142901</td>\n      <td>-0.017746</td>\n      <td>...</td>\n      <td>1.565801</td>\n      <td>1.559447</td>\n      <td>0.094862</td>\n      <td>0.320903</td>\n      <td>0.312772</td>\n      <td>0.742582</td>\n      <td>1.489539</td>\n      <td>0.210713</td>\n      <td>0.064469</td>\n      <td>1.263541</td>\n    </tr>\n    <tr>\n      <th>2</th>\n      <td>3.0</td>\n      <td>corneum</td>\n      <td>S1</td>\n      <td>corneum composition</td>\n      <td>214</td>\n      <td>130</td>\n      <td>84</td>\n      <td>-0.111345</td>\n      <td>-0.112377</td>\n      <td>-0.145393</td>\n      <td>...</td>\n      <td>0.892281</td>\n      <td>0.355492</td>\n      <td>0.705361</td>\n      <td>1.321938</td>\n      <td>0.592415</td>\n      <td>0.385392</td>\n      <td>0.504881</td>\n      <td>0.818205</td>\n      <td>0.186155</td>\n      <td>0.529914</td>\n    </tr>\n    <tr>\n      <th>3</th>\n      <td>4.0</td>\n      <td>spinosum</td>\n      <td>S1</td>\n      <td>spinosum composition</td>\n      <td>214</td>\n      <td>130</td>\n      <td>84</td>\n      <td>0.078967</td>\n      <td>0.06714</td>\n      <td>0.108776</td>\n      <td>...</td>\n      <td>1.003508</td>\n      <td>0.413449</td>\n      <td>0.88074</td>\n      <td>1.344348</td>\n      <td>0.875675</td>\n      <td>0.820038</td>\n      <td>0.588353</td>\n      <td>1.026533</td>\n      <td>0.527439</td>\n      <td>0.575171</td>\n    </tr>\n    <tr>\n      <th>4</th>\n      <td>5.0</td>\n      <td>hair shaft</td>\n      <td>S1</td>\n      <td>shaft composition</td>\n      <td>214</td>\n      <td>130</td>\n      <td>84</td>\n      <td>-0.031598</td>\n      <td>0.015974</td>\n      <td>-0.099298</td>\n      <td>...</td>\n      <td>1.101092</td>\n      <td>0.637299</td>\n      <td>0.400995</td>\n      <td>1.540982</td>\n      <td>1.123119</td>\n      <td>0.253474</td>\n      <td>0.786163</td>\n      <td>0.396901</td>\n      <td>0.015954</td>\n      <td>2.942765</td>\n    </tr>\n    <tr>\n      <th>...</th>\n      <td>...</td>\n      <td>...</td>\n      <td>...</td>\n      <td>...</td>\n      <td>...</td>\n      <td>...</td>\n      <td>...</td>\n      <td>...</td>\n      <td>...</td>\n      <td>...</td>\n      <td>...</td>\n      <td>...</td>\n      <td>...</td>\n      <td>...</td>\n      <td>...</td>\n      <td>...</td>\n      <td>...</td>\n      <td>...</td>\n      <td>...</td>\n      <td>...</td>\n      <td>...</td>\n    </tr>\n    <tr>\n      <th>1088</th>\n      <td>1089.0</td>\n      <td>stromal</td>\n      <td>S5</td>\n      <td>nucleus2blood_CV</td>\n      <td>214</td>\n      <td>130</td>\n      <td>84</td>\n      <td>-0.00013</td>\n      <td>-0.030747</td>\n      <td>0.04548</td>\n      <td>...</td>\n      <td>1.526433</td>\n      <td>1.174105</td>\n      <td>0.5599</td>\n      <td>0.150282</td>\n      <td>0.567785</td>\n      <td>1.063283</td>\n      <td>0.398601</td>\n      <td>1.03771</td>\n      <td>0.491202</td>\n      <td>2.664468</td>\n    </tr>\n    <tr>\n      <th>1089</th>\n      <td>1090.0</td>\n      <td>stromal</td>\n      <td>S5</td>\n      <td>nucleus2ecm_CV</td>\n      <td>214</td>\n      <td>130</td>\n      <td>84</td>\n      <td>0.074461</td>\n      <td>0.014368</td>\n      <td>0.161519</td>\n      <td>...</td>\n      <td>0.001539</td>\n      <td>0.310153</td>\n      <td>1.245933</td>\n      <td>0.981313</td>\n      <td>0.587052</td>\n      <td>0.410757</td>\n      <td>0.287301</td>\n      <td>0.619306</td>\n      <td>0.542393</td>\n      <td>1.409639</td>\n    </tr>\n    <tr>\n      <th>1090</th>\n      <td>1091.0</td>\n      <td>stromal</td>\n      <td>S5</td>\n      <td>nucleus2fat_CV</td>\n      <td>214</td>\n      <td>130</td>\n      <td>84</td>\n      <td>0.038031</td>\n      <td>0.017857</td>\n      <td>0.088964</td>\n      <td>...</td>\n      <td>1.974458</td>\n      <td>1.684412</td>\n      <td>0.536668</td>\n      <td>0.347621</td>\n      <td>0.819835</td>\n      <td>1.15444</td>\n      <td>0.497937</td>\n      <td>1.100147</td>\n      <td>0.620183</td>\n      <td>1.703069</td>\n    </tr>\n    <tr>\n      <th>1091</th>\n      <td>1092.0</td>\n      <td>stromal</td>\n      <td>S5</td>\n      <td>Ncell_CV</td>\n      <td>214</td>\n      <td>130</td>\n      <td>84</td>\n      <td>-0.012989</td>\n      <td>0.107493</td>\n      <td>-0.156292</td>\n      <td>...</td>\n      <td>0.066377</td>\n      <td>0.895523</td>\n      <td>0.840878</td>\n      <td>0.795213</td>\n      <td>0.376624</td>\n      <td>0.32059</td>\n      <td>1.240614</td>\n      <td>0.116227</td>\n      <td>1.294035</td>\n      <td>0.203955</td>\n    </tr>\n    <tr>\n      <th>1092</th>\n      <td>NaN</td>\n      <td>NaN</td>\n      <td>NaN</td>\n      <td>NaN</td>\n      <td>NaN</td>\n      <td>NaN</td>\n      <td>NaN</td>\n      <td>NaN</td>\n      <td>NaN</td>\n      <td>NaN</td>\n      <td>...</td>\n      <td>NaN</td>\n      <td>NaN</td>\n      <td>NaN</td>\n      <td>NaN</td>\n      <td>NaN</td>\n      <td>NaN</td>\n      <td>NaN</td>\n      <td>NaN</td>\n      <td>NaN</td>\n      <td>NaN</td>\n    </tr>\n  </tbody>\n</table>\n<p>1093 rows × 568 columns</p>\n</div>"
     },
     "execution_count": 49,
     "metadata": {},
     "output_type": "execute_result"
    }
   ],
   "source": [
    "cohensd_df"
   ],
   "metadata": {
    "collapsed": false
   }
  },
  {
   "cell_type": "code",
   "execution_count": 131,
   "outputs": [],
   "source": [
    "concat_type_df.to_excel(r\"C:\\Users\\Kevin\\Desktop\\tmp5.xlsx\")"
   ],
   "metadata": {
    "collapsed": false
   }
  },
  {
   "cell_type": "code",
   "execution_count": 132,
   "outputs": [
    {
     "data": {
      "text/plain": "       bool           type core               feature\n0     False        corneum   S1   corneum composition\n1     False       spinosum   S1  spinosum composition\n2     False     hair shaft   S1     shaft composition\n3      True  hair follicle   S1  follicle composition\n4     False         muscle   S1    muscle composition\n...     ...            ...  ...                   ...\n1085  False        stromal   S5      nucleus2nerve_CV\n1086  False        stromal   S5      nucleus2blood_CV\n1087  False        stromal   S5        nucleus2ecm_CV\n1088  False        stromal   S5        nucleus2fat_CV\n1089  False        stromal   S5              Ncell_CV\n\n[1090 rows x 4 columns]",
      "text/html": "<div>\n<style scoped>\n    .dataframe tbody tr th:only-of-type {\n        vertical-align: middle;\n    }\n\n    .dataframe tbody tr th {\n        vertical-align: top;\n    }\n\n    .dataframe thead th {\n        text-align: right;\n    }\n</style>\n<table border=\"1\" class=\"dataframe\">\n  <thead>\n    <tr style=\"text-align: right;\">\n      <th></th>\n      <th>bool</th>\n      <th>type</th>\n      <th>core</th>\n      <th>feature</th>\n    </tr>\n  </thead>\n  <tbody>\n    <tr>\n      <th>0</th>\n      <td>False</td>\n      <td>corneum</td>\n      <td>S1</td>\n      <td>corneum composition</td>\n    </tr>\n    <tr>\n      <th>1</th>\n      <td>False</td>\n      <td>spinosum</td>\n      <td>S1</td>\n      <td>spinosum composition</td>\n    </tr>\n    <tr>\n      <th>2</th>\n      <td>False</td>\n      <td>hair shaft</td>\n      <td>S1</td>\n      <td>shaft composition</td>\n    </tr>\n    <tr>\n      <th>3</th>\n      <td>True</td>\n      <td>hair follicle</td>\n      <td>S1</td>\n      <td>follicle composition</td>\n    </tr>\n    <tr>\n      <th>4</th>\n      <td>False</td>\n      <td>muscle</td>\n      <td>S1</td>\n      <td>muscle composition</td>\n    </tr>\n    <tr>\n      <th>...</th>\n      <td>...</td>\n      <td>...</td>\n      <td>...</td>\n      <td>...</td>\n    </tr>\n    <tr>\n      <th>1085</th>\n      <td>False</td>\n      <td>stromal</td>\n      <td>S5</td>\n      <td>nucleus2nerve_CV</td>\n    </tr>\n    <tr>\n      <th>1086</th>\n      <td>False</td>\n      <td>stromal</td>\n      <td>S5</td>\n      <td>nucleus2blood_CV</td>\n    </tr>\n    <tr>\n      <th>1087</th>\n      <td>False</td>\n      <td>stromal</td>\n      <td>S5</td>\n      <td>nucleus2ecm_CV</td>\n    </tr>\n    <tr>\n      <th>1088</th>\n      <td>False</td>\n      <td>stromal</td>\n      <td>S5</td>\n      <td>nucleus2fat_CV</td>\n    </tr>\n    <tr>\n      <th>1089</th>\n      <td>False</td>\n      <td>stromal</td>\n      <td>S5</td>\n      <td>Ncell_CV</td>\n    </tr>\n  </tbody>\n</table>\n<p>1090 rows × 4 columns</p>\n</div>"
     },
     "execution_count": 132,
     "metadata": {},
     "output_type": "execute_result"
    }
   ],
   "source": [
    "dfsrcc = r\"\\\\fatherserverdw\\Kevin\\skin_morphometric_source_code\\Feature Age correlation metrics230412_t1.xlsx\"\n",
    "my_df = pd.read_excel(dfsrcc,sheet_name=\"age_related_biomarker\")\n",
    "my_df"
   ],
   "metadata": {
    "collapsed": false
   }
  },
  {
   "cell_type": "code",
   "execution_count": 133,
   "outputs": [],
   "source": [
    "mybool = my_df[\"bool\"]\n",
    "features = my_df[\"feature\"]\n",
    "types = my_df[\"type\"]"
   ],
   "metadata": {
    "collapsed": false
   }
  },
  {
   "cell_type": "code",
   "execution_count": 134,
   "outputs": [],
   "source": [
    "aging_features = features[mybool]\n",
    "aging_types = types[mybool]"
   ],
   "metadata": {
    "collapsed": false
   }
  },
  {
   "cell_type": "code",
   "execution_count": 135,
   "outputs": [
    {
     "data": {
      "text/plain": "3       follicle composition\n5            oil composition\n25              anisotropy_A\n26              anisotropy_B\n27       anisotropy_A_masked\n                ...         \n1069          orientation_CV\n1075                 oriA_CV\n1078      nucleus2corneum_CV\n1081     nucleus2follicle_CV\n1083          nucleus2oil_CV\nName: feature, Length: 124, dtype: object"
     },
     "execution_count": 135,
     "metadata": {},
     "output_type": "execute_result"
    }
   ],
   "source": [
    "aging_features"
   ],
   "metadata": {
    "collapsed": false
   }
  },
  {
   "cell_type": "code",
   "execution_count": 136,
   "outputs": [
    {
     "data": {
      "text/plain": "3       hair follicle\n5                 oil\n25                ecm\n26                ecm\n27                ecm\n            ...      \n1069          stromal\n1075          stromal\n1078          stromal\n1081          stromal\n1083          stromal\nName: type, Length: 124, dtype: object"
     },
     "execution_count": 136,
     "metadata": {},
     "output_type": "execute_result"
    }
   ],
   "source": [
    "aging_types"
   ],
   "metadata": {
    "collapsed": false
   }
  },
  {
   "cell_type": "code",
   "execution_count": 145,
   "outputs": [
    {
     "data": {
      "text/plain": "              composition\ncorneum               0.0\nspinosum              0.0\nhairshaft             0.0\nhairfollicle          0.0\nsmoothmuscle          0.0\noil                   0.0\nsweat                 0.0\nnerve                 0.0\nbloodvessel           0.0\necm                   0.0\nfat                   0.0\nwhite                 0.0",
      "text/html": "<div>\n<style scoped>\n    .dataframe tbody tr th:only-of-type {\n        vertical-align: middle;\n    }\n\n    .dataframe tbody tr th {\n        vertical-align: top;\n    }\n\n    .dataframe thead th {\n        text-align: right;\n    }\n</style>\n<table border=\"1\" class=\"dataframe\">\n  <thead>\n    <tr style=\"text-align: right;\">\n      <th></th>\n      <th>composition</th>\n    </tr>\n  </thead>\n  <tbody>\n    <tr>\n      <th>corneum</th>\n      <td>0.0</td>\n    </tr>\n    <tr>\n      <th>spinosum</th>\n      <td>0.0</td>\n    </tr>\n    <tr>\n      <th>hairshaft</th>\n      <td>0.0</td>\n    </tr>\n    <tr>\n      <th>hairfollicle</th>\n      <td>0.0</td>\n    </tr>\n    <tr>\n      <th>smoothmuscle</th>\n      <td>0.0</td>\n    </tr>\n    <tr>\n      <th>oil</th>\n      <td>0.0</td>\n    </tr>\n    <tr>\n      <th>sweat</th>\n      <td>0.0</td>\n    </tr>\n    <tr>\n      <th>nerve</th>\n      <td>0.0</td>\n    </tr>\n    <tr>\n      <th>bloodvessel</th>\n      <td>0.0</td>\n    </tr>\n    <tr>\n      <th>ecm</th>\n      <td>0.0</td>\n    </tr>\n    <tr>\n      <th>fat</th>\n      <td>0.0</td>\n    </tr>\n    <tr>\n      <th>white</th>\n      <td>0.0</td>\n    </tr>\n  </tbody>\n</table>\n</div>"
     },
     "execution_count": 145,
     "metadata": {},
     "output_type": "execute_result"
    }
   ],
   "source": [
    "hidf = pd.read_pickle(r\"\\\\shelter\\Kyu\\unstain2stain\\tiles\\registrated_tiles\\composition\\OTS_14684_1_he\\87142_93286xy7819.pkl\")\n",
    "hidf"
   ],
   "metadata": {
    "collapsed": false
   }
  },
  {
   "cell_type": "code",
   "execution_count": 144,
   "outputs": [
    {
     "data": {
      "text/plain": "Empty DataFrame\nColumns: []\nIndex: []",
      "text/html": "<div>\n<style scoped>\n    .dataframe tbody tr th:only-of-type {\n        vertical-align: middle;\n    }\n\n    .dataframe tbody tr th {\n        vertical-align: top;\n    }\n\n    .dataframe thead th {\n        text-align: right;\n    }\n</style>\n<table border=\"1\" class=\"dataframe\">\n  <thead>\n    <tr style=\"text-align: right;\">\n      <th></th>\n    </tr>\n  </thead>\n  <tbody>\n  </tbody>\n</table>\n</div>"
     },
     "execution_count": 144,
     "metadata": {},
     "output_type": "execute_result"
    }
   ],
   "source": [
    "hidf"
   ],
   "metadata": {
    "collapsed": false
   }
  },
  {
   "cell_type": "code",
   "execution_count": null,
   "outputs": [],
   "source": [],
   "metadata": {
    "collapsed": false
   }
  }
 ],
 "metadata": {
  "kernelspec": {
   "display_name": "Python 3",
   "language": "python",
   "name": "python3"
  },
  "language_info": {
   "codemirror_mode": {
    "name": "ipython",
    "version": 2
   },
   "file_extension": ".py",
   "mimetype": "text/x-python",
   "name": "python",
   "nbconvert_exporter": "python",
   "pygments_lexer": "ipython2",
   "version": "2.7.6"
  }
 },
 "nbformat": 4,
 "nbformat_minor": 0
}
