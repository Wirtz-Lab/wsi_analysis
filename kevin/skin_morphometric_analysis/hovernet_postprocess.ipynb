{
 "cells": [
  {
   "cell_type": "markdown",
   "source": [
    "### This part is hovernet preprocess: After MATLAB part of analysis finished on the MATLAB code, this is for modifying some of the wsi(ndpi)src, roisrc, and ndpisrc so that we're only using the 214 image files that we want to use. The MATLAB all_output_concat was manually made by just copy and pasting contents of the each of the excel output files from the MATLAB workflow. After running hovernet workflow, manually add hovernet result to all_output_concat to match 1090 features.\n",
    "### These src's are used in the hovernet_json2df.py, just making sure all the src's are correct so that hovernet_json2df.py runs properly!"
   ],
   "metadata": {
    "collapsed": false
   }
  },
  {
   "cell_type": "code",
   "execution_count": 1,
   "outputs": [],
   "source": [
    "import pandas as pd\n",
    "import numpy as np\n",
    "import seaborn as sns\n",
    "import matplotlib.pyplot as plt\n",
    "import os\n",
    "import shutil\n",
    "import pickle\n",
    "from tqdm import tqdm"
   ],
   "metadata": {
    "collapsed": false
   }
  },
  {
   "cell_type": "code",
   "execution_count": null,
   "outputs": [],
   "source": [
    "xlsrc = r'\\\\shelter\\Kyu\\skin_aging\\clue_cohort\\CLUE_image_list_230207_v2.xlsx'\n",
    "ndpisrc = r'\\\\shelter\\Kyu\\skin_aging\\clue_cohort\\wsi'\n",
    "xl = pd.read_excel(xlsrc)\n",
    "xl_tmp = xl[xl[\"student score\"] > 1]\n",
    "wsi_list = xl_tmp.filename\n",
    "# create ndpi path:\n",
    "wsi_ndpi_list = [os.path.join(ndpisrc, x) for x in wsi_list]\n",
    "dst_src = r'\\\\shelter\\Kyu\\skin_aging\\clue_cohort\\wsi\\desired_wsi'\n",
    "for filename in wsi_ndpi_list:\n",
    "    shutil.copy(filename, dst_src)\n",
    "# create dl path:\n",
    "dlsrc = r'\\\\shelter\\Kyu\\skin_aging\\clue_cohort\\DLmask1um'\n",
    "wsi_list = [x.replace(\".ndpi\", \".tif\") for x in wsi_list]\n",
    "wsi_dl_list = [os.path.join(dlsrc, x) for x in wsi_list]\n",
    "dst_src1 = r'\\\\shelter\\Kyu\\skin_aging\\clue_cohort\\DLmask1um\\desired_DLmask'\n",
    "for filename in wsi_dl_list:\n",
    "    shutil.copy(filename, dst_src1)\n",
    "# create roi path:\n",
    "roisrc = r'\\\\shelter\\Kyu\\skin_aging\\clue_cohort\\annotations\\roi\\labeledmask_v2_021723'\n",
    "wsi_list = [x.replace(\".tif\", \".png\") for x in wsi_list]\n",
    "wsi_roi_list = [os.path.join(roisrc, x) for x in wsi_list]\n",
    "dst_src2 = r'\\\\shelter\\Kyu\\skin_aging\\clue_cohort\\annotations\\roi\\labeledmask_v2_021723\\desired_roi'\n",
    "for filename in wsi_roi_list:\n",
    "    shutil.copy(filename, dst_src2)"
   ],
   "metadata": {
    "collapsed": false
   }
  },
  {
   "cell_type": "markdown",
   "source": [],
   "metadata": {
    "collapsed": false
   }
  },
  {
   "cell_type": "markdown",
   "source": [
    "### This part is hovernet postprocess: This code belows processes the generated .pkl file from hovernet_json2df.py to the .xlsx file in a form that we desire (the average and std values over each patient's roi):"
   ],
   "metadata": {
    "collapsed": false
   }
  },
  {
   "cell_type": "code",
   "execution_count": 1,
   "outputs": [],
   "source": [
    "import os\n",
    "import pickle\n",
    "from tqdm import tqdm\n",
    "import pandas as pd\n",
    "import numpy as np"
   ],
   "metadata": {
    "collapsed": false
   }
  },
  {
   "cell_type": "code",
   "execution_count": 2,
   "outputs": [],
   "source": [
    "pkl_src=r'\\\\shelter\\Kyu\\skin_aging\\clue_cohort\\wsi\\hovernet_out\\df'\n",
    "output_src=r'\\\\shelter\\Kyu\\skin_aging\\clue_cohort\\wsi\\hovernet_out\\df\\output_excel'\n",
    "pkl_list = [x for x in os.listdir(pkl_src) if x.endswith(\".pkl\")]\n",
    "pkl_full_list = [os.path.join(pkl_src,x) for x in pkl_list] # natsorted"
   ],
   "metadata": {
    "collapsed": false
   }
  },
  {
   "cell_type": "code",
   "execution_count": 3,
   "outputs": [],
   "source": [
    "# # code to test one excel:\n",
    "# total_avg_df = pd.DataFrame()\n",
    "# total_std_df = pd.DataFrame()\n",
    "#\n",
    "# with open(pkl_full_list[2], 'rb') as f:\n",
    "#     print(\"converting pkl to df:\")\n",
    "#     df = pickle.load(f)\n",
    "#     df[\"Ncell\"] = 0\n",
    "#     all_ncell = []\n",
    "#     for kk in range(df.shape[0]):\n",
    "#         contour = df[\"contour\"][kk]\n",
    "#         ncell = len(contour)\n",
    "#         all_ncell.append(ncell)\n",
    "#     df[\"Ncell\"] = all_ncell\n",
    "#\n",
    "#     ecm_df = df[df.type==10]\n",
    "#     ecm_df1 = ecm_df.copy()\n",
    "#     ecm_df2 = ecm_df.copy()\n",
    "#     ecm_df3 = ecm_df.copy()\n",
    "#     # aspect ratio > 3, circularity < 0.5, size > 50um2, far from other cells = stromal fibroblast\n",
    "#     ecm_df1.loc[(ecm_df1.AspectRatio>3) & (ecm_df1.Circularity<0.5) & (ecm_df1.Area>50) & (ecm_df1.dist2nearest>30),'type'] = 12 #spindle-like cell / fibroblasts\n",
    "#     # #  size < 50um2, far from other cells = stromal immune\n",
    "#     ecm_df2.loc[(ecm_df2.Area<1000) & (ecm_df2.dist2nearest>30),'type'] = 13 #resident immune cells\n",
    "#     # # aspect ratio < 1.5?, circulartiy > 0.5, size < 50um2, close to other cells = inflammatory cells\n",
    "#     ecm_df3.loc[(ecm_df3.AspectRatio<3) & (ecm_df3.Circularity>0.5) & (ecm_df3.Area<100) & (ecm_df3.dist2nearest<30),'type'] = 14\n",
    "#     ecm_df1 = ecm_df1[ecm_df1.type==12]\n",
    "#     ecm_df2 = ecm_df2[ecm_df2.type==13]\n",
    "#     ecm_df3 = ecm_df3[ecm_df3.type==14]\n",
    "#     df = pd.concat([df,ecm_df1],axis=0)\n",
    "#     df = pd.concat([df,ecm_df2],axis=0)\n",
    "#     df = pd.concat([df,ecm_df3],axis=0)\n",
    "#     dfs_by_type = {}\n",
    "#     for t in range(2, 15):\n",
    "#         dfs_by_type[t] = df[df['type'] == t].reset_index(drop=True)\n",
    "#     expanded_dfs = []\n",
    "#     for tt, df_t in dfs_by_type.items():\n",
    "#         new_cols = {f\"{col}_type{tt}\": df_t[col] for col in df_t.columns if col != 'type'}\n",
    "#         expanded_dfs.append(pd.DataFrame(new_cols))\n",
    "#\n",
    "#     all_set = set(np.unique(df[\"inroi\"]))\n",
    "#     # apply threshold of 12 to aspect ratio and extract distance and drop non float/int columns and calculate avg:\n",
    "#     for idx in range(len(expanded_dfs)):\n",
    "#         type_df = expanded_dfs[idx]\n",
    "#         roi_col = 'inroi_type' + str(idx+2)\n",
    "#         type_set = set(np.unique(expanded_dfs[idx][roi_col]))\n",
    "#         diff = all_set - type_set\n",
    "#         if len(diff) > 0:\n",
    "#             print(\"rois {} not included in type {}\".format(diff,idx+2))\n",
    "#\n",
    "#         ar_col = 'AspectRatio_type' + str(idx+2)\n",
    "#         type_df[ar_col] = np.where(type_df[ar_col] > 12, np.nan, type_df[ar_col])\n",
    "#\n",
    "#\n",
    "#         # extract distance:\n",
    "#         dist_col = 'c2t_distance_type' + str(idx+2)\n",
    "#         distdf = type_df[dist_col]\n",
    "#         new_df_cols = [dist_col + \"_\" + str(kk) for kk in range(2,13)]\n",
    "#         new_df = pd.DataFrame(columns=new_df_cols)\n",
    "#         new_df = new_df.reindex(range(distdf.shape[0]))\n",
    "#\n",
    "#         for idx1 in range(distdf.shape[0]):\n",
    "#             row = distdf[idx1]\n",
    "#             if np.any(pd.isnull(row)):\n",
    "#                 continue\n",
    "#             for idx2, value in enumerate(row):\n",
    "#                 new_df.loc[idx1,new_df_cols[idx2]] = value\n",
    "#\n",
    "#         type_df = pd.concat([type_df,new_df],axis=1) # concat the extracted distance to original type_df\n",
    "#\n",
    "#         # drop non float/int columns:\n",
    "#         dropped_cols = []\n",
    "#         for col2 in type_df.columns:\n",
    "#             if type_df[col2].dtype not in [int, float, \"int64\",\"float64\"]:\n",
    "#                 dropped_cols.append(col2)\n",
    "#                 if col2 == roi_col:\n",
    "#                     continue\n",
    "#                 if \"c2t_distance_type\" in col2 and len(col2.split(str(idx+2))[1]):\n",
    "#                     continue\n",
    "#                 type_df.drop(columns=col2,inplace=True)\n",
    "#         # replace inf's and nan's with nan's and take mean/std and concatenate\n",
    "#         type_df = type_df.replace([np.inf, -np.inf, np.nan], np.nan)\n",
    "#         avg_type_df = type_df.groupby(roi_col).mean()\n",
    "#         std_type_df = type_df.groupby(roi_col).std()\n",
    "#         total_avg_df = pd.concat([total_avg_df,avg_type_df],axis=1)\n",
    "#         total_std_df = pd.concat([total_std_df,std_type_df],axis=1)\n",
    "#         # save\n"
   ],
   "metadata": {
    "collapsed": false
   }
  },
  {
   "cell_type": "code",
   "execution_count": 4,
   "outputs": [],
   "source": [
    "pkl_src=r'\\\\shelter\\Kyu\\skin_aging\\clue_cohort\\wsi\\hovernet_out\\df'\n",
    "output_src=r'\\\\shelter\\Kyu\\skin_aging\\clue_cohort\\wsi\\hovernet_out\\df\\output_excel'\n",
    "pkl_list = [x for x in os.listdir(pkl_src) if x.endswith(\".pkl\")]\n",
    "pkl_full_list = [os.path.join(pkl_src,x) for x in pkl_list]"
   ],
   "metadata": {
    "collapsed": false
   }
  },
  {
   "cell_type": "code",
   "execution_count": 6,
   "outputs": [
    {
     "name": "stderr",
     "output_type": "stream",
     "text": [
      "Pickle File Processed:   0%|\u001B[31m          \u001B[0m| 0/214 [00:00<?, ?it/s]"
     ]
    },
    {
     "name": "stdout",
     "output_type": "stream",
     "text": [
      "converting pkl to df:\n"
     ]
    },
    {
     "name": "stderr",
     "output_type": "stream",
     "text": [
      "C:\\Users\\Kevin\\AppData\\Local\\Temp\\ipykernel_12976\\3288184646.py:84: FutureWarning: The default value of numeric_only in DataFrameGroupBy.mean is deprecated. In a future version, numeric_only will default to False. Either specify numeric_only or select only columns which should be valid for the function.\n",
      "  avg_type_df = type_df.groupby(roi_col).mean()\n",
      "C:\\Users\\Kevin\\AppData\\Local\\Temp\\ipykernel_12976\\3288184646.py:85: FutureWarning: The default value of numeric_only in DataFrameGroupBy.std is deprecated. In a future version, numeric_only will default to False. Either specify numeric_only or select only columns which should be valid for the function.\n",
      "  std_type_df = type_df.groupby(roi_col).std()\n",
      "Pickle File Processed:   0%|\u001B[31m          \u001B[0m| 1/214 [00:05<18:41,  5.26s/it]"
     ]
    },
    {
     "name": "stdout",
     "output_type": "stream",
     "text": [
      "saving excel\n",
      "converting pkl to df:\n"
     ]
    },
    {
     "name": "stderr",
     "output_type": "stream",
     "text": [
      "C:\\Users\\Kevin\\AppData\\Local\\Temp\\ipykernel_12976\\3288184646.py:84: FutureWarning: The default value of numeric_only in DataFrameGroupBy.mean is deprecated. In a future version, numeric_only will default to False. Either specify numeric_only or select only columns which should be valid for the function.\n",
      "  avg_type_df = type_df.groupby(roi_col).mean()\n",
      "C:\\Users\\Kevin\\AppData\\Local\\Temp\\ipykernel_12976\\3288184646.py:85: FutureWarning: The default value of numeric_only in DataFrameGroupBy.std is deprecated. In a future version, numeric_only will default to False. Either specify numeric_only or select only columns which should be valid for the function.\n",
      "  std_type_df = type_df.groupby(roi_col).std()\n"
     ]
    },
    {
     "name": "stdout",
     "output_type": "stream",
     "text": [
      "rois {3} not included out of all rois {1, 2, 3, 4} for type 11\n"
     ]
    },
    {
     "name": "stderr",
     "output_type": "stream",
     "text": [
      "Pickle File Processed:   1%|\u001B[31m          \u001B[0m| 2/214 [01:08<2:19:00, 39.34s/it]"
     ]
    },
    {
     "name": "stdout",
     "output_type": "stream",
     "text": [
      "saving excel\n",
      "converting pkl to df:\n"
     ]
    },
    {
     "name": "stderr",
     "output_type": "stream",
     "text": [
      "C:\\Users\\Kevin\\AppData\\Local\\Temp\\ipykernel_12976\\3288184646.py:84: FutureWarning: The default value of numeric_only in DataFrameGroupBy.mean is deprecated. In a future version, numeric_only will default to False. Either specify numeric_only or select only columns which should be valid for the function.\n",
      "  avg_type_df = type_df.groupby(roi_col).mean()\n",
      "C:\\Users\\Kevin\\AppData\\Local\\Temp\\ipykernel_12976\\3288184646.py:85: FutureWarning: The default value of numeric_only in DataFrameGroupBy.std is deprecated. In a future version, numeric_only will default to False. Either specify numeric_only or select only columns which should be valid for the function.\n",
      "  std_type_df = type_df.groupby(roi_col).std()\n"
     ]
    },
    {
     "name": "stdout",
     "output_type": "stream",
     "text": [
      "rois {3, 4} not included out of all rois {1, 2, 3, 4} for type 3\n"
     ]
    },
    {
     "name": "stderr",
     "output_type": "stream",
     "text": [
      "Pickle File Processed:   1%|\u001B[31m▏         \u001B[0m| 3/214 [01:17<1:30:10, 25.64s/it]"
     ]
    },
    {
     "name": "stdout",
     "output_type": "stream",
     "text": [
      "saving excel\n",
      "converting pkl to df:\n"
     ]
    },
    {
     "name": "stderr",
     "output_type": "stream",
     "text": [
      "C:\\Users\\Kevin\\AppData\\Local\\Temp\\ipykernel_12976\\3288184646.py:84: FutureWarning: The default value of numeric_only in DataFrameGroupBy.mean is deprecated. In a future version, numeric_only will default to False. Either specify numeric_only or select only columns which should be valid for the function.\n",
      "  avg_type_df = type_df.groupby(roi_col).mean()\n",
      "C:\\Users\\Kevin\\AppData\\Local\\Temp\\ipykernel_12976\\3288184646.py:85: FutureWarning: The default value of numeric_only in DataFrameGroupBy.std is deprecated. In a future version, numeric_only will default to False. Either specify numeric_only or select only columns which should be valid for the function.\n",
      "  std_type_df = type_df.groupby(roi_col).std()\n",
      "Pickle File Processed:   2%|\u001B[31m▏         \u001B[0m| 4/214 [01:26<1:06:21, 18.96s/it]"
     ]
    },
    {
     "name": "stdout",
     "output_type": "stream",
     "text": [
      "saving excel\n",
      "converting pkl to df:\n"
     ]
    },
    {
     "name": "stderr",
     "output_type": "stream",
     "text": [
      "C:\\Users\\Kevin\\AppData\\Local\\Temp\\ipykernel_12976\\3288184646.py:84: FutureWarning: The default value of numeric_only in DataFrameGroupBy.mean is deprecated. In a future version, numeric_only will default to False. Either specify numeric_only or select only columns which should be valid for the function.\n",
      "  avg_type_df = type_df.groupby(roi_col).mean()\n",
      "C:\\Users\\Kevin\\AppData\\Local\\Temp\\ipykernel_12976\\3288184646.py:85: FutureWarning: The default value of numeric_only in DataFrameGroupBy.std is deprecated. In a future version, numeric_only will default to False. Either specify numeric_only or select only columns which should be valid for the function.\n",
      "  std_type_df = type_df.groupby(roi_col).std()\n",
      "Pickle File Processed:   2%|\u001B[31m▏         \u001B[0m| 5/214 [01:32<50:01, 14.36s/it]  "
     ]
    },
    {
     "name": "stdout",
     "output_type": "stream",
     "text": [
      "saving excel\n",
      "converting pkl to df:\n"
     ]
    },
    {
     "name": "stderr",
     "output_type": "stream",
     "text": [
      "C:\\Users\\Kevin\\AppData\\Local\\Temp\\ipykernel_12976\\3288184646.py:84: FutureWarning: The default value of numeric_only in DataFrameGroupBy.mean is deprecated. In a future version, numeric_only will default to False. Either specify numeric_only or select only columns which should be valid for the function.\n",
      "  avg_type_df = type_df.groupby(roi_col).mean()\n",
      "C:\\Users\\Kevin\\AppData\\Local\\Temp\\ipykernel_12976\\3288184646.py:85: FutureWarning: The default value of numeric_only in DataFrameGroupBy.std is deprecated. In a future version, numeric_only will default to False. Either specify numeric_only or select only columns which should be valid for the function.\n",
      "  std_type_df = type_df.groupby(roi_col).std()\n",
      "C:\\Users\\Kevin\\AppData\\Local\\Temp\\ipykernel_12976\\3288184646.py:84: FutureWarning: The default value of numeric_only in DataFrameGroupBy.mean is deprecated. In a future version, numeric_only will default to False. Either specify numeric_only or select only columns which should be valid for the function.\n",
      "  avg_type_df = type_df.groupby(roi_col).mean()\n",
      "C:\\Users\\Kevin\\AppData\\Local\\Temp\\ipykernel_12976\\3288184646.py:85: FutureWarning: The default value of numeric_only in DataFrameGroupBy.std is deprecated. In a future version, numeric_only will default to False. Either specify numeric_only or select only columns which should be valid for the function.\n",
      "  std_type_df = type_df.groupby(roi_col).std()\n",
      "C:\\Users\\Kevin\\AppData\\Local\\Temp\\ipykernel_12976\\3288184646.py:84: FutureWarning: The default value of numeric_only in DataFrameGroupBy.mean is deprecated. In a future version, numeric_only will default to False. Either specify numeric_only or select only columns which should be valid for the function.\n",
      "  avg_type_df = type_df.groupby(roi_col).mean()\n",
      "C:\\Users\\Kevin\\AppData\\Local\\Temp\\ipykernel_12976\\3288184646.py:85: FutureWarning: The default value of numeric_only in DataFrameGroupBy.std is deprecated. In a future version, numeric_only will default to False. Either specify numeric_only or select only columns which should be valid for the function.\n",
      "  std_type_df = type_df.groupby(roi_col).std()\n"
     ]
    },
    {
     "name": "stdout",
     "output_type": "stream",
     "text": [
      "rois {1} not included out of all rois {1} for type 3\n",
      "rois {1} not included out of all rois {1} for type 6\n"
     ]
    },
    {
     "name": "stderr",
     "output_type": "stream",
     "text": [
      "Pickle File Processed:   3%|\u001B[31m▎         \u001B[0m| 6/214 [01:36<37:05, 10.70s/it]"
     ]
    },
    {
     "name": "stdout",
     "output_type": "stream",
     "text": [
      "saving excel\n",
      "converting pkl to df:\n"
     ]
    },
    {
     "name": "stderr",
     "output_type": "stream",
     "text": [
      "C:\\Users\\Kevin\\AppData\\Local\\Temp\\ipykernel_12976\\3288184646.py:84: FutureWarning: The default value of numeric_only in DataFrameGroupBy.mean is deprecated. In a future version, numeric_only will default to False. Either specify numeric_only or select only columns which should be valid for the function.\n",
      "  avg_type_df = type_df.groupby(roi_col).mean()\n",
      "C:\\Users\\Kevin\\AppData\\Local\\Temp\\ipykernel_12976\\3288184646.py:85: FutureWarning: The default value of numeric_only in DataFrameGroupBy.std is deprecated. In a future version, numeric_only will default to False. Either specify numeric_only or select only columns which should be valid for the function.\n",
      "  std_type_df = type_df.groupby(roi_col).std()\n",
      "Pickle File Processed:   3%|\u001B[31m▎         \u001B[0m| 7/214 [01:39<28:26,  8.25s/it]"
     ]
    },
    {
     "name": "stdout",
     "output_type": "stream",
     "text": [
      "saving excel\n",
      "converting pkl to df:\n"
     ]
    },
    {
     "name": "stderr",
     "output_type": "stream",
     "text": [
      "C:\\Users\\Kevin\\AppData\\Local\\Temp\\ipykernel_12976\\3288184646.py:84: FutureWarning: The default value of numeric_only in DataFrameGroupBy.mean is deprecated. In a future version, numeric_only will default to False. Either specify numeric_only or select only columns which should be valid for the function.\n",
      "  avg_type_df = type_df.groupby(roi_col).mean()\n",
      "C:\\Users\\Kevin\\AppData\\Local\\Temp\\ipykernel_12976\\3288184646.py:85: FutureWarning: The default value of numeric_only in DataFrameGroupBy.std is deprecated. In a future version, numeric_only will default to False. Either specify numeric_only or select only columns which should be valid for the function.\n",
      "  std_type_df = type_df.groupby(roi_col).std()\n"
     ]
    },
    {
     "name": "stdout",
     "output_type": "stream",
     "text": [
      "rois {1} not included out of all rois {1, 2, 3} for type 6\n"
     ]
    },
    {
     "name": "stderr",
     "output_type": "stream",
     "text": [
      "Pickle File Processed:   4%|\u001B[31m▎         \u001B[0m| 8/214 [01:47<27:48,  8.10s/it]"
     ]
    },
    {
     "name": "stdout",
     "output_type": "stream",
     "text": [
      "saving excel\n",
      "converting pkl to df:\n"
     ]
    },
    {
     "name": "stderr",
     "output_type": "stream",
     "text": [
      "C:\\Users\\Kevin\\AppData\\Local\\Temp\\ipykernel_12976\\3288184646.py:84: FutureWarning: The default value of numeric_only in DataFrameGroupBy.mean is deprecated. In a future version, numeric_only will default to False. Either specify numeric_only or select only columns which should be valid for the function.\n",
      "  avg_type_df = type_df.groupby(roi_col).mean()\n",
      "C:\\Users\\Kevin\\AppData\\Local\\Temp\\ipykernel_12976\\3288184646.py:85: FutureWarning: The default value of numeric_only in DataFrameGroupBy.std is deprecated. In a future version, numeric_only will default to False. Either specify numeric_only or select only columns which should be valid for the function.\n",
      "  std_type_df = type_df.groupby(roi_col).std()\n",
      "Pickle File Processed:   4%|\u001B[31m▍         \u001B[0m| 9/214 [01:53<25:27,  7.45s/it]"
     ]
    },
    {
     "name": "stdout",
     "output_type": "stream",
     "text": [
      "saving excel\n",
      "converting pkl to df:\n"
     ]
    },
    {
     "name": "stderr",
     "output_type": "stream",
     "text": [
      "C:\\Users\\Kevin\\AppData\\Local\\Temp\\ipykernel_12976\\3288184646.py:84: FutureWarning: The default value of numeric_only in DataFrameGroupBy.mean is deprecated. In a future version, numeric_only will default to False. Either specify numeric_only or select only columns which should be valid for the function.\n",
      "  avg_type_df = type_df.groupby(roi_col).mean()\n",
      "C:\\Users\\Kevin\\AppData\\Local\\Temp\\ipykernel_12976\\3288184646.py:85: FutureWarning: The default value of numeric_only in DataFrameGroupBy.std is deprecated. In a future version, numeric_only will default to False. Either specify numeric_only or select only columns which should be valid for the function.\n",
      "  std_type_df = type_df.groupby(roi_col).std()\n",
      "Pickle File Processed:   5%|\u001B[31m▍         \u001B[0m| 10/214 [02:13<38:41, 11.38s/it]"
     ]
    },
    {
     "name": "stdout",
     "output_type": "stream",
     "text": [
      "saving excel\n",
      "converting pkl to df:\n"
     ]
    },
    {
     "name": "stderr",
     "output_type": "stream",
     "text": [
      "C:\\Users\\Kevin\\AppData\\Local\\Temp\\ipykernel_12976\\3288184646.py:84: FutureWarning: The default value of numeric_only in DataFrameGroupBy.mean is deprecated. In a future version, numeric_only will default to False. Either specify numeric_only or select only columns which should be valid for the function.\n",
      "  avg_type_df = type_df.groupby(roi_col).mean()\n",
      "C:\\Users\\Kevin\\AppData\\Local\\Temp\\ipykernel_12976\\3288184646.py:85: FutureWarning: The default value of numeric_only in DataFrameGroupBy.std is deprecated. In a future version, numeric_only will default to False. Either specify numeric_only or select only columns which should be valid for the function.\n",
      "  std_type_df = type_df.groupby(roi_col).std()\n",
      "Pickle File Processed:   5%|\u001B[31m▌         \u001B[0m| 11/214 [02:18<31:39,  9.36s/it]"
     ]
    },
    {
     "name": "stdout",
     "output_type": "stream",
     "text": [
      "saving excel\n",
      "converting pkl to df:\n"
     ]
    },
    {
     "name": "stderr",
     "output_type": "stream",
     "text": [
      "C:\\Users\\Kevin\\AppData\\Local\\Temp\\ipykernel_12976\\3288184646.py:84: FutureWarning: The default value of numeric_only in DataFrameGroupBy.mean is deprecated. In a future version, numeric_only will default to False. Either specify numeric_only or select only columns which should be valid for the function.\n",
      "  avg_type_df = type_df.groupby(roi_col).mean()\n",
      "C:\\Users\\Kevin\\AppData\\Local\\Temp\\ipykernel_12976\\3288184646.py:85: FutureWarning: The default value of numeric_only in DataFrameGroupBy.std is deprecated. In a future version, numeric_only will default to False. Either specify numeric_only or select only columns which should be valid for the function.\n",
      "  std_type_df = type_df.groupby(roi_col).std()\n"
     ]
    },
    {
     "name": "stdout",
     "output_type": "stream",
     "text": [
      "rois {2} not included out of all rois {1, 2} for type 11\n"
     ]
    },
    {
     "name": "stderr",
     "output_type": "stream",
     "text": [
      "Pickle File Processed:   6%|\u001B[31m▌         \u001B[0m| 12/214 [02:20<24:38,  7.32s/it]"
     ]
    },
    {
     "name": "stdout",
     "output_type": "stream",
     "text": [
      "saving excel\n",
      "converting pkl to df:\n"
     ]
    },
    {
     "name": "stderr",
     "output_type": "stream",
     "text": [
      "C:\\Users\\Kevin\\AppData\\Local\\Temp\\ipykernel_12976\\3288184646.py:84: FutureWarning: The default value of numeric_only in DataFrameGroupBy.mean is deprecated. In a future version, numeric_only will default to False. Either specify numeric_only or select only columns which should be valid for the function.\n",
      "  avg_type_df = type_df.groupby(roi_col).mean()\n",
      "C:\\Users\\Kevin\\AppData\\Local\\Temp\\ipykernel_12976\\3288184646.py:85: FutureWarning: The default value of numeric_only in DataFrameGroupBy.std is deprecated. In a future version, numeric_only will default to False. Either specify numeric_only or select only columns which should be valid for the function.\n",
      "  std_type_df = type_df.groupby(roi_col).std()\n"
     ]
    },
    {
     "name": "stdout",
     "output_type": "stream",
     "text": [
      "saving excel\n"
     ]
    },
    {
     "name": "stderr",
     "output_type": "stream",
     "text": [
      "Pickle File Processed:   6%|\u001B[31m▌         \u001B[0m| 13/214 [02:26<22:22,  6.68s/it]"
     ]
    },
    {
     "name": "stdout",
     "output_type": "stream",
     "text": [
      "converting pkl to df:\n"
     ]
    },
    {
     "name": "stderr",
     "output_type": "stream",
     "text": [
      "C:\\Users\\Kevin\\AppData\\Local\\Temp\\ipykernel_12976\\3288184646.py:84: FutureWarning: The default value of numeric_only in DataFrameGroupBy.mean is deprecated. In a future version, numeric_only will default to False. Either specify numeric_only or select only columns which should be valid for the function.\n",
      "  avg_type_df = type_df.groupby(roi_col).mean()\n",
      "C:\\Users\\Kevin\\AppData\\Local\\Temp\\ipykernel_12976\\3288184646.py:85: FutureWarning: The default value of numeric_only in DataFrameGroupBy.std is deprecated. In a future version, numeric_only will default to False. Either specify numeric_only or select only columns which should be valid for the function.\n",
      "  std_type_df = type_df.groupby(roi_col).std()\n"
     ]
    },
    {
     "name": "stdout",
     "output_type": "stream",
     "text": [
      "saving excel\n"
     ]
    },
    {
     "name": "stderr",
     "output_type": "stream",
     "text": [
      "Pickle File Processed:   7%|\u001B[31m▋         \u001B[0m| 14/214 [02:55<44:50, 13.45s/it]"
     ]
    },
    {
     "name": "stdout",
     "output_type": "stream",
     "text": [
      "converting pkl to df:\n"
     ]
    },
    {
     "name": "stderr",
     "output_type": "stream",
     "text": [
      "C:\\Users\\Kevin\\AppData\\Local\\Temp\\ipykernel_12976\\3288184646.py:84: FutureWarning: The default value of numeric_only in DataFrameGroupBy.mean is deprecated. In a future version, numeric_only will default to False. Either specify numeric_only or select only columns which should be valid for the function.\n",
      "  avg_type_df = type_df.groupby(roi_col).mean()\n",
      "C:\\Users\\Kevin\\AppData\\Local\\Temp\\ipykernel_12976\\3288184646.py:85: FutureWarning: The default value of numeric_only in DataFrameGroupBy.std is deprecated. In a future version, numeric_only will default to False. Either specify numeric_only or select only columns which should be valid for the function.\n",
      "  std_type_df = type_df.groupby(roi_col).std()\n"
     ]
    },
    {
     "name": "stdout",
     "output_type": "stream",
     "text": [
      "saving excel\n"
     ]
    },
    {
     "name": "stderr",
     "output_type": "stream",
     "text": [
      "Pickle File Processed:   7%|\u001B[31m▋         \u001B[0m| 15/214 [03:10<46:36, 14.05s/it]"
     ]
    },
    {
     "name": "stdout",
     "output_type": "stream",
     "text": [
      "converting pkl to df:\n"
     ]
    },
    {
     "name": "stderr",
     "output_type": "stream",
     "text": [
      "C:\\Users\\Kevin\\AppData\\Local\\Temp\\ipykernel_12976\\3288184646.py:84: FutureWarning: The default value of numeric_only in DataFrameGroupBy.mean is deprecated. In a future version, numeric_only will default to False. Either specify numeric_only or select only columns which should be valid for the function.\n",
      "  avg_type_df = type_df.groupby(roi_col).mean()\n",
      "C:\\Users\\Kevin\\AppData\\Local\\Temp\\ipykernel_12976\\3288184646.py:85: FutureWarning: The default value of numeric_only in DataFrameGroupBy.std is deprecated. In a future version, numeric_only will default to False. Either specify numeric_only or select only columns which should be valid for the function.\n",
      "  std_type_df = type_df.groupby(roi_col).std()\n",
      "C:\\Users\\Kevin\\AppData\\Local\\Temp\\ipykernel_12976\\3288184646.py:84: FutureWarning: The default value of numeric_only in DataFrameGroupBy.mean is deprecated. In a future version, numeric_only will default to False. Either specify numeric_only or select only columns which should be valid for the function.\n",
      "  avg_type_df = type_df.groupby(roi_col).mean()\n",
      "C:\\Users\\Kevin\\AppData\\Local\\Temp\\ipykernel_12976\\3288184646.py:85: FutureWarning: The default value of numeric_only in DataFrameGroupBy.std is deprecated. In a future version, numeric_only will default to False. Either specify numeric_only or select only columns which should be valid for the function.\n",
      "  std_type_df = type_df.groupby(roi_col).std()\n"
     ]
    },
    {
     "name": "stdout",
     "output_type": "stream",
     "text": [
      "rois {1} not included out of all rois {1} for type 3\n",
      "saving excel\n"
     ]
    },
    {
     "name": "stderr",
     "output_type": "stream",
     "text": [
      "Pickle File Processed:   7%|\u001B[31m▋         \u001B[0m| 16/214 [03:15<37:06, 11.25s/it]"
     ]
    },
    {
     "name": "stdout",
     "output_type": "stream",
     "text": [
      "converting pkl to df:\n"
     ]
    },
    {
     "name": "stderr",
     "output_type": "stream",
     "text": [
      "C:\\Users\\Kevin\\AppData\\Local\\Temp\\ipykernel_12976\\3288184646.py:84: FutureWarning: The default value of numeric_only in DataFrameGroupBy.mean is deprecated. In a future version, numeric_only will default to False. Either specify numeric_only or select only columns which should be valid for the function.\n",
      "  avg_type_df = type_df.groupby(roi_col).mean()\n",
      "C:\\Users\\Kevin\\AppData\\Local\\Temp\\ipykernel_12976\\3288184646.py:85: FutureWarning: The default value of numeric_only in DataFrameGroupBy.std is deprecated. In a future version, numeric_only will default to False. Either specify numeric_only or select only columns which should be valid for the function.\n",
      "  std_type_df = type_df.groupby(roi_col).std()\n"
     ]
    },
    {
     "name": "stdout",
     "output_type": "stream",
     "text": [
      "rois {1} not included out of all rois {1, 2} for type 3\n",
      "rois {2} not included out of all rois {1, 2} for type 11\n",
      "saving excel\n"
     ]
    },
    {
     "name": "stderr",
     "output_type": "stream",
     "text": [
      "Pickle File Processed:   8%|\u001B[31m▊         \u001B[0m| 17/214 [03:24<34:42, 10.57s/it]"
     ]
    },
    {
     "name": "stdout",
     "output_type": "stream",
     "text": [
      "converting pkl to df:\n"
     ]
    },
    {
     "name": "stderr",
     "output_type": "stream",
     "text": [
      "C:\\Users\\Kevin\\AppData\\Local\\Temp\\ipykernel_12976\\3288184646.py:84: FutureWarning: The default value of numeric_only in DataFrameGroupBy.mean is deprecated. In a future version, numeric_only will default to False. Either specify numeric_only or select only columns which should be valid for the function.\n",
      "  avg_type_df = type_df.groupby(roi_col).mean()\n",
      "C:\\Users\\Kevin\\AppData\\Local\\Temp\\ipykernel_12976\\3288184646.py:85: FutureWarning: The default value of numeric_only in DataFrameGroupBy.std is deprecated. In a future version, numeric_only will default to False. Either specify numeric_only or select only columns which should be valid for the function.\n",
      "  std_type_df = type_df.groupby(roi_col).std()\n",
      "C:\\Users\\Kevin\\AppData\\Local\\Temp\\ipykernel_12976\\3288184646.py:84: FutureWarning: The default value of numeric_only in DataFrameGroupBy.mean is deprecated. In a future version, numeric_only will default to False. Either specify numeric_only or select only columns which should be valid for the function.\n",
      "  avg_type_df = type_df.groupby(roi_col).mean()\n",
      "C:\\Users\\Kevin\\AppData\\Local\\Temp\\ipykernel_12976\\3288184646.py:85: FutureWarning: The default value of numeric_only in DataFrameGroupBy.std is deprecated. In a future version, numeric_only will default to False. Either specify numeric_only or select only columns which should be valid for the function.\n",
      "  std_type_df = type_df.groupby(roi_col).std()\n"
     ]
    },
    {
     "name": "stdout",
     "output_type": "stream",
     "text": [
      "rois {1} not included out of all rois {1} for type 3\n",
      "rois {1} not included out of all rois {1} for type 11\n"
     ]
    },
    {
     "name": "stderr",
     "output_type": "stream",
     "text": [
      "C:\\Users\\Kevin\\AppData\\Local\\Temp\\ipykernel_12976\\3288184646.py:84: FutureWarning: The default value of numeric_only in DataFrameGroupBy.mean is deprecated. In a future version, numeric_only will default to False. Either specify numeric_only or select only columns which should be valid for the function.\n",
      "  avg_type_df = type_df.groupby(roi_col).mean()\n",
      "C:\\Users\\Kevin\\AppData\\Local\\Temp\\ipykernel_12976\\3288184646.py:85: FutureWarning: The default value of numeric_only in DataFrameGroupBy.std is deprecated. In a future version, numeric_only will default to False. Either specify numeric_only or select only columns which should be valid for the function.\n",
      "  std_type_df = type_df.groupby(roi_col).std()\n"
     ]
    },
    {
     "name": "stdout",
     "output_type": "stream",
     "text": [
      "saving excel\n"
     ]
    },
    {
     "name": "stderr",
     "output_type": "stream",
     "text": [
      "Pickle File Processed:   8%|\u001B[31m▊         \u001B[0m| 18/214 [03:28<28:35,  8.75s/it]"
     ]
    },
    {
     "name": "stdout",
     "output_type": "stream",
     "text": [
      "converting pkl to df:\n"
     ]
    },
    {
     "name": "stderr",
     "output_type": "stream",
     "text": [
      "C:\\Users\\Kevin\\AppData\\Local\\Temp\\ipykernel_12976\\3288184646.py:84: FutureWarning: The default value of numeric_only in DataFrameGroupBy.mean is deprecated. In a future version, numeric_only will default to False. Either specify numeric_only or select only columns which should be valid for the function.\n",
      "  avg_type_df = type_df.groupby(roi_col).mean()\n",
      "C:\\Users\\Kevin\\AppData\\Local\\Temp\\ipykernel_12976\\3288184646.py:85: FutureWarning: The default value of numeric_only in DataFrameGroupBy.std is deprecated. In a future version, numeric_only will default to False. Either specify numeric_only or select only columns which should be valid for the function.\n",
      "  std_type_df = type_df.groupby(roi_col).std()\n",
      "C:\\Users\\Kevin\\AppData\\Local\\Temp\\ipykernel_12976\\3288184646.py:84: FutureWarning: The default value of numeric_only in DataFrameGroupBy.mean is deprecated. In a future version, numeric_only will default to False. Either specify numeric_only or select only columns which should be valid for the function.\n",
      "  avg_type_df = type_df.groupby(roi_col).mean()\n",
      "C:\\Users\\Kevin\\AppData\\Local\\Temp\\ipykernel_12976\\3288184646.py:85: FutureWarning: The default value of numeric_only in DataFrameGroupBy.std is deprecated. In a future version, numeric_only will default to False. Either specify numeric_only or select only columns which should be valid for the function.\n",
      "  std_type_df = type_df.groupby(roi_col).std()\n"
     ]
    },
    {
     "name": "stdout",
     "output_type": "stream",
     "text": [
      "rois {1} not included out of all rois {1} for type 3\n",
      "saving excel\n"
     ]
    },
    {
     "name": "stderr",
     "output_type": "stream",
     "text": [
      "Pickle File Processed:   9%|\u001B[31m▉         \u001B[0m| 19/214 [03:38<29:18,  9.02s/it]"
     ]
    },
    {
     "name": "stdout",
     "output_type": "stream",
     "text": [
      "converting pkl to df:\n"
     ]
    },
    {
     "name": "stderr",
     "output_type": "stream",
     "text": [
      "C:\\Users\\Kevin\\AppData\\Local\\Temp\\ipykernel_12976\\3288184646.py:84: FutureWarning: The default value of numeric_only in DataFrameGroupBy.mean is deprecated. In a future version, numeric_only will default to False. Either specify numeric_only or select only columns which should be valid for the function.\n",
      "  avg_type_df = type_df.groupby(roi_col).mean()\n",
      "C:\\Users\\Kevin\\AppData\\Local\\Temp\\ipykernel_12976\\3288184646.py:85: FutureWarning: The default value of numeric_only in DataFrameGroupBy.std is deprecated. In a future version, numeric_only will default to False. Either specify numeric_only or select only columns which should be valid for the function.\n",
      "  std_type_df = type_df.groupby(roi_col).std()\n"
     ]
    },
    {
     "name": "stdout",
     "output_type": "stream",
     "text": [
      "rois {1} not included out of all rois {1} for type 11\n"
     ]
    },
    {
     "name": "stderr",
     "output_type": "stream",
     "text": [
      "C:\\Users\\Kevin\\AppData\\Local\\Temp\\ipykernel_12976\\3288184646.py:84: FutureWarning: The default value of numeric_only in DataFrameGroupBy.mean is deprecated. In a future version, numeric_only will default to False. Either specify numeric_only or select only columns which should be valid for the function.\n",
      "  avg_type_df = type_df.groupby(roi_col).mean()\n",
      "C:\\Users\\Kevin\\AppData\\Local\\Temp\\ipykernel_12976\\3288184646.py:85: FutureWarning: The default value of numeric_only in DataFrameGroupBy.std is deprecated. In a future version, numeric_only will default to False. Either specify numeric_only or select only columns which should be valid for the function.\n",
      "  std_type_df = type_df.groupby(roi_col).std()\n"
     ]
    },
    {
     "name": "stdout",
     "output_type": "stream",
     "text": [
      "saving excel\n"
     ]
    },
    {
     "name": "stderr",
     "output_type": "stream",
     "text": [
      "Pickle File Processed:   9%|\u001B[31m▉         \u001B[0m| 20/214 [03:44<26:06,  8.07s/it]"
     ]
    },
    {
     "name": "stdout",
     "output_type": "stream",
     "text": [
      "converting pkl to df:\n"
     ]
    },
    {
     "name": "stderr",
     "output_type": "stream",
     "text": [
      "C:\\Users\\Kevin\\AppData\\Local\\Temp\\ipykernel_12976\\3288184646.py:84: FutureWarning: The default value of numeric_only in DataFrameGroupBy.mean is deprecated. In a future version, numeric_only will default to False. Either specify numeric_only or select only columns which should be valid for the function.\n",
      "  avg_type_df = type_df.groupby(roi_col).mean()\n",
      "C:\\Users\\Kevin\\AppData\\Local\\Temp\\ipykernel_12976\\3288184646.py:85: FutureWarning: The default value of numeric_only in DataFrameGroupBy.std is deprecated. In a future version, numeric_only will default to False. Either specify numeric_only or select only columns which should be valid for the function.\n",
      "  std_type_df = type_df.groupby(roi_col).std()\n"
     ]
    },
    {
     "name": "stdout",
     "output_type": "stream",
     "text": [
      "saving excel\n"
     ]
    },
    {
     "name": "stderr",
     "output_type": "stream",
     "text": [
      "Pickle File Processed:  10%|\u001B[31m▉         \u001B[0m| 21/214 [03:57<30:22,  9.44s/it]"
     ]
    },
    {
     "name": "stdout",
     "output_type": "stream",
     "text": [
      "converting pkl to df:\n"
     ]
    },
    {
     "name": "stderr",
     "output_type": "stream",
     "text": [
      "C:\\Users\\Kevin\\AppData\\Local\\Temp\\ipykernel_12976\\3288184646.py:84: FutureWarning: The default value of numeric_only in DataFrameGroupBy.mean is deprecated. In a future version, numeric_only will default to False. Either specify numeric_only or select only columns which should be valid for the function.\n",
      "  avg_type_df = type_df.groupby(roi_col).mean()\n",
      "C:\\Users\\Kevin\\AppData\\Local\\Temp\\ipykernel_12976\\3288184646.py:85: FutureWarning: The default value of numeric_only in DataFrameGroupBy.std is deprecated. In a future version, numeric_only will default to False. Either specify numeric_only or select only columns which should be valid for the function.\n",
      "  std_type_df = type_df.groupby(roi_col).std()\n"
     ]
    },
    {
     "name": "stdout",
     "output_type": "stream",
     "text": [
      "saving excel\n"
     ]
    },
    {
     "name": "stderr",
     "output_type": "stream",
     "text": [
      "Pickle File Processed:  10%|\u001B[31m█         \u001B[0m| 22/214 [04:06<30:12,  9.44s/it]"
     ]
    },
    {
     "name": "stdout",
     "output_type": "stream",
     "text": [
      "converting pkl to df:\n"
     ]
    },
    {
     "name": "stderr",
     "output_type": "stream",
     "text": [
      "C:\\Users\\Kevin\\AppData\\Local\\Temp\\ipykernel_12976\\3288184646.py:84: FutureWarning: The default value of numeric_only in DataFrameGroupBy.mean is deprecated. In a future version, numeric_only will default to False. Either specify numeric_only or select only columns which should be valid for the function.\n",
      "  avg_type_df = type_df.groupby(roi_col).mean()\n",
      "C:\\Users\\Kevin\\AppData\\Local\\Temp\\ipykernel_12976\\3288184646.py:85: FutureWarning: The default value of numeric_only in DataFrameGroupBy.std is deprecated. In a future version, numeric_only will default to False. Either specify numeric_only or select only columns which should be valid for the function.\n",
      "  std_type_df = type_df.groupby(roi_col).std()\n"
     ]
    },
    {
     "name": "stdout",
     "output_type": "stream",
     "text": [
      "rois {2} not included out of all rois {1, 2} for type 6\n",
      "saving excel\n"
     ]
    },
    {
     "name": "stderr",
     "output_type": "stream",
     "text": [
      "Pickle File Processed:  11%|\u001B[31m█         \u001B[0m| 23/214 [04:29<43:02, 13.52s/it]"
     ]
    },
    {
     "name": "stdout",
     "output_type": "stream",
     "text": [
      "converting pkl to df:\n"
     ]
    },
    {
     "name": "stderr",
     "output_type": "stream",
     "text": [
      "C:\\Users\\Kevin\\AppData\\Local\\Temp\\ipykernel_12976\\3288184646.py:84: FutureWarning: The default value of numeric_only in DataFrameGroupBy.mean is deprecated. In a future version, numeric_only will default to False. Either specify numeric_only or select only columns which should be valid for the function.\n",
      "  avg_type_df = type_df.groupby(roi_col).mean()\n",
      "C:\\Users\\Kevin\\AppData\\Local\\Temp\\ipykernel_12976\\3288184646.py:85: FutureWarning: The default value of numeric_only in DataFrameGroupBy.std is deprecated. In a future version, numeric_only will default to False. Either specify numeric_only or select only columns which should be valid for the function.\n",
      "  std_type_df = type_df.groupby(roi_col).std()\n",
      "C:\\Users\\Kevin\\AppData\\Local\\Temp\\ipykernel_12976\\3288184646.py:84: FutureWarning: The default value of numeric_only in DataFrameGroupBy.mean is deprecated. In a future version, numeric_only will default to False. Either specify numeric_only or select only columns which should be valid for the function.\n",
      "  avg_type_df = type_df.groupby(roi_col).mean()\n",
      "C:\\Users\\Kevin\\AppData\\Local\\Temp\\ipykernel_12976\\3288184646.py:85: FutureWarning: The default value of numeric_only in DataFrameGroupBy.std is deprecated. In a future version, numeric_only will default to False. Either specify numeric_only or select only columns which should be valid for the function.\n",
      "  std_type_df = type_df.groupby(roi_col).std()\n"
     ]
    },
    {
     "name": "stdout",
     "output_type": "stream",
     "text": [
      "rois {1, 2, 3} not included out of all rois {1, 2, 3} for type 3\n",
      "rois {1, 2} not included out of all rois {1, 2, 3} for type 4\n",
      "rois {1, 2, 3} not included out of all rois {1, 2, 3} for type 11\n"
     ]
    },
    {
     "name": "stderr",
     "output_type": "stream",
     "text": [
      "C:\\Users\\Kevin\\AppData\\Local\\Temp\\ipykernel_12976\\3288184646.py:84: FutureWarning: The default value of numeric_only in DataFrameGroupBy.mean is deprecated. In a future version, numeric_only will default to False. Either specify numeric_only or select only columns which should be valid for the function.\n",
      "  avg_type_df = type_df.groupby(roi_col).mean()\n",
      "C:\\Users\\Kevin\\AppData\\Local\\Temp\\ipykernel_12976\\3288184646.py:85: FutureWarning: The default value of numeric_only in DataFrameGroupBy.std is deprecated. In a future version, numeric_only will default to False. Either specify numeric_only or select only columns which should be valid for the function.\n",
      "  std_type_df = type_df.groupby(roi_col).std()\n"
     ]
    },
    {
     "name": "stdout",
     "output_type": "stream",
     "text": [
      "saving excel\n"
     ]
    },
    {
     "name": "stderr",
     "output_type": "stream",
     "text": [
      "Pickle File Processed:  11%|\u001B[31m█         \u001B[0m| 24/214 [04:35<35:22, 11.17s/it]"
     ]
    },
    {
     "name": "stdout",
     "output_type": "stream",
     "text": [
      "converting pkl to df:\n"
     ]
    },
    {
     "name": "stderr",
     "output_type": "stream",
     "text": [
      "C:\\Users\\Kevin\\AppData\\Local\\Temp\\ipykernel_12976\\3288184646.py:84: FutureWarning: The default value of numeric_only in DataFrameGroupBy.mean is deprecated. In a future version, numeric_only will default to False. Either specify numeric_only or select only columns which should be valid for the function.\n",
      "  avg_type_df = type_df.groupby(roi_col).mean()\n",
      "C:\\Users\\Kevin\\AppData\\Local\\Temp\\ipykernel_12976\\3288184646.py:85: FutureWarning: The default value of numeric_only in DataFrameGroupBy.std is deprecated. In a future version, numeric_only will default to False. Either specify numeric_only or select only columns which should be valid for the function.\n",
      "  std_type_df = type_df.groupby(roi_col).std()\n"
     ]
    },
    {
     "name": "stdout",
     "output_type": "stream",
     "text": [
      "saving excel\n"
     ]
    },
    {
     "name": "stderr",
     "output_type": "stream",
     "text": [
      "Pickle File Processed:  12%|\u001B[31m█▏        \u001B[0m| 25/214 [04:42<31:44, 10.08s/it]"
     ]
    },
    {
     "name": "stdout",
     "output_type": "stream",
     "text": [
      "converting pkl to df:\n"
     ]
    },
    {
     "name": "stderr",
     "output_type": "stream",
     "text": [
      "C:\\Users\\Kevin\\AppData\\Local\\Temp\\ipykernel_12976\\3288184646.py:84: FutureWarning: The default value of numeric_only in DataFrameGroupBy.mean is deprecated. In a future version, numeric_only will default to False. Either specify numeric_only or select only columns which should be valid for the function.\n",
      "  avg_type_df = type_df.groupby(roi_col).mean()\n",
      "C:\\Users\\Kevin\\AppData\\Local\\Temp\\ipykernel_12976\\3288184646.py:85: FutureWarning: The default value of numeric_only in DataFrameGroupBy.std is deprecated. In a future version, numeric_only will default to False. Either specify numeric_only or select only columns which should be valid for the function.\n",
      "  std_type_df = type_df.groupby(roi_col).std()\n"
     ]
    },
    {
     "name": "stdout",
     "output_type": "stream",
     "text": [
      "rois {1} not included out of all rois {1, 2} for type 3\n",
      "rois {1} not included out of all rois {1, 2} for type 4\n",
      "saving excel\n"
     ]
    },
    {
     "name": "stderr",
     "output_type": "stream",
     "text": [
      "Pickle File Processed:  12%|\u001B[31m█▏        \u001B[0m| 26/214 [04:49<27:58,  8.93s/it]"
     ]
    },
    {
     "name": "stdout",
     "output_type": "stream",
     "text": [
      "converting pkl to df:\n"
     ]
    },
    {
     "name": "stderr",
     "output_type": "stream",
     "text": [
      "C:\\Users\\Kevin\\AppData\\Local\\Temp\\ipykernel_12976\\3288184646.py:84: FutureWarning: The default value of numeric_only in DataFrameGroupBy.mean is deprecated. In a future version, numeric_only will default to False. Either specify numeric_only or select only columns which should be valid for the function.\n",
      "  avg_type_df = type_df.groupby(roi_col).mean()\n",
      "C:\\Users\\Kevin\\AppData\\Local\\Temp\\ipykernel_12976\\3288184646.py:85: FutureWarning: The default value of numeric_only in DataFrameGroupBy.std is deprecated. In a future version, numeric_only will default to False. Either specify numeric_only or select only columns which should be valid for the function.\n",
      "  std_type_df = type_df.groupby(roi_col).std()\n"
     ]
    },
    {
     "name": "stdout",
     "output_type": "stream",
     "text": [
      "saving excel\n"
     ]
    },
    {
     "name": "stderr",
     "output_type": "stream",
     "text": [
      "Pickle File Processed:  13%|\u001B[31m█▎        \u001B[0m| 27/214 [05:14<42:56, 13.78s/it]"
     ]
    },
    {
     "name": "stdout",
     "output_type": "stream",
     "text": [
      "converting pkl to df:\n"
     ]
    },
    {
     "name": "stderr",
     "output_type": "stream",
     "text": [
      "C:\\Users\\Kevin\\AppData\\Local\\Temp\\ipykernel_12976\\3288184646.py:84: FutureWarning: The default value of numeric_only in DataFrameGroupBy.mean is deprecated. In a future version, numeric_only will default to False. Either specify numeric_only or select only columns which should be valid for the function.\n",
      "  avg_type_df = type_df.groupby(roi_col).mean()\n",
      "C:\\Users\\Kevin\\AppData\\Local\\Temp\\ipykernel_12976\\3288184646.py:85: FutureWarning: The default value of numeric_only in DataFrameGroupBy.std is deprecated. In a future version, numeric_only will default to False. Either specify numeric_only or select only columns which should be valid for the function.\n",
      "  std_type_df = type_df.groupby(roi_col).std()\n"
     ]
    },
    {
     "name": "stdout",
     "output_type": "stream",
     "text": [
      "rois {1} not included out of all rois {1, 2, 3} for type 3\n",
      "saving excel\n"
     ]
    },
    {
     "name": "stderr",
     "output_type": "stream",
     "text": [
      "Pickle File Processed:  13%|\u001B[31m█▎        \u001B[0m| 28/214 [05:33<48:13, 15.56s/it]"
     ]
    },
    {
     "name": "stdout",
     "output_type": "stream",
     "text": [
      "converting pkl to df:\n"
     ]
    },
    {
     "name": "stderr",
     "output_type": "stream",
     "text": [
      "C:\\Users\\Kevin\\AppData\\Local\\Temp\\ipykernel_12976\\3288184646.py:84: FutureWarning: The default value of numeric_only in DataFrameGroupBy.mean is deprecated. In a future version, numeric_only will default to False. Either specify numeric_only or select only columns which should be valid for the function.\n",
      "  avg_type_df = type_df.groupby(roi_col).mean()\n",
      "C:\\Users\\Kevin\\AppData\\Local\\Temp\\ipykernel_12976\\3288184646.py:85: FutureWarning: The default value of numeric_only in DataFrameGroupBy.std is deprecated. In a future version, numeric_only will default to False. Either specify numeric_only or select only columns which should be valid for the function.\n",
      "  std_type_df = type_df.groupby(roi_col).std()\n"
     ]
    },
    {
     "name": "stdout",
     "output_type": "stream",
     "text": [
      "saving excel\n"
     ]
    },
    {
     "name": "stderr",
     "output_type": "stream",
     "text": [
      "Pickle File Processed:  14%|\u001B[31m█▎        \u001B[0m| 29/214 [05:48<47:16, 15.33s/it]"
     ]
    },
    {
     "name": "stdout",
     "output_type": "stream",
     "text": [
      "converting pkl to df:\n"
     ]
    },
    {
     "name": "stderr",
     "output_type": "stream",
     "text": [
      "C:\\Users\\Kevin\\AppData\\Local\\Temp\\ipykernel_12976\\3288184646.py:84: FutureWarning: The default value of numeric_only in DataFrameGroupBy.mean is deprecated. In a future version, numeric_only will default to False. Either specify numeric_only or select only columns which should be valid for the function.\n",
      "  avg_type_df = type_df.groupby(roi_col).mean()\n",
      "C:\\Users\\Kevin\\AppData\\Local\\Temp\\ipykernel_12976\\3288184646.py:85: FutureWarning: The default value of numeric_only in DataFrameGroupBy.std is deprecated. In a future version, numeric_only will default to False. Either specify numeric_only or select only columns which should be valid for the function.\n",
      "  std_type_df = type_df.groupby(roi_col).std()\n"
     ]
    },
    {
     "name": "stdout",
     "output_type": "stream",
     "text": [
      "saving excel\n"
     ]
    },
    {
     "name": "stderr",
     "output_type": "stream",
     "text": [
      "Pickle File Processed:  14%|\u001B[31m█▍        \u001B[0m| 30/214 [06:04<47:20, 15.44s/it]"
     ]
    },
    {
     "name": "stdout",
     "output_type": "stream",
     "text": [
      "converting pkl to df:\n"
     ]
    },
    {
     "name": "stderr",
     "output_type": "stream",
     "text": [
      "C:\\Users\\Kevin\\AppData\\Local\\Temp\\ipykernel_12976\\3288184646.py:84: FutureWarning: The default value of numeric_only in DataFrameGroupBy.mean is deprecated. In a future version, numeric_only will default to False. Either specify numeric_only or select only columns which should be valid for the function.\n",
      "  avg_type_df = type_df.groupby(roi_col).mean()\n",
      "C:\\Users\\Kevin\\AppData\\Local\\Temp\\ipykernel_12976\\3288184646.py:85: FutureWarning: The default value of numeric_only in DataFrameGroupBy.std is deprecated. In a future version, numeric_only will default to False. Either specify numeric_only or select only columns which should be valid for the function.\n",
      "  std_type_df = type_df.groupby(roi_col).std()\n"
     ]
    },
    {
     "name": "stdout",
     "output_type": "stream",
     "text": [
      "saving excel\n"
     ]
    },
    {
     "name": "stderr",
     "output_type": "stream",
     "text": [
      "Pickle File Processed:  14%|\u001B[31m█▍        \u001B[0m| 31/214 [06:07<35:51, 11.76s/it]"
     ]
    },
    {
     "name": "stdout",
     "output_type": "stream",
     "text": [
      "converting pkl to df:\n"
     ]
    },
    {
     "name": "stderr",
     "output_type": "stream",
     "text": [
      "C:\\Users\\Kevin\\AppData\\Local\\Temp\\ipykernel_12976\\3288184646.py:84: FutureWarning: The default value of numeric_only in DataFrameGroupBy.mean is deprecated. In a future version, numeric_only will default to False. Either specify numeric_only or select only columns which should be valid for the function.\n",
      "  avg_type_df = type_df.groupby(roi_col).mean()\n",
      "C:\\Users\\Kevin\\AppData\\Local\\Temp\\ipykernel_12976\\3288184646.py:85: FutureWarning: The default value of numeric_only in DataFrameGroupBy.std is deprecated. In a future version, numeric_only will default to False. Either specify numeric_only or select only columns which should be valid for the function.\n",
      "  std_type_df = type_df.groupby(roi_col).std()\n"
     ]
    },
    {
     "name": "stdout",
     "output_type": "stream",
     "text": [
      "rois {2} not included out of all rois {1, 2, 3} for type 3\n",
      "rois {1} not included out of all rois {1, 2, 3} for type 6\n",
      "saving excel\n"
     ]
    },
    {
     "name": "stderr",
     "output_type": "stream",
     "text": [
      "Pickle File Processed:  15%|\u001B[31m█▍        \u001B[0m| 32/214 [06:28<44:14, 14.59s/it]"
     ]
    },
    {
     "name": "stdout",
     "output_type": "stream",
     "text": [
      "converting pkl to df:\n"
     ]
    },
    {
     "name": "stderr",
     "output_type": "stream",
     "text": [
      "C:\\Users\\Kevin\\AppData\\Local\\Temp\\ipykernel_12976\\3288184646.py:84: FutureWarning: The default value of numeric_only in DataFrameGroupBy.mean is deprecated. In a future version, numeric_only will default to False. Either specify numeric_only or select only columns which should be valid for the function.\n",
      "  avg_type_df = type_df.groupby(roi_col).mean()\n",
      "C:\\Users\\Kevin\\AppData\\Local\\Temp\\ipykernel_12976\\3288184646.py:85: FutureWarning: The default value of numeric_only in DataFrameGroupBy.std is deprecated. In a future version, numeric_only will default to False. Either specify numeric_only or select only columns which should be valid for the function.\n",
      "  std_type_df = type_df.groupby(roi_col).std()\n"
     ]
    },
    {
     "name": "stdout",
     "output_type": "stream",
     "text": [
      "rois {1} not included out of all rois {1, 2, 3} for type 3\n",
      "rois {3} not included out of all rois {1, 2, 3} for type 6\n",
      "saving excel\n"
     ]
    },
    {
     "name": "stderr",
     "output_type": "stream",
     "text": [
      "Pickle File Processed:  15%|\u001B[31m█▌        \u001B[0m| 33/214 [06:42<43:25, 14.39s/it]"
     ]
    },
    {
     "name": "stdout",
     "output_type": "stream",
     "text": [
      "converting pkl to df:\n"
     ]
    },
    {
     "name": "stderr",
     "output_type": "stream",
     "text": [
      "C:\\Users\\Kevin\\AppData\\Local\\Temp\\ipykernel_12976\\3288184646.py:84: FutureWarning: The default value of numeric_only in DataFrameGroupBy.mean is deprecated. In a future version, numeric_only will default to False. Either specify numeric_only or select only columns which should be valid for the function.\n",
      "  avg_type_df = type_df.groupby(roi_col).mean()\n",
      "C:\\Users\\Kevin\\AppData\\Local\\Temp\\ipykernel_12976\\3288184646.py:85: FutureWarning: The default value of numeric_only in DataFrameGroupBy.std is deprecated. In a future version, numeric_only will default to False. Either specify numeric_only or select only columns which should be valid for the function.\n",
      "  std_type_df = type_df.groupby(roi_col).std()\n"
     ]
    },
    {
     "name": "stdout",
     "output_type": "stream",
     "text": [
      "saving excel\n"
     ]
    },
    {
     "name": "stderr",
     "output_type": "stream",
     "text": [
      "Pickle File Processed:  16%|\u001B[31m█▌        \u001B[0m| 34/214 [06:50<37:02, 12.34s/it]"
     ]
    },
    {
     "name": "stdout",
     "output_type": "stream",
     "text": [
      "converting pkl to df:\n"
     ]
    },
    {
     "name": "stderr",
     "output_type": "stream",
     "text": [
      "C:\\Users\\Kevin\\AppData\\Local\\Temp\\ipykernel_12976\\3288184646.py:84: FutureWarning: The default value of numeric_only in DataFrameGroupBy.mean is deprecated. In a future version, numeric_only will default to False. Either specify numeric_only or select only columns which should be valid for the function.\n",
      "  avg_type_df = type_df.groupby(roi_col).mean()\n",
      "C:\\Users\\Kevin\\AppData\\Local\\Temp\\ipykernel_12976\\3288184646.py:85: FutureWarning: The default value of numeric_only in DataFrameGroupBy.std is deprecated. In a future version, numeric_only will default to False. Either specify numeric_only or select only columns which should be valid for the function.\n",
      "  std_type_df = type_df.groupby(roi_col).std()\n"
     ]
    },
    {
     "name": "stdout",
     "output_type": "stream",
     "text": [
      "saving excel\n"
     ]
    },
    {
     "name": "stderr",
     "output_type": "stream",
     "text": [
      "Pickle File Processed:  16%|\u001B[31m█▋        \u001B[0m| 35/214 [06:55<30:31, 10.23s/it]"
     ]
    },
    {
     "name": "stdout",
     "output_type": "stream",
     "text": [
      "converting pkl to df:\n"
     ]
    },
    {
     "name": "stderr",
     "output_type": "stream",
     "text": [
      "C:\\Users\\Kevin\\AppData\\Local\\Temp\\ipykernel_12976\\3288184646.py:84: FutureWarning: The default value of numeric_only in DataFrameGroupBy.mean is deprecated. In a future version, numeric_only will default to False. Either specify numeric_only or select only columns which should be valid for the function.\n",
      "  avg_type_df = type_df.groupby(roi_col).mean()\n",
      "C:\\Users\\Kevin\\AppData\\Local\\Temp\\ipykernel_12976\\3288184646.py:85: FutureWarning: The default value of numeric_only in DataFrameGroupBy.std is deprecated. In a future version, numeric_only will default to False. Either specify numeric_only or select only columns which should be valid for the function.\n",
      "  std_type_df = type_df.groupby(roi_col).std()\n"
     ]
    },
    {
     "name": "stdout",
     "output_type": "stream",
     "text": [
      "rois {2} not included out of all rois {1, 2, 3, 4} for type 3\n",
      "rois {4} not included out of all rois {1, 2, 3, 4} for type 11\n",
      "saving excel\n"
     ]
    },
    {
     "name": "stderr",
     "output_type": "stream",
     "text": [
      "Pickle File Processed:  17%|\u001B[31m█▋        \u001B[0m| 36/214 [07:11<35:26, 11.95s/it]"
     ]
    },
    {
     "name": "stdout",
     "output_type": "stream",
     "text": [
      "converting pkl to df:\n"
     ]
    },
    {
     "name": "stderr",
     "output_type": "stream",
     "text": [
      "C:\\Users\\Kevin\\AppData\\Local\\Temp\\ipykernel_12976\\3288184646.py:84: FutureWarning: The default value of numeric_only in DataFrameGroupBy.mean is deprecated. In a future version, numeric_only will default to False. Either specify numeric_only or select only columns which should be valid for the function.\n",
      "  avg_type_df = type_df.groupby(roi_col).mean()\n",
      "C:\\Users\\Kevin\\AppData\\Local\\Temp\\ipykernel_12976\\3288184646.py:85: FutureWarning: The default value of numeric_only in DataFrameGroupBy.std is deprecated. In a future version, numeric_only will default to False. Either specify numeric_only or select only columns which should be valid for the function.\n",
      "  std_type_df = type_df.groupby(roi_col).std()\n"
     ]
    },
    {
     "name": "stdout",
     "output_type": "stream",
     "text": [
      "saving excel\n"
     ]
    },
    {
     "name": "stderr",
     "output_type": "stream",
     "text": [
      "Pickle File Processed:  17%|\u001B[31m█▋        \u001B[0m| 37/214 [07:21<33:57, 11.51s/it]"
     ]
    },
    {
     "name": "stdout",
     "output_type": "stream",
     "text": [
      "converting pkl to df:\n"
     ]
    },
    {
     "name": "stderr",
     "output_type": "stream",
     "text": [
      "C:\\Users\\Kevin\\AppData\\Local\\Temp\\ipykernel_12976\\3288184646.py:84: FutureWarning: The default value of numeric_only in DataFrameGroupBy.mean is deprecated. In a future version, numeric_only will default to False. Either specify numeric_only or select only columns which should be valid for the function.\n",
      "  avg_type_df = type_df.groupby(roi_col).mean()\n",
      "C:\\Users\\Kevin\\AppData\\Local\\Temp\\ipykernel_12976\\3288184646.py:85: FutureWarning: The default value of numeric_only in DataFrameGroupBy.std is deprecated. In a future version, numeric_only will default to False. Either specify numeric_only or select only columns which should be valid for the function.\n",
      "  std_type_df = type_df.groupby(roi_col).std()\n",
      "C:\\Users\\Kevin\\AppData\\Local\\Temp\\ipykernel_12976\\3288184646.py:84: FutureWarning: The default value of numeric_only in DataFrameGroupBy.mean is deprecated. In a future version, numeric_only will default to False. Either specify numeric_only or select only columns which should be valid for the function.\n",
      "  avg_type_df = type_df.groupby(roi_col).mean()\n",
      "C:\\Users\\Kevin\\AppData\\Local\\Temp\\ipykernel_12976\\3288184646.py:85: FutureWarning: The default value of numeric_only in DataFrameGroupBy.std is deprecated. In a future version, numeric_only will default to False. Either specify numeric_only or select only columns which should be valid for the function.\n",
      "  std_type_df = type_df.groupby(roi_col).std()\n",
      "C:\\Users\\Kevin\\AppData\\Local\\Temp\\ipykernel_12976\\3288184646.py:84: FutureWarning: The default value of numeric_only in DataFrameGroupBy.mean is deprecated. In a future version, numeric_only will default to False. Either specify numeric_only or select only columns which should be valid for the function.\n",
      "  avg_type_df = type_df.groupby(roi_col).mean()\n",
      "C:\\Users\\Kevin\\AppData\\Local\\Temp\\ipykernel_12976\\3288184646.py:85: FutureWarning: The default value of numeric_only in DataFrameGroupBy.std is deprecated. In a future version, numeric_only will default to False. Either specify numeric_only or select only columns which should be valid for the function.\n",
      "  std_type_df = type_df.groupby(roi_col).std()\n"
     ]
    },
    {
     "name": "stdout",
     "output_type": "stream",
     "text": [
      "rois {1} not included out of all rois {1} for type 3\n",
      "rois {1} not included out of all rois {1} for type 4\n",
      "saving excel\n"
     ]
    },
    {
     "name": "stderr",
     "output_type": "stream",
     "text": [
      "Pickle File Processed:  18%|\u001B[31m█▊        \u001B[0m| 38/214 [07:25<26:54,  9.17s/it]"
     ]
    },
    {
     "name": "stdout",
     "output_type": "stream",
     "text": [
      "converting pkl to df:\n"
     ]
    },
    {
     "name": "stderr",
     "output_type": "stream",
     "text": [
      "C:\\Users\\Kevin\\AppData\\Local\\Temp\\ipykernel_12976\\3288184646.py:84: FutureWarning: The default value of numeric_only in DataFrameGroupBy.mean is deprecated. In a future version, numeric_only will default to False. Either specify numeric_only or select only columns which should be valid for the function.\n",
      "  avg_type_df = type_df.groupby(roi_col).mean()\n",
      "C:\\Users\\Kevin\\AppData\\Local\\Temp\\ipykernel_12976\\3288184646.py:85: FutureWarning: The default value of numeric_only in DataFrameGroupBy.std is deprecated. In a future version, numeric_only will default to False. Either specify numeric_only or select only columns which should be valid for the function.\n",
      "  std_type_df = type_df.groupby(roi_col).std()\n"
     ]
    },
    {
     "name": "stdout",
     "output_type": "stream",
     "text": [
      "rois {3} not included out of all rois {1, 2, 3, 4} for type 3\n",
      "saving excel\n"
     ]
    },
    {
     "name": "stderr",
     "output_type": "stream",
     "text": [
      "Pickle File Processed:  18%|\u001B[31m█▊        \u001B[0m| 39/214 [07:58<47:28, 16.28s/it]"
     ]
    },
    {
     "name": "stdout",
     "output_type": "stream",
     "text": [
      "converting pkl to df:\n"
     ]
    },
    {
     "name": "stderr",
     "output_type": "stream",
     "text": [
      "C:\\Users\\Kevin\\AppData\\Local\\Temp\\ipykernel_12976\\3288184646.py:84: FutureWarning: The default value of numeric_only in DataFrameGroupBy.mean is deprecated. In a future version, numeric_only will default to False. Either specify numeric_only or select only columns which should be valid for the function.\n",
      "  avg_type_df = type_df.groupby(roi_col).mean()\n",
      "C:\\Users\\Kevin\\AppData\\Local\\Temp\\ipykernel_12976\\3288184646.py:85: FutureWarning: The default value of numeric_only in DataFrameGroupBy.std is deprecated. In a future version, numeric_only will default to False. Either specify numeric_only or select only columns which should be valid for the function.\n",
      "  std_type_df = type_df.groupby(roi_col).std()\n",
      "C:\\Users\\Kevin\\AppData\\Local\\Temp\\ipykernel_12976\\3288184646.py:84: FutureWarning: The default value of numeric_only in DataFrameGroupBy.mean is deprecated. In a future version, numeric_only will default to False. Either specify numeric_only or select only columns which should be valid for the function.\n",
      "  avg_type_df = type_df.groupby(roi_col).mean()\n",
      "C:\\Users\\Kevin\\AppData\\Local\\Temp\\ipykernel_12976\\3288184646.py:85: FutureWarning: The default value of numeric_only in DataFrameGroupBy.std is deprecated. In a future version, numeric_only will default to False. Either specify numeric_only or select only columns which should be valid for the function.\n",
      "  std_type_df = type_df.groupby(roi_col).std()\n"
     ]
    },
    {
     "name": "stdout",
     "output_type": "stream",
     "text": [
      "rois {1} not included out of all rois {1} for type 3\n",
      "saving excel\n"
     ]
    },
    {
     "name": "stderr",
     "output_type": "stream",
     "text": [
      "Pickle File Processed:  19%|\u001B[31m█▊        \u001B[0m| 40/214 [08:02<36:11, 12.48s/it]"
     ]
    },
    {
     "name": "stdout",
     "output_type": "stream",
     "text": [
      "converting pkl to df:\n"
     ]
    },
    {
     "name": "stderr",
     "output_type": "stream",
     "text": [
      "C:\\Users\\Kevin\\AppData\\Local\\Temp\\ipykernel_12976\\3288184646.py:84: FutureWarning: The default value of numeric_only in DataFrameGroupBy.mean is deprecated. In a future version, numeric_only will default to False. Either specify numeric_only or select only columns which should be valid for the function.\n",
      "  avg_type_df = type_df.groupby(roi_col).mean()\n",
      "C:\\Users\\Kevin\\AppData\\Local\\Temp\\ipykernel_12976\\3288184646.py:85: FutureWarning: The default value of numeric_only in DataFrameGroupBy.std is deprecated. In a future version, numeric_only will default to False. Either specify numeric_only or select only columns which should be valid for the function.\n",
      "  std_type_df = type_df.groupby(roi_col).std()\n"
     ]
    },
    {
     "name": "stdout",
     "output_type": "stream",
     "text": [
      "rois {2} not included out of all rois {1, 2} for type 3\n",
      "rois {2} not included out of all rois {1, 2} for type 11\n",
      "saving excel\n"
     ]
    },
    {
     "name": "stderr",
     "output_type": "stream",
     "text": [
      "Pickle File Processed:  19%|\u001B[31m█▉        \u001B[0m| 41/214 [08:12<34:16, 11.88s/it]"
     ]
    },
    {
     "name": "stdout",
     "output_type": "stream",
     "text": [
      "converting pkl to df:\n"
     ]
    },
    {
     "name": "stderr",
     "output_type": "stream",
     "text": [
      "C:\\Users\\Kevin\\AppData\\Local\\Temp\\ipykernel_12976\\3288184646.py:84: FutureWarning: The default value of numeric_only in DataFrameGroupBy.mean is deprecated. In a future version, numeric_only will default to False. Either specify numeric_only or select only columns which should be valid for the function.\n",
      "  avg_type_df = type_df.groupby(roi_col).mean()\n",
      "C:\\Users\\Kevin\\AppData\\Local\\Temp\\ipykernel_12976\\3288184646.py:85: FutureWarning: The default value of numeric_only in DataFrameGroupBy.std is deprecated. In a future version, numeric_only will default to False. Either specify numeric_only or select only columns which should be valid for the function.\n",
      "  std_type_df = type_df.groupby(roi_col).std()\n",
      "C:\\Users\\Kevin\\AppData\\Local\\Temp\\ipykernel_12976\\3288184646.py:84: FutureWarning: The default value of numeric_only in DataFrameGroupBy.mean is deprecated. In a future version, numeric_only will default to False. Either specify numeric_only or select only columns which should be valid for the function.\n",
      "  avg_type_df = type_df.groupby(roi_col).mean()\n",
      "C:\\Users\\Kevin\\AppData\\Local\\Temp\\ipykernel_12976\\3288184646.py:85: FutureWarning: The default value of numeric_only in DataFrameGroupBy.std is deprecated. In a future version, numeric_only will default to False. Either specify numeric_only or select only columns which should be valid for the function.\n",
      "  std_type_df = type_df.groupby(roi_col).std()\n"
     ]
    },
    {
     "name": "stdout",
     "output_type": "stream",
     "text": [
      "rois {1, 2} not included out of all rois {1, 2} for type 3\n",
      "rois {1} not included out of all rois {1, 2} for type 4\n",
      "rois {1, 2} not included out of all rois {1, 2} for type 11\n"
     ]
    },
    {
     "name": "stderr",
     "output_type": "stream",
     "text": [
      "C:\\Users\\Kevin\\AppData\\Local\\Temp\\ipykernel_12976\\3288184646.py:84: FutureWarning: The default value of numeric_only in DataFrameGroupBy.mean is deprecated. In a future version, numeric_only will default to False. Either specify numeric_only or select only columns which should be valid for the function.\n",
      "  avg_type_df = type_df.groupby(roi_col).mean()\n",
      "C:\\Users\\Kevin\\AppData\\Local\\Temp\\ipykernel_12976\\3288184646.py:85: FutureWarning: The default value of numeric_only in DataFrameGroupBy.std is deprecated. In a future version, numeric_only will default to False. Either specify numeric_only or select only columns which should be valid for the function.\n",
      "  std_type_df = type_df.groupby(roi_col).std()\n"
     ]
    },
    {
     "name": "stdout",
     "output_type": "stream",
     "text": [
      "saving excel\n"
     ]
    },
    {
     "name": "stderr",
     "output_type": "stream",
     "text": [
      "Pickle File Processed:  20%|\u001B[31m█▉        \u001B[0m| 42/214 [08:14<25:40,  8.96s/it]"
     ]
    },
    {
     "name": "stdout",
     "output_type": "stream",
     "text": [
      "converting pkl to df:\n"
     ]
    },
    {
     "name": "stderr",
     "output_type": "stream",
     "text": [
      "C:\\Users\\Kevin\\AppData\\Local\\Temp\\ipykernel_12976\\3288184646.py:84: FutureWarning: The default value of numeric_only in DataFrameGroupBy.mean is deprecated. In a future version, numeric_only will default to False. Either specify numeric_only or select only columns which should be valid for the function.\n",
      "  avg_type_df = type_df.groupby(roi_col).mean()\n",
      "C:\\Users\\Kevin\\AppData\\Local\\Temp\\ipykernel_12976\\3288184646.py:85: FutureWarning: The default value of numeric_only in DataFrameGroupBy.std is deprecated. In a future version, numeric_only will default to False. Either specify numeric_only or select only columns which should be valid for the function.\n",
      "  std_type_df = type_df.groupby(roi_col).std()\n"
     ]
    },
    {
     "name": "stdout",
     "output_type": "stream",
     "text": [
      "rois {1} not included out of all rois {1} for type 11\n",
      "saving excel\n"
     ]
    },
    {
     "name": "stderr",
     "output_type": "stream",
     "text": [
      "C:\\Users\\Kevin\\AppData\\Local\\Temp\\ipykernel_12976\\3288184646.py:84: FutureWarning: The default value of numeric_only in DataFrameGroupBy.mean is deprecated. In a future version, numeric_only will default to False. Either specify numeric_only or select only columns which should be valid for the function.\n",
      "  avg_type_df = type_df.groupby(roi_col).mean()\n",
      "C:\\Users\\Kevin\\AppData\\Local\\Temp\\ipykernel_12976\\3288184646.py:85: FutureWarning: The default value of numeric_only in DataFrameGroupBy.std is deprecated. In a future version, numeric_only will default to False. Either specify numeric_only or select only columns which should be valid for the function.\n",
      "  std_type_df = type_df.groupby(roi_col).std()\n",
      "Pickle File Processed:  20%|\u001B[31m██        \u001B[0m| 43/214 [08:16<19:08,  6.72s/it]"
     ]
    },
    {
     "name": "stdout",
     "output_type": "stream",
     "text": [
      "converting pkl to df:\n"
     ]
    },
    {
     "name": "stderr",
     "output_type": "stream",
     "text": [
      "C:\\Users\\Kevin\\AppData\\Local\\Temp\\ipykernel_12976\\3288184646.py:84: FutureWarning: The default value of numeric_only in DataFrameGroupBy.mean is deprecated. In a future version, numeric_only will default to False. Either specify numeric_only or select only columns which should be valid for the function.\n",
      "  avg_type_df = type_df.groupby(roi_col).mean()\n",
      "C:\\Users\\Kevin\\AppData\\Local\\Temp\\ipykernel_12976\\3288184646.py:85: FutureWarning: The default value of numeric_only in DataFrameGroupBy.std is deprecated. In a future version, numeric_only will default to False. Either specify numeric_only or select only columns which should be valid for the function.\n",
      "  std_type_df = type_df.groupby(roi_col).std()\n",
      "Pickle File Processed:  21%|\u001B[31m██        \u001B[0m| 44/214 [08:21<18:13,  6.43s/it]"
     ]
    },
    {
     "name": "stdout",
     "output_type": "stream",
     "text": [
      "saving excel\n",
      "converting pkl to df:\n"
     ]
    },
    {
     "name": "stderr",
     "output_type": "stream",
     "text": [
      "C:\\Users\\Kevin\\AppData\\Local\\Temp\\ipykernel_12976\\3288184646.py:84: FutureWarning: The default value of numeric_only in DataFrameGroupBy.mean is deprecated. In a future version, numeric_only will default to False. Either specify numeric_only or select only columns which should be valid for the function.\n",
      "  avg_type_df = type_df.groupby(roi_col).mean()\n",
      "C:\\Users\\Kevin\\AppData\\Local\\Temp\\ipykernel_12976\\3288184646.py:85: FutureWarning: The default value of numeric_only in DataFrameGroupBy.std is deprecated. In a future version, numeric_only will default to False. Either specify numeric_only or select only columns which should be valid for the function.\n",
      "  std_type_df = type_df.groupby(roi_col).std()\n"
     ]
    },
    {
     "name": "stdout",
     "output_type": "stream",
     "text": [
      "saving excel\n"
     ]
    },
    {
     "name": "stderr",
     "output_type": "stream",
     "text": [
      "Pickle File Processed:  21%|\u001B[31m██        \u001B[0m| 45/214 [08:31<20:49,  7.39s/it]"
     ]
    },
    {
     "name": "stdout",
     "output_type": "stream",
     "text": [
      "converting pkl to df:\n"
     ]
    },
    {
     "name": "stderr",
     "output_type": "stream",
     "text": [
      "C:\\Users\\Kevin\\AppData\\Local\\Temp\\ipykernel_12976\\3288184646.py:84: FutureWarning: The default value of numeric_only in DataFrameGroupBy.mean is deprecated. In a future version, numeric_only will default to False. Either specify numeric_only or select only columns which should be valid for the function.\n",
      "  avg_type_df = type_df.groupby(roi_col).mean()\n",
      "C:\\Users\\Kevin\\AppData\\Local\\Temp\\ipykernel_12976\\3288184646.py:85: FutureWarning: The default value of numeric_only in DataFrameGroupBy.std is deprecated. In a future version, numeric_only will default to False. Either specify numeric_only or select only columns which should be valid for the function.\n",
      "  std_type_df = type_df.groupby(roi_col).std()\n"
     ]
    },
    {
     "name": "stdout",
     "output_type": "stream",
     "text": [
      "saving excel\n"
     ]
    },
    {
     "name": "stderr",
     "output_type": "stream",
     "text": [
      "Pickle File Processed:  21%|\u001B[31m██▏       \u001B[0m| 46/214 [08:49<29:25, 10.51s/it]"
     ]
    },
    {
     "name": "stdout",
     "output_type": "stream",
     "text": [
      "converting pkl to df:\n"
     ]
    },
    {
     "name": "stderr",
     "output_type": "stream",
     "text": [
      "C:\\Users\\Kevin\\AppData\\Local\\Temp\\ipykernel_12976\\3288184646.py:84: FutureWarning: The default value of numeric_only in DataFrameGroupBy.mean is deprecated. In a future version, numeric_only will default to False. Either specify numeric_only or select only columns which should be valid for the function.\n",
      "  avg_type_df = type_df.groupby(roi_col).mean()\n",
      "C:\\Users\\Kevin\\AppData\\Local\\Temp\\ipykernel_12976\\3288184646.py:85: FutureWarning: The default value of numeric_only in DataFrameGroupBy.std is deprecated. In a future version, numeric_only will default to False. Either specify numeric_only or select only columns which should be valid for the function.\n",
      "  std_type_df = type_df.groupby(roi_col).std()\n"
     ]
    },
    {
     "name": "stdout",
     "output_type": "stream",
     "text": [
      "rois {1, 3} not included out of all rois {1, 2, 3} for type 11\n",
      "saving excel\n"
     ]
    },
    {
     "name": "stderr",
     "output_type": "stream",
     "text": [
      "Pickle File Processed:  22%|\u001B[31m██▏       \u001B[0m| 47/214 [08:59<28:42, 10.31s/it]"
     ]
    },
    {
     "name": "stdout",
     "output_type": "stream",
     "text": [
      "converting pkl to df:\n"
     ]
    },
    {
     "name": "stderr",
     "output_type": "stream",
     "text": [
      "C:\\Users\\Kevin\\AppData\\Local\\Temp\\ipykernel_12976\\3288184646.py:84: FutureWarning: The default value of numeric_only in DataFrameGroupBy.mean is deprecated. In a future version, numeric_only will default to False. Either specify numeric_only or select only columns which should be valid for the function.\n",
      "  avg_type_df = type_df.groupby(roi_col).mean()\n",
      "C:\\Users\\Kevin\\AppData\\Local\\Temp\\ipykernel_12976\\3288184646.py:85: FutureWarning: The default value of numeric_only in DataFrameGroupBy.std is deprecated. In a future version, numeric_only will default to False. Either specify numeric_only or select only columns which should be valid for the function.\n",
      "  std_type_df = type_df.groupby(roi_col).std()\n",
      "Pickle File Processed:  22%|\u001B[31m██▏       \u001B[0m| 48/214 [09:02<22:35,  8.17s/it]"
     ]
    },
    {
     "name": "stdout",
     "output_type": "stream",
     "text": [
      "saving excel\n",
      "converting pkl to df:\n"
     ]
    },
    {
     "name": "stderr",
     "output_type": "stream",
     "text": [
      "C:\\Users\\Kevin\\AppData\\Local\\Temp\\ipykernel_12976\\3288184646.py:84: FutureWarning: The default value of numeric_only in DataFrameGroupBy.mean is deprecated. In a future version, numeric_only will default to False. Either specify numeric_only or select only columns which should be valid for the function.\n",
      "  avg_type_df = type_df.groupby(roi_col).mean()\n",
      "C:\\Users\\Kevin\\AppData\\Local\\Temp\\ipykernel_12976\\3288184646.py:85: FutureWarning: The default value of numeric_only in DataFrameGroupBy.std is deprecated. In a future version, numeric_only will default to False. Either specify numeric_only or select only columns which should be valid for the function.\n",
      "  std_type_df = type_df.groupby(roi_col).std()\n",
      "Pickle File Processed:  23%|\u001B[31m██▎       \u001B[0m| 49/214 [09:06<19:06,  6.95s/it]"
     ]
    },
    {
     "name": "stdout",
     "output_type": "stream",
     "text": [
      "saving excel\n",
      "converting pkl to df:\n"
     ]
    },
    {
     "name": "stderr",
     "output_type": "stream",
     "text": [
      "C:\\Users\\Kevin\\AppData\\Local\\Temp\\ipykernel_12976\\3288184646.py:84: FutureWarning: The default value of numeric_only in DataFrameGroupBy.mean is deprecated. In a future version, numeric_only will default to False. Either specify numeric_only or select only columns which should be valid for the function.\n",
      "  avg_type_df = type_df.groupby(roi_col).mean()\n",
      "C:\\Users\\Kevin\\AppData\\Local\\Temp\\ipykernel_12976\\3288184646.py:85: FutureWarning: The default value of numeric_only in DataFrameGroupBy.std is deprecated. In a future version, numeric_only will default to False. Either specify numeric_only or select only columns which should be valid for the function.\n",
      "  std_type_df = type_df.groupby(roi_col).std()\n",
      "Pickle File Processed:  23%|\u001B[31m██▎       \u001B[0m| 50/214 [09:17<22:04,  8.07s/it]"
     ]
    },
    {
     "name": "stdout",
     "output_type": "stream",
     "text": [
      "saving excel\n",
      "converting pkl to df:\n"
     ]
    },
    {
     "name": "stderr",
     "output_type": "stream",
     "text": [
      "C:\\Users\\Kevin\\AppData\\Local\\Temp\\ipykernel_12976\\3288184646.py:84: FutureWarning: The default value of numeric_only in DataFrameGroupBy.mean is deprecated. In a future version, numeric_only will default to False. Either specify numeric_only or select only columns which should be valid for the function.\n",
      "  avg_type_df = type_df.groupby(roi_col).mean()\n",
      "C:\\Users\\Kevin\\AppData\\Local\\Temp\\ipykernel_12976\\3288184646.py:85: FutureWarning: The default value of numeric_only in DataFrameGroupBy.std is deprecated. In a future version, numeric_only will default to False. Either specify numeric_only or select only columns which should be valid for the function.\n",
      "  std_type_df = type_df.groupby(roi_col).std()\n",
      "Pickle File Processed:  24%|\u001B[31m██▍       \u001B[0m| 51/214 [09:22<19:57,  7.35s/it]"
     ]
    },
    {
     "name": "stdout",
     "output_type": "stream",
     "text": [
      "saving excel\n",
      "converting pkl to df:\n"
     ]
    },
    {
     "name": "stderr",
     "output_type": "stream",
     "text": [
      "C:\\Users\\Kevin\\AppData\\Local\\Temp\\ipykernel_12976\\3288184646.py:84: FutureWarning: The default value of numeric_only in DataFrameGroupBy.mean is deprecated. In a future version, numeric_only will default to False. Either specify numeric_only or select only columns which should be valid for the function.\n",
      "  avg_type_df = type_df.groupby(roi_col).mean()\n",
      "C:\\Users\\Kevin\\AppData\\Local\\Temp\\ipykernel_12976\\3288184646.py:85: FutureWarning: The default value of numeric_only in DataFrameGroupBy.std is deprecated. In a future version, numeric_only will default to False. Either specify numeric_only or select only columns which should be valid for the function.\n",
      "  std_type_df = type_df.groupby(roi_col).std()\n"
     ]
    },
    {
     "name": "stdout",
     "output_type": "stream",
     "text": [
      "saving excel\n"
     ]
    },
    {
     "name": "stderr",
     "output_type": "stream",
     "text": [
      "Pickle File Processed:  24%|\u001B[31m██▍       \u001B[0m| 52/214 [09:33<22:27,  8.32s/it]"
     ]
    },
    {
     "name": "stdout",
     "output_type": "stream",
     "text": [
      "converting pkl to df:\n"
     ]
    },
    {
     "name": "stderr",
     "output_type": "stream",
     "text": [
      "C:\\Users\\Kevin\\AppData\\Local\\Temp\\ipykernel_12976\\3288184646.py:84: FutureWarning: The default value of numeric_only in DataFrameGroupBy.mean is deprecated. In a future version, numeric_only will default to False. Either specify numeric_only or select only columns which should be valid for the function.\n",
      "  avg_type_df = type_df.groupby(roi_col).mean()\n",
      "C:\\Users\\Kevin\\AppData\\Local\\Temp\\ipykernel_12976\\3288184646.py:85: FutureWarning: The default value of numeric_only in DataFrameGroupBy.std is deprecated. In a future version, numeric_only will default to False. Either specify numeric_only or select only columns which should be valid for the function.\n",
      "  std_type_df = type_df.groupby(roi_col).std()\n",
      "C:\\Users\\Kevin\\AppData\\Local\\Temp\\ipykernel_12976\\3288184646.py:84: FutureWarning: The default value of numeric_only in DataFrameGroupBy.mean is deprecated. In a future version, numeric_only will default to False. Either specify numeric_only or select only columns which should be valid for the function.\n",
      "  avg_type_df = type_df.groupby(roi_col).mean()\n",
      "C:\\Users\\Kevin\\AppData\\Local\\Temp\\ipykernel_12976\\3288184646.py:85: FutureWarning: The default value of numeric_only in DataFrameGroupBy.std is deprecated. In a future version, numeric_only will default to False. Either specify numeric_only or select only columns which should be valid for the function.\n",
      "  std_type_df = type_df.groupby(roi_col).std()\n"
     ]
    },
    {
     "name": "stdout",
     "output_type": "stream",
     "text": [
      "rois {1, 2} not included out of all rois {1, 2} for type 3\n"
     ]
    },
    {
     "name": "stderr",
     "output_type": "stream",
     "text": [
      "Pickle File Processed:  25%|\u001B[31m██▍       \u001B[0m| 53/214 [09:35<17:38,  6.57s/it]"
     ]
    },
    {
     "name": "stdout",
     "output_type": "stream",
     "text": [
      "saving excel\n",
      "converting pkl to df:\n"
     ]
    },
    {
     "name": "stderr",
     "output_type": "stream",
     "text": [
      "C:\\Users\\Kevin\\AppData\\Local\\Temp\\ipykernel_12976\\3288184646.py:84: FutureWarning: The default value of numeric_only in DataFrameGroupBy.mean is deprecated. In a future version, numeric_only will default to False. Either specify numeric_only or select only columns which should be valid for the function.\n",
      "  avg_type_df = type_df.groupby(roi_col).mean()\n",
      "C:\\Users\\Kevin\\AppData\\Local\\Temp\\ipykernel_12976\\3288184646.py:85: FutureWarning: The default value of numeric_only in DataFrameGroupBy.std is deprecated. In a future version, numeric_only will default to False. Either specify numeric_only or select only columns which should be valid for the function.\n",
      "  std_type_df = type_df.groupby(roi_col).std()\n"
     ]
    },
    {
     "name": "stdout",
     "output_type": "stream",
     "text": [
      "rois {2} not included out of all rois {1, 2} for type 3\n",
      "rois {2} not included out of all rois {1, 2} for type 4\n",
      "rois {2} not included out of all rois {1, 2} for type 11\n"
     ]
    },
    {
     "name": "stderr",
     "output_type": "stream",
     "text": [
      "Pickle File Processed:  25%|\u001B[31m██▌       \u001B[0m| 54/214 [09:38<14:06,  5.29s/it]"
     ]
    },
    {
     "name": "stdout",
     "output_type": "stream",
     "text": [
      "saving excel\n",
      "converting pkl to df:\n"
     ]
    },
    {
     "name": "stderr",
     "output_type": "stream",
     "text": [
      "C:\\Users\\Kevin\\AppData\\Local\\Temp\\ipykernel_12976\\3288184646.py:84: FutureWarning: The default value of numeric_only in DataFrameGroupBy.mean is deprecated. In a future version, numeric_only will default to False. Either specify numeric_only or select only columns which should be valid for the function.\n",
      "  avg_type_df = type_df.groupby(roi_col).mean()\n",
      "C:\\Users\\Kevin\\AppData\\Local\\Temp\\ipykernel_12976\\3288184646.py:85: FutureWarning: The default value of numeric_only in DataFrameGroupBy.std is deprecated. In a future version, numeric_only will default to False. Either specify numeric_only or select only columns which should be valid for the function.\n",
      "  std_type_df = type_df.groupby(roi_col).std()\n"
     ]
    },
    {
     "name": "stdout",
     "output_type": "stream",
     "text": [
      "rois {2} not included out of all rois {1, 2} for type 3\n",
      "rois {2} not included out of all rois {1, 2} for type 11\n"
     ]
    },
    {
     "name": "stderr",
     "output_type": "stream",
     "text": [
      "Pickle File Processed:  26%|\u001B[31m██▌       \u001B[0m| 55/214 [09:39<11:05,  4.19s/it]"
     ]
    },
    {
     "name": "stdout",
     "output_type": "stream",
     "text": [
      "saving excel\n",
      "converting pkl to df:\n",
      "rois {1} not included out of all rois {1} for type 3\n",
      "rois {1} not included out of all rois {1} for type 5\n"
     ]
    },
    {
     "name": "stderr",
     "output_type": "stream",
     "text": [
      "C:\\Users\\Kevin\\AppData\\Local\\Temp\\ipykernel_12976\\3288184646.py:84: FutureWarning: The default value of numeric_only in DataFrameGroupBy.mean is deprecated. In a future version, numeric_only will default to False. Either specify numeric_only or select only columns which should be valid for the function.\n",
      "  avg_type_df = type_df.groupby(roi_col).mean()\n",
      "C:\\Users\\Kevin\\AppData\\Local\\Temp\\ipykernel_12976\\3288184646.py:85: FutureWarning: The default value of numeric_only in DataFrameGroupBy.std is deprecated. In a future version, numeric_only will default to False. Either specify numeric_only or select only columns which should be valid for the function.\n",
      "  std_type_df = type_df.groupby(roi_col).std()\n",
      "C:\\Users\\Kevin\\AppData\\Local\\Temp\\ipykernel_12976\\3288184646.py:84: FutureWarning: The default value of numeric_only in DataFrameGroupBy.mean is deprecated. In a future version, numeric_only will default to False. Either specify numeric_only or select only columns which should be valid for the function.\n",
      "  avg_type_df = type_df.groupby(roi_col).mean()\n",
      "C:\\Users\\Kevin\\AppData\\Local\\Temp\\ipykernel_12976\\3288184646.py:85: FutureWarning: The default value of numeric_only in DataFrameGroupBy.std is deprecated. In a future version, numeric_only will default to False. Either specify numeric_only or select only columns which should be valid for the function.\n",
      "  std_type_df = type_df.groupby(roi_col).std()\n",
      "C:\\Users\\Kevin\\AppData\\Local\\Temp\\ipykernel_12976\\3288184646.py:84: FutureWarning: The default value of numeric_only in DataFrameGroupBy.mean is deprecated. In a future version, numeric_only will default to False. Either specify numeric_only or select only columns which should be valid for the function.\n",
      "  avg_type_df = type_df.groupby(roi_col).mean()\n",
      "C:\\Users\\Kevin\\AppData\\Local\\Temp\\ipykernel_12976\\3288184646.py:85: FutureWarning: The default value of numeric_only in DataFrameGroupBy.std is deprecated. In a future version, numeric_only will default to False. Either specify numeric_only or select only columns which should be valid for the function.\n",
      "  std_type_df = type_df.groupby(roi_col).std()\n",
      "Pickle File Processed:  26%|\u001B[31m██▌       \u001B[0m| 56/214 [09:40<08:15,  3.14s/it]"
     ]
    },
    {
     "name": "stdout",
     "output_type": "stream",
     "text": [
      "saving excel\n",
      "converting pkl to df:\n"
     ]
    },
    {
     "name": "stderr",
     "output_type": "stream",
     "text": [
      "C:\\Users\\Kevin\\AppData\\Local\\Temp\\ipykernel_12976\\3288184646.py:84: FutureWarning: The default value of numeric_only in DataFrameGroupBy.mean is deprecated. In a future version, numeric_only will default to False. Either specify numeric_only or select only columns which should be valid for the function.\n",
      "  avg_type_df = type_df.groupby(roi_col).mean()\n",
      "C:\\Users\\Kevin\\AppData\\Local\\Temp\\ipykernel_12976\\3288184646.py:85: FutureWarning: The default value of numeric_only in DataFrameGroupBy.std is deprecated. In a future version, numeric_only will default to False. Either specify numeric_only or select only columns which should be valid for the function.\n",
      "  std_type_df = type_df.groupby(roi_col).std()\n",
      "Pickle File Processed:  27%|\u001B[31m██▋       \u001B[0m| 57/214 [09:52<14:50,  5.67s/it]"
     ]
    },
    {
     "name": "stdout",
     "output_type": "stream",
     "text": [
      "saving excel\n",
      "converting pkl to df:\n"
     ]
    },
    {
     "name": "stderr",
     "output_type": "stream",
     "text": [
      "C:\\Users\\Kevin\\AppData\\Local\\Temp\\ipykernel_12976\\3288184646.py:84: FutureWarning: The default value of numeric_only in DataFrameGroupBy.mean is deprecated. In a future version, numeric_only will default to False. Either specify numeric_only or select only columns which should be valid for the function.\n",
      "  avg_type_df = type_df.groupby(roi_col).mean()\n",
      "C:\\Users\\Kevin\\AppData\\Local\\Temp\\ipykernel_12976\\3288184646.py:85: FutureWarning: The default value of numeric_only in DataFrameGroupBy.std is deprecated. In a future version, numeric_only will default to False. Either specify numeric_only or select only columns which should be valid for the function.\n",
      "  std_type_df = type_df.groupby(roi_col).std()\n",
      "Pickle File Processed:  27%|\u001B[31m██▋       \u001B[0m| 58/214 [10:05<20:59,  8.07s/it]"
     ]
    },
    {
     "name": "stdout",
     "output_type": "stream",
     "text": [
      "saving excel\n",
      "converting pkl to df:\n"
     ]
    },
    {
     "name": "stderr",
     "output_type": "stream",
     "text": [
      "C:\\Users\\Kevin\\AppData\\Local\\Temp\\ipykernel_12976\\3288184646.py:84: FutureWarning: The default value of numeric_only in DataFrameGroupBy.mean is deprecated. In a future version, numeric_only will default to False. Either specify numeric_only or select only columns which should be valid for the function.\n",
      "  avg_type_df = type_df.groupby(roi_col).mean()\n",
      "C:\\Users\\Kevin\\AppData\\Local\\Temp\\ipykernel_12976\\3288184646.py:85: FutureWarning: The default value of numeric_only in DataFrameGroupBy.std is deprecated. In a future version, numeric_only will default to False. Either specify numeric_only or select only columns which should be valid for the function.\n",
      "  std_type_df = type_df.groupby(roi_col).std()\n",
      "Pickle File Processed:  28%|\u001B[31m██▊       \u001B[0m| 59/214 [10:10<18:22,  7.11s/it]"
     ]
    },
    {
     "name": "stdout",
     "output_type": "stream",
     "text": [
      "saving excel\n",
      "converting pkl to df:\n"
     ]
    },
    {
     "name": "stderr",
     "output_type": "stream",
     "text": [
      "C:\\Users\\Kevin\\AppData\\Local\\Temp\\ipykernel_12976\\3288184646.py:84: FutureWarning: The default value of numeric_only in DataFrameGroupBy.mean is deprecated. In a future version, numeric_only will default to False. Either specify numeric_only or select only columns which should be valid for the function.\n",
      "  avg_type_df = type_df.groupby(roi_col).mean()\n",
      "C:\\Users\\Kevin\\AppData\\Local\\Temp\\ipykernel_12976\\3288184646.py:85: FutureWarning: The default value of numeric_only in DataFrameGroupBy.std is deprecated. In a future version, numeric_only will default to False. Either specify numeric_only or select only columns which should be valid for the function.\n",
      "  std_type_df = type_df.groupby(roi_col).std()\n",
      "Pickle File Processed:  28%|\u001B[31m██▊       \u001B[0m| 60/214 [10:20<20:31,  8.00s/it]"
     ]
    },
    {
     "name": "stdout",
     "output_type": "stream",
     "text": [
      "saving excel\n",
      "converting pkl to df:\n"
     ]
    },
    {
     "name": "stderr",
     "output_type": "stream",
     "text": [
      "C:\\Users\\Kevin\\AppData\\Local\\Temp\\ipykernel_12976\\3288184646.py:84: FutureWarning: The default value of numeric_only in DataFrameGroupBy.mean is deprecated. In a future version, numeric_only will default to False. Either specify numeric_only or select only columns which should be valid for the function.\n",
      "  avg_type_df = type_df.groupby(roi_col).mean()\n",
      "C:\\Users\\Kevin\\AppData\\Local\\Temp\\ipykernel_12976\\3288184646.py:85: FutureWarning: The default value of numeric_only in DataFrameGroupBy.std is deprecated. In a future version, numeric_only will default to False. Either specify numeric_only or select only columns which should be valid for the function.\n",
      "  std_type_df = type_df.groupby(roi_col).std()\n",
      "Pickle File Processed:  29%|\u001B[31m██▊       \u001B[0m| 61/214 [10:26<18:51,  7.40s/it]"
     ]
    },
    {
     "name": "stdout",
     "output_type": "stream",
     "text": [
      "saving excel\n",
      "converting pkl to df:\n"
     ]
    },
    {
     "name": "stderr",
     "output_type": "stream",
     "text": [
      "C:\\Users\\Kevin\\AppData\\Local\\Temp\\ipykernel_12976\\3288184646.py:84: FutureWarning: The default value of numeric_only in DataFrameGroupBy.mean is deprecated. In a future version, numeric_only will default to False. Either specify numeric_only or select only columns which should be valid for the function.\n",
      "  avg_type_df = type_df.groupby(roi_col).mean()\n",
      "C:\\Users\\Kevin\\AppData\\Local\\Temp\\ipykernel_12976\\3288184646.py:85: FutureWarning: The default value of numeric_only in DataFrameGroupBy.std is deprecated. In a future version, numeric_only will default to False. Either specify numeric_only or select only columns which should be valid for the function.\n",
      "  std_type_df = type_df.groupby(roi_col).std()\n"
     ]
    },
    {
     "name": "stdout",
     "output_type": "stream",
     "text": [
      "rois {2, 3} not included out of all rois {1, 2, 3} for type 3\n",
      "rois {2} not included out of all rois {1, 2, 3} for type 4\n",
      "rois {2, 3} not included out of all rois {1, 2, 3} for type 6\n",
      "rois {2, 3} not included out of all rois {1, 2, 3} for type 11\n",
      "saving excel\n"
     ]
    },
    {
     "name": "stderr",
     "output_type": "stream",
     "text": [
      "Pickle File Processed:  29%|\u001B[31m██▉       \u001B[0m| 62/214 [10:33<18:21,  7.25s/it]"
     ]
    },
    {
     "name": "stdout",
     "output_type": "stream",
     "text": [
      "converting pkl to df:\n"
     ]
    },
    {
     "name": "stderr",
     "output_type": "stream",
     "text": [
      "C:\\Users\\Kevin\\AppData\\Local\\Temp\\ipykernel_12976\\3288184646.py:84: FutureWarning: The default value of numeric_only in DataFrameGroupBy.mean is deprecated. In a future version, numeric_only will default to False. Either specify numeric_only or select only columns which should be valid for the function.\n",
      "  avg_type_df = type_df.groupby(roi_col).mean()\n",
      "C:\\Users\\Kevin\\AppData\\Local\\Temp\\ipykernel_12976\\3288184646.py:85: FutureWarning: The default value of numeric_only in DataFrameGroupBy.std is deprecated. In a future version, numeric_only will default to False. Either specify numeric_only or select only columns which should be valid for the function.\n",
      "  std_type_df = type_df.groupby(roi_col).std()\n"
     ]
    },
    {
     "name": "stdout",
     "output_type": "stream",
     "text": [
      "rois {1, 3} not included out of all rois {1, 2, 3} for type 3\n",
      "rois {1} not included out of all rois {1, 2, 3} for type 4\n",
      "rois {1} not included out of all rois {1, 2, 3} for type 6\n"
     ]
    },
    {
     "name": "stderr",
     "output_type": "stream",
     "text": [
      "Pickle File Processed:  29%|\u001B[31m██▉       \u001B[0m| 63/214 [10:39<17:16,  6.86s/it]"
     ]
    },
    {
     "name": "stdout",
     "output_type": "stream",
     "text": [
      "saving excel\n",
      "converting pkl to df:\n"
     ]
    },
    {
     "name": "stderr",
     "output_type": "stream",
     "text": [
      "C:\\Users\\Kevin\\AppData\\Local\\Temp\\ipykernel_12976\\3288184646.py:84: FutureWarning: The default value of numeric_only in DataFrameGroupBy.mean is deprecated. In a future version, numeric_only will default to False. Either specify numeric_only or select only columns which should be valid for the function.\n",
      "  avg_type_df = type_df.groupby(roi_col).mean()\n",
      "C:\\Users\\Kevin\\AppData\\Local\\Temp\\ipykernel_12976\\3288184646.py:85: FutureWarning: The default value of numeric_only in DataFrameGroupBy.std is deprecated. In a future version, numeric_only will default to False. Either specify numeric_only or select only columns which should be valid for the function.\n",
      "  std_type_df = type_df.groupby(roi_col).std()\n",
      "Pickle File Processed:  30%|\u001B[31m██▉       \u001B[0m| 64/214 [10:44<15:18,  6.12s/it]"
     ]
    },
    {
     "name": "stdout",
     "output_type": "stream",
     "text": [
      "saving excel\n",
      "converting pkl to df:\n"
     ]
    },
    {
     "name": "stderr",
     "output_type": "stream",
     "text": [
      "C:\\Users\\Kevin\\AppData\\Local\\Temp\\ipykernel_12976\\3288184646.py:84: FutureWarning: The default value of numeric_only in DataFrameGroupBy.mean is deprecated. In a future version, numeric_only will default to False. Either specify numeric_only or select only columns which should be valid for the function.\n",
      "  avg_type_df = type_df.groupby(roi_col).mean()\n",
      "C:\\Users\\Kevin\\AppData\\Local\\Temp\\ipykernel_12976\\3288184646.py:85: FutureWarning: The default value of numeric_only in DataFrameGroupBy.std is deprecated. In a future version, numeric_only will default to False. Either specify numeric_only or select only columns which should be valid for the function.\n",
      "  std_type_df = type_df.groupby(roi_col).std()\n",
      "Pickle File Processed:  30%|\u001B[31m███       \u001B[0m| 65/214 [10:50<15:32,  6.26s/it]"
     ]
    },
    {
     "name": "stdout",
     "output_type": "stream",
     "text": [
      "saving excel\n",
      "converting pkl to df:\n"
     ]
    },
    {
     "name": "stderr",
     "output_type": "stream",
     "text": [
      "C:\\Users\\Kevin\\AppData\\Local\\Temp\\ipykernel_12976\\3288184646.py:84: FutureWarning: The default value of numeric_only in DataFrameGroupBy.mean is deprecated. In a future version, numeric_only will default to False. Either specify numeric_only or select only columns which should be valid for the function.\n",
      "  avg_type_df = type_df.groupby(roi_col).mean()\n",
      "C:\\Users\\Kevin\\AppData\\Local\\Temp\\ipykernel_12976\\3288184646.py:85: FutureWarning: The default value of numeric_only in DataFrameGroupBy.std is deprecated. In a future version, numeric_only will default to False. Either specify numeric_only or select only columns which should be valid for the function.\n",
      "  std_type_df = type_df.groupby(roi_col).std()\n",
      "Pickle File Processed:  31%|\u001B[31m███       \u001B[0m| 66/214 [10:51<11:36,  4.70s/it]"
     ]
    },
    {
     "name": "stdout",
     "output_type": "stream",
     "text": [
      "saving excel\n",
      "converting pkl to df:\n"
     ]
    },
    {
     "name": "stderr",
     "output_type": "stream",
     "text": [
      "C:\\Users\\Kevin\\AppData\\Local\\Temp\\ipykernel_12976\\3288184646.py:84: FutureWarning: The default value of numeric_only in DataFrameGroupBy.mean is deprecated. In a future version, numeric_only will default to False. Either specify numeric_only or select only columns which should be valid for the function.\n",
      "  avg_type_df = type_df.groupby(roi_col).mean()\n",
      "C:\\Users\\Kevin\\AppData\\Local\\Temp\\ipykernel_12976\\3288184646.py:85: FutureWarning: The default value of numeric_only in DataFrameGroupBy.std is deprecated. In a future version, numeric_only will default to False. Either specify numeric_only or select only columns which should be valid for the function.\n",
      "  std_type_df = type_df.groupby(roi_col).std()\n",
      "Pickle File Processed:  31%|\u001B[31m███▏      \u001B[0m| 67/214 [10:57<12:23,  5.06s/it]"
     ]
    },
    {
     "name": "stdout",
     "output_type": "stream",
     "text": [
      "saving excel\n",
      "converting pkl to df:\n"
     ]
    },
    {
     "name": "stderr",
     "output_type": "stream",
     "text": [
      "C:\\Users\\Kevin\\AppData\\Local\\Temp\\ipykernel_12976\\3288184646.py:84: FutureWarning: The default value of numeric_only in DataFrameGroupBy.mean is deprecated. In a future version, numeric_only will default to False. Either specify numeric_only or select only columns which should be valid for the function.\n",
      "  avg_type_df = type_df.groupby(roi_col).mean()\n",
      "C:\\Users\\Kevin\\AppData\\Local\\Temp\\ipykernel_12976\\3288184646.py:85: FutureWarning: The default value of numeric_only in DataFrameGroupBy.std is deprecated. In a future version, numeric_only will default to False. Either specify numeric_only or select only columns which should be valid for the function.\n",
      "  std_type_df = type_df.groupby(roi_col).std()\n",
      "Pickle File Processed:  32%|\u001B[31m███▏      \u001B[0m| 68/214 [11:03<12:35,  5.18s/it]"
     ]
    },
    {
     "name": "stdout",
     "output_type": "stream",
     "text": [
      "saving excel\n",
      "converting pkl to df:\n"
     ]
    },
    {
     "name": "stderr",
     "output_type": "stream",
     "text": [
      "C:\\Users\\Kevin\\AppData\\Local\\Temp\\ipykernel_12976\\3288184646.py:84: FutureWarning: The default value of numeric_only in DataFrameGroupBy.mean is deprecated. In a future version, numeric_only will default to False. Either specify numeric_only or select only columns which should be valid for the function.\n",
      "  avg_type_df = type_df.groupby(roi_col).mean()\n",
      "C:\\Users\\Kevin\\AppData\\Local\\Temp\\ipykernel_12976\\3288184646.py:85: FutureWarning: The default value of numeric_only in DataFrameGroupBy.std is deprecated. In a future version, numeric_only will default to False. Either specify numeric_only or select only columns which should be valid for the function.\n",
      "  std_type_df = type_df.groupby(roi_col).std()\n"
     ]
    },
    {
     "name": "stdout",
     "output_type": "stream",
     "text": [
      "rois {5} not included out of all rois {1, 2, 3, 4, 5, 6} for type 3\n",
      "rois {5, 6} not included out of all rois {1, 2, 3, 4, 5, 6} for type 11\n",
      "saving excel\n"
     ]
    },
    {
     "name": "stderr",
     "output_type": "stream",
     "text": [
      "Pickle File Processed:  32%|\u001B[31m███▏      \u001B[0m| 69/214 [11:17<19:13,  7.95s/it]"
     ]
    },
    {
     "name": "stdout",
     "output_type": "stream",
     "text": [
      "converting pkl to df:\n"
     ]
    },
    {
     "name": "stderr",
     "output_type": "stream",
     "text": [
      "C:\\Users\\Kevin\\AppData\\Local\\Temp\\ipykernel_12976\\3288184646.py:84: FutureWarning: The default value of numeric_only in DataFrameGroupBy.mean is deprecated. In a future version, numeric_only will default to False. Either specify numeric_only or select only columns which should be valid for the function.\n",
      "  avg_type_df = type_df.groupby(roi_col).mean()\n",
      "C:\\Users\\Kevin\\AppData\\Local\\Temp\\ipykernel_12976\\3288184646.py:85: FutureWarning: The default value of numeric_only in DataFrameGroupBy.std is deprecated. In a future version, numeric_only will default to False. Either specify numeric_only or select only columns which should be valid for the function.\n",
      "  std_type_df = type_df.groupby(roi_col).std()\n"
     ]
    },
    {
     "name": "stdout",
     "output_type": "stream",
     "text": [
      "rois {1} not included out of all rois {1, 2} for type 3\n",
      "rois {1, 2} not included out of all rois {1, 2} for type 11\n"
     ]
    },
    {
     "name": "stderr",
     "output_type": "stream",
     "text": [
      "C:\\Users\\Kevin\\AppData\\Local\\Temp\\ipykernel_12976\\3288184646.py:84: FutureWarning: The default value of numeric_only in DataFrameGroupBy.mean is deprecated. In a future version, numeric_only will default to False. Either specify numeric_only or select only columns which should be valid for the function.\n",
      "  avg_type_df = type_df.groupby(roi_col).mean()\n",
      "C:\\Users\\Kevin\\AppData\\Local\\Temp\\ipykernel_12976\\3288184646.py:85: FutureWarning: The default value of numeric_only in DataFrameGroupBy.std is deprecated. In a future version, numeric_only will default to False. Either specify numeric_only or select only columns which should be valid for the function.\n",
      "  std_type_df = type_df.groupby(roi_col).std()\n",
      "Pickle File Processed:  33%|\u001B[31m███▎      \u001B[0m| 70/214 [11:20<15:36,  6.50s/it]"
     ]
    },
    {
     "name": "stdout",
     "output_type": "stream",
     "text": [
      "saving excel\n",
      "converting pkl to df:\n"
     ]
    },
    {
     "name": "stderr",
     "output_type": "stream",
     "text": [
      "C:\\Users\\Kevin\\AppData\\Local\\Temp\\ipykernel_12976\\3288184646.py:84: FutureWarning: The default value of numeric_only in DataFrameGroupBy.mean is deprecated. In a future version, numeric_only will default to False. Either specify numeric_only or select only columns which should be valid for the function.\n",
      "  avg_type_df = type_df.groupby(roi_col).mean()\n",
      "C:\\Users\\Kevin\\AppData\\Local\\Temp\\ipykernel_12976\\3288184646.py:85: FutureWarning: The default value of numeric_only in DataFrameGroupBy.std is deprecated. In a future version, numeric_only will default to False. Either specify numeric_only or select only columns which should be valid for the function.\n",
      "  std_type_df = type_df.groupby(roi_col).std()\n",
      "Pickle File Processed:  33%|\u001B[31m███▎      \u001B[0m| 71/214 [11:23<13:13,  5.55s/it]"
     ]
    },
    {
     "name": "stdout",
     "output_type": "stream",
     "text": [
      "saving excel\n",
      "converting pkl to df:\n"
     ]
    },
    {
     "name": "stderr",
     "output_type": "stream",
     "text": [
      "C:\\Users\\Kevin\\AppData\\Local\\Temp\\ipykernel_12976\\3288184646.py:84: FutureWarning: The default value of numeric_only in DataFrameGroupBy.mean is deprecated. In a future version, numeric_only will default to False. Either specify numeric_only or select only columns which should be valid for the function.\n",
      "  avg_type_df = type_df.groupby(roi_col).mean()\n",
      "C:\\Users\\Kevin\\AppData\\Local\\Temp\\ipykernel_12976\\3288184646.py:85: FutureWarning: The default value of numeric_only in DataFrameGroupBy.std is deprecated. In a future version, numeric_only will default to False. Either specify numeric_only or select only columns which should be valid for the function.\n",
      "  std_type_df = type_df.groupby(roi_col).std()\n",
      "Pickle File Processed:  34%|\u001B[31m███▎      \u001B[0m| 72/214 [11:30<13:32,  5.72s/it]"
     ]
    },
    {
     "name": "stdout",
     "output_type": "stream",
     "text": [
      "saving excel\n",
      "converting pkl to df:\n"
     ]
    },
    {
     "name": "stderr",
     "output_type": "stream",
     "text": [
      "C:\\Users\\Kevin\\AppData\\Local\\Temp\\ipykernel_12976\\3288184646.py:84: FutureWarning: The default value of numeric_only in DataFrameGroupBy.mean is deprecated. In a future version, numeric_only will default to False. Either specify numeric_only or select only columns which should be valid for the function.\n",
      "  avg_type_df = type_df.groupby(roi_col).mean()\n",
      "C:\\Users\\Kevin\\AppData\\Local\\Temp\\ipykernel_12976\\3288184646.py:85: FutureWarning: The default value of numeric_only in DataFrameGroupBy.std is deprecated. In a future version, numeric_only will default to False. Either specify numeric_only or select only columns which should be valid for the function.\n",
      "  std_type_df = type_df.groupby(roi_col).std()\n"
     ]
    },
    {
     "name": "stdout",
     "output_type": "stream",
     "text": [
      "rois {1} not included out of all rois {1, 2} for type 11\n",
      "saving excel\n"
     ]
    },
    {
     "name": "stderr",
     "output_type": "stream",
     "text": [
      "Pickle File Processed:  34%|\u001B[31m███▍      \u001B[0m| 73/214 [11:38<15:21,  6.54s/it]"
     ]
    },
    {
     "name": "stdout",
     "output_type": "stream",
     "text": [
      "converting pkl to df:\n"
     ]
    },
    {
     "name": "stderr",
     "output_type": "stream",
     "text": [
      "C:\\Users\\Kevin\\AppData\\Local\\Temp\\ipykernel_12976\\3288184646.py:84: FutureWarning: The default value of numeric_only in DataFrameGroupBy.mean is deprecated. In a future version, numeric_only will default to False. Either specify numeric_only or select only columns which should be valid for the function.\n",
      "  avg_type_df = type_df.groupby(roi_col).mean()\n",
      "C:\\Users\\Kevin\\AppData\\Local\\Temp\\ipykernel_12976\\3288184646.py:85: FutureWarning: The default value of numeric_only in DataFrameGroupBy.std is deprecated. In a future version, numeric_only will default to False. Either specify numeric_only or select only columns which should be valid for the function.\n",
      "  std_type_df = type_df.groupby(roi_col).std()\n"
     ]
    },
    {
     "name": "stdout",
     "output_type": "stream",
     "text": [
      "rois {2, 4, 5} not included out of all rois {1, 2, 3, 4, 5, 6} for type 3\n",
      "rois {4} not included out of all rois {1, 2, 3, 4, 5, 6} for type 6\n",
      "rois {3} not included out of all rois {1, 2, 3, 4, 5, 6} for type 11\n"
     ]
    },
    {
     "name": "stderr",
     "output_type": "stream",
     "text": [
      "Pickle File Processed:  35%|\u001B[31m███▍      \u001B[0m| 74/214 [11:47<17:18,  7.42s/it]"
     ]
    },
    {
     "name": "stdout",
     "output_type": "stream",
     "text": [
      "saving excel\n",
      "converting pkl to df:\n"
     ]
    },
    {
     "name": "stderr",
     "output_type": "stream",
     "text": [
      "C:\\Users\\Kevin\\AppData\\Local\\Temp\\ipykernel_12976\\3288184646.py:84: FutureWarning: The default value of numeric_only in DataFrameGroupBy.mean is deprecated. In a future version, numeric_only will default to False. Either specify numeric_only or select only columns which should be valid for the function.\n",
      "  avg_type_df = type_df.groupby(roi_col).mean()\n",
      "C:\\Users\\Kevin\\AppData\\Local\\Temp\\ipykernel_12976\\3288184646.py:85: FutureWarning: The default value of numeric_only in DataFrameGroupBy.std is deprecated. In a future version, numeric_only will default to False. Either specify numeric_only or select only columns which should be valid for the function.\n",
      "  std_type_df = type_df.groupby(roi_col).std()\n",
      "C:\\Users\\Kevin\\AppData\\Local\\Temp\\ipykernel_12976\\3288184646.py:84: FutureWarning: The default value of numeric_only in DataFrameGroupBy.mean is deprecated. In a future version, numeric_only will default to False. Either specify numeric_only or select only columns which should be valid for the function.\n",
      "  avg_type_df = type_df.groupby(roi_col).mean()\n",
      "C:\\Users\\Kevin\\AppData\\Local\\Temp\\ipykernel_12976\\3288184646.py:85: FutureWarning: The default value of numeric_only in DataFrameGroupBy.std is deprecated. In a future version, numeric_only will default to False. Either specify numeric_only or select only columns which should be valid for the function.\n",
      "  std_type_df = type_df.groupby(roi_col).std()\n",
      "C:\\Users\\Kevin\\AppData\\Local\\Temp\\ipykernel_12976\\3288184646.py:84: FutureWarning: The default value of numeric_only in DataFrameGroupBy.mean is deprecated. In a future version, numeric_only will default to False. Either specify numeric_only or select only columns which should be valid for the function.\n",
      "  avg_type_df = type_df.groupby(roi_col).mean()\n",
      "C:\\Users\\Kevin\\AppData\\Local\\Temp\\ipykernel_12976\\3288184646.py:85: FutureWarning: The default value of numeric_only in DataFrameGroupBy.std is deprecated. In a future version, numeric_only will default to False. Either specify numeric_only or select only columns which should be valid for the function.\n",
      "  std_type_df = type_df.groupby(roi_col).std()\n"
     ]
    },
    {
     "name": "stdout",
     "output_type": "stream",
     "text": [
      "rois {1} not included out of all rois {1} for type 3\n",
      "rois {1} not included out of all rois {1} for type 6\n",
      "rois {1} not included out of all rois {1} for type 11\n"
     ]
    },
    {
     "name": "stderr",
     "output_type": "stream",
     "text": [
      "C:\\Users\\Kevin\\AppData\\Local\\Temp\\ipykernel_12976\\3288184646.py:84: FutureWarning: The default value of numeric_only in DataFrameGroupBy.mean is deprecated. In a future version, numeric_only will default to False. Either specify numeric_only or select only columns which should be valid for the function.\n",
      "  avg_type_df = type_df.groupby(roi_col).mean()\n",
      "C:\\Users\\Kevin\\AppData\\Local\\Temp\\ipykernel_12976\\3288184646.py:85: FutureWarning: The default value of numeric_only in DataFrameGroupBy.std is deprecated. In a future version, numeric_only will default to False. Either specify numeric_only or select only columns which should be valid for the function.\n",
      "  std_type_df = type_df.groupby(roi_col).std()\n",
      "Pickle File Processed:  35%|\u001B[31m███▌      \u001B[0m| 75/214 [11:50<13:44,  5.93s/it]"
     ]
    },
    {
     "name": "stdout",
     "output_type": "stream",
     "text": [
      "saving excel\n",
      "converting pkl to df:\n"
     ]
    },
    {
     "name": "stderr",
     "output_type": "stream",
     "text": [
      "C:\\Users\\Kevin\\AppData\\Local\\Temp\\ipykernel_12976\\3288184646.py:84: FutureWarning: The default value of numeric_only in DataFrameGroupBy.mean is deprecated. In a future version, numeric_only will default to False. Either specify numeric_only or select only columns which should be valid for the function.\n",
      "  avg_type_df = type_df.groupby(roi_col).mean()\n",
      "C:\\Users\\Kevin\\AppData\\Local\\Temp\\ipykernel_12976\\3288184646.py:85: FutureWarning: The default value of numeric_only in DataFrameGroupBy.std is deprecated. In a future version, numeric_only will default to False. Either specify numeric_only or select only columns which should be valid for the function.\n",
      "  std_type_df = type_df.groupby(roi_col).std()\n",
      "C:\\Users\\Kevin\\AppData\\Local\\Temp\\ipykernel_12976\\3288184646.py:84: FutureWarning: The default value of numeric_only in DataFrameGroupBy.mean is deprecated. In a future version, numeric_only will default to False. Either specify numeric_only or select only columns which should be valid for the function.\n",
      "  avg_type_df = type_df.groupby(roi_col).mean()\n",
      "C:\\Users\\Kevin\\AppData\\Local\\Temp\\ipykernel_12976\\3288184646.py:85: FutureWarning: The default value of numeric_only in DataFrameGroupBy.std is deprecated. In a future version, numeric_only will default to False. Either specify numeric_only or select only columns which should be valid for the function.\n",
      "  std_type_df = type_df.groupby(roi_col).std()\n"
     ]
    },
    {
     "name": "stdout",
     "output_type": "stream",
     "text": [
      "rois {1} not included out of all rois {1} for type 6\n"
     ]
    },
    {
     "name": "stderr",
     "output_type": "stream",
     "text": [
      "Pickle File Processed:  36%|\u001B[31m███▌      \u001B[0m| 76/214 [11:52<10:42,  4.66s/it]"
     ]
    },
    {
     "name": "stdout",
     "output_type": "stream",
     "text": [
      "saving excel\n",
      "converting pkl to df:\n"
     ]
    },
    {
     "name": "stderr",
     "output_type": "stream",
     "text": [
      "C:\\Users\\Kevin\\AppData\\Local\\Temp\\ipykernel_12976\\3288184646.py:84: FutureWarning: The default value of numeric_only in DataFrameGroupBy.mean is deprecated. In a future version, numeric_only will default to False. Either specify numeric_only or select only columns which should be valid for the function.\n",
      "  avg_type_df = type_df.groupby(roi_col).mean()\n",
      "C:\\Users\\Kevin\\AppData\\Local\\Temp\\ipykernel_12976\\3288184646.py:85: FutureWarning: The default value of numeric_only in DataFrameGroupBy.std is deprecated. In a future version, numeric_only will default to False. Either specify numeric_only or select only columns which should be valid for the function.\n",
      "  std_type_df = type_df.groupby(roi_col).std()\n"
     ]
    },
    {
     "name": "stdout",
     "output_type": "stream",
     "text": [
      "rois {1} not included out of all rois {1, 2, 3} for type 3\n",
      "rois {1, 2} not included out of all rois {1, 2, 3} for type 6\n"
     ]
    },
    {
     "name": "stderr",
     "output_type": "stream",
     "text": [
      "Pickle File Processed:  36%|\u001B[31m███▌      \u001B[0m| 77/214 [11:58<11:38,  5.10s/it]"
     ]
    },
    {
     "name": "stdout",
     "output_type": "stream",
     "text": [
      "saving excel\n",
      "converting pkl to df:\n"
     ]
    },
    {
     "name": "stderr",
     "output_type": "stream",
     "text": [
      "C:\\Users\\Kevin\\AppData\\Local\\Temp\\ipykernel_12976\\3288184646.py:84: FutureWarning: The default value of numeric_only in DataFrameGroupBy.mean is deprecated. In a future version, numeric_only will default to False. Either specify numeric_only or select only columns which should be valid for the function.\n",
      "  avg_type_df = type_df.groupby(roi_col).mean()\n",
      "C:\\Users\\Kevin\\AppData\\Local\\Temp\\ipykernel_12976\\3288184646.py:85: FutureWarning: The default value of numeric_only in DataFrameGroupBy.std is deprecated. In a future version, numeric_only will default to False. Either specify numeric_only or select only columns which should be valid for the function.\n",
      "  std_type_df = type_df.groupby(roi_col).std()\n"
     ]
    },
    {
     "name": "stdout",
     "output_type": "stream",
     "text": [
      "rois {1, 2} not included out of all rois {1, 2, 3, 4} for type 3\n",
      "rois {1} not included out of all rois {1, 2, 3, 4} for type 4\n",
      "rois {1, 2, 3, 4} not included out of all rois {1, 2, 3, 4} for type 11\n"
     ]
    },
    {
     "name": "stderr",
     "output_type": "stream",
     "text": [
      "C:\\Users\\Kevin\\AppData\\Local\\Temp\\ipykernel_12976\\3288184646.py:84: FutureWarning: The default value of numeric_only in DataFrameGroupBy.mean is deprecated. In a future version, numeric_only will default to False. Either specify numeric_only or select only columns which should be valid for the function.\n",
      "  avg_type_df = type_df.groupby(roi_col).mean()\n",
      "C:\\Users\\Kevin\\AppData\\Local\\Temp\\ipykernel_12976\\3288184646.py:85: FutureWarning: The default value of numeric_only in DataFrameGroupBy.std is deprecated. In a future version, numeric_only will default to False. Either specify numeric_only or select only columns which should be valid for the function.\n",
      "  std_type_df = type_df.groupby(roi_col).std()\n"
     ]
    },
    {
     "name": "stdout",
     "output_type": "stream",
     "text": [
      "saving excel\n"
     ]
    },
    {
     "name": "stderr",
     "output_type": "stream",
     "text": [
      "Pickle File Processed:  36%|\u001B[31m███▋      \u001B[0m| 78/214 [12:00<09:58,  4.40s/it]"
     ]
    },
    {
     "name": "stdout",
     "output_type": "stream",
     "text": [
      "converting pkl to df:\n"
     ]
    },
    {
     "name": "stderr",
     "output_type": "stream",
     "text": [
      "C:\\Users\\Kevin\\AppData\\Local\\Temp\\ipykernel_12976\\3288184646.py:84: FutureWarning: The default value of numeric_only in DataFrameGroupBy.mean is deprecated. In a future version, numeric_only will default to False. Either specify numeric_only or select only columns which should be valid for the function.\n",
      "  avg_type_df = type_df.groupby(roi_col).mean()\n",
      "C:\\Users\\Kevin\\AppData\\Local\\Temp\\ipykernel_12976\\3288184646.py:85: FutureWarning: The default value of numeric_only in DataFrameGroupBy.std is deprecated. In a future version, numeric_only will default to False. Either specify numeric_only or select only columns which should be valid for the function.\n",
      "  std_type_df = type_df.groupby(roi_col).std()\n",
      "C:\\Users\\Kevin\\AppData\\Local\\Temp\\ipykernel_12976\\3288184646.py:84: FutureWarning: The default value of numeric_only in DataFrameGroupBy.mean is deprecated. In a future version, numeric_only will default to False. Either specify numeric_only or select only columns which should be valid for the function.\n",
      "  avg_type_df = type_df.groupby(roi_col).mean()\n",
      "C:\\Users\\Kevin\\AppData\\Local\\Temp\\ipykernel_12976\\3288184646.py:85: FutureWarning: The default value of numeric_only in DataFrameGroupBy.std is deprecated. In a future version, numeric_only will default to False. Either specify numeric_only or select only columns which should be valid for the function.\n",
      "  std_type_df = type_df.groupby(roi_col).std()\n"
     ]
    },
    {
     "name": "stdout",
     "output_type": "stream",
     "text": [
      "rois {1} not included out of all rois {1} for type 3\n"
     ]
    },
    {
     "name": "stderr",
     "output_type": "stream",
     "text": [
      "Pickle File Processed:  37%|\u001B[31m███▋      \u001B[0m| 79/214 [12:02<08:09,  3.63s/it]"
     ]
    },
    {
     "name": "stdout",
     "output_type": "stream",
     "text": [
      "saving excel\n",
      "converting pkl to df:\n"
     ]
    },
    {
     "name": "stderr",
     "output_type": "stream",
     "text": [
      "C:\\Users\\Kevin\\AppData\\Local\\Temp\\ipykernel_12976\\3288184646.py:84: FutureWarning: The default value of numeric_only in DataFrameGroupBy.mean is deprecated. In a future version, numeric_only will default to False. Either specify numeric_only or select only columns which should be valid for the function.\n",
      "  avg_type_df = type_df.groupby(roi_col).mean()\n",
      "C:\\Users\\Kevin\\AppData\\Local\\Temp\\ipykernel_12976\\3288184646.py:85: FutureWarning: The default value of numeric_only in DataFrameGroupBy.std is deprecated. In a future version, numeric_only will default to False. Either specify numeric_only or select only columns which should be valid for the function.\n",
      "  std_type_df = type_df.groupby(roi_col).std()\n"
     ]
    },
    {
     "name": "stdout",
     "output_type": "stream",
     "text": [
      "rois {1} not included out of all rois {1} for type 11\n"
     ]
    },
    {
     "name": "stderr",
     "output_type": "stream",
     "text": [
      "C:\\Users\\Kevin\\AppData\\Local\\Temp\\ipykernel_12976\\3288184646.py:84: FutureWarning: The default value of numeric_only in DataFrameGroupBy.mean is deprecated. In a future version, numeric_only will default to False. Either specify numeric_only or select only columns which should be valid for the function.\n",
      "  avg_type_df = type_df.groupby(roi_col).mean()\n",
      "C:\\Users\\Kevin\\AppData\\Local\\Temp\\ipykernel_12976\\3288184646.py:85: FutureWarning: The default value of numeric_only in DataFrameGroupBy.std is deprecated. In a future version, numeric_only will default to False. Either specify numeric_only or select only columns which should be valid for the function.\n",
      "  std_type_df = type_df.groupby(roi_col).std()\n",
      "Pickle File Processed:  37%|\u001B[31m███▋      \u001B[0m| 80/214 [12:15<13:57,  6.25s/it]"
     ]
    },
    {
     "name": "stdout",
     "output_type": "stream",
     "text": [
      "saving excel\n",
      "converting pkl to df:\n"
     ]
    },
    {
     "name": "stderr",
     "output_type": "stream",
     "text": [
      "C:\\Users\\Kevin\\AppData\\Local\\Temp\\ipykernel_12976\\3288184646.py:84: FutureWarning: The default value of numeric_only in DataFrameGroupBy.mean is deprecated. In a future version, numeric_only will default to False. Either specify numeric_only or select only columns which should be valid for the function.\n",
      "  avg_type_df = type_df.groupby(roi_col).mean()\n",
      "C:\\Users\\Kevin\\AppData\\Local\\Temp\\ipykernel_12976\\3288184646.py:85: FutureWarning: The default value of numeric_only in DataFrameGroupBy.std is deprecated. In a future version, numeric_only will default to False. Either specify numeric_only or select only columns which should be valid for the function.\n",
      "  std_type_df = type_df.groupby(roi_col).std()\n",
      "Pickle File Processed:  38%|\u001B[31m███▊      \u001B[0m| 81/214 [12:16<10:30,  4.74s/it]"
     ]
    },
    {
     "name": "stdout",
     "output_type": "stream",
     "text": [
      "saving excel\n",
      "converting pkl to df:\n"
     ]
    },
    {
     "name": "stderr",
     "output_type": "stream",
     "text": [
      "C:\\Users\\Kevin\\AppData\\Local\\Temp\\ipykernel_12976\\3288184646.py:84: FutureWarning: The default value of numeric_only in DataFrameGroupBy.mean is deprecated. In a future version, numeric_only will default to False. Either specify numeric_only or select only columns which should be valid for the function.\n",
      "  avg_type_df = type_df.groupby(roi_col).mean()\n",
      "C:\\Users\\Kevin\\AppData\\Local\\Temp\\ipykernel_12976\\3288184646.py:85: FutureWarning: The default value of numeric_only in DataFrameGroupBy.std is deprecated. In a future version, numeric_only will default to False. Either specify numeric_only or select only columns which should be valid for the function.\n",
      "  std_type_df = type_df.groupby(roi_col).std()\n",
      "Pickle File Processed:  38%|\u001B[31m███▊      \u001B[0m| 82/214 [12:18<08:50,  4.02s/it]"
     ]
    },
    {
     "name": "stdout",
     "output_type": "stream",
     "text": [
      "saving excel\n",
      "converting pkl to df:\n"
     ]
    },
    {
     "name": "stderr",
     "output_type": "stream",
     "text": [
      "C:\\Users\\Kevin\\AppData\\Local\\Temp\\ipykernel_12976\\3288184646.py:84: FutureWarning: The default value of numeric_only in DataFrameGroupBy.mean is deprecated. In a future version, numeric_only will default to False. Either specify numeric_only or select only columns which should be valid for the function.\n",
      "  avg_type_df = type_df.groupby(roi_col).mean()\n",
      "C:\\Users\\Kevin\\AppData\\Local\\Temp\\ipykernel_12976\\3288184646.py:85: FutureWarning: The default value of numeric_only in DataFrameGroupBy.std is deprecated. In a future version, numeric_only will default to False. Either specify numeric_only or select only columns which should be valid for the function.\n",
      "  std_type_df = type_df.groupby(roi_col).std()\n",
      "Pickle File Processed:  39%|\u001B[31m███▉      \u001B[0m| 83/214 [12:34<16:19,  7.47s/it]"
     ]
    },
    {
     "name": "stdout",
     "output_type": "stream",
     "text": [
      "saving excel\n",
      "converting pkl to df:\n"
     ]
    },
    {
     "name": "stderr",
     "output_type": "stream",
     "text": [
      "C:\\Users\\Kevin\\AppData\\Local\\Temp\\ipykernel_12976\\3288184646.py:84: FutureWarning: The default value of numeric_only in DataFrameGroupBy.mean is deprecated. In a future version, numeric_only will default to False. Either specify numeric_only or select only columns which should be valid for the function.\n",
      "  avg_type_df = type_df.groupby(roi_col).mean()\n",
      "C:\\Users\\Kevin\\AppData\\Local\\Temp\\ipykernel_12976\\3288184646.py:85: FutureWarning: The default value of numeric_only in DataFrameGroupBy.std is deprecated. In a future version, numeric_only will default to False. Either specify numeric_only or select only columns which should be valid for the function.\n",
      "  std_type_df = type_df.groupby(roi_col).std()\n",
      "Pickle File Processed:  39%|\u001B[31m███▉      \u001B[0m| 84/214 [12:40<15:42,  7.25s/it]"
     ]
    },
    {
     "name": "stdout",
     "output_type": "stream",
     "text": [
      "saving excel\n",
      "converting pkl to df:\n"
     ]
    },
    {
     "name": "stderr",
     "output_type": "stream",
     "text": [
      "C:\\Users\\Kevin\\AppData\\Local\\Temp\\ipykernel_12976\\3288184646.py:84: FutureWarning: The default value of numeric_only in DataFrameGroupBy.mean is deprecated. In a future version, numeric_only will default to False. Either specify numeric_only or select only columns which should be valid for the function.\n",
      "  avg_type_df = type_df.groupby(roi_col).mean()\n",
      "C:\\Users\\Kevin\\AppData\\Local\\Temp\\ipykernel_12976\\3288184646.py:85: FutureWarning: The default value of numeric_only in DataFrameGroupBy.std is deprecated. In a future version, numeric_only will default to False. Either specify numeric_only or select only columns which should be valid for the function.\n",
      "  std_type_df = type_df.groupby(roi_col).std()\n",
      "Pickle File Processed:  40%|\u001B[31m███▉      \u001B[0m| 85/214 [12:51<17:53,  8.32s/it]"
     ]
    },
    {
     "name": "stdout",
     "output_type": "stream",
     "text": [
      "saving excel\n",
      "converting pkl to df:\n"
     ]
    },
    {
     "name": "stderr",
     "output_type": "stream",
     "text": [
      "C:\\Users\\Kevin\\AppData\\Local\\Temp\\ipykernel_12976\\3288184646.py:84: FutureWarning: The default value of numeric_only in DataFrameGroupBy.mean is deprecated. In a future version, numeric_only will default to False. Either specify numeric_only or select only columns which should be valid for the function.\n",
      "  avg_type_df = type_df.groupby(roi_col).mean()\n",
      "C:\\Users\\Kevin\\AppData\\Local\\Temp\\ipykernel_12976\\3288184646.py:85: FutureWarning: The default value of numeric_only in DataFrameGroupBy.std is deprecated. In a future version, numeric_only will default to False. Either specify numeric_only or select only columns which should be valid for the function.\n",
      "  std_type_df = type_df.groupby(roi_col).std()\n",
      "Pickle File Processed:  40%|\u001B[31m████      \u001B[0m| 86/214 [12:57<15:57,  7.48s/it]"
     ]
    },
    {
     "name": "stdout",
     "output_type": "stream",
     "text": [
      "saving excel\n",
      "converting pkl to df:\n"
     ]
    },
    {
     "name": "stderr",
     "output_type": "stream",
     "text": [
      "C:\\Users\\Kevin\\AppData\\Local\\Temp\\ipykernel_12976\\3288184646.py:84: FutureWarning: The default value of numeric_only in DataFrameGroupBy.mean is deprecated. In a future version, numeric_only will default to False. Either specify numeric_only or select only columns which should be valid for the function.\n",
      "  avg_type_df = type_df.groupby(roi_col).mean()\n",
      "C:\\Users\\Kevin\\AppData\\Local\\Temp\\ipykernel_12976\\3288184646.py:85: FutureWarning: The default value of numeric_only in DataFrameGroupBy.std is deprecated. In a future version, numeric_only will default to False. Either specify numeric_only or select only columns which should be valid for the function.\n",
      "  std_type_df = type_df.groupby(roi_col).std()\n",
      "Pickle File Processed:  41%|\u001B[31m████      \u001B[0m| 87/214 [13:06<16:58,  8.02s/it]"
     ]
    },
    {
     "name": "stdout",
     "output_type": "stream",
     "text": [
      "saving excel\n",
      "converting pkl to df:\n"
     ]
    },
    {
     "name": "stderr",
     "output_type": "stream",
     "text": [
      "C:\\Users\\Kevin\\AppData\\Local\\Temp\\ipykernel_12976\\3288184646.py:84: FutureWarning: The default value of numeric_only in DataFrameGroupBy.mean is deprecated. In a future version, numeric_only will default to False. Either specify numeric_only or select only columns which should be valid for the function.\n",
      "  avg_type_df = type_df.groupby(roi_col).mean()\n",
      "C:\\Users\\Kevin\\AppData\\Local\\Temp\\ipykernel_12976\\3288184646.py:85: FutureWarning: The default value of numeric_only in DataFrameGroupBy.std is deprecated. In a future version, numeric_only will default to False. Either specify numeric_only or select only columns which should be valid for the function.\n",
      "  std_type_df = type_df.groupby(roi_col).std()\n",
      "Pickle File Processed:  41%|\u001B[31m████      \u001B[0m| 88/214 [13:22<21:37, 10.30s/it]"
     ]
    },
    {
     "name": "stdout",
     "output_type": "stream",
     "text": [
      "saving excel\n",
      "converting pkl to df:\n"
     ]
    },
    {
     "name": "stderr",
     "output_type": "stream",
     "text": [
      "C:\\Users\\Kevin\\AppData\\Local\\Temp\\ipykernel_12976\\3288184646.py:84: FutureWarning: The default value of numeric_only in DataFrameGroupBy.mean is deprecated. In a future version, numeric_only will default to False. Either specify numeric_only or select only columns which should be valid for the function.\n",
      "  avg_type_df = type_df.groupby(roi_col).mean()\n",
      "C:\\Users\\Kevin\\AppData\\Local\\Temp\\ipykernel_12976\\3288184646.py:85: FutureWarning: The default value of numeric_only in DataFrameGroupBy.std is deprecated. In a future version, numeric_only will default to False. Either specify numeric_only or select only columns which should be valid for the function.\n",
      "  std_type_df = type_df.groupby(roi_col).std()\n",
      "Pickle File Processed:  42%|\u001B[31m████▏     \u001B[0m| 89/214 [13:23<15:57,  7.66s/it]"
     ]
    },
    {
     "name": "stdout",
     "output_type": "stream",
     "text": [
      "saving excel\n",
      "converting pkl to df:\n"
     ]
    },
    {
     "name": "stderr",
     "output_type": "stream",
     "text": [
      "C:\\Users\\Kevin\\AppData\\Local\\Temp\\ipykernel_12976\\3288184646.py:84: FutureWarning: The default value of numeric_only in DataFrameGroupBy.mean is deprecated. In a future version, numeric_only will default to False. Either specify numeric_only or select only columns which should be valid for the function.\n",
      "  avg_type_df = type_df.groupby(roi_col).mean()\n",
      "C:\\Users\\Kevin\\AppData\\Local\\Temp\\ipykernel_12976\\3288184646.py:85: FutureWarning: The default value of numeric_only in DataFrameGroupBy.std is deprecated. In a future version, numeric_only will default to False. Either specify numeric_only or select only columns which should be valid for the function.\n",
      "  std_type_df = type_df.groupby(roi_col).std()\n"
     ]
    },
    {
     "name": "stdout",
     "output_type": "stream",
     "text": [
      "rois {1, 2} not included out of all rois {1, 2} for type 11\n"
     ]
    },
    {
     "name": "stderr",
     "output_type": "stream",
     "text": [
      "C:\\Users\\Kevin\\AppData\\Local\\Temp\\ipykernel_12976\\3288184646.py:84: FutureWarning: The default value of numeric_only in DataFrameGroupBy.mean is deprecated. In a future version, numeric_only will default to False. Either specify numeric_only or select only columns which should be valid for the function.\n",
      "  avg_type_df = type_df.groupby(roi_col).mean()\n",
      "C:\\Users\\Kevin\\AppData\\Local\\Temp\\ipykernel_12976\\3288184646.py:85: FutureWarning: The default value of numeric_only in DataFrameGroupBy.std is deprecated. In a future version, numeric_only will default to False. Either specify numeric_only or select only columns which should be valid for the function.\n",
      "  std_type_df = type_df.groupby(roi_col).std()\n"
     ]
    },
    {
     "name": "stdout",
     "output_type": "stream",
     "text": [
      "saving excel\n"
     ]
    },
    {
     "name": "stderr",
     "output_type": "stream",
     "text": [
      "Pickle File Processed:  42%|\u001B[31m████▏     \u001B[0m| 90/214 [13:32<16:23,  7.93s/it]"
     ]
    },
    {
     "name": "stdout",
     "output_type": "stream",
     "text": [
      "converting pkl to df:\n"
     ]
    },
    {
     "name": "stderr",
     "output_type": "stream",
     "text": [
      "C:\\Users\\Kevin\\AppData\\Local\\Temp\\ipykernel_12976\\3288184646.py:84: FutureWarning: The default value of numeric_only in DataFrameGroupBy.mean is deprecated. In a future version, numeric_only will default to False. Either specify numeric_only or select only columns which should be valid for the function.\n",
      "  avg_type_df = type_df.groupby(roi_col).mean()\n",
      "C:\\Users\\Kevin\\AppData\\Local\\Temp\\ipykernel_12976\\3288184646.py:85: FutureWarning: The default value of numeric_only in DataFrameGroupBy.std is deprecated. In a future version, numeric_only will default to False. Either specify numeric_only or select only columns which should be valid for the function.\n",
      "  std_type_df = type_df.groupby(roi_col).std()\n",
      "C:\\Users\\Kevin\\AppData\\Local\\Temp\\ipykernel_12976\\3288184646.py:84: FutureWarning: The default value of numeric_only in DataFrameGroupBy.mean is deprecated. In a future version, numeric_only will default to False. Either specify numeric_only or select only columns which should be valid for the function.\n",
      "  avg_type_df = type_df.groupby(roi_col).mean()\n",
      "C:\\Users\\Kevin\\AppData\\Local\\Temp\\ipykernel_12976\\3288184646.py:85: FutureWarning: The default value of numeric_only in DataFrameGroupBy.std is deprecated. In a future version, numeric_only will default to False. Either specify numeric_only or select only columns which should be valid for the function.\n",
      "  std_type_df = type_df.groupby(roi_col).std()\n",
      "C:\\Users\\Kevin\\AppData\\Local\\Temp\\ipykernel_12976\\3288184646.py:84: FutureWarning: The default value of numeric_only in DataFrameGroupBy.mean is deprecated. In a future version, numeric_only will default to False. Either specify numeric_only or select only columns which should be valid for the function.\n",
      "  avg_type_df = type_df.groupby(roi_col).mean()\n",
      "C:\\Users\\Kevin\\AppData\\Local\\Temp\\ipykernel_12976\\3288184646.py:85: FutureWarning: The default value of numeric_only in DataFrameGroupBy.std is deprecated. In a future version, numeric_only will default to False. Either specify numeric_only or select only columns which should be valid for the function.\n",
      "  std_type_df = type_df.groupby(roi_col).std()\n"
     ]
    },
    {
     "name": "stdout",
     "output_type": "stream",
     "text": [
      "rois {1} not included out of all rois {1} for type 3\n",
      "rois {1} not included out of all rois {1} for type 11\n",
      "saving excel\n"
     ]
    },
    {
     "name": "stderr",
     "output_type": "stream",
     "text": [
      "Pickle File Processed:  43%|\u001B[31m████▎     \u001B[0m| 91/214 [13:32<11:43,  5.72s/it]"
     ]
    },
    {
     "name": "stdout",
     "output_type": "stream",
     "text": [
      "converting pkl to df:\n"
     ]
    },
    {
     "name": "stderr",
     "output_type": "stream",
     "text": [
      "C:\\Users\\Kevin\\AppData\\Local\\Temp\\ipykernel_12976\\3288184646.py:84: FutureWarning: The default value of numeric_only in DataFrameGroupBy.mean is deprecated. In a future version, numeric_only will default to False. Either specify numeric_only or select only columns which should be valid for the function.\n",
      "  avg_type_df = type_df.groupby(roi_col).mean()\n",
      "C:\\Users\\Kevin\\AppData\\Local\\Temp\\ipykernel_12976\\3288184646.py:85: FutureWarning: The default value of numeric_only in DataFrameGroupBy.std is deprecated. In a future version, numeric_only will default to False. Either specify numeric_only or select only columns which should be valid for the function.\n",
      "  std_type_df = type_df.groupby(roi_col).std()\n"
     ]
    },
    {
     "name": "stdout",
     "output_type": "stream",
     "text": [
      "saving excel\n"
     ]
    },
    {
     "name": "stderr",
     "output_type": "stream",
     "text": [
      "Pickle File Processed:  43%|\u001B[31m████▎     \u001B[0m| 92/214 [13:40<12:36,  6.20s/it]"
     ]
    },
    {
     "name": "stdout",
     "output_type": "stream",
     "text": [
      "converting pkl to df:\n"
     ]
    },
    {
     "name": "stderr",
     "output_type": "stream",
     "text": [
      "C:\\Users\\Kevin\\AppData\\Local\\Temp\\ipykernel_12976\\3288184646.py:84: FutureWarning: The default value of numeric_only in DataFrameGroupBy.mean is deprecated. In a future version, numeric_only will default to False. Either specify numeric_only or select only columns which should be valid for the function.\n",
      "  avg_type_df = type_df.groupby(roi_col).mean()\n",
      "C:\\Users\\Kevin\\AppData\\Local\\Temp\\ipykernel_12976\\3288184646.py:85: FutureWarning: The default value of numeric_only in DataFrameGroupBy.std is deprecated. In a future version, numeric_only will default to False. Either specify numeric_only or select only columns which should be valid for the function.\n",
      "  std_type_df = type_df.groupby(roi_col).std()\n"
     ]
    },
    {
     "name": "stdout",
     "output_type": "stream",
     "text": [
      "rois {2} not included out of all rois {1, 2} for type 3\n"
     ]
    },
    {
     "name": "stderr",
     "output_type": "stream",
     "text": [
      "Pickle File Processed:  43%|\u001B[31m████▎     \u001B[0m| 93/214 [13:42<10:13,  5.07s/it]"
     ]
    },
    {
     "name": "stdout",
     "output_type": "stream",
     "text": [
      "saving excel\n",
      "converting pkl to df:\n"
     ]
    },
    {
     "name": "stderr",
     "output_type": "stream",
     "text": [
      "C:\\Users\\Kevin\\AppData\\Local\\Temp\\ipykernel_12976\\3288184646.py:84: FutureWarning: The default value of numeric_only in DataFrameGroupBy.mean is deprecated. In a future version, numeric_only will default to False. Either specify numeric_only or select only columns which should be valid for the function.\n",
      "  avg_type_df = type_df.groupby(roi_col).mean()\n",
      "C:\\Users\\Kevin\\AppData\\Local\\Temp\\ipykernel_12976\\3288184646.py:85: FutureWarning: The default value of numeric_only in DataFrameGroupBy.std is deprecated. In a future version, numeric_only will default to False. Either specify numeric_only or select only columns which should be valid for the function.\n",
      "  std_type_df = type_df.groupby(roi_col).std()\n",
      "Pickle File Processed:  44%|\u001B[31m████▍     \u001B[0m| 94/214 [13:45<08:46,  4.38s/it]"
     ]
    },
    {
     "name": "stdout",
     "output_type": "stream",
     "text": [
      "saving excel\n",
      "converting pkl to df:\n"
     ]
    },
    {
     "name": "stderr",
     "output_type": "stream",
     "text": [
      "C:\\Users\\Kevin\\AppData\\Local\\Temp\\ipykernel_12976\\3288184646.py:84: FutureWarning: The default value of numeric_only in DataFrameGroupBy.mean is deprecated. In a future version, numeric_only will default to False. Either specify numeric_only or select only columns which should be valid for the function.\n",
      "  avg_type_df = type_df.groupby(roi_col).mean()\n",
      "C:\\Users\\Kevin\\AppData\\Local\\Temp\\ipykernel_12976\\3288184646.py:85: FutureWarning: The default value of numeric_only in DataFrameGroupBy.std is deprecated. In a future version, numeric_only will default to False. Either specify numeric_only or select only columns which should be valid for the function.\n",
      "  std_type_df = type_df.groupby(roi_col).std()\n",
      "C:\\Users\\Kevin\\AppData\\Local\\Temp\\ipykernel_12976\\3288184646.py:84: FutureWarning: The default value of numeric_only in DataFrameGroupBy.mean is deprecated. In a future version, numeric_only will default to False. Either specify numeric_only or select only columns which should be valid for the function.\n",
      "  avg_type_df = type_df.groupby(roi_col).mean()\n",
      "C:\\Users\\Kevin\\AppData\\Local\\Temp\\ipykernel_12976\\3288184646.py:85: FutureWarning: The default value of numeric_only in DataFrameGroupBy.std is deprecated. In a future version, numeric_only will default to False. Either specify numeric_only or select only columns which should be valid for the function.\n",
      "  std_type_df = type_df.groupby(roi_col).std()\n"
     ]
    },
    {
     "name": "stdout",
     "output_type": "stream",
     "text": [
      "rois {1, 2} not included out of all rois {1, 2} for type 3\n"
     ]
    },
    {
     "name": "stderr",
     "output_type": "stream",
     "text": [
      "Pickle File Processed:  44%|\u001B[31m████▍     \u001B[0m| 95/214 [13:48<08:11,  4.13s/it]"
     ]
    },
    {
     "name": "stdout",
     "output_type": "stream",
     "text": [
      "saving excel\n",
      "converting pkl to df:\n"
     ]
    },
    {
     "name": "stderr",
     "output_type": "stream",
     "text": [
      "C:\\Users\\Kevin\\AppData\\Local\\Temp\\ipykernel_12976\\3288184646.py:84: FutureWarning: The default value of numeric_only in DataFrameGroupBy.mean is deprecated. In a future version, numeric_only will default to False. Either specify numeric_only or select only columns which should be valid for the function.\n",
      "  avg_type_df = type_df.groupby(roi_col).mean()\n",
      "C:\\Users\\Kevin\\AppData\\Local\\Temp\\ipykernel_12976\\3288184646.py:85: FutureWarning: The default value of numeric_only in DataFrameGroupBy.std is deprecated. In a future version, numeric_only will default to False. Either specify numeric_only or select only columns which should be valid for the function.\n",
      "  std_type_df = type_df.groupby(roi_col).std()\n"
     ]
    },
    {
     "name": "stdout",
     "output_type": "stream",
     "text": [
      "rois {1} not included out of all rois {1} for type 11\n"
     ]
    },
    {
     "name": "stderr",
     "output_type": "stream",
     "text": [
      "C:\\Users\\Kevin\\AppData\\Local\\Temp\\ipykernel_12976\\3288184646.py:84: FutureWarning: The default value of numeric_only in DataFrameGroupBy.mean is deprecated. In a future version, numeric_only will default to False. Either specify numeric_only or select only columns which should be valid for the function.\n",
      "  avg_type_df = type_df.groupby(roi_col).mean()\n",
      "C:\\Users\\Kevin\\AppData\\Local\\Temp\\ipykernel_12976\\3288184646.py:85: FutureWarning: The default value of numeric_only in DataFrameGroupBy.std is deprecated. In a future version, numeric_only will default to False. Either specify numeric_only or select only columns which should be valid for the function.\n",
      "  std_type_df = type_df.groupby(roi_col).std()\n",
      "Pickle File Processed:  45%|\u001B[31m████▍     \u001B[0m| 96/214 [13:50<06:47,  3.45s/it]"
     ]
    },
    {
     "name": "stdout",
     "output_type": "stream",
     "text": [
      "saving excel\n",
      "converting pkl to df:\n"
     ]
    },
    {
     "name": "stderr",
     "output_type": "stream",
     "text": [
      "C:\\Users\\Kevin\\AppData\\Local\\Temp\\ipykernel_12976\\3288184646.py:84: FutureWarning: The default value of numeric_only in DataFrameGroupBy.mean is deprecated. In a future version, numeric_only will default to False. Either specify numeric_only or select only columns which should be valid for the function.\n",
      "  avg_type_df = type_df.groupby(roi_col).mean()\n",
      "C:\\Users\\Kevin\\AppData\\Local\\Temp\\ipykernel_12976\\3288184646.py:85: FutureWarning: The default value of numeric_only in DataFrameGroupBy.std is deprecated. In a future version, numeric_only will default to False. Either specify numeric_only or select only columns which should be valid for the function.\n",
      "  std_type_df = type_df.groupby(roi_col).std()\n",
      "C:\\Users\\Kevin\\AppData\\Local\\Temp\\ipykernel_12976\\3288184646.py:84: FutureWarning: The default value of numeric_only in DataFrameGroupBy.mean is deprecated. In a future version, numeric_only will default to False. Either specify numeric_only or select only columns which should be valid for the function.\n",
      "  avg_type_df = type_df.groupby(roi_col).mean()\n",
      "C:\\Users\\Kevin\\AppData\\Local\\Temp\\ipykernel_12976\\3288184646.py:85: FutureWarning: The default value of numeric_only in DataFrameGroupBy.std is deprecated. In a future version, numeric_only will default to False. Either specify numeric_only or select only columns which should be valid for the function.\n",
      "  std_type_df = type_df.groupby(roi_col).std()\n"
     ]
    },
    {
     "name": "stdout",
     "output_type": "stream",
     "text": [
      "rois {2} not included out of all rois {1, 2} for type 3\n",
      "rois {1, 2} not included out of all rois {1, 2} for type 4\n"
     ]
    },
    {
     "name": "stderr",
     "output_type": "stream",
     "text": [
      "Pickle File Processed:  45%|\u001B[31m████▌     \u001B[0m| 97/214 [13:51<05:07,  2.63s/it]"
     ]
    },
    {
     "name": "stdout",
     "output_type": "stream",
     "text": [
      "saving excel\n",
      "converting pkl to df:\n"
     ]
    },
    {
     "name": "stderr",
     "output_type": "stream",
     "text": [
      "C:\\Users\\Kevin\\AppData\\Local\\Temp\\ipykernel_12976\\3288184646.py:84: FutureWarning: The default value of numeric_only in DataFrameGroupBy.mean is deprecated. In a future version, numeric_only will default to False. Either specify numeric_only or select only columns which should be valid for the function.\n",
      "  avg_type_df = type_df.groupby(roi_col).mean()\n",
      "C:\\Users\\Kevin\\AppData\\Local\\Temp\\ipykernel_12976\\3288184646.py:85: FutureWarning: The default value of numeric_only in DataFrameGroupBy.std is deprecated. In a future version, numeric_only will default to False. Either specify numeric_only or select only columns which should be valid for the function.\n",
      "  std_type_df = type_df.groupby(roi_col).std()\n",
      "Pickle File Processed:  46%|\u001B[31m████▌     \u001B[0m| 98/214 [13:59<07:59,  4.13s/it]"
     ]
    },
    {
     "name": "stdout",
     "output_type": "stream",
     "text": [
      "saving excel\n",
      "converting pkl to df:\n"
     ]
    },
    {
     "name": "stderr",
     "output_type": "stream",
     "text": [
      "C:\\Users\\Kevin\\AppData\\Local\\Temp\\ipykernel_12976\\3288184646.py:84: FutureWarning: The default value of numeric_only in DataFrameGroupBy.mean is deprecated. In a future version, numeric_only will default to False. Either specify numeric_only or select only columns which should be valid for the function.\n",
      "  avg_type_df = type_df.groupby(roi_col).mean()\n",
      "C:\\Users\\Kevin\\AppData\\Local\\Temp\\ipykernel_12976\\3288184646.py:85: FutureWarning: The default value of numeric_only in DataFrameGroupBy.std is deprecated. In a future version, numeric_only will default to False. Either specify numeric_only or select only columns which should be valid for the function.\n",
      "  std_type_df = type_df.groupby(roi_col).std()\n",
      "Pickle File Processed:  46%|\u001B[31m████▋     \u001B[0m| 99/214 [14:03<07:52,  4.11s/it]"
     ]
    },
    {
     "name": "stdout",
     "output_type": "stream",
     "text": [
      "saving excel\n",
      "converting pkl to df:\n"
     ]
    },
    {
     "name": "stderr",
     "output_type": "stream",
     "text": [
      "C:\\Users\\Kevin\\AppData\\Local\\Temp\\ipykernel_12976\\3288184646.py:84: FutureWarning: The default value of numeric_only in DataFrameGroupBy.mean is deprecated. In a future version, numeric_only will default to False. Either specify numeric_only or select only columns which should be valid for the function.\n",
      "  avg_type_df = type_df.groupby(roi_col).mean()\n",
      "C:\\Users\\Kevin\\AppData\\Local\\Temp\\ipykernel_12976\\3288184646.py:85: FutureWarning: The default value of numeric_only in DataFrameGroupBy.std is deprecated. In a future version, numeric_only will default to False. Either specify numeric_only or select only columns which should be valid for the function.\n",
      "  std_type_df = type_df.groupby(roi_col).std()\n"
     ]
    },
    {
     "name": "stdout",
     "output_type": "stream",
     "text": [
      "rois {3, 4} not included out of all rois {1, 2, 3, 4} for type 6\n",
      "saving excel\n"
     ]
    },
    {
     "name": "stderr",
     "output_type": "stream",
     "text": [
      "Pickle File Processed:  47%|\u001B[31m████▋     \u001B[0m| 100/214 [14:31<21:46, 11.46s/it]"
     ]
    },
    {
     "name": "stdout",
     "output_type": "stream",
     "text": [
      "converting pkl to df:\n"
     ]
    },
    {
     "name": "stderr",
     "output_type": "stream",
     "text": [
      "C:\\Users\\Kevin\\AppData\\Local\\Temp\\ipykernel_12976\\3288184646.py:84: FutureWarning: The default value of numeric_only in DataFrameGroupBy.mean is deprecated. In a future version, numeric_only will default to False. Either specify numeric_only or select only columns which should be valid for the function.\n",
      "  avg_type_df = type_df.groupby(roi_col).mean()\n",
      "C:\\Users\\Kevin\\AppData\\Local\\Temp\\ipykernel_12976\\3288184646.py:85: FutureWarning: The default value of numeric_only in DataFrameGroupBy.std is deprecated. In a future version, numeric_only will default to False. Either specify numeric_only or select only columns which should be valid for the function.\n",
      "  std_type_df = type_df.groupby(roi_col).std()\n"
     ]
    },
    {
     "name": "stdout",
     "output_type": "stream",
     "text": [
      "rois {1} not included out of all rois {1} for type 11\n"
     ]
    },
    {
     "name": "stderr",
     "output_type": "stream",
     "text": [
      "C:\\Users\\Kevin\\AppData\\Local\\Temp\\ipykernel_12976\\3288184646.py:84: FutureWarning: The default value of numeric_only in DataFrameGroupBy.mean is deprecated. In a future version, numeric_only will default to False. Either specify numeric_only or select only columns which should be valid for the function.\n",
      "  avg_type_df = type_df.groupby(roi_col).mean()\n",
      "C:\\Users\\Kevin\\AppData\\Local\\Temp\\ipykernel_12976\\3288184646.py:85: FutureWarning: The default value of numeric_only in DataFrameGroupBy.std is deprecated. In a future version, numeric_only will default to False. Either specify numeric_only or select only columns which should be valid for the function.\n",
      "  std_type_df = type_df.groupby(roi_col).std()\n",
      "Pickle File Processed:  47%|\u001B[31m████▋     \u001B[0m| 101/214 [14:34<16:27,  8.74s/it]"
     ]
    },
    {
     "name": "stdout",
     "output_type": "stream",
     "text": [
      "saving excel\n",
      "converting pkl to df:\n"
     ]
    },
    {
     "name": "stderr",
     "output_type": "stream",
     "text": [
      "C:\\Users\\Kevin\\AppData\\Local\\Temp\\ipykernel_12976\\3288184646.py:84: FutureWarning: The default value of numeric_only in DataFrameGroupBy.mean is deprecated. In a future version, numeric_only will default to False. Either specify numeric_only or select only columns which should be valid for the function.\n",
      "  avg_type_df = type_df.groupby(roi_col).mean()\n",
      "C:\\Users\\Kevin\\AppData\\Local\\Temp\\ipykernel_12976\\3288184646.py:85: FutureWarning: The default value of numeric_only in DataFrameGroupBy.std is deprecated. In a future version, numeric_only will default to False. Either specify numeric_only or select only columns which should be valid for the function.\n",
      "  std_type_df = type_df.groupby(roi_col).std()\n",
      "C:\\Users\\Kevin\\AppData\\Local\\Temp\\ipykernel_12976\\3288184646.py:84: FutureWarning: The default value of numeric_only in DataFrameGroupBy.mean is deprecated. In a future version, numeric_only will default to False. Either specify numeric_only or select only columns which should be valid for the function.\n",
      "  avg_type_df = type_df.groupby(roi_col).mean()\n",
      "C:\\Users\\Kevin\\AppData\\Local\\Temp\\ipykernel_12976\\3288184646.py:85: FutureWarning: The default value of numeric_only in DataFrameGroupBy.std is deprecated. In a future version, numeric_only will default to False. Either specify numeric_only or select only columns which should be valid for the function.\n",
      "  std_type_df = type_df.groupby(roi_col).std()\n"
     ]
    },
    {
     "name": "stdout",
     "output_type": "stream",
     "text": [
      "rois {1, 2, 3, 4} not included out of all rois {1, 2, 3, 4} for type 3\n",
      "rois {1, 3, 4} not included out of all rois {1, 2, 3, 4} for type 6\n",
      "rois {1, 3, 4} not included out of all rois {1, 2, 3, 4} for type 11\n"
     ]
    },
    {
     "name": "stderr",
     "output_type": "stream",
     "text": [
      "Pickle File Processed:  48%|\u001B[31m████▊     \u001B[0m| 102/214 [14:40<14:46,  7.92s/it]"
     ]
    },
    {
     "name": "stdout",
     "output_type": "stream",
     "text": [
      "saving excel\n",
      "converting pkl to df:\n"
     ]
    },
    {
     "name": "stderr",
     "output_type": "stream",
     "text": [
      "C:\\Users\\Kevin\\AppData\\Local\\Temp\\ipykernel_12976\\3288184646.py:84: FutureWarning: The default value of numeric_only in DataFrameGroupBy.mean is deprecated. In a future version, numeric_only will default to False. Either specify numeric_only or select only columns which should be valid for the function.\n",
      "  avg_type_df = type_df.groupby(roi_col).mean()\n",
      "C:\\Users\\Kevin\\AppData\\Local\\Temp\\ipykernel_12976\\3288184646.py:85: FutureWarning: The default value of numeric_only in DataFrameGroupBy.std is deprecated. In a future version, numeric_only will default to False. Either specify numeric_only or select only columns which should be valid for the function.\n",
      "  std_type_df = type_df.groupby(roi_col).std()\n",
      "Pickle File Processed:  48%|\u001B[31m████▊     \u001B[0m| 103/214 [14:46<13:48,  7.46s/it]"
     ]
    },
    {
     "name": "stdout",
     "output_type": "stream",
     "text": [
      "saving excel\n",
      "converting pkl to df:\n"
     ]
    },
    {
     "name": "stderr",
     "output_type": "stream",
     "text": [
      "C:\\Users\\Kevin\\AppData\\Local\\Temp\\ipykernel_12976\\3288184646.py:84: FutureWarning: The default value of numeric_only in DataFrameGroupBy.mean is deprecated. In a future version, numeric_only will default to False. Either specify numeric_only or select only columns which should be valid for the function.\n",
      "  avg_type_df = type_df.groupby(roi_col).mean()\n",
      "C:\\Users\\Kevin\\AppData\\Local\\Temp\\ipykernel_12976\\3288184646.py:85: FutureWarning: The default value of numeric_only in DataFrameGroupBy.std is deprecated. In a future version, numeric_only will default to False. Either specify numeric_only or select only columns which should be valid for the function.\n",
      "  std_type_df = type_df.groupby(roi_col).std()\n"
     ]
    },
    {
     "name": "stdout",
     "output_type": "stream",
     "text": [
      "rois {1} not included out of all rois {1, 2} for type 3\n"
     ]
    },
    {
     "name": "stderr",
     "output_type": "stream",
     "text": [
      "Pickle File Processed:  49%|\u001B[31m████▊     \u001B[0m| 104/214 [14:51<12:32,  6.84s/it]"
     ]
    },
    {
     "name": "stdout",
     "output_type": "stream",
     "text": [
      "saving excel\n",
      "converting pkl to df:\n"
     ]
    },
    {
     "name": "stderr",
     "output_type": "stream",
     "text": [
      "C:\\Users\\Kevin\\AppData\\Local\\Temp\\ipykernel_12976\\3288184646.py:84: FutureWarning: The default value of numeric_only in DataFrameGroupBy.mean is deprecated. In a future version, numeric_only will default to False. Either specify numeric_only or select only columns which should be valid for the function.\n",
      "  avg_type_df = type_df.groupby(roi_col).mean()\n",
      "C:\\Users\\Kevin\\AppData\\Local\\Temp\\ipykernel_12976\\3288184646.py:85: FutureWarning: The default value of numeric_only in DataFrameGroupBy.std is deprecated. In a future version, numeric_only will default to False. Either specify numeric_only or select only columns which should be valid for the function.\n",
      "  std_type_df = type_df.groupby(roi_col).std()\n",
      "Pickle File Processed:  49%|\u001B[31m████▉     \u001B[0m| 105/214 [15:12<19:39, 10.82s/it]"
     ]
    },
    {
     "name": "stdout",
     "output_type": "stream",
     "text": [
      "saving excel\n",
      "converting pkl to df:\n"
     ]
    },
    {
     "name": "stderr",
     "output_type": "stream",
     "text": [
      "C:\\Users\\Kevin\\AppData\\Local\\Temp\\ipykernel_12976\\3288184646.py:84: FutureWarning: The default value of numeric_only in DataFrameGroupBy.mean is deprecated. In a future version, numeric_only will default to False. Either specify numeric_only or select only columns which should be valid for the function.\n",
      "  avg_type_df = type_df.groupby(roi_col).mean()\n",
      "C:\\Users\\Kevin\\AppData\\Local\\Temp\\ipykernel_12976\\3288184646.py:85: FutureWarning: The default value of numeric_only in DataFrameGroupBy.std is deprecated. In a future version, numeric_only will default to False. Either specify numeric_only or select only columns which should be valid for the function.\n",
      "  std_type_df = type_df.groupby(roi_col).std()\n"
     ]
    },
    {
     "name": "stdout",
     "output_type": "stream",
     "text": [
      "saving excel\n"
     ]
    },
    {
     "name": "stderr",
     "output_type": "stream",
     "text": [
      "Pickle File Processed:  50%|\u001B[31m████▉     \u001B[0m| 106/214 [15:23<19:34, 10.88s/it]"
     ]
    },
    {
     "name": "stdout",
     "output_type": "stream",
     "text": [
      "converting pkl to df:\n"
     ]
    },
    {
     "name": "stderr",
     "output_type": "stream",
     "text": [
      "C:\\Users\\Kevin\\AppData\\Local\\Temp\\ipykernel_12976\\3288184646.py:84: FutureWarning: The default value of numeric_only in DataFrameGroupBy.mean is deprecated. In a future version, numeric_only will default to False. Either specify numeric_only or select only columns which should be valid for the function.\n",
      "  avg_type_df = type_df.groupby(roi_col).mean()\n",
      "C:\\Users\\Kevin\\AppData\\Local\\Temp\\ipykernel_12976\\3288184646.py:85: FutureWarning: The default value of numeric_only in DataFrameGroupBy.std is deprecated. In a future version, numeric_only will default to False. Either specify numeric_only or select only columns which should be valid for the function.\n",
      "  std_type_df = type_df.groupby(roi_col).std()\n",
      "Pickle File Processed:  50%|\u001B[31m█████     \u001B[0m| 107/214 [15:29<17:11,  9.64s/it]"
     ]
    },
    {
     "name": "stdout",
     "output_type": "stream",
     "text": [
      "saving excel\n",
      "converting pkl to df:\n"
     ]
    },
    {
     "name": "stderr",
     "output_type": "stream",
     "text": [
      "C:\\Users\\Kevin\\AppData\\Local\\Temp\\ipykernel_12976\\3288184646.py:84: FutureWarning: The default value of numeric_only in DataFrameGroupBy.mean is deprecated. In a future version, numeric_only will default to False. Either specify numeric_only or select only columns which should be valid for the function.\n",
      "  avg_type_df = type_df.groupby(roi_col).mean()\n",
      "C:\\Users\\Kevin\\AppData\\Local\\Temp\\ipykernel_12976\\3288184646.py:85: FutureWarning: The default value of numeric_only in DataFrameGroupBy.std is deprecated. In a future version, numeric_only will default to False. Either specify numeric_only or select only columns which should be valid for the function.\n",
      "  std_type_df = type_df.groupby(roi_col).std()\n",
      "Pickle File Processed:  50%|\u001B[31m█████     \u001B[0m| 108/214 [15:32<13:28,  7.63s/it]"
     ]
    },
    {
     "name": "stdout",
     "output_type": "stream",
     "text": [
      "saving excel\n",
      "converting pkl to df:\n"
     ]
    },
    {
     "name": "stderr",
     "output_type": "stream",
     "text": [
      "C:\\Users\\Kevin\\AppData\\Local\\Temp\\ipykernel_12976\\3288184646.py:84: FutureWarning: The default value of numeric_only in DataFrameGroupBy.mean is deprecated. In a future version, numeric_only will default to False. Either specify numeric_only or select only columns which should be valid for the function.\n",
      "  avg_type_df = type_df.groupby(roi_col).mean()\n",
      "C:\\Users\\Kevin\\AppData\\Local\\Temp\\ipykernel_12976\\3288184646.py:85: FutureWarning: The default value of numeric_only in DataFrameGroupBy.std is deprecated. In a future version, numeric_only will default to False. Either specify numeric_only or select only columns which should be valid for the function.\n",
      "  std_type_df = type_df.groupby(roi_col).std()\n",
      "Pickle File Processed:  51%|\u001B[31m█████     \u001B[0m| 109/214 [15:35<10:52,  6.21s/it]"
     ]
    },
    {
     "name": "stdout",
     "output_type": "stream",
     "text": [
      "saving excel\n",
      "converting pkl to df:\n"
     ]
    },
    {
     "name": "stderr",
     "output_type": "stream",
     "text": [
      "C:\\Users\\Kevin\\AppData\\Local\\Temp\\ipykernel_12976\\3288184646.py:84: FutureWarning: The default value of numeric_only in DataFrameGroupBy.mean is deprecated. In a future version, numeric_only will default to False. Either specify numeric_only or select only columns which should be valid for the function.\n",
      "  avg_type_df = type_df.groupby(roi_col).mean()\n",
      "C:\\Users\\Kevin\\AppData\\Local\\Temp\\ipykernel_12976\\3288184646.py:85: FutureWarning: The default value of numeric_only in DataFrameGroupBy.std is deprecated. In a future version, numeric_only will default to False. Either specify numeric_only or select only columns which should be valid for the function.\n",
      "  std_type_df = type_df.groupby(roi_col).std()\n",
      "Pickle File Processed:  51%|\u001B[31m█████▏    \u001B[0m| 110/214 [15:38<09:10,  5.30s/it]"
     ]
    },
    {
     "name": "stdout",
     "output_type": "stream",
     "text": [
      "saving excel\n",
      "converting pkl to df:\n"
     ]
    },
    {
     "name": "stderr",
     "output_type": "stream",
     "text": [
      "C:\\Users\\Kevin\\AppData\\Local\\Temp\\ipykernel_12976\\3288184646.py:84: FutureWarning: The default value of numeric_only in DataFrameGroupBy.mean is deprecated. In a future version, numeric_only will default to False. Either specify numeric_only or select only columns which should be valid for the function.\n",
      "  avg_type_df = type_df.groupby(roi_col).mean()\n",
      "C:\\Users\\Kevin\\AppData\\Local\\Temp\\ipykernel_12976\\3288184646.py:85: FutureWarning: The default value of numeric_only in DataFrameGroupBy.std is deprecated. In a future version, numeric_only will default to False. Either specify numeric_only or select only columns which should be valid for the function.\n",
      "  std_type_df = type_df.groupby(roi_col).std()\n",
      "C:\\Users\\Kevin\\AppData\\Local\\Temp\\ipykernel_12976\\3288184646.py:84: FutureWarning: The default value of numeric_only in DataFrameGroupBy.mean is deprecated. In a future version, numeric_only will default to False. Either specify numeric_only or select only columns which should be valid for the function.\n",
      "  avg_type_df = type_df.groupby(roi_col).mean()\n",
      "C:\\Users\\Kevin\\AppData\\Local\\Temp\\ipykernel_12976\\3288184646.py:85: FutureWarning: The default value of numeric_only in DataFrameGroupBy.std is deprecated. In a future version, numeric_only will default to False. Either specify numeric_only or select only columns which should be valid for the function.\n",
      "  std_type_df = type_df.groupby(roi_col).std()\n",
      "C:\\Users\\Kevin\\AppData\\Local\\Temp\\ipykernel_12976\\3288184646.py:84: FutureWarning: The default value of numeric_only in DataFrameGroupBy.mean is deprecated. In a future version, numeric_only will default to False. Either specify numeric_only or select only columns which should be valid for the function.\n",
      "  avg_type_df = type_df.groupby(roi_col).mean()\n",
      "C:\\Users\\Kevin\\AppData\\Local\\Temp\\ipykernel_12976\\3288184646.py:85: FutureWarning: The default value of numeric_only in DataFrameGroupBy.std is deprecated. In a future version, numeric_only will default to False. Either specify numeric_only or select only columns which should be valid for the function.\n",
      "  std_type_df = type_df.groupby(roi_col).std()\n"
     ]
    },
    {
     "name": "stdout",
     "output_type": "stream",
     "text": [
      "rois {1} not included out of all rois {1} for type 3\n",
      "rois {1} not included out of all rois {1} for type 6\n"
     ]
    },
    {
     "name": "stderr",
     "output_type": "stream",
     "text": [
      "Pickle File Processed:  52%|\u001B[31m█████▏    \u001B[0m| 111/214 [15:39<06:52,  4.00s/it]"
     ]
    },
    {
     "name": "stdout",
     "output_type": "stream",
     "text": [
      "saving excel\n",
      "converting pkl to df:\n"
     ]
    },
    {
     "name": "stderr",
     "output_type": "stream",
     "text": [
      "C:\\Users\\Kevin\\AppData\\Local\\Temp\\ipykernel_12976\\3288184646.py:84: FutureWarning: The default value of numeric_only in DataFrameGroupBy.mean is deprecated. In a future version, numeric_only will default to False. Either specify numeric_only or select only columns which should be valid for the function.\n",
      "  avg_type_df = type_df.groupby(roi_col).mean()\n",
      "C:\\Users\\Kevin\\AppData\\Local\\Temp\\ipykernel_12976\\3288184646.py:85: FutureWarning: The default value of numeric_only in DataFrameGroupBy.std is deprecated. In a future version, numeric_only will default to False. Either specify numeric_only or select only columns which should be valid for the function.\n",
      "  std_type_df = type_df.groupby(roi_col).std()\n"
     ]
    },
    {
     "name": "stdout",
     "output_type": "stream",
     "text": [
      "rois {1} not included out of all rois {1, 2, 3} for type 3\n",
      "rois {1} not included out of all rois {1, 2, 3} for type 11\n"
     ]
    },
    {
     "name": "stderr",
     "output_type": "stream",
     "text": [
      "Pickle File Processed:  52%|\u001B[31m█████▏    \u001B[0m| 112/214 [15:51<10:39,  6.27s/it]"
     ]
    },
    {
     "name": "stdout",
     "output_type": "stream",
     "text": [
      "saving excel\n",
      "converting pkl to df:\n"
     ]
    },
    {
     "name": "stderr",
     "output_type": "stream",
     "text": [
      "C:\\Users\\Kevin\\AppData\\Local\\Temp\\ipykernel_12976\\3288184646.py:84: FutureWarning: The default value of numeric_only in DataFrameGroupBy.mean is deprecated. In a future version, numeric_only will default to False. Either specify numeric_only or select only columns which should be valid for the function.\n",
      "  avg_type_df = type_df.groupby(roi_col).mean()\n",
      "C:\\Users\\Kevin\\AppData\\Local\\Temp\\ipykernel_12976\\3288184646.py:85: FutureWarning: The default value of numeric_only in DataFrameGroupBy.std is deprecated. In a future version, numeric_only will default to False. Either specify numeric_only or select only columns which should be valid for the function.\n",
      "  std_type_df = type_df.groupby(roi_col).std()\n",
      "C:\\Users\\Kevin\\AppData\\Local\\Temp\\ipykernel_12976\\3288184646.py:84: FutureWarning: The default value of numeric_only in DataFrameGroupBy.mean is deprecated. In a future version, numeric_only will default to False. Either specify numeric_only or select only columns which should be valid for the function.\n",
      "  avg_type_df = type_df.groupby(roi_col).mean()\n",
      "C:\\Users\\Kevin\\AppData\\Local\\Temp\\ipykernel_12976\\3288184646.py:85: FutureWarning: The default value of numeric_only in DataFrameGroupBy.std is deprecated. In a future version, numeric_only will default to False. Either specify numeric_only or select only columns which should be valid for the function.\n",
      "  std_type_df = type_df.groupby(roi_col).std()\n"
     ]
    },
    {
     "name": "stdout",
     "output_type": "stream",
     "text": [
      "rois {1} not included out of all rois {1} for type 6\n"
     ]
    },
    {
     "name": "stderr",
     "output_type": "stream",
     "text": [
      "Pickle File Processed:  53%|\u001B[31m█████▎    \u001B[0m| 113/214 [15:53<08:29,  5.05s/it]"
     ]
    },
    {
     "name": "stdout",
     "output_type": "stream",
     "text": [
      "saving excel\n",
      "converting pkl to df:\n"
     ]
    },
    {
     "name": "stderr",
     "output_type": "stream",
     "text": [
      "C:\\Users\\Kevin\\AppData\\Local\\Temp\\ipykernel_12976\\3288184646.py:84: FutureWarning: The default value of numeric_only in DataFrameGroupBy.mean is deprecated. In a future version, numeric_only will default to False. Either specify numeric_only or select only columns which should be valid for the function.\n",
      "  avg_type_df = type_df.groupby(roi_col).mean()\n",
      "C:\\Users\\Kevin\\AppData\\Local\\Temp\\ipykernel_12976\\3288184646.py:85: FutureWarning: The default value of numeric_only in DataFrameGroupBy.std is deprecated. In a future version, numeric_only will default to False. Either specify numeric_only or select only columns which should be valid for the function.\n",
      "  std_type_df = type_df.groupby(roi_col).std()\n",
      "Pickle File Processed:  53%|\u001B[31m█████▎    \u001B[0m| 114/214 [15:59<08:46,  5.27s/it]"
     ]
    },
    {
     "name": "stdout",
     "output_type": "stream",
     "text": [
      "saving excel\n",
      "converting pkl to df:\n"
     ]
    },
    {
     "name": "stderr",
     "output_type": "stream",
     "text": [
      "C:\\Users\\Kevin\\AppData\\Local\\Temp\\ipykernel_12976\\3288184646.py:84: FutureWarning: The default value of numeric_only in DataFrameGroupBy.mean is deprecated. In a future version, numeric_only will default to False. Either specify numeric_only or select only columns which should be valid for the function.\n",
      "  avg_type_df = type_df.groupby(roi_col).mean()\n",
      "C:\\Users\\Kevin\\AppData\\Local\\Temp\\ipykernel_12976\\3288184646.py:85: FutureWarning: The default value of numeric_only in DataFrameGroupBy.std is deprecated. In a future version, numeric_only will default to False. Either specify numeric_only or select only columns which should be valid for the function.\n",
      "  std_type_df = type_df.groupby(roi_col).std()\n"
     ]
    },
    {
     "name": "stdout",
     "output_type": "stream",
     "text": [
      "rois {1} not included out of all rois {1, 2} for type 3\n"
     ]
    },
    {
     "name": "stderr",
     "output_type": "stream",
     "text": [
      "Pickle File Processed:  54%|\u001B[31m█████▎    \u001B[0m| 115/214 [16:07<10:14,  6.21s/it]"
     ]
    },
    {
     "name": "stdout",
     "output_type": "stream",
     "text": [
      "saving excel\n",
      "converting pkl to df:\n"
     ]
    },
    {
     "name": "stderr",
     "output_type": "stream",
     "text": [
      "C:\\Users\\Kevin\\AppData\\Local\\Temp\\ipykernel_12976\\3288184646.py:84: FutureWarning: The default value of numeric_only in DataFrameGroupBy.mean is deprecated. In a future version, numeric_only will default to False. Either specify numeric_only or select only columns which should be valid for the function.\n",
      "  avg_type_df = type_df.groupby(roi_col).mean()\n",
      "C:\\Users\\Kevin\\AppData\\Local\\Temp\\ipykernel_12976\\3288184646.py:85: FutureWarning: The default value of numeric_only in DataFrameGroupBy.std is deprecated. In a future version, numeric_only will default to False. Either specify numeric_only or select only columns which should be valid for the function.\n",
      "  std_type_df = type_df.groupby(roi_col).std()\n"
     ]
    },
    {
     "name": "stdout",
     "output_type": "stream",
     "text": [
      "rois {1} not included out of all rois {1, 2} for type 3\n"
     ]
    },
    {
     "name": "stderr",
     "output_type": "stream",
     "text": [
      "Pickle File Processed:  54%|\u001B[31m█████▍    \u001B[0m| 116/214 [16:09<08:09,  5.00s/it]"
     ]
    },
    {
     "name": "stdout",
     "output_type": "stream",
     "text": [
      "saving excel\n",
      "converting pkl to df:\n"
     ]
    },
    {
     "name": "stderr",
     "output_type": "stream",
     "text": [
      "C:\\Users\\Kevin\\AppData\\Local\\Temp\\ipykernel_12976\\3288184646.py:84: FutureWarning: The default value of numeric_only in DataFrameGroupBy.mean is deprecated. In a future version, numeric_only will default to False. Either specify numeric_only or select only columns which should be valid for the function.\n",
      "  avg_type_df = type_df.groupby(roi_col).mean()\n",
      "C:\\Users\\Kevin\\AppData\\Local\\Temp\\ipykernel_12976\\3288184646.py:85: FutureWarning: The default value of numeric_only in DataFrameGroupBy.std is deprecated. In a future version, numeric_only will default to False. Either specify numeric_only or select only columns which should be valid for the function.\n",
      "  std_type_df = type_df.groupby(roi_col).std()\n",
      "C:\\Users\\Kevin\\AppData\\Local\\Temp\\ipykernel_12976\\3288184646.py:84: FutureWarning: The default value of numeric_only in DataFrameGroupBy.mean is deprecated. In a future version, numeric_only will default to False. Either specify numeric_only or select only columns which should be valid for the function.\n",
      "  avg_type_df = type_df.groupby(roi_col).mean()\n",
      "C:\\Users\\Kevin\\AppData\\Local\\Temp\\ipykernel_12976\\3288184646.py:85: FutureWarning: The default value of numeric_only in DataFrameGroupBy.std is deprecated. In a future version, numeric_only will default to False. Either specify numeric_only or select only columns which should be valid for the function.\n",
      "  std_type_df = type_df.groupby(roi_col).std()\n",
      "C:\\Users\\Kevin\\AppData\\Local\\Temp\\ipykernel_12976\\3288184646.py:84: FutureWarning: The default value of numeric_only in DataFrameGroupBy.mean is deprecated. In a future version, numeric_only will default to False. Either specify numeric_only or select only columns which should be valid for the function.\n",
      "  avg_type_df = type_df.groupby(roi_col).mean()\n",
      "C:\\Users\\Kevin\\AppData\\Local\\Temp\\ipykernel_12976\\3288184646.py:85: FutureWarning: The default value of numeric_only in DataFrameGroupBy.std is deprecated. In a future version, numeric_only will default to False. Either specify numeric_only or select only columns which should be valid for the function.\n",
      "  std_type_df = type_df.groupby(roi_col).std()\n"
     ]
    },
    {
     "name": "stdout",
     "output_type": "stream",
     "text": [
      "rois {1} not included out of all rois {1} for type 3\n",
      "rois {1} not included out of all rois {1} for type 6\n"
     ]
    },
    {
     "name": "stderr",
     "output_type": "stream",
     "text": [
      "Pickle File Processed:  55%|\u001B[31m█████▍    \u001B[0m| 117/214 [16:13<07:10,  4.44s/it]"
     ]
    },
    {
     "name": "stdout",
     "output_type": "stream",
     "text": [
      "saving excel\n",
      "converting pkl to df:\n"
     ]
    },
    {
     "name": "stderr",
     "output_type": "stream",
     "text": [
      "C:\\Users\\Kevin\\AppData\\Local\\Temp\\ipykernel_12976\\3288184646.py:84: FutureWarning: The default value of numeric_only in DataFrameGroupBy.mean is deprecated. In a future version, numeric_only will default to False. Either specify numeric_only or select only columns which should be valid for the function.\n",
      "  avg_type_df = type_df.groupby(roi_col).mean()\n",
      "C:\\Users\\Kevin\\AppData\\Local\\Temp\\ipykernel_12976\\3288184646.py:85: FutureWarning: The default value of numeric_only in DataFrameGroupBy.std is deprecated. In a future version, numeric_only will default to False. Either specify numeric_only or select only columns which should be valid for the function.\n",
      "  std_type_df = type_df.groupby(roi_col).std()\n",
      "Pickle File Processed:  55%|\u001B[31m█████▌    \u001B[0m| 118/214 [16:22<09:19,  5.83s/it]"
     ]
    },
    {
     "name": "stdout",
     "output_type": "stream",
     "text": [
      "saving excel\n",
      "converting pkl to df:\n"
     ]
    },
    {
     "name": "stderr",
     "output_type": "stream",
     "text": [
      "C:\\Users\\Kevin\\AppData\\Local\\Temp\\ipykernel_12976\\3288184646.py:84: FutureWarning: The default value of numeric_only in DataFrameGroupBy.mean is deprecated. In a future version, numeric_only will default to False. Either specify numeric_only or select only columns which should be valid for the function.\n",
      "  avg_type_df = type_df.groupby(roi_col).mean()\n",
      "C:\\Users\\Kevin\\AppData\\Local\\Temp\\ipykernel_12976\\3288184646.py:85: FutureWarning: The default value of numeric_only in DataFrameGroupBy.std is deprecated. In a future version, numeric_only will default to False. Either specify numeric_only or select only columns which should be valid for the function.\n",
      "  std_type_df = type_df.groupby(roi_col).std()\n",
      "Pickle File Processed:  56%|\u001B[31m█████▌    \u001B[0m| 119/214 [16:44<17:08, 10.83s/it]"
     ]
    },
    {
     "name": "stdout",
     "output_type": "stream",
     "text": [
      "saving excel\n",
      "converting pkl to df:\n"
     ]
    },
    {
     "name": "stderr",
     "output_type": "stream",
     "text": [
      "C:\\Users\\Kevin\\AppData\\Local\\Temp\\ipykernel_12976\\3288184646.py:84: FutureWarning: The default value of numeric_only in DataFrameGroupBy.mean is deprecated. In a future version, numeric_only will default to False. Either specify numeric_only or select only columns which should be valid for the function.\n",
      "  avg_type_df = type_df.groupby(roi_col).mean()\n",
      "C:\\Users\\Kevin\\AppData\\Local\\Temp\\ipykernel_12976\\3288184646.py:85: FutureWarning: The default value of numeric_only in DataFrameGroupBy.std is deprecated. In a future version, numeric_only will default to False. Either specify numeric_only or select only columns which should be valid for the function.\n",
      "  std_type_df = type_df.groupby(roi_col).std()\n"
     ]
    },
    {
     "name": "stdout",
     "output_type": "stream",
     "text": [
      "rois {1} not included out of all rois {1, 2, 3} for type 6\n"
     ]
    },
    {
     "name": "stderr",
     "output_type": "stream",
     "text": [
      "Pickle File Processed:  56%|\u001B[31m█████▌    \u001B[0m| 120/214 [16:51<15:05,  9.63s/it]"
     ]
    },
    {
     "name": "stdout",
     "output_type": "stream",
     "text": [
      "saving excel\n",
      "converting pkl to df:\n"
     ]
    },
    {
     "name": "stderr",
     "output_type": "stream",
     "text": [
      "C:\\Users\\Kevin\\AppData\\Local\\Temp\\ipykernel_12976\\3288184646.py:84: FutureWarning: The default value of numeric_only in DataFrameGroupBy.mean is deprecated. In a future version, numeric_only will default to False. Either specify numeric_only or select only columns which should be valid for the function.\n",
      "  avg_type_df = type_df.groupby(roi_col).mean()\n",
      "C:\\Users\\Kevin\\AppData\\Local\\Temp\\ipykernel_12976\\3288184646.py:85: FutureWarning: The default value of numeric_only in DataFrameGroupBy.std is deprecated. In a future version, numeric_only will default to False. Either specify numeric_only or select only columns which should be valid for the function.\n",
      "  std_type_df = type_df.groupby(roi_col).std()\n",
      "Pickle File Processed:  57%|\u001B[31m█████▋    \u001B[0m| 121/214 [16:57<13:15,  8.55s/it]"
     ]
    },
    {
     "name": "stdout",
     "output_type": "stream",
     "text": [
      "saving excel\n",
      "converting pkl to df:\n"
     ]
    },
    {
     "name": "stderr",
     "output_type": "stream",
     "text": [
      "C:\\Users\\Kevin\\AppData\\Local\\Temp\\ipykernel_12976\\3288184646.py:84: FutureWarning: The default value of numeric_only in DataFrameGroupBy.mean is deprecated. In a future version, numeric_only will default to False. Either specify numeric_only or select only columns which should be valid for the function.\n",
      "  avg_type_df = type_df.groupby(roi_col).mean()\n",
      "C:\\Users\\Kevin\\AppData\\Local\\Temp\\ipykernel_12976\\3288184646.py:85: FutureWarning: The default value of numeric_only in DataFrameGroupBy.std is deprecated. In a future version, numeric_only will default to False. Either specify numeric_only or select only columns which should be valid for the function.\n",
      "  std_type_df = type_df.groupby(roi_col).std()\n",
      "Pickle File Processed:  57%|\u001B[31m█████▋    \u001B[0m| 122/214 [17:00<10:42,  6.98s/it]"
     ]
    },
    {
     "name": "stdout",
     "output_type": "stream",
     "text": [
      "saving excel\n",
      "converting pkl to df:\n"
     ]
    },
    {
     "name": "stderr",
     "output_type": "stream",
     "text": [
      "C:\\Users\\Kevin\\AppData\\Local\\Temp\\ipykernel_12976\\3288184646.py:84: FutureWarning: The default value of numeric_only in DataFrameGroupBy.mean is deprecated. In a future version, numeric_only will default to False. Either specify numeric_only or select only columns which should be valid for the function.\n",
      "  avg_type_df = type_df.groupby(roi_col).mean()\n",
      "C:\\Users\\Kevin\\AppData\\Local\\Temp\\ipykernel_12976\\3288184646.py:85: FutureWarning: The default value of numeric_only in DataFrameGroupBy.std is deprecated. In a future version, numeric_only will default to False. Either specify numeric_only or select only columns which should be valid for the function.\n",
      "  std_type_df = type_df.groupby(roi_col).std()\n",
      "Pickle File Processed:  57%|\u001B[31m█████▋    \u001B[0m| 123/214 [17:11<12:16,  8.09s/it]"
     ]
    },
    {
     "name": "stdout",
     "output_type": "stream",
     "text": [
      "saving excel\n",
      "converting pkl to df:\n"
     ]
    },
    {
     "name": "stderr",
     "output_type": "stream",
     "text": [
      "C:\\Users\\Kevin\\AppData\\Local\\Temp\\ipykernel_12976\\3288184646.py:84: FutureWarning: The default value of numeric_only in DataFrameGroupBy.mean is deprecated. In a future version, numeric_only will default to False. Either specify numeric_only or select only columns which should be valid for the function.\n",
      "  avg_type_df = type_df.groupby(roi_col).mean()\n",
      "C:\\Users\\Kevin\\AppData\\Local\\Temp\\ipykernel_12976\\3288184646.py:85: FutureWarning: The default value of numeric_only in DataFrameGroupBy.std is deprecated. In a future version, numeric_only will default to False. Either specify numeric_only or select only columns which should be valid for the function.\n",
      "  std_type_df = type_df.groupby(roi_col).std()\n",
      "C:\\Users\\Kevin\\AppData\\Local\\Temp\\ipykernel_12976\\3288184646.py:84: FutureWarning: The default value of numeric_only in DataFrameGroupBy.mean is deprecated. In a future version, numeric_only will default to False. Either specify numeric_only or select only columns which should be valid for the function.\n",
      "  avg_type_df = type_df.groupby(roi_col).mean()\n",
      "C:\\Users\\Kevin\\AppData\\Local\\Temp\\ipykernel_12976\\3288184646.py:85: FutureWarning: The default value of numeric_only in DataFrameGroupBy.std is deprecated. In a future version, numeric_only will default to False. Either specify numeric_only or select only columns which should be valid for the function.\n",
      "  std_type_df = type_df.groupby(roi_col).std()\n"
     ]
    },
    {
     "name": "stdout",
     "output_type": "stream",
     "text": [
      "rois {1} not included out of all rois {1} for type 6\n"
     ]
    },
    {
     "name": "stderr",
     "output_type": "stream",
     "text": [
      "Pickle File Processed:  58%|\u001B[31m█████▊    \u001B[0m| 124/214 [17:14<09:45,  6.50s/it]"
     ]
    },
    {
     "name": "stdout",
     "output_type": "stream",
     "text": [
      "saving excel\n",
      "converting pkl to df:\n"
     ]
    },
    {
     "name": "stderr",
     "output_type": "stream",
     "text": [
      "C:\\Users\\Kevin\\AppData\\Local\\Temp\\ipykernel_12976\\3288184646.py:84: FutureWarning: The default value of numeric_only in DataFrameGroupBy.mean is deprecated. In a future version, numeric_only will default to False. Either specify numeric_only or select only columns which should be valid for the function.\n",
      "  avg_type_df = type_df.groupby(roi_col).mean()\n",
      "C:\\Users\\Kevin\\AppData\\Local\\Temp\\ipykernel_12976\\3288184646.py:85: FutureWarning: The default value of numeric_only in DataFrameGroupBy.std is deprecated. In a future version, numeric_only will default to False. Either specify numeric_only or select only columns which should be valid for the function.\n",
      "  std_type_df = type_df.groupby(roi_col).std()\n",
      "Pickle File Processed:  58%|\u001B[31m█████▊    \u001B[0m| 125/214 [17:27<12:41,  8.56s/it]"
     ]
    },
    {
     "name": "stdout",
     "output_type": "stream",
     "text": [
      "saving excel\n",
      "converting pkl to df:\n"
     ]
    },
    {
     "name": "stderr",
     "output_type": "stream",
     "text": [
      "C:\\Users\\Kevin\\AppData\\Local\\Temp\\ipykernel_12976\\3288184646.py:84: FutureWarning: The default value of numeric_only in DataFrameGroupBy.mean is deprecated. In a future version, numeric_only will default to False. Either specify numeric_only or select only columns which should be valid for the function.\n",
      "  avg_type_df = type_df.groupby(roi_col).mean()\n",
      "C:\\Users\\Kevin\\AppData\\Local\\Temp\\ipykernel_12976\\3288184646.py:85: FutureWarning: The default value of numeric_only in DataFrameGroupBy.std is deprecated. In a future version, numeric_only will default to False. Either specify numeric_only or select only columns which should be valid for the function.\n",
      "  std_type_df = type_df.groupby(roi_col).std()\n",
      "C:\\Users\\Kevin\\AppData\\Local\\Temp\\ipykernel_12976\\3288184646.py:84: FutureWarning: The default value of numeric_only in DataFrameGroupBy.mean is deprecated. In a future version, numeric_only will default to False. Either specify numeric_only or select only columns which should be valid for the function.\n",
      "  avg_type_df = type_df.groupby(roi_col).mean()\n",
      "C:\\Users\\Kevin\\AppData\\Local\\Temp\\ipykernel_12976\\3288184646.py:85: FutureWarning: The default value of numeric_only in DataFrameGroupBy.std is deprecated. In a future version, numeric_only will default to False. Either specify numeric_only or select only columns which should be valid for the function.\n",
      "  std_type_df = type_df.groupby(roi_col).std()\n",
      "C:\\Users\\Kevin\\AppData\\Local\\Temp\\ipykernel_12976\\3288184646.py:84: FutureWarning: The default value of numeric_only in DataFrameGroupBy.mean is deprecated. In a future version, numeric_only will default to False. Either specify numeric_only or select only columns which should be valid for the function.\n",
      "  avg_type_df = type_df.groupby(roi_col).mean()\n",
      "C:\\Users\\Kevin\\AppData\\Local\\Temp\\ipykernel_12976\\3288184646.py:85: FutureWarning: The default value of numeric_only in DataFrameGroupBy.std is deprecated. In a future version, numeric_only will default to False. Either specify numeric_only or select only columns which should be valid for the function.\n",
      "  std_type_df = type_df.groupby(roi_col).std()\n"
     ]
    },
    {
     "name": "stdout",
     "output_type": "stream",
     "text": [
      "rois {1, 2} not included out of all rois {1, 2} for type 3\n",
      "rois {1, 2} not included out of all rois {1, 2} for type 6\n"
     ]
    },
    {
     "name": "stderr",
     "output_type": "stream",
     "text": [
      "Pickle File Processed:  59%|\u001B[31m█████▉    \u001B[0m| 126/214 [17:33<11:23,  7.76s/it]"
     ]
    },
    {
     "name": "stdout",
     "output_type": "stream",
     "text": [
      "saving excel\n",
      "converting pkl to df:\n"
     ]
    },
    {
     "name": "stderr",
     "output_type": "stream",
     "text": [
      "C:\\Users\\Kevin\\AppData\\Local\\Temp\\ipykernel_12976\\3288184646.py:84: FutureWarning: The default value of numeric_only in DataFrameGroupBy.mean is deprecated. In a future version, numeric_only will default to False. Either specify numeric_only or select only columns which should be valid for the function.\n",
      "  avg_type_df = type_df.groupby(roi_col).mean()\n",
      "C:\\Users\\Kevin\\AppData\\Local\\Temp\\ipykernel_12976\\3288184646.py:85: FutureWarning: The default value of numeric_only in DataFrameGroupBy.std is deprecated. In a future version, numeric_only will default to False. Either specify numeric_only or select only columns which should be valid for the function.\n",
      "  std_type_df = type_df.groupby(roi_col).std()\n"
     ]
    },
    {
     "name": "stdout",
     "output_type": "stream",
     "text": [
      "rois {3} not included out of all rois {1, 2, 3} for type 5\n"
     ]
    },
    {
     "name": "stderr",
     "output_type": "stream",
     "text": [
      "Pickle File Processed:  59%|\u001B[31m█████▉    \u001B[0m| 127/214 [17:38<10:11,  7.03s/it]"
     ]
    },
    {
     "name": "stdout",
     "output_type": "stream",
     "text": [
      "saving excel\n",
      "converting pkl to df:\n"
     ]
    },
    {
     "name": "stderr",
     "output_type": "stream",
     "text": [
      "C:\\Users\\Kevin\\AppData\\Local\\Temp\\ipykernel_12976\\3288184646.py:84: FutureWarning: The default value of numeric_only in DataFrameGroupBy.mean is deprecated. In a future version, numeric_only will default to False. Either specify numeric_only or select only columns which should be valid for the function.\n",
      "  avg_type_df = type_df.groupby(roi_col).mean()\n",
      "C:\\Users\\Kevin\\AppData\\Local\\Temp\\ipykernel_12976\\3288184646.py:85: FutureWarning: The default value of numeric_only in DataFrameGroupBy.std is deprecated. In a future version, numeric_only will default to False. Either specify numeric_only or select only columns which should be valid for the function.\n",
      "  std_type_df = type_df.groupby(roi_col).std()\n",
      "Pickle File Processed:  60%|\u001B[31m█████▉    \u001B[0m| 128/214 [17:42<08:25,  5.87s/it]"
     ]
    },
    {
     "name": "stdout",
     "output_type": "stream",
     "text": [
      "saving excel\n",
      "converting pkl to df:\n"
     ]
    },
    {
     "name": "stderr",
     "output_type": "stream",
     "text": [
      "C:\\Users\\Kevin\\AppData\\Local\\Temp\\ipykernel_12976\\3288184646.py:84: FutureWarning: The default value of numeric_only in DataFrameGroupBy.mean is deprecated. In a future version, numeric_only will default to False. Either specify numeric_only or select only columns which should be valid for the function.\n",
      "  avg_type_df = type_df.groupby(roi_col).mean()\n",
      "C:\\Users\\Kevin\\AppData\\Local\\Temp\\ipykernel_12976\\3288184646.py:85: FutureWarning: The default value of numeric_only in DataFrameGroupBy.std is deprecated. In a future version, numeric_only will default to False. Either specify numeric_only or select only columns which should be valid for the function.\n",
      "  std_type_df = type_df.groupby(roi_col).std()\n",
      "C:\\Users\\Kevin\\AppData\\Local\\Temp\\ipykernel_12976\\3288184646.py:84: FutureWarning: The default value of numeric_only in DataFrameGroupBy.mean is deprecated. In a future version, numeric_only will default to False. Either specify numeric_only or select only columns which should be valid for the function.\n",
      "  avg_type_df = type_df.groupby(roi_col).mean()\n",
      "C:\\Users\\Kevin\\AppData\\Local\\Temp\\ipykernel_12976\\3288184646.py:85: FutureWarning: The default value of numeric_only in DataFrameGroupBy.std is deprecated. In a future version, numeric_only will default to False. Either specify numeric_only or select only columns which should be valid for the function.\n",
      "  std_type_df = type_df.groupby(roi_col).std()\n",
      "C:\\Users\\Kevin\\AppData\\Local\\Temp\\ipykernel_12976\\3288184646.py:84: FutureWarning: The default value of numeric_only in DataFrameGroupBy.mean is deprecated. In a future version, numeric_only will default to False. Either specify numeric_only or select only columns which should be valid for the function.\n",
      "  avg_type_df = type_df.groupby(roi_col).mean()\n",
      "C:\\Users\\Kevin\\AppData\\Local\\Temp\\ipykernel_12976\\3288184646.py:85: FutureWarning: The default value of numeric_only in DataFrameGroupBy.std is deprecated. In a future version, numeric_only will default to False. Either specify numeric_only or select only columns which should be valid for the function.\n",
      "  std_type_df = type_df.groupby(roi_col).std()\n",
      "C:\\Users\\Kevin\\AppData\\Local\\Temp\\ipykernel_12976\\3288184646.py:84: FutureWarning: The default value of numeric_only in DataFrameGroupBy.mean is deprecated. In a future version, numeric_only will default to False. Either specify numeric_only or select only columns which should be valid for the function.\n",
      "  avg_type_df = type_df.groupby(roi_col).mean()\n",
      "C:\\Users\\Kevin\\AppData\\Local\\Temp\\ipykernel_12976\\3288184646.py:85: FutureWarning: The default value of numeric_only in DataFrameGroupBy.std is deprecated. In a future version, numeric_only will default to False. Either specify numeric_only or select only columns which should be valid for the function.\n",
      "  std_type_df = type_df.groupby(roi_col).std()\n"
     ]
    },
    {
     "name": "stdout",
     "output_type": "stream",
     "text": [
      "rois {1} not included out of all rois {1} for type 3\n",
      "rois {1} not included out of all rois {1} for type 4\n",
      "rois {1} not included out of all rois {1} for type 6\n"
     ]
    },
    {
     "name": "stderr",
     "output_type": "stream",
     "text": [
      "Pickle File Processed:  60%|\u001B[31m██████    \u001B[0m| 129/214 [17:48<08:28,  5.98s/it]"
     ]
    },
    {
     "name": "stdout",
     "output_type": "stream",
     "text": [
      "saving excel\n",
      "converting pkl to df:\n"
     ]
    },
    {
     "name": "stderr",
     "output_type": "stream",
     "text": [
      "C:\\Users\\Kevin\\AppData\\Local\\Temp\\ipykernel_12976\\3288184646.py:84: FutureWarning: The default value of numeric_only in DataFrameGroupBy.mean is deprecated. In a future version, numeric_only will default to False. Either specify numeric_only or select only columns which should be valid for the function.\n",
      "  avg_type_df = type_df.groupby(roi_col).mean()\n",
      "C:\\Users\\Kevin\\AppData\\Local\\Temp\\ipykernel_12976\\3288184646.py:85: FutureWarning: The default value of numeric_only in DataFrameGroupBy.std is deprecated. In a future version, numeric_only will default to False. Either specify numeric_only or select only columns which should be valid for the function.\n",
      "  std_type_df = type_df.groupby(roi_col).std()\n",
      "Pickle File Processed:  61%|\u001B[31m██████    \u001B[0m| 130/214 [17:50<06:44,  4.81s/it]"
     ]
    },
    {
     "name": "stdout",
     "output_type": "stream",
     "text": [
      "saving excel\n",
      "converting pkl to df:\n"
     ]
    },
    {
     "name": "stderr",
     "output_type": "stream",
     "text": [
      "C:\\Users\\Kevin\\AppData\\Local\\Temp\\ipykernel_12976\\3288184646.py:84: FutureWarning: The default value of numeric_only in DataFrameGroupBy.mean is deprecated. In a future version, numeric_only will default to False. Either specify numeric_only or select only columns which should be valid for the function.\n",
      "  avg_type_df = type_df.groupby(roi_col).mean()\n",
      "C:\\Users\\Kevin\\AppData\\Local\\Temp\\ipykernel_12976\\3288184646.py:85: FutureWarning: The default value of numeric_only in DataFrameGroupBy.std is deprecated. In a future version, numeric_only will default to False. Either specify numeric_only or select only columns which should be valid for the function.\n",
      "  std_type_df = type_df.groupby(roi_col).std()\n"
     ]
    },
    {
     "name": "stdout",
     "output_type": "stream",
     "text": [
      "rois {2} not included out of all rois {1, 2} for type 11\n",
      "saving excel\n"
     ]
    },
    {
     "name": "stderr",
     "output_type": "stream",
     "text": [
      "Pickle File Processed:  61%|\u001B[31m██████    \u001B[0m| 131/214 [17:57<07:35,  5.49s/it]"
     ]
    },
    {
     "name": "stdout",
     "output_type": "stream",
     "text": [
      "converting pkl to df:\n"
     ]
    },
    {
     "name": "stderr",
     "output_type": "stream",
     "text": [
      "C:\\Users\\Kevin\\AppData\\Local\\Temp\\ipykernel_12976\\3288184646.py:84: FutureWarning: The default value of numeric_only in DataFrameGroupBy.mean is deprecated. In a future version, numeric_only will default to False. Either specify numeric_only or select only columns which should be valid for the function.\n",
      "  avg_type_df = type_df.groupby(roi_col).mean()\n",
      "C:\\Users\\Kevin\\AppData\\Local\\Temp\\ipykernel_12976\\3288184646.py:85: FutureWarning: The default value of numeric_only in DataFrameGroupBy.std is deprecated. In a future version, numeric_only will default to False. Either specify numeric_only or select only columns which should be valid for the function.\n",
      "  std_type_df = type_df.groupby(roi_col).std()\n",
      "C:\\Users\\Kevin\\AppData\\Local\\Temp\\ipykernel_12976\\3288184646.py:84: FutureWarning: The default value of numeric_only in DataFrameGroupBy.mean is deprecated. In a future version, numeric_only will default to False. Either specify numeric_only or select only columns which should be valid for the function.\n",
      "  avg_type_df = type_df.groupby(roi_col).mean()\n",
      "C:\\Users\\Kevin\\AppData\\Local\\Temp\\ipykernel_12976\\3288184646.py:85: FutureWarning: The default value of numeric_only in DataFrameGroupBy.std is deprecated. In a future version, numeric_only will default to False. Either specify numeric_only or select only columns which should be valid for the function.\n",
      "  std_type_df = type_df.groupby(roi_col).std()\n"
     ]
    },
    {
     "name": "stdout",
     "output_type": "stream",
     "text": [
      "rois {1} not included out of all rois {1} for type 3\n",
      "rois {1} not included out of all rois {1} for type 11\n"
     ]
    },
    {
     "name": "stderr",
     "output_type": "stream",
     "text": [
      "C:\\Users\\Kevin\\AppData\\Local\\Temp\\ipykernel_12976\\3288184646.py:84: FutureWarning: The default value of numeric_only in DataFrameGroupBy.mean is deprecated. In a future version, numeric_only will default to False. Either specify numeric_only or select only columns which should be valid for the function.\n",
      "  avg_type_df = type_df.groupby(roi_col).mean()\n",
      "C:\\Users\\Kevin\\AppData\\Local\\Temp\\ipykernel_12976\\3288184646.py:85: FutureWarning: The default value of numeric_only in DataFrameGroupBy.std is deprecated. In a future version, numeric_only will default to False. Either specify numeric_only or select only columns which should be valid for the function.\n",
      "  std_type_df = type_df.groupby(roi_col).std()\n",
      "Pickle File Processed:  62%|\u001B[31m██████▏   \u001B[0m| 132/214 [17:59<05:56,  4.35s/it]"
     ]
    },
    {
     "name": "stdout",
     "output_type": "stream",
     "text": [
      "saving excel\n",
      "converting pkl to df:\n"
     ]
    },
    {
     "name": "stderr",
     "output_type": "stream",
     "text": [
      "C:\\Users\\Kevin\\AppData\\Local\\Temp\\ipykernel_12976\\3288184646.py:84: FutureWarning: The default value of numeric_only in DataFrameGroupBy.mean is deprecated. In a future version, numeric_only will default to False. Either specify numeric_only or select only columns which should be valid for the function.\n",
      "  avg_type_df = type_df.groupby(roi_col).mean()\n",
      "C:\\Users\\Kevin\\AppData\\Local\\Temp\\ipykernel_12976\\3288184646.py:85: FutureWarning: The default value of numeric_only in DataFrameGroupBy.std is deprecated. In a future version, numeric_only will default to False. Either specify numeric_only or select only columns which should be valid for the function.\n",
      "  std_type_df = type_df.groupby(roi_col).std()\n",
      "Pickle File Processed:  62%|\u001B[31m██████▏   \u001B[0m| 133/214 [18:09<08:10,  6.05s/it]"
     ]
    },
    {
     "name": "stdout",
     "output_type": "stream",
     "text": [
      "saving excel\n",
      "converting pkl to df:\n"
     ]
    },
    {
     "name": "stderr",
     "output_type": "stream",
     "text": [
      "C:\\Users\\Kevin\\AppData\\Local\\Temp\\ipykernel_12976\\3288184646.py:84: FutureWarning: The default value of numeric_only in DataFrameGroupBy.mean is deprecated. In a future version, numeric_only will default to False. Either specify numeric_only or select only columns which should be valid for the function.\n",
      "  avg_type_df = type_df.groupby(roi_col).mean()\n",
      "C:\\Users\\Kevin\\AppData\\Local\\Temp\\ipykernel_12976\\3288184646.py:85: FutureWarning: The default value of numeric_only in DataFrameGroupBy.std is deprecated. In a future version, numeric_only will default to False. Either specify numeric_only or select only columns which should be valid for the function.\n",
      "  std_type_df = type_df.groupby(roi_col).std()\n",
      "Pickle File Processed:  63%|\u001B[31m██████▎   \u001B[0m| 134/214 [18:21<10:25,  7.82s/it]"
     ]
    },
    {
     "name": "stdout",
     "output_type": "stream",
     "text": [
      "saving excel\n",
      "converting pkl to df:\n"
     ]
    },
    {
     "name": "stderr",
     "output_type": "stream",
     "text": [
      "C:\\Users\\Kevin\\AppData\\Local\\Temp\\ipykernel_12976\\3288184646.py:84: FutureWarning: The default value of numeric_only in DataFrameGroupBy.mean is deprecated. In a future version, numeric_only will default to False. Either specify numeric_only or select only columns which should be valid for the function.\n",
      "  avg_type_df = type_df.groupby(roi_col).mean()\n",
      "C:\\Users\\Kevin\\AppData\\Local\\Temp\\ipykernel_12976\\3288184646.py:85: FutureWarning: The default value of numeric_only in DataFrameGroupBy.std is deprecated. In a future version, numeric_only will default to False. Either specify numeric_only or select only columns which should be valid for the function.\n",
      "  std_type_df = type_df.groupby(roi_col).std()\n"
     ]
    },
    {
     "name": "stdout",
     "output_type": "stream",
     "text": [
      "rois {2} not included out of all rois {1, 2} for type 3\n",
      "rois {2} not included out of all rois {1, 2} for type 11\n"
     ]
    },
    {
     "name": "stderr",
     "output_type": "stream",
     "text": [
      "Pickle File Processed:  63%|\u001B[31m██████▎   \u001B[0m| 135/214 [18:29<10:22,  7.88s/it]"
     ]
    },
    {
     "name": "stdout",
     "output_type": "stream",
     "text": [
      "saving excel\n",
      "converting pkl to df:\n"
     ]
    },
    {
     "name": "stderr",
     "output_type": "stream",
     "text": [
      "C:\\Users\\Kevin\\AppData\\Local\\Temp\\ipykernel_12976\\3288184646.py:84: FutureWarning: The default value of numeric_only in DataFrameGroupBy.mean is deprecated. In a future version, numeric_only will default to False. Either specify numeric_only or select only columns which should be valid for the function.\n",
      "  avg_type_df = type_df.groupby(roi_col).mean()\n",
      "C:\\Users\\Kevin\\AppData\\Local\\Temp\\ipykernel_12976\\3288184646.py:85: FutureWarning: The default value of numeric_only in DataFrameGroupBy.std is deprecated. In a future version, numeric_only will default to False. Either specify numeric_only or select only columns which should be valid for the function.\n",
      "  std_type_df = type_df.groupby(roi_col).std()\n"
     ]
    },
    {
     "name": "stdout",
     "output_type": "stream",
     "text": [
      "saving excel\n"
     ]
    },
    {
     "name": "stderr",
     "output_type": "stream",
     "text": [
      "Pickle File Processed:  64%|\u001B[31m██████▎   \u001B[0m| 136/214 [18:39<11:16,  8.67s/it]"
     ]
    },
    {
     "name": "stdout",
     "output_type": "stream",
     "text": [
      "converting pkl to df:\n"
     ]
    },
    {
     "name": "stderr",
     "output_type": "stream",
     "text": [
      "C:\\Users\\Kevin\\AppData\\Local\\Temp\\ipykernel_12976\\3288184646.py:84: FutureWarning: The default value of numeric_only in DataFrameGroupBy.mean is deprecated. In a future version, numeric_only will default to False. Either specify numeric_only or select only columns which should be valid for the function.\n",
      "  avg_type_df = type_df.groupby(roi_col).mean()\n",
      "C:\\Users\\Kevin\\AppData\\Local\\Temp\\ipykernel_12976\\3288184646.py:85: FutureWarning: The default value of numeric_only in DataFrameGroupBy.std is deprecated. In a future version, numeric_only will default to False. Either specify numeric_only or select only columns which should be valid for the function.\n",
      "  std_type_df = type_df.groupby(roi_col).std()\n",
      "Pickle File Processed:  64%|\u001B[31m██████▍   \u001B[0m| 137/214 [18:48<11:09,  8.70s/it]"
     ]
    },
    {
     "name": "stdout",
     "output_type": "stream",
     "text": [
      "saving excel\n",
      "converting pkl to df:\n"
     ]
    },
    {
     "name": "stderr",
     "output_type": "stream",
     "text": [
      "C:\\Users\\Kevin\\AppData\\Local\\Temp\\ipykernel_12976\\3288184646.py:84: FutureWarning: The default value of numeric_only in DataFrameGroupBy.mean is deprecated. In a future version, numeric_only will default to False. Either specify numeric_only or select only columns which should be valid for the function.\n",
      "  avg_type_df = type_df.groupby(roi_col).mean()\n",
      "C:\\Users\\Kevin\\AppData\\Local\\Temp\\ipykernel_12976\\3288184646.py:85: FutureWarning: The default value of numeric_only in DataFrameGroupBy.std is deprecated. In a future version, numeric_only will default to False. Either specify numeric_only or select only columns which should be valid for the function.\n",
      "  std_type_df = type_df.groupby(roi_col).std()\n"
     ]
    },
    {
     "name": "stdout",
     "output_type": "stream",
     "text": [
      "rois {3} not included out of all rois {1, 2, 3} for type 3\n",
      "rois {2} not included out of all rois {1, 2, 3} for type 11\n"
     ]
    },
    {
     "name": "stderr",
     "output_type": "stream",
     "text": [
      "Pickle File Processed:  64%|\u001B[31m██████▍   \u001B[0m| 138/214 [19:02<13:13, 10.44s/it]"
     ]
    },
    {
     "name": "stdout",
     "output_type": "stream",
     "text": [
      "saving excel\n",
      "converting pkl to df:\n"
     ]
    },
    {
     "name": "stderr",
     "output_type": "stream",
     "text": [
      "C:\\Users\\Kevin\\AppData\\Local\\Temp\\ipykernel_12976\\3288184646.py:84: FutureWarning: The default value of numeric_only in DataFrameGroupBy.mean is deprecated. In a future version, numeric_only will default to False. Either specify numeric_only or select only columns which should be valid for the function.\n",
      "  avg_type_df = type_df.groupby(roi_col).mean()\n",
      "C:\\Users\\Kevin\\AppData\\Local\\Temp\\ipykernel_12976\\3288184646.py:85: FutureWarning: The default value of numeric_only in DataFrameGroupBy.std is deprecated. In a future version, numeric_only will default to False. Either specify numeric_only or select only columns which should be valid for the function.\n",
      "  std_type_df = type_df.groupby(roi_col).std()\n"
     ]
    },
    {
     "name": "stdout",
     "output_type": "stream",
     "text": [
      "rois {3} not included out of all rois {1, 2, 3} for type 3\n",
      "rois {3} not included out of all rois {1, 2, 3} for type 6\n",
      "rois {2} not included out of all rois {1, 2, 3} for type 11\n",
      "saving excel\n"
     ]
    },
    {
     "name": "stderr",
     "output_type": "stream",
     "text": [
      "Pickle File Processed:  65%|\u001B[31m██████▍   \u001B[0m| 139/214 [19:12<12:40, 10.13s/it]"
     ]
    },
    {
     "name": "stdout",
     "output_type": "stream",
     "text": [
      "converting pkl to df:\n"
     ]
    },
    {
     "name": "stderr",
     "output_type": "stream",
     "text": [
      "C:\\Users\\Kevin\\AppData\\Local\\Temp\\ipykernel_12976\\3288184646.py:84: FutureWarning: The default value of numeric_only in DataFrameGroupBy.mean is deprecated. In a future version, numeric_only will default to False. Either specify numeric_only or select only columns which should be valid for the function.\n",
      "  avg_type_df = type_df.groupby(roi_col).mean()\n",
      "C:\\Users\\Kevin\\AppData\\Local\\Temp\\ipykernel_12976\\3288184646.py:85: FutureWarning: The default value of numeric_only in DataFrameGroupBy.std is deprecated. In a future version, numeric_only will default to False. Either specify numeric_only or select only columns which should be valid for the function.\n",
      "  std_type_df = type_df.groupby(roi_col).std()\n",
      "C:\\Users\\Kevin\\AppData\\Local\\Temp\\ipykernel_12976\\3288184646.py:84: FutureWarning: The default value of numeric_only in DataFrameGroupBy.mean is deprecated. In a future version, numeric_only will default to False. Either specify numeric_only or select only columns which should be valid for the function.\n",
      "  avg_type_df = type_df.groupby(roi_col).mean()\n",
      "C:\\Users\\Kevin\\AppData\\Local\\Temp\\ipykernel_12976\\3288184646.py:85: FutureWarning: The default value of numeric_only in DataFrameGroupBy.std is deprecated. In a future version, numeric_only will default to False. Either specify numeric_only or select only columns which should be valid for the function.\n",
      "  std_type_df = type_df.groupby(roi_col).std()\n",
      "C:\\Users\\Kevin\\AppData\\Local\\Temp\\ipykernel_12976\\3288184646.py:84: FutureWarning: The default value of numeric_only in DataFrameGroupBy.mean is deprecated. In a future version, numeric_only will default to False. Either specify numeric_only or select only columns which should be valid for the function.\n",
      "  avg_type_df = type_df.groupby(roi_col).mean()\n",
      "C:\\Users\\Kevin\\AppData\\Local\\Temp\\ipykernel_12976\\3288184646.py:85: FutureWarning: The default value of numeric_only in DataFrameGroupBy.std is deprecated. In a future version, numeric_only will default to False. Either specify numeric_only or select only columns which should be valid for the function.\n",
      "  std_type_df = type_df.groupby(roi_col).std()\n"
     ]
    },
    {
     "name": "stdout",
     "output_type": "stream",
     "text": [
      "rois {1, 2} not included out of all rois {1, 2} for type 3\n",
      "rois {2} not included out of all rois {1, 2} for type 4\n",
      "rois {1, 2} not included out of all rois {1, 2} for type 6\n",
      "rois {1, 2} not included out of all rois {1, 2} for type 11\n"
     ]
    },
    {
     "name": "stderr",
     "output_type": "stream",
     "text": [
      "C:\\Users\\Kevin\\AppData\\Local\\Temp\\ipykernel_12976\\3288184646.py:84: FutureWarning: The default value of numeric_only in DataFrameGroupBy.mean is deprecated. In a future version, numeric_only will default to False. Either specify numeric_only or select only columns which should be valid for the function.\n",
      "  avg_type_df = type_df.groupby(roi_col).mean()\n",
      "C:\\Users\\Kevin\\AppData\\Local\\Temp\\ipykernel_12976\\3288184646.py:85: FutureWarning: The default value of numeric_only in DataFrameGroupBy.std is deprecated. In a future version, numeric_only will default to False. Either specify numeric_only or select only columns which should be valid for the function.\n",
      "  std_type_df = type_df.groupby(roi_col).std()\n",
      "Pickle File Processed:  65%|\u001B[31m██████▌   \u001B[0m| 140/214 [19:17<10:32,  8.54s/it]"
     ]
    },
    {
     "name": "stdout",
     "output_type": "stream",
     "text": [
      "saving excel\n",
      "converting pkl to df:\n"
     ]
    },
    {
     "name": "stderr",
     "output_type": "stream",
     "text": [
      "C:\\Users\\Kevin\\AppData\\Local\\Temp\\ipykernel_12976\\3288184646.py:84: FutureWarning: The default value of numeric_only in DataFrameGroupBy.mean is deprecated. In a future version, numeric_only will default to False. Either specify numeric_only or select only columns which should be valid for the function.\n",
      "  avg_type_df = type_df.groupby(roi_col).mean()\n",
      "C:\\Users\\Kevin\\AppData\\Local\\Temp\\ipykernel_12976\\3288184646.py:85: FutureWarning: The default value of numeric_only in DataFrameGroupBy.std is deprecated. In a future version, numeric_only will default to False. Either specify numeric_only or select only columns which should be valid for the function.\n",
      "  std_type_df = type_df.groupby(roi_col).std()\n"
     ]
    },
    {
     "name": "stdout",
     "output_type": "stream",
     "text": [
      "rois {1} not included out of all rois {1, 2} for type 3\n",
      "rois {1} not included out of all rois {1, 2} for type 6\n"
     ]
    },
    {
     "name": "stderr",
     "output_type": "stream",
     "text": [
      "Pickle File Processed:  66%|\u001B[31m██████▌   \u001B[0m| 141/214 [19:25<10:12,  8.39s/it]"
     ]
    },
    {
     "name": "stdout",
     "output_type": "stream",
     "text": [
      "saving excel\n",
      "converting pkl to df:\n"
     ]
    },
    {
     "name": "stderr",
     "output_type": "stream",
     "text": [
      "C:\\Users\\Kevin\\AppData\\Local\\Temp\\ipykernel_12976\\3288184646.py:84: FutureWarning: The default value of numeric_only in DataFrameGroupBy.mean is deprecated. In a future version, numeric_only will default to False. Either specify numeric_only or select only columns which should be valid for the function.\n",
      "  avg_type_df = type_df.groupby(roi_col).mean()\n",
      "C:\\Users\\Kevin\\AppData\\Local\\Temp\\ipykernel_12976\\3288184646.py:85: FutureWarning: The default value of numeric_only in DataFrameGroupBy.std is deprecated. In a future version, numeric_only will default to False. Either specify numeric_only or select only columns which should be valid for the function.\n",
      "  std_type_df = type_df.groupby(roi_col).std()\n",
      "Pickle File Processed:  66%|\u001B[31m██████▋   \u001B[0m| 142/214 [19:29<08:27,  7.05s/it]"
     ]
    },
    {
     "name": "stdout",
     "output_type": "stream",
     "text": [
      "saving excel\n",
      "converting pkl to df:\n"
     ]
    },
    {
     "name": "stderr",
     "output_type": "stream",
     "text": [
      "C:\\Users\\Kevin\\AppData\\Local\\Temp\\ipykernel_12976\\3288184646.py:84: FutureWarning: The default value of numeric_only in DataFrameGroupBy.mean is deprecated. In a future version, numeric_only will default to False. Either specify numeric_only or select only columns which should be valid for the function.\n",
      "  avg_type_df = type_df.groupby(roi_col).mean()\n",
      "C:\\Users\\Kevin\\AppData\\Local\\Temp\\ipykernel_12976\\3288184646.py:85: FutureWarning: The default value of numeric_only in DataFrameGroupBy.std is deprecated. In a future version, numeric_only will default to False. Either specify numeric_only or select only columns which should be valid for the function.\n",
      "  std_type_df = type_df.groupby(roi_col).std()\n",
      "Pickle File Processed:  67%|\u001B[31m██████▋   \u001B[0m| 143/214 [19:32<07:09,  6.05s/it]"
     ]
    },
    {
     "name": "stdout",
     "output_type": "stream",
     "text": [
      "saving excel\n",
      "converting pkl to df:\n"
     ]
    },
    {
     "name": "stderr",
     "output_type": "stream",
     "text": [
      "C:\\Users\\Kevin\\AppData\\Local\\Temp\\ipykernel_12976\\3288184646.py:84: FutureWarning: The default value of numeric_only in DataFrameGroupBy.mean is deprecated. In a future version, numeric_only will default to False. Either specify numeric_only or select only columns which should be valid for the function.\n",
      "  avg_type_df = type_df.groupby(roi_col).mean()\n",
      "C:\\Users\\Kevin\\AppData\\Local\\Temp\\ipykernel_12976\\3288184646.py:85: FutureWarning: The default value of numeric_only in DataFrameGroupBy.std is deprecated. In a future version, numeric_only will default to False. Either specify numeric_only or select only columns which should be valid for the function.\n",
      "  std_type_df = type_df.groupby(roi_col).std()\n",
      "Pickle File Processed:  67%|\u001B[31m██████▋   \u001B[0m| 144/214 [19:45<09:31,  8.17s/it]"
     ]
    },
    {
     "name": "stdout",
     "output_type": "stream",
     "text": [
      "saving excel\n",
      "converting pkl to df:\n"
     ]
    },
    {
     "name": "stderr",
     "output_type": "stream",
     "text": [
      "C:\\Users\\Kevin\\AppData\\Local\\Temp\\ipykernel_12976\\3288184646.py:84: FutureWarning: The default value of numeric_only in DataFrameGroupBy.mean is deprecated. In a future version, numeric_only will default to False. Either specify numeric_only or select only columns which should be valid for the function.\n",
      "  avg_type_df = type_df.groupby(roi_col).mean()\n",
      "C:\\Users\\Kevin\\AppData\\Local\\Temp\\ipykernel_12976\\3288184646.py:85: FutureWarning: The default value of numeric_only in DataFrameGroupBy.std is deprecated. In a future version, numeric_only will default to False. Either specify numeric_only or select only columns which should be valid for the function.\n",
      "  std_type_df = type_df.groupby(roi_col).std()\n"
     ]
    },
    {
     "name": "stdout",
     "output_type": "stream",
     "text": [
      "rois {2} not included out of all rois {1, 2, 3} for type 3\n",
      "rois {2} not included out of all rois {1, 2, 3} for type 6\n"
     ]
    },
    {
     "name": "stderr",
     "output_type": "stream",
     "text": [
      "Pickle File Processed:  68%|\u001B[31m██████▊   \u001B[0m| 145/214 [19:56<10:09,  8.84s/it]"
     ]
    },
    {
     "name": "stdout",
     "output_type": "stream",
     "text": [
      "saving excel\n",
      "converting pkl to df:\n"
     ]
    },
    {
     "name": "stderr",
     "output_type": "stream",
     "text": [
      "C:\\Users\\Kevin\\AppData\\Local\\Temp\\ipykernel_12976\\3288184646.py:84: FutureWarning: The default value of numeric_only in DataFrameGroupBy.mean is deprecated. In a future version, numeric_only will default to False. Either specify numeric_only or select only columns which should be valid for the function.\n",
      "  avg_type_df = type_df.groupby(roi_col).mean()\n",
      "C:\\Users\\Kevin\\AppData\\Local\\Temp\\ipykernel_12976\\3288184646.py:85: FutureWarning: The default value of numeric_only in DataFrameGroupBy.std is deprecated. In a future version, numeric_only will default to False. Either specify numeric_only or select only columns which should be valid for the function.\n",
      "  std_type_df = type_df.groupby(roi_col).std()\n"
     ]
    },
    {
     "name": "stdout",
     "output_type": "stream",
     "text": [
      "rois {5} not included out of all rois {1, 2, 3, 4, 5} for type 3\n",
      "rois {5} not included out of all rois {1, 2, 3, 4, 5} for type 4\n",
      "rois {3, 5} not included out of all rois {1, 2, 3, 4, 5} for type 6\n"
     ]
    },
    {
     "name": "stderr",
     "output_type": "stream",
     "text": [
      "Pickle File Processed:  68%|\u001B[31m██████▊   \u001B[0m| 146/214 [20:11<12:17, 10.85s/it]"
     ]
    },
    {
     "name": "stdout",
     "output_type": "stream",
     "text": [
      "saving excel\n",
      "converting pkl to df:\n"
     ]
    },
    {
     "name": "stderr",
     "output_type": "stream",
     "text": [
      "C:\\Users\\Kevin\\AppData\\Local\\Temp\\ipykernel_12976\\3288184646.py:84: FutureWarning: The default value of numeric_only in DataFrameGroupBy.mean is deprecated. In a future version, numeric_only will default to False. Either specify numeric_only or select only columns which should be valid for the function.\n",
      "  avg_type_df = type_df.groupby(roi_col).mean()\n",
      "C:\\Users\\Kevin\\AppData\\Local\\Temp\\ipykernel_12976\\3288184646.py:85: FutureWarning: The default value of numeric_only in DataFrameGroupBy.std is deprecated. In a future version, numeric_only will default to False. Either specify numeric_only or select only columns which should be valid for the function.\n",
      "  std_type_df = type_df.groupby(roi_col).std()\n"
     ]
    },
    {
     "name": "stdout",
     "output_type": "stream",
     "text": [
      "rois {1} not included out of all rois {1, 2} for type 3\n",
      "rois {1} not included out of all rois {1, 2} for type 6\n"
     ]
    },
    {
     "name": "stderr",
     "output_type": "stream",
     "text": [
      "Pickle File Processed:  69%|\u001B[31m██████▊   \u001B[0m| 147/214 [20:18<10:46,  9.66s/it]"
     ]
    },
    {
     "name": "stdout",
     "output_type": "stream",
     "text": [
      "saving excel\n",
      "converting pkl to df:\n"
     ]
    },
    {
     "name": "stderr",
     "output_type": "stream",
     "text": [
      "C:\\Users\\Kevin\\AppData\\Local\\Temp\\ipykernel_12976\\3288184646.py:84: FutureWarning: The default value of numeric_only in DataFrameGroupBy.mean is deprecated. In a future version, numeric_only will default to False. Either specify numeric_only or select only columns which should be valid for the function.\n",
      "  avg_type_df = type_df.groupby(roi_col).mean()\n",
      "C:\\Users\\Kevin\\AppData\\Local\\Temp\\ipykernel_12976\\3288184646.py:85: FutureWarning: The default value of numeric_only in DataFrameGroupBy.std is deprecated. In a future version, numeric_only will default to False. Either specify numeric_only or select only columns which should be valid for the function.\n",
      "  std_type_df = type_df.groupby(roi_col).std()\n"
     ]
    },
    {
     "name": "stdout",
     "output_type": "stream",
     "text": [
      "rois {1, 2} not included out of all rois {1, 2} for type 11\n"
     ]
    },
    {
     "name": "stderr",
     "output_type": "stream",
     "text": [
      "C:\\Users\\Kevin\\AppData\\Local\\Temp\\ipykernel_12976\\3288184646.py:84: FutureWarning: The default value of numeric_only in DataFrameGroupBy.mean is deprecated. In a future version, numeric_only will default to False. Either specify numeric_only or select only columns which should be valid for the function.\n",
      "  avg_type_df = type_df.groupby(roi_col).mean()\n",
      "C:\\Users\\Kevin\\AppData\\Local\\Temp\\ipykernel_12976\\3288184646.py:85: FutureWarning: The default value of numeric_only in DataFrameGroupBy.std is deprecated. In a future version, numeric_only will default to False. Either specify numeric_only or select only columns which should be valid for the function.\n",
      "  std_type_df = type_df.groupby(roi_col).std()\n",
      "Pickle File Processed:  69%|\u001B[31m██████▉   \u001B[0m| 148/214 [20:21<08:17,  7.53s/it]"
     ]
    },
    {
     "name": "stdout",
     "output_type": "stream",
     "text": [
      "saving excel\n",
      "converting pkl to df:\n"
     ]
    },
    {
     "name": "stderr",
     "output_type": "stream",
     "text": [
      "C:\\Users\\Kevin\\AppData\\Local\\Temp\\ipykernel_12976\\3288184646.py:84: FutureWarning: The default value of numeric_only in DataFrameGroupBy.mean is deprecated. In a future version, numeric_only will default to False. Either specify numeric_only or select only columns which should be valid for the function.\n",
      "  avg_type_df = type_df.groupby(roi_col).mean()\n",
      "C:\\Users\\Kevin\\AppData\\Local\\Temp\\ipykernel_12976\\3288184646.py:85: FutureWarning: The default value of numeric_only in DataFrameGroupBy.std is deprecated. In a future version, numeric_only will default to False. Either specify numeric_only or select only columns which should be valid for the function.\n",
      "  std_type_df = type_df.groupby(roi_col).std()\n",
      "Pickle File Processed:  70%|\u001B[31m██████▉   \u001B[0m| 149/214 [20:28<07:52,  7.27s/it]"
     ]
    },
    {
     "name": "stdout",
     "output_type": "stream",
     "text": [
      "saving excel\n",
      "converting pkl to df:\n"
     ]
    },
    {
     "name": "stderr",
     "output_type": "stream",
     "text": [
      "C:\\Users\\Kevin\\AppData\\Local\\Temp\\ipykernel_12976\\3288184646.py:84: FutureWarning: The default value of numeric_only in DataFrameGroupBy.mean is deprecated. In a future version, numeric_only will default to False. Either specify numeric_only or select only columns which should be valid for the function.\n",
      "  avg_type_df = type_df.groupby(roi_col).mean()\n",
      "C:\\Users\\Kevin\\AppData\\Local\\Temp\\ipykernel_12976\\3288184646.py:85: FutureWarning: The default value of numeric_only in DataFrameGroupBy.std is deprecated. In a future version, numeric_only will default to False. Either specify numeric_only or select only columns which should be valid for the function.\n",
      "  std_type_df = type_df.groupby(roi_col).std()\n",
      "C:\\Users\\Kevin\\AppData\\Local\\Temp\\ipykernel_12976\\3288184646.py:84: FutureWarning: The default value of numeric_only in DataFrameGroupBy.mean is deprecated. In a future version, numeric_only will default to False. Either specify numeric_only or select only columns which should be valid for the function.\n",
      "  avg_type_df = type_df.groupby(roi_col).mean()\n",
      "C:\\Users\\Kevin\\AppData\\Local\\Temp\\ipykernel_12976\\3288184646.py:85: FutureWarning: The default value of numeric_only in DataFrameGroupBy.std is deprecated. In a future version, numeric_only will default to False. Either specify numeric_only or select only columns which should be valid for the function.\n",
      "  std_type_df = type_df.groupby(roi_col).std()\n"
     ]
    },
    {
     "name": "stdout",
     "output_type": "stream",
     "text": [
      "rois {1} not included out of all rois {1} for type 6\n",
      "rois {1} not included out of all rois {1} for type 11\n"
     ]
    },
    {
     "name": "stderr",
     "output_type": "stream",
     "text": [
      "C:\\Users\\Kevin\\AppData\\Local\\Temp\\ipykernel_12976\\3288184646.py:84: FutureWarning: The default value of numeric_only in DataFrameGroupBy.mean is deprecated. In a future version, numeric_only will default to False. Either specify numeric_only or select only columns which should be valid for the function.\n",
      "  avg_type_df = type_df.groupby(roi_col).mean()\n",
      "C:\\Users\\Kevin\\AppData\\Local\\Temp\\ipykernel_12976\\3288184646.py:85: FutureWarning: The default value of numeric_only in DataFrameGroupBy.std is deprecated. In a future version, numeric_only will default to False. Either specify numeric_only or select only columns which should be valid for the function.\n",
      "  std_type_df = type_df.groupby(roi_col).std()\n",
      "Pickle File Processed:  70%|\u001B[31m███████   \u001B[0m| 150/214 [20:29<06:02,  5.67s/it]"
     ]
    },
    {
     "name": "stdout",
     "output_type": "stream",
     "text": [
      "saving excel\n",
      "converting pkl to df:\n"
     ]
    },
    {
     "name": "stderr",
     "output_type": "stream",
     "text": [
      "C:\\Users\\Kevin\\AppData\\Local\\Temp\\ipykernel_12976\\3288184646.py:84: FutureWarning: The default value of numeric_only in DataFrameGroupBy.mean is deprecated. In a future version, numeric_only will default to False. Either specify numeric_only or select only columns which should be valid for the function.\n",
      "  avg_type_df = type_df.groupby(roi_col).mean()\n",
      "C:\\Users\\Kevin\\AppData\\Local\\Temp\\ipykernel_12976\\3288184646.py:85: FutureWarning: The default value of numeric_only in DataFrameGroupBy.std is deprecated. In a future version, numeric_only will default to False. Either specify numeric_only or select only columns which should be valid for the function.\n",
      "  std_type_df = type_df.groupby(roi_col).std()\n",
      "C:\\Users\\Kevin\\AppData\\Local\\Temp\\ipykernel_12976\\3288184646.py:84: FutureWarning: The default value of numeric_only in DataFrameGroupBy.mean is deprecated. In a future version, numeric_only will default to False. Either specify numeric_only or select only columns which should be valid for the function.\n",
      "  avg_type_df = type_df.groupby(roi_col).mean()\n",
      "C:\\Users\\Kevin\\AppData\\Local\\Temp\\ipykernel_12976\\3288184646.py:85: FutureWarning: The default value of numeric_only in DataFrameGroupBy.std is deprecated. In a future version, numeric_only will default to False. Either specify numeric_only or select only columns which should be valid for the function.\n",
      "  std_type_df = type_df.groupby(roi_col).std()\n"
     ]
    },
    {
     "name": "stdout",
     "output_type": "stream",
     "text": [
      "rois {1} not included out of all rois {1, 2} for type 3\n",
      "rois {1, 2} not included out of all rois {1, 2} for type 6\n"
     ]
    },
    {
     "name": "stderr",
     "output_type": "stream",
     "text": [
      "Pickle File Processed:  71%|\u001B[31m███████   \u001B[0m| 151/214 [20:35<05:49,  5.55s/it]"
     ]
    },
    {
     "name": "stdout",
     "output_type": "stream",
     "text": [
      "saving excel\n",
      "converting pkl to df:\n"
     ]
    },
    {
     "name": "stderr",
     "output_type": "stream",
     "text": [
      "C:\\Users\\Kevin\\AppData\\Local\\Temp\\ipykernel_12976\\3288184646.py:84: FutureWarning: The default value of numeric_only in DataFrameGroupBy.mean is deprecated. In a future version, numeric_only will default to False. Either specify numeric_only or select only columns which should be valid for the function.\n",
      "  avg_type_df = type_df.groupby(roi_col).mean()\n",
      "C:\\Users\\Kevin\\AppData\\Local\\Temp\\ipykernel_12976\\3288184646.py:85: FutureWarning: The default value of numeric_only in DataFrameGroupBy.std is deprecated. In a future version, numeric_only will default to False. Either specify numeric_only or select only columns which should be valid for the function.\n",
      "  std_type_df = type_df.groupby(roi_col).std()\n",
      "C:\\Users\\Kevin\\AppData\\Local\\Temp\\ipykernel_12976\\3288184646.py:84: FutureWarning: The default value of numeric_only in DataFrameGroupBy.mean is deprecated. In a future version, numeric_only will default to False. Either specify numeric_only or select only columns which should be valid for the function.\n",
      "  avg_type_df = type_df.groupby(roi_col).mean()\n",
      "C:\\Users\\Kevin\\AppData\\Local\\Temp\\ipykernel_12976\\3288184646.py:85: FutureWarning: The default value of numeric_only in DataFrameGroupBy.std is deprecated. In a future version, numeric_only will default to False. Either specify numeric_only or select only columns which should be valid for the function.\n",
      "  std_type_df = type_df.groupby(roi_col).std()\n",
      "C:\\Users\\Kevin\\AppData\\Local\\Temp\\ipykernel_12976\\3288184646.py:84: FutureWarning: The default value of numeric_only in DataFrameGroupBy.mean is deprecated. In a future version, numeric_only will default to False. Either specify numeric_only or select only columns which should be valid for the function.\n",
      "  avg_type_df = type_df.groupby(roi_col).mean()\n",
      "C:\\Users\\Kevin\\AppData\\Local\\Temp\\ipykernel_12976\\3288184646.py:85: FutureWarning: The default value of numeric_only in DataFrameGroupBy.std is deprecated. In a future version, numeric_only will default to False. Either specify numeric_only or select only columns which should be valid for the function.\n",
      "  std_type_df = type_df.groupby(roi_col).std()\n"
     ]
    },
    {
     "name": "stdout",
     "output_type": "stream",
     "text": [
      "rois {1, 2} not included out of all rois {1, 2} for type 3\n",
      "rois {1, 2} not included out of all rois {1, 2} for type 4\n",
      "rois {2} not included out of all rois {1, 2} for type 6\n",
      "rois {1, 2} not included out of all rois {1, 2} for type 11\n",
      "saving excel\n"
     ]
    },
    {
     "name": "stderr",
     "output_type": "stream",
     "text": [
      "C:\\Users\\Kevin\\AppData\\Local\\Temp\\ipykernel_12976\\3288184646.py:84: FutureWarning: The default value of numeric_only in DataFrameGroupBy.mean is deprecated. In a future version, numeric_only will default to False. Either specify numeric_only or select only columns which should be valid for the function.\n",
      "  avg_type_df = type_df.groupby(roi_col).mean()\n",
      "C:\\Users\\Kevin\\AppData\\Local\\Temp\\ipykernel_12976\\3288184646.py:85: FutureWarning: The default value of numeric_only in DataFrameGroupBy.std is deprecated. In a future version, numeric_only will default to False. Either specify numeric_only or select only columns which should be valid for the function.\n",
      "  std_type_df = type_df.groupby(roi_col).std()\n",
      "Pickle File Processed:  71%|\u001B[31m███████   \u001B[0m| 152/214 [20:36<04:19,  4.19s/it]"
     ]
    },
    {
     "name": "stdout",
     "output_type": "stream",
     "text": [
      "converting pkl to df:\n"
     ]
    },
    {
     "name": "stderr",
     "output_type": "stream",
     "text": [
      "C:\\Users\\Kevin\\AppData\\Local\\Temp\\ipykernel_12976\\3288184646.py:84: FutureWarning: The default value of numeric_only in DataFrameGroupBy.mean is deprecated. In a future version, numeric_only will default to False. Either specify numeric_only or select only columns which should be valid for the function.\n",
      "  avg_type_df = type_df.groupby(roi_col).mean()\n",
      "C:\\Users\\Kevin\\AppData\\Local\\Temp\\ipykernel_12976\\3288184646.py:85: FutureWarning: The default value of numeric_only in DataFrameGroupBy.std is deprecated. In a future version, numeric_only will default to False. Either specify numeric_only or select only columns which should be valid for the function.\n",
      "  std_type_df = type_df.groupby(roi_col).std()\n",
      "C:\\Users\\Kevin\\AppData\\Local\\Temp\\ipykernel_12976\\3288184646.py:84: FutureWarning: The default value of numeric_only in DataFrameGroupBy.mean is deprecated. In a future version, numeric_only will default to False. Either specify numeric_only or select only columns which should be valid for the function.\n",
      "  avg_type_df = type_df.groupby(roi_col).mean()\n",
      "C:\\Users\\Kevin\\AppData\\Local\\Temp\\ipykernel_12976\\3288184646.py:85: FutureWarning: The default value of numeric_only in DataFrameGroupBy.std is deprecated. In a future version, numeric_only will default to False. Either specify numeric_only or select only columns which should be valid for the function.\n",
      "  std_type_df = type_df.groupby(roi_col).std()\n"
     ]
    },
    {
     "name": "stdout",
     "output_type": "stream",
     "text": [
      "rois {1} not included out of all rois {1} for type 3\n"
     ]
    },
    {
     "name": "stderr",
     "output_type": "stream",
     "text": [
      "Pickle File Processed:  71%|\u001B[31m███████▏  \u001B[0m| 153/214 [20:44<05:33,  5.46s/it]"
     ]
    },
    {
     "name": "stdout",
     "output_type": "stream",
     "text": [
      "saving excel\n",
      "converting pkl to df:\n"
     ]
    },
    {
     "name": "stderr",
     "output_type": "stream",
     "text": [
      "C:\\Users\\Kevin\\AppData\\Local\\Temp\\ipykernel_12976\\3288184646.py:84: FutureWarning: The default value of numeric_only in DataFrameGroupBy.mean is deprecated. In a future version, numeric_only will default to False. Either specify numeric_only or select only columns which should be valid for the function.\n",
      "  avg_type_df = type_df.groupby(roi_col).mean()\n",
      "C:\\Users\\Kevin\\AppData\\Local\\Temp\\ipykernel_12976\\3288184646.py:85: FutureWarning: The default value of numeric_only in DataFrameGroupBy.std is deprecated. In a future version, numeric_only will default to False. Either specify numeric_only or select only columns which should be valid for the function.\n",
      "  std_type_df = type_df.groupby(roi_col).std()\n"
     ]
    },
    {
     "name": "stdout",
     "output_type": "stream",
     "text": [
      "rois {2, 4} not included out of all rois {1, 2, 3, 4} for type 3\n",
      "rois {2, 4} not included out of all rois {1, 2, 3, 4} for type 4\n",
      "rois {4} not included out of all rois {1, 2, 3, 4} for type 6\n",
      "saving excel\n"
     ]
    },
    {
     "name": "stderr",
     "output_type": "stream",
     "text": [
      "Pickle File Processed:  72%|\u001B[31m███████▏  \u001B[0m| 154/214 [20:54<06:50,  6.85s/it]"
     ]
    },
    {
     "name": "stdout",
     "output_type": "stream",
     "text": [
      "converting pkl to df:\n"
     ]
    },
    {
     "name": "stderr",
     "output_type": "stream",
     "text": [
      "C:\\Users\\Kevin\\AppData\\Local\\Temp\\ipykernel_12976\\3288184646.py:84: FutureWarning: The default value of numeric_only in DataFrameGroupBy.mean is deprecated. In a future version, numeric_only will default to False. Either specify numeric_only or select only columns which should be valid for the function.\n",
      "  avg_type_df = type_df.groupby(roi_col).mean()\n",
      "C:\\Users\\Kevin\\AppData\\Local\\Temp\\ipykernel_12976\\3288184646.py:85: FutureWarning: The default value of numeric_only in DataFrameGroupBy.std is deprecated. In a future version, numeric_only will default to False. Either specify numeric_only or select only columns which should be valid for the function.\n",
      "  std_type_df = type_df.groupby(roi_col).std()\n",
      "Pickle File Processed:  72%|\u001B[31m███████▏  \u001B[0m| 155/214 [21:06<08:17,  8.43s/it]"
     ]
    },
    {
     "name": "stdout",
     "output_type": "stream",
     "text": [
      "saving excel\n",
      "converting pkl to df:\n"
     ]
    },
    {
     "name": "stderr",
     "output_type": "stream",
     "text": [
      "C:\\Users\\Kevin\\AppData\\Local\\Temp\\ipykernel_12976\\3288184646.py:84: FutureWarning: The default value of numeric_only in DataFrameGroupBy.mean is deprecated. In a future version, numeric_only will default to False. Either specify numeric_only or select only columns which should be valid for the function.\n",
      "  avg_type_df = type_df.groupby(roi_col).mean()\n",
      "C:\\Users\\Kevin\\AppData\\Local\\Temp\\ipykernel_12976\\3288184646.py:85: FutureWarning: The default value of numeric_only in DataFrameGroupBy.std is deprecated. In a future version, numeric_only will default to False. Either specify numeric_only or select only columns which should be valid for the function.\n",
      "  std_type_df = type_df.groupby(roi_col).std()\n"
     ]
    },
    {
     "name": "stdout",
     "output_type": "stream",
     "text": [
      "saving excel\n"
     ]
    },
    {
     "name": "stderr",
     "output_type": "stream",
     "text": [
      "Pickle File Processed:  73%|\u001B[31m███████▎  \u001B[0m| 156/214 [21:12<07:21,  7.60s/it]"
     ]
    },
    {
     "name": "stdout",
     "output_type": "stream",
     "text": [
      "converting pkl to df:\n"
     ]
    },
    {
     "name": "stderr",
     "output_type": "stream",
     "text": [
      "C:\\Users\\Kevin\\AppData\\Local\\Temp\\ipykernel_12976\\3288184646.py:84: FutureWarning: The default value of numeric_only in DataFrameGroupBy.mean is deprecated. In a future version, numeric_only will default to False. Either specify numeric_only or select only columns which should be valid for the function.\n",
      "  avg_type_df = type_df.groupby(roi_col).mean()\n",
      "C:\\Users\\Kevin\\AppData\\Local\\Temp\\ipykernel_12976\\3288184646.py:85: FutureWarning: The default value of numeric_only in DataFrameGroupBy.std is deprecated. In a future version, numeric_only will default to False. Either specify numeric_only or select only columns which should be valid for the function.\n",
      "  std_type_df = type_df.groupby(roi_col).std()\n"
     ]
    },
    {
     "name": "stdout",
     "output_type": "stream",
     "text": [
      "rois {1, 2} not included out of all rois {1, 2, 3, 4} for type 3\n",
      "rois {1, 2, 3, 4} not included out of all rois {1, 2, 3, 4} for type 11\n"
     ]
    },
    {
     "name": "stderr",
     "output_type": "stream",
     "text": [
      "C:\\Users\\Kevin\\AppData\\Local\\Temp\\ipykernel_12976\\3288184646.py:84: FutureWarning: The default value of numeric_only in DataFrameGroupBy.mean is deprecated. In a future version, numeric_only will default to False. Either specify numeric_only or select only columns which should be valid for the function.\n",
      "  avg_type_df = type_df.groupby(roi_col).mean()\n",
      "C:\\Users\\Kevin\\AppData\\Local\\Temp\\ipykernel_12976\\3288184646.py:85: FutureWarning: The default value of numeric_only in DataFrameGroupBy.std is deprecated. In a future version, numeric_only will default to False. Either specify numeric_only or select only columns which should be valid for the function.\n",
      "  std_type_df = type_df.groupby(roi_col).std()\n"
     ]
    },
    {
     "name": "stdout",
     "output_type": "stream",
     "text": [
      "saving excel\n"
     ]
    },
    {
     "name": "stderr",
     "output_type": "stream",
     "text": [
      "Pickle File Processed:  73%|\u001B[31m███████▎  \u001B[0m| 157/214 [21:17<06:26,  6.78s/it]"
     ]
    },
    {
     "name": "stdout",
     "output_type": "stream",
     "text": [
      "converting pkl to df:\n"
     ]
    },
    {
     "name": "stderr",
     "output_type": "stream",
     "text": [
      "C:\\Users\\Kevin\\AppData\\Local\\Temp\\ipykernel_12976\\3288184646.py:84: FutureWarning: The default value of numeric_only in DataFrameGroupBy.mean is deprecated. In a future version, numeric_only will default to False. Either specify numeric_only or select only columns which should be valid for the function.\n",
      "  avg_type_df = type_df.groupby(roi_col).mean()\n",
      "C:\\Users\\Kevin\\AppData\\Local\\Temp\\ipykernel_12976\\3288184646.py:85: FutureWarning: The default value of numeric_only in DataFrameGroupBy.std is deprecated. In a future version, numeric_only will default to False. Either specify numeric_only or select only columns which should be valid for the function.\n",
      "  std_type_df = type_df.groupby(roi_col).std()\n",
      "Pickle File Processed:  74%|\u001B[31m███████▍  \u001B[0m| 158/214 [21:21<05:40,  6.08s/it]"
     ]
    },
    {
     "name": "stdout",
     "output_type": "stream",
     "text": [
      "saving excel\n",
      "converting pkl to df:\n"
     ]
    },
    {
     "name": "stderr",
     "output_type": "stream",
     "text": [
      "C:\\Users\\Kevin\\AppData\\Local\\Temp\\ipykernel_12976\\3288184646.py:84: FutureWarning: The default value of numeric_only in DataFrameGroupBy.mean is deprecated. In a future version, numeric_only will default to False. Either specify numeric_only or select only columns which should be valid for the function.\n",
      "  avg_type_df = type_df.groupby(roi_col).mean()\n",
      "C:\\Users\\Kevin\\AppData\\Local\\Temp\\ipykernel_12976\\3288184646.py:85: FutureWarning: The default value of numeric_only in DataFrameGroupBy.std is deprecated. In a future version, numeric_only will default to False. Either specify numeric_only or select only columns which should be valid for the function.\n",
      "  std_type_df = type_df.groupby(roi_col).std()\n"
     ]
    },
    {
     "name": "stdout",
     "output_type": "stream",
     "text": [
      "rois {2, 3} not included out of all rois {1, 2, 3} for type 3\n",
      "rois {3} not included out of all rois {1, 2, 3} for type 6\n"
     ]
    },
    {
     "name": "stderr",
     "output_type": "stream",
     "text": [
      "Pickle File Processed:  74%|\u001B[31m███████▍  \u001B[0m| 159/214 [21:30<06:17,  6.87s/it]"
     ]
    },
    {
     "name": "stdout",
     "output_type": "stream",
     "text": [
      "saving excel\n",
      "converting pkl to df:\n"
     ]
    },
    {
     "name": "stderr",
     "output_type": "stream",
     "text": [
      "C:\\Users\\Kevin\\AppData\\Local\\Temp\\ipykernel_12976\\3288184646.py:84: FutureWarning: The default value of numeric_only in DataFrameGroupBy.mean is deprecated. In a future version, numeric_only will default to False. Either specify numeric_only or select only columns which should be valid for the function.\n",
      "  avg_type_df = type_df.groupby(roi_col).mean()\n",
      "C:\\Users\\Kevin\\AppData\\Local\\Temp\\ipykernel_12976\\3288184646.py:85: FutureWarning: The default value of numeric_only in DataFrameGroupBy.std is deprecated. In a future version, numeric_only will default to False. Either specify numeric_only or select only columns which should be valid for the function.\n",
      "  std_type_df = type_df.groupby(roi_col).std()\n",
      "Pickle File Processed:  75%|\u001B[31m███████▍  \u001B[0m| 160/214 [21:35<05:46,  6.41s/it]"
     ]
    },
    {
     "name": "stdout",
     "output_type": "stream",
     "text": [
      "saving excel\n",
      "converting pkl to df:\n"
     ]
    },
    {
     "name": "stderr",
     "output_type": "stream",
     "text": [
      "C:\\Users\\Kevin\\AppData\\Local\\Temp\\ipykernel_12976\\3288184646.py:84: FutureWarning: The default value of numeric_only in DataFrameGroupBy.mean is deprecated. In a future version, numeric_only will default to False. Either specify numeric_only or select only columns which should be valid for the function.\n",
      "  avg_type_df = type_df.groupby(roi_col).mean()\n",
      "C:\\Users\\Kevin\\AppData\\Local\\Temp\\ipykernel_12976\\3288184646.py:85: FutureWarning: The default value of numeric_only in DataFrameGroupBy.std is deprecated. In a future version, numeric_only will default to False. Either specify numeric_only or select only columns which should be valid for the function.\n",
      "  std_type_df = type_df.groupby(roi_col).std()\n",
      "Pickle File Processed:  75%|\u001B[31m███████▌  \u001B[0m| 161/214 [21:42<05:46,  6.54s/it]"
     ]
    },
    {
     "name": "stdout",
     "output_type": "stream",
     "text": [
      "saving excel\n",
      "converting pkl to df:\n"
     ]
    },
    {
     "name": "stderr",
     "output_type": "stream",
     "text": [
      "C:\\Users\\Kevin\\AppData\\Local\\Temp\\ipykernel_12976\\3288184646.py:84: FutureWarning: The default value of numeric_only in DataFrameGroupBy.mean is deprecated. In a future version, numeric_only will default to False. Either specify numeric_only or select only columns which should be valid for the function.\n",
      "  avg_type_df = type_df.groupby(roi_col).mean()\n",
      "C:\\Users\\Kevin\\AppData\\Local\\Temp\\ipykernel_12976\\3288184646.py:85: FutureWarning: The default value of numeric_only in DataFrameGroupBy.std is deprecated. In a future version, numeric_only will default to False. Either specify numeric_only or select only columns which should be valid for the function.\n",
      "  std_type_df = type_df.groupby(roi_col).std()\n"
     ]
    },
    {
     "name": "stdout",
     "output_type": "stream",
     "text": [
      "rois {1} not included out of all rois {1, 2} for type 3\n",
      "rois {1} not included out of all rois {1, 2} for type 6\n"
     ]
    },
    {
     "name": "stderr",
     "output_type": "stream",
     "text": [
      "Pickle File Processed:  76%|\u001B[31m███████▌  \u001B[0m| 162/214 [21:51<06:15,  7.23s/it]"
     ]
    },
    {
     "name": "stdout",
     "output_type": "stream",
     "text": [
      "saving excel\n",
      "converting pkl to df:\n"
     ]
    },
    {
     "name": "stderr",
     "output_type": "stream",
     "text": [
      "C:\\Users\\Kevin\\AppData\\Local\\Temp\\ipykernel_12976\\3288184646.py:84: FutureWarning: The default value of numeric_only in DataFrameGroupBy.mean is deprecated. In a future version, numeric_only will default to False. Either specify numeric_only or select only columns which should be valid for the function.\n",
      "  avg_type_df = type_df.groupby(roi_col).mean()\n",
      "C:\\Users\\Kevin\\AppData\\Local\\Temp\\ipykernel_12976\\3288184646.py:85: FutureWarning: The default value of numeric_only in DataFrameGroupBy.std is deprecated. In a future version, numeric_only will default to False. Either specify numeric_only or select only columns which should be valid for the function.\n",
      "  std_type_df = type_df.groupby(roi_col).std()\n",
      "C:\\Users\\Kevin\\AppData\\Local\\Temp\\ipykernel_12976\\3288184646.py:84: FutureWarning: The default value of numeric_only in DataFrameGroupBy.mean is deprecated. In a future version, numeric_only will default to False. Either specify numeric_only or select only columns which should be valid for the function.\n",
      "  avg_type_df = type_df.groupby(roi_col).mean()\n",
      "C:\\Users\\Kevin\\AppData\\Local\\Temp\\ipykernel_12976\\3288184646.py:85: FutureWarning: The default value of numeric_only in DataFrameGroupBy.std is deprecated. In a future version, numeric_only will default to False. Either specify numeric_only or select only columns which should be valid for the function.\n",
      "  std_type_df = type_df.groupby(roi_col).std()\n",
      "C:\\Users\\Kevin\\AppData\\Local\\Temp\\ipykernel_12976\\3288184646.py:84: FutureWarning: The default value of numeric_only in DataFrameGroupBy.mean is deprecated. In a future version, numeric_only will default to False. Either specify numeric_only or select only columns which should be valid for the function.\n",
      "  avg_type_df = type_df.groupby(roi_col).mean()\n",
      "C:\\Users\\Kevin\\AppData\\Local\\Temp\\ipykernel_12976\\3288184646.py:85: FutureWarning: The default value of numeric_only in DataFrameGroupBy.std is deprecated. In a future version, numeric_only will default to False. Either specify numeric_only or select only columns which should be valid for the function.\n",
      "  std_type_df = type_df.groupby(roi_col).std()\n"
     ]
    },
    {
     "name": "stdout",
     "output_type": "stream",
     "text": [
      "rois {1} not included out of all rois {1} for type 3\n",
      "rois {1} not included out of all rois {1} for type 6\n"
     ]
    },
    {
     "name": "stderr",
     "output_type": "stream",
     "text": [
      "Pickle File Processed:  76%|\u001B[31m███████▌  \u001B[0m| 163/214 [21:54<05:04,  5.97s/it]"
     ]
    },
    {
     "name": "stdout",
     "output_type": "stream",
     "text": [
      "saving excel\n",
      "converting pkl to df:\n"
     ]
    },
    {
     "name": "stderr",
     "output_type": "stream",
     "text": [
      "C:\\Users\\Kevin\\AppData\\Local\\Temp\\ipykernel_12976\\3288184646.py:84: FutureWarning: The default value of numeric_only in DataFrameGroupBy.mean is deprecated. In a future version, numeric_only will default to False. Either specify numeric_only or select only columns which should be valid for the function.\n",
      "  avg_type_df = type_df.groupby(roi_col).mean()\n",
      "C:\\Users\\Kevin\\AppData\\Local\\Temp\\ipykernel_12976\\3288184646.py:85: FutureWarning: The default value of numeric_only in DataFrameGroupBy.std is deprecated. In a future version, numeric_only will default to False. Either specify numeric_only or select only columns which should be valid for the function.\n",
      "  std_type_df = type_df.groupby(roi_col).std()\n",
      "C:\\Users\\Kevin\\AppData\\Local\\Temp\\ipykernel_12976\\3288184646.py:84: FutureWarning: The default value of numeric_only in DataFrameGroupBy.mean is deprecated. In a future version, numeric_only will default to False. Either specify numeric_only or select only columns which should be valid for the function.\n",
      "  avg_type_df = type_df.groupby(roi_col).mean()\n",
      "C:\\Users\\Kevin\\AppData\\Local\\Temp\\ipykernel_12976\\3288184646.py:85: FutureWarning: The default value of numeric_only in DataFrameGroupBy.std is deprecated. In a future version, numeric_only will default to False. Either specify numeric_only or select only columns which should be valid for the function.\n",
      "  std_type_df = type_df.groupby(roi_col).std()\n",
      "C:\\Users\\Kevin\\AppData\\Local\\Temp\\ipykernel_12976\\3288184646.py:84: FutureWarning: The default value of numeric_only in DataFrameGroupBy.mean is deprecated. In a future version, numeric_only will default to False. Either specify numeric_only or select only columns which should be valid for the function.\n",
      "  avg_type_df = type_df.groupby(roi_col).mean()\n",
      "C:\\Users\\Kevin\\AppData\\Local\\Temp\\ipykernel_12976\\3288184646.py:85: FutureWarning: The default value of numeric_only in DataFrameGroupBy.std is deprecated. In a future version, numeric_only will default to False. Either specify numeric_only or select only columns which should be valid for the function.\n",
      "  std_type_df = type_df.groupby(roi_col).std()\n"
     ]
    },
    {
     "name": "stdout",
     "output_type": "stream",
     "text": [
      "rois {1} not included out of all rois {1} for type 3\n",
      "rois {1} not included out of all rois {1} for type 4\n"
     ]
    },
    {
     "name": "stderr",
     "output_type": "stream",
     "text": [
      "Pickle File Processed:  77%|\u001B[31m███████▋  \u001B[0m| 164/214 [21:56<03:54,  4.68s/it]"
     ]
    },
    {
     "name": "stdout",
     "output_type": "stream",
     "text": [
      "saving excel\n",
      "converting pkl to df:\n"
     ]
    },
    {
     "name": "stderr",
     "output_type": "stream",
     "text": [
      "C:\\Users\\Kevin\\AppData\\Local\\Temp\\ipykernel_12976\\3288184646.py:84: FutureWarning: The default value of numeric_only in DataFrameGroupBy.mean is deprecated. In a future version, numeric_only will default to False. Either specify numeric_only or select only columns which should be valid for the function.\n",
      "  avg_type_df = type_df.groupby(roi_col).mean()\n",
      "C:\\Users\\Kevin\\AppData\\Local\\Temp\\ipykernel_12976\\3288184646.py:85: FutureWarning: The default value of numeric_only in DataFrameGroupBy.std is deprecated. In a future version, numeric_only will default to False. Either specify numeric_only or select only columns which should be valid for the function.\n",
      "  std_type_df = type_df.groupby(roi_col).std()\n",
      "C:\\Users\\Kevin\\AppData\\Local\\Temp\\ipykernel_12976\\3288184646.py:84: FutureWarning: The default value of numeric_only in DataFrameGroupBy.mean is deprecated. In a future version, numeric_only will default to False. Either specify numeric_only or select only columns which should be valid for the function.\n",
      "  avg_type_df = type_df.groupby(roi_col).mean()\n",
      "C:\\Users\\Kevin\\AppData\\Local\\Temp\\ipykernel_12976\\3288184646.py:85: FutureWarning: The default value of numeric_only in DataFrameGroupBy.std is deprecated. In a future version, numeric_only will default to False. Either specify numeric_only or select only columns which should be valid for the function.\n",
      "  std_type_df = type_df.groupby(roi_col).std()\n",
      "C:\\Users\\Kevin\\AppData\\Local\\Temp\\ipykernel_12976\\3288184646.py:84: FutureWarning: The default value of numeric_only in DataFrameGroupBy.mean is deprecated. In a future version, numeric_only will default to False. Either specify numeric_only or select only columns which should be valid for the function.\n",
      "  avg_type_df = type_df.groupby(roi_col).mean()\n",
      "C:\\Users\\Kevin\\AppData\\Local\\Temp\\ipykernel_12976\\3288184646.py:85: FutureWarning: The default value of numeric_only in DataFrameGroupBy.std is deprecated. In a future version, numeric_only will default to False. Either specify numeric_only or select only columns which should be valid for the function.\n",
      "  std_type_df = type_df.groupby(roi_col).std()\n"
     ]
    },
    {
     "name": "stdout",
     "output_type": "stream",
     "text": [
      "rois {1} not included out of all rois {1} for type 3\n",
      "rois {1} not included out of all rois {1} for type 6\n",
      "rois {1} not included out of all rois {1} for type 11\n",
      "saving excel\n"
     ]
    },
    {
     "name": "stderr",
     "output_type": "stream",
     "text": [
      "C:\\Users\\Kevin\\AppData\\Local\\Temp\\ipykernel_12976\\3288184646.py:84: FutureWarning: The default value of numeric_only in DataFrameGroupBy.mean is deprecated. In a future version, numeric_only will default to False. Either specify numeric_only or select only columns which should be valid for the function.\n",
      "  avg_type_df = type_df.groupby(roi_col).mean()\n",
      "C:\\Users\\Kevin\\AppData\\Local\\Temp\\ipykernel_12976\\3288184646.py:85: FutureWarning: The default value of numeric_only in DataFrameGroupBy.std is deprecated. In a future version, numeric_only will default to False. Either specify numeric_only or select only columns which should be valid for the function.\n",
      "  std_type_df = type_df.groupby(roi_col).std()\n",
      "Pickle File Processed:  77%|\u001B[31m███████▋  \u001B[0m| 165/214 [21:57<02:55,  3.58s/it]"
     ]
    },
    {
     "name": "stdout",
     "output_type": "stream",
     "text": [
      "converting pkl to df:\n"
     ]
    },
    {
     "name": "stderr",
     "output_type": "stream",
     "text": [
      "C:\\Users\\Kevin\\AppData\\Local\\Temp\\ipykernel_12976\\3288184646.py:84: FutureWarning: The default value of numeric_only in DataFrameGroupBy.mean is deprecated. In a future version, numeric_only will default to False. Either specify numeric_only or select only columns which should be valid for the function.\n",
      "  avg_type_df = type_df.groupby(roi_col).mean()\n",
      "C:\\Users\\Kevin\\AppData\\Local\\Temp\\ipykernel_12976\\3288184646.py:85: FutureWarning: The default value of numeric_only in DataFrameGroupBy.std is deprecated. In a future version, numeric_only will default to False. Either specify numeric_only or select only columns which should be valid for the function.\n",
      "  std_type_df = type_df.groupby(roi_col).std()\n",
      "C:\\Users\\Kevin\\AppData\\Local\\Temp\\ipykernel_12976\\3288184646.py:84: FutureWarning: The default value of numeric_only in DataFrameGroupBy.mean is deprecated. In a future version, numeric_only will default to False. Either specify numeric_only or select only columns which should be valid for the function.\n",
      "  avg_type_df = type_df.groupby(roi_col).mean()\n",
      "C:\\Users\\Kevin\\AppData\\Local\\Temp\\ipykernel_12976\\3288184646.py:85: FutureWarning: The default value of numeric_only in DataFrameGroupBy.std is deprecated. In a future version, numeric_only will default to False. Either specify numeric_only or select only columns which should be valid for the function.\n",
      "  std_type_df = type_df.groupby(roi_col).std()\n"
     ]
    },
    {
     "name": "stdout",
     "output_type": "stream",
     "text": [
      "rois {1, 2} not included out of all rois {1, 2} for type 3\n",
      "rois {2} not included out of all rois {1, 2} for type 6\n",
      "rois {1, 2} not included out of all rois {1, 2} for type 11\n"
     ]
    },
    {
     "name": "stderr",
     "output_type": "stream",
     "text": [
      "C:\\Users\\Kevin\\AppData\\Local\\Temp\\ipykernel_12976\\3288184646.py:84: FutureWarning: The default value of numeric_only in DataFrameGroupBy.mean is deprecated. In a future version, numeric_only will default to False. Either specify numeric_only or select only columns which should be valid for the function.\n",
      "  avg_type_df = type_df.groupby(roi_col).mean()\n",
      "C:\\Users\\Kevin\\AppData\\Local\\Temp\\ipykernel_12976\\3288184646.py:85: FutureWarning: The default value of numeric_only in DataFrameGroupBy.std is deprecated. In a future version, numeric_only will default to False. Either specify numeric_only or select only columns which should be valid for the function.\n",
      "  std_type_df = type_df.groupby(roi_col).std()\n",
      "Pickle File Processed:  78%|\u001B[31m███████▊  \u001B[0m| 166/214 [22:00<02:43,  3.40s/it]"
     ]
    },
    {
     "name": "stdout",
     "output_type": "stream",
     "text": [
      "saving excel\n",
      "converting pkl to df:\n"
     ]
    },
    {
     "name": "stderr",
     "output_type": "stream",
     "text": [
      "C:\\Users\\Kevin\\AppData\\Local\\Temp\\ipykernel_12976\\3288184646.py:84: FutureWarning: The default value of numeric_only in DataFrameGroupBy.mean is deprecated. In a future version, numeric_only will default to False. Either specify numeric_only or select only columns which should be valid for the function.\n",
      "  avg_type_df = type_df.groupby(roi_col).mean()\n",
      "C:\\Users\\Kevin\\AppData\\Local\\Temp\\ipykernel_12976\\3288184646.py:85: FutureWarning: The default value of numeric_only in DataFrameGroupBy.std is deprecated. In a future version, numeric_only will default to False. Either specify numeric_only or select only columns which should be valid for the function.\n",
      "  std_type_df = type_df.groupby(roi_col).std()\n",
      "C:\\Users\\Kevin\\AppData\\Local\\Temp\\ipykernel_12976\\3288184646.py:84: FutureWarning: The default value of numeric_only in DataFrameGroupBy.mean is deprecated. In a future version, numeric_only will default to False. Either specify numeric_only or select only columns which should be valid for the function.\n",
      "  avg_type_df = type_df.groupby(roi_col).mean()\n",
      "C:\\Users\\Kevin\\AppData\\Local\\Temp\\ipykernel_12976\\3288184646.py:85: FutureWarning: The default value of numeric_only in DataFrameGroupBy.std is deprecated. In a future version, numeric_only will default to False. Either specify numeric_only or select only columns which should be valid for the function.\n",
      "  std_type_df = type_df.groupby(roi_col).std()\n"
     ]
    },
    {
     "name": "stdout",
     "output_type": "stream",
     "text": [
      "rois {4, 5, 6} not included out of all rois {1, 2, 3, 4, 5, 6} for type 3\n",
      "rois {4, 5} not included out of all rois {1, 2, 3, 4, 5, 6} for type 4\n",
      "rois {1, 2, 3, 4, 5, 6} not included out of all rois {1, 2, 3, 4, 5, 6} for type 6\n",
      "rois {1, 2, 3, 5, 6} not included out of all rois {1, 2, 3, 4, 5, 6} for type 11\n",
      "saving excel\n"
     ]
    },
    {
     "name": "stderr",
     "output_type": "stream",
     "text": [
      "Pickle File Processed:  78%|\u001B[31m███████▊  \u001B[0m| 167/214 [22:07<03:36,  4.61s/it]"
     ]
    },
    {
     "name": "stdout",
     "output_type": "stream",
     "text": [
      "converting pkl to df:\n"
     ]
    },
    {
     "name": "stderr",
     "output_type": "stream",
     "text": [
      "C:\\Users\\Kevin\\AppData\\Local\\Temp\\ipykernel_12976\\3288184646.py:84: FutureWarning: The default value of numeric_only in DataFrameGroupBy.mean is deprecated. In a future version, numeric_only will default to False. Either specify numeric_only or select only columns which should be valid for the function.\n",
      "  avg_type_df = type_df.groupby(roi_col).mean()\n",
      "C:\\Users\\Kevin\\AppData\\Local\\Temp\\ipykernel_12976\\3288184646.py:85: FutureWarning: The default value of numeric_only in DataFrameGroupBy.std is deprecated. In a future version, numeric_only will default to False. Either specify numeric_only or select only columns which should be valid for the function.\n",
      "  std_type_df = type_df.groupby(roi_col).std()\n",
      "Pickle File Processed:  79%|\u001B[31m███████▊  \u001B[0m| 168/214 [22:18<04:57,  6.47s/it]"
     ]
    },
    {
     "name": "stdout",
     "output_type": "stream",
     "text": [
      "saving excel\n",
      "converting pkl to df:\n"
     ]
    },
    {
     "name": "stderr",
     "output_type": "stream",
     "text": [
      "C:\\Users\\Kevin\\AppData\\Local\\Temp\\ipykernel_12976\\3288184646.py:84: FutureWarning: The default value of numeric_only in DataFrameGroupBy.mean is deprecated. In a future version, numeric_only will default to False. Either specify numeric_only or select only columns which should be valid for the function.\n",
      "  avg_type_df = type_df.groupby(roi_col).mean()\n",
      "C:\\Users\\Kevin\\AppData\\Local\\Temp\\ipykernel_12976\\3288184646.py:85: FutureWarning: The default value of numeric_only in DataFrameGroupBy.std is deprecated. In a future version, numeric_only will default to False. Either specify numeric_only or select only columns which should be valid for the function.\n",
      "  std_type_df = type_df.groupby(roi_col).std()\n",
      "C:\\Users\\Kevin\\AppData\\Local\\Temp\\ipykernel_12976\\3288184646.py:84: FutureWarning: The default value of numeric_only in DataFrameGroupBy.mean is deprecated. In a future version, numeric_only will default to False. Either specify numeric_only or select only columns which should be valid for the function.\n",
      "  avg_type_df = type_df.groupby(roi_col).mean()\n",
      "C:\\Users\\Kevin\\AppData\\Local\\Temp\\ipykernel_12976\\3288184646.py:85: FutureWarning: The default value of numeric_only in DataFrameGroupBy.std is deprecated. In a future version, numeric_only will default to False. Either specify numeric_only or select only columns which should be valid for the function.\n",
      "  std_type_df = type_df.groupby(roi_col).std()\n"
     ]
    },
    {
     "name": "stdout",
     "output_type": "stream",
     "text": [
      "rois {1} not included out of all rois {1} for type 6\n"
     ]
    },
    {
     "name": "stderr",
     "output_type": "stream",
     "text": [
      "Pickle File Processed:  79%|\u001B[31m███████▉  \u001B[0m| 169/214 [22:21<04:06,  5.49s/it]"
     ]
    },
    {
     "name": "stdout",
     "output_type": "stream",
     "text": [
      "saving excel\n",
      "converting pkl to df:\n"
     ]
    },
    {
     "name": "stderr",
     "output_type": "stream",
     "text": [
      "C:\\Users\\Kevin\\AppData\\Local\\Temp\\ipykernel_12976\\3288184646.py:84: FutureWarning: The default value of numeric_only in DataFrameGroupBy.mean is deprecated. In a future version, numeric_only will default to False. Either specify numeric_only or select only columns which should be valid for the function.\n",
      "  avg_type_df = type_df.groupby(roi_col).mean()\n",
      "C:\\Users\\Kevin\\AppData\\Local\\Temp\\ipykernel_12976\\3288184646.py:85: FutureWarning: The default value of numeric_only in DataFrameGroupBy.std is deprecated. In a future version, numeric_only will default to False. Either specify numeric_only or select only columns which should be valid for the function.\n",
      "  std_type_df = type_df.groupby(roi_col).std()\n",
      "C:\\Users\\Kevin\\AppData\\Local\\Temp\\ipykernel_12976\\3288184646.py:84: FutureWarning: The default value of numeric_only in DataFrameGroupBy.mean is deprecated. In a future version, numeric_only will default to False. Either specify numeric_only or select only columns which should be valid for the function.\n",
      "  avg_type_df = type_df.groupby(roi_col).mean()\n",
      "C:\\Users\\Kevin\\AppData\\Local\\Temp\\ipykernel_12976\\3288184646.py:85: FutureWarning: The default value of numeric_only in DataFrameGroupBy.std is deprecated. In a future version, numeric_only will default to False. Either specify numeric_only or select only columns which should be valid for the function.\n",
      "  std_type_df = type_df.groupby(roi_col).std()\n",
      "C:\\Users\\Kevin\\AppData\\Local\\Temp\\ipykernel_12976\\3288184646.py:84: FutureWarning: The default value of numeric_only in DataFrameGroupBy.mean is deprecated. In a future version, numeric_only will default to False. Either specify numeric_only or select only columns which should be valid for the function.\n",
      "  avg_type_df = type_df.groupby(roi_col).mean()\n",
      "C:\\Users\\Kevin\\AppData\\Local\\Temp\\ipykernel_12976\\3288184646.py:85: FutureWarning: The default value of numeric_only in DataFrameGroupBy.std is deprecated. In a future version, numeric_only will default to False. Either specify numeric_only or select only columns which should be valid for the function.\n",
      "  std_type_df = type_df.groupby(roi_col).std()\n"
     ]
    },
    {
     "name": "stdout",
     "output_type": "stream",
     "text": [
      "rois {1} not included out of all rois {1} for type 3\n",
      "rois {1} not included out of all rois {1} for type 6\n"
     ]
    },
    {
     "name": "stderr",
     "output_type": "stream",
     "text": [
      "Pickle File Processed:  79%|\u001B[31m███████▉  \u001B[0m| 170/214 [22:23<03:10,  4.34s/it]"
     ]
    },
    {
     "name": "stdout",
     "output_type": "stream",
     "text": [
      "saving excel\n",
      "converting pkl to df:\n"
     ]
    },
    {
     "name": "stderr",
     "output_type": "stream",
     "text": [
      "C:\\Users\\Kevin\\AppData\\Local\\Temp\\ipykernel_12976\\3288184646.py:84: FutureWarning: The default value of numeric_only in DataFrameGroupBy.mean is deprecated. In a future version, numeric_only will default to False. Either specify numeric_only or select only columns which should be valid for the function.\n",
      "  avg_type_df = type_df.groupby(roi_col).mean()\n",
      "C:\\Users\\Kevin\\AppData\\Local\\Temp\\ipykernel_12976\\3288184646.py:85: FutureWarning: The default value of numeric_only in DataFrameGroupBy.std is deprecated. In a future version, numeric_only will default to False. Either specify numeric_only or select only columns which should be valid for the function.\n",
      "  std_type_df = type_df.groupby(roi_col).std()\n",
      "Pickle File Processed:  80%|\u001B[31m███████▉  \u001B[0m| 171/214 [22:32<04:05,  5.70s/it]"
     ]
    },
    {
     "name": "stdout",
     "output_type": "stream",
     "text": [
      "saving excel\n",
      "converting pkl to df:\n"
     ]
    },
    {
     "name": "stderr",
     "output_type": "stream",
     "text": [
      "C:\\Users\\Kevin\\AppData\\Local\\Temp\\ipykernel_12976\\3288184646.py:84: FutureWarning: The default value of numeric_only in DataFrameGroupBy.mean is deprecated. In a future version, numeric_only will default to False. Either specify numeric_only or select only columns which should be valid for the function.\n",
      "  avg_type_df = type_df.groupby(roi_col).mean()\n",
      "C:\\Users\\Kevin\\AppData\\Local\\Temp\\ipykernel_12976\\3288184646.py:85: FutureWarning: The default value of numeric_only in DataFrameGroupBy.std is deprecated. In a future version, numeric_only will default to False. Either specify numeric_only or select only columns which should be valid for the function.\n",
      "  std_type_df = type_df.groupby(roi_col).std()\n"
     ]
    },
    {
     "name": "stdout",
     "output_type": "stream",
     "text": [
      "rois {2} not included out of all rois {1, 2} for type 3\n",
      "rois {2} not included out of all rois {1, 2} for type 6\n",
      "rois {2} not included out of all rois {1, 2} for type 11\n"
     ]
    },
    {
     "name": "stderr",
     "output_type": "stream",
     "text": [
      "Pickle File Processed:  80%|\u001B[31m████████  \u001B[0m| 172/214 [22:48<06:10,  8.82s/it]"
     ]
    },
    {
     "name": "stdout",
     "output_type": "stream",
     "text": [
      "saving excel\n",
      "converting pkl to df:\n"
     ]
    },
    {
     "name": "stderr",
     "output_type": "stream",
     "text": [
      "C:\\Users\\Kevin\\AppData\\Local\\Temp\\ipykernel_12976\\3288184646.py:84: FutureWarning: The default value of numeric_only in DataFrameGroupBy.mean is deprecated. In a future version, numeric_only will default to False. Either specify numeric_only or select only columns which should be valid for the function.\n",
      "  avg_type_df = type_df.groupby(roi_col).mean()\n",
      "C:\\Users\\Kevin\\AppData\\Local\\Temp\\ipykernel_12976\\3288184646.py:85: FutureWarning: The default value of numeric_only in DataFrameGroupBy.std is deprecated. In a future version, numeric_only will default to False. Either specify numeric_only or select only columns which should be valid for the function.\n",
      "  std_type_df = type_df.groupby(roi_col).std()\n",
      "C:\\Users\\Kevin\\AppData\\Local\\Temp\\ipykernel_12976\\3288184646.py:84: FutureWarning: The default value of numeric_only in DataFrameGroupBy.mean is deprecated. In a future version, numeric_only will default to False. Either specify numeric_only or select only columns which should be valid for the function.\n",
      "  avg_type_df = type_df.groupby(roi_col).mean()\n",
      "C:\\Users\\Kevin\\AppData\\Local\\Temp\\ipykernel_12976\\3288184646.py:85: FutureWarning: The default value of numeric_only in DataFrameGroupBy.std is deprecated. In a future version, numeric_only will default to False. Either specify numeric_only or select only columns which should be valid for the function.\n",
      "  std_type_df = type_df.groupby(roi_col).std()\n"
     ]
    },
    {
     "name": "stdout",
     "output_type": "stream",
     "text": [
      "rois {1} not included out of all rois {1} for type 6\n"
     ]
    },
    {
     "name": "stderr",
     "output_type": "stream",
     "text": [
      "Pickle File Processed:  81%|\u001B[31m████████  \u001B[0m| 173/214 [22:49<04:30,  6.59s/it]"
     ]
    },
    {
     "name": "stdout",
     "output_type": "stream",
     "text": [
      "saving excel\n",
      "converting pkl to df:\n"
     ]
    },
    {
     "name": "stderr",
     "output_type": "stream",
     "text": [
      "C:\\Users\\Kevin\\AppData\\Local\\Temp\\ipykernel_12976\\3288184646.py:84: FutureWarning: The default value of numeric_only in DataFrameGroupBy.mean is deprecated. In a future version, numeric_only will default to False. Either specify numeric_only or select only columns which should be valid for the function.\n",
      "  avg_type_df = type_df.groupby(roi_col).mean()\n",
      "C:\\Users\\Kevin\\AppData\\Local\\Temp\\ipykernel_12976\\3288184646.py:85: FutureWarning: The default value of numeric_only in DataFrameGroupBy.std is deprecated. In a future version, numeric_only will default to False. Either specify numeric_only or select only columns which should be valid for the function.\n",
      "  std_type_df = type_df.groupby(roi_col).std()\n",
      "C:\\Users\\Kevin\\AppData\\Local\\Temp\\ipykernel_12976\\3288184646.py:84: FutureWarning: The default value of numeric_only in DataFrameGroupBy.mean is deprecated. In a future version, numeric_only will default to False. Either specify numeric_only or select only columns which should be valid for the function.\n",
      "  avg_type_df = type_df.groupby(roi_col).mean()\n",
      "C:\\Users\\Kevin\\AppData\\Local\\Temp\\ipykernel_12976\\3288184646.py:85: FutureWarning: The default value of numeric_only in DataFrameGroupBy.std is deprecated. In a future version, numeric_only will default to False. Either specify numeric_only or select only columns which should be valid for the function.\n",
      "  std_type_df = type_df.groupby(roi_col).std()\n"
     ]
    },
    {
     "name": "stdout",
     "output_type": "stream",
     "text": [
      "rois {1} not included out of all rois {1} for type 6\n",
      "rois {1} not included out of all rois {1} for type 11\n"
     ]
    },
    {
     "name": "stderr",
     "output_type": "stream",
     "text": [
      "C:\\Users\\Kevin\\AppData\\Local\\Temp\\ipykernel_12976\\3288184646.py:84: FutureWarning: The default value of numeric_only in DataFrameGroupBy.mean is deprecated. In a future version, numeric_only will default to False. Either specify numeric_only or select only columns which should be valid for the function.\n",
      "  avg_type_df = type_df.groupby(roi_col).mean()\n",
      "C:\\Users\\Kevin\\AppData\\Local\\Temp\\ipykernel_12976\\3288184646.py:85: FutureWarning: The default value of numeric_only in DataFrameGroupBy.std is deprecated. In a future version, numeric_only will default to False. Either specify numeric_only or select only columns which should be valid for the function.\n",
      "  std_type_df = type_df.groupby(roi_col).std()\n",
      "Pickle File Processed:  81%|\u001B[31m████████▏ \u001B[0m| 174/214 [22:51<03:29,  5.24s/it]"
     ]
    },
    {
     "name": "stdout",
     "output_type": "stream",
     "text": [
      "saving excel\n",
      "converting pkl to df:\n"
     ]
    },
    {
     "name": "stderr",
     "output_type": "stream",
     "text": [
      "C:\\Users\\Kevin\\AppData\\Local\\Temp\\ipykernel_12976\\3288184646.py:84: FutureWarning: The default value of numeric_only in DataFrameGroupBy.mean is deprecated. In a future version, numeric_only will default to False. Either specify numeric_only or select only columns which should be valid for the function.\n",
      "  avg_type_df = type_df.groupby(roi_col).mean()\n",
      "C:\\Users\\Kevin\\AppData\\Local\\Temp\\ipykernel_12976\\3288184646.py:85: FutureWarning: The default value of numeric_only in DataFrameGroupBy.std is deprecated. In a future version, numeric_only will default to False. Either specify numeric_only or select only columns which should be valid for the function.\n",
      "  std_type_df = type_df.groupby(roi_col).std()\n",
      "C:\\Users\\Kevin\\AppData\\Local\\Temp\\ipykernel_12976\\3288184646.py:84: FutureWarning: The default value of numeric_only in DataFrameGroupBy.mean is deprecated. In a future version, numeric_only will default to False. Either specify numeric_only or select only columns which should be valid for the function.\n",
      "  avg_type_df = type_df.groupby(roi_col).mean()\n",
      "C:\\Users\\Kevin\\AppData\\Local\\Temp\\ipykernel_12976\\3288184646.py:85: FutureWarning: The default value of numeric_only in DataFrameGroupBy.std is deprecated. In a future version, numeric_only will default to False. Either specify numeric_only or select only columns which should be valid for the function.\n",
      "  std_type_df = type_df.groupby(roi_col).std()\n",
      "C:\\Users\\Kevin\\AppData\\Local\\Temp\\ipykernel_12976\\3288184646.py:84: FutureWarning: The default value of numeric_only in DataFrameGroupBy.mean is deprecated. In a future version, numeric_only will default to False. Either specify numeric_only or select only columns which should be valid for the function.\n",
      "  avg_type_df = type_df.groupby(roi_col).mean()\n",
      "C:\\Users\\Kevin\\AppData\\Local\\Temp\\ipykernel_12976\\3288184646.py:85: FutureWarning: The default value of numeric_only in DataFrameGroupBy.std is deprecated. In a future version, numeric_only will default to False. Either specify numeric_only or select only columns which should be valid for the function.\n",
      "  std_type_df = type_df.groupby(roi_col).std()\n",
      "C:\\Users\\Kevin\\AppData\\Local\\Temp\\ipykernel_12976\\3288184646.py:84: FutureWarning: The default value of numeric_only in DataFrameGroupBy.mean is deprecated. In a future version, numeric_only will default to False. Either specify numeric_only or select only columns which should be valid for the function.\n",
      "  avg_type_df = type_df.groupby(roi_col).mean()\n",
      "C:\\Users\\Kevin\\AppData\\Local\\Temp\\ipykernel_12976\\3288184646.py:85: FutureWarning: The default value of numeric_only in DataFrameGroupBy.std is deprecated. In a future version, numeric_only will default to False. Either specify numeric_only or select only columns which should be valid for the function.\n",
      "  std_type_df = type_df.groupby(roi_col).std()\n"
     ]
    },
    {
     "name": "stdout",
     "output_type": "stream",
     "text": [
      "rois {1} not included out of all rois {1} for type 3\n",
      "rois {1} not included out of all rois {1} for type 4\n",
      "rois {1} not included out of all rois {1} for type 6\n",
      "rois {1} not included out of all rois {1} for type 11\n",
      "saving excel\n"
     ]
    },
    {
     "name": "stderr",
     "output_type": "stream",
     "text": [
      "C:\\Users\\Kevin\\AppData\\Local\\Temp\\ipykernel_12976\\3288184646.py:84: FutureWarning: The default value of numeric_only in DataFrameGroupBy.mean is deprecated. In a future version, numeric_only will default to False. Either specify numeric_only or select only columns which should be valid for the function.\n",
      "  avg_type_df = type_df.groupby(roi_col).mean()\n",
      "C:\\Users\\Kevin\\AppData\\Local\\Temp\\ipykernel_12976\\3288184646.py:85: FutureWarning: The default value of numeric_only in DataFrameGroupBy.std is deprecated. In a future version, numeric_only will default to False. Either specify numeric_only or select only columns which should be valid for the function.\n",
      "  std_type_df = type_df.groupby(roi_col).std()\n",
      "Pickle File Processed:  82%|\u001B[31m████████▏ \u001B[0m| 175/214 [22:52<02:35,  3.98s/it]"
     ]
    },
    {
     "name": "stdout",
     "output_type": "stream",
     "text": [
      "converting pkl to df:\n"
     ]
    },
    {
     "name": "stderr",
     "output_type": "stream",
     "text": [
      "C:\\Users\\Kevin\\AppData\\Local\\Temp\\ipykernel_12976\\3288184646.py:84: FutureWarning: The default value of numeric_only in DataFrameGroupBy.mean is deprecated. In a future version, numeric_only will default to False. Either specify numeric_only or select only columns which should be valid for the function.\n",
      "  avg_type_df = type_df.groupby(roi_col).mean()\n",
      "C:\\Users\\Kevin\\AppData\\Local\\Temp\\ipykernel_12976\\3288184646.py:85: FutureWarning: The default value of numeric_only in DataFrameGroupBy.std is deprecated. In a future version, numeric_only will default to False. Either specify numeric_only or select only columns which should be valid for the function.\n",
      "  std_type_df = type_df.groupby(roi_col).std()\n",
      "C:\\Users\\Kevin\\AppData\\Local\\Temp\\ipykernel_12976\\3288184646.py:84: FutureWarning: The default value of numeric_only in DataFrameGroupBy.mean is deprecated. In a future version, numeric_only will default to False. Either specify numeric_only or select only columns which should be valid for the function.\n",
      "  avg_type_df = type_df.groupby(roi_col).mean()\n",
      "C:\\Users\\Kevin\\AppData\\Local\\Temp\\ipykernel_12976\\3288184646.py:85: FutureWarning: The default value of numeric_only in DataFrameGroupBy.std is deprecated. In a future version, numeric_only will default to False. Either specify numeric_only or select only columns which should be valid for the function.\n",
      "  std_type_df = type_df.groupby(roi_col).std()\n"
     ]
    },
    {
     "name": "stdout",
     "output_type": "stream",
     "text": [
      "rois {1} not included out of all rois {1} for type 6\n"
     ]
    },
    {
     "name": "stderr",
     "output_type": "stream",
     "text": [
      "Pickle File Processed:  82%|\u001B[31m████████▏ \u001B[0m| 176/214 [22:54<02:07,  3.37s/it]"
     ]
    },
    {
     "name": "stdout",
     "output_type": "stream",
     "text": [
      "saving excel\n",
      "converting pkl to df:\n"
     ]
    },
    {
     "name": "stderr",
     "output_type": "stream",
     "text": [
      "C:\\Users\\Kevin\\AppData\\Local\\Temp\\ipykernel_12976\\3288184646.py:84: FutureWarning: The default value of numeric_only in DataFrameGroupBy.mean is deprecated. In a future version, numeric_only will default to False. Either specify numeric_only or select only columns which should be valid for the function.\n",
      "  avg_type_df = type_df.groupby(roi_col).mean()\n",
      "C:\\Users\\Kevin\\AppData\\Local\\Temp\\ipykernel_12976\\3288184646.py:85: FutureWarning: The default value of numeric_only in DataFrameGroupBy.std is deprecated. In a future version, numeric_only will default to False. Either specify numeric_only or select only columns which should be valid for the function.\n",
      "  std_type_df = type_df.groupby(roi_col).std()\n",
      "Pickle File Processed:  83%|\u001B[31m████████▎ \u001B[0m| 177/214 [22:58<02:07,  3.45s/it]"
     ]
    },
    {
     "name": "stdout",
     "output_type": "stream",
     "text": [
      "saving excel\n",
      "converting pkl to df:\n"
     ]
    },
    {
     "name": "stderr",
     "output_type": "stream",
     "text": [
      "C:\\Users\\Kevin\\AppData\\Local\\Temp\\ipykernel_12976\\3288184646.py:84: FutureWarning: The default value of numeric_only in DataFrameGroupBy.mean is deprecated. In a future version, numeric_only will default to False. Either specify numeric_only or select only columns which should be valid for the function.\n",
      "  avg_type_df = type_df.groupby(roi_col).mean()\n",
      "C:\\Users\\Kevin\\AppData\\Local\\Temp\\ipykernel_12976\\3288184646.py:85: FutureWarning: The default value of numeric_only in DataFrameGroupBy.std is deprecated. In a future version, numeric_only will default to False. Either specify numeric_only or select only columns which should be valid for the function.\n",
      "  std_type_df = type_df.groupby(roi_col).std()\n",
      "Pickle File Processed:  83%|\u001B[31m████████▎ \u001B[0m| 178/214 [23:04<02:28,  4.13s/it]"
     ]
    },
    {
     "name": "stdout",
     "output_type": "stream",
     "text": [
      "saving excel\n",
      "converting pkl to df:\n"
     ]
    },
    {
     "name": "stderr",
     "output_type": "stream",
     "text": [
      "C:\\Users\\Kevin\\AppData\\Local\\Temp\\ipykernel_12976\\3288184646.py:84: FutureWarning: The default value of numeric_only in DataFrameGroupBy.mean is deprecated. In a future version, numeric_only will default to False. Either specify numeric_only or select only columns which should be valid for the function.\n",
      "  avg_type_df = type_df.groupby(roi_col).mean()\n",
      "C:\\Users\\Kevin\\AppData\\Local\\Temp\\ipykernel_12976\\3288184646.py:85: FutureWarning: The default value of numeric_only in DataFrameGroupBy.std is deprecated. In a future version, numeric_only will default to False. Either specify numeric_only or select only columns which should be valid for the function.\n",
      "  std_type_df = type_df.groupby(roi_col).std()\n",
      "Pickle File Processed:  84%|\u001B[31m████████▎ \u001B[0m| 179/214 [23:09<02:37,  4.49s/it]"
     ]
    },
    {
     "name": "stdout",
     "output_type": "stream",
     "text": [
      "saving excel\n",
      "converting pkl to df:\n"
     ]
    },
    {
     "name": "stderr",
     "output_type": "stream",
     "text": [
      "C:\\Users\\Kevin\\AppData\\Local\\Temp\\ipykernel_12976\\3288184646.py:84: FutureWarning: The default value of numeric_only in DataFrameGroupBy.mean is deprecated. In a future version, numeric_only will default to False. Either specify numeric_only or select only columns which should be valid for the function.\n",
      "  avg_type_df = type_df.groupby(roi_col).mean()\n",
      "C:\\Users\\Kevin\\AppData\\Local\\Temp\\ipykernel_12976\\3288184646.py:85: FutureWarning: The default value of numeric_only in DataFrameGroupBy.std is deprecated. In a future version, numeric_only will default to False. Either specify numeric_only or select only columns which should be valid for the function.\n",
      "  std_type_df = type_df.groupby(roi_col).std()\n",
      "C:\\Users\\Kevin\\AppData\\Local\\Temp\\ipykernel_12976\\3288184646.py:84: FutureWarning: The default value of numeric_only in DataFrameGroupBy.mean is deprecated. In a future version, numeric_only will default to False. Either specify numeric_only or select only columns which should be valid for the function.\n",
      "  avg_type_df = type_df.groupby(roi_col).mean()\n",
      "C:\\Users\\Kevin\\AppData\\Local\\Temp\\ipykernel_12976\\3288184646.py:85: FutureWarning: The default value of numeric_only in DataFrameGroupBy.std is deprecated. In a future version, numeric_only will default to False. Either specify numeric_only or select only columns which should be valid for the function.\n",
      "  std_type_df = type_df.groupby(roi_col).std()\n"
     ]
    },
    {
     "name": "stdout",
     "output_type": "stream",
     "text": [
      "rois {1} not included out of all rois {1} for type 3\n"
     ]
    },
    {
     "name": "stderr",
     "output_type": "stream",
     "text": [
      "Pickle File Processed:  84%|\u001B[31m████████▍ \u001B[0m| 180/214 [23:13<02:26,  4.30s/it]"
     ]
    },
    {
     "name": "stdout",
     "output_type": "stream",
     "text": [
      "saving excel\n",
      "converting pkl to df:\n"
     ]
    },
    {
     "name": "stderr",
     "output_type": "stream",
     "text": [
      "C:\\Users\\Kevin\\AppData\\Local\\Temp\\ipykernel_12976\\3288184646.py:84: FutureWarning: The default value of numeric_only in DataFrameGroupBy.mean is deprecated. In a future version, numeric_only will default to False. Either specify numeric_only or select only columns which should be valid for the function.\n",
      "  avg_type_df = type_df.groupby(roi_col).mean()\n",
      "C:\\Users\\Kevin\\AppData\\Local\\Temp\\ipykernel_12976\\3288184646.py:85: FutureWarning: The default value of numeric_only in DataFrameGroupBy.std is deprecated. In a future version, numeric_only will default to False. Either specify numeric_only or select only columns which should be valid for the function.\n",
      "  std_type_df = type_df.groupby(roi_col).std()\n",
      "Pickle File Processed:  85%|\u001B[31m████████▍ \u001B[0m| 181/214 [23:19<02:37,  4.76s/it]"
     ]
    },
    {
     "name": "stdout",
     "output_type": "stream",
     "text": [
      "saving excel\n",
      "converting pkl to df:\n"
     ]
    },
    {
     "name": "stderr",
     "output_type": "stream",
     "text": [
      "C:\\Users\\Kevin\\AppData\\Local\\Temp\\ipykernel_12976\\3288184646.py:84: FutureWarning: The default value of numeric_only in DataFrameGroupBy.mean is deprecated. In a future version, numeric_only will default to False. Either specify numeric_only or select only columns which should be valid for the function.\n",
      "  avg_type_df = type_df.groupby(roi_col).mean()\n",
      "C:\\Users\\Kevin\\AppData\\Local\\Temp\\ipykernel_12976\\3288184646.py:85: FutureWarning: The default value of numeric_only in DataFrameGroupBy.std is deprecated. In a future version, numeric_only will default to False. Either specify numeric_only or select only columns which should be valid for the function.\n",
      "  std_type_df = type_df.groupby(roi_col).std()\n"
     ]
    },
    {
     "name": "stdout",
     "output_type": "stream",
     "text": [
      "rois {1, 3} not included out of all rois {1, 2, 3} for type 3\n",
      "rois {3} not included out of all rois {1, 2, 3} for type 6\n"
     ]
    },
    {
     "name": "stderr",
     "output_type": "stream",
     "text": [
      "Pickle File Processed:  85%|\u001B[31m████████▌ \u001B[0m| 182/214 [23:25<02:49,  5.29s/it]"
     ]
    },
    {
     "name": "stdout",
     "output_type": "stream",
     "text": [
      "saving excel\n",
      "converting pkl to df:\n"
     ]
    },
    {
     "name": "stderr",
     "output_type": "stream",
     "text": [
      "C:\\Users\\Kevin\\AppData\\Local\\Temp\\ipykernel_12976\\3288184646.py:84: FutureWarning: The default value of numeric_only in DataFrameGroupBy.mean is deprecated. In a future version, numeric_only will default to False. Either specify numeric_only or select only columns which should be valid for the function.\n",
      "  avg_type_df = type_df.groupby(roi_col).mean()\n",
      "C:\\Users\\Kevin\\AppData\\Local\\Temp\\ipykernel_12976\\3288184646.py:85: FutureWarning: The default value of numeric_only in DataFrameGroupBy.std is deprecated. In a future version, numeric_only will default to False. Either specify numeric_only or select only columns which should be valid for the function.\n",
      "  std_type_df = type_df.groupby(roi_col).std()\n"
     ]
    },
    {
     "name": "stdout",
     "output_type": "stream",
     "text": [
      "rois {1} not included out of all rois {1, 2} for type 11\n",
      "saving excel\n"
     ]
    },
    {
     "name": "stderr",
     "output_type": "stream",
     "text": [
      "Pickle File Processed:  86%|\u001B[31m████████▌ \u001B[0m| 183/214 [23:27<02:13,  4.29s/it]"
     ]
    },
    {
     "name": "stdout",
     "output_type": "stream",
     "text": [
      "converting pkl to df:\n"
     ]
    },
    {
     "name": "stderr",
     "output_type": "stream",
     "text": [
      "C:\\Users\\Kevin\\AppData\\Local\\Temp\\ipykernel_12976\\3288184646.py:84: FutureWarning: The default value of numeric_only in DataFrameGroupBy.mean is deprecated. In a future version, numeric_only will default to False. Either specify numeric_only or select only columns which should be valid for the function.\n",
      "  avg_type_df = type_df.groupby(roi_col).mean()\n",
      "C:\\Users\\Kevin\\AppData\\Local\\Temp\\ipykernel_12976\\3288184646.py:85: FutureWarning: The default value of numeric_only in DataFrameGroupBy.std is deprecated. In a future version, numeric_only will default to False. Either specify numeric_only or select only columns which should be valid for the function.\n",
      "  std_type_df = type_df.groupby(roi_col).std()\n",
      "Pickle File Processed:  86%|\u001B[31m████████▌ \u001B[0m| 184/214 [23:33<02:22,  4.74s/it]"
     ]
    },
    {
     "name": "stdout",
     "output_type": "stream",
     "text": [
      "saving excel\n",
      "converting pkl to df:\n"
     ]
    },
    {
     "name": "stderr",
     "output_type": "stream",
     "text": [
      "C:\\Users\\Kevin\\AppData\\Local\\Temp\\ipykernel_12976\\3288184646.py:84: FutureWarning: The default value of numeric_only in DataFrameGroupBy.mean is deprecated. In a future version, numeric_only will default to False. Either specify numeric_only or select only columns which should be valid for the function.\n",
      "  avg_type_df = type_df.groupby(roi_col).mean()\n",
      "C:\\Users\\Kevin\\AppData\\Local\\Temp\\ipykernel_12976\\3288184646.py:85: FutureWarning: The default value of numeric_only in DataFrameGroupBy.std is deprecated. In a future version, numeric_only will default to False. Either specify numeric_only or select only columns which should be valid for the function.\n",
      "  std_type_df = type_df.groupby(roi_col).std()\n",
      "Pickle File Processed:  86%|\u001B[31m████████▋ \u001B[0m| 185/214 [23:47<03:40,  7.60s/it]"
     ]
    },
    {
     "name": "stdout",
     "output_type": "stream",
     "text": [
      "saving excel\n",
      "converting pkl to df:\n"
     ]
    },
    {
     "name": "stderr",
     "output_type": "stream",
     "text": [
      "C:\\Users\\Kevin\\AppData\\Local\\Temp\\ipykernel_12976\\3288184646.py:84: FutureWarning: The default value of numeric_only in DataFrameGroupBy.mean is deprecated. In a future version, numeric_only will default to False. Either specify numeric_only or select only columns which should be valid for the function.\n",
      "  avg_type_df = type_df.groupby(roi_col).mean()\n",
      "C:\\Users\\Kevin\\AppData\\Local\\Temp\\ipykernel_12976\\3288184646.py:85: FutureWarning: The default value of numeric_only in DataFrameGroupBy.std is deprecated. In a future version, numeric_only will default to False. Either specify numeric_only or select only columns which should be valid for the function.\n",
      "  std_type_df = type_df.groupby(roi_col).std()\n",
      "Pickle File Processed:  87%|\u001B[31m████████▋ \u001B[0m| 186/214 [23:53<03:14,  6.96s/it]"
     ]
    },
    {
     "name": "stdout",
     "output_type": "stream",
     "text": [
      "saving excel\n",
      "converting pkl to df:\n"
     ]
    },
    {
     "name": "stderr",
     "output_type": "stream",
     "text": [
      "C:\\Users\\Kevin\\AppData\\Local\\Temp\\ipykernel_12976\\3288184646.py:84: FutureWarning: The default value of numeric_only in DataFrameGroupBy.mean is deprecated. In a future version, numeric_only will default to False. Either specify numeric_only or select only columns which should be valid for the function.\n",
      "  avg_type_df = type_df.groupby(roi_col).mean()\n",
      "C:\\Users\\Kevin\\AppData\\Local\\Temp\\ipykernel_12976\\3288184646.py:85: FutureWarning: The default value of numeric_only in DataFrameGroupBy.std is deprecated. In a future version, numeric_only will default to False. Either specify numeric_only or select only columns which should be valid for the function.\n",
      "  std_type_df = type_df.groupby(roi_col).std()\n",
      "Pickle File Processed:  87%|\u001B[31m████████▋ \u001B[0m| 187/214 [24:07<04:07,  9.18s/it]"
     ]
    },
    {
     "name": "stdout",
     "output_type": "stream",
     "text": [
      "saving excel\n",
      "converting pkl to df:\n"
     ]
    },
    {
     "name": "stderr",
     "output_type": "stream",
     "text": [
      "C:\\Users\\Kevin\\AppData\\Local\\Temp\\ipykernel_12976\\3288184646.py:84: FutureWarning: The default value of numeric_only in DataFrameGroupBy.mean is deprecated. In a future version, numeric_only will default to False. Either specify numeric_only or select only columns which should be valid for the function.\n",
      "  avg_type_df = type_df.groupby(roi_col).mean()\n",
      "C:\\Users\\Kevin\\AppData\\Local\\Temp\\ipykernel_12976\\3288184646.py:85: FutureWarning: The default value of numeric_only in DataFrameGroupBy.std is deprecated. In a future version, numeric_only will default to False. Either specify numeric_only or select only columns which should be valid for the function.\n",
      "  std_type_df = type_df.groupby(roi_col).std()\n"
     ]
    },
    {
     "name": "stdout",
     "output_type": "stream",
     "text": [
      "rois {2} not included out of all rois {1, 2, 3} for type 3\n",
      "rois {3} not included out of all rois {1, 2, 3} for type 4\n"
     ]
    },
    {
     "name": "stderr",
     "output_type": "stream",
     "text": [
      "Pickle File Processed:  88%|\u001B[31m████████▊ \u001B[0m| 188/214 [24:16<03:57,  9.15s/it]"
     ]
    },
    {
     "name": "stdout",
     "output_type": "stream",
     "text": [
      "saving excel\n",
      "converting pkl to df:\n"
     ]
    },
    {
     "name": "stderr",
     "output_type": "stream",
     "text": [
      "C:\\Users\\Kevin\\AppData\\Local\\Temp\\ipykernel_12976\\3288184646.py:84: FutureWarning: The default value of numeric_only in DataFrameGroupBy.mean is deprecated. In a future version, numeric_only will default to False. Either specify numeric_only or select only columns which should be valid for the function.\n",
      "  avg_type_df = type_df.groupby(roi_col).mean()\n",
      "C:\\Users\\Kevin\\AppData\\Local\\Temp\\ipykernel_12976\\3288184646.py:85: FutureWarning: The default value of numeric_only in DataFrameGroupBy.std is deprecated. In a future version, numeric_only will default to False. Either specify numeric_only or select only columns which should be valid for the function.\n",
      "  std_type_df = type_df.groupby(roi_col).std()\n"
     ]
    },
    {
     "name": "stdout",
     "output_type": "stream",
     "text": [
      "saving excel\n"
     ]
    },
    {
     "name": "stderr",
     "output_type": "stream",
     "text": [
      "Pickle File Processed:  88%|\u001B[31m████████▊ \u001B[0m| 189/214 [24:30<04:27, 10.68s/it]"
     ]
    },
    {
     "name": "stdout",
     "output_type": "stream",
     "text": [
      "converting pkl to df:\n"
     ]
    },
    {
     "name": "stderr",
     "output_type": "stream",
     "text": [
      "C:\\Users\\Kevin\\AppData\\Local\\Temp\\ipykernel_12976\\3288184646.py:84: FutureWarning: The default value of numeric_only in DataFrameGroupBy.mean is deprecated. In a future version, numeric_only will default to False. Either specify numeric_only or select only columns which should be valid for the function.\n",
      "  avg_type_df = type_df.groupby(roi_col).mean()\n",
      "C:\\Users\\Kevin\\AppData\\Local\\Temp\\ipykernel_12976\\3288184646.py:85: FutureWarning: The default value of numeric_only in DataFrameGroupBy.std is deprecated. In a future version, numeric_only will default to False. Either specify numeric_only or select only columns which should be valid for the function.\n",
      "  std_type_df = type_df.groupby(roi_col).std()\n",
      "Pickle File Processed:  89%|\u001B[31m████████▉ \u001B[0m| 190/214 [24:33<03:17,  8.24s/it]"
     ]
    },
    {
     "name": "stdout",
     "output_type": "stream",
     "text": [
      "saving excel\n",
      "converting pkl to df:\n"
     ]
    },
    {
     "name": "stderr",
     "output_type": "stream",
     "text": [
      "C:\\Users\\Kevin\\AppData\\Local\\Temp\\ipykernel_12976\\3288184646.py:84: FutureWarning: The default value of numeric_only in DataFrameGroupBy.mean is deprecated. In a future version, numeric_only will default to False. Either specify numeric_only or select only columns which should be valid for the function.\n",
      "  avg_type_df = type_df.groupby(roi_col).mean()\n",
      "C:\\Users\\Kevin\\AppData\\Local\\Temp\\ipykernel_12976\\3288184646.py:85: FutureWarning: The default value of numeric_only in DataFrameGroupBy.std is deprecated. In a future version, numeric_only will default to False. Either specify numeric_only or select only columns which should be valid for the function.\n",
      "  std_type_df = type_df.groupby(roi_col).std()\n"
     ]
    },
    {
     "name": "stdout",
     "output_type": "stream",
     "text": [
      "rois {1} not included out of all rois {1, 2} for type 3\n",
      "rois {1} not included out of all rois {1, 2} for type 6\n"
     ]
    },
    {
     "name": "stderr",
     "output_type": "stream",
     "text": [
      "Pickle File Processed:  89%|\u001B[31m████████▉ \u001B[0m| 191/214 [24:36<02:33,  6.68s/it]"
     ]
    },
    {
     "name": "stdout",
     "output_type": "stream",
     "text": [
      "saving excel\n",
      "converting pkl to df:\n"
     ]
    },
    {
     "name": "stderr",
     "output_type": "stream",
     "text": [
      "C:\\Users\\Kevin\\AppData\\Local\\Temp\\ipykernel_12976\\3288184646.py:84: FutureWarning: The default value of numeric_only in DataFrameGroupBy.mean is deprecated. In a future version, numeric_only will default to False. Either specify numeric_only or select only columns which should be valid for the function.\n",
      "  avg_type_df = type_df.groupby(roi_col).mean()\n",
      "C:\\Users\\Kevin\\AppData\\Local\\Temp\\ipykernel_12976\\3288184646.py:85: FutureWarning: The default value of numeric_only in DataFrameGroupBy.std is deprecated. In a future version, numeric_only will default to False. Either specify numeric_only or select only columns which should be valid for the function.\n",
      "  std_type_df = type_df.groupby(roi_col).std()\n",
      "C:\\Users\\Kevin\\AppData\\Local\\Temp\\ipykernel_12976\\3288184646.py:84: FutureWarning: The default value of numeric_only in DataFrameGroupBy.mean is deprecated. In a future version, numeric_only will default to False. Either specify numeric_only or select only columns which should be valid for the function.\n",
      "  avg_type_df = type_df.groupby(roi_col).mean()\n",
      "C:\\Users\\Kevin\\AppData\\Local\\Temp\\ipykernel_12976\\3288184646.py:85: FutureWarning: The default value of numeric_only in DataFrameGroupBy.std is deprecated. In a future version, numeric_only will default to False. Either specify numeric_only or select only columns which should be valid for the function.\n",
      "  std_type_df = type_df.groupby(roi_col).std()\n"
     ]
    },
    {
     "name": "stdout",
     "output_type": "stream",
     "text": [
      "rois {1} not included out of all rois {1, 2} for type 3\n",
      "rois {1, 2} not included out of all rois {1, 2} for type 6\n",
      "rois {2} not included out of all rois {1, 2} for type 11\n",
      "saving excel\n"
     ]
    },
    {
     "name": "stderr",
     "output_type": "stream",
     "text": [
      "Pickle File Processed:  90%|\u001B[31m████████▉ \u001B[0m| 192/214 [24:37<01:52,  5.13s/it]"
     ]
    },
    {
     "name": "stdout",
     "output_type": "stream",
     "text": [
      "converting pkl to df:\n"
     ]
    },
    {
     "name": "stderr",
     "output_type": "stream",
     "text": [
      "C:\\Users\\Kevin\\AppData\\Local\\Temp\\ipykernel_12976\\3288184646.py:84: FutureWarning: The default value of numeric_only in DataFrameGroupBy.mean is deprecated. In a future version, numeric_only will default to False. Either specify numeric_only or select only columns which should be valid for the function.\n",
      "  avg_type_df = type_df.groupby(roi_col).mean()\n",
      "C:\\Users\\Kevin\\AppData\\Local\\Temp\\ipykernel_12976\\3288184646.py:85: FutureWarning: The default value of numeric_only in DataFrameGroupBy.std is deprecated. In a future version, numeric_only will default to False. Either specify numeric_only or select only columns which should be valid for the function.\n",
      "  std_type_df = type_df.groupby(roi_col).std()\n",
      "Pickle File Processed:  90%|\u001B[31m█████████ \u001B[0m| 193/214 [24:43<01:48,  5.16s/it]"
     ]
    },
    {
     "name": "stdout",
     "output_type": "stream",
     "text": [
      "saving excel\n",
      "converting pkl to df:\n"
     ]
    },
    {
     "name": "stderr",
     "output_type": "stream",
     "text": [
      "C:\\Users\\Kevin\\AppData\\Local\\Temp\\ipykernel_12976\\3288184646.py:84: FutureWarning: The default value of numeric_only in DataFrameGroupBy.mean is deprecated. In a future version, numeric_only will default to False. Either specify numeric_only or select only columns which should be valid for the function.\n",
      "  avg_type_df = type_df.groupby(roi_col).mean()\n",
      "C:\\Users\\Kevin\\AppData\\Local\\Temp\\ipykernel_12976\\3288184646.py:85: FutureWarning: The default value of numeric_only in DataFrameGroupBy.std is deprecated. In a future version, numeric_only will default to False. Either specify numeric_only or select only columns which should be valid for the function.\n",
      "  std_type_df = type_df.groupby(roi_col).std()\n",
      "Pickle File Processed:  91%|\u001B[31m█████████ \u001B[0m| 194/214 [24:44<01:19,  3.99s/it]"
     ]
    },
    {
     "name": "stdout",
     "output_type": "stream",
     "text": [
      "saving excel\n",
      "converting pkl to df:\n"
     ]
    },
    {
     "name": "stderr",
     "output_type": "stream",
     "text": [
      "C:\\Users\\Kevin\\AppData\\Local\\Temp\\ipykernel_12976\\3288184646.py:84: FutureWarning: The default value of numeric_only in DataFrameGroupBy.mean is deprecated. In a future version, numeric_only will default to False. Either specify numeric_only or select only columns which should be valid for the function.\n",
      "  avg_type_df = type_df.groupby(roi_col).mean()\n",
      "C:\\Users\\Kevin\\AppData\\Local\\Temp\\ipykernel_12976\\3288184646.py:85: FutureWarning: The default value of numeric_only in DataFrameGroupBy.std is deprecated. In a future version, numeric_only will default to False. Either specify numeric_only or select only columns which should be valid for the function.\n",
      "  std_type_df = type_df.groupby(roi_col).std()\n",
      "Pickle File Processed:  91%|\u001B[31m█████████ \u001B[0m| 195/214 [24:45<00:59,  3.13s/it]"
     ]
    },
    {
     "name": "stdout",
     "output_type": "stream",
     "text": [
      "saving excel\n",
      "converting pkl to df:\n"
     ]
    },
    {
     "name": "stderr",
     "output_type": "stream",
     "text": [
      "C:\\Users\\Kevin\\AppData\\Local\\Temp\\ipykernel_12976\\3288184646.py:84: FutureWarning: The default value of numeric_only in DataFrameGroupBy.mean is deprecated. In a future version, numeric_only will default to False. Either specify numeric_only or select only columns which should be valid for the function.\n",
      "  avg_type_df = type_df.groupby(roi_col).mean()\n",
      "C:\\Users\\Kevin\\AppData\\Local\\Temp\\ipykernel_12976\\3288184646.py:85: FutureWarning: The default value of numeric_only in DataFrameGroupBy.std is deprecated. In a future version, numeric_only will default to False. Either specify numeric_only or select only columns which should be valid for the function.\n",
      "  std_type_df = type_df.groupby(roi_col).std()\n",
      "C:\\Users\\Kevin\\AppData\\Local\\Temp\\ipykernel_12976\\3288184646.py:84: FutureWarning: The default value of numeric_only in DataFrameGroupBy.mean is deprecated. In a future version, numeric_only will default to False. Either specify numeric_only or select only columns which should be valid for the function.\n",
      "  avg_type_df = type_df.groupby(roi_col).mean()\n",
      "C:\\Users\\Kevin\\AppData\\Local\\Temp\\ipykernel_12976\\3288184646.py:85: FutureWarning: The default value of numeric_only in DataFrameGroupBy.std is deprecated. In a future version, numeric_only will default to False. Either specify numeric_only or select only columns which should be valid for the function.\n",
      "  std_type_df = type_df.groupby(roi_col).std()\n"
     ]
    },
    {
     "name": "stdout",
     "output_type": "stream",
     "text": [
      "rois {1} not included out of all rois {1} for type 3\n",
      "rois {1} not included out of all rois {1} for type 11\n"
     ]
    },
    {
     "name": "stderr",
     "output_type": "stream",
     "text": [
      "C:\\Users\\Kevin\\AppData\\Local\\Temp\\ipykernel_12976\\3288184646.py:84: FutureWarning: The default value of numeric_only in DataFrameGroupBy.mean is deprecated. In a future version, numeric_only will default to False. Either specify numeric_only or select only columns which should be valid for the function.\n",
      "  avg_type_df = type_df.groupby(roi_col).mean()\n",
      "C:\\Users\\Kevin\\AppData\\Local\\Temp\\ipykernel_12976\\3288184646.py:85: FutureWarning: The default value of numeric_only in DataFrameGroupBy.std is deprecated. In a future version, numeric_only will default to False. Either specify numeric_only or select only columns which should be valid for the function.\n",
      "  std_type_df = type_df.groupby(roi_col).std()\n",
      "Pickle File Processed:  92%|\u001B[31m█████████▏\u001B[0m| 196/214 [24:46<00:46,  2.58s/it]"
     ]
    },
    {
     "name": "stdout",
     "output_type": "stream",
     "text": [
      "saving excel\n",
      "converting pkl to df:\n"
     ]
    },
    {
     "name": "stderr",
     "output_type": "stream",
     "text": [
      "C:\\Users\\Kevin\\AppData\\Local\\Temp\\ipykernel_12976\\3288184646.py:84: FutureWarning: The default value of numeric_only in DataFrameGroupBy.mean is deprecated. In a future version, numeric_only will default to False. Either specify numeric_only or select only columns which should be valid for the function.\n",
      "  avg_type_df = type_df.groupby(roi_col).mean()\n",
      "C:\\Users\\Kevin\\AppData\\Local\\Temp\\ipykernel_12976\\3288184646.py:85: FutureWarning: The default value of numeric_only in DataFrameGroupBy.std is deprecated. In a future version, numeric_only will default to False. Either specify numeric_only or select only columns which should be valid for the function.\n",
      "  std_type_df = type_df.groupby(roi_col).std()\n",
      "Pickle File Processed:  92%|\u001B[31m█████████▏\u001B[0m| 197/214 [24:53<01:05,  3.85s/it]"
     ]
    },
    {
     "name": "stdout",
     "output_type": "stream",
     "text": [
      "saving excel\n"
     ]
    },
    {
     "name": "stderr",
     "output_type": "stream",
     "text": [
      "C:\\Users\\Kevin\\AppData\\Local\\Temp\\ipykernel_12976\\3288184646.py:84: FutureWarning: The default value of numeric_only in DataFrameGroupBy.mean is deprecated. In a future version, numeric_only will default to False. Either specify numeric_only or select only columns which should be valid for the function.\n",
      "  avg_type_df = type_df.groupby(roi_col).mean()\n",
      "C:\\Users\\Kevin\\AppData\\Local\\Temp\\ipykernel_12976\\3288184646.py:85: FutureWarning: The default value of numeric_only in DataFrameGroupBy.std is deprecated. In a future version, numeric_only will default to False. Either specify numeric_only or select only columns which should be valid for the function.\n",
      "  std_type_df = type_df.groupby(roi_col).std()\n",
      "C:\\Users\\Kevin\\AppData\\Local\\Temp\\ipykernel_12976\\3288184646.py:84: FutureWarning: The default value of numeric_only in DataFrameGroupBy.mean is deprecated. In a future version, numeric_only will default to False. Either specify numeric_only or select only columns which should be valid for the function.\n",
      "  avg_type_df = type_df.groupby(roi_col).mean()\n",
      "C:\\Users\\Kevin\\AppData\\Local\\Temp\\ipykernel_12976\\3288184646.py:85: FutureWarning: The default value of numeric_only in DataFrameGroupBy.std is deprecated. In a future version, numeric_only will default to False. Either specify numeric_only or select only columns which should be valid for the function.\n",
      "  std_type_df = type_df.groupby(roi_col).std()\n",
      "C:\\Users\\Kevin\\AppData\\Local\\Temp\\ipykernel_12976\\3288184646.py:84: FutureWarning: The default value of numeric_only in DataFrameGroupBy.mean is deprecated. In a future version, numeric_only will default to False. Either specify numeric_only or select only columns which should be valid for the function.\n",
      "  avg_type_df = type_df.groupby(roi_col).mean()\n",
      "C:\\Users\\Kevin\\AppData\\Local\\Temp\\ipykernel_12976\\3288184646.py:85: FutureWarning: The default value of numeric_only in DataFrameGroupBy.std is deprecated. In a future version, numeric_only will default to False. Either specify numeric_only or select only columns which should be valid for the function.\n",
      "  std_type_df = type_df.groupby(roi_col).std()\n",
      "C:\\Users\\Kevin\\AppData\\Local\\Temp\\ipykernel_12976\\3288184646.py:84: FutureWarning: The default value of numeric_only in DataFrameGroupBy.mean is deprecated. In a future version, numeric_only will default to False. Either specify numeric_only or select only columns which should be valid for the function.\n",
      "  avg_type_df = type_df.groupby(roi_col).mean()\n",
      "C:\\Users\\Kevin\\AppData\\Local\\Temp\\ipykernel_12976\\3288184646.py:85: FutureWarning: The default value of numeric_only in DataFrameGroupBy.std is deprecated. In a future version, numeric_only will default to False. Either specify numeric_only or select only columns which should be valid for the function.\n",
      "  std_type_df = type_df.groupby(roi_col).std()\n",
      "C:\\Users\\Kevin\\AppData\\Local\\Temp\\ipykernel_12976\\3288184646.py:84: FutureWarning: The default value of numeric_only in DataFrameGroupBy.mean is deprecated. In a future version, numeric_only will default to False. Either specify numeric_only or select only columns which should be valid for the function.\n",
      "  avg_type_df = type_df.groupby(roi_col).mean()\n",
      "C:\\Users\\Kevin\\AppData\\Local\\Temp\\ipykernel_12976\\3288184646.py:85: FutureWarning: The default value of numeric_only in DataFrameGroupBy.std is deprecated. In a future version, numeric_only will default to False. Either specify numeric_only or select only columns which should be valid for the function.\n",
      "  std_type_df = type_df.groupby(roi_col).std()\n"
     ]
    },
    {
     "name": "stdout",
     "output_type": "stream",
     "text": [
      "converting pkl to df:\n",
      "rois {1} not included out of all rois {1} for type 3\n",
      "rois {1} not included out of all rois {1} for type 4\n",
      "rois {1} not included out of all rois {1} for type 5\n",
      "rois {1} not included out of all rois {1} for type 7\n"
     ]
    },
    {
     "name": "stderr",
     "output_type": "stream",
     "text": [
      "C:\\Users\\Kevin\\AppData\\Local\\Temp\\ipykernel_12976\\3288184646.py:84: FutureWarning: The default value of numeric_only in DataFrameGroupBy.mean is deprecated. In a future version, numeric_only will default to False. Either specify numeric_only or select only columns which should be valid for the function.\n",
      "  avg_type_df = type_df.groupby(roi_col).mean()\n",
      "C:\\Users\\Kevin\\AppData\\Local\\Temp\\ipykernel_12976\\3288184646.py:85: FutureWarning: The default value of numeric_only in DataFrameGroupBy.std is deprecated. In a future version, numeric_only will default to False. Either specify numeric_only or select only columns which should be valid for the function.\n",
      "  std_type_df = type_df.groupby(roi_col).std()\n",
      "Pickle File Processed:  93%|\u001B[31m█████████▎\u001B[0m| 198/214 [24:54<00:44,  2.81s/it]"
     ]
    },
    {
     "name": "stdout",
     "output_type": "stream",
     "text": [
      "rois {1} not included out of all rois {1} for type 11\n",
      "saving excel\n",
      "converting pkl to df:\n"
     ]
    },
    {
     "name": "stderr",
     "output_type": "stream",
     "text": [
      "C:\\Users\\Kevin\\AppData\\Local\\Temp\\ipykernel_12976\\3288184646.py:84: FutureWarning: The default value of numeric_only in DataFrameGroupBy.mean is deprecated. In a future version, numeric_only will default to False. Either specify numeric_only or select only columns which should be valid for the function.\n",
      "  avg_type_df = type_df.groupby(roi_col).mean()\n",
      "C:\\Users\\Kevin\\AppData\\Local\\Temp\\ipykernel_12976\\3288184646.py:85: FutureWarning: The default value of numeric_only in DataFrameGroupBy.std is deprecated. In a future version, numeric_only will default to False. Either specify numeric_only or select only columns which should be valid for the function.\n",
      "  std_type_df = type_df.groupby(roi_col).std()\n",
      "C:\\Users\\Kevin\\AppData\\Local\\Temp\\ipykernel_12976\\3288184646.py:84: FutureWarning: The default value of numeric_only in DataFrameGroupBy.mean is deprecated. In a future version, numeric_only will default to False. Either specify numeric_only or select only columns which should be valid for the function.\n",
      "  avg_type_df = type_df.groupby(roi_col).mean()\n",
      "C:\\Users\\Kevin\\AppData\\Local\\Temp\\ipykernel_12976\\3288184646.py:85: FutureWarning: The default value of numeric_only in DataFrameGroupBy.std is deprecated. In a future version, numeric_only will default to False. Either specify numeric_only or select only columns which should be valid for the function.\n",
      "  std_type_df = type_df.groupby(roi_col).std()\n"
     ]
    },
    {
     "name": "stdout",
     "output_type": "stream",
     "text": [
      "rois {1} not included out of all rois {1} for type 3\n",
      "rois {1} not included out of all rois {1} for type 11\n",
      "saving excel\n"
     ]
    },
    {
     "name": "stderr",
     "output_type": "stream",
     "text": [
      "C:\\Users\\Kevin\\AppData\\Local\\Temp\\ipykernel_12976\\3288184646.py:84: FutureWarning: The default value of numeric_only in DataFrameGroupBy.mean is deprecated. In a future version, numeric_only will default to False. Either specify numeric_only or select only columns which should be valid for the function.\n",
      "  avg_type_df = type_df.groupby(roi_col).mean()\n",
      "C:\\Users\\Kevin\\AppData\\Local\\Temp\\ipykernel_12976\\3288184646.py:85: FutureWarning: The default value of numeric_only in DataFrameGroupBy.std is deprecated. In a future version, numeric_only will default to False. Either specify numeric_only or select only columns which should be valid for the function.\n",
      "  std_type_df = type_df.groupby(roi_col).std()\n",
      "Pickle File Processed:  93%|\u001B[31m█████████▎\u001B[0m| 199/214 [24:55<00:36,  2.43s/it]"
     ]
    },
    {
     "name": "stdout",
     "output_type": "stream",
     "text": [
      "converting pkl to df:\n"
     ]
    },
    {
     "name": "stderr",
     "output_type": "stream",
     "text": [
      "C:\\Users\\Kevin\\AppData\\Local\\Temp\\ipykernel_12976\\3288184646.py:84: FutureWarning: The default value of numeric_only in DataFrameGroupBy.mean is deprecated. In a future version, numeric_only will default to False. Either specify numeric_only or select only columns which should be valid for the function.\n",
      "  avg_type_df = type_df.groupby(roi_col).mean()\n",
      "C:\\Users\\Kevin\\AppData\\Local\\Temp\\ipykernel_12976\\3288184646.py:85: FutureWarning: The default value of numeric_only in DataFrameGroupBy.std is deprecated. In a future version, numeric_only will default to False. Either specify numeric_only or select only columns which should be valid for the function.\n",
      "  std_type_df = type_df.groupby(roi_col).std()\n"
     ]
    },
    {
     "name": "stdout",
     "output_type": "stream",
     "text": [
      "rois {1} not included out of all rois {1} for type 11\n",
      "saving excel\n"
     ]
    },
    {
     "name": "stderr",
     "output_type": "stream",
     "text": [
      "C:\\Users\\Kevin\\AppData\\Local\\Temp\\ipykernel_12976\\3288184646.py:84: FutureWarning: The default value of numeric_only in DataFrameGroupBy.mean is deprecated. In a future version, numeric_only will default to False. Either specify numeric_only or select only columns which should be valid for the function.\n",
      "  avg_type_df = type_df.groupby(roi_col).mean()\n",
      "C:\\Users\\Kevin\\AppData\\Local\\Temp\\ipykernel_12976\\3288184646.py:85: FutureWarning: The default value of numeric_only in DataFrameGroupBy.std is deprecated. In a future version, numeric_only will default to False. Either specify numeric_only or select only columns which should be valid for the function.\n",
      "  std_type_df = type_df.groupby(roi_col).std()\n",
      "Pickle File Processed:  93%|\u001B[31m█████████▎\u001B[0m| 200/214 [24:58<00:34,  2.45s/it]"
     ]
    },
    {
     "name": "stdout",
     "output_type": "stream",
     "text": [
      "converting pkl to df:\n"
     ]
    },
    {
     "name": "stderr",
     "output_type": "stream",
     "text": [
      "C:\\Users\\Kevin\\AppData\\Local\\Temp\\ipykernel_12976\\3288184646.py:84: FutureWarning: The default value of numeric_only in DataFrameGroupBy.mean is deprecated. In a future version, numeric_only will default to False. Either specify numeric_only or select only columns which should be valid for the function.\n",
      "  avg_type_df = type_df.groupby(roi_col).mean()\n",
      "C:\\Users\\Kevin\\AppData\\Local\\Temp\\ipykernel_12976\\3288184646.py:85: FutureWarning: The default value of numeric_only in DataFrameGroupBy.std is deprecated. In a future version, numeric_only will default to False. Either specify numeric_only or select only columns which should be valid for the function.\n",
      "  std_type_df = type_df.groupby(roi_col).std()\n",
      "Pickle File Processed:  94%|\u001B[31m█████████▍\u001B[0m| 201/214 [25:01<00:35,  2.72s/it]"
     ]
    },
    {
     "name": "stdout",
     "output_type": "stream",
     "text": [
      "saving excel\n",
      "converting pkl to df:\n"
     ]
    },
    {
     "name": "stderr",
     "output_type": "stream",
     "text": [
      "C:\\Users\\Kevin\\AppData\\Local\\Temp\\ipykernel_12976\\3288184646.py:84: FutureWarning: The default value of numeric_only in DataFrameGroupBy.mean is deprecated. In a future version, numeric_only will default to False. Either specify numeric_only or select only columns which should be valid for the function.\n",
      "  avg_type_df = type_df.groupby(roi_col).mean()\n",
      "C:\\Users\\Kevin\\AppData\\Local\\Temp\\ipykernel_12976\\3288184646.py:85: FutureWarning: The default value of numeric_only in DataFrameGroupBy.std is deprecated. In a future version, numeric_only will default to False. Either specify numeric_only or select only columns which should be valid for the function.\n",
      "  std_type_df = type_df.groupby(roi_col).std()\n",
      "C:\\Users\\Kevin\\AppData\\Local\\Temp\\ipykernel_12976\\3288184646.py:84: FutureWarning: The default value of numeric_only in DataFrameGroupBy.mean is deprecated. In a future version, numeric_only will default to False. Either specify numeric_only or select only columns which should be valid for the function.\n",
      "  avg_type_df = type_df.groupby(roi_col).mean()\n",
      "C:\\Users\\Kevin\\AppData\\Local\\Temp\\ipykernel_12976\\3288184646.py:85: FutureWarning: The default value of numeric_only in DataFrameGroupBy.std is deprecated. In a future version, numeric_only will default to False. Either specify numeric_only or select only columns which should be valid for the function.\n",
      "  std_type_df = type_df.groupby(roi_col).std()\n",
      "C:\\Users\\Kevin\\AppData\\Local\\Temp\\ipykernel_12976\\3288184646.py:84: FutureWarning: The default value of numeric_only in DataFrameGroupBy.mean is deprecated. In a future version, numeric_only will default to False. Either specify numeric_only or select only columns which should be valid for the function.\n",
      "  avg_type_df = type_df.groupby(roi_col).mean()\n",
      "C:\\Users\\Kevin\\AppData\\Local\\Temp\\ipykernel_12976\\3288184646.py:85: FutureWarning: The default value of numeric_only in DataFrameGroupBy.std is deprecated. In a future version, numeric_only will default to False. Either specify numeric_only or select only columns which should be valid for the function.\n",
      "  std_type_df = type_df.groupby(roi_col).std()\n"
     ]
    },
    {
     "name": "stdout",
     "output_type": "stream",
     "text": [
      "rois {1, 2} not included out of all rois {1, 2} for type 3\n",
      "rois {1, 2} not included out of all rois {1, 2} for type 4\n",
      "rois {1, 2} not included out of all rois {1, 2} for type 11\n"
     ]
    },
    {
     "name": "stderr",
     "output_type": "stream",
     "text": [
      "C:\\Users\\Kevin\\AppData\\Local\\Temp\\ipykernel_12976\\3288184646.py:84: FutureWarning: The default value of numeric_only in DataFrameGroupBy.mean is deprecated. In a future version, numeric_only will default to False. Either specify numeric_only or select only columns which should be valid for the function.\n",
      "  avg_type_df = type_df.groupby(roi_col).mean()\n",
      "C:\\Users\\Kevin\\AppData\\Local\\Temp\\ipykernel_12976\\3288184646.py:85: FutureWarning: The default value of numeric_only in DataFrameGroupBy.std is deprecated. In a future version, numeric_only will default to False. Either specify numeric_only or select only columns which should be valid for the function.\n",
      "  std_type_df = type_df.groupby(roi_col).std()\n",
      "Pickle File Processed:  94%|\u001B[31m█████████▍\u001B[0m| 202/214 [25:03<00:29,  2.47s/it]"
     ]
    },
    {
     "name": "stdout",
     "output_type": "stream",
     "text": [
      "saving excel\n",
      "converting pkl to df:\n"
     ]
    },
    {
     "name": "stderr",
     "output_type": "stream",
     "text": [
      "C:\\Users\\Kevin\\AppData\\Local\\Temp\\ipykernel_12976\\3288184646.py:84: FutureWarning: The default value of numeric_only in DataFrameGroupBy.mean is deprecated. In a future version, numeric_only will default to False. Either specify numeric_only or select only columns which should be valid for the function.\n",
      "  avg_type_df = type_df.groupby(roi_col).mean()\n",
      "C:\\Users\\Kevin\\AppData\\Local\\Temp\\ipykernel_12976\\3288184646.py:85: FutureWarning: The default value of numeric_only in DataFrameGroupBy.std is deprecated. In a future version, numeric_only will default to False. Either specify numeric_only or select only columns which should be valid for the function.\n",
      "  std_type_df = type_df.groupby(roi_col).std()\n",
      "C:\\Users\\Kevin\\AppData\\Local\\Temp\\ipykernel_12976\\3288184646.py:84: FutureWarning: The default value of numeric_only in DataFrameGroupBy.mean is deprecated. In a future version, numeric_only will default to False. Either specify numeric_only or select only columns which should be valid for the function.\n",
      "  avg_type_df = type_df.groupby(roi_col).mean()\n",
      "C:\\Users\\Kevin\\AppData\\Local\\Temp\\ipykernel_12976\\3288184646.py:85: FutureWarning: The default value of numeric_only in DataFrameGroupBy.std is deprecated. In a future version, numeric_only will default to False. Either specify numeric_only or select only columns which should be valid for the function.\n",
      "  std_type_df = type_df.groupby(roi_col).std()\n",
      "C:\\Users\\Kevin\\AppData\\Local\\Temp\\ipykernel_12976\\3288184646.py:84: FutureWarning: The default value of numeric_only in DataFrameGroupBy.mean is deprecated. In a future version, numeric_only will default to False. Either specify numeric_only or select only columns which should be valid for the function.\n",
      "  avg_type_df = type_df.groupby(roi_col).mean()\n",
      "C:\\Users\\Kevin\\AppData\\Local\\Temp\\ipykernel_12976\\3288184646.py:85: FutureWarning: The default value of numeric_only in DataFrameGroupBy.std is deprecated. In a future version, numeric_only will default to False. Either specify numeric_only or select only columns which should be valid for the function.\n",
      "  std_type_df = type_df.groupby(roi_col).std()\n",
      "C:\\Users\\Kevin\\AppData\\Local\\Temp\\ipykernel_12976\\3288184646.py:84: FutureWarning: The default value of numeric_only in DataFrameGroupBy.mean is deprecated. In a future version, numeric_only will default to False. Either specify numeric_only or select only columns which should be valid for the function.\n",
      "  avg_type_df = type_df.groupby(roi_col).mean()\n",
      "C:\\Users\\Kevin\\AppData\\Local\\Temp\\ipykernel_12976\\3288184646.py:85: FutureWarning: The default value of numeric_only in DataFrameGroupBy.std is deprecated. In a future version, numeric_only will default to False. Either specify numeric_only or select only columns which should be valid for the function.\n",
      "  std_type_df = type_df.groupby(roi_col).std()\n"
     ]
    },
    {
     "name": "stdout",
     "output_type": "stream",
     "text": [
      "rois {1} not included out of all rois {1} for type 3\n",
      "rois {1} not included out of all rois {1} for type 4\n",
      "rois {1} not included out of all rois {1} for type 6\n"
     ]
    },
    {
     "name": "stderr",
     "output_type": "stream",
     "text": [
      "Pickle File Processed:  95%|\u001B[31m█████████▍\u001B[0m| 203/214 [25:04<00:24,  2.20s/it]"
     ]
    },
    {
     "name": "stdout",
     "output_type": "stream",
     "text": [
      "saving excel\n",
      "converting pkl to df:\n"
     ]
    },
    {
     "name": "stderr",
     "output_type": "stream",
     "text": [
      "C:\\Users\\Kevin\\AppData\\Local\\Temp\\ipykernel_12976\\3288184646.py:84: FutureWarning: The default value of numeric_only in DataFrameGroupBy.mean is deprecated. In a future version, numeric_only will default to False. Either specify numeric_only or select only columns which should be valid for the function.\n",
      "  avg_type_df = type_df.groupby(roi_col).mean()\n",
      "C:\\Users\\Kevin\\AppData\\Local\\Temp\\ipykernel_12976\\3288184646.py:85: FutureWarning: The default value of numeric_only in DataFrameGroupBy.std is deprecated. In a future version, numeric_only will default to False. Either specify numeric_only or select only columns which should be valid for the function.\n",
      "  std_type_df = type_df.groupby(roi_col).std()\n",
      "C:\\Users\\Kevin\\AppData\\Local\\Temp\\ipykernel_12976\\3288184646.py:84: FutureWarning: The default value of numeric_only in DataFrameGroupBy.mean is deprecated. In a future version, numeric_only will default to False. Either specify numeric_only or select only columns which should be valid for the function.\n",
      "  avg_type_df = type_df.groupby(roi_col).mean()\n",
      "C:\\Users\\Kevin\\AppData\\Local\\Temp\\ipykernel_12976\\3288184646.py:85: FutureWarning: The default value of numeric_only in DataFrameGroupBy.std is deprecated. In a future version, numeric_only will default to False. Either specify numeric_only or select only columns which should be valid for the function.\n",
      "  std_type_df = type_df.groupby(roi_col).std()\n"
     ]
    },
    {
     "name": "stdout",
     "output_type": "stream",
     "text": [
      "rois {1, 2, 3} not included out of all rois {1, 2, 3} for type 3\n",
      "rois {1, 3} not included out of all rois {1, 2, 3} for type 4\n",
      "rois {3} not included out of all rois {1, 2, 3} for type 6\n",
      "rois {3} not included out of all rois {1, 2, 3} for type 7\n",
      "rois {1, 2, 3} not included out of all rois {1, 2, 3} for type 11\n"
     ]
    },
    {
     "name": "stderr",
     "output_type": "stream",
     "text": [
      "C:\\Users\\Kevin\\AppData\\Local\\Temp\\ipykernel_12976\\3288184646.py:84: FutureWarning: The default value of numeric_only in DataFrameGroupBy.mean is deprecated. In a future version, numeric_only will default to False. Either specify numeric_only or select only columns which should be valid for the function.\n",
      "  avg_type_df = type_df.groupby(roi_col).mean()\n",
      "C:\\Users\\Kevin\\AppData\\Local\\Temp\\ipykernel_12976\\3288184646.py:85: FutureWarning: The default value of numeric_only in DataFrameGroupBy.std is deprecated. In a future version, numeric_only will default to False. Either specify numeric_only or select only columns which should be valid for the function.\n",
      "  std_type_df = type_df.groupby(roi_col).std()\n",
      "Pickle File Processed:  95%|\u001B[31m█████████▌\u001B[0m| 204/214 [25:09<00:28,  2.84s/it]"
     ]
    },
    {
     "name": "stdout",
     "output_type": "stream",
     "text": [
      "saving excel\n",
      "converting pkl to df:\n"
     ]
    },
    {
     "name": "stderr",
     "output_type": "stream",
     "text": [
      "C:\\Users\\Kevin\\AppData\\Local\\Temp\\ipykernel_12976\\3288184646.py:84: FutureWarning: The default value of numeric_only in DataFrameGroupBy.mean is deprecated. In a future version, numeric_only will default to False. Either specify numeric_only or select only columns which should be valid for the function.\n",
      "  avg_type_df = type_df.groupby(roi_col).mean()\n",
      "C:\\Users\\Kevin\\AppData\\Local\\Temp\\ipykernel_12976\\3288184646.py:85: FutureWarning: The default value of numeric_only in DataFrameGroupBy.std is deprecated. In a future version, numeric_only will default to False. Either specify numeric_only or select only columns which should be valid for the function.\n",
      "  std_type_df = type_df.groupby(roi_col).std()\n",
      "Pickle File Processed:  96%|\u001B[31m█████████▌\u001B[0m| 205/214 [25:11<00:24,  2.73s/it]"
     ]
    },
    {
     "name": "stdout",
     "output_type": "stream",
     "text": [
      "saving excel\n",
      "converting pkl to df:\n"
     ]
    },
    {
     "name": "stderr",
     "output_type": "stream",
     "text": [
      "C:\\Users\\Kevin\\AppData\\Local\\Temp\\ipykernel_12976\\3288184646.py:84: FutureWarning: The default value of numeric_only in DataFrameGroupBy.mean is deprecated. In a future version, numeric_only will default to False. Either specify numeric_only or select only columns which should be valid for the function.\n",
      "  avg_type_df = type_df.groupby(roi_col).mean()\n",
      "C:\\Users\\Kevin\\AppData\\Local\\Temp\\ipykernel_12976\\3288184646.py:85: FutureWarning: The default value of numeric_only in DataFrameGroupBy.std is deprecated. In a future version, numeric_only will default to False. Either specify numeric_only or select only columns which should be valid for the function.\n",
      "  std_type_df = type_df.groupby(roi_col).std()\n",
      "Pickle File Processed:  96%|\u001B[31m█████████▋\u001B[0m| 206/214 [25:19<00:34,  4.33s/it]"
     ]
    },
    {
     "name": "stdout",
     "output_type": "stream",
     "text": [
      "saving excel\n",
      "converting pkl to df:\n"
     ]
    },
    {
     "name": "stderr",
     "output_type": "stream",
     "text": [
      "C:\\Users\\Kevin\\AppData\\Local\\Temp\\ipykernel_12976\\3288184646.py:84: FutureWarning: The default value of numeric_only in DataFrameGroupBy.mean is deprecated. In a future version, numeric_only will default to False. Either specify numeric_only or select only columns which should be valid for the function.\n",
      "  avg_type_df = type_df.groupby(roi_col).mean()\n",
      "C:\\Users\\Kevin\\AppData\\Local\\Temp\\ipykernel_12976\\3288184646.py:85: FutureWarning: The default value of numeric_only in DataFrameGroupBy.std is deprecated. In a future version, numeric_only will default to False. Either specify numeric_only or select only columns which should be valid for the function.\n",
      "  std_type_df = type_df.groupby(roi_col).std()\n",
      "Pickle File Processed:  97%|\u001B[31m█████████▋\u001B[0m| 207/214 [25:27<00:38,  5.48s/it]"
     ]
    },
    {
     "name": "stdout",
     "output_type": "stream",
     "text": [
      "saving excel\n",
      "converting pkl to df:\n"
     ]
    },
    {
     "name": "stderr",
     "output_type": "stream",
     "text": [
      "C:\\Users\\Kevin\\AppData\\Local\\Temp\\ipykernel_12976\\3288184646.py:84: FutureWarning: The default value of numeric_only in DataFrameGroupBy.mean is deprecated. In a future version, numeric_only will default to False. Either specify numeric_only or select only columns which should be valid for the function.\n",
      "  avg_type_df = type_df.groupby(roi_col).mean()\n",
      "C:\\Users\\Kevin\\AppData\\Local\\Temp\\ipykernel_12976\\3288184646.py:85: FutureWarning: The default value of numeric_only in DataFrameGroupBy.std is deprecated. In a future version, numeric_only will default to False. Either specify numeric_only or select only columns which should be valid for the function.\n",
      "  std_type_df = type_df.groupby(roi_col).std()\n"
     ]
    },
    {
     "name": "stdout",
     "output_type": "stream",
     "text": [
      "rois {1} not included out of all rois {1, 2} for type 5\n",
      "rois {1} not included out of all rois {1, 2} for type 11\n"
     ]
    },
    {
     "name": "stderr",
     "output_type": "stream",
     "text": [
      "Pickle File Processed:  97%|\u001B[31m█████████▋\u001B[0m| 208/214 [25:31<00:29,  4.88s/it]"
     ]
    },
    {
     "name": "stdout",
     "output_type": "stream",
     "text": [
      "saving excel\n",
      "converting pkl to df:\n"
     ]
    },
    {
     "name": "stderr",
     "output_type": "stream",
     "text": [
      "C:\\Users\\Kevin\\AppData\\Local\\Temp\\ipykernel_12976\\3288184646.py:84: FutureWarning: The default value of numeric_only in DataFrameGroupBy.mean is deprecated. In a future version, numeric_only will default to False. Either specify numeric_only or select only columns which should be valid for the function.\n",
      "  avg_type_df = type_df.groupby(roi_col).mean()\n",
      "C:\\Users\\Kevin\\AppData\\Local\\Temp\\ipykernel_12976\\3288184646.py:85: FutureWarning: The default value of numeric_only in DataFrameGroupBy.std is deprecated. In a future version, numeric_only will default to False. Either specify numeric_only or select only columns which should be valid for the function.\n",
      "  std_type_df = type_df.groupby(roi_col).std()\n",
      "Pickle File Processed:  98%|\u001B[31m█████████▊\u001B[0m| 209/214 [25:38<00:27,  5.44s/it]"
     ]
    },
    {
     "name": "stdout",
     "output_type": "stream",
     "text": [
      "saving excel\n",
      "converting pkl to df:\n"
     ]
    },
    {
     "name": "stderr",
     "output_type": "stream",
     "text": [
      "C:\\Users\\Kevin\\AppData\\Local\\Temp\\ipykernel_12976\\3288184646.py:84: FutureWarning: The default value of numeric_only in DataFrameGroupBy.mean is deprecated. In a future version, numeric_only will default to False. Either specify numeric_only or select only columns which should be valid for the function.\n",
      "  avg_type_df = type_df.groupby(roi_col).mean()\n",
      "C:\\Users\\Kevin\\AppData\\Local\\Temp\\ipykernel_12976\\3288184646.py:85: FutureWarning: The default value of numeric_only in DataFrameGroupBy.std is deprecated. In a future version, numeric_only will default to False. Either specify numeric_only or select only columns which should be valid for the function.\n",
      "  std_type_df = type_df.groupby(roi_col).std()\n",
      "Pickle File Processed:  98%|\u001B[31m█████████▊\u001B[0m| 210/214 [25:57<00:38,  9.65s/it]"
     ]
    },
    {
     "name": "stdout",
     "output_type": "stream",
     "text": [
      "saving excel\n",
      "converting pkl to df:\n"
     ]
    },
    {
     "name": "stderr",
     "output_type": "stream",
     "text": [
      "C:\\Users\\Kevin\\AppData\\Local\\Temp\\ipykernel_12976\\3288184646.py:84: FutureWarning: The default value of numeric_only in DataFrameGroupBy.mean is deprecated. In a future version, numeric_only will default to False. Either specify numeric_only or select only columns which should be valid for the function.\n",
      "  avg_type_df = type_df.groupby(roi_col).mean()\n",
      "C:\\Users\\Kevin\\AppData\\Local\\Temp\\ipykernel_12976\\3288184646.py:85: FutureWarning: The default value of numeric_only in DataFrameGroupBy.std is deprecated. In a future version, numeric_only will default to False. Either specify numeric_only or select only columns which should be valid for the function.\n",
      "  std_type_df = type_df.groupby(roi_col).std()\n"
     ]
    },
    {
     "name": "stdout",
     "output_type": "stream",
     "text": [
      "rois {1} not included out of all rois {1} for type 11\n",
      "saving excel\n"
     ]
    },
    {
     "name": "stderr",
     "output_type": "stream",
     "text": [
      "C:\\Users\\Kevin\\AppData\\Local\\Temp\\ipykernel_12976\\3288184646.py:84: FutureWarning: The default value of numeric_only in DataFrameGroupBy.mean is deprecated. In a future version, numeric_only will default to False. Either specify numeric_only or select only columns which should be valid for the function.\n",
      "  avg_type_df = type_df.groupby(roi_col).mean()\n",
      "C:\\Users\\Kevin\\AppData\\Local\\Temp\\ipykernel_12976\\3288184646.py:85: FutureWarning: The default value of numeric_only in DataFrameGroupBy.std is deprecated. In a future version, numeric_only will default to False. Either specify numeric_only or select only columns which should be valid for the function.\n",
      "  std_type_df = type_df.groupby(roi_col).std()\n",
      "Pickle File Processed:  99%|\u001B[31m█████████▊\u001B[0m| 211/214 [25:59<00:21,  7.30s/it]"
     ]
    },
    {
     "name": "stdout",
     "output_type": "stream",
     "text": [
      "converting pkl to df:\n"
     ]
    },
    {
     "name": "stderr",
     "output_type": "stream",
     "text": [
      "C:\\Users\\Kevin\\AppData\\Local\\Temp\\ipykernel_12976\\3288184646.py:84: FutureWarning: The default value of numeric_only in DataFrameGroupBy.mean is deprecated. In a future version, numeric_only will default to False. Either specify numeric_only or select only columns which should be valid for the function.\n",
      "  avg_type_df = type_df.groupby(roi_col).mean()\n",
      "C:\\Users\\Kevin\\AppData\\Local\\Temp\\ipykernel_12976\\3288184646.py:85: FutureWarning: The default value of numeric_only in DataFrameGroupBy.std is deprecated. In a future version, numeric_only will default to False. Either specify numeric_only or select only columns which should be valid for the function.\n",
      "  std_type_df = type_df.groupby(roi_col).std()\n",
      "Pickle File Processed:  99%|\u001B[31m█████████▉\u001B[0m| 212/214 [26:03<00:12,  6.23s/it]"
     ]
    },
    {
     "name": "stdout",
     "output_type": "stream",
     "text": [
      "saving excel\n",
      "converting pkl to df:\n"
     ]
    },
    {
     "name": "stderr",
     "output_type": "stream",
     "text": [
      "C:\\Users\\Kevin\\AppData\\Local\\Temp\\ipykernel_12976\\3288184646.py:84: FutureWarning: The default value of numeric_only in DataFrameGroupBy.mean is deprecated. In a future version, numeric_only will default to False. Either specify numeric_only or select only columns which should be valid for the function.\n",
      "  avg_type_df = type_df.groupby(roi_col).mean()\n",
      "C:\\Users\\Kevin\\AppData\\Local\\Temp\\ipykernel_12976\\3288184646.py:85: FutureWarning: The default value of numeric_only in DataFrameGroupBy.std is deprecated. In a future version, numeric_only will default to False. Either specify numeric_only or select only columns which should be valid for the function.\n",
      "  std_type_df = type_df.groupby(roi_col).std()\n",
      "Pickle File Processed: 100%|\u001B[31m█████████▉\u001B[0m| 213/214 [26:04<00:04,  4.78s/it]"
     ]
    },
    {
     "name": "stdout",
     "output_type": "stream",
     "text": [
      "saving excel\n",
      "converting pkl to df:\n"
     ]
    },
    {
     "name": "stderr",
     "output_type": "stream",
     "text": [
      "C:\\Users\\Kevin\\AppData\\Local\\Temp\\ipykernel_12976\\3288184646.py:84: FutureWarning: The default value of numeric_only in DataFrameGroupBy.mean is deprecated. In a future version, numeric_only will default to False. Either specify numeric_only or select only columns which should be valid for the function.\n",
      "  avg_type_df = type_df.groupby(roi_col).mean()\n",
      "C:\\Users\\Kevin\\AppData\\Local\\Temp\\ipykernel_12976\\3288184646.py:85: FutureWarning: The default value of numeric_only in DataFrameGroupBy.std is deprecated. In a future version, numeric_only will default to False. Either specify numeric_only or select only columns which should be valid for the function.\n",
      "  std_type_df = type_df.groupby(roi_col).std()\n",
      "C:\\Users\\Kevin\\AppData\\Local\\Temp\\ipykernel_12976\\3288184646.py:84: FutureWarning: The default value of numeric_only in DataFrameGroupBy.mean is deprecated. In a future version, numeric_only will default to False. Either specify numeric_only or select only columns which should be valid for the function.\n",
      "  avg_type_df = type_df.groupby(roi_col).mean()\n",
      "C:\\Users\\Kevin\\AppData\\Local\\Temp\\ipykernel_12976\\3288184646.py:85: FutureWarning: The default value of numeric_only in DataFrameGroupBy.std is deprecated. In a future version, numeric_only will default to False. Either specify numeric_only or select only columns which should be valid for the function.\n",
      "  std_type_df = type_df.groupby(roi_col).std()\n"
     ]
    },
    {
     "name": "stdout",
     "output_type": "stream",
     "text": [
      "rois {1} not included out of all rois {1} for type 3\n",
      "saving excel\n"
     ]
    },
    {
     "name": "stderr",
     "output_type": "stream",
     "text": [
      "Pickle File Processed: 100%|\u001B[31m██████████\u001B[0m| 214/214 [26:14<00:00,  7.36s/it]\n"
     ]
    }
   ],
   "source": [
    "for i, pkl in tqdm(enumerate(range(len(pkl_list))),desc=\"Pickle File Processed\",colour='red',total = len(pkl_list)):\n",
    "    total_avg_df = pd.DataFrame()\n",
    "    total_std_df = pd.DataFrame()\n",
    "    imID,_ = os.path.splitext(pkl_list[i])\n",
    "    output_pth = os.path.join(output_src,imID + \".xlsx\")\n",
    "    with open(pkl_full_list[i], 'rb') as f:\n",
    "        print(\"converting pkl to df:\")\n",
    "        df = pickle.load(f)\n",
    "        df[\"Ncell\"] = 0\n",
    "        all_ncell = []\n",
    "        for kk in range(df.shape[0]):\n",
    "            contour = df[\"contour\"][kk]\n",
    "            ncell = len(contour)\n",
    "            all_ncell.append(ncell)\n",
    "        df[\"Ncell\"] = all_ncell\n",
    "\n",
    "        ecm_df = df[df.type==10]\n",
    "        ecm_df1 = ecm_df.copy()\n",
    "        ecm_df2 = ecm_df.copy()\n",
    "        ecm_df3 = ecm_df.copy()\n",
    "        # aspect ratio > 3, circularity < 0.5, size > 50um2, far from other cells = stromal fibroblast\n",
    "        ecm_df1.loc[(ecm_df1.AspectRatio>3) & (ecm_df1.Circularity<0.5) & (ecm_df1.Area>50) & (ecm_df1.dist2nearest>30),'type'] = 12 #spindle-like cell / fibroblasts\n",
    "        # #  size < 50um2, far from other cells = stromal immune\n",
    "        ecm_df2.loc[(ecm_df2.Area<1000) & (ecm_df2.dist2nearest>30),'type'] = 13 #resident immune cells\n",
    "        # # aspect ratio < 1.5?, circulartiy > 0.5, size < 50um2, close to other cells = inflammatory cells\n",
    "        ecm_df3.loc[(ecm_df3.AspectRatio<3) & (ecm_df3.Circularity>0.5) & (ecm_df3.Area<100) & (ecm_df3.dist2nearest<30),'type'] = 14\n",
    "        ecm_df1 = ecm_df1[ecm_df1.type==12]\n",
    "        ecm_df2 = ecm_df2[ecm_df2.type==13]\n",
    "        ecm_df3 = ecm_df3[ecm_df3.type==14]\n",
    "        df = pd.concat([df,ecm_df1],axis=0)\n",
    "        df = pd.concat([df,ecm_df2],axis=0)\n",
    "        df = pd.concat([df,ecm_df3],axis=0)\n",
    "\n",
    "        dfs_by_type = {}\n",
    "        for t in range(2, 15):\n",
    "            dfs_by_type[t] = df[df['type'] == t].reset_index(drop=True)\n",
    "        expanded_dfs = []\n",
    "        for tt, df_t in dfs_by_type.items():\n",
    "            new_cols = {f\"{col}_type{tt}\": df_t[col] for col in df_t.columns if col != 'type'}\n",
    "            expanded_dfs.append(pd.DataFrame(new_cols))\n",
    "\n",
    "        all_set = set(np.unique(df[\"inroi\"]))\n",
    "        # apply threshold of 12 to aspect ratio and extract distance and drop non float/int columns and calculate avg:\n",
    "        for idx in range(len(expanded_dfs)):\n",
    "            type_df = expanded_dfs[idx]\n",
    "            roi_col = 'inroi_type' + str(idx+2)\n",
    "            type_set = set(np.unique(expanded_dfs[idx][roi_col]))\n",
    "            diff = all_set - type_set\n",
    "            if len(diff) > 0:\n",
    "                print(\"rois {} not included out of all rois {} for type {}\".format(diff,all_set,idx+2))\n",
    "\n",
    "            ar_col = 'AspectRatio_type' + str(idx+2)\n",
    "            type_df[ar_col] = np.where(type_df[ar_col] > 12, np.nan, type_df[ar_col])\n",
    "\n",
    "\n",
    "            # extract distance:\n",
    "            dist_col = 'c2t_distance_type' + str(idx+2)\n",
    "            distdf = type_df[dist_col]\n",
    "            new_df_cols = [dist_col + \"_\" + str(kk) for kk in range(2,13)]\n",
    "            new_df = pd.DataFrame(columns=new_df_cols)\n",
    "            new_df = new_df.reindex(range(distdf.shape[0]))\n",
    "\n",
    "            for idx1 in range(distdf.shape[0]):\n",
    "                row = distdf[idx1]\n",
    "                if np.any(pd.isnull(row)):\n",
    "                    continue\n",
    "                for idx2, value in enumerate(row):\n",
    "                    new_df.loc[idx1,new_df_cols[idx2]] = value\n",
    "\n",
    "            type_df = pd.concat([type_df,new_df],axis=1) # concat the extracted distance to original type_df\n",
    "\n",
    "            # drop non float/int columns:\n",
    "            dropped_cols = []\n",
    "            for col2 in type_df.columns:\n",
    "                if type_df[col2].dtype not in [int, float, \"int64\",\"float64\"]:\n",
    "                    dropped_cols.append(col2)\n",
    "                    if col2 == roi_col:\n",
    "                        continue\n",
    "                    if \"c2t_distance_type\" in col2 and len(col2.split(str(idx+2))[1]):\n",
    "                        continue\n",
    "                    type_df.drop(columns=col2,inplace=True)\n",
    "            # replace inf's and nan's with nan's and take mean/std and concatenate\n",
    "            type_df = type_df.replace([np.inf, -np.inf, np.nan], np.nan)\n",
    "            avg_type_df = type_df.groupby(roi_col).mean()\n",
    "            std_type_df = type_df.groupby(roi_col).std()\n",
    "            total_avg_df = pd.concat([total_avg_df,avg_type_df],axis=1)\n",
    "            total_std_df = pd.concat([total_std_df,std_type_df],axis=1)\n",
    "            # save\n",
    "        print(\"saving excel\")\n",
    "\n",
    "    total_avg_df.to_excel(output_pth, sheet_name = 'averages', index=False)\n",
    "    with pd.ExcelWriter(output_pth, engine='openpyxl', mode='a') as writer:\n",
    "        # total_avg_df.to_excel(writer, sheet_name='averages', index=False)\n",
    "        total_std_df.to_excel(writer, sheet_name='std', index=False)"
   ],
   "metadata": {
    "collapsed": false
   }
  },
  {
   "cell_type": "markdown",
   "source": [
    "### Now merge all 214 excel sheets of average together to create a one, large dataframe that we can use to concatenate to the overall clue data df. Note that not all of the excel sheets have the same # of columns, since columns with all NAN's get dropped. Just merge by row!"
   ],
   "metadata": {
    "collapsed": false
   }
  },
  {
   "cell_type": "code",
   "execution_count": 7,
   "outputs": [
    {
     "name": "stderr",
     "output_type": "stream",
     "text": [
      "Excel File Processed: 100%|\u001B[31m██████████\u001B[0m| 214/214 [00:09<00:00, 22.72it/s]\n"
     ]
    }
   ],
   "source": [
    "ind_xl_src = r'\\\\shelter\\Kyu\\skin_aging\\clue_cohort\\wsi\\hovernet_out\\df\\output_excel'\n",
    "ind_xl_name = [x for x in os.listdir(ind_xl_src) if x.endswith(\".xlsx\")]\n",
    "ind_xl_path = [os.path.join(ind_xl_src,y) for y in ind_xl_name]\n",
    "total_df = pd.DataFrame()\n",
    "for _, xlpth in tqdm(enumerate(ind_xl_path),desc=\"Excel File Processed\",colour='red',total = len(ind_xl_path)):\n",
    "    ind_df = pd.read_excel(xlpth,sheet_name='averages')\n",
    "    total_df = pd.concat([total_df,ind_df],axis=0)\n",
    "total_df = total_df.reset_index(drop=True)\n",
    "save_path = r'\\\\shelter\\Kyu\\skin_aging\\clue_cohort\\wsi\\hovernet_out\\df\\output_excel\\total_df'\n",
    "total_df.to_excel(os.path.join(save_path,\"total_avg\" + \".xlsx\"))"
   ],
   "metadata": {
    "collapsed": false
   }
  },
  {
   "cell_type": "markdown",
   "source": [
    "### Then merge all 214 excel sheets of std together to create one, large dataframe we can use to concatenate to th eoverall clue data df."
   ],
   "metadata": {
    "collapsed": false
   }
  },
  {
   "cell_type": "code",
   "execution_count": 8,
   "outputs": [
    {
     "name": "stderr",
     "output_type": "stream",
     "text": [
      "Excel File Processed: 100%|\u001B[31m██████████\u001B[0m| 214/214 [00:05<00:00, 40.58it/s]\n"
     ]
    }
   ],
   "source": [
    "ind_xl_src = r'\\\\shelter\\Kyu\\skin_aging\\clue_cohort\\wsi\\hovernet_out\\df\\output_excel'\n",
    "ind_xl_name = [x for x in os.listdir(ind_xl_src) if x.endswith(\".xlsx\")]\n",
    "ind_xl_path = [os.path.join(ind_xl_src,y) for y in ind_xl_name]\n",
    "total_df = pd.DataFrame()\n",
    "for _, xlpth1 in tqdm(enumerate(ind_xl_path),desc=\"Excel File Processed\",colour='red',total = len(ind_xl_path)):\n",
    "    ind_df = pd.read_excel(xlpth1,sheet_name='std')\n",
    "    total_df = pd.concat([total_df,ind_df],axis=0)\n",
    "total_df = total_df.reset_index(drop=True)\n",
    "save_path = r'\\\\shelter\\Kyu\\skin_aging\\clue_cohort\\wsi\\hovernet_out\\df\\output_excel\\total_df'\n",
    "total_df.to_excel(os.path.join(save_path, \"total_std\" + \".xlsx\"))"
   ],
   "metadata": {
    "collapsed": false
   }
  },
  {
   "cell_type": "markdown",
   "source": [
    "### Lastly, calculate CV:"
   ],
   "metadata": {
    "collapsed": false
   }
  },
  {
   "cell_type": "code",
   "execution_count": 10,
   "outputs": [],
   "source": [
    "avg_df_src = r'\\\\shelter\\Kyu\\skin_aging\\clue_cohort\\wsi\\hovernet_out\\df\\output_excel\\total_df\\total_avg.xlsx'\n",
    "std_df_src = r'\\\\shelter\\Kyu\\skin_aging\\clue_cohort\\wsi\\hovernet_out\\df\\output_excel\\total_df\\total_std.xlsx'\n",
    "avg_df = pd.read_excel(avg_df_src)\n",
    "std_df = pd.read_excel(std_df_src)\n",
    "avg_df = avg_df.drop(columns=\"Unnamed: 0\")\n",
    "std_df = std_df.drop(columns=\"Unnamed: 0\")\n",
    "cv_df = std_df.div(avg_df)\n",
    "cv_df.to_excel(r'\\\\shelter\\Kyu\\skin_aging\\clue_cohort\\wsi\\hovernet_out\\df\\output_excel\\total_df\\total_cv.xlsx')"
   ],
   "metadata": {
    "collapsed": false
   }
  },
  {
   "cell_type": "markdown",
   "source": [
    "### Then manually copy paste these to the overall clue data df!"
   ],
   "metadata": {
    "collapsed": false
   }
  },
  {
   "cell_type": "code",
   "execution_count": 24,
   "outputs": [],
   "source": [
    "# some extra code, this is to get labelid for the clue data df:\n",
    "def repeat_objects(objects, numbers):\n",
    "    repeated_objects = [obj for obj, num in zip(objects, numbers) for _ in range(int(num))]\n",
    "    return repeated_objects\n",
    "\n",
    "labelidsrc = r\"\\\\shelter\\Kyu\\skin_aging\\clue_cohort\\CLUE_image_list_230329.xlsx\"\n",
    "labeliddf = pd.read_excel(labelidsrc)\n",
    "labeliddf = labeliddf[labeliddf[\"student score\"] > 1]\n",
    "labelid = labeliddf[\"label name\"]\n",
    "repeat = labeliddf[\"Nroi\"]\n",
    "labelid = list(labelid)\n",
    "repeat = list(repeat)\n",
    "\n",
    "repeat_labelid = repeat_objects(labelid,repeat)"
   ],
   "metadata": {
    "collapsed": false
   }
  },
  {
   "cell_type": "code",
   "execution_count": 27,
   "outputs": [
    {
     "data": {
      "text/plain": "['10-2135',\n '10-163',\n '10-163',\n '10-163',\n '10-163',\n '10-2924',\n '10-2924',\n '10-2924',\n '10-2924',\n '10-3702',\n '10-3702',\n '10-3702',\n '10-3702',\n '10-4775',\n '10-4775',\n '10-4775',\n '10-5202',\n '03-4359',\n '03-4359',\n '05-14314',\n '03-5872',\n '03-5872',\n '02-17359',\n '02-17359',\n '02-17359',\n '02-17359',\n '10-6634',\n '03-18469',\n '03-18775',\n '03-18775',\n '10-6524',\n '10-5202',\n '05-7318',\n '05:9867',\n '05:9840',\n '05:9840',\n '05:9840',\n '05:7839',\n '05:7839',\n '05:7839',\n '05:7839',\n '05:7839',\n '05-6865',\n '05-6865',\n '05:12047',\n '05:12047',\n '05:12047',\n '05:12047',\n '05:12047',\n '05-15878',\n '05-15878',\n '05-15878',\n '05-15878',\n '05:15205',\n '05-368',\n '05-368',\n '05-368',\n '05:2509',\n '05:2509',\n '05:2509',\n '05-3647',\n '04-1652',\n '05:5386',\n '05:5386',\n '05:5386',\n '05:5386',\n '05:7933',\n '05-9193',\n '05:5386',\n '05:5386',\n '05:5386',\n '05:5386',\n '05:12676',\n '04:537',\n '04:537',\n '04-795',\n '04-795',\n '04-795',\n '04-17773',\n '04-8337',\n '05:368',\n '05:368',\n '05:1085',\n '05:1085',\n '05:1085',\n '04-3440',\n '04-6247',\n '03-11785',\n '03-11785',\n '03-11785',\n '04-6742',\n '04-6742',\n '04-7071',\n '04-7071',\n '04-5064',\n '04-5064',\n '04-5064',\n '04-6742',\n '04-6742',\n '04-6742',\n '03-11785',\n '03-11785',\n '03-4359',\n '03-4359',\n '03-4359',\n '04-8709',\n '04-8709',\n '04-8709',\n '04-8709',\n '04-8709',\n '04-8709',\n '03-4359',\n '03-5872',\n '03-5872',\n '03-11785',\n '03-12008',\n '03-11621',\n '03-11621',\n '03-9554',\n '03-9554',\n '03-9554',\n '03-9554',\n '03-9554',\n '03-9554',\n '03-9410',\n '03-9410',\n '03-11785',\n '10-2165',\n '10-2135',\n '10-2135',\n '10-4775',\n '10-4775',\n '10-4775',\n '10-4775',\n '10-4775',\n '10-4775',\n '10-4910',\n '03-18379',\n '04-10048',\n '04-10048',\n '04-10048',\n '03-9554',\n '03-9554',\n '03-9554',\n '03-9554',\n '04-9602',\n '03-15148',\n '03-12991',\n '03-5815',\n '05-10972',\n '05-10972',\n '05-10972',\n '05-10972',\n '05-10972',\n '05-10972',\n '05-9887',\n '06-4769',\n '06-4769',\n '06-4777',\n '05-9867',\n '06-13614',\n '06-13614',\n '04-12143',\n '04-11737',\n '04-11737',\n '04-11737',\n '04-11737',\n '04-11737',\n '04-11737',\n '04-11737',\n '05-10972',\n '05-10972',\n '05-10972',\n '05-10972',\n '05-10972',\n '03-9410',\n '06-13614',\n '06-13614',\n '06-13614',\n '06-13614',\n '06-13614',\n '06-13674',\n '06-13674',\n '05-10972',\n '05-10972',\n '05-10972',\n '06-123',\n '06-123',\n '06-123',\n '06-123',\n '06-123',\n '06-8421',\n '09-4005',\n '09-4005',\n '09-4005',\n '09-3872_he',\n '09-11905',\n '09-11905',\n '09-11905',\n '09-11905',\n '09-11905',\n '09-10440',\n '09-5154',\n '09-5154',\n '09-13064',\n '09-13064',\n '09-10440',\n '09-10440',\n '09-10440',\n '09-5004',\n '09-5004',\n '09-10135',\n '09-10135',\n '09-5004',\n '09-10135',\n '09-10135',\n '09-10135',\n '09-5654',\n '09-5654',\n '09-5654',\n '09-5654',\n '09-5654',\n '09-5701',\n '09-5701',\n '09-10135',\n '09-10135',\n '09-10135',\n '06-11823',\n '09-8836',\n '09-13069',\n '09-13069',\n '09-13069',\n '09-13069',\n '09-13817',\n '09-13817',\n '07-10496',\n '07-10496',\n '07-10496',\n '07-10496',\n '07-10496',\n '07-10496',\n '07-10496',\n '07-10496',\n '07-10496',\n '07-10496',\n '07-10496',\n '08-657',\n '08-10011',\n '08-10011',\n '08-10011',\n '08-10011',\n '08-10011',\n '08-10011',\n '08-10011',\n '08-11908',\n '08-11908',\n '08-11908',\n '08-11908',\n '08-11908',\n '08-16538',\n '08-16538',\n '08-16538',\n '08-16538',\n '08-6025',\n '08-6025',\n '08-6025',\n '08-6025',\n '08-7305',\n '08-7305',\n '08-5316',\n '07-13973',\n '07-13973',\n '07-13973',\n '07-13973',\n '07-3707',\n '08-1049',\n '06-15242',\n '06-15242',\n '06-15242',\n '06-15242',\n '07-6405',\n '07-9263',\n '07-9263',\n '07-9263',\n '07-6746',\n '07-6405',\n '07-6405',\n '07-6405',\n '07-6405',\n '07-5382',\n '07-13436',\n '09-5154',\n '09-5154',\n '09-5630',\n '09-5630',\n '09-5630',\n '09-5630',\n '09-5630',\n '09-5630',\n '09-8457',\n '09-9085',\n '09-15306',\n '08-3921',\n '08-3921',\n '08-50',\n '08-50',\n '09-2332',\n '09-2332',\n '09-2332',\n '09-1921',\n '09-5933',\n '07-6405',\n '07-6746',\n '09-6714',\n '07-8163',\n '07-9263',\n '07-9263',\n '07-9263',\n '03-17773',\n '03-17773',\n '03-10314',\n '03-15519',\n '03-15519',\n '03-13174',\n '03-15825',\n '03-15825',\n '03-12008',\n '03-12008',\n '03-12008',\n '05-14314',\n '05-14314',\n '04-3748',\n '04-3748',\n '04-5668',\n '04-5668',\n '04-6247',\n '04-6247',\n '04-6548',\n '04-12143',\n '04-12143',\n '04-12143',\n '04-12088',\n '04-14178',\n '04-14178',\n '05-9342',\n '05-9840',\n '04-13043',\n '04-13043',\n '06-13674',\n '05-10140',\n '05-10140',\n '04-15023',\n '06-7323',\n '06-7323',\n '06-7182',\n '06-7182',\n '05-9867',\n '05-16314',\n '05-16314',\n '05-16314',\n '05-3647',\n '05-3647',\n '03-19300',\n '04-1550']"
     },
     "execution_count": 27,
     "metadata": {},
     "output_type": "execute_result"
    }
   ],
   "source": [
    "repeat_labelid # len = 364"
   ],
   "metadata": {
    "collapsed": false
   }
  },
  {
   "cell_type": "code",
   "execution_count": 30,
   "outputs": [],
   "source": [
    "repeat_labelid = pd.DataFrame(repeat_labelid)\n",
    "repeat_labelid.to_excel(r\"C:\\Users\\Kevin\\Desktop\\tmp4.xlsx\")"
   ],
   "metadata": {
    "collapsed": false
   }
  },
  {
   "cell_type": "markdown",
   "source": [
    "### For now, replace -inf inf nan's in the entire cell with zeros:"
   ],
   "metadata": {
    "collapsed": false
   }
  },
  {
   "cell_type": "code",
   "execution_count": 32,
   "outputs": [],
   "source": [
    "dfsrc = r'\\\\fatherserverdw\\Kevin\\skin_morphometric_source_code\\2D_CLUE_data_220423.xlsx'\n",
    "df = pd.read_excel(dfsrc)\n",
    "df = df.replace([np.inf, -np.inf, np.nan], 0)\n",
    "df.to_excel(dfsrc)"
   ],
   "metadata": {
    "collapsed": false
   }
  },
  {
   "cell_type": "markdown",
   "source": [
    "### Code to find Top 5 cohen's d in the top 4 body parts (chest, back, shoulder, leg):"
   ],
   "metadata": {
    "collapsed": false
   }
  },
  {
   "cell_type": "code",
   "execution_count": 2,
   "outputs": [
    {
     "data": {
      "text/plain": "Empty DataFrame\nColumns: []\nIndex: []",
      "text/html": "<div>\n<style scoped>\n    .dataframe tbody tr th:only-of-type {\n        vertical-align: middle;\n    }\n\n    .dataframe tbody tr th {\n        vertical-align: top;\n    }\n\n    .dataframe thead th {\n        text-align: right;\n    }\n</style>\n<table border=\"1\" class=\"dataframe\">\n  <thead>\n    <tr style=\"text-align: right;\">\n      <th></th>\n    </tr>\n  </thead>\n  <tbody>\n  </tbody>\n</table>\n</div>"
     },
     "execution_count": 2,
     "metadata": {},
     "output_type": "execute_result"
    }
   ],
   "source": [
    "cohensdsrc = r'\\\\fatherserverdw\\Kevin\\skin_morphometric_source_code\\Feature Age correlation metrics230412_t1.xlsx'\n",
    "cohensd_df = pd.read_excel(cohensdsrc)\n",
    "cohensd_df"
   ],
   "metadata": {
    "collapsed": false
   }
  },
  {
   "cell_type": "code",
   "execution_count": null,
   "outputs": [],
   "source": [],
   "metadata": {
    "collapsed": false
   }
  }
 ],
 "metadata": {
  "kernelspec": {
   "display_name": "Python 3",
   "language": "python",
   "name": "python3"
  },
  "language_info": {
   "codemirror_mode": {
    "name": "ipython",
    "version": 2
   },
   "file_extension": ".py",
   "mimetype": "text/x-python",
   "name": "python",
   "nbconvert_exporter": "python",
   "pygments_lexer": "ipython2",
   "version": "2.7.6"
  }
 },
 "nbformat": 4,
 "nbformat_minor": 0
}
