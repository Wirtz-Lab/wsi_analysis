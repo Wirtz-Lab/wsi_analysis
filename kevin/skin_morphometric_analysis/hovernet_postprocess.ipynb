{
 "cells": [
  {
   "cell_type": "markdown",
   "source": [
    "### This part is hovernet preprocess: After MATLAB part of analysis finished on the MATLAB code, this is for modifying some of the wsi(ndpi)src, roisrc, and ndpisrc so that we're only using the 214 image files that we want to use. The MATLAB all_output_concat was manually made by just copy and pasting contents of the each of the excel output files from the MATLAB workflow. After running hovernet workflow, manually add hovernet result to all_output_concat to match 1090 features.\n",
    "### These src's are used in the hovernet_json2df.py, just making sure all the src's are correct so that hovernet_json2df.py runs properly!"
   ],
   "metadata": {
    "collapsed": false
   }
  },
  {
   "cell_type": "code",
   "execution_count": 1,
   "outputs": [],
   "source": [
    "import pandas as pd\n",
    "import numpy as np\n",
    "import seaborn as sns\n",
    "import matplotlib.pyplot as plt\n",
    "import os\n",
    "import shutil\n",
    "import pickle\n",
    "from tqdm import tqdm\n",
    "\n",
    "xlsrc = r'\\\\shelter\\Kyu\\skin_aging\\clue_cohort\\CLUE_image_list_230207_v2.xlsx'\n",
    "ndpisrc = r'\\\\shelter\\Kyu\\skin_aging\\clue_cohort\\wsi'\n",
    "xl = pd.read_excel(xlsrc)\n",
    "xl_tmp = xl[xl[\"student score\"] > 1]\n",
    "wsi_list = xl_tmp.filename\n",
    "# create ndpi path:\n",
    "wsi_ndpi_list = [os.path.join(ndpisrc, x) for x in wsi_list]\n",
    "dst_src = r'\\\\shelter\\Kyu\\skin_aging\\clue_cohort\\wsi\\desired_wsi'\n",
    "for filename in wsi_ndpi_list:\n",
    "    shutil.copy(filename, dst_src)\n",
    "# create dl path:\n",
    "dlsrc = r'\\\\shelter\\Kyu\\skin_aging\\clue_cohort\\DLmask1um'\n",
    "wsi_list = [x.replace(\".ndpi\", \".tif\") for x in wsi_list]\n",
    "wsi_dl_list = [os.path.join(dlsrc, x) for x in wsi_list]\n",
    "dst_src1 = r'\\\\shelter\\Kyu\\skin_aging\\clue_cohort\\DLmask1um\\desired_DLmask'\n",
    "for filename in wsi_dl_list:\n",
    "    shutil.copy(filename, dst_src1)\n",
    "# create roi path:\n",
    "roisrc = r'\\\\shelter\\Kyu\\skin_aging\\clue_cohort\\annotations\\roi\\labeledmask_v2_021723'\n",
    "wsi_list = [x.replace(\".tif\", \".png\") for x in wsi_list]\n",
    "wsi_roi_list = [os.path.join(roisrc, x) for x in wsi_list]\n",
    "dst_src2 = r'\\\\shelter\\Kyu\\skin_aging\\clue_cohort\\annotations\\roi\\labeledmask_v2_021723\\desired_roi'\n",
    "for filename in wsi_roi_list:\n",
    "    shutil.copy(filename, dst_src2)"
   ],
   "metadata": {
    "collapsed": false
   }
  },
  {
   "cell_type": "markdown",
   "source": [],
   "metadata": {
    "collapsed": false
   }
  },
  {
   "cell_type": "markdown",
   "source": [
    "### This part is hovernet postprocess: This code belows processes the generated .pkl file from hovernet to the .xlsx file in a form that we desire:"
   ],
   "metadata": {
    "collapsed": false
   }
  },
  {
   "cell_type": "code",
   "execution_count": 2,
   "outputs": [
    {
     "data": {
      "text/plain": "                                   bbox  \\\n0        [[9746, 53047], [9767, 53058]]   \n1        [[9774, 53087], [9813, 53106]]   \n2        [[9779, 53057], [9806, 53074]]   \n3        [[9787, 53031], [9813, 53043]]   \n4        [[9805, 53057], [9820, 53066]]   \n...                                 ...   \n78467  [[84060, 75784], [84074, 75799]]   \n78468  [[84194, 75960], [84212, 75975]]   \n78469  [[83998, 81884], [84009, 81893]]   \n78470  [[86190, 79657], [86203, 79676]]   \n78471  [[85962, 81914], [85978, 81933]]   \n\n                                       centroid  \\\n0        [10043.722222222223, 52763.5873015873]   \n1       [10087.926315789473, 52803.10736842105]   \n2      [10056.087336244542, 52798.615720524016]   \n3        [10027.71978021978, 52805.32967032967]   \n4                          [10052.82, 52820.29]   \n...                                         ...   \n78467     [83983.33870967742, 75874.3870967742]   \n78468    [84158.90816326531, 76009.63775510204]   \n78469    [83936.75862068965, 81955.39655172414]   \n78470    [85811.52795031056, 80052.32298136647]   \n78471    [86019.72881355933, 81872.94915254238]   \n\n                                                 contour  type  \n0      [[10046, 52754], [10045, 52755], [10044, 52755...  None  \n1      [[10084, 52782], [10083, 52783], [10082, 52783...  None  \n2      [[10056, 52787], [10055, 52788], [10055, 52789...  None  \n3      [[10031, 52795], [10030, 52796], [10026, 52796...  None  \n4      [[10053, 52813], [10052, 52814], [10051, 52814...  None  \n...                                                  ...   ...  \n78467  [[83980, 75868], [83979, 75869], [83977, 75869...  None  \n78468  [[84156, 76002], [84155, 76003], [84154, 76003...  None  \n78469  [[83938, 81950], [83937, 81951], [83937, 81952...  None  \n78470  [[85812, 80046], [85810, 80048], [85809, 80048...  None  \n78471  [[86017, 81866], [86016, 81867], [86015, 81867...  None  \n\n[78472 rows x 4 columns]",
      "text/html": "<div>\n<style scoped>\n    .dataframe tbody tr th:only-of-type {\n        vertical-align: middle;\n    }\n\n    .dataframe tbody tr th {\n        vertical-align: top;\n    }\n\n    .dataframe thead th {\n        text-align: right;\n    }\n</style>\n<table border=\"1\" class=\"dataframe\">\n  <thead>\n    <tr style=\"text-align: right;\">\n      <th></th>\n      <th>bbox</th>\n      <th>centroid</th>\n      <th>contour</th>\n      <th>type</th>\n    </tr>\n  </thead>\n  <tbody>\n    <tr>\n      <th>0</th>\n      <td>[[9746, 53047], [9767, 53058]]</td>\n      <td>[10043.722222222223, 52763.5873015873]</td>\n      <td>[[10046, 52754], [10045, 52755], [10044, 52755...</td>\n      <td>None</td>\n    </tr>\n    <tr>\n      <th>1</th>\n      <td>[[9774, 53087], [9813, 53106]]</td>\n      <td>[10087.926315789473, 52803.10736842105]</td>\n      <td>[[10084, 52782], [10083, 52783], [10082, 52783...</td>\n      <td>None</td>\n    </tr>\n    <tr>\n      <th>2</th>\n      <td>[[9779, 53057], [9806, 53074]]</td>\n      <td>[10056.087336244542, 52798.615720524016]</td>\n      <td>[[10056, 52787], [10055, 52788], [10055, 52789...</td>\n      <td>None</td>\n    </tr>\n    <tr>\n      <th>3</th>\n      <td>[[9787, 53031], [9813, 53043]]</td>\n      <td>[10027.71978021978, 52805.32967032967]</td>\n      <td>[[10031, 52795], [10030, 52796], [10026, 52796...</td>\n      <td>None</td>\n    </tr>\n    <tr>\n      <th>4</th>\n      <td>[[9805, 53057], [9820, 53066]]</td>\n      <td>[10052.82, 52820.29]</td>\n      <td>[[10053, 52813], [10052, 52814], [10051, 52814...</td>\n      <td>None</td>\n    </tr>\n    <tr>\n      <th>...</th>\n      <td>...</td>\n      <td>...</td>\n      <td>...</td>\n      <td>...</td>\n    </tr>\n    <tr>\n      <th>78467</th>\n      <td>[[84060, 75784], [84074, 75799]]</td>\n      <td>[83983.33870967742, 75874.3870967742]</td>\n      <td>[[83980, 75868], [83979, 75869], [83977, 75869...</td>\n      <td>None</td>\n    </tr>\n    <tr>\n      <th>78468</th>\n      <td>[[84194, 75960], [84212, 75975]]</td>\n      <td>[84158.90816326531, 76009.63775510204]</td>\n      <td>[[84156, 76002], [84155, 76003], [84154, 76003...</td>\n      <td>None</td>\n    </tr>\n    <tr>\n      <th>78469</th>\n      <td>[[83998, 81884], [84009, 81893]]</td>\n      <td>[83936.75862068965, 81955.39655172414]</td>\n      <td>[[83938, 81950], [83937, 81951], [83937, 81952...</td>\n      <td>None</td>\n    </tr>\n    <tr>\n      <th>78470</th>\n      <td>[[86190, 79657], [86203, 79676]]</td>\n      <td>[85811.52795031056, 80052.32298136647]</td>\n      <td>[[85812, 80046], [85810, 80048], [85809, 80048...</td>\n      <td>None</td>\n    </tr>\n    <tr>\n      <th>78471</th>\n      <td>[[85962, 81914], [85978, 81933]]</td>\n      <td>[86019.72881355933, 81872.94915254238]</td>\n      <td>[[86017, 81866], [86016, 81867], [86015, 81867...</td>\n      <td>None</td>\n    </tr>\n  </tbody>\n</table>\n<p>78472 rows × 4 columns</p>\n</div>"
     },
     "execution_count": 2,
     "metadata": {},
     "output_type": "execute_result"
    }
   ],
   "source": [
    "json = pd.read_json(r\"\\\\shelter\\Kyu\\skin_aging\\clue_cohort\\wsi\\hovernet_out\\json\\2022-06-07 13.18.40.json\", orient='index')\n",
    "json = pd.DataFrame(json[0].loc['nuc']).T.drop(columns=['type_prob'])\n",
    "json = json[json['contour'].map(len) > 5].reset_index(drop=True)\n",
    "json"
   ],
   "metadata": {
    "collapsed": false
   }
  },
  {
   "cell_type": "code",
   "execution_count": 136,
   "outputs": [],
   "source": [
    "bbox_tmp = json[\"bbox\"].tolist()\n",
    "for idx in range(len(bbox_tmp)):\n",
    "    bbox_tmp[idx] = [[int(x/2),int(y/2)] for (x,y) in bbox_tmp[idx]]\n",
    "json[\"bbox\"] = bbox_tmp"
   ],
   "metadata": {
    "collapsed": false
   }
  },
  {
   "cell_type": "code",
   "execution_count": 137,
   "outputs": [],
   "source": [
    "contour_tmp = json[\"centroid\"].tolist()\n",
    "contour_x1 = [contour_tmp[i][0]/2 for i in range(len(contour_tmp))]\n",
    "contour_y1 = [contour_tmp[i][1]/2 for i in range(len(contour_tmp))]\n",
    "new_contour_xy = list(zip(contour_x1,contour_y1))\n",
    "new_contour_xy = [[new_contour_xy[i][0],new_contour_xy[i][1]] for i in range(len(new_contour_xy))] #,int(new_contour_xy[i][1])\n",
    "json[\"centroid\"] = new_contour_xy"
   ],
   "metadata": {
    "collapsed": false
   }
  },
  {
   "cell_type": "markdown",
   "source": [],
   "metadata": {
    "collapsed": false
   }
  },
  {
   "cell_type": "code",
   "execution_count": 138,
   "outputs": [],
   "source": [
    "contour_tmp = json[\"contour\"].tolist()\n",
    "for idx in range(len(contour_tmp)):\n",
    "    contour_tmp[idx] = [[int(x/2),int(y/2)] for (x,y) in contour_tmp[idx]]\n",
    "json[\"contour\"] = contour_tmp"
   ],
   "metadata": {
    "collapsed": false
   }
  },
  {
   "cell_type": "code",
   "execution_count": 139,
   "outputs": [
    {
     "data": {
      "text/plain": "                                   bbox  \\\n0        [[4873, 26523], [4883, 26529]]   \n1        [[4887, 26543], [4906, 26553]]   \n2        [[4889, 26528], [4903, 26537]]   \n3        [[4893, 26515], [4906, 26521]]   \n4        [[4902, 26528], [4910, 26533]]   \n...                                 ...   \n78467  [[42030, 37892], [42037, 37899]]   \n78468  [[42097, 37980], [42106, 37987]]   \n78469  [[41999, 40942], [42004, 40946]]   \n78470  [[43095, 39828], [43101, 39838]]   \n78471  [[42981, 40957], [42989, 40966]]   \n\n                                       centroid  \\\n0        [5021.861111111111, 26381.79365079365]   \n1      [5043.9631578947365, 26401.553684210525]   \n2       [5028.043668122271, 26399.307860262008]   \n3        [5013.85989010989, 26402.664835164836]   \n4                          [5026.41, 26410.145]   \n...                                         ...   \n78467     [41991.66935483871, 37937.1935483871]   \n78468   [42079.454081632655, 38004.81887755102]   \n78469   [41968.379310344826, 40977.69827586207]   \n78470    [42905.76397515528, 40026.16149068323]   \n78471    [43009.86440677966, 40936.47457627119]   \n\n                                                 contour  type  \n0      [[5023, 26377], [5022, 26377], [5022, 26377], ...  None  \n1      [[5042, 26391], [5041, 26391], [5041, 26391], ...  None  \n2      [[5028, 26393], [5027, 26394], [5027, 26394], ...  None  \n3      [[5015, 26397], [5015, 26398], [5013, 26398], ...  None  \n4      [[5026, 26406], [5026, 26407], [5025, 26407], ...  None  \n...                                                  ...   ...  \n78467  [[41990, 37934], [41989, 37934], [41988, 37934...  None  \n78468  [[42078, 38001], [42077, 38001], [42077, 38001...  None  \n78469  [[41969, 40975], [41968, 40975], [41968, 40976...  None  \n78470  [[42906, 40023], [42905, 40024], [42904, 40024...  None  \n78471  [[43008, 40933], [43008, 40933], [43007, 40933...  None  \n\n[78472 rows x 4 columns]",
      "text/html": "<div>\n<style scoped>\n    .dataframe tbody tr th:only-of-type {\n        vertical-align: middle;\n    }\n\n    .dataframe tbody tr th {\n        vertical-align: top;\n    }\n\n    .dataframe thead th {\n        text-align: right;\n    }\n</style>\n<table border=\"1\" class=\"dataframe\">\n  <thead>\n    <tr style=\"text-align: right;\">\n      <th></th>\n      <th>bbox</th>\n      <th>centroid</th>\n      <th>contour</th>\n      <th>type</th>\n    </tr>\n  </thead>\n  <tbody>\n    <tr>\n      <th>0</th>\n      <td>[[4873, 26523], [4883, 26529]]</td>\n      <td>[5021.861111111111, 26381.79365079365]</td>\n      <td>[[5023, 26377], [5022, 26377], [5022, 26377], ...</td>\n      <td>None</td>\n    </tr>\n    <tr>\n      <th>1</th>\n      <td>[[4887, 26543], [4906, 26553]]</td>\n      <td>[5043.9631578947365, 26401.553684210525]</td>\n      <td>[[5042, 26391], [5041, 26391], [5041, 26391], ...</td>\n      <td>None</td>\n    </tr>\n    <tr>\n      <th>2</th>\n      <td>[[4889, 26528], [4903, 26537]]</td>\n      <td>[5028.043668122271, 26399.307860262008]</td>\n      <td>[[5028, 26393], [5027, 26394], [5027, 26394], ...</td>\n      <td>None</td>\n    </tr>\n    <tr>\n      <th>3</th>\n      <td>[[4893, 26515], [4906, 26521]]</td>\n      <td>[5013.85989010989, 26402.664835164836]</td>\n      <td>[[5015, 26397], [5015, 26398], [5013, 26398], ...</td>\n      <td>None</td>\n    </tr>\n    <tr>\n      <th>4</th>\n      <td>[[4902, 26528], [4910, 26533]]</td>\n      <td>[5026.41, 26410.145]</td>\n      <td>[[5026, 26406], [5026, 26407], [5025, 26407], ...</td>\n      <td>None</td>\n    </tr>\n    <tr>\n      <th>...</th>\n      <td>...</td>\n      <td>...</td>\n      <td>...</td>\n      <td>...</td>\n    </tr>\n    <tr>\n      <th>78467</th>\n      <td>[[42030, 37892], [42037, 37899]]</td>\n      <td>[41991.66935483871, 37937.1935483871]</td>\n      <td>[[41990, 37934], [41989, 37934], [41988, 37934...</td>\n      <td>None</td>\n    </tr>\n    <tr>\n      <th>78468</th>\n      <td>[[42097, 37980], [42106, 37987]]</td>\n      <td>[42079.454081632655, 38004.81887755102]</td>\n      <td>[[42078, 38001], [42077, 38001], [42077, 38001...</td>\n      <td>None</td>\n    </tr>\n    <tr>\n      <th>78469</th>\n      <td>[[41999, 40942], [42004, 40946]]</td>\n      <td>[41968.379310344826, 40977.69827586207]</td>\n      <td>[[41969, 40975], [41968, 40975], [41968, 40976...</td>\n      <td>None</td>\n    </tr>\n    <tr>\n      <th>78470</th>\n      <td>[[43095, 39828], [43101, 39838]]</td>\n      <td>[42905.76397515528, 40026.16149068323]</td>\n      <td>[[42906, 40023], [42905, 40024], [42904, 40024...</td>\n      <td>None</td>\n    </tr>\n    <tr>\n      <th>78471</th>\n      <td>[[42981, 40957], [42989, 40966]]</td>\n      <td>[43009.86440677966, 40936.47457627119]</td>\n      <td>[[43008, 40933], [43008, 40933], [43007, 40933...</td>\n      <td>None</td>\n    </tr>\n  </tbody>\n</table>\n<p>78472 rows × 4 columns</p>\n</div>"
     },
     "execution_count": 139,
     "metadata": {},
     "output_type": "execute_result"
    }
   ],
   "source": [
    "json"
   ],
   "metadata": {
    "collapsed": false
   }
  },
  {
   "cell_type": "code",
   "execution_count": 21,
   "outputs": [],
   "source": [
    "import pandas as pd\n",
    "\n",
    "pkl = pd.read_pickle(r'\\\\shelter\\Kyu\\skin_aging\\clue_cohort\\wsi\\hovernet_out\\df\\2022-06-07 13.18.40.pkl')"
   ],
   "metadata": {
    "collapsed": false
   }
  },
  {
   "cell_type": "code",
   "execution_count": 22,
   "outputs": [
    {
     "data": {
      "text/plain": "                                   bbox  \\\n0      [[25653, 15178], [25669, 15196]]   \n1      [[25662, 15203], [25673, 15216]]   \n2      [[25679, 15150], [25688, 15158]]   \n3      [[25680, 15188], [25690, 15197]]   \n4      [[25683, 15182], [25695, 15188]]   \n...                                 ...   \n11332  [[37935, 14241], [37945, 14246]]   \n11333  [[37998, 14268], [38002, 14275]]   \n11334  [[38003, 14398], [38013, 14403]]   \n11335  [[37900, 15378], [37904, 15383]]   \n11336  [[38956, 16346], [38966, 16359]]   \n\n                                       centroid  \\\n0       [26450.82645089286, 14396.988839285714]   \n1      [26473.506097560974, 14403.181402439024]   \n2       [26417.97076023392, 14419.269005847953]   \n3       [26456.96712802768, 14421.084775086505]   \n4      [26449.018292682926, 14424.881097560976]   \n...                                         ...   \n11332  [37795.515923566876, 14388.210191082802]   \n11333   [37823.27611940299, 14448.059701492537]   \n11334            [37952.200892857145, 14456.25]   \n11335                       [37908.6, 15373.86]   \n11336  [38880.571180555555, 16433.409722222223]   \n\n                                                 contour  type  inroi  \\\n0      [[26450, 14389], [26450, 14389], [26448, 14389...     2      1   \n1      [[26474, 14398], [26473, 14399], [26473, 14399...     2      1   \n2      [[26417, 14415], [26416, 14416], [26415, 14416...     2      1   \n3      [[26456, 14416], [26456, 14417], [26455, 14417...     2      1   \n4      [[26448, 14419], [26447, 14420], [26447, 14422...     2      1   \n...                                                  ...   ...    ...   \n11332  [[37795, 14383], [37794, 14385], [37794, 14385...    10      1   \n11333  [[37822, 14446], [37822, 14446], [37821, 14446...    10      1   \n11334  [[37951, 14451], [37951, 14452], [37950, 14452...    10      1   \n11335  [[37909, 15372], [37908, 15373], [37907, 15373...    10      1   \n11336  [[38883, 16428], [38883, 16429], [38882, 16429...    10      1   \n\n       resident_area                                       c2t_distance  \\\n0              95599  [78.875, 8.0, 2604.0, 469.25, 452.25, 1801.0, ...   \n1              95599  [114.5625, 0.0, 2584.0, 427.5, 412.0, 1764.0, ...   \n2              95599  [50.125, 4.0, 2674.0, 516.5, 513.0, 1868.0, 71...   \n3              95599  [111.125, 0.0, 2630.0, 449.25, 445.25, 1802.0,...   \n4              95599  [103.25, 4.0, 2640.0, 460.0, 457.5, 1815.0, 65...   \n...              ...                                                ...   \n11332         304870  [6400.0, 13576.0, 1420.0, 8832.0, 978.5, 9072....   \n11333         304870  [6392.0, 13624.0, 1307.0, 8808.0, 863.0, 8968....   \n11334         304870  [6588.0, 13848.0, 1145.0, 8992.0, 710.0, 8976....   \n11335         304870  [5932.0, 13768.0, 999.0, 8112.0, 1090.0, 7348....   \n11336         304870  [5708.0, 15688.0, 2612.0, 9192.0, 1122.0, 5956...   \n\n        Area  Perimeter  Circularity  ...  orientation  AspectRatio       Sol  \\\n0      216.5  57.213203     0.831142  ...    61.602367     1.125654  0.968680   \n1       74.0  44.970562     0.459817  ...    54.641518     1.931048  0.855491   \n2       40.0  28.485281     0.619482  ...    21.086744     1.112633  0.879121   \n3       66.5  33.676619     0.736842  ...    24.636820     1.116650  0.930070   \n4       31.5  29.899495     0.442785  ...   167.598145     3.052977  0.828947   \n...      ...        ...          ...  ...          ...          ...       ...   \n11332   31.5  24.714777     0.648048  ...     1.917912     2.060053  0.887324   \n11333   15.0  16.892922     0.660529  ...   111.816551     1.985380  0.882353   \n11334   23.5  24.242641     0.502479  ...   166.449829     2.625816  0.870370   \n11335    9.0  13.656854     0.606389  ...    48.186665     1.388362  0.857143   \n11336   65.5  39.899495     0.517031  ...    62.018143     2.009275  0.867550   \n\n         Extent    EquiDia                      imID  dist2nearest  \\\n0      0.707516  16.602902  2022-06-07 13.18.4011337     11.597414   \n1      0.440476   9.706685  2022-06-07 13.18.4011337     10.630146   \n2      0.555556   7.136496  2022-06-07 13.18.4011337     11.800424   \n3      0.604545   9.201654  2022-06-07 13.18.4011337      3.807887   \n4      0.403846   6.333012  2022-06-07 13.18.4011337      3.807887   \n...         ...        ...                       ...           ...   \n11332  0.525000   6.333012  2022-06-07 13.18.4011337     33.105891   \n11333  0.428571   4.370194  2022-06-07 13.18.4011337     31.148836   \n11334  0.470000   5.470021  2022-06-07 13.18.4011337     60.170591   \n11335  0.360000   3.385138  2022-06-07 13.18.4011337    102.753345   \n11336  0.458042   9.132206  2022-06-07 13.18.4011337    107.681243   \n\n             oriA        oriB  local_align  \n0       47.785965   54.641518     0.126348  \n1       70.961960   61.602367     0.131239  \n2       59.775425   47.785965     0.461839  \n3      167.598145   54.641518     0.916066  \n4       24.636820   61.602367     0.877015  \n...           ...         ...          ...  \n11332  111.816551   17.896618     1.353266  \n11333   17.896618    1.917912     1.353266  \n11334   17.896618  111.816551     0.761109  \n11335   84.098717  110.888710     0.388135  \n11336   92.559387   14.282620     0.700909  \n\n[11337 rows x 22 columns]",
      "text/html": "<div>\n<style scoped>\n    .dataframe tbody tr th:only-of-type {\n        vertical-align: middle;\n    }\n\n    .dataframe tbody tr th {\n        vertical-align: top;\n    }\n\n    .dataframe thead th {\n        text-align: right;\n    }\n</style>\n<table border=\"1\" class=\"dataframe\">\n  <thead>\n    <tr style=\"text-align: right;\">\n      <th></th>\n      <th>bbox</th>\n      <th>centroid</th>\n      <th>contour</th>\n      <th>type</th>\n      <th>inroi</th>\n      <th>resident_area</th>\n      <th>c2t_distance</th>\n      <th>Area</th>\n      <th>Perimeter</th>\n      <th>Circularity</th>\n      <th>...</th>\n      <th>orientation</th>\n      <th>AspectRatio</th>\n      <th>Sol</th>\n      <th>Extent</th>\n      <th>EquiDia</th>\n      <th>imID</th>\n      <th>dist2nearest</th>\n      <th>oriA</th>\n      <th>oriB</th>\n      <th>local_align</th>\n    </tr>\n  </thead>\n  <tbody>\n    <tr>\n      <th>0</th>\n      <td>[[25653, 15178], [25669, 15196]]</td>\n      <td>[26450.82645089286, 14396.988839285714]</td>\n      <td>[[26450, 14389], [26450, 14389], [26448, 14389...</td>\n      <td>2</td>\n      <td>1</td>\n      <td>95599</td>\n      <td>[78.875, 8.0, 2604.0, 469.25, 452.25, 1801.0, ...</td>\n      <td>216.5</td>\n      <td>57.213203</td>\n      <td>0.831142</td>\n      <td>...</td>\n      <td>61.602367</td>\n      <td>1.125654</td>\n      <td>0.968680</td>\n      <td>0.707516</td>\n      <td>16.602902</td>\n      <td>2022-06-07 13.18.4011337</td>\n      <td>11.597414</td>\n      <td>47.785965</td>\n      <td>54.641518</td>\n      <td>0.126348</td>\n    </tr>\n    <tr>\n      <th>1</th>\n      <td>[[25662, 15203], [25673, 15216]]</td>\n      <td>[26473.506097560974, 14403.181402439024]</td>\n      <td>[[26474, 14398], [26473, 14399], [26473, 14399...</td>\n      <td>2</td>\n      <td>1</td>\n      <td>95599</td>\n      <td>[114.5625, 0.0, 2584.0, 427.5, 412.0, 1764.0, ...</td>\n      <td>74.0</td>\n      <td>44.970562</td>\n      <td>0.459817</td>\n      <td>...</td>\n      <td>54.641518</td>\n      <td>1.931048</td>\n      <td>0.855491</td>\n      <td>0.440476</td>\n      <td>9.706685</td>\n      <td>2022-06-07 13.18.4011337</td>\n      <td>10.630146</td>\n      <td>70.961960</td>\n      <td>61.602367</td>\n      <td>0.131239</td>\n    </tr>\n    <tr>\n      <th>2</th>\n      <td>[[25679, 15150], [25688, 15158]]</td>\n      <td>[26417.97076023392, 14419.269005847953]</td>\n      <td>[[26417, 14415], [26416, 14416], [26415, 14416...</td>\n      <td>2</td>\n      <td>1</td>\n      <td>95599</td>\n      <td>[50.125, 4.0, 2674.0, 516.5, 513.0, 1868.0, 71...</td>\n      <td>40.0</td>\n      <td>28.485281</td>\n      <td>0.619482</td>\n      <td>...</td>\n      <td>21.086744</td>\n      <td>1.112633</td>\n      <td>0.879121</td>\n      <td>0.555556</td>\n      <td>7.136496</td>\n      <td>2022-06-07 13.18.4011337</td>\n      <td>11.800424</td>\n      <td>59.775425</td>\n      <td>47.785965</td>\n      <td>0.461839</td>\n    </tr>\n    <tr>\n      <th>3</th>\n      <td>[[25680, 15188], [25690, 15197]]</td>\n      <td>[26456.96712802768, 14421.084775086505]</td>\n      <td>[[26456, 14416], [26456, 14417], [26455, 14417...</td>\n      <td>2</td>\n      <td>1</td>\n      <td>95599</td>\n      <td>[111.125, 0.0, 2630.0, 449.25, 445.25, 1802.0,...</td>\n      <td>66.5</td>\n      <td>33.676619</td>\n      <td>0.736842</td>\n      <td>...</td>\n      <td>24.636820</td>\n      <td>1.116650</td>\n      <td>0.930070</td>\n      <td>0.604545</td>\n      <td>9.201654</td>\n      <td>2022-06-07 13.18.4011337</td>\n      <td>3.807887</td>\n      <td>167.598145</td>\n      <td>54.641518</td>\n      <td>0.916066</td>\n    </tr>\n    <tr>\n      <th>4</th>\n      <td>[[25683, 15182], [25695, 15188]]</td>\n      <td>[26449.018292682926, 14424.881097560976]</td>\n      <td>[[26448, 14419], [26447, 14420], [26447, 14422...</td>\n      <td>2</td>\n      <td>1</td>\n      <td>95599</td>\n      <td>[103.25, 4.0, 2640.0, 460.0, 457.5, 1815.0, 65...</td>\n      <td>31.5</td>\n      <td>29.899495</td>\n      <td>0.442785</td>\n      <td>...</td>\n      <td>167.598145</td>\n      <td>3.052977</td>\n      <td>0.828947</td>\n      <td>0.403846</td>\n      <td>6.333012</td>\n      <td>2022-06-07 13.18.4011337</td>\n      <td>3.807887</td>\n      <td>24.636820</td>\n      <td>61.602367</td>\n      <td>0.877015</td>\n    </tr>\n    <tr>\n      <th>...</th>\n      <td>...</td>\n      <td>...</td>\n      <td>...</td>\n      <td>...</td>\n      <td>...</td>\n      <td>...</td>\n      <td>...</td>\n      <td>...</td>\n      <td>...</td>\n      <td>...</td>\n      <td>...</td>\n      <td>...</td>\n      <td>...</td>\n      <td>...</td>\n      <td>...</td>\n      <td>...</td>\n      <td>...</td>\n      <td>...</td>\n      <td>...</td>\n      <td>...</td>\n      <td>...</td>\n    </tr>\n    <tr>\n      <th>11332</th>\n      <td>[[37935, 14241], [37945, 14246]]</td>\n      <td>[37795.515923566876, 14388.210191082802]</td>\n      <td>[[37795, 14383], [37794, 14385], [37794, 14385...</td>\n      <td>10</td>\n      <td>1</td>\n      <td>304870</td>\n      <td>[6400.0, 13576.0, 1420.0, 8832.0, 978.5, 9072....</td>\n      <td>31.5</td>\n      <td>24.714777</td>\n      <td>0.648048</td>\n      <td>...</td>\n      <td>1.917912</td>\n      <td>2.060053</td>\n      <td>0.887324</td>\n      <td>0.525000</td>\n      <td>6.333012</td>\n      <td>2022-06-07 13.18.4011337</td>\n      <td>33.105891</td>\n      <td>111.816551</td>\n      <td>17.896618</td>\n      <td>1.353266</td>\n    </tr>\n    <tr>\n      <th>11333</th>\n      <td>[[37998, 14268], [38002, 14275]]</td>\n      <td>[37823.27611940299, 14448.059701492537]</td>\n      <td>[[37822, 14446], [37822, 14446], [37821, 14446...</td>\n      <td>10</td>\n      <td>1</td>\n      <td>304870</td>\n      <td>[6392.0, 13624.0, 1307.0, 8808.0, 863.0, 8968....</td>\n      <td>15.0</td>\n      <td>16.892922</td>\n      <td>0.660529</td>\n      <td>...</td>\n      <td>111.816551</td>\n      <td>1.985380</td>\n      <td>0.882353</td>\n      <td>0.428571</td>\n      <td>4.370194</td>\n      <td>2022-06-07 13.18.4011337</td>\n      <td>31.148836</td>\n      <td>17.896618</td>\n      <td>1.917912</td>\n      <td>1.353266</td>\n    </tr>\n    <tr>\n      <th>11334</th>\n      <td>[[38003, 14398], [38013, 14403]]</td>\n      <td>[37952.200892857145, 14456.25]</td>\n      <td>[[37951, 14451], [37951, 14452], [37950, 14452...</td>\n      <td>10</td>\n      <td>1</td>\n      <td>304870</td>\n      <td>[6588.0, 13848.0, 1145.0, 8992.0, 710.0, 8976....</td>\n      <td>23.5</td>\n      <td>24.242641</td>\n      <td>0.502479</td>\n      <td>...</td>\n      <td>166.449829</td>\n      <td>2.625816</td>\n      <td>0.870370</td>\n      <td>0.470000</td>\n      <td>5.470021</td>\n      <td>2022-06-07 13.18.4011337</td>\n      <td>60.170591</td>\n      <td>17.896618</td>\n      <td>111.816551</td>\n      <td>0.761109</td>\n    </tr>\n    <tr>\n      <th>11335</th>\n      <td>[[37900, 15378], [37904, 15383]]</td>\n      <td>[37908.6, 15373.86]</td>\n      <td>[[37909, 15372], [37908, 15373], [37907, 15373...</td>\n      <td>10</td>\n      <td>1</td>\n      <td>304870</td>\n      <td>[5932.0, 13768.0, 999.0, 8112.0, 1090.0, 7348....</td>\n      <td>9.0</td>\n      <td>13.656854</td>\n      <td>0.606389</td>\n      <td>...</td>\n      <td>48.186665</td>\n      <td>1.388362</td>\n      <td>0.857143</td>\n      <td>0.360000</td>\n      <td>3.385138</td>\n      <td>2022-06-07 13.18.4011337</td>\n      <td>102.753345</td>\n      <td>84.098717</td>\n      <td>110.888710</td>\n      <td>0.388135</td>\n    </tr>\n    <tr>\n      <th>11336</th>\n      <td>[[38956, 16346], [38966, 16359]]</td>\n      <td>[38880.571180555555, 16433.409722222223]</td>\n      <td>[[38883, 16428], [38883, 16429], [38882, 16429...</td>\n      <td>10</td>\n      <td>1</td>\n      <td>304870</td>\n      <td>[5708.0, 15688.0, 2612.0, 9192.0, 1122.0, 5956...</td>\n      <td>65.5</td>\n      <td>39.899495</td>\n      <td>0.517031</td>\n      <td>...</td>\n      <td>62.018143</td>\n      <td>2.009275</td>\n      <td>0.867550</td>\n      <td>0.458042</td>\n      <td>9.132206</td>\n      <td>2022-06-07 13.18.4011337</td>\n      <td>107.681243</td>\n      <td>92.559387</td>\n      <td>14.282620</td>\n      <td>0.700909</td>\n    </tr>\n  </tbody>\n</table>\n<p>11337 rows × 22 columns</p>\n</div>"
     },
     "execution_count": 22,
     "metadata": {},
     "output_type": "execute_result"
    }
   ],
   "source": [
    "pkl"
   ],
   "metadata": {
    "collapsed": false
   }
  },
  {
   "cell_type": "code",
   "execution_count": 11,
   "outputs": [],
   "source": [
    "bbox_tmp = pkl[\"bbox\"].tolist()\n",
    "for idx in range(len(bbox_tmp)):\n",
    "    bbox_tmp[idx] = [[int(x/2),int(y/2)] for (x,y) in bbox_tmp[idx]]\n",
    "pkl[\"bbox_20x\"] = bbox_tmp\n",
    "pkl['centroid_20x'] = pkl['centroid'].apply(lambda row: [_/2 for _ in row])\n",
    "contour_tmp = pkl[\"contour\"].tolist()\n",
    "for idx in range(len(contour_tmp)):\n",
    "    contour_tmp[idx] = [[int(x/2),int(y/2)] for (x,y) in contour_tmp[idx]]\n",
    "pkl[\"contour_20x\"] = contour_tmp"
   ],
   "metadata": {
    "collapsed": false
   }
  },
  {
   "cell_type": "code",
   "execution_count": 1,
   "outputs": [],
   "source": [
    "import os\n",
    "import pickle\n",
    "from tqdm import tqdm\n",
    "import pandas as pd\n",
    "import numpy as np"
   ],
   "metadata": {
    "collapsed": false
   }
  },
  {
   "cell_type": "code",
   "execution_count": 6,
   "outputs": [
    {
     "name": "stderr",
     "output_type": "stream",
     "text": [
      "Pickle File Processed:   0%|\u001B[31m          \u001B[0m| 0/214 [00:00<?, ?it/s]"
     ]
    },
    {
     "name": "stdout",
     "output_type": "stream",
     "text": [
      "converting pkl to df:\n"
     ]
    },
    {
     "name": "stderr",
     "output_type": "stream",
     "text": [
      "Pickle File Processed:   0%|\u001B[31m          \u001B[0m| 0/214 [00:02<?, ?it/s]\n",
      "\n",
      "KeyboardInterrupt\n",
      "\n"
     ]
    }
   ],
   "source": [
    "pkl_src=r'\\\\shelter\\Kyu\\skin_aging\\clue_cohort\\wsi\\hovernet_out\\df'\n",
    "output_src=r'\\\\shelter\\Kyu\\skin_aging\\clue_cohort\\wsi\\hovernet_out\\df\\output_excel'\n",
    "pkl_list = [x for x in os.listdir(pkl_src) if x.endswith(\".pkl\")]\n",
    "pkl_full_list = [os.path.join(pkl_src,x) for x in pkl_list]\n",
    "\n",
    "for idx, pkl in tqdm(enumerate(range(len(pkl_list))),desc=\"Pickle File Processed\",colour='red',total = len(pkl_list)):\n",
    "    with open(pkl_full_list[idx], 'rb') as f:\n",
    "        print(\"converting pkl to df:\")\n",
    "        df = pickle.load(f)\n",
    "        bbox_tmp = df[\"bbox\"].tolist()\n",
    "        for idx1 in range(len(bbox_tmp)):\n",
    "            bbox_tmp[idx1] = [[int(x/2),int(y/2)] for (x,y) in bbox_tmp[idx1]]\n",
    "        df[\"bbox_20x\"] = bbox_tmp\n",
    "        df['centroid_20x'] = df['centroid'].apply(lambda row: [_/2 for _ in row])\n",
    "\n",
    "        contour_tmp = df[\"contour\"].tolist()\n",
    "        for idx2 in range(len(contour_tmp)):\n",
    "            contour_tmp[idx2] = [[int(x/2),int(y/2)] for (x,y) in contour_tmp[idx2]]\n",
    "        df[\"contour_20x\"] = contour_tmp\n",
    "    # df dict, key is the type and the value is a DataFrame with the relevant rows\n",
    "    dfs_by_type = {}\n",
    "    for t in range(2, 12):\n",
    "        dfs_by_type[t] = df[df['type'] == t].reset_index(drop=True)\n",
    "\n",
    "    expanded_dfs = []\n",
    "    for t, df_t in dfs_by_type.items():\n",
    "        new_cols = {f\"{col}_type{t}\": df_t[col] for col in df_t.columns if col != 'type'}\n",
    "        expanded_dfs.append(pd.DataFrame(new_cols))\n",
    "\n",
    "    expanded_df = pd.concat(expanded_dfs, axis=1)\n",
    "    imID,_ = os.path.splitext(pkl_list[idx])\n",
    "    output_pth = os.path.join(output_src,imID + \".xlsx\")\n",
    "    # save original df\n",
    "    expanded_df.to_excel(output_pth, index=False)\n",
    "\n",
    "    print(\"calculating average\")\n",
    "    # todo: get the distances!\n",
    "\n",
    "    for col in expanded_df.columns:\n",
    "        if expanded_df[col].dtype not in [int, float]:\n",
    "            if col == \"inroi_type2\":\n",
    "                continue\n",
    "            expanded_df.drop(columns=col,inplace=True)\n",
    "    expanded_df = expanded_df.replace([np.inf, -np.inf], np.nan).dropna()\n",
    "\n",
    "    grouped = expanded_df.groupby(by=['inroi_type2']).mean()\n",
    "    print(grouped)\n",
    "    # create new DataFrame with same column names as expanded_df\n",
    "    unique_values = expanded_df['inroi_type2'].unique()\n",
    "    cardinality = len(unique_values)\n",
    "    avg_df = pd.DataFrame(columns=expanded_df.columns)\n",
    "\n",
    "    # append a new row for each unique value of inroi_type2\n",
    "    for value in range(1,cardinality+1):\n",
    "        if value != value:  # check for NaN value\n",
    "            continue\n",
    "        row = grouped.loc[grouped['inroi_type2'] == value].to_dict()\n",
    "        avg_df = avg_df.append(row, ignore_index=True)\n",
    "\n",
    "    # append additional rows to avg_df based on the difference between cardinality and the number of unique values\n",
    "    for value in range(1,cardinality+1):\n",
    "        if value != value:  # check for NaN value\n",
    "            continue\n",
    "        row = expanded_df.loc[expanded_df['inroi_type2'] == value].mean().to_dict()\n",
    "        avg_df = avg_df.append(row, ignore_index=True)\n",
    "\n",
    "    # sort avg_df by inroi_type2\n",
    "    avg_df = avg_df.sort_values('inroi_type2').reset_index(drop=True)\n",
    "\n",
    "    # drop cols with inroi in them\n",
    "    inroi_cols = [col for col in df.columns if 'inroi_type' in col]\n",
    "    avg_df = avg_df.drop(columns=inroi_cols)\n",
    "\n",
    "    # save average df\n",
    "    with pd.ExcelWriter(output_pth, engine='openpyxl', mode='a') as writer:\n",
    "        avg_df.to_excel(writer, sheet_name='averages', index=False)"
   ],
   "metadata": {
    "collapsed": false
   }
  },
  {
   "cell_type": "code",
   "execution_count": 7,
   "outputs": [
    {
     "name": "stdout",
     "output_type": "stream",
     "text": [
      "converting pkl to df:\n"
     ]
    }
   ],
   "source": [
    "import os\n",
    "import pickle\n",
    "from tqdm import tqdm\n",
    "import pandas as pd\n",
    "import numpy as np\n",
    "with open(r'\\\\shelter\\Kyu\\skin_aging\\clue_cohort\\wsi\\hovernet_out\\df\\2022-06-07 13.29.45.pkl', 'rb') as f:\n",
    "    print(\"converting pkl to df:\")\n",
    "    df = pickle.load(f)\n",
    "    bbox_tmp = df[\"bbox\"].tolist()\n",
    "    for idx1 in range(len(bbox_tmp)):\n",
    "        bbox_tmp[idx1] = [[int(x/2),int(y/2)] for (x,y) in bbox_tmp[idx1]]\n",
    "    df[\"bbox_20x\"] = bbox_tmp\n",
    "    df['centroid_20x'] = df['centroid'].apply(lambda row: [_/2 for _ in row])\n",
    "\n",
    "    contour_tmp = df[\"contour\"].tolist()\n",
    "    for idx2 in range(len(contour_tmp)):\n",
    "        contour_tmp[idx2] = [[int(x/2),int(y/2)] for (x,y) in contour_tmp[idx2]]\n",
    "    df[\"contour_20x\"] = contour_tmp\n",
    "    # df dict, key is the type and the value is a DataFrame with the relevant rows\n",
    "    dfs_by_type = {}\n",
    "    for t in range(2, 12):\n",
    "        dfs_by_type[t] = df[df['type'] == t].reset_index(drop=True)\n",
    "\n",
    "    expanded_dfs = []\n",
    "    for t, df_t in dfs_by_type.items():\n",
    "        new_cols = {f\"{col}_type{t}\": df_t[col] for col in df_t.columns if col != 'type'}\n",
    "        expanded_dfs.append(pd.DataFrame(new_cols))\n",
    "\n",
    "    expanded_df = pd.concat(expanded_dfs, axis=1)"
   ],
   "metadata": {
    "collapsed": false
   }
  },
  {
   "cell_type": "code",
   "execution_count": 35,
   "outputs": [],
   "source": [
    "\n",
    "# todo: get the distances!\n",
    "\n",
    "for col in expanded_df.columns:\n",
    "    if expanded_df[col].dtype not in [int, float]:\n",
    "        if col == \"inroi_type2\":\n",
    "            continue\n",
    "        expanded_df.drop(columns=col,inplace=True)"
   ],
   "metadata": {
    "collapsed": false
   }
  },
  {
   "cell_type": "code",
   "execution_count": 36,
   "outputs": [
    {
     "data": {
      "text/plain": "       inroi_type2  resident_area_type2  Area_type2  Perimeter_type2  \\\n0                4                57357        51.5        36.569541   \n1                4                57357       303.0        68.404541   \n2                4                57357       234.0        63.378203   \n3                4                57357        79.0        40.064495   \n4                4                57357       149.5        47.963990   \n...            ...                  ...         ...              ...   \n57351            3               141027        71.5        44.242641   \n57352            3               141027        54.5        43.899495   \n57353            3               141027        39.0        27.721349   \n57354            3               141027        42.5        27.135563   \n57355            3               141027        37.0        25.313708   \n\n       Circularity_type2   MA_type2   ma_type2  orientation_type2  \\\n0               0.483925  14.607458   5.012929         139.064423   \n1               0.813734  20.563667  18.966291          67.867828   \n2               0.732059  19.714821  14.940122          21.635691   \n3               0.618469  11.910135   8.879769         162.085800   \n4               0.816621  15.649416  12.774332         173.758316   \n...                  ...        ...        ...                ...   \n57351           0.459022  19.422844   5.474000           2.238300   \n57352           0.355375  16.125137   5.686230         106.553688   \n57353           0.637743  10.299442   6.197195          87.614426   \n57354           0.725306   9.056720   6.623593           6.833347   \n57355           0.725605   9.092157   5.678752         108.760704   \n\n       AspectRatio_type2  Sol_type2  ...  ma_type11  orientation_type11  \\\n0               2.913956   0.880342  ...   5.520935           42.141922   \n1               1.084222   0.968051  ...   4.697136          145.923813   \n2               1.319589   0.955102  ...   4.583908           64.725357   \n3               1.341266   0.913295  ...   5.942382           16.640558   \n4               1.225067   0.961415  ...        NaN                 NaN   \n...                  ...        ...  ...        ...                 ...   \n57351           3.548200   0.910828  ...        NaN                 NaN   \n57352           2.835822   0.741497  ...        NaN                 NaN   \n57353           1.661952   0.876404  ...        NaN                 NaN   \n57354           1.367342   0.913978  ...        NaN                 NaN   \n57355           1.601084   0.948718  ...        NaN                 NaN   \n\n       AspectRatio_type11  Sol_type11  Extent_type11  EquiDia_type11  \\\n0                2.081813    0.884615       0.418182        7.653040   \n1                1.260763    0.926829       0.527778        4.918491   \n2                2.994222    0.834951       0.367521        7.399277   \n3                3.248883    0.902564       0.514620       10.585135   \n4                     NaN         NaN            NaN             NaN   \n...                   ...         ...            ...             ...   \n57351                 NaN         NaN            NaN             NaN   \n57352                 NaN         NaN            NaN             NaN   \n57353                 NaN         NaN            NaN             NaN   \n57354                 NaN         NaN            NaN             NaN   \n57355                 NaN         NaN            NaN             NaN   \n\n       dist2nearest_type11  oriA_type11  oriB_type11  local_align_type11  \n0                 8.062258   100.230293   121.238243            0.466269  \n1                70.066040   147.179016   115.431717            0.132018  \n2                18.973666    47.551579    48.870728            0.177923  \n3                26.655206    43.699333    48.536812            0.473651  \n4                      NaN          NaN          NaN                 NaN  \n...                    ...          ...          ...                 ...  \n57351                  NaN          NaN          NaN                 NaN  \n57352                  NaN          NaN          NaN                 NaN  \n57353                  NaN          NaN          NaN                 NaN  \n57354                  NaN          NaN          NaN                 NaN  \n57355                  NaN          NaN          NaN                 NaN  \n\n[57356 rows x 160 columns]",
      "text/html": "<div>\n<style scoped>\n    .dataframe tbody tr th:only-of-type {\n        vertical-align: middle;\n    }\n\n    .dataframe tbody tr th {\n        vertical-align: top;\n    }\n\n    .dataframe thead th {\n        text-align: right;\n    }\n</style>\n<table border=\"1\" class=\"dataframe\">\n  <thead>\n    <tr style=\"text-align: right;\">\n      <th></th>\n      <th>inroi_type2</th>\n      <th>resident_area_type2</th>\n      <th>Area_type2</th>\n      <th>Perimeter_type2</th>\n      <th>Circularity_type2</th>\n      <th>MA_type2</th>\n      <th>ma_type2</th>\n      <th>orientation_type2</th>\n      <th>AspectRatio_type2</th>\n      <th>Sol_type2</th>\n      <th>...</th>\n      <th>ma_type11</th>\n      <th>orientation_type11</th>\n      <th>AspectRatio_type11</th>\n      <th>Sol_type11</th>\n      <th>Extent_type11</th>\n      <th>EquiDia_type11</th>\n      <th>dist2nearest_type11</th>\n      <th>oriA_type11</th>\n      <th>oriB_type11</th>\n      <th>local_align_type11</th>\n    </tr>\n  </thead>\n  <tbody>\n    <tr>\n      <th>0</th>\n      <td>4</td>\n      <td>57357</td>\n      <td>51.5</td>\n      <td>36.569541</td>\n      <td>0.483925</td>\n      <td>14.607458</td>\n      <td>5.012929</td>\n      <td>139.064423</td>\n      <td>2.913956</td>\n      <td>0.880342</td>\n      <td>...</td>\n      <td>5.520935</td>\n      <td>42.141922</td>\n      <td>2.081813</td>\n      <td>0.884615</td>\n      <td>0.418182</td>\n      <td>7.653040</td>\n      <td>8.062258</td>\n      <td>100.230293</td>\n      <td>121.238243</td>\n      <td>0.466269</td>\n    </tr>\n    <tr>\n      <th>1</th>\n      <td>4</td>\n      <td>57357</td>\n      <td>303.0</td>\n      <td>68.404541</td>\n      <td>0.813734</td>\n      <td>20.563667</td>\n      <td>18.966291</td>\n      <td>67.867828</td>\n      <td>1.084222</td>\n      <td>0.968051</td>\n      <td>...</td>\n      <td>4.697136</td>\n      <td>145.923813</td>\n      <td>1.260763</td>\n      <td>0.926829</td>\n      <td>0.527778</td>\n      <td>4.918491</td>\n      <td>70.066040</td>\n      <td>147.179016</td>\n      <td>115.431717</td>\n      <td>0.132018</td>\n    </tr>\n    <tr>\n      <th>2</th>\n      <td>4</td>\n      <td>57357</td>\n      <td>234.0</td>\n      <td>63.378203</td>\n      <td>0.732059</td>\n      <td>19.714821</td>\n      <td>14.940122</td>\n      <td>21.635691</td>\n      <td>1.319589</td>\n      <td>0.955102</td>\n      <td>...</td>\n      <td>4.583908</td>\n      <td>64.725357</td>\n      <td>2.994222</td>\n      <td>0.834951</td>\n      <td>0.367521</td>\n      <td>7.399277</td>\n      <td>18.973666</td>\n      <td>47.551579</td>\n      <td>48.870728</td>\n      <td>0.177923</td>\n    </tr>\n    <tr>\n      <th>3</th>\n      <td>4</td>\n      <td>57357</td>\n      <td>79.0</td>\n      <td>40.064495</td>\n      <td>0.618469</td>\n      <td>11.910135</td>\n      <td>8.879769</td>\n      <td>162.085800</td>\n      <td>1.341266</td>\n      <td>0.913295</td>\n      <td>...</td>\n      <td>5.942382</td>\n      <td>16.640558</td>\n      <td>3.248883</td>\n      <td>0.902564</td>\n      <td>0.514620</td>\n      <td>10.585135</td>\n      <td>26.655206</td>\n      <td>43.699333</td>\n      <td>48.536812</td>\n      <td>0.473651</td>\n    </tr>\n    <tr>\n      <th>4</th>\n      <td>4</td>\n      <td>57357</td>\n      <td>149.5</td>\n      <td>47.963990</td>\n      <td>0.816621</td>\n      <td>15.649416</td>\n      <td>12.774332</td>\n      <td>173.758316</td>\n      <td>1.225067</td>\n      <td>0.961415</td>\n      <td>...</td>\n      <td>NaN</td>\n      <td>NaN</td>\n      <td>NaN</td>\n      <td>NaN</td>\n      <td>NaN</td>\n      <td>NaN</td>\n      <td>NaN</td>\n      <td>NaN</td>\n      <td>NaN</td>\n      <td>NaN</td>\n    </tr>\n    <tr>\n      <th>...</th>\n      <td>...</td>\n      <td>...</td>\n      <td>...</td>\n      <td>...</td>\n      <td>...</td>\n      <td>...</td>\n      <td>...</td>\n      <td>...</td>\n      <td>...</td>\n      <td>...</td>\n      <td>...</td>\n      <td>...</td>\n      <td>...</td>\n      <td>...</td>\n      <td>...</td>\n      <td>...</td>\n      <td>...</td>\n      <td>...</td>\n      <td>...</td>\n      <td>...</td>\n      <td>...</td>\n    </tr>\n    <tr>\n      <th>57351</th>\n      <td>3</td>\n      <td>141027</td>\n      <td>71.5</td>\n      <td>44.242641</td>\n      <td>0.459022</td>\n      <td>19.422844</td>\n      <td>5.474000</td>\n      <td>2.238300</td>\n      <td>3.548200</td>\n      <td>0.910828</td>\n      <td>...</td>\n      <td>NaN</td>\n      <td>NaN</td>\n      <td>NaN</td>\n      <td>NaN</td>\n      <td>NaN</td>\n      <td>NaN</td>\n      <td>NaN</td>\n      <td>NaN</td>\n      <td>NaN</td>\n      <td>NaN</td>\n    </tr>\n    <tr>\n      <th>57352</th>\n      <td>3</td>\n      <td>141027</td>\n      <td>54.5</td>\n      <td>43.899495</td>\n      <td>0.355375</td>\n      <td>16.125137</td>\n      <td>5.686230</td>\n      <td>106.553688</td>\n      <td>2.835822</td>\n      <td>0.741497</td>\n      <td>...</td>\n      <td>NaN</td>\n      <td>NaN</td>\n      <td>NaN</td>\n      <td>NaN</td>\n      <td>NaN</td>\n      <td>NaN</td>\n      <td>NaN</td>\n      <td>NaN</td>\n      <td>NaN</td>\n      <td>NaN</td>\n    </tr>\n    <tr>\n      <th>57353</th>\n      <td>3</td>\n      <td>141027</td>\n      <td>39.0</td>\n      <td>27.721349</td>\n      <td>0.637743</td>\n      <td>10.299442</td>\n      <td>6.197195</td>\n      <td>87.614426</td>\n      <td>1.661952</td>\n      <td>0.876404</td>\n      <td>...</td>\n      <td>NaN</td>\n      <td>NaN</td>\n      <td>NaN</td>\n      <td>NaN</td>\n      <td>NaN</td>\n      <td>NaN</td>\n      <td>NaN</td>\n      <td>NaN</td>\n      <td>NaN</td>\n      <td>NaN</td>\n    </tr>\n    <tr>\n      <th>57354</th>\n      <td>3</td>\n      <td>141027</td>\n      <td>42.5</td>\n      <td>27.135563</td>\n      <td>0.725306</td>\n      <td>9.056720</td>\n      <td>6.623593</td>\n      <td>6.833347</td>\n      <td>1.367342</td>\n      <td>0.913978</td>\n      <td>...</td>\n      <td>NaN</td>\n      <td>NaN</td>\n      <td>NaN</td>\n      <td>NaN</td>\n      <td>NaN</td>\n      <td>NaN</td>\n      <td>NaN</td>\n      <td>NaN</td>\n      <td>NaN</td>\n      <td>NaN</td>\n    </tr>\n    <tr>\n      <th>57355</th>\n      <td>3</td>\n      <td>141027</td>\n      <td>37.0</td>\n      <td>25.313708</td>\n      <td>0.725605</td>\n      <td>9.092157</td>\n      <td>5.678752</td>\n      <td>108.760704</td>\n      <td>1.601084</td>\n      <td>0.948718</td>\n      <td>...</td>\n      <td>NaN</td>\n      <td>NaN</td>\n      <td>NaN</td>\n      <td>NaN</td>\n      <td>NaN</td>\n      <td>NaN</td>\n      <td>NaN</td>\n      <td>NaN</td>\n      <td>NaN</td>\n      <td>NaN</td>\n    </tr>\n  </tbody>\n</table>\n<p>57356 rows × 160 columns</p>\n</div>"
     },
     "execution_count": 36,
     "metadata": {},
     "output_type": "execute_result"
    }
   ],
   "source": [
    "expanded_df"
   ],
   "metadata": {
    "collapsed": false
   }
  },
  {
   "cell_type": "code",
   "execution_count": 40,
   "outputs": [
    {
     "ename": "AttributeError",
     "evalue": "'DataFrameGroupBy' object has no attribute 'nanmean'",
     "output_type": "error",
     "traceback": [
      "\u001B[1;31m---------------------------------------------------------------------------\u001B[0m",
      "\u001B[1;31mAttributeError\u001B[0m                            Traceback (most recent call last)",
      "Cell \u001B[1;32mIn[40], line 2\u001B[0m\n\u001B[0;32m      1\u001B[0m expanded_df \u001B[38;5;241m=\u001B[39m expanded_df\u001B[38;5;241m.\u001B[39mreplace([np\u001B[38;5;241m.\u001B[39minf, \u001B[38;5;241m-\u001B[39mnp\u001B[38;5;241m.\u001B[39minf, np\u001B[38;5;241m.\u001B[39mnan], np\u001B[38;5;241m.\u001B[39minf)\n\u001B[1;32m----> 2\u001B[0m grouped \u001B[38;5;241m=\u001B[39m \u001B[43mexpanded_df\u001B[49m\u001B[38;5;241;43m.\u001B[39;49m\u001B[43mgroupby\u001B[49m\u001B[43m(\u001B[49m\u001B[43mby\u001B[49m\u001B[38;5;241;43m=\u001B[39;49m\u001B[43m[\u001B[49m\u001B[38;5;124;43m'\u001B[39;49m\u001B[38;5;124;43minroi_type2\u001B[39;49m\u001B[38;5;124;43m'\u001B[39;49m\u001B[43m]\u001B[49m\u001B[43m)\u001B[49m\u001B[38;5;241;43m.\u001B[39;49m\u001B[43mnanmean\u001B[49m()\n\u001B[0;32m      3\u001B[0m grouped\n",
      "File \u001B[1;32m~\\.conda\\envs\\wsi_analysis1\\lib\\site-packages\\pandas\\core\\groupby\\groupby.py:981\u001B[0m, in \u001B[0;36mGroupBy.__getattr__\u001B[1;34m(self, attr)\u001B[0m\n\u001B[0;32m    978\u001B[0m \u001B[38;5;28;01mif\u001B[39;00m attr \u001B[38;5;129;01min\u001B[39;00m \u001B[38;5;28mself\u001B[39m\u001B[38;5;241m.\u001B[39mobj:\n\u001B[0;32m    979\u001B[0m     \u001B[38;5;28;01mreturn\u001B[39;00m \u001B[38;5;28mself\u001B[39m[attr]\n\u001B[1;32m--> 981\u001B[0m \u001B[38;5;28;01mraise\u001B[39;00m \u001B[38;5;167;01mAttributeError\u001B[39;00m(\n\u001B[0;32m    982\u001B[0m     \u001B[38;5;124mf\u001B[39m\u001B[38;5;124m\"\u001B[39m\u001B[38;5;124m'\u001B[39m\u001B[38;5;132;01m{\u001B[39;00m\u001B[38;5;28mtype\u001B[39m(\u001B[38;5;28mself\u001B[39m)\u001B[38;5;241m.\u001B[39m\u001B[38;5;18m__name__\u001B[39m\u001B[38;5;132;01m}\u001B[39;00m\u001B[38;5;124m'\u001B[39m\u001B[38;5;124m object has no attribute \u001B[39m\u001B[38;5;124m'\u001B[39m\u001B[38;5;132;01m{\u001B[39;00mattr\u001B[38;5;132;01m}\u001B[39;00m\u001B[38;5;124m'\u001B[39m\u001B[38;5;124m\"\u001B[39m\n\u001B[0;32m    983\u001B[0m )\n",
      "\u001B[1;31mAttributeError\u001B[0m: 'DataFrameGroupBy' object has no attribute 'nanmean'"
     ]
    }
   ],
   "source": [
    "expanded_df = expanded_df.replace([np.inf, -np.inf, np.nan], np.nan)\n",
    "grouped = expanded_df.groupby(by=['inroi_type2']).nanmean()\n",
    "grouped\n",
    "\n",
    "# create new DataFrame with same column names as expanded_df\n",
    "# unique_values = expanded_df['inroi_type2'].unique()\n",
    "# cardinality = len(unique_values)\n",
    "# avg_df = pd.DataFrame(columns=expanded_df.columns)\n",
    "#\n",
    "# # append a new row for each unique value of inroi_type2\n",
    "# for value in range(1,cardinality+1):\n",
    "#     if value != value:  # check for NaN value\n",
    "#         continue\n",
    "#     row = grouped.loc[grouped['inroi_type2'] == value].to_dict()\n",
    "#     avg_df = avg_df.append(row, ignore_index=True)\n",
    "#\n",
    "# # append additional rows to avg_df based on the difference between cardinality and the number of unique values\n",
    "# for value in range(1,cardinality+1):\n",
    "#     if value != value:  # check for NaN value\n",
    "#         continue\n",
    "#     row = expanded_df.loc[expanded_df['inroi_type2'] == value].mean().to_dict()\n",
    "#     avg_df = avg_df.append(row, ignore_index=True)\n",
    "#\n",
    "# # sort avg_df by inroi_type2\n",
    "# avg_df = avg_df.sort_values('inroi_type2').reset_index(drop=True)\n",
    "#\n",
    "# # drop cols with inroi in them\n",
    "# inroi_cols = [col for col in df.columns if 'inroi_type' in col]\n",
    "# avg_df = avg_df.drop(columns=inroi_cols)"
   ],
   "metadata": {
    "collapsed": false
   }
  },
  {
   "cell_type": "markdown",
   "source": [
    "### Then calculate CV of all of the values to complete 1090 features:"
   ],
   "metadata": {
    "collapsed": false
   }
  },
  {
   "cell_type": "code",
   "execution_count": 7,
   "outputs": [
    {
     "data": {
      "text/plain": "True"
     },
     "execution_count": 7,
     "metadata": {},
     "output_type": "execute_result"
    }
   ],
   "source": [
    "'c2t_distance_type' in 'c2t_distance_type2'"
   ],
   "metadata": {
    "collapsed": false
   }
  },
  {
   "cell_type": "code",
   "execution_count": 10,
   "outputs": [
    {
     "data": {
      "text/plain": "                             bbox_type2  \\\n0      [[47823, 34526], [47834, 34538]]   \n1      [[48206, 31595], [48226, 31615]]   \n2      [[48234, 31555], [48253, 31572]]   \n3      [[48239, 31602], [48251, 31612]]   \n4      [[48253, 31598], [48268, 31611]]   \n...                                 ...   \n57351  [[93268, 27769], [93287, 27775]]   \n57352  [[93282, 27542], [93289, 27558]]   \n57353  [[93288, 27569], [93295, 27580]]   \n57354  [[93293, 27556], [93302, 27563]]   \n57355  [[93302, 27572], [93309, 27581]]   \n\n                                 centroid_type2  \\\n0       [47843.716894977166, 34516.93378995434]   \n1       [49013.318181818184, 30808.53229665072]   \n2        [48971.41365046536, 30835.81385729059]   \n3        [49015.17877906977, 30836.77034883721]   \n4      [49012.431677018634, 30852.905279503106]   \n...                                         ...   \n57351   [93307.88819875776, 27742.231366459626]   \n57352   [93086.25192307692, 27749.084615384614]   \n57353   [93111.32180851063, 27755.172872340427]   \n57354    [93095.54838709677, 27761.65860215054]   \n57355    [93112.46820809248, 27769.52023121387]   \n\n                                           contour_type2  inroi_type2  \\\n0      [[47839, 34511], [47839, 34511], [47838, 34511...            4   \n1      [[49013, 30798], [49013, 30799], [49011, 30799...            4   \n2      [[48971, 30826], [48970, 30827], [48969, 30827...            4   \n3      [[49015, 30831], [49015, 30831], [49014, 30831...            4   \n4      [[49011, 30845], [49010, 30846], [49009, 30846...            4   \n...                                                  ...          ...   \n57351  [[93307, 27732], [93307, 27733], [93306, 27734...            3   \n57352  [[93080, 27746], [93080, 27746], [93079, 27746...            3   \n57353  [[93111, 27752], [93109, 27754], [93107, 27754...            3   \n57354  [[93095, 27757], [93092, 27760], [93092, 27763...            3   \n57355  [[93110, 27766], [93110, 27767], [93109, 27767...            3   \n\n       resident_area_type2                                 c2t_distance_type2  \\\n0                    57357  [71104.0, 70080.0, 67968.0, 67648.0, 65440.0, ...   \n1                    57357  [68800.0, 68352.0, 65856.0, 65600.0, 62720.0, ...   \n2                    57357  [68864.0, 68416.0, 65920.0, 65728.0, 62816.0, ...   \n3                    57357  [68800.0, 68352.0, 65856.0, 65600.0, 62720.0, ...   \n4                    57357  [68800.0, 68352.0, 65856.0, 65600.0, 62752.0, ...   \n...                    ...                                                ...   \n57351               141027  [23440.0, 23024.0, 22720.0, 22784.0, 23728.0, ...   \n57352               141027  [23056.0, 22640.0, 22336.0, 22400.0, 23344.0, ...   \n57353               141027  [23088.0, 22672.0, 22384.0, 22432.0, 23392.0, ...   \n57354               141027  [23056.0, 22656.0, 22352.0, 22416.0, 23360.0, ...   \n57355               141027  [23088.0, 22672.0, 22368.0, 22432.0, 23392.0, ...   \n\n       Area_type2  Perimeter_type2  Circularity_type2   MA_type2  ...  \\\n0            51.5        36.569541           0.483925  14.607458  ...   \n1           303.0        68.404541           0.813734  20.563667  ...   \n2           234.0        63.378203           0.732059  19.714821  ...   \n3            79.0        40.064495           0.618469  11.910135  ...   \n4           149.5        47.963990           0.816621  15.649416  ...   \n...           ...              ...                ...        ...  ...   \n57351        71.5        44.242641           0.459022  19.422844  ...   \n57352        54.5        43.899495           0.355375  16.125137  ...   \n57353        39.0        27.721349           0.637743  10.299442  ...   \n57354        42.5        27.135563           0.725306   9.056720  ...   \n57355        37.0        25.313708           0.725605   9.092157  ...   \n\n       Extent_type11  EquiDia_type11                imID_type11  \\\n0           0.418182        7.653040  2022-06-07 13.29.45162897   \n1           0.527778        4.918491  2022-06-07 13.29.45162897   \n2           0.367521        7.399277  2022-06-07 13.29.45162897   \n3           0.514620       10.585135  2022-06-07 13.29.45162897   \n4                NaN             NaN                        NaN   \n...              ...             ...                        ...   \n57351            NaN             NaN                        NaN   \n57352            NaN             NaN                        NaN   \n57353            NaN             NaN                        NaN   \n57354            NaN             NaN                        NaN   \n57355            NaN             NaN                        NaN   \n\n       dist2nearest_type11  oriA_type11  oriB_type11 local_align_type11  \\\n0                 8.062258   100.230293   121.238243           0.466269   \n1                70.066040   147.179016   115.431717           0.132018   \n2                18.973666    47.551579    48.870728           0.177923   \n3                26.655206    43.699333    48.536812           0.473651   \n4                      NaN          NaN          NaN                NaN   \n...                    ...          ...          ...                ...   \n57351                  NaN          NaN          NaN                NaN   \n57352                  NaN          NaN          NaN                NaN   \n57353                  NaN          NaN          NaN                NaN   \n57354                  NaN          NaN          NaN                NaN   \n57355                  NaN          NaN          NaN                NaN   \n\n                        bbox_20x_type11  \\\n0      [[23124, 19143], [23129, 19148]]   \n1      [[32004, 13341], [32007, 13344]]   \n2      [[36719, 12238], [36723, 12245]]   \n3      [[38639, 13372], [38648, 13376]]   \n4                                   NaN   \n...                                 ...   \n57351                               NaN   \n57352                               NaN   \n57353                               NaN   \n57354                               NaN   \n57355                               NaN   \n\n                            centroid_20x_type11  \\\n0       [23241.87684729064, 19030.774630541873]   \n1       [31774.84677419355, 13573.771505376344]   \n2      [36817.528894472365, 12145.604271356784]   \n3       [38461.992875647666, 13555.64378238342]   \n4                                           NaN   \n...                                         ...   \n57351                                       NaN   \n57352                                       NaN   \n57353                                       NaN   \n57354                                       NaN   \n57355                                       NaN   \n\n                                      contour_20x_type11  \n0      [[23243, 19028], [23242, 19028], [23242, 19028...  \n1      [[31774, 13572], [31774, 13572], [31773, 13572...  \n2      [[36820, 12143], [36820, 12144], [36819, 12144...  \n3      [[38463, 13551], [38463, 13551], [38462, 13551...  \n4                                                    NaN  \n...                                                  ...  \n57351                                                NaN  \n57352                                                NaN  \n57353                                                NaN  \n57354                                                NaN  \n57355                                                NaN  \n\n[57356 rows x 240 columns]",
      "text/html": "<div>\n<style scoped>\n    .dataframe tbody tr th:only-of-type {\n        vertical-align: middle;\n    }\n\n    .dataframe tbody tr th {\n        vertical-align: top;\n    }\n\n    .dataframe thead th {\n        text-align: right;\n    }\n</style>\n<table border=\"1\" class=\"dataframe\">\n  <thead>\n    <tr style=\"text-align: right;\">\n      <th></th>\n      <th>bbox_type2</th>\n      <th>centroid_type2</th>\n      <th>contour_type2</th>\n      <th>inroi_type2</th>\n      <th>resident_area_type2</th>\n      <th>c2t_distance_type2</th>\n      <th>Area_type2</th>\n      <th>Perimeter_type2</th>\n      <th>Circularity_type2</th>\n      <th>MA_type2</th>\n      <th>...</th>\n      <th>Extent_type11</th>\n      <th>EquiDia_type11</th>\n      <th>imID_type11</th>\n      <th>dist2nearest_type11</th>\n      <th>oriA_type11</th>\n      <th>oriB_type11</th>\n      <th>local_align_type11</th>\n      <th>bbox_20x_type11</th>\n      <th>centroid_20x_type11</th>\n      <th>contour_20x_type11</th>\n    </tr>\n  </thead>\n  <tbody>\n    <tr>\n      <th>0</th>\n      <td>[[47823, 34526], [47834, 34538]]</td>\n      <td>[47843.716894977166, 34516.93378995434]</td>\n      <td>[[47839, 34511], [47839, 34511], [47838, 34511...</td>\n      <td>4</td>\n      <td>57357</td>\n      <td>[71104.0, 70080.0, 67968.0, 67648.0, 65440.0, ...</td>\n      <td>51.5</td>\n      <td>36.569541</td>\n      <td>0.483925</td>\n      <td>14.607458</td>\n      <td>...</td>\n      <td>0.418182</td>\n      <td>7.653040</td>\n      <td>2022-06-07 13.29.45162897</td>\n      <td>8.062258</td>\n      <td>100.230293</td>\n      <td>121.238243</td>\n      <td>0.466269</td>\n      <td>[[23124, 19143], [23129, 19148]]</td>\n      <td>[23241.87684729064, 19030.774630541873]</td>\n      <td>[[23243, 19028], [23242, 19028], [23242, 19028...</td>\n    </tr>\n    <tr>\n      <th>1</th>\n      <td>[[48206, 31595], [48226, 31615]]</td>\n      <td>[49013.318181818184, 30808.53229665072]</td>\n      <td>[[49013, 30798], [49013, 30799], [49011, 30799...</td>\n      <td>4</td>\n      <td>57357</td>\n      <td>[68800.0, 68352.0, 65856.0, 65600.0, 62720.0, ...</td>\n      <td>303.0</td>\n      <td>68.404541</td>\n      <td>0.813734</td>\n      <td>20.563667</td>\n      <td>...</td>\n      <td>0.527778</td>\n      <td>4.918491</td>\n      <td>2022-06-07 13.29.45162897</td>\n      <td>70.066040</td>\n      <td>147.179016</td>\n      <td>115.431717</td>\n      <td>0.132018</td>\n      <td>[[32004, 13341], [32007, 13344]]</td>\n      <td>[31774.84677419355, 13573.771505376344]</td>\n      <td>[[31774, 13572], [31774, 13572], [31773, 13572...</td>\n    </tr>\n    <tr>\n      <th>2</th>\n      <td>[[48234, 31555], [48253, 31572]]</td>\n      <td>[48971.41365046536, 30835.81385729059]</td>\n      <td>[[48971, 30826], [48970, 30827], [48969, 30827...</td>\n      <td>4</td>\n      <td>57357</td>\n      <td>[68864.0, 68416.0, 65920.0, 65728.0, 62816.0, ...</td>\n      <td>234.0</td>\n      <td>63.378203</td>\n      <td>0.732059</td>\n      <td>19.714821</td>\n      <td>...</td>\n      <td>0.367521</td>\n      <td>7.399277</td>\n      <td>2022-06-07 13.29.45162897</td>\n      <td>18.973666</td>\n      <td>47.551579</td>\n      <td>48.870728</td>\n      <td>0.177923</td>\n      <td>[[36719, 12238], [36723, 12245]]</td>\n      <td>[36817.528894472365, 12145.604271356784]</td>\n      <td>[[36820, 12143], [36820, 12144], [36819, 12144...</td>\n    </tr>\n    <tr>\n      <th>3</th>\n      <td>[[48239, 31602], [48251, 31612]]</td>\n      <td>[49015.17877906977, 30836.77034883721]</td>\n      <td>[[49015, 30831], [49015, 30831], [49014, 30831...</td>\n      <td>4</td>\n      <td>57357</td>\n      <td>[68800.0, 68352.0, 65856.0, 65600.0, 62720.0, ...</td>\n      <td>79.0</td>\n      <td>40.064495</td>\n      <td>0.618469</td>\n      <td>11.910135</td>\n      <td>...</td>\n      <td>0.514620</td>\n      <td>10.585135</td>\n      <td>2022-06-07 13.29.45162897</td>\n      <td>26.655206</td>\n      <td>43.699333</td>\n      <td>48.536812</td>\n      <td>0.473651</td>\n      <td>[[38639, 13372], [38648, 13376]]</td>\n      <td>[38461.992875647666, 13555.64378238342]</td>\n      <td>[[38463, 13551], [38463, 13551], [38462, 13551...</td>\n    </tr>\n    <tr>\n      <th>4</th>\n      <td>[[48253, 31598], [48268, 31611]]</td>\n      <td>[49012.431677018634, 30852.905279503106]</td>\n      <td>[[49011, 30845], [49010, 30846], [49009, 30846...</td>\n      <td>4</td>\n      <td>57357</td>\n      <td>[68800.0, 68352.0, 65856.0, 65600.0, 62752.0, ...</td>\n      <td>149.5</td>\n      <td>47.963990</td>\n      <td>0.816621</td>\n      <td>15.649416</td>\n      <td>...</td>\n      <td>NaN</td>\n      <td>NaN</td>\n      <td>NaN</td>\n      <td>NaN</td>\n      <td>NaN</td>\n      <td>NaN</td>\n      <td>NaN</td>\n      <td>NaN</td>\n      <td>NaN</td>\n      <td>NaN</td>\n    </tr>\n    <tr>\n      <th>...</th>\n      <td>...</td>\n      <td>...</td>\n      <td>...</td>\n      <td>...</td>\n      <td>...</td>\n      <td>...</td>\n      <td>...</td>\n      <td>...</td>\n      <td>...</td>\n      <td>...</td>\n      <td>...</td>\n      <td>...</td>\n      <td>...</td>\n      <td>...</td>\n      <td>...</td>\n      <td>...</td>\n      <td>...</td>\n      <td>...</td>\n      <td>...</td>\n      <td>...</td>\n      <td>...</td>\n    </tr>\n    <tr>\n      <th>57351</th>\n      <td>[[93268, 27769], [93287, 27775]]</td>\n      <td>[93307.88819875776, 27742.231366459626]</td>\n      <td>[[93307, 27732], [93307, 27733], [93306, 27734...</td>\n      <td>3</td>\n      <td>141027</td>\n      <td>[23440.0, 23024.0, 22720.0, 22784.0, 23728.0, ...</td>\n      <td>71.5</td>\n      <td>44.242641</td>\n      <td>0.459022</td>\n      <td>19.422844</td>\n      <td>...</td>\n      <td>NaN</td>\n      <td>NaN</td>\n      <td>NaN</td>\n      <td>NaN</td>\n      <td>NaN</td>\n      <td>NaN</td>\n      <td>NaN</td>\n      <td>NaN</td>\n      <td>NaN</td>\n      <td>NaN</td>\n    </tr>\n    <tr>\n      <th>57352</th>\n      <td>[[93282, 27542], [93289, 27558]]</td>\n      <td>[93086.25192307692, 27749.084615384614]</td>\n      <td>[[93080, 27746], [93080, 27746], [93079, 27746...</td>\n      <td>3</td>\n      <td>141027</td>\n      <td>[23056.0, 22640.0, 22336.0, 22400.0, 23344.0, ...</td>\n      <td>54.5</td>\n      <td>43.899495</td>\n      <td>0.355375</td>\n      <td>16.125137</td>\n      <td>...</td>\n      <td>NaN</td>\n      <td>NaN</td>\n      <td>NaN</td>\n      <td>NaN</td>\n      <td>NaN</td>\n      <td>NaN</td>\n      <td>NaN</td>\n      <td>NaN</td>\n      <td>NaN</td>\n      <td>NaN</td>\n    </tr>\n    <tr>\n      <th>57353</th>\n      <td>[[93288, 27569], [93295, 27580]]</td>\n      <td>[93111.32180851063, 27755.172872340427]</td>\n      <td>[[93111, 27752], [93109, 27754], [93107, 27754...</td>\n      <td>3</td>\n      <td>141027</td>\n      <td>[23088.0, 22672.0, 22384.0, 22432.0, 23392.0, ...</td>\n      <td>39.0</td>\n      <td>27.721349</td>\n      <td>0.637743</td>\n      <td>10.299442</td>\n      <td>...</td>\n      <td>NaN</td>\n      <td>NaN</td>\n      <td>NaN</td>\n      <td>NaN</td>\n      <td>NaN</td>\n      <td>NaN</td>\n      <td>NaN</td>\n      <td>NaN</td>\n      <td>NaN</td>\n      <td>NaN</td>\n    </tr>\n    <tr>\n      <th>57354</th>\n      <td>[[93293, 27556], [93302, 27563]]</td>\n      <td>[93095.54838709677, 27761.65860215054]</td>\n      <td>[[93095, 27757], [93092, 27760], [93092, 27763...</td>\n      <td>3</td>\n      <td>141027</td>\n      <td>[23056.0, 22656.0, 22352.0, 22416.0, 23360.0, ...</td>\n      <td>42.5</td>\n      <td>27.135563</td>\n      <td>0.725306</td>\n      <td>9.056720</td>\n      <td>...</td>\n      <td>NaN</td>\n      <td>NaN</td>\n      <td>NaN</td>\n      <td>NaN</td>\n      <td>NaN</td>\n      <td>NaN</td>\n      <td>NaN</td>\n      <td>NaN</td>\n      <td>NaN</td>\n      <td>NaN</td>\n    </tr>\n    <tr>\n      <th>57355</th>\n      <td>[[93302, 27572], [93309, 27581]]</td>\n      <td>[93112.46820809248, 27769.52023121387]</td>\n      <td>[[93110, 27766], [93110, 27767], [93109, 27767...</td>\n      <td>3</td>\n      <td>141027</td>\n      <td>[23088.0, 22672.0, 22368.0, 22432.0, 23392.0, ...</td>\n      <td>37.0</td>\n      <td>25.313708</td>\n      <td>0.725605</td>\n      <td>9.092157</td>\n      <td>...</td>\n      <td>NaN</td>\n      <td>NaN</td>\n      <td>NaN</td>\n      <td>NaN</td>\n      <td>NaN</td>\n      <td>NaN</td>\n      <td>NaN</td>\n      <td>NaN</td>\n      <td>NaN</td>\n      <td>NaN</td>\n    </tr>\n  </tbody>\n</table>\n<p>57356 rows × 240 columns</p>\n</div>"
     },
     "execution_count": 10,
     "metadata": {},
     "output_type": "execute_result"
    }
   ],
   "source": [
    "expanded_df"
   ],
   "metadata": {
    "collapsed": false
   }
  },
  {
   "cell_type": "code",
   "execution_count": 4,
   "outputs": [
    {
     "ename": "NameError",
     "evalue": "name 'grouped' is not defined",
     "output_type": "error",
     "traceback": [
      "\u001B[1;31m---------------------------------------------------------------------------\u001B[0m",
      "\u001B[1;31mNameError\u001B[0m                                 Traceback (most recent call last)",
      "Cell \u001B[1;32mIn[4], line 1\u001B[0m\n\u001B[1;32m----> 1\u001B[0m \u001B[43mgrouped\u001B[49m\n",
      "\u001B[1;31mNameError\u001B[0m: name 'grouped' is not defined"
     ]
    }
   ],
   "source": [
    "grouped"
   ],
   "metadata": {
    "collapsed": false
   }
  },
  {
   "cell_type": "code",
   "execution_count": 5,
   "outputs": [
    {
     "ename": "KeyError",
     "evalue": "'inroi_type2'",
     "output_type": "error",
     "traceback": [
      "\u001B[1;31m---------------------------------------------------------------------------\u001B[0m",
      "\u001B[1;31mKeyError\u001B[0m                                  Traceback (most recent call last)",
      "File \u001B[1;32m~\\.conda\\envs\\wsi_analysis1\\lib\\site-packages\\pandas\\core\\indexes\\base.py:3803\u001B[0m, in \u001B[0;36mIndex.get_loc\u001B[1;34m(self, key, method, tolerance)\u001B[0m\n\u001B[0;32m   3802\u001B[0m \u001B[38;5;28;01mtry\u001B[39;00m:\n\u001B[1;32m-> 3803\u001B[0m     \u001B[38;5;28;01mreturn\u001B[39;00m \u001B[38;5;28;43mself\u001B[39;49m\u001B[38;5;241;43m.\u001B[39;49m\u001B[43m_engine\u001B[49m\u001B[38;5;241;43m.\u001B[39;49m\u001B[43mget_loc\u001B[49m\u001B[43m(\u001B[49m\u001B[43mcasted_key\u001B[49m\u001B[43m)\u001B[49m\n\u001B[0;32m   3804\u001B[0m \u001B[38;5;28;01mexcept\u001B[39;00m \u001B[38;5;167;01mKeyError\u001B[39;00m \u001B[38;5;28;01mas\u001B[39;00m err:\n",
      "File \u001B[1;32m~\\.conda\\envs\\wsi_analysis1\\lib\\site-packages\\pandas\\_libs\\index.pyx:138\u001B[0m, in \u001B[0;36mpandas._libs.index.IndexEngine.get_loc\u001B[1;34m()\u001B[0m\n",
      "File \u001B[1;32m~\\.conda\\envs\\wsi_analysis1\\lib\\site-packages\\pandas\\_libs\\index.pyx:165\u001B[0m, in \u001B[0;36mpandas._libs.index.IndexEngine.get_loc\u001B[1;34m()\u001B[0m\n",
      "File \u001B[1;32mpandas\\_libs\\hashtable_class_helper.pxi:5745\u001B[0m, in \u001B[0;36mpandas._libs.hashtable.PyObjectHashTable.get_item\u001B[1;34m()\u001B[0m\n",
      "File \u001B[1;32mpandas\\_libs\\hashtable_class_helper.pxi:5753\u001B[0m, in \u001B[0;36mpandas._libs.hashtable.PyObjectHashTable.get_item\u001B[1;34m()\u001B[0m\n",
      "\u001B[1;31mKeyError\u001B[0m: 'inroi_type2'",
      "\nThe above exception was the direct cause of the following exception:\n",
      "\u001B[1;31mKeyError\u001B[0m                                  Traceback (most recent call last)",
      "Cell \u001B[1;32mIn[5], line 1\u001B[0m\n\u001B[1;32m----> 1\u001B[0m \u001B[43mgrouped\u001B[49m\u001B[43m[\u001B[49m\u001B[38;5;124;43m\"\u001B[39;49m\u001B[38;5;124;43minroi_type2\u001B[39;49m\u001B[38;5;124;43m\"\u001B[39;49m\u001B[43m]\u001B[49m\n",
      "File \u001B[1;32m~\\.conda\\envs\\wsi_analysis1\\lib\\site-packages\\pandas\\core\\frame.py:3805\u001B[0m, in \u001B[0;36mDataFrame.__getitem__\u001B[1;34m(self, key)\u001B[0m\n\u001B[0;32m   3803\u001B[0m \u001B[38;5;28;01mif\u001B[39;00m \u001B[38;5;28mself\u001B[39m\u001B[38;5;241m.\u001B[39mcolumns\u001B[38;5;241m.\u001B[39mnlevels \u001B[38;5;241m>\u001B[39m \u001B[38;5;241m1\u001B[39m:\n\u001B[0;32m   3804\u001B[0m     \u001B[38;5;28;01mreturn\u001B[39;00m \u001B[38;5;28mself\u001B[39m\u001B[38;5;241m.\u001B[39m_getitem_multilevel(key)\n\u001B[1;32m-> 3805\u001B[0m indexer \u001B[38;5;241m=\u001B[39m \u001B[38;5;28;43mself\u001B[39;49m\u001B[38;5;241;43m.\u001B[39;49m\u001B[43mcolumns\u001B[49m\u001B[38;5;241;43m.\u001B[39;49m\u001B[43mget_loc\u001B[49m\u001B[43m(\u001B[49m\u001B[43mkey\u001B[49m\u001B[43m)\u001B[49m\n\u001B[0;32m   3806\u001B[0m \u001B[38;5;28;01mif\u001B[39;00m is_integer(indexer):\n\u001B[0;32m   3807\u001B[0m     indexer \u001B[38;5;241m=\u001B[39m [indexer]\n",
      "File \u001B[1;32m~\\.conda\\envs\\wsi_analysis1\\lib\\site-packages\\pandas\\core\\indexes\\base.py:3805\u001B[0m, in \u001B[0;36mIndex.get_loc\u001B[1;34m(self, key, method, tolerance)\u001B[0m\n\u001B[0;32m   3803\u001B[0m     \u001B[38;5;28;01mreturn\u001B[39;00m \u001B[38;5;28mself\u001B[39m\u001B[38;5;241m.\u001B[39m_engine\u001B[38;5;241m.\u001B[39mget_loc(casted_key)\n\u001B[0;32m   3804\u001B[0m \u001B[38;5;28;01mexcept\u001B[39;00m \u001B[38;5;167;01mKeyError\u001B[39;00m \u001B[38;5;28;01mas\u001B[39;00m err:\n\u001B[1;32m-> 3805\u001B[0m     \u001B[38;5;28;01mraise\u001B[39;00m \u001B[38;5;167;01mKeyError\u001B[39;00m(key) \u001B[38;5;28;01mfrom\u001B[39;00m \u001B[38;5;21;01merr\u001B[39;00m\n\u001B[0;32m   3806\u001B[0m \u001B[38;5;28;01mexcept\u001B[39;00m \u001B[38;5;167;01mTypeError\u001B[39;00m:\n\u001B[0;32m   3807\u001B[0m     \u001B[38;5;66;03m# If we have a listlike key, _check_indexing_error will raise\u001B[39;00m\n\u001B[0;32m   3808\u001B[0m     \u001B[38;5;66;03m#  InvalidIndexError. Otherwise we fall through and re-raise\u001B[39;00m\n\u001B[0;32m   3809\u001B[0m     \u001B[38;5;66;03m#  the TypeError.\u001B[39;00m\n\u001B[0;32m   3810\u001B[0m     \u001B[38;5;28mself\u001B[39m\u001B[38;5;241m.\u001B[39m_check_indexing_error(key)\n",
      "\u001B[1;31mKeyError\u001B[0m: 'inroi_type2'"
     ]
    }
   ],
   "source": [
    "grouped[\"inroi_type2\"]"
   ],
   "metadata": {
    "collapsed": false
   }
  },
  {
   "cell_type": "code",
   "execution_count": 9,
   "outputs": [
    {
     "data": {
      "text/plain": "   index  inroi_type2  resident_area_type2  Area_type2  Perimeter_type2  \\\n0      0            4                57357        51.5        36.569541   \n1      1            4                57357       303.0        68.404541   \n2      2            4                57357       234.0        63.378203   \n3      3            4                57357        79.0        40.064495   \n\n   Circularity_type2   MA_type2   ma_type2  orientation_type2  \\\n0           0.483925  14.607458   5.012929         139.064423   \n1           0.813734  20.563667  18.966291          67.867828   \n2           0.732059  19.714821  14.940122          21.635691   \n3           0.618469  11.910135   8.879769         162.085800   \n\n   AspectRatio_type2  ...  ma_type11  orientation_type11  AspectRatio_type11  \\\n0           2.913956  ...   5.520935           42.141922            2.081813   \n1           1.084222  ...   4.697136          145.923813            1.260763   \n2           1.319589  ...   4.583908           64.725357            2.994222   \n3           1.341266  ...   5.942382           16.640558            3.248883   \n\n   Sol_type11  Extent_type11  EquiDia_type11  dist2nearest_type11  \\\n0    0.884615       0.418182        7.653040             8.062258   \n1    0.926829       0.527778        4.918491            70.066040   \n2    0.834951       0.367521        7.399277            18.973666   \n3    0.902564       0.514620       10.585135            26.655206   \n\n   oriA_type11  oriB_type11  local_align_type11  \n0   100.230293   121.238243            0.466269  \n1   147.179016   115.431717            0.132018  \n2    47.551579    48.870728            0.177923  \n3    43.699333    48.536812            0.473651  \n\n[4 rows x 161 columns]",
      "text/html": "<div>\n<style scoped>\n    .dataframe tbody tr th:only-of-type {\n        vertical-align: middle;\n    }\n\n    .dataframe tbody tr th {\n        vertical-align: top;\n    }\n\n    .dataframe thead th {\n        text-align: right;\n    }\n</style>\n<table border=\"1\" class=\"dataframe\">\n  <thead>\n    <tr style=\"text-align: right;\">\n      <th></th>\n      <th>index</th>\n      <th>inroi_type2</th>\n      <th>resident_area_type2</th>\n      <th>Area_type2</th>\n      <th>Perimeter_type2</th>\n      <th>Circularity_type2</th>\n      <th>MA_type2</th>\n      <th>ma_type2</th>\n      <th>orientation_type2</th>\n      <th>AspectRatio_type2</th>\n      <th>...</th>\n      <th>ma_type11</th>\n      <th>orientation_type11</th>\n      <th>AspectRatio_type11</th>\n      <th>Sol_type11</th>\n      <th>Extent_type11</th>\n      <th>EquiDia_type11</th>\n      <th>dist2nearest_type11</th>\n      <th>oriA_type11</th>\n      <th>oriB_type11</th>\n      <th>local_align_type11</th>\n    </tr>\n  </thead>\n  <tbody>\n    <tr>\n      <th>0</th>\n      <td>0</td>\n      <td>4</td>\n      <td>57357</td>\n      <td>51.5</td>\n      <td>36.569541</td>\n      <td>0.483925</td>\n      <td>14.607458</td>\n      <td>5.012929</td>\n      <td>139.064423</td>\n      <td>2.913956</td>\n      <td>...</td>\n      <td>5.520935</td>\n      <td>42.141922</td>\n      <td>2.081813</td>\n      <td>0.884615</td>\n      <td>0.418182</td>\n      <td>7.653040</td>\n      <td>8.062258</td>\n      <td>100.230293</td>\n      <td>121.238243</td>\n      <td>0.466269</td>\n    </tr>\n    <tr>\n      <th>1</th>\n      <td>1</td>\n      <td>4</td>\n      <td>57357</td>\n      <td>303.0</td>\n      <td>68.404541</td>\n      <td>0.813734</td>\n      <td>20.563667</td>\n      <td>18.966291</td>\n      <td>67.867828</td>\n      <td>1.084222</td>\n      <td>...</td>\n      <td>4.697136</td>\n      <td>145.923813</td>\n      <td>1.260763</td>\n      <td>0.926829</td>\n      <td>0.527778</td>\n      <td>4.918491</td>\n      <td>70.066040</td>\n      <td>147.179016</td>\n      <td>115.431717</td>\n      <td>0.132018</td>\n    </tr>\n    <tr>\n      <th>2</th>\n      <td>2</td>\n      <td>4</td>\n      <td>57357</td>\n      <td>234.0</td>\n      <td>63.378203</td>\n      <td>0.732059</td>\n      <td>19.714821</td>\n      <td>14.940122</td>\n      <td>21.635691</td>\n      <td>1.319589</td>\n      <td>...</td>\n      <td>4.583908</td>\n      <td>64.725357</td>\n      <td>2.994222</td>\n      <td>0.834951</td>\n      <td>0.367521</td>\n      <td>7.399277</td>\n      <td>18.973666</td>\n      <td>47.551579</td>\n      <td>48.870728</td>\n      <td>0.177923</td>\n    </tr>\n    <tr>\n      <th>3</th>\n      <td>3</td>\n      <td>4</td>\n      <td>57357</td>\n      <td>79.0</td>\n      <td>40.064495</td>\n      <td>0.618469</td>\n      <td>11.910135</td>\n      <td>8.879769</td>\n      <td>162.085800</td>\n      <td>1.341266</td>\n      <td>...</td>\n      <td>5.942382</td>\n      <td>16.640558</td>\n      <td>3.248883</td>\n      <td>0.902564</td>\n      <td>0.514620</td>\n      <td>10.585135</td>\n      <td>26.655206</td>\n      <td>43.699333</td>\n      <td>48.536812</td>\n      <td>0.473651</td>\n    </tr>\n  </tbody>\n</table>\n<p>4 rows × 161 columns</p>\n</div>"
     },
     "execution_count": 9,
     "metadata": {},
     "output_type": "execute_result"
    }
   ],
   "source": [
    "expanded_df.reset_index()"
   ],
   "metadata": {
    "collapsed": false
   }
  },
  {
   "cell_type": "code",
   "execution_count": null,
   "outputs": [],
   "source": [],
   "metadata": {
    "collapsed": false
   }
  }
 ],
 "metadata": {
  "kernelspec": {
   "display_name": "Python 3",
   "language": "python",
   "name": "python3"
  },
  "language_info": {
   "codemirror_mode": {
    "name": "ipython",
    "version": 2
   },
   "file_extension": ".py",
   "mimetype": "text/x-python",
   "name": "python",
   "nbconvert_exporter": "python",
   "pygments_lexer": "ipython2",
   "version": "2.7.6"
  }
 },
 "nbformat": 4,
 "nbformat_minor": 0
}
