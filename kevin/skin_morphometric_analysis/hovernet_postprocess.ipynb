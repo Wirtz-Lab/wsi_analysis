{
 "cells": [
  {
   "cell_type": "markdown",
   "source": [
    "### This part is hovernet preprocess: After MATLAB part of analysis finished on the MATLAB code, this is for modifying some of the wsi(ndpi)src, roisrc, and ndpisrc so that we're only using the 214 image files that we want to use. The MATLAB all_output_concat was manually made by just copy and pasting contents of the each of the excel output files from the MATLAB workflow. After running hovernet workflow, manually add hovernet result to all_output_concat to match 1090 features.\n",
    "### These src's are used in the hovernet_json2df.py, just making sure all the src's are correct so that hovernet_json2df.py runs properly!"
   ],
   "metadata": {
    "collapsed": false
   }
  },
  {
   "cell_type": "code",
   "execution_count": 16,
   "outputs": [],
   "source": [
    "import pandas as pd\n",
    "import numpy as np\n",
    "import seaborn as sns\n",
    "import matplotlib.pyplot as plt\n",
    "import os\n",
    "import shutil\n",
    "import pickle\n",
    "from tqdm import tqdm"
   ],
   "metadata": {
    "collapsed": false
   }
  },
  {
   "cell_type": "code",
   "execution_count": null,
   "outputs": [],
   "source": [
    "xlsrc = r'\\\\shelter\\Kyu\\skin_aging\\clue_cohort\\CLUE_image_list_230207_v2.xlsx'\n",
    "ndpisrc = r'\\\\shelter\\Kyu\\skin_aging\\clue_cohort\\wsi'\n",
    "xl = pd.read_excel(xlsrc)\n",
    "xl_tmp = xl[xl[\"student score\"] > 1]\n",
    "wsi_list = xl_tmp.filename\n",
    "# create ndpi path:\n",
    "wsi_ndpi_list = [os.path.join(ndpisrc, x) for x in wsi_list]\n",
    "dst_src = r'\\\\shelter\\Kyu\\skin_aging\\clue_cohort\\wsi\\desired_wsi'\n",
    "for filename in wsi_ndpi_list:\n",
    "    shutil.copy(filename, dst_src)\n",
    "# create dl path:\n",
    "dlsrc = r'\\\\shelter\\Kyu\\skin_aging\\clue_cohort\\DLmask1um'\n",
    "wsi_list = [x.replace(\".ndpi\", \".tif\") for x in wsi_list]\n",
    "wsi_dl_list = [os.path.join(dlsrc, x) for x in wsi_list]\n",
    "dst_src1 = r'\\\\shelter\\Kyu\\skin_aging\\clue_cohort\\DLmask1um\\desired_DLmask'\n",
    "for filename in wsi_dl_list:\n",
    "    shutil.copy(filename, dst_src1)\n",
    "# create roi path:\n",
    "roisrc = r'\\\\shelter\\Kyu\\skin_aging\\clue_cohort\\annotations\\roi\\labeledmask_v2_021723'\n",
    "wsi_list = [x.replace(\".tif\", \".png\") for x in wsi_list]\n",
    "wsi_roi_list = [os.path.join(roisrc, x) for x in wsi_list]\n",
    "dst_src2 = r'\\\\shelter\\Kyu\\skin_aging\\clue_cohort\\annotations\\roi\\labeledmask_v2_021723\\desired_roi'\n",
    "for filename in wsi_roi_list:\n",
    "    shutil.copy(filename, dst_src2)"
   ],
   "metadata": {
    "collapsed": false
   }
  },
  {
   "cell_type": "markdown",
   "source": [],
   "metadata": {
    "collapsed": false
   }
  },
  {
   "cell_type": "markdown",
   "source": [
    "### This part is hovernet postprocess: This code belows processes the generated .pkl file from hovernet to the .xlsx file in a form that we desire:"
   ],
   "metadata": {
    "collapsed": false
   }
  },
  {
   "cell_type": "code",
   "execution_count": null,
   "outputs": [],
   "source": [
    "json = pd.read_json(r\"\\\\shelter\\Kyu\\skin_aging\\clue_cohort\\wsi\\hovernet_out\\json\\2022-06-07 13.18.40.json\", orient='index')\n",
    "json = pd.DataFrame(json[0].loc['nuc']).T.drop(columns=['type_prob'])\n",
    "json = json[json['contour'].map(len) > 5].reset_index(drop=True)\n",
    "json"
   ],
   "metadata": {
    "collapsed": false
   }
  },
  {
   "cell_type": "code",
   "execution_count": null,
   "outputs": [],
   "source": [
    "bbox_tmp = json[\"bbox\"].tolist()\n",
    "for idx in range(len(bbox_tmp)):\n",
    "    bbox_tmp[idx] = [[int(x/2),int(y/2)] for (x,y) in bbox_tmp[idx]]\n",
    "json[\"bbox\"] = bbox_tmp"
   ],
   "metadata": {
    "collapsed": false
   }
  },
  {
   "cell_type": "code",
   "execution_count": null,
   "outputs": [],
   "source": [
    "contour_tmp = json[\"centroid\"].tolist()\n",
    "contour_x1 = [contour_tmp[i][0]/2 for i in range(len(contour_tmp))]\n",
    "contour_y1 = [contour_tmp[i][1]/2 for i in range(len(contour_tmp))]\n",
    "new_contour_xy = list(zip(contour_x1,contour_y1))\n",
    "new_contour_xy = [[new_contour_xy[i][0],new_contour_xy[i][1]] for i in range(len(new_contour_xy))] #,int(new_contour_xy[i][1])\n",
    "json[\"centroid\"] = new_contour_xy"
   ],
   "metadata": {
    "collapsed": false
   }
  },
  {
   "cell_type": "markdown",
   "source": [],
   "metadata": {
    "collapsed": false
   }
  },
  {
   "cell_type": "code",
   "execution_count": null,
   "outputs": [],
   "source": [
    "contour_tmp = json[\"contour\"].tolist()\n",
    "for idx in range(len(contour_tmp)):\n",
    "    contour_tmp[idx] = [[int(x/2),int(y/2)] for (x,y) in contour_tmp[idx]]\n",
    "json[\"contour\"] = contour_tmp"
   ],
   "metadata": {
    "collapsed": false
   }
  },
  {
   "cell_type": "code",
   "execution_count": null,
   "outputs": [],
   "source": [
    "json"
   ],
   "metadata": {
    "collapsed": false
   }
  },
  {
   "cell_type": "code",
   "execution_count": null,
   "outputs": [],
   "source": [
    "import pandas as pd\n",
    "pkl = pd.read_pickle(r'\\\\shelter\\Kyu\\skin_aging\\clue_cohort\\wsi\\hovernet_out\\df\\2022-06-07 13.18.40.pkl')"
   ],
   "metadata": {
    "collapsed": false
   }
  },
  {
   "cell_type": "code",
   "execution_count": null,
   "outputs": [],
   "source": [
    "pkl"
   ],
   "metadata": {
    "collapsed": false
   }
  },
  {
   "cell_type": "code",
   "execution_count": null,
   "outputs": [],
   "source": [
    "bbox_tmp = pkl[\"bbox\"].tolist()\n",
    "for idx in range(len(bbox_tmp)):\n",
    "    bbox_tmp[idx] = [[int(x/2),int(y/2)] for (x,y) in bbox_tmp[idx]]\n",
    "pkl[\"bbox_20x\"] = bbox_tmp\n",
    "pkl['centroid_20x'] = pkl['centroid'].apply(lambda row: [_/2 for _ in row])\n",
    "contour_tmp = pkl[\"contour\"].tolist()\n",
    "for idx in range(len(contour_tmp)):\n",
    "    contour_tmp[idx] = [[int(x/2),int(y/2)] for (x,y) in contour_tmp[idx]]\n",
    "pkl[\"contour_20x\"] = contour_tmp"
   ],
   "metadata": {
    "collapsed": false
   }
  },
  {
   "cell_type": "code",
   "execution_count": 2,
   "outputs": [],
   "source": [
    "import os\n",
    "import pickle\n",
    "from tqdm import tqdm\n",
    "import pandas as pd\n",
    "import numpy as np"
   ],
   "metadata": {
    "collapsed": false
   }
  },
  {
   "cell_type": "code",
   "execution_count": 3,
   "outputs": [],
   "source": [
    "pkl_src=r'\\\\shelter\\Kyu\\skin_aging\\clue_cohort\\wsi\\hovernet_out\\df'\n",
    "output_src=r'\\\\shelter\\Kyu\\skin_aging\\clue_cohort\\wsi\\hovernet_out\\df\\output_excel'\n",
    "pkl_list = [x for x in os.listdir(pkl_src) if x.endswith(\".pkl\")]\n",
    "pkl_full_list = [os.path.join(pkl_src,x) for x in pkl_list]"
   ],
   "metadata": {
    "collapsed": false
   }
  },
  {
   "cell_type": "code",
   "execution_count": null,
   "outputs": [],
   "source": [
    "for idx, pkl in tqdm(enumerate(range(len(pkl_list))),desc=\"Pickle File Processed\",colour='red',total = len(pkl_list)):\n",
    "    with open(pkl_full_list[idx], 'rb') as f:\n",
    "        print(\"converting pkl to df:\")\n",
    "        df = pickle.load(f)\n",
    "        bbox_tmp = df[\"bbox\"].tolist()\n",
    "        for idx1 in range(len(bbox_tmp)):\n",
    "            bbox_tmp[idx1] = [[int(x/2),int(y/2)] for (x,y) in bbox_tmp[idx1]]\n",
    "        df[\"bbox_20x\"] = bbox_tmp\n",
    "        df['centroid_20x'] = df['centroid'].apply(lambda row: [_/2 for _ in row])\n",
    "\n",
    "        contour_tmp = df[\"contour\"].tolist()\n",
    "        for idx2 in range(len(contour_tmp)):\n",
    "            contour_tmp[idx2] = [[int(x/2),int(y/2)] for (x,y) in contour_tmp[idx2]]\n",
    "        df[\"contour_20x\"] = contour_tmp\n",
    "    # df dict, key is the type and the value is a DataFrame with the relevant rows\n",
    "    dfs_by_type = {}\n",
    "    for t in range(2, 12):\n",
    "        dfs_by_type[t] = df[df['type'] == t].reset_index(drop=True)\n",
    "\n",
    "    expanded_dfs = []\n",
    "    for t, df_t in dfs_by_type.items():\n",
    "        new_cols = {f\"{col}_type{t}\": df_t[col] for col in df_t.columns if col != 'type'}\n",
    "        expanded_dfs.append(pd.DataFrame(new_cols))\n",
    "\n",
    "    expanded_df = pd.concat(expanded_dfs, axis=1)\n",
    "    imID,_ = os.path.splitext(pkl_list[idx])\n",
    "    output_pth = os.path.join(output_src,imID + \".xlsx\")\n",
    "    # save original df\n",
    "    expanded_df.to_excel(output_pth, index=False)\n",
    "\n",
    "    print(\"calculating average\")\n",
    "    # todo: get the distances!\n",
    "\n",
    "    for col in expanded_df.columns:\n",
    "        if expanded_df[col].dtype not in [int, float]:\n",
    "            if col == \"inroi_type2\":\n",
    "                continue\n",
    "            expanded_df.drop(columns=col,inplace=True)\n",
    "    expanded_df = expanded_df.replace([np.inf, -np.inf], np.nan).dropna()\n",
    "\n",
    "    # drop cols with inroi in them\n",
    "    inroi_cols = [col for col in expanded_df.columns if 'inroi_type' in col]\n",
    "    expanded_df = expanded_df.drop(columns=inroi_cols)\n",
    "\n",
    "    # groupby and average now:\n",
    "    expanded_df = expanded_df.replace([np.inf, -np.inf, np.nan], np.nan)\n",
    "    grouped = expanded_df.groupby('inroi_type2')\n",
    "    grouped_list = [grouped.get_group(x) for x in grouped.groups]\n",
    "\n",
    "    finaldf = pd.DataFrame()\n",
    "    for idx in range(len(grouped_list)):\n",
    "        groupdf = pd.DataFrame(grouped_list[idx].mean(skipna=True)).T\n",
    "        finaldf = pd.concat([finaldf,groupdf])\n",
    "\n",
    "    # save average df\n",
    "    with pd.ExcelWriter(output_pth, engine='openpyxl', mode='a') as writer:\n",
    "        finaldf.to_excel(writer, sheet_name='averages', index=False)"
   ],
   "metadata": {
    "collapsed": false
   }
  },
  {
   "cell_type": "code",
   "execution_count": 4,
   "outputs": [
    {
     "name": "stdout",
     "output_type": "stream",
     "text": [
      "converting pkl to df:\n"
     ]
    }
   ],
   "source": [
    "with open(pkl_full_list[1], 'rb') as f:\n",
    "    print(\"converting pkl to df:\")\n",
    "    df = pickle.load(f)\n",
    "    bbox_tmp = df[\"bbox\"].tolist()\n",
    "    for idx1 in range(len(bbox_tmp)):\n",
    "        bbox_tmp[idx1] = [[int(x/2),int(y/2)] for (x,y) in bbox_tmp[idx1]]\n",
    "    df[\"bbox_20x\"] = bbox_tmp\n",
    "    df['centroid_20x'] = df['centroid'].apply(lambda row: [_/2 for _ in row])\n",
    "\n",
    "    contour_tmp = df[\"contour\"].tolist()\n",
    "    for idx2 in range(len(contour_tmp)):\n",
    "        contour_tmp[idx2] = [[int(x/2),int(y/2)] for (x,y) in contour_tmp[idx2]]\n",
    "    df[\"contour_20x\"] = contour_tmp\n",
    "# df dict, key is the type and the value is a DataFrame with the relevant rows\n",
    "dfs_by_type = {}\n",
    "for t in range(2, 12):\n",
    "    dfs_by_type[t] = df[df['type'] == t].reset_index(drop=True)\n",
    "\n",
    "expanded_dfs = []\n",
    "for t, df_t in dfs_by_type.items():\n",
    "    new_cols = {f\"{col}_type{t}\": df_t[col] for col in df_t.columns if col != 'type'}\n",
    "    expanded_dfs.append(pd.DataFrame(new_cols))\n",
    "\n",
    "expanded_df = pd.concat(expanded_dfs, axis=1)"
   ],
   "metadata": {
    "collapsed": false
   }
  },
  {
   "cell_type": "code",
   "execution_count": 4,
   "outputs": [
    {
     "data": {
      "text/plain": "                             bbox_type2  \\\n0      [[47823, 34526], [47834, 34538]]   \n1      [[48206, 31595], [48226, 31615]]   \n2      [[48234, 31555], [48253, 31572]]   \n3      [[48239, 31602], [48251, 31612]]   \n4      [[48253, 31598], [48268, 31611]]   \n...                                 ...   \n57351  [[93268, 27769], [93287, 27775]]   \n57352  [[93282, 27542], [93289, 27558]]   \n57353  [[93288, 27569], [93295, 27580]]   \n57354  [[93293, 27556], [93302, 27563]]   \n57355  [[93302, 27572], [93309, 27581]]   \n\n                                 centroid_type2  \\\n0       [47843.716894977166, 34516.93378995434]   \n1       [49013.318181818184, 30808.53229665072]   \n2        [48971.41365046536, 30835.81385729059]   \n3        [49015.17877906977, 30836.77034883721]   \n4      [49012.431677018634, 30852.905279503106]   \n...                                         ...   \n57351   [93307.88819875776, 27742.231366459626]   \n57352   [93086.25192307692, 27749.084615384614]   \n57353   [93111.32180851063, 27755.172872340427]   \n57354    [93095.54838709677, 27761.65860215054]   \n57355    [93112.46820809248, 27769.52023121387]   \n\n                                           contour_type2  inroi_type2  \\\n0      [[47839, 34511], [47839, 34511], [47838, 34511...            4   \n1      [[49013, 30798], [49013, 30799], [49011, 30799...            4   \n2      [[48971, 30826], [48970, 30827], [48969, 30827...            4   \n3      [[49015, 30831], [49015, 30831], [49014, 30831...            4   \n4      [[49011, 30845], [49010, 30846], [49009, 30846...            4   \n...                                                  ...          ...   \n57351  [[93307, 27732], [93307, 27733], [93306, 27734...            3   \n57352  [[93080, 27746], [93080, 27746], [93079, 27746...            3   \n57353  [[93111, 27752], [93109, 27754], [93107, 27754...            3   \n57354  [[93095, 27757], [93092, 27760], [93092, 27763...            3   \n57355  [[93110, 27766], [93110, 27767], [93109, 27767...            3   \n\n       resident_area_type2                                 c2t_distance_type2  \\\n0                    57357  [71104.0, 70080.0, 67968.0, 67648.0, 65440.0, ...   \n1                    57357  [68800.0, 68352.0, 65856.0, 65600.0, 62720.0, ...   \n2                    57357  [68864.0, 68416.0, 65920.0, 65728.0, 62816.0, ...   \n3                    57357  [68800.0, 68352.0, 65856.0, 65600.0, 62720.0, ...   \n4                    57357  [68800.0, 68352.0, 65856.0, 65600.0, 62752.0, ...   \n...                    ...                                                ...   \n57351               141027  [23440.0, 23024.0, 22720.0, 22784.0, 23728.0, ...   \n57352               141027  [23056.0, 22640.0, 22336.0, 22400.0, 23344.0, ...   \n57353               141027  [23088.0, 22672.0, 22384.0, 22432.0, 23392.0, ...   \n57354               141027  [23056.0, 22656.0, 22352.0, 22416.0, 23360.0, ...   \n57355               141027  [23088.0, 22672.0, 22368.0, 22432.0, 23392.0, ...   \n\n       Area_type2  Perimeter_type2  Circularity_type2   MA_type2  ...  \\\n0            51.5        36.569541           0.483925  14.607458  ...   \n1           303.0        68.404541           0.813734  20.563667  ...   \n2           234.0        63.378203           0.732059  19.714821  ...   \n3            79.0        40.064495           0.618469  11.910135  ...   \n4           149.5        47.963990           0.816621  15.649416  ...   \n...           ...              ...                ...        ...  ...   \n57351        71.5        44.242641           0.459022  19.422844  ...   \n57352        54.5        43.899495           0.355375  16.125137  ...   \n57353        39.0        27.721349           0.637743  10.299442  ...   \n57354        42.5        27.135563           0.725306   9.056720  ...   \n57355        37.0        25.313708           0.725605   9.092157  ...   \n\n       Extent_type11  EquiDia_type11                imID_type11  \\\n0           0.418182        7.653040  2022-06-07 13.29.45162897   \n1           0.527778        4.918491  2022-06-07 13.29.45162897   \n2           0.367521        7.399277  2022-06-07 13.29.45162897   \n3           0.514620       10.585135  2022-06-07 13.29.45162897   \n4                NaN             NaN                        NaN   \n...              ...             ...                        ...   \n57351            NaN             NaN                        NaN   \n57352            NaN             NaN                        NaN   \n57353            NaN             NaN                        NaN   \n57354            NaN             NaN                        NaN   \n57355            NaN             NaN                        NaN   \n\n       dist2nearest_type11  oriA_type11  oriB_type11 local_align_type11  \\\n0                 8.062258   100.230293   121.238243           0.466269   \n1                70.066040   147.179016   115.431717           0.132018   \n2                18.973666    47.551579    48.870728           0.177923   \n3                26.655206    43.699333    48.536812           0.473651   \n4                      NaN          NaN          NaN                NaN   \n...                    ...          ...          ...                ...   \n57351                  NaN          NaN          NaN                NaN   \n57352                  NaN          NaN          NaN                NaN   \n57353                  NaN          NaN          NaN                NaN   \n57354                  NaN          NaN          NaN                NaN   \n57355                  NaN          NaN          NaN                NaN   \n\n                        bbox_20x_type11  \\\n0      [[23124, 19143], [23129, 19148]]   \n1      [[32004, 13341], [32007, 13344]]   \n2      [[36719, 12238], [36723, 12245]]   \n3      [[38639, 13372], [38648, 13376]]   \n4                                   NaN   \n...                                 ...   \n57351                               NaN   \n57352                               NaN   \n57353                               NaN   \n57354                               NaN   \n57355                               NaN   \n\n                            centroid_20x_type11  \\\n0       [23241.87684729064, 19030.774630541873]   \n1       [31774.84677419355, 13573.771505376344]   \n2      [36817.528894472365, 12145.604271356784]   \n3       [38461.992875647666, 13555.64378238342]   \n4                                           NaN   \n...                                         ...   \n57351                                       NaN   \n57352                                       NaN   \n57353                                       NaN   \n57354                                       NaN   \n57355                                       NaN   \n\n                                      contour_20x_type11  \n0      [[23243, 19028], [23242, 19028], [23242, 19028...  \n1      [[31774, 13572], [31774, 13572], [31773, 13572...  \n2      [[36820, 12143], [36820, 12144], [36819, 12144...  \n3      [[38463, 13551], [38463, 13551], [38462, 13551...  \n4                                                    NaN  \n...                                                  ...  \n57351                                                NaN  \n57352                                                NaN  \n57353                                                NaN  \n57354                                                NaN  \n57355                                                NaN  \n\n[57356 rows x 240 columns]",
      "text/html": "<div>\n<style scoped>\n    .dataframe tbody tr th:only-of-type {\n        vertical-align: middle;\n    }\n\n    .dataframe tbody tr th {\n        vertical-align: top;\n    }\n\n    .dataframe thead th {\n        text-align: right;\n    }\n</style>\n<table border=\"1\" class=\"dataframe\">\n  <thead>\n    <tr style=\"text-align: right;\">\n      <th></th>\n      <th>bbox_type2</th>\n      <th>centroid_type2</th>\n      <th>contour_type2</th>\n      <th>inroi_type2</th>\n      <th>resident_area_type2</th>\n      <th>c2t_distance_type2</th>\n      <th>Area_type2</th>\n      <th>Perimeter_type2</th>\n      <th>Circularity_type2</th>\n      <th>MA_type2</th>\n      <th>...</th>\n      <th>Extent_type11</th>\n      <th>EquiDia_type11</th>\n      <th>imID_type11</th>\n      <th>dist2nearest_type11</th>\n      <th>oriA_type11</th>\n      <th>oriB_type11</th>\n      <th>local_align_type11</th>\n      <th>bbox_20x_type11</th>\n      <th>centroid_20x_type11</th>\n      <th>contour_20x_type11</th>\n    </tr>\n  </thead>\n  <tbody>\n    <tr>\n      <th>0</th>\n      <td>[[47823, 34526], [47834, 34538]]</td>\n      <td>[47843.716894977166, 34516.93378995434]</td>\n      <td>[[47839, 34511], [47839, 34511], [47838, 34511...</td>\n      <td>4</td>\n      <td>57357</td>\n      <td>[71104.0, 70080.0, 67968.0, 67648.0, 65440.0, ...</td>\n      <td>51.5</td>\n      <td>36.569541</td>\n      <td>0.483925</td>\n      <td>14.607458</td>\n      <td>...</td>\n      <td>0.418182</td>\n      <td>7.653040</td>\n      <td>2022-06-07 13.29.45162897</td>\n      <td>8.062258</td>\n      <td>100.230293</td>\n      <td>121.238243</td>\n      <td>0.466269</td>\n      <td>[[23124, 19143], [23129, 19148]]</td>\n      <td>[23241.87684729064, 19030.774630541873]</td>\n      <td>[[23243, 19028], [23242, 19028], [23242, 19028...</td>\n    </tr>\n    <tr>\n      <th>1</th>\n      <td>[[48206, 31595], [48226, 31615]]</td>\n      <td>[49013.318181818184, 30808.53229665072]</td>\n      <td>[[49013, 30798], [49013, 30799], [49011, 30799...</td>\n      <td>4</td>\n      <td>57357</td>\n      <td>[68800.0, 68352.0, 65856.0, 65600.0, 62720.0, ...</td>\n      <td>303.0</td>\n      <td>68.404541</td>\n      <td>0.813734</td>\n      <td>20.563667</td>\n      <td>...</td>\n      <td>0.527778</td>\n      <td>4.918491</td>\n      <td>2022-06-07 13.29.45162897</td>\n      <td>70.066040</td>\n      <td>147.179016</td>\n      <td>115.431717</td>\n      <td>0.132018</td>\n      <td>[[32004, 13341], [32007, 13344]]</td>\n      <td>[31774.84677419355, 13573.771505376344]</td>\n      <td>[[31774, 13572], [31774, 13572], [31773, 13572...</td>\n    </tr>\n    <tr>\n      <th>2</th>\n      <td>[[48234, 31555], [48253, 31572]]</td>\n      <td>[48971.41365046536, 30835.81385729059]</td>\n      <td>[[48971, 30826], [48970, 30827], [48969, 30827...</td>\n      <td>4</td>\n      <td>57357</td>\n      <td>[68864.0, 68416.0, 65920.0, 65728.0, 62816.0, ...</td>\n      <td>234.0</td>\n      <td>63.378203</td>\n      <td>0.732059</td>\n      <td>19.714821</td>\n      <td>...</td>\n      <td>0.367521</td>\n      <td>7.399277</td>\n      <td>2022-06-07 13.29.45162897</td>\n      <td>18.973666</td>\n      <td>47.551579</td>\n      <td>48.870728</td>\n      <td>0.177923</td>\n      <td>[[36719, 12238], [36723, 12245]]</td>\n      <td>[36817.528894472365, 12145.604271356784]</td>\n      <td>[[36820, 12143], [36820, 12144], [36819, 12144...</td>\n    </tr>\n    <tr>\n      <th>3</th>\n      <td>[[48239, 31602], [48251, 31612]]</td>\n      <td>[49015.17877906977, 30836.77034883721]</td>\n      <td>[[49015, 30831], [49015, 30831], [49014, 30831...</td>\n      <td>4</td>\n      <td>57357</td>\n      <td>[68800.0, 68352.0, 65856.0, 65600.0, 62720.0, ...</td>\n      <td>79.0</td>\n      <td>40.064495</td>\n      <td>0.618469</td>\n      <td>11.910135</td>\n      <td>...</td>\n      <td>0.514620</td>\n      <td>10.585135</td>\n      <td>2022-06-07 13.29.45162897</td>\n      <td>26.655206</td>\n      <td>43.699333</td>\n      <td>48.536812</td>\n      <td>0.473651</td>\n      <td>[[38639, 13372], [38648, 13376]]</td>\n      <td>[38461.992875647666, 13555.64378238342]</td>\n      <td>[[38463, 13551], [38463, 13551], [38462, 13551...</td>\n    </tr>\n    <tr>\n      <th>4</th>\n      <td>[[48253, 31598], [48268, 31611]]</td>\n      <td>[49012.431677018634, 30852.905279503106]</td>\n      <td>[[49011, 30845], [49010, 30846], [49009, 30846...</td>\n      <td>4</td>\n      <td>57357</td>\n      <td>[68800.0, 68352.0, 65856.0, 65600.0, 62752.0, ...</td>\n      <td>149.5</td>\n      <td>47.963990</td>\n      <td>0.816621</td>\n      <td>15.649416</td>\n      <td>...</td>\n      <td>NaN</td>\n      <td>NaN</td>\n      <td>NaN</td>\n      <td>NaN</td>\n      <td>NaN</td>\n      <td>NaN</td>\n      <td>NaN</td>\n      <td>NaN</td>\n      <td>NaN</td>\n      <td>NaN</td>\n    </tr>\n    <tr>\n      <th>...</th>\n      <td>...</td>\n      <td>...</td>\n      <td>...</td>\n      <td>...</td>\n      <td>...</td>\n      <td>...</td>\n      <td>...</td>\n      <td>...</td>\n      <td>...</td>\n      <td>...</td>\n      <td>...</td>\n      <td>...</td>\n      <td>...</td>\n      <td>...</td>\n      <td>...</td>\n      <td>...</td>\n      <td>...</td>\n      <td>...</td>\n      <td>...</td>\n      <td>...</td>\n      <td>...</td>\n    </tr>\n    <tr>\n      <th>57351</th>\n      <td>[[93268, 27769], [93287, 27775]]</td>\n      <td>[93307.88819875776, 27742.231366459626]</td>\n      <td>[[93307, 27732], [93307, 27733], [93306, 27734...</td>\n      <td>3</td>\n      <td>141027</td>\n      <td>[23440.0, 23024.0, 22720.0, 22784.0, 23728.0, ...</td>\n      <td>71.5</td>\n      <td>44.242641</td>\n      <td>0.459022</td>\n      <td>19.422844</td>\n      <td>...</td>\n      <td>NaN</td>\n      <td>NaN</td>\n      <td>NaN</td>\n      <td>NaN</td>\n      <td>NaN</td>\n      <td>NaN</td>\n      <td>NaN</td>\n      <td>NaN</td>\n      <td>NaN</td>\n      <td>NaN</td>\n    </tr>\n    <tr>\n      <th>57352</th>\n      <td>[[93282, 27542], [93289, 27558]]</td>\n      <td>[93086.25192307692, 27749.084615384614]</td>\n      <td>[[93080, 27746], [93080, 27746], [93079, 27746...</td>\n      <td>3</td>\n      <td>141027</td>\n      <td>[23056.0, 22640.0, 22336.0, 22400.0, 23344.0, ...</td>\n      <td>54.5</td>\n      <td>43.899495</td>\n      <td>0.355375</td>\n      <td>16.125137</td>\n      <td>...</td>\n      <td>NaN</td>\n      <td>NaN</td>\n      <td>NaN</td>\n      <td>NaN</td>\n      <td>NaN</td>\n      <td>NaN</td>\n      <td>NaN</td>\n      <td>NaN</td>\n      <td>NaN</td>\n      <td>NaN</td>\n    </tr>\n    <tr>\n      <th>57353</th>\n      <td>[[93288, 27569], [93295, 27580]]</td>\n      <td>[93111.32180851063, 27755.172872340427]</td>\n      <td>[[93111, 27752], [93109, 27754], [93107, 27754...</td>\n      <td>3</td>\n      <td>141027</td>\n      <td>[23088.0, 22672.0, 22384.0, 22432.0, 23392.0, ...</td>\n      <td>39.0</td>\n      <td>27.721349</td>\n      <td>0.637743</td>\n      <td>10.299442</td>\n      <td>...</td>\n      <td>NaN</td>\n      <td>NaN</td>\n      <td>NaN</td>\n      <td>NaN</td>\n      <td>NaN</td>\n      <td>NaN</td>\n      <td>NaN</td>\n      <td>NaN</td>\n      <td>NaN</td>\n      <td>NaN</td>\n    </tr>\n    <tr>\n      <th>57354</th>\n      <td>[[93293, 27556], [93302, 27563]]</td>\n      <td>[93095.54838709677, 27761.65860215054]</td>\n      <td>[[93095, 27757], [93092, 27760], [93092, 27763...</td>\n      <td>3</td>\n      <td>141027</td>\n      <td>[23056.0, 22656.0, 22352.0, 22416.0, 23360.0, ...</td>\n      <td>42.5</td>\n      <td>27.135563</td>\n      <td>0.725306</td>\n      <td>9.056720</td>\n      <td>...</td>\n      <td>NaN</td>\n      <td>NaN</td>\n      <td>NaN</td>\n      <td>NaN</td>\n      <td>NaN</td>\n      <td>NaN</td>\n      <td>NaN</td>\n      <td>NaN</td>\n      <td>NaN</td>\n      <td>NaN</td>\n    </tr>\n    <tr>\n      <th>57355</th>\n      <td>[[93302, 27572], [93309, 27581]]</td>\n      <td>[93112.46820809248, 27769.52023121387]</td>\n      <td>[[93110, 27766], [93110, 27767], [93109, 27767...</td>\n      <td>3</td>\n      <td>141027</td>\n      <td>[23088.0, 22672.0, 22368.0, 22432.0, 23392.0, ...</td>\n      <td>37.0</td>\n      <td>25.313708</td>\n      <td>0.725605</td>\n      <td>9.092157</td>\n      <td>...</td>\n      <td>NaN</td>\n      <td>NaN</td>\n      <td>NaN</td>\n      <td>NaN</td>\n      <td>NaN</td>\n      <td>NaN</td>\n      <td>NaN</td>\n      <td>NaN</td>\n      <td>NaN</td>\n      <td>NaN</td>\n    </tr>\n  </tbody>\n</table>\n<p>57356 rows × 240 columns</p>\n</div>"
     },
     "execution_count": 4,
     "metadata": {},
     "output_type": "execute_result"
    }
   ],
   "source": [
    "expanded_df"
   ],
   "metadata": {
    "collapsed": false
   }
  },
  {
   "cell_type": "code",
   "execution_count": 9,
   "outputs": [
    {
     "name": "stdout",
     "output_type": "stream",
     "text": [
      "processing column: c2t_distance_type2\n",
      "71104.0\n"
     ]
    },
    {
     "ename": "IndexError",
     "evalue": "invalid index to scalar variable.",
     "output_type": "error",
     "traceback": [
      "\u001B[1;31m---------------------------------------------------------------------------\u001B[0m",
      "\u001B[1;31mIndexError\u001B[0m                                Traceback (most recent call last)",
      "Cell \u001B[1;32mIn[9], line 15\u001B[0m\n\u001B[0;32m     13\u001B[0m \u001B[38;5;28;01mfor\u001B[39;00m \u001B[38;5;28mid\u001B[39m, row \u001B[38;5;129;01min\u001B[39;00m tmp_df\u001B[38;5;241m.\u001B[39miterrows(): \u001B[38;5;66;03m# id: 0~57356\u001B[39;00m\n\u001B[0;32m     14\u001B[0m     \u001B[38;5;28;01mfor\u001B[39;00m idx, value \u001B[38;5;129;01min\u001B[39;00m \u001B[38;5;28menumerate\u001B[39m(row): \u001B[38;5;66;03m# idx: 0~10\u001B[39;00m\n\u001B[1;32m---> 15\u001B[0m         \u001B[38;5;28mprint\u001B[39m(\u001B[43mvalue\u001B[49m\u001B[43m[\u001B[49m\u001B[38;5;241;43m0\u001B[39;49m\u001B[43m]\u001B[49m)\n\u001B[0;32m     16\u001B[0m         \u001B[38;5;28;01mif\u001B[39;00m \u001B[38;5;28misinstance\u001B[39m(value,\u001B[38;5;28mstr\u001B[39m):\n\u001B[0;32m     17\u001B[0m             \u001B[38;5;28;01mcontinue\u001B[39;00m\n",
      "\u001B[1;31mIndexError\u001B[0m: invalid index to scalar variable."
     ]
    }
   ],
   "source": [
    "c2t_distance_cols = expanded_df.filter(regex='c2t_distance').columns\n",
    "col_list = list(c2t_distance_cols)\n",
    "all_df = pd.DataFrame()\n",
    "for col in c2t_distance_cols:\n",
    "    print(\"processing column: {}\".format(col))\n",
    "    counter = col_list.index(str(col)) + 1 # 11 columns\n",
    "    tmp_df = expanded_df[[col]]\n",
    "    tmp_df = tmp_df[col]\n",
    "    tmp_df = tmp_df.to_frame() # series to df\n",
    "    for i in range(2, 13):\n",
    "        col_name = str(col) + \"_\" + str(i)\n",
    "        tmp_df[col_name] = '' # or premake all the columns\n",
    "    for id, row in tmp_df.iterrows(): # id: 0~57356\n",
    "        for idx, value in enumerate(row): # idx: 0~10\n",
    "            print(value[0])\n",
    "            if isinstance(value,str):\n",
    "                continue\n",
    "            if np.any(pd.isnull(value)):\n",
    "                tmp_df.iloc[id,(counter*(idx+1))] = np.nan\n",
    "            else:\n",
    "                tmp_df.iloc[id,(counter*(idx+1))] = value[idx]\n",
    "    all_df = pd.concat([all_df,tmp_df])"
   ],
   "metadata": {
    "collapsed": false
   }
  },
  {
   "cell_type": "code",
   "execution_count": 10,
   "outputs": [
    {
     "data": {
      "text/plain": "                                      c2t_distance_type2 c2t_distance_type2_2  \\\n0      [71104.0, 70080.0, 67968.0, 67648.0, 65440.0, ...              71104.0   \n1      [68800.0, 68352.0, 65856.0, 65600.0, 62720.0, ...                        \n2      [68864.0, 68416.0, 65920.0, 65728.0, 62816.0, ...                        \n3      [68800.0, 68352.0, 65856.0, 65600.0, 62720.0, ...                        \n4      [68800.0, 68352.0, 65856.0, 65600.0, 62752.0, ...                        \n...                                                  ...                  ...   \n57351  [23440.0, 23024.0, 22720.0, 22784.0, 23728.0, ...                        \n57352  [23056.0, 22640.0, 22336.0, 22400.0, 23344.0, ...                        \n57353  [23088.0, 22672.0, 22384.0, 22432.0, 23392.0, ...                        \n57354  [23056.0, 22656.0, 22352.0, 22416.0, 23360.0, ...                        \n57355  [23088.0, 22672.0, 22368.0, 22432.0, 23392.0, ...                        \n\n      c2t_distance_type2_3 c2t_distance_type2_4 c2t_distance_type2_5  \\\n0                                                                      \n1                                                                      \n2                                                                      \n3                                                                      \n4                                                                      \n...                    ...                  ...                  ...   \n57351                                                                  \n57352                                                                  \n57353                                                                  \n57354                                                                  \n57355                                                                  \n\n      c2t_distance_type2_6 c2t_distance_type2_7 c2t_distance_type2_8  \\\n0                                                                      \n1                                                                      \n2                                                                      \n3                                                                      \n4                                                                      \n...                    ...                  ...                  ...   \n57351                                                                  \n57352                                                                  \n57353                                                                  \n57354                                                                  \n57355                                                                  \n\n      c2t_distance_type2_9 c2t_distance_type2_10 c2t_distance_type2_11  \\\n0                                                                        \n1                                                                        \n2                                                                        \n3                                                                        \n4                                                                        \n...                    ...                   ...                   ...   \n57351                                                                    \n57352                                                                    \n57353                                                                    \n57354                                                                    \n57355                                                                    \n\n      c2t_distance_type2_12  \n0                            \n1                            \n2                            \n3                            \n4                            \n...                     ...  \n57351                        \n57352                        \n57353                        \n57354                        \n57355                        \n\n[57356 rows x 12 columns]",
      "text/html": "<div>\n<style scoped>\n    .dataframe tbody tr th:only-of-type {\n        vertical-align: middle;\n    }\n\n    .dataframe tbody tr th {\n        vertical-align: top;\n    }\n\n    .dataframe thead th {\n        text-align: right;\n    }\n</style>\n<table border=\"1\" class=\"dataframe\">\n  <thead>\n    <tr style=\"text-align: right;\">\n      <th></th>\n      <th>c2t_distance_type2</th>\n      <th>c2t_distance_type2_2</th>\n      <th>c2t_distance_type2_3</th>\n      <th>c2t_distance_type2_4</th>\n      <th>c2t_distance_type2_5</th>\n      <th>c2t_distance_type2_6</th>\n      <th>c2t_distance_type2_7</th>\n      <th>c2t_distance_type2_8</th>\n      <th>c2t_distance_type2_9</th>\n      <th>c2t_distance_type2_10</th>\n      <th>c2t_distance_type2_11</th>\n      <th>c2t_distance_type2_12</th>\n    </tr>\n  </thead>\n  <tbody>\n    <tr>\n      <th>0</th>\n      <td>[71104.0, 70080.0, 67968.0, 67648.0, 65440.0, ...</td>\n      <td>71104.0</td>\n      <td></td>\n      <td></td>\n      <td></td>\n      <td></td>\n      <td></td>\n      <td></td>\n      <td></td>\n      <td></td>\n      <td></td>\n      <td></td>\n    </tr>\n    <tr>\n      <th>1</th>\n      <td>[68800.0, 68352.0, 65856.0, 65600.0, 62720.0, ...</td>\n      <td></td>\n      <td></td>\n      <td></td>\n      <td></td>\n      <td></td>\n      <td></td>\n      <td></td>\n      <td></td>\n      <td></td>\n      <td></td>\n      <td></td>\n    </tr>\n    <tr>\n      <th>2</th>\n      <td>[68864.0, 68416.0, 65920.0, 65728.0, 62816.0, ...</td>\n      <td></td>\n      <td></td>\n      <td></td>\n      <td></td>\n      <td></td>\n      <td></td>\n      <td></td>\n      <td></td>\n      <td></td>\n      <td></td>\n      <td></td>\n    </tr>\n    <tr>\n      <th>3</th>\n      <td>[68800.0, 68352.0, 65856.0, 65600.0, 62720.0, ...</td>\n      <td></td>\n      <td></td>\n      <td></td>\n      <td></td>\n      <td></td>\n      <td></td>\n      <td></td>\n      <td></td>\n      <td></td>\n      <td></td>\n      <td></td>\n    </tr>\n    <tr>\n      <th>4</th>\n      <td>[68800.0, 68352.0, 65856.0, 65600.0, 62752.0, ...</td>\n      <td></td>\n      <td></td>\n      <td></td>\n      <td></td>\n      <td></td>\n      <td></td>\n      <td></td>\n      <td></td>\n      <td></td>\n      <td></td>\n      <td></td>\n    </tr>\n    <tr>\n      <th>...</th>\n      <td>...</td>\n      <td>...</td>\n      <td>...</td>\n      <td>...</td>\n      <td>...</td>\n      <td>...</td>\n      <td>...</td>\n      <td>...</td>\n      <td>...</td>\n      <td>...</td>\n      <td>...</td>\n      <td>...</td>\n    </tr>\n    <tr>\n      <th>57351</th>\n      <td>[23440.0, 23024.0, 22720.0, 22784.0, 23728.0, ...</td>\n      <td></td>\n      <td></td>\n      <td></td>\n      <td></td>\n      <td></td>\n      <td></td>\n      <td></td>\n      <td></td>\n      <td></td>\n      <td></td>\n      <td></td>\n    </tr>\n    <tr>\n      <th>57352</th>\n      <td>[23056.0, 22640.0, 22336.0, 22400.0, 23344.0, ...</td>\n      <td></td>\n      <td></td>\n      <td></td>\n      <td></td>\n      <td></td>\n      <td></td>\n      <td></td>\n      <td></td>\n      <td></td>\n      <td></td>\n      <td></td>\n    </tr>\n    <tr>\n      <th>57353</th>\n      <td>[23088.0, 22672.0, 22384.0, 22432.0, 23392.0, ...</td>\n      <td></td>\n      <td></td>\n      <td></td>\n      <td></td>\n      <td></td>\n      <td></td>\n      <td></td>\n      <td></td>\n      <td></td>\n      <td></td>\n      <td></td>\n    </tr>\n    <tr>\n      <th>57354</th>\n      <td>[23056.0, 22656.0, 22352.0, 22416.0, 23360.0, ...</td>\n      <td></td>\n      <td></td>\n      <td></td>\n      <td></td>\n      <td></td>\n      <td></td>\n      <td></td>\n      <td></td>\n      <td></td>\n      <td></td>\n      <td></td>\n    </tr>\n    <tr>\n      <th>57355</th>\n      <td>[23088.0, 22672.0, 22368.0, 22432.0, 23392.0, ...</td>\n      <td></td>\n      <td></td>\n      <td></td>\n      <td></td>\n      <td></td>\n      <td></td>\n      <td></td>\n      <td></td>\n      <td></td>\n      <td></td>\n      <td></td>\n    </tr>\n  </tbody>\n</table>\n<p>57356 rows × 12 columns</p>\n</div>"
     },
     "execution_count": 10,
     "metadata": {},
     "output_type": "execute_result"
    }
   ],
   "source": [
    "tmp_df"
   ],
   "metadata": {
    "collapsed": false
   }
  },
  {
   "cell_type": "code",
   "execution_count": 13,
   "outputs": [
    {
     "ename": "IndexError",
     "evalue": "invalid index to scalar variable.",
     "output_type": "error",
     "traceback": [
      "\u001B[1;31m---------------------------------------------------------------------------\u001B[0m",
      "\u001B[1;31mIndexError\u001B[0m                                Traceback (most recent call last)",
      "Cell \u001B[1;32mIn[13], line 9\u001B[0m\n\u001B[0;32m      7\u001B[0m \u001B[38;5;28;01melse\u001B[39;00m:\n\u001B[0;32m      8\u001B[0m     tmp \u001B[38;5;241m=\u001B[39m value\n\u001B[1;32m----> 9\u001B[0m     tmp_df\u001B[38;5;241m.\u001B[39miloc[\u001B[38;5;28mid\u001B[39m,(counter\u001B[38;5;241m*\u001B[39m(idx\u001B[38;5;241m+\u001B[39m\u001B[38;5;241m1\u001B[39m))] \u001B[38;5;241m=\u001B[39m \u001B[43mtmp\u001B[49m\u001B[43m[\u001B[49m\u001B[43midx\u001B[49m\u001B[43m]\u001B[49m\n",
      "\u001B[1;31mIndexError\u001B[0m: invalid index to scalar variable."
     ]
    }
   ],
   "source": [
    "for id, row in tmp_df.iterrows(): # id: 0~57356\n",
    "    for idx, value in enumerate(row): # idx: 0~10\n",
    "        if isinstance(value,str):\n",
    "            continue\n",
    "        if np.any(pd.isnull(value)):\n",
    "            tmp_df.iloc[id,(counter*(idx+1))] = np.nan\n",
    "        else:\n",
    "            tmp = value\n",
    "            tmp_df.iloc[id,(counter*(idx+1))] = tmp[idx]"
   ],
   "metadata": {
    "collapsed": false
   }
  },
  {
   "cell_type": "code",
   "execution_count": 33,
   "outputs": [],
   "source": [
    "all_df.iloc[0,2] = 5.0"
   ],
   "metadata": {
    "collapsed": false
   }
  },
  {
   "cell_type": "code",
   "execution_count": 34,
   "outputs": [
    {
     "data": {
      "text/plain": "                                      c2t_distance_type2 c2t_distance_type2_2  \\\n0      [71104.0, 70080.0, 67968.0, 67648.0, 65440.0, ...                        \n1      [68800.0, 68352.0, 65856.0, 65600.0, 62720.0, ...                        \n2      [68864.0, 68416.0, 65920.0, 65728.0, 62816.0, ...                        \n3      [68800.0, 68352.0, 65856.0, 65600.0, 62720.0, ...                        \n4      [68800.0, 68352.0, 65856.0, 65600.0, 62752.0, ...                        \n...                                                  ...                  ...   \n57351                                                NaN                  NaN   \n57352                                                NaN                  NaN   \n57353                                                NaN                  NaN   \n57354                                                NaN                  NaN   \n57355                                                NaN                  NaN   \n\n      c2t_distance_type2_3 c2t_distance_type2_4 c2t_distance_type2_5  \\\n0                      5.0                                             \n1                                                                      \n2                                                                      \n3                                                                      \n4                                                                      \n...                    ...                  ...                  ...   \n57351                  NaN                  NaN                  NaN   \n57352                  NaN                  NaN                  NaN   \n57353                  NaN                  NaN                  NaN   \n57354                  NaN                  NaN                  NaN   \n57355                  NaN                  NaN                  NaN   \n\n      c2t_distance_type2_6 c2t_distance_type2_7 c2t_distance_type2_8  \\\n0                                                                      \n1                                                                      \n2                                                                      \n3                                                                      \n4                                                                      \n...                    ...                  ...                  ...   \n57351                  NaN                  NaN                  NaN   \n57352                  NaN                  NaN                  NaN   \n57353                  NaN                  NaN                  NaN   \n57354                  NaN                  NaN                  NaN   \n57355                  NaN                  NaN                  NaN   \n\n      c2t_distance_type2_9 c2t_distance_type2_10  ... c2t_distance_type11_4  \\\n0                                                 ...                   NaN   \n1                                                 ...                   NaN   \n2                                                 ...                   NaN   \n3                                                 ...                   NaN   \n4                                                 ...                   NaN   \n...                    ...                   ...  ...                   ...   \n57351                  NaN                   NaN  ...                         \n57352                  NaN                   NaN  ...                         \n57353                  NaN                   NaN  ...                         \n57354                  NaN                   NaN  ...                         \n57355                  NaN                   NaN  ...                         \n\n      c2t_distance_type11_5  c2t_distance_type11_6 c2t_distance_type11_7  \\\n0                       NaN                    NaN                   NaN   \n1                       NaN                    NaN                   NaN   \n2                       NaN                    NaN                   NaN   \n3                       NaN                    NaN                   NaN   \n4                       NaN                    NaN                   NaN   \n...                     ...                    ...                   ...   \n57351                                                                      \n57352                                                                      \n57353                                                                      \n57354                                                                      \n57355                                                                      \n\n      c2t_distance_type11_8 c2t_distance_type11_9 c2t_distance_type11_10  \\\n0                       NaN                   NaN                    NaN   \n1                       NaN                   NaN                    NaN   \n2                       NaN                   NaN                    NaN   \n3                       NaN                   NaN                    NaN   \n4                       NaN                   NaN                    NaN   \n...                     ...                   ...                    ...   \n57351                                                                      \n57352                                                                      \n57353                                                                      \n57354                                                                      \n57355                                                                      \n\n      c2t_distance_type11_11 c2t_distance_type11_12  10  \n0                        NaN                    NaN NaN  \n1                        NaN                    NaN NaN  \n2                        NaN                    NaN NaN  \n3                        NaN                    NaN NaN  \n4                        NaN                    NaN NaN  \n...                      ...                    ...  ..  \n57351                                               NaN  \n57352                                               NaN  \n57353                                               NaN  \n57354                                               NaN  \n57355                                               NaN  \n\n[573560 rows x 130 columns]",
      "text/html": "<div>\n<style scoped>\n    .dataframe tbody tr th:only-of-type {\n        vertical-align: middle;\n    }\n\n    .dataframe tbody tr th {\n        vertical-align: top;\n    }\n\n    .dataframe thead th {\n        text-align: right;\n    }\n</style>\n<table border=\"1\" class=\"dataframe\">\n  <thead>\n    <tr style=\"text-align: right;\">\n      <th></th>\n      <th>c2t_distance_type2</th>\n      <th>c2t_distance_type2_2</th>\n      <th>c2t_distance_type2_3</th>\n      <th>c2t_distance_type2_4</th>\n      <th>c2t_distance_type2_5</th>\n      <th>c2t_distance_type2_6</th>\n      <th>c2t_distance_type2_7</th>\n      <th>c2t_distance_type2_8</th>\n      <th>c2t_distance_type2_9</th>\n      <th>c2t_distance_type2_10</th>\n      <th>...</th>\n      <th>c2t_distance_type11_4</th>\n      <th>c2t_distance_type11_5</th>\n      <th>c2t_distance_type11_6</th>\n      <th>c2t_distance_type11_7</th>\n      <th>c2t_distance_type11_8</th>\n      <th>c2t_distance_type11_9</th>\n      <th>c2t_distance_type11_10</th>\n      <th>c2t_distance_type11_11</th>\n      <th>c2t_distance_type11_12</th>\n      <th>10</th>\n    </tr>\n  </thead>\n  <tbody>\n    <tr>\n      <th>0</th>\n      <td>[71104.0, 70080.0, 67968.0, 67648.0, 65440.0, ...</td>\n      <td></td>\n      <td>5.0</td>\n      <td></td>\n      <td></td>\n      <td></td>\n      <td></td>\n      <td></td>\n      <td></td>\n      <td></td>\n      <td>...</td>\n      <td>NaN</td>\n      <td>NaN</td>\n      <td>NaN</td>\n      <td>NaN</td>\n      <td>NaN</td>\n      <td>NaN</td>\n      <td>NaN</td>\n      <td>NaN</td>\n      <td>NaN</td>\n      <td>NaN</td>\n    </tr>\n    <tr>\n      <th>1</th>\n      <td>[68800.0, 68352.0, 65856.0, 65600.0, 62720.0, ...</td>\n      <td></td>\n      <td></td>\n      <td></td>\n      <td></td>\n      <td></td>\n      <td></td>\n      <td></td>\n      <td></td>\n      <td></td>\n      <td>...</td>\n      <td>NaN</td>\n      <td>NaN</td>\n      <td>NaN</td>\n      <td>NaN</td>\n      <td>NaN</td>\n      <td>NaN</td>\n      <td>NaN</td>\n      <td>NaN</td>\n      <td>NaN</td>\n      <td>NaN</td>\n    </tr>\n    <tr>\n      <th>2</th>\n      <td>[68864.0, 68416.0, 65920.0, 65728.0, 62816.0, ...</td>\n      <td></td>\n      <td></td>\n      <td></td>\n      <td></td>\n      <td></td>\n      <td></td>\n      <td></td>\n      <td></td>\n      <td></td>\n      <td>...</td>\n      <td>NaN</td>\n      <td>NaN</td>\n      <td>NaN</td>\n      <td>NaN</td>\n      <td>NaN</td>\n      <td>NaN</td>\n      <td>NaN</td>\n      <td>NaN</td>\n      <td>NaN</td>\n      <td>NaN</td>\n    </tr>\n    <tr>\n      <th>3</th>\n      <td>[68800.0, 68352.0, 65856.0, 65600.0, 62720.0, ...</td>\n      <td></td>\n      <td></td>\n      <td></td>\n      <td></td>\n      <td></td>\n      <td></td>\n      <td></td>\n      <td></td>\n      <td></td>\n      <td>...</td>\n      <td>NaN</td>\n      <td>NaN</td>\n      <td>NaN</td>\n      <td>NaN</td>\n      <td>NaN</td>\n      <td>NaN</td>\n      <td>NaN</td>\n      <td>NaN</td>\n      <td>NaN</td>\n      <td>NaN</td>\n    </tr>\n    <tr>\n      <th>4</th>\n      <td>[68800.0, 68352.0, 65856.0, 65600.0, 62752.0, ...</td>\n      <td></td>\n      <td></td>\n      <td></td>\n      <td></td>\n      <td></td>\n      <td></td>\n      <td></td>\n      <td></td>\n      <td></td>\n      <td>...</td>\n      <td>NaN</td>\n      <td>NaN</td>\n      <td>NaN</td>\n      <td>NaN</td>\n      <td>NaN</td>\n      <td>NaN</td>\n      <td>NaN</td>\n      <td>NaN</td>\n      <td>NaN</td>\n      <td>NaN</td>\n    </tr>\n    <tr>\n      <th>...</th>\n      <td>...</td>\n      <td>...</td>\n      <td>...</td>\n      <td>...</td>\n      <td>...</td>\n      <td>...</td>\n      <td>...</td>\n      <td>...</td>\n      <td>...</td>\n      <td>...</td>\n      <td>...</td>\n      <td>...</td>\n      <td>...</td>\n      <td>...</td>\n      <td>...</td>\n      <td>...</td>\n      <td>...</td>\n      <td>...</td>\n      <td>...</td>\n      <td>...</td>\n      <td>...</td>\n    </tr>\n    <tr>\n      <th>57351</th>\n      <td>NaN</td>\n      <td>NaN</td>\n      <td>NaN</td>\n      <td>NaN</td>\n      <td>NaN</td>\n      <td>NaN</td>\n      <td>NaN</td>\n      <td>NaN</td>\n      <td>NaN</td>\n      <td>NaN</td>\n      <td>...</td>\n      <td></td>\n      <td></td>\n      <td></td>\n      <td></td>\n      <td></td>\n      <td></td>\n      <td></td>\n      <td></td>\n      <td></td>\n      <td>NaN</td>\n    </tr>\n    <tr>\n      <th>57352</th>\n      <td>NaN</td>\n      <td>NaN</td>\n      <td>NaN</td>\n      <td>NaN</td>\n      <td>NaN</td>\n      <td>NaN</td>\n      <td>NaN</td>\n      <td>NaN</td>\n      <td>NaN</td>\n      <td>NaN</td>\n      <td>...</td>\n      <td></td>\n      <td></td>\n      <td></td>\n      <td></td>\n      <td></td>\n      <td></td>\n      <td></td>\n      <td></td>\n      <td></td>\n      <td>NaN</td>\n    </tr>\n    <tr>\n      <th>57353</th>\n      <td>NaN</td>\n      <td>NaN</td>\n      <td>NaN</td>\n      <td>NaN</td>\n      <td>NaN</td>\n      <td>NaN</td>\n      <td>NaN</td>\n      <td>NaN</td>\n      <td>NaN</td>\n      <td>NaN</td>\n      <td>...</td>\n      <td></td>\n      <td></td>\n      <td></td>\n      <td></td>\n      <td></td>\n      <td></td>\n      <td></td>\n      <td></td>\n      <td></td>\n      <td>NaN</td>\n    </tr>\n    <tr>\n      <th>57354</th>\n      <td>NaN</td>\n      <td>NaN</td>\n      <td>NaN</td>\n      <td>NaN</td>\n      <td>NaN</td>\n      <td>NaN</td>\n      <td>NaN</td>\n      <td>NaN</td>\n      <td>NaN</td>\n      <td>NaN</td>\n      <td>...</td>\n      <td></td>\n      <td></td>\n      <td></td>\n      <td></td>\n      <td></td>\n      <td></td>\n      <td></td>\n      <td></td>\n      <td></td>\n      <td>NaN</td>\n    </tr>\n    <tr>\n      <th>57355</th>\n      <td>NaN</td>\n      <td>NaN</td>\n      <td>NaN</td>\n      <td>NaN</td>\n      <td>NaN</td>\n      <td>NaN</td>\n      <td>NaN</td>\n      <td>NaN</td>\n      <td>NaN</td>\n      <td>NaN</td>\n      <td>...</td>\n      <td></td>\n      <td></td>\n      <td></td>\n      <td></td>\n      <td></td>\n      <td></td>\n      <td></td>\n      <td></td>\n      <td></td>\n      <td>NaN</td>\n    </tr>\n  </tbody>\n</table>\n<p>573560 rows × 130 columns</p>\n</div>"
     },
     "execution_count": 34,
     "metadata": {},
     "output_type": "execute_result"
    }
   ],
   "source": [
    "all_df"
   ],
   "metadata": {
    "collapsed": false
   }
  },
  {
   "cell_type": "code",
   "execution_count": 24,
   "outputs": [],
   "source": [
    "all_df.to_excel(r\"C:\\Users\\Kevin\\Desktop\\test.xlsx\")"
   ],
   "metadata": {
    "collapsed": false
   }
  },
  {
   "cell_type": "code",
   "execution_count": null,
   "outputs": [],
   "source": [
    "pd.concat([expanded_df,all_df])"
   ],
   "metadata": {
    "collapsed": false
   }
  },
  {
   "cell_type": "markdown",
   "source": [
    "### Then calculate CV of all of the values to complete 1090 features:"
   ],
   "metadata": {
    "collapsed": false
   }
  },
  {
   "cell_type": "code",
   "execution_count": null,
   "outputs": [],
   "source": [],
   "metadata": {
    "collapsed": false
   }
  }
 ],
 "metadata": {
  "kernelspec": {
   "display_name": "Python 3",
   "language": "python",
   "name": "python3"
  },
  "language_info": {
   "codemirror_mode": {
    "name": "ipython",
    "version": 2
   },
   "file_extension": ".py",
   "mimetype": "text/x-python",
   "name": "python",
   "nbconvert_exporter": "python",
   "pygments_lexer": "ipython2",
   "version": "2.7.6"
  }
 },
 "nbformat": 4,
 "nbformat_minor": 0
}
