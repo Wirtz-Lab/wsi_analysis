{
 "cells": [
  {
   "cell_type": "markdown",
   "source": [
    "### Code from create_poc_dataset.ipynb, exactly the same workflow, except that we now leave one out for test and use all the dataset for training. Note that after picking OTS_14684_3 as entirety, only the tiles with compositions not in ECM, Fat, and White are chosen (from the excel sheet)."
   ],
   "metadata": {
    "collapsed": false
   }
  },
  {
   "cell_type": "code",
   "execution_count": 1,
   "metadata": {
    "collapsed": true,
    "ExecuteTime": {
     "start_time": "2023-06-01T17:04:05.456076Z",
     "end_time": "2023-06-01T17:04:05.772518Z"
    }
   },
   "outputs": [],
   "source": [
    "### Main dataset, selecting all images but 1 WSI to train the US2mask segmentation model. Create the US-mask pair dataset below and create the train and test df to be used in training/inference:\n",
    "import pandas as pd\n",
    "import numpy as np\n",
    "import os\n",
    "import cv2\n",
    "from glob import glob\n",
    "from PIL import Image\n",
    "Image.MAX_IMAGE_PIXELS = None\n",
    "from tqdm import tqdm\n",
    "\n",
    "def calculate_tissue_composition(mask_image, num_classes=12):\n",
    "    total_pixels = mask_image.size\n",
    "    composition = np.zeros(num_classes)\n",
    "\n",
    "    for label in range(1, num_classes + 1):\n",
    "        mask = np.array(mask_image == label, dtype=np.uint8)\n",
    "        label_pixels = np.sum(mask)\n",
    "        composition[label - 1] = label_pixels / total_pixels\n",
    "    composition = np.round(composition, 3)\n",
    "    composition_freq = (composition > 0).astype('int')\n",
    "    return composition, composition_freq\n",
    "\n",
    "\n",
    "def create_train_test_df(train_mask_src_list, train_US_src_list):\n",
    "    \"\"\"\n",
    "    Assumes train_mask_src and train_US_src split is known b/w train and test, and they must be both equal lists of the filepaths to the mask and the US images.\n",
    "    \"\"\"\n",
    "    # initialize/create empty_df with column names:\n",
    "    all_df = pd.DataFrame(columns=[\"id\", \"wsi_name\", \"image_path\", \"mask_path\", \"composition\", \"composition_freq\"])\n",
    "\n",
    "    for src_idx in tqdm(range(len(train_mask_src_list)), colour='red', desc='WSI Processed'):\n",
    "        train_df = pd.DataFrame(columns=[\"id\", \"wsi_name\", \"image_path\", \"mask_path\"])  # reinitilize every WSI\n",
    "        train_df = train_df.reindex(range(len(train_mask_src_list)))\n",
    "        train_mask_src = train_mask_src_list[src_idx]\n",
    "        train_US_src = train_US_src_list[src_idx]\n",
    "        train_masklist = [os.path.join(train_mask_src, x) for x in os.listdir(train_mask_src)]\n",
    "        train_masklist = [x for x in train_masklist if x.endswith(\".png\")]\n",
    "        train_USlist = [os.path.join(train_US_src, x) for x in os.listdir(train_US_src)]\n",
    "        train_USlist = [x for x in train_USlist if x.endswith(\".png\")]\n",
    "        if len(train_USlist) != len(train_masklist):\n",
    "            print(\"Recheck the mask and US pair, number of files in one of the pairs is not equal for {} and {}\".format(\n",
    "                train_US_src, train_mask_src))\n",
    "        id_list, wsi_name_list, image_path_list, mask_path_list = [], [], [], []  # reinitialize every new WSI\n",
    "        for img_idx in tqdm(range(len(train_masklist)), colour='red', desc=\"Masks Processed per WSI\"):\n",
    "            masksrc = train_masklist[img_idx]\n",
    "            imgsrc = train_USlist[img_idx]\n",
    "            mask_img = np.array(Image.open(masksrc))\n",
    "            composition, composition_freq = calculate_tissue_composition(mask_img)\n",
    "            id = masksrc.split(\"\\\\\")[-1].split(\".png\")[0]\n",
    "            wsi_name = masksrc.split(\"\\\\\")[-2]\n",
    "            image_path = imgsrc\n",
    "            mask_path = masksrc\n",
    "            id_list.append(id)\n",
    "            wsi_name_list.append(wsi_name)\n",
    "            image_path_list.append(image_path)\n",
    "            mask_path_list.append(mask_path)\n",
    "            composition = np.array2string(composition)\n",
    "            composition_freq = np.array2string(composition_freq)\n",
    "            train_df.loc[img_idx, \"composition\"] = composition\n",
    "            train_df.loc[img_idx, \"composition_freq\"] = composition_freq\n",
    "        train_df[\"id\"] = id_list\n",
    "        train_df[\"wsi_name\"] = wsi_name_list\n",
    "        train_df[\"image_path\"] = image_path_list\n",
    "        train_df[\"mask_path\"] = mask_path_list\n",
    "        all_df = pd.concat([all_df, train_df], axis=0)\n",
    "    return all_df"
   ]
  },
  {
   "cell_type": "code",
   "execution_count": null,
   "outputs": [
    {
     "name": "stderr",
     "output_type": "stream",
     "text": [
      "WSI Processed:   0%|\u001B[31m          \u001B[0m| 0/5 [00:00<?, ?it/s]\n",
      "Masks Processed per WSI:   0%|\u001B[31m          \u001B[0m| 0/12905 [00:00<?, ?it/s]\u001B[A\n",
      "Masks Processed per WSI:   0%|\u001B[31m          \u001B[0m| 4/12905 [00:00<06:24, 33.55it/s]\u001B[A\n",
      "Masks Processed per WSI:   0%|\u001B[31m          \u001B[0m| 9/12905 [00:00<05:25, 39.58it/s]\u001B[A\n",
      "Masks Processed per WSI:   0%|\u001B[31m          \u001B[0m| 14/12905 [00:00<05:10, 41.48it/s]\u001B[A\n",
      "Masks Processed per WSI:   0%|\u001B[31m          \u001B[0m| 19/12905 [00:00<05:08, 41.82it/s]\u001B[A\n",
      "Masks Processed per WSI:   0%|\u001B[31m          \u001B[0m| 24/12905 [00:00<05:04, 42.28it/s]\u001B[A\n",
      "Masks Processed per WSI:   0%|\u001B[31m          \u001B[0m| 29/12905 [00:00<04:56, 43.38it/s]\u001B[A\n",
      "Masks Processed per WSI:   0%|\u001B[31m          \u001B[0m| 34/12905 [00:00<04:51, 44.22it/s]\u001B[A\n",
      "Masks Processed per WSI:   0%|\u001B[31m          \u001B[0m| 39/12905 [00:00<04:47, 44.78it/s]\u001B[A\n",
      "Masks Processed per WSI:   0%|\u001B[31m          \u001B[0m| 44/12905 [00:01<04:52, 44.04it/s]\u001B[A\n",
      "Masks Processed per WSI:   0%|\u001B[31m          \u001B[0m| 49/12905 [00:01<05:05, 42.13it/s]\u001B[A\n",
      "Masks Processed per WSI:   0%|\u001B[31m          \u001B[0m| 54/12905 [00:01<05:14, 40.82it/s]\u001B[A\n",
      "Masks Processed per WSI:   0%|\u001B[31m          \u001B[0m| 59/12905 [00:01<05:04, 42.17it/s]\u001B[A\n",
      "Masks Processed per WSI:   0%|\u001B[31m          \u001B[0m| 64/12905 [00:01<05:04, 42.17it/s]\u001B[A\n",
      "Masks Processed per WSI:   1%|\u001B[31m          \u001B[0m| 69/12905 [00:01<05:02, 42.49it/s]\u001B[A\n",
      "Masks Processed per WSI:   1%|\u001B[31m          \u001B[0m| 74/12905 [00:01<04:55, 43.35it/s]\u001B[A\n",
      "Masks Processed per WSI:   1%|\u001B[31m          \u001B[0m| 79/12905 [00:01<04:50, 44.12it/s]\u001B[A\n",
      "Masks Processed per WSI:   1%|\u001B[31m          \u001B[0m| 84/12905 [00:01<04:47, 44.56it/s]\u001B[A\n",
      "Masks Processed per WSI:   1%|\u001B[31m          \u001B[0m| 89/12905 [00:02<04:43, 45.23it/s]\u001B[A\n",
      "Masks Processed per WSI:   1%|\u001B[31m          \u001B[0m| 94/12905 [00:02<04:56, 43.22it/s]\u001B[A\n",
      "Masks Processed per WSI:   1%|\u001B[31m          \u001B[0m| 99/12905 [00:02<04:58, 42.97it/s]\u001B[A\n",
      "Masks Processed per WSI:   1%|\u001B[31m          \u001B[0m| 104/12905 [00:02<04:51, 43.84it/s]\u001B[A\n",
      "Masks Processed per WSI:   1%|\u001B[31m          \u001B[0m| 109/12905 [00:02<04:46, 44.59it/s]\u001B[A\n",
      "Masks Processed per WSI:   1%|\u001B[31m          \u001B[0m| 114/12905 [00:02<04:44, 45.01it/s]\u001B[A\n",
      "Masks Processed per WSI:   1%|\u001B[31m          \u001B[0m| 119/12905 [00:02<04:39, 45.70it/s]\u001B[A\n",
      "Masks Processed per WSI:   1%|\u001B[31m          \u001B[0m| 124/12905 [00:02<04:36, 46.24it/s]\u001B[A\n",
      "Masks Processed per WSI:   1%|\u001B[31m          \u001B[0m| 129/12905 [00:02<04:34, 46.53it/s]\u001B[A\n",
      "Masks Processed per WSI:   1%|\u001B[31m          \u001B[0m| 134/12905 [00:03<04:35, 46.38it/s]\u001B[A\n",
      "Masks Processed per WSI:   1%|\u001B[31m          \u001B[0m| 139/12905 [00:03<04:42, 45.15it/s]\u001B[A\n",
      "Masks Processed per WSI:   1%|\u001B[31m          \u001B[0m| 144/12905 [00:03<04:47, 44.32it/s]\u001B[A\n",
      "Masks Processed per WSI:   1%|\u001B[31m          \u001B[0m| 149/12905 [00:03<04:45, 44.70it/s]\u001B[A\n",
      "Masks Processed per WSI:   1%|\u001B[31m          \u001B[0m| 154/12905 [00:03<04:39, 45.58it/s]\u001B[A\n",
      "Masks Processed per WSI:   1%|\u001B[31m          \u001B[0m| 159/12905 [00:03<04:38, 45.71it/s]\u001B[A\n",
      "Masks Processed per WSI:   1%|\u001B[31m▏         \u001B[0m| 164/12905 [00:03<04:39, 45.64it/s]\u001B[A\n",
      "Masks Processed per WSI:   1%|\u001B[31m▏         \u001B[0m| 169/12905 [00:03<04:45, 44.65it/s]\u001B[A\n",
      "Masks Processed per WSI:   1%|\u001B[31m▏         \u001B[0m| 174/12905 [00:03<04:49, 43.99it/s]\u001B[A\n",
      "Masks Processed per WSI:   1%|\u001B[31m▏         \u001B[0m| 179/12905 [00:04<05:02, 42.01it/s]\u001B[A\n",
      "Masks Processed per WSI:   1%|\u001B[31m▏         \u001B[0m| 184/12905 [00:04<05:05, 41.69it/s]\u001B[A\n",
      "Masks Processed per WSI:   1%|\u001B[31m▏         \u001B[0m| 189/12905 [00:04<05:01, 42.20it/s]\u001B[A\n",
      "Masks Processed per WSI:   2%|\u001B[31m▏         \u001B[0m| 194/12905 [00:04<04:55, 43.03it/s]\u001B[A\n",
      "Masks Processed per WSI:   2%|\u001B[31m▏         \u001B[0m| 199/12905 [00:04<04:54, 43.10it/s]\u001B[A\n",
      "Masks Processed per WSI:   2%|\u001B[31m▏         \u001B[0m| 204/12905 [00:04<04:57, 42.74it/s]\u001B[A\n",
      "Masks Processed per WSI:   2%|\u001B[31m▏         \u001B[0m| 209/12905 [00:04<04:59, 42.40it/s]\u001B[A\n",
      "Masks Processed per WSI:   2%|\u001B[31m▏         \u001B[0m| 214/12905 [00:04<05:03, 41.80it/s]\u001B[A\n",
      "Masks Processed per WSI:   2%|\u001B[31m▏         \u001B[0m| 219/12905 [00:05<05:09, 41.02it/s]\u001B[A\n",
      "Masks Processed per WSI:   2%|\u001B[31m▏         \u001B[0m| 224/12905 [00:05<05:26, 38.87it/s]\u001B[A\n",
      "Masks Processed per WSI:   2%|\u001B[31m▏         \u001B[0m| 228/12905 [00:05<05:30, 38.41it/s]\u001B[A\n",
      "Masks Processed per WSI:   2%|\u001B[31m▏         \u001B[0m| 232/12905 [00:05<05:26, 38.76it/s]\u001B[A\n",
      "Masks Processed per WSI:   2%|\u001B[31m▏         \u001B[0m| 237/12905 [00:05<05:23, 39.19it/s]\u001B[A\n",
      "Masks Processed per WSI:   2%|\u001B[31m▏         \u001B[0m| 241/12905 [00:05<08:31, 24.75it/s]\u001B[A\n",
      "Masks Processed per WSI:   2%|\u001B[31m▏         \u001B[0m| 246/12905 [00:05<07:26, 28.32it/s]\u001B[A\n",
      "Masks Processed per WSI:   2%|\u001B[31m▏         \u001B[0m| 250/12905 [00:06<06:57, 30.33it/s]\u001B[A\n",
      "Masks Processed per WSI:   2%|\u001B[31m▏         \u001B[0m| 254/12905 [00:06<06:44, 31.30it/s]\u001B[A\n",
      "Masks Processed per WSI:   2%|\u001B[31m▏         \u001B[0m| 258/12905 [00:06<09:24, 22.40it/s]\u001B[A\n",
      "Masks Processed per WSI:   2%|\u001B[31m▏         \u001B[0m| 263/12905 [00:06<07:49, 26.92it/s]\u001B[A\n",
      "Masks Processed per WSI:   2%|\u001B[31m▏         \u001B[0m| 268/12905 [00:06<06:45, 31.19it/s]\u001B[A\n",
      "Masks Processed per WSI:   2%|\u001B[31m▏         \u001B[0m| 273/12905 [00:07<09:42, 21.70it/s]\u001B[A\n",
      "Masks Processed per WSI:   2%|\u001B[31m▏         \u001B[0m| 278/12905 [00:07<08:13, 25.57it/s]\u001B[A\n",
      "Masks Processed per WSI:   2%|\u001B[31m▏         \u001B[0m| 283/12905 [00:07<07:11, 29.26it/s]\u001B[A\n",
      "Masks Processed per WSI:   2%|\u001B[31m▏         \u001B[0m| 288/12905 [00:07<06:23, 32.86it/s]\u001B[A\n",
      "Masks Processed per WSI:   2%|\u001B[31m▏         \u001B[0m| 292/12905 [00:07<06:07, 34.33it/s]\u001B[A\n",
      "Masks Processed per WSI:   2%|\u001B[31m▏         \u001B[0m| 297/12905 [00:07<05:45, 36.47it/s]\u001B[A\n",
      "Masks Processed per WSI:   2%|\u001B[31m▏         \u001B[0m| 302/12905 [00:07<05:23, 38.99it/s]\u001B[A\n",
      "Masks Processed per WSI:   2%|\u001B[31m▏         \u001B[0m| 307/12905 [00:07<05:17, 39.72it/s]\u001B[A\n",
      "Masks Processed per WSI:   2%|\u001B[31m▏         \u001B[0m| 312/12905 [00:08<05:08, 40.83it/s]\u001B[A\n",
      "Masks Processed per WSI:   2%|\u001B[31m▏         \u001B[0m| 317/12905 [00:08<05:28, 38.27it/s]\u001B[A\n",
      "Masks Processed per WSI:   2%|\u001B[31m▏         \u001B[0m| 321/12905 [00:08<05:28, 38.25it/s]\u001B[A\n",
      "Masks Processed per WSI:   3%|\u001B[31m▎         \u001B[0m| 326/12905 [00:08<05:16, 39.80it/s]\u001B[A\n",
      "Masks Processed per WSI:   3%|\u001B[31m▎         \u001B[0m| 331/12905 [00:08<05:07, 40.92it/s]\u001B[A\n",
      "Masks Processed per WSI:   3%|\u001B[31m▎         \u001B[0m| 336/12905 [00:08<04:57, 42.24it/s]\u001B[A\n",
      "Masks Processed per WSI:   3%|\u001B[31m▎         \u001B[0m| 341/12905 [00:08<04:59, 42.00it/s]\u001B[A\n",
      "Masks Processed per WSI:   3%|\u001B[31m▎         \u001B[0m| 346/12905 [00:08<04:49, 43.37it/s]\u001B[A\n",
      "Masks Processed per WSI:   3%|\u001B[31m▎         \u001B[0m| 351/12905 [00:08<04:39, 44.86it/s]\u001B[A\n",
      "Masks Processed per WSI:   3%|\u001B[31m▎         \u001B[0m| 356/12905 [00:09<07:50, 26.70it/s]\u001B[A\n",
      "Masks Processed per WSI:   3%|\u001B[31m▎         \u001B[0m| 361/12905 [00:09<06:49, 30.62it/s]\u001B[A\n",
      "Masks Processed per WSI:   3%|\u001B[31m▎         \u001B[0m| 366/12905 [00:09<06:08, 34.05it/s]\u001B[A"
     ]
    }
   ],
   "source": [
    "masksrc = r\"\\\\shelter\\Kyu\\unstain2mask\\masks\"\n",
    "USsrc = r\"\\\\shelter\\Kyu\\unstain2stain\\tiles\\registered_tiles\\US\"\n",
    "allmasksrc = [os.path.join(masksrc, x) for x in os.listdir(masksrc)]\n",
    "allUSsrc = [os.path.join(USsrc, x) for x in os.listdir(masksrc)]\n",
    "# # Let's just choose everything but OTS_14684_6 (that will be test data)\n",
    "del(allmasksrc[3])\n",
    "del(allUSsrc[3])\n",
    "poc_train_df = create_train_test_df(allmasksrc, allUSsrc)\n",
    "poc_train_df\n",
    "dst_src = r\"\\\\shelter\\Kyu\\unstain2mask\\main\"\n",
    "poc_train_df.to_excel(os.path.join(dst_src, \"train_df.xlsx\"))"
   ],
   "metadata": {
    "collapsed": false,
    "pycharm": {
     "is_executing": true
    }
   }
  },
  {
   "cell_type": "code",
   "execution_count": null,
   "outputs": [],
   "source": [
    "# do the same for inference to create test_df:\n",
    "masksrc = r\"\\\\shelter\\Kyu\\unstain2mask\\masks\"\n",
    "USsrc = r\"\\\\shelter\\Kyu\\unstain2stain\\tiles\\registered_tiles\\US\"\n",
    "allmasksrc = [os.path.join(masksrc, x) for x in os.listdir(masksrc)]\n",
    "allUSsrc = [os.path.join(USsrc, x) for x in os.listdir(masksrc)]\n",
    "# Let's just choose OTS_14684_6!\n",
    "poc_masksrc = allmasksrc[3]\n",
    "poc_USsrc = allUSsrc[3]\n",
    "poc_test_df = create_train_test_df([poc_masksrc], [poc_USsrc])\n",
    "poc_test_df\n",
    "dst_src = r\"\\\\shelter\\Kyu\\unstain2mask\\main\"\n",
    "poc_test_df.to_excel(os.path.join(dst_src, \"test_df.xlsx\"))"
   ],
   "metadata": {
    "collapsed": false,
    "pycharm": {
     "is_executing": true
    }
   }
  },
  {
   "cell_type": "code",
   "execution_count": null,
   "outputs": [],
   "source": [],
   "metadata": {
    "collapsed": false
   }
  }
 ],
 "metadata": {
  "kernelspec": {
   "display_name": "Python 3",
   "language": "python",
   "name": "python3"
  },
  "language_info": {
   "codemirror_mode": {
    "name": "ipython",
    "version": 2
   },
   "file_extension": ".py",
   "mimetype": "text/x-python",
   "name": "python",
   "nbconvert_exporter": "python",
   "pygments_lexer": "ipython2",
   "version": "2.7.6"
  }
 },
 "nbformat": 4,
 "nbformat_minor": 0
}
