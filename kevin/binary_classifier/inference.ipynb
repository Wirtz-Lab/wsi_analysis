{
 "cells": [
  {
   "cell_type": "code",
   "execution_count": 2,
   "metadata": {
    "collapsed": true
   },
   "outputs": [],
   "source": [
    "#import necessary modules:\n",
    "import os\n",
    "import numpy as np\n",
    "import pandas as pd\n",
    "from glob import glob\n",
    "from PIL import Image\n",
    "import torch\n",
    "import torch.nn as nn\n",
    "from torchvision.transforms import transforms\n",
    "from torch.utils.data import Dataset, DataLoader\n",
    "import timm\n",
    "import cv2\n",
    "import matplotlib\n",
    "import matplotlib.pyplot as plt\n",
    "matplotlib.style.use('ggplot')\n",
    "from tqdm import tqdm\n",
    "import random\n",
    "from sklearn.metrics import f1_score, confusion_matrix\n",
    "import seaborn as sns"
   ]
  },
  {
   "cell_type": "code",
   "execution_count": 3,
   "outputs": [],
   "source": [
    "class TestDataSet(Dataset):\n",
    "    #initialize transforms, the df, and directory for image and id\n",
    "    def __init__(self, df, transforms = None):\n",
    "        self.df = df\n",
    "        self.imagepaths = df[\"imagepath\"].tolist()\n",
    "        self.transforms = transforms\n",
    "\n",
    "    def __len__(self): # upperbound of idx (index), so how many images we have\n",
    "        return len(self.df) # length of df is how many images we have\n",
    "\n",
    "    def __getitem__(self,idx): # index = each row of df\n",
    "        # read image:\n",
    "        image_path = self.imagepaths[idx]\n",
    "        img = cv2.imread(image_path, cv2.COLOR_BGR2RGB)\n",
    "        img = Image.fromarray(img)\n",
    "        if self.transforms is not None:\n",
    "            image = self.transforms(img)\n",
    "        return torch.tensor(image)"
   ],
   "metadata": {
    "collapsed": false
   }
  },
  {
   "cell_type": "code",
   "execution_count": 4,
   "outputs": [],
   "source": [
    "# all model configs go here so that they can be changed when we want to:\n",
    "# Make sure this model_config is same as the train model_config when running inference:\n",
    "class model_config:\n",
    "    seed = 42\n",
    "    model_name = \"efficientnetv2_l\"\n",
    "    train_batch_size = 16\n",
    "    valid_batch_size = 39 # Test_df has 780 images, so 20 batches\n",
    "    epochs = 5\n",
    "    learning_rate = 0.001\n",
    "    scheduler = \"CosineAnnealingLR\"\n",
    "    T_max = int(30000/train_batch_size*epochs) # for cosineannealingLR, explore different values\n",
    "    weight_decay = 1e-6 # explore different weight decay (Adam optimizer)\n",
    "    n_accumulate = 1\n",
    "    device = torch.device(\"cuda:0\" if torch.cuda.is_available() else \"cpu\")\n",
    "    iters_to_accumulate = max(1,32//train_batch_size) # for scaling accumulated gradients\n",
    "    eta_min = 1e-5\n",
    "    model_save_directory = r\"\\\\fatherserverdw\\Kevin\\unstained_blank_classifier\\models\" #os.path.join(os.getcwd(),\"model\") #assuming os.getcwd is the wsi_analysis directory"
   ],
   "metadata": {
    "collapsed": false
   }
  },
  {
   "cell_type": "code",
   "execution_count": 5,
   "outputs": [],
   "source": [
    "# sets the seed of the entire notebook so results are the same every time we run for reproducibility. no randomness, everything is controlled.\n",
    "def set_seed(seed = 42):\n",
    "    np.random.seed(seed)\n",
    "    random.seed(seed)\n",
    "    torch.manual_seed(seed)\n",
    "    torch.cuda.manual_seed(seed)\n",
    "    # when running on the CuDNN backend, two further options must be set\n",
    "    torch.backends.cudnn.deterministic = True\n",
    "    torch.backends.cudnn.benchmark = False\n",
    "    # set a fixed value for the hash seed\n",
    "    os.environ['PYTHONHASHSEED'] = str(seed)\n",
    "\n",
    "set_seed(model_config.seed)"
   ],
   "metadata": {
    "collapsed": false
   }
  },
  {
   "cell_type": "code",
   "execution_count": 6,
   "outputs": [],
   "source": [
    "def return_f1_score(y_true,y_pred):\n",
    "    f_one_score = f1_score(y_true,y_pred)\n",
    "    return f_one_score"
   ],
   "metadata": {
    "collapsed": false
   }
  },
  {
   "cell_type": "code",
   "execution_count": 8,
   "outputs": [],
   "source": [
    "def build_model():\n",
    "    model = timm.create_model(model_config.model_name,pretrained=False)\n",
    "    num_features = model.classifier.in_features\n",
    "    model.classifier = nn.Linear(num_features,1) #in_features = 1280, out_features = 1, so that 0 or 1 binary classification\n",
    "    # model.add_module('sigmoid', nn.Sigmoid()) # obtain probability b/w 0 and 1\n",
    "    model.to(model_config.device) # model to gpu\n",
    "    return model"
   ],
   "metadata": {
    "collapsed": false
   }
  },
  {
   "cell_type": "code",
   "execution_count": 9,
   "outputs": [],
   "source": [
    "val_transform = transforms.Compose([\n",
    " # validate at 1024 x 1024, you want to use val dataset to real world application, but maybe resize to 384 if performance is bad.\n",
    "    #transforms.Resize(384),\n",
    "    transforms.ToTensor(),\n",
    "    transforms.Normalize(mean=[0.2966, 0.3003, 0.3049], std=[0.4215, 0.4267, 0.4332]) #calculated above mean & std\n",
    "])"
   ],
   "metadata": {
    "collapsed": false
   }
  },
  {
   "cell_type": "code",
   "execution_count": 10,
   "outputs": [],
   "source": [
    "@torch.no_grad()\n",
    "def infer(model_paths, test_loader, thr=0.5):\n",
    "    pred_classes = []\n",
    "    model = build_model()  #initialize the model outside the loop\n",
    "\n",
    "    for idx, image in enumerate(tqdm(test_loader, total=len(test_loader), desc='Inference')):\n",
    "        image = image.to(model_config.device, dtype=torch.float)\n",
    "        label = torch.zeros((model_config.valid_batch_size, 1), device=model_config.device) #BS x 1 empty tensor reinitialized for each batch\n",
    "\n",
    "        for path in model_paths:\n",
    "            model.load_state_dict(torch.load(path))\n",
    "            model.eval()\n",
    "            output = model(image)\n",
    "            output = nn.Sigmoid()(output) #0~1 probabilities\n",
    "            label += output #ensemble, add first\n",
    "\n",
    "        label /= len(model_paths)  #ensemble, average the probabilities\n",
    "        labels = (label > thr).to(torch.uint8).cpu().detach().numpy() # if > 0.5, 1 else <0.5, 0.\n",
    "        pred_classes.extend(labels)\n",
    "\n",
    "    pred_df = pd.DataFrame({\"predicted\": pred_classes})\n",
    "    return pred_df\n"
   ],
   "metadata": {
    "collapsed": false
   }
  },
  {
   "cell_type": "code",
   "execution_count": 11,
   "outputs": [
    {
     "data": {
      "text/plain": "     Unnamed: 0                                          imagepath  label\n0             0  \\\\shelter\\Kyu\\unstain2stain\\tiles\\registered_t...      1\n1             1  \\\\shelter\\Kyu\\unstain2stain\\tiles\\registered_t...      1\n2             2  \\\\shelter\\Kyu\\unstain2stain\\tiles\\registered_t...      1\n3             3  \\\\shelter\\Kyu\\unstain2stain\\tiles\\registered_t...      1\n4             4  \\\\shelter\\Kyu\\unstain2stain\\tiles\\registered_t...      1\n..          ...                                                ...    ...\n775         359  \\\\shelter\\Kyu\\unstain2stain\\tiles\\registered_t...      0\n776         360  \\\\shelter\\Kyu\\unstain2stain\\tiles\\registered_t...      0\n777         361  \\\\shelter\\Kyu\\unstain2stain\\tiles\\registered_t...      0\n778         362  \\\\shelter\\Kyu\\unstain2stain\\tiles\\registered_t...      0\n779         363  \\\\shelter\\Kyu\\unstain2stain\\tiles\\registered_t...      0\n\n[780 rows x 3 columns]",
      "text/html": "<div>\n<style scoped>\n    .dataframe tbody tr th:only-of-type {\n        vertical-align: middle;\n    }\n\n    .dataframe tbody tr th {\n        vertical-align: top;\n    }\n\n    .dataframe thead th {\n        text-align: right;\n    }\n</style>\n<table border=\"1\" class=\"dataframe\">\n  <thead>\n    <tr style=\"text-align: right;\">\n      <th></th>\n      <th>Unnamed: 0</th>\n      <th>imagepath</th>\n      <th>label</th>\n    </tr>\n  </thead>\n  <tbody>\n    <tr>\n      <th>0</th>\n      <td>0</td>\n      <td>\\\\shelter\\Kyu\\unstain2stain\\tiles\\registered_t...</td>\n      <td>1</td>\n    </tr>\n    <tr>\n      <th>1</th>\n      <td>1</td>\n      <td>\\\\shelter\\Kyu\\unstain2stain\\tiles\\registered_t...</td>\n      <td>1</td>\n    </tr>\n    <tr>\n      <th>2</th>\n      <td>2</td>\n      <td>\\\\shelter\\Kyu\\unstain2stain\\tiles\\registered_t...</td>\n      <td>1</td>\n    </tr>\n    <tr>\n      <th>3</th>\n      <td>3</td>\n      <td>\\\\shelter\\Kyu\\unstain2stain\\tiles\\registered_t...</td>\n      <td>1</td>\n    </tr>\n    <tr>\n      <th>4</th>\n      <td>4</td>\n      <td>\\\\shelter\\Kyu\\unstain2stain\\tiles\\registered_t...</td>\n      <td>1</td>\n    </tr>\n    <tr>\n      <th>...</th>\n      <td>...</td>\n      <td>...</td>\n      <td>...</td>\n    </tr>\n    <tr>\n      <th>775</th>\n      <td>359</td>\n      <td>\\\\shelter\\Kyu\\unstain2stain\\tiles\\registered_t...</td>\n      <td>0</td>\n    </tr>\n    <tr>\n      <th>776</th>\n      <td>360</td>\n      <td>\\\\shelter\\Kyu\\unstain2stain\\tiles\\registered_t...</td>\n      <td>0</td>\n    </tr>\n    <tr>\n      <th>777</th>\n      <td>361</td>\n      <td>\\\\shelter\\Kyu\\unstain2stain\\tiles\\registered_t...</td>\n      <td>0</td>\n    </tr>\n    <tr>\n      <th>778</th>\n      <td>362</td>\n      <td>\\\\shelter\\Kyu\\unstain2stain\\tiles\\registered_t...</td>\n      <td>0</td>\n    </tr>\n    <tr>\n      <th>779</th>\n      <td>363</td>\n      <td>\\\\shelter\\Kyu\\unstain2stain\\tiles\\registered_t...</td>\n      <td>0</td>\n    </tr>\n  </tbody>\n</table>\n<p>780 rows × 3 columns</p>\n</div>"
     },
     "execution_count": 11,
     "metadata": {},
     "output_type": "execute_result"
    }
   ],
   "source": [
    "_# open test_df:\n",
    "test_df_src = r\"\\\\fatherserverdw\\Kevin\\unstained_blank_classifier\\test_df.xlsx\"\n",
    "test_df = pd.read_excel(test_df_src)\n",
    "test_df"
   ],
   "metadata": {
    "collapsed": false
   }
  },
  {
   "cell_type": "code",
   "execution_count": 12,
   "outputs": [
    {
     "name": "stdout",
     "output_type": "stream",
     "text": [
      "Model list are ['\\\\\\\\fatherserverdw\\\\Kevin\\\\unstained_blank_classifier\\\\models\\\\best_epoch-03.pt', '\\\\\\\\fatherserverdw\\\\Kevin\\\\unstained_blank_classifier\\\\models\\\\best_epoch-04.pt']\n"
     ]
    },
    {
     "name": "stderr",
     "output_type": "stream",
     "text": [
      "Inference:   0%|          | 0/20 [00:00<?, ?it/s]C:\\Users\\Kevin\\AppData\\Local\\Temp\\ipykernel_7572\\2804195440.py:18: UserWarning: To copy construct from a tensor, it is recommended to use sourceTensor.clone().detach() or sourceTensor.clone().detach().requires_grad_(True), rather than torch.tensor(sourceTensor).\n",
      "  return torch.tensor(image)\n",
      "Inference: 100%|██████████| 20/20 [02:10<00:00,  6.52s/it]\n"
     ]
    },
    {
     "data": {
      "text/plain": "    predicted\n0         [1]\n1         [1]\n2         [1]\n3         [1]\n4         [1]\n..        ...\n775       [0]\n776       [0]\n777       [0]\n778       [0]\n779       [1]\n\n[780 rows x 1 columns]",
      "text/html": "<div>\n<style scoped>\n    .dataframe tbody tr th:only-of-type {\n        vertical-align: middle;\n    }\n\n    .dataframe tbody tr th {\n        vertical-align: top;\n    }\n\n    .dataframe thead th {\n        text-align: right;\n    }\n</style>\n<table border=\"1\" class=\"dataframe\">\n  <thead>\n    <tr style=\"text-align: right;\">\n      <th></th>\n      <th>predicted</th>\n    </tr>\n  </thead>\n  <tbody>\n    <tr>\n      <th>0</th>\n      <td>[1]</td>\n    </tr>\n    <tr>\n      <th>1</th>\n      <td>[1]</td>\n    </tr>\n    <tr>\n      <th>2</th>\n      <td>[1]</td>\n    </tr>\n    <tr>\n      <th>3</th>\n      <td>[1]</td>\n    </tr>\n    <tr>\n      <th>4</th>\n      <td>[1]</td>\n    </tr>\n    <tr>\n      <th>...</th>\n      <td>...</td>\n    </tr>\n    <tr>\n      <th>775</th>\n      <td>[0]</td>\n    </tr>\n    <tr>\n      <th>776</th>\n      <td>[0]</td>\n    </tr>\n    <tr>\n      <th>777</th>\n      <td>[0]</td>\n    </tr>\n    <tr>\n      <th>778</th>\n      <td>[0]</td>\n    </tr>\n    <tr>\n      <th>779</th>\n      <td>[1]</td>\n    </tr>\n  </tbody>\n</table>\n<p>780 rows × 1 columns</p>\n</div>"
     },
     "execution_count": 12,
     "metadata": {},
     "output_type": "execute_result"
    }
   ],
   "source": [
    "test_dataset = TestDataSet(test_df, transforms = val_transform)\n",
    "test_loader  = DataLoader(test_dataset, batch_size=model_config.valid_batch_size,\n",
    "                          num_workers=0)\n",
    "saved_model_path = model_config.model_save_directory\n",
    "model_paths  = glob(f'{saved_model_path}/best_epoch*.pt')\n",
    "print(\"Model list are {}\".format(model_paths))\n",
    "pred_df = infer(model_paths, test_loader)\n",
    "pred_df"
   ],
   "metadata": {
    "collapsed": false
   }
  },
  {
   "cell_type": "code",
   "execution_count": 13,
   "outputs": [],
   "source": [
    "y_pred = pred_df[\"predicted\"].tolist()\n",
    "y_pred = [int(x) for x in y_pred]\n",
    "y_true = test_df[\"label\"].tolist()"
   ],
   "metadata": {
    "collapsed": false
   }
  },
  {
   "cell_type": "code",
   "execution_count": 14,
   "outputs": [],
   "source": [
    "def calculate_f1_score(y_true, y_pred):\n",
    "    #confusion matrix\n",
    "    cm = confusion_matrix(y_true, y_pred)\n",
    "    #extract values from confusion matrix\n",
    "    tn, fp, fn, tp = cm.ravel()\n",
    "    #return precision, recall, and F1 score\n",
    "    precision = tp / (tp + fp)\n",
    "    recall = tp / (tp + fn)\n",
    "    f1 = 2 * (precision * recall) / (precision + recall)\n",
    "    return f1, precision, recall, cm"
   ],
   "metadata": {
    "collapsed": false
   }
  },
  {
   "cell_type": "code",
   "execution_count": 15,
   "outputs": [],
   "source": [
    "def plot_confusion_matrix(confusion_matrix):\n",
    "    labels = ['Negative', 'Positive']\n",
    "    plt.figure(figsize=(6, 4))\n",
    "    sns.heatmap(confusion_matrix, annot=True, fmt='d', cmap='Blues', xticklabels=labels, yticklabels=labels)\n",
    "    plt.title('Confusion Matrix')\n",
    "    plt.xlabel('Predicted Labels')\n",
    "    plt.ylabel('True Labels')\n",
    "    plt.show()"
   ],
   "metadata": {
    "collapsed": false
   }
  },
  {
   "cell_type": "code",
   "execution_count": 16,
   "outputs": [
    {
     "name": "stdout",
     "output_type": "stream",
     "text": [
      "F1 Score: 0.9033659066232357\n",
      "Precision: 0.8237623762376237\n",
      "Recall: 1.0\n"
     ]
    },
    {
     "data": {
      "text/plain": "<Figure size 600x400 with 2 Axes>",
      "image/png": "[encoded data removed]"
     },
     "metadata": {},
     "output_type": "display_data"
    }
   ],
   "source": [
    "f1_score, precision, recall, cm = calculate_f1_score(y_true, y_pred)\n",
    "print(\"F1 Score:\", f1_score)\n",
    "print(\"Precision:\", precision)\n",
    "print(\"Recall:\", recall)\n",
    "plot_confusion_matrix(cm)"
   ],
   "metadata": {
    "collapsed": false
   }
  },
  {
   "cell_type": "markdown",
   "source": [
    "### Remember 1 = White and 0 = Non-White. In Test_df, we have 416 1's, or whites, and the rest 364 0's or non-whites. Above, we can see that the model does perfectly in classifying the white images but does quite poorly on non-white images, as it predicted 89 tiles as white when it really is not. Let's open some images that the model screwed up on!"
   ],
   "metadata": {
    "collapsed": false
   }
  },
  {
   "cell_type": "code",
   "execution_count": 20,
   "outputs": [],
   "source": [
    "def find_mismatch_indexes(list1, list2):\n",
    "    mismatch_indexes = []\n",
    "    for i, (val1, val2) in enumerate(zip(list1, list2)):\n",
    "        if val1 != val2:\n",
    "            mismatch_indexes.append(i)\n",
    "    return mismatch_indexes\n",
    "\n",
    "def sample_file_paths(file_paths, indexes):\n",
    "    sampled_indexes = random.sample(indexes, 5)  # Randomly sample 5 indices\n",
    "    sampled_file_paths = [file_paths[i] for i in sampled_indexes]  # Retrieve file paths using sampled indices\n",
    "    return sampled_file_paths"
   ],
   "metadata": {
    "collapsed": false
   }
  },
  {
   "cell_type": "code",
   "execution_count": 21,
   "outputs": [
    {
     "data": {
      "text/plain": "['\\\\\\\\shelter\\\\Kyu\\\\unstain2stain\\\\tiles\\\\registered_tiles\\\\US\\\\OTS_14832_3\\\\65666_39759xy1743.png',\n '\\\\\\\\shelter\\\\Kyu\\\\unstain2stain\\\\tiles\\\\registered_tiles\\\\US\\\\OTS_14684_4\\\\31336_40783xy0655.png',\n '\\\\\\\\shelter\\\\Kyu\\\\unstain2stain\\\\tiles\\\\registered_tiles\\\\US\\\\OTS_14684_4\\\\29288_39759xy0498.png',\n '\\\\\\\\shelter\\\\Kyu\\\\unstain2stain\\\\tiles\\\\registered_tiles\\\\US\\\\OTS_14684_4\\\\34408_55119xy0903.png',\n '\\\\\\\\shelter\\\\Kyu\\\\unstain2stain\\\\tiles\\\\registered_tiles\\\\US\\\\OTS_14684_4\\\\34408_44879xy0893.png']"
     },
     "execution_count": 21,
     "metadata": {},
     "output_type": "execute_result"
    }
   ],
   "source": [
    "wrong_image_indexes = find_mismatch_indexes(y_true, y_pred)\n",
    "image_list = test_df[\"imagepath\"].tolist()\n",
    "some_wrong_image_paths = sample_file_paths(image_list,wrong_image_indexes)\n",
    "some_wrong_image_paths"
   ],
   "metadata": {
    "collapsed": false
   }
  },
  {
   "cell_type": "code",
   "execution_count": 22,
   "outputs": [],
   "source": [
    "for src in some_wrong_image_paths:\n",
    "    image = Image.open(src)\n",
    "    image.show()"
   ],
   "metadata": {
    "collapsed": false
   }
  }
 ],
 "metadata": {
  "kernelspec": {
   "display_name": "Python 3",
   "language": "python",
   "name": "python3"
  },
  "language_info": {
   "codemirror_mode": {
    "name": "ipython",
    "version": 2
   },
   "file_extension": ".py",
   "mimetype": "text/x-python",
   "name": "python",
   "nbconvert_exporter": "python",
   "pygments_lexer": "ipython2",
   "version": "2.7.6"
  }
 },
 "nbformat": 4,
 "nbformat_minor": 0
}
