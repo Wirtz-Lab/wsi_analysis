{
 "cells": [
  {
   "cell_type": "markdown",
   "source": [
    "### Code to generate train-val-test 70-15-15 split for 1024 x 1024 images. Then code to create a different version of dataset to create 256 by 256 versions of the images."
   ],
   "metadata": {
    "collapsed": false
   }
  },
  {
   "cell_type": "markdown",
   "source": [
    "### First code chunk to rename images and move them"
   ],
   "metadata": {
    "collapsed": false
   }
  },
  {
   "cell_type": "code",
   "execution_count": 2,
   "outputs": [],
   "source": [
    "import os\n",
    "import shutil\n",
    "import random\n",
    "import math\n",
    "from PIL import Image"
   ],
   "metadata": {
    "collapsed": false
   }
  },
  {
   "cell_type": "code",
   "execution_count": null,
   "metadata": {
    "collapsed": true,
    "pycharm": {
     "is_executing": true
    }
   },
   "outputs": [],
   "source": [
    "random_seed = 42\n",
    "random.seed(random_seed)\n",
    "\n",
    "s1_src = r\"\\\\shelter\\Kyu\\IHC2HE\\Balanced_Aligned\\sample 1\"\n",
    "s2_src = r\"\\\\shelter\\Kyu\\IHC2HE\\Balanced_Aligned\\sample 2\"\n",
    "\n",
    "train_dst = r\"\\\\shelter\\Kyu\\IHC2HE\\Balanced_Aligned\\dataset_v1\\train\"\n",
    "val_dst = r\"\\\\shelter\\Kyu\\IHC2HE\\Balanced_Aligned\\dataset_v1\\val\"\n",
    "test_dst = r\"\\\\shelter\\Kyu\\IHC2HE\\Balanced_Aligned\\dataset_v1\\test\"\n",
    "\n",
    "def rename_and_split_images(src_folder, dst_folder):\n",
    "    for subfolder in os.listdir(src_folder):\n",
    "        subfolder_path = os.path.join(src_folder, subfolder)\n",
    "        if os.path.isdir(subfolder_path):\n",
    "            for root, dirs, files in os.walk(subfolder_path):\n",
    "                for file in files:\n",
    "                    if file.endswith(\".png\"):\n",
    "                        sample = os.path.basename(src_folder)\n",
    "                        parent_folder = os.path.basename(os.path.basename(os.path.basename(root)))\n",
    "                        filename, ext = os.path.splitext(file)\n",
    "                        new_filename = f\"{sample}_{subfolder}_{parent_folder}_{filename}{ext}\"\n",
    "                        src_path = os.path.join(root, file)\n",
    "                        dst_path = os.path.join(dst_folder, new_filename)\n",
    "                        dst_subfolder_he = os.path.join(dst_folder, \"HE\")\n",
    "                        dst_subfolder_ihc = os.path.join(dst_folder, \"IHC\")\n",
    "                        os.makedirs(dst_subfolder_he, exist_ok=True)\n",
    "                        os.makedirs(dst_subfolder_ihc, exist_ok=True)\n",
    "                        os.rename(src_path, dst_path)\n",
    "\n",
    "rename_and_split_images(s1_src, train_dst)\n",
    "rename_and_split_images(s2_src, val_dst)"
   ]
  },
  {
   "cell_type": "markdown",
   "source": [
    "### Second chunk to actually split and move split images to according directory. repeat below for s1_image and s2_images, uncomment."
   ],
   "metadata": {
    "collapsed": false
   }
  },
  {
   "cell_type": "code",
   "execution_count": 7,
   "outputs": [],
   "source": [
    "s1_images = [x for x in os.listdir(r\"\\\\shelter\\Kyu\\IHC2HE\\Balanced_Aligned\\dataset_v1\\train\") if x.endswith(\".png\")]\n",
    "s1_images = [os.path.join(r\"\\\\shelter\\Kyu\\IHC2HE\\Balanced_Aligned\\dataset_v1\\train\", x) for x in s1_images]\n",
    "# s2_images = [x for x in os.listdir(r\"\\\\shelter\\Kyu\\IHC2HE\\Balanced_Aligned\\dataset_v1\\val\") if x.endswith(\".png\")]\n",
    "# s2_images = [os.path.join(r\"\\\\shelter\\Kyu\\IHC2HE\\Balanced_Aligned\\dataset_v1\\val\", x) for x in s2_images]\n",
    "ihc_a_he_list, ihc_b_he_list, ihc_c_he_list = [], [], []\n",
    "ihc_a_ihc_list, ihc_b_ihc_list, ihc_c_ihc_list = [], [], []\n",
    "\n",
    "for images in s1_images:\n",
    "    ihc_stain_type = images.split(\"sample 1_\")[1].split(\" \")[0]  # IHCA,IHCB,IHCC\n",
    "    ihc_or_he = images.split(\"sample 1_\")[1].split(\"_image_tile_\")[0].split(\"_\")[-1]  # HE or ISLET ,etc.\n",
    "    image_tile = images.split(\"sample 1_\")[1].split(\"_image_tile_\")[-1]  # ex. 0542.png\n",
    "    if ihc_stain_type == \"IHCA\":\n",
    "        if ihc_or_he == \"HE\":\n",
    "            ihc_a_he_list.append(images)\n",
    "        else:\n",
    "            ihc_a_ihc_list.append(images)\n",
    "    if ihc_stain_type == \"IHCB\":\n",
    "        if ihc_or_he == \"HE\":\n",
    "            ihc_b_he_list.append(images)\n",
    "        else:\n",
    "            ihc_b_ihc_list.append(images)\n",
    "    if ihc_stain_type == \"IHCC\":\n",
    "        if ihc_or_he == \"HE\":\n",
    "            ihc_c_he_list.append(images)\n",
    "        else:\n",
    "            ihc_c_ihc_list.append(images)\n",
    "\n",
    "def shuffle_lists_equally(he_list, ihc_list):\n",
    "    zipped = list(zip(he_list, ihc_list))\n",
    "    random.shuffle(zipped)\n",
    "    he_list, ihc_list = zip(*zipped)\n",
    "    return he_list, ihc_list\n",
    "\n",
    "ihc_a_ihc_list, ihc_a_he_list = shuffle_lists_equally(ihc_a_ihc_list,ihc_a_he_list)\n",
    "ihc_b_ihc_list, ihc_b_he_list = shuffle_lists_equally(ihc_b_ihc_list,ihc_b_he_list)\n",
    "ihc_c_ihc_list, ihc_c_he_list = shuffle_lists_equally(ihc_c_ihc_list,ihc_c_he_list)\n",
    "ihc_a_ihc_list = list(ihc_a_ihc_list)\n",
    "ihc_a_he_list = list(ihc_a_he_list)\n",
    "ihc_b_ihc_list = list(ihc_b_ihc_list)\n",
    "ihc_b_he_list = list(ihc_b_he_list)\n",
    "ihc_c_ihc_list = list(ihc_c_ihc_list)\n",
    "ihc_c_he_list = list(ihc_c_he_list)"
   ],
   "metadata": {
    "collapsed": false
   }
  },
  {
   "cell_type": "code",
   "execution_count": 8,
   "outputs": [],
   "source": [
    "def split_move_images(ihc_list, he_list, dst_src = r\"\\\\shelter\\Kyu\\IHC2HE\\Balanced_Aligned\\dataset_v1\"):\n",
    "    total_num = len(he_list)\n",
    "    train_num = math.ceil(total_num*0.7)\n",
    "    val_num = math.ceil(total_num*0.85)\n",
    "    he_train_files = he_list[:train_num]\n",
    "    he_val_files = he_list[train_num:val_num]\n",
    "    he_test_files = he_list[val_num:]\n",
    "    ihc_train_files = ihc_list[:train_num]\n",
    "    ihc_val_files = ihc_list[train_num:val_num]\n",
    "    ihc_test_files = ihc_list[val_num:]\n",
    "    for files in he_train_files:\n",
    "        filename = os.path.basename(files)\n",
    "        new_img_dst = os.path.join(dst_src,\"train\",\"HE\",filename)\n",
    "        shutil.move(files, new_img_dst)\n",
    "    for files1 in he_val_files:\n",
    "        filename = os.path.basename(files1)\n",
    "        new_img_dst = os.path.join(dst_src,\"val\",\"HE\",filename)\n",
    "        shutil.move(files1, new_img_dst)\n",
    "    for files2 in he_test_files:\n",
    "        filename = os.path.basename(files2)\n",
    "        new_img_dst = os.path.join(dst_src,\"test\",\"HE\",filename)\n",
    "        shutil.move(files2, new_img_dst)\n",
    "    for files3 in ihc_train_files:\n",
    "        filename = os.path.basename(files3)\n",
    "        new_img_dst = os.path.join(dst_src,\"train\",\"IHC\",filename)\n",
    "        shutil.move(files3, new_img_dst)\n",
    "    for files4 in ihc_val_files:\n",
    "        filename = os.path.basename(files4)\n",
    "        new_img_dst = os.path.join(dst_src,\"val\",\"IHC\",filename)\n",
    "        shutil.move(files4, new_img_dst)\n",
    "    for files5 in ihc_test_files:\n",
    "        filename = os.path.basename(files5)\n",
    "        new_img_dst = os.path.join(dst_src,\"test\",\"IHC\",filename)\n",
    "        shutil.move(files5, new_img_dst)\n",
    "\n",
    "split_move_images(ihc_a_ihc_list, ihc_a_he_list,dst_src= r\"\\\\shelter\\Kyu\\IHC2HE\\Balanced_Aligned\\dataset_v1\")\n",
    "split_move_images(ihc_b_ihc_list, ihc_b_he_list,dst_src= r\"\\\\shelter\\Kyu\\IHC2HE\\Balanced_Aligned\\dataset_v1\")\n",
    "split_move_images(ihc_c_ihc_list, ihc_c_he_list,dst_src= r\"\\\\shelter\\Kyu\\IHC2HE\\Balanced_Aligned\\dataset_v1\")"
   ],
   "metadata": {
    "collapsed": false
   }
  },
  {
   "cell_type": "markdown",
   "source": [
    "### Separate code chunk to now create 256 x 256 version of above dataset:"
   ],
   "metadata": {
    "collapsed": false
   }
  },
  {
   "cell_type": "code",
   "execution_count": 9,
   "outputs": [],
   "source": [
    "def resize_image(input_dir, output_dir):\n",
    "    if not os.path.exists(output_dir):\n",
    "        os.makedirs(output_dir)\n",
    "    input_files = [x for x in os.listdir(input_dir) if x.endswith(\".png\")]\n",
    "    for input_file in input_files:\n",
    "        input_file_path = os.path.join(input_dir, input_file)\n",
    "        image = Image.open(input_file_path)\n",
    "        for i in range(4):\n",
    "            for j in range(4):\n",
    "                x_offset = i * 256\n",
    "                y_offset = j * 256\n",
    "                tile = image.crop((x_offset, y_offset, x_offset + 256, y_offset + 256))\n",
    "                output_file = input_file.replace(\".png\", f\"_{i + 1}{j + 1}.png\")\n",
    "                new_save_path = os.path.join(output_dir, output_file)\n",
    "                tile.save(new_save_path)\n",
    "\n",
    "    print(\"All images processed.\")"
   ],
   "metadata": {
    "collapsed": false
   }
  },
  {
   "cell_type": "code",
   "execution_count": 10,
   "outputs": [
    {
     "name": "stdout",
     "output_type": "stream",
     "text": [
      "All images processed.\n"
     ]
    }
   ],
   "source": [
    "resize_image(r\"\\\\shelter\\Kyu\\IHC2HE\\Balanced_Aligned\\dataset_v1\\test\\HE\",r\"\\\\shelter\\Kyu\\IHC2HE\\Balanced_Aligned\\dataset_v1_256x256\\test\\HE\")"
   ],
   "metadata": {
    "collapsed": false
   }
  },
  {
   "cell_type": "code",
   "execution_count": 11,
   "outputs": [
    {
     "name": "stdout",
     "output_type": "stream",
     "text": [
      "All images processed.\n"
     ]
    }
   ],
   "source": [
    "resize_image(r\"\\\\shelter\\Kyu\\IHC2HE\\Balanced_Aligned\\dataset_v1\\test\\IHC\",r\"\\\\shelter\\Kyu\\IHC2HE\\Balanced_Aligned\\dataset_v1_256x256\\test\\IHC\")"
   ],
   "metadata": {
    "collapsed": false
   }
  },
  {
   "cell_type": "code",
   "execution_count": 12,
   "outputs": [
    {
     "name": "stdout",
     "output_type": "stream",
     "text": [
      "All images processed.\n"
     ]
    }
   ],
   "source": [
    "resize_image(r\"\\\\shelter\\Kyu\\IHC2HE\\Balanced_Aligned\\dataset_v1\\train\\HE\",r\"\\\\shelter\\Kyu\\IHC2HE\\Balanced_Aligned\\dataset_v1_256x256\\train\\HE\")"
   ],
   "metadata": {
    "collapsed": false
   }
  },
  {
   "cell_type": "code",
   "execution_count": 13,
   "outputs": [
    {
     "name": "stdout",
     "output_type": "stream",
     "text": [
      "All images processed.\n"
     ]
    }
   ],
   "source": [
    "resize_image(r\"\\\\shelter\\Kyu\\IHC2HE\\Balanced_Aligned\\dataset_v1\\train\\IHC\",r\"\\\\shelter\\Kyu\\IHC2HE\\Balanced_Aligned\\dataset_v1_256x256\\train\\IHC\")"
   ],
   "metadata": {
    "collapsed": false
   }
  },
  {
   "cell_type": "code",
   "execution_count": 14,
   "outputs": [
    {
     "name": "stdout",
     "output_type": "stream",
     "text": [
      "All images processed.\n"
     ]
    }
   ],
   "source": [
    "resize_image(r\"\\\\shelter\\Kyu\\IHC2HE\\Balanced_Aligned\\dataset_v1\\val\\HE\",r\"\\\\shelter\\Kyu\\IHC2HE\\Balanced_Aligned\\dataset_v1_256x256\\val\\HE\")"
   ],
   "metadata": {
    "collapsed": false
   }
  },
  {
   "cell_type": "code",
   "execution_count": 15,
   "outputs": [
    {
     "name": "stdout",
     "output_type": "stream",
     "text": [
      "All images processed.\n"
     ]
    }
   ],
   "source": [
    "resize_image(r\"\\\\shelter\\Kyu\\IHC2HE\\Balanced_Aligned\\dataset_v1\\val\\IHC\",r\"\\\\shelter\\Kyu\\IHC2HE\\Balanced_Aligned\\dataset_v1_256x256\\val\\IHC\")"
   ],
   "metadata": {
    "collapsed": false
   }
  },
  {
   "cell_type": "code",
   "execution_count": null,
   "outputs": [],
   "source": [],
   "metadata": {
    "collapsed": false
   }
  }
 ],
 "metadata": {
  "kernelspec": {
   "display_name": "Python 3",
   "language": "python",
   "name": "python3"
  },
  "language_info": {
   "codemirror_mode": {
    "name": "ipython",
    "version": 2
   },
   "file_extension": ".py",
   "mimetype": "text/x-python",
   "name": "python",
   "nbconvert_exporter": "python",
   "pygments_lexer": "ipython2",
   "version": "2.7.6"
  }
 },
 "nbformat": 4,
 "nbformat_minor": 0
}
