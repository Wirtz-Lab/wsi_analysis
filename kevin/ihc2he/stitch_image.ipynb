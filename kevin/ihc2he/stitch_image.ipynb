{
 "cells": [
  {
   "cell_type": "code",
   "execution_count": 24,
   "metadata": {
    "collapsed": true
   },
   "outputs": [],
   "source": [
    "import numpy as np\n",
    "from PIL import Image\n",
    "import os\n",
    "\n",
    "def stitch_images(tiles, image_name, tile_size=256, final_size=1024):\n",
    "    final_image = np.zeros((final_size, final_size, 3), dtype=np.uint8)\n",
    "    num_iters = final_size // tile_size\n",
    "    for i in range(num_iters):\n",
    "        for j in range(num_iters):\n",
    "            tile_index = i * num_iters + j\n",
    "            tile = tiles[tile_index]\n",
    "            start_x = j * tile_size\n",
    "            end_x = (j + 1) * tile_size\n",
    "            start_y = i * tile_size\n",
    "            end_y = (i + 1) * tile_size\n",
    "            final_image[start_x:end_x, start_y:end_y, :] = tile\n",
    "\n",
    "    save_path = r\"C:\\Users\\Kevin\\Desktop\"\n",
    "    final_image = Image.fromarray(final_image).save(os.path.join(save_path,image_name + \".png\"))"
   ]
  },
  {
   "cell_type": "markdown",
   "source": [
    "### for pix2pix:"
   ],
   "metadata": {
    "collapsed": false
   }
  },
  {
   "cell_type": "code",
   "execution_count": 55,
   "outputs": [],
   "source": [
    "# tiles = [Image.open(f'tile_{i}.png') for i in range(16)]\n",
    "images_src = r\"\\\\shelter\\Kyu\\IHC2HE\\Balanced_Aligned\\dataset_v1_256x256\\infer\\pix2pix_sample1_only\"\n",
    "image_name = \"sample 1_IHCC 08_23_2023_IMMUNE_image_tile_01633\" # 1024 x 1024 image name\n",
    "result = [f\"{image_name}_{i*10 + j + 11}_output.png\" for i in range(4) for j in range(4)] # list of 256 x 256 images\n",
    "tiles = [Image.open(os.path.join(images_src,x)) for x in result]\n",
    "final_image = stitch_images(tiles,image_name)\n"
   ],
   "metadata": {
    "collapsed": false
   }
  },
  {
   "cell_type": "markdown",
   "source": [
    "### for diffusion:"
   ],
   "metadata": {
    "collapsed": false
   }
  },
  {
   "cell_type": "code",
   "execution_count": 54,
   "outputs": [],
   "source": [
    "images_src = r\"\\\\shelter\\Kyu\\IHC2HE\\Balanced_Aligned\\dataset_v1_256x256\\val\\sample1_C_sample2_A\\infer\\test-run-4\\iter_24388\"\n",
    "image_name = \"sample 1_IHCC 08_23_2023_HE_image_tile_01633\" # 1024 x 1024 image name\n",
    "result = [f\"{image_name}_{i*10 + j + 11}_inferred.png\" for i in range(4) for j in range(4)] # list of 256 x 256 images\n",
    "tiles = [Image.open(os.path.join(images_src,x)) for x in result]\n",
    "final_image = stitch_images(tiles,image_name)"
   ],
   "metadata": {
    "collapsed": false
   }
  },
  {
   "cell_type": "code",
   "execution_count": null,
   "outputs": [],
   "source": [],
   "metadata": {
    "collapsed": false
   }
  }
 ],
 "metadata": {
  "kernelspec": {
   "display_name": "Python 3",
   "language": "python",
   "name": "python3"
  },
  "language_info": {
   "codemirror_mode": {
    "name": "ipython",
    "version": 2
   },
   "file_extension": ".py",
   "mimetype": "text/x-python",
   "name": "python",
   "nbconvert_exporter": "python",
   "pygments_lexer": "ipython2",
   "version": "2.7.6"
  }
 },
 "nbformat": 4,
 "nbformat_minor": 0
}
