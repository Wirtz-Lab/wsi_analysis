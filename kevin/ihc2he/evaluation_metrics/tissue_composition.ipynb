{
 "cells": [
  {
   "cell_type": "markdown",
   "source": [
    "# Code to calculate tissue composition in GT tissue map, vs pix2pix, pyramid pix2pix, and I2SB:\n",
    "### Since this is to calculate bulk tissue composition so that it is invariant to the slight pixel offsets vs GT, all you have to do is just sum up the masks and then represent the tissue composition as % by dividing by the total pixel area."
   ],
   "metadata": {
    "collapsed": false
   }
  },
  {
   "cell_type": "code",
   "execution_count": 1,
   "metadata": {
    "collapsed": true
   },
   "outputs": [],
   "source": [
    "import os\n",
    "import numpy as np\n",
    "from tqdm import tqdm\n",
    "from PIL import Image\n",
    "import cv2"
   ]
  },
  {
   "cell_type": "code",
   "execution_count": 6,
   "outputs": [],
   "source": [
    "# for i2sb, it is tmp, when finish sampling I2SB, do evaluation on all data:\n",
    "gt_pth = r\"\\\\10.99.68.51\\Kyu\\IHC2HE\\Balanced_Aligned\\dataset_v1_256x256\\val\\HE\\classification_10172023\"\n",
    "p2p_pth = r\"\\\\10.99.68.51\\Kyu\\IHC2HE\\Balanced_Aligned\\dataset_v1_256x256\\infer\\pix2pix_sample1_only\\classification_10162023\"\n",
    "# p_p2p_pth = # tbd\n",
    "# i2sb_pth = # tbd\n",
    "\n",
    "gt_images = [os.path.join(gt_pth,x) for x in os.listdir(gt_pth) if x.endswith(\".png\")]\n",
    "p2p_images = [os.path.join(p2p_pth,x) for x in os.listdir(p2p_pth) if x.endswith(\".png\")]\n",
    "# p_p2p_images = [os.path.join(p_p2p_pth,x) for x in os.listdir(p_p2p_pth) if x.endswith(\".png\")]\n",
    "# i2sb_images = [os.path.join(i2sb_pth,x) for x in os.listdir(i2sb_pth) if x.endswith(\".png\")]"
   ],
   "metadata": {
    "collapsed": false
   }
  },
  {
   "cell_type": "code",
   "execution_count": 7,
   "outputs": [],
   "source": [
    "def return_tissue_composition(image_directory):\n",
    "    pixel_value_counts = np.zeros(9, dtype=int)\n",
    "    for filename in tqdm(image_directory,colour=\"red\"):\n",
    "        image = cv2.imread(filename, 0)\n",
    "        unique, counts = np.unique(image, return_counts=True)\n",
    "        pixel_value_counts[unique] += counts\n",
    "    tissue_comp = [x/pixel_value_counts.sum() for x in pixel_value_counts]\n",
    "    tissue_comp = [x*100 for x in tissue_comp]\n",
    "    tissue_comp = tissue_comp[1:]\n",
    "    return tissue_comp"
   ],
   "metadata": {
    "collapsed": false
   }
  },
  {
   "cell_type": "code",
   "execution_count": 8,
   "outputs": [
    {
     "name": "stderr",
     "output_type": "stream",
     "text": [
      "100%|\u001B[31m██████████\u001B[0m| 9952/9952 [01:33<00:00, 106.94it/s]\n",
      "100%|\u001B[31m██████████\u001B[0m| 622/622 [00:11<00:00, 54.69it/s]\n",
      "100%|\u001B[31m██████████\u001B[0m| 622/622 [00:11<00:00, 54.49it/s]\n",
      "100%|\u001B[31m██████████\u001B[0m| 9951/9951 [01:38<00:00, 101.00it/s]\n"
     ]
    }
   ],
   "source": [
    "gt_pixel_value_counts = return_tissue_composition(gt_images)\n",
    "p2p_pixel_value_counts = return_tissue_composition(p2p_images)"
   ],
   "metadata": {
    "collapsed": false
   }
  },
  {
   "cell_type": "code",
   "execution_count": 12,
   "outputs": [
    {
     "name": "stdout",
     "output_type": "stream",
     "text": [
      "[1.145437676040306, 0.7418683104193096, 1.7018703019120685, 6.052104913153449, 56.5369057118701, 14.424007881875973, 19.155930092863716, 0.2418751118650774]\n",
      "[1.288278923157327, 0.8155905548782594, 1.9711781161391082, 6.332270048822237, 56.27300992272674, 14.037663376982955, 18.98074962701828, 0.30125943027508606]\n",
      "[1.0104320440261694, 0.5238963860024209, 1.7843640502242797, 6.012669100255445, 56.97376490405901, 14.52144073903369, 18.927915303270147, 0.2455174731288309]\n",
      "[0.8774785082156473, 0.6823543088182877, 1.632509029351243, 5.783905099832931, 56.67458121087273, 14.869671234017387, 19.27848848885908, 0.20101212003269145]\n"
     ]
    }
   ],
   "source": [
    "def find_MAE(list1,list2):\n",
    "    if len(list1) != len(list2):\n",
    "        raise ValueError(\"Lists must be of equal length\")\n",
    "    absolute_differences = [abs(a - b) for a, b in zip(list1, list2)]\n",
    "    mae = sum(absolute_differences) / len(absolute_differences)\n",
    "    return mae"
   ],
   "metadata": {
    "collapsed": false
   }
  },
  {
   "cell_type": "code",
   "execution_count": 19,
   "outputs": [],
   "source": [
    "find_MAE(gt_pixel_value_counts,p2p_pixel_value_counts)"
   ],
   "metadata": {
    "collapsed": false
   }
  },
  {
   "cell_type": "markdown",
   "source": [
    "### Note: 1~8 in order: islet duct vessels fat acini collagen whitespace nerves"
   ],
   "metadata": {
    "collapsed": false
   }
  },
  {
   "cell_type": "code",
   "execution_count": 25,
   "outputs": [
    {
     "name": "stdout",
     "output_type": "stream",
     "text": [
      "MAE is 0.1764743117848524\n"
     ]
    }
   ],
   "source": [
    "p2p_pixel_value_counts"
   ],
   "metadata": {
    "collapsed": false
   }
  },
  {
   "cell_type": "code",
   "execution_count": 26,
   "outputs": [
    {
     "name": "stdout",
     "output_type": "stream",
     "text": [
      "MAE is 0.29613308584575077\n"
     ]
    }
   ],
   "source": [
    "gt_pixel_value_counts"
   ],
   "metadata": {
    "collapsed": false
   }
  },
  {
   "cell_type": "code",
   "execution_count": null,
   "outputs": [],
   "source": [],
   "metadata": {
    "collapsed": false
   }
  }
 ],
 "metadata": {
  "kernelspec": {
   "display_name": "Python 3",
   "language": "python",
   "name": "python3"
  },
  "language_info": {
   "codemirror_mode": {
    "name": "ipython",
    "version": 2
   },
   "file_extension": ".py",
   "mimetype": "text/x-python",
   "name": "python",
   "nbconvert_exporter": "python",
   "pygments_lexer": "ipython2",
   "version": "2.7.6"
  }
 },
 "nbformat": 4,
 "nbformat_minor": 0
}
