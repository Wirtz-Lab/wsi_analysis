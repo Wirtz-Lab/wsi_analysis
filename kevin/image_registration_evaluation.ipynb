{
 "cells": [
  {
   "cell_type": "markdown",
   "source": [
    "# Try Mean squared error, phase cross correlation (phase shift), mutual information, and target registration error:\n",
    "### All of these metrics in two different ways: ex. MSE for adjacent images (1 vs 2, 2 vs 3, etc) and MSE compared to the image of original reference (the middle image) (1  vs 17, 2 vs 17, etc).\n",
    "\n",
    "### MSE: for each pixel, (ref_pixel-mov_pixel)^2\n",
    "\n",
    "### pCC shift from: https://docs.opencv.org/4.x/d7/df3/group__imgproc__motion.html#ga80e5c3de52f6bab3a7c1e60e89308e1b\n",
    "### calculates detected phase shift between two arrays.\n",
    "\n",
    "### MI from: https://matthew-brett.github.io/teaching/mutual_information.html\n",
    "### Calculates MI from equation MI = sum of joint probability(A,B) * log(joint probability(A,B)/marginal(A)*marginal(B))\n",
    "\n",
    "### TRE from: http://insightsoftwareconsortium.github.io/SimpleITK-Notebooks/Python_html/68_Registration_Errors.html"
   ],
   "metadata": {
    "collapsed": false
   }
  },
  {
   "cell_type": "code",
   "execution_count": 127,
   "outputs": [],
   "source": [
    "import os\n",
    "import pandas as pd\n",
    "import numpy as np\n",
    "from PIL import Image\n",
    "import cv2\n",
    "from matplotlib import pyplot as plt"
   ],
   "metadata": {
    "collapsed": false
   }
  },
  {
   "cell_type": "code",
   "execution_count": 54,
   "outputs": [],
   "source": [
    "img_files_path = [_ for _ in os.listdir(r'\\\\fatherserverdw\\Kevin\\imageregistration\\registered_images') if _.endswith(\".png\")]\n",
    "img_files_path_complete = [os.path.join(r'\\\\fatherserverdw\\Kevin\\imageregistration\\registered_images', x) for x in img_files_path]\n",
    "ref = int(len(img_files_path)/2) - 1 #idx = 16, or 17th image\n",
    "# img_files_path[16] #'z0049_49C1.png' is the reference image"
   ],
   "metadata": {
    "collapsed": false
   }
  },
  {
   "cell_type": "code",
   "execution_count": 56,
   "outputs": [
    {
     "name": "stdout",
     "output_type": "stream",
     "text": [
      "Averaged MSE for adjacent images is 42.99\n"
     ]
    }
   ],
   "source": [
    "# MSE comparing adjacent:\n",
    "from sklearn.metrics import mean_squared_error\n",
    "mse_ra = []\n",
    "for idx in range(len(img_files_path)-1):\n",
    "    img_path_1 = img_files_path_complete[idx]\n",
    "    img_path_2 = img_files_path_complete[idx+1]\n",
    "    img1 = np.array(Image.open(img_path_1))\n",
    "    img2 = np.array(Image.open(img_path_2))\n",
    "    img1_flatten = img1.flatten()\n",
    "    img2_flatten = img2.flatten()\n",
    "    mse = mean_squared_error(img2_flatten,img1_flatten)\n",
    "    mse_ra.append(mse)\n",
    "avg = sum(mse_ra)/len(mse_ra)\n",
    "avg = np.round(avg,2)\n",
    "print(\"Averaged MSE for adjacent images is {}\".format(avg))"
   ],
   "metadata": {
    "collapsed": false
   }
  },
  {
   "cell_type": "code",
   "execution_count": 58,
   "outputs": [
    {
     "name": "stdout",
     "output_type": "stream",
     "text": [
      "Averaged MSE comparing to original image is 48.53\n"
     ]
    }
   ],
   "source": [
    "# MSE comparing to original reference image (one in the middle)\n",
    "img_path_2 = img_files_path_complete[ref]\n",
    "img2 = np.array(Image.open(img_path_2))\n",
    "img2_flatten = img2.flatten()\n",
    "mse_ra = []\n",
    "for idx in range(len(img_files_path)):\n",
    "    img_path_1 = img_files_path_complete[idx]\n",
    "    img1 = np.array(Image.open(img_path_1))\n",
    "    img1_flatten = img1.flatten()\n",
    "    mse = mean_squared_error(img2_flatten,img1_flatten)\n",
    "    mse_ra.append(mse)\n",
    "avg = sum(mse_ra)/len(mse_ra)\n",
    "avg = np.round(avg,2)\n",
    "print(\"Averaged MSE comparing to original image is {}\".format(avg))"
   ],
   "metadata": {
    "collapsed": false
   }
  },
  {
   "cell_type": "code",
   "execution_count": 139,
   "outputs": [
    {
     "data": {
      "text/plain": "    Offset of X coordinates  Offset of Y coordinates\n0                  0.000725                 0.000355\n1                  0.000497                -0.007285\n2                 -0.001321                -0.003940\n3                 -0.007351                -0.003856\n4                 -0.004477                -0.000644\n5                 -0.003643                -0.006591\n6                 -0.009836                -0.011409\n7                 -0.004966                -0.002093\n8                 -0.002840                -0.002198\n9                 -0.008562                -0.006010\n10                -0.003646                 0.000842\n11                -0.003372                -0.002340\n12                 0.000788                -0.003474\n13                -0.003266                -0.008163\n14                -0.000349                -0.004090\n15                 0.002510                 0.006770\n16                -0.002219                -0.003468\n17                -0.001226                 0.002379\n18                 0.004829                 0.000701\n19                 0.007923                 0.003669\n20                -0.000551                 0.000685\n21                 0.004297                 0.004461\n22                 0.000130                 0.004945\n23                 0.008277                 0.004685\n24                 0.000066                 0.001382\n25                 0.002143                 0.001843\n26                -0.002797                 0.009398\n27                 0.006218                -0.000894\n28                 0.004232                 0.002604\n29                 0.002556                 0.005157\n30                -0.005271                -0.001281\n31                 0.005714                 0.003171\n32                -0.001352                -0.006439",
      "text/html": "<div>\n<style scoped>\n    .dataframe tbody tr th:only-of-type {\n        vertical-align: middle;\n    }\n\n    .dataframe tbody tr th {\n        vertical-align: top;\n    }\n\n    .dataframe thead th {\n        text-align: right;\n    }\n</style>\n<table border=\"1\" class=\"dataframe\">\n  <thead>\n    <tr style=\"text-align: right;\">\n      <th></th>\n      <th>Offset of X coordinates</th>\n      <th>Offset of Y coordinates</th>\n    </tr>\n  </thead>\n  <tbody>\n    <tr>\n      <th>0</th>\n      <td>0.000725</td>\n      <td>0.000355</td>\n    </tr>\n    <tr>\n      <th>1</th>\n      <td>0.000497</td>\n      <td>-0.007285</td>\n    </tr>\n    <tr>\n      <th>2</th>\n      <td>-0.001321</td>\n      <td>-0.003940</td>\n    </tr>\n    <tr>\n      <th>3</th>\n      <td>-0.007351</td>\n      <td>-0.003856</td>\n    </tr>\n    <tr>\n      <th>4</th>\n      <td>-0.004477</td>\n      <td>-0.000644</td>\n    </tr>\n    <tr>\n      <th>5</th>\n      <td>-0.003643</td>\n      <td>-0.006591</td>\n    </tr>\n    <tr>\n      <th>6</th>\n      <td>-0.009836</td>\n      <td>-0.011409</td>\n    </tr>\n    <tr>\n      <th>7</th>\n      <td>-0.004966</td>\n      <td>-0.002093</td>\n    </tr>\n    <tr>\n      <th>8</th>\n      <td>-0.002840</td>\n      <td>-0.002198</td>\n    </tr>\n    <tr>\n      <th>9</th>\n      <td>-0.008562</td>\n      <td>-0.006010</td>\n    </tr>\n    <tr>\n      <th>10</th>\n      <td>-0.003646</td>\n      <td>0.000842</td>\n    </tr>\n    <tr>\n      <th>11</th>\n      <td>-0.003372</td>\n      <td>-0.002340</td>\n    </tr>\n    <tr>\n      <th>12</th>\n      <td>0.000788</td>\n      <td>-0.003474</td>\n    </tr>\n    <tr>\n      <th>13</th>\n      <td>-0.003266</td>\n      <td>-0.008163</td>\n    </tr>\n    <tr>\n      <th>14</th>\n      <td>-0.000349</td>\n      <td>-0.004090</td>\n    </tr>\n    <tr>\n      <th>15</th>\n      <td>0.002510</td>\n      <td>0.006770</td>\n    </tr>\n    <tr>\n      <th>16</th>\n      <td>-0.002219</td>\n      <td>-0.003468</td>\n    </tr>\n    <tr>\n      <th>17</th>\n      <td>-0.001226</td>\n      <td>0.002379</td>\n    </tr>\n    <tr>\n      <th>18</th>\n      <td>0.004829</td>\n      <td>0.000701</td>\n    </tr>\n    <tr>\n      <th>19</th>\n      <td>0.007923</td>\n      <td>0.003669</td>\n    </tr>\n    <tr>\n      <th>20</th>\n      <td>-0.000551</td>\n      <td>0.000685</td>\n    </tr>\n    <tr>\n      <th>21</th>\n      <td>0.004297</td>\n      <td>0.004461</td>\n    </tr>\n    <tr>\n      <th>22</th>\n      <td>0.000130</td>\n      <td>0.004945</td>\n    </tr>\n    <tr>\n      <th>23</th>\n      <td>0.008277</td>\n      <td>0.004685</td>\n    </tr>\n    <tr>\n      <th>24</th>\n      <td>0.000066</td>\n      <td>0.001382</td>\n    </tr>\n    <tr>\n      <th>25</th>\n      <td>0.002143</td>\n      <td>0.001843</td>\n    </tr>\n    <tr>\n      <th>26</th>\n      <td>-0.002797</td>\n      <td>0.009398</td>\n    </tr>\n    <tr>\n      <th>27</th>\n      <td>0.006218</td>\n      <td>-0.000894</td>\n    </tr>\n    <tr>\n      <th>28</th>\n      <td>0.004232</td>\n      <td>0.002604</td>\n    </tr>\n    <tr>\n      <th>29</th>\n      <td>0.002556</td>\n      <td>0.005157</td>\n    </tr>\n    <tr>\n      <th>30</th>\n      <td>-0.005271</td>\n      <td>-0.001281</td>\n    </tr>\n    <tr>\n      <th>31</th>\n      <td>0.005714</td>\n      <td>0.003171</td>\n    </tr>\n    <tr>\n      <th>32</th>\n      <td>-0.001352</td>\n      <td>-0.006439</td>\n    </tr>\n  </tbody>\n</table>\n</div>"
     },
     "execution_count": 139,
     "metadata": {},
     "output_type": "execute_result"
    }
   ],
   "source": [
    "# CC comparing adjacent:\n",
    "from cv2 import phaseCorrelate, cvtColor\n",
    "\n",
    "pcc_shift_ra = []\n",
    "response_ra = []\n",
    "for idx in range(len(img_files_path)-1):\n",
    "    img_path_1 = img_files_path_complete[idx]\n",
    "    img_path_2 = img_files_path_complete[idx+1]\n",
    "    img1 = np.array(cv2.imread(img_path_1)).astype('float32')\n",
    "    img2 = np.array(cv2.imread(img_path_2)).astype('float32')\n",
    "    img1_g = cvtColor(img1,cv2.COLOR_BGR2GRAY)\n",
    "    img2_g = cvtColor(img2,cv2.COLOR_BGR2GRAY)\n",
    "    pcc_shift, response = phaseCorrelate(img1_g,img2_g)\n",
    "    pcc_shift_ra.append(pcc_shift)\n",
    "    response_ra.append(response)\n",
    "df_pcc = pd.DataFrame(pcc_shift_ra)\n",
    "df_pcc.columns = [\"Offset of X coordinates\",\"Offset of Y coordinates\"]\n",
    "df_pcc"
   ],
   "metadata": {
    "collapsed": false
   }
  },
  {
   "cell_type": "code",
   "execution_count": 124,
   "outputs": [
    {
     "data": {
      "text/plain": "    Offset of X coordinates  Offset of Y coordinates\n0                 83.906852             -1024.196664\n1                -22.863715                 0.497124\n2                122.355340              -344.569006\n3               -654.226635              1688.793364\n4                207.549274                20.341905\n5                  0.021418                 0.039062\n6                 -0.019338                 0.886758\n7                 -0.948509                -0.231847\n8                 -0.006672                -0.014912\n9                 -0.059242                 0.023429\n10                 0.015506                -0.016747\n11                 0.039612                -0.034198\n12                 0.014135                -0.030982\n13                 0.003310                -0.014649\n14                 0.000405                -0.000550\n15                 0.002738                 0.007369\n16                 0.000000                 0.000000\n17                 0.002887                 0.004946\n18                 0.001564                -0.002553\n19                 0.011726                 0.008134\n20                 0.002375                 0.017839\n21                -0.019340                 0.023239\n22                -0.014510                 0.022945\n23                -0.003601                 0.802682\n24                -0.119784                 0.807092\n25                -0.916080                -0.063266\n26                -0.172760                -2.754500\n27                -0.115379                 0.005396\n28               480.432380              -190.836503\n29                -5.914708                -0.028925\n30                -1.049790                28.225676\n31               296.101470              -237.951723\n32                -0.145411                -0.530855",
      "text/html": "<div>\n<style scoped>\n    .dataframe tbody tr th:only-of-type {\n        vertical-align: middle;\n    }\n\n    .dataframe tbody tr th {\n        vertical-align: top;\n    }\n\n    .dataframe thead th {\n        text-align: right;\n    }\n</style>\n<table border=\"1\" class=\"dataframe\">\n  <thead>\n    <tr style=\"text-align: right;\">\n      <th></th>\n      <th>Offset of X coordinates</th>\n      <th>Offset of Y coordinates</th>\n    </tr>\n  </thead>\n  <tbody>\n    <tr>\n      <th>0</th>\n      <td>83.906852</td>\n      <td>-1024.196664</td>\n    </tr>\n    <tr>\n      <th>1</th>\n      <td>-22.863715</td>\n      <td>0.497124</td>\n    </tr>\n    <tr>\n      <th>2</th>\n      <td>122.355340</td>\n      <td>-344.569006</td>\n    </tr>\n    <tr>\n      <th>3</th>\n      <td>-654.226635</td>\n      <td>1688.793364</td>\n    </tr>\n    <tr>\n      <th>4</th>\n      <td>207.549274</td>\n      <td>20.341905</td>\n    </tr>\n    <tr>\n      <th>5</th>\n      <td>0.021418</td>\n      <td>0.039062</td>\n    </tr>\n    <tr>\n      <th>6</th>\n      <td>-0.019338</td>\n      <td>0.886758</td>\n    </tr>\n    <tr>\n      <th>7</th>\n      <td>-0.948509</td>\n      <td>-0.231847</td>\n    </tr>\n    <tr>\n      <th>8</th>\n      <td>-0.006672</td>\n      <td>-0.014912</td>\n    </tr>\n    <tr>\n      <th>9</th>\n      <td>-0.059242</td>\n      <td>0.023429</td>\n    </tr>\n    <tr>\n      <th>10</th>\n      <td>0.015506</td>\n      <td>-0.016747</td>\n    </tr>\n    <tr>\n      <th>11</th>\n      <td>0.039612</td>\n      <td>-0.034198</td>\n    </tr>\n    <tr>\n      <th>12</th>\n      <td>0.014135</td>\n      <td>-0.030982</td>\n    </tr>\n    <tr>\n      <th>13</th>\n      <td>0.003310</td>\n      <td>-0.014649</td>\n    </tr>\n    <tr>\n      <th>14</th>\n      <td>0.000405</td>\n      <td>-0.000550</td>\n    </tr>\n    <tr>\n      <th>15</th>\n      <td>0.002738</td>\n      <td>0.007369</td>\n    </tr>\n    <tr>\n      <th>16</th>\n      <td>0.000000</td>\n      <td>0.000000</td>\n    </tr>\n    <tr>\n      <th>17</th>\n      <td>0.002887</td>\n      <td>0.004946</td>\n    </tr>\n    <tr>\n      <th>18</th>\n      <td>0.001564</td>\n      <td>-0.002553</td>\n    </tr>\n    <tr>\n      <th>19</th>\n      <td>0.011726</td>\n      <td>0.008134</td>\n    </tr>\n    <tr>\n      <th>20</th>\n      <td>0.002375</td>\n      <td>0.017839</td>\n    </tr>\n    <tr>\n      <th>21</th>\n      <td>-0.019340</td>\n      <td>0.023239</td>\n    </tr>\n    <tr>\n      <th>22</th>\n      <td>-0.014510</td>\n      <td>0.022945</td>\n    </tr>\n    <tr>\n      <th>23</th>\n      <td>-0.003601</td>\n      <td>0.802682</td>\n    </tr>\n    <tr>\n      <th>24</th>\n      <td>-0.119784</td>\n      <td>0.807092</td>\n    </tr>\n    <tr>\n      <th>25</th>\n      <td>-0.916080</td>\n      <td>-0.063266</td>\n    </tr>\n    <tr>\n      <th>26</th>\n      <td>-0.172760</td>\n      <td>-2.754500</td>\n    </tr>\n    <tr>\n      <th>27</th>\n      <td>-0.115379</td>\n      <td>0.005396</td>\n    </tr>\n    <tr>\n      <th>28</th>\n      <td>480.432380</td>\n      <td>-190.836503</td>\n    </tr>\n    <tr>\n      <th>29</th>\n      <td>-5.914708</td>\n      <td>-0.028925</td>\n    </tr>\n    <tr>\n      <th>30</th>\n      <td>-1.049790</td>\n      <td>28.225676</td>\n    </tr>\n    <tr>\n      <th>31</th>\n      <td>296.101470</td>\n      <td>-237.951723</td>\n    </tr>\n    <tr>\n      <th>32</th>\n      <td>-0.145411</td>\n      <td>-0.530855</td>\n    </tr>\n  </tbody>\n</table>\n</div>"
     },
     "execution_count": 124,
     "metadata": {},
     "output_type": "execute_result"
    }
   ],
   "source": [
    "# CC comparing to original reference image (one in the middle):\n",
    "img_path_2 = img_files_path_complete[ref]\n",
    "img2 = np.array(Image.open(img_path_2)).astype('float32')\n",
    "img2_g = cvtColor(img2,cv2.COLOR_BGR2GRAY)\n",
    "\n",
    "pcc_shift_ra = []\n",
    "response_ra = []\n",
    "for idx in range(len(img_files_path)-1):\n",
    "    img_path_1 = img_files_path_complete[idx]\n",
    "    img1 = np.array(cv2.imread(img_path_1)).astype('float32')\n",
    "    img1_g = cvtColor(img1,cv2.COLOR_BGR2GRAY)\n",
    "    pcc_shift, response = phaseCorrelate(img1_g,img2_g)\n",
    "    pcc_shift_ra.append(pcc_shift)\n",
    "    response_ra.append(response)\n",
    "df_pcc = pd.DataFrame(pcc_shift_ra)\n",
    "df_pcc.columns = [\"Offset of X coordinates\",\"Offset of Y coordinates\"]\n",
    "df_pcc"
   ],
   "metadata": {
    "collapsed": false
   }
  },
  {
   "cell_type": "code",
   "execution_count": 178,
   "outputs": [],
   "source": [
    "# Function to calculate MI:\n",
    "\n",
    "def calculate_mutual_information(img_path_1,img_path_2): #order doesn't matter, MI(A,B) = MI(B,A)\n",
    "    mi_ra = []\n",
    "    img1 = np.array(cv2.imread(img_path_1))\n",
    "    img2 = np.array(cv2.imread(img_path_2))\n",
    "    img1_g = cvtColor(img1,cv2.COLOR_BGR2GRAY)\n",
    "    img2_g = cvtColor(img2,cv2.COLOR_BGR2GRAY)\n",
    "    # Image.fromarray(np.hstack((img1_g,img2_g))).show()\n",
    "    # fig,axes = plt.subplots(1,2)\n",
    "    # axes[0].hist(img1_g.ravel(), bins=20)\n",
    "    # axes[0].set_title('Image 1 histogram')\n",
    "    # axes[1].hist(img2_g.ravel(), bins=20)\n",
    "    # axes[1].set_title('Image 2 histogram')\n",
    "    # plt.show()\n",
    "    corr = np.corrcoef(img1_g.ravel(),img2_g.ravel())[0,1]\n",
    "    hist2d, x_edges, y_edges = np.histogram2d(img1_g.ravel(),img2_g.ravel(),bins=20)\n",
    "    # plt.imshow(hist2d.T,origin='lower',cmap = \"gray\")\n",
    "    # plt.xlabel('image1 signal bin')\n",
    "    # plt.ylabel('image2 signal bin')\n",
    "    # plt.title('2D Histogram between Image1 and Image2 with Cross Correlation Coefficient = {}'.format(corr))\n",
    "    pxy = hist2d / float(np.sum(hist2d))\n",
    "    px = np.sum(pxy, axis=1)  # marginal x over y\n",
    "    py = np.sum(pxy, axis=0)  # marginal y over x\n",
    "    px_py = px[:, None] * py[None, :]  # broadcast to multiply marginals\n",
    "\n",
    "    # now we can do the calculation using the pxy, px_py 2D arrays\n",
    "    nonzeros = pxy > 0  # filer out the zero values\n",
    "    mi = np.sum(pxy[nonzeros] * np.log(pxy[nonzeros] / px_py[nonzeros]))\n",
    "    return mi"
   ],
   "metadata": {
    "collapsed": false
   }
  },
  {
   "cell_type": "code",
   "execution_count": 179,
   "outputs": [
    {
     "name": "stdout",
     "output_type": "stream",
     "text": [
      "[0.4849058314273125, 0.4162245967115682, 0.4321459057960573, 0.3663964914181318, 0.39283773082134227, 0.45622415960382073, 0.5830679398485484, 0.5769726495312383, 0.6343945106850402, 0.6189047776573369, 0.5896230332274913, 0.6019591257643095, 0.5994669954094823, 0.6036054816484573, 0.5390411701038564, 0.6018389780698216, 0.5864717706499663, 0.6313456680768316, 0.6167513410742206, 0.6167358382125928, 0.6246650053383919, 0.617783722684791, 0.6474665083469834, 0.6340809840068675, 0.6195376110145135, 0.6531493243339365, 0.6938635882447781, 0.7017938455432782, 0.7190972054973411, 0.6791819720686404, 0.6993394359130259, 0.7525253232108031, 0.8040443077654922]\n"
     ]
    }
   ],
   "source": [
    "# MI for adjacent:\n",
    "mi_ra = []\n",
    "for idx in range(len(img_files_path)-1):\n",
    "    img_path_1 = img_files_path_complete[idx]\n",
    "    img_path_2 = img_files_path_complete[idx+1]\n",
    "    mi = calculate_mutual_information(img_path_1,img_path_2)\n",
    "    mi_ra.append(mi)\n",
    "print(mi_ra)"
   ],
   "metadata": {
    "collapsed": false
   }
  },
  {
   "cell_type": "code",
   "execution_count": 180,
   "outputs": [
    {
     "name": "stdout",
     "output_type": "stream",
     "text": [
      "[0.1764039393399049, 0.18352899248705767, 0.22781912866566953, 0.16392509779397826, 0.2449892051530869, 0.27517141753061486, 0.3766921772703031, 0.37212039628091165, 0.40006546257798925, 0.4027943086333005, 0.3980786291937331, 0.3910443103471421, 0.3869716770606927, 0.41493285091482823, 0.42689039898613823, 0.6018389780698216, 1.6528426580660232, 0.5864717706499663, 0.4828867039494923, 0.4785494237460075, 0.4528766333169171, 0.44194652567391957, 0.44282225135305353, 0.4360626540214203, 0.42770465077607955, 0.3863985481019138, 0.40120439929595114, 0.3976896405966903, 0.39846168365586043, 0.3887286138013822, 0.3717220540399554, 0.324917839245309, 0.3133268495115286]\n"
     ]
    }
   ],
   "source": [
    "# MI comparing to original reference image:\n",
    "img_path_2 = img_files_path_complete[ref]\n",
    "mi_ra = []\n",
    "\n",
    "for idx in range(len(img_files_path)-1):\n",
    "    img_path_1 = img_files_path_complete[idx]\n",
    "    mi = calculate_mutual_information(img_path_1,img_path_2)\n",
    "    mi_ra.append(mi)\n",
    "print(mi_ra)"
   ],
   "metadata": {
    "collapsed": false
   }
  },
  {
   "cell_type": "markdown",
   "source": [],
   "metadata": {
    "collapsed": false
   }
  }
 ],
 "metadata": {
  "kernelspec": {
   "display_name": "Python 3",
   "language": "python",
   "name": "python3"
  },
  "language_info": {
   "codemirror_mode": {
    "name": "ipython",
    "version": 2
   },
   "file_extension": ".py",
   "mimetype": "text/x-python",
   "name": "python",
   "nbconvert_exporter": "python",
   "pygments_lexer": "ipython2",
   "version": "2.7.6"
  }
 },
 "nbformat": 4,
 "nbformat_minor": 0
}
