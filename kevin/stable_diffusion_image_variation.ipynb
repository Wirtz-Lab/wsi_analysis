{
 "cells": [
  {
   "cell_type": "markdown",
   "source": [
    "# Full Pipeline for Stable Diffusion Image Variation Fine-Tune:"
   ],
   "metadata": {
    "collapsed": false
   }
  },
  {
   "cell_type": "markdown",
   "source": [
    "### First tile all of the images to 512 x 512 (required input)."
   ],
   "metadata": {
    "collapsed": false
   }
  },
  {
   "cell_type": "code",
   "execution_count": 6,
   "metadata": {
    "collapsed": true
   },
   "outputs": [
    {
     "ename": "ImportError",
     "evalue": "cannot import name 'CLIPVisionModelWithProjection' from 'transformers' (C:\\Users\\Kevin\\AppData\\Roaming\\Python\\Python39\\site-packages\\transformers\\__init__.py)",
     "output_type": "error",
     "traceback": [
      "\u001B[1;31m---------------------------------------------------------------------------\u001B[0m",
      "\u001B[1;31mImportError\u001B[0m                               Traceback (most recent call last)",
      "Cell \u001B[1;32mIn[6], line 15\u001B[0m\n\u001B[0;32m     13\u001B[0m \u001B[38;5;28;01mfrom\u001B[39;00m \u001B[38;5;21;01mtyping\u001B[39;00m \u001B[38;5;28;01mimport\u001B[39;00m Callable, List, Optional, Union\n\u001B[0;32m     14\u001B[0m \u001B[38;5;28;01mfrom\u001B[39;00m \u001B[38;5;21;01mpackaging\u001B[39;00m \u001B[38;5;28;01mimport\u001B[39;00m version\n\u001B[1;32m---> 15\u001B[0m \u001B[38;5;28;01mfrom\u001B[39;00m \u001B[38;5;21;01mtransformers\u001B[39;00m \u001B[38;5;28;01mimport\u001B[39;00m CLIPFeatureExtractor, CLIPVisionModelWithProjection\n\u001B[0;32m     16\u001B[0m sys\u001B[38;5;241m.\u001B[39mpath\u001B[38;5;241m.\u001B[39mappend((\u001B[38;5;124mr\u001B[39m\u001B[38;5;124m'\u001B[39m\u001B[38;5;124mC:\u001B[39m\u001B[38;5;124m\\\u001B[39m\u001B[38;5;124mUsers\u001B[39m\u001B[38;5;124m\\\u001B[39m\u001B[38;5;124mKevin\u001B[39m\u001B[38;5;124m\\\u001B[39m\u001B[38;5;124mPycharmProjects\u001B[39m\u001B[38;5;124m\\\u001B[39m\u001B[38;5;124mwsi_analysis\u001B[39m\u001B[38;5;124m\\\u001B[39m\u001B[38;5;124mkevin\u001B[39m\u001B[38;5;124m\\\u001B[39m\u001B[38;5;124mcustom_diffusers\u001B[39m\u001B[38;5;124m'\u001B[39m))\n",
      "\u001B[1;31mImportError\u001B[0m: cannot import name 'CLIPVisionModelWithProjection' from 'transformers' (C:\\Users\\Kevin\\AppData\\Roaming\\Python\\Python39\\site-packages\\transformers\\__init__.py)"
     ]
    }
   ],
   "source": [
    "# import all relevant packages:\n",
    "# from diffusers import StableDiffusionImageVariationPipeline\n",
    "import PIL\n",
    "from PIL import Image\n",
    "Image.MAX_IMAGE_PIXELS = None\n",
    "from torchvision import transforms\n",
    "import numpy as np\n",
    "import pandas as pd\n",
    "import cv2\n",
    "import torch\n",
    "import sys\n",
    "import inspect\n",
    "from typing import Callable, List, Optional, Union\n",
    "from packaging import version\n",
    "from transformers import CLIPFeatureExtractor, CLIPVisionModelWithProjection\n",
    "sys.path.append((r'C:\\Users\\Kevin\\PycharmProjects\\wsi_analysis\\kevin\\custom_diffusers'))"
   ]
  },
  {
   "cell_type": "code",
   "execution_count": 4,
   "outputs": [],
   "source": [
    "# import from custom_diffusers:\n",
    "from custom_diffusers.src.diffusers.schedulers.scheduling_utils import KarrasDiffusionSchedulers\n",
    "from custom_diffusers.src.diffusers.configuration_utils import FrozenDict\n",
    "from custom_diffusers.src.diffusers.models import AutoencoderKL, UNet2DConditionModel\n",
    "from custom_diffusers.src.diffusers.utils import deprecate, is_accelerate_available, logging, randn_tensor\n",
    "from custom_diffusers.src.diffusers.pipelines.pipeline_utils import DiffusionPipeline\n",
    "from custom_diffusers.src.diffusers.pipelines.stable_diffusion.safety_checker import StableDiffusionSafetyChecker\n",
    "from custom_diffusers.src.diffusers.pipelines.stable_diffusion import StableDiffusionPipelineOutput"
   ],
   "metadata": {
    "collapsed": false
   }
  },
  {
   "cell_type": "code",
   "execution_count": 30,
   "outputs": [],
   "source": [
    "logger = logging.get_logger(__name__)\n",
    "class StableDiffusionImageVariationPipeline(DiffusionPipeline):\n",
    "    r\"\"\"\n",
    "    Pipeline to generate variations from an input image using Stable Diffusion.\n",
    "    This model inherits from [`DiffusionPipeline`]. Check the superclass documentation for the generic methods the\n",
    "    library implements for all the pipelines (such as downloading or saving, running on a particular device, etc.)\n",
    "    Args:\n",
    "        vae ([`AutoencoderKL`]):\n",
    "            Variational Auto-Encoder (VAE) Model to encode and decode images to and from latent representations.\n",
    "        image_encoder ([`CLIPVisionModelWithProjection`]):\n",
    "            Frozen CLIP image-encoder. Stable Diffusion Image Variation uses the vision portion of\n",
    "            [CLIP](https://huggingface.co/docs/transformers/model_doc/clip#transformers.CLIPVisionModelWithProjection),\n",
    "            specifically the [clip-vit-large-patch14](https://huggingface.co/openai/clip-vit-large-patch14) variant.\n",
    "        unet ([`UNet2DConditionModel`]): Conditional U-Net architecture to denoise the encoded image latents.\n",
    "        scheduler ([`SchedulerMixin`]):\n",
    "            A scheduler to be used in combination with `unet` to denoise the encoded image latents. Can be one of\n",
    "            [`DDIMScheduler`], [`LMSDiscreteScheduler`], or [`PNDMScheduler`].\n",
    "        safety_checker ([`StableDiffusionSafetyChecker`]):\n",
    "            Classification module that estimates whether generated images could be considered offensive or harmful.\n",
    "            Please, refer to the [model card](https://huggingface.co/runwayml/stable-diffusion-v1-5) for details.\n",
    "        feature_extractor ([`CLIPFeatureExtractor`]):\n",
    "            Model that extracts features from generated images to be used as inputs for the `safety_checker`.\n",
    "    \"\"\"\n",
    "    # TODO: feature_extractor is required to encode images (if they are in PIL format),\n",
    "    # we should give a descriptive message if the pipeline doesn't have one.\n",
    "    _optional_components = [\"safety_checker\"]\n",
    "\n",
    "    def __init__(\n",
    "        self,\n",
    "        vae: AutoencoderKL,\n",
    "        image_encoder: CLIPVisionModelWithProjection,\n",
    "        unet: UNet2DConditionModel,\n",
    "        scheduler: KarrasDiffusionSchedulers,\n",
    "        safety_checker: StableDiffusionSafetyChecker,\n",
    "        feature_extractor: CLIPFeatureExtractor,\n",
    "        requires_safety_checker: bool = True,\n",
    "    ):\n",
    "        super().__init__()\n",
    "\n",
    "        if safety_checker is None and requires_safety_checker:\n",
    "            logger.warn(\n",
    "                f\"You have disabled the safety checker for {self.__class__} by passing `safety_checker=None`. Ensure\"\n",
    "                \" that you abide to the conditions of the Stable Diffusion license and do not expose unfiltered\"\n",
    "                \" results in services or applications open to the public. Both the diffusers team and Hugging Face\"\n",
    "                \" strongly recommend to keep the safety filter enabled in all public facing circumstances, disabling\"\n",
    "                \" it only for use-cases that involve analyzing network behavior or auditing its results. For more\"\n",
    "                \" information, please have a look at https://github.com/huggingface/diffusers/pull/254 .\"\n",
    "            )\n",
    "\n",
    "        if safety_checker is not None and feature_extractor is None:\n",
    "            raise ValueError(\n",
    "                \"Make sure to define a feature extractor when loading {self.__class__} if you want to use the safety\"\n",
    "                \" checker. If you do not want to use the safety checker, you can pass `'safety_checker=None'` instead.\"\n",
    "            )\n",
    "\n",
    "        is_unet_version_less_0_9_0 = hasattr(unet.config, \"_diffusers_version\") and version.parse(\n",
    "            version.parse(unet.config._diffusers_version).base_version\n",
    "        ) < version.parse(\"0.9.0.dev0\")\n",
    "        is_unet_sample_size_less_64 = hasattr(unet.config, \"sample_size\") and unet.config.sample_size < 64\n",
    "        if is_unet_version_less_0_9_0 and is_unet_sample_size_less_64:\n",
    "            deprecation_message = (\n",
    "                \"The configuration file of the unet has set the default `sample_size` to smaller than\"\n",
    "                \" 64 which seems highly unlikely .If you're checkpoint is a fine-tuned version of any of the\"\n",
    "                \" following: \\n- CompVis/stable-diffusion-v1-4 \\n- CompVis/stable-diffusion-v1-3 \\n-\"\n",
    "                \" CompVis/stable-diffusion-v1-2 \\n- CompVis/stable-diffusion-v1-1 \\n- runwayml/stable-diffusion-v1-5\"\n",
    "                \" \\n- runwayml/stable-diffusion-inpainting \\n you should change 'sample_size' to 64 in the\"\n",
    "                \" configuration file. Please make sure to update the config accordingly as leaving `sample_size=32`\"\n",
    "                \" in the config might lead to incorrect results in future versions. If you have downloaded this\"\n",
    "                \" checkpoint from the Hugging Face Hub, it would be very nice if you could open a Pull request for\"\n",
    "                \" the `unet/config.json` file\"\n",
    "            )\n",
    "            deprecate(\"sample_size<64\", \"1.0.0\", deprecation_message, standard_warn=False)\n",
    "            new_config = dict(unet.config)\n",
    "            new_config[\"sample_size\"] = 64\n",
    "            unet._internal_dict = FrozenDict(new_config)\n",
    "\n",
    "        self.register_modules(\n",
    "            vae=vae,\n",
    "            image_encoder=image_encoder,\n",
    "            unet=unet,\n",
    "            scheduler=scheduler,\n",
    "            safety_checker=safety_checker,\n",
    "            feature_extractor=feature_extractor,\n",
    "        )\n",
    "        self.vae_scale_factor = 2 ** (len(self.vae.block_out_channels) - 1)\n",
    "        self.register_to_config(requires_safety_checker=requires_safety_checker)\n",
    "\n",
    "    def enable_sequential_cpu_offload(self, gpu_id=0):\n",
    "        r\"\"\"\n",
    "        Offloads all models to CPU using accelerate, significantly reducing memory usage. When called, unet,\n",
    "        text_encoder, vae and safety checker have their state dicts saved to CPU and then are moved to a\n",
    "        `torch.device('meta') and loaded to GPU only when their specific submodule has its `forward` method called.\n",
    "        \"\"\"\n",
    "        if is_accelerate_available():\n",
    "            from accelerate import cpu_offload\n",
    "        else:\n",
    "            raise ImportError(\"Please install accelerate via `pip install accelerate`\")\n",
    "\n",
    "        device = torch.device(f\"cuda:{gpu_id}\")\n",
    "\n",
    "        for cpu_offloaded_model in [self.unet, self.image_encoder, self.vae, self.safety_checker]:\n",
    "            if cpu_offloaded_model is not None:\n",
    "                cpu_offload(cpu_offloaded_model, device)\n",
    "\n",
    "    @property\n",
    "    # Copied from diffusers.pipelines.stable_diffusion.pipeline_stable_diffusion.StableDiffusionPipeline._execution_device\n",
    "    def _execution_device(self):\n",
    "        r\"\"\"\n",
    "        Returns the device on which the pipeline's models will be executed. After calling\n",
    "        `pipeline.enable_sequential_cpu_offload()` the execution device can only be inferred from Accelerate's module\n",
    "        hooks.\n",
    "        \"\"\"\n",
    "        if self.device != torch.device(\"meta\") or not hasattr(self.unet, \"_hf_hook\"):\n",
    "            return self.device\n",
    "        for module in self.unet.modules():\n",
    "            if (\n",
    "                hasattr(module, \"_hf_hook\")\n",
    "                and hasattr(module._hf_hook, \"execution_device\")\n",
    "                and module._hf_hook.execution_device is not None\n",
    "            ):\n",
    "                return torch.device(module._hf_hook.execution_device)\n",
    "        return self.device\n",
    "\n",
    "    def _encode_image(self, image, device, num_images_per_prompt, do_classifier_free_guidance):\n",
    "        dtype = next(self.image_encoder.parameters()).dtype\n",
    "\n",
    "        if not isinstance(image, torch.Tensor):\n",
    "            image = self.feature_extractor(images=image, return_tensors=\"pt\").pixel_values\n",
    "\n",
    "        image = image.to(device=device, dtype=dtype)\n",
    "        image_embeddings = self.image_encoder(image).image_embeds\n",
    "        image_embeddings = image_embeddings.unsqueeze(1)\n",
    "\n",
    "        # duplicate image embeddings for each generation per prompt, using mps friendly method\n",
    "        bs_embed, seq_len, _ = image_embeddings.shape\n",
    "        image_embeddings = image_embeddings.repeat(1, num_images_per_prompt, 1)\n",
    "        image_embeddings = image_embeddings.view(bs_embed * num_images_per_prompt, seq_len, -1)\n",
    "\n",
    "        if do_classifier_free_guidance:\n",
    "            negative_prompt_embeds = torch.zeros_like(image_embeddings)\n",
    "\n",
    "            # For classifier free guidance, we need to do two forward passes.\n",
    "            # Here we concatenate the unconditional and text embeddings into a single batch\n",
    "            # to avoid doing two forward passes\n",
    "            image_embeddings = torch.cat([negative_prompt_embeds, image_embeddings])\n",
    "\n",
    "        return image_embeddings\n",
    "\n",
    "    # Copied from diffusers.pipelines.stable_diffusion.pipeline_stable_diffusion.StableDiffusionPipeline.run_safety_checker\n",
    "    def run_safety_checker(self, image, device, dtype):\n",
    "        if self.safety_checker is not None:\n",
    "            safety_checker_input = self.feature_extractor(self.numpy_to_pil(image), return_tensors=\"pt\").to(device)\n",
    "            image, has_nsfw_concept = self.safety_checker(\n",
    "                images=image, clip_input=safety_checker_input.pixel_values.to(dtype)\n",
    "            )\n",
    "        else:\n",
    "            has_nsfw_concept = None\n",
    "        return image, has_nsfw_concept\n",
    "\n",
    "    # Copied from diffusers.pipelines.stable_diffusion.pipeline_stable_diffusion.StableDiffusionPipeline.decode_latents\n",
    "    def decode_latents(self, latents):\n",
    "        latents = 1 / self.vae.config.scaling_factor * latents\n",
    "        image = self.vae.decode(latents).sample\n",
    "        image = (image / 2 + 0.5).clamp(0, 1)\n",
    "        # we always cast to float32 as this does not cause significant overhead and is compatible with bfloa16\n",
    "        image = image.cpu().permute(0, 2, 3, 1).float().numpy()\n",
    "        return image\n",
    "\n",
    "    # Copied from diffusers.pipelines.stable_diffusion.pipeline_stable_diffusion.StableDiffusionPipeline.prepare_extra_step_kwargs\n",
    "    def prepare_extra_step_kwargs(self, generator, eta):\n",
    "        # prepare extra kwargs for the scheduler step, since not all schedulers have the same signature\n",
    "        # eta (η) is only used with the DDIMScheduler, it will be ignored for other schedulers.\n",
    "        # eta corresponds to η in DDIM paper: https://arxiv.org/abs/2010.02502\n",
    "        # and should be between [0, 1]\n",
    "\n",
    "        accepts_eta = \"eta\" in set(inspect.signature(self.scheduler.step).parameters.keys())\n",
    "        extra_step_kwargs = {}\n",
    "        if accepts_eta:\n",
    "            extra_step_kwargs[\"eta\"] = eta\n",
    "\n",
    "        # check if the scheduler accepts generator\n",
    "        accepts_generator = \"generator\" in set(inspect.signature(self.scheduler.step).parameters.keys())\n",
    "        if accepts_generator:\n",
    "            extra_step_kwargs[\"generator\"] = generator\n",
    "        return extra_step_kwargs\n",
    "\n",
    "    def check_inputs(self, image, height, width, callback_steps):\n",
    "        if (\n",
    "            not isinstance(image, torch.Tensor)\n",
    "            and not isinstance(image, PIL.Image.Image)\n",
    "            and not isinstance(image, list)\n",
    "        ):\n",
    "            raise ValueError(\n",
    "                \"`image` has to be of type `torch.FloatTensor` or `PIL.Image.Image` or `List[PIL.Image.Image]` but is\"\n",
    "                f\" {type(image)}\"\n",
    "            )\n",
    "\n",
    "        if height % 8 != 0 or width % 8 != 0:\n",
    "            raise ValueError(f\"`height` and `width` have to be divisible by 8 but are {height} and {width}.\")\n",
    "\n",
    "        if (callback_steps is None) or (\n",
    "            callback_steps is not None and (not isinstance(callback_steps, int) or callback_steps <= 0)\n",
    "        ):\n",
    "            raise ValueError(\n",
    "                f\"`callback_steps` has to be a positive integer but is {callback_steps} of type\"\n",
    "                f\" {type(callback_steps)}.\"\n",
    "            )\n",
    "\n",
    "    # Copied from diffusers.pipelines.stable_diffusion.pipeline_stable_diffusion.StableDiffusionPipeline.prepare_latents\n",
    "    def prepare_latents(self, batch_size, num_channels_latents, height, width, dtype, device, generator, latents=None):\n",
    "        shape = (batch_size, num_channels_latents, height // self.vae_scale_factor, width // self.vae_scale_factor)\n",
    "        if isinstance(generator, list) and len(generator) != batch_size:\n",
    "            raise ValueError(\n",
    "                f\"You have passed a list of generators of length {len(generator)}, but requested an effective batch\"\n",
    "                f\" size of {batch_size}. Make sure the batch size matches the length of the generators.\"\n",
    "            )\n",
    "\n",
    "        if latents is None:\n",
    "            latents = randn_tensor(shape, generator=generator, device=device, dtype=dtype)\n",
    "        else:\n",
    "            latents = latents.to(device)\n",
    "\n",
    "        # scale the initial noise by the standard deviation required by the scheduler\n",
    "        latents = latents * self.scheduler.init_noise_sigma\n",
    "        return latents\n",
    "\n",
    "    @torch.no_grad()\n",
    "    def __call__(\n",
    "        self,\n",
    "        image: Union[PIL.Image.Image, List[PIL.Image.Image], torch.FloatTensor],\n",
    "        height: Optional[int] = None,\n",
    "        width: Optional[int] = None,\n",
    "        num_inference_steps: int = 50,\n",
    "        guidance_scale: float = 7.5,\n",
    "        num_images_per_prompt: Optional[int] = 1,\n",
    "        eta: float = 0.0,\n",
    "        generator: Optional[Union[torch.Generator, List[torch.Generator]]] = None,\n",
    "        latents: Optional[torch.FloatTensor] = None,\n",
    "        output_type: Optional[str] = \"pil\",\n",
    "        return_dict: bool = True,\n",
    "        callback: Optional[Callable[[int, int, torch.FloatTensor], None]] = None,\n",
    "        callback_steps: Optional[int] = 1,\n",
    "    ):\n",
    "        r\"\"\"\n",
    "        Function invoked when calling the pipeline for generation.\n",
    "        Args:\n",
    "            image (`PIL.Image.Image` or `List[PIL.Image.Image]` or `torch.FloatTensor`):\n",
    "                The image or images to guide the image generation. If you provide a tensor, it needs to comply with the\n",
    "                configuration of\n",
    "                [this](https://huggingface.co/lambdalabs/sd-image-variations-diffusers/blob/main/feature_extractor/preprocessor_config.json)\n",
    "                `CLIPFeatureExtractor`\n",
    "            height (`int`, *optional*, defaults to self.unet.config.sample_size * self.vae_scale_factor):\n",
    "                The height in pixels of the generated image.\n",
    "            width (`int`, *optional*, defaults to self.unet.config.sample_size * self.vae_scale_factor):\n",
    "                The width in pixels of the generated image.\n",
    "            num_inference_steps (`int`, *optional*, defaults to 50):\n",
    "                The number of denoising steps. More denoising steps usually lead to a higher quality image at the\n",
    "                expense of slower inference.\n",
    "            guidance_scale (`float`, *optional*, defaults to 7.5):\n",
    "                Guidance scale as defined in [Classifier-Free Diffusion Guidance](https://arxiv.org/abs/2207.12598).\n",
    "                `guidance_scale` is defined as `w` of equation 2. of [Imagen\n",
    "                Paper](https://arxiv.org/pdf/2205.11487.pdf). Guidance scale is enabled by setting `guidance_scale >\n",
    "                1`. Higher guidance scale encourages to generate images that are closely linked to the text `prompt`,\n",
    "                usually at the expense of lower image quality.\n",
    "            num_images_per_prompt (`int`, *optional*, defaults to 1):\n",
    "                The number of images to generate per prompt.\n",
    "            eta (`float`, *optional*, defaults to 0.0):\n",
    "                Corresponds to parameter eta (η) in the DDIM paper: https://arxiv.org/abs/2010.02502. Only applies to\n",
    "                [`schedulers.DDIMScheduler`], will be ignored for others.\n",
    "            generator (`torch.Generator`, *optional*):\n",
    "                One or a list of [torch generator(s)](https://pytorch.org/docs/stable/generated/torch.Generator.html)\n",
    "                to make generation deterministic.\n",
    "            latents (`torch.FloatTensor`, *optional*):\n",
    "                Pre-generated noisy latents, sampled from a Gaussian distribution, to be used as inputs for image\n",
    "                generation. Can be used to tweak the same generation with different prompts. If not provided, a latents\n",
    "                tensor will ge generated by sampling using the supplied random `generator`.\n",
    "            output_type (`str`, *optional*, defaults to `\"pil\"`):\n",
    "                The output format of the generate image. Choose between\n",
    "                [PIL](https://pillow.readthedocs.io/en/stable/): `PIL.Image.Image` or `np.array`.\n",
    "            return_dict (`bool`, *optional*, defaults to `True`):\n",
    "                Whether or not to return a [`~pipelines.stable_diffusion.StableDiffusionPipelineOutput`] instead of a\n",
    "                plain tuple.\n",
    "            callback (`Callable`, *optional*):\n",
    "                A function that will be called every `callback_steps` steps during inference. The function will be\n",
    "                called with the following arguments: `callback(step: int, timestep: int, latents: torch.FloatTensor)`.\n",
    "            callback_steps (`int`, *optional*, defaults to 1):\n",
    "                The frequency at which the `callback` function will be called. If not specified, the callback will be\n",
    "                called at every step.\n",
    "        Returns:\n",
    "            [`~pipelines.stable_diffusion.StableDiffusionPipelineOutput`] or `tuple`:\n",
    "            [`~pipelines.stable_diffusion.StableDiffusionPipelineOutput`] if `return_dict` is True, otherwise a `tuple.\n",
    "            When returning a tuple, the first element is a list with the generated images, and the second element is a\n",
    "            list of `bool`s denoting whether the corresponding generated image likely represents \"not-safe-for-work\"\n",
    "            (nsfw) content, according to the `safety_checker`.\n",
    "        \"\"\"\n",
    "        # 0. Default height and width to unet\n",
    "        height = height or self.unet.config.sample_size * self.vae_scale_factor\n",
    "        width = width or self.unet.config.sample_size * self.vae_scale_factor\n",
    "\n",
    "        # 1. Check inputs. Raise error if not correct\n",
    "        self.check_inputs(image, height, width, callback_steps)\n",
    "\n",
    "        # 2. Define call parameters\n",
    "        if isinstance(image, PIL.Image.Image):\n",
    "            batch_size = 1\n",
    "        elif isinstance(image, list):\n",
    "            batch_size = len(image)\n",
    "        else:\n",
    "            batch_size = image.shape[0]\n",
    "        device = self._execution_device\n",
    "        # here `guidance_scale` is defined analog to the guidance weight `w` of equation (2)\n",
    "        # of the Imagen paper: https://arxiv.org/pdf/2205.11487.pdf . `guidance_scale = 1`\n",
    "        # corresponds to doing no classifier free guidance.\n",
    "        do_classifier_free_guidance = guidance_scale > 1.0\n",
    "\n",
    "        # 3. Encode input image\n",
    "        image_embeddings = self._encode_image(image, device, num_images_per_prompt, do_classifier_free_guidance)\n",
    "\n",
    "        # 4. Prepare timesteps\n",
    "        self.scheduler.set_timesteps(num_inference_steps, device=device)\n",
    "        timesteps = self.scheduler.timesteps\n",
    "\n",
    "        # 5. Prepare latent variables\n",
    "        num_channels_latents = self.unet.in_channels\n",
    "        latents = self.prepare_latents(\n",
    "            batch_size * num_images_per_prompt,\n",
    "            num_channels_latents,\n",
    "            height,\n",
    "            width,\n",
    "            image_embeddings.dtype,\n",
    "            device,\n",
    "            generator,\n",
    "            latents,\n",
    "        )\n",
    "\n",
    "        # 6. Prepare extra step kwargs. TODO: Logic should ideally just be moved out of the pipeline\n",
    "        extra_step_kwargs = self.prepare_extra_step_kwargs(generator, eta)\n",
    "\n",
    "        # 7. Denoising loop\n",
    "        num_warmup_steps = len(timesteps) - num_inference_steps * self.scheduler.order\n",
    "        with self.progress_bar(total=num_inference_steps) as progress_bar:\n",
    "            for i, t in enumerate(timesteps):\n",
    "                # expand the latents if we are doing classifier free guidance\n",
    "                latent_model_input = torch.cat([latents] * 2) if do_classifier_free_guidance else latents\n",
    "                latent_model_input = self.scheduler.scale_model_input(latent_model_input, t)\n",
    "\n",
    "                # predict the noise residual\n",
    "                noise_pred = self.unet(latent_model_input, t, encoder_hidden_states=image_embeddings).sample\n",
    "\n",
    "                # perform guidance\n",
    "                if do_classifier_free_guidance:\n",
    "                    noise_pred_uncond, noise_pred_text = noise_pred.chunk(2)\n",
    "                    noise_pred = noise_pred_uncond + guidance_scale * (noise_pred_text - noise_pred_uncond)\n",
    "\n",
    "                # compute the previous noisy sample x_t -> x_t-1\n",
    "                latents = self.scheduler.step(noise_pred, t, latents, **extra_step_kwargs).prev_sample\n",
    "\n",
    "                # call the callback, if provided\n",
    "                if i == len(timesteps) - 1 or ((i + 1) > num_warmup_steps and (i + 1) % self.scheduler.order == 0):\n",
    "                    progress_bar.update()\n",
    "                    if callback is not None and i % callback_steps == 0:\n",
    "                        callback(i, t, latents)\n",
    "\n",
    "        # 8. Post-processing\n",
    "        image = self.decode_latents(latents)\n",
    "\n",
    "        # 9. Run safety checker\n",
    "        image, has_nsfw_concept = self.run_safety_checker(image, device, image_embeddings.dtype)\n",
    "\n",
    "        # 10. Convert to PIL\n",
    "        if output_type == \"pil\":\n",
    "            image = self.numpy_to_pil(image)\n",
    "\n",
    "        if not return_dict:\n",
    "            return (image, has_nsfw_concept)\n",
    "\n",
    "        return StableDiffusionPipelineOutput(images=image, nsfw_content_detected=has_nsfw_concept)"
   ],
   "metadata": {
    "collapsed": false
   }
  },
  {
   "cell_type": "code",
   "execution_count": 31,
   "outputs": [
    {
     "data": {
      "text/plain": "StableDiffusionImageVariationPipeline {\n  \"_class_name\": \"StableDiffusionImageVariationPipeline\",\n  \"_diffusers_version\": \"0.13.0.dev0\",\n  \"feature_extractor\": [\n    \"transformers\",\n    \"type\"\n  ],\n  \"image_encoder\": [\n    \"transformers\",\n    \"type\"\n  ],\n  \"requires_safety_checker\": true,\n  \"safety_checker\": [\n    \"stable_diffusion\",\n    \"type\"\n  ],\n  \"scheduler\": [\n    \"schedulers\",\n    \"EnumMeta\"\n  ],\n  \"unet\": [\n    \"models\",\n    \"type\"\n  ],\n  \"vae\": [\n    \"models\",\n    \"type\"\n  ]\n}"
     },
     "execution_count": 31,
     "metadata": {},
     "output_type": "execute_result"
    }
   ],
   "source": [
    "StableDiffusionImageVariationPipeline(AutoencoderKL,\n",
    "        CLIPVisionModelWithProjection,\n",
    "        UNet2DConditionModel,\n",
    "        KarrasDiffusionSchedulers,\n",
    "        StableDiffusionSafetyChecker,\n",
    "        CLIPFeatureExtractor)"
   ],
   "metadata": {
    "collapsed": false
   }
  },
  {
   "cell_type": "code",
   "execution_count": 12,
   "outputs": [],
   "source": [
    "from diffusers import StableDiffusionImageVariationPipeline"
   ],
   "metadata": {
    "collapsed": false
   }
  },
  {
   "cell_type": "code",
   "execution_count": 21,
   "outputs": [
    {
     "data": {
      "text/plain": "Fetching 11 files:   0%|          | 0/11 [00:00<?, ?it/s]",
      "application/vnd.jupyter.widget-view+json": {
       "version_major": 2,
       "version_minor": 0,
       "model_id": "f4974144c37148999c2fca8ad6ab0154"
      }
     },
     "metadata": {},
     "output_type": "display_data"
    }
   ],
   "source": [
    "image_pipe = StableDiffusionImageVariationPipeline.from_pretrained(\"lambdalabs/sd-image-variations-diffusers\")"
   ],
   "metadata": {
    "collapsed": false
   }
  },
  {
   "cell_type": "code",
   "execution_count": 22,
   "outputs": [
    {
     "data": {
      "text/plain": "StableDiffusionImageVariationPipeline {\n  \"_class_name\": \"StableDiffusionImageVariationPipeline\",\n  \"_diffusers_version\": \"0.11.1\",\n  \"feature_extractor\": [\n    \"transformers\",\n    \"CLIPImageProcessor\"\n  ],\n  \"image_encoder\": [\n    \"transformers\",\n    \"CLIPVisionModelWithProjection\"\n  ],\n  \"requires_safety_checker\": true,\n  \"safety_checker\": [\n    \"stable_diffusion\",\n    \"StableDiffusionSafetyChecker\"\n  ],\n  \"scheduler\": [\n    \"diffusers\",\n    \"PNDMScheduler\"\n  ],\n  \"unet\": [\n    \"diffusers\",\n    \"UNet2DConditionModel\"\n  ],\n  \"vae\": [\n    \"diffusers\",\n    \"AutoencoderKL\"\n  ]\n}"
     },
     "execution_count": 22,
     "metadata": {},
     "output_type": "execute_result"
    }
   ],
   "source": [
    "image_pipe"
   ],
   "metadata": {
    "collapsed": false
   }
  },
  {
   "cell_type": "code",
   "execution_count": 39,
   "outputs": [
    {
     "data": {
      "text/plain": "  0%|          | 0/50 [00:00<?, ?it/s]",
      "application/vnd.jupyter.widget-view+json": {
       "version_major": 2,
       "version_minor": 0,
       "model_id": "0e583757afd9400ba5ef091bdf9e5d99"
      }
     },
     "metadata": {},
     "output_type": "display_data"
    },
    {
     "name": "stderr",
     "output_type": "stream",
     "text": [
      "Potential NSFW content was detected in one or more images. A black image will be returned instead. Try again with a different prompt and/or seed.\n"
     ]
    }
   ],
   "source": [
    "dict = image_pipe(img_list)"
   ],
   "metadata": {
    "collapsed": false
   }
  },
  {
   "cell_type": "code",
   "execution_count": 45,
   "outputs": [
    {
     "data": {
      "text/plain": "  0%|          | 0/50 [00:00<?, ?it/s]",
      "application/vnd.jupyter.widget-view+json": {
       "version_major": 2,
       "version_minor": 0,
       "model_id": "5c2ff176a5324f89adaf3a17320db5ac"
      }
     },
     "metadata": {},
     "output_type": "display_data"
    },
    {
     "name": "stderr",
     "output_type": "stream",
     "text": [
      "Potential NSFW content was detected in one or more images. A black image will be returned instead. Try again with a different prompt and/or seed.\n"
     ]
    }
   ],
   "source": [
    "reference_image_path = r'\\\\shelter\\Kyu\\unstain2stain\\biomax_images\\stained\\padded_images\\sk244a'\n",
    "ref_img_path = [_ for _ in os.listdir(reference_image_path) if _.endswith(\".png\")][0:4] #batch size = 4\n",
    "ref_img_path_complete = [os.path.join(reference_image_path, x) for x in ref_img_path]\n",
    "img_list1 = [Image.open(x) for x in ref_img_path_complete]\n",
    "dict1 = image_pipe(img_list1)"
   ],
   "metadata": {
    "collapsed": false
   }
  },
  {
   "cell_type": "code",
   "execution_count": 7,
   "outputs": [],
   "source": [
    "from huggingface_hub import hf_hub_download\n",
    "ckpt_path = hf_hub_download(repo_id=\"lambdalabs/stable-diffusion-image-conditioned\", filename=\"sd-clip-vit-l14-img-embed_ema_only.ckpt\", use_auth_token=True)"
   ],
   "metadata": {
    "collapsed": false
   }
  },
  {
   "cell_type": "code",
   "execution_count": 3,
   "outputs": [],
   "source": [
    "# import os\n",
    "# os.chdir(r'C:\\Users\\Kevin\\PycharmProjects\\wsi_analysis\\kevin\\stable-diffusion')"
   ],
   "metadata": {
    "collapsed": false
   }
  },
  {
   "cell_type": "code",
   "execution_count": 1,
   "outputs": [],
   "source": [
    "# import all relevant packages:\n",
    "# from diffusers import StableDiffusionImageVariationPipeline\n",
    "import PIL\n",
    "from PIL import Image\n",
    "Image.MAX_IMAGE_PIXELS = None\n",
    "from torchvision import transforms\n",
    "import numpy as np\n",
    "import pandas as pd\n",
    "import cv2\n",
    "import torch\n",
    "import sys\n",
    "import pytorch_lightning as pl\n",
    "import inspect\n",
    "from typing import Callable, List, Optional, Union\n",
    "from packaging import version\n",
    "from pytorch_lightning.trainer import Trainer\n",
    "from transformers import CLIPFeatureExtractor #, CLIPVisionModelWithProjection\n",
    "# sys.path.append((r'C:\\Users\\Kevin\\PycharmProjects\\wsi_analysis\\kevin\\custom_diffusers'))"
   ],
   "metadata": {
    "collapsed": false
   }
  },
  {
   "cell_type": "code",
   "execution_count": 2,
   "outputs": [],
   "source": [
    "BATCH_SIZE = 4\n",
    "ACCUMULATE_BATCHES = 1"
   ],
   "metadata": {
    "collapsed": false
   }
  },
  {
   "cell_type": "code",
   "execution_count": 3,
   "outputs": [
    {
     "data": {
      "text/plain": "True"
     },
     "execution_count": 3,
     "metadata": {},
     "output_type": "execute_result"
    }
   ],
   "source": [
    "torch.cuda.is_available()"
   ],
   "metadata": {
    "collapsed": false
   }
  },
  {
   "cell_type": "code",
   "execution_count": 4,
   "outputs": [],
   "source": [
    "import os\n",
    "os.chdir(r'C:\\Users\\Kevin\\PycharmProjects\\wsi_analysis\\kevin\\stable-diffusion')"
   ],
   "metadata": {
    "collapsed": false
   }
  },
  {
   "cell_type": "code",
   "execution_count": 5,
   "outputs": [],
   "source": [
    "# !pip install -r requirements.txt --user"
   ],
   "metadata": {
    "collapsed": false
   }
  },
  {
   "cell_type": "code",
   "execution_count": 6,
   "outputs": [
    {
     "name": "stdout",
     "output_type": "stream",
     "text": [
      "Running on GPUs 0,\n",
      "LatentDiffusion: Running in eps-prediction mode\n",
      "DiffusionWrapper has 859.52 M params.\n",
      "Keeping EMAs of 688.\n",
      "making attention of type 'vanilla' with 512 in_channels\n",
      "Working with z of shape (1, 4, 32, 32) = 4096 dimensions.\n",
      "making attention of type 'vanilla' with 512 in_channels\n",
      "Monitoring val/loss_simple_ema as checkpoint metric.\n",
      "Merged modelckpt-cfg: \n",
      "{'target': 'pytorch_lightning.callbacks.ModelCheckpoint', 'params': {'dirpath': 'logs\\\\2023-02-06T15-15-58_sd-image-condition-attn-finetune\\\\checkpoints', 'filename': '{epoch:06}', 'verbose': True, 'save_last': True, 'monitor': 'val/loss_simple_ema', 'save_top_k': 3, 'every_n_train_steps': 5000}}\n"
     ]
    },
    {
     "name": "stderr",
     "output_type": "stream",
     "text": [
      "Global seed set to 23\n",
      "+--------------------- Traceback (most recent call last) ---------------------+\n",
      "| C:\\Users\\Kevin\\PycharmProjects\\wsi_analysis\\kevin\\stable-diffusion\\main.py: |\n",
      "| 842 in <module>                                                             |\n",
      "|                                                                             |\n",
      "|   839             from pytorch_lightning.trainer.connectors.checkpoint_conn |\n",
      "|   840             setattr(CheckpointConnector, \"hpc_resume_path\", None)     |\n",
      "|   841                                                                       |\n",
      "| > 842         trainer = Trainer.from_argparse_args(trainer_opt, **trainer_k |\n",
      "|   843         trainer.logdir = logdir  ###                                  |\n",
      "|   844                                                                       |\n",
      "|   845         # data                                                        |\n",
      "|                                                                             |\n",
      "| C:\\Users\\Kevin\\AppData\\Roaming\\Python\\Python39\\site-packages\\pytorch_lightn |\n",
      "| ing\\trainer\\properties.py:421 in from_argparse_args                         |\n",
      "|                                                                             |\n",
      "|   418                                                                       |\n",
      "|   419     @classmethod                                                      |\n",
      "|   420     def from_argparse_args(cls: Type[\"_T\"], args: Union[Namespace, Ar |\n",
      "| > 421         return from_argparse_args(cls, args, **kwargs)                |\n",
      "|   422                                                                       |\n",
      "|   423     @classmethod                                                      |\n",
      "|   424     def parse_argparser(cls, arg_parser: Union[ArgumentParser, Namesp |\n",
      "|                                                                             |\n",
      "| C:\\Users\\Kevin\\AppData\\Roaming\\Python\\Python39\\site-packages\\pytorch_lightn |\n",
      "| ing\\utilities\\argparse.py:52 in from_argparse_args                          |\n",
      "|                                                                             |\n",
      "|    49     trainer_kwargs = {name: params[name] for name in valid_kwargs if  |\n",
      "|    50     trainer_kwargs.update(**kwargs)                                   |\n",
      "|    51                                                                       |\n",
      "| >  52     return cls(**trainer_kwargs)                                      |\n",
      "|    53                                                                       |\n",
      "|    54                                                                       |\n",
      "|    55 def parse_argparser(cls, arg_parser: Union[ArgumentParser, Namespace] |\n",
      "|                                                                             |\n",
      "| C:\\Users\\Kevin\\AppData\\Roaming\\Python\\Python39\\site-packages\\pytorch_lightn |\n",
      "| ing\\trainer\\connectors\\env_vars_connector.py:40 in insert_env_defaults      |\n",
      "|                                                                             |\n",
      "|   37         kwargs = dict(list(env_variables.items()) + list(kwargs.items( |\n",
      "|   38                                                                        |\n",
      "|   39         # all args were already moved to kwargs                        |\n",
      "| > 40         return fn(self, **kwargs)                                      |\n",
      "|   41                                                                        |\n",
      "|   42     return insert_env_defaults                                         |\n",
      "|   43                                                                        |\n",
      "|                                                                             |\n",
      "| C:\\Users\\Kevin\\AppData\\Roaming\\Python\\Python39\\site-packages\\pytorch_lightn |\n",
      "| ing\\trainer\\trainer.py:440 in __init__                                      |\n",
      "|                                                                             |\n",
      "|    437         )                                                            |\n",
      "|    438                                                                      |\n",
      "|    439         # init training tricks                                       |\n",
      "| >  440         self.training_tricks_connector.on_trainer_init(              |\n",
      "|    441             gradient_clip_val,                                       |\n",
      "|    442             gradient_clip_algorithm,                                 |\n",
      "|    443             track_grad_norm,                                         |\n",
      "|                                                                             |\n",
      "| C:\\Users\\Kevin\\AppData\\Roaming\\Python\\Python39\\site-packages\\pytorch_lightn |\n",
      "| ing\\trainer\\connectors\\training_trick_connector.py:50 in on_trainer_init    |\n",
      "|                                                                             |\n",
      "|   47                                                                        |\n",
      "|   48         # accumulated grads                                            |\n",
      "|   49         self.trainer.accumulate_grad_batches = accumulate_grad_batches |\n",
      "| > 50         self.configure_accumulated_gradients(accumulate_grad_batches)  |\n",
      "|   51                                                                        |\n",
      "|   52         if truncated_bptt_steps is not None and truncated_bptt_steps > |\n",
      "|   53             rank_zero_deprecation(                                     |\n",
      "|                                                                             |\n",
      "| C:\\Users\\Kevin\\AppData\\Roaming\\Python\\Python39\\site-packages\\pytorch_lightn |\n",
      "| ing\\trainer\\connectors\\training_trick_connector.py:66 in                    |\n",
      "| configure_accumulated_gradients                                             |\n",
      "|                                                                             |\n",
      "|   63             schedule = {0: accumulate_grad_batches}                    |\n",
      "|   64             self.trainer.accumulation_scheduler = GradientAccumulation |\n",
      "|   65         else:                                                          |\n",
      "| > 66             raise TypeError(\"Gradient accumulation supports only int a |\n",
      "|   67                                                                        |\n",
      "+-----------------------------------------------------------------------------+\n",
      "TypeError: Gradient accumulation supports only int and dict types\n",
      "\n",
      "During handling of the above exception, another exception occurred:\n",
      "\n",
      "+--------------------- Traceback (most recent call last) ---------------------+\n",
      "| C:\\Users\\Kevin\\PycharmProjects\\wsi_analysis\\kevin\\stable-diffusion\\main.py: |\n",
      "| 939 in <module>                                                             |\n",
      "|                                                                             |\n",
      "|   936             dst = os.path.join(dst, \"debug_runs\", name)               |\n",
      "|   937             os.makedirs(os.path.split(dst)[0], exist_ok=True)         |\n",
      "|   938             os.rename(logdir, dst)                                    |\n",
      "| > 939         if trainer.global_rank == 0:                                  |\n",
      "|   940             rank_zero_print(trainer.profiler.summary())               |\n",
      "|   941                                                                       |\n",
      "+-----------------------------------------------------------------------------+\n",
      "NameError: name 'trainer' is not defined\n"
     ]
    }
   ],
   "source": [
    "!(python main.py \\\n",
    "    -t \\\n",
    "    --base configs/stable-diffusion/sd-image-condition-attn-finetune.yaml \\\n",
    "    --gpus 0, \\\n",
    "    --scale_lr False \\\n",
    "    --num_nodes 1 \\\n",
    "    --check_val_every_n_epoch 10 \\\n",
    "    -- finetune_from C:\\Users\\Kevin\\PycharmProjects\\wsi_analysis\\kevin\\stable-diffusion\\new_cache_dir\\models--lambdalabs--stable-diffusion-image-conditioned\\snapshots\\c24656f0a8ef81625d4fc4ec097dd97971139ad9\\sd-clip-vit-l14-img-embed_ema_only.ckpt \\\n",
    "    # --finetune_from C:\\Users\\Kevin\\.cache\\huggingface\\hub\\models--lambdalabs--stable-diffusion-image-conditioned\\snapshots\\c24656f0a8ef81625d4fc4ec097dd97971139ad9\\sd-clip-vit-l14-img-embed_ema_only.ckpt \\\n",
    "    data.params.batch_size=\"$BATCH_SIZE\" \\\n",
    "    lightning.trainer.accumulate_grad_batches=\"$ACCUMULATE_BATCHES\" \\\n",
    "    data.params.validation.params.n_gpus=\"$N_GPUS\" \\\n",
    ")"
   ],
   "metadata": {
    "collapsed": false
   }
  },
  {
   "cell_type": "code",
   "execution_count": 15,
   "outputs": [
    {
     "name": "stderr",
     "output_type": "stream",
     "text": [
      "usage: img2img.py [-h] [--prompt [PROMPT]] [--init-img [INIT_IMG]]\n",
      "                  [--outdir [OUTDIR]] [--skip_grid] [--skip_save]\n",
      "                  [--ddim_steps DDIM_STEPS] [--plms] [--fixed_code]\n",
      "                  [--ddim_eta DDIM_ETA] [--n_iter N_ITER] [--C C] [--f F]\n",
      "                  [--n_samples N_SAMPLES] [--n_rows N_ROWS] [--scale SCALE]\n",
      "                  [--strength STRENGTH] [--from-file FROM_FILE]\n",
      "                  [--config CONFIG] [--ckpt CKPT] [--seed SEED]\n",
      "                  [--precision {full,autocast}]\n",
      "img2img.py: error: unrecognized arguments: --H 512 --W 512\n"
     ]
    }
   ],
   "source": [
    "# !(python scripts/img2img.py \\\n",
    "#     --outdir 'outputs/generated_pokemon' \\\n",
    "#     --H 512 --W 512 \\\n",
    "#     --n_samples 4 \\\n",
    "#     --config configs/stable-diffusion/sd-image-condition-attn-finetune.yaml \\\n",
    "#     --ckpt 'path/to/your/checkpoint')"
   ],
   "metadata": {
    "collapsed": false
   }
  }
 ],
 "metadata": {
  "kernelspec": {
   "display_name": "Python 3",
   "language": "python",
   "name": "python3"
  },
  "language_info": {
   "codemirror_mode": {
    "name": "ipython",
    "version": 2
   },
   "file_extension": ".py",
   "mimetype": "text/x-python",
   "name": "python",
   "nbconvert_exporter": "python",
   "pygments_lexer": "ipython2",
   "version": "2.7.6"
  }
 },
 "nbformat": 4,
 "nbformat_minor": 0
}
