{
 "cells": [
  {
   "cell_type": "code",
   "execution_count": null,
   "metadata": {
    "collapsed": true
   },
   "outputs": [],
   "source": [
    "from diffusers import StableDiffusionImageVariationPipeline\n",
    "from PIL import Image\n",
    "from torchvision import transforms\n",
    "device = \"cuda:0\"\n",
    "sd_pipe = StableDiffusionImageVariationPipeline.from_pretrained(\n",
    "  \"lambdalabs/sd-image-variations-diffusers\",\n",
    "  revision=\"v2.0\",\n",
    "  )\n",
    "sd_pipe = sd_pipe.to(device)\n",
    "\n",
    "im = Image.open(\"path/to/image.jpg\")\n",
    "tform = transforms.Compose([\n",
    "    transforms.ToTensor(),\n",
    "    transforms.Resize(\n",
    "        (224, 224),\n",
    "        interpolation=transforms.InterpolationMode.BICUBIC,\n",
    "        antialias=False,\n",
    "        ),\n",
    "    transforms.Normalize(\n",
    "      [0.48145466, 0.4578275, 0.40821073],\n",
    "      [0.26862954, 0.26130258, 0.27577711]),\n",
    "])\n",
    "inp = tform(im).to(device).unsqueeze(0)\n",
    "\n",
    "out = sd_pipe(inp, guidance_scale=3)\n",
    "out[\"images\"][0].save(\"result.jpg\")"
   ]
  }
 ],
 "metadata": {
  "kernelspec": {
   "display_name": "Python 3",
   "language": "python",
   "name": "python3"
  },
  "language_info": {
   "codemirror_mode": {
    "name": "ipython",
    "version": 2
   },
   "file_extension": ".py",
   "mimetype": "text/x-python",
   "name": "python",
   "nbconvert_exporter": "python",
   "pygments_lexer": "ipython2",
   "version": "2.7.6"
  }
 },
 "nbformat": 4,
 "nbformat_minor": 0
}
