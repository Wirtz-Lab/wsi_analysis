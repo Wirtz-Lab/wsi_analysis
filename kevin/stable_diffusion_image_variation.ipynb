{
 "cells": [
  {
   "cell_type": "code",
   "execution_count": 1,
   "metadata": {
    "collapsed": true
   },
   "outputs": [
    {
     "ename": "ImportError",
     "evalue": "cannot import name 'StableDiffusionImageVariationPipeline' from 'diffusers' (C:\\Users\\Kevin\\PycharmProjects\\wsi_analysis\\kevin\\diffusers\\__init__.py)",
     "output_type": "error",
     "traceback": [
      "\u001B[1;31m---------------------------------------------------------------------------\u001B[0m",
      "\u001B[1;31mImportError\u001B[0m                               Traceback (most recent call last)",
      "Cell \u001B[1;32mIn[1], line 1\u001B[0m\n\u001B[1;32m----> 1\u001B[0m \u001B[38;5;28;01mfrom\u001B[39;00m \u001B[38;5;21;01mdiffusers\u001B[39;00m \u001B[38;5;28;01mimport\u001B[39;00m StableDiffusionImageVariationPipeline\n\u001B[0;32m      2\u001B[0m \u001B[38;5;28;01mfrom\u001B[39;00m \u001B[38;5;21;01mPIL\u001B[39;00m \u001B[38;5;28;01mimport\u001B[39;00m Image\n\u001B[0;32m      3\u001B[0m Image\u001B[38;5;241m.\u001B[39mMAX_IMAGE_PIXELS \u001B[38;5;241m=\u001B[39m \u001B[38;5;28;01mNone\u001B[39;00m\n",
      "\u001B[1;31mImportError\u001B[0m: cannot import name 'StableDiffusionImageVariationPipeline' from 'diffusers' (C:\\Users\\Kevin\\PycharmProjects\\wsi_analysis\\kevin\\diffusers\\__init__.py)"
     ]
    }
   ],
   "source": [
    "from diffusers import StableDiffusionImageVariationPipeline\n",
    "from PIL import Image\n",
    "Image.MAX_IMAGE_PIXELS = None\n",
    "from torchvision import transforms\n",
    "import numpy as np\n",
    "import pandas as pd\n",
    "import cv2\n",
    "import sys\n",
    "sys.path.append((r'C:\\Users\\Kevin\\PycharmProjects\\wsi_analysis\\kevin\\diffusers\\src'))\n",
    "from src.diffusers.configuration_utils import FrozenDict\n",
    "from src.models import AutoencoderKL, UNet2DConditionModel\n"
   ]
  },
  {
   "cell_type": "code",
   "execution_count": null,
   "outputs": [],
   "source": [
    "import inspect\n",
    "from typing import Callable, List, Optional, Union\n",
    "\n",
    "import torch\n",
    "\n",
    "import PIL\n",
    "from packaging import version\n",
    "from transformers import CLIPFeatureExtractor, CLIPVisionModelWithProjection\n",
    "\n",
    "from ...models import AutoencoderKL, UNet2DConditionModel\n",
    "from ...schedulers import KarrasDiffusionSchedulers\n",
    "from ...utils import deprecate, is_accelerate_available, logging, randn_tensor\n",
    "from ..pipeline_utils import DiffusionPipeline\n",
    "from . import StableDiffusionPipelineOutput\n",
    "from .safety_checker import StableDiffusionSafetyChecker"
   ],
   "metadata": {
    "collapsed": false
   }
  },
  {
   "cell_type": "code",
   "execution_count": 14,
   "outputs": [
    {
     "name": "stdout",
     "output_type": "stream",
     "text": [
      "['C:\\\\Users\\\\Kevin\\\\PycharmProjects\\\\wsi_analysis\\\\kevin\\\\diffusers\\\\src\\\\diffusers', 'C:\\\\Users\\\\Kevin\\\\PycharmProjects\\\\wsi_analysis\\\\kevin\\\\diffusers', 'C:\\\\Program Files\\\\JetBrains\\\\PyCharm 2022.2.4\\\\plugins\\\\python\\\\helpers-pro\\\\jupyter_debug', 'C:\\\\Program Files\\\\JetBrains\\\\PyCharm 2022.2.4\\\\plugins\\\\python\\\\helpers\\\\pydev', 'C:\\\\Users\\\\Kevin\\\\PycharmProjects\\\\wsi_analysis\\\\kevin', 'C:\\\\Users\\\\Kevin\\\\PycharmProjects\\\\wsi_analysis', 'C:\\\\Users\\\\Kevin\\\\.conda\\\\envs\\\\wsi_analysis1\\\\python39.zip', 'C:\\\\Users\\\\Kevin\\\\.conda\\\\envs\\\\wsi_analysis1\\\\DLLs', 'C:\\\\Users\\\\Kevin\\\\.conda\\\\envs\\\\wsi_analysis1\\\\lib', 'C:\\\\Users\\\\Kevin\\\\.conda\\\\envs\\\\wsi_analysis1', '', 'C:\\\\Users\\\\Kevin\\\\.conda\\\\envs\\\\wsi_analysis1\\\\lib\\\\site-packages', 'C:\\\\Users\\\\Kevin\\\\.conda\\\\envs\\\\wsi_analysis1\\\\lib\\\\site-packages\\\\win32', 'C:\\\\Users\\\\Kevin\\\\.conda\\\\envs\\\\wsi_analysis1\\\\lib\\\\site-packages\\\\win32\\\\lib', 'C:\\\\Users\\\\Kevin\\\\.conda\\\\envs\\\\wsi_analysis1\\\\lib\\\\site-packages\\\\Pythonwin', 'C:\\\\Users\\\\Kevin\\\\PycharmProjects\\\\wsi_analysis\\\\kevin\\\\diffusers\\\\src\\\\diffusers', 'C:\\\\Users\\\\Kevin\\\\PycharmProjects\\\\wsi_analysis\\\\kevin\\\\diffusers\\\\src\\\\diffusers', 'C:\\\\Users\\\\Kevin\\\\PycharmProjects\\\\wsi_analysis\\\\kevin\\\\diffusers\\\\src', 'C:\\\\Users\\\\Kevin\\\\PycharmProjects\\\\wsi_analysis\\\\kevin\\\\diffusers\\\\src']\n"
     ]
    }
   ],
   "source": [],
   "metadata": {
    "collapsed": false
   }
  },
  {
   "cell_type": "code",
   "execution_count": 17,
   "outputs": [],
   "source": [
    "\n"
   ],
   "metadata": {
    "collapsed": false
   }
  },
  {
   "cell_type": "code",
   "execution_count": null,
   "outputs": [],
   "source": [],
   "metadata": {
    "collapsed": false
   }
  }
 ],
 "metadata": {
  "kernelspec": {
   "display_name": "Python 3",
   "language": "python",
   "name": "python3"
  },
  "language_info": {
   "codemirror_mode": {
    "name": "ipython",
    "version": 2
   },
   "file_extension": ".py",
   "mimetype": "text/x-python",
   "name": "python",
   "nbconvert_exporter": "python",
   "pygments_lexer": "ipython2",
   "version": "2.7.6"
  }
 },
 "nbformat": 4,
 "nbformat_minor": 0
}
