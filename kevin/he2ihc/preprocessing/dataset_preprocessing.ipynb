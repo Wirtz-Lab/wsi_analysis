{
 "cells": [
  {
   "cell_type": "markdown",
   "source": [
    "### Code to tile images to 256 x 256 from 1024 x 1024 images:"
   ],
   "metadata": {
    "collapsed": false
   }
  },
  {
   "cell_type": "code",
   "execution_count": 1,
   "outputs": [],
   "source": [
    "import os\n",
    "from PIL import Image\n",
    "from tqdm import tqdm"
   ],
   "metadata": {
    "collapsed": false
   }
  },
  {
   "cell_type": "code",
   "execution_count": 2,
   "outputs": [],
   "source": [
    "def resize_image(input_dir, output_dir):\n",
    "    if not os.path.exists(output_dir):\n",
    "        os.makedirs(output_dir)\n",
    "    input_files = [x for x in os.listdir(input_dir) if x.endswith(\".png\")]\n",
    "    for input_file in tqdm(input_files):\n",
    "        input_file_path = os.path.join(input_dir, input_file)\n",
    "        image = Image.open(input_file_path)\n",
    "        for i in range(4):\n",
    "            for j in range(4):\n",
    "                x_offset = i * 256\n",
    "                y_offset = j * 256\n",
    "                tile = image.crop((x_offset, y_offset, x_offset + 256, y_offset + 256))\n",
    "                output_file = input_file.replace(\".png\", f\"_{i + 1}{j + 1}.png\")\n",
    "                new_save_path = os.path.join(output_dir, output_file)\n",
    "                tile.save(new_save_path)\n",
    "\n",
    "    print(\"All images processed.\")"
   ],
   "metadata": {
    "collapsed": false
   }
  },
  {
   "cell_type": "code",
   "execution_count": 3,
   "outputs": [
    {
     "name": "stderr",
     "output_type": "stream",
     "text": [
      "100%|██████████| 1466/1466 [22:11<00:00,  1.10it/s]"
     ]
    },
    {
     "name": "stdout",
     "output_type": "stream",
     "text": [
      "All images processed.\n"
     ]
    },
    {
     "name": "stderr",
     "output_type": "stream",
     "text": [
      "\n"
     ]
    }
   ],
   "source": [
    "resize_image(r\"\\\\10.99.68.178\\ashleyex\\Type_1_diabetes\\IHC to HE model\\he2ihc_tiles\\HE\",\n",
    "             r\"\\\\10.99.68.178\\ashleyex\\Type_1_diabetes\\IHC to HE model\\he2ihc_tiles\\HE\\256x256\")"
   ],
   "metadata": {
    "collapsed": false
   }
  },
  {
   "cell_type": "code",
   "execution_count": 4,
   "outputs": [
    {
     "name": "stderr",
     "output_type": "stream",
     "text": [
      "100%|██████████| 1466/1466 [13:32<00:00,  1.80it/s]"
     ]
    },
    {
     "name": "stdout",
     "output_type": "stream",
     "text": [
      "All images processed.\n"
     ]
    },
    {
     "name": "stderr",
     "output_type": "stream",
     "text": [
      "\n"
     ]
    }
   ],
   "source": [
    "resize_image(r\"\\\\10.99.68.178\\ashleyex\\Type_1_diabetes\\IHC to HE model\\he2ihc_tiles\\IHC\",\n",
    "             r\"\\\\10.99.68.178\\ashleyex\\Type_1_diabetes\\IHC to HE model\\he2ihc_tiles\\256x256\\IHC\")"
   ],
   "metadata": {
    "collapsed": false
   }
  },
  {
   "cell_type": "code",
   "execution_count": 5,
   "outputs": [
    {
     "name": "stderr",
     "output_type": "stream",
     "text": [
      "100%|██████████| 467/467 [02:48<00:00,  2.77it/s]"
     ]
    },
    {
     "name": "stdout",
     "output_type": "stream",
     "text": [
      "All images processed.\n"
     ]
    },
    {
     "name": "stderr",
     "output_type": "stream",
     "text": [
      "\n"
     ]
    }
   ],
   "source": [
    "resize_image(r\"\\\\10.99.68.178\\ashleyex\\Type_1_diabetes\\IHC to HE model\\he2ihc_tiles\\validation\\HE\",\n",
    "             r\"\\\\10.99.68.178\\ashleyex\\Type_1_diabetes\\IHC to HE model\\he2ihc_tiles\\256x256\\val\\HE\")"
   ],
   "metadata": {
    "collapsed": false
   }
  },
  {
   "cell_type": "code",
   "execution_count": 6,
   "outputs": [
    {
     "name": "stderr",
     "output_type": "stream",
     "text": [
      "100%|██████████| 467/467 [03:08<00:00,  2.48it/s]"
     ]
    },
    {
     "name": "stdout",
     "output_type": "stream",
     "text": [
      "All images processed.\n"
     ]
    },
    {
     "name": "stderr",
     "output_type": "stream",
     "text": [
      "\n"
     ]
    }
   ],
   "source": [
    "resize_image(r\"\\\\10.99.68.178\\ashleyex\\Type_1_diabetes\\IHC to HE model\\he2ihc_tiles\\validation\\IHC\",\n",
    "             r\"\\\\10.99.68.178\\ashleyex\\Type_1_diabetes\\IHC to HE model\\he2ihc_tiles\\256x256\\val\\IHC\")"
   ],
   "metadata": {
    "collapsed": false
   }
  },
  {
   "cell_type": "code",
   "execution_count": null,
   "outputs": [],
   "source": [],
   "metadata": {
    "collapsed": false
   }
  }
 ],
 "metadata": {
  "kernelspec": {
   "display_name": "Python 3",
   "language": "python",
   "name": "python3"
  },
  "language_info": {
   "codemirror_mode": {
    "name": "ipython",
    "version": 2
   },
   "file_extension": ".py",
   "mimetype": "text/x-python",
   "name": "python",
   "nbconvert_exporter": "python",
   "pygments_lexer": "ipython2",
   "version": "2.7.6"
  }
 },
 "nbformat": 4,
 "nbformat_minor": 0
}
