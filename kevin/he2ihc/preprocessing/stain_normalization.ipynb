{
 "cells": [
  {
   "cell_type": "code",
   "execution_count": 1,
   "metadata": {
    "collapsed": true
   },
   "outputs": [],
   "source": [
    "import numpy as np\n",
    "import torch\n",
    "from models import StainNet, ResnetGenerator\n",
    "from PIL import Image\n",
    "import matplotlib.pyplot as plt\n",
    "import cv2\n",
    "from tqdm import tqdm\n",
    "import os"
   ]
  },
  {
   "cell_type": "code",
   "execution_count": 2,
   "outputs": [],
   "source": [
    "def norm(image):\n",
    "    image = np.array(image).astype(np.float32)\n",
    "    image = image.transpose((2, 0, 1))\n",
    "    image = ((image / 255) - 0.5) / 0.5\n",
    "    image=image[np.newaxis, ...]\n",
    "    image=torch.from_numpy(image)\n",
    "    return image\n",
    "\n",
    "def un_norm(image):\n",
    "    image = image.cpu().detach().numpy()[0]\n",
    "    image = ((image * 0.5 + 0.5) * 255).astype(np.uint8).transpose((1,2,0))\n",
    "    return image"
   ],
   "metadata": {
    "collapsed": false
   }
  },
  {
   "cell_type": "code",
   "execution_count": 3,
   "outputs": [
    {
     "data": {
      "text/plain": "StainNet(\n  (rgb_trans): Sequential(\n    (0): Conv2d(3, 32, kernel_size=(1, 1), stride=(1, 1))\n    (1): ReLU(inplace=True)\n    (2): Conv2d(32, 32, kernel_size=(1, 1), stride=(1, 1))\n    (3): ReLU(inplace=True)\n    (4): Conv2d(32, 3, kernel_size=(1, 1), stride=(1, 1))\n  )\n)"
     },
     "execution_count": 3,
     "metadata": {},
     "output_type": "execute_result"
    }
   ],
   "source": [
    "model_Net = StainNet().cuda()\n",
    "model_Net.load_state_dict(torch.load(r\"C:\\Users\\Kevin\\PycharmProjects\\wsi_analysis\\kevin\\he2ihc\\preprocessing\\StainNet-Public_layer3_ch32.pth\"))\n",
    "model_Net.eval()"
   ],
   "metadata": {
    "collapsed": false
   }
  },
  {
   "cell_type": "code",
   "execution_count": 4,
   "outputs": [],
   "source": [
    "he_src = r\"\\\\10.99.68.178\\ashleyex\\Type_1_diabetes\\IHC to HE model\\he2ihc_tiles\\HE\"\n",
    "he_img_list = [os.path.join(he_src,x) for x in os.listdir(he_src) if x.endswith(\".png\")]"
   ],
   "metadata": {
    "collapsed": false
   }
  },
  {
   "cell_type": "code",
   "execution_count": 5,
   "outputs": [
    {
     "name": "stderr",
     "output_type": "stream",
     "text": [
      "Images processed:: 100%|\u001B[31m██████████\u001B[0m| 1466/1466 [20:16<00:00,  1.21it/s]\n"
     ]
    }
   ],
   "source": [
    "for he_img_list in tqdm(he_img_list,colour=\"red\",desc=\"Images processed:\"):\n",
    "    with torch.no_grad():\n",
    "        filename = os.path.basename(he_img_list)\n",
    "        save_path = os.path.join(r\"\\\\10.99.68.178\\ashleyex\\Type_1_diabetes\\IHC to HE model\\he2ihc_tiles\\HE\\stain_normalization\",filename)\n",
    "        source_img = cv2.imread(he_img_list, cv2.COLOR_BGR2RGB)\n",
    "        img_net=model_Net(norm(source_img).cuda())\n",
    "        img_net=un_norm(img_net)\n",
    "        cv2.imwrite(save_path,img_net)"
   ],
   "metadata": {
    "collapsed": false
   }
  },
  {
   "cell_type": "code",
   "execution_count": null,
   "outputs": [],
   "source": [],
   "metadata": {
    "collapsed": false
   }
  }
 ],
 "metadata": {
  "kernelspec": {
   "display_name": "Python 3",
   "language": "python",
   "name": "python3"
  },
  "language_info": {
   "codemirror_mode": {
    "name": "ipython",
    "version": 2
   },
   "file_extension": ".py",
   "mimetype": "text/x-python",
   "name": "python",
   "nbconvert_exporter": "python",
   "pygments_lexer": "ipython2",
   "version": "2.7.6"
  }
 },
 "nbformat": 4,
 "nbformat_minor": 0
}
