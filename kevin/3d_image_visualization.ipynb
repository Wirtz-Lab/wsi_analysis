{
 "cells": [
  {
   "cell_type": "markdown",
   "source": [
    "### Optical flow algorithm explained in: https://www.ipol.im/pub/art/2013/26/article.pdf"
   ],
   "metadata": {
    "collapsed": false
   }
  },
  {
   "cell_type": "code",
   "execution_count": 2,
   "metadata": {
    "collapsed": true
   },
   "outputs": [],
   "source": [
    "import numpy as np\n",
    "import os\n",
    "from matplotlib import pyplot as plt\n",
    "from PIL import Image\n",
    "from mpl_toolkits.mplot3d import Axes3D\n",
    "import cv2\n",
    "import skimage.io as io\n",
    "from copy import deepcopy, copy\n",
    "import time"
   ]
  },
  {
   "cell_type": "code",
   "execution_count": 3,
   "outputs": [],
   "source": [
    "#downsize all images by factor of 100 (already done):\n",
    "# img_files_path = [_ for _ in os.listdir(r'\\\\fatherserverdw\\Kevin\\imageregistration\\registered_images') if _.endswith(\".png\")]\n",
    "# img_files_path_complete = [os.path.join(r'\\\\fatherserverdw\\Kevin\\imageregistration\\registered_images', x) for x in img_files_path]\n",
    "\n",
    "# ex_img = Image.open(img_files_path_complete[0])\n",
    "# scale_percent = 1\n",
    "# width = int(ex_img.size[1] * scale_percent / 100)\n",
    "# height = int(ex_img.size[0] * scale_percent / 100)\n",
    "# dim = (width, height)\n",
    "# for idx in range(len(img_files_path_complete)):\n",
    "#     img = Image.open(img_files_path_complete[idx])\n",
    "#     img_ra = np.array(img)\n",
    "#     resize_img = cv2.resize(img_ra,dim,interpolation = cv2.INTER_AREA)\n",
    "#     resize_img = cv2.cvtColor(resize_img, cv2.COLOR_BGR2RGB)\n",
    "#     dstpth = os.path.join(r'\\\\fatherserverdw\\Kevin\\imageregistration\\registered_images\\downsized',img_files_path[idx])\n",
    "#     cv2.imwrite(dstpth,resize_img)"
   ],
   "metadata": {
    "collapsed": false
   }
  },
  {
   "cell_type": "code",
   "execution_count": 4,
   "outputs": [],
   "source": [
    "resize_img_files_path = [_ for _ in os.listdir(r'\\\\fatherserverdw\\Kevin\\imageregistration\\registered_images\\downsized') if _.endswith(\".png\")]\n",
    "resize_img_files_path_complete = [os.path.join(r'\\\\fatherserverdw\\Kevin\\imageregistration\\registered_images\\downsized', x) for x in resize_img_files_path]"
   ],
   "metadata": {
    "collapsed": false
   }
  },
  {
   "cell_type": "code",
   "execution_count": 5,
   "outputs": [],
   "source": [
    "# sample_ig = cv2.imread(r'C:\\Users\\choke\\Desktop\\z0004_4c1.png')\n",
    "# sample_ig1 = cv2.imread(r'C:\\Users\\choke\\Desktop\\z0007_7c1.png')\n",
    "# sample_ig_path = r'C:\\Users\\choke\\Desktop\\z0004_4c1.png'\n",
    "# sample_ig1_path = r'C:\\Users\\choke\\Desktop\\z0007_7c1.png'\n",
    "# cv2.imwrite(r'C:\\Users\\choke\\Desktop\\z0004_4c1.tif',sample_ig)\n",
    "# tif_pic = Image.open(r'C:\\Users\\choke\\Desktop\\z0004_4c1.tif')\n",
    "im_list = io.imread_collection(resize_img_files_path_complete)\n",
    "im_3d = im_list.concatenate()"
   ],
   "metadata": {
    "collapsed": false
   }
  },
  {
   "cell_type": "markdown",
   "source": [
    "# Try 3DSlicer in Python"
   ],
   "metadata": {
    "collapsed": false
   }
  },
  {
   "cell_type": "code",
   "execution_count": 7,
   "outputs": [
    {
     "ename": "TypeError",
     "evalue": "SetDimensions argument 1: expected a sequence of 3 values, got 4 values",
     "output_type": "error",
     "traceback": [
      "\u001B[1;31m---------------------------------------------------------------------------\u001B[0m",
      "\u001B[1;31mTypeError\u001B[0m                                 Traceback (most recent call last)",
      "Input \u001B[1;32mIn [7]\u001B[0m, in \u001B[0;36m<cell line: 2>\u001B[1;34m()\u001B[0m\n\u001B[0;32m      1\u001B[0m \u001B[38;5;28;01mfrom\u001B[39;00m \u001B[38;5;21;01mvedo\u001B[39;00m \u001B[38;5;28;01mimport\u001B[39;00m \u001B[38;5;241m*\u001B[39m\n\u001B[1;32m----> 2\u001B[0m vol \u001B[38;5;241m=\u001B[39m \u001B[43mVolume\u001B[49m\u001B[43m(\u001B[49m\u001B[43mim_3d\u001B[49m\u001B[43m)\u001B[49m\n\u001B[0;32m      3\u001B[0m vol\u001B[38;5;241m.\u001B[39mprint()\n\u001B[0;32m      4\u001B[0m show(vol, axes\u001B[38;5;241m=\u001B[39m\u001B[38;5;241m2\u001B[39m)\n",
      "File \u001B[1;32m~\\anaconda3\\envs\\wsi_analysis\\lib\\site-packages\\vedo\\volume.py:853\u001B[0m, in \u001B[0;36mVolume.__init__\u001B[1;34m(self, inputobj, c, alpha, alpha_gradient, alpha_unit, mode, spacing, dims, origin, mapper)\u001B[0m\n\u001B[0;32m    851\u001B[0m         vedo\u001B[38;5;241m.\u001B[39mlogger\u001B[38;5;241m.\u001B[39merror(\u001B[38;5;124m\"\u001B[39m\u001B[38;5;124mmust set dimensions (dims keyword) in Volume\u001B[39m\u001B[38;5;124m\"\u001B[39m)\n\u001B[0;32m    852\u001B[0m         \u001B[38;5;28;01mraise\u001B[39;00m \u001B[38;5;167;01mRuntimeError\u001B[39;00m()\n\u001B[1;32m--> 853\u001B[0m     \u001B[43mimg\u001B[49m\u001B[38;5;241;43m.\u001B[39;49m\u001B[43mSetDimensions\u001B[49m\u001B[43m(\u001B[49m\u001B[43minputobj\u001B[49m\u001B[38;5;241;43m.\u001B[39;49m\u001B[43mshape\u001B[49m\u001B[43m)\u001B[49m\n\u001B[0;32m    854\u001B[0m img\u001B[38;5;241m.\u001B[39mGetPointData()\u001B[38;5;241m.\u001B[39mAddArray(varr)\n\u001B[0;32m    855\u001B[0m img\u001B[38;5;241m.\u001B[39mGetPointData()\u001B[38;5;241m.\u001B[39mSetActiveScalars(varr\u001B[38;5;241m.\u001B[39mGetName())\n",
      "\u001B[1;31mTypeError\u001B[0m: SetDimensions argument 1: expected a sequence of 3 values, got 4 values"
     ]
    }
   ],
   "source": [
    "from vedo import *\n",
    "vol = Volume(im_3d)\n",
    "vol.print()\n",
    "show(vol, axes=2)"
   ],
   "metadata": {
    "collapsed": false
   }
  },
  {
   "cell_type": "code",
   "execution_count": 7,
   "outputs": [],
   "source": [
    "from vedo import Picture, dataurl\n",
    "pic = Picture(dataurl+'dog.jpg').pad()\n",
    "pic.append([pic,pic,pic], axis='y')\n",
    "pic.append([pic,pic,pic,pic], axis='x')\n",
    "pic.show(axes=1).close()"
   ],
   "metadata": {
    "collapsed": false
   }
  },
  {
   "cell_type": "code",
   "execution_count": 1,
   "outputs": [],
   "source": [
    "#first build mesh from image\n",
    "#then use mesh"
   ],
   "metadata": {
    "collapsed": false
   }
  },
  {
   "cell_type": "code",
   "execution_count": 5,
   "outputs": [],
   "source": [
    "from vedo import build_lut, Sphere, show, settings\n",
    "\n",
    "settings.use_depth_peeling = True # might help with transparencies\n",
    "\n",
    "# generate a sphere and stretch it, so it sits between z=-2 and z=+2\n",
    "mesh = Sphere(quads=True).scale([1,1,2]).linewidth(0.1)\n",
    "\n",
    "# create some dummy data array to be associated to points\n",
    "data = mesh.points()[:,2]  # pick z-coords, use them as scalar data\n",
    "data[10:70] = float('nan') # make some values invalid by setting to NaN\n",
    "data[300:600] = 100        # send some values very far above-scale\n",
    "\n",
    "# build a custom Look-Up-Table of colors:\n",
    "#     value, color, alpha\n",
    "lut = build_lut(\n",
    "    [\n",
    "      #(-2, 'pink'      ),  # up to -2 is pink\n",
    "      (0.0, 'pink'      ),  # up to 0 is pink\n",
    "      (0.4, 'green', 0.5),  # up to 0.4 is green with alpha=0.5\n",
    "      (0.7, 'darkblue'  ),\n",
    "      #( 2, 'darkblue'  ),\n",
    "    ],\n",
    "    vmin=-1.2,\n",
    "    vmax= 0.7,\n",
    "    below_color='lightblue',\n",
    "    above_color='grey',\n",
    "    nan_color='red',\n",
    "    interpolate=False,\n",
    ")\n",
    "# 3D scalarbar:\n",
    "mesh.cmap(lut, data).add_scalarbar3d(title='My 3D scalarbar', c='white')\n",
    "mesh.scalarbar.scale(1.5).rotate_x(90).y(1) # make it bigger and place it\n",
    "\n",
    "# 2D scalarbar:\n",
    "# mesh.cmap(lut, data).add_scalarbar()\n",
    "\n",
    "show(mesh, __doc__,\n",
    "     axes=dict(zlabel_size=.04, number_of_divisions=10),\n",
    "     elevation=-80, bg='blackboard',\n",
    ").close()"
   ],
   "metadata": {
    "collapsed": false
   }
  },
  {
   "cell_type": "code",
   "execution_count": 6,
   "outputs": [
    {
     "data": {
      "text/plain": "<vedo.plotter.Plotter at 0x2691ddd7ee0>"
     },
     "execution_count": 6,
     "metadata": {},
     "output_type": "execute_result"
    }
   ],
   "source": [
    "from vedo import Picture, dataurl, show\n",
    "import numpy as np\n",
    "pic = Picture(resize_img_files_path_complete[0])\n",
    "msh = pic.tomesh()  # make a quad-mesh out of it\n",
    "\n",
    "# build a scalar array with intensities\n",
    "rgb = msh.pointdata[\"RGBA\"]\n",
    "intensity = np.sum(rgb, axis=1)\n",
    "intensityz = np.zeros_like(rgb)\n",
    "intensityz[:,2] = intensity / 10\n",
    "\n",
    "# set the new vertex points\n",
    "pts = msh.points() + intensityz\n",
    "msh.points(pts)\n",
    "\n",
    "# more cosmetics\n",
    "msh.triangulate().smooth()\n",
    "msh.lighting(\"default\").linewidth(0)\n",
    "msh.cmap(\"bone\", \"RGBA\").add_scalarbar()\n",
    "\n",
    "msht = pic.clone().threshold(100).linewidth(0)\n",
    "\n",
    "show([[pic, \"A normal jpg image..\"],\n",
    "      [msh, \"..becomes a polygonal Mesh\"],\n",
    "      [msht, \"Thresholding also generates a Mesh\"]\n",
    "     ], N=3, axes=1, zoom=1.1, elevation=-20, bg='black')"
   ],
   "metadata": {
    "collapsed": false
   }
  },
  {
   "cell_type": "code",
   "execution_count": null,
   "outputs": [],
   "source": [
    "im_list = io.imread_collection(resize_img_files_path_complete)\n",
    "im_3d = im_list.concatenate()\n",
    "im_3d.shape\n",
    "# im_3d_new = im_3d.transpose(1,2,0,3)\n",
    "\n",
    "imlist = im_3d\n",
    "binaries = []\n",
    "colors = []\n",
    "\n",
    "start = time.time()\n",
    "\n",
    "for im in imlist:\n",
    "    binary = im[:,:,1]>5 #230\n",
    "    binaries.append(binary)\n",
    "    color = deepcopy(im)\n",
    "    color[~binary] = [0,0,0]\n",
    "    color = color/255\n",
    "    color = color.astype(np.object)\n",
    "    colors.append(color)\n",
    "binaries = np.array(binaries)\n",
    "colors = np.array(colors)\n",
    "\n",
    "ax = plt.figure().add_subplot(projection='3d')\n",
    "ax.voxels(binaries, facecolors=colors, edgecolors = colors, shade=None)\n",
    "end = time.time()\n",
    "print(\"time it took to register: \"+  str(end-start) + \" seconds\")\n",
    "\n",
    "plt.show()"
   ],
   "metadata": {
    "collapsed": false,
    "pycharm": {
     "is_executing": true
    }
   }
  },
  {
   "cell_type": "code",
   "execution_count": null,
   "outputs": [],
   "source": [],
   "metadata": {
    "collapsed": false,
    "pycharm": {
     "is_executing": true
    }
   }
  },
  {
   "cell_type": "code",
   "execution_count": null,
   "outputs": [],
   "source": [
    "# plot one image first:\n",
    "test_im_list = resize_img_files_path_complete\n",
    "test_im_list = io.imread_collection(test_im_list)\n",
    "test_im_3d = test_im_list.concatenate()\n",
    "\n",
    "#compile tissue binary masks and their rgb values\n",
    "imlist = test_im_3d\n",
    "binaries = []\n",
    "colors = []\n",
    "for im in imlist[0:4]:\n",
    "    binary = (150 < im[:, :, 0]) & (im[:, :, 1] < 210)\n",
    "    binaries.append(binary)\n",
    "    color = copy(im)\n",
    "    color[~binary] = [0,0,0]\n",
    "    color = color/255\n",
    "    # a_ra = np.ones(color.shape) * 0.5\n",
    "    # color = np.dstack((color,a_ra[:,:,1])) #rgba\n",
    "    colors.append(color)"
   ],
   "metadata": {
    "collapsed": false,
    "pycharm": {
     "is_executing": true
    }
   }
  },
  {
   "cell_type": "code",
   "execution_count": null,
   "outputs": [],
   "source": [
    "binaries = np.array(binaries)\n",
    "colors = np.array(colors)\n",
    "binaries.shape,colors.shape #N,X,Y,C"
   ],
   "metadata": {
    "collapsed": false,
    "pycharm": {
     "is_executing": true
    }
   }
  },
  {
   "cell_type": "code",
   "execution_count": null,
   "outputs": [],
   "source": [
    "ax = plt.figure().add_subplot(projection='3d')\n",
    "voxel_obj = ax.voxels(binaries, facecolors=colors, edgecolors = 'k', shade=False)\n",
    "# plt.show()"
   ],
   "metadata": {
    "collapsed": false,
    "pycharm": {
     "is_executing": true
    }
   }
  },
  {
   "cell_type": "code",
   "execution_count": null,
   "outputs": [],
   "source": [
    "from skimage.morphology import closing, square, remove_small_objects, remove_small_holes\n",
    "from skimage.segmentation import clear_border"
   ],
   "metadata": {
    "collapsed": false,
    "pycharm": {
     "is_executing": true
    }
   }
  },
  {
   "cell_type": "code",
   "execution_count": null,
   "outputs": [],
   "source": [
    "bw = (150 < im[:, :, 0]) & (im[:, :, 1] < 210)\n",
    "bw = closing(bw, square(3))\n",
    "## below lines could be useful to post process tissue binary mask\n",
    "# minTA = 900 #resolution sensitive\n",
    "# bw = remove_small_objects(bw, min_size=minTA, connectivity=2)\n",
    "# minTAhole = 40 #resolution sensitive\n",
    "# bw = remove_small_holes(bw, area_threshold=minTAhole)\n",
    "# bw = clear_border(bw)\n",
    "Image.fromarray(bw)"
   ],
   "metadata": {
    "collapsed": false,
    "pycharm": {
     "is_executing": true
    }
   }
  },
  {
   "cell_type": "code",
   "execution_count": null,
   "outputs": [],
   "source": [
    "\n",
    "\n",
    "\n",
    "\n",
    "\n"
   ],
   "metadata": {
    "collapsed": false,
    "pycharm": {
     "is_executing": true
    }
   }
  },
  {
   "cell_type": "code",
   "execution_count": null,
   "outputs": [],
   "source": [
    "# start = time.time()\n",
    "#\n",
    "#\n",
    "# imlist = []\n",
    "# binaries = []\n",
    "# colors = []\n",
    "# for im in imlist:\n",
    "#     binary = im[:,:,1]>230\n",
    "#     binaries.append(binary)\n",
    "#     color = deepcopy(im)\n",
    "#     color[~binary] = [0,0,0]\n",
    "#     color = color.astype(np.object)\n",
    "#     colors.append(color)\n",
    "# binaries = np.array(binaries)\n",
    "# colors = np.array(colors)\n",
    "#\n",
    "# ax = plt.figure().add_subplot(projection='3d')\n",
    "# ax.voxels(binaries, facecolors=colors, edgecolor='k')\n",
    "#\n",
    "#\n",
    "# end = time.time()\n",
    "# print(\"time it took to register: \"+  str(end-start) + \" seconds\")"
   ],
   "metadata": {
    "collapsed": false,
    "pycharm": {
     "is_executing": true
    }
   }
  },
  {
   "cell_type": "code",
   "execution_count": null,
   "outputs": [],
   "source": [
    "\n",
    "# start = time.time()\n",
    "#\n",
    "# X, Y= np.mgrid[-3164:3164:1, -2676:2676:1]\n",
    "# fig = plt.figure()\n",
    "# ax = fig.gca(projection='3d')\n",
    "# for i in np.linspace(0,33, num=34):\n",
    "#     Z = np.zeros(X.shape)+i\n",
    "#     idx = int(i)\n",
    "#     ig = Image.open(img_files_path_complete[idx])\n",
    "#     ig = np.array(ig).astype(np.float32)\n",
    "#     ig = ig / 255\n",
    "#     T = ig\n",
    "#     final_fig = ax.plot_surface(X, Y, Z, facecolors=T, linewidth=0, alpha = 0.5, cstride\n",
    "#         = 10, rstride = 10)\n",
    "# plt.show()\n",
    "#\n",
    "# end = time.time()\n",
    "# print(\"time it took to register: \"+  str(end-start) + \" seconds\")\n",
    "# #save finalfig"
   ],
   "metadata": {
    "collapsed": false,
    "pycharm": {
     "is_executing": true
    }
   }
  },
  {
   "cell_type": "code",
   "execution_count": null,
   "outputs": [],
   "source": [
    "# from mayavi import mlab\n",
    "# from mayavi.mlab import surf\n",
    "# start = time.time()\n",
    "#\n",
    "# X, Y = np.mgrid[-3164:3164:1, -2676:2676:1]\n",
    "#\n",
    "# for i in np.linspace(0,33, num=34):\n",
    "#     Z = np.zeros(X.shape)+i\n",
    "#     idx = int(i)\n",
    "#     ig = Image.open(img_files_path_complete[idx])\n",
    "#     ig = np.array(ig).astype(np.float32)\n",
    "#     ig = ig / 255\n",
    "#     ig = tuple(map(tuple, ig))\n",
    "#     clr = ig\n",
    "# surf(X,Y,Z,color = clr,warp_scale = \"auto\")\n",
    "# mlab.show()\n",
    "#\n",
    "# end = time.time()\n",
    "# print(\"time it took to register: \"+  str(end-start) + \" seconds\")"
   ],
   "metadata": {
    "collapsed": false,
    "pycharm": {
     "is_executing": true
    }
   }
  },
  {
   "cell_type": "code",
   "execution_count": null,
   "outputs": [],
   "source": [],
   "metadata": {
    "collapsed": false,
    "pycharm": {
     "is_executing": true
    }
   }
  }
 ],
 "metadata": {
  "kernelspec": {
   "display_name": "Python 3",
   "language": "python",
   "name": "python3"
  },
  "language_info": {
   "codemirror_mode": {
    "name": "ipython",
    "version": 2
   },
   "file_extension": ".py",
   "mimetype": "text/x-python",
   "name": "python",
   "nbconvert_exporter": "python",
   "pygments_lexer": "ipython2",
   "version": "2.7.6"
  }
 },
 "nbformat": 4,
 "nbformat_minor": 0
}
