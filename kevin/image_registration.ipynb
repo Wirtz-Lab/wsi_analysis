{
 "cells": [
  {
   "cell_type": "markdown",
   "source": [
    "# Image Registration of list of images:"
   ],
   "metadata": {
    "collapsed": false
   }
  },
  {
   "cell_type": "markdown",
   "source": [
    "### TODO: Use 34 images in this file path: \\\\fatherserverdw\\Q\\research\\images\\CLUE\\3D study\\he\\4xr_jpg. Use the middle image (17th image) as a reference image, since these images are labeled from top to bottom (of the skin). 17th image as reference, 16th and 18th image as image to be registered. The resulted registered 16th and 18th images are then used as a reference image to register the 15th, and the 19th, respectively. Keep doing this until you register all 34 images."
   ],
   "metadata": {
    "collapsed": false
   }
  },
  {
   "cell_type": "code",
   "execution_count": 1,
   "outputs": [],
   "source": [
    "import numpy as np\n",
    "import time\n",
    "from PIL import Image\n",
    "import cv2\n",
    "import os\n",
    "from matplotlib import pyplot as plt\n",
    "from skimage.color import rgb2gray\n",
    "from skimage.transform import warp\n",
    "from skimage.registration import optical_flow_tvl1, optical_flow_ilk\n",
    "\n"
   ],
   "metadata": {
    "collapsed": false
   }
  },
  {
   "cell_type": "code",
   "execution_count": 2,
   "outputs": [],
   "source": [
    "from time import time\n",
    "def _time(f):\n",
    "    def wrapper(*args,**kwargs):\n",
    "        start=time()\n",
    "        r=f(*args,**kwargs)\n",
    "        end=time()\n",
    "        print(\"%s timed %f\" %(f.__name__,end-start))\n",
    "        return r\n",
    "    return wrapper\n"
   ],
   "metadata": {
    "collapsed": false
   }
  },
  {
   "cell_type": "code",
   "execution_count": 3,
   "outputs": [],
   "source": [
    "# function to pad images to same size:\n",
    "def pad_images_to_same_size(images):\n",
    "    \"\"\"\n",
    "    :param images: sequence of images\n",
    "    :return: list of images padded so that all images have same width and height (max width and height are used)\n",
    "    \"\"\"\n",
    "    width_max = 0\n",
    "    height_max = 0\n",
    "    for img in images:\n",
    "        h, w = img.shape[:2]\n",
    "        width_max = max(width_max, w)\n",
    "        height_max = max(height_max, h)\n",
    "\n",
    "    images_padded = []\n",
    "    for img in images:\n",
    "        h, w = img.shape[:2]\n",
    "        diff_vert = height_max - h\n",
    "        pad_top = diff_vert//2\n",
    "        pad_bottom = diff_vert - pad_top\n",
    "        diff_hori = width_max - w\n",
    "        pad_left = diff_hori//2\n",
    "        pad_right = diff_hori - pad_left\n",
    "        img_padded = cv2.copyMakeBorder(img, pad_top, pad_bottom, pad_left, pad_right, cv2.BORDER_CONSTANT, value=(255,255,255))\n",
    "        assert img_padded.shape[:2] == (height_max, width_max)\n",
    "        images_padded.append(img_padded)\n",
    "\n",
    "    return images_padded"
   ],
   "metadata": {
    "collapsed": false
   }
  },
  {
   "cell_type": "code",
   "execution_count": 5,
   "outputs": [
    {
     "ename": "KeyboardInterrupt",
     "evalue": "",
     "output_type": "error",
     "traceback": [
      "\u001B[1;31m---------------------------------------------------------------------------\u001B[0m",
      "\u001B[1;31mKeyboardInterrupt\u001B[0m                         Traceback (most recent call last)",
      "Input \u001B[1;32mIn [5]\u001B[0m, in \u001B[0;36m<cell line: 8>\u001B[1;34m()\u001B[0m\n\u001B[0;32m      8\u001B[0m \u001B[38;5;28;01mfor\u001B[39;00m idx \u001B[38;5;129;01min\u001B[39;00m \u001B[38;5;28mrange\u001B[39m(\u001B[38;5;28mlen\u001B[39m(img_open_list)):\n\u001B[0;32m      9\u001B[0m     tmp \u001B[38;5;241m=\u001B[39m Image\u001B[38;5;241m.\u001B[39mfromarray(img_open_list[idx])\n\u001B[1;32m---> 10\u001B[0m     \u001B[43mtmp\u001B[49m\u001B[38;5;241;43m.\u001B[39;49m\u001B[43msave\u001B[49m\u001B[43m(\u001B[49m\u001B[38;5;124;43mr\u001B[39;49m\u001B[38;5;124;43m'\u001B[39;49m\u001B[38;5;130;43;01m\\\\\u001B[39;49;00m\u001B[38;5;124;43mfatherserverdw\u001B[39;49m\u001B[38;5;124;43m\\\u001B[39;49m\u001B[38;5;124;43mKevin\u001B[39;49m\u001B[38;5;124;43m\\\u001B[39;49m\u001B[38;5;124;43mimageregistration\u001B[39;49m\u001B[38;5;124;43m\\\u001B[39;49m\u001B[38;5;124;43mpadded_images\u001B[39;49m\u001B[38;5;130;43;01m\\\\\u001B[39;49;00m\u001B[38;5;124;43m'\u001B[39;49m\u001B[43m \u001B[49m\u001B[38;5;241;43m+\u001B[39;49m\u001B[43m \u001B[49m\u001B[38;5;28;43mstr\u001B[39;49m\u001B[43m(\u001B[49m\u001B[43mimg_files_path_1\u001B[49m\u001B[43m[\u001B[49m\u001B[43midx\u001B[49m\u001B[43m]\u001B[49m\u001B[43m)\u001B[49m\u001B[43m \u001B[49m\u001B[38;5;241;43m+\u001B[39;49m\u001B[43m \u001B[49m\u001B[38;5;124;43m'\u001B[39;49m\u001B[38;5;124;43m.png\u001B[39;49m\u001B[38;5;124;43m'\u001B[39;49m\u001B[43m)\u001B[49m\n",
      "File \u001B[1;32m~\\anaconda3\\envs\\wsi_analysis\\lib\\site-packages\\PIL\\Image.py:2320\u001B[0m, in \u001B[0;36mImage.save\u001B[1;34m(self, fp, format, **params)\u001B[0m\n\u001B[0;32m   2317\u001B[0m         fp \u001B[38;5;241m=\u001B[39m builtins\u001B[38;5;241m.\u001B[39mopen(filename, \u001B[38;5;124m\"\u001B[39m\u001B[38;5;124mw+b\u001B[39m\u001B[38;5;124m\"\u001B[39m)\n\u001B[0;32m   2319\u001B[0m \u001B[38;5;28;01mtry\u001B[39;00m:\n\u001B[1;32m-> 2320\u001B[0m     \u001B[43msave_handler\u001B[49m\u001B[43m(\u001B[49m\u001B[38;5;28;43mself\u001B[39;49m\u001B[43m,\u001B[49m\u001B[43m \u001B[49m\u001B[43mfp\u001B[49m\u001B[43m,\u001B[49m\u001B[43m \u001B[49m\u001B[43mfilename\u001B[49m\u001B[43m)\u001B[49m\n\u001B[0;32m   2321\u001B[0m \u001B[38;5;28;01mexcept\u001B[39;00m \u001B[38;5;167;01mException\u001B[39;00m:\n\u001B[0;32m   2322\u001B[0m     \u001B[38;5;28;01mif\u001B[39;00m open_fp:\n",
      "File \u001B[1;32m~\\anaconda3\\envs\\wsi_analysis\\lib\\site-packages\\PIL\\PngImagePlugin.py:1374\u001B[0m, in \u001B[0;36m_save\u001B[1;34m(im, fp, filename, chunk, save_all)\u001B[0m\n\u001B[0;32m   1372\u001B[0m     _write_multiple_frames(im, fp, chunk, rawmode)\n\u001B[0;32m   1373\u001B[0m \u001B[38;5;28;01melse\u001B[39;00m:\n\u001B[1;32m-> 1374\u001B[0m     \u001B[43mImageFile\u001B[49m\u001B[38;5;241;43m.\u001B[39;49m\u001B[43m_save\u001B[49m\u001B[43m(\u001B[49m\u001B[43mim\u001B[49m\u001B[43m,\u001B[49m\u001B[43m \u001B[49m\u001B[43m_idat\u001B[49m\u001B[43m(\u001B[49m\u001B[43mfp\u001B[49m\u001B[43m,\u001B[49m\u001B[43m \u001B[49m\u001B[43mchunk\u001B[49m\u001B[43m)\u001B[49m\u001B[43m,\u001B[49m\u001B[43m \u001B[49m\u001B[43m[\u001B[49m\u001B[43m(\u001B[49m\u001B[38;5;124;43m\"\u001B[39;49m\u001B[38;5;124;43mzip\u001B[39;49m\u001B[38;5;124;43m\"\u001B[39;49m\u001B[43m,\u001B[49m\u001B[43m \u001B[49m\u001B[43m(\u001B[49m\u001B[38;5;241;43m0\u001B[39;49m\u001B[43m,\u001B[49m\u001B[43m \u001B[49m\u001B[38;5;241;43m0\u001B[39;49m\u001B[43m)\u001B[49m\u001B[43m \u001B[49m\u001B[38;5;241;43m+\u001B[39;49m\u001B[43m \u001B[49m\u001B[43mim\u001B[49m\u001B[38;5;241;43m.\u001B[39;49m\u001B[43msize\u001B[49m\u001B[43m,\u001B[49m\u001B[43m \u001B[49m\u001B[38;5;241;43m0\u001B[39;49m\u001B[43m,\u001B[49m\u001B[43m \u001B[49m\u001B[43mrawmode\u001B[49m\u001B[43m)\u001B[49m\u001B[43m]\u001B[49m\u001B[43m)\u001B[49m\n\u001B[0;32m   1376\u001B[0m \u001B[38;5;28;01mif\u001B[39;00m info:\n\u001B[0;32m   1377\u001B[0m     \u001B[38;5;28;01mfor\u001B[39;00m info_chunk \u001B[38;5;129;01min\u001B[39;00m info\u001B[38;5;241m.\u001B[39mchunks:\n",
      "File \u001B[1;32m~\\anaconda3\\envs\\wsi_analysis\\lib\\site-packages\\PIL\\ImageFile.py:518\u001B[0m, in \u001B[0;36m_save\u001B[1;34m(im, fp, tile, bufsize)\u001B[0m\n\u001B[0;32m    515\u001B[0m \u001B[38;5;28;01mif\u001B[39;00m exc:\n\u001B[0;32m    516\u001B[0m     \u001B[38;5;66;03m# compress to Python file-compatible object\u001B[39;00m\n\u001B[0;32m    517\u001B[0m     \u001B[38;5;28;01mwhile\u001B[39;00m \u001B[38;5;28;01mTrue\u001B[39;00m:\n\u001B[1;32m--> 518\u001B[0m         l, s, d \u001B[38;5;241m=\u001B[39m \u001B[43mencoder\u001B[49m\u001B[38;5;241;43m.\u001B[39;49m\u001B[43mencode\u001B[49m\u001B[43m(\u001B[49m\u001B[43mbufsize\u001B[49m\u001B[43m)\u001B[49m\n\u001B[0;32m    519\u001B[0m         fp\u001B[38;5;241m.\u001B[39mwrite(d)\n\u001B[0;32m    520\u001B[0m         \u001B[38;5;28;01mif\u001B[39;00m s:\n",
      "\u001B[1;31mKeyboardInterrupt\u001B[0m: "
     ]
    }
   ],
   "source": [
    "# #First pad all the images needed to the same size (run once, takes long):\n",
    "#\n",
    "# img_files_path = [_ for _ in os.listdir(r'\\\\fatherserverdw\\Q\\research\\images\\CLUE\\3D study\\he\\4xr_jpg') if _.endswith(\".jpg\")]\n",
    "# img_files_path_complete = [os.path.join(r'\\\\fatherserverdw\\Q\\research\\images\\CLUE\\3D study\\he\\4xr_jpg\\\\' + x) for x in img_files_path]\n",
    "# img_files_path_1 = [x.replace('.jpg','') for x in img_files_path]\n",
    "# img_list = [plt.imread(x) for x in img_files_path_complete]\n",
    "# img_open_list = pad_images_to_same_size(img_list)\n",
    "# for idx in range(len(img_open_list)):\n",
    "#     tmp = Image.fromarray(img_open_list[idx])\n",
    "#     tmp.save(r'\\\\fatherserverdw\\Kevin\\imageregistration\\padded_images\\\\' + str(img_files_path_1[idx]) + '.png')"
   ],
   "metadata": {
    "collapsed": false
   }
  },
  {
   "cell_type": "code",
   "execution_count": 6,
   "outputs": [],
   "source": [
    "pad_images_to_same_size = _time(pad_images_to_same_size)\n",
    "optical_flow_tvl1 = _time(optical_flow_tvl1)"
   ],
   "metadata": {
    "collapsed": false
   }
  },
  {
   "cell_type": "code",
   "execution_count": 7,
   "outputs": [
    {
     "name": "stdout",
     "output_type": "stream",
     "text": [
      "optical_flow_tvl1 timed 303.235012\n",
      "time it took to register: 305.0317597389221 seconds\n",
      "time it took to register: 10.117685794830322 seconds\n"
     ]
    }
   ],
   "source": [
    "#first create registered image of two adjacent images manually:\n",
    "img_files_path = [_ for _ in os.listdir(r'\\\\fatherserverdw\\Kevin\\imageregistration\\padded_images') if _.endswith(\".png\")]\n",
    "img_files_path_complete = [os.path.join(r'\\\\fatherserverdw\\Kevin\\imageregistration\\padded_images', x) for x in img_files_path]\n",
    "img_files_path_1 = [x.replace('.png','') for x in img_files_path]\n",
    "\n",
    "num = int(len(img_files_path)/2) - 1 #idx = 16, or 17th image\n",
    "num_plus1 = num + 1 #idx = 17, or 18th image\n",
    "num_minus1 = num - 1 #idx = 15, or 16th image\n",
    "\n",
    "start = time()\n",
    "\n",
    "ref_img_path = img_files_path_complete[num]\n",
    "mov_img_path = img_files_path_complete[num_plus1]\n",
    "ref_img = np.array(Image.open(ref_img_path))\n",
    "mov_img = np.array(Image.open(mov_img_path))\n",
    "\n",
    "ref_img_g = rgb2gray(ref_img)\n",
    "mov_img_g = rgb2gray(mov_img)\n",
    "v, u = optical_flow_tvl1(ref_img_g, mov_img_g)\n",
    "nr, nc = ref_img_g.shape\n",
    "row_coords, col_coords = np.meshgrid(np.arange(nr), np.arange(nc),\n",
    "                                     indexing='ij')\n",
    "\n",
    "end = time()\n",
    "print(\"time it took to register: \"+  str(end-start) + \" seconds\")\n",
    "\n",
    "start = time()\n",
    "\n",
    "mov_img_warp_ra =[]\n",
    "for i in range(3):\n",
    "    mov_img_warp = warp(mov_img[:,:,i], np.array([row_coords + v, col_coords + u]),mode='edge')\n",
    "    mov_img_warp_ra.append(mov_img_warp)\n",
    "\n",
    "r = np.array(mov_img_warp_ra[0]*255).astype('uint8')\n",
    "g = np.array(mov_img_warp_ra[1]*255).astype('uint8')\n",
    "b = np.array(mov_img_warp_ra[2]*255).astype('uint8')\n",
    "rgb = np.stack([r,g,b],axis=2)\n",
    "reg_img = Image.fromarray(rgb)\n",
    "reg_img.save(r'\\\\fatherserverdw\\Kevin\\imageregistration\\registered_images\\\\' + str(img_files_path_1[num_plus1]) + '.png')\n",
    "\n",
    "end = time()\n",
    "print(\"time it took to register: \"+  str(end-start) + \" seconds\")"
   ],
   "metadata": {
    "collapsed": false
   }
  },
  {
   "cell_type": "code",
   "execution_count": 8,
   "outputs": [
    {
     "name": "stdout",
     "output_type": "stream",
     "text": [
      "optical_flow_tvl1 timed 305.587370\n",
      "time it took to register: 307.619668006897 seconds\n",
      "time it took to register: 9.913840293884277 seconds\n"
     ]
    }
   ],
   "source": [
    "# repeat again:\n",
    "start = time()\n",
    "\n",
    "ref_img_path = img_files_path_complete[num]\n",
    "mov_img_path = img_files_path_complete[num_minus1]\n",
    "ref_img = np.array(Image.open(ref_img_path))\n",
    "mov_img = np.array(Image.open(mov_img_path))\n",
    "\n",
    "ref_img_g = rgb2gray(ref_img)\n",
    "mov_img_g = rgb2gray(mov_img)\n",
    "v, u = optical_flow_tvl1(ref_img_g, mov_img_g)\n",
    "nr, nc = ref_img_g.shape\n",
    "row_coords, col_coords = np.meshgrid(np.arange(nr), np.arange(nc),\n",
    "                                     indexing='ij')\n",
    "end = time()\n",
    "print(\"time it took to register: \"+  str(end-start) + \" seconds\")\n",
    "\n",
    "start = time()\n",
    "\n",
    "mov_img_warp_ra =[]\n",
    "for i in range(3):\n",
    "    mov_img_warp = warp(mov_img[:,:,i], np.array([row_coords + v, col_coords + u]),mode='edge')\n",
    "    mov_img_warp_ra.append(mov_img_warp)\n",
    "\n",
    "r = np.array(mov_img_warp_ra[0]*255).astype('uint8')\n",
    "g = np.array(mov_img_warp_ra[1]*255).astype('uint8')\n",
    "b = np.array(mov_img_warp_ra[2]*255).astype('uint8')\n",
    "rgb = np.stack([r,g,b],axis=2)\n",
    "reg_img = Image.fromarray(rgb)\n",
    "reg_img.save(r'\\\\fatherserverdw\\Kevin\\imageregistration\\registered_images\\\\' + str(img_files_path_1[num_minus1]) + '.png')\n",
    "\n",
    "end = time()\n",
    "print(\"time it took to register: \"+  str(end-start) + \" seconds\")"
   ],
   "metadata": {
    "collapsed": false
   }
  },
  {
   "cell_type": "code",
   "execution_count": 9,
   "outputs": [
    {
     "name": "stdout",
     "output_type": "stream",
     "text": [
      "optical_flow_tvl1 timed 307.419850\n"
     ]
    },
    {
     "ename": "KeyboardInterrupt",
     "evalue": "",
     "output_type": "error",
     "traceback": [
      "\u001B[1;31m---------------------------------------------------------------------------\u001B[0m",
      "\u001B[1;31mKeyboardInterrupt\u001B[0m                         Traceback (most recent call last)",
      "Input \u001B[1;32mIn [9]\u001B[0m, in \u001B[0;36m<cell line: 5>\u001B[1;34m()\u001B[0m\n\u001B[0;32m     13\u001B[0m ref_img_g \u001B[38;5;241m=\u001B[39m rgb2gray(ref_img)\n\u001B[0;32m     14\u001B[0m mov_img_g \u001B[38;5;241m=\u001B[39m rgb2gray(mov_img)\n\u001B[1;32m---> 15\u001B[0m v, u \u001B[38;5;241m=\u001B[39m \u001B[43moptical_flow_tvl1\u001B[49m\u001B[43m(\u001B[49m\u001B[43mref_img_g\u001B[49m\u001B[43m,\u001B[49m\u001B[43m \u001B[49m\u001B[43mmov_img_g\u001B[49m\u001B[43m)\u001B[49m\n\u001B[0;32m     16\u001B[0m nr, nc \u001B[38;5;241m=\u001B[39m ref_img_g\u001B[38;5;241m.\u001B[39mshape\n\u001B[0;32m     17\u001B[0m row_coords, col_coords \u001B[38;5;241m=\u001B[39m np\u001B[38;5;241m.\u001B[39mmeshgrid(np\u001B[38;5;241m.\u001B[39marange(nr), np\u001B[38;5;241m.\u001B[39marange(nc),\n\u001B[0;32m     18\u001B[0m                                      indexing\u001B[38;5;241m=\u001B[39m\u001B[38;5;124m'\u001B[39m\u001B[38;5;124mij\u001B[39m\u001B[38;5;124m'\u001B[39m)\n",
      "Input \u001B[1;32mIn [2]\u001B[0m, in \u001B[0;36m_time.<locals>.wrapper\u001B[1;34m(*args, **kwargs)\u001B[0m\n\u001B[0;32m      3\u001B[0m \u001B[38;5;28;01mdef\u001B[39;00m \u001B[38;5;21mwrapper\u001B[39m(\u001B[38;5;241m*\u001B[39margs,\u001B[38;5;241m*\u001B[39m\u001B[38;5;241m*\u001B[39mkwargs):\n\u001B[0;32m      4\u001B[0m     start\u001B[38;5;241m=\u001B[39mtime()\n\u001B[1;32m----> 5\u001B[0m     r\u001B[38;5;241m=\u001B[39mf(\u001B[38;5;241m*\u001B[39margs,\u001B[38;5;241m*\u001B[39m\u001B[38;5;241m*\u001B[39mkwargs)\n\u001B[0;32m      6\u001B[0m     end\u001B[38;5;241m=\u001B[39mtime()\n\u001B[0;32m      7\u001B[0m     \u001B[38;5;28mprint\u001B[39m(\u001B[38;5;124m\"\u001B[39m\u001B[38;5;132;01m%s\u001B[39;00m\u001B[38;5;124m timed \u001B[39m\u001B[38;5;132;01m%f\u001B[39;00m\u001B[38;5;124m\"\u001B[39m \u001B[38;5;241m%\u001B[39m(f\u001B[38;5;241m.\u001B[39m\u001B[38;5;18m__name__\u001B[39m,end\u001B[38;5;241m-\u001B[39mstart))\n",
      "File \u001B[1;32m~\\anaconda3\\envs\\wsi_analysis\\lib\\site-packages\\skimage\\registration\\_optical_flow.py:229\u001B[0m, in \u001B[0;36moptical_flow_tvl1\u001B[1;34m(reference_image, moving_image, attachment, tightness, num_warp, num_iter, tol, prefilter, dtype)\u001B[0m\n\u001B[0;32m    226\u001B[0m     msg \u001B[38;5;241m=\u001B[39m \u001B[38;5;124mf\u001B[39m\u001B[38;5;124m\"\u001B[39m\u001B[38;5;124mdtype=\u001B[39m\u001B[38;5;132;01m{\u001B[39;00mdtype\u001B[38;5;132;01m}\u001B[39;00m\u001B[38;5;124m is not supported. Try \u001B[39m\u001B[38;5;124m'\u001B[39m\u001B[38;5;124mfloat32\u001B[39m\u001B[38;5;124m'\u001B[39m\u001B[38;5;124m or \u001B[39m\u001B[38;5;124m'\u001B[39m\u001B[38;5;124mfloat64.\u001B[39m\u001B[38;5;124m'\u001B[39m\u001B[38;5;124m\"\u001B[39m\n\u001B[0;32m    227\u001B[0m     \u001B[38;5;28;01mraise\u001B[39;00m \u001B[38;5;167;01mValueError\u001B[39;00m(msg)\n\u001B[1;32m--> 229\u001B[0m \u001B[38;5;28;01mreturn\u001B[39;00m \u001B[43mcoarse_to_fine\u001B[49m\u001B[43m(\u001B[49m\u001B[43mreference_image\u001B[49m\u001B[43m,\u001B[49m\u001B[43m \u001B[49m\u001B[43mmoving_image\u001B[49m\u001B[43m,\u001B[49m\u001B[43m \u001B[49m\u001B[43msolver\u001B[49m\u001B[43m,\u001B[49m\u001B[43m \u001B[49m\u001B[43mdtype\u001B[49m\u001B[38;5;241;43m=\u001B[39;49m\u001B[43mdtype\u001B[49m\u001B[43m)\u001B[49m\n",
      "File \u001B[1;32m~\\anaconda3\\envs\\wsi_analysis\\lib\\site-packages\\skimage\\registration\\_optical_flow_utils.py:149\u001B[0m, in \u001B[0;36mcoarse_to_fine\u001B[1;34m(I0, I1, solver, downscale, nlevel, min_size, dtype)\u001B[0m\n\u001B[0;32m    146\u001B[0m flow \u001B[38;5;241m=\u001B[39m solver(pyramid[\u001B[38;5;241m0\u001B[39m][\u001B[38;5;241m0\u001B[39m], pyramid[\u001B[38;5;241m0\u001B[39m][\u001B[38;5;241m1\u001B[39m], flow)\n\u001B[0;32m    148\u001B[0m \u001B[38;5;28;01mfor\u001B[39;00m J0, J1 \u001B[38;5;129;01min\u001B[39;00m pyramid[\u001B[38;5;241m1\u001B[39m:]:\n\u001B[1;32m--> 149\u001B[0m     flow \u001B[38;5;241m=\u001B[39m \u001B[43msolver\u001B[49m\u001B[43m(\u001B[49m\u001B[43mJ0\u001B[49m\u001B[43m,\u001B[49m\u001B[43m \u001B[49m\u001B[43mJ1\u001B[49m\u001B[43m,\u001B[49m\u001B[43m \u001B[49m\u001B[43mresize_flow\u001B[49m\u001B[43m(\u001B[49m\u001B[43mflow\u001B[49m\u001B[43m,\u001B[49m\u001B[43m \u001B[49m\u001B[43mJ0\u001B[49m\u001B[38;5;241;43m.\u001B[39;49m\u001B[43mshape\u001B[49m\u001B[43m)\u001B[49m\u001B[43m)\u001B[49m\n\u001B[0;32m    151\u001B[0m \u001B[38;5;28;01mreturn\u001B[39;00m flow\n",
      "File \u001B[1;32m~\\anaconda3\\envs\\wsi_analysis\\lib\\site-packages\\skimage\\registration\\_optical_flow.py:119\u001B[0m, in \u001B[0;36m_tvl1\u001B[1;34m(reference_image, moving_image, flow0, attachment, tightness, num_warp, num_iter, tol, prefilter)\u001B[0m\n\u001B[0;32m    117\u001B[0m norm \u001B[38;5;241m=\u001B[39m np\u001B[38;5;241m.\u001B[39msqrt((g \u001B[38;5;241m*\u001B[39m\u001B[38;5;241m*\u001B[39m \u001B[38;5;241m2\u001B[39m)\u001B[38;5;241m.\u001B[39msum(\u001B[38;5;241m0\u001B[39m))[np\u001B[38;5;241m.\u001B[39mnewaxis, \u001B[38;5;241m.\u001B[39m\u001B[38;5;241m.\u001B[39m\u001B[38;5;241m.\u001B[39m]\n\u001B[0;32m    118\u001B[0m norm \u001B[38;5;241m*\u001B[39m\u001B[38;5;241m=\u001B[39m f1\n\u001B[1;32m--> 119\u001B[0m norm \u001B[38;5;241m+\u001B[39m\u001B[38;5;241m=\u001B[39m \u001B[38;5;241m1.\u001B[39m\n\u001B[0;32m    120\u001B[0m proj[idx] \u001B[38;5;241m-\u001B[39m\u001B[38;5;241m=\u001B[39m dt \u001B[38;5;241m*\u001B[39m g\n\u001B[0;32m    121\u001B[0m proj[idx] \u001B[38;5;241m/\u001B[39m\u001B[38;5;241m=\u001B[39m norm\n",
      "\u001B[1;31mKeyboardInterrupt\u001B[0m: "
     ]
    }
   ],
   "source": [
    "#two for loops to recursively create registered images:\n",
    "# from middle to end (higher index), idx of 17 to 33, or 18th image to 34th image:\n",
    "start = time()\n",
    "\n",
    "for idx in range(num_plus1,len(img_files_path_complete)): #idx = 17 to 34 (not including 34)\n",
    "    if idx == len(img_files_path_complete) - 1:\n",
    "        break\n",
    "    ref_img_path = os.path.join(r'\\\\fatherserverdw\\Kevin\\imageregistration\\registered_images', img_files_path[idx])\n",
    "    mov_img_path = img_files_path_complete[idx+1]\n",
    "    ref_img = np.array(Image.open(ref_img_path))\n",
    "    mov_img = np.array(Image.open(mov_img_path))\n",
    "\n",
    "    ref_img_g = rgb2gray(ref_img)\n",
    "    mov_img_g = rgb2gray(mov_img)\n",
    "    v, u = optical_flow_tvl1(ref_img_g, mov_img_g)\n",
    "    nr, nc = ref_img_g.shape\n",
    "    row_coords, col_coords = np.meshgrid(np.arange(nr), np.arange(nc),\n",
    "                                         indexing='ij')\n",
    "    mov_img_warp_ra =[]\n",
    "    for i in range(3):\n",
    "        mov_img_warp = warp(mov_img[:,:,i], np.array([row_coords + v, col_coords + u]),mode='edge')\n",
    "        mov_img_warp_ra.append(mov_img_warp)\n",
    "    r = np.array(mov_img_warp_ra[0]*255).astype('uint8')\n",
    "    g = np.array(mov_img_warp_ra[1]*255).astype('uint8')\n",
    "    b = np.array(mov_img_warp_ra[2]*255).astype('uint8')\n",
    "    rgb = np.stack([r,g,b],axis=2)\n",
    "    reg_img = Image.fromarray(rgb)\n",
    "    reg_img.save(r'\\\\fatherserverdw\\Kevin\\imageregistration\\registered_images\\\\' + str(img_files_path_1[idx+1]) + '.png')\n",
    "\n",
    "end = time()\n",
    "print(\"time it took to register: \"+  str(end-start) + \" seconds\")"
   ],
   "metadata": {
    "collapsed": false
   }
  },
  {
   "cell_type": "code",
   "execution_count": null,
   "outputs": [],
   "source": [
    "# from middle to beginning (lower index), idx of 15 to 0, or 16th image to 1st image:\n",
    "start = time()\n",
    "\n",
    "for idx in range(num_minus1,-1,-1): #idx = 15 to -1 (not including -1)\n",
    "    if idx == 0:\n",
    "        break\n",
    "    ref_img_path = os.path.join(r'\\\\fatherserverdw\\Kevin\\imageregistration\\registered_images', img_files_path[idx])\n",
    "    mov_img_path = img_files_path_complete[idx-1]\n",
    "    ref_img = np.array(Image.open(ref_img_path))\n",
    "    mov_img = np.array(Image.open(mov_img_path))\n",
    "\n",
    "    ref_img_g = rgb2gray(ref_img)\n",
    "    mov_img_g = rgb2gray(mov_img)\n",
    "    v, u = optical_flow_tvl1(ref_img_g, mov_img_g)\n",
    "    nr, nc = ref_img_g.shape\n",
    "    row_coords, col_coords = np.meshgrid(np.arange(nr), np.arange(nc),\n",
    "                                         indexing='ij')\n",
    "    mov_img_warp_ra =[]\n",
    "    for i in range(3):\n",
    "        mov_img_warp = warp(mov_img[:,:,i], np.array([row_coords + v, col_coords + u]),mode='edge')\n",
    "        mov_img_warp_ra.append(mov_img_warp)\n",
    "    r = np.array(mov_img_warp_ra[0]*255).astype('uint8')\n",
    "    g = np.array(mov_img_warp_ra[1]*255).astype('uint8')\n",
    "    b = np.array(mov_img_warp_ra[2]*255).astype('uint8')\n",
    "    rgb = np.stack([r,g,b],axis=2)\n",
    "    reg_img = Image.fromarray(rgb)\n",
    "    reg_img.save(r'\\\\fatherserverdw\\Kevin\\imageregistration\\registered_images\\\\' + str(img_files_path[idx-1]) + '.png')\n",
    "\n",
    "end = time()\n",
    "print(\"time it took to register: \"+  str(end-start) + \" seconds\")"
   ],
   "metadata": {
    "collapsed": false,
    "pycharm": {
     "is_executing": true
    }
   }
  },
  {
   "cell_type": "code",
   "execution_count": null,
   "outputs": [],
   "source": [
    "# # --- Load the sequence\n",
    "# image0, image1, disp = stereo_motorcycle()\n",
    "#\n",
    "# # --- Convert the images to gray level: color is not supported.\n",
    "# image0g = rgb2gray(image0)\n",
    "# image1g = rgb2gray(image1)\n",
    "#\n",
    "# # --- Compute the optical flow\n",
    "# v, u = optical_flow_tvl1(image0g, image1g)\n",
    "#\n",
    "# # --- Use the estimated optical flow for registration\n",
    "# nr, nc = image0g.shape\n",
    "#\n",
    "# row_coords, col_coords = np.meshgrid(np.arange(nr), np.arange(nc),indexing='ij')\n",
    "#\n",
    "# image1_warps =[]\n",
    "# for i in range(1,4):\n",
    "#     image1_warp = warp(image1[:,:,i], np.array([row_coords + v, col_coords + u]),mode='edge')\n",
    "#     image1_warps.append(image1_warp)\n",
    "#\n",
    "#\n",
    "# dl_warp = warp(dlmask, np.array([row_coords + v, col_coords + u]),mode='edge')\n",
    "#\n",
    "# image1_warps.save\n",
    "# dl_warp.save"
   ],
   "metadata": {
    "collapsed": false
   }
  }
 ],
 "metadata": {
  "kernelspec": {
   "display_name": "Python 3",
   "language": "python",
   "name": "python3"
  },
  "language_info": {
   "codemirror_mode": {
    "name": "ipython",
    "version": 2
   },
   "file_extension": ".py",
   "mimetype": "text/x-python",
   "name": "python",
   "nbconvert_exporter": "python",
   "pygments_lexer": "ipython2",
   "version": "2.7.6"
  }
 },
 "nbformat": 4,
 "nbformat_minor": 0
}
