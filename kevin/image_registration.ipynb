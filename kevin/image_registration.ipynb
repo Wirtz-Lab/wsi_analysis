{
 "cells": [
  {
   "cell_type": "markdown",
   "source": [
    "# Image Registration of list of images:"
   ],
   "metadata": {
    "collapsed": false
   }
  },
  {
   "cell_type": "markdown",
   "source": [
    "### TODO: Use 34 images in this file path: \\\\fatherserverdw\\Q\\research\\images\\CLUE\\3D study\\he\\4xr_jpg. Use the middle image (17th image) as a reference image, since these images are labeled from top to bottom (of the skin). 17th image as reference, 16th and 18th image as image to be registered. The resulted registered 16th and 18th images are then used as a reference image to register the 15th, and the 19th, respectively. Keep doing this until you register all 34 images."
   ],
   "metadata": {
    "collapsed": false
   }
  },
  {
   "cell_type": "code",
   "execution_count": 3,
   "outputs": [],
   "source": [
    "import numpy as np\n",
    "import pandas as pd\n",
    "import time\n",
    "import imageio.v2 as imageio\n",
    "from PIL import Image\n",
    "import cv2\n",
    "import os\n",
    "import sys\n",
    "from matplotlib import pyplot as plt\n",
    "from skimage.color import rgb2gray\n",
    "from skimage.data import stereo_motorcycle, vortex\n",
    "from skimage.transform import warp\n",
    "from skimage.registration import optical_flow_tvl1, optical_flow_ilk\n",
    "from imageio.v2 import imwrite\n",
    "import pyelastix as pe\n",
    "# import SimpleITK as sitk"
   ],
   "metadata": {
    "collapsed": false
   }
  },
  {
   "cell_type": "code",
   "execution_count": 37,
   "outputs": [],
   "source": [
    "# function to pad images to same size:\n",
    "def pad_images_to_same_size(images):\n",
    "    \"\"\"\n",
    "    :param images: sequence of images\n",
    "    :return: list of images padded so that all images have same width and height (max width and height are used)\n",
    "    \"\"\"\n",
    "    width_max = 0\n",
    "    height_max = 0\n",
    "    for img in images:\n",
    "        h, w = img.shape[:2]\n",
    "        width_max = max(width_max, w)\n",
    "        height_max = max(height_max, h)\n",
    "\n",
    "    images_padded = []\n",
    "    for img in images:\n",
    "        h, w = img.shape[:2]\n",
    "        diff_vert = height_max - h\n",
    "        pad_top = diff_vert//2\n",
    "        pad_bottom = diff_vert - pad_top\n",
    "        diff_hori = width_max - w\n",
    "        pad_left = diff_hori//2\n",
    "        pad_right = diff_hori - pad_left\n",
    "        img_padded = cv2.copyMakeBorder(img, pad_top, pad_bottom, pad_left, pad_right, cv2.BORDER_CONSTANT, value=(255,255,255))\n",
    "        assert img_padded.shape[:2] == (height_max, width_max)\n",
    "        images_padded.append(img_padded)\n",
    "\n",
    "    return images_padded"
   ],
   "metadata": {
    "collapsed": false
   }
  },
  {
   "cell_type": "code",
   "execution_count": null,
   "outputs": [],
   "source": [
    "#pad all the images needed to the same size (run once, takes long):\n",
    "img_files_path = [_ for _ in os.listdir(r'\\\\fatherserverdw\\Q\\research\\images\\CLUE\\3D study\\he\\4xr_jpg') if _.endswith(\".jpg\")]\n",
    "img_files_path_complete = [os.path.join(r'\\\\fatherserverdw\\Q\\research\\images\\CLUE\\3D study\\he\\4xr_jpg\\\\' + x) for x in img_files_path]\n",
    "img_list = [cv2.imread(x) for x in img_files_path_complete]\n",
    "img_open_list = pad_images_to_same_size(img_list)\n",
    "for idx in range(len(img_open_list)):\n",
    "    cv2.imwrite(r'\\\\fatherserverdw\\Kevin\\imageregistration\\padded_images\\\\' + str(img_files_path[idx]) + '.png',img_open_list[idx])"
   ],
   "metadata": {
    "collapsed": false,
    "pycharm": {
     "is_executing": true
    }
   }
  },
  {
   "cell_type": "code",
   "execution_count": null,
   "outputs": [],
   "source": [
    "img_files_name = [_ for _ in os.listdir(r'\\\\fatherserverdw\\Kevin\\imageregistration\\padded_images') if _.endswith(\".jpg\")]\n",
    "img_files_name_complete = [os.path.join(r'\\\\fatherserverdw\\Kevin\\imageregistration\\padded_images\\\\' + x) for x in img_files_name]\n",
    "num = int(len(img_files_name)/2) - 1 #16\n",
    "\n",
    "ref_img_path = img_files_name_complete[num]\n",
    "mov_img_path = img_files_name_complete[num+1]\n",
    "ref_img = Image.open(ref_img_path)\n",
    "mov_img = Image.open(mov_img_path)\n",
    "\n",
    "\n",
    "#first create registered image of #15 and #17 images manually and then run two for loops after that recursively create registered images:\n",
    "\n",
    "\n",
    "\n",
    "# start = time.time()\n",
    "# # from middle to end (higher index)\n",
    "# for idx in range(num,len(img_files)): #idx = 16 to 34 (not including)\n",
    "#     ref_img_path = img_files[idx]\n",
    "#     mov_img_path = img_files[idx+1]\n",
    "#\n",
    "#     ref_img = Image.open(ref_img_path)\n",
    "#     mov_img = Image.open(mov_img_path)\n",
    "#     params = pe.get_default_params(type = 'AFFINE')\n",
    "#\n",
    "#     ref_img_r = ref_img[:,:,0].astype('float32')\n",
    "#     mov_img_r = mov_img[:,:,0].astype('float32')\n",
    "#     result_r, _ = pe.register(ref_img_r,mov_img_r, params)\n",
    "#\n",
    "#     ref_img_g = ref_img[:,:,1].astype('float32')\n",
    "#     mov_img_g = mov_img[:,:,1].astype('float32')\n",
    "#     result_g, _ = pe.register(ref_img_g, mov_img_g, params)\n",
    "#\n",
    "#     ref_img_b = ref_img[:,:,2].astype('float32')\n",
    "#     mov_img_b = mov_img[:,:,2].astype('float32')\n",
    "#     result_b, _ = pe.register(ref_img_b,mov_img_b, params)\n",
    "#\n",
    "#     rgb = np.stack([result_r,result_g,result_b],axis=2)\n",
    "#     reg_img = np.array(rgb).astype('uint8')\n",
    "#     # Image.fromarray(rgb_img).show()\n",
    "#     cv2.imwrite(r'\\\\fatherserverdw\\Kevin\\imageregistration\\\\' + 'registered_' + img_files[idx+1] + str(idx+1) + '.png', reg_img) #registerd #18 image\n",
    "# end = time.time()\n",
    "# print(\"time it took to register: \"+  str(end-start) + \" seconds\")"
   ],
   "metadata": {
    "collapsed": false
   }
  },
  {
   "cell_type": "code",
   "execution_count": null,
   "outputs": [],
   "source": [
    "img_files[15]"
   ],
   "metadata": {
    "collapsed": false
   }
  },
  {
   "cell_type": "code",
   "execution_count": null,
   "outputs": [],
   "source": [
    "\n",
    "\n",
    "#list all the path for all 34 files, open, register, save, and repeat:\n",
    "\n",
    "ref_img_path = r'\\\\fatherserverdw\\Q\\research\\images\\CLUE\\3D study\\he\\4xr_jpg\\z0049_49C1.jpg' #17th image\n",
    "mov_img_path = r'\\\\fatherserverdw\\Q\\research\\images\\CLUE\\3D study\\he\\4xr_jpg\\z0046_46C1.jpg' #16th image\n",
    "\n",
    "ref_img = Image.open(ref_img_path)\n",
    "mov_img = Image.open(mov_img_path)\n",
    "ref_img, mov_img = pad_images_to_same_size([np.array(ref_img),np.array(mov_img)])\n",
    "params = pe.get_default_params(type = 'AFFINE')\n",
    "\n",
    "ref_img_r = ref_img[:,:,0].astype('float32')\n",
    "mov_img_r = mov_img[:,:,0].astype('float32')\n",
    "result_r, _ = pe.register(ref_img_r,mov_img_r, params)\n",
    "\n",
    "ref_img_g = ref_img[:,:,1].astype('float32')\n",
    "mov_img_g = mov_img[:,:,1].astype('float32')\n",
    "result_g, _ = pe.register(ref_img_g, mov_img_g, params)\n",
    "\n",
    "ref_img_b = ref_img[:,:,2].astype('float32')\n",
    "mov_img_b = mov_img[:,:,2].astype('float32')\n",
    "result_b, _ = pe.register(ref_img_b,mov_img_b, params)\n",
    "\n",
    "rgb = np.stack([result_r,result_g,result_b],axis=2)\n",
    "rgb_img = np.array(rgb).astype('uint8')\n",
    "# Image.fromarray(rgb_img).show()\n",
    "imwrite(r'\\\\fatherserverdw\\Kevin\\imageregistration\\test.png',rgb_img)\n",
    "\n",
    "end = time.time()\n",
    "print(\"time it took to register: \"+  str(end-start) + \" seconds\")\n",
    "# works, but color is slightly off- is it loss when converting between float32 to uint8?"
   ],
   "metadata": {
    "collapsed": false
   }
  },
  {
   "cell_type": "code",
   "execution_count": null,
   "outputs": [],
   "source": [
    "imwrite(r'\\\\fatherserverdw\\Kevin\\imageregistration\\test.png',rgb_img)"
   ],
   "metadata": {
    "collapsed": false
   }
  },
  {
   "cell_type": "code",
   "execution_count": null,
   "outputs": [],
   "source": [
    "()# # --- Load the sequence\n",
    "# image0, image1, disp = stereo_motorcycle()\n",
    "#\n",
    "# # --- Convert the images to gray level: color is not supported.\n",
    "# image0g = rgb2gray(image0)\n",
    "# image1g = rgb2gray(image1)\n",
    "#\n",
    "# # --- Compute the optical flow\n",
    "# v, u = optical_flow_tvl1(image0g, image1g)\n",
    "#\n",
    "# # --- Use the estimated optical flow for registration\n",
    "# nr, nc = image0g.shape\n",
    "#\n",
    "# row_coords, col_coords = np.meshgrid(np.arange(nr), np.arange(nc),indexing='ij')\n",
    "#\n",
    "# image1_warps =[]\n",
    "# for i in range(1,4):\n",
    "#     image1_warp = warp(image1[:,:,i], np.array([row_coords + v, col_coords + u]),mode='edge')\n",
    "#     image1_warps.append(image1_warp)\n",
    "#\n",
    "#\n",
    "# dl_warp = warp(dlmask, np.array([row_coords + v, col_coords + u]),mode='edge')\n",
    "#\n",
    "# image1_warps.save\n",
    "# dl_warp.save"
   ],
   "metadata": {
    "collapsed": false
   }
  },
  {
   "cell_type": "code",
   "execution_count": null,
   "outputs": [],
   "source": [
    "# start = time.time()\n",
    "#\n",
    "# ref_img_path = r'\\\\fatherserverdw\\Q\\research\\images\\CLUE\\3D study\\he\\4xr_jpg\\z0049_49C1.jpg' #17th image\n",
    "# mov_img_path = r'\\\\fatherserverdw\\Q\\research\\images\\CLUE\\3D study\\he\\4xr_jpg\\z0046_46C1.jpg' #16th image\n",
    "# ref_img = Image.open(ref_img_path)\n",
    "# mov_img = Image.open(mov_img_path)\n",
    "# ref_img, mov_img = pad_images_to_same_size([np.array(ref_img),np.array(mov_img)])\n",
    "# ref_img_g = rgb2gray(ref_img)\n",
    "# mov_img_g = rgb2gray(mov_img)\n",
    "# v, u = optical_flow_tvl1(ref_img_g, mov_img_g)\n",
    "# nr, nc = ref_img_g.shape\n",
    "# row_coords, col_coords = np.meshgrid(np.arange(nr), np.arange(nc),\n",
    "#                                      indexing='ij')\n",
    "# mov_img_warp = warp(mov_img, np.array([row_coords + v, col_coords + u]),\n",
    "#                    mode='edge')\n",
    "# mov_img_warp_ra =[]\n",
    "# for i in range(3):\n",
    "#     mov_img_warp = warp(mov_img[:,:,i], np.array([row_coords + v, col_coords + u]),mode='edge')\n",
    "#     mov_img_warp_ra.append(mov_img_warp)\n",
    "#\n",
    "# print(mov_img_warp_ra)\n",
    "# end = time.time()\n",
    "# print(\"time it took to register: \"+  str(end-start) + \" seconds\")\n"
   ],
   "metadata": {
    "collapsed": false
   }
  },
  {
   "cell_type": "code",
   "execution_count": null,
   "outputs": [],
   "source": [
    "# from imageio.v2 import imwrite\n",
    "# reg_im_ra = np.array(reg_im).astype(np.uint8)\n",
    "# imwrite(r'\\\\fatherserverdw\\Kevin\\imageregistration\\test.png',reg_im_ra)"
   ],
   "metadata": {
    "collapsed": false
   }
  },
  {
   "cell_type": "code",
   "execution_count": null,
   "metadata": {
    "collapsed": true
   },
   "outputs": [],
   "source": [
    "# ref_img = r'\\\\fatherserverdw\\Q\\research\\images\\CLUE\\3D study\\he\\4xr_jpg\\z0049_49C1.jpg' #17th image\n",
    "# mov_img = r'\\\\fatherserverdw\\Q\\research\\images\\CLUE\\3D study\\he\\4xr_jpg\\z0046_46C1.jpg' #16th image\n",
    "#\n",
    "# ref_img = sitk.ReadImage(ref_img)\n",
    "# mov_img = sitk.ReadImage(mov_img)\n",
    "#\n",
    "# ref_img = sitk.GetArrayFromImage(ref_img)\n",
    "# mov_img = sitk.GetArrayFromImage(mov_img)\n",
    "#\n",
    "# ref_img, mov_img = pad_images_to_same_size([ref_img,mov_img])\n",
    "#\n",
    "# ref_img = ref_img.astype(float)\n",
    "# mov_img = mov_img.astype(float)\n",
    "#\n",
    "# ref_img_1 = sitk.GetImageFromArray(ref_img, isVector = True)\n",
    "# mov_img_1 = sitk.GetImageFromArray(mov_img, isVector = True)\n",
    "#\n",
    "# ref_img_2 = sitk.Cast(ref_img_1,sitk.sitkVectorFloat32)\n",
    "# mov_img_2 = sitk.Cast(mov_img_1,sitk.sitkVectorFloat32)\n",
    "#\n",
    "# elastixImageFilter = sitk.ElastixImageFilter()\n",
    "# elastixImageFilter.SetFixedImage(ref_img_2)\n",
    "# elastixImageFilter.SetMovingImage(mov_img_2)\n",
    "#\n",
    "# parameterMapVector = sitk.VectorOfParameterMap()\n",
    "# parameterMapVector.append(sitk.GetDefaultParameterMap(\"affine\"))\n",
    "# parameterMapVector.append(sitk.GetDefaultParameterMap(\"bspline\"))\n",
    "# elastixImageFilter.SetParameterMap(parameterMapVector)\n",
    "#\n",
    "# elastixImageFilter.Execute()\n",
    "# result = elastixImageFilter.GetResultImage()\n"
   ]
  },
  {
   "cell_type": "code",
   "execution_count": null,
   "outputs": [],
   "source": [
    "# params = pe.get_default_params()\n",
    "# params.MaximumNumberOfIterations = 200\n",
    "# params.NumberOfResolutions = 3\n",
    "#\n",
    "# start = time.time()\n",
    "# image3, field = pe.register(image1,image2,params)\n",
    "# end = time.time()\n",
    "# print(\"time it took to register: \"+  str(end-start) + \" seconds\")\n",
    "#\n",
    "# img3 = Image.fromarray(image3)\n",
    "# img3.show()\n",
    "# img3 = img3.convert(\"L\")\n",
    "# img3.save(r'\\\\fatherserverdw\\Kevin\\image3.jpg')\n",
    "# # overlay image 3 on top of image 1 and image 2 to see how well the image 2 is rotated in reference to image 1:\n",
    "# alpha, beta = 0.5, 0.5\n",
    "# overlay_img1_img3 = cv2.addWeighted(image1,alpha,image3,beta,0.0)\n",
    "# img_overlay = Image.fromarray(overlay_img1_img3)\n",
    "# img_overlay.show()\n",
    "# img_overlay = img_overlay.convert(\"L\")\n",
    "# img_overlay.save(r'\\\\fatherserverdw\\Kevin\\overlay.jpg')\n",
    "#\n",
    "# another method:\n",
    "# difference = image1 - image3\n",
    "# difference = difference.astype(np.int)\n",
    "# difference_df = pd.DataFrame(difference)\n",
    "# difference_df = difference_df[difference_df>0]\n",
    "# difference_df = difference_df.fillna(0)\n",
    "# diff_counts = np.unique(difference_df,return_counts=True)[1]\n",
    "# sum_diff = np.sum(diff_counts) - diff_counts[0]\n",
    "# print(\"{} pixel values out of {} total pixel values are different\".format(sum_diff,image1.shape[0]*image1.shape[1]))\n",
    "# print(\"{}% pixel values are different\".format(sum_diff*100/(image1.shape[0]*image1.shape[1])))\n",
    "# # stack three x,y values (2d image) to 1 2d Image (x,y,3)\n",
    "# ig1 = imageio.imread(r'\\\\fatherserverdw\\Q\\research\\images\\CLUE\\3D study\\he\\4xr_jpg\\z0001_1C1.jpg')\n",
    "# ig2 = imageio.imread(r'\\\\fatherserverdw\\Q\\research\\images\\CLUE\\3D study\\he\\4xr_jpg\\z0004_4C1.jpg')\n",
    "# ig3 = imageio.imread(r'\\\\fatherserverdw\\Q\\research\\images\\CLUE\\3D study\\he\\4xr_jpg\\z0007_7C1.jpg')\n",
    "# #pad before:\n",
    "# ig1, ig2, ig3 = pad_images_to_same_size([ig1,ig2,ig3])\n",
    "# ig1 = cv2.cvtColor(ig1,cv2.COLOR_RGB2GRAY)\n",
    "# ig2 = cv2.cvtColor(ig2,cv2.COLOR_RGB2GRAY)\n",
    "# ig3 = cv2.cvtColor(ig3,cv2.COLOR_RGB2GRAY)\n",
    "# # all img shape is (6264, 5352)\n",
    "# rgb = np.stack([ig1,ig2,ig3],axis=2)\n",
    "# rgbimg = Image.fromarray(rgb)\n",
    "# rgbimg.show()\n",
    "# rgbimg.save(r'\\\\fatherserverdw\\Kevin\\rgbimg.jpg')\n",
    "# grayimg = cv2.cvtColor(np.array(rgbimg),cv2.COLOR_RGB2GRAY)\n",
    "# grayimg = grayimg.astype(np.uint8)\n",
    "# plt.imshow(grayimg)\n",
    "#\n",
    "# params = pe.get_default_params()\n",
    "# params.MaximumNumberOfIterations = 200\n",
    "# params.NumberOfResolutions = 3\n",
    "#\n",
    "# start = time.time()\n",
    "# fin_img, field = pe.register(grayimg,ig1,params)\n",
    "# end = time.time()\n",
    "# print(\"time it took to register: \"+  str(end-start) + \" seconds\")\n",
    "#\n",
    "# finimg = Image.fromarray(fin_img)\n",
    "# finimg.show()\n",
    "# img3 = img3.convert(\"L\")\n",
    "# img3.save(r'\\\\fatherserverdw\\Kevin\\image3.jpg')"
   ],
   "metadata": {
    "collapsed": false
   }
  }
 ],
 "metadata": {
  "kernelspec": {
   "display_name": "Python 3",
   "language": "python",
   "name": "python3"
  },
  "language_info": {
   "codemirror_mode": {
    "name": "ipython",
    "version": 2
   },
   "file_extension": ".py",
   "mimetype": "text/x-python",
   "name": "python",
   "nbconvert_exporter": "python",
   "pygments_lexer": "ipython2",
   "version": "2.7.6"
  }
 },
 "nbformat": 4,
 "nbformat_minor": 0
}
