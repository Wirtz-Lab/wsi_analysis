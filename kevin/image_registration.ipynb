{
 "cells": [
  {
   "cell_type": "markdown",
   "source": [
    "# Image Registration of list of images:"
   ],
   "metadata": {
    "collapsed": false
   }
  },
  {
   "cell_type": "markdown",
   "source": [
    "### TODO: Use 34 images in this file path: \\\\fatherserverdw\\Q\\research\\images\\CLUE\\3D study\\he\\4xr_jpg. Use the middle image (17th image) as a reference image, since these images are labeled from top to bottom (of the skin). 17th image as reference, 16th and 18th image as image to be registered. The resulted registered 16th and 18th images are then used as a reference image to register the 15th, and the 19th, respectively. Keep doing this until you register all 34 images."
   ],
   "metadata": {
    "collapsed": false
   }
  },
  {
   "cell_type": "code",
   "execution_count": 6,
   "outputs": [
    {
     "ename": "AttributeError",
     "evalue": "module 'SimpleITK._SimpleITK' has no attribute 'delete_ImageFilter_0'",
     "output_type": "error",
     "traceback": [
      "\u001B[1;31m---------------------------------------------------------------------------\u001B[0m",
      "\u001B[1;31mAttributeError\u001B[0m                            Traceback (most recent call last)",
      "Input \u001B[1;32mIn [6]\u001B[0m, in \u001B[0;36m<cell line: 9>\u001B[1;34m()\u001B[0m\n\u001B[0;32m      7\u001B[0m \u001B[38;5;28;01mimport\u001B[39;00m \u001B[38;5;21;01mos\u001B[39;00m\n\u001B[0;32m      8\u001B[0m \u001B[38;5;28;01mimport\u001B[39;00m \u001B[38;5;21;01msys\u001B[39;00m\n\u001B[1;32m----> 9\u001B[0m \u001B[38;5;28;01mimport\u001B[39;00m \u001B[38;5;21;01mSimpleITK\u001B[39;00m \u001B[38;5;28;01mas\u001B[39;00m \u001B[38;5;21;01msitk\u001B[39;00m\n",
      "File \u001B[1;32m~\\anaconda3\\envs\\wsi_analysis\\lib\\site-packages\\SimpleITK\\__init__.py:18\u001B[0m, in \u001B[0;36m<module>\u001B[1;34m\u001B[0m\n\u001B[0;32m      1\u001B[0m \u001B[38;5;66;03m# ========================================================================\u001B[39;00m\n\u001B[0;32m      2\u001B[0m \u001B[38;5;66;03m#\u001B[39;00m\n\u001B[0;32m      3\u001B[0m \u001B[38;5;66;03m#  Copyright NumFOCUS\u001B[39;00m\n\u001B[1;32m   (...)\u001B[0m\n\u001B[0;32m     16\u001B[0m \u001B[38;5;66;03m#\u001B[39;00m\n\u001B[0;32m     17\u001B[0m \u001B[38;5;66;03m# ========================================================================\u001B[39;00m\n\u001B[1;32m---> 18\u001B[0m \u001B[38;5;28;01mfrom\u001B[39;00m \u001B[38;5;21;01mSimpleITK\u001B[39;00m\u001B[38;5;21;01m.\u001B[39;00m\u001B[38;5;21;01mSimpleITK\u001B[39;00m \u001B[38;5;28;01mimport\u001B[39;00m \u001B[38;5;241m*\u001B[39m\n\u001B[0;32m     19\u001B[0m \u001B[38;5;28;01mfrom\u001B[39;00m \u001B[38;5;21;01mSimpleITK\u001B[39;00m\u001B[38;5;21;01m.\u001B[39;00m\u001B[38;5;21;01mextra\u001B[39;00m \u001B[38;5;28;01mimport\u001B[39;00m \u001B[38;5;241m*\u001B[39m\n\u001B[0;32m     21\u001B[0m \u001B[38;5;28;01mfrom\u001B[39;00m \u001B[38;5;21;01mSimpleITK\u001B[39;00m\u001B[38;5;21;01m.\u001B[39;00m\u001B[38;5;21;01m_version\u001B[39;00m \u001B[38;5;28;01mimport\u001B[39;00m __version__\n",
      "File \u001B[1;32m~\\anaconda3\\envs\\wsi_analysis\\lib\\site-packages\\SimpleITK\\SimpleITK.py:7740\u001B[0m, in \u001B[0;36m<module>\u001B[1;34m\u001B[0m\n\u001B[0;32m   7737\u001B[0m     \u001B[38;5;124;03m\"\"\"ProcessObject_SetGlobalDefaultDirectionTolerance(double arg2)\"\"\"\u001B[39;00m\n\u001B[0;32m   7738\u001B[0m     \u001B[38;5;28;01mreturn\u001B[39;00m _SimpleITK\u001B[38;5;241m.\u001B[39mProcessObject_SetGlobalDefaultDirectionTolerance(arg2)\n\u001B[1;32m-> 7740\u001B[0m \u001B[38;5;28;01mclass\u001B[39;00m \u001B[38;5;21;01mImageFilter_0\u001B[39;00m(ProcessObject):\n\u001B[0;32m   7741\u001B[0m     \u001B[38;5;124;03m\"\"\"\u001B[39;00m\n\u001B[0;32m   7742\u001B[0m \n\u001B[0;32m   7743\u001B[0m \n\u001B[1;32m   (...)\u001B[0m\n\u001B[0;32m   7751\u001B[0m \n\u001B[0;32m   7752\u001B[0m \u001B[38;5;124;03m    \"\"\"\u001B[39;00m\n\u001B[0;32m   7754\u001B[0m     __swig_setmethods__ \u001B[38;5;241m=\u001B[39m {}\n",
      "File \u001B[1;32m~\\anaconda3\\envs\\wsi_analysis\\lib\\site-packages\\SimpleITK\\SimpleITK.py:7766\u001B[0m, in \u001B[0;36mImageFilter_0\u001B[1;34m()\u001B[0m\n\u001B[0;32m   7764\u001B[0m     \u001B[38;5;28;01mraise\u001B[39;00m \u001B[38;5;167;01mAttributeError\u001B[39;00m(\u001B[38;5;124m\"\u001B[39m\u001B[38;5;124mNo constructor defined - class is abstract\u001B[39m\u001B[38;5;124m\"\u001B[39m)\n\u001B[0;32m   7765\u001B[0m \u001B[38;5;21m__repr__\u001B[39m \u001B[38;5;241m=\u001B[39m _swig_repr\n\u001B[1;32m-> 7766\u001B[0m __swig_destroy__ \u001B[38;5;241m=\u001B[39m \u001B[43m_SimpleITK\u001B[49m\u001B[38;5;241;43m.\u001B[39;49m\u001B[43mdelete_ImageFilter_0\u001B[49m\n\u001B[0;32m   7767\u001B[0m \u001B[38;5;21m__del__\u001B[39m \u001B[38;5;241m=\u001B[39m \u001B[38;5;28;01mlambda\u001B[39;00m \u001B[38;5;28mself\u001B[39m: \u001B[38;5;28;01mNone\u001B[39;00m\n",
      "\u001B[1;31mAttributeError\u001B[0m: module 'SimpleITK._SimpleITK' has no attribute 'delete_ImageFilter_0'"
     ]
    }
   ],
   "source": [
    "import numpy as np\n",
    "import pandas as pd\n",
    "import time\n",
    "import imageio.v2 as imageio\n",
    "from PIL import Image\n",
    "import cv2\n",
    "import os\n",
    "import sys\n",
    "import SimpleITK as sitk"
   ],
   "metadata": {
    "collapsed": false
   }
  },
  {
   "cell_type": "markdown",
   "source": [],
   "metadata": {
    "collapsed": false
   }
  },
  {
   "cell_type": "code",
   "execution_count": 6,
   "outputs": [],
   "source": [],
   "metadata": {
    "collapsed": false
   }
  },
  {
   "cell_type": "code",
   "execution_count": null,
   "outputs": [],
   "source": [
    "# function to pad images to same size:\n",
    "def pad_images_to_same_size(images):\n",
    "    \"\"\"\n",
    "    :param images: sequence of images\n",
    "    :return: list of images padded so that all images have same width and height (max width and height are used)\n",
    "    \"\"\"\n",
    "    width_max = 0\n",
    "    height_max = 0\n",
    "    for img in images:\n",
    "        h, w = img.shape[:2]\n",
    "        width_max = max(width_max, w)\n",
    "        height_max = max(height_max, h)\n",
    "\n",
    "    images_padded = []\n",
    "    for img in images:\n",
    "        h, w = img.shape[:2]\n",
    "        diff_vert = height_max - h\n",
    "        pad_top = diff_vert//2\n",
    "        pad_bottom = diff_vert - pad_top\n",
    "        diff_hori = width_max - w\n",
    "        pad_left = diff_hori//2\n",
    "        pad_right = diff_hori - pad_left\n",
    "        img_padded = cv2.copyMakeBorder(img, pad_top, pad_bottom, pad_left, pad_right, cv2.BORDER_CONSTANT, value=0)\n",
    "        assert img_padded.shape[:2] == (height_max, width_max)\n",
    "        images_padded.append(img_padded)\n",
    "\n",
    "    return images_padded\n"
   ],
   "metadata": {
    "collapsed": false
   }
  },
  {
   "cell_type": "code",
   "execution_count": null,
   "metadata": {
    "collapsed": true
   },
   "outputs": [],
   "source": [
    "ref_img = r'\\\\fatherserverdw\\Q\\research\\images\\CLUE\\3D study\\he\\4xr_jpg\\z0049_49C1.jpg' #17th image\n",
    "mov_img = r'\\\\fatherserverdw\\Q\\research\\images\\CLUE\\3D study\\he\\4xr_jpg\\z0046_46C1.jpg' #16th image\n",
    "\n",
    "elastixImageFilter = sitk.ElastixImageFilter()\n",
    "elastixImageFilter.SetFixedImage(sitk.ReadImage(r'\\\\fatherserverdw\\Kevin\\rgbimg.jpg'))\n",
    "elastixImageFilter.SetMovingImage(sitk.ReadImage(r'\\\\fatherserverdw\\Q\\research\\images\\CLUE\\3D study\\he\\4xr_jpg\\z0001_1C1.jpg'))\n",
    "\n",
    "parameterMapVector = sitk.VectorOfParameterMap()\n",
    "parameterMapVector.append(sitk.GetDefaultParameterMap(\"affine\"))\n",
    "parameterMapVector.append(sitk.GetDefaultParameterMap(\"bspline\"))\n",
    "elastixImageFilter.SetParameterMap(parameterMapVector)\n",
    "\n",
    "elastixImageFilter.Execute()\n",
    "sitk.WriteImage(elastixImageFilter.GetResultImage())"
   ]
  },
  {
   "cell_type": "code",
   "execution_count": null,
   "outputs": [],
   "source": [
    "# params = pe.get_default_params()\n",
    "# params.MaximumNumberOfIterations = 200\n",
    "# params.NumberOfResolutions = 3\n",
    "#\n",
    "# start = time.time()\n",
    "# image3, field = pe.register(image1,image2,params)\n",
    "# end = time.time()\n",
    "# print(\"time it took to register: \"+  str(end-start) + \" seconds\")\n",
    "#\n",
    "# img3 = Image.fromarray(image3)\n",
    "# img3.show()\n",
    "# img3 = img3.convert(\"L\")\n",
    "# img3.save(r'\\\\fatherserverdw\\Kevin\\image3.jpg')\n",
    "# # overlay image 3 on top of image 1 and image 2 to see how well the image 2 is rotated in reference to image 1:\n",
    "# alpha, beta = 0.5, 0.5\n",
    "# overlay_img1_img3 = cv2.addWeighted(image1,alpha,image3,beta,0.0)\n",
    "# img_overlay = Image.fromarray(overlay_img1_img3)\n",
    "# img_overlay.show()\n",
    "# img_overlay = img_overlay.convert(\"L\")\n",
    "# img_overlay.save(r'\\\\fatherserverdw\\Kevin\\overlay.jpg')\n",
    "#\n",
    "# another method:\n",
    "# difference = image1 - image3\n",
    "# difference = difference.astype(np.int)\n",
    "# difference_df = pd.DataFrame(difference)\n",
    "# difference_df = difference_df[difference_df>0]\n",
    "# difference_df = difference_df.fillna(0)\n",
    "# diff_counts = np.unique(difference_df,return_counts=True)[1]\n",
    "# sum_diff = np.sum(diff_counts) - diff_counts[0]\n",
    "# print(\"{} pixel values out of {} total pixel values are different\".format(sum_diff,image1.shape[0]*image1.shape[1]))\n",
    "# print(\"{}% pixel values are different\".format(sum_diff*100/(image1.shape[0]*image1.shape[1])))\n",
    "# # stack three x,y values (2d image) to 1 2d Image (x,y,3)\n",
    "# ig1 = imageio.imread(r'\\\\fatherserverdw\\Q\\research\\images\\CLUE\\3D study\\he\\4xr_jpg\\z0001_1C1.jpg')\n",
    "# ig2 = imageio.imread(r'\\\\fatherserverdw\\Q\\research\\images\\CLUE\\3D study\\he\\4xr_jpg\\z0004_4C1.jpg')\n",
    "# ig3 = imageio.imread(r'\\\\fatherserverdw\\Q\\research\\images\\CLUE\\3D study\\he\\4xr_jpg\\z0007_7C1.jpg')\n",
    "# #pad before:\n",
    "# ig1, ig2, ig3 = pad_images_to_same_size([ig1,ig2,ig3])\n",
    "# ig1 = cv2.cvtColor(ig1,cv2.COLOR_RGB2GRAY)\n",
    "# ig2 = cv2.cvtColor(ig2,cv2.COLOR_RGB2GRAY)\n",
    "# ig3 = cv2.cvtColor(ig3,cv2.COLOR_RGB2GRAY)\n",
    "# # all img shape is (6264, 5352)\n",
    "# rgb = np.stack([ig1,ig2,ig3],axis=2)\n",
    "# rgbimg = Image.fromarray(rgb)\n",
    "# rgbimg.show()\n",
    "# rgbimg.save(r'\\\\fatherserverdw\\Kevin\\rgbimg.jpg')\n",
    "# grayimg = cv2.cvtColor(np.array(rgbimg),cv2.COLOR_RGB2GRAY)\n",
    "# grayimg = grayimg.astype(np.uint8)\n",
    "# plt.imshow(grayimg)\n",
    "#\n",
    "# params = pe.get_default_params()\n",
    "# params.MaximumNumberOfIterations = 200\n",
    "# params.NumberOfResolutions = 3\n",
    "#\n",
    "# start = time.time()\n",
    "# fin_img, field = pe.register(grayimg,ig1,params)\n",
    "# end = time.time()\n",
    "# print(\"time it took to register: \"+  str(end-start) + \" seconds\")\n",
    "#\n",
    "# finimg = Image.fromarray(fin_img)\n",
    "# finimg.show()\n",
    "# img3 = img3.convert(\"L\")\n",
    "# img3.save(r'\\\\fatherserverdw\\Kevin\\image3.jpg')"
   ],
   "metadata": {
    "collapsed": false
   }
  }
 ],
 "metadata": {
  "kernelspec": {
   "display_name": "Python 3",
   "language": "python",
   "name": "python3"
  },
  "language_info": {
   "codemirror_mode": {
    "name": "ipython",
    "version": 2
   },
   "file_extension": ".py",
   "mimetype": "text/x-python",
   "name": "python",
   "nbconvert_exporter": "python",
   "pygments_lexer": "ipython2",
   "version": "2.7.6"
  }
 },
 "nbformat": 4,
 "nbformat_minor": 0
}
