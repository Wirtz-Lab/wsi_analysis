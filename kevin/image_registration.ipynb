{
 "cells": [
  {
   "cell_type": "markdown",
   "source": [
    "# Image Registration of list of images:"
   ],
   "metadata": {
    "collapsed": false
   }
  },
  {
   "cell_type": "markdown",
   "source": [
    "### TODO: Use 34 images in this file path: \\\\fatherserverdw\\Q\\research\\images\\CLUE\\3D study\\he\\4xr_jpg. Use the middle image (17th image) as a reference image, since these images are labeled from top to bottom (of the skin). 17th image as reference, 16th and 18th image as image to be registered. The resulted registered 16th and 18th images are then used as a reference image to register the 15th, and the 19th, respectively. Keep doing this until you register all 34 images."
   ],
   "metadata": {
    "collapsed": false
   }
  },
  {
   "cell_type": "code",
   "execution_count": 1,
   "outputs": [],
   "source": [
    "import numpy as np\n",
    "import pandas as pd\n",
    "import time\n",
    "import imageio.v2 as imageio\n",
    "from PIL import Image\n",
    "import cv2\n",
    "import os\n",
    "import sys\n",
    "import SimpleITK as sitk"
   ],
   "metadata": {
    "collapsed": false
   }
  },
  {
   "cell_type": "code",
   "execution_count": 2,
   "outputs": [],
   "source": [
    "# function to pad images to same size:\n",
    "def pad_images_to_same_size(images):\n",
    "    \"\"\"\n",
    "    :param images: sequence of images\n",
    "    :return: list of images padded so that all images have same width and height (max width and height are used)\n",
    "    \"\"\"\n",
    "    width_max = 0\n",
    "    height_max = 0\n",
    "    for img in images:\n",
    "        h, w = img.shape[:2]\n",
    "        width_max = max(width_max, w)\n",
    "        height_max = max(height_max, h)\n",
    "\n",
    "    images_padded = []\n",
    "    for img in images:\n",
    "        h, w = img.shape[:2]\n",
    "        diff_vert = height_max - h\n",
    "        pad_top = diff_vert//2\n",
    "        pad_bottom = diff_vert - pad_top\n",
    "        diff_hori = width_max - w\n",
    "        pad_left = diff_hori//2\n",
    "        pad_right = diff_hori - pad_left\n",
    "        img_padded = cv2.copyMakeBorder(img, pad_top, pad_bottom, pad_left, pad_right, cv2.BORDER_CONSTANT, value=0)\n",
    "        assert img_padded.shape[:2] == (height_max, width_max)\n",
    "        images_padded.append(img_padded)\n",
    "\n",
    "    return images_padded\n"
   ],
   "metadata": {
    "collapsed": false
   }
  },
  {
   "cell_type": "code",
   "execution_count": 15,
   "metadata": {
    "collapsed": true
   },
   "outputs": [
    {
     "ename": "RuntimeError",
     "evalue": "Exception thrown in SimpleITK ElastixImageFilter_Execute: C:\\dafne\\SimpleElastix\\Code\\BasicFilters\\src\\sitkCastImageFilter.cxx:101:\nsitk::ERROR: Filter does not support casting from casting vector of 32-bit float to 32-bit float",
     "output_type": "error",
     "traceback": [
      "\u001B[1;31m---------------------------------------------------------------------------\u001B[0m",
      "\u001B[1;31mRuntimeError\u001B[0m                              Traceback (most recent call last)",
      "Input \u001B[1;32mIn [15]\u001B[0m, in \u001B[0;36m<cell line: 32>\u001B[1;34m()\u001B[0m\n\u001B[0;32m     29\u001B[0m parameterMapVector\u001B[38;5;241m.\u001B[39mappend(sitk\u001B[38;5;241m.\u001B[39mGetDefaultParameterMap(\u001B[38;5;124m\"\u001B[39m\u001B[38;5;124mbspline\u001B[39m\u001B[38;5;124m\"\u001B[39m))\n\u001B[0;32m     30\u001B[0m elastixImageFilter\u001B[38;5;241m.\u001B[39mSetParameterMap(parameterMapVector)\n\u001B[1;32m---> 32\u001B[0m \u001B[43melastixImageFilter\u001B[49m\u001B[38;5;241;43m.\u001B[39;49m\u001B[43mExecute\u001B[49m\u001B[43m(\u001B[49m\u001B[43m)\u001B[49m\n\u001B[0;32m     33\u001B[0m sitk\u001B[38;5;241m.\u001B[39mWriteImage(elastixImageFilter\u001B[38;5;241m.\u001B[39mGetResultImage())\n",
      "File \u001B[1;32m~\\AppData\\Roaming\\Python\\Python39\\site-packages\\SimpleITK\\SimpleITK.py:11130\u001B[0m, in \u001B[0;36mElastixImageFilter.Execute\u001B[1;34m(self)\u001B[0m\n\u001B[0;32m  11128\u001B[0m \u001B[38;5;28;01mdef\u001B[39;00m \u001B[38;5;21mExecute\u001B[39m(\u001B[38;5;28mself\u001B[39m):\n\u001B[0;32m  11129\u001B[0m     \u001B[38;5;124;03m\"\"\"Execute(ElastixImageFilter self) -> Image\"\"\"\u001B[39;00m\n\u001B[1;32m> 11130\u001B[0m     \u001B[38;5;28;01mreturn\u001B[39;00m \u001B[43m_SimpleITK\u001B[49m\u001B[38;5;241;43m.\u001B[39;49m\u001B[43mElastixImageFilter_Execute\u001B[49m\u001B[43m(\u001B[49m\u001B[38;5;28;43mself\u001B[39;49m\u001B[43m)\u001B[49m\n",
      "\u001B[1;31mRuntimeError\u001B[0m: Exception thrown in SimpleITK ElastixImageFilter_Execute: C:\\dafne\\SimpleElastix\\Code\\BasicFilters\\src\\sitkCastImageFilter.cxx:101:\nsitk::ERROR: Filter does not support casting from casting vector of 32-bit float to 32-bit float"
     ]
    }
   ],
   "source": [
    "ref_img = r'\\\\fatherserverdw\\Q\\research\\images\\CLUE\\3D study\\he\\4xr_jpg\\z0049_49C1.jpg' #17th image\n",
    "mov_img = r'\\\\fatherserverdw\\Q\\research\\images\\CLUE\\3D study\\he\\4xr_jpg\\z0046_46C1.jpg' #16th image\n",
    "\n",
    "\n",
    "\n",
    "ref_img = sitk.ReadImage(ref_img)\n",
    "mov_img = sitk.ReadImage(mov_img)\n",
    "\n",
    "ref_img = sitk.GetArrayFromImage(ref_img)\n",
    "mov_img = sitk.GetArrayFromImage(mov_img)\n",
    "\n",
    "ref_img, mov_img = pad_images_to_same_size([ref_img,mov_img])\n",
    "\n",
    "ref_img = ref_img.astype(float)\n",
    "mov_img = mov_img.astype(float)\n",
    "\n",
    "ref_img_1 = sitk.GetImageFromArray(ref_img, isVector = True)\n",
    "mov_img_1 = sitk.GetImageFromArray(mov_img, isVector = True)\n",
    "\n",
    "ref_img_2 = sitk.Cast(ref_img_1,sitk.sitkVectorFloat32)\n",
    "mov_img_2 = sitk.Cast(mov_img_1,sitk.sitkVectorFloat32)\n",
    "\n",
    "elastixImageFilter = sitk.ElastixImageFilter()\n",
    "elastixImageFilter.SetFixedImage(ref_img_2)\n",
    "elastixImageFilter.SetMovingImage(mov_img_2)\n",
    "\n",
    "parameterMapVector = sitk.VectorOfParameterMap()\n",
    "parameterMapVector.append(sitk.GetDefaultParameterMap(\"affine\"))\n",
    "parameterMapVector.append(sitk.GetDefaultParameterMap(\"bspline\"))\n",
    "elastixImageFilter.SetParameterMap(parameterMapVector)\n",
    "\n",
    "elastixImageFilter.Execute()\n",
    "sitk.WriteImage(elastixImageFilter.GetResultImage())"
   ]
  },
  {
   "cell_type": "code",
   "execution_count": null,
   "outputs": [],
   "source": [
    "# params = pe.get_default_params()\n",
    "# params.MaximumNumberOfIterations = 200\n",
    "# params.NumberOfResolutions = 3\n",
    "#\n",
    "# start = time.time()\n",
    "# image3, field = pe.register(image1,image2,params)\n",
    "# end = time.time()\n",
    "# print(\"time it took to register: \"+  str(end-start) + \" seconds\")\n",
    "#\n",
    "# img3 = Image.fromarray(image3)\n",
    "# img3.show()\n",
    "# img3 = img3.convert(\"L\")\n",
    "# img3.save(r'\\\\fatherserverdw\\Kevin\\image3.jpg')\n",
    "# # overlay image 3 on top of image 1 and image 2 to see how well the image 2 is rotated in reference to image 1:\n",
    "# alpha, beta = 0.5, 0.5\n",
    "# overlay_img1_img3 = cv2.addWeighted(image1,alpha,image3,beta,0.0)\n",
    "# img_overlay = Image.fromarray(overlay_img1_img3)\n",
    "# img_overlay.show()\n",
    "# img_overlay = img_overlay.convert(\"L\")\n",
    "# img_overlay.save(r'\\\\fatherserverdw\\Kevin\\overlay.jpg')\n",
    "#\n",
    "# another method:\n",
    "# difference = image1 - image3\n",
    "# difference = difference.astype(np.int)\n",
    "# difference_df = pd.DataFrame(difference)\n",
    "# difference_df = difference_df[difference_df>0]\n",
    "# difference_df = difference_df.fillna(0)\n",
    "# diff_counts = np.unique(difference_df,return_counts=True)[1]\n",
    "# sum_diff = np.sum(diff_counts) - diff_counts[0]\n",
    "# print(\"{} pixel values out of {} total pixel values are different\".format(sum_diff,image1.shape[0]*image1.shape[1]))\n",
    "# print(\"{}% pixel values are different\".format(sum_diff*100/(image1.shape[0]*image1.shape[1])))\n",
    "# # stack three x,y values (2d image) to 1 2d Image (x,y,3)\n",
    "# ig1 = imageio.imread(r'\\\\fatherserverdw\\Q\\research\\images\\CLUE\\3D study\\he\\4xr_jpg\\z0001_1C1.jpg')\n",
    "# ig2 = imageio.imread(r'\\\\fatherserverdw\\Q\\research\\images\\CLUE\\3D study\\he\\4xr_jpg\\z0004_4C1.jpg')\n",
    "# ig3 = imageio.imread(r'\\\\fatherserverdw\\Q\\research\\images\\CLUE\\3D study\\he\\4xr_jpg\\z0007_7C1.jpg')\n",
    "# #pad before:\n",
    "# ig1, ig2, ig3 = pad_images_to_same_size([ig1,ig2,ig3])\n",
    "# ig1 = cv2.cvtColor(ig1,cv2.COLOR_RGB2GRAY)\n",
    "# ig2 = cv2.cvtColor(ig2,cv2.COLOR_RGB2GRAY)\n",
    "# ig3 = cv2.cvtColor(ig3,cv2.COLOR_RGB2GRAY)\n",
    "# # all img shape is (6264, 5352)\n",
    "# rgb = np.stack([ig1,ig2,ig3],axis=2)\n",
    "# rgbimg = Image.fromarray(rgb)\n",
    "# rgbimg.show()\n",
    "# rgbimg.save(r'\\\\fatherserverdw\\Kevin\\rgbimg.jpg')\n",
    "# grayimg = cv2.cvtColor(np.array(rgbimg),cv2.COLOR_RGB2GRAY)\n",
    "# grayimg = grayimg.astype(np.uint8)\n",
    "# plt.imshow(grayimg)\n",
    "#\n",
    "# params = pe.get_default_params()\n",
    "# params.MaximumNumberOfIterations = 200\n",
    "# params.NumberOfResolutions = 3\n",
    "#\n",
    "# start = time.time()\n",
    "# fin_img, field = pe.register(grayimg,ig1,params)\n",
    "# end = time.time()\n",
    "# print(\"time it took to register: \"+  str(end-start) + \" seconds\")\n",
    "#\n",
    "# finimg = Image.fromarray(fin_img)\n",
    "# finimg.show()\n",
    "# img3 = img3.convert(\"L\")\n",
    "# img3.save(r'\\\\fatherserverdw\\Kevin\\image3.jpg')"
   ],
   "metadata": {
    "collapsed": false
   }
  }
 ],
 "metadata": {
  "kernelspec": {
   "display_name": "Python 3",
   "language": "python",
   "name": "python3"
  },
  "language_info": {
   "codemirror_mode": {
    "name": "ipython",
    "version": 2
   },
   "file_extension": ".py",
   "mimetype": "text/x-python",
   "name": "python",
   "nbconvert_exporter": "python",
   "pygments_lexer": "ipython2",
   "version": "2.7.6"
  }
 },
 "nbformat": 4,
 "nbformat_minor": 0
}
