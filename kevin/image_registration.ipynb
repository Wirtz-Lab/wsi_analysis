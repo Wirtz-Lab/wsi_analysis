{
 "cells": [
  {
   "cell_type": "markdown",
   "source": [
    "# Image Registration of list of images:"
   ],
   "metadata": {
    "collapsed": false
   }
  },
  {
   "cell_type": "markdown",
   "source": [
    "### Use 34 images in this file path: \\\\fatherserverdw\\Q\\research\\images\\CLUE\\3D study\\he\\4xr_jpg. Use the middle image (17th image) as a reference image, since these images are labeled from top to bottom (of the skin). 17th image as reference, 16th and 18th image as image to be registered. The resulted registered 16th and 18th images are then used as a reference image to register the 15th, and the 19th, respectively. Keep doing this until you register all 34 images.\n",
    "\n",
    "In the same for loop"
   ],
   "metadata": {
    "collapsed": false
   }
  },
  {
   "cell_type": "code",
   "execution_count": 19,
   "outputs": [],
   "source": [
    "import numpy as np\n",
    "import time\n",
    "from PIL import Image\n",
    "Image.MAX_IMAGE_PIXELS = None\n",
    "import cv2\n",
    "import os\n",
    "from matplotlib import pyplot as plt\n",
    "from skimage.color import rgb2gray\n",
    "from skimage.transform import warp\n",
    "from skimage.registration import optical_flow_tvl1, optical_flow_ilk"
   ],
   "metadata": {
    "collapsed": false
   }
  },
  {
   "cell_type": "code",
   "execution_count": 20,
   "outputs": [],
   "source": [
    "from time import time\n",
    "def _time(f):\n",
    "    def wrapper(*args,**kwargs):\n",
    "        start=time()\n",
    "        r=f(*args,**kwargs)\n",
    "        end=time()\n",
    "        print(\"%s timed %f\" %(f.__name__,end-start))\n",
    "        return r\n",
    "    return wrapper\n"
   ],
   "metadata": {
    "collapsed": false
   }
  },
  {
   "cell_type": "code",
   "execution_count": 21,
   "outputs": [],
   "source": [
    "# function to pad images to same size:\n",
    "def pad_images_to_same_size(images):\n",
    "    \"\"\"\n",
    "    :param images: sequence of images\n",
    "    :return: list of images padded so that all images have same width and height (max width and height are used)\n",
    "    \"\"\"\n",
    "    width_max = 0\n",
    "    height_max = 0\n",
    "    for img in images:\n",
    "        h, w = img.shape[:2]\n",
    "        width_max = max(width_max, w)\n",
    "        height_max = max(height_max, h)\n",
    "\n",
    "    images_padded = []\n",
    "    for img in images:\n",
    "        h, w = img.shape[:2]\n",
    "        diff_vert = height_max - h\n",
    "        pad_top = diff_vert//2\n",
    "        pad_bottom = diff_vert - pad_top\n",
    "        diff_hori = width_max - w\n",
    "        pad_left = diff_hori//2\n",
    "        pad_right = diff_hori - pad_left\n",
    "        img_padded = cv2.copyMakeBorder(img, pad_top, pad_bottom, pad_left, pad_right, cv2.BORDER_CONSTANT, value=(255,255,255))\n",
    "        assert img_padded.shape[:2] == (height_max, width_max)\n",
    "        images_padded.append(img_padded)\n",
    "\n",
    "    return images_padded"
   ],
   "metadata": {
    "collapsed": false
   }
  },
  {
   "cell_type": "code",
   "execution_count": 22,
   "outputs": [],
   "source": [
    "# #First pad all the images needed to the same size (run once, takes long):\n",
    "#\n",
    "# img_files_path = [_ for _ in os.listdir(r'\\\\fatherserverdw\\kyuex\\image\\CLUE\\3D study\\he\\4xr_jpg') if _.endswith(\".jpg\")]\n",
    "# img_files_path_complete = [os.path.join(r'\\\\fatherserverdw\\kyuex\\image\\CLUE\\3D study\\he\\4xr_jpg\\\\' + x) for x in img_files_path]\n",
    "# img_files_path_1 = [x.replace('.jpg','') for x in img_files_path]\n",
    "# img_list = [plt.imread(x) for x in img_files_path_complete]\n",
    "# img_open_list = pad_images_to_same_size(img_list)\n",
    "# for idx in range(len(img_open_list)):\n",
    "#     tmp = Image.fromarray(img_open_list[idx])\n",
    "#     tmp.save(r'\\\\fatherserverdw\\Kevin\\imageregistration\\padded_images\\\\' + str(img_files_path_1[idx]) + '.png')\n"
   ],
   "metadata": {
    "collapsed": false
   }
  },
  {
   "cell_type": "code",
   "execution_count": 23,
   "outputs": [],
   "source": [
    "# pad_images_to_same_size = _time(pad_images_to_same_size)\n",
    "# optical_flow_tvl1 = _time(optical_flow_tvl1)"
   ],
   "metadata": {
    "collapsed": false
   }
  },
  {
   "cell_type": "code",
   "execution_count": 24,
   "outputs": [],
   "source": [
    "# #first create registered image of two adjacent images manually:\n",
    "# img_files_path = [_ for _ in os.listdir(r'\\\\fatherserverdw\\Kevin\\imageregistration\\padded_images') if _.endswith(\".png\")]\n",
    "# img_files_path_complete = [os.path.join(r'\\\\fatherserverdw\\Kevin\\imageregistration\\padded_images', x) for x in img_files_path]\n",
    "# img_files_path_1 = [x.replace('.png','') for x in img_files_path]\n",
    "#\n",
    "# num = int(len(img_files_path)/2) - 1 #idx = 16, or 17th image\n",
    "# num_plus1 = num + 1 #idx = 17, or 18th image\n",
    "# num_minus1 = num - 1 #idx = 15, or 16th image\n",
    "#\n",
    "# start = time()\n",
    "#\n",
    "# ref_img_path = img_files_path_complete[num]\n",
    "# mov_img_path = img_files_path_complete[num_plus1]\n",
    "# ref_img = np.array(Image.open(ref_img_path))\n",
    "# mov_img = np.array(Image.open(mov_img_path))\n",
    "#\n",
    "# ref_img_g = rgb2gray(ref_img)\n",
    "# mov_img_g = rgb2gray(mov_img)\n",
    "# v, u = optical_flow_tvl1(ref_img_g, mov_img_g)\n",
    "# nr, nc = ref_img_g.shape\n",
    "# row_coords, col_coords = np.meshgrid(np.arange(nr), np.arange(nc),\n",
    "#                                      indexing='ij')\n",
    "#\n",
    "# end = time()\n",
    "# print(\"time it took to register: \"+  str(end-start) + \" seconds\")\n",
    "#\n",
    "# start = time()\n",
    "#\n",
    "# mov_img_warp_ra =[]\n",
    "# for i in range(3):\n",
    "#     mov_img_warp = warp(mov_img[:,:,i], np.array([row_coords + v, col_coords + u]),mode='edge')\n",
    "#     mov_img_warp_ra.append(mov_img_warp)\n",
    "#\n",
    "# r = np.array(mov_img_warp_ra[0]*255).astype('uint8')\n",
    "# g = np.array(mov_img_warp_ra[1]*255).astype('uint8')\n",
    "# b = np.array(mov_img_warp_ra[2]*255).astype('uint8')\n",
    "# rgb = np.stack([r,g,b],axis=2)\n",
    "# reg_img = Image.fromarray(rgb)\n",
    "# reg_img.save(r'\\\\fatherserverdw\\Kevin\\imageregistration\\registered_images\\\\' + str(img_files_path_1[num_plus1]) + '.png')\n",
    "#\n",
    "# end = time()\n",
    "# print(\"time it took to register: \"+  str(end-start) + \" seconds\")"
   ],
   "metadata": {
    "collapsed": false
   }
  },
  {
   "cell_type": "code",
   "execution_count": 25,
   "outputs": [],
   "source": [
    "# # repeat again:\n",
    "# start = time()\n",
    "#\n",
    "# ref_img_path = img_files_path_complete[num]\n",
    "# mov_img_path = img_files_path_complete[num_minus1]\n",
    "# ref_img = np.array(Image.open(ref_img_path))\n",
    "# mov_img = np.array(Image.open(mov_img_path))\n",
    "#\n",
    "# ref_img_g = rgb2gray(ref_img)\n",
    "# mov_img_g = rgb2gray(mov_img)\n",
    "# v, u = optical_flow_tvl1(ref_img_g, mov_img_g)\n",
    "# nr, nc = ref_img_g.shape\n",
    "# row_coords, col_coords = np.meshgrid(np.arange(nr), np.arange(nc),\n",
    "#                                      indexing='ij')\n",
    "# end = time()\n",
    "# print(\"time it took to register: \"+  str(end-start) + \" seconds\")\n",
    "#\n",
    "# start = time()\n",
    "#\n",
    "# mov_img_warp_ra =[]\n",
    "# for i in range(3):\n",
    "#     mov_img_warp = warp(mov_img[:,:,i], np.array([row_coords + v, col_coords + u]),mode='edge')\n",
    "#     mov_img_warp_ra.append(mov_img_warp)\n",
    "#\n",
    "# r = np.array(mov_img_warp_ra[0]*255).astype('uint8')\n",
    "# g = np.array(mov_img_warp_ra[1]*255).astype('uint8')\n",
    "# b = np.array(mov_img_warp_ra[2]*255).astype('uint8')\n",
    "# rgb = np.stack([r,g,b],axis=2)\n",
    "# reg_img = Image.fromarray(rgb)\n",
    "# reg_img.save(r'\\\\fatherserverdw\\Kevin\\imageregistration\\registered_images\\\\' + str(img_files_path_1[num_minus1]) + '.png')\n",
    "#\n",
    "# end = time()\n",
    "# print(\"time it took to register: \"+  str(end-start) + \" seconds\")"
   ],
   "metadata": {
    "collapsed": false
   }
  },
  {
   "cell_type": "code",
   "execution_count": 26,
   "outputs": [],
   "source": [
    "# #two for loops to recursively create registered images:\n",
    "\n",
    "# # from middle to end (higher index), idx of 17 to 33, or 18th image to 34th image:\n",
    "# start = time()\n",
    "#\n",
    "# for idx in range(num_plus1,len(img_files_path_complete)): #idx = 17 to 34 (not including 34)\n",
    "#     if idx == len(img_files_path_complete) - 1:\n",
    "#         break\n",
    "#     ref_img_path = os.path.join(r'\\\\fatherserverdw\\Kevin\\imageregistration\\registered_images', img_files_path[idx])\n",
    "#     mov_img_path = img_files_path_complete[idx+1]\n",
    "#     ref_img = np.array(Image.open(ref_img_path))\n",
    "#     mov_img = np.array(Image.open(mov_img_path))\n",
    "#\n",
    "#     ref_img_g = rgb2gray(ref_img)\n",
    "#     mov_img_g = rgb2gray(mov_img)\n",
    "#     v, u = optical_flow_tvl1(ref_img_g, mov_img_g)\n",
    "#     nr, nc = ref_img_g.shape\n",
    "#     row_coords, col_coords = np.meshgrid(np.arange(nr), np.arange(nc),\n",
    "#                                          indexing='ij')\n",
    "#     mov_img_warp_ra =[]\n",
    "#     for i in range(3):\n",
    "#         mov_img_warp = warp(mov_img[:,:,i], np.array([row_coords + v, col_coords + u]),mode='edge')\n",
    "#         mov_img_warp_ra.append(mov_img_warp)\n",
    "#     r = np.array(mov_img_warp_ra[0]*255).astype('uint8')\n",
    "#     g = np.array(mov_img_warp_ra[1]*255).astype('uint8')\n",
    "#     b = np.array(mov_img_warp_ra[2]*255).astype('uint8')\n",
    "#     rgb = np.stack([r,g,b],axis=2)\n",
    "#     reg_img = Image.fromarray(rgb)\n",
    "#     reg_img.save(r'\\\\fatherserverdw\\Kevin\\imageregistration\\registered_images\\\\' + str(img_files_path_1[idx+1]) + '.png')\n",
    "#\n",
    "# end = time()\n",
    "# print(\"time it took to register: \"+  str(end-start) + \" seconds\")"
   ],
   "metadata": {
    "collapsed": false
   }
  },
  {
   "cell_type": "code",
   "execution_count": 27,
   "outputs": [],
   "source": [
    "# # from middle to beginning (lower index), idx of 15 to 0, or 16th image to 1st image:\n",
    "# start = time()\n",
    "#\n",
    "# for idx in range(num_minus1,-1,-1): #idx = 15 to -1 (not including -1)\n",
    "#     if idx == 0:\n",
    "#         break\n",
    "#     ref_img_path = os.path.join(r'\\\\fatherserverdw\\Kevin\\imageregistration\\registered_images', img_files_path[idx])\n",
    "#     mov_img_path = img_files_path_complete[idx-1]\n",
    "#     ref_img = np.array(Image.open(ref_img_path))\n",
    "#     mov_img = np.array(Image.open(mov_img_path))\n",
    "#\n",
    "#     ref_img_g = rgb2gray(ref_img)\n",
    "#     mov_img_g = rgb2gray(mov_img)\n",
    "#     v, u = optical_flow_tvl1(ref_img_g, mov_img_g)\n",
    "#     nr, nc = ref_img_g.shape\n",
    "#     row_coords, col_coords = np.meshgrid(np.arange(nr), np.arange(nc),\n",
    "#                                          indexing='ij')\n",
    "#     mov_img_warp_ra =[]\n",
    "#     for i in range(3):\n",
    "#         mov_img_warp = warp(mov_img[:,:,i], np.array([row_coords + v, col_coords + u]),mode='edge')\n",
    "#         mov_img_warp_ra.append(mov_img_warp)\n",
    "#     r = np.array(mov_img_warp_ra[0]*255).astype('uint8')\n",
    "#     g = np.array(mov_img_warp_ra[1]*255).astype('uint8')\n",
    "#     b = np.array(mov_img_warp_ra[2]*255).astype('uint8')\n",
    "#     rgb = np.stack([r,g,b],axis=2)\n",
    "#     reg_img = Image.fromarray(rgb)\n",
    "#     reg_img.save(r'\\\\fatherserverdw\\Kevin\\imageregistration\\registered_images\\\\' + str(img_files_path_1[idx-1]) + '.png')\n",
    "#\n",
    "# end = time()\n",
    "# print(\"time it took to register: \"+  str(end-start) + \" seconds\")"
   ],
   "metadata": {
    "collapsed": false
   }
  },
  {
   "cell_type": "code",
   "execution_count": 28,
   "outputs": [],
   "source": [
    "# # --- Load the sequence\n",
    "# image0, image1, disp = stereo_motorcycle()\n",
    "#\n",
    "# # --- Convert the images to gray level: color is not supported.\n",
    "# image0g = rgb2gray(image0)\n",
    "# image1g = rgb2gray(image1)\n",
    "#\n",
    "# # --- Compute the optical flow\n",
    "# v, u = optical_flow_tvl1(image0g, image1g)\n",
    "#\n",
    "# # --- Use the estimated optical flow for registration\n",
    "# nr, nc = image0g.shape\n",
    "#\n",
    "# row_coords, col_coords = np.meshgrid(np.arange(nr), np.arange(nc),indexing='ij')\n",
    "#\n",
    "# image1_warps =[]\n",
    "# for i in range(1,4):\n",
    "#     image1_warp = warp(image1[:,:,i], np.array([row_coords + v, col_coords + u]),mode='edge')\n",
    "#     image1_warps.append(image1_warp)\n",
    "#\n",
    "#\n",
    "# dl_warp = warp(dlmask, np.array([row_coords + v, col_coords + u]),mode='edge')\n",
    "#\n",
    "# image1_warps.save\n",
    "# dl_warp.save"
   ],
   "metadata": {
    "collapsed": false
   }
  },
  {
   "cell_type": "markdown",
   "source": [
    "# Image registration of Mask and Image at the same time:\n",
    ".tif file whole slide image in: \\\\fatherserverdw\\kyuex\\image\\CLUE\\3D study\\he\\c1\\1um\n",
    ".tif file respective mask in: \\\\fatherserverdw\\kyuex\\image\\CLUE\\3D study\\he\\c1\\1um\\classification_v9_combined\n",
    "Look at the according 1C1..images in \\\\fatherserverdw\\kyuex\\image\\CLUE\\3D study\\he\\4xr_jpg and then find the correct image out of the four by creating binary mask of the mask to find the xmin xmax ymin ymax and then crop. Use those same coordinates to crop the image as well. Then, run image registration code above for both image and mask in one for loop -> image registration of image and mask complete!\n"
   ],
   "metadata": {
    "collapsed": false
   }
  },
  {
   "cell_type": "code",
   "execution_count": 29,
   "outputs": [],
   "source": [
    "# #First pad all the images needed to the same size (run once, takes long):\n",
    "#\n",
    "# img_files_path = [_ for _ in os.listdir(r'\\\\fatherserverdw\\Kevin\\imageregistration2\\images') if _.endswith(\".png\")]\n",
    "# # img_files_path_complete = [os.path.abspath(r'\\\\fatherserverdw\\kyuex\\image\\CLUE\\3D study\\he\\4xr_jpg'+ x) for x in img_files_path]\n",
    "# img_files_path_complete = [os.path.join(r'\\\\fatherserverdw\\kyuex\\image\\CLUE\\3D study\\he\\4xr_jpg', x) for x in img_files_path]\n",
    "# img_files_path_complete = [x.replace('.png','.jpg') for x in img_files_path_complete]\n",
    "# img_list = [plt.imread(x) for x in img_files_path_complete]\n",
    "# img_open_list = pad_images_to_same_size(img_list)\n",
    "# for idx in range(len(img_open_list)):\n",
    "#     tmp = Image.fromarray(img_open_list[idx])\n",
    "#     tmp.save(os.path.join(r'\\\\fatherserverdw\\Kevin\\imageregistration2\\padded_images\\\\',img_files_path[idx]))"
   ],
   "metadata": {
    "collapsed": false
   }
  },
  {
   "cell_type": "code",
   "execution_count": 30,
   "outputs": [],
   "source": [
    "# function to pad masks to same size:\n",
    "def pad_masks_to_same_size(images):\n",
    "    \"\"\"\n",
    "    :param images: sequence of images\n",
    "    :return: list of images padded so that all images have same width and height (max width and height are used)\n",
    "    \"\"\"\n",
    "    width_max = 0\n",
    "    height_max = 0\n",
    "    for img in images:\n",
    "        h, w = img.shape[:2]\n",
    "        width_max = max(width_max, w)\n",
    "        height_max = max(height_max, h)\n",
    "\n",
    "    images_padded = []\n",
    "    for img in images:\n",
    "        h, w = img.shape[:2]\n",
    "        diff_vert = height_max - h\n",
    "        pad_top = diff_vert//2\n",
    "        pad_bottom = diff_vert - pad_top\n",
    "        diff_hori = width_max - w\n",
    "        pad_left = diff_hori//2\n",
    "        pad_right = diff_hori - pad_left\n",
    "        img_padded = cv2.copyMakeBorder(img, pad_top, pad_bottom, pad_left, pad_right, cv2.BORDER_CONSTANT, value=12) #12 stands for black, which is the \"white\" background\n",
    "        assert img_padded.shape[:2] == (height_max, width_max)\n",
    "        images_padded.append(img_padded)\n",
    "\n",
    "    return images_padded"
   ],
   "metadata": {
    "collapsed": false
   }
  },
  {
   "cell_type": "code",
   "execution_count": 31,
   "outputs": [],
   "source": [
    "# #pad the masks:\n",
    "# mask_files_path =  [_ for _ in os.listdir(r'\\\\fatherserverdw\\Kevin\\imageregistration2\\masks') if _.endswith(\".png\")]\n",
    "# mask_files_path_complete = [os.path.join(r'\\\\fatherserverdw\\Kevin\\imageregistration2\\masks', x) for x in mask_files_path]\n",
    "# mask_files_path_1 = [x.replace('.png','') for x in mask_files_path]\n",
    "#\n",
    "# mask_list = [np.array(Image.open(x).convert('L')) for x in mask_files_path_complete]\n",
    "# mask_open_list = pad_masks_to_same_size(mask_list)\n",
    "# for idx in range(len(mask_open_list)):\n",
    "#     tmp = Image.fromarray(mask_open_list[idx])\n",
    "#     # tmp = tmp.convert(\"L\")\n",
    "#     tmp.save(r'\\\\fatherserverdw\\Kevin\\imageregistration2\\padded_masks\\\\' + str(mask_files_path_1[idx]) + '.png')"
   ],
   "metadata": {
    "collapsed": false
   }
  },
  {
   "cell_type": "code",
   "execution_count": 32,
   "outputs": [],
   "source": [
    "# # resize all the masks to match the same size as the images:\n",
    "# img_files_path = [_ for _ in os.listdir(r'\\\\fatherserverdw\\Kevin\\imageregistration2\\padded_images') if _.endswith(\".png\")]\n",
    "# img_files_path_complete = [os.path.join(r'\\\\fatherserverdw\\Kevin\\imageregistration2\\padded_images', x) for x in img_files_path]\n",
    "# ex_img = Image.open(img_files_path_complete[1])\n",
    "# dim = ex_img.size\n",
    "#\n",
    "# mask_files_path =  [_ for _ in os.listdir(r'\\\\fatherserverdw\\Kevin\\imageregistration2\\padded_masks') if _.endswith(\".png\")]\n",
    "# mask_files_path_complete = [os.path.join(r'\\\\fatherserverdw\\Kevin\\imageregistration2\\padded_masks', x) for x in mask_files_path]\n",
    "# mask_files_path_1 = [x.replace('.png','') for x in mask_files_path]\n",
    "#\n",
    "# for i in range(len(img_files_path)):\n",
    "#     resize_mask = np.array(Image.open(mask_files_path_complete[i]))\n",
    "#     resize_mask = cv2.resize(resize_mask,dim,interpolation = cv2.INTER_AREA)\n",
    "#     # resize_mask = (resize_mask*255).astype('uint8')\n",
    "#     Image.fromarray(resize_mask).save(r'\\\\fatherserverdw\\Kevin\\imageregistration2\\padded_masks\\\\' + str(mask_files_path_1[i]) + '.png')"
   ],
   "metadata": {
    "collapsed": false
   }
  },
  {
   "cell_type": "code",
   "execution_count": 33,
   "outputs": [],
   "source": [
    "#  #first create registered image of two adjacent images manually:\n",
    "# img_files_path = [_ for _ in os.listdir(r'\\\\fatherserverdw\\Kevin\\imageregistration2\\padded_images') if _.endswith(\".png\")]\n",
    "# img_files_path_complete = [os.path.join(r'\\\\fatherserverdw\\Kevin\\imageregistration2\\padded_images', x) for x in img_files_path]\n",
    "# img_files_path_1 = [x.replace('.png','') for x in img_files_path]\n",
    "#\n",
    "# mask_files_path =  [_ for _ in os.listdir(r'\\\\fatherserverdw\\Kevin\\imageregistration2\\padded_masks') if _.endswith(\".png\")]\n",
    "# mask_files_path_complete = [os.path.join(r'\\\\fatherserverdw\\Kevin\\imageregistration2\\padded_masks', x) for x in mask_files_path]\n",
    "# mask_files_path_1 = [x.replace('.png','') for x in mask_files_path]\n",
    "#\n",
    "# num = int(len(img_files_path)/2) - 1 #idx = 16, or 17th image\n",
    "# num_plus1 = num + 1 #idx = 17, or 18th image\n",
    "# num_minus1 = num - 1 #idx = 15, or 16th image\n",
    "#\n",
    "# start = time()\n",
    "#\n",
    "# ref_img_path = img_files_path_complete[num]\n",
    "# mov_img_path = img_files_path_complete[num_plus1]\n",
    "# mask_path = mask_files_path_complete[num_plus1]\n",
    "#\n",
    "# ref_img = np.array(Image.open(ref_img_path))\n",
    "# mov_img = np.array(Image.open(mov_img_path))\n",
    "# mask_img = np.array(Image.open(mask_path))\n",
    "#\n",
    "# ref_img_g = rgb2gray(ref_img)\n",
    "# mov_img_g = rgb2gray(mov_img)\n",
    "# v, u = optical_flow_tvl1(ref_img_g, mov_img_g)\n",
    "# nr, nc = ref_img_g.shape\n",
    "# row_coords, col_coords = np.meshgrid(np.arange(nr), np.arange(nc),\n",
    "#                                      indexing='ij')\n",
    "#\n",
    "# mov_img_warp_ra =[]\n",
    "# for i in range(3):\n",
    "#     mov_img_warp = warp(mov_img[:,:,i], np.array([row_coords + v, col_coords + u]),mode='edge')\n",
    "#     mov_img_warp_ra.append(mov_img_warp)\n",
    "#\n",
    "#     if i == 0:\n",
    "#         warp_mask = warp(mask_img, np.array([row_coords + v, col_coords + u]),mode='edge')\n",
    "#         warp_mask = (warp_mask * 255).astype('uint8')\n",
    "#         Image.fromarray(warp_mask).save(r'\\\\fatherserverdw\\Kevin\\imageregistration2\\registered_masks\\\\' + str(mask_files_path_1[num_plus1]) + '.png')\n",
    "#         np.save(r'\\\\fatherserverdw\\Kevin\\imageregistration2\\warp_arrays\\u\\\\' + str(mask_files_path_1[num_plus1]),u)\n",
    "#         np.save(r'\\\\fatherserverdw\\Kevin\\imageregistration2\\warp_arrays\\v\\\\' + str(mask_files_path_1[num_plus1]),v)\n",
    "#             #do the same warp for the masks\n",
    "#\n",
    "# r = np.array(mov_img_warp_ra[0]*255).astype('uint8')\n",
    "# g = np.array(mov_img_warp_ra[1]*255).astype('uint8')\n",
    "# b = np.array(mov_img_warp_ra[2]*255).astype('uint8')\n",
    "#\n",
    "# rgb = np.stack([r,g,b],axis=2)\n",
    "# reg_img = Image.fromarray(rgb)\n",
    "# reg_img.save(r'\\\\fatherserverdw\\Kevin\\imageregistration2\\registered_images\\\\' + str(img_files_path_1[num_plus1]) + '.png')\n",
    "#\n",
    "# end = time()\n",
    "# print(\"time it took to register: \"+  str(end-start) + \" seconds\")"
   ],
   "metadata": {
    "collapsed": false
   }
  },
  {
   "cell_type": "code",
   "execution_count": 34,
   "outputs": [],
   "source": [
    " #first create registered image of two adjacent images manually:\n",
    "# img_files_path = [_ for _ in os.listdir(r'\\\\fatherserverdw\\Kevin\\imageregistration2\\padded_images') if _.endswith(\".png\")]\n",
    "# img_files_path_complete = [os.path.join(r'\\\\fatherserverdw\\Kevin\\imageregistration2\\padded_images', x) for x in img_files_path]\n",
    "# img_files_path_1 = [x.replace('.png','') for x in img_files_path]\n",
    "#\n",
    "# mask_files_path =  [_ for _ in os.listdir(r'\\\\fatherserverdw\\Kevin\\imageregistration2\\padded_masks') if _.endswith(\".png\")]\n",
    "# mask_files_path_complete = [os.path.join(r'\\\\fatherserverdw\\Kevin\\imageregistration2\\padded_masks', x) for x in mask_files_path]\n",
    "# mask_files_path_1 = [x.replace('.png','') for x in mask_files_path]\n",
    "#\n",
    "# num = int(len(img_files_path)/2) - 1 #idx = 16, or 17th image\n",
    "# num_plus1 = num + 1 #idx = 17, or 18th image\n",
    "# num_minus1 = num - 1 #idx = 15, or 16th image\n",
    "\n",
    "# start = time()\n",
    "#\n",
    "# ref_img_path = img_files_path_complete[num]\n",
    "# mov_img_path = img_files_path_complete[num_minus1]\n",
    "# mask_path = mask_files_path_complete[num_minus1]\n",
    "#\n",
    "# ref_img = np.array(Image.open(ref_img_path))\n",
    "# mov_img = np.array(Image.open(mov_img_path))\n",
    "# mask_img = np.array(Image.open(mask_path))\n",
    "#\n",
    "# ref_img_g = rgb2gray(ref_img)\n",
    "# mov_img_g = rgb2gray(mov_img)\n",
    "# v, u = optical_flow_tvl1(ref_img_g, mov_img_g)\n",
    "# nr, nc = ref_img_g.shape\n",
    "# row_coords, col_coords = np.meshgrid(np.arange(nr), np.arange(nc),\n",
    "#                                      indexing='ij')\n",
    "#\n",
    "# mov_img_warp_ra =[]\n",
    "# for i in range(3):\n",
    "#     mov_img_warp = warp(mov_img[:,:,i], np.array([row_coords + v, col_coords + u]),mode='edge')\n",
    "#     mov_img_warp_ra.append(mov_img_warp)\n",
    "#\n",
    "#     if i == 0:\n",
    "#         warp_mask = warp(mask_img, np.array([row_coords + v, col_coords + u]),mode='edge')\n",
    "#         warp_mask = (warp_mask * 255).astype('uint8')\n",
    "#         Image.fromarray(warp_mask).save(r'\\\\fatherserverdw\\Kevin\\imageregistration2\\registered_masks\\\\' + str(mask_files_path_1[num_minus1]) + '.png')\n",
    "#         np.save(r'\\\\fatherserverdw\\Kevin\\imageregistration2\\warp_arrays\\u\\\\' + str(mask_files_path_1[num_minus1]),u)\n",
    "#         np.save(r'\\\\fatherserverdw\\Kevin\\imageregistration2\\warp_arrays\\v\\\\' + str(mask_files_path_1[num_minus1]),v)\n",
    "#             #do the same warp for the masks\n",
    "#\n",
    "# r = np.array(mov_img_warp_ra[0]*255).astype('uint8')\n",
    "# g = np.array(mov_img_warp_ra[1]*255).astype('uint8')\n",
    "# b = np.array(mov_img_warp_ra[2]*255).astype('uint8')\n",
    "#\n",
    "# rgb = np.stack([r,g,b],axis=2)\n",
    "# reg_img = Image.fromarray(rgb)\n",
    "# reg_img.save(r'\\\\fatherserverdw\\Kevin\\imageregistration2\\registered_images\\\\' + str(img_files_path_1[num_minus1]) + '.png')\n",
    "#\n",
    "# end = time()\n",
    "# print(\"time it took to register: \"+  str(end-start) + \" seconds\")"
   ],
   "metadata": {
    "collapsed": false
   }
  },
  {
   "cell_type": "code",
   "execution_count": 35,
   "outputs": [],
   "source": [
    "img_files_path = [_ for _ in os.listdir(r'\\\\fatherserverdw\\Kevin\\imageregistration2\\padded_images') if _.endswith(\".png\")]\n",
    "img_files_path_complete = [os.path.join(r'\\\\fatherserverdw\\Kevin\\imageregistration2\\padded_images', x) for x in img_files_path]\n",
    "img_files_path_1 = [x.replace('.png','') for x in img_files_path]\n",
    "\n",
    "mask_files_path =  [_ for _ in os.listdir(r'\\\\fatherserverdw\\Kevin\\imageregistration2\\padded_masks') if _.endswith(\".png\")]\n",
    "mask_files_path_complete = [os.path.join(r'\\\\fatherserverdw\\Kevin\\imageregistration2\\padded_masks', x) for x in mask_files_path]\n",
    "mask_files_path_1 = [x.replace('.png','') for x in mask_files_path]\n",
    "\n",
    "num = int(len(img_files_path)/2) - 1 #idx = 16, or 17th image\n",
    "num_plus1 = num + 1 #idx = 17, or 18th image\n",
    "num_minus1 = num - 1 #idx = 15, or 16th image"
   ],
   "metadata": {
    "collapsed": false
   }
  },
  {
   "cell_type": "code",
   "execution_count": 37,
   "outputs": [
    {
     "name": "stdout",
     "output_type": "stream",
     "text": [
      "time it took to register: 4741.80934381485 seconds\n"
     ]
    }
   ],
   "source": [
    "#two for loops to recursively create registered images:\n",
    "\n",
    "# from middle to end (higher index), idx of 17 to 33, or 18th image to 34th image:\n",
    "start = time()\n",
    "\n",
    "for idx in range(num_plus1,len(img_files_path_complete)): #idx = 17 to 34 (not including 34)\n",
    "    if idx == len(img_files_path_complete) - 1:\n",
    "        break\n",
    "    ref_img_path = os.path.join(r'\\\\fatherserverdw\\Kevin\\imageregistration2\\registered_images', img_files_path[idx])\n",
    "    mov_img_path = img_files_path_complete[idx+1]\n",
    "    mask_path = mask_files_path_complete[idx+1]\n",
    "\n",
    "    ref_img = np.array(Image.open(ref_img_path))\n",
    "    mov_img = np.array(Image.open(mov_img_path))\n",
    "    mask_img = np.array(Image.open(mask_path))\n",
    "\n",
    "    ref_img_g = rgb2gray(ref_img)\n",
    "    mov_img_g = rgb2gray(mov_img)\n",
    "    v, u = optical_flow_tvl1(ref_img_g, mov_img_g)\n",
    "    nr, nc = ref_img_g.shape\n",
    "    row_coords, col_coords = np.meshgrid(np.arange(nr), np.arange(nc),\n",
    "                                         indexing='ij')\n",
    "    mov_img_warp_ra =[]\n",
    "    for i in range(3):\n",
    "        mov_img_warp = warp(mov_img[:,:,i], np.array([row_coords + v, col_coords + u]),mode='edge')\n",
    "        mov_img_warp_ra.append(mov_img_warp)\n",
    "\n",
    "        if i == 0:\n",
    "            warp_mask = warp(mask_img, np.array([row_coords + v, col_coords + u]),mode='edge')\n",
    "            warp_mask = (warp_mask * 255).astype('uint8')\n",
    "            Image.fromarray(warp_mask).save(r'\\\\fatherserverdw\\Kevin\\imageregistration2\\registered_masks\\\\' + str(mask_files_path_1[idx+1]) + '.png')\n",
    "            np.save(r'\\\\fatherserverdw\\Kevin\\imageregistration2\\warp_arrays\\u\\\\' + str(mask_files_path_1[idx+1]),u)\n",
    "            np.save(r'\\\\fatherserverdw\\Kevin\\imageregistration2\\warp_arrays\\v\\\\' + str(mask_files_path_1[idx+1]),v)\n",
    "                #do the same warp for the masks\n",
    "    r = np.array(mov_img_warp_ra[0]*255).astype('uint8')\n",
    "    g = np.array(mov_img_warp_ra[1]*255).astype('uint8')\n",
    "    b = np.array(mov_img_warp_ra[2]*255).astype('uint8')\n",
    "    rgb = np.stack([r,g,b],axis=2)\n",
    "    reg_img = Image.fromarray(rgb)\n",
    "    reg_img.save(r'\\\\fatherserverdw\\Kevin\\imageregistration2\\registered_images\\\\' + str(img_files_path_1[idx+1]) + '.png')\n",
    "\n",
    "end = time()\n",
    "print(\"time it took to register: \"+  str(end-start) + \" seconds\")"
   ],
   "metadata": {
    "collapsed": false
   }
  },
  {
   "cell_type": "code",
   "execution_count": 38,
   "outputs": [
    {
     "name": "stdout",
     "output_type": "stream",
     "text": [
      "time it took to register: 4426.209636688232 seconds\n"
     ]
    }
   ],
   "source": [
    "#two for loops to recursively create registered images:\n",
    "\n",
    "# from middle to end (higher index), idx of 17 to 33, or 18th image to 34th image:\n",
    "start = time()\n",
    "\n",
    "for idx in range(num_minus1,-1,-1): #idx = 15 to -1 (not including -1)\n",
    "    if idx == 0:\n",
    "        break\n",
    "    ref_img_path = os.path.join(r'\\\\fatherserverdw\\Kevin\\imageregistration2\\registered_images', img_files_path[idx])\n",
    "    mov_img_path = img_files_path_complete[idx-1]\n",
    "    mask_path = mask_files_path_complete[idx-1]\n",
    "\n",
    "    ref_img = np.array(Image.open(ref_img_path))\n",
    "    mov_img = np.array(Image.open(mov_img_path))\n",
    "    mask_img = np.array(Image.open(mask_path))\n",
    "\n",
    "    ref_img_g = rgb2gray(ref_img)\n",
    "    mov_img_g = rgb2gray(mov_img)\n",
    "    v, u = optical_flow_tvl1(ref_img_g, mov_img_g)\n",
    "    nr, nc = ref_img_g.shape\n",
    "    row_coords, col_coords = np.meshgrid(np.arange(nr), np.arange(nc),\n",
    "                                         indexing='ij')\n",
    "    mov_img_warp_ra =[]\n",
    "    for i in range(3):\n",
    "        mov_img_warp = warp(mov_img[:,:,i], np.array([row_coords + v, col_coords + u]),mode='edge')\n",
    "        mov_img_warp_ra.append(mov_img_warp)\n",
    "\n",
    "        if i == 0:\n",
    "            warp_mask = warp(mask_img, np.array([row_coords + v, col_coords + u]),mode='edge')\n",
    "            warp_mask = (warp_mask * 255).astype('uint8')\n",
    "            Image.fromarray(warp_mask).save(r'\\\\fatherserverdw\\Kevin\\imageregistration2\\registered_masks\\\\' + str(mask_files_path_1[idx-1]) + '.png')\n",
    "            np.save(r'\\\\fatherserverdw\\Kevin\\imageregistration2\\warp_arrays\\u\\\\' + str(mask_files_path_1[idx-1]),u)\n",
    "            np.save(r'\\\\fatherserverdw\\Kevin\\imageregistration2\\warp_arrays\\v\\\\' + str(mask_files_path_1[idx-1]),v)\n",
    "                #do the same warp for the masks\n",
    "    r = np.array(mov_img_warp_ra[0]*255).astype('uint8')\n",
    "    g = np.array(mov_img_warp_ra[1]*255).astype('uint8')\n",
    "    b = np.array(mov_img_warp_ra[2]*255).astype('uint8')\n",
    "    rgb = np.stack([r,g,b],axis=2)\n",
    "    reg_img = Image.fromarray(rgb)\n",
    "    reg_img.save(r'\\\\fatherserverdw\\Kevin\\imageregistration2\\registered_images\\\\' + str(img_files_path_1[idx-1]) + '.png')\n",
    "\n",
    "end = time()\n",
    "print(\"time it took to register: \"+  str(end-start) + \" seconds\")"
   ],
   "metadata": {
    "collapsed": false
   }
  },
  {
   "cell_type": "code",
   "execution_count": null,
   "outputs": [],
   "source": [],
   "metadata": {
    "collapsed": false
   }
  }
 ],
 "metadata": {
  "kernelspec": {
   "display_name": "Python 3",
   "language": "python",
   "name": "python3"
  },
  "language_info": {
   "codemirror_mode": {
    "name": "ipython",
    "version": 2
   },
   "file_extension": ".py",
   "mimetype": "text/x-python",
   "name": "python",
   "nbconvert_exporter": "python",
   "pygments_lexer": "ipython2",
   "version": "2.7.6"
  }
 },
 "nbformat": 4,
 "nbformat_minor": 0
}
