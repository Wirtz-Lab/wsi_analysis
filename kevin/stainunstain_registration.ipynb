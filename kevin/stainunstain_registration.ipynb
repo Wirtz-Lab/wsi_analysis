{
 "cells": [
  {
   "cell_type": "markdown",
   "source": [
    "## The aim is to register each tissue images in the stained and unstained WSIs. To do this, we first need to crop and save each individual tissue in each WSI and save them as a png file. Then we can pad the two images together and register them by editing the registration code from image_registration.ipynb.\n",
    "## The path of the images are in: \\\\shelter\\Kyu\\unstain2stain\\biomax_images"
   ],
   "metadata": {
    "collapsed": false
   }
  },
  {
   "cell_type": "code",
   "execution_count": 1,
   "metadata": {
    "collapsed": true
   },
   "outputs": [],
   "source": [
    "import numpy as np\n",
    "import time\n",
    "from PIL import Image\n",
    "Image.MAX_IMAGE_PIXELS = None\n",
    "import cv2\n",
    "import os\n",
    "from matplotlib import pyplot as plt\n",
    "from skimage.morphology import remove_small_objects, remove_small_holes\n",
    "from skimage.color import rgb2gray\n",
    "from skimage.transform import warp\n",
    "from skimage.registration import optical_flow_tvl1, optical_flow_ilk\n",
    "import openslide\n",
    "import os\n",
    "import cv2\n",
    "os.environ[\"OPENCV_IO_MAX_IMAGE_PIXELS\"] = pow(2,40).__str__()\n",
    "import xml.etree.ElementTree as ET\n",
    "import numpy as np\n",
    "import pandas as pd\n",
    "import skimage.measure\n",
    "import scipy.stats as stats\n",
    "import torchvision.transforms as transforms\n",
    "from glob import glob\n",
    "from time import time\n",
    "from skimage.measure import label, regionprops_table\n"
   ]
  },
  {
   "cell_type": "code",
   "execution_count": 2,
   "outputs": [],
   "source": [
    "def _time(f):\n",
    "    \"\"\"\n",
    "    Helper function: Measures time taken for a certain function that we suspect that takes long. Simply run _time(function_name)\n",
    "    \"\"\"\n",
    "    def wrapper(*args,**kwargs):\n",
    "        start=time()\n",
    "        r=f(*args,**kwargs)\n",
    "        end=time()\n",
    "        print(\"%s timed %f\" %(f.__name__,end-start))\n",
    "        return r\n",
    "    return wrapper"
   ],
   "metadata": {
    "collapsed": false
   }
  },
  {
   "cell_type": "code",
   "execution_count": 3,
   "outputs": [],
   "source": [
    "def xml_to_df(xml_filepath):\n",
    "    \"\"\"\n",
    "    Helper function:\n",
    "    input: annotation xml file\n",
    "    output: dataframe of X,Y coordinates of the contours\n",
    "    Can be used for multiclass and just simple ROI as well.\n",
    "    \"\"\"\n",
    "    tree = ET.parse(xml_filepath)\n",
    "    root = tree.getroot()\n",
    "    append_df = []\n",
    "    for index, Annotation in enumerate(root.iter(\"Annotation\")):\n",
    "        for Region in Annotation.iter('Region'):\n",
    "            x = np.array([Vertex.get('X') for Vertex in Region.iter('Vertex')])\n",
    "            y = np.array([Vertex.get('Y') for Vertex in Region.iter('Vertex')])\n",
    "            id = np.array([int(Region.get('Id'))])\n",
    "            classnames = index + 1\n",
    "            coord_dict = {\"ClassNames\": [classnames], \"X\": [x], \"Y\": [y], \"ID\": [id]}\n",
    "            df = pd.DataFrame(data = coord_dict)\n",
    "            df.ID = df.ID.astype(int)\n",
    "            append_df.append(df)\n",
    "    coord_df = pd.concat(append_df).reset_index(drop=True)\n",
    "    return(coord_df)"
   ],
   "metadata": {
    "collapsed": false
   }
  },
  {
   "cell_type": "code",
   "execution_count": 4,
   "outputs": [
    {
     "data": {
      "text/plain": "    ClassNames                                                  X  \\\n0            1  [66855, 66848, 66848, 66848, 66848, 66848, 668...   \n1            1  [64319, 64382, 64395, 64421, 64446, 64472, 644...   \n2            1  [78061, 78048, 78048, 78048, 78048, 78048, 780...   \n3            1  [66800, 66791, 66781, 66763, 66754, 66735, 667...   \n4            1  [66050, 66060, 66078, 66106, 66143, 66180, 661...   \n5            1  [78649, 78649, 78649, 78649, 78649, 78649, 786...   \n6            1  [77691, 77678, 77665, 77639, 77627, 77601, 775...   \n7            1  [78163, 78291, 78432, 78559, 78738, 78879, 790...   \n8            1  [89727, 89727, 89713, 89699, 89693, 89679, 896...   \n9            1  [88630, 88593, 88574, 88537, 88519, 88500, 884...   \n10           1  [92605, 92591, 92584, 92577, 92570, 92556, 925...   \n11           1  [100955, 100853, 100788, 100751, 100723, 10071...   \n12           1  [100259, 100246, 100233, 100233, 100208, 10019...   \n13           1  [99964, 99939, 99888, 99849, 99811, 99773, 997...   \n14           1  [108841, 108854, 108880, 108905, 108931, 10895...   \n15           1  [109952, 109978, 110004, 110055, 110106, 11015...   \n16           2  [131119, 131119, 131119, 131119, 131119, 13111...   \n17           2  [121747, 121747, 121747, 121747, 121747, 12174...   \n18           2  [111810, 111782, 111782, 111775, 111768, 11176...   \n19           2  [122991, 122977, 122963, 122956, 122942, 12292...   \n20           2  [111917, 111898, 111880, 111843, 111843, 11181...   \n21           2  [122925, 122916, 122907, 122888, 122870, 12287...   \n22           2  [99842, 99842, 99842, 99847, 99858, 99864, 998...   \n23           3  [122175, 122221, 122249, 122305, 122333, 12237...   \n24           3  [89504, 89504, 89504, 89466, 89440, 89415, 893...   \n\n                                                    Y  ID  \n0   [29667, 29667, 29674, 29681, 29688, 29695, 297...   1  \n1   [63336, 63399, 63412, 63438, 63451, 63476, 635...   2  \n2   [28813, 28813, 28851, 28915, 29005, 29068, 291...   3  \n3   [38608, 38608, 38617, 38636, 38654, 38682, 387...   4  \n4   [49432, 49422, 49404, 49395, 49367, 49330, 493...   5  \n5   [38239, 38252, 38264, 38290, 38328, 38354, 383...   6  \n6   [48635, 48635, 48635, 48648, 48661, 48686, 487...   7  \n7   [67984, 67984, 67997, 67997, 67997, 67997, 679...   8  \n8   [66995, 66954, 66905, 66863, 66821, 66793, 667...   9  \n9   [55128, 55054, 54999, 54906, 54851, 54795, 547...  10  \n10  [44612, 44598, 44598, 44591, 44584, 44556, 445...  11  \n11  [39098, 39126, 39145, 39154, 39172, 39191, 391...  12  \n12  [49159, 49159, 49172, 49197, 49223, 49248, 492...  13  \n13  [68329, 68303, 68278, 68227, 68214, 68163, 681...  14  \n14  [53552, 53603, 53629, 53667, 53705, 53744, 537...  15  \n15  [68521, 68521, 68521, 68534, 68547, 68559, 685...  16  \n16  [64939, 64948, 64957, 64976, 65004, 65022, 650...   1  \n17  [31587, 31594, 31615, 31643, 31685, 31727, 317...   2  \n18  [28829, 28899, 28913, 28934, 28955, 28976, 289...   3  \n19  [45757, 45737, 45723, 45702, 45688, 45660, 456...   4  \n20  [44960, 44904, 44867, 44811, 44774, 44719, 446...   5  \n21  [56986, 56967, 56949, 56930, 56912, 56893, 568...   6  \n22  [30706, 30712, 30728, 30766, 30810, 30859, 309...   7  \n23  [61023, 61023, 61023, 61023, 61014, 61014, 610...   1  \n24  [27766, 27779, 27792, 27830, 27894, 27958, 280...   2  ",
      "text/html": "<div>\n<style scoped>\n    .dataframe tbody tr th:only-of-type {\n        vertical-align: middle;\n    }\n\n    .dataframe tbody tr th {\n        vertical-align: top;\n    }\n\n    .dataframe thead th {\n        text-align: right;\n    }\n</style>\n<table border=\"1\" class=\"dataframe\">\n  <thead>\n    <tr style=\"text-align: right;\">\n      <th></th>\n      <th>ClassNames</th>\n      <th>X</th>\n      <th>Y</th>\n      <th>ID</th>\n    </tr>\n  </thead>\n  <tbody>\n    <tr>\n      <th>0</th>\n      <td>1</td>\n      <td>[66855, 66848, 66848, 66848, 66848, 66848, 668...</td>\n      <td>[29667, 29667, 29674, 29681, 29688, 29695, 297...</td>\n      <td>1</td>\n    </tr>\n    <tr>\n      <th>1</th>\n      <td>1</td>\n      <td>[64319, 64382, 64395, 64421, 64446, 64472, 644...</td>\n      <td>[63336, 63399, 63412, 63438, 63451, 63476, 635...</td>\n      <td>2</td>\n    </tr>\n    <tr>\n      <th>2</th>\n      <td>1</td>\n      <td>[78061, 78048, 78048, 78048, 78048, 78048, 780...</td>\n      <td>[28813, 28813, 28851, 28915, 29005, 29068, 291...</td>\n      <td>3</td>\n    </tr>\n    <tr>\n      <th>3</th>\n      <td>1</td>\n      <td>[66800, 66791, 66781, 66763, 66754, 66735, 667...</td>\n      <td>[38608, 38608, 38617, 38636, 38654, 38682, 387...</td>\n      <td>4</td>\n    </tr>\n    <tr>\n      <th>4</th>\n      <td>1</td>\n      <td>[66050, 66060, 66078, 66106, 66143, 66180, 661...</td>\n      <td>[49432, 49422, 49404, 49395, 49367, 49330, 493...</td>\n      <td>5</td>\n    </tr>\n    <tr>\n      <th>5</th>\n      <td>1</td>\n      <td>[78649, 78649, 78649, 78649, 78649, 78649, 786...</td>\n      <td>[38239, 38252, 38264, 38290, 38328, 38354, 383...</td>\n      <td>6</td>\n    </tr>\n    <tr>\n      <th>6</th>\n      <td>1</td>\n      <td>[77691, 77678, 77665, 77639, 77627, 77601, 775...</td>\n      <td>[48635, 48635, 48635, 48648, 48661, 48686, 487...</td>\n      <td>7</td>\n    </tr>\n    <tr>\n      <th>7</th>\n      <td>1</td>\n      <td>[78163, 78291, 78432, 78559, 78738, 78879, 790...</td>\n      <td>[67984, 67984, 67997, 67997, 67997, 67997, 679...</td>\n      <td>8</td>\n    </tr>\n    <tr>\n      <th>8</th>\n      <td>1</td>\n      <td>[89727, 89727, 89713, 89699, 89693, 89679, 896...</td>\n      <td>[66995, 66954, 66905, 66863, 66821, 66793, 667...</td>\n      <td>9</td>\n    </tr>\n    <tr>\n      <th>9</th>\n      <td>1</td>\n      <td>[88630, 88593, 88574, 88537, 88519, 88500, 884...</td>\n      <td>[55128, 55054, 54999, 54906, 54851, 54795, 547...</td>\n      <td>10</td>\n    </tr>\n    <tr>\n      <th>10</th>\n      <td>1</td>\n      <td>[92605, 92591, 92584, 92577, 92570, 92556, 925...</td>\n      <td>[44612, 44598, 44598, 44591, 44584, 44556, 445...</td>\n      <td>11</td>\n    </tr>\n    <tr>\n      <th>11</th>\n      <td>1</td>\n      <td>[100955, 100853, 100788, 100751, 100723, 10071...</td>\n      <td>[39098, 39126, 39145, 39154, 39172, 39191, 391...</td>\n      <td>12</td>\n    </tr>\n    <tr>\n      <th>12</th>\n      <td>1</td>\n      <td>[100259, 100246, 100233, 100233, 100208, 10019...</td>\n      <td>[49159, 49159, 49172, 49197, 49223, 49248, 492...</td>\n      <td>13</td>\n    </tr>\n    <tr>\n      <th>13</th>\n      <td>1</td>\n      <td>[99964, 99939, 99888, 99849, 99811, 99773, 997...</td>\n      <td>[68329, 68303, 68278, 68227, 68214, 68163, 681...</td>\n      <td>14</td>\n    </tr>\n    <tr>\n      <th>14</th>\n      <td>1</td>\n      <td>[108841, 108854, 108880, 108905, 108931, 10895...</td>\n      <td>[53552, 53603, 53629, 53667, 53705, 53744, 537...</td>\n      <td>15</td>\n    </tr>\n    <tr>\n      <th>15</th>\n      <td>1</td>\n      <td>[109952, 109978, 110004, 110055, 110106, 11015...</td>\n      <td>[68521, 68521, 68521, 68534, 68547, 68559, 685...</td>\n      <td>16</td>\n    </tr>\n    <tr>\n      <th>16</th>\n      <td>2</td>\n      <td>[131119, 131119, 131119, 131119, 131119, 13111...</td>\n      <td>[64939, 64948, 64957, 64976, 65004, 65022, 650...</td>\n      <td>1</td>\n    </tr>\n    <tr>\n      <th>17</th>\n      <td>2</td>\n      <td>[121747, 121747, 121747, 121747, 121747, 12174...</td>\n      <td>[31587, 31594, 31615, 31643, 31685, 31727, 317...</td>\n      <td>2</td>\n    </tr>\n    <tr>\n      <th>18</th>\n      <td>2</td>\n      <td>[111810, 111782, 111782, 111775, 111768, 11176...</td>\n      <td>[28829, 28899, 28913, 28934, 28955, 28976, 289...</td>\n      <td>3</td>\n    </tr>\n    <tr>\n      <th>19</th>\n      <td>2</td>\n      <td>[122991, 122977, 122963, 122956, 122942, 12292...</td>\n      <td>[45757, 45737, 45723, 45702, 45688, 45660, 456...</td>\n      <td>4</td>\n    </tr>\n    <tr>\n      <th>20</th>\n      <td>2</td>\n      <td>[111917, 111898, 111880, 111843, 111843, 11181...</td>\n      <td>[44960, 44904, 44867, 44811, 44774, 44719, 446...</td>\n      <td>5</td>\n    </tr>\n    <tr>\n      <th>21</th>\n      <td>2</td>\n      <td>[122925, 122916, 122907, 122888, 122870, 12287...</td>\n      <td>[56986, 56967, 56949, 56930, 56912, 56893, 568...</td>\n      <td>6</td>\n    </tr>\n    <tr>\n      <th>22</th>\n      <td>2</td>\n      <td>[99842, 99842, 99842, 99847, 99858, 99864, 998...</td>\n      <td>[30706, 30712, 30728, 30766, 30810, 30859, 309...</td>\n      <td>7</td>\n    </tr>\n    <tr>\n      <th>23</th>\n      <td>3</td>\n      <td>[122175, 122221, 122249, 122305, 122333, 12237...</td>\n      <td>[61023, 61023, 61023, 61023, 61014, 61014, 610...</td>\n      <td>1</td>\n    </tr>\n    <tr>\n      <th>24</th>\n      <td>3</td>\n      <td>[89504, 89504, 89504, 89466, 89440, 89415, 893...</td>\n      <td>[27766, 27779, 27792, 27830, 27894, 27958, 280...</td>\n      <td>2</td>\n    </tr>\n  </tbody>\n</table>\n</div>"
     },
     "execution_count": 4,
     "metadata": {},
     "output_type": "execute_result"
    }
   ],
   "source": [
    "coord_df = xml_to_df(r'\\\\shelter\\Kyu\\unstain2stain\\biomax_images\\unstained\\sk244a.xml')\n",
    "coord_df"
   ],
   "metadata": {
    "collapsed": false
   }
  },
  {
   "cell_type": "markdown",
   "source": [
    "### for stained: downsample by 8x to find the bounding box for each tissue image in WSI, and then get those bounding box coordinates multiplied by 8x again, and use those coordinates to read region with no downsample, but only that region of interest and then crop. (modify read_region function to read at full resolution, but only the bounding box by changing location and size). But use binary mask of the unstained to find the order, so we can save the images from top left to bottom right.\n",
    "\n",
    "### for unstained: use xml coordinates and just find the bounding box from there and then read region with no downsample and crop. But use binary mask of the unstained to find the order, so we can save the images from top left to bottom right.\n",
    "\n",
    "### To find order: get both binary images/masks of the raw ndpi, and because their relative positions are so different, we crop both images so that only the tissues are shown, meaning that there is no \"white space\" in the image. And then if we normalize the centroids with respect to the size of the cropped image, the centroids should be the same"
   ],
   "metadata": {
    "collapsed": false
   }
  },
  {
   "cell_type": "code",
   "execution_count": 13,
   "outputs": [
    {
     "data": {
      "text/plain": "[(0.0898, 0.2415),\n (0.1027, 0.0922),\n (0.1068, 0.6804),\n (0.1143, 0.377),\n (0.1719, 0.8202),\n (0.1488, 0.5228),\n (0.3342, 0.2397),\n (0.3542, 0.0784),\n (0.3854, 0.506),\n (0.3736, 0.6638),\n (0.3777, 0.4056),\n (0.3827, 0.8124),\n (0.5977, 0.0694),\n (0.6214, 0.3737),\n (0.6029, 0.2203),\n (0.6289, 0.5096),\n (0.6404, 0.8099),\n (0.6512, 0.6558),\n (0.8662, 0.0752),\n (0.8706, 0.2232),\n (0.897, 0.5092),\n (0.9003, 0.657),\n (0.9007, 0.9455),\n (0.8771, 0.3663),\n (0.9026, 0.7961)]"
     },
     "execution_count": 13,
     "metadata": {},
     "output_type": "execute_result"
    },
    {
     "data": {
      "text/plain": "<Figure size 432x288 with 1 Axes>",
      "image/png": "[encoded data removed]"
     },
     "metadata": {
      "needs_background": "light"
     },
     "output_type": "display_data"
    }
   ],
   "source": [
    "binary_img = Image.open(r'\\\\shelter\\Kyu\\unstain2stain\\biomax_images\\stained\\entire_binary_masks\\sk244a.png')\n",
    "labeledbw = label(np.array(binary_img))\n",
    "# plt.imshow(labeledbw.astype(np.int32))\n",
    "props = regionprops_table(labeledbw, properties = ('bbox','label'))\n",
    "# find bbox to crop\n",
    "b0 = props.get('bbox-0') #xmin\n",
    "b1 = props.get('bbox-1') #ymin\n",
    "b2 = props.get('bbox-2') #ymax\n",
    "b3 = props.get('bbox-3') #xmax\n",
    "xmin = np.min(b0)\n",
    "ymin = np.min(b1)\n",
    "ymax = np.max(b2)\n",
    "xmax = np.max(b3)\n",
    "newlabeledbw = labeledbw[ymin:ymax,xmin:xmax]\n",
    "size = newlabeledbw.shape\n",
    "plt.imshow(newlabeledbw.astype(np.int32))\n",
    "newprops = regionprops_table(newlabeledbw, properties = ('centroid','label'))\n",
    "c0 = newprops.get('centroid-0')\n",
    "c1 = newprops.get('centroid-1')\n",
    "c0 = [round(x / size[0],4) for x in c0]\n",
    "c1 = [round(x / size[1],4) for x in c1]\n",
    "bbox_tuple = list(zip(c0,c1))\n",
    "bbox_tuple"
   ],
   "metadata": {
    "collapsed": false
   }
  },
  {
   "cell_type": "code",
   "execution_count": 28,
   "outputs": [],
   "source": [
    "# #create new 16x downsample for unstained:\n",
    "def df_to_image_mask(xml_filepath, ndpi_filepath,downsample_factor):\n",
    "    coord_df = xml_to_df(xml_filepath)\n",
    "    slide = openslide.open_slide(ndpi_filepath)\n",
    "    rgb_dim = slide.dimensions\n",
    "    print(\"Dimension of level 0 of the image is: \",rgb_dim)\n",
    "    slide_level_dim = slide.level_dimensions\n",
    "    num_levels = len(slide_level_dim)\n",
    "    print(\"Number of levels in this image are:\",num_levels)\n",
    "    factors = slide.level_downsamples\n",
    "    print(\"Each level is downsampled by:\",factors)\n",
    "    blank = np.zeros(rgb_dim, dtype = np.uint8) #white\n",
    "    for idx, row in coord_df.iterrows():\n",
    "        xx = row.X.astype('int')\n",
    "        yy = row.Y.astype('int')\n",
    "        xy = list(zip(xx,yy))\n",
    "        contours = np.array(xy)\n",
    "        mask = cv2.fillPoly(blank, pts=[contours.astype(int)], color=idx+125)\n",
    "    target_level = slide.get_best_level_for_downsample(downsample_factor)\n",
    "    target_dim = slide.level_dimensions[target_level]\n",
    "    rsf = [x/y for x,y in zip(rgb_dim,target_dim)]\n",
    "    image_resized = slide.read_region(location=(0,0),level=target_level,size=target_dim)\n",
    "    mask_resized = cv2.resize(mask,[_//round(rsf[0]) for _ in mask.shape],interpolation=cv2.INTER_NEAREST)\n",
    "    #cv2.imwrite(r\"\\\\fatherserverdw\\Kevin\\\\binarymask.jpg\",mask_resized) #save binary mask\n",
    "    return image_resized,mask_resized"
   ],
   "metadata": {
    "collapsed": false
   }
  },
  {
   "cell_type": "code",
   "execution_count": null,
   "outputs": [],
   "source": [
    "# use xml_to_df and df_to_image_mask to create binarymask of unstained with downsample 16x:"
   ],
   "metadata": {
    "collapsed": false
   }
  },
  {
   "cell_type": "code",
   "execution_count": 20,
   "outputs": [
    {
     "name": "stdout",
     "output_type": "stream",
     "text": [
      "0\n",
      "0\n",
      "0\n",
      "6160\n"
     ]
    },
    {
     "ename": "ValueError",
     "evalue": "zero-size array to reduction operation minimum which has no identity",
     "output_type": "error",
     "traceback": [
      "\u001B[1;31m---------------------------------------------------------------------------\u001B[0m",
      "\u001B[1;31mValueError\u001B[0m                                Traceback (most recent call last)",
      "Input \u001B[1;32mIn [20]\u001B[0m, in \u001B[0;36m<cell line: 22>\u001B[1;34m()\u001B[0m\n\u001B[0;32m     20\u001B[0m newlabeledbw \u001B[38;5;241m=\u001B[39m labeledbw[ymin:ymax,xmin:xmax]\n\u001B[0;32m     21\u001B[0m size \u001B[38;5;241m=\u001B[39m newlabeledbw\u001B[38;5;241m.\u001B[39mshape\n\u001B[1;32m---> 22\u001B[0m \u001B[43mplt\u001B[49m\u001B[38;5;241;43m.\u001B[39;49m\u001B[43mimshow\u001B[49m\u001B[43m(\u001B[49m\u001B[43mnewlabeledbw\u001B[49m\u001B[38;5;241;43m.\u001B[39;49m\u001B[43mastype\u001B[49m\u001B[43m(\u001B[49m\u001B[43mnp\u001B[49m\u001B[38;5;241;43m.\u001B[39;49m\u001B[43mint32\u001B[49m\u001B[43m)\u001B[49m\u001B[43m)\u001B[49m\n\u001B[0;32m     23\u001B[0m newprops \u001B[38;5;241m=\u001B[39m regionprops_table(newlabeledbw, properties \u001B[38;5;241m=\u001B[39m (\u001B[38;5;124m'\u001B[39m\u001B[38;5;124mcentroid\u001B[39m\u001B[38;5;124m'\u001B[39m,\u001B[38;5;124m'\u001B[39m\u001B[38;5;124mlabel\u001B[39m\u001B[38;5;124m'\u001B[39m))\n\u001B[0;32m     24\u001B[0m c0 \u001B[38;5;241m=\u001B[39m newprops\u001B[38;5;241m.\u001B[39mget(\u001B[38;5;124m'\u001B[39m\u001B[38;5;124mcentroid-0\u001B[39m\u001B[38;5;124m'\u001B[39m)\n",
      "File \u001B[1;32mC:\\ProgramData\\Anaconda3\\envs\\wsi_analysis\\lib\\site-packages\\matplotlib\\_api\\deprecation.py:459\u001B[0m, in \u001B[0;36mmake_keyword_only.<locals>.wrapper\u001B[1;34m(*args, **kwargs)\u001B[0m\n\u001B[0;32m    453\u001B[0m \u001B[38;5;28;01mif\u001B[39;00m \u001B[38;5;28mlen\u001B[39m(args) \u001B[38;5;241m>\u001B[39m name_idx:\n\u001B[0;32m    454\u001B[0m     warn_deprecated(\n\u001B[0;32m    455\u001B[0m         since, message\u001B[38;5;241m=\u001B[39m\u001B[38;5;124m\"\u001B[39m\u001B[38;5;124mPassing the \u001B[39m\u001B[38;5;132;01m%(name)s\u001B[39;00m\u001B[38;5;124m \u001B[39m\u001B[38;5;132;01m%(obj_type)s\u001B[39;00m\u001B[38;5;124m \u001B[39m\u001B[38;5;124m\"\u001B[39m\n\u001B[0;32m    456\u001B[0m         \u001B[38;5;124m\"\u001B[39m\u001B[38;5;124mpositionally is deprecated since Matplotlib \u001B[39m\u001B[38;5;132;01m%(since)s\u001B[39;00m\u001B[38;5;124m; the \u001B[39m\u001B[38;5;124m\"\u001B[39m\n\u001B[0;32m    457\u001B[0m         \u001B[38;5;124m\"\u001B[39m\u001B[38;5;124mparameter will become keyword-only \u001B[39m\u001B[38;5;132;01m%(removal)s\u001B[39;00m\u001B[38;5;124m.\u001B[39m\u001B[38;5;124m\"\u001B[39m,\n\u001B[0;32m    458\u001B[0m         name\u001B[38;5;241m=\u001B[39mname, obj_type\u001B[38;5;241m=\u001B[39m\u001B[38;5;124mf\u001B[39m\u001B[38;5;124m\"\u001B[39m\u001B[38;5;124mparameter of \u001B[39m\u001B[38;5;132;01m{\u001B[39;00mfunc\u001B[38;5;241m.\u001B[39m\u001B[38;5;18m__name__\u001B[39m\u001B[38;5;132;01m}\u001B[39;00m\u001B[38;5;124m()\u001B[39m\u001B[38;5;124m\"\u001B[39m)\n\u001B[1;32m--> 459\u001B[0m \u001B[38;5;28;01mreturn\u001B[39;00m func(\u001B[38;5;241m*\u001B[39margs, \u001B[38;5;241m*\u001B[39m\u001B[38;5;241m*\u001B[39mkwargs)\n",
      "File \u001B[1;32mC:\\ProgramData\\Anaconda3\\envs\\wsi_analysis\\lib\\site-packages\\matplotlib\\pyplot.py:2652\u001B[0m, in \u001B[0;36mimshow\u001B[1;34m(X, cmap, norm, aspect, interpolation, alpha, vmin, vmax, origin, extent, interpolation_stage, filternorm, filterrad, resample, url, data, **kwargs)\u001B[0m\n\u001B[0;32m   2646\u001B[0m \u001B[38;5;129m@_copy_docstring_and_deprecators\u001B[39m(Axes\u001B[38;5;241m.\u001B[39mimshow)\n\u001B[0;32m   2647\u001B[0m \u001B[38;5;28;01mdef\u001B[39;00m \u001B[38;5;21mimshow\u001B[39m(\n\u001B[0;32m   2648\u001B[0m         X, cmap\u001B[38;5;241m=\u001B[39m\u001B[38;5;28;01mNone\u001B[39;00m, norm\u001B[38;5;241m=\u001B[39m\u001B[38;5;28;01mNone\u001B[39;00m, aspect\u001B[38;5;241m=\u001B[39m\u001B[38;5;28;01mNone\u001B[39;00m, interpolation\u001B[38;5;241m=\u001B[39m\u001B[38;5;28;01mNone\u001B[39;00m,\n\u001B[0;32m   2649\u001B[0m         alpha\u001B[38;5;241m=\u001B[39m\u001B[38;5;28;01mNone\u001B[39;00m, vmin\u001B[38;5;241m=\u001B[39m\u001B[38;5;28;01mNone\u001B[39;00m, vmax\u001B[38;5;241m=\u001B[39m\u001B[38;5;28;01mNone\u001B[39;00m, origin\u001B[38;5;241m=\u001B[39m\u001B[38;5;28;01mNone\u001B[39;00m, extent\u001B[38;5;241m=\u001B[39m\u001B[38;5;28;01mNone\u001B[39;00m, \u001B[38;5;241m*\u001B[39m,\n\u001B[0;32m   2650\u001B[0m         interpolation_stage\u001B[38;5;241m=\u001B[39m\u001B[38;5;28;01mNone\u001B[39;00m, filternorm\u001B[38;5;241m=\u001B[39m\u001B[38;5;28;01mTrue\u001B[39;00m, filterrad\u001B[38;5;241m=\u001B[39m\u001B[38;5;241m4.0\u001B[39m,\n\u001B[0;32m   2651\u001B[0m         resample\u001B[38;5;241m=\u001B[39m\u001B[38;5;28;01mNone\u001B[39;00m, url\u001B[38;5;241m=\u001B[39m\u001B[38;5;28;01mNone\u001B[39;00m, data\u001B[38;5;241m=\u001B[39m\u001B[38;5;28;01mNone\u001B[39;00m, \u001B[38;5;241m*\u001B[39m\u001B[38;5;241m*\u001B[39mkwargs):\n\u001B[1;32m-> 2652\u001B[0m     __ret \u001B[38;5;241m=\u001B[39m gca()\u001B[38;5;241m.\u001B[39mimshow(\n\u001B[0;32m   2653\u001B[0m         X, cmap\u001B[38;5;241m=\u001B[39mcmap, norm\u001B[38;5;241m=\u001B[39mnorm, aspect\u001B[38;5;241m=\u001B[39maspect,\n\u001B[0;32m   2654\u001B[0m         interpolation\u001B[38;5;241m=\u001B[39minterpolation, alpha\u001B[38;5;241m=\u001B[39malpha, vmin\u001B[38;5;241m=\u001B[39mvmin,\n\u001B[0;32m   2655\u001B[0m         vmax\u001B[38;5;241m=\u001B[39mvmax, origin\u001B[38;5;241m=\u001B[39morigin, extent\u001B[38;5;241m=\u001B[39mextent,\n\u001B[0;32m   2656\u001B[0m         interpolation_stage\u001B[38;5;241m=\u001B[39minterpolation_stage,\n\u001B[0;32m   2657\u001B[0m         filternorm\u001B[38;5;241m=\u001B[39mfilternorm, filterrad\u001B[38;5;241m=\u001B[39mfilterrad, resample\u001B[38;5;241m=\u001B[39mresample,\n\u001B[0;32m   2658\u001B[0m         url\u001B[38;5;241m=\u001B[39murl, \u001B[38;5;241m*\u001B[39m\u001B[38;5;241m*\u001B[39m({\u001B[38;5;124m\"\u001B[39m\u001B[38;5;124mdata\u001B[39m\u001B[38;5;124m\"\u001B[39m: data} \u001B[38;5;28;01mif\u001B[39;00m data \u001B[38;5;129;01mis\u001B[39;00m \u001B[38;5;129;01mnot\u001B[39;00m \u001B[38;5;28;01mNone\u001B[39;00m \u001B[38;5;28;01melse\u001B[39;00m {}),\n\u001B[0;32m   2659\u001B[0m         \u001B[38;5;241m*\u001B[39m\u001B[38;5;241m*\u001B[39mkwargs)\n\u001B[0;32m   2660\u001B[0m     sci(__ret)\n\u001B[0;32m   2661\u001B[0m     \u001B[38;5;28;01mreturn\u001B[39;00m __ret\n",
      "File \u001B[1;32mC:\\ProgramData\\Anaconda3\\envs\\wsi_analysis\\lib\\site-packages\\matplotlib\\_api\\deprecation.py:459\u001B[0m, in \u001B[0;36mmake_keyword_only.<locals>.wrapper\u001B[1;34m(*args, **kwargs)\u001B[0m\n\u001B[0;32m    453\u001B[0m \u001B[38;5;28;01mif\u001B[39;00m \u001B[38;5;28mlen\u001B[39m(args) \u001B[38;5;241m>\u001B[39m name_idx:\n\u001B[0;32m    454\u001B[0m     warn_deprecated(\n\u001B[0;32m    455\u001B[0m         since, message\u001B[38;5;241m=\u001B[39m\u001B[38;5;124m\"\u001B[39m\u001B[38;5;124mPassing the \u001B[39m\u001B[38;5;132;01m%(name)s\u001B[39;00m\u001B[38;5;124m \u001B[39m\u001B[38;5;132;01m%(obj_type)s\u001B[39;00m\u001B[38;5;124m \u001B[39m\u001B[38;5;124m\"\u001B[39m\n\u001B[0;32m    456\u001B[0m         \u001B[38;5;124m\"\u001B[39m\u001B[38;5;124mpositionally is deprecated since Matplotlib \u001B[39m\u001B[38;5;132;01m%(since)s\u001B[39;00m\u001B[38;5;124m; the \u001B[39m\u001B[38;5;124m\"\u001B[39m\n\u001B[0;32m    457\u001B[0m         \u001B[38;5;124m\"\u001B[39m\u001B[38;5;124mparameter will become keyword-only \u001B[39m\u001B[38;5;132;01m%(removal)s\u001B[39;00m\u001B[38;5;124m.\u001B[39m\u001B[38;5;124m\"\u001B[39m,\n\u001B[0;32m    458\u001B[0m         name\u001B[38;5;241m=\u001B[39mname, obj_type\u001B[38;5;241m=\u001B[39m\u001B[38;5;124mf\u001B[39m\u001B[38;5;124m\"\u001B[39m\u001B[38;5;124mparameter of \u001B[39m\u001B[38;5;132;01m{\u001B[39;00mfunc\u001B[38;5;241m.\u001B[39m\u001B[38;5;18m__name__\u001B[39m\u001B[38;5;132;01m}\u001B[39;00m\u001B[38;5;124m()\u001B[39m\u001B[38;5;124m\"\u001B[39m)\n\u001B[1;32m--> 459\u001B[0m \u001B[38;5;28;01mreturn\u001B[39;00m func(\u001B[38;5;241m*\u001B[39margs, \u001B[38;5;241m*\u001B[39m\u001B[38;5;241m*\u001B[39mkwargs)\n",
      "File \u001B[1;32mC:\\ProgramData\\Anaconda3\\envs\\wsi_analysis\\lib\\site-packages\\matplotlib\\__init__.py:1412\u001B[0m, in \u001B[0;36m_preprocess_data.<locals>.inner\u001B[1;34m(ax, data, *args, **kwargs)\u001B[0m\n\u001B[0;32m   1409\u001B[0m \u001B[38;5;129m@functools\u001B[39m\u001B[38;5;241m.\u001B[39mwraps(func)\n\u001B[0;32m   1410\u001B[0m \u001B[38;5;28;01mdef\u001B[39;00m \u001B[38;5;21minner\u001B[39m(ax, \u001B[38;5;241m*\u001B[39margs, data\u001B[38;5;241m=\u001B[39m\u001B[38;5;28;01mNone\u001B[39;00m, \u001B[38;5;241m*\u001B[39m\u001B[38;5;241m*\u001B[39mkwargs):\n\u001B[0;32m   1411\u001B[0m     \u001B[38;5;28;01mif\u001B[39;00m data \u001B[38;5;129;01mis\u001B[39;00m \u001B[38;5;28;01mNone\u001B[39;00m:\n\u001B[1;32m-> 1412\u001B[0m         \u001B[38;5;28;01mreturn\u001B[39;00m func(ax, \u001B[38;5;241m*\u001B[39m\u001B[38;5;28mmap\u001B[39m(sanitize_sequence, args), \u001B[38;5;241m*\u001B[39m\u001B[38;5;241m*\u001B[39mkwargs)\n\u001B[0;32m   1414\u001B[0m     bound \u001B[38;5;241m=\u001B[39m new_sig\u001B[38;5;241m.\u001B[39mbind(ax, \u001B[38;5;241m*\u001B[39margs, \u001B[38;5;241m*\u001B[39m\u001B[38;5;241m*\u001B[39mkwargs)\n\u001B[0;32m   1415\u001B[0m     auto_label \u001B[38;5;241m=\u001B[39m (bound\u001B[38;5;241m.\u001B[39marguments\u001B[38;5;241m.\u001B[39mget(label_namer)\n\u001B[0;32m   1416\u001B[0m                   \u001B[38;5;129;01mor\u001B[39;00m bound\u001B[38;5;241m.\u001B[39mkwargs\u001B[38;5;241m.\u001B[39mget(label_namer))\n",
      "File \u001B[1;32mC:\\ProgramData\\Anaconda3\\envs\\wsi_analysis\\lib\\site-packages\\matplotlib\\axes\\_axes.py:5481\u001B[0m, in \u001B[0;36mAxes.imshow\u001B[1;34m(self, X, cmap, norm, aspect, interpolation, alpha, vmin, vmax, origin, extent, interpolation_stage, filternorm, filterrad, resample, url, **kwargs)\u001B[0m\n\u001B[0;32m   5474\u001B[0m \u001B[38;5;28mself\u001B[39m\u001B[38;5;241m.\u001B[39mset_aspect(aspect)\n\u001B[0;32m   5475\u001B[0m im \u001B[38;5;241m=\u001B[39m mimage\u001B[38;5;241m.\u001B[39mAxesImage(\u001B[38;5;28mself\u001B[39m, cmap, norm, interpolation,\n\u001B[0;32m   5476\u001B[0m                       origin, extent, filternorm\u001B[38;5;241m=\u001B[39mfilternorm,\n\u001B[0;32m   5477\u001B[0m                       filterrad\u001B[38;5;241m=\u001B[39mfilterrad, resample\u001B[38;5;241m=\u001B[39mresample,\n\u001B[0;32m   5478\u001B[0m                       interpolation_stage\u001B[38;5;241m=\u001B[39minterpolation_stage,\n\u001B[0;32m   5479\u001B[0m                       \u001B[38;5;241m*\u001B[39m\u001B[38;5;241m*\u001B[39mkwargs)\n\u001B[1;32m-> 5481\u001B[0m \u001B[43mim\u001B[49m\u001B[38;5;241;43m.\u001B[39;49m\u001B[43mset_data\u001B[49m\u001B[43m(\u001B[49m\u001B[43mX\u001B[49m\u001B[43m)\u001B[49m\n\u001B[0;32m   5482\u001B[0m im\u001B[38;5;241m.\u001B[39mset_alpha(alpha)\n\u001B[0;32m   5483\u001B[0m \u001B[38;5;28;01mif\u001B[39;00m im\u001B[38;5;241m.\u001B[39mget_clip_path() \u001B[38;5;129;01mis\u001B[39;00m \u001B[38;5;28;01mNone\u001B[39;00m:\n\u001B[0;32m   5484\u001B[0m     \u001B[38;5;66;03m# image does not already have clipping set, clip to axes patch\u001B[39;00m\n",
      "File \u001B[1;32mC:\\ProgramData\\Anaconda3\\envs\\wsi_analysis\\lib\\site-packages\\matplotlib\\image.py:724\u001B[0m, in \u001B[0;36m_ImageBase.set_data\u001B[1;34m(self, A)\u001B[0m\n\u001B[0;32m    718\u001B[0m \u001B[38;5;28;01mif\u001B[39;00m \u001B[38;5;28mself\u001B[39m\u001B[38;5;241m.\u001B[39m_A\u001B[38;5;241m.\u001B[39mndim \u001B[38;5;241m==\u001B[39m \u001B[38;5;241m3\u001B[39m:\n\u001B[0;32m    719\u001B[0m     \u001B[38;5;66;03m# If the input data has values outside the valid range (after\u001B[39;00m\n\u001B[0;32m    720\u001B[0m     \u001B[38;5;66;03m# normalisation), we issue a warning and then clip X to the bounds\u001B[39;00m\n\u001B[0;32m    721\u001B[0m     \u001B[38;5;66;03m# - otherwise casting wraps extreme values, hiding outliers and\u001B[39;00m\n\u001B[0;32m    722\u001B[0m     \u001B[38;5;66;03m# making reliable interpretation impossible.\u001B[39;00m\n\u001B[0;32m    723\u001B[0m     high \u001B[38;5;241m=\u001B[39m \u001B[38;5;241m255\u001B[39m \u001B[38;5;28;01mif\u001B[39;00m np\u001B[38;5;241m.\u001B[39missubdtype(\u001B[38;5;28mself\u001B[39m\u001B[38;5;241m.\u001B[39m_A\u001B[38;5;241m.\u001B[39mdtype, np\u001B[38;5;241m.\u001B[39minteger) \u001B[38;5;28;01melse\u001B[39;00m \u001B[38;5;241m1\u001B[39m\n\u001B[1;32m--> 724\u001B[0m     \u001B[38;5;28;01mif\u001B[39;00m \u001B[38;5;28;43mself\u001B[39;49m\u001B[38;5;241;43m.\u001B[39;49m\u001B[43m_A\u001B[49m\u001B[38;5;241;43m.\u001B[39;49m\u001B[43mmin\u001B[49m\u001B[43m(\u001B[49m\u001B[43m)\u001B[49m \u001B[38;5;241m<\u001B[39m \u001B[38;5;241m0\u001B[39m \u001B[38;5;129;01mor\u001B[39;00m high \u001B[38;5;241m<\u001B[39m \u001B[38;5;28mself\u001B[39m\u001B[38;5;241m.\u001B[39m_A\u001B[38;5;241m.\u001B[39mmax():\n\u001B[0;32m    725\u001B[0m         _log\u001B[38;5;241m.\u001B[39mwarning(\n\u001B[0;32m    726\u001B[0m             \u001B[38;5;124m'\u001B[39m\u001B[38;5;124mClipping input data to the valid range for imshow with \u001B[39m\u001B[38;5;124m'\u001B[39m\n\u001B[0;32m    727\u001B[0m             \u001B[38;5;124m'\u001B[39m\u001B[38;5;124mRGB data ([0..1] for floats or [0..255] for integers).\u001B[39m\u001B[38;5;124m'\u001B[39m\n\u001B[0;32m    728\u001B[0m         )\n\u001B[0;32m    729\u001B[0m         \u001B[38;5;28mself\u001B[39m\u001B[38;5;241m.\u001B[39m_A \u001B[38;5;241m=\u001B[39m np\u001B[38;5;241m.\u001B[39mclip(\u001B[38;5;28mself\u001B[39m\u001B[38;5;241m.\u001B[39m_A, \u001B[38;5;241m0\u001B[39m, high)\n",
      "File \u001B[1;32mC:\\ProgramData\\Anaconda3\\envs\\wsi_analysis\\lib\\site-packages\\numpy\\ma\\core.py:5700\u001B[0m, in \u001B[0;36mMaskedArray.min\u001B[1;34m(self, axis, out, fill_value, keepdims)\u001B[0m\n\u001B[0;32m   5698\u001B[0m \u001B[38;5;66;03m# No explicit output\u001B[39;00m\n\u001B[0;32m   5699\u001B[0m \u001B[38;5;28;01mif\u001B[39;00m out \u001B[38;5;129;01mis\u001B[39;00m \u001B[38;5;28;01mNone\u001B[39;00m:\n\u001B[1;32m-> 5700\u001B[0m     result \u001B[38;5;241m=\u001B[39m \u001B[38;5;28mself\u001B[39m\u001B[38;5;241m.\u001B[39mfilled(fill_value)\u001B[38;5;241m.\u001B[39mmin(\n\u001B[0;32m   5701\u001B[0m         axis\u001B[38;5;241m=\u001B[39maxis, out\u001B[38;5;241m=\u001B[39mout, \u001B[38;5;241m*\u001B[39m\u001B[38;5;241m*\u001B[39mkwargs)\u001B[38;5;241m.\u001B[39mview(\u001B[38;5;28mtype\u001B[39m(\u001B[38;5;28mself\u001B[39m))\n\u001B[0;32m   5702\u001B[0m     \u001B[38;5;28;01mif\u001B[39;00m result\u001B[38;5;241m.\u001B[39mndim:\n\u001B[0;32m   5703\u001B[0m         \u001B[38;5;66;03m# Set the mask\u001B[39;00m\n\u001B[0;32m   5704\u001B[0m         result\u001B[38;5;241m.\u001B[39m__setmask__(newmask)\n",
      "File \u001B[1;32mC:\\ProgramData\\Anaconda3\\envs\\wsi_analysis\\lib\\site-packages\\numpy\\core\\_methods.py:44\u001B[0m, in \u001B[0;36m_amin\u001B[1;34m(a, axis, out, keepdims, initial, where)\u001B[0m\n\u001B[0;32m     42\u001B[0m \u001B[38;5;28;01mdef\u001B[39;00m \u001B[38;5;21m_amin\u001B[39m(a, axis\u001B[38;5;241m=\u001B[39m\u001B[38;5;28;01mNone\u001B[39;00m, out\u001B[38;5;241m=\u001B[39m\u001B[38;5;28;01mNone\u001B[39;00m, keepdims\u001B[38;5;241m=\u001B[39m\u001B[38;5;28;01mFalse\u001B[39;00m,\n\u001B[0;32m     43\u001B[0m           initial\u001B[38;5;241m=\u001B[39m_NoValue, where\u001B[38;5;241m=\u001B[39m\u001B[38;5;28;01mTrue\u001B[39;00m):\n\u001B[1;32m---> 44\u001B[0m     \u001B[38;5;28;01mreturn\u001B[39;00m \u001B[43mumr_minimum\u001B[49m\u001B[43m(\u001B[49m\u001B[43ma\u001B[49m\u001B[43m,\u001B[49m\u001B[43m \u001B[49m\u001B[43maxis\u001B[49m\u001B[43m,\u001B[49m\u001B[43m \u001B[49m\u001B[38;5;28;43;01mNone\u001B[39;49;00m\u001B[43m,\u001B[49m\u001B[43m \u001B[49m\u001B[43mout\u001B[49m\u001B[43m,\u001B[49m\u001B[43m \u001B[49m\u001B[43mkeepdims\u001B[49m\u001B[43m,\u001B[49m\u001B[43m \u001B[49m\u001B[43minitial\u001B[49m\u001B[43m,\u001B[49m\u001B[43m \u001B[49m\u001B[43mwhere\u001B[49m\u001B[43m)\u001B[49m\n",
      "\u001B[1;31mValueError\u001B[0m: zero-size array to reduction operation minimum which has no identity"
     ]
    },
    {
     "data": {
      "text/plain": "<Figure size 432x288 with 1 Axes>",
      "image/png": "[encoded data removed]"
     },
     "metadata": {
      "needs_background": "light"
     },
     "output_type": "display_data"
    }
   ],
   "source": [
    "img = Image.open(r'\\\\shelter\\Kyu\\unstain2stain\\biomax_images\\unstained\\entire_binary_masks\\sk244a.png')\n",
    "img = np.array(img)\n",
    "binary_img = img > 0\n",
    "labeledbw = label(np.array(binary_img))\n",
    "plt.imshow(labeledbw.astype(np.int32))\n",
    "props = regionprops_table(labeledbw, properties = ('bbox','label'))\n",
    "# find bbox to crop\n",
    "b0 = props.get('bbox-0') #xmin\n",
    "b1 = props.get('bbox-1') #ymin\n",
    "b2 = props.get('bbox-2') #ymax\n",
    "b3 = props.get('bbox-3') #xmax\n",
    "xmin = np.min(b0)\n",
    "print(xmin)\n",
    "ymin = np.min(b1)\n",
    "print(ymin)\n",
    "ymax = np.max(b2)\n",
    "print(ymax)\n",
    "xmax = np.max(b3)\n",
    "print(xmax)\n",
    "newlabeledbw = labeledbw[ymin:ymax,xmin:xmax]\n",
    "size = newlabeledbw.shape\n",
    "plt.imshow(newlabeledbw.astype(np.int32))\n",
    "newprops = regionprops_table(newlabeledbw, properties = ('centroid','label'))\n",
    "c0 = newprops.get('centroid-0')\n",
    "c1 = newprops.get('centroid-1')\n",
    "c0 = [round(x / size[0],4) for x in c0]\n",
    "c1 = [round(x / size[1],4) for x in c1]\n",
    "bbox_tuple = list(zip(c0,c1))\n",
    "bbox_tuple"
   ],
   "metadata": {
    "collapsed": false
   }
  },
  {
   "cell_type": "code",
   "execution_count": 81,
   "outputs": [],
   "source": [
    "# for stained:\n",
    "def stained_crop(stain_ndpi_filepath, general_save_path, binary_mask_path):\n",
    "    slide = openslide.open_slide(stain_ndpi_filepath)\n",
    "    tmp = os.path.basename(stain_ndpi_filepath)\n",
    "    ndpi_name = os.path.splitext(tmp)[0]\n",
    "\n",
    "# since image_resized is read with downsample, now find the coordinates of the bounding box for each image\n",
    "# to do that, first create a binary mask (which is already found in binary_image_path and then use label to find bbox of each label (image).\n",
    "\n",
    "    binary_img = Image.open(binary_mask_path)\n",
    "    labeledbw = label(np.array(binary_img))\n",
    "\n",
    "    for id in range(1,np.max(labeledbw)):\n",
    "        bwtarget = labeledbw == id\n",
    "        ind = np.argwhere(bwtarget)\n",
    "        xx_min = np.min(ind[:,1])\n",
    "        xx_max = np.max(ind[:,1])\n",
    "        yy_min = np.min(ind[:,0])\n",
    "        yy_max = np.max(ind[:,0])\n",
    "        x_min = round(xx_min*16) #downsample factor used to create binary_mask in binary_mask_path was 16\n",
    "        x_max = round(xx_max*16)\n",
    "        y_min = round(yy_min*16)\n",
    "        y_max = round(yy_max*16)\n",
    "        location = (x_min,y_min)\n",
    "        dim = (x_max-x_min,y_max-y_min)\n",
    "        fin_image = slide.read_region(location= location,level=0,size=dim)\n",
    "        fin_image = np.array(fin_image)\n",
    "        save_path = os.path.join(general_save_path,ndpi_name)\n",
    "        save_path = os.path.join(save_path, ndpi_name + str(id - 1) + \".png\")\n",
    "        Image.fromarray(fin_image).save(save_path)\n",
    "    print(\"Image saved successfully!\")"
   ],
   "metadata": {
    "collapsed": false
   }
  },
  {
   "cell_type": "markdown",
   "source": [],
   "metadata": {
    "collapsed": false
   }
  },
  {
   "cell_type": "code",
   "execution_count": 82,
   "outputs": [
    {
     "name": "stdout",
     "output_type": "stream",
     "text": [
      "Image saved successfully!\n"
     ]
    }
   ],
   "source": [
    "stained_crop(r'\\\\shelter\\Kyu\\unstain2stain\\biomax_images\\stained\\sk244ahe.ndpi', r'\\\\shelter\\Kyu\\unstain2stain\\biomax_images\\stained\\images', r'\\\\shelter\\Kyu\\unstain2stain\\biomax_images\\stained\\entire_binary_masks\\sk244a.png')"
   ],
   "metadata": {
    "collapsed": false
   }
  },
  {
   "cell_type": "code",
   "execution_count": null,
   "outputs": [],
   "source": [
    "stained_crop(r'\\\\shelter\\Kyu\\unstain2stain\\biomax_images\\stained\\sk481he.ndpi', r'\\\\shelter\\Kyu\\unstain2stain\\biomax_images\\stained\\images', r'\\\\shelter\\Kyu\\unstain2stain\\biomax_images\\stained\\entire_binary_masks\\sk481.png')"
   ],
   "metadata": {
    "collapsed": false
   }
  },
  {
   "cell_type": "code",
   "execution_count": null,
   "outputs": [],
   "source": [
    "stained_crop(r'\\\\shelter\\Kyu\\unstain2stain\\biomax_images\\stained\\skn1001he.ndpi', r'\\\\shelter\\Kyu\\unstain2stain\\biomax_images\\stained\\images', r'\\\\shelter\\Kyu\\unstain2stain\\biomax_images\\stained\\entire_binary_masks\\skn1001.png')"
   ],
   "metadata": {
    "collapsed": false
   }
  },
  {
   "cell_type": "code",
   "execution_count": 5,
   "outputs": [],
   "source": [
    "def unstained_crop(xml_filepath, unstain_ndpi_filepath, binary_mask_filepath, general_save_path):\n",
    "    \"\"\"\n",
    "    Function to crop the unstained ndpi to individual tissue png files in order from top left to bottom right.\n",
    "    input: xml file path, ndpi file path of the unstained version. Also need binary mask of the same ndpi file path, which can simply be generated by downsampling the raw file (done elsewhere, make sure to know downsample factor of the binary mask)\n",
    "    output: the cropped images\n",
    "    \"\"\"\n",
    "    coord_df = xml_to_df(xml_filepath)\n",
    "    slide = openslide.open_slide(unstain_ndpi_filepath)\n",
    "    rgb_dim = slide.dimensions\n",
    "    print(\"Dimension of level 0 of the unstained image is: \",rgb_dim)\n",
    "    slide_level_dim = slide.level_dimensions\n",
    "    num_levels = len(slide_level_dim)\n",
    "    print(\"Number of levels in this unstained image are:\",num_levels)\n",
    "    factors = slide.level_downsamples\n",
    "    print(\"For unstained image, each level is downsampled by:\",factors)\n",
    "    tmp = os.path.basename(xml_filepath)\n",
    "    ndpi_name = os.path.splitext(tmp)[0]\n",
    "    binary_img = Image.open(binary_mask_filepath)\n",
    "    # binary_img = Image.open(r'\\\\shelter\\Kyu\\unstain2stain\\biomax_images\\stained\\entire_binary_masks\\sk244a.png')\n",
    "    labeledbw = label(np.array(binary_img))\n",
    "    props = regionprops_table(labeledbw, properties = ('centroid','label'))\n",
    "    c0 = props.get('centroid-0')\n",
    "    c1 = props.get('centroid-1')\n",
    "    labels = props.get('label')\n",
    "    centroid_tuple = list(zip(c0,c1,labels))\n",
    "    label_list = order_centroid(centroid_tuple)\n",
    "\n",
    "    for idx, row in coord_df.iterrows():\n",
    "        xx = row.X.astype('int')\n",
    "        yy = row.Y.astype('int')\n",
    "        x_min = np.min(xx)\n",
    "        x_max = np.max(xx)\n",
    "        y_min = np.min(yy)\n",
    "        y_max = np.max(yy)\n",
    "        location = (x_min,y_min)\n",
    "        dim = (x_max-x_min,y_max-y_min)\n",
    "        image_resized = slide.read_region(location= location,level=0,size=dim)\n",
    "        image_resized = np.array(image_resized)\n",
    "        final_img = Image.fromarray(image_resized)\n",
    "\n",
    "        save_path = os.path.join(general_save_path,ndpi_name)\n",
    "        save_path = os.path.join(save_path, ndpi_name + str(label_list[idx]) + \".png\")\n",
    "        final_img.save(save_path)\n",
    "\n",
    "    print(\"Images saved successfully!\")"
   ],
   "metadata": {
    "collapsed": false
   }
  },
  {
   "cell_type": "code",
   "execution_count": 6,
   "outputs": [
    {
     "name": "stdout",
     "output_type": "stream",
     "text": [
      "Dimension of level 0 of the unstained image is:  (199680, 98560)\n",
      "Number of levels in this unstained image are: 8\n",
      "For unstained image, each level is downsampled by: (1.0, 2.0, 4.0, 8.0, 16.0, 32.0, 64.0, 128.0)\n",
      "Images saved successfully!\n"
     ]
    }
   ],
   "source": [
    "unstained_crop(r'\\\\shelter\\Kyu\\unstain2stain\\biomax_images\\unstained\\sk244a.xml', r'\\\\shelter\\Kyu\\unstain2stain\\biomax_images\\unstained\\sk244a.ndpi',r'\\\\shelter\\Kyu\\unstain2stain\\biomax_images\\unstained\\images')"
   ],
   "metadata": {
    "collapsed": false
   }
  },
  {
   "cell_type": "code",
   "execution_count": 7,
   "outputs": [
    {
     "name": "stdout",
     "output_type": "stream",
     "text": [
      "Dimension of level 0 of the unstained image is:  (184320, 98560)\n",
      "Number of levels in this unstained image are: 8\n",
      "For unstained image, each level is downsampled by: (1.0, 2.0, 4.0, 8.0, 16.0, 32.0, 64.0, 128.0)\n",
      "Images saved successfully!\n"
     ]
    }
   ],
   "source": [
    "unstained_crop(r'\\\\shelter\\Kyu\\unstain2stain\\biomax_images\\unstained\\sk481.xml', r'\\\\shelter\\Kyu\\unstain2stain\\biomax_images\\unstained\\sk481.ndpi',r'\\\\shelter\\Kyu\\unstain2stain\\biomax_images\\unstained\\images')"
   ],
   "metadata": {
    "collapsed": false
   }
  },
  {
   "cell_type": "code",
   "execution_count": 8,
   "outputs": [
    {
     "name": "stdout",
     "output_type": "stream",
     "text": [
      "Dimension of level 0 of the unstained image is:  (192000, 98560)\n",
      "Number of levels in this unstained image are: 8\n",
      "For unstained image, each level is downsampled by: (1.0, 2.0, 4.0, 8.0, 16.0, 32.0, 64.0, 128.0)\n",
      "Images saved successfully!\n"
     ]
    }
   ],
   "source": [
    "unstained_crop(r'\\\\shelter\\Kyu\\unstain2stain\\biomax_images\\unstained\\skn1001.xml', r'\\\\shelter\\Kyu\\unstain2stain\\biomax_images\\unstained\\skn1001.ndpi',r'\\\\shelter\\Kyu\\unstain2stain\\biomax_images\\unstained\\images')"
   ],
   "metadata": {
    "collapsed": false
   }
  },
  {
   "cell_type": "code",
   "execution_count": null,
   "outputs": [],
   "source": [],
   "metadata": {
    "collapsed": false
   }
  },
  {
   "cell_type": "code",
   "execution_count": 3,
   "outputs": [],
   "source": [
    "# function to pad images to same size:\n",
    "def pad_images_to_same_size(images):\n",
    "    \"\"\"\n",
    "    :param images: sequence of images\n",
    "    :return: list of images padded so that all images have same width and height (max width and height are used)\n",
    "    \"\"\"\n",
    "    width_max = 0\n",
    "    height_max = 0\n",
    "    for img in images:\n",
    "        h, w = img.shape[:2]\n",
    "        width_max = max(width_max, w)\n",
    "        height_max = max(height_max, h)\n",
    "\n",
    "    images_padded = []\n",
    "    for img in images:\n",
    "        h, w = img.shape[:2]\n",
    "        diff_vert = height_max - h\n",
    "        pad_top = diff_vert//2\n",
    "        pad_bottom = diff_vert - pad_top\n",
    "        diff_hori = width_max - w\n",
    "        pad_left = diff_hori//2\n",
    "        pad_right = diff_hori - pad_left\n",
    "        img_padded = cv2.copyMakeBorder(img, pad_top, pad_bottom, pad_left, pad_right, cv2.BORDER_CONSTANT, value=(255,255,255))\n",
    "        assert img_padded.shape[:2] == (height_max, width_max)\n",
    "        images_padded.append(img_padded)\n",
    "\n",
    "    return images_padded"
   ],
   "metadata": {
    "collapsed": false
   }
  },
  {
   "cell_type": "code",
   "execution_count": 4,
   "outputs": [],
   "source": [
    "pad_images_to_same_size = _time(pad_images_to_same_size)\n",
    "optical_flow_tvl1 = _time(optical_flow_tvl1)"
   ],
   "metadata": {
    "collapsed": false
   }
  },
  {
   "cell_type": "code",
   "execution_count": null,
   "outputs": [],
   "source": [
    "# pad the two images:\n"
   ],
   "metadata": {
    "collapsed": false
   }
  },
  {
   "cell_type": "markdown",
   "source": [
    "### Now register the two padded images:"
   ],
   "metadata": {
    "collapsed": false
   }
  },
  {
   "cell_type": "code",
   "execution_count": null,
   "outputs": [],
   "source": [
    "def registrate_two_images(reference_image_path, moving_image_path, save_path):\n",
    "    \"\"\"\n",
    "    Note: The order of the files saved in the ref_img_path and mov_img_path must be the same so that you are registering the same images!\n",
    "    \"\"\"\n",
    "    ref_img_path = [_ for _ in os.listdir(reference_image_path) if _.endswith(\".png\")]\n",
    "    ref_img_path_complete = [os.path.join(ref_img_path, x) for x in ref_img_path]\n",
    "    ref_img_path_1 = [x.replace('.png','') for x in ref_img_path]\n",
    "\n",
    "    mov_img_path = [_ for _ in os.listdir(moving_image_path) if _.endswith(\".png\")]\n",
    "    # mov_img_path_complete = [os.path.join(mov_img_path, x) for x in mov_img_path]\n",
    "    # mov_img_path_1 = [x.replace('.png','') for x in mov_img_path]\n",
    "\n",
    "    if int(len(ref_img_path)) != int(len(mov_img_path)):\n",
    "        print(\"Number of images in reference and moving file paths are not equal, please fix and try again!\")\n",
    "        return\n",
    "\n",
    "    num = int(len(ref_img_path))\n",
    "    start = time()\n",
    "    for idx in range(num,len(ref_img_path_complete)):\n",
    "        if idx == len(ref_img_path_complete) - 1:\n",
    "            break\n",
    "        ref_img = np.array(Image.open(ref_img_path))\n",
    "        mov_img = np.array(Image.open(mov_img_path))\n",
    "        ref_img_g = rgb2gray(ref_img)\n",
    "        mov_img_g = rgb2gray(mov_img)\n",
    "        v, u = optical_flow_tvl1(ref_img_g, mov_img_g)\n",
    "        nr, nc = ref_img_g.shape\n",
    "        row_coords, col_coords = np.meshgrid(np.arange(nr), np.arange(nc),\n",
    "                                             indexing='ij')\n",
    "        mov_img_warp_ra =[]\n",
    "        for i in range(3):\n",
    "            mov_img_warp = warp(mov_img[:,:,i], np.array([row_coords + v, col_coords + u]),mode='edge')\n",
    "            mov_img_warp_ra.append(mov_img_warp)\n",
    "        r = np.array(mov_img_warp_ra[0]*255).astype('uint8')\n",
    "        g = np.array(mov_img_warp_ra[1]*255).astype('uint8')\n",
    "        b = np.array(mov_img_warp_ra[2]*255).astype('uint8')\n",
    "        rgb = np.stack([r,g,b],axis=2)\n",
    "        reg_img = Image.fromarray(rgb)\n",
    "        reg_img.save(save_path + str(ref_img_path_1[idx]) + '.png')\n",
    "\n",
    "    end = time()\n",
    "    print(\"time it took to register: \"+  str((end-start)/60) + \" minutes\")\n"
   ],
   "metadata": {
    "collapsed": false
   }
  },
  {
   "cell_type": "code",
   "execution_count": null,
   "outputs": [],
   "source": [],
   "metadata": {
    "collapsed": false
   }
  }
 ],
 "metadata": {
  "kernelspec": {
   "display_name": "Python 3",
   "language": "python",
   "name": "python3"
  },
  "language_info": {
   "codemirror_mode": {
    "name": "ipython",
    "version": 2
   },
   "file_extension": ".py",
   "mimetype": "text/x-python",
   "name": "python",
   "nbconvert_exporter": "python",
   "pygments_lexer": "ipython2",
   "version": "2.7.6"
  }
 },
 "nbformat": 4,
 "nbformat_minor": 0
}
