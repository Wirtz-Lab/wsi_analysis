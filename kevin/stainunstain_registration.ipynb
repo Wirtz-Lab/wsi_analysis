{
 "cells": [
  {
   "cell_type": "markdown",
   "source": [
    "## First create separate images from each wsi image, with annotations in the unstained folder. crop the images (total of 24 annotation, so 24 images per whole slide) and save them first in a different folder in same path. Then pad the images and then save them. Then using those padded images, register them to one another (doesn't matter which way since there are only two images)\n",
    "## the path is in: \\\\shelter\\Kyu\\unstain2stain\\biomax_images"
   ],
   "metadata": {
    "collapsed": false
   }
  },
  {
   "cell_type": "code",
   "execution_count": 1,
   "metadata": {
    "collapsed": true
   },
   "outputs": [],
   "source": [
    "import numpy as np\n",
    "import time\n",
    "from PIL import Image\n",
    "Image.MAX_IMAGE_PIXELS = None\n",
    "import cv2\n",
    "import os\n",
    "import pandas as pd\n",
    "from matplotlib import pyplot as plt\n",
    "from skimage.color import rgb2gray\n",
    "from skimage.transform import warp\n",
    "from skimage.registration import optical_flow_tvl1, optical_flow_ilk\n",
    "from glob import glob\n",
    "import xml.etree.ElementTree as ET\n",
    "import openslide\n",
    "from skimage.measure import label\n",
    "from skimage.morphology import remove_small_objects, remove_small_holes, binary_closing, disk"
   ]
  },
  {
   "cell_type": "code",
   "execution_count": 2,
   "outputs": [],
   "source": [
    "from time import time\n",
    "def _time(f):\n",
    "    def wrapper(*args,**kwargs):\n",
    "        start=time()\n",
    "        r=f(*args,**kwargs)\n",
    "        end=time()\n",
    "        print(\"%s timed %f\" %(f.__name__,end-start))\n",
    "        return r\n",
    "    return wrapper"
   ],
   "metadata": {
    "collapsed": false
   }
  },
  {
   "cell_type": "code",
   "execution_count": 3,
   "outputs": [],
   "source": [
    "stain_src_path = r'\\\\shelter\\Kyu\\unstain2stain\\biomax_images\\stained'\n",
    "stain_img_path = glob(os.path.join(stain_src_path,'*.ndpi'))\n",
    "unstain_src_path = r'\\\\shelter\\Kyu\\unstain2stain\\biomax_images\\unstained'\n",
    "unstain_img_path = glob(os.path.join(unstain_src_path,'*.ndpi'))\n",
    "save_mask_img_name = [os.path.basename(_) for _ in unstain_img_path]\n",
    "save_mask_img_name = [_.replace('.ndpi','') for _ in save_mask_img_name]\n",
    "pth = r'\\\\shelter\\Kyu\\unstain2stain\\biomax_images\\stained\\masks'\n",
    "pth1 = r'\\\\shelter\\Kyu\\unstain2stain\\biomax_images\\stained\\entire_binary_masks'\n",
    "pth2 = r'\\\\shelter\\Kyu\\unstain2stain\\biomax_images\\stained\\images'"
   ],
   "metadata": {
    "collapsed": false
   }
  },
  {
   "cell_type": "code",
   "execution_count": null,
   "outputs": [],
   "source": [
    "# use scikit learn label to find connected objects in stained image:\n",
    "\n",
    "for i in range(len(stain_img_path)):\n",
    "    wsi_img = openslide.OpenSlide(stain_img_path[i])\n",
    "    # target_level = wsi_img.get_best_level_for_downsample(1)\n",
    "    target_level = 4\n",
    "    wsi_img = wsi_img.read_region(location=(0,0),level=target_level,size=wsi_img.level_dimensions[target_level])\n",
    "    wsi_ra = (150 < np.array(wsi_img)[:, :, 0]) & (np.array(wsi_img)[:, :, 1] < 210)\n",
    "    binary_mask = wsi_ra\n",
    "    binary_mask = binary_closing(binary_mask,footprint = np.ones((15,15)))\n",
    "    binary_mask = remove_small_objects(binary_mask,20000)\n",
    "    dspth = os.path.join(pth1, save_mask_img_name[i] + \".png\")\n",
    "    Image.fromarray(binary_mask).save(dspth)\n",
    "    labeled_binary_mask = label(binary_mask)\n",
    "    num_labels = np.max(labeled_binary_mask)\n",
    "    for idx in range(num_labels+1):\n",
    "        target_tissue = idx\n",
    "        target_binary_mask = labeled_binary_mask == target_tissue\n",
    "        ind = np.argwhere(target_binary_mask)\n",
    "        margin = 0\n",
    "        bbox = [np.min(ind[:,0]),np.min(ind[:,1]),np.max(ind[:,0]),np.max(ind[:,1])] #[miny,minx,maxy,maxx]\n",
    "        bboxm = [bbox[0]-margin,bbox[1]-margin,bbox[2]+margin,bbox[3]+margin]\n",
    "        bwcropm = target_binary_mask[bboxm[0]:bboxm[2],bboxm[1]:bboxm[3]]\n",
    "        wsi_img_crop = np.array(wsi_img)[bboxm[0]:bboxm[2],bboxm[1]:bboxm[3]]\n",
    "        dstpth = os.path.join(pth,save_mask_img_name[i] + \"_\" + str(idx) + \".png\")\n",
    "        Image.fromarray(bwcropm).save(dstpth)\n",
    "        dstpth1 = os.path.join(pth2,save_mask_img_name[i] + \"_\" + str(idx) + \".png\")\n",
    "        Image.fromarray(wsi_img_crop).save(dstpth1)"
   ],
   "metadata": {
    "collapsed": false,
    "pycharm": {
     "is_executing": true
    }
   }
  },
  {
   "cell_type": "code",
   "execution_count": 4,
   "outputs": [],
   "source": [
    "# use xml to find images:\n",
    "def xml_to_df(xml_path):\n",
    "    tree = ET.parse(xml_path)\n",
    "    root = tree.getroot()\n",
    "    append_df = []\n",
    "    for index, Annotation in enumerate(root.iter(\"Annotation\")):\n",
    "        for Region in Annotation.iter('Region'):\n",
    "            x = np.array([Vertex.get('X') for Vertex in Region.iter('Vertex')])\n",
    "            y = np.array([Vertex.get('Y') for Vertex in Region.iter('Vertex')])\n",
    "            id = np.array([int(Region.get('Id'))])\n",
    "            classnames = index + 1\n",
    "            coord_dict = {\"ClassNames\": [classnames], \"X\": [x], \"Y\": [y], \"ID\": [id]}\n",
    "            df = pd.DataFrame(data = coord_dict)\n",
    "            df.ID = df.ID.astype(int)\n",
    "            append_df.append(df)\n",
    "    coord_df = pd.concat(append_df).reset_index(drop=True)\n",
    "    return(coord_df)"
   ],
   "metadata": {
    "collapsed": false
   }
  },
  {
   "cell_type": "code",
   "execution_count": 10,
   "outputs": [],
   "source": [
    "# Then input original image and the coord_df to output the mask:\n",
    "def create_mask_multi_annot(xml_path, image_path, downsample_factor):\n",
    "    slide = openslide.open_slide(image_path)\n",
    "    target_level = slide.get_best_level_for_downsample(downsample_factor)\n",
    "    target_dim = slide.level_dimensions[target_level]\n",
    "    rsf = [x/y for x,y in zip(slide.dimensions,target_dim)] #resize factor\n",
    "    mask = np.zeros((target_dim[1],target_dim[0]), dtype = np.uint8)\n",
    "    coord_df = xml_to_df(xml_path) #use function above\n",
    "    for idx, row in coord_df.iterrows():\n",
    "        xx = row.X.astype(float).astype('int32')\n",
    "        yy = row.Y.astype(float).astype('int32')\n",
    "        contours = np.array(list(zip(xx,yy)))\n",
    "        contours = contours/rsf[0]\n",
    "        mask = cv2.fillPoly(mask, pts=[contours.astype(int)], color=255)\n",
    "    return mask\n",
    "\n",
    "# # cv2 method:\n",
    "# # Input mask and create binary mask and then output label of connected regions:\n",
    "# def create_binary_mask_label(xml_path, image_path):\n",
    "#     mask = create_mask_multi_annot(xml_path, image_path, downsample_factor = 2)\n",
    "#     binary_mask = mask > 0\n",
    "#     _, binary_mask_label = cv2.connectedComponents(binary_mask.astype(np.uint8))\n",
    "#     return binary_mask_label #returns label of connected regions"
   ],
   "metadata": {
    "collapsed": false
   }
  },
  {
   "cell_type": "code",
   "execution_count": 16,
   "outputs": [],
   "source": [
    "pth = r'\\\\shelter\\Kyu\\unstain2stain\\biomax_images\\unstained\\masks'\n",
    "pth1 = r'\\\\shelter\\Kyu\\unstain2stain\\biomax_images\\unstained\\entire_binary_mask'\n",
    "pth2 = r'\\\\shelter\\Kyu\\unstain2stain\\biomax_images\\unstained\\images'\n",
    "unstain_xml_path = glob(os.path.join(unstain_src_path,'*.xml'))\n",
    "save_mask_img_name = [os.path.basename(_) for _ in unstain_xml_path]\n",
    "save_mask_img_name = [_.replace('.xml','') for _ in save_mask_img_name]"
   ],
   "metadata": {
    "collapsed": false
   }
  },
  {
   "cell_type": "code",
   "execution_count": 17,
   "outputs": [],
   "source": [
    "for j in range(len(unstain_xml_path)):\n",
    "    mask = create_mask_multi_annot(xml_path = unstain_xml_path[j], image_path = unstain_img_path[j], downsample_factor = 2)\n",
    "    tmp_dstpth = r'\\\\shelter\\Kyu\\unstain2stain\\biomax_images\\unstained\\entire_binary_mask'\n",
    "    dstpth = os.path.join(tmp_dstpth,str(save_mask_img_name[j]) + \".png\")\n",
    "    Image.fromarray(mask).save(dstpth)"
   ],
   "metadata": {
    "collapsed": false
   }
  },
  {
   "cell_type": "code",
   "execution_count": 4,
   "outputs": [],
   "source": [
    "#multiply entire_binary_mask to each image and then crop based on connected objects:\n",
    "entire_binary_mask_images = glob(os.path.join(pth1,'*.png'))\n",
    "save_mask_img_name = [os.path.basename(_) for _ in unstain_img_path]\n",
    "save_mask_img_name = [_.replace('.ndpi','') for _ in save_mask_img_name]"
   ],
   "metadata": {
    "collapsed": false
   }
  },
  {
   "cell_type": "code",
   "execution_count": null,
   "outputs": [],
   "source": [
    "# Take entire binary mask and label them and crop to make mask for individual label. Read image with downsample = 2 and coordinate should match to multiply them and get cropped image.\n",
    "pth = r'\\\\shelter\\Kyu\\unstain2stain\\biomax_images\\unstained\\masks'\n",
    "pth1 = r'\\\\shelter\\Kyu\\unstain2stain\\biomax_images\\unstained\\images'\n",
    "for i in range(len(entire_binary_mask_images)):\n",
    "    binary_mask = Image.open(entire_binary_mask_images[i])\n",
    "    labeled_binary_mask = label(np.array(binary_mask))\n",
    "    num_labels = np.max(labeled_binary_mask)\n",
    "    wsi_img = openslide.OpenSlide(unstain_img_path[i])\n",
    "    target_level = wsi_img.get_best_level_for_downsample(2)\n",
    "    wsi_img = wsi_img.read_region(location=(0,0),level=target_level,size=wsi_img.level_dimensions[target_level])\n",
    "    wsi_img = np.array(wsi_img)\n",
    "    for idx in range(num_labels+1):\n",
    "        target_tissue = idx\n",
    "        target_binary_mask = labeled_binary_mask == target_tissue\n",
    "        ind = np.argwhere(target_binary_mask)\n",
    "        margin = 0\n",
    "        bbox = [np.min(ind[:,0]),np.min(ind[:,1]),np.max(ind[:,0]),np.max(ind[:,1])] #[miny,minx,maxy,maxx]\n",
    "        bboxm = [bbox[0]-margin,bbox[1]-margin,bbox[2]+margin,bbox[3]+margin]\n",
    "        bwcropm = np.array(target_binary_mask)[bboxm[0]:bboxm[2],bboxm[1]:bboxm[3]]\n",
    "        dstpth = os.path.join(pth,save_mask_img_name[i] + \"_\" + str(idx) + \".png\")\n",
    "        Image.fromarray(bwcropm).save(dstpth)\n",
    "        imcropm = wsi_img[bboxm[0]:bboxm[2],bboxm[1]:bboxm[3]]\n",
    "        dstpth1 = os.path.join(pth1,save_mask_img_name[i] + \"_\" + str(idx) + \".png\")\n",
    "        Image.fromarray(imcropm).save(dstpth1)"
   ],
   "metadata": {
    "collapsed": false,
    "pycharm": {
     "is_executing": true
    }
   }
  },
  {
   "cell_type": "code",
   "execution_count": null,
   "outputs": [],
   "source": [
    "# function to pad images to same size:\n",
    "def pad_images_to_same_size(images):\n",
    "    \"\"\"\n",
    "    :param images: sequence of images\n",
    "    :return: list of images padded so that all images have same width and height (max width and height are used)\n",
    "    \"\"\"\n",
    "    width_max = 0\n",
    "    height_max = 0\n",
    "    for img in images:\n",
    "        h, w = img.shape[:2]\n",
    "        width_max = max(width_max, w)\n",
    "        height_max = max(height_max, h)\n",
    "\n",
    "    images_padded = []\n",
    "    for img in images:\n",
    "        h, w = img.shape[:2]\n",
    "        diff_vert = height_max - h\n",
    "        pad_top = diff_vert//2\n",
    "        pad_bottom = diff_vert - pad_top\n",
    "        diff_hori = width_max - w\n",
    "        pad_left = diff_hori//2\n",
    "        pad_right = diff_hori - pad_left\n",
    "        img_padded = cv2.copyMakeBorder(img, pad_top, pad_bottom, pad_left, pad_right, cv2.BORDER_CONSTANT, value=(255,255,255))\n",
    "        assert img_padded.shape[:2] == (height_max, width_max)\n",
    "        images_padded.append(img_padded)\n",
    "\n",
    "    return images_padded"
   ],
   "metadata": {
    "collapsed": false
   }
  },
  {
   "cell_type": "code",
   "execution_count": null,
   "outputs": [],
   "source": [
    "pad_images_to_same_size = _time(pad_images_to_same_size)\n",
    "optical_flow_tvl1 = _time(optical_flow_tvl1)"
   ],
   "metadata": {
    "collapsed": false
   }
  },
  {
   "cell_type": "code",
   "execution_count": null,
   "outputs": [],
   "source": [
    "# another side job: register each section of \\\\shelter\\Kyu\\unstain2stain\\biomax_images\n",
    "\n",
    "#first create registered image of two adjacent images manually:\n",
    "img_files_path = [_ for _ in os.listdir(r'\\\\shelter\\Kyu\\unstain2stain\\biomax_images') if _.endswith(\".jpg\")]\n",
    "img_files_path_complete = [os.path.join(r'\\\\shelter\\Kyu\\unstain2stain\\biomax_images', x) for x in img_files_path]\n",
    "img_files_path_1 = [x.replace('.jpg','') for x in img_files_path]\n",
    "\n",
    "num = int(len(img_files_path)/2) - 1 #idx = 16, or 17th image\n",
    "num_plus1 = num + 1 #idx = 17, or 18th image\n",
    "num_minus1 = num - 1 #idx = 15, or 16th image\n",
    "\n",
    "start = time()\n",
    "\n",
    "ref_img_path = img_files_path_complete[num]\n",
    "mov_img_path = img_files_path_complete[num_plus1]\n",
    "ref_img = np.array(Image.open(ref_img_path))\n",
    "mov_img = np.array(Image.open(mov_img_path))\n",
    "\n",
    "ref_img_g = rgb2gray(ref_img)\n",
    "mov_img_g = rgb2gray(mov_img)\n",
    "v, u = optical_flow_tvl1(ref_img_g, mov_img_g)\n",
    "nr, nc = ref_img_g.shape\n",
    "row_coords, col_coords = np.meshgrid(np.arange(nr), np.arange(nc),\n",
    "                                     indexing='ij')\n",
    "end = time()\n",
    "\n",
    "start = time()\n",
    "\n",
    "mov_img_warp_ra =[]\n",
    "for i in range(3):\n",
    "    mov_img_warp = warp(mov_img[:,:,i], np.array([row_coords + v, col_coords + u]),mode='edge')\n",
    "    mov_img_warp_ra.append(mov_img_warp)\n",
    "\n",
    "r = np.array(mov_img_warp_ra[0]*255).astype('uint8')\n",
    "g = np.array(mov_img_warp_ra[1]*255).astype('uint8')\n",
    "b = np.array(mov_img_warp_ra[2]*255).astype('uint8')\n",
    "rgb = np.stack([r,g,b],axis=2)\n",
    "reg_img = Image.fromarray(rgb)\n",
    "reg_img.save(r'\\\\fatherserverdw\\kyuex\\image\\CLUE\\3D study\\he\\CoarseRegIM\\run4_16xr_jpg_rszfc1_padsz1000\\opticalflow_registered_image\\\\' + str(img_files_path_1[num_plus1]) + '.jpg')\n",
    "\n",
    "end = time()\n",
    "print(\"time it took to register: \"+  str(end-start) + \" seconds\")"
   ],
   "metadata": {
    "collapsed": false
   }
  },
  {
   "cell_type": "code",
   "execution_count": null,
   "outputs": [],
   "source": [],
   "metadata": {
    "collapsed": false
   }
  }
 ],
 "metadata": {
  "kernelspec": {
   "display_name": "Python 3",
   "language": "python",
   "name": "python3"
  },
  "language_info": {
   "codemirror_mode": {
    "name": "ipython",
    "version": 2
   },
   "file_extension": ".py",
   "mimetype": "text/x-python",
   "name": "python",
   "nbconvert_exporter": "python",
   "pygments_lexer": "ipython2",
   "version": "2.7.6"
  }
 },
 "nbformat": 4,
 "nbformat_minor": 0
}
