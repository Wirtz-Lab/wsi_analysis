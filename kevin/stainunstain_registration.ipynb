{
 "cells": [
  {
   "cell_type": "code",
   "execution_count": 2,
   "metadata": {
    "collapsed": true
   },
   "outputs": [],
   "source": [
    "import numpy as np\n",
    "import time\n",
    "from PIL import Image\n",
    "Image.MAX_IMAGE_PIXELS = None\n",
    "import cv2\n",
    "import os\n",
    "from matplotlib import pyplot as plt\n",
    "from skimage.color import rgb2gray\n",
    "from skimage.transform import warp\n",
    "from skimage.registration import optical_flow_tvl1, optical_flow_ilk"
   ]
  },
  {
   "cell_type": "code",
   "execution_count": null,
   "outputs": [],
   "source": [
    "from time import time\n",
    "def _time(f):\n",
    "    def wrapper(*args,**kwargs):\n",
    "        start=time()\n",
    "        r=f(*args,**kwargs)\n",
    "        end=time()\n",
    "        print(\"%s timed %f\" %(f.__name__,end-start))\n",
    "        return r\n",
    "    return wrapper\n"
   ],
   "metadata": {
    "collapsed": false
   }
  },
  {
   "cell_type": "code",
   "execution_count": 3,
   "outputs": [],
   "source": [
    "# function to pad images to same size:\n",
    "def pad_images_to_same_size(images):\n",
    "    \"\"\"\n",
    "    :param images: sequence of images\n",
    "    :return: list of images padded so that all images have same width and height (max width and height are used)\n",
    "    \"\"\"\n",
    "    width_max = 0\n",
    "    height_max = 0\n",
    "    for img in images:\n",
    "        h, w = img.shape[:2]\n",
    "        width_max = max(width_max, w)\n",
    "        height_max = max(height_max, h)\n",
    "\n",
    "    images_padded = []\n",
    "    for img in images:\n",
    "        h, w = img.shape[:2]\n",
    "        diff_vert = height_max - h\n",
    "        pad_top = diff_vert//2\n",
    "        pad_bottom = diff_vert - pad_top\n",
    "        diff_hori = width_max - w\n",
    "        pad_left = diff_hori//2\n",
    "        pad_right = diff_hori - pad_left\n",
    "        img_padded = cv2.copyMakeBorder(img, pad_top, pad_bottom, pad_left, pad_right, cv2.BORDER_CONSTANT, value=(255,255,255))\n",
    "        assert img_padded.shape[:2] == (height_max, width_max)\n",
    "        images_padded.append(img_padded)\n",
    "\n",
    "    return images_padded"
   ],
   "metadata": {
    "collapsed": false
   }
  },
  {
   "cell_type": "code",
   "execution_count": 4,
   "outputs": [],
   "source": [
    "pad_images_to_same_size = _time(pad_images_to_same_size)\n",
    "optical_flow_tvl1 = _time(optical_flow_tvl1)"
   ],
   "metadata": {
    "collapsed": false
   }
  },
  {
   "cell_type": "markdown",
   "source": [
    "## First create separate images from each wsi image, with annotations in the unstained folder. crop the images (total of 24 annotation, so 24 images per whole slide) and save them first in a different folder in same path. Then pad the images and then save them. Then using those padded images, register them to one another (doesn't matter which way since there are only two images)\n",
    "## the path is in: \\\\shelter\\Kyu\\unstain2stain\\biomax_images"
   ],
   "metadata": {
    "collapsed": false
   }
  },
  {
   "cell_type": "code",
   "execution_count": null,
   "outputs": [],
   "source": [],
   "metadata": {
    "collapsed": false
   }
  },
  {
   "cell_type": "code",
   "execution_count": null,
   "outputs": [],
   "source": [],
   "metadata": {
    "collapsed": false
   }
  },
  {
   "cell_type": "code",
   "execution_count": null,
   "outputs": [],
   "source": [
    "# another side job: register each section of \\\\shelter\\Kyu\\unstain2stain\\biomax_images\n",
    "\n",
    "#first create registered image of two adjacent images manually:\n",
    "img_files_path = [_ for _ in os.listdir(r'\\\\shelter\\Kyu\\unstain2stain\\biomax_images') if _.endswith(\".jpg\")]\n",
    "img_files_path_complete = [os.path.join(r'\\\\shelter\\Kyu\\unstain2stain\\biomax_images', x) for x in img_files_path]\n",
    "img_files_path_1 = [x.replace('.jpg','') for x in img_files_path]\n",
    "\n",
    "num = int(len(img_files_path)/2) - 1 #idx = 16, or 17th image\n",
    "num_plus1 = num + 1 #idx = 17, or 18th image\n",
    "num_minus1 = num - 1 #idx = 15, or 16th image\n",
    "\n",
    "start = time()\n",
    "\n",
    "ref_img_path = img_files_path_complete[num]\n",
    "mov_img_path = img_files_path_complete[num_plus1]\n",
    "ref_img = np.array(Image.open(ref_img_path))\n",
    "mov_img = np.array(Image.open(mov_img_path))\n",
    "\n",
    "ref_img_g = rgb2gray(ref_img)\n",
    "mov_img_g = rgb2gray(mov_img)\n",
    "v, u = optical_flow_tvl1(ref_img_g, mov_img_g)\n",
    "nr, nc = ref_img_g.shape\n",
    "row_coords, col_coords = np.meshgrid(np.arange(nr), np.arange(nc),\n",
    "                                     indexing='ij')\n",
    "end = time()\n",
    "\n",
    "start = time()\n",
    "\n",
    "mov_img_warp_ra =[]\n",
    "for i in range(3):\n",
    "    mov_img_warp = warp(mov_img[:,:,i], np.array([row_coords + v, col_coords + u]),mode='edge')\n",
    "    mov_img_warp_ra.append(mov_img_warp)\n",
    "\n",
    "r = np.array(mov_img_warp_ra[0]*255).astype('uint8')\n",
    "g = np.array(mov_img_warp_ra[1]*255).astype('uint8')\n",
    "b = np.array(mov_img_warp_ra[2]*255).astype('uint8')\n",
    "rgb = np.stack([r,g,b],axis=2)\n",
    "reg_img = Image.fromarray(rgb)\n",
    "reg_img.save(r'\\\\fatherserverdw\\kyuex\\image\\CLUE\\3D study\\he\\CoarseRegIM\\run4_16xr_jpg_rszfc1_padsz1000\\opticalflow_registered_image\\\\' + str(img_files_path_1[num_plus1]) + '.jpg')\n",
    "\n",
    "end = time()\n",
    "print(\"time it took to register: \"+  str(end-start) + \" seconds\")"
   ],
   "metadata": {
    "collapsed": false
   }
  },
  {
   "cell_type": "code",
   "execution_count": null,
   "outputs": [],
   "source": [],
   "metadata": {
    "collapsed": false
   }
  }
 ],
 "metadata": {
  "kernelspec": {
   "display_name": "Python 3",
   "language": "python",
   "name": "python3"
  },
  "language_info": {
   "codemirror_mode": {
    "name": "ipython",
    "version": 2
   },
   "file_extension": ".py",
   "mimetype": "text/x-python",
   "name": "python",
   "nbconvert_exporter": "python",
   "pygments_lexer": "ipython2",
   "version": "2.7.6"
  }
 },
 "nbformat": 4,
 "nbformat_minor": 0
}
